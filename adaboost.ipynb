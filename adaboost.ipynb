{
 "cells": [
  {
   "cell_type": "code",
   "execution_count": 1,
   "metadata": {},
   "outputs": [],
   "source": [
    "from src.algo.boost.ada import load_xingye_data , AdaBoost\n",
    "import pandas as pd\n",
    "\n",
    "factor_data = load_xingye_data()\n",
    "MDTs = factor_data['date'].unique()   \n",
    "windows_len = 24 \n",
    "\n",
    "ic_dfs = []\n",
    "start_idx = len(MDTs) - 2\n"
   ]
  },
  {
   "cell_type": "code",
   "execution_count": 2,
   "metadata": {},
   "outputs": [
    {
     "name": "stdout",
     "output_type": "stream",
     "text": [
      "Train: 20210930 - 20230831 , Test : 20230928\n"
     ]
    }
   ],
   "source": [
    "import cProfile\n",
    "idx = len(MDTs) - 2\n",
    "\n",
    "with cProfile.Profile() as t:\n",
    "    input_df = AdaBoost.df_input(factor_data , idx , windows_len)\n",
    "\n",
    "df = pd.DataFrame(getattr(t , 'getstats')(), \n",
    "             columns=['full_name', 'ncalls', 'ccalls', 'tottime', 'cumtime' , 'caller'])"
   ]
  },
  {
   "cell_type": "code",
   "execution_count": 4,
   "metadata": {},
   "outputs": [
    {
     "name": "stdout",
     "output_type": "stream",
     "text": [
      "Train: 20210930 - 20230831 , Test : 20230928\n",
      "Train: 20211029 - 20230928 , Test : 20231031\n",
      "                ic   rankic\n",
      "20230928  0.019810  0.07644\n",
      "20231031  0.061668  0.13238\n"
     ]
    }
   ],
   "source": [
    "start_idx = len(MDTs) - 2\n",
    "for idx in range(max(windows_len , start_idx) , len(MDTs)):\n",
    "    input_df = AdaBoost.df_input(factor_data , idx , windows_len)\n",
    "    ada = AdaBoost(**input_df)\n",
    "    ic_dfs.append(ada.fit(silence = True).calc_ic())\n",
    "df = pd.concat(ic_dfs)\n",
    "print(df)"
   ]
  },
  {
   "cell_type": "code",
   "execution_count": null,
   "metadata": {},
   "outputs": [],
   "source": []
  },
  {
   "cell_type": "code",
   "execution_count": null,
   "metadata": {},
   "outputs": [],
   "source": []
  },
  {
   "cell_type": "code",
   "execution_count": 1,
   "metadata": {},
   "outputs": [],
   "source": [
    "import numpy as np\n",
    "import pandas as pd\n",
    "from tqdm import tqdm\n",
    "import os , torch\n",
    "from src.algo.boost.ada import AdaBoost\n",
    "\n",
    "factor_data = pd.read_feather('./data/TreeData/CombStdByZXMkt_All_TrainLabel.feather') # 训练集，带Label\n",
    "factor_data['date'] = factor_data['date'].astype(str).str.replace('-','').astype(int)\n",
    "v = factor_data['StockID'].astype(str).str.slice(0, 6).replace({'T00018' : '600018'})\n",
    "v = v.where(v.str.isdigit() , '-1').astype(int)\n",
    "factor_data['secid'] = v\n",
    "factor_data = factor_data.drop(columns=['ZX','mktVal','mktValRank','StockID']).sort_values(['secid','date'])\n",
    "\n",
    "MDTs = factor_data['date'].unique()   # 测试集日期-完整\n",
    "windowsLen = 24 # 回望过去的月数\n"
   ]
  },
  {
   "cell_type": "code",
   "execution_count": 2,
   "metadata": {},
   "outputs": [],
   "source": [
    "def parse_input_df(df : pd.DataFrame , training : bool , n_bins : int , label_column = 'y_label') -> pd.DataFrame:\n",
    "    x = df.drop(columns=[label_column])\n",
    "    y = df[label_column]\n",
    "\n",
    "    if y.isnull().sum() / len(y) > 0.2: print('Error: label missing ratio > 0.2')\n",
    "    \n",
    "    df = (x.groupby('date').rank(pct = True) * n_bins).clip(upper=n_bins - 1).join(y)\n",
    "    if training: \n",
    "        #missing = df.isnull().sum() / len(df)\n",
    "        #df = df.loc[:, missing[missing < 0.2].index.values] # .fillna(0.0)\n",
    "        df = df.loc[:, df.isnull().sum() / len(df) < 0.2] # .fillna(0.0)\n",
    "        df = df[df[label_column] != 0].dropna(subset=[label_column])\n",
    "    return df"
   ]
  },
  {
   "cell_type": "code",
   "execution_count": 4,
   "metadata": {},
   "outputs": [
    {
     "data": {
      "text/plain": [
       "array([20050131, 20050228, 20050331, 20050429, 20050531, 20050630,\n",
       "       20050729, 20050831, 20050930, 20051031, 20051130, 20051230,\n",
       "       20060125, 20060228, 20060331, 20060428, 20060531, 20060630,\n",
       "       20060731, 20060831, 20060929, 20061031, 20061130, 20061229,\n",
       "       20070131, 20070228, 20070330, 20070430, 20070531, 20070629,\n",
       "       20070731, 20070831, 20070928, 20071031, 20071130, 20071228,\n",
       "       20080131, 20080229, 20080331, 20080430, 20080530, 20080630,\n",
       "       20080731, 20080829, 20080926, 20081031, 20081128, 20081231,\n",
       "       20090123, 20090227, 20090331, 20090430, 20090527, 20090630,\n",
       "       20090731, 20090831, 20090930, 20091030, 20091130, 20091231,\n",
       "       20100129, 20100226, 20100331, 20100430, 20100531, 20100630,\n",
       "       20100730, 20100831, 20100930, 20101029, 20101130, 20101231,\n",
       "       20110131, 20110228, 20110331, 20110429, 20110531, 20110630,\n",
       "       20110729, 20110831, 20110930, 20111031, 20111130, 20111230,\n",
       "       20120131, 20120229, 20120330, 20120427, 20120531, 20120629,\n",
       "       20120731, 20120831, 20120928, 20121031, 20121130, 20121231,\n",
       "       20130131, 20130228, 20130329, 20130426, 20130531, 20130628,\n",
       "       20130731, 20130830, 20130930, 20131031, 20131129, 20131231,\n",
       "       20140130, 20140228, 20140331, 20140430, 20140530, 20140630,\n",
       "       20140731, 20140829, 20140930, 20141031, 20141128, 20141231,\n",
       "       20150130, 20150227, 20150331, 20150430, 20150529, 20150630,\n",
       "       20150731, 20150831, 20150930, 20151030, 20151130, 20151231,\n",
       "       20160129, 20160229, 20160331, 20160429, 20160531, 20160630,\n",
       "       20160729, 20160831, 20160930, 20161031, 20161130, 20161230,\n",
       "       20170126, 20170228, 20170331, 20170428, 20170531, 20170630,\n",
       "       20170731, 20170831, 20170929, 20171031, 20171130, 20171229,\n",
       "       20180131, 20180228, 20180330, 20180427, 20180531, 20180629,\n",
       "       20180731, 20180831, 20180928, 20181031, 20181130, 20181228,\n",
       "       20190131, 20190228, 20190329, 20190430, 20190531, 20190628,\n",
       "       20190731, 20190830, 20190930, 20191031, 20191129, 20191231,\n",
       "       20200123, 20200228, 20200331, 20200430, 20200529, 20200630,\n",
       "       20200731, 20200831, 20200930, 20201030, 20201130, 20201231,\n",
       "       20210129, 20210226, 20210331, 20210430, 20210531, 20210630,\n",
       "       20210730, 20210831, 20210930, 20211029, 20211130, 20211231,\n",
       "       20220128, 20220228, 20220331, 20220429, 20220531, 20220630,\n",
       "       20220729, 20220831, 20220930, 20221031, 20221130, 20221230,\n",
       "       20230131, 20230228, 20230331, 20230428, 20230531, 20230630,\n",
       "       20230731, 20230831, 20230928, 20231031])"
      ]
     },
     "execution_count": 4,
     "metadata": {},
     "output_type": "execute_result"
    }
   ],
   "source": [
    "MDTs"
   ]
  },
  {
   "cell_type": "code",
   "execution_count": 3,
   "metadata": {},
   "outputs": [
    {
     "name": "stdout",
     "output_type": "stream",
     "text": [
      "Train: 20180131 - 20191231 , Test : 20200123\n"
     ]
    },
    {
     "ename": "KeyboardInterrupt",
     "evalue": "",
     "output_type": "error",
     "traceback": [
      "\u001b[1;31m---------------------------------------------------------------------------\u001b[0m",
      "\u001b[1;31mKeyboardInterrupt\u001b[0m                         Traceback (most recent call last)",
      "Cell \u001b[1;32mIn[3], line 13\u001b[0m\n\u001b[0;32m      9\u001b[0m train_data \u001b[38;5;241m=\u001b[39m factor_data\u001b[38;5;241m.\u001b[39mloc[(factor_data[\u001b[38;5;124m'\u001b[39m\u001b[38;5;124mdate\u001b[39m\u001b[38;5;124m'\u001b[39m] \u001b[38;5;241m>\u001b[39m\u001b[38;5;241m=\u001b[39m idtStart) \u001b[38;5;241m&\u001b[39m (factor_data[\u001b[38;5;124m'\u001b[39m\u001b[38;5;124mdate\u001b[39m\u001b[38;5;124m'\u001b[39m] \u001b[38;5;241m<\u001b[39m\u001b[38;5;241m=\u001b[39m idtEnd),:]\u001b[38;5;241m.\u001b[39m\\\n\u001b[0;32m     10\u001b[0m     drop(columns\u001b[38;5;241m=\u001b[39m[\u001b[38;5;124m'\u001b[39m\u001b[38;5;124mnextRtnM\u001b[39m\u001b[38;5;124m'\u001b[39m])\u001b[38;5;241m.\u001b[39mrename(columns\u001b[38;5;241m=\u001b[39m{\u001b[38;5;124m'\u001b[39m\u001b[38;5;124mnextRtnM_Label\u001b[39m\u001b[38;5;124m'\u001b[39m:\u001b[38;5;124m'\u001b[39m\u001b[38;5;124my_label\u001b[39m\u001b[38;5;124m'\u001b[39m})\u001b[38;5;241m.\u001b[39mset_index([\u001b[38;5;124m'\u001b[39m\u001b[38;5;124mdate\u001b[39m\u001b[38;5;124m'\u001b[39m, \u001b[38;5;124m'\u001b[39m\u001b[38;5;124msecid\u001b[39m\u001b[38;5;124m'\u001b[39m])\n\u001b[0;32m     11\u001b[0m test_data \u001b[38;5;241m=\u001b[39m factor_data\u001b[38;5;241m.\u001b[39mloc[factor_data[\u001b[38;5;124m'\u001b[39m\u001b[38;5;124mdate\u001b[39m\u001b[38;5;124m'\u001b[39m] \u001b[38;5;241m==\u001b[39m idtTest,:]\u001b[38;5;241m.\u001b[39m\\\n\u001b[0;32m     12\u001b[0m     drop(columns\u001b[38;5;241m=\u001b[39m[\u001b[38;5;124m'\u001b[39m\u001b[38;5;124mnextRtnM_Label\u001b[39m\u001b[38;5;124m'\u001b[39m])\u001b[38;5;241m.\u001b[39mrename(columns\u001b[38;5;241m=\u001b[39m{\u001b[38;5;124m'\u001b[39m\u001b[38;5;124mnextRtnM\u001b[39m\u001b[38;5;124m'\u001b[39m:\u001b[38;5;124m'\u001b[39m\u001b[38;5;124my_label\u001b[39m\u001b[38;5;124m'\u001b[39m})\u001b[38;5;241m.\u001b[39mset_index([\u001b[38;5;124m'\u001b[39m\u001b[38;5;124mdate\u001b[39m\u001b[38;5;124m'\u001b[39m, \u001b[38;5;124m'\u001b[39m\u001b[38;5;124msecid\u001b[39m\u001b[38;5;124m'\u001b[39m])\n\u001b[1;32m---> 13\u001b[0m train \u001b[38;5;241m=\u001b[39m \u001b[43mparse_input_df\u001b[49m\u001b[43m(\u001b[49m\u001b[43mtrain_data\u001b[49m\u001b[43m \u001b[49m\u001b[43m,\u001b[49m\u001b[43m \u001b[49m\u001b[38;5;28;43;01mTrue\u001b[39;49;00m\u001b[43m \u001b[49m\u001b[43m,\u001b[49m\u001b[43m \u001b[49m\u001b[38;5;241;43m20\u001b[39;49m\u001b[43m)\u001b[49m\n\u001b[0;32m     14\u001b[0m test \u001b[38;5;241m=\u001b[39m parse_input_df(test_data , \u001b[38;5;28;01mFalse\u001b[39;00m , \u001b[38;5;241m20\u001b[39m)\u001b[38;5;241m.\u001b[39mloc[:,train\u001b[38;5;241m.\u001b[39mcolumns\u001b[38;5;241m.\u001b[39mvalues]\n\u001b[0;32m     15\u001b[0m ada \u001b[38;5;241m=\u001b[39m AdaBoost(train \u001b[38;5;241m=\u001b[39m train , test \u001b[38;5;241m=\u001b[39m test)\n",
      "Cell \u001b[1;32mIn[2], line 7\u001b[0m, in \u001b[0;36mparse_input_df\u001b[1;34m(df, training, n_bins, label_column)\u001b[0m\n\u001b[0;32m      3\u001b[0m y \u001b[38;5;241m=\u001b[39m df[label_column]\n\u001b[0;32m      5\u001b[0m \u001b[38;5;28;01mif\u001b[39;00m y\u001b[38;5;241m.\u001b[39misnull()\u001b[38;5;241m.\u001b[39msum() \u001b[38;5;241m/\u001b[39m \u001b[38;5;28mlen\u001b[39m(y) \u001b[38;5;241m>\u001b[39m \u001b[38;5;241m0.2\u001b[39m: \u001b[38;5;28mprint\u001b[39m(\u001b[38;5;124m'\u001b[39m\u001b[38;5;124mError: label missing ratio > 0.2\u001b[39m\u001b[38;5;124m'\u001b[39m)\n\u001b[1;32m----> 7\u001b[0m df \u001b[38;5;241m=\u001b[39m (\u001b[43mx\u001b[49m\u001b[38;5;241;43m.\u001b[39;49m\u001b[43mgroupby\u001b[49m\u001b[43m(\u001b[49m\u001b[38;5;124;43m'\u001b[39;49m\u001b[38;5;124;43mdate\u001b[39;49m\u001b[38;5;124;43m'\u001b[39;49m\u001b[43m)\u001b[49m\u001b[38;5;241;43m.\u001b[39;49m\u001b[43mrank\u001b[49m\u001b[43m(\u001b[49m\u001b[43mpct\u001b[49m\u001b[43m \u001b[49m\u001b[38;5;241;43m=\u001b[39;49m\u001b[43m \u001b[49m\u001b[38;5;28;43;01mTrue\u001b[39;49;00m\u001b[43m)\u001b[49m \u001b[38;5;241m*\u001b[39m n_bins)\u001b[38;5;241m.\u001b[39mclip(upper\u001b[38;5;241m=\u001b[39mn_bins \u001b[38;5;241m-\u001b[39m \u001b[38;5;241m1\u001b[39m)\u001b[38;5;241m.\u001b[39mjoin(y)\n\u001b[0;32m      8\u001b[0m \u001b[38;5;28;01mif\u001b[39;00m training: \n\u001b[0;32m      9\u001b[0m     \u001b[38;5;66;03m#missing = df.isnull().sum() / len(df)\u001b[39;00m\n\u001b[0;32m     10\u001b[0m     \u001b[38;5;66;03m#df = df.loc[:, missing[missing < 0.2].index.values] # .fillna(0.0)\u001b[39;00m\n\u001b[0;32m     11\u001b[0m     df \u001b[38;5;241m=\u001b[39m df\u001b[38;5;241m.\u001b[39mloc[:, df\u001b[38;5;241m.\u001b[39misnull()\u001b[38;5;241m.\u001b[39msum() \u001b[38;5;241m/\u001b[39m \u001b[38;5;28mlen\u001b[39m(df) \u001b[38;5;241m<\u001b[39m \u001b[38;5;241m0.2\u001b[39m] \u001b[38;5;66;03m# .fillna(0.0)\u001b[39;00m\n",
      "File \u001b[1;32mc:\\Users\\jinmeng\\AppData\\Local\\Programs\\Python\\Python311\\Lib\\site-packages\\pandas\\core\\groupby\\groupby.py:4809\u001b[0m, in \u001b[0;36mGroupBy.rank\u001b[1;34m(self, method, ascending, na_option, pct, axis)\u001b[0m\n\u001b[0;32m   4804\u001b[0m     result \u001b[38;5;241m=\u001b[39m \u001b[38;5;28mself\u001b[39m\u001b[38;5;241m.\u001b[39m_python_apply_general(\n\u001b[0;32m   4805\u001b[0m         f, \u001b[38;5;28mself\u001b[39m\u001b[38;5;241m.\u001b[39m_selected_obj, is_transform\u001b[38;5;241m=\u001b[39m\u001b[38;5;28;01mTrue\u001b[39;00m\n\u001b[0;32m   4806\u001b[0m     )\n\u001b[0;32m   4807\u001b[0m     \u001b[38;5;28;01mreturn\u001b[39;00m result\n\u001b[1;32m-> 4809\u001b[0m \u001b[38;5;28;01mreturn\u001b[39;00m \u001b[38;5;28;43mself\u001b[39;49m\u001b[38;5;241;43m.\u001b[39;49m\u001b[43m_cython_transform\u001b[49m\u001b[43m(\u001b[49m\n\u001b[0;32m   4810\u001b[0m \u001b[43m    \u001b[49m\u001b[38;5;124;43m\"\u001b[39;49m\u001b[38;5;124;43mrank\u001b[39;49m\u001b[38;5;124;43m\"\u001b[39;49m\u001b[43m,\u001b[49m\n\u001b[0;32m   4811\u001b[0m \u001b[43m    \u001b[49m\u001b[43mnumeric_only\u001b[49m\u001b[38;5;241;43m=\u001b[39;49m\u001b[38;5;28;43;01mFalse\u001b[39;49;00m\u001b[43m,\u001b[49m\n\u001b[0;32m   4812\u001b[0m \u001b[43m    \u001b[49m\u001b[43maxis\u001b[49m\u001b[38;5;241;43m=\u001b[39;49m\u001b[43maxis\u001b[49m\u001b[43m,\u001b[49m\n\u001b[0;32m   4813\u001b[0m \u001b[43m    \u001b[49m\u001b[38;5;241;43m*\u001b[39;49m\u001b[38;5;241;43m*\u001b[39;49m\u001b[43mkwargs\u001b[49m\u001b[43m,\u001b[49m\n\u001b[0;32m   4814\u001b[0m \u001b[43m\u001b[49m\u001b[43m)\u001b[49m\n",
      "File \u001b[1;32mc:\\Users\\jinmeng\\AppData\\Local\\Programs\\Python\\Python311\\Lib\\site-packages\\pandas\\core\\groupby\\generic.py:1702\u001b[0m, in \u001b[0;36mDataFrameGroupBy._cython_transform\u001b[1;34m(self, how, numeric_only, axis, **kwargs)\u001b[0m\n\u001b[0;32m   1696\u001b[0m     \u001b[38;5;28;01mreturn\u001b[39;00m \u001b[38;5;28mself\u001b[39m\u001b[38;5;241m.\u001b[39m_grouper\u001b[38;5;241m.\u001b[39m_cython_operation(\n\u001b[0;32m   1697\u001b[0m         \u001b[38;5;124m\"\u001b[39m\u001b[38;5;124mtransform\u001b[39m\u001b[38;5;124m\"\u001b[39m, bvalues, how, \u001b[38;5;241m1\u001b[39m, \u001b[38;5;241m*\u001b[39m\u001b[38;5;241m*\u001b[39mkwargs\n\u001b[0;32m   1698\u001b[0m     )\n\u001b[0;32m   1700\u001b[0m \u001b[38;5;66;03m# We could use `mgr.apply` here and not have to set_axis, but\u001b[39;00m\n\u001b[0;32m   1701\u001b[0m \u001b[38;5;66;03m#  we would have to do shape gymnastics for ArrayManager compat\u001b[39;00m\n\u001b[1;32m-> 1702\u001b[0m res_mgr \u001b[38;5;241m=\u001b[39m \u001b[43mmgr\u001b[49m\u001b[38;5;241;43m.\u001b[39;49m\u001b[43mgrouped_reduce\u001b[49m\u001b[43m(\u001b[49m\u001b[43marr_func\u001b[49m\u001b[43m)\u001b[49m\n\u001b[0;32m   1703\u001b[0m res_mgr\u001b[38;5;241m.\u001b[39mset_axis(\u001b[38;5;241m1\u001b[39m, mgr\u001b[38;5;241m.\u001b[39maxes[\u001b[38;5;241m1\u001b[39m])\n\u001b[0;32m   1705\u001b[0m res_df \u001b[38;5;241m=\u001b[39m \u001b[38;5;28mself\u001b[39m\u001b[38;5;241m.\u001b[39mobj\u001b[38;5;241m.\u001b[39m_constructor_from_mgr(res_mgr, axes\u001b[38;5;241m=\u001b[39mres_mgr\u001b[38;5;241m.\u001b[39maxes)\n",
      "File \u001b[1;32mc:\\Users\\jinmeng\\AppData\\Local\\Programs\\Python\\Python311\\Lib\\site-packages\\pandas\\core\\internals\\managers.py:1472\u001b[0m, in \u001b[0;36mBlockManager.grouped_reduce\u001b[1;34m(self, func)\u001b[0m\n\u001b[0;32m   1470\u001b[0m             result_blocks \u001b[38;5;241m=\u001b[39m extend_blocks(applied, result_blocks)\n\u001b[0;32m   1471\u001b[0m     \u001b[38;5;28;01melse\u001b[39;00m:\n\u001b[1;32m-> 1472\u001b[0m         applied \u001b[38;5;241m=\u001b[39m \u001b[43mblk\u001b[49m\u001b[38;5;241;43m.\u001b[39;49m\u001b[43mapply\u001b[49m\u001b[43m(\u001b[49m\u001b[43mfunc\u001b[49m\u001b[43m)\u001b[49m\n\u001b[0;32m   1473\u001b[0m         result_blocks \u001b[38;5;241m=\u001b[39m extend_blocks(applied, result_blocks)\n\u001b[0;32m   1475\u001b[0m \u001b[38;5;28;01mif\u001b[39;00m \u001b[38;5;28mlen\u001b[39m(result_blocks) \u001b[38;5;241m==\u001b[39m \u001b[38;5;241m0\u001b[39m:\n",
      "File \u001b[1;32mc:\\Users\\jinmeng\\AppData\\Local\\Programs\\Python\\Python311\\Lib\\site-packages\\pandas\\core\\internals\\blocks.py:393\u001b[0m, in \u001b[0;36mBlock.apply\u001b[1;34m(self, func, **kwargs)\u001b[0m\n\u001b[0;32m    387\u001b[0m \u001b[38;5;129m@final\u001b[39m\n\u001b[0;32m    388\u001b[0m \u001b[38;5;28;01mdef\u001b[39;00m \u001b[38;5;21mapply\u001b[39m(\u001b[38;5;28mself\u001b[39m, func, \u001b[38;5;241m*\u001b[39m\u001b[38;5;241m*\u001b[39mkwargs) \u001b[38;5;241m-\u001b[39m\u001b[38;5;241m>\u001b[39m \u001b[38;5;28mlist\u001b[39m[Block]:\n\u001b[0;32m    389\u001b[0m \u001b[38;5;250m    \u001b[39m\u001b[38;5;124;03m\"\"\"\u001b[39;00m\n\u001b[0;32m    390\u001b[0m \u001b[38;5;124;03m    apply the function to my values; return a block if we are not\u001b[39;00m\n\u001b[0;32m    391\u001b[0m \u001b[38;5;124;03m    one\u001b[39;00m\n\u001b[0;32m    392\u001b[0m \u001b[38;5;124;03m    \"\"\"\u001b[39;00m\n\u001b[1;32m--> 393\u001b[0m     result \u001b[38;5;241m=\u001b[39m \u001b[43mfunc\u001b[49m\u001b[43m(\u001b[49m\u001b[38;5;28;43mself\u001b[39;49m\u001b[38;5;241;43m.\u001b[39;49m\u001b[43mvalues\u001b[49m\u001b[43m,\u001b[49m\u001b[43m \u001b[49m\u001b[38;5;241;43m*\u001b[39;49m\u001b[38;5;241;43m*\u001b[39;49m\u001b[43mkwargs\u001b[49m\u001b[43m)\u001b[49m\n\u001b[0;32m    395\u001b[0m     result \u001b[38;5;241m=\u001b[39m maybe_coerce_values(result)\n\u001b[0;32m    396\u001b[0m     \u001b[38;5;28;01mreturn\u001b[39;00m \u001b[38;5;28mself\u001b[39m\u001b[38;5;241m.\u001b[39m_split_op_result(result)\n",
      "File \u001b[1;32mc:\\Users\\jinmeng\\AppData\\Local\\Programs\\Python\\Python311\\Lib\\site-packages\\pandas\\core\\groupby\\generic.py:1696\u001b[0m, in \u001b[0;36mDataFrameGroupBy._cython_transform.<locals>.arr_func\u001b[1;34m(bvalues)\u001b[0m\n\u001b[0;32m   1695\u001b[0m \u001b[38;5;28;01mdef\u001b[39;00m \u001b[38;5;21marr_func\u001b[39m(bvalues: ArrayLike) \u001b[38;5;241m-\u001b[39m\u001b[38;5;241m>\u001b[39m ArrayLike:\n\u001b[1;32m-> 1696\u001b[0m     \u001b[38;5;28;01mreturn\u001b[39;00m \u001b[38;5;28;43mself\u001b[39;49m\u001b[38;5;241;43m.\u001b[39;49m\u001b[43m_grouper\u001b[49m\u001b[38;5;241;43m.\u001b[39;49m\u001b[43m_cython_operation\u001b[49m\u001b[43m(\u001b[49m\n\u001b[0;32m   1697\u001b[0m \u001b[43m        \u001b[49m\u001b[38;5;124;43m\"\u001b[39;49m\u001b[38;5;124;43mtransform\u001b[39;49m\u001b[38;5;124;43m\"\u001b[39;49m\u001b[43m,\u001b[49m\u001b[43m \u001b[49m\u001b[43mbvalues\u001b[49m\u001b[43m,\u001b[49m\u001b[43m \u001b[49m\u001b[43mhow\u001b[49m\u001b[43m,\u001b[49m\u001b[43m \u001b[49m\u001b[38;5;241;43m1\u001b[39;49m\u001b[43m,\u001b[49m\u001b[43m \u001b[49m\u001b[38;5;241;43m*\u001b[39;49m\u001b[38;5;241;43m*\u001b[39;49m\u001b[43mkwargs\u001b[49m\n\u001b[0;32m   1698\u001b[0m \u001b[43m    \u001b[49m\u001b[43m)\u001b[49m\n",
      "File \u001b[1;32mc:\\Users\\jinmeng\\AppData\\Local\\Programs\\Python\\Python311\\Lib\\site-packages\\pandas\\core\\groupby\\ops.py:831\u001b[0m, in \u001b[0;36mBaseGrouper._cython_operation\u001b[1;34m(self, kind, values, how, axis, min_count, **kwargs)\u001b[0m\n\u001b[0;32m    829\u001b[0m ids, _, _ \u001b[38;5;241m=\u001b[39m \u001b[38;5;28mself\u001b[39m\u001b[38;5;241m.\u001b[39mgroup_info\n\u001b[0;32m    830\u001b[0m ngroups \u001b[38;5;241m=\u001b[39m \u001b[38;5;28mself\u001b[39m\u001b[38;5;241m.\u001b[39mngroups\n\u001b[1;32m--> 831\u001b[0m \u001b[38;5;28;01mreturn\u001b[39;00m \u001b[43mcy_op\u001b[49m\u001b[38;5;241;43m.\u001b[39;49m\u001b[43mcython_operation\u001b[49m\u001b[43m(\u001b[49m\n\u001b[0;32m    832\u001b[0m \u001b[43m    \u001b[49m\u001b[43mvalues\u001b[49m\u001b[38;5;241;43m=\u001b[39;49m\u001b[43mvalues\u001b[49m\u001b[43m,\u001b[49m\n\u001b[0;32m    833\u001b[0m \u001b[43m    \u001b[49m\u001b[43maxis\u001b[49m\u001b[38;5;241;43m=\u001b[39;49m\u001b[43maxis\u001b[49m\u001b[43m,\u001b[49m\n\u001b[0;32m    834\u001b[0m \u001b[43m    \u001b[49m\u001b[43mmin_count\u001b[49m\u001b[38;5;241;43m=\u001b[39;49m\u001b[43mmin_count\u001b[49m\u001b[43m,\u001b[49m\n\u001b[0;32m    835\u001b[0m \u001b[43m    \u001b[49m\u001b[43mcomp_ids\u001b[49m\u001b[38;5;241;43m=\u001b[39;49m\u001b[43mids\u001b[49m\u001b[43m,\u001b[49m\n\u001b[0;32m    836\u001b[0m \u001b[43m    \u001b[49m\u001b[43mngroups\u001b[49m\u001b[38;5;241;43m=\u001b[39;49m\u001b[43mngroups\u001b[49m\u001b[43m,\u001b[49m\n\u001b[0;32m    837\u001b[0m \u001b[43m    \u001b[49m\u001b[38;5;241;43m*\u001b[39;49m\u001b[38;5;241;43m*\u001b[39;49m\u001b[43mkwargs\u001b[49m\u001b[43m,\u001b[49m\n\u001b[0;32m    838\u001b[0m \u001b[43m\u001b[49m\u001b[43m)\u001b[49m\n",
      "File \u001b[1;32mc:\\Users\\jinmeng\\AppData\\Local\\Programs\\Python\\Python311\\Lib\\site-packages\\pandas\\core\\groupby\\ops.py:550\u001b[0m, in \u001b[0;36mWrappedCythonOp.cython_operation\u001b[1;34m(self, values, axis, min_count, comp_ids, ngroups, **kwargs)\u001b[0m\n\u001b[0;32m    539\u001b[0m \u001b[38;5;28;01mif\u001b[39;00m \u001b[38;5;129;01mnot\u001b[39;00m \u001b[38;5;28misinstance\u001b[39m(values, np\u001b[38;5;241m.\u001b[39mndarray):\n\u001b[0;32m    540\u001b[0m     \u001b[38;5;66;03m# i.e. ExtensionArray\u001b[39;00m\n\u001b[0;32m    541\u001b[0m     \u001b[38;5;28;01mreturn\u001b[39;00m values\u001b[38;5;241m.\u001b[39m_groupby_op(\n\u001b[0;32m    542\u001b[0m         how\u001b[38;5;241m=\u001b[39m\u001b[38;5;28mself\u001b[39m\u001b[38;5;241m.\u001b[39mhow,\n\u001b[0;32m    543\u001b[0m         has_dropped_na\u001b[38;5;241m=\u001b[39m\u001b[38;5;28mself\u001b[39m\u001b[38;5;241m.\u001b[39mhas_dropped_na,\n\u001b[1;32m   (...)\u001b[0m\n\u001b[0;32m    547\u001b[0m         \u001b[38;5;241m*\u001b[39m\u001b[38;5;241m*\u001b[39mkwargs,\n\u001b[0;32m    548\u001b[0m     )\n\u001b[1;32m--> 550\u001b[0m \u001b[38;5;28;01mreturn\u001b[39;00m \u001b[38;5;28;43mself\u001b[39;49m\u001b[38;5;241;43m.\u001b[39;49m\u001b[43m_cython_op_ndim_compat\u001b[49m\u001b[43m(\u001b[49m\n\u001b[0;32m    551\u001b[0m \u001b[43m    \u001b[49m\u001b[43mvalues\u001b[49m\u001b[43m,\u001b[49m\n\u001b[0;32m    552\u001b[0m \u001b[43m    \u001b[49m\u001b[43mmin_count\u001b[49m\u001b[38;5;241;43m=\u001b[39;49m\u001b[43mmin_count\u001b[49m\u001b[43m,\u001b[49m\n\u001b[0;32m    553\u001b[0m \u001b[43m    \u001b[49m\u001b[43mngroups\u001b[49m\u001b[38;5;241;43m=\u001b[39;49m\u001b[43mngroups\u001b[49m\u001b[43m,\u001b[49m\n\u001b[0;32m    554\u001b[0m \u001b[43m    \u001b[49m\u001b[43mcomp_ids\u001b[49m\u001b[38;5;241;43m=\u001b[39;49m\u001b[43mcomp_ids\u001b[49m\u001b[43m,\u001b[49m\n\u001b[0;32m    555\u001b[0m \u001b[43m    \u001b[49m\u001b[43mmask\u001b[49m\u001b[38;5;241;43m=\u001b[39;49m\u001b[38;5;28;43;01mNone\u001b[39;49;00m\u001b[43m,\u001b[49m\n\u001b[0;32m    556\u001b[0m \u001b[43m    \u001b[49m\u001b[38;5;241;43m*\u001b[39;49m\u001b[38;5;241;43m*\u001b[39;49m\u001b[43mkwargs\u001b[49m\u001b[43m,\u001b[49m\n\u001b[0;32m    557\u001b[0m \u001b[43m\u001b[49m\u001b[43m)\u001b[49m\n",
      "File \u001b[1;32mc:\\Users\\jinmeng\\AppData\\Local\\Programs\\Python\\Python311\\Lib\\site-packages\\pandas\\core\\groupby\\ops.py:344\u001b[0m, in \u001b[0;36mWrappedCythonOp._cython_op_ndim_compat\u001b[1;34m(self, values, min_count, ngroups, comp_ids, mask, result_mask, **kwargs)\u001b[0m\n\u001b[0;32m    341\u001b[0m     \u001b[38;5;66;03m# otherwise we have OHLC\u001b[39;00m\n\u001b[0;32m    342\u001b[0m     \u001b[38;5;28;01mreturn\u001b[39;00m res\u001b[38;5;241m.\u001b[39mT\n\u001b[1;32m--> 344\u001b[0m \u001b[38;5;28;01mreturn\u001b[39;00m \u001b[38;5;28;43mself\u001b[39;49m\u001b[38;5;241;43m.\u001b[39;49m\u001b[43m_call_cython_op\u001b[49m\u001b[43m(\u001b[49m\n\u001b[0;32m    345\u001b[0m \u001b[43m    \u001b[49m\u001b[43mvalues\u001b[49m\u001b[43m,\u001b[49m\n\u001b[0;32m    346\u001b[0m \u001b[43m    \u001b[49m\u001b[43mmin_count\u001b[49m\u001b[38;5;241;43m=\u001b[39;49m\u001b[43mmin_count\u001b[49m\u001b[43m,\u001b[49m\n\u001b[0;32m    347\u001b[0m \u001b[43m    \u001b[49m\u001b[43mngroups\u001b[49m\u001b[38;5;241;43m=\u001b[39;49m\u001b[43mngroups\u001b[49m\u001b[43m,\u001b[49m\n\u001b[0;32m    348\u001b[0m \u001b[43m    \u001b[49m\u001b[43mcomp_ids\u001b[49m\u001b[38;5;241;43m=\u001b[39;49m\u001b[43mcomp_ids\u001b[49m\u001b[43m,\u001b[49m\n\u001b[0;32m    349\u001b[0m \u001b[43m    \u001b[49m\u001b[43mmask\u001b[49m\u001b[38;5;241;43m=\u001b[39;49m\u001b[43mmask\u001b[49m\u001b[43m,\u001b[49m\n\u001b[0;32m    350\u001b[0m \u001b[43m    \u001b[49m\u001b[43mresult_mask\u001b[49m\u001b[38;5;241;43m=\u001b[39;49m\u001b[43mresult_mask\u001b[49m\u001b[43m,\u001b[49m\n\u001b[0;32m    351\u001b[0m \u001b[43m    \u001b[49m\u001b[38;5;241;43m*\u001b[39;49m\u001b[38;5;241;43m*\u001b[39;49m\u001b[43mkwargs\u001b[49m\u001b[43m,\u001b[49m\n\u001b[0;32m    352\u001b[0m \u001b[43m\u001b[49m\u001b[43m)\u001b[49m\n",
      "File \u001b[1;32mc:\\Users\\jinmeng\\AppData\\Local\\Programs\\Python\\Python311\\Lib\\site-packages\\pandas\\core\\groupby\\ops.py:472\u001b[0m, in \u001b[0;36mWrappedCythonOp._call_cython_op\u001b[1;34m(self, values, min_count, ngroups, comp_ids, mask, result_mask, **kwargs)\u001b[0m\n\u001b[0;32m    469\u001b[0m     \u001b[38;5;28;01mif\u001b[39;00m \u001b[38;5;28mself\u001b[39m\u001b[38;5;241m.\u001b[39mhow \u001b[38;5;241m!=\u001b[39m \u001b[38;5;124m\"\u001b[39m\u001b[38;5;124mrank\u001b[39m\u001b[38;5;124m\"\u001b[39m:\n\u001b[0;32m    470\u001b[0m         \u001b[38;5;66;03m# TODO: should rank take result_mask?\u001b[39;00m\n\u001b[0;32m    471\u001b[0m         kwargs[\u001b[38;5;124m\"\u001b[39m\u001b[38;5;124mresult_mask\u001b[39m\u001b[38;5;124m\"\u001b[39m] \u001b[38;5;241m=\u001b[39m result_mask\n\u001b[1;32m--> 472\u001b[0m     \u001b[43mfunc\u001b[49m\u001b[43m(\u001b[49m\n\u001b[0;32m    473\u001b[0m \u001b[43m        \u001b[49m\u001b[43mout\u001b[49m\u001b[38;5;241;43m=\u001b[39;49m\u001b[43mresult\u001b[49m\u001b[43m,\u001b[49m\n\u001b[0;32m    474\u001b[0m \u001b[43m        \u001b[49m\u001b[43mvalues\u001b[49m\u001b[38;5;241;43m=\u001b[39;49m\u001b[43mvalues\u001b[49m\u001b[43m,\u001b[49m\n\u001b[0;32m    475\u001b[0m \u001b[43m        \u001b[49m\u001b[43mlabels\u001b[49m\u001b[38;5;241;43m=\u001b[39;49m\u001b[43mcomp_ids\u001b[49m\u001b[43m,\u001b[49m\n\u001b[0;32m    476\u001b[0m \u001b[43m        \u001b[49m\u001b[43mngroups\u001b[49m\u001b[38;5;241;43m=\u001b[39;49m\u001b[43mngroups\u001b[49m\u001b[43m,\u001b[49m\n\u001b[0;32m    477\u001b[0m \u001b[43m        \u001b[49m\u001b[43mis_datetimelike\u001b[49m\u001b[38;5;241;43m=\u001b[39;49m\u001b[43mis_datetimelike\u001b[49m\u001b[43m,\u001b[49m\n\u001b[0;32m    478\u001b[0m \u001b[43m        \u001b[49m\u001b[43mmask\u001b[49m\u001b[38;5;241;43m=\u001b[39;49m\u001b[43mmask\u001b[49m\u001b[43m,\u001b[49m\n\u001b[0;32m    479\u001b[0m \u001b[43m        \u001b[49m\u001b[38;5;241;43m*\u001b[39;49m\u001b[38;5;241;43m*\u001b[39;49m\u001b[43mkwargs\u001b[49m\u001b[43m,\u001b[49m\n\u001b[0;32m    480\u001b[0m \u001b[43m    \u001b[49m\u001b[43m)\u001b[49m\n\u001b[0;32m    482\u001b[0m \u001b[38;5;28;01mif\u001b[39;00m \u001b[38;5;28mself\u001b[39m\u001b[38;5;241m.\u001b[39mkind \u001b[38;5;241m==\u001b[39m \u001b[38;5;124m\"\u001b[39m\u001b[38;5;124maggregate\u001b[39m\u001b[38;5;124m\"\u001b[39m \u001b[38;5;129;01mand\u001b[39;00m \u001b[38;5;28mself\u001b[39m\u001b[38;5;241m.\u001b[39mhow \u001b[38;5;129;01mnot\u001b[39;00m \u001b[38;5;129;01min\u001b[39;00m [\u001b[38;5;124m\"\u001b[39m\u001b[38;5;124midxmin\u001b[39m\u001b[38;5;124m\"\u001b[39m, \u001b[38;5;124m\"\u001b[39m\u001b[38;5;124midxmax\u001b[39m\u001b[38;5;124m\"\u001b[39m]:\n\u001b[0;32m    483\u001b[0m     \u001b[38;5;66;03m# i.e. counts is defined.  Locations where count<min_count\u001b[39;00m\n\u001b[0;32m    484\u001b[0m     \u001b[38;5;66;03m# need to have the result set to np.nan, which may require casting,\u001b[39;00m\n\u001b[0;32m    485\u001b[0m     \u001b[38;5;66;03m# see GH#40767. For idxmin/idxmax is handled specially via post-processing\u001b[39;00m\n\u001b[0;32m    486\u001b[0m     \u001b[38;5;28;01mif\u001b[39;00m result\u001b[38;5;241m.\u001b[39mdtype\u001b[38;5;241m.\u001b[39mkind \u001b[38;5;129;01min\u001b[39;00m \u001b[38;5;124m\"\u001b[39m\u001b[38;5;124miu\u001b[39m\u001b[38;5;124m\"\u001b[39m \u001b[38;5;129;01mand\u001b[39;00m \u001b[38;5;129;01mnot\u001b[39;00m is_datetimelike:\n\u001b[0;32m    487\u001b[0m         \u001b[38;5;66;03m# if the op keeps the int dtypes, we have to use 0\u001b[39;00m\n",
      "File \u001b[1;32mgroupby.pyx:1613\u001b[0m, in \u001b[0;36mpandas._libs.groupby.group_rank\u001b[1;34m()\u001b[0m\n",
      "File \u001b[1;32malgos.pyx:1003\u001b[0m, in \u001b[0;36mpandas._libs.algos.rank_1d\u001b[1;34m()\u001b[0m\n",
      "File \u001b[1;32mc:\\Users\\jinmeng\\AppData\\Local\\Programs\\Python\\Python311\\Lib\\site-packages\\numpy\\core\\numeric.py:136\u001b[0m, in \u001b[0;36mones\u001b[1;34m(shape, dtype, order, like)\u001b[0m\n\u001b[0;32m    132\u001b[0m     multiarray\u001b[38;5;241m.\u001b[39mcopyto(res, z, casting\u001b[38;5;241m=\u001b[39m\u001b[38;5;124m'\u001b[39m\u001b[38;5;124munsafe\u001b[39m\u001b[38;5;124m'\u001b[39m)\n\u001b[0;32m    133\u001b[0m     \u001b[38;5;28;01mreturn\u001b[39;00m res\n\u001b[1;32m--> 136\u001b[0m \u001b[38;5;129m@set_array_function_like_doc\u001b[39m\n\u001b[0;32m    137\u001b[0m \u001b[38;5;129m@set_module\u001b[39m(\u001b[38;5;124m'\u001b[39m\u001b[38;5;124mnumpy\u001b[39m\u001b[38;5;124m'\u001b[39m)\n\u001b[0;32m    138\u001b[0m \u001b[38;5;28;01mdef\u001b[39;00m \u001b[38;5;21mones\u001b[39m(shape, dtype\u001b[38;5;241m=\u001b[39m\u001b[38;5;28;01mNone\u001b[39;00m, order\u001b[38;5;241m=\u001b[39m\u001b[38;5;124m'\u001b[39m\u001b[38;5;124mC\u001b[39m\u001b[38;5;124m'\u001b[39m, \u001b[38;5;241m*\u001b[39m, like\u001b[38;5;241m=\u001b[39m\u001b[38;5;28;01mNone\u001b[39;00m):\n\u001b[0;32m    139\u001b[0m \u001b[38;5;250m    \u001b[39m\u001b[38;5;124;03m\"\"\"\u001b[39;00m\n\u001b[0;32m    140\u001b[0m \u001b[38;5;124;03m    Return a new array of given shape and type, filled with ones.\u001b[39;00m\n\u001b[0;32m    141\u001b[0m \n\u001b[1;32m   (...)\u001b[0m\n\u001b[0;32m    186\u001b[0m \n\u001b[0;32m    187\u001b[0m \u001b[38;5;124;03m    \"\"\"\u001b[39;00m\n\u001b[0;32m    188\u001b[0m     \u001b[38;5;28;01mif\u001b[39;00m like \u001b[38;5;129;01mis\u001b[39;00m \u001b[38;5;129;01mnot\u001b[39;00m \u001b[38;5;28;01mNone\u001b[39;00m:\n",
      "\u001b[1;31mKeyboardInterrupt\u001b[0m: "
     ]
    }
   ],
   "source": [
    "ic_dfs = []\n",
    "start_idx = 179\n",
    "for idx in range(max(windowsLen - 1 , start_idx) , len(MDTs)-1):\n",
    "    idtEnd = MDTs[idx]\n",
    "    idtStart = MDTs[idx - windowsLen + 1]\n",
    "    idtTest = MDTs[idx + 1]\n",
    "\n",
    "    print(f'Train: {idtStart} - {idtEnd} , Test : {idtTest}')\n",
    "    train_data = factor_data.loc[(factor_data['date'] >= idtStart) & (factor_data['date'] <= idtEnd),:].\\\n",
    "        drop(columns=['nextRtnM']).rename(columns={'nextRtnM_Label':'y_label'}).set_index(['date', 'secid'])\n",
    "    test_data = factor_data.loc[factor_data['date'] == idtTest,:].\\\n",
    "        drop(columns=['nextRtnM_Label']).rename(columns={'nextRtnM':'y_label'}).set_index(['date', 'secid'])\n",
    "    train = parse_input_df(train_data , True , 20)\n",
    "    test = parse_input_df(test_data , False , 20).loc[:,train.columns.values]\n",
    "    ada = AdaBoost(train = train , test = test)\n",
    "    ic_dfs.append(ada.fit(silence = True).calc_ic())\n",
    "df = pd.concat(ic_dfs)\n",
    "df\n"
   ]
  },
  {
   "cell_type": "code",
   "execution_count": 2,
   "metadata": {},
   "outputs": [],
   "source": [
    "train_data = factor_data.loc[(factor_data['date'] >= idtStart) & (factor_data['date'] <= idtEnd),:].\\\n",
    "    drop(columns=['nextRtnM']).rename(columns={'nextRtnM_Label':'y_label'}).set_index(['date', 'secid'])\n",
    "test_data = factor_data.loc[factor_data['date'] == idtTest,:].\\\n",
    "    drop(columns=['nextRtnM_Label']).rename(columns={'nextRtnM':'y_label'}).set_index(['date', 'secid'])\n",
    "\n",
    "def parse_input_df(df : pd.DataFrame , training : bool , n_bins : int , label_column = 'y_label') -> pd.DataFrame:\n",
    "    x = df.drop(columns=[label_column])\n",
    "    y = df[label_column]\n",
    "\n",
    "    if y.isnull().sum() / len(y) > 0.2: print('Error: label missing ratio > 0.2')\n",
    "    \n",
    "    df = (x.groupby('date').rank(pct = True) * n_bins).clip(upper=n_bins - 1).join(y)\n",
    "    if training: \n",
    "        #missing = df.isnull().sum() / len(df)\n",
    "        #df = df.loc[:, missing[missing < 0.2].index.values] # .fillna(0.0)\n",
    "        df = df.loc[:, df.isnull().sum() / len(df) < 0.2] # .fillna(0.0)\n",
    "        df = df[df[label_column] != 0].dropna(subset=[label_column])\n",
    "    return df\n",
    "\n",
    "train = parse_input_df(train_data , True , 20)\n",
    "test = parse_input_df(test_data , False , 20).loc[:,train.columns.values]"
   ]
  },
  {
   "cell_type": "code",
   "execution_count": 3,
   "metadata": {},
   "outputs": [],
   "source": [
    "from src.algo.boost.ada import AdaBoost\n",
    "\n",
    "ada = AdaBoost(train = train , test = test)"
   ]
  },
  {
   "cell_type": "code",
   "execution_count": 4,
   "metadata": {},
   "outputs": [
    {
     "name": "stdout",
     "output_type": "stream",
     "text": [
      "Round: 1, Estimator Error: 0.4945843848750985, feature_idx: 129\n",
      "Round: 6, Estimator Error: 0.49902970673461733, feature_idx: 42\n",
      "Round: 11, Estimator Error: 0.49936663092986505, feature_idx: 135\n",
      "Round: 16, Estimator Error: 0.49948198587216597, feature_idx: 50\n",
      "Round: 21, Estimator Error: 0.49953335247401615, feature_idx: 87\n",
      "Round: 26, Estimator Error: 0.4995382518292149, feature_idx: 90\n"
     ]
    },
    {
     "data": {
      "text/html": [
       "<div>\n",
       "<style scoped>\n",
       "    .dataframe tbody tr th:only-of-type {\n",
       "        vertical-align: middle;\n",
       "    }\n",
       "\n",
       "    .dataframe tbody tr th {\n",
       "        vertical-align: top;\n",
       "    }\n",
       "\n",
       "    .dataframe thead th {\n",
       "        text-align: right;\n",
       "    }\n",
       "</style>\n",
       "<table border=\"1\" class=\"dataframe\">\n",
       "  <thead>\n",
       "    <tr style=\"text-align: right;\">\n",
       "      <th></th>\n",
       "      <th>ic</th>\n",
       "      <th>rankic</th>\n",
       "    </tr>\n",
       "  </thead>\n",
       "  <tbody>\n",
       "    <tr>\n",
       "      <th>20070131</th>\n",
       "      <td>-0.099588</td>\n",
       "      <td>-0.1118</td>\n",
       "    </tr>\n",
       "  </tbody>\n",
       "</table>\n",
       "</div>"
      ],
      "text/plain": [
       "                ic  rankic\n",
       "20070131 -0.099588 -0.1118"
      ]
     },
     "execution_count": 4,
     "metadata": {},
     "output_type": "execute_result"
    }
   ],
   "source": [
    "df = ada.fit().calc_ic()\n",
    "df"
   ]
  }
 ],
 "metadata": {
  "kernelspec": {
   "display_name": "Python 3",
   "language": "python",
   "name": "python3"
  },
  "language_info": {
   "codemirror_mode": {
    "name": "ipython",
    "version": 3
   },
   "file_extension": ".py",
   "mimetype": "text/x-python",
   "name": "python",
   "nbconvert_exporter": "python",
   "pygments_lexer": "ipython3",
   "version": "3.11.8"
  }
 },
 "nbformat": 4,
 "nbformat_minor": 2
}
