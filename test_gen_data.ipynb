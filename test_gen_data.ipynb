{
 "cells": [
  {
   "cell_type": "code",
   "execution_count": null,
   "metadata": {},
   "outputs": [],
   "source": [
    "from scripts.data_util.DataTransmitter import *\n",
    "from scripts.data_util.DataUpdater import *\n",
    "\n",
    "Updater = DataUpdater(False)\n",
    "Updater.update_something(KEY = ['trade_Xday'])\n",
    "Updater.print_current_unfetch()\n",
    "Updater.dump_current_updater()"
   ]
  },
  {
   "cell_type": "code",
   "execution_count": 2,
   "metadata": {},
   "outputs": [
    {
     "name": "stderr",
     "output_type": "stream",
     "text": [
      "d:\\Anaconda3\\lib\\site-packages\\numpy\\core\\_methods.py:49: RuntimeWarning: invalid value encountered in reduce\n",
      "  return umr_sum(a, axis, dtype, out, keepdims, initial, where)\n",
      "d:\\Anaconda3\\lib\\site-packages\\numpy\\core\\_methods.py:49: RuntimeWarning: invalid value encountered in reduce\n",
      "  return umr_sum(a, axis, dtype, out, keepdims, initial, where)\n"
     ]
    },
    {
     "data": {
      "text/plain": [
       "<class 'scripts.data_util.DataTank.Data1D'>\n",
       "secid len (517): array([     1,      2,      3,      4,      5,      6,      7,      8,\n",
       "            9,     10,     11,     12,     13,     14,     15,     16,\n",
       "           17,     18,     19,     20,     21,     22,     23,     24,\n",
       "           25,     26,     27,     28,     29,     30,     31,     32,\n",
       "           33,     34,     35,     36,     37,     38,     39,     40,\n",
       "           42,     43,     45,     46,     47,     48,     49,     50,\n",
       "           55,     56,     58,     61,    401,    402,    403,    404,\n",
       "          405,    406,    407,    408,    409,    410,    411,    412,\n",
       "          413,    415,    416,    417,    419,    420,    421,    422,\n",
       "          423,    425,    426,    428,    430,    501,    502,    503,\n",
       "          504,    505,    506,    507,    508,    509,    510,    511,\n",
       "          513,    514,    515,    516,    517,    518,    519,    520,\n",
       "          521,    522,    523,    524,    525,    526,    527,    528,\n",
       "          529,    530,    531,    532,    533,    534,    535,    536,\n",
       "          537,    538,    539,    540,    541,    542,    543,    544,\n",
       "          545,    546,    547,    548,    549,    550,    551,    552,\n",
       "          553,    554,    555,    556,    557,    558,    559,    560,\n",
       "          561,    562,    563,    564,    565,    566,    567,    568,\n",
       "          569,    570,    571,    572,    573,    576,    578,    582,\n",
       "          583,    584,    585,    586,    587,    588,    589,    590,\n",
       "          591,    592,    593,    594,    595,    596,    597,    598,\n",
       "          599,    600,    601,    602,    603,    605,    606,    607,\n",
       "          608,    609,    610,    611,    612,    615,    616,    617,\n",
       "          618,    619,    620,    621,    622,    623,    626,    627,\n",
       "          628,    629,    630,    631,    632,    633,    635,    636,\n",
       "          637,    638,    639,    650,    651,    652,    653,    655,\n",
       "          656,    657,    658,    659,    660,    661,    662,    663,\n",
       "          665,    666,    667,    668,    669,    670,    671,    672,\n",
       "          675,    676,    677,    678,    689, 600600, 600601, 600602,\n",
       "       600603, 600604, 600605, 600606, 600607, 600608, 600609, 600610,\n",
       "       600611, 600612, 600613, 600614, 600615, 600616, 600617, 600618,\n",
       "       600619, 600620, 600621, 600622, 600623, 600624, 600625, 600626,\n",
       "       600627, 600628, 600629, 600630, 600631, 600632, 600633, 600634,\n",
       "       600635, 600636, 600637, 600638, 600639, 600640, 600641, 600642,\n",
       "       600643, 600644, 600645, 600646, 600647, 600648, 600649, 600650,\n",
       "       600651, 600652, 600653, 600654, 600655, 600656, 600657, 600658,\n",
       "       600659, 600660, 600661, 600662, 600663, 600664, 600665, 600666,\n",
       "       600667, 600668, 600669, 600670, 600671, 600672, 600673, 600674,\n",
       "       600675, 600676, 600677, 600678, 600679, 600680, 600681, 600682,\n",
       "       600683, 600684, 600685, 600686, 600687, 600688, 600689, 600690,\n",
       "       600691, 600692, 600693, 600694, 600695, 600696, 600697, 600698,\n",
       "       600699, 600700, 600701, 600702, 600703, 600704, 600705, 600706,\n",
       "       600707, 600708, 600709, 600710, 600711, 600712, 600713, 600714,\n",
       "       600715, 600716, 600717, 600718, 600719, 600720, 600721, 600722,\n",
       "       600723, 600724, 600725, 600726, 600727, 600728, 600729, 600730,\n",
       "       600731, 600732, 600733, 600734, 600735, 600736, 600737, 600738,\n",
       "       600739, 600740, 600741, 600742, 600743, 600744, 600745, 600746,\n",
       "       600747, 600748, 600749, 600750, 600751, 600752, 600753, 600754,\n",
       "       600755, 600756, 600757, 600758, 600759, 600760, 600761, 600762,\n",
       "       600763, 600764, 600765, 600766, 600767, 600768, 600769, 600770,\n",
       "       600771, 600772, 600773, 600774, 600775, 600776, 600777, 600778,\n",
       "       600779, 600780, 600781, 600782, 600783, 600784, 600785, 600786,\n",
       "       600788, 600800, 600801, 600802, 600803, 600804, 600805, 600806,\n",
       "       600807, 600808, 600809, 600810, 600811, 600812, 600813, 600814,\n",
       "       600815, 600816, 600817, 600818, 600819, 600820, 600821, 600822,\n",
       "       600823, 600824, 600825, 600826, 600827, 600828, 600829, 600830,\n",
       "       600831, 600832, 600833, 600834, 600835, 600836, 600837, 600838,\n",
       "       600839, 600840, 600841, 600842, 600843, 600844, 600845, 600846,\n",
       "       600847, 600848, 600850, 600851, 600852, 600853, 600854, 600855,\n",
       "       600856, 600857, 600858, 600859, 600860, 600861, 600862, 600863,\n",
       "       600864, 600865, 600866, 600867, 600868, 600869, 600870, 600871,\n",
       "       600872, 600873, 600874, 600875, 600876, 600877, 600878, 600879,\n",
       "       600880, 600881, 600882, 600883, 600884, 600885, 600886, 600887,\n",
       "       600888, 600889, 600890, 600891, 600892, 600893, 600894, 600895,\n",
       "       600896, 600897, 600898, 600899, 601607])\n",
       "feature len (11): array(['open', 'close', 'high', 'low', 'amount', 'volume', 'turn_tt',\n",
       "       'turn_fl', 'turn_fr', 'vwap', 'pctchange'], dtype=object)\n",
       "values shape (517, 11)"
      ]
     },
     "execution_count": 2,
     "metadata": {},
     "output_type": "execute_result"
    }
   ],
   "source": [
    "from scripts.data_util.DataTransmitter import *\n",
    "from scripts.data_util.DataUpdater import *\n",
    "\n",
    "get_trade_Xday(19970122 , 5)"
   ]
  },
  {
   "cell_type": "code",
   "execution_count": null,
   "metadata": {},
   "outputs": [],
   "source": [
    "date = 19970122\n",
    "x_day = 5\n",
    "tol = 1e-8\n",
    "db_path_info = f'{DIR_data}/DB_data/DB_information/DB_information.h5'\n",
    "with DataTank(db_path_info , 'r') as info:\n",
    "    calendar = info.read_dataframe('basic/calendar')\n",
    "rolling_dates = calendar.calendar[calendar.trade > 0].to_numpy().astype(int)\n",
    "rolling_dates = sorted(rolling_dates[rolling_dates <= int(date)])[-x_day:]\n",
    "assert rolling_dates[-1] == date , (rolling_dates[-1] , date)\n",
    "groups = np.array(rolling_dates).astype(int) // 10000\n",
    "\n",
    "db_path_day = DIR_data + '/DB_data/DB_trade_day/DB_trade_day.{}.h5'\n",
    "src_files = [db_path_day.format(group) for group in groups]\n",
    "if not all([os.path.exists(file) for file in src_files]): return unfetched_data()\n",
    "\n",
    "price_feat  = ['open','close','high','low','vwap']\n",
    "volume_feat = ['amount','volume','turn_tt','turn_fl','turn_fr']\n",
    "pctchg_feat = ['pctchange']\n",
    "all_feat = price_feat + volume_feat + pctchg_feat\n",
    "\n",
    "dtank , datas , secid = DataTank() , [] , None\n",
    "for d , src in zip(rolling_dates , src_files):\n",
    "    src_path , inner_path = os.path.join(db_path_day , src) , f'/day/trade/{d}'\n",
    "    if dtank.filename != src_path: \n",
    "        dtank.close()\n",
    "        dtank = DataTank(src_path , 'r')\n",
    "    if dtank.get_object(inner_path) is None:\n",
    "        data = get_trade_day(date , tol = tol , **kwargs)\n",
    "    else:\n",
    "        data = dtank.read_data1D(inner_path)\n",
    "    if isinstance(data , unfetched_data) or data is None:\n",
    "        return unfetched_data()\n",
    "    secid = data.secid if secid is None else np.intersect1d(secid , data.secid)\n",
    "    datas.append(data)\n",
    "dtank.close()\n",
    "\n",
    "for i , data in enumerate(datas):\n",
    "    data = data.to_dataframe().loc[secid]\n",
    "    data.loc[:,price_feat] = data.loc[:,price_feat] * data.loc[:,'adjfactor'].values[:,None]\n",
    "    datas[i] = data.loc[:,all_feat].values\n",
    "\n",
    "data = np.stack([data for data in datas] , axis = 0)\n",
    "del datas\n",
    "\n",
    "df = pd.DataFrame({'secid':secid})\n",
    "# price_feat\n",
    "df['open']   = data[...,all_feat.index('open')][0]\n",
    "df['close']  = data[...,all_feat.index('close')][-1]\n",
    "df['high']   = data[...,all_feat.index('high')].max(axis = 0)\n",
    "df['low']    = data[...,all_feat.index('low')].min(axis = 0)\n",
    "\n",
    "for feat in volume_feat: df[feat] = data[...,all_feat.index(feat)].sum(axis = 0)\n",
    "\n",
    "df['vwap']      = (data[...,all_feat.index('vwap')]*data[...,all_feat.index('volume')]).sum(axis = 0) / df['volume']\n",
    "df['pctchange'] = (data[...,all_feat.index('pctchange')] / 100 + 1).prod(axis = 0) * 100 - 100\n"
   ]
  },
  {
   "cell_type": "code",
   "execution_count": 16,
   "metadata": {},
   "outputs": [
    {
     "data": {
      "text/plain": [
       "scripts.data_util.DataTransmitter.unfetched_data"
      ]
     },
     "execution_count": 16,
     "metadata": {},
     "output_type": "execute_result"
    }
   ],
   "source": [
    "type(a)"
   ]
  },
  {
   "cell_type": "code",
   "execution_count": 1,
   "metadata": {},
   "outputs": [
    {
     "name": "stderr",
     "output_type": "stream",
     "text": [
      "\u001b[1m\u001b[37m\u001b[41m23-12-27 02:03:38|MOD:data_processing|\u001b[0m: \u001b[1m\u001b[31mData Processing start!\u001b[0m\n",
      "\u001b[1m\u001b[37m\u001b[45m23-12-27 02:03:38|MOD:data_processing|\u001b[0m: \u001b[1m\u001b[35m3 datas :['y', 'trade_day', 'trade_15m']\u001b[0m\n"
     ]
    },
    {
     "name": "stdout",
     "output_type": "stream",
     "text": [
      "Wed Dec 27 02:03:38 2023 : y start ...\n",
      "y blocks reading 10days/lag1 Data1D's ...... cost 9.05 secs\n",
      "y blocks reading 20days/lag1 Data1D's ...... cost 8.39 secs\n",
      "y blocks merging ...... cost 4.10 secs\n",
      "y blocks process ...... cost 0.55 secs\n",
      "y blocks saving  ...... cost 18.51 secs\n",
      "y blocks norming ...... cost 0.00 secs\n",
      "Wed Dec 27 02:04:19 2023 : y finished! Cost 40.67 Seconds\n",
      "Wed Dec 27 02:04:19 2023 : trade_day start ...\n",
      "trade_day blocks reading day/trade Data1D's ...... cost 46.29 secs\n",
      "trade_day blocks merging ...... cost 0.12 secs\n",
      "trade_day blocks process ...... cost 5.34 secs\n",
      "trade_day blocks saving  ...... cost 25.05 secs\n",
      "trade_day blocks norming ...... cost 34.22 secs\n",
      "Wed Dec 27 02:06:10 2023 : trade_day finished! Cost 111.11 Seconds\n",
      "Wed Dec 27 02:06:10 2023 : trade_15m start ...\n",
      "trade_15m blocks reading 15min/trade Data1D's ...... cost 1045.64 secs\n",
      "trade_15m blocks merging ...... cost 0.11 secs\n",
      "trade_15m blocks process ...... cost 16.26 secs\n",
      "trade_15m blocks saving  ...... cost 166.63 secs\n",
      "trade_15m blocks norming ..."
     ]
    },
    {
     "name": "stderr",
     "output_type": "stream",
     "text": [
      "\u001b[1m\u001b[37m\u001b[41m23-12-27 02:27:22|MOD:data_processing|\u001b[0m: \u001b[1m\u001b[31mData Processing Finished! Cost 1423.68 Seconds\u001b[0m\n"
     ]
    },
    {
     "name": "stdout",
     "output_type": "stream",
     "text": [
      "... cost 42.68 secs\n",
      "Wed Dec 27 02:27:21 2023 : trade_15m finished! Cost 1271.34 Seconds\n"
     ]
    }
   ],
   "source": [
    "%run data_processing.py\n",
    "# memory leaking!"
   ]
  }
 ],
 "metadata": {
  "kernelspec": {
   "display_name": "Python 3",
   "language": "python",
   "name": "python3"
  },
  "language_info": {
   "codemirror_mode": {
    "name": "ipython",
    "version": 3
   },
   "file_extension": ".py",
   "mimetype": "text/x-python",
   "name": "python",
   "nbconvert_exporter": "python",
   "pygments_lexer": "ipython3",
   "version": "3.8.5"
  }
 },
 "nbformat": 4,
 "nbformat_minor": 2
}
