{
 "cells": [
  {
   "cell_type": "code",
   "execution_count": 1,
   "metadata": {},
   "outputs": [
    {
     "name": "stderr",
     "output_type": "stream",
     "text": [
      "\u001b[1m\u001b[37m\u001b[41m23-12-27 02:03:38|MOD:data_processing|\u001b[0m: \u001b[1m\u001b[31mData Processing start!\u001b[0m\n",
      "\u001b[1m\u001b[37m\u001b[45m23-12-27 02:03:38|MOD:data_processing|\u001b[0m: \u001b[1m\u001b[35m3 datas :['y', 'trade_day', 'trade_15m']\u001b[0m\n"
     ]
    },
    {
     "name": "stdout",
     "output_type": "stream",
     "text": [
      "Wed Dec 27 02:03:38 2023 : y start ...\n",
      "y blocks reading 10days/lag1 Data1D's ...... cost 9.05 secs\n",
      "y blocks reading 20days/lag1 Data1D's ...... cost 8.39 secs\n",
      "y blocks merging ...... cost 4.10 secs\n",
      "y blocks process ...... cost 0.55 secs\n",
      "y blocks saving  ...... cost 18.51 secs\n",
      "y blocks norming ...... cost 0.00 secs\n",
      "Wed Dec 27 02:04:19 2023 : y finished! Cost 40.67 Seconds\n",
      "Wed Dec 27 02:04:19 2023 : trade_day start ...\n",
      "trade_day blocks reading day/trade Data1D's ...... cost 46.29 secs\n",
      "trade_day blocks merging ...... cost 0.12 secs\n",
      "trade_day blocks process ...... cost 5.34 secs\n",
      "trade_day blocks saving  ...... cost 25.05 secs\n",
      "trade_day blocks norming ...... cost 34.22 secs\n",
      "Wed Dec 27 02:06:10 2023 : trade_day finished! Cost 111.11 Seconds\n",
      "Wed Dec 27 02:06:10 2023 : trade_15m start ...\n",
      "trade_15m blocks reading 15min/trade Data1D's ...... cost 1045.64 secs\n",
      "trade_15m blocks merging ...... cost 0.11 secs\n",
      "trade_15m blocks process ...... cost 16.26 secs\n",
      "trade_15m blocks saving  ...... cost 166.63 secs\n",
      "trade_15m blocks norming ..."
     ]
    },
    {
     "name": "stderr",
     "output_type": "stream",
     "text": [
      "\u001b[1m\u001b[37m\u001b[41m23-12-27 02:27:22|MOD:data_processing|\u001b[0m: \u001b[1m\u001b[31mData Processing Finished! Cost 1423.68 Seconds\u001b[0m\n"
     ]
    },
    {
     "name": "stdout",
     "output_type": "stream",
     "text": [
      "... cost 42.68 secs\n",
      "Wed Dec 27 02:27:21 2023 : trade_15m finished! Cost 1271.34 Seconds\n"
     ]
    }
   ],
   "source": [
    "%run data_processing.py\n",
    "# memory leaking!"
   ]
  }
 ],
 "metadata": {
  "kernelspec": {
   "display_name": "Python 3",
   "language": "python",
   "name": "python3"
  },
  "language_info": {
   "codemirror_mode": {
    "name": "ipython",
    "version": 3
   },
   "file_extension": ".py",
   "mimetype": "text/x-python",
   "name": "python",
   "nbconvert_exporter": "python",
   "pygments_lexer": "ipython3",
   "version": "3.8.5"
  }
 },
 "nbformat": 4,
 "nbformat_minor": 2
}
