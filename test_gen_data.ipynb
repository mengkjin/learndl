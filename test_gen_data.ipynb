{
 "cells": [
  {
   "cell_type": "code",
   "execution_count": 1,
   "metadata": {},
   "outputs": [
    {
     "name": "stderr",
     "output_type": "stream",
     "text": [
      "\u001b[1m\u001b[37m\u001b[41m23-12-24 17:03:06|MOD:data_processing|\u001b[0m: \u001b[1m\u001b[31mData Processing start!\u001b[0m\n",
      "\u001b[1m\u001b[37m\u001b[45m23-12-24 17:03:06|MOD:data_processing|\u001b[0m: \u001b[1m\u001b[35m1 datas :['trade_15m']\u001b[0m\n"
     ]
    },
    {
     "name": "stdout",
     "output_type": "stream",
     "text": [
      "Sun Dec 24 17:03:06 2023 : trade_15m start ...\n",
      "trade_15m reading 15min/trade Data1D's ...... cost 894.91 secs\n",
      "trade_15m merging blocks ...... cost 0.12 secs\n",
      "trade_15m process blocks ...... cost 15.84 secs\n",
      "trade_15m savenpz blocks ...... cost 165.08 secs\n",
      "norming trade_15m blocks ...Used: 28.00G; Free 28.42G\n",
      "Used: 44.09G; Free 16.48G\n"
     ]
    },
    {
     "name": "stderr",
     "output_type": "stream",
     "text": [
      "\u001b[1m\u001b[37m\u001b[41m23-12-24 17:26:46|MOD:data_processing|\u001b[0m: \u001b[1m\u001b[31mData Processing Finished! Cost 1419.57 Seconds\u001b[0m\n"
     ]
    },
    {
     "name": "stdout",
     "output_type": "stream",
     "text": [
      "... cost 343.39 secs\n",
      "Sun Dec 24 17:26:45 2023 : trade_15m finished! Cost 1419.35 Seconds\n"
     ]
    }
   ],
   "source": [
    "%run data_processing.py\n",
    "# memory leaking!"
   ]
  },
  {
   "cell_type": "code",
   "execution_count": 1,
   "metadata": {},
   "outputs": [],
   "source": [
    "from scripts.data_util.ModelData import *\n",
    "new_block = DataBlock().read_npz('./data/block_data/X_trade_15m.npz')"
   ]
  },
  {
   "cell_type": "code",
   "execution_count": 4,
   "metadata": {},
   "outputs": [
    {
     "name": "stdout",
     "output_type": "stream",
     "text": [
      "Computer name: mengkjin-server\n"
     ]
    }
   ],
   "source": [
    "import socket\n",
    "\n",
    "# Get the hostname of the computer\n",
    "hostname = socket.gethostname()\n",
    "\n",
    "# Print the hostname\n",
    "print(\"Computer name:\", hostname)\n"
   ]
  },
  {
   "cell_type": "code",
   "execution_count": 1,
   "metadata": {},
   "outputs": [
    {
     "name": "stdout",
     "output_type": "stream",
     "text": [
      "norming trade_15m blocks ...Used: 19.93G; Free 39.46G\n",
      "Used: 28.20G; Free 31.19G\n",
      "... cost 112.93 secs\n"
     ]
    }
   ],
   "source": [
    "from scripts.util.basic import timer\n",
    "from scripts.data_util.ModelData import *\n",
    "ThisBlock = DataBlock().read_npz('./data/block_data/X_trade_15m.npz')\n",
    "key = 'trade_15m'\n",
    "\n",
    "def save_norm_path(key):\n",
    "    DIR_hist_norm = f'{DIR_data}/hist_norm'\n",
    "    return f'{DIR_hist_norm}/X_{key}.npz'\n",
    "\n",
    "with timer(f'norming {key} blocks') as t:\n",
    "    block_hist_norm(ThisBlock , key , save_norm_path(key))"
   ]
  },
  {
   "cell_type": "code",
   "execution_count": 1,
   "metadata": {},
   "outputs": [
    {
     "name": "stdout",
     "output_type": "stream",
     "text": [
      "Load  2 DataBlocks ...... cost 6.02 secs\n",
      "Align 2 DataBlocks ...... cost 6.15 secs\n",
      "[1 0 3 2]\n"
     ]
    }
   ],
   "source": [
    "from scripts.data_util.ModelData import *\n",
    "from scripts.util.environ import get_config\n",
    "config = get_config()\n",
    "md = ModelData(['day'] , config)"
   ]
  },
  {
   "cell_type": "code",
   "execution_count": 1,
   "metadata": {},
   "outputs": [
    {
     "name": "stdout",
     "output_type": "stream",
     "text": [
      "Load  2 DataBlocks ...... cost 0.00 secs\n",
      "Align 2 DataBlocks ...... cost 12.15 secs\n"
     ]
    }
   ],
   "source": [
    "from scripts.data_util.ModelData import *\n",
    "from scripts.util.environ import get_config\n",
    "config = get_config()\n",
    "md = ModelData(['day'] , config)"
   ]
  },
  {
   "cell_type": "code",
   "execution_count": 1,
   "metadata": {},
   "outputs": [
    {
     "name": "stdout",
     "output_type": "stream",
     "text": [
      "use /home/mengkjin/Workspace/learndl/scripts/util/../../data/torch_pack/day+rtn11+res11.pt\n"
     ]
    },
    {
     "ename": "AttributeError",
     "evalue": "'dict' object has no attribute 'shape'",
     "output_type": "error",
     "traceback": [
      "\u001b[0;31m---------------------------------------------------------------------------\u001b[0m",
      "\u001b[0;31mAttributeError\u001b[0m                            Traceback (most recent call last)",
      "Cell \u001b[0;32mIn[1], line 4\u001b[0m\n\u001b[1;32m      2\u001b[0m \u001b[38;5;28;01mfrom\u001b[39;00m \u001b[38;5;21;01mscripts\u001b[39;00m\u001b[38;5;21;01m.\u001b[39;00m\u001b[38;5;21;01mutil\u001b[39;00m\u001b[38;5;21;01m.\u001b[39;00m\u001b[38;5;21;01menviron\u001b[39;00m \u001b[38;5;28;01mimport\u001b[39;00m get_config\n\u001b[1;32m      3\u001b[0m config \u001b[38;5;241m=\u001b[39m get_config()\n\u001b[0;32m----> 4\u001b[0m md \u001b[38;5;241m=\u001b[39m \u001b[43mModelData\u001b[49m\u001b[43m(\u001b[49m\u001b[43m[\u001b[49m\u001b[38;5;124;43m'\u001b[39;49m\u001b[38;5;124;43mday\u001b[39;49m\u001b[38;5;124;43m'\u001b[39;49m\u001b[43m]\u001b[49m\u001b[43m \u001b[49m\u001b[43m,\u001b[49m\u001b[43m \u001b[49m\u001b[43mconfig\u001b[49m\u001b[43m)\u001b[49m\n",
      "File \u001b[0;32m~/Workspace/learndl/scripts/data_util/ModelData.py:77\u001b[0m, in \u001b[0;36mModelData.__init__\u001b[0;34m(self, model_data_type, config)\u001b[0m\n\u001b[1;32m     74\u001b[0m \u001b[38;5;28mself\u001b[39m\u001b[38;5;241m.\u001b[39mx_data , \u001b[38;5;28mself\u001b[39m\u001b[38;5;241m.\u001b[39my_data , \u001b[38;5;28mself\u001b[39m\u001b[38;5;241m.\u001b[39mnorms , \u001b[38;5;28mself\u001b[39m\u001b[38;5;241m.\u001b[39mindex \u001b[38;5;241m=\u001b[39m load_model_data(\u001b[38;5;28mself\u001b[39m\u001b[38;5;241m.\u001b[39mdata_type_list , \u001b[38;5;28mself\u001b[39m\u001b[38;5;241m.\u001b[39mCONFIG[\u001b[38;5;124m'\u001b[39m\u001b[38;5;124mLABELS\u001b[39m\u001b[38;5;124m'\u001b[39m] , \u001b[38;5;28mself\u001b[39m\u001b[38;5;241m.\u001b[39mCONFIG[\u001b[38;5;124m'\u001b[39m\u001b[38;5;124mPRECISION\u001b[39m\u001b[38;5;124m'\u001b[39m])\n\u001b[1;32m     76\u001b[0m \u001b[38;5;28;01mif\u001b[39;00m \u001b[38;5;28misinstance\u001b[39m(\u001b[38;5;28mself\u001b[39m\u001b[38;5;241m.\u001b[39mCONFIG[\u001b[38;5;124m'\u001b[39m\u001b[38;5;124mMODEL_PARAM\u001b[39m\u001b[38;5;124m'\u001b[39m][\u001b[38;5;124m'\u001b[39m\u001b[38;5;124mnum_output\u001b[39m\u001b[38;5;124m'\u001b[39m],(\u001b[38;5;28mlist\u001b[39m,\u001b[38;5;28mtuple\u001b[39m)):\n\u001b[0;32m---> 77\u001b[0m     \u001b[38;5;28mself\u001b[39m\u001b[38;5;241m.\u001b[39mlabels_n \u001b[38;5;241m=\u001b[39m \u001b[38;5;28mmin\u001b[39m(\u001b[38;5;28;43mself\u001b[39;49m\u001b[38;5;241;43m.\u001b[39;49m\u001b[43my_data\u001b[49m\u001b[38;5;241;43m.\u001b[39;49m\u001b[43mshape\u001b[49m[\u001b[38;5;241m-\u001b[39m\u001b[38;5;241m1\u001b[39m] , \u001b[38;5;28mmax\u001b[39m(\u001b[38;5;28mself\u001b[39m\u001b[38;5;241m.\u001b[39mCONFIG[\u001b[38;5;124m'\u001b[39m\u001b[38;5;124mMODEL_PARAM\u001b[39m\u001b[38;5;124m'\u001b[39m][\u001b[38;5;124m'\u001b[39m\u001b[38;5;124mnum_output\u001b[39m\u001b[38;5;124m'\u001b[39m]))\n\u001b[1;32m     78\u001b[0m \u001b[38;5;28;01melse\u001b[39;00m:\n\u001b[1;32m     79\u001b[0m     \u001b[38;5;28mself\u001b[39m\u001b[38;5;241m.\u001b[39mlabels_n \u001b[38;5;241m=\u001b[39m \u001b[38;5;28mmin\u001b[39m(\u001b[38;5;28mself\u001b[39m\u001b[38;5;241m.\u001b[39my_data\u001b[38;5;241m.\u001b[39mshape[\u001b[38;5;241m-\u001b[39m\u001b[38;5;241m1\u001b[39m] , \u001b[38;5;28mself\u001b[39m\u001b[38;5;241m.\u001b[39mCONFIG[\u001b[38;5;124m'\u001b[39m\u001b[38;5;124mMODEL_PARAM\u001b[39m\u001b[38;5;124m'\u001b[39m][\u001b[38;5;124m'\u001b[39m\u001b[38;5;124mnum_output\u001b[39m\u001b[38;5;124m'\u001b[39m])\n",
      "\u001b[0;31mAttributeError\u001b[0m: 'dict' object has no attribute 'shape'"
     ]
    }
   ],
   "source": [
    "from scripts.data_util.ModelData import *\n",
    "from scripts.util.environ import get_config\n",
    "config = get_config()\n",
    "md = ModelData(['day'] , config)"
   ]
  }
 ],
 "metadata": {
  "kernelspec": {
   "display_name": "Python 3",
   "language": "python",
   "name": "python3"
  },
  "language_info": {
   "codemirror_mode": {
    "name": "ipython",
    "version": 3
   },
   "file_extension": ".py",
   "mimetype": "text/x-python",
   "name": "python",
   "nbconvert_exporter": "python",
   "pygments_lexer": "ipython3",
   "version": "3.10.12"
  }
 },
 "nbformat": 4,
 "nbformat_minor": 2
}
