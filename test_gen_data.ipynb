{
 "cells": [
  {
   "cell_type": "code",
   "execution_count": 1,
   "metadata": {},
   "outputs": [
    {
     "name": "stderr",
     "output_type": "stream",
     "text": [
      "\u001b[1m\u001b[37m\u001b[41m24-01-08 22:11:06|MOD:data_processing|\u001b[0m: \u001b[1m\u001b[31mData Processing start!\u001b[0m\n",
      "\u001b[1m\u001b[37m\u001b[45m24-01-08 22:11:06|MOD:data_processing|\u001b[0m: \u001b[1m\u001b[35m3 datas :['y', 'trade_day', 'trade_15m']\u001b[0m\n"
     ]
    },
    {
     "name": "stdout",
     "output_type": "stream",
     "text": [
      "Mon Jan  8 22:11:06 2024 : y start ...\n",
      "y blocks reading 10days/lag1 Data1D's ...... cost 12.34 secs\n",
      "y blocks reading 20days/lag1 Data1D's ...... cost 9.55 secs\n",
      "y blocks merging ...... cost 4.87 secs\n",
      "y blocks process ...... cost 1.11 secs\n",
      "y blocks saving  ...... cost 18.37 secs\n",
      "y blocks norming ...... cost 0.00 secs\n",
      "Mon Jan  8 22:11:52 2024 : y finished! Cost 46.25 Seconds\n",
      "Mon Jan  8 22:11:52 2024 : trade_day start ...\n",
      "trade_day blocks reading day/trade Data1D's ...... cost 24.59 secs\n",
      "trade_day blocks merging ...... cost 0.13 secs\n",
      "trade_day blocks process ...... cost 5.87 secs\n",
      "trade_day blocks saving  ...... cost 23.85 secs\n",
      "trade_day blocks norming ...... cost 24.47 secs\n",
      "Mon Jan  8 22:13:11 2024 : trade_day finished! Cost 78.89 Seconds\n",
      "Mon Jan  8 22:13:11 2024 : trade_15m start ...\n",
      "trade_15m blocks reading 15min/trade Data1D's ...... cost 1386.24 secs\n",
      "trade_15m blocks merging ...... cost 0.37 secs\n",
      "trade_15m blocks process ...... cost 21.47 secs\n",
      "trade_15m blocks saving  ...... cost 179.22 secs\n",
      "trade_15m blocks norming ..."
     ]
    },
    {
     "name": "stderr",
     "output_type": "stream",
     "text": [
      "\u001b[1m\u001b[37m\u001b[41m24-01-08 22:39:52|MOD:data_processing|\u001b[0m: \u001b[1m\u001b[31mData Processing Finished! Cost 1726.34 Seconds\u001b[0m\n"
     ]
    },
    {
     "name": "stdout",
     "output_type": "stream",
     "text": [
      "... cost 13.04 secs\n",
      "Mon Jan  8 22:39:52 2024 : trade_15m finished! Cost 1600.35 Seconds\n"
     ]
    }
   ],
   "source": [
    "%run data_processing.py\n",
    "# memory leaking!"
   ]
  },
  {
   "cell_type": "code",
   "execution_count": 3,
   "metadata": {},
   "outputs": [
    {
     "name": "stdout",
     "output_type": "stream",
     "text": [
      "[0, 1, 2, 3, 4]\n",
      "[5, 6, 7, 8, 9]\n",
      "[10, 11, 12, 13, 14]\n",
      "[15, 16, 17, 18, 19]\n",
      "[20, 21, 22, 23, 24]\n",
      "[25, 26, 27, 28, 29]\n"
     ]
    }
   ],
   "source": [
    "import torch\n",
    "for pos in torch.utils.data.BatchSampler(range(30),5,drop_last=False):\n",
    "    print(pos)"
   ]
  },
  {
   "cell_type": "code",
   "execution_count": 8,
   "metadata": {},
   "outputs": [],
   "source": [
    "import gc , psutil\n",
    "import time , argparse\n",
    "from scripts.data_util.ModelData import (\n",
    "     DataBlock ,block_process ,block_hist_norm,\n",
    "     path_block_data,path_norm_data,block_mask)\n",
    "from scripts.data_util.DataTank import DataTank\n",
    "from scripts.function.basic import *\n",
    "from scripts.util.environ import get_logger , DIR_data\n",
    "from scripts.util.basic import timer\n",
    " \n",
    "logger = get_logger()\n",
    "DIR_block  = f'{DIR_data}/block_data'\n",
    "DIR_hist_norm = f'{DIR_data}/hist_norm'\n",
    "\n",
    "_save_start_dt , _save_end_dt = 20070101 , None\n",
    "general_param = {\n",
    "    'start_dt' : None , 'end_dt' : None , 'mask' : True ,\n",
    "} # 'start_dt' : 20150101 , 'end_dt' : 20150331 , 'mask' : True ,\n",
    "process_param = {\n",
    "    'trade_day' : {\n",
    "        'DB_key'  : 'trade_day' , \n",
    "        'DB_path' : 'day/trade' ,\n",
    "        'feature' : ['adjfactor', 'close', 'high', 'low', 'open', 'volume', 'vwap'] , 'process_method' : 'adj_order' ,\n",
    "    },\n",
    "}"
   ]
  },
  {
   "cell_type": "code",
   "execution_count": 9,
   "metadata": {},
   "outputs": [],
   "source": [
    "x_trade_norm_dict = dict()\n",
    "key = 'trade_day'\n",
    "param = process_param['trade_day']\n",
    "                "
   ]
  },
  {
   "cell_type": "code",
   "execution_count": 10,
   "metadata": {},
   "outputs": [
    {
     "name": "stdout",
     "output_type": "stream",
     "text": [
      "Mon Jan  8 22:05:42 2024 : trade_day start ...\n",
      "trade_day blocks reading day/trade Data1D's ...... cost 26.71 secs\n",
      "trade_day blocks merging ...... cost 0.14 secs\n",
      "trade_day blocks process ...... cost 5.87 secs\n",
      "trade_day blocks saving  ...... cost 24.41 secs\n",
      "trade_day blocks norming ...... cost 23.81 secs\n",
      "Mon Jan  8 22:07:02 2024 : trade_day finished! Cost 80.94 Seconds\n"
     ]
    }
   ],
   "source": [
    "tt1 = time.time()\n",
    "print(f'{time.ctime()} : {key} start ...')\n",
    "\n",
    "blocks = []\n",
    "db_key = param['DB_key']\n",
    "db_path = [param['DB_path']] if isinstance(param['DB_path'] , str) else param['DB_path']\n",
    "kwargs = {**param , **general_param}\n",
    "\n",
    "for path in db_path:\n",
    "    with timer(f'{key} blocks reading {path} Data1D\\'s') as t:\n",
    "        blocks.append(DataBlock().from_db(db_key , path , **kwargs))\n",
    "\n",
    "with timer(f'{key} blocks merging') as t:\n",
    "    ThisBlock = DataBlock().merge_others(blocks)\n",
    "    del blocks\n",
    "    gc.collect()\n",
    "\n",
    "with timer(f'{key} blocks process') as t:\n",
    "    ThisBlock = block_mask(ThisBlock , **kwargs)\n",
    "    ThisBlock = block_process(ThisBlock , **kwargs)\n",
    "\n",
    "with timer(f'{key} blocks saving ') as t:\n",
    "    ThisBlock.save(path_block_data(key) , start_dt=_save_start_dt , end_dt=_save_end_dt)\n",
    "\n",
    "with timer(f'{key} blocks norming') as t:\n",
    "    #ThisBlock = DataBlock().read_npz(path_block_data(key))\n",
    "    block_hist_norm(ThisBlock , key , path_norm_data(key) , **param)\n",
    "\n",
    "tt2 = time.time()\n",
    "print(f'{time.ctime()} : {key} finished! Cost {tt2-tt1:.2f} Seconds')\n",
    "\n",
    "del ThisBlock\n",
    "gc.collect()\n",
    "\n",
    "t2 = time.time()"
   ]
  },
  {
   "cell_type": "code",
   "execution_count": 7,
   "metadata": {},
   "outputs": [
    {
     "data": {
      "text/plain": [
       "{'DB_key': 'DB_trade_day.h5',\n",
       " 'DB_path': 'day/trade',\n",
       " 'feature': ['adjfactor', 'close', 'high', 'low', 'open', 'volume', 'vwap'],\n",
       " 'process_method': 'adj_order',\n",
       " 'start_dt': None,\n",
       " 'end_dt': None,\n",
       " 'mask': True}"
      ]
     },
     "execution_count": 7,
     "metadata": {},
     "output_type": "execute_result"
    }
   ],
   "source": [
    "kwargs"
   ]
  },
  {
   "cell_type": "code",
   "execution_count": 6,
   "metadata": {},
   "outputs": [
    {
     "data": {
      "text/plain": [
       "uninitiate <class 'scripts.data_util.ModelData.DataBlock'>"
      ]
     },
     "execution_count": 6,
     "metadata": {},
     "output_type": "execute_result"
    }
   ],
   "source": [
    "blocks[0]"
   ]
  }
 ],
 "metadata": {
  "kernelspec": {
   "display_name": "Python 3",
   "language": "python",
   "name": "python3"
  },
  "language_info": {
   "codemirror_mode": {
    "name": "ipython",
    "version": 3
   },
   "file_extension": ".py",
   "mimetype": "text/x-python",
   "name": "python",
   "nbconvert_exporter": "python",
   "pygments_lexer": "ipython3",
   "version": "3.10.12"
  }
 },
 "nbformat": 4,
 "nbformat_minor": 2
}
