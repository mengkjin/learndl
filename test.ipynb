{
 "cells": [
  {
   "cell_type": "code",
   "execution_count": null,
   "metadata": {},
   "outputs": [],
   "source": []
  },
  {
   "cell_type": "code",
   "execution_count": null,
   "metadata": {},
   "outputs": [],
   "source": []
  },
  {
   "cell_type": "code",
   "execution_count": 1,
   "metadata": {},
   "outputs": [
    {
     "data": {
      "text/plain": [
       "\"\\nfile_path = '/root/autodl-tmp/rnn_fac/data/risk_model.h5'\\nrm_file = h5py.File(file_path , mode='r+')\\n# pd.DataFrame(rm_file.get('20000106')[:])\\nfile_path = '/root/autodl-tmp/rnn_fac/data/day_ylabels_data.h5'\\ny_file = h5py.File(file_path , mode='r+')\\ny , yTradeDate , ySecID = tuple([y_file.get(arr)[:] for arr in ['Y10' , 'TradeDate' , 'SecID']])\\n\\nTradeDate = sorted(np.intersect1d(np.array(list(rm_file.keys() - ['colnames'])).astype(int) , yTradeDate))\\ndict_date = {\\n    'test':TradeDate[-50:],\\n    'valid':TradeDate[-50:],\\n    'train':TradeDate[-200:-50],\\n}\\ndict_df = {}\\nfeature_names = np.concatenate((rm_file.get('colnames')[6:].astype(str),['y']))\\nfor set_name in ['test' , 'valid' , 'train']:\\n    df_set = None\\n    for d in dict_date[set_name]:\\n        tmp = pd.DataFrame(rm_file.get(str(d))[:])\\n        pos = np.intersect1d(tmp.SecID , ySecID , return_indices= True)\\n        df = pd.DataFrame({'TradeDate' : str(d) , **tmp.iloc[pos[1],:] , 'y':y[pos[2],np.where(yTradeDate == d)].flatten()})\\n        df = df.set_index(['TradeDate','SecID']).loc[:,feature_names]\\n        df_set = pd.concat((df_set , df))\\n    dict_df[set_name] = df_set\\n\""
      ]
     },
     "execution_count": 1,
     "metadata": {},
     "output_type": "execute_result"
    }
   ],
   "source": [
    "\n",
    "import lightgbm as lgb\n",
    "import numpy as np\n",
    "import pandas as pd\n",
    "import matplotlib.pyplot as plt\n",
    "\n",
    "from copy import deepcopy\n",
    "from src.environ import DIR\n",
    "from src.algo.boost.lgbt import lgbm_plot , lgbm_weight\n",
    "from typing import Any , Literal , Optional\n",
    "\n",
    "dict_df : dict[str,Any] = {\n",
    "    'train' : pd.read_csv(f'{DIR.data}/tree_data/df_train.csv' , index_col=[0,1]) , \n",
    "    'valid' : pd.read_csv(f'{DIR.data}/tree_data/df_valid.csv' , index_col=[0,1]) , \n",
    "    'test'  : pd.read_csv(f'{DIR.data}/tree_data/df_test.csv' , index_col=[0,1]) , \n",
    "}\n",
    "\n",
    "# %%\n",
    "\"\"\"\n",
    "file_path = '/root/autodl-tmp/rnn_fac/data/risk_model.h5'\n",
    "rm_file = h5py.File(file_path , mode='r+')\n",
    "# pd.DataFrame(rm_file.get('20000106')[:])\n",
    "file_path = '/root/autodl-tmp/rnn_fac/data/day_ylabels_data.h5'\n",
    "y_file = h5py.File(file_path , mode='r+')\n",
    "y , yTradeDate , ySecID = tuple([y_file.get(arr)[:] for arr in ['Y10' , 'TradeDate' , 'SecID']])\n",
    "\n",
    "TradeDate = sorted(np.intersect1d(np.array(list(rm_file.keys() - ['colnames'])).astype(int) , yTradeDate))\n",
    "dict_date = {\n",
    "    'test':TradeDate[-50:],\n",
    "    'valid':TradeDate[-50:],\n",
    "    'train':TradeDate[-200:-50],\n",
    "}\n",
    "dict_df = {}\n",
    "feature_names = np.concatenate((rm_file.get('colnames')[6:].astype(str),['y']))\n",
    "for set_name in ['test' , 'valid' , 'train']:\n",
    "    df_set = None\n",
    "    for d in dict_date[set_name]:\n",
    "        tmp = pd.DataFrame(rm_file.get(str(d))[:])\n",
    "        pos = np.intersect1d(tmp.SecID , ySecID , return_indices= True)\n",
    "        df = pd.DataFrame({'TradeDate' : str(d) , **tmp.iloc[pos[1],:] , 'y':y[pos[2],np.where(yTradeDate == d)].flatten()})\n",
    "        df = df.set_index(['TradeDate','SecID']).loc[:,feature_names]\n",
    "        df_set = pd.concat((df_set , df))\n",
    "    dict_df[set_name] = df_set\n",
    "\"\"\"\n"
   ]
  },
  {
   "cell_type": "code",
   "execution_count": 2,
   "metadata": {},
   "outputs": [],
   "source": [
    "from typing import Any , Literal , Optional\n",
    "\n",
    "class lgbm():\n",
    "    var_date=['TradeDate','datetime'] \n",
    "    def __init__(self , \n",
    "                 train : Any = '../../data/tree_data/df_train.csv' , \n",
    "                 valid : Any = '../../data/tree_data/df_valid.csv' ,\n",
    "                 test  : Any  = '../../data/tree_data/df_test.csv' , \n",
    "                 use_features = None , \n",
    "                 plot_path = '../../figures' ,\n",
    "                 cuda = False , **kwargs):   \n",
    "        if 'weight_param' in kwargs.keys():\n",
    "            self.weight_param = kwargs['weight_param']\n",
    "        else:\n",
    "            self.weight_param = {'tau':0.75*np.log(0.5)/np.log(0.75) , 'decay':'exp' , 'rate':0.5}  \n",
    "        self.train_param = {\n",
    "            'objective': 'regression', \n",
    "            'verbosity': -1 , \n",
    "            'linear_tree': True, \n",
    "            'learning_rate': 0.3, \n",
    "            'lambda_l2': 1e-05, \n",
    "            'alpha': 1e-07, \n",
    "            'num_leaves': 31,\n",
    "            'max_depth': 6, \n",
    "            # 'min_data_in_leaf' : 1, \n",
    "            'min_sum_hessian_in_leaf': 1, \n",
    "            'feature_fraction': 0.6, \n",
    "            'bagging_fraction': 0.75, \n",
    "            'force_col_wise': True, \n",
    "            'monotone_constraints': 1 , \n",
    "            'early_stopping' : 50 , \n",
    "            'zero_as_missing' : False ,\n",
    "            'device_type': 'gpu' if cuda else 'cpu', # 'cuda' 'cpu'\n",
    "            'seed': 42,\n",
    "        }\n",
    "        self.plot_path = plot_path\n",
    "        self.train_param.update(kwargs)\n",
    "        self.train = train\n",
    "        self.valid = valid\n",
    "        self.test  = test\n",
    "        self.use_features = use_features\n",
    "\n",
    "        #self.data_import(train , valid , test)\n",
    "        #self.data_prepare(use_features)\n",
    "\n",
    "    def calc_ic(self , pred , label , dropna = False):\n",
    "        df = pd.DataFrame({'pred': pred, 'label': label})\n",
    "        var_date = [v for v in self.var_date if v in df.index.names][0]\n",
    "        ic = df.groupby(var_date).apply(lambda df: df['pred'].corr(df['label']))\n",
    "        ric = df.groupby(var_date).apply(lambda df: df['pred'].corr(df['label'], method='spearman'))\n",
    "        return (ic.dropna(), ric.dropna()) if dropna else (ic, ric)\n",
    "        \n",
    "    def data_import(self):\n",
    "        if isinstance(self.train , str): self.train = pd.read_csv(self.train,index_col=[0,1])\n",
    "        if isinstance(self.valid , str): self.valid = pd.read_csv(self.valid,index_col=[0,1])\n",
    "        if isinstance(self.test , str):  self.test = pd.read_csv(self.test,index_col=[0,1])\n",
    "        self.raw_dataset = {\n",
    "            'train' : self.train.copy() ,\n",
    "            'valid' : self.valid.copy() ,\n",
    "            'test'  : self.test.copy()\n",
    "        }\n",
    "        assert len(self.raw_dataset['train'].columns) == len(self.raw_dataset['valid'].columns) == len(self.raw_dataset['test'].columns)\n",
    "\n",
    "    def data_prepare(self , use_features = None , weight_param = None):\n",
    "        self.assert_features(use_features)\n",
    "        self.create_dataset(weight_param)       \n",
    "\n",
    "    def assert_features(self , use_features):\n",
    "        self.features = self.raw_dataset['train'].columns[:-1].values if use_features is None else use_features\n",
    "        mono_constr = self.train_param['monotone_constraints']\n",
    "        n_feat = len(self.features)\n",
    "        if isinstance(mono_constr , list):\n",
    "            if len(mono_constr) == 0: mono_constr = None\n",
    "            elif len(mono_constr) != n_feat: mono_constr = (mono_constr*n_feat)[:n_feat]\n",
    "        else:\n",
    "            mono_constr = [mono_constr for _ in range(n_feat)]\n",
    "        self.train_param['monotone_constraints'] = mono_constr\n",
    "\n",
    "    def create_dataset(self , weight_param = None):\n",
    "        weight_param = self.weight_param if weight_param is None else weight_param\n",
    "        self.x_train = self.raw_dataset['train'].loc[:,self.features]\n",
    "        self.x_valid = self.raw_dataset['valid'].loc[:,self.features] \n",
    "        self.y_train, self.y_valid = self.raw_dataset['train'].iloc[:,-1], self.raw_dataset['valid'].iloc[:,-1]\n",
    "        assert self.y_train.values.ndim == 1 , \"XGBoost doesn't support multi-label training\"\n",
    "        self.w_train = lgbm_weight.calculate_weight(self.y_train , weight_param)\n",
    "        self.w_valid = lgbm_weight.calculate_weight(self.y_valid , weight_param)\n",
    "\n",
    "        self.train_dataset = lgb.Dataset(self.x_train, self.y_train, weight=self.w_train)\n",
    "        self.valid_dataset = lgb.Dataset(self.x_valid, self.y_valid, weight=self.w_valid , reference=self.train_dataset)\n",
    "\n",
    "    def fit(self):\n",
    "        self.evals_result = dict()\n",
    "        self.model = lgb.train(\n",
    "            self.train_param ,\n",
    "            self.train_dataset, \n",
    "            valid_sets=[self.train_dataset, self.valid_dataset], \n",
    "            valid_names=['train', 'valid'] , \n",
    "            num_boost_round=1000 , \n",
    "            callbacks=[lgb.record_evaluation(self.evals_result)],\n",
    "        )\n",
    "        \n",
    "    def predict(self , inputs : Any = None):\n",
    "        if isinstance(inputs , (pd.DataFrame | pd.Series)):\n",
    "            return pd.Series(np.array(self.model.predict(inputs)) , index=inputs.index)\n",
    "        else:\n",
    "            return self.model.predict(inputs)\n",
    "    \n",
    "    def test_result(self):\n",
    "        x_test = self.raw_dataset['test'].loc[:,self.features]\n",
    "        label  = self.raw_dataset['test'].iloc[:,-1]\n",
    "        pred = self.predict(x_test)\n",
    "        ic , ric = self.calc_ic(pred, label , dropna=True)\n",
    "        plt.figure()\n",
    "        ric.cumsum().plot(title='average Rank IC = %.4f'%ric.mean())\n",
    "        plt.savefig('/'.join([self.plot_path,'test_prediction.png']),dpi=1200)\n",
    "        return {'ic':ic , 'ric':ric}\n",
    "    \n",
    "    @property\n",
    "    def plot(self): return lgbm_plot(self)"
   ]
  },
  {
   "cell_type": "code",
   "execution_count": 3,
   "metadata": {},
   "outputs": [],
   "source": [
    "a = lgbm(**dict_df)\n"
   ]
  },
  {
   "cell_type": "code",
   "execution_count": 4,
   "metadata": {},
   "outputs": [],
   "source": [
    "a.data_import()"
   ]
  },
  {
   "cell_type": "code",
   "execution_count": 5,
   "metadata": {},
   "outputs": [],
   "source": [
    "a.data_prepare()"
   ]
  },
  {
   "cell_type": "code",
   "execution_count": 6,
   "metadata": {},
   "outputs": [
    {
     "data": {
      "text/plain": [
       "<Figure size 800x550 with 0 Axes>"
      ]
     },
     "metadata": {},
     "output_type": "display_data"
    },
    {
     "data": {
      "image/png": "[encoded data removed]",
      "text/plain": [
       "<Figure size 800x550 with 1 Axes>"
      ]
     },
     "metadata": {},
     "output_type": "display_data"
    },
    {
     "data": {
      "text/plain": [
       "<Axes: title={'center': 'Metric during training'}, xlabel='Iterations', ylabel='l2'>"
      ]
     },
     "execution_count": 6,
     "metadata": {},
     "output_type": "execute_result"
    },
    {
     "data": {
      "text/plain": [
       "<Figure size 800x550 with 0 Axes>"
      ]
     },
     "metadata": {},
     "output_type": "display_data"
    }
   ],
   "source": [
    "a.fit()\n",
    "a.plot.training()"
   ]
  },
  {
   "cell_type": "code",
   "execution_count": null,
   "metadata": {},
   "outputs": [],
   "source": [
    "a.test_result()"
   ]
  },
  {
   "cell_type": "code",
   "execution_count": null,
   "metadata": {},
   "outputs": [],
   "source": [
    "a.fit()\n",
    "\n",
    "# %%\n",
    "seqn = np.arange(dict_df['train'].shape[1])\n",
    "use_features = dict_df['train'].iloc[:,[*seqn[-22:-1]]].columns.values\n",
    "print(use_features)\n",
    "a.data_prepare(use_features)\n",
    "a.fit()\n",
    "\n",
    "\n",
    "pred = a.test_result()"
   ]
  },
  {
   "cell_type": "code",
   "execution_count": null,
   "metadata": {},
   "outputs": [],
   "source": []
  },
  {
   "cell_type": "code",
   "execution_count": null,
   "metadata": {},
   "outputs": [],
   "source": []
  },
  {
   "cell_type": "code",
   "execution_count": null,
   "metadata": {},
   "outputs": [],
   "source": []
  },
  {
   "cell_type": "code",
   "execution_count": null,
   "metadata": {},
   "outputs": [],
   "source": []
  },
  {
   "cell_type": "code",
   "execution_count": null,
   "metadata": {},
   "outputs": [],
   "source": []
  },
  {
   "cell_type": "code",
   "execution_count": 16,
   "metadata": {},
   "outputs": [],
   "source": [
    "import numpy as np\n",
    "import pandas as pd\n",
    "from typing import Literal\n",
    "\n",
    "y = pd.DataFrame({'SecID':np.arange(1000).repeat(2) , 'TradeDate' : np.tile(np.arange(2) , 1000) , 'y' : np.random.rand(2000)})\n"
   ]
  }
 ],
 "metadata": {
  "kernelspec": {
   "display_name": "Python 3",
   "language": "python",
   "name": "python3"
  },
  "language_info": {
   "codemirror_mode": {
    "name": "ipython",
    "version": 3
   },
   "file_extension": ".py",
   "mimetype": "text/x-python",
   "name": "python",
   "nbconvert_exporter": "python",
   "pygments_lexer": "ipython3",
   "version": "3.11.8"
  }
 },
 "nbformat": 4,
 "nbformat_minor": 2
}
