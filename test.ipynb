{
 "cells": [
  {
   "cell_type": "code",
   "execution_count": 257,
   "metadata": {},
   "outputs": [
    {
     "name": "stdout",
     "output_type": "stream",
     "text": [
      "Hidden Features shape : torch.Size([40, 32])\n",
      "Portoflio shape : torch.Size([40, 100])\n",
      "mu_post shape : torch.Size([1, 64]) , sigma_post shape : torch.Size([1, 64])\n",
      "A post factor sample : tensor([[-0.0251,  1.0134,  0.9552, -0.7933, -0.3174, -0.3779, -0.0963, -0.0579,\n",
      "         -0.2038,  0.4169,  0.8579, -0.0513,  0.7206,  0.1310,  0.2898,  0.3320,\n",
      "          0.2841,  0.4943, -0.3019, -0.8400, -0.1451,  0.5816, -0.3454,  0.6914,\n",
      "          1.0123,  0.2815,  0.5450,  0.6407,  0.3073, -0.4669,  0.0851,  0.5037,\n",
      "          1.2655, -1.7337,  0.2668,  0.0826, -1.1659, -0.2792,  1.0265,  0.5371,\n",
      "          0.4262,  0.3798, -1.1599, -0.1375, -0.7519,  0.1956, -0.1297,  0.0871,\n",
      "          0.7342,  0.7079,  0.2127, -0.0476, -0.7535,  0.0696,  0.6441,  0.7256,\n",
      "         -1.3062,  0.1730, -0.1454, -0.1280,  1.9228,  0.0137,  1.1164, -0.3767]],\n",
      "       grad_fn=<AddBackward0>) \n",
      "Beta shape : torch.Size([40, 64])\n",
      "mu_alpha shape : torch.Size([40, 1]) , sigma_alpha shape : torch.Size([40, 1])\n",
      "stock_returns shape : torch.Size([40, 1]) , mu_alpha shape : torch.Size([40, 1]) , sigma_alpha shape : torch.Size([40, 1])\n",
      "mu_prior shape : torch.Size([64, 1]) , sigma_prior shape : torch.Size([64, 1])\n",
      "y_hat for training shape : torch.Size([40, 1]) , loss_KL is : 1628.9669189453125\n",
      "y_hat for eval shape : torch.Size([40, 1])\n"
     ]
    }
   ],
   "source": [
    "%run \"src/nn/factorVAE.py\""
   ]
  }
 ],
 "metadata": {
  "kernelspec": {
   "display_name": "Python 3",
   "language": "python",
   "name": "python3"
  },
  "language_info": {
   "codemirror_mode": {
    "name": "ipython",
    "version": 3
   },
   "file_extension": ".py",
   "mimetype": "text/x-python",
   "name": "python",
   "nbconvert_exporter": "python",
   "pygments_lexer": "ipython3",
   "version": "3.11.8"
  }
 },
 "nbformat": 4,
 "nbformat_minor": 2
}
