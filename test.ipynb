{
 "cells": [
  {
   "cell_type": "code",
   "execution_count": null,
   "metadata": {},
   "outputs": [],
   "source": [
    "from scripts.tree.lgbt import *\n",
    "from warnings import simplefilter\n",
    "simplefilter(action=\"ignore\",category=FutureWarning)\n",
    "plt.style.use('seaborn-v0_8') \n",
    "dict_df = {\n",
    "    'train' : pd.read_csv('./data/tree_data/df_train.csv' , index_col=[0,1]) , \n",
    "    'valid' : pd.read_csv('./data/tree_data/df_valid.csv' , index_col=[0,1]) , \n",
    "    'test'  : pd.read_csv('./data/tree_data/df_test.csv' , index_col=[0,1]) , \n",
    "}\n"
   ]
  },
  {
   "cell_type": "code",
   "execution_count": null,
   "metadata": {},
   "outputs": [],
   "source": [
    "a = lgbm(**dict_df)\n",
    "a.train_model()"
   ]
  },
  {
   "cell_type": "code",
   "execution_count": null,
   "metadata": {},
   "outputs": [],
   "source": [
    "seqn = np.arange(dict_df['train'].shape[1])\n",
    "use_features = dict_df['train'].iloc[:,[*seqn[-22:-1]]].columns.values\n",
    "print(use_features)\n",
    "a.change_features(use_features)\n",
    "a.train_model()"
   ]
  },
  {
   "cell_type": "code",
   "execution_count": null,
   "metadata": {},
   "outputs": [],
   "source": [
    "# %%\n",
    "a.plot_training()\n",
    "a.plot_training(xlim=[0,a.model.best_iteration+10] , ylim=[0.8,4.])\n",
    "pred = a.test_prediction()\n",
    "a.plot_importance()\n",
    "a.plot_histogram()"
   ]
  },
  {
   "cell_type": "code",
   "execution_count": null,
   "metadata": {},
   "outputs": [],
   "source": [
    "\n",
    "# %%\n",
    "a.plot_tree()\n",
    "a.plot_sdt('train')\n",
    "a.plot_pdp('train')\n",
    "if a.train_param['linear_tree']==False:\n",
    "    a.plot_shap('train') # Error now due to Numpy >= 1.24 and shap from pip not compatible"
   ]
  }
 ],
 "metadata": {
  "kernelspec": {
   "display_name": "Python 3",
   "language": "python",
   "name": "python3"
  },
  "language_info": {
   "codemirror_mode": {
    "name": "ipython",
    "version": 3
   },
   "file_extension": ".py",
   "mimetype": "text/x-python",
   "name": "python",
   "nbconvert_exporter": "python",
   "pygments_lexer": "ipython3",
   "version": "3.10.12"
  }
 },
 "nbformat": 4,
 "nbformat_minor": 2
}
