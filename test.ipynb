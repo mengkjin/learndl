{
 "cells": [
  {
   "cell_type": "code",
   "execution_count": 1,
   "metadata": {},
   "outputs": [
    {
     "name": "stdout",
     "output_type": "stream",
     "text": [
      "now using random u!!!!!!\n"
     ]
    },
    {
     "data": {
      "text/plain": [
       "PortOptimResult ---------- \n",
       "Information : \n",
       "    is_success = True ,\n",
       "    status     = optimal ,\n",
       "Result : \n",
       "    utility    = Utility(Total Utility=[2.2409],alpha=[2.5093],square=[-0.2684],short=[-0.0000])\n",
       "    accuracy   = Accuarcy(Is Accurate=[True] ,,\n",
       "          lin_ub_bias=(√)6.122275686415435e-09,\n",
       "          lin_lb_bias=(√)-6.122275797437737e-09,\n",
       "          bnd_ub_bias=(√)0.0,\n",
       "          bnd_lb_bias=(√)-6.260159294157552e-09\n",
       "Portfolio <date=20240530> <name=port> <value=None> : \n",
       "      secid    weight\n",
       "0    300760  0.032973\n",
       "1    601169  0.031407\n",
       "2    300655  0.030826\n",
       "3    600015  0.030720\n",
       "4    600958  0.030696\n",
       "..      ...       ...\n",
       "99   601869  0.000005\n",
       "100  600558  0.000002\n",
       "101  601717  0.000001\n",
       "102     596  0.000001\n",
       "103  300257  0.000001\n",
       "\n",
       "[104 rows x 2 columns]\n",
       "Analytic : \n",
       " portfolio benchmark active\n",
       "style   \n",
       "size -0.7714 -0.5875 -0.1839\n",
       "beta 0.5912 0.5932 -0.0020\n",
       "momentum -0.2794 -0.2591 -0.0203\n",
       "residual_volatility -0.2654 -0.2621 -0.0032\n",
       "non_linear_size 0.4849 0.5821 -0.0971\n",
       "book_to_price -0.1521 -0.2034 0.0513\n",
       "liquidity 0.0348 0.0333 0.0015\n",
       "earnings_yield -0.3359 -0.3363 0.0004\n",
       "growth -0.1371 0.0566 -0.1938\n",
       "leverage -0.2376 -0.1976 -0.0399\n",
       "\n",
       "    accuracy   = Accuarcy(Is Accurate=[True] ,,\n",
       "          lin_ub_bias=(√)6.122275686415435e-09,\n",
       "          lin_lb_bias=(√)-6.122275797437737e-09,\n",
       "          bnd_ub_bias=(√)0.0,\n",
       "          bnd_lb_bias=(√)-6.260159294157552e-09\n",
       "Other components include ['w' , 'secid'])"
      ]
     },
     "execution_count": 1,
     "metadata": {},
     "output_type": "execute_result"
    }
   ],
   "source": [
    "from src.factor.optimizer.api import PortfolioOptimizer\n",
    "config_path = 'custom_opt_config.yaml'\n",
    "\n",
    "optim = PortfolioOptimizer('quadprog')\n",
    "optim.setup_optimizer(config_path)\n",
    "\n",
    "s0 = optim.optimize(20240530)\n",
    "s0\n"
   ]
  },
  {
   "cell_type": "code",
   "execution_count": 2,
   "metadata": {},
   "outputs": [
    {
     "name": "stdout",
     "output_type": "stream",
     "text": [
      "now using random u!!!!!!\n"
     ]
    },
    {
     "data": {
      "text/plain": [
       "PortOptimResult ------> \n",
       "Information : \n",
       "    is_success = True ,\n",
       "    status     = optimal ,\n",
       "Result : \n",
       "    utility    = Utility(Total Utility=[0.2393],alpha=[0.4550],square=[-0.2155],turnover=[-0.0002],short=[-0.0000])\n",
       "    accuracy   = Accuarcy(Is Accurate=[True] ,,\n",
       "          lin_ub_bias=(√)1.0981570097712279e-09,\n",
       "          lin_lb_bias=(√)-1.7565824350640469e-09,\n",
       "          bnd_ub_bias=(√)-1.2800777451915657e-10,\n",
       "          bnd_lb_bias=(√)-5.622228448614264e-10,\n",
       "          excess_turn=(X)-1.5161760266724222e-06\n",
       "Portfolio <date=20240606> <name=port> <value=None> : \n",
       "      secid    weight\n",
       "0    601658  0.030912\n",
       "1      2004  0.030882\n",
       "2      2060  0.025924\n",
       "3    605333  0.024511\n",
       "4      2142  0.022980\n",
       "..      ...       ...\n",
       "115  688271  0.000004\n",
       "116  600882  0.000003\n",
       "117    2897  0.000002\n",
       "118     938  0.000001\n",
       "119  301207  0.000001\n",
       "\n",
       "[120 rows x 2 columns]\n",
       "Other components include ['w' , 'secid'])"
      ]
     },
     "execution_count": 2,
     "metadata": {},
     "output_type": "execute_result"
    }
   ],
   "source": [
    "s0.port = s0.port.forward(20240606)\n",
    "s1 = optim.optimize(20240606 , initial_port=s0.port)\n",
    "s1"
   ]
  },
  {
   "cell_type": "code",
   "execution_count": 3,
   "metadata": {},
   "outputs": [],
   "source": [
    "from src.factor.basic import RISK_MODEL\n",
    "risk_model = RISK_MODEL.get(20240606)"
   ]
  },
  {
   "cell_type": "code",
   "execution_count": 4,
   "metadata": {},
   "outputs": [
    {
     "data": {
      "text/plain": [
       "Portfolio <date=20240606> <name=port> <value=None> : \n",
       "      secid    weight\n",
       "0    605111  0.032345\n",
       "1    601658  0.031736\n",
       "2      2004  0.030961\n",
       "3      2060  0.025924\n",
       "4    605333  0.024511\n",
       "..      ...       ...\n",
       "101  688271  0.000004\n",
       "102  600882  0.000003\n",
       "103    2897  0.000002\n",
       "104     938  0.000001\n",
       "105  301207  0.000001\n",
       "\n",
       "[106 rows x 2 columns]"
      ]
     },
     "execution_count": 4,
     "metadata": {},
     "output_type": "execute_result"
    }
   ],
   "source": [
    "s0.port"
   ]
  },
  {
   "cell_type": "code",
   "execution_count": 74,
   "metadata": {},
   "outputs": [
    {
     "data": {
      "text/plain": [
       "(RiskProfile(factors=['market', 'petro', 'coal', 'nonferrous', 'utility', 'public', 'steel', 'chemical', 'construct', 'cement', 'material', 'light', 'machine', 'power', 'defense', 'auto', 'retail', 'leisure', 'appliance', 'textile', 'health', 'liqor', 'food', 'agro', 'bank', 'financial', 'estate', 'transport', 'marine', 'airline', 'electronic', 'telecom', 'hardware', 'software', 'media', 'complex', 'size', 'beta', 'momentum', 'residual_volatility', 'non_linear_size', 'book_to_price', 'liquidity', 'earnings_yield', 'growth', 'leverage'], exposure=array([ 1.        ,  0.01992276,  0.0097974 ,  0.04099828,  0.06266961,\n",
       "         0.01035758,  0.        ,  0.04561095,  0.01090874,  0.01214167,\n",
       "         0.0153558 ,  0.01908723,  0.06660478,  0.06523091,  0.03647615,\n",
       "         0.04151588,  0.01933528,  0.        ,  0.01816021,  0.00366443,\n",
       "         0.10107917,  0.02547328,  0.00912022,  0.00815236,  0.05584448,\n",
       "         0.03245167,  0.01721723,  0.01977669,  0.00127848,  0.01389815,\n",
       "         0.10655934,  0.0237619 ,  0.        ,  0.04365919,  0.04389018,\n",
       "         0.        , -0.83982421,  0.61896533, -0.32209923, -0.34816222,\n",
       "         0.55327498, -0.13436111, -0.08872929, -0.25825249, -0.02709067,\n",
       "        -0.28917699]), variance=0.04879237362701624),\n",
       " RiskProfile(factors=['market', 'petro', 'coal', 'nonferrous', 'utility', 'public', 'steel', 'chemical', 'construct', 'cement', 'material', 'light', 'machine', 'power', 'defense', 'auto', 'retail', 'leisure', 'appliance', 'textile', 'health', 'liqor', 'food', 'agro', 'bank', 'financial', 'estate', 'transport', 'marine', 'airline', 'electronic', 'telecom', 'hardware', 'software', 'media', 'complex', 'size', 'beta', 'momentum', 'residual_volatility', 'non_linear_size', 'book_to_price', 'liquidity', 'earnings_yield', 'growth', 'leverage'], exposure=array([ 0.99999492,  0.        ,  0.0097974 ,  0.04045722,  0.05969703,\n",
       "         0.00366019,  0.        ,  0.04936752,  0.01062952,  0.01338377,\n",
       "         0.01535575,  0.01908721,  0.06520249,  0.06523073,  0.03647609,\n",
       "         0.0535026 ,  0.01933528,  0.        ,  0.01816021,  0.00366441,\n",
       "         0.10944769,  0.02547328,  0.01267727,  0.01292072,  0.05502051,\n",
       "         0.0462948 ,  0.00694324,  0.02858934,  0.00170445,  0.0133721 ,\n",
       "         0.09341871,  0.02376189,  0.        ,  0.04347331,  0.04389017,\n",
       "         0.        , -0.83662317,  0.6039427 , -0.31376493, -0.360176  ,\n",
       "         0.55853521, -0.15058849, -0.10950955, -0.29748995, -0.0740909 ,\n",
       "        -0.24736318]), variance=0.04820796610445995))"
      ]
     },
     "execution_count": 74,
     "metadata": {},
     "output_type": "execute_result"
    }
   ],
   "source": [
    "from argparse import Namespace\n",
    "from dataclasses import dataclass\n",
    "import pandas as pd\n",
    "import numpy as np\n",
    "from src.environ import RISK_INDUS , RISK_STYLE\n",
    "\n",
    "from typing import Any , ClassVar , Literal , Optional\n",
    "\n",
    "@dataclass\n",
    "class RiskProfile:\n",
    "    factors  : Optional[np.ndarray | list] = None\n",
    "    exposure : Optional[np.ndarray] = None\n",
    "    variance : Optional[float] = None\n",
    "\n",
    "    variance_measure : ClassVar[list[str]] = ['variance','std_dev']\n",
    "\n",
    "    def __bool__(self): return self.factors is not None\n",
    "    @property\n",
    "    def standard_deviation(self): return np.sqrt(self.variance) if self.variance is not None else None\n",
    "    def to_dataframe(self):\n",
    "        if not self: return None\n",
    "        df0 = pd.DataFrame({'factor_name':self.factors,'value':self.exposure})\n",
    "        df1 = pd.DataFrame({'factor_name':self.variance_measure,'value':[self.variance,self.standard_deviation]})\n",
    "        return pd.concat([df0,df1]).set_index('factor_name')\n",
    "    \n",
    "@dataclass\n",
    "class Analytic:\n",
    "    industry : pd.DataFrame | Any = None\n",
    "    style    : pd.DataFrame | Any = None\n",
    "    risk     : pd.DataFrame | Any = None\n",
    "\n",
    "    def __post_init__(self):\n",
    "        ...\n",
    "\n",
    "    def __bool__(self): return self.industry is not None\n",
    "\n",
    "    def append(self , port_type : Literal['portfolio' , 'benchmark' , 'initial' , 'active'] , risk_profile : RiskProfile):\n",
    "        df = risk_profile.to_dataframe()\n",
    "        if df is None: return\n",
    "        industry = df.loc[RISK_INDUS].rename(columns={'value':port_type}).rename_axis('industry',axis='index')\n",
    "        style    = df.loc[RISK_STYLE].rename(columns={'value':port_type}).rename_axis('style',axis='index')\n",
    "        risk     = df.loc[RiskProfile.variance_measure].rename(columns={'value':port_type}).rename_axis('measure',axis='index')\n",
    "        \n",
    "        if self:\n",
    "            self.industry = pd.concat([self.industry , industry] , axis = 1)\n",
    "            self.style    = pd.concat([self.style    , style   ] , axis = 1)\n",
    "            self.risk     = pd.concat([self.risk     , risk    ] , axis = 1)\n",
    "        else:\n",
    "            self.industry = industry\n",
    "            self.style    = style\n",
    "            self.risk     = risk\n",
    "\n",
    "    def styler(self):\n",
    "        return type(self)(\n",
    "            self.industry.style.format(lambda x:f'{x:.2%}') ,\n",
    "            self.style.style.format(lambda x:f'{x:.4f}') ,\n",
    "            self.risk.style.format(lambda x:f'{x:.4%}')\n",
    "        )\n",
    "        \n",
    "\n",
    "def common_exposure(self , port):\n",
    "    rmodel_f = self.F.loc[port.secid , self.common_factors]\n",
    "    return port.weight.dot(rmodel_f)\n",
    "\n",
    "def specific_risk(self , port):\n",
    "    rmodel_s = self.S.loc[port.secid].values.flatten()\n",
    "    return (port.weight * rmodel_s).dot(port.weight)\n",
    "\n",
    "def analysis(self , port = None):\n",
    "    if port is None: return RiskProfile()\n",
    "    common_exp = common_exposure(self  , port)\n",
    "    variance = common_exp.dot(self.C).dot(common_exp.T) + specific_risk(self , port)\n",
    "    return RiskProfile(self.common_factors , common_exp , variance)\n",
    "\n",
    "def analyze(self , port , bench = None , init = None):\n",
    "    rslt = Analytic()\n",
    "    rslt.append('portfolio' , analysis(self , port))\n",
    "    rslt.append('initial'   , analysis(self , init))\n",
    "    rslt.append('benchmark' , analysis(self , bench))\n",
    "    rslt.append('active'    , analysis(self , None if bench is None else port - bench))\n",
    "    return rslt\n",
    "\n",
    "analysis(risk_model , s0.port) , analysis(risk_model , s1.port)"
   ]
  },
  {
   "cell_type": "code",
   "execution_count": 79,
   "metadata": {},
   "outputs": [
    {
     "data": {
      "text/html": [
       "<style type=\"text/css\">\n",
       "</style>\n",
       "<table id=\"T_941ab\">\n",
       "  <thead>\n",
       "    <tr>\n",
       "      <th class=\"blank level0\" >&nbsp;</th>\n",
       "      <th id=\"T_941ab_level0_col0\" class=\"col_heading level0 col0\" >portfolio</th>\n",
       "      <th id=\"T_941ab_level0_col1\" class=\"col_heading level0 col1\" >initial</th>\n",
       "      <th id=\"T_941ab_level0_col2\" class=\"col_heading level0 col2\" >benchmark</th>\n",
       "      <th id=\"T_941ab_level0_col3\" class=\"col_heading level0 col3\" >active</th>\n",
       "    </tr>\n",
       "    <tr>\n",
       "      <th class=\"index_name level0\" >measure</th>\n",
       "      <th class=\"blank col0\" >&nbsp;</th>\n",
       "      <th class=\"blank col1\" >&nbsp;</th>\n",
       "      <th class=\"blank col2\" >&nbsp;</th>\n",
       "      <th class=\"blank col3\" >&nbsp;</th>\n",
       "    </tr>\n",
       "  </thead>\n",
       "  <tbody>\n",
       "    <tr>\n",
       "      <th id=\"T_941ab_level0_row0\" class=\"row_heading level0 row0\" >variance</th>\n",
       "      <td id=\"T_941ab_row0_col0\" class=\"data row0 col0\" >4.8792%</td>\n",
       "      <td id=\"T_941ab_row0_col1\" class=\"data row0 col1\" >4.8208%</td>\n",
       "      <td id=\"T_941ab_row0_col2\" class=\"data row0 col2\" >4.3142%</td>\n",
       "      <td id=\"T_941ab_row0_col3\" class=\"data row0 col3\" >0.4647%</td>\n",
       "    </tr>\n",
       "    <tr>\n",
       "      <th id=\"T_941ab_level0_row1\" class=\"row_heading level0 row1\" >std_dev</th>\n",
       "      <td id=\"T_941ab_row1_col0\" class=\"data row1 col0\" >22.0890%</td>\n",
       "      <td id=\"T_941ab_row1_col1\" class=\"data row1 col1\" >21.9563%</td>\n",
       "      <td id=\"T_941ab_row1_col2\" class=\"data row1 col2\" >20.7707%</td>\n",
       "      <td id=\"T_941ab_row1_col3\" class=\"data row1 col3\" >6.8167%</td>\n",
       "    </tr>\n",
       "  </tbody>\n",
       "</table>\n"
      ],
      "text/plain": [
       "<pandas.io.formats.style.Styler at 0x1d0a6203050>"
      ]
     },
     "execution_count": 79,
     "metadata": {},
     "output_type": "execute_result"
    }
   ],
   "source": [
    "import pandas as pd\n",
    "def analyze(self , port , bench = None , init = None):\n",
    "    rslt = Analytic()\n",
    "    rslt.append('portfolio' , analysis(self , port))\n",
    "    rslt.append('initial'   , analysis(self , init))\n",
    "    rslt.append('benchmark' , analysis(self , bench))\n",
    "    rslt.append('active'    , analysis(self , None if bench is None else port - bench))\n",
    "    return rslt\n",
    "rslt = analyze(risk_model , s0.port , optim.opt_input.benchmark_port , s1.port)\n",
    "rslt.styler().risk"
   ]
  },
  {
   "cell_type": "code",
   "execution_count": 63,
   "metadata": {},
   "outputs": [
    {
     "data": {
      "text/plain": [
       "Analytic(industry=              active\n",
       "industry            \n",
       "petro       0.010528\n",
       "coal       -0.009590\n",
       "nonferrous -0.009459\n",
       "utility     0.031016\n",
       "public     -0.002657\n",
       "steel      -0.008701\n",
       "chemical   -0.007626\n",
       "construct  -0.009722\n",
       "cement      0.008758\n",
       "material    0.009958\n",
       "light       0.009442\n",
       "machine     0.014171\n",
       "power      -0.010412\n",
       "defense     0.007098\n",
       "auto        0.000283\n",
       "retail      0.008589\n",
       "leisure    -0.002738\n",
       "appliance  -0.001147\n",
       "textile    -0.003524\n",
       "health     -0.013801\n",
       "liqor      -0.007463\n",
       "food       -0.009524\n",
       "agro       -0.010732\n",
       "bank        0.008790\n",
       "financial  -0.008814\n",
       "estate      0.000274\n",
       "transport   0.005482\n",
       "marine     -0.010426\n",
       "airline     0.010526\n",
       "electronic  0.005088\n",
       "telecom    -0.000739\n",
       "hardware   -0.007702\n",
       "software   -0.009814\n",
       "media       0.015680\n",
       "complex    -0.001092, style=                       active\n",
       "style                        \n",
       "size                -0.230549\n",
       "beta                 0.000095\n",
       "momentum            -0.076576\n",
       "residual_volatility -0.057566\n",
       "non_linear_size     -0.028503\n",
       "book_to_price        0.067377\n",
       "liquidity           -0.118677\n",
       "earnings_yield       0.075821\n",
       "growth              -0.083080\n",
       "leverage            -0.085042, risk=            active\n",
       "measure           \n",
       "variance  0.004647\n",
       "std_dev   0.068167)"
      ]
     },
     "execution_count": 63,
     "metadata": {},
     "output_type": "execute_result"
    }
   ],
   "source": [
    "rslt"
   ]
  },
  {
   "cell_type": "code",
   "execution_count": null,
   "metadata": {},
   "outputs": [],
   "source": [
    "d"
   ]
  },
  {
   "cell_type": "code",
   "execution_count": 47,
   "metadata": {},
   "outputs": [
    {
     "data": {
      "text/plain": [
       "RiskProfile(factors=None, exposure=None, variance=None)"
      ]
     },
     "execution_count": 47,
     "metadata": {},
     "output_type": "execute_result"
    }
   ],
   "source": [
    "analysis(risk_model)"
   ]
  },
  {
   "cell_type": "code",
   "execution_count": null,
   "metadata": {},
   "outputs": [],
   "source": []
  },
  {
   "cell_type": "code",
   "execution_count": 5,
   "metadata": {},
   "outputs": [
    {
     "data": {
      "text/html": [
       "<div>\n",
       "<style scoped>\n",
       "    .dataframe tbody tr th:only-of-type {\n",
       "        vertical-align: middle;\n",
       "    }\n",
       "\n",
       "    .dataframe tbody tr th {\n",
       "        vertical-align: top;\n",
       "    }\n",
       "\n",
       "    .dataframe thead th {\n",
       "        text-align: right;\n",
       "    }\n",
       "</style>\n",
       "<table border=\"1\" class=\"dataframe\">\n",
       "  <thead>\n",
       "    <tr style=\"text-align: right;\">\n",
       "      <th></th>\n",
       "      <th>secid</th>\n",
       "      <th>weight</th>\n",
       "    </tr>\n",
       "  </thead>\n",
       "  <tbody>\n",
       "    <tr>\n",
       "      <th>0</th>\n",
       "      <td>601006</td>\n",
       "      <td>0.025522</td>\n",
       "    </tr>\n",
       "    <tr>\n",
       "      <th>1</th>\n",
       "      <td>600657</td>\n",
       "      <td>0.018860</td>\n",
       "    </tr>\n",
       "    <tr>\n",
       "      <th>2</th>\n",
       "      <td>688100</td>\n",
       "      <td>0.018175</td>\n",
       "    </tr>\n",
       "    <tr>\n",
       "      <th>3</th>\n",
       "      <td>778</td>\n",
       "      <td>0.017457</td>\n",
       "    </tr>\n",
       "    <tr>\n",
       "      <th>4</th>\n",
       "      <td>601108</td>\n",
       "      <td>0.017248</td>\n",
       "    </tr>\n",
       "    <tr>\n",
       "      <th>...</th>\n",
       "      <td>...</td>\n",
       "      <td>...</td>\n",
       "    </tr>\n",
       "    <tr>\n",
       "      <th>312</th>\n",
       "      <td>2679</td>\n",
       "      <td>-0.008031</td>\n",
       "    </tr>\n",
       "    <tr>\n",
       "      <th>313</th>\n",
       "      <td>688565</td>\n",
       "      <td>-0.008247</td>\n",
       "    </tr>\n",
       "    <tr>\n",
       "      <th>314</th>\n",
       "      <td>300955</td>\n",
       "      <td>-0.008937</td>\n",
       "    </tr>\n",
       "    <tr>\n",
       "      <th>315</th>\n",
       "      <td>300329</td>\n",
       "      <td>-0.011669</td>\n",
       "    </tr>\n",
       "    <tr>\n",
       "      <th>316</th>\n",
       "      <td>600939</td>\n",
       "      <td>-0.016467</td>\n",
       "    </tr>\n",
       "  </tbody>\n",
       "</table>\n",
       "<p>317 rows × 2 columns</p>\n",
       "</div>"
      ],
      "text/plain": [
       "      secid    weight\n",
       "0    601006  0.025522\n",
       "1    600657  0.018860\n",
       "2    688100  0.018175\n",
       "3       778  0.017457\n",
       "4    601108  0.017248\n",
       "..      ...       ...\n",
       "312    2679 -0.008031\n",
       "313  688565 -0.008247\n",
       "314  300955 -0.008937\n",
       "315  300329 -0.011669\n",
       "316  600939 -0.016467\n",
       "\n",
       "[317 rows x 2 columns]"
      ]
     },
     "execution_count": 5,
     "metadata": {},
     "output_type": "execute_result"
    }
   ],
   "source": [
    "s.port.port.reset_index(drop=True)"
   ]
  },
  {
   "cell_type": "code",
   "execution_count": 8,
   "metadata": {},
   "outputs": [
    {
     "ename": "TypeError",
     "evalue": "DataFrame.merge() got an unexpected keyword argument 'by'",
     "output_type": "error",
     "traceback": [
      "\u001b[1;31m---------------------------------------------------------------------------\u001b[0m",
      "\u001b[1;31mTypeError\u001b[0m                                 Traceback (most recent call last)",
      "Cell \u001b[1;32mIn[8], line 1\u001b[0m\n\u001b[1;32m----> 1\u001b[0m \u001b[43md0\u001b[49m\u001b[38;5;241;43m.\u001b[39;49m\u001b[43mmerge\u001b[49m\u001b[43m(\u001b[49m\u001b[43ms\u001b[49m\u001b[38;5;241;43m.\u001b[39;49m\u001b[43mport\u001b[49m\u001b[43m \u001b[49m\u001b[43m,\u001b[49m\u001b[43m \u001b[49m\u001b[43mby\u001b[49m\u001b[43m \u001b[49m\u001b[38;5;241;43m=\u001b[39;49m\u001b[43m \u001b[49m\u001b[38;5;124;43m'\u001b[39;49m\u001b[38;5;124;43msecid\u001b[39;49m\u001b[38;5;124;43m'\u001b[39;49m\u001b[43m)\u001b[49m\n",
      "\u001b[1;31mTypeError\u001b[0m: DataFrame.merge() got an unexpected keyword argument 'by'"
     ]
    }
   ],
   "source": []
  },
  {
   "cell_type": "code",
   "execution_count": 12,
   "metadata": {},
   "outputs": [
    {
     "data": {
      "text/plain": [
       "array([1.9106474, 2.312497 , 4.0749316, ..., 3.564367 , 3.55709  ,\n",
       "       6.9876666], dtype=float32)"
      ]
     },
     "execution_count": 12,
     "metadata": {},
     "output_type": "execute_result"
    }
   ],
   "source": [
    "optim.solver.input.cov_con.S"
   ]
  }
 ],
 "metadata": {
  "kernelspec": {
   "display_name": "Python 3",
   "language": "python",
   "name": "python3"
  },
  "language_info": {
   "codemirror_mode": {
    "name": "ipython",
    "version": 3
   },
   "file_extension": ".py",
   "mimetype": "text/x-python",
   "name": "python",
   "nbconvert_exporter": "python",
   "pygments_lexer": "ipython3",
   "version": "3.11.8"
  }
 },
 "nbformat": 4,
 "nbformat_minor": 2
}
