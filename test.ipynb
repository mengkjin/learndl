{
 "cells": [
  {
   "cell_type": "code",
   "execution_count": 16,
   "metadata": {},
   "outputs": [],
   "source": [
    "from collections import namedtuple\n",
    "from dataclasses import dataclass\n",
    "from typing import ClassVar\n",
    "import torch\n",
    "\n",
    "# A = namedtuple('Test' , ['x' , 'y'])\n",
    "@dataclass\n",
    "class Test:\n",
    "    x : torch.Tensor\n",
    "    y : torch.Tensor\n",
    "\n",
    "    __slots__ : ClassVar[list] = ['x' , 'y']\n",
    "\n",
    "    def __post_init__(self):\n",
    "        # self.c = 4\n",
    "        pass\n",
    "\n",
    "    @property\n",
    "    def c(self): return 4\n",
    "a = Test(torch.rand(100) , torch.rand(100))"
   ]
  },
  {
   "cell_type": "code",
   "execution_count": 3,
   "metadata": {},
   "outputs": [
    {
     "name": "stdout",
     "output_type": "stream",
     "text": [
      "2\n",
      "3\n",
      "4\n",
      "0\n",
      "1\n",
      "2\n",
      "3\n",
      "4\n",
      "0\n",
      "1\n",
      "2\n",
      "3\n",
      "4\n",
      "0\n",
      "1\n",
      "2\n",
      "3\n",
      "4\n",
      "5\n",
      "6\n",
      "7\n",
      "8\n",
      "9\n"
     ]
    }
   ],
   "source": [
    "k=3\n",
    "while i < 10:\n",
    "    if k > 0 and i >= 5:\n",
    "        i = 0\n",
    "        k -= 1\n",
    "    print(i)\n",
    "    i += 1"
   ]
  }
 ],
 "metadata": {
  "kernelspec": {
   "display_name": "Python 3",
   "language": "python",
   "name": "python3"
  },
  "language_info": {
   "codemirror_mode": {
    "name": "ipython",
    "version": 3
   },
   "file_extension": ".py",
   "mimetype": "text/x-python",
   "name": "python",
   "nbconvert_exporter": "python",
   "pygments_lexer": "ipython3",
   "version": "3.11.8"
  }
 },
 "nbformat": 4,
 "nbformat_minor": 2
}
