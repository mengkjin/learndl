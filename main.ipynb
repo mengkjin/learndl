{
 "cells": [
  {
   "cell_type": "code",
   "execution_count": 1,
   "metadata": {},
   "outputs": [
    {
     "data": {
      "text/plain": [
       "True"
      ]
     },
     "execution_count": 1,
     "metadata": {},
     "output_type": "execute_result"
    }
   ],
   "source": [
    "# %% test cuda\n",
    "import torch #type: ignore\n",
    "torch.cuda.is_available()"
   ]
  },
  {
   "cell_type": "code",
   "execution_count": 3,
   "metadata": {},
   "outputs": [
    {
     "name": "stdout",
     "output_type": "stream",
     "text": [
      "Merge Update Files\n",
      "['/home/mengkjin/Workspace/SharedFolder/DB_updater.2.h5', '/home/mengkjin/Workspace/SharedFolder/DB_updater.3.h5']\n",
      "Sun Mar 17 19:28:53 2024 : DB_updater.2.h5 > data/DB_data/DB_information/DB_information.h5/./basic/calendar copying Done!\n",
      "Sun Mar 17 19:29:02 2024 : DB_updater.2.h5 > data/DB_data/DB_information/DB_information.h5/./stock/concepts copying Done!\n",
      "Sun Mar 17 19:29:03 2024 : DB_updater.2.h5 > data/DB_data/DB_information/DB_information.h5/./stock/description copying Done!\n",
      "Sun Mar 17 19:29:21 2024 : DB_updater.2.h5 > data/DB_data/DB_information/DB_information.h5/./stock/industry copying Done!\n",
      "Sun Mar 17 19:29:21 2024 : DB_updater.2.h5 > data/DB_data/DB_information/DB_information.h5/./stock/st copying Done!\n",
      "Sun Mar 17 19:29:21 2024 : DB_updater.2.h5 > data/DB_data/DB_labels/DB_labels.2024.h5/./10days/lag0 copying Done!\n",
      "Sun Mar 17 19:29:21 2024 : DB_updater.2.h5 > data/DB_data/DB_labels/DB_labels.2024.h5/./10days/lag1 copying Done!\n",
      "Sun Mar 17 19:29:21 2024 : DB_updater.2.h5 > data/DB_data/DB_labels/DB_labels.2024.h5/./20days/lag0 copying Done!\n",
      "Sun Mar 17 19:29:22 2024 : DB_updater.2.h5 > data/DB_data/DB_labels/DB_labels.2024.h5/./20days/lag1 copying Done!\n",
      "Sun Mar 17 19:29:22 2024 : DB_updater.2.h5 > data/DB_data/DB_labels/DB_labels.2024.h5/./5days/lag0 copying Done!\n",
      "Sun Mar 17 19:29:22 2024 : DB_updater.2.h5 > data/DB_data/DB_labels/DB_labels.2024.h5/./5days/lag1 copying Done!\n",
      "Sun Mar 17 19:29:22 2024 : DB_updater.2.h5 > data/DB_data/DB_models/DB_models.2024.h5/./alpha_longcl/exposure copying Done!\n",
      "Sun Mar 17 19:29:22 2024 : DB_updater.2.h5 > data/DB_data/DB_models/DB_models.2024.h5/./risk_model/exposure copying Done!\n",
      "Sun Mar 17 19:29:22 2024 : DB_updater.2.h5 > data/DB_data/DB_trade_Xday/DB_trade_Xday.2024.h5/./10day/trade copying Done!\n",
      "Sun Mar 17 19:29:22 2024 : DB_updater.2.h5 > data/DB_data/DB_trade_Xday/DB_trade_Xday.2024.h5/./20day/trade copying Done!\n",
      "Sun Mar 17 19:29:22 2024 : DB_updater.2.h5 > data/DB_data/DB_trade_Xday/DB_trade_Xday.2024.h5/./5day/trade copying Done!\n",
      "Sun Mar 17 19:29:23 2024 : DB_updater.2.h5 > data/DB_data/DB_trade_Xmin/DB_trade_Xmin.2024.h5/./10min/trade copying Done!\n",
      "Sun Mar 17 19:29:23 2024 : DB_updater.2.h5 > data/DB_data/DB_trade_Xmin/DB_trade_Xmin.2024.h5/./15min/trade copying Done!\n",
      "Sun Mar 17 19:29:23 2024 : DB_updater.2.h5 > data/DB_data/DB_trade_Xmin/DB_trade_Xmin.2024.h5/./30min/trade copying Done!\n",
      "Sun Mar 17 19:29:25 2024 : DB_updater.2.h5 > data/DB_data/DB_trade_Xmin/DB_trade_Xmin.2024.h5/./5min/trade copying Done!\n",
      "Sun Mar 17 19:29:25 2024 : DB_updater.2.h5 > data/DB_data/DB_trade_Xmin/DB_trade_Xmin.2024.h5/./60min/trade copying Done!\n",
      "Sun Mar 17 19:29:25 2024 : DB_updater.2.h5 > data/DB_data/DB_trade_day/DB_trade_day.2024.h5/./day/trade copying Done!\n",
      "Sun Mar 17 19:29:32 2024 : DB_updater.2.h5 > data/DB_data/DB_trade_min/DB_trade_min.2024.h5/./minute/trade copying Done!\n",
      "Sun Mar 17 19:29:32 2024 : DB_updater.3.h5 > data/DB_data/DB_information/DB_information.h5/./basic/calendar copying Done!\n",
      "Sun Mar 17 19:29:41 2024 : DB_updater.3.h5 > data/DB_data/DB_information/DB_information.h5/./stock/concepts copying Done!\n",
      "Sun Mar 17 19:29:41 2024 : DB_updater.3.h5 > data/DB_data/DB_information/DB_information.h5/./stock/description copying Done!\n",
      "Sun Mar 17 19:30:00 2024 : DB_updater.3.h5 > data/DB_data/DB_information/DB_information.h5/./stock/industry copying Done!\n",
      "Sun Mar 17 19:30:00 2024 : DB_updater.3.h5 > data/DB_data/DB_information/DB_information.h5/./stock/st copying Done!\n",
      "Sun Mar 17 19:30:00 2024 : DB_updater.3.h5 > data/DB_data/DB_labels/DB_labels.2024.h5/./10days/lag0 copying Done!\n",
      "Sun Mar 17 19:30:00 2024 : DB_updater.3.h5 > data/DB_data/DB_labels/DB_labels.2024.h5/./10days/lag1 copying Done!\n",
      "Sun Mar 17 19:30:00 2024 : DB_updater.3.h5 > data/DB_data/DB_labels/DB_labels.2024.h5/./20days/lag0 copying Done!\n",
      "Sun Mar 17 19:30:00 2024 : DB_updater.3.h5 > data/DB_data/DB_labels/DB_labels.2024.h5/./20days/lag1 copying Done!\n",
      "Sun Mar 17 19:30:00 2024 : DB_updater.3.h5 > data/DB_data/DB_labels/DB_labels.2024.h5/./5days/lag0 copying Done!\n",
      "Sun Mar 17 19:30:00 2024 : DB_updater.3.h5 > data/DB_data/DB_labels/DB_labels.2024.h5/./5days/lag1 copying Done!\n",
      "Sun Mar 17 19:30:00 2024 : DB_updater.3.h5 > data/DB_data/DB_models/DB_models.2024.h5/./risk_model/exposure copying Done!\n",
      "Sun Mar 17 19:30:00 2024 : DB_updater.3.h5 > data/DB_data/DB_trade_Xday/DB_trade_Xday.2024.h5/./10day/trade copying Done!\n",
      "Sun Mar 17 19:30:00 2024 : DB_updater.3.h5 > data/DB_data/DB_trade_Xday/DB_trade_Xday.2024.h5/./20day/trade copying Done!\n",
      "Sun Mar 17 19:30:00 2024 : DB_updater.3.h5 > data/DB_data/DB_trade_Xday/DB_trade_Xday.2024.h5/./5day/trade copying Done!\n",
      "Sun Mar 17 19:30:00 2024 : DB_updater.3.h5 > data/DB_data/DB_trade_Xmin/DB_trade_Xmin.2024.h5/./10min/trade copying Done!\n",
      "Sun Mar 17 19:30:01 2024 : DB_updater.3.h5 > data/DB_data/DB_trade_Xmin/DB_trade_Xmin.2024.h5/./15min/trade copying Done!\n",
      "Sun Mar 17 19:30:01 2024 : DB_updater.3.h5 > data/DB_data/DB_trade_Xmin/DB_trade_Xmin.2024.h5/./30min/trade copying Done!\n",
      "Sun Mar 17 19:30:02 2024 : DB_updater.3.h5 > data/DB_data/DB_trade_Xmin/DB_trade_Xmin.2024.h5/./5min/trade copying Done!\n",
      "Sun Mar 17 19:30:02 2024 : DB_updater.3.h5 > data/DB_data/DB_trade_Xmin/DB_trade_Xmin.2024.h5/./60min/trade copying Done!\n",
      "Sun Mar 17 19:30:02 2024 : DB_updater.3.h5 > data/DB_data/DB_trade_day/DB_trade_day.2024.h5/./day/trade copying Done!\n",
      "Sun Mar 17 19:30:06 2024 : DB_updater.3.h5 > data/DB_data/DB_trade_min/DB_trade_min.2024.h5/./minute/trade copying Done!\n",
      "Sun Mar 17 19:30:06 2024 : All Updates Done! Cost 75.25 Secs\n",
      "Sun Mar 17 19:30:09 2024 : haitong/hf_factors since 20240314 to 20240317, total 1 periods(QE)\n",
      "Sun Mar 17 19:30:15 2024 : haitong/dl_factors since 20240315 to 20240317, total 1 periods(QE)\n",
      "Sun Mar 17 19:31:04 2024 : dongfang/hfq_chars since 20240315 to 20240317, total 1 periods(QE)\n",
      "Sun Mar 17 19:31:08 2024 : dongfang/l2_chars since 20240315 to 20240317, total 1 periods(QE)\n",
      "Sun Mar 17 19:32:14 2024 : dongfang/ms_chars since 20240315 to 20240317, total 1 periods(QE)\n",
      "Sun Mar 17 19:34:05 2024 : dongfang/order_flow since 20240315 to 20240317, total 1 periods(QE)\n",
      "Sun Mar 17 19:34:07 2024 : dongfang/gp since 20240314 to 20240317, total 1 periods(QE)\n",
      "Sun Mar 17 19:34:10 2024 : dongfang/tra since 20240314 to 20240317, total 1 periods(QE)\n",
      "Sun Mar 17 19:34:12 2024 : dongfang/hist since 20240314 to 20240317, total 1 periods(QE)\n",
      "Sun Mar 17 19:34:15 2024 : dongfang/scores_v0 since 20240315 to 20240317, total 1 periods(QE)\n",
      "Sun Mar 17 19:34:16 2024 : kaiyuan/positive since 20240301 to 20240317, total 1 periods(QE)\n",
      "Sun Mar 17 19:34:21 2024 : kaiyuan/negative since 20240301 to 20240317, total 1 periods(QE)\n",
      "Sun Mar 17 19:34:26 2024 : huatai/dl_factors since 20240315 to 20240317, total 1 periods(QE)\n"
     ]
    },
    {
     "name": "stderr",
     "output_type": "stream",
     "text": [
      "/home/mengkjin/Workspace/learndl/scripts/util/data/sqlConnector.py:259: FutureWarning: Downcasting object dtype arrays on .fillna, .ffill, .bfill is deprecated and will change in a future version. Call result.infer_objects(copy=False) instead. To opt-in to the future behavior, set `pd.set_option('future.no_silent_downcasting', True)`\n",
      "  return df.fillna(np.nan)\n"
     ]
    },
    {
     "name": "stdout",
     "output_type": "stream",
     "text": [
      "├── dongfang <HDF5 group \"/dongfang\" (8 members)>03          \n",
      "│   ├── gp <HDF5 group \"/dongfang/gp\" (48 members)>\n",
      "│   │   ├── 20240102 <HDF5 group \"/dongfang/gp/20240102\" (3 members)> (feature, secid, values)\n",
      "│   │   ├── 20240103 <HDF5 group \"/dongfang/gp/20240103\" (3 members)> (feature, secid, values)\n",
      "│   │   ├── ...... omitting 44 memebers\n",
      "│   │   ├── 20240314 <HDF5 group \"/dongfang/gp/20240314\" (3 members)> (feature, secid, values)\n",
      "│   │   └── 20240315 <HDF5 group \"/dongfang/gp/20240315\" (3 members)> (feature, secid, values)\n",
      "│   ├── hfq_chars <HDF5 group \"/dongfang/hfq_chars\" (48 members)>\n",
      "│   │   ├── 20240102 <HDF5 group \"/dongfang/hfq_chars/20240102\" (3 members)> (feature, secid, values)\n",
      "│   │   ├── 20240103 <HDF5 group \"/dongfang/hfq_chars/20240103\" (3 members)> (feature, secid, values)\n",
      "│   │   ├── ...... omitting 44 memebers\n",
      "│   │   ├── 20240314 <HDF5 group \"/dongfang/hfq_chars/20240314\" (3 members)> (feature, secid, values)\n",
      "│   │   └── 20240315 <HDF5 group \"/dongfang/hfq_chars/20240315\" (3 members)> (feature, secid, values)\n",
      "│   ├── hist <HDF5 group \"/dongfang/hist\" (47 members)>\n",
      "│   │   ├── 20240102 <HDF5 group \"/dongfang/hist/20240102\" (3 members)> (feature, secid, values)\n",
      "│   │   ├── 20240103 <HDF5 group \"/dongfang/hist/20240103\" (3 members)> (feature, secid, values)\n",
      "│   │   ├── ...... omitting 43 memebers\n",
      "│   │   ├── 20240314 <HDF5 group \"/dongfang/hist/20240314\" (3 members)> (feature, secid, values)\n",
      "│   │   └── 20240315 <HDF5 group \"/dongfang/hist/20240315\" (3 members)> (feature, secid, values)\n",
      "│   ├── l2_chars <HDF5 group \"/dongfang/l2_chars\" (48 members)>\n",
      "│   │   ├── 20240102 <HDF5 group \"/dongfang/l2_chars/20240102\" (3 members)> (feature, secid, values)\n",
      "│   │   ├── 20240103 <HDF5 group \"/dongfang/l2_chars/20240103\" (3 members)> (feature, secid, values)\n",
      "│   │   ├── ...... omitting 44 memebers\n",
      "│   │   ├── 20240314 <HDF5 group \"/dongfang/l2_chars/20240314\" (3 members)> (feature, secid, values)\n",
      "│   │   └── 20240315 <HDF5 group \"/dongfang/l2_chars/20240315\" (3 members)> (feature, secid, values)\n",
      "│   ├── ms_chars <HDF5 group \"/dongfang/ms_chars\" (48 members)>\n",
      "│   │   ├── 20240102 <HDF5 group \"/dongfang/ms_chars/20240102\" (3 members)> (feature, secid, values)\n",
      "│   │   ├── 20240103 <HDF5 group \"/dongfang/ms_chars/20240103\" (3 members)> (feature, secid, values)\n",
      "│   │   ├── ...... omitting 44 memebers\n",
      "│   │   ├── 20240314 <HDF5 group \"/dongfang/ms_chars/20240314\" (3 members)> (feature, secid, values)\n",
      "│   │   └── 20240315 <HDF5 group \"/dongfang/ms_chars/20240315\" (3 members)> (feature, secid, values)\n",
      "│   ├── order_flow <HDF5 group \"/dongfang/order_flow\" (48 members)>\n",
      "│   │   ├── 20240102 <HDF5 group \"/dongfang/order_flow/20240102\" (3 members)> (feature, secid, values)\n",
      "│   │   ├── 20240103 <HDF5 group \"/dongfang/order_flow/20240103\" (3 members)> (feature, secid, values)\n",
      "│   │   ├── ...... omitting 44 memebers\n",
      "│   │   ├── 20240314 <HDF5 group \"/dongfang/order_flow/20240314\" (3 members)> (feature, secid, values)\n",
      "│   │   └── 20240315 <HDF5 group \"/dongfang/order_flow/20240315\" (3 members)> (feature, secid, values)\n",
      "│   ├── scores_v0 <HDF5 group \"/dongfang/scores_v0\" (48 members)>\n",
      "│   │   ├── 20240102 <HDF5 group \"/dongfang/scores_v0/20240102\" (3 members)> (feature, secid, values)\n",
      "│   │   ├── 20240103 <HDF5 group \"/dongfang/scores_v0/20240103\" (3 members)> (feature, secid, values)\n",
      "│   │   ├── ...... omitting 44 memebers\n",
      "│   │   ├── 20240314 <HDF5 group \"/dongfang/scores_v0/20240314\" (3 members)> (feature, secid, values)\n",
      "│   │   └── 20240315 <HDF5 group \"/dongfang/scores_v0/20240315\" (3 members)> (feature, secid, values)\n",
      "│   └── tra <HDF5 group \"/dongfang/tra\" (48 members)>\n",
      "│       ├── 20240102 <HDF5 group \"/dongfang/tra/20240102\" (3 members)> (feature, secid, values)\n",
      "│       ├── 20240103 <HDF5 group \"/dongfang/tra/20240103\" (3 members)> (feature, secid, values)\n",
      "│       ├── ...... omitting 44 memebers\n",
      "│       ├── 20240314 <HDF5 group \"/dongfang/tra/20240314\" (3 members)> (feature, secid, values)\n",
      "│       └── 20240315 <HDF5 group \"/dongfang/tra/20240315\" (3 members)> (feature, secid, values)\n",
      "├── haitong <HDF5 group \"/haitong\" (2 members)>\n",
      "│   ├── dl_factors <HDF5 group \"/haitong/dl_factors\" (48 members)>\n",
      "│   │   ├── 20240102 <HDF5 group \"/haitong/dl_factors/20240102\" (3 members)> (feature, secid, values)\n",
      "│   │   ├── 20240103 <HDF5 group \"/haitong/dl_factors/20240103\" (3 members)> (feature, secid, values)\n",
      "│   │   ├── ...... omitting 44 memebers\n",
      "│   │   ├── 20240314 <HDF5 group \"/haitong/dl_factors/20240314\" (3 members)> (feature, secid, values)\n",
      "│   │   └── 20240315 <HDF5 group \"/haitong/dl_factors/20240315\" (3 members)> (feature, secid, values)\n",
      "│   └── hf_factors <HDF5 group \"/haitong/hf_factors\" (48 members)>\n",
      "│       ├── 20240102 <HDF5 group \"/haitong/hf_factors/20240102\" (3 members)> (feature, secid, values)\n",
      "│       ├── 20240103 <HDF5 group \"/haitong/hf_factors/20240103\" (3 members)> (feature, secid, values)\n",
      "│       ├── ...... omitting 44 memebers\n",
      "│       ├── 20240314 <HDF5 group \"/haitong/hf_factors/20240314\" (3 members)> (feature, secid, values)\n",
      "│       └── 20240315 <HDF5 group \"/haitong/hf_factors/20240315\" (3 members)> (feature, secid, values)\n",
      "├── huatai <HDF5 group \"/huatai\" (1 members)>\n",
      "│   └── dl_factors <HDF5 group \"/huatai/dl_factors\" (49 members)>\n",
      "│       ├── 20240102 <HDF5 group \"/huatai/dl_factors/20240102\" (3 members)> (feature, secid, values)\n",
      "│       ├── 20240103 <HDF5 group \"/huatai/dl_factors/20240103\" (3 members)> (feature, secid, values)\n",
      "│       ├── ...... omitting 45 memebers\n",
      "│       ├── 20240314 <HDF5 group \"/huatai/dl_factors/20240314\" (3 members)> (feature, secid, values)\n",
      "│       └── 20240315 <HDF5 group \"/huatai/dl_factors/20240315\" (3 members)> (feature, secid, values)\n",
      "└── kaiyuan <HDF5 group \"/kaiyuan\" (2 members)>\n",
      "    ├── negative <HDF5 group \"/kaiyuan/negative\" (2 members)>\n",
      "    │   ├── 20240131 <HDF5 group \"/kaiyuan/negative/20240131\" (3 members)> (feature, secid, values)\n",
      "    │   └── 20240229 <HDF5 group \"/kaiyuan/negative/20240229\" (3 members)> (feature, secid, values)\n",
      "    └── positive <HDF5 group \"/kaiyuan/positive\" (2 members)>\n",
      "        ├── 20240131 <HDF5 group \"/kaiyuan/positive/20240131\" (3 members)> (feature, secid, values)\n",
      "        └── 20240229 <HDF5 group \"/kaiyuan/positive/20240229\" (3 members)> (feature, secid, values)\n"
     ]
    }
   ],
   "source": [
    "# %% update data\n",
    "import socket\n",
    "from scripts.util.data.DataUpdater import update_server_main , update_laptop_main\n",
    "from scripts.util.data.sqlConnector import update_sql_since , update_sql_dates\n",
    "\n",
    "if socket.gethostname() == 'mengkjin-server':\n",
    "    update_server_main()\n",
    "else:\n",
    "    update_laptop_main()\n",
    "update_sql_since()\n",
    "if False:\n",
    "    update_sql_dates(20240101 , 20240229)"
   ]
  },
  {
   "cell_type": "code",
   "execution_count": 1,
   "metadata": {},
   "outputs": [
    {
     "name": "stdout",
     "output_type": "stream",
     "text": [
      "Use device name: NVIDIA GeForce RTX 4090\n"
     ]
    },
    {
     "name": "stderr",
     "output_type": "stream",
     "text": [
      "\u001b[1m\u001b[37m\u001b[41m24-03-17 19:35:01|MOD:run_model   |\u001b[0m: \u001b[1m\u001b[31mStart Process [Load Data]!\u001b[0m\n"
     ]
    },
    {
     "name": "stdout",
     "output_type": "stream",
     "text": [
      "--Process Queue : Data + Train + Test + Instance\n",
      "--Start Training New!\n",
      "--Model_name is set to resnet_gru_15m_ShortTest!\n",
      "use /home/mengkjin/Workspace/learndl/scripts/../data/torch_pack/15m+rtn11+res11.20240130.pt\n"
     ]
    },
    {
     "name": "stderr",
     "output_type": "stream",
     "text": [
      "\u001b[1m\u001b[37m\u001b[41m24-03-17 19:35:10|MOD:run_model   |\u001b[0m: \u001b[1m\u001b[31mFinish Process [Load Data]! Cost 8.4Secs\u001b[0m\n",
      "\u001b[1m\u001b[37m\u001b[41m24-03-17 19:35:10|MOD:run_model   |\u001b[0m: \u001b[1m\u001b[31mStart Process [Train Model]!\u001b[0m\n"
     ]
    },
    {
     "name": "stdout",
     "output_type": "stream",
     "text": [
      "Pre-Norming method of [15m] : [endpoint_division(False) , history_standardize(True)]\n"
     ]
    },
    {
     "name": "stderr",
     "output_type": "stream",
     "text": [
      "\u001b[32mresnet_gru_15m_ShortTest #0 @20170103 LoadData Cost    5.0Secs\u001b[0m\n"
     ]
    },
    {
     "name": "stdout",
     "output_type": "stream",
     "text": [
      "score function of [pearson] calculated and success!\n",
      "loss function of [pearson] calculated and success!\n"
     ]
    },
    {
     "name": "stderr",
     "output_type": "stream",
     "text": [
      "\u001b[32mFirstBite Ep#  0 : loss  0.99999, train 0.00007, valid-0.03677, max-0.0368, best-0.0368, lr1.0e-07\u001b[0m\n",
      "\u001b[32mFirstBite Ep#  5 : loss  0.86796, train 0.14172, valid 0.14640, max 0.1464, best 0.1464, lr3.8e-03\u001b[0m\n",
      "\u001b[32mFirstBite Ep# 10 : loss  0.84187, train 0.17219, valid 0.17165, max 0.1716, best 0.1716, lr1.3e-03\u001b[0m\n",
      "\u001b[32mFirstBite Ep# 15 : loss  0.82039, train 0.19802, valid 0.19215, max 0.1922, best 0.1922, lr6.3e-04\u001b[0m\n",
      "\u001b[1m\u001b[37m\u001b[44m24-03-17 19:36:07|MOD:run_model   |\u001b[0m: \u001b[1m\u001b[34mresnet_gru_15m_ShortTest #0 @20170103|Round 0 FirstBite Ep# 19 Max Epoch|Train 0.2035 Valid 0.1961 BestVal 0.1961|Cost  0.9Min,  2.6Sec/Ep\u001b[0m\n",
      "\u001b[32mFirstBite Ep#  0 : loss  0.98530, train 0.01485, valid 0.02771, max 0.0277, best 0.0277, lr1.0e-07\u001b[0m\n",
      "\u001b[32mFirstBite Ep#  5 : loss  0.85661, train 0.15483, valid 0.16368, max 0.1637, best 0.1637, lr3.8e-03\u001b[0m\n",
      "\u001b[32mFirstBite Ep# 10 : loss  0.83469, train 0.18076, valid 0.17962, max 0.1796, best 0.1796, lr1.3e-03\u001b[0m\n",
      "\u001b[32mFirstBite Ep# 15 : loss  0.81215, train 0.20812, valid 0.20339, max 0.2034, best 0.2034, lr6.3e-04\u001b[0m\n",
      "\u001b[1m\u001b[37m\u001b[44m24-03-17 19:37:20|MOD:run_model   |\u001b[0m: \u001b[1m\u001b[34mresnet_gru_15m_ShortTest #1 @20170103|Round 0 FirstBite Ep# 19 Max Epoch|Train 0.2131 Valid 0.2076 BestVal 0.2076|Cost  1.2Min,  3.6Sec/Ep\u001b[0m\n",
      "\u001b[32mFirstBite Ep#  0 : loss  0.99580, train 0.00425, valid-0.00927, max-0.0093, best-0.0093, lr1.0e-07\u001b[0m\n",
      "\u001b[32mFirstBite Ep#  5 : loss  0.85276, train 0.15939, valid 0.16383, max 0.1638, best 0.1638, lr3.8e-03\u001b[0m\n",
      "\u001b[32mFirstBite Ep# 10 : loss  0.83151, train 0.18460, valid 0.18250, max 0.1825, best 0.1825, lr1.3e-03\u001b[0m\n",
      "\u001b[32mFirstBite Ep# 15 : loss  0.81216, train 0.20812, valid 0.20057, max 0.2006, best 0.2006, lr6.3e-04\u001b[0m\n",
      "\u001b[1m\u001b[37m\u001b[44m24-03-17 19:38:55|MOD:run_model   |\u001b[0m: \u001b[1m\u001b[34mresnet_gru_15m_ShortTest #2 @20170103|Round 0 FirstBite Ep# 19 Max Epoch|Train 0.2141 Valid 0.2071 BestVal 0.2071|Cost  1.6Min,  4.7Sec/Ep\u001b[0m\n",
      "\u001b[32mresnet_gru_15m_ShortTest #0 @20170704 LoadData Cost    5.2Secs\u001b[0m\n",
      "\u001b[32mFirstBite Ep#  0 : loss  0.99489, train 0.00517, valid 0.05395, max 0.0540, best 0.0540, lr1.0e-07\u001b[0m\n",
      "\u001b[32mFirstBite Ep#  5 : loss  0.85847, train 0.15264, valid 0.15994, max 0.1599, best 0.1599, lr3.8e-03\u001b[0m\n",
      "\u001b[32mFirstBite Ep# 10 : loss  0.83844, train 0.17628, valid 0.17057, max 0.1706, best 0.1706, lr1.3e-03\u001b[0m\n",
      "\u001b[32mFirstBite Ep# 15 : loss  0.82017, train 0.19829, valid 0.18553, max 0.1855, best 0.1855, lr6.3e-04\u001b[0m\n",
      "\u001b[1m\u001b[37m\u001b[44m24-03-17 19:39:54|MOD:run_model   |\u001b[0m: \u001b[1m\u001b[34mresnet_gru_15m_ShortTest #0 @20170704|Round 0 FirstBite Ep# 19 Max Epoch|Train 0.2000 Valid 0.1892 BestVal 0.1892|Cost  1.0Min,  2.7Sec/Ep\u001b[0m\n",
      "\u001b[32mFirstBite Ep#  0 : loss  0.98673, train 0.01339, valid-0.02515, max-0.0252, best-0.0252, lr1.0e-07\u001b[0m\n",
      "\u001b[32mFirstBite Ep#  5 : loss  0.86951, train 0.13989, valid 0.14855, max 0.1485, best 0.1485, lr3.8e-03\u001b[0m\n",
      "\u001b[32mFirstBite Ep# 10 : loss  0.85432, train 0.15753, valid 0.15460, max 0.1576, best 0.1576, lr1.3e-03\u001b[0m\n",
      "\u001b[32mFirstBite Ep# 15 : loss  0.83352, train 0.18215, valid 0.17542, max 0.1762, best 0.1762, lr6.3e-04\u001b[0m\n",
      "\u001b[1m\u001b[37m\u001b[44m24-03-17 19:41:11|MOD:run_model   |\u001b[0m: \u001b[1m\u001b[34mresnet_gru_15m_ShortTest #1 @20170704|Round 0 FirstBite Ep# 19 Max Epoch|Train 0.1864 Valid 0.1802 BestVal 0.1802|Cost  1.3Min,  3.9Sec/Ep\u001b[0m\n",
      "\u001b[32mFirstBite Ep#  0 : loss  1.00336, train-0.00332, valid 0.05264, max 0.0526, best 0.0526, lr1.0e-07\u001b[0m\n",
      "\u001b[32mFirstBite Ep#  5 : loss  0.86380, train 0.14646, valid 0.15196, max 0.1520, best 0.1520, lr3.8e-03\u001b[0m\n",
      "\u001b[32mFirstBite Ep# 10 : loss  0.84130, train 0.17286, valid 0.16427, max 0.1651, best 0.1651, lr1.3e-03\u001b[0m\n",
      "\u001b[32mFirstBite Ep# 15 : loss  0.82484, train 0.19262, valid 0.17689, max 0.1797, best 0.1797, lr6.3e-04\u001b[0m\n",
      "\u001b[1m\u001b[37m\u001b[44m24-03-17 19:42:52|MOD:run_model   |\u001b[0m: \u001b[1m\u001b[34mresnet_gru_15m_ShortTest #2 @20170704|Round 0 FirstBite Ep# 19 Max Epoch|Train 0.1959 Valid 0.1810 BestVal 0.1819|Cost  1.7Min,  5.0Sec/Ep\u001b[0m\n",
      "\u001b[1m\u001b[37m\u001b[41m24-03-17 19:42:52|MOD:run_model   |\u001b[0m: \u001b[1m\u001b[31mFinish Process [Train Model]! Cost 0.1 Hours, 1.3 Min/model, 3.9 Sec/Epoch\u001b[0m\n",
      "\u001b[1m\u001b[37m\u001b[41m24-03-17 19:42:53|MOD:run_model   |\u001b[0m: \u001b[1m\u001b[31mStart Process [Test Model]!\u001b[0m\n",
      "\u001b[1m\u001b[37m\u001b[44m24-03-17 19:42:53|MOD:run_model   |\u001b[0m: \u001b[1m\u001b[34mEach Model Date Testing Mean Score({'train': 'pearson', 'valid': 'pearson', 'test': 'pearson'}):\u001b[0m\n",
      "\u001b[32mModels            0       0       0       1       1       1       2       2       2\u001b[0m\n",
      "\u001b[32mOutput         best swalast swabest    best swalast swabest    best swalast swabest\u001b[0m\n",
      "\u001b[32m20170103     0.1291  0.1273  0.1234  0.1289  0.1388  0.1324  0.1363  0.1355  0.1386\u001b[0m\n",
      "\u001b[32m20170704     0.1443  0.1420  0.1445  0.1340  0.1339  0.1348  0.1368  0.1344  0.1351\u001b[0m\n",
      "\u001b[32mAllTimeAvg   0.1361  0.1341  0.1332  0.1313  0.1365  0.1335  0.1365  0.1350  0.1370\u001b[0m\n",
      "\u001b[32mAllTimeSum    30.35   29.91   29.69   29.27   30.45   29.78   30.44   30.11   30.54\u001b[0m\n",
      "\u001b[32mStd          0.0871  0.0845  0.0850  0.0836  0.0856  0.0840  0.0822  0.0832  0.0817\u001b[0m\n",
      "\u001b[32mTValue        23.33   23.70   23.38   23.45   23.81   23.75   24.80   24.24   25.03\u001b[0m\n",
      "\u001b[32mAnnIR        7.6544  7.7760  7.6710  7.6916  7.8120  7.7923  8.1347  7.9524  8.2110\u001b[0m\n",
      "\u001b[1m\u001b[37m\u001b[41m24-03-17 19:43:12|MOD:run_model   |\u001b[0m: \u001b[1m\u001b[31mFinish Process [Test Model]! Cost 19.0 Secs\u001b[0m\n",
      "\u001b[1m\u001b[37m\u001b[41m24-03-17 19:43:12|MOD:run_model   |\u001b[0m: \u001b[1m\u001b[31mWill not copy to instance!\u001b[0m\n"
     ]
    },
    {
     "name": "stdout",
     "output_type": "stream",
     "text": [
      "{'0_best': 30.3542, '0_swalast': 29.9056, '0_swabest': 29.6936, '1_best': 29.2749, '1_swalast': 30.4503, '1_swabest': 29.7775, '2_best': 30.4434, '2_swalast': 30.114, '2_swabest': 30.5447}\n"
     ]
    }
   ],
   "source": [
    "# %% test a specific model\n",
    "from run_model import main\n",
    "main(process = 0 , rawname = 1 , resume = 0 , anchoring = 0)"
   ]
  },
  {
   "cell_type": "code",
   "execution_count": 5,
   "metadata": {},
   "outputs": [],
   "source": [
    "import os\n",
    "del_path = './instance/tra_lstm2_day_ShortTest'\n",
    "if os.path.exists(del_path): os.rmdir(del_path)\n",
    "# rm -r ./instance/tra_lstm2_day_ShortTest #type: ignore"
   ]
  },
  {
   "cell_type": "code",
   "execution_count": null,
   "metadata": {},
   "outputs": [],
   "source": [
    "# %% model data preprocessing\n",
    "from data_preprocessing import main\n",
    "main(confirm=1)"
   ]
  }
 ],
 "metadata": {
  "kernelspec": {
   "display_name": "Python 3",
   "language": "python",
   "name": "python3"
  },
  "language_info": {
   "codemirror_mode": {
    "name": "ipython",
    "version": 3
   },
   "file_extension": ".py",
   "mimetype": "text/x-python",
   "name": "python",
   "nbconvert_exporter": "python",
   "pygments_lexer": "ipython3",
   "version": "3.10.12"
  }
 },
 "nbformat": 4,
 "nbformat_minor": 2
}
