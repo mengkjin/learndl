{
 "cells": [
  {
   "cell_type": "code",
   "execution_count": 16,
   "metadata": {},
   "outputs": [
    {
     "name": "stdout",
     "output_type": "stream",
     "text": [
      "Initiating project interface...\n",
      "Project interface initiated successfully.\n"
     ]
    },
    {
     "data": {
      "application/vnd.jupyter.widget-view+json": {
       "model_id": "0dc86b31e6c94d7f98791cb38564c363",
       "version_major": 2,
       "version_minor": 0
      },
      "text/plain": [
       "VBox(children=(VBox(children=(HTML(value='<div style=\"color: #007bff;font-size: 18px;font-weight: bold;text-al…"
      ]
     },
     "metadata": {},
     "output_type": "display_data"
    },
    {
     "name": "stdout",
     "output_type": "stream",
     "text": [
      "Script path : src_runs/research/factors/2_update_factors_fix.py\n",
      "Script args : {'email': 0, 'param': '20110101,20151231'}\n",
      "Script path : src_runs/research/factors/2_update_factors_fix.py\n",
      "Script args : {'email': 0, 'param': '20160101,20191231'}\n",
      "Script path : src_runs/research/factors/2_update_factors_fix.py\n",
      "Script args : {'email': 0, 'param': '20200101,20231231'}\n"
     ]
    }
   ],
   "source": [
    "%run src_runs/widget.py\n"
   ]
  }
 ],
 "metadata": {
  "kernelspec": {
   "display_name": "Python 3",
   "language": "python",
   "name": "python3"
  },
  "language_info": {
   "codemirror_mode": {
    "name": "ipython",
    "version": 3
   },
   "file_extension": ".py",
   "mimetype": "text/x-python",
   "name": "python",
   "nbconvert_exporter": "python",
   "pygments_lexer": "ipython3",
   "version": "3.11.8"
  }
 },
 "nbformat": 4,
 "nbformat_minor": 2
}
