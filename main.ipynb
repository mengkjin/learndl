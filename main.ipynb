{
 "cells": [
  {
   "cell_type": "code",
   "execution_count": 1,
   "metadata": {},
   "outputs": [
    {
     "data": {
      "text/plain": [
       "True"
      ]
     },
     "execution_count": 1,
     "metadata": {},
     "output_type": "execute_result"
    }
   ],
   "source": [
    "# %% test cuda\n",
    "import torch #type: ignore\n",
    "torch.cuda.is_available()"
   ]
  },
  {
   "cell_type": "code",
   "execution_count": 1,
   "metadata": {},
   "outputs": [
    {
     "name": "stdout",
     "output_type": "stream",
     "text": [
      "Merge Update Files\n",
      "Fri Feb 23 00:39:51 2024 : DB_updater.0.h5 > data/DB_data/DB_information/DB_information.h5/./basic/calendar copying Done!\n",
      "Fri Feb 23 00:40:00 2024 : DB_updater.0.h5 > data/DB_data/DB_information/DB_information.h5/./stock/concepts copying Done!\n",
      "Fri Feb 23 00:40:00 2024 : DB_updater.0.h5 > data/DB_data/DB_information/DB_information.h5/./stock/description copying Done!\n",
      "Fri Feb 23 00:40:19 2024 : DB_updater.0.h5 > data/DB_data/DB_information/DB_information.h5/./stock/industry copying Done!\n",
      "Fri Feb 23 00:40:19 2024 : DB_updater.0.h5 > data/DB_data/DB_information/DB_information.h5/./stock/st copying Done!\n",
      "Fri Feb 23 00:40:19 2024 : DB_updater.0.h5 > data/DB_data/DB_labels/DB_labels.2024.h5/./10days/lag0 copying Done!\n",
      "Fri Feb 23 00:40:19 2024 : DB_updater.0.h5 > data/DB_data/DB_labels/DB_labels.2024.h5/./10days/lag1 copying Done!\n",
      "Fri Feb 23 00:40:19 2024 : DB_updater.0.h5 > data/DB_data/DB_labels/DB_labels.2024.h5/./20days/lag0 copying Done!\n",
      "Fri Feb 23 00:40:19 2024 : DB_updater.0.h5 > data/DB_data/DB_labels/DB_labels.2024.h5/./20days/lag1 copying Done!\n",
      "Fri Feb 23 00:40:19 2024 : DB_updater.0.h5 > data/DB_data/DB_labels/DB_labels.2024.h5/./5days/lag0 copying Done!\n",
      "Fri Feb 23 00:40:19 2024 : DB_updater.0.h5 > data/DB_data/DB_labels/DB_labels.2024.h5/./5days/lag1 copying Done!\n",
      "Fri Feb 23 00:40:19 2024 : DB_updater.0.h5 > data/DB_data/DB_models/DB_models.2024.h5/./alpha_longcl/exposure copying Done!\n",
      "Fri Feb 23 00:40:19 2024 : DB_updater.0.h5 > data/DB_data/DB_models/DB_models.2024.h5/./risk_model/exposure copying Done!\n",
      "Fri Feb 23 00:40:19 2024 : DB_updater.0.h5 > data/DB_data/DB_trade_Xday/DB_trade_Xday.2024.h5/./10day/trade copying Done!\n",
      "Fri Feb 23 00:40:20 2024 : DB_updater.0.h5 > data/DB_data/DB_trade_Xday/DB_trade_Xday.2024.h5/./20day/trade copying Done!\n",
      "Fri Feb 23 00:40:20 2024 : DB_updater.0.h5 > data/DB_data/DB_trade_Xday/DB_trade_Xday.2024.h5/./5day/trade copying Done!\n",
      "Fri Feb 23 00:40:21 2024 : DB_updater.0.h5 > data/DB_data/DB_trade_Xmin/DB_trade_Xmin.2024.h5/./10min/trade copying Done!\n",
      "Fri Feb 23 00:40:22 2024 : DB_updater.0.h5 > data/DB_data/DB_trade_Xmin/DB_trade_Xmin.2024.h5/./15min/trade copying Done!\n",
      "Fri Feb 23 00:40:22 2024 : DB_updater.0.h5 > data/DB_data/DB_trade_Xmin/DB_trade_Xmin.2024.h5/./30min/trade copying Done!\n",
      "Fri Feb 23 00:40:24 2024 : DB_updater.0.h5 > data/DB_data/DB_trade_Xmin/DB_trade_Xmin.2024.h5/./5min/trade copying Done!\n",
      "Fri Feb 23 00:40:24 2024 : DB_updater.0.h5 > data/DB_data/DB_trade_Xmin/DB_trade_Xmin.2024.h5/./60min/trade copying Done!\n",
      "Fri Feb 23 00:40:24 2024 : DB_updater.0.h5 > data/DB_data/DB_trade_day/DB_trade_day.2024.h5/./day/trade copying Done!\n",
      "Fri Feb 23 00:40:36 2024 : DB_updater.0.h5 > data/DB_data/DB_trade_min/DB_trade_min.2024.h5/./minute/trade copying Done!\n",
      "Fri Feb 23 00:40:36 2024 : DB_updater.1.h5 > data/DB_data/DB_information/DB_information.h5/./basic/calendar copying Done!\n",
      "Fri Feb 23 00:40:44 2024 : DB_updater.1.h5 > data/DB_data/DB_information/DB_information.h5/./stock/concepts copying Done!\n",
      "Fri Feb 23 00:40:44 2024 : DB_updater.1.h5 > data/DB_data/DB_information/DB_information.h5/./stock/description copying Done!\n",
      "Fri Feb 23 00:41:02 2024 : DB_updater.1.h5 > data/DB_data/DB_information/DB_information.h5/./stock/industry copying Done!\n",
      "Fri Feb 23 00:41:03 2024 : DB_updater.1.h5 > data/DB_data/DB_information/DB_information.h5/./stock/st copying Done!\n",
      "Fri Feb 23 00:41:03 2024 : DB_updater.1.h5 > data/DB_data/DB_labels/DB_labels.2024.h5/./10days/lag0 copying Done!\n",
      "Fri Feb 23 00:41:03 2024 : DB_updater.1.h5 > data/DB_data/DB_labels/DB_labels.2024.h5/./10days/lag1 copying Done!\n",
      "Fri Feb 23 00:41:03 2024 : DB_updater.1.h5 > data/DB_data/DB_labels/DB_labels.2024.h5/./20days/lag0 copying Done!\n",
      "Fri Feb 23 00:41:03 2024 : DB_updater.1.h5 > data/DB_data/DB_labels/DB_labels.2024.h5/./20days/lag1 copying Done!\n",
      "Fri Feb 23 00:41:03 2024 : DB_updater.1.h5 > data/DB_data/DB_labels/DB_labels.2024.h5/./5days/lag0 copying Done!\n",
      "Fri Feb 23 00:41:03 2024 : DB_updater.1.h5 > data/DB_data/DB_labels/DB_labels.2024.h5/./5days/lag1 copying Done!\n",
      "Fri Feb 23 00:41:03 2024 : DB_updater.1.h5 > data/DB_data/DB_models/DB_models.2024.h5/./alpha_longcl/exposure copying Done!\n",
      "Fri Feb 23 00:41:03 2024 : DB_updater.1.h5 > data/DB_data/DB_models/DB_models.2024.h5/./risk_model/exposure copying Done!\n",
      "Fri Feb 23 00:41:03 2024 : DB_updater.1.h5 > data/DB_data/DB_trade_Xday/DB_trade_Xday.2024.h5/./10day/trade copying Done!\n",
      "Fri Feb 23 00:41:03 2024 : DB_updater.1.h5 > data/DB_data/DB_trade_Xday/DB_trade_Xday.2024.h5/./20day/trade copying Done!\n",
      "Fri Feb 23 00:41:03 2024 : DB_updater.1.h5 > data/DB_data/DB_trade_Xday/DB_trade_Xday.2024.h5/./5day/trade copying Done!\n",
      "Fri Feb 23 00:41:03 2024 : DB_updater.1.h5 > data/DB_data/DB_trade_Xmin/DB_trade_Xmin.2024.h5/./10min/trade copying Done!\n",
      "Fri Feb 23 00:41:03 2024 : DB_updater.1.h5 > data/DB_data/DB_trade_Xmin/DB_trade_Xmin.2024.h5/./15min/trade copying Done!\n",
      "Fri Feb 23 00:41:03 2024 : DB_updater.1.h5 > data/DB_data/DB_trade_Xmin/DB_trade_Xmin.2024.h5/./30min/trade copying Done!\n",
      "Fri Feb 23 00:41:04 2024 : DB_updater.1.h5 > data/DB_data/DB_trade_Xmin/DB_trade_Xmin.2024.h5/./5min/trade copying Done!\n",
      "Fri Feb 23 00:41:04 2024 : DB_updater.1.h5 > data/DB_data/DB_trade_Xmin/DB_trade_Xmin.2024.h5/./60min/trade copying Done!\n",
      "Fri Feb 23 00:41:04 2024 : DB_updater.1.h5 > data/DB_data/DB_trade_day/DB_trade_day.2024.h5/./day/trade copying Done!\n",
      "Fri Feb 23 00:41:06 2024 : DB_updater.1.h5 > data/DB_data/DB_trade_min/DB_trade_min.2024.h5/./minute/trade copying Done!\n",
      "['/home/mengkjin/Workspace/SharedFolder/DB_updater.0.h5', '/home/mengkjin/Workspace/SharedFolder/DB_updater.1.h5']\n",
      "Fri Feb 23 00:41:12 2024 : All Updates Done! Cost 80.37 Secs\n",
      "Fri Feb 23 00:41:14 2024 : haitong/hf_factors since 20240203 to 20240223, total 1 periods(Q)\n",
      "Fri Feb 23 00:41:20 2024 : haitong/dl_factors since 20240203 to 20240223, total 1 periods(Q)\n",
      "Fri Feb 23 00:42:10 2024 : dongfang/hfq_chars since 20240203 to 20240223, total 1 periods(Q)\n",
      "Fri Feb 23 00:42:21 2024 : dongfang/l2_chars since 20240203 to 20240223, total 1 periods(Q)\n",
      "Fri Feb 23 00:42:58 2024 : dongfang/ms_chars since 20240203 to 20240223, total 1 periods(Q)\n",
      "Fri Feb 23 00:43:48 2024 : dongfang/order_flow since 20240203 to 20240223, total 1 periods(Q)\n",
      "Fri Feb 23 00:43:53 2024 : dongfang/gp since 20240203 to 20240223, total 1 periods(Q)\n",
      "Fri Feb 23 00:43:56 2024 : dongfang/tra since 20240203 to 20240223, total 1 periods(Q)\n",
      "Fri Feb 23 00:43:59 2024 : dongfang/scores_v0 since 20240203 to 20240223, total 1 periods(Q)\n",
      "Fri Feb 23 00:44:01 2024 : kaiyuan/positive since 20240201 to 20240223, total 1 periods(Q)\n",
      "Fri Feb 23 00:44:03 2024 : kaiyuan/negative since 20240201 to 20240223, total 1 periods(Q)\n",
      "├── dongfang <HDF5 group \"/dongfang\" (7 members)>\n",
      "│   ├── gp <HDF5 group \"/dongfang/gp\" (31 members)>\n",
      "│   │   ├── 20240102 <HDF5 group \"/dongfang/gp/20240102\" (3 members)> (feature, secid, values)\n",
      "│   │   ├── 20240103 <HDF5 group \"/dongfang/gp/20240103\" (3 members)> (feature, secid, values)\n",
      "│   │   ├── ...... omitting 27 memebers\n",
      "│   │   ├── 20240220 <HDF5 group \"/dongfang/gp/20240220\" (3 members)> (feature, secid, values)\n",
      "│   │   └── 20240221 <HDF5 group \"/dongfang/gp/20240221\" (3 members)> (feature, secid, values)\n",
      "│   ├── hfq_chars <HDF5 group \"/dongfang/hfq_chars\" (32 members)>\n",
      "│   │   ├── 20240102 <HDF5 group \"/dongfang/hfq_chars/20240102\" (3 members)> (feature, secid, values)\n",
      "│   │   ├── 20240103 <HDF5 group \"/dongfang/hfq_chars/20240103\" (3 members)> (feature, secid, values)\n",
      "│   │   ├── ...... omitting 28 memebers\n",
      "│   │   ├── 20240221 <HDF5 group \"/dongfang/hfq_chars/20240221\" (3 members)> (feature, secid, values)\n",
      "│   │   └── 20240222 <HDF5 group \"/dongfang/hfq_chars/20240222\" (3 members)> (feature, secid, values)\n",
      "│   ├── l2_chars <HDF5 group \"/dongfang/l2_chars\" (32 members)>\n",
      "│   │   ├── 20240102 <HDF5 group \"/dongfang/l2_chars/20240102\" (3 members)> (feature, secid, values)\n",
      "│   │   ├── 20240103 <HDF5 group \"/dongfang/l2_chars/20240103\" (3 members)> (feature, secid, values)\n",
      "│   │   ├── ...... omitting 28 memebers\n",
      "│   │   ├── 20240221 <HDF5 group \"/dongfang/l2_chars/20240221\" (3 members)> (feature, secid, values)\n",
      "│   │   └── 20240222 <HDF5 group \"/dongfang/l2_chars/20240222\" (3 members)> (feature, secid, values)\n",
      "│   ├── ms_chars <HDF5 group \"/dongfang/ms_chars\" (32 members)>\n",
      "│   │   ├── 20240102 <HDF5 group \"/dongfang/ms_chars/20240102\" (3 members)> (feature, secid, values)\n",
      "│   │   ├── 20240103 <HDF5 group \"/dongfang/ms_chars/20240103\" (3 members)> (feature, secid, values)\n",
      "│   │   ├── ...... omitting 28 memebers\n",
      "│   │   ├── 20240221 <HDF5 group \"/dongfang/ms_chars/20240221\" (3 members)> (feature, secid, values)\n",
      "│   │   └── 20240222 <HDF5 group \"/dongfang/ms_chars/20240222\" (3 members)> (feature, secid, values)\n",
      "│   ├── order_flow <HDF5 group \"/dongfang/order_flow\" (32 members)>\n",
      "│   │   ├── 20240102 <HDF5 group \"/dongfang/order_flow/20240102\" (3 members)> (feature, secid, values)\n",
      "│   │   ├── 20240103 <HDF5 group \"/dongfang/order_flow/20240103\" (3 members)> (feature, secid, values)\n",
      "│   │   ├── ...... omitting 28 memebers\n",
      "│   │   ├── 20240221 <HDF5 group \"/dongfang/order_flow/20240221\" (3 members)> (feature, secid, values)\n",
      "│   │   └── 20240222 <HDF5 group \"/dongfang/order_flow/20240222\" (3 members)> (feature, secid, values)\n",
      "│   ├── scores_v0 <HDF5 group \"/dongfang/scores_v0\" (32 members)>\n",
      "│   │   ├── 20240102 <HDF5 group \"/dongfang/scores_v0/20240102\" (3 members)> (feature, secid, values)\n",
      "│   │   ├── 20240103 <HDF5 group \"/dongfang/scores_v0/20240103\" (3 members)> (feature, secid, values)\n",
      "│   │   ├── ...... omitting 28 memebers\n",
      "│   │   ├── 20240221 <HDF5 group \"/dongfang/scores_v0/20240221\" (3 members)> (feature, secid, values)\n",
      "│   │   └── 20240222 <HDF5 group \"/dongfang/scores_v0/20240222\" (3 members)> (feature, secid, values)\n",
      "│   └── tra <HDF5 group \"/dongfang/tra\" (31 members)>\n",
      "│       ├── 20240102 <HDF5 group \"/dongfang/tra/20240102\" (3 members)> (feature, secid, values)\n",
      "│       ├── 20240103 <HDF5 group \"/dongfang/tra/20240103\" (3 members)> (feature, secid, values)\n",
      "│       ├── ...... omitting 27 memebers\n",
      "│       ├── 20240220 <HDF5 group \"/dongfang/tra/20240220\" (3 members)> (feature, secid, values)\n",
      "│       └── 20240221 <HDF5 group \"/dongfang/tra/20240221\" (3 members)> (feature, secid, values)\n",
      "├── haitong <HDF5 group \"/haitong\" (2 members)>\n",
      "│   ├── dl_factors <HDF5 group \"/haitong/dl_factors\" (32 members)>\n",
      "│   │   ├── 20240102 <HDF5 group \"/haitong/dl_factors/20240102\" (3 members)> (feature, secid, values)\n",
      "│   │   ├── 20240103 <HDF5 group \"/haitong/dl_factors/20240103\" (3 members)> (feature, secid, values)\n",
      "│   │   ├── ...... omitting 28 memebers\n",
      "│   │   ├── 20240221 <HDF5 group \"/haitong/dl_factors/20240221\" (3 members)> (feature, secid, values)\n",
      "│   │   └── 20240222 <HDF5 group \"/haitong/dl_factors/20240222\" (3 members)> (feature, secid, values)\n",
      "│   └── hf_factors <HDF5 group \"/haitong/hf_factors\" (32 members)>\n",
      "│       ├── 20240102 <HDF5 group \"/haitong/hf_factors/20240102\" (3 members)> (feature, secid, values)\n",
      "│       ├── 20240103 <HDF5 group \"/haitong/hf_factors/20240103\" (3 members)> (feature, secid, values)\n",
      "│       ├── ...... omitting 28 memebers\n",
      "│       ├── 20240221 <HDF5 group \"/haitong/hf_factors/20240221\" (3 members)> (feature, secid, values)\n",
      "│       └── 20240222 <HDF5 group \"/haitong/hf_factors/20240222\" (3 members)> (feature, secid, values)\n",
      "└── kaiyuan <HDF5 group \"/kaiyuan\" (2 members)>\n",
      "    ├── negative <HDF5 group \"/kaiyuan/negative\" (1 members)>\n",
      "    │   └── 20240131 <HDF5 group \"/kaiyuan/negative/20240131\" (3 members)> (feature, secid, values)\n",
      "    └── positive <HDF5 group \"/kaiyuan/positive\" (1 members)>\n",
      "        └── 20240131 <HDF5 group \"/kaiyuan/positive/20240131\" (3 members)> (feature, secid, values)\n"
     ]
    }
   ],
   "source": [
    "# %% update data\n",
    "import socket\n",
    "from scripts.util.data.DataUpdater import update_server_main , update_laptop_main\n",
    "from scripts.util.data.sqlConnector import update_sql_since , update_sql_dates\n",
    "\n",
    "if socket.gethostname() == 'mengkjin-server':\n",
    "    update_server_main()\n",
    "    update_sql_since()\n",
    "    if False:\n",
    "        update_sql_dates(20240101 , 20240229)\n",
    "else:\n",
    "    update_laptop_main()"
   ]
  },
  {
   "cell_type": "code",
   "execution_count": 1,
   "metadata": {},
   "outputs": [
    {
     "name": "stderr",
     "output_type": "stream",
     "text": [
      "\u001b[1m\u001b[37m\u001b[41m24-02-23 00:04:31|MOD:run_model   |\u001b[0m: \u001b[1m\u001b[31mStart Process [Load Data]!\u001b[0m\n"
     ]
    },
    {
     "name": "stdout",
     "output_type": "stream",
     "text": [
      "--Process Queue : Data + Train + Test + Instance\n",
      "--Start Training New!\n",
      "--Model_name is set to resnet_lstm_15m_ShortTest!\n",
      "use /home/mengkjin/Workspace/learndl/scripts/../data/torch_pack/15m+rtn11+res11.20231220.pt\n"
     ]
    },
    {
     "name": "stderr",
     "output_type": "stream",
     "text": [
      "\u001b[1m\u001b[37m\u001b[41m24-02-23 00:04:39|MOD:run_model   |\u001b[0m: \u001b[1m\u001b[31mFinish Process [Load Data]! Cost 7.7Secs\u001b[0m\n",
      "\u001b[1m\u001b[37m\u001b[41m24-02-23 00:04:39|MOD:run_model   |\u001b[0m: \u001b[1m\u001b[31mStart Process [Train Model]!\u001b[0m\n"
     ]
    },
    {
     "name": "stdout",
     "output_type": "stream",
     "text": [
      "Pre-Norming method of [15m] : [endpoint_division(False) , history_standardize(True)]\n"
     ]
    },
    {
     "name": "stderr",
     "output_type": "stream",
     "text": [
      "\u001b[32mresnet_lstm_15m_ShortTest #0 @20170103 LoadData Cost    5.2Secs\u001b[0m\n"
     ]
    },
    {
     "name": "stdout",
     "output_type": "stream",
     "text": [
      "score function of [pearson] calculated and success!\n",
      "loss function of [pearson] calculated and success!\n"
     ]
    },
    {
     "name": "stderr",
     "output_type": "stream",
     "text": [
      "\u001b[32mFirstBite Ep#  0 : loss  1.01018, train-0.01009, valid-0.01858, max-0.0186, best-0.0186, lr1.0e-07\u001b[0m\n",
      "\u001b[32mFirstBite Ep#  5 : loss  0.94616, train 0.05561, valid 0.06982, max 0.0698, best 0.0698, lr3.8e-03\u001b[0m\n",
      "\u001b[32mFirstBite Ep# 10 : loss  0.91642, train 0.08735, valid 0.08338, max 0.0834, best 0.0834, lr1.3e-03\u001b[0m\n",
      "\u001b[32mFirstBite Ep# 15 : loss  0.91333, train 0.09072, valid 0.06530, max 0.0859, best 0.0859, lr6.3e-04\u001b[0m\n",
      "\u001b[1m\u001b[37m\u001b[44m24-02-23 00:05:20|MOD:run_model   |\u001b[0m: \u001b[1m\u001b[34mresnet_lstm_15m_ShortTest #0 @20170103|Round 0 FirstBite Ep# 19 Max Epoch|Train 0.0901 Valid 0.0862 BestVal 0.0883|Cost  0.7Min,  1.8Sec/Ep\u001b[0m\n",
      "\u001b[32mFirstBite Ep#  0 : loss  0.99743, train 0.00262, valid-0.00408, max-0.0041, best-0.0041, lr1.0e-07\u001b[0m\n",
      "\u001b[32mFirstBite Ep#  5 : loss  0.93108, train 0.07150, valid 0.06700, max 0.0735, best 0.0735, lr3.8e-03\u001b[0m\n",
      "\u001b[32mFirstBite Ep# 10 : loss  0.91714, train 0.08659, valid 0.05910, max 0.0837, best 0.0837, lr1.3e-03\u001b[0m\n",
      "\u001b[32mFirstBite Ep# 15 : loss  0.90651, train 0.09829, valid 0.10115, max 0.1012, best 0.1012, lr6.3e-04\u001b[0m\n",
      "\u001b[1m\u001b[37m\u001b[44m24-02-23 00:06:19|MOD:run_model   |\u001b[0m: \u001b[1m\u001b[34mresnet_lstm_15m_ShortTest #1 @20170103|Round 0 FirstBite Ep# 19 Max Epoch|Train 0.0998 Valid 0.1050 BestVal 0.1050|Cost  1.0Min,  2.9Sec/Ep\u001b[0m\n",
      "\u001b[32mFirstBite Ep#  0 : loss  1.00060, train-0.00054, valid-0.00395, max-0.0039, best-0.0039, lr1.0e-07\u001b[0m\n",
      "\u001b[32mFirstBite Ep#  5 : loss  0.92041, train 0.08297, valid 0.07440, max 0.0768, best 0.0768, lr3.8e-03\u001b[0m\n",
      "\u001b[32mFirstBite Ep# 10 : loss  0.90899, train 0.09546, valid 0.09407, max 0.0950, best 0.0950, lr1.3e-03\u001b[0m\n",
      "\u001b[32mFirstBite Ep# 15 : loss  0.90390, train 0.10108, valid 0.09560, max 0.0956, best 0.0956, lr6.3e-04\u001b[0m\n",
      "\u001b[1m\u001b[37m\u001b[44m24-02-23 00:07:43|MOD:run_model   |\u001b[0m: \u001b[1m\u001b[34mresnet_lstm_15m_ShortTest #2 @20170103|Round 0 FirstBite Ep# 19 Max Epoch|Train 0.1031 Valid 0.0970 BestVal 0.0989|Cost  1.4Min,  4.2Sec/Ep\u001b[0m\n",
      "\u001b[32mresnet_lstm_15m_ShortTest #0 @20170704 LoadData Cost    5.1Secs\u001b[0m\n",
      "\u001b[32mFirstBite Ep#  0 : loss  0.99444, train 0.00563, valid 0.00029, max 0.0003, best 0.0003, lr1.0e-07\u001b[0m\n",
      "\u001b[32mFirstBite Ep#  5 : loss  0.94675, train 0.05483, valid 0.05270, max 0.0527, best 0.0527, lr3.8e-03\u001b[0m\n",
      "\u001b[32mFirstBite Ep# 10 : loss  0.95620, train 0.04570, valid 0.03830, max 0.0558, best 0.0558, lr1.3e-03\u001b[0m\n",
      "\u001b[32mFirstBite Ep# 15 : loss  0.93076, train 0.07181, valid 0.06388, max 0.0639, best 0.0639, lr6.3e-04\u001b[0m\n",
      "\u001b[1m\u001b[37m\u001b[44m24-02-23 00:08:25|MOD:run_model   |\u001b[0m: \u001b[1m\u001b[34mresnet_lstm_15m_ShortTest #0 @20170704|Round 0 FirstBite Ep# 19 Max Epoch|Train 0.0745 Valid 0.0661 BestVal 0.0661|Cost  0.7Min,  1.9Sec/Ep\u001b[0m\n",
      "\u001b[32mFirstBite Ep#  0 : loss  1.00173, train-0.00167, valid 0.00431, max 0.0043, best 0.0043, lr1.0e-07\u001b[0m\n",
      "\u001b[32mFirstBite Ep#  5 : loss  0.96139, train 0.03949, valid 0.03736, max 0.0374, best 0.0374, lr3.8e-03\u001b[0m\n",
      "\u001b[32mFirstBite Ep# 10 : loss  0.94097, train 0.06089, valid 0.04810, max 0.0497, best 0.0497, lr1.3e-03\u001b[0m\n",
      "\u001b[32mFirstBite Ep# 15 : loss  0.93666, train 0.06548, valid 0.05277, max 0.0528, best 0.0528, lr6.3e-04\u001b[0m\n",
      "\u001b[1m\u001b[37m\u001b[44m24-02-23 00:09:29|MOD:run_model   |\u001b[0m: \u001b[1m\u001b[34mresnet_lstm_15m_ShortTest #1 @20170704|Round 0 FirstBite Ep# 19 Max Epoch|Train 0.0728 Valid 0.0589 BestVal 0.0589|Cost  1.1Min,  3.2Sec/Ep\u001b[0m\n",
      "\u001b[32mFirstBite Ep#  0 : loss  0.99929, train 0.00076, valid 0.00038, max 0.0004, best 0.0004, lr1.0e-07\u001b[0m\n",
      "\u001b[32mFirstBite Ep#  5 : loss  0.94502, train 0.05662, valid 0.05550, max 0.0555, best 0.0555, lr3.8e-03\u001b[0m\n",
      "\u001b[32mFirstBite Ep# 10 : loss  0.93058, train 0.07209, valid 0.06498, max 0.0670, best 0.0670, lr1.3e-03\u001b[0m\n",
      "\u001b[32mFirstBite Ep# 15 : loss  0.91262, train 0.09186, valid 0.08104, max 0.0810, best 0.0810, lr6.3e-04\u001b[0m\n",
      "\u001b[1m\u001b[37m\u001b[44m24-02-23 00:11:01|MOD:run_model   |\u001b[0m: \u001b[1m\u001b[34mresnet_lstm_15m_ShortTest #2 @20170704|Round 0 FirstBite Ep# 19 Max Epoch|Train 0.0975 Valid 0.0845 BestVal 0.0845|Cost  1.5Min,  4.6Sec/Ep\u001b[0m\n",
      "\u001b[1m\u001b[37m\u001b[41m24-02-23 00:11:01|MOD:run_model   |\u001b[0m: \u001b[1m\u001b[31mFinish Process [Train Model]! Cost 0.1 Hours, 1.1 Min/model, 3.2 Sec/Epoch\u001b[0m\n",
      "\u001b[1m\u001b[37m\u001b[41m24-02-23 00:11:01|MOD:run_model   |\u001b[0m: \u001b[1m\u001b[31mStart Process [Test Model]!\u001b[0m\n",
      "\u001b[1m\u001b[37m\u001b[44m24-02-23 00:11:01|MOD:run_model   |\u001b[0m: \u001b[1m\u001b[34mEach Model Date Testing Mean Score({'train': 'pearson', 'valid': 'pearson', 'test': 'pearson'}):\u001b[0m\n",
      "\u001b[32mModels            0       0       0       1       1       1       2       2       2\u001b[0m\n",
      "\u001b[32mOutput         best swalast swabest    best swalast swabest    best swalast swabest\u001b[0m\n",
      "\u001b[32m20170103     0.0118  0.0195  0.0118 -0.0010  0.0066  0.0032  0.0323  0.0213  0.0387\u001b[0m\n",
      "\u001b[32m20170704     0.0164  0.0157  0.0153  0.0127  0.0098  0.0099  0.0316  0.0149  0.0270\u001b[0m\n",
      "\u001b[32mAllTimeAvg   0.0139  0.0178  0.0134  0.0053  0.0081  0.0062  0.0320  0.0184  0.0333\u001b[0m\n",
      "\u001b[32mAllTimeSum     3.11    3.96    2.99    1.18    1.80    1.39    7.14    4.09    7.42\u001b[0m\n",
      "\u001b[32mStd          0.1153  0.1304  0.1173  0.1134  0.1220  0.1212  0.1219  0.1284  0.1173\u001b[0m\n",
      "\u001b[32mTValue         1.81    2.03    1.71    0.70    0.99    0.77    3.92    2.13    4.23\u001b[0m\n",
      "\u001b[32mAnnIR        0.5923  0.6674  0.5597  0.2294  0.3247  0.2525  1.2857  0.7003  1.3892\u001b[0m\n",
      "\u001b[1m\u001b[37m\u001b[41m24-02-23 00:11:26|MOD:run_model   |\u001b[0m: \u001b[1m\u001b[31mFinish Process [Test Model]! Cost 25.2 Secs\u001b[0m\n",
      "\u001b[1m\u001b[37m\u001b[41m24-02-23 00:11:27|MOD:run_model   |\u001b[0m: \u001b[1m\u001b[31mWill not copy to instance!\u001b[0m\n"
     ]
    }
   ],
   "source": [
    "# %% test a specific model\n",
    "from run_model import main\n",
    "main(process = 0 , rawname = 1 , resume = 0 , anchoring = 0)"
   ]
  },
  {
   "cell_type": "code",
   "execution_count": 5,
   "metadata": {},
   "outputs": [],
   "source": [
    "import os\n",
    "del_path = './instance/tra_lstm2_day_ShortTest'\n",
    "if os.path.exists(del_path): os.rmdir(del_path)\n",
    "# rm -r ./instance/tra_lstm2_day_ShortTest #type: ignore"
   ]
  },
  {
   "cell_type": "code",
   "execution_count": null,
   "metadata": {},
   "outputs": [],
   "source": [
    "# %% model data preprocessing\n",
    "from data_preprocessing import main\n",
    "main(confirm=1)"
   ]
  }
 ],
 "metadata": {
  "kernelspec": {
   "display_name": "Python 3",
   "language": "python",
   "name": "python3"
  },
  "language_info": {
   "codemirror_mode": {
    "name": "ipython",
    "version": 3
   },
   "file_extension": ".py",
   "mimetype": "text/x-python",
   "name": "python",
   "nbconvert_exporter": "python",
   "pygments_lexer": "ipython3",
   "version": "3.10.12"
  }
 },
 "nbformat": 4,
 "nbformat_minor": 2
}
