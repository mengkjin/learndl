{
 "cells": [
  {
   "cell_type": "code",
   "execution_count": 1,
   "metadata": {},
   "outputs": [
    {
     "name": "stdout",
     "output_type": "stream",
     "text": [
      "Initiating project interface...\n",
      "Project interface initiated successfully.\n"
     ]
    },
    {
     "data": {
      "application/vnd.jupyter.widget-view+json": {
       "model_id": "b86fb8cf323f46ff97b39c6c0ee815cd",
       "version_major": 2,
       "version_minor": 0
      },
      "text/plain": [
       "VBox(children=(VBox(children=(HTML(value='<div style=\"color: #007bff;font-size: 18px;font-weight: bold;text-al…"
      ]
     },
     "metadata": {},
     "output_type": "display_data"
    },
    {
     "name": "stdout",
     "output_type": "stream",
     "text": [
      "Script path : src_runs\\research\\training\\0_train_model.py\n",
      "Script args : {'email': 0}\n",
      "Script path : src_runs\\research\\training\\0_train_model.py\n",
      "Script args : {'email': 0}\n",
      "Script path : src_runs\\research\\training\\0_train_model.py\n",
      "Script args : {'email': 0}\n",
      "Script path : src_runs\\research\\training\\0_train_model.py\n",
      "Script args : {'email': 0}\n",
      "Script path : src_runs\\research\\training\\0_train_model.py\n",
      "Script args : {'email': 0}\n",
      "Script path : src_runs\\research\\training\\0_train_model.py\n",
      "Script args : {'email': 0}\n",
      "Script path : src_runs\\research\\training\\0_train_model.py\n",
      "Script args : {'email': 0}\n",
      "Script path : src_runs\\research\\training\\0_train_model.py\n",
      "Script args : {'email': 0}\n"
     ]
    }
   ],
   "source": [
    "%run src_runs/widget.py\n"
   ]
  }
 ],
 "metadata": {
  "kernelspec": {
   "display_name": "Python 3",
   "language": "python",
   "name": "python3"
  },
  "language_info": {
   "codemirror_mode": {
    "name": "ipython",
    "version": 3
   },
   "file_extension": ".py",
   "mimetype": "text/x-python",
   "name": "python",
   "nbconvert_exporter": "python",
   "pygments_lexer": "ipython3",
   "version": "3.11.8"
  }
 },
 "nbformat": 4,
 "nbformat_minor": 2
}
