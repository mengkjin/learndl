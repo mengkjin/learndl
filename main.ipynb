{
 "cells": [
  {
   "cell_type": "code",
   "execution_count": 1,
   "metadata": {},
   "outputs": [
    {
     "data": {
      "text/plain": [
       "True"
      ]
     },
     "execution_count": 1,
     "metadata": {},
     "output_type": "execute_result"
    }
   ],
   "source": [
    "# %% test cuda\n",
    "import torch #type: ignore\n",
    "torch.cuda.is_available()"
   ]
  },
  {
   "cell_type": "code",
   "execution_count": 3,
   "metadata": {},
   "outputs": [
    {
     "name": "stdout",
     "output_type": "stream",
     "text": [
      "Merge Update Files\n",
      "['/home/mengkjin/Workspace/SharedFolder/DB_updater.2.h5', '/home/mengkjin/Workspace/SharedFolder/DB_updater.3.h5']\n",
      "Sun Mar 17 19:28:53 2024 : DB_updater.2.h5 > data/DB_data/DB_information/DB_information.h5/./basic/calendar copying Done!\n",
      "Sun Mar 17 19:29:02 2024 : DB_updater.2.h5 > data/DB_data/DB_information/DB_information.h5/./stock/concepts copying Done!\n",
      "Sun Mar 17 19:29:03 2024 : DB_updater.2.h5 > data/DB_data/DB_information/DB_information.h5/./stock/description copying Done!\n",
      "Sun Mar 17 19:29:21 2024 : DB_updater.2.h5 > data/DB_data/DB_information/DB_information.h5/./stock/industry copying Done!\n",
      "Sun Mar 17 19:29:21 2024 : DB_updater.2.h5 > data/DB_data/DB_information/DB_information.h5/./stock/st copying Done!\n",
      "Sun Mar 17 19:29:21 2024 : DB_updater.2.h5 > data/DB_data/DB_labels/DB_labels.2024.h5/./10days/lag0 copying Done!\n",
      "Sun Mar 17 19:29:21 2024 : DB_updater.2.h5 > data/DB_data/DB_labels/DB_labels.2024.h5/./10days/lag1 copying Done!\n",
      "Sun Mar 17 19:29:21 2024 : DB_updater.2.h5 > data/DB_data/DB_labels/DB_labels.2024.h5/./20days/lag0 copying Done!\n",
      "Sun Mar 17 19:29:22 2024 : DB_updater.2.h5 > data/DB_data/DB_labels/DB_labels.2024.h5/./20days/lag1 copying Done!\n",
      "Sun Mar 17 19:29:22 2024 : DB_updater.2.h5 > data/DB_data/DB_labels/DB_labels.2024.h5/./5days/lag0 copying Done!\n",
      "Sun Mar 17 19:29:22 2024 : DB_updater.2.h5 > data/DB_data/DB_labels/DB_labels.2024.h5/./5days/lag1 copying Done!\n",
      "Sun Mar 17 19:29:22 2024 : DB_updater.2.h5 > data/DB_data/DB_models/DB_models.2024.h5/./alpha_longcl/exposure copying Done!\n",
      "Sun Mar 17 19:29:22 2024 : DB_updater.2.h5 > data/DB_data/DB_models/DB_models.2024.h5/./risk_model/exposure copying Done!\n",
      "Sun Mar 17 19:29:22 2024 : DB_updater.2.h5 > data/DB_data/DB_trade_Xday/DB_trade_Xday.2024.h5/./10day/trade copying Done!\n",
      "Sun Mar 17 19:29:22 2024 : DB_updater.2.h5 > data/DB_data/DB_trade_Xday/DB_trade_Xday.2024.h5/./20day/trade copying Done!\n",
      "Sun Mar 17 19:29:22 2024 : DB_updater.2.h5 > data/DB_data/DB_trade_Xday/DB_trade_Xday.2024.h5/./5day/trade copying Done!\n",
      "Sun Mar 17 19:29:23 2024 : DB_updater.2.h5 > data/DB_data/DB_trade_Xmin/DB_trade_Xmin.2024.h5/./10min/trade copying Done!\n",
      "Sun Mar 17 19:29:23 2024 : DB_updater.2.h5 > data/DB_data/DB_trade_Xmin/DB_trade_Xmin.2024.h5/./15min/trade copying Done!\n",
      "Sun Mar 17 19:29:23 2024 : DB_updater.2.h5 > data/DB_data/DB_trade_Xmin/DB_trade_Xmin.2024.h5/./30min/trade copying Done!\n",
      "Sun Mar 17 19:29:25 2024 : DB_updater.2.h5 > data/DB_data/DB_trade_Xmin/DB_trade_Xmin.2024.h5/./5min/trade copying Done!\n",
      "Sun Mar 17 19:29:25 2024 : DB_updater.2.h5 > data/DB_data/DB_trade_Xmin/DB_trade_Xmin.2024.h5/./60min/trade copying Done!\n",
      "Sun Mar 17 19:29:25 2024 : DB_updater.2.h5 > data/DB_data/DB_trade_day/DB_trade_day.2024.h5/./day/trade copying Done!\n",
      "Sun Mar 17 19:29:32 2024 : DB_updater.2.h5 > data/DB_data/DB_trade_min/DB_trade_min.2024.h5/./minute/trade copying Done!\n",
      "Sun Mar 17 19:29:32 2024 : DB_updater.3.h5 > data/DB_data/DB_information/DB_information.h5/./basic/calendar copying Done!\n",
      "Sun Mar 17 19:29:41 2024 : DB_updater.3.h5 > data/DB_data/DB_information/DB_information.h5/./stock/concepts copying Done!\n",
      "Sun Mar 17 19:29:41 2024 : DB_updater.3.h5 > data/DB_data/DB_information/DB_information.h5/./stock/description copying Done!\n",
      "Sun Mar 17 19:30:00 2024 : DB_updater.3.h5 > data/DB_data/DB_information/DB_information.h5/./stock/industry copying Done!\n",
      "Sun Mar 17 19:30:00 2024 : DB_updater.3.h5 > data/DB_data/DB_information/DB_information.h5/./stock/st copying Done!\n",
      "Sun Mar 17 19:30:00 2024 : DB_updater.3.h5 > data/DB_data/DB_labels/DB_labels.2024.h5/./10days/lag0 copying Done!\n",
      "Sun Mar 17 19:30:00 2024 : DB_updater.3.h5 > data/DB_data/DB_labels/DB_labels.2024.h5/./10days/lag1 copying Done!\n",
      "Sun Mar 17 19:30:00 2024 : DB_updater.3.h5 > data/DB_data/DB_labels/DB_labels.2024.h5/./20days/lag0 copying Done!\n",
      "Sun Mar 17 19:30:00 2024 : DB_updater.3.h5 > data/DB_data/DB_labels/DB_labels.2024.h5/./20days/lag1 copying Done!\n",
      "Sun Mar 17 19:30:00 2024 : DB_updater.3.h5 > data/DB_data/DB_labels/DB_labels.2024.h5/./5days/lag0 copying Done!\n",
      "Sun Mar 17 19:30:00 2024 : DB_updater.3.h5 > data/DB_data/DB_labels/DB_labels.2024.h5/./5days/lag1 copying Done!\n",
      "Sun Mar 17 19:30:00 2024 : DB_updater.3.h5 > data/DB_data/DB_models/DB_models.2024.h5/./risk_model/exposure copying Done!\n",
      "Sun Mar 17 19:30:00 2024 : DB_updater.3.h5 > data/DB_data/DB_trade_Xday/DB_trade_Xday.2024.h5/./10day/trade copying Done!\n",
      "Sun Mar 17 19:30:00 2024 : DB_updater.3.h5 > data/DB_data/DB_trade_Xday/DB_trade_Xday.2024.h5/./20day/trade copying Done!\n",
      "Sun Mar 17 19:30:00 2024 : DB_updater.3.h5 > data/DB_data/DB_trade_Xday/DB_trade_Xday.2024.h5/./5day/trade copying Done!\n",
      "Sun Mar 17 19:30:00 2024 : DB_updater.3.h5 > data/DB_data/DB_trade_Xmin/DB_trade_Xmin.2024.h5/./10min/trade copying Done!\n",
      "Sun Mar 17 19:30:01 2024 : DB_updater.3.h5 > data/DB_data/DB_trade_Xmin/DB_trade_Xmin.2024.h5/./15min/trade copying Done!\n",
      "Sun Mar 17 19:30:01 2024 : DB_updater.3.h5 > data/DB_data/DB_trade_Xmin/DB_trade_Xmin.2024.h5/./30min/trade copying Done!\n",
      "Sun Mar 17 19:30:02 2024 : DB_updater.3.h5 > data/DB_data/DB_trade_Xmin/DB_trade_Xmin.2024.h5/./5min/trade copying Done!\n",
      "Sun Mar 17 19:30:02 2024 : DB_updater.3.h5 > data/DB_data/DB_trade_Xmin/DB_trade_Xmin.2024.h5/./60min/trade copying Done!\n",
      "Sun Mar 17 19:30:02 2024 : DB_updater.3.h5 > data/DB_data/DB_trade_day/DB_trade_day.2024.h5/./day/trade copying Done!\n",
      "Sun Mar 17 19:30:06 2024 : DB_updater.3.h5 > data/DB_data/DB_trade_min/DB_trade_min.2024.h5/./minute/trade copying Done!\n",
      "Sun Mar 17 19:30:06 2024 : All Updates Done! Cost 75.25 Secs\n",
      "Sun Mar 17 19:30:09 2024 : haitong/hf_factors since 20240314 to 20240317, total 1 periods(QE)\n",
      "Sun Mar 17 19:30:15 2024 : haitong/dl_factors since 20240315 to 20240317, total 1 periods(QE)\n",
      "Sun Mar 17 19:31:04 2024 : dongfang/hfq_chars since 20240315 to 20240317, total 1 periods(QE)\n",
      "Sun Mar 17 19:31:08 2024 : dongfang/l2_chars since 20240315 to 20240317, total 1 periods(QE)\n",
      "Sun Mar 17 19:32:14 2024 : dongfang/ms_chars since 20240315 to 20240317, total 1 periods(QE)\n",
      "Sun Mar 17 19:34:05 2024 : dongfang/order_flow since 20240315 to 20240317, total 1 periods(QE)\n",
      "Sun Mar 17 19:34:07 2024 : dongfang/gp since 20240314 to 20240317, total 1 periods(QE)\n",
      "Sun Mar 17 19:34:10 2024 : dongfang/tra since 20240314 to 20240317, total 1 periods(QE)\n",
      "Sun Mar 17 19:34:12 2024 : dongfang/hist since 20240314 to 20240317, total 1 periods(QE)\n",
      "Sun Mar 17 19:34:15 2024 : dongfang/scores_v0 since 20240315 to 20240317, total 1 periods(QE)\n",
      "Sun Mar 17 19:34:16 2024 : kaiyuan/positive since 20240301 to 20240317, total 1 periods(QE)\n",
      "Sun Mar 17 19:34:21 2024 : kaiyuan/negative since 20240301 to 20240317, total 1 periods(QE)\n",
      "Sun Mar 17 19:34:26 2024 : huatai/dl_factors since 20240315 to 20240317, total 1 periods(QE)\n"
     ]
    },
    {
     "name": "stderr",
     "output_type": "stream",
     "text": [
      "/home/mengkjin/Workspace/learndl/scripts/util/data/sqlConnector.py:259: FutureWarning: Downcasting object dtype arrays on .fillna, .ffill, .bfill is deprecated and will change in a future version. Call result.infer_objects(copy=False) instead. To opt-in to the future behavior, set `pd.set_option('future.no_silent_downcasting', True)`\n",
      "  return df.fillna(np.nan)\n"
     ]
    },
    {
     "name": "stdout",
     "output_type": "stream",
     "text": [
      "├── dongfang <HDF5 group \"/dongfang\" (8 members)>03          \n",
      "│   ├── gp <HDF5 group \"/dongfang/gp\" (48 members)>\n",
      "│   │   ├── 20240102 <HDF5 group \"/dongfang/gp/20240102\" (3 members)> (feature, secid, values)\n",
      "│   │   ├── 20240103 <HDF5 group \"/dongfang/gp/20240103\" (3 members)> (feature, secid, values)\n",
      "│   │   ├── ...... omitting 44 memebers\n",
      "│   │   ├── 20240314 <HDF5 group \"/dongfang/gp/20240314\" (3 members)> (feature, secid, values)\n",
      "│   │   └── 20240315 <HDF5 group \"/dongfang/gp/20240315\" (3 members)> (feature, secid, values)\n",
      "│   ├── hfq_chars <HDF5 group \"/dongfang/hfq_chars\" (48 members)>\n",
      "│   │   ├── 20240102 <HDF5 group \"/dongfang/hfq_chars/20240102\" (3 members)> (feature, secid, values)\n",
      "│   │   ├── 20240103 <HDF5 group \"/dongfang/hfq_chars/20240103\" (3 members)> (feature, secid, values)\n",
      "│   │   ├── ...... omitting 44 memebers\n",
      "│   │   ├── 20240314 <HDF5 group \"/dongfang/hfq_chars/20240314\" (3 members)> (feature, secid, values)\n",
      "│   │   └── 20240315 <HDF5 group \"/dongfang/hfq_chars/20240315\" (3 members)> (feature, secid, values)\n",
      "│   ├── hist <HDF5 group \"/dongfang/hist\" (47 members)>\n",
      "│   │   ├── 20240102 <HDF5 group \"/dongfang/hist/20240102\" (3 members)> (feature, secid, values)\n",
      "│   │   ├── 20240103 <HDF5 group \"/dongfang/hist/20240103\" (3 members)> (feature, secid, values)\n",
      "│   │   ├── ...... omitting 43 memebers\n",
      "│   │   ├── 20240314 <HDF5 group \"/dongfang/hist/20240314\" (3 members)> (feature, secid, values)\n",
      "│   │   └── 20240315 <HDF5 group \"/dongfang/hist/20240315\" (3 members)> (feature, secid, values)\n",
      "│   ├── l2_chars <HDF5 group \"/dongfang/l2_chars\" (48 members)>\n",
      "│   │   ├── 20240102 <HDF5 group \"/dongfang/l2_chars/20240102\" (3 members)> (feature, secid, values)\n",
      "│   │   ├── 20240103 <HDF5 group \"/dongfang/l2_chars/20240103\" (3 members)> (feature, secid, values)\n",
      "│   │   ├── ...... omitting 44 memebers\n",
      "│   │   ├── 20240314 <HDF5 group \"/dongfang/l2_chars/20240314\" (3 members)> (feature, secid, values)\n",
      "│   │   └── 20240315 <HDF5 group \"/dongfang/l2_chars/20240315\" (3 members)> (feature, secid, values)\n",
      "│   ├── ms_chars <HDF5 group \"/dongfang/ms_chars\" (48 members)>\n",
      "│   │   ├── 20240102 <HDF5 group \"/dongfang/ms_chars/20240102\" (3 members)> (feature, secid, values)\n",
      "│   │   ├── 20240103 <HDF5 group \"/dongfang/ms_chars/20240103\" (3 members)> (feature, secid, values)\n",
      "│   │   ├── ...... omitting 44 memebers\n",
      "│   │   ├── 20240314 <HDF5 group \"/dongfang/ms_chars/20240314\" (3 members)> (feature, secid, values)\n",
      "│   │   └── 20240315 <HDF5 group \"/dongfang/ms_chars/20240315\" (3 members)> (feature, secid, values)\n",
      "│   ├── order_flow <HDF5 group \"/dongfang/order_flow\" (48 members)>\n",
      "│   │   ├── 20240102 <HDF5 group \"/dongfang/order_flow/20240102\" (3 members)> (feature, secid, values)\n",
      "│   │   ├── 20240103 <HDF5 group \"/dongfang/order_flow/20240103\" (3 members)> (feature, secid, values)\n",
      "│   │   ├── ...... omitting 44 memebers\n",
      "│   │   ├── 20240314 <HDF5 group \"/dongfang/order_flow/20240314\" (3 members)> (feature, secid, values)\n",
      "│   │   └── 20240315 <HDF5 group \"/dongfang/order_flow/20240315\" (3 members)> (feature, secid, values)\n",
      "│   ├── scores_v0 <HDF5 group \"/dongfang/scores_v0\" (48 members)>\n",
      "│   │   ├── 20240102 <HDF5 group \"/dongfang/scores_v0/20240102\" (3 members)> (feature, secid, values)\n",
      "│   │   ├── 20240103 <HDF5 group \"/dongfang/scores_v0/20240103\" (3 members)> (feature, secid, values)\n",
      "│   │   ├── ...... omitting 44 memebers\n",
      "│   │   ├── 20240314 <HDF5 group \"/dongfang/scores_v0/20240314\" (3 members)> (feature, secid, values)\n",
      "│   │   └── 20240315 <HDF5 group \"/dongfang/scores_v0/20240315\" (3 members)> (feature, secid, values)\n",
      "│   └── tra <HDF5 group \"/dongfang/tra\" (48 members)>\n",
      "│       ├── 20240102 <HDF5 group \"/dongfang/tra/20240102\" (3 members)> (feature, secid, values)\n",
      "│       ├── 20240103 <HDF5 group \"/dongfang/tra/20240103\" (3 members)> (feature, secid, values)\n",
      "│       ├── ...... omitting 44 memebers\n",
      "│       ├── 20240314 <HDF5 group \"/dongfang/tra/20240314\" (3 members)> (feature, secid, values)\n",
      "│       └── 20240315 <HDF5 group \"/dongfang/tra/20240315\" (3 members)> (feature, secid, values)\n",
      "├── haitong <HDF5 group \"/haitong\" (2 members)>\n",
      "│   ├── dl_factors <HDF5 group \"/haitong/dl_factors\" (48 members)>\n",
      "│   │   ├── 20240102 <HDF5 group \"/haitong/dl_factors/20240102\" (3 members)> (feature, secid, values)\n",
      "│   │   ├── 20240103 <HDF5 group \"/haitong/dl_factors/20240103\" (3 members)> (feature, secid, values)\n",
      "│   │   ├── ...... omitting 44 memebers\n",
      "│   │   ├── 20240314 <HDF5 group \"/haitong/dl_factors/20240314\" (3 members)> (feature, secid, values)\n",
      "│   │   └── 20240315 <HDF5 group \"/haitong/dl_factors/20240315\" (3 members)> (feature, secid, values)\n",
      "│   └── hf_factors <HDF5 group \"/haitong/hf_factors\" (48 members)>\n",
      "│       ├── 20240102 <HDF5 group \"/haitong/hf_factors/20240102\" (3 members)> (feature, secid, values)\n",
      "│       ├── 20240103 <HDF5 group \"/haitong/hf_factors/20240103\" (3 members)> (feature, secid, values)\n",
      "│       ├── ...... omitting 44 memebers\n",
      "│       ├── 20240314 <HDF5 group \"/haitong/hf_factors/20240314\" (3 members)> (feature, secid, values)\n",
      "│       └── 20240315 <HDF5 group \"/haitong/hf_factors/20240315\" (3 members)> (feature, secid, values)\n",
      "├── huatai <HDF5 group \"/huatai\" (1 members)>\n",
      "│   └── dl_factors <HDF5 group \"/huatai/dl_factors\" (49 members)>\n",
      "│       ├── 20240102 <HDF5 group \"/huatai/dl_factors/20240102\" (3 members)> (feature, secid, values)\n",
      "│       ├── 20240103 <HDF5 group \"/huatai/dl_factors/20240103\" (3 members)> (feature, secid, values)\n",
      "│       ├── ...... omitting 45 memebers\n",
      "│       ├── 20240314 <HDF5 group \"/huatai/dl_factors/20240314\" (3 members)> (feature, secid, values)\n",
      "│       └── 20240315 <HDF5 group \"/huatai/dl_factors/20240315\" (3 members)> (feature, secid, values)\n",
      "└── kaiyuan <HDF5 group \"/kaiyuan\" (2 members)>\n",
      "    ├── negative <HDF5 group \"/kaiyuan/negative\" (2 members)>\n",
      "    │   ├── 20240131 <HDF5 group \"/kaiyuan/negative/20240131\" (3 members)> (feature, secid, values)\n",
      "    │   └── 20240229 <HDF5 group \"/kaiyuan/negative/20240229\" (3 members)> (feature, secid, values)\n",
      "    └── positive <HDF5 group \"/kaiyuan/positive\" (2 members)>\n",
      "        ├── 20240131 <HDF5 group \"/kaiyuan/positive/20240131\" (3 members)> (feature, secid, values)\n",
      "        └── 20240229 <HDF5 group \"/kaiyuan/positive/20240229\" (3 members)> (feature, secid, values)\n"
     ]
    }
   ],
   "source": [
    "# %% update data\n",
    "import socket\n",
    "from scripts.util.data.DataUpdater import update_server_main , update_laptop_main\n",
    "from scripts.util.data.sqlConnector import update_sql_since , update_sql_dates\n",
    "\n",
    "if socket.gethostname() == 'mengkjin-server':\n",
    "    update_server_main()\n",
    "else:\n",
    "    update_laptop_main()\n",
    "update_sql_since()\n",
    "if False:\n",
    "    update_sql_dates(20240101 , 20240229)"
   ]
  },
  {
   "cell_type": "code",
   "execution_count": 1,
   "metadata": {},
   "outputs": [
    {
     "name": "stdout",
     "output_type": "stream",
     "text": [
      "Use device name: NVIDIA GeForce RTX 4090\n"
     ]
    },
    {
     "name": "stderr",
     "output_type": "stream",
     "text": [
      "\u001b[1m\u001b[37m\u001b[44m24-03-24 23:36:01|MOD:run_model   |\u001b[0m: \u001b[1m\u001b[34mModel Specifics:\u001b[0m\n",
      "\u001b[1m\u001b[37m\u001b[41m24-03-24 23:36:01|MOD:run_model   |\u001b[0m: \u001b[1m\u001b[31mStart Process [Load Data]!\u001b[0m\n"
     ]
    },
    {
     "name": "stdout",
     "output_type": "stream",
     "text": [
      "--Process Queue : Data + Train + Test + Instance\n",
      "--Start Training New!\n",
      "--Model_name is set to gru_day!\n",
      "{'verbosity': 2,\n",
      " 'storage_type': 'mem',\n",
      " 'precision': 'float',\n",
      " 'batch_size': 10000,\n",
      " 'model_name': 'gru_day',\n",
      " 'model_module': 'gru',\n",
      " 'model_data_type': 'day',\n",
      " 'model_num': 2,\n",
      " 'beg_date': 20170103,\n",
      " 'end_date': 99991231,\n",
      " 'interval': 120,\n",
      " 'input_step_day': 5,\n",
      " 'test_step_day': 1,\n",
      " 'MODEL_PARAM': {'hidden_dim': [32, 64],\n",
      "                 'seqlens': [{'day': 30, '30m': 30, 'dms': 30}],\n",
      "                 'tra_seqlens': [{'hist_loss': 40}],\n",
      "                 'dropout': [0.1],\n",
      "                 'enc_in': [True],\n",
      "                 'enc_att': [False],\n",
      "                 'rnn_type': ['lstm'],\n",
      "                 'rnn_att': [False],\n",
      "                 'rnn_layers': [2],\n",
      "                 'dec_mlp_layers': [2],\n",
      "                 'num_output': [1],\n",
      "                 'kernel_size': [3, 3],\n",
      "                 'hidden_as_factor': [False],\n",
      "                 'ordered_param_group': [False],\n",
      "                 'tra_num_states': [5],\n",
      "                 'resnet_blocks': [2, 3, 4]},\n",
      " 'train_params': {'dataloader': {'random_seed': None, 'random_split': True, 'sample_method': 'train_shuffle', 'train_ratio': 0.8},\n",
      "                  'trainer': {'optimizer': {'name': 'Adam', 'param': {}},\n",
      "                              'scheduler': {'name': 'cycle', 'param': {'base_lr': 1e-07, 'step_size_up': 4}},\n",
      "                              'learn_rate': {'base': 0.005,\n",
      "                                             'ratio': {'attempt': [1, 0.1, 10, 0.01, 100], 'round': [1.0], 'transfer': 0.1},\n",
      "                                             'reset': {'num_reset': 2, 'trigger': 40, 'recover_level': 1.0, 'speedup2x': True}},\n",
      "                              'nanloss': {'retry': 5},\n",
      "                              'gradient': {'clip_value': 10.0},\n",
      "                              'retrain': {'attempts': 4, 'min_epoch': 20, 'min_epoch_round': 10}},\n",
      "                  'criterion': {'loss': 'pearson',\n",
      "                                'score': {'train': 'spearman', 'valid': 'spearman', 'test': 'spearman'},\n",
      "                                'penalty': {'hidden_orthogonality': {'lamb': 0.001}, 'tra_ot_penalty': {'lamb': 0.01, 'rho': 0.999}},\n",
      "                                'weight': {'train': 'equal', 'test': 'equal'}},\n",
      "                  'transfer': False,\n",
      "                  'output_types': ['best', 'swalast', 'swabest'],\n",
      "                  'multitask': {'type': 'hybrid',\n",
      "                                'param_dict': {'dwa': {'tau': 2},\n",
      "                                               'ruw': {'phi': None},\n",
      "                                               'ewa': {},\n",
      "                                               'gls': {},\n",
      "                                               'rws': {},\n",
      "                                               'hybrid': {'phi': None, 'tau': 2}}},\n",
      "                  'terminate': {'overall': {'early_stop': 20, 'max_epoch': 200, 'valid_converge': {'min_epoch': 5, 'eps': 1e-05}},\n",
      "                                'round': {'early_stop': 10, 'max_epoch': 100, 'valid_converge': {'min_epoch': 5, 'eps': 1e-05}}}},\n",
      " 'compt_params': {'cuda_first': True, 'num_worker': 10}}\n",
      "use /home/mengkjin/Workspace/learndl/src/../data/torch_pack/day+std_lag1_10.20240229.pt\n"
     ]
    },
    {
     "name": "stderr",
     "output_type": "stream",
     "text": [
      "\u001b[1m\u001b[37m\u001b[41m24-03-24 23:36:04|MOD:run_model   |\u001b[0m: \u001b[1m\u001b[31mFinish Process [Load Data]! Cost 2.9Secs\u001b[0m\n",
      "\u001b[1m\u001b[37m\u001b[41m24-03-24 23:36:04|MOD:run_model   |\u001b[0m: \u001b[1m\u001b[31mStart Process [Train Model]!\u001b[0m\n"
     ]
    },
    {
     "name": "stdout",
     "output_type": "stream",
     "text": [
      "Pre-Norming method of [day] : [endpoint_division(True) , history_standardize(True)]\n"
     ]
    },
    {
     "name": "stderr",
     "output_type": "stream",
     "text": [
      "\u001b[32mgru_day #0 @20170103 LoadData Cost    4.5Secs\u001b[0m\n"
     ]
    },
    {
     "name": "stdout",
     "output_type": "stream",
     "text": [
      "score function of [spearman] calculated and success!\n",
      "loss function of [pearson] calculated and success!\n"
     ]
    },
    {
     "name": "stderr",
     "output_type": "stream",
     "text": [
      "\u001b[32mFirstBite Ep#  0 : loss  0.99733, train 0.00610, valid 0.04713, max 0.0471, best 0.0471, lr1.0e-07\u001b[0m\n",
      "\u001b[32mFirstBite Ep#  5 : loss  0.90545, train 0.10768, valid 0.10510, max 0.1051, best 0.1051, lr3.8e-03\u001b[0m\n",
      "\u001b[32mFirstBite Ep# 10 : loss  0.88611, train 0.12242, valid 0.10721, max 0.1072, best 0.1072, lr1.3e-03\u001b[0m\n",
      "\u001b[32mFirstBite Ep# 15 : loss  0.87683, train 0.13003, valid 0.10445, max 0.1078, best 0.1078, lr6.3e-04\u001b[0m\n",
      "\u001b[32mFirstBite Ep# 20 : loss  0.87505, train 0.13073, valid 0.11017, max 0.1102, best 0.1102, lr1.3e-03\u001b[0m\n",
      "\u001b[32mFirstBite Ep# 25 : loss  0.87057, train 0.13578, valid 0.10257, max 0.1102, best 0.1102, lr1.6e-04\u001b[0m\n",
      "\u001b[32mFirstBite Ep# 30 : loss  0.86923, train 0.13675, valid 0.10417, max 0.1102, best 0.1102, lr3.1e-04\u001b[0m\n",
      "\u001b[32mFirstBite Ep# 35 : loss  0.86795, train 0.13754, valid 0.10343, max 0.1102, best 0.1102, lr2.3e-04\u001b[0m\n",
      "\u001b[32mReset learn rate and scheduler at the end of epoch 39 , effective at epoch 40\u001b[0m\n",
      "\u001b[32mFirstBite Ep# 40 : loss  0.86652, train 0.13796, valid 0.10472, max 0.1102, best 0.1102, lr1.0e-07\u001b[0m\n",
      "\u001b[1m\u001b[37m\u001b[44m24-03-24 23:37:00|MOD:run_model   |\u001b[0m: \u001b[1m\u001b[34mgru_day #0 @20170103|Round 0 FirstBite Ep# 40 EarlyStop|Train 0.1380 Valid 0.1047 BestVal 0.1102|Cost  0.9Min,  1.3Sec/Ep\u001b[0m\n",
      "\u001b[32mFirstBite Ep#  0 : loss  1.00685, train-0.01226, valid-0.03306, max-0.0331, best-0.0331, lr1.0e-07\u001b[0m\n",
      "\u001b[32mFirstBite Ep#  5 : loss  0.89509, train 0.11510, valid 0.11153, max 0.1115, best 0.1115, lr3.8e-03\u001b[0m\n",
      "\u001b[32mFirstBite Ep# 10 : loss  0.87474, train 0.13293, valid 0.11688, max 0.1169, best 0.1169, lr1.3e-03\u001b[0m\n",
      "\u001b[32mFirstBite Ep# 15 : loss  0.86276, train 0.14373, valid 0.11521, max 0.1173, best 0.1173, lr6.3e-04\u001b[0m\n",
      "\u001b[32mFirstBite Ep# 20 : loss  0.86037, train 0.14576, valid 0.11566, max 0.1176, best 0.1176, lr1.3e-03\u001b[0m\n",
      "\u001b[32mFirstBite Ep# 25 : loss  0.85093, train 0.15423, valid 0.11254, max 0.1176, best 0.1176, lr1.6e-04\u001b[0m\n",
      "\u001b[32mFirstBite Ep# 30 : loss  0.84890, train 0.15601, valid 0.11376, max 0.1176, best 0.1176, lr3.1e-04\u001b[0m\n",
      "\u001b[32mFirstBite Ep# 35 : loss  0.84748, train 0.15750, valid 0.11236, max 0.1176, best 0.1176, lr2.3e-04\u001b[0m\n",
      "\u001b[1m\u001b[37m\u001b[44m24-03-24 23:38:03|MOD:run_model   |\u001b[0m: \u001b[1m\u001b[34mgru_day #1 @20170103|Round 0 FirstBite Ep# 38 EarlyStop|Train 0.1597 Valid 0.1110 BestVal 0.1176|Cost  1.0Min,  1.6Sec/Ep\u001b[0m\n",
      "\u001b[1m\u001b[37m\u001b[44m24-03-24 23:39:39|MOD:run_model   |\u001b[0m: \u001b[1m\u001b[34mgru_day #0 @20170704|Round 0 FirstBite Ep# 69 EarlyStop|Train 0.1461 Valid 0.0991 BestVal 0.1000|Cost  1.6Min,  1.3Sec/Ep\u001b[0m\n",
      "\u001b[1m\u001b[37m\u001b[44m24-03-24 23:40:42|MOD:run_model   |\u001b[0m: \u001b[1m\u001b[34mgru_day #1 @20170704|Round 0 FirstBite Ep# 37 EarlyStop|Train 0.1607 Valid 0.1003 BestVal 0.1046|Cost  1.1Min,  1.7Sec/Ep\u001b[0m\n",
      "\u001b[1m\u001b[37m\u001b[44m24-03-24 23:42:22|MOD:run_model   |\u001b[0m: \u001b[1m\u001b[34mgru_day #0 @20171226|Round 0 FirstBite Ep# 70 EarlyStop|Train 0.1561 Valid 0.0953 BestVal 0.0978|Cost  1.7Min,  1.3Sec/Ep\u001b[0m\n",
      "\u001b[1m\u001b[37m\u001b[44m24-03-24 23:43:36|MOD:run_model   |\u001b[0m: \u001b[1m\u001b[34mgru_day #1 @20171226|Round 0 FirstBite Ep# 42 EarlyStop|Train 0.1521 Valid 0.0904 BestVal 0.0996|Cost  1.2Min,  1.7Sec/Ep\u001b[0m\n",
      "\u001b[1m\u001b[37m\u001b[44m24-03-24 23:45:27|MOD:run_model   |\u001b[0m: \u001b[1m\u001b[34mgru_day #0 @20180627|Round 0 FirstBite Ep# 75 EarlyStop|Train 0.1565 Valid 0.0971 BestVal 0.0974|Cost  1.9Min,  1.4Sec/Ep\u001b[0m\n",
      "\u001b[1m\u001b[37m\u001b[44m24-03-24 23:47:13|MOD:run_model   |\u001b[0m: \u001b[1m\u001b[34mgru_day #1 @20180627|Round 0 FirstBite Ep# 58 EarlyStop|Train 0.1783 Valid 0.0936 BestVal 0.0970|Cost  1.8Min,  1.8Sec/Ep\u001b[0m\n",
      "\u001b[1m\u001b[37m\u001b[44m24-03-24 23:49:42|MOD:run_model   |\u001b[0m: \u001b[1m\u001b[34mgru_day #0 @20181220|Round 0 FirstBite Ep# 99 Max Epoch|Train 0.1562 Valid 0.1049 BestVal 0.1050|Cost  2.5Min,  1.4Sec/Ep\u001b[0m\n",
      "\u001b[1m\u001b[37m\u001b[44m24-03-24 23:51:51|MOD:run_model   |\u001b[0m: \u001b[1m\u001b[34mgru_day #1 @20181220|Round 0 FirstBite Ep# 69 EarlyStop|Train 0.1845 Valid 0.1028 BestVal 0.1068|Cost  2.2Min,  1.8Sec/Ep\u001b[0m\n",
      "\u001b[1m\u001b[37m\u001b[44m24-03-24 23:53:21|MOD:run_model   |\u001b[0m: \u001b[1m\u001b[34mgru_day #0 @20190624|Round 0 FirstBite Ep# 57 EarlyStop|Train 0.1444 Valid 0.1067 BestVal 0.1070|Cost  1.5Min,  1.5Sec/Ep\u001b[0m\n",
      "\u001b[1m\u001b[37m\u001b[44m24-03-24 23:55:00|MOD:run_model   |\u001b[0m: \u001b[1m\u001b[34mgru_day #1 @20190624|Round 0 FirstBite Ep# 51 EarlyStop|Train 0.1733 Valid 0.1031 BestVal 0.1090|Cost  1.7Min,  1.9Sec/Ep\u001b[0m\n",
      "\u001b[1m\u001b[37m\u001b[44m24-03-24 23:56:18|MOD:run_model   |\u001b[0m: \u001b[1m\u001b[34mgru_day #0 @20191217|Round 0 FirstBite Ep# 47 EarlyStop|Train 0.1399 Valid 0.0940 BestVal 0.0960|Cost  1.3Min,  1.5Sec/Ep\u001b[0m\n",
      "\u001b[1m\u001b[37m\u001b[44m24-03-24 23:58:00|MOD:run_model   |\u001b[0m: \u001b[1m\u001b[34mgru_day #1 @20191217|Round 0 FirstBite Ep# 50 EarlyStop|Train 0.1671 Valid 0.0922 BestVal 0.0976|Cost  1.7Min,  2.0Sec/Ep\u001b[0m\n",
      "\u001b[1m\u001b[37m\u001b[44m24-03-24 23:59:08|MOD:run_model   |\u001b[0m: \u001b[1m\u001b[34mgru_day #0 @20200617|Round 0 FirstBite Ep# 39 EarlyStop|Train 0.1302 Valid 0.0845 BestVal 0.0857|Cost  1.1Min,  1.6Sec/Ep\u001b[0m\n",
      "\u001b[1m\u001b[37m\u001b[44m24-03-25 00:01:03|MOD:run_model   |\u001b[0m: \u001b[1m\u001b[34mgru_day #1 @20200617|Round 0 FirstBite Ep# 54 EarlyStop|Train 0.1621 Valid 0.0843 BestVal 0.0864|Cost  1.9Min,  2.1Sec/Ep\u001b[0m\n",
      "\u001b[1m\u001b[37m\u001b[44m24-03-25 00:02:49|MOD:run_model   |\u001b[0m: \u001b[1m\u001b[34mgru_day #0 @20201214|Round 0 FirstBite Ep# 61 EarlyStop|Train 0.1340 Valid 0.0803 BestVal 0.0812|Cost  1.8Min,  1.6Sec/Ep\u001b[0m\n",
      "\u001b[1m\u001b[37m\u001b[44m24-03-25 00:05:14|MOD:run_model   |\u001b[0m: \u001b[1m\u001b[34mgru_day #1 @20201214|Round 0 FirstBite Ep# 66 EarlyStop|Train 0.1685 Valid 0.0750 BestVal 0.0862|Cost  2.4Min,  2.2Sec/Ep\u001b[0m\n",
      "\u001b[1m\u001b[37m\u001b[44m24-03-25 00:08:00|MOD:run_model   |\u001b[0m: \u001b[1m\u001b[34mgru_day #0 @20210615|Round 0 FirstBite Ep# 94 EarlyStop|Train 0.1437 Valid 0.0773 BestVal 0.0776|Cost  2.8Min,  1.7Sec/Ep\u001b[0m\n",
      "\u001b[1m\u001b[37m\u001b[44m24-03-25 00:09:39|MOD:run_model   |\u001b[0m: \u001b[1m\u001b[34mgru_day #1 @20210615|Round 0 FirstBite Ep# 43 EarlyStop|Train 0.1484 Valid 0.0723 BestVal 0.0787|Cost  1.6Min,  2.2Sec/Ep\u001b[0m\n",
      "\u001b[1m\u001b[37m\u001b[44m24-03-25 00:11:25|MOD:run_model   |\u001b[0m: \u001b[1m\u001b[34mgru_day #0 @20211209|Round 0 FirstBite Ep# 56 EarlyStop|Train 0.1301 Valid 0.0707 BestVal 0.0715|Cost  1.8Min,  1.8Sec/Ep\u001b[0m\n",
      "\u001b[1m\u001b[37m\u001b[44m24-03-25 00:13:58|MOD:run_model   |\u001b[0m: \u001b[1m\u001b[34mgru_day #1 @20211209|Round 0 FirstBite Ep# 65 EarlyStop|Train 0.1589 Valid 0.0682 BestVal 0.0711|Cost  2.6Min,  2.3Sec/Ep\u001b[0m\n",
      "\u001b[1m\u001b[37m\u001b[44m24-03-25 00:15:02|MOD:run_model   |\u001b[0m: \u001b[1m\u001b[34mgru_day #0 @20220613|Round 0 FirstBite Ep# 31 EarlyStop|Train 0.1204 Valid 0.0651 BestVal 0.0663|Cost  1.1Min,  1.8Sec/Ep\u001b[0m\n",
      "\u001b[1m\u001b[37m\u001b[44m24-03-25 00:17:03|MOD:run_model   |\u001b[0m: \u001b[1m\u001b[34mgru_day #1 @20220613|Round 0 FirstBite Ep# 49 EarlyStop|Train 0.1460 Valid 0.0638 BestVal 0.0660|Cost  2.0Min,  2.4Sec/Ep\u001b[0m\n",
      "\u001b[1m\u001b[37m\u001b[44m24-03-25 00:18:53|MOD:run_model   |\u001b[0m: \u001b[1m\u001b[34mgru_day #0 @20221206|Round 0 FirstBite Ep# 54 EarlyStop|Train 0.1227 Valid 0.0619 BestVal 0.0672|Cost  1.8Min,  1.9Sec/Ep\u001b[0m\n",
      "\u001b[1m\u001b[37m\u001b[44m24-03-25 00:20:22|MOD:run_model   |\u001b[0m: \u001b[1m\u001b[34mgru_day #1 @20221206|Round 0 FirstBite Ep# 34 EarlyStop|Train 0.1378 Valid 0.0636 BestVal 0.0663|Cost  1.5Min,  2.5Sec/Ep\u001b[0m\n",
      "\u001b[1m\u001b[37m\u001b[44m24-03-25 00:21:15|MOD:run_model   |\u001b[0m: \u001b[1m\u001b[34mgru_day #0 @20230606|Round 0 FirstBite Ep# 22 EarlyStop|Train 0.1086 Valid 0.0544 BestVal 0.0651|Cost  0.9Min,  2.0Sec/Ep\u001b[0m\n",
      "\u001b[1m\u001b[37m\u001b[44m24-03-25 00:22:13|MOD:run_model   |\u001b[0m: \u001b[1m\u001b[34mgru_day #1 @20230606|Round 0 FirstBite Ep# 21 EarlyStop|Train 0.1213 Valid 0.0439 BestVal 0.0606|Cost  1.0Min,  2.7Sec/Ep\u001b[0m\n",
      "\u001b[1m\u001b[37m\u001b[44m24-03-25 00:23:05|MOD:run_model   |\u001b[0m: \u001b[1m\u001b[34mgru_day #0 @20231201|Round 0 FirstBite Ep# 21 EarlyStop|Train 0.1000 Valid 0.0555 BestVal 0.0621|Cost  0.9Min,  2.1Sec/Ep\u001b[0m\n",
      "\u001b[1m\u001b[37m\u001b[44m24-03-25 00:24:09|MOD:run_model   |\u001b[0m: \u001b[1m\u001b[34mgru_day #1 @20231201|Round 0 FirstBite Ep# 22 EarlyStop|Train 0.1175 Valid 0.0557 BestVal 0.0598|Cost  1.1Min,  2.8Sec/Ep\u001b[0m\n",
      "\u001b[1m\u001b[37m\u001b[41m24-03-25 00:24:09|MOD:run_model   |\u001b[0m: \u001b[1m\u001b[31mFinish Process [Train Model]! Cost 0.8 Hours, 1.6 Min/model, 1.8 Sec/Epoch\u001b[0m\n",
      "\u001b[1m\u001b[37m\u001b[41m24-03-25 00:24:09|MOD:run_model   |\u001b[0m: \u001b[1m\u001b[31mStart Process [Test Model]!\u001b[0m\n",
      "\u001b[1m\u001b[37m\u001b[44m24-03-25 00:24:09|MOD:run_model   |\u001b[0m: \u001b[1m\u001b[34mEach Model Date Testing Mean Score({'train': 'spearman', 'valid': 'spearman', 'test': 'spearman'}):\u001b[0m\n",
      "\u001b[32mModels            0       0       0       1       1       1\u001b[0m\n",
      "\u001b[32mOutput         best swalast swabest    best swalast swabest\u001b[0m\n",
      "\u001b[32m20170103     0.0884  0.0903  0.0885  0.0956  0.0945  0.0933\u001b[0m\n",
      "\u001b[32m20170704     0.1133  0.1105  0.1133  0.1147  0.1134  0.1148\u001b[0m\n",
      "\u001b[32m20171226     0.1106  0.1116  0.1107  0.1115  0.1108  0.1110\u001b[0m\n",
      "\u001b[32m20180627     0.0979  0.0961  0.0981  0.0962  0.0938  0.0965\u001b[0m\n",
      "\u001b[32m20181220     0.0883  0.0868  0.0888  0.0869  0.0915  0.0884\u001b[0m\n",
      "\u001b[32m20190624     0.0825  0.0835  0.0825  0.0819  0.0821  0.0819\u001b[0m\n",
      "\u001b[32m20191217     0.0775  0.0770  0.0775  0.0800  0.0793  0.0798\u001b[0m\n",
      "\u001b[32m20200617     0.0683  0.0682  0.0693  0.0740  0.0729  0.0708\u001b[0m\n",
      "\u001b[32m20201214     0.0779  0.0757  0.0772  0.0767  0.0755  0.0775\u001b[0m\n",
      "\u001b[32m20210615     0.0561  0.0548  0.0554  0.0525  0.0517  0.0524\u001b[0m\n",
      "\u001b[32m20211209     0.0716  0.0704  0.0707  0.0713  0.0708  0.0715\u001b[0m\n",
      "\u001b[32m20220613     0.0599  0.0565  0.0586  0.0568  0.0535  0.0561\u001b[0m\n",
      "\u001b[32m20221206     0.0389  0.0362  0.0381  0.0402  0.0362  0.0383\u001b[0m\n",
      "\u001b[32m20230606     0.0638  0.0508  0.0525  0.0651  0.0540  0.0442\u001b[0m\n",
      "\u001b[32m20231201     0.0173  0.0310  0.0285  0.0190  0.0310  0.0301\u001b[0m\n",
      "\u001b[32mAllTimeAvg   0.0758  0.0745  0.0753  0.0765  0.0754  0.0751\u001b[0m\n",
      "\u001b[32mAllTimeSum   132.56  130.30  131.67  133.71  131.74  131.22\u001b[0m\n",
      "\u001b[32mStd          0.0512  0.0491  0.0503  0.0494  0.0477  0.0478\u001b[0m\n",
      "\u001b[32mTValue        61.88   63.46   62.56   64.73   66.08   65.64\u001b[0m\n",
      "\u001b[32mAnnIR        7.2505  7.4358  7.3299  7.5849  7.7432  7.6910\u001b[0m\n",
      "\u001b[1m\u001b[37m\u001b[41m24-03-25 00:25:00|MOD:run_model   |\u001b[0m: \u001b[1m\u001b[31mFinish Process [Test Model]! Cost 50.8 Secs\u001b[0m\n",
      "\u001b[1m\u001b[37m\u001b[41m24-03-25 00:25:00|MOD:run_model   |\u001b[0m: \u001b[1m\u001b[31mWill not copy to instance!\u001b[0m\n"
     ]
    }
   ],
   "source": [
    "# %% test a specific model\n",
    "from run_model import main\n",
    "main(process = 0 , rawname = 1 , resume = 0 , anchoring = 0)"
   ]
  },
  {
   "cell_type": "code",
   "execution_count": 5,
   "metadata": {},
   "outputs": [],
   "source": [
    "import os\n",
    "del_path = './instance/tra_lstm2_day_ShortTest'\n",
    "if os.path.exists(del_path): os.rmdir(del_path)\n",
    "# rm -r ./instance/tra_lstm2_day_ShortTest #type: ignore"
   ]
  },
  {
   "cell_type": "code",
   "execution_count": 2,
   "metadata": {},
   "outputs": [
    {
     "name": "stderr",
     "output_type": "stream",
     "text": [
      "\u001b[1m\u001b[37m\u001b[41m24-03-24 17:09:44|MOD:data_preprocessing|\u001b[0m: \u001b[1m\u001b[31mData Processing start!\u001b[0m\n",
      "\u001b[1m\u001b[37m\u001b[45m24-03-24 17:09:44|MOD:data_preprocessing|\u001b[0m: \u001b[1m\u001b[35m3 datas :['y', 'trade_day', 'trade_30m']\u001b[0m\n"
     ]
    },
    {
     "name": "stdout",
     "output_type": "stream",
     "text": [
      "False\n",
      "Sun Mar 24 17:09:44 2024 : y start ...\n",
      "labels blocks reading 10days/lag1 Data1D's ...... cost 0.32 secs\n",
      "labels blocks reading 20days/lag1 Data1D's ...... cost 0.25 secs\n",
      "labels blocks merging ...... cost 0.04 secs\n",
      "models blocks reading risk_model/exposure Data1D's ...... cost 1.05 secs\n",
      "models blocks merging ...... cost 0.00 secs\n",
      "2 blocks aligning ...... cost 0.39 secs\n",
      "y blocks process ...... cost 1.07 secs\n",
      "y blocks masking ...... cost 0.08 secs\n",
      "y blocks saving  ...... cost 0.13 secs\n",
      "y blocks norming ...... cost 0.00 secs\n",
      "Sun Mar 24 17:09:47 2024 : y finished! Cost 3.32 Seconds\n",
      "Sun Mar 24 17:09:47 2024 : trade_day start ...\n",
      "trade_day blocks reading day/trade Data1D's ...... cost 0.31 secs\n",
      "trade_day blocks merging ...... cost 0.00 secs\n",
      "trade_day blocks process ...... cost 0.06 secs\n",
      "trade_day blocks masking ...... cost 0.08 secs\n",
      "trade_day blocks saving  ...... cost 0.14 secs\n",
      "trade_day blocks norming ...... cost 0.00 secs\n",
      "Sun Mar 24 17:09:48 2024 : trade_day finished! Cost 0.59 Seconds\n",
      "Sun Mar 24 17:09:48 2024 : trade_30m start ...\n",
      "trade_Xmin blocks reading 30min/trade Data1D's ...... cost 20.84 secs\n",
      "trade_30m blocks merging ...... cost 0.00 secs\n",
      "trade_day blocks reading day/trade Data1D's ...... cost 0.26 secs\n",
      "trade_day blocks merging ...... cost 0.00 secs\n",
      "2 blocks aligning ...... cost 0.03 secs\n",
      "trade_30m blocks process ...... cost 1.01 secs\n",
      "trade_30m blocks masking ...... cost 0.09 secs\n",
      "trade_30m blocks saving  ..."
     ]
    },
    {
     "name": "stderr",
     "output_type": "stream",
     "text": [
      "\u001b[1m\u001b[37m\u001b[41m24-03-24 17:10:12|MOD:data_preprocessing|\u001b[0m: \u001b[1m\u001b[31mData Processing Finished! Cost 27.56 Seconds\u001b[0m\n"
     ]
    },
    {
     "name": "stdout",
     "output_type": "stream",
     "text": [
      "... cost 1.10 secs\n",
      "trade_30m blocks norming ...... cost 0.00 secs\n",
      "Sun Mar 24 17:10:11 2024 : trade_30m finished! Cost 23.32 Seconds\n",
      "True\n"
     ]
    },
    {
     "name": "stderr",
     "output_type": "stream",
     "text": [
      "\u001b[1m\u001b[37m\u001b[41m24-03-24 17:10:18|MOD:data_preprocessing|\u001b[0m: \u001b[1m\u001b[31mData Processing start!\u001b[0m\n",
      "\u001b[1m\u001b[37m\u001b[45m24-03-24 17:10:18|MOD:data_preprocessing|\u001b[0m: \u001b[1m\u001b[35m3 datas :['y', 'trade_day', 'trade_30m']\u001b[0m\n"
     ]
    },
    {
     "name": "stdout",
     "output_type": "stream",
     "text": [
      "Sun Mar 24 17:10:18 2024 : y start ...\n",
      "labels blocks reading 10days/lag1 Data1D's ...... cost 6.49 secs\n",
      "labels blocks reading 20days/lag1 Data1D's ...... cost 6.08 secs\n",
      "labels blocks merging ...... cost 2.85 secs\n",
      "models blocks reading risk_model/exposure Data1D's ...... cost 39.59 secs\n",
      "models blocks merging ...... cost 0.00 secs\n",
      "2 blocks aligning ...... cost 35.95 secs\n",
      "y blocks process ...... cost 66.23 secs\n",
      "y blocks masking ...... cost 0.58 secs\n",
      "y blocks saving  ...... cost 4.94 secs\n",
      "y blocks norming ...... cost 0.00 secs\n",
      "Sun Mar 24 17:13:01 2024 : y finished! Cost 162.71 Seconds\n",
      "Sun Mar 24 17:13:01 2024 : trade_day start ...\n",
      "trade_day blocks reading day/trade Data1D's ...... cost 10.36 secs\n",
      "trade_day blocks merging ...... cost 0.00 secs\n",
      "trade_day blocks process ...... cost 6.50 secs\n",
      "trade_day blocks masking ...... cost 0.65 secs\n",
      "trade_day blocks saving  ...... cost 4.99 secs\n",
      "trade_day blocks norming ...... cost 19.87 secs\n",
      "Sun Mar 24 17:13:44 2024 : trade_day finished! Cost 42.38 Seconds\n",
      "Sun Mar 24 17:13:44 2024 : trade_30m start ...\n",
      "trade_Xmin blocks reading 30min/trade Data1D's ...... cost 402.28 secs\n",
      "trade_30m blocks merging ...... cost 0.00 secs\n",
      "trade_day blocks reading day/trade Data1D's ...... cost 8.53 secs\n",
      "trade_day blocks merging ...... cost 0.00 secs\n",
      "2 blocks aligning ...... cost 2.09 secs\n",
      "trade_30m blocks process ...... cost 42.40 secs\n",
      "trade_30m blocks masking ...... cost 0.92 secs\n",
      "trade_30m blocks saving  ...... cost 43.97 secs\n",
      "trade_30m blocks norming ..."
     ]
    },
    {
     "name": "stderr",
     "output_type": "stream",
     "text": [
      "\u001b[1m\u001b[37m\u001b[41m24-03-24 17:22:30|MOD:data_preprocessing|\u001b[0m: \u001b[1m\u001b[31mData Processing Finished! Cost 731.72 Seconds\u001b[0m\n"
     ]
    },
    {
     "name": "stdout",
     "output_type": "stream",
     "text": [
      "... cost 25.06 secs\n",
      "Sun Mar 24 17:22:29 2024 : trade_30m finished! Cost 525.26 Seconds\n"
     ]
    }
   ],
   "source": [
    "# %% model data preprocessing\n",
    "from data_preprocessing import main\n",
    "main(confirm=1 , if_train=False)\n",
    "main(confirm=1 , if_train=True)"
   ]
  }
 ],
 "metadata": {
  "kernelspec": {
   "display_name": "Python 3",
   "language": "python",
   "name": "python3"
  },
  "language_info": {
   "codemirror_mode": {
    "name": "ipython",
    "version": 3
   },
   "file_extension": ".py",
   "mimetype": "text/x-python",
   "name": "python",
   "nbconvert_exporter": "python",
   "pygments_lexer": "ipython3",
   "version": "3.10.12"
  }
 },
 "nbformat": 4,
 "nbformat_minor": 2
}
