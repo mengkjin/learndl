{
 "cells": [
  {
   "cell_type": "code",
   "execution_count": 1,
   "metadata": {},
   "outputs": [
    {
     "data": {
      "text/plain": [
       "True"
      ]
     },
     "execution_count": 1,
     "metadata": {},
     "output_type": "execute_result"
    }
   ],
   "source": [
    "# %% test cuda\n",
    "import torch #type: ignore\n",
    "torch.cuda.is_available()"
   ]
  },
  {
   "cell_type": "code",
   "execution_count": 2,
   "metadata": {},
   "outputs": [
    {
     "name": "stdout",
     "output_type": "stream",
     "text": [
      "Use device name: NVIDIA GeForce RTX 4090\n",
      "Merge Update Files\n",
      "['/home/mengkjin/Workspace/SharedFolder/DB_updater.2.h5']\n",
      "Thu Mar 14 22:24:13 2024 : DB_updater.2.h5 > data/DB_data/DB_information/DB_information.h5/./basic/calendar copying Done!\n",
      "Thu Mar 14 22:24:22 2024 : DB_updater.2.h5 > data/DB_data/DB_information/DB_information.h5/./stock/concepts copying Done!\n",
      "Thu Mar 14 22:24:22 2024 : DB_updater.2.h5 > data/DB_data/DB_information/DB_information.h5/./stock/description copying Done!\n",
      "Thu Mar 14 22:24:39 2024 : DB_updater.2.h5 > data/DB_data/DB_information/DB_information.h5/./stock/industry copying Done!\n",
      "Thu Mar 14 22:24:40 2024 : DB_updater.2.h5 > data/DB_data/DB_information/DB_information.h5/./stock/st copying Done!\n",
      "Thu Mar 14 22:24:40 2024 : DB_updater.2.h5 > data/DB_data/DB_labels/DB_labels.2024.h5/./10days/lag0 copying Done!\n",
      "Thu Mar 14 22:24:40 2024 : DB_updater.2.h5 > data/DB_data/DB_labels/DB_labels.2024.h5/./10days/lag1 copying Done!\n",
      "Thu Mar 14 22:24:40 2024 : DB_updater.2.h5 > data/DB_data/DB_labels/DB_labels.2024.h5/./20days/lag0 copying Done!\n",
      "Thu Mar 14 22:24:40 2024 : DB_updater.2.h5 > data/DB_data/DB_labels/DB_labels.2024.h5/./20days/lag1 copying Done!\n",
      "Thu Mar 14 22:24:40 2024 : DB_updater.2.h5 > data/DB_data/DB_labels/DB_labels.2024.h5/./5days/lag0 copying Done!\n",
      "Thu Mar 14 22:24:40 2024 : DB_updater.2.h5 > data/DB_data/DB_labels/DB_labels.2024.h5/./5days/lag1 copying Done!\n",
      "Thu Mar 14 22:24:40 2024 : DB_updater.2.h5 > data/DB_data/DB_models/DB_models.2024.h5/./alpha_longcl/exposure copying Done!\n",
      "Thu Mar 14 22:24:40 2024 : DB_updater.2.h5 > data/DB_data/DB_models/DB_models.2024.h5/./risk_model/exposure copying Done!\n",
      "Thu Mar 14 22:24:40 2024 : DB_updater.2.h5 > data/DB_data/DB_trade_Xday/DB_trade_Xday.2024.h5/./10day/trade copying Done!\n",
      "Thu Mar 14 22:24:40 2024 : DB_updater.2.h5 > data/DB_data/DB_trade_Xday/DB_trade_Xday.2024.h5/./20day/trade copying Done!\n",
      "Thu Mar 14 22:24:40 2024 : DB_updater.2.h5 > data/DB_data/DB_trade_Xday/DB_trade_Xday.2024.h5/./5day/trade copying Done!\n",
      "Thu Mar 14 22:24:40 2024 : DB_updater.2.h5 > data/DB_data/DB_trade_Xmin/DB_trade_Xmin.2024.h5/./10min/trade copying Done!\n",
      "Thu Mar 14 22:24:41 2024 : DB_updater.2.h5 > data/DB_data/DB_trade_Xmin/DB_trade_Xmin.2024.h5/./15min/trade copying Done!\n",
      "Thu Mar 14 22:24:41 2024 : DB_updater.2.h5 > data/DB_data/DB_trade_Xmin/DB_trade_Xmin.2024.h5/./30min/trade copying Done!\n",
      "Thu Mar 14 22:24:42 2024 : DB_updater.2.h5 > data/DB_data/DB_trade_Xmin/DB_trade_Xmin.2024.h5/./5min/trade copying Done!\n",
      "Thu Mar 14 22:24:43 2024 : DB_updater.2.h5 > data/DB_data/DB_trade_Xmin/DB_trade_Xmin.2024.h5/./60min/trade copying Done!\n",
      "Thu Mar 14 22:24:43 2024 : DB_updater.2.h5 > data/DB_data/DB_trade_day/DB_trade_day.2024.h5/./day/trade copying Done!\n",
      "Thu Mar 14 22:24:49 2024 : DB_updater.2.h5 > data/DB_data/DB_trade_min/DB_trade_min.2024.h5/./minute/trade copying Done!\n",
      "Thu Mar 14 22:24:49 2024 : All Updates Done! Cost 39.47 Secs\n",
      "Thu Mar 14 22:24:51 2024 : haitong/hf_factors since 20240309 to 20240314, total 1 periods(QE)\n",
      "Thu Mar 14 22:24:59 2024 : haitong/dl_factors since 20240309 to 20240314, total 1 periods(QE)\n",
      "Thu Mar 14 22:26:25 2024 : dongfang/hfq_chars since 20240309 to 20240314, total 1 periods(QE)\n",
      "Thu Mar 14 22:26:35 2024 : dongfang/l2_chars since 20240309 to 20240314, total 1 periods(QE)\n",
      "Thu Mar 14 22:27:03 2024 : dongfang/ms_chars since 20240309 to 20240314, total 1 periods(QE)\n",
      "Thu Mar 14 22:29:06 2024 : dongfang/order_flow since 20240309 to 20240314, total 1 periods(QE)\n",
      "Thu Mar 14 22:29:09 2024 : dongfang/gp since 20240309 to 20240314, total 1 periods(QE)\n",
      "Thu Mar 14 22:29:12 2024 : dongfang/tra since 20240309 to 20240314, total 1 periods(QE)\n",
      "Thu Mar 14 22:29:16 2024 : dongfang/hist since 20240309 to 20240314, total 1 periods(QE)\n",
      "Thu Mar 14 22:29:18 2024 : dongfang/scores_v0 since 20240309 to 20240314, total 1 periods(QE)\n",
      "Thu Mar 14 22:29:20 2024 : kaiyuan/positive since 20240301 to 20240314, total 1 periods(QE)\n",
      "Thu Mar 14 22:29:22 2024 : kaiyuan/negative since 20240301 to 20240314, total 1 periods(QE)\n",
      "Thu Mar 14 22:29:24 2024 : huatai/dl_factors since 20240309 to 20240314, total 1 periods(QE)\n",
      "├── dongfang <HDF5 group \"/dongfang\" (8 members)>03          \n",
      "│   ├── gp <HDF5 group \"/dongfang/gp\" (46 members)>\n",
      "│   │   ├── 20240102 <HDF5 group \"/dongfang/gp/20240102\" (3 members)> (feature, secid, values)\n",
      "│   │   ├── 20240103 <HDF5 group \"/dongfang/gp/20240103\" (3 members)> (feature, secid, values)\n",
      "│   │   ├── ...... omitting 42 memebers\n",
      "│   │   ├── 20240312 <HDF5 group \"/dongfang/gp/20240312\" (3 members)> (feature, secid, values)\n",
      "│   │   └── 20240313 <HDF5 group \"/dongfang/gp/20240313\" (3 members)> (feature, secid, values)\n",
      "│   ├── hfq_chars <HDF5 group \"/dongfang/hfq_chars\" (47 members)>\n",
      "│   │   ├── 20240102 <HDF5 group \"/dongfang/hfq_chars/20240102\" (3 members)> (feature, secid, values)\n",
      "│   │   ├── 20240103 <HDF5 group \"/dongfang/hfq_chars/20240103\" (3 members)> (feature, secid, values)\n",
      "│   │   ├── ...... omitting 43 memebers\n",
      "│   │   ├── 20240313 <HDF5 group \"/dongfang/hfq_chars/20240313\" (3 members)> (feature, secid, values)\n",
      "│   │   └── 20240314 <HDF5 group \"/dongfang/hfq_chars/20240314\" (3 members)> (feature, secid, values)\n",
      "│   ├── hist <HDF5 group \"/dongfang/hist\" (45 members)>\n",
      "│   │   ├── 20240102 <HDF5 group \"/dongfang/hist/20240102\" (3 members)> (feature, secid, values)\n",
      "│   │   ├── 20240103 <HDF5 group \"/dongfang/hist/20240103\" (3 members)> (feature, secid, values)\n",
      "│   │   ├── ...... omitting 41 memebers\n",
      "│   │   ├── 20240312 <HDF5 group \"/dongfang/hist/20240312\" (3 members)> (feature, secid, values)\n",
      "│   │   └── 20240313 <HDF5 group \"/dongfang/hist/20240313\" (3 members)> (feature, secid, values)\n",
      "│   ├── l2_chars <HDF5 group \"/dongfang/l2_chars\" (47 members)>\n",
      "│   │   ├── 20240102 <HDF5 group \"/dongfang/l2_chars/20240102\" (3 members)> (feature, secid, values)\n",
      "│   │   ├── 20240103 <HDF5 group \"/dongfang/l2_chars/20240103\" (3 members)> (feature, secid, values)\n",
      "│   │   ├── ...... omitting 43 memebers\n",
      "│   │   ├── 20240313 <HDF5 group \"/dongfang/l2_chars/20240313\" (3 members)> (feature, secid, values)\n",
      "│   │   └── 20240314 <HDF5 group \"/dongfang/l2_chars/20240314\" (3 members)> (feature, secid, values)\n",
      "│   ├── ms_chars <HDF5 group \"/dongfang/ms_chars\" (47 members)>\n",
      "│   │   ├── 20240102 <HDF5 group \"/dongfang/ms_chars/20240102\" (3 members)> (feature, secid, values)\n",
      "│   │   ├── 20240103 <HDF5 group \"/dongfang/ms_chars/20240103\" (3 members)> (feature, secid, values)\n",
      "│   │   ├── ...... omitting 43 memebers\n",
      "│   │   ├── 20240313 <HDF5 group \"/dongfang/ms_chars/20240313\" (3 members)> (feature, secid, values)\n",
      "│   │   └── 20240314 <HDF5 group \"/dongfang/ms_chars/20240314\" (3 members)> (feature, secid, values)\n",
      "│   ├── order_flow <HDF5 group \"/dongfang/order_flow\" (47 members)>\n",
      "│   │   ├── 20240102 <HDF5 group \"/dongfang/order_flow/20240102\" (3 members)> (feature, secid, values)\n",
      "│   │   ├── 20240103 <HDF5 group \"/dongfang/order_flow/20240103\" (3 members)> (feature, secid, values)\n",
      "│   │   ├── ...... omitting 43 memebers\n",
      "│   │   ├── 20240313 <HDF5 group \"/dongfang/order_flow/20240313\" (3 members)> (feature, secid, values)\n",
      "│   │   └── 20240314 <HDF5 group \"/dongfang/order_flow/20240314\" (3 members)> (feature, secid, values)\n",
      "│   ├── scores_v0 <HDF5 group \"/dongfang/scores_v0\" (47 members)>\n",
      "│   │   ├── 20240102 <HDF5 group \"/dongfang/scores_v0/20240102\" (3 members)> (feature, secid, values)\n",
      "│   │   ├── 20240103 <HDF5 group \"/dongfang/scores_v0/20240103\" (3 members)> (feature, secid, values)\n",
      "│   │   ├── ...... omitting 43 memebers\n",
      "│   │   ├── 20240313 <HDF5 group \"/dongfang/scores_v0/20240313\" (3 members)> (feature, secid, values)\n",
      "│   │   └── 20240314 <HDF5 group \"/dongfang/scores_v0/20240314\" (3 members)> (feature, secid, values)\n",
      "│   └── tra <HDF5 group \"/dongfang/tra\" (46 members)>\n",
      "│       ├── 20240102 <HDF5 group \"/dongfang/tra/20240102\" (3 members)> (feature, secid, values)\n",
      "│       ├── 20240103 <HDF5 group \"/dongfang/tra/20240103\" (3 members)> (feature, secid, values)\n",
      "│       ├── ...... omitting 42 memebers\n",
      "│       ├── 20240312 <HDF5 group \"/dongfang/tra/20240312\" (3 members)> (feature, secid, values)\n",
      "│       └── 20240313 <HDF5 group \"/dongfang/tra/20240313\" (3 members)> (feature, secid, values)\n",
      "├── haitong <HDF5 group \"/haitong\" (2 members)>\n",
      "│   ├── dl_factors <HDF5 group \"/haitong/dl_factors\" (47 members)>\n",
      "│   │   ├── 20240102 <HDF5 group \"/haitong/dl_factors/20240102\" (3 members)> (feature, secid, values)\n",
      "│   │   ├── 20240103 <HDF5 group \"/haitong/dl_factors/20240103\" (3 members)> (feature, secid, values)\n",
      "│   │   ├── ...... omitting 43 memebers\n",
      "│   │   ├── 20240313 <HDF5 group \"/haitong/dl_factors/20240313\" (3 members)> (feature, secid, values)\n",
      "│   │   └── 20240314 <HDF5 group \"/haitong/dl_factors/20240314\" (3 members)> (feature, secid, values)\n",
      "│   └── hf_factors <HDF5 group \"/haitong/hf_factors\" (46 members)>\n",
      "│       ├── 20240102 <HDF5 group \"/haitong/hf_factors/20240102\" (3 members)> (feature, secid, values)\n",
      "│       ├── 20240103 <HDF5 group \"/haitong/hf_factors/20240103\" (3 members)> (feature, secid, values)\n",
      "│       ├── ...... omitting 42 memebers\n",
      "│       ├── 20240312 <HDF5 group \"/haitong/hf_factors/20240312\" (3 members)> (feature, secid, values)\n",
      "│       └── 20240313 <HDF5 group \"/haitong/hf_factors/20240313\" (3 members)> (feature, secid, values)\n",
      "├── huatai <HDF5 group \"/huatai\" (1 members)>\n",
      "│   └── dl_factors <HDF5 group \"/huatai/dl_factors\" (48 members)>\n",
      "│       ├── 20240102 <HDF5 group \"/huatai/dl_factors/20240102\" (3 members)> (feature, secid, values)\n",
      "│       ├── 20240103 <HDF5 group \"/huatai/dl_factors/20240103\" (3 members)> (feature, secid, values)\n",
      "│       ├── ...... omitting 44 memebers\n",
      "│       ├── 20240313 <HDF5 group \"/huatai/dl_factors/20240313\" (3 members)> (feature, secid, values)\n",
      "│       └── 20240314 <HDF5 group \"/huatai/dl_factors/20240314\" (3 members)> (feature, secid, values)\n",
      "└── kaiyuan <HDF5 group \"/kaiyuan\" (2 members)>\n",
      "    ├── negative <HDF5 group \"/kaiyuan/negative\" (2 members)>\n",
      "    │   ├── 20240131 <HDF5 group \"/kaiyuan/negative/20240131\" (3 members)> (feature, secid, values)\n",
      "    │   └── 20240229 <HDF5 group \"/kaiyuan/negative/20240229\" (3 members)> (feature, secid, values)\n",
      "    └── positive <HDF5 group \"/kaiyuan/positive\" (2 members)>\n",
      "        ├── 20240131 <HDF5 group \"/kaiyuan/positive/20240131\" (3 members)> (feature, secid, values)\n",
      "        └── 20240229 <HDF5 group \"/kaiyuan/positive/20240229\" (3 members)> (feature, secid, values)\n"
     ]
    }
   ],
   "source": [
    "# %% update data\n",
    "import socket\n",
    "from scripts.util.data.DataUpdater import update_server_main , update_laptop_main\n",
    "from scripts.util.data.sqlConnector import update_sql_since , update_sql_dates\n",
    "\n",
    "if socket.gethostname() == 'mengkjin-server':\n",
    "    update_server_main()\n",
    "else:\n",
    "    update_laptop_main()\n",
    "update_sql_since()\n",
    "if False:\n",
    "    update_sql_dates(20240101 , 20240229)"
   ]
  },
  {
   "cell_type": "code",
   "execution_count": 3,
   "metadata": {},
   "outputs": [
    {
     "name": "stderr",
     "output_type": "stream",
     "text": [
      "\u001b[1m\u001b[37m\u001b[44m24-03-14 22:41:50|MOD:run_model   |\u001b[0m: \u001b[1m\u001b[34mModel Specifics:\u001b[0m\n",
      "\u001b[1m\u001b[37m\u001b[41m24-03-14 22:41:50|MOD:run_model   |\u001b[0m: \u001b[1m\u001b[31mStart Process [Load Data]!\u001b[0m\n"
     ]
    },
    {
     "name": "stdout",
     "output_type": "stream",
     "text": [
      "--Process Queue : Data + Train + Test + Instance\n",
      "--Start Training New!\n",
      "--Model_name is set to resnet_lstm_15m!\n",
      "{'verbosity': 2,\n",
      " 'storage_type': 'mem',\n",
      " 'precision': 'float',\n",
      " 'batch_size': 10000,\n",
      " 'model_name': 'resnet_lstm_15m',\n",
      " 'model_module': 'resnet_lstm',\n",
      " 'model_data_type': '15m',\n",
      " 'model_num': 3,\n",
      " 'beg_date': 20170103,\n",
      " 'end_date': 99991231,\n",
      " 'interval': 120,\n",
      " 'input_step_day': 5,\n",
      " 'test_step_day': 1,\n",
      " 'MODEL_PARAM': {'hidden_dim': [32],\n",
      "                 'seqlens': [{'day': 40, '30m': 30, '15m': 20, 'dms': 40}],\n",
      "                 'tra_seqlens': [{'hist_loss': 40}],\n",
      "                 'dropout': [0.1],\n",
      "                 'enc_in': [True],\n",
      "                 'enc_att': [False],\n",
      "                 'rnn_type': ['lstm'],\n",
      "                 'rnn_att': [False],\n",
      "                 'rnn_layers': [2],\n",
      "                 'dec_mlp_layers': [1],\n",
      "                 'num_output': [1],\n",
      "                 'kernel_size': [3, 3],\n",
      "                 'hidden_as_factor': [False],\n",
      "                 'ordered_param_group': [False],\n",
      "                 'tra_num_states': [5],\n",
      "                 'resnet_blocks': [2, 3, 4]},\n",
      " 'train_params': {'dataloader': {'random_seed': None, 'random_split': True, 'sample_method': 'train_shuffle', 'train_ratio': 0.8},\n",
      "                  'trainer': {'optimizer': {'name': 'Adam', 'param': {}},\n",
      "                              'scheduler': {'name': 'cycle', 'param': {'base_lr': 1e-07, 'step_size_up': 4}},\n",
      "                              'learn_rate': {'base': 0.005,\n",
      "                                             'ratio': {'attempt': [1, 0.1, 10, 0.01, 100], 'round': [1.0], 'transfer': 0.1},\n",
      "                                             'reset': {'num_reset': 2, 'trigger': 40, 'recover_level': 1.0, 'speedup2x': True}},\n",
      "                              'nanloss': {'retry': 5},\n",
      "                              'gradient': {'clip_value': 10.0},\n",
      "                              'retrain': {'attempts': 4, 'min_epoch': 20, 'min_epoch_round': 10}},\n",
      "                  'criterion': {'loss': 'pearson',\n",
      "                                'score': {'train': 'pearson', 'valid': 'pearson', 'test': 'pearson'},\n",
      "                                'penalty': {'hidden_orthogonality': {'lamb': 0.001}, 'tra_ot_penalty': {'lamb': 0.01, 'rho': 0.999}},\n",
      "                                'weight': {'train': 'equal', 'test': 'equal'}},\n",
      "                  'transfer': False,\n",
      "                  'output_types': ['best', 'swalast', 'swabest'],\n",
      "                  'multitask': {'type': 'hybrid',\n",
      "                                'param_dict': {'dwa': {'tau': 2},\n",
      "                                               'ruw': {'phi': None},\n",
      "                                               'ewa': {},\n",
      "                                               'gls': {},\n",
      "                                               'rws': {},\n",
      "                                               'hybrid': {'phi': None, 'tau': 2}}},\n",
      "                  'terminate': {'overall': {'early_stop': 20, 'max_epoch': 200, 'valid_converge': {'min_epoch': 5, 'eps': 1e-05}},\n",
      "                                'round': {'early_stop': 10, 'max_epoch': 100, 'valid_converge': {'min_epoch': 5, 'eps': 1e-05}}}},\n",
      " 'compt_params': {'cuda_first': True, 'num_worker': 10}}\n",
      "Load  2 DataBlocks ...... cost 58.72 secs\n",
      "Align 2 DataBlocks ...... cost 45.72 secs\n"
     ]
    },
    {
     "name": "stderr",
     "output_type": "stream",
     "text": [
      "\u001b[1m\u001b[37m\u001b[41m24-03-14 22:43:47|MOD:run_model   |\u001b[0m: \u001b[1m\u001b[31mFinish Process [Load Data]! Cost 117.3Secs\u001b[0m\n",
      "\u001b[1m\u001b[37m\u001b[41m24-03-14 22:43:47|MOD:run_model   |\u001b[0m: \u001b[1m\u001b[31mStart Process [Train Model]!\u001b[0m\n"
     ]
    },
    {
     "name": "stdout",
     "output_type": "stream",
     "text": [
      "Pre-Norming method of [15m] : [endpoint_division(False) , history_standardize(True)]\n"
     ]
    },
    {
     "name": "stderr",
     "output_type": "stream",
     "text": [
      "\u001b[32mresnet_lstm_15m #0 @20170103 LoadData Cost   18.9Secs\u001b[0m\n"
     ]
    },
    {
     "name": "stdout",
     "output_type": "stream",
     "text": [
      "score function of [pearson] calculated and success!\n",
      "loss function of [pearson] calculated and success!\n"
     ]
    },
    {
     "name": "stderr",
     "output_type": "stream",
     "text": [
      "\u001b[32mFirstBite Ep#  0 : loss  1.00151, train-0.00144, valid-0.02315, max-0.0232, best-0.0232, lr1.0e-07\u001b[0m\n",
      "\u001b[32mFirstBite Ep#  5 : loss  0.87619, train 0.13236, valid 0.10900, max 0.1221, best 0.1221, lr3.8e-03\u001b[0m\n",
      "\u001b[32mFirstBite Ep# 10 : loss  0.85254, train 0.15975, valid 0.11617, max 0.1221, best 0.1221, lr1.3e-03\u001b[0m\n",
      "\u001b[32mFirstBite Ep# 15 : loss  0.83279, train 0.18324, valid 0.11100, max 0.1221, best 0.1221, lr6.3e-04\u001b[0m\n",
      "\u001b[32mFirstBite Ep# 20 : loss  0.82885, train 0.18800, valid 0.10187, max 0.1221, best 0.1221, lr1.3e-03\u001b[0m\n",
      "\u001b[1m\u001b[37m\u001b[44m24-03-14 22:46:45|MOD:run_model   |\u001b[0m: \u001b[1m\u001b[34mresnet_lstm_15m #0 @20170103|Round 0 FirstBite Ep# 23 EarlyStop|Train 0.1978 Valid 0.1054 BestVal 0.1221|Cost  3.0Min,  6.6Sec/Ep\u001b[0m\n",
      "\u001b[32mFirstBite Ep#  0 : loss  0.99651, train 0.00354, valid-0.01823, max-0.0182, best-0.0182, lr1.0e-07\u001b[0m\n",
      "\u001b[32mFirstBite Ep#  5 : loss  0.87908, train 0.12909, valid 0.12846, max 0.1285, best 0.1285, lr3.8e-03\u001b[0m\n",
      "\u001b[32mFirstBite Ep# 10 : loss  0.85402, train 0.15798, valid 0.13431, max 0.1360, best 0.1360, lr1.3e-03\u001b[0m\n",
      "\u001b[32mFirstBite Ep# 15 : loss  0.83410, train 0.18170, valid 0.12836, max 0.1360, best 0.1360, lr6.3e-04\u001b[0m\n",
      "\u001b[32mFirstBite Ep# 20 : loss  0.82929, train 0.18749, valid 0.12230, max 0.1360, best 0.1360, lr1.3e-03\u001b[0m\n",
      "\u001b[32mFirstBite Ep# 25 : loss  0.82010, train 0.19872, valid 0.11751, max 0.1360, best 0.1360, lr1.6e-04\u001b[0m\n",
      "\u001b[1m\u001b[37m\u001b[44m24-03-14 22:51:14|MOD:run_model   |\u001b[0m: \u001b[1m\u001b[34mresnet_lstm_15m #1 @20170103|Round 0 FirstBite Ep# 28 EarlyStop|Train 0.1996 Valid 0.1193 BestVal 0.1360|Cost  4.5Min,  9.3Sec/Ep\u001b[0m\n",
      "\u001b[32mFirstBite Ep#  0 : loss  0.99547, train 0.00458, valid-0.03412, max-0.0341, best-0.0341, lr1.0e-07\u001b[0m\n",
      "\u001b[32mFirstBite Ep#  5 : loss  0.87885, train 0.12931, valid 0.10528, max 0.1053, best 0.1053, lr3.8e-03\u001b[0m\n",
      "\u001b[32mFirstBite Ep# 10 : loss  0.85506, train 0.15678, valid 0.08763, max 0.1053, best 0.1053, lr1.3e-03\u001b[0m\n",
      "\u001b[32mFirstBite Ep# 15 : loss  0.83585, train 0.17962, valid 0.08610, max 0.1053, best 0.1053, lr6.3e-04\u001b[0m\n",
      "\u001b[32mFirstBite Ep# 20 : loss  0.83044, train 0.18610, valid 0.07980, max 0.1053, best 0.1053, lr1.3e-03\u001b[0m\n",
      "\u001b[32mFirstBite Ep# 25 : loss  0.81994, train 0.19888, valid 0.08336, max 0.1053, best 0.1053, lr1.6e-04\u001b[0m\n",
      "\u001b[1m\u001b[37m\u001b[44m24-03-14 22:56:30|MOD:run_model   |\u001b[0m: \u001b[1m\u001b[34mresnet_lstm_15m #2 @20170103|Round 0 FirstBite Ep# 25 EarlyStop|Train 0.1989 Valid 0.0834 BestVal 0.1053|Cost  5.3Min, 12.1Sec/Ep\u001b[0m\n",
      "\u001b[1m\u001b[37m\u001b[44m24-03-14 23:00:19|MOD:run_model   |\u001b[0m: \u001b[1m\u001b[34mresnet_lstm_15m #0 @20170704|Round 0 FirstBite Ep# 28 EarlyStop|Train 0.2012 Valid 0.1164 BestVal 0.1343|Cost  3.8Min,  7.3Sec/Ep\u001b[0m\n",
      "\u001b[1m\u001b[37m\u001b[44m24-03-14 23:05:08|MOD:run_model   |\u001b[0m: \u001b[1m\u001b[34mresnet_lstm_15m #1 @20170704|Round 0 FirstBite Ep# 27 EarlyStop|Train 0.1959 Valid 0.0956 BestVal 0.1154|Cost  4.8Min, 10.3Sec/Ep\u001b[0m\n",
      "\u001b[1m\u001b[37m\u001b[44m24-03-14 23:11:39|MOD:run_model   |\u001b[0m: \u001b[1m\u001b[34mresnet_lstm_15m #2 @20170704|Round 0 FirstBite Ep# 28 EarlyStop|Train 0.1934 Valid 0.1044 BestVal 0.1344|Cost  6.5Min, 13.5Sec/Ep\u001b[0m\n",
      "\u001b[1m\u001b[37m\u001b[44m24-03-14 23:16:09|MOD:run_model   |\u001b[0m: \u001b[1m\u001b[34mresnet_lstm_15m #0 @20171226|Round 0 FirstBite Ep# 31 EarlyStop|Train 0.2065 Valid 0.1357 BestVal 0.1418|Cost  4.5Min,  7.9Sec/Ep\u001b[0m\n",
      "\u001b[1m\u001b[37m\u001b[44m24-03-14 23:21:04|MOD:run_model   |\u001b[0m: \u001b[1m\u001b[34mresnet_lstm_15m #1 @20171226|Round 0 FirstBite Ep# 25 EarlyStop|Train 0.2097 Valid 0.1334 BestVal 0.1466|Cost  4.9Min, 11.3Sec/Ep\u001b[0m\n",
      "\u001b[1m\u001b[37m\u001b[44m24-03-14 23:29:10|MOD:run_model   |\u001b[0m: \u001b[1m\u001b[34mresnet_lstm_15m #2 @20171226|Round 0 FirstBite Ep# 32 EarlyStop|Train 0.2135 Valid 0.1392 BestVal 0.1448|Cost  8.1Min, 14.7Sec/Ep\u001b[0m\n",
      "\u001b[1m\u001b[37m\u001b[44m24-03-14 23:33:32|MOD:run_model   |\u001b[0m: \u001b[1m\u001b[34mresnet_lstm_15m #0 @20180627|Round 0 FirstBite Ep# 27 EarlyStop|Train 0.2145 Valid 0.1303 BestVal 0.1425|Cost  4.4Min,  8.7Sec/Ep\u001b[0m\n",
      "\u001b[1m\u001b[37m\u001b[44m24-03-14 23:39:59|MOD:run_model   |\u001b[0m: \u001b[1m\u001b[34mresnet_lstm_15m #1 @20180627|Round 0 FirstBite Ep# 30 EarlyStop|Train 0.2176 Valid 0.1371 BestVal 0.1445|Cost  6.4Min, 12.5Sec/Ep\u001b[0m\n",
      "\u001b[1m\u001b[37m\u001b[44m24-03-14 23:51:34|MOD:run_model   |\u001b[0m: \u001b[1m\u001b[34mresnet_lstm_15m #2 @20180627|Round 0 FirstBite Ep# 42 EarlyStop|Train 0.2006 Valid 0.1319 BestVal 0.1409|Cost 11.6Min, 16.2Sec/Ep\u001b[0m\n",
      "\u001b[1m\u001b[37m\u001b[44m24-03-14 23:56:15|MOD:run_model   |\u001b[0m: \u001b[1m\u001b[34mresnet_lstm_15m #0 @20181220|Round 0 FirstBite Ep# 26 EarlyStop|Train 0.2159 Valid 0.1299 BestVal 0.1415|Cost  4.7Min,  9.7Sec/Ep\u001b[0m\n",
      "\u001b[1m\u001b[37m\u001b[44m24-03-15 00:02:02|MOD:run_model   |\u001b[0m: \u001b[1m\u001b[34mresnet_lstm_15m #1 @20181220|Round 0 FirstBite Ep# 24 EarlyStop|Train 0.2173 Valid 0.1236 BestVal 0.1380|Cost  5.8Min, 13.9Sec/Ep\u001b[0m\n",
      "\u001b[1m\u001b[37m\u001b[44m24-03-15 00:10:10|MOD:run_model   |\u001b[0m: \u001b[1m\u001b[34mresnet_lstm_15m #2 @20181220|Round 0 FirstBite Ep# 26 EarlyStop|Train 0.2068 Valid 0.1199 BestVal 0.1290|Cost  8.1Min, 18.1Sec/Ep\u001b[0m\n",
      "\u001b[1m\u001b[37m\u001b[44m24-03-15 00:15:36|MOD:run_model   |\u001b[0m: \u001b[1m\u001b[34mresnet_lstm_15m #0 @20190624|Round 0 FirstBite Ep# 28 EarlyStop|Train 0.2107 Valid 0.1235 BestVal 0.1358|Cost  5.4Min, 10.6Sec/Ep\u001b[0m\n",
      "\u001b[1m\u001b[37m\u001b[44m24-03-15 00:22:25|MOD:run_model   |\u001b[0m: \u001b[1m\u001b[34mresnet_lstm_15m #1 @20190624|Round 0 FirstBite Ep# 26 EarlyStop|Train 0.2127 Valid 0.1291 BestVal 0.1398|Cost  6.8Min, 15.1Sec/Ep\u001b[0m\n"
     ]
    }
   ],
   "source": [
    "# %% test a specific model\n",
    "from run_model import main\n",
    "main(process = 0 , rawname = 1 , resume = 0 , anchoring = 0)"
   ]
  },
  {
   "cell_type": "code",
   "execution_count": 5,
   "metadata": {},
   "outputs": [],
   "source": [
    "import os\n",
    "del_path = './instance/tra_lstm2_day_ShortTest'\n",
    "if os.path.exists(del_path): os.rmdir(del_path)\n",
    "# rm -r ./instance/tra_lstm2_day_ShortTest #type: ignore"
   ]
  },
  {
   "cell_type": "code",
   "execution_count": null,
   "metadata": {},
   "outputs": [],
   "source": [
    "# %% model data preprocessing\n",
    "from data_preprocessing import main\n",
    "main(confirm=1)"
   ]
  }
 ],
 "metadata": {
  "kernelspec": {
   "display_name": "Python 3",
   "language": "python",
   "name": "python3"
  },
  "language_info": {
   "codemirror_mode": {
    "name": "ipython",
    "version": 3
   },
   "file_extension": ".py",
   "mimetype": "text/x-python",
   "name": "python",
   "nbconvert_exporter": "python",
   "pygments_lexer": "ipython3",
   "version": "3.10.12"
  }
 },
 "nbformat": 4,
 "nbformat_minor": 2
}
