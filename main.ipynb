{
 "cells": [
  {
   "cell_type": "code",
   "execution_count": 1,
   "metadata": {},
   "outputs": [
    {
     "data": {
      "text/plain": [
       "True"
      ]
     },
     "execution_count": 1,
     "metadata": {},
     "output_type": "execute_result"
    }
   ],
   "source": [
    "# %% test cuda\n",
    "import torch #type: ignore\n",
    "torch.cuda.is_available()"
   ]
  },
  {
   "cell_type": "code",
   "execution_count": 2,
   "metadata": {},
   "outputs": [
    {
     "name": "stdout",
     "output_type": "stream",
     "text": [
      "Use device name: NVIDIA GeForce RTX 4090\n",
      "Merge Update Files\n",
      "['/home/mengkjin/Workspace/SharedFolder/DB_updater.0.h5', '/home/mengkjin/Workspace/SharedFolder/DB_updater.1.h5']\n",
      "Mon Mar 11 07:44:26 2024 : DB_updater.0.h5 > data/DB_data/DB_information/DB_information.h5/./basic/calendar copying Done!\n",
      "Mon Mar 11 07:44:35 2024 : DB_updater.0.h5 > data/DB_data/DB_information/DB_information.h5/./stock/concepts copying Done!\n",
      "Mon Mar 11 07:44:35 2024 : DB_updater.0.h5 > data/DB_data/DB_information/DB_information.h5/./stock/description copying Done!\n",
      "Mon Mar 11 07:44:54 2024 : DB_updater.0.h5 > data/DB_data/DB_information/DB_information.h5/./stock/industry copying Done!\n",
      "Mon Mar 11 07:44:54 2024 : DB_updater.0.h5 > data/DB_data/DB_information/DB_information.h5/./stock/st copying Done!\n",
      "Mon Mar 11 07:44:54 2024 : DB_updater.0.h5 > data/DB_data/DB_labels/DB_labels.2024.h5/./10days/lag0 copying Done!\n",
      "Mon Mar 11 07:44:54 2024 : DB_updater.0.h5 > data/DB_data/DB_labels/DB_labels.2024.h5/./10days/lag1 copying Done!\n",
      "Mon Mar 11 07:44:54 2024 : DB_updater.0.h5 > data/DB_data/DB_labels/DB_labels.2024.h5/./20days/lag0 copying Done!\n",
      "Mon Mar 11 07:44:54 2024 : DB_updater.0.h5 > data/DB_data/DB_labels/DB_labels.2024.h5/./20days/lag1 copying Done!\n",
      "Mon Mar 11 07:44:54 2024 : DB_updater.0.h5 > data/DB_data/DB_labels/DB_labels.2024.h5/./5days/lag0 copying Done!\n",
      "Mon Mar 11 07:44:54 2024 : DB_updater.0.h5 > data/DB_data/DB_labels/DB_labels.2024.h5/./5days/lag1 copying Done!\n",
      "Mon Mar 11 07:44:54 2024 : DB_updater.0.h5 > data/DB_data/DB_models/DB_models.2024.h5/./risk_model/exposure copying Done!\n",
      "Mon Mar 11 07:44:54 2024 : DB_updater.0.h5 > data/DB_data/DB_trade_Xday/DB_trade_Xday.2024.h5/./10day/trade copying Done!\n",
      "Mon Mar 11 07:44:54 2024 : DB_updater.0.h5 > data/DB_data/DB_trade_Xday/DB_trade_Xday.2024.h5/./20day/trade copying Done!\n",
      "Mon Mar 11 07:44:54 2024 : DB_updater.0.h5 > data/DB_data/DB_trade_Xday/DB_trade_Xday.2024.h5/./5day/trade copying Done!\n",
      "Mon Mar 11 07:44:55 2024 : DB_updater.0.h5 > data/DB_data/DB_trade_Xmin/DB_trade_Xmin.2024.h5/./10min/trade copying Done!\n",
      "Mon Mar 11 07:44:55 2024 : DB_updater.0.h5 > data/DB_data/DB_trade_Xmin/DB_trade_Xmin.2024.h5/./15min/trade copying Done!\n",
      "Mon Mar 11 07:44:55 2024 : DB_updater.0.h5 > data/DB_data/DB_trade_Xmin/DB_trade_Xmin.2024.h5/./30min/trade copying Done!\n",
      "Mon Mar 11 07:44:56 2024 : DB_updater.0.h5 > data/DB_data/DB_trade_Xmin/DB_trade_Xmin.2024.h5/./5min/trade copying Done!\n",
      "Mon Mar 11 07:44:56 2024 : DB_updater.0.h5 > data/DB_data/DB_trade_Xmin/DB_trade_Xmin.2024.h5/./60min/trade copying Done!\n",
      "Mon Mar 11 07:44:56 2024 : DB_updater.0.h5 > data/DB_data/DB_trade_day/DB_trade_day.2024.h5/./day/trade copying Done!\n",
      "Mon Mar 11 07:45:01 2024 : DB_updater.0.h5 > data/DB_data/DB_trade_min/DB_trade_min.2024.h5/./minute/trade copying Done!\n",
      "Mon Mar 11 07:45:01 2024 : DB_updater.1.h5 > data/DB_data/DB_information/DB_information.h5/./basic/calendar copying Done!\n",
      "Mon Mar 11 07:45:10 2024 : DB_updater.1.h5 > data/DB_data/DB_information/DB_information.h5/./stock/concepts copying Done!\n",
      "Mon Mar 11 07:45:10 2024 : DB_updater.1.h5 > data/DB_data/DB_information/DB_information.h5/./stock/description copying Done!\n",
      "Mon Mar 11 07:45:28 2024 : DB_updater.1.h5 > data/DB_data/DB_information/DB_information.h5/./stock/industry copying Done!\n",
      "Mon Mar 11 07:45:28 2024 : DB_updater.1.h5 > data/DB_data/DB_information/DB_information.h5/./stock/st copying Done!\n",
      "Mon Mar 11 07:45:28 2024 : DB_updater.1.h5 > data/DB_data/DB_labels/DB_labels.2024.h5/./10days/lag0 copying Done!\n",
      "Mon Mar 11 07:45:28 2024 : DB_updater.1.h5 > data/DB_data/DB_labels/DB_labels.2024.h5/./10days/lag1 copying Done!\n",
      "Mon Mar 11 07:45:28 2024 : DB_updater.1.h5 > data/DB_data/DB_labels/DB_labels.2024.h5/./20days/lag0 copying Done!\n",
      "Mon Mar 11 07:45:28 2024 : DB_updater.1.h5 > data/DB_data/DB_labels/DB_labels.2024.h5/./20days/lag1 copying Done!\n",
      "Mon Mar 11 07:45:28 2024 : DB_updater.1.h5 > data/DB_data/DB_labels/DB_labels.2024.h5/./5days/lag0 copying Done!\n",
      "Mon Mar 11 07:45:28 2024 : DB_updater.1.h5 > data/DB_data/DB_labels/DB_labels.2024.h5/./5days/lag1 copying Done!\n",
      "Mon Mar 11 07:45:28 2024 : DB_updater.1.h5 > data/DB_data/DB_models/DB_models.2024.h5/./alpha_longcl/exposure copying Done!\n",
      "Mon Mar 11 07:45:28 2024 : DB_updater.1.h5 > data/DB_data/DB_models/DB_models.2024.h5/./risk_model/exposure copying Done!\n",
      "Mon Mar 11 07:45:28 2024 : DB_updater.1.h5 > data/DB_data/DB_trade_Xday/DB_trade_Xday.2024.h5/./10day/trade copying Done!\n",
      "Mon Mar 11 07:45:29 2024 : DB_updater.1.h5 > data/DB_data/DB_trade_Xday/DB_trade_Xday.2024.h5/./20day/trade copying Done!\n",
      "Mon Mar 11 07:45:29 2024 : DB_updater.1.h5 > data/DB_data/DB_trade_Xday/DB_trade_Xday.2024.h5/./5day/trade copying Done!\n",
      "Mon Mar 11 07:45:30 2024 : DB_updater.1.h5 > data/DB_data/DB_trade_Xmin/DB_trade_Xmin.2024.h5/./10min/trade copying Done!\n",
      "Mon Mar 11 07:45:31 2024 : DB_updater.1.h5 > data/DB_data/DB_trade_Xmin/DB_trade_Xmin.2024.h5/./15min/trade copying Done!\n",
      "Mon Mar 11 07:45:31 2024 : DB_updater.1.h5 > data/DB_data/DB_trade_Xmin/DB_trade_Xmin.2024.h5/./30min/trade copying Done!\n",
      "Mon Mar 11 07:45:33 2024 : DB_updater.1.h5 > data/DB_data/DB_trade_Xmin/DB_trade_Xmin.2024.h5/./5min/trade copying Done!\n",
      "Mon Mar 11 07:45:33 2024 : DB_updater.1.h5 > data/DB_data/DB_trade_Xmin/DB_trade_Xmin.2024.h5/./60min/trade copying Done!\n",
      "Mon Mar 11 07:45:33 2024 : DB_updater.1.h5 > data/DB_data/DB_trade_day/DB_trade_day.2024.h5/./day/trade copying Done!\n",
      "Mon Mar 11 07:45:44 2024 : DB_updater.1.h5 > data/DB_data/DB_trade_min/DB_trade_min.2024.h5/./minute/trade copying Done!\n",
      "Mon Mar 11 07:45:45 2024 : All Updates Done! Cost 84.26 Secs\n",
      "Mon Mar 11 07:45:47 2024 : haitong/hf_factors since 20240302 to 20240311, total 1 periods(QE)\n",
      "Mon Mar 11 07:46:52 2024 : haitong/dl_factors since 20240302 to 20240311, total 1 periods(QE)\n",
      "Mon Mar 11 07:47:41 2024 : dongfang/hfq_chars since 20240302 to 20240311, total 1 periods(QE)\n",
      "Mon Mar 11 07:47:49 2024 : dongfang/l2_chars since 20240302 to 20240311, total 1 periods(QE)\n",
      "Mon Mar 11 07:49:34 2024 : dongfang/ms_chars since 20240302 to 20240311, total 1 periods(QE)\n",
      "Mon Mar 11 07:52:26 2024 : dongfang/order_flow since 20240302 to 20240311, total 1 periods(QE)\n",
      "Mon Mar 11 07:52:29 2024 : dongfang/gp since 20240302 to 20240311, total 1 periods(QE)\n",
      "Mon Mar 11 07:52:33 2024 : dongfang/tra since 20240302 to 20240311, total 1 periods(QE)\n",
      "Mon Mar 11 07:52:36 2024 : dongfang/hist since 20240302 to 20240311, total 1 periods(QE)\n",
      "Mon Mar 11 07:52:39 2024 : dongfang/scores_v0 since 20240302 to 20240311, total 1 periods(QE)\n",
      "Mon Mar 11 07:52:42 2024 : kaiyuan/positive since 20240301 to 20240311, total 1 periods(QE)\n",
      "Mon Mar 11 07:52:44 2024 : kaiyuan/negative since 20240301 to 20240311, total 1 periods(QE)\n",
      "Mon Mar 11 07:52:45 2024 : huatai/ms_chars since 20100101 to 20240311, total 56 periods(QE)\n"
     ]
    },
    {
     "name": "stderr",
     "output_type": "stream",
     "text": [
      "/home/mengkjin/Workspace/learndl/scripts/util/data/sqlConnector.py:270: FutureWarning: Downcasting object dtype arrays on .fillna, .ffill, .bfill is deprecated and will change in a future version. Call result.infer_objects(copy=False) instead. To opt-in to the future behavior, set `pd.set_option('future.no_silent_downcasting', True)`\n",
      "  return df.fillna(np.nan)\n"
     ]
    },
    {
     "name": "stdout",
     "output_type": "stream",
     "text": [
      "Mon Mar 11 07:53:24 2024 : huatai/ms_chars:201301          \r"
     ]
    },
    {
     "name": "stderr",
     "output_type": "stream",
     "text": [
      "/home/mengkjin/Workspace/learndl/scripts/util/data/sqlConnector.py:270: FutureWarning: Downcasting object dtype arrays on .fillna, .ffill, .bfill is deprecated and will change in a future version. Call result.infer_objects(copy=False) instead. To opt-in to the future behavior, set `pd.set_option('future.no_silent_downcasting', True)`\n",
      "  return df.fillna(np.nan)\n"
     ]
    },
    {
     "name": "stdout",
     "output_type": "stream",
     "text": [
      "Mon Mar 11 07:53:50 2024 : huatai/ms_chars:201304          \r"
     ]
    },
    {
     "name": "stderr",
     "output_type": "stream",
     "text": [
      "/home/mengkjin/Workspace/learndl/scripts/util/data/sqlConnector.py:270: FutureWarning: Downcasting object dtype arrays on .fillna, .ffill, .bfill is deprecated and will change in a future version. Call result.infer_objects(copy=False) instead. To opt-in to the future behavior, set `pd.set_option('future.no_silent_downcasting', True)`\n",
      "  return df.fillna(np.nan)\n"
     ]
    },
    {
     "name": "stdout",
     "output_type": "stream",
     "text": [
      "Mon Mar 11 07:54:19 2024 : huatai/ms_chars:201307          \r"
     ]
    },
    {
     "name": "stderr",
     "output_type": "stream",
     "text": [
      "/home/mengkjin/Workspace/learndl/scripts/util/data/sqlConnector.py:270: FutureWarning: Downcasting object dtype arrays on .fillna, .ffill, .bfill is deprecated and will change in a future version. Call result.infer_objects(copy=False) instead. To opt-in to the future behavior, set `pd.set_option('future.no_silent_downcasting', True)`\n",
      "  return df.fillna(np.nan)\n"
     ]
    },
    {
     "name": "stdout",
     "output_type": "stream",
     "text": [
      "Mon Mar 11 07:54:46 2024 : huatai/ms_chars:201310          \r"
     ]
    },
    {
     "name": "stderr",
     "output_type": "stream",
     "text": [
      "/home/mengkjin/Workspace/learndl/scripts/util/data/sqlConnector.py:270: FutureWarning: Downcasting object dtype arrays on .fillna, .ffill, .bfill is deprecated and will change in a future version. Call result.infer_objects(copy=False) instead. To opt-in to the future behavior, set `pd.set_option('future.no_silent_downcasting', True)`\n",
      "  return df.fillna(np.nan)\n"
     ]
    },
    {
     "name": "stdout",
     "output_type": "stream",
     "text": [
      "Mon Mar 11 07:55:12 2024 : huatai/ms_chars:201401          \r"
     ]
    },
    {
     "name": "stderr",
     "output_type": "stream",
     "text": [
      "/home/mengkjin/Workspace/learndl/scripts/util/data/sqlConnector.py:270: FutureWarning: Downcasting object dtype arrays on .fillna, .ffill, .bfill is deprecated and will change in a future version. Call result.infer_objects(copy=False) instead. To opt-in to the future behavior, set `pd.set_option('future.no_silent_downcasting', True)`\n",
      "  return df.fillna(np.nan)\n"
     ]
    },
    {
     "name": "stdout",
     "output_type": "stream",
     "text": [
      "Mon Mar 11 07:55:40 2024 : huatai/ms_chars:201404          \r"
     ]
    },
    {
     "name": "stderr",
     "output_type": "stream",
     "text": [
      "/home/mengkjin/Workspace/learndl/scripts/util/data/sqlConnector.py:270: FutureWarning: Downcasting object dtype arrays on .fillna, .ffill, .bfill is deprecated and will change in a future version. Call result.infer_objects(copy=False) instead. To opt-in to the future behavior, set `pd.set_option('future.no_silent_downcasting', True)`\n",
      "  return df.fillna(np.nan)\n"
     ]
    },
    {
     "name": "stdout",
     "output_type": "stream",
     "text": [
      "Mon Mar 11 07:56:09 2024 : huatai/ms_chars:201407          \r"
     ]
    },
    {
     "name": "stderr",
     "output_type": "stream",
     "text": [
      "/home/mengkjin/Workspace/learndl/scripts/util/data/sqlConnector.py:270: FutureWarning: Downcasting object dtype arrays on .fillna, .ffill, .bfill is deprecated and will change in a future version. Call result.infer_objects(copy=False) instead. To opt-in to the future behavior, set `pd.set_option('future.no_silent_downcasting', True)`\n",
      "  return df.fillna(np.nan)\n"
     ]
    },
    {
     "name": "stdout",
     "output_type": "stream",
     "text": [
      "Mon Mar 11 07:56:36 2024 : huatai/ms_chars:201410          \r"
     ]
    },
    {
     "name": "stderr",
     "output_type": "stream",
     "text": [
      "/home/mengkjin/Workspace/learndl/scripts/util/data/sqlConnector.py:270: FutureWarning: Downcasting object dtype arrays on .fillna, .ffill, .bfill is deprecated and will change in a future version. Call result.infer_objects(copy=False) instead. To opt-in to the future behavior, set `pd.set_option('future.no_silent_downcasting', True)`\n",
      "  return df.fillna(np.nan)\n"
     ]
    },
    {
     "name": "stdout",
     "output_type": "stream",
     "text": [
      "Mon Mar 11 07:57:02 2024 : huatai/ms_chars:201501          \r"
     ]
    },
    {
     "name": "stderr",
     "output_type": "stream",
     "text": [
      "/home/mengkjin/Workspace/learndl/scripts/util/data/sqlConnector.py:270: FutureWarning: Downcasting object dtype arrays on .fillna, .ffill, .bfill is deprecated and will change in a future version. Call result.infer_objects(copy=False) instead. To opt-in to the future behavior, set `pd.set_option('future.no_silent_downcasting', True)`\n",
      "  return df.fillna(np.nan)\n"
     ]
    },
    {
     "name": "stdout",
     "output_type": "stream",
     "text": [
      "Mon Mar 11 07:57:31 2024 : huatai/ms_chars:201504          \r"
     ]
    },
    {
     "name": "stderr",
     "output_type": "stream",
     "text": [
      "/home/mengkjin/Workspace/learndl/scripts/util/data/sqlConnector.py:270: FutureWarning: Downcasting object dtype arrays on .fillna, .ffill, .bfill is deprecated and will change in a future version. Call result.infer_objects(copy=False) instead. To opt-in to the future behavior, set `pd.set_option('future.no_silent_downcasting', True)`\n",
      "  return df.fillna(np.nan)\n"
     ]
    },
    {
     "name": "stdout",
     "output_type": "stream",
     "text": [
      "Mon Mar 11 07:58:00 2024 : huatai/ms_chars:201507          \r"
     ]
    },
    {
     "name": "stderr",
     "output_type": "stream",
     "text": [
      "/home/mengkjin/Workspace/learndl/scripts/util/data/sqlConnector.py:270: FutureWarning: Downcasting object dtype arrays on .fillna, .ffill, .bfill is deprecated and will change in a future version. Call result.infer_objects(copy=False) instead. To opt-in to the future behavior, set `pd.set_option('future.no_silent_downcasting', True)`\n",
      "  return df.fillna(np.nan)\n"
     ]
    },
    {
     "name": "stdout",
     "output_type": "stream",
     "text": [
      "Mon Mar 11 07:58:29 2024 : huatai/ms_chars:201510          \r"
     ]
    },
    {
     "name": "stderr",
     "output_type": "stream",
     "text": [
      "/home/mengkjin/Workspace/learndl/scripts/util/data/sqlConnector.py:270: FutureWarning: Downcasting object dtype arrays on .fillna, .ffill, .bfill is deprecated and will change in a future version. Call result.infer_objects(copy=False) instead. To opt-in to the future behavior, set `pd.set_option('future.no_silent_downcasting', True)`\n",
      "  return df.fillna(np.nan)\n"
     ]
    },
    {
     "name": "stdout",
     "output_type": "stream",
     "text": [
      "Mon Mar 11 07:58:57 2024 : huatai/ms_chars:201601          \r"
     ]
    },
    {
     "name": "stderr",
     "output_type": "stream",
     "text": [
      "/home/mengkjin/Workspace/learndl/scripts/util/data/sqlConnector.py:270: FutureWarning: Downcasting object dtype arrays on .fillna, .ffill, .bfill is deprecated and will change in a future version. Call result.infer_objects(copy=False) instead. To opt-in to the future behavior, set `pd.set_option('future.no_silent_downcasting', True)`\n",
      "  return df.fillna(np.nan)\n"
     ]
    },
    {
     "name": "stdout",
     "output_type": "stream",
     "text": [
      "Mon Mar 11 07:59:25 2024 : huatai/ms_chars:201604          \r"
     ]
    },
    {
     "name": "stderr",
     "output_type": "stream",
     "text": [
      "/home/mengkjin/Workspace/learndl/scripts/util/data/sqlConnector.py:270: FutureWarning: Downcasting object dtype arrays on .fillna, .ffill, .bfill is deprecated and will change in a future version. Call result.infer_objects(copy=False) instead. To opt-in to the future behavior, set `pd.set_option('future.no_silent_downcasting', True)`\n",
      "  return df.fillna(np.nan)\n"
     ]
    },
    {
     "name": "stdout",
     "output_type": "stream",
     "text": [
      "Mon Mar 11 07:59:57 2024 : huatai/ms_chars:201607          \r"
     ]
    },
    {
     "name": "stderr",
     "output_type": "stream",
     "text": [
      "/home/mengkjin/Workspace/learndl/scripts/util/data/sqlConnector.py:270: FutureWarning: Downcasting object dtype arrays on .fillna, .ffill, .bfill is deprecated and will change in a future version. Call result.infer_objects(copy=False) instead. To opt-in to the future behavior, set `pd.set_option('future.no_silent_downcasting', True)`\n",
      "  return df.fillna(np.nan)\n"
     ]
    },
    {
     "name": "stdout",
     "output_type": "stream",
     "text": [
      "Mon Mar 11 08:00:26 2024 : huatai/ms_chars:201610          \r"
     ]
    },
    {
     "name": "stderr",
     "output_type": "stream",
     "text": [
      "/home/mengkjin/Workspace/learndl/scripts/util/data/sqlConnector.py:270: FutureWarning: Downcasting object dtype arrays on .fillna, .ffill, .bfill is deprecated and will change in a future version. Call result.infer_objects(copy=False) instead. To opt-in to the future behavior, set `pd.set_option('future.no_silent_downcasting', True)`\n",
      "  return df.fillna(np.nan)\n"
     ]
    },
    {
     "name": "stdout",
     "output_type": "stream",
     "text": [
      "Mon Mar 11 08:00:56 2024 : huatai/ms_chars:201701          \r"
     ]
    },
    {
     "name": "stderr",
     "output_type": "stream",
     "text": [
      "/home/mengkjin/Workspace/learndl/scripts/util/data/sqlConnector.py:270: FutureWarning: Downcasting object dtype arrays on .fillna, .ffill, .bfill is deprecated and will change in a future version. Call result.infer_objects(copy=False) instead. To opt-in to the future behavior, set `pd.set_option('future.no_silent_downcasting', True)`\n",
      "  return df.fillna(np.nan)\n"
     ]
    },
    {
     "name": "stdout",
     "output_type": "stream",
     "text": [
      "Mon Mar 11 08:01:26 2024 : huatai/ms_chars:201704          \r"
     ]
    },
    {
     "name": "stderr",
     "output_type": "stream",
     "text": [
      "/home/mengkjin/Workspace/learndl/scripts/util/data/sqlConnector.py:270: FutureWarning: Downcasting object dtype arrays on .fillna, .ffill, .bfill is deprecated and will change in a future version. Call result.infer_objects(copy=False) instead. To opt-in to the future behavior, set `pd.set_option('future.no_silent_downcasting', True)`\n",
      "  return df.fillna(np.nan)\n"
     ]
    },
    {
     "name": "stdout",
     "output_type": "stream",
     "text": [
      "Mon Mar 11 08:02:00 2024 : huatai/ms_chars:201707          \r"
     ]
    },
    {
     "name": "stderr",
     "output_type": "stream",
     "text": [
      "/home/mengkjin/Workspace/learndl/scripts/util/data/sqlConnector.py:270: FutureWarning: Downcasting object dtype arrays on .fillna, .ffill, .bfill is deprecated and will change in a future version. Call result.infer_objects(copy=False) instead. To opt-in to the future behavior, set `pd.set_option('future.no_silent_downcasting', True)`\n",
      "  return df.fillna(np.nan)\n"
     ]
    },
    {
     "name": "stdout",
     "output_type": "stream",
     "text": [
      "Mon Mar 11 08:02:32 2024 : huatai/ms_chars:201710          \r"
     ]
    },
    {
     "name": "stderr",
     "output_type": "stream",
     "text": [
      "/home/mengkjin/Workspace/learndl/scripts/util/data/sqlConnector.py:270: FutureWarning: Downcasting object dtype arrays on .fillna, .ffill, .bfill is deprecated and will change in a future version. Call result.infer_objects(copy=False) instead. To opt-in to the future behavior, set `pd.set_option('future.no_silent_downcasting', True)`\n",
      "  return df.fillna(np.nan)\n"
     ]
    },
    {
     "name": "stdout",
     "output_type": "stream",
     "text": [
      "Mon Mar 11 08:03:03 2024 : huatai/ms_chars:201801          \r"
     ]
    },
    {
     "name": "stderr",
     "output_type": "stream",
     "text": [
      "/home/mengkjin/Workspace/learndl/scripts/util/data/sqlConnector.py:270: FutureWarning: Downcasting object dtype arrays on .fillna, .ffill, .bfill is deprecated and will change in a future version. Call result.infer_objects(copy=False) instead. To opt-in to the future behavior, set `pd.set_option('future.no_silent_downcasting', True)`\n",
      "  return df.fillna(np.nan)\n"
     ]
    },
    {
     "name": "stdout",
     "output_type": "stream",
     "text": [
      "Mon Mar 11 08:03:35 2024 : huatai/ms_chars:201804          \r"
     ]
    },
    {
     "name": "stderr",
     "output_type": "stream",
     "text": [
      "/home/mengkjin/Workspace/learndl/scripts/util/data/sqlConnector.py:270: FutureWarning: Downcasting object dtype arrays on .fillna, .ffill, .bfill is deprecated and will change in a future version. Call result.infer_objects(copy=False) instead. To opt-in to the future behavior, set `pd.set_option('future.no_silent_downcasting', True)`\n",
      "  return df.fillna(np.nan)\n"
     ]
    },
    {
     "name": "stdout",
     "output_type": "stream",
     "text": [
      "Mon Mar 11 08:04:10 2024 : huatai/ms_chars:201807          \r"
     ]
    },
    {
     "name": "stderr",
     "output_type": "stream",
     "text": [
      "/home/mengkjin/Workspace/learndl/scripts/util/data/sqlConnector.py:270: FutureWarning: Downcasting object dtype arrays on .fillna, .ffill, .bfill is deprecated and will change in a future version. Call result.infer_objects(copy=False) instead. To opt-in to the future behavior, set `pd.set_option('future.no_silent_downcasting', True)`\n",
      "  return df.fillna(np.nan)\n"
     ]
    },
    {
     "name": "stdout",
     "output_type": "stream",
     "text": [
      "Mon Mar 11 08:04:43 2024 : huatai/ms_chars:201810          \r"
     ]
    },
    {
     "name": "stderr",
     "output_type": "stream",
     "text": [
      "/home/mengkjin/Workspace/learndl/scripts/util/data/sqlConnector.py:270: FutureWarning: Downcasting object dtype arrays on .fillna, .ffill, .bfill is deprecated and will change in a future version. Call result.infer_objects(copy=False) instead. To opt-in to the future behavior, set `pd.set_option('future.no_silent_downcasting', True)`\n",
      "  return df.fillna(np.nan)\n"
     ]
    },
    {
     "name": "stdout",
     "output_type": "stream",
     "text": [
      "Mon Mar 11 08:05:15 2024 : huatai/ms_chars:201901          \r"
     ]
    },
    {
     "name": "stderr",
     "output_type": "stream",
     "text": [
      "/home/mengkjin/Workspace/learndl/scripts/util/data/sqlConnector.py:270: FutureWarning: Downcasting object dtype arrays on .fillna, .ffill, .bfill is deprecated and will change in a future version. Call result.infer_objects(copy=False) instead. To opt-in to the future behavior, set `pd.set_option('future.no_silent_downcasting', True)`\n",
      "  return df.fillna(np.nan)\n"
     ]
    },
    {
     "name": "stdout",
     "output_type": "stream",
     "text": [
      "Mon Mar 11 08:05:48 2024 : huatai/ms_chars:201904          \r"
     ]
    },
    {
     "name": "stderr",
     "output_type": "stream",
     "text": [
      "/home/mengkjin/Workspace/learndl/scripts/util/data/sqlConnector.py:270: FutureWarning: Downcasting object dtype arrays on .fillna, .ffill, .bfill is deprecated and will change in a future version. Call result.infer_objects(copy=False) instead. To opt-in to the future behavior, set `pd.set_option('future.no_silent_downcasting', True)`\n",
      "  return df.fillna(np.nan)\n"
     ]
    },
    {
     "name": "stdout",
     "output_type": "stream",
     "text": [
      "Mon Mar 11 08:06:24 2024 : huatai/ms_chars:201907          \r"
     ]
    },
    {
     "name": "stderr",
     "output_type": "stream",
     "text": [
      "/home/mengkjin/Workspace/learndl/scripts/util/data/sqlConnector.py:270: FutureWarning: Downcasting object dtype arrays on .fillna, .ffill, .bfill is deprecated and will change in a future version. Call result.infer_objects(copy=False) instead. To opt-in to the future behavior, set `pd.set_option('future.no_silent_downcasting', True)`\n",
      "  return df.fillna(np.nan)\n"
     ]
    },
    {
     "name": "stdout",
     "output_type": "stream",
     "text": [
      "Mon Mar 11 08:06:58 2024 : huatai/ms_chars:201910          \r"
     ]
    },
    {
     "name": "stderr",
     "output_type": "stream",
     "text": [
      "/home/mengkjin/Workspace/learndl/scripts/util/data/sqlConnector.py:270: FutureWarning: Downcasting object dtype arrays on .fillna, .ffill, .bfill is deprecated and will change in a future version. Call result.infer_objects(copy=False) instead. To opt-in to the future behavior, set `pd.set_option('future.no_silent_downcasting', True)`\n",
      "  return df.fillna(np.nan)\n"
     ]
    },
    {
     "name": "stdout",
     "output_type": "stream",
     "text": [
      "Mon Mar 11 08:07:32 2024 : huatai/ms_chars:202001          \r"
     ]
    },
    {
     "name": "stderr",
     "output_type": "stream",
     "text": [
      "/home/mengkjin/Workspace/learndl/scripts/util/data/sqlConnector.py:270: FutureWarning: Downcasting object dtype arrays on .fillna, .ffill, .bfill is deprecated and will change in a future version. Call result.infer_objects(copy=False) instead. To opt-in to the future behavior, set `pd.set_option('future.no_silent_downcasting', True)`\n",
      "  return df.fillna(np.nan)\n"
     ]
    },
    {
     "name": "stdout",
     "output_type": "stream",
     "text": [
      "Mon Mar 11 08:08:05 2024 : huatai/ms_chars:202004          \r"
     ]
    },
    {
     "name": "stderr",
     "output_type": "stream",
     "text": [
      "/home/mengkjin/Workspace/learndl/scripts/util/data/sqlConnector.py:270: FutureWarning: Downcasting object dtype arrays on .fillna, .ffill, .bfill is deprecated and will change in a future version. Call result.infer_objects(copy=False) instead. To opt-in to the future behavior, set `pd.set_option('future.no_silent_downcasting', True)`\n",
      "  return df.fillna(np.nan)\n"
     ]
    },
    {
     "name": "stdout",
     "output_type": "stream",
     "text": [
      "Mon Mar 11 08:08:44 2024 : huatai/ms_chars:202007          \r"
     ]
    },
    {
     "name": "stderr",
     "output_type": "stream",
     "text": [
      "/home/mengkjin/Workspace/learndl/scripts/util/data/sqlConnector.py:270: FutureWarning: Downcasting object dtype arrays on .fillna, .ffill, .bfill is deprecated and will change in a future version. Call result.infer_objects(copy=False) instead. To opt-in to the future behavior, set `pd.set_option('future.no_silent_downcasting', True)`\n",
      "  return df.fillna(np.nan)\n"
     ]
    },
    {
     "name": "stdout",
     "output_type": "stream",
     "text": [
      "Mon Mar 11 08:09:20 2024 : huatai/ms_chars:202010          \r"
     ]
    },
    {
     "name": "stderr",
     "output_type": "stream",
     "text": [
      "/home/mengkjin/Workspace/learndl/scripts/util/data/sqlConnector.py:270: FutureWarning: Downcasting object dtype arrays on .fillna, .ffill, .bfill is deprecated and will change in a future version. Call result.infer_objects(copy=False) instead. To opt-in to the future behavior, set `pd.set_option('future.no_silent_downcasting', True)`\n",
      "  return df.fillna(np.nan)\n"
     ]
    },
    {
     "name": "stdout",
     "output_type": "stream",
     "text": [
      "Mon Mar 11 08:09:55 2024 : huatai/ms_chars:202101          \r"
     ]
    },
    {
     "name": "stderr",
     "output_type": "stream",
     "text": [
      "/home/mengkjin/Workspace/learndl/scripts/util/data/sqlConnector.py:270: FutureWarning: Downcasting object dtype arrays on .fillna, .ffill, .bfill is deprecated and will change in a future version. Call result.infer_objects(copy=False) instead. To opt-in to the future behavior, set `pd.set_option('future.no_silent_downcasting', True)`\n",
      "  return df.fillna(np.nan)\n"
     ]
    },
    {
     "name": "stdout",
     "output_type": "stream",
     "text": [
      "Mon Mar 11 08:10:32 2024 : huatai/ms_chars:202104          \r"
     ]
    },
    {
     "name": "stderr",
     "output_type": "stream",
     "text": [
      "/home/mengkjin/Workspace/learndl/scripts/util/data/sqlConnector.py:270: FutureWarning: Downcasting object dtype arrays on .fillna, .ffill, .bfill is deprecated and will change in a future version. Call result.infer_objects(copy=False) instead. To opt-in to the future behavior, set `pd.set_option('future.no_silent_downcasting', True)`\n",
      "  return df.fillna(np.nan)\n"
     ]
    },
    {
     "name": "stdout",
     "output_type": "stream",
     "text": [
      "Mon Mar 11 08:11:12 2024 : huatai/ms_chars:202107          \r"
     ]
    },
    {
     "name": "stderr",
     "output_type": "stream",
     "text": [
      "/home/mengkjin/Workspace/learndl/scripts/util/data/sqlConnector.py:270: FutureWarning: Downcasting object dtype arrays on .fillna, .ffill, .bfill is deprecated and will change in a future version. Call result.infer_objects(copy=False) instead. To opt-in to the future behavior, set `pd.set_option('future.no_silent_downcasting', True)`\n",
      "  return df.fillna(np.nan)\n"
     ]
    },
    {
     "name": "stdout",
     "output_type": "stream",
     "text": [
      "Mon Mar 11 08:11:51 2024 : huatai/ms_chars:202110          \r"
     ]
    },
    {
     "name": "stderr",
     "output_type": "stream",
     "text": [
      "/home/mengkjin/Workspace/learndl/scripts/util/data/sqlConnector.py:270: FutureWarning: Downcasting object dtype arrays on .fillna, .ffill, .bfill is deprecated and will change in a future version. Call result.infer_objects(copy=False) instead. To opt-in to the future behavior, set `pd.set_option('future.no_silent_downcasting', True)`\n",
      "  return df.fillna(np.nan)\n"
     ]
    },
    {
     "name": "stdout",
     "output_type": "stream",
     "text": [
      "Mon Mar 11 08:12:29 2024 : huatai/ms_chars:202201          \r"
     ]
    },
    {
     "name": "stderr",
     "output_type": "stream",
     "text": [
      "/home/mengkjin/Workspace/learndl/scripts/util/data/sqlConnector.py:270: FutureWarning: Downcasting object dtype arrays on .fillna, .ffill, .bfill is deprecated and will change in a future version. Call result.infer_objects(copy=False) instead. To opt-in to the future behavior, set `pd.set_option('future.no_silent_downcasting', True)`\n",
      "  return df.fillna(np.nan)\n"
     ]
    },
    {
     "name": "stdout",
     "output_type": "stream",
     "text": [
      "Mon Mar 11 08:13:07 2024 : huatai/ms_chars:202204          \r"
     ]
    },
    {
     "name": "stderr",
     "output_type": "stream",
     "text": [
      "/home/mengkjin/Workspace/learndl/scripts/util/data/sqlConnector.py:270: FutureWarning: Downcasting object dtype arrays on .fillna, .ffill, .bfill is deprecated and will change in a future version. Call result.infer_objects(copy=False) instead. To opt-in to the future behavior, set `pd.set_option('future.no_silent_downcasting', True)`\n",
      "  return df.fillna(np.nan)\n"
     ]
    },
    {
     "name": "stdout",
     "output_type": "stream",
     "text": [
      "Mon Mar 11 08:13:50 2024 : huatai/ms_chars:202207          \r"
     ]
    },
    {
     "name": "stderr",
     "output_type": "stream",
     "text": [
      "/home/mengkjin/Workspace/learndl/scripts/util/data/sqlConnector.py:270: FutureWarning: Downcasting object dtype arrays on .fillna, .ffill, .bfill is deprecated and will change in a future version. Call result.infer_objects(copy=False) instead. To opt-in to the future behavior, set `pd.set_option('future.no_silent_downcasting', True)`\n",
      "  return df.fillna(np.nan)\n"
     ]
    },
    {
     "name": "stdout",
     "output_type": "stream",
     "text": [
      "Mon Mar 11 08:14:30 2024 : huatai/ms_chars:202210          \r"
     ]
    },
    {
     "name": "stderr",
     "output_type": "stream",
     "text": [
      "/home/mengkjin/Workspace/learndl/scripts/util/data/sqlConnector.py:270: FutureWarning: Downcasting object dtype arrays on .fillna, .ffill, .bfill is deprecated and will change in a future version. Call result.infer_objects(copy=False) instead. To opt-in to the future behavior, set `pd.set_option('future.no_silent_downcasting', True)`\n",
      "  return df.fillna(np.nan)\n"
     ]
    },
    {
     "name": "stdout",
     "output_type": "stream",
     "text": [
      "Mon Mar 11 08:15:09 2024 : huatai/ms_chars:202301          \r"
     ]
    },
    {
     "name": "stderr",
     "output_type": "stream",
     "text": [
      "/home/mengkjin/Workspace/learndl/scripts/util/data/sqlConnector.py:270: FutureWarning: Downcasting object dtype arrays on .fillna, .ffill, .bfill is deprecated and will change in a future version. Call result.infer_objects(copy=False) instead. To opt-in to the future behavior, set `pd.set_option('future.no_silent_downcasting', True)`\n",
      "  return df.fillna(np.nan)\n"
     ]
    },
    {
     "name": "stdout",
     "output_type": "stream",
     "text": [
      "Mon Mar 11 08:15:49 2024 : huatai/ms_chars:202304          \r"
     ]
    },
    {
     "name": "stderr",
     "output_type": "stream",
     "text": [
      "/home/mengkjin/Workspace/learndl/scripts/util/data/sqlConnector.py:270: FutureWarning: Downcasting object dtype arrays on .fillna, .ffill, .bfill is deprecated and will change in a future version. Call result.infer_objects(copy=False) instead. To opt-in to the future behavior, set `pd.set_option('future.no_silent_downcasting', True)`\n",
      "  return df.fillna(np.nan)\n"
     ]
    },
    {
     "name": "stdout",
     "output_type": "stream",
     "text": [
      "Mon Mar 11 08:16:33 2024 : huatai/ms_chars:202307          \r"
     ]
    },
    {
     "name": "stderr",
     "output_type": "stream",
     "text": [
      "/home/mengkjin/Workspace/learndl/scripts/util/data/sqlConnector.py:270: FutureWarning: Downcasting object dtype arrays on .fillna, .ffill, .bfill is deprecated and will change in a future version. Call result.infer_objects(copy=False) instead. To opt-in to the future behavior, set `pd.set_option('future.no_silent_downcasting', True)`\n",
      "  return df.fillna(np.nan)\n"
     ]
    },
    {
     "name": "stdout",
     "output_type": "stream",
     "text": [
      "Mon Mar 11 08:17:03 2024 : huatai/dl_factors since 20170101 to 20240311, total 28 periods(QE)\n",
      "├── dongfang <HDF5 group \"/dongfang\" (8 members)>10          \n",
      "│   ├── gp <HDF5 group \"/dongfang/gp\" (43 members)>\n",
      "│   │   ├── 20240102 <HDF5 group \"/dongfang/gp/20240102\" (3 members)> (feature, secid, values)\n",
      "│   │   ├── 20240103 <HDF5 group \"/dongfang/gp/20240103\" (3 members)> (feature, secid, values)\n",
      "│   │   ├── ...... omitting 39 memebers\n",
      "│   │   ├── 20240307 <HDF5 group \"/dongfang/gp/20240307\" (3 members)> (feature, secid, values)\n",
      "│   │   └── 20240308 <HDF5 group \"/dongfang/gp/20240308\" (3 members)> (feature, secid, values)\n",
      "│   ├── hfq_chars <HDF5 group \"/dongfang/hfq_chars\" (43 members)>\n",
      "│   │   ├── 20240102 <HDF5 group \"/dongfang/hfq_chars/20240102\" (3 members)> (feature, secid, values)\n",
      "│   │   ├── 20240103 <HDF5 group \"/dongfang/hfq_chars/20240103\" (3 members)> (feature, secid, values)\n",
      "│   │   ├── ...... omitting 39 memebers\n",
      "│   │   ├── 20240307 <HDF5 group \"/dongfang/hfq_chars/20240307\" (3 members)> (feature, secid, values)\n",
      "│   │   └── 20240308 <HDF5 group \"/dongfang/hfq_chars/20240308\" (3 members)> (feature, secid, values)\n",
      "│   ├── hist <HDF5 group \"/dongfang/hist\" (42 members)>\n",
      "│   │   ├── 20240102 <HDF5 group \"/dongfang/hist/20240102\" (3 members)> (feature, secid, values)\n",
      "│   │   ├── 20240103 <HDF5 group \"/dongfang/hist/20240103\" (3 members)> (feature, secid, values)\n",
      "│   │   ├── ...... omitting 38 memebers\n",
      "│   │   ├── 20240307 <HDF5 group \"/dongfang/hist/20240307\" (3 members)> (feature, secid, values)\n",
      "│   │   └── 20240308 <HDF5 group \"/dongfang/hist/20240308\" (3 members)> (feature, secid, values)\n",
      "│   ├── l2_chars <HDF5 group \"/dongfang/l2_chars\" (43 members)>\n",
      "│   │   ├── 20240102 <HDF5 group \"/dongfang/l2_chars/20240102\" (3 members)> (feature, secid, values)\n",
      "│   │   ├── 20240103 <HDF5 group \"/dongfang/l2_chars/20240103\" (3 members)> (feature, secid, values)\n",
      "│   │   ├── ...... omitting 39 memebers\n",
      "│   │   ├── 20240307 <HDF5 group \"/dongfang/l2_chars/20240307\" (3 members)> (feature, secid, values)\n",
      "│   │   └── 20240308 <HDF5 group \"/dongfang/l2_chars/20240308\" (3 members)> (feature, secid, values)\n",
      "│   ├── ms_chars <HDF5 group \"/dongfang/ms_chars\" (43 members)>\n",
      "│   │   ├── 20240102 <HDF5 group \"/dongfang/ms_chars/20240102\" (3 members)> (feature, secid, values)\n",
      "│   │   ├── 20240103 <HDF5 group \"/dongfang/ms_chars/20240103\" (3 members)> (feature, secid, values)\n",
      "│   │   ├── ...... omitting 39 memebers\n",
      "│   │   ├── 20240307 <HDF5 group \"/dongfang/ms_chars/20240307\" (3 members)> (feature, secid, values)\n",
      "│   │   └── 20240308 <HDF5 group \"/dongfang/ms_chars/20240308\" (3 members)> (feature, secid, values)\n",
      "│   ├── order_flow <HDF5 group \"/dongfang/order_flow\" (43 members)>\n",
      "│   │   ├── 20240102 <HDF5 group \"/dongfang/order_flow/20240102\" (3 members)> (feature, secid, values)\n",
      "│   │   ├── 20240103 <HDF5 group \"/dongfang/order_flow/20240103\" (3 members)> (feature, secid, values)\n",
      "│   │   ├── ...... omitting 39 memebers\n",
      "│   │   ├── 20240307 <HDF5 group \"/dongfang/order_flow/20240307\" (3 members)> (feature, secid, values)\n",
      "│   │   └── 20240308 <HDF5 group \"/dongfang/order_flow/20240308\" (3 members)> (feature, secid, values)\n",
      "│   ├── scores_v0 <HDF5 group \"/dongfang/scores_v0\" (43 members)>\n",
      "│   │   ├── 20240102 <HDF5 group \"/dongfang/scores_v0/20240102\" (3 members)> (feature, secid, values)\n",
      "│   │   ├── 20240103 <HDF5 group \"/dongfang/scores_v0/20240103\" (3 members)> (feature, secid, values)\n",
      "│   │   ├── ...... omitting 39 memebers\n",
      "│   │   ├── 20240307 <HDF5 group \"/dongfang/scores_v0/20240307\" (3 members)> (feature, secid, values)\n",
      "│   │   └── 20240308 <HDF5 group \"/dongfang/scores_v0/20240308\" (3 members)> (feature, secid, values)\n",
      "│   └── tra <HDF5 group \"/dongfang/tra\" (43 members)>\n",
      "│       ├── 20240102 <HDF5 group \"/dongfang/tra/20240102\" (3 members)> (feature, secid, values)\n",
      "│       ├── 20240103 <HDF5 group \"/dongfang/tra/20240103\" (3 members)> (feature, secid, values)\n",
      "│       ├── ...... omitting 39 memebers\n",
      "│       ├── 20240307 <HDF5 group \"/dongfang/tra/20240307\" (3 members)> (feature, secid, values)\n",
      "│       └── 20240308 <HDF5 group \"/dongfang/tra/20240308\" (3 members)> (feature, secid, values)\n",
      "├── haitong <HDF5 group \"/haitong\" (2 members)>\n",
      "│   ├── dl_factors <HDF5 group \"/haitong/dl_factors\" (43 members)>\n",
      "│   │   ├── 20240102 <HDF5 group \"/haitong/dl_factors/20240102\" (3 members)> (feature, secid, values)\n",
      "│   │   ├── 20240103 <HDF5 group \"/haitong/dl_factors/20240103\" (3 members)> (feature, secid, values)\n",
      "│   │   ├── ...... omitting 39 memebers\n",
      "│   │   ├── 20240307 <HDF5 group \"/haitong/dl_factors/20240307\" (3 members)> (feature, secid, values)\n",
      "│   │   └── 20240308 <HDF5 group \"/haitong/dl_factors/20240308\" (3 members)> (feature, secid, values)\n",
      "│   └── hf_factors <HDF5 group \"/haitong/hf_factors\" (43 members)>\n",
      "│       ├── 20240102 <HDF5 group \"/haitong/hf_factors/20240102\" (3 members)> (feature, secid, values)\n",
      "│       ├── 20240103 <HDF5 group \"/haitong/hf_factors/20240103\" (3 members)> (feature, secid, values)\n",
      "│       ├── ...... omitting 39 memebers\n",
      "│       ├── 20240307 <HDF5 group \"/haitong/hf_factors/20240307\" (3 members)> (feature, secid, values)\n",
      "│       └── 20240308 <HDF5 group \"/haitong/hf_factors/20240308\" (3 members)> (feature, secid, values)\n",
      "├── huatai <HDF5 group \"/huatai\" (1 members)>\n",
      "│   └── dl_factors <HDF5 group \"/huatai/dl_factors\" (44 members)>\n",
      "│       ├── 20240102 <HDF5 group \"/huatai/dl_factors/20240102\" (3 members)> (feature, secid, values)\n",
      "│       ├── 20240103 <HDF5 group \"/huatai/dl_factors/20240103\" (3 members)> (feature, secid, values)\n",
      "│       ├── ...... omitting 40 memebers\n",
      "│       ├── 20240307 <HDF5 group \"/huatai/dl_factors/20240307\" (3 members)> (feature, secid, values)\n",
      "│       └── 20240308 <HDF5 group \"/huatai/dl_factors/20240308\" (3 members)> (feature, secid, values)\n",
      "└── kaiyuan <HDF5 group \"/kaiyuan\" (2 members)>\n",
      "    ├── negative <HDF5 group \"/kaiyuan/negative\" (2 members)>\n",
      "    │   ├── 20240131 <HDF5 group \"/kaiyuan/negative/20240131\" (3 members)> (feature, secid, values)\n",
      "    │   └── 20240229 <HDF5 group \"/kaiyuan/negative/20240229\" (3 members)> (feature, secid, values)\n",
      "    └── positive <HDF5 group \"/kaiyuan/positive\" (2 members)>\n",
      "        ├── 20240131 <HDF5 group \"/kaiyuan/positive/20240131\" (3 members)> (feature, secid, values)\n",
      "        └── 20240229 <HDF5 group \"/kaiyuan/positive/20240229\" (3 members)> (feature, secid, values)\n"
     ]
    }
   ],
   "source": [
    "# %% update data\n",
    "import socket\n",
    "from scripts.util.data.DataUpdater import update_server_main , update_laptop_main\n",
    "from scripts.util.data.sqlConnector import update_sql_since , update_sql_dates\n",
    "\n",
    "if socket.gethostname() == 'mengkjin-server':\n",
    "    update_server_main()\n",
    "else:\n",
    "    update_laptop_main()\n",
    "update_sql_since()\n",
    "if False:\n",
    "    update_sql_dates(20240101 , 20240229)"
   ]
  },
  {
   "cell_type": "code",
   "execution_count": 2,
   "metadata": {},
   "outputs": [
    {
     "name": "stderr",
     "output_type": "stream",
     "text": [
      "\u001b[1m\u001b[37m\u001b[44m24-03-14 07:45:48|MOD:run_model   |\u001b[0m: \u001b[1m\u001b[34mModel Specifics:\u001b[0m\n",
      "\u001b[1m\u001b[37m\u001b[41m24-03-14 07:45:48|MOD:run_model   |\u001b[0m: \u001b[1m\u001b[31mStart Process [Load Data]!\u001b[0m\n"
     ]
    },
    {
     "name": "stdout",
     "output_type": "stream",
     "text": [
      "--Process Queue : Data + Train + Test + Instance\n",
      "--Start Training New!\n",
      "--Model_name is set to resnet_lstm_30m!\n",
      "{'verbosity': 2,\n",
      " 'storage_type': 'mem',\n",
      " 'precision': 'float',\n",
      " 'batch_size': 10000,\n",
      " 'model_name': 'resnet_lstm_30m',\n",
      " 'model_module': 'resnet_lstm',\n",
      " 'model_data_type': '30m',\n",
      " 'model_num': 3,\n",
      " 'beg_date': 20170103,\n",
      " 'end_date': 99991231,\n",
      " 'interval': 120,\n",
      " 'input_step_day': 5,\n",
      " 'test_step_day': 1,\n",
      " 'MODEL_PARAM': {'hidden_dim': [64],\n",
      "                 'seqlens': [{'day': 40, '30m': 30, '15m': 20, 'dms': 40}],\n",
      "                 'tra_seqlens': [{'hist_loss': 40}],\n",
      "                 'dropout': [0.1],\n",
      "                 'enc_in': [True],\n",
      "                 'enc_att': [False],\n",
      "                 'rnn_type': ['lstm'],\n",
      "                 'rnn_att': [False],\n",
      "                 'rnn_layers': [2],\n",
      "                 'dec_mlp_layers': [1],\n",
      "                 'num_output': [1],\n",
      "                 'kernel_size': [3, 3],\n",
      "                 'hidden_as_factor': [False],\n",
      "                 'ordered_param_group': [False],\n",
      "                 'tra_num_states': [5],\n",
      "                 'resnet_blocks': [2, 3, 4]},\n",
      " 'train_params': {'dataloader': {'random_seed': None, 'random_split': True, 'sample_method': 'train_shuffle', 'train_ratio': 0.8},\n",
      "                  'trainer': {'optimizer': {'name': 'Adam', 'param': {}},\n",
      "                              'scheduler': {'name': 'cycle', 'param': {'base_lr': 1e-07, 'step_size_up': 4}},\n",
      "                              'learn_rate': {'base': 0.005,\n",
      "                                             'ratio': {'attempt': [1, 0.1, 10, 0.01, 100], 'round': [1.0], 'transfer': 0.1},\n",
      "                                             'reset': {'num_reset': 2, 'trigger': 40, 'recover_level': 1.0, 'speedup2x': True}},\n",
      "                              'nanloss': {'retry': 5},\n",
      "                              'gradient': {'clip_value': 10.0},\n",
      "                              'retrain': {'attempts': 4, 'min_epoch': 20, 'min_epoch_round': 10}},\n",
      "                  'criterion': {'loss': 'pearson',\n",
      "                                'score': {'train': 'pearson', 'valid': 'pearson', 'test': 'pearson'},\n",
      "                                'penalty': {'hidden_orthogonality': {'lamb': 0.001}, 'tra_ot_penalty': {'lamb': 0.01, 'rho': 0.999}},\n",
      "                                'weight': {'train': 'equal', 'test': 'equal'}},\n",
      "                  'transfer': False,\n",
      "                  'output_types': ['best', 'swalast', 'swabest'],\n",
      "                  'multitask': {'type': 'hybrid',\n",
      "                                'param_dict': {'dwa': {'tau': 2},\n",
      "                                               'ruw': {'phi': None},\n",
      "                                               'ewa': {},\n",
      "                                               'gls': {},\n",
      "                                               'rws': {},\n",
      "                                               'hybrid': {'phi': None, 'tau': 2}}},\n",
      "                  'terminate': {'overall': {'early_stop': 20, 'max_epoch': 200, 'valid_converge': {'min_epoch': 5, 'eps': 1e-05}},\n",
      "                                'round': {'early_stop': 10, 'max_epoch': 100, 'valid_converge': {'min_epoch': 5, 'eps': 1e-05}}}},\n",
      " 'compt_params': {'cuda_first': True, 'num_worker': 10}}\n",
      "use /home/mengkjin/Workspace/learndl/scripts/../data/torch_pack/30m+rtn11+res11.20240130.pt\n"
     ]
    },
    {
     "name": "stderr",
     "output_type": "stream",
     "text": [
      "\u001b[1m\u001b[37m\u001b[41m24-03-14 07:45:53|MOD:run_model   |\u001b[0m: \u001b[1m\u001b[31mFinish Process [Load Data]! Cost 5.0Secs\u001b[0m\n",
      "\u001b[1m\u001b[37m\u001b[41m24-03-14 07:45:53|MOD:run_model   |\u001b[0m: \u001b[1m\u001b[31mStart Process [Train Model]!\u001b[0m\n"
     ]
    },
    {
     "name": "stdout",
     "output_type": "stream",
     "text": [
      "Pre-Norming method of [30m] : [endpoint_division(False) , history_standardize(True)]\n"
     ]
    },
    {
     "name": "stderr",
     "output_type": "stream",
     "text": [
      "\u001b[32mresnet_lstm_30m #0 @20170103 LoadData Cost   12.6Secs\u001b[0m\n",
      "\u001b[32mFirstBite Ep#  0 : loss  1.00250, train-0.00243, valid 0.01302, max 0.0130, best 0.0130, lr1.0e-07\u001b[0m\n",
      "\u001b[32mFirstBite Ep#  5 : loss  0.86859, train 0.14098, valid 0.13543, max 0.1354, best 0.1354, lr3.8e-03\u001b[0m\n",
      "\u001b[32mFirstBite Ep# 10 : loss  0.82838, train 0.18834, valid 0.11802, max 0.1354, best 0.1354, lr1.3e-03\u001b[0m\n",
      "\u001b[32mFirstBite Ep# 15 : loss  0.79074, train 0.23486, valid 0.10619, max 0.1354, best 0.1354, lr6.3e-04\u001b[0m\n",
      "\u001b[32mFirstBite Ep# 20 : loss  0.77886, train 0.25002, valid 0.10261, max 0.1354, best 0.1354, lr1.3e-03\u001b[0m\n"
     ]
    }
   ],
   "source": [
    "# %% test a specific model\n",
    "from run_model import main\n",
    "main(process = 0 , rawname = 1 , resume = 0 , anchoring = 0)"
   ]
  },
  {
   "cell_type": "code",
   "execution_count": 5,
   "metadata": {},
   "outputs": [],
   "source": [
    "import os\n",
    "del_path = './instance/tra_lstm2_day_ShortTest'\n",
    "if os.path.exists(del_path): os.rmdir(del_path)\n",
    "# rm -r ./instance/tra_lstm2_day_ShortTest #type: ignore"
   ]
  },
  {
   "cell_type": "code",
   "execution_count": null,
   "metadata": {},
   "outputs": [],
   "source": [
    "# %% model data preprocessing\n",
    "from data_preprocessing import main\n",
    "main(confirm=1)"
   ]
  }
 ],
 "metadata": {
  "kernelspec": {
   "display_name": "Python 3",
   "language": "python",
   "name": "python3"
  },
  "language_info": {
   "codemirror_mode": {
    "name": "ipython",
    "version": 3
   },
   "file_extension": ".py",
   "mimetype": "text/x-python",
   "name": "python",
   "nbconvert_exporter": "python",
   "pygments_lexer": "ipython3",
   "version": "3.10.12"
  }
 },
 "nbformat": 4,
 "nbformat_minor": 2
}
