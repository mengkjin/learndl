{
 "cells": [
  {
   "cell_type": "code",
   "execution_count": 1,
   "metadata": {},
   "outputs": [
    {
     "data": {
      "text/plain": [
       "True"
      ]
     },
     "execution_count": 1,
     "metadata": {},
     "output_type": "execute_result"
    }
   ],
   "source": [
    "# %% test cuda\n",
    "import torch #type: ignore\n",
    "torch.cuda.is_available()"
   ]
  },
  {
   "cell_type": "code",
   "execution_count": 2,
   "metadata": {},
   "outputs": [
    {
     "name": "stdout",
     "output_type": "stream",
     "text": [
      "Use device name: NVIDIA GeForce RTX 4090\n",
      "Merge Update Files\n",
      "['/home/mengkjin/Workspace/SharedFolder/DB_updater.0.h5']\n",
      "Sat Mar  2 08:55:19 2024 : DB_updater.0.h5 > data/DB_data/DB_information/DB_information.h5/./basic/calendar copying Done!\n",
      "Sat Mar  2 08:55:28 2024 : DB_updater.0.h5 > data/DB_data/DB_information/DB_information.h5/./stock/concepts copying Done!\n",
      "Sat Mar  2 08:55:29 2024 : DB_updater.0.h5 > data/DB_data/DB_information/DB_information.h5/./stock/description copying Done!\n",
      "Sat Mar  2 08:55:47 2024 : DB_updater.0.h5 > data/DB_data/DB_information/DB_information.h5/./stock/industry copying Done!\n",
      "Sat Mar  2 08:55:47 2024 : DB_updater.0.h5 > data/DB_data/DB_information/DB_information.h5/./stock/st copying Done!\n",
      "Sat Mar  2 08:55:47 2024 : DB_updater.0.h5 > data/DB_data/DB_labels/DB_labels.2024.h5/./10days/lag0 copying Done!\n",
      "Sat Mar  2 08:55:47 2024 : DB_updater.0.h5 > data/DB_data/DB_labels/DB_labels.2024.h5/./10days/lag1 copying Done!\n",
      "Sat Mar  2 08:55:47 2024 : DB_updater.0.h5 > data/DB_data/DB_labels/DB_labels.2024.h5/./20days/lag0 copying Done!\n",
      "Sat Mar  2 08:55:47 2024 : DB_updater.0.h5 > data/DB_data/DB_labels/DB_labels.2024.h5/./20days/lag1 copying Done!\n",
      "Sat Mar  2 08:55:47 2024 : DB_updater.0.h5 > data/DB_data/DB_labels/DB_labels.2024.h5/./5days/lag0 copying Done!\n",
      "Sat Mar  2 08:55:47 2024 : DB_updater.0.h5 > data/DB_data/DB_labels/DB_labels.2024.h5/./5days/lag1 copying Done!\n",
      "Sat Mar  2 08:55:47 2024 : DB_updater.0.h5 > data/DB_data/DB_models/DB_models.2024.h5/./risk_model/exposure copying Done!\n",
      "Sat Mar  2 08:55:47 2024 : DB_updater.0.h5 > data/DB_data/DB_trade_Xday/DB_trade_Xday.2024.h5/./10day/trade copying Done!\n",
      "Sat Mar  2 08:55:48 2024 : DB_updater.0.h5 > data/DB_data/DB_trade_Xday/DB_trade_Xday.2024.h5/./20day/trade copying Done!\n",
      "Sat Mar  2 08:55:48 2024 : DB_updater.0.h5 > data/DB_data/DB_trade_Xday/DB_trade_Xday.2024.h5/./5day/trade copying Done!\n",
      "Sat Mar  2 08:55:48 2024 : DB_updater.0.h5 > data/DB_data/DB_trade_Xmin/DB_trade_Xmin.2024.h5/./10min/trade copying Done!\n",
      "Sat Mar  2 08:55:48 2024 : DB_updater.0.h5 > data/DB_data/DB_trade_Xmin/DB_trade_Xmin.2024.h5/./15min/trade copying Done!\n",
      "Sat Mar  2 08:55:48 2024 : DB_updater.0.h5 > data/DB_data/DB_trade_Xmin/DB_trade_Xmin.2024.h5/./30min/trade copying Done!\n",
      "Sat Mar  2 08:55:49 2024 : DB_updater.0.h5 > data/DB_data/DB_trade_Xmin/DB_trade_Xmin.2024.h5/./5min/trade copying Done!\n",
      "Sat Mar  2 08:55:49 2024 : DB_updater.0.h5 > data/DB_data/DB_trade_Xmin/DB_trade_Xmin.2024.h5/./60min/trade copying Done!\n",
      "Sat Mar  2 08:55:49 2024 : DB_updater.0.h5 > data/DB_data/DB_trade_day/DB_trade_day.2024.h5/./day/trade copying Done!\n",
      "Sat Mar  2 08:55:54 2024 : DB_updater.0.h5 > data/DB_data/DB_trade_min/DB_trade_min.2024.h5/./minute/trade copying Done!\n",
      "Sat Mar  2 08:55:54 2024 : All Updates Done! Cost 40.48 Secs\n",
      "Sat Mar  2 08:55:56 2024 : haitong/hf_factors since 20240301 to 20240302, total 1 periods(QE)\n",
      "Sat Mar  2 08:56:03 2024 : haitong/dl_factors since 20240301 to 20240302, total 1 periods(QE)\n",
      "Sat Mar  2 08:56:52 2024 : dongfang/hfq_chars since 20240301 to 20240302, total 1 periods(QE)\n",
      "Sat Mar  2 08:56:55 2024 : dongfang/l2_chars since 20240301 to 20240302, total 1 periods(QE)\n",
      "Sat Mar  2 08:58:02 2024 : dongfang/ms_chars since 20240301 to 20240302, total 1 periods(QE)\n",
      "Sat Mar  2 08:58:26 2024 : dongfang/order_flow since 20240301 to 20240302, total 1 periods(QE)\n",
      "Sat Mar  2 08:58:27 2024 : dongfang/gp since 20240229 to 20240302, total 1 periods(QE)\n",
      "Sat Mar  2 08:58:29 2024 : dongfang/tra since 20240229 to 20240302, total 1 periods(QE)\n",
      "Sat Mar  2 08:58:31 2024 : dongfang/hist since 20240229 to 20240302, total 1 periods(QE)\n",
      "Sat Mar  2 08:58:34 2024 : dongfang/scores_v0 since 20240301 to 20240302, total 1 periods(QE)\n",
      "Sat Mar  2 08:58:36 2024 : kaiyuan/positive since 20240201 to 20240302, total 1 periods(QE)\n",
      "Sat Mar  2 08:58:41 2024 : kaiyuan/negative since 20240201 to 20240302, total 1 periods(QE)\n",
      "├── dongfang <HDF5 group \"/dongfang\" (8 members)>2          \n",
      "│   ├── gp <HDF5 group \"/dongfang/gp\" (38 members)>\n",
      "│   │   ├── 20240102 <HDF5 group \"/dongfang/gp/20240102\" (3 members)> (feature, secid, values)\n",
      "│   │   ├── 20240103 <HDF5 group \"/dongfang/gp/20240103\" (3 members)> (feature, secid, values)\n",
      "│   │   ├── ...... omitting 34 memebers\n",
      "│   │   ├── 20240229 <HDF5 group \"/dongfang/gp/20240229\" (3 members)> (feature, secid, values)\n",
      "│   │   └── 20240301 <HDF5 group \"/dongfang/gp/20240301\" (3 members)> (feature, secid, values)\n",
      "│   ├── hfq_chars <HDF5 group \"/dongfang/hfq_chars\" (38 members)>\n",
      "│   │   ├── 20240102 <HDF5 group \"/dongfang/hfq_chars/20240102\" (3 members)> (feature, secid, values)\n",
      "│   │   ├── 20240103 <HDF5 group \"/dongfang/hfq_chars/20240103\" (3 members)> (feature, secid, values)\n",
      "│   │   ├── ...... omitting 34 memebers\n",
      "│   │   ├── 20240229 <HDF5 group \"/dongfang/hfq_chars/20240229\" (3 members)> (feature, secid, values)\n",
      "│   │   └── 20240301 <HDF5 group \"/dongfang/hfq_chars/20240301\" (3 members)> (feature, secid, values)\n",
      "│   ├── hist <HDF5 group \"/dongfang/hist\" (37 members)>\n",
      "│   │   ├── 20240102 <HDF5 group \"/dongfang/hist/20240102\" (3 members)> (feature, secid, values)\n",
      "│   │   ├── 20240103 <HDF5 group \"/dongfang/hist/20240103\" (3 members)> (feature, secid, values)\n",
      "│   │   ├── ...... omitting 33 memebers\n",
      "│   │   ├── 20240229 <HDF5 group \"/dongfang/hist/20240229\" (3 members)> (feature, secid, values)\n",
      "│   │   └── 20240301 <HDF5 group \"/dongfang/hist/20240301\" (3 members)> (feature, secid, values)\n",
      "│   ├── l2_chars <HDF5 group \"/dongfang/l2_chars\" (38 members)>\n",
      "│   │   ├── 20240102 <HDF5 group \"/dongfang/l2_chars/20240102\" (3 members)> (feature, secid, values)\n",
      "│   │   ├── 20240103 <HDF5 group \"/dongfang/l2_chars/20240103\" (3 members)> (feature, secid, values)\n",
      "│   │   ├── ...... omitting 34 memebers\n",
      "│   │   ├── 20240229 <HDF5 group \"/dongfang/l2_chars/20240229\" (3 members)> (feature, secid, values)\n",
      "│   │   └── 20240301 <HDF5 group \"/dongfang/l2_chars/20240301\" (3 members)> (feature, secid, values)\n",
      "│   ├── ms_chars <HDF5 group \"/dongfang/ms_chars\" (38 members)>\n",
      "│   │   ├── 20240102 <HDF5 group \"/dongfang/ms_chars/20240102\" (3 members)> (feature, secid, values)\n",
      "│   │   ├── 20240103 <HDF5 group \"/dongfang/ms_chars/20240103\" (3 members)> (feature, secid, values)\n",
      "│   │   ├── ...... omitting 34 memebers\n",
      "│   │   ├── 20240229 <HDF5 group \"/dongfang/ms_chars/20240229\" (3 members)> (feature, secid, values)\n",
      "│   │   └── 20240301 <HDF5 group \"/dongfang/ms_chars/20240301\" (3 members)> (feature, secid, values)\n",
      "│   ├── order_flow <HDF5 group \"/dongfang/order_flow\" (38 members)>\n",
      "│   │   ├── 20240102 <HDF5 group \"/dongfang/order_flow/20240102\" (3 members)> (feature, secid, values)\n",
      "│   │   ├── 20240103 <HDF5 group \"/dongfang/order_flow/20240103\" (3 members)> (feature, secid, values)\n",
      "│   │   ├── ...... omitting 34 memebers\n",
      "│   │   ├── 20240229 <HDF5 group \"/dongfang/order_flow/20240229\" (3 members)> (feature, secid, values)\n",
      "│   │   └── 20240301 <HDF5 group \"/dongfang/order_flow/20240301\" (3 members)> (feature, secid, values)\n",
      "│   ├── scores_v0 <HDF5 group \"/dongfang/scores_v0\" (38 members)>\n",
      "│   │   ├── 20240102 <HDF5 group \"/dongfang/scores_v0/20240102\" (3 members)> (feature, secid, values)\n",
      "│   │   ├── 20240103 <HDF5 group \"/dongfang/scores_v0/20240103\" (3 members)> (feature, secid, values)\n",
      "│   │   ├── ...... omitting 34 memebers\n",
      "│   │   ├── 20240229 <HDF5 group \"/dongfang/scores_v0/20240229\" (3 members)> (feature, secid, values)\n",
      "│   │   └── 20240301 <HDF5 group \"/dongfang/scores_v0/20240301\" (3 members)> (feature, secid, values)\n",
      "│   └── tra <HDF5 group \"/dongfang/tra\" (38 members)>\n",
      "│       ├── 20240102 <HDF5 group \"/dongfang/tra/20240102\" (3 members)> (feature, secid, values)\n",
      "│       ├── 20240103 <HDF5 group \"/dongfang/tra/20240103\" (3 members)> (feature, secid, values)\n",
      "│       ├── ...... omitting 34 memebers\n",
      "│       ├── 20240229 <HDF5 group \"/dongfang/tra/20240229\" (3 members)> (feature, secid, values)\n",
      "│       └── 20240301 <HDF5 group \"/dongfang/tra/20240301\" (3 members)> (feature, secid, values)\n",
      "├── haitong <HDF5 group \"/haitong\" (2 members)>\n",
      "│   ├── dl_factors <HDF5 group \"/haitong/dl_factors\" (38 members)>\n",
      "│   │   ├── 20240102 <HDF5 group \"/haitong/dl_factors/20240102\" (3 members)> (feature, secid, values)\n",
      "│   │   ├── 20240103 <HDF5 group \"/haitong/dl_factors/20240103\" (3 members)> (feature, secid, values)\n",
      "│   │   ├── ...... omitting 34 memebers\n",
      "│   │   ├── 20240229 <HDF5 group \"/haitong/dl_factors/20240229\" (3 members)> (feature, secid, values)\n",
      "│   │   └── 20240301 <HDF5 group \"/haitong/dl_factors/20240301\" (3 members)> (feature, secid, values)\n",
      "│   └── hf_factors <HDF5 group \"/haitong/hf_factors\" (38 members)>\n",
      "│       ├── 20240102 <HDF5 group \"/haitong/hf_factors/20240102\" (3 members)> (feature, secid, values)\n",
      "│       ├── 20240103 <HDF5 group \"/haitong/hf_factors/20240103\" (3 members)> (feature, secid, values)\n",
      "│       ├── ...... omitting 34 memebers\n",
      "│       ├── 20240229 <HDF5 group \"/haitong/hf_factors/20240229\" (3 members)> (feature, secid, values)\n",
      "│       └── 20240301 <HDF5 group \"/haitong/hf_factors/20240301\" (3 members)> (feature, secid, values)\n",
      "└── kaiyuan <HDF5 group \"/kaiyuan\" (2 members)>\n",
      "    ├── negative <HDF5 group \"/kaiyuan/negative\" (2 members)>\n",
      "    │   ├── 20240131 <HDF5 group \"/kaiyuan/negative/20240131\" (3 members)> (feature, secid, values)\n",
      "    │   └── 20240229 <HDF5 group \"/kaiyuan/negative/20240229\" (3 members)> (feature, secid, values)\n",
      "    └── positive <HDF5 group \"/kaiyuan/positive\" (2 members)>\n",
      "        ├── 20240131 <HDF5 group \"/kaiyuan/positive/20240131\" (3 members)> (feature, secid, values)\n",
      "        └── 20240229 <HDF5 group \"/kaiyuan/positive/20240229\" (3 members)> (feature, secid, values)\n"
     ]
    }
   ],
   "source": [
    "# %% update data\n",
    "import socket\n",
    "from scripts.util.data.DataUpdater import update_server_main , update_laptop_main\n",
    "from scripts.util.data.sqlConnector import update_sql_since , update_sql_dates\n",
    "\n",
    "if socket.gethostname() == 'mengkjin-server':\n",
    "    update_server_main()\n",
    "else:\n",
    "    update_laptop_main()\n",
    "update_sql_since()\n",
    "if False:\n",
    "    update_sql_dates(20240101 , 20240229)"
   ]
  },
  {
   "cell_type": "code",
   "execution_count": 1,
   "metadata": {},
   "outputs": [
    {
     "name": "stderr",
     "output_type": "stream",
     "text": [
      "\u001b[1m\u001b[37m\u001b[41m24-02-24 08:07:35|MOD:run_model   |\u001b[0m: \u001b[1m\u001b[31mStart Process [Load Data]!\u001b[0m\n"
     ]
    },
    {
     "name": "stdout",
     "output_type": "stream",
     "text": [
      "--Process Queue : Data + Train + Test + Instance\n",
      "--Start Training New!\n",
      "--Model_name is set to resnet_lstm_30m_ShortTest!\n",
      "Load  2 DataBlocks ...... cost 30.86 secs\n",
      "Align 2 DataBlocks ...... cost 14.22 secs\n"
     ]
    },
    {
     "name": "stderr",
     "output_type": "stream",
     "text": [
      "\u001b[1m\u001b[37m\u001b[41m24-02-24 08:08:29|MOD:run_model   |\u001b[0m: \u001b[1m\u001b[31mFinish Process [Load Data]! Cost 53.3Secs\u001b[0m\n",
      "\u001b[1m\u001b[37m\u001b[41m24-02-24 08:08:29|MOD:run_model   |\u001b[0m: \u001b[1m\u001b[31mStart Process [Train Model]!\u001b[0m\n"
     ]
    },
    {
     "name": "stdout",
     "output_type": "stream",
     "text": [
      "Pre-Norming method of [30m] : [endpoint_division(False) , history_standardize(True)]\n"
     ]
    },
    {
     "name": "stderr",
     "output_type": "stream",
     "text": [
      "\u001b[32mresnet_lstm_30m_ShortTest #0 @20170103 LoadData Cost    3.8Secs\u001b[0m\n"
     ]
    },
    {
     "name": "stdout",
     "output_type": "stream",
     "text": [
      "score function of [pearson] calculated and success!\n",
      "loss function of [pearson] calculated and success!\n"
     ]
    },
    {
     "name": "stderr",
     "output_type": "stream",
     "text": [
      "\u001b[32mFirstBite Ep#  0 : loss  1.00047, train-0.00043, valid 0.01743, max 0.0174, best 0.0174, lr1.0e-07\u001b[0m\n",
      "\u001b[32mFirstBite Ep#  5 : loss  0.83565, train 0.17961, valid 0.18999, max 0.1900, best 0.1900, lr3.8e-03\u001b[0m\n",
      "\u001b[32mFirstBite Ep# 10 : loss  0.80110, train 0.22181, valid 0.21142, max 0.2114, best 0.2114, lr1.3e-03\u001b[0m\n",
      "\u001b[32mFirstBite Ep# 15 : loss  0.76813, train 0.26382, valid 0.23901, max 0.2390, best 0.2390, lr6.3e-04\u001b[0m\n",
      "\u001b[1m\u001b[37m\u001b[44m24-02-24 08:09:36|MOD:run_model   |\u001b[0m: \u001b[1m\u001b[34mresnet_lstm_30m_ShortTest #0 @20170103|Round 0 FirstBite Ep# 19 Max Epoch|Train 0.2717 Valid 0.2443 BestVal 0.2443|Cost  1.1Min,  3.1Sec/Ep\u001b[0m\n",
      "\u001b[32mFirstBite Ep#  0 : loss  1.01057, train-0.01047, valid-0.01367, max-0.0137, best-0.0137, lr1.0e-07\u001b[0m\n",
      "\u001b[32mFirstBite Ep#  5 : loss  0.84296, train 0.17090, valid 0.17953, max 0.1795, best 0.1795, lr3.8e-03\u001b[0m\n",
      "\u001b[32mFirstBite Ep# 10 : loss  0.80822, train 0.21297, valid 0.20051, max 0.2005, best 0.2005, lr1.3e-03\u001b[0m\n",
      "\u001b[32mFirstBite Ep# 15 : loss  0.77852, train 0.25041, valid 0.22327, max 0.2233, best 0.2233, lr6.3e-04\u001b[0m\n",
      "\u001b[1m\u001b[37m\u001b[44m24-02-24 08:11:03|MOD:run_model   |\u001b[0m: \u001b[1m\u001b[34mresnet_lstm_30m_ShortTest #1 @20170103|Round 0 FirstBite Ep# 19 Max Epoch|Train 0.2605 Valid 0.2306 BestVal 0.2306|Cost  1.5Min,  4.4Sec/Ep\u001b[0m\n",
      "\u001b[32mFirstBite Ep#  0 : loss  0.99672, train 0.00332, valid 0.01081, max 0.0108, best 0.0108, lr1.0e-07\u001b[0m\n",
      "\u001b[32mFirstBite Ep#  5 : loss  0.85714, train 0.15424, valid 0.14806, max 0.1481, best 0.1481, lr3.8e-03\u001b[0m\n",
      "\u001b[32mFirstBite Ep# 10 : loss  0.80867, train 0.21240, valid 0.20376, max 0.2038, best 0.2038, lr1.3e-03\u001b[0m\n",
      "\u001b[32mFirstBite Ep# 15 : loss  0.76841, train 0.26348, valid 0.23460, max 0.2346, best 0.2346, lr6.3e-04\u001b[0m\n",
      "\u001b[1m\u001b[37m\u001b[44m24-02-24 08:12:57|MOD:run_model   |\u001b[0m: \u001b[1m\u001b[34mresnet_lstm_30m_ShortTest #2 @20170103|Round 0 FirstBite Ep# 19 Max Epoch|Train 0.2757 Valid 0.2411 BestVal 0.2411|Cost  1.9Min,  5.7Sec/Ep\u001b[0m\n",
      "\u001b[32mresnet_lstm_30m_ShortTest #0 @20170704 LoadData Cost    3.8Secs\u001b[0m\n",
      "\u001b[32mFirstBite Ep#  0 : loss  1.00069, train-0.00065, valid-0.01040, max-0.0104, best-0.0104, lr1.0e-07\u001b[0m\n",
      "\u001b[32mFirstBite Ep#  5 : loss  0.84435, train 0.16965, valid 0.16018, max 0.1602, best 0.1602, lr3.8e-03\u001b[0m\n",
      "\u001b[32mFirstBite Ep# 10 : loss  0.80389, train 0.21897, valid 0.19448, max 0.1945, best 0.1945, lr1.3e-03\u001b[0m\n",
      "\u001b[32mFirstBite Ep# 15 : loss  0.76493, train 0.26956, valid 0.22989, max 0.2299, best 0.2299, lr6.3e-04\u001b[0m\n",
      "\u001b[1m\u001b[37m\u001b[44m24-02-24 08:14:07|MOD:run_model   |\u001b[0m: \u001b[1m\u001b[34mresnet_lstm_30m_ShortTest #0 @20170704|Round 0 FirstBite Ep# 19 Max Epoch|Train 0.2791 Valid 0.2291 BestVal 0.2319|Cost  1.2Min,  3.3Sec/Ep\u001b[0m\n",
      "\u001b[32mFirstBite Ep#  0 : loss  0.99841, train 0.00167, valid 0.01208, max 0.0121, best 0.0121, lr1.0e-07\u001b[0m\n",
      "\u001b[32mFirstBite Ep#  5 : loss  0.84279, train 0.17144, valid 0.14780, max 0.1478, best 0.1478, lr3.8e-03\u001b[0m\n",
      "\u001b[32mFirstBite Ep# 10 : loss  0.80794, train 0.21421, valid 0.17805, max 0.1781, best 0.1781, lr1.3e-03\u001b[0m\n",
      "\u001b[32mFirstBite Ep# 15 : loss  0.77162, train 0.26096, valid 0.20377, max 0.2038, best 0.2038, lr6.3e-04\u001b[0m\n",
      "\u001b[1m\u001b[37m\u001b[44m24-02-24 08:15:41|MOD:run_model   |\u001b[0m: \u001b[1m\u001b[34mresnet_lstm_30m_ShortTest #1 @20170704|Round 0 FirstBite Ep# 19 Max Epoch|Train 0.2711 Valid 0.2079 BestVal 0.2079|Cost  1.6Min,  4.7Sec/Ep\u001b[0m\n",
      "\u001b[32mFirstBite Ep#  0 : loss  1.00045, train-0.00040, valid-0.00424, max-0.0042, best-0.0042, lr1.0e-07\u001b[0m\n",
      "\u001b[32mFirstBite Ep#  5 : loss  0.85290, train 0.15954, valid 0.13175, max 0.1360, best 0.1360, lr3.8e-03\u001b[0m\n",
      "\u001b[32mFirstBite Ep# 10 : loss  0.82295, train 0.19562, valid 0.15852, max 0.1585, best 0.1585, lr1.3e-03\u001b[0m\n",
      "\u001b[32mFirstBite Ep# 15 : loss  0.79328, train 0.23314, valid 0.18421, max 0.1842, best 0.1842, lr6.3e-04\u001b[0m\n",
      "\u001b[1m\u001b[37m\u001b[44m24-02-24 08:17:42|MOD:run_model   |\u001b[0m: \u001b[1m\u001b[34mresnet_lstm_30m_ShortTest #2 @20170704|Round 0 FirstBite Ep# 19 Max Epoch|Train 0.2439 Valid 0.1875 BestVal 0.1875|Cost  2.0Min,  6.1Sec/Ep\u001b[0m\n",
      "\u001b[1m\u001b[37m\u001b[41m24-02-24 08:17:42|MOD:run_model   |\u001b[0m: \u001b[1m\u001b[31mFinish Process [Train Model]! Cost 0.2 Hours, 1.5 Min/model, 4.6 Sec/Epoch\u001b[0m\n",
      "\u001b[1m\u001b[37m\u001b[41m24-02-24 08:17:42|MOD:run_model   |\u001b[0m: \u001b[1m\u001b[31mStart Process [Test Model]!\u001b[0m\n",
      "\u001b[1m\u001b[37m\u001b[44m24-02-24 08:17:42|MOD:run_model   |\u001b[0m: \u001b[1m\u001b[34mEach Model Date Testing Mean Score({'train': 'pearson', 'valid': 'pearson', 'test': 'pearson'}):\u001b[0m\n",
      "\u001b[32mModels            0       0       0       1       1       1       2       2       2\u001b[0m\n",
      "\u001b[32mOutput         best swalast swabest    best swalast swabest    best swalast swabest\u001b[0m\n",
      "\u001b[32m20170103     0.1065  0.1169  0.1047  0.1050  0.1167  0.1134  0.0948  0.1188  0.0966\u001b[0m\n",
      "\u001b[32m20170704     0.1276  0.1345  0.1307  0.1212  0.1346  0.1246  0.1234  0.1333  0.1290\u001b[0m\n",
      "\u001b[32mAllTimeAvg   0.1162  0.1250  0.1167  0.1125  0.1250  0.1186  0.1080  0.1255  0.1116\u001b[0m\n",
      "\u001b[32mAllTimeSum    25.92   27.88   26.03   25.09   27.86   26.44   24.09   27.99   24.88\u001b[0m\n",
      "\u001b[32mStd          0.0892  0.0946  0.0897  0.0824  0.0834  0.0833  0.0769  0.0745  0.0768\u001b[0m\n",
      "\u001b[32mTValue        19.47   19.73   19.44   20.39   22.36   21.25   20.96   25.16   21.70\u001b[0m\n",
      "\u001b[32mAnnIR        6.3860  6.4741  6.3780  6.6876  7.3362  6.9707  6.8766  8.2529  7.1203\u001b[0m\n",
      "\u001b[1m\u001b[37m\u001b[41m24-02-24 08:18:04|MOD:run_model   |\u001b[0m: \u001b[1m\u001b[31mFinish Process [Test Model]! Cost 21.8 Secs\u001b[0m\n",
      "\u001b[1m\u001b[37m\u001b[41m24-02-24 08:18:04|MOD:run_model   |\u001b[0m: \u001b[1m\u001b[31mWill not copy to instance!\u001b[0m\n"
     ]
    }
   ],
   "source": [
    "# %% test a specific model\n",
    "from run_model import main\n",
    "main(process = 0 , rawname = 1 , resume = 0 , anchoring = 0)"
   ]
  },
  {
   "cell_type": "code",
   "execution_count": 5,
   "metadata": {},
   "outputs": [],
   "source": [
    "import os\n",
    "del_path = './instance/tra_lstm2_day_ShortTest'\n",
    "if os.path.exists(del_path): os.rmdir(del_path)\n",
    "# rm -r ./instance/tra_lstm2_day_ShortTest #type: ignore"
   ]
  },
  {
   "cell_type": "code",
   "execution_count": null,
   "metadata": {},
   "outputs": [],
   "source": [
    "# %% model data preprocessing\n",
    "from data_preprocessing import main\n",
    "main(confirm=1)"
   ]
  }
 ],
 "metadata": {
  "kernelspec": {
   "display_name": "Python 3",
   "language": "python",
   "name": "python3"
  },
  "language_info": {
   "codemirror_mode": {
    "name": "ipython",
    "version": 3
   },
   "file_extension": ".py",
   "mimetype": "text/x-python",
   "name": "python",
   "nbconvert_exporter": "python",
   "pygments_lexer": "ipython3",
   "version": "3.10.12"
  }
 },
 "nbformat": 4,
 "nbformat_minor": 2
}
