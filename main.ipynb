{
 "cells": [
  {
   "cell_type": "code",
   "execution_count": 3,
   "metadata": {},
   "outputs": [
    {
     "data": {
      "text/plain": [
       "False"
      ]
     },
     "execution_count": 3,
     "metadata": {},
     "output_type": "execute_result"
    }
   ],
   "source": [
    "# %% test cuda\n",
    "import torch #type: ignore\n",
    "torch.cuda.is_available()"
   ]
  },
  {
   "cell_type": "code",
   "execution_count": 1,
   "metadata": {},
   "outputs": [],
   "source": [
    "# %% update data\n",
    "import socket\n",
    "from scripts.util.data.DataUpdater import update_main\n",
    "from scripts.util.data.sqlConnector import update_sql_since , update_sql_dates\n",
    "\n",
    "update_main()\n",
    "if socket.gethostname() != 'mengkjin-server':\n",
    "    update_sql_since()\n",
    "    # update_sql_dates(20240101 , 20240229)"
   ]
  },
  {
   "cell_type": "code",
   "execution_count": null,
   "metadata": {},
   "outputs": [],
   "source": [
    "# %% test a specific model\n",
    "from run_model import main\n",
    "main(process = 0 , rawname = 1 , resume = 0 , anchoring = 1)"
   ]
  },
  {
   "cell_type": "code",
   "execution_count": 5,
   "metadata": {},
   "outputs": [],
   "source": [
    "import os\n",
    "del_path = './instance/tra_lstm2_day_ShortTest'\n",
    "if os.path.exists(del_path): os.rmdir(del_path)\n",
    "# rm -r ./instance/tra_lstm2_day_ShortTest #type: ignore"
   ]
  },
  {
   "cell_type": "code",
   "execution_count": null,
   "metadata": {},
   "outputs": [],
   "source": [
    "# %% model data preprocessing\n",
    "from data_preprocessing import main\n",
    "main(confirm=1)"
   ]
  }
 ],
 "metadata": {
  "kernelspec": {
   "display_name": "Python 3",
   "language": "python",
   "name": "python3"
  },
  "language_info": {
   "codemirror_mode": {
    "name": "ipython",
    "version": 3
   },
   "file_extension": ".py",
   "mimetype": "text/x-python",
   "name": "python",
   "nbconvert_exporter": "python",
   "pygments_lexer": "ipython3",
   "version": "3.8.5"
  }
 },
 "nbformat": 4,
 "nbformat_minor": 2
}
