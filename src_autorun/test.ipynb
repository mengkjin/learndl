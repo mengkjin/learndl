{
 "cells": [
  {
   "cell_type": "code",
   "execution_count": 11,
   "metadata": {},
   "outputs": [
    {
     "data": {
      "text/plain": [
       "'test\\n'"
      ]
     },
     "execution_count": 11,
     "metadata": {},
     "output_type": "execute_result"
    }
   ],
   "source": [
    "from src.basic import PATH\n",
    "file = str(PATH.logs.joinpath('print_log.txt'))\n",
    "\n",
    "with open(file , 'r') as f:\n",
    "    log_content = f.read()\n",
    "\n",
    "log_content"
   ]
  },
  {
   "cell_type": "code",
   "execution_count": 6,
   "metadata": {},
   "outputs": [],
   "source": [
    "from src.basic import PATH\n",
    "confidential = PATH.read_yaml(PATH.conf.joinpath('.confidential.yaml'))\n"
   ]
  },
  {
   "cell_type": "code",
   "execution_count": null,
   "metadata": {},
   "outputs": [],
   "source": [
    "import smtplib\n",
    "from email.mime.text import MIMEText\n",
    "from email.header import Header\n",
    "\n",
    "# 邮件服务器地址和端口号\n",
    "smtp_server = 'smtp.163.com'\n",
    "smtp_port = 25\n",
    "\n",
    "# 发件人邮箱地址和密码\n",
    "sender_email = 'mengkjin@163.com'  # 这里替换为您自己的发件人邮箱地址\n",
    "sender_password = 'TSkYh33f3pesHP2S'  # 这里是你的授权码？ 非邮箱登录密码\n",
    "\n",
    "# 收件人邮箱地址\n",
    "recipient_email = 'mengkjin@163.com'\n",
    "\n",
    "email_body = 'This is test! Hello, World!'\n",
    "\n",
    "# 创建一封邮件，文本内容为 'Hello, World!'\n",
    "message = MIMEText('This is test! Hello, World!', 'plain', 'utf-8')\n",
    "message['From'] = Header('发件人昵称 <{}>'.format(sender_email), 'utf-8')  # type: ignore\n",
    "message['To'] = Header('收件人昵称 <{}>'.format(recipient_email), 'utf-8')  # type: ignore\n",
    "message['Subject'] = Header('邮件主题', 'utf-8')  # type: ignore\n",
    "message.attach(MIMEText(email_body, 'plain'))\n",
    "try:\n",
    "    # 连接邮件服务器并登录\n",
    "    smtp_connection = smtplib.SMTP(smtp_server, smtp_port)\n",
    "    smtp_connection.login(sender_email, sender_password)\n",
    "\n",
    "    # 发送邮件\n",
    "    smtp_connection.sendmail(sender_email, recipient_email, message.as_string())\n",
    "\n",
    "    # 关闭连接\n",
    "    smtp_connection.quit()\n",
    "\n",
    "    print('sending email success')\n",
    "\n",
    "except Exception as e:\n",
    "    print('sending email went wrong:', e)"
   ]
  }
 ],
 "metadata": {
  "kernelspec": {
   "display_name": "Python 3",
   "language": "python",
   "name": "python3"
  },
  "language_info": {
   "codemirror_mode": {
    "name": "ipython",
    "version": 3
   },
   "file_extension": ".py",
   "mimetype": "text/x-python",
   "name": "python",
   "nbconvert_exporter": "python",
   "pygments_lexer": "ipython3",
   "version": "3.11.8"
  }
 },
 "nbformat": 4,
 "nbformat_minor": 2
}
