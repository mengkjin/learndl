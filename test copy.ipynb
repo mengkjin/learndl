{
 "cells": [
  {
   "cell_type": "code",
   "execution_count": 52,
   "metadata": {},
   "outputs": [],
   "source": [
    "import lightgbm as lgb\n",
    "import numpy as np\n",
    "import pandas as pd\n",
    "import xarray as xr\n",
    "import matplotlib.pyplot as plt\n",
    "import os , torch\n",
    "\n",
    "from copy import deepcopy\n",
    "from dataclasses import dataclass\n",
    "from src.environ import DIR\n",
    "# from src.algo.boost.lgbt import LgbtPlot , LgbtWeight\n",
    "from typing import Any , ClassVar, Literal , Optional\n",
    "from src.func import match_values, np_nanic_2d , np_nanrankic_2d\n",
    "\n",
    "@dataclass\n",
    "class BoosterData:\n",
    "    raw_x   : pd.DataFrame | np.ndarray | torch.Tensor\n",
    "    raw_y   : pd.Series    | np.ndarray | torch.Tensor\n",
    "    secid   : Any = None\n",
    "    date    : Any = None\n",
    "    feature : Any = None\n",
    "    weight_param : Optional[dict] = None\n",
    "\n",
    "    df_var_sec  : ClassVar[list[str]] = ['SecID','instrument']\n",
    "    df_var_date : ClassVar[list[str]] = ['TradeDate','datetime']\n",
    "\n",
    "    def __post_init__(self):\n",
    "        assert len(self.raw_x) == len(self.raw_y) , f'x and y length must match'\n",
    "        if isinstance(self.raw_x , torch.Tensor) and isinstance(self.raw_y , torch.Tensor): \n",
    "            self.x = self.raw_x.detach().cpu().numpy()\n",
    "            self.y = self.raw_y.detach().cpu().numpy()\n",
    "        elif isinstance(self.raw_x , np.ndarray) and isinstance(self.raw_y , np.ndarray): \n",
    "            self.x = self.raw_x\n",
    "            self.y = self.raw_y\n",
    "        elif isinstance(self.raw_x , pd.DataFrame) and isinstance(self.raw_y , pd.Series): \n",
    "            self.var_sec  = [v for v in self.df_var_sec  if v in self.raw_x.index.names][0]\n",
    "            self.var_date = [v for v in self.df_var_date if v in self.raw_x.index.names][0]\n",
    "            x = self.raw_x.reset_index().set_index([self.var_sec,self.var_date])\n",
    "            xarr = xr.Dataset.from_dataframe(x)\n",
    " \n",
    "            xindex = [arr.values for arr in xarr.indexes.values()] + [list(xarr.data_vars)]\n",
    "            self.x = np.stack([arr.to_numpy() for arr in xarr.data_vars.values()] , -1)\n",
    "            if self.secid is None : self.secid = xindex[0]\n",
    "            if self.date  is None : self.date  = xindex[1]\n",
    "            if self.feature is None : self.feature = xindex[-1]\n",
    "\n",
    "            yarr = xr.Dataset.from_dataframe(pd.DataFrame(self.raw_y.reset_index().set_index([self.var_sec,self.var_date])))\n",
    "            self.y = np.stack([arr.to_numpy() for arr in yarr.data_vars.values()] , -1)\n",
    "        else:\n",
    "            raise TypeError(f'x and y type must match')\n",
    "        if self.y.ndim == 3:\n",
    "            assert self.y.shape[-1] == 1\n",
    "            self.y = self.y[...,0]\n",
    "        self.finite = np.isfinite(self.y)\n",
    "        if self.secid is None : self.secid = np.arange(self.x.shape[0])\n",
    "        if self.date  is None : self.date  = np.arange(self.x.shape[1])\n",
    "        if self.feature is None : self.feature = np.array([f'feature.{i}' for i in range(self.x.shape[-1])])\n",
    "        assert self.x.shape == (len(self.secid) , len(self.date) , len(self.feature))\n",
    "        assert self.y.shape == (len(self.secid) , len(self.date))\n",
    "        self.update_feature()\n",
    "        if self.weight_param is None: self.weight_param = {'tau':0.75*np.log(0.5)/np.log(0.75) , 'ts_type':'lin' , 'rate':0.5}  \n",
    "\n",
    "    def update_feature(self , use_feature = None):\n",
    "        if use_feature is not None:\n",
    "            assert all(np.isin(use_feature , self.feature)) , np.setdiff1d(use_feature , self.feature)\n",
    "        self.use_feature = use_feature\n",
    "\n",
    "    def lgbt_dataset(self , weight_param = None , reference = None):\n",
    "        return lgb.Dataset(self.X() , self.Y() , weight = self.W(weight_param) , reference = reference)\n",
    "\n",
    "    def X(self): \n",
    "        if self.use_feature is None:\n",
    "            return self.x.reshape(-1,self.x.shape[-1])[self.finite.flatten()]\n",
    "        else:\n",
    "            return self.X_feat(self.use_feature).reshape(-1,len(self.use_feature))[self.finite.flatten()]\n",
    "\n",
    "    def Y(self): return self.y.flatten()[self.finite.flatten()]\n",
    "\n",
    "    def W(self , weight_param : Optional[dict] = None):\n",
    "        weight_param = self.weight_param if weight_param is None else weight_param\n",
    "        if weight_param is None: weight_param = {}\n",
    "        w = self.calculate_weight(self.y , **weight_param)\n",
    "        return w.flatten()[self.finite.flatten()]\n",
    "    \n",
    "    def X_feat(self , feature): return self.x[...,match_values(feature , self.feature)]\n",
    "\n",
    "    def reform_pred(self , pred):\n",
    "        new_pred = self.y.flatten()\n",
    "        new_pred[self.finite.flatten()] = pred\n",
    "        pred = new_pred.reshape(*self.y.shape)\n",
    "        pred = np.array(pred)\n",
    "        if isinstance(self.raw_y , pd.Series):\n",
    "            pred = pd.DataFrame(pred , columns = self.date)\n",
    "            pred[self.var_sec] = self.secid\n",
    "            pred = pred.reset_index().melt(id_vars=self.var_sec,var_name=self.var_date)\n",
    "            pred = pred.set_index([self.var_date,self.var_sec])['value'].loc[self.raw_y.index]\n",
    "        elif isinstance(self.raw_y , np.ndarray):\n",
    "            ...\n",
    "        else:\n",
    "            pred = torch.Tensor(pred)\n",
    "        return pred\n",
    "\n",
    "    @property\n",
    "    def shape(self): return self.x.shape\n",
    "\n",
    "    @property\n",
    "    def nfeat(self): return len(self.feature) if self.use_feature is None else len(self.use_feature)\n",
    "    \n",
    "    @classmethod\n",
    "    def calculate_weight(cls , y : np.ndarray, \n",
    "                         cs_type : Optional[Literal['top']] = 'top' ,\n",
    "                         ts_type : Optional[Literal['lin' , 'exp']] = None ,\n",
    "                         **kwargs):\n",
    "        assert y.ndim == 2 or (y.ndim == 3 and y.shape[-1] == 1) , y.shape\n",
    "        if y.ndim == 3: y = y[...,0]\n",
    "        return cls.cs_weight(y , cs_type , **kwargs) * cls.ts_weight(y , ts_type , **kwargs)\n",
    "\n",
    "    @classmethod\n",
    "    def cs_weight(cls , y : np.ndarray , cs_type : Optional[Literal['top']] = 'top' , tau : Optional[float] = None , **kwargs):\n",
    "        w = y * 0 + 1.\n",
    "        if cs_type is None: return w\n",
    "        if tau is None : tau = 0.75*np.log(0.5)/np.log(0.75)\n",
    "        for j in range(w.shape[1]):\n",
    "            if cs_type == 'top':\n",
    "                v = y[:,j] * 1.\n",
    "                v[~np.isnan(v)] = v[~np.isnan(v)].argsort()\n",
    "                w[:,j] = np.exp((1 - v / np.nanmax(v))*np.log(0.5) / tau)\n",
    "        return w\n",
    "    \n",
    "    @classmethod\n",
    "    def ts_weight(cls , y : np.ndarray , ts_type : Optional[Literal['lin' , 'exp']] = 'lin' , rate : Optional[float] = None , **kwargs):\n",
    "        w = y * 0 + 1.\n",
    "        if ts_type is None: return w\n",
    "        if rate is None : rate = 0.5\n",
    "        if ts_type == 'lin':\n",
    "            w *= np.linspace(rate,1,w.shape[1]).reshape(1,-1)\n",
    "        elif ts_type == 'exp':\n",
    "            w *= np.power(2 , -np.arange(w.shape[1])[::-1] / int(rate * w.shape[1])).reshape(1,-1)\n",
    "        return w\n",
    "\n",
    "class LgbtPlot:\n",
    "    def __init__(self , lgb : Any) -> None:\n",
    "        self.__lgbm = lgb\n",
    "\n",
    "    @property\n",
    "    def plot_path(self) -> str: return self.__lgbm.plot_path\n",
    "    @property\n",
    "    def evals_result(self) -> dict: return self.__lgbm.evals_result\n",
    "    @property\n",
    "    def model(self) -> lgb.Booster: return self.__lgbm.model\n",
    "    @property\n",
    "    def data(self) -> dict[str,BoosterData]: return self.__lgbm.data\n",
    "    @property\n",
    "    def train_param(self) -> dict: return self.__lgbm.train_param\n",
    "\n",
    "    def training(self , show_plot = True , xlim = None , ylim = None , yscale = None):\n",
    "        os.makedirs(self.plot_path, exist_ok=True)\n",
    "        plt.figure()\n",
    "        ax = lgb.plot_metric(self.evals_result, metric='l2')\n",
    "        plt.scatter(self.model.best_iteration,list(self.evals_result['valid'].values())[0][self.model.best_iteration],label='best iteration')\n",
    "        plt.legend()\n",
    "        if xlim is not None: plt.xlim(xlim)\n",
    "        if ylim is not None: plt.ylim(ylim)\n",
    "        if yscale is not None: plt.yscale(yscale)\n",
    "        if show_plot: plt.show()\n",
    "        plt.savefig('/'.join([self.plot_path,'training_process.png']),dpi=1200)\n",
    "        return ax\n",
    "    \n",
    "    def importance(self):\n",
    "        os.makedirs(self.plot_path, exist_ok=True)\n",
    "        lgb.plot_importance(self.model)\n",
    "        plt.savefig('/'.join([self.plot_path,'feature_importance.png']),dpi=1200)\n",
    "\n",
    "    def histogram(self , feature_idx='all'):\n",
    "        os.makedirs(self.plot_path, exist_ok=True)\n",
    "        if isinstance(feature_idx,str):\n",
    "            assert feature_idx=='all'\n",
    "            feature_idx = range(len(self.model.feature_name()))\n",
    "        n_subplot = len(feature_idx)\n",
    "        ncol = n_subplot if n_subplot < 5 else 5\n",
    "        nrow = n_subplot // 5 + (1 if (n_subplot % 5 > 0) else 0)\n",
    "        fig, axes = plt.subplots(nrow, ncol, figsize=(3*ncol, 3*nrow))\n",
    "        if isinstance(axes , np.ndarray): \n",
    "            axes = axes.flatten()\n",
    "        else:\n",
    "            axes = [axes]\n",
    "        for i in feature_idx:\n",
    "            feature_importance = self.model.feature_importance()[i]\n",
    "            if feature_importance ==0:\n",
    "                axes[i].set_title(f'feature {self.model.feature_name()[i]} has 0 importance')\n",
    "            else:\n",
    "                lgb.plot_split_value_histogram(self.model, ax = axes[i] , feature=self.model.feature_name()[i], bins='auto' ,title=\"feature @feature@\")\n",
    "        fig.suptitle('split value histogram for feature(s)' , fontsize = 'x-large')\n",
    "        plt.tight_layout()\n",
    "        plt.savefig('/'.join([self.plot_path,'feature_histogram.png']),dpi=1200)\n",
    "\n",
    "    def tree(self , num_trees_list=[0]):   \n",
    "        os.makedirs(self.plot_path, exist_ok=True)\n",
    "        for num_trees in num_trees_list:\n",
    "            fig, ax = plt.subplots(figsize=(12,12))\n",
    "            ax = lgb.plot_tree(self.model,tree_index=num_trees, ax=ax)\n",
    "            plt.savefig('/'.join([self.plot_path , f'explainer_tree_{num_trees}.png']),dpi=1200)\n",
    "\n",
    "    def shap(self , group='train'):\n",
    "        import shap\n",
    "        \n",
    "        # 定义计算SHAP模型，这里使用TreeExplainer\n",
    "        explainer = shap.TreeExplainer(self.model)\n",
    "        X_df = deepcopy(self.data[group].X())\n",
    "            \n",
    "        # 计算全部因子SHAP\n",
    "        shap_values = explainer.shap_values(X_df)\n",
    "        os.makedirs('/'.join([self.plot_path , self.plot_path , 'explainer_shap']) ,exist_ok=True)\n",
    "        for file in os.listdir('/'.join([self.plot_path , 'explainer_shap'])):\n",
    "            os.remove('/'.join([self.plot_path , 'explainer_shap' , file]))\n",
    "        \n",
    "        # 全部特征SHAP柱状图\n",
    "        shap.summary_plot(shap_values,X_df,plot_type='bar',title='|SHAP|',show=False)\n",
    "        plt.savefig('/'.join([self.plot_path , 'explainer_shap' , 'explainer_shap_bar.png']) ,dpi=100,bbox_inches='tight')\n",
    "        \n",
    "        # 全部特征SHAP点图\n",
    "        shap.summary_plot(shap_values,X_df,plot_type='dot',title='SHAP',show=False)\n",
    "        plt.savefig('/'.join([self.plot_path , 'explainer_shap' , 'explainer_shap_dot.png']),dpi=100,bbox_inches='tight')\n",
    "        \n",
    "        # 单个特征SHAP点图\n",
    "        \n",
    "        for feature , imp in zip(self.model.feature_name() , self.model.feature_importance()):\n",
    "            if imp == 0: continue\n",
    "            shap.dependence_plot(feature,shap_values,X_df,interaction_index=None,title=f'SHAP of {feature}',show=False)\n",
    "            plt.savefig('/'.join([self.plot_path , 'explainer_shap' , f'explainer_shap_dot_{feature}.png']),dpi=100,bbox_inches='tight')\n",
    "    \n",
    "    def sdt(self , group='train'):\n",
    "        x = self.data[group].X()\n",
    "        pred = self.model.predict(x)\n",
    "        dtrain = lgb.Dataset(x, label=pred)\n",
    "        _params = deepcopy(self.train_param)\n",
    "        del _params['early_stopping']\n",
    "        SDT = lgb.train(_params, dtrain, num_boost_round=1)\n",
    "        fig, ax = plt.subplots(figsize=(12,12))\n",
    "        ax = lgb.plot_tree(SDT, tree_index=0, ax=ax)\n",
    "        plt.savefig('/'.join([self.plot_path,'explainer_sdt.png']),dpi=1200)\n",
    "\n",
    "    def pdp(self , group='train'):\n",
    "        os.makedirs('/'.join([self.plot_path , 'explainer_pdp']) , exist_ok=True)\n",
    "        for file in os.listdir('/'.join([self.plot_path , 'explainer_pdp'])):\n",
    "            os.remove('/'.join([self.plot_path , 'explainer_pdp' , file]))\n",
    "        for feature , imp in zip(self.model.feature_name() , self.model.feature_importance()):\n",
    "            if imp == 0: continue\n",
    "            x = deepcopy(self.data[group].X())\n",
    "            if isinstance(x , pd.DataFrame): x = x.values\n",
    "            ifeat = match_values(feature , self.data[group].feature)\n",
    "            # when calculating PDP，factor range is -5:0.2:5\n",
    "            x_range = np.arange(np.floor(min(x[:,ifeat])), np.ceil(max(x[:,ifeat])), 0.2)\n",
    "            \n",
    "            # initialization and calculation\n",
    "            pdp = np.zeros_like(x_range)\n",
    "            for i, c in enumerate(x_range):\n",
    "                x[:,ifeat] = c\n",
    "                pdp[i] = np.array(self.model.predict(x)).mean()\n",
    "\n",
    "            # plotPDP\n",
    "            plt.figure()\n",
    "            plt.plot(x_range,pdp)\n",
    "            plt.title(f'PDP of {feature}')\n",
    "            plt.xlabel(f'{feature}')\n",
    "            plt.ylabel('y')\n",
    "            plt.savefig('/'.join([self.plot_path , 'explainer_pdp' , f'explainer_pdp_{feature}.png']))\n",
    "            plt.close()\n",
    "    "
   ]
  },
  {
   "cell_type": "code",
   "execution_count": 53,
   "metadata": {},
   "outputs": [],
   "source": [
    "\n",
    "\n",
    "class Lgbt():\n",
    "    var_date = ['TradeDate','datetime'] \n",
    "    def __init__(self , \n",
    "                 train : Any = '../../data/tree_data/df_train.csv' , \n",
    "                 valid : Any = '../../data/tree_data/df_valid.csv' ,\n",
    "                 test  : Any = '../../data/tree_data/df_test.csv' , \n",
    "                 feature = None , \n",
    "                 plot_path = '../../figures' ,\n",
    "                 cuda = False , **kwargs):   \n",
    "        self.train_param = {\n",
    "            'objective': 'regression', \n",
    "            'verbosity': -1 , \n",
    "            'linear_tree': True, \n",
    "            'learning_rate': 0.3, \n",
    "            'lambda_l2': 1e-05, \n",
    "            'alpha': 1e-07, \n",
    "            'num_leaves': 31,\n",
    "            'max_depth': 6, \n",
    "            # 'min_data_in_leaf' : 1, \n",
    "            'min_sum_hessian_in_leaf': 1, \n",
    "            'feature_fraction': 0.6, \n",
    "            'bagging_fraction': 0.75, \n",
    "            'force_col_wise': True, \n",
    "            'monotone_constraints': 1 , \n",
    "            'early_stopping' : 50 , \n",
    "            'zero_as_missing' : False ,\n",
    "            'device_type': 'gpu' if cuda else 'cpu', # 'cuda' 'cpu'\n",
    "            'seed': 42,\n",
    "        }\n",
    "        self.plot_path = plot_path\n",
    "        self.train_param.update(kwargs)\n",
    "        self.data_import(train , valid , test , feature)\n",
    "\n",
    "    def data_import(self , train , valid , test , feature = None):\n",
    "        assert type(train) == type(valid) == type(test) , f'type of train/valid/test must be identical'\n",
    "        self.data : dict[str , BoosterData] = {}\n",
    "        if isinstance(train , str):\n",
    "            train = pd.read_csv(train,index_col=[0,1])\n",
    "            valid = pd.read_csv(valid,index_col=[0,1])\n",
    "            test  = pd.read_csv(test ,index_col=[0,1])\n",
    "        assert train.shape[1] == valid.shape[1] == test.shape[1] , (train.shape[1] , valid.shape[1] , test.shape[1])\n",
    "        if isinstance(train , pd.DataFrame) and isinstance(valid , pd.DataFrame) and isinstance(test , pd.DataFrame):\n",
    "            assert type(train) == type(valid) == type(test) , f'type of train/valid/test must be identical'\n",
    "            self.data['train'] = BoosterData(train.iloc[:,:-1] , train.iloc[:,-1] , feature = feature)\n",
    "            self.data['valid'] = BoosterData(valid.iloc[:,:-1] , valid.iloc[:,-1] , feature = feature)\n",
    "            self.data['test']  = BoosterData(test.iloc[:,:-1]  , test.iloc[:,-1]  , feature = feature)\n",
    "        elif not (isinstance(train , pd.DataFrame) or isinstance(valid , pd.DataFrame) or isinstance(test , pd.DataFrame)):\n",
    "            self.data['train'] = BoosterData(train[...,:-1] , train[...,-1] , feature = feature)\n",
    "            self.data['valid'] = BoosterData(valid[...,:-1] , valid[...,-1] , feature = feature)\n",
    "            self.data['test']  = BoosterData(test[...,:-1]  , test[...,-1]  , feature = feature)\n",
    "\n",
    "    def setup(self , use_feature = None , weight_param = None):\n",
    "        mono_constr = self.train_param['monotone_constraints']\n",
    "        nfeat = len(use_feature) if use_feature else self.data['train'].nfeat\n",
    "        if isinstance(mono_constr , list):\n",
    "            if len(mono_constr) == 0: mono_constr = None\n",
    "            elif len(mono_constr) != nfeat: mono_constr = (mono_constr * nfeat)[:nfeat]\n",
    "        else:\n",
    "            mono_constr = [mono_constr for _ in range(nfeat)]\n",
    "        self.train_param['monotone_constraints'] = mono_constr\n",
    "        \n",
    "        [d.update_feature(use_feature) for d in self.data.values()]\n",
    "        self.train_dataset = self.data['train'].lgbt_dataset(weight_param)\n",
    "        self.valid_dataset = self.data['valid'].lgbt_dataset(weight_param , reference = self.train_dataset)\n",
    "\n",
    "    def fit(self , use_feature = None , weight_param = None):\n",
    "        self.setup(use_feature , weight_param)\n",
    "        self.evals_result = dict()\n",
    "        self.model = lgb.train(\n",
    "            self.train_param ,\n",
    "            self.train_dataset, \n",
    "            valid_sets=[self.train_dataset, self.valid_dataset], \n",
    "            valid_names=['train', 'valid'] , \n",
    "            num_boost_round=1000 , \n",
    "            callbacks=[lgb.record_evaluation(self.evals_result)],\n",
    "        )\n",
    "        \n",
    "    def predict(self , inputs : Optional[BoosterData] = None , reform = True):\n",
    "        if inputs is None: inputs = self.data['test']\n",
    "        pred = self.model.predict(inputs.X())\n",
    "        if reform: pred = inputs.reform_pred(pred)\n",
    "        return pred\n",
    "    \n",
    "    def test_result(self):\n",
    "        pred = np.array(self.predict(self.data['test'], reform = False)).reshape(*self.data['test'].y)\n",
    "        df = self.calc_ic(pred , self.data['test'].y)\n",
    "        plt.figure()\n",
    "        df.cumsum().plot(title='average IC/RankIC = {:.4f}/{:.4f}'.format(*df.mean().values))\n",
    "        plt.savefig('/'.join([self.plot_path,'test_prediction.png']),dpi=1200)\n",
    "        return df\n",
    "    \n",
    "    def calc_ic(self , pred : np.ndarray , label : np.ndarray):\n",
    "        if pred.ndim == 1: pred , label = pred.reshape(-1,1) , label.reshape(-1,1)\n",
    "        ic = np_nanic_2d(pred , label , dim = 0)\n",
    "        ric = np_nanrankic_2d(pred , label , dim = 0)\n",
    "        return pd.DataFrame({'ic' : ic , 'rankic' : ric})\n",
    "    \n",
    "    @property\n",
    "    def plot(self): return LgbtPlot(self)\n",
    "    \n"
   ]
  },
  {
   "cell_type": "code",
   "execution_count": 1,
   "metadata": {},
   "outputs": [],
   "source": [
    "import pandas as pd\n",
    "import numpy as np\n",
    "from src.algo.boost import lgbt"
   ]
  },
  {
   "cell_type": "code",
   "execution_count": 18,
   "metadata": {},
   "outputs": [],
   "source": [
    "\n",
    "train = pd.read_csv(f'{DIR.data}/tree_data/df_train.csv' , index_col=[0,1])\n",
    "valid = pd.read_csv(f'{DIR.data}/tree_data/df_valid.csv' , index_col=[0,1])\n",
    "test  = pd.read_csv(f'{DIR.data}/tree_data/df_test.csv' , index_col=[0,1])\n"
   ]
  },
  {
   "cell_type": "code",
   "execution_count": 54,
   "metadata": {},
   "outputs": [
    {
     "data": {
      "text/plain": [
       "<Figure size 800x550 with 0 Axes>"
      ]
     },
     "metadata": {},
     "output_type": "display_data"
    },
    {
     "data": {
      "image/png": "[encoded data removed]",
      "text/plain": [
       "<Figure size 800x550 with 1 Axes>"
      ]
     },
     "metadata": {},
     "output_type": "display_data"
    },
    {
     "data": {
      "text/plain": [
       "<Axes: title={'center': 'Metric during training'}, xlabel='Iterations', ylabel='l2'>"
      ]
     },
     "execution_count": 54,
     "metadata": {},
     "output_type": "execute_result"
    },
    {
     "data": {
      "text/plain": [
       "<Figure size 800x550 with 0 Axes>"
      ]
     },
     "metadata": {},
     "output_type": "display_data"
    }
   ],
   "source": [
    "a = lgbt.Lgbt(train = train , valid=valid , test=test)\n",
    "a.fit()\n",
    "a.plot.training()"
   ]
  },
  {
   "cell_type": "code",
   "execution_count": 2,
   "metadata": {},
   "outputs": [
    {
     "data": {
      "text/plain": [
       "<Figure size 800x550 with 0 Axes>"
      ]
     },
     "metadata": {},
     "output_type": "display_data"
    },
    {
     "data": {
      "image/png": "[encoded data removed]",
      "text/plain": [
       "<Figure size 800x550 with 1 Axes>"
      ]
     },
     "metadata": {},
     "output_type": "display_data"
    },
    {
     "data": {
      "text/plain": [
       "<Axes: title={'center': 'Metric during training'}, xlabel='Iterations', ylabel='l2'>"
      ]
     },
     "execution_count": 2,
     "metadata": {},
     "output_type": "execute_result"
    },
    {
     "data": {
      "text/plain": [
       "<Figure size 800x550 with 0 Axes>"
      ]
     },
     "metadata": {},
     "output_type": "display_data"
    }
   ],
   "source": [
    "def rand_nan(x , ratio = 0.1):\n",
    "    ii = np.random.choice(np.arange(len(x)) , int(ratio * len(x)))\n",
    "    x[ii] = np.nan\n",
    "    return x\n",
    "\n",
    "train = rand_nan(np.random.rand(1000,40,20))\n",
    "valid = rand_nan(np.random.rand(500,40,20))\n",
    "test  = rand_nan(np.random.rand(100,40,20))\n",
    "\n",
    "a = lgbt.Lgbt(train = train , valid=valid , test=test)\n",
    "a.fit()\n",
    "a.plot.training()"
   ]
  },
  {
   "cell_type": "code",
   "execution_count": 3,
   "metadata": {},
   "outputs": [
    {
     "data": {
      "text/plain": [
       "array([[0.49981205, 0.49828202, 0.49981205, ..., 0.49912401, 0.49828202,\n",
       "        0.49739197],\n",
       "       [0.49739197, 0.49739197, 0.49981205, ..., 0.49739197, 0.49739197,\n",
       "        0.49828202],\n",
       "       [       nan,        nan,        nan, ...,        nan,        nan,\n",
       "               nan],\n",
       "       ...,\n",
       "       [0.49739197, 0.49981205, 0.46290864, ..., 0.50317562, 0.49981205,\n",
       "        0.49981205],\n",
       "       [0.49981205, 0.50317562, 0.50689805, ..., 0.4457725 , 0.49981205,\n",
       "        0.497837  ],\n",
       "       [0.50317562, 0.49739197, 0.49739197, ..., 0.49981205, 0.49981205,\n",
       "        0.49981205]])"
      ]
     },
     "execution_count": 3,
     "metadata": {},
     "output_type": "execute_result"
    }
   ],
   "source": [
    "pred = a.predict()\n",
    "pred"
   ]
  },
  {
   "cell_type": "code",
   "execution_count": 4,
   "metadata": {},
   "outputs": [
    {
     "data": {
      "text/plain": [
       "(100, 40)"
      ]
     },
     "execution_count": 4,
     "metadata": {},
     "output_type": "execute_result"
    }
   ],
   "source": [
    "pred.shape"
   ]
  },
  {
   "cell_type": "code",
   "execution_count": 4,
   "metadata": {},
   "outputs": [
    {
     "name": "stdout",
     "output_type": "stream",
     "text": [
      "Column 1 unique values: [ 1  3  5  7  9 11 13 15]\n",
      "Column 2 unique values: [ 2  4  6  8 10 12 14 16]\n"
     ]
    }
   ],
   "source": [
    "import numpy as np\n",
    "\n",
    "# 多个nX2的NumPy数组\n",
    "arr1 = np.array([[1, 2], [3, 4], [5, 6]])\n",
    "arr2 = np.array([[1, 2], [7, 8], [9, 10]])\n",
    "arr3 = np.array([[11, 12], [13, 14], [15, 16]])\n",
    "\n",
    "# 将多个数组组合成一个二维数组\n",
    "combined_arr = np.vstack((arr1, arr2, arr3))\n",
    "\n",
    "# 获取每一列的唯一值\n",
    "unique_values = [np.unique(combined_arr[:, i]) for i in range(combined_arr.shape[1])]\n",
    "\n",
    "# 打印每一列的唯一值\n",
    "for i, column in enumerate(unique_values):\n",
    "    print(f\"Column {i+1} unique values:\", column)\n"
   ]
  },
  {
   "cell_type": "code",
   "execution_count": 14,
   "metadata": {},
   "outputs": [
    {
     "data": {
      "text/plain": [
       "6"
      ]
     },
     "execution_count": 14,
     "metadata": {},
     "output_type": "execute_result"
    }
   ],
   "source": [
    "np.prod([1,2,3])"
   ]
  },
  {
   "cell_type": "code",
   "execution_count": 12,
   "metadata": {},
   "outputs": [],
   "source": [
    "import numpy as np\n",
    "\n",
    "# 创建一个NumPy数组\n",
    "arr = np.array([3, 1, 2, 3, 1, 2 , 5])\n",
    "a,b=np.unique(arr , return_inverse=True)"
   ]
  },
  {
   "cell_type": "code",
   "execution_count": 13,
   "metadata": {},
   "outputs": [
    {
     "data": {
      "text/plain": [
       "array([2, 0, 1, 2, 0, 1, 3], dtype=int64)"
      ]
     },
     "execution_count": 13,
     "metadata": {},
     "output_type": "execute_result"
    }
   ],
   "source": [
    "b"
   ]
  },
  {
   "cell_type": "code",
   "execution_count": 6,
   "metadata": {},
   "outputs": [
    {
     "data": {
      "text/plain": [
       "array([1, 4, 2, 5, 0, 3], dtype=int64)"
      ]
     },
     "execution_count": 6,
     "metadata": {},
     "output_type": "execute_result"
    }
   ],
   "source": [
    "sorted_indices"
   ]
  }
 ],
 "metadata": {
  "kernelspec": {
   "display_name": "Python 3",
   "language": "python",
   "name": "python3"
  },
  "language_info": {
   "codemirror_mode": {
    "name": "ipython",
    "version": 3
   },
   "file_extension": ".py",
   "mimetype": "text/x-python",
   "name": "python",
   "nbconvert_exporter": "python",
   "pygments_lexer": "ipython3",
   "version": "3.11.8"
  }
 },
 "nbformat": 4,
 "nbformat_minor": 2
}
