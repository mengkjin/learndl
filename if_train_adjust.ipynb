{
 "cells": [
  {
   "cell_type": "code",
   "execution_count": 1,
   "metadata": {},
   "outputs": [
    {
     "name": "stdout",
     "output_type": "stream",
     "text": [
      "Use device name: NVIDIA GeForce RTX 4090\n"
     ]
    },
    {
     "name": "stderr",
     "output_type": "stream",
     "text": [
      "\u001b[1m\u001b[37m\u001b[41m24-03-31 10:32:16|MOD:PreProcess  |\u001b[0m: \u001b[1m\u001b[31mif_train is False , Data Processing start!\u001b[0m\n",
      "\u001b[1m\u001b[37m\u001b[45m24-03-31 10:32:16|MOD:PreProcess  |\u001b[0m: \u001b[1m\u001b[35m3 datas :['y', 'trade_day', 'trade_30m']\u001b[0m\n"
     ]
    },
    {
     "name": "stdout",
     "output_type": "stream",
     "text": [
      "Unpack Update Files\n",
      "Sun Mar 31 10:32:16 2024 : All Updates Done! Cost 0.00 Secs\n",
      "Sun Mar 31 10:32:16 2024 : y start ...\n",
      "labels blocks reading ret10_lag DataBase's ...... cost 0.42 secs\n",
      "labels blocks reading ret20_lag DataBase's ...... cost 0.34 secs\n",
      "labels blocks merging ...... cost 0.05 secs\n",
      "models blocks reading risk_exp DataBase's ...... cost 1.76 secs\n",
      "models blocks merging ...... cost 0.17 secs\n",
      "y blocks process ...... cost 1.08 secs\n",
      "y blocks masking ...... cost 0.06 secs\n",
      "y blocks saving  ...... cost 0.14 secs\n",
      "y blocks norming ...... cost 0.00 secs\n",
      "Sun Mar 31 10:32:20 2024 : y finished! Cost 4.02 Seconds\n",
      "Sun Mar 31 10:32:20 2024 : trade_day start ...\n",
      "trade blocks reading day DataBase's ...... cost 0.72 secs\n",
      "trade_day blocks merging ...... cost 0.00 secs\n",
      "trade_day blocks process ...... cost 0.04 secs\n",
      "trade_day blocks masking ...... cost 0.06 secs\n",
      "trade_day blocks saving  ...... cost 0.14 secs\n",
      "trade_day blocks norming ...... cost 0.00 secs\n",
      "Sun Mar 31 10:32:21 2024 : trade_day finished! Cost 0.96 Seconds\n",
      "Sun Mar 31 10:32:21 2024 : trade_30m start ...\n",
      "trade blocks reading 30min DataBase's ...... cost 2.60 secs\n",
      "trade_30m blocks merging ...... cost 0.00 secs\n",
      "trade blocks reading day DataBase's ...... cost 0.54 secs\n",
      "trade_day blocks merging ...... cost 0.02 secs\n",
      "trade_30m blocks process ...... cost 0.92 secs\n",
      "trade_30m blocks masking ...... cost 0.06 secs\n",
      "trade_30m blocks saving  ..."
     ]
    },
    {
     "name": "stderr",
     "output_type": "stream",
     "text": [
      "\u001b[1m\u001b[37m\u001b[41m24-03-31 10:32:27|MOD:PreProcess  |\u001b[0m: \u001b[1m\u001b[31mData Processing Finished! Cost 10.64 Seconds\u001b[0m\n"
     ]
    },
    {
     "name": "stdout",
     "output_type": "stream",
     "text": [
      "... cost 1.15 secs\n",
      "trade_30m blocks norming ...... cost 0.00 secs\n",
      "Sun Mar 31 10:32:27 2024 : trade_30m finished! Cost 5.28 Seconds\n"
     ]
    }
   ],
   "source": [
    "import src.data as data\n",
    "\n",
    "data.DataFetcher.main()\n",
    "data.PreProcess.main(False)"
   ]
  },
  {
   "cell_type": "code",
   "execution_count": 1,
   "metadata": {},
   "outputs": [
    {
     "name": "stdout",
     "output_type": "stream",
     "text": [
      "Use device name: NVIDIA GeForce RTX 4090\n",
      "Load  2 DataBlocks ...... cost 0.12 secs\n",
      "Align 2 DataBlocks ...... cost 0.07 secs\n",
      "(20231201, 'new')\n",
      "Pre-Norming method of [day] : [endpoint_division(True) , history_standardize(True)]\n"
     ]
    },
    {
     "data": {
      "text/html": [
       "<div>\n",
       "<style scoped>\n",
       "    .dataframe tbody tr th:only-of-type {\n",
       "        vertical-align: middle;\n",
       "    }\n",
       "\n",
       "    .dataframe tbody tr th {\n",
       "        vertical-align: top;\n",
       "    }\n",
       "\n",
       "    .dataframe thead th {\n",
       "        text-align: right;\n",
       "    }\n",
       "</style>\n",
       "<table border=\"1\" class=\"dataframe\">\n",
       "  <thead>\n",
       "    <tr style=\"text-align: right;\">\n",
       "      <th>date</th>\n",
       "      <th>20240321</th>\n",
       "      <th>20240322</th>\n",
       "      <th>20240325</th>\n",
       "      <th>20240326</th>\n",
       "      <th>20240327</th>\n",
       "      <th>20240328</th>\n",
       "    </tr>\n",
       "    <tr>\n",
       "      <th>date</th>\n",
       "      <th></th>\n",
       "      <th></th>\n",
       "      <th></th>\n",
       "      <th></th>\n",
       "      <th></th>\n",
       "      <th></th>\n",
       "    </tr>\n",
       "  </thead>\n",
       "  <tbody>\n",
       "    <tr>\n",
       "      <th>20240321</th>\n",
       "      <td>1.000000</td>\n",
       "      <td>0.869793</td>\n",
       "      <td>0.728705</td>\n",
       "      <td>0.700462</td>\n",
       "      <td>0.552975</td>\n",
       "      <td>0.594006</td>\n",
       "    </tr>\n",
       "    <tr>\n",
       "      <th>20240322</th>\n",
       "      <td>0.869793</td>\n",
       "      <td>1.000000</td>\n",
       "      <td>0.847572</td>\n",
       "      <td>0.768326</td>\n",
       "      <td>0.634097</td>\n",
       "      <td>0.645027</td>\n",
       "    </tr>\n",
       "    <tr>\n",
       "      <th>20240325</th>\n",
       "      <td>0.728705</td>\n",
       "      <td>0.847572</td>\n",
       "      <td>1.000000</td>\n",
       "      <td>0.864600</td>\n",
       "      <td>0.756182</td>\n",
       "      <td>0.726196</td>\n",
       "    </tr>\n",
       "    <tr>\n",
       "      <th>20240326</th>\n",
       "      <td>0.700462</td>\n",
       "      <td>0.768326</td>\n",
       "      <td>0.864600</td>\n",
       "      <td>1.000000</td>\n",
       "      <td>0.814336</td>\n",
       "      <td>0.784738</td>\n",
       "    </tr>\n",
       "    <tr>\n",
       "      <th>20240327</th>\n",
       "      <td>0.552975</td>\n",
       "      <td>0.634097</td>\n",
       "      <td>0.756182</td>\n",
       "      <td>0.814336</td>\n",
       "      <td>1.000000</td>\n",
       "      <td>0.868688</td>\n",
       "    </tr>\n",
       "    <tr>\n",
       "      <th>20240328</th>\n",
       "      <td>0.594006</td>\n",
       "      <td>0.645027</td>\n",
       "      <td>0.726196</td>\n",
       "      <td>0.784738</td>\n",
       "      <td>0.868688</td>\n",
       "      <td>1.000000</td>\n",
       "    </tr>\n",
       "  </tbody>\n",
       "</table>\n",
       "</div>"
      ],
      "text/plain": [
       "date      20240321  20240322  20240325  20240326  20240327  20240328\n",
       "date                                                                \n",
       "20240321  1.000000  0.869793  0.728705  0.700462  0.552975  0.594006\n",
       "20240322  0.869793  1.000000  0.847572  0.768326  0.634097  0.645027\n",
       "20240325  0.728705  0.847572  1.000000  0.864600  0.756182  0.726196\n",
       "20240326  0.700462  0.768326  0.864600  1.000000  0.814336  0.784738\n",
       "20240327  0.552975  0.634097  0.756182  0.814336  1.000000  0.868688\n",
       "20240328  0.594006  0.645027  0.726196  0.784738  0.868688  1.000000"
      ]
     },
     "execution_count": 1,
     "metadata": {},
     "output_type": "execute_result"
    }
   ],
   "source": [
    "from run_model import predict\n",
    "v = predict('gru_day' , model_num = 0)\n",
    "v.pivot_table(values = 'gru_day' , index = 'secid' , columns = 'date').fillna(0).corr()"
   ]
  }
 ],
 "metadata": {
  "kernelspec": {
   "display_name": "Python 3",
   "language": "python",
   "name": "python3"
  },
  "language_info": {
   "codemirror_mode": {
    "name": "ipython",
    "version": 3
   },
   "file_extension": ".py",
   "mimetype": "text/x-python",
   "name": "python",
   "nbconvert_exporter": "python",
   "pygments_lexer": "ipython3",
   "version": "3.10.12"
  }
 },
 "nbformat": 4,
 "nbformat_minor": 2
}
