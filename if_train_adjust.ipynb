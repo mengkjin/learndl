{
 "cells": [
  {
   "cell_type": "code",
   "execution_count": 1,
   "metadata": {},
   "outputs": [
    {
     "name": "stderr",
     "output_type": "stream",
     "text": [
      "\u001b[1m\u001b[37m\u001b[41m24-03-25 16:38:12|MOD:data_preprocessing|\u001b[0m: \u001b[1m\u001b[31mif_train is False , Data Processing start!\u001b[0m\n",
      "\u001b[1m\u001b[37m\u001b[45m24-03-25 16:38:12|MOD:data_preprocessing|\u001b[0m: \u001b[1m\u001b[35m3 datas :['y', 'trade_day', 'trade_30m']\u001b[0m\n"
     ]
    },
    {
     "name": "stdout",
     "output_type": "stream",
     "text": [
      "Mon Mar 25 16:38:12 2024 : y start ...\n",
      "labels blocks reading 10days/lag1 Data1D's ...... cost 0.26 secs\n",
      "labels blocks reading 20days/lag1 Data1D's ...... cost 0.20 secs\n",
      "labels blocks merging ...... cost 0.05 secs\n",
      "models blocks reading risk_model/exposure Data1D's ...... cost 1.43 secs\n",
      "models blocks merging ...... cost 0.00 secs\n",
      "y blocks process ...... cost 2.27 secs\n",
      "y blocks masking ...... cost 0.11 secs\n",
      "y blocks saving  ...... cost 0.09 secs\n",
      "y blocks norming ...... cost 0.00 secs\n",
      "Mon Mar 25 16:38:17 2024 : y finished! Cost 4.80 Seconds\n",
      "Mon Mar 25 16:38:17 2024 : trade_day start ...\n",
      "trade_day blocks reading day/trade Data1D's ...... cost 0.44 secs\n",
      "trade_day blocks merging ...... cost 0.00 secs\n",
      "trade_day blocks process ...... cost 0.13 secs\n",
      "trade_day blocks masking ...... cost 0.09 secs\n",
      "trade_day blocks saving  ...... cost 0.10 secs\n",
      "trade_day blocks norming ...... cost 0.00 secs\n",
      "Mon Mar 25 16:38:18 2024 : trade_day finished! Cost 0.77 Seconds\n",
      "Mon Mar 25 16:38:18 2024 : trade_30m start ...\n",
      "trade_Xmin blocks reading 30min/trade Data1D's ...... cost 22.19 secs\n",
      "trade_30m blocks merging ...... cost 0.00 secs\n",
      "trade_day blocks reading day/trade Data1D's ...... cost 0.32 secs\n",
      "trade_day blocks merging ...... cost 0.00 secs\n",
      "trade_30m blocks process ...... cost 0.87 secs\n",
      "trade_30m blocks masking ...... cost 0.10 secs\n",
      "trade_30m blocks saving  ..."
     ]
    },
    {
     "name": "stderr",
     "output_type": "stream",
     "text": [
      "\u001b[1m\u001b[37m\u001b[41m24-03-25 16:38:42|MOD:data_preprocessing|\u001b[0m: \u001b[1m\u001b[31mData Processing Finished! Cost 30.18 Seconds\u001b[0m\n"
     ]
    },
    {
     "name": "stdout",
     "output_type": "stream",
     "text": [
      "... cost 0.83 secs\n",
      "trade_30m blocks norming ...... cost 0.00 secs\n",
      "Mon Mar 25 16:38:42 2024 : trade_30m finished! Cost 24.35 Seconds\n",
      "Load  2 DataBlocks ...... cost 0.06 secs\n",
      "Align 2 DataBlocks ...... cost 0.12 secs\n"
     ]
    }
   ],
   "source": [
    "from run_model import predict_new\n"
   ]
  },
  {
   "cell_type": "code",
   "execution_count": 9,
   "metadata": {},
   "outputs": [
    {
     "name": "stdout",
     "output_type": "stream",
     "text": [
      "Load  2 DataBlocks ...... cost 0.05 secs\n",
      "Align 2 DataBlocks ...... cost 0.10 secs\n"
     ]
    }
   ],
   "source": [
    "predict_new(model_path = './model/gru_day' , model_num = 0)"
   ]
  },
  {
   "cell_type": "code",
   "execution_count": 19,
   "metadata": {},
   "outputs": [],
   "source": []
  }
 ],
 "metadata": {
  "kernelspec": {
   "display_name": "Python 3",
   "language": "python",
   "name": "python3"
  },
  "language_info": {
   "codemirror_mode": {
    "name": "ipython",
    "version": 3
   },
   "file_extension": ".py",
   "mimetype": "text/x-python",
   "name": "python",
   "nbconvert_exporter": "python",
   "pygments_lexer": "ipython3",
   "version": "3.11.8"
  }
 },
 "nbformat": 4,
 "nbformat_minor": 2
}
