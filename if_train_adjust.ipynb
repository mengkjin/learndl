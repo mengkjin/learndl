{
 "cells": [
  {
   "cell_type": "code",
   "execution_count": 2,
   "metadata": {},
   "outputs": [],
   "source": [
    "from dataclasses import dataclass , field\n",
    "from typing import Literal\n",
    "@dataclass\n",
    "class ModelDataKargs:\n",
    "    storage_type : Literal['mem' , 'disk'] = 'mem'\n",
    "    beg_date : int = 20170101\n",
    "    end_date : int = 20991231\n",
    "    interval : int = 120\n",
    "    tra_model : bool = False\n",
    "    skip_horizon : int = 20\n",
    "    input_span : int = 2400\n",
    "    buffer_param : dict = field(default_factory=dict)\n",
    "    weight_scheme: dict = field(default_factory=dict)\n",
    "    num_output : int = 1\n",
    "    train_ratio : float = 0.8\n",
    "    sample_method : Literal['total_shuffle' , 'sequential' , 'both_shuffle' , 'train_shuffle'] = 'sequential'\n",
    "    batch_size : int = 10000\n",
    "    input_step_day : int = 5\n",
    "    test_step_day : int = 1\n",
    "    verbosity : int = 5\n",
    "\n",
    "a = ModelDataKargs()"
   ]
  },
  {
   "cell_type": "code",
   "execution_count": 5,
   "metadata": {},
   "outputs": [
    {
     "data": {
      "text/plain": [
       "dict_keys(['storage_type', 'beg_date', 'end_date', 'interval', 'tra_model', 'skip_horizon', 'input_span', 'buffer_param', 'weight_scheme', 'num_output', 'train_ratio', 'sample_method', 'batch_size', 'input_step_day', 'test_step_day', 'verbosity'])"
      ]
     },
     "execution_count": 5,
     "metadata": {},
     "output_type": "execute_result"
    }
   ],
   "source": [
    "a.__dict__.keys()"
   ]
  },
  {
   "cell_type": "code",
   "execution_count": 5,
   "metadata": {},
   "outputs": [],
   "source": [
    "from src.util.loader import Storage"
   ]
  },
  {
   "cell_type": "code",
   "execution_count": 1,
   "metadata": {},
   "outputs": [
    {
     "name": "stdout",
     "output_type": "stream",
     "text": [
      "Use device name: NVIDIA GeForce RTX 4090\n",
      "Load  2 DataBlocks ...... cost 0.11 secs\n",
      "Align 2 DataBlocks ...... cost 0.10 secs\n"
     ]
    }
   ],
   "source": [
    "from scripts.util.data.ModelData import *\n",
    "import os\n",
    "model_data = ModelData('day' , if_train = False)"
   ]
  },
  {
   "cell_type": "code",
   "execution_count": 12,
   "metadata": {},
   "outputs": [],
   "source": [
    "model_path = './model/resnet_gru_30m'\n",
    "model_num  = 0\n",
    "model_param = torch.load(f'{model_path}/model_params.pt')[model_num]\n",
    "model_file = sorted([p for p in os.listdir(f'{model_path}/{model_num}') if p.endswith('swalast.pt')])[-1]\n",
    "model_date = int(model_file.split('.')[0])\n",
    "model = torch.load(f'{model_path}/{model_num}/{model_file}')"
   ]
  },
  {
   "cell_type": "code",
   "execution_count": 3,
   "metadata": {},
   "outputs": [
    {
     "name": "stdout",
     "output_type": "stream",
     "text": [
      "Pre-Norming method of [day] : [endpoint_division(True) , history_standardize(True)]\n"
     ]
    }
   ],
   "source": [
    "dataloader_param = model_data.get_dataloader_param('test' , 'test' , model_date=model_date , param=model_param)   \n",
    "model_data.create_dataloader(*dataloader_param)"
   ]
  },
  {
   "cell_type": "code",
   "execution_count": 11,
   "metadata": {},
   "outputs": [
    {
     "data": {
      "text/plain": [
       "5055"
      ]
     },
     "execution_count": 11,
     "metadata": {},
     "output_type": "execute_result"
    }
   ],
   "source": [
    "assert len(model_data.dataloaders['test']) , len(model_data.dataloaders['test']) \n",
    "batch_data = model_data.dataloaders['test'][-1]\n",
    "date  = model_data.model_test_dates[-1]\n",
    "secid = len(model_data.index[0][batch_data['i'][:,0].cpu().numpy()])\n",
    "pred = model(batch_data['x'])"
   ]
  },
  {
   "cell_type": "code",
   "execution_count": 14,
   "metadata": {},
   "outputs": [],
   "source": [
    "import logging\n",
    "a = logging.getLogger()\n"
   ]
  },
  {
   "cell_type": "code",
   "execution_count": 16,
   "metadata": {},
   "outputs": [
    {
     "data": {
      "text/plain": [
       "logging.RootLogger"
      ]
     },
     "execution_count": 16,
     "metadata": {},
     "output_type": "execute_result"
    }
   ],
   "source": [
    "type(a)"
   ]
  },
  {
   "cell_type": "code",
   "execution_count": 8,
   "metadata": {},
   "outputs": [
    {
     "data": {
      "text/plain": [
       "['./data/minibatch/test/test.0.pt',\n",
       " './data/minibatch/test/test.1.pt',\n",
       " './data/minibatch/test/test.2.pt',\n",
       " './data/minibatch/test/test.3.pt',\n",
       " './data/minibatch/test/test.4.pt',\n",
       " './data/minibatch/test/test.5.pt',\n",
       " './data/minibatch/test/test.6.pt',\n",
       " './data/minibatch/test/test.7.pt',\n",
       " './data/minibatch/test/test.8.pt',\n",
       " './data/minibatch/test/test.9.pt',\n",
       " './data/minibatch/test/test.10.pt',\n",
       " './data/minibatch/test/test.11.pt',\n",
       " './data/minibatch/test/test.12.pt',\n",
       " './data/minibatch/test/test.13.pt',\n",
       " './data/minibatch/test/test.14.pt',\n",
       " './data/minibatch/test/test.15.pt',\n",
       " './data/minibatch/test/test.16.pt',\n",
       " './data/minibatch/test/test.17.pt',\n",
       " './data/minibatch/test/test.18.pt',\n",
       " './data/minibatch/test/test.19.pt',\n",
       " './data/minibatch/test/test.20.pt',\n",
       " './data/minibatch/test/test.21.pt',\n",
       " './data/minibatch/test/test.22.pt',\n",
       " './data/minibatch/test/test.23.pt',\n",
       " './data/minibatch/test/test.24.pt',\n",
       " './data/minibatch/test/test.25.pt',\n",
       " './data/minibatch/test/test.26.pt',\n",
       " './data/minibatch/test/test.27.pt',\n",
       " './data/minibatch/test/test.28.pt',\n",
       " './data/minibatch/test/test.29.pt',\n",
       " './data/minibatch/test/test.30.pt',\n",
       " './data/minibatch/test/test.31.pt',\n",
       " './data/minibatch/test/test.32.pt',\n",
       " './data/minibatch/test/test.33.pt',\n",
       " './data/minibatch/test/test.34.pt',\n",
       " './data/minibatch/test/test.35.pt',\n",
       " './data/minibatch/test/test.36.pt',\n",
       " './data/minibatch/test/test.37.pt',\n",
       " './data/minibatch/test/test.38.pt',\n",
       " './data/minibatch/test/test.39.pt',\n",
       " './data/minibatch/test/test.40.pt',\n",
       " './data/minibatch/test/test.41.pt',\n",
       " './data/minibatch/test/test.42.pt',\n",
       " './data/minibatch/test/test.43.pt',\n",
       " './data/minibatch/test/test.44.pt',\n",
       " './data/minibatch/test/test.45.pt',\n",
       " './data/minibatch/test/test.46.pt',\n",
       " './data/minibatch/test/test.47.pt',\n",
       " './data/minibatch/test/test.48.pt',\n",
       " './data/minibatch/test/test.49.pt',\n",
       " './data/minibatch/test/test.50.pt',\n",
       " './data/minibatch/test/test.51.pt',\n",
       " './data/minibatch/test/test.52.pt',\n",
       " './data/minibatch/test/test.53.pt',\n",
       " './data/minibatch/test/test.54.pt',\n",
       " './data/minibatch/test/test.55.pt',\n",
       " './data/minibatch/test/test.56.pt',\n",
       " './data/minibatch/test/test.57.pt',\n",
       " './data/minibatch/test/test.58.pt',\n",
       " './data/minibatch/test/test.59.pt',\n",
       " './data/minibatch/test/test.60.pt',\n",
       " './data/minibatch/test/test.61.pt',\n",
       " './data/minibatch/test/test.62.pt',\n",
       " './data/minibatch/test/test.63.pt',\n",
       " './data/minibatch/test/test.64.pt',\n",
       " './data/minibatch/test/test.65.pt',\n",
       " './data/minibatch/test/test.66.pt',\n",
       " './data/minibatch/test/test.67.pt']"
      ]
     },
     "execution_count": 8,
     "metadata": {},
     "output_type": "execute_result"
    }
   ],
   "source": [
    "model_data.dataloaders['test'].iterator"
   ]
  }
 ],
 "metadata": {
  "kernelspec": {
   "display_name": "Python 3",
   "language": "python",
   "name": "python3"
  },
  "language_info": {
   "codemirror_mode": {
    "name": "ipython",
    "version": 3
   },
   "file_extension": ".py",
   "mimetype": "text/x-python",
   "name": "python",
   "nbconvert_exporter": "python",
   "pygments_lexer": "ipython3",
   "version": "3.10.12"
  }
 },
 "nbformat": 4,
 "nbformat_minor": 2
}
