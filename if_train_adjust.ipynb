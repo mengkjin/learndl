{
 "cells": [
  {
   "cell_type": "code",
   "execution_count": 1,
   "metadata": {},
   "outputs": [
    {
     "name": "stdout",
     "output_type": "stream",
     "text": [
      "Update Files\n",
      "Mon Apr  1 10:38:36 2024 : Updated ~ data\\DataBase\\DB_information\\calendar.feather Done! Cost 0.08 Secs\n",
      "Mon Apr  1 10:38:36 2024 : Updated ~ data\\DataBase\\DB_information\\description.feather Done! Cost 0.06 Secs\n",
      "Mon Apr  1 10:38:36 2024 : Updated ~ data\\DataBase\\DB_information\\st.feather Done! Cost 0.03 Secs\n",
      "Mon Apr  1 10:38:39 2024 : Updated ~ data\\DataBase\\DB_information\\industry.feather Done! Cost 3.36 Secs\n",
      "Mon Apr  1 10:38:47 2024 : Updated ~ data\\DataBase\\DB_information\\concepts.feather Done! Cost 7.69 Secs\n",
      "Mon Apr  1 10:38:49 2024 : Updated ~ data\\DataBase\\DB_models\\longcl_exp\\2024\\longcl_exp.20240328.feather Done! Cost 0.31 Secs\n",
      "Mon Apr  1 10:38:49 2024 : Updated ~ data\\DataBase\\DB_models\\risk_exp\\2024\\risk_exp.20240329.feather Done! Cost 0.18 Secs\n",
      "Mon Apr  1 10:38:49 2024 : Updated ~ data\\DataBase\\DB_models\\longcl_exp\\2024\\longcl_exp.20240329.feather Done! Cost 0.22 Secs\n",
      "Mon Apr  1 10:38:52 2024 : Updated ~ data\\DataBase\\DB_trade\\day\\2024\\day.20240329.feather Done! Cost 0.07 Secs\n",
      "Mon Apr  1 10:38:53 2024 : Updated ~ data\\DataBase\\DB_trade\\5day\\2024\\5day.20240329.feather Done! Cost 0.30 Secs\n",
      "Mon Apr  1 10:38:53 2024 : Updated ~ data\\DataBase\\DB_trade\\10day\\2024\\10day.20240329.feather Done! Cost 0.57 Secs\n",
      "Mon Apr  1 10:38:54 2024 : Updated ~ data\\DataBase\\DB_trade\\20day\\2024\\20day.20240329.feather Done! Cost 1.02 Secs\n",
      "Mon Apr  1 10:38:58 2024 : Updated ~ data\\DataBase\\DB_trade\\min\\2024\\min.20240329.feather Done! Cost 3.80 Secs\n",
      "Mon Apr  1 10:38:59 2024 : Updated ~ data\\DataBase\\DB_trade\\5min\\2024\\5min.20240329.feather Done! Cost 0.36 Secs\n",
      "Mon Apr  1 10:38:59 2024 : Updated ~ data\\DataBase\\DB_trade\\10min\\2024\\10min.20240329.feather Done! Cost 0.32 Secs\n",
      "Mon Apr  1 10:38:59 2024 : Updated ~ data\\DataBase\\DB_trade\\15min\\2024\\15min.20240329.feather Done! Cost 0.38 Secs\n",
      "Mon Apr  1 10:39:00 2024 : Updated ~ data\\DataBase\\DB_trade\\30min\\2024\\30min.20240329.feather Done! Cost 0.42 Secs\n",
      "Mon Apr  1 10:39:00 2024 : Updated ~ data\\DataBase\\DB_trade\\60min\\2024\\60min.20240329.feather Done! Cost 0.32 Secs\n",
      "Mon Apr  1 10:39:03 2024 : Updated ~ data\\DataBase\\DB_labels\\ret20_lag\\2024\\ret20_lag.20240229.feather Done! Cost 0.70 Secs\n",
      "Mon Apr  1 10:39:04 2024 : Updated ~ data\\DataBase\\DB_labels\\ret20\\2024\\ret20.20240301.feather Done! Cost 0.44 Secs\n",
      "Mon Apr  1 10:39:06 2024 : Updated ~ data\\DataBase\\DB_labels\\ret10_lag\\2024\\ret10_lag.20240314.feather Done! Cost 0.24 Secs\n",
      "Mon Apr  1 10:39:07 2024 : Updated ~ data\\DataBase\\DB_labels\\ret10\\2024\\ret10.20240315.feather Done! Cost 0.29 Secs\n",
      "Mon Apr  1 10:39:09 2024 : Updated ~ data\\DataBase\\DB_labels\\ret5_lag\\2024\\ret5_lag.20240321.feather Done! Cost 0.19 Secs\n",
      "Mon Apr  1 10:39:10 2024 : Updated ~ data\\DataBase\\DB_labels\\ret5\\2024\\ret5.20240322.feather Done! Cost 0.27 Secs\n"
     ]
    },
    {
     "name": "stderr",
     "output_type": "stream",
     "text": [
      "\u001b[1m\u001b[37m\u001b[41m24-04-01 10:39:14|MOD:PreProcess  |\u001b[0m: \u001b[1m\u001b[31mif_train is False , Data Processing start!\u001b[0m\n",
      "\u001b[1m\u001b[37m\u001b[45m24-04-01 10:39:14|MOD:PreProcess  |\u001b[0m: \u001b[1m\u001b[35m3 datas :['y', 'trade_day', 'trade_30m']\u001b[0m\n"
     ]
    },
    {
     "name": "stdout",
     "output_type": "stream",
     "text": [
      "Mon Apr  1 10:39:14 2024 : All Updates Done! Cost 37.99 Secs\n",
      "Mon Apr  1 10:39:14 2024 : y start ...\n",
      "labels blocks reading ret10_lag DataBase's ...... cost 0.64 secs\n",
      "labels blocks reading ret20_lag DataBase's ...... cost 0.57 secs\n",
      "labels blocks merging ...... cost 0.05 secs\n",
      "models blocks reading risk_exp DataBase's ...... cost 2.79 secs\n",
      "models blocks merging ...... cost 0.21 secs\n",
      "y blocks process ...... cost 2.82 secs\n",
      "y blocks masking ...... cost 0.12 secs\n",
      "y blocks saving  ...... cost 0.12 secs\n",
      "y blocks norming ...... cost 0.00 secs\n",
      "Mon Apr  1 10:39:21 2024 : y finished! Cost 7.34 Seconds\n",
      "Mon Apr  1 10:39:21 2024 : trade_day start ...\n",
      "trade blocks reading day DataBase's ...... cost 0.87 secs\n",
      "trade_day blocks merging ...... cost 0.00 secs\n",
      "trade_day blocks process ...... cost 0.05 secs\n",
      "trade_day blocks masking ...... cost 0.07 secs\n",
      "trade_day blocks saving  ...... cost 0.10 secs\n",
      "trade_day blocks norming ...... cost 0.00 secs\n",
      "Mon Apr  1 10:39:22 2024 : trade_day finished! Cost 1.10 Seconds\n",
      "Mon Apr  1 10:39:22 2024 : trade_30m start ...\n",
      "trade blocks reading 30min DataBase's ...... cost 3.15 secs\n",
      "trade_30m blocks merging ...... cost 0.00 secs\n",
      "trade blocks reading day DataBase's ...... cost 0.60 secs\n",
      "trade_day blocks merging ...... cost 0.02 secs\n",
      "trade_30m blocks process ...... cost 0.82 secs\n",
      "trade_30m blocks masking ...... cost 0.07 secs\n",
      "trade_30m blocks saving  ..."
     ]
    },
    {
     "name": "stderr",
     "output_type": "stream",
     "text": [
      "\u001b[1m\u001b[37m\u001b[41m24-04-01 10:39:28|MOD:PreProcess  |\u001b[0m: \u001b[1m\u001b[31mData Processing Finished! Cost 14.23 Seconds\u001b[0m\n"
     ]
    },
    {
     "name": "stdout",
     "output_type": "stream",
     "text": [
      "... cost 0.87 secs\n",
      "trade_30m blocks norming ...... cost 0.00 secs\n",
      "Mon Apr  1 10:39:28 2024 : trade_30m finished! Cost 5.53 Seconds\n"
     ]
    }
   ],
   "source": [
    "import src.data as data\n",
    "\n",
    "data.DataFetcher.main()\n",
    "data.PreProcess.main(False)"
   ]
  },
  {
   "cell_type": "code",
   "execution_count": null,
   "metadata": {},
   "outputs": [],
   "source": [
    "from run_model import predict\n",
    "from src.func import date as date\n",
    "df = predict('gru_day' , model_num = 0)\n",
    "df[df['pred_date'] >= date.today(-10)].pivot_table(values = 'gru_day' , index = 'secid' , columns = 'date').fillna(0).corr()"
   ]
  },
  {
   "cell_type": "code",
   "execution_count": 17,
   "metadata": {},
   "outputs": [
    {
     "data": {
      "text/plain": [
       "20170104"
      ]
     },
     "execution_count": 17,
     "metadata": {},
     "output_type": "execute_result"
    }
   ],
   "source": [
    "i"
   ]
  },
  {
   "cell_type": "code",
   "execution_count": null,
   "metadata": {},
   "outputs": [],
   "source": []
  },
  {
   "cell_type": "code",
   "execution_count": 10,
   "metadata": {},
   "outputs": [],
   "source": [
    "import os\n",
    "import pandas as pd\n",
    "\n",
    "from dataclasses import dataclass , field   \n",
    "from typing import Any , Literal , ClassVar\n",
    "\n",
    "@dataclass\n",
    "class DeployModelPred:\n",
    "    model_name : str\n",
    "    model_type : Literal['best' , 'swalast' , 'swabest'] = 'swalast'\n",
    "    model_num  : int = 0\n",
    "    alias : str | None = None\n",
    "\n",
    "    destination : ClassVar[str] = '//hfm-pubshare/HFM各部门共享/量化投资部/龙昌伦/Alpha'\n",
    "\n",
    "    def __post_init__(self):\n",
    "        if self.alias is None: self.alias = self.model_name\n",
    "\n",
    "    def deploy(self , df : pd.DataFrame , secid_col = 'secid' , date_col = 'date'):\n",
    "        os.makedirs(f'{self.destination}/{self.alias}' , exist_ok=True)\n",
    "        for date , subdf in df.groupby(date_col):\n",
    "            path = f'{self.destination}/{self.alias}/{self.alias}_{date}.txt'\n",
    "            subdf.drop(columns='date').set_index(secid_col).to_csv(path, sep='\\t', index=True, header=False)\n",
    "\n",
    "\n",
    "deploy_list = [\n",
    "    DeployModelPred('gru_day' , 'swalast' , 0 , 'gru_day_V0')\n",
    "]\n"
   ]
  },
  {
   "cell_type": "code",
   "execution_count": 11,
   "metadata": {},
   "outputs": [],
   "source": [
    "import pandas as pd\n",
    "df = pd.read_feather('gru_day_preds.feather')\n",
    "deploy_list[0].deploy(df)"
   ]
  },
  {
   "cell_type": "code",
   "execution_count": 12,
   "metadata": {},
   "outputs": [
    {
     "data": {
      "text/html": [
       "<div>\n",
       "<style scoped>\n",
       "    .dataframe tbody tr th:only-of-type {\n",
       "        vertical-align: middle;\n",
       "    }\n",
       "\n",
       "    .dataframe tbody tr th {\n",
       "        vertical-align: top;\n",
       "    }\n",
       "\n",
       "    .dataframe thead th {\n",
       "        text-align: right;\n",
       "    }\n",
       "</style>\n",
       "<table border=\"1\" class=\"dataframe\">\n",
       "  <thead>\n",
       "    <tr style=\"text-align: right;\">\n",
       "      <th></th>\n",
       "      <th>secid</th>\n",
       "      <th>date</th>\n",
       "      <th>gru_day</th>\n",
       "    </tr>\n",
       "  </thead>\n",
       "  <tbody>\n",
       "    <tr>\n",
       "      <th>0</th>\n",
       "      <td>1</td>\n",
       "      <td>20170104</td>\n",
       "      <td>-0.676739</td>\n",
       "    </tr>\n",
       "    <tr>\n",
       "      <th>1</th>\n",
       "      <td>2</td>\n",
       "      <td>20170104</td>\n",
       "      <td>0.246266</td>\n",
       "    </tr>\n",
       "    <tr>\n",
       "      <th>2</th>\n",
       "      <td>4</td>\n",
       "      <td>20170104</td>\n",
       "      <td>0.765674</td>\n",
       "    </tr>\n",
       "    <tr>\n",
       "      <th>3</th>\n",
       "      <td>5</td>\n",
       "      <td>20170104</td>\n",
       "      <td>-1.278355</td>\n",
       "    </tr>\n",
       "    <tr>\n",
       "      <th>4</th>\n",
       "      <td>6</td>\n",
       "      <td>20170104</td>\n",
       "      <td>-3.938847</td>\n",
       "    </tr>\n",
       "    <tr>\n",
       "      <th>...</th>\n",
       "      <td>...</td>\n",
       "      <td>...</td>\n",
       "      <td>...</td>\n",
       "    </tr>\n",
       "    <tr>\n",
       "      <th>5088</th>\n",
       "      <td>688799</td>\n",
       "      <td>20240313</td>\n",
       "      <td>2.169616</td>\n",
       "    </tr>\n",
       "    <tr>\n",
       "      <th>5089</th>\n",
       "      <td>688800</td>\n",
       "      <td>20240313</td>\n",
       "      <td>1.703681</td>\n",
       "    </tr>\n",
       "    <tr>\n",
       "      <th>5090</th>\n",
       "      <td>688819</td>\n",
       "      <td>20240313</td>\n",
       "      <td>0.466089</td>\n",
       "    </tr>\n",
       "    <tr>\n",
       "      <th>5091</th>\n",
       "      <td>688981</td>\n",
       "      <td>20240313</td>\n",
       "      <td>1.229148</td>\n",
       "    </tr>\n",
       "    <tr>\n",
       "      <th>5092</th>\n",
       "      <td>689009</td>\n",
       "      <td>20240313</td>\n",
       "      <td>0.592443</td>\n",
       "    </tr>\n",
       "  </tbody>\n",
       "</table>\n",
       "<p>6964652 rows × 3 columns</p>\n",
       "</div>"
      ],
      "text/plain": [
       "       secid      date   gru_day\n",
       "0          1  20170104 -0.676739\n",
       "1          2  20170104  0.246266\n",
       "2          4  20170104  0.765674\n",
       "3          5  20170104 -1.278355\n",
       "4          6  20170104 -3.938847\n",
       "...      ...       ...       ...\n",
       "5088  688799  20240313  2.169616\n",
       "5089  688800  20240313  1.703681\n",
       "5090  688819  20240313  0.466089\n",
       "5091  688981  20240313  1.229148\n",
       "5092  689009  20240313  0.592443\n",
       "\n",
       "[6964652 rows x 3 columns]"
      ]
     },
     "execution_count": 12,
     "metadata": {},
     "output_type": "execute_result"
    }
   ],
   "source": [
    "df"
   ]
  }
 ],
 "metadata": {
  "kernelspec": {
   "display_name": "Python 3",
   "language": "python",
   "name": "python3"
  },
  "language_info": {
   "codemirror_mode": {
    "name": "ipython",
    "version": 3
   },
   "file_extension": ".py",
   "mimetype": "text/x-python",
   "name": "python",
   "nbconvert_exporter": "python",
   "pygments_lexer": "ipython3",
   "version": "3.11.8"
  }
 },
 "nbformat": 4,
 "nbformat_minor": 2
}
