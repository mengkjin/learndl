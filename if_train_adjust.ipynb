{
 "cells": [
  {
   "cell_type": "code",
   "execution_count": 1,
   "metadata": {},
   "outputs": [
    {
     "name": "stdout",
     "output_type": "stream",
     "text": [
      "/home/mengkjin/Workspace/learndl\n",
      "Use device name: NVIDIA GeForce RTX 4090\n"
     ]
    },
    {
     "ename": "FileNotFoundError",
     "evalue": "[Errno 2] No such file or directory: '/home/mengkjin/Workspace/learndl/../configs/config_logger.yaml'",
     "output_type": "error",
     "traceback": [
      "\u001b[0;31m---------------------------------------------------------------------------\u001b[0m",
      "\u001b[0;31mFileNotFoundError\u001b[0m                         Traceback (most recent call last)",
      "Cell \u001b[0;32mIn[1], line 1\u001b[0m\n\u001b[0;32m----> 1\u001b[0m \u001b[38;5;28;01mimport\u001b[39;00m \u001b[38;5;21;01msrc\u001b[39;00m\u001b[38;5;21;01m.\u001b[39;00m\u001b[38;5;21;01menviron\u001b[39;00m\n",
      "File \u001b[0;32m~/Workspace/learndl/src/__init__.py:1\u001b[0m\n\u001b[0;32m----> 1\u001b[0m \u001b[38;5;28;01mfrom\u001b[39;00m \u001b[38;5;21;01m.\u001b[39;00m \u001b[38;5;28;01mimport\u001b[39;00m (\n\u001b[1;32m      2\u001b[0m     util , func , factor , boost , model , data\n\u001b[1;32m      3\u001b[0m )\n",
      "File \u001b[0;32m~/Workspace/learndl/src/factor/__init__.py:1\u001b[0m\n\u001b[0;32m----> 1\u001b[0m \u001b[38;5;28;01mfrom\u001b[39;00m \u001b[38;5;21;01m.\u001b[39;00m \u001b[38;5;28;01mimport\u001b[39;00m (\n\u001b[1;32m      2\u001b[0m     top_similarity\n\u001b[1;32m      3\u001b[0m )\n",
      "File \u001b[0;32m~/Workspace/learndl/src/factor/top_similarity.py:17\u001b[0m\n\u001b[1;32m     13\u001b[0m \u001b[38;5;66;03m#from ..function.basic import *\u001b[39;00m\n\u001b[1;32m     15\u001b[0m \u001b[38;5;28;01mfrom\u001b[39;00m \u001b[38;5;21;01m.\u001b[39;00m\u001b[38;5;21;01m.\u001b[39;00m\u001b[38;5;21;01menviron\u001b[39;00m \u001b[38;5;28;01mimport\u001b[39;00m DIR_data\n\u001b[0;32m---> 17\u001b[0m logger \u001b[38;5;241m=\u001b[39m \u001b[43mLogger\u001b[49m\u001b[43m(\u001b[49m\u001b[43m)\u001b[49m\n\u001b[1;32m     18\u001b[0m path_port  \u001b[38;5;241m=\u001b[39m \u001b[38;5;124mf\u001b[39m\u001b[38;5;124m'\u001b[39m\u001b[38;5;132;01m{\u001b[39;00mDIR_data\u001b[38;5;132;01m}\u001b[39;00m\u001b[38;5;124m/fund_stock_port.h5\u001b[39m\u001b[38;5;124m'\u001b[39m\n\u001b[1;32m     19\u001b[0m path_trade \u001b[38;5;241m=\u001b[39m \u001b[38;5;124mf\u001b[39m\u001b[38;5;124m'\u001b[39m\u001b[38;5;132;01m{\u001b[39;00mDIR_data\u001b[38;5;132;01m}\u001b[39;00m\u001b[38;5;124m/DB_trade_day.h5\u001b[39m\u001b[38;5;124m'\u001b[39m\n",
      "File \u001b[0;32m~/Workspace/learndl/src/util/logger.py:11\u001b[0m, in \u001b[0;36mLogger.__new__\u001b[0;34m(cls)\u001b[0m\n\u001b[1;32m     10\u001b[0m \u001b[38;5;28;01mdef\u001b[39;00m \u001b[38;5;21m__new__\u001b[39m(\u001b[38;5;28mcls\u001b[39m):\n\u001b[0;32m---> 11\u001b[0m     \u001b[38;5;28;01mreturn\u001b[39;00m \u001b[38;5;28;43mcls\u001b[39;49m\u001b[38;5;241;43m.\u001b[39;49m\u001b[43m_init_logger\u001b[49m\u001b[43m(\u001b[49m\u001b[43m)\u001b[49m\n",
      "File \u001b[0;32m~/Workspace/learndl/src/util/logger.py:15\u001b[0m, in \u001b[0;36mLogger._init_logger\u001b[0;34m(test_output)\u001b[0m\n\u001b[1;32m     13\u001b[0m \u001b[38;5;129m@staticmethod\u001b[39m\n\u001b[1;32m     14\u001b[0m \u001b[38;5;28;01mdef\u001b[39;00m \u001b[38;5;21m_init_logger\u001b[39m(test_output \u001b[38;5;241m=\u001b[39m \u001b[38;5;28;01mFalse\u001b[39;00m):\n\u001b[0;32m---> 15\u001b[0m     \u001b[38;5;28;01mwith\u001b[39;00m \u001b[38;5;28;43mopen\u001b[39;49m\u001b[43m(\u001b[49m\u001b[38;5;124;43mf\u001b[39;49m\u001b[38;5;124;43m'\u001b[39;49m\u001b[38;5;132;43;01m{\u001b[39;49;00m\u001b[43mDIR_conf\u001b[49m\u001b[38;5;132;43;01m}\u001b[39;49;00m\u001b[38;5;124;43m/config_logger.yaml\u001b[39;49m\u001b[38;5;124;43m'\u001b[39;49m\u001b[43m \u001b[49m\u001b[43m,\u001b[49m\u001b[38;5;124;43m'\u001b[39;49m\u001b[38;5;124;43mr\u001b[39;49m\u001b[38;5;124;43m'\u001b[39;49m\u001b[43m)\u001b[49m \u001b[38;5;28;01mas\u001b[39;00m f:\n\u001b[1;32m     16\u001b[0m         config_logger \u001b[38;5;241m=\u001b[39m yaml\u001b[38;5;241m.\u001b[39mload(f , Loader \u001b[38;5;241m=\u001b[39m yaml\u001b[38;5;241m.\u001b[39mFullLoader)\n\u001b[1;32m     17\u001b[0m     config_logger[\u001b[38;5;124m'\u001b[39m\u001b[38;5;124mfile\u001b[39m\u001b[38;5;124m'\u001b[39m][\u001b[38;5;124m'\u001b[39m\u001b[38;5;124mparam\u001b[39m\u001b[38;5;124m'\u001b[39m][\u001b[38;5;124m'\u001b[39m\u001b[38;5;124mfilename\u001b[39m\u001b[38;5;124m'\u001b[39m] \u001b[38;5;241m=\u001b[39m \u001b[38;5;124m'\u001b[39m\u001b[38;5;124m/\u001b[39m\u001b[38;5;124m'\u001b[39m\u001b[38;5;241m.\u001b[39mjoin([DIR_logs,config_logger[\u001b[38;5;124m'\u001b[39m\u001b[38;5;124mfile\u001b[39m\u001b[38;5;124m'\u001b[39m][\u001b[38;5;124m'\u001b[39m\u001b[38;5;124mparam\u001b[39m\u001b[38;5;124m'\u001b[39m][\u001b[38;5;124m'\u001b[39m\u001b[38;5;124mfilename\u001b[39m\u001b[38;5;124m'\u001b[39m]])\n",
      "\u001b[0;31mFileNotFoundError\u001b[0m: [Errno 2] No such file or directory: '/home/mengkjin/Workspace/learndl/../configs/config_logger.yaml'"
     ]
    }
   ],
   "source": [
    "import src.environ"
   ]
  },
  {
   "cell_type": "code",
   "execution_count": null,
   "metadata": {},
   "outputs": [],
   "source": []
  },
  {
   "cell_type": "code",
   "execution_count": 1,
   "metadata": {},
   "outputs": [
    {
     "name": "stderr",
     "output_type": "stream",
     "text": [
      "\u001b[1m\u001b[37m\u001b[41m24-03-25 16:38:12|MOD:data_preprocessing|\u001b[0m: \u001b[1m\u001b[31mif_train is False , Data Processing start!\u001b[0m\n",
      "\u001b[1m\u001b[37m\u001b[45m24-03-25 16:38:12|MOD:data_preprocessing|\u001b[0m: \u001b[1m\u001b[35m3 datas :['y', 'trade_day', 'trade_30m']\u001b[0m\n"
     ]
    },
    {
     "name": "stdout",
     "output_type": "stream",
     "text": [
      "Mon Mar 25 16:38:12 2024 : y start ...\n",
      "labels blocks reading 10days/lag1 Data1D's ...... cost 0.26 secs\n",
      "labels blocks reading 20days/lag1 Data1D's ...... cost 0.20 secs\n",
      "labels blocks merging ...... cost 0.05 secs\n",
      "models blocks reading risk_model/exposure Data1D's ...... cost 1.43 secs\n",
      "models blocks merging ...... cost 0.00 secs\n",
      "y blocks process ...... cost 2.27 secs\n",
      "y blocks masking ...... cost 0.11 secs\n",
      "y blocks saving  ...... cost 0.09 secs\n",
      "y blocks norming ...... cost 0.00 secs\n",
      "Mon Mar 25 16:38:17 2024 : y finished! Cost 4.80 Seconds\n",
      "Mon Mar 25 16:38:17 2024 : trade_day start ...\n",
      "trade_day blocks reading day/trade Data1D's ...... cost 0.44 secs\n",
      "trade_day blocks merging ...... cost 0.00 secs\n",
      "trade_day blocks process ...... cost 0.13 secs\n",
      "trade_day blocks masking ...... cost 0.09 secs\n",
      "trade_day blocks saving  ...... cost 0.10 secs\n",
      "trade_day blocks norming ...... cost 0.00 secs\n",
      "Mon Mar 25 16:38:18 2024 : trade_day finished! Cost 0.77 Seconds\n",
      "Mon Mar 25 16:38:18 2024 : trade_30m start ...\n",
      "trade_Xmin blocks reading 30min/trade Data1D's ...... cost 22.19 secs\n",
      "trade_30m blocks merging ...... cost 0.00 secs\n",
      "trade_day blocks reading day/trade Data1D's ...... cost 0.32 secs\n",
      "trade_day blocks merging ...... cost 0.00 secs\n",
      "trade_30m blocks process ...... cost 0.87 secs\n",
      "trade_30m blocks masking ...... cost 0.10 secs\n",
      "trade_30m blocks saving  ..."
     ]
    },
    {
     "name": "stderr",
     "output_type": "stream",
     "text": [
      "\u001b[1m\u001b[37m\u001b[41m24-03-25 16:38:42|MOD:data_preprocessing|\u001b[0m: \u001b[1m\u001b[31mData Processing Finished! Cost 30.18 Seconds\u001b[0m\n"
     ]
    },
    {
     "name": "stdout",
     "output_type": "stream",
     "text": [
      "... cost 0.83 secs\n",
      "trade_30m blocks norming ...... cost 0.00 secs\n",
      "Mon Mar 25 16:38:42 2024 : trade_30m finished! Cost 24.35 Seconds\n",
      "Load  2 DataBlocks ...... cost 0.06 secs\n",
      "Align 2 DataBlocks ...... cost 0.12 secs\n"
     ]
    }
   ],
   "source": [
    "from run_model import predict_new\n"
   ]
  },
  {
   "cell_type": "code",
   "execution_count": 9,
   "metadata": {},
   "outputs": [
    {
     "name": "stdout",
     "output_type": "stream",
     "text": [
      "Load  2 DataBlocks ...... cost 0.05 secs\n",
      "Align 2 DataBlocks ...... cost 0.10 secs\n"
     ]
    }
   ],
   "source": [
    "predict_new(model_path = './model/gru_day' , model_num = 0)"
   ]
  },
  {
   "cell_type": "code",
   "execution_count": 19,
   "metadata": {},
   "outputs": [],
   "source": []
  }
 ],
 "metadata": {
  "kernelspec": {
   "display_name": "Python 3",
   "language": "python",
   "name": "python3"
  },
  "language_info": {
   "codemirror_mode": {
    "name": "ipython",
    "version": 3
   },
   "file_extension": ".py",
   "mimetype": "text/x-python",
   "name": "python",
   "nbconvert_exporter": "python",
   "pygments_lexer": "ipython3",
   "version": "3.10.12"
  }
 },
 "nbformat": 4,
 "nbformat_minor": 2
}
