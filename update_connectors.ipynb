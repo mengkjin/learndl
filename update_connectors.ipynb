{
 "cells": [
  {
   "cell_type": "code",
   "execution_count": 1,
   "metadata": {},
   "outputs": [
    {
     "name": "stdout",
     "output_type": "stream",
     "text": [
      "haitong/hf_factors\n",
      "since 20231212 to 20231216, total 1 periods(Q)\n",
      "Sat Dec 16 15:26:50 2023 : haitong:hf_factors:202312                    \n",
      "\n",
      "haitong/dl_factors\n",
      "since 20231207 to 20231216, total 1 periods(Q)\n",
      "Sat Dec 16 15:27:34 2023 : haitong:dl_factors:202312                    \n",
      "\n",
      "dongfang/hfq_chars\n",
      "since 20231208 to 20231216, total 1 periods(Q)\n",
      "Sat Dec 16 15:27:44 2023 : dongfang:hfq_chars:202312                    \n",
      "\n",
      "dongfang/l2_chars\n",
      "since 20231208 to 20231216, total 1 periods(Q)\n",
      "Sat Dec 16 15:28:59 2023 : dongfang:l2_chars:202312                    \n",
      "\n",
      "dongfang/ms_chars\n",
      "since 20231208 to 20231216, total 1 periods(Q)\n",
      "Sat Dec 16 15:30:54 2023 : dongfang:ms_chars:202312                    \n",
      "\n",
      "dongfang/order_flow\n",
      "since 20231208 to 20231216, total 1 periods(Q)\n",
      "Sat Dec 16 15:30:59 2023 : dongfang:order_flow:202312                    \n",
      "\n",
      "dongfang/gp\n",
      "since 20231207 to 20231216, total 1 periods(Q)\n",
      "Sat Dec 16 15:31:01 2023 : dongfang:gp:202312                    \n",
      "\n",
      "dongfang/tra\n",
      "since 20231207 to 20231216, total 1 periods(Q)\n",
      "Sat Dec 16 15:31:03 2023 : dongfang:tra:202312                    \n",
      "\n",
      "kaiyuan/positive\n",
      "since 20230901 to 20231216, total 1 periods(Q)\n",
      "Sat Dec 16 15:31:09 2023 : kaiyuan:positive:202309                    \n",
      "\n",
      "kaiyuan/negative\n",
      "since 20230801 to 20231216, total 1 periods(Q)\n",
      "Sat Dec 16 15:31:13 2023 : kaiyuan:negative:202308                    \n",
      "\n",
      "├── dongfang <HDF5 group \"/dongfang\" (6 members)>\n",
      "│   ├── gp <HDF5 group \"/dongfang/gp\" (1691 members)>\n",
      "│   │   ├── 20170103 <HDF5 group \"/dongfang/gp/20170103\" (3 members)> (feature, secid, values)\n",
      "│   │   ├── 20170104 <HDF5 group \"/dongfang/gp/20170104\" (3 members)> (feature, secid, values)\n",
      "│   │   ├── ...... omitting 1687 memebers\n",
      "│   │   ├── 20231214 <HDF5 group \"/dongfang/gp/20231214\" (3 members)> (feature, secid, values)\n",
      "│   │   └── 20231215 <HDF5 group \"/dongfang/gp/20231215\" (3 members)> (feature, secid, values)\n",
      "│   ├── hfq_chars <HDF5 group \"/dongfang/hfq_chars\" (4606 members)>\n",
      "│   │   ├── 20050104 <HDF5 group \"/dongfang/hfq_chars/20050104\" (2 members)> (feature, secid)\n",
      "│   │   ├── 20050105 <HDF5 group \"/dongfang/hfq_chars/20050105\" (3 members)> (feature, secid, values)\n",
      "│   │   ├── ...... omitting 4602 memebers\n",
      "│   │   ├── 20231214 <HDF5 group \"/dongfang/hfq_chars/20231214\" (3 members)> (feature, secid, values)\n",
      "│   │   └── 20231215 <HDF5 group \"/dongfang/hfq_chars/20231215\" (3 members)> (feature, secid, values)\n",
      "│   ├── l2_chars <HDF5 group \"/dongfang/l2_chars\" (2485 members)>\n",
      "│   │   ├── 20130930 <HDF5 group \"/dongfang/l2_chars/20130930\" (3 members)> (feature, secid, values)\n",
      "│   │   ├── 20131008 <HDF5 group \"/dongfang/l2_chars/20131008\" (3 members)> (feature, secid, values)\n",
      "│   │   ├── ...... omitting 2481 memebers\n",
      "│   │   ├── 20231214 <HDF5 group \"/dongfang/l2_chars/20231214\" (3 members)> (feature, secid, values)\n",
      "│   │   └── 20231215 <HDF5 group \"/dongfang/l2_chars/20231215\" (3 members)> (feature, secid, values)\n",
      "│   ├── ms_chars <HDF5 group \"/dongfang/ms_chars\" (4606 members)>\n",
      "│   │   ├── 20050104 <HDF5 group \"/dongfang/ms_chars/20050104\" (3 members)> (feature, secid, values)\n",
      "│   │   ├── 20050105 <HDF5 group \"/dongfang/ms_chars/20050105\" (3 members)> (feature, secid, values)\n",
      "│   │   ├── ...... omitting 4602 memebers\n",
      "│   │   ├── 20231214 <HDF5 group \"/dongfang/ms_chars/20231214\" (3 members)> (feature, secid, values)\n",
      "│   │   └── 20231215 <HDF5 group \"/dongfang/ms_chars/20231215\" (3 members)> (feature, secid, values)\n",
      "│   ├── order_flow <HDF5 group \"/dongfang/order_flow\" (2486 members)>\n",
      "│   │   ├── 20130930 <HDF5 group \"/dongfang/order_flow/20130930\" (3 members)> (feature, secid, values)\n",
      "│   │   ├── 20131008 <HDF5 group \"/dongfang/order_flow/20131008\" (3 members)> (feature, secid, values)\n",
      "│   │   ├── ...... omitting 2482 memebers\n",
      "│   │   ├── 20231214 <HDF5 group \"/dongfang/order_flow/20231214\" (3 members)> (feature, secid, values)\n",
      "│   │   └── 20231215 <HDF5 group \"/dongfang/order_flow/20231215\" (3 members)> (feature, secid, values)\n",
      "│   └── tra <HDF5 group \"/dongfang/tra\" (960 members)>\n",
      "│       ├── 20200102 <HDF5 group \"/dongfang/tra/20200102\" (3 members)> (feature, secid, values)\n",
      "│       ├── 20200103 <HDF5 group \"/dongfang/tra/20200103\" (3 members)> (feature, secid, values)\n",
      "│       ├── ...... omitting 956 memebers\n",
      "│       ├── 20231214 <HDF5 group \"/dongfang/tra/20231214\" (3 members)> (feature, secid, values)\n",
      "│       └── 20231215 <HDF5 group \"/dongfang/tra/20231215\" (3 members)> (feature, secid, values)\n",
      "├── haitong <HDF5 group \"/haitong\" (2 members)>\n",
      "│   ├── dl_factors <HDF5 group \"/haitong/dl_factors\" (1692 members)>\n",
      "│   │   ├── 20161230 <HDF5 group \"/haitong/dl_factors/20161230\" (3 members)> (feature, secid, values)\n",
      "│   │   ├── 20170103 <HDF5 group \"/haitong/dl_factors/20170103\" (3 members)> (feature, secid, values)\n",
      "│   │   ├── ...... omitting 1688 memebers\n",
      "│   │   ├── 20231214 <HDF5 group \"/haitong/dl_factors/20231214\" (3 members)> (feature, secid, values)\n",
      "│   │   └── 20231215 <HDF5 group \"/haitong/dl_factors/20231215\" (3 members)> (feature, secid, values)\n",
      "│   └── hf_factors <HDF5 group \"/haitong/hf_factors\" (2662 members)>\n",
      "│       ├── 20130104 <HDF5 group \"/haitong/hf_factors/20130104\" (3 members)> (feature, secid, values)\n",
      "│       ├── 20130107 <HDF5 group \"/haitong/hf_factors/20130107\" (3 members)> (feature, secid, values)\n",
      "│       ├── ...... omitting 2658 memebers\n",
      "│       ├── 20231214 <HDF5 group \"/haitong/hf_factors/20231214\" (3 members)> (feature, secid, values)\n",
      "│       └── 20231215 <HDF5 group \"/haitong/hf_factors/20231215\" (3 members)> (feature, secid, values)\n",
      "└── kaiyuan <HDF5 group \"/kaiyuan\" (2 members)>\n",
      "    ├── negative <HDF5 group \"/kaiyuan/negative\" (119 members)>\n",
      "    │   ├── 20140130 <HDF5 group \"/kaiyuan/negative/20140130\" (3 members)> (feature, secid, values)\n",
      "    │   ├── 20140228 <HDF5 group \"/kaiyuan/negative/20140228\" (3 members)> (feature, secid, values)\n",
      "    │   ├── ...... omitting 115 memebers\n",
      "    │   ├── 20231031 <HDF5 group \"/kaiyuan/negative/20231031\" (3 members)> (feature, secid, values)\n",
      "    │   └── 20231130 <HDF5 group \"/kaiyuan/negative/20231130\" (3 members)> (feature, secid, values)\n",
      "    └── positive <HDF5 group \"/kaiyuan/positive\" (156 members)>\n",
      "        ├── 20140130 <HDF5 group \"/kaiyuan/positive/20140130\" (3 members)> (feature, secid, values)\n",
      "        ├── 20140228 <HDF5 group \"/kaiyuan/positive/20140228\" (3 members)> (feature, secid, values)\n",
      "        ├── ...... omitting 152 memebers\n",
      "        ├── 20231031 <HDF5 group \"/kaiyuan/positive/20231031\" (3 members)> (feature, secid, values)\n",
      "        └── 20231130 <HDF5 group \"/kaiyuan/positive/20231130\" (3 members)> (feature, secid, values)\n"
     ]
    }
   ],
   "source": [
    "from scripts.data_utils.sqlConnector import online_sql_connector , update_connector\n",
    "update_connector(path = './data/DB_3rdPartySQL.h5' , connector = online_sql_connector() , trace = 4)\n"
   ]
  },
  {
   "cell_type": "code",
   "execution_count": 5,
   "metadata": {},
   "outputs": [
    {
     "data": {
      "text/plain": [
       "<HDF5 group \"/haitong/hf_factors/20231213\" (3 members)>"
      ]
     },
     "execution_count": 5,
     "metadata": {},
     "output_type": "execute_result"
    }
   ],
   "source": [
    "from scripts.data_utils.DataTank import DataTank , Data1D\n",
    "dtank = DataTank('./data/DB_3rdPartySQL.h5' , open=True , mode = 'r')\n",
    "g = dtank.get_object('haitong/hf_factors/20231213')\n",
    "g"
   ]
  }
 ],
 "metadata": {
  "kernelspec": {
   "display_name": "Python 3",
   "language": "python",
   "name": "python3"
  },
  "language_info": {
   "codemirror_mode": {
    "name": "ipython",
    "version": 3
   },
   "file_extension": ".py",
   "mimetype": "text/x-python",
   "name": "python",
   "nbconvert_exporter": "python",
   "pygments_lexer": "ipython3",
   "version": "3.10.12"
  }
 },
 "nbformat": 4,
 "nbformat_minor": 2
}
