{
 "cells": [
  {
   "cell_type": "code",
   "execution_count": 1,
   "metadata": {},
   "outputs": [
    {
     "name": "stdout",
     "output_type": "stream",
     "text": [
      "Sat Jan 27 23:37:28 2024 : haitong/hf_factors since 20240106 to 20240127, total 1 periods(Q)\n",
      "Sat Jan 27 23:37:37 2024 : haitong/dl_factors since 20240106 to 20240127, total 1 periods(Q)\n",
      "Sat Jan 27 23:38:24 2024 : dongfang/hfq_chars since 20240106 to 20240127, total 1 periods(Q)\n",
      "Sat Jan 27 23:38:42 2024 : dongfang/l2_chars since 20240106 to 20240127, total 1 periods(Q)\n",
      "Sat Jan 27 23:40:27 2024 : dongfang/ms_chars since 20240106 to 20240127, total 1 periods(Q)\n",
      "Sat Jan 27 23:43:03 2024 : dongfang/order_flow since 20240106 to 20240127, total 1 periods(Q)\n",
      "Sat Jan 27 23:43:12 2024 : dongfang/gp since 20240106 to 20240127, total 1 periods(Q)\n",
      "Sat Jan 27 23:43:15 2024 : dongfang/tra since 20240106 to 20240127, total 1 periods(Q)\n",
      "Sat Jan 27 23:43:20 2024 : dongfang/scores_v0 since 20240106 to 20240127, total 1 periods(Q)\n",
      "Sat Jan 27 23:43:22 2024 : kaiyuan/positive since 20240101 to 20240127, total 1 periods(Q)\n",
      "Sat Jan 27 23:43:27 2024 : kaiyuan/negative since 20231230 to 20240127, total 1 periods(Q)\n",
      "├── dongfang <HDF5 group \"/dongfang\" (7 members)>\n",
      "│   ├── gp <HDF5 group \"/dongfang/gp\" (19 members)>\n",
      "│   │   ├── 20240102 <HDF5 group \"/dongfang/gp/20240102\" (3 members)> (feature, secid, values)\n",
      "│   │   ├── 20240103 <HDF5 group \"/dongfang/gp/20240103\" (3 members)> (feature, secid, values)\n",
      "│   │   ├── ...... omitting 15 memebers\n",
      "│   │   ├── 20240125 <HDF5 group \"/dongfang/gp/20240125\" (3 members)> (feature, secid, values)\n",
      "│   │   └── 20240126 <HDF5 group \"/dongfang/gp/20240126\" (3 members)> (feature, secid, values)\n",
      "│   ├── hfq_chars <HDF5 group \"/dongfang/hfq_chars\" (19 members)>\n",
      "│   │   ├── 20240102 <HDF5 group \"/dongfang/hfq_chars/20240102\" (3 members)> (feature, secid, values)\n",
      "│   │   ├── 20240103 <HDF5 group \"/dongfang/hfq_chars/20240103\" (3 members)> (feature, secid, values)\n",
      "│   │   ├── ...... omitting 15 memebers\n",
      "│   │   ├── 20240125 <HDF5 group \"/dongfang/hfq_chars/20240125\" (3 members)> (feature, secid, values)\n",
      "│   │   └── 20240126 <HDF5 group \"/dongfang/hfq_chars/20240126\" (3 members)> (feature, secid, values)\n",
      "│   ├── l2_chars <HDF5 group \"/dongfang/l2_chars\" (19 members)>\n",
      "│   │   ├── 20240102 <HDF5 group \"/dongfang/l2_chars/20240102\" (3 members)> (feature, secid, values)\n",
      "│   │   ├── 20240103 <HDF5 group \"/dongfang/l2_chars/20240103\" (3 members)> (feature, secid, values)\n",
      "│   │   ├── ...... omitting 15 memebers\n",
      "│   │   ├── 20240125 <HDF5 group \"/dongfang/l2_chars/20240125\" (3 members)> (feature, secid, values)\n",
      "│   │   └── 20240126 <HDF5 group \"/dongfang/l2_chars/20240126\" (3 members)> (feature, secid, values)\n",
      "│   ├── ms_chars <HDF5 group \"/dongfang/ms_chars\" (19 members)>\n",
      "│   │   ├── 20240102 <HDF5 group \"/dongfang/ms_chars/20240102\" (3 members)> (feature, secid, values)\n",
      "│   │   ├── 20240103 <HDF5 group \"/dongfang/ms_chars/20240103\" (3 members)> (feature, secid, values)\n",
      "│   │   ├── ...... omitting 15 memebers\n",
      "│   │   ├── 20240125 <HDF5 group \"/dongfang/ms_chars/20240125\" (3 members)> (feature, secid, values)\n",
      "│   │   └── 20240126 <HDF5 group \"/dongfang/ms_chars/20240126\" (3 members)> (feature, secid, values)\n",
      "│   ├── order_flow <HDF5 group \"/dongfang/order_flow\" (19 members)>\n",
      "│   │   ├── 20240102 <HDF5 group \"/dongfang/order_flow/20240102\" (3 members)> (feature, secid, values)\n",
      "│   │   ├── 20240103 <HDF5 group \"/dongfang/order_flow/20240103\" (3 members)> (feature, secid, values)\n",
      "│   │   ├── ...... omitting 15 memebers\n",
      "│   │   ├── 20240125 <HDF5 group \"/dongfang/order_flow/20240125\" (3 members)> (feature, secid, values)\n",
      "│   │   └── 20240126 <HDF5 group \"/dongfang/order_flow/20240126\" (3 members)> (feature, secid, values)\n",
      "│   ├── scores_v0 <HDF5 group \"/dongfang/scores_v0\" (19 members)>\n",
      "│   │   ├── 20240102 <HDF5 group \"/dongfang/scores_v0/20240102\" (3 members)> (feature, secid, values)\n",
      "│   │   ├── 20240103 <HDF5 group \"/dongfang/scores_v0/20240103\" (3 members)> (feature, secid, values)\n",
      "│   │   ├── ...... omitting 15 memebers\n",
      "│   │   ├── 20240125 <HDF5 group \"/dongfang/scores_v0/20240125\" (3 members)> (feature, secid, values)\n",
      "│   │   └── 20240126 <HDF5 group \"/dongfang/scores_v0/20240126\" (3 members)> (feature, secid, values)\n",
      "│   └── tra <HDF5 group \"/dongfang/tra\" (19 members)>\n",
      "│       ├── 20240102 <HDF5 group \"/dongfang/tra/20240102\" (3 members)> (feature, secid, values)\n",
      "│       ├── 20240103 <HDF5 group \"/dongfang/tra/20240103\" (3 members)> (feature, secid, values)\n",
      "│       ├── ...... omitting 15 memebers\n",
      "│       ├── 20240125 <HDF5 group \"/dongfang/tra/20240125\" (3 members)> (feature, secid, values)\n",
      "│       └── 20240126 <HDF5 group \"/dongfang/tra/20240126\" (3 members)> (feature, secid, values)\n",
      "└── haitong <HDF5 group \"/haitong\" (2 members)>\n",
      "    ├── dl_factors <HDF5 group \"/haitong/dl_factors\" (19 members)>\n",
      "    │   ├── 20240102 <HDF5 group \"/haitong/dl_factors/20240102\" (3 members)> (feature, secid, values)\n",
      "    │   ├── 20240103 <HDF5 group \"/haitong/dl_factors/20240103\" (3 members)> (feature, secid, values)\n",
      "    │   ├── ...... omitting 15 memebers\n",
      "    │   ├── 20240125 <HDF5 group \"/haitong/dl_factors/20240125\" (3 members)> (feature, secid, values)\n",
      "    │   └── 20240126 <HDF5 group \"/haitong/dl_factors/20240126\" (3 members)> (feature, secid, values)\n",
      "    └── hf_factors <HDF5 group \"/haitong/hf_factors\" (19 members)>\n",
      "        ├── 20240102 <HDF5 group \"/haitong/hf_factors/20240102\" (3 members)> (feature, secid, values)\n",
      "        ├── 20240103 <HDF5 group \"/haitong/hf_factors/20240103\" (3 members)> (feature, secid, values)\n",
      "        ├── ...... omitting 15 memebers\n",
      "        ├── 20240125 <HDF5 group \"/haitong/hf_factors/20240125\" (3 members)> (feature, secid, values)\n",
      "        └── 20240126 <HDF5 group \"/haitong/hf_factors/20240126\" (3 members)> (feature, secid, values)\n"
     ]
    }
   ],
   "source": [
    "from scripts.data_util.sqlConnector import online_sql_connector , update_sql_since\n",
    "connector = online_sql_connector()\n",
    "update_sql_since('SellSideFactors' , connector = connector , trace = 0)\n",
    "connector.close_all()"
   ]
  },
  {
   "cell_type": "code",
   "execution_count": 3,
   "metadata": {},
   "outputs": [],
   "source": [
    "#from scripts.data_util.DataTank import *\n",
    "#from scripts.data_util.DataUpdater import *\n",
    "#repack_DB_bygroup('data/DB_data/DB_3rdPartySQL.h5' , 'SellSideFactors' , True)"
   ]
  }
 ],
 "metadata": {
  "kernelspec": {
   "display_name": "Python 3",
   "language": "python",
   "name": "python3"
  },
  "language_info": {
   "codemirror_mode": {
    "name": "ipython",
    "version": 3
   },
   "file_extension": ".py",
   "mimetype": "text/x-python",
   "name": "python",
   "nbconvert_exporter": "python",
   "pygments_lexer": "ipython3",
   "version": "3.10.12"
  }
 },
 "nbformat": 4,
 "nbformat_minor": 2
}
