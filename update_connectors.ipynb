{
 "cells": [
  {
   "cell_type": "code",
   "execution_count": 2,
   "metadata": {},
   "outputs": [
    {
     "name": "stdout",
     "output_type": "stream",
     "text": [
      "haitong/hf_factors\n",
      "since 20231219 to 20231222, total 1 periods(Q)\n",
      "Fri Dec 22 00:40:21 2023 : haitong:hf_factors:202312                    \n",
      "\n",
      "haitong/dl_factors\n",
      "since 20231219 to 20231222, total 1 periods(Q)\n"
     ]
    },
    {
     "name": "stderr",
     "output_type": "stream",
     "text": [
      "Exception during reset or similar\n",
      "Traceback (most recent call last):\n",
      "  File \"/home/mengkjin/.local/lib/python3.10/site-packages/pymysql/connections.py\", line 803, in _write_bytes\n",
      "    self._sock.sendall(data)\n",
      "ConnectionResetError: [Errno 104] Connection reset by peer\n",
      "\n",
      "During handling of the above exception, another exception occurred:\n",
      "\n",
      "Traceback (most recent call last):\n",
      "  File \"/home/mengkjin/.local/lib/python3.10/site-packages/sqlalchemy/pool/base.py\", line 988, in _finalize_fairy\n",
      "    fairy._reset(\n",
      "  File \"/home/mengkjin/.local/lib/python3.10/site-packages/sqlalchemy/pool/base.py\", line 1438, in _reset\n",
      "    pool._dialect.do_rollback(self)\n",
      "  File \"/home/mengkjin/.local/lib/python3.10/site-packages/sqlalchemy/engine/default.py\", line 692, in do_rollback\n",
      "    dbapi_connection.rollback()\n",
      "  File \"/home/mengkjin/.local/lib/python3.10/site-packages/pymysql/connections.py\", line 487, in rollback\n",
      "    self._execute_command(COMMAND.COM_QUERY, \"ROLLBACK\")\n",
      "  File \"/home/mengkjin/.local/lib/python3.10/site-packages/pymysql/connections.py\", line 861, in _execute_command\n",
      "    self._write_bytes(packet)\n",
      "  File \"/home/mengkjin/.local/lib/python3.10/site-packages/pymysql/connections.py\", line 806, in _write_bytes\n",
      "    raise err.OperationalError(\n",
      "pymysql.err.OperationalError: (2006, \"MySQL server has gone away (ConnectionResetError(104, 'Connection reset by peer'))\")\n",
      "Exception during reset or similar\n",
      "Traceback (most recent call last):\n",
      "  File \"/home/mengkjin/.local/lib/python3.10/site-packages/sqlalchemy/pool/base.py\", line 988, in _finalize_fairy\n",
      "    fairy._reset(\n",
      "  File \"/home/mengkjin/.local/lib/python3.10/site-packages/sqlalchemy/pool/base.py\", line 1438, in _reset\n",
      "    pool._dialect.do_rollback(self)\n",
      "  File \"/home/mengkjin/.local/lib/python3.10/site-packages/sqlalchemy/engine/default.py\", line 692, in do_rollback\n",
      "    dbapi_connection.rollback()\n",
      "psycopg2.OperationalError: server closed the connection unexpectedly\n",
      "\tThis probably means the server terminated abnormally\n",
      "\tbefore or while processing the request.\n",
      "\n"
     ]
    },
    {
     "name": "stdout",
     "output_type": "stream",
     "text": [
      "Fri Dec 22 00:41:05 2023 : haitong:dl_factors:202312                    \n",
      "\n",
      "dongfang/hfq_chars\n",
      "since 20231219 to 20231222, total 1 periods(Q)\n",
      "Fri Dec 22 00:41:12 2023 : dongfang:hfq_chars:202312                    \n",
      "\n",
      "dongfang/l2_chars\n",
      "since 20231219 to 20231222, total 1 periods(Q)\n",
      "Fri Dec 22 00:41:35 2023 : dongfang:l2_chars:202312                    \n",
      "\n",
      "dongfang/ms_chars\n",
      "since 20231219 to 20231222, total 1 periods(Q)\n",
      "Fri Dec 22 00:42:05 2023 : dongfang:ms_chars:202312                    \n",
      "\n",
      "dongfang/order_flow\n",
      "since 20231219 to 20231222, total 1 periods(Q)\n",
      "Fri Dec 22 00:42:08 2023 : dongfang:order_flow:202312                    \n",
      "\n",
      "dongfang/gp\n",
      "since 20231216 to 20231222, total 1 periods(Q)\n",
      "Fri Dec 22 00:42:10 2023 : dongfang:gp:202312                    \n",
      "\n",
      "dongfang/tra\n",
      "since 20231216 to 20231222, total 1 periods(Q)\n",
      "Fri Dec 22 00:42:12 2023 : dongfang:tra:202312                    \n",
      "\n",
      "kaiyuan/positive\n",
      "since 20231101 to 20231222, total 1 periods(Q)\n",
      "Fri Dec 22 00:42:17 2023 : kaiyuan:positive:202311                    \n",
      "\n",
      "kaiyuan/negative\n",
      "since 20231101 to 20231222, total 1 periods(Q)\n",
      "Fri Dec 22 00:42:21 2023 : kaiyuan:negative:202311                    \n",
      "\n",
      "├── dongfang <HDF5 group \"/dongfang\" (6 members)>\n",
      "│   ├── gp <HDF5 group \"/dongfang/gp\" (1694 members)>\n",
      "│   │   ├── 20170103 <HDF5 group \"/dongfang/gp/20170103\" (3 members)> (feature, secid, values)\n",
      "│   │   ├── 20170104 <HDF5 group \"/dongfang/gp/20170104\" (3 members)> (feature, secid, values)\n",
      "│   │   ├── ...... omitting 1690 memebers\n",
      "│   │   ├── 20231219 <HDF5 group \"/dongfang/gp/20231219\" (3 members)> (feature, secid, values)\n",
      "│   │   └── 20231220 <HDF5 group \"/dongfang/gp/20231220\" (3 members)> (feature, secid, values)\n",
      "│   ├── hfq_chars <HDF5 group \"/dongfang/hfq_chars\" (4610 members)>\n",
      "│   │   ├── 20050104 <HDF5 group \"/dongfang/hfq_chars/20050104\" (2 members)> (feature, secid)\n",
      "│   │   ├── 20050105 <HDF5 group \"/dongfang/hfq_chars/20050105\" (3 members)> (feature, secid, values)\n",
      "│   │   ├── ...... omitting 4606 memebers\n",
      "│   │   ├── 20231220 <HDF5 group \"/dongfang/hfq_chars/20231220\" (3 members)> (feature, secid, values)\n",
      "│   │   └── 20231221 <HDF5 group \"/dongfang/hfq_chars/20231221\" (3 members)> (feature, secid, values)\n",
      "│   ├── l2_chars <HDF5 group \"/dongfang/l2_chars\" (2489 members)>\n",
      "│   │   ├── 20130930 <HDF5 group \"/dongfang/l2_chars/20130930\" (3 members)> (feature, secid, values)\n",
      "│   │   ├── 20131008 <HDF5 group \"/dongfang/l2_chars/20131008\" (3 members)> (feature, secid, values)\n",
      "│   │   ├── ...... omitting 2485 memebers\n",
      "│   │   ├── 20231220 <HDF5 group \"/dongfang/l2_chars/20231220\" (3 members)> (feature, secid, values)\n",
      "│   │   └── 20231221 <HDF5 group \"/dongfang/l2_chars/20231221\" (3 members)> (feature, secid, values)\n",
      "│   ├── ms_chars <HDF5 group \"/dongfang/ms_chars\" (4610 members)>\n",
      "│   │   ├── 20050104 <HDF5 group \"/dongfang/ms_chars/20050104\" (3 members)> (feature, secid, values)\n",
      "│   │   ├── 20050105 <HDF5 group \"/dongfang/ms_chars/20050105\" (3 members)> (feature, secid, values)\n",
      "│   │   ├── ...... omitting 4606 memebers\n",
      "│   │   ├── 20231220 <HDF5 group \"/dongfang/ms_chars/20231220\" (3 members)> (feature, secid, values)\n",
      "│   │   └── 20231221 <HDF5 group \"/dongfang/ms_chars/20231221\" (3 members)> (feature, secid, values)\n",
      "│   ├── order_flow <HDF5 group \"/dongfang/order_flow\" (2490 members)>\n",
      "│   │   ├── 20130930 <HDF5 group \"/dongfang/order_flow/20130930\" (3 members)> (feature, secid, values)\n",
      "│   │   ├── 20131008 <HDF5 group \"/dongfang/order_flow/20131008\" (3 members)> (feature, secid, values)\n",
      "│   │   ├── ...... omitting 2486 memebers\n",
      "│   │   ├── 20231220 <HDF5 group \"/dongfang/order_flow/20231220\" (3 members)> (feature, secid, values)\n",
      "│   │   └── 20231221 <HDF5 group \"/dongfang/order_flow/20231221\" (3 members)> (feature, secid, values)\n",
      "│   └── tra <HDF5 group \"/dongfang/tra\" (963 members)>\n",
      "│       ├── 20200102 <HDF5 group \"/dongfang/tra/20200102\" (3 members)> (feature, secid, values)\n",
      "│       ├── 20200103 <HDF5 group \"/dongfang/tra/20200103\" (3 members)> (feature, secid, values)\n",
      "│       ├── ...... omitting 959 memebers\n",
      "│       ├── 20231219 <HDF5 group \"/dongfang/tra/20231219\" (3 members)> (feature, secid, values)\n",
      "│       └── 20231220 <HDF5 group \"/dongfang/tra/20231220\" (3 members)> (feature, secid, values)\n",
      "├── haitong <HDF5 group \"/haitong\" (2 members)>\n",
      "│   ├── dl_factors <HDF5 group \"/haitong/dl_factors\" (1696 members)>\n",
      "│   │   ├── 20161230 <HDF5 group \"/haitong/dl_factors/20161230\" (3 members)> (feature, secid, values)\n",
      "│   │   ├── 20170103 <HDF5 group \"/haitong/dl_factors/20170103\" (3 members)> (feature, secid, values)\n",
      "│   │   ├── ...... omitting 1692 memebers\n",
      "│   │   ├── 20231220 <HDF5 group \"/haitong/dl_factors/20231220\" (3 members)> (feature, secid, values)\n",
      "│   │   └── 20231221 <HDF5 group \"/haitong/dl_factors/20231221\" (3 members)> (feature, secid, values)\n",
      "│   └── hf_factors <HDF5 group \"/haitong/hf_factors\" (2666 members)>\n",
      "│       ├── 20130104 <HDF5 group \"/haitong/hf_factors/20130104\" (3 members)> (feature, secid, values)\n",
      "│       ├── 20130107 <HDF5 group \"/haitong/hf_factors/20130107\" (3 members)> (feature, secid, values)\n",
      "│       ├── ...... omitting 2662 memebers\n",
      "│       ├── 20231220 <HDF5 group \"/haitong/hf_factors/20231220\" (3 members)> (feature, secid, values)\n",
      "│       └── 20231221 <HDF5 group \"/haitong/hf_factors/20231221\" (3 members)> (feature, secid, values)\n",
      "└── kaiyuan <HDF5 group \"/kaiyuan\" (2 members)>\n",
      "    ├── negative <HDF5 group \"/kaiyuan/negative\" (119 members)>\n",
      "    │   ├── 20140130 <HDF5 group \"/kaiyuan/negative/20140130\" (3 members)> (feature, secid, values)\n",
      "    │   ├── 20140228 <HDF5 group \"/kaiyuan/negative/20140228\" (3 members)> (feature, secid, values)\n",
      "    │   ├── ...... omitting 115 memebers\n",
      "    │   ├── 20231031 <HDF5 group \"/kaiyuan/negative/20231031\" (3 members)> (feature, secid, values)\n",
      "    │   └── 20231130 <HDF5 group \"/kaiyuan/negative/20231130\" (3 members)> (feature, secid, values)\n",
      "    └── positive <HDF5 group \"/kaiyuan/positive\" (156 members)>\n",
      "        ├── 20140130 <HDF5 group \"/kaiyuan/positive/20140130\" (3 members)> (feature, secid, values)\n",
      "        ├── 20140228 <HDF5 group \"/kaiyuan/positive/20140228\" (3 members)> (feature, secid, values)\n",
      "        ├── ...... omitting 152 memebers\n",
      "        ├── 20231031 <HDF5 group \"/kaiyuan/positive/20231031\" (3 members)> (feature, secid, values)\n",
      "        └── 20231130 <HDF5 group \"/kaiyuan/positive/20231130\" (3 members)> (feature, secid, values)\n"
     ]
    }
   ],
   "source": [
    "from scripts.data_util.sqlConnector import online_sql_connector , update_connector\n",
    "update_connector(path = './data/DB_3rdPartySQL.h5' , connector = online_sql_connector() , trace = 1)\n"
   ]
  },
  {
   "cell_type": "code",
   "execution_count": 5,
   "metadata": {},
   "outputs": [
    {
     "data": {
      "text/plain": [
       "<HDF5 group \"/haitong/hf_factors/20231213\" (3 members)>"
      ]
     },
     "execution_count": 5,
     "metadata": {},
     "output_type": "execute_result"
    }
   ],
   "source": [
    "from scripts.data_util.DataTank import DataTank , Data1D\n",
    "dtank = DataTank('./data/DB_3rdPartySQL.h5' , open=True , mode = 'r')\n",
    "g = dtank.get_object('haitong/hf_factors/20231213')\n",
    "g"
   ]
  }
 ],
 "metadata": {
  "kernelspec": {
   "display_name": "Python 3",
   "language": "python",
   "name": "python3"
  },
  "language_info": {
   "codemirror_mode": {
    "name": "ipython",
    "version": 3
   },
   "file_extension": ".py",
   "mimetype": "text/x-python",
   "name": "python",
   "nbconvert_exporter": "python",
   "pygments_lexer": "ipython3",
   "version": "3.10.12"
  }
 },
 "nbformat": 4,
 "nbformat_minor": 2
}
