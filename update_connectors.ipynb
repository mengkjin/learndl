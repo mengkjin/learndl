{
 "cells": [
  {
   "cell_type": "code",
   "execution_count": 1,
   "metadata": {},
   "outputs": [
    {
     "name": "stdout",
     "output_type": "stream",
     "text": [
      "haitong/hf_factors\n",
      "since 20240105 to 20240105, total 1 periods(Q)\n",
      "\n",
      "\n",
      "haitong/dl_factors\n",
      "since 20240105 to 20240105, total 1 periods(Q)\n",
      "\n",
      "\n",
      "dongfang/hfq_chars\n",
      "since 20240105 to 20240105, total 1 periods(Q)\n",
      "\n",
      "\n",
      "dongfang/l2_chars\n",
      "since 20240105 to 20240105, total 1 periods(Q)\n",
      "\n",
      "\n",
      "dongfang/ms_chars\n",
      "since 20240105 to 20240105, total 1 periods(Q)\n",
      "\n",
      "\n",
      "dongfang/order_flow\n",
      "since 20240105 to 20240105, total 1 periods(Q)\n",
      "\n",
      "\n",
      "dongfang/gp\n",
      "since 20240104 to 20240105, total 1 periods(Q)\n",
      "\n",
      "\n",
      "dongfang/tra\n",
      "since 20240104 to 20240105, total 1 periods(Q)\n",
      "\n",
      "\n",
      "dongfang/scores_v0\n",
      "since 20240105 to 20240105, total 1 periods(Q)\n",
      "\n",
      "\n",
      "kaiyuan/positive\n",
      "since 20240101 to 20240105, total 1 periods(Q)\n",
      "\n",
      "\n",
      "kaiyuan/negative\n",
      "since 20231230 to 20240105, total 1 periods(Q)\n",
      "\n",
      "\n"
     ]
    },
    {
     "name": "stderr",
     "output_type": "stream",
     "text": [
      "Traceback (most recent call last):\n",
      "  File \"/home/mengkjin/Workspace/learndl/scripts/data_util/sqlConnector.py\", line 362, in update_sql_since\n",
      "    dtank = DataTank(sorted(group_file_list)[-1] , 'r')\n",
      "IndexError: list index out of range\n"
     ]
    },
    {
     "ename": "UnboundLocalError",
     "evalue": "local variable 'dtank' referenced before assignment",
     "output_type": "error",
     "traceback": [
      "\u001b[0;31m---------------------------------------------------------------------------\u001b[0m",
      "\u001b[0;31mUnboundLocalError\u001b[0m                         Traceback (most recent call last)",
      "Cell \u001b[0;32mIn[1], line 3\u001b[0m\n\u001b[1;32m      1\u001b[0m \u001b[38;5;28;01mfrom\u001b[39;00m \u001b[38;5;21;01mscripts\u001b[39;00m\u001b[38;5;21;01m.\u001b[39;00m\u001b[38;5;21;01mdata_util\u001b[39;00m\u001b[38;5;21;01m.\u001b[39;00m\u001b[38;5;21;01msqlConnector\u001b[39;00m \u001b[38;5;28;01mimport\u001b[39;00m online_sql_connector , update_sql_since\n\u001b[1;32m      2\u001b[0m connector \u001b[38;5;241m=\u001b[39m online_sql_connector()\n\u001b[0;32m----> 3\u001b[0m \u001b[43mupdate_sql_since\u001b[49m\u001b[43m(\u001b[49m\u001b[38;5;124;43m'\u001b[39;49m\u001b[38;5;124;43mSellSideFactors\u001b[39;49m\u001b[38;5;124;43m'\u001b[39;49m\u001b[43m \u001b[49m\u001b[43m,\u001b[49m\u001b[43m \u001b[49m\u001b[43mconnector\u001b[49m\u001b[43m \u001b[49m\u001b[38;5;241;43m=\u001b[39;49m\u001b[43m \u001b[49m\u001b[43mconnector\u001b[49m\u001b[43m \u001b[49m\u001b[43m,\u001b[49m\u001b[43m \u001b[49m\u001b[43mtrace\u001b[49m\u001b[43m \u001b[49m\u001b[38;5;241;43m=\u001b[39;49m\u001b[43m \u001b[49m\u001b[38;5;241;43m0\u001b[39;49m\u001b[43m)\u001b[49m\n\u001b[1;32m      4\u001b[0m connector\u001b[38;5;241m.\u001b[39mclose_all()\n",
      "File \u001b[0;32m~/Workspace/learndl/scripts/data_util/sqlConnector.py:367\u001b[0m, in \u001b[0;36mupdate_sql_since\u001b[0;34m(db_key, connector, trace)\u001b[0m\n\u001b[1;32m    365\u001b[0m     traceback\u001b[38;5;241m.\u001b[39mprint_exc()\n\u001b[1;32m    366\u001b[0m \u001b[38;5;28;01mfinally\u001b[39;00m:\n\u001b[0;32m--> 367\u001b[0m     \u001b[43mdtank\u001b[49m\u001b[38;5;241m.\u001b[39mclose()\n",
      "\u001b[0;31mUnboundLocalError\u001b[0m: local variable 'dtank' referenced before assignment"
     ]
    }
   ],
   "source": [
    "from scripts.data_util.sqlConnector import online_sql_connector , update_sql_since\n",
    "connector = online_sql_connector()\n",
    "update_sql_since('SellSideFactors' , connector = connector , trace = 0)\n",
    "connector.close_all()"
   ]
  },
  {
   "cell_type": "code",
   "execution_count": 1,
   "metadata": {},
   "outputs": [
    {
     "name": "stdout",
     "output_type": "stream",
     "text": [
      "haitong/hf_factors\n",
      "\n",
      "\n",
      "haitong/dl_factors\n",
      "\n",
      "\n",
      "dongfang/hfq_chars\n",
      "Thu Jan  4 07:32:52 2024 : dongfang:hfq_chars:20050104                    \n",
      "\n",
      "dongfang/l2_chars\n",
      "\n",
      "\n",
      "dongfang/ms_chars\n",
      "Thu Jan  4 07:35:37 2024 : dongfang:ms_chars:20050104                    \n",
      "\n",
      "dongfang/order_flow\n",
      "\n",
      "\n",
      "dongfang/gp\n",
      "\n",
      "\n",
      "dongfang/tra\n",
      "\n",
      "\n",
      "dongfang/scores_v0\n",
      "\n",
      "\n",
      "kaiyuan/positive\n",
      "\n",
      "\n",
      "kaiyuan/negative\n",
      "\n",
      "\n",
      "├── dongfang <HDF5 group \"/dongfang\" (5 members)>\n",
      "│   ├── hfq_chars <HDF5 group \"/dongfang/hfq_chars\" (1 members)>\n",
      "│   │   └── 20240102 <HDF5 group \"/dongfang/hfq_chars/20240102\" (3 members)> (feature, secid, values)\n",
      "│   ├── l2_chars <HDF5 group \"/dongfang/l2_chars\" (1 members)>\n",
      "│   │   └── 20240102 <HDF5 group \"/dongfang/l2_chars/20240102\" (3 members)> (feature, secid, values)\n",
      "│   ├── ms_chars <HDF5 group \"/dongfang/ms_chars\" (1 members)>\n",
      "│   │   └── 20240102 <HDF5 group \"/dongfang/ms_chars/20240102\" (3 members)> (feature, secid, values)\n",
      "│   ├── order_flow <HDF5 group \"/dongfang/order_flow\" (1 members)>\n",
      "│   │   └── 20240102 <HDF5 group \"/dongfang/order_flow/20240102\" (3 members)> (feature, secid, values)\n",
      "│   └── scores_v0 <HDF5 group \"/dongfang/scores_v0\" (1 members)>\n",
      "│       └── 20240102 <HDF5 group \"/dongfang/scores_v0/20240102\" (3 members)> (feature, secid, values)\n",
      "└── haitong <HDF5 group \"/haitong\" (2 members)>\n",
      "    ├── dl_factors <HDF5 group \"/haitong/dl_factors\" (1 members)>\n",
      "    │   └── 20240102 <HDF5 group \"/haitong/dl_factors/20240102\" (3 members)> (feature, secid, values)\n",
      "    └── hf_factors <HDF5 group \"/haitong/hf_factors\" (1 members)>\n",
      "        └── 20240102 <HDF5 group \"/haitong/hf_factors/20240102\" (3 members)> (feature, secid, values)\n"
     ]
    }
   ],
   "source": [
    "from scripts.data_util.sqlConnector import online_sql_connector ,  update_sql_dates\n",
    "connector = online_sql_connector()\n",
    "update_sql_dates('SellSideFactors' , connector = connector , dates=[20050104])\n",
    "connector.close_all()\n"
   ]
  },
  {
   "cell_type": "code",
   "execution_count": null,
   "metadata": {},
   "outputs": [],
   "source": [
    "#from scripts.data_util.DataTank import *\n",
    "#from scripts.data_util.DataUpdater import *\n",
    "#repack_DB_bygroup('data/DB_data/DB_3rdPartySQL.h5' , 'SellSideFactors' , True)"
   ]
  }
 ],
 "metadata": {
  "kernelspec": {
   "display_name": "Python 3",
   "language": "python",
   "name": "python3"
  },
  "language_info": {
   "codemirror_mode": {
    "name": "ipython",
    "version": 3
   },
   "file_extension": ".py",
   "mimetype": "text/x-python",
   "name": "python",
   "nbconvert_exporter": "python",
   "pygments_lexer": "ipython3",
   "version": "3.10.12"
  }
 },
 "nbformat": 4,
 "nbformat_minor": 2
}
