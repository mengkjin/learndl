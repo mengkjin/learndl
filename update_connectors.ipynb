{
 "cells": [
  {
   "cell_type": "code",
   "execution_count": 1,
   "metadata": {},
   "outputs": [],
   "source": [
    "from scripts.data_util.sqlConnector import online_sql_connector , update_sql_since\n",
    "connector = online_sql_connector()\n",
    "update_sql_since('SellSideFactors' , connector = connector , trace = 0)\n",
    "connector.close_all()"
   ]
  },
  {
   "cell_type": "code",
   "execution_count": 1,
   "metadata": {},
   "outputs": [
    {
     "name": "stdout",
     "output_type": "stream",
     "text": [
      "haitong/hf_factors\n",
      "\n",
      "\n",
      "haitong/dl_factors\n",
      "\n",
      "\n",
      "dongfang/hfq_chars\n",
      "Thu Jan  4 07:32:52 2024 : dongfang:hfq_chars:20050104                    \n",
      "\n",
      "dongfang/l2_chars\n",
      "\n",
      "\n",
      "dongfang/ms_chars\n",
      "Thu Jan  4 07:35:37 2024 : dongfang:ms_chars:20050104                    \n",
      "\n",
      "dongfang/order_flow\n",
      "\n",
      "\n",
      "dongfang/gp\n",
      "\n",
      "\n",
      "dongfang/tra\n",
      "\n",
      "\n",
      "dongfang/scores_v0\n",
      "\n",
      "\n",
      "kaiyuan/positive\n",
      "\n",
      "\n",
      "kaiyuan/negative\n",
      "\n",
      "\n",
      "├── dongfang <HDF5 group \"/dongfang\" (5 members)>\n",
      "│   ├── hfq_chars <HDF5 group \"/dongfang/hfq_chars\" (1 members)>\n",
      "│   │   └── 20240102 <HDF5 group \"/dongfang/hfq_chars/20240102\" (3 members)> (feature, secid, values)\n",
      "│   ├── l2_chars <HDF5 group \"/dongfang/l2_chars\" (1 members)>\n",
      "│   │   └── 20240102 <HDF5 group \"/dongfang/l2_chars/20240102\" (3 members)> (feature, secid, values)\n",
      "│   ├── ms_chars <HDF5 group \"/dongfang/ms_chars\" (1 members)>\n",
      "│   │   └── 20240102 <HDF5 group \"/dongfang/ms_chars/20240102\" (3 members)> (feature, secid, values)\n",
      "│   ├── order_flow <HDF5 group \"/dongfang/order_flow\" (1 members)>\n",
      "│   │   └── 20240102 <HDF5 group \"/dongfang/order_flow/20240102\" (3 members)> (feature, secid, values)\n",
      "│   └── scores_v0 <HDF5 group \"/dongfang/scores_v0\" (1 members)>\n",
      "│       └── 20240102 <HDF5 group \"/dongfang/scores_v0/20240102\" (3 members)> (feature, secid, values)\n",
      "└── haitong <HDF5 group \"/haitong\" (2 members)>\n",
      "    ├── dl_factors <HDF5 group \"/haitong/dl_factors\" (1 members)>\n",
      "    │   └── 20240102 <HDF5 group \"/haitong/dl_factors/20240102\" (3 members)> (feature, secid, values)\n",
      "    └── hf_factors <HDF5 group \"/haitong/hf_factors\" (1 members)>\n",
      "        └── 20240102 <HDF5 group \"/haitong/hf_factors/20240102\" (3 members)> (feature, secid, values)\n"
     ]
    }
   ],
   "source": [
    "from scripts.data_util.sqlConnector import online_sql_connector ,  update_sql_dates\n",
    "connector = online_sql_connector()\n",
    "update_sql_dates('SellSideFactors' , connector = connector , dates=[20050104])\n",
    "connector.close_all()\n"
   ]
  },
  {
   "cell_type": "code",
   "execution_count": null,
   "metadata": {},
   "outputs": [],
   "source": [
    "#from scripts.data_util.DataTank import *\n",
    "#from scripts.data_util.DataUpdater import *\n",
    "#repack_DB_bygroup('data/DB_data/DB_3rdPartySQL.h5' , 'SellSideFactors' , True)"
   ]
  }
 ],
 "metadata": {
  "kernelspec": {
   "display_name": "Python 3",
   "language": "python",
   "name": "python3"
  },
  "language_info": {
   "codemirror_mode": {
    "name": "ipython",
    "version": 3
   },
   "file_extension": ".py",
   "mimetype": "text/x-python",
   "name": "python",
   "nbconvert_exporter": "python",
   "pygments_lexer": "ipython3",
   "version": "3.10.12"
  }
 },
 "nbformat": 4,
 "nbformat_minor": 2
}
