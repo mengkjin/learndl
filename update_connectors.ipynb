{
 "cells": [
  {
   "cell_type": "code",
   "execution_count": 1,
   "metadata": {},
   "outputs": [
    {
     "name": "stdout",
     "output_type": "stream",
     "text": [
      "Sun Feb  4 08:20:46 2024 : haitong/hf_factors since 20240127 to 20240204, total 1 periods(Q)\n",
      "Sun Feb  4 08:20:55 2024 : haitong/dl_factors since 20240127 to 20240204, total 1 periods(Q)\n",
      "Sun Feb  4 08:21:43 2024 : dongfang/hfq_chars since 20240127 to 20240204, total 1 periods(Q)\n",
      "Sun Feb  4 08:21:51 2024 : dongfang/l2_chars since 20240127 to 20240204, total 1 periods(Q)\n",
      "Sun Feb  4 08:22:22 2024 : dongfang/ms_chars since 20240127 to 20240204, total 1 periods(Q)\n",
      "Sun Feb  4 08:24:23 2024 : dongfang/order_flow since 20240127 to 20240204, total 1 periods(Q)\n",
      "Sun Feb  4 08:24:26 2024 : dongfang/gp since 20240127 to 20240204, total 1 periods(Q)\n",
      "Sun Feb  4 08:24:30 2024 : dongfang/tra since 20240127 to 20240204, total 1 periods(Q)\n",
      "Sun Feb  4 08:24:33 2024 : dongfang/scores_v0 since 20240127 to 20240204, total 1 periods(Q)\n",
      "Sun Feb  4 08:24:34 2024 : kaiyuan/positive since 20240101 to 20240204, total 1 periods(Q)\n",
      "Sun Feb  4 08:24:39 2024 : kaiyuan/negative since 20231230 to 20240204, total 1 periods(Q)\n",
      "├── dongfang <HDF5 group \"/dongfang\" (7 members)>2          \n",
      "│   ├── gp <HDF5 group \"/dongfang/gp\" (24 members)>\n",
      "│   │   ├── 20240102 <HDF5 group \"/dongfang/gp/20240102\" (3 members)> (feature, secid, values)\n",
      "│   │   ├── 20240103 <HDF5 group \"/dongfang/gp/20240103\" (3 members)> (feature, secid, values)\n",
      "│   │   ├── ...... omitting 20 memebers\n",
      "│   │   ├── 20240201 <HDF5 group \"/dongfang/gp/20240201\" (3 members)> (feature, secid, values)\n",
      "│   │   └── 20240202 <HDF5 group \"/dongfang/gp/20240202\" (3 members)> (feature, secid, values)\n",
      "│   ├── hfq_chars <HDF5 group \"/dongfang/hfq_chars\" (24 members)>\n",
      "│   │   ├── 20240102 <HDF5 group \"/dongfang/hfq_chars/20240102\" (3 members)> (feature, secid, values)\n",
      "│   │   ├── 20240103 <HDF5 group \"/dongfang/hfq_chars/20240103\" (3 members)> (feature, secid, values)\n",
      "│   │   ├── ...... omitting 20 memebers\n",
      "│   │   ├── 20240201 <HDF5 group \"/dongfang/hfq_chars/20240201\" (3 members)> (feature, secid, values)\n",
      "│   │   └── 20240202 <HDF5 group \"/dongfang/hfq_chars/20240202\" (3 members)> (feature, secid, values)\n",
      "│   ├── l2_chars <HDF5 group \"/dongfang/l2_chars\" (24 members)>\n",
      "│   │   ├── 20240102 <HDF5 group \"/dongfang/l2_chars/20240102\" (3 members)> (feature, secid, values)\n",
      "│   │   ├── 20240103 <HDF5 group \"/dongfang/l2_chars/20240103\" (3 members)> (feature, secid, values)\n",
      "│   │   ├── ...... omitting 20 memebers\n",
      "│   │   ├── 20240201 <HDF5 group \"/dongfang/l2_chars/20240201\" (3 members)> (feature, secid, values)\n",
      "│   │   └── 20240202 <HDF5 group \"/dongfang/l2_chars/20240202\" (3 members)> (feature, secid, values)\n",
      "│   ├── ms_chars <HDF5 group \"/dongfang/ms_chars\" (24 members)>\n",
      "│   │   ├── 20240102 <HDF5 group \"/dongfang/ms_chars/20240102\" (3 members)> (feature, secid, values)\n",
      "│   │   ├── 20240103 <HDF5 group \"/dongfang/ms_chars/20240103\" (3 members)> (feature, secid, values)\n",
      "│   │   ├── ...... omitting 20 memebers\n",
      "│   │   ├── 20240201 <HDF5 group \"/dongfang/ms_chars/20240201\" (3 members)> (feature, secid, values)\n",
      "│   │   └── 20240202 <HDF5 group \"/dongfang/ms_chars/20240202\" (3 members)> (feature, secid, values)\n",
      "│   ├── order_flow <HDF5 group \"/dongfang/order_flow\" (24 members)>\n",
      "│   │   ├── 20240102 <HDF5 group \"/dongfang/order_flow/20240102\" (3 members)> (feature, secid, values)\n",
      "│   │   ├── 20240103 <HDF5 group \"/dongfang/order_flow/20240103\" (3 members)> (feature, secid, values)\n",
      "│   │   ├── ...... omitting 20 memebers\n",
      "│   │   ├── 20240201 <HDF5 group \"/dongfang/order_flow/20240201\" (3 members)> (feature, secid, values)\n",
      "│   │   └── 20240202 <HDF5 group \"/dongfang/order_flow/20240202\" (3 members)> (feature, secid, values)\n",
      "│   ├── scores_v0 <HDF5 group \"/dongfang/scores_v0\" (24 members)>\n",
      "│   │   ├── 20240102 <HDF5 group \"/dongfang/scores_v0/20240102\" (3 members)> (feature, secid, values)\n",
      "│   │   ├── 20240103 <HDF5 group \"/dongfang/scores_v0/20240103\" (3 members)> (feature, secid, values)\n",
      "│   │   ├── ...... omitting 20 memebers\n",
      "│   │   ├── 20240201 <HDF5 group \"/dongfang/scores_v0/20240201\" (3 members)> (feature, secid, values)\n",
      "│   │   └── 20240202 <HDF5 group \"/dongfang/scores_v0/20240202\" (3 members)> (feature, secid, values)\n",
      "│   └── tra <HDF5 group \"/dongfang/tra\" (24 members)>\n",
      "│       ├── 20240102 <HDF5 group \"/dongfang/tra/20240102\" (3 members)> (feature, secid, values)\n",
      "│       ├── 20240103 <HDF5 group \"/dongfang/tra/20240103\" (3 members)> (feature, secid, values)\n",
      "│       ├── ...... omitting 20 memebers\n",
      "│       ├── 20240201 <HDF5 group \"/dongfang/tra/20240201\" (3 members)> (feature, secid, values)\n",
      "│       └── 20240202 <HDF5 group \"/dongfang/tra/20240202\" (3 members)> (feature, secid, values)\n",
      "├── haitong <HDF5 group \"/haitong\" (2 members)>\n",
      "│   ├── dl_factors <HDF5 group \"/haitong/dl_factors\" (24 members)>\n",
      "│   │   ├── 20240102 <HDF5 group \"/haitong/dl_factors/20240102\" (3 members)> (feature, secid, values)\n",
      "│   │   ├── 20240103 <HDF5 group \"/haitong/dl_factors/20240103\" (3 members)> (feature, secid, values)\n",
      "│   │   ├── ...... omitting 20 memebers\n",
      "│   │   ├── 20240201 <HDF5 group \"/haitong/dl_factors/20240201\" (3 members)> (feature, secid, values)\n",
      "│   │   └── 20240202 <HDF5 group \"/haitong/dl_factors/20240202\" (3 members)> (feature, secid, values)\n",
      "│   └── hf_factors <HDF5 group \"/haitong/hf_factors\" (24 members)>\n",
      "│       ├── 20240102 <HDF5 group \"/haitong/hf_factors/20240102\" (3 members)> (feature, secid, values)\n",
      "│       ├── 20240103 <HDF5 group \"/haitong/hf_factors/20240103\" (3 members)> (feature, secid, values)\n",
      "│       ├── ...... omitting 20 memebers\n",
      "│       ├── 20240201 <HDF5 group \"/haitong/hf_factors/20240201\" (3 members)> (feature, secid, values)\n",
      "│       └── 20240202 <HDF5 group \"/haitong/hf_factors/20240202\" (3 members)> (feature, secid, values)\n",
      "└── kaiyuan <HDF5 group \"/kaiyuan\" (2 members)>\n",
      "    ├── negative <HDF5 group \"/kaiyuan/negative\" (1 members)>\n",
      "    │   └── 20240131 <HDF5 group \"/kaiyuan/negative/20240131\" (3 members)> (feature, secid, values)\n",
      "    └── positive <HDF5 group \"/kaiyuan/positive\" (1 members)>\n",
      "        └── 20240131 <HDF5 group \"/kaiyuan/positive/20240131\" (3 members)> (feature, secid, values)\n"
     ]
    }
   ],
   "source": [
    "from scripts.data_util.sqlConnector import online_sql_connector , update_sql_since\n",
    "connector = online_sql_connector()\n",
    "update_sql_since('SellSideFactors' , connector = connector , trace = 0)\n",
    "connector.close_all()"
   ]
  },
  {
   "cell_type": "code",
   "execution_count": 3,
   "metadata": {},
   "outputs": [],
   "source": [
    "#from scripts.data_util.DataTank import *\n",
    "#from scripts.data_util.DataUpdater import *\n",
    "#repack_DB_bygroup('data/DB_data/DB_3rdPartySQL.h5' , 'SellSideFactors' , True)"
   ]
  }
 ],
 "metadata": {
  "kernelspec": {
   "display_name": "Python 3",
   "language": "python",
   "name": "python3"
  },
  "language_info": {
   "codemirror_mode": {
    "name": "ipython",
    "version": 3
   },
   "file_extension": ".py",
   "mimetype": "text/x-python",
   "name": "python",
   "nbconvert_exporter": "python",
   "pygments_lexer": "ipython3",
   "version": "3.10.12"
  }
 },
 "nbformat": 4,
 "nbformat_minor": 2
}
