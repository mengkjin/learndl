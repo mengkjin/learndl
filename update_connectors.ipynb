{
 "cells": [
  {
   "cell_type": "code",
   "execution_count": 1,
   "metadata": {},
   "outputs": [
    {
     "name": "stdout",
     "output_type": "stream",
     "text": [
      "haitong/hf_factors\n",
      "since 20231212 to 20231219, total 1 periods(Q)\n",
      "Tue Dec 19 22:20:08 2023 : haitong:hf_factors:202312                    \n",
      "\n",
      "haitong/dl_factors\n",
      "since 20231212 to 20231219, total 1 periods(Q)\n",
      "Tue Dec 19 22:20:53 2023 : haitong:dl_factors:202312                    \n",
      "\n",
      "dongfang/hfq_chars\n",
      "since 20231212 to 20231219, total 1 periods(Q)\n",
      "Tue Dec 19 22:21:01 2023 : dongfang:hfq_chars:202312                    \n",
      "\n",
      "dongfang/l2_chars\n",
      "since 20231212 to 20231219, total 1 periods(Q)\n",
      "Tue Dec 19 22:21:31 2023 : dongfang:l2_chars:202312                    \n",
      "\n",
      "dongfang/ms_chars\n",
      "since 20231212 to 20231219, total 1 periods(Q)\n",
      "Tue Dec 19 22:23:29 2023 : dongfang:ms_chars:202312                    \n",
      "\n",
      "dongfang/order_flow\n",
      "since 20231212 to 20231219, total 1 periods(Q)\n",
      "Tue Dec 19 22:23:33 2023 : dongfang:order_flow:202312                    \n",
      "\n",
      "dongfang/gp\n",
      "since 20231212 to 20231219, total 1 periods(Q)\n",
      "Tue Dec 19 22:23:37 2023 : dongfang:gp:202312                    \n",
      "\n",
      "dongfang/tra\n",
      "since 20231212 to 20231219, total 1 periods(Q)\n",
      "Tue Dec 19 22:23:40 2023 : dongfang:tra:202312                    \n",
      "\n",
      "kaiyuan/positive\n",
      "since 20230901 to 20231219, total 1 periods(Q)\n",
      "Tue Dec 19 22:23:43 2023 : kaiyuan:positive:202309                    \n",
      "\n",
      "kaiyuan/negative\n",
      "since 20230801 to 20231219, total 1 periods(Q)\n",
      "Tue Dec 19 22:23:46 2023 : kaiyuan:negative:202308                    \n",
      "\n",
      "├── dongfang <HDF5 group \"/dongfang\" (6 members)>\n",
      "│   ├── gp <HDF5 group \"/dongfang/gp\" (1692 members)>\n",
      "│   │   ├── 20170103 <HDF5 group \"/dongfang/gp/20170103\" (3 members)> (feature, secid, values)\n",
      "│   │   ├── 20170104 <HDF5 group \"/dongfang/gp/20170104\" (3 members)> (feature, secid, values)\n",
      "│   │   ├── ...... omitting 1688 memebers\n",
      "│   │   ├── 20231215 <HDF5 group \"/dongfang/gp/20231215\" (3 members)> (feature, secid, values)\n",
      "│   │   └── 20231218 <HDF5 group \"/dongfang/gp/20231218\" (3 members)> (feature, secid, values)\n",
      "│   ├── hfq_chars <HDF5 group \"/dongfang/hfq_chars\" (4608 members)>\n",
      "│   │   ├── 20050104 <HDF5 group \"/dongfang/hfq_chars/20050104\" (2 members)> (feature, secid)\n",
      "│   │   ├── 20050105 <HDF5 group \"/dongfang/hfq_chars/20050105\" (3 members)> (feature, secid, values)\n",
      "│   │   ├── ...... omitting 4604 memebers\n",
      "│   │   ├── 20231218 <HDF5 group \"/dongfang/hfq_chars/20231218\" (3 members)> (feature, secid, values)\n",
      "│   │   └── 20231219 <HDF5 group \"/dongfang/hfq_chars/20231219\" (3 members)> (feature, secid, values)\n",
      "│   ├── l2_chars <HDF5 group \"/dongfang/l2_chars\" (2487 members)>\n",
      "│   │   ├── 20130930 <HDF5 group \"/dongfang/l2_chars/20130930\" (3 members)> (feature, secid, values)\n",
      "│   │   ├── 20131008 <HDF5 group \"/dongfang/l2_chars/20131008\" (3 members)> (feature, secid, values)\n",
      "│   │   ├── ...... omitting 2483 memebers\n",
      "│   │   ├── 20231218 <HDF5 group \"/dongfang/l2_chars/20231218\" (3 members)> (feature, secid, values)\n",
      "│   │   └── 20231219 <HDF5 group \"/dongfang/l2_chars/20231219\" (3 members)> (feature, secid, values)\n",
      "│   ├── ms_chars <HDF5 group \"/dongfang/ms_chars\" (4608 members)>\n",
      "│   │   ├── 20050104 <HDF5 group \"/dongfang/ms_chars/20050104\" (3 members)> (feature, secid, values)\n",
      "│   │   ├── 20050105 <HDF5 group \"/dongfang/ms_chars/20050105\" (3 members)> (feature, secid, values)\n",
      "│   │   ├── ...... omitting 4604 memebers\n",
      "│   │   ├── 20231218 <HDF5 group \"/dongfang/ms_chars/20231218\" (3 members)> (feature, secid, values)\n",
      "│   │   └── 20231219 <HDF5 group \"/dongfang/ms_chars/20231219\" (3 members)> (feature, secid, values)\n",
      "│   ├── order_flow <HDF5 group \"/dongfang/order_flow\" (2488 members)>\n",
      "│   │   ├── 20130930 <HDF5 group \"/dongfang/order_flow/20130930\" (3 members)> (feature, secid, values)\n",
      "│   │   ├── 20131008 <HDF5 group \"/dongfang/order_flow/20131008\" (3 members)> (feature, secid, values)\n",
      "│   │   ├── ...... omitting 2484 memebers\n",
      "│   │   ├── 20231218 <HDF5 group \"/dongfang/order_flow/20231218\" (3 members)> (feature, secid, values)\n",
      "│   │   └── 20231219 <HDF5 group \"/dongfang/order_flow/20231219\" (3 members)> (feature, secid, values)\n",
      "│   └── tra <HDF5 group \"/dongfang/tra\" (961 members)>\n",
      "│       ├── 20200102 <HDF5 group \"/dongfang/tra/20200102\" (3 members)> (feature, secid, values)\n",
      "│       ├── 20200103 <HDF5 group \"/dongfang/tra/20200103\" (3 members)> (feature, secid, values)\n",
      "│       ├── ...... omitting 957 memebers\n",
      "│       ├── 20231215 <HDF5 group \"/dongfang/tra/20231215\" (3 members)> (feature, secid, values)\n",
      "│       └── 20231218 <HDF5 group \"/dongfang/tra/20231218\" (3 members)> (feature, secid, values)\n",
      "├── haitong <HDF5 group \"/haitong\" (2 members)>\n",
      "│   ├── dl_factors <HDF5 group \"/haitong/dl_factors\" (1694 members)>\n",
      "│   │   ├── 20161230 <HDF5 group \"/haitong/dl_factors/20161230\" (3 members)> (feature, secid, values)\n",
      "│   │   ├── 20170103 <HDF5 group \"/haitong/dl_factors/20170103\" (3 members)> (feature, secid, values)\n",
      "│   │   ├── ...... omitting 1690 memebers\n",
      "│   │   ├── 20231218 <HDF5 group \"/haitong/dl_factors/20231218\" (3 members)> (feature, secid, values)\n",
      "│   │   └── 20231219 <HDF5 group \"/haitong/dl_factors/20231219\" (3 members)> (feature, secid, values)\n",
      "│   └── hf_factors <HDF5 group \"/haitong/hf_factors\" (2664 members)>\n",
      "│       ├── 20130104 <HDF5 group \"/haitong/hf_factors/20130104\" (3 members)> (feature, secid, values)\n",
      "│       ├── 20130107 <HDF5 group \"/haitong/hf_factors/20130107\" (3 members)> (feature, secid, values)\n",
      "│       ├── ...... omitting 2660 memebers\n",
      "│       ├── 20231218 <HDF5 group \"/haitong/hf_factors/20231218\" (3 members)> (feature, secid, values)\n",
      "│       └── 20231219 <HDF5 group \"/haitong/hf_factors/20231219\" (3 members)> (feature, secid, values)\n",
      "└── kaiyuan <HDF5 group \"/kaiyuan\" (2 members)>\n",
      "    ├── negative <HDF5 group \"/kaiyuan/negative\" (119 members)>\n",
      "    │   ├── 20140130 <HDF5 group \"/kaiyuan/negative/20140130\" (3 members)> (feature, secid, values)\n",
      "    │   ├── 20140228 <HDF5 group \"/kaiyuan/negative/20140228\" (3 members)> (feature, secid, values)\n",
      "    │   ├── ...... omitting 115 memebers\n",
      "    │   ├── 20231031 <HDF5 group \"/kaiyuan/negative/20231031\" (3 members)> (feature, secid, values)\n",
      "    │   └── 20231130 <HDF5 group \"/kaiyuan/negative/20231130\" (3 members)> (feature, secid, values)\n",
      "    └── positive <HDF5 group \"/kaiyuan/positive\" (156 members)>\n",
      "        ├── 20140130 <HDF5 group \"/kaiyuan/positive/20140130\" (3 members)> (feature, secid, values)\n",
      "        ├── 20140228 <HDF5 group \"/kaiyuan/positive/20140228\" (3 members)> (feature, secid, values)\n",
      "        ├── ...... omitting 152 memebers\n",
      "        ├── 20231031 <HDF5 group \"/kaiyuan/positive/20231031\" (3 members)> (feature, secid, values)\n",
      "        └── 20231130 <HDF5 group \"/kaiyuan/positive/20231130\" (3 members)> (feature, secid, values)\n"
     ]
    }
   ],
   "source": [
    "from scripts.data_utils.sqlConnector import online_sql_connector , update_connector\n",
    "update_connector(path = './data/DB_3rdPartySQL.h5' , connector = online_sql_connector() , trace = 1)\n"
   ]
  },
  {
   "cell_type": "code",
   "execution_count": 5,
   "metadata": {},
   "outputs": [
    {
     "data": {
      "text/plain": [
       "<HDF5 group \"/haitong/hf_factors/20231213\" (3 members)>"
      ]
     },
     "execution_count": 5,
     "metadata": {},
     "output_type": "execute_result"
    }
   ],
   "source": [
    "from scripts.data_utils.DataTank import DataTank , Data1D\n",
    "dtank = DataTank('./data/DB_3rdPartySQL.h5' , open=True , mode = 'r')\n",
    "g = dtank.get_object('haitong/hf_factors/20231213')\n",
    "g"
   ]
  }
 ],
 "metadata": {
  "kernelspec": {
   "display_name": "Python 3",
   "language": "python",
   "name": "python3"
  },
  "language_info": {
   "codemirror_mode": {
    "name": "ipython",
    "version": 3
   },
   "file_extension": ".py",
   "mimetype": "text/x-python",
   "name": "python",
   "nbconvert_exporter": "python",
   "pygments_lexer": "ipython3",
   "version": "3.10.12"
  }
 },
 "nbformat": 4,
 "nbformat_minor": 2
}
