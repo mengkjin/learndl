{
 "cells": [
  {
   "cell_type": "code",
   "execution_count": 1,
   "metadata": {},
   "outputs": [
    {
     "name": "stdout",
     "output_type": "stream",
     "text": [
      "False 2.2.0+cpu\n"
     ]
    }
   ],
   "source": [
    "import torch\n",
    "print(torch.cuda.is_available() , torch.__version__)"
   ]
  },
  {
   "cell_type": "code",
   "execution_count": 1,
   "metadata": {},
   "outputs": [
    {
     "name": "stderr",
     "output_type": "stream",
     "text": [
      "\u001b[1m\u001b[37m\u001b[44m24-05-28 23:12:00|MOD:display     |\u001b[0m: \u001b[1m\u001b[34mModel Specifics:\u001b[0m\n",
      "\u001b[1m\u001b[37m\u001b[41m24-05-28 23:12:00|MOD:display     |\u001b[0m: \u001b[1m\u001b[31mStart Process [Data] at Tue May 28 23:12:00 2024!\u001b[0m\n"
     ]
    },
    {
     "name": "stdout",
     "output_type": "stream",
     "text": [
      "--Process Queue : Data + Fit + Test\n",
      "--Model_name is set to factor_vae_day_ShortTest!\n",
      "Callback : DynamicDataLink() , assign and unlink dynamic data in tra networks\n",
      "Callback : ResetOptimizer(num_reset=2,trigger=40,recover_level=1.0,speedup2x=True) , reset optimizer on some epoch (can speedup scheduler)\n",
      "Callback : CallbackTimer(verbosity=10) , record time cost of callback hooks\n",
      "Callback : EarlyStoppage(patience=20) , stop fitting when validation score cease to improve\n",
      "Callback : ValidationConverge(patience=5,eps=1e-05) , stop fitting when valid_score converge\n",
      "Callback : EarlyExitRetrain(earliest=10,max_attempt=4,lr_multiplier=[1, 0.1, 10, 0.01, 100, 1]) , retrain with new lr if fitting stopped too early\n",
      "Callback : NanLossRetrain(max_attempt=4) , retrain if fitting encounters nan loss\n",
      "Callback : BatchDisplay(verbosity=10) , display batch progress bar\n",
      "Callback : StatusDisplay(verbosity=10) , display epoch and event information\n",
      "Callback : SpecCB_factor_vae() , factor vae additional batch_data components (y and reparameterize noise)\n",
      "{'random_seed': None,\n",
      " 'model_name': 'factor_vae_day_ShortTest',\n",
      " 'model_module': 'factor_vae',\n",
      " 'model_data_type': 'day',\n",
      " 'model_types': ['best', 'swalast', 'swabest'],\n",
      " 'labels': ['std_lag1_10', 'std_lag1_20'],\n",
      " 'beg_date': 20170101,\n",
      " 'end_date': 20170228,\n",
      " 'sample_method': 'train_shuffle',\n",
      " 'shuffle_option': 'epoch',\n",
      " 'lgbm_ensembler': False}\n",
      "{'hidden_dim': [32],\n",
      " 'seqlens': [{'day': 30, '30m': 30, 'dms': 30}],\n",
      " 'factor_num': [64],\n",
      " 'gru_input_size': [16],\n",
      " 'portfolio_size': [100],\n",
      " 'encoder_h_size': [32],\n",
      " 'alpha_h_size': [64],\n",
      " 'predictor_h_size': [16],\n",
      " 'monte_carlo': [100],\n",
      " 'gamma': [0.001]}\n",
      "try using d:\\Coding\\learndl\\learndl\\data\\DataSet/day.20240315.pt , success!\n"
     ]
    },
    {
     "name": "stderr",
     "output_type": "stream",
     "text": [
      "\u001b[1m\u001b[37m\u001b[41m24-05-28 23:12:02|MOD:display     |\u001b[0m: \u001b[1m\u001b[31mFinish Process [Data], Cost 2.0 Secs\u001b[0m\n",
      "\u001b[1m\u001b[37m\u001b[41m24-05-28 23:12:02|MOD:display     |\u001b[0m: \u001b[1m\u001b[31mStart Process [Fit] at Tue May 28 23:12:02 2024!\u001b[0m\n"
     ]
    },
    {
     "name": "stdout",
     "output_type": "stream",
     "text": [
      "Pre-Norming method of [day] : {'divlast': True, 'histnorm': True}\n"
     ]
    },
    {
     "name": "stderr",
     "output_type": "stream",
     "text": [
      "  0%|          | 0/10 [00:00<?, ?it/s]"
     ]
    },
    {
     "name": "stdout",
     "output_type": "stream",
     "text": [
      "score function of [spearman] calculated and success!\n",
      "loss function of [mse] calculated and success!\n"
     ]
    },
    {
     "name": "stderr",
     "output_type": "stream",
     "text": [
      "Train Ep#  0 loss : 14.59762: 100%|██████████| 10/10 [00:11<00:00,  1.15s/it]\n",
      "Valid Ep#  0 score : -0.04446: 100%|██████████| 10/10 [00:02<00:00,  3.36it/s]\n",
      "\u001b[32mFirstBite Ep#  0 : loss  13.74929, train 0.00958, valid 0.00305, best 0.0031, lr1.3e-03\u001b[0m\n",
      "Train Ep#  1 loss : 6.19597: 100%|██████████| 10/10 [00:12<00:00,  1.26s/it]\n",
      "Valid Ep#  1 score : 0.00193: 100%|██████████| 10/10 [00:03<00:00,  3.06it/s]\n",
      "\u001b[32mFirstBite Ep#  1 : loss  13.76222, train-0.00891, valid-0.03701, best 0.0031, lr2.5e-03\u001b[0m\n",
      "Train Ep#  2 loss : 6.74859: 100%|██████████| 10/10 [00:13<00:00,  1.33s/it]\n",
      "Valid Ep#  2 score : 0.07516: 100%|██████████| 10/10 [00:03<00:00,  2.65it/s]\n",
      "\u001b[32mFirstBite Ep#  2 : loss  11.56739, train-0.02609, valid-0.10133, best 0.0031, lr3.8e-03\u001b[0m\n",
      "Train Ep#  3 loss : 6.18566: 100%|██████████| 10/10 [00:12<00:00,  1.28s/it]\n",
      "Valid Ep#  3 score : -0.07415: 100%|██████████| 10/10 [00:03<00:00,  2.90it/s]\n",
      "\u001b[32mFirstBite Ep#  3 : loss  5.38257, train-0.00011, valid-0.12664, best 0.0031, lr5.0e-03\u001b[0m\n",
      "\u001b[1m\u001b[37m\u001b[44m24-05-28 23:13:18|MOD:display     |\u001b[0m: \u001b[1m\u001b[34mfactor_vae_day_ShortTest #0 @20170103|FirstBite Ep#  4 Max Epoch|Train-0.0001 Valid-0.1266 BestVal-0.1266|Cost  1.2Min, 14.9Sec/Ep\u001b[0m\n",
      "\u001b[1m\u001b[37m\u001b[41m24-05-28 23:13:18|MOD:display     |\u001b[0m: \u001b[1m\u001b[31mFinish Process [Fit], Cost 0.0 Hours, 1.3 Min/model, 19.0 Sec/Epoch\u001b[0m\n",
      "\u001b[1m\u001b[37m\u001b[41m24-05-28 23:13:18|MOD:display     |\u001b[0m: \u001b[1m\u001b[31mStart Process [Test] at Tue May 28 23:13:18 2024!\u001b[0m\n",
      "\u001b[1m\u001b[37m\u001b[44m24-05-28 23:13:18|MOD:display     |\u001b[0m: \u001b[1m\u001b[34mEach Model Date Testing Mean Score(spearman):\u001b[0m\n",
      "\u001b[32mModels            0       0       0\u001b[0m\n",
      "\u001b[32mOutput         best swalast swabest\u001b[0m\n",
      "Test best 20170228 score : 0.00384: 100%|██████████| 35/35 [00:11<00:00,  2.93it/s] \n",
      "Test swalast 20170228 score : 0.00580: 100%|██████████| 35/35 [00:13<00:00,  2.68it/s] \n",
      "Test swabest 20170228 score : 0.01536: 100%|██████████| 35/35 [00:13<00:00,  2.68it/s] \n",
      "\u001b[32m20170103     0.0094  0.0126  0.0092\u001b[0m\n",
      "\u001b[32mAllTimeAvg   0.0094  0.0126  0.0092\u001b[0m\n",
      "\u001b[32mAllTimeSum     0.33    0.44    0.32\u001b[0m\n",
      "\u001b[32mStd          0.0418  0.0658  0.0589\u001b[0m\n",
      "\u001b[32mTValue         1.32    1.13    0.92\u001b[0m\n",
      "\u001b[32mAnnIR        1.0954  0.9357  0.7631\u001b[0m\n",
      "\u001b[1m\u001b[37m\u001b[41m24-05-28 23:13:57|MOD:display     |\u001b[0m: \u001b[1m\u001b[31mFinish Process [Test], Cost 38.9 Secs\u001b[0m\n",
      "\u001b[1m\u001b[37m\u001b[41m24-05-28 23:13:57|MOD:time        |\u001b[0m: \u001b[1m\u001b[31mMain Process Finished! Cost 1 Minutes 56.9 Seconds\u001b[0m\n"
     ]
    },
    {
     "name": "stdout",
     "output_type": "stream",
     "text": [
      "                    hook_name  num_calls  total_time   avg_time\n",
      "10             on_train_batch         40   50.148857   1.253721\n",
      "27              on_test_batch        105   37.924924   0.361190\n",
      "15        on_validation_batch         40   13.392570   0.334814\n",
      "21           on_fit_model_end          1   10.315681  10.315681\n",
      "4          on_fit_model_start          1    1.651680   1.651680\n",
      "24        on_test_model_start          1    0.612837   0.612837\n",
      "17    on_validation_epoch_end          4    0.310947   0.077737\n",
      "25   on_test_model_type_start          3    0.143047   0.047682\n",
      "13  on_validation_epoch_start          4    0.011567   0.002892\n",
      "20       on_before_save_model          1    0.010300   0.010300\n",
      "12         on_train_epoch_end          4    0.007555   0.001889\n",
      "29     on_test_model_type_end          3    0.006940   0.002313\n",
      "6        on_train_epoch_start          4    0.003865   0.000966\n",
      "28          on_test_batch_end        105    0.000000   0.000000\n",
      "30          on_test_model_end          1    0.000000   0.000000\n",
      "26        on_test_batch_start        105    0.000000   0.000000\n",
      "31                on_test_end          1    0.000000   0.000000\n",
      "23              on_test_start          1    0.000000   0.000000\n",
      "22                 on_fit_end          1    0.000000   0.000000\n",
      "0          on_configure_model          1    0.000000   0.000000\n",
      "16    on_validation_batch_end         40    0.000000   0.000000\n",
      "19           on_fit_epoch_end          4    0.000000   0.000000\n",
      "18    on_before_fit_epoch_end          4    0.000000   0.000000\n",
      "1               on_data_start          1    0.000000   0.000000\n",
      "14  on_validation_batch_start         40    0.000000   0.000000\n",
      "11         on_train_batch_end         40    0.000000   0.000000\n",
      "9           on_after_backward         40    0.000000   0.000000\n",
      "8          on_before_backward         40    0.000000   0.000000\n",
      "7        on_train_batch_start         40    0.000000   0.000000\n",
      "5          on_fit_epoch_start          4    0.000000   0.000000\n",
      "3                on_fit_start          1    0.000000   0.000000\n",
      "2                 on_data_end          1    0.000000   0.000000\n",
      "32         on_summarize_model          1    0.000000   0.000000\n"
     ]
    }
   ],
   "source": [
    "from src import API\n",
    "API.Trainer.main(stage = 0 , resume = 0 , checkname= 1)"
   ]
  },
  {
   "cell_type": "code",
   "execution_count": 2,
   "metadata": {},
   "outputs": [
    {
     "data": {
      "text/plain": [
       "tensor(0.0160)"
      ]
     },
     "execution_count": 2,
     "metadata": {},
     "output_type": "execute_result"
    }
   ],
   "source": [
    "import torch\n",
    "a = torch.tensor([0.0102, 0.0219])\n",
    "v = torch.nanmean(a , dim = -1)\n",
    "v"
   ]
  },
  {
   "cell_type": "code",
   "execution_count": null,
   "metadata": {},
   "outputs": [],
   "source": []
  },
  {
   "cell_type": "code",
   "execution_count": 2,
   "metadata": {},
   "outputs": [
    {
     "data": {
      "text/plain": [
       "{'seqlens': [{'day': 30, '30m': 30, 'dms': 30}],\n",
       " 'objective': ['regression'],\n",
       " 'linear_tree': [True],\n",
       " 'learning_rate': [0.3],\n",
       " 'lambda_l2': ['1e-05'],\n",
       " 'alpha': ['1e-07'],\n",
       " 'num_leaves': [31],\n",
       " 'max_depth': [6],\n",
       " 'min_sum_hessian_in_leaf': [1],\n",
       " 'feature_fraction': [0.6],\n",
       " 'bagging_fraction': [0.75],\n",
       " 'force_col_wise': [True],\n",
       " 'monotone_constraints': [1]}"
      ]
     },
     "execution_count": 2,
     "metadata": {},
     "output_type": "execute_result"
    }
   ],
   "source": [
    "from src.environ import PATH\n",
    "PATH.read_yaml('./configs/model_lgbm.yaml')"
   ]
  },
  {
   "cell_type": "code",
   "execution_count": 7,
   "metadata": {},
   "outputs": [
    {
     "name": "stdout",
     "output_type": "stream",
     "text": [
      "Use device name: NVIDIA GeForce RTX 4090\n",
      "predict is False , Data Processing start!\n",
      "4 datas :['y', 'day', '30m', 'risk']\n",
      "y blocks loading start!\n",
      " --> labels blocks reading [ret10_lag] DataBase...... finished! Cost 18.86 secs\n",
      " --> labels blocks reading [ret20_lag] DataBase...... finished! Cost 20.08 secs\n",
      " --> labels blocks merging (2)...... finished! Cost 2.88 secs\n",
      " --> models blocks reading [risk_exp] DataBase...... finished! Cost 67.78 secs\n",
      "y blocks loading finished! Cost 120.52 secs\n",
      "y blocks process...... finished! Cost 45.61 secs\n",
      "y blocks masking...... finished! Cost 0.81 secs\n",
      "y blocks saving ...... finished! Cost 3.76 secs\n",
      "y blocks norming...... finished! Cost 0.00 secs\n",
      "y finished! Cost 170.98 Seconds\n",
      "--------------------------------------------------------------------------------\n",
      "day blocks loading start!\n",
      " --> trade blocks reading [day] DataBase...... finished! Cost 28.95 secs\n",
      "day blocks loading finished! Cost 28.98 secs\n",
      "day blocks process...... finished! Cost 3.27 secs\n",
      "day blocks masking...... finished! Cost 0.86 secs\n",
      "day blocks saving ...... finished! Cost 3.56 secs\n",
      "day blocks norming...... finished! Cost 7.99 secs\n",
      "day finished! Cost 44.82 Seconds\n",
      "--------------------------------------------------------------------------------\n",
      "30m blocks loading start!\n",
      " --> trade blocks reading [30min] DataBase...... finished! Cost 67.25 secs\n",
      " --> trade blocks reading [day] DataBase...... finished! Cost 24.67 secs\n",
      "30m blocks loading finished! Cost 92.86 secs\n",
      "30m blocks process...... finished! Cost 32.48 secs\n",
      "30m blocks masking...... finished! Cost 2.42 secs\n",
      "30m blocks saving ...... finished! Cost 40.51 secs\n",
      "30m blocks norming...... finished! Cost 3.77 secs\n",
      "30m finished! Cost 172.21 Seconds\n",
      "--------------------------------------------------------------------------------\n",
      "risk blocks loading start!\n",
      " --> models blocks reading [risk_exp] DataBase...... finished! Cost 32.95 secs\n",
      "risk blocks loading finished! Cost 32.97 secs\n",
      "risk blocks process...... finished! Cost 0.00 secs\n",
      "risk blocks masking...... finished! Cost 0.89 secs\n",
      "risk blocks saving ...... finished! Cost 5.45 secs\n",
      "risk blocks norming...... finished! Cost 0.00 secs\n",
      "risk finished! Cost 39.42 Seconds\n",
      "--------------------------------------------------------------------------------\n",
      "Data Processing Finished! Cost 427.43 Seconds\n",
      "predict is True , Data Processing start!\n",
      "4 datas :['y', 'day', '30m', 'risk']\n",
      "y blocks loading start!\n",
      " --> labels blocks reading [ret10_lag] DataBase...... finished! Cost 0.71 secs\n",
      " --> labels blocks reading [ret20_lag] DataBase...... finished! Cost 0.66 secs\n",
      " --> labels blocks merging (2)...... finished! Cost 0.09 secs\n",
      " --> models blocks reading [risk_exp] DataBase...... finished! Cost 2.77 secs\n",
      "y blocks loading finished! Cost 4.44 secs\n",
      "y blocks process...... finished! Cost 1.94 secs\n",
      "y blocks masking...... finished! Cost 0.07 secs\n",
      "y blocks saving ...... finished! Cost 0.13 secs\n",
      "y blocks norming...... finished! Cost 0.00 secs\n",
      "y finished! Cost 6.68 Seconds\n",
      "--------------------------------------------------------------------------------\n",
      "day blocks loading start!\n",
      " --> trade blocks reading [day] DataBase...... finished! Cost 1.09 secs\n",
      "day blocks loading finished! Cost 1.09 secs\n",
      "day blocks process...... finished! Cost 0.10 secs\n",
      "day blocks masking...... finished! Cost 0.07 secs\n",
      "day blocks saving ...... finished! Cost 0.28 secs\n",
      "day blocks norming...... finished! Cost 0.00 secs\n",
      "day finished! Cost 1.65 Seconds\n",
      "--------------------------------------------------------------------------------\n",
      "30m blocks loading start!\n",
      " --> trade blocks reading [30min] DataBase...... finished! Cost 4.47 secs\n",
      " --> trade blocks reading [day] DataBase...... finished! Cost 0.97 secs\n",
      "30m blocks loading finished! Cost 5.49 secs\n",
      "30m blocks process...... finished! Cost 1.39 secs\n",
      "30m blocks masking...... finished! Cost 0.12 secs\n",
      "30m blocks saving ...... finished! Cost 2.08 secs\n",
      "30m blocks norming...... finished! Cost 0.00 secs\n",
      "30m finished! Cost 9.20 Seconds\n",
      "--------------------------------------------------------------------------------\n",
      "risk blocks loading start!\n",
      " --> models blocks reading [risk_exp] DataBase...... finished! Cost 1.49 secs\n",
      "risk blocks loading finished! Cost 1.49 secs\n",
      "risk blocks process...... finished! Cost 0.00 secs\n",
      "risk blocks masking...... finished! Cost 0.08 secs\n",
      "risk blocks saving ...... finished! Cost 0.21 secs\n",
      "risk blocks norming...... finished! Cost 0.00 secs\n",
      "risk finished! Cost 1.88 Seconds\n",
      "--------------------------------------------------------------------------------\n",
      "Data Processing Finished! Cost 19.42 Seconds\n"
     ]
    }
   ],
   "source": [
    "from src import API\n",
    "API.DataAPI.reconstruct_train_data()"
   ]
  }
 ],
 "metadata": {
  "kernelspec": {
   "display_name": "Python 3",
   "language": "python",
   "name": "python3"
  },
  "language_info": {
   "codemirror_mode": {
    "name": "ipython",
    "version": 3
   },
   "file_extension": ".py",
   "mimetype": "text/x-python",
   "name": "python",
   "nbconvert_exporter": "python",
   "pygments_lexer": "ipython3",
   "version": "3.11.8"
  }
 },
 "nbformat": 4,
 "nbformat_minor": 2
}
