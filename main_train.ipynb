{
 "cells": [
  {
   "cell_type": "code",
   "execution_count": 41,
   "metadata": {},
   "outputs": [
    {
     "data": {
      "text/plain": [
       "WindowsPath('d:/Coding/learndl/learndl/data/DataBase/DB_financial_ts/disclosure/2024/disclosure.20240630.feather')"
      ]
     },
     "execution_count": 41,
     "metadata": {},
     "output_type": "execute_result"
    }
   ],
   "source": [
    "import pandas as pd\n",
    "import numpy as np\n",
    "\n",
    "from src.basic import PATH\n",
    "\n",
    "PATH.get_target_path('financial_ts' , 'disclosure' , 20240630)\n"
   ]
  },
  {
   "cell_type": "code",
   "execution_count": 39,
   "metadata": {},
   "outputs": [
    {
     "data": {
      "text/html": [
       "<div>\n",
       "<style scoped>\n",
       "    .dataframe tbody tr th:only-of-type {\n",
       "        vertical-align: middle;\n",
       "    }\n",
       "\n",
       "    .dataframe tbody tr th {\n",
       "        vertical-align: top;\n",
       "    }\n",
       "\n",
       "    .dataframe thead th {\n",
       "        text-align: right;\n",
       "    }\n",
       "</style>\n",
       "<table border=\"1\" class=\"dataframe\">\n",
       "  <thead>\n",
       "    <tr style=\"text-align: right;\">\n",
       "      <th></th>\n",
       "      <th>ts_code</th>\n",
       "      <th>end_date</th>\n",
       "      <th>ann_date</th>\n",
       "      <th>div_proc</th>\n",
       "      <th>stk_div</th>\n",
       "      <th>stk_bo_rate</th>\n",
       "      <th>stk_co_rate</th>\n",
       "      <th>cash_div</th>\n",
       "      <th>cash_div_tax</th>\n",
       "      <th>record_date</th>\n",
       "      <th>ex_date</th>\n",
       "      <th>pay_date</th>\n",
       "      <th>div_listdate</th>\n",
       "      <th>imp_ann_date</th>\n",
       "    </tr>\n",
       "  </thead>\n",
       "  <tbody>\n",
       "  </tbody>\n",
       "</table>\n",
       "</div>"
      ],
      "text/plain": [
       "Empty DataFrame\n",
       "Columns: [ts_code, end_date, ann_date, div_proc, stk_div, stk_bo_rate, stk_co_rate, cash_div, cash_div_tax, record_date, ex_date, pay_date, div_listdate, imp_ann_date]\n",
       "Index: []"
      ]
     },
     "execution_count": 39,
     "metadata": {},
     "output_type": "execute_result"
    }
   ],
   "source": [
    "from src.data.tushare import pro\n",
    "df = pro.dividend(end_date='20240317')\n",
    "df"
   ]
  },
  {
   "cell_type": "code",
   "execution_count": 2,
   "metadata": {},
   "outputs": [
    {
     "name": "stderr",
     "output_type": "stream",
     "text": [
      "\u001b[1m\u001b[37m\u001b[44m24-11-11 12:18:29|MOD:display     |\u001b[0m: \u001b[1m\u001b[34mModel Specifics:\u001b[0m\n",
      "\u001b[1m\u001b[37m\u001b[41m24-11-11 12:18:29|MOD:display     |\u001b[0m: \u001b[1m\u001b[31mStart Process [Data] at Mon Nov 11 12:18:29 2024!\u001b[0m\n"
     ]
    },
    {
     "name": "stdout",
     "output_type": "stream",
     "text": [
      "--Process Queue : Data + Fit + Test\n",
      "--Start Training New!\n",
      "--Model_name is set to lgbm_day_ShortTest!\n",
      "StatusDisplay(verbosity=10) , display epoch and event information\n",
      "DetailedAlphaAnalysis(use_num=avg) , record and concat each model to Alpha model instance\n",
      "{'model_name': 'lgbm_day_ShortTest',\n",
      " 'model_module': 'lgbm',\n",
      " 'model_submodels': ['best'],\n",
      " 'model_booster_type': 'lgbm',\n",
      " 'model_booster_optuna': True,\n",
      " 'model_booster_head': None,\n",
      " 'model_data_types': ['day'],\n",
      " 'model_data_labels': None,\n",
      " 'random_seed': None,\n",
      " 'beg_date': 20170101,\n",
      " 'end_date': 20170228,\n",
      " 'train_sample_method': 'sequential',\n",
      " 'train_shuffle_option': 'epoch'}\n",
      "{'seqlens': [{'day': 5}],\n",
      " 'objective': ['mse'],\n",
      " 'linear_tree': [True],\n",
      " 'learning_rate': [0.3],\n",
      " 'reg_lambda': [1e-05],\n",
      " 'reg_alpha': [1e-07],\n",
      " 'num_leaves': [31],\n",
      " 'max_depth': [6],\n",
      " 'min_sum_hessian_in_leaf': [1],\n",
      " 'feature_fraction': [0.6],\n",
      " 'bagging_fraction': [0.75],\n",
      " 'force_col_wise': [True],\n",
      " 'monotone_constraints': [0],\n",
      " 'verbosity': 10}\n",
      "try using d:\\Coding\\learndl\\learndl\\data\\DataSet/day.20240607.pt , success!\n"
     ]
    },
    {
     "name": "stderr",
     "output_type": "stream",
     "text": [
      "\u001b[1m\u001b[37m\u001b[41m24-11-11 12:18:31|MOD:display     |\u001b[0m: \u001b[1m\u001b[31mFinish Process [Data], Cost 1.8 Secs\u001b[0m\n",
      "\u001b[1m\u001b[37m\u001b[41m24-11-11 12:18:31|MOD:display     |\u001b[0m: \u001b[1m\u001b[31mStart Process [Fit] at Mon Nov 11 12:18:31 2024!\u001b[0m\n",
      "\u001b[1m\u001b[37m\u001b[44m24-11-11 12:18:31|MOD:classes     |\u001b[0m: \u001b[1m\u001b[34mFirst Iterance: (20170103 , 0)\u001b[0m\n"
     ]
    },
    {
     "name": "stdout",
     "output_type": "stream",
     "text": [
      "Pre-Norming method of [day] : {'divlast': True, 'histnorm': True}\n"
     ]
    },
    {
     "name": "stderr",
     "output_type": "stream",
     "text": [
      "100%|██████████| 38/38 [00:00<00:00, 38048.11it/s]\n",
      "100%|██████████| 10/10 [00:00<?, ?it/s]\n",
      "[I 2024-11-11 12:18:32,805] A new study created in RDB with name: lgbm_day_ShortTest@0@20170103@best_20241111-121832_mhcvknMto9\n",
      " 24%|██▎       | 9/38 [00:00<00:00, 86.77it/s]"
     ]
    },
    {
     "name": "stdout",
     "output_type": "stream",
     "text": [
      "score function of [spearman] calculated and success!\n"
     ]
    },
    {
     "name": "stderr",
     "output_type": "stream",
     "text": [
      "100%|██████████| 38/38 [00:00<00:00, 87.19it/s]\n",
      "100%|██████████| 10/10 [00:00<00:00, 90.33it/s]\n",
      "\u001b[1m\u001b[37m\u001b[44m24-11-11 12:18:50|MOD:display     |\u001b[0m: \u001b[1m\u001b[34mlgbm_day_ShortTest #0 @20170103|  |Train 0.1827 Valid 0.1992 BestVal 0.1992|Cost  0.3Min, 18.6Sec/Ep\u001b[0m\n",
      "100%|██████████| 38/38 [00:00<00:00, 19046.79it/s]\n",
      "100%|██████████| 10/10 [00:00<00:00, 10017.44it/s]\n",
      "[I 2024-11-11 12:18:51,440] A new study created in RDB with name: lgbm_day_ShortTest@0@20170207@best_20241111-121851_btN2b8uAkf\n",
      "100%|██████████| 38/38 [00:00<00:00, 128.29it/s]\n",
      "100%|██████████| 10/10 [00:00<00:00, 126.92it/s]\n",
      "\u001b[1m\u001b[37m\u001b[44m24-11-11 12:19:09|MOD:display     |\u001b[0m: \u001b[1m\u001b[34mlgbm_day_ShortTest #0 @20170207|  |Train 0.1993 Valid 0.2044 BestVal 0.2044|Cost  0.3Min, 17.8Sec/Ep\u001b[0m\n",
      "\u001b[1m\u001b[37m\u001b[41m24-11-11 12:19:09|MOD:display     |\u001b[0m: \u001b[1m\u001b[31mFinish Process [Fit], Cost 37.4 Secs\u001b[0m\n",
      "\u001b[1m\u001b[37m\u001b[41m24-11-11 12:19:09|MOD:display     |\u001b[0m: \u001b[1m\u001b[31mStart Process [Test] at Mon Nov 11 12:19:09 2024!\u001b[0m\n",
      "100%|██████████| 20/20 [00:00<00:00, 55.86it/s]\n",
      "100%|██████████| 15/15 [00:00<00:00, 72.66it/s]\n",
      "\u001b[1m\u001b[37m\u001b[44m24-11-11 12:19:10|MOD:display     |\u001b[0m: \u001b[1m\u001b[34mTesting Mean Score(spearman):\u001b[0m\n"
     ]
    },
    {
     "data": {
      "text/html": [
       "<div>\n",
       "<style scoped>\n",
       "    .dataframe tbody tr th:only-of-type {\n",
       "        vertical-align: middle;\n",
       "    }\n",
       "\n",
       "    .dataframe tbody tr th {\n",
       "        vertical-align: top;\n",
       "    }\n",
       "\n",
       "    .dataframe thead tr th {\n",
       "        text-align: left;\n",
       "    }\n",
       "</style>\n",
       "<table border=\"1\" class=\"dataframe\">\n",
       "  <thead>\n",
       "    <tr>\n",
       "      <th></th>\n",
       "      <th>lgbm.0</th>\n",
       "    </tr>\n",
       "    <tr>\n",
       "      <th></th>\n",
       "      <th>best</th>\n",
       "    </tr>\n",
       "  </thead>\n",
       "  <tbody>\n",
       "    <tr>\n",
       "      <th>20170103</th>\n",
       "      <td>0.194</td>\n",
       "    </tr>\n",
       "    <tr>\n",
       "      <th>20170207</th>\n",
       "      <td>0.195</td>\n",
       "    </tr>\n",
       "    <tr>\n",
       "      <th>Avg</th>\n",
       "      <td>0.194</td>\n",
       "    </tr>\n",
       "    <tr>\n",
       "      <th>Sum</th>\n",
       "      <td>6.795</td>\n",
       "    </tr>\n",
       "    <tr>\n",
       "      <th>Std</th>\n",
       "      <td>0.045</td>\n",
       "    </tr>\n",
       "    <tr>\n",
       "      <th>T</th>\n",
       "      <td>25.255</td>\n",
       "    </tr>\n",
       "    <tr>\n",
       "      <th>IR</th>\n",
       "      <td>20.913</td>\n",
       "    </tr>\n",
       "  </tbody>\n",
       "</table>\n",
       "</div>"
      ],
      "text/plain": [
       "          lgbm.0\n",
       "           best \n",
       "20170103   0.194\n",
       "20170207   0.195\n",
       "Avg        0.194\n",
       "Sum        6.795\n",
       "Std        0.045\n",
       "T         25.255\n",
       "IR        20.913"
      ]
     },
     "metadata": {},
     "output_type": "display_data"
    },
    {
     "name": "stderr",
     "output_type": "stream",
     "text": [
      "\u001b[1m\u001b[37m\u001b[41m24-11-11 12:19:11|MOD:display     |\u001b[0m: \u001b[1m\u001b[31mFinish Process [Test], Cost 2.7 Secs\u001b[0m\n"
     ]
    },
    {
     "name": "stdout",
     "output_type": "stream",
     "text": [
      "Test results are saved to d:\\Coding\\learndl\\learndl\\models\\lgbm_day_ShortTest\\detailed_analysis\\test.xlsx\n"
     ]
    },
    {
     "data": {
      "text/html": [
       "<div>\n",
       "<style scoped>\n",
       "    .dataframe tbody tr th:only-of-type {\n",
       "        vertical-align: middle;\n",
       "    }\n",
       "\n",
       "    .dataframe tbody tr th {\n",
       "        vertical-align: top;\n",
       "    }\n",
       "\n",
       "    .dataframe thead th {\n",
       "        text-align: right;\n",
       "    }\n",
       "</style>\n",
       "<table border=\"1\" class=\"dataframe\">\n",
       "  <thead>\n",
       "    <tr style=\"text-align: center;\">\n",
       "      <th></th>\n",
       "      <th>group</th>\n",
       "      <th>1</th>\n",
       "      <th>2</th>\n",
       "      <th>3</th>\n",
       "      <th>4</th>\n",
       "      <th>5</th>\n",
       "      <th>6</th>\n",
       "      <th>7</th>\n",
       "      <th>8</th>\n",
       "      <th>9</th>\n",
       "      <th>10</th>\n",
       "      <th>11</th>\n",
       "      <th>12</th>\n",
       "      <th>13</th>\n",
       "      <th>14</th>\n",
       "      <th>15</th>\n",
       "      <th>16</th>\n",
       "      <th>17</th>\n",
       "      <th>18</th>\n",
       "      <th>19</th>\n",
       "      <th>20</th>\n",
       "    </tr>\n",
       "    <tr>\n",
       "      <th>num</th>\n",
       "      <th>submodel</th>\n",
       "      <th></th>\n",
       "      <th></th>\n",
       "      <th></th>\n",
       "      <th></th>\n",
       "      <th></th>\n",
       "      <th></th>\n",
       "      <th></th>\n",
       "      <th></th>\n",
       "      <th></th>\n",
       "      <th></th>\n",
       "      <th></th>\n",
       "      <th></th>\n",
       "      <th></th>\n",
       "      <th></th>\n",
       "      <th></th>\n",
       "      <th></th>\n",
       "      <th></th>\n",
       "      <th></th>\n",
       "      <th></th>\n",
       "      <th></th>\n",
       "    </tr>\n",
       "  </thead>\n",
       "  <tbody>\n",
       "    <tr>\n",
       "      <th>0</th>\n",
       "      <th>best</th>\n",
       "      <td>-3.103%</td>\n",
       "      <td>-1.958%</td>\n",
       "      <td>-1.639%</td>\n",
       "      <td>-0.546%</td>\n",
       "      <td>-1.381%</td>\n",
       "      <td>-1.147%</td>\n",
       "      <td>-0.979%</td>\n",
       "      <td>-0.770%</td>\n",
       "      <td>-0.756%</td>\n",
       "      <td>-0.822%</td>\n",
       "      <td>-0.871%</td>\n",
       "      <td>-0.560%</td>\n",
       "      <td>-0.583%</td>\n",
       "      <td>-0.593%</td>\n",
       "      <td>-0.970%</td>\n",
       "      <td>-0.605%</td>\n",
       "      <td>-0.419%</td>\n",
       "      <td>-0.211%</td>\n",
       "      <td>-0.339%</td>\n",
       "      <td>10.351%</td>\n",
       "    </tr>\n",
       "  </tbody>\n",
       "</table>\n",
       "</div>"
      ],
      "text/plain": [
       "group           1        2        3        4        5        6        7        8        9        10       11       12       13       14       15       16       17       18       19       20   \n",
       "num submodel                                                                                                                                                                                    \n",
       "0   best      -3.103%  -1.958%  -1.639%  -0.546%  -1.381%  -1.147%  -0.979%  -0.770%  -0.756%  -0.822%  -0.871%  -0.560%  -0.583%  -0.593%  -0.970%  -0.605%  -0.419%  -0.211%  -0.339%  10.351%"
      ]
     },
     "metadata": {},
     "output_type": "display_data"
    },
    {
     "name": "stdout",
     "output_type": "stream",
     "text": [
      "Grouped Return Results are saved to d:\\Coding\\learndl\\learndl\\models\\lgbm_day_ShortTest\\detailed_analysis\\group.xlsx\n"
     ]
    },
    {
     "data": {
      "text/html": [
       "<div>\n",
       "<style scoped>\n",
       "    .dataframe tbody tr th:only-of-type {\n",
       "        vertical-align: middle;\n",
       "    }\n",
       "\n",
       "    .dataframe tbody tr th {\n",
       "        vertical-align: top;\n",
       "    }\n",
       "\n",
       "    .dataframe thead th {\n",
       "        text-align: right;\n",
       "    }\n",
       "</style>\n",
       "<table border=\"1\" class=\"dataframe\">\n",
       "  <thead>\n",
       "    <tr style=\"text-align: center;\">\n",
       "      <th></th>\n",
       "      <th>factor_name</th>\n",
       "      <th>benchmark</th>\n",
       "      <th>start</th>\n",
       "      <th>end</th>\n",
       "      <th>pf</th>\n",
       "      <th>bm</th>\n",
       "      <th>excess</th>\n",
       "      <th>annualized</th>\n",
       "      <th>mdd</th>\n",
       "      <th>te</th>\n",
       "      <th>ir</th>\n",
       "      <th>calmar</th>\n",
       "      <th>turnover</th>\n",
       "      <th>mdd_period</th>\n",
       "    </tr>\n",
       "  </thead>\n",
       "  <tbody>\n",
       "    <tr>\n",
       "      <th>1</th>\n",
       "      <td>best</td>\n",
       "      <td>csi300</td>\n",
       "      <td>20170104</td>\n",
       "      <td>20170302</td>\n",
       "      <td>1.94%</td>\n",
       "      <td>1.97%</td>\n",
       "      <td>-0.03%</td>\n",
       "      <td>-0.22%</td>\n",
       "      <td>0.45%</td>\n",
       "      <td>1.43%</td>\n",
       "      <td>-0.154</td>\n",
       "      <td>-0.491</td>\n",
       "      <td>3.400</td>\n",
       "      <td>20170208-20170222</td>\n",
       "    </tr>\n",
       "    <tr>\n",
       "      <th>2</th>\n",
       "      <td>best</td>\n",
       "      <td>csi500</td>\n",
       "      <td>20170104</td>\n",
       "      <td>20170302</td>\n",
       "      <td>1.71%</td>\n",
       "      <td>0.66%</td>\n",
       "      <td>1.05%</td>\n",
       "      <td>6.60%</td>\n",
       "      <td>0.76%</td>\n",
       "      <td>3.94%</td>\n",
       "      <td>1.676</td>\n",
       "      <td>8.712</td>\n",
       "      <td>3.400</td>\n",
       "      <td>20170125-20170208</td>\n",
       "    </tr>\n",
       "    <tr>\n",
       "      <th>0</th>\n",
       "      <td>best</td>\n",
       "      <td>csi1000</td>\n",
       "      <td>20170104</td>\n",
       "      <td>20170302</td>\n",
       "      <td>0.19%</td>\n",
       "      <td>-2.29%</td>\n",
       "      <td>2.48%</td>\n",
       "      <td>16.81%</td>\n",
       "      <td>0.61%</td>\n",
       "      <td>4.85%</td>\n",
       "      <td>3.463</td>\n",
       "      <td>27.584</td>\n",
       "      <td>3.400</td>\n",
       "      <td>20170125-20170208</td>\n",
       "    </tr>\n",
       "  </tbody>\n",
       "</table>\n",
       "</div>"
      ],
      "text/plain": [
       "  factor_name benchmark    start      end     pf      bm    excess annualized  mdd     te      ir    calmar turnover     mdd_period    \n",
       "1     best       csi300  20170104  20170302  1.94%   1.97%  -0.03%   -0.22%    0.45%  1.43%  -0.154  -0.491   3.400   20170208-20170222\n",
       "2     best       csi500  20170104  20170302  1.71%   0.66%   1.05%    6.60%    0.76%  3.94%   1.676   8.712   3.400   20170125-20170208\n",
       "0     best      csi1000  20170104  20170302  0.19%  -2.29%   2.48%   16.81%    0.61%  4.85%   3.463  27.584   3.400   20170125-20170208"
      ]
     },
     "metadata": {},
     "output_type": "display_data"
    },
    {
     "name": "stderr",
     "output_type": "stream",
     "text": [
      "\u001b[1m\u001b[37m\u001b[41m24-11-11 12:19:46|MOD:timer       |\u001b[0m: \u001b[1m\u001b[31mMain Process Finished! Cost 1 Minutes 16.1 Seconds\u001b[0m\n"
     ]
    },
    {
     "name": "stdout",
     "output_type": "stream",
     "text": [
      "Analytic datas are saved to d:\\Coding\\learndl\\learndl\\models\\lgbm_day_ShortTest\\detailed_analysis\\data.xlsx\n",
      "Analytic plots are saved to d:\\Coding\\learndl\\learndl\\models\\lgbm_day_ShortTest\\detailed_analysis\\plot.pdf\n"
     ]
    },
    {
     "data": {
      "text/plain": [
       "<src.model.model_module.application.trainer.ModelTrainer at 0x1367f106bd0>"
      ]
     },
     "execution_count": 2,
     "metadata": {},
     "output_type": "execute_result"
    }
   ],
   "source": [
    "from src.api import ModelTrainer  \n",
    "app = ModelTrainer.initialize(stage = 0 , resume = 0 , checkname= 1 , override={'env.short_test':True})\n",
    "app.go()"
   ]
  },
  {
   "cell_type": "code",
   "execution_count": 1,
   "metadata": {},
   "outputs": [
    {
     "name": "stdout",
     "output_type": "stream",
     "text": [
      "model_name is None, update all hidden models\n",
      "{'name': 'gru_day', 'nums': None, 'submodels': ['best']}\n",
      "Beware! Should be at server or short_test, but short_test is False now!\n",
      "try using d:\\Coding\\learndl\\learndl\\data\\DataSet/day.20240607.pt , success!\n",
      "Load  2 DataBlocks...... finished! Cost 0.08 secs\n",
      "Align 2 DataBlocks...... finished! Cost 0.21 secs\n",
      "Pre-Norming method of [day] : {'divlast': True, 'histnorm': True}\n"
     ]
    },
    {
     "name": "stderr",
     "output_type": "stream",
     "text": [
      "100%|██████████| 316/316 [00:00<00:00, 2933.69it/s]\n",
      "100%|██████████| 316/316 [00:00<00:00, 3047.38it/s]"
     ]
    },
    {
     "name": "stdout",
     "output_type": "stream",
     "text": [
      "--------------------------------------------------------------------------------\n"
     ]
    },
    {
     "name": "stderr",
     "output_type": "stream",
     "text": [
      "\n"
     ]
    },
    {
     "data": {
      "text/plain": [
       "<src.model.model_module.application.extractor.ModelHiddenExtractor at 0x1bcbb3520d0>"
      ]
     },
     "execution_count": 1,
     "metadata": {},
     "output_type": "execute_result"
    }
   ],
   "source": [
    "from src.api import ModelHiddenExtractor\n",
    "ModelHiddenExtractor.update_hidden()\n",
    "\n"
   ]
  }
 ],
 "metadata": {
  "kernelspec": {
   "display_name": "Python 3",
   "language": "python",
   "name": "python3"
  },
  "language_info": {
   "codemirror_mode": {
    "name": "ipython",
    "version": 3
   },
   "file_extension": ".py",
   "mimetype": "text/x-python",
   "name": "python",
   "nbconvert_exporter": "python",
   "pygments_lexer": "ipython3",
   "version": "3.11.8"
  }
 },
 "nbformat": 4,
 "nbformat_minor": 2
}
