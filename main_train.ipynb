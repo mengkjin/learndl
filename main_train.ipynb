{
 "cells": [
  {
   "cell_type": "code",
   "execution_count": 1,
   "metadata": {},
   "outputs": [
    {
     "data": {
      "text/plain": [
       "True"
      ]
     },
     "execution_count": 1,
     "metadata": {},
     "output_type": "execute_result"
    }
   ],
   "source": [
    "# %% test cuda\n",
    "import torch #type: ignore\n",
    "torch.cuda.is_available()"
   ]
  },
  {
   "cell_type": "code",
   "execution_count": 4,
   "metadata": {},
   "outputs": [
    {
     "data": {
      "text/plain": [
       "[0]"
      ]
     },
     "execution_count": 4,
     "metadata": {},
     "output_type": "execute_result"
    }
   ],
   "source": [
    "import numpy as np\n",
    "\n",
    "a = np.random.rand(10)\n",
    "b = np.random.rand(10)\n",
    "c = np.random.rand(10)\n",
    "\n",
    "l = (a,b,c)\n",
    "[i for i,li in enumerate(l) if li is a]"
   ]
  },
  {
   "cell_type": "code",
   "execution_count": 2,
   "metadata": {},
   "outputs": [
    {
     "ename": "NameError",
     "evalue": "name 'l' is not defined",
     "output_type": "error",
     "traceback": [
      "\u001b[0;31m---------------------------------------------------------------------------\u001b[0m",
      "\u001b[0;31mNameError\u001b[0m                                 Traceback (most recent call last)",
      "Cell \u001b[0;32mIn[2], line 1\u001b[0m\n\u001b[0;32m----> 1\u001b[0m [i \u001b[38;5;28;01mfor\u001b[39;00m i,li \u001b[38;5;129;01min\u001b[39;00m \u001b[38;5;28menumerate\u001b[39m(\u001b[43ml\u001b[49m) \u001b[38;5;28;01mif\u001b[39;00m li \u001b[38;5;129;01mis\u001b[39;00m b]\n",
      "\u001b[0;31mNameError\u001b[0m: name 'l' is not defined"
     ]
    }
   ],
   "source": []
  },
  {
   "cell_type": "code",
   "execution_count": null,
   "metadata": {},
   "outputs": [],
   "source": []
  },
  {
   "cell_type": "code",
   "execution_count": null,
   "metadata": {},
   "outputs": [],
   "source": []
  },
  {
   "cell_type": "code",
   "execution_count": 1,
   "metadata": {},
   "outputs": [
    {
     "name": "stdout",
     "output_type": "stream",
     "text": [
      "Use device name: NVIDIA GeForce RTX 4090\n"
     ]
    },
    {
     "name": "stderr",
     "output_type": "stream",
     "text": [
      "\u001b[1m\u001b[37m\u001b[44m24-04-21 15:04:52|MOD:ModelModule |\u001b[0m: \u001b[1m\u001b[34mModel Specifics:\u001b[0m\n",
      "\u001b[1m\u001b[37m\u001b[41m24-04-21 15:04:52|MOD:ModelModule |\u001b[0m: \u001b[1m\u001b[31mStart Process [Data] at Sun Apr 21 15:04:52 2024!\u001b[0m\n"
     ]
    },
    {
     "name": "stdout",
     "output_type": "stream",
     "text": [
      "--Process Queue : Data + Fit + Test\n",
      "--Start Training New!\n",
      "--Model_name is set to gru_day_ShortTest.15!\n",
      "{'random_seed': None,\n",
      " 'model_name': 'gru_day_ShortTest.15',\n",
      " 'model_module': 'gru',\n",
      " 'model_data_type': 'day',\n",
      " 'model_data_prenorm': {'day': {'divlast': True, 'histnorm': True}},\n",
      " 'labels': ['std_lag1_10'],\n",
      " 'beg_date': 20170103,\n",
      " 'end_date': 20171201,\n",
      " 'interval': 120,\n",
      " 'input_step_day': 5,\n",
      " 'sample_method': 'train_shuffle',\n",
      " 'shuffle_option': 'epoch'}\n",
      "{'hidden_dim': [64],\n",
      " 'seqlens': [{'day': 30, '30m': 30, 'dms': 30}],\n",
      " 'tra_seqlens': [{'hist_loss': 40}],\n",
      " 'dropout': [0.1],\n",
      " 'enc_in': [True],\n",
      " 'enc_att': [False],\n",
      " 'rnn_type': ['lstm'],\n",
      " 'rnn_att': [False],\n",
      " 'rnn_layers': [2],\n",
      " 'dec_mlp_layers': [2],\n",
      " 'num_output': [1],\n",
      " 'kernel_size': [3],\n",
      " 'hidden_as_factor': [False],\n",
      " 'ordered_param_group': [False]}\n",
      "use /home/mengkjin/Workspace/learndl/data/torch_pack/day.20240313.pt\n"
     ]
    },
    {
     "name": "stderr",
     "output_type": "stream",
     "text": [
      "\u001b[1m\u001b[37m\u001b[41m24-04-21 15:04:56|MOD:ModelModule |\u001b[0m: \u001b[1m\u001b[31mFinish Process [Data], Cost 3.3 Secs\u001b[0m\n",
      "\u001b[1m\u001b[37m\u001b[41m24-04-21 15:04:56|MOD:ModelModule |\u001b[0m: \u001b[1m\u001b[31mStart Process [Fit] at Sun Apr 21 15:04:56 2024!\u001b[0m\n"
     ]
    },
    {
     "name": "stdout",
     "output_type": "stream",
     "text": [
      "Pre-Norming method of [day] : {'divlast': True, 'histnorm': True}\n"
     ]
    },
    {
     "name": "stderr",
     "output_type": "stream",
     "text": [
      "Train Ep#  0 loss : 0.99165:   5%|▌         | 1/19 [00:00<00:04,  4.26it/s]"
     ]
    },
    {
     "name": "stdout",
     "output_type": "stream",
     "text": [
      "score function of [spearman] calculated and success!\n",
      "loss function of [pearson] calculated and success!\n"
     ]
    },
    {
     "name": "stderr",
     "output_type": "stream",
     "text": [
      "Train Ep#  0 loss : 0.99214: 100%|██████████| 19/19 [00:00<00:00, 29.63it/s]\n",
      "Valid Ep#  0 score : -0.01486: 100%|██████████| 20/20 [00:00<00:00, 241.48it/s]\n",
      "\u001b[32mFirstBite Ep#  0 : loss  0.99214, train 0.01523, valid-0.01486, max-0.0149, best-0.0149, lr1.0e-07\u001b[0m\n",
      "Train Ep#  1 loss : 0.97070: 100%|██████████| 19/19 [00:00<00:00, 44.53it/s]\n",
      "Valid Ep#  1 score : 0.00440: 100%|██████████| 20/20 [00:00<00:00, 211.42it/s]\n",
      "\u001b[32mFirstBite Ep#  1 : loss  0.97070, train 0.04773, valid 0.00440, max 0.0044, best 0.0044, lr1.3e-03\u001b[0m\n",
      "Train Ep#  2 loss : 0.94481: 100%|██████████| 19/19 [00:00<00:00, 44.46it/s]\n",
      "Valid Ep#  2 score : 0.04332: 100%|██████████| 20/20 [00:00<00:00, 232.82it/s]\n",
      "\u001b[32mFirstBite Ep#  2 : loss  0.94481, train 0.06300, valid 0.04332, max 0.0433, best 0.0433, lr2.5e-03\u001b[0m\n",
      "Train Ep#  3 loss : 0.91726: 100%|██████████| 19/19 [00:00<00:00, 45.02it/s]\n",
      "Valid Ep#  3 score : 0.03981: 100%|██████████| 20/20 [00:00<00:00, 243.69it/s]\n",
      "\u001b[32mFirstBite Ep#  3 : loss  0.91726, train 0.09082, valid 0.03981, max 0.0433, best 0.0433, lr3.8e-03\u001b[0m\n",
      "Train Ep#  4 loss : 0.89854: 100%|██████████| 19/19 [00:00<00:00, 45.03it/s]\n",
      "Valid Ep#  4 score : 0.09023: 100%|██████████| 20/20 [00:00<00:00, 223.09it/s]\n",
      "\u001b[32mFirstBite Ep#  4 : loss  0.89854, train 0.10140, valid 0.09023, max 0.0902, best 0.0902, lr5.0e-03\u001b[0m\n",
      "Train Ep#  5 loss : 0.87096: 100%|██████████| 19/19 [00:00<00:00, 45.37it/s]\n",
      "Valid Ep#  5 score : 0.12259: 100%|██████████| 20/20 [00:00<00:00, 262.56it/s]\n",
      "\u001b[32mFirstBite Ep#  5 : loss  0.87096, train 0.12755, valid 0.12259, max 0.1226, best 0.1226, lr3.8e-03\u001b[0m\n",
      "Train Ep#  6 loss : 0.85627: 100%|██████████| 19/19 [00:00<00:00, 46.28it/s]\n",
      "Valid Ep#  6 score : 0.13381: 100%|██████████| 20/20 [00:00<00:00, 261.04it/s]\n",
      "\u001b[32mFirstBite Ep#  6 : loss  0.85627, train 0.14564, valid 0.13381, max 0.1338, best 0.1338, lr2.5e-03\u001b[0m\n",
      "Train Ep#  7 loss : 0.84591: 100%|██████████| 19/19 [00:00<00:00, 46.45it/s]\n",
      "Valid Ep#  7 score : 0.13219: 100%|██████████| 20/20 [00:00<00:00, 259.51it/s]\n",
      "\u001b[32mFirstBite Ep#  7 : loss  0.84591, train 0.15654, valid 0.13219, max 0.1338, best 0.1338, lr1.3e-03\u001b[0m\n",
      "Train Ep#  8 loss : 0.83962: 100%|██████████| 19/19 [00:00<00:00, 49.50it/s]\n",
      "Valid Ep#  8 score : 0.13219: 100%|██████████| 20/20 [00:00<00:00, 259.09it/s]\n",
      "\u001b[32mFirstBite Ep#  8 : loss  0.83962, train 0.16280, valid 0.13219, max 0.1338, best 0.1338, lr1.0e-07\u001b[0m\n",
      "Train Ep#  9 loss : 0.84023: 100%|██████████| 19/19 [00:00<00:00, 47.24it/s]\n",
      "Valid Ep#  9 score : 0.13941: 100%|██████████| 20/20 [00:00<00:00, 211.28it/s]\n",
      "\u001b[32mFirstBite Ep#  9 : loss  0.84023, train 0.15895, valid 0.13941, max 0.1394, best 0.1394, lr6.3e-04\u001b[0m\n",
      "Train Ep# 10 loss : 0.83616: 100%|██████████| 19/19 [00:00<00:00, 49.38it/s]\n",
      "Valid Ep# 10 score : 0.14228: 100%|██████████| 20/20 [00:00<00:00, 255.79it/s]\n",
      "\u001b[32mFirstBite Ep# 10 : loss  0.83616, train 0.16526, valid 0.14228, max 0.1423, best 0.1423, lr1.3e-03\u001b[0m\n",
      "Train Ep# 11 loss : 0.82845: 100%|██████████| 19/19 [00:00<00:00, 42.22it/s]\n",
      "Valid Ep# 11 score : 0.12725: 100%|██████████| 20/20 [00:00<00:00, 223.01it/s]\n",
      "\u001b[32mFirstBite Ep# 11 : loss  0.82845, train 0.17111, valid 0.12725, max 0.1423, best 0.1423, lr1.9e-03\u001b[0m\n",
      "Train Ep# 12 loss : 0.82703: 100%|██████████| 19/19 [00:00<00:00, 45.42it/s]\n",
      "Valid Ep# 12 score : 0.14909: 100%|██████████| 20/20 [00:00<00:00, 261.95it/s]\n",
      "\u001b[32mFirstBite Ep# 12 : loss  0.82703, train 0.17339, valid 0.14909, max 0.1491, best 0.1491, lr2.5e-03\u001b[0m\n",
      "Train Ep# 13 loss : 0.82078: 100%|██████████| 19/19 [00:00<00:00, 46.43it/s]\n",
      "Valid Ep# 13 score : 0.14038: 100%|██████████| 20/20 [00:00<00:00, 217.77it/s]\n",
      "\u001b[32mFirstBite Ep# 13 : loss  0.82078, train 0.17976, valid 0.14038, max 0.1491, best 0.1491, lr1.9e-03\u001b[0m\n",
      "Train Ep# 14 loss : 0.81535: 100%|██████████| 19/19 [00:00<00:00, 49.33it/s]\n",
      "Valid Ep# 14 score : 0.14477: 100%|██████████| 20/20 [00:00<00:00, 255.78it/s]\n",
      "\u001b[32mFirstBite Ep# 14 : loss  0.81535, train 0.18732, valid 0.14477, max 0.1491, best 0.1491, lr1.3e-03\u001b[0m\n",
      "Train Ep# 15 loss : 0.80845: 100%|██████████| 19/19 [00:00<00:00, 48.80it/s]\n",
      "Valid Ep# 15 score : 0.14188: 100%|██████████| 20/20 [00:00<00:00, 227.91it/s]\n",
      "\u001b[32mFirstBite Ep# 15 : loss  0.80845, train 0.19674, valid 0.14188, max 0.1491, best 0.1491, lr6.3e-04\u001b[0m\n",
      "Train Ep# 16 loss : 0.80508: 100%|██████████| 19/19 [00:00<00:00, 42.41it/s]\n",
      "Valid Ep# 16 score : 0.14190: 100%|██████████| 20/20 [00:00<00:00, 248.07it/s]\n",
      "\u001b[32mFirstBite Ep# 16 : loss  0.80508, train 0.19910, valid 0.14190, max 0.1491, best 0.1491, lr1.0e-07\u001b[0m\n",
      "Train Ep# 17 loss : 0.80684: 100%|██████████| 19/19 [00:00<00:00, 49.79it/s]\n",
      "Valid Ep# 17 score : 0.15040: 100%|██████████| 20/20 [00:00<00:00, 254.08it/s]\n",
      "\u001b[32mFirstBite Ep# 17 : loss  0.80684, train 0.19718, valid 0.15040, max 0.1504, best 0.1504, lr3.1e-04\u001b[0m\n",
      "Train Ep# 18 loss : 0.80518: 100%|██████████| 19/19 [00:00<00:00, 47.73it/s]\n",
      "Valid Ep# 18 score : 0.13785: 100%|██████████| 20/20 [00:00<00:00, 236.00it/s]\n",
      "\u001b[32mFirstBite Ep# 18 : loss  0.80518, train 0.19999, valid 0.13785, max 0.1504, best 0.1504, lr6.3e-04\u001b[0m\n",
      "Train Ep# 19 loss : 0.80339: 100%|██████████| 19/19 [00:00<00:00, 48.46it/s]\n",
      "Valid Ep# 19 score : 0.14123: 100%|██████████| 20/20 [00:00<00:00, 253.66it/s]\n",
      "\u001b[32mFirstBite Ep# 19 : loss  0.80339, train 0.20170, valid 0.14123, max 0.1504, best 0.1504, lr9.4e-04\u001b[0m\n",
      "  0%|          | 0/19 [00:00<?, ?it/s]\n",
      "100%|██████████| 19/19 [00:00<00:00, 134.40it/s]\n",
      "100%|██████████| 19/19 [00:00<00:00, 142.56it/s]\n",
      "\u001b[1m\u001b[37m\u001b[44m24-04-21 15:05:08|MOD:ModelModule |\u001b[0m: \u001b[1m\u001b[34mgru_day_ShortTest.15 #0 @20170103|FirstBite Ep# 19 Max Epoch|Train 0.2017 Valid 0.1412 BestVal 0.1504|Cost  0.2Min,  0.6Sec/Ep\u001b[0m\n",
      "Train Ep#  0 loss : 1.00122: 100%|██████████| 20/20 [00:00<00:00, 48.77it/s]\n",
      "Valid Ep#  0 score : 0.04064: 100%|██████████| 20/20 [00:00<00:00, 207.05it/s]\n",
      "\u001b[32mFirstBite Ep#  0 : loss  1.00122, train 0.00470, valid 0.04064, max 0.0406, best 0.0406, lr1.0e-07\u001b[0m\n",
      "Train Ep#  1 loss : 0.97050: 100%|██████████| 20/20 [00:00<00:00, 47.33it/s]\n",
      "Valid Ep#  1 score : 0.02828: 100%|██████████| 20/20 [00:00<00:00, 213.95it/s]\n",
      "\u001b[32mFirstBite Ep#  1 : loss  0.97050, train 0.03943, valid 0.02828, max 0.0406, best 0.0406, lr1.3e-03\u001b[0m\n",
      "Train Ep#  2 loss : 0.94105: 100%|██████████| 20/20 [00:00<00:00, 47.38it/s]\n",
      "Valid Ep#  2 score : 0.07350: 100%|██████████| 20/20 [00:00<00:00, 211.14it/s]\n",
      "\u001b[32mFirstBite Ep#  2 : loss  0.94105, train 0.06989, valid 0.07350, max 0.0735, best 0.0735, lr2.5e-03\u001b[0m\n",
      "Train Ep#  3 loss : 0.90526: 100%|██████████| 20/20 [00:00<00:00, 47.44it/s]\n",
      "Valid Ep#  3 score : 0.07813: 100%|██████████| 20/20 [00:00<00:00, 215.87it/s]\n",
      "\u001b[32mFirstBite Ep#  3 : loss  0.90526, train 0.10061, valid 0.07813, max 0.0781, best 0.0781, lr3.8e-03\u001b[0m\n",
      "Train Ep#  4 loss : 0.88946: 100%|██████████| 20/20 [00:00<00:00, 42.53it/s]\n",
      "Valid Ep#  4 score : 0.10531: 100%|██████████| 20/20 [00:00<00:00, 210.71it/s]\n",
      "\u001b[32mFirstBite Ep#  4 : loss  0.88946, train 0.12641, valid 0.10531, max 0.1053, best 0.1053, lr5.0e-03\u001b[0m\n",
      "Train Ep#  5 loss : 0.86533: 100%|██████████| 20/20 [00:00<00:00, 41.25it/s]\n",
      "Valid Ep#  5 score : 0.11871: 100%|██████████| 20/20 [00:00<00:00, 197.33it/s]\n",
      "\u001b[32mFirstBite Ep#  5 : loss  0.86533, train 0.15820, valid 0.11871, max 0.1187, best 0.1187, lr3.8e-03\u001b[0m\n",
      "Train Ep#  6 loss : 0.85641: 100%|██████████| 20/20 [00:00<00:00, 41.33it/s]\n",
      "Valid Ep#  6 score : 0.13475: 100%|██████████| 20/20 [00:00<00:00, 154.54it/s]\n",
      "\u001b[32mFirstBite Ep#  6 : loss  0.85641, train 0.16631, valid 0.13475, max 0.1348, best 0.1348, lr2.5e-03\u001b[0m\n",
      "Train Ep#  7 loss : 0.84717: 100%|██████████| 20/20 [00:00<00:00, 43.41it/s]\n",
      "Valid Ep#  7 score : 0.13769: 100%|██████████| 20/20 [00:00<00:00, 194.41it/s]\n",
      "\u001b[32mFirstBite Ep#  7 : loss  0.84717, train 0.17814, valid 0.13769, max 0.1377, best 0.1377, lr1.3e-03\u001b[0m\n",
      "Train Ep#  8 loss : 0.84209: 100%|██████████| 20/20 [00:00<00:00, 40.44it/s]\n",
      "Valid Ep#  8 score : 0.13770: 100%|██████████| 20/20 [00:00<00:00, 201.35it/s]\n",
      "\u001b[32mFirstBite Ep#  8 : loss  0.84209, train 0.18537, valid 0.13770, max 0.1377, best 0.1377, lr1.0e-07\u001b[0m\n",
      "Train Ep#  9 loss : 0.84762: 100%|██████████| 20/20 [00:00<00:00, 40.11it/s]\n",
      "Valid Ep#  9 score : 0.13162: 100%|██████████| 20/20 [00:00<00:00, 169.80it/s]\n",
      "\u001b[32mFirstBite Ep#  9 : loss  0.84762, train 0.17755, valid 0.13162, max 0.1377, best 0.1377, lr6.3e-04\u001b[0m\n",
      "Train Ep# 10 loss : 0.83801: 100%|██████████| 20/20 [00:00<00:00, 41.08it/s]\n",
      "Valid Ep# 10 score : 0.13408: 100%|██████████| 20/20 [00:00<00:00, 189.76it/s]\n",
      "\u001b[32mFirstBite Ep# 10 : loss  0.83801, train 0.19055, valid 0.13408, max 0.1377, best 0.1377, lr1.3e-03\u001b[0m\n",
      "Train Ep# 11 loss : 0.83346: 100%|██████████| 20/20 [00:00<00:00, 40.95it/s]\n",
      "Valid Ep# 11 score : 0.13726: 100%|██████████| 20/20 [00:00<00:00, 178.15it/s]\n",
      "\u001b[32mFirstBite Ep# 11 : loss  0.83346, train 0.19547, valid 0.13726, max 0.1377, best 0.1377, lr1.9e-03\u001b[0m\n",
      "Train Ep# 12 loss : 0.82799: 100%|██████████| 20/20 [00:00<00:00, 41.58it/s]\n",
      "Valid Ep# 12 score : 0.12234: 100%|██████████| 20/20 [00:00<00:00, 189.81it/s]\n",
      "\u001b[32mFirstBite Ep# 12 : loss  0.82799, train 0.19811, valid 0.12234, max 0.1377, best 0.1377, lr2.5e-03\u001b[0m\n",
      "Train Ep# 13 loss : 0.82936: 100%|██████████| 20/20 [00:00<00:00, 41.63it/s]\n",
      "Valid Ep# 13 score : 0.14317: 100%|██████████| 20/20 [00:00<00:00, 177.43it/s]\n",
      "\u001b[32mFirstBite Ep# 13 : loss  0.82936, train 0.19523, valid 0.14317, max 0.1432, best 0.1432, lr1.9e-03\u001b[0m\n",
      "Train Ep# 14 loss : 0.82050: 100%|██████████| 20/20 [00:00<00:00, 40.95it/s]\n",
      "Valid Ep# 14 score : 0.14026: 100%|██████████| 20/20 [00:00<00:00, 190.44it/s]\n",
      "\u001b[32mFirstBite Ep# 14 : loss  0.82050, train 0.20716, valid 0.14026, max 0.1432, best 0.1432, lr1.3e-03\u001b[0m\n",
      "Train Ep# 15 loss : 0.81117: 100%|██████████| 20/20 [00:00<00:00, 41.68it/s]\n",
      "Valid Ep# 15 score : 0.14636: 100%|██████████| 20/20 [00:00<00:00, 180.24it/s]\n",
      "\u001b[32mFirstBite Ep# 15 : loss  0.81117, train 0.22120, valid 0.14636, max 0.1464, best 0.1464, lr6.3e-04\u001b[0m\n",
      "Train Ep# 16 loss : 0.80917: 100%|██████████| 20/20 [00:00<00:00, 40.77it/s]\n",
      "Valid Ep# 16 score : 0.14637: 100%|██████████| 20/20 [00:00<00:00, 194.77it/s]\n",
      "\u001b[32mFirstBite Ep# 16 : loss  0.80917, train 0.22026, valid 0.14637, max 0.1464, best 0.1464, lr1.0e-07\u001b[0m\n",
      "Train Ep# 17 loss : 0.80978: 100%|██████████| 20/20 [00:00<00:00, 42.90it/s]\n",
      "Valid Ep# 17 score : 0.14617: 100%|██████████| 20/20 [00:00<00:00, 177.38it/s]\n",
      "\u001b[32mFirstBite Ep# 17 : loss  0.80978, train 0.21708, valid 0.14617, max 0.1464, best 0.1464, lr3.1e-04\u001b[0m\n",
      "Train Ep# 18 loss : 0.80923: 100%|██████████| 20/20 [00:00<00:00, 42.11it/s]\n",
      "Valid Ep# 18 score : 0.15224: 100%|██████████| 20/20 [00:00<00:00, 179.09it/s]\n",
      "\u001b[32mFirstBite Ep# 18 : loss  0.80923, train 0.22401, valid 0.15224, max 0.1522, best 0.1522, lr6.3e-04\u001b[0m\n",
      "Train Ep# 19 loss : 0.80569: 100%|██████████| 20/20 [00:00<00:00, 43.13it/s]\n",
      "Valid Ep# 19 score : 0.15086: 100%|██████████| 20/20 [00:00<00:00, 201.78it/s]\n",
      "\u001b[32mFirstBite Ep# 19 : loss  0.80569, train 0.22627, valid 0.15086, max 0.1522, best 0.1522, lr9.4e-04\u001b[0m\n",
      "  0%|          | 0/20 [00:00<?, ?it/s]\n",
      "100%|██████████| 20/20 [00:00<00:00, 130.89it/s]\n",
      "100%|██████████| 20/20 [00:00<00:00, 141.10it/s]\n",
      "\u001b[1m\u001b[37m\u001b[44m24-04-21 15:05:21|MOD:ModelModule |\u001b[0m: \u001b[1m\u001b[34mgru_day_ShortTest.15 #0 @20170704|FirstBite Ep# 19 Max Epoch|Train 0.2263 Valid 0.1509 BestVal 0.1522|Cost  0.2Min,  0.7Sec/Ep\u001b[0m\n",
      "\u001b[1m\u001b[37m\u001b[41m24-04-21 15:05:21|MOD:ModelModule |\u001b[0m: \u001b[1m\u001b[31mFinish Process [Fit], Cost 0.0 Hours, 0.2 Min/model, 0.6 Sec/Epoch\u001b[0m\n",
      "\u001b[1m\u001b[37m\u001b[41m24-04-21 15:05:21|MOD:ModelModule |\u001b[0m: \u001b[1m\u001b[31mStart Process [Test] at Sun Apr 21 15:05:21 2024!\u001b[0m\n",
      "\u001b[1m\u001b[37m\u001b[44m24-04-21 15:05:21|MOD:ModelModule |\u001b[0m: \u001b[1m\u001b[34mEach Model Date Testing Mean Score(spearman):\u001b[0m\n",
      "\u001b[32mModels            0       0       0\u001b[0m\n",
      "\u001b[32mOutput         best swalast swabest\u001b[0m\n",
      "  0%|          | 0/120 [00:00<?, ?it/s]\n",
      "Test best 20170704 score : 0.12934: 100%|██████████| 120/120 [00:00<00:00, 246.76it/s]\n",
      "Test swalast 20170704 score : 0.12230: 100%|██████████| 120/120 [00:00<00:00, 247.71it/s]\n",
      "Test swabest 20170704 score : 0.12627: 100%|██████████| 120/120 [00:00<00:00, 244.48it/s]\n",
      "\u001b[32m20170103     0.1293  0.1223  0.1263\u001b[0m\n",
      "  0%|          | 0/103 [00:00<?, ?it/s]\n",
      "Test best 20171201 score : 0.12153: 100%|██████████| 103/103 [00:00<00:00, 213.03it/s]\n",
      "Test swalast 20171201 score : 0.11852: 100%|██████████| 103/103 [00:00<00:00, 230.99it/s]\n",
      "Test swabest 20171201 score : 0.12279: 100%|██████████| 103/103 [00:00<00:00, 232.56it/s]\n",
      "\u001b[32m20170704     0.1215  0.1185  0.1228\u001b[0m\n",
      "\u001b[32mAllTimeAvg   0.1257  0.1206  0.1247\u001b[0m\n",
      "\u001b[32mAllTimeSum    28.04   26.88   27.80\u001b[0m\n",
      "\u001b[32mStd          0.0885  0.0851  0.0858\u001b[0m\n",
      "\u001b[32mTValue        21.21   21.16   21.69\u001b[0m\n",
      "\u001b[32mAnnIR        6.9593  6.9429  7.1153\u001b[0m\n",
      "\u001b[1m\u001b[37m\u001b[41m24-04-21 15:05:26|MOD:ModelModule |\u001b[0m: \u001b[1m\u001b[31mFinish Process [Test], Cost 4.8 Secs\u001b[0m\n"
     ]
    }
   ],
   "source": [
    "# %% test a specific model\n",
    "from src import ModelTrainer\n",
    "ModelTrainer.fit(process = 0 , resume = 0 , checkname= 1)"
   ]
  },
  {
   "cell_type": "code",
   "execution_count": 1,
   "metadata": {},
   "outputs": [
    {
     "name": "stdout",
     "output_type": "stream",
     "text": [
      "Use device name: NVIDIA GeForce RTX 4090\n"
     ]
    },
    {
     "name": "stderr",
     "output_type": "stream",
     "text": [
      "\u001b[1m\u001b[37m\u001b[41m24-03-31 09:52:11|MOD:data_preprocessing|\u001b[0m: \u001b[1m\u001b[31mif_train is False , Data Processing start!\u001b[0m\n",
      "\u001b[1m\u001b[37m\u001b[45m24-03-31 09:52:11|MOD:data_preprocessing|\u001b[0m: \u001b[1m\u001b[35m3 datas :['y', 'trade_day', 'trade_30m']\u001b[0m\n"
     ]
    },
    {
     "name": "stdout",
     "output_type": "stream",
     "text": [
      "Sun Mar 31 09:52:11 2024 : y start ...\n",
      "labels blocks reading ret10_lag DataBase's ...... cost 0.39 secs\n",
      "labels blocks reading ret20_lag DataBase's ...... cost 0.33 secs\n",
      "labels blocks merging ...... cost 0.05 secs\n",
      "models blocks reading risk_exp DataBase's ...... cost 1.66 secs\n",
      "models blocks merging ...... cost 0.17 secs\n",
      "y blocks process ...... cost 0.88 secs\n",
      "y blocks masking ...... cost 0.05 secs\n",
      "y blocks saving  ...... cost 0.14 secs\n",
      "y blocks norming ...... cost 0.00 secs\n",
      "Sun Mar 31 09:52:14 2024 : y finished! Cost 3.67 Seconds\n",
      "Sun Mar 31 09:52:14 2024 : trade_day start ...\n",
      "trade blocks reading day DataBase's ...... cost 0.56 secs\n",
      "trade_day blocks merging ...... cost 0.00 secs\n",
      "trade_day blocks process ...... cost 0.03 secs\n",
      "trade_day blocks masking ...... cost 0.05 secs\n",
      "trade_day blocks saving  ...... cost 0.16 secs\n",
      "trade_day blocks norming ...... cost 0.00 secs\n",
      "Sun Mar 31 09:52:15 2024 : trade_day finished! Cost 0.81 Seconds\n",
      "Sun Mar 31 09:52:15 2024 : trade_30m start ...\n",
      "trade blocks reading 30min DataBase's ...... cost 2.51 secs\n",
      "trade_30m blocks merging ...... cost 0.00 secs\n",
      "trade blocks reading day DataBase's ...... cost 0.53 secs\n",
      "trade_day blocks merging ...... cost 0.02 secs\n",
      "trade_30m blocks process ...... cost 0.95 secs\n",
      "trade_30m blocks masking ...... cost 0.05 secs\n",
      "trade_30m blocks saving  ..."
     ]
    },
    {
     "name": "stderr",
     "output_type": "stream",
     "text": [
      "\u001b[1m\u001b[37m\u001b[41m24-03-31 09:52:21|MOD:data_preprocessing|\u001b[0m: \u001b[1m\u001b[31mData Processing Finished! Cost 10.02 Seconds\u001b[0m\n"
     ]
    },
    {
     "name": "stdout",
     "output_type": "stream",
     "text": [
      "... cost 1.13 secs\n",
      "trade_30m blocks norming ...... cost 0.00 secs\n",
      "Sun Mar 31 09:52:21 2024 : trade_30m finished! Cost 5.19 Seconds\n"
     ]
    }
   ],
   "source": [
    "# prepare data\n",
    "from src import DataModule\n",
    "DataModule.prepare_data()"
   ]
  }
 ],
 "metadata": {
  "kernelspec": {
   "display_name": "Python 3",
   "language": "python",
   "name": "python3"
  },
  "language_info": {
   "codemirror_mode": {
    "name": "ipython",
    "version": 3
   },
   "file_extension": ".py",
   "mimetype": "text/x-python",
   "name": "python",
   "nbconvert_exporter": "python",
   "pygments_lexer": "ipython3",
   "version": "3.11.8"
  }
 },
 "nbformat": 4,
 "nbformat_minor": 2
}
