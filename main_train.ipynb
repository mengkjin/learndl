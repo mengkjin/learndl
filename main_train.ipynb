{
 "cells": [
  {
   "cell_type": "code",
   "execution_count": 1,
   "metadata": {},
   "outputs": [
    {
     "name": "stdout",
     "output_type": "stream",
     "text": [
      "False 2.2.0+cpu\n"
     ]
    }
   ],
   "source": [
    "import torch\n",
    "print(torch.cuda.is_available() , torch.__version__)"
   ]
  },
  {
   "cell_type": "code",
   "execution_count": 1,
   "metadata": {},
   "outputs": [
    {
     "name": "stderr",
     "output_type": "stream",
     "text": [
      "\u001b[1m\u001b[37m\u001b[44m24-05-24 14:53:37|MOD:display     |\u001b[0m: \u001b[1m\u001b[34mModel Specifics:\u001b[0m\n",
      "\u001b[1m\u001b[37m\u001b[41m24-05-24 14:53:37|MOD:display     |\u001b[0m: \u001b[1m\u001b[31mStart Process [Data] at Fri May 24 14:53:37 2024!\u001b[0m\n"
     ]
    },
    {
     "name": "stdout",
     "output_type": "stream",
     "text": [
      "--Process Queue : Data + Fit + Test\n",
      "--Model_name is set to lgbm_day_ShortTest!\n",
      "Callback : StatusDisplay(verbosity=10) , display epoch and event information\n",
      "{'random_seed': None,\n",
      " 'model_name': 'lgbm_day_ShortTest',\n",
      " 'model_module': 'lgbm',\n",
      " 'model_data_type': 'day',\n",
      " 'model_types': ['best'],\n",
      " 'beg_date': 20170101,\n",
      " 'end_date': 99991231,\n",
      " 'sample_method': 'train_shuffle',\n",
      " 'shuffle_option': 'epoch',\n",
      " 'lgbm_ensembler': True}\n",
      "{'seqlens': [{'day': 30}],\n",
      " 'objective': ['regression'],\n",
      " 'linear_tree': [True],\n",
      " 'learning_rate': [0.3],\n",
      " 'lambda_l2': [1e-05],\n",
      " 'alpha': [1e-07],\n",
      " 'num_leaves': [31],\n",
      " 'max_depth': [6, 8, 10],\n",
      " 'min_sum_hessian_in_leaf': [1],\n",
      " 'feature_fraction': [0.6],\n",
      " 'bagging_fraction': [0.75],\n",
      " 'force_col_wise': [True],\n",
      " 'monotone_constraints': [0]}\n",
      "use d:\\Coding\\learndl\\learndl\\data\\DataSet/day.20240315.pt\n"
     ]
    },
    {
     "name": "stderr",
     "output_type": "stream",
     "text": [
      "\u001b[1m\u001b[37m\u001b[41m24-05-24 14:53:39|MOD:display     |\u001b[0m: \u001b[1m\u001b[31mFinish Process [Data], Cost 1.9 Secs\u001b[0m\n",
      "\u001b[1m\u001b[37m\u001b[41m24-05-24 14:53:39|MOD:display     |\u001b[0m: \u001b[1m\u001b[31mStart Process [Fit] at Fri May 24 14:53:39 2024!\u001b[0m\n"
     ]
    },
    {
     "name": "stdout",
     "output_type": "stream",
     "text": [
      "Pre-Norming method of [day] : {'divlast': True, 'histnorm': True}\n",
      "score function of [spearman] calculated and success!\n"
     ]
    },
    {
     "name": "stderr",
     "output_type": "stream",
     "text": [
      "\u001b[1m\u001b[37m\u001b[44m24-05-24 14:53:46|MOD:display     |\u001b[0m: \u001b[1m\u001b[34mlgbm_day_ShortTest #0 @20170103|  |Train 0.2261 Valid 0.2664 BestVal 0.2664|Cost  0.1Min,  5.8Sec/Ep\u001b[0m\n",
      "\u001b[1m\u001b[37m\u001b[44m24-05-24 14:53:52|MOD:display     |\u001b[0m: \u001b[1m\u001b[34mlgbm_day_ShortTest #1 @20170103|  |Train 0.2397 Valid 0.2597 BestVal 0.2597|Cost  0.1Min,  5.9Sec/Ep\u001b[0m\n",
      "\u001b[1m\u001b[37m\u001b[44m24-05-24 14:53:58|MOD:display     |\u001b[0m: \u001b[1m\u001b[34mlgbm_day_ShortTest #2 @20170103|  |Train 0.2410 Valid 0.2583 BestVal 0.2583|Cost  0.1Min,  6.1Sec/Ep\u001b[0m\n",
      "\u001b[1m\u001b[37m\u001b[44m24-05-24 14:54:06|MOD:display     |\u001b[0m: \u001b[1m\u001b[34mlgbm_day_ShortTest #0 @20170704|  |Train 0.2986 Valid 0.0642 BestVal 0.0642|Cost  0.1Min,  7.7Sec/Ep\u001b[0m\n",
      "\u001b[1m\u001b[37m\u001b[44m24-05-24 14:54:14|MOD:display     |\u001b[0m: \u001b[1m\u001b[34mlgbm_day_ShortTest #1 @20170704|  |Train 0.3000 Valid 0.0647 BestVal 0.0647|Cost  0.1Min,  7.8Sec/Ep\u001b[0m\n",
      "\u001b[1m\u001b[37m\u001b[44m24-05-24 14:54:23|MOD:display     |\u001b[0m: \u001b[1m\u001b[34mlgbm_day_ShortTest #2 @20170704|  |Train 0.2991 Valid 0.0648 BestVal 0.0648|Cost  0.2Min,  9.6Sec/Ep\u001b[0m\n",
      "\u001b[1m\u001b[37m\u001b[44m24-05-24 14:54:31|MOD:display     |\u001b[0m: \u001b[1m\u001b[34mlgbm_day_ShortTest #0 @20171226|  |Train 0.1836 Valid 0.1447 BestVal 0.1447|Cost  0.1Min,  7.4Sec/Ep\u001b[0m\n",
      "\u001b[1m\u001b[37m\u001b[44m24-05-24 14:54:39|MOD:display     |\u001b[0m: \u001b[1m\u001b[34mlgbm_day_ShortTest #1 @20171226|  |Train 0.1862 Valid 0.1560 BestVal 0.1560|Cost  0.1Min,  7.2Sec/Ep\u001b[0m\n",
      "\u001b[1m\u001b[37m\u001b[44m24-05-24 14:54:46|MOD:display     |\u001b[0m: \u001b[1m\u001b[34mlgbm_day_ShortTest #2 @20171226|  |Train 0.1862 Valid 0.1560 BestVal 0.1560|Cost  0.1Min,  7.5Sec/Ep\u001b[0m\n",
      "\u001b[1m\u001b[37m\u001b[44m24-05-24 14:54:54|MOD:display     |\u001b[0m: \u001b[1m\u001b[34mlgbm_day_ShortTest #0 @20180627|  |Train 0.1550 Valid 0.0601 BestVal 0.0601|Cost  0.1Min,  7.5Sec/Ep\u001b[0m\n",
      "\u001b[1m\u001b[37m\u001b[44m24-05-24 14:55:02|MOD:display     |\u001b[0m: \u001b[1m\u001b[34mlgbm_day_ShortTest #1 @20180627|  |Train 0.1674 Valid 0.0645 BestVal 0.0645|Cost  0.1Min,  7.7Sec/Ep\u001b[0m\n",
      "\u001b[1m\u001b[37m\u001b[44m24-05-24 14:55:10|MOD:display     |\u001b[0m: \u001b[1m\u001b[34mlgbm_day_ShortTest #2 @20180627|  |Train 0.1764 Valid 0.0634 BestVal 0.0634|Cost  0.1Min,  8.2Sec/Ep\u001b[0m\n",
      "\u001b[1m\u001b[37m\u001b[44m24-05-24 14:55:19|MOD:display     |\u001b[0m: \u001b[1m\u001b[34mlgbm_day_ShortTest #0 @20181220|  |Train 0.1682 Valid 0.1031 BestVal 0.1031|Cost  0.1Min,  7.9Sec/Ep\u001b[0m\n",
      "\u001b[1m\u001b[37m\u001b[44m24-05-24 14:55:28|MOD:display     |\u001b[0m: \u001b[1m\u001b[34mlgbm_day_ShortTest #1 @20181220|  |Train 0.1376 Valid 0.0835 BestVal 0.0835|Cost  0.1Min,  8.9Sec/Ep\u001b[0m\n",
      "\u001b[1m\u001b[37m\u001b[44m24-05-24 14:55:36|MOD:display     |\u001b[0m: \u001b[1m\u001b[34mlgbm_day_ShortTest #2 @20181220|  |Train 0.1376 Valid 0.0835 BestVal 0.0835|Cost  0.1Min,  7.9Sec/Ep\u001b[0m\n",
      "\u001b[1m\u001b[37m\u001b[44m24-05-24 14:55:44|MOD:display     |\u001b[0m: \u001b[1m\u001b[34mlgbm_day_ShortTest #0 @20190624|  |Train 0.0879 Valid 0.0508 BestVal 0.0508|Cost  0.1Min,  7.3Sec/Ep\u001b[0m\n",
      "\u001b[1m\u001b[37m\u001b[44m24-05-24 14:55:51|MOD:display     |\u001b[0m: \u001b[1m\u001b[34mlgbm_day_ShortTest #1 @20190624|  |Train 0.1081 Valid 0.0664 BestVal 0.0664|Cost  0.1Min,  7.9Sec/Ep\u001b[0m\n",
      "\u001b[1m\u001b[37m\u001b[44m24-05-24 14:55:59|MOD:display     |\u001b[0m: \u001b[1m\u001b[34mlgbm_day_ShortTest #2 @20190624|  |Train 0.1082 Valid 0.0777 BestVal 0.0777|Cost  0.1Min,  7.8Sec/Ep\u001b[0m\n",
      "\u001b[1m\u001b[37m\u001b[44m24-05-24 14:56:08|MOD:display     |\u001b[0m: \u001b[1m\u001b[34mlgbm_day_ShortTest #0 @20191217|  |Train 0.1662 Valid 0.0370 BestVal 0.0370|Cost  0.1Min,  8.0Sec/Ep\u001b[0m\n",
      "\u001b[1m\u001b[37m\u001b[44m24-05-24 14:56:16|MOD:display     |\u001b[0m: \u001b[1m\u001b[34mlgbm_day_ShortTest #1 @20191217|  |Train 0.2018 Valid 0.0636 BestVal 0.0636|Cost  0.1Min,  8.5Sec/Ep\u001b[0m\n",
      "\u001b[1m\u001b[37m\u001b[44m24-05-24 14:56:25|MOD:display     |\u001b[0m: \u001b[1m\u001b[34mlgbm_day_ShortTest #2 @20191217|  |Train 0.1945 Valid 0.0636 BestVal 0.0636|Cost  0.1Min,  8.6Sec/Ep\u001b[0m\n",
      "\u001b[1m\u001b[37m\u001b[44m24-05-24 14:56:34|MOD:display     |\u001b[0m: \u001b[1m\u001b[34mlgbm_day_ShortTest #0 @20200617|  |Train 0.0862 Valid 0.0530 BestVal 0.0530|Cost  0.1Min,  8.8Sec/Ep\u001b[0m\n",
      "\u001b[1m\u001b[37m\u001b[44m24-05-24 14:56:45|MOD:display     |\u001b[0m: \u001b[1m\u001b[34mlgbm_day_ShortTest #1 @20200617|  |Train 0.1008 Valid 0.0446 BestVal 0.0446|Cost  0.2Min, 10.4Sec/Ep\u001b[0m\n",
      "\u001b[1m\u001b[37m\u001b[44m24-05-24 14:56:56|MOD:display     |\u001b[0m: \u001b[1m\u001b[34mlgbm_day_ShortTest #2 @20200617|  |Train 0.1008 Valid 0.0446 BestVal 0.0446|Cost  0.2Min, 11.2Sec/Ep\u001b[0m\n",
      "\u001b[1m\u001b[37m\u001b[44m24-05-24 14:57:07|MOD:display     |\u001b[0m: \u001b[1m\u001b[34mlgbm_day_ShortTest #0 @20201214|  |Train 0.1007 Valid-0.0537 BestVal-0.0537|Cost  0.2Min, 10.3Sec/Ep\u001b[0m\n",
      "\u001b[1m\u001b[37m\u001b[44m24-05-24 14:57:16|MOD:display     |\u001b[0m: \u001b[1m\u001b[34mlgbm_day_ShortTest #1 @20201214|  |Train 0.1075 Valid-0.0369 BestVal-0.0369|Cost  0.2Min,  9.1Sec/Ep\u001b[0m\n",
      "\u001b[1m\u001b[37m\u001b[44m24-05-24 14:57:27|MOD:display     |\u001b[0m: \u001b[1m\u001b[34mlgbm_day_ShortTest #2 @20201214|  |Train 0.1130 Valid-0.0414 BestVal-0.0414|Cost  0.2Min, 10.2Sec/Ep\u001b[0m\n",
      "\u001b[1m\u001b[37m\u001b[44m24-05-24 14:57:38|MOD:display     |\u001b[0m: \u001b[1m\u001b[34mlgbm_day_ShortTest #0 @20210615|  |Train 0.1340 Valid 0.0167 BestVal 0.0167|Cost  0.2Min, 11.0Sec/Ep\u001b[0m\n",
      "\u001b[1m\u001b[37m\u001b[44m24-05-24 14:57:48|MOD:display     |\u001b[0m: \u001b[1m\u001b[34mlgbm_day_ShortTest #1 @20210615|  |Train 0.1395 Valid 0.0250 BestVal 0.0250|Cost  0.2Min,  9.6Sec/Ep\u001b[0m\n",
      "\u001b[1m\u001b[37m\u001b[44m24-05-24 14:57:58|MOD:display     |\u001b[0m: \u001b[1m\u001b[34mlgbm_day_ShortTest #2 @20210615|  |Train 0.0873 Valid 0.0185 BestVal 0.0185|Cost  0.2Min,  9.6Sec/Ep\u001b[0m\n",
      "\u001b[1m\u001b[37m\u001b[44m24-05-24 14:58:08|MOD:display     |\u001b[0m: \u001b[1m\u001b[34mlgbm_day_ShortTest #0 @20211209|  |Train 0.0595 Valid-0.0163 BestVal-0.0163|Cost  0.2Min,  9.8Sec/Ep\u001b[0m\n",
      "\u001b[1m\u001b[37m\u001b[44m24-05-24 14:58:18|MOD:display     |\u001b[0m: \u001b[1m\u001b[34mlgbm_day_ShortTest #1 @20211209|  |Train 0.0659 Valid-0.0015 BestVal-0.0015|Cost  0.2Min,  9.9Sec/Ep\u001b[0m\n",
      "\u001b[1m\u001b[37m\u001b[44m24-05-24 14:58:28|MOD:display     |\u001b[0m: \u001b[1m\u001b[34mlgbm_day_ShortTest #2 @20211209|  |Train 0.0687 Valid 0.0021 BestVal 0.0021|Cost  0.2Min, 10.4Sec/Ep\u001b[0m\n",
      "\u001b[1m\u001b[37m\u001b[44m24-05-24 14:58:41|MOD:display     |\u001b[0m: \u001b[1m\u001b[34mlgbm_day_ShortTest #0 @20220613|  |Train 0.1438 Valid 0.0504 BestVal 0.0504|Cost  0.2Min, 11.5Sec/Ep\u001b[0m\n",
      "\u001b[1m\u001b[37m\u001b[44m24-05-24 14:58:51|MOD:display     |\u001b[0m: \u001b[1m\u001b[34mlgbm_day_ShortTest #1 @20220613|  |Train 0.1109 Valid 0.0358 BestVal 0.0358|Cost  0.2Min, 10.2Sec/Ep\u001b[0m\n",
      "\u001b[1m\u001b[37m\u001b[44m24-05-24 14:59:03|MOD:display     |\u001b[0m: \u001b[1m\u001b[34mlgbm_day_ShortTest #2 @20220613|  |Train 0.1109 Valid 0.0358 BestVal 0.0358|Cost  0.2Min, 12.2Sec/Ep\u001b[0m\n",
      "\u001b[1m\u001b[37m\u001b[44m24-05-24 14:59:20|MOD:display     |\u001b[0m: \u001b[1m\u001b[34mlgbm_day_ShortTest #0 @20221206|  |Train 0.1739 Valid 0.0330 BestVal 0.0330|Cost  0.3Min, 15.9Sec/Ep\u001b[0m\n",
      "\u001b[1m\u001b[37m\u001b[44m24-05-24 14:59:35|MOD:display     |\u001b[0m: \u001b[1m\u001b[34mlgbm_day_ShortTest #1 @20221206|  |Train 0.1826 Valid 0.0340 BestVal 0.0340|Cost  0.3Min, 15.2Sec/Ep\u001b[0m\n",
      "\u001b[1m\u001b[37m\u001b[44m24-05-24 14:59:49|MOD:display     |\u001b[0m: \u001b[1m\u001b[34mlgbm_day_ShortTest #2 @20221206|  |Train 0.1850 Valid 0.0291 BestVal 0.0291|Cost  0.2Min, 14.1Sec/Ep\u001b[0m\n",
      "\u001b[1m\u001b[37m\u001b[44m24-05-24 15:00:03|MOD:display     |\u001b[0m: \u001b[1m\u001b[34mlgbm_day_ShortTest #0 @20230606|  |Train 0.1633 Valid 0.0571 BestVal 0.0571|Cost  0.2Min, 13.0Sec/Ep\u001b[0m\n",
      "\u001b[1m\u001b[37m\u001b[44m24-05-24 15:00:15|MOD:display     |\u001b[0m: \u001b[1m\u001b[34mlgbm_day_ShortTest #1 @20230606|  |Train 0.1299 Valid 0.0324 BestVal 0.0324|Cost  0.2Min, 12.0Sec/Ep\u001b[0m\n",
      "\u001b[1m\u001b[37m\u001b[44m24-05-24 15:00:26|MOD:display     |\u001b[0m: \u001b[1m\u001b[34mlgbm_day_ShortTest #2 @20230606|  |Train 0.1367 Valid 0.0419 BestVal 0.0419|Cost  0.2Min, 11.3Sec/Ep\u001b[0m\n",
      "\u001b[1m\u001b[37m\u001b[44m24-05-24 15:00:40|MOD:display     |\u001b[0m: \u001b[1m\u001b[34mlgbm_day_ShortTest #0 @20231201|  |Train 0.1689 Valid 0.0769 BestVal 0.0769|Cost  0.2Min, 12.9Sec/Ep\u001b[0m\n",
      "\u001b[1m\u001b[37m\u001b[44m24-05-24 15:00:53|MOD:display     |\u001b[0m: \u001b[1m\u001b[34mlgbm_day_ShortTest #1 @20231201|  |Train 0.1536 Valid 0.0622 BestVal 0.0622|Cost  0.2Min, 13.0Sec/Ep\u001b[0m\n",
      "\u001b[1m\u001b[37m\u001b[44m24-05-24 15:01:06|MOD:display     |\u001b[0m: \u001b[1m\u001b[34mlgbm_day_ShortTest #2 @20231201|  |Train 0.1876 Valid 0.0730 BestVal 0.0730|Cost  0.2Min, 13.0Sec/Ep\u001b[0m\n",
      "\u001b[1m\u001b[37m\u001b[41m24-05-24 15:01:06|MOD:display     |\u001b[0m: \u001b[1m\u001b[31mFinish Process [Fit], Cost 446.7 Secs\u001b[0m\n",
      "\u001b[1m\u001b[37m\u001b[41m24-05-24 15:01:06|MOD:display     |\u001b[0m: \u001b[1m\u001b[31mStart Process [Test] at Fri May 24 15:01:06 2024!\u001b[0m\n",
      "\u001b[1m\u001b[37m\u001b[44m24-05-24 15:01:06|MOD:display     |\u001b[0m: \u001b[1m\u001b[34mEach Model Date Testing Mean Score(spearman):\u001b[0m\n",
      "\u001b[32mModels            0       1       2\u001b[0m\n",
      "\u001b[32mOutput         best    best    best\u001b[0m\n",
      "\u001b[32m20170103     0.1512  0.1461  0.1452\u001b[0m\n",
      "\u001b[32m20170704     0.1075  0.1075  0.1064\u001b[0m\n",
      "\u001b[32m20171226     0.0454  0.0559  0.0559\u001b[0m\n",
      "\u001b[32m20180627     0.0442  0.0561  0.0623\u001b[0m\n",
      "\u001b[32m20181220     0.0659  0.0590  0.0590\u001b[0m\n",
      "\u001b[32m20190624     0.0177  0.0285  0.0297\u001b[0m\n",
      "\u001b[32m20191217     0.0756  0.0748  0.0729\u001b[0m\n",
      "\u001b[32m20200617    -0.0024 -0.0002 -0.0002\u001b[0m\n",
      "\u001b[32m20201214     0.0110  0.0152  0.0154\u001b[0m\n",
      "\u001b[32m20210615     0.0620  0.0649  0.0343\u001b[0m\n",
      "\u001b[32m20211209     0.0235  0.0148  0.0137\u001b[0m\n",
      "\u001b[32m20220613     0.0656  0.0457  0.0457\u001b[0m\n",
      "\u001b[32m20221206     0.0495  0.0480  0.0494\u001b[0m\n",
      "\u001b[32m20230606     0.0979  0.0628  0.0688\u001b[0m\n",
      "\u001b[32m20231201     0.0575  0.0859  0.0761\u001b[0m\n",
      "\u001b[32mAllTimeAvg   0.0578  0.0565  0.0547\u001b[0m\n",
      "\u001b[32mAllTimeSum   101.67   99.33   96.19\u001b[0m\n",
      "\u001b[32mStd          0.1005  0.0948  0.0928\u001b[0m\n",
      "\u001b[32mTValue        24.12   24.98   24.71\u001b[0m\n",
      "\u001b[32mAnnIR        2.8177  2.9184  2.8860\u001b[0m\n",
      "\u001b[1m\u001b[37m\u001b[41m24-05-24 15:02:06|MOD:display     |\u001b[0m: \u001b[1m\u001b[31mFinish Process [Test], Cost 60.4 Secs\u001b[0m\n",
      "\u001b[1m\u001b[37m\u001b[41m24-05-24 15:02:06|MOD:time        |\u001b[0m: \u001b[1m\u001b[31mMain Process Finished! Cost 8 Minutes 29.0 Seconds\u001b[0m\n"
     ]
    }
   ],
   "source": [
    "from src import API\n",
    "API.Trainer.main(stage = 0 , resume = 0 , checkname= 1)"
   ]
  },
  {
   "cell_type": "code",
   "execution_count": 2,
   "metadata": {},
   "outputs": [
    {
     "data": {
      "text/plain": [
       "{'seqlens': [{'day': 30, '30m': 30, 'dms': 30}],\n",
       " 'objective': ['regression'],\n",
       " 'linear_tree': [True],\n",
       " 'learning_rate': [0.3],\n",
       " 'lambda_l2': ['1e-05'],\n",
       " 'alpha': ['1e-07'],\n",
       " 'num_leaves': [31],\n",
       " 'max_depth': [6],\n",
       " 'min_sum_hessian_in_leaf': [1],\n",
       " 'feature_fraction': [0.6],\n",
       " 'bagging_fraction': [0.75],\n",
       " 'force_col_wise': [True],\n",
       " 'monotone_constraints': [1]}"
      ]
     },
     "execution_count": 2,
     "metadata": {},
     "output_type": "execute_result"
    }
   ],
   "source": [
    "from src.environ import PATH\n",
    "PATH.read_yaml('./configs/model_lgbm.yaml')"
   ]
  },
  {
   "cell_type": "code",
   "execution_count": null,
   "metadata": {},
   "outputs": [],
   "source": []
  },
  {
   "cell_type": "code",
   "execution_count": null,
   "metadata": {},
   "outputs": [],
   "source": [
    "from src import API\n",
    "API.DataAPI.reconstruct_train_data()"
   ]
  }
 ],
 "metadata": {
  "kernelspec": {
   "display_name": "Python 3",
   "language": "python",
   "name": "python3"
  },
  "language_info": {
   "codemirror_mode": {
    "name": "ipython",
    "version": 3
   },
   "file_extension": ".py",
   "mimetype": "text/x-python",
   "name": "python",
   "nbconvert_exporter": "python",
   "pygments_lexer": "ipython3",
   "version": "3.11.8"
  }
 },
 "nbformat": 4,
 "nbformat_minor": 2
}
