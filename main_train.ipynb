{
 "cells": [
  {
   "cell_type": "code",
   "execution_count": 1,
   "metadata": {},
   "outputs": [
    {
     "name": "stdout",
     "output_type": "stream",
     "text": [
      "False 2.2.0+cpu\n"
     ]
    }
   ],
   "source": [
    "import torch\n",
    "print(torch.cuda.is_available() , torch.__version__)"
   ]
  },
  {
   "cell_type": "code",
   "execution_count": 2,
   "metadata": {},
   "outputs": [
    {
     "name": "stderr",
     "output_type": "stream",
     "text": [
      "\u001b[1m\u001b[37m\u001b[44m24-05-30 15:53:11|MOD:display     |\u001b[0m: \u001b[1m\u001b[34mModel Specifics:\u001b[0m\n",
      "\u001b[1m\u001b[37m\u001b[41m24-05-30 15:53:11|MOD:display     |\u001b[0m: \u001b[1m\u001b[31mStart Process [Data] at Thu May 30 15:53:11 2024!\u001b[0m\n"
     ]
    },
    {
     "name": "stdout",
     "output_type": "stream",
     "text": [
      "--Process Queue : Data + Fit + Test\n",
      "--Model_name is set to tra_day_ShortTest!\n",
      "Callback : ResetOptimizer(num_reset=2,trigger=40,recover_level=1.0,speedup2x=True) , reset optimizer on some epoch (can speedup scheduler)\n",
      "Callback : CallbackTimer(verbosity=10) , record time cost of callback hooks\n",
      "Callback : EarlyStoppage(patience=20) , stop fitting when validation score cease to improve\n",
      "Callback : ValidationConverge(patience=5,eps=1e-05) , stop fitting when valid_score converge\n",
      "Callback : EarlyExitRetrain(earliest=10,max_attempt=4,lr_multiplier=[1, 0.1, 10, 0.01, 100, 1]) , retrain with new lr if fitting stopped too early\n",
      "Callback : NanLossRetrain(max_attempt=4) , retrain if fitting encounters nan loss\n",
      "Callback : BatchDisplay(verbosity=10) , display batch progress bar\n",
      "Callback : StatusDisplay(verbosity=10) , display epoch and event information\n",
      "Callback : SpecCB_TRA() , in TRA fill [y] [hist_loss] in batch_data.kwargs , update hist_loss in data.buffer\n",
      "{'random_seed': None,\n",
      " 'model_name': 'tra_day_ShortTest',\n",
      " 'model_module': 'tra',\n",
      " 'model_data_type': 'day',\n",
      " 'model_types': ['best', 'swalast', 'swabest'],\n",
      " 'labels': ['std_lag1_10', 'std_lag1_20'],\n",
      " 'beg_date': 20170101,\n",
      " 'end_date': 20170228,\n",
      " 'sample_method': 'sequential',\n",
      " 'shuffle_option': 'epoch',\n",
      " 'lgbm_ensembler': False}\n",
      "{'hidden_dim': [32],\n",
      " 'seqlens': [{'day': 30, '30m': 30, 'dms': 30}],\n",
      " 'hist_loss_seq_len': [60],\n",
      " 'hist_loss_horizon': [20],\n",
      " 'num_states': [3],\n",
      " 'dropout': [0.1],\n",
      " 'rnn_layers': [2],\n",
      " 'rnn_type': ['lstm']}\n",
      "try using d:\\Coding\\learndl\\learndl\\data\\DataSet/day.20240315.pt , success!\n"
     ]
    },
    {
     "name": "stderr",
     "output_type": "stream",
     "text": [
      "\u001b[1m\u001b[37m\u001b[41m24-05-30 15:53:14|MOD:display     |\u001b[0m: \u001b[1m\u001b[31mFinish Process [Data], Cost 2.4 Secs\u001b[0m\n",
      "\u001b[1m\u001b[37m\u001b[41m24-05-30 15:53:14|MOD:display     |\u001b[0m: \u001b[1m\u001b[31mStart Process [Fit] at Thu May 30 15:53:14 2024!\u001b[0m\n"
     ]
    },
    {
     "name": "stdout",
     "output_type": "stream",
     "text": [
      "Pre-Norming method of [day] : {'divlast': True, 'histnorm': True}\n"
     ]
    },
    {
     "name": "stderr",
     "output_type": "stream",
     "text": [
      "Train Ep#  0 loss : 1.01238:   2%|▏         | 1/48 [00:00<00:08,  5.30it/s]"
     ]
    },
    {
     "name": "stdout",
     "output_type": "stream",
     "text": [
      "loss function of [pearson] calculated and success!\n"
     ]
    },
    {
     "name": "stderr",
     "output_type": "stream",
     "text": [
      "Train Ep#  0 loss : 1.02257: 100%|██████████| 48/48 [00:09<00:00,  4.98it/s]\n",
      "Valid Ep#  0 score : 0.00335: 100%|██████████| 12/12 [00:00<00:00, 13.85it/s] \n",
      "\u001b[32mFirstBite Ep#  0 : loss  1.01859, train-0.00283, valid-0.00935, best-0.0093, lr1.3e-03\u001b[0m\n",
      "Train Ep#  1 loss : 0.98129: 100%|██████████| 48/48 [00:10<00:00,  4.51it/s]\n",
      "Valid Ep#  1 score : -0.04865: 100%|██████████| 12/12 [00:00<00:00, 14.02it/s]\n",
      "\u001b[32mFirstBite Ep#  1 : loss  1.01040, train 0.01414, valid 0.03684, best 0.0368, lr2.5e-03\u001b[0m\n",
      "Train Ep#  2 loss : 0.83076: 100%|██████████| 48/48 [00:10<00:00,  4.67it/s]\n",
      "Valid Ep#  2 score : -0.07583: 100%|██████████| 12/12 [00:00<00:00, 12.81it/s]\n",
      "\u001b[32mFirstBite Ep#  2 : loss  0.97749, train 0.04800, valid 0.04607, best 0.0461, lr3.8e-03\u001b[0m\n",
      "Train Ep#  3 loss : 1.08241: 100%|██████████| 48/48 [00:12<00:00,  3.87it/s]\n",
      "Valid Ep#  3 score : -0.03751: 100%|██████████| 12/12 [00:01<00:00, 11.88it/s]\n",
      "\u001b[32mFirstBite Ep#  3 : loss  0.96914, train 0.05821, valid 0.05322, best 0.0532, lr5.0e-03\u001b[0m\n",
      "\u001b[1m\u001b[37m\u001b[44m24-05-30 15:54:02|MOD:display     |\u001b[0m: \u001b[1m\u001b[34mtra_day_ShortTest #0 @20170103|FirstBite Ep#  4 Max Epoch|Train 0.0582 Valid 0.0532 BestVal 0.0532|Cost  0.8Min,  9.4Sec/Ep\u001b[0m\n",
      "\u001b[1m\u001b[37m\u001b[41m24-05-30 15:54:02|MOD:display     |\u001b[0m: \u001b[1m\u001b[31mFinish Process [Fit], Cost 0.0 Hours, 0.8 Min/model, 12.0 Sec/Epoch\u001b[0m\n",
      "\u001b[1m\u001b[37m\u001b[41m24-05-30 15:54:02|MOD:display     |\u001b[0m: \u001b[1m\u001b[31mStart Process [Test] at Thu May 30 15:54:02 2024!\u001b[0m\n",
      "\u001b[1m\u001b[37m\u001b[44m24-05-30 15:54:02|MOD:display     |\u001b[0m: \u001b[1m\u001b[34mEach Model Date Testing Mean Score(spearman):\u001b[0m\n",
      "\u001b[32mModels            0       0       0\u001b[0m\n",
      "\u001b[32mOutput         best swalast swabest\u001b[0m\n",
      "Test best 20170228 score : 0.01952: 100%|██████████| 94/94 [00:08<00:00, 11.71it/s] \n",
      "Test swalast 20170228 score : -0.00005: 100%|██████████| 94/94 [00:07<00:00, 12.92it/s]\n",
      "Test swabest 20170228 score : -0.04090: 100%|██████████| 94/94 [00:07<00:00, 13.28it/s]\n",
      "\u001b[32m20170103     0.0299  0.0341 -0.0000\u001b[0m\n",
      "\u001b[32mAllTimeAvg   0.0299  0.0341 -0.0000\u001b[0m\n",
      "\u001b[32mAllTimeSum     1.05    1.19   -0.00\u001b[0m\n",
      "\u001b[32mStd          0.0505  0.0494  0.0717\u001b[0m\n",
      "\u001b[32mTValue         3.50    4.07   -0.00\u001b[0m\n",
      "\u001b[32mAnnIR        2.9023  3.3741 -0.0013\u001b[0m\n",
      "\u001b[1m\u001b[37m\u001b[41m24-05-30 15:54:26|MOD:display     |\u001b[0m: \u001b[1m\u001b[31mFinish Process [Test], Cost 24.1 Secs\u001b[0m\n",
      "\u001b[1m\u001b[37m\u001b[41m24-05-30 15:54:26|MOD:time        |\u001b[0m: \u001b[1m\u001b[31mMain Process Finished! Cost 1 Minutes 14.6 Seconds\u001b[0m\n"
     ]
    },
    {
     "name": "stdout",
     "output_type": "stream",
     "text": [
      "                    hook_name  num_calls  total_time  avg_time\n",
      "10             on_train_batch        192   40.174657  0.209243\n",
      "27              on_test_batch        282   18.079767  0.064113\n",
      "15        on_validation_batch         48    2.983947  0.062166\n",
      "24        on_test_model_start          1    1.715701  1.715701\n",
      "4          on_fit_model_start          1    1.159580  1.159580\n",
      "21           on_fit_model_end          1    0.041323  0.041323\n",
      "17    on_validation_epoch_end          4    0.028157  0.007039\n",
      "25   on_test_model_type_start          3    0.014962  0.004987\n",
      "12         on_train_epoch_end          4    0.006974  0.001744\n",
      "29     on_test_model_type_end          3    0.005334  0.001778\n",
      "26        on_test_batch_start        282    0.002002  0.000007\n",
      "28          on_test_batch_end        282    0.001994  0.000007\n",
      "7        on_train_batch_start        192    0.001175  0.000006\n",
      "8          on_before_backward        192    0.000999  0.000005\n",
      "9           on_after_backward        192    0.000998  0.000005\n",
      "20       on_before_save_model          1    0.000997  0.000997\n",
      "2                 on_data_end          1    0.000996  0.000996\n",
      "14  on_validation_batch_start         48    0.000198  0.000004\n",
      "23              on_test_start          1    0.000000  0.000000\n",
      "30          on_test_model_end          1    0.000000  0.000000\n",
      "31                on_test_end          1    0.000000  0.000000\n",
      "0          on_configure_model          1    0.000000  0.000000\n",
      "16    on_validation_batch_end         48    0.000000  0.000000\n",
      "22                 on_fit_end          1    0.000000  0.000000\n",
      "19           on_fit_epoch_end          4    0.000000  0.000000\n",
      "18    on_before_fit_epoch_end          4    0.000000  0.000000\n",
      "1               on_data_start          1    0.000000  0.000000\n",
      "13  on_validation_epoch_start          4    0.000000  0.000000\n",
      "11         on_train_batch_end        192    0.000000  0.000000\n",
      "6        on_train_epoch_start          4    0.000000  0.000000\n",
      "5          on_fit_epoch_start          4    0.000000  0.000000\n",
      "3                on_fit_start          1    0.000000  0.000000\n",
      "32         on_summarize_model          1    0.000000  0.000000\n"
     ]
    }
   ],
   "source": [
    "from src import API\n",
    "API.Trainer.main(stage = 0 , resume = 0 , checkname= 1)"
   ]
  },
  {
   "cell_type": "code",
   "execution_count": 7,
   "metadata": {},
   "outputs": [
    {
     "name": "stdout",
     "output_type": "stream",
     "text": [
      "Use device name: NVIDIA GeForce RTX 4090\n",
      "predict is False , Data Processing start!\n",
      "4 datas :['y', 'day', '30m', 'risk']\n",
      "y blocks loading start!\n",
      " --> labels blocks reading [ret10_lag] DataBase...... finished! Cost 18.86 secs\n",
      " --> labels blocks reading [ret20_lag] DataBase...... finished! Cost 20.08 secs\n",
      " --> labels blocks merging (2)...... finished! Cost 2.88 secs\n",
      " --> models blocks reading [risk_exp] DataBase...... finished! Cost 67.78 secs\n",
      "y blocks loading finished! Cost 120.52 secs\n",
      "y blocks process...... finished! Cost 45.61 secs\n",
      "y blocks masking...... finished! Cost 0.81 secs\n",
      "y blocks saving ...... finished! Cost 3.76 secs\n",
      "y blocks norming...... finished! Cost 0.00 secs\n",
      "y finished! Cost 170.98 Seconds\n",
      "--------------------------------------------------------------------------------\n",
      "day blocks loading start!\n",
      " --> trade blocks reading [day] DataBase...... finished! Cost 28.95 secs\n",
      "day blocks loading finished! Cost 28.98 secs\n",
      "day blocks process...... finished! Cost 3.27 secs\n",
      "day blocks masking...... finished! Cost 0.86 secs\n",
      "day blocks saving ...... finished! Cost 3.56 secs\n",
      "day blocks norming...... finished! Cost 7.99 secs\n",
      "day finished! Cost 44.82 Seconds\n",
      "--------------------------------------------------------------------------------\n",
      "30m blocks loading start!\n",
      " --> trade blocks reading [30min] DataBase...... finished! Cost 67.25 secs\n",
      " --> trade blocks reading [day] DataBase...... finished! Cost 24.67 secs\n",
      "30m blocks loading finished! Cost 92.86 secs\n",
      "30m blocks process...... finished! Cost 32.48 secs\n",
      "30m blocks masking...... finished! Cost 2.42 secs\n",
      "30m blocks saving ...... finished! Cost 40.51 secs\n",
      "30m blocks norming...... finished! Cost 3.77 secs\n",
      "30m finished! Cost 172.21 Seconds\n",
      "--------------------------------------------------------------------------------\n",
      "risk blocks loading start!\n",
      " --> models blocks reading [risk_exp] DataBase...... finished! Cost 32.95 secs\n",
      "risk blocks loading finished! Cost 32.97 secs\n",
      "risk blocks process...... finished! Cost 0.00 secs\n",
      "risk blocks masking...... finished! Cost 0.89 secs\n",
      "risk blocks saving ...... finished! Cost 5.45 secs\n",
      "risk blocks norming...... finished! Cost 0.00 secs\n",
      "risk finished! Cost 39.42 Seconds\n",
      "--------------------------------------------------------------------------------\n",
      "Data Processing Finished! Cost 427.43 Seconds\n",
      "predict is True , Data Processing start!\n",
      "4 datas :['y', 'day', '30m', 'risk']\n",
      "y blocks loading start!\n",
      " --> labels blocks reading [ret10_lag] DataBase...... finished! Cost 0.71 secs\n",
      " --> labels blocks reading [ret20_lag] DataBase...... finished! Cost 0.66 secs\n",
      " --> labels blocks merging (2)...... finished! Cost 0.09 secs\n",
      " --> models blocks reading [risk_exp] DataBase...... finished! Cost 2.77 secs\n",
      "y blocks loading finished! Cost 4.44 secs\n",
      "y blocks process...... finished! Cost 1.94 secs\n",
      "y blocks masking...... finished! Cost 0.07 secs\n",
      "y blocks saving ...... finished! Cost 0.13 secs\n",
      "y blocks norming...... finished! Cost 0.00 secs\n",
      "y finished! Cost 6.68 Seconds\n",
      "--------------------------------------------------------------------------------\n",
      "day blocks loading start!\n",
      " --> trade blocks reading [day] DataBase...... finished! Cost 1.09 secs\n",
      "day blocks loading finished! Cost 1.09 secs\n",
      "day blocks process...... finished! Cost 0.10 secs\n",
      "day blocks masking...... finished! Cost 0.07 secs\n",
      "day blocks saving ...... finished! Cost 0.28 secs\n",
      "day blocks norming...... finished! Cost 0.00 secs\n",
      "day finished! Cost 1.65 Seconds\n",
      "--------------------------------------------------------------------------------\n",
      "30m blocks loading start!\n",
      " --> trade blocks reading [30min] DataBase...... finished! Cost 4.47 secs\n",
      " --> trade blocks reading [day] DataBase...... finished! Cost 0.97 secs\n",
      "30m blocks loading finished! Cost 5.49 secs\n",
      "30m blocks process...... finished! Cost 1.39 secs\n",
      "30m blocks masking...... finished! Cost 0.12 secs\n",
      "30m blocks saving ...... finished! Cost 2.08 secs\n",
      "30m blocks norming...... finished! Cost 0.00 secs\n",
      "30m finished! Cost 9.20 Seconds\n",
      "--------------------------------------------------------------------------------\n",
      "risk blocks loading start!\n",
      " --> models blocks reading [risk_exp] DataBase...... finished! Cost 1.49 secs\n",
      "risk blocks loading finished! Cost 1.49 secs\n",
      "risk blocks process...... finished! Cost 0.00 secs\n",
      "risk blocks masking...... finished! Cost 0.08 secs\n",
      "risk blocks saving ...... finished! Cost 0.21 secs\n",
      "risk blocks norming...... finished! Cost 0.00 secs\n",
      "risk finished! Cost 1.88 Seconds\n",
      "--------------------------------------------------------------------------------\n",
      "Data Processing Finished! Cost 19.42 Seconds\n"
     ]
    }
   ],
   "source": [
    "from src import API\n",
    "API.DataAPI.reconstruct_train_data()"
   ]
  }
 ],
 "metadata": {
  "kernelspec": {
   "display_name": "Python 3",
   "language": "python",
   "name": "python3"
  },
  "language_info": {
   "codemirror_mode": {
    "name": "ipython",
    "version": 3
   },
   "file_extension": ".py",
   "mimetype": "text/x-python",
   "name": "python",
   "nbconvert_exporter": "python",
   "pygments_lexer": "ipython3",
   "version": "3.11.8"
  }
 },
 "nbformat": 4,
 "nbformat_minor": 2
}
