{
 "cells": [
  {
   "cell_type": "code",
   "execution_count": 1,
   "metadata": {},
   "outputs": [
    {
     "name": "stdout",
     "output_type": "stream",
     "text": [
      "False 2.2.0+cpu\n"
     ]
    }
   ],
   "source": [
    "import torch\n",
    "print(torch.cuda.is_available() , torch.__version__)"
   ]
  },
  {
   "cell_type": "code",
   "execution_count": 1,
   "metadata": {},
   "outputs": [
    {
     "name": "stderr",
     "output_type": "stream",
     "text": [
      "\u001b[1m\u001b[37m\u001b[44m24-05-02 03:56:16|MOD:display     |\u001b[0m: \u001b[1m\u001b[34mModel Specifics:\u001b[0m\n",
      "\u001b[1m\u001b[37m\u001b[41m24-05-02 03:56:16|MOD:display     |\u001b[0m: \u001b[1m\u001b[31mStart Process [Data] at Thu May  2 03:56:16 2024!\u001b[0m\n"
     ]
    },
    {
     "name": "stdout",
     "output_type": "stream",
     "text": [
      "--Process Queue : Data + Fit + Test\n",
      "--Start Training New!\n",
      "--Model_name is set to gru_day_ShortTest.30!\n",
      "Callback : DynamicDataLink() , assign / unlink dynamic data in tra networks\n",
      "Callback : ResetOptimizer(num_reset=2,trigger=40,recover_level=1.0,speedup2x=True) , reset optimizer on some epoch (can speedup scheduler)\n",
      "Callback : CallbackTimer() , record time cost of callback hooks\n",
      "Callback : EarlyStoppage(patience=20) , stop fitting when validation score cease to improve\n",
      "Callback : ValidationConverge(patience=5,eps=1e-05) , stop fitting when valid_score converge\n",
      "Callback : EarlyExitRetrain(earliest=20,max_attempt=4,lr_multiplier=[1, 0.1, 10, 0.01, 100, 1]) , retrain with new lr if fitting stopped too early\n",
      "Callback : NanLossRetrain(max_attempt=4) , retrain if fitting encounters nan loss\n",
      "Callback : BatchDisplay(verbosity=10) , display batch progress bar\n",
      "Callback : StatusDisplay(verbosity=10) , display epoch / event information\n",
      "{'random_seed': None,\n",
      " 'model_name': 'gru_day_ShortTest.30',\n",
      " 'model_module': 'gru',\n",
      " 'model_data_type': 'day',\n",
      " 'model_data_prenorm': {'day': {'divlast': True, 'histnorm': True}},\n",
      " 'labels': ['std_lag1_10'],\n",
      " 'beg_date': 20170103,\n",
      " 'end_date': 20170228,\n",
      " 'interval': 120,\n",
      " 'input_step_day': 5,\n",
      " 'max_epoch': 3,\n",
      " 'sample_method': 'train_shuffle',\n",
      " 'shuffle_option': 'epoch'}\n",
      "{'hidden_dim': [64],\n",
      " 'seqlens': [{'day': 30, '30m': 30, 'dms': 30}],\n",
      " 'tra_seqlens': [{'hist_loss': 40}],\n",
      " 'dropout': [0.1],\n",
      " 'enc_in': [True],\n",
      " 'enc_att': [False],\n",
      " 'rnn_type': ['lstm'],\n",
      " 'rnn_att': [False],\n",
      " 'rnn_layers': [2],\n",
      " 'dec_mlp_layers': [2],\n",
      " 'num_output': [1],\n",
      " 'kernel_size': [3],\n",
      " 'hidden_as_factor': [False],\n",
      " 'ordered_param_group': [False]}\n",
      "use d:\\Coding\\learndl\\learndl\\data\\torch_pack/day.20240315.pt\n"
     ]
    },
    {
     "name": "stderr",
     "output_type": "stream",
     "text": [
      "\u001b[1m\u001b[37m\u001b[41m24-05-02 03:56:18|MOD:display     |\u001b[0m: \u001b[1m\u001b[31mFinish Process [Data], Cost 1.5 Secs\u001b[0m\n",
      "\u001b[1m\u001b[37m\u001b[41m24-05-02 03:56:18|MOD:display     |\u001b[0m: \u001b[1m\u001b[31mStart Process [Fit] at Thu May  2 03:56:18 2024!\u001b[0m\n"
     ]
    },
    {
     "name": "stdout",
     "output_type": "stream",
     "text": [
      "Pre-Norming method of [day] : {'divlast': True, 'histnorm': True}\n"
     ]
    },
    {
     "name": "stderr",
     "output_type": "stream",
     "text": [
      "  0%|          | 0/10 [00:00<?, ?it/s]"
     ]
    },
    {
     "name": "stdout",
     "output_type": "stream",
     "text": [
      "score function of [spearman] calculated and success!\n",
      "loss function of [pearson] calculated and success!\n"
     ]
    },
    {
     "name": "stderr",
     "output_type": "stream",
     "text": [
      "Train Ep#  0 loss : 1.00813: 100%|██████████| 10/10 [00:21<00:00,  2.12s/it]\n",
      "Valid Ep#  0 score : -0.03058: 100%|██████████| 10/10 [00:02<00:00,  4.98it/s]\n",
      "\u001b[32mFirstBite Ep#  0 : loss  1.00813, train-0.01341, valid-0.03058, best-0.0306, lr1.3e-03\u001b[0m\n",
      "Train Ep#  1 loss : 0.97545: 100%|██████████| 10/10 [00:20<00:00,  2.09s/it]\n",
      "Valid Ep#  1 score : 0.08180: 100%|██████████| 10/10 [00:02<00:00,  4.81it/s]\n",
      "\u001b[32mFirstBite Ep#  1 : loss  0.97545, train 0.02527, valid 0.08180, best 0.0818, lr2.5e-03\u001b[0m\n",
      "Train Ep#  2 loss : 0.94014: 100%|██████████| 10/10 [00:21<00:00,  2.10s/it]\n",
      "Valid Ep#  2 score : 0.04707: 100%|██████████| 10/10 [00:02<00:00,  4.73it/s]\n",
      "\u001b[32mFirstBite Ep#  2 : loss  0.94014, train 0.06445, valid 0.04707, best 0.0818, lr3.8e-03\u001b[0m\n",
      "Train Ep#  3 loss : 0.91977: 100%|██████████| 10/10 [00:21<00:00,  2.16s/it]\n",
      "Valid Ep#  3 score : 0.11896: 100%|██████████| 10/10 [00:02<00:00,  4.35it/s]\n",
      "\u001b[32mFirstBite Ep#  3 : loss  0.91977, train 0.09563, valid 0.11896, best 0.1190, lr5.0e-03\u001b[0m\n",
      "\u001b[1m\u001b[37m\u001b[44m24-05-02 03:58:12|MOD:display     |\u001b[0m: \u001b[1m\u001b[34mgru_day_ShortTest.30 #0 @20170103|FirstBite Ep#  4 Max Epoch|Train 0.0956 Valid 0.1190 BestVal 0.1190|Cost  1.9Min, 22.5Sec/Ep\u001b[0m\n",
      "\u001b[1m\u001b[37m\u001b[41m24-05-02 03:58:12|MOD:display     |\u001b[0m: \u001b[1m\u001b[31mFinish Process [Fit], Cost 0.0 Hours, 1.9 Min/model, 28.5 Sec/Epoch\u001b[0m\n",
      "\u001b[1m\u001b[37m\u001b[41m24-05-02 03:58:12|MOD:display     |\u001b[0m: \u001b[1m\u001b[31mStart Process [Test] at Thu May  2 03:58:12 2024!\u001b[0m\n",
      "\u001b[1m\u001b[37m\u001b[44m24-05-02 03:58:12|MOD:display     |\u001b[0m: \u001b[1m\u001b[34mEach Model Date Testing Mean Score(spearman):\u001b[0m\n",
      "\u001b[32mModels            0       0       0\u001b[0m\n",
      "\u001b[32mOutput         best swalast swabest\u001b[0m\n",
      "Test best 20170228 score : 0.11161: 100%|██████████| 35/35 [00:08<00:00,  3.93it/s]\n",
      "Test swalast 20170228 score : 0.10753: 100%|██████████| 35/35 [00:08<00:00,  3.96it/s]\n",
      "Test swabest 20170228 score : 0.07906: 100%|██████████| 35/35 [00:09<00:00,  3.83it/s]\n",
      "\u001b[32m20170103     0.1116  0.1075  0.0791\u001b[0m\n",
      "\u001b[32mAllTimeAvg   0.1116  0.1075  0.0791\u001b[0m\n",
      "\u001b[32mAllTimeSum     3.91    3.76    2.77\u001b[0m\n",
      "\u001b[32mStd          0.0403  0.0399  0.0401\u001b[0m\n",
      "\u001b[32mTValue        16.38   15.94   11.66\u001b[0m\n",
      "\u001b[32mAnnIR       13.5667 13.1983  9.6577\u001b[0m\n",
      "\u001b[1m\u001b[37m\u001b[41m24-05-02 03:58:39|MOD:display     |\u001b[0m: \u001b[1m\u001b[31mFinish Process [Test], Cost 27.5 Secs\u001b[0m\n"
     ]
    },
    {
     "name": "stdout",
     "output_type": "stream",
     "text": [
      "                    hook_name  num_calls  total_time   avg_time\n",
      "8              on_train_batch         40   84.590012   2.114750\n",
      "23              on_test_batch        105   26.667115   0.253973\n",
      "17           on_fit_model_end          1   19.072857  19.072857\n",
      "13        on_validation_batch         40    8.431996   0.210800\n",
      "4          on_fit_model_start          1    1.680709   1.680709\n",
      "20        on_test_model_start          1    0.544553   0.544553\n",
      "24          on_test_batch_end        105    0.143989   0.001371\n",
      "21   on_test_model_type_start          3    0.044226   0.014742\n",
      "9          on_train_batch_end         40    0.035520   0.000888\n",
      "16           on_fit_epoch_end          4    0.026503   0.006626\n",
      "14    on_validation_batch_end         40    0.025490   0.000637\n",
      "10         on_train_epoch_end          4    0.023684   0.005921\n",
      "15    on_validation_epoch_end          4    0.019579   0.004895\n",
      "27                on_test_end          1    0.019432   0.019432\n",
      "6        on_train_epoch_start          4    0.008019   0.002005\n",
      "11  on_validation_epoch_start          4    0.001701   0.000425\n",
      "25     on_test_model_type_end          3    0.001245   0.000415\n",
      "3                on_fit_start          1    0.000999   0.000999\n",
      "2                 on_data_end          1    0.000996   0.000996\n",
      "26          on_test_model_end          1    0.000000   0.000000\n",
      "22        on_test_batch_start        105    0.000000   0.000000\n",
      "0          on_configure_model          1    0.000000   0.000000\n",
      "19              on_test_start          1    0.000000   0.000000\n",
      "18                 on_fit_end          1    0.000000   0.000000\n",
      "1               on_data_start          1    0.000000   0.000000\n",
      "12  on_validation_batch_start         40    0.000000   0.000000\n",
      "7        on_train_batch_start         40    0.000000   0.000000\n",
      "5          on_fit_epoch_start          4    0.000000   0.000000\n",
      "28         on_summarize_model          1    0.000000   0.000000\n",
      "         keys  num_calls  total_time   avg_time\n",
      "0  everything          1   142.99028  142.99028\n"
     ]
    }
   ],
   "source": [
    "# %% test a specific model\n",
    "from src.interface import ModelTrainer\n",
    "ModelTrainer.main(stage = 0 , resume = 0 , checkname= 1)"
   ]
  },
  {
   "cell_type": "code",
   "execution_count": 4,
   "metadata": {},
   "outputs": [
    {
     "data": {
      "text/plain": [
       "False"
      ]
     },
     "execution_count": 4,
     "metadata": {},
     "output_type": "execute_result"
    }
   ],
   "source": [
    "import torch\n",
    "torch.ones(10 , dtype=torch.int).is_floating_point()"
   ]
  },
  {
   "cell_type": "code",
   "execution_count": null,
   "metadata": {},
   "outputs": [],
   "source": [
    "from src.interface import ModelTrainer\n",
    "ModelTrainer.main(stage = 0 , resume = 0 , checkname= 1)"
   ]
  },
  {
   "cell_type": "code",
   "execution_count": 11,
   "metadata": {},
   "outputs": [
    {
     "data": {
      "text/plain": [
       "deque([], maxlen=1)"
      ]
     },
     "execution_count": 11,
     "metadata": {},
     "output_type": "execute_result"
    }
   ],
   "source": [
    "from collections import deque\n",
    "a = deque(maxlen=1)\n",
    "a"
   ]
  },
  {
   "cell_type": "code",
   "execution_count": 2,
   "metadata": {},
   "outputs": [
    {
     "name": "stdout",
     "output_type": "stream",
     "text": [
      "k\n"
     ]
    }
   ],
   "source": [
    "from typing import Any\n",
    "\n",
    "\n",
    "class A:\n",
    "    def __init__(self) -> None:\n",
    "        self.stack = []\n",
    "\n",
    "    def __call__(self, a : str) -> Any:\n",
    "        self.stack.append(a)\n",
    "        print(a)\n",
    "        return self\n",
    "\n",
    "    def __enter__(self):\n",
    "        pass\n",
    "\n",
    "    def __exit__(self , *args):\n",
    "        print(self.stack.pop())\n",
    "\n",
    "    def k(self): print('k')\n",
    "\n",
    "def print_fname(f):\n",
    "    print(f.__name__)\n",
    "\n",
    "a = A()\n",
    "print_fname(a.k)"
   ]
  },
  {
   "cell_type": "code",
   "execution_count": null,
   "metadata": {},
   "outputs": [],
   "source": []
  },
  {
   "cell_type": "code",
   "execution_count": null,
   "metadata": {},
   "outputs": [
    {
     "name": "stdout",
     "output_type": "stream",
     "text": [
      "Use device name: NVIDIA GeForce RTX 4090\n"
     ]
    },
    {
     "name": "stderr",
     "output_type": "stream",
     "text": [
      "\u001b[1m\u001b[37m\u001b[41m24-03-31 09:52:11|MOD:data_preprocessing|\u001b[0m: \u001b[1m\u001b[31mif_train is False , Data Processing start!\u001b[0m\n",
      "\u001b[1m\u001b[37m\u001b[45m24-03-31 09:52:11|MOD:data_preprocessing|\u001b[0m: \u001b[1m\u001b[35m3 datas :['y', 'trade_day', 'trade_30m']\u001b[0m\n"
     ]
    },
    {
     "name": "stdout",
     "output_type": "stream",
     "text": [
      "Sun Mar 31 09:52:11 2024 : y start ...\n",
      "labels blocks reading ret10_lag DataBase's ...... cost 0.39 secs\n",
      "labels blocks reading ret20_lag DataBase's ...... cost 0.33 secs\n",
      "labels blocks merging ...... cost 0.05 secs\n",
      "models blocks reading risk_exp DataBase's ...... cost 1.66 secs\n",
      "models blocks merging ...... cost 0.17 secs\n",
      "y blocks process ...... cost 0.88 secs\n",
      "y blocks masking ...... cost 0.05 secs\n",
      "y blocks saving  ...... cost 0.14 secs\n",
      "y blocks norming ...... cost 0.00 secs\n",
      "Sun Mar 31 09:52:14 2024 : y finished! Cost 3.67 Seconds\n",
      "Sun Mar 31 09:52:14 2024 : trade_day start ...\n",
      "trade blocks reading day DataBase's ...... cost 0.56 secs\n",
      "trade_day blocks merging ...... cost 0.00 secs\n",
      "trade_day blocks process ...... cost 0.03 secs\n",
      "trade_day blocks masking ...... cost 0.05 secs\n",
      "trade_day blocks saving  ...... cost 0.16 secs\n",
      "trade_day blocks norming ...... cost 0.00 secs\n",
      "Sun Mar 31 09:52:15 2024 : trade_day finished! Cost 0.81 Seconds\n",
      "Sun Mar 31 09:52:15 2024 : trade_30m start ...\n",
      "trade blocks reading 30min DataBase's ...... cost 2.51 secs\n",
      "trade_30m blocks merging ...... cost 0.00 secs\n",
      "trade blocks reading day DataBase's ...... cost 0.53 secs\n",
      "trade_day blocks merging ...... cost 0.02 secs\n",
      "trade_30m blocks process ...... cost 0.95 secs\n",
      "trade_30m blocks masking ...... cost 0.05 secs\n",
      "trade_30m blocks saving  ..."
     ]
    },
    {
     "name": "stderr",
     "output_type": "stream",
     "text": [
      "\u001b[1m\u001b[37m\u001b[41m24-03-31 09:52:21|MOD:data_preprocessing|\u001b[0m: \u001b[1m\u001b[31mData Processing Finished! Cost 10.02 Seconds\u001b[0m\n"
     ]
    },
    {
     "name": "stdout",
     "output_type": "stream",
     "text": [
      "... cost 1.13 secs\n",
      "trade_30m blocks norming ...... cost 0.00 secs\n",
      "Sun Mar 31 09:52:21 2024 : trade_30m finished! Cost 5.19 Seconds\n"
     ]
    }
   ],
   "source": [
    "# prepare data\n",
    "from src.interface import DataModule\n",
    "DataModule.prepare_data()"
   ]
  }
 ],
 "metadata": {
  "kernelspec": {
   "display_name": "Python 3",
   "language": "python",
   "name": "python3"
  },
  "language_info": {
   "codemirror_mode": {
    "name": "ipython",
    "version": 3
   },
   "file_extension": ".py",
   "mimetype": "text/x-python",
   "name": "python",
   "nbconvert_exporter": "python",
   "pygments_lexer": "ipython3",
   "version": "3.11.8"
  }
 },
 "nbformat": 4,
 "nbformat_minor": 2
}
