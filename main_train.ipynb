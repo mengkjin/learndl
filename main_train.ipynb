{
 "cells": [
  {
   "cell_type": "code",
   "execution_count": 1,
   "metadata": {},
   "outputs": [
    {
     "name": "stdout",
     "output_type": "stream",
     "text": [
      "False 2.2.0+cpu\n"
     ]
    }
   ],
   "source": [
    "import torch\n",
    "print(torch.cuda.is_available() , torch.__version__)"
   ]
  },
  {
   "cell_type": "code",
   "execution_count": 61,
   "metadata": {},
   "outputs": [
    {
     "data": {
      "text/plain": [
       "tensor([[5.6719e+10, 1.2627e+07, 9.1815e+07, 5.5944e-01, 9.9102e-01, 2.9052e+03,\n",
       "         5.6769e+15, 8.9446e+29, 2.0341e+00, 1.4876e+00, 4.6851e+05, 8.7645e+14,\n",
       "         3.1973e+00, 2.7562e+15, 2.5051e+00, 5.6393e+03, 1.0876e-01, 4.0033e+00,\n",
       "         4.8746e+05, 1.3418e+02, 2.7935e-02, 4.2619e+02, 2.3958e+00, 2.8373e+00,\n",
       "         8.3310e+00, 4.8107e+06, 1.2981e+05, 1.5403e+03, 2.7992e+00, 3.5825e-01,\n",
       "         1.8553e+00, 3.3485e+00, 2.2598e+00, 2.6258e+00, 3.2700e+00, 1.3958e+00,\n",
       "         3.8186e+00, 1.1160e+12, 7.7809e-01, 5.8959e+10, 1.8889e+04, 1.8864e+01,\n",
       "         6.1149e+04, 3.5650e+11, 1.9833e-01, 5.8706e+00, 3.2923e+03, 3.9878e+08,\n",
       "         1.2822e+00, 1.2427e-01, 1.9638e+01, 6.1630e-01, 1.6413e+00, 2.7048e+00,\n",
       "         5.0860e+10, 1.1024e+26, 3.2264e+00, 3.4825e+00, 8.3271e+00, 1.7106e+00,\n",
       "         2.5629e+00, 3.3114e+00, 1.7421e+01, 3.3576e+08]])"
      ]
     },
     "execution_count": 61,
     "metadata": {},
     "output_type": "execute_result"
    }
   ],
   "source": [
    "from torch import tensor\n",
    "mu_post = tensor([[ 3.7684e-03, -1.2137e-05, -8.6883e-04, -1.0878e-04, -1.0014e-04,\n",
    "          4.1735e-02, -1.0005e-03,  1.2908e-01,  4.2802e-02, -6.2210e-04,\n",
    "         -1.5779e-03,  2.2463e-01, -1.1738e-03, -8.8326e-04,  1.2445e-01,\n",
    "         -1.3005e-03,  1.4167e-01,  7.2762e-03, -1.0803e-03, -1.6166e-03,\n",
    "         -1.5770e-03,  1.6203e-01,  2.1609e-04, -1.6708e-03,  1.2338e-01,\n",
    "          3.8909e-02,  9.3420e-02,  6.7616e-02,  3.1375e-02,  1.2924e-01,\n",
    "          3.7054e-02, -2.9794e-04,  2.7943e-02, -2.5582e-04,  1.6872e-02,\n",
    "         -1.4565e-03, -5.9432e-04,  1.9727e-01,  1.6357e-01,  1.4657e-01,\n",
    "          9.1654e-02,  1.3540e-01,  1.3719e-01,  2.4475e-03, -1.9715e-03,\n",
    "          5.9396e-03, -8.9025e-04, -8.1825e-04,  9.0105e-02,  1.3421e-01,\n",
    "          1.0200e-01, -2.0454e-04, -1.0792e-03,  1.1741e-01,  1.2264e-01,\n",
    "         -2.8316e-04, -9.1517e-04, -1.8397e-03, -6.5191e-04, -7.4319e-04,\n",
    "         -2.0982e-03, -5.2829e-04,  1.6234e-01, -9.6188e-05]]) \n",
    "sigma_post = tensor([[0.7129, 0.6471, 0.7403, 0.7078, 0.7268, 0.7508, 0.6777, 0.7238, 0.7017,\n",
    "         0.6425, 0.7166, 0.6183, 0.6212, 0.8156, 0.7805, 0.6307, 0.6260, 0.7207,\n",
    "         0.6132, 0.6896, 0.6006, 0.6462, 0.6104, 0.7052, 0.6821, 0.6539, 0.7681,\n",
    "         0.6373, 0.6241, 0.7590, 0.7396, 0.6620, 0.6991, 0.7219, 0.6444, 0.6773,\n",
    "         0.6188, 0.7341, 0.7087, 0.7417, 0.7307, 0.6240, 0.6539, 0.7200, 0.7602,\n",
    "         0.8019, 0.7586, 0.7567, 0.6411, 0.7148, 0.8125, 0.7314, 0.7852, 0.7592,\n",
    "         0.6992, 0.7836, 0.7377, 0.6887, 0.6377, 0.7065, 0.7747, 0.7330, 0.7346,\n",
    "         0.7192]])\n",
    "mu_prior = tensor([ 1.4768e+01, -5.7864e-02,  9.6227e+00, -6.8139e-02, -4.1613e-02,\n",
    "        -4.4263e-01,  5.5262e-01,  1.9148e+01,  2.0496e+00,  2.2221e+00,\n",
    "        -2.4324e-01,  4.5449e+00, -2.7387e-02, -1.1809e-01, -5.9122e-03,\n",
    "         5.7586e+00, -1.0828e-01,  2.9435e+01, -2.1495e-01,  1.8754e+01,\n",
    "        -2.5147e-02,  2.9681e+00, -1.7426e-01, -2.2947e-01,  1.8543e+01,\n",
    "         9.5929e+00,  3.6146e+00,  8.2547e+00, -1.0373e-01, -6.7890e-02,\n",
    "         4.4453e+00,  1.1949e+01, -8.5934e-02,  8.9752e+00, -1.8615e-01,\n",
    "        -1.6820e-01, -2.9428e-01, -3.0590e-01,  1.5304e+00,  2.4050e+00,\n",
    "        -6.8386e-02,  1.2451e+01, -1.5034e-01, -2.9662e-01, -1.0573e-01,\n",
    "         2.0952e+01, -9.7377e-02,  3.5224e+00, -1.0617e-02, -2.2598e-01,\n",
    "        -2.1858e-02, -3.3533e-02, -1.3116e-01,  1.0816e+00, -3.4835e-02,\n",
    "         1.0071e+00, -9.3560e-02,  1.2086e+01,  1.1031e+01, -7.3359e-02,\n",
    "        -2.6032e-02,  1.4056e+01, -7.2341e-02, -1.9994e-01]) \n",
    "sigma_prior = tensor([4.3887e-05, 1.2928e-04, 7.1227e-04, 3.9112e-01, 3.1427e+00, 1.1712e-02,\n",
    "        8.2126e-09, 1.4230e-14, 8.5774e+00, 1.5591e+00, 7.8125e-04, 1.0424e-07,\n",
    "        2.5050e+01, 1.1098e-08, 1.5737e+01, 5.4546e-02, 5.6549e-01, 1.8597e+01,\n",
    "        6.5772e-04, 1.1457e+00, 7.1558e-01, 9.8354e-02, 1.1029e+01, 1.9833e+01,\n",
    "        4.9826e+00, 3.0873e-03, 7.0731e-03, 1.4786e-01, 1.6896e+01, 1.5840e+00,\n",
    "        5.7838e+00, 2.8428e+01, 1.1021e+01, 1.2878e+01, 2.7947e+01, 4.4545e+00,\n",
    "        2.0828e-01, 5.9572e-07, 1.6151e+00, 6.9224e-06, 3.8479e-03, 2.0452e+00,\n",
    "        2.0425e-03, 9.2332e-07, 1.2753e+00, 7.2606e+00, 9.4169e-03, 1.2760e-04,\n",
    "        3.7536e+00, 7.2286e-01, 1.2385e-01, 2.1019e+00, 6.6348e+00, 1.8675e+01,\n",
    "        2.2472e-06, 8.5952e-14, 3.0628e+01, 6.4923e+00, 2.8887e+00, 6.4043e+00,\n",
    "        1.6553e+01, 8.5514e+00, 1.2283e-01, 2.8805e-05])\n",
    "kl_divergence(Normal(mu_post, sigma_post) , Normal(mu_prior, sigma_prior))"
   ]
  },
  {
   "cell_type": "code",
   "execution_count": 67,
   "metadata": {},
   "outputs": [
    {
     "data": {
      "text/plain": [
       "tensor(3.4192e+12)"
      ]
     },
     "execution_count": 67,
     "metadata": {},
     "output_type": "execute_result"
    }
   ],
   "source": [
    "kl_divergence(Normal(3.7684e-03, 0.7129) , Normal(11.4768e+01, 4.3887e-05))"
   ]
  },
  {
   "cell_type": "code",
   "execution_count": 59,
   "metadata": {},
   "outputs": [
    {
     "data": {
      "text/plain": [
       "tensor([1.0113e+00, 3.4761e+00, 1.4171e+00, 5.7483e+00, 1.7733e-01, 1.9945e+01,\n",
       "        1.4979e+00, 1.0416e+01, 2.0036e-01, 2.4452e+00, 4.4628e-01, 4.7452e-01,\n",
       "        1.1978e+00, 5.4941e-02, 5.9912e+00, 1.8983e+02, 5.8992e-01, 1.4577e+00,\n",
       "        1.8779e+00, 5.8598e-01, 1.0519e+00, 2.2149e+00, 1.1021e+01, 1.4763e+00,\n",
       "        4.0875e-01, 4.2252e-01, 5.4576e-01, 4.6274e+00, 5.6778e-02, 5.3065e-01,\n",
       "        5.0224e+01, 1.2172e+00, 4.6908e+00, 1.0738e+00, 2.9679e+01, 3.1740e+00,\n",
       "        4.1836e+01, 2.5286e-01, 3.1626e+00, 2.2156e+00, 2.9122e-01, 1.3141e+00,\n",
       "        1.8782e+00, 1.7992e+00, 1.1667e+00, 2.4843e+00, 2.6521e-02, 2.3323e-01,\n",
       "        3.2061e-01, 1.0775e-01, 5.6570e-01, 4.9736e+00, 7.4963e+01, 8.8244e-01,\n",
       "        3.7346e-03, 2.1781e-01, 6.1574e-01, 2.9021e+00, 1.4022e-01, 6.6469e+02,\n",
       "        6.1013e-02, 5.3307e-02, 1.6698e+00, 1.4620e+00])"
      ]
     },
     "execution_count": 59,
     "metadata": {},
     "output_type": "execute_result"
    }
   ],
   "source": [
    "import torch\n",
    "from torch.distributions import Normal , kl_divergence\n",
    "mu_post, sigma_post = torch.zeros(64) , torch.rand(64)\n",
    "mu_prior, sigma_prior = torch.rand(64) , torch.rand(64)\n",
    "kl_divergence(Normal(mu_post, sigma_post) , Normal(mu_prior, sigma_prior))"
   ]
  },
  {
   "cell_type": "code",
   "execution_count": null,
   "metadata": {},
   "outputs": [],
   "source": []
  },
  {
   "cell_type": "code",
   "execution_count": 1,
   "metadata": {},
   "outputs": [
    {
     "name": "stderr",
     "output_type": "stream",
     "text": [
      "\u001b[1m\u001b[37m\u001b[44m24-05-30 00:34:42|MOD:display     |\u001b[0m: \u001b[1m\u001b[34mModel Specifics:\u001b[0m\n",
      "\u001b[1m\u001b[37m\u001b[41m24-05-30 00:34:42|MOD:display     |\u001b[0m: \u001b[1m\u001b[31mStart Process [Data] at Thu May 30 00:34:42 2024!\u001b[0m\n"
     ]
    },
    {
     "name": "stdout",
     "output_type": "stream",
     "text": [
      "Use device name: NVIDIA GeForce RTX 4090\n",
      "--Process Queue : Data + Fit + Test\n",
      "--Start Training New!\n",
      "--Model_name is set to factor_vae_day.18!\n",
      "Callback : ResetOptimizer(num_reset=2,trigger=40,recover_level=1.0,speedup2x=True) , reset optimizer on some epoch (can speedup scheduler)\n",
      "Callback : CallbackTimer(verbosity=2) , record time cost of callback hooks\n",
      "Callback : EarlyStoppage(patience=20) , stop fitting when validation score cease to improve\n",
      "Callback : ValidationConverge(patience=5,eps=1e-05) , stop fitting when valid_score converge\n",
      "Callback : EarlyExitRetrain(earliest=10,max_attempt=4,lr_multiplier=[1, 0.1, 10, 0.01, 100, 1]) , retrain with new lr if fitting stopped too early\n",
      "Callback : NanLossRetrain(max_attempt=4) , retrain if fitting encounters nan loss\n",
      "Callback : BatchDisplay(verbosity=2) , display batch progress bar\n",
      "Callback : StatusDisplay(verbosity=2) , display epoch and event information\n",
      "Callback : SpecCB_VAE() , in VAE fill [y] [alpha_noise] [factor_noise] in batch_data.kwargs\n",
      "{'random_seed': None,\n",
      " 'model_name': 'factor_vae_day.18',\n",
      " 'model_module': 'factor_vae',\n",
      " 'model_data_type': 'day',\n",
      " 'model_types': ['best', 'swalast', 'swabest'],\n",
      " 'labels': ['std_lag1_10', 'std_lag1_20'],\n",
      " 'beg_date': 20170103,\n",
      " 'end_date': 99991231,\n",
      " 'sample_method': 'sequential',\n",
      " 'shuffle_option': 'epoch',\n",
      " 'lgbm_ensembler': False}\n",
      "{'hidden_dim': [32],\n",
      " 'seqlens': [{'day': 30, '30m': 30, 'dms': 30}],\n",
      " 'factor_num': [64],\n",
      " 'gru_input_size': [16],\n",
      " 'portfolio_size': [100],\n",
      " 'encoder_h_size': [32],\n",
      " 'alpha_h_size': [64],\n",
      " 'predictor_h_size': [16],\n",
      " 'monte_carlo': [100],\n",
      " 'gamma': [0.001]}\n",
      "try using /home/mengkjin/Workspace/learndl/data/DataSet/day.20240509.pt , success!\n"
     ]
    },
    {
     "name": "stderr",
     "output_type": "stream",
     "text": [
      "\u001b[1m\u001b[37m\u001b[41m24-05-30 00:34:44|MOD:display     |\u001b[0m: \u001b[1m\u001b[31mFinish Process [Data], Cost 2.5 Secs\u001b[0m\n",
      "\u001b[1m\u001b[37m\u001b[41m24-05-30 00:34:44|MOD:display     |\u001b[0m: \u001b[1m\u001b[31mStart Process [Fit] at Thu May 30 00:34:44 2024!\u001b[0m\n"
     ]
    },
    {
     "name": "stdout",
     "output_type": "stream",
     "text": [
      "Pre-Norming method of [day] : {'divlast': True, 'histnorm': True}\n",
      "score function of [spearman] calculated and success!\n",
      "loss function of [mse] calculated and success!\n"
     ]
    },
    {
     "name": "stderr",
     "output_type": "stream",
     "text": [
      "\u001b[32mFirstBite Ep#  0 : loss  2.00372, train 0.00267, valid-0.02351, best-0.0235, lr1.3e-03\u001b[0m\n",
      "\u001b[32mFirstBite Ep#  5 : loss  0.98313, train 0.15731, valid 0.03468, best 0.0723, lr2.5e-03\u001b[0m\n",
      "\u001b[32mFirstBite Ep# 10 : loss  0.97754, train 0.17134, valid 0.11983, best 0.1198, lr1.9e-03\u001b[0m\n",
      "\u001b[32mFirstBite Ep# 15 : loss  0.96922, train 0.19475, valid 0.11953, best 0.1269, lr1.0e-07\u001b[0m\n",
      "\u001b[32mFirstBite Ep# 20 : loss  0.96822, train 0.19774, valid 0.11609, best 0.1269, lr9.4e-04\u001b[0m\n",
      "\u001b[32mFirstBite Ep# 25 : loss  0.96038, train 0.21515, valid 0.11177, best 0.1269, lr3.1e-04\u001b[0m\n",
      "\u001b[32mFirstBite Ep# 30 : loss  0.95836, train 0.22139, valid 0.10138, best 0.1373, lr1.6e-04\u001b[0m\n",
      "\u001b[32mFirstBite Ep# 35 : loss  0.95669, train 0.22383, valid 0.12960, best 0.1373, lr3.1e-04\u001b[0m\n",
      "\u001b[32mReset learn rate and scheduler at the end of epoch 39 , effective at epoch 40\u001b[0m\n",
      "\u001b[32mFirstBite Ep# 40 : loss  0.95450, train 0.22853, valid 0.11495, best 0.1373, lr1.3e-03\u001b[0m\n",
      "\u001b[32mFirstBite Ep# 45 : loss  0.96363, train 0.21117, valid 0.10702, best 0.1373, lr2.5e-03\u001b[0m\n",
      "\u001b[1m\u001b[37m\u001b[44m24-05-30 00:57:11|MOD:display     |\u001b[0m: \u001b[1m\u001b[34mfactor_vae_day.18 #0 @20170103|FirstBite Ep# 48 EarlyStop|Train 0.2330 Valid 0.0929 BestVal 0.0929|Cost 22.4Min, 27.4Sec/Ep\u001b[0m\n",
      "\u001b[1m\u001b[37m\u001b[44m24-05-30 01:14:06|MOD:display     |\u001b[0m: \u001b[1m\u001b[34mfactor_vae_day.18 #0 @20170704|FirstBite Ep# 34 EarlyStop|Train 0.2347 Valid 0.0252 BestVal 0.0252|Cost 16.9Min, 28.9Sec/Ep\u001b[0m\n",
      "\u001b[1m\u001b[37m\u001b[44m24-05-30 01:38:59|MOD:display     |\u001b[0m: \u001b[1m\u001b[34mfactor_vae_day.18 #0 @20171226|FirstBite Ep# 48 EarlyStop|Train 0.2315 Valid 0.1406 BestVal 0.1406|Cost 24.8Min, 30.4Sec/Ep\u001b[0m\n",
      "\u001b[1m\u001b[37m\u001b[44m24-05-30 02:01:52|MOD:display     |\u001b[0m: \u001b[1m\u001b[34mfactor_vae_day.18 #0 @20180627|FirstBite Ep# 43 EarlyStop|Train 0.2134 Valid 0.1498 BestVal 0.1498|Cost 22.8Min, 31.1Sec/Ep\u001b[0m\n",
      "\u001b[1m\u001b[37m\u001b[44m24-05-30 02:49:36|MOD:display     |\u001b[0m: \u001b[1m\u001b[34mfactor_vae_day.18 #0 @20181220|FirstBite Ep# 90 EarlyStop|Train 0.2749 Valid 0.1529 BestVal 0.1529|Cost 47.7Min, 31.4Sec/Ep\u001b[0m\n",
      "\u001b[1m\u001b[37m\u001b[44m24-05-30 03:11:31|MOD:display     |\u001b[0m: \u001b[1m\u001b[34mfactor_vae_day.18 #0 @20190624|FirstBite Ep# 42 EarlyStop|Train 0.2282 Valid 0.1257 BestVal 0.1257|Cost 21.9Min, 30.5Sec/Ep\u001b[0m\n",
      "\u001b[1m\u001b[37m\u001b[44m24-05-30 03:33:37|MOD:display     |\u001b[0m: \u001b[1m\u001b[34mfactor_vae_day.18 #0 @20191217|FirstBite Ep# 41 EarlyStop|Train 0.2412 Valid 0.0923 BestVal 0.0923|Cost 22.0Min, 31.5Sec/Ep\u001b[0m\n",
      "\u001b[1m\u001b[37m\u001b[44m24-05-30 03:54:48|MOD:display     |\u001b[0m: \u001b[1m\u001b[34mfactor_vae_day.18 #0 @20200617|FirstBite Ep# 40 EarlyStop|Train 0.2374 Valid 0.1016 BestVal 0.1016|Cost 21.1Min, 30.9Sec/Ep\u001b[0m\n",
      "\u001b[1m\u001b[37m\u001b[44m24-05-30 04:15:26|MOD:display     |\u001b[0m: \u001b[1m\u001b[34mfactor_vae_day.18 #0 @20201214|FirstBite Ep# 39 EarlyStop|Train 0.2384 Valid 0.0294 BestVal 0.0294|Cost 20.6Min, 30.9Sec/Ep\u001b[0m\n",
      "\u001b[1m\u001b[37m\u001b[44m24-05-30 04:44:12|MOD:display     |\u001b[0m: \u001b[1m\u001b[34mfactor_vae_day.18 #0 @20210615|FirstBite Ep# 56 EarlyStop|Train 0.2455 Valid 0.0927 BestVal 0.0927|Cost 28.7Min, 30.2Sec/Ep\u001b[0m\n",
      "\u001b[1m\u001b[37m\u001b[44m24-05-30 05:33:14|MOD:display     |\u001b[0m: \u001b[1m\u001b[34mfactor_vae_day.18 #0 @20211209|FirstBite Ep# 96 EarlyStop|Train 0.2670 Valid 0.0945 BestVal 0.0945|Cost 49.0Min, 30.3Sec/Ep\u001b[0m\n",
      "\u001b[1m\u001b[37m\u001b[44m24-05-30 06:25:26|MOD:display     |\u001b[0m: \u001b[1m\u001b[34mfactor_vae_day.18 #0 @20220613|FirstBite Ep# 97 EarlyStop|Train 0.2583 Valid 0.0949 BestVal 0.0949|Cost 52.1Min, 31.9Sec/Ep\u001b[0m\n",
      "\u001b[1m\u001b[37m\u001b[44m24-05-30 06:48:58|MOD:display     |\u001b[0m: \u001b[1m\u001b[34mfactor_vae_day.18 #0 @20221206|FirstBite Ep# 47 EarlyStop|Train 0.2153 Valid 0.0988 BestVal 0.0988|Cost 23.5Min, 29.3Sec/Ep\u001b[0m\n",
      "\u001b[1m\u001b[37m\u001b[44m24-05-30 07:23:21|MOD:display     |\u001b[0m: \u001b[1m\u001b[34mfactor_vae_day.18 #0 @20230606|Retrain#1 Ep# 69 EarlyStop|Train 0.1770 Valid 0.0903 BestVal 0.0941|Cost 34.3Min, 29.4Sec/Ep\u001b[0m\n"
     ]
    }
   ],
   "source": [
    "from src import API\n",
    "API.Trainer.main(stage = 0 , resume = 0 , checkname= 1)"
   ]
  },
  {
   "cell_type": "code",
   "execution_count": 7,
   "metadata": {},
   "outputs": [
    {
     "name": "stdout",
     "output_type": "stream",
     "text": [
      "Use device name: NVIDIA GeForce RTX 4090\n",
      "predict is False , Data Processing start!\n",
      "4 datas :['y', 'day', '30m', 'risk']\n",
      "y blocks loading start!\n",
      " --> labels blocks reading [ret10_lag] DataBase...... finished! Cost 18.86 secs\n",
      " --> labels blocks reading [ret20_lag] DataBase...... finished! Cost 20.08 secs\n",
      " --> labels blocks merging (2)...... finished! Cost 2.88 secs\n",
      " --> models blocks reading [risk_exp] DataBase...... finished! Cost 67.78 secs\n",
      "y blocks loading finished! Cost 120.52 secs\n",
      "y blocks process...... finished! Cost 45.61 secs\n",
      "y blocks masking...... finished! Cost 0.81 secs\n",
      "y blocks saving ...... finished! Cost 3.76 secs\n",
      "y blocks norming...... finished! Cost 0.00 secs\n",
      "y finished! Cost 170.98 Seconds\n",
      "--------------------------------------------------------------------------------\n",
      "day blocks loading start!\n",
      " --> trade blocks reading [day] DataBase...... finished! Cost 28.95 secs\n",
      "day blocks loading finished! Cost 28.98 secs\n",
      "day blocks process...... finished! Cost 3.27 secs\n",
      "day blocks masking...... finished! Cost 0.86 secs\n",
      "day blocks saving ...... finished! Cost 3.56 secs\n",
      "day blocks norming...... finished! Cost 7.99 secs\n",
      "day finished! Cost 44.82 Seconds\n",
      "--------------------------------------------------------------------------------\n",
      "30m blocks loading start!\n",
      " --> trade blocks reading [30min] DataBase...... finished! Cost 67.25 secs\n",
      " --> trade blocks reading [day] DataBase...... finished! Cost 24.67 secs\n",
      "30m blocks loading finished! Cost 92.86 secs\n",
      "30m blocks process...... finished! Cost 32.48 secs\n",
      "30m blocks masking...... finished! Cost 2.42 secs\n",
      "30m blocks saving ...... finished! Cost 40.51 secs\n",
      "30m blocks norming...... finished! Cost 3.77 secs\n",
      "30m finished! Cost 172.21 Seconds\n",
      "--------------------------------------------------------------------------------\n",
      "risk blocks loading start!\n",
      " --> models blocks reading [risk_exp] DataBase...... finished! Cost 32.95 secs\n",
      "risk blocks loading finished! Cost 32.97 secs\n",
      "risk blocks process...... finished! Cost 0.00 secs\n",
      "risk blocks masking...... finished! Cost 0.89 secs\n",
      "risk blocks saving ...... finished! Cost 5.45 secs\n",
      "risk blocks norming...... finished! Cost 0.00 secs\n",
      "risk finished! Cost 39.42 Seconds\n",
      "--------------------------------------------------------------------------------\n",
      "Data Processing Finished! Cost 427.43 Seconds\n",
      "predict is True , Data Processing start!\n",
      "4 datas :['y', 'day', '30m', 'risk']\n",
      "y blocks loading start!\n",
      " --> labels blocks reading [ret10_lag] DataBase...... finished! Cost 0.71 secs\n",
      " --> labels blocks reading [ret20_lag] DataBase...... finished! Cost 0.66 secs\n",
      " --> labels blocks merging (2)...... finished! Cost 0.09 secs\n",
      " --> models blocks reading [risk_exp] DataBase...... finished! Cost 2.77 secs\n",
      "y blocks loading finished! Cost 4.44 secs\n",
      "y blocks process...... finished! Cost 1.94 secs\n",
      "y blocks masking...... finished! Cost 0.07 secs\n",
      "y blocks saving ...... finished! Cost 0.13 secs\n",
      "y blocks norming...... finished! Cost 0.00 secs\n",
      "y finished! Cost 6.68 Seconds\n",
      "--------------------------------------------------------------------------------\n",
      "day blocks loading start!\n",
      " --> trade blocks reading [day] DataBase...... finished! Cost 1.09 secs\n",
      "day blocks loading finished! Cost 1.09 secs\n",
      "day blocks process...... finished! Cost 0.10 secs\n",
      "day blocks masking...... finished! Cost 0.07 secs\n",
      "day blocks saving ...... finished! Cost 0.28 secs\n",
      "day blocks norming...... finished! Cost 0.00 secs\n",
      "day finished! Cost 1.65 Seconds\n",
      "--------------------------------------------------------------------------------\n",
      "30m blocks loading start!\n",
      " --> trade blocks reading [30min] DataBase...... finished! Cost 4.47 secs\n",
      " --> trade blocks reading [day] DataBase...... finished! Cost 0.97 secs\n",
      "30m blocks loading finished! Cost 5.49 secs\n",
      "30m blocks process...... finished! Cost 1.39 secs\n",
      "30m blocks masking...... finished! Cost 0.12 secs\n",
      "30m blocks saving ...... finished! Cost 2.08 secs\n",
      "30m blocks norming...... finished! Cost 0.00 secs\n",
      "30m finished! Cost 9.20 Seconds\n",
      "--------------------------------------------------------------------------------\n",
      "risk blocks loading start!\n",
      " --> models blocks reading [risk_exp] DataBase...... finished! Cost 1.49 secs\n",
      "risk blocks loading finished! Cost 1.49 secs\n",
      "risk blocks process...... finished! Cost 0.00 secs\n",
      "risk blocks masking...... finished! Cost 0.08 secs\n",
      "risk blocks saving ...... finished! Cost 0.21 secs\n",
      "risk blocks norming...... finished! Cost 0.00 secs\n",
      "risk finished! Cost 1.88 Seconds\n",
      "--------------------------------------------------------------------------------\n",
      "Data Processing Finished! Cost 19.42 Seconds\n"
     ]
    }
   ],
   "source": [
    "from src import API\n",
    "API.DataAPI.reconstruct_train_data()"
   ]
  }
 ],
 "metadata": {
  "kernelspec": {
   "display_name": "Python 3",
   "language": "python",
   "name": "python3"
  },
  "language_info": {
   "codemirror_mode": {
    "name": "ipython",
    "version": 3
   },
   "file_extension": ".py",
   "mimetype": "text/x-python",
   "name": "python",
   "nbconvert_exporter": "python",
   "pygments_lexer": "ipython3",
   "version": "3.11.8"
  }
 },
 "nbformat": 4,
 "nbformat_minor": 2
}
