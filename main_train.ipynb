{
 "cells": [
  {
   "cell_type": "code",
   "execution_count": 1,
   "metadata": {},
   "outputs": [
    {
     "data": {
      "text/plain": [
       "True"
      ]
     },
     "execution_count": 1,
     "metadata": {},
     "output_type": "execute_result"
    }
   ],
   "source": [
    "# %% test cuda\n",
    "import torch #type: ignore\n",
    "torch.cuda.is_available()"
   ]
  },
  {
   "cell_type": "code",
   "execution_count": 1,
   "metadata": {},
   "outputs": [
    {
     "name": "stdout",
     "output_type": "stream",
     "text": [
      "Use device name: NVIDIA GeForce RTX 4090\n"
     ]
    },
    {
     "name": "stderr",
     "output_type": "stream",
     "text": [
      "\u001b[1m\u001b[37m\u001b[44m24-04-14 18:33:45|MOD:run_model   |\u001b[0m: \u001b[1m\u001b[34mModel Specifics:\u001b[0m\n",
      "\u001b[1m\u001b[37m\u001b[41m24-04-14 18:33:45|MOD:run_model   |\u001b[0m: \u001b[1m\u001b[31mStart Process [Load Data]!\u001b[0m\n"
     ]
    },
    {
     "name": "stdout",
     "output_type": "stream",
     "text": [
      "--Process Queue : Data + Train + Test\n",
      "--Start Training New!\n",
      "--Model_name is set to patch_tst_day.2!\n",
      "{'random_seed': None,\n",
      " 'model_name': 'patch_tst_day.2',\n",
      " 'model_module': 'patch_tst',\n",
      " 'model_data_type': 'day',\n",
      " 'model_data_prenorm': {'day': {'divlast': True, 'histnorm': True}},\n",
      " 'labels': ['std_lag1_10'],\n",
      " 'beg_date': 20170103,\n",
      " 'end_date': 99991231,\n",
      " 'interval': 120,\n",
      " 'input_step_day': 5,\n",
      " 'test_step_day': 1}\n",
      "{'hidden_dim': [32],\n",
      " 'seqlens': [{'day': 30, '30m': 30, 'dms': 30}],\n",
      " 'seq_len': [30],\n",
      " 'dropout': [0.1],\n",
      " 'attn_dropout': [0.1],\n",
      " 'num_output': [1],\n",
      " 'shared_embedding': [True],\n",
      " 'shared_head': [True, False],\n",
      " 'revin': [True],\n",
      " 'act_type': ['gelu'],\n",
      " 'patch_len': [5],\n",
      " 'stride': [2],\n",
      " 'n_layers': [2],\n",
      " 'n_heads': [4],\n",
      " 'd_ff': [64]}\n",
      "use /home/mengkjin/Workspace/learndl/data/torch_pack/day.20240313.pt\n"
     ]
    },
    {
     "name": "stderr",
     "output_type": "stream",
     "text": [
      "\u001b[1m\u001b[37m\u001b[41m24-04-14 18:33:48|MOD:run_model   |\u001b[0m: \u001b[1m\u001b[31mFinish Process [Load Data]! Cost 3.2Secs\u001b[0m\n",
      "\u001b[1m\u001b[37m\u001b[41m24-04-14 18:33:48|MOD:run_model   |\u001b[0m: \u001b[1m\u001b[31mStart Process [Train Model]!\u001b[0m\n"
     ]
    },
    {
     "name": "stdout",
     "output_type": "stream",
     "text": [
      "Pre-Norming method of [day] : {'divlast': True, 'histnorm': True}\n"
     ]
    },
    {
     "name": "stderr",
     "output_type": "stream",
     "text": [
      "\u001b[32mpatch_tst_day.2 #0 @20170103 LoadData Cost    3.0Secs\u001b[0m\n"
     ]
    },
    {
     "name": "stdout",
     "output_type": "stream",
     "text": [
      "score function of [spearman] calculated and success!\n",
      "loss function of [pearson] calculated and success!\n"
     ]
    },
    {
     "name": "stderr",
     "output_type": "stream",
     "text": [
      "\u001b[32mFirstBite Ep#  0 : loss  0.97500, train 0.04156, valid 0.07322, max 0.0732, best 0.0732, lr1.0e-07\u001b[0m\n",
      "\u001b[32mFirstBite Ep#  5 : loss  0.89137, train 0.12619, valid 0.14235, max 0.1424, best 0.1424, lr3.8e-03\u001b[0m\n",
      "\u001b[32mFirstBite Ep# 10 : loss  0.87043, train 0.14822, valid 0.13979, max 0.1424, best 0.1424, lr1.3e-03\u001b[0m\n",
      "\u001b[32mFirstBite Ep# 15 : loss  0.85571, train 0.16368, valid 0.13305, max 0.1424, best 0.1424, lr6.3e-04\u001b[0m\n",
      "\u001b[32mFirstBite Ep# 20 : loss  0.85302, train 0.16645, valid 0.13477, max 0.1424, best 0.1424, lr1.3e-03\u001b[0m\n",
      "\u001b[32mFirstBite Ep# 25 : loss  0.84473, train 0.17479, valid 0.13078, max 0.1424, best 0.1424, lr1.6e-04\u001b[0m\n",
      "\u001b[1m\u001b[37m\u001b[44m24-04-14 18:36:54|MOD:run_model   |\u001b[0m: \u001b[1m\u001b[34mpatch_tst_day.2 #0 @20170103|FirstBite Ep# 25 EarlyStop|Train 0.1748 Valid 0.1308 BestVal 0.1424|Cost  3.1Min,  7.0Sec/Ep\u001b[0m\n",
      "\u001b[32mFirstBite Ep#  0 : loss  1.02970, train-0.03972, valid-0.08545, max-0.0854, best-0.0854, lr1.0e-07\u001b[0m\n",
      "\u001b[32mFirstBite Ep#  5 : loss  0.89242, train 0.12521, valid 0.13678, max 0.1368, best 0.1368, lr3.8e-03\u001b[0m\n",
      "\u001b[32mFirstBite Ep# 10 : loss  0.86739, train 0.15161, valid 0.13276, max 0.1368, best 0.1368, lr1.3e-03\u001b[0m\n",
      "\u001b[32mFirstBite Ep# 15 : loss  0.84644, train 0.17355, valid 0.13421, max 0.1372, best 0.1372, lr6.3e-04\u001b[0m\n",
      "\u001b[32mFirstBite Ep# 20 : loss  0.84244, train 0.17862, valid 0.12659, max 0.1372, best 0.1372, lr1.3e-03\u001b[0m\n",
      "\u001b[32mFirstBite Ep# 25 : loss  0.82513, train 0.19515, valid 0.12503, max 0.1372, best 0.1372, lr1.6e-04\u001b[0m\n",
      "\u001b[32mFirstBite Ep# 30 : loss  0.81778, train 0.20318, valid 0.12023, max 0.1372, best 0.1372, lr3.1e-04\u001b[0m\n",
      "\u001b[1m\u001b[37m\u001b[44m24-04-14 18:40:49|MOD:run_model   |\u001b[0m: \u001b[1m\u001b[34mpatch_tst_day.2 #1 @20170103|FirstBite Ep# 31 EarlyStop|Train 0.2053 Valid 0.1169 BestVal 0.1372|Cost  3.9Min,  7.3Sec/Ep\u001b[0m\n",
      "\u001b[1m\u001b[37m\u001b[44m24-04-14 18:45:26|MOD:run_model   |\u001b[0m: \u001b[1m\u001b[34mpatch_tst_day.2 #0 @20170704|FirstBite Ep# 37 EarlyStop|Train 0.1720 Valid 0.1318 BestVal 0.1371|Cost  4.6Min,  7.2Sec/Ep\u001b[0m\n",
      "\u001b[1m\u001b[37m\u001b[44m24-04-14 18:50:38|MOD:run_model   |\u001b[0m: \u001b[1m\u001b[34mpatch_tst_day.2 #1 @20170704|FirstBite Ep# 40 EarlyStop|Train 0.1896 Valid 0.1263 BestVal 0.1329|Cost  5.2Min,  7.6Sec/Ep\u001b[0m\n",
      "\u001b[1m\u001b[37m\u001b[44m24-04-14 18:55:48|MOD:run_model   |\u001b[0m: \u001b[1m\u001b[34mpatch_tst_day.2 #0 @20171226|FirstBite Ep# 40 EarlyStop|Train 0.1825 Valid 0.1250 BestVal 0.1336|Cost  5.2Min,  7.5Sec/Ep\u001b[0m\n",
      "\u001b[1m\u001b[37m\u001b[44m24-04-14 19:04:26|MOD:run_model   |\u001b[0m: \u001b[1m\u001b[34mpatch_tst_day.2 #1 @20171226|FirstBite Ep# 65 EarlyStop|Train 0.1943 Valid 0.1102 BestVal 0.1268|Cost  8.6Min,  7.8Sec/Ep\u001b[0m\n",
      "\u001b[1m\u001b[37m\u001b[44m24-04-14 19:09:12|MOD:run_model   |\u001b[0m: \u001b[1m\u001b[34mpatch_tst_day.2 #0 @20180627|FirstBite Ep# 35 EarlyStop|Train 0.1771 Valid 0.1114 BestVal 0.1230|Cost  4.8Min,  7.8Sec/Ep\u001b[0m\n",
      "\u001b[1m\u001b[37m\u001b[44m24-04-14 19:14:07|MOD:run_model   |\u001b[0m: \u001b[1m\u001b[34mpatch_tst_day.2 #1 @20180627|FirstBite Ep# 35 EarlyStop|Train 0.1855 Valid 0.1126 BestVal 0.1201|Cost  4.9Min,  8.2Sec/Ep\u001b[0m\n",
      "\u001b[1m\u001b[37m\u001b[44m24-04-14 19:18:30|MOD:run_model   |\u001b[0m: \u001b[1m\u001b[34mpatch_tst_day.2 #0 @20181220|FirstBite Ep# 31 EarlyStop|Train 0.1907 Valid 0.1035 BestVal 0.1110|Cost  4.4Min,  8.1Sec/Ep\u001b[0m\n",
      "\u001b[1m\u001b[37m\u001b[44m24-04-14 19:24:10|MOD:run_model   |\u001b[0m: \u001b[1m\u001b[34mpatch_tst_day.2 #1 @20181220|FirstBite Ep# 39 EarlyStop|Train 0.2014 Valid 0.0991 BestVal 0.1086|Cost  5.7Min,  8.5Sec/Ep\u001b[0m\n",
      "\u001b[1m\u001b[37m\u001b[44m24-04-14 19:28:18|MOD:run_model   |\u001b[0m: \u001b[1m\u001b[34mpatch_tst_day.2 #0 @20190624|FirstBite Ep# 28 EarlyStop|Train 0.1895 Valid 0.1019 BestVal 0.1155|Cost  4.1Min,  8.4Sec/Ep\u001b[0m\n",
      "\u001b[1m\u001b[37m\u001b[44m24-04-14 19:33:11|MOD:run_model   |\u001b[0m: \u001b[1m\u001b[34mpatch_tst_day.2 #1 @20190624|FirstBite Ep# 32 EarlyStop|Train 0.2214 Valid 0.0928 BestVal 0.1143|Cost  4.9Min,  8.9Sec/Ep\u001b[0m\n",
      "\u001b[1m\u001b[37m\u001b[44m24-04-14 19:37:13|MOD:run_model   |\u001b[0m: \u001b[1m\u001b[34mpatch_tst_day.2 #0 @20191217|FirstBite Ep# 26 EarlyStop|Train 0.1963 Valid 0.0911 BestVal 0.0995|Cost  4.0Min,  8.8Sec/Ep\u001b[0m\n",
      "\u001b[1m\u001b[37m\u001b[44m24-04-14 19:41:24|MOD:run_model   |\u001b[0m: \u001b[1m\u001b[34mpatch_tst_day.2 #1 @20191217|FirstBite Ep# 26 EarlyStop|Train 0.2155 Valid 0.0923 BestVal 0.1033|Cost  4.2Min,  9.3Sec/Ep\u001b[0m\n",
      "\u001b[1m\u001b[37m\u001b[44m24-04-14 19:46:30|MOD:run_model   |\u001b[0m: \u001b[1m\u001b[34mpatch_tst_day.2 #0 @20200617|FirstBite Ep# 32 EarlyStop|Train 0.1962 Valid 0.0886 BestVal 0.0982|Cost  5.1Min,  9.2Sec/Ep\u001b[0m\n",
      "\u001b[1m\u001b[37m\u001b[44m24-04-14 19:51:30|MOD:run_model   |\u001b[0m: \u001b[1m\u001b[34mpatch_tst_day.2 #1 @20200617|FirstBite Ep# 30 EarlyStop|Train 0.2024 Valid 0.0888 BestVal 0.0986|Cost  5.0Min,  9.7Sec/Ep\u001b[0m\n",
      "\u001b[1m\u001b[37m\u001b[44m24-04-14 19:55:33|MOD:run_model   |\u001b[0m: \u001b[1m\u001b[34mpatch_tst_day.2 #0 @20201214|FirstBite Ep# 24 EarlyStop|Train 0.1879 Valid 0.0911 BestVal 0.0998|Cost  4.0Min,  9.6Sec/Ep\u001b[0m\n",
      "\u001b[1m\u001b[37m\u001b[44m24-04-14 20:01:03|MOD:run_model   |\u001b[0m: \u001b[1m\u001b[34mpatch_tst_day.2 #1 @20201214|FirstBite Ep# 32 EarlyStop|Train 0.1984 Valid 0.0898 BestVal 0.0968|Cost  5.5Min, 10.0Sec/Ep\u001b[0m\n",
      "\u001b[1m\u001b[37m\u001b[44m24-04-14 20:05:24|MOD:run_model   |\u001b[0m: \u001b[1m\u001b[34mpatch_tst_day.2 #0 @20210615|FirstBite Ep# 25 EarlyStop|Train 0.1866 Valid 0.0881 BestVal 0.0963|Cost  4.4Min,  9.9Sec/Ep\u001b[0m\n",
      "\u001b[1m\u001b[37m\u001b[44m24-04-14 20:11:07|MOD:run_model   |\u001b[0m: \u001b[1m\u001b[34mpatch_tst_day.2 #1 @20210615|FirstBite Ep# 32 EarlyStop|Train 0.1868 Valid 0.0873 BestVal 0.0958|Cost  5.7Min, 10.4Sec/Ep\u001b[0m\n",
      "\u001b[1m\u001b[37m\u001b[44m24-04-14 20:16:38|MOD:run_model   |\u001b[0m: \u001b[1m\u001b[34mpatch_tst_day.2 #0 @20211209|FirstBite Ep# 31 EarlyStop|Train 0.1697 Valid 0.0809 BestVal 0.0818|Cost  5.5Min, 10.2Sec/Ep\u001b[0m\n",
      "\u001b[1m\u001b[37m\u001b[44m24-04-14 20:25:11|MOD:run_model   |\u001b[0m: \u001b[1m\u001b[34mpatch_tst_day.2 #1 @20211209|FirstBite Ep# 47 EarlyStop|Train 0.1758 Valid 0.0720 BestVal 0.0833|Cost  8.6Min, 10.7Sec/Ep\u001b[0m\n",
      "\u001b[1m\u001b[37m\u001b[44m24-04-14 20:30:02|MOD:run_model   |\u001b[0m: \u001b[1m\u001b[34mpatch_tst_day.2 #0 @20220613|FirstBite Ep# 26 EarlyStop|Train 0.1659 Valid 0.0898 BestVal 0.0939|Cost  4.9Min, 10.7Sec/Ep\u001b[0m\n",
      "\u001b[1m\u001b[37m\u001b[44m24-04-14 20:35:16|MOD:run_model   |\u001b[0m: \u001b[1m\u001b[34mpatch_tst_day.2 #1 @20220613|FirstBite Ep# 27 EarlyStop|Train 0.1649 Valid 0.0852 BestVal 0.0916|Cost  5.2Min, 11.2Sec/Ep\u001b[0m\n",
      "\u001b[1m\u001b[37m\u001b[44m24-04-14 20:40:18|MOD:run_model   |\u001b[0m: \u001b[1m\u001b[34mpatch_tst_day.2 #0 @20221206|FirstBite Ep# 26 EarlyStop|Train 0.1691 Valid 0.0832 BestVal 0.0912|Cost  5.0Min, 11.0Sec/Ep\u001b[0m\n",
      "\u001b[1m\u001b[37m\u001b[44m24-04-14 20:45:43|MOD:run_model   |\u001b[0m: \u001b[1m\u001b[34mpatch_tst_day.2 #1 @20221206|FirstBite Ep# 27 EarlyStop|Train 0.1834 Valid 0.0822 BestVal 0.0949|Cost  5.4Min, 11.6Sec/Ep\u001b[0m\n",
      "\u001b[1m\u001b[37m\u001b[44m24-04-14 20:53:20|MOD:run_model   |\u001b[0m: \u001b[1m\u001b[34mpatch_tst_day.2 #0 @20230606|FirstBite Ep# 39 EarlyStop|Train 0.1574 Valid 0.0940 BestVal 0.0997|Cost  7.6Min, 11.3Sec/Ep\u001b[0m\n",
      "\u001b[1m\u001b[37m\u001b[44m24-04-14 20:59:45|MOD:run_model   |\u001b[0m: \u001b[1m\u001b[34mpatch_tst_day.2 #1 @20230606|FirstBite Ep# 31 EarlyStop|Train 0.1710 Valid 0.0871 BestVal 0.0991|Cost  6.4Min, 12.0Sec/Ep\u001b[0m\n",
      "\u001b[1m\u001b[37m\u001b[44m24-04-14 21:04:46|MOD:run_model   |\u001b[0m: \u001b[1m\u001b[34mpatch_tst_day.2 #0 @20231201|FirstBite Ep# 24 EarlyStop|Train 0.1557 Valid 0.0830 BestVal 0.1013|Cost  5.0Min, 11.9Sec/Ep\u001b[0m\n",
      "\u001b[1m\u001b[37m\u001b[44m24-04-14 21:11:25|MOD:run_model   |\u001b[0m: \u001b[1m\u001b[34mpatch_tst_day.2 #1 @20231201|FirstBite Ep# 31 EarlyStop|Train 0.1703 Valid 0.0749 BestVal 0.0972|Cost  6.6Min, 12.5Sec/Ep\u001b[0m\n",
      "\u001b[1m\u001b[37m\u001b[41m24-04-14 21:11:25|MOD:run_model   |\u001b[0m: \u001b[1m\u001b[31mFinish Process [Train Model]! Cost 2.6 Hours, 5.3 Min/model, 9.4 Sec/Epoch\u001b[0m\n",
      "\u001b[1m\u001b[37m\u001b[41m24-04-14 21:11:25|MOD:run_model   |\u001b[0m: \u001b[1m\u001b[31mStart Process [Test Model]!\u001b[0m\n",
      "\u001b[1m\u001b[37m\u001b[44m24-04-14 21:11:25|MOD:run_model   |\u001b[0m: \u001b[1m\u001b[34mEach Model Date Testing Mean Score({'train': 'spearman', 'valid': 'spearman', 'test': 'spearman'}):\u001b[0m\n",
      "\u001b[32mModels            0       0       0       1       1       1\u001b[0m\n",
      "\u001b[32mOutput         best swalast swabest    best swalast swabest\u001b[0m\n",
      "\u001b[32m20170103     0.0935  0.1132  0.1300  0.1291  0.1272  0.1296\u001b[0m\n",
      "\u001b[32m20170704     0.1105  0.1102  0.1092  0.1094  0.1043  0.1086\u001b[0m\n",
      "\u001b[32m20171226     0.1145  0.1100  0.1135  0.1065  0.1095  0.1107\u001b[0m\n",
      "\u001b[32m20180627     0.0602  0.0548  0.0581  0.0664  0.0658  0.0642\u001b[0m\n",
      "\u001b[32m20181220     0.1063  0.1005  0.1033  0.1016  0.0969  0.1018\u001b[0m\n",
      "\u001b[32m20190624     0.0898  0.0811  0.0912  0.0900  0.0887  0.0902\u001b[0m\n",
      "\u001b[32m20191217     0.0830  0.0822  0.0865  0.0865  0.0896  0.0882\u001b[0m\n",
      "\u001b[32m20200617     0.0943  0.1006  0.1009  0.0985  0.0965  0.0997\u001b[0m\n",
      "\u001b[32m20201214     0.0920  0.0913  0.0934  0.0964  0.0976  0.0959\u001b[0m\n",
      "\u001b[32m20210615     0.0809  0.0816  0.0806  0.0775  0.0801  0.0801\u001b[0m\n",
      "\u001b[32m20211209     0.0989  0.0982  0.0997  0.1032  0.1031  0.1036\u001b[0m\n",
      "\u001b[32m20220613     0.1005  0.1102  0.0975  0.0967  0.1113  0.1002\u001b[0m\n",
      "\u001b[32m20221206     0.0765  0.0776  0.0723  0.0649  0.0792  0.0626\u001b[0m\n",
      "\u001b[32m20230606     0.0998  0.0964  0.1006  0.0916  0.1043  0.1053\u001b[0m\n",
      "\u001b[32m20231201     0.1069  0.1100  0.1142  0.0867  0.0997  0.0976\u001b[0m\n",
      "\u001b[32mAllTimeAvg   0.0935  0.0941  0.0963  0.0938  0.0968  0.0958\u001b[0m\n",
      "\u001b[32mAllTimeSum   164.31  165.41  169.20  164.86  170.16  168.41\u001b[0m\n",
      "\u001b[32mStd          0.0850  0.0841  0.0823  0.0831  0.0834  0.0812\u001b[0m\n",
      "\u001b[32mTValue        46.12   46.91   49.06   47.35   48.65   49.47\u001b[0m\n",
      "\u001b[32mAnnIR        5.3908  5.4829  5.7337  5.5344  5.6854  5.7820\u001b[0m\n",
      "\u001b[1m\u001b[37m\u001b[41m24-04-14 21:13:49|MOD:run_model   |\u001b[0m: \u001b[1m\u001b[31mFinish Process [Test Model]! Cost 143.3 Secs\u001b[0m\n"
     ]
    }
   ],
   "source": [
    "# %% test a specific model\n",
    "from run_model import main\n",
    "main(process = 0 , resume = 0 , checkname= 1)"
   ]
  },
  {
   "cell_type": "code",
   "execution_count": 1,
   "metadata": {},
   "outputs": [
    {
     "name": "stdout",
     "output_type": "stream",
     "text": [
      "Use device name: NVIDIA GeForce RTX 4090\n"
     ]
    },
    {
     "name": "stderr",
     "output_type": "stream",
     "text": [
      "\u001b[1m\u001b[37m\u001b[41m24-03-31 09:52:11|MOD:data_preprocessing|\u001b[0m: \u001b[1m\u001b[31mif_train is False , Data Processing start!\u001b[0m\n",
      "\u001b[1m\u001b[37m\u001b[45m24-03-31 09:52:11|MOD:data_preprocessing|\u001b[0m: \u001b[1m\u001b[35m3 datas :['y', 'trade_day', 'trade_30m']\u001b[0m\n"
     ]
    },
    {
     "name": "stdout",
     "output_type": "stream",
     "text": [
      "Sun Mar 31 09:52:11 2024 : y start ...\n",
      "labels blocks reading ret10_lag DataBase's ...... cost 0.39 secs\n",
      "labels blocks reading ret20_lag DataBase's ...... cost 0.33 secs\n",
      "labels blocks merging ...... cost 0.05 secs\n",
      "models blocks reading risk_exp DataBase's ...... cost 1.66 secs\n",
      "models blocks merging ...... cost 0.17 secs\n",
      "y blocks process ...... cost 0.88 secs\n",
      "y blocks masking ...... cost 0.05 secs\n",
      "y blocks saving  ...... cost 0.14 secs\n",
      "y blocks norming ...... cost 0.00 secs\n",
      "Sun Mar 31 09:52:14 2024 : y finished! Cost 3.67 Seconds\n",
      "Sun Mar 31 09:52:14 2024 : trade_day start ...\n",
      "trade blocks reading day DataBase's ...... cost 0.56 secs\n",
      "trade_day blocks merging ...... cost 0.00 secs\n",
      "trade_day blocks process ...... cost 0.03 secs\n",
      "trade_day blocks masking ...... cost 0.05 secs\n",
      "trade_day blocks saving  ...... cost 0.16 secs\n",
      "trade_day blocks norming ...... cost 0.00 secs\n",
      "Sun Mar 31 09:52:15 2024 : trade_day finished! Cost 0.81 Seconds\n",
      "Sun Mar 31 09:52:15 2024 : trade_30m start ...\n",
      "trade blocks reading 30min DataBase's ...... cost 2.51 secs\n",
      "trade_30m blocks merging ...... cost 0.00 secs\n",
      "trade blocks reading day DataBase's ...... cost 0.53 secs\n",
      "trade_day blocks merging ...... cost 0.02 secs\n",
      "trade_30m blocks process ...... cost 0.95 secs\n",
      "trade_30m blocks masking ...... cost 0.05 secs\n",
      "trade_30m blocks saving  ..."
     ]
    },
    {
     "name": "stderr",
     "output_type": "stream",
     "text": [
      "\u001b[1m\u001b[37m\u001b[41m24-03-31 09:52:21|MOD:data_preprocessing|\u001b[0m: \u001b[1m\u001b[31mData Processing Finished! Cost 10.02 Seconds\u001b[0m\n"
     ]
    },
    {
     "name": "stdout",
     "output_type": "stream",
     "text": [
      "... cost 1.13 secs\n",
      "trade_30m blocks norming ...... cost 0.00 secs\n",
      "Sun Mar 31 09:52:21 2024 : trade_30m finished! Cost 5.19 Seconds\n"
     ]
    }
   ],
   "source": [
    "from src.data import PreProcess\n",
    "PreProcess.main(False)\n",
    "PreProcess.main(True)"
   ]
  }
 ],
 "metadata": {
  "kernelspec": {
   "display_name": "Python 3",
   "language": "python",
   "name": "python3"
  },
  "language_info": {
   "codemirror_mode": {
    "name": "ipython",
    "version": 3
   },
   "file_extension": ".py",
   "mimetype": "text/x-python",
   "name": "python",
   "nbconvert_exporter": "python",
   "pygments_lexer": "ipython3",
   "version": "3.10.12"
  }
 },
 "nbformat": 4,
 "nbformat_minor": 2
}
