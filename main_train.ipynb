{
 "cells": [
  {
   "cell_type": "code",
   "execution_count": 1,
   "metadata": {},
   "outputs": [
    {
     "data": {
      "text/plain": [
       "True"
      ]
     },
     "execution_count": 1,
     "metadata": {},
     "output_type": "execute_result"
    }
   ],
   "source": [
    "# %% test cuda\n",
    "import torch #type: ignore\n",
    "torch.cuda.is_available()"
   ]
  },
  {
   "cell_type": "code",
   "execution_count": 1,
   "metadata": {},
   "outputs": [
    {
     "name": "stdout",
     "output_type": "stream",
     "text": [
      "Update Files\n",
      "Mon Apr  1 23:31:16 2024 : Updated ~ data\\DataBase\\DB_information\\calendar.feather Done! Cost 0.07 Secs\n",
      "Mon Apr  1 23:31:16 2024 : Updated ~ data\\DataBase\\DB_information\\description.feather Done! Cost 0.05 Secs\n",
      "Mon Apr  1 23:31:16 2024 : Updated ~ data\\DataBase\\DB_information\\st.feather Done! Cost 0.03 Secs\n",
      "Mon Apr  1 23:31:20 2024 : Updated ~ data\\DataBase\\DB_information\\industry.feather Done! Cost 3.42 Secs\n",
      "Mon Apr  1 23:31:27 2024 : Updated ~ data\\DataBase\\DB_information\\concepts.feather Done! Cost 7.70 Secs\n",
      "Mon Apr  1 23:31:29 2024 : Updated ~ data\\DataBase\\DB_models\\risk_exp\\2024\\risk_exp.20240401.feather Done! Cost 0.09 Secs\n",
      "Mon Apr  1 23:31:32 2024 : Updated ~ data\\DataBase\\DB_trade\\day\\2024\\day.20240401.feather Done! Cost 0.07 Secs\n",
      "Mon Apr  1 23:31:32 2024 : Updated ~ data\\DataBase\\DB_trade\\5day\\2024\\5day.20240401.feather Done! Cost 0.30 Secs\n",
      "Mon Apr  1 23:31:33 2024 : Updated ~ data\\DataBase\\DB_trade\\10day\\2024\\10day.20240401.feather Done! Cost 0.56 Secs\n",
      "Mon Apr  1 23:31:34 2024 : Updated ~ data\\DataBase\\DB_trade\\20day\\2024\\20day.20240401.feather Done! Cost 1.03 Secs\n",
      "Mon Apr  1 23:31:38 2024 : Updated ~ data\\DataBase\\DB_trade\\min\\2024\\min.20240401.feather Done! Cost 4.12 Secs\n",
      "Mon Apr  1 23:31:38 2024 : Updated ~ data\\DataBase\\DB_trade\\5min\\2024\\5min.20240401.feather Done! Cost 0.48 Secs\n",
      "Mon Apr  1 23:31:39 2024 : Updated ~ data\\DataBase\\DB_trade\\10min\\2024\\10min.20240401.feather Done! Cost 0.37 Secs\n",
      "Mon Apr  1 23:31:39 2024 : Updated ~ data\\DataBase\\DB_trade\\15min\\2024\\15min.20240401.feather Done! Cost 0.37 Secs\n",
      "Mon Apr  1 23:31:39 2024 : Updated ~ data\\DataBase\\DB_trade\\30min\\2024\\30min.20240401.feather Done! Cost 0.33 Secs\n",
      "Mon Apr  1 23:31:40 2024 : Updated ~ data\\DataBase\\DB_trade\\60min\\2024\\60min.20240401.feather Done! Cost 0.32 Secs\n",
      "Mon Apr  1 23:31:43 2024 : Updated ~ data\\DataBase\\DB_labels\\ret20_lag\\2024\\ret20_lag.20240301.feather Done! Cost 0.72 Secs\n",
      "Mon Apr  1 23:31:43 2024 : Updated ~ data\\DataBase\\DB_labels\\ret20\\2024\\ret20.20240304.feather Done! Cost 0.38 Secs\n",
      "Mon Apr  1 23:31:46 2024 : Updated ~ data\\DataBase\\DB_labels\\ret10_lag\\2024\\ret10_lag.20240315.feather Done! Cost 0.33 Secs\n",
      "Mon Apr  1 23:31:47 2024 : Updated ~ data\\DataBase\\DB_labels\\ret10\\2024\\ret10.20240318.feather Done! Cost 0.31 Secs\n",
      "Mon Apr  1 23:31:50 2024 : Updated ~ data\\DataBase\\DB_labels\\ret5_lag\\2024\\ret5_lag.20240322.feather Done! Cost 0.25 Secs\n",
      "Mon Apr  1 23:31:51 2024 : Updated ~ data\\DataBase\\DB_labels\\ret5\\2024\\ret5.20240325.feather Done! Cost 0.27 Secs\n",
      "Mon Apr  1 23:31:56 2024 : All Updates Done! Cost 39.66 Secs\n"
     ]
    }
   ],
   "source": [
    "# %% update data\n",
    "import socket\n",
    "import src.data as data\n",
    "data.DataFetcher.main()\n",
    "if socket.gethostname() == 'mengkjin-server':\n",
    "    data.DataFetcher_sql.DataFetcher_sql.update_since()"
   ]
  },
  {
   "cell_type": "code",
   "execution_count": 1,
   "metadata": {},
   "outputs": [
    {
     "name": "stdout",
     "output_type": "stream",
     "text": [
      "Use device name: NVIDIA GeForce RTX 4090\n"
     ]
    },
    {
     "name": "stderr",
     "output_type": "stream",
     "text": [
      "\u001b[1m\u001b[37m\u001b[44m24-03-31 20:12:34|MOD:run_model   |\u001b[0m: \u001b[1m\u001b[34mModel Specifics:\u001b[0m\n",
      "\u001b[1m\u001b[37m\u001b[41m24-03-31 20:12:34|MOD:run_model   |\u001b[0m: \u001b[1m\u001b[31mStart Process [Load Data]!\u001b[0m\n"
     ]
    },
    {
     "name": "stdout",
     "output_type": "stream",
     "text": [
      "--Process Queue : Data + Train + Test + Instance\n",
      "--Start Training New!\n",
      "--Model_name is set to gru_day!\n",
      "{'random_seed': None,\n",
      " 'verbosity': 2,\n",
      " 'precision': 'float',\n",
      " 'batch_size': 10000,\n",
      " 'model_name': 'gru_day',\n",
      " 'model_module': 'gru',\n",
      " 'model_data_type': 'day',\n",
      " 'model_num': 2,\n",
      " 'beg_date': 20170103,\n",
      " 'end_date': 99991231,\n",
      " 'interval': 120,\n",
      " 'input_step_day': 5,\n",
      " 'test_step_day': 1,\n",
      " 'MODEL_PARAM': {'hidden_dim': [32, 64],\n",
      "                 'seqlens': [{'day': 30, '30m': 30, 'dms': 30}],\n",
      "                 'tra_seqlens': [{'hist_loss': 40}],\n",
      "                 'dropout': [0.1],\n",
      "                 'enc_in': [True],\n",
      "                 'enc_att': [False],\n",
      "                 'rnn_type': ['lstm'],\n",
      "                 'rnn_att': [False],\n",
      "                 'rnn_layers': [2],\n",
      "                 'dec_mlp_layers': [2],\n",
      "                 'num_output': [1],\n",
      "                 'kernel_size': [3, 3],\n",
      "                 'hidden_as_factor': [False],\n",
      "                 'ordered_param_group': [False],\n",
      "                 'resnet_blocks': [2, 3, 4]},\n",
      " 'train_params': {'dataloader': {'sample_method': 'train_shuffle', 'shuffle_option': 'epoch', 'train_ratio': 0.8},\n",
      "                  'trainer': {'optimizer': {'name': 'Adam', 'param': {}},\n",
      "                              'scheduler': {'name': 'cycle', 'param': {'base_lr': 1e-07, 'step_size_up': 4}},\n",
      "                              'learn_rate': {'base': 0.005,\n",
      "                                             'ratio': {'attempt': [1, 0.1, 10, 0.01, 100], 'round': [1.0], 'transfer': 0.1},\n",
      "                                             'reset': {'num_reset': 2, 'trigger': 40, 'recover_level': 1.0, 'speedup2x': True}},\n",
      "                              'nanloss': {'retry': 5},\n",
      "                              'gradient': {'clip_value': 10.0},\n",
      "                              'retrain': {'attempts': 4, 'min_epoch': 20, 'min_epoch_round': 10}},\n",
      "                  'criterion': {'loss': 'pearson',\n",
      "                                'score': {'train': 'spearman', 'valid': 'spearman', 'test': 'spearman'},\n",
      "                                'penalty': {'hidden_corr': {'lamb': 0.001}, 'tra_opt_transport': {'lamb': 0.01, 'rho': 0.999}},\n",
      "                                'weight': {'train': 'equal', 'test': 'equal'}},\n",
      "                  'transfer': False,\n",
      "                  'output_types': ['best', 'swalast', 'swabest'],\n",
      "                  'multitask': {'type': 'hybrid',\n",
      "                                'param_dict': {'dwa': {'tau': 2},\n",
      "                                               'ruw': {'phi': None},\n",
      "                                               'ewa': {},\n",
      "                                               'gls': {},\n",
      "                                               'rws': {},\n",
      "                                               'hybrid': {'phi': None, 'tau': 2}}},\n",
      "                  'terminate': {'overall': {'early_stop': 20, 'max_epoch': 200, 'valid_converge': {'min_epoch': 5, 'eps': 1e-05}},\n",
      "                                'round': {'early_stop': 10, 'max_epoch': 100, 'valid_converge': {'min_epoch': 5, 'eps': 1e-05}}}}}\n",
      "use /home/mengkjin/Workspace/learndl/data/torch_pack/day+std_lag1_10.20240313.pt\n"
     ]
    },
    {
     "name": "stderr",
     "output_type": "stream",
     "text": [
      "\u001b[1m\u001b[37m\u001b[41m24-03-31 20:12:37|MOD:run_model   |\u001b[0m: \u001b[1m\u001b[31mFinish Process [Load Data]! Cost 3.0Secs\u001b[0m\n",
      "\u001b[1m\u001b[37m\u001b[41m24-03-31 20:12:37|MOD:run_model   |\u001b[0m: \u001b[1m\u001b[31mStart Process [Train Model]!\u001b[0m\n"
     ]
    },
    {
     "name": "stdout",
     "output_type": "stream",
     "text": [
      "Pre-Norming method of [day] : [endpoint_division(True) , history_standardize(True)]\n"
     ]
    },
    {
     "name": "stderr",
     "output_type": "stream",
     "text": [
      "\u001b[32mgru_day #0 @20170103 LoadData Cost    3.4Secs\u001b[0m\n"
     ]
    },
    {
     "name": "stdout",
     "output_type": "stream",
     "text": [
      "score function of [spearman] calculated and success!\n",
      "loss function of [pearson] calculated and success!\n"
     ]
    },
    {
     "name": "stderr",
     "output_type": "stream",
     "text": [
      "\u001b[32mFirstBite Ep#  0 : loss  1.00573, train-0.01014, valid-0.02874, max-0.0287, best-0.0287, lr1.0e-07\u001b[0m\n",
      "\u001b[32mFirstBite Ep#  5 : loss  0.89195, train 0.12340, valid 0.12881, max 0.1288, best 0.1288, lr3.8e-03\u001b[0m\n",
      "\u001b[32mFirstBite Ep# 10 : loss  0.87615, train 0.13864, valid 0.13796, max 0.1380, best 0.1380, lr1.3e-03\u001b[0m\n",
      "\u001b[32mFirstBite Ep# 15 : loss  0.86523, train 0.15033, valid 0.14380, max 0.1438, best 0.1438, lr6.3e-04\u001b[0m\n",
      "\u001b[32mFirstBite Ep# 20 : loss  0.86340, train 0.15214, valid 0.13903, max 0.1444, best 0.1444, lr1.3e-03\u001b[0m\n",
      "\u001b[32mFirstBite Ep# 25 : loss  0.85800, train 0.15775, valid 0.14630, max 0.1463, best 0.1463, lr1.6e-04\u001b[0m\n",
      "\u001b[32mFirstBite Ep# 30 : loss  0.85686, train 0.15885, valid 0.14761, max 0.1476, best 0.1476, lr3.1e-04\u001b[0m\n",
      "\u001b[32mFirstBite Ep# 35 : loss  0.85503, train 0.16032, valid 0.14792, max 0.1482, best 0.1482, lr2.3e-04\u001b[0m\n",
      "\u001b[32mReset learn rate and scheduler at the end of epoch 39 , effective at epoch 40\u001b[0m\n",
      "\u001b[32mFirstBite Ep# 40 : loss  0.85414, train 0.16171, valid 0.14757, max 0.1482, best 0.1482, lr1.0e-07\u001b[0m\n",
      "\u001b[32mFirstBite Ep# 45 : loss  0.85336, train 0.16175, valid 0.14573, max 0.1482, best 0.1482, lr1.3e-03\u001b[0m\n",
      "\u001b[32mFirstBite Ep# 50 : loss  0.84857, train 0.16658, valid 0.14331, max 0.1482, best 0.1482, lr1.3e-03\u001b[0m\n",
      "\u001b[1m\u001b[37m\u001b[44m24-03-31 20:13:59|MOD:run_model   |\u001b[0m: \u001b[1m\u001b[34mgru_day #0 @20170103|Round 0 FirstBite Ep# 53 EarlyStop|Train 0.1704 Valid 0.1448 BestVal 0.1482|Cost  1.4Min,  1.4Sec/Ep\u001b[0m\n",
      "\u001b[32mFirstBite Ep#  0 : loss  1.01481, train-0.02014, valid-0.02535, max-0.0254, best-0.0254, lr1.0e-07\u001b[0m\n",
      "\u001b[32mFirstBite Ep#  5 : loss  0.87866, train 0.13667, valid 0.13742, max 0.1374, best 0.1374, lr3.8e-03\u001b[0m\n",
      "\u001b[32mFirstBite Ep# 10 : loss  0.85656, train 0.15793, valid 0.14098, max 0.1424, best 0.1424, lr1.3e-03\u001b[0m\n",
      "\u001b[32mFirstBite Ep# 15 : loss  0.84153, train 0.17384, valid 0.14414, max 0.1441, best 0.1441, lr6.3e-04\u001b[0m\n",
      "\u001b[32mFirstBite Ep# 20 : loss  0.83919, train 0.17611, valid 0.13808, max 0.1445, best 0.1445, lr1.3e-03\u001b[0m\n",
      "\u001b[32mFirstBite Ep# 25 : loss  0.82924, train 0.18664, valid 0.14142, max 0.1445, best 0.1445, lr1.6e-04\u001b[0m\n",
      "\u001b[32mFirstBite Ep# 30 : loss  0.82685, train 0.18898, valid 0.13904, max 0.1445, best 0.1445, lr3.1e-04\u001b[0m\n",
      "\u001b[32mFirstBite Ep# 35 : loss  0.82465, train 0.19098, valid 0.13865, max 0.1445, best 0.1445, lr2.3e-04\u001b[0m\n",
      "\u001b[1m\u001b[37m\u001b[44m24-03-31 20:15:08|MOD:run_model   |\u001b[0m: \u001b[1m\u001b[34mgru_day #1 @20170103|Round 0 FirstBite Ep# 37 EarlyStop|Train 0.1921 Valid 0.1387 BestVal 0.1445|Cost  1.1Min,  1.8Sec/Ep\u001b[0m\n",
      "\u001b[1m\u001b[37m\u001b[44m24-03-31 20:16:02|MOD:run_model   |\u001b[0m: \u001b[1m\u001b[34mgru_day #0 @20170704|Round 0 FirstBite Ep# 32 EarlyStop|Train 0.1599 Valid 0.1365 BestVal 0.1402|Cost  0.9Min,  1.5Sec/Ep\u001b[0m\n",
      "\u001b[1m\u001b[37m\u001b[44m24-03-31 20:17:08|MOD:run_model   |\u001b[0m: \u001b[1m\u001b[34mgru_day #1 @20170704|Round 0 FirstBite Ep# 34 EarlyStop|Train 0.1890 Valid 0.1401 BestVal 0.1448|Cost  1.1Min,  1.9Sec/Ep\u001b[0m\n",
      "\u001b[1m\u001b[37m\u001b[44m24-03-31 20:18:04|MOD:run_model   |\u001b[0m: \u001b[1m\u001b[34mgru_day #0 @20171226|Round 0 FirstBite Ep# 33 EarlyStop|Train 0.1629 Valid 0.1438 BestVal 0.1485|Cost  0.9Min,  1.5Sec/Ep\u001b[0m\n",
      "\u001b[1m\u001b[37m\u001b[44m24-03-31 20:19:21|MOD:run_model   |\u001b[0m: \u001b[1m\u001b[34mgru_day #1 @20171226|Round 0 FirstBite Ep# 39 EarlyStop|Train 0.2030 Valid 0.1480 BestVal 0.1533|Cost  1.3Min,  1.9Sec/Ep\u001b[0m\n",
      "\u001b[1m\u001b[37m\u001b[44m24-03-31 20:21:27|MOD:run_model   |\u001b[0m: \u001b[1m\u001b[34mgru_day #0 @20180627|Round 0 FirstBite Ep# 75 EarlyStop|Train 0.1897 Valid 0.1625 BestVal 0.1633|Cost  2.1Min,  1.6Sec/Ep\u001b[0m\n",
      "\u001b[1m\u001b[37m\u001b[44m24-03-31 20:23:15|MOD:run_model   |\u001b[0m: \u001b[1m\u001b[34mgru_day #1 @20180627|Round 0 FirstBite Ep# 53 EarlyStop|Train 0.2197 Valid 0.1438 BestVal 0.1516|Cost  1.8Min,  2.0Sec/Ep\u001b[0m\n",
      "\u001b[1m\u001b[37m\u001b[44m24-03-31 20:24:58|MOD:run_model   |\u001b[0m: \u001b[1m\u001b[34mgru_day #0 @20181220|Round 0 FirstBite Ep# 58 EarlyStop|Train 0.1852 Valid 0.1473 BestVal 0.1476|Cost  1.7Min,  1.7Sec/Ep\u001b[0m\n",
      "\u001b[1m\u001b[37m\u001b[44m24-03-31 20:26:26|MOD:run_model   |\u001b[0m: \u001b[1m\u001b[34mgru_day #1 @20181220|Round 0 FirstBite Ep# 41 EarlyStop|Train 0.1968 Valid 0.1417 BestVal 0.1468|Cost  1.5Min,  2.1Sec/Ep\u001b[0m\n",
      "\u001b[1m\u001b[37m\u001b[44m24-03-31 20:29:02|MOD:run_model   |\u001b[0m: \u001b[1m\u001b[34mgru_day #0 @20190624|Round 0 FirstBite Ep# 89 EarlyStop|Train 0.2009 Valid 0.1351 BestVal 0.1378|Cost  2.6Min,  1.7Sec/Ep\u001b[0m\n",
      "\u001b[1m\u001b[37m\u001b[44m24-03-31 20:30:24|MOD:run_model   |\u001b[0m: \u001b[1m\u001b[34mgru_day #1 @20190624|Round 0 FirstBite Ep# 37 EarlyStop|Train 0.2164 Valid 0.1354 BestVal 0.1374|Cost  1.4Min,  2.2Sec/Ep\u001b[0m\n",
      "\u001b[1m\u001b[37m\u001b[44m24-03-31 20:32:06|MOD:run_model   |\u001b[0m: \u001b[1m\u001b[34mgru_day #0 @20191217|Round 0 FirstBite Ep# 55 EarlyStop|Train 0.1918 Valid 0.1244 BestVal 0.1258|Cost  1.7Min,  1.8Sec/Ep\u001b[0m\n",
      "\u001b[1m\u001b[37m\u001b[44m24-03-31 20:33:25|MOD:run_model   |\u001b[0m: \u001b[1m\u001b[34mgru_day #1 @20191217|Round 0 FirstBite Ep# 34 EarlyStop|Train 0.2137 Valid 0.1176 BestVal 0.1220|Cost  1.3Min,  2.3Sec/Ep\u001b[0m\n",
      "\u001b[1m\u001b[37m\u001b[44m24-03-31 20:35:29|MOD:run_model   |\u001b[0m: \u001b[1m\u001b[34mgru_day #0 @20200617|Round 0 FirstBite Ep# 65 EarlyStop|Train 0.1883 Valid 0.1083 BestVal 0.1083|Cost  2.1Min,  1.8Sec/Ep\u001b[0m\n",
      "\u001b[1m\u001b[37m\u001b[44m24-03-31 20:36:49|MOD:run_model   |\u001b[0m: \u001b[1m\u001b[34mgru_day #1 @20200617|Round 0 FirstBite Ep# 33 EarlyStop|Train 0.2159 Valid 0.1049 BestVal 0.1089|Cost  1.3Min,  2.3Sec/Ep\u001b[0m\n",
      "\u001b[1m\u001b[37m\u001b[44m24-03-31 20:38:46|MOD:run_model   |\u001b[0m: \u001b[1m\u001b[34mgru_day #0 @20201214|Round 0 FirstBite Ep# 59 EarlyStop|Train 0.1928 Valid 0.1057 BestVal 0.1078|Cost  1.9Min,  1.9Sec/Ep\u001b[0m\n",
      "\u001b[1m\u001b[37m\u001b[44m24-03-31 20:40:14|MOD:run_model   |\u001b[0m: \u001b[1m\u001b[34mgru_day #1 @20201214|Round 0 FirstBite Ep# 35 EarlyStop|Train 0.2124 Valid 0.1025 BestVal 0.1067|Cost  1.5Min,  2.4Sec/Ep\u001b[0m\n",
      "\u001b[1m\u001b[37m\u001b[44m24-03-31 20:41:51|MOD:run_model   |\u001b[0m: \u001b[1m\u001b[34mgru_day #0 @20210615|Round 0 FirstBite Ep# 45 EarlyStop|Train 0.1790 Valid 0.1004 BestVal 0.1033|Cost  1.6Min,  2.0Sec/Ep\u001b[0m\n",
      "\u001b[1m\u001b[37m\u001b[44m24-03-31 20:43:08|MOD:run_model   |\u001b[0m: \u001b[1m\u001b[34mgru_day #1 @20210615|Round 0 FirstBite Ep# 29 EarlyStop|Train 0.2055 Valid 0.1000 BestVal 0.1050|Cost  1.3Min,  2.6Sec/Ep\u001b[0m\n",
      "\u001b[1m\u001b[37m\u001b[44m24-03-31 20:45:26|MOD:run_model   |\u001b[0m: \u001b[1m\u001b[34mgru_day #0 @20211209|Round 0 FirstBite Ep# 65 EarlyStop|Train 0.1826 Valid 0.0950 BestVal 0.0981|Cost  2.3Min,  2.0Sec/Ep\u001b[0m\n",
      "\u001b[1m\u001b[37m\u001b[44m24-03-31 20:46:45|MOD:run_model   |\u001b[0m: \u001b[1m\u001b[34mgru_day #1 @20211209|Round 0 FirstBite Ep# 29 EarlyStop|Train 0.2027 Valid 0.0914 BestVal 0.0982|Cost  1.3Min,  2.6Sec/Ep\u001b[0m\n",
      "\u001b[1m\u001b[37m\u001b[44m24-03-31 20:48:01|MOD:run_model   |\u001b[0m: \u001b[1m\u001b[34mgru_day #0 @20220613|Round 0 FirstBite Ep# 32 EarlyStop|Train 0.1691 Valid 0.0986 BestVal 0.0999|Cost  1.3Min,  2.2Sec/Ep\u001b[0m\n",
      "\u001b[1m\u001b[37m\u001b[44m24-03-31 20:49:34|MOD:run_model   |\u001b[0m: \u001b[1m\u001b[34mgru_day #1 @20220613|Round 0 FirstBite Ep# 33 EarlyStop|Train 0.1992 Valid 0.0968 BestVal 0.1044|Cost  1.5Min,  2.7Sec/Ep\u001b[0m\n",
      "\u001b[1m\u001b[37m\u001b[44m24-03-31 20:51:44|MOD:run_model   |\u001b[0m: \u001b[1m\u001b[34mgru_day #0 @20221206|Round 0 FirstBite Ep# 56 EarlyStop|Train 0.1739 Valid 0.0954 BestVal 0.0961|Cost  2.2Min,  2.2Sec/Ep\u001b[0m\n",
      "\u001b[1m\u001b[37m\u001b[44m24-03-31 20:53:09|MOD:run_model   |\u001b[0m: \u001b[1m\u001b[34mgru_day #1 @20221206|Round 0 FirstBite Ep# 29 EarlyStop|Train 0.1936 Valid 0.0903 BestVal 0.0942|Cost  1.4Min,  2.8Sec/Ep\u001b[0m\n",
      "\u001b[1m\u001b[37m\u001b[44m24-03-31 20:55:20|MOD:run_model   |\u001b[0m: \u001b[1m\u001b[34mgru_day #0 @20230606|Round 0 FirstBite Ep# 56 EarlyStop|Train 0.1708 Valid 0.0955 BestVal 0.0967|Cost  2.2Min,  2.2Sec/Ep\u001b[0m\n",
      "\u001b[1m\u001b[37m\u001b[44m24-03-31 20:56:51|MOD:run_model   |\u001b[0m: \u001b[1m\u001b[34mgru_day #1 @20230606|Round 0 FirstBite Ep# 30 EarlyStop|Train 0.1916 Valid 0.0919 BestVal 0.0981|Cost  1.5Min,  2.9Sec/Ep\u001b[0m\n",
      "\u001b[1m\u001b[37m\u001b[44m24-03-31 20:58:10|MOD:run_model   |\u001b[0m: \u001b[1m\u001b[34mgru_day #0 @20231201|Round 0 FirstBite Ep# 32 EarlyStop|Train 0.1550 Valid 0.0840 BestVal 0.0914|Cost  1.3Min,  2.3Sec/Ep\u001b[0m\n",
      "\u001b[1m\u001b[37m\u001b[44m24-03-31 20:59:32|MOD:run_model   |\u001b[0m: \u001b[1m\u001b[34mgru_day #1 @20231201|Round 0 FirstBite Ep# 26 EarlyStop|Train 0.1780 Valid 0.0816 BestVal 0.0890|Cost  1.4Min,  3.0Sec/Ep\u001b[0m\n",
      "\u001b[1m\u001b[37m\u001b[41m24-03-31 20:59:32|MOD:run_model   |\u001b[0m: \u001b[1m\u001b[31mFinish Process [Train Model]! Cost 0.8 Hours, 1.6 Min/model, 2.1 Sec/Epoch\u001b[0m\n",
      "\u001b[1m\u001b[37m\u001b[41m24-03-31 20:59:32|MOD:run_model   |\u001b[0m: \u001b[1m\u001b[31mStart Process [Test Model]!\u001b[0m\n",
      "\u001b[1m\u001b[37m\u001b[44m24-03-31 20:59:32|MOD:run_model   |\u001b[0m: \u001b[1m\u001b[34mEach Model Date Testing Mean Score({'train': 'spearman', 'valid': 'spearman', 'test': 'spearman'}):\u001b[0m\n",
      "\u001b[32mModels            0       0       0       1       1       1\u001b[0m\n",
      "\u001b[32mOutput         best swalast swabest    best swalast swabest\u001b[0m\n",
      "\u001b[32m20170103     0.1504  0.1496  0.1495  0.1478  0.1461  0.1454\u001b[0m\n",
      "\u001b[32m20170704     0.1399  0.1337  0.1383  0.1434  0.1383  0.1423\u001b[0m\n",
      "\u001b[32m20171226     0.1334  0.1350  0.1353  0.1299  0.1308  0.1310\u001b[0m\n",
      "\u001b[32m20180627     0.0897  0.0850  0.0893  0.0877  0.0873  0.0882\u001b[0m\n",
      "\u001b[32m20181220     0.1265  0.1257  0.1274  0.1243  0.1262  0.1268\u001b[0m\n",
      "\u001b[32m20190624     0.0988  0.0987  0.0974  0.1010  0.1003  0.1015\u001b[0m\n",
      "\u001b[32m20191217     0.1048  0.1045  0.1046  0.1077  0.1110  0.1108\u001b[0m\n",
      "\u001b[32m20200617     0.1083  0.1091  0.1098  0.1092  0.1080  0.1084\u001b[0m\n",
      "\u001b[32m20201214     0.1089  0.1076  0.1091  0.1055  0.1062  0.1041\u001b[0m\n",
      "\u001b[32m20210615     0.0770  0.0762  0.0774  0.0777  0.0765  0.0791\u001b[0m\n",
      "\u001b[32m20211209     0.1071  0.1077  0.1062  0.1115  0.1116  0.1117\u001b[0m\n",
      "\u001b[32m20220613     0.1041  0.1034  0.1060  0.1063  0.1020  0.1057\u001b[0m\n",
      "\u001b[32m20221206     0.0567  0.0556  0.0565  0.0506  0.0505  0.0520\u001b[0m\n",
      "\u001b[32m20230606     0.0934  0.0880  0.0909  0.0922  0.0906  0.0904\u001b[0m\n",
      "\u001b[32m20231201     0.1031  0.1117  0.1071  0.1062  0.1025  0.1055\u001b[0m\n",
      "\u001b[32mAllTimeAvg   0.1069  0.1060  0.1070  0.1068  0.1059  0.1069\u001b[0m\n",
      "\u001b[32mAllTimeSum   187.80  186.19  187.97  187.56  186.14  187.80\u001b[0m\n",
      "\u001b[32mStd          0.0844  0.0834  0.0843  0.0845  0.0833  0.0836\u001b[0m\n",
      "\u001b[32mTValue        53.09   53.29   53.21   52.97   53.33   53.56\u001b[0m\n",
      "\u001b[32mAnnIR        6.2043  6.2278  6.2192  6.1907  6.2330  6.2601\u001b[0m\n",
      "\u001b[1m\u001b[37m\u001b[41m24-03-31 21:00:24|MOD:run_model   |\u001b[0m: \u001b[1m\u001b[31mFinish Process [Test Model]! Cost 51.9 Secs\u001b[0m\n",
      "\u001b[1m\u001b[37m\u001b[41m24-03-31 21:00:24|MOD:run_model   |\u001b[0m: \u001b[1m\u001b[31mWill not copy to instance!\u001b[0m\n"
     ]
    }
   ],
   "source": [
    "# %% test a specific model\n",
    "from run_model import main\n",
    "main(process = 0 , rawname = 1 , resume = 0 , anchoring = 0)"
   ]
  },
  {
   "cell_type": "code",
   "execution_count": 1,
   "metadata": {},
   "outputs": [
    {
     "name": "stdout",
     "output_type": "stream",
     "text": [
      "Use device name: NVIDIA GeForce RTX 4090\n"
     ]
    },
    {
     "name": "stderr",
     "output_type": "stream",
     "text": [
      "\u001b[1m\u001b[37m\u001b[41m24-03-31 09:52:11|MOD:data_preprocessing|\u001b[0m: \u001b[1m\u001b[31mif_train is False , Data Processing start!\u001b[0m\n",
      "\u001b[1m\u001b[37m\u001b[45m24-03-31 09:52:11|MOD:data_preprocessing|\u001b[0m: \u001b[1m\u001b[35m3 datas :['y', 'trade_day', 'trade_30m']\u001b[0m\n"
     ]
    },
    {
     "name": "stdout",
     "output_type": "stream",
     "text": [
      "Sun Mar 31 09:52:11 2024 : y start ...\n",
      "labels blocks reading ret10_lag DataBase's ...... cost 0.39 secs\n",
      "labels blocks reading ret20_lag DataBase's ...... cost 0.33 secs\n",
      "labels blocks merging ...... cost 0.05 secs\n",
      "models blocks reading risk_exp DataBase's ...... cost 1.66 secs\n",
      "models blocks merging ...... cost 0.17 secs\n",
      "y blocks process ...... cost 0.88 secs\n",
      "y blocks masking ...... cost 0.05 secs\n",
      "y blocks saving  ...... cost 0.14 secs\n",
      "y blocks norming ...... cost 0.00 secs\n",
      "Sun Mar 31 09:52:14 2024 : y finished! Cost 3.67 Seconds\n",
      "Sun Mar 31 09:52:14 2024 : trade_day start ...\n",
      "trade blocks reading day DataBase's ...... cost 0.56 secs\n",
      "trade_day blocks merging ...... cost 0.00 secs\n",
      "trade_day blocks process ...... cost 0.03 secs\n",
      "trade_day blocks masking ...... cost 0.05 secs\n",
      "trade_day blocks saving  ...... cost 0.16 secs\n",
      "trade_day blocks norming ...... cost 0.00 secs\n",
      "Sun Mar 31 09:52:15 2024 : trade_day finished! Cost 0.81 Seconds\n",
      "Sun Mar 31 09:52:15 2024 : trade_30m start ...\n",
      "trade blocks reading 30min DataBase's ...... cost 2.51 secs\n",
      "trade_30m blocks merging ...... cost 0.00 secs\n",
      "trade blocks reading day DataBase's ...... cost 0.53 secs\n",
      "trade_day blocks merging ...... cost 0.02 secs\n",
      "trade_30m blocks process ...... cost 0.95 secs\n",
      "trade_30m blocks masking ...... cost 0.05 secs\n",
      "trade_30m blocks saving  ..."
     ]
    },
    {
     "name": "stderr",
     "output_type": "stream",
     "text": [
      "\u001b[1m\u001b[37m\u001b[41m24-03-31 09:52:21|MOD:data_preprocessing|\u001b[0m: \u001b[1m\u001b[31mData Processing Finished! Cost 10.02 Seconds\u001b[0m\n"
     ]
    },
    {
     "name": "stdout",
     "output_type": "stream",
     "text": [
      "... cost 1.13 secs\n",
      "trade_30m blocks norming ...... cost 0.00 secs\n",
      "Sun Mar 31 09:52:21 2024 : trade_30m finished! Cost 5.19 Seconds\n"
     ]
    }
   ],
   "source": [
    "from src.data import PreProcess\n",
    "PreProcess.main(False)\n",
    "PreProcess.main(True)"
   ]
  }
 ],
 "metadata": {
  "kernelspec": {
   "display_name": "Python 3",
   "language": "python",
   "name": "python3"
  },
  "language_info": {
   "codemirror_mode": {
    "name": "ipython",
    "version": 3
   },
   "file_extension": ".py",
   "mimetype": "text/x-python",
   "name": "python",
   "nbconvert_exporter": "python",
   "pygments_lexer": "ipython3",
   "version": "3.11.8"
  }
 },
 "nbformat": 4,
 "nbformat_minor": 2
}
