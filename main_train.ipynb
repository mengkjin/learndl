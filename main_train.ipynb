{
 "cells": [
  {
   "cell_type": "code",
   "execution_count": 1,
   "metadata": {},
   "outputs": [
    {
     "name": "stdout",
     "output_type": "stream",
     "text": [
      "False 2.2.0+cpu\n"
     ]
    }
   ],
   "source": [
    "import torch\n",
    "print(torch.cuda.is_available() , torch.__version__)"
   ]
  },
  {
   "cell_type": "code",
   "execution_count": 1,
   "metadata": {},
   "outputs": [
    {
     "name": "stderr",
     "output_type": "stream",
     "text": [
      "\u001b[1m\u001b[37m\u001b[44m24-05-15 16:54:03|MOD:display     |\u001b[0m: \u001b[1m\u001b[34mModel Specifics:\u001b[0m\n",
      "\u001b[1m\u001b[37m\u001b[41m24-05-15 16:54:03|MOD:display     |\u001b[0m: \u001b[1m\u001b[31mStart Process [Data] at Wed May 15 16:54:03 2024!\u001b[0m\n"
     ]
    },
    {
     "name": "stdout",
     "output_type": "stream",
     "text": [
      "--Process Queue : Data + Fit + Test\n",
      "--Model_name is set to gru_day_ShortTest!\n",
      "Callback : DynamicDataLink() , assign / unlink dynamic data in tra networks\n",
      "Callback : ResetOptimizer(num_reset=2,trigger=40,recover_level=1.0,speedup2x=True) , reset optimizer on some epoch (can speedup scheduler)\n",
      "Callback : CallbackTimer(verbosity=10) , record time cost of callback hooks\n",
      "Callback : EarlyStoppage(patience=20) , stop fitting when validation score cease to improve\n",
      "Callback : ValidationConverge(patience=5,eps=1e-05) , stop fitting when valid_score converge\n",
      "Callback : EarlyExitRetrain(earliest=20,max_attempt=4,lr_multiplier=[1, 0.1, 10, 0.01, 100, 1]) , retrain with new lr if fitting stopped too early\n",
      "Callback : NanLossRetrain(max_attempt=4) , retrain if fitting encounters nan loss\n",
      "Callback : BatchDisplay(verbosity=10) , display batch progress bar\n",
      "Callback : StatusDisplay(verbosity=10) , display epoch / event information\n",
      "{'random_seed': None,\n",
      " 'model_name': 'gru_day_ShortTest',\n",
      " 'model_module': 'gru',\n",
      " 'model_data_type': 'day',\n",
      " 'beg_date': 20170103,\n",
      " 'end_date': 20170228,\n",
      " 'sample_method': 'train_shuffle',\n",
      " 'shuffle_option': 'epoch',\n",
      " 'lgbm_ensembler': False}\n",
      "{'hidden_dim': [32],\n",
      " 'seqlens': [{'day': 30, '30m': 30, 'dms': 30}],\n",
      " 'tra_seqlens': [{'hist_loss': 40}],\n",
      " 'dropout': [0.1],\n",
      " 'enc_in': [True],\n",
      " 'enc_att': [False],\n",
      " 'rnn_type': ['gru'],\n",
      " 'rnn_att': [False],\n",
      " 'rnn_layers': [2],\n",
      " 'dec_mlp_layers': [2],\n",
      " 'num_output': [1],\n",
      " 'kernel_size': [3],\n",
      " 'hidden_as_factor': [True],\n",
      " 'ordered_param_group': [False]}\n",
      "use d:\\Coding\\learndl\\learndl\\data\\torch_pack/day.20240315.pt\n"
     ]
    },
    {
     "name": "stderr",
     "output_type": "stream",
     "text": [
      "\u001b[1m\u001b[37m\u001b[41m24-05-15 16:54:07|MOD:display     |\u001b[0m: \u001b[1m\u001b[31mFinish Process [Data], Cost 3.4 Secs\u001b[0m\n",
      "\u001b[1m\u001b[37m\u001b[41m24-05-15 16:54:07|MOD:display     |\u001b[0m: \u001b[1m\u001b[31mStart Process [Fit] at Wed May 15 16:54:07 2024!\u001b[0m\n"
     ]
    },
    {
     "name": "stdout",
     "output_type": "stream",
     "text": [
      "Pre-Norming method of [day] : {'divlast': True, 'histnorm': True}\n"
     ]
    },
    {
     "name": "stderr",
     "output_type": "stream",
     "text": [
      "  0%|          | 0/10 [00:00<?, ?it/s]"
     ]
    },
    {
     "name": "stdout",
     "output_type": "stream",
     "text": [
      "score function of [spearman] calculated and success!\n",
      "loss function of [pearson] calculated and success!\n"
     ]
    },
    {
     "name": "stderr",
     "output_type": "stream",
     "text": [
      "Train Ep#  0 loss : 0.99030: 100%|██████████| 10/10 [00:10<00:00,  1.08s/it]\n",
      "Valid Ep#  0 score : 0.01533: 100%|██████████| 10/10 [00:01<00:00,  6.46it/s]\n",
      "\u001b[32mFirstBite Ep#  0 : loss  0.99030, train 0.01394, valid 0.01533, best 0.0153, lr1.3e-03\u001b[0m\n",
      "Train Ep#  1 loss : 0.97895: 100%|██████████| 10/10 [00:10<00:00,  1.06s/it]\n",
      "Valid Ep#  1 score : 0.05551: 100%|██████████| 10/10 [00:01<00:00,  7.45it/s]\n",
      "\u001b[32mFirstBite Ep#  1 : loss  0.97895, train 0.02627, valid 0.05551, best 0.0555, lr2.5e-03\u001b[0m\n",
      "Train Ep#  2 loss : 0.95252: 100%|██████████| 10/10 [00:10<00:00,  1.07s/it]\n",
      "Valid Ep#  2 score : 0.11736: 100%|██████████| 10/10 [00:01<00:00,  7.35it/s]\n",
      "\u001b[32mFirstBite Ep#  2 : loss  0.95252, train 0.04796, valid 0.11736, best 0.1174, lr3.8e-03\u001b[0m\n",
      "Train Ep#  3 loss : 0.93212: 100%|██████████| 10/10 [00:15<00:00,  1.51s/it]\n",
      "Valid Ep#  3 score : 0.09524: 100%|██████████| 10/10 [00:01<00:00,  5.11it/s]\n",
      "\u001b[32mFirstBite Ep#  3 : loss  0.93212, train 0.07244, valid 0.09524, best 0.1174, lr5.0e-03\u001b[0m\n",
      "\u001b[1m\u001b[37m\u001b[44m24-05-15 16:55:16|MOD:display     |\u001b[0m: \u001b[1m\u001b[34mgru_day_ShortTest #0 @20170103|FirstBite Ep#  4 Max Epoch|Train 0.0724 Valid 0.0952 BestVal 0.1174|Cost  1.1Min, 13.3Sec/Ep\u001b[0m\n",
      "\u001b[1m\u001b[37m\u001b[41m24-05-15 16:55:16|MOD:display     |\u001b[0m: \u001b[1m\u001b[31mFinish Process [Fit], Cost 0.0 Hours, 1.1 Min/model, 17.2 Sec/Epoch\u001b[0m\n",
      "\u001b[1m\u001b[37m\u001b[41m24-05-15 16:55:16|MOD:display     |\u001b[0m: \u001b[1m\u001b[31mStart Process [Test] at Wed May 15 16:55:16 2024!\u001b[0m\n",
      "\u001b[1m\u001b[37m\u001b[44m24-05-15 16:55:16|MOD:display     |\u001b[0m: \u001b[1m\u001b[34mEach Model Date Testing Mean Score(spearman):\u001b[0m\n",
      "\u001b[32mModels            0       0       0\u001b[0m\n",
      "\u001b[32mOutput         best swalast swabest\u001b[0m\n",
      "Test best 20170228 score : 0.03596: 100%|██████████| 35/35 [00:07<00:00,  4.77it/s]\n",
      "Test swalast 20170228 score : 0.04497: 100%|██████████| 35/35 [00:06<00:00,  5.69it/s]\n",
      "Test swabest 20170228 score : 0.04072: 100%|██████████| 35/35 [00:06<00:00,  5.14it/s]\n",
      "\u001b[32m20170103     0.0360  0.0450  0.0407\u001b[0m\n",
      "\u001b[32mAllTimeAvg   0.0360  0.0450  0.0407\u001b[0m\n",
      "\u001b[32mAllTimeSum     1.26    1.57    1.43\u001b[0m\n",
      "\u001b[32mStd          0.0329  0.0313  0.0487\u001b[0m\n",
      "\u001b[32mTValue         6.47    8.51    4.95\u001b[0m\n",
      "\u001b[32mAnnIR        5.3540  7.0436  4.0961\u001b[0m\n",
      "\u001b[1m\u001b[37m\u001b[41m24-05-15 16:55:37|MOD:display     |\u001b[0m: \u001b[1m\u001b[31mFinish Process [Test], Cost 21.7 Secs\u001b[0m\n",
      "\u001b[1m\u001b[37m\u001b[41m24-05-15 16:55:37|MOD:__init__    |\u001b[0m: \u001b[1m\u001b[31mMain Process Finished! Cost 1 Minutes 33.9 Seconds\u001b[0m\n"
     ]
    },
    {
     "name": "stdout",
     "output_type": "stream",
     "text": [
      "                    hook_name  num_calls  total_time   avg_time\n",
      "8              on_train_batch         40   47.287755   1.182194\n",
      "23              on_test_batch        105   20.026418   0.190728\n",
      "17           on_fit_model_end          1   12.819302  12.819302\n",
      "13        on_validation_batch         40    6.115635   0.152891\n",
      "4          on_fit_model_start          1    2.219093   2.219093\n",
      "20        on_test_model_start          1    1.372838   1.372838\n",
      "24          on_test_batch_end        105    0.148600   0.001415\n",
      "14    on_validation_batch_end         40    0.053861   0.001347\n",
      "9          on_train_batch_end         40    0.047871   0.001197\n",
      "21   on_test_model_type_start          3    0.039894   0.013298\n",
      "16           on_fit_epoch_end          4    0.038924   0.009731\n",
      "27                on_test_end          1    0.028924   0.028924\n",
      "15    on_validation_epoch_end          4    0.014958   0.003739\n",
      "10         on_train_epoch_end          4    0.008973   0.002243\n",
      "25     on_test_model_type_end          3    0.007979   0.002660\n",
      "11  on_validation_epoch_start          4    0.007978   0.001994\n",
      "6        on_train_epoch_start          4    0.007956   0.001989\n",
      "19              on_test_start          1    0.006983   0.006983\n",
      "28         on_summarize_model          1    0.004986   0.004986\n",
      "22        on_test_batch_start        105    0.003989   0.000038\n",
      "0          on_configure_model          1    0.001999   0.001999\n",
      "18                 on_fit_end          1    0.001994   0.001994\n",
      "3                on_fit_start          1    0.000997   0.000997\n",
      "2                 on_data_end          1    0.000997   0.000997\n",
      "26          on_test_model_end          1    0.000997   0.000997\n",
      "1               on_data_start          1    0.000995   0.000995\n",
      "12  on_validation_batch_start         40    0.000000   0.000000\n",
      "7        on_train_batch_start         40    0.000000   0.000000\n",
      "5          on_fit_epoch_start          4    0.000000   0.000000\n"
     ]
    }
   ],
   "source": [
    "# %% test a specific model\n",
    "from src.interface import ModelTrainer\n",
    "ModelTrainer.main(stage = 0 , resume = 0 , checkname= 1)"
   ]
  },
  {
   "cell_type": "code",
   "execution_count": 1,
   "metadata": {},
   "outputs": [
    {
     "data": {
      "text/plain": [
       "array([0.68917146, 0.61358719, 0.67942325])"
      ]
     },
     "execution_count": 1,
     "metadata": {},
     "output_type": "execute_result"
    }
   ],
   "source": [
    "import numpy as np\n",
    "a = np.random.random((2,3))\n",
    "a[a > 0.5]"
   ]
  },
  {
   "cell_type": "code",
   "execution_count": null,
   "metadata": {},
   "outputs": [],
   "source": [
    "from src.interface import ModelTrainer\n",
    "ModelTrainer.main(stage = 0 , resume = 0 , checkname= 1)"
   ]
  },
  {
   "cell_type": "code",
   "execution_count": null,
   "metadata": {},
   "outputs": [],
   "source": [
    "# prepare data\n",
    "from src.interface import DataModule\n",
    "DataModule.prepare_data()"
   ]
  }
 ],
 "metadata": {
  "kernelspec": {
   "display_name": "Python 3",
   "language": "python",
   "name": "python3"
  },
  "language_info": {
   "codemirror_mode": {
    "name": "ipython",
    "version": 3
   },
   "file_extension": ".py",
   "mimetype": "text/x-python",
   "name": "python",
   "nbconvert_exporter": "python",
   "pygments_lexer": "ipython3",
   "version": "3.11.8"
  }
 },
 "nbformat": 4,
 "nbformat_minor": 2
}
