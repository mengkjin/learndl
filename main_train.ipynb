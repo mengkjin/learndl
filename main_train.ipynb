{
 "cells": [
  {
   "cell_type": "code",
   "execution_count": 10,
   "metadata": {},
   "outputs": [],
   "source": [
    "from dataclasses import dataclass , field\n",
    "from typing import Literal\n",
    "@dataclass\n",
    "class EndStatus:\n",
    "    name  : str\n",
    "    epoch : int # epoch of trigger\n",
    "    \n",
    "@dataclass\n",
    "class EndofLoop:\n",
    "    max_epoch : int = 200\n",
    "    status : list[EndStatus] = field(default_factory=list)\n",
    "\n",
    "    def __post_init__(self) -> None: pass\n",
    "    def __bool__(self): return len(self.status) > 0\n",
    "    def new_loop(self): self.status = []\n",
    "    def loop_end(self , epoch):\n",
    "        if epoch >= self.max_epoch: self.add_status('Max Epoch' , epoch)\n",
    "    def add_status(self , status : str , epoch : int): \n",
    "        self.status.append(EndStatus(status , epoch))\n",
    "    def trigger_epoch(self):\n",
    "        return min([sta.epoch for sta in self.status]) if self else self.max_epoch\n",
    "    \n",
    "@dataclass\n",
    "class TrainerStatus:\n",
    "    epoch   : int = -1\n",
    "    attempt : int = -1\n",
    "    round   : int = -1\n",
    "    model_num  : int = -1\n",
    "    model_date : int = -1\n",
    "    model_type : Literal['best' , 'swabest' , 'swalast'] = 'best'\n",
    "    eol : EndofLoop = field(default_factory=EndofLoop)\n",
    "\n",
    "    @property\n",
    "    def case(self):\n",
    "        return self.epoch > 0\n"
   ]
  },
  {
   "cell_type": "code",
   "execution_count": 11,
   "metadata": {},
   "outputs": [],
   "source": [
    "a = TrainerStatus()"
   ]
  },
  {
   "cell_type": "code",
   "execution_count": 1,
   "metadata": {},
   "outputs": [
    {
     "name": "stdout",
     "output_type": "stream",
     "text": [
      "Parameter: a\n",
      "This parameter can be positional or keyword.\n",
      "Parameter: b\n",
      "This parameter can be positional or keyword.\n",
      "Parameter: c\n",
      "Default value: 3\n",
      "This parameter can be positional or keyword.\n",
      "Parameter: args\n",
      "This is a variable-positional parameter (*args).\n",
      "Parameter: kwargs\n",
      "This is a variable-keyword parameter (**kwargs).\n",
      "Function parameters:\n",
      "a: a\n",
      "b: b\n",
      "c: c=3\n",
      "args: *args\n",
      "kwargs: **kwargs\n"
     ]
    }
   ],
   "source": [
    "import inspect  \n",
    "  \n",
    "def example_function(a, b, c=3, *args, **kwargs): \n",
    "    print(inspect.signature(example_function)  ) \n",
    "    pass  \n",
    "  \n",
    "# 获取函数的签名  \n",
    "sig = inspect.signature(example_function)  \n",
    "  \n",
    "# 遍历签名中的所有参数  \n",
    "for name, param in sig.parameters.items():  \n",
    "    print(f\"Parameter: {name}\")  \n",
    "    if param.default != param.empty:  \n",
    "        print(f\"Default value: {param.default}\")  \n",
    "    if param.kind == inspect.Parameter.POSITIONAL_ONLY:  \n",
    "        print(\"This is a positional-only parameter.\")  \n",
    "    elif param.kind == inspect.Parameter.POSITIONAL_OR_KEYWORD:  \n",
    "        print(\"This parameter can be positional or keyword.\")  \n",
    "    elif param.kind == inspect.Parameter.VAR_POSITIONAL:  \n",
    "        print(\"This is a variable-positional parameter (*args).\")  \n",
    "    elif param.kind == inspect.Parameter.KEYWORD_ONLY:  \n",
    "        print(\"This parameter is keyword-only.\")  \n",
    "    elif param.kind == inspect.Parameter.VAR_KEYWORD:  \n",
    "        print(\"This is a variable-keyword parameter (**kwargs).\")  \n",
    "  \n",
    "# 输出函数的全部参数信息  \n",
    "print(\"Function parameters:\")  \n",
    "for param in sig.parameters:  \n",
    "    print(f\"{param}: {sig.parameters[param]}\")"
   ]
  },
  {
   "cell_type": "code",
   "execution_count": 31,
   "metadata": {},
   "outputs": [
    {
     "name": "stdout",
     "output_type": "stream",
     "text": [
      "Callback of BasicCallBack(a=1)\n"
     ]
    }
   ],
   "source": [
    "from inspect import currentframe\n",
    "class BaseCB:\n",
    "    def __init__(self , a) -> None:\n",
    "        self.a = a\n",
    "        print(self._infomation())\n",
    "        \n",
    "    def _infomation(self):\n",
    "        args = {k:v for k,v in getattr(currentframe() , 'f_back').f_locals.items() if k not in ['self' , 'model_module'] and not k.startswith('_')}\n",
    "        return f'Callback of {self.__class__.__name__}' + '({})'.format(','.join([f'{k}={v}' for k,v in args.items()]))\n",
    "\n",
    "class BasicCallBack(BaseCB):\n",
    "    def __init__(self , a , b) -> None:\n",
    "        #args = {k:v for k,v in getattr(inspect.currentframe() , 'f_locals').items() if k != 'self' and not k.startswith('_')}\n",
    "        #print(self._infomation())# + '({})'.format(','.join([f'{k}={v}' for k,v in args.items()])))\n",
    "        super().__init__(a)\n",
    "        self.b = b\n",
    "        \n",
    "b = BasicCallBack(1,2)"
   ]
  },
  {
   "cell_type": "code",
   "execution_count": 3,
   "metadata": {},
   "outputs": [
    {
     "name": "stdout",
     "output_type": "stream",
     "text": [
      "1\n"
     ]
    }
   ],
   "source": [
    "def f():\n",
    "    pass\n",
    "if f:\n",
    "    print(1)"
   ]
  },
  {
   "cell_type": "code",
   "execution_count": 18,
   "metadata": {},
   "outputs": [
    {
     "name": "stdout",
     "output_type": "stream",
     "text": [
      "{'a': 1, 'b': 2, 'c': 3, 'args': (), 'kwargs': {}}\n"
     ]
    }
   ],
   "source": [
    "import inspect  \n",
    "  \n",
    "def example_function(a, b, c=3, *args, **kwargs): \n",
    "    print({k:v for k,v in getattr(inspect.currentframe() , 'f_locals').items()})\n",
    "    pass  \n",
    "\n",
    "example_function(1,2)"
   ]
  },
  {
   "cell_type": "code",
   "execution_count": 13,
   "metadata": {},
   "outputs": [
    {
     "data": {
      "text/plain": [
       "(False, True)"
      ]
     },
     "execution_count": 13,
     "metadata": {},
     "output_type": "execute_result"
    }
   ],
   "source": [
    "c = a.case\n",
    "a.epoch = 10\n",
    "c , a.case"
   ]
  },
  {
   "cell_type": "code",
   "execution_count": 9,
   "metadata": {},
   "outputs": [
    {
     "data": {
      "text/plain": [
       "False"
      ]
     },
     "execution_count": 9,
     "metadata": {},
     "output_type": "execute_result"
    }
   ],
   "source": [
    "a.b"
   ]
  },
  {
   "cell_type": "code",
   "execution_count": null,
   "metadata": {},
   "outputs": [],
   "source": []
  },
  {
   "cell_type": "code",
   "execution_count": null,
   "metadata": {},
   "outputs": [],
   "source": []
  },
  {
   "cell_type": "code",
   "execution_count": 1,
   "metadata": {},
   "outputs": [
    {
     "data": {
      "text/plain": [
       "True"
      ]
     },
     "execution_count": 1,
     "metadata": {},
     "output_type": "execute_result"
    }
   ],
   "source": [
    "import torch\n",
    "torch.cuda.is_available()"
   ]
  },
  {
   "cell_type": "code",
   "execution_count": 3,
   "metadata": {},
   "outputs": [
    {
     "name": "stdout",
     "output_type": "stream",
     "text": [
      "f\n",
      "1\n",
      "f\n",
      "1\n",
      "0\n",
      "2\n"
     ]
    }
   ],
   "source": [
    "import inspect\n",
    "\n",
    "def f():\n",
    "    a = A()\n",
    "    a.__enter__()\n",
    "    with a:\n",
    "        print(0)\n",
    "\n",
    "class A:\n",
    "    def __enter__(self):\n",
    "        print(inspect.currentframe().f_back.f_code.co_name)\n",
    "        print(1)\n",
    "\n",
    "    def __exit__(self , *args):\n",
    "        print(2)\n",
    "\n",
    "f()\n",
    "\n",
    "class B(A):\n",
    "    def __init__(self) -> None:\n",
    "        super().__init__()\n",
    "        self.b = 10"
   ]
  },
  {
   "cell_type": "code",
   "execution_count": 4,
   "metadata": {},
   "outputs": [
    {
     "data": {
      "text/plain": [
       "True"
      ]
     },
     "execution_count": 4,
     "metadata": {},
     "output_type": "execute_result"
    }
   ],
   "source": [
    "b = B()\n",
    "isinstance(b , A)"
   ]
  },
  {
   "cell_type": "code",
   "execution_count": null,
   "metadata": {},
   "outputs": [],
   "source": []
  },
  {
   "cell_type": "code",
   "execution_count": null,
   "metadata": {},
   "outputs": [],
   "source": []
  },
  {
   "cell_type": "code",
   "execution_count": null,
   "metadata": {},
   "outputs": [],
   "source": []
  },
  {
   "cell_type": "code",
   "execution_count": 1,
   "metadata": {},
   "outputs": [
    {
     "name": "stdout",
     "output_type": "stream",
     "text": [
      "Use device name: NVIDIA GeForce RTX 4090\n"
     ]
    },
    {
     "name": "stderr",
     "output_type": "stream",
     "text": [
      "\u001b[1m\u001b[37m\u001b[44m24-04-26 00:41:29|MOD:pipeline    |\u001b[0m: \u001b[1m\u001b[34mModel Specifics:\u001b[0m\n",
      "\u001b[1m\u001b[37m\u001b[41m24-04-26 00:41:29|MOD:pipeline    |\u001b[0m: \u001b[1m\u001b[31mStart Process [Data] at Fri Apr 26 00:41:29 2024!\u001b[0m\n"
     ]
    },
    {
     "name": "stdout",
     "output_type": "stream",
     "text": [
      "--Process Queue : Data + Fit + Test\n",
      "--Start Training New!\n",
      "--Model_name is set to gru_day_ShortTest.31!\n",
      "Apply Callback of DynamicDataLink() , this is essential for TRA models!\n",
      "Apply Callback of LoaderDisplay(1) , this is a little bit slow!\n",
      "Apply Callback of CudaEmptyCache(20) , this is very slow!\n",
      "Apply Callback of ProcessTimer()\n",
      "{'random_seed': None,\n",
      " 'model_name': 'gru_day_ShortTest.31',\n",
      " 'model_module': 'gru',\n",
      " 'model_data_type': 'day',\n",
      " 'model_data_prenorm': {'day': {'divlast': True, 'histnorm': True}},\n",
      " 'labels': ['std_lag1_10'],\n",
      " 'beg_date': 20170103,\n",
      " 'end_date': 20171201,\n",
      " 'interval': 120,\n",
      " 'input_step_day': 5,\n",
      " 'sample_method': 'train_shuffle',\n",
      " 'shuffle_option': 'epoch'}\n",
      "{'hidden_dim': [64],\n",
      " 'seqlens': [{'day': 30, '30m': 30, 'dms': 30}],\n",
      " 'tra_seqlens': [{'hist_loss': 40}],\n",
      " 'dropout': [0.1],\n",
      " 'enc_in': [True],\n",
      " 'enc_att': [False],\n",
      " 'rnn_type': ['lstm'],\n",
      " 'rnn_att': [False],\n",
      " 'rnn_layers': [2],\n",
      " 'dec_mlp_layers': [2],\n",
      " 'num_output': [1],\n",
      " 'kernel_size': [3],\n",
      " 'hidden_as_factor': [False],\n",
      " 'ordered_param_group': [False]}\n",
      "use /home/mengkjin/Workspace/learndl/data/torch_pack/day.20240313.pt\n"
     ]
    },
    {
     "name": "stderr",
     "output_type": "stream",
     "text": [
      "\u001b[1m\u001b[37m\u001b[41m24-04-26 00:41:32|MOD:pipeline    |\u001b[0m: \u001b[1m\u001b[31mFinish Process [Data], Cost 3.3 Secs\u001b[0m\n",
      "\u001b[1m\u001b[37m\u001b[41m24-04-26 00:41:32|MOD:pipeline    |\u001b[0m: \u001b[1m\u001b[31mStart Process [Fit] at Fri Apr 26 00:41:32 2024!\u001b[0m\n"
     ]
    },
    {
     "name": "stdout",
     "output_type": "stream",
     "text": [
      "Pre-Norming method of [day] : {'divlast': True, 'histnorm': True}\n"
     ]
    },
    {
     "name": "stderr",
     "output_type": "stream",
     "text": [
      "Train Ep#  0 loss : 1.00674:   5%|▌         | 1/19 [00:00<00:04,  4.27it/s]"
     ]
    },
    {
     "name": "stdout",
     "output_type": "stream",
     "text": [
      "score function of [spearman] calculated and success!\n",
      "loss function of [pearson] calculated and success!\n"
     ]
    },
    {
     "name": "stderr",
     "output_type": "stream",
     "text": [
      "Train Ep#  0 loss : 1.00190: 100%|██████████| 19/19 [00:00<00:00, 28.44it/s]\n",
      "Valid Ep#  0 score : -0.05547: 100%|██████████| 20/20 [00:00<00:00, 237.10it/s]\n",
      "\u001b[32mFirstBite Ep#  0 : loss  1.00190, train-0.00794, valid-0.05547, best-0.0555, lr1.0e-07\u001b[0m\n",
      "Train Ep#  1 loss : 0.97819: 100%|██████████| 19/19 [00:00<00:00, 42.40it/s]\n",
      "Valid Ep#  1 score : 0.01339: 100%|██████████| 20/20 [00:00<00:00, 227.50it/s]\n",
      "\u001b[32mFirstBite Ep#  1 : loss  0.97819, train 0.04036, valid 0.01339, best 0.0134, lr1.3e-03\u001b[0m\n",
      "Train Ep#  2 loss : 0.95214: 100%|██████████| 19/19 [00:00<00:00, 44.39it/s]\n",
      "Valid Ep#  2 score : 0.02845: 100%|██████████| 20/20 [00:00<00:00, 245.77it/s]\n",
      "\u001b[32mFirstBite Ep#  2 : loss  0.95214, train 0.05990, valid 0.02845, best 0.0285, lr2.5e-03\u001b[0m\n",
      "Train Ep#  3 loss : 0.91812: 100%|██████████| 19/19 [00:00<00:00, 46.65it/s]\n",
      "Valid Ep#  3 score : 0.06451: 100%|██████████| 20/20 [00:00<00:00, 250.05it/s]\n",
      "\u001b[32mFirstBite Ep#  3 : loss  0.91812, train 0.07970, valid 0.06451, best 0.0645, lr3.8e-03\u001b[0m\n",
      "Train Ep#  4 loss : 0.88015: 100%|██████████| 19/19 [00:00<00:00, 46.91it/s]\n",
      "Valid Ep#  4 score : 0.11137: 100%|██████████| 20/20 [00:00<00:00, 239.50it/s]\n",
      "\u001b[32mFirstBite Ep#  4 : loss  0.88015, train 0.11373, valid 0.11137, best 0.1114, lr5.0e-03\u001b[0m\n",
      "Train Ep#  5 loss : 0.86209: 100%|██████████| 19/19 [00:00<00:00, 46.48it/s]\n",
      "Valid Ep#  5 score : 0.12686: 100%|██████████| 20/20 [00:00<00:00, 243.53it/s]\n",
      "\u001b[32mFirstBite Ep#  5 : loss  0.86209, train 0.13920, valid 0.12686, best 0.1269, lr3.8e-03\u001b[0m\n",
      "Train Ep#  6 loss : 0.84595: 100%|██████████| 19/19 [00:00<00:00, 46.54it/s]\n",
      "Valid Ep#  6 score : 0.12073: 100%|██████████| 20/20 [00:00<00:00, 242.50it/s]\n",
      "\u001b[32mFirstBite Ep#  6 : loss  0.84595, train 0.15930, valid 0.12073, best 0.1269, lr2.5e-03\u001b[0m\n",
      "Train Ep#  7 loss : 0.83928: 100%|██████████| 19/19 [00:00<00:00, 47.14it/s]\n",
      "Valid Ep#  7 score : 0.11983: 100%|██████████| 20/20 [00:00<00:00, 252.60it/s]\n",
      "\u001b[32mFirstBite Ep#  7 : loss  0.83928, train 0.16678, valid 0.11983, best 0.1269, lr1.3e-03\u001b[0m\n",
      "Train Ep#  8 loss : 0.83547: 100%|██████████| 19/19 [00:00<00:00, 47.61it/s]\n",
      "Valid Ep#  8 score : 0.11983: 100%|██████████| 20/20 [00:00<00:00, 241.74it/s]\n",
      "\u001b[32mFirstBite Ep#  8 : loss  0.83547, train 0.16776, valid 0.11983, best 0.1269, lr1.0e-07\u001b[0m\n",
      "Train Ep#  9 loss : 0.84311: 100%|██████████| 19/19 [00:00<00:00, 46.15it/s]\n",
      "Valid Ep#  9 score : 0.11775: 100%|██████████| 20/20 [00:00<00:00, 250.40it/s]\n",
      "\u001b[32mFirstBite Ep#  9 : loss  0.84311, train 0.16221, valid 0.11775, best 0.1269, lr6.3e-04\u001b[0m\n",
      "Train Ep# 10 loss : 0.83501: 100%|██████████| 19/19 [00:00<00:00, 45.21it/s]\n",
      "Valid Ep# 10 score : 0.12853: 100%|██████████| 20/20 [00:00<00:00, 234.09it/s]\n",
      "\u001b[32mFirstBite Ep# 10 : loss  0.83501, train 0.17025, valid 0.12853, best 0.1285, lr1.3e-03\u001b[0m\n",
      "Train Ep# 11 loss : 0.83334: 100%|██████████| 19/19 [00:00<00:00, 44.69it/s]\n",
      "Valid Ep# 11 score : 0.13372: 100%|██████████| 20/20 [00:00<00:00, 238.41it/s]\n",
      "\u001b[32mFirstBite Ep# 11 : loss  0.83334, train 0.17142, valid 0.13372, best 0.1337, lr1.9e-03\u001b[0m\n",
      "Train Ep# 12 loss : 0.82721: 100%|██████████| 19/19 [00:00<00:00, 43.48it/s]\n",
      "Valid Ep# 12 score : 0.11510: 100%|██████████| 20/20 [00:00<00:00, 219.72it/s]\n",
      "\u001b[32mFirstBite Ep# 12 : loss  0.82721, train 0.17738, valid 0.11510, best 0.1337, lr2.5e-03\u001b[0m\n",
      "Train Ep# 13 loss : 0.81815: 100%|██████████| 19/19 [00:00<00:00, 45.17it/s]\n",
      "Valid Ep# 13 score : 0.12815: 100%|██████████| 20/20 [00:00<00:00, 247.65it/s]\n",
      "\u001b[32mFirstBite Ep# 13 : loss  0.81815, train 0.18376, valid 0.12815, best 0.1337, lr1.9e-03\u001b[0m\n",
      "Train Ep# 14 loss : 0.81056: 100%|██████████| 19/19 [00:00<00:00, 43.89it/s]\n",
      "Valid Ep# 14 score : 0.13654: 100%|██████████| 20/20 [00:00<00:00, 188.54it/s]\n",
      "\u001b[32mFirstBite Ep# 14 : loss  0.81056, train 0.19102, valid 0.13654, best 0.1365, lr1.3e-03\u001b[0m\n",
      "Train Ep# 15 loss : 0.80706: 100%|██████████| 19/19 [00:00<00:00, 44.60it/s]\n",
      "Valid Ep# 15 score : 0.13400: 100%|██████████| 20/20 [00:00<00:00, 253.78it/s]\n",
      "\u001b[32mFirstBite Ep# 15 : loss  0.80706, train 0.19815, valid 0.13400, best 0.1365, lr6.3e-04\u001b[0m\n",
      "Train Ep# 16 loss : 0.80425: 100%|██████████| 19/19 [00:00<00:00, 45.03it/s]\n",
      "Valid Ep# 16 score : 0.13400: 100%|██████████| 20/20 [00:00<00:00, 246.46it/s]\n",
      "\u001b[32mFirstBite Ep# 16 : loss  0.80425, train 0.19988, valid 0.13400, best 0.1365, lr1.0e-07\u001b[0m\n",
      "Train Ep# 17 loss : 0.80609: 100%|██████████| 19/19 [00:00<00:00, 45.93it/s]\n",
      "Valid Ep# 17 score : 0.13703: 100%|██████████| 20/20 [00:00<00:00, 249.20it/s]\n",
      "\u001b[32mFirstBite Ep# 17 : loss  0.80609, train 0.19915, valid 0.13703, best 0.1370, lr3.1e-04\u001b[0m\n",
      "Train Ep# 18 loss : 0.80465: 100%|██████████| 19/19 [00:00<00:00, 45.83it/s]\n",
      "Valid Ep# 18 score : 0.14163: 100%|██████████| 20/20 [00:00<00:00, 249.16it/s]\n",
      "\u001b[32mFirstBite Ep# 18 : loss  0.80465, train 0.20005, valid 0.14163, best 0.1416, lr6.3e-04\u001b[0m\n",
      "Train Ep# 19 loss : 0.80085: 100%|██████████| 19/19 [00:00<00:00, 45.93it/s]\n",
      "Valid Ep# 19 score : 0.14846: 100%|██████████| 20/20 [00:00<00:00, 248.60it/s]\n",
      "\u001b[32mFirstBite Ep# 19 : loss  0.80085, train 0.20409, valid 0.14846, best 0.1485, lr9.4e-04\u001b[0m\n",
      "Train Ep#  0 loss : 1.00231: 100%|██████████| 20/20 [00:00<00:00, 46.32it/s]\n",
      "Valid Ep#  0 score : -0.03615: 100%|██████████| 20/20 [00:00<00:00, 202.39it/s]\n",
      "\u001b[32mFirstBite Ep#  0 : loss  1.00231, train 0.00052, valid-0.03615, best-0.0361, lr1.0e-07\u001b[0m\n",
      "Train Ep#  1 loss : 0.97975: 100%|██████████| 20/20 [00:00<00:00, 44.84it/s]\n",
      "Valid Ep#  1 score : 0.03672: 100%|██████████| 20/20 [00:00<00:00, 204.48it/s]\n",
      "\u001b[32mFirstBite Ep#  1 : loss  0.97975, train 0.02184, valid 0.03672, best 0.0367, lr1.3e-03\u001b[0m\n",
      "Train Ep#  2 loss : 0.95438: 100%|██████████| 20/20 [00:00<00:00, 44.16it/s]\n",
      "Valid Ep#  2 score : 0.05552: 100%|██████████| 20/20 [00:00<00:00, 178.10it/s]\n",
      "\u001b[32mFirstBite Ep#  2 : loss  0.95438, train 0.05566, valid 0.05552, best 0.0555, lr2.5e-03\u001b[0m\n",
      "Train Ep#  3 loss : 0.94346: 100%|██████████| 20/20 [00:00<00:00, 44.78it/s]\n",
      "Valid Ep#  3 score : 0.03019: 100%|██████████| 20/20 [00:00<00:00, 193.57it/s]\n",
      "\u001b[32mFirstBite Ep#  3 : loss  0.94346, train 0.06113, valid 0.03019, best 0.0555, lr3.8e-03\u001b[0m\n",
      "Train Ep#  4 loss : 0.91626: 100%|██████████| 20/20 [00:00<00:00, 44.83it/s]\n",
      "Valid Ep#  4 score : 0.09853: 100%|██████████| 20/20 [00:00<00:00, 200.29it/s]\n",
      "\u001b[32mFirstBite Ep#  4 : loss  0.91626, train 0.09694, valid 0.09853, best 0.0985, lr5.0e-03\u001b[0m\n",
      "Train Ep#  5 loss : 0.89498: 100%|██████████| 20/20 [00:00<00:00, 43.88it/s]\n",
      "Valid Ep#  5 score : 0.12496: 100%|██████████| 20/20 [00:00<00:00, 172.34it/s]\n",
      "\u001b[32mFirstBite Ep#  5 : loss  0.89498, train 0.12073, valid 0.12496, best 0.1250, lr3.8e-03\u001b[0m\n",
      "Train Ep#  6 loss : 0.87192: 100%|██████████| 20/20 [00:00<00:00, 42.81it/s]\n",
      "Valid Ep#  6 score : 0.12944: 100%|██████████| 20/20 [00:00<00:00, 203.69it/s]\n",
      "\u001b[32mFirstBite Ep#  6 : loss  0.87192, train 0.14653, valid 0.12944, best 0.1294, lr2.5e-03\u001b[0m\n",
      "Train Ep#  7 loss : 0.86175: 100%|██████████| 20/20 [00:00<00:00, 44.67it/s]\n",
      "Valid Ep#  7 score : 0.13690: 100%|██████████| 20/20 [00:00<00:00, 180.84it/s]\n",
      "\u001b[32mFirstBite Ep#  7 : loss  0.86175, train 0.16310, valid 0.13690, best 0.1369, lr1.3e-03\u001b[0m\n",
      "Train Ep#  8 loss : 0.85699: 100%|██████████| 20/20 [00:00<00:00, 43.44it/s]\n",
      "Valid Ep#  8 score : 0.13689: 100%|██████████| 20/20 [00:00<00:00, 196.78it/s]\n",
      "\u001b[32mFirstBite Ep#  8 : loss  0.85699, train 0.16606, valid 0.13689, best 0.1369, lr1.0e-07\u001b[0m\n",
      "Train Ep#  9 loss : 0.86233: 100%|██████████| 20/20 [00:00<00:00, 44.21it/s]\n",
      "Valid Ep#  9 score : 0.13210: 100%|██████████| 20/20 [00:00<00:00, 203.36it/s]\n",
      "\u001b[32mFirstBite Ep#  9 : loss  0.86233, train 0.15806, valid 0.13210, best 0.1369, lr6.3e-04\u001b[0m\n",
      "Train Ep# 10 loss : 0.85496: 100%|██████████| 20/20 [00:00<00:00, 44.79it/s]\n",
      "Valid Ep# 10 score : 0.14212: 100%|██████████| 20/20 [00:00<00:00, 199.86it/s]\n",
      "\u001b[32mFirstBite Ep# 10 : loss  0.85496, train 0.16400, valid 0.14212, best 0.1421, lr1.3e-03\u001b[0m\n",
      "Train Ep# 11 loss : 0.85620: 100%|██████████| 20/20 [00:00<00:00, 43.65it/s]\n",
      "Valid Ep# 11 score : 0.13800: 100%|██████████| 20/20 [00:00<00:00, 203.49it/s]\n",
      "\u001b[32mFirstBite Ep# 11 : loss  0.85620, train 0.16652, valid 0.13800, best 0.1421, lr1.9e-03\u001b[0m\n",
      "Train Ep# 12 loss : 0.84890: 100%|██████████| 20/20 [00:00<00:00, 44.06it/s]\n",
      "Valid Ep# 12 score : 0.14056: 100%|██████████| 20/20 [00:00<00:00, 189.59it/s]\n",
      "\u001b[32mFirstBite Ep# 12 : loss  0.84890, train 0.17055, valid 0.14056, best 0.1421, lr2.5e-03\u001b[0m\n",
      "Train Ep# 13 loss : 0.84234: 100%|██████████| 20/20 [00:00<00:00, 44.75it/s]\n",
      "Valid Ep# 13 score : 0.13950: 100%|██████████| 20/20 [00:00<00:00, 204.02it/s]\n",
      "\u001b[32mFirstBite Ep# 13 : loss  0.84234, train 0.17881, valid 0.13950, best 0.1421, lr1.9e-03\u001b[0m\n",
      "Train Ep# 14 loss : 0.83205: 100%|██████████| 20/20 [00:00<00:00, 43.40it/s]\n",
      "Valid Ep# 14 score : 0.14871: 100%|██████████| 20/20 [00:00<00:00, 191.96it/s]\n",
      "\u001b[32mFirstBite Ep# 14 : loss  0.83205, train 0.19077, valid 0.14871, best 0.1487, lr1.3e-03\u001b[0m\n",
      "Train Ep# 15 loss : 0.82584: 100%|██████████| 20/20 [00:00<00:00, 43.74it/s]\n",
      "Valid Ep# 15 score : 0.14425: 100%|██████████| 20/20 [00:00<00:00, 200.85it/s]\n",
      "\u001b[32mFirstBite Ep# 15 : loss  0.82584, train 0.19843, valid 0.14425, best 0.1487, lr6.3e-04\u001b[0m\n",
      "Train Ep# 16 loss : 0.82401: 100%|██████████| 20/20 [00:00<00:00, 44.26it/s]\n",
      "Valid Ep# 16 score : 0.14427: 100%|██████████| 20/20 [00:00<00:00, 201.93it/s]\n",
      "\u001b[32mFirstBite Ep# 16 : loss  0.82401, train 0.19607, valid 0.14427, best 0.1487, lr1.0e-07\u001b[0m\n",
      "Train Ep# 17 loss : 0.82270: 100%|██████████| 20/20 [00:00<00:00, 44.43it/s]\n",
      "Valid Ep# 17 score : 0.14685: 100%|██████████| 20/20 [00:00<00:00, 200.86it/s]\n",
      "\u001b[32mFirstBite Ep# 17 : loss  0.82270, train 0.20284, valid 0.14685, best 0.1487, lr3.1e-04\u001b[0m\n",
      "Train Ep# 18 loss : 0.82165: 100%|██████████| 20/20 [00:00<00:00, 43.56it/s]\n",
      "Valid Ep# 18 score : 0.15176: 100%|██████████| 20/20 [00:00<00:00, 206.26it/s]\n",
      "\u001b[32mFirstBite Ep# 18 : loss  0.82165, train 0.19931, valid 0.15176, best 0.1518, lr6.3e-04\u001b[0m\n",
      "Train Ep# 19 loss : 0.81989: 100%|██████████| 20/20 [00:00<00:00, 44.11it/s]\n",
      "Valid Ep# 19 score : 0.14863: 100%|██████████| 20/20 [00:00<00:00, 204.56it/s]\n",
      "\u001b[32mFirstBite Ep# 19 : loss  0.81989, train 0.20291, valid 0.14863, best 0.1518, lr9.4e-04\u001b[0m\n",
      "\u001b[1m\u001b[37m\u001b[41m24-04-26 00:41:57|MOD:pipeline    |\u001b[0m: \u001b[1m\u001b[31mFinish Process [Fit], Cost 0.0 Hours, 0.2 Min/model, 0.6 Sec/Epoch\u001b[0m\n",
      "\u001b[1m\u001b[37m\u001b[41m24-04-26 00:41:57|MOD:pipeline    |\u001b[0m: \u001b[1m\u001b[31mStart Process [Test] at Fri Apr 26 00:41:57 2024!\u001b[0m\n",
      "\u001b[1m\u001b[37m\u001b[44m24-04-26 00:41:57|MOD:pipeline    |\u001b[0m: \u001b[1m\u001b[34mEach Model Date Testing Mean Score(spearman):\u001b[0m\n",
      "\u001b[32mModels            0       0       0\u001b[0m\n",
      "\u001b[32mOutput         best swalast swabest\u001b[0m\n",
      "Test best 20170704 score : 0.12841: 100%|██████████| 120/120 [00:00<00:00, 213.31it/s]\n",
      "Test swalast 20170704 score : 0.12229: 100%|██████████| 120/120 [00:00<00:00, 220.50it/s]\n",
      "Test swabest 20170704 score : 0.12153: 100%|██████████| 120/120 [00:00<00:00, 214.15it/s]\n",
      "\u001b[32m20170103     0.1284  0.1223  0.1215\u001b[0m\n",
      "Test best 20171201 score : 0.11042: 100%|██████████| 103/103 [00:00<00:00, 210.62it/s]\n",
      "Test swalast 20171201 score : 0.10568: 100%|██████████| 103/103 [00:00<00:00, 211.60it/s]\n",
      "Test swabest 20171201 score : 0.11236: 100%|██████████| 103/103 [00:00<00:00, 191.59it/s]\n",
      "\u001b[32m20170704     0.1104  0.1057  0.1124\u001b[0m\n",
      "\u001b[32mAllTimeAvg   0.1201  0.1146  0.1173\u001b[0m\n",
      "\u001b[32mAllTimeSum    26.78   25.56   26.16\u001b[0m\n",
      "\u001b[32mStd          0.0848  0.0836  0.0822\u001b[0m\n",
      "\u001b[32mTValue        21.14   20.47   21.30\u001b[0m\n",
      "\u001b[32mAnnIR        6.9368  6.7144  6.9866\u001b[0m\n",
      "\u001b[1m\u001b[37m\u001b[41m24-04-26 00:42:02|MOD:pipeline    |\u001b[0m: \u001b[1m\u001b[31mFinish Process [Test], Cost 5.2 Secs\u001b[0m\n"
     ]
    },
    {
     "name": "stdout",
     "output_type": "stream",
     "text": [
      "                         keys  num_calls  total_time  avg_time\n",
      "9           on_after_backward       1560        1560       1.0\n",
      "15    on_validation_batch_end        800         800       1.0\n",
      "13  on_validation_batch_start        800         800       1.0\n",
      "14        on_validation_batch        800         800       1.0\n",
      "7        on_train_batch_start        780         780       1.0\n",
      "8          on_before_backward        780         780       1.0\n",
      "10         on_train_batch_end        780         780       1.0\n",
      "24              on_test_batch        669         669       1.0\n",
      "25          on_test_batch_end        669         669       1.0\n",
      "23        on_test_batch_start        669         669       1.0\n",
      "17         on_after_fit_epoch         40          40       1.0\n",
      "16    on_validation_epoch_end         40          40       1.0\n",
      "11         on_train_epoch_end         40          40       1.0\n",
      "12  on_validation_epoch_start         40          40       1.0\n",
      "6        on_train_epoch_start         40          40       1.0\n",
      "5         on_before_fit_epoch         40          40       1.0\n",
      "26     on_test_model_type_end          6           6       1.0\n",
      "22   on_test_model_type_start          6           6       1.0\n",
      "18       on_before_save_model          4           4       1.0\n",
      "4          on_fit_model_start          2           2       1.0\n",
      "27          on_test_model_end          2           2       1.0\n",
      "21        on_test_model_start          2           2       1.0\n",
      "28                on_test_end          1           1       1.0\n",
      "0          on_configure_model          1           1       1.0\n",
      "20              on_test_start          1           1       1.0\n",
      "19                 on_fit_end          1           1       1.0\n",
      "1               on_data_start          1           1       1.0\n",
      "3                on_fit_start          1           1       1.0\n",
      "2                 on_data_end          1           1       1.0\n",
      "29         on_summarize_model          1           1       1.0\n",
      "         keys  num_calls  total_time   avg_time\n",
      "0  everything          1   33.384376  33.384376\n"
     ]
    }
   ],
   "source": [
    "# %% test a specific model\n",
    "from src.module import ModelTrainer\n",
    "ModelTrainer.main(stage = 0 , resume = 0 , checkname= 1)"
   ]
  },
  {
   "cell_type": "code",
   "execution_count": null,
   "metadata": {},
   "outputs": [
    {
     "name": "stdout",
     "output_type": "stream",
     "text": [
      "Use device name: NVIDIA GeForce RTX 4090\n"
     ]
    },
    {
     "name": "stderr",
     "output_type": "stream",
     "text": [
      "\u001b[1m\u001b[37m\u001b[41m24-03-31 09:52:11|MOD:data_preprocessing|\u001b[0m: \u001b[1m\u001b[31mif_train is False , Data Processing start!\u001b[0m\n",
      "\u001b[1m\u001b[37m\u001b[45m24-03-31 09:52:11|MOD:data_preprocessing|\u001b[0m: \u001b[1m\u001b[35m3 datas :['y', 'trade_day', 'trade_30m']\u001b[0m\n"
     ]
    },
    {
     "name": "stdout",
     "output_type": "stream",
     "text": [
      "Sun Mar 31 09:52:11 2024 : y start ...\n",
      "labels blocks reading ret10_lag DataBase's ...... cost 0.39 secs\n",
      "labels blocks reading ret20_lag DataBase's ...... cost 0.33 secs\n",
      "labels blocks merging ...... cost 0.05 secs\n",
      "models blocks reading risk_exp DataBase's ...... cost 1.66 secs\n",
      "models blocks merging ...... cost 0.17 secs\n",
      "y blocks process ...... cost 0.88 secs\n",
      "y blocks masking ...... cost 0.05 secs\n",
      "y blocks saving  ...... cost 0.14 secs\n",
      "y blocks norming ...... cost 0.00 secs\n",
      "Sun Mar 31 09:52:14 2024 : y finished! Cost 3.67 Seconds\n",
      "Sun Mar 31 09:52:14 2024 : trade_day start ...\n",
      "trade blocks reading day DataBase's ...... cost 0.56 secs\n",
      "trade_day blocks merging ...... cost 0.00 secs\n",
      "trade_day blocks process ...... cost 0.03 secs\n",
      "trade_day blocks masking ...... cost 0.05 secs\n",
      "trade_day blocks saving  ...... cost 0.16 secs\n",
      "trade_day blocks norming ...... cost 0.00 secs\n",
      "Sun Mar 31 09:52:15 2024 : trade_day finished! Cost 0.81 Seconds\n",
      "Sun Mar 31 09:52:15 2024 : trade_30m start ...\n",
      "trade blocks reading 30min DataBase's ...... cost 2.51 secs\n",
      "trade_30m blocks merging ...... cost 0.00 secs\n",
      "trade blocks reading day DataBase's ...... cost 0.53 secs\n",
      "trade_day blocks merging ...... cost 0.02 secs\n",
      "trade_30m blocks process ...... cost 0.95 secs\n",
      "trade_30m blocks masking ...... cost 0.05 secs\n",
      "trade_30m blocks saving  ..."
     ]
    },
    {
     "name": "stderr",
     "output_type": "stream",
     "text": [
      "\u001b[1m\u001b[37m\u001b[41m24-03-31 09:52:21|MOD:data_preprocessing|\u001b[0m: \u001b[1m\u001b[31mData Processing Finished! Cost 10.02 Seconds\u001b[0m\n"
     ]
    },
    {
     "name": "stdout",
     "output_type": "stream",
     "text": [
      "... cost 1.13 secs\n",
      "trade_30m blocks norming ...... cost 0.00 secs\n",
      "Sun Mar 31 09:52:21 2024 : trade_30m finished! Cost 5.19 Seconds\n"
     ]
    }
   ],
   "source": [
    "# prepare data\n",
    "from src.module import DataModule\n",
    "DataModule.prepare_data()"
   ]
  },
  {
   "cell_type": "code",
   "execution_count": null,
   "metadata": {},
   "outputs": [],
   "source": []
  },
  {
   "cell_type": "code",
   "execution_count": null,
   "metadata": {},
   "outputs": [],
   "source": []
  },
  {
   "cell_type": "code",
   "execution_count": 2,
   "metadata": {},
   "outputs": [
    {
     "name": "stdout",
     "output_type": "stream",
     "text": [
      "Function 'my_function' has two arguments 'a' and 'b'\n"
     ]
    }
   ],
   "source": [
    "import inspect\n",
    "\n",
    "def my_function(a, b):\n",
    "    pass\n",
    "\n",
    "# Assert that the function has exactly two arguments with names 'a' and 'b'\n",
    "assert len(inspect.signature(my_function).parameters) == 2\n",
    "assert inspect.signature(my_function).parameters['a'].name == 'a'\n",
    "assert inspect.signature(my_function).parameters['b'].name == 'b'\n",
    "\n",
    "print(\"Function 'my_function' has two arguments 'a' and 'b'\")\n"
   ]
  },
  {
   "cell_type": "code",
   "execution_count": null,
   "metadata": {},
   "outputs": [],
   "source": []
  },
  {
   "cell_type": "code",
   "execution_count": 18,
   "metadata": {},
   "outputs": [
    {
     "data": {
      "text/plain": [
       "['a', 'b']"
      ]
     },
     "execution_count": 18,
     "metadata": {},
     "output_type": "execute_result"
    }
   ],
   "source": [
    "[v.name for v in inspect.signature(my_function).parameters.values()]"
   ]
  }
 ],
 "metadata": {
  "kernelspec": {
   "display_name": "Python 3",
   "language": "python",
   "name": "python3"
  },
  "language_info": {
   "codemirror_mode": {
    "name": "ipython",
    "version": 3
   },
   "file_extension": ".py",
   "mimetype": "text/x-python",
   "name": "python",
   "nbconvert_exporter": "python",
   "pygments_lexer": "ipython3",
   "version": "3.11.8"
  }
 },
 "nbformat": 4,
 "nbformat_minor": 2
}
