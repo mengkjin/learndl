{
 "cells": [
  {
   "cell_type": "code",
   "execution_count": 1,
   "metadata": {},
   "outputs": [
    {
     "name": "stdout",
     "output_type": "stream",
     "text": [
      "False 2.2.0+cpu\n"
     ]
    }
   ],
   "source": [
    "import torch\n",
    "print(torch.cuda.is_available() , torch.__version__)"
   ]
  },
  {
   "cell_type": "code",
   "execution_count": 1,
   "metadata": {},
   "outputs": [
    {
     "name": "stderr",
     "output_type": "stream",
     "text": [
      "\u001b[1m\u001b[37m\u001b[44m24-05-23 23:29:25|MOD:display     |\u001b[0m: \u001b[1m\u001b[34mModel Specifics:\u001b[0m\n",
      "\u001b[1m\u001b[37m\u001b[41m24-05-23 23:29:25|MOD:display     |\u001b[0m: \u001b[1m\u001b[31mStart Process [Data] at Thu May 23 23:29:25 2024!\u001b[0m\n"
     ]
    },
    {
     "name": "stdout",
     "output_type": "stream",
     "text": [
      "Use device name: NVIDIA GeForce RTX 4090\n",
      "--Process Queue : Data + Fit + Test\n",
      "--Start Training New!\n",
      "--Model_name is set to gru.2!\n",
      "Callback : StatusDisplay(verbosity=2) , display epoch and event information\n",
      "{'random_seed': None,\n",
      " 'model_name': 'gru.2',\n",
      " 'model_module': 'lgbm',\n",
      " 'model_data_type': 'day',\n",
      " 'model_types': ['best'],\n",
      " 'beg_date': 20170103,\n",
      " 'end_date': 99991231,\n",
      " 'sample_method': 'train_shuffle',\n",
      " 'shuffle_option': 'epoch',\n",
      " 'lgbm_ensembler': True}\n",
      "{'hidden_dim': [32],\n",
      " 'seqlens': [{'day': 30, '30m': 30, 'dms': 30}],\n",
      " 'tra_seqlens': [{'hist_loss': 40}],\n",
      " 'dropout': [0.1],\n",
      " 'enc_in': [True],\n",
      " 'enc_att': [False],\n",
      " 'rnn_type': ['lstm'],\n",
      " 'rnn_att': [False],\n",
      " 'rnn_layers': [2],\n",
      " 'dec_mlp_layers': [2],\n",
      " 'num_output': [1],\n",
      " 'kernel_size': [3],\n",
      " 'hidden_as_factor': [False],\n",
      " 'ordered_param_group': [False],\n",
      " 'tra_num_states': [5],\n",
      " 'resnet_blocks': [2]}\n",
      "use /home/mengkjin/Workspace/learndl/data/DataSet/day.20240429.pt\n"
     ]
    },
    {
     "name": "stderr",
     "output_type": "stream",
     "text": [
      "\u001b[1m\u001b[37m\u001b[41m24-05-23 23:29:28|MOD:display     |\u001b[0m: \u001b[1m\u001b[31mFinish Process [Data], Cost 2.2 Secs\u001b[0m\n",
      "\u001b[1m\u001b[37m\u001b[41m24-05-23 23:29:28|MOD:display     |\u001b[0m: \u001b[1m\u001b[31mStart Process [Fit] at Thu May 23 23:29:28 2024!\u001b[0m\n"
     ]
    },
    {
     "name": "stdout",
     "output_type": "stream",
     "text": [
      "Pre-Norming method of [day] : {'divlast': True, 'histnorm': True}\n"
     ]
    },
    {
     "name": "stderr",
     "output_type": "stream",
     "text": [
      "\u001b[1m\u001b[37m\u001b[44m24-05-23 23:29:39|MOD:display     |\u001b[0m: \u001b[1m\u001b[34mgru.2 #0 @20170103|  |Train 0.0000 Valid 0.0000 BestVal 0.0000|Cost  0.2Min,  9.3Sec/Ep\u001b[0m\n",
      "\u001b[1m\u001b[37m\u001b[44m24-05-23 23:29:51|MOD:display     |\u001b[0m: \u001b[1m\u001b[34mgru.2 #0 @20170704|  |Train 0.0000 Valid 0.0000 BestVal 0.0000|Cost  0.1Min,  8.9Sec/Ep\u001b[0m\n",
      "\u001b[1m\u001b[37m\u001b[44m24-05-23 23:30:03|MOD:display     |\u001b[0m: \u001b[1m\u001b[34mgru.2 #0 @20171226|  |Train 0.0000 Valid 0.0000 BestVal 0.0000|Cost  0.2Min,  9.2Sec/Ep\u001b[0m\n",
      "\u001b[1m\u001b[37m\u001b[44m24-05-23 23:30:17|MOD:display     |\u001b[0m: \u001b[1m\u001b[34mgru.2 #0 @20180627|  |Train 0.0000 Valid 0.0000 BestVal 0.0000|Cost  0.2Min, 11.6Sec/Ep\u001b[0m\n",
      "\u001b[1m\u001b[37m\u001b[44m24-05-23 23:30:29|MOD:display     |\u001b[0m: \u001b[1m\u001b[34mgru.2 #0 @20181220|  |Train 0.0000 Valid 0.0000 BestVal 0.0000|Cost  0.2Min,  9.4Sec/Ep\u001b[0m\n",
      "\u001b[1m\u001b[37m\u001b[44m24-05-23 23:30:41|MOD:display     |\u001b[0m: \u001b[1m\u001b[34mgru.2 #0 @20190624|  |Train 0.0000 Valid 0.0000 BestVal 0.0000|Cost  0.2Min,  9.5Sec/Ep\u001b[0m\n",
      "\u001b[1m\u001b[37m\u001b[44m24-05-23 23:30:54|MOD:display     |\u001b[0m: \u001b[1m\u001b[34mgru.2 #0 @20191217|  |Train 0.0000 Valid 0.0000 BestVal 0.0000|Cost  0.2Min,  9.9Sec/Ep\u001b[0m\n",
      "\u001b[1m\u001b[37m\u001b[44m24-05-23 23:31:07|MOD:display     |\u001b[0m: \u001b[1m\u001b[34mgru.2 #0 @20200617|  |Train 0.0000 Valid 0.0000 BestVal 0.0000|Cost  0.2Min, 11.0Sec/Ep\u001b[0m\n",
      "\u001b[1m\u001b[37m\u001b[44m24-05-23 23:31:20|MOD:display     |\u001b[0m: \u001b[1m\u001b[34mgru.2 #0 @20201214|  |Train 0.0000 Valid 0.0000 BestVal 0.0000|Cost  0.2Min, 10.6Sec/Ep\u001b[0m\n",
      "\u001b[1m\u001b[37m\u001b[44m24-05-23 23:31:34|MOD:display     |\u001b[0m: \u001b[1m\u001b[34mgru.2 #0 @20210615|  |Train 0.0000 Valid 0.0000 BestVal 0.0000|Cost  0.2Min, 11.0Sec/Ep\u001b[0m\n",
      "\u001b[1m\u001b[37m\u001b[44m24-05-23 23:31:47|MOD:display     |\u001b[0m: \u001b[1m\u001b[34mgru.2 #0 @20211209|  |Train 0.0000 Valid 0.0000 BestVal 0.0000|Cost  0.2Min, 10.6Sec/Ep\u001b[0m\n",
      "\u001b[1m\u001b[37m\u001b[44m24-05-23 23:32:02|MOD:display     |\u001b[0m: \u001b[1m\u001b[34mgru.2 #0 @20220613|  |Train 0.0000 Valid 0.0000 BestVal 0.0000|Cost  0.2Min, 12.3Sec/Ep\u001b[0m\n",
      "\u001b[1m\u001b[37m\u001b[44m24-05-23 23:32:17|MOD:display     |\u001b[0m: \u001b[1m\u001b[34mgru.2 #0 @20221206|  |Train 0.0000 Valid 0.0000 BestVal 0.0000|Cost  0.2Min, 12.7Sec/Ep\u001b[0m\n",
      "\u001b[1m\u001b[37m\u001b[44m24-05-23 23:32:32|MOD:display     |\u001b[0m: \u001b[1m\u001b[34mgru.2 #0 @20230606|  |Train 0.0000 Valid 0.0000 BestVal 0.0000|Cost  0.2Min, 11.8Sec/Ep\u001b[0m\n",
      "\u001b[1m\u001b[37m\u001b[44m24-05-23 23:32:47|MOD:display     |\u001b[0m: \u001b[1m\u001b[34mgru.2 #0 @20231201|  |Train 0.0000 Valid 0.0000 BestVal 0.0000|Cost  0.2Min, 12.6Sec/Ep\u001b[0m\n",
      "\u001b[1m\u001b[37m\u001b[41m24-05-23 23:32:47|MOD:display     |\u001b[0m: \u001b[1m\u001b[31mFinish Process [Fit], Cost 199.2 Secs\u001b[0m\n",
      "\u001b[1m\u001b[37m\u001b[41m24-05-23 23:32:47|MOD:display     |\u001b[0m: \u001b[1m\u001b[31mStart Process [Test] at Thu May 23 23:32:47 2024!\u001b[0m\n",
      "\u001b[1m\u001b[37m\u001b[44m24-05-23 23:32:47|MOD:display     |\u001b[0m: \u001b[1m\u001b[34mEach Model Date Testing Mean Score(spearman):\u001b[0m\n",
      "\u001b[32mModels            0\u001b[0m\n",
      "\u001b[32mOutput         best\u001b[0m\n"
     ]
    },
    {
     "name": "stdout",
     "output_type": "stream",
     "text": [
      "score function of [spearman] calculated and success!\n"
     ]
    },
    {
     "name": "stderr",
     "output_type": "stream",
     "text": [
      "\u001b[32m20170103     0.0346\u001b[0m\n",
      "\u001b[32m20170704     0.0407\u001b[0m\n",
      "\u001b[32m20171226     0.0642\u001b[0m\n",
      "\u001b[32m20180627     0.0635\u001b[0m\n",
      "\u001b[32m20181220     0.0781\u001b[0m\n",
      "\u001b[32m20190624     0.0616\u001b[0m\n",
      "\u001b[32m20191217     0.0506\u001b[0m\n",
      "\u001b[32m20200617     0.0599\u001b[0m\n",
      "\u001b[32m20201214     0.0461\u001b[0m\n",
      "\u001b[32m20210615     0.0566\u001b[0m\n",
      "\u001b[32m20211209     0.0515\u001b[0m\n",
      "\u001b[32m20220613     0.0703\u001b[0m\n",
      "\u001b[32m20221206     0.0587\u001b[0m\n",
      "\u001b[32m20230606     0.0440\u001b[0m\n",
      "\u001b[32m20231201     0.0802\u001b[0m\n",
      "\u001b[32mAllTimeAvg   0.0567\u001b[0m\n",
      "\u001b[32mAllTimeSum   101.42\u001b[0m\n",
      "\u001b[32mStd          0.0727\u001b[0m\n",
      "\u001b[32mTValue        32.98\u001b[0m\n",
      "\u001b[32mAnnIR        3.8205\u001b[0m\n",
      "\u001b[1m\u001b[37m\u001b[41m24-05-23 23:33:04|MOD:display     |\u001b[0m: \u001b[1m\u001b[31mFinish Process [Test], Cost 16.8 Secs\u001b[0m\n",
      "\u001b[1m\u001b[37m\u001b[41m24-05-23 23:33:04|MOD:time        |\u001b[0m: \u001b[1m\u001b[31mMain Process Finished! Cost 3 Minutes 38.2 Seconds\u001b[0m\n"
     ]
    }
   ],
   "source": [
    "from src.interface import TrainerModule\n",
    "TrainerModule.main(stage = 0 , resume = 0 , checkname= 1)\n"
   ]
  },
  {
   "cell_type": "code",
   "execution_count": null,
   "metadata": {},
   "outputs": [],
   "source": [
    "# prepare data\n",
    "from src.interface import NetDataModule\n",
    "NetDataModule.prepare_data()"
   ]
  }
 ],
 "metadata": {
  "kernelspec": {
   "display_name": "Python 3",
   "language": "python",
   "name": "python3"
  },
  "language_info": {
   "codemirror_mode": {
    "name": "ipython",
    "version": 3
   },
   "file_extension": ".py",
   "mimetype": "text/x-python",
   "name": "python",
   "nbconvert_exporter": "python",
   "pygments_lexer": "ipython3",
   "version": "3.10.12"
  }
 },
 "nbformat": 4,
 "nbformat_minor": 2
}
