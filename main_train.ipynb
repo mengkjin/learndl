{
 "cells": [
  {
   "cell_type": "code",
   "execution_count": 1,
   "metadata": {},
   "outputs": [
    {
     "name": "stdout",
     "output_type": "stream",
     "text": [
      "False 2.2.0+cpu\n"
     ]
    }
   ],
   "source": [
    "import torch\n",
    "print(torch.cuda.is_available() , torch.__version__)"
   ]
  },
  {
   "cell_type": "code",
   "execution_count": 1,
   "metadata": {},
   "outputs": [
    {
     "name": "stderr",
     "output_type": "stream",
     "text": [
      "\u001b[1m\u001b[37m\u001b[44m24-05-16 12:28:00|MOD:display     |\u001b[0m: \u001b[1m\u001b[34mModel Specifics:\u001b[0m\n",
      "\u001b[1m\u001b[37m\u001b[41m24-05-16 12:28:00|MOD:display     |\u001b[0m: \u001b[1m\u001b[31mStart Process [Data] at Thu May 16 12:28:00 2024!\u001b[0m\n"
     ]
    },
    {
     "name": "stdout",
     "output_type": "stream",
     "text": [
      "--Process Queue : Data + Fit + Test\n",
      "--Model_name is set to gru_day_ShortTest!\n",
      "Callback : DynamicDataLink() , assign / unlink dynamic data in tra networks\n",
      "Callback : ResetOptimizer(num_reset=2,trigger=40,recover_level=1.0,speedup2x=True) , reset optimizer on some epoch (can speedup scheduler)\n",
      "Callback : CallbackTimer(verbosity=10) , record time cost of callback hooks\n",
      "Callback : EarlyStoppage(patience=20) , stop fitting when validation score cease to improve\n",
      "Callback : ValidationConverge(patience=5,eps=1e-05) , stop fitting when valid_score converge\n",
      "Callback : EarlyExitRetrain(earliest=20,max_attempt=4,lr_multiplier=[1, 0.1, 10, 0.01, 100, 1]) , retrain with new lr if fitting stopped too early\n",
      "Callback : NanLossRetrain(max_attempt=4) , retrain if fitting encounters nan loss\n",
      "Callback : BatchDisplay(verbosity=10) , display batch progress bar\n",
      "Callback : StatusDisplay(verbosity=10) , display epoch / event information\n",
      "{'random_seed': None,\n",
      " 'model_name': 'gru_day_ShortTest',\n",
      " 'model_module': 'gru',\n",
      " 'model_data_type': 'day',\n",
      " 'beg_date': 20170103,\n",
      " 'end_date': 20170228,\n",
      " 'sample_method': 'train_shuffle',\n",
      " 'shuffle_option': 'epoch',\n",
      " 'lgbm_ensembler': False}\n",
      "{'hidden_dim': [32],\n",
      " 'seqlens': [{'day': 30, '30m': 30, 'dms': 30}],\n",
      " 'tra_seqlens': [{'hist_loss': 40}],\n",
      " 'dropout': [0.1],\n",
      " 'enc_in': [True],\n",
      " 'enc_att': [False],\n",
      " 'rnn_type': ['gru'],\n",
      " 'rnn_att': [False],\n",
      " 'rnn_layers': [2],\n",
      " 'dec_mlp_layers': [2],\n",
      " 'num_output': [1],\n",
      " 'kernel_size': [3],\n",
      " 'hidden_as_factor': [True],\n",
      " 'ordered_param_group': [False]}\n",
      "use d:\\Coding\\learndl\\learndl\\data\\torch_pack/day.20240315.pt\n"
     ]
    },
    {
     "name": "stderr",
     "output_type": "stream",
     "text": [
      "\u001b[1m\u001b[37m\u001b[41m24-05-16 12:28:04|MOD:display     |\u001b[0m: \u001b[1m\u001b[31mFinish Process [Data], Cost 3.7 Secs\u001b[0m\n",
      "\u001b[1m\u001b[37m\u001b[41m24-05-16 12:28:04|MOD:display     |\u001b[0m: \u001b[1m\u001b[31mStart Process [Fit] at Thu May 16 12:28:04 2024!\u001b[0m\n"
     ]
    },
    {
     "name": "stdout",
     "output_type": "stream",
     "text": [
      "Pre-Norming method of [day] : {'divlast': True, 'histnorm': True}\n"
     ]
    },
    {
     "name": "stderr",
     "output_type": "stream",
     "text": [
      "  0%|          | 0/10 [00:00<?, ?it/s]"
     ]
    },
    {
     "name": "stdout",
     "output_type": "stream",
     "text": [
      "score function of [spearman] calculated and success!\n",
      "loss function of [pearson] calculated and success!\n"
     ]
    },
    {
     "name": "stderr",
     "output_type": "stream",
     "text": [
      "Train Ep#  0 loss : 1.00580: 100%|██████████| 10/10 [00:12<00:00,  1.21s/it]\n",
      "Valid Ep#  0 score : -0.00760: 100%|██████████| 10/10 [00:01<00:00,  5.86it/s]\n",
      "\u001b[32mFirstBite Ep#  0 : loss  1.00580, train-0.00754, valid-0.00760, best-0.0076, lr1.3e-03\u001b[0m\n",
      "Train Ep#  1 loss : 0.98744: 100%|██████████| 10/10 [00:11<00:00,  1.13s/it]\n",
      "Valid Ep#  1 score : 0.03177: 100%|██████████| 10/10 [00:01<00:00,  7.44it/s]\n",
      "\u001b[32mFirstBite Ep#  1 : loss  0.98744, train 0.01666, valid 0.03177, best 0.0318, lr2.5e-03\u001b[0m\n",
      "Train Ep#  2 loss : 0.96170: 100%|██████████| 10/10 [00:10<00:00,  1.10s/it]\n",
      "Valid Ep#  2 score : 0.06209: 100%|██████████| 10/10 [00:01<00:00,  7.36it/s]\n",
      "\u001b[32mFirstBite Ep#  2 : loss  0.96170, train 0.03772, valid 0.06209, best 0.0621, lr3.8e-03\u001b[0m\n",
      "Train Ep#  3 loss : 0.93551: 100%|██████████| 10/10 [00:11<00:00,  1.10s/it]\n",
      "Valid Ep#  3 score : 0.07894: 100%|██████████| 10/10 [00:01<00:00,  7.39it/s]\n",
      "\u001b[32mFirstBite Ep#  3 : loss  0.93551, train 0.07118, valid 0.07894, best 0.0789, lr5.0e-03\u001b[0m\n",
      "\u001b[1m\u001b[37m\u001b[44m24-05-16 12:29:08|MOD:display     |\u001b[0m: \u001b[1m\u001b[34mgru_day_ShortTest #0 @20170103|FirstBite Ep#  4 Max Epoch|Train 0.0712 Valid 0.0789 BestVal 0.0789|Cost  1.0Min, 12.3Sec/Ep\u001b[0m\n",
      "\u001b[1m\u001b[37m\u001b[41m24-05-16 12:29:08|MOD:display     |\u001b[0m: \u001b[1m\u001b[31mFinish Process [Fit], Cost 0.0 Hours, 1.1 Min/model, 16.0 Sec/Epoch\u001b[0m\n",
      "\u001b[1m\u001b[37m\u001b[41m24-05-16 12:29:08|MOD:display     |\u001b[0m: \u001b[1m\u001b[31mStart Process [Test] at Thu May 16 12:29:08 2024!\u001b[0m\n",
      "\u001b[1m\u001b[37m\u001b[44m24-05-16 12:29:08|MOD:display     |\u001b[0m: \u001b[1m\u001b[34mEach Model Date Testing Mean Score(spearman):\u001b[0m\n",
      "\u001b[32mModels            0       0       0\u001b[0m\n",
      "\u001b[32mOutput         best swalast swabest\u001b[0m\n",
      "Test best 20170228 score : 0.07965: 100%|██████████| 35/35 [00:05<00:00,  6.46it/s]\n",
      "Test swalast 20170228 score : 0.08044: 100%|██████████| 35/35 [00:05<00:00,  6.55it/s]\n",
      "Test swabest 20170228 score : 0.05175: 100%|██████████| 35/35 [00:05<00:00,  6.21it/s]\n",
      "\u001b[32m20170103     0.0796  0.0804  0.0517\u001b[0m\n",
      "\u001b[32mAllTimeAvg   0.0796  0.0804  0.0517\u001b[0m\n",
      "\u001b[32mAllTimeSum     2.79    2.82    1.81\u001b[0m\n",
      "\u001b[32mStd          0.0440  0.0434  0.0356\u001b[0m\n",
      "\u001b[32mTValue        10.71   10.98    8.61\u001b[0m\n",
      "\u001b[32mAnnIR        8.8723  9.0889  7.1266\u001b[0m\n",
      "\u001b[1m\u001b[37m\u001b[41m24-05-16 12:29:25|MOD:display     |\u001b[0m: \u001b[1m\u001b[31mFinish Process [Test], Cost 17.2 Secs\u001b[0m\n",
      "\u001b[1m\u001b[37m\u001b[41m24-05-16 12:29:25|MOD:__init__    |\u001b[0m: \u001b[1m\u001b[31mMain Process Finished! Cost 1 Minutes 25.0 Seconds\u001b[0m\n"
     ]
    },
    {
     "name": "stdout",
     "output_type": "stream",
     "text": [
      "                    hook_name  num_calls  total_time   avg_time\n",
      "8              on_train_batch         40   45.282878   1.132072\n",
      "23              on_test_batch        105   16.173702   0.154035\n",
      "17           on_fit_model_end          1   10.484960  10.484960\n",
      "13        on_validation_batch         40    5.669853   0.141746\n",
      "4          on_fit_model_start          1    2.438516   2.438516\n",
      "20        on_test_model_start          1    0.677189   0.677189\n",
      "24          on_test_batch_end        105    0.138666   0.001321\n",
      "14    on_validation_batch_end         40    0.050884   0.001272\n",
      "9          on_train_batch_end         40    0.049904   0.001248\n",
      "21   on_test_model_type_start          3    0.036904   0.012301\n",
      "16           on_fit_epoch_end          4    0.036899   0.009225\n",
      "27                on_test_end          1    0.018949   0.018949\n",
      "15    on_validation_epoch_end          4    0.012966   0.003242\n",
      "6        on_train_epoch_start          4    0.010971   0.002743\n",
      "11  on_validation_epoch_start          4    0.007980   0.001995\n",
      "10         on_train_epoch_end          4    0.007976   0.001994\n",
      "25     on_test_model_type_end          3    0.006981   0.002327\n",
      "28         on_summarize_model          1    0.004986   0.004986\n",
      "19              on_test_start          1    0.003986   0.003986\n",
      "0          on_configure_model          1    0.002023   0.002023\n",
      "1               on_data_start          1    0.001000   0.001000\n",
      "18                 on_fit_end          1    0.001000   0.001000\n",
      "26          on_test_model_end          1    0.000998   0.000998\n",
      "7        on_train_batch_start         40    0.000998   0.000025\n",
      "22        on_test_batch_start        105    0.000998   0.000010\n",
      "3                on_fit_start          1    0.000998   0.000998\n",
      "2                 on_data_end          1    0.000998   0.000998\n",
      "12  on_validation_batch_start         40    0.000000   0.000000\n",
      "5          on_fit_epoch_start          4    0.000000   0.000000\n"
     ]
    }
   ],
   "source": [
    "# %% test a specific model\n",
    "from src.interface import ModelTrainer\n",
    "ModelTrainer.main(stage = 0 , resume = 0 , checkname= 1)"
   ]
  },
  {
   "cell_type": "code",
   "execution_count": 1,
   "metadata": {},
   "outputs": [
    {
     "data": {
      "text/plain": [
       "array([0.68917146, 0.61358719, 0.67942325])"
      ]
     },
     "execution_count": 1,
     "metadata": {},
     "output_type": "execute_result"
    }
   ],
   "source": [
    "import numpy as np\n",
    "a = np.random.random((2,3))\n",
    "a[a > 0.5]"
   ]
  },
  {
   "cell_type": "code",
   "execution_count": null,
   "metadata": {},
   "outputs": [],
   "source": [
    "from src.interface import ModelTrainer\n",
    "ModelTrainer.main(stage = 0 , resume = 0 , checkname= 1)"
   ]
  },
  {
   "cell_type": "code",
   "execution_count": null,
   "metadata": {},
   "outputs": [],
   "source": [
    "# prepare data\n",
    "from src.interface import DataModule\n",
    "DataModule.prepare_data()"
   ]
  }
 ],
 "metadata": {
  "kernelspec": {
   "display_name": "Python 3",
   "language": "python",
   "name": "python3"
  },
  "language_info": {
   "codemirror_mode": {
    "name": "ipython",
    "version": 3
   },
   "file_extension": ".py",
   "mimetype": "text/x-python",
   "name": "python",
   "nbconvert_exporter": "python",
   "pygments_lexer": "ipython3",
   "version": "3.11.8"
  }
 },
 "nbformat": 4,
 "nbformat_minor": 2
}
