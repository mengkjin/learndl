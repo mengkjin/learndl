{
 "cells": [
  {
   "cell_type": "code",
   "execution_count": 1,
   "metadata": {},
   "outputs": [
    {
     "data": {
      "text/plain": [
       "True"
      ]
     },
     "execution_count": 1,
     "metadata": {},
     "output_type": "execute_result"
    }
   ],
   "source": [
    "# %% test cuda\n",
    "import torch #type: ignore\n",
    "torch.cuda.is_available()"
   ]
  },
  {
   "cell_type": "code",
   "execution_count": 1,
   "metadata": {},
   "outputs": [
    {
     "name": "stdout",
     "output_type": "stream",
     "text": [
      "Use device name: NVIDIA GeForce RTX 4090\n"
     ]
    },
    {
     "name": "stderr",
     "output_type": "stream",
     "text": [
      "\u001b[1m\u001b[37m\u001b[44m24-04-16 20:37:22|MOD:run_model   |\u001b[0m: \u001b[1m\u001b[34mModel Specifics:\u001b[0m\n",
      "\u001b[1m\u001b[37m\u001b[41m24-04-16 20:37:22|MOD:run_model   |\u001b[0m: \u001b[1m\u001b[31mStart Process [Load Data]!\u001b[0m\n"
     ]
    },
    {
     "name": "stdout",
     "output_type": "stream",
     "text": [
      "--Process Queue : Data + Train + Test\n",
      "--Start Training New!\n",
      "--Model_name is set to patch_tst_day.5!\n",
      "{'random_seed': None,\n",
      " 'model_name': 'patch_tst_day.5',\n",
      " 'model_module': 'patch_tst',\n",
      " 'model_data_type': 'day',\n",
      " 'model_data_prenorm': {'day': {'divlast': True, 'histnorm': True}},\n",
      " 'labels': ['std_lag1_10'],\n",
      " 'beg_date': 20170103,\n",
      " 'end_date': 99991231,\n",
      " 'interval': 120,\n",
      " 'input_step_day': 5,\n",
      " 'test_step_day': 1}\n",
      "{'hidden_dim': [32],\n",
      " 'seqlens': [{'day': 30, '30m': 30, 'dms': 30}],\n",
      " 'seq_len': [30],\n",
      " 'dropout': [0.1],\n",
      " 'attn_dropout': [0.1],\n",
      " 'num_output': [1],\n",
      " 'shared_embedding': [True],\n",
      " 'shared_head': [True],\n",
      " 'revin': [True],\n",
      " 'act_type': ['gelu'],\n",
      " 'patch_len': [5],\n",
      " 'stride': [2],\n",
      " 'n_layers': [2],\n",
      " 'n_heads': [2, 4, 8, 16],\n",
      " 'd_ff': [64]}\n",
      "use /home/mengkjin/Workspace/learndl/data/torch_pack/day.20240313.pt\n"
     ]
    },
    {
     "name": "stderr",
     "output_type": "stream",
     "text": [
      "\u001b[1m\u001b[37m\u001b[41m24-04-16 20:37:26|MOD:run_model   |\u001b[0m: \u001b[1m\u001b[31mFinish Process [Load Data]! Cost 3.3Secs\u001b[0m\n",
      "\u001b[1m\u001b[37m\u001b[41m24-04-16 20:37:26|MOD:run_model   |\u001b[0m: \u001b[1m\u001b[31mStart Process [Train Model]!\u001b[0m\n"
     ]
    },
    {
     "name": "stdout",
     "output_type": "stream",
     "text": [
      "Pre-Norming method of [day] : {'divlast': True, 'histnorm': True}\n"
     ]
    },
    {
     "name": "stderr",
     "output_type": "stream",
     "text": [
      "\u001b[32mpatch_tst_day.5 #0 @20170103 LoadData Cost    3.0Secs\u001b[0m\n"
     ]
    },
    {
     "name": "stdout",
     "output_type": "stream",
     "text": [
      "score function of [spearman] calculated and success!\n",
      "loss function of [pearson] calculated and success!\n"
     ]
    },
    {
     "name": "stderr",
     "output_type": "stream",
     "text": [
      "\u001b[32mFirstBite Ep#  0 : loss  0.98900, train 0.00276, valid 0.01568, max 0.0157, best 0.0157, lr1.0e-07\u001b[0m\n",
      "\u001b[32mFirstBite Ep#  5 : loss  0.90177, train 0.11484, valid 0.12885, max 0.1288, best 0.1288, lr3.8e-03\u001b[0m\n",
      "\u001b[32mFirstBite Ep# 10 : loss  0.88129, train 0.13657, valid 0.12820, max 0.1333, best 0.1333, lr1.3e-03\u001b[0m\n",
      "\u001b[32mFirstBite Ep# 15 : loss  0.86653, train 0.15198, valid 0.13164, max 0.1333, best 0.1333, lr6.3e-04\u001b[0m\n",
      "\u001b[32mFirstBite Ep# 20 : loss  0.86663, train 0.15240, valid 0.14288, max 0.1429, best 0.1429, lr1.3e-03\u001b[0m\n",
      "\u001b[32mFirstBite Ep# 25 : loss  0.85533, train 0.16285, valid 0.13084, max 0.1429, best 0.1429, lr1.6e-04\u001b[0m\n",
      "\u001b[32mFirstBite Ep# 30 : loss  0.85232, train 0.16678, valid 0.12996, max 0.1429, best 0.1429, lr3.1e-04\u001b[0m\n",
      "\u001b[32mFirstBite Ep# 35 : loss  0.85063, train 0.16845, valid 0.12467, max 0.1429, best 0.1429, lr2.3e-04\u001b[0m\n",
      "\u001b[32mReset learn rate and scheduler at the end of epoch 39 , effective at epoch 40\u001b[0m\n",
      "\u001b[32mFirstBite Ep# 40 : loss  0.84740, train 0.17033, valid 0.12572, max 0.1429, best 0.1429, lr1.0e-07\u001b[0m\n",
      "\u001b[1m\u001b[37m\u001b[44m24-04-16 20:41:31|MOD:run_model   |\u001b[0m: \u001b[1m\u001b[34mpatch_tst_day.5 #0 @20170103|FirstBite Ep# 40 EarlyStop|Train 0.1703 Valid 0.1257 BestVal 0.1429|Cost  4.1Min,  5.9Sec/Ep\u001b[0m\n",
      "\u001b[32mFirstBite Ep#  0 : loss  0.98417, train 0.02623, valid 0.07152, max 0.0715, best 0.0715, lr1.0e-07\u001b[0m\n",
      "\u001b[32mFirstBite Ep#  5 : loss  0.89396, train 0.12403, valid 0.11266, max 0.1127, best 0.1127, lr3.8e-03\u001b[0m\n",
      "\u001b[32mFirstBite Ep# 10 : loss  0.87365, train 0.14503, valid 0.14236, max 0.1424, best 0.1424, lr1.3e-03\u001b[0m\n",
      "\u001b[32mFirstBite Ep# 15 : loss  0.85843, train 0.16040, valid 0.12748, max 0.1424, best 0.1424, lr6.3e-04\u001b[0m\n",
      "\u001b[32mFirstBite Ep# 20 : loss  0.85819, train 0.16086, valid 0.12390, max 0.1424, best 0.1424, lr1.3e-03\u001b[0m\n",
      "\u001b[32mFirstBite Ep# 25 : loss  0.84874, train 0.17017, valid 0.12876, max 0.1424, best 0.1424, lr1.6e-04\u001b[0m\n",
      "\u001b[32mFirstBite Ep# 30 : loss  0.84528, train 0.17420, valid 0.12788, max 0.1424, best 0.1424, lr3.1e-04\u001b[0m\n",
      "\u001b[1m\u001b[37m\u001b[44m24-04-16 20:45:07|MOD:run_model   |\u001b[0m: \u001b[1m\u001b[34mpatch_tst_day.5 #1 @20170103|FirstBite Ep# 30 EarlyStop|Train 0.1742 Valid 0.1279 BestVal 0.1424|Cost  3.6Min,  6.9Sec/Ep\u001b[0m\n",
      "\u001b[32mFirstBite Ep#  0 : loss  1.01663, train-0.02608, valid-0.04551, max-0.0455, best-0.0455, lr1.0e-07\u001b[0m\n",
      "\u001b[32mFirstBite Ep#  5 : loss  0.89460, train 0.12237, valid 0.12958, max 0.1296, best 0.1296, lr3.8e-03\u001b[0m\n",
      "\u001b[32mFirstBite Ep# 10 : loss  0.87399, train 0.14440, valid 0.14203, max 0.1420, best 0.1420, lr1.3e-03\u001b[0m\n",
      "\u001b[32mFirstBite Ep# 15 : loss  0.85998, train 0.15990, valid 0.12598, max 0.1462, best 0.1462, lr6.3e-04\u001b[0m\n",
      "\u001b[32mFirstBite Ep# 20 : loss  0.85639, train 0.16277, valid 0.14263, max 0.1462, best 0.1462, lr1.3e-03\u001b[0m\n",
      "\u001b[32mFirstBite Ep# 25 : loss  0.84671, train 0.17262, valid 0.13176, max 0.1462, best 0.1462, lr1.6e-04\u001b[0m\n",
      "\u001b[32mFirstBite Ep# 30 : loss  0.84414, train 0.17513, valid 0.13207, max 0.1462, best 0.1462, lr3.1e-04\u001b[0m\n",
      "\u001b[1m\u001b[37m\u001b[44m24-04-16 20:50:13|MOD:run_model   |\u001b[0m: \u001b[1m\u001b[34mpatch_tst_day.5 #2 @20170103|FirstBite Ep# 33 EarlyStop|Train 0.1767 Valid 0.1335 BestVal 0.1462|Cost  5.1Min,  9.0Sec/Ep\u001b[0m\n",
      "\u001b[32mFirstBite Ep#  0 : loss  0.98916, train 0.00764, valid 0.00135, max 0.0014, best 0.0014, lr1.0e-07\u001b[0m\n",
      "\u001b[32mFirstBite Ep#  5 : loss  0.90389, train 0.11397, valid 0.10667, max 0.1067, best 0.1067, lr3.8e-03\u001b[0m\n",
      "\u001b[32mFirstBite Ep# 10 : loss  0.87830, train 0.13912, valid 0.13693, max 0.1369, best 0.1369, lr1.3e-03\u001b[0m\n",
      "\u001b[32mFirstBite Ep# 15 : loss  0.86207, train 0.15582, valid 0.14413, max 0.1441, best 0.1441, lr6.3e-04\u001b[0m\n",
      "\u001b[32mFirstBite Ep# 20 : loss  0.86041, train 0.15798, valid 0.13124, max 0.1445, best 0.1445, lr1.3e-03\u001b[0m\n",
      "\u001b[32mFirstBite Ep# 25 : loss  0.85110, train 0.16769, valid 0.13726, max 0.1445, best 0.1445, lr1.6e-04\u001b[0m\n",
      "\u001b[32mFirstBite Ep# 30 : loss  0.84684, train 0.17179, valid 0.12868, max 0.1445, best 0.1445, lr3.1e-04\u001b[0m\n",
      "\u001b[32mFirstBite Ep# 35 : loss  0.84566, train 0.17294, valid 0.13156, max 0.1445, best 0.1445, lr2.3e-04\u001b[0m\n",
      "\u001b[1m\u001b[37m\u001b[44m24-04-16 20:58:08|MOD:run_model   |\u001b[0m: \u001b[1m\u001b[34mpatch_tst_day.5 #3 @20170103|FirstBite Ep# 36 EarlyStop|Train 0.1727 Valid 0.1325 BestVal 0.1445|Cost  7.9Min, 12.8Sec/Ep\u001b[0m\n",
      "\u001b[1m\u001b[37m\u001b[44m24-04-16 21:02:30|MOD:run_model   |\u001b[0m: \u001b[1m\u001b[34mpatch_tst_day.5 #0 @20170704|FirstBite Ep# 41 EarlyStop|Train 0.1532 Valid 0.1237 BestVal 0.1352|Cost  4.4Min,  6.2Sec/Ep\u001b[0m\n",
      "\u001b[1m\u001b[37m\u001b[44m24-04-16 21:07:32|MOD:run_model   |\u001b[0m: \u001b[1m\u001b[34mpatch_tst_day.5 #1 @20170704|FirstBite Ep# 41 EarlyStop|Train 0.1631 Valid 0.1217 BestVal 0.1336|Cost  5.0Min,  7.2Sec/Ep\u001b[0m\n",
      "\u001b[1m\u001b[37m\u001b[44m24-04-16 21:13:46|MOD:run_model   |\u001b[0m: \u001b[1m\u001b[34mpatch_tst_day.5 #2 @20170704|FirstBite Ep# 39 EarlyStop|Train 0.1779 Valid 0.1274 BestVal 0.1328|Cost  6.2Min,  9.3Sec/Ep\u001b[0m\n",
      "\u001b[1m\u001b[37m\u001b[44m24-04-16 21:26:37|MOD:run_model   |\u001b[0m: \u001b[1m\u001b[34mpatch_tst_day.5 #3 @20170704|FirstBite Ep# 57 EarlyStop|Train 0.1831 Valid 0.1277 BestVal 0.1401|Cost 12.8Min, 13.3Sec/Ep\u001b[0m\n",
      "\u001b[1m\u001b[37m\u001b[44m24-04-16 21:30:18|MOD:run_model   |\u001b[0m: \u001b[1m\u001b[34mpatch_tst_day.5 #0 @20171226|FirstBite Ep# 33 EarlyStop|Train 0.1789 Valid 0.1209 BestVal 0.1254|Cost  3.7Min,  6.4Sec/Ep\u001b[0m\n",
      "\u001b[1m\u001b[37m\u001b[44m24-04-16 21:36:23|MOD:run_model   |\u001b[0m: \u001b[1m\u001b[34mpatch_tst_day.5 #1 @20171226|FirstBite Ep# 48 EarlyStop|Train 0.1912 Valid 0.1236 BestVal 0.1291|Cost  6.1Min,  7.5Sec/Ep\u001b[0m\n",
      "\u001b[1m\u001b[37m\u001b[44m24-04-16 21:41:44|MOD:run_model   |\u001b[0m: \u001b[1m\u001b[34mpatch_tst_day.5 #2 @20171226|FirstBite Ep# 32 EarlyStop|Train 0.1806 Valid 0.1132 BestVal 0.1205|Cost  5.3Min,  9.7Sec/Ep\u001b[0m\n",
      "\u001b[1m\u001b[37m\u001b[44m24-04-16 21:51:11|MOD:run_model   |\u001b[0m: \u001b[1m\u001b[34mpatch_tst_day.5 #3 @20171226|FirstBite Ep# 40 EarlyStop|Train 0.1857 Valid 0.1265 BestVal 0.1344|Cost  9.4Min, 13.8Sec/Ep\u001b[0m\n",
      "\u001b[1m\u001b[37m\u001b[44m24-04-16 21:55:19|MOD:run_model   |\u001b[0m: \u001b[1m\u001b[34mpatch_tst_day.5 #0 @20180627|FirstBite Ep# 36 EarlyStop|Train 0.1741 Valid 0.1160 BestVal 0.1248|Cost  4.1Min,  6.6Sec/Ep\u001b[0m\n",
      "\u001b[1m\u001b[37m\u001b[44m24-04-16 21:59:43|MOD:run_model   |\u001b[0m: \u001b[1m\u001b[34mpatch_tst_day.5 #1 @20180627|FirstBite Ep# 33 EarlyStop|Train 0.1874 Valid 0.1141 BestVal 0.1249|Cost  4.4Min,  7.8Sec/Ep\u001b[0m\n",
      "\u001b[1m\u001b[37m\u001b[44m24-04-16 22:04:56|MOD:run_model   |\u001b[0m: \u001b[1m\u001b[34mpatch_tst_day.5 #2 @20180627|FirstBite Ep# 30 EarlyStop|Train 0.1857 Valid 0.1203 BestVal 0.1281|Cost  5.2Min, 10.1Sec/Ep\u001b[0m\n",
      "\u001b[1m\u001b[37m\u001b[44m24-04-16 22:13:19|MOD:run_model   |\u001b[0m: \u001b[1m\u001b[34mpatch_tst_day.5 #3 @20180627|FirstBite Ep# 34 EarlyStop|Train 0.1757 Valid 0.1238 BestVal 0.1285|Cost  8.4Min, 14.4Sec/Ep\u001b[0m\n",
      "\u001b[1m\u001b[37m\u001b[44m24-04-16 22:16:56|MOD:run_model   |\u001b[0m: \u001b[1m\u001b[34mpatch_tst_day.5 #0 @20181220|FirstBite Ep# 30 EarlyStop|Train 0.1859 Valid 0.1050 BestVal 0.1133|Cost  3.6Min,  6.9Sec/Ep\u001b[0m\n",
      "\u001b[1m\u001b[37m\u001b[44m24-04-16 22:20:36|MOD:run_model   |\u001b[0m: \u001b[1m\u001b[34mpatch_tst_day.5 #1 @20181220|FirstBite Ep# 26 EarlyStop|Train 0.1851 Valid 0.1043 BestVal 0.1132|Cost  3.7Min,  8.1Sec/Ep\u001b[0m\n",
      "\u001b[1m\u001b[37m\u001b[44m24-04-16 22:28:54|MOD:run_model   |\u001b[0m: \u001b[1m\u001b[34mpatch_tst_day.5 #2 @20181220|FirstBite Ep# 47 EarlyStop|Train 0.1975 Valid 0.1015 BestVal 0.1076|Cost  8.3Min, 10.4Sec/Ep\u001b[0m\n",
      "\u001b[1m\u001b[37m\u001b[44m24-04-16 22:35:54|MOD:run_model   |\u001b[0m: \u001b[1m\u001b[34mpatch_tst_day.5 #3 @20181220|FirstBite Ep# 27 EarlyStop|Train 0.1922 Valid 0.1055 BestVal 0.1131|Cost  7.0Min, 15.0Sec/Ep\u001b[0m\n",
      "\u001b[1m\u001b[37m\u001b[44m24-04-16 22:39:40|MOD:run_model   |\u001b[0m: \u001b[1m\u001b[34mpatch_tst_day.5 #0 @20190624|FirstBite Ep# 30 EarlyStop|Train 0.1920 Valid 0.1014 BestVal 0.1097|Cost  3.8Min,  7.2Sec/Ep\u001b[0m\n",
      "\u001b[1m\u001b[37m\u001b[44m24-04-16 22:43:29|MOD:run_model   |\u001b[0m: \u001b[1m\u001b[34mpatch_tst_day.5 #1 @20190624|FirstBite Ep# 26 EarlyStop|Train 0.1823 Valid 0.1015 BestVal 0.1108|Cost  3.8Min,  8.5Sec/Ep\u001b[0m\n",
      "\u001b[1m\u001b[37m\u001b[44m24-04-16 22:49:18|MOD:run_model   |\u001b[0m: \u001b[1m\u001b[34mpatch_tst_day.5 #2 @20190624|FirstBite Ep# 31 EarlyStop|Train 0.1994 Valid 0.0947 BestVal 0.1023|Cost  5.8Min, 10.9Sec/Ep\u001b[0m\n",
      "\u001b[1m\u001b[37m\u001b[44m24-04-16 22:57:37|MOD:run_model   |\u001b[0m: \u001b[1m\u001b[34mpatch_tst_day.5 #3 @20190624|FirstBite Ep# 31 EarlyStop|Train 0.1936 Valid 0.1005 BestVal 0.1151|Cost  8.3Min, 15.6Sec/Ep\u001b[0m\n",
      "\u001b[1m\u001b[37m\u001b[44m24-04-16 23:01:05|MOD:run_model   |\u001b[0m: \u001b[1m\u001b[34mpatch_tst_day.5 #0 @20191217|FirstBite Ep# 26 EarlyStop|Train 0.1940 Valid 0.0942 BestVal 0.1076|Cost  3.5Min,  7.6Sec/Ep\u001b[0m\n",
      "\u001b[1m\u001b[37m\u001b[44m24-04-16 23:04:46|MOD:run_model   |\u001b[0m: \u001b[1m\u001b[34mpatch_tst_day.5 #1 @20191217|FirstBite Ep# 24 EarlyStop|Train 0.1898 Valid 0.0896 BestVal 0.1041|Cost  3.7Min,  8.8Sec/Ep\u001b[0m\n",
      "\u001b[1m\u001b[37m\u001b[44m24-04-16 23:11:00|MOD:run_model   |\u001b[0m: \u001b[1m\u001b[34mpatch_tst_day.5 #2 @20191217|FirstBite Ep# 32 EarlyStop|Train 0.1880 Valid 0.0941 BestVal 0.1048|Cost  6.2Min, 11.3Sec/Ep\u001b[0m\n",
      "\u001b[1m\u001b[37m\u001b[44m24-04-16 23:21:30|MOD:run_model   |\u001b[0m: \u001b[1m\u001b[34mpatch_tst_day.5 #3 @20191217|FirstBite Ep# 38 EarlyStop|Train 0.1960 Valid 0.0909 BestVal 0.1011|Cost 10.5Min, 16.1Sec/Ep\u001b[0m\n",
      "\u001b[1m\u001b[37m\u001b[44m24-04-16 23:24:59|MOD:run_model   |\u001b[0m: \u001b[1m\u001b[34mpatch_tst_day.5 #0 @20200617|FirstBite Ep# 25 EarlyStop|Train 0.1868 Valid 0.0865 BestVal 0.0951|Cost  3.5Min,  7.9Sec/Ep\u001b[0m\n",
      "\u001b[1m\u001b[37m\u001b[44m24-04-16 23:29:55|MOD:run_model   |\u001b[0m: \u001b[1m\u001b[34mpatch_tst_day.5 #1 @20200617|FirstBite Ep# 31 EarlyStop|Train 0.1917 Valid 0.0838 BestVal 0.0976|Cost  4.9Min,  9.2Sec/Ep\u001b[0m\n",
      "\u001b[1m\u001b[37m\u001b[44m24-04-16 23:35:39|MOD:run_model   |\u001b[0m: \u001b[1m\u001b[34mpatch_tst_day.5 #2 @20200617|FirstBite Ep# 28 EarlyStop|Train 0.1890 Valid 0.0826 BestVal 0.0976|Cost  5.7Min, 11.9Sec/Ep\u001b[0m\n",
      "\u001b[1m\u001b[37m\u001b[44m24-04-16 23:44:23|MOD:run_model   |\u001b[0m: \u001b[1m\u001b[34mpatch_tst_day.5 #3 @20200617|FirstBite Ep# 30 EarlyStop|Train 0.1901 Valid 0.0900 BestVal 0.1001|Cost  8.7Min, 16.9Sec/Ep\u001b[0m\n",
      "\u001b[1m\u001b[37m\u001b[44m24-04-16 23:48:54|MOD:run_model   |\u001b[0m: \u001b[1m\u001b[34mpatch_tst_day.5 #0 @20201214|FirstBite Ep# 32 EarlyStop|Train 0.1855 Valid 0.0936 BestVal 0.0970|Cost  4.5Min,  8.1Sec/Ep\u001b[0m\n",
      "\u001b[1m\u001b[37m\u001b[44m24-04-16 23:53:40|MOD:run_model   |\u001b[0m: \u001b[1m\u001b[34mpatch_tst_day.5 #1 @20201214|FirstBite Ep# 29 EarlyStop|Train 0.1793 Valid 0.0871 BestVal 0.0987|Cost  4.8Min,  9.5Sec/Ep\u001b[0m\n",
      "\u001b[1m\u001b[37m\u001b[44m24-04-16 23:59:28|MOD:run_model   |\u001b[0m: \u001b[1m\u001b[34mpatch_tst_day.5 #2 @20201214|FirstBite Ep# 27 EarlyStop|Train 0.1844 Valid 0.0889 BestVal 0.0982|Cost  5.8Min, 12.4Sec/Ep\u001b[0m\n",
      "\u001b[1m\u001b[37m\u001b[44m24-04-17 00:06:51|MOD:run_model   |\u001b[0m: \u001b[1m\u001b[34mpatch_tst_day.5 #3 @20201214|FirstBite Ep# 24 EarlyStop|Train 0.1908 Valid 0.0911 BestVal 0.0960|Cost  7.4Min, 17.7Sec/Ep\u001b[0m\n",
      "\u001b[1m\u001b[37m\u001b[44m24-04-17 00:10:53|MOD:run_model   |\u001b[0m: \u001b[1m\u001b[34mpatch_tst_day.5 #0 @20210615|FirstBite Ep# 27 EarlyStop|Train 0.1792 Valid 0.0891 BestVal 0.0949|Cost  4.0Min,  8.6Sec/Ep\u001b[0m\n",
      "\u001b[1m\u001b[37m\u001b[44m24-04-17 00:15:34|MOD:run_model   |\u001b[0m: \u001b[1m\u001b[34mpatch_tst_day.5 #1 @20210615|FirstBite Ep# 27 EarlyStop|Train 0.1865 Valid 0.0884 BestVal 0.0907|Cost  4.7Min, 10.0Sec/Ep\u001b[0m\n",
      "\u001b[1m\u001b[37m\u001b[44m24-04-17 00:21:08|MOD:run_model   |\u001b[0m: \u001b[1m\u001b[34mpatch_tst_day.5 #2 @20210615|FirstBite Ep# 25 EarlyStop|Train 0.1798 Valid 0.0871 BestVal 0.0938|Cost  5.6Min, 12.8Sec/Ep\u001b[0m\n",
      "\u001b[1m\u001b[37m\u001b[44m24-04-17 00:29:22|MOD:run_model   |\u001b[0m: \u001b[1m\u001b[34mpatch_tst_day.5 #3 @20210615|FirstBite Ep# 26 EarlyStop|Train 0.1812 Valid 0.0874 BestVal 0.0930|Cost  8.2Min, 18.3Sec/Ep\u001b[0m\n",
      "\u001b[1m\u001b[37m\u001b[44m24-04-17 00:34:40|MOD:run_model   |\u001b[0m: \u001b[1m\u001b[34mpatch_tst_day.5 #0 @20211209|FirstBite Ep# 35 EarlyStop|Train 0.1741 Valid 0.0798 BestVal 0.0823|Cost  5.3Min,  8.7Sec/Ep\u001b[0m\n",
      "\u001b[1m\u001b[37m\u001b[44m24-04-17 00:39:48|MOD:run_model   |\u001b[0m: \u001b[1m\u001b[34mpatch_tst_day.5 #1 @20211209|FirstBite Ep# 29 EarlyStop|Train 0.1726 Valid 0.0799 BestVal 0.0859|Cost  5.1Min, 10.3Sec/Ep\u001b[0m\n",
      "\u001b[1m\u001b[37m\u001b[44m24-04-17 00:45:35|MOD:run_model   |\u001b[0m: \u001b[1m\u001b[34mpatch_tst_day.5 #2 @20211209|FirstBite Ep# 25 EarlyStop|Train 0.1703 Valid 0.0758 BestVal 0.0834|Cost  5.8Min, 13.3Sec/Ep\u001b[0m\n",
      "\u001b[1m\u001b[37m\u001b[44m24-04-17 00:55:21|MOD:run_model   |\u001b[0m: \u001b[1m\u001b[34mpatch_tst_day.5 #3 @20211209|FirstBite Ep# 30 EarlyStop|Train 0.1735 Valid 0.0786 BestVal 0.0845|Cost  9.8Min, 18.9Sec/Ep\u001b[0m\n",
      "\u001b[1m\u001b[37m\u001b[44m24-04-17 00:59:57|MOD:run_model   |\u001b[0m: \u001b[1m\u001b[34mpatch_tst_day.5 #0 @20220613|FirstBite Ep# 29 EarlyStop|Train 0.1614 Valid 0.0877 BestVal 0.0948|Cost  4.6Min,  9.1Sec/Ep\u001b[0m\n",
      "\u001b[1m\u001b[37m\u001b[44m24-04-17 01:05:15|MOD:run_model   |\u001b[0m: \u001b[1m\u001b[34mpatch_tst_day.5 #1 @20220613|FirstBite Ep# 29 EarlyStop|Train 0.1653 Valid 0.0832 BestVal 0.0953|Cost  5.3Min, 10.6Sec/Ep\u001b[0m\n",
      "\u001b[1m\u001b[37m\u001b[44m24-04-17 01:12:22|MOD:run_model   |\u001b[0m: \u001b[1m\u001b[34mpatch_tst_day.5 #2 @20220613|FirstBite Ep# 30 EarlyStop|Train 0.1682 Valid 0.0884 BestVal 0.0920|Cost  7.1Min, 13.7Sec/Ep\u001b[0m\n",
      "\u001b[1m\u001b[37m\u001b[44m24-04-17 01:21:51|MOD:run_model   |\u001b[0m: \u001b[1m\u001b[34mpatch_tst_day.5 #3 @20220613|FirstBite Ep# 28 EarlyStop|Train 0.1682 Valid 0.0854 BestVal 0.0922|Cost  9.5Min, 19.6Sec/Ep\u001b[0m\n",
      "\u001b[1m\u001b[37m\u001b[44m24-04-17 01:26:22|MOD:run_model   |\u001b[0m: \u001b[1m\u001b[34mpatch_tst_day.5 #0 @20221206|FirstBite Ep# 27 EarlyStop|Train 0.1564 Valid 0.0841 BestVal 0.0901|Cost  4.5Min,  9.5Sec/Ep\u001b[0m\n",
      "\u001b[1m\u001b[37m\u001b[44m24-04-17 01:31:23|MOD:run_model   |\u001b[0m: \u001b[1m\u001b[34mpatch_tst_day.5 #1 @20221206|FirstBite Ep# 26 EarlyStop|Train 0.1609 Valid 0.0823 BestVal 0.0935|Cost  5.0Min, 11.1Sec/Ep\u001b[0m\n",
      "\u001b[1m\u001b[37m\u001b[44m24-04-17 01:37:49|MOD:run_model   |\u001b[0m: \u001b[1m\u001b[34mpatch_tst_day.5 #2 @20221206|FirstBite Ep# 26 EarlyStop|Train 0.1660 Valid 0.0856 BestVal 0.0926|Cost  6.4Min, 14.3Sec/Ep\u001b[0m\n",
      "\u001b[1m\u001b[37m\u001b[44m24-04-17 01:47:20|MOD:run_model   |\u001b[0m: \u001b[1m\u001b[34mpatch_tst_day.5 #3 @20221206|FirstBite Ep# 27 EarlyStop|Train 0.1706 Valid 0.0789 BestVal 0.0916|Cost  9.5Min, 20.4Sec/Ep\u001b[0m\n",
      "\u001b[1m\u001b[37m\u001b[44m24-04-17 01:51:59|MOD:run_model   |\u001b[0m: \u001b[1m\u001b[34mpatch_tst_day.5 #0 @20230606|FirstBite Ep# 27 EarlyStop|Train 0.1612 Valid 0.0920 BestVal 0.1000|Cost  4.7Min,  9.9Sec/Ep\u001b[0m\n",
      "\u001b[1m\u001b[37m\u001b[44m24-04-17 01:56:59|MOD:run_model   |\u001b[0m: \u001b[1m\u001b[34mpatch_tst_day.5 #1 @20230606|FirstBite Ep# 25 EarlyStop|Train 0.1633 Valid 0.0921 BestVal 0.1038|Cost  5.0Min, 11.5Sec/Ep\u001b[0m\n",
      "\u001b[1m\u001b[37m\u001b[44m24-04-17 02:04:08|MOD:run_model   |\u001b[0m: \u001b[1m\u001b[34mpatch_tst_day.5 #2 @20230606|FirstBite Ep# 28 EarlyStop|Train 0.1566 Valid 0.0912 BestVal 0.0974|Cost  7.2Min, 14.8Sec/Ep\u001b[0m\n",
      "\u001b[1m\u001b[37m\u001b[44m24-04-17 02:13:40|MOD:run_model   |\u001b[0m: \u001b[1m\u001b[34mpatch_tst_day.5 #3 @20230606|FirstBite Ep# 26 EarlyStop|Train 0.1634 Valid 0.0928 BestVal 0.1004|Cost  9.5Min, 21.2Sec/Ep\u001b[0m\n",
      "\u001b[1m\u001b[37m\u001b[44m24-04-17 02:18:02|MOD:run_model   |\u001b[0m: \u001b[1m\u001b[34mpatch_tst_day.5 #0 @20231201|FirstBite Ep# 24 EarlyStop|Train 0.1541 Valid 0.0754 BestVal 0.0973|Cost  4.4Min, 10.3Sec/Ep\u001b[0m\n",
      "\u001b[1m\u001b[37m\u001b[44m24-04-17 02:23:03|MOD:run_model   |\u001b[0m: \u001b[1m\u001b[34mpatch_tst_day.5 #1 @20231201|FirstBite Ep# 24 EarlyStop|Train 0.1607 Valid 0.0755 BestVal 0.0952|Cost  5.0Min, 12.0Sec/Ep\u001b[0m\n",
      "\u001b[1m\u001b[37m\u001b[44m24-04-17 02:29:45|MOD:run_model   |\u001b[0m: \u001b[1m\u001b[34mpatch_tst_day.5 #2 @20231201|FirstBite Ep# 25 EarlyStop|Train 0.1551 Valid 0.0838 BestVal 0.1064|Cost  6.7Min, 15.5Sec/Ep\u001b[0m\n",
      "\u001b[1m\u001b[37m\u001b[44m24-04-17 02:39:39|MOD:run_model   |\u001b[0m: \u001b[1m\u001b[34mpatch_tst_day.5 #3 @20231201|FirstBite Ep# 26 EarlyStop|Train 0.1593 Valid 0.0777 BestVal 0.0956|Cost  9.9Min, 22.0Sec/Ep\u001b[0m\n",
      "\u001b[1m\u001b[37m\u001b[41m24-04-17 02:39:39|MOD:run_model   |\u001b[0m: \u001b[1m\u001b[31mFinish Process [Train Model]! Cost 6.0 Hours, 6.0 Min/model, 11.4 Sec/Epoch\u001b[0m\n",
      "\u001b[1m\u001b[37m\u001b[41m24-04-17 02:39:39|MOD:run_model   |\u001b[0m: \u001b[1m\u001b[31mStart Process [Test Model]!\u001b[0m\n",
      "\u001b[1m\u001b[37m\u001b[44m24-04-17 02:39:39|MOD:run_model   |\u001b[0m: \u001b[1m\u001b[34mEach Model Date Testing Mean Score(spearman):\u001b[0m\n",
      "\u001b[32mModels            0       0       0       1       1       1       2       2       2       3       3       3\u001b[0m\n",
      "\u001b[32mOutput         best swalast swabest    best swalast swabest    best swalast swabest    best swalast swabest\u001b[0m\n",
      "\u001b[32m20170103     0.1328  0.1354  0.1378  0.1256  0.1288  0.1315  0.1226  0.1274  0.1268  0.1331  0.1338  0.1340\u001b[0m\n",
      "\u001b[32m20170704     0.1162  0.1099  0.1134  0.1123  0.1102  0.1131  0.1056  0.1042  0.1053  0.1144  0.1156  0.1174\u001b[0m\n",
      "\u001b[32m20171226     0.1138  0.1103  0.1065  0.1015  0.1033  0.1053  0.0963  0.1021  0.1011  0.1106  0.1103  0.1115\u001b[0m\n",
      "\u001b[32m20180627     0.0636  0.0607  0.0610  0.0654  0.0601  0.0662  0.0709  0.0614  0.0715  0.0676  0.0650  0.0701\u001b[0m\n",
      "\u001b[32m20181220     0.1036  0.1035  0.1110  0.1021  0.1074  0.0997  0.0979  0.0906  0.1010  0.1066  0.1036  0.1033\u001b[0m\n",
      "\u001b[32m20190624     0.0866  0.0851  0.0849  0.0818  0.0796  0.0890  0.0825  0.0822  0.0829  0.0873  0.0869  0.0886\u001b[0m\n",
      "\u001b[32m20191217     0.0857  0.0856  0.0906  0.0858  0.0730  0.0897  0.0916  0.0917  0.0912  0.0873  0.0885  0.0904\u001b[0m\n",
      "\u001b[32m20200617     0.1002  0.1001  0.0972  0.1042  0.1028  0.1031  0.1047  0.1038  0.1052  0.1008  0.1009  0.1010\u001b[0m\n",
      "\u001b[32m20201214     0.0930  0.0947  0.0913  0.0956  0.0970  0.0946  0.0954  0.0926  0.0963  0.0904  0.0907  0.0950\u001b[0m\n",
      "\u001b[32m20210615     0.0805  0.0804  0.0825  0.0829  0.0825  0.0835  0.0779  0.0791  0.0812  0.0797  0.0768  0.0839\u001b[0m\n",
      "\u001b[32m20211209     0.0997  0.1004  0.1009  0.1020  0.1063  0.1002  0.1018  0.0916  0.1027  0.1023  0.1084  0.1061\u001b[0m\n",
      "\u001b[32m20220613     0.1004  0.0979  0.0946  0.0965  0.0972  0.0924  0.0980  0.0968  0.0945  0.0979  0.1069  0.0975\u001b[0m\n",
      "\u001b[32m20221206     0.0692  0.0696  0.0659  0.0699  0.0770  0.0662  0.0673  0.0743  0.0661  0.0701  0.0785  0.0707\u001b[0m\n",
      "\u001b[32m20230606     0.1019  0.0965  0.1020  0.1116  0.0964  0.1015  0.0954  0.0945  0.0939  0.1017  0.0841  0.0977\u001b[0m\n",
      "\u001b[32m20231201     0.0979  0.1064  0.0988  0.0788  0.0886  0.0913  0.0971  0.0976  0.1032  0.0908  0.1098  0.1008\u001b[0m\n",
      "\u001b[32mAllTimeAvg   0.0963  0.0955  0.0958  0.0948  0.0941  0.0952  0.0936  0.0925  0.0947  0.0962  0.0970  0.0978\u001b[0m\n",
      "\u001b[32mAllTimeSum   169.21  167.78  168.34  166.55  165.41  167.35  164.44  162.61  166.34  168.97  170.44  171.83\u001b[0m\n",
      "\u001b[32mStd          0.0837  0.0862  0.0825  0.0846  0.0870  0.0823  0.0838  0.0853  0.0816  0.0833  0.0863  0.0821\u001b[0m\n",
      "\u001b[32mTValue        48.24   46.43   48.70   46.98   45.38   48.51   46.80   45.49   48.61   48.40   47.12   49.90\u001b[0m\n",
      "\u001b[32mAnnIR        5.6383  5.4266  5.6921  5.4912  5.3040  5.6692  5.4702  5.3172  5.6818  5.6568  5.5066  5.8322\u001b[0m\n",
      "\u001b[1m\u001b[37m\u001b[41m24-04-17 02:45:05|MOD:run_model   |\u001b[0m: \u001b[1m\u001b[31mFinish Process [Test Model]! Cost 22058.8 Secs\u001b[0m\n"
     ]
    }
   ],
   "source": [
    "# %% test a specific model\n",
    "from run_model import main\n",
    "main(process = 0 , resume = 0 , checkname= 1)"
   ]
  },
  {
   "cell_type": "code",
   "execution_count": 3,
   "metadata": {},
   "outputs": [
    {
     "ename": "TypeError",
     "evalue": "new(): data must be a sequence (got float)",
     "output_type": "error",
     "traceback": [
      "\u001b[0;31m---------------------------------------------------------------------------\u001b[0m",
      "\u001b[0;31mTypeError\u001b[0m                                 Traceback (most recent call last)",
      "Cell \u001b[0;32mIn[3], line 5\u001b[0m\n\u001b[1;32m      2\u001b[0m \u001b[38;5;28;01mfrom\u001b[39;00m \u001b[38;5;21;01mtorch\u001b[39;00m \u001b[38;5;28;01mimport\u001b[39;00m Tensor , nn\n\u001b[1;32m      4\u001b[0m head_dim \u001b[38;5;241m=\u001b[39m \u001b[38;5;241m64\u001b[39m\n\u001b[0;32m----> 5\u001b[0m nn\u001b[38;5;241m.\u001b[39mParameter(\u001b[43mTensor\u001b[49m\u001b[43m(\u001b[49m\u001b[43mhead_dim\u001b[49m\u001b[43m \u001b[49m\u001b[38;5;241;43m*\u001b[39;49m\u001b[38;5;241;43m*\u001b[39;49m\u001b[43m \u001b[49m\u001b[38;5;241;43m-\u001b[39;49m\u001b[38;5;241;43m0.5\u001b[39;49m\u001b[43m)\u001b[49m, requires_grad\u001b[38;5;241m=\u001b[39m\u001b[38;5;28;01mTrue\u001b[39;00m)\n",
      "\u001b[0;31mTypeError\u001b[0m: new(): data must be a sequence (got float)"
     ]
    }
   ],
   "source": [
    "import torch\n",
    "from torch import Tensor , nn\n",
    "\n",
    "head_dim = 64\n",
    "nn.Parameter(Tensor(head_dim ** -0.5), requires_grad=True)"
   ]
  },
  {
   "cell_type": "code",
   "execution_count": 6,
   "metadata": {},
   "outputs": [
    {
     "data": {
      "text/plain": [
       "tensor(0.1250)"
      ]
     },
     "execution_count": 6,
     "metadata": {},
     "output_type": "execute_result"
    }
   ],
   "source": [
    "torch.tensor(head_dim ** -0.5)"
   ]
  },
  {
   "cell_type": "code",
   "execution_count": 1,
   "metadata": {},
   "outputs": [
    {
     "name": "stdout",
     "output_type": "stream",
     "text": [
      "Use device name: NVIDIA GeForce RTX 4090\n"
     ]
    },
    {
     "name": "stderr",
     "output_type": "stream",
     "text": [
      "\u001b[1m\u001b[37m\u001b[41m24-03-31 09:52:11|MOD:data_preprocessing|\u001b[0m: \u001b[1m\u001b[31mif_train is False , Data Processing start!\u001b[0m\n",
      "\u001b[1m\u001b[37m\u001b[45m24-03-31 09:52:11|MOD:data_preprocessing|\u001b[0m: \u001b[1m\u001b[35m3 datas :['y', 'trade_day', 'trade_30m']\u001b[0m\n"
     ]
    },
    {
     "name": "stdout",
     "output_type": "stream",
     "text": [
      "Sun Mar 31 09:52:11 2024 : y start ...\n",
      "labels blocks reading ret10_lag DataBase's ...... cost 0.39 secs\n",
      "labels blocks reading ret20_lag DataBase's ...... cost 0.33 secs\n",
      "labels blocks merging ...... cost 0.05 secs\n",
      "models blocks reading risk_exp DataBase's ...... cost 1.66 secs\n",
      "models blocks merging ...... cost 0.17 secs\n",
      "y blocks process ...... cost 0.88 secs\n",
      "y blocks masking ...... cost 0.05 secs\n",
      "y blocks saving  ...... cost 0.14 secs\n",
      "y blocks norming ...... cost 0.00 secs\n",
      "Sun Mar 31 09:52:14 2024 : y finished! Cost 3.67 Seconds\n",
      "Sun Mar 31 09:52:14 2024 : trade_day start ...\n",
      "trade blocks reading day DataBase's ...... cost 0.56 secs\n",
      "trade_day blocks merging ...... cost 0.00 secs\n",
      "trade_day blocks process ...... cost 0.03 secs\n",
      "trade_day blocks masking ...... cost 0.05 secs\n",
      "trade_day blocks saving  ...... cost 0.16 secs\n",
      "trade_day blocks norming ...... cost 0.00 secs\n",
      "Sun Mar 31 09:52:15 2024 : trade_day finished! Cost 0.81 Seconds\n",
      "Sun Mar 31 09:52:15 2024 : trade_30m start ...\n",
      "trade blocks reading 30min DataBase's ...... cost 2.51 secs\n",
      "trade_30m blocks merging ...... cost 0.00 secs\n",
      "trade blocks reading day DataBase's ...... cost 0.53 secs\n",
      "trade_day blocks merging ...... cost 0.02 secs\n",
      "trade_30m blocks process ...... cost 0.95 secs\n",
      "trade_30m blocks masking ...... cost 0.05 secs\n",
      "trade_30m blocks saving  ..."
     ]
    },
    {
     "name": "stderr",
     "output_type": "stream",
     "text": [
      "\u001b[1m\u001b[37m\u001b[41m24-03-31 09:52:21|MOD:data_preprocessing|\u001b[0m: \u001b[1m\u001b[31mData Processing Finished! Cost 10.02 Seconds\u001b[0m\n"
     ]
    },
    {
     "name": "stdout",
     "output_type": "stream",
     "text": [
      "... cost 1.13 secs\n",
      "trade_30m blocks norming ...... cost 0.00 secs\n",
      "Sun Mar 31 09:52:21 2024 : trade_30m finished! Cost 5.19 Seconds\n"
     ]
    }
   ],
   "source": [
    "from src.data import PreProcess\n",
    "PreProcess.main(False)\n",
    "PreProcess.main(True)"
   ]
  }
 ],
 "metadata": {
  "kernelspec": {
   "display_name": "Python 3",
   "language": "python",
   "name": "python3"
  },
  "language_info": {
   "codemirror_mode": {
    "name": "ipython",
    "version": 3
   },
   "file_extension": ".py",
   "mimetype": "text/x-python",
   "name": "python",
   "nbconvert_exporter": "python",
   "pygments_lexer": "ipython3",
   "version": "3.10.12"
  }
 },
 "nbformat": 4,
 "nbformat_minor": 2
}
