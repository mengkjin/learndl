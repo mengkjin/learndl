{
 "cells": [
  {
   "cell_type": "code",
   "execution_count": 18,
   "metadata": {},
   "outputs": [
    {
     "name": "stdout",
     "output_type": "stream",
     "text": [
      "abc\n"
     ]
    }
   ],
   "source": [
    "from inspect import currentframe\n",
    "def abc(a):\n",
    "    print(getattr(currentframe() , 'f_code').co_name)\n",
    "\n",
    "abc(2)"
   ]
  },
  {
   "cell_type": "code",
   "execution_count": null,
   "metadata": {},
   "outputs": [],
   "source": []
  },
  {
   "cell_type": "code",
   "execution_count": null,
   "metadata": {},
   "outputs": [],
   "source": []
  },
  {
   "cell_type": "code",
   "execution_count": 1,
   "metadata": {},
   "outputs": [
    {
     "data": {
      "text/plain": [
       "True"
      ]
     },
     "execution_count": 1,
     "metadata": {},
     "output_type": "execute_result"
    }
   ],
   "source": [
    "import torch\n",
    "torch.cuda.is_available()"
   ]
  },
  {
   "cell_type": "code",
   "execution_count": 1,
   "metadata": {},
   "outputs": [
    {
     "name": "stdout",
     "output_type": "stream",
     "text": [
      "Use device name: NVIDIA GeForce RTX 4090\n"
     ]
    },
    {
     "name": "stderr",
     "output_type": "stream",
     "text": [
      "\u001b[1m\u001b[37m\u001b[44m24-04-23 20:23:44|MOD:pipeline    |\u001b[0m: \u001b[1m\u001b[34mModel Specifics:\u001b[0m\n",
      "\u001b[1m\u001b[37m\u001b[41m24-04-23 20:23:44|MOD:pipeline    |\u001b[0m: \u001b[1m\u001b[31mStart Process [Data] at Tue Apr 23 20:23:44 2024!\u001b[0m\n"
     ]
    },
    {
     "name": "stdout",
     "output_type": "stream",
     "text": [
      "--Process Queue : Data + Fit + Test\n",
      "--Start Training New!\n",
      "--Model_name is set to gru_day_ShortTest.3!\n",
      "{'random_seed': None,\n",
      " 'model_name': 'gru_day_ShortTest.3',\n",
      " 'model_module': 'gru',\n",
      " 'model_data_type': 'day',\n",
      " 'model_data_prenorm': {'day': {'divlast': True, 'histnorm': True}},\n",
      " 'labels': ['std_lag1_10'],\n",
      " 'beg_date': 20170103,\n",
      " 'end_date': 20171201,\n",
      " 'interval': 120,\n",
      " 'input_step_day': 5,\n",
      " 'sample_method': 'train_shuffle',\n",
      " 'shuffle_option': 'epoch'}\n",
      "{'hidden_dim': [64],\n",
      " 'seqlens': [{'day': 30, '30m': 30, 'dms': 30}],\n",
      " 'tra_seqlens': [{'hist_loss': 40}],\n",
      " 'dropout': [0.1],\n",
      " 'enc_in': [True],\n",
      " 'enc_att': [False],\n",
      " 'rnn_type': ['lstm'],\n",
      " 'rnn_att': [False],\n",
      " 'rnn_layers': [2],\n",
      " 'dec_mlp_layers': [2],\n",
      " 'num_output': [1],\n",
      " 'kernel_size': [3],\n",
      " 'hidden_as_factor': [False],\n",
      " 'ordered_param_group': [False]}\n",
      "use /home/mengkjin/Workspace/learndl/data/torch_pack/day.20240313.pt\n"
     ]
    },
    {
     "name": "stderr",
     "output_type": "stream",
     "text": [
      "\u001b[1m\u001b[37m\u001b[41m24-04-23 20:23:47|MOD:pipeline    |\u001b[0m: \u001b[1m\u001b[31mFinish Process [Data], Cost 3.1 Secs\u001b[0m\n",
      "\u001b[1m\u001b[37m\u001b[41m24-04-23 20:23:47|MOD:pipeline    |\u001b[0m: \u001b[1m\u001b[31mStart Process [Fit] at Tue Apr 23 20:23:47 2024!\u001b[0m\n"
     ]
    },
    {
     "name": "stdout",
     "output_type": "stream",
     "text": [
      "Pre-Norming method of [day] : {'divlast': True, 'histnorm': True}\n"
     ]
    },
    {
     "name": "stderr",
     "output_type": "stream",
     "text": [
      "Train Ep#  0 loss : 1.01443:   5%|▌         | 1/19 [00:00<00:04,  4.29it/s]"
     ]
    },
    {
     "name": "stdout",
     "output_type": "stream",
     "text": [
      "score function of [spearman] calculated and success!\n",
      "loss function of [pearson] calculated and success!\n"
     ]
    },
    {
     "name": "stderr",
     "output_type": "stream",
     "text": [
      "Train Ep#  0 loss : 1.01103: 100%|██████████| 19/19 [00:00<00:00, 29.34it/s]\n",
      "Valid Ep#  0 score : -0.00845: 100%|██████████| 20/20 [00:00<00:00, 230.74it/s]\n",
      "\u001b[32mFirstBite Ep#  0 : loss  1.01103, train-0.01924, valid-0.00845, best-0.0084, lr1.0e-07\u001b[0m\n",
      "Train Ep#  1 loss : 0.97351: 100%|██████████| 19/19 [00:00<00:00, 45.15it/s]\n",
      "Valid Ep#  1 score : 0.01645: 100%|██████████| 20/20 [00:00<00:00, 225.27it/s]\n",
      "\u001b[32mFirstBite Ep#  1 : loss  0.97351, train 0.04084, valid 0.01645, best 0.0164, lr1.3e-03\u001b[0m\n",
      "Train Ep#  2 loss : 0.94033: 100%|██████████| 19/19 [00:00<00:00, 45.35it/s]\n",
      "Valid Ep#  2 score : 0.05653: 100%|██████████| 20/20 [00:00<00:00, 227.06it/s]\n",
      "\u001b[32mFirstBite Ep#  2 : loss  0.94033, train 0.06928, valid 0.05653, best 0.0565, lr2.5e-03\u001b[0m\n",
      "Train Ep#  3 loss : 0.91602: 100%|██████████| 19/19 [00:00<00:00, 44.83it/s]\n",
      "Valid Ep#  3 score : 0.12367: 100%|██████████| 20/20 [00:00<00:00, 205.47it/s]\n",
      "\u001b[32mFirstBite Ep#  3 : loss  0.91602, train 0.08176, valid 0.12367, best 0.1237, lr3.8e-03\u001b[0m\n",
      "Train Ep#  4 loss : 0.87936: 100%|██████████| 19/19 [00:00<00:00, 42.65it/s]\n",
      "Valid Ep#  4 score : 0.09031: 100%|██████████| 20/20 [00:00<00:00, 224.09it/s]\n",
      "\u001b[32mFirstBite Ep#  4 : loss  0.87936, train 0.11687, valid 0.09031, best 0.1237, lr5.0e-03\u001b[0m\n",
      "Train Ep#  5 loss : 0.85812: 100%|██████████| 19/19 [00:00<00:00, 43.85it/s]\n",
      "Valid Ep#  5 score : 0.11807: 100%|██████████| 20/20 [00:00<00:00, 251.93it/s]\n",
      "\u001b[32mFirstBite Ep#  5 : loss  0.85812, train 0.14063, valid 0.11807, best 0.1237, lr3.8e-03\u001b[0m\n",
      "Train Ep#  6 loss : 0.84259: 100%|██████████| 19/19 [00:00<00:00, 42.09it/s]\n",
      "Valid Ep#  6 score : 0.12979: 100%|██████████| 20/20 [00:00<00:00, 216.91it/s]\n",
      "\u001b[32mFirstBite Ep#  6 : loss  0.84259, train 0.15707, valid 0.12979, best 0.1298, lr2.5e-03\u001b[0m\n",
      "Train Ep#  7 loss : 0.83395: 100%|██████████| 19/19 [00:00<00:00, 43.89it/s]\n",
      "Valid Ep#  7 score : 0.12322: 100%|██████████| 20/20 [00:00<00:00, 247.64it/s]\n",
      "\u001b[32mFirstBite Ep#  7 : loss  0.83395, train 0.16796, valid 0.12322, best 0.1298, lr1.3e-03\u001b[0m\n",
      "Train Ep#  8 loss : 0.82896: 100%|██████████| 19/19 [00:00<00:00, 44.74it/s]\n",
      "Valid Ep#  8 score : 0.12323: 100%|██████████| 20/20 [00:00<00:00, 244.76it/s]\n",
      "\u001b[32mFirstBite Ep#  8 : loss  0.82896, train 0.17300, valid 0.12323, best 0.1298, lr1.0e-07\u001b[0m\n",
      "Train Ep#  9 loss : 0.82981: 100%|██████████| 19/19 [00:00<00:00, 44.88it/s]\n",
      "Valid Ep#  9 score : 0.12789: 100%|██████████| 20/20 [00:00<00:00, 247.19it/s]\n",
      "\u001b[32mFirstBite Ep#  9 : loss  0.82981, train 0.16895, valid 0.12789, best 0.1298, lr6.3e-04\u001b[0m\n",
      "Train Ep# 10 loss : 0.82553: 100%|██████████| 19/19 [00:00<00:00, 45.33it/s]\n",
      "Valid Ep# 10 score : 0.13597: 100%|██████████| 20/20 [00:00<00:00, 224.10it/s]\n",
      "\u001b[32mFirstBite Ep# 10 : loss  0.82553, train 0.17605, valid 0.13597, best 0.1360, lr1.3e-03\u001b[0m\n",
      "Train Ep# 11 loss : 0.82203: 100%|██████████| 19/19 [00:00<00:00, 43.97it/s]\n",
      "Valid Ep# 11 score : 0.12227: 100%|██████████| 20/20 [00:00<00:00, 220.88it/s]\n",
      "\u001b[32mFirstBite Ep# 11 : loss  0.82203, train 0.18138, valid 0.12227, best 0.1360, lr1.9e-03\u001b[0m\n",
      "Train Ep# 12 loss : 0.82038: 100%|██████████| 19/19 [00:00<00:00, 42.12it/s]\n",
      "Valid Ep# 12 score : 0.13338: 100%|██████████| 20/20 [00:00<00:00, 169.35it/s]\n",
      "\u001b[32mFirstBite Ep# 12 : loss  0.82038, train 0.18247, valid 0.13338, best 0.1360, lr2.5e-03\u001b[0m\n",
      "Train Ep# 13 loss : 0.81150: 100%|██████████| 19/19 [00:00<00:00, 43.98it/s]\n",
      "Valid Ep# 13 score : 0.13394: 100%|██████████| 20/20 [00:00<00:00, 237.45it/s]\n",
      "\u001b[32mFirstBite Ep# 13 : loss  0.81150, train 0.19434, valid 0.13394, best 0.1360, lr1.9e-03\u001b[0m\n",
      "Train Ep# 14 loss : 0.80757: 100%|██████████| 19/19 [00:00<00:00, 45.26it/s]\n",
      "Valid Ep# 14 score : 0.13286: 100%|██████████| 20/20 [00:00<00:00, 249.17it/s]\n",
      "\u001b[32mFirstBite Ep# 14 : loss  0.80757, train 0.19952, valid 0.13286, best 0.1360, lr1.3e-03\u001b[0m\n",
      "Train Ep# 15 loss : 0.80211: 100%|██████████| 19/19 [00:00<00:00, 45.03it/s]\n",
      "Valid Ep# 15 score : 0.15126: 100%|██████████| 20/20 [00:00<00:00, 236.23it/s]\n",
      "\u001b[32mFirstBite Ep# 15 : loss  0.80211, train 0.20620, valid 0.15126, best 0.1513, lr6.3e-04\u001b[0m\n",
      "Train Ep# 16 loss : 0.79993: 100%|██████████| 19/19 [00:00<00:00, 45.50it/s]\n",
      "Valid Ep# 16 score : 0.15125: 100%|██████████| 20/20 [00:00<00:00, 249.55it/s]\n",
      "\u001b[32mFirstBite Ep# 16 : loss  0.79993, train 0.20871, valid 0.15125, best 0.1513, lr1.0e-07\u001b[0m\n",
      "Train Ep# 17 loss : 0.79929: 100%|██████████| 19/19 [00:00<00:00, 45.36it/s]\n",
      "Valid Ep# 17 score : 0.13911: 100%|██████████| 20/20 [00:00<00:00, 252.75it/s]\n",
      "\u001b[32mFirstBite Ep# 17 : loss  0.79929, train 0.20928, valid 0.13911, best 0.1513, lr3.1e-04\u001b[0m\n",
      "Train Ep# 18 loss : 0.79893: 100%|██████████| 19/19 [00:00<00:00, 45.24it/s]\n",
      "Valid Ep# 18 score : 0.15276: 100%|██████████| 20/20 [00:00<00:00, 231.98it/s]\n",
      "\u001b[32mFirstBite Ep# 18 : loss  0.79893, train 0.21019, valid 0.15276, best 0.1528, lr6.3e-04\u001b[0m\n",
      "Train Ep# 19 loss : 0.79620: 100%|██████████| 19/19 [00:00<00:00, 45.52it/s]\n",
      "Valid Ep# 19 score : 0.15166: 100%|██████████| 20/20 [00:00<00:00, 251.77it/s]\n",
      "\u001b[32mFirstBite Ep# 19 : loss  0.79620, train 0.21301, valid 0.15166, best 0.1528, lr9.4e-04\u001b[0m\n"
     ]
    },
    {
     "name": "stdout",
     "output_type": "stream",
     "text": [
      "best\n",
      "swalast\n",
      "swabest\n"
     ]
    },
    {
     "name": "stderr",
     "output_type": "stream",
     "text": [
      "\u001b[1m\u001b[37m\u001b[44m24-04-23 20:24:00|MOD:ModelModule |\u001b[0m: \u001b[1m\u001b[34mgru_day_ShortTest.3 #0 @20170103|FirstBite Ep# 19 Max Epoch|Train 0.2130 Valid 0.1517 BestVal 0.1528|Cost  0.2Min,  0.6Sec/Ep\u001b[0m\n",
      "Train Ep#  0 loss : 0.99284: 100%|██████████| 20/20 [00:00<00:00, 44.92it/s]\n",
      "Valid Ep#  0 score : -0.02686: 100%|██████████| 20/20 [00:00<00:00, 201.57it/s]\n",
      "\u001b[32mFirstBite Ep#  0 : loss  0.99284, train 0.01599, valid-0.02686, best-0.0269, lr1.0e-07\u001b[0m\n",
      "Train Ep#  1 loss : 0.97501: 100%|██████████| 20/20 [00:00<00:00, 44.19it/s]\n",
      "Valid Ep#  1 score : 0.04939: 100%|██████████| 20/20 [00:00<00:00, 203.00it/s]\n",
      "\u001b[32mFirstBite Ep#  1 : loss  0.97501, train 0.03800, valid 0.04939, best 0.0494, lr1.3e-03\u001b[0m\n",
      "Train Ep#  2 loss : 0.94417: 100%|██████████| 20/20 [00:00<00:00, 44.75it/s]\n",
      "Valid Ep#  2 score : 0.06969: 100%|██████████| 20/20 [00:00<00:00, 203.89it/s]\n",
      "\u001b[32mFirstBite Ep#  2 : loss  0.94417, train 0.06783, valid 0.06969, best 0.0697, lr2.5e-03\u001b[0m\n",
      "Train Ep#  3 loss : 0.91583: 100%|██████████| 20/20 [00:00<00:00, 43.79it/s]\n",
      "Valid Ep#  3 score : 0.05630: 100%|██████████| 20/20 [00:00<00:00, 188.20it/s]\n",
      "\u001b[32mFirstBite Ep#  3 : loss  0.91583, train 0.09743, valid 0.05630, best 0.0697, lr3.8e-03\u001b[0m\n",
      "Train Ep#  4 loss : 0.92072: 100%|██████████| 20/20 [00:00<00:00, 43.28it/s]\n",
      "Valid Ep#  4 score : 0.07247: 100%|██████████| 20/20 [00:00<00:00, 195.67it/s]\n",
      "\u001b[32mFirstBite Ep#  4 : loss  0.92072, train 0.08850, valid 0.07247, best 0.0725, lr5.0e-03\u001b[0m\n",
      "Train Ep#  5 loss : 0.90506: 100%|██████████| 20/20 [00:00<00:00, 44.24it/s]\n",
      "Valid Ep#  5 score : 0.08295: 100%|██████████| 20/20 [00:00<00:00, 196.97it/s]\n",
      "\u001b[32mFirstBite Ep#  5 : loss  0.90506, train 0.11862, valid 0.08295, best 0.0830, lr3.8e-03\u001b[0m\n",
      "Train Ep#  6 loss : 0.89227: 100%|██████████| 20/20 [00:00<00:00, 44.15it/s]\n",
      "Valid Ep#  6 score : 0.09832: 100%|██████████| 20/20 [00:00<00:00, 191.94it/s]\n",
      "\u001b[32mFirstBite Ep#  6 : loss  0.89227, train 0.13119, valid 0.09832, best 0.0983, lr2.5e-03\u001b[0m\n",
      "Train Ep#  7 loss : 0.87599: 100%|██████████| 20/20 [00:00<00:00, 40.80it/s]\n",
      "Valid Ep#  7 score : 0.10063: 100%|██████████| 20/20 [00:00<00:00, 188.37it/s]\n",
      "\u001b[32mFirstBite Ep#  7 : loss  0.87599, train 0.15125, valid 0.10063, best 0.1006, lr1.3e-03\u001b[0m\n",
      "Train Ep#  8 loss : 0.86694: 100%|██████████| 20/20 [00:00<00:00, 44.01it/s]\n",
      "Valid Ep#  8 score : 0.10063: 100%|██████████| 20/20 [00:00<00:00, 196.78it/s]\n",
      "\u001b[32mFirstBite Ep#  8 : loss  0.86694, train 0.16241, valid 0.10063, best 0.1006, lr1.0e-07\u001b[0m\n",
      "Train Ep#  9 loss : 0.86671: 100%|██████████| 20/20 [00:00<00:00, 43.96it/s]\n",
      "Valid Ep#  9 score : 0.10154: 100%|██████████| 20/20 [00:00<00:00, 204.82it/s]\n",
      "\u001b[32mFirstBite Ep#  9 : loss  0.86671, train 0.16074, valid 0.10154, best 0.1015, lr6.3e-04\u001b[0m\n",
      "Train Ep# 10 loss : 0.86003: 100%|██████████| 20/20 [00:00<00:00, 43.94it/s]\n",
      "Valid Ep# 10 score : 0.10348: 100%|██████████| 20/20 [00:00<00:00, 201.95it/s]\n",
      "\u001b[32mFirstBite Ep# 10 : loss  0.86003, train 0.16787, valid 0.10348, best 0.1035, lr1.3e-03\u001b[0m\n",
      "Train Ep# 11 loss : 0.85508: 100%|██████████| 20/20 [00:00<00:00, 43.88it/s]\n",
      "Valid Ep# 11 score : 0.11192: 100%|██████████| 20/20 [00:00<00:00, 200.37it/s]\n",
      "\u001b[32mFirstBite Ep# 11 : loss  0.85508, train 0.17042, valid 0.11192, best 0.1119, lr1.9e-03\u001b[0m\n",
      "Train Ep# 12 loss : 0.84986: 100%|██████████| 20/20 [00:00<00:00, 43.91it/s]\n",
      "Valid Ep# 12 score : 0.12663: 100%|██████████| 20/20 [00:00<00:00, 200.63it/s]\n",
      "\u001b[32mFirstBite Ep# 12 : loss  0.84986, train 0.17653, valid 0.12663, best 0.1266, lr2.5e-03\u001b[0m\n",
      "Train Ep# 13 loss : 0.84888: 100%|██████████| 20/20 [00:00<00:00, 42.58it/s]\n",
      "Valid Ep# 13 score : 0.12337: 100%|██████████| 20/20 [00:00<00:00, 170.91it/s]\n",
      "\u001b[32mFirstBite Ep# 13 : loss  0.84888, train 0.17898, valid 0.12337, best 0.1266, lr1.9e-03\u001b[0m\n",
      "Train Ep# 14 loss : 0.83735: 100%|██████████| 20/20 [00:00<00:00, 43.14it/s]\n",
      "Valid Ep# 14 score : 0.11768: 100%|██████████| 20/20 [00:00<00:00, 187.97it/s]\n",
      "\u001b[32mFirstBite Ep# 14 : loss  0.83735, train 0.19339, valid 0.11768, best 0.1266, lr1.3e-03\u001b[0m\n",
      "Train Ep# 15 loss : 0.82925: 100%|██████████| 20/20 [00:00<00:00, 43.96it/s]\n",
      "Valid Ep# 15 score : 0.12753: 100%|██████████| 20/20 [00:00<00:00, 195.15it/s]\n",
      "\u001b[32mFirstBite Ep# 15 : loss  0.82925, train 0.20163, valid 0.12753, best 0.1275, lr6.3e-04\u001b[0m\n",
      "Train Ep# 16 loss : 0.82406: 100%|██████████| 20/20 [00:00<00:00, 43.59it/s]\n",
      "Valid Ep# 16 score : 0.12753: 100%|██████████| 20/20 [00:00<00:00, 194.48it/s]\n",
      "\u001b[32mFirstBite Ep# 16 : loss  0.82406, train 0.20997, valid 0.12753, best 0.1275, lr1.0e-07\u001b[0m\n",
      "Train Ep# 17 loss : 0.82455: 100%|██████████| 20/20 [00:00<00:00, 43.59it/s]\n",
      "Valid Ep# 17 score : 0.13060: 100%|██████████| 20/20 [00:00<00:00, 195.37it/s]\n",
      "\u001b[32mFirstBite Ep# 17 : loss  0.82455, train 0.21026, valid 0.13060, best 0.1306, lr3.1e-04\u001b[0m\n",
      "Train Ep# 18 loss : 0.82253: 100%|██████████| 20/20 [00:00<00:00, 42.89it/s]\n",
      "Valid Ep# 18 score : 0.13514: 100%|██████████| 20/20 [00:00<00:00, 200.85it/s]\n",
      "\u001b[32mFirstBite Ep# 18 : loss  0.82253, train 0.21120, valid 0.13514, best 0.1351, lr6.3e-04\u001b[0m\n",
      "Train Ep# 19 loss : 0.82160: 100%|██████████| 20/20 [00:00<00:00, 43.23it/s]\n",
      "Valid Ep# 19 score : 0.12602: 100%|██████████| 20/20 [00:00<00:00, 196.43it/s]\n",
      "\u001b[32mFirstBite Ep# 19 : loss  0.82160, train 0.21091, valid 0.12602, best 0.1351, lr9.4e-04\u001b[0m\n"
     ]
    },
    {
     "name": "stdout",
     "output_type": "stream",
     "text": [
      "best\n",
      "swalast\n",
      "swabest\n"
     ]
    },
    {
     "name": "stderr",
     "output_type": "stream",
     "text": [
      "\u001b[1m\u001b[37m\u001b[44m24-04-23 20:24:13|MOD:ModelModule |\u001b[0m: \u001b[1m\u001b[34mgru_day_ShortTest.3 #0 @20170704|FirstBite Ep# 19 Max Epoch|Train 0.2109 Valid 0.1260 BestVal 0.1351|Cost  0.2Min,  0.6Sec/Ep\u001b[0m\n",
      "\u001b[1m\u001b[37m\u001b[41m24-04-23 20:24:13|MOD:pipeline    |\u001b[0m: \u001b[1m\u001b[31mFinish Process [Fit], Cost 0.0 Hours, 0.2 Min/model, 0.6 Sec/Epoch\u001b[0m\n",
      "\u001b[1m\u001b[37m\u001b[41m24-04-23 20:24:13|MOD:pipeline    |\u001b[0m: \u001b[1m\u001b[31mStart Process [Test] at Tue Apr 23 20:24:13 2024!\u001b[0m\n",
      "\u001b[1m\u001b[37m\u001b[44m24-04-23 20:24:13|MOD:pipeline    |\u001b[0m: \u001b[1m\u001b[34mEach Model Date Testing Mean Score(spearman):\u001b[0m\n",
      "\u001b[32mModels            0       0       0\u001b[0m\n",
      "\u001b[32mOutput         best swalast swabest\u001b[0m\n",
      "Test best 20170704 score : 0.13735: 100%|██████████| 120/120 [00:00<00:00, 236.30it/s]\n",
      "Test swalast 20170704 score : 0.13472: 100%|██████████| 120/120 [00:00<00:00, 250.02it/s]\n",
      "Test swabest 20170704 score : 0.13801: 100%|██████████| 120/120 [00:00<00:00, 249.16it/s]\n",
      "\u001b[32m20170103     0.1374  0.1347  0.1380\u001b[0m\n",
      "Test best 20171201 score : 0.12309: 100%|██████████| 103/103 [00:00<00:00, 226.49it/s]\n",
      "Test swalast 20171201 score : 0.11941: 100%|██████████| 103/103 [00:00<00:00, 229.23it/s]\n",
      "Test swabest 20171201 score : 0.11885: 100%|██████████| 103/103 [00:00<00:00, 228.91it/s]\n",
      "\u001b[32m20170704     0.1231  0.1194  0.1189\u001b[0m\n",
      "\u001b[32mAllTimeAvg   0.1308  0.1276  0.1292\u001b[0m\n",
      "\u001b[32mAllTimeSum    29.16   28.47   28.80\u001b[0m\n",
      "\u001b[32mStd          0.0908  0.0902  0.0913\u001b[0m\n",
      "\u001b[32mTValue        21.51   21.14   21.13\u001b[0m\n",
      "\u001b[32mAnnIR        7.0577  6.9336  6.9310\u001b[0m\n",
      "\u001b[1m\u001b[37m\u001b[41m24-04-23 20:24:18|MOD:pipeline    |\u001b[0m: \u001b[1m\u001b[31mFinish Process [Test], Cost 4.7 Secs\u001b[0m\n"
     ]
    }
   ],
   "source": [
    "# %% test a specific model\n",
    "from src import ModelTrainer\n",
    "ModelTrainer.fit(stage = 0 , resume = 0 , checkname= 1)"
   ]
  },
  {
   "cell_type": "code",
   "execution_count": null,
   "metadata": {},
   "outputs": [
    {
     "name": "stdout",
     "output_type": "stream",
     "text": [
      "Use device name: NVIDIA GeForce RTX 4090\n"
     ]
    },
    {
     "name": "stderr",
     "output_type": "stream",
     "text": [
      "\u001b[1m\u001b[37m\u001b[41m24-03-31 09:52:11|MOD:data_preprocessing|\u001b[0m: \u001b[1m\u001b[31mif_train is False , Data Processing start!\u001b[0m\n",
      "\u001b[1m\u001b[37m\u001b[45m24-03-31 09:52:11|MOD:data_preprocessing|\u001b[0m: \u001b[1m\u001b[35m3 datas :['y', 'trade_day', 'trade_30m']\u001b[0m\n"
     ]
    },
    {
     "name": "stdout",
     "output_type": "stream",
     "text": [
      "Sun Mar 31 09:52:11 2024 : y start ...\n",
      "labels blocks reading ret10_lag DataBase's ...... cost 0.39 secs\n",
      "labels blocks reading ret20_lag DataBase's ...... cost 0.33 secs\n",
      "labels blocks merging ...... cost 0.05 secs\n",
      "models blocks reading risk_exp DataBase's ...... cost 1.66 secs\n",
      "models blocks merging ...... cost 0.17 secs\n",
      "y blocks process ...... cost 0.88 secs\n",
      "y blocks masking ...... cost 0.05 secs\n",
      "y blocks saving  ...... cost 0.14 secs\n",
      "y blocks norming ...... cost 0.00 secs\n",
      "Sun Mar 31 09:52:14 2024 : y finished! Cost 3.67 Seconds\n",
      "Sun Mar 31 09:52:14 2024 : trade_day start ...\n",
      "trade blocks reading day DataBase's ...... cost 0.56 secs\n",
      "trade_day blocks merging ...... cost 0.00 secs\n",
      "trade_day blocks process ...... cost 0.03 secs\n",
      "trade_day blocks masking ...... cost 0.05 secs\n",
      "trade_day blocks saving  ...... cost 0.16 secs\n",
      "trade_day blocks norming ...... cost 0.00 secs\n",
      "Sun Mar 31 09:52:15 2024 : trade_day finished! Cost 0.81 Seconds\n",
      "Sun Mar 31 09:52:15 2024 : trade_30m start ...\n",
      "trade blocks reading 30min DataBase's ...... cost 2.51 secs\n",
      "trade_30m blocks merging ...... cost 0.00 secs\n",
      "trade blocks reading day DataBase's ...... cost 0.53 secs\n",
      "trade_day blocks merging ...... cost 0.02 secs\n",
      "trade_30m blocks process ...... cost 0.95 secs\n",
      "trade_30m blocks masking ...... cost 0.05 secs\n",
      "trade_30m blocks saving  ..."
     ]
    },
    {
     "name": "stderr",
     "output_type": "stream",
     "text": [
      "\u001b[1m\u001b[37m\u001b[41m24-03-31 09:52:21|MOD:data_preprocessing|\u001b[0m: \u001b[1m\u001b[31mData Processing Finished! Cost 10.02 Seconds\u001b[0m\n"
     ]
    },
    {
     "name": "stdout",
     "output_type": "stream",
     "text": [
      "... cost 1.13 secs\n",
      "trade_30m blocks norming ...... cost 0.00 secs\n",
      "Sun Mar 31 09:52:21 2024 : trade_30m finished! Cost 5.19 Seconds\n"
     ]
    }
   ],
   "source": [
    "# prepare data\n",
    "from src import DataModule\n",
    "DataModule.prepare_data()"
   ]
  }
 ],
 "metadata": {
  "kernelspec": {
   "display_name": "Python 3",
   "language": "python",
   "name": "python3"
  },
  "language_info": {
   "codemirror_mode": {
    "name": "ipython",
    "version": 3
   },
   "file_extension": ".py",
   "mimetype": "text/x-python",
   "name": "python",
   "nbconvert_exporter": "python",
   "pygments_lexer": "ipython3",
   "version": "3.10.12"
  }
 },
 "nbformat": 4,
 "nbformat_minor": 2
}
