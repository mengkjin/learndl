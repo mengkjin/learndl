{
 "cells": [
  {
   "cell_type": "code",
   "execution_count": 5,
   "metadata": {},
   "outputs": [
    {
     "data": {
      "text/plain": [
       "3"
      ]
     },
     "execution_count": 5,
     "metadata": {},
     "output_type": "execute_result"
    }
   ],
   "source": [
    "import numpy as np\n",
    "\n",
    "a = np.zeros((2,2,2))\n",
    "a.ndim"
   ]
  },
  {
   "cell_type": "code",
   "execution_count": null,
   "metadata": {},
   "outputs": [],
   "source": []
  },
  {
   "cell_type": "code",
   "execution_count": null,
   "metadata": {},
   "outputs": [],
   "source": []
  },
  {
   "cell_type": "code",
   "execution_count": 1,
   "metadata": {},
   "outputs": [
    {
     "name": "stdout",
     "output_type": "stream",
     "text": [
      "False 2.2.0+cpu\n"
     ]
    }
   ],
   "source": [
    "import torch\n",
    "print(torch.cuda.is_available() , torch.__version__)"
   ]
  },
  {
   "cell_type": "code",
   "execution_count": 2,
   "metadata": {},
   "outputs": [
    {
     "name": "stderr",
     "output_type": "stream",
     "text": [
      "\u001b[1m\u001b[37m\u001b[44m24-05-01 06:32:20|MOD:display     |\u001b[0m: \u001b[1m\u001b[34mModel Specifics:\u001b[0m\n",
      "\u001b[1m\u001b[37m\u001b[41m24-05-01 06:32:20|MOD:display     |\u001b[0m: \u001b[1m\u001b[31mStart Process [Data] at Wed May  1 06:32:20 2024!\u001b[0m\n"
     ]
    },
    {
     "name": "stdout",
     "output_type": "stream",
     "text": [
      "--Process Queue : Data + Fit + Test\n",
      "--Start Training New!\n",
      "--Model_name is set to gru_day_ShortTest.12!\n",
      "Callback : DynamicDataLink() , assign / unlink dynamic data in tra networks\n",
      "Callback : ResetOptimizer(num_reset=2,trigger=40,recover_level=1.0,speedup2x=True) , reset optimizer on some epoch (can speedup scheduler)\n",
      "Callback : CallbackTimer() , record time cost of callback hooks\n",
      "Callback : EarlyStoppage(patience=20) , stop fitting when validation score cease to improve\n",
      "Callback : ValidationConverge(patience=5,eps=1e-05) , stop fitting when valid_score converge\n",
      "Callback : EarlyExitRetrain(earliest=20,max_attempt=4,lr_multiplier=[1, 0.1, 10, 0.01, 100, 1]) , retrain with new lr if fitting stopped too early\n",
      "Callback : NanLossRetrain(max_attempt=4) , retrain if fitting encounters nan loss\n",
      "Callback : BatchDisplay(verbosity=10) , display batch progress bar\n",
      "Callback : StatusDisplay(verbosity=10) , display epoch / event information\n",
      "{'random_seed': None,\n",
      " 'model_name': 'gru_day_ShortTest.12',\n",
      " 'model_module': 'gru',\n",
      " 'model_data_type': 'day',\n",
      " 'model_data_prenorm': {'day': {'divlast': True, 'histnorm': True}},\n",
      " 'labels': ['std_lag1_10'],\n",
      " 'beg_date': 20170103,\n",
      " 'end_date': 20170228,\n",
      " 'interval': 120,\n",
      " 'input_step_day': 5,\n",
      " 'max_epoch': 3,\n",
      " 'sample_method': 'train_shuffle',\n",
      " 'shuffle_option': 'epoch'}\n",
      "{'hidden_dim': [64],\n",
      " 'seqlens': [{'day': 30, '30m': 30, 'dms': 30}],\n",
      " 'tra_seqlens': [{'hist_loss': 40}],\n",
      " 'dropout': [0.1],\n",
      " 'enc_in': [True],\n",
      " 'enc_att': [False],\n",
      " 'rnn_type': ['lstm'],\n",
      " 'rnn_att': [False],\n",
      " 'rnn_layers': [2],\n",
      " 'dec_mlp_layers': [2],\n",
      " 'num_output': [1],\n",
      " 'kernel_size': [3],\n",
      " 'hidden_as_factor': [False],\n",
      " 'ordered_param_group': [False]}\n",
      "use d:\\Coding\\learndl\\learndl\\data\\torch_pack/day.20240315.pt\n"
     ]
    },
    {
     "name": "stderr",
     "output_type": "stream",
     "text": [
      "\u001b[1m\u001b[37m\u001b[41m24-05-01 06:32:21|MOD:display     |\u001b[0m: \u001b[1m\u001b[31mFinish Process [Data], Cost 1.7 Secs\u001b[0m\n",
      "\u001b[1m\u001b[37m\u001b[41m24-05-01 06:32:21|MOD:display     |\u001b[0m: \u001b[1m\u001b[31mStart Process [Fit] at Wed May  1 06:32:21 2024!\u001b[0m\n"
     ]
    },
    {
     "name": "stdout",
     "output_type": "stream",
     "text": [
      "Pre-Norming method of [day] : {'divlast': True, 'histnorm': True}\n"
     ]
    },
    {
     "name": "stderr",
     "output_type": "stream",
     "text": [
      "Train Ep#  0 loss : 0.98505: 100%|██████████| 10/10 [00:25<00:00,  2.53s/it]\n",
      "Valid Ep#  0 score : 0.12133: 100%|██████████| 10/10 [00:02<00:00,  4.56it/s]\n",
      "\u001b[32mFirstBite Ep#  0 : loss  0.98505, train 0.01809, valid 0.12133, best 0.1213, lr1.3e-03\u001b[0m\n",
      "Train Ep#  1 loss : 0.95501: 100%|██████████| 10/10 [00:22<00:00,  2.21s/it]\n",
      "Valid Ep#  1 score : 0.07842: 100%|██████████| 10/10 [00:02<00:00,  4.66it/s]\n",
      "\u001b[32mFirstBite Ep#  1 : loss  0.95501, train 0.04412, valid 0.07842, best 0.1213, lr2.5e-03\u001b[0m\n",
      "Train Ep#  2 loss : 0.92590: 100%|██████████| 10/10 [00:21<00:00,  2.17s/it]\n",
      "Valid Ep#  2 score : 0.11272: 100%|██████████| 10/10 [00:02<00:00,  4.42it/s]\n",
      "\u001b[32mFirstBite Ep#  2 : loss  0.92590, train 0.08410, valid 0.11272, best 0.1213, lr3.8e-03\u001b[0m\n",
      "Train Ep#  3 loss : 0.90334: 100%|██████████| 10/10 [00:22<00:00,  2.21s/it]\n",
      "Valid Ep#  3 score : 0.09889: 100%|██████████| 10/10 [00:02<00:00,  4.34it/s]\n",
      "\u001b[32mFirstBite Ep#  3 : loss  0.90334, train 0.11483, valid 0.09889, best 0.1213, lr5.0e-03\u001b[0m\n",
      "\u001b[1m\u001b[37m\u001b[44m24-05-01 06:34:22|MOD:display     |\u001b[0m: \u001b[1m\u001b[34mgru_day_ShortTest.12 #0 @20170103|FirstBite Ep#  4 Max Epoch|Train 0.1148 Valid 0.0989 BestVal 0.1213|Cost  2.0Min, 24.0Sec/Ep\u001b[0m\n",
      "\u001b[1m\u001b[37m\u001b[41m24-05-01 06:34:22|MOD:display     |\u001b[0m: \u001b[1m\u001b[31mFinish Process [Fit], Cost 0.0 Hours, 2.0 Min/model, 30.3 Sec/Epoch\u001b[0m\n",
      "\u001b[1m\u001b[37m\u001b[41m24-05-01 06:34:22|MOD:display     |\u001b[0m: \u001b[1m\u001b[31mStart Process [Test] at Wed May  1 06:34:22 2024!\u001b[0m\n",
      "\u001b[1m\u001b[37m\u001b[44m24-05-01 06:34:22|MOD:display     |\u001b[0m: \u001b[1m\u001b[34mEach Model Date Testing Mean Score(spearman):\u001b[0m\n",
      "\u001b[32mModels            0       0       0\u001b[0m\n",
      "\u001b[32mOutput         best swalast swabest\u001b[0m\n",
      "Test best 20170228 score : 0.01220: 100%|██████████| 35/35 [00:09<00:00,  3.72it/s]\n",
      "Test swalast 20170228 score : 0.07651: 100%|██████████| 35/35 [00:09<00:00,  3.82it/s]\n",
      "Test swabest 20170228 score : 0.08169: 100%|██████████| 35/35 [00:09<00:00,  3.85it/s]\n",
      "\u001b[32m20170103     0.0122  0.0765  0.0817\u001b[0m\n",
      "\u001b[32mAllTimeAvg   0.0122  0.0765  0.0817\u001b[0m\n",
      "\u001b[32mAllTimeSum     0.43    2.68    2.86\u001b[0m\n",
      "\u001b[32mStd          0.0193  0.0404  0.0422\u001b[0m\n",
      "\u001b[32mTValue         3.75   11.20   11.44\u001b[0m\n",
      "\u001b[32mAnnIR        3.1035  9.2719  9.4744\u001b[0m\n",
      "\u001b[1m\u001b[37m\u001b[41m24-05-01 06:34:51|MOD:display     |\u001b[0m: \u001b[1m\u001b[31mFinish Process [Test], Cost 28.3 Secs\u001b[0m\n"
     ]
    },
    {
     "name": "stdout",
     "output_type": "stream",
     "text": [
      "                    hook_name  num_calls  total_time   avg_time\n",
      "10             on_train_batch         40   91.203262   2.280082\n",
      "26              on_test_batch        105   27.487349   0.261784\n",
      "20           on_fit_model_end          1   20.020389  20.020389\n",
      "15        on_validation_batch         40    8.827659   0.220691\n",
      "4          on_fit_model_start          1    0.886645   0.886645\n",
      "23        on_test_model_start          1    0.583928   0.583928\n",
      "27          on_test_batch_end        105    0.095590   0.000910\n",
      "11         on_train_batch_end         40    0.044368   0.001109\n",
      "16    on_validation_batch_end         40    0.040258   0.001006\n",
      "24   on_test_model_type_start          3    0.021821   0.007274\n",
      "30                on_test_end          1    0.020313   0.020313\n",
      "17    on_validation_epoch_end          4    0.017091   0.004273\n",
      "6        on_train_epoch_start          4    0.016066   0.004016\n",
      "18           on_fit_epoch_end          4    0.014108   0.003527\n",
      "31         on_summarize_model          1    0.006133   0.006133\n",
      "13  on_validation_epoch_start          4    0.004535   0.001134\n",
      "25        on_test_batch_start        105    0.002356   0.000022\n",
      "0          on_configure_model          1    0.001997   0.001997\n",
      "22              on_test_start          1    0.001993   0.001993\n",
      "21                 on_fit_end          1    0.001000   0.001000\n",
      "12         on_train_epoch_end          4    0.000998   0.000249\n",
      "1               on_data_start          1    0.000998   0.000998\n",
      "8          on_before_backward         40    0.000997   0.000025\n",
      "7        on_train_batch_start         40    0.000994   0.000025\n",
      "9           on_after_backward         40    0.000000   0.000000\n",
      "19       on_before_save_model          1    0.000000   0.000000\n",
      "5          on_fit_epoch_start          4    0.000000   0.000000\n",
      "3                on_fit_start          1    0.000000   0.000000\n",
      "28     on_test_model_type_end          3    0.000000   0.000000\n",
      "29          on_test_model_end          1    0.000000   0.000000\n",
      "2                 on_data_end          1    0.000000   0.000000\n",
      "14  on_validation_batch_start         40    0.000000   0.000000\n",
      "         keys  num_calls  total_time    avg_time\n",
      "0  everything          1  151.118906  151.118906\n"
     ]
    }
   ],
   "source": [
    "# %% test a specific model\n",
    "from src.interface import ModelTrainer\n",
    "ModelTrainer.main(stage = 0 , resume = 0 , checkname= 1)"
   ]
  },
  {
   "cell_type": "code",
   "execution_count": null,
   "metadata": {},
   "outputs": [
    {
     "name": "stdout",
     "output_type": "stream",
     "text": [
      "Use device name: NVIDIA GeForce RTX 4090\n"
     ]
    },
    {
     "name": "stderr",
     "output_type": "stream",
     "text": [
      "\u001b[1m\u001b[37m\u001b[41m24-03-31 09:52:11|MOD:data_preprocessing|\u001b[0m: \u001b[1m\u001b[31mif_train is False , Data Processing start!\u001b[0m\n",
      "\u001b[1m\u001b[37m\u001b[45m24-03-31 09:52:11|MOD:data_preprocessing|\u001b[0m: \u001b[1m\u001b[35m3 datas :['y', 'trade_day', 'trade_30m']\u001b[0m\n"
     ]
    },
    {
     "name": "stdout",
     "output_type": "stream",
     "text": [
      "Sun Mar 31 09:52:11 2024 : y start ...\n",
      "labels blocks reading ret10_lag DataBase's ...... cost 0.39 secs\n",
      "labels blocks reading ret20_lag DataBase's ...... cost 0.33 secs\n",
      "labels blocks merging ...... cost 0.05 secs\n",
      "models blocks reading risk_exp DataBase's ...... cost 1.66 secs\n",
      "models blocks merging ...... cost 0.17 secs\n",
      "y blocks process ...... cost 0.88 secs\n",
      "y blocks masking ...... cost 0.05 secs\n",
      "y blocks saving  ...... cost 0.14 secs\n",
      "y blocks norming ...... cost 0.00 secs\n",
      "Sun Mar 31 09:52:14 2024 : y finished! Cost 3.67 Seconds\n",
      "Sun Mar 31 09:52:14 2024 : trade_day start ...\n",
      "trade blocks reading day DataBase's ...... cost 0.56 secs\n",
      "trade_day blocks merging ...... cost 0.00 secs\n",
      "trade_day blocks process ...... cost 0.03 secs\n",
      "trade_day blocks masking ...... cost 0.05 secs\n",
      "trade_day blocks saving  ...... cost 0.16 secs\n",
      "trade_day blocks norming ...... cost 0.00 secs\n",
      "Sun Mar 31 09:52:15 2024 : trade_day finished! Cost 0.81 Seconds\n",
      "Sun Mar 31 09:52:15 2024 : trade_30m start ...\n",
      "trade blocks reading 30min DataBase's ...... cost 2.51 secs\n",
      "trade_30m blocks merging ...... cost 0.00 secs\n",
      "trade blocks reading day DataBase's ...... cost 0.53 secs\n",
      "trade_day blocks merging ...... cost 0.02 secs\n",
      "trade_30m blocks process ...... cost 0.95 secs\n",
      "trade_30m blocks masking ...... cost 0.05 secs\n",
      "trade_30m blocks saving  ..."
     ]
    },
    {
     "name": "stderr",
     "output_type": "stream",
     "text": [
      "\u001b[1m\u001b[37m\u001b[41m24-03-31 09:52:21|MOD:data_preprocessing|\u001b[0m: \u001b[1m\u001b[31mData Processing Finished! Cost 10.02 Seconds\u001b[0m\n"
     ]
    },
    {
     "name": "stdout",
     "output_type": "stream",
     "text": [
      "... cost 1.13 secs\n",
      "trade_30m blocks norming ...... cost 0.00 secs\n",
      "Sun Mar 31 09:52:21 2024 : trade_30m finished! Cost 5.19 Seconds\n"
     ]
    }
   ],
   "source": [
    "# prepare data\n",
    "from src.interface import DataModule\n",
    "DataModule.prepare_data()"
   ]
  }
 ],
 "metadata": {
  "kernelspec": {
   "display_name": "Python 3",
   "language": "python",
   "name": "python3"
  },
  "language_info": {
   "codemirror_mode": {
    "name": "ipython",
    "version": 3
   },
   "file_extension": ".py",
   "mimetype": "text/x-python",
   "name": "python",
   "nbconvert_exporter": "python",
   "pygments_lexer": "ipython3",
   "version": "3.11.8"
  }
 },
 "nbformat": 4,
 "nbformat_minor": 2
}
