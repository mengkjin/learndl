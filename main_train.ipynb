{
 "cells": [
  {
   "cell_type": "code",
   "execution_count": 1,
   "metadata": {},
   "outputs": [
    {
     "name": "stdout",
     "output_type": "stream",
     "text": [
      "False 2.2.0+cpu\n"
     ]
    }
   ],
   "source": [
    "import torch\n",
    "print(torch.cuda.is_available() , torch.__version__)"
   ]
  },
  {
   "cell_type": "code",
   "execution_count": 1,
   "metadata": {},
   "outputs": [
    {
     "name": "stdout",
     "output_type": "stream",
     "text": [
      "use d:\\Coding\\learndl\\learndl\\data\\DataSet/day.20240315.pt\n",
      "Pre-Norming method of [day] : {'divlast': True, 'histnorm': True}\n"
     ]
    },
    {
     "data": {
      "text/plain": [
       "<src.interface.data.BoosterDataModule at 0x14846664890>"
      ]
     },
     "execution_count": 1,
     "metadata": {},
     "output_type": "execute_result"
    }
   ],
   "source": [
    "from src.interface.data import BoosterDataModule\n",
    "boost = BoosterDataModule()\n",
    "boost.load_data()"
   ]
  },
  {
   "cell_type": "code",
   "execution_count": 1,
   "metadata": {},
   "outputs": [
    {
     "name": "stderr",
     "output_type": "stream",
     "text": [
      "\u001b[1m\u001b[37m\u001b[44m24-05-22 22:35:16|MOD:display     |\u001b[0m: \u001b[1m\u001b[34mModel Specifics:\u001b[0m\n",
      "\u001b[1m\u001b[37m\u001b[41m24-05-22 22:35:16|MOD:display     |\u001b[0m: \u001b[1m\u001b[31mStart Process [Data] at Wed May 22 22:35:16 2024!\u001b[0m\n"
     ]
    },
    {
     "name": "stdout",
     "output_type": "stream",
     "text": [
      "--Process Queue : Data + Fit + Test\n",
      "--Model_name is set to gru_lgbm_ShortTest!\n",
      "Callback : DynamicDataLink() , assign and unlink dynamic data in tra networks\n",
      "Callback : ResetOptimizer(num_reset=2,trigger=40,recover_level=1.0,speedup2x=True) , reset optimizer on some epoch (can speedup scheduler)\n",
      "Callback : CallbackTimer(verbosity=10) , record time cost of callback hooks\n",
      "Callback : EarlyStoppage(patience=20) , stop fitting when validation score cease to improve\n",
      "Callback : ValidationConverge(patience=5,eps=1e-05) , stop fitting when valid_score converge\n",
      "Callback : EarlyExitRetrain(earliest=10,max_attempt=4,lr_multiplier=[1, 0.1, 10, 0.01, 100, 1]) , retrain with new lr if fitting stopped too early\n",
      "Callback : NanLossRetrain(max_attempt=4) , retrain if fitting encounters nan loss\n",
      "Callback : BatchDisplay(verbosity=10) , display batch progress bar\n",
      "Callback : StatusDisplay(verbosity=10) , display epoch and event information\n",
      "{'random_seed': None,\n",
      " 'model_name': 'gru_lgbm_ShortTest',\n",
      " 'model_module': 'gru',\n",
      " 'model_data_type': 'day',\n",
      " 'beg_date': 20170103,\n",
      " 'end_date': 20170228,\n",
      " 'sample_method': 'train_shuffle',\n",
      " 'shuffle_option': 'epoch',\n",
      " 'lgbm_ensembler': True}\n",
      "{'hidden_dim': [32],\n",
      " 'seqlens': [{'day': 30, '30m': 30, 'dms': 30}],\n",
      " 'tra_seqlens': [{'hist_loss': 40}],\n",
      " 'dropout': [0.1],\n",
      " 'enc_in': [True],\n",
      " 'enc_att': [False],\n",
      " 'rnn_type': ['gru'],\n",
      " 'rnn_att': [False],\n",
      " 'rnn_layers': [2],\n",
      " 'dec_mlp_layers': [2],\n",
      " 'num_output': [1],\n",
      " 'kernel_size': [3],\n",
      " 'hidden_as_factor': [True],\n",
      " 'ordered_param_group': [False]}\n",
      "use d:\\Coding\\learndl\\learndl\\data\\DataSet/day.20240315.pt\n"
     ]
    },
    {
     "name": "stderr",
     "output_type": "stream",
     "text": [
      "\u001b[1m\u001b[37m\u001b[41m24-05-22 22:35:20|MOD:display     |\u001b[0m: \u001b[1m\u001b[31mFinish Process [Data], Cost 3.4 Secs\u001b[0m\n",
      "\u001b[1m\u001b[37m\u001b[41m24-05-22 22:35:20|MOD:display     |\u001b[0m: \u001b[1m\u001b[31mStart Process [Fit] at Wed May 22 22:35:20 2024!\u001b[0m\n"
     ]
    },
    {
     "name": "stdout",
     "output_type": "stream",
     "text": [
      "Pre-Norming method of [day] : {'divlast': True, 'histnorm': True}\n"
     ]
    },
    {
     "name": "stderr",
     "output_type": "stream",
     "text": [
      "  0%|          | 0/10 [00:00<?, ?it/s]"
     ]
    },
    {
     "name": "stdout",
     "output_type": "stream",
     "text": [
      "score function of [spearman] calculated and success!\n",
      "loss function of [pearson] calculated and success!\n"
     ]
    },
    {
     "name": "stderr",
     "output_type": "stream",
     "text": [
      "Train Ep#  0 loss : 1.01243: 100%|██████████| 10/10 [00:09<00:00,  1.03it/s]\n",
      "Valid Ep#  0 score : -0.10938: 100%|██████████| 10/10 [00:01<00:00,  8.52it/s]\n",
      "\u001b[32mFirstBite Ep#  0 : loss  0.99389, train 0.00397, valid-0.04886, best-0.0489, lr1.3e-03\u001b[0m\n",
      "Train Ep#  1 loss : 0.97344: 100%|██████████| 10/10 [00:09<00:00,  1.09it/s]\n",
      "Valid Ep#  1 score : -0.08880: 100%|██████████| 10/10 [00:01<00:00,  8.99it/s]\n",
      "\u001b[32mFirstBite Ep#  1 : loss  0.98146, train 0.01947, valid 0.05836, best 0.0584, lr2.5e-03\u001b[0m\n",
      "Train Ep#  2 loss : 0.94009: 100%|██████████| 10/10 [00:09<00:00,  1.07it/s]\n",
      "Valid Ep#  2 score : 0.07676: 100%|██████████| 10/10 [00:01<00:00,  7.85it/s]\n",
      "\u001b[32mFirstBite Ep#  2 : loss  0.95081, train 0.04833, valid 0.13298, best 0.1330, lr3.8e-03\u001b[0m\n",
      "Train Ep#  3 loss : 0.92807: 100%|██████████| 10/10 [00:09<00:00,  1.07it/s]\n",
      "Valid Ep#  3 score : 0.03724: 100%|██████████| 10/10 [00:01<00:00,  7.84it/s]\n",
      "\u001b[32mFirstBite Ep#  3 : loss  0.93288, train 0.07462, valid 0.13811, best 0.1381, lr5.0e-03\u001b[0m\n",
      "\u001b[1m\u001b[37m\u001b[44m24-05-22 22:36:30|MOD:display     |\u001b[0m: \u001b[1m\u001b[34mgru_lgbm_ShortTest #0 @20170103|FirstBite Ep#  4 Max Epoch|Train 0.0746 Valid 0.1381 BestVal 0.1381|Cost  1.1Min, 13.7Sec/Ep\u001b[0m\n",
      "\u001b[1m\u001b[37m\u001b[41m24-05-22 22:36:30|MOD:display     |\u001b[0m: \u001b[1m\u001b[31mFinish Process [Fit], Cost 0.0 Hours, 1.2 Min/model, 17.6 Sec/Epoch\u001b[0m\n",
      "\u001b[1m\u001b[37m\u001b[41m24-05-22 22:36:30|MOD:display     |\u001b[0m: \u001b[1m\u001b[31mStart Process [Test] at Wed May 22 22:36:30 2024!\u001b[0m\n",
      "\u001b[1m\u001b[37m\u001b[44m24-05-22 22:36:30|MOD:display     |\u001b[0m: \u001b[1m\u001b[34mEach Model Date Testing Mean Score(spearman):\u001b[0m\n",
      "\u001b[32mModels            0       0       0\u001b[0m\n",
      "\u001b[32mOutput         best swalast swabest\u001b[0m\n",
      "Test best 20170228 score : 0.05091: 100%|██████████| 35/35 [00:05<00:00,  6.07it/s]\n",
      "Test swalast 20170228 score : 0.05091: 100%|██████████| 35/35 [00:05<00:00,  6.71it/s]\n",
      "Test swabest 20170228 score : 0.06494: 100%|██████████| 35/35 [00:05<00:00,  6.82it/s]\n",
      "\u001b[32m20170103     0.0968  0.0968  0.1134\u001b[0m\n",
      "\u001b[32mAllTimeAvg   0.0968  0.0968  0.1134\u001b[0m\n",
      "\u001b[32mAllTimeSum     3.39    3.39    3.97\u001b[0m\n",
      "\u001b[32mStd          0.0392  0.0392  0.0421\u001b[0m\n",
      "\u001b[32mTValue        14.60   14.60   15.95\u001b[0m\n",
      "\u001b[32mAnnIR       12.0862 12.0862 13.2043\u001b[0m\n",
      "\u001b[1m\u001b[37m\u001b[41m24-05-22 22:36:47|MOD:display     |\u001b[0m: \u001b[1m\u001b[31mFinish Process [Test], Cost 16.8 Secs\u001b[0m\n",
      "\u001b[1m\u001b[37m\u001b[41m24-05-22 22:36:47|MOD:time        |\u001b[0m: \u001b[1m\u001b[31mMain Process Finished! Cost 1 Minutes 30.7 Seconds\u001b[0m\n"
     ]
    },
    {
     "name": "stdout",
     "output_type": "stream",
     "text": [
      "                    hook_name  num_calls  total_time   avg_time\n",
      "10             on_train_batch         40   37.576258   0.939406\n",
      "21           on_fit_model_end          1   25.732399  25.732399\n",
      "27              on_test_batch        105   15.873141   0.151173\n",
      "15        on_validation_batch         40    4.758962   0.118974\n",
      "4          on_fit_model_start          1    2.210643   2.210643\n",
      "24        on_test_model_start          1    0.643893   0.643893\n",
      "25   on_test_model_type_start          3    0.054397   0.018132\n",
      "17    on_validation_epoch_end          4    0.040606   0.010151\n",
      "29     on_test_model_type_end          3    0.007450   0.002483\n",
      "12         on_train_epoch_end          4    0.001994   0.000498\n",
      "22                 on_fit_end          1    0.000000   0.000000\n",
      "23              on_test_start          1    0.000000   0.000000\n",
      "0          on_configure_model          1    0.000000   0.000000\n",
      "19           on_fit_epoch_end          4    0.000000   0.000000\n",
      "26        on_test_batch_start        105    0.000000   0.000000\n",
      "28          on_test_batch_end        105    0.000000   0.000000\n",
      "30          on_test_model_end          1    0.000000   0.000000\n",
      "31                on_test_end          1    0.000000   0.000000\n",
      "20       on_before_save_model          1    0.000000   0.000000\n",
      "16    on_validation_batch_end         40    0.000000   0.000000\n",
      "18    on_before_fit_epoch_end          4    0.000000   0.000000\n",
      "1               on_data_start          1    0.000000   0.000000\n",
      "14  on_validation_batch_start         40    0.000000   0.000000\n",
      "13  on_validation_epoch_start          4    0.000000   0.000000\n",
      "11         on_train_batch_end         40    0.000000   0.000000\n",
      "9           on_after_backward         40    0.000000   0.000000\n",
      "8          on_before_backward         40    0.000000   0.000000\n",
      "7        on_train_batch_start         40    0.000000   0.000000\n",
      "6        on_train_epoch_start          4    0.000000   0.000000\n",
      "5          on_fit_epoch_start          4    0.000000   0.000000\n",
      "3                on_fit_start          1    0.000000   0.000000\n",
      "2                 on_data_end          1    0.000000   0.000000\n",
      "32         on_summarize_model          1    0.000000   0.000000\n"
     ]
    }
   ],
   "source": [
    "# %% test a specific model\n",
    "from src.interface import ModelTrainer\n",
    "ModelTrainer.main(stage = 0 , resume = 0 , checkname= 1)"
   ]
  },
  {
   "cell_type": "code",
   "execution_count": null,
   "metadata": {},
   "outputs": [],
   "source": [
    "from src.interface import ModelTrainer\n",
    "ModelTrainer.main(stage = 0 , resume = 0 , checkname= 1)\n"
   ]
  },
  {
   "cell_type": "code",
   "execution_count": null,
   "metadata": {},
   "outputs": [],
   "source": [
    "# prepare data\n",
    "from src.interface import NetDataModule\n",
    "NetDataModule.prepare_data()"
   ]
  }
 ],
 "metadata": {
  "kernelspec": {
   "display_name": "Python 3",
   "language": "python",
   "name": "python3"
  },
  "language_info": {
   "codemirror_mode": {
    "name": "ipython",
    "version": 3
   },
   "file_extension": ".py",
   "mimetype": "text/x-python",
   "name": "python",
   "nbconvert_exporter": "python",
   "pygments_lexer": "ipython3",
   "version": "3.11.8"
  }
 },
 "nbformat": 4,
 "nbformat_minor": 2
}
