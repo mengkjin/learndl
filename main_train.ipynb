{
 "cells": [
  {
   "cell_type": "code",
   "execution_count": 48,
   "metadata": {},
   "outputs": [
    {
     "data": {
      "text/plain": [
       "<code object a at 0x72da96fa89d0, file \"/tmp/ipykernel_23721/1472325471.py\", line 31>"
      ]
     },
     "execution_count": 48,
     "metadata": {},
     "output_type": "execute_result"
    }
   ],
   "source": []
  },
  {
   "cell_type": "code",
   "execution_count": 1,
   "metadata": {},
   "outputs": [
    {
     "data": {
      "text/plain": [
       "True"
      ]
     },
     "execution_count": 1,
     "metadata": {},
     "output_type": "execute_result"
    }
   ],
   "source": [
    "import torch\n",
    "torch.cuda.is_available()"
   ]
  },
  {
   "cell_type": "code",
   "execution_count": 1,
   "metadata": {},
   "outputs": [
    {
     "name": "stdout",
     "output_type": "stream",
     "text": [
      "Use device name: NVIDIA GeForce RTX 4090\n"
     ]
    },
    {
     "name": "stderr",
     "output_type": "stream",
     "text": [
      "\u001b[1m\u001b[37m\u001b[44m24-04-25 00:54:09|MOD:pipeline    |\u001b[0m: \u001b[1m\u001b[34mModel Specifics:\u001b[0m\n",
      "\u001b[1m\u001b[37m\u001b[41m24-04-25 00:54:09|MOD:pipeline    |\u001b[0m: \u001b[1m\u001b[31mStart Process [Data] at Thu Apr 25 00:54:09 2024!\u001b[0m\n"
     ]
    },
    {
     "name": "stdout",
     "output_type": "stream",
     "text": [
      "--Process Queue : Data + Fit + Test\n",
      "--Start Training New!\n",
      "--Model_name is set to gru_day_ShortTest.11!\n",
      "{'random_seed': None,\n",
      " 'model_name': 'gru_day_ShortTest.11',\n",
      " 'model_module': 'gru',\n",
      " 'model_data_type': 'day',\n",
      " 'model_data_prenorm': {'day': {'divlast': True, 'histnorm': True}},\n",
      " 'labels': ['std_lag1_10'],\n",
      " 'beg_date': 20170103,\n",
      " 'end_date': 20171201,\n",
      " 'interval': 120,\n",
      " 'input_step_day': 5,\n",
      " 'sample_method': 'train_shuffle',\n",
      " 'shuffle_option': 'epoch'}\n",
      "{'hidden_dim': [64],\n",
      " 'seqlens': [{'day': 30, '30m': 30, 'dms': 30}],\n",
      " 'tra_seqlens': [{'hist_loss': 40}],\n",
      " 'dropout': [0.1],\n",
      " 'enc_in': [True],\n",
      " 'enc_att': [False],\n",
      " 'rnn_type': ['lstm'],\n",
      " 'rnn_att': [False],\n",
      " 'rnn_layers': [2],\n",
      " 'dec_mlp_layers': [2],\n",
      " 'num_output': [1],\n",
      " 'kernel_size': [3],\n",
      " 'hidden_as_factor': [False],\n",
      " 'ordered_param_group': [False]}\n",
      "use /home/mengkjin/Workspace/learndl/data/torch_pack/day.20240313.pt\n"
     ]
    },
    {
     "name": "stderr",
     "output_type": "stream",
     "text": [
      "\u001b[1m\u001b[37m\u001b[41m24-04-25 00:54:12|MOD:pipeline    |\u001b[0m: \u001b[1m\u001b[31mFinish Process [Data], Cost 3.2 Secs\u001b[0m\n",
      "\u001b[1m\u001b[37m\u001b[41m24-04-25 00:54:12|MOD:pipeline    |\u001b[0m: \u001b[1m\u001b[31mStart Process [Fit] at Thu Apr 25 00:54:12 2024!\u001b[0m\n"
     ]
    },
    {
     "name": "stdout",
     "output_type": "stream",
     "text": [
      "Pre-Norming method of [day] : {'divlast': True, 'histnorm': True}\n"
     ]
    },
    {
     "name": "stderr",
     "output_type": "stream",
     "text": [
      "Train Ep#  0 loss : 0.99869:   5%|▌         | 1/19 [00:00<00:04,  4.18it/s]"
     ]
    },
    {
     "name": "stdout",
     "output_type": "stream",
     "text": [
      "score function of [spearman] calculated and success!\n",
      "loss function of [pearson] calculated and success!\n"
     ]
    },
    {
     "name": "stderr",
     "output_type": "stream",
     "text": [
      "Train Ep#  0 loss : 1.00020: 100%|██████████| 19/19 [00:00<00:00, 29.91it/s]\n",
      "Valid Ep#  0 score : -0.02474: 100%|██████████| 20/20 [00:00<00:00, 305.36it/s]\n",
      "\u001b[32mFirstBite Ep#  0 : loss  1.00020, train-0.00622, valid-0.02474, best-0.0247, lr1.0e-07\u001b[0m\n",
      "\u001b[32mFirstBite Ep#  0 : loss  1.00020, train-0.00622, valid-0.02474, best-0.0247, lr1.0e-07, Next attempt goes!\u001b[0m\n",
      "Train Ep#  1 loss : 0.97035: 100%|██████████| 19/19 [00:00<00:00, 48.41it/s]\n",
      "Valid Ep#  1 score : 0.02002: 100%|██████████| 20/20 [00:00<00:00, 334.26it/s]\n",
      "\u001b[32mFirstBite Ep#  1 : loss  0.97035, train 0.04866, valid 0.02002, best 0.0200, lr1.3e-03\u001b[0m\n",
      "\u001b[32mFirstBite Ep#  1 : loss  0.97035, train 0.04866, valid 0.02002, best 0.0200, lr1.3e-03, Next attempt goes!\u001b[0m\n",
      "Train Ep#  2 loss : 0.94710: 100%|██████████| 19/19 [00:00<00:00, 45.49it/s]\n",
      "Valid Ep#  2 score : 0.06911: 100%|██████████| 20/20 [00:00<00:00, 287.46it/s]\n",
      "\u001b[32mFirstBite Ep#  2 : loss  0.94710, train 0.06260, valid 0.06911, best 0.0691, lr2.5e-03\u001b[0m\n",
      "\u001b[32mFirstBite Ep#  2 : loss  0.94710, train 0.06260, valid 0.06911, best 0.0691, lr2.5e-03, Next attempt goes!\u001b[0m\n",
      "Train Ep#  3 loss : 0.92368: 100%|██████████| 19/19 [00:00<00:00, 48.65it/s]\n",
      "Valid Ep#  3 score : 0.06813: 100%|██████████| 20/20 [00:00<00:00, 315.90it/s]\n",
      "\u001b[32mFirstBite Ep#  3 : loss  0.92368, train 0.07796, valid 0.06813, best 0.0691, lr3.8e-03\u001b[0m\n",
      "\u001b[32mFirstBite Ep#  3 : loss  0.92368, train 0.07796, valid 0.06813, best 0.0691, lr3.8e-03, Next attempt goes!\u001b[0m\n",
      "Train Ep#  4 loss : 0.90751: 100%|██████████| 19/19 [00:00<00:00, 47.49it/s]\n",
      "Valid Ep#  4 score : 0.07903: 100%|██████████| 20/20 [00:00<00:00, 274.73it/s]\n",
      "\u001b[32mFirstBite Ep#  4 : loss  0.90751, train 0.09951, valid 0.07903, best 0.0790, lr5.0e-03\u001b[0m\n",
      "\u001b[32mFirstBite Ep#  4 : loss  0.90751, train 0.09951, valid 0.07903, best 0.0790, lr5.0e-03, Next attempt goes!\u001b[0m\n",
      "Train Ep#  5 loss : 0.87794: 100%|██████████| 19/19 [00:00<00:00, 46.73it/s]\n",
      "Valid Ep#  5 score : 0.10455: 100%|██████████| 20/20 [00:00<00:00, 308.95it/s]\n",
      "\u001b[32mFirstBite Ep#  5 : loss  0.87794, train 0.12292, valid 0.10455, best 0.1046, lr3.8e-03\u001b[0m\n",
      "\u001b[32mFirstBite Ep#  5 : loss  0.87794, train 0.12292, valid 0.10455, best 0.1046, lr3.8e-03, Next attempt goes!\u001b[0m\n",
      "Train Ep#  6 loss : 0.86462: 100%|██████████| 19/19 [00:00<00:00, 48.08it/s]\n",
      "Valid Ep#  6 score : 0.11371: 100%|██████████| 20/20 [00:00<00:00, 310.29it/s]\n",
      "\u001b[32mFirstBite Ep#  6 : loss  0.86462, train 0.13780, valid 0.11371, best 0.1137, lr2.5e-03\u001b[0m\n",
      "\u001b[32mFirstBite Ep#  6 : loss  0.86462, train 0.13780, valid 0.11371, best 0.1137, lr2.5e-03, Next attempt goes!\u001b[0m\n",
      "Train Ep#  7 loss : 0.85216: 100%|██████████| 19/19 [00:00<00:00, 47.08it/s]\n",
      "Valid Ep#  7 score : 0.12064: 100%|██████████| 20/20 [00:00<00:00, 309.38it/s]\n",
      "\u001b[32mFirstBite Ep#  7 : loss  0.85216, train 0.14917, valid 0.12064, best 0.1206, lr1.3e-03\u001b[0m\n",
      "\u001b[32mFirstBite Ep#  7 : loss  0.85216, train 0.14917, valid 0.12064, best 0.1206, lr1.3e-03, Next attempt goes!\u001b[0m\n",
      "Train Ep#  8 loss : 0.85003: 100%|██████████| 19/19 [00:00<00:00, 45.44it/s]\n",
      "Valid Ep#  8 score : 0.12065: 100%|██████████| 20/20 [00:00<00:00, 230.06it/s]\n",
      "\u001b[32mFirstBite Ep#  8 : loss  0.85003, train 0.15335, valid 0.12065, best 0.1206, lr1.0e-07\u001b[0m\n",
      "\u001b[32mFirstBite Ep#  8 : loss  0.85003, train 0.15335, valid 0.12065, best 0.1206, lr1.0e-07, Next attempt goes!\u001b[0m\n",
      "Train Ep#  9 loss : 0.84684: 100%|██████████| 19/19 [00:00<00:00, 44.49it/s]\n",
      "Valid Ep#  9 score : 0.12374: 100%|██████████| 20/20 [00:00<00:00, 250.54it/s]\n",
      "\u001b[32mFirstBite Ep#  9 : loss  0.84684, train 0.15352, valid 0.12374, best 0.1237, lr6.3e-04\u001b[0m\n",
      "\u001b[32mFirstBite Ep#  9 : loss  0.84684, train 0.15352, valid 0.12374, best 0.1237, lr6.3e-04, Next attempt goes!\u001b[0m\n",
      "Train Ep# 10 loss : 0.84462: 100%|██████████| 19/19 [00:00<00:00, 46.46it/s]\n",
      "Valid Ep# 10 score : 0.12442: 100%|██████████| 20/20 [00:00<00:00, 240.20it/s]\n",
      "\u001b[32mFirstBite Ep# 10 : loss  0.84462, train 0.15676, valid 0.12442, best 0.1244, lr1.3e-03\u001b[0m\n",
      "\u001b[32mFirstBite Ep# 10 : loss  0.84462, train 0.15676, valid 0.12442, best 0.1244, lr1.3e-03, Next attempt goes!\u001b[0m\n",
      "Train Ep# 11 loss : 0.83881: 100%|██████████| 19/19 [00:00<00:00, 47.77it/s]\n",
      "Valid Ep# 11 score : 0.12190: 100%|██████████| 20/20 [00:00<00:00, 313.41it/s]\n",
      "\u001b[32mFirstBite Ep# 11 : loss  0.83881, train 0.16546, valid 0.12190, best 0.1244, lr1.9e-03\u001b[0m\n",
      "\u001b[32mFirstBite Ep# 11 : loss  0.83881, train 0.16546, valid 0.12190, best 0.1244, lr1.9e-03, Next attempt goes!\u001b[0m\n",
      "Train Ep# 12 loss : 0.83450: 100%|██████████| 19/19 [00:00<00:00, 47.54it/s]\n",
      "Valid Ep# 12 score : 0.11396: 100%|██████████| 20/20 [00:00<00:00, 258.22it/s]\n",
      "\u001b[32mFirstBite Ep# 12 : loss  0.83450, train 0.16756, valid 0.11396, best 0.1244, lr2.5e-03\u001b[0m\n",
      "\u001b[32mFirstBite Ep# 12 : loss  0.83450, train 0.16756, valid 0.11396, best 0.1244, lr2.5e-03, Next attempt goes!\u001b[0m\n",
      "Train Ep# 13 loss : 0.82866: 100%|██████████| 19/19 [00:00<00:00, 44.07it/s]\n",
      "Valid Ep# 13 score : 0.12700: 100%|██████████| 20/20 [00:00<00:00, 296.83it/s]\n",
      "\u001b[32mFirstBite Ep# 13 : loss  0.82866, train 0.17550, valid 0.12700, best 0.1270, lr1.9e-03\u001b[0m\n",
      "\u001b[32mFirstBite Ep# 13 : loss  0.82866, train 0.17550, valid 0.12700, best 0.1270, lr1.9e-03, Next attempt goes!\u001b[0m\n",
      "Train Ep# 14 loss : 0.82270: 100%|██████████| 19/19 [00:00<00:00, 45.68it/s]\n",
      "Valid Ep# 14 score : 0.12599: 100%|██████████| 20/20 [00:00<00:00, 288.72it/s]\n",
      "\u001b[32mFirstBite Ep# 14 : loss  0.82270, train 0.18213, valid 0.12599, best 0.1270, lr1.3e-03\u001b[0m\n",
      "\u001b[32mFirstBite Ep# 14 : loss  0.82270, train 0.18213, valid 0.12599, best 0.1270, lr1.3e-03, Next attempt goes!\u001b[0m\n",
      "Train Ep# 15 loss : 0.81959: 100%|██████████| 19/19 [00:00<00:00, 47.24it/s]\n",
      "Valid Ep# 15 score : 0.12627: 100%|██████████| 20/20 [00:00<00:00, 311.82it/s]\n",
      "\u001b[32mFirstBite Ep# 15 : loss  0.81959, train 0.18610, valid 0.12627, best 0.1270, lr6.3e-04\u001b[0m\n",
      "\u001b[32mFirstBite Ep# 15 : loss  0.81959, train 0.18610, valid 0.12627, best 0.1270, lr6.3e-04, Next attempt goes!\u001b[0m\n",
      "Train Ep# 16 loss : 0.81589: 100%|██████████| 19/19 [00:00<00:00, 46.21it/s]\n",
      "Valid Ep# 16 score : 0.12626: 100%|██████████| 20/20 [00:00<00:00, 237.66it/s]\n",
      "\u001b[32mFirstBite Ep# 16 : loss  0.81589, train 0.19029, valid 0.12626, best 0.1270, lr1.0e-07\u001b[0m\n",
      "\u001b[32mFirstBite Ep# 16 : loss  0.81589, train 0.19029, valid 0.12626, best 0.1270, lr1.0e-07, Next attempt goes!\u001b[0m\n",
      "Train Ep# 17 loss : 0.81689: 100%|██████████| 19/19 [00:00<00:00, 43.70it/s]\n",
      "Valid Ep# 17 score : 0.11967: 100%|██████████| 20/20 [00:00<00:00, 277.85it/s]\n",
      "\u001b[32mFirstBite Ep# 17 : loss  0.81689, train 0.18769, valid 0.11967, best 0.1270, lr3.1e-04\u001b[0m\n",
      "\u001b[32mFirstBite Ep# 17 : loss  0.81689, train 0.18769, valid 0.11967, best 0.1270, lr3.1e-04, Next attempt goes!\u001b[0m\n",
      "Train Ep# 18 loss : 0.81482: 100%|██████████| 19/19 [00:00<00:00, 47.29it/s]\n",
      "Valid Ep# 18 score : 0.12156: 100%|██████████| 20/20 [00:00<00:00, 271.38it/s]\n",
      "\u001b[32mFirstBite Ep# 18 : loss  0.81482, train 0.19045, valid 0.12156, best 0.1270, lr6.3e-04\u001b[0m\n",
      "\u001b[32mFirstBite Ep# 18 : loss  0.81482, train 0.19045, valid 0.12156, best 0.1270, lr6.3e-04, Next attempt goes!\u001b[0m\n",
      "Train Ep# 19 loss : 0.81435: 100%|██████████| 19/19 [00:00<00:00, 46.54it/s]\n",
      "Valid Ep# 19 score : 0.12026: 100%|██████████| 20/20 [00:00<00:00, 261.82it/s]\n",
      "\u001b[32mFirstBite Ep# 19 : loss  0.81435, train 0.19212, valid 0.12026, best 0.1270, lr9.4e-04\u001b[0m\n",
      "\u001b[32mFirstBite Ep# 19 : loss  0.81435, train 0.19212, valid 0.12026, best 0.1270, lr9.4e-04, Next attempt goes!\u001b[0m\n",
      "\u001b[1m\u001b[37m\u001b[44m24-04-25 00:54:24|MOD:pipeline    |\u001b[0m: \u001b[1m\u001b[34mgru_day_ShortTest.11 #0 @20170103|FirstBite Ep# 19 Max Epoch|Train 0.1921 Valid 0.1203 BestVal 0.1270|Cost  0.2Min,  0.5Sec/Ep\u001b[0m\n",
      "Train Ep#  0 loss : 1.00966: 100%|██████████| 20/20 [00:00<00:00, 47.50it/s]\n",
      "Valid Ep#  0 score : -0.00785: 100%|██████████| 20/20 [00:00<00:00, 297.48it/s]\n",
      "\u001b[32mFirstBite Ep#  0 : loss  1.00966, train-0.01384, valid-0.00785, best-0.0079, lr1.0e-07\u001b[0m\n",
      "\u001b[32mFirstBite Ep#  0 : loss  1.00966, train-0.01384, valid-0.00785, best-0.0079, lr1.0e-07, Next attempt goes!\u001b[0m\n",
      "Train Ep#  1 loss : 0.98206: 100%|██████████| 20/20 [00:00<00:00, 48.18it/s]\n",
      "Valid Ep#  1 score : 0.02863: 100%|██████████| 20/20 [00:00<00:00, 302.37it/s]\n",
      "\u001b[32mFirstBite Ep#  1 : loss  0.98206, train 0.02829, valid 0.02863, best 0.0286, lr1.3e-03\u001b[0m\n",
      "\u001b[32mFirstBite Ep#  1 : loss  0.98206, train 0.02829, valid 0.02863, best 0.0286, lr1.3e-03, Next attempt goes!\u001b[0m\n",
      "Train Ep#  2 loss : 0.96363: 100%|██████████| 20/20 [00:00<00:00, 47.80it/s]\n",
      "Valid Ep#  2 score : 0.05834: 100%|██████████| 20/20 [00:00<00:00, 314.72it/s]\n",
      "\u001b[32mFirstBite Ep#  2 : loss  0.96363, train 0.04487, valid 0.05834, best 0.0583, lr2.5e-03\u001b[0m\n",
      "\u001b[32mFirstBite Ep#  2 : loss  0.96363, train 0.04487, valid 0.05834, best 0.0583, lr2.5e-03, Next attempt goes!\u001b[0m\n",
      "Train Ep#  3 loss : 0.93108: 100%|██████████| 20/20 [00:00<00:00, 47.49it/s]\n",
      "Valid Ep#  3 score : 0.07007: 100%|██████████| 20/20 [00:00<00:00, 322.51it/s]\n",
      "\u001b[32mFirstBite Ep#  3 : loss  0.93108, train 0.07868, valid 0.07007, best 0.0701, lr3.8e-03\u001b[0m\n",
      "\u001b[32mFirstBite Ep#  3 : loss  0.93108, train 0.07868, valid 0.07007, best 0.0701, lr3.8e-03, Next attempt goes!\u001b[0m\n",
      "Train Ep#  4 loss : 0.92403: 100%|██████████| 20/20 [00:00<00:00, 46.34it/s]\n",
      "Valid Ep#  4 score : 0.12513: 100%|██████████| 20/20 [00:00<00:00, 286.28it/s]\n",
      "\u001b[32mFirstBite Ep#  4 : loss  0.92403, train 0.09974, valid 0.12513, best 0.1251, lr5.0e-03\u001b[0m\n",
      "\u001b[32mFirstBite Ep#  4 : loss  0.92403, train 0.09974, valid 0.12513, best 0.1251, lr5.0e-03, Next attempt goes!\u001b[0m\n",
      "Train Ep#  5 loss : 0.91778: 100%|██████████| 20/20 [00:00<00:00, 47.60it/s]\n",
      "Valid Ep#  5 score : 0.12187: 100%|██████████| 20/20 [00:00<00:00, 316.70it/s]\n",
      "\u001b[32mFirstBite Ep#  5 : loss  0.91778, train 0.10682, valid 0.12187, best 0.1251, lr3.8e-03\u001b[0m\n",
      "\u001b[32mFirstBite Ep#  5 : loss  0.91778, train 0.10682, valid 0.12187, best 0.1251, lr3.8e-03, Next attempt goes!\u001b[0m\n",
      "Train Ep#  6 loss : 0.91005: 100%|██████████| 20/20 [00:00<00:00, 47.30it/s]\n",
      "Valid Ep#  6 score : 0.11582: 100%|██████████| 20/20 [00:00<00:00, 288.54it/s]\n",
      "\u001b[32mFirstBite Ep#  6 : loss  0.91005, train 0.10942, valid 0.11582, best 0.1251, lr2.5e-03\u001b[0m\n",
      "\u001b[32mFirstBite Ep#  6 : loss  0.91005, train 0.10942, valid 0.11582, best 0.1251, lr2.5e-03, Next attempt goes!\u001b[0m\n",
      "Train Ep#  7 loss : 0.88202: 100%|██████████| 20/20 [00:00<00:00, 44.46it/s]\n",
      "Valid Ep#  7 score : 0.13425: 100%|██████████| 20/20 [00:00<00:00, 271.02it/s]\n",
      "\u001b[32mFirstBite Ep#  7 : loss  0.88202, train 0.14652, valid 0.13425, best 0.1342, lr1.3e-03\u001b[0m\n",
      "\u001b[32mFirstBite Ep#  7 : loss  0.88202, train 0.14652, valid 0.13425, best 0.1342, lr1.3e-03, Next attempt goes!\u001b[0m\n",
      "Train Ep#  8 loss : 0.87174: 100%|██████████| 20/20 [00:00<00:00, 44.88it/s]\n",
      "Valid Ep#  8 score : 0.13425: 100%|██████████| 20/20 [00:00<00:00, 299.69it/s]\n",
      "\u001b[32mFirstBite Ep#  8 : loss  0.87174, train 0.15908, valid 0.13425, best 0.1342, lr1.0e-07\u001b[0m\n",
      "\u001b[32mFirstBite Ep#  8 : loss  0.87174, train 0.15908, valid 0.13425, best 0.1342, lr1.0e-07, Next attempt goes!\u001b[0m\n",
      "Train Ep#  9 loss : 0.87254: 100%|██████████| 20/20 [00:00<00:00, 44.20it/s]\n",
      "Valid Ep#  9 score : 0.13666: 100%|██████████| 20/20 [00:00<00:00, 256.36it/s]\n",
      "\u001b[32mFirstBite Ep#  9 : loss  0.87254, train 0.15781, valid 0.13666, best 0.1367, lr6.3e-04\u001b[0m\n",
      "\u001b[32mFirstBite Ep#  9 : loss  0.87254, train 0.15781, valid 0.13666, best 0.1367, lr6.3e-04, Next attempt goes!\u001b[0m\n",
      "Train Ep# 10 loss : 0.86430: 100%|██████████| 20/20 [00:00<00:00, 45.43it/s]\n",
      "Valid Ep# 10 score : 0.14010: 100%|██████████| 20/20 [00:00<00:00, 221.47it/s]\n",
      "\u001b[32mFirstBite Ep# 10 : loss  0.86430, train 0.16742, valid 0.14010, best 0.1401, lr1.3e-03\u001b[0m\n",
      "\u001b[32mFirstBite Ep# 10 : loss  0.86430, train 0.16742, valid 0.14010, best 0.1401, lr1.3e-03, Next attempt goes!\u001b[0m\n",
      "Train Ep# 11 loss : 0.85666: 100%|██████████| 20/20 [00:00<00:00, 44.43it/s]\n",
      "Valid Ep# 11 score : 0.13412: 100%|██████████| 20/20 [00:00<00:00, 291.08it/s]\n",
      "\u001b[32mFirstBite Ep# 11 : loss  0.85666, train 0.17670, valid 0.13412, best 0.1401, lr1.9e-03\u001b[0m\n",
      "\u001b[32mFirstBite Ep# 11 : loss  0.85666, train 0.17670, valid 0.13412, best 0.1401, lr1.9e-03, Next attempt goes!\u001b[0m\n",
      "Train Ep# 12 loss : 0.85468: 100%|██████████| 20/20 [00:00<00:00, 45.74it/s]\n",
      "Valid Ep# 12 score : 0.14153: 100%|██████████| 20/20 [00:00<00:00, 264.17it/s]\n",
      "\u001b[32mFirstBite Ep# 12 : loss  0.85468, train 0.17677, valid 0.14153, best 0.1415, lr2.5e-03\u001b[0m\n",
      "\u001b[32mFirstBite Ep# 12 : loss  0.85468, train 0.17677, valid 0.14153, best 0.1415, lr2.5e-03, Next attempt goes!\u001b[0m\n",
      "Train Ep# 13 loss : 0.84594: 100%|██████████| 20/20 [00:00<00:00, 44.28it/s]\n",
      "Valid Ep# 13 score : 0.13974: 100%|██████████| 20/20 [00:00<00:00, 294.58it/s]\n",
      "\u001b[32mFirstBite Ep# 13 : loss  0.84594, train 0.18614, valid 0.13974, best 0.1415, lr1.9e-03\u001b[0m\n",
      "\u001b[32mFirstBite Ep# 13 : loss  0.84594, train 0.18614, valid 0.13974, best 0.1415, lr1.9e-03, Next attempt goes!\u001b[0m\n",
      "Train Ep# 14 loss : 0.83831: 100%|██████████| 20/20 [00:00<00:00, 46.93it/s]\n",
      "Valid Ep# 14 score : 0.13786: 100%|██████████| 20/20 [00:00<00:00, 287.73it/s]\n",
      "\u001b[32mFirstBite Ep# 14 : loss  0.83831, train 0.19651, valid 0.13786, best 0.1415, lr1.3e-03\u001b[0m\n",
      "\u001b[32mFirstBite Ep# 14 : loss  0.83831, train 0.19651, valid 0.13786, best 0.1415, lr1.3e-03, Next attempt goes!\u001b[0m\n",
      "Train Ep# 15 loss : 0.83129: 100%|██████████| 20/20 [00:00<00:00, 45.91it/s]\n",
      "Valid Ep# 15 score : 0.13839: 100%|██████████| 20/20 [00:00<00:00, 295.72it/s]\n",
      "\u001b[32mFirstBite Ep# 15 : loss  0.83129, train 0.20284, valid 0.13839, best 0.1415, lr6.3e-04\u001b[0m\n",
      "\u001b[32mFirstBite Ep# 15 : loss  0.83129, train 0.20284, valid 0.13839, best 0.1415, lr6.3e-04, Next attempt goes!\u001b[0m\n",
      "Train Ep# 16 loss : 0.82668: 100%|██████████| 20/20 [00:00<00:00, 43.61it/s]\n",
      "Valid Ep# 16 score : 0.13839: 100%|██████████| 20/20 [00:00<00:00, 235.27it/s]\n",
      "\u001b[32mFirstBite Ep# 16 : loss  0.82668, train 0.20899, valid 0.13839, best 0.1415, lr1.0e-07\u001b[0m\n",
      "\u001b[32mFirstBite Ep# 16 : loss  0.82668, train 0.20899, valid 0.13839, best 0.1415, lr1.0e-07, Next attempt goes!\u001b[0m\n",
      "Train Ep# 17 loss : 0.82715: 100%|██████████| 20/20 [00:00<00:00, 46.01it/s]\n",
      "Valid Ep# 17 score : 0.13917: 100%|██████████| 20/20 [00:00<00:00, 299.83it/s]\n",
      "\u001b[32mFirstBite Ep# 17 : loss  0.82715, train 0.20848, valid 0.13917, best 0.1415, lr3.1e-04\u001b[0m\n",
      "\u001b[32mFirstBite Ep# 17 : loss  0.82715, train 0.20848, valid 0.13917, best 0.1415, lr3.1e-04, Next attempt goes!\u001b[0m\n",
      "Train Ep# 18 loss : 0.82544: 100%|██████████| 20/20 [00:00<00:00, 47.07it/s]\n",
      "Valid Ep# 18 score : 0.13793: 100%|██████████| 20/20 [00:00<00:00, 296.27it/s]\n",
      "\u001b[32mFirstBite Ep# 18 : loss  0.82544, train 0.20865, valid 0.13793, best 0.1415, lr6.3e-04\u001b[0m\n",
      "\u001b[32mFirstBite Ep# 18 : loss  0.82544, train 0.20865, valid 0.13793, best 0.1415, lr6.3e-04, Next attempt goes!\u001b[0m\n",
      "Train Ep# 19 loss : 0.82282: 100%|██████████| 20/20 [00:00<00:00, 46.67it/s]\n",
      "Valid Ep# 19 score : 0.13504: 100%|██████████| 20/20 [00:00<00:00, 293.33it/s]\n",
      "\u001b[32mFirstBite Ep# 19 : loss  0.82282, train 0.21107, valid 0.13504, best 0.1415, lr9.4e-04\u001b[0m\n",
      "\u001b[32mFirstBite Ep# 19 : loss  0.82282, train 0.21107, valid 0.13504, best 0.1415, lr9.4e-04, Next attempt goes!\u001b[0m\n",
      "\u001b[1m\u001b[37m\u001b[44m24-04-25 00:54:36|MOD:pipeline    |\u001b[0m: \u001b[1m\u001b[34mgru_day_ShortTest.11 #0 @20170704|FirstBite Ep# 19 Max Epoch|Train 0.2111 Valid 0.1350 BestVal 0.1415|Cost  0.2Min,  0.5Sec/Ep\u001b[0m\n",
      "\u001b[1m\u001b[37m\u001b[41m24-04-25 00:54:36|MOD:pipeline    |\u001b[0m: \u001b[1m\u001b[31mFinish Process [Fit], Cost 0.0 Hours, 0.2 Min/model, 0.6 Sec/Epoch\u001b[0m\n",
      "\u001b[1m\u001b[37m\u001b[41m24-04-25 00:54:36|MOD:pipeline    |\u001b[0m: \u001b[1m\u001b[31mStart Process [Test] at Thu Apr 25 00:54:36 2024!\u001b[0m\n",
      "\u001b[1m\u001b[37m\u001b[44m24-04-25 00:54:36|MOD:pipeline    |\u001b[0m: \u001b[1m\u001b[34mEach Model Date Testing Mean Score(spearman):\u001b[0m\n",
      "\u001b[32mModels            0       0       0\u001b[0m\n",
      "\u001b[32mOutput         best swalast swabest\u001b[0m\n",
      "Test best 20170704 score : 0.11385: 100%|██████████| 120/120 [00:00<00:00, 268.04it/s]\n",
      "Test swalast 20170704 score : 0.11157: 100%|██████████| 120/120 [00:00<00:00, 284.97it/s]\n",
      "Test swabest 20170704 score : 0.11413: 100%|██████████| 120/120 [00:00<00:00, 282.70it/s]\n",
      "\u001b[32m20170103     0.1138  0.1116  0.1141\u001b[0m\n",
      "Test best 20171201 score : 0.10414: 100%|██████████| 103/103 [00:00<00:00, 265.84it/s]\n",
      "Test swalast 20171201 score : 0.11041: 100%|██████████| 103/103 [00:00<00:00, 272.80it/s]\n",
      "Test swabest 20171201 score : 0.11161: 100%|██████████| 103/103 [00:00<00:00, 270.87it/s]\n",
      "\u001b[32m20170704     0.1041  0.1104  0.1116\u001b[0m\n",
      "\u001b[32mAllTimeAvg   0.1094  0.1110  0.1130\u001b[0m\n",
      "\u001b[32mAllTimeSum    24.39   24.76   25.19\u001b[0m\n",
      "\u001b[32mStd          0.0844  0.0824  0.0802\u001b[0m\n",
      "\u001b[32mTValue        19.35   20.13   21.03\u001b[0m\n",
      "\u001b[32mAnnIR        6.3494  6.6046  6.8976\u001b[0m\n",
      "\u001b[1m\u001b[37m\u001b[41m24-04-25 00:54:40|MOD:pipeline    |\u001b[0m: \u001b[1m\u001b[31mFinish Process [Test], Cost 4.4 Secs\u001b[0m\n"
     ]
    },
    {
     "name": "stdout",
     "output_type": "stream",
     "text": [
      "                         keys  num_calls  total_time   avg_time\n",
      "4                   fit_model          2   23.807548  11.903774\n",
      "9              on_train_batch        780    8.451541   0.010835\n",
      "23                 test_model          2    4.350232   2.175116\n",
      "5          on_fit_model_start          2    1.606556   0.803278\n",
      "24        on_test_model_start          2    1.560287   0.780144\n",
      "16        on_validation_batch        800    1.345165   0.001681\n",
      "27              on_test_batch        669    1.332338   0.001992\n",
      "12         on_train_batch_end        780    0.751679   0.000964\n",
      "17    on_validation_batch_end        800    0.714426   0.000893\n",
      "6        on_train_epoch_start         40    0.647029   0.016176\n",
      "28          on_test_batch_end        669    0.599051   0.000895\n",
      "18    on_validation_epoch_end         40    0.469929   0.011748\n",
      "20           on_fit_model_end          2    0.351886   0.175943\n",
      "30          on_test_model_end          2    0.283505   0.141753\n",
      "7                  load_model          8    0.170025   0.021253\n",
      "14  on_validation_epoch_start         40    0.086988   0.002175\n",
      "13         on_train_epoch_end         40    0.071022   0.001776\n",
      "25   on_test_model_type_start          6    0.052487   0.008748\n",
      "31                on_test_end          1    0.013191   0.013191\n",
      "29     on_test_model_type_end          6    0.010892   0.001815\n",
      "15  on_validation_batch_start        800    0.004498   0.000006\n",
      "8        on_train_batch_start        780    0.004447   0.000006\n",
      "22              on_test_start          1    0.004046   0.004046\n",
      "11          on_after_backward        780    0.003776   0.000005\n",
      "10         on_before_backward        780    0.003472   0.000004\n",
      "2                 on_data_end          1    0.003376   0.003376\n",
      "26        on_test_batch_start        669    0.002959   0.000004\n",
      "0             configure_model          1    0.001802   0.001802\n",
      "21                 on_fit_end          1    0.001357   0.001357\n",
      "3                on_fit_start          1    0.001091   0.001091\n",
      "1               on_data_start          1    0.000959   0.000959\n",
      "19       on_before_save_model          2    0.000048   0.000024\n"
     ]
    }
   ],
   "source": [
    "# %% test a specific model\n",
    "from src import ModelTrainer\n",
    "ModelTrainer.fit(stage = 0 , resume = 0 , checkname= 1)"
   ]
  },
  {
   "cell_type": "code",
   "execution_count": null,
   "metadata": {},
   "outputs": [
    {
     "name": "stdout",
     "output_type": "stream",
     "text": [
      "Use device name: NVIDIA GeForce RTX 4090\n"
     ]
    },
    {
     "name": "stderr",
     "output_type": "stream",
     "text": [
      "\u001b[1m\u001b[37m\u001b[41m24-03-31 09:52:11|MOD:data_preprocessing|\u001b[0m: \u001b[1m\u001b[31mif_train is False , Data Processing start!\u001b[0m\n",
      "\u001b[1m\u001b[37m\u001b[45m24-03-31 09:52:11|MOD:data_preprocessing|\u001b[0m: \u001b[1m\u001b[35m3 datas :['y', 'trade_day', 'trade_30m']\u001b[0m\n"
     ]
    },
    {
     "name": "stdout",
     "output_type": "stream",
     "text": [
      "Sun Mar 31 09:52:11 2024 : y start ...\n",
      "labels blocks reading ret10_lag DataBase's ...... cost 0.39 secs\n",
      "labels blocks reading ret20_lag DataBase's ...... cost 0.33 secs\n",
      "labels blocks merging ...... cost 0.05 secs\n",
      "models blocks reading risk_exp DataBase's ...... cost 1.66 secs\n",
      "models blocks merging ...... cost 0.17 secs\n",
      "y blocks process ...... cost 0.88 secs\n",
      "y blocks masking ...... cost 0.05 secs\n",
      "y blocks saving  ...... cost 0.14 secs\n",
      "y blocks norming ...... cost 0.00 secs\n",
      "Sun Mar 31 09:52:14 2024 : y finished! Cost 3.67 Seconds\n",
      "Sun Mar 31 09:52:14 2024 : trade_day start ...\n",
      "trade blocks reading day DataBase's ...... cost 0.56 secs\n",
      "trade_day blocks merging ...... cost 0.00 secs\n",
      "trade_day blocks process ...... cost 0.03 secs\n",
      "trade_day blocks masking ...... cost 0.05 secs\n",
      "trade_day blocks saving  ...... cost 0.16 secs\n",
      "trade_day blocks norming ...... cost 0.00 secs\n",
      "Sun Mar 31 09:52:15 2024 : trade_day finished! Cost 0.81 Seconds\n",
      "Sun Mar 31 09:52:15 2024 : trade_30m start ...\n",
      "trade blocks reading 30min DataBase's ...... cost 2.51 secs\n",
      "trade_30m blocks merging ...... cost 0.00 secs\n",
      "trade blocks reading day DataBase's ...... cost 0.53 secs\n",
      "trade_day blocks merging ...... cost 0.02 secs\n",
      "trade_30m blocks process ...... cost 0.95 secs\n",
      "trade_30m blocks masking ...... cost 0.05 secs\n",
      "trade_30m blocks saving  ..."
     ]
    },
    {
     "name": "stderr",
     "output_type": "stream",
     "text": [
      "\u001b[1m\u001b[37m\u001b[41m24-03-31 09:52:21|MOD:data_preprocessing|\u001b[0m: \u001b[1m\u001b[31mData Processing Finished! Cost 10.02 Seconds\u001b[0m\n"
     ]
    },
    {
     "name": "stdout",
     "output_type": "stream",
     "text": [
      "... cost 1.13 secs\n",
      "trade_30m blocks norming ...... cost 0.00 secs\n",
      "Sun Mar 31 09:52:21 2024 : trade_30m finished! Cost 5.19 Seconds\n"
     ]
    }
   ],
   "source": [
    "# prepare data\n",
    "from src import DataModule\n",
    "DataModule.prepare_data()"
   ]
  }
 ],
 "metadata": {
  "kernelspec": {
   "display_name": "Python 3",
   "language": "python",
   "name": "python3"
  },
  "language_info": {
   "codemirror_mode": {
    "name": "ipython",
    "version": 3
   },
   "file_extension": ".py",
   "mimetype": "text/x-python",
   "name": "python",
   "nbconvert_exporter": "python",
   "pygments_lexer": "ipython3",
   "version": "3.10.12"
  }
 },
 "nbformat": 4,
 "nbformat_minor": 2
}
