{
 "cells": [
  {
   "cell_type": "code",
   "execution_count": 1,
   "metadata": {},
   "outputs": [
    {
     "data": {
      "text/plain": [
       "True"
      ]
     },
     "execution_count": 1,
     "metadata": {},
     "output_type": "execute_result"
    }
   ],
   "source": [
    "# %% test cuda\n",
    "import torch #type: ignore\n",
    "torch.cuda.is_available()"
   ]
  },
  {
   "cell_type": "code",
   "execution_count": 1,
   "metadata": {},
   "outputs": [
    {
     "name": "stdout",
     "output_type": "stream",
     "text": [
      "Use device name: NVIDIA GeForce RTX 4090\n"
     ]
    },
    {
     "name": "stderr",
     "output_type": "stream",
     "text": [
      "\u001b[1m\u001b[37m\u001b[44m24-04-15 21:05:30|MOD:run_model   |\u001b[0m: \u001b[1m\u001b[34mModel Specifics:\u001b[0m\n",
      "\u001b[1m\u001b[37m\u001b[41m24-04-15 21:05:30|MOD:run_model   |\u001b[0m: \u001b[1m\u001b[31mStart Process [Load Data]!\u001b[0m\n"
     ]
    },
    {
     "name": "stdout",
     "output_type": "stream",
     "text": [
      "--Process Queue : Data + Train + Test\n",
      "--Model_name is set to patch_tst_day.1!\n",
      "{'random_seed': None,\n",
      " 'model_name': 'patch_tst_day.1',\n",
      " 'model_module': 'patch_tst',\n",
      " 'model_data_type': 'day',\n",
      " 'model_data_prenorm': {'day': {'divlast': True, 'histnorm': True}},\n",
      " 'labels': ['std_lag1_10'],\n",
      " 'beg_date': 20170103,\n",
      " 'end_date': 99991231,\n",
      " 'interval': 120,\n",
      " 'input_step_day': 5,\n",
      " 'test_step_day': 1}\n",
      "{'hidden_dim': [32],\n",
      " 'seqlens': [{'day': 30, '30m': 30, 'dms': 30}],\n",
      " 'seq_len': [30],\n",
      " 'dropout': [0.1],\n",
      " 'attn_dropout': [0.1],\n",
      " 'num_output': [1],\n",
      " 'shared_embedding': [True],\n",
      " 'shared_head': [True],\n",
      " 'revin': [True],\n",
      " 'act_type': ['gelu'],\n",
      " 'patch_len': [5],\n",
      " 'stride': [3],\n",
      " 'n_layers': [2],\n",
      " 'n_heads': [4, 8],\n",
      " 'd_ff': [64]}\n",
      "use /home/mengkjin/Workspace/learndl/data/torch_pack/day.20240313.pt\n"
     ]
    },
    {
     "name": "stderr",
     "output_type": "stream",
     "text": [
      "\u001b[1m\u001b[37m\u001b[41m24-04-15 21:05:34|MOD:run_model   |\u001b[0m: \u001b[1m\u001b[31mFinish Process [Load Data]! Cost 3.5Secs\u001b[0m\n",
      "\u001b[1m\u001b[37m\u001b[41m24-04-15 21:05:34|MOD:run_model   |\u001b[0m: \u001b[1m\u001b[31mStart Process [Train Model]!\u001b[0m\n"
     ]
    },
    {
     "name": "stdout",
     "output_type": "stream",
     "text": [
      "Pre-Norming method of [day] : {'divlast': True, 'histnorm': True}\n"
     ]
    },
    {
     "name": "stderr",
     "output_type": "stream",
     "text": [
      "\u001b[32mpatch_tst_day.1 #0 @20170103 LoadData Cost    3.0Secs\u001b[0m\n"
     ]
    },
    {
     "name": "stdout",
     "output_type": "stream",
     "text": [
      "score function of [spearman] calculated and success!\n",
      "loss function of [pearson] calculated and success!\n"
     ]
    },
    {
     "name": "stderr",
     "output_type": "stream",
     "text": [
      "\u001b[32mFirstBite Ep#  0 : loss  1.01165, train 0.00159, valid 0.01128, max 0.0113, best 0.0113, lr1.0e-07\u001b[0m\n",
      "\u001b[32mFirstBite Ep#  5 : loss  0.90180, train 0.11521, valid 0.10733, max 0.1163, best 0.1163, lr3.8e-03\u001b[0m\n",
      "\u001b[32mFirstBite Ep# 10 : loss  0.87819, train 0.13895, valid 0.13269, max 0.1353, best 0.1353, lr1.3e-03\u001b[0m\n",
      "\u001b[32mFirstBite Ep# 15 : loss  0.86444, train 0.15353, valid 0.12595, max 0.1357, best 0.1357, lr6.3e-04\u001b[0m\n",
      "\u001b[32mFirstBite Ep# 20 : loss  0.86327, train 0.15576, valid 0.13975, max 0.1398, best 0.1398, lr1.3e-03\u001b[0m\n",
      "\u001b[32mFirstBite Ep# 25 : loss  0.85325, train 0.16512, valid 0.13098, max 0.1398, best 0.1398, lr1.6e-04\u001b[0m\n",
      "\u001b[32mFirstBite Ep# 30 : loss  0.85068, train 0.16732, valid 0.13598, max 0.1398, best 0.1398, lr3.1e-04\u001b[0m\n",
      "\u001b[32mFirstBite Ep# 35 : loss  0.84864, train 0.16958, valid 0.13063, max 0.1398, best 0.1398, lr2.3e-04\u001b[0m\n",
      "\u001b[32mReset learn rate and scheduler at the end of epoch 39 , effective at epoch 40\u001b[0m\n",
      "\u001b[32mFirstBite Ep# 40 : loss  0.84598, train 0.17233, valid 0.13251, max 0.1398, best 0.1398, lr1.0e-07\u001b[0m\n",
      "\u001b[1m\u001b[37m\u001b[44m24-04-15 21:09:19|MOD:run_model   |\u001b[0m: \u001b[1m\u001b[34mpatch_tst_day.1 #0 @20170103|FirstBite Ep# 40 EarlyStop|Train 0.1723 Valid 0.1325 BestVal 0.1398|Cost  3.7Min,  5.4Sec/Ep\u001b[0m\n",
      "\u001b[32mFirstBite Ep#  0 : loss  0.99037, train 0.01211, valid 0.01230, max 0.0123, best 0.0123, lr1.0e-07\u001b[0m\n",
      "\u001b[32mFirstBite Ep#  5 : loss  0.90624, train 0.10966, valid 0.12027, max 0.1203, best 0.1203, lr3.8e-03\u001b[0m\n",
      "\u001b[32mFirstBite Ep# 10 : loss  0.88384, train 0.13369, valid 0.12247, max 0.1317, best 0.1317, lr1.3e-03\u001b[0m\n",
      "\u001b[32mFirstBite Ep# 15 : loss  0.87086, train 0.14678, valid 0.11531, max 0.1342, best 0.1342, lr6.3e-04\u001b[0m\n",
      "\u001b[32mFirstBite Ep# 20 : loss  0.86753, train 0.15102, valid 0.13906, max 0.1391, best 0.1391, lr1.3e-03\u001b[0m\n",
      "\u001b[32mFirstBite Ep# 25 : loss  0.85994, train 0.15812, valid 0.13039, max 0.1391, best 0.1391, lr1.6e-04\u001b[0m\n",
      "\u001b[32mFirstBite Ep# 30 : loss  0.85707, train 0.16117, valid 0.12616, max 0.1391, best 0.1391, lr3.1e-04\u001b[0m\n",
      "\u001b[32mFirstBite Ep# 35 : loss  0.85502, train 0.16235, valid 0.12922, max 0.1391, best 0.1391, lr2.3e-04\u001b[0m\n",
      "\u001b[32mReset learn rate and scheduler at the end of epoch 39 , effective at epoch 40\u001b[0m\n",
      "\u001b[32mFirstBite Ep# 40 : loss  0.85248, train 0.16607, valid 0.12623, max 0.1391, best 0.1391, lr1.0e-07\u001b[0m\n",
      "\u001b[1m\u001b[37m\u001b[44m24-04-15 21:14:05|MOD:run_model   |\u001b[0m: \u001b[1m\u001b[34mpatch_tst_day.1 #1 @20170103|FirstBite Ep# 40 EarlyStop|Train 0.1661 Valid 0.1262 BestVal 0.1391|Cost  4.8Min,  7.0Sec/Ep\u001b[0m\n",
      "\u001b[1m\u001b[37m\u001b[44m24-04-15 21:17:48|MOD:run_model   |\u001b[0m: \u001b[1m\u001b[34mpatch_tst_day.1 #0 @20170704|FirstBite Ep# 38 EarlyStop|Train 0.1655 Valid 0.1268 BestVal 0.1335|Cost  3.7Min,  5.6Sec/Ep\u001b[0m\n",
      "\u001b[1m\u001b[37m\u001b[44m24-04-15 21:23:36|MOD:run_model   |\u001b[0m: \u001b[1m\u001b[34mpatch_tst_day.1 #1 @20170704|FirstBite Ep# 47 EarlyStop|Train 0.1698 Valid 0.1266 BestVal 0.1374|Cost  5.8Min,  7.2Sec/Ep\u001b[0m\n",
      "\u001b[1m\u001b[37m\u001b[44m24-04-15 21:29:43|MOD:run_model   |\u001b[0m: \u001b[1m\u001b[34mpatch_tst_day.1 #0 @20171226|FirstBite Ep# 62 EarlyStop|Train 0.1649 Valid 0.1095 BestVal 0.1267|Cost  6.1Min,  5.8Sec/Ep\u001b[0m\n",
      "\u001b[1m\u001b[37m\u001b[44m24-04-15 21:34:59|MOD:run_model   |\u001b[0m: \u001b[1m\u001b[34mpatch_tst_day.1 #1 @20171226|FirstBite Ep# 41 EarlyStop|Train 0.1652 Valid 0.1209 BestVal 0.1275|Cost  5.3Min,  7.5Sec/Ep\u001b[0m\n",
      "\u001b[1m\u001b[37m\u001b[44m24-04-15 21:38:08|MOD:run_model   |\u001b[0m: \u001b[1m\u001b[34mpatch_tst_day.1 #0 @20180627|FirstBite Ep# 30 EarlyStop|Train 0.1773 Valid 0.1229 BestVal 0.1261|Cost  3.1Min,  6.0Sec/Ep\u001b[0m\n",
      "\u001b[1m\u001b[37m\u001b[44m24-04-15 21:43:33|MOD:run_model   |\u001b[0m: \u001b[1m\u001b[34mpatch_tst_day.1 #1 @20180627|FirstBite Ep# 41 EarlyStop|Train 0.1645 Valid 0.1093 BestVal 0.1178|Cost  5.4Min,  7.7Sec/Ep\u001b[0m\n",
      "\u001b[1m\u001b[37m\u001b[44m24-04-15 21:47:01|MOD:run_model   |\u001b[0m: \u001b[1m\u001b[34mpatch_tst_day.1 #0 @20181220|FirstBite Ep# 32 EarlyStop|Train 0.1914 Valid 0.0999 BestVal 0.1132|Cost  3.5Min,  6.2Sec/Ep\u001b[0m\n",
      "\u001b[1m\u001b[37m\u001b[44m24-04-15 21:51:03|MOD:run_model   |\u001b[0m: \u001b[1m\u001b[34mpatch_tst_day.1 #1 @20181220|FirstBite Ep# 29 EarlyStop|Train 0.1864 Valid 0.1080 BestVal 0.1112|Cost  4.0Min,  8.1Sec/Ep\u001b[0m\n",
      "\u001b[1m\u001b[37m\u001b[44m24-04-15 21:54:33|MOD:run_model   |\u001b[0m: \u001b[1m\u001b[34mpatch_tst_day.1 #0 @20190624|FirstBite Ep# 31 EarlyStop|Train 0.1848 Valid 0.1076 BestVal 0.1109|Cost  3.5Min,  6.5Sec/Ep\u001b[0m\n",
      "\u001b[1m\u001b[37m\u001b[44m24-04-15 21:58:12|MOD:run_model   |\u001b[0m: \u001b[1m\u001b[34mpatch_tst_day.1 #1 @20190624|FirstBite Ep# 25 EarlyStop|Train 0.1851 Valid 0.1063 BestVal 0.1121|Cost  3.7Min,  8.4Sec/Ep\u001b[0m\n",
      "\u001b[1m\u001b[37m\u001b[44m24-04-15 22:01:11|MOD:run_model   |\u001b[0m: \u001b[1m\u001b[34mpatch_tst_day.1 #0 @20191217|FirstBite Ep# 25 EarlyStop|Train 0.1871 Valid 0.0936 BestVal 0.1034|Cost  3.0Min,  6.8Sec/Ep\u001b[0m\n",
      "\u001b[1m\u001b[37m\u001b[44m24-04-15 22:05:08|MOD:run_model   |\u001b[0m: \u001b[1m\u001b[34mpatch_tst_day.1 #1 @20191217|FirstBite Ep# 26 EarlyStop|Train 0.1856 Valid 0.0970 BestVal 0.1003|Cost  4.0Min,  8.8Sec/Ep\u001b[0m\n",
      "\u001b[1m\u001b[37m\u001b[44m24-04-15 22:08:02|MOD:run_model   |\u001b[0m: \u001b[1m\u001b[34mpatch_tst_day.1 #0 @20200617|FirstBite Ep# 23 EarlyStop|Train 0.1831 Valid 0.0888 BestVal 0.0958|Cost  2.9Min,  7.1Sec/Ep\u001b[0m\n",
      "\u001b[1m\u001b[37m\u001b[44m24-04-15 22:13:03|MOD:run_model   |\u001b[0m: \u001b[1m\u001b[34mpatch_tst_day.1 #1 @20200617|FirstBite Ep# 32 EarlyStop|Train 0.1888 Valid 0.0901 BestVal 0.0965|Cost  5.0Min,  9.1Sec/Ep\u001b[0m\n",
      "\u001b[1m\u001b[37m\u001b[44m24-04-15 22:16:17|MOD:run_model   |\u001b[0m: \u001b[1m\u001b[34mpatch_tst_day.1 #0 @20201214|FirstBite Ep# 25 EarlyStop|Train 0.1773 Valid 0.0915 BestVal 0.1013|Cost  3.2Min,  7.3Sec/Ep\u001b[0m\n",
      "\u001b[1m\u001b[37m\u001b[44m24-04-15 22:20:25|MOD:run_model   |\u001b[0m: \u001b[1m\u001b[34mpatch_tst_day.1 #1 @20201214|FirstBite Ep# 25 EarlyStop|Train 0.1766 Valid 0.0914 BestVal 0.0964|Cost  4.1Min,  9.5Sec/Ep\u001b[0m\n",
      "\u001b[1m\u001b[37m\u001b[44m24-04-15 22:23:46|MOD:run_model   |\u001b[0m: \u001b[1m\u001b[34mpatch_tst_day.1 #0 @20210615|FirstBite Ep# 25 EarlyStop|Train 0.1765 Valid 0.0872 BestVal 0.0946|Cost  3.4Min,  7.6Sec/Ep\u001b[0m\n",
      "\u001b[1m\u001b[37m\u001b[44m24-04-15 22:27:35|MOD:run_model   |\u001b[0m: \u001b[1m\u001b[34mpatch_tst_day.1 #1 @20210615|FirstBite Ep# 22 EarlyStop|Train 0.1758 Valid 0.0856 BestVal 0.0902|Cost  3.8Min,  9.9Sec/Ep\u001b[0m\n",
      "\u001b[1m\u001b[37m\u001b[44m24-04-15 22:31:04|MOD:run_model   |\u001b[0m: \u001b[1m\u001b[34mpatch_tst_day.1 #0 @20211209|FirstBite Ep# 25 EarlyStop|Train 0.1690 Valid 0.0806 BestVal 0.0835|Cost  3.5Min,  7.9Sec/Ep\u001b[0m\n",
      "\u001b[1m\u001b[37m\u001b[44m24-04-15 22:36:31|MOD:run_model   |\u001b[0m: \u001b[1m\u001b[34mpatch_tst_day.1 #1 @20211209|FirstBite Ep# 31 EarlyStop|Train 0.1717 Valid 0.0801 BestVal 0.0837|Cost  5.4Min, 10.2Sec/Ep\u001b[0m\n",
      "\u001b[1m\u001b[37m\u001b[44m24-04-15 22:41:37|MOD:run_model   |\u001b[0m: \u001b[1m\u001b[34mpatch_tst_day.1 #0 @20220613|FirstBite Ep# 36 EarlyStop|Train 0.1617 Valid 0.0841 BestVal 0.0871|Cost  5.1Min,  8.2Sec/Ep\u001b[0m\n",
      "\u001b[1m\u001b[37m\u001b[44m24-04-15 22:47:49|MOD:run_model   |\u001b[0m: \u001b[1m\u001b[34mpatch_tst_day.1 #1 @20220613|FirstBite Ep# 34 EarlyStop|Train 0.1632 Valid 0.0873 BestVal 0.0937|Cost  6.2Min, 10.6Sec/Ep\u001b[0m\n",
      "\u001b[1m\u001b[37m\u001b[44m24-04-15 22:52:40|MOD:run_model   |\u001b[0m: \u001b[1m\u001b[34mpatch_tst_day.1 #0 @20221206|FirstBite Ep# 33 EarlyStop|Train 0.1635 Valid 0.0857 BestVal 0.0926|Cost  4.8Min,  8.5Sec/Ep\u001b[0m\n",
      "\u001b[1m\u001b[37m\u001b[44m24-04-15 22:58:23|MOD:run_model   |\u001b[0m: \u001b[1m\u001b[34mpatch_tst_day.1 #1 @20221206|FirstBite Ep# 30 EarlyStop|Train 0.1581 Valid 0.0849 BestVal 0.0886|Cost  5.7Min, 11.0Sec/Ep\u001b[0m\n",
      "\u001b[1m\u001b[37m\u001b[44m24-04-15 23:03:17|MOD:run_model   |\u001b[0m: \u001b[1m\u001b[34mpatch_tst_day.1 #0 @20230606|FirstBite Ep# 32 EarlyStop|Train 0.1546 Valid 0.0874 BestVal 0.0987|Cost  4.9Min,  8.8Sec/Ep\u001b[0m\n",
      "\u001b[1m\u001b[37m\u001b[44m24-04-15 23:08:27|MOD:run_model   |\u001b[0m: \u001b[1m\u001b[34mpatch_tst_day.1 #1 @20230606|FirstBite Ep# 26 EarlyStop|Train 0.1591 Valid 0.0830 BestVal 0.1004|Cost  5.2Min, 11.5Sec/Ep\u001b[0m\n",
      "\u001b[1m\u001b[37m\u001b[44m24-04-15 23:12:23|MOD:run_model   |\u001b[0m: \u001b[1m\u001b[34mpatch_tst_day.1 #0 @20231201|FirstBite Ep# 24 EarlyStop|Train 0.1539 Valid 0.0775 BestVal 0.0993|Cost  3.9Min,  9.3Sec/Ep\u001b[0m\n",
      "\u001b[1m\u001b[37m\u001b[44m24-04-15 23:17:10|MOD:run_model   |\u001b[0m: \u001b[1m\u001b[34mpatch_tst_day.1 #1 @20231201|FirstBite Ep# 23 EarlyStop|Train 0.1536 Valid 0.0798 BestVal 0.1017|Cost  4.8Min, 12.0Sec/Ep\u001b[0m\n",
      "\u001b[1m\u001b[37m\u001b[41m24-04-15 23:17:10|MOD:run_model   |\u001b[0m: \u001b[1m\u001b[31mFinish Process [Train Model]! Cost 2.2 Hours, 4.4 Min/model, 8.0 Sec/Epoch\u001b[0m\n",
      "\u001b[1m\u001b[37m\u001b[41m24-04-15 23:17:10|MOD:run_model   |\u001b[0m: \u001b[1m\u001b[31mStart Process [Test Model]!\u001b[0m\n",
      "\u001b[1m\u001b[37m\u001b[44m24-04-15 23:17:10|MOD:run_model   |\u001b[0m: \u001b[1m\u001b[34mEach Model Date Testing Mean Score(spearman):\u001b[0m\n",
      "\u001b[32mModels            0       0       0       1       1       1\u001b[0m\n",
      "\u001b[32mOutput         best swalast swabest    best swalast swabest\u001b[0m\n",
      "\u001b[32m20170103     0.1323  0.1350  0.1359  0.1286  0.1298  0.1308\u001b[0m\n",
      "\u001b[32m20170704     0.1073  0.1114  0.1088  0.1156  0.1115  0.1139\u001b[0m\n",
      "\u001b[32m20171226     0.0960  0.1065  0.1058  0.1039  0.0998  0.1036\u001b[0m\n",
      "\u001b[32m20180627     0.0679  0.0647  0.0665  0.0536  0.0506  0.0534\u001b[0m\n",
      "\u001b[32m20181220     0.1037  0.0988  0.1040  0.1041  0.0973  0.1020\u001b[0m\n",
      "\u001b[32m20190624     0.0817  0.0827  0.0844  0.0846  0.0807  0.0835\u001b[0m\n",
      "\u001b[32m20191217     0.0821  0.0825  0.0870  0.0846  0.0865  0.0902\u001b[0m\n",
      "\u001b[32m20200617     0.0925  0.0941  0.0977  0.1010  0.1001  0.1008\u001b[0m\n",
      "\u001b[32m20201214     0.0932  0.0936  0.0932  0.0907  0.0936  0.0955\u001b[0m\n",
      "\u001b[32m20210615     0.0795  0.0825  0.0823  0.0719  0.0813  0.0818\u001b[0m\n",
      "\u001b[32m20211209     0.0924  0.0938  0.1018  0.1014  0.1068  0.1086\u001b[0m\n",
      "\u001b[32m20220613     0.0927  0.0915  0.0918  0.1000  0.0978  0.0988\u001b[0m\n",
      "\u001b[32m20221206     0.0702  0.0613  0.0674  0.0712  0.0714  0.0672\u001b[0m\n",
      "\u001b[32m20230606     0.0984  0.0930  0.0977  0.1066  0.0990  0.1003\u001b[0m\n",
      "\u001b[32m20231201     0.0805  0.1061  0.1002  0.1026  0.1005  0.0958\u001b[0m\n",
      "\u001b[32mAllTimeAvg   0.0916  0.0928  0.0948  0.0945  0.0936  0.0951\u001b[0m\n",
      "\u001b[32mAllTimeSum   160.97  163.11  166.65  166.04  164.50  167.03\u001b[0m\n",
      "\u001b[32mStd          0.0866  0.0837  0.0833  0.0853  0.0832  0.0816\u001b[0m\n",
      "\u001b[32mTValue        44.33   46.51   47.73   46.44   47.15   48.80\u001b[0m\n",
      "\u001b[32mAnnIR        5.1813  5.4359  5.5786  5.4281  5.5110  5.7040\u001b[0m\n",
      "\u001b[1m\u001b[37m\u001b[41m24-04-15 23:19:07|MOD:run_model   |\u001b[0m: \u001b[1m\u001b[31mFinish Process [Test Model]! Cost 116.8 Secs\u001b[0m\n"
     ]
    }
   ],
   "source": [
    "# %% test a specific model\n",
    "from run_model import main\n",
    "main(process = 0 , resume = 0 , checkname= 1)"
   ]
  },
  {
   "cell_type": "code",
   "execution_count": 1,
   "metadata": {},
   "outputs": [
    {
     "name": "stdout",
     "output_type": "stream",
     "text": [
      "Use device name: NVIDIA GeForce RTX 4090\n"
     ]
    },
    {
     "name": "stderr",
     "output_type": "stream",
     "text": [
      "\u001b[1m\u001b[37m\u001b[41m24-03-31 09:52:11|MOD:data_preprocessing|\u001b[0m: \u001b[1m\u001b[31mif_train is False , Data Processing start!\u001b[0m\n",
      "\u001b[1m\u001b[37m\u001b[45m24-03-31 09:52:11|MOD:data_preprocessing|\u001b[0m: \u001b[1m\u001b[35m3 datas :['y', 'trade_day', 'trade_30m']\u001b[0m\n"
     ]
    },
    {
     "name": "stdout",
     "output_type": "stream",
     "text": [
      "Sun Mar 31 09:52:11 2024 : y start ...\n",
      "labels blocks reading ret10_lag DataBase's ...... cost 0.39 secs\n",
      "labels blocks reading ret20_lag DataBase's ...... cost 0.33 secs\n",
      "labels blocks merging ...... cost 0.05 secs\n",
      "models blocks reading risk_exp DataBase's ...... cost 1.66 secs\n",
      "models blocks merging ...... cost 0.17 secs\n",
      "y blocks process ...... cost 0.88 secs\n",
      "y blocks masking ...... cost 0.05 secs\n",
      "y blocks saving  ...... cost 0.14 secs\n",
      "y blocks norming ...... cost 0.00 secs\n",
      "Sun Mar 31 09:52:14 2024 : y finished! Cost 3.67 Seconds\n",
      "Sun Mar 31 09:52:14 2024 : trade_day start ...\n",
      "trade blocks reading day DataBase's ...... cost 0.56 secs\n",
      "trade_day blocks merging ...... cost 0.00 secs\n",
      "trade_day blocks process ...... cost 0.03 secs\n",
      "trade_day blocks masking ...... cost 0.05 secs\n",
      "trade_day blocks saving  ...... cost 0.16 secs\n",
      "trade_day blocks norming ...... cost 0.00 secs\n",
      "Sun Mar 31 09:52:15 2024 : trade_day finished! Cost 0.81 Seconds\n",
      "Sun Mar 31 09:52:15 2024 : trade_30m start ...\n",
      "trade blocks reading 30min DataBase's ...... cost 2.51 secs\n",
      "trade_30m blocks merging ...... cost 0.00 secs\n",
      "trade blocks reading day DataBase's ...... cost 0.53 secs\n",
      "trade_day blocks merging ...... cost 0.02 secs\n",
      "trade_30m blocks process ...... cost 0.95 secs\n",
      "trade_30m blocks masking ...... cost 0.05 secs\n",
      "trade_30m blocks saving  ..."
     ]
    },
    {
     "name": "stderr",
     "output_type": "stream",
     "text": [
      "\u001b[1m\u001b[37m\u001b[41m24-03-31 09:52:21|MOD:data_preprocessing|\u001b[0m: \u001b[1m\u001b[31mData Processing Finished! Cost 10.02 Seconds\u001b[0m\n"
     ]
    },
    {
     "name": "stdout",
     "output_type": "stream",
     "text": [
      "... cost 1.13 secs\n",
      "trade_30m blocks norming ...... cost 0.00 secs\n",
      "Sun Mar 31 09:52:21 2024 : trade_30m finished! Cost 5.19 Seconds\n"
     ]
    }
   ],
   "source": [
    "from src.data import PreProcess\n",
    "PreProcess.main(False)\n",
    "PreProcess.main(True)"
   ]
  }
 ],
 "metadata": {
  "kernelspec": {
   "display_name": "Python 3",
   "language": "python",
   "name": "python3"
  },
  "language_info": {
   "codemirror_mode": {
    "name": "ipython",
    "version": 3
   },
   "file_extension": ".py",
   "mimetype": "text/x-python",
   "name": "python",
   "nbconvert_exporter": "python",
   "pygments_lexer": "ipython3",
   "version": "3.10.12"
  }
 },
 "nbformat": 4,
 "nbformat_minor": 2
}
