{
 "cells": [
  {
   "cell_type": "code",
   "execution_count": 5,
   "metadata": {},
   "outputs": [
    {
     "data": {
      "text/plain": [
       "tensor([57.2967, 50.0770, 51.2822, 47.9013, 52.7634, 51.4537, 52.8724, 51.0443,\n",
       "        45.5625, 52.4580])"
      ]
     },
     "execution_count": 5,
     "metadata": {},
     "output_type": "execute_result"
    }
   ],
   "source": [
    "import torch\n",
    "a = torch.rand(10,10,10)\n",
    "a.sum(tuple(range(1 , a.ndim)))"
   ]
  },
  {
   "cell_type": "code",
   "execution_count": 1,
   "metadata": {},
   "outputs": [
    {
     "data": {
      "text/plain": [
       "True"
      ]
     },
     "execution_count": 1,
     "metadata": {},
     "output_type": "execute_result"
    }
   ],
   "source": [
    "# %% test cuda\n",
    "import torch #type: ignore\n",
    "torch.cuda.is_available()"
   ]
  },
  {
   "cell_type": "code",
   "execution_count": 1,
   "metadata": {},
   "outputs": [
    {
     "name": "stdout",
     "output_type": "stream",
     "text": [
      "Update Files\n",
      "Mon Apr  1 23:31:16 2024 : Updated ~ data\\DataBase\\DB_information\\calendar.feather Done! Cost 0.07 Secs\n",
      "Mon Apr  1 23:31:16 2024 : Updated ~ data\\DataBase\\DB_information\\description.feather Done! Cost 0.05 Secs\n",
      "Mon Apr  1 23:31:16 2024 : Updated ~ data\\DataBase\\DB_information\\st.feather Done! Cost 0.03 Secs\n",
      "Mon Apr  1 23:31:20 2024 : Updated ~ data\\DataBase\\DB_information\\industry.feather Done! Cost 3.42 Secs\n",
      "Mon Apr  1 23:31:27 2024 : Updated ~ data\\DataBase\\DB_information\\concepts.feather Done! Cost 7.70 Secs\n",
      "Mon Apr  1 23:31:29 2024 : Updated ~ data\\DataBase\\DB_models\\risk_exp\\2024\\risk_exp.20240401.feather Done! Cost 0.09 Secs\n",
      "Mon Apr  1 23:31:32 2024 : Updated ~ data\\DataBase\\DB_trade\\day\\2024\\day.20240401.feather Done! Cost 0.07 Secs\n",
      "Mon Apr  1 23:31:32 2024 : Updated ~ data\\DataBase\\DB_trade\\5day\\2024\\5day.20240401.feather Done! Cost 0.30 Secs\n",
      "Mon Apr  1 23:31:33 2024 : Updated ~ data\\DataBase\\DB_trade\\10day\\2024\\10day.20240401.feather Done! Cost 0.56 Secs\n",
      "Mon Apr  1 23:31:34 2024 : Updated ~ data\\DataBase\\DB_trade\\20day\\2024\\20day.20240401.feather Done! Cost 1.03 Secs\n",
      "Mon Apr  1 23:31:38 2024 : Updated ~ data\\DataBase\\DB_trade\\min\\2024\\min.20240401.feather Done! Cost 4.12 Secs\n",
      "Mon Apr  1 23:31:38 2024 : Updated ~ data\\DataBase\\DB_trade\\5min\\2024\\5min.20240401.feather Done! Cost 0.48 Secs\n",
      "Mon Apr  1 23:31:39 2024 : Updated ~ data\\DataBase\\DB_trade\\10min\\2024\\10min.20240401.feather Done! Cost 0.37 Secs\n",
      "Mon Apr  1 23:31:39 2024 : Updated ~ data\\DataBase\\DB_trade\\15min\\2024\\15min.20240401.feather Done! Cost 0.37 Secs\n",
      "Mon Apr  1 23:31:39 2024 : Updated ~ data\\DataBase\\DB_trade\\30min\\2024\\30min.20240401.feather Done! Cost 0.33 Secs\n",
      "Mon Apr  1 23:31:40 2024 : Updated ~ data\\DataBase\\DB_trade\\60min\\2024\\60min.20240401.feather Done! Cost 0.32 Secs\n",
      "Mon Apr  1 23:31:43 2024 : Updated ~ data\\DataBase\\DB_labels\\ret20_lag\\2024\\ret20_lag.20240301.feather Done! Cost 0.72 Secs\n",
      "Mon Apr  1 23:31:43 2024 : Updated ~ data\\DataBase\\DB_labels\\ret20\\2024\\ret20.20240304.feather Done! Cost 0.38 Secs\n",
      "Mon Apr  1 23:31:46 2024 : Updated ~ data\\DataBase\\DB_labels\\ret10_lag\\2024\\ret10_lag.20240315.feather Done! Cost 0.33 Secs\n",
      "Mon Apr  1 23:31:47 2024 : Updated ~ data\\DataBase\\DB_labels\\ret10\\2024\\ret10.20240318.feather Done! Cost 0.31 Secs\n",
      "Mon Apr  1 23:31:50 2024 : Updated ~ data\\DataBase\\DB_labels\\ret5_lag\\2024\\ret5_lag.20240322.feather Done! Cost 0.25 Secs\n",
      "Mon Apr  1 23:31:51 2024 : Updated ~ data\\DataBase\\DB_labels\\ret5\\2024\\ret5.20240325.feather Done! Cost 0.27 Secs\n",
      "Mon Apr  1 23:31:56 2024 : All Updates Done! Cost 39.66 Secs\n"
     ]
    }
   ],
   "source": [
    "# %% update data\n",
    "import socket\n",
    "import src.data as data\n",
    "data.DataFetcher.main()\n",
    "if socket.gethostname() == 'mengkjin-server':\n",
    "    data.DataFetcher_sql.DataFetcher_sql.update_since()"
   ]
  },
  {
   "cell_type": "code",
   "execution_count": 1,
   "metadata": {},
   "outputs": [
    {
     "name": "stdout",
     "output_type": "stream",
     "text": [
      "Use device name: NVIDIA GeForce RTX 4090\n"
     ]
    },
    {
     "name": "stderr",
     "output_type": "stream",
     "text": [
      "\u001b[1m\u001b[37m\u001b[44m24-04-02 23:13:47|MOD:run_model   |\u001b[0m: \u001b[1m\u001b[34mModel Specifics:\u001b[0m\n",
      "\u001b[1m\u001b[37m\u001b[41m24-04-02 23:13:47|MOD:run_model   |\u001b[0m: \u001b[1m\u001b[31mStart Process [Load Data]!\u001b[0m\n"
     ]
    },
    {
     "name": "stdout",
     "output_type": "stream",
     "text": [
      "--Process Queue : Data + Train + Test\n",
      "--Model_name is set to gruRES_day!\n",
      "{'random_seed': None,\n",
      " 'verbosity': 2,\n",
      " 'precision': 'float',\n",
      " 'batch_size': 10000,\n",
      " 'model_name': 'gruRES_day',\n",
      " 'model_module': 'gru',\n",
      " 'model_num': 2,\n",
      " 'model_data_type': 'day',\n",
      " 'labels': ['res_lag1_10'],\n",
      " 'beg_date': 20170103,\n",
      " 'end_date': 99991231,\n",
      " 'interval': 120,\n",
      " 'input_step_day': 5,\n",
      " 'test_step_day': 1,\n",
      " 'MODEL_PARAM': {'hidden_dim': [32, 64],\n",
      "                 'seqlens': [{'day': 30, '30m': 30, 'dms': 30}],\n",
      "                 'tra_seqlens': [{'hist_loss': 40}],\n",
      "                 'dropout': [0.1],\n",
      "                 'enc_in': [True],\n",
      "                 'enc_att': [False],\n",
      "                 'rnn_type': ['lstm'],\n",
      "                 'rnn_att': [False],\n",
      "                 'rnn_layers': [2],\n",
      "                 'dec_mlp_layers': [2],\n",
      "                 'num_output': [1],\n",
      "                 'kernel_size': [3, 3],\n",
      "                 'hidden_as_factor': [False],\n",
      "                 'ordered_param_group': [False],\n",
      "                 'resnet_blocks': [2, 3, 4]},\n",
      " 'train_params': {'dataloader': {'sample_method': 'train_shuffle', 'shuffle_option': 'epoch', 'train_ratio': 0.8},\n",
      "                  'trainer': {'optimizer': {'name': 'Adam', 'param': {}},\n",
      "                              'scheduler': {'name': 'cycle', 'param': {'base_lr': 1e-07, 'step_size_up': 4}},\n",
      "                              'learn_rate': {'base': 0.005,\n",
      "                                             'ratio': {'attempt': [1, 0.1, 10, 0.01, 100], 'transfer': 0.1},\n",
      "                                             'reset': {'num_reset': 2, 'trigger': 40, 'recover_level': 1.0, 'speedup2x': True}},\n",
      "                              'nanloss': {'retry': 5},\n",
      "                              'gradient': {'clip_value': 10.0},\n",
      "                              'retrain': {'attempts': 4, 'min_epoch': 20}},\n",
      "                  'criterion': {'loss': 'pearson',\n",
      "                                'score': {'train': 'spearman', 'valid': 'spearman', 'test': 'spearman'},\n",
      "                                'penalty': {'hidden_corr': {'lamb': 0.001}, 'tra_opt_transport': {'lamb': 0.01, 'rho': 0.999}},\n",
      "                                'weight': {'train': 'equal', 'test': 'equal'}},\n",
      "                  'transfer': False,\n",
      "                  'multitask': {'type': 'hybrid',\n",
      "                                'param_dict': {'dwa': {'tau': 2},\n",
      "                                               'ruw': {'phi': None},\n",
      "                                               'ewa': {},\n",
      "                                               'gls': {},\n",
      "                                               'rws': {},\n",
      "                                               'hybrid': {'phi': None, 'tau': 2}}},\n",
      "                  'terminate': {'early_stop': 20, 'max_epoch': 200, 'valid_converge': {'min_epoch': 5, 'eps': 1e-05}}}}\n",
      "Load  2 DataBlocks ...... cost 6.77 secs\n",
      "Align 2 DataBlocks ...... cost 3.73 secs\n"
     ]
    },
    {
     "name": "stderr",
     "output_type": "stream",
     "text": [
      "\u001b[1m\u001b[37m\u001b[41m24-04-02 23:14:03|MOD:run_model   |\u001b[0m: \u001b[1m\u001b[31mFinish Process [Load Data]! Cost 15.8Secs\u001b[0m\n",
      "\u001b[1m\u001b[37m\u001b[41m24-04-02 23:14:03|MOD:run_model   |\u001b[0m: \u001b[1m\u001b[31mStart Process [Train Model]!\u001b[0m\n"
     ]
    },
    {
     "name": "stdout",
     "output_type": "stream",
     "text": [
      "Pre-Norming method of [day] : [endpoint_division(True) , history_standardize(True)]\n"
     ]
    },
    {
     "name": "stderr",
     "output_type": "stream",
     "text": [
      "\u001b[32mgruRES_day #0 @20170103 LoadData Cost    3.9Secs\u001b[0m\n"
     ]
    },
    {
     "name": "stdout",
     "output_type": "stream",
     "text": [
      "score function of [spearman] calculated and success!\n",
      "loss function of [pearson] calculated and success!\n"
     ]
    },
    {
     "name": "stderr",
     "output_type": "stream",
     "text": [
      "\u001b[32mFirstBite Ep#  0 : loss  1.00583, train-0.01063, valid-0.02976, max-0.0298, best-0.0298, lr1.0e-07\u001b[0m\n",
      "\u001b[32mFirstBite Ep#  5 : loss  0.91373, train 0.09765, valid 0.10149, max 0.1015, best 0.1015, lr3.8e-03\u001b[0m\n",
      "\u001b[32mFirstBite Ep# 10 : loss  0.89844, train 0.11179, valid 0.10763, max 0.1101, best 0.1101, lr1.3e-03\u001b[0m\n",
      "\u001b[32mFirstBite Ep# 15 : loss  0.88914, train 0.11943, valid 0.11445, max 0.1144, best 0.1144, lr6.3e-04\u001b[0m\n",
      "\u001b[32mFirstBite Ep# 20 : loss  0.88678, train 0.12133, valid 0.11303, max 0.1144, best 0.1144, lr1.3e-03\u001b[0m\n",
      "\u001b[32mFirstBite Ep# 25 : loss  0.88101, train 0.12511, valid 0.11509, max 0.1168, best 0.1168, lr1.6e-04\u001b[0m\n",
      "\u001b[32mFirstBite Ep# 30 : loss  0.87852, train 0.12747, valid 0.11699, max 0.1170, best 0.1170, lr3.1e-04\u001b[0m\n",
      "\u001b[32mFirstBite Ep# 35 : loss  0.87781, train 0.12766, valid 0.11547, max 0.1170, best 0.1170, lr2.3e-04\u001b[0m\n",
      "\u001b[32mReset learn rate and scheduler at the end of epoch 39 , effective at epoch 40\u001b[0m\n",
      "\u001b[32mFirstBite Ep# 40 : loss  0.87609, train 0.12990, valid 0.11490, max 0.1176, best 0.1176, lr1.0e-07\u001b[0m\n",
      "\u001b[32mFirstBite Ep# 45 : loss  0.87723, train 0.12852, valid 0.11335, max 0.1176, best 0.1176, lr1.3e-03\u001b[0m\n",
      "\u001b[32mFirstBite Ep# 50 : loss  0.87250, train 0.13335, valid 0.11020, max 0.1176, best 0.1176, lr1.3e-03\u001b[0m\n",
      "\u001b[32mFirstBite Ep# 55 : loss  0.86912, train 0.13558, valid 0.11665, max 0.1176, best 0.1176, lr3.1e-04\u001b[0m\n",
      "\u001b[1m\u001b[37m\u001b[44m24-04-02 23:15:19|MOD:run_model   |\u001b[0m: \u001b[1m\u001b[34mgruRES_day #0 @20170103|FirstBite Ep# 57 EarlyStop|Train 0.1371 Valid 0.1151 BestVal 0.1176|Cost  1.3Min,  1.2Sec/Ep\u001b[0m\n",
      "\u001b[32mFirstBite Ep#  0 : loss  0.98625, train 0.01901, valid 0.04488, max 0.0449, best 0.0449, lr1.0e-07\u001b[0m\n",
      "\u001b[32mFirstBite Ep#  5 : loss  0.90115, train 0.10815, valid 0.10939, max 0.1094, best 0.1094, lr3.8e-03\u001b[0m\n",
      "\u001b[32mFirstBite Ep# 10 : loss  0.88271, train 0.12452, valid 0.10689, max 0.1124, best 0.1124, lr1.3e-03\u001b[0m\n",
      "\u001b[32mFirstBite Ep# 15 : loss  0.86948, train 0.13634, valid 0.10809, max 0.1124, best 0.1124, lr6.3e-04\u001b[0m\n",
      "\u001b[32mFirstBite Ep# 20 : loss  0.86701, train 0.13824, valid 0.11120, max 0.1124, best 0.1124, lr1.3e-03\u001b[0m\n",
      "\u001b[32mFirstBite Ep# 25 : loss  0.85751, train 0.14679, valid 0.11120, max 0.1124, best 0.1124, lr1.6e-04\u001b[0m\n",
      "\u001b[1m\u001b[37m\u001b[44m24-04-02 23:16:04|MOD:run_model   |\u001b[0m: \u001b[1m\u001b[34mgruRES_day #1 @20170103|FirstBite Ep# 29 EarlyStop|Train 0.1473 Valid 0.1082 BestVal 0.1124|Cost  0.8Min,  1.5Sec/Ep\u001b[0m\n",
      "\u001b[1m\u001b[37m\u001b[44m24-04-02 23:16:56|MOD:run_model   |\u001b[0m: \u001b[1m\u001b[34mgruRES_day #0 @20170704|FirstBite Ep# 37 EarlyStop|Train 0.1338 Valid 0.1119 BestVal 0.1121|Cost  0.9Min,  1.3Sec/Ep\u001b[0m\n",
      "\u001b[1m\u001b[37m\u001b[44m24-04-02 23:17:58|MOD:run_model   |\u001b[0m: \u001b[1m\u001b[34mgruRES_day #1 @20170704|FirstBite Ep# 39 EarlyStop|Train 0.1525 Valid 0.1135 BestVal 0.1155|Cost  1.0Min,  1.6Sec/Ep\u001b[0m\n",
      "\u001b[1m\u001b[37m\u001b[44m24-04-02 23:20:00|MOD:run_model   |\u001b[0m: \u001b[1m\u001b[34mgruRES_day #0 @20171226|FirstBite Ep# 91 EarlyStop|Train 0.1500 Valid 0.1034 BestVal 0.1042|Cost  2.0Min,  1.3Sec/Ep\u001b[0m\n",
      "\u001b[1m\u001b[37m\u001b[44m24-04-02 23:21:38|MOD:run_model   |\u001b[0m: \u001b[1m\u001b[34mgruRES_day #1 @20171226|FirstBite Ep# 60 EarlyStop|Train 0.1730 Valid 0.1027 BestVal 0.1055|Cost  1.6Min,  1.6Sec/Ep\u001b[0m\n",
      "\u001b[1m\u001b[37m\u001b[44m24-04-02 23:23:56|MOD:run_model   |\u001b[0m: \u001b[1m\u001b[34mgruRES_day #0 @20180627|FirstBite Ep# 99 Max Epoch|Train 0.1510 Valid 0.1031 BestVal 0.1031|Cost  2.3Min,  1.3Sec/Ep\u001b[0m\n",
      "\u001b[1m\u001b[37m\u001b[44m24-04-02 23:25:38|MOD:run_model   |\u001b[0m: \u001b[1m\u001b[34mgruRES_day #1 @20180627|FirstBite Ep# 60 EarlyStop|Train 0.1722 Valid 0.1024 BestVal 0.1037|Cost  1.7Min,  1.7Sec/Ep\u001b[0m\n",
      "\u001b[1m\u001b[37m\u001b[44m24-04-02 23:28:00|MOD:run_model   |\u001b[0m: \u001b[1m\u001b[34mgruRES_day #0 @20181220|FirstBite Ep# 98 EarlyStop|Train 0.1482 Valid 0.0950 BestVal 0.0952|Cost  2.4Min,  1.4Sec/Ep\u001b[0m\n",
      "\u001b[1m\u001b[37m\u001b[44m24-04-02 23:29:35|MOD:run_model   |\u001b[0m: \u001b[1m\u001b[34mgruRES_day #1 @20181220|FirstBite Ep# 53 EarlyStop|Train 0.1728 Valid 0.0974 BestVal 0.1011|Cost  1.6Min,  1.8Sec/Ep\u001b[0m\n",
      "\u001b[1m\u001b[37m\u001b[44m24-04-02 23:31:52|MOD:run_model   |\u001b[0m: \u001b[1m\u001b[34mgruRES_day #0 @20190624|FirstBite Ep# 91 EarlyStop|Train 0.1483 Valid 0.0954 BestVal 0.0961|Cost  2.3Min,  1.4Sec/Ep\u001b[0m\n",
      "\u001b[1m\u001b[37m\u001b[44m24-04-02 23:33:07|MOD:run_model   |\u001b[0m: \u001b[1m\u001b[34mgruRES_day #1 @20190624|FirstBite Ep# 40 EarlyStop|Train 0.1566 Valid 0.0956 BestVal 0.0971|Cost  1.3Min,  1.8Sec/Ep\u001b[0m\n",
      "\u001b[1m\u001b[37m\u001b[44m24-04-02 23:34:46|MOD:run_model   |\u001b[0m: \u001b[1m\u001b[34mgruRES_day #0 @20191217|FirstBite Ep# 62 EarlyStop|Train 0.1331 Valid 0.0819 BestVal 0.0835|Cost  1.6Min,  1.5Sec/Ep\u001b[0m\n",
      "\u001b[1m\u001b[37m\u001b[44m24-04-02 23:36:06|MOD:run_model   |\u001b[0m: \u001b[1m\u001b[34mgruRES_day #1 @20191217|FirstBite Ep# 40 EarlyStop|Train 0.1561 Valid 0.0820 BestVal 0.0826|Cost  1.3Min,  1.9Sec/Ep\u001b[0m\n",
      "\u001b[1m\u001b[37m\u001b[44m24-04-02 23:36:58|MOD:run_model   |\u001b[0m: \u001b[1m\u001b[34mgruRES_day #0 @20200617|FirstBite Ep# 32 EarlyStop|Train 0.1302 Valid 0.0768 BestVal 0.0782|Cost  0.9Min,  1.5Sec/Ep\u001b[0m\n",
      "\u001b[1m\u001b[37m\u001b[44m24-04-02 23:38:23|MOD:run_model   |\u001b[0m: \u001b[1m\u001b[34mgruRES_day #1 @20200617|FirstBite Ep# 41 EarlyStop|Train 0.1416 Valid 0.0756 BestVal 0.0791|Cost  1.4Min,  2.0Sec/Ep\u001b[0m\n",
      "\u001b[1m\u001b[37m\u001b[44m24-04-02 23:39:43|MOD:run_model   |\u001b[0m: \u001b[1m\u001b[34mgruRES_day #0 @20201214|FirstBite Ep# 45 EarlyStop|Train 0.1282 Valid 0.0670 BestVal 0.0675|Cost  1.3Min,  1.7Sec/Ep\u001b[0m\n",
      "\u001b[1m\u001b[37m\u001b[44m24-04-02 23:42:19|MOD:run_model   |\u001b[0m: \u001b[1m\u001b[34mgruRES_day #1 @20201214|FirstBite Ep# 73 EarlyStop|Train 0.1772 Valid 0.0651 BestVal 0.0685|Cost  2.6Min,  2.1Sec/Ep\u001b[0m\n",
      "\u001b[1m\u001b[37m\u001b[44m24-04-02 23:43:22|MOD:run_model   |\u001b[0m: \u001b[1m\u001b[34mgruRES_day #0 @20210615|FirstBite Ep# 33 EarlyStop|Train 0.1210 Valid 0.0627 BestVal 0.0643|Cost  1.1Min,  1.8Sec/Ep\u001b[0m\n",
      "\u001b[1m\u001b[37m\u001b[44m24-04-02 23:44:54|MOD:run_model   |\u001b[0m: \u001b[1m\u001b[34mgruRES_day #1 @20210615|FirstBite Ep# 40 EarlyStop|Train 0.1468 Valid 0.0641 BestVal 0.0666|Cost  1.5Min,  2.2Sec/Ep\u001b[0m\n",
      "\u001b[1m\u001b[37m\u001b[44m24-04-02 23:46:11|MOD:run_model   |\u001b[0m: \u001b[1m\u001b[34mgruRES_day #0 @20211209|FirstBite Ep# 39 EarlyStop|Train 0.1184 Valid 0.0604 BestVal 0.0613|Cost  1.3Min,  1.8Sec/Ep\u001b[0m\n",
      "\u001b[1m\u001b[37m\u001b[44m24-04-02 23:47:47|MOD:run_model   |\u001b[0m: \u001b[1m\u001b[34mgruRES_day #1 @20211209|FirstBite Ep# 40 EarlyStop|Train 0.1421 Valid 0.0615 BestVal 0.0630|Cost  1.6Min,  2.3Sec/Ep\u001b[0m\n",
      "\u001b[1m\u001b[37m\u001b[44m24-04-02 23:49:12|MOD:run_model   |\u001b[0m: \u001b[1m\u001b[34mgruRES_day #0 @20220613|FirstBite Ep# 42 EarlyStop|Train 0.1105 Valid 0.0536 BestVal 0.0600|Cost  1.4Min,  1.9Sec/Ep\u001b[0m\n",
      "\u001b[1m\u001b[37m\u001b[44m24-04-02 23:51:10|MOD:run_model   |\u001b[0m: \u001b[1m\u001b[34mgruRES_day #1 @20220613|FirstBite Ep# 47 EarlyStop|Train 0.1456 Valid 0.0577 BestVal 0.0608|Cost  1.9Min,  2.4Sec/Ep\u001b[0m\n",
      "\u001b[1m\u001b[37m\u001b[44m24-04-02 23:52:32|MOD:run_model   |\u001b[0m: \u001b[1m\u001b[34mgruRES_day #0 @20221206|FirstBite Ep# 39 EarlyStop|Train 0.1125 Valid 0.0568 BestVal 0.0576|Cost  1.4Min,  2.0Sec/Ep\u001b[0m\n",
      "\u001b[1m\u001b[37m\u001b[44m24-04-02 23:54:08|MOD:run_model   |\u001b[0m: \u001b[1m\u001b[34mgruRES_day #1 @20221206|FirstBite Ep# 37 EarlyStop|Train 0.1339 Valid 0.0550 BestVal 0.0558|Cost  1.6Min,  2.5Sec/Ep\u001b[0m\n",
      "\u001b[1m\u001b[37m\u001b[44m24-04-02 23:54:58|MOD:run_model   |\u001b[0m: \u001b[1m\u001b[34mgruRES_day #0 @20230606|FirstBite Ep# 22 EarlyStop|Train 0.1046 Valid 0.0479 BestVal 0.0525|Cost  0.8Min,  2.1Sec/Ep\u001b[0m\n",
      "\u001b[1m\u001b[37m\u001b[44m24-04-02 23:57:06|MOD:run_model   |\u001b[0m: \u001b[1m\u001b[34mgruRES_day #1 @20230606|FirstBite Ep# 48 EarlyStop|Train 0.1353 Valid 0.0496 BestVal 0.0542|Cost  2.1Min,  2.6Sec/Ep\u001b[0m\n",
      "\u001b[1m\u001b[37m\u001b[44m24-04-02 23:58:00|MOD:run_model   |\u001b[0m: \u001b[1m\u001b[34mgruRES_day #0 @20231201|FirstBite Ep# 23 EarlyStop|Train 0.0975 Valid 0.0364 BestVal 0.0601|Cost  0.9Min,  2.1Sec/Ep\u001b[0m\n",
      "\u001b[1m\u001b[37m\u001b[44m24-04-02 23:59:00|MOD:run_model   |\u001b[0m: \u001b[1m\u001b[34mgruRES_day #1 @20231201|FirstBite Ep# 21 EarlyStop|Train 0.1143 Valid 0.0438 BestVal 0.0618|Cost  1.0Min,  2.7Sec/Ep\u001b[0m\n",
      "\u001b[1m\u001b[37m\u001b[41m24-04-02 23:59:01|MOD:run_model   |\u001b[0m: \u001b[1m\u001b[31mFinish Process [Train Model]! Cost 0.7 Hours, 1.5 Min/model, 1.8 Sec/Epoch\u001b[0m\n",
      "\u001b[1m\u001b[37m\u001b[41m24-04-02 23:59:01|MOD:run_model   |\u001b[0m: \u001b[1m\u001b[31mStart Process [Test Model]!\u001b[0m\n",
      "\u001b[1m\u001b[37m\u001b[44m24-04-02 23:59:01|MOD:run_model   |\u001b[0m: \u001b[1m\u001b[34mEach Model Date Testing Mean Score({'train': 'spearman', 'valid': 'spearman', 'test': 'spearman'}):\u001b[0m\n",
      "\u001b[32mModels            0       0       0       1       1       1\u001b[0m\n",
      "\u001b[32mOutput         best swalast swabest    best swalast swabest\u001b[0m\n",
      "\u001b[32m20170103     0.1167  0.1178  0.1175  0.1117  0.1124  0.1137\u001b[0m\n",
      "\u001b[32m20170704     0.1039  0.1044  0.1076  0.1067  0.1091  0.1095\u001b[0m\n",
      "\u001b[32m20171226     0.0995  0.0996  0.0999  0.1005  0.1000  0.1010\u001b[0m\n",
      "\u001b[32m20180627     0.0759  0.0759  0.0759  0.0784  0.0763  0.0782\u001b[0m\n",
      "\u001b[32m20181220     0.0754  0.0763  0.0767  0.0765  0.0765  0.0752\u001b[0m\n",
      "\u001b[32m20190624     0.0698  0.0698  0.0698  0.0663  0.0672  0.0683\u001b[0m\n",
      "\u001b[32m20191217     0.0804  0.0774  0.0795  0.0810  0.0779  0.0770\u001b[0m\n",
      "\u001b[32m20200617     0.0561  0.0573  0.0579  0.0601  0.0586  0.0598\u001b[0m\n",
      "\u001b[32m20201214     0.0654  0.0651  0.0653  0.0668  0.0654  0.0691\u001b[0m\n",
      "\u001b[32m20210615     0.0432  0.0429  0.0463  0.0489  0.0502  0.0506\u001b[0m\n",
      "\u001b[32m20211209     0.0604  0.0607  0.0601  0.0585  0.0578  0.0596\u001b[0m\n",
      "\u001b[32m20220613     0.0487  0.0479  0.0494  0.0462  0.0476  0.0480\u001b[0m\n",
      "\u001b[32m20221206     0.0254  0.0246  0.0289  0.0308  0.0259  0.0315\u001b[0m\n",
      "\u001b[32m20230606     0.0617  0.0484  0.0457  0.0388  0.0352  0.0381\u001b[0m\n",
      "\u001b[32m20231201     0.0258  0.0322  0.0283  0.0259  0.0346  0.0309\u001b[0m\n",
      "\u001b[32mAllTimeAvg   0.0682  0.0675  0.0682  0.0675  0.0671  0.0683\u001b[0m\n",
      "\u001b[32mAllTimeSum   119.90  118.64  119.84  118.56  117.87  119.92\u001b[0m\n",
      "\u001b[32mStd          0.0553  0.0519  0.0515  0.0503  0.0504  0.0506\u001b[0m\n",
      "\u001b[32mTValue        51.72   54.56   55.51   56.24   55.79   56.52\u001b[0m\n",
      "\u001b[32mAnnIR        6.0444  6.3771  6.4881  6.5732  6.5209  6.6060\u001b[0m\n",
      "\u001b[1m\u001b[37m\u001b[41m24-04-02 23:59:50|MOD:run_model   |\u001b[0m: \u001b[1m\u001b[31mFinish Process [Test Model]! Cost 49.2 Secs\u001b[0m\n"
     ]
    },
    {
     "name": "stdout",
     "output_type": "stream",
     "text": [
      "                        keys  num_calls   total_time  avg_time\n",
      "5    model_train/epoch/train       1508  2286.838676  1.516471\n",
      "8             train/backward     118304   562.757608  0.004757\n",
      "7                 train/loss     118304   369.148989  0.003120\n",
      "9    model_train/epoch/valid       1508   309.196459  0.205037\n",
      "11                valid/loss     144768   104.069989  0.000719\n",
      "6              train/forward     118304   103.616309  0.000876\n",
      "10             valid/forward     144768   101.250962  0.000699\n",
      "1          model_train/start         30    55.751436  1.858381\n",
      "13                save_model       1538    36.158120  0.023510\n",
      "18       model_test/forecast         30    32.207047  1.073568\n",
      "14        model_train/status       1508    26.646081  0.017670\n",
      "17          model_test/start         30    13.047951  0.434932\n",
      "12        model_train/assess       1508    10.231308  0.006785\n",
      "19              test/forward      10476     9.447906  0.000902\n",
      "20                 test/loss      10476     5.540884  0.000529\n",
      "15           model_train/end         30     4.600237  0.153341\n",
      "4                 load_model        120     0.842324  0.007019\n",
      "3   model_train/init_trainer       1508     0.514059  0.000341\n",
      "21            model_test/end         30     0.024942  0.000831\n",
      "2      model_train/init_loop       1508     0.005677  0.000004\n",
      "0    model_preparation/train         30     0.001521  0.000051\n",
      "16    model_preparation/test         30     0.001386  0.000046\n"
     ]
    }
   ],
   "source": [
    "# %% test a specific model\n",
    "from run_model import main\n",
    "main(process = 0 , rawname = 1 , resume = 0)"
   ]
  },
  {
   "cell_type": "code",
   "execution_count": 1,
   "metadata": {},
   "outputs": [
    {
     "name": "stdout",
     "output_type": "stream",
     "text": [
      "Use device name: NVIDIA GeForce RTX 4090\n"
     ]
    },
    {
     "name": "stderr",
     "output_type": "stream",
     "text": [
      "\u001b[1m\u001b[37m\u001b[41m24-03-31 09:52:11|MOD:data_preprocessing|\u001b[0m: \u001b[1m\u001b[31mif_train is False , Data Processing start!\u001b[0m\n",
      "\u001b[1m\u001b[37m\u001b[45m24-03-31 09:52:11|MOD:data_preprocessing|\u001b[0m: \u001b[1m\u001b[35m3 datas :['y', 'trade_day', 'trade_30m']\u001b[0m\n"
     ]
    },
    {
     "name": "stdout",
     "output_type": "stream",
     "text": [
      "Sun Mar 31 09:52:11 2024 : y start ...\n",
      "labels blocks reading ret10_lag DataBase's ...... cost 0.39 secs\n",
      "labels blocks reading ret20_lag DataBase's ...... cost 0.33 secs\n",
      "labels blocks merging ...... cost 0.05 secs\n",
      "models blocks reading risk_exp DataBase's ...... cost 1.66 secs\n",
      "models blocks merging ...... cost 0.17 secs\n",
      "y blocks process ...... cost 0.88 secs\n",
      "y blocks masking ...... cost 0.05 secs\n",
      "y blocks saving  ...... cost 0.14 secs\n",
      "y blocks norming ...... cost 0.00 secs\n",
      "Sun Mar 31 09:52:14 2024 : y finished! Cost 3.67 Seconds\n",
      "Sun Mar 31 09:52:14 2024 : trade_day start ...\n",
      "trade blocks reading day DataBase's ...... cost 0.56 secs\n",
      "trade_day blocks merging ...... cost 0.00 secs\n",
      "trade_day blocks process ...... cost 0.03 secs\n",
      "trade_day blocks masking ...... cost 0.05 secs\n",
      "trade_day blocks saving  ...... cost 0.16 secs\n",
      "trade_day blocks norming ...... cost 0.00 secs\n",
      "Sun Mar 31 09:52:15 2024 : trade_day finished! Cost 0.81 Seconds\n",
      "Sun Mar 31 09:52:15 2024 : trade_30m start ...\n",
      "trade blocks reading 30min DataBase's ...... cost 2.51 secs\n",
      "trade_30m blocks merging ...... cost 0.00 secs\n",
      "trade blocks reading day DataBase's ...... cost 0.53 secs\n",
      "trade_day blocks merging ...... cost 0.02 secs\n",
      "trade_30m blocks process ...... cost 0.95 secs\n",
      "trade_30m blocks masking ...... cost 0.05 secs\n",
      "trade_30m blocks saving  ..."
     ]
    },
    {
     "name": "stderr",
     "output_type": "stream",
     "text": [
      "\u001b[1m\u001b[37m\u001b[41m24-03-31 09:52:21|MOD:data_preprocessing|\u001b[0m: \u001b[1m\u001b[31mData Processing Finished! Cost 10.02 Seconds\u001b[0m\n"
     ]
    },
    {
     "name": "stdout",
     "output_type": "stream",
     "text": [
      "... cost 1.13 secs\n",
      "trade_30m blocks norming ...... cost 0.00 secs\n",
      "Sun Mar 31 09:52:21 2024 : trade_30m finished! Cost 5.19 Seconds\n"
     ]
    }
   ],
   "source": [
    "from src.data import PreProcess\n",
    "PreProcess.main(False)\n",
    "PreProcess.main(True)"
   ]
  }
 ],
 "metadata": {
  "kernelspec": {
   "display_name": "Python 3",
   "language": "python",
   "name": "python3"
  },
  "language_info": {
   "codemirror_mode": {
    "name": "ipython",
    "version": 3
   },
   "file_extension": ".py",
   "mimetype": "text/x-python",
   "name": "python",
   "nbconvert_exporter": "python",
   "pygments_lexer": "ipython3",
   "version": "3.11.8"
  }
 },
 "nbformat": 4,
 "nbformat_minor": 2
}
