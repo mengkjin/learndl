{
 "cells": [
  {
   "cell_type": "code",
   "execution_count": 1,
   "metadata": {},
   "outputs": [
    {
     "name": "stdout",
     "output_type": "stream",
     "text": [
      "False 2.2.0+cpu\n"
     ]
    }
   ],
   "source": [
    "import torch\n",
    "print(torch.cuda.is_available() , torch.__version__)"
   ]
  },
  {
   "cell_type": "code",
   "execution_count": 1,
   "metadata": {},
   "outputs": [
    {
     "name": "stderr",
     "output_type": "stream",
     "text": [
      "\u001b[1m\u001b[37m\u001b[44m24-06-02 20:22:10|MOD:display     |\u001b[0m: \u001b[1m\u001b[34mModel Specifics:\u001b[0m\n",
      "\u001b[1m\u001b[37m\u001b[41m24-06-02 20:22:10|MOD:display     |\u001b[0m: \u001b[1m\u001b[31mStart Process [Data] at Sun Jun  2 20:22:10 2024!\u001b[0m\n"
     ]
    },
    {
     "name": "stdout",
     "output_type": "stream",
     "text": [
      "Use device name: NVIDIA GeForce RTX 4090\n",
      "--Process Queue : Data + Fit + Test\n",
      "--Start Training New!\n",
      "--Model_name is set to tra_day.32!\n",
      "Callback : ResetOptimizer(num_reset=2,trigger=40,recover_level=1.0,speedup2x=True) , reset optimizer on some epoch (can speedup scheduler)\n",
      "Callback : CallbackTimer(verbosity=2) , record time cost of callback hooks\n",
      "Callback : EarlyStoppage(patience=20) , stop fitting when validation score cease to improve\n",
      "Callback : ValidationConverge(patience=5,eps=1e-05) , stop fitting when valid_score converge\n",
      "Callback : EarlyExitRetrain(earliest=10,max_attempt=4,lr_multiplier=[1, 0.1, 10, 0.01, 100, 1]) , retrain with new lr if fitting stopped too early\n",
      "Callback : NanLossRetrain(max_attempt=4) , retrain if fitting encounters nan loss\n",
      "Callback : BatchDisplay(verbosity=2) , display batch progress bar\n",
      "Callback : StatusDisplay(verbosity=2) , display epoch and event information\n",
      "Callback : SpecCB_TRA() , in TRA fill [y] [hist_loss] in batch_data.kwargs , update hist_loss in data.buffer\n",
      "{'random_seed': None,\n",
      " 'model_name': 'tra_day.32',\n",
      " 'model_module': 'tra',\n",
      " 'model_data_type': 'day',\n",
      " 'model_types': ['best', 'swalast', 'swabest'],\n",
      " 'labels': ['std_lag1_10', 'std_lag1_20'],\n",
      " 'beg_date': 20220613,\n",
      " 'end_date': 99991231,\n",
      " 'sample_method': 'sequential',\n",
      " 'shuffle_option': 'epoch',\n",
      " 'lgbm_ensembler': False}\n",
      "{'hidden_dim': [32],\n",
      " 'seqlens': [{'day': 30, '30m': 30, 'dms': 30}],\n",
      " 'hist_loss_seq_len': [60],\n",
      " 'hist_loss_horizon': [20],\n",
      " 'num_states': [3],\n",
      " 'dropout': [0.1],\n",
      " 'rnn_layers': [2],\n",
      " 'rnn_type': ['lstm']}\n",
      "try using /home/mengkjin/Workspace/learndl/data/DataSet/day.20240509.pt , success!\n"
     ]
    },
    {
     "name": "stderr",
     "output_type": "stream",
     "text": [
      "\u001b[1m\u001b[37m\u001b[41m24-06-02 20:22:12|MOD:display     |\u001b[0m: \u001b[1m\u001b[31mFinish Process [Data], Cost 2.4 Secs\u001b[0m\n",
      "\u001b[1m\u001b[37m\u001b[41m24-06-02 20:22:12|MOD:display     |\u001b[0m: \u001b[1m\u001b[31mStart Process [Fit] at Sun Jun  2 20:22:12 2024!\u001b[0m\n"
     ]
    },
    {
     "name": "stdout",
     "output_type": "stream",
     "text": [
      "Pre-Norming method of [day] : {'divlast': True, 'histnorm': True}\n",
      "score function of [spearman] calculated and success!\n",
      "loss function of [pearson] calculated and success!\n",
      "penalty function of [hidden_corr] calculated and success!\n"
     ]
    },
    {
     "name": "stderr",
     "output_type": "stream",
     "text": [
      "\u001b[32mFirstBite Ep#  0 : loss  1.01523, train 0.00137, valid 0.00344, best 0.0034, lr1.3e-03\u001b[0m\n",
      "\u001b[32mFirstBite Ep#  5 : loss  0.93205, train 0.08743, valid 0.06960, best 0.0696, lr2.5e-03\u001b[0m\n",
      "\u001b[32mFirstBite Ep# 10 : loss  0.89321, train 0.11854, valid 0.07647, best 0.0798, lr1.9e-03\u001b[0m\n",
      "\u001b[32mFirstBite Ep# 15 : loss  0.87728, train 0.13223, valid 0.08492, best 0.0849, lr1.0e-07\u001b[0m\n",
      "\u001b[32mFirstBite Ep# 20 : loss  0.87655, train 0.13154, valid 0.08484, best 0.0850, lr9.4e-04\u001b[0m\n",
      "\u001b[32mFirstBite Ep# 25 : loss  0.86556, train 0.14166, valid 0.08169, best 0.0850, lr3.1e-04\u001b[0m\n",
      "\u001b[32mFirstBite Ep# 30 : loss  0.86338, train 0.14251, valid 0.08569, best 0.0857, lr1.6e-04\u001b[0m\n",
      "\u001b[32mFirstBite Ep# 35 : loss  0.86203, train 0.14365, valid 0.08587, best 0.0859, lr3.1e-04\u001b[0m\n",
      "\u001b[32mReset learn rate and scheduler at the end of epoch 39 , effective at epoch 40\u001b[0m\n",
      "\u001b[32mFirstBite Ep# 40 : loss  0.85885, train 0.14822, valid 0.08449, best 0.0859, lr1.3e-03\u001b[0m\n",
      "\u001b[32mFirstBite Ep# 45 : loss  0.87462, train 0.13223, valid 0.07427, best 0.0863, lr2.5e-03\u001b[0m\n",
      "\u001b[32mFirstBite Ep# 50 : loss  0.85934, train 0.14794, valid 0.08352, best 0.0864, lr1.9e-03\u001b[0m\n",
      "\u001b[32mFirstBite Ep# 55 : loss  0.85097, train 0.15530, valid 0.08191, best 0.0864, lr1.0e-07\u001b[0m\n",
      "\u001b[32mReset learn rate and scheduler at the end of epoch 59 , effective at epoch 60\u001b[0m\n",
      "\u001b[32mFirstBite Ep# 60 : loss  0.84691, train 0.15756, valid 0.08227, best 0.0864, lr1.3e-03\u001b[0m\n",
      "\u001b[32mFirstBite Ep# 65 : loss  0.85808, train 0.14848, valid 0.08521, best 0.0864, lr2.5e-03\u001b[0m\n",
      "\u001b[1m\u001b[37m\u001b[44m24-06-02 20:31:21|MOD:display     |\u001b[0m: \u001b[1m\u001b[34mtra_day.32 #0 @20220613|FirstBite Ep# 69 EarlyStop|Train 0.1640 Valid 0.0838 BestVal 0.0838|Cost  9.1Min,  7.8Sec/Ep\u001b[0m\n",
      "\u001b[1m\u001b[37m\u001b[44m24-06-02 20:43:17|MOD:display     |\u001b[0m: \u001b[1m\u001b[34mtra_day.32 #0 @20221206|FirstBite Ep# 84 EarlyStop|Train 0.1667 Valid 0.0866 BestVal 0.0866|Cost 11.9Min,  8.4Sec/Ep\u001b[0m\n",
      "\u001b[1m\u001b[37m\u001b[44m24-06-02 21:02:55|MOD:display     |\u001b[0m: \u001b[1m\u001b[34mtra_day.32 #0 @20230606|Retrain#4 Ep#135 EarlyStop|Train 0.0414 Valid 0.0433 BestVal 0.0901|Cost 19.6Min,  8.6Sec/Ep\u001b[0m\n",
      "\u001b[1m\u001b[37m\u001b[44m24-06-02 21:09:21|MOD:display     |\u001b[0m: \u001b[1m\u001b[34mtra_day.32 #0 @20231201|FirstBite Ep# 41 EarlyStop|Train 0.1429 Valid 0.0895 BestVal 0.0895|Cost  6.4Min,  9.1Sec/Ep\u001b[0m\n",
      "\u001b[1m\u001b[37m\u001b[41m24-06-02 21:09:21|MOD:display     |\u001b[0m: \u001b[1m\u001b[31mFinish Process [Fit], Cost 0.8 Hours, 11.8 Min/model, 8.6 Sec/Epoch\u001b[0m\n",
      "\u001b[1m\u001b[37m\u001b[41m24-06-02 21:09:21|MOD:display     |\u001b[0m: \u001b[1m\u001b[31mStart Process [Test] at Sun Jun  2 21:09:21 2024!\u001b[0m\n",
      "\u001b[1m\u001b[37m\u001b[44m24-06-02 21:09:21|MOD:display     |\u001b[0m: \u001b[1m\u001b[34mEach Model Date Testing Mean Score(spearman):\u001b[0m\n",
      "\u001b[32mModels            0       0       0\u001b[0m\n",
      "\u001b[32mOutput         best swalast swabest\u001b[0m\n",
      "\u001b[32m20220613     0.0895  0.0986  0.0975\u001b[0m\n",
      "\u001b[32m20221206     0.0764  0.0717  0.0764\u001b[0m\n",
      "\u001b[32m20230606     0.0559  0.0433  0.0545\u001b[0m\n",
      "\u001b[32m20231201     0.1069  0.1100  0.1128\u001b[0m\n",
      "\u001b[32mAllTimeAvg   0.0818  0.0805  0.0849\u001b[0m\n",
      "\u001b[32mAllTimeSum    38.70   38.06   40.16\u001b[0m\n",
      "\u001b[32mStd          0.0717  0.0699  0.0706\u001b[0m\n",
      "\u001b[32mTValue        24.83   25.02   26.15\u001b[0m\n",
      "\u001b[32mAnnIR        5.5928  5.6364  5.8909\u001b[0m\n",
      "\u001b[1m\u001b[37m\u001b[41m24-06-02 21:09:54|MOD:display     |\u001b[0m: \u001b[1m\u001b[31mFinish Process [Test], Cost 33.7 Secs\u001b[0m\n",
      "\u001b[1m\u001b[37m\u001b[41m24-06-02 21:09:54|MOD:time        |\u001b[0m: \u001b[1m\u001b[31mMain Process Finished! Cost 47 Minutes 44.3 Seconds\u001b[0m\n"
     ]
    }
   ],
   "source": [
    "from src import API\n",
    "API.Trainer.main(stage = 0 , resume = 0 , checkname= 1)"
   ]
  },
  {
   "cell_type": "code",
   "execution_count": 1,
   "metadata": {},
   "outputs": [
    {
     "name": "stdout",
     "output_type": "stream",
     "text": [
      "Use device name: NVIDIA GeForce RTX 4090\n",
      "predict is False , Data Processing start!\n",
      "4 datas :['y', 'day', '30m', 'risk']\n",
      "y blocks loading start!\n",
      " --> labels blocks reading [ret10_lag] DataBase...... finished! Cost 20.05 secs\n",
      " --> labels blocks reading [ret20_lag] DataBase...... finished! Cost 18.36 secs\n",
      " --> labels blocks merging (2)...... finished! Cost 2.97 secs\n",
      " --> models blocks reading [risk_exp] DataBase...... finished! Cost 66.12 secs\n",
      "y blocks loading finished! Cost 118.05 secs\n",
      "y blocks process...... finished! Cost 45.72 secs\n",
      "y blocks masking...... finished! Cost 0.81 secs\n",
      "y blocks saving ...... finished! Cost 4.98 secs\n",
      "y blocks norming...... finished! Cost 0.00 secs\n",
      "y finished! Cost 169.72 Seconds\n",
      "--------------------------------------------------------------------------------\n",
      "day blocks loading start!\n",
      " --> trade blocks reading [day] DataBase...... finished! Cost 30.05 secs\n",
      "day blocks loading finished! Cost 30.08 secs\n",
      "day blocks process...... finished! Cost 3.38 secs\n",
      "day blocks masking...... finished! Cost 0.91 secs\n",
      "day blocks saving ...... finished! Cost 3.69 secs\n",
      "day blocks norming...... finished! Cost 8.45 secs\n",
      "day finished! Cost 46.67 Seconds\n",
      "--------------------------------------------------------------------------------\n",
      "30m blocks loading start!\n",
      " --> trade blocks reading [30min] DataBase...... finished! Cost 69.00 secs\n",
      " --> trade blocks reading [day] DataBase...... finished! Cost 26.19 secs\n",
      "30m blocks loading finished! Cost 96.67 secs\n",
      "30m blocks process...... finished! Cost 32.22 secs\n",
      "30m blocks masking...... finished! Cost 2.36 secs\n",
      "30m blocks saving ...... finished! Cost 41.24 secs\n",
      "30m blocks norming...... finished! Cost 3.75 secs\n",
      "30m finished! Cost 176.37 Seconds\n",
      "--------------------------------------------------------------------------------\n",
      "risk blocks loading start!\n",
      " --> models blocks reading [risk_exp] DataBase...... finished! Cost 36.13 secs\n",
      "risk blocks loading finished! Cost 36.17 secs\n",
      "risk blocks process...... finished! Cost 0.00 secs\n",
      "risk blocks masking...... finished! Cost 1.14 secs\n",
      "risk blocks saving ...... finished! Cost 5.74 secs\n",
      "risk blocks norming...... finished! Cost 0.00 secs\n",
      "risk finished! Cost 43.26 Seconds\n",
      "--------------------------------------------------------------------------------\n",
      "Data Processing Finished! Cost 436.03 Seconds\n",
      "predict is True , Data Processing start!\n",
      "4 datas :['y', 'day', '30m', 'risk']\n",
      "y blocks loading start!\n",
      " --> labels blocks reading [ret10_lag] DataBase...... finished! Cost 0.72 secs\n",
      " --> labels blocks reading [ret20_lag] DataBase...... finished! Cost 0.72 secs\n",
      " --> labels blocks merging (2)...... finished! Cost 0.10 secs\n",
      " --> models blocks reading [risk_exp] DataBase...... finished! Cost 3.52 secs\n",
      "y blocks loading finished! Cost 5.33 secs\n",
      "y blocks process...... finished! Cost 2.00 secs\n",
      "y blocks masking...... finished! Cost 0.08 secs\n",
      "y blocks saving ...... finished! Cost 0.15 secs\n",
      "y blocks norming...... finished! Cost 0.00 secs\n",
      "y finished! Cost 7.74 Seconds\n",
      "--------------------------------------------------------------------------------\n",
      "day blocks loading start!\n",
      " --> trade blocks reading [day] DataBase...... finished! Cost 1.21 secs\n",
      "day blocks loading finished! Cost 1.21 secs\n",
      "day blocks process...... finished! Cost 0.15 secs\n",
      "day blocks masking...... finished! Cost 0.08 secs\n",
      "day blocks saving ...... finished! Cost 0.15 secs\n",
      "day blocks norming...... finished! Cost 0.00 secs\n",
      "day finished! Cost 1.74 Seconds\n",
      "--------------------------------------------------------------------------------\n",
      "30m blocks loading start!\n",
      " --> trade blocks reading [30min] DataBase...... finished! Cost 5.35 secs\n",
      " --> trade blocks reading [day] DataBase...... finished! Cost 1.14 secs\n",
      "30m blocks loading finished! Cost 6.53 secs\n",
      "30m blocks process...... finished! Cost 1.48 secs\n",
      "30m blocks masking...... finished! Cost 0.13 secs\n",
      "30m blocks saving ...... finished! Cost 1.75 secs\n",
      "30m blocks norming...... finished! Cost 0.00 secs\n",
      "30m finished! Cost 10.05 Seconds\n",
      "--------------------------------------------------------------------------------\n",
      "risk blocks loading start!\n",
      " --> models blocks reading [risk_exp] DataBase...... finished! Cost 1.53 secs\n",
      "risk blocks loading finished! Cost 1.53 secs\n",
      "risk blocks process...... finished! Cost 0.00 secs\n",
      "risk blocks masking...... finished! Cost 0.07 secs\n",
      "risk blocks saving ...... finished! Cost 0.20 secs\n",
      "risk blocks norming...... finished! Cost 0.00 secs\n",
      "risk finished! Cost 1.93 Seconds\n",
      "--------------------------------------------------------------------------------\n",
      "Data Processing Finished! Cost 21.45 Seconds\n"
     ]
    }
   ],
   "source": [
    "from src import API\n",
    "API.DataAPI.reconstruct_train_data()\n",
    "API.Trainer.update_models()"
   ]
  }
 ],
 "metadata": {
  "kernelspec": {
   "display_name": "Python 3",
   "language": "python",
   "name": "python3"
  },
  "language_info": {
   "codemirror_mode": {
    "name": "ipython",
    "version": 3
   },
   "file_extension": ".py",
   "mimetype": "text/x-python",
   "name": "python",
   "nbconvert_exporter": "python",
   "pygments_lexer": "ipython3",
   "version": "3.11.8"
  }
 },
 "nbformat": 4,
 "nbformat_minor": 2
}
