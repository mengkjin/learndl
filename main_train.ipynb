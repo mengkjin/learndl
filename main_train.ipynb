{
 "cells": [
  {
   "cell_type": "code",
   "execution_count": 1,
   "metadata": {},
   "outputs": [
    {
     "data": {
      "text/plain": [
       "True"
      ]
     },
     "execution_count": 1,
     "metadata": {},
     "output_type": "execute_result"
    }
   ],
   "source": [
    "# %% test cuda\n",
    "import torch #type: ignore\n",
    "torch.cuda.is_available()"
   ]
  },
  {
   "cell_type": "code",
   "execution_count": 1,
   "metadata": {},
   "outputs": [
    {
     "name": "stdout",
     "output_type": "stream",
     "text": [
      "Use device name: NVIDIA GeForce RTX 4090\n",
      "Unpack Update Files\n",
      "['/home/mengkjin/Workspace/SharedFolder/DB_updater.240402111348.tar', '/home/mengkjin/Workspace/SharedFolder/DB_updater.240403111906.tar', '/home/mengkjin/Workspace/SharedFolder/DB_updater.240403115028.tar', '/home/mengkjin/Workspace/SharedFolder/DB_updater.240405000856.tar']\n",
      "Fri Apr  5 00:14:05 2024 : All Updates Done! Cost 5.75 Secs\n",
      "Fri Apr  5 00:14:05 2024 : download since!\n",
      "Connection and Factor preparation finished!\n",
      "Fri Apr  5 00:14:05 2024 : sellside/haitong.hf_factors from 20240330 to 20240405, total 1 periods\n",
      "Start sellside/haitong.hf_factors:20240330-20240405 \n",
      "Done sellside/haitong.hf_factors:20240330-20240405 \n",
      "Fri Apr  5 00:14:13 2024 : sellside/haitong.dl_factors from 20240330 to 20240405, total 1 periods\n",
      "Start sellside/haitong.dl_factors:20240330-20240405 \n",
      "Done sellside/haitong.dl_factors:20240330-20240405 \n",
      "Fri Apr  5 00:15:44 2024 : sellside/dongfang.hfq_chars from 20240330 to 20240405, total 1 periods\n",
      "Start sellside/dongfang.hfq_chars:20240330-20240405 \n",
      "Done sellside/dongfang.hfq_chars:20240330-20240405 \n",
      "Fri Apr  5 00:15:51 2024 : sellside/dongfang.l2_chars from 20240330 to 20240405, total 1 periods\n",
      "Start sellside/dongfang.l2_chars:20240330-20240405 \n",
      "Done sellside/dongfang.l2_chars:20240330-20240405 \n",
      "Fri Apr  5 00:16:31 2024 : sellside/dongfang.ms_chars from 20240330 to 20240405, total 1 periods\n",
      "Start sellside/dongfang.ms_chars:20240330-20240405 \n",
      "Done sellside/dongfang.ms_chars:20240330-20240405 \n",
      "Fri Apr  5 00:17:28 2024 : sellside/dongfang.order_flow from 20240330 to 20240405, total 1 periods\n",
      "Start sellside/dongfang.order_flow:20240330-20240405 \n",
      "Done sellside/dongfang.order_flow:20240330-20240405 \n",
      "Fri Apr  5 00:17:31 2024 : sellside/dongfang.gp from 20240330 to 20240405, total 1 periods\n",
      "Start sellside/dongfang.gp:20240330-20240405 \n",
      "Done sellside/dongfang.gp:20240330-20240405 \n",
      "Fri Apr  5 00:17:33 2024 : sellside/dongfang.tra from 20240330 to 20240405, total 1 periods\n",
      "Start sellside/dongfang.tra:20240330-20240405 \n",
      "Done sellside/dongfang.tra:20240330-20240405 \n",
      "Fri Apr  5 00:17:35 2024 : sellside/dongfang.hist from 20240330 to 20240405, total 1 periods\n",
      "Start sellside/dongfang.hist:20240330-20240405 \n",
      "Done sellside/dongfang.hist:20240330-20240405 \n",
      "Fri Apr  5 00:17:36 2024 : sellside/dongfang.scores_v0 from 20240330 to 20240405, total 1 periods\n",
      "Start sellside/dongfang.scores_v0:20240330-20240405 \n",
      "Done sellside/dongfang.scores_v0:20240330-20240405 \n",
      "Fri Apr  5 00:17:38 2024 : sellside/kaiyuan.positive from 20240301 to 20240405, total 1 periods\n",
      "Start sellside/kaiyuan.positive:20240301-20240405 \n",
      "Done sellside/kaiyuan.positive:20240301-20240405 \n",
      "Fri Apr  5 00:17:42 2024 : sellside/kaiyuan.negative from 20240301 to 20240405, total 1 periods\n",
      "Start sellside/kaiyuan.negative:20240301-20240405 \n",
      "Done sellside/kaiyuan.negative:20240301-20240405 \n",
      "Fri Apr  5 00:17:44 2024 : sellside/huatai.dl_factors from 20240330 to 20240405, total 1 periods\n",
      "Start sellside/huatai.dl_factors:20240330-20240405 \n",
      "Done sellside/huatai.dl_factors:20240330-20240405 \n"
     ]
    }
   ],
   "source": [
    "# %% update data\n",
    "import socket\n",
    "import src.data as data\n",
    "data.DataFetcher.main()\n",
    "if socket.gethostname() == 'mengkjin-server':\n",
    "    data.DataFetcher_sql.DataFetcher_sql.update_since()"
   ]
  },
  {
   "cell_type": "code",
   "execution_count": 1,
   "metadata": {},
   "outputs": [
    {
     "name": "stdout",
     "output_type": "stream",
     "text": [
      "Use device name: NVIDIA GeForce RTX 4090\n"
     ]
    },
    {
     "name": "stderr",
     "output_type": "stream",
     "text": [
      "\u001b[1m\u001b[37m\u001b[44m24-04-10 22:46:32|MOD:run_model   |\u001b[0m: \u001b[1m\u001b[34mModel Specifics:\u001b[0m\n",
      "\u001b[1m\u001b[37m\u001b[41m24-04-10 22:46:32|MOD:run_model   |\u001b[0m: \u001b[1m\u001b[31mStart Process [Load Data]!\u001b[0m\n"
     ]
    },
    {
     "name": "stdout",
     "output_type": "stream",
     "text": [
      "--Process Queue : Data + Train + Test\n",
      "--Model_name is set to gru_day.1!\n",
      "{'random_seed': None,\n",
      " 'model_name': 'gru_day.1',\n",
      " 'model_module': 'gru',\n",
      " 'model_data_type': 'day',\n",
      " 'labels': ['std_lag1_10'],\n",
      " 'beg_date': 20170103,\n",
      " 'end_date': 99991231,\n",
      " 'interval': 120,\n",
      " 'input_step_day': 5,\n",
      " 'test_step_day': 1}\n",
      "{'hidden_dim': [32, 64],\n",
      " 'seqlens': [{'day': 30, '30m': 30, 'dms': 30}],\n",
      " 'tra_seqlens': [{'hist_loss': 40}],\n",
      " 'dropout': [0.1],\n",
      " 'enc_in': [True],\n",
      " 'enc_att': [False],\n",
      " 'rnn_type': ['lstm'],\n",
      " 'rnn_att': [False],\n",
      " 'rnn_layers': [2],\n",
      " 'dec_mlp_layers': [2],\n",
      " 'num_output': [1],\n",
      " 'kernel_size': [3],\n",
      " 'hidden_as_factor': [False],\n",
      " 'ordered_param_group': [False]}\n",
      "use /home/mengkjin/Workspace/learndl/data/torch_pack/day.20240313.pt\n"
     ]
    },
    {
     "name": "stderr",
     "output_type": "stream",
     "text": [
      "\u001b[1m\u001b[37m\u001b[41m24-04-10 22:46:36|MOD:run_model   |\u001b[0m: \u001b[1m\u001b[31mFinish Process [Load Data]! Cost 3.5Secs\u001b[0m\n",
      "\u001b[1m\u001b[37m\u001b[41m24-04-10 22:46:36|MOD:run_model   |\u001b[0m: \u001b[1m\u001b[31mStart Process [Train Model]!\u001b[0m\n"
     ]
    },
    {
     "name": "stdout",
     "output_type": "stream",
     "text": [
      "Pre-Norming method of [day] : [endpoint_division(True) , history_standardize(True)]\n"
     ]
    },
    {
     "name": "stderr",
     "output_type": "stream",
     "text": [
      "\u001b[32mgru_day.1 #0 @20170103 LoadData Cost    3.4Secs\u001b[0m\n"
     ]
    },
    {
     "name": "stdout",
     "output_type": "stream",
     "text": [
      "score function of [spearman] calculated and success!\n",
      "loss function of [pearson] calculated and success!\n"
     ]
    },
    {
     "name": "stderr",
     "output_type": "stream",
     "text": [
      "\u001b[32mFirstBite Ep#  0 : loss  0.99484, train 0.00764, valid 0.02699, max 0.0270, best 0.0270, lr1.0e-07\u001b[0m\n",
      "\u001b[32mFirstBite Ep#  5 : loss  0.91629, train 0.10041, valid 0.12027, max 0.1203, best 0.1203, lr3.8e-03\u001b[0m\n",
      "\u001b[32mFirstBite Ep# 10 : loss  0.88095, train 0.13350, valid 0.14753, max 0.1475, best 0.1475, lr1.3e-03\u001b[0m\n",
      "\u001b[32mFirstBite Ep# 15 : loss  0.86524, train 0.14768, valid 0.15298, max 0.1530, best 0.1530, lr6.3e-04\u001b[0m\n",
      "\u001b[32mFirstBite Ep# 20 : loss  0.86558, train 0.14697, valid 0.14586, max 0.1530, best 0.1530, lr1.3e-03\u001b[0m\n",
      "\u001b[32mFirstBite Ep# 25 : loss  0.85426, train 0.15954, valid 0.15098, max 0.1530, best 0.1530, lr1.6e-04\u001b[0m\n",
      "\u001b[32mFirstBite Ep# 30 : loss  0.85202, train 0.16262, valid 0.14692, max 0.1541, best 0.1541, lr3.1e-04\u001b[0m\n",
      "\u001b[32mFirstBite Ep# 35 : loss  0.85062, train 0.16375, valid 0.14360, max 0.1552, best 0.1552, lr2.3e-04\u001b[0m\n",
      "\u001b[32mReset learn rate and scheduler at the end of epoch 39 , effective at epoch 40\u001b[0m\n",
      "\u001b[32mFirstBite Ep# 40 : loss  0.84762, train 0.16682, valid 0.15300, max 0.1552, best 0.1552, lr1.0e-07\u001b[0m\n",
      "\u001b[32mFirstBite Ep# 45 : loss  0.85466, train 0.15966, valid 0.14541, max 0.1552, best 0.1552, lr1.3e-03\u001b[0m\n",
      "\u001b[32mFirstBite Ep# 50 : loss  0.84983, train 0.16452, valid 0.15581, max 0.1558, best 0.1558, lr1.3e-03\u001b[0m\n",
      "\u001b[32mFirstBite Ep# 55 : loss  0.84104, train 0.17428, valid 0.14763, max 0.1562, best 0.1562, lr3.1e-04\u001b[0m\n",
      "\u001b[32mReset learn rate and scheduler at the end of epoch 59 , effective at epoch 60\u001b[0m\n",
      "\u001b[32mFirstBite Ep# 60 : loss  0.83807, train 0.17707, valid 0.14973, max 0.1562, best 0.1562, lr1.0e-07\u001b[0m\n",
      "\u001b[32mFirstBite Ep# 65 : loss  0.84496, train 0.17090, valid 0.14233, max 0.1562, best 0.1562, lr1.3e-03\u001b[0m\n",
      "\u001b[32mFirstBite Ep# 70 : loss  0.84044, train 0.17438, valid 0.15342, max 0.1582, best 0.1582, lr1.3e-03\u001b[0m\n",
      "\u001b[32mFirstBite Ep# 75 : loss  0.83220, train 0.18316, valid 0.14712, max 0.1582, best 0.1582, lr3.1e-04\u001b[0m\n",
      "\u001b[32mFirstBite Ep# 80 : loss  0.82881, train 0.18684, valid 0.15191, max 0.1582, best 0.1582, lr1.0e-07\u001b[0m\n",
      "\u001b[32mFirstBite Ep# 85 : loss  0.82885, train 0.18644, valid 0.15029, max 0.1582, best 0.1582, lr3.9e-05\u001b[0m\n",
      "\u001b[1m\u001b[37m\u001b[44m24-04-10 22:54:14|MOD:run_model   |\u001b[0m: \u001b[1m\u001b[34mgru_day.1 #0 @20170103|FirstBite Ep# 86 EarlyStop|Train 0.1871 Valid 0.1513 BestVal 0.1582|Cost  7.6Min,  5.2Sec/Ep\u001b[0m\n",
      "\u001b[32mFirstBite Ep#  0 : loss  1.00230, train-0.00364, valid-0.00062, max-0.0006, best-0.0006, lr1.0e-07\u001b[0m\n",
      "\u001b[32mFirstBite Ep#  5 : loss  0.90636, train 0.11220, valid 0.13427, max 0.1343, best 0.1343, lr3.8e-03\u001b[0m\n",
      "\u001b[32mFirstBite Ep# 10 : loss  0.86903, train 0.14703, valid 0.14818, max 0.1482, best 0.1482, lr1.3e-03\u001b[0m\n",
      "\u001b[32mFirstBite Ep# 15 : loss  0.84752, train 0.16879, valid 0.15473, max 0.1591, best 0.1591, lr6.3e-04\u001b[0m\n",
      "\u001b[32mFirstBite Ep# 20 : loss  0.84635, train 0.17034, valid 0.16107, max 0.1611, best 0.1611, lr1.3e-03\u001b[0m\n",
      "\u001b[32mFirstBite Ep# 25 : loss  0.82957, train 0.18671, valid 0.15398, max 0.1611, best 0.1611, lr1.6e-04\u001b[0m\n",
      "\u001b[32mFirstBite Ep# 30 : loss  0.82567, train 0.19069, valid 0.15245, max 0.1611, best 0.1611, lr3.1e-04\u001b[0m\n",
      "\u001b[32mFirstBite Ep# 35 : loss  0.82212, train 0.19398, valid 0.15092, max 0.1611, best 0.1611, lr2.3e-04\u001b[0m\n",
      "\u001b[32mReset learn rate and scheduler at the end of epoch 39 , effective at epoch 40\u001b[0m\n",
      "\u001b[32mFirstBite Ep# 40 : loss  0.81702, train 0.19825, valid 0.14977, max 0.1611, best 0.1611, lr1.0e-07\u001b[0m\n",
      "\u001b[1m\u001b[37m\u001b[44m24-04-10 22:57:48|MOD:run_model   |\u001b[0m: \u001b[1m\u001b[34mgru_day.1 #1 @20170103|FirstBite Ep# 40 EarlyStop|Train 0.1983 Valid 0.1498 BestVal 0.1611|Cost  3.6Min,  5.2Sec/Ep\u001b[0m\n",
      "\u001b[1m\u001b[37m\u001b[44m24-04-10 23:06:17|MOD:run_model   |\u001b[0m: \u001b[1m\u001b[34mgru_day.1 #0 @20170704|FirstBite Ep# 94 EarlyStop|Train 0.1874 Valid 0.1422 BestVal 0.1480|Cost  8.5Min,  5.3Sec/Ep\u001b[0m\n",
      "\u001b[1m\u001b[37m\u001b[44m24-04-10 23:09:50|MOD:run_model   |\u001b[0m: \u001b[1m\u001b[34mgru_day.1 #1 @20170704|FirstBite Ep# 42 EarlyStop|Train 0.1525 Valid 0.1473 BestVal 0.1584|Cost  3.6Min,  5.0Sec/Ep\u001b[0m\n",
      "\u001b[1m\u001b[37m\u001b[44m24-04-10 23:13:09|MOD:run_model   |\u001b[0m: \u001b[1m\u001b[34mgru_day.1 #0 @20171226|FirstBite Ep# 34 EarlyStop|Train 0.1684 Valid 0.1509 BestVal 0.1610|Cost  3.3Min,  5.6Sec/Ep\u001b[0m\n",
      "\u001b[1m\u001b[37m\u001b[44m24-04-10 23:16:39|MOD:run_model   |\u001b[0m: \u001b[1m\u001b[34mgru_day.1 #1 @20171226|FirstBite Ep# 40 EarlyStop|Train 0.1980 Valid 0.1421 BestVal 0.1501|Cost  3.5Min,  5.1Sec/Ep\u001b[0m\n",
      "\u001b[1m\u001b[37m\u001b[44m24-04-10 23:20:38|MOD:run_model   |\u001b[0m: \u001b[1m\u001b[34mgru_day.1 #0 @20180627|FirstBite Ep# 41 EarlyStop|Train 0.1554 Valid 0.1362 BestVal 0.1444|Cost  4.0Min,  5.6Sec/Ep\u001b[0m\n",
      "\u001b[1m\u001b[37m\u001b[44m24-04-10 23:25:03|MOD:run_model   |\u001b[0m: \u001b[1m\u001b[34mgru_day.1 #1 @20180627|FirstBite Ep# 48 EarlyStop|Train 0.2064 Valid 0.1439 BestVal 0.1468|Cost  4.4Min,  5.4Sec/Ep\u001b[0m\n",
      "\u001b[1m\u001b[37m\u001b[44m24-04-10 23:29:36|MOD:run_model   |\u001b[0m: \u001b[1m\u001b[34mgru_day.1 #0 @20181220|FirstBite Ep# 48 EarlyStop|Train 0.1771 Valid 0.1337 BestVal 0.1396|Cost  4.5Min,  5.5Sec/Ep\u001b[0m\n",
      "\u001b[1m\u001b[37m\u001b[44m24-04-10 23:34:37|MOD:run_model   |\u001b[0m: \u001b[1m\u001b[34mgru_day.1 #1 @20181220|FirstBite Ep# 55 EarlyStop|Train 0.2142 Valid 0.1351 BestVal 0.1400|Cost  5.0Min,  5.4Sec/Ep\u001b[0m\n",
      "\u001b[1m\u001b[37m\u001b[44m24-04-10 23:39:18|MOD:run_model   |\u001b[0m: \u001b[1m\u001b[34mgru_day.1 #0 @20190624|FirstBite Ep# 49 EarlyStop|Train 0.1729 Valid 0.1153 BestVal 0.1337|Cost  4.7Min,  5.5Sec/Ep\u001b[0m\n",
      "\u001b[1m\u001b[37m\u001b[44m24-04-10 23:43:53|MOD:run_model   |\u001b[0m: \u001b[1m\u001b[34mgru_day.1 #1 @20190624|FirstBite Ep# 49 EarlyStop|Train 0.1994 Valid 0.1245 BestVal 0.1382|Cost  4.6Min,  5.5Sec/Ep\u001b[0m\n",
      "\u001b[1m\u001b[37m\u001b[44m24-04-10 23:47:41|MOD:run_model   |\u001b[0m: \u001b[1m\u001b[34mgru_day.1 #0 @20191217|FirstBite Ep# 41 EarlyStop|Train 0.1581 Valid 0.1146 BestVal 0.1241|Cost  3.8Min,  5.3Sec/Ep\u001b[0m\n",
      "\u001b[1m\u001b[37m\u001b[44m24-04-10 23:51:12|MOD:run_model   |\u001b[0m: \u001b[1m\u001b[34mgru_day.1 #1 @20191217|FirstBite Ep# 39 EarlyStop|Train 0.1995 Valid 0.1175 BestVal 0.1218|Cost  3.5Min,  5.3Sec/Ep\u001b[0m\n",
      "\u001b[1m\u001b[37m\u001b[44m24-04-10 23:59:14|MOD:run_model   |\u001b[0m: \u001b[1m\u001b[34mgru_day.1 #0 @20200617|FirstBite Ep# 86 EarlyStop|Train 0.1931 Valid 0.1070 BestVal 0.1173|Cost  8.0Min,  5.5Sec/Ep\u001b[0m\n",
      "\u001b[1m\u001b[37m\u001b[44m24-04-11 00:02:58|MOD:run_model   |\u001b[0m: \u001b[1m\u001b[34mgru_day.1 #1 @20200617|FirstBite Ep# 42 EarlyStop|Train 0.1581 Valid 0.0942 BestVal 0.1103|Cost  3.7Min,  5.2Sec/Ep\u001b[0m\n",
      "\u001b[1m\u001b[37m\u001b[44m24-04-11 00:07:31|MOD:run_model   |\u001b[0m: \u001b[1m\u001b[34mgru_day.1 #0 @20201214|FirstBite Ep# 48 EarlyStop|Train 0.1761 Valid 0.0951 BestVal 0.1039|Cost  4.5Min,  5.5Sec/Ep\u001b[0m\n",
      "\u001b[1m\u001b[37m\u001b[44m24-04-11 00:10:41|MOD:run_model   |\u001b[0m: \u001b[1m\u001b[34mgru_day.1 #1 @20201214|FirstBite Ep# 35 EarlyStop|Train 0.1880 Valid 0.1023 BestVal 0.1071|Cost  3.2Min,  5.3Sec/Ep\u001b[0m\n",
      "\u001b[1m\u001b[37m\u001b[44m24-04-11 00:16:48|MOD:run_model   |\u001b[0m: \u001b[1m\u001b[34mgru_day.1 #0 @20210615|FirstBite Ep# 71 EarlyStop|Train 0.1818 Valid 0.1011 BestVal 0.1031|Cost  6.1Min,  5.0Sec/Ep\u001b[0m\n",
      "\u001b[1m\u001b[37m\u001b[44m24-04-11 00:20:35|MOD:run_model   |\u001b[0m: \u001b[1m\u001b[34mgru_day.1 #1 @20210615|FirstBite Ep# 41 EarlyStop|Train 0.1702 Valid 0.0967 BestVal 0.1056|Cost  3.8Min,  5.4Sec/Ep\u001b[0m\n",
      "\u001b[1m\u001b[37m\u001b[44m24-04-11 00:28:56|MOD:run_model   |\u001b[0m: \u001b[1m\u001b[34mgru_day.1 #0 @20211209|FirstBite Ep# 90 EarlyStop|Train 0.1825 Valid 0.0971 BestVal 0.0993|Cost  8.3Min,  5.5Sec/Ep\u001b[0m\n",
      "\u001b[1m\u001b[37m\u001b[44m24-04-11 00:34:27|MOD:run_model   |\u001b[0m: \u001b[1m\u001b[34mgru_day.1 #1 @20211209|FirstBite Ep# 61 EarlyStop|Train 0.1810 Valid 0.0923 BestVal 0.0968|Cost  5.5Min,  5.3Sec/Ep\u001b[0m\n",
      "\u001b[1m\u001b[37m\u001b[44m24-04-11 00:39:13|MOD:run_model   |\u001b[0m: \u001b[1m\u001b[34mgru_day.1 #0 @20220613|FirstBite Ep# 50 EarlyStop|Train 0.1567 Valid 0.0933 BestVal 0.0956|Cost  4.8Min,  5.5Sec/Ep\u001b[0m\n",
      "\u001b[1m\u001b[37m\u001b[44m24-04-11 00:45:23|MOD:run_model   |\u001b[0m: \u001b[1m\u001b[34mgru_day.1 #1 @20220613|FirstBite Ep# 81 EarlyStop|Train 0.2058 Valid 0.0942 BestVal 0.1047|Cost  6.2Min,  4.5Sec/Ep\u001b[0m\n",
      "\u001b[1m\u001b[37m\u001b[44m24-04-11 00:52:59|MOD:run_model   |\u001b[0m: \u001b[1m\u001b[34mgru_day.1 #0 @20221206|FirstBite Ep# 83 EarlyStop|Train 0.1772 Valid 0.0905 BestVal 0.0948|Cost  7.6Min,  5.4Sec/Ep\u001b[0m\n",
      "\u001b[1m\u001b[37m\u001b[44m24-04-11 00:58:34|MOD:run_model   |\u001b[0m: \u001b[1m\u001b[34mgru_day.1 #1 @20221206|FirstBite Ep# 61 EarlyStop|Train 0.1718 Valid 0.0885 BestVal 0.0969|Cost  5.6Min,  5.4Sec/Ep\u001b[0m\n",
      "\u001b[1m\u001b[37m\u001b[44m24-04-11 01:02:22|MOD:run_model   |\u001b[0m: \u001b[1m\u001b[34mgru_day.1 #0 @20230606|FirstBite Ep# 40 EarlyStop|Train 0.1619 Valid 0.0928 BestVal 0.0984|Cost  3.8Min,  5.4Sec/Ep\u001b[0m\n",
      "\u001b[1m\u001b[37m\u001b[44m24-04-11 01:04:36|MOD:run_model   |\u001b[0m: \u001b[1m\u001b[34mgru_day.1 #1 @20230606|FirstBite Ep# 25 EarlyStop|Train 0.1701 Valid 0.0923 BestVal 0.1009|Cost  2.2Min,  5.2Sec/Ep\u001b[0m\n",
      "\u001b[1m\u001b[37m\u001b[44m24-04-11 01:07:30|MOD:run_model   |\u001b[0m: \u001b[1m\u001b[34mgru_day.1 #0 @20231201|FirstBite Ep# 31 EarlyStop|Train 0.1482 Valid 0.0870 BestVal 0.0977|Cost  2.9Min,  5.3Sec/Ep\u001b[0m\n",
      "\u001b[1m\u001b[37m\u001b[44m24-04-11 01:11:06|MOD:run_model   |\u001b[0m: \u001b[1m\u001b[34mgru_day.1 #1 @20231201|FirstBite Ep# 33 EarlyStop|Train 0.1698 Valid 0.0821 BestVal 0.0974|Cost  3.6Min,  6.3Sec/Ep\u001b[0m\n",
      "\u001b[1m\u001b[37m\u001b[41m24-04-11 01:11:06|MOD:run_model   |\u001b[0m: \u001b[1m\u001b[31mFinish Process [Train Model]! Cost 2.4 Hours, 4.8 Min/model, 5.4 Sec/Epoch\u001b[0m\n",
      "\u001b[1m\u001b[37m\u001b[41m24-04-11 01:11:07|MOD:run_model   |\u001b[0m: \u001b[1m\u001b[31mStart Process [Test Model]!\u001b[0m\n",
      "\u001b[1m\u001b[37m\u001b[44m24-04-11 01:11:07|MOD:run_model   |\u001b[0m: \u001b[1m\u001b[34mEach Model Date Testing Mean Score({'train': 'spearman', 'valid': 'spearman', 'test': 'spearman'}):\u001b[0m\n",
      "\u001b[32mModels            0       0       0       1       1       1\u001b[0m\n",
      "\u001b[32mOutput         best swalast swabest    best swalast swabest\u001b[0m\n",
      "\u001b[32m20170103     0.1402  0.1368  0.1434  0.1366  0.1416  0.1413\u001b[0m\n",
      "\u001b[32m20170704     0.1456  0.1344  0.1407  0.1481  0.1429  0.1454\u001b[0m\n",
      "\u001b[32m20171226     0.1357  0.1370  0.1442  0.1376  0.1412  0.1408\u001b[0m\n",
      "\u001b[32m20180627     0.0733  0.0719  0.0793  0.0859  0.0824  0.0838\u001b[0m\n",
      "\u001b[32m20181220     0.1197  0.1183  0.1198  0.1234  0.1228  0.1247\u001b[0m\n",
      "\u001b[32m20190624     0.0916  0.0900  0.0890  0.1002  0.0970  0.0966\u001b[0m\n",
      "\u001b[32m20191217     0.1014  0.1052  0.1035  0.1066  0.1076  0.1066\u001b[0m\n",
      "\u001b[32m20200617     0.1105  0.1053  0.1119  0.1115  0.1100  0.1117\u001b[0m\n",
      "\u001b[32m20201214     0.1077  0.1084  0.1095  0.1125  0.1082  0.1116\u001b[0m\n",
      "\u001b[32m20210615     0.0778  0.0778  0.0782  0.0763  0.0784  0.0783\u001b[0m\n",
      "\u001b[32m20211209     0.1112  0.0992  0.1096  0.0911  0.0952  0.1049\u001b[0m\n",
      "\u001b[32m20220613     0.0898  0.0911  0.0931  0.1050  0.0929  0.1013\u001b[0m\n",
      "\u001b[32m20221206     0.0621  0.0542  0.0611  0.0568  0.0531  0.0536\u001b[0m\n",
      "\u001b[32m20230606     0.1082  0.0947  0.1061  0.1132  0.1156  0.1090\u001b[0m\n",
      "\u001b[32m20231201     0.0943  0.1071  0.1076  0.1078  0.1088  0.1029\u001b[0m\n",
      "\u001b[32mAllTimeAvg   0.1049  0.1020  0.1064  0.1075  0.1065  0.1076\u001b[0m\n",
      "\u001b[32mAllTimeSum   184.24  179.16  186.99  188.87  187.05  189.10\u001b[0m\n",
      "\u001b[32mStd          0.0892  0.0854  0.0883  0.0912  0.0852  0.0880\u001b[0m\n",
      "\u001b[32mTValue        49.27   50.05   50.50   49.39   52.40   51.29\u001b[0m\n",
      "\u001b[32mAnnIR        5.7583  5.8497  5.9024  5.7723  6.1242  5.9946\u001b[0m\n",
      "\u001b[1m\u001b[37m\u001b[41m24-04-11 01:12:04|MOD:run_model   |\u001b[0m: \u001b[1m\u001b[31mFinish Process [Test Model]! Cost 57.2 Secs\u001b[0m\n"
     ]
    },
    {
     "name": "stdout",
     "output_type": "stream",
     "text": [
      "                        keys  num_calls   total_time  avg_time\n",
      "5    model_train/epoch/train       1614  7948.426917  4.924676\n",
      "8             train/backward     619264  4236.128789  0.006841\n",
      "7                 train/loss     619264  1492.448846  0.002410\n",
      "6              train/forward     619264  1326.681366  0.002142\n",
      "9    model_train/epoch/valid       1614   593.521749  0.367733\n",
      "11                valid/loss     154944   201.918424  0.001303\n",
      "10             valid/forward     154944   199.027338  0.001285\n",
      "13                save_model       1644    60.699024  0.036922\n",
      "1          model_train/start         30    53.061931  1.768731\n",
      "14        model_train/status       1614    44.355819  0.027482\n",
      "18       model_test/forecast         30    38.517441  1.283915\n",
      "12        model_train/assess       1614    17.641537  0.010930\n",
      "17          model_test/start         30    13.697442  0.456581\n",
      "19              test/forward      10542    11.116768  0.001055\n",
      "20                 test/loss      10542     8.044550  0.000763\n",
      "15           model_train/end         30     6.296744  0.209891\n",
      "4                 load_model        120     0.936361  0.007803\n",
      "3   model_train/init_trainer       1614     0.554655  0.000344\n",
      "21            model_test/end         30     0.023091  0.000770\n",
      "2      model_train/init_loop       1614     0.008599  0.000005\n",
      "0    model_preparation/train         30     0.001913  0.000064\n",
      "16    model_preparation/test         30     0.001612  0.000054\n"
     ]
    }
   ],
   "source": [
    "# %% test a specific model\n",
    "from run_model import main\n",
    "main(process = 0 , resume = 0 , checkname= 1)"
   ]
  },
  {
   "cell_type": "code",
   "execution_count": 1,
   "metadata": {},
   "outputs": [
    {
     "name": "stdout",
     "output_type": "stream",
     "text": [
      "Use device name: NVIDIA GeForce RTX 4090\n"
     ]
    },
    {
     "name": "stderr",
     "output_type": "stream",
     "text": [
      "\u001b[1m\u001b[37m\u001b[41m24-03-31 09:52:11|MOD:data_preprocessing|\u001b[0m: \u001b[1m\u001b[31mif_train is False , Data Processing start!\u001b[0m\n",
      "\u001b[1m\u001b[37m\u001b[45m24-03-31 09:52:11|MOD:data_preprocessing|\u001b[0m: \u001b[1m\u001b[35m3 datas :['y', 'trade_day', 'trade_30m']\u001b[0m\n"
     ]
    },
    {
     "name": "stdout",
     "output_type": "stream",
     "text": [
      "Sun Mar 31 09:52:11 2024 : y start ...\n",
      "labels blocks reading ret10_lag DataBase's ...... cost 0.39 secs\n",
      "labels blocks reading ret20_lag DataBase's ...... cost 0.33 secs\n",
      "labels blocks merging ...... cost 0.05 secs\n",
      "models blocks reading risk_exp DataBase's ...... cost 1.66 secs\n",
      "models blocks merging ...... cost 0.17 secs\n",
      "y blocks process ...... cost 0.88 secs\n",
      "y blocks masking ...... cost 0.05 secs\n",
      "y blocks saving  ...... cost 0.14 secs\n",
      "y blocks norming ...... cost 0.00 secs\n",
      "Sun Mar 31 09:52:14 2024 : y finished! Cost 3.67 Seconds\n",
      "Sun Mar 31 09:52:14 2024 : trade_day start ...\n",
      "trade blocks reading day DataBase's ...... cost 0.56 secs\n",
      "trade_day blocks merging ...... cost 0.00 secs\n",
      "trade_day blocks process ...... cost 0.03 secs\n",
      "trade_day blocks masking ...... cost 0.05 secs\n",
      "trade_day blocks saving  ...... cost 0.16 secs\n",
      "trade_day blocks norming ...... cost 0.00 secs\n",
      "Sun Mar 31 09:52:15 2024 : trade_day finished! Cost 0.81 Seconds\n",
      "Sun Mar 31 09:52:15 2024 : trade_30m start ...\n",
      "trade blocks reading 30min DataBase's ...... cost 2.51 secs\n",
      "trade_30m blocks merging ...... cost 0.00 secs\n",
      "trade blocks reading day DataBase's ...... cost 0.53 secs\n",
      "trade_day blocks merging ...... cost 0.02 secs\n",
      "trade_30m blocks process ...... cost 0.95 secs\n",
      "trade_30m blocks masking ...... cost 0.05 secs\n",
      "trade_30m blocks saving  ..."
     ]
    },
    {
     "name": "stderr",
     "output_type": "stream",
     "text": [
      "\u001b[1m\u001b[37m\u001b[41m24-03-31 09:52:21|MOD:data_preprocessing|\u001b[0m: \u001b[1m\u001b[31mData Processing Finished! Cost 10.02 Seconds\u001b[0m\n"
     ]
    },
    {
     "name": "stdout",
     "output_type": "stream",
     "text": [
      "... cost 1.13 secs\n",
      "trade_30m blocks norming ...... cost 0.00 secs\n",
      "Sun Mar 31 09:52:21 2024 : trade_30m finished! Cost 5.19 Seconds\n"
     ]
    }
   ],
   "source": [
    "from src.data import PreProcess\n",
    "PreProcess.main(False)\n",
    "PreProcess.main(True)"
   ]
  }
 ],
 "metadata": {
  "kernelspec": {
   "display_name": "Python 3",
   "language": "python",
   "name": "python3"
  },
  "language_info": {
   "codemirror_mode": {
    "name": "ipython",
    "version": 3
   },
   "file_extension": ".py",
   "mimetype": "text/x-python",
   "name": "python",
   "nbconvert_exporter": "python",
   "pygments_lexer": "ipython3",
   "version": "3.10.12"
  }
 },
 "nbformat": 4,
 "nbformat_minor": 2
}
