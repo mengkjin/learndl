{
 "cells": [
  {
   "cell_type": "code",
   "execution_count": 1,
   "metadata": {},
   "outputs": [
    {
     "data": {
      "text/plain": [
       "True"
      ]
     },
     "execution_count": 1,
     "metadata": {},
     "output_type": "execute_result"
    }
   ],
   "source": [
    "# %% test cuda\n",
    "import torch #type: ignore\n",
    "torch.cuda.is_available()"
   ]
  },
  {
   "cell_type": "code",
   "execution_count": 1,
   "metadata": {},
   "outputs": [
    {
     "name": "stdout",
     "output_type": "stream",
     "text": [
      "Use device name: NVIDIA GeForce RTX 4090\n",
      "Unpack Update Files\n",
      "['/home/mengkjin/Workspace/SharedFolder/DB_updater.240402111348.tar', '/home/mengkjin/Workspace/SharedFolder/DB_updater.240403111906.tar', '/home/mengkjin/Workspace/SharedFolder/DB_updater.240403115028.tar', '/home/mengkjin/Workspace/SharedFolder/DB_updater.240405000856.tar']\n",
      "Fri Apr  5 00:14:05 2024 : All Updates Done! Cost 5.75 Secs\n",
      "Fri Apr  5 00:14:05 2024 : download since!\n",
      "Connection and Factor preparation finished!\n",
      "Fri Apr  5 00:14:05 2024 : sellside/haitong.hf_factors from 20240330 to 20240405, total 1 periods\n",
      "Start sellside/haitong.hf_factors:20240330-20240405 \n",
      "Done sellside/haitong.hf_factors:20240330-20240405 \n",
      "Fri Apr  5 00:14:13 2024 : sellside/haitong.dl_factors from 20240330 to 20240405, total 1 periods\n",
      "Start sellside/haitong.dl_factors:20240330-20240405 \n",
      "Done sellside/haitong.dl_factors:20240330-20240405 \n",
      "Fri Apr  5 00:15:44 2024 : sellside/dongfang.hfq_chars from 20240330 to 20240405, total 1 periods\n",
      "Start sellside/dongfang.hfq_chars:20240330-20240405 \n",
      "Done sellside/dongfang.hfq_chars:20240330-20240405 \n",
      "Fri Apr  5 00:15:51 2024 : sellside/dongfang.l2_chars from 20240330 to 20240405, total 1 periods\n",
      "Start sellside/dongfang.l2_chars:20240330-20240405 \n",
      "Done sellside/dongfang.l2_chars:20240330-20240405 \n",
      "Fri Apr  5 00:16:31 2024 : sellside/dongfang.ms_chars from 20240330 to 20240405, total 1 periods\n",
      "Start sellside/dongfang.ms_chars:20240330-20240405 \n",
      "Done sellside/dongfang.ms_chars:20240330-20240405 \n",
      "Fri Apr  5 00:17:28 2024 : sellside/dongfang.order_flow from 20240330 to 20240405, total 1 periods\n",
      "Start sellside/dongfang.order_flow:20240330-20240405 \n",
      "Done sellside/dongfang.order_flow:20240330-20240405 \n",
      "Fri Apr  5 00:17:31 2024 : sellside/dongfang.gp from 20240330 to 20240405, total 1 periods\n",
      "Start sellside/dongfang.gp:20240330-20240405 \n",
      "Done sellside/dongfang.gp:20240330-20240405 \n",
      "Fri Apr  5 00:17:33 2024 : sellside/dongfang.tra from 20240330 to 20240405, total 1 periods\n",
      "Start sellside/dongfang.tra:20240330-20240405 \n",
      "Done sellside/dongfang.tra:20240330-20240405 \n",
      "Fri Apr  5 00:17:35 2024 : sellside/dongfang.hist from 20240330 to 20240405, total 1 periods\n",
      "Start sellside/dongfang.hist:20240330-20240405 \n",
      "Done sellside/dongfang.hist:20240330-20240405 \n",
      "Fri Apr  5 00:17:36 2024 : sellside/dongfang.scores_v0 from 20240330 to 20240405, total 1 periods\n",
      "Start sellside/dongfang.scores_v0:20240330-20240405 \n",
      "Done sellside/dongfang.scores_v0:20240330-20240405 \n",
      "Fri Apr  5 00:17:38 2024 : sellside/kaiyuan.positive from 20240301 to 20240405, total 1 periods\n",
      "Start sellside/kaiyuan.positive:20240301-20240405 \n",
      "Done sellside/kaiyuan.positive:20240301-20240405 \n",
      "Fri Apr  5 00:17:42 2024 : sellside/kaiyuan.negative from 20240301 to 20240405, total 1 periods\n",
      "Start sellside/kaiyuan.negative:20240301-20240405 \n",
      "Done sellside/kaiyuan.negative:20240301-20240405 \n",
      "Fri Apr  5 00:17:44 2024 : sellside/huatai.dl_factors from 20240330 to 20240405, total 1 periods\n",
      "Start sellside/huatai.dl_factors:20240330-20240405 \n",
      "Done sellside/huatai.dl_factors:20240330-20240405 \n"
     ]
    }
   ],
   "source": [
    "# %% update data\n",
    "import socket\n",
    "import src.data as data\n",
    "data.DataFetcher.main()\n",
    "if socket.gethostname() == 'mengkjin-server':\n",
    "    data.DataFetcher_sql.DataFetcher_sql.update_since()"
   ]
  },
  {
   "cell_type": "code",
   "execution_count": 4,
   "metadata": {},
   "outputs": [
    {
     "name": "stderr",
     "output_type": "stream",
     "text": [
      "\u001b[1m\u001b[37m\u001b[44m24-04-07 18:54:28|MOD:run_model   |\u001b[0m: \u001b[1m\u001b[34mModel Specifics:\u001b[0m\n",
      "\u001b[1m\u001b[37m\u001b[41m24-04-07 18:54:28|MOD:run_model   |\u001b[0m: \u001b[1m\u001b[31mStart Process [Load Data]!\u001b[0m\n"
     ]
    },
    {
     "name": "stdout",
     "output_type": "stream",
     "text": [
      "--Process Queue : Data + Train + Test\n",
      "--Model_name is set to patch_tst_day!\n",
      "{'random_seed': None,\n",
      " 'verbosity': 2,\n",
      " 'precision': 'float',\n",
      " 'batch_size': 10000,\n",
      " 'model_name': 'patch_tst_day',\n",
      " 'model_module': 'patch_tst',\n",
      " 'model_num': 2,\n",
      " 'model_data_type': 'day',\n",
      " 'labels': ['std_lag1_10'],\n",
      " 'beg_date': 20170103,\n",
      " 'end_date': 99991231,\n",
      " 'interval': 120,\n",
      " 'input_step_day': 5,\n",
      " 'test_step_day': 1,\n",
      " 'MODEL_PARAM': {'hidden_dim': [32, 64],\n",
      "                 'seqlens': [{'day': 30, '30m': 30, 'dms': 30}],\n",
      "                 'seq_len': [30],\n",
      "                 'tra_seqlens': [{'hist_loss': 40}],\n",
      "                 'dropout': [0.1],\n",
      "                 'attn_dropout': [0.1],\n",
      "                 'num_output': [1],\n",
      "                 'patch_len': 5,\n",
      "                 'stride': 2,\n",
      "                 'shared_embedding': True,\n",
      "                 'shared_head': False,\n",
      "                 'revin': True,\n",
      "                 'n_layers': 3,\n",
      "                 'n_heads': 16,\n",
      "                 'd_ff': 256},\n",
      " 'train_params': {'dataloader': {'sample_method': 'sequential', 'shuffle_option': 'epoch', 'train_ratio': 0.8},\n",
      "                  'trainer': {'optimizer': {'name': 'Adam', 'param': {}},\n",
      "                              'scheduler': {'name': 'cycle', 'param': {'base_lr': 1e-07, 'step_size_up': 4}},\n",
      "                              'learn_rate': {'base': 0.005,\n",
      "                                             'ratio': {'attempt': [1, 0.1, 10, 0.01, 100], 'transfer': 0.1},\n",
      "                                             'reset': {'num_reset': 2, 'trigger': 40, 'recover_level': 1.0, 'speedup2x': True}},\n",
      "                              'nanloss': {'retry': 5},\n",
      "                              'gradient': {'clip_value': 10.0},\n",
      "                              'retrain': {'attempts': 4, 'min_epoch': 20}},\n",
      "                  'criterion': {'loss': 'pearson',\n",
      "                                'score': {'train': 'spearman', 'valid': 'spearman', 'test': 'spearman'},\n",
      "                                'penalty': {'hidden_corr': {'lamb': 0.001}, 'tra_opt_transport': {'lamb': 0.01, 'rho': 0.999}},\n",
      "                                'weight': {'train': 'equal', 'test': 'equal'}},\n",
      "                  'transfer': False,\n",
      "                  'multitask': {'type': 'hybrid',\n",
      "                                'param_dict': {'dwa': {'tau': 2},\n",
      "                                               'ruw': {'phi': None},\n",
      "                                               'ewa': {},\n",
      "                                               'gls': {},\n",
      "                                               'rws': {},\n",
      "                                               'hybrid': {'phi': None, 'tau': 2}}},\n",
      "                  'terminate': {'early_stop': 20, 'max_epoch': 200, 'valid_converge': {'min_epoch': 5, 'eps': 1e-05}}}}\n",
      "use /home/mengkjin/Workspace/learndl/data/torch_pack/day.20240313.pt\n"
     ]
    },
    {
     "name": "stderr",
     "output_type": "stream",
     "text": [
      "\u001b[1m\u001b[37m\u001b[41m24-04-07 18:54:31|MOD:run_model   |\u001b[0m: \u001b[1m\u001b[31mFinish Process [Load Data]! Cost 3.5Secs\u001b[0m\n",
      "\u001b[1m\u001b[37m\u001b[41m24-04-07 18:54:31|MOD:run_model   |\u001b[0m: \u001b[1m\u001b[31mStart Process [Train Model]!\u001b[0m\n"
     ]
    },
    {
     "name": "stdout",
     "output_type": "stream",
     "text": [
      "Pre-Norming method of [day] : [endpoint_division(True) , history_standardize(True)]\n"
     ]
    },
    {
     "name": "stderr",
     "output_type": "stream",
     "text": [
      "\u001b[32mpatch_tst_day #0 @20170103 LoadData Cost    3.2Secs\u001b[0m\n",
      "\u001b[32mFirstBite Ep#  0 : loss  0.97624, train 0.04476, valid 0.08933, max 0.0893, best 0.0893, lr1.0e-07\u001b[0m\n",
      "\u001b[32mFirstBite Ep#  5 : loss  0.92334, train 0.09339, valid 0.10346, max 0.1054, best 0.1054, lr3.8e-03\u001b[0m\n",
      "\u001b[32mFirstBite Ep# 10 : loss  0.90462, train 0.11344, valid 0.10222, max 0.1074, best 0.1074, lr1.3e-03\u001b[0m\n",
      "\u001b[32mFirstBite Ep# 15 : loss  0.89634, train 0.12157, valid 0.09383, max 0.1074, best 0.1074, lr6.3e-04\u001b[0m\n",
      "\u001b[32mFirstBite Ep# 20 : loss  0.89729, train 0.12068, valid 0.09845, max 0.1074, best 0.1074, lr1.3e-03\u001b[0m\n",
      "\u001b[32mFirstBite Ep# 25 : loss  0.88772, train 0.12927, valid 0.08656, max 0.1074, best 0.1074, lr1.6e-04\u001b[0m\n",
      "\u001b[1m\u001b[37m\u001b[44m24-04-07 19:04:56|MOD:run_model   |\u001b[0m: \u001b[1m\u001b[34mpatch_tst_day #0 @20170103|FirstBite Ep# 26 EarlyStop|Train 0.1284 Valid 0.0871 BestVal 0.1074|Cost 10.4Min, 23.0Sec/Ep\u001b[0m\n",
      "\u001b[32mFirstBite Ep#  0 : loss  0.97284, train 0.04962, valid 0.09023, max 0.0902, best 0.0902, lr1.0e-07\u001b[0m\n",
      "\u001b[32mFirstBite Ep#  5 : loss  0.92625, train 0.08943, valid 0.11024, max 0.1102, best 0.1102, lr3.8e-03\u001b[0m\n",
      "\u001b[32mFirstBite Ep# 10 : loss  0.90817, train 0.11004, valid 0.10408, max 0.1102, best 0.1102, lr1.3e-03\u001b[0m\n",
      "\u001b[32mFirstBite Ep# 15 : loss  0.89744, train 0.12073, valid 0.09652, max 0.1102, best 0.1102, lr6.3e-04\u001b[0m\n",
      "\u001b[32mFirstBite Ep# 20 : loss  0.89785, train 0.12002, valid 0.10377, max 0.1102, best 0.1102, lr1.3e-03\u001b[0m\n",
      "\u001b[32mFirstBite Ep# 25 : loss  0.88877, train 0.12896, valid 0.08811, max 0.1102, best 0.1102, lr1.6e-04\u001b[0m\n",
      "\u001b[1m\u001b[37m\u001b[44m24-04-07 19:14:52|MOD:run_model   |\u001b[0m: \u001b[1m\u001b[34mpatch_tst_day #1 @20170103|FirstBite Ep# 25 EarlyStop|Train 0.1290 Valid 0.0881 BestVal 0.1102|Cost  9.9Min, 22.9Sec/Ep\u001b[0m\n",
      "\u001b[1m\u001b[37m\u001b[44m24-04-07 19:31:06|MOD:run_model   |\u001b[0m: \u001b[1m\u001b[34mpatch_tst_day #0 @20170704|FirstBite Ep# 40 EarlyStop|Train 0.1375 Valid 0.0882 BestVal 0.0896|Cost 16.2Min, 23.7Sec/Ep\u001b[0m\n",
      "\u001b[1m\u001b[37m\u001b[44m24-04-07 19:46:52|MOD:run_model   |\u001b[0m: \u001b[1m\u001b[34mpatch_tst_day #1 @20170704|FirstBite Ep# 39 EarlyStop|Train 0.1343 Valid 0.0948 BestVal 0.0955|Cost 15.8Min, 23.7Sec/Ep\u001b[0m\n",
      "\u001b[1m\u001b[37m\u001b[44m24-04-07 20:03:35|MOD:run_model   |\u001b[0m: \u001b[1m\u001b[34mpatch_tst_day #0 @20171226|FirstBite Ep# 40 EarlyStop|Train 0.1353 Valid 0.0928 BestVal 0.1045|Cost 16.7Min, 24.4Sec/Ep\u001b[0m\n",
      "\u001b[1m\u001b[37m\u001b[44m24-04-07 20:20:40|MOD:run_model   |\u001b[0m: \u001b[1m\u001b[34mpatch_tst_day #1 @20171226|FirstBite Ep# 41 EarlyStop|Train 0.1189 Valid 0.0938 BestVal 0.0994|Cost 17.1Min, 24.4Sec/Ep\u001b[0m\n",
      "\u001b[1m\u001b[37m\u001b[44m24-04-07 20:54:31|MOD:run_model   |\u001b[0m: \u001b[1m\u001b[34mpatch_tst_day #0 @20180627|FirstBite Ep# 80 EarlyStop|Train 0.1389 Valid 0.0913 BestVal 0.0920|Cost 33.8Min, 25.0Sec/Ep\u001b[0m\n",
      "\u001b[1m\u001b[37m\u001b[44m24-04-07 21:17:07|MOD:run_model   |\u001b[0m: \u001b[1m\u001b[34mpatch_tst_day #1 @20180627|FirstBite Ep# 53 EarlyStop|Train 0.1318 Valid 0.0911 BestVal 0.0926|Cost 22.6Min, 25.1Sec/Ep\u001b[0m\n",
      "\u001b[1m\u001b[37m\u001b[44m24-04-07 21:41:51|MOD:run_model   |\u001b[0m: \u001b[1m\u001b[34mpatch_tst_day #0 @20181220|FirstBite Ep# 56 EarlyStop|Train 0.1417 Valid 0.0803 BestVal 0.0837|Cost 24.7Min, 26.0Sec/Ep\u001b[0m\n",
      "\u001b[1m\u001b[37m\u001b[44m24-04-07 22:00:59|MOD:run_model   |\u001b[0m: \u001b[1m\u001b[34mpatch_tst_day #1 @20181220|FirstBite Ep# 43 EarlyStop|Train 0.1195 Valid 0.0818 BestVal 0.0844|Cost 19.1Min, 26.1Sec/Ep\u001b[0m\n",
      "\u001b[1m\u001b[37m\u001b[44m24-04-07 22:25:45|MOD:run_model   |\u001b[0m: \u001b[1m\u001b[34mpatch_tst_day #0 @20190624|FirstBite Ep# 54 EarlyStop|Train 0.1406 Valid 0.0844 BestVal 0.0846|Cost 24.8Min, 27.0Sec/Ep\u001b[0m\n",
      "\u001b[1m\u001b[37m\u001b[44m24-04-07 22:48:16|MOD:run_model   |\u001b[0m: \u001b[1m\u001b[34mpatch_tst_day #1 @20190624|FirstBite Ep# 49 EarlyStop|Train 0.1265 Valid 0.0851 BestVal 0.0870|Cost 22.5Min, 27.0Sec/Ep\u001b[0m\n",
      "\u001b[1m\u001b[37m\u001b[44m24-04-07 22:59:41|MOD:run_model   |\u001b[0m: \u001b[1m\u001b[34mpatch_tst_day #0 @20191217|FirstBite Ep# 23 EarlyStop|Train 0.1304 Valid 0.0731 BestVal 0.0756|Cost 11.4Min, 28.4Sec/Ep\u001b[0m\n",
      "\u001b[1m\u001b[37m\u001b[44m24-04-07 23:12:27|MOD:run_model   |\u001b[0m: \u001b[1m\u001b[34mpatch_tst_day #1 @20191217|FirstBite Ep# 26 EarlyStop|Train 0.1297 Valid 0.0705 BestVal 0.0749|Cost 12.8Min, 28.4Sec/Ep\u001b[0m\n",
      "\u001b[1m\u001b[37m\u001b[44m24-04-07 23:26:16|MOD:run_model   |\u001b[0m: \u001b[1m\u001b[34mpatch_tst_day #0 @20200617|FirstBite Ep# 27 EarlyStop|Train 0.1298 Valid 0.0782 BestVal 0.0848|Cost 13.8Min, 29.5Sec/Ep\u001b[0m\n",
      "\u001b[1m\u001b[37m\u001b[44m24-04-07 23:50:05|MOD:run_model   |\u001b[0m: \u001b[1m\u001b[34mpatch_tst_day #1 @20200617|FirstBite Ep# 48 EarlyStop|Train 0.1351 Valid 0.0781 BestVal 0.0804|Cost 23.8Min, 29.2Sec/Ep\u001b[0m\n",
      "\u001b[1m\u001b[37m\u001b[44m24-04-08 00:15:51|MOD:run_model   |\u001b[0m: \u001b[1m\u001b[34mpatch_tst_day #0 @20201214|FirstBite Ep# 50 EarlyStop|Train 0.1250 Valid 0.0845 BestVal 0.0874|Cost 25.8Min, 30.2Sec/Ep\u001b[0m\n",
      "\u001b[1m\u001b[37m\u001b[44m24-04-08 00:34:36|MOD:run_model   |\u001b[0m: \u001b[1m\u001b[34mpatch_tst_day #1 @20201214|FirstBite Ep# 36 EarlyStop|Train 0.1286 Valid 0.0849 BestVal 0.0876|Cost 18.7Min, 30.4Sec/Ep\u001b[0m\n",
      "\u001b[1m\u001b[37m\u001b[44m24-04-08 00:54:36|MOD:run_model   |\u001b[0m: \u001b[1m\u001b[34mpatch_tst_day #0 @20210615|FirstBite Ep# 37 EarlyStop|Train 0.1230 Valid 0.0831 BestVal 0.0848|Cost 20.0Min, 31.5Sec/Ep\u001b[0m\n",
      "\u001b[1m\u001b[37m\u001b[44m24-04-08 01:14:33|MOD:run_model   |\u001b[0m: \u001b[1m\u001b[34mpatch_tst_day #1 @20210615|FirstBite Ep# 37 EarlyStop|Train 0.1248 Valid 0.0819 BestVal 0.0821|Cost 19.9Min, 31.5Sec/Ep\u001b[0m\n",
      "\u001b[1m\u001b[37m\u001b[44m24-04-08 02:06:11|MOD:run_model   |\u001b[0m: \u001b[1m\u001b[34mpatch_tst_day #0 @20211209|FirstBite Ep# 95 EarlyStop|Train 0.1354 Valid 0.0757 BestVal 0.0764|Cost 51.6Min, 32.2Sec/Ep\u001b[0m\n",
      "\u001b[1m\u001b[37m\u001b[44m24-04-08 02:31:04|MOD:run_model   |\u001b[0m: \u001b[1m\u001b[34mpatch_tst_day #1 @20211209|FirstBite Ep# 45 EarlyStop|Train 0.1152 Valid 0.0659 BestVal 0.0722|Cost 24.9Min, 32.5Sec/Ep\u001b[0m\n",
      "\u001b[1m\u001b[37m\u001b[44m24-04-08 02:43:39|MOD:run_model   |\u001b[0m: \u001b[1m\u001b[34mpatch_tst_day #0 @20220613|FirstBite Ep# 21 EarlyStop|Train 0.1178 Valid 0.0719 BestVal 0.0756|Cost 12.6Min, 34.1Sec/Ep\u001b[0m\n",
      "\u001b[1m\u001b[37m\u001b[44m24-04-08 03:34:17|MOD:run_model   |\u001b[0m: \u001b[1m\u001b[34mpatch_tst_day #1 @20220613|FirstBite Ep# 90 EarlyStop|Train 0.1382 Valid 0.0773 BestVal 0.0797|Cost 50.6Min, 33.4Sec/Ep\u001b[0m\n",
      "\u001b[1m\u001b[37m\u001b[44m24-04-08 03:49:34|MOD:run_model   |\u001b[0m: \u001b[1m\u001b[34mpatch_tst_day #0 @20221206|FirstBite Ep# 25 EarlyStop|Train 0.1240 Valid 0.0781 BestVal 0.0844|Cost 15.3Min, 35.1Sec/Ep\u001b[0m\n",
      "\u001b[1m\u001b[37m\u001b[44m24-04-08 04:05:22|MOD:run_model   |\u001b[0m: \u001b[1m\u001b[34mpatch_tst_day #1 @20221206|FirstBite Ep# 26 EarlyStop|Train 0.1225 Valid 0.0756 BestVal 0.0806|Cost 15.8Min, 35.1Sec/Ep\u001b[0m\n",
      "\u001b[1m\u001b[37m\u001b[44m24-04-08 04:28:20|MOD:run_model   |\u001b[0m: \u001b[1m\u001b[34mpatch_tst_day #0 @20230606|FirstBite Ep# 37 EarlyStop|Train 0.1215 Valid 0.0884 BestVal 0.0919|Cost 23.0Min, 36.2Sec/Ep\u001b[0m\n",
      "\u001b[1m\u001b[37m\u001b[44m24-04-08 04:51:50|MOD:run_model   |\u001b[0m: \u001b[1m\u001b[34mpatch_tst_day #1 @20230606|FirstBite Ep# 38 EarlyStop|Train 0.1263 Valid 0.0820 BestVal 0.0862|Cost 23.5Min, 36.2Sec/Ep\u001b[0m\n",
      "\u001b[1m\u001b[37m\u001b[44m24-04-08 05:11:24|MOD:run_model   |\u001b[0m: \u001b[1m\u001b[34mpatch_tst_day #0 @20231201|FirstBite Ep# 30 EarlyStop|Train 0.1204 Valid 0.0800 BestVal 0.0918|Cost 19.6Min, 37.7Sec/Ep\u001b[0m\n",
      "\u001b[1m\u001b[37m\u001b[44m24-04-08 05:29:04|MOD:run_model   |\u001b[0m: \u001b[1m\u001b[34mpatch_tst_day #1 @20231201|FirstBite Ep# 27 EarlyStop|Train 0.1209 Valid 0.0776 BestVal 0.0870|Cost 17.7Min, 37.8Sec/Ep\u001b[0m\n",
      "\u001b[1m\u001b[37m\u001b[41m24-04-08 05:29:04|MOD:run_model   |\u001b[0m: \u001b[1m\u001b[31mFinish Process [Train Model]! Cost 10.6 Hours, 21.2 Min/model, 29.4 Sec/Epoch\u001b[0m\n",
      "\u001b[1m\u001b[37m\u001b[41m24-04-08 05:29:04|MOD:run_model   |\u001b[0m: \u001b[1m\u001b[31mStart Process [Test Model]!\u001b[0m\n",
      "\u001b[1m\u001b[37m\u001b[44m24-04-08 05:29:04|MOD:run_model   |\u001b[0m: \u001b[1m\u001b[34mEach Model Date Testing Mean Score({'train': 'spearman', 'valid': 'spearman', 'test': 'spearman'}):\u001b[0m\n",
      "\u001b[32mModels            0       0       0       1       1       1\u001b[0m\n",
      "\u001b[32mOutput         best swalast swabest    best swalast swabest\u001b[0m\n",
      "\u001b[32m20170103     0.0790  0.0655  0.0765  0.0483  0.0618  0.0698\u001b[0m\n",
      "\u001b[32m20170704     0.1052  0.1072  0.1083  0.1039  0.1079  0.1073\u001b[0m\n",
      "\u001b[32m20171226     0.0740  0.0762  0.0777  0.0808  0.0816  0.0819\u001b[0m\n",
      "\u001b[32m20180627     0.0391  0.0463  0.0401  0.0350  0.0386  0.0350\u001b[0m\n",
      "\u001b[32m20181220     0.0928  0.0921  0.0940  0.0928  0.0952  0.0963\u001b[0m\n",
      "\u001b[32m20190624     0.0738  0.0725  0.0739  0.0747  0.0711  0.0739\u001b[0m\n",
      "\u001b[32m20191217     0.0754  0.0799  0.0815  0.0784  0.0824  0.0814\u001b[0m\n",
      "\u001b[32m20200617     0.0902  0.0820  0.0894  0.0866  0.0852  0.0835\u001b[0m\n",
      "\u001b[32m20201214     0.0737  0.0729  0.0728  0.0834  0.0834  0.0822\u001b[0m\n",
      "\u001b[32m20210615     0.0645  0.0617  0.0630  0.0673  0.0639  0.0668\u001b[0m\n",
      "\u001b[32m20211209     0.0828  0.0869  0.0878  0.0730  0.0786  0.0811\u001b[0m\n",
      "\u001b[32m20220613     0.0922  0.0962  0.0996  0.0997  0.0977  0.0984\u001b[0m\n",
      "\u001b[32m20221206     0.0641  0.0607  0.0634  0.0631  0.0676  0.0634\u001b[0m\n",
      "\u001b[32m20230606     0.0806  0.0814  0.0807  0.0779  0.0802  0.0808\u001b[0m\n",
      "\u001b[32m20231201     0.0711  0.0719  0.0713  0.0902  0.0821  0.0885\u001b[0m\n",
      "\u001b[32mAllTimeAvg   0.0774  0.0770  0.0788  0.0767  0.0784  0.0791\u001b[0m\n",
      "\u001b[32mAllTimeSum   135.96  135.33  138.54  134.72  137.76  139.05\u001b[0m\n",
      "\u001b[32mStd          0.0875  0.0883  0.0862  0.0884  0.0871  0.0851\u001b[0m\n",
      "\u001b[32mTValue        37.07   36.55   38.36   36.34   37.75   38.96\u001b[0m\n",
      "\u001b[32mAnnIR        4.3323  4.2714  4.4828  4.2475  4.4120  4.5539\u001b[0m\n",
      "\u001b[1m\u001b[37m\u001b[41m24-04-08 05:35:11|MOD:run_model   |\u001b[0m: \u001b[1m\u001b[31mFinish Process [Test Model]! Cost 366.8 Secs\u001b[0m\n"
     ]
    },
    {
     "name": "stdout",
     "output_type": "stream",
     "text": [
      "                        keys  num_calls    total_time   avg_time\n",
      "5    model_train/epoch/train       1294  34001.963691  26.276633\n",
      "8             train/backward     496684   9246.835521   0.018617\n",
      "7                 train/loss     496684   9102.734012   0.018327\n",
      "9    model_train/epoch/valid       1294   3453.202018   2.668626\n",
      "11                valid/loss     124224   2937.535665   0.023647\n",
      "6              train/forward     496684   2130.011347   0.004288\n",
      "13                save_model       1324    550.805692   0.416016\n",
      "14        model_train/status       1294    524.192068   0.405094\n",
      "10             valid/forward     124224    381.679089   0.003073\n",
      "18       model_test/forecast         30    343.108416  11.436947\n",
      "1          model_train/start         30     49.775459   1.659182\n",
      "19              test/forward      10542     40.927765   0.003882\n",
      "12        model_train/assess       1294     27.308784   0.021104\n",
      "17          model_test/start         30     16.551982   0.551733\n",
      "15           model_train/end         30      7.654267   0.255142\n",
      "20                 test/loss      10542      7.317611   0.000694\n",
      "4                 load_model        120      1.578470   0.013154\n",
      "3   model_train/init_trainer       1294      0.262998   0.000203\n",
      "21            model_test/end         30      0.023038   0.000768\n",
      "2      model_train/init_loop       1294      0.007050   0.000005\n",
      "0    model_preparation/train         30      0.001707   0.000057\n",
      "16    model_preparation/test         30      0.001620   0.000054\n"
     ]
    }
   ],
   "source": [
    "# %% test a specific model\n",
    "from run_model import main\n",
    "main(process = 0 , rawname = 1 , resume = 0)"
   ]
  },
  {
   "cell_type": "code",
   "execution_count": 1,
   "metadata": {},
   "outputs": [
    {
     "name": "stdout",
     "output_type": "stream",
     "text": [
      "Use device name: NVIDIA GeForce RTX 4090\n"
     ]
    },
    {
     "name": "stderr",
     "output_type": "stream",
     "text": [
      "\u001b[1m\u001b[37m\u001b[41m24-03-31 09:52:11|MOD:data_preprocessing|\u001b[0m: \u001b[1m\u001b[31mif_train is False , Data Processing start!\u001b[0m\n",
      "\u001b[1m\u001b[37m\u001b[45m24-03-31 09:52:11|MOD:data_preprocessing|\u001b[0m: \u001b[1m\u001b[35m3 datas :['y', 'trade_day', 'trade_30m']\u001b[0m\n"
     ]
    },
    {
     "name": "stdout",
     "output_type": "stream",
     "text": [
      "Sun Mar 31 09:52:11 2024 : y start ...\n",
      "labels blocks reading ret10_lag DataBase's ...... cost 0.39 secs\n",
      "labels blocks reading ret20_lag DataBase's ...... cost 0.33 secs\n",
      "labels blocks merging ...... cost 0.05 secs\n",
      "models blocks reading risk_exp DataBase's ...... cost 1.66 secs\n",
      "models blocks merging ...... cost 0.17 secs\n",
      "y blocks process ...... cost 0.88 secs\n",
      "y blocks masking ...... cost 0.05 secs\n",
      "y blocks saving  ...... cost 0.14 secs\n",
      "y blocks norming ...... cost 0.00 secs\n",
      "Sun Mar 31 09:52:14 2024 : y finished! Cost 3.67 Seconds\n",
      "Sun Mar 31 09:52:14 2024 : trade_day start ...\n",
      "trade blocks reading day DataBase's ...... cost 0.56 secs\n",
      "trade_day blocks merging ...... cost 0.00 secs\n",
      "trade_day blocks process ...... cost 0.03 secs\n",
      "trade_day blocks masking ...... cost 0.05 secs\n",
      "trade_day blocks saving  ...... cost 0.16 secs\n",
      "trade_day blocks norming ...... cost 0.00 secs\n",
      "Sun Mar 31 09:52:15 2024 : trade_day finished! Cost 0.81 Seconds\n",
      "Sun Mar 31 09:52:15 2024 : trade_30m start ...\n",
      "trade blocks reading 30min DataBase's ...... cost 2.51 secs\n",
      "trade_30m blocks merging ...... cost 0.00 secs\n",
      "trade blocks reading day DataBase's ...... cost 0.53 secs\n",
      "trade_day blocks merging ...... cost 0.02 secs\n",
      "trade_30m blocks process ...... cost 0.95 secs\n",
      "trade_30m blocks masking ...... cost 0.05 secs\n",
      "trade_30m blocks saving  ..."
     ]
    },
    {
     "name": "stderr",
     "output_type": "stream",
     "text": [
      "\u001b[1m\u001b[37m\u001b[41m24-03-31 09:52:21|MOD:data_preprocessing|\u001b[0m: \u001b[1m\u001b[31mData Processing Finished! Cost 10.02 Seconds\u001b[0m\n"
     ]
    },
    {
     "name": "stdout",
     "output_type": "stream",
     "text": [
      "... cost 1.13 secs\n",
      "trade_30m blocks norming ...... cost 0.00 secs\n",
      "Sun Mar 31 09:52:21 2024 : trade_30m finished! Cost 5.19 Seconds\n"
     ]
    }
   ],
   "source": [
    "from src.data import PreProcess\n",
    "PreProcess.main(False)\n",
    "PreProcess.main(True)"
   ]
  }
 ],
 "metadata": {
  "kernelspec": {
   "display_name": "Python 3",
   "language": "python",
   "name": "python3"
  },
  "language_info": {
   "codemirror_mode": {
    "name": "ipython",
    "version": 3
   },
   "file_extension": ".py",
   "mimetype": "text/x-python",
   "name": "python",
   "nbconvert_exporter": "python",
   "pygments_lexer": "ipython3",
   "version": "3.10.12"
  }
 },
 "nbformat": 4,
 "nbformat_minor": 2
}
