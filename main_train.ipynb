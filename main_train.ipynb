{
 "cells": [
  {
   "cell_type": "code",
   "execution_count": 1,
   "metadata": {},
   "outputs": [
    {
     "name": "stdout",
     "output_type": "stream",
     "text": [
      "False 2.2.0+cpu\n"
     ]
    }
   ],
   "source": [
    "import torch\n",
    "print(torch.cuda.is_available() , torch.__version__)"
   ]
  },
  {
   "cell_type": "code",
   "execution_count": 1,
   "metadata": {},
   "outputs": [
    {
     "name": "stderr",
     "output_type": "stream",
     "text": [
      "\u001b[1m\u001b[37m\u001b[44m24-05-03 10:47:41|MOD:display     |\u001b[0m: \u001b[1m\u001b[34mModel Specifics:\u001b[0m\n",
      "\u001b[1m\u001b[37m\u001b[41m24-05-03 10:47:41|MOD:display     |\u001b[0m: \u001b[1m\u001b[31mStart Process [Data] at Fri May  3 10:47:41 2024!\u001b[0m\n"
     ]
    },
    {
     "name": "stdout",
     "output_type": "stream",
     "text": [
      "--Process Queue : Data + Fit + Test\n",
      "--Model_name is set to gru_day_ShortTest!\n",
      "Callback : DynamicDataLink() , assign / unlink dynamic data in tra networks\n",
      "Callback : ResetOptimizer(num_reset=2,trigger=40,recover_level=1.0,speedup2x=True) , reset optimizer on some epoch (can speedup scheduler)\n",
      "Callback : CallbackTimer(verbosity=10) , record time cost of callback hooks\n",
      "Callback : EarlyStoppage(patience=20) , stop fitting when validation score cease to improve\n",
      "Callback : ValidationConverge(patience=5,eps=1e-05) , stop fitting when valid_score converge\n",
      "Callback : EarlyExitRetrain(earliest=20,max_attempt=4,lr_multiplier=[1, 0.1, 10, 0.01, 100, 1]) , retrain with new lr if fitting stopped too early\n",
      "Callback : NanLossRetrain(max_attempt=4) , retrain if fitting encounters nan loss\n",
      "Callback : BatchDisplay(verbosity=10) , display batch progress bar\n",
      "Callback : StatusDisplay(verbosity=10) , display epoch / event information\n",
      "{'random_seed': None,\n",
      " 'model_name': 'gru_day_ShortTest',\n",
      " 'model_module': 'gru',\n",
      " 'model_data_type': 'day',\n",
      " 'beg_date': 20170103,\n",
      " 'end_date': 20170228,\n",
      " 'sample_method': 'train_shuffle',\n",
      " 'shuffle_option': 'epoch'}\n",
      "{'hidden_dim': [64],\n",
      " 'seqlens': [{'day': 30, '30m': 30, 'dms': 30}],\n",
      " 'tra_seqlens': [{'hist_loss': 40}],\n",
      " 'dropout': [0.1],\n",
      " 'enc_in': [True],\n",
      " 'enc_att': [False],\n",
      " 'rnn_type': ['lstm'],\n",
      " 'rnn_att': [False],\n",
      " 'rnn_layers': [2],\n",
      " 'dec_mlp_layers': [2],\n",
      " 'num_output': [1],\n",
      " 'kernel_size': [3],\n",
      " 'hidden_as_factor': [False],\n",
      " 'ordered_param_group': [False]}\n",
      "use d:\\Coding\\learndl\\learndl\\data\\torch_pack/day.20240315.pt\n"
     ]
    },
    {
     "name": "stderr",
     "output_type": "stream",
     "text": [
      "\u001b[1m\u001b[37m\u001b[41m24-05-03 10:47:43|MOD:display     |\u001b[0m: \u001b[1m\u001b[31mFinish Process [Data], Cost 1.6 Secs\u001b[0m\n",
      "\u001b[1m\u001b[37m\u001b[41m24-05-03 10:47:43|MOD:display     |\u001b[0m: \u001b[1m\u001b[31mStart Process [Fit] at Fri May  3 10:47:43 2024!\u001b[0m\n"
     ]
    },
    {
     "name": "stdout",
     "output_type": "stream",
     "text": [
      "Pre-Norming method of [day] : {'divlast': True, 'histnorm': True}\n"
     ]
    },
    {
     "name": "stderr",
     "output_type": "stream",
     "text": [
      "  0%|          | 0/10 [00:00<?, ?it/s]"
     ]
    },
    {
     "name": "stdout",
     "output_type": "stream",
     "text": [
      "score function of [spearman] calculated and success!\n",
      "loss function of [pearson] calculated and success!\n"
     ]
    },
    {
     "name": "stderr",
     "output_type": "stream",
     "text": [
      "Train Ep#  0 loss : 1.00177: 100%|██████████| 10/10 [00:21<00:00,  2.14s/it]\n",
      "Valid Ep#  0 score : -0.04784: 100%|██████████| 10/10 [00:02<00:00,  4.47it/s]\n",
      "\u001b[32mFirstBite Ep#  0 : loss  1.00177, train-0.00045, valid-0.04784, best-0.0478, lr1.3e-03\u001b[0m\n",
      "Train Ep#  1 loss : 0.96937: 100%|██████████| 10/10 [00:22<00:00,  2.20s/it]\n",
      "Valid Ep#  1 score : 0.11754: 100%|██████████| 10/10 [00:02<00:00,  4.22it/s]\n",
      "\u001b[32mFirstBite Ep#  1 : loss  0.96937, train 0.03194, valid 0.11754, best 0.1175, lr2.5e-03\u001b[0m\n",
      "Train Ep#  2 loss : 0.93689: 100%|██████████| 10/10 [00:22<00:00,  2.22s/it]\n",
      "Valid Ep#  2 score : 0.07742: 100%|██████████| 10/10 [00:02<00:00,  4.09it/s]\n",
      "\u001b[32mFirstBite Ep#  2 : loss  0.93689, train 0.06355, valid 0.07742, best 0.1175, lr3.8e-03\u001b[0m\n",
      "Train Ep#  3 loss : 0.91731: 100%|██████████| 10/10 [00:21<00:00,  2.13s/it]\n",
      "Valid Ep#  3 score : 0.07735: 100%|██████████| 10/10 [00:02<00:00,  4.62it/s]\n",
      "\u001b[32mFirstBite Ep#  3 : loss  0.91731, train 0.08939, valid 0.07735, best 0.1175, lr5.0e-03\u001b[0m\n",
      "\u001b[1m\u001b[37m\u001b[44m24-05-03 10:49:40|MOD:display     |\u001b[0m: \u001b[1m\u001b[34mgru_day_ShortTest #0 @20170103|FirstBite Ep#  4 Max Epoch|Train 0.0894 Valid 0.0773 BestVal 0.1175|Cost  1.9Min, 23.1Sec/Ep\u001b[0m\n",
      "\u001b[1m\u001b[37m\u001b[41m24-05-03 10:49:40|MOD:display     |\u001b[0m: \u001b[1m\u001b[31mFinish Process [Fit], Cost 0.0 Hours, 2.0 Min/model, 29.3 Sec/Epoch\u001b[0m\n",
      "\u001b[1m\u001b[37m\u001b[41m24-05-03 10:49:40|MOD:display     |\u001b[0m: \u001b[1m\u001b[31mStart Process [Test] at Fri May  3 10:49:40 2024!\u001b[0m\n",
      "\u001b[1m\u001b[37m\u001b[44m24-05-03 10:49:40|MOD:display     |\u001b[0m: \u001b[1m\u001b[34mEach Model Date Testing Mean Score(spearman):\u001b[0m\n",
      "\u001b[32mModels            0       0       0\u001b[0m\n",
      "\u001b[32mOutput         best swalast swabest\u001b[0m\n",
      "Test best 20170228 score : 0.03644: 100%|██████████| 35/35 [00:09<00:00,  3.84it/s]\n",
      "Test swalast 20170228 score : 0.05156: 100%|██████████| 35/35 [00:09<00:00,  3.74it/s]\n",
      "Test swabest 20170228 score : 0.05997: 100%|██████████| 35/35 [00:08<00:00,  3.91it/s]\n",
      "\u001b[32m20170103     0.0364  0.0516  0.0600\u001b[0m\n",
      "\u001b[32mAllTimeAvg   0.0364  0.0516  0.0600\u001b[0m\n",
      "\u001b[32mAllTimeSum     1.28    1.80    2.10\u001b[0m\n",
      "\u001b[32mStd          0.0368  0.0334  0.0299\u001b[0m\n",
      "\u001b[32mTValue         5.86    9.13   11.87\u001b[0m\n",
      "\u001b[32mAnnIR        4.8548  7.5644  9.8316\u001b[0m\n",
      "\u001b[1m\u001b[37m\u001b[41m24-05-03 10:50:08|MOD:display     |\u001b[0m: \u001b[1m\u001b[31mFinish Process [Test], Cost 28.1 Secs\u001b[0m\n",
      "\u001b[1m\u001b[37m\u001b[41m24-05-03 10:50:08|MOD:__init__    |\u001b[0m: \u001b[1m\u001b[31mMain Process Finished! Cost 2 Minutes 26.7 Seconds\u001b[0m\n"
     ]
    },
    {
     "name": "stdout",
     "output_type": "stream",
     "text": [
      "                    hook_name  num_calls  total_time   avg_time\n",
      "8              on_train_batch         40   86.811861   2.170297\n",
      "23              on_test_batch        105   27.235953   0.259390\n",
      "17           on_fit_model_end          1   19.183584  19.183584\n",
      "13        on_validation_batch         40    9.140732   0.228518\n",
      "4          on_fit_model_start          1    1.647796   1.647796\n",
      "20        on_test_model_start          1    0.590456   0.590456\n",
      "24          on_test_batch_end        105    0.093101   0.000887\n",
      "21   on_test_model_type_start          3    0.035427   0.011809\n",
      "14    on_validation_batch_end         40    0.034552   0.000864\n",
      "9          on_train_batch_end         40    0.030182   0.000755\n",
      "16           on_fit_epoch_end          4    0.028284   0.007071\n",
      "15    on_validation_epoch_end          4    0.022986   0.005746\n",
      "27                on_test_end          1    0.015959   0.015959\n",
      "10         on_train_epoch_end          4    0.013140   0.003285\n",
      "11  on_validation_epoch_start          4    0.013068   0.003267\n",
      "19              on_test_start          1    0.008291   0.008291\n",
      "25     on_test_model_type_end          3    0.003990   0.001330\n",
      "6        on_train_epoch_start          4    0.003989   0.000997\n",
      "28         on_summarize_model          1    0.002613   0.002613\n",
      "26          on_test_model_end          1    0.000998   0.000998\n",
      "18                 on_fit_end          1    0.000000   0.000000\n",
      "1               on_data_start          1    0.000000   0.000000\n",
      "12  on_validation_batch_start         40    0.000000   0.000000\n",
      "22        on_test_batch_start        105    0.000000   0.000000\n",
      "7        on_train_batch_start         40    0.000000   0.000000\n",
      "5          on_fit_epoch_start          4    0.000000   0.000000\n",
      "3                on_fit_start          1    0.000000   0.000000\n",
      "2                 on_data_end          1    0.000000   0.000000\n",
      "0          on_configure_model          1    0.000000   0.000000\n"
     ]
    }
   ],
   "source": [
    "# %% test a specific model\n",
    "from src.interface import ModelTrainer\n",
    "ModelTrainer.main(stage = 0 , resume = 0 , checkname= 1)"
   ]
  },
  {
   "cell_type": "code",
   "execution_count": null,
   "metadata": {},
   "outputs": [],
   "source": [
    "from src.interface import ModelTrainer\n",
    "ModelTrainer.main(stage = 0 , resume = 0 , checkname= 1)"
   ]
  },
  {
   "cell_type": "code",
   "execution_count": null,
   "metadata": {},
   "outputs": [],
   "source": [
    "# prepare data\n",
    "from src.interface import DataModule\n",
    "DataModule.prepare_data()"
   ]
  }
 ],
 "metadata": {
  "kernelspec": {
   "display_name": "Python 3",
   "language": "python",
   "name": "python3"
  },
  "language_info": {
   "codemirror_mode": {
    "name": "ipython",
    "version": 3
   },
   "file_extension": ".py",
   "mimetype": "text/x-python",
   "name": "python",
   "nbconvert_exporter": "python",
   "pygments_lexer": "ipython3",
   "version": "3.11.8"
  }
 },
 "nbformat": 4,
 "nbformat_minor": 2
}
