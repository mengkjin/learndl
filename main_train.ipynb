{
 "cells": [
  {
   "cell_type": "code",
   "execution_count": 1,
   "metadata": {},
   "outputs": [
    {
     "name": "stdout",
     "output_type": "stream",
     "text": [
      "False 2.2.0+cpu\n"
     ]
    }
   ],
   "source": [
    "import torch\n",
    "print(torch.cuda.is_available() , torch.__version__)"
   ]
  },
  {
   "cell_type": "code",
   "execution_count": 1,
   "metadata": {},
   "outputs": [
    {
     "name": "stderr",
     "output_type": "stream",
     "text": [
      "\u001b[1m\u001b[37m\u001b[44m24-05-03 04:36:32|MOD:display     |\u001b[0m: \u001b[1m\u001b[34mModel Specifics:\u001b[0m\n",
      "\u001b[1m\u001b[37m\u001b[41m24-05-03 04:36:32|MOD:display     |\u001b[0m: \u001b[1m\u001b[31mStart Process [Data] at Fri May  3 04:36:32 2024!\u001b[0m\n"
     ]
    },
    {
     "name": "stdout",
     "output_type": "stream",
     "text": [
      "--Process Queue : Data + Fit + Test\n",
      "--Model_name is set to gru_day_ShortTest!\n",
      "Callback : DynamicDataLink() , assign / unlink dynamic data in tra networks\n",
      "Callback : ResetOptimizer(num_reset=2,trigger=40,recover_level=1.0,speedup2x=True) , reset optimizer on some epoch (can speedup scheduler)\n",
      "Callback : CallbackTimer(verbosity=10) , record time cost of callback hooks\n",
      "Callback : EarlyStoppage(patience=20) , stop fitting when validation score cease to improve\n",
      "Callback : ValidationConverge(patience=5,eps=1e-05) , stop fitting when valid_score converge\n",
      "Callback : EarlyExitRetrain(earliest=20,max_attempt=4,lr_multiplier=[1, 0.1, 10, 0.01, 100, 1]) , retrain with new lr if fitting stopped too early\n",
      "Callback : NanLossRetrain(max_attempt=4) , retrain if fitting encounters nan loss\n",
      "Callback : BatchDisplay(verbosity=10) , display batch progress bar\n",
      "Callback : StatusDisplay(verbosity=10) , display epoch / event information\n",
      "{'random_seed': None,\n",
      " 'model_name': 'gru_day_ShortTest',\n",
      " 'model_module': 'gru',\n",
      " 'model_data_type': 'day',\n",
      " 'beg_date': 20170103,\n",
      " 'end_date': 20170228,\n",
      " 'sample_method': 'train_shuffle',\n",
      " 'shuffle_option': 'epoch'}\n",
      "{'hidden_dim': [64],\n",
      " 'seqlens': [{'day': 30, '30m': 30, 'dms': 30}],\n",
      " 'tra_seqlens': [{'hist_loss': 40}],\n",
      " 'dropout': [0.1],\n",
      " 'enc_in': [True],\n",
      " 'enc_att': [False],\n",
      " 'rnn_type': ['lstm'],\n",
      " 'rnn_att': [False],\n",
      " 'rnn_layers': [2],\n",
      " 'dec_mlp_layers': [2],\n",
      " 'num_output': [1],\n",
      " 'kernel_size': [3],\n",
      " 'hidden_as_factor': [False],\n",
      " 'ordered_param_group': [False]}\n",
      "use d:\\Coding\\learndl\\learndl\\data\\torch_pack/day.20240315.pt\n"
     ]
    },
    {
     "name": "stderr",
     "output_type": "stream",
     "text": [
      "\u001b[1m\u001b[37m\u001b[41m24-05-03 04:36:33|MOD:display     |\u001b[0m: \u001b[1m\u001b[31mFinish Process [Data], Cost 1.5 Secs\u001b[0m\n",
      "\u001b[1m\u001b[37m\u001b[41m24-05-03 04:36:33|MOD:display     |\u001b[0m: \u001b[1m\u001b[31mStart Process [Fit] at Fri May  3 04:36:33 2024!\u001b[0m\n"
     ]
    },
    {
     "name": "stdout",
     "output_type": "stream",
     "text": [
      "Pre-Norming method of [day] : {'divlast': True, 'histnorm': True}\n"
     ]
    },
    {
     "name": "stderr",
     "output_type": "stream",
     "text": [
      "  0%|          | 0/10 [00:00<?, ?it/s]"
     ]
    },
    {
     "name": "stdout",
     "output_type": "stream",
     "text": [
      "score function of [spearman] calculated and success!\n",
      "loss function of [pearson] calculated and success!\n"
     ]
    },
    {
     "name": "stderr",
     "output_type": "stream",
     "text": [
      "Train Ep#  0 loss : 0.99383: 100%|██████████| 10/10 [00:24<00:00,  2.46s/it]\n",
      "Valid Ep#  0 score : 0.12990: 100%|██████████| 10/10 [00:02<00:00,  4.85it/s]\n",
      "\u001b[32mFirstBite Ep#  0 : loss  0.99383, train 0.01304, valid 0.12990, best 0.1299, lr1.3e-03\u001b[0m\n",
      "Train Ep#  1 loss : 0.95837: 100%|██████████| 10/10 [00:21<00:00,  2.18s/it]\n",
      "Valid Ep#  1 score : 0.10452: 100%|██████████| 10/10 [00:02<00:00,  4.60it/s]\n",
      "\u001b[32mFirstBite Ep#  1 : loss  0.95837, train 0.03982, valid 0.10452, best 0.1299, lr2.5e-03\u001b[0m\n",
      "Train Ep#  2 loss : 0.93632: 100%|██████████| 10/10 [00:23<00:00,  2.32s/it]\n",
      "Valid Ep#  2 score : 0.08362: 100%|██████████| 10/10 [00:02<00:00,  4.07it/s]\n",
      "\u001b[32mFirstBite Ep#  2 : loss  0.93632, train 0.07094, valid 0.08362, best 0.1299, lr3.8e-03\u001b[0m\n",
      "Train Ep#  3 loss : 0.91514: 100%|██████████| 10/10 [00:29<00:00,  2.92s/it]\n",
      "Valid Ep#  3 score : 0.06288: 100%|██████████| 10/10 [00:02<00:00,  3.40it/s]\n",
      "\u001b[32mFirstBite Ep#  3 : loss  0.91514, train 0.09243, valid 0.06288, best 0.1299, lr5.0e-03\u001b[0m\n",
      "\u001b[1m\u001b[37m\u001b[44m24-05-03 04:38:47|MOD:display     |\u001b[0m: \u001b[1m\u001b[34mgru_day_ShortTest #0 @20170103|FirstBite Ep#  4 Max Epoch|Train 0.0924 Valid 0.0629 BestVal 0.1299|Cost  2.2Min, 26.5Sec/Ep\u001b[0m\n",
      "\u001b[1m\u001b[37m\u001b[41m24-05-03 04:38:47|MOD:display     |\u001b[0m: \u001b[1m\u001b[31mFinish Process [Fit], Cost 0.0 Hours, 2.2 Min/model, 33.5 Sec/Epoch\u001b[0m\n",
      "\u001b[1m\u001b[37m\u001b[41m24-05-03 04:38:47|MOD:display     |\u001b[0m: \u001b[1m\u001b[31mStart Process [Test] at Fri May  3 04:38:47 2024!\u001b[0m\n",
      "\u001b[1m\u001b[37m\u001b[44m24-05-03 04:38:47|MOD:display     |\u001b[0m: \u001b[1m\u001b[34mEach Model Date Testing Mean Score(spearman):\u001b[0m\n",
      "\u001b[32mModels            0       0       0\u001b[0m\n",
      "\u001b[32mOutput         best swalast swabest\u001b[0m\n",
      "Test best 20170228 score : 0.02397: 100%|██████████| 35/35 [00:12<00:00,  2.81it/s]\n",
      "Test swalast 20170228 score : 0.09008: 100%|██████████| 35/35 [00:10<00:00,  3.22it/s]\n",
      "Test swabest 20170228 score : 0.08023: 100%|██████████| 35/35 [00:10<00:00,  3.21it/s]\n",
      "\u001b[32m20170103     0.0240  0.0901  0.0802\u001b[0m\n",
      "\u001b[32mAllTimeAvg   0.0240  0.0901  0.0802\u001b[0m\n",
      "\u001b[32mAllTimeSum     0.84    3.15    2.81\u001b[0m\n",
      "\u001b[32mStd          0.0236  0.0371  0.0376\u001b[0m\n",
      "\u001b[32mTValue         6.02   14.37   12.61\u001b[0m\n",
      "\u001b[32mAnnIR        4.9855 11.9029 10.4446\u001b[0m\n",
      "\u001b[1m\u001b[37m\u001b[41m24-05-03 04:39:23|MOD:display     |\u001b[0m: \u001b[1m\u001b[31mFinish Process [Test], Cost 35.1 Secs\u001b[0m\n"
     ]
    },
    {
     "name": "stdout",
     "output_type": "stream",
     "text": [
      "                    hook_name  num_calls  total_time   avg_time\n",
      "8              on_train_batch         40   98.733087   2.468327\n",
      "23              on_test_batch        105   33.976869   0.323589\n",
      "17           on_fit_model_end          1   23.963509  23.963509\n",
      "13        on_validation_batch         40    9.567306   0.239183\n",
      "4          on_fit_model_start          1    1.578803   1.578803\n",
      "20        on_test_model_start          1    0.756975   0.756975\n",
      "24          on_test_batch_end        105    0.140682   0.001340\n",
      "9          on_train_batch_end         40    0.045886   0.001147\n",
      "14    on_validation_batch_end         40    0.042864   0.001072\n",
      "21   on_test_model_type_start          3    0.039894   0.013298\n",
      "16           on_fit_epoch_end          4    0.032910   0.008228\n",
      "27                on_test_end          1    0.023937   0.023937\n",
      "15    on_validation_epoch_end          4    0.012966   0.003241\n",
      "6        on_train_epoch_start          4    0.008984   0.002246\n",
      "11  on_validation_epoch_start          4    0.006984   0.001746\n",
      "19              on_test_start          1    0.005984   0.005984\n",
      "25     on_test_model_type_end          3    0.005984   0.001995\n",
      "10         on_train_epoch_end          4    0.005983   0.001496\n",
      "28         on_summarize_model          1    0.003989   0.003989\n",
      "22        on_test_batch_start        105    0.002993   0.000029\n",
      "2                 on_data_end          1    0.001996   0.001996\n",
      "3                on_fit_start          1    0.000998   0.000998\n",
      "18                 on_fit_end          1    0.000998   0.000998\n",
      "0          on_configure_model          1    0.000996   0.000996\n",
      "26          on_test_model_end          1    0.000995   0.000995\n",
      "1               on_data_start          1    0.000000   0.000000\n",
      "12  on_validation_batch_start         40    0.000000   0.000000\n",
      "7        on_train_batch_start         40    0.000000   0.000000\n",
      "5          on_fit_epoch_start          4    0.000000   0.000000\n",
      "         keys  num_calls  total_time    avg_time\n",
      "0  everything          1  170.676972  170.676972\n"
     ]
    }
   ],
   "source": [
    "# %% test a specific model\n",
    "from src.interface import ModelTrainer\n",
    "ModelTrainer.main(stage = 0 , resume = 0 , checkname= 1)"
   ]
  },
  {
   "cell_type": "code",
   "execution_count": null,
   "metadata": {},
   "outputs": [],
   "source": [
    "from src.interface import ModelTrainer\n",
    "ModelTrainer.main(stage = 0 , resume = 0 , checkname= 1)"
   ]
  },
  {
   "cell_type": "code",
   "execution_count": 1,
   "metadata": {},
   "outputs": [
    {
     "ename": "KeyboardInterrupt",
     "evalue": "",
     "output_type": "error",
     "traceback": [
      "\u001b[1;31m---------------------------------------------------------------------------\u001b[0m",
      "\u001b[1;31mKeyboardInterrupt\u001b[0m                         Traceback (most recent call last)",
      "Cell \u001b[1;32mIn[1], line 2\u001b[0m\n\u001b[0;32m      1\u001b[0m \u001b[38;5;66;03m# prepare data\u001b[39;00m\n\u001b[1;32m----> 2\u001b[0m \u001b[38;5;28;01mfrom\u001b[39;00m \u001b[38;5;21;01msrc\u001b[39;00m\u001b[38;5;21;01m.\u001b[39;00m\u001b[38;5;21;01minterface\u001b[39;00m \u001b[38;5;28;01mimport\u001b[39;00m DataModule\n\u001b[0;32m      3\u001b[0m DataModule\u001b[38;5;241m.\u001b[39mprepare_data()\n",
      "File \u001b[1;32md:\\Coding\\learndl\\learndl\\src\\__init__.py:1\u001b[0m\n\u001b[1;32m----> 1\u001b[0m \u001b[38;5;28;01mfrom\u001b[39;00m \u001b[38;5;21;01m.\u001b[39;00m \u001b[38;5;28;01mimport\u001b[39;00m (\n\u001b[0;32m      2\u001b[0m     algo , classes , data , environ , func , interface , layer , model , util\n\u001b[0;32m      3\u001b[0m )\n",
      "File \u001b[1;32md:\\Coding\\learndl\\learndl\\src\\algo\\__init__.py:1\u001b[0m\n\u001b[1;32m----> 1\u001b[0m \u001b[38;5;28;01mfrom\u001b[39;00m \u001b[38;5;21;01m.\u001b[39;00m \u001b[38;5;28;01mimport\u001b[39;00m boost , deap , factor\n",
      "File \u001b[1;32md:\\Coding\\learndl\\learndl\\src\\algo\\boost\\__init__.py:1\u001b[0m\n\u001b[1;32m----> 1\u001b[0m \u001b[38;5;28;01mfrom\u001b[39;00m \u001b[38;5;21;01m.\u001b[39;00m \u001b[38;5;28;01mimport\u001b[39;00m (\n\u001b[0;32m      2\u001b[0m     lgbt\n\u001b[0;32m      3\u001b[0m )\n",
      "File \u001b[1;32md:\\Coding\\learndl\\learndl\\src\\algo\\boost\\lgbt.py:3\u001b[0m\n\u001b[0;32m      1\u001b[0m \u001b[38;5;28;01mimport\u001b[39;00m \u001b[38;5;21;01mos\u001b[39;00m\n\u001b[1;32m----> 3\u001b[0m \u001b[38;5;28;01mimport\u001b[39;00m \u001b[38;5;21;01mlightgbm\u001b[39;00m \u001b[38;5;28;01mas\u001b[39;00m \u001b[38;5;21;01mlgb\u001b[39;00m\n\u001b[0;32m      4\u001b[0m \u001b[38;5;28;01mimport\u001b[39;00m \u001b[38;5;21;01mnumpy\u001b[39;00m \u001b[38;5;28;01mas\u001b[39;00m \u001b[38;5;21;01mnp\u001b[39;00m\n\u001b[0;32m      5\u001b[0m \u001b[38;5;28;01mimport\u001b[39;00m \u001b[38;5;21;01mpandas\u001b[39;00m \u001b[38;5;28;01mas\u001b[39;00m \u001b[38;5;21;01mpd\u001b[39;00m\n",
      "File \u001b[1;32mc:\\Users\\jinmeng\\AppData\\Local\\Programs\\Python\\Python311\\Lib\\site-packages\\lightgbm\\__init__.py:8\u001b[0m\n\u001b[0;32m      2\u001b[0m \u001b[38;5;124;03m\"\"\"LightGBM, Light Gradient Boosting Machine.\u001b[39;00m\n\u001b[0;32m      3\u001b[0m \n\u001b[0;32m      4\u001b[0m \u001b[38;5;124;03mContributors: https://github.com/microsoft/LightGBM/graphs/contributors.\u001b[39;00m\n\u001b[0;32m      5\u001b[0m \u001b[38;5;124;03m\"\"\"\u001b[39;00m\n\u001b[0;32m      6\u001b[0m \u001b[38;5;28;01mfrom\u001b[39;00m \u001b[38;5;21;01mpathlib\u001b[39;00m \u001b[38;5;28;01mimport\u001b[39;00m Path\n\u001b[1;32m----> 8\u001b[0m \u001b[38;5;28;01mfrom\u001b[39;00m \u001b[38;5;21;01m.\u001b[39;00m\u001b[38;5;21;01mbasic\u001b[39;00m \u001b[38;5;28;01mimport\u001b[39;00m Booster, Dataset, Sequence, register_logger\n\u001b[0;32m      9\u001b[0m \u001b[38;5;28;01mfrom\u001b[39;00m \u001b[38;5;21;01m.\u001b[39;00m\u001b[38;5;21;01mcallback\u001b[39;00m \u001b[38;5;28;01mimport\u001b[39;00m EarlyStopException, early_stopping, log_evaluation, record_evaluation, reset_parameter\n\u001b[0;32m     10\u001b[0m \u001b[38;5;28;01mfrom\u001b[39;00m \u001b[38;5;21;01m.\u001b[39;00m\u001b[38;5;21;01mengine\u001b[39;00m \u001b[38;5;28;01mimport\u001b[39;00m CVBooster, cv, train\n",
      "File \u001b[1;32mc:\\Users\\jinmeng\\AppData\\Local\\Programs\\Python\\Python311\\Lib\\site-packages\\lightgbm\\basic.py:19\u001b[0m\n\u001b[0;32m     16\u001b[0m \u001b[38;5;28;01mfrom\u001b[39;00m \u001b[38;5;21;01mtyping\u001b[39;00m \u001b[38;5;28;01mimport\u001b[39;00m TYPE_CHECKING, Any, Callable, Dict, Iterable, List, Optional, Set, Tuple, Union\n\u001b[0;32m     18\u001b[0m \u001b[38;5;28;01mimport\u001b[39;00m \u001b[38;5;21;01mnumpy\u001b[39;00m \u001b[38;5;28;01mas\u001b[39;00m \u001b[38;5;21;01mnp\u001b[39;00m\n\u001b[1;32m---> 19\u001b[0m \u001b[38;5;28;01mimport\u001b[39;00m \u001b[38;5;21;01mscipy\u001b[39;00m\u001b[38;5;21;01m.\u001b[39;00m\u001b[38;5;21;01msparse\u001b[39;00m\n\u001b[0;32m     21\u001b[0m \u001b[38;5;28;01mfrom\u001b[39;00m \u001b[38;5;21;01m.\u001b[39;00m\u001b[38;5;21;01mcompat\u001b[39;00m \u001b[38;5;28;01mimport\u001b[39;00m (PANDAS_INSTALLED, PYARROW_INSTALLED, arrow_cffi, arrow_is_floating, arrow_is_integer, concat,\n\u001b[0;32m     22\u001b[0m                      dt_DataTable, pa_Array, pa_chunked_array, pa_ChunkedArray, pa_compute, pa_Table,\n\u001b[0;32m     23\u001b[0m                      pd_CategoricalDtype, pd_DataFrame, pd_Series)\n\u001b[0;32m     24\u001b[0m \u001b[38;5;28;01mfrom\u001b[39;00m \u001b[38;5;21;01m.\u001b[39;00m\u001b[38;5;21;01mlibpath\u001b[39;00m \u001b[38;5;28;01mimport\u001b[39;00m find_lib_path\n",
      "File \u001b[1;32mc:\\Users\\jinmeng\\AppData\\Local\\Programs\\Python\\Python311\\Lib\\site-packages\\scipy\\sparse\\__init__.py:308\u001b[0m\n\u001b[0;32m    305\u001b[0m \u001b[38;5;28;01mfrom\u001b[39;00m \u001b[38;5;21;01m.\u001b[39;00m\u001b[38;5;21;01m_matrix_io\u001b[39;00m \u001b[38;5;28;01mimport\u001b[39;00m \u001b[38;5;241m*\u001b[39m\n\u001b[0;32m    307\u001b[0m \u001b[38;5;66;03m# For backward compatibility with v0.19.\u001b[39;00m\n\u001b[1;32m--> 308\u001b[0m \u001b[38;5;28;01mfrom\u001b[39;00m \u001b[38;5;21;01m.\u001b[39;00m \u001b[38;5;28;01mimport\u001b[39;00m csgraph\n\u001b[0;32m    310\u001b[0m \u001b[38;5;66;03m# Deprecated namespaces, to be removed in v2.0.0\u001b[39;00m\n\u001b[0;32m    311\u001b[0m \u001b[38;5;28;01mfrom\u001b[39;00m \u001b[38;5;21;01m.\u001b[39;00m \u001b[38;5;28;01mimport\u001b[39;00m (\n\u001b[0;32m    312\u001b[0m     base, bsr, compressed, construct, coo, csc, csr, data, dia, dok, extract,\n\u001b[0;32m    313\u001b[0m     lil, sparsetools, sputils\n\u001b[0;32m    314\u001b[0m )\n",
      "File \u001b[1;32mc:\\Users\\jinmeng\\AppData\\Local\\Programs\\Python\\Python311\\Lib\\site-packages\\scipy\\sparse\\csgraph\\__init__.py:186\u001b[0m\n\u001b[0;32m    159\u001b[0m __all__ \u001b[38;5;241m=\u001b[39m [\u001b[38;5;124m'\u001b[39m\u001b[38;5;124mconnected_components\u001b[39m\u001b[38;5;124m'\u001b[39m,\n\u001b[0;32m    160\u001b[0m            \u001b[38;5;124m'\u001b[39m\u001b[38;5;124mlaplacian\u001b[39m\u001b[38;5;124m'\u001b[39m,\n\u001b[0;32m    161\u001b[0m            \u001b[38;5;124m'\u001b[39m\u001b[38;5;124mshortest_path\u001b[39m\u001b[38;5;124m'\u001b[39m,\n\u001b[1;32m   (...)\u001b[0m\n\u001b[0;32m    182\u001b[0m            \u001b[38;5;124m'\u001b[39m\u001b[38;5;124mcsgraph_to_masked\u001b[39m\u001b[38;5;124m'\u001b[39m,\n\u001b[0;32m    183\u001b[0m            \u001b[38;5;124m'\u001b[39m\u001b[38;5;124mNegativeCycleError\u001b[39m\u001b[38;5;124m'\u001b[39m]\n\u001b[0;32m    185\u001b[0m \u001b[38;5;28;01mfrom\u001b[39;00m \u001b[38;5;21;01m.\u001b[39;00m\u001b[38;5;21;01m_laplacian\u001b[39;00m \u001b[38;5;28;01mimport\u001b[39;00m laplacian\n\u001b[1;32m--> 186\u001b[0m \u001b[38;5;28;01mfrom\u001b[39;00m \u001b[38;5;21;01m.\u001b[39;00m\u001b[38;5;21;01m_shortest_path\u001b[39;00m \u001b[38;5;28;01mimport\u001b[39;00m (\n\u001b[0;32m    187\u001b[0m     shortest_path, floyd_warshall, dijkstra, bellman_ford, johnson,\n\u001b[0;32m    188\u001b[0m     NegativeCycleError\n\u001b[0;32m    189\u001b[0m )\n\u001b[0;32m    190\u001b[0m \u001b[38;5;28;01mfrom\u001b[39;00m \u001b[38;5;21;01m.\u001b[39;00m\u001b[38;5;21;01m_traversal\u001b[39;00m \u001b[38;5;28;01mimport\u001b[39;00m (\n\u001b[0;32m    191\u001b[0m     breadth_first_order, depth_first_order, breadth_first_tree,\n\u001b[0;32m    192\u001b[0m     depth_first_tree, connected_components\n\u001b[0;32m    193\u001b[0m )\n\u001b[0;32m    194\u001b[0m \u001b[38;5;28;01mfrom\u001b[39;00m \u001b[38;5;21;01m.\u001b[39;00m\u001b[38;5;21;01m_min_spanning_tree\u001b[39;00m \u001b[38;5;28;01mimport\u001b[39;00m minimum_spanning_tree\n",
      "File \u001b[1;32m_shortest_path.pyx:18\u001b[0m, in \u001b[0;36minit scipy.sparse.csgraph._shortest_path\u001b[1;34m()\u001b[0m\n",
      "File \u001b[1;32mc:\\Users\\jinmeng\\AppData\\Local\\Programs\\Python\\Python311\\Lib\\site-packages\\scipy\\sparse\\csgraph\\_validation.py:3\u001b[0m\n\u001b[0;32m      1\u001b[0m \u001b[38;5;28;01mimport\u001b[39;00m \u001b[38;5;21;01mnumpy\u001b[39;00m \u001b[38;5;28;01mas\u001b[39;00m \u001b[38;5;21;01mnp\u001b[39;00m\n\u001b[0;32m      2\u001b[0m \u001b[38;5;28;01mfrom\u001b[39;00m \u001b[38;5;21;01mscipy\u001b[39;00m\u001b[38;5;21;01m.\u001b[39;00m\u001b[38;5;21;01msparse\u001b[39;00m \u001b[38;5;28;01mimport\u001b[39;00m csr_matrix, issparse\n\u001b[1;32m----> 3\u001b[0m \u001b[38;5;28;01mfrom\u001b[39;00m \u001b[38;5;21;01m.\u001b[39;00m\u001b[38;5;21;01m_tools\u001b[39;00m \u001b[38;5;28;01mimport\u001b[39;00m csgraph_to_dense, csgraph_from_dense,\\\n\u001b[0;32m      4\u001b[0m     csgraph_masked_from_dense, csgraph_from_masked\n\u001b[0;32m      6\u001b[0m DTYPE \u001b[38;5;241m=\u001b[39m np\u001b[38;5;241m.\u001b[39mfloat64\n\u001b[0;32m      9\u001b[0m \u001b[38;5;28;01mdef\u001b[39;00m \u001b[38;5;21mvalidate_graph\u001b[39m(csgraph, directed, dtype\u001b[38;5;241m=\u001b[39mDTYPE,\n\u001b[0;32m     10\u001b[0m                    csr_output\u001b[38;5;241m=\u001b[39m\u001b[38;5;28;01mTrue\u001b[39;00m, dense_output\u001b[38;5;241m=\u001b[39m\u001b[38;5;28;01mTrue\u001b[39;00m,\n\u001b[0;32m     11\u001b[0m                    copy_if_dense\u001b[38;5;241m=\u001b[39m\u001b[38;5;28;01mFalse\u001b[39;00m, copy_if_sparse\u001b[38;5;241m=\u001b[39m\u001b[38;5;28;01mFalse\u001b[39;00m,\n\u001b[0;32m     12\u001b[0m                    null_value_in\u001b[38;5;241m=\u001b[39m\u001b[38;5;241m0\u001b[39m, null_value_out\u001b[38;5;241m=\u001b[39mnp\u001b[38;5;241m.\u001b[39minf,\n\u001b[0;32m     13\u001b[0m                    infinity_null\u001b[38;5;241m=\u001b[39m\u001b[38;5;28;01mTrue\u001b[39;00m, nan_null\u001b[38;5;241m=\u001b[39m\u001b[38;5;28;01mTrue\u001b[39;00m):\n",
      "File \u001b[1;32m<frozen importlib._bootstrap>:405\u001b[0m, in \u001b[0;36mparent\u001b[1;34m(self)\u001b[0m\n",
      "\u001b[1;31mKeyboardInterrupt\u001b[0m: "
     ]
    }
   ],
   "source": [
    "# prepare data\n",
    "from src.interface import DataModule\n",
    "DataModule.prepare_data()"
   ]
  }
 ],
 "metadata": {
  "kernelspec": {
   "display_name": "Python 3",
   "language": "python",
   "name": "python3"
  },
  "language_info": {
   "codemirror_mode": {
    "name": "ipython",
    "version": 3
   },
   "file_extension": ".py",
   "mimetype": "text/x-python",
   "name": "python",
   "nbconvert_exporter": "python",
   "pygments_lexer": "ipython3",
   "version": "3.11.8"
  }
 },
 "nbformat": 4,
 "nbformat_minor": 2
}
