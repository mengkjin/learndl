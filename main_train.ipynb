{
 "cells": [
  {
   "cell_type": "code",
   "execution_count": 1,
   "metadata": {},
   "outputs": [
    {
     "data": {
      "text/plain": [
       "True"
      ]
     },
     "execution_count": 1,
     "metadata": {},
     "output_type": "execute_result"
    }
   ],
   "source": [
    "# %% test cuda\n",
    "import torch #type: ignore\n",
    "torch.cuda.is_available()"
   ]
  },
  {
   "cell_type": "code",
   "execution_count": 9,
   "metadata": {},
   "outputs": [],
   "source": [
    "a = lambda *x:None"
   ]
  },
  {
   "cell_type": "code",
   "execution_count": 10,
   "metadata": {},
   "outputs": [],
   "source": [
    "a(5,4)"
   ]
  },
  {
   "cell_type": "code",
   "execution_count": 7,
   "metadata": {},
   "outputs": [
    {
     "name": "stderr",
     "output_type": "stream",
     "text": [
      "abc: 100%|██████████| 10/10 [00:00<00:00, 779.48it/s]"
     ]
    },
    {
     "name": "stdout",
     "output_type": "stream",
     "text": [
      "0\n",
      "1\n",
      "2\n",
      "3\n",
      "4\n",
      "5\n",
      "6\n",
      "7\n",
      "8\n",
      "9\n"
     ]
    },
    {
     "name": "stderr",
     "output_type": "stream",
     "text": [
      "\n"
     ]
    }
   ],
   "source": [
    "from tqdm import tqdm\n",
    "\n",
    "class _LoaderDecorator:\n",
    "    def __init__(self , raw_loader , progress_bar = True) -> None:\n",
    "        self.loader = tqdm(raw_loader , total=len(raw_loader)) if progress_bar else raw_loader\n",
    "        self.display_text = None\n",
    "\n",
    "    def __len__(self): \n",
    "        return len(self.loader)\n",
    "\n",
    "    def __iter__(self):\n",
    "        for batch_i , batch_data in enumerate(self.loader):\n",
    "            yield batch_data\n",
    "\n",
    "    def add_text(self , display_text):\n",
    "        self.display_text = display_text\n",
    "        return self\n",
    "\n",
    "    def display(self , **kwargs):\n",
    "        if isinstance(self.display_text , str) and isinstance(self.loader , tqdm): \n",
    "            self.loader.set_description(self.display_text.format(**kwargs))\n",
    "\n",
    "loader = list(range(10))\n",
    "loader = _LoaderDecorator(loader).add_text('abc')\n",
    "\n",
    "for a in loader:\n",
    "    print(a)\n",
    "    loader.display(c=5)\n",
    "\n"
   ]
  },
  {
   "cell_type": "code",
   "execution_count": null,
   "metadata": {},
   "outputs": [],
   "source": []
  },
  {
   "cell_type": "code",
   "execution_count": 1,
   "metadata": {},
   "outputs": [
    {
     "name": "stdout",
     "output_type": "stream",
     "text": [
      "Use device name: NVIDIA GeForce RTX 4090\n"
     ]
    },
    {
     "name": "stderr",
     "output_type": "stream",
     "text": [
      "\u001b[1m\u001b[37m\u001b[44m24-04-20 12:40:43|MOD:ModelModule |\u001b[0m: \u001b[1m\u001b[34mModel Specifics:\u001b[0m\n",
      "\u001b[1m\u001b[37m\u001b[41m24-04-20 12:40:43|MOD:ModelModule |\u001b[0m: \u001b[1m\u001b[31mStart Process [Data] at Sat Apr 20 12:40:43 2024!\u001b[0m\n"
     ]
    },
    {
     "name": "stdout",
     "output_type": "stream",
     "text": [
      "--Process Queue : Data + Fit + Test\n",
      "--Start Training New!\n",
      "--Model_name is set to gru_day_ShortTest.21!\n",
      "{'random_seed': 10,\n",
      " 'model_name': 'gru_day_ShortTest.21',\n",
      " 'model_module': 'gru',\n",
      " 'model_data_type': 'day',\n",
      " 'model_data_prenorm': {'day': {'divlast': True, 'histnorm': True}},\n",
      " 'labels': ['std_lag1_10'],\n",
      " 'beg_date': 20170103,\n",
      " 'end_date': 20171201,\n",
      " 'interval': 120,\n",
      " 'input_step_day': 5,\n",
      " 'sample_method': 'train_shuffle',\n",
      " 'shuffle_option': 'epoch'}\n",
      "{'hidden_dim': [64],\n",
      " 'seqlens': [{'day': 30, '30m': 30, 'dms': 30}],\n",
      " 'tra_seqlens': [{'hist_loss': 40}],\n",
      " 'dropout': [0.1],\n",
      " 'enc_in': [True],\n",
      " 'enc_att': [False],\n",
      " 'rnn_type': ['lstm'],\n",
      " 'rnn_att': [False],\n",
      " 'rnn_layers': [2],\n",
      " 'dec_mlp_layers': [2],\n",
      " 'num_output': [1],\n",
      " 'kernel_size': [3],\n",
      " 'hidden_as_factor': [False],\n",
      " 'ordered_param_group': [False]}\n",
      "use /home/mengkjin/Workspace/learndl/data/torch_pack/day.20240313.pt\n"
     ]
    },
    {
     "name": "stderr",
     "output_type": "stream",
     "text": [
      "\u001b[1m\u001b[37m\u001b[41m24-04-20 12:40:46|MOD:ModelModule |\u001b[0m: \u001b[1m\u001b[31mFinish Process [Data], Cost 3.3 Secs\u001b[0m\n",
      "\u001b[1m\u001b[37m\u001b[41m24-04-20 12:40:46|MOD:ModelModule |\u001b[0m: \u001b[1m\u001b[31mStart Process [Fit] at Sat Apr 20 12:40:46 2024!\u001b[0m\n"
     ]
    },
    {
     "name": "stdout",
     "output_type": "stream",
     "text": [
      "Pre-Norming method of [day] : {'divlast': True, 'histnorm': True}\n"
     ]
    },
    {
     "name": "stderr",
     "output_type": "stream",
     "text": [
      "Train Ep#  0 loss : 1.01523:   5%|▌         | 1/19 [00:00<00:04,  4.11it/s]"
     ]
    },
    {
     "name": "stdout",
     "output_type": "stream",
     "text": [
      "score function of [spearman] calculated and success!\n",
      "loss function of [pearson] calculated and success!\n"
     ]
    },
    {
     "name": "stderr",
     "output_type": "stream",
     "text": [
      "Train Ep#  0 loss : 1.01249: 100%|██████████| 19/19 [00:00<00:00, 29.02it/s]\n",
      "Valid Ep#  0 score : 0.01508: 100%|██████████| 20/20 [00:00<00:00, 247.33it/s]\n",
      "\u001b[32mFirstBite Ep#  0 : loss  1.01249, train-0.01828, valid 0.01508, max 0.0151, best 0.0151, lr1.0e-07\u001b[0m\n",
      "Train Ep#  1 loss : 0.97275: 100%|██████████| 19/19 [00:00<00:00, 44.55it/s]\n",
      "Valid Ep#  1 score : -0.00542: 100%|██████████| 20/20 [00:00<00:00, 239.39it/s]\n",
      "\u001b[32mFirstBite Ep#  1 : loss  0.97275, train 0.04108, valid-0.00542, max 0.0151, best 0.0151, lr1.3e-03\u001b[0m\n",
      "Train Ep#  2 loss : 0.93790: 100%|██████████| 19/19 [00:00<00:00, 44.87it/s]\n",
      "Valid Ep#  2 score : 0.04450: 100%|██████████| 20/20 [00:00<00:00, 245.39it/s]\n",
      "\u001b[32mFirstBite Ep#  2 : loss  0.93790, train 0.06977, valid 0.04450, max 0.0445, best 0.0445, lr2.5e-03\u001b[0m\n",
      "Train Ep#  3 loss : 0.90524: 100%|██████████| 19/19 [00:00<00:00, 44.37it/s]\n",
      "Valid Ep#  3 score : 0.07741: 100%|██████████| 20/20 [00:00<00:00, 193.31it/s]\n",
      "\u001b[32mFirstBite Ep#  3 : loss  0.90524, train 0.09104, valid 0.07741, max 0.0774, best 0.0774, lr3.8e-03\u001b[0m\n",
      "Train Ep#  4 loss : 0.87768: 100%|██████████| 19/19 [00:00<00:00, 42.37it/s]\n",
      "Valid Ep#  4 score : 0.11452: 100%|██████████| 20/20 [00:00<00:00, 231.42it/s]\n",
      "\u001b[32mFirstBite Ep#  4 : loss  0.87768, train 0.11856, valid 0.11452, max 0.1145, best 0.1145, lr5.0e-03\u001b[0m\n",
      "Train Ep#  5 loss : 0.86051: 100%|██████████| 19/19 [00:00<00:00, 43.66it/s]\n",
      "Valid Ep#  5 score : 0.11745: 100%|██████████| 20/20 [00:00<00:00, 187.93it/s]\n",
      "\u001b[32mFirstBite Ep#  5 : loss  0.86051, train 0.14003, valid 0.11745, max 0.1174, best 0.1174, lr3.8e-03\u001b[0m\n",
      "Train Ep#  6 loss : 0.84607: 100%|██████████| 19/19 [00:00<00:00, 44.04it/s]\n",
      "Valid Ep#  6 score : 0.11524: 100%|██████████| 20/20 [00:00<00:00, 251.91it/s]\n",
      "\u001b[32mFirstBite Ep#  6 : loss  0.84607, train 0.15804, valid 0.11524, max 0.1174, best 0.1174, lr2.5e-03\u001b[0m\n",
      "Train Ep#  7 loss : 0.83773: 100%|██████████| 19/19 [00:00<00:00, 43.50it/s]\n",
      "Valid Ep#  7 score : 0.12442: 100%|██████████| 20/20 [00:00<00:00, 232.42it/s]\n",
      "\u001b[32mFirstBite Ep#  7 : loss  0.83773, train 0.16868, valid 0.12442, max 0.1244, best 0.1244, lr1.3e-03\u001b[0m\n",
      "Train Ep#  8 loss : 0.83494: 100%|██████████| 19/19 [00:00<00:00, 44.86it/s]\n",
      "Valid Ep#  8 score : 0.12444: 100%|██████████| 20/20 [00:00<00:00, 250.30it/s]\n",
      "\u001b[32mFirstBite Ep#  8 : loss  0.83494, train 0.17404, valid 0.12444, max 0.1244, best 0.1244, lr1.0e-07\u001b[0m\n",
      "Train Ep#  9 loss : 0.83924: 100%|██████████| 19/19 [00:00<00:00, 45.40it/s]\n",
      "Valid Ep#  9 score : 0.12275: 100%|██████████| 20/20 [00:00<00:00, 250.56it/s]\n",
      "\u001b[32mFirstBite Ep#  9 : loss  0.83924, train 0.16202, valid 0.12275, max 0.1244, best 0.1244, lr6.3e-04\u001b[0m\n",
      "Train Ep# 10 loss : 0.83020: 100%|██████████| 19/19 [00:00<00:00, 44.62it/s]\n",
      "Valid Ep# 10 score : 0.12527: 100%|██████████| 20/20 [00:00<00:00, 253.79it/s]\n",
      "\u001b[32mFirstBite Ep# 10 : loss  0.83020, train 0.17664, valid 0.12527, max 0.1253, best 0.1253, lr1.3e-03\u001b[0m\n",
      "Train Ep# 11 loss : 0.82667: 100%|██████████| 19/19 [00:00<00:00, 44.33it/s]\n",
      "Valid Ep# 11 score : 0.13406: 100%|██████████| 20/20 [00:00<00:00, 250.92it/s]\n",
      "\u001b[32mFirstBite Ep# 11 : loss  0.82667, train 0.18042, valid 0.13406, max 0.1341, best 0.1341, lr1.9e-03\u001b[0m\n",
      "Train Ep# 12 loss : 0.82123: 100%|██████████| 19/19 [00:00<00:00, 43.20it/s]\n",
      "Valid Ep# 12 score : 0.14350: 100%|██████████| 20/20 [00:00<00:00, 247.46it/s]\n",
      "\u001b[32mFirstBite Ep# 12 : loss  0.82123, train 0.18421, valid 0.14350, max 0.1435, best 0.1435, lr2.5e-03\u001b[0m\n",
      "Train Ep# 13 loss : 0.81386: 100%|██████████| 19/19 [00:00<00:00, 43.26it/s]\n",
      "Valid Ep# 13 score : 0.14264: 100%|██████████| 20/20 [00:00<00:00, 234.62it/s]\n",
      "\u001b[32mFirstBite Ep# 13 : loss  0.81386, train 0.19373, valid 0.14264, max 0.1435, best 0.1435, lr1.9e-03\u001b[0m\n",
      "Train Ep# 14 loss : 0.80732: 100%|██████████| 19/19 [00:00<00:00, 43.44it/s]\n",
      "Valid Ep# 14 score : 0.13379: 100%|██████████| 20/20 [00:00<00:00, 251.13it/s]\n",
      "\u001b[32mFirstBite Ep# 14 : loss  0.80732, train 0.19967, valid 0.13379, max 0.1435, best 0.1435, lr1.3e-03\u001b[0m\n",
      "Train Ep# 15 loss : 0.80407: 100%|██████████| 19/19 [00:00<00:00, 43.14it/s]\n",
      "Valid Ep# 15 score : 0.14512: 100%|██████████| 20/20 [00:00<00:00, 243.55it/s]\n",
      "\u001b[32mFirstBite Ep# 15 : loss  0.80407, train 0.20528, valid 0.14512, max 0.1451, best 0.1451, lr6.3e-04\u001b[0m\n",
      "Train Ep# 16 loss : 0.79957: 100%|██████████| 19/19 [00:00<00:00, 42.81it/s]\n",
      "Valid Ep# 16 score : 0.14511: 100%|██████████| 20/20 [00:00<00:00, 250.82it/s]\n",
      "\u001b[32mFirstBite Ep# 16 : loss  0.79957, train 0.20969, valid 0.14511, max 0.1451, best 0.1451, lr1.0e-07\u001b[0m\n",
      "Train Ep# 17 loss : 0.80035: 100%|██████████| 19/19 [00:00<00:00, 43.23it/s]\n",
      "Valid Ep# 17 score : 0.14680: 100%|██████████| 20/20 [00:00<00:00, 229.44it/s]\n",
      "\u001b[32mFirstBite Ep# 17 : loss  0.80035, train 0.20962, valid 0.14680, max 0.1468, best 0.1468, lr3.1e-04\u001b[0m\n",
      "Train Ep# 18 loss : 0.80203: 100%|██████████| 19/19 [00:00<00:00, 41.76it/s]\n",
      "Valid Ep# 18 score : 0.14107: 100%|██████████| 20/20 [00:00<00:00, 235.90it/s]\n",
      "\u001b[32mFirstBite Ep# 18 : loss  0.80203, train 0.20756, valid 0.14107, max 0.1468, best 0.1468, lr6.3e-04\u001b[0m\n",
      "Train Ep# 19 loss : 0.79986: 100%|██████████| 19/19 [00:00<00:00, 43.40it/s]\n",
      "Valid Ep# 19 score : 0.14910: 100%|██████████| 20/20 [00:00<00:00, 252.69it/s]\n",
      "\u001b[32mFirstBite Ep# 19 : loss  0.79986, train 0.20885, valid 0.14910, max 0.1491, best 0.1491, lr9.4e-04\u001b[0m\n",
      "100%|██████████| 19/19 [00:00<00:00, 160.37it/s]\n",
      "100%|██████████| 19/19 [00:00<00:00, 162.71it/s]\n",
      "\u001b[1m\u001b[37m\u001b[44m24-04-20 12:40:59|MOD:ModelModule |\u001b[0m: \u001b[1m\u001b[34mgru_day_ShortTest.21 #0 @20170103|FirstBite Ep# 19 Max Epoch|Train 0.2088 Valid 0.1491 BestVal 0.1491|Cost  0.2Min,  0.6Sec/Ep\u001b[0m\n",
      "Train Ep#  0 loss : 0.99606: 100%|██████████| 20/20 [00:00<00:00, 42.42it/s]\n",
      "Valid Ep#  0 score : 0.00551: 100%|██████████| 20/20 [00:00<00:00, 208.20it/s]\n",
      "\u001b[32mFirstBite Ep#  0 : loss  0.99606, train-0.00043, valid 0.00551, max 0.0055, best 0.0055, lr1.0e-07\u001b[0m\n",
      "Train Ep#  1 loss : 0.96917: 100%|██████████| 20/20 [00:00<00:00, 42.15it/s]\n",
      "Valid Ep#  1 score : 0.01022: 100%|██████████| 20/20 [00:00<00:00, 209.33it/s]\n",
      "\u001b[32mFirstBite Ep#  1 : loss  0.96917, train 0.03833, valid 0.01022, max 0.0102, best 0.0102, lr1.3e-03\u001b[0m\n",
      "Train Ep#  2 loss : 0.94494: 100%|██████████| 20/20 [00:00<00:00, 41.56it/s]\n",
      "Valid Ep#  2 score : 0.04340: 100%|██████████| 20/20 [00:00<00:00, 205.80it/s]\n",
      "\u001b[32mFirstBite Ep#  2 : loss  0.94494, train 0.06035, valid 0.04340, max 0.0434, best 0.0434, lr2.5e-03\u001b[0m\n",
      "Train Ep#  3 loss : 0.93541: 100%|██████████| 20/20 [00:00<00:00, 41.32it/s]\n",
      "Valid Ep#  3 score : 0.05469: 100%|██████████| 20/20 [00:00<00:00, 207.11it/s]\n",
      "\u001b[32mFirstBite Ep#  3 : loss  0.93541, train 0.06794, valid 0.05469, max 0.0547, best 0.0547, lr3.8e-03\u001b[0m\n",
      "Train Ep#  4 loss : 0.93347: 100%|██████████| 20/20 [00:00<00:00, 41.93it/s]\n",
      "Valid Ep#  4 score : 0.01366: 100%|██████████| 20/20 [00:00<00:00, 208.69it/s]\n",
      "\u001b[32mFirstBite Ep#  4 : loss  0.93347, train 0.06488, valid 0.01366, max 0.0547, best 0.0547, lr5.0e-03\u001b[0m\n",
      "Train Ep#  5 loss : 0.92848: 100%|██████████| 20/20 [00:00<00:00, 41.96it/s]\n",
      "Valid Ep#  5 score : 0.02558: 100%|██████████| 20/20 [00:00<00:00, 211.52it/s]\n",
      "\u001b[32mFirstBite Ep#  5 : loss  0.92848, train 0.07800, valid 0.02558, max 0.0547, best 0.0547, lr3.8e-03\u001b[0m\n",
      "Train Ep#  6 loss : 0.91012: 100%|██████████| 20/20 [00:00<00:00, 42.73it/s]\n",
      "Valid Ep#  6 score : 0.06870: 100%|██████████| 20/20 [00:00<00:00, 208.59it/s]\n",
      "\u001b[32mFirstBite Ep#  6 : loss  0.91012, train 0.09886, valid 0.06870, max 0.0687, best 0.0687, lr2.5e-03\u001b[0m\n",
      "Train Ep#  7 loss : 0.89760: 100%|██████████| 20/20 [00:00<00:00, 41.85it/s]\n",
      "Valid Ep#  7 score : 0.08671: 100%|██████████| 20/20 [00:00<00:00, 207.56it/s]\n",
      "\u001b[32mFirstBite Ep#  7 : loss  0.89760, train 0.11850, valid 0.08671, max 0.0867, best 0.0867, lr1.3e-03\u001b[0m\n",
      "Train Ep#  8 loss : 0.88780: 100%|██████████| 20/20 [00:00<00:00, 41.77it/s]\n",
      "Valid Ep#  8 score : 0.08671: 100%|██████████| 20/20 [00:00<00:00, 208.86it/s]\n",
      "\u001b[32mFirstBite Ep#  8 : loss  0.88780, train 0.12916, valid 0.08671, max 0.0867, best 0.0867, lr1.0e-07\u001b[0m\n",
      "Train Ep#  9 loss : 0.88594: 100%|██████████| 20/20 [00:00<00:00, 41.84it/s]\n",
      "Valid Ep#  9 score : 0.10247: 100%|██████████| 20/20 [00:00<00:00, 207.56it/s]\n",
      "\u001b[32mFirstBite Ep#  9 : loss  0.88594, train 0.13446, valid 0.10247, max 0.1025, best 0.1025, lr6.3e-04\u001b[0m\n",
      "Train Ep# 10 loss : 0.87607: 100%|██████████| 20/20 [00:00<00:00, 41.62it/s]\n",
      "Valid Ep# 10 score : 0.10013: 100%|██████████| 20/20 [00:00<00:00, 193.17it/s]\n",
      "\u001b[32mFirstBite Ep# 10 : loss  0.87607, train 0.14057, valid 0.10013, max 0.1025, best 0.1025, lr1.3e-03\u001b[0m\n",
      "Train Ep# 11 loss : 0.87207: 100%|██████████| 20/20 [00:00<00:00, 42.50it/s]\n",
      "Valid Ep# 11 score : 0.08735: 100%|██████████| 20/20 [00:00<00:00, 207.27it/s]\n",
      "\u001b[32mFirstBite Ep# 11 : loss  0.87207, train 0.14881, valid 0.08735, max 0.1025, best 0.1025, lr1.9e-03\u001b[0m\n",
      "Train Ep# 12 loss : 0.86687: 100%|██████████| 20/20 [00:00<00:00, 43.43it/s]\n",
      "Valid Ep# 12 score : 0.11127: 100%|██████████| 20/20 [00:00<00:00, 208.27it/s]\n",
      "\u001b[32mFirstBite Ep# 12 : loss  0.86687, train 0.15472, valid 0.11127, max 0.1113, best 0.1113, lr2.5e-03\u001b[0m\n",
      "Train Ep# 13 loss : 0.85801: 100%|██████████| 20/20 [00:00<00:00, 43.45it/s]\n",
      "Valid Ep# 13 score : 0.12592: 100%|██████████| 20/20 [00:00<00:00, 208.50it/s]\n",
      "\u001b[32mFirstBite Ep# 13 : loss  0.85801, train 0.16353, valid 0.12592, max 0.1259, best 0.1259, lr1.9e-03\u001b[0m\n",
      "Train Ep# 14 loss : 0.84681: 100%|██████████| 20/20 [00:00<00:00, 43.62it/s]\n",
      "Valid Ep# 14 score : 0.12483: 100%|██████████| 20/20 [00:00<00:00, 184.20it/s]\n",
      "\u001b[32mFirstBite Ep# 14 : loss  0.84681, train 0.17815, valid 0.12483, max 0.1259, best 0.1259, lr1.3e-03\u001b[0m\n",
      "Train Ep# 15 loss : 0.83890: 100%|██████████| 20/20 [00:00<00:00, 42.72it/s]\n",
      "Valid Ep# 15 score : 0.13082: 100%|██████████| 20/20 [00:00<00:00, 200.89it/s]\n",
      "\u001b[32mFirstBite Ep# 15 : loss  0.83890, train 0.18851, valid 0.13082, max 0.1308, best 0.1308, lr6.3e-04\u001b[0m\n",
      "Train Ep# 16 loss : 0.83691: 100%|██████████| 20/20 [00:00<00:00, 43.47it/s]\n",
      "Valid Ep# 16 score : 0.13083: 100%|██████████| 20/20 [00:00<00:00, 208.62it/s]\n",
      "\u001b[32mFirstBite Ep# 16 : loss  0.83691, train 0.19436, valid 0.13083, max 0.1308, best 0.1308, lr1.0e-07\u001b[0m\n",
      "Train Ep# 17 loss : 0.83625: 100%|██████████| 20/20 [00:00<00:00, 43.47it/s]\n",
      "Valid Ep# 17 score : 0.13358: 100%|██████████| 20/20 [00:00<00:00, 210.52it/s]\n",
      "\u001b[32mFirstBite Ep# 17 : loss  0.83625, train 0.19098, valid 0.13358, max 0.1336, best 0.1336, lr3.1e-04\u001b[0m\n",
      "Train Ep# 18 loss : 0.83426: 100%|██████████| 20/20 [00:00<00:00, 43.32it/s]\n",
      "Valid Ep# 18 score : 0.13535: 100%|██████████| 20/20 [00:00<00:00, 191.38it/s]\n",
      "\u001b[32mFirstBite Ep# 18 : loss  0.83426, train 0.19413, valid 0.13535, max 0.1353, best 0.1353, lr6.3e-04\u001b[0m\n",
      "Train Ep# 19 loss : 0.83433: 100%|██████████| 20/20 [00:00<00:00, 41.57it/s]\n",
      "Valid Ep# 19 score : 0.12970: 100%|██████████| 20/20 [00:00<00:00, 205.17it/s]\n",
      "\u001b[32mFirstBite Ep# 19 : loss  0.83433, train 0.19380, valid 0.12970, max 0.1353, best 0.1353, lr9.4e-04\u001b[0m\n",
      "100%|██████████| 20/20 [00:00<00:00, 157.81it/s]\n",
      "100%|██████████| 20/20 [00:00<00:00, 162.31it/s]\n",
      "\u001b[1m\u001b[37m\u001b[44m24-04-20 12:41:12|MOD:ModelModule |\u001b[0m: \u001b[1m\u001b[34mgru_day_ShortTest.21 #0 @20170704|FirstBite Ep# 19 Max Epoch|Train 0.1938 Valid 0.1297 BestVal 0.1353|Cost  0.2Min,  0.6Sec/Ep\u001b[0m\n",
      "\u001b[1m\u001b[37m\u001b[41m24-04-20 12:41:12|MOD:ModelModule |\u001b[0m: \u001b[1m\u001b[31mFinish Process [Fit], Cost 0.0 Hours, 0.2 Min/model, 0.6 Sec/Epoch\u001b[0m\n",
      "\u001b[1m\u001b[37m\u001b[41m24-04-20 12:41:12|MOD:ModelModule |\u001b[0m: \u001b[1m\u001b[31mStart Process [Test] at Sat Apr 20 12:41:12 2024!\u001b[0m\n",
      "\u001b[1m\u001b[37m\u001b[44m24-04-20 12:41:12|MOD:ModelModule |\u001b[0m: \u001b[1m\u001b[34mEach Model Date Testing Mean Score(spearman):\u001b[0m\n",
      "\u001b[32mModels            0       0       0\u001b[0m\n",
      "\u001b[32mOutput         best swalast swabest\u001b[0m\n",
      "  0%|          | 0/120 [00:00<?, ?it/s]\n",
      "Test best 20170704 score : 0.13128: 100%|██████████| 120/120 [00:00<00:00, 249.28it/s]\n",
      "Test swalast 20170704 score : 0.12070: 100%|██████████| 120/120 [00:00<00:00, 250.71it/s]\n",
      "Test swabest 20170704 score : 0.13236: 100%|██████████| 120/120 [00:00<00:00, 251.42it/s]\n",
      "\u001b[32m20170103     0.1313  0.1207  0.1324\u001b[0m\n",
      "  0%|          | 0/103 [00:00<?, ?it/s]\n",
      "Test best 20171201 score : 0.10837: 100%|██████████| 103/103 [00:00<00:00, 226.69it/s]\n",
      "Test swalast 20171201 score : 0.10438: 100%|██████████| 103/103 [00:00<00:00, 232.98it/s]\n",
      "Test swabest 20171201 score : 0.10669: 100%|██████████| 103/103 [00:00<00:00, 236.59it/s]\n",
      "\u001b[32m20170704     0.1084  0.1044  0.1067\u001b[0m\n",
      "\u001b[32mAllTimeAvg   0.1207  0.1132  0.1205\u001b[0m\n",
      "\u001b[32mAllTimeSum    26.92   25.24   26.87\u001b[0m\n",
      "\u001b[32mStd          0.0884  0.0845  0.0873\u001b[0m\n",
      "\u001b[32mTValue        20.40   20.00   20.62\u001b[0m\n",
      "\u001b[32mAnnIR        6.6924  6.5627  6.7657\u001b[0m\n",
      "\u001b[1m\u001b[37m\u001b[41m24-04-20 12:41:17|MOD:ModelModule |\u001b[0m: \u001b[1m\u001b[31mFinish Process [Test], Cost 4.6 Secs\u001b[0m\n"
     ]
    }
   ],
   "source": [
    "# %% test a specific model\n",
    "from src import ModelTrainer\n",
    "ModelTrainer.fit(process = 0 , resume = 0 , checkname= 1)"
   ]
  },
  {
   "cell_type": "code",
   "execution_count": 1,
   "metadata": {},
   "outputs": [
    {
     "name": "stdout",
     "output_type": "stream",
     "text": [
      "Use device name: NVIDIA GeForce RTX 4090\n"
     ]
    },
    {
     "name": "stderr",
     "output_type": "stream",
     "text": [
      "\u001b[1m\u001b[37m\u001b[41m24-03-31 09:52:11|MOD:data_preprocessing|\u001b[0m: \u001b[1m\u001b[31mif_train is False , Data Processing start!\u001b[0m\n",
      "\u001b[1m\u001b[37m\u001b[45m24-03-31 09:52:11|MOD:data_preprocessing|\u001b[0m: \u001b[1m\u001b[35m3 datas :['y', 'trade_day', 'trade_30m']\u001b[0m\n"
     ]
    },
    {
     "name": "stdout",
     "output_type": "stream",
     "text": [
      "Sun Mar 31 09:52:11 2024 : y start ...\n",
      "labels blocks reading ret10_lag DataBase's ...... cost 0.39 secs\n",
      "labels blocks reading ret20_lag DataBase's ...... cost 0.33 secs\n",
      "labels blocks merging ...... cost 0.05 secs\n",
      "models blocks reading risk_exp DataBase's ...... cost 1.66 secs\n",
      "models blocks merging ...... cost 0.17 secs\n",
      "y blocks process ...... cost 0.88 secs\n",
      "y blocks masking ...... cost 0.05 secs\n",
      "y blocks saving  ...... cost 0.14 secs\n",
      "y blocks norming ...... cost 0.00 secs\n",
      "Sun Mar 31 09:52:14 2024 : y finished! Cost 3.67 Seconds\n",
      "Sun Mar 31 09:52:14 2024 : trade_day start ...\n",
      "trade blocks reading day DataBase's ...... cost 0.56 secs\n",
      "trade_day blocks merging ...... cost 0.00 secs\n",
      "trade_day blocks process ...... cost 0.03 secs\n",
      "trade_day blocks masking ...... cost 0.05 secs\n",
      "trade_day blocks saving  ...... cost 0.16 secs\n",
      "trade_day blocks norming ...... cost 0.00 secs\n",
      "Sun Mar 31 09:52:15 2024 : trade_day finished! Cost 0.81 Seconds\n",
      "Sun Mar 31 09:52:15 2024 : trade_30m start ...\n",
      "trade blocks reading 30min DataBase's ...... cost 2.51 secs\n",
      "trade_30m blocks merging ...... cost 0.00 secs\n",
      "trade blocks reading day DataBase's ...... cost 0.53 secs\n",
      "trade_day blocks merging ...... cost 0.02 secs\n",
      "trade_30m blocks process ...... cost 0.95 secs\n",
      "trade_30m blocks masking ...... cost 0.05 secs\n",
      "trade_30m blocks saving  ..."
     ]
    },
    {
     "name": "stderr",
     "output_type": "stream",
     "text": [
      "\u001b[1m\u001b[37m\u001b[41m24-03-31 09:52:21|MOD:data_preprocessing|\u001b[0m: \u001b[1m\u001b[31mData Processing Finished! Cost 10.02 Seconds\u001b[0m\n"
     ]
    },
    {
     "name": "stdout",
     "output_type": "stream",
     "text": [
      "... cost 1.13 secs\n",
      "trade_30m blocks norming ...... cost 0.00 secs\n",
      "Sun Mar 31 09:52:21 2024 : trade_30m finished! Cost 5.19 Seconds\n"
     ]
    }
   ],
   "source": [
    "# prepare data\n",
    "from src import DataModule\n",
    "DataModule.prepare_data()"
   ]
  }
 ],
 "metadata": {
  "kernelspec": {
   "display_name": "Python 3",
   "language": "python",
   "name": "python3"
  },
  "language_info": {
   "codemirror_mode": {
    "name": "ipython",
    "version": 3
   },
   "file_extension": ".py",
   "mimetype": "text/x-python",
   "name": "python",
   "nbconvert_exporter": "python",
   "pygments_lexer": "ipython3",
   "version": "3.11.8"
  }
 },
 "nbformat": 4,
 "nbformat_minor": 2
}
