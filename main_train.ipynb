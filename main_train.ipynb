{
 "cells": [
  {
   "cell_type": "code",
   "execution_count": 1,
   "metadata": {},
   "outputs": [
    {
     "data": {
      "text/plain": [
       "True"
      ]
     },
     "execution_count": 1,
     "metadata": {},
     "output_type": "execute_result"
    }
   ],
   "source": [
    "# %% test cuda\n",
    "import torch #type: ignore\n",
    "torch.cuda.is_available()"
   ]
  },
  {
   "cell_type": "code",
   "execution_count": 1,
   "metadata": {},
   "outputs": [
    {
     "name": "stdout",
     "output_type": "stream",
     "text": [
      "Use device name: NVIDIA GeForce RTX 4090\n",
      "Unpack Update Files\n",
      "['/home/mengkjin/Workspace/SharedFolder/DB_updater.240402111348.tar', '/home/mengkjin/Workspace/SharedFolder/DB_updater.240403111906.tar', '/home/mengkjin/Workspace/SharedFolder/DB_updater.240403115028.tar', '/home/mengkjin/Workspace/SharedFolder/DB_updater.240405000856.tar']\n",
      "Fri Apr  5 00:14:05 2024 : All Updates Done! Cost 5.75 Secs\n",
      "Fri Apr  5 00:14:05 2024 : download since!\n",
      "Connection and Factor preparation finished!\n",
      "Fri Apr  5 00:14:05 2024 : sellside/haitong.hf_factors from 20240330 to 20240405, total 1 periods\n",
      "Start sellside/haitong.hf_factors:20240330-20240405 \n",
      "Done sellside/haitong.hf_factors:20240330-20240405 \n",
      "Fri Apr  5 00:14:13 2024 : sellside/haitong.dl_factors from 20240330 to 20240405, total 1 periods\n",
      "Start sellside/haitong.dl_factors:20240330-20240405 \n",
      "Done sellside/haitong.dl_factors:20240330-20240405 \n",
      "Fri Apr  5 00:15:44 2024 : sellside/dongfang.hfq_chars from 20240330 to 20240405, total 1 periods\n",
      "Start sellside/dongfang.hfq_chars:20240330-20240405 \n",
      "Done sellside/dongfang.hfq_chars:20240330-20240405 \n",
      "Fri Apr  5 00:15:51 2024 : sellside/dongfang.l2_chars from 20240330 to 20240405, total 1 periods\n",
      "Start sellside/dongfang.l2_chars:20240330-20240405 \n",
      "Done sellside/dongfang.l2_chars:20240330-20240405 \n",
      "Fri Apr  5 00:16:31 2024 : sellside/dongfang.ms_chars from 20240330 to 20240405, total 1 periods\n",
      "Start sellside/dongfang.ms_chars:20240330-20240405 \n",
      "Done sellside/dongfang.ms_chars:20240330-20240405 \n",
      "Fri Apr  5 00:17:28 2024 : sellside/dongfang.order_flow from 20240330 to 20240405, total 1 periods\n",
      "Start sellside/dongfang.order_flow:20240330-20240405 \n",
      "Done sellside/dongfang.order_flow:20240330-20240405 \n",
      "Fri Apr  5 00:17:31 2024 : sellside/dongfang.gp from 20240330 to 20240405, total 1 periods\n",
      "Start sellside/dongfang.gp:20240330-20240405 \n",
      "Done sellside/dongfang.gp:20240330-20240405 \n",
      "Fri Apr  5 00:17:33 2024 : sellside/dongfang.tra from 20240330 to 20240405, total 1 periods\n",
      "Start sellside/dongfang.tra:20240330-20240405 \n",
      "Done sellside/dongfang.tra:20240330-20240405 \n",
      "Fri Apr  5 00:17:35 2024 : sellside/dongfang.hist from 20240330 to 20240405, total 1 periods\n",
      "Start sellside/dongfang.hist:20240330-20240405 \n",
      "Done sellside/dongfang.hist:20240330-20240405 \n",
      "Fri Apr  5 00:17:36 2024 : sellside/dongfang.scores_v0 from 20240330 to 20240405, total 1 periods\n",
      "Start sellside/dongfang.scores_v0:20240330-20240405 \n",
      "Done sellside/dongfang.scores_v0:20240330-20240405 \n",
      "Fri Apr  5 00:17:38 2024 : sellside/kaiyuan.positive from 20240301 to 20240405, total 1 periods\n",
      "Start sellside/kaiyuan.positive:20240301-20240405 \n",
      "Done sellside/kaiyuan.positive:20240301-20240405 \n",
      "Fri Apr  5 00:17:42 2024 : sellside/kaiyuan.negative from 20240301 to 20240405, total 1 periods\n",
      "Start sellside/kaiyuan.negative:20240301-20240405 \n",
      "Done sellside/kaiyuan.negative:20240301-20240405 \n",
      "Fri Apr  5 00:17:44 2024 : sellside/huatai.dl_factors from 20240330 to 20240405, total 1 periods\n",
      "Start sellside/huatai.dl_factors:20240330-20240405 \n",
      "Done sellside/huatai.dl_factors:20240330-20240405 \n"
     ]
    }
   ],
   "source": [
    "# %% update data\n",
    "import socket\n",
    "import src.data as data\n",
    "data.DataFetcher.main()\n",
    "if socket.gethostname() == 'mengkjin-server':\n",
    "    data.DataFetcher_sql.DataFetcher_sql.update_since()"
   ]
  },
  {
   "cell_type": "code",
   "execution_count": 1,
   "metadata": {},
   "outputs": [
    {
     "name": "stdout",
     "output_type": "stream",
     "text": [
      "Use device name: NVIDIA GeForce RTX 4090\n"
     ]
    },
    {
     "name": "stderr",
     "output_type": "stream",
     "text": [
      "\u001b[1m\u001b[37m\u001b[44m24-04-08 22:31:13|MOD:run_model   |\u001b[0m: \u001b[1m\u001b[34mModel Specifics:\u001b[0m\n",
      "\u001b[1m\u001b[37m\u001b[41m24-04-08 22:31:13|MOD:run_model   |\u001b[0m: \u001b[1m\u001b[31mStart Process [Load Data]!\u001b[0m\n"
     ]
    },
    {
     "name": "stdout",
     "output_type": "stream",
     "text": [
      "--Process Queue : Data + Train + Test\n",
      "--Model_name is set to patch_tst_day!\n",
      "{'random_seed': None,\n",
      " 'verbosity': 2,\n",
      " 'precision': 'float',\n",
      " 'batch_size': 10000,\n",
      " 'model_name': 'patch_tst_day',\n",
      " 'model_module': 'patch_tst',\n",
      " 'model_num': 2,\n",
      " 'model_data_type': 'day',\n",
      " 'labels': ['std_lag1_10'],\n",
      " 'beg_date': 20170103,\n",
      " 'end_date': 99991231,\n",
      " 'interval': 120,\n",
      " 'input_step_day': 5,\n",
      " 'test_step_day': 1,\n",
      " 'MODEL_PARAM': {'hidden_dim': [32, 64],\n",
      "                 'seqlens': [{'day': 30, '30m': 30, 'dms': 30}],\n",
      "                 'seq_len': [30],\n",
      "                 'dropout': [0.1],\n",
      "                 'attn_dropout': [0.1],\n",
      "                 'num_output': [1],\n",
      "                 'patch_len': 5,\n",
      "                 'stride': 1,\n",
      "                 'shared_embedding': True,\n",
      "                 'shared_head': True,\n",
      "                 'revin': False,\n",
      "                 'act_type': 'gelu',\n",
      "                 'n_layers': 2,\n",
      "                 'n_heads': 16,\n",
      "                 'd_ff': 256},\n",
      " 'train_params': {'dataloader': {'sample_method': 'sequential', 'shuffle_option': 'epoch', 'train_ratio': 0.8},\n",
      "                  'trainer': {'optimizer': {'name': 'Adam', 'param': {}},\n",
      "                              'scheduler': {'name': 'cycle', 'param': {'base_lr': 1e-07, 'step_size_up': 4}},\n",
      "                              'learn_rate': {'base': 0.005,\n",
      "                                             'ratio': {'attempt': [1, 0.1, 10, 0.01, 100], 'transfer': 0.1},\n",
      "                                             'reset': {'num_reset': 2, 'trigger': 40, 'recover_level': 1.0, 'speedup2x': True}},\n",
      "                              'nanloss': {'retry': 5},\n",
      "                              'gradient': {'clip_value': 10.0},\n",
      "                              'retrain': {'attempts': 4, 'min_epoch': 20}},\n",
      "                  'criterion': {'loss': 'pearson',\n",
      "                                'score': {'train': 'spearman', 'valid': 'spearman', 'test': 'spearman'},\n",
      "                                'penalty': {'hidden_corr': {'lamb': 0.001}, 'tra_opt_transport': {'lamb': 0.01, 'rho': 0.999}},\n",
      "                                'weight': {'train': 'equal', 'test': 'equal'}},\n",
      "                  'transfer': False,\n",
      "                  'multitask': {'type': 'hybrid',\n",
      "                                'param_dict': {'dwa': {'tau': 2},\n",
      "                                               'ruw': {'phi': None},\n",
      "                                               'ewa': {},\n",
      "                                               'gls': {},\n",
      "                                               'rws': {},\n",
      "                                               'hybrid': {'phi': None, 'tau': 2}}},\n",
      "                  'terminate': {'early_stop': 20, 'max_epoch': 200, 'valid_converge': {'min_epoch': 5, 'eps': 1e-05}}}}\n",
      "use /home/mengkjin/Workspace/learndl/data/torch_pack/day.20240313.pt\n"
     ]
    },
    {
     "name": "stderr",
     "output_type": "stream",
     "text": [
      "\u001b[1m\u001b[37m\u001b[41m24-04-08 22:31:16|MOD:run_model   |\u001b[0m: \u001b[1m\u001b[31mFinish Process [Load Data]! Cost 3.4Secs\u001b[0m\n",
      "\u001b[1m\u001b[37m\u001b[41m24-04-08 22:31:16|MOD:run_model   |\u001b[0m: \u001b[1m\u001b[31mStart Process [Train Model]!\u001b[0m\n"
     ]
    },
    {
     "name": "stdout",
     "output_type": "stream",
     "text": [
      "Pre-Norming method of [day] : [endpoint_division(True) , history_standardize(True)]\n"
     ]
    },
    {
     "name": "stderr",
     "output_type": "stream",
     "text": [
      "\u001b[32mpatch_tst_day #0 @20170103 LoadData Cost    3.4Secs\u001b[0m\n"
     ]
    },
    {
     "name": "stdout",
     "output_type": "stream",
     "text": [
      "score function of [spearman] calculated and success!\n",
      "loss function of [pearson] calculated and success!\n"
     ]
    },
    {
     "name": "stderr",
     "output_type": "stream",
     "text": [
      "\u001b[32mFirstBite Ep#  0 : loss  0.99903, train-0.00065, valid 0.00981, max 0.0098, best 0.0098, lr1.0e-07\u001b[0m\n",
      "\u001b[32mFirstBite Ep#  5 : loss  0.93146, train 0.08918, valid 0.06200, max 0.0725, best 0.0725, lr3.8e-03\u001b[0m\n",
      "\u001b[32mFirstBite Ep# 10 : loss  0.90459, train 0.11230, valid 0.09677, max 0.0992, best 0.0992, lr1.3e-03\u001b[0m\n",
      "\u001b[32mFirstBite Ep# 15 : loss  0.88332, train 0.13555, valid 0.11017, max 0.1102, best 0.1102, lr6.3e-04\u001b[0m\n",
      "\u001b[32mFirstBite Ep# 20 : loss  0.88411, train 0.13377, valid 0.11752, max 0.1175, best 0.1175, lr1.3e-03\u001b[0m\n",
      "\u001b[32mFirstBite Ep# 25 : loss  0.86538, train 0.15495, valid 0.11525, max 0.1194, best 0.1194, lr1.6e-04\u001b[0m\n",
      "\u001b[32mFirstBite Ep# 30 : loss  0.86139, train 0.15904, valid 0.11806, max 0.1200, best 0.1200, lr3.1e-04\u001b[0m\n",
      "\u001b[32mFirstBite Ep# 35 : loss  0.85723, train 0.16344, valid 0.11805, max 0.1200, best 0.1200, lr2.3e-04\u001b[0m\n",
      "\u001b[32mReset learn rate and scheduler at the end of epoch 39 , effective at epoch 40\u001b[0m\n",
      "\u001b[32mFirstBite Ep# 40 : loss  0.84964, train 0.17084, valid 0.11348, max 0.1200, best 0.1200, lr1.0e-07\u001b[0m\n",
      "\u001b[32mFirstBite Ep# 45 : loss  0.88716, train 0.13276, valid 0.11308, max 0.1200, best 0.1200, lr1.3e-03\u001b[0m\n",
      "\u001b[1m\u001b[37m\u001b[44m24-04-08 22:56:32|MOD:run_model   |\u001b[0m: \u001b[1m\u001b[34mpatch_tst_day #0 @20170103|FirstBite Ep# 49 EarlyStop|Train 0.1548 Valid 0.1152 BestVal 0.1200|Cost 25.3Min, 30.2Sec/Ep\u001b[0m\n",
      "\u001b[32mFirstBite Ep#  0 : loss  1.01185, train-0.01455, valid-0.02258, max-0.0226, best-0.0226, lr1.0e-07\u001b[0m\n",
      "\u001b[32mFirstBite Ep#  5 : loss  0.93084, train 0.08987, valid 0.07249, max 0.0725, best 0.0725, lr3.8e-03\u001b[0m\n",
      "\u001b[32mFirstBite Ep# 10 : loss  0.90242, train 0.11400, valid 0.11032, max 0.1105, best 0.1105, lr1.3e-03\u001b[0m\n",
      "\u001b[32mFirstBite Ep# 15 : loss  0.88573, train 0.13303, valid 0.12217, max 0.1249, best 0.1249, lr6.3e-04\u001b[0m\n",
      "\u001b[32mFirstBite Ep# 20 : loss  0.88297, train 0.13554, valid 0.12545, max 0.1255, best 0.1255, lr1.3e-03\u001b[0m\n",
      "\u001b[32mFirstBite Ep# 25 : loss  0.86352, train 0.15586, valid 0.12232, max 0.1265, best 0.1265, lr1.6e-04\u001b[0m\n",
      "\u001b[32mFirstBite Ep# 30 : loss  0.86011, train 0.15998, valid 0.12179, max 0.1265, best 0.1265, lr3.1e-04\u001b[0m\n",
      "\u001b[32mFirstBite Ep# 35 : loss  0.85517, train 0.16450, valid 0.11941, max 0.1265, best 0.1265, lr2.3e-04\u001b[0m\n",
      "\u001b[32mReset learn rate and scheduler at the end of epoch 39 , effective at epoch 40\u001b[0m\n",
      "\u001b[32mFirstBite Ep# 40 : loss  0.84858, train 0.17159, valid 0.11605, max 0.1265, best 0.1265, lr1.0e-07\u001b[0m\n",
      "\u001b[1m\u001b[37m\u001b[44m24-04-08 23:18:23|MOD:run_model   |\u001b[0m: \u001b[1m\u001b[34mpatch_tst_day #1 @20170103|FirstBite Ep# 42 EarlyStop|Train 0.1074 Valid 0.1020 BestVal 0.1265|Cost 21.8Min, 30.5Sec/Ep\u001b[0m\n",
      "\u001b[1m\u001b[37m\u001b[44m24-04-08 23:50:03|MOD:run_model   |\u001b[0m: \u001b[1m\u001b[34mpatch_tst_day #0 @20170704|FirstBite Ep# 59 EarlyStop|Train 0.1760 Valid 0.0701 BestVal 0.0782|Cost 31.7Min, 31.6Sec/Ep\u001b[0m\n",
      "\u001b[1m\u001b[37m\u001b[44m24-04-09 00:07:05|MOD:run_model   |\u001b[0m: \u001b[1m\u001b[34mpatch_tst_day #1 @20170704|FirstBite Ep# 31 EarlyStop|Train 0.1595 Valid 0.0682 BestVal 0.0770|Cost 17.0Min, 31.9Sec/Ep\u001b[0m\n",
      "\u001b[1m\u001b[37m\u001b[44m24-04-09 00:19:24|MOD:run_model   |\u001b[0m: \u001b[1m\u001b[34mpatch_tst_day #0 @20171226|FirstBite Ep# 21 EarlyStop|Train 0.1485 Valid 0.0180 BestVal 0.0425|Cost 12.3Min, 33.5Sec/Ep\u001b[0m\n",
      "\u001b[1m\u001b[37m\u001b[44m24-04-09 00:35:00|MOD:run_model   |\u001b[0m: \u001b[1m\u001b[34mpatch_tst_day #1 @20171226|FirstBite Ep# 27 EarlyStop|Train 0.1537 Valid 0.0267 BestVal 0.0436|Cost 15.6Min, 33.4Sec/Ep\u001b[0m\n",
      "\u001b[1m\u001b[37m\u001b[44m24-04-09 01:10:12|MOD:run_model   |\u001b[0m: \u001b[1m\u001b[34mpatch_tst_day #0 @20180627|FirstBite Ep# 61 EarlyStop|Train 0.1367 Valid 0.0653 BestVal 0.0869|Cost 35.2Min, 34.0Sec/Ep\u001b[0m\n",
      "\u001b[1m\u001b[37m\u001b[44m24-04-09 01:44:39|MOD:run_model   |\u001b[0m: \u001b[1m\u001b[34mpatch_tst_day #1 @20180627|FirstBite Ep# 60 EarlyStop|Train 0.1771 Valid 0.0734 BestVal 0.0844|Cost 34.4Min, 33.9Sec/Ep\u001b[0m\n",
      "\u001b[1m\u001b[37m\u001b[44m24-04-09 02:03:38|MOD:run_model   |\u001b[0m: \u001b[1m\u001b[34mpatch_tst_day #0 @20181220|FirstBite Ep# 31 EarlyStop|Train 0.1530 Valid 0.0972 BestVal 0.1057|Cost 19.0Min, 35.5Sec/Ep\u001b[0m\n",
      "\u001b[1m\u001b[37m\u001b[44m24-04-09 02:51:31|MOD:run_model   |\u001b[0m: \u001b[1m\u001b[34mpatch_tst_day #1 @20181220|FirstBite Ep# 81 EarlyStop|Train 0.1699 Valid 0.0914 BestVal 0.1047|Cost 47.9Min, 35.0Sec/Ep\u001b[0m\n",
      "\u001b[1m\u001b[37m\u001b[44m24-04-09 03:36:36|MOD:run_model   |\u001b[0m: \u001b[1m\u001b[34mpatch_tst_day #0 @20190624|FirstBite Ep# 73 EarlyStop|Train 0.1852 Valid 0.1002 BestVal 0.1009|Cost 45.1Min, 36.5Sec/Ep\u001b[0m\n",
      "\u001b[1m\u001b[37m\u001b[44m24-04-09 04:05:14|MOD:run_model   |\u001b[0m: \u001b[1m\u001b[34mpatch_tst_day #1 @20190624|FirstBite Ep# 46 EarlyStop|Train 0.1344 Valid 0.0895 BestVal 0.1056|Cost 28.6Min, 36.6Sec/Ep\u001b[0m\n",
      "\u001b[1m\u001b[37m\u001b[44m24-04-09 04:57:18|MOD:run_model   |\u001b[0m: \u001b[1m\u001b[34mpatch_tst_day #0 @20191217|FirstBite Ep# 81 EarlyStop|Train 0.1757 Valid 0.0913 BestVal 0.1019|Cost 52.1Min, 38.1Sec/Ep\u001b[0m\n",
      "\u001b[1m\u001b[37m\u001b[44m24-04-09 05:27:57|MOD:run_model   |\u001b[0m: \u001b[1m\u001b[34mpatch_tst_day #1 @20191217|FirstBite Ep# 47 EarlyStop|Train 0.1572 Valid 0.0924 BestVal 0.1004|Cost 30.6Min, 38.3Sec/Ep\u001b[0m\n",
      "\u001b[1m\u001b[37m\u001b[44m24-04-09 05:54:37|MOD:run_model   |\u001b[0m: \u001b[1m\u001b[34mpatch_tst_day #0 @20200617|FirstBite Ep# 39 EarlyStop|Train 0.1537 Valid 0.0850 BestVal 0.0915|Cost 26.7Min, 39.9Sec/Ep\u001b[0m\n",
      "\u001b[1m\u001b[37m\u001b[44m24-04-09 06:27:52|MOD:run_model   |\u001b[0m: \u001b[1m\u001b[34mpatch_tst_day #1 @20200617|FirstBite Ep# 49 EarlyStop|Train 0.1528 Valid 0.0928 BestVal 0.0960|Cost 33.2Min, 39.9Sec/Ep\u001b[0m\n",
      "\u001b[1m\u001b[37m\u001b[44m24-04-09 07:10:39|MOD:run_model   |\u001b[0m: \u001b[1m\u001b[34mpatch_tst_day #0 @20201214|FirstBite Ep# 61 EarlyStop|Train 0.1432 Valid 0.0949 BestVal 0.0978|Cost 42.8Min, 41.3Sec/Ep\u001b[0m\n",
      "\u001b[1m\u001b[37m\u001b[44m24-04-09 07:40:26|MOD:run_model   |\u001b[0m: \u001b[1m\u001b[34mpatch_tst_day #1 @20201214|FirstBite Ep# 42 EarlyStop|Train 0.1014 Valid 0.0810 BestVal 0.0956|Cost 29.8Min, 41.6Sec/Ep\u001b[0m\n",
      "\u001b[1m\u001b[37m\u001b[44m24-04-09 08:10:08|MOD:run_model   |\u001b[0m: \u001b[1m\u001b[34mpatch_tst_day #0 @20210615|FirstBite Ep# 40 EarlyStop|Train 0.1473 Valid 0.0553 BestVal 0.0636|Cost 29.7Min, 43.4Sec/Ep\u001b[0m\n",
      "\u001b[1m\u001b[37m\u001b[44m24-04-09 08:42:36|MOD:run_model   |\u001b[0m: \u001b[1m\u001b[34mpatch_tst_day #1 @20210615|FirstBite Ep# 44 EarlyStop|Train 0.1219 Valid 0.0566 BestVal 0.0647|Cost 32.4Min, 43.3Sec/Ep\u001b[0m\n",
      "\u001b[1m\u001b[37m\u001b[44m24-04-09 08:59:24|MOD:run_model   |\u001b[0m: \u001b[1m\u001b[34mpatch_tst_day #0 @20211209|FirstBite Ep# 21 EarlyStop|Train 0.1282 Valid 0.0172 BestVal 0.0341|Cost 16.8Min, 45.7Sec/Ep\u001b[0m\n",
      "\u001b[1m\u001b[37m\u001b[44m24-04-09 09:23:31|MOD:run_model   |\u001b[0m: \u001b[1m\u001b[34mpatch_tst_day #1 @20211209|FirstBite Ep# 31 EarlyStop|Train 0.1396 Valid 0.0314 BestVal 0.0476|Cost 24.1Min, 45.2Sec/Ep\u001b[0m\n",
      "\u001b[1m\u001b[37m\u001b[44m24-04-09 09:40:59|MOD:run_model   |\u001b[0m: \u001b[1m\u001b[34mpatch_tst_day #0 @20220613|FirstBite Ep# 21 EarlyStop|Train 0.1203 Valid 0.0357 BestVal 0.0550|Cost 17.5Min, 47.5Sec/Ep\u001b[0m\n",
      "\u001b[1m\u001b[37m\u001b[44m24-04-09 09:58:23|MOD:run_model   |\u001b[0m: \u001b[1m\u001b[34mpatch_tst_day #1 @20220613|FirstBite Ep# 21 EarlyStop|Train 0.1182 Valid 0.0223 BestVal 0.0573|Cost 17.4Min, 47.5Sec/Ep\u001b[0m\n",
      "\u001b[1m\u001b[37m\u001b[44m24-04-09 10:16:31|MOD:run_model   |\u001b[0m: \u001b[1m\u001b[34mpatch_tst_day #0 @20221206|FirstBite Ep# 21 EarlyStop|Train 0.1207 Valid 0.0346 BestVal 0.0607|Cost 18.1Min, 49.3Sec/Ep\u001b[0m\n",
      "\u001b[1m\u001b[37m\u001b[44m24-04-09 10:43:14|MOD:run_model   |\u001b[0m: \u001b[1m\u001b[34mpatch_tst_day #1 @20221206|FirstBite Ep# 32 EarlyStop|Train 0.1394 Valid 0.0427 BestVal 0.0653|Cost 26.7Min, 48.6Sec/Ep\u001b[0m\n",
      "\u001b[1m\u001b[37m\u001b[44m24-04-09 11:03:39|MOD:run_model   |\u001b[0m: \u001b[1m\u001b[34mpatch_tst_day #0 @20230606|FirstBite Ep# 23 EarlyStop|Train 0.1164 Valid 0.0255 BestVal 0.0840|Cost 20.4Min, 50.9Sec/Ep\u001b[0m\n",
      "\u001b[1m\u001b[37m\u001b[44m24-04-09 11:22:23|MOD:run_model   |\u001b[0m: \u001b[1m\u001b[34mpatch_tst_day #1 @20230606|FirstBite Ep# 21 EarlyStop|Train 0.1160 Valid 0.0466 BestVal 0.0715|Cost 18.7Min, 51.1Sec/Ep\u001b[0m\n",
      "\u001b[1m\u001b[37m\u001b[44m24-04-09 11:41:55|MOD:run_model   |\u001b[0m: \u001b[1m\u001b[34mpatch_tst_day #0 @20231201|FirstBite Ep# 21 EarlyStop|Train 0.1173 Valid 0.0053 BestVal 0.0667|Cost 19.5Min, 53.1Sec/Ep\u001b[0m\n",
      "\u001b[1m\u001b[37m\u001b[44m24-04-09 12:01:24|MOD:run_model   |\u001b[0m: \u001b[1m\u001b[34mpatch_tst_day #1 @20231201|FirstBite Ep# 21 EarlyStop|Train 0.1202 Valid 0.0113 BestVal 0.0728|Cost 19.5Min, 53.1Sec/Ep\u001b[0m\n",
      "\u001b[1m\u001b[37m\u001b[41m24-04-09 12:01:25|MOD:run_model   |\u001b[0m: \u001b[1m\u001b[31mFinish Process [Train Model]! Cost 13.5 Hours, 27.0 Min/model, 39.0 Sec/Epoch\u001b[0m\n",
      "\u001b[1m\u001b[37m\u001b[41m24-04-09 12:01:25|MOD:run_model   |\u001b[0m: \u001b[1m\u001b[31mStart Process [Test Model]!\u001b[0m\n",
      "\u001b[1m\u001b[37m\u001b[44m24-04-09 12:01:25|MOD:run_model   |\u001b[0m: \u001b[1m\u001b[34mEach Model Date Testing Mean Score({'train': 'spearman', 'valid': 'spearman', 'test': 'spearman'}):\u001b[0m\n",
      "\u001b[32mModels            0       0       0       1       1       1\u001b[0m\n",
      "\u001b[32mOutput         best swalast swabest    best swalast swabest\u001b[0m\n",
      "\u001b[32m20170103     0.1055  0.0659  0.0704  0.1000  0.0618  0.0667\u001b[0m\n",
      "\u001b[32m20170704     0.0487  0.0644  0.0619  0.0580  0.0798  0.0773\u001b[0m\n",
      "\u001b[32m20171226     0.0576  0.0610  0.0707  0.0752  0.0666  0.0672\u001b[0m\n",
      "\u001b[32m20180627     0.0763  0.0377  0.0347  0.0355  0.0444  0.0333\u001b[0m\n",
      "\u001b[32m20181220     0.1059  0.1127  0.1092  0.1130  0.1043  0.1100\u001b[0m\n",
      "\u001b[32m20190624     0.0793  0.0738  0.0750  0.0866  0.0777  0.0790\u001b[0m\n",
      "\u001b[32m20191217     0.0729  0.0813  0.0797  0.0810  0.0858  0.0870\u001b[0m\n",
      "\u001b[32m20200617     0.1047  0.0994  0.0998  0.0996  0.0941  0.0982\u001b[0m\n",
      "\u001b[32m20201214     0.0824  0.0838  0.0853  0.0845  0.0793  0.0837\u001b[0m\n",
      "\u001b[32m20210615     0.0545  0.0634  0.0659  0.0495  0.0650  0.0675\u001b[0m\n",
      "\u001b[32m20211209     0.0527  0.0794  0.0998  0.0527  0.0652  0.0495\u001b[0m\n",
      "\u001b[32m20220613     0.0725  0.0591  0.0430  0.0710  0.0312  0.0232\u001b[0m\n",
      "\u001b[32m20221206     0.0253  0.0025  0.0010  0.0248 -0.0159  0.0013\u001b[0m\n",
      "\u001b[32m20230606     0.0895  0.0456  0.0457  0.0478  0.0456  0.0626\u001b[0m\n",
      "\u001b[32m20231201     0.0804  0.0444  0.0316  0.0728  0.0703  0.0765\u001b[0m\n",
      "\u001b[32mAllTimeAvg   0.0737  0.0655  0.0657  0.0701  0.0635  0.0653\u001b[0m\n",
      "\u001b[32mAllTimeSum   129.51  115.03  115.47  123.09  111.63  114.66\u001b[0m\n",
      "\u001b[32mStd          0.1014  0.0954  0.0958  0.0973  0.0957  0.0947\u001b[0m\n",
      "\u001b[32mTValue        30.46   28.77   28.76   30.17   27.84   28.88\u001b[0m\n",
      "\u001b[32mAnnIR        3.5601  3.3621  3.3608  3.5263  3.2537  3.3752\u001b[0m\n",
      "\u001b[1m\u001b[37m\u001b[41m24-04-09 12:10:57|MOD:run_model   |\u001b[0m: \u001b[1m\u001b[31mFinish Process [Test Model]! Cost 572.0 Secs\u001b[0m\n"
     ]
    },
    {
     "name": "stdout",
     "output_type": "stream",
     "text": [
      "                        keys  num_calls    total_time   avg_time\n",
      "5    model_train/epoch/train       1247  42593.628161  34.156879\n",
      "7                 train/loss     478476  15497.830467   0.032390\n",
      "9    model_train/epoch/valid       1247   5092.549536   4.083841\n",
      "8             train/backward     478476   4956.845997   0.010360\n",
      "11                valid/loss     119712   4617.191616   0.038569\n",
      "6              train/forward     478476   1418.733445   0.002965\n",
      "13                save_model       1277    858.956181   0.672636\n",
      "14        model_train/status       1247    842.639054   0.675733\n",
      "18       model_test/forecast         30    553.277533  18.442584\n",
      "10             valid/forward     119712    283.932547   0.002372\n",
      "19              test/forward      10542     51.856817   0.004919\n",
      "1          model_train/start         30     51.156410   1.705214\n",
      "12        model_train/assess       1247     17.049443   0.013672\n",
      "17          model_test/start         30     13.995042   0.466501\n",
      "20                 test/loss      10542      7.923320   0.000752\n",
      "15           model_train/end         30      5.443974   0.181466\n",
      "4                 load_model        120      1.237301   0.010311\n",
      "3   model_train/init_trainer       1247      0.527831   0.000423\n",
      "21            model_test/end         30      0.021838   0.000728\n",
      "2      model_train/init_loop       1247      0.006606   0.000005\n",
      "0    model_preparation/train         30      0.002809   0.000094\n",
      "16    model_preparation/test         30      0.001479   0.000049\n"
     ]
    }
   ],
   "source": [
    "# %% test a specific model\n",
    "from run_model import main\n",
    "main(process = 0 , rawname = 1 , resume = 0)"
   ]
  },
  {
   "cell_type": "code",
   "execution_count": 1,
   "metadata": {},
   "outputs": [
    {
     "name": "stdout",
     "output_type": "stream",
     "text": [
      "Use device name: NVIDIA GeForce RTX 4090\n"
     ]
    },
    {
     "name": "stderr",
     "output_type": "stream",
     "text": [
      "\u001b[1m\u001b[37m\u001b[41m24-03-31 09:52:11|MOD:data_preprocessing|\u001b[0m: \u001b[1m\u001b[31mif_train is False , Data Processing start!\u001b[0m\n",
      "\u001b[1m\u001b[37m\u001b[45m24-03-31 09:52:11|MOD:data_preprocessing|\u001b[0m: \u001b[1m\u001b[35m3 datas :['y', 'trade_day', 'trade_30m']\u001b[0m\n"
     ]
    },
    {
     "name": "stdout",
     "output_type": "stream",
     "text": [
      "Sun Mar 31 09:52:11 2024 : y start ...\n",
      "labels blocks reading ret10_lag DataBase's ...... cost 0.39 secs\n",
      "labels blocks reading ret20_lag DataBase's ...... cost 0.33 secs\n",
      "labels blocks merging ...... cost 0.05 secs\n",
      "models blocks reading risk_exp DataBase's ...... cost 1.66 secs\n",
      "models blocks merging ...... cost 0.17 secs\n",
      "y blocks process ...... cost 0.88 secs\n",
      "y blocks masking ...... cost 0.05 secs\n",
      "y blocks saving  ...... cost 0.14 secs\n",
      "y blocks norming ...... cost 0.00 secs\n",
      "Sun Mar 31 09:52:14 2024 : y finished! Cost 3.67 Seconds\n",
      "Sun Mar 31 09:52:14 2024 : trade_day start ...\n",
      "trade blocks reading day DataBase's ...... cost 0.56 secs\n",
      "trade_day blocks merging ...... cost 0.00 secs\n",
      "trade_day blocks process ...... cost 0.03 secs\n",
      "trade_day blocks masking ...... cost 0.05 secs\n",
      "trade_day blocks saving  ...... cost 0.16 secs\n",
      "trade_day blocks norming ...... cost 0.00 secs\n",
      "Sun Mar 31 09:52:15 2024 : trade_day finished! Cost 0.81 Seconds\n",
      "Sun Mar 31 09:52:15 2024 : trade_30m start ...\n",
      "trade blocks reading 30min DataBase's ...... cost 2.51 secs\n",
      "trade_30m blocks merging ...... cost 0.00 secs\n",
      "trade blocks reading day DataBase's ...... cost 0.53 secs\n",
      "trade_day blocks merging ...... cost 0.02 secs\n",
      "trade_30m blocks process ...... cost 0.95 secs\n",
      "trade_30m blocks masking ...... cost 0.05 secs\n",
      "trade_30m blocks saving  ..."
     ]
    },
    {
     "name": "stderr",
     "output_type": "stream",
     "text": [
      "\u001b[1m\u001b[37m\u001b[41m24-03-31 09:52:21|MOD:data_preprocessing|\u001b[0m: \u001b[1m\u001b[31mData Processing Finished! Cost 10.02 Seconds\u001b[0m\n"
     ]
    },
    {
     "name": "stdout",
     "output_type": "stream",
     "text": [
      "... cost 1.13 secs\n",
      "trade_30m blocks norming ...... cost 0.00 secs\n",
      "Sun Mar 31 09:52:21 2024 : trade_30m finished! Cost 5.19 Seconds\n"
     ]
    }
   ],
   "source": [
    "from src.data import PreProcess\n",
    "PreProcess.main(False)\n",
    "PreProcess.main(True)"
   ]
  }
 ],
 "metadata": {
  "kernelspec": {
   "display_name": "Python 3",
   "language": "python",
   "name": "python3"
  },
  "language_info": {
   "codemirror_mode": {
    "name": "ipython",
    "version": 3
   },
   "file_extension": ".py",
   "mimetype": "text/x-python",
   "name": "python",
   "nbconvert_exporter": "python",
   "pygments_lexer": "ipython3",
   "version": "3.10.12"
  }
 },
 "nbformat": 4,
 "nbformat_minor": 2
}
