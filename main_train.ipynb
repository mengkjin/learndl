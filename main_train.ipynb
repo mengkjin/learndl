{
 "cells": [
  {
   "cell_type": "code",
   "execution_count": 1,
   "metadata": {},
   "outputs": [
    {
     "name": "stdout",
     "output_type": "stream",
     "text": [
      "False 2.2.0+cpu\n"
     ]
    }
   ],
   "source": [
    "import torch\n",
    "print(torch.cuda.is_available() , torch.__version__)"
   ]
  },
  {
   "cell_type": "code",
   "execution_count": 1,
   "metadata": {},
   "outputs": [
    {
     "name": "stderr",
     "output_type": "stream",
     "text": [
      "\u001b[1m\u001b[37m\u001b[44m24-05-04 03:26:29|MOD:display     |\u001b[0m: \u001b[1m\u001b[34mModel Specifics:\u001b[0m\n",
      "\u001b[1m\u001b[37m\u001b[41m24-05-04 03:26:29|MOD:display     |\u001b[0m: \u001b[1m\u001b[31mStart Process [Data] at Sat May  4 03:26:29 2024!\u001b[0m\n"
     ]
    },
    {
     "name": "stdout",
     "output_type": "stream",
     "text": [
      "--Process Queue : Data + Fit + Test\n",
      "--Model_name is set to gru_day_ShortTest!\n",
      "Callback : DynamicDataLink() , assign / unlink dynamic data in tra networks\n",
      "Callback : ResetOptimizer(num_reset=2,trigger=40,recover_level=1.0,speedup2x=True) , reset optimizer on some epoch (can speedup scheduler)\n",
      "Callback : CallbackTimer(verbosity=10) , record time cost of callback hooks\n",
      "Callback : EarlyStoppage(patience=20) , stop fitting when validation score cease to improve\n",
      "Callback : ValidationConverge(patience=5,eps=1e-05) , stop fitting when valid_score converge\n",
      "Callback : EarlyExitRetrain(earliest=20,max_attempt=4,lr_multiplier=[1, 0.1, 10, 0.01, 100, 1]) , retrain with new lr if fitting stopped too early\n",
      "Callback : NanLossRetrain(max_attempt=4) , retrain if fitting encounters nan loss\n",
      "Callback : BatchDisplay(verbosity=10) , display batch progress bar\n",
      "Callback : StatusDisplay(verbosity=10) , display epoch / event information\n",
      "{'random_seed': None,\n",
      " 'model_name': 'gru_day_ShortTest',\n",
      " 'model_module': 'gru',\n",
      " 'model_data_type': 'day',\n",
      " 'beg_date': 20170103,\n",
      " 'end_date': 20170228,\n",
      " 'sample_method': 'train_shuffle',\n",
      " 'shuffle_option': 'epoch'}\n",
      "{'hidden_dim': [32],\n",
      " 'seqlens': [{'day': 30, '30m': 30, 'dms': 30}],\n",
      " 'tra_seqlens': [{'hist_loss': 40}],\n",
      " 'dropout': [0.1],\n",
      " 'enc_in': [True],\n",
      " 'enc_att': [False],\n",
      " 'rnn_type': ['gru'],\n",
      " 'rnn_att': [False],\n",
      " 'rnn_layers': [2],\n",
      " 'dec_mlp_layers': [2],\n",
      " 'num_output': [1],\n",
      " 'kernel_size': [3],\n",
      " 'hidden_as_factor': [True],\n",
      " 'ordered_param_group': [False]}\n",
      "use d:\\Coding\\learndl\\learndl\\data\\torch_pack/day.20240315.pt\n"
     ]
    },
    {
     "name": "stderr",
     "output_type": "stream",
     "text": [
      "\u001b[1m\u001b[37m\u001b[41m24-05-04 03:26:33|MOD:display     |\u001b[0m: \u001b[1m\u001b[31mFinish Process [Data], Cost 4.0 Secs\u001b[0m\n",
      "\u001b[1m\u001b[37m\u001b[41m24-05-04 03:26:33|MOD:display     |\u001b[0m: \u001b[1m\u001b[31mStart Process [Fit] at Sat May  4 03:26:33 2024!\u001b[0m\n"
     ]
    },
    {
     "name": "stdout",
     "output_type": "stream",
     "text": [
      "Pre-Norming method of [day] : {'divlast': True, 'histnorm': True}\n"
     ]
    },
    {
     "name": "stderr",
     "output_type": "stream",
     "text": [
      "  0%|          | 0/10 [00:00<?, ?it/s]"
     ]
    },
    {
     "name": "stdout",
     "output_type": "stream",
     "text": [
      "score function of [spearman] calculated and success!\n",
      "loss function of [pearson] calculated and success!\n"
     ]
    },
    {
     "name": "stderr",
     "output_type": "stream",
     "text": [
      "Train Ep#  0 loss : 0.99207: 100%|██████████| 10/10 [00:13<00:00,  1.33s/it]\n",
      "Valid Ep#  0 score : 0.02732: 100%|██████████| 10/10 [00:01<00:00,  5.96it/s]\n",
      "\u001b[32mFirstBite Ep#  0 : loss  0.99207, train 0.00652, valid 0.02732, best 0.0273, lr1.3e-03\u001b[0m\n",
      "Train Ep#  1 loss : 0.97728: 100%|██████████| 10/10 [00:13<00:00,  1.30s/it]\n",
      "Valid Ep#  1 score : 0.03039: 100%|██████████| 10/10 [00:01<00:00,  5.26it/s]\n",
      "\u001b[32mFirstBite Ep#  1 : loss  0.97728, train 0.01887, valid 0.03039, best 0.0304, lr2.5e-03\u001b[0m\n",
      "Train Ep#  2 loss : 0.95393: 100%|██████████| 10/10 [00:12<00:00,  1.29s/it]\n",
      "Valid Ep#  2 score : 0.04864: 100%|██████████| 10/10 [00:01<00:00,  6.91it/s]\n",
      "\u001b[32mFirstBite Ep#  2 : loss  0.95393, train 0.04003, valid 0.04864, best 0.0486, lr3.8e-03\u001b[0m\n",
      "Train Ep#  3 loss : 0.93684: 100%|██████████| 10/10 [00:11<00:00,  1.19s/it]\n",
      "Valid Ep#  3 score : 0.05151: 100%|██████████| 10/10 [00:01<00:00,  5.44it/s]\n",
      "\u001b[32mFirstBite Ep#  3 : loss  0.93684, train 0.06660, valid 0.05151, best 0.0515, lr5.0e-03\u001b[0m\n",
      "\u001b[1m\u001b[37m\u001b[44m24-05-04 03:27:44|MOD:display     |\u001b[0m: \u001b[1m\u001b[34mgru_day_ShortTest #0 @20170103|FirstBite Ep#  4 Max Epoch|Train 0.0666 Valid 0.0515 BestVal 0.0515|Cost  1.1Min, 13.5Sec/Ep\u001b[0m\n",
      "\u001b[1m\u001b[37m\u001b[41m24-05-04 03:27:44|MOD:display     |\u001b[0m: \u001b[1m\u001b[31mFinish Process [Fit], Cost 0.0 Hours, 1.2 Min/model, 17.9 Sec/Epoch\u001b[0m\n",
      "\u001b[1m\u001b[37m\u001b[41m24-05-04 03:27:44|MOD:display     |\u001b[0m: \u001b[1m\u001b[31mStart Process [Test] at Sat May  4 03:27:44 2024!\u001b[0m\n",
      "\u001b[1m\u001b[37m\u001b[44m24-05-04 03:27:44|MOD:display     |\u001b[0m: \u001b[1m\u001b[34mEach Model Date Testing Mean Score(spearman):\u001b[0m\n",
      "\u001b[32mModels            0       0       0\u001b[0m\n",
      "\u001b[32mOutput         best swalast swabest\u001b[0m\n",
      "Test best 20170228 score : 0.05467: 100%|██████████| 35/35 [00:04<00:00,  7.20it/s]\n",
      "Test swalast 20170228 score : 0.05163: 100%|██████████| 35/35 [00:04<00:00,  7.33it/s]\n",
      "Test swabest 20170228 score : 0.03148: 100%|██████████| 35/35 [00:04<00:00,  7.15it/s]\n",
      "\u001b[32m20170103     0.0547  0.0516  0.0315\u001b[0m\n",
      "\u001b[32mAllTimeAvg   0.0547  0.0516  0.0315\u001b[0m\n",
      "\u001b[32mAllTimeSum     1.91    1.81    1.10\u001b[0m\n",
      "\u001b[32mStd          0.0539  0.0507  0.0307\u001b[0m\n",
      "\u001b[32mTValue         6.00    6.02    6.07\u001b[0m\n",
      "\u001b[32mAnnIR        4.9722  4.9887  5.0300\u001b[0m\n",
      "\u001b[1m\u001b[37m\u001b[41m24-05-04 03:28:00|MOD:display     |\u001b[0m: \u001b[1m\u001b[31mFinish Process [Test], Cost 15.2 Secs\u001b[0m\n",
      "\u001b[1m\u001b[37m\u001b[41m24-05-04 03:28:00|MOD:__init__    |\u001b[0m: \u001b[1m\u001b[31mMain Process Finished! Cost 1 Minutes 30.7 Seconds\u001b[0m\n"
     ]
    },
    {
     "name": "stdout",
     "output_type": "stream",
     "text": [
      "                    hook_name  num_calls  total_time  avg_time\n",
      "8              on_train_batch         40   51.053228  1.276331\n",
      "23              on_test_batch        105   14.276083  0.135963\n",
      "17           on_fit_model_end          1    9.176995  9.176995\n",
      "13        on_validation_batch         40    6.725021  0.168126\n",
      "4          on_fit_model_start          1    4.120874  4.120874\n",
      "20        on_test_model_start          1    0.588146  0.588146\n",
      "24          on_test_batch_end        105    0.148236  0.001412\n",
      "14    on_validation_batch_end         40    0.090520  0.002263\n",
      "9          on_train_batch_end         40    0.070368  0.001759\n",
      "16           on_fit_epoch_end          4    0.050281  0.012570\n",
      "21   on_test_model_type_start          3    0.031073  0.010358\n",
      "27                on_test_end          1    0.023039  0.023039\n",
      "25     on_test_model_type_end          3    0.016436  0.005479\n",
      "15    on_validation_epoch_end          4    0.015980  0.003995\n",
      "10         on_train_epoch_end          4    0.014018  0.003504\n",
      "11  on_validation_epoch_start          4    0.013014  0.003254\n",
      "6        on_train_epoch_start          4    0.007510  0.001878\n",
      "22        on_test_batch_start        105    0.005946  0.000057\n",
      "0          on_configure_model          1    0.003990  0.003990\n",
      "1               on_data_start          1    0.002994  0.002994\n",
      "2                 on_data_end          1    0.002029  0.002029\n",
      "28         on_summarize_model          1    0.000249  0.000249\n",
      "7        on_train_batch_start         40    0.000092  0.000002\n",
      "19              on_test_start          1    0.000000  0.000000\n",
      "18                 on_fit_end          1    0.000000  0.000000\n",
      "12  on_validation_batch_start         40    0.000000  0.000000\n",
      "5          on_fit_epoch_start          4    0.000000  0.000000\n",
      "3                on_fit_start          1    0.000000  0.000000\n",
      "26          on_test_model_end          1    0.000000  0.000000\n"
     ]
    }
   ],
   "source": [
    "# %% test a specific model\n",
    "from src.interface import ModelTrainer\n",
    "ModelTrainer.main(stage = 0 , resume = 0 , checkname= 1)"
   ]
  },
  {
   "cell_type": "code",
   "execution_count": null,
   "metadata": {},
   "outputs": [],
   "source": [
    "from src.interface import ModelTrainer\n",
    "ModelTrainer.main(stage = 0 , resume = 0 , checkname= 1)"
   ]
  },
  {
   "cell_type": "code",
   "execution_count": null,
   "metadata": {},
   "outputs": [],
   "source": [
    "# prepare data\n",
    "from src.interface import DataModule\n",
    "DataModule.prepare_data()"
   ]
  }
 ],
 "metadata": {
  "kernelspec": {
   "display_name": "Python 3",
   "language": "python",
   "name": "python3"
  },
  "language_info": {
   "codemirror_mode": {
    "name": "ipython",
    "version": 3
   },
   "file_extension": ".py",
   "mimetype": "text/x-python",
   "name": "python",
   "nbconvert_exporter": "python",
   "pygments_lexer": "ipython3",
   "version": "3.11.8"
  }
 },
 "nbformat": 4,
 "nbformat_minor": 2
}
