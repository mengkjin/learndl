{
 "cells": [
  {
   "cell_type": "code",
   "execution_count": 1,
   "metadata": {},
   "outputs": [
    {
     "name": "stdout",
     "output_type": "stream",
     "text": [
      "False 2.2.0+cpu\n"
     ]
    }
   ],
   "source": [
    "import torch\n",
    "print(torch.cuda.is_available() , torch.__version__)"
   ]
  },
  {
   "cell_type": "code",
   "execution_count": 1,
   "metadata": {},
   "outputs": [
    {
     "name": "stderr",
     "output_type": "stream",
     "text": [
      "\u001b[1m\u001b[37m\u001b[44m24-10-29 15:18:48|MOD:display     |\u001b[0m: \u001b[1m\u001b[34mModel Specifics:\u001b[0m\n",
      "\u001b[1m\u001b[37m\u001b[41m24-10-29 15:18:48|MOD:display     |\u001b[0m: \u001b[1m\u001b[31mStart Process [Data] at Tue Oct 29 15:18:48 2024!\u001b[0m\n"
     ]
    },
    {
     "name": "stdout",
     "output_type": "stream",
     "text": [
      "--Process Queue : Data + Fit + Test\n",
      "--Start Training New!\n",
      "--Model_name is set to lgbm_day_ShortTest!\n",
      "StatusDisplay(verbosity=10) , display epoch and event information\n",
      "DetailedAlphaAnalysis(use_num=avg) , record and concat each model to Alpha model instance\n",
      "{'model_name': 'lgbm_day_ShortTest',\n",
      " 'model_module': 'lgbm',\n",
      " 'model_submodels': ['best'],\n",
      " 'model_booster_type': 'lgbm',\n",
      " 'model_booster_optuna': True,\n",
      " 'model_booster_head': None,\n",
      " 'model_data_types': ['day'],\n",
      " 'model_data_labels': None,\n",
      " 'random_seed': None,\n",
      " 'beg_date': 20170101,\n",
      " 'end_date': 20170228,\n",
      " 'train_sample_method': 'sequential',\n",
      " 'train_shuffle_option': 'epoch'}\n",
      "{'seqlens': [{'day': 5}],\n",
      " 'objective': ['mse'],\n",
      " 'linear_tree': [True],\n",
      " 'learning_rate': [0.3],\n",
      " 'reg_lambda': [1e-05],\n",
      " 'reg_alpha': [1e-07],\n",
      " 'num_leaves': [31],\n",
      " 'max_depth': [6],\n",
      " 'min_sum_hessian_in_leaf': [1],\n",
      " 'feature_fraction': [0.6],\n",
      " 'bagging_fraction': [0.75],\n",
      " 'force_col_wise': [True],\n",
      " 'monotone_constraints': [0],\n",
      " 'verbosity': 10}\n",
      "try using d:\\Coding\\learndl\\learndl\\data\\DataSet/day.20240607.pt , success!\n"
     ]
    },
    {
     "name": "stderr",
     "output_type": "stream",
     "text": [
      "\u001b[1m\u001b[37m\u001b[41m24-10-29 15:18:49|MOD:display     |\u001b[0m: \u001b[1m\u001b[31mFinish Process [Data], Cost 1.6 Secs\u001b[0m\n",
      "\u001b[1m\u001b[37m\u001b[41m24-10-29 15:18:49|MOD:display     |\u001b[0m: \u001b[1m\u001b[31mStart Process [Fit] at Tue Oct 29 15:18:49 2024!\u001b[0m\n",
      "\u001b[1m\u001b[37m\u001b[44m24-10-29 15:18:49|MOD:classes     |\u001b[0m: \u001b[1m\u001b[34mFirst Iterance: (20170103 , 0)\u001b[0m\n"
     ]
    },
    {
     "name": "stdout",
     "output_type": "stream",
     "text": [
      "Pre-Norming method of [day] : {'divlast': True, 'histnorm': True}\n"
     ]
    },
    {
     "name": "stderr",
     "output_type": "stream",
     "text": [
      "100%|██████████| 38/38 [00:00<00:00, 34034.50it/s]\n",
      "100%|██████████| 10/10 [00:00<00:00, 10031.82it/s]\n",
      "[I 2024-10-29 15:18:50,750] A new study created in RDB with name: lgbm_day_ShortTest@0@20170103@best_20241029-151850_lC5KwggtNw\n",
      "[I 2024-10-29 15:18:51,794] Trial 0 finished with value: -0.004384280648082495 and parameters: {'objective': 'mse', 'learning_rate': 0.007822765118210836, 'max_depth': 4, 'num_leaves': 80, 'min_data_in_leaf': 30, 'reg_alpha': 0.00039691440835509074, 'reg_lambda': 0.018736367790460333, 'feature_fraction': 0.5, 'bagging_fraction': 0.7}. Best is trial 0 with value: -0.004384280648082495.\n",
      "[I 2024-10-29 15:18:52,974] Trial 1 finished with value: -0.004087692592293024 and parameters: {'objective': 'mse', 'learning_rate': 0.09130134073493743, 'max_depth': 9, 'num_leaves': 30, 'min_data_in_leaf': 20, 'reg_alpha': 0.0014272454237359725, 'reg_lambda': 72.5905294091826, 'feature_fraction': 0.5, 'bagging_fraction': 0.7}. Best is trial 1 with value: -0.004087692592293024.\n",
      "[I 2024-10-29 15:18:54,453] Trial 2 finished with value: -0.0015834240475669503 and parameters: {'objective': 'mse', 'learning_rate': 0.03868169684312261, 'max_depth': 10, 'num_leaves': 60, 'min_data_in_leaf': 20, 'reg_alpha': 7.357900810133424e-05, 'reg_lambda': 3.900889181975043e-05, 'feature_fraction': 0.9, 'bagging_fraction': 0.9}. Best is trial 2 with value: -0.0015834240475669503.\n",
      "[I 2024-10-29 15:18:55,729] Trial 3 finished with value: -0.007247450761497021 and parameters: {'objective': 'mae', 'learning_rate': 0.00352987312047454, 'max_depth': 4, 'num_leaves': 50, 'min_data_in_leaf': 30, 'reg_alpha': 0.3205934951738788, 'reg_lambda': 0.045227127723133455, 'feature_fraction': 0.7, 'bagging_fraction': 0.7}. Best is trial 2 with value: -0.0015834240475669503.\n",
      "[I 2024-10-29 15:18:56,758] Trial 4 finished with value: -0.006454633083194494 and parameters: {'objective': 'mse', 'learning_rate': 0.01578623055100221, 'max_depth': 4, 'num_leaves': 80, 'min_data_in_leaf': 20, 'reg_alpha': 7.764234865535001, 'reg_lambda': 2.966401264132954e-05, 'feature_fraction': 0.7, 'bagging_fraction': 0.9}. Best is trial 2 with value: -0.0015834240475669503.\n",
      "[I 2024-10-29 15:18:57,622] Trial 5 finished with value: -0.006888980511575937 and parameters: {'objective': 'mse', 'learning_rate': 0.003546236172679405, 'max_depth': 3, 'num_leaves': 50, 'min_data_in_leaf': 10, 'reg_alpha': 35.16408184658761, 'reg_lambda': 24.597400633050682, 'feature_fraction': 0.8, 'bagging_fraction': 1.0}. Best is trial 2 with value: -0.0015834240475669503.\n",
      "[I 2024-10-29 15:18:59,372] Trial 6 finished with value: -0.0017591782379895449 and parameters: {'objective': 'mse', 'learning_rate': 0.017829399249966918, 'max_depth': 12, 'num_leaves': 50, 'min_data_in_leaf': 50, 'reg_alpha': 1.3363909638608946e-06, 'reg_lambda': 0.0012831085042680497, 'feature_fraction': 1.0, 'bagging_fraction': 0.6}. Best is trial 2 with value: -0.0015834240475669503.\n",
      "[I 2024-10-29 15:19:00,951] Trial 7 finished with value: -0.007069153245538473 and parameters: {'objective': 'mae', 'learning_rate': 0.0046064207033263554, 'max_depth': 10, 'num_leaves': 30, 'min_data_in_leaf': 30, 'reg_alpha': 7.038548501069481e-06, 'reg_lambda': 18.99543606815183, 'feature_fraction': 0.5, 'bagging_fraction': 0.9}. Best is trial 2 with value: -0.0015834240475669503.\n",
      "[I 2024-10-29 15:19:02,605] Trial 8 finished with value: -0.004679358098655939 and parameters: {'objective': 'mae', 'learning_rate': 0.011415659625828108, 'max_depth': 8, 'num_leaves': 70, 'min_data_in_leaf': 40, 'reg_alpha': 18.76008288127754, 'reg_lambda': 0.032630179793380384, 'feature_fraction': 0.6, 'bagging_fraction': 0.5}. Best is trial 2 with value: -0.0015834240475669503.\n",
      "[I 2024-10-29 15:19:04,257] Trial 9 finished with value: -0.00646378006786108 and parameters: {'objective': 'mae', 'learning_rate': 0.05155581682210116, 'max_depth': 5, 'num_leaves': 30, 'min_data_in_leaf': 50, 'reg_alpha': 0.00018067102641098855, 'reg_lambda': 1.0476668472121265e-06, 'feature_fraction': 0.8, 'bagging_fraction': 0.9}. Best is trial 2 with value: -0.0015834240475669503.\n",
      " 61%|██████    | 23/38 [00:00<00:00, 115.10it/s]"
     ]
    },
    {
     "name": "stdout",
     "output_type": "stream",
     "text": [
      "score function of [spearman] calculated and success!\n"
     ]
    },
    {
     "name": "stderr",
     "output_type": "stream",
     "text": [
      "100%|██████████| 38/38 [00:00<00:00, 110.38it/s]\n",
      "100%|██████████| 10/10 [00:00<00:00, 118.11it/s]\n",
      "\u001b[1m\u001b[37m\u001b[44m24-10-29 15:19:06|MOD:display     |\u001b[0m: \u001b[1m\u001b[34mlgbm_day_ShortTest #0 @20170103|  |Train 0.2469 Valid 0.2008 BestVal 0.2008|Cost  0.3Min, 16.5Sec/Ep\u001b[0m\n",
      "100%|██████████| 38/38 [00:00<00:00, 19051.34it/s]\n",
      "100%|██████████| 10/10 [00:00<00:00, 8280.96it/s]\n",
      "[I 2024-10-29 15:19:07,445] A new study created in RDB with name: lgbm_day_ShortTest@0@20170207@best_20241029-151907_eTH8yJNwwV\n",
      "[I 2024-10-29 15:19:09,982] Trial 0 finished with value: 0.0046153985895216465 and parameters: {'objective': 'mse', 'learning_rate': 0.04850183960428179, 'max_depth': 9, 'num_leaves': 90, 'min_data_in_leaf': 10, 'reg_alpha': 0.04207077421005488, 'reg_lambda': 3.1128259535216043e-06, 'feature_fraction': 0.9, 'bagging_fraction': 1.0}. Best is trial 0 with value: 0.0046153985895216465.\n",
      "[I 2024-10-29 15:19:11,838] Trial 1 finished with value: 0.002445679623633623 and parameters: {'objective': 'mse', 'learning_rate': 0.006323380639772301, 'max_depth': 10, 'num_leaves': 30, 'min_data_in_leaf': 10, 'reg_alpha': 0.031876395713684266, 'reg_lambda': 1.064193598978887e-05, 'feature_fraction': 0.9, 'bagging_fraction': 0.5}. Best is trial 0 with value: 0.0046153985895216465.\n",
      "[I 2024-10-29 15:19:13,189] Trial 2 finished with value: 0.013098997063934803 and parameters: {'objective': 'mse', 'learning_rate': 0.005992498316242418, 'max_depth': 3, 'num_leaves': 20, 'min_data_in_leaf': 50, 'reg_alpha': 0.03524169179759723, 'reg_lambda': 0.5136239061051018, 'feature_fraction': 1.0, 'bagging_fraction': 0.8}. Best is trial 2 with value: 0.013098997063934803.\n",
      "[I 2024-10-29 15:19:14,554] Trial 3 finished with value: 0.010052120313048363 and parameters: {'objective': 'mse', 'learning_rate': 0.001914641196014625, 'max_depth': 3, 'num_leaves': 60, 'min_data_in_leaf': 10, 'reg_alpha': 5.368592715798911e-05, 'reg_lambda': 2.22609236856038, 'feature_fraction': 0.7, 'bagging_fraction': 0.9}. Best is trial 2 with value: 0.013098997063934803.\n",
      "[I 2024-10-29 15:19:17,401] Trial 4 finished with value: 0.002361613791435957 and parameters: {'objective': 'mae', 'learning_rate': 0.0025911724203267453, 'max_depth': 10, 'num_leaves': 40, 'min_data_in_leaf': 10, 'reg_alpha': 0.792427691671202, 'reg_lambda': 0.009230632974916986, 'feature_fraction': 0.6, 'bagging_fraction': 0.5}. Best is trial 2 with value: 0.013098997063934803.\n",
      "[I 2024-10-29 15:19:19,500] Trial 5 finished with value: 0.00584648409858346 and parameters: {'objective': 'mae', 'learning_rate': 0.019709437917770453, 'max_depth': 6, 'num_leaves': 50, 'min_data_in_leaf': 10, 'reg_alpha': 2.2693429373094314, 'reg_lambda': 0.04534517880071373, 'feature_fraction': 0.8, 'bagging_fraction': 1.0}. Best is trial 2 with value: 0.013098997063934803.\n",
      "[I 2024-10-29 15:19:21,393] Trial 6 finished with value: 0.009090233594179153 and parameters: {'objective': 'mae', 'learning_rate': 0.01896678720460464, 'max_depth': 4, 'num_leaves': 80, 'min_data_in_leaf': 20, 'reg_alpha': 5.107204124544379e-05, 'reg_lambda': 0.01292664575412534, 'feature_fraction': 0.7, 'bagging_fraction': 0.7}. Best is trial 2 with value: 0.013098997063934803.\n",
      "[I 2024-10-29 15:19:22,338] Trial 7 finished with value: 0.013003838248550892 and parameters: {'objective': 'mse', 'learning_rate': 0.1842858882178613, 'max_depth': 3, 'num_leaves': 60, 'min_data_in_leaf': 10, 'reg_alpha': 3.486249606231924e-07, 'reg_lambda': 0.0006462692143728456, 'feature_fraction': 0.9, 'bagging_fraction': 1.0}. Best is trial 2 with value: 0.013098997063934803.\n",
      "[I 2024-10-29 15:19:23,823] Trial 8 finished with value: 0.01232059020549059 and parameters: {'objective': 'mse', 'learning_rate': 0.003837121790787542, 'max_depth': 4, 'num_leaves': 100, 'min_data_in_leaf': 30, 'reg_alpha': 0.004587479498051713, 'reg_lambda': 0.09560445843084578, 'feature_fraction': 0.9, 'bagging_fraction': 0.9}. Best is trial 2 with value: 0.013098997063934803.\n",
      "[I 2024-10-29 15:19:25,131] Trial 9 finished with value: 0.009082851931452751 and parameters: {'objective': 'mse', 'learning_rate': 0.08139225004124437, 'max_depth': 4, 'num_leaves': 70, 'min_data_in_leaf': 40, 'reg_alpha': 6.223835501432533e-05, 'reg_lambda': 10.657413505906927, 'feature_fraction': 0.9, 'bagging_fraction': 0.6}. Best is trial 2 with value: 0.013098997063934803.\n",
      "100%|██████████| 38/38 [00:00<00:00, 72.09it/s]\n",
      "100%|██████████| 10/10 [00:00<00:00, 82.61it/s]\n",
      "\u001b[1m\u001b[37m\u001b[44m24-10-29 15:19:27|MOD:display     |\u001b[0m: \u001b[1m\u001b[34mlgbm_day_ShortTest #0 @20170207|  |Train 0.1683 Valid 0.2125 BestVal 0.2125|Cost  0.3Min, 20.1Sec/Ep\u001b[0m\n",
      "\u001b[1m\u001b[37m\u001b[41m24-10-29 15:19:27|MOD:display     |\u001b[0m: \u001b[1m\u001b[31mFinish Process [Fit], Cost 37.7 Secs\u001b[0m\n",
      "\u001b[1m\u001b[37m\u001b[41m24-10-29 15:19:27|MOD:display     |\u001b[0m: \u001b[1m\u001b[31mStart Process [Test] at Tue Oct 29 15:19:27 2024!\u001b[0m\n",
      "100%|██████████| 20/20 [00:00<00:00, 58.49it/s]\n",
      "100%|██████████| 15/15 [00:00<00:00, 47.41it/s]\n",
      "\u001b[1m\u001b[37m\u001b[44m24-10-29 15:19:29|MOD:display     |\u001b[0m: \u001b[1m\u001b[34mTesting Mean Score(spearman):\u001b[0m\n"
     ]
    },
    {
     "data": {
      "text/html": [
       "<div>\n",
       "<style scoped>\n",
       "    .dataframe tbody tr th:only-of-type {\n",
       "        vertical-align: middle;\n",
       "    }\n",
       "\n",
       "    .dataframe tbody tr th {\n",
       "        vertical-align: top;\n",
       "    }\n",
       "\n",
       "    .dataframe thead tr th {\n",
       "        text-align: left;\n",
       "    }\n",
       "</style>\n",
       "<table border=\"1\" class=\"dataframe\">\n",
       "  <thead>\n",
       "    <tr>\n",
       "      <th></th>\n",
       "      <th>lgbm.0</th>\n",
       "    </tr>\n",
       "    <tr>\n",
       "      <th></th>\n",
       "      <th>best</th>\n",
       "    </tr>\n",
       "  </thead>\n",
       "  <tbody>\n",
       "    <tr>\n",
       "      <th>20170103</th>\n",
       "      <td>0.214</td>\n",
       "    </tr>\n",
       "    <tr>\n",
       "      <th>20170207</th>\n",
       "      <td>0.192</td>\n",
       "    </tr>\n",
       "    <tr>\n",
       "      <th>Avg</th>\n",
       "      <td>0.204</td>\n",
       "    </tr>\n",
       "    <tr>\n",
       "      <th>Sum</th>\n",
       "      <td>7.155</td>\n",
       "    </tr>\n",
       "    <tr>\n",
       "      <th>Std</th>\n",
       "      <td>0.047</td>\n",
       "    </tr>\n",
       "    <tr>\n",
       "      <th>T</th>\n",
       "      <td>25.929</td>\n",
       "    </tr>\n",
       "    <tr>\n",
       "      <th>IR</th>\n",
       "      <td>21.471</td>\n",
       "    </tr>\n",
       "  </tbody>\n",
       "</table>\n",
       "</div>"
      ],
      "text/plain": [
       "          lgbm.0\n",
       "           best \n",
       "20170103   0.214\n",
       "20170207   0.192\n",
       "Avg        0.204\n",
       "Sum        7.155\n",
       "Std        0.047\n",
       "T         25.929\n",
       "IR        21.471"
      ]
     },
     "metadata": {},
     "output_type": "display_data"
    },
    {
     "name": "stderr",
     "output_type": "stream",
     "text": [
      "\u001b[1m\u001b[37m\u001b[41m24-10-29 15:19:29|MOD:display     |\u001b[0m: \u001b[1m\u001b[31mFinish Process [Test], Cost 2.0 Secs\u001b[0m\n"
     ]
    },
    {
     "name": "stdout",
     "output_type": "stream",
     "text": [
      "Test results are saved to d:\\Coding\\learndl\\learndl\\models\\lgbm_day_ShortTest\\detailed_analysis\\test.xlsx\n"
     ]
    },
    {
     "data": {
      "text/html": [
       "<div>\n",
       "<style scoped>\n",
       "    .dataframe tbody tr th:only-of-type {\n",
       "        vertical-align: middle;\n",
       "    }\n",
       "\n",
       "    .dataframe tbody tr th {\n",
       "        vertical-align: top;\n",
       "    }\n",
       "\n",
       "    .dataframe thead th {\n",
       "        text-align: right;\n",
       "    }\n",
       "</style>\n",
       "<table border=\"1\" class=\"dataframe\">\n",
       "  <thead>\n",
       "    <tr style=\"text-align: center;\">\n",
       "      <th></th>\n",
       "      <th>group</th>\n",
       "      <th>1</th>\n",
       "      <th>2</th>\n",
       "      <th>3</th>\n",
       "      <th>4</th>\n",
       "      <th>5</th>\n",
       "      <th>6</th>\n",
       "      <th>7</th>\n",
       "      <th>8</th>\n",
       "      <th>9</th>\n",
       "      <th>10</th>\n",
       "      <th>11</th>\n",
       "      <th>12</th>\n",
       "      <th>13</th>\n",
       "      <th>14</th>\n",
       "      <th>15</th>\n",
       "      <th>16</th>\n",
       "      <th>17</th>\n",
       "      <th>18</th>\n",
       "      <th>19</th>\n",
       "      <th>20</th>\n",
       "    </tr>\n",
       "    <tr>\n",
       "      <th>num</th>\n",
       "      <th>submodel</th>\n",
       "      <th></th>\n",
       "      <th></th>\n",
       "      <th></th>\n",
       "      <th></th>\n",
       "      <th></th>\n",
       "      <th></th>\n",
       "      <th></th>\n",
       "      <th></th>\n",
       "      <th></th>\n",
       "      <th></th>\n",
       "      <th></th>\n",
       "      <th></th>\n",
       "      <th></th>\n",
       "      <th></th>\n",
       "      <th></th>\n",
       "      <th></th>\n",
       "      <th></th>\n",
       "      <th></th>\n",
       "      <th></th>\n",
       "      <th></th>\n",
       "    </tr>\n",
       "  </thead>\n",
       "  <tbody>\n",
       "    <tr>\n",
       "      <th>0</th>\n",
       "      <th>best</th>\n",
       "      <td>-2.659%</td>\n",
       "      <td>-2.453%</td>\n",
       "      <td>-1.695%</td>\n",
       "      <td>-0.178%</td>\n",
       "      <td>-1.204%</td>\n",
       "      <td>-1.461%</td>\n",
       "      <td>-0.792%</td>\n",
       "      <td>1.003%</td>\n",
       "      <td>-0.850%</td>\n",
       "      <td>0.731%</td>\n",
       "      <td>-0.845%</td>\n",
       "      <td>0.901%</td>\n",
       "      <td>-0.762%</td>\n",
       "      <td>-0.687%</td>\n",
       "      <td>-0.824%</td>\n",
       "      <td>-0.712%</td>\n",
       "      <td>-0.267%</td>\n",
       "      <td>-0.317%</td>\n",
       "      <td>-0.156%</td>\n",
       "      <td>5.189%</td>\n",
       "    </tr>\n",
       "  </tbody>\n",
       "</table>\n",
       "</div>"
      ],
      "text/plain": [
       "group           1        2        3        4        5        6        7        8       9        10      11       12      13       14       15       16       17       18       19       20  \n",
       "num submodel                                                                                                                                                                                \n",
       "0   best      -2.659%  -2.453%  -1.695%  -0.178%  -1.204%  -1.461%  -0.792%  1.003%  -0.850%  0.731%  -0.845%  0.901%  -0.762%  -0.687%  -0.824%  -0.712%  -0.267%  -0.317%  -0.156%  5.189%"
      ]
     },
     "metadata": {},
     "output_type": "display_data"
    },
    {
     "name": "stdout",
     "output_type": "stream",
     "text": [
      "Grouped Return Results are saved to d:\\Coding\\learndl\\learndl\\models\\lgbm_day_ShortTest\\detailed_analysis\\group.xlsx\n"
     ]
    },
    {
     "data": {
      "text/html": [
       "<div>\n",
       "<style scoped>\n",
       "    .dataframe tbody tr th:only-of-type {\n",
       "        vertical-align: middle;\n",
       "    }\n",
       "\n",
       "    .dataframe tbody tr th {\n",
       "        vertical-align: top;\n",
       "    }\n",
       "\n",
       "    .dataframe thead th {\n",
       "        text-align: right;\n",
       "    }\n",
       "</style>\n",
       "<table border=\"1\" class=\"dataframe\">\n",
       "  <thead>\n",
       "    <tr style=\"text-align: center;\">\n",
       "      <th></th>\n",
       "      <th>factor_name</th>\n",
       "      <th>benchmark</th>\n",
       "      <th>start</th>\n",
       "      <th>end</th>\n",
       "      <th>pf</th>\n",
       "      <th>bm</th>\n",
       "      <th>excess</th>\n",
       "      <th>annualized</th>\n",
       "      <th>mdd</th>\n",
       "      <th>te</th>\n",
       "      <th>ir</th>\n",
       "      <th>calmar</th>\n",
       "      <th>turnover</th>\n",
       "      <th>mdd_period</th>\n",
       "    </tr>\n",
       "  </thead>\n",
       "  <tbody>\n",
       "    <tr>\n",
       "      <th>1</th>\n",
       "      <td>best</td>\n",
       "      <td>csi300</td>\n",
       "      <td>20170104</td>\n",
       "      <td>20170302</td>\n",
       "      <td>2.26%</td>\n",
       "      <td>1.97%</td>\n",
       "      <td>0.29%</td>\n",
       "      <td>1.81%</td>\n",
       "      <td>0.31%</td>\n",
       "      <td>2.06%</td>\n",
       "      <td>0.875</td>\n",
       "      <td>5.812</td>\n",
       "      <td>3.400</td>\n",
       "      <td>20170118-20170222</td>\n",
       "    </tr>\n",
       "    <tr>\n",
       "      <th>2</th>\n",
       "      <td>best</td>\n",
       "      <td>csi500</td>\n",
       "      <td>20170104</td>\n",
       "      <td>20170302</td>\n",
       "      <td>1.61%</td>\n",
       "      <td>0.66%</td>\n",
       "      <td>0.95%</td>\n",
       "      <td>5.66%</td>\n",
       "      <td>0.61%</td>\n",
       "      <td>4.12%</td>\n",
       "      <td>1.372</td>\n",
       "      <td>9.342</td>\n",
       "      <td>3.400</td>\n",
       "      <td>20170118-20170222</td>\n",
       "    </tr>\n",
       "    <tr>\n",
       "      <th>0</th>\n",
       "      <td>best</td>\n",
       "      <td>csi1000</td>\n",
       "      <td>20170104</td>\n",
       "      <td>20170302</td>\n",
       "      <td>-0.06%</td>\n",
       "      <td>-2.29%</td>\n",
       "      <td>2.24%</td>\n",
       "      <td>14.91%</td>\n",
       "      <td>0.23%</td>\n",
       "      <td>3.37%</td>\n",
       "      <td>4.429</td>\n",
       "      <td>64.248</td>\n",
       "      <td>3.400</td>\n",
       "      <td>20170215-20170222</td>\n",
       "    </tr>\n",
       "  </tbody>\n",
       "</table>\n",
       "</div>"
      ],
      "text/plain": [
       "  factor_name benchmark    start      end      pf      bm   excess annualized  mdd     te     ir    calmar turnover     mdd_period    \n",
       "1     best       csi300  20170104  20170302   2.26%   1.97%  0.29%    1.81%    0.31%  2.06%  0.875   5.812   3.400   20170118-20170222\n",
       "2     best       csi500  20170104  20170302   1.61%   0.66%  0.95%    5.66%    0.61%  4.12%  1.372   9.342   3.400   20170118-20170222\n",
       "0     best      csi1000  20170104  20170302  -0.06%  -2.29%  2.24%   14.91%    0.23%  3.37%  4.429  64.248   3.400   20170215-20170222"
      ]
     },
     "metadata": {},
     "output_type": "display_data"
    },
    {
     "name": "stderr",
     "output_type": "stream",
     "text": [
      "\u001b[1m\u001b[37m\u001b[41m24-10-29 15:20:03|MOD:timer       |\u001b[0m: \u001b[1m\u001b[31mMain Process Finished! Cost 1 Minutes 15.0 Seconds\u001b[0m\n"
     ]
    },
    {
     "name": "stdout",
     "output_type": "stream",
     "text": [
      "Analytic datas are saved to d:\\Coding\\learndl\\learndl\\models\\lgbm_day_ShortTest\\detailed_analysis\\data.xlsx\n",
      "Analytic plots are saved to d:\\Coding\\learndl\\learndl\\models\\lgbm_day_ShortTest\\detailed_analysis\\plot.pdf\n"
     ]
    },
    {
     "data": {
      "text/plain": [
       "<src.model.model_module.api.trainer.ModelTrainer at 0x2234be08250>"
      ]
     },
     "execution_count": 1,
     "metadata": {},
     "output_type": "execute_result"
    }
   ],
   "source": [
    "from src.api import ModelTrainer  \n",
    "app = ModelTrainer.initialize(stage = 0 , resume = 0 , checkname= 1 , override={'env.short_test':True})\n",
    "app.go()"
   ]
  },
  {
   "cell_type": "code",
   "execution_count": 4,
   "metadata": {},
   "outputs": [
    {
     "data": {
      "text/plain": [
       "True"
      ]
     },
     "execution_count": 4,
     "metadata": {},
     "output_type": "execute_result"
    }
   ],
   "source": [
    "app.config.model_booster_optuna\n"
   ]
  },
  {
   "cell_type": "code",
   "execution_count": 3,
   "metadata": {},
   "outputs": [
    {
     "data": {
      "text/plain": [
       "<src.algo.boost.booster.general.GeneralBooster at 0x14483babf90>"
      ]
     },
     "execution_count": 3,
     "metadata": {},
     "output_type": "execute_result"
    }
   ],
   "source": [
    "app.model.booster"
   ]
  },
  {
   "cell_type": "code",
   "execution_count": 2,
   "metadata": {},
   "outputs": [
    {
     "data": {
      "text/plain": [
       "tensor([[-0.1205, -0.1341,  0.1064,  ..., -0.0568, -0.1158,  0.1249],\n",
       "        [    nan,     nan,     nan,  ...,     nan,     nan,     nan],\n",
       "        [    nan,     nan,     nan,  ...,     nan,     nan,     nan],\n",
       "        ...,\n",
       "        [-0.1390, -0.1952,  0.2181,  ..., -0.3572, -0.2161,  0.2582],\n",
       "        [-0.1345, -0.1976,  0.2013,  ..., -0.2841, -0.1993,  0.2030],\n",
       "        [-0.1444, -0.0942,  0.0788,  ..., -0.0839, -0.1143,  0.1303]])"
      ]
     },
     "execution_count": 2,
     "metadata": {},
     "output_type": "execute_result"
    }
   ],
   "source": [
    "from src.model.model_module.util.data_transform import batch_data_flatten_x\n",
    "x = batch_data_flatten_x(app.model.batch_data)\n",
    "x"
   ]
  },
  {
   "cell_type": "code",
   "execution_count": 4,
   "metadata": {},
   "outputs": [
    {
     "data": {
      "text/plain": [
       "True"
      ]
     },
     "execution_count": 4,
     "metadata": {},
     "output_type": "execute_result"
    }
   ],
   "source": [
    "from src.algo.boost.booster.lgbm import BoosterInput\n",
    "booster_input = BoosterInput.from_tensor(x)\n",
    "booster_input.y is None\n"
   ]
  },
  {
   "cell_type": "code",
   "execution_count": 12,
   "metadata": {},
   "outputs": [
    {
     "data": {
      "text/plain": [
       "torch.Size([1, 2816, 96])"
      ]
     },
     "execution_count": 12,
     "metadata": {},
     "output_type": "execute_result"
    }
   ],
   "source": [
    "booster_input.obj_flatten(booster_input.x).shape"
   ]
  },
  {
   "cell_type": "code",
   "execution_count": 10,
   "metadata": {},
   "outputs": [
    {
     "data": {
      "text/plain": [
       "torch.Size([2816, 1, 96])"
      ]
     },
     "execution_count": 10,
     "metadata": {},
     "output_type": "execute_result"
    }
   ],
   "source": [
    "booster_input.x.shape"
   ]
  },
  {
   "cell_type": "code",
   "execution_count": 14,
   "metadata": {},
   "outputs": [
    {
     "ename": "ValueError",
     "evalue": "Input numpy.ndarray or list must be 2 dimensional",
     "output_type": "error",
     "traceback": [
      "\u001b[1;31m---------------------------------------------------------------------------\u001b[0m",
      "\u001b[1;31mValueError\u001b[0m                                Traceback (most recent call last)",
      "Cell \u001b[1;32mIn[14], line 3\u001b[0m\n\u001b[0;32m      1\u001b[0m \u001b[38;5;28;01mfrom\u001b[39;00m \u001b[38;5;21;01msrc\u001b[39;00m\u001b[38;5;21;01m.\u001b[39;00m\u001b[38;5;21;01malgo\u001b[39;00m\u001b[38;5;21;01m.\u001b[39;00m\u001b[38;5;21;01mboost\u001b[39;00m\u001b[38;5;21;01m.\u001b[39;00m\u001b[38;5;21;01mbooster\u001b[39;00m\u001b[38;5;21;01m.\u001b[39;00m\u001b[38;5;21;01mlgbm\u001b[39;00m \u001b[38;5;28;01mimport\u001b[39;00m BoosterInput\n\u001b[0;32m      2\u001b[0m booster_input \u001b[38;5;241m=\u001b[39m BoosterInput\u001b[38;5;241m.\u001b[39mfrom_tensor(x)\n\u001b[1;32m----> 3\u001b[0m \u001b[43mapp\u001b[49m\u001b[38;5;241;43m.\u001b[39;49m\u001b[43mmodel\u001b[49m\u001b[38;5;241;43m.\u001b[39;49m\u001b[43mbooster\u001b[49m\u001b[38;5;241;43m.\u001b[39;49m\u001b[43mpredict\u001b[49m\u001b[43m(\u001b[49m\u001b[43mbooster_input\u001b[49m\u001b[43m)\u001b[49m\u001b[38;5;241m.\u001b[39mpred\u001b[38;5;241m.\u001b[39mto(x)\n",
      "File \u001b[1;32md:\\Coding\\learndl\\learndl\\src\\algo\\boost\\booster\\general.py:69\u001b[0m, in \u001b[0;36mGeneralBooster.predict\u001b[1;34m(self, x)\u001b[0m\n\u001b[0;32m     68\u001b[0m \u001b[38;5;28;01mdef\u001b[39;00m \u001b[38;5;21mpredict\u001b[39m(\u001b[38;5;28mself\u001b[39m , x : BoosterInput \u001b[38;5;241m|\u001b[39m \u001b[38;5;28mstr\u001b[39m \u001b[38;5;241m|\u001b[39m Any \u001b[38;5;241m=\u001b[39m \u001b[38;5;124m'\u001b[39m\u001b[38;5;124mtest\u001b[39m\u001b[38;5;124m'\u001b[39m):\n\u001b[1;32m---> 69\u001b[0m     \u001b[38;5;28;01mreturn\u001b[39;00m \u001b[38;5;28;43mself\u001b[39;49m\u001b[38;5;241;43m.\u001b[39;49m\u001b[43mbooster\u001b[49m\u001b[38;5;241;43m.\u001b[39;49m\u001b[43mpredict\u001b[49m\u001b[43m(\u001b[49m\u001b[43mx\u001b[49m\u001b[43m)\u001b[49m\n",
      "File \u001b[1;32md:\\Coding\\learndl\\learndl\\src\\algo\\boost\\booster\\lgbm.py:74\u001b[0m, in \u001b[0;36mLgbm.predict\u001b[1;34m(self, x)\u001b[0m\n\u001b[0;32m     72\u001b[0m data \u001b[38;5;241m=\u001b[39m \u001b[38;5;28mself\u001b[39m\u001b[38;5;241m.\u001b[39mbooster_input(x)\n\u001b[0;32m     73\u001b[0m X \u001b[38;5;241m=\u001b[39m data\u001b[38;5;241m.\u001b[39mX()\u001b[38;5;241m.\u001b[39mcpu()\u001b[38;5;241m.\u001b[39mnumpy()\n\u001b[1;32m---> 74\u001b[0m \u001b[38;5;28;01mreturn\u001b[39;00m data\u001b[38;5;241m.\u001b[39moutput(\u001b[38;5;28;43mself\u001b[39;49m\u001b[38;5;241;43m.\u001b[39;49m\u001b[43mmodel\u001b[49m\u001b[38;5;241;43m.\u001b[39;49m\u001b[43mpredict\u001b[49m\u001b[43m(\u001b[49m\u001b[43mX\u001b[49m\u001b[43m)\u001b[49m)\n",
      "File \u001b[1;32mc:\\Users\\jinmeng\\AppData\\Local\\Programs\\Python\\Python311\\Lib\\site-packages\\lightgbm\\basic.py:4453\u001b[0m, in \u001b[0;36mBooster.predict\u001b[1;34m(self, data, start_iteration, num_iteration, raw_score, pred_leaf, pred_contrib, data_has_header, validate_features, **kwargs)\u001b[0m\n\u001b[0;32m   4451\u001b[0m     \u001b[38;5;28;01melse\u001b[39;00m:\n\u001b[0;32m   4452\u001b[0m         num_iteration \u001b[38;5;241m=\u001b[39m \u001b[38;5;241m-\u001b[39m\u001b[38;5;241m1\u001b[39m\n\u001b[1;32m-> 4453\u001b[0m \u001b[38;5;28;01mreturn\u001b[39;00m \u001b[43mpredictor\u001b[49m\u001b[38;5;241;43m.\u001b[39;49m\u001b[43mpredict\u001b[49m\u001b[43m(\u001b[49m\n\u001b[0;32m   4454\u001b[0m \u001b[43m    \u001b[49m\u001b[43mdata\u001b[49m\u001b[38;5;241;43m=\u001b[39;49m\u001b[43mdata\u001b[49m\u001b[43m,\u001b[49m\n\u001b[0;32m   4455\u001b[0m \u001b[43m    \u001b[49m\u001b[43mstart_iteration\u001b[49m\u001b[38;5;241;43m=\u001b[39;49m\u001b[43mstart_iteration\u001b[49m\u001b[43m,\u001b[49m\n\u001b[0;32m   4456\u001b[0m \u001b[43m    \u001b[49m\u001b[43mnum_iteration\u001b[49m\u001b[38;5;241;43m=\u001b[39;49m\u001b[43mnum_iteration\u001b[49m\u001b[43m,\u001b[49m\n\u001b[0;32m   4457\u001b[0m \u001b[43m    \u001b[49m\u001b[43mraw_score\u001b[49m\u001b[38;5;241;43m=\u001b[39;49m\u001b[43mraw_score\u001b[49m\u001b[43m,\u001b[49m\n\u001b[0;32m   4458\u001b[0m \u001b[43m    \u001b[49m\u001b[43mpred_leaf\u001b[49m\u001b[38;5;241;43m=\u001b[39;49m\u001b[43mpred_leaf\u001b[49m\u001b[43m,\u001b[49m\n\u001b[0;32m   4459\u001b[0m \u001b[43m    \u001b[49m\u001b[43mpred_contrib\u001b[49m\u001b[38;5;241;43m=\u001b[39;49m\u001b[43mpred_contrib\u001b[49m\u001b[43m,\u001b[49m\n\u001b[0;32m   4460\u001b[0m \u001b[43m    \u001b[49m\u001b[43mdata_has_header\u001b[49m\u001b[38;5;241;43m=\u001b[39;49m\u001b[43mdata_has_header\u001b[49m\u001b[43m,\u001b[49m\n\u001b[0;32m   4461\u001b[0m \u001b[43m    \u001b[49m\u001b[43mvalidate_features\u001b[49m\u001b[38;5;241;43m=\u001b[39;49m\u001b[43mvalidate_features\u001b[49m\n\u001b[0;32m   4462\u001b[0m \u001b[43m\u001b[49m\u001b[43m)\u001b[49m\n",
      "File \u001b[1;32mc:\\Users\\jinmeng\\AppData\\Local\\Programs\\Python\\Python311\\Lib\\site-packages\\lightgbm\\basic.py:1159\u001b[0m, in \u001b[0;36m_InnerPredictor.predict\u001b[1;34m(self, data, start_iteration, num_iteration, raw_score, pred_leaf, pred_contrib, data_has_header, validate_features)\u001b[0m\n\u001b[0;32m   1152\u001b[0m     preds, nrow \u001b[38;5;241m=\u001b[39m \u001b[38;5;28mself\u001b[39m\u001b[38;5;241m.\u001b[39m__pred_for_csc(\n\u001b[0;32m   1153\u001b[0m         csc\u001b[38;5;241m=\u001b[39mdata,\n\u001b[0;32m   1154\u001b[0m         start_iteration\u001b[38;5;241m=\u001b[39mstart_iteration,\n\u001b[0;32m   1155\u001b[0m         num_iteration\u001b[38;5;241m=\u001b[39mnum_iteration,\n\u001b[0;32m   1156\u001b[0m         predict_type\u001b[38;5;241m=\u001b[39mpredict_type\n\u001b[0;32m   1157\u001b[0m     )\n\u001b[0;32m   1158\u001b[0m \u001b[38;5;28;01melif\u001b[39;00m \u001b[38;5;28misinstance\u001b[39m(data, np\u001b[38;5;241m.\u001b[39mndarray):\n\u001b[1;32m-> 1159\u001b[0m     preds, nrow \u001b[38;5;241m=\u001b[39m \u001b[38;5;28;43mself\u001b[39;49m\u001b[38;5;241;43m.\u001b[39;49m\u001b[43m__pred_for_np2d\u001b[49m\u001b[43m(\u001b[49m\n\u001b[0;32m   1160\u001b[0m \u001b[43m        \u001b[49m\u001b[43mmat\u001b[49m\u001b[38;5;241;43m=\u001b[39;49m\u001b[43mdata\u001b[49m\u001b[43m,\u001b[49m\n\u001b[0;32m   1161\u001b[0m \u001b[43m        \u001b[49m\u001b[43mstart_iteration\u001b[49m\u001b[38;5;241;43m=\u001b[39;49m\u001b[43mstart_iteration\u001b[49m\u001b[43m,\u001b[49m\n\u001b[0;32m   1162\u001b[0m \u001b[43m        \u001b[49m\u001b[43mnum_iteration\u001b[49m\u001b[38;5;241;43m=\u001b[39;49m\u001b[43mnum_iteration\u001b[49m\u001b[43m,\u001b[49m\n\u001b[0;32m   1163\u001b[0m \u001b[43m        \u001b[49m\u001b[43mpredict_type\u001b[49m\u001b[38;5;241;43m=\u001b[39;49m\u001b[43mpredict_type\u001b[49m\n\u001b[0;32m   1164\u001b[0m \u001b[43m    \u001b[49m\u001b[43m)\u001b[49m\n\u001b[0;32m   1165\u001b[0m \u001b[38;5;28;01melif\u001b[39;00m _is_pyarrow_table(data):\n\u001b[0;32m   1166\u001b[0m     preds, nrow \u001b[38;5;241m=\u001b[39m \u001b[38;5;28mself\u001b[39m\u001b[38;5;241m.\u001b[39m__pred_for_pyarrow_table(\n\u001b[0;32m   1167\u001b[0m         table\u001b[38;5;241m=\u001b[39mdata,\n\u001b[0;32m   1168\u001b[0m         start_iteration\u001b[38;5;241m=\u001b[39mstart_iteration,\n\u001b[0;32m   1169\u001b[0m         num_iteration\u001b[38;5;241m=\u001b[39mnum_iteration,\n\u001b[0;32m   1170\u001b[0m         predict_type\u001b[38;5;241m=\u001b[39mpredict_type\n\u001b[0;32m   1171\u001b[0m     )\n",
      "File \u001b[1;32mc:\\Users\\jinmeng\\AppData\\Local\\Programs\\Python\\Python311\\Lib\\site-packages\\lightgbm\\basic.py:1285\u001b[0m, in \u001b[0;36m_InnerPredictor.__pred_for_np2d\u001b[1;34m(self, mat, start_iteration, num_iteration, predict_type)\u001b[0m\n\u001b[0;32m   1283\u001b[0m \u001b[38;5;250m\u001b[39m\u001b[38;5;124;03m\"\"\"Predict for a 2-D numpy matrix.\"\"\"\u001b[39;00m\n\u001b[0;32m   1284\u001b[0m \u001b[38;5;28;01mif\u001b[39;00m \u001b[38;5;28mlen\u001b[39m(mat\u001b[38;5;241m.\u001b[39mshape) \u001b[38;5;241m!=\u001b[39m \u001b[38;5;241m2\u001b[39m:\n\u001b[1;32m-> 1285\u001b[0m     \u001b[38;5;28;01mraise\u001b[39;00m \u001b[38;5;167;01mValueError\u001b[39;00m(\u001b[38;5;124m'\u001b[39m\u001b[38;5;124mInput numpy.ndarray or list must be 2 dimensional\u001b[39m\u001b[38;5;124m'\u001b[39m)\n\u001b[0;32m   1287\u001b[0m nrow \u001b[38;5;241m=\u001b[39m mat\u001b[38;5;241m.\u001b[39mshape[\u001b[38;5;241m0\u001b[39m]\n\u001b[0;32m   1288\u001b[0m \u001b[38;5;28;01mif\u001b[39;00m nrow \u001b[38;5;241m>\u001b[39m _MAX_INT32:\n",
      "\u001b[1;31mValueError\u001b[0m: Input numpy.ndarray or list must be 2 dimensional"
     ]
    }
   ],
   "source": [
    "\n",
    "app.model.booster.predict(booster_input).pred.to(x)"
   ]
  },
  {
   "cell_type": "code",
   "execution_count": 13,
   "metadata": {},
   "outputs": [
    {
     "ename": "ValueError",
     "evalue": "Input numpy.ndarray or list must be 2 dimensional",
     "output_type": "error",
     "traceback": [
      "\u001b[1;31m---------------------------------------------------------------------------\u001b[0m",
      "\u001b[1;31mValueError\u001b[0m                                Traceback (most recent call last)",
      "Cell \u001b[1;32mIn[13], line 1\u001b[0m\n\u001b[1;32m----> 1\u001b[0m \u001b[43mapp\u001b[49m\u001b[38;5;241;43m.\u001b[39;49m\u001b[43mmodel\u001b[49m\u001b[38;5;241;43m.\u001b[39;49m\u001b[43mbooster\u001b[49m\u001b[43m(\u001b[49m\u001b[43mx\u001b[49m\u001b[43m)\u001b[49m\n",
      "File \u001b[1;32md:\\Coding\\learndl\\learndl\\src\\algo\\boost\\booster\\general.py:41\u001b[0m, in \u001b[0;36mGeneralBooster.__call__\u001b[1;34m(self, x)\u001b[0m\n\u001b[0;32m     40\u001b[0m \u001b[38;5;28;01mdef\u001b[39;00m \u001b[38;5;21m__call__\u001b[39m(\u001b[38;5;28mself\u001b[39m, x : torch\u001b[38;5;241m.\u001b[39mTensor) \u001b[38;5;241m-\u001b[39m\u001b[38;5;241m>\u001b[39m torch\u001b[38;5;241m.\u001b[39mTensor: \n\u001b[1;32m---> 41\u001b[0m     \u001b[38;5;28;01mreturn\u001b[39;00m \u001b[38;5;28;43mself\u001b[39;49m\u001b[38;5;241;43m.\u001b[39;49m\u001b[43mforward\u001b[49m\u001b[43m(\u001b[49m\u001b[43mx\u001b[49m\u001b[43m)\u001b[49m\n",
      "File \u001b[1;32md:\\Coding\\learndl\\learndl\\src\\algo\\boost\\booster\\general.py:73\u001b[0m, in \u001b[0;36mGeneralBooster.forward\u001b[1;34m(self, x)\u001b[0m\n\u001b[0;32m     71\u001b[0m \u001b[38;5;28;01mdef\u001b[39;00m \u001b[38;5;21mforward\u001b[39m(\u001b[38;5;28mself\u001b[39m , x : torch\u001b[38;5;241m.\u001b[39mTensor) \u001b[38;5;241m-\u001b[39m\u001b[38;5;241m>\u001b[39m torch\u001b[38;5;241m.\u001b[39mTensor:\n\u001b[0;32m     72\u001b[0m     booster_input \u001b[38;5;241m=\u001b[39m BoosterInput\u001b[38;5;241m.\u001b[39mfrom_tensor(x)\n\u001b[1;32m---> 73\u001b[0m     \u001b[38;5;28;01mreturn\u001b[39;00m \u001b[38;5;28;43mself\u001b[39;49m\u001b[38;5;241;43m.\u001b[39;49m\u001b[43mbooster\u001b[49m\u001b[38;5;241;43m.\u001b[39;49m\u001b[43mpredict\u001b[49m\u001b[43m(\u001b[49m\u001b[43mbooster_input\u001b[49m\u001b[43m)\u001b[49m\u001b[38;5;241m.\u001b[39mpred\u001b[38;5;241m.\u001b[39mto(x)\n",
      "File \u001b[1;32md:\\Coding\\learndl\\learndl\\src\\algo\\boost\\booster\\lgbm.py:74\u001b[0m, in \u001b[0;36mLgbm.predict\u001b[1;34m(self, x)\u001b[0m\n\u001b[0;32m     72\u001b[0m data \u001b[38;5;241m=\u001b[39m \u001b[38;5;28mself\u001b[39m\u001b[38;5;241m.\u001b[39mbooster_input(x)\n\u001b[0;32m     73\u001b[0m X \u001b[38;5;241m=\u001b[39m data\u001b[38;5;241m.\u001b[39mX()\u001b[38;5;241m.\u001b[39mcpu()\u001b[38;5;241m.\u001b[39mnumpy()\n\u001b[1;32m---> 74\u001b[0m \u001b[38;5;28;01mreturn\u001b[39;00m data\u001b[38;5;241m.\u001b[39moutput(\u001b[38;5;28;43mself\u001b[39;49m\u001b[38;5;241;43m.\u001b[39;49m\u001b[43mmodel\u001b[49m\u001b[38;5;241;43m.\u001b[39;49m\u001b[43mpredict\u001b[49m\u001b[43m(\u001b[49m\u001b[43mX\u001b[49m\u001b[43m)\u001b[49m)\n",
      "File \u001b[1;32mc:\\Users\\jinmeng\\AppData\\Local\\Programs\\Python\\Python311\\Lib\\site-packages\\lightgbm\\basic.py:4453\u001b[0m, in \u001b[0;36mBooster.predict\u001b[1;34m(self, data, start_iteration, num_iteration, raw_score, pred_leaf, pred_contrib, data_has_header, validate_features, **kwargs)\u001b[0m\n\u001b[0;32m   4451\u001b[0m     \u001b[38;5;28;01melse\u001b[39;00m:\n\u001b[0;32m   4452\u001b[0m         num_iteration \u001b[38;5;241m=\u001b[39m \u001b[38;5;241m-\u001b[39m\u001b[38;5;241m1\u001b[39m\n\u001b[1;32m-> 4453\u001b[0m \u001b[38;5;28;01mreturn\u001b[39;00m \u001b[43mpredictor\u001b[49m\u001b[38;5;241;43m.\u001b[39;49m\u001b[43mpredict\u001b[49m\u001b[43m(\u001b[49m\n\u001b[0;32m   4454\u001b[0m \u001b[43m    \u001b[49m\u001b[43mdata\u001b[49m\u001b[38;5;241;43m=\u001b[39;49m\u001b[43mdata\u001b[49m\u001b[43m,\u001b[49m\n\u001b[0;32m   4455\u001b[0m \u001b[43m    \u001b[49m\u001b[43mstart_iteration\u001b[49m\u001b[38;5;241;43m=\u001b[39;49m\u001b[43mstart_iteration\u001b[49m\u001b[43m,\u001b[49m\n\u001b[0;32m   4456\u001b[0m \u001b[43m    \u001b[49m\u001b[43mnum_iteration\u001b[49m\u001b[38;5;241;43m=\u001b[39;49m\u001b[43mnum_iteration\u001b[49m\u001b[43m,\u001b[49m\n\u001b[0;32m   4457\u001b[0m \u001b[43m    \u001b[49m\u001b[43mraw_score\u001b[49m\u001b[38;5;241;43m=\u001b[39;49m\u001b[43mraw_score\u001b[49m\u001b[43m,\u001b[49m\n\u001b[0;32m   4458\u001b[0m \u001b[43m    \u001b[49m\u001b[43mpred_leaf\u001b[49m\u001b[38;5;241;43m=\u001b[39;49m\u001b[43mpred_leaf\u001b[49m\u001b[43m,\u001b[49m\n\u001b[0;32m   4459\u001b[0m \u001b[43m    \u001b[49m\u001b[43mpred_contrib\u001b[49m\u001b[38;5;241;43m=\u001b[39;49m\u001b[43mpred_contrib\u001b[49m\u001b[43m,\u001b[49m\n\u001b[0;32m   4460\u001b[0m \u001b[43m    \u001b[49m\u001b[43mdata_has_header\u001b[49m\u001b[38;5;241;43m=\u001b[39;49m\u001b[43mdata_has_header\u001b[49m\u001b[43m,\u001b[49m\n\u001b[0;32m   4461\u001b[0m \u001b[43m    \u001b[49m\u001b[43mvalidate_features\u001b[49m\u001b[38;5;241;43m=\u001b[39;49m\u001b[43mvalidate_features\u001b[49m\n\u001b[0;32m   4462\u001b[0m \u001b[43m\u001b[49m\u001b[43m)\u001b[49m\n",
      "File \u001b[1;32mc:\\Users\\jinmeng\\AppData\\Local\\Programs\\Python\\Python311\\Lib\\site-packages\\lightgbm\\basic.py:1159\u001b[0m, in \u001b[0;36m_InnerPredictor.predict\u001b[1;34m(self, data, start_iteration, num_iteration, raw_score, pred_leaf, pred_contrib, data_has_header, validate_features)\u001b[0m\n\u001b[0;32m   1152\u001b[0m     preds, nrow \u001b[38;5;241m=\u001b[39m \u001b[38;5;28mself\u001b[39m\u001b[38;5;241m.\u001b[39m__pred_for_csc(\n\u001b[0;32m   1153\u001b[0m         csc\u001b[38;5;241m=\u001b[39mdata,\n\u001b[0;32m   1154\u001b[0m         start_iteration\u001b[38;5;241m=\u001b[39mstart_iteration,\n\u001b[0;32m   1155\u001b[0m         num_iteration\u001b[38;5;241m=\u001b[39mnum_iteration,\n\u001b[0;32m   1156\u001b[0m         predict_type\u001b[38;5;241m=\u001b[39mpredict_type\n\u001b[0;32m   1157\u001b[0m     )\n\u001b[0;32m   1158\u001b[0m \u001b[38;5;28;01melif\u001b[39;00m \u001b[38;5;28misinstance\u001b[39m(data, np\u001b[38;5;241m.\u001b[39mndarray):\n\u001b[1;32m-> 1159\u001b[0m     preds, nrow \u001b[38;5;241m=\u001b[39m \u001b[38;5;28;43mself\u001b[39;49m\u001b[38;5;241;43m.\u001b[39;49m\u001b[43m__pred_for_np2d\u001b[49m\u001b[43m(\u001b[49m\n\u001b[0;32m   1160\u001b[0m \u001b[43m        \u001b[49m\u001b[43mmat\u001b[49m\u001b[38;5;241;43m=\u001b[39;49m\u001b[43mdata\u001b[49m\u001b[43m,\u001b[49m\n\u001b[0;32m   1161\u001b[0m \u001b[43m        \u001b[49m\u001b[43mstart_iteration\u001b[49m\u001b[38;5;241;43m=\u001b[39;49m\u001b[43mstart_iteration\u001b[49m\u001b[43m,\u001b[49m\n\u001b[0;32m   1162\u001b[0m \u001b[43m        \u001b[49m\u001b[43mnum_iteration\u001b[49m\u001b[38;5;241;43m=\u001b[39;49m\u001b[43mnum_iteration\u001b[49m\u001b[43m,\u001b[49m\n\u001b[0;32m   1163\u001b[0m \u001b[43m        \u001b[49m\u001b[43mpredict_type\u001b[49m\u001b[38;5;241;43m=\u001b[39;49m\u001b[43mpredict_type\u001b[49m\n\u001b[0;32m   1164\u001b[0m \u001b[43m    \u001b[49m\u001b[43m)\u001b[49m\n\u001b[0;32m   1165\u001b[0m \u001b[38;5;28;01melif\u001b[39;00m _is_pyarrow_table(data):\n\u001b[0;32m   1166\u001b[0m     preds, nrow \u001b[38;5;241m=\u001b[39m \u001b[38;5;28mself\u001b[39m\u001b[38;5;241m.\u001b[39m__pred_for_pyarrow_table(\n\u001b[0;32m   1167\u001b[0m         table\u001b[38;5;241m=\u001b[39mdata,\n\u001b[0;32m   1168\u001b[0m         start_iteration\u001b[38;5;241m=\u001b[39mstart_iteration,\n\u001b[0;32m   1169\u001b[0m         num_iteration\u001b[38;5;241m=\u001b[39mnum_iteration,\n\u001b[0;32m   1170\u001b[0m         predict_type\u001b[38;5;241m=\u001b[39mpredict_type\n\u001b[0;32m   1171\u001b[0m     )\n",
      "File \u001b[1;32mc:\\Users\\jinmeng\\AppData\\Local\\Programs\\Python\\Python311\\Lib\\site-packages\\lightgbm\\basic.py:1285\u001b[0m, in \u001b[0;36m_InnerPredictor.__pred_for_np2d\u001b[1;34m(self, mat, start_iteration, num_iteration, predict_type)\u001b[0m\n\u001b[0;32m   1283\u001b[0m \u001b[38;5;250m\u001b[39m\u001b[38;5;124;03m\"\"\"Predict for a 2-D numpy matrix.\"\"\"\u001b[39;00m\n\u001b[0;32m   1284\u001b[0m \u001b[38;5;28;01mif\u001b[39;00m \u001b[38;5;28mlen\u001b[39m(mat\u001b[38;5;241m.\u001b[39mshape) \u001b[38;5;241m!=\u001b[39m \u001b[38;5;241m2\u001b[39m:\n\u001b[1;32m-> 1285\u001b[0m     \u001b[38;5;28;01mraise\u001b[39;00m \u001b[38;5;167;01mValueError\u001b[39;00m(\u001b[38;5;124m'\u001b[39m\u001b[38;5;124mInput numpy.ndarray or list must be 2 dimensional\u001b[39m\u001b[38;5;124m'\u001b[39m)\n\u001b[0;32m   1287\u001b[0m nrow \u001b[38;5;241m=\u001b[39m mat\u001b[38;5;241m.\u001b[39mshape[\u001b[38;5;241m0\u001b[39m]\n\u001b[0;32m   1288\u001b[0m \u001b[38;5;28;01mif\u001b[39;00m nrow \u001b[38;5;241m>\u001b[39m _MAX_INT32:\n",
      "\u001b[1;31mValueError\u001b[0m: Input numpy.ndarray or list must be 2 dimensional"
     ]
    }
   ],
   "source": [
    "app.model.booster(x)"
   ]
  },
  {
   "cell_type": "code",
   "execution_count": 11,
   "metadata": {},
   "outputs": [
    {
     "data": {
      "text/plain": [
       "torch.Size([2808, 96])"
      ]
     },
     "execution_count": 11,
     "metadata": {},
     "output_type": "execute_result"
    }
   ],
   "source": [
    "x.shape"
   ]
  },
  {
   "cell_type": "code",
   "execution_count": 3,
   "metadata": {},
   "outputs": [
    {
     "ename": "ValueError",
     "evalue": "Input numpy.ndarray or list must be 2 dimensional",
     "output_type": "error",
     "traceback": [
      "\u001b[1;31m---------------------------------------------------------------------------\u001b[0m",
      "\u001b[1;31mValueError\u001b[0m                                Traceback (most recent call last)",
      "Cell \u001b[1;32mIn[3], line 1\u001b[0m\n\u001b[1;32m----> 1\u001b[0m \u001b[43mapp\u001b[49m\u001b[38;5;241;43m.\u001b[39;49m\u001b[43mmodel\u001b[49m\u001b[38;5;241;43m.\u001b[39;49m\u001b[43mbatch_forward\u001b[49m\u001b[43m(\u001b[49m\u001b[43m)\u001b[49m\n",
      "File \u001b[1;32md:\\Coding\\learndl\\learndl\\src\\model\\util\\classes.py:628\u001b[0m, in \u001b[0;36mBasePredictorModel.batch_forward\u001b[1;34m(self)\u001b[0m\n\u001b[0;32m    626\u001b[0m \u001b[38;5;28;01mif\u001b[39;00m \u001b[38;5;28mself\u001b[39m\u001b[38;5;241m.\u001b[39mstatus\u001b[38;5;241m.\u001b[39mdataset \u001b[38;5;241m==\u001b[39m \u001b[38;5;124m'\u001b[39m\u001b[38;5;124mtest\u001b[39m\u001b[38;5;124m'\u001b[39m:\n\u001b[0;32m    627\u001b[0m     \u001b[38;5;28;01mif\u001b[39;00m \u001b[38;5;28mself\u001b[39m\u001b[38;5;241m.\u001b[39mtrainer\u001b[38;5;241m.\u001b[39mbatch_idx \u001b[38;5;241m>\u001b[39m\u001b[38;5;241m=\u001b[39m \u001b[38;5;28mself\u001b[39m\u001b[38;5;241m.\u001b[39mtrainer\u001b[38;5;241m.\u001b[39mbatch_aftermath: \u001b[38;5;28;01mreturn\u001b[39;00m\n\u001b[1;32m--> 628\u001b[0m \u001b[38;5;28mself\u001b[39m\u001b[38;5;241m.\u001b[39mbatch_output \u001b[38;5;241m=\u001b[39m \u001b[38;5;28;43mself\u001b[39;49m\u001b[43m(\u001b[49m\u001b[38;5;28;43mself\u001b[39;49m\u001b[38;5;241;43m.\u001b[39;49m\u001b[43mbatch_data\u001b[49m\u001b[43m)\u001b[49m\n",
      "File \u001b[1;32md:\\Coding\\learndl\\learndl\\src\\model\\util\\classes.py:534\u001b[0m, in \u001b[0;36mBasePredictorModel.__call__\u001b[1;34m(self, input, *args, **kwargs)\u001b[0m\n\u001b[0;32m    532\u001b[0m     output \u001b[38;5;241m=\u001b[39m \u001b[38;5;28;01mNone\u001b[39;00m\n\u001b[0;32m    533\u001b[0m \u001b[38;5;28;01melse\u001b[39;00m:\n\u001b[1;32m--> 534\u001b[0m     output \u001b[38;5;241m=\u001b[39m \u001b[38;5;28;43mself\u001b[39;49m\u001b[38;5;241;43m.\u001b[39;49m\u001b[43mforward\u001b[49m\u001b[43m(\u001b[49m\u001b[38;5;28;43minput\u001b[39;49m\u001b[43m \u001b[49m\u001b[43m,\u001b[49m\u001b[43m \u001b[49m\u001b[38;5;241;43m*\u001b[39;49m\u001b[43margs\u001b[49m\u001b[43m \u001b[49m\u001b[43m,\u001b[49m\u001b[43m \u001b[49m\u001b[38;5;241;43m*\u001b[39;49m\u001b[38;5;241;43m*\u001b[39;49m\u001b[43mkwargs\u001b[49m\u001b[43m)\u001b[49m\n\u001b[0;32m    535\u001b[0m batch_output \u001b[38;5;241m=\u001b[39m BatchOutput(output)\n\u001b[0;32m    536\u001b[0m \u001b[38;5;28;01mreturn\u001b[39;00m batch_output\n",
      "File \u001b[1;32md:\\Coding\\learndl\\learndl\\src\\model\\model_module\\module\\boost.py:45\u001b[0m, in \u001b[0;36mBoostPredictor.forward\u001b[1;34m(self, batch_data, *args, **kwargs)\u001b[0m\n\u001b[0;32m     43\u001b[0m \u001b[38;5;28;01mif\u001b[39;00m \u001b[38;5;28mlen\u001b[39m(batch_data) \u001b[38;5;241m==\u001b[39m \u001b[38;5;241m0\u001b[39m: \u001b[38;5;28;01mreturn\u001b[39;00m \u001b[38;5;28;01mNone\u001b[39;00m\n\u001b[0;32m     44\u001b[0m x \u001b[38;5;241m=\u001b[39m batch_data_flatten_x(batch_data) \u001b[38;5;28;01mif\u001b[39;00m \u001b[38;5;28misinstance\u001b[39m(batch_data , BatchData) \u001b[38;5;28;01melse\u001b[39;00m batch_data\n\u001b[1;32m---> 45\u001b[0m pred \u001b[38;5;241m=\u001b[39m \u001b[38;5;28;43mself\u001b[39;49m\u001b[38;5;241;43m.\u001b[39;49m\u001b[43mbooster\u001b[49m\u001b[43m(\u001b[49m\u001b[43mx\u001b[49m\u001b[43m \u001b[49m\u001b[43m,\u001b[49m\u001b[43m \u001b[49m\u001b[38;5;241;43m*\u001b[39;49m\u001b[43margs\u001b[49m\u001b[43m \u001b[49m\u001b[43m,\u001b[49m\u001b[43m \u001b[49m\u001b[38;5;241;43m*\u001b[39;49m\u001b[38;5;241;43m*\u001b[39;49m\u001b[43mkwargs\u001b[49m\u001b[43m)\u001b[49m\n\u001b[0;32m     46\u001b[0m \u001b[38;5;28;01mreturn\u001b[39;00m pred\n",
      "File \u001b[1;32md:\\Coding\\learndl\\learndl\\src\\algo\\boost\\booster\\general.py:41\u001b[0m, in \u001b[0;36mGeneralBooster.__call__\u001b[1;34m(self, x)\u001b[0m\n\u001b[0;32m     40\u001b[0m \u001b[38;5;28;01mdef\u001b[39;00m \u001b[38;5;21m__call__\u001b[39m(\u001b[38;5;28mself\u001b[39m, x : torch\u001b[38;5;241m.\u001b[39mTensor) \u001b[38;5;241m-\u001b[39m\u001b[38;5;241m>\u001b[39m torch\u001b[38;5;241m.\u001b[39mTensor: \n\u001b[1;32m---> 41\u001b[0m     \u001b[38;5;28;01mreturn\u001b[39;00m \u001b[38;5;28;43mself\u001b[39;49m\u001b[38;5;241;43m.\u001b[39;49m\u001b[43mforward\u001b[49m\u001b[43m(\u001b[49m\u001b[43mx\u001b[49m\u001b[43m)\u001b[49m\n",
      "File \u001b[1;32md:\\Coding\\learndl\\learndl\\src\\algo\\boost\\booster\\general.py:73\u001b[0m, in \u001b[0;36mGeneralBooster.forward\u001b[1;34m(self, x)\u001b[0m\n\u001b[0;32m     71\u001b[0m \u001b[38;5;28;01mdef\u001b[39;00m \u001b[38;5;21mforward\u001b[39m(\u001b[38;5;28mself\u001b[39m , x : torch\u001b[38;5;241m.\u001b[39mTensor) \u001b[38;5;241m-\u001b[39m\u001b[38;5;241m>\u001b[39m torch\u001b[38;5;241m.\u001b[39mTensor:\n\u001b[0;32m     72\u001b[0m     booster_input \u001b[38;5;241m=\u001b[39m BoosterInput\u001b[38;5;241m.\u001b[39mfrom_tensor(x)\n\u001b[1;32m---> 73\u001b[0m     \u001b[38;5;28;01mreturn\u001b[39;00m \u001b[38;5;28;43mself\u001b[39;49m\u001b[38;5;241;43m.\u001b[39;49m\u001b[43mbooster\u001b[49m\u001b[38;5;241;43m.\u001b[39;49m\u001b[43mpredict\u001b[49m\u001b[43m(\u001b[49m\u001b[43mbooster_input\u001b[49m\u001b[43m)\u001b[49m\u001b[38;5;241m.\u001b[39mpred\u001b[38;5;241m.\u001b[39mto(x)\n",
      "File \u001b[1;32md:\\Coding\\learndl\\learndl\\src\\algo\\boost\\booster\\lgbm.py:74\u001b[0m, in \u001b[0;36mLgbm.predict\u001b[1;34m(self, x)\u001b[0m\n\u001b[0;32m     72\u001b[0m data \u001b[38;5;241m=\u001b[39m \u001b[38;5;28mself\u001b[39m\u001b[38;5;241m.\u001b[39mbooster_input(x)\n\u001b[0;32m     73\u001b[0m X \u001b[38;5;241m=\u001b[39m data\u001b[38;5;241m.\u001b[39mX()\u001b[38;5;241m.\u001b[39mcpu()\u001b[38;5;241m.\u001b[39mnumpy()\n\u001b[1;32m---> 74\u001b[0m \u001b[38;5;28;01mreturn\u001b[39;00m data\u001b[38;5;241m.\u001b[39moutput(\u001b[38;5;28;43mself\u001b[39;49m\u001b[38;5;241;43m.\u001b[39;49m\u001b[43mmodel\u001b[49m\u001b[38;5;241;43m.\u001b[39;49m\u001b[43mpredict\u001b[49m\u001b[43m(\u001b[49m\u001b[43mX\u001b[49m\u001b[43m)\u001b[49m)\n",
      "File \u001b[1;32mc:\\Users\\jinmeng\\AppData\\Local\\Programs\\Python\\Python311\\Lib\\site-packages\\lightgbm\\basic.py:4453\u001b[0m, in \u001b[0;36mBooster.predict\u001b[1;34m(self, data, start_iteration, num_iteration, raw_score, pred_leaf, pred_contrib, data_has_header, validate_features, **kwargs)\u001b[0m\n\u001b[0;32m   4451\u001b[0m     \u001b[38;5;28;01melse\u001b[39;00m:\n\u001b[0;32m   4452\u001b[0m         num_iteration \u001b[38;5;241m=\u001b[39m \u001b[38;5;241m-\u001b[39m\u001b[38;5;241m1\u001b[39m\n\u001b[1;32m-> 4453\u001b[0m \u001b[38;5;28;01mreturn\u001b[39;00m \u001b[43mpredictor\u001b[49m\u001b[38;5;241;43m.\u001b[39;49m\u001b[43mpredict\u001b[49m\u001b[43m(\u001b[49m\n\u001b[0;32m   4454\u001b[0m \u001b[43m    \u001b[49m\u001b[43mdata\u001b[49m\u001b[38;5;241;43m=\u001b[39;49m\u001b[43mdata\u001b[49m\u001b[43m,\u001b[49m\n\u001b[0;32m   4455\u001b[0m \u001b[43m    \u001b[49m\u001b[43mstart_iteration\u001b[49m\u001b[38;5;241;43m=\u001b[39;49m\u001b[43mstart_iteration\u001b[49m\u001b[43m,\u001b[49m\n\u001b[0;32m   4456\u001b[0m \u001b[43m    \u001b[49m\u001b[43mnum_iteration\u001b[49m\u001b[38;5;241;43m=\u001b[39;49m\u001b[43mnum_iteration\u001b[49m\u001b[43m,\u001b[49m\n\u001b[0;32m   4457\u001b[0m \u001b[43m    \u001b[49m\u001b[43mraw_score\u001b[49m\u001b[38;5;241;43m=\u001b[39;49m\u001b[43mraw_score\u001b[49m\u001b[43m,\u001b[49m\n\u001b[0;32m   4458\u001b[0m \u001b[43m    \u001b[49m\u001b[43mpred_leaf\u001b[49m\u001b[38;5;241;43m=\u001b[39;49m\u001b[43mpred_leaf\u001b[49m\u001b[43m,\u001b[49m\n\u001b[0;32m   4459\u001b[0m \u001b[43m    \u001b[49m\u001b[43mpred_contrib\u001b[49m\u001b[38;5;241;43m=\u001b[39;49m\u001b[43mpred_contrib\u001b[49m\u001b[43m,\u001b[49m\n\u001b[0;32m   4460\u001b[0m \u001b[43m    \u001b[49m\u001b[43mdata_has_header\u001b[49m\u001b[38;5;241;43m=\u001b[39;49m\u001b[43mdata_has_header\u001b[49m\u001b[43m,\u001b[49m\n\u001b[0;32m   4461\u001b[0m \u001b[43m    \u001b[49m\u001b[43mvalidate_features\u001b[49m\u001b[38;5;241;43m=\u001b[39;49m\u001b[43mvalidate_features\u001b[49m\n\u001b[0;32m   4462\u001b[0m \u001b[43m\u001b[49m\u001b[43m)\u001b[49m\n",
      "File \u001b[1;32mc:\\Users\\jinmeng\\AppData\\Local\\Programs\\Python\\Python311\\Lib\\site-packages\\lightgbm\\basic.py:1159\u001b[0m, in \u001b[0;36m_InnerPredictor.predict\u001b[1;34m(self, data, start_iteration, num_iteration, raw_score, pred_leaf, pred_contrib, data_has_header, validate_features)\u001b[0m\n\u001b[0;32m   1152\u001b[0m     preds, nrow \u001b[38;5;241m=\u001b[39m \u001b[38;5;28mself\u001b[39m\u001b[38;5;241m.\u001b[39m__pred_for_csc(\n\u001b[0;32m   1153\u001b[0m         csc\u001b[38;5;241m=\u001b[39mdata,\n\u001b[0;32m   1154\u001b[0m         start_iteration\u001b[38;5;241m=\u001b[39mstart_iteration,\n\u001b[0;32m   1155\u001b[0m         num_iteration\u001b[38;5;241m=\u001b[39mnum_iteration,\n\u001b[0;32m   1156\u001b[0m         predict_type\u001b[38;5;241m=\u001b[39mpredict_type\n\u001b[0;32m   1157\u001b[0m     )\n\u001b[0;32m   1158\u001b[0m \u001b[38;5;28;01melif\u001b[39;00m \u001b[38;5;28misinstance\u001b[39m(data, np\u001b[38;5;241m.\u001b[39mndarray):\n\u001b[1;32m-> 1159\u001b[0m     preds, nrow \u001b[38;5;241m=\u001b[39m \u001b[38;5;28;43mself\u001b[39;49m\u001b[38;5;241;43m.\u001b[39;49m\u001b[43m__pred_for_np2d\u001b[49m\u001b[43m(\u001b[49m\n\u001b[0;32m   1160\u001b[0m \u001b[43m        \u001b[49m\u001b[43mmat\u001b[49m\u001b[38;5;241;43m=\u001b[39;49m\u001b[43mdata\u001b[49m\u001b[43m,\u001b[49m\n\u001b[0;32m   1161\u001b[0m \u001b[43m        \u001b[49m\u001b[43mstart_iteration\u001b[49m\u001b[38;5;241;43m=\u001b[39;49m\u001b[43mstart_iteration\u001b[49m\u001b[43m,\u001b[49m\n\u001b[0;32m   1162\u001b[0m \u001b[43m        \u001b[49m\u001b[43mnum_iteration\u001b[49m\u001b[38;5;241;43m=\u001b[39;49m\u001b[43mnum_iteration\u001b[49m\u001b[43m,\u001b[49m\n\u001b[0;32m   1163\u001b[0m \u001b[43m        \u001b[49m\u001b[43mpredict_type\u001b[49m\u001b[38;5;241;43m=\u001b[39;49m\u001b[43mpredict_type\u001b[49m\n\u001b[0;32m   1164\u001b[0m \u001b[43m    \u001b[49m\u001b[43m)\u001b[49m\n\u001b[0;32m   1165\u001b[0m \u001b[38;5;28;01melif\u001b[39;00m _is_pyarrow_table(data):\n\u001b[0;32m   1166\u001b[0m     preds, nrow \u001b[38;5;241m=\u001b[39m \u001b[38;5;28mself\u001b[39m\u001b[38;5;241m.\u001b[39m__pred_for_pyarrow_table(\n\u001b[0;32m   1167\u001b[0m         table\u001b[38;5;241m=\u001b[39mdata,\n\u001b[0;32m   1168\u001b[0m         start_iteration\u001b[38;5;241m=\u001b[39mstart_iteration,\n\u001b[0;32m   1169\u001b[0m         num_iteration\u001b[38;5;241m=\u001b[39mnum_iteration,\n\u001b[0;32m   1170\u001b[0m         predict_type\u001b[38;5;241m=\u001b[39mpredict_type\n\u001b[0;32m   1171\u001b[0m     )\n",
      "File \u001b[1;32mc:\\Users\\jinmeng\\AppData\\Local\\Programs\\Python\\Python311\\Lib\\site-packages\\lightgbm\\basic.py:1285\u001b[0m, in \u001b[0;36m_InnerPredictor.__pred_for_np2d\u001b[1;34m(self, mat, start_iteration, num_iteration, predict_type)\u001b[0m\n\u001b[0;32m   1283\u001b[0m \u001b[38;5;250m\u001b[39m\u001b[38;5;124;03m\"\"\"Predict for a 2-D numpy matrix.\"\"\"\u001b[39;00m\n\u001b[0;32m   1284\u001b[0m \u001b[38;5;28;01mif\u001b[39;00m \u001b[38;5;28mlen\u001b[39m(mat\u001b[38;5;241m.\u001b[39mshape) \u001b[38;5;241m!=\u001b[39m \u001b[38;5;241m2\u001b[39m:\n\u001b[1;32m-> 1285\u001b[0m     \u001b[38;5;28;01mraise\u001b[39;00m \u001b[38;5;167;01mValueError\u001b[39;00m(\u001b[38;5;124m'\u001b[39m\u001b[38;5;124mInput numpy.ndarray or list must be 2 dimensional\u001b[39m\u001b[38;5;124m'\u001b[39m)\n\u001b[0;32m   1287\u001b[0m nrow \u001b[38;5;241m=\u001b[39m mat\u001b[38;5;241m.\u001b[39mshape[\u001b[38;5;241m0\u001b[39m]\n\u001b[0;32m   1288\u001b[0m \u001b[38;5;28;01mif\u001b[39;00m nrow \u001b[38;5;241m>\u001b[39m _MAX_INT32:\n",
      "\u001b[1;31mValueError\u001b[0m: Input numpy.ndarray or list must be 2 dimensional"
     ]
    }
   ],
   "source": [
    "app.model.batch_forward()\n"
   ]
  },
  {
   "cell_type": "code",
   "execution_count": 3,
   "metadata": {},
   "outputs": [
    {
     "data": {
      "text/html": [
       "<div>\n",
       "<style scoped>\n",
       "    .dataframe tbody tr th:only-of-type {\n",
       "        vertical-align: middle;\n",
       "    }\n",
       "\n",
       "    .dataframe tbody tr th {\n",
       "        vertical-align: top;\n",
       "    }\n",
       "\n",
       "    .dataframe thead th {\n",
       "        text-align: right;\n",
       "    }\n",
       "</style>\n",
       "<table border=\"1\" class=\"dataframe\">\n",
       "  <thead>\n",
       "    <tr style=\"text-align: right;\">\n",
       "      <th></th>\n",
       "      <th>model_num</th>\n",
       "      <th>submodel</th>\n",
       "      <th>secid</th>\n",
       "      <th>date</th>\n",
       "      <th>values</th>\n",
       "    </tr>\n",
       "  </thead>\n",
       "  <tbody>\n",
       "  </tbody>\n",
       "</table>\n",
       "</div>"
      ],
      "text/plain": [
       "Empty DataFrame\n",
       "Columns: [model_num, submodel, secid, date, values]\n",
       "Index: []"
      ]
     },
     "execution_count": 3,
     "metadata": {},
     "output_type": "execute_result"
    }
   ],
   "source": [
    "from src2.model.callback.test import PRED_RECORD\n",
    "PRED_RECORD.all_preds[(PRED_RECORD.all_preds['submodel'] == 'best') & (PRED_RECORD.all_preds['secid'] == 688981)]"
   ]
  },
  {
   "cell_type": "code",
   "execution_count": 1,
   "metadata": {},
   "outputs": [
    {
     "name": "stdout",
     "output_type": "stream",
     "text": [
      "Beware! Should be at server or short_test, but short_test is False now!\n",
      "try using d:\\Coding\\learndl\\learndl\\data\\DataSet/day.20240607.pt , success!\n",
      "Load  2 DataBlocks...... finished! Cost 0.14 secs\n",
      "Align 2 DataBlocks...... finished! Cost 0.22 secs\n",
      "Pre-Norming method of [day] : {'divlast': True, 'histnorm': True}\n"
     ]
    },
    {
     "name": "stderr",
     "output_type": "stream",
     "text": [
      "100%|██████████| 384/384 [00:00<00:00, 2484.01it/s]\n",
      "100%|██████████| 96/96 [00:00<00:00, 2468.13it/s]\n",
      "100%|██████████| 14/14 [00:00<00:00, 1754.83it/s]\n"
     ]
    },
    {
     "data": {
      "text/plain": [
       "<src2.model.model_module.api.extractor.ModelHiddenExtractor at 0x182b2ba0510>"
      ]
     },
     "execution_count": 1,
     "metadata": {},
     "output_type": "execute_result"
    }
   ],
   "source": [
    "from src2.api import ModelHiddenExtractor\n",
    "ModelHiddenExtractor.update_hidden('gru_day' , model_nums=[0] , model_submodels=['best'])\n",
    "\n"
   ]
  },
  {
   "cell_type": "code",
   "execution_count": null,
   "metadata": {},
   "outputs": [],
   "source": [
    "from src2.api import DataAPI , ModelTrainer\n",
    "DataAPI.reconstruct_train_data()\n",
    "ModelTrainer.update_models()"
   ]
  },
  {
   "cell_type": "code",
   "execution_count": null,
   "metadata": {},
   "outputs": [],
   "source": [
    "from src.api import HiddenExtractor\n",
    "extractor = HiddenExtractor('resnet_gru_30m' , model_nums=[1] , model_types=['best'])\n",
    "extractor.extract_hidden('update' , deploy = True)"
   ]
  },
  {
   "cell_type": "code",
   "execution_count": null,
   "metadata": {},
   "outputs": [],
   "source": [
    "from src.api import DataAPI , Trainer\n",
    "DataAPI.reconstruct_train_data()\n",
    "Trainer.update_models()"
   ]
  }
 ],
 "metadata": {
  "kernelspec": {
   "display_name": "Python 3",
   "language": "python",
   "name": "python3"
  },
  "language_info": {
   "codemirror_mode": {
    "name": "ipython",
    "version": 3
   },
   "file_extension": ".py",
   "mimetype": "text/x-python",
   "name": "python",
   "nbconvert_exporter": "python",
   "pygments_lexer": "ipython3",
   "version": "3.11.8"
  }
 },
 "nbformat": 4,
 "nbformat_minor": 2
}
