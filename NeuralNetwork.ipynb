{
 "cells": [
  {
   "cell_type": "markdown",
   "metadata": {},
   "source": [
    "# Data packaging: trade_day , label , risk_exp\n",
    "trade_day : trading data (price , volume , etc.) for stocks every day\n",
    "\n",
    "label : 10 days future return data for stocks every day\n",
    "\n",
    "risk_exp : risk model factors for stocks every day\n"
   ]
  },
  {
   "cell_type": "code",
   "execution_count": 6,
   "metadata": {},
   "outputs": [],
   "source": [
    "import os , tarfile\n",
    "\n",
    "def list_files(directory , start_year = 2007 , end_year = 2020):\n",
    "    '''list all files in directory'''\n",
    "    paths = []\n",
    "    for y in range(start_year,end_year+1):\n",
    "        subdir = f'{directory}/{y}'\n",
    "        for dirpath, _, filenames in os.walk(subdir):\n",
    "            paths += [os.path.join(dirpath , filename) for filename in filenames]\n",
    "    return paths\n",
    "\n",
    "def pack(tgt_path = 'risk_exp.tar' , src_path = '/data/DataBase/DB_models/risk_exp' , start_year = 2007 , end_year = 2020):\n",
    "    with tarfile.open(tgt_path, 'a') as tar:\n",
    "        files = list_files(src_path , start_year , end_year)\n",
    "        for file in files:\n",
    "            tar.add(file, arcname = os.path.relpath(file, src_path))  \n",
    "\n",
    "if os.path.exists('./data/DataBase'):\n",
    "    pack('trade_day.tar' , './data/DataBase/DB_trade/day')\n",
    "    pack('label.tar' , './data/DataBase/DB_labels/ret10_lag')\n",
    "    pack('risk_exp.tar' , './data/DataBase/DB_models/risk_exp')\n"
   ]
  },
  {
   "cell_type": "markdown",
   "metadata": {},
   "source": [
    "# A sample training code"
   ]
  },
  {
   "cell_type": "code",
   "execution_count": 26,
   "metadata": {},
   "outputs": [],
   "source": [
    "import tqdm , torch\n",
    "\n",
    "from torch import nn\n",
    "from typing import Any , Literal\n",
    "\n",
    "class GRUTrainer:\n",
    "    '''A simplified GRU trainer, for code illustration purpose'''\n",
    "\n",
    "    LOSS : Literal['pearson' , 'mse'] = 'pearson'\n",
    "    TQDM : bool = True\n",
    "    MAX_EPOCH : int = 10\n",
    "    EARLY_STOPPAGE : int = 3\n",
    "    \n",
    "    def __init__(self , num_stock = 100 , num_dates = 60 , num_feat = 6):\n",
    "        self.data = self.random_input(num_stock , num_dates , num_feat)\n",
    "        self.num_stock = num_stock\n",
    "        self.num_dates = num_dates\n",
    "        self.num_feat  = num_feat\n",
    "        self.init_model()\n",
    "\n",
    "    @staticmethod\n",
    "    def random_input(num_stock = 100 , num_dates = 60 , num_feat = 6) -> dict[Literal['train','valid','test'],Any]:\n",
    "        '''make random input of train, valid, test dataset'''\n",
    "        def rand_nan(x , remain = 0.2):\n",
    "            for d in range(len(x)):\n",
    "                if torch.rand(1).item() > 0.2:\n",
    "                    ii = int(torch.rand(1).item() * x.shape[1])\n",
    "                    x[d,:ii] = torch.nan\n",
    "            return x\n",
    "\n",
    "        # data dimentions: \n",
    "        # 0: number of stocks\n",
    "        # 1: number of dates\n",
    "        # 2: number of bars in a day (e.g. 1 for day candle , 240 for minute candle)\n",
    "        # 4: number of features (e.g. open , close , high , low , volume , amount)\n",
    "        train = (rand_nan(torch.rand(num_stock,int(num_dates*0.8),1,num_feat)) , \n",
    "                 torch.rand(num_stock,int(num_dates*0.8),1))\n",
    "        valid = (rand_nan(torch.rand(num_stock,num_dates-int(num_dates*0.8),1,num_feat)) , \n",
    "                 torch.rand(num_stock,num_dates-int(num_dates*0.8),1))\n",
    "        test  = (rand_nan(torch.rand(num_stock,num_dates-int(num_dates*0.8),1,num_feat)) , \n",
    "                 torch.rand(num_stock,num_dates-int(num_dates*0.8),1))\n",
    "\n",
    "        return {'train':train , 'valid':valid , 'test' :test}\n",
    "    \n",
    "    def init_model(self , hidden_size = 32 , num_layers = 2 , dropout = 0.1 , learn_rate = 0.005):\n",
    "        '''initialize model components: nn , optimizer , scheduler'''\n",
    "        self.net = self.GRU(self.num_feat , hidden_size , num_layers = num_layers , dropout = dropout)\n",
    "        if torch.cuda.is_available():\n",
    "            self.net = self.net.cuda()\n",
    "        self.optimizer = torch.optim.Adam(self.net.parameters() , lr = learn_rate)\n",
    "        self.scheduler = torch.optim.lr_scheduler.StepLR(self.optimizer, step_size= 5, gamma=0.1)\n",
    "    \n",
    "    @classmethod\n",
    "    def dataloader(cls , tensor : tuple[torch.Tensor,torch.Tensor] , progress_bar = False):\n",
    "        '''dataloader creator of train, valid, test dataset'''\n",
    "        if progress_bar:\n",
    "            a = list(cls.dataloader(tensor , progress_bar=False))\n",
    "            return tqdm.tqdm(iterable=cls.dataloader(tensor , progress_bar=False),total=tensor[0].shape[1])\n",
    "        else:\n",
    "            assert tensor[0].shape[:2] == tensor[1].shape[:2]\n",
    "            dates = range(tensor[0].shape[1])\n",
    "            iterance = []\n",
    "            for d in dates:\n",
    "                x , y = tensor[0][:,d] , tensor[1][:,d]\n",
    "                valid = x.isfinite().all(dim=(1,2)) * y.isfinite().all(dim=(1))\n",
    "                iterance.append((x[valid] , y[valid] , valid))\n",
    "            return iterance \n",
    "\n",
    "    class GRU(nn.Module):\n",
    "        '''A simple GRU'''\n",
    "        def __init__(self, num_feat : int , hidden_size = 32 , num_layers = 2 , dropout = 0.1, **kwargs) -> None:\n",
    "            super().__init__()\n",
    "            self.gru = nn.GRU(num_feat , hidden_size , num_layers = num_layers , dropout = dropout)\n",
    "            self.linear = nn.Linear(hidden_size , 1)\n",
    "\n",
    "        def forward(self , x):\n",
    "            x , _ = self.gru(x)\n",
    "            return self.linear(x[:,-1]) , x\n",
    "    \n",
    "    def fit_epoch(self , epoch : int):\n",
    "        '''epoch of minibatches for train & valid dataset'''\n",
    "        metric_train , metric_valid = 0 , 0\n",
    "\n",
    "        iter_train = self.dataloader(self.data['train'] , self.TQDM)\n",
    "        iter_valid = self.dataloader(self.data['valid'] , self.TQDM)\n",
    "        \n",
    "        self.net.train()\n",
    "        for i, (input , label , valid) in enumerate(iter_train):\n",
    "            if torch.cuda.is_available():\n",
    "                input , label = input.cuda() , label.cuda()\n",
    "            pred , hidden = self.net(input)\n",
    "            self.optimizer.zero_grad()\n",
    "            loss_batch = self.loss(label , pred)\n",
    "            metric_train -= loss_batch.item()\n",
    "            loss_batch.backward()\n",
    "            self.optimizer.step()\n",
    "            if isinstance(iter_train , tqdm.tqdm):  \n",
    "                iter_train.set_description('Epoch #{:3d} train loss:{:.5f}'.format(epoch,-metric_train/(i+1)))\n",
    "        metric_train /= i + 1 \n",
    "        \n",
    "        self.net.eval()\n",
    "        with torch.no_grad():\n",
    "            for i, (input , label , valid) in enumerate(iter_valid):\n",
    "                if torch.cuda.is_available():\n",
    "                    input , label = input.cuda() , label.cuda()\n",
    "                pred , hidden = self.net(input)\n",
    "                loss_batch = self.loss(label , pred)\n",
    "                metric_valid -= loss_batch.item()\n",
    "                if isinstance(iter_valid , tqdm.tqdm):  \n",
    "                    iter_valid.set_description('Epoch #{:3d} valid loss:{:.5f}'.format(epoch,-metric_valid/(i+1)))\n",
    "            metric_valid /= i + 1 \n",
    "        \n",
    "        last_lr = self.scheduler.get_last_lr()[0]\n",
    "        self.scheduler.step()\n",
    "        return metric_train , metric_valid , last_lr\n",
    "    \n",
    "    def fit(self):\n",
    "        '''main loop of fitting process'''\n",
    "        best_metric_valid = -10000.\n",
    "        best_epoch = -1\n",
    "        for epoch in range(self.MAX_EPOCH):\n",
    "            metric_train , metric_valid , last_lr = self.fit_epoch(epoch)\n",
    "            print(f'At epoch {epoch}, train metric: {metric_train:.4f}, valid metric: {metric_valid:.4f}, last lr: {last_lr}')\n",
    "            if metric_valid > best_metric_valid:\n",
    "                best_metric_valid , best_epoch = metric_valid , epoch\n",
    "            if epoch - best_epoch > self.EARLY_STOPPAGE:\n",
    "                print(f'Early Stopped at epoch {best_epoch} , valid metric is {best_metric_valid:.4f}')\n",
    "                break\n",
    "\n",
    "    def predict(self):\n",
    "        '''make prediction of test dataset'''\n",
    "        metric_test = 0\n",
    "        iter_test = self.dataloader(self.data['test'] , self.TQDM)\n",
    "        \n",
    "        preds = torch.full_like(self.data['test'][1] , fill_value=torch.nan)\n",
    "        self.net.eval()\n",
    "        with torch.no_grad():\n",
    "            for i, (input , label , valid) in enumerate(iter_test):\n",
    "                if torch.cuda.is_available():\n",
    "                    input , label = input.cuda() , label.cuda()\n",
    "                pred , hidden = self.net(input)\n",
    "                preds[valid,i] = pred\n",
    "                loss_batch = self.loss(label , pred)\n",
    "                metric_test -= loss_batch.item()\n",
    "                if isinstance(iter_test , tqdm.tqdm):  \n",
    "                    iter_test.set_description('Date #{:3d} valid loss:{:.5f}'.format(i,-metric_test/(i+1)))\n",
    "            metric_test /= i + 1\n",
    "        print(f'Test Dataset has average metric of {metric_test:.4f}')\n",
    "        return preds\n",
    "\n",
    "    @classmethod\n",
    "    def loss(cls , label , pred) -> torch.Tensor:\n",
    "        '''loss calculator'''\n",
    "        if cls.LOSS == 'pearson':\n",
    "            l = -torch.stack((label, pred)).squeeze().corrcoef()[0,1] # -pearson_r(labels, pred)\n",
    "        elif cls.LOSS == 'mse':\n",
    "            l = nn.MSELoss()(label , pred)\n",
    "        return l\n",
    "\n",
    "gru_trainer = GRUTrainer()\n"
   ]
  },
  {
   "cell_type": "markdown",
   "metadata": {},
   "source": [
    "# fit the trainer"
   ]
  },
  {
   "cell_type": "code",
   "execution_count": 27,
   "metadata": {},
   "outputs": [
    {
     "name": "stderr",
     "output_type": "stream",
     "text": [
      "  0%|          | 0/48 [00:00<?, ?it/s]"
     ]
    },
    {
     "name": "stderr",
     "output_type": "stream",
     "text": [
      "Epoch #  0 train loss:0.01869: 100%|██████████| 48/48 [00:01<00:00, 25.75it/s] \n",
      "Epoch #  0 valid loss:-0.05472: 100%|██████████| 12/12 [00:01<00:00,  6.02it/s]\n"
     ]
    },
    {
     "name": "stdout",
     "output_type": "stream",
     "text": [
      "At epoch 0, train metric: -0.0187, valid metric: 0.0547, last lr: 0.005\n"
     ]
    },
    {
     "name": "stderr",
     "output_type": "stream",
     "text": [
      "Epoch #  1 train loss:-0.05075: 100%|██████████| 48/48 [00:01<00:00, 26.13it/s]\n",
      "Epoch #  1 valid loss:0.05103: 100%|██████████| 12/12 [00:02<00:00,  5.93it/s]\n"
     ]
    },
    {
     "name": "stdout",
     "output_type": "stream",
     "text": [
      "At epoch 1, train metric: 0.0508, valid metric: -0.0510, last lr: 0.005\n"
     ]
    },
    {
     "name": "stderr",
     "output_type": "stream",
     "text": [
      "Epoch #  2 train loss:-0.02408: 100%|██████████| 48/48 [00:02<00:00, 21.81it/s]\n",
      "Epoch #  2 valid loss:0.01572: 100%|██████████| 12/12 [00:02<00:00,  5.09it/s]\n"
     ]
    },
    {
     "name": "stdout",
     "output_type": "stream",
     "text": [
      "At epoch 2, train metric: 0.0241, valid metric: -0.0157, last lr: 0.005\n"
     ]
    },
    {
     "name": "stderr",
     "output_type": "stream",
     "text": [
      "Epoch #  3 train loss:-0.03904: 100%|██████████| 48/48 [00:02<00:00, 21.33it/s]\n",
      "Epoch #  3 valid loss:0.04985: 100%|██████████| 12/12 [00:02<00:00,  4.98it/s]\n"
     ]
    },
    {
     "name": "stdout",
     "output_type": "stream",
     "text": [
      "At epoch 3, train metric: 0.0390, valid metric: -0.0498, last lr: 0.005\n"
     ]
    },
    {
     "name": "stderr",
     "output_type": "stream",
     "text": [
      "Epoch #  4 train loss:-0.03944: 100%|██████████| 48/48 [00:02<00:00, 20.02it/s]\n",
      "Epoch #  4 valid loss:0.02130: 100%|██████████| 12/12 [00:02<00:00,  4.70it/s]"
     ]
    },
    {
     "name": "stdout",
     "output_type": "stream",
     "text": [
      "At epoch 4, train metric: 0.0394, valid metric: -0.0213, last lr: 0.005\n",
      "Early Stopped at epoch 0 , valid metric is 0.0547\n"
     ]
    },
    {
     "name": "stderr",
     "output_type": "stream",
     "text": [
      "\n"
     ]
    }
   ],
   "source": [
    "gru_trainer.fit()"
   ]
  },
  {
   "cell_type": "code",
   "execution_count": 30,
   "metadata": {},
   "outputs": [
    {
     "ename": "",
     "evalue": "",
     "output_type": "error",
     "traceback": [
      "\u001b[1;31mThe Kernel crashed while executing code in the the current cell or a previous cell. Please review the code in the cell(s) to identify a possible cause of the failure. Click <a href='https://aka.ms/vscodeJupyterKernelCrash'>here</a> for more info. View Jupyter <a href='command:jupyter.viewOutput'>log</a> for further details."
     ]
    }
   ],
   "source": [
    "def test(do = True):\n",
    "    if do:\n",
    "        return list(test(False))\n",
    "    else:\n",
    "        for i in range(10):\n",
    "            yield i\n",
    "\n",
    "for i in test(True):\n",
    "    print(i)"
   ]
  },
  {
   "cell_type": "markdown",
   "metadata": {},
   "source": [
    "# make prediction of test dataset"
   ]
  },
  {
   "cell_type": "code",
   "execution_count": 4,
   "metadata": {},
   "outputs": [
    {
     "name": "stderr",
     "output_type": "stream",
     "text": [
      "Date # 11 valid loss:0.04140: : 12it [00:00, 135.73it/s]"
     ]
    },
    {
     "name": "stdout",
     "output_type": "stream",
     "text": [
      "Test Dataset has average metric of -0.0414\n"
     ]
    },
    {
     "name": "stderr",
     "output_type": "stream",
     "text": [
      "\n"
     ]
    }
   ],
   "source": [
    "pred = gru_trainer.predict()\n",
    "print(pred.shape)\n",
    "print(pred)"
   ]
  }
 ],
 "metadata": {
  "kernelspec": {
   "display_name": "Python 3",
   "language": "python",
   "name": "python3"
  },
  "language_info": {
   "codemirror_mode": {
    "name": "ipython",
    "version": 3
   },
   "file_extension": ".py",
   "mimetype": "text/x-python",
   "name": "python",
   "nbconvert_exporter": "python",
   "pygments_lexer": "ipython3",
   "version": "3.11.8"
  }
 },
 "nbformat": 4,
 "nbformat_minor": 2
}
