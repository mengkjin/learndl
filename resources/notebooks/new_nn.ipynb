{
 "cells": [
  {
   "cell_type": "code",
   "execution_count": null,
   "metadata": {},
   "outputs": [
    {
     "name": "stdout",
     "output_type": "stream",
     "text": [
      "main path: /Users/mengkjin/workspace/learndl\n",
      "src.INSTANCE_RECORD can be accessed to check ['trainer', 'account', 'factor']\n",
      "Load  4 DataBlocks...... finished! Cost 0.25 secs\n",
      "Align 4 DataBlocks...... finished! Cost 0.91 secs\n",
      "Pre-Norming method of [day] : {'divlast': True, 'histnorm': True}\n",
      "Pre-Norming method of [style] : {'divlast': False, 'histnorm': False}\n",
      "Pre-Norming method of [indus] : {'divlast': False, 'histnorm': False}\n"
     ]
    },
    {
     "ename": "AssertionError",
     "evalue": "(device(type='cpu'), device(type='mps', index=0))",
     "output_type": "error",
     "traceback": [
      "\u001b[31m---------------------------------------------------------------------------\u001b[39m",
      "\u001b[31mAssertionError\u001b[39m                            Traceback (most recent call last)",
      "\u001b[36mCell\u001b[39m\u001b[36m \u001b[39m\u001b[32mIn[1]\u001b[39m\u001b[32m, line 15\u001b[39m\n\u001b[32m      5\u001b[39m batch_data = get_realistic_batch_data(\u001b[33m'\u001b[39m\u001b[33mday+style+indus\u001b[39m\u001b[33m'\u001b[39m)\n\u001b[32m      6\u001b[39m tft = TemporalFusionTransformer(\n\u001b[32m      7\u001b[39m     hidden_dim = \u001b[32m16\u001b[39m,\n\u001b[32m      8\u001b[39m     ffn_dim = \u001b[32m32\u001b[39m,\n\u001b[32m   (...)\u001b[39m\u001b[32m     12\u001b[39m     dropout = \u001b[32m0.1\u001b[39m\n\u001b[32m     13\u001b[39m )\u001b[38;5;66;03m#.to('mps')\u001b[39;00m\n\u001b[32m---> \u001b[39m\u001b[32m15\u001b[39m batch_output = \u001b[43mBatchOutput\u001b[49m\u001b[43m.\u001b[49m\u001b[43mnn_module\u001b[49m\u001b[43m(\u001b[49m\u001b[43mtft\u001b[49m\u001b[43m \u001b[49m\u001b[43m,\u001b[49m\u001b[43m \u001b[49m\u001b[43mbatch_data\u001b[49m\u001b[43m)\u001b[49m\n\u001b[32m     16\u001b[39m batch_output.shape\n",
      "\u001b[36mFile \u001b[39m\u001b[32m~/workspace/learndl/src/model/util/batch.py:219\u001b[39m, in \u001b[36mBatchOutput.nn_module\u001b[39m\u001b[34m(cls, module, inputs, **kwargs)\u001b[39m\n\u001b[32m    217\u001b[39m device0 = get_device(module)\n\u001b[32m    218\u001b[39m device1 = get_device(inputs)\n\u001b[32m--> \u001b[39m\u001b[32m219\u001b[39m \u001b[38;5;28;01massert\u001b[39;00m device0 == device1 , (device0 , device1)\n\u001b[32m    220\u001b[39m \u001b[38;5;28;01mreturn\u001b[39;00m \u001b[38;5;28mcls\u001b[39m(module(inputs ,  **kwargs))\n",
      "\u001b[31mAssertionError\u001b[39m: (device(type='cpu'), device(type='mps', index=0))"
     ]
    }
   ],
   "source": [
    "from src.res.algo.nn.model.TFT import TemporalFusionTransformer\n",
    "from src.res.model.data_module import get_realistic_batch_data\n",
    "from src.res.model.util.batch import BatchOutput\n",
    "batch_data = get_realistic_batch_data('day+style+indus')\n",
    "tft = TemporalFusionTransformer(\n",
    "    hidden_dim = 16,\n",
    "    ffn_dim = 32,\n",
    "    num_heads = 4,\n",
    "    pred_len = 4,\n",
    "    encoder_layers = 2,\n",
    "    dropout = 0.1\n",
    ").to('mps')\n",
    "\n",
    "batch_output = BatchOutput.nn_module(tft , batch_data)\n",
    "batch_output.shape"
   ]
  },
  {
   "cell_type": "code",
   "execution_count": 2,
   "metadata": {},
   "outputs": [
    {
     "data": {
      "text/plain": [
       "{'pred': torch.Size([5184, 1]),\n",
       " 'predictions': torch.Size([5184, 4, 3]),\n",
       " 'static_weights': torch.Size([5184, 30, 8]),\n",
       " 'historical_weights': torch.Size([5184, 30, 16]),\n",
       " 'future_weights': float}"
      ]
     },
     "execution_count": 2,
     "metadata": {},
     "output_type": "execute_result"
    }
   ],
   "source": [
    "tft = TemporalFusionTransformer(\n",
    "    hidden_dim = 16,\n",
    "    ffn_dim = 32,\n",
    "    num_heads = 4,\n",
    "    pred_len = 4,\n",
    "    encoder_layers = 2,\n",
    "    dropout = 0.1\n",
    ").to('mps')\n",
    "\n",
    "batch_output = BatchOutput.nn_module(tft , batch_data)\n",
    "batch_output.shape"
   ]
  },
  {
   "cell_type": "code",
   "execution_count": 3,
   "metadata": {},
   "outputs": [
    {
     "data": {
      "text/plain": [
       "(6, 10, 35)"
      ]
     },
     "execution_count": 3,
     "metadata": {},
     "output_type": "execute_result"
    }
   ],
   "source": [
    "tft.input_dim"
   ]
  },
  {
   "cell_type": "code",
   "execution_count": 7,
   "metadata": {},
   "outputs": [
    {
     "data": {
      "text/plain": [
       "device(type='mps', index=0)"
      ]
     },
     "execution_count": 7,
     "metadata": {},
     "output_type": "execute_result"
    }
   ],
   "source": [
    "batch_data.device"
   ]
  },
  {
   "cell_type": "code",
   "execution_count": 5,
   "metadata": {},
   "outputs": [
    {
     "data": {
      "text/plain": [
       "{'x': (torch.Size([5324, 30, 6]), torch.Size([5324, 30, 35])),\n",
       " 'y': torch.Size([5324, 1])}"
      ]
     },
     "execution_count": 5,
     "metadata": {},
     "output_type": "execute_result"
    }
   ],
   "source": [
    "batch_data.shape"
   ]
  },
  {
   "cell_type": "code",
   "execution_count": 4,
   "metadata": {},
   "outputs": [
    {
     "data": {
      "text/plain": [
       "{'pred': torch.Size([5324, 1]),\n",
       " 'predictions': torch.Size([5324, 4, 3]),\n",
       " 'static_weights': torch.Size([5324, 30, 8]),\n",
       " 'historical_weights': torch.Size([5324, 30, 6]),\n",
       " 'future_weights': float}"
      ]
     },
     "execution_count": 4,
     "metadata": {},
     "output_type": "execute_result"
    }
   ],
   "source": [
    "batch_output.shape"
   ]
  },
  {
   "cell_type": "code",
   "execution_count": 6,
   "metadata": {},
   "outputs": [
    {
     "data": {
      "text/plain": [
       "tensor([0.3995], grad_fn=<MeanBackward1>)"
      ]
     },
     "execution_count": 6,
     "metadata": {},
     "output_type": "execute_result"
    }
   ],
   "source": [
    "tft.loss(batch_data.y , **batch_output)"
   ]
  },
  {
   "cell_type": "code",
   "execution_count": 1,
   "metadata": {},
   "outputs": [
    {
     "ename": "NameError",
     "evalue": "name 'batch_data' is not defined",
     "output_type": "error",
     "traceback": [
      "\u001b[31m---------------------------------------------------------------------------\u001b[39m",
      "\u001b[31mNameError\u001b[39m                                 Traceback (most recent call last)",
      "\u001b[36mCell\u001b[39m\u001b[36m \u001b[39m\u001b[32mIn[1]\u001b[39m\u001b[32m, line 1\u001b[39m\n\u001b[32m----> \u001b[39m\u001b[32m1\u001b[39m \u001b[43mbatch_data\u001b[49m.shape\n",
      "\u001b[31mNameError\u001b[39m: name 'batch_data' is not defined"
     ]
    }
   ],
   "source": [
    "batch_data.shape"
   ]
  },
  {
   "cell_type": "code",
   "execution_count": 4,
   "metadata": {},
   "outputs": [
    {
     "data": {
      "text/plain": [
       "(torch.Size([5324, 1]), torch.Size([5324, 4, 3]))"
      ]
     },
     "execution_count": 4,
     "metadata": {},
     "output_type": "execute_result"
    }
   ],
   "source": [
    "batch_data.y.shape , batch_output['predictions'].shape"
   ]
  },
  {
   "cell_type": "code",
   "execution_count": 4,
   "metadata": {},
   "outputs": [
    {
     "data": {
      "text/plain": [
       "torch.Size([5324, 30, 35])"
      ]
     },
     "execution_count": 4,
     "metadata": {},
     "output_type": "execute_result"
    }
   ],
   "source": [
    "batch_data.x[1].shape"
   ]
  }
 ],
 "metadata": {
  "kernelspec": {
   "display_name": ".venv",
   "language": "python",
   "name": "python3"
  },
  "language_info": {
   "codemirror_mode": {
    "name": "ipython",
    "version": 3
   },
   "file_extension": ".py",
   "mimetype": "text/x-python",
   "name": "python",
   "nbconvert_exporter": "python",
   "pygments_lexer": "ipython3",
   "version": "3.12.10"
  }
 },
 "nbformat": 4,
 "nbformat_minor": 2
}
