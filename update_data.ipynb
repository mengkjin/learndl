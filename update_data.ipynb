{
 "cells": [
  {
   "cell_type": "code",
   "execution_count": 1,
   "metadata": {},
   "outputs": [
    {
     "data": {
      "text/plain": [
       "['/home/mengkjin/Workspace/SharedFolder/DB_updater.0.h5',\n",
       " '/home/mengkjin/Workspace/SharedFolder/DB_updater.1.h5']"
      ]
     },
     "execution_count": 1,
     "metadata": {},
     "output_type": "execute_result"
    }
   ],
   "source": [
    "from scripts.data_util.DataUpdater import *\n",
    "Updater = DataUpdater(False)\n",
    "Updater.dump_exist_updaters()\n",
    "Updater.del_exist_updaters()"
   ]
  },
  {
   "cell_type": "code",
   "execution_count": 3,
   "metadata": {},
   "outputs": [
    {
     "name": "stdout",
     "output_type": "stream",
     "text": [
      "['/home/mengkjin/Workspace/SharedFolder/DB_updater.0.h5', '/home/mengkjin/Workspace/SharedFolder/DB_updater.1.h5']\n"
     ]
    }
   ],
   "source": [
    "Updater.del_exist_updaters()"
   ]
  },
  {
   "cell_type": "code",
   "execution_count": 2,
   "metadata": {},
   "outputs": [
    {
     "name": "stdout",
     "output_type": "stream",
     "text": [
      "Tue Jan  2 23:33:45 2024 : DB_updater.0.h5 > data/DB_data/DB_information.h5/./basic/calendar copying Done!\n",
      "Tue Jan  2 23:33:54 2024 : DB_updater.0.h5 > data/DB_data/DB_information.h5/./stock/concepts copying Done!\n",
      "Tue Jan  2 23:33:54 2024 : DB_updater.0.h5 > data/DB_data/DB_information.h5/./stock/description copying Done!\n",
      "Tue Jan  2 23:34:13 2024 : DB_updater.0.h5 > data/DB_data/DB_information.h5/./stock/industry copying Done!\n",
      "Tue Jan  2 23:34:13 2024 : DB_updater.0.h5 > data/DB_data/DB_information.h5/./stock/st copying Done!\n",
      "Tue Jan  2 23:34:13 2024 : DB_updater.1.h5 > data/DB_data/DB_information.h5/./basic/calendar copying Done!\n",
      "Tue Jan  2 23:34:21 2024 : DB_updater.1.h5 > data/DB_data/DB_information.h5/./stock/concepts copying Done!\n",
      "Tue Jan  2 23:34:22 2024 : DB_updater.1.h5 > data/DB_data/DB_information.h5/./stock/description copying Done!\n",
      "Tue Jan  2 23:34:40 2024 : DB_updater.1.h5 > data/DB_data/DB_information.h5/./stock/industry copying Done!\n",
      "Tue Jan  2 23:34:41 2024 : DB_updater.1.h5 > data/DB_data/DB_information.h5/./stock/st copying Done!\n",
      "Tue Jan  2 23:34:41 2024 : DB_updater.1.h5 > data/DB_data/DB_labels/DB_labels.2023.h5/./10days/lag0 copying Done!\n",
      "Tue Jan  2 23:34:41 2024 : DB_updater.1.h5 > data/DB_data/DB_labels/DB_labels.2023.h5/./10days/lag1 copying Done!\n",
      "Tue Jan  2 23:34:41 2024 : DB_updater.1.h5 > data/DB_data/DB_labels/DB_labels.2023.h5/./20days/lag0 copying Done!\n",
      "Tue Jan  2 23:34:41 2024 : DB_updater.1.h5 > data/DB_data/DB_labels/DB_labels.2023.h5/./20days/lag1 copying Done!\n",
      "Tue Jan  2 23:34:41 2024 : DB_updater.1.h5 > data/DB_data/DB_labels/DB_labels.2023.h5/./5days/lag0 copying Done!\n",
      "Tue Jan  2 23:34:41 2024 : DB_updater.1.h5 > data/DB_data/DB_labels/DB_labels.2023.h5/./5days/lag1 copying Done!\n",
      "Tue Jan  2 23:34:41 2024 : DB_updater.1.h5 > data/DB_data/DB_models/DB_models.2023.h5/./alpha_longcl/exposure copying Done!\n",
      "Tue Jan  2 23:34:41 2024 : DB_updater.1.h5 > data/DB_data/DB_models/DB_models.2023.h5/./risk_model/exposure copying Done!\n",
      "Tue Jan  2 23:34:41 2024 : DB_updater.1.h5 > data/DB_data/DB_trade_Xmin/DB_trade_Xmin.2023.h5/./10min/trade copying Done!\n",
      "Tue Jan  2 23:34:42 2024 : DB_updater.1.h5 > data/DB_data/DB_trade_Xmin/DB_trade_Xmin.2023.h5/./15min/trade copying Done!\n",
      "Tue Jan  2 23:34:42 2024 : DB_updater.1.h5 > data/DB_data/DB_trade_Xmin/DB_trade_Xmin.2023.h5/./30min/trade copying Done!\n",
      "Tue Jan  2 23:34:43 2024 : DB_updater.1.h5 > data/DB_data/DB_trade_Xmin/DB_trade_Xmin.2023.h5/./5min/trade copying Done!\n",
      "Tue Jan  2 23:34:43 2024 : DB_updater.1.h5 > data/DB_data/DB_trade_Xmin/DB_trade_Xmin.2023.h5/./60min/trade copying Done!\n",
      "Tue Jan  2 23:34:43 2024 : DB_updater.1.h5 > data/DB_data/DB_trade_day/DB_trade_day.2023.h5/./day/trade copying Done!\n",
      "Tue Jan  2 23:34:50 2024 : DB_updater.1.h5 > data/DB_data/DB_trade_min/DB_trade_min.2023.h5/./minute/trade copying Done!\n"
     ]
    }
   ],
   "source": [
    "Updater.dump_exist_updaters()"
   ]
  }
 ],
 "metadata": {
  "kernelspec": {
   "display_name": "Python 3",
   "language": "python",
   "name": "python3"
  },
  "language_info": {
   "codemirror_mode": {
    "name": "ipython",
    "version": 3
   },
   "file_extension": ".py",
   "mimetype": "text/x-python",
   "name": "python",
   "nbconvert_exporter": "python",
   "pygments_lexer": "ipython3",
   "version": "3.10.12"
  }
 },
 "nbformat": 4,
 "nbformat_minor": 2
}
