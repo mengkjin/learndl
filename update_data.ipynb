{
 "cells": [
  {
   "cell_type": "code",
   "execution_count": 1,
   "metadata": {},
   "outputs": [
    {
     "name": "stdout",
     "output_type": "stream",
     "text": [
      "Merge Update Files\n",
      "Sat Jan 27 22:04:46 2024 : DB_updater.0.h5 > data/DB_data/DB_trade_day/DB_trade_day.2024.h5/./day/trade copying Done!\n",
      "Sat Jan 27 22:04:46 2024 : DB_updater.1.h5 > data/DB_data/DB_information/DB_information.h5/./basic/calendar copying Done!\n",
      "Sat Jan 27 22:04:55 2024 : DB_updater.1.h5 > data/DB_data/DB_information/DB_information.h5/./stock/concepts copying Done!\n",
      "Sat Jan 27 22:04:55 2024 : DB_updater.1.h5 > data/DB_data/DB_information/DB_information.h5/./stock/description copying Done!\n",
      "Sat Jan 27 22:05:14 2024 : DB_updater.1.h5 > data/DB_data/DB_information/DB_information.h5/./stock/industry copying Done!\n",
      "Sat Jan 27 22:05:14 2024 : DB_updater.1.h5 > data/DB_data/DB_information/DB_information.h5/./stock/st copying Done!\n",
      "Sat Jan 27 22:05:14 2024 : DB_updater.1.h5 > data/DB_data/DB_models/DB_models.2024.h5/./alpha_longcl/exposure copying Done!\n",
      "Sat Jan 27 22:05:14 2024 : DB_updater.1.h5 > data/DB_data/DB_models/DB_models.2024.h5/./risk_model/exposure copying Done!\n",
      "Sat Jan 27 22:05:14 2024 : DB_updater.1.h5 > data/DB_data/DB_trade_Xday/DB_trade_Xday.2024.h5/./10day/trade copying Done!\n",
      "Sat Jan 27 22:05:15 2024 : DB_updater.1.h5 > data/DB_data/DB_trade_Xday/DB_trade_Xday.2024.h5/./20day/trade copying Done!\n",
      "Sat Jan 27 22:05:15 2024 : DB_updater.1.h5 > data/DB_data/DB_trade_Xday/DB_trade_Xday.2024.h5/./5day/trade copying Done!\n",
      "Sat Jan 27 22:05:18 2024 : DB_updater.1.h5 > data/DB_data/DB_trade_Xmin/DB_trade_Xmin.2024.h5/./10min/trade copying Done!\n",
      "Sat Jan 27 22:05:19 2024 : DB_updater.1.h5 > data/DB_data/DB_trade_Xmin/DB_trade_Xmin.2024.h5/./15min/trade copying Done!\n",
      "Sat Jan 27 22:05:20 2024 : DB_updater.1.h5 > data/DB_data/DB_trade_Xmin/DB_trade_Xmin.2024.h5/./30min/trade copying Done!\n",
      "Sat Jan 27 22:05:26 2024 : DB_updater.1.h5 > data/DB_data/DB_trade_Xmin/DB_trade_Xmin.2024.h5/./5min/trade copying Done!\n",
      "Sat Jan 27 22:05:26 2024 : DB_updater.1.h5 > data/DB_data/DB_trade_Xmin/DB_trade_Xmin.2024.h5/./60min/trade copying Done!\n",
      "Sat Jan 27 22:05:53 2024 : DB_updater.1.h5 > data/DB_data/DB_trade_min/DB_trade_min.2024.h5/./minute/trade copying Done!\n",
      "Sat Jan 27 22:05:53 2024 : DB_updater.2.h5 > data/DB_data/DB_information/DB_information.h5/./basic/calendar copying Done!\n",
      "Sat Jan 27 22:06:02 2024 : DB_updater.2.h5 > data/DB_data/DB_information/DB_information.h5/./stock/concepts copying Done!\n",
      "Sat Jan 27 22:06:02 2024 : DB_updater.2.h5 > data/DB_data/DB_information/DB_information.h5/./stock/description copying Done!\n",
      "Sat Jan 27 22:06:20 2024 : DB_updater.2.h5 > data/DB_data/DB_information/DB_information.h5/./stock/industry copying Done!\n",
      "Sat Jan 27 22:06:20 2024 : DB_updater.2.h5 > data/DB_data/DB_information/DB_information.h5/./stock/st copying Done!\n",
      "Sat Jan 27 22:06:20 2024 : DB_updater.2.h5 > data/DB_data/DB_labels/DB_labels.2024.h5/./10days/lag0 copying Done!\n",
      "Sat Jan 27 22:06:20 2024 : DB_updater.2.h5 > data/DB_data/DB_labels/DB_labels.2024.h5/./10days/lag1 copying Done!\n",
      "Sat Jan 27 22:06:21 2024 : DB_updater.2.h5 > data/DB_data/DB_labels/DB_labels.2024.h5/./5days/lag0 copying Done!\n",
      "Sat Jan 27 22:06:21 2024 : DB_updater.2.h5 > data/DB_data/DB_labels/DB_labels.2023.h5/./10days/lag0 copying Done!\n",
      "Sat Jan 27 22:06:21 2024 : DB_updater.2.h5 > data/DB_data/DB_labels/DB_labels.2023.h5/./10days/lag1 copying Done!\n",
      "Sat Jan 27 22:06:21 2024 : DB_updater.2.h5 > data/DB_data/DB_labels/DB_labels.2023.h5/./20days/lag0 copying Done!\n",
      "Sat Jan 27 22:06:21 2024 : DB_updater.2.h5 > data/DB_data/DB_labels/DB_labels.2023.h5/./20days/lag1 copying Done!\n",
      "['/home/mengkjin/Workspace/SharedFolder/DB_updater.0.h5', '/home/mengkjin/Workspace/SharedFolder/DB_updater.1.h5', '/home/mengkjin/Workspace/SharedFolder/DB_updater.2.h5']\n",
      "Sat Jan 27 22:07:25 2024 : All Updates Done! Cost 159.03 Secs\n"
     ]
    }
   ],
   "source": [
    "from scripts.data_util.DataUpdater import update_main\n",
    "update_main()"
   ]
  },
  {
   "cell_type": "code",
   "execution_count": 3,
   "metadata": {},
   "outputs": [],
   "source": [
    "from scripts.data_util.DataUpdater import get_target_dates , get_db_path\n",
    "a = get_target_dates(get_db_path('labels') , '/10days/lag0')"
   ]
  },
  {
   "cell_type": "code",
   "execution_count": 4,
   "metadata": {},
   "outputs": [
    {
     "data": {
      "text/plain": [
       "array([20000104, 20000105, 20000106, ..., 20240117, 20240118, 20240119])"
      ]
     },
     "execution_count": 4,
     "metadata": {},
     "output_type": "execute_result"
    }
   ],
   "source": [
    "a"
   ]
  },
  {
   "cell_type": "code",
   "execution_count": null,
   "metadata": {},
   "outputs": [],
   "source": []
  },
  {
   "cell_type": "code",
   "execution_count": null,
   "metadata": {},
   "outputs": [],
   "source": [
    "from scripts.data_util.sqlConnector import online_sql_connector , update_sql_since\n",
    "connector = online_sql_connector()\n",
    "update_sql_since('SellSideFactors' , connector = connector , trace = 0)\n",
    "connector.close_all()\n"
   ]
  },
  {
   "cell_type": "code",
   "execution_count": null,
   "metadata": {},
   "outputs": [],
   "source": [
    "\"\"\"\n",
    "from scripts.data_util.sqlConnector import online_sql_connector ,  update_sql_dates\n",
    "connector = online_sql_connector()\n",
    "update_sql_dates('SellSideFactors' , connector = connector , dates=[20050104])\n",
    "connector.close_all()\n",
    "\n",
    "#from scripts.data_util.DataTank import *\n",
    "#from scripts.data_util.DataUpdater import *\n",
    "#repack_DB_bygroup('data/DB_data/DB_3rdPartySQL.h5' , 'SellSideFactors' , True)\n",
    "\"\"\"\n"
   ]
  }
 ],
 "metadata": {
  "kernelspec": {
   "display_name": "Python 3",
   "language": "python",
   "name": "python3"
  },
  "language_info": {
   "codemirror_mode": {
    "name": "ipython",
    "version": 3
   },
   "file_extension": ".py",
   "mimetype": "text/x-python",
   "name": "python",
   "nbconvert_exporter": "python",
   "pygments_lexer": "ipython3",
   "version": "3.10.12"
  }
 },
 "nbformat": 4,
 "nbformat_minor": 2
}
