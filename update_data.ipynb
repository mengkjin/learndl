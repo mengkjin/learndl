{
 "cells": [
  {
   "cell_type": "code",
   "execution_count": 1,
   "metadata": {},
   "outputs": [
    {
     "data": {
      "text/plain": [
       "['/home/mengkjin/Workspace/SharedFolder/DB_updater.0.h5',\n",
       " '/home/mengkjin/Workspace/SharedFolder/DB_updater.1.h5']"
      ]
     },
     "execution_count": 1,
     "metadata": {},
     "output_type": "execute_result"
    }
   ],
   "source": [
    "from scripts.data_util.DataUpdater import *\n",
    "Updater = DataUpdater(False)\n",
    "Updater.get_updater_paths()"
   ]
  },
  {
   "cell_type": "code",
   "execution_count": 3,
   "metadata": {},
   "outputs": [
    {
     "name": "stdout",
     "output_type": "stream",
     "text": [
      "['/home/mengkjin/Workspace/SharedFolder/DB_updater.0.h5', '/home/mengkjin/Workspace/SharedFolder/DB_updater.1.h5']\n"
     ]
    }
   ],
   "source": [
    "Updater.del_exist_updaters()"
   ]
  },
  {
   "cell_type": "code",
   "execution_count": 7,
   "metadata": {},
   "outputs": [
    {
     "data": {
      "text/plain": [
       "''"
      ]
     },
     "execution_count": 7,
     "metadata": {},
     "output_type": "execute_result"
    }
   ],
   "source": [
    "old_updaters = ['a' * 100,'b' * 99]\n",
    "input(f'''Delete {len(old_updaters)} updaters: (press yes/y) \\n\n",
    "                     {old_updaters}''').lower() "
   ]
  },
  {
   "cell_type": "code",
   "execution_count": 4,
   "metadata": {},
   "outputs": [],
   "source": []
  },
  {
   "cell_type": "code",
   "execution_count": 2,
   "metadata": {},
   "outputs": [
    {
     "name": "stdout",
     "output_type": "stream",
     "text": [
      "Tue Jan  2 23:33:45 2024 : DB_updater.0.h5 > data/DB_data/DB_information.h5/./basic/calendar copying Done!\n",
      "Tue Jan  2 23:33:54 2024 : DB_updater.0.h5 > data/DB_data/DB_information.h5/./stock/concepts copying Done!\n",
      "Tue Jan  2 23:33:54 2024 : DB_updater.0.h5 > data/DB_data/DB_information.h5/./stock/description copying Done!\n",
      "Tue Jan  2 23:34:13 2024 : DB_updater.0.h5 > data/DB_data/DB_information.h5/./stock/industry copying Done!\n",
      "Tue Jan  2 23:34:13 2024 : DB_updater.0.h5 > data/DB_data/DB_information.h5/./stock/st copying Done!\n",
      "Tue Jan  2 23:34:13 2024 : DB_updater.1.h5 > data/DB_data/DB_information.h5/./basic/calendar copying Done!\n",
      "Tue Jan  2 23:34:21 2024 : DB_updater.1.h5 > data/DB_data/DB_information.h5/./stock/concepts copying Done!\n",
      "Tue Jan  2 23:34:22 2024 : DB_updater.1.h5 > data/DB_data/DB_information.h5/./stock/description copying Done!\n",
      "Tue Jan  2 23:34:40 2024 : DB_updater.1.h5 > data/DB_data/DB_information.h5/./stock/industry copying Done!\n",
      "Tue Jan  2 23:34:41 2024 : DB_updater.1.h5 > data/DB_data/DB_information.h5/./stock/st copying Done!\n",
      "Tue Jan  2 23:34:41 2024 : DB_updater.1.h5 > data/DB_data/DB_labels/DB_labels.2023.h5/./10days/lag0 copying Done!\n",
      "Tue Jan  2 23:34:41 2024 : DB_updater.1.h5 > data/DB_data/DB_labels/DB_labels.2023.h5/./10days/lag1 copying Done!\n",
      "Tue Jan  2 23:34:41 2024 : DB_updater.1.h5 > data/DB_data/DB_labels/DB_labels.2023.h5/./20days/lag0 copying Done!\n",
      "Tue Jan  2 23:34:41 2024 : DB_updater.1.h5 > data/DB_data/DB_labels/DB_labels.2023.h5/./20days/lag1 copying Done!\n",
      "Tue Jan  2 23:34:41 2024 : DB_updater.1.h5 > data/DB_data/DB_labels/DB_labels.2023.h5/./5days/lag0 copying Done!\n",
      "Tue Jan  2 23:34:41 2024 : DB_updater.1.h5 > data/DB_data/DB_labels/DB_labels.2023.h5/./5days/lag1 copying Done!\n",
      "Tue Jan  2 23:34:41 2024 : DB_updater.1.h5 > data/DB_data/DB_models/DB_models.2023.h5/./alpha_longcl/exposure copying Done!\n",
      "Tue Jan  2 23:34:41 2024 : DB_updater.1.h5 > data/DB_data/DB_models/DB_models.2023.h5/./risk_model/exposure copying Done!\n",
      "Tue Jan  2 23:34:41 2024 : DB_updater.1.h5 > data/DB_data/DB_trade_Xmin/DB_trade_Xmin.2023.h5/./10min/trade copying Done!\n",
      "Tue Jan  2 23:34:42 2024 : DB_updater.1.h5 > data/DB_data/DB_trade_Xmin/DB_trade_Xmin.2023.h5/./15min/trade copying Done!\n",
      "Tue Jan  2 23:34:42 2024 : DB_updater.1.h5 > data/DB_data/DB_trade_Xmin/DB_trade_Xmin.2023.h5/./30min/trade copying Done!\n",
      "Tue Jan  2 23:34:43 2024 : DB_updater.1.h5 > data/DB_data/DB_trade_Xmin/DB_trade_Xmin.2023.h5/./5min/trade copying Done!\n",
      "Tue Jan  2 23:34:43 2024 : DB_updater.1.h5 > data/DB_data/DB_trade_Xmin/DB_trade_Xmin.2023.h5/./60min/trade copying Done!\n",
      "Tue Jan  2 23:34:43 2024 : DB_updater.1.h5 > data/DB_data/DB_trade_day/DB_trade_day.2023.h5/./day/trade copying Done!\n",
      "Tue Jan  2 23:34:50 2024 : DB_updater.1.h5 > data/DB_data/DB_trade_min/DB_trade_min.2023.h5/./minute/trade copying Done!\n"
     ]
    }
   ],
   "source": [
    "Updater.dump_exist_updaters()"
   ]
  },
  {
   "cell_type": "code",
   "execution_count": 4,
   "metadata": {},
   "outputs": [
    {
     "data": {
      "text/plain": [
       "'data/DB_data/DB_information.h5'"
      ]
     },
     "execution_count": 4,
     "metadata": {},
     "output_type": "execute_result"
    }
   ],
   "source": [
    "absp = '/home/mengkjin/Workspace/learndl/scripts/util/../../data/./DB_data/DB_information.h5'\n",
    "os.path.relpath(absp)"
   ]
  },
  {
   "cell_type": "code",
   "execution_count": 4,
   "metadata": {},
   "outputs": [
    {
     "ename": "FileNotFoundError",
     "evalue": "[Errno 2] No such file or directory: 'DB_data'",
     "output_type": "error",
     "traceback": [
      "\u001b[0;31m---------------------------------------------------------------------------\u001b[0m",
      "\u001b[0;31mFileNotFoundError\u001b[0m                         Traceback (most recent call last)",
      "Cell \u001b[0;32mIn[4], line 1\u001b[0m\n\u001b[0;32m----> 1\u001b[0m \u001b[43mUpdater\u001b[49m\u001b[38;5;241;43m.\u001b[39;49m\u001b[43mdump_exists_updaters\u001b[49m\u001b[43m(\u001b[49m\u001b[43m)\u001b[49m\n",
      "File \u001b[0;32m~/Workspace/learndl/scripts/data_util/DataUpdater.py:252\u001b[0m, in \u001b[0;36mDataUpdater.dump_exists_updaters\u001b[0;34m(self)\u001b[0m\n\u001b[1;32m    251\u001b[0m \u001b[38;5;28;01mdef\u001b[39;00m \u001b[38;5;21mdump_exists_updaters\u001b[39m(\u001b[38;5;28mself\u001b[39m):\n\u001b[0;32m--> 252\u001b[0m     old_updaters \u001b[38;5;241m=\u001b[39m \u001b[38;5;28;43mself\u001b[39;49m\u001b[38;5;241;43m.\u001b[39;49m\u001b[43m_get_updater_path\u001b[49m\u001b[43m(\u001b[49m\u001b[43m)\u001b[49m\n\u001b[1;32m    253\u001b[0m     updater \u001b[38;5;241m=\u001b[39m \u001b[38;5;28;01mNone\u001b[39;00m\n\u001b[1;32m    254\u001b[0m     \u001b[38;5;28;01mtry\u001b[39;00m:\n",
      "File \u001b[0;32m~/Workspace/learndl/scripts/data_util/DataUpdater.py:54\u001b[0m, in \u001b[0;36mDataUpdater._get_updater_path\u001b[0;34m(self, title)\u001b[0m\n\u001b[1;32m     53\u001b[0m \u001b[38;5;28;01mdef\u001b[39;00m \u001b[38;5;21m_get_updater_path\u001b[39m(\u001b[38;5;28mself\u001b[39m , title \u001b[38;5;241m=\u001b[39m \u001b[38;5;124m'\u001b[39m\u001b[38;5;124mDB_updater\u001b[39m\u001b[38;5;124m'\u001b[39m):\n\u001b[0;32m---> 54\u001b[0m     \u001b[38;5;28;01mreturn\u001b[39;00m [outer_path_join(DIR_data , \u001b[38;5;28mself\u001b[39m\u001b[38;5;241m.\u001b[39mDIR_db , path) \u001b[38;5;28;01mfor\u001b[39;00m path \u001b[38;5;129;01min\u001b[39;00m \u001b[43mos\u001b[49m\u001b[38;5;241;43m.\u001b[39;49m\u001b[43mlistdir\u001b[49m\u001b[43m(\u001b[49m\u001b[38;5;28;43mself\u001b[39;49m\u001b[38;5;241;43m.\u001b[39;49m\u001b[43mDIR_db\u001b[49m\u001b[43m)\u001b[49m \u001b[38;5;28;01mif\u001b[39;00m path\u001b[38;5;241m.\u001b[39mstartswith(title \u001b[38;5;241m+\u001b[39m \u001b[38;5;124m'\u001b[39m\u001b[38;5;124m.\u001b[39m\u001b[38;5;124m'\u001b[39m)]\n",
      "\u001b[0;31mFileNotFoundError\u001b[0m: [Errno 2] No such file or directory: 'DB_data'"
     ]
    }
   ],
   "source": [
    "Updater.dump_exists_updaters()"
   ]
  }
 ],
 "metadata": {
  "kernelspec": {
   "display_name": "Python 3",
   "language": "python",
   "name": "python3"
  },
  "language_info": {
   "codemirror_mode": {
    "name": "ipython",
    "version": 3
   },
   "file_extension": ".py",
   "mimetype": "text/x-python",
   "name": "python",
   "nbconvert_exporter": "python",
   "pygments_lexer": "ipython3",
   "version": "3.10.12"
  }
 },
 "nbformat": 4,
 "nbformat_minor": 2
}
