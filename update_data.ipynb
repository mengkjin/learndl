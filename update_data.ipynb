{
 "cells": [
  {
   "cell_type": "code",
   "execution_count": 1,
   "metadata": {},
   "outputs": [
    {
     "name": "stdout",
     "output_type": "stream",
     "text": [
      "Merge Update Files\n",
      "Fri Jan  5 00:45:27 2024 : DB_updater.0.h5 > data/DB_data/DB_information/DB_information.h5/./basic/calendar copying Done!\n",
      "Fri Jan  5 00:45:37 2024 : DB_updater.0.h5 > data/DB_data/DB_information/DB_information.h5/./stock/concepts copying Done!\n",
      "Fri Jan  5 00:45:37 2024 : DB_updater.0.h5 > data/DB_data/DB_information/DB_information.h5/./stock/description copying Done!\n",
      "Fri Jan  5 00:45:57 2024 : DB_updater.0.h5 > data/DB_data/DB_information/DB_information.h5/./stock/industry copying Done!\n",
      "Fri Jan  5 00:45:58 2024 : DB_updater.0.h5 > data/DB_data/DB_information/DB_information.h5/./stock/st copying Done!\n",
      "Fri Jan  5 00:45:58 2024 : DB_updater.0.h5 > data/DB_data/DB_labels/DB_labels.2023.h5/./10days/lag0 copying Done!\n",
      "Fri Jan  5 00:45:58 2024 : DB_updater.0.h5 > data/DB_data/DB_labels/DB_labels.2023.h5/./10days/lag1 copying Done!\n",
      "Fri Jan  5 00:45:58 2024 : DB_updater.0.h5 > data/DB_data/DB_labels/DB_labels.2023.h5/./20days/lag0 copying Done!\n",
      "Fri Jan  5 00:45:58 2024 : DB_updater.0.h5 > data/DB_data/DB_labels/DB_labels.2023.h5/./20days/lag1 copying Done!\n",
      "Fri Jan  5 00:45:58 2024 : DB_updater.0.h5 > data/DB_data/DB_labels/DB_labels.2023.h5/./5days/lag0 copying Done!\n",
      "Fri Jan  5 00:45:58 2024 : DB_updater.0.h5 > data/DB_data/DB_labels/DB_labels.2023.h5/./5days/lag1 copying Done!\n",
      "Fri Jan  5 00:45:58 2024 : DB_updater.0.h5 > data/DB_data/DB_models/DB_models.2023.h5/./alpha_longcl/exposure copying Done!\n",
      "Fri Jan  5 00:45:58 2024 : DB_updater.0.h5 > data/DB_data/DB_models/DB_models.2024.h5/./risk_model/exposure copying Done!\n",
      "Fri Jan  5 00:45:59 2024 : DB_updater.0.h5 > data/DB_data/DB_trade_Xmin/DB_trade_Xmin.2024.h5/./10min/trade copying Done!\n",
      "Fri Jan  5 00:45:59 2024 : DB_updater.0.h5 > data/DB_data/DB_trade_Xmin/DB_trade_Xmin.2024.h5/./15min/trade copying Done!\n",
      "Fri Jan  5 00:45:59 2024 : DB_updater.0.h5 > data/DB_data/DB_trade_Xmin/DB_trade_Xmin.2024.h5/./30min/trade copying Done!\n",
      "Fri Jan  5 00:46:01 2024 : DB_updater.0.h5 > data/DB_data/DB_trade_Xmin/DB_trade_Xmin.2024.h5/./5min/trade copying Done!\n",
      "Fri Jan  5 00:46:01 2024 : DB_updater.0.h5 > data/DB_data/DB_trade_Xmin/DB_trade_Xmin.2024.h5/./60min/trade copying Done!\n",
      "Fri Jan  5 00:46:01 2024 : DB_updater.0.h5 > data/DB_data/DB_trade_day/DB_trade_day.2024.h5/./day/trade copying Done!\n",
      "Fri Jan  5 00:46:08 2024 : DB_updater.0.h5 > data/DB_data/DB_trade_min/DB_trade_min.2024.h5/./minute/trade copying Done!\n",
      "Fri Jan  5 00:46:13 2024 : All Updates Done! Cost 45.75 Secs\n"
     ]
    }
   ],
   "source": [
    "from scripts.data_util.DataUpdater import update_main\n",
    "update_main()\n"
   ]
  },
  {
   "cell_type": "code",
   "execution_count": null,
   "metadata": {},
   "outputs": [],
   "source": [
    "from scripts.data_util.sqlConnector import online_sql_connector ,  update_sql_dates\n",
    "connector = online_sql_connector()\n",
    "update_sql_dates('SellSideFactors' , connector = connector , dates=[20050104])\n",
    "connector.close_all()\n"
   ]
  },
  {
   "cell_type": "code",
   "execution_count": 2,
   "metadata": {},
   "outputs": [
    {
     "name": "stdout",
     "output_type": "stream",
     "text": [
      "└── minute <HDF5 group \"/minute\" (1 members)>\n",
      "    └── trade <HDF5 group \"/minute/trade\" (3 members)>\n",
      "        ├── 20240102 <HDF5 group \"/minute/trade/20240102\" (3 members)> (feature, secid, values)\n",
      "        ├── 20240103 <HDF5 group \"/minute/trade/20240103\" (3 members)> (feature, secid, values)\n",
      "        └── 20240104 <HDF5 group \"/minute/trade/20240104\" (3 members)> (feature, secid, values)\n"
     ]
    }
   ],
   "source": [
    "from scripts.data_util.DataTank import DataTank\n",
    "dtank = DataTank('data/DB_data/DB_trade_min/DB_trade_min.2024.h5','r')\n",
    "dtank.print_tree()"
   ]
  }
 ],
 "metadata": {
  "kernelspec": {
   "display_name": "Python 3",
   "language": "python",
   "name": "python3"
  },
  "language_info": {
   "codemirror_mode": {
    "name": "ipython",
    "version": 3
   },
   "file_extension": ".py",
   "mimetype": "text/x-python",
   "name": "python",
   "nbconvert_exporter": "python",
   "pygments_lexer": "ipython3",
   "version": "3.10.12"
  }
 },
 "nbformat": 4,
 "nbformat_minor": 2
}
