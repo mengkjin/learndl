{
 "cells": [
  {
   "cell_type": "code",
   "execution_count": 3,
   "metadata": {},
   "outputs": [
    {
     "name": "stdout",
     "output_type": "stream",
     "text": [
      "Merge Update Files\n",
      "[]\n",
      "Sat Jan  6 08:30:37 2024 : All Updates Done! Cost 12.36 Secs\n"
     ]
    }
   ],
   "source": [
    "from scripts.data_util.DataUpdater import update_main\n",
    "update_main()\n"
   ]
  },
  {
   "cell_type": "code",
   "execution_count": 7,
   "metadata": {},
   "outputs": [
    {
     "name": "stdout",
     "output_type": "stream",
     "text": [
      "Sat Jan  6 11:08:37 2024 : haitong/hf_factors since 20240105 to 20240106, total 1 periods(Q)\n",
      "Sat Jan  6 11:08:43 2024 : haitong/dl_factors since 20240105 to 20240106, total 1 periods(Q)\n",
      "Sat Jan  6 11:09:40 2024 : dongfang/hfq_chars since 20240105 to 20240106, total 1 periods(Q)\n",
      "Sat Jan  6 11:09:42 2024 : dongfang/l2_chars since 20240105 to 20240106, total 1 periods(Q)\n",
      "Sat Jan  6 11:09:57 2024 : dongfang/ms_chars since 20240105 to 20240106, total 1 periods(Q)\n",
      "Sat Jan  6 11:10:21 2024 : dongfang/order_flow since 20240105 to 20240106, total 1 periods(Q)\n",
      "Sat Jan  6 11:10:22 2024 : dongfang/gp since 20240104 to 20240106, total 1 periods(Q)\n",
      "Sat Jan  6 11:10:24 2024 : dongfang/tra since 20240104 to 20240106, total 1 periods(Q)\n",
      "Sat Jan  6 11:10:26 2024 : dongfang/scores_v0 since 20240105 to 20240106, total 1 periods(Q)\n",
      "Sat Jan  6 11:10:27 2024 : kaiyuan/positive since 20240101 to 20240106, total 1 periods(Q)\n",
      "Sat Jan  6 11:10:29 2024 : kaiyuan/negative since 20231230 to 20240106, total 1 periods(Q)\n",
      "├── dongfang <HDF5 group \"/dongfang\" (7 members)>\n",
      "│   ├── gp <HDF5 group \"/dongfang/gp\" (4 members)>\n",
      "│   │   ├── 20240102 <HDF5 group \"/dongfang/gp/20240102\" (3 members)> (feature, secid, values)\n",
      "│   │   ├── 20240103 <HDF5 group \"/dongfang/gp/20240103\" (3 members)> (feature, secid, values)\n",
      "│   │   ├── 20240104 <HDF5 group \"/dongfang/gp/20240104\" (3 members)> (feature, secid, values)\n",
      "│   │   └── 20240105 <HDF5 group \"/dongfang/gp/20240105\" (3 members)> (feature, secid, values)\n",
      "│   ├── hfq_chars <HDF5 group \"/dongfang/hfq_chars\" (4 members)>\n",
      "│   │   ├── 20240102 <HDF5 group \"/dongfang/hfq_chars/20240102\" (3 members)> (feature, secid, values)\n",
      "│   │   ├── 20240103 <HDF5 group \"/dongfang/hfq_chars/20240103\" (3 members)> (feature, secid, values)\n",
      "│   │   ├── 20240104 <HDF5 group \"/dongfang/hfq_chars/20240104\" (3 members)> (feature, secid, values)\n",
      "│   │   └── 20240105 <HDF5 group \"/dongfang/hfq_chars/20240105\" (3 members)> (feature, secid, values)\n",
      "│   ├── l2_chars <HDF5 group \"/dongfang/l2_chars\" (4 members)>\n",
      "│   │   ├── 20240102 <HDF5 group \"/dongfang/l2_chars/20240102\" (3 members)> (feature, secid, values)\n",
      "│   │   ├── 20240103 <HDF5 group \"/dongfang/l2_chars/20240103\" (3 members)> (feature, secid, values)\n",
      "│   │   ├── 20240104 <HDF5 group \"/dongfang/l2_chars/20240104\" (3 members)> (feature, secid, values)\n",
      "│   │   └── 20240105 <HDF5 group \"/dongfang/l2_chars/20240105\" (3 members)> (feature, secid, values)\n",
      "│   ├── ms_chars <HDF5 group \"/dongfang/ms_chars\" (4 members)>\n",
      "│   │   ├── 20240102 <HDF5 group \"/dongfang/ms_chars/20240102\" (3 members)> (feature, secid, values)\n",
      "│   │   ├── 20240103 <HDF5 group \"/dongfang/ms_chars/20240103\" (3 members)> (feature, secid, values)\n",
      "│   │   ├── 20240104 <HDF5 group \"/dongfang/ms_chars/20240104\" (3 members)> (feature, secid, values)\n",
      "│   │   └── 20240105 <HDF5 group \"/dongfang/ms_chars/20240105\" (3 members)> (feature, secid, values)\n",
      "│   ├── order_flow <HDF5 group \"/dongfang/order_flow\" (4 members)>\n",
      "│   │   ├── 20240102 <HDF5 group \"/dongfang/order_flow/20240102\" (3 members)> (feature, secid, values)\n",
      "│   │   ├── 20240103 <HDF5 group \"/dongfang/order_flow/20240103\" (3 members)> (feature, secid, values)\n",
      "│   │   ├── 20240104 <HDF5 group \"/dongfang/order_flow/20240104\" (3 members)> (feature, secid, values)\n",
      "│   │   └── 20240105 <HDF5 group \"/dongfang/order_flow/20240105\" (3 members)> (feature, secid, values)\n",
      "│   ├── scores_v0 <HDF5 group \"/dongfang/scores_v0\" (4 members)>\n",
      "│   │   ├── 20240102 <HDF5 group \"/dongfang/scores_v0/20240102\" (3 members)> (feature, secid, values)\n",
      "│   │   ├── 20240103 <HDF5 group \"/dongfang/scores_v0/20240103\" (3 members)> (feature, secid, values)\n",
      "│   │   ├── 20240104 <HDF5 group \"/dongfang/scores_v0/20240104\" (3 members)> (feature, secid, values)\n",
      "│   │   └── 20240105 <HDF5 group \"/dongfang/scores_v0/20240105\" (3 members)> (feature, secid, values)\n",
      "│   └── tra <HDF5 group \"/dongfang/tra\" (4 members)>\n",
      "│       ├── 20240102 <HDF5 group \"/dongfang/tra/20240102\" (3 members)> (feature, secid, values)\n",
      "│       ├── 20240103 <HDF5 group \"/dongfang/tra/20240103\" (3 members)> (feature, secid, values)\n",
      "│       ├── 20240104 <HDF5 group \"/dongfang/tra/20240104\" (3 members)> (feature, secid, values)\n",
      "│       └── 20240105 <HDF5 group \"/dongfang/tra/20240105\" (3 members)> (feature, secid, values)\n",
      "└── haitong <HDF5 group \"/haitong\" (2 members)>\n",
      "    ├── dl_factors <HDF5 group \"/haitong/dl_factors\" (4 members)>\n",
      "    │   ├── 20240102 <HDF5 group \"/haitong/dl_factors/20240102\" (3 members)> (feature, secid, values)\n",
      "    │   ├── 20240103 <HDF5 group \"/haitong/dl_factors/20240103\" (3 members)> (feature, secid, values)\n",
      "    │   ├── 20240104 <HDF5 group \"/haitong/dl_factors/20240104\" (3 members)> (feature, secid, values)\n",
      "    │   └── 20240105 <HDF5 group \"/haitong/dl_factors/20240105\" (3 members)> (feature, secid, values)\n",
      "    └── hf_factors <HDF5 group \"/haitong/hf_factors\" (4 members)>\n",
      "        ├── 20240102 <HDF5 group \"/haitong/hf_factors/20240102\" (3 members)> (feature, secid, values)\n",
      "        ├── 20240103 <HDF5 group \"/haitong/hf_factors/20240103\" (3 members)> (feature, secid, values)\n",
      "        ├── 20240104 <HDF5 group \"/haitong/hf_factors/20240104\" (3 members)> (feature, secid, values)\n",
      "        └── 20240105 <HDF5 group \"/haitong/hf_factors/20240105\" (3 members)> (feature, secid, values)\n"
     ]
    }
   ],
   "source": [
    "from scripts.data_util.sqlConnector import online_sql_connector , update_sql_since\n",
    "connector = online_sql_connector()\n",
    "update_sql_since('SellSideFactors' , connector = connector , trace = 0)\n",
    "connector.close_all()\n",
    "\n",
    "\n"
   ]
  },
  {
   "cell_type": "code",
   "execution_count": null,
   "metadata": {},
   "outputs": [],
   "source": [
    "\"\"\"\n",
    "from scripts.data_util.sqlConnector import online_sql_connector ,  update_sql_dates\n",
    "connector = online_sql_connector()\n",
    "update_sql_dates('SellSideFactors' , connector = connector , dates=[20050104])\n",
    "connector.close_all()\n",
    "\n",
    "#from scripts.data_util.DataTank import *\n",
    "#from scripts.data_util.DataUpdater import *\n",
    "#repack_DB_bygroup('data/DB_data/DB_3rdPartySQL.h5' , 'SellSideFactors' , True)\n",
    "\"\"\"\n"
   ]
  }
 ],
 "metadata": {
  "kernelspec": {
   "display_name": "Python 3",
   "language": "python",
   "name": "python3"
  },
  "language_info": {
   "codemirror_mode": {
    "name": "ipython",
    "version": 3
   },
   "file_extension": ".py",
   "mimetype": "text/x-python",
   "name": "python",
   "nbconvert_exporter": "python",
   "pygments_lexer": "ipython3",
   "version": "3.10.12"
  }
 },
 "nbformat": 4,
 "nbformat_minor": 2
}
