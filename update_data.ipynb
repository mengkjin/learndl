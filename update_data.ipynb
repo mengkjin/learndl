{
 "cells": [
  {
   "cell_type": "code",
   "execution_count": 1,
   "metadata": {},
   "outputs": [
    {
     "name": "stdout",
     "output_type": "stream",
     "text": [
      "Create Update Files\n",
      "Mon Feb 19 23:55:51 2024 : UPDATER ~ data\\DB_data\\DB_information/basic/calendar Done! Cost 0.01 Secs\n",
      "Mon Feb 19 23:55:51 2024 : UPDATER ~ data\\DB_data\\DB_information/stock/description Done! Cost 0.03 Secs\n",
      "Mon Feb 19 23:55:51 2024 : UPDATER ~ data\\DB_data\\DB_information/stock/st Done! Cost 0.03 Secs\n",
      "Mon Feb 19 23:55:59 2024 : UPDATER ~ data\\DB_data\\DB_information/stock/industry Done! Cost 7.65 Secs\n",
      "Mon Feb 19 23:56:07 2024 : UPDATER ~ data\\DB_data\\DB_information/stock/concepts Done! Cost 8.11 Secs\n",
      "Mon Feb 19 23:56:08 2024 : UPDATER ~ data\\DB_data\\DB_models\\DB_models.2024.h5/risk_model/exposure of 5 dates Done! Cost 0.62 Secs\n",
      "Mon Feb 19 23:56:08 2024 : UPDATER ~ data\\DB_data\\DB_models\\DB_models.2024.h5/alpha_longcl/exposure of 5 dates Done! Cost 0.88 Secs\n",
      "Mon Feb 19 23:56:09 2024 : UPDATER ~ data\\DB_data\\DB_trade_day\\DB_trade_day.2024.h5/day/trade of 5 dates Done! Cost 0.76 Secs\n",
      "Mon Feb 19 23:56:11 2024 : UPDATER ~ data\\DB_data\\DB_trade_Xday\\DB_trade_Xday.2024.h5/5day/trade of 5 dates Done! Cost 1.25 Secs\n",
      "Mon Feb 19 23:56:12 2024 : UPDATER ~ data\\DB_data\\DB_trade_Xday\\DB_trade_Xday.2024.h5/10day/trade of 5 dates Done! Cost 1.27 Secs\n",
      "Mon Feb 19 23:56:13 2024 : UPDATER ~ data\\DB_data\\DB_trade_Xday\\DB_trade_Xday.2024.h5/20day/trade of 5 dates Done! Cost 1.44 Secs\n",
      "Mon Feb 19 23:56:39 2024 : UPDATER ~ data\\DB_data\\DB_trade_min\\DB_trade_min.2024.h5/minute/trade of 5 dates Done! Cost 26.02 Secs\n",
      "Mon Feb 19 23:56:45 2024 : UPDATER ~ data\\DB_data\\DB_trade_Xmin\\DB_trade_Xmin.2024.h5/5min/trade of 5 dates Done! Cost 5.56 Secs\n",
      "Mon Feb 19 23:56:49 2024 : UPDATER ~ data\\DB_data\\DB_trade_Xmin\\DB_trade_Xmin.2024.h5/10min/trade of 5 dates Done! Cost 4.34 Secs\n",
      "Mon Feb 19 23:56:53 2024 : UPDATER ~ data\\DB_data\\DB_trade_Xmin\\DB_trade_Xmin.2024.h5/15min/trade of 5 dates Done! Cost 3.98 Secs\n",
      "Mon Feb 19 23:56:57 2024 : UPDATER ~ data\\DB_data\\DB_trade_Xmin\\DB_trade_Xmin.2024.h5/30min/trade of 5 dates Done! Cost 3.45 Secs\n",
      "Mon Feb 19 23:57:00 2024 : UPDATER ~ data\\DB_data\\DB_trade_Xmin\\DB_trade_Xmin.2024.h5/60min/trade of 5 dates Done! Cost 3.21 Secs\n",
      "Mon Feb 19 23:57:02 2024 : UPDATER ~ data\\DB_data\\DB_labels\\DB_labels.2024.h5/5days/lag1 of 5 dates Done! Cost 2.53 Secs\n",
      "Mon Feb 19 23:57:04 2024 : UPDATER ~ data\\DB_data\\DB_labels\\DB_labels.2024.h5/5days/lag0 of 5 dates Done! Cost 2.18 Secs\n",
      "Mon Feb 19 23:57:08 2024 : UPDATER ~ data\\DB_data\\DB_labels\\DB_labels.2024.h5/10days/lag1 of 5 dates Done! Cost 3.38 Secs\n",
      "Mon Feb 19 23:57:11 2024 : UPDATER ~ data\\DB_data\\DB_labels\\DB_labels.2024.h5/10days/lag0 of 5 dates Done! Cost 3.12 Secs\n",
      "Mon Feb 19 23:57:16 2024 : UPDATER ~ data\\DB_data\\DB_labels\\DB_labels.2024.h5/20days/lag1 of 5 dates Done! Cost 5.35 Secs\n",
      "Mon Feb 19 23:57:22 2024 : UPDATER ~ data\\DB_data\\DB_labels\\DB_labels.2024.h5/20days/lag0 of 5 dates Done! Cost 5.26 Secs\n",
      "Mon Feb 19 23:57:22 2024 : DB_updater.0.h5 > data\\DB_data\\DB_information\\DB_information.h5/./basic/calendar copying Done!\n",
      "Mon Feb 19 23:57:32 2024 : DB_updater.0.h5 > data\\DB_data\\DB_information\\DB_information.h5/./stock/concepts copying Done!\n",
      "Mon Feb 19 23:57:32 2024 : DB_updater.0.h5 > data\\DB_data\\DB_information\\DB_information.h5/./stock/description copying Done!\n",
      "Mon Feb 19 23:58:00 2024 : DB_updater.0.h5 > data\\DB_data\\DB_information\\DB_information.h5/./stock/industry copying Done!\n",
      "Mon Feb 19 23:58:00 2024 : DB_updater.0.h5 > data\\DB_data\\DB_information\\DB_information.h5/./stock/st copying Done!\n",
      "Mon Feb 19 23:58:00 2024 : DB_updater.0.h5 > data\\DB_data\\DB_models\\DB_models.2024.h5/./alpha_longcl/exposure copying Done!\n",
      "Mon Feb 19 23:58:00 2024 : DB_updater.0.h5 > data\\DB_data\\DB_models\\DB_models.2024.h5/./risk_model/exposure copying Done!\n",
      "Mon Feb 19 23:58:00 2024 : DB_updater.0.h5 > data\\DB_data\\DB_trade_day\\DB_trade_day.2024.h5/./day/trade copying Done!\n",
      "Mon Feb 19 23:58:00 2024 : DB_updater.0.h5 > data\\DB_data\\DB_trade_Xday\\DB_trade_Xday.2024.h5/./10day/trade copying Done!\n",
      "Mon Feb 19 23:58:00 2024 : DB_updater.0.h5 > data\\DB_data\\DB_trade_Xday\\DB_trade_Xday.2024.h5/./20day/trade copying Done!\n",
      "Mon Feb 19 23:58:00 2024 : DB_updater.0.h5 > data\\DB_data\\DB_trade_Xday\\DB_trade_Xday.2024.h5/./5day/trade copying Done!\n",
      "Mon Feb 19 23:58:12 2024 : DB_updater.0.h5 > data\\DB_data\\DB_trade_min\\DB_trade_min.2024.h5/./minute/trade copying Done!\n",
      "Mon Feb 19 23:58:13 2024 : DB_updater.0.h5 > data\\DB_data\\DB_trade_Xmin\\DB_trade_Xmin.2024.h5/./10min/trade copying Done!\n",
      "Mon Feb 19 23:58:14 2024 : DB_updater.0.h5 > data\\DB_data\\DB_trade_Xmin\\DB_trade_Xmin.2024.h5/./15min/trade copying Done!\n",
      "Mon Feb 19 23:58:14 2024 : DB_updater.0.h5 > data\\DB_data\\DB_trade_Xmin\\DB_trade_Xmin.2024.h5/./30min/trade copying Done!\n",
      "Mon Feb 19 23:58:17 2024 : DB_updater.0.h5 > data\\DB_data\\DB_trade_Xmin\\DB_trade_Xmin.2024.h5/./5min/trade copying Done!\n",
      "Mon Feb 19 23:58:17 2024 : DB_updater.0.h5 > data\\DB_data\\DB_trade_Xmin\\DB_trade_Xmin.2024.h5/./60min/trade copying Done!\n",
      "Mon Feb 19 23:58:17 2024 : DB_updater.0.h5 > data\\DB_data\\DB_labels\\DB_labels.2024.h5/./10days/lag0 copying Done!\n",
      "Mon Feb 19 23:58:17 2024 : DB_updater.0.h5 > data\\DB_data\\DB_labels\\DB_labels.2024.h5/./10days/lag1 copying Done!\n",
      "Mon Feb 19 23:58:17 2024 : DB_updater.0.h5 > data\\DB_data\\DB_labels\\DB_labels.2024.h5/./20days/lag0 copying Done!\n",
      "Mon Feb 19 23:58:17 2024 : DB_updater.0.h5 > data\\DB_data\\DB_labels\\DB_labels.2024.h5/./20days/lag1 copying Done!\n",
      "Mon Feb 19 23:58:17 2024 : DB_updater.0.h5 > data\\DB_data\\DB_labels\\DB_labels.2024.h5/./5days/lag0 copying Done!\n",
      "Mon Feb 19 23:58:17 2024 : DB_updater.0.h5 > data\\DB_data\\DB_labels\\DB_labels.2024.h5/./5days/lag1 copying Done!\n",
      "Mon Feb 19 23:58:17 2024 : All Updates Done! Cost 145.78 Secs\n"
     ]
    }
   ],
   "source": [
    "from scripts.data_util.DataUpdater import update_main\n",
    "update_main()"
   ]
  },
  {
   "cell_type": "code",
   "execution_count": 3,
   "metadata": {},
   "outputs": [],
   "source": [
    "from scripts.data_util.DataUpdater import get_target_dates , get_db_path\n",
    "a = get_target_dates(get_db_path('labels') , '/10days/lag0')"
   ]
  },
  {
   "cell_type": "code",
   "execution_count": 4,
   "metadata": {},
   "outputs": [
    {
     "data": {
      "text/plain": [
       "array([20000104, 20000105, 20000106, ..., 20240117, 20240118, 20240119])"
      ]
     },
     "execution_count": 4,
     "metadata": {},
     "output_type": "execute_result"
    }
   ],
   "source": [
    "a"
   ]
  },
  {
   "cell_type": "code",
   "execution_count": null,
   "metadata": {},
   "outputs": [],
   "source": []
  },
  {
   "cell_type": "code",
   "execution_count": null,
   "metadata": {},
   "outputs": [],
   "source": [
    "from scripts.data_util.sqlConnector import online_sql_connector , update_sql_since\n",
    "connector = online_sql_connector()\n",
    "update_sql_since('SellSideFactors' , connector = connector , trace = 0)\n",
    "connector.close_all()\n"
   ]
  },
  {
   "cell_type": "code",
   "execution_count": null,
   "metadata": {},
   "outputs": [],
   "source": [
    "\"\"\"\n",
    "from scripts.data_util.sqlConnector import online_sql_connector ,  update_sql_dates\n",
    "connector = online_sql_connector()\n",
    "update_sql_dates('SellSideFactors' , connector = connector , dates=[20050104])\n",
    "connector.close_all()\n",
    "\n",
    "#from scripts.data_util.DataTank import *\n",
    "#from scripts.data_util.DataUpdater import *\n",
    "#repack_DB_bygroup('data/DB_data/DB_3rdPartySQL.h5' , 'SellSideFactors' , True)\n",
    "\"\"\"\n"
   ]
  }
 ],
 "metadata": {
  "kernelspec": {
   "display_name": "Python 3",
   "language": "python",
   "name": "python3"
  },
  "language_info": {
   "codemirror_mode": {
    "name": "ipython",
    "version": 3
   },
   "file_extension": ".py",
   "mimetype": "text/x-python",
   "name": "python",
   "nbconvert_exporter": "python",
   "pygments_lexer": "ipython3",
   "version": "3.8.5"
  }
 },
 "nbformat": 4,
 "nbformat_minor": 2
}
