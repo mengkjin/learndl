{
 "cells": [
  {
   "cell_type": "code",
   "execution_count": 1,
   "id": "9040d9b1",
   "metadata": {},
   "outputs": [
    {
     "data": {
      "text/plain": [
       "{'x': {'day': initiated <class 'scripts.data_util.ModelData.DataBlock'>\n",
       "  values shape torch.Size([5325, 4137, 1, 6])},\n",
       " 'y': initiated <class 'scripts.data_util.ModelData.DataBlock'>\n",
       " values shape torch.Size([5325, 4137, 1, 2]),\n",
       " 'norms': {'day': {'avg': tensor([[1.0101, 1.0080, 1.0101, 1.0083, 1.6992, 1.0091],\n",
       "           [1.0100, 1.0088, 1.0105, 1.0092, 1.7113, 1.0098],\n",
       "           [1.0100, 1.0087, 1.0098, 1.0089, 1.7025, 1.0094],\n",
       "           [1.0093, 1.0081, 1.0095, 1.0088, 1.6889, 1.0089],\n",
       "           [1.0083, 1.0078, 1.0089, 1.0085, 1.6949, 1.0083],\n",
       "           [1.0093, 1.0071, 1.0092, 1.0074, 1.6717, 1.0083],\n",
       "           [1.0092, 1.0079, 1.0096, 1.0083, 1.6842, 1.0089],\n",
       "           [1.0091, 1.0077, 1.0089, 1.0079, 1.6727, 1.0085],\n",
       "           [1.0085, 1.0072, 1.0087, 1.0079, 1.6647, 1.0080],\n",
       "           [1.0075, 1.0069, 1.0080, 1.0075, 1.6606, 1.0074],\n",
       "           [1.0085, 1.0062, 1.0084, 1.0065, 1.6523, 1.0074],\n",
       "           [1.0084, 1.0071, 1.0087, 1.0074, 1.6655, 1.0081],\n",
       "           [1.0083, 1.0069, 1.0080, 1.0071, 1.6545, 1.0077],\n",
       "           [1.0078, 1.0064, 1.0079, 1.0071, 1.6396, 1.0072],\n",
       "           [1.0067, 1.0061, 1.0073, 1.0068, 1.6362, 1.0066],\n",
       "           [1.0077, 1.0055, 1.0076, 1.0057, 1.6252, 1.0067],\n",
       "           [1.0076, 1.0063, 1.0080, 1.0067, 1.6356, 1.0073],\n",
       "           [1.0075, 1.0062, 1.0073, 1.0064, 1.6314, 1.0070],\n",
       "           [1.0070, 1.0057, 1.0071, 1.0063, 1.6202, 1.0064],\n",
       "           [1.0060, 1.0054, 1.0066, 1.0061, 1.6160, 1.0060],\n",
       "           [1.0071, 1.0049, 1.0071, 1.0052, 1.6013, 1.0061],\n",
       "           [1.0070, 1.0057, 1.0074, 1.0061, 1.6066, 1.0067],\n",
       "           [1.0069, 1.0056, 1.0068, 1.0058, 1.5994, 1.0064],\n",
       "           [1.0065, 1.0052, 1.0067, 1.0059, 1.5895, 1.0060],\n",
       "           [1.0056, 1.0050, 1.0062, 1.0056, 1.5956, 1.0055],\n",
       "           [1.0066, 1.0045, 1.0067, 1.0047, 1.5764, 1.0057],\n",
       "           [1.0066, 1.0053, 1.0071, 1.0057, 1.5875, 1.0063],\n",
       "           [1.0066, 1.0053, 1.0065, 1.0055, 1.5849, 1.0061],\n",
       "           [1.0062, 1.0049, 1.0064, 1.0055, 1.5695, 1.0057],\n",
       "           [1.0053, 1.0046, 1.0058, 1.0052, 1.5683, 1.0052],\n",
       "           [1.0063, 1.0041, 1.0063, 1.0043, 1.5568, 1.0053],\n",
       "           [1.0063, 1.0050, 1.0067, 1.0053, 1.5657, 1.0060],\n",
       "           [1.0062, 1.0049, 1.0061, 1.0051, 1.5620, 1.0057],\n",
       "           [1.0057, 1.0044, 1.0059, 1.0051, 1.5428, 1.0052],\n",
       "           [1.0047, 1.0041, 1.0052, 1.0047, 1.5378, 1.0046],\n",
       "           [1.0057, 1.0035, 1.0057, 1.0037, 1.5240, 1.0047],\n",
       "           [1.0056, 1.0044, 1.0060, 1.0046, 1.5260, 1.0053],\n",
       "           [1.0055, 1.0042, 1.0054, 1.0043, 1.5172, 1.0050],\n",
       "           [1.0050, 1.0037, 1.0051, 1.0043, 1.5015, 1.0045],\n",
       "           [1.0039, 1.0033, 1.0044, 1.0039, 1.4925, 1.0038],\n",
       "           [1.0048, 1.0027, 1.0048, 1.0029, 1.4771, 1.0039],\n",
       "           [1.0046, 1.0034, 1.0050, 1.0037, 1.4754, 1.0044],\n",
       "           [1.0044, 1.0032, 1.0043, 1.0033, 1.4637, 1.0040],\n",
       "           [1.0040, 1.0027, 1.0041, 1.0033, 1.4443, 1.0035],\n",
       "           [1.0029, 1.0023, 1.0034, 1.0029, 1.4299, 1.0028],\n",
       "           [1.0037, 1.0017, 1.0037, 1.0018, 1.4212, 1.0029],\n",
       "           [1.0034, 1.0023, 1.0038, 1.0026, 1.4204, 1.0033],\n",
       "           [1.0033, 1.0021, 1.0031, 1.0022, 1.4098, 1.0028],\n",
       "           [1.0030, 1.0017, 1.0030, 1.0022, 1.3924, 1.0024],\n",
       "           [1.0019, 1.0013, 1.0023, 1.0019, 1.3819, 1.0018],\n",
       "           [1.0027, 1.0008, 1.0026, 1.0008, 1.3631, 1.0019],\n",
       "           [1.0026, 1.0014, 1.0029, 1.0016, 1.3559, 1.0023],\n",
       "           [1.0025, 1.0013, 1.0021, 1.0013, 1.3399, 1.0020],\n",
       "           [1.0021, 1.0008, 1.0020, 1.0013, 1.3224, 1.0015],\n",
       "           [1.0009, 1.0005, 1.0012, 1.0009, 1.2984, 1.0008],\n",
       "           [1.0019, 0.9999, 1.0015, 0.9999, 1.2647, 1.0009],\n",
       "           [1.0017, 1.0007, 1.0019, 1.0008, 1.2412, 1.0015],\n",
       "           [1.0015, 1.0005, 1.0010, 1.0005, 1.2017, 1.0010],\n",
       "           [1.0010, 1.0000, 1.0008, 1.0003, 1.1324, 1.0005],\n",
       "           [1.0000, 1.0000, 1.0000, 1.0000, 1.0000, 1.0000]]),\n",
       "   'std': tensor([[2.5186e-01, 2.5063e-01, 2.5130e-01, 2.5170e-01, 4.7159e+00, 2.6064e-01],\n",
       "           [2.5022e-01, 2.4894e-01, 2.4988e-01, 2.5000e-01, 4.2665e+00, 2.5040e-01],\n",
       "           [2.4873e-01, 2.4736e-01, 2.4804e-01, 2.4832e-01, 4.3365e+00, 2.4816e-01],\n",
       "           [2.4493e-01, 2.4472e-01, 2.4524e-01, 2.4591e-01, 4.0914e+00, 2.4532e-01],\n",
       "           [2.4164e-01, 2.4172e-01, 2.4207e-01, 2.4288e-01, 4.2768e+00, 2.4196e-01],\n",
       "           [2.3954e-01, 2.3797e-01, 2.3849e-01, 2.3867e-01, 3.9442e+00, 2.4794e-01],\n",
       "           [2.3744e-01, 2.3607e-01, 2.3677e-01, 2.3671e-01, 3.8438e+00, 2.3757e-01],\n",
       "           [2.3569e-01, 2.3404e-01, 2.3453e-01, 2.3446e-01, 3.8419e+00, 2.3475e-01],\n",
       "           [2.3227e-01, 2.3136e-01, 2.3198e-01, 2.3195e-01, 3.9423e+00, 2.3206e-01],\n",
       "           [2.2881e-01, 2.2849e-01, 2.2885e-01, 2.2928e-01, 3.6726e+00, 2.2885e-01],\n",
       "           [2.2669e-01, 2.2473e-01, 2.2525e-01, 2.2511e-01, 3.8084e+00, 2.3490e-01],\n",
       "           [2.2510e-01, 2.2325e-01, 2.2373e-01, 2.2326e-01, 3.9214e+00, 2.2490e-01],\n",
       "           [2.2272e-01, 2.2134e-01, 2.2178e-01, 2.2164e-01, 3.8885e+00, 2.2201e-01],\n",
       "           [2.1932e-01, 2.1853e-01, 2.1903e-01, 2.1923e-01, 3.3359e+00, 2.1925e-01],\n",
       "           [2.1622e-01, 2.1569e-01, 2.1626e-01, 2.1657e-01, 3.9630e+00, 2.1624e-01],\n",
       "           [2.1437e-01, 2.1242e-01, 2.1314e-01, 2.1300e-01, 3.7871e+00, 2.2349e-01],\n",
       "           [2.1257e-01, 2.1086e-01, 2.1145e-01, 2.1132e-01, 3.8179e+00, 2.1239e-01],\n",
       "           [2.1014e-01, 2.0878e-01, 2.0955e-01, 2.0931e-01, 3.5996e+00, 2.0962e-01],\n",
       "           [2.0694e-01, 2.0607e-01, 2.0670e-01, 2.0702e-01, 3.6169e+00, 2.0671e-01],\n",
       "           [2.0425e-01, 2.0368e-01, 2.0440e-01, 2.0472e-01, 3.7260e+00, 2.0424e-01],\n",
       "           [2.0237e-01, 2.0069e-01, 2.0174e-01, 2.0152e-01, 3.6785e+00, 2.1268e-01],\n",
       "           [2.0036e-01, 1.9896e-01, 1.9992e-01, 1.9980e-01, 3.6861e+00, 2.0061e-01],\n",
       "           [1.9848e-01, 1.9692e-01, 1.9849e-01, 1.9757e-01, 3.3789e+00, 1.9805e-01],\n",
       "           [1.9590e-01, 1.9494e-01, 1.9620e-01, 1.9614e-01, 3.1595e+00, 1.9594e-01],\n",
       "           [1.9332e-01, 1.9258e-01, 1.9367e-01, 1.9350e-01, 4.4172e+00, 1.9335e-01],\n",
       "           [1.9106e-01, 1.8957e-01, 1.9080e-01, 1.9021e-01, 3.0812e+00, 2.0387e-01],\n",
       "           [1.8931e-01, 1.8761e-01, 1.8869e-01, 1.8823e-01, 3.1593e+00, 1.8935e-01],\n",
       "           [1.8776e-01, 1.8575e-01, 1.8733e-01, 1.8636e-01, 2.9758e+00, 1.8696e-01],\n",
       "           [1.8484e-01, 1.8375e-01, 1.8506e-01, 1.8484e-01, 3.1067e+00, 1.8481e-01],\n",
       "           [1.8197e-01, 1.8063e-01, 1.8180e-01, 1.8124e-01, 2.9883e+00, 1.8154e-01],\n",
       "           [1.7937e-01, 1.7747e-01, 1.7851e-01, 1.7790e-01, 3.2185e+00, 1.9150e-01],\n",
       "           [1.7752e-01, 1.7523e-01, 1.7656e-01, 1.7553e-01, 3.0454e+00, 1.7711e-01],\n",
       "           [1.7544e-01, 1.7328e-01, 1.7508e-01, 1.7375e-01, 3.4426e+00, 1.7468e-01],\n",
       "           [1.7142e-01, 1.7056e-01, 1.7171e-01, 1.7167e-01, 3.1987e+00, 1.7160e-01],\n",
       "           [1.6773e-01, 1.6674e-01, 1.6768e-01, 1.6735e-01, 3.4970e+00, 1.6752e-01],\n",
       "           [1.6466e-01, 1.6291e-01, 1.6410e-01, 1.6368e-01, 3.0067e+00, 1.7909e-01],\n",
       "           [1.6259e-01, 1.6001e-01, 1.6130e-01, 1.6024e-01, 3.3827e+00, 1.6201e-01],\n",
       "           [1.5989e-01, 1.5728e-01, 1.5957e-01, 1.5762e-01, 2.8616e+00, 1.5899e-01],\n",
       "           [1.5541e-01, 1.5425e-01, 1.5583e-01, 1.5539e-01, 2.7708e+00, 1.5559e-01],\n",
       "           [1.5123e-01, 1.4998e-01, 1.5169e-01, 1.5086e-01, 2.9488e+00, 1.5127e-01],\n",
       "           [1.4669e-01, 1.4530e-01, 1.4690e-01, 1.4653e-01, 4.4857e+00, 1.6170e-01],\n",
       "           [1.4282e-01, 1.4105e-01, 1.4241e-01, 1.4145e-01, 2.3832e+00, 1.4355e-01],\n",
       "           [1.3969e-01, 1.3727e-01, 1.3966e-01, 1.3783e-01, 2.2975e+00, 1.3943e-01],\n",
       "           [1.3532e-01, 1.3365e-01, 1.3590e-01, 1.3488e-01, 2.3475e+00, 1.3578e-01],\n",
       "           [1.3044e-01, 1.2871e-01, 1.3105e-01, 1.2978e-01, 2.1645e+00, 1.3088e-01],\n",
       "           [1.2525e-01, 1.2333e-01, 1.2503e-01, 1.2422e-01, 2.2164e+00, 1.4464e-01],\n",
       "           [1.2014e-01, 1.1844e-01, 1.1976e-01, 1.1873e-01, 2.1745e+00, 1.2168e-01],\n",
       "           [1.1662e-01, 1.1382e-01, 1.1584e-01, 1.1439e-01, 2.2350e+00, 1.1609e-01],\n",
       "           [1.1163e-01, 1.0943e-01, 1.1172e-01, 1.1022e-01, 2.2988e+00, 1.1188e-01],\n",
       "           [1.0530e-01, 1.0366e-01, 1.0549e-01, 1.0471e-01, 2.7700e+00, 1.0586e-01],\n",
       "           [9.9326e-02, 9.7119e-02, 9.8071e-02, 9.7853e-02, 2.2419e+00, 1.2351e-01],\n",
       "           [9.4679e-02, 9.1952e-02, 9.3256e-02, 9.2126e-02, 2.2616e+00, 9.6453e-02],\n",
       "           [8.9161e-02, 8.6158e-02, 8.8266e-02, 8.6652e-02, 1.8592e+00, 8.9335e-02],\n",
       "           [8.1768e-02, 7.9639e-02, 8.1252e-02, 8.0520e-02, 1.8177e+00, 8.2635e-02],\n",
       "           [7.3286e-02, 7.1838e-02, 7.2766e-02, 7.3119e-02, 1.9522e+00, 7.4714e-02],\n",
       "           [6.5810e-02, 6.3064e-02, 6.3513e-02, 6.4207e-02, 4.3339e+00, 9.8416e-02],\n",
       "           [5.7984e-02, 5.4817e-02, 5.6283e-02, 5.6184e-02, 1.4474e+00, 6.1879e-02],\n",
       "           [4.7059e-02, 4.4386e-02, 4.6526e-02, 4.7822e-02, 1.2256e+00, 4.9445e-02],\n",
       "           [3.2308e-02, 2.9521e-02, 3.0636e-02, 3.3583e-02, 9.5637e-01, 3.6198e-02],\n",
       "           [5.3816e-08, 5.2904e-08, 5.4929e-08, 5.3934e-08, 3.0247e-09, 5.3895e-08]])}},\n",
       " 'secid': array([     1,      2,      3, ..., 688819, 688981, 689009], dtype=int64),\n",
       " 'date': array([20070104, 20070105, 20070108, ..., 20240103, 20240104, 20240105],\n",
       "       dtype=int64)}"
      ]
     },
     "execution_count": 1,
     "metadata": {},
     "output_type": "execute_result"
    }
   ],
   "source": [
    "import torch\n",
    "import numpy as np\n",
    "\n",
    "data1 = torch.load('./data/torch_pack/day+rtn11+res11.20231220.pt')\n",
    "data1\n"
   ]
  },
  {
   "cell_type": "code",
   "execution_count": 3,
   "id": "ed9cf6ea",
   "metadata": {},
   "outputs": [],
   "source": [
    "from scripts.data_util.ModelData import DataBlock\n",
    "data2 = {'x':{}}\n",
    "\n",
    "d = np.load('X1_day.npz')\n",
    "data2['x']['day'] = DataBlock(d['arr'],d['row'],d['col'],['open', 'high', 'low', 'close', 'volume', 'vwap'])\n",
    "\n",
    "d = np.load('Ys.npz')\n",
    "data2['y'] = DataBlock(d['arr'],d['row'],d['col'],['rtn_lag1_10','rtn_lag1_5'])\n",
    "\n",
    "d = torch.load('stat_dict.pt')\n",
    "data2['norms'] = {'day':d['day']}\n",
    "\n",
    "secid = np.intersect1d(data2['x']['day'].secid , data2['y'].secid)\n",
    "date  = np.intersect1d(data2['x']['day'].date  , data2['y'].date)\n",
    "data2['x']['day'] = data2['x']['day'].align_secid(secid).align_date(date)\n",
    "data2['y'] = data2['y'].align_secid(secid).align_date(date)\n",
    "\n",
    "data2['secid'] = secid\n",
    "data2['date']  = date\n",
    "\n",
    "torch.save(data2 , './data/torch_pack/test_old_valid_data.pt')"
   ]
  },
  {
   "cell_type": "code",
   "execution_count": 19,
   "id": "c202c87d",
   "metadata": {},
   "outputs": [
    {
     "data": {
      "text/html": [
       "<div>\n",
       "<style scoped>\n",
       "    .dataframe tbody tr th:only-of-type {\n",
       "        vertical-align: middle;\n",
       "    }\n",
       "\n",
       "    .dataframe tbody tr th {\n",
       "        vertical-align: top;\n",
       "    }\n",
       "\n",
       "    .dataframe thead th {\n",
       "        text-align: right;\n",
       "    }\n",
       "</style>\n",
       "<table border=\"1\" class=\"dataframe\">\n",
       "  <thead>\n",
       "    <tr style=\"text-align: right;\">\n",
       "      <th></th>\n",
       "      <th>treatment</th>\n",
       "      <th>weight</th>\n",
       "      <th>weight_sum</th>\n",
       "    </tr>\n",
       "  </thead>\n",
       "  <tbody>\n",
       "    <tr>\n",
       "      <th>0</th>\n",
       "      <td>1</td>\n",
       "      <td>0.002958</td>\n",
       "      <td>0.000055</td>\n",
       "    </tr>\n",
       "    <tr>\n",
       "      <th>1</th>\n",
       "      <td>0</td>\n",
       "      <td>0.003055</td>\n",
       "      <td>0.000061</td>\n",
       "    </tr>\n",
       "    <tr>\n",
       "      <th>2</th>\n",
       "      <td>1</td>\n",
       "      <td>0.004553</td>\n",
       "      <td>0.000085</td>\n",
       "    </tr>\n",
       "    <tr>\n",
       "      <th>3</th>\n",
       "      <td>0</td>\n",
       "      <td>0.004915</td>\n",
       "      <td>0.000099</td>\n",
       "    </tr>\n",
       "    <tr>\n",
       "      <th>4</th>\n",
       "      <td>1</td>\n",
       "      <td>0.019721</td>\n",
       "      <td>0.000367</td>\n",
       "    </tr>\n",
       "    <tr>\n",
       "      <th>...</th>\n",
       "      <td>...</td>\n",
       "      <td>...</td>\n",
       "      <td>...</td>\n",
       "    </tr>\n",
       "    <tr>\n",
       "      <th>195</th>\n",
       "      <td>0</td>\n",
       "      <td>0.982054</td>\n",
       "      <td>0.019745</td>\n",
       "    </tr>\n",
       "    <tr>\n",
       "      <th>196</th>\n",
       "      <td>1</td>\n",
       "      <td>0.990348</td>\n",
       "      <td>0.018410</td>\n",
       "    </tr>\n",
       "    <tr>\n",
       "      <th>197</th>\n",
       "      <td>1</td>\n",
       "      <td>0.990885</td>\n",
       "      <td>0.018420</td>\n",
       "    </tr>\n",
       "    <tr>\n",
       "      <th>198</th>\n",
       "      <td>0</td>\n",
       "      <td>0.993718</td>\n",
       "      <td>0.019979</td>\n",
       "    </tr>\n",
       "    <tr>\n",
       "      <th>199</th>\n",
       "      <td>0</td>\n",
       "      <td>0.999440</td>\n",
       "      <td>0.020094</td>\n",
       "    </tr>\n",
       "  </tbody>\n",
       "</table>\n",
       "<p>200 rows × 3 columns</p>\n",
       "</div>"
      ],
      "text/plain": [
       "     treatment    weight  weight_sum\n",
       "0            1  0.002958    0.000055\n",
       "1            0  0.003055    0.000061\n",
       "2            1  0.004553    0.000085\n",
       "3            0  0.004915    0.000099\n",
       "4            1  0.019721    0.000367\n",
       "..         ...       ...         ...\n",
       "195          0  0.982054    0.019745\n",
       "196          1  0.990348    0.018410\n",
       "197          1  0.990885    0.018420\n",
       "198          0  0.993718    0.019979\n",
       "199          0  0.999440    0.020094\n",
       "\n",
       "[200 rows x 3 columns]"
      ]
     },
     "execution_count": 19,
     "metadata": {},
     "output_type": "execute_result"
    }
   ],
   "source": [
    "df = df.sort_values('weight').reset_index(drop = True)\n",
    "df['weight_sum'] = df.weight / df.groupby('treatment').weight.transform(sum)\n",
    "df"
   ]
  },
  {
   "cell_type": "code",
   "execution_count": 3,
   "metadata": {},
   "outputs": [],
   "source": [
    "import yaml , os\n",
    "\n",
    "out_dict = {'a':10}\n",
    "out_path = f'./results/running_results.yaml'\n",
    "if os.path.exists(out_path):\n",
    "    out_type = 'a'\n",
    "else:\n",
    "    os.makedirs(os.path.dirname(out_path) , exist_ok=True)\n",
    "    out_type = 'w'\n",
    "\n",
    "with open(out_path , out_type , encoding = 'utf-8') as f:\n",
    "    yaml.dump(out_dict , f)"
   ]
  },
  {
   "cell_type": "code",
   "execution_count": null,
   "id": "7d5921d4",
   "metadata": {},
   "outputs": [],
   "source": [
    "import yaml , os\n",
    "\n",
    "out_dict = {'a':10}\n",
    "out_path = f'./results/running_results.yaml'\n",
    "if os.path.exists(out_path):\n",
    "    out_type = 'a'\n",
    "else:\n",
    "    os.makedirs(os.path.dirname(out_path) , exist_ok=True)\n",
    "    out_type = 'w'\n",
    "\n",
    "with open(out_path , out_type , encoding = 'utf-8') as f:\n",
    "    yaml.dump(out_dict , f)"
   ]
  },
  {
   "cell_type": "code",
   "execution_count": 3,
   "id": "485d8f92",
   "metadata": {},
   "outputs": [
    {
     "ename": "ModuleNotFoundError",
     "evalue": "No module named 'DataTank'",
     "output_type": "error",
     "traceback": [
      "\u001b[0;31m---------------------------------------------------------------------------\u001b[0m",
      "\u001b[0;31mModuleNotFoundError\u001b[0m                       Traceback (most recent call last)",
      "Cell \u001b[0;32mIn[3], line 1\u001b[0m\n\u001b[0;32m----> 1\u001b[0m \u001b[38;5;28;01mfrom\u001b[39;00m \u001b[38;5;21;01mscripts\u001b[39;00m\u001b[38;5;21;01m.\u001b[39;00m\u001b[38;5;21;01mdata_util\u001b[39;00m\u001b[38;5;21;01m.\u001b[39;00m\u001b[38;5;21;01mDataTransmitter\u001b[39;00m \u001b[38;5;28;01mimport\u001b[39;00m \u001b[38;5;241m*\u001b[39m\n",
      "File \u001b[0;32m~/Workspace/learndl/scripts/data_util/DataTransmitter.py:6\u001b[0m\n\u001b[1;32m      3\u001b[0m \u001b[38;5;28;01mimport\u001b[39;00m \u001b[38;5;21;01mnumpy\u001b[39;00m \u001b[38;5;28;01mas\u001b[39;00m \u001b[38;5;21;01mnp\u001b[39;00m\n\u001b[1;32m      4\u001b[0m \u001b[38;5;28;01mimport\u001b[39;00m \u001b[38;5;21;01mos\u001b[39;00m\n\u001b[0;32m----> 6\u001b[0m \u001b[38;5;28;01mfrom\u001b[39;00m \u001b[38;5;21;01mDataTank\u001b[39;00m \u001b[38;5;28;01mimport\u001b[39;00m \u001b[38;5;241m*\u001b[39m\n\u001b[1;32m      8\u001b[0m \u001b[38;5;28;01mdef\u001b[39;00m \u001b[38;5;21mget_path_date\u001b[39m(path , startswith \u001b[38;5;241m=\u001b[39m \u001b[38;5;124m'\u001b[39m\u001b[38;5;124m'\u001b[39m , endswith \u001b[38;5;241m=\u001b[39m \u001b[38;5;124m'\u001b[39m\u001b[38;5;124m'\u001b[39m):\n\u001b[1;32m      9\u001b[0m     \u001b[38;5;28;01mif\u001b[39;00m \u001b[38;5;28misinstance\u001b[39m(path , (\u001b[38;5;28mlist\u001b[39m,\u001b[38;5;28mtuple\u001b[39m)):\n",
      "\u001b[0;31mModuleNotFoundError\u001b[0m: No module named 'DataTank'"
     ]
    }
   ],
   "source": [
    "from scripts.data_util.DataTransmitter import *"
   ]
  },
  {
   "cell_type": "code",
   "execution_count": 6,
   "id": "858f8d21",
   "metadata": {},
   "outputs": [
    {
     "ename": "ModuleNotFoundError",
     "evalue": "No module named 'DataTransmitter'",
     "output_type": "error",
     "traceback": [
      "\u001b[0;31m---------------------------------------------------------------------------\u001b[0m",
      "\u001b[0;31mModuleNotFoundError\u001b[0m                       Traceback (most recent call last)",
      "Cell \u001b[0;32mIn[6], line 1\u001b[0m\n\u001b[0;32m----> 1\u001b[0m \u001b[38;5;28;01mimport\u001b[39;00m \u001b[38;5;21;01mscripts\u001b[39;00m\u001b[38;5;21;01m.\u001b[39;00m\u001b[38;5;21;01mdata_util\u001b[39;00m\u001b[38;5;21;01m.\u001b[39;00m\u001b[38;5;21;01mDataUpdater\u001b[39;00m \u001b[38;5;28;01mas\u001b[39;00m \u001b[38;5;21;01mupdater\u001b[39;00m\n",
      "File \u001b[0;32m~/Workspace/learndl/scripts/data_util/DataUpdater.py:6\u001b[0m\n\u001b[1;32m      3\u001b[0m \u001b[38;5;28;01mimport\u001b[39;00m \u001b[38;5;21;01mos\u001b[39;00m \u001b[38;5;241m,\u001b[39m \u001b[38;5;21;01mtime\u001b[39;00m\n\u001b[1;32m      4\u001b[0m \u001b[38;5;28;01mimport\u001b[39;00m \u001b[38;5;21;01mtraceback\u001b[39;00m\n\u001b[0;32m----> 6\u001b[0m \u001b[38;5;28;01mfrom\u001b[39;00m \u001b[38;5;21;01mDataTransmitter\u001b[39;00m \u001b[38;5;28;01mimport\u001b[39;00m \u001b[38;5;241m*\u001b[39m\n\u001b[1;32m      7\u001b[0m \u001b[38;5;28;01mfrom\u001b[39;00m \u001b[38;5;21;01mDataTank\u001b[39;00m \u001b[38;5;28;01mimport\u001b[39;00m \u001b[38;5;241m*\u001b[39m\n\u001b[1;32m      9\u001b[0m \u001b[38;5;66;03m# %%\u001b[39;00m\n",
      "\u001b[0;31mModuleNotFoundError\u001b[0m: No module named 'DataTransmitter'"
     ]
    }
   ],
   "source": [
    "import scripts.data_util.DataUpdater as updater"
   ]
  },
  {
   "cell_type": "code",
   "execution_count": 4,
   "id": "e173460f-7d63-4491-bee2-f5390e8032e9",
   "metadata": {
    "tags": []
   },
   "outputs": [
    {
     "name": "stderr",
     "output_type": "stream",
     "text": [
      "\u001b[1m\u001b[37m\u001b[41m23-11-09 00:13:41|MOD:gen_data    |\u001b[0m: \u001b[1m\u001b[31mData loading start!\u001b[0m\n"
     ]
    },
    {
     "name": "stdout",
     "output_type": "stream",
     "text": [
      "Preparing day_trading_data data...\n",
      "arr shape : (5264, 6202, 1, 6) , row shape : (5264,) , col shape : (6202,)\n",
      "Preparing day_ylabels_data data...\n",
      "arr shape : (5249, 6191, 1, 2) , row shape : (5249,) , col shape : (6191,)\n",
      "Preparing 15m_trading_data data...\n"
     ]
    },
    {
     "name": "stderr",
     "output_type": "stream",
     "text": [
      "\u001b[1m\u001b[37m\u001b[45m23-11-09 00:20:02|MOD:gen_data    |\u001b[0m: \u001b[1m\u001b[35m[day] Data avg and std generation start!\u001b[0m\n"
     ]
    },
    {
     "name": "stdout",
     "output_type": "stream",
     "text": [
      "arr shape : (5204, 3302, 16, 6) , row shape : (5204,) , col shape : (3302,)\n",
      "Loading day trading data finished, cost 5.64 Secs\n",
      "torch.Size([5264, 920, 1, 6])\n"
     ]
    },
    {
     "name": "stderr",
     "output_type": "stream",
     "text": [
      "\u001b[1m\u001b[37m\u001b[45m23-11-09 00:20:19|MOD:gen_data    |\u001b[0m: \u001b[1m\u001b[35m[15m] Data avg and std generation start!\u001b[0m\n"
     ]
    },
    {
     "name": "stdout",
     "output_type": "stream",
     "text": [
      "Loading 15m trading data finished, cost 45.60 Secs\n",
      "torch.Size([5204, 340, 1, 6])\n"
     ]
    },
    {
     "name": "stderr",
     "output_type": "stream",
     "text": [
      "\u001b[1m\u001b[37m\u001b[41m23-11-09 00:21:36|MOD:gen_data    |\u001b[0m: \u001b[1m\u001b[31mData loading Finished! Cost 475.09 Seconds\u001b[0m\n"
     ]
    }
   ],
   "source": [
    "%run data_processing.py"
   ]
  },
  {
   "cell_type": "code",
   "execution_count": null,
   "id": "352d70f2-fad6-447b-9ca3-f4804f0ce801",
   "metadata": {},
   "outputs": [],
   "source": [
    "%run run_model.py --process=0 --rawname=1 --resume=0 --anchoring=0"
   ]
  },
  {
   "cell_type": "code",
   "execution_count": 6,
   "metadata": {},
   "outputs": [
    {
     "name": "stdout",
     "output_type": "stream",
     "text": [
      "deque([0, 1, 2, 3, 4, 5, 6, 7, 8, 9], maxlen=10)\n"
     ]
    }
   ],
   "source": [
    "from collections import deque\n",
    "a = deque(range(10) ,   maxlen = 10)\n",
    "print(a)"
   ]
  }
 ],
 "metadata": {
  "kernelspec": {
   "display_name": "Python 3 (ipykernel)",
   "language": "python",
   "name": "python3"
  },
  "language_info": {
   "codemirror_mode": {
    "name": "ipython",
    "version": 3
   },
   "file_extension": ".py",
   "mimetype": "text/x-python",
   "name": "python",
   "nbconvert_exporter": "python",
   "pygments_lexer": "ipython3",
   "version": "3.8.5"
  }
 },
 "nbformat": 4,
 "nbformat_minor": 5
}
