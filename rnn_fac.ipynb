{
 "cells": [
  {
   "cell_type": "code",
   "execution_count": 3,
   "metadata": {},
   "outputs": [],
   "source": [
    "import yaml , os\n",
    "\n",
    "out_dict = {'a':10}\n",
    "out_path = f'./results/running_results.yaml'\n",
    "if os.path.exists(out_path):\n",
    "    out_type = 'a'\n",
    "else:\n",
    "    os.makedirs(os.path.dirname(out_path) , exist_ok=True)\n",
    "    out_type = 'w'\n",
    "\n",
    "with open(out_path , out_type , encoding = 'utf-8') as f:\n",
    "    yaml.dump(out_dict , f)"
   ]
  },
  {
   "cell_type": "code",
   "execution_count": 4,
   "id": "e173460f-7d63-4491-bee2-f5390e8032e9",
   "metadata": {
    "tags": []
   },
   "outputs": [
    {
     "name": "stderr",
     "output_type": "stream",
     "text": [
      "\u001b[1m\u001b[37m\u001b[41m23-11-09 00:13:41|MOD:gen_data    |\u001b[0m: \u001b[1m\u001b[31mData loading start!\u001b[0m\n"
     ]
    },
    {
     "name": "stdout",
     "output_type": "stream",
     "text": [
      "Preparing day_trading_data data...\n",
      "arr shape : (5264, 6202, 1, 6) , row shape : (5264,) , col shape : (6202,)\n",
      "Preparing day_ylabels_data data...\n",
      "arr shape : (5249, 6191, 1, 2) , row shape : (5249,) , col shape : (6191,)\n",
      "Preparing 15m_trading_data data...\n"
     ]
    },
    {
     "name": "stderr",
     "output_type": "stream",
     "text": [
      "\u001b[1m\u001b[37m\u001b[45m23-11-09 00:20:02|MOD:gen_data    |\u001b[0m: \u001b[1m\u001b[35m[day] Data avg and std generation start!\u001b[0m\n"
     ]
    },
    {
     "name": "stdout",
     "output_type": "stream",
     "text": [
      "arr shape : (5204, 3302, 16, 6) , row shape : (5204,) , col shape : (3302,)\n",
      "Loading day trading data finished, cost 5.64 Secs\n",
      "torch.Size([5264, 920, 1, 6])\n"
     ]
    },
    {
     "name": "stderr",
     "output_type": "stream",
     "text": [
      "\u001b[1m\u001b[37m\u001b[45m23-11-09 00:20:19|MOD:gen_data    |\u001b[0m: \u001b[1m\u001b[35m[15m] Data avg and std generation start!\u001b[0m\n"
     ]
    },
    {
     "name": "stdout",
     "output_type": "stream",
     "text": [
      "Loading 15m trading data finished, cost 45.60 Secs\n",
      "torch.Size([5204, 340, 1, 6])\n"
     ]
    },
    {
     "name": "stderr",
     "output_type": "stream",
     "text": [
      "\u001b[1m\u001b[37m\u001b[41m23-11-09 00:21:36|MOD:gen_data    |\u001b[0m: \u001b[1m\u001b[31mData loading Finished! Cost 475.09 Seconds\u001b[0m\n"
     ]
    }
   ],
   "source": [
    "%run gen_data.py"
   ]
  },
  {
   "cell_type": "code",
   "execution_count": null,
   "id": "352d70f2-fad6-447b-9ca3-f4804f0ce801",
   "metadata": {},
   "outputs": [],
   "source": [
    "%run run_model.py --process=0 --rawname=1 --resume=0 --anchoring=0"
   ]
  },
  {
   "cell_type": "code",
   "execution_count": 6,
   "metadata": {},
   "outputs": [
    {
     "name": "stdout",
     "output_type": "stream",
     "text": [
      "deque([0, 1, 2, 3, 4, 5, 6, 7, 8, 9], maxlen=10)\n"
     ]
    }
   ],
   "source": [
    "from collections import deque\n",
    "a = deque(range(10) ,   maxlen = 10)\n",
    "print(a)"
   ]
  }
 ],
 "metadata": {
  "kernelspec": {
   "display_name": "Python 3 (ipykernel)",
   "language": "python",
   "name": "python3"
  },
  "language_info": {
   "codemirror_mode": {
    "name": "ipython",
    "version": 3
   },
   "file_extension": ".py",
   "mimetype": "text/x-python",
   "name": "python",
   "nbconvert_exporter": "python",
   "pygments_lexer": "ipython3",
   "version": "3.10.12"
  }
 },
 "nbformat": 4,
 "nbformat_minor": 5
}
