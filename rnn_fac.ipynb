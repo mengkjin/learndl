{
 "cells": [
  {
   "cell_type": "code",
   "execution_count": 5,
   "id": "9040d9b1",
   "metadata": {},
   "outputs": [],
   "source": [
    "import pandas as pd\n",
    "import numpy as np\n",
    "a = pd.DataFrame({'treatment':0 , 'weight':np.random.rand(100)})\n",
    "b = pd.DataFrame({'treatment':1 , 'weight':np.random.rand(100)})\n",
    "df = pd.concat([a,b])"
   ]
  },
  {
   "cell_type": "code",
   "execution_count": 19,
   "id": "c202c87d",
   "metadata": {},
   "outputs": [
    {
     "data": {
      "text/html": [
       "<div>\n",
       "<style scoped>\n",
       "    .dataframe tbody tr th:only-of-type {\n",
       "        vertical-align: middle;\n",
       "    }\n",
       "\n",
       "    .dataframe tbody tr th {\n",
       "        vertical-align: top;\n",
       "    }\n",
       "\n",
       "    .dataframe thead th {\n",
       "        text-align: right;\n",
       "    }\n",
       "</style>\n",
       "<table border=\"1\" class=\"dataframe\">\n",
       "  <thead>\n",
       "    <tr style=\"text-align: right;\">\n",
       "      <th></th>\n",
       "      <th>treatment</th>\n",
       "      <th>weight</th>\n",
       "      <th>weight_sum</th>\n",
       "    </tr>\n",
       "  </thead>\n",
       "  <tbody>\n",
       "    <tr>\n",
       "      <th>0</th>\n",
       "      <td>1</td>\n",
       "      <td>0.002958</td>\n",
       "      <td>0.000055</td>\n",
       "    </tr>\n",
       "    <tr>\n",
       "      <th>1</th>\n",
       "      <td>0</td>\n",
       "      <td>0.003055</td>\n",
       "      <td>0.000061</td>\n",
       "    </tr>\n",
       "    <tr>\n",
       "      <th>2</th>\n",
       "      <td>1</td>\n",
       "      <td>0.004553</td>\n",
       "      <td>0.000085</td>\n",
       "    </tr>\n",
       "    <tr>\n",
       "      <th>3</th>\n",
       "      <td>0</td>\n",
       "      <td>0.004915</td>\n",
       "      <td>0.000099</td>\n",
       "    </tr>\n",
       "    <tr>\n",
       "      <th>4</th>\n",
       "      <td>1</td>\n",
       "      <td>0.019721</td>\n",
       "      <td>0.000367</td>\n",
       "    </tr>\n",
       "    <tr>\n",
       "      <th>...</th>\n",
       "      <td>...</td>\n",
       "      <td>...</td>\n",
       "      <td>...</td>\n",
       "    </tr>\n",
       "    <tr>\n",
       "      <th>195</th>\n",
       "      <td>0</td>\n",
       "      <td>0.982054</td>\n",
       "      <td>0.019745</td>\n",
       "    </tr>\n",
       "    <tr>\n",
       "      <th>196</th>\n",
       "      <td>1</td>\n",
       "      <td>0.990348</td>\n",
       "      <td>0.018410</td>\n",
       "    </tr>\n",
       "    <tr>\n",
       "      <th>197</th>\n",
       "      <td>1</td>\n",
       "      <td>0.990885</td>\n",
       "      <td>0.018420</td>\n",
       "    </tr>\n",
       "    <tr>\n",
       "      <th>198</th>\n",
       "      <td>0</td>\n",
       "      <td>0.993718</td>\n",
       "      <td>0.019979</td>\n",
       "    </tr>\n",
       "    <tr>\n",
       "      <th>199</th>\n",
       "      <td>0</td>\n",
       "      <td>0.999440</td>\n",
       "      <td>0.020094</td>\n",
       "    </tr>\n",
       "  </tbody>\n",
       "</table>\n",
       "<p>200 rows × 3 columns</p>\n",
       "</div>"
      ],
      "text/plain": [
       "     treatment    weight  weight_sum\n",
       "0            1  0.002958    0.000055\n",
       "1            0  0.003055    0.000061\n",
       "2            1  0.004553    0.000085\n",
       "3            0  0.004915    0.000099\n",
       "4            1  0.019721    0.000367\n",
       "..         ...       ...         ...\n",
       "195          0  0.982054    0.019745\n",
       "196          1  0.990348    0.018410\n",
       "197          1  0.990885    0.018420\n",
       "198          0  0.993718    0.019979\n",
       "199          0  0.999440    0.020094\n",
       "\n",
       "[200 rows x 3 columns]"
      ]
     },
     "execution_count": 19,
     "metadata": {},
     "output_type": "execute_result"
    }
   ],
   "source": [
    "df = df.sort_values('weight').reset_index(drop = True)\n",
    "df['weight_sum'] = df.weight / df.groupby('treatment').weight.transform(sum)\n",
    "df"
   ]
  },
  {
   "cell_type": "code",
   "execution_count": 3,
   "metadata": {},
   "outputs": [],
   "source": [
    "import yaml , os\n",
    "\n",
    "out_dict = {'a':10}\n",
    "out_path = f'./results/running_results.yaml'\n",
    "if os.path.exists(out_path):\n",
    "    out_type = 'a'\n",
    "else:\n",
    "    os.makedirs(os.path.dirname(out_path) , exist_ok=True)\n",
    "    out_type = 'w'\n",
    "\n",
    "with open(out_path , out_type , encoding = 'utf-8') as f:\n",
    "    yaml.dump(out_dict , f)"
   ]
  },
  {
   "cell_type": "code",
   "execution_count": null,
   "id": "7d5921d4",
   "metadata": {},
   "outputs": [],
   "source": [
    "import yaml , os\n",
    "\n",
    "out_dict = {'a':10}\n",
    "out_path = f'./results/running_results.yaml'\n",
    "if os.path.exists(out_path):\n",
    "    out_type = 'a'\n",
    "else:\n",
    "    os.makedirs(os.path.dirname(out_path) , exist_ok=True)\n",
    "    out_type = 'w'\n",
    "\n",
    "with open(out_path , out_type , encoding = 'utf-8') as f:\n",
    "    yaml.dump(out_dict , f)"
   ]
  },
  {
   "cell_type": "code",
   "execution_count": 3,
   "id": "485d8f92",
   "metadata": {},
   "outputs": [
    {
     "ename": "ModuleNotFoundError",
     "evalue": "No module named 'DataTank'",
     "output_type": "error",
     "traceback": [
      "\u001b[0;31m---------------------------------------------------------------------------\u001b[0m",
      "\u001b[0;31mModuleNotFoundError\u001b[0m                       Traceback (most recent call last)",
      "Cell \u001b[0;32mIn[3], line 1\u001b[0m\n\u001b[0;32m----> 1\u001b[0m \u001b[38;5;28;01mfrom\u001b[39;00m \u001b[38;5;21;01mscripts\u001b[39;00m\u001b[38;5;21;01m.\u001b[39;00m\u001b[38;5;21;01mdata_util\u001b[39;00m\u001b[38;5;21;01m.\u001b[39;00m\u001b[38;5;21;01mDataTransmitter\u001b[39;00m \u001b[38;5;28;01mimport\u001b[39;00m \u001b[38;5;241m*\u001b[39m\n",
      "File \u001b[0;32m~/Workspace/learndl/scripts/data_util/DataTransmitter.py:6\u001b[0m\n\u001b[1;32m      3\u001b[0m \u001b[38;5;28;01mimport\u001b[39;00m \u001b[38;5;21;01mnumpy\u001b[39;00m \u001b[38;5;28;01mas\u001b[39;00m \u001b[38;5;21;01mnp\u001b[39;00m\n\u001b[1;32m      4\u001b[0m \u001b[38;5;28;01mimport\u001b[39;00m \u001b[38;5;21;01mos\u001b[39;00m\n\u001b[0;32m----> 6\u001b[0m \u001b[38;5;28;01mfrom\u001b[39;00m \u001b[38;5;21;01mDataTank\u001b[39;00m \u001b[38;5;28;01mimport\u001b[39;00m \u001b[38;5;241m*\u001b[39m\n\u001b[1;32m      8\u001b[0m \u001b[38;5;28;01mdef\u001b[39;00m \u001b[38;5;21mget_path_date\u001b[39m(path , startswith \u001b[38;5;241m=\u001b[39m \u001b[38;5;124m'\u001b[39m\u001b[38;5;124m'\u001b[39m , endswith \u001b[38;5;241m=\u001b[39m \u001b[38;5;124m'\u001b[39m\u001b[38;5;124m'\u001b[39m):\n\u001b[1;32m      9\u001b[0m     \u001b[38;5;28;01mif\u001b[39;00m \u001b[38;5;28misinstance\u001b[39m(path , (\u001b[38;5;28mlist\u001b[39m,\u001b[38;5;28mtuple\u001b[39m)):\n",
      "\u001b[0;31mModuleNotFoundError\u001b[0m: No module named 'DataTank'"
     ]
    }
   ],
   "source": [
    "from scripts.data_util.DataTransmitter import *"
   ]
  },
  {
   "cell_type": "code",
   "execution_count": 6,
   "id": "858f8d21",
   "metadata": {},
   "outputs": [
    {
     "ename": "ModuleNotFoundError",
     "evalue": "No module named 'DataTransmitter'",
     "output_type": "error",
     "traceback": [
      "\u001b[0;31m---------------------------------------------------------------------------\u001b[0m",
      "\u001b[0;31mModuleNotFoundError\u001b[0m                       Traceback (most recent call last)",
      "Cell \u001b[0;32mIn[6], line 1\u001b[0m\n\u001b[0;32m----> 1\u001b[0m \u001b[38;5;28;01mimport\u001b[39;00m \u001b[38;5;21;01mscripts\u001b[39;00m\u001b[38;5;21;01m.\u001b[39;00m\u001b[38;5;21;01mdata_util\u001b[39;00m\u001b[38;5;21;01m.\u001b[39;00m\u001b[38;5;21;01mDataUpdater\u001b[39;00m \u001b[38;5;28;01mas\u001b[39;00m \u001b[38;5;21;01mupdater\u001b[39;00m\n",
      "File \u001b[0;32m~/Workspace/learndl/scripts/data_util/DataUpdater.py:6\u001b[0m\n\u001b[1;32m      3\u001b[0m \u001b[38;5;28;01mimport\u001b[39;00m \u001b[38;5;21;01mos\u001b[39;00m \u001b[38;5;241m,\u001b[39m \u001b[38;5;21;01mtime\u001b[39;00m\n\u001b[1;32m      4\u001b[0m \u001b[38;5;28;01mimport\u001b[39;00m \u001b[38;5;21;01mtraceback\u001b[39;00m\n\u001b[0;32m----> 6\u001b[0m \u001b[38;5;28;01mfrom\u001b[39;00m \u001b[38;5;21;01mDataTransmitter\u001b[39;00m \u001b[38;5;28;01mimport\u001b[39;00m \u001b[38;5;241m*\u001b[39m\n\u001b[1;32m      7\u001b[0m \u001b[38;5;28;01mfrom\u001b[39;00m \u001b[38;5;21;01mDataTank\u001b[39;00m \u001b[38;5;28;01mimport\u001b[39;00m \u001b[38;5;241m*\u001b[39m\n\u001b[1;32m      9\u001b[0m \u001b[38;5;66;03m# %%\u001b[39;00m\n",
      "\u001b[0;31mModuleNotFoundError\u001b[0m: No module named 'DataTransmitter'"
     ]
    }
   ],
   "source": [
    "import scripts.data_util.DataUpdater as updater"
   ]
  },
  {
   "cell_type": "code",
   "execution_count": 4,
   "id": "e173460f-7d63-4491-bee2-f5390e8032e9",
   "metadata": {
    "tags": []
   },
   "outputs": [
    {
     "name": "stderr",
     "output_type": "stream",
     "text": [
      "\u001b[1m\u001b[37m\u001b[41m23-11-09 00:13:41|MOD:gen_data    |\u001b[0m: \u001b[1m\u001b[31mData loading start!\u001b[0m\n"
     ]
    },
    {
     "name": "stdout",
     "output_type": "stream",
     "text": [
      "Preparing day_trading_data data...\n",
      "arr shape : (5264, 6202, 1, 6) , row shape : (5264,) , col shape : (6202,)\n",
      "Preparing day_ylabels_data data...\n",
      "arr shape : (5249, 6191, 1, 2) , row shape : (5249,) , col shape : (6191,)\n",
      "Preparing 15m_trading_data data...\n"
     ]
    },
    {
     "name": "stderr",
     "output_type": "stream",
     "text": [
      "\u001b[1m\u001b[37m\u001b[45m23-11-09 00:20:02|MOD:gen_data    |\u001b[0m: \u001b[1m\u001b[35m[day] Data avg and std generation start!\u001b[0m\n"
     ]
    },
    {
     "name": "stdout",
     "output_type": "stream",
     "text": [
      "arr shape : (5204, 3302, 16, 6) , row shape : (5204,) , col shape : (3302,)\n",
      "Loading day trading data finished, cost 5.64 Secs\n",
      "torch.Size([5264, 920, 1, 6])\n"
     ]
    },
    {
     "name": "stderr",
     "output_type": "stream",
     "text": [
      "\u001b[1m\u001b[37m\u001b[45m23-11-09 00:20:19|MOD:gen_data    |\u001b[0m: \u001b[1m\u001b[35m[15m] Data avg and std generation start!\u001b[0m\n"
     ]
    },
    {
     "name": "stdout",
     "output_type": "stream",
     "text": [
      "Loading 15m trading data finished, cost 45.60 Secs\n",
      "torch.Size([5204, 340, 1, 6])\n"
     ]
    },
    {
     "name": "stderr",
     "output_type": "stream",
     "text": [
      "\u001b[1m\u001b[37m\u001b[41m23-11-09 00:21:36|MOD:gen_data    |\u001b[0m: \u001b[1m\u001b[31mData loading Finished! Cost 475.09 Seconds\u001b[0m\n"
     ]
    }
   ],
   "source": [
    "%run data_processing.py"
   ]
  },
  {
   "cell_type": "code",
   "execution_count": null,
   "id": "352d70f2-fad6-447b-9ca3-f4804f0ce801",
   "metadata": {},
   "outputs": [],
   "source": [
    "%run run_model.py --process=0 --rawname=1 --resume=0 --anchoring=0"
   ]
  },
  {
   "cell_type": "code",
   "execution_count": 6,
   "metadata": {},
   "outputs": [
    {
     "name": "stdout",
     "output_type": "stream",
     "text": [
      "deque([0, 1, 2, 3, 4, 5, 6, 7, 8, 9], maxlen=10)\n"
     ]
    }
   ],
   "source": [
    "from collections import deque\n",
    "a = deque(range(10) ,   maxlen = 10)\n",
    "print(a)"
   ]
  }
 ],
 "metadata": {
  "kernelspec": {
   "display_name": "Python 3 (ipykernel)",
   "language": "python",
   "name": "python3"
  },
  "language_info": {
   "codemirror_mode": {
    "name": "ipython",
    "version": 3
   },
   "file_extension": ".py",
   "mimetype": "text/x-python",
   "name": "python",
   "nbconvert_exporter": "python",
   "pygments_lexer": "ipython3",
   "version": "3.8.5"
  }
 },
 "nbformat": 4,
 "nbformat_minor": 5
}
