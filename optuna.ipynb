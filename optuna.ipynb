{
 "cells": [
  {
   "cell_type": "code",
   "execution_count": 4,
   "metadata": {},
   "outputs": [],
   "source": [
    "from src.algo import GeneralBooster\n",
    "import time\n",
    "import random\n",
    "import string\n",
    "import optuna\n",
    "from contextlib import nullcontext\n",
    "from typing import Any , Literal\n",
    "class OptunaBooster(GeneralBooster):\n",
    "    DEFAULT_SILENT_STUDY = False\n",
    "    DEFAULT_N_TRIALS = 20\n",
    "    DEFAULT_STORAGE = f'sqlite:///runs/optuna/booster_{time.strftime(\"%Y%m\") }.sqlite3'\n",
    "\n",
    "    @property\n",
    "    def best_params(self):\n",
    "        return self.study.best_trial.params\n",
    "    \n",
    "    def update_param(self , params : dict[str,Any] , **kwargs):\n",
    "        super().update_param(params , **kwargs)\n",
    "        self.n_trials = kwargs.get('n_trials' , self.DEFAULT_N_TRIALS)\n",
    "        return self\n",
    "\n",
    "    def trial_suggest_params(self, trial : optuna.Trial):\n",
    "        if self.booster_type == 'lgbm':\n",
    "            params = {\n",
    "                'objective':        trial.suggest_categorical('objective', ['mse', 'mae']),  # 'mse', 'mae', 'softmax'\n",
    "                'learning_rate':    trial.suggest_float('learning_rate', 1e-3, 0.3, log=True),\n",
    "                'max_depth':        trial.suggest_int('max_depth', 3, 12),\n",
    "                'num_leaves':       trial.suggest_int('num_leaves', 20, 100, step=10),\n",
    "                'min_data_in_leaf': trial.suggest_int('min_data_in_leaf', 10, 50, step=10),\n",
    "                'reg_alpha':        trial.suggest_float('reg_alpha', 1e-7, 100, log=True),\n",
    "                'reg_lambda':       trial.suggest_float('reg_lambda', 1e-6, 100, log=True),\n",
    "                'feature_fraction': trial.suggest_float('feature_fraction', 0.5, 1.0, step=0.1),\n",
    "                'bagging_fraction': trial.suggest_float('bagging_fraction', 0.5, 1.0, step=0.1),\n",
    "            }\n",
    "        elif self.booster_type == 'xgboost':\n",
    "            params = {\n",
    "                'objective':        trial.suggest_categorical('objective', ['reg:squarederror', 'reg:absoluteerror']), # 'reg:squarederror', 'reg:absoluteerror' , multi:softmax\n",
    "                'learning_rate':    trial.suggest_float('learning_rate', 1e-3, 0.3, log=True),\n",
    "                'max_depth':        trial.suggest_int('max_depth', 3, 12),\n",
    "                'subsample':        trial.suggest_float('subsample', 0.5, 1.0, step=0.1),\n",
    "                'colsample_bytree': trial.suggest_float('colsample_bytree', 0.5, 1.0, step=0.1),\n",
    "                'reg_alpha':        trial.suggest_float('reg_alpha', 1e-7, 100, log=True),\n",
    "                'reg_lambda':       trial.suggest_float('reg_lambda', 1e-6, 100, log=True),\n",
    "            }\n",
    "        elif self.booster_type == 'catboost':\n",
    "            params = {\n",
    "                'objective':                trial.suggest_categorical('objective', ['RMSE', 'MAE']),\n",
    "                'learning_rate':            trial.suggest_float('learning_rate', 1e-3, 0.3, log=True),\n",
    "                'max_depth':                trial.suggest_int('max_depth', 3, 12),\n",
    "                'l2_leaf_reg':              trial.suggest_float('l2_leaf_reg', 1e-3, 10.0, log=True),\n",
    "                'bagging_temperature':      trial.suggest_float('bagging_temperature', 0.0, 1.0),\n",
    "                'random_strength':          trial.suggest_float('random_strength', 1e-9, 10.0, log=True),\n",
    "                'od_type':                  trial.suggest_categorical('od_type', ['IncToDec', 'Iter']),\n",
    "                'min_data_in_leaf':         trial.suggest_int('min_data_in_leaf', 1, 100),\n",
    "            }\n",
    "        elif self.booster_type == 'ada':\n",
    "            params = {\n",
    "                'n_learner' :       trial.suggest_int('n_learner', 10 , 50 , step = 5), \n",
    "                'n_bins' :          trial.suggest_int('n_bins', 10, 30, step = 5) , \n",
    "                'max_nan_ratio' :   trial.suggest_float('max_nan_ratio', 0.5, 0.9, step = 0.1) ,\n",
    "            }\n",
    "        else: raise ValueError(f'Invalid booster type: {self.booster_type}')\n",
    "        return params\n",
    "    \n",
    "    def fit(self , train = None , valid = None , use_feature = None , silent = False):\n",
    "        self.import_data(train = train , valid = valid)\n",
    "        self.booster.import_data(train=self.data['train'] , valid = self.data['valid'])\n",
    "        self.booster.update_feature(use_feature)\n",
    "\n",
    "        self.study_create()\n",
    "        self.study_optimize(self.n_trials , silent = silent or self.DEFAULT_SILENT_STUDY)\n",
    "        \n",
    "        self.update_param(self.study.best_trial.params).booster.fit(silent=True)\n",
    "        return self\n",
    "    \n",
    "    def study_create(self , direction='maximize'):\n",
    "        name_str = self.given_name if self.given_name else self.booster.__class__.__name__\n",
    "        time_str = time.strftime('%Y%m%d-%H%M%S') \n",
    "        rand_str =''.join(random.choices(string.ascii_letters + string.digits, k=10))\n",
    "    \n",
    "        self.study = optuna.create_study(storage=self.DEFAULT_STORAGE , direction = direction , study_name=f'{name_str}_{time_str}_{rand_str}')\n",
    "        return self\n",
    "    \n",
    "    def study_objective(self , trial : optuna.Trial):\n",
    "        params = self.trial_suggest_params(trial)\n",
    "        booster = self.update_param(params).booster\n",
    "        return booster.fit(silent=True).predict('valid').rankic().mean().item()\n",
    "    \n",
    "    class StudySilent:\n",
    "        def __enter__(self):\n",
    "            self.old_level = optuna.logging.get_verbosity()\n",
    "            optuna.logging.set_verbosity(optuna.logging.WARNING)\n",
    "        def __exit__(self , exc_type , exc_value , traceback):\n",
    "            optuna.logging.set_verbosity(self.old_level)\n",
    "\n",
    "    def study_optimize(self , n_trials : int = DEFAULT_N_TRIALS , silent = False):\n",
    "        if self.booster_type in ['lgbm' , 'xgboost' , 'catboost']:\n",
    "            max_trials = 100\n",
    "        elif self.booster_type == 'ada':\n",
    "            max_trials = 20\n",
    "        else: \n",
    "            raise ValueError(f'Invalid booster type: {self.booster_type}')\n",
    "        n_trials = min(max_trials , n_trials)\n",
    "\n",
    "        with self.StudySilent() if silent else nullcontext():\n",
    "            self.study.optimize(self.study_objective, n_trials = n_trials)\n",
    "            \n",
    "        return self\n",
    "\n",
    "    def study_plot(self , plot_type : Literal['slice' , 'optimization_history' , 'param_importances' , 'contour'] , \n",
    "                   params : list[str] | None = None , **kwargs):\n",
    "        if plot_type == 'slice':\n",
    "            return optuna.visualization.plot_slice(self.study , params = params , **kwargs)\n",
    "        elif plot_type == 'optimization_history':\n",
    "            return optuna.visualization.plot_optimization_history(self.study , **kwargs)\n",
    "        elif plot_type == 'param_importances':\n",
    "            return optuna.visualization.plot_param_importances(self.study , **kwargs)\n",
    "        elif plot_type == 'contour':\n",
    "            return optuna.visualization.plot_contour(self.study , params = params , **kwargs)\n",
    "        \n",
    "    def param_importances(self):\n",
    "        return optuna.importance.get_param_importances(self.study)\n"
   ]
  },
  {
   "cell_type": "code",
   "execution_count": 5,
   "metadata": {},
   "outputs": [],
   "source": [
    "input_data = OptunaBooster.df_input()"
   ]
  },
  {
   "cell_type": "code",
   "execution_count": 6,
   "metadata": {},
   "outputs": [
    {
     "name": "stderr",
     "output_type": "stream",
     "text": [
      "[I 2024-10-29 17:31:13,655] A new study created in RDB with name: CatBoost_20241029-173113_MnBU6wBKr9\n",
      "[I 2024-10-29 17:31:24,231] Trial 0 finished with value: 0.11403515189886093 and parameters: {'objective': 'MAE', 'learning_rate': 0.00291991825635406, 'max_depth': 4, 'l2_leaf_reg': 0.08503583805128019, 'bagging_temperature': 0.5280769972659908, 'random_strength': 1.063873968395446e-06, 'od_type': 'IncToDec', 'min_data_in_leaf': 85}. Best is trial 0 with value: 0.11403515189886093.\n",
      "[I 2024-10-29 17:31:35,043] Trial 1 finished with value: 0.1572216898202896 and parameters: {'objective': 'RMSE', 'learning_rate': 0.04147137441265551, 'max_depth': 6, 'l2_leaf_reg': 1.1796248305158843, 'bagging_temperature': 0.8140499561306895, 'random_strength': 0.0029964590560178574, 'od_type': 'IncToDec', 'min_data_in_leaf': 54}. Best is trial 1 with value: 0.1572216898202896.\n",
      "[I 2024-10-29 17:33:18,289] Trial 2 finished with value: 0.1782383918762207 and parameters: {'objective': 'RMSE', 'learning_rate': 0.0018649561489743718, 'max_depth': 11, 'l2_leaf_reg': 0.0038876134669247574, 'bagging_temperature': 0.026397887765754358, 'random_strength': 1.6520880239608754e-07, 'od_type': 'IncToDec', 'min_data_in_leaf': 40}. Best is trial 2 with value: 0.1782383918762207.\n",
      "[I 2024-10-29 17:33:29,444] Trial 3 finished with value: 0.14035333693027496 and parameters: {'objective': 'MAE', 'learning_rate': 0.011293309986342528, 'max_depth': 5, 'l2_leaf_reg': 0.7659842790803524, 'bagging_temperature': 0.2512937092334515, 'random_strength': 1.7332034808043684, 'od_type': 'IncToDec', 'min_data_in_leaf': 45}. Best is trial 2 with value: 0.1782383918762207.\n",
      "[I 2024-10-29 17:33:43,558] Trial 4 finished with value: 0.12098592519760132 and parameters: {'objective': 'MAE', 'learning_rate': 0.06818386045139958, 'max_depth': 8, 'l2_leaf_reg': 0.004567943340195412, 'bagging_temperature': 0.9110892062708659, 'random_strength': 3.807335591282586e-08, 'od_type': 'Iter', 'min_data_in_leaf': 14}. Best is trial 2 with value: 0.1782383918762207.\n",
      "[I 2024-10-29 17:33:52,674] Trial 5 finished with value: 0.09133949130773544 and parameters: {'objective': 'MAE', 'learning_rate': 0.002263927228839254, 'max_depth': 3, 'l2_leaf_reg': 0.0030554622105823563, 'bagging_temperature': 0.15829633307088198, 'random_strength': 6.495454825048576e-05, 'od_type': 'Iter', 'min_data_in_leaf': 30}. Best is trial 2 with value: 0.1782383918762207.\n",
      "[I 2024-10-29 17:36:59,845] Trial 6 finished with value: 0.18024073541164398 and parameters: {'objective': 'RMSE', 'learning_rate': 0.013172840839330959, 'max_depth': 12, 'l2_leaf_reg': 0.8996329476545548, 'bagging_temperature': 0.31290952527345195, 'random_strength': 2.785472231563373, 'od_type': 'Iter', 'min_data_in_leaf': 66}. Best is trial 6 with value: 0.18024073541164398.\n",
      "[I 2024-10-29 17:39:15,765] Trial 7 finished with value: 0.11182639002799988 and parameters: {'objective': 'MAE', 'learning_rate': 0.05388574317788341, 'max_depth': 12, 'l2_leaf_reg': 0.6264574868504865, 'bagging_temperature': 0.31515711189085793, 'random_strength': 2.7438486598430448e-05, 'od_type': 'Iter', 'min_data_in_leaf': 43}. Best is trial 6 with value: 0.18024073541164398.\n",
      "[I 2024-10-29 17:39:25,170] Trial 8 finished with value: 0.12490897625684738 and parameters: {'objective': 'MAE', 'learning_rate': 0.02721225696469493, 'max_depth': 4, 'l2_leaf_reg': 0.10657164175146347, 'bagging_temperature': 0.5969927836246076, 'random_strength': 8.461200650142902e-08, 'od_type': 'Iter', 'min_data_in_leaf': 42}. Best is trial 6 with value: 0.18024073541164398.\n",
      "[I 2024-10-29 17:39:34,146] Trial 9 finished with value: 0.11408544331789017 and parameters: {'objective': 'MAE', 'learning_rate': 0.0012295404844197431, 'max_depth': 4, 'l2_leaf_reg': 7.032521275029269, 'bagging_temperature': 0.5802031498769249, 'random_strength': 0.11178827712611736, 'od_type': 'Iter', 'min_data_in_leaf': 63}. Best is trial 6 with value: 0.18024073541164398.\n"
     ]
    },
    {
     "data": {
      "text/plain": [
       "<__main__.OptunaBooster at 0x251677cbf10>"
      ]
     },
     "execution_count": 6,
     "metadata": {},
     "output_type": "execute_result"
    }
   ],
   "source": [
    "booster = OptunaBooster('catboost' , n_trials=10)\n",
    "\n",
    "booster.import_data(**input_data)\n",
    "booster.fit(silent=False)"
   ]
  },
  {
   "cell_type": "code",
   "execution_count": 3,
   "metadata": {},
   "outputs": [],
   "source": [
    "import xgboost\n",
    "ds = xgboost.DMatrix(**booster.booster.fit_train_ds.booster_inputs('xgboost' , group=booster.booster.booster_objective_rank))\n"
   ]
  },
  {
   "cell_type": "code",
   "execution_count": 7,
   "metadata": {},
   "outputs": [
    {
     "data": {
      "text/plain": [
       "23"
      ]
     },
     "execution_count": 7,
     "metadata": {},
     "output_type": "execute_result"
    }
   ],
   "source": [
    "ds.get_weight().size"
   ]
  },
  {
   "cell_type": "code",
   "execution_count": 11,
   "metadata": {},
   "outputs": [],
   "source": [
    "arr = ds.get_weight()"
   ]
  },
  {
   "cell_type": "code",
   "execution_count": 13,
   "metadata": {},
   "outputs": [
    {
     "data": {
      "text/plain": [
       "23"
      ]
     },
     "execution_count": 13,
     "metadata": {},
     "output_type": "execute_result"
    }
   ],
   "source": [
    "(arr / arr).size"
   ]
  },
  {
   "cell_type": "code",
   "execution_count": 10,
   "metadata": {},
   "outputs": [
    {
     "data": {
      "text/plain": [
       "torch.Size([10])"
      ]
     },
     "execution_count": 10,
     "metadata": {},
     "output_type": "execute_result"
    }
   ],
   "source": [
    "import torch\n",
    "torch.ones(10).size()"
   ]
  },
  {
   "cell_type": "code",
   "execution_count": 25,
   "metadata": {},
   "outputs": [
    {
     "data": {
      "text/plain": [
       "array([  4171.,   8364.,  12587.,  16828.,  21082.,  25355.,  29637.,\n",
       "        33906.,  38186.,  42482.,  46909.,  51370.,  55845.,  60338.,\n",
       "        64846.,  69357.,  73877.,  78415.,  82969.,  87531.,  92095.,\n",
       "        96673., 101270.], dtype=float32)"
      ]
     },
     "execution_count": 25,
     "metadata": {},
     "output_type": "execute_result"
    }
   ],
   "source": [
    "ds.get_weight().cumsum()[ds.get_group().cumsum() - 1]\n"
   ]
  },
  {
   "cell_type": "code",
   "execution_count": 34,
   "metadata": {},
   "outputs": [
    {
     "data": {
      "text/plain": [
       "[4171.0,\n",
       " 4193.0,\n",
       " 4223.0,\n",
       " 4241.0,\n",
       " 4254.0,\n",
       " 4273.0,\n",
       " 4282.0,\n",
       " 4269.0,\n",
       " 4280.0,\n",
       " 4296.0,\n",
       " 4427.0,\n",
       " 4461.0,\n",
       " 4475.0,\n",
       " 4493.0,\n",
       " 4508.0,\n",
       " 4511.0,\n",
       " 4520.0,\n",
       " 4538.0,\n",
       " 4554.0,\n",
       " 4562.0,\n",
       " 4564.0,\n",
       " 4578.0,\n",
       " 4597.0]"
      ]
     },
     "execution_count": 34,
     "metadata": {},
     "output_type": "execute_result"
    }
   ],
   "source": [
    "w = ds.get_weight()\n",
    "[w[e-length:e].sum() for e , length in zip(ds.get_group().cumsum() , ds.get_group())]"
   ]
  },
  {
   "cell_type": "code",
   "execution_count": 32,
   "metadata": {},
   "outputs": [
    {
     "data": {
      "text/plain": [
       "[(4171, 4171),\n",
       " (8364, 4193),\n",
       " (12587, 4223),\n",
       " (16828, 4241),\n",
       " (21082, 4254),\n",
       " (25355, 4273),\n",
       " (29637, 4282),\n",
       " (33906, 4269),\n",
       " (38186, 4280),\n",
       " (42482, 4296),\n",
       " (46909, 4427),\n",
       " (51370, 4461),\n",
       " (55845, 4475),\n",
       " (60338, 4493),\n",
       " (64846, 4508),\n",
       " (69357, 4511),\n",
       " (73877, 4520),\n",
       " (78415, 4538),\n",
       " (82969, 4554),\n",
       " (87531, 4562),\n",
       " (92095, 4564),\n",
       " (96673, 4578),\n",
       " (101270, 4597)]"
      ]
     },
     "execution_count": 32,
     "metadata": {},
     "output_type": "execute_result"
    }
   ],
   "source": [
    "list(zip(ds.get_group().cumsum() , ds.get_group()))"
   ]
  },
  {
   "cell_type": "code",
   "execution_count": 27,
   "metadata": {},
   "outputs": [
    {
     "data": {
      "text/plain": [
       "array([  4171,   8364,  12587,  16828,  21082,  25355,  29637,  33906,\n",
       "        38186,  42482,  46909,  51370,  55845,  60338,  64846,  69357,\n",
       "        73877,  78415,  82969,  87531,  92095,  96673, 101270],\n",
       "      dtype=uint32)"
      ]
     },
     "execution_count": 27,
     "metadata": {},
     "output_type": "execute_result"
    }
   ],
   "source": [
    "ds.get_group().cumsum() - 1"
   ]
  },
  {
   "cell_type": "code",
   "execution_count": 24,
   "metadata": {},
   "outputs": [
    {
     "data": {
      "text/plain": [
       "101270"
      ]
     },
     "execution_count": 24,
     "metadata": {},
     "output_type": "execute_result"
    }
   ],
   "source": [
    "ds.get_weight().size"
   ]
  },
  {
   "cell_type": "code",
   "execution_count": 22,
   "metadata": {},
   "outputs": [
    {
     "data": {
      "text/plain": [
       "array([  4171,   8364,  12587,  16828,  21082,  25355,  29637,  33906,\n",
       "        38186,  42482,  46909,  51370,  55845,  60338,  64846,  69357,\n",
       "        73877,  78415,  82969,  87531,  92095,  96673, 101270],\n",
       "      dtype=uint32)"
      ]
     },
     "execution_count": 22,
     "metadata": {},
     "output_type": "execute_result"
    }
   ],
   "source": [
    "ds.get_group().cumsum()"
   ]
  },
  {
   "cell_type": "code",
   "execution_count": 7,
   "metadata": {},
   "outputs": [
    {
     "data": {
      "text/plain": [
       "{'objective': 'mse',\n",
       " 'learning_rate': 0.0012563758558332416,\n",
       " 'max_depth': 6,\n",
       " 'num_leaves': 50,\n",
       " 'min_data_in_leaf': 20,\n",
       " 'reg_alpha': 2.2024704490931652e-07,\n",
       " 'reg_lambda': 48.26174068590397,\n",
       " 'feature_fraction': 0.2,\n",
       " 'bagging_fraction': 0.2}"
      ]
     },
     "execution_count": 7,
     "metadata": {},
     "output_type": "execute_result"
    }
   ],
   "source": [
    "booster.best_params"
   ]
  },
  {
   "cell_type": "code",
   "execution_count": 11,
   "metadata": {},
   "outputs": [],
   "source": [
    "pred = booster.predict('test').pred"
   ]
  },
  {
   "cell_type": "code",
   "execution_count": 19,
   "metadata": {},
   "outputs": [
    {
     "data": {
      "text/plain": [
       "(array([  3.,   1.,   1.,   0.,   4.,   1.,   0.,   2.,   2.,   2.,   1.,\n",
       "          4.,   2.,   5.,   2.,   4.,   5.,   9.,   6.,   3.,   4.,   8.,\n",
       "         11.,   1.,  11.,   9.,   7.,  15.,   7.,  13.,  17.,  15.,  10.,\n",
       "         23.,  12.,  19.,  26.,  21.,  20.,  41.,  22.,  24.,  23.,  19.,\n",
       "         32.,  32.,  25.,  45.,  32.,  35.,  40.,  35.,  35.,  34.,  39.,\n",
       "         45.,  52.,  49.,  42.,  51.,  74.,  54.,  63.,  84.,  96., 101.,\n",
       "        107., 116., 132., 153., 137., 149., 130., 171., 162., 129., 139.,\n",
       "        139., 142., 124.,  95.,  92.,  81.,  83.,  68.,  78.,  75.,  89.,\n",
       "         86.,  96.,  82., 109., 136., 132., 132., 128., 128.,  89.,  40.,\n",
       "         14.]),\n",
       " array([-1.42356084e-05,  5.94133155e-05,  1.33062239e-04,  2.06711163e-04,\n",
       "         2.80360087e-04,  3.54009011e-04,  4.27657935e-04,  5.01306859e-04,\n",
       "         5.74955783e-04,  6.48604707e-04,  7.22253630e-04,  7.95902554e-04,\n",
       "         8.69551478e-04,  9.43200402e-04,  1.01684933e-03,  1.09049825e-03,\n",
       "         1.16414717e-03,  1.23779610e-03,  1.31144502e-03,  1.38509395e-03,\n",
       "         1.45874287e-03,  1.53239179e-03,  1.60604072e-03,  1.67968964e-03,\n",
       "         1.75333856e-03,  1.82698749e-03,  1.90063641e-03,  1.97428534e-03,\n",
       "         2.04793426e-03,  2.12158318e-03,  2.19523211e-03,  2.26888103e-03,\n",
       "         2.34252996e-03,  2.41617888e-03,  2.48982780e-03,  2.56347673e-03,\n",
       "         2.63712565e-03,  2.71077457e-03,  2.78442350e-03,  2.85807242e-03,\n",
       "         2.93172135e-03,  3.00537027e-03,  3.07901919e-03,  3.15266812e-03,\n",
       "         3.22631704e-03,  3.29996597e-03,  3.37361489e-03,  3.44726381e-03,\n",
       "         3.52091274e-03,  3.59456166e-03,  3.66821059e-03,  3.74185951e-03,\n",
       "         3.81550843e-03,  3.88915736e-03,  3.96280628e-03,  4.03645520e-03,\n",
       "         4.11010413e-03,  4.18375305e-03,  4.25740198e-03,  4.33105090e-03,\n",
       "         4.40469982e-03,  4.47834875e-03,  4.55199767e-03,  4.62564660e-03,\n",
       "         4.69929552e-03,  4.77294444e-03,  4.84659337e-03,  4.92024229e-03,\n",
       "         4.99389122e-03,  5.06754014e-03,  5.14118906e-03,  5.21483799e-03,\n",
       "         5.28848691e-03,  5.36213583e-03,  5.43578476e-03,  5.50943368e-03,\n",
       "         5.58308261e-03,  5.65673153e-03,  5.73038045e-03,  5.80402938e-03,\n",
       "         5.87767830e-03,  5.95132723e-03,  6.02497615e-03,  6.09862507e-03,\n",
       "         6.17227400e-03,  6.24592292e-03,  6.31957184e-03,  6.39322077e-03,\n",
       "         6.46686969e-03,  6.54051862e-03,  6.61416754e-03,  6.68781646e-03,\n",
       "         6.76146539e-03,  6.83511431e-03,  6.90876324e-03,  6.98241216e-03,\n",
       "         7.05606108e-03,  7.12971001e-03,  7.20335893e-03,  7.27700786e-03,\n",
       "         7.35065678e-03]),\n",
       " <BarContainer object of 100 artists>)"
      ]
     },
     "execution_count": 19,
     "metadata": {},
     "output_type": "execute_result"
    },
    {
     "data": {
      "image/png": "[encoded data removed]",
      "text/plain": [
       "<Figure size 640x480 with 1 Axes>"
      ]
     },
     "metadata": {},
     "output_type": "display_data"
    }
   ],
   "source": [
    "import matplotlib.pyplot as plt\n",
    "plt.hist(pred , bins = 100)\n"
   ]
  },
  {
   "cell_type": "code",
   "execution_count": 12,
   "metadata": {},
   "outputs": [
    {
     "data": {
      "text/plain": [
       "{'train': secid=[     1      2      4 ... 872925 873169 873223]\n",
       " date=[20211029 20211130 20211231 20220128 20220228 20220331 20220429 20220531\n",
       "  20220630 20220729 20220831 20220930 20221031 20221130 20221230 20230131\n",
       "  20230228 20230331 20230428 20230531 20230630 20230731 20230831]\n",
       " feature=['Amount_20D_Avg', 'Amount_240D_Avg', 'Asset_LR', 'Asset_LR_Gr', 'Asset_LR_Ln', 'Bias_20D', 'Bias_5D', 'Bias_60D', 'BP_LR', 'BP_LR_Tangible', 'BuyMinusSell_5D_Amount', 'BuyMinusSell_5D_Vol', 'Capex2Revenue', 'CFROA_TTM', 'CFROE_TTM', 'CL', 'Close2MaxClose_240D', 'CloseTrend_240D_Reg', 'Close_Ln', 'CurAsset_LR_Gr', 'CurDebt_LR_Gr', 'CurrentRatio_LR', 'DayReturn_5D_Reg', 'Debt_LR_Gr', 'DP_LTM', 'EBIT2EV', 'EBITDA2EV', 'EPS_Fwd12M_R1M', 'EPS_Fwd12M_R3M', 'EPS_FY0_CV', 'EPS_FY0_R1M', 'EPS_FY0_R3M', 'EP_Fwd12M', 'EP_FY0', 'EP_FY1', 'EP_LYR', 'EP_LYR_Deducted', 'EP_TTM', 'EP_TTM_Deducted', 'Equity_LR_Gr', 'FCFP_LYR', 'FCFP_TTM', 'FixAsset_LR_Gr', 'FloatCap', 'FloatCap_Ln', 'FreeFloatCap_Ln', 'Free_FloatCap', 'GrossMargin_TTM', 'GrossMargin_TTM_CV', 'GrossMargin_TTM_YoY', 'GrossProfit2SalesExpenses_TTM', 'High2Low_20D', 'High2Low_5D', 'High2Low_60D', 'High2Low_Vol_20D_Corr', 'High2Low_Vol_5D_Corr', 'High2Low_Vol_60D_Corr', 'ILLIQ_20D', 'ILLIQ_240D', 'InventoryTurnover', 'IVFF_20D', 'IVR_20D', 'LPNP', 'LTDebt2Equity_LR', 'LTDebt2Equity_LR_YoY', 'MarketCap', 'MaxReturn_20D', 'MktCap_Ln', 'NetProfitDeducted_SQ_QoQ', 'NetProfitDeducted_SQ_YoY', 'NetProfitDeducted_TTM_YoY', 'NetProfitMargin_TTM', 'NetProfit_3Y_Gr', 'NetProfit_5Y_Gr', 'NetProfit_FY0_YoY', 'NetProfit_FY1_Gr', 'NetProfit_LYR_YoY', 'NetProfit_SQ_Acc', 'NetProfit_SQ_QoQ', 'NetProfit_SQ_YoY', 'NetProfit_TTM_YoY', 'NetProft_8Q_Acc', 'Num_Emp', 'Num_EPS_FY0', 'OCF2CurDebt', 'OCF2OperProfit_TTM', 'OCFA_Para', 'OCFA_Resd', 'OCFP_LYR', 'OCFP_TTM', 'OCF_3Y_Gr', 'OCF_5Y_Gr', 'OCF_LYR_YoY', 'OCF_SQ_Acc', 'OCF_SQ_QoQ', 'OCF_SQ_YoY', 'OCF_TTM_YoY', 'OperProfitMargin_TTM', 'OperProfit_SQ_Acc', 'OperProfit_SQ_QoQ', 'OperProfit_SQ_YoY', 'OperProfit_TTM_YoY', 'Piotroski_F_Score', 'PROC', 'QuickRatio_LR', 'Rating', 'Rating_adj', 'Rating_R1M', 'Rating_R3M', 'RealizedKurtosis_240D', 'RealizedKurtosis_60D', 'RealizedSkewness_240D', 'RealizedSkewness_60D', 'RealizedVolatility_240D', 'RealizedVolatility_60D', 'ReceivablesTurnover', 'Revenue2Asset', 'Revenue2EV', 'Revenue_3Y_Gr', 'Revenue_5Y_Gr', 'Revenue_LYR_YoY', 'Revenue_SQ_Acc', 'Revenue_SQ_QoQ', 'Revenue_SQ_YoY', 'Revenue_TTM', 'Revenue_TTM_Ln', 'Revenue_TTM_YoY', 'ROA_TTM', 'ROA_TTM_CV', 'ROA_TTM_YoY', 'ROE_Fwd12M', 'ROE_Fwd12M_R1M', 'ROE_Fwd12M_R3M', 'ROE_FY0', 'ROE_FY0_R1M', 'ROE_FY0_R3M', 'ROE_TTM', 'ROE_TTM_CV', 'ROE_TTM_YoY', 'ROIC_TTM', 'RSI_20D', 'RSI_5D', 'RSI_60D', 'RTN_1200D', 'RTN_120D', 'RTN_180D', 'RTN_1D', 'RTN_20D', 'RTN_240D', 'RTN_5D', 'RTN_60D', 'RTN_720D', 'RV', 'SmallTradeFlow_1D', 'SP_LYR', 'SP_TTM', 'SUE0', 'SUE1', 'SUR0', 'SUR1', 'TargetReturn', 'ThreeCosts2Revenue_TTM', 'Turnover_20D_Avg', 'Turnover_240D_Avg', 'Turnover_Close_20D_Corr', 'Turnover_Close_5D_Corr', 'Turnover_Close_60D_Corr', 'Vol_20D_240D_Avg', 'Vol_20D_CV']\n",
       " weight_method=BoosterWeightMethod(ts_type=None, cs_type=None, bm_type=None, ts_lin_rate=0.5, ts_half_life_rate=0.5, cs_top_tau=1.8070656297399068, cs_ones_rate=2.0, bm_rate=2.0, bm_secid=None)),\n",
       " 'valid': secid=[     1      2      4 ... 872925 873169 873223]\n",
       " date=[20230928]\n",
       " feature=['Amount_20D_Avg', 'Amount_240D_Avg', 'Asset_LR', 'Asset_LR_Gr', 'Asset_LR_Ln', 'Bias_20D', 'Bias_5D', 'Bias_60D', 'BP_LR', 'BP_LR_Tangible', 'BuyMinusSell_5D_Amount', 'BuyMinusSell_5D_Vol', 'Capex2Revenue', 'CFROA_TTM', 'CFROE_TTM', 'CL', 'Close2MaxClose_240D', 'CloseTrend_240D_Reg', 'Close_Ln', 'CurAsset_LR_Gr', 'CurDebt_LR_Gr', 'CurrentRatio_LR', 'DayReturn_5D_Reg', 'Debt_LR_Gr', 'DP_LTM', 'EBIT2EV', 'EBITDA2EV', 'EPS_Fwd12M_R1M', 'EPS_Fwd12M_R3M', 'EPS_FY0_CV', 'EPS_FY0_R1M', 'EPS_FY0_R3M', 'EP_Fwd12M', 'EP_FY0', 'EP_FY1', 'EP_LYR', 'EP_LYR_Deducted', 'EP_TTM', 'EP_TTM_Deducted', 'Equity_LR_Gr', 'FCFP_LYR', 'FCFP_TTM', 'FixAsset_LR_Gr', 'FloatCap', 'FloatCap_Ln', 'FreeFloatCap_Ln', 'Free_FloatCap', 'GrossMargin_TTM', 'GrossMargin_TTM_CV', 'GrossMargin_TTM_YoY', 'GrossProfit2SalesExpenses_TTM', 'High2Low_20D', 'High2Low_5D', 'High2Low_60D', 'High2Low_Vol_20D_Corr', 'High2Low_Vol_5D_Corr', 'High2Low_Vol_60D_Corr', 'ILLIQ_20D', 'ILLIQ_240D', 'InventoryTurnover', 'IVFF_20D', 'IVR_20D', 'LPNP', 'LTDebt2Equity_LR', 'LTDebt2Equity_LR_YoY', 'MarketCap', 'MaxReturn_20D', 'MktCap_Ln', 'NetProfitDeducted_SQ_QoQ', 'NetProfitDeducted_SQ_YoY', 'NetProfitDeducted_TTM_YoY', 'NetProfitMargin_TTM', 'NetProfit_3Y_Gr', 'NetProfit_5Y_Gr', 'NetProfit_FY0_YoY', 'NetProfit_FY1_Gr', 'NetProfit_LYR_YoY', 'NetProfit_SQ_Acc', 'NetProfit_SQ_QoQ', 'NetProfit_SQ_YoY', 'NetProfit_TTM_YoY', 'NetProft_8Q_Acc', 'Num_Emp', 'Num_EPS_FY0', 'OCF2CurDebt', 'OCF2OperProfit_TTM', 'OCFA_Para', 'OCFA_Resd', 'OCFP_LYR', 'OCFP_TTM', 'OCF_3Y_Gr', 'OCF_5Y_Gr', 'OCF_LYR_YoY', 'OCF_SQ_Acc', 'OCF_SQ_QoQ', 'OCF_SQ_YoY', 'OCF_TTM_YoY', 'OperProfitMargin_TTM', 'OperProfit_SQ_Acc', 'OperProfit_SQ_QoQ', 'OperProfit_SQ_YoY', 'OperProfit_TTM_YoY', 'Piotroski_F_Score', 'PROC', 'QuickRatio_LR', 'Rating', 'Rating_adj', 'Rating_R1M', 'Rating_R3M', 'RealizedKurtosis_240D', 'RealizedKurtosis_60D', 'RealizedSkewness_240D', 'RealizedSkewness_60D', 'RealizedVolatility_240D', 'RealizedVolatility_60D', 'ReceivablesTurnover', 'Revenue2Asset', 'Revenue2EV', 'Revenue_3Y_Gr', 'Revenue_5Y_Gr', 'Revenue_LYR_YoY', 'Revenue_SQ_Acc', 'Revenue_SQ_QoQ', 'Revenue_SQ_YoY', 'Revenue_TTM', 'Revenue_TTM_Ln', 'Revenue_TTM_YoY', 'ROA_TTM', 'ROA_TTM_CV', 'ROA_TTM_YoY', 'ROE_Fwd12M', 'ROE_Fwd12M_R1M', 'ROE_Fwd12M_R3M', 'ROE_FY0', 'ROE_FY0_R1M', 'ROE_FY0_R3M', 'ROE_TTM', 'ROE_TTM_CV', 'ROE_TTM_YoY', 'ROIC_TTM', 'RSI_20D', 'RSI_5D', 'RSI_60D', 'RTN_1200D', 'RTN_120D', 'RTN_180D', 'RTN_1D', 'RTN_20D', 'RTN_240D', 'RTN_5D', 'RTN_60D', 'RTN_720D', 'RV', 'SmallTradeFlow_1D', 'SP_LYR', 'SP_TTM', 'SUE0', 'SUE1', 'SUR0', 'SUR1', 'TargetReturn', 'ThreeCosts2Revenue_TTM', 'Turnover_20D_Avg', 'Turnover_240D_Avg', 'Turnover_Close_20D_Corr', 'Turnover_Close_5D_Corr', 'Turnover_Close_60D_Corr', 'Vol_20D_240D_Avg', 'Vol_20D_CV']\n",
       " weight_method=BoosterWeightMethod(ts_type=None, cs_type=None, bm_type=None, ts_lin_rate=0.5, ts_half_life_rate=0.5, cs_top_tau=1.8070656297399068, cs_ones_rate=2.0, bm_rate=2.0, bm_secid=None))}"
      ]
     },
     "execution_count": 12,
     "metadata": {},
     "output_type": "execute_result"
    }
   ],
   "source": [
    "booster.booster.data"
   ]
  },
  {
   "cell_type": "code",
   "execution_count": 21,
   "metadata": {},
   "outputs": [
    {
     "data": {
      "text/plain": [
       "BoosterOutput(pred=tensor([0.0051, 0.0051, 0.0057,  ..., 0.0042, 0.0069, 0.0069],\n",
       "       dtype=torch.float64), secid=array([     1,      2,      4, ..., 872925, 873169, 873223]), date=array([20230928]), finite=tensor([[True],\n",
       "        [True],\n",
       "        [True],\n",
       "        ...,\n",
       "        [True],\n",
       "        [True],\n",
       "        [True]]), label=tensor([[-0.0661],\n",
       "        [-0.1338],\n",
       "        [ 0.0823],\n",
       "        ...,\n",
       "        [-0.1180],\n",
       "        [-0.0675],\n",
       "        [-0.0852]], dtype=torch.float64))"
      ]
     },
     "execution_count": 21,
     "metadata": {},
     "output_type": "execute_result"
    }
   ],
   "source": [
    "pred = booster.predict('valid')\n",
    "pred"
   ]
  },
  {
   "cell_type": "code",
   "execution_count": 9,
   "metadata": {},
   "outputs": [],
   "source": [
    "pred = booster.predict('train')"
   ]
  },
  {
   "cell_type": "code",
   "execution_count": 25,
   "metadata": {},
   "outputs": [
    {
     "data": {
      "application/vnd.plotly.v1+json": {
       "config": {
        "plotlyServerURL": "https://plot.ly"
       },
       "data": [
        {
         "colorbar": {
          "title": {
           "text": "Objective Value"
          }
         },
         "colorscale": [
          [
           0,
           "rgb(247,251,255)"
          ],
          [
           0.125,
           "rgb(222,235,247)"
          ],
          [
           0.25,
           "rgb(198,219,239)"
          ],
          [
           0.375,
           "rgb(158,202,225)"
          ],
          [
           0.5,
           "rgb(107,174,214)"
          ],
          [
           0.625,
           "rgb(66,146,198)"
          ],
          [
           0.75,
           "rgb(33,113,181)"
          ],
          [
           0.875,
           "rgb(8,81,156)"
          ],
          [
           1,
           "rgb(8,48,107)"
          ]
         ],
         "connectgaps": true,
         "contours": {
          "coloring": "heatmap"
         },
         "hoverinfo": "none",
         "line": {
          "smoothing": 1.3
         },
         "reversescale": false,
         "type": "contour",
         "x": [
          2.55,
          3,
          4,
          6,
          7,
          8,
          9,
          10,
          11,
          12,
          12.45
         ],
         "y": [
          "mae",
          "mse",
          "softmax"
         ],
         "z": [
          [
           null,
           0.1397552192211151,
           0.14710195362567902,
           null,
           0.14195279777050018,
           null,
           null,
           null,
           null,
           null,
           null
          ],
          [
           null,
           null,
           0.1618378907442093,
           0.17613235116004944,
           0.16714918613433838,
           0.16363178193569183,
           0.16693195700645447,
           0.17376838624477386,
           null,
           0.1593555212020874,
           null
          ],
          [
           null,
           null,
           null,
           null,
           null,
           0.137393981218338,
           0.1355186402797699,
           0.1341961920261383,
           0.13230116665363312,
           null,
           null
          ]
         ]
        },
        {
         "marker": {
          "color": "black",
          "line": {
           "color": "Gray",
           "width": 2
          }
         },
         "mode": "markers",
         "name": "Feasible Trial",
         "showlegend": false,
         "type": "scatter",
         "x": [
          3,
          10,
          7,
          11,
          4,
          4,
          8,
          9,
          10,
          4,
          12,
          6,
          6,
          6,
          9,
          6,
          12,
          8,
          10,
          7
         ],
         "y": [
          "mae",
          "mse",
          "mse",
          "softmax",
          "mae",
          "mse",
          "softmax",
          "softmax",
          "softmax",
          "mae",
          "mse",
          "mse",
          "mse",
          "mse",
          "mse",
          "mse",
          "mse",
          "mse",
          "mse",
          "mae"
         ]
        },
        {
         "marker": {
          "color": "#cccccc",
          "line": {
           "color": "Gray",
           "width": 2
          }
         },
         "mode": "markers",
         "name": "Infeasible Trial",
         "showlegend": false,
         "type": "scatter",
         "x": [],
         "y": []
        }
       ],
       "layout": {
        "template": {
         "data": {
          "bar": [
           {
            "error_x": {
             "color": "#2a3f5f"
            },
            "error_y": {
             "color": "#2a3f5f"
            },
            "marker": {
             "line": {
              "color": "#E5ECF6",
              "width": 0.5
             },
             "pattern": {
              "fillmode": "overlay",
              "size": 10,
              "solidity": 0.2
             }
            },
            "type": "bar"
           }
          ],
          "barpolar": [
           {
            "marker": {
             "line": {
              "color": "#E5ECF6",
              "width": 0.5
             },
             "pattern": {
              "fillmode": "overlay",
              "size": 10,
              "solidity": 0.2
             }
            },
            "type": "barpolar"
           }
          ],
          "carpet": [
           {
            "aaxis": {
             "endlinecolor": "#2a3f5f",
             "gridcolor": "white",
             "linecolor": "white",
             "minorgridcolor": "white",
             "startlinecolor": "#2a3f5f"
            },
            "baxis": {
             "endlinecolor": "#2a3f5f",
             "gridcolor": "white",
             "linecolor": "white",
             "minorgridcolor": "white",
             "startlinecolor": "#2a3f5f"
            },
            "type": "carpet"
           }
          ],
          "choropleth": [
           {
            "colorbar": {
             "outlinewidth": 0,
             "ticks": ""
            },
            "type": "choropleth"
           }
          ],
          "contour": [
           {
            "colorbar": {
             "outlinewidth": 0,
             "ticks": ""
            },
            "colorscale": [
             [
              0,
              "#0d0887"
             ],
             [
              0.1111111111111111,
              "#46039f"
             ],
             [
              0.2222222222222222,
              "#7201a8"
             ],
             [
              0.3333333333333333,
              "#9c179e"
             ],
             [
              0.4444444444444444,
              "#bd3786"
             ],
             [
              0.5555555555555556,
              "#d8576b"
             ],
             [
              0.6666666666666666,
              "#ed7953"
             ],
             [
              0.7777777777777778,
              "#fb9f3a"
             ],
             [
              0.8888888888888888,
              "#fdca26"
             ],
             [
              1,
              "#f0f921"
             ]
            ],
            "type": "contour"
           }
          ],
          "contourcarpet": [
           {
            "colorbar": {
             "outlinewidth": 0,
             "ticks": ""
            },
            "type": "contourcarpet"
           }
          ],
          "heatmap": [
           {
            "colorbar": {
             "outlinewidth": 0,
             "ticks": ""
            },
            "colorscale": [
             [
              0,
              "#0d0887"
             ],
             [
              0.1111111111111111,
              "#46039f"
             ],
             [
              0.2222222222222222,
              "#7201a8"
             ],
             [
              0.3333333333333333,
              "#9c179e"
             ],
             [
              0.4444444444444444,
              "#bd3786"
             ],
             [
              0.5555555555555556,
              "#d8576b"
             ],
             [
              0.6666666666666666,
              "#ed7953"
             ],
             [
              0.7777777777777778,
              "#fb9f3a"
             ],
             [
              0.8888888888888888,
              "#fdca26"
             ],
             [
              1,
              "#f0f921"
             ]
            ],
            "type": "heatmap"
           }
          ],
          "heatmapgl": [
           {
            "colorbar": {
             "outlinewidth": 0,
             "ticks": ""
            },
            "colorscale": [
             [
              0,
              "#0d0887"
             ],
             [
              0.1111111111111111,
              "#46039f"
             ],
             [
              0.2222222222222222,
              "#7201a8"
             ],
             [
              0.3333333333333333,
              "#9c179e"
             ],
             [
              0.4444444444444444,
              "#bd3786"
             ],
             [
              0.5555555555555556,
              "#d8576b"
             ],
             [
              0.6666666666666666,
              "#ed7953"
             ],
             [
              0.7777777777777778,
              "#fb9f3a"
             ],
             [
              0.8888888888888888,
              "#fdca26"
             ],
             [
              1,
              "#f0f921"
             ]
            ],
            "type": "heatmapgl"
           }
          ],
          "histogram": [
           {
            "marker": {
             "pattern": {
              "fillmode": "overlay",
              "size": 10,
              "solidity": 0.2
             }
            },
            "type": "histogram"
           }
          ],
          "histogram2d": [
           {
            "colorbar": {
             "outlinewidth": 0,
             "ticks": ""
            },
            "colorscale": [
             [
              0,
              "#0d0887"
             ],
             [
              0.1111111111111111,
              "#46039f"
             ],
             [
              0.2222222222222222,
              "#7201a8"
             ],
             [
              0.3333333333333333,
              "#9c179e"
             ],
             [
              0.4444444444444444,
              "#bd3786"
             ],
             [
              0.5555555555555556,
              "#d8576b"
             ],
             [
              0.6666666666666666,
              "#ed7953"
             ],
             [
              0.7777777777777778,
              "#fb9f3a"
             ],
             [
              0.8888888888888888,
              "#fdca26"
             ],
             [
              1,
              "#f0f921"
             ]
            ],
            "type": "histogram2d"
           }
          ],
          "histogram2dcontour": [
           {
            "colorbar": {
             "outlinewidth": 0,
             "ticks": ""
            },
            "colorscale": [
             [
              0,
              "#0d0887"
             ],
             [
              0.1111111111111111,
              "#46039f"
             ],
             [
              0.2222222222222222,
              "#7201a8"
             ],
             [
              0.3333333333333333,
              "#9c179e"
             ],
             [
              0.4444444444444444,
              "#bd3786"
             ],
             [
              0.5555555555555556,
              "#d8576b"
             ],
             [
              0.6666666666666666,
              "#ed7953"
             ],
             [
              0.7777777777777778,
              "#fb9f3a"
             ],
             [
              0.8888888888888888,
              "#fdca26"
             ],
             [
              1,
              "#f0f921"
             ]
            ],
            "type": "histogram2dcontour"
           }
          ],
          "mesh3d": [
           {
            "colorbar": {
             "outlinewidth": 0,
             "ticks": ""
            },
            "type": "mesh3d"
           }
          ],
          "parcoords": [
           {
            "line": {
             "colorbar": {
              "outlinewidth": 0,
              "ticks": ""
             }
            },
            "type": "parcoords"
           }
          ],
          "pie": [
           {
            "automargin": true,
            "type": "pie"
           }
          ],
          "scatter": [
           {
            "fillpattern": {
             "fillmode": "overlay",
             "size": 10,
             "solidity": 0.2
            },
            "type": "scatter"
           }
          ],
          "scatter3d": [
           {
            "line": {
             "colorbar": {
              "outlinewidth": 0,
              "ticks": ""
             }
            },
            "marker": {
             "colorbar": {
              "outlinewidth": 0,
              "ticks": ""
             }
            },
            "type": "scatter3d"
           }
          ],
          "scattercarpet": [
           {
            "marker": {
             "colorbar": {
              "outlinewidth": 0,
              "ticks": ""
             }
            },
            "type": "scattercarpet"
           }
          ],
          "scattergeo": [
           {
            "marker": {
             "colorbar": {
              "outlinewidth": 0,
              "ticks": ""
             }
            },
            "type": "scattergeo"
           }
          ],
          "scattergl": [
           {
            "marker": {
             "colorbar": {
              "outlinewidth": 0,
              "ticks": ""
             }
            },
            "type": "scattergl"
           }
          ],
          "scattermapbox": [
           {
            "marker": {
             "colorbar": {
              "outlinewidth": 0,
              "ticks": ""
             }
            },
            "type": "scattermapbox"
           }
          ],
          "scatterpolar": [
           {
            "marker": {
             "colorbar": {
              "outlinewidth": 0,
              "ticks": ""
             }
            },
            "type": "scatterpolar"
           }
          ],
          "scatterpolargl": [
           {
            "marker": {
             "colorbar": {
              "outlinewidth": 0,
              "ticks": ""
             }
            },
            "type": "scatterpolargl"
           }
          ],
          "scatterternary": [
           {
            "marker": {
             "colorbar": {
              "outlinewidth": 0,
              "ticks": ""
             }
            },
            "type": "scatterternary"
           }
          ],
          "surface": [
           {
            "colorbar": {
             "outlinewidth": 0,
             "ticks": ""
            },
            "colorscale": [
             [
              0,
              "#0d0887"
             ],
             [
              0.1111111111111111,
              "#46039f"
             ],
             [
              0.2222222222222222,
              "#7201a8"
             ],
             [
              0.3333333333333333,
              "#9c179e"
             ],
             [
              0.4444444444444444,
              "#bd3786"
             ],
             [
              0.5555555555555556,
              "#d8576b"
             ],
             [
              0.6666666666666666,
              "#ed7953"
             ],
             [
              0.7777777777777778,
              "#fb9f3a"
             ],
             [
              0.8888888888888888,
              "#fdca26"
             ],
             [
              1,
              "#f0f921"
             ]
            ],
            "type": "surface"
           }
          ],
          "table": [
           {
            "cells": {
             "fill": {
              "color": "#EBF0F8"
             },
             "line": {
              "color": "white"
             }
            },
            "header": {
             "fill": {
              "color": "#C8D4E3"
             },
             "line": {
              "color": "white"
             }
            },
            "type": "table"
           }
          ]
         },
         "layout": {
          "annotationdefaults": {
           "arrowcolor": "#2a3f5f",
           "arrowhead": 0,
           "arrowwidth": 1
          },
          "autotypenumbers": "strict",
          "coloraxis": {
           "colorbar": {
            "outlinewidth": 0,
            "ticks": ""
           }
          },
          "colorscale": {
           "diverging": [
            [
             0,
             "#8e0152"
            ],
            [
             0.1,
             "#c51b7d"
            ],
            [
             0.2,
             "#de77ae"
            ],
            [
             0.3,
             "#f1b6da"
            ],
            [
             0.4,
             "#fde0ef"
            ],
            [
             0.5,
             "#f7f7f7"
            ],
            [
             0.6,
             "#e6f5d0"
            ],
            [
             0.7,
             "#b8e186"
            ],
            [
             0.8,
             "#7fbc41"
            ],
            [
             0.9,
             "#4d9221"
            ],
            [
             1,
             "#276419"
            ]
           ],
           "sequential": [
            [
             0,
             "#0d0887"
            ],
            [
             0.1111111111111111,
             "#46039f"
            ],
            [
             0.2222222222222222,
             "#7201a8"
            ],
            [
             0.3333333333333333,
             "#9c179e"
            ],
            [
             0.4444444444444444,
             "#bd3786"
            ],
            [
             0.5555555555555556,
             "#d8576b"
            ],
            [
             0.6666666666666666,
             "#ed7953"
            ],
            [
             0.7777777777777778,
             "#fb9f3a"
            ],
            [
             0.8888888888888888,
             "#fdca26"
            ],
            [
             1,
             "#f0f921"
            ]
           ],
           "sequentialminus": [
            [
             0,
             "#0d0887"
            ],
            [
             0.1111111111111111,
             "#46039f"
            ],
            [
             0.2222222222222222,
             "#7201a8"
            ],
            [
             0.3333333333333333,
             "#9c179e"
            ],
            [
             0.4444444444444444,
             "#bd3786"
            ],
            [
             0.5555555555555556,
             "#d8576b"
            ],
            [
             0.6666666666666666,
             "#ed7953"
            ],
            [
             0.7777777777777778,
             "#fb9f3a"
            ],
            [
             0.8888888888888888,
             "#fdca26"
            ],
            [
             1,
             "#f0f921"
            ]
           ]
          },
          "colorway": [
           "#636efa",
           "#EF553B",
           "#00cc96",
           "#ab63fa",
           "#FFA15A",
           "#19d3f3",
           "#FF6692",
           "#B6E880",
           "#FF97FF",
           "#FECB52"
          ],
          "font": {
           "color": "#2a3f5f"
          },
          "geo": {
           "bgcolor": "white",
           "lakecolor": "white",
           "landcolor": "#E5ECF6",
           "showlakes": true,
           "showland": true,
           "subunitcolor": "white"
          },
          "hoverlabel": {
           "align": "left"
          },
          "hovermode": "closest",
          "mapbox": {
           "style": "light"
          },
          "paper_bgcolor": "white",
          "plot_bgcolor": "#E5ECF6",
          "polar": {
           "angularaxis": {
            "gridcolor": "white",
            "linecolor": "white",
            "ticks": ""
           },
           "bgcolor": "#E5ECF6",
           "radialaxis": {
            "gridcolor": "white",
            "linecolor": "white",
            "ticks": ""
           }
          },
          "scene": {
           "xaxis": {
            "backgroundcolor": "#E5ECF6",
            "gridcolor": "white",
            "gridwidth": 2,
            "linecolor": "white",
            "showbackground": true,
            "ticks": "",
            "zerolinecolor": "white"
           },
           "yaxis": {
            "backgroundcolor": "#E5ECF6",
            "gridcolor": "white",
            "gridwidth": 2,
            "linecolor": "white",
            "showbackground": true,
            "ticks": "",
            "zerolinecolor": "white"
           },
           "zaxis": {
            "backgroundcolor": "#E5ECF6",
            "gridcolor": "white",
            "gridwidth": 2,
            "linecolor": "white",
            "showbackground": true,
            "ticks": "",
            "zerolinecolor": "white"
           }
          },
          "shapedefaults": {
           "line": {
            "color": "#2a3f5f"
           }
          },
          "ternary": {
           "aaxis": {
            "gridcolor": "white",
            "linecolor": "white",
            "ticks": ""
           },
           "baxis": {
            "gridcolor": "white",
            "linecolor": "white",
            "ticks": ""
           },
           "bgcolor": "#E5ECF6",
           "caxis": {
            "gridcolor": "white",
            "linecolor": "white",
            "ticks": ""
           }
          },
          "title": {
           "x": 0.05
          },
          "xaxis": {
           "automargin": true,
           "gridcolor": "white",
           "linecolor": "white",
           "ticks": "",
           "title": {
            "standoff": 15
           },
           "zerolinecolor": "white",
           "zerolinewidth": 2
          },
          "yaxis": {
           "automargin": true,
           "gridcolor": "white",
           "linecolor": "white",
           "ticks": "",
           "title": {
            "standoff": 15
           },
           "zerolinecolor": "white",
           "zerolinewidth": 2
          }
         }
        },
        "title": {
         "text": "Contour Plot"
        },
        "xaxis": {
         "range": [
          2.55,
          12.45
         ],
         "title": {
          "text": "max_depth"
         }
        },
        "yaxis": {
         "range": [
          -0.1,
          2.1
         ],
         "title": {
          "text": "objective"
         },
         "type": "category"
        }
       }
      }
     },
     "metadata": {},
     "output_type": "display_data"
    }
   ],
   "source": [
    "booster.study_plot('contour', params = ['objective' , 'max_depth'])"
   ]
  },
  {
   "cell_type": "code",
   "execution_count": 26,
   "metadata": {},
   "outputs": [
    {
     "data": {
      "application/vnd.plotly.v1+json": {
       "config": {
        "plotlyServerURL": "https://plot.ly"
       },
       "data": [
        {
         "cliponaxis": false,
         "hovertemplate": [
          "reg_alpha (FloatDistribution): 0.00027993652365512696<extra></extra>",
          "min_data_in_leaf (IntDistribution): 0.0019271973375806818<extra></extra>",
          "reg_lambda (FloatDistribution): 0.0026211164524174223<extra></extra>",
          "bagging_fraction (FloatDistribution): 0.006215741053400796<extra></extra>",
          "num_leaves (IntDistribution): 0.008386166259073598<extra></extra>",
          "max_depth (IntDistribution): 0.023613712837127272<extra></extra>",
          "learning_rate (FloatDistribution): 0.03133904316208028<extra></extra>",
          "feature_fraction (FloatDistribution): 0.0317156028279955<extra></extra>",
          "objective (CategoricalDistribution): 0.8939014835466692<extra></extra>"
         ],
         "name": "Objective Value",
         "orientation": "h",
         "text": [
          "<0.01",
          "<0.01",
          "<0.01",
          "<0.01",
          "<0.01",
          "0.02",
          "0.03",
          "0.03",
          "0.89"
         ],
         "textposition": "outside",
         "type": "bar",
         "x": [
          0.00027993652365512696,
          0.0019271973375806818,
          0.0026211164524174223,
          0.006215741053400796,
          0.008386166259073598,
          0.023613712837127272,
          0.03133904316208028,
          0.0317156028279955,
          0.8939014835466692
         ],
         "y": [
          "reg_alpha",
          "min_data_in_leaf",
          "reg_lambda",
          "bagging_fraction",
          "num_leaves",
          "max_depth",
          "learning_rate",
          "feature_fraction",
          "objective"
         ]
        }
       ],
       "layout": {
        "template": {
         "data": {
          "bar": [
           {
            "error_x": {
             "color": "#2a3f5f"
            },
            "error_y": {
             "color": "#2a3f5f"
            },
            "marker": {
             "line": {
              "color": "#E5ECF6",
              "width": 0.5
             },
             "pattern": {
              "fillmode": "overlay",
              "size": 10,
              "solidity": 0.2
             }
            },
            "type": "bar"
           }
          ],
          "barpolar": [
           {
            "marker": {
             "line": {
              "color": "#E5ECF6",
              "width": 0.5
             },
             "pattern": {
              "fillmode": "overlay",
              "size": 10,
              "solidity": 0.2
             }
            },
            "type": "barpolar"
           }
          ],
          "carpet": [
           {
            "aaxis": {
             "endlinecolor": "#2a3f5f",
             "gridcolor": "white",
             "linecolor": "white",
             "minorgridcolor": "white",
             "startlinecolor": "#2a3f5f"
            },
            "baxis": {
             "endlinecolor": "#2a3f5f",
             "gridcolor": "white",
             "linecolor": "white",
             "minorgridcolor": "white",
             "startlinecolor": "#2a3f5f"
            },
            "type": "carpet"
           }
          ],
          "choropleth": [
           {
            "colorbar": {
             "outlinewidth": 0,
             "ticks": ""
            },
            "type": "choropleth"
           }
          ],
          "contour": [
           {
            "colorbar": {
             "outlinewidth": 0,
             "ticks": ""
            },
            "colorscale": [
             [
              0,
              "#0d0887"
             ],
             [
              0.1111111111111111,
              "#46039f"
             ],
             [
              0.2222222222222222,
              "#7201a8"
             ],
             [
              0.3333333333333333,
              "#9c179e"
             ],
             [
              0.4444444444444444,
              "#bd3786"
             ],
             [
              0.5555555555555556,
              "#d8576b"
             ],
             [
              0.6666666666666666,
              "#ed7953"
             ],
             [
              0.7777777777777778,
              "#fb9f3a"
             ],
             [
              0.8888888888888888,
              "#fdca26"
             ],
             [
              1,
              "#f0f921"
             ]
            ],
            "type": "contour"
           }
          ],
          "contourcarpet": [
           {
            "colorbar": {
             "outlinewidth": 0,
             "ticks": ""
            },
            "type": "contourcarpet"
           }
          ],
          "heatmap": [
           {
            "colorbar": {
             "outlinewidth": 0,
             "ticks": ""
            },
            "colorscale": [
             [
              0,
              "#0d0887"
             ],
             [
              0.1111111111111111,
              "#46039f"
             ],
             [
              0.2222222222222222,
              "#7201a8"
             ],
             [
              0.3333333333333333,
              "#9c179e"
             ],
             [
              0.4444444444444444,
              "#bd3786"
             ],
             [
              0.5555555555555556,
              "#d8576b"
             ],
             [
              0.6666666666666666,
              "#ed7953"
             ],
             [
              0.7777777777777778,
              "#fb9f3a"
             ],
             [
              0.8888888888888888,
              "#fdca26"
             ],
             [
              1,
              "#f0f921"
             ]
            ],
            "type": "heatmap"
           }
          ],
          "heatmapgl": [
           {
            "colorbar": {
             "outlinewidth": 0,
             "ticks": ""
            },
            "colorscale": [
             [
              0,
              "#0d0887"
             ],
             [
              0.1111111111111111,
              "#46039f"
             ],
             [
              0.2222222222222222,
              "#7201a8"
             ],
             [
              0.3333333333333333,
              "#9c179e"
             ],
             [
              0.4444444444444444,
              "#bd3786"
             ],
             [
              0.5555555555555556,
              "#d8576b"
             ],
             [
              0.6666666666666666,
              "#ed7953"
             ],
             [
              0.7777777777777778,
              "#fb9f3a"
             ],
             [
              0.8888888888888888,
              "#fdca26"
             ],
             [
              1,
              "#f0f921"
             ]
            ],
            "type": "heatmapgl"
           }
          ],
          "histogram": [
           {
            "marker": {
             "pattern": {
              "fillmode": "overlay",
              "size": 10,
              "solidity": 0.2
             }
            },
            "type": "histogram"
           }
          ],
          "histogram2d": [
           {
            "colorbar": {
             "outlinewidth": 0,
             "ticks": ""
            },
            "colorscale": [
             [
              0,
              "#0d0887"
             ],
             [
              0.1111111111111111,
              "#46039f"
             ],
             [
              0.2222222222222222,
              "#7201a8"
             ],
             [
              0.3333333333333333,
              "#9c179e"
             ],
             [
              0.4444444444444444,
              "#bd3786"
             ],
             [
              0.5555555555555556,
              "#d8576b"
             ],
             [
              0.6666666666666666,
              "#ed7953"
             ],
             [
              0.7777777777777778,
              "#fb9f3a"
             ],
             [
              0.8888888888888888,
              "#fdca26"
             ],
             [
              1,
              "#f0f921"
             ]
            ],
            "type": "histogram2d"
           }
          ],
          "histogram2dcontour": [
           {
            "colorbar": {
             "outlinewidth": 0,
             "ticks": ""
            },
            "colorscale": [
             [
              0,
              "#0d0887"
             ],
             [
              0.1111111111111111,
              "#46039f"
             ],
             [
              0.2222222222222222,
              "#7201a8"
             ],
             [
              0.3333333333333333,
              "#9c179e"
             ],
             [
              0.4444444444444444,
              "#bd3786"
             ],
             [
              0.5555555555555556,
              "#d8576b"
             ],
             [
              0.6666666666666666,
              "#ed7953"
             ],
             [
              0.7777777777777778,
              "#fb9f3a"
             ],
             [
              0.8888888888888888,
              "#fdca26"
             ],
             [
              1,
              "#f0f921"
             ]
            ],
            "type": "histogram2dcontour"
           }
          ],
          "mesh3d": [
           {
            "colorbar": {
             "outlinewidth": 0,
             "ticks": ""
            },
            "type": "mesh3d"
           }
          ],
          "parcoords": [
           {
            "line": {
             "colorbar": {
              "outlinewidth": 0,
              "ticks": ""
             }
            },
            "type": "parcoords"
           }
          ],
          "pie": [
           {
            "automargin": true,
            "type": "pie"
           }
          ],
          "scatter": [
           {
            "fillpattern": {
             "fillmode": "overlay",
             "size": 10,
             "solidity": 0.2
            },
            "type": "scatter"
           }
          ],
          "scatter3d": [
           {
            "line": {
             "colorbar": {
              "outlinewidth": 0,
              "ticks": ""
             }
            },
            "marker": {
             "colorbar": {
              "outlinewidth": 0,
              "ticks": ""
             }
            },
            "type": "scatter3d"
           }
          ],
          "scattercarpet": [
           {
            "marker": {
             "colorbar": {
              "outlinewidth": 0,
              "ticks": ""
             }
            },
            "type": "scattercarpet"
           }
          ],
          "scattergeo": [
           {
            "marker": {
             "colorbar": {
              "outlinewidth": 0,
              "ticks": ""
             }
            },
            "type": "scattergeo"
           }
          ],
          "scattergl": [
           {
            "marker": {
             "colorbar": {
              "outlinewidth": 0,
              "ticks": ""
             }
            },
            "type": "scattergl"
           }
          ],
          "scattermapbox": [
           {
            "marker": {
             "colorbar": {
              "outlinewidth": 0,
              "ticks": ""
             }
            },
            "type": "scattermapbox"
           }
          ],
          "scatterpolar": [
           {
            "marker": {
             "colorbar": {
              "outlinewidth": 0,
              "ticks": ""
             }
            },
            "type": "scatterpolar"
           }
          ],
          "scatterpolargl": [
           {
            "marker": {
             "colorbar": {
              "outlinewidth": 0,
              "ticks": ""
             }
            },
            "type": "scatterpolargl"
           }
          ],
          "scatterternary": [
           {
            "marker": {
             "colorbar": {
              "outlinewidth": 0,
              "ticks": ""
             }
            },
            "type": "scatterternary"
           }
          ],
          "surface": [
           {
            "colorbar": {
             "outlinewidth": 0,
             "ticks": ""
            },
            "colorscale": [
             [
              0,
              "#0d0887"
             ],
             [
              0.1111111111111111,
              "#46039f"
             ],
             [
              0.2222222222222222,
              "#7201a8"
             ],
             [
              0.3333333333333333,
              "#9c179e"
             ],
             [
              0.4444444444444444,
              "#bd3786"
             ],
             [
              0.5555555555555556,
              "#d8576b"
             ],
             [
              0.6666666666666666,
              "#ed7953"
             ],
             [
              0.7777777777777778,
              "#fb9f3a"
             ],
             [
              0.8888888888888888,
              "#fdca26"
             ],
             [
              1,
              "#f0f921"
             ]
            ],
            "type": "surface"
           }
          ],
          "table": [
           {
            "cells": {
             "fill": {
              "color": "#EBF0F8"
             },
             "line": {
              "color": "white"
             }
            },
            "header": {
             "fill": {
              "color": "#C8D4E3"
             },
             "line": {
              "color": "white"
             }
            },
            "type": "table"
           }
          ]
         },
         "layout": {
          "annotationdefaults": {
           "arrowcolor": "#2a3f5f",
           "arrowhead": 0,
           "arrowwidth": 1
          },
          "autotypenumbers": "strict",
          "coloraxis": {
           "colorbar": {
            "outlinewidth": 0,
            "ticks": ""
           }
          },
          "colorscale": {
           "diverging": [
            [
             0,
             "#8e0152"
            ],
            [
             0.1,
             "#c51b7d"
            ],
            [
             0.2,
             "#de77ae"
            ],
            [
             0.3,
             "#f1b6da"
            ],
            [
             0.4,
             "#fde0ef"
            ],
            [
             0.5,
             "#f7f7f7"
            ],
            [
             0.6,
             "#e6f5d0"
            ],
            [
             0.7,
             "#b8e186"
            ],
            [
             0.8,
             "#7fbc41"
            ],
            [
             0.9,
             "#4d9221"
            ],
            [
             1,
             "#276419"
            ]
           ],
           "sequential": [
            [
             0,
             "#0d0887"
            ],
            [
             0.1111111111111111,
             "#46039f"
            ],
            [
             0.2222222222222222,
             "#7201a8"
            ],
            [
             0.3333333333333333,
             "#9c179e"
            ],
            [
             0.4444444444444444,
             "#bd3786"
            ],
            [
             0.5555555555555556,
             "#d8576b"
            ],
            [
             0.6666666666666666,
             "#ed7953"
            ],
            [
             0.7777777777777778,
             "#fb9f3a"
            ],
            [
             0.8888888888888888,
             "#fdca26"
            ],
            [
             1,
             "#f0f921"
            ]
           ],
           "sequentialminus": [
            [
             0,
             "#0d0887"
            ],
            [
             0.1111111111111111,
             "#46039f"
            ],
            [
             0.2222222222222222,
             "#7201a8"
            ],
            [
             0.3333333333333333,
             "#9c179e"
            ],
            [
             0.4444444444444444,
             "#bd3786"
            ],
            [
             0.5555555555555556,
             "#d8576b"
            ],
            [
             0.6666666666666666,
             "#ed7953"
            ],
            [
             0.7777777777777778,
             "#fb9f3a"
            ],
            [
             0.8888888888888888,
             "#fdca26"
            ],
            [
             1,
             "#f0f921"
            ]
           ]
          },
          "colorway": [
           "#636efa",
           "#EF553B",
           "#00cc96",
           "#ab63fa",
           "#FFA15A",
           "#19d3f3",
           "#FF6692",
           "#B6E880",
           "#FF97FF",
           "#FECB52"
          ],
          "font": {
           "color": "#2a3f5f"
          },
          "geo": {
           "bgcolor": "white",
           "lakecolor": "white",
           "landcolor": "#E5ECF6",
           "showlakes": true,
           "showland": true,
           "subunitcolor": "white"
          },
          "hoverlabel": {
           "align": "left"
          },
          "hovermode": "closest",
          "mapbox": {
           "style": "light"
          },
          "paper_bgcolor": "white",
          "plot_bgcolor": "#E5ECF6",
          "polar": {
           "angularaxis": {
            "gridcolor": "white",
            "linecolor": "white",
            "ticks": ""
           },
           "bgcolor": "#E5ECF6",
           "radialaxis": {
            "gridcolor": "white",
            "linecolor": "white",
            "ticks": ""
           }
          },
          "scene": {
           "xaxis": {
            "backgroundcolor": "#E5ECF6",
            "gridcolor": "white",
            "gridwidth": 2,
            "linecolor": "white",
            "showbackground": true,
            "ticks": "",
            "zerolinecolor": "white"
           },
           "yaxis": {
            "backgroundcolor": "#E5ECF6",
            "gridcolor": "white",
            "gridwidth": 2,
            "linecolor": "white",
            "showbackground": true,
            "ticks": "",
            "zerolinecolor": "white"
           },
           "zaxis": {
            "backgroundcolor": "#E5ECF6",
            "gridcolor": "white",
            "gridwidth": 2,
            "linecolor": "white",
            "showbackground": true,
            "ticks": "",
            "zerolinecolor": "white"
           }
          },
          "shapedefaults": {
           "line": {
            "color": "#2a3f5f"
           }
          },
          "ternary": {
           "aaxis": {
            "gridcolor": "white",
            "linecolor": "white",
            "ticks": ""
           },
           "baxis": {
            "gridcolor": "white",
            "linecolor": "white",
            "ticks": ""
           },
           "bgcolor": "#E5ECF6",
           "caxis": {
            "gridcolor": "white",
            "linecolor": "white",
            "ticks": ""
           }
          },
          "title": {
           "x": 0.05
          },
          "xaxis": {
           "automargin": true,
           "gridcolor": "white",
           "linecolor": "white",
           "ticks": "",
           "title": {
            "standoff": 15
           },
           "zerolinecolor": "white",
           "zerolinewidth": 2
          },
          "yaxis": {
           "automargin": true,
           "gridcolor": "white",
           "linecolor": "white",
           "ticks": "",
           "title": {
            "standoff": 15
           },
           "zerolinecolor": "white",
           "zerolinewidth": 2
          }
         }
        },
        "title": {
         "text": "Hyperparameter Importances"
        },
        "xaxis": {
         "title": {
          "text": "Hyperparameter Importance"
         }
        },
        "yaxis": {
         "title": {
          "text": "Hyperparameter"
         }
        }
       }
      }
     },
     "metadata": {},
     "output_type": "display_data"
    }
   ],
   "source": [
    "booster.study_plot('param_importances')"
   ]
  },
  {
   "cell_type": "code",
   "execution_count": 4,
   "metadata": {},
   "outputs": [
    {
     "data": {
      "application/vnd.plotly.v1+json": {
       "config": {
        "plotlyServerURL": "https://plot.ly"
       },
       "data": [
        {
         "mode": "markers",
         "name": "Objective Value",
         "type": "scatter",
         "x": [
          0,
          1,
          2,
          3,
          4
         ],
         "y": [
          0.16232024133205414,
          0.1877516508102417,
          0.15433761477470398,
          0.14747434854507446,
          0.18302834033966064
         ]
        },
        {
         "mode": "lines",
         "name": "Best Value",
         "type": "scatter",
         "x": [
          0,
          1,
          2,
          3,
          4
         ],
         "y": [
          0.16232024133205414,
          0.1877516508102417,
          0.1877516508102417,
          0.1877516508102417,
          0.1877516508102417
         ]
        },
        {
         "marker": {
          "color": "#cccccc"
         },
         "mode": "markers",
         "name": "Infeasible Trial",
         "showlegend": false,
         "type": "scatter",
         "x": [],
         "y": []
        }
       ],
       "layout": {
        "template": {
         "data": {
          "bar": [
           {
            "error_x": {
             "color": "#2a3f5f"
            },
            "error_y": {
             "color": "#2a3f5f"
            },
            "marker": {
             "line": {
              "color": "#E5ECF6",
              "width": 0.5
             },
             "pattern": {
              "fillmode": "overlay",
              "size": 10,
              "solidity": 0.2
             }
            },
            "type": "bar"
           }
          ],
          "barpolar": [
           {
            "marker": {
             "line": {
              "color": "#E5ECF6",
              "width": 0.5
             },
             "pattern": {
              "fillmode": "overlay",
              "size": 10,
              "solidity": 0.2
             }
            },
            "type": "barpolar"
           }
          ],
          "carpet": [
           {
            "aaxis": {
             "endlinecolor": "#2a3f5f",
             "gridcolor": "white",
             "linecolor": "white",
             "minorgridcolor": "white",
             "startlinecolor": "#2a3f5f"
            },
            "baxis": {
             "endlinecolor": "#2a3f5f",
             "gridcolor": "white",
             "linecolor": "white",
             "minorgridcolor": "white",
             "startlinecolor": "#2a3f5f"
            },
            "type": "carpet"
           }
          ],
          "choropleth": [
           {
            "colorbar": {
             "outlinewidth": 0,
             "ticks": ""
            },
            "type": "choropleth"
           }
          ],
          "contour": [
           {
            "colorbar": {
             "outlinewidth": 0,
             "ticks": ""
            },
            "colorscale": [
             [
              0,
              "#0d0887"
             ],
             [
              0.1111111111111111,
              "#46039f"
             ],
             [
              0.2222222222222222,
              "#7201a8"
             ],
             [
              0.3333333333333333,
              "#9c179e"
             ],
             [
              0.4444444444444444,
              "#bd3786"
             ],
             [
              0.5555555555555556,
              "#d8576b"
             ],
             [
              0.6666666666666666,
              "#ed7953"
             ],
             [
              0.7777777777777778,
              "#fb9f3a"
             ],
             [
              0.8888888888888888,
              "#fdca26"
             ],
             [
              1,
              "#f0f921"
             ]
            ],
            "type": "contour"
           }
          ],
          "contourcarpet": [
           {
            "colorbar": {
             "outlinewidth": 0,
             "ticks": ""
            },
            "type": "contourcarpet"
           }
          ],
          "heatmap": [
           {
            "colorbar": {
             "outlinewidth": 0,
             "ticks": ""
            },
            "colorscale": [
             [
              0,
              "#0d0887"
             ],
             [
              0.1111111111111111,
              "#46039f"
             ],
             [
              0.2222222222222222,
              "#7201a8"
             ],
             [
              0.3333333333333333,
              "#9c179e"
             ],
             [
              0.4444444444444444,
              "#bd3786"
             ],
             [
              0.5555555555555556,
              "#d8576b"
             ],
             [
              0.6666666666666666,
              "#ed7953"
             ],
             [
              0.7777777777777778,
              "#fb9f3a"
             ],
             [
              0.8888888888888888,
              "#fdca26"
             ],
             [
              1,
              "#f0f921"
             ]
            ],
            "type": "heatmap"
           }
          ],
          "heatmapgl": [
           {
            "colorbar": {
             "outlinewidth": 0,
             "ticks": ""
            },
            "colorscale": [
             [
              0,
              "#0d0887"
             ],
             [
              0.1111111111111111,
              "#46039f"
             ],
             [
              0.2222222222222222,
              "#7201a8"
             ],
             [
              0.3333333333333333,
              "#9c179e"
             ],
             [
              0.4444444444444444,
              "#bd3786"
             ],
             [
              0.5555555555555556,
              "#d8576b"
             ],
             [
              0.6666666666666666,
              "#ed7953"
             ],
             [
              0.7777777777777778,
              "#fb9f3a"
             ],
             [
              0.8888888888888888,
              "#fdca26"
             ],
             [
              1,
              "#f0f921"
             ]
            ],
            "type": "heatmapgl"
           }
          ],
          "histogram": [
           {
            "marker": {
             "pattern": {
              "fillmode": "overlay",
              "size": 10,
              "solidity": 0.2
             }
            },
            "type": "histogram"
           }
          ],
          "histogram2d": [
           {
            "colorbar": {
             "outlinewidth": 0,
             "ticks": ""
            },
            "colorscale": [
             [
              0,
              "#0d0887"
             ],
             [
              0.1111111111111111,
              "#46039f"
             ],
             [
              0.2222222222222222,
              "#7201a8"
             ],
             [
              0.3333333333333333,
              "#9c179e"
             ],
             [
              0.4444444444444444,
              "#bd3786"
             ],
             [
              0.5555555555555556,
              "#d8576b"
             ],
             [
              0.6666666666666666,
              "#ed7953"
             ],
             [
              0.7777777777777778,
              "#fb9f3a"
             ],
             [
              0.8888888888888888,
              "#fdca26"
             ],
             [
              1,
              "#f0f921"
             ]
            ],
            "type": "histogram2d"
           }
          ],
          "histogram2dcontour": [
           {
            "colorbar": {
             "outlinewidth": 0,
             "ticks": ""
            },
            "colorscale": [
             [
              0,
              "#0d0887"
             ],
             [
              0.1111111111111111,
              "#46039f"
             ],
             [
              0.2222222222222222,
              "#7201a8"
             ],
             [
              0.3333333333333333,
              "#9c179e"
             ],
             [
              0.4444444444444444,
              "#bd3786"
             ],
             [
              0.5555555555555556,
              "#d8576b"
             ],
             [
              0.6666666666666666,
              "#ed7953"
             ],
             [
              0.7777777777777778,
              "#fb9f3a"
             ],
             [
              0.8888888888888888,
              "#fdca26"
             ],
             [
              1,
              "#f0f921"
             ]
            ],
            "type": "histogram2dcontour"
           }
          ],
          "mesh3d": [
           {
            "colorbar": {
             "outlinewidth": 0,
             "ticks": ""
            },
            "type": "mesh3d"
           }
          ],
          "parcoords": [
           {
            "line": {
             "colorbar": {
              "outlinewidth": 0,
              "ticks": ""
             }
            },
            "type": "parcoords"
           }
          ],
          "pie": [
           {
            "automargin": true,
            "type": "pie"
           }
          ],
          "scatter": [
           {
            "fillpattern": {
             "fillmode": "overlay",
             "size": 10,
             "solidity": 0.2
            },
            "type": "scatter"
           }
          ],
          "scatter3d": [
           {
            "line": {
             "colorbar": {
              "outlinewidth": 0,
              "ticks": ""
             }
            },
            "marker": {
             "colorbar": {
              "outlinewidth": 0,
              "ticks": ""
             }
            },
            "type": "scatter3d"
           }
          ],
          "scattercarpet": [
           {
            "marker": {
             "colorbar": {
              "outlinewidth": 0,
              "ticks": ""
             }
            },
            "type": "scattercarpet"
           }
          ],
          "scattergeo": [
           {
            "marker": {
             "colorbar": {
              "outlinewidth": 0,
              "ticks": ""
             }
            },
            "type": "scattergeo"
           }
          ],
          "scattergl": [
           {
            "marker": {
             "colorbar": {
              "outlinewidth": 0,
              "ticks": ""
             }
            },
            "type": "scattergl"
           }
          ],
          "scattermapbox": [
           {
            "marker": {
             "colorbar": {
              "outlinewidth": 0,
              "ticks": ""
             }
            },
            "type": "scattermapbox"
           }
          ],
          "scatterpolar": [
           {
            "marker": {
             "colorbar": {
              "outlinewidth": 0,
              "ticks": ""
             }
            },
            "type": "scatterpolar"
           }
          ],
          "scatterpolargl": [
           {
            "marker": {
             "colorbar": {
              "outlinewidth": 0,
              "ticks": ""
             }
            },
            "type": "scatterpolargl"
           }
          ],
          "scatterternary": [
           {
            "marker": {
             "colorbar": {
              "outlinewidth": 0,
              "ticks": ""
             }
            },
            "type": "scatterternary"
           }
          ],
          "surface": [
           {
            "colorbar": {
             "outlinewidth": 0,
             "ticks": ""
            },
            "colorscale": [
             [
              0,
              "#0d0887"
             ],
             [
              0.1111111111111111,
              "#46039f"
             ],
             [
              0.2222222222222222,
              "#7201a8"
             ],
             [
              0.3333333333333333,
              "#9c179e"
             ],
             [
              0.4444444444444444,
              "#bd3786"
             ],
             [
              0.5555555555555556,
              "#d8576b"
             ],
             [
              0.6666666666666666,
              "#ed7953"
             ],
             [
              0.7777777777777778,
              "#fb9f3a"
             ],
             [
              0.8888888888888888,
              "#fdca26"
             ],
             [
              1,
              "#f0f921"
             ]
            ],
            "type": "surface"
           }
          ],
          "table": [
           {
            "cells": {
             "fill": {
              "color": "#EBF0F8"
             },
             "line": {
              "color": "white"
             }
            },
            "header": {
             "fill": {
              "color": "#C8D4E3"
             },
             "line": {
              "color": "white"
             }
            },
            "type": "table"
           }
          ]
         },
         "layout": {
          "annotationdefaults": {
           "arrowcolor": "#2a3f5f",
           "arrowhead": 0,
           "arrowwidth": 1
          },
          "autotypenumbers": "strict",
          "coloraxis": {
           "colorbar": {
            "outlinewidth": 0,
            "ticks": ""
           }
          },
          "colorscale": {
           "diverging": [
            [
             0,
             "#8e0152"
            ],
            [
             0.1,
             "#c51b7d"
            ],
            [
             0.2,
             "#de77ae"
            ],
            [
             0.3,
             "#f1b6da"
            ],
            [
             0.4,
             "#fde0ef"
            ],
            [
             0.5,
             "#f7f7f7"
            ],
            [
             0.6,
             "#e6f5d0"
            ],
            [
             0.7,
             "#b8e186"
            ],
            [
             0.8,
             "#7fbc41"
            ],
            [
             0.9,
             "#4d9221"
            ],
            [
             1,
             "#276419"
            ]
           ],
           "sequential": [
            [
             0,
             "#0d0887"
            ],
            [
             0.1111111111111111,
             "#46039f"
            ],
            [
             0.2222222222222222,
             "#7201a8"
            ],
            [
             0.3333333333333333,
             "#9c179e"
            ],
            [
             0.4444444444444444,
             "#bd3786"
            ],
            [
             0.5555555555555556,
             "#d8576b"
            ],
            [
             0.6666666666666666,
             "#ed7953"
            ],
            [
             0.7777777777777778,
             "#fb9f3a"
            ],
            [
             0.8888888888888888,
             "#fdca26"
            ],
            [
             1,
             "#f0f921"
            ]
           ],
           "sequentialminus": [
            [
             0,
             "#0d0887"
            ],
            [
             0.1111111111111111,
             "#46039f"
            ],
            [
             0.2222222222222222,
             "#7201a8"
            ],
            [
             0.3333333333333333,
             "#9c179e"
            ],
            [
             0.4444444444444444,
             "#bd3786"
            ],
            [
             0.5555555555555556,
             "#d8576b"
            ],
            [
             0.6666666666666666,
             "#ed7953"
            ],
            [
             0.7777777777777778,
             "#fb9f3a"
            ],
            [
             0.8888888888888888,
             "#fdca26"
            ],
            [
             1,
             "#f0f921"
            ]
           ]
          },
          "colorway": [
           "#636efa",
           "#EF553B",
           "#00cc96",
           "#ab63fa",
           "#FFA15A",
           "#19d3f3",
           "#FF6692",
           "#B6E880",
           "#FF97FF",
           "#FECB52"
          ],
          "font": {
           "color": "#2a3f5f"
          },
          "geo": {
           "bgcolor": "white",
           "lakecolor": "white",
           "landcolor": "#E5ECF6",
           "showlakes": true,
           "showland": true,
           "subunitcolor": "white"
          },
          "hoverlabel": {
           "align": "left"
          },
          "hovermode": "closest",
          "mapbox": {
           "style": "light"
          },
          "paper_bgcolor": "white",
          "plot_bgcolor": "#E5ECF6",
          "polar": {
           "angularaxis": {
            "gridcolor": "white",
            "linecolor": "white",
            "ticks": ""
           },
           "bgcolor": "#E5ECF6",
           "radialaxis": {
            "gridcolor": "white",
            "linecolor": "white",
            "ticks": ""
           }
          },
          "scene": {
           "xaxis": {
            "backgroundcolor": "#E5ECF6",
            "gridcolor": "white",
            "gridwidth": 2,
            "linecolor": "white",
            "showbackground": true,
            "ticks": "",
            "zerolinecolor": "white"
           },
           "yaxis": {
            "backgroundcolor": "#E5ECF6",
            "gridcolor": "white",
            "gridwidth": 2,
            "linecolor": "white",
            "showbackground": true,
            "ticks": "",
            "zerolinecolor": "white"
           },
           "zaxis": {
            "backgroundcolor": "#E5ECF6",
            "gridcolor": "white",
            "gridwidth": 2,
            "linecolor": "white",
            "showbackground": true,
            "ticks": "",
            "zerolinecolor": "white"
           }
          },
          "shapedefaults": {
           "line": {
            "color": "#2a3f5f"
           }
          },
          "ternary": {
           "aaxis": {
            "gridcolor": "white",
            "linecolor": "white",
            "ticks": ""
           },
           "baxis": {
            "gridcolor": "white",
            "linecolor": "white",
            "ticks": ""
           },
           "bgcolor": "#E5ECF6",
           "caxis": {
            "gridcolor": "white",
            "linecolor": "white",
            "ticks": ""
           }
          },
          "title": {
           "x": 0.05
          },
          "xaxis": {
           "automargin": true,
           "gridcolor": "white",
           "linecolor": "white",
           "ticks": "",
           "title": {
            "standoff": 15
           },
           "zerolinecolor": "white",
           "zerolinewidth": 2
          },
          "yaxis": {
           "automargin": true,
           "gridcolor": "white",
           "linecolor": "white",
           "ticks": "",
           "title": {
            "standoff": 15
           },
           "zerolinecolor": "white",
           "zerolinewidth": 2
          }
         }
        },
        "title": {
         "text": "Optimization History Plot"
        },
        "xaxis": {
         "title": {
          "text": "Trial"
         }
        },
        "yaxis": {
         "title": {
          "text": "Objective Value"
         }
        }
       }
      }
     },
     "metadata": {},
     "output_type": "display_data"
    }
   ],
   "source": [
    "booster.study_plot('optimization_history')"
   ]
  },
  {
   "cell_type": "code",
   "execution_count": 5,
   "metadata": {},
   "outputs": [
    {
     "data": {
      "application/vnd.plotly.v1+json": {
       "config": {
        "plotlyServerURL": "https://plot.ly"
       },
       "data": [
        {
         "marker": {
          "color": [
           0,
           1,
           2,
           3,
           4
          ],
          "colorbar": {
           "title": {
            "text": "Trial"
           },
           "x": 1,
           "xpad": 40
          },
          "colorscale": [
           [
            0,
            "rgb(247,251,255)"
           ],
           [
            0.125,
            "rgb(222,235,247)"
           ],
           [
            0.25,
            "rgb(198,219,239)"
           ],
           [
            0.375,
            "rgb(158,202,225)"
           ],
           [
            0.5,
            "rgb(107,174,214)"
           ],
           [
            0.625,
            "rgb(66,146,198)"
           ],
           [
            0.75,
            "rgb(33,113,181)"
           ],
           [
            0.875,
            "rgb(8,81,156)"
           ],
           [
            1,
            "rgb(8,48,107)"
           ]
          ],
          "line": {
           "color": "Grey",
           "width": 0.5
          },
          "showscale": true
         },
         "mode": "markers",
         "name": "Feasible Trial",
         "showlegend": false,
         "type": "scatter",
         "x": [
          0.7,
          0.8,
          0.5,
          0.8,
          0.5
         ],
         "xaxis": "x",
         "y": [
          0.16232024133205414,
          0.1877516508102417,
          0.15433761477470398,
          0.14747434854507446,
          0.18302834033966064
         ],
         "yaxis": "y"
        },
        {
         "marker": {
          "color": [
           0,
           1,
           2,
           3,
           4
          ],
          "colorbar": {
           "title": {
            "text": "Trial"
           },
           "x": 1,
           "xpad": 40
          },
          "colorscale": [
           [
            0,
            "rgb(247,251,255)"
           ],
           [
            0.125,
            "rgb(222,235,247)"
           ],
           [
            0.25,
            "rgb(198,219,239)"
           ],
           [
            0.375,
            "rgb(158,202,225)"
           ],
           [
            0.5,
            "rgb(107,174,214)"
           ],
           [
            0.625,
            "rgb(66,146,198)"
           ],
           [
            0.75,
            "rgb(33,113,181)"
           ],
           [
            0.875,
            "rgb(8,81,156)"
           ],
           [
            1,
            "rgb(8,48,107)"
           ]
          ],
          "line": {
           "color": "Grey",
           "width": 0.5
          },
          "showscale": false
         },
         "mode": "markers",
         "name": "Feasible Trial",
         "showlegend": false,
         "type": "scatter",
         "x": [
          10,
          10,
          25,
          20,
          10
         ],
         "xaxis": "x2",
         "y": [
          0.16232024133205414,
          0.1877516508102417,
          0.15433761477470398,
          0.14747434854507446,
          0.18302834033966064
         ],
         "yaxis": "y2"
        },
        {
         "marker": {
          "color": [
           0,
           1,
           2,
           3,
           4
          ],
          "colorbar": {
           "title": {
            "text": "Trial"
           },
           "x": 1,
           "xpad": 40
          },
          "colorscale": [
           [
            0,
            "rgb(247,251,255)"
           ],
           [
            0.125,
            "rgb(222,235,247)"
           ],
           [
            0.25,
            "rgb(198,219,239)"
           ],
           [
            0.375,
            "rgb(158,202,225)"
           ],
           [
            0.5,
            "rgb(107,174,214)"
           ],
           [
            0.625,
            "rgb(66,146,198)"
           ],
           [
            0.75,
            "rgb(33,113,181)"
           ],
           [
            0.875,
            "rgb(8,81,156)"
           ],
           [
            1,
            "rgb(8,48,107)"
           ]
          ],
          "line": {
           "color": "Grey",
           "width": 0.5
          },
          "showscale": false
         },
         "mode": "markers",
         "name": "Feasible Trial",
         "showlegend": false,
         "type": "scatter",
         "x": [
          25,
          40,
          25,
          10,
          35
         ],
         "xaxis": "x3",
         "y": [
          0.16232024133205414,
          0.1877516508102417,
          0.15433761477470398,
          0.14747434854507446,
          0.18302834033966064
         ],
         "yaxis": "y3"
        }
       ],
       "layout": {
        "template": {
         "data": {
          "bar": [
           {
            "error_x": {
             "color": "#2a3f5f"
            },
            "error_y": {
             "color": "#2a3f5f"
            },
            "marker": {
             "line": {
              "color": "#E5ECF6",
              "width": 0.5
             },
             "pattern": {
              "fillmode": "overlay",
              "size": 10,
              "solidity": 0.2
             }
            },
            "type": "bar"
           }
          ],
          "barpolar": [
           {
            "marker": {
             "line": {
              "color": "#E5ECF6",
              "width": 0.5
             },
             "pattern": {
              "fillmode": "overlay",
              "size": 10,
              "solidity": 0.2
             }
            },
            "type": "barpolar"
           }
          ],
          "carpet": [
           {
            "aaxis": {
             "endlinecolor": "#2a3f5f",
             "gridcolor": "white",
             "linecolor": "white",
             "minorgridcolor": "white",
             "startlinecolor": "#2a3f5f"
            },
            "baxis": {
             "endlinecolor": "#2a3f5f",
             "gridcolor": "white",
             "linecolor": "white",
             "minorgridcolor": "white",
             "startlinecolor": "#2a3f5f"
            },
            "type": "carpet"
           }
          ],
          "choropleth": [
           {
            "colorbar": {
             "outlinewidth": 0,
             "ticks": ""
            },
            "type": "choropleth"
           }
          ],
          "contour": [
           {
            "colorbar": {
             "outlinewidth": 0,
             "ticks": ""
            },
            "colorscale": [
             [
              0,
              "#0d0887"
             ],
             [
              0.1111111111111111,
              "#46039f"
             ],
             [
              0.2222222222222222,
              "#7201a8"
             ],
             [
              0.3333333333333333,
              "#9c179e"
             ],
             [
              0.4444444444444444,
              "#bd3786"
             ],
             [
              0.5555555555555556,
              "#d8576b"
             ],
             [
              0.6666666666666666,
              "#ed7953"
             ],
             [
              0.7777777777777778,
              "#fb9f3a"
             ],
             [
              0.8888888888888888,
              "#fdca26"
             ],
             [
              1,
              "#f0f921"
             ]
            ],
            "type": "contour"
           }
          ],
          "contourcarpet": [
           {
            "colorbar": {
             "outlinewidth": 0,
             "ticks": ""
            },
            "type": "contourcarpet"
           }
          ],
          "heatmap": [
           {
            "colorbar": {
             "outlinewidth": 0,
             "ticks": ""
            },
            "colorscale": [
             [
              0,
              "#0d0887"
             ],
             [
              0.1111111111111111,
              "#46039f"
             ],
             [
              0.2222222222222222,
              "#7201a8"
             ],
             [
              0.3333333333333333,
              "#9c179e"
             ],
             [
              0.4444444444444444,
              "#bd3786"
             ],
             [
              0.5555555555555556,
              "#d8576b"
             ],
             [
              0.6666666666666666,
              "#ed7953"
             ],
             [
              0.7777777777777778,
              "#fb9f3a"
             ],
             [
              0.8888888888888888,
              "#fdca26"
             ],
             [
              1,
              "#f0f921"
             ]
            ],
            "type": "heatmap"
           }
          ],
          "heatmapgl": [
           {
            "colorbar": {
             "outlinewidth": 0,
             "ticks": ""
            },
            "colorscale": [
             [
              0,
              "#0d0887"
             ],
             [
              0.1111111111111111,
              "#46039f"
             ],
             [
              0.2222222222222222,
              "#7201a8"
             ],
             [
              0.3333333333333333,
              "#9c179e"
             ],
             [
              0.4444444444444444,
              "#bd3786"
             ],
             [
              0.5555555555555556,
              "#d8576b"
             ],
             [
              0.6666666666666666,
              "#ed7953"
             ],
             [
              0.7777777777777778,
              "#fb9f3a"
             ],
             [
              0.8888888888888888,
              "#fdca26"
             ],
             [
              1,
              "#f0f921"
             ]
            ],
            "type": "heatmapgl"
           }
          ],
          "histogram": [
           {
            "marker": {
             "pattern": {
              "fillmode": "overlay",
              "size": 10,
              "solidity": 0.2
             }
            },
            "type": "histogram"
           }
          ],
          "histogram2d": [
           {
            "colorbar": {
             "outlinewidth": 0,
             "ticks": ""
            },
            "colorscale": [
             [
              0,
              "#0d0887"
             ],
             [
              0.1111111111111111,
              "#46039f"
             ],
             [
              0.2222222222222222,
              "#7201a8"
             ],
             [
              0.3333333333333333,
              "#9c179e"
             ],
             [
              0.4444444444444444,
              "#bd3786"
             ],
             [
              0.5555555555555556,
              "#d8576b"
             ],
             [
              0.6666666666666666,
              "#ed7953"
             ],
             [
              0.7777777777777778,
              "#fb9f3a"
             ],
             [
              0.8888888888888888,
              "#fdca26"
             ],
             [
              1,
              "#f0f921"
             ]
            ],
            "type": "histogram2d"
           }
          ],
          "histogram2dcontour": [
           {
            "colorbar": {
             "outlinewidth": 0,
             "ticks": ""
            },
            "colorscale": [
             [
              0,
              "#0d0887"
             ],
             [
              0.1111111111111111,
              "#46039f"
             ],
             [
              0.2222222222222222,
              "#7201a8"
             ],
             [
              0.3333333333333333,
              "#9c179e"
             ],
             [
              0.4444444444444444,
              "#bd3786"
             ],
             [
              0.5555555555555556,
              "#d8576b"
             ],
             [
              0.6666666666666666,
              "#ed7953"
             ],
             [
              0.7777777777777778,
              "#fb9f3a"
             ],
             [
              0.8888888888888888,
              "#fdca26"
             ],
             [
              1,
              "#f0f921"
             ]
            ],
            "type": "histogram2dcontour"
           }
          ],
          "mesh3d": [
           {
            "colorbar": {
             "outlinewidth": 0,
             "ticks": ""
            },
            "type": "mesh3d"
           }
          ],
          "parcoords": [
           {
            "line": {
             "colorbar": {
              "outlinewidth": 0,
              "ticks": ""
             }
            },
            "type": "parcoords"
           }
          ],
          "pie": [
           {
            "automargin": true,
            "type": "pie"
           }
          ],
          "scatter": [
           {
            "fillpattern": {
             "fillmode": "overlay",
             "size": 10,
             "solidity": 0.2
            },
            "type": "scatter"
           }
          ],
          "scatter3d": [
           {
            "line": {
             "colorbar": {
              "outlinewidth": 0,
              "ticks": ""
             }
            },
            "marker": {
             "colorbar": {
              "outlinewidth": 0,
              "ticks": ""
             }
            },
            "type": "scatter3d"
           }
          ],
          "scattercarpet": [
           {
            "marker": {
             "colorbar": {
              "outlinewidth": 0,
              "ticks": ""
             }
            },
            "type": "scattercarpet"
           }
          ],
          "scattergeo": [
           {
            "marker": {
             "colorbar": {
              "outlinewidth": 0,
              "ticks": ""
             }
            },
            "type": "scattergeo"
           }
          ],
          "scattergl": [
           {
            "marker": {
             "colorbar": {
              "outlinewidth": 0,
              "ticks": ""
             }
            },
            "type": "scattergl"
           }
          ],
          "scattermapbox": [
           {
            "marker": {
             "colorbar": {
              "outlinewidth": 0,
              "ticks": ""
             }
            },
            "type": "scattermapbox"
           }
          ],
          "scatterpolar": [
           {
            "marker": {
             "colorbar": {
              "outlinewidth": 0,
              "ticks": ""
             }
            },
            "type": "scatterpolar"
           }
          ],
          "scatterpolargl": [
           {
            "marker": {
             "colorbar": {
              "outlinewidth": 0,
              "ticks": ""
             }
            },
            "type": "scatterpolargl"
           }
          ],
          "scatterternary": [
           {
            "marker": {
             "colorbar": {
              "outlinewidth": 0,
              "ticks": ""
             }
            },
            "type": "scatterternary"
           }
          ],
          "surface": [
           {
            "colorbar": {
             "outlinewidth": 0,
             "ticks": ""
            },
            "colorscale": [
             [
              0,
              "#0d0887"
             ],
             [
              0.1111111111111111,
              "#46039f"
             ],
             [
              0.2222222222222222,
              "#7201a8"
             ],
             [
              0.3333333333333333,
              "#9c179e"
             ],
             [
              0.4444444444444444,
              "#bd3786"
             ],
             [
              0.5555555555555556,
              "#d8576b"
             ],
             [
              0.6666666666666666,
              "#ed7953"
             ],
             [
              0.7777777777777778,
              "#fb9f3a"
             ],
             [
              0.8888888888888888,
              "#fdca26"
             ],
             [
              1,
              "#f0f921"
             ]
            ],
            "type": "surface"
           }
          ],
          "table": [
           {
            "cells": {
             "fill": {
              "color": "#EBF0F8"
             },
             "line": {
              "color": "white"
             }
            },
            "header": {
             "fill": {
              "color": "#C8D4E3"
             },
             "line": {
              "color": "white"
             }
            },
            "type": "table"
           }
          ]
         },
         "layout": {
          "annotationdefaults": {
           "arrowcolor": "#2a3f5f",
           "arrowhead": 0,
           "arrowwidth": 1
          },
          "autotypenumbers": "strict",
          "coloraxis": {
           "colorbar": {
            "outlinewidth": 0,
            "ticks": ""
           }
          },
          "colorscale": {
           "diverging": [
            [
             0,
             "#8e0152"
            ],
            [
             0.1,
             "#c51b7d"
            ],
            [
             0.2,
             "#de77ae"
            ],
            [
             0.3,
             "#f1b6da"
            ],
            [
             0.4,
             "#fde0ef"
            ],
            [
             0.5,
             "#f7f7f7"
            ],
            [
             0.6,
             "#e6f5d0"
            ],
            [
             0.7,
             "#b8e186"
            ],
            [
             0.8,
             "#7fbc41"
            ],
            [
             0.9,
             "#4d9221"
            ],
            [
             1,
             "#276419"
            ]
           ],
           "sequential": [
            [
             0,
             "#0d0887"
            ],
            [
             0.1111111111111111,
             "#46039f"
            ],
            [
             0.2222222222222222,
             "#7201a8"
            ],
            [
             0.3333333333333333,
             "#9c179e"
            ],
            [
             0.4444444444444444,
             "#bd3786"
            ],
            [
             0.5555555555555556,
             "#d8576b"
            ],
            [
             0.6666666666666666,
             "#ed7953"
            ],
            [
             0.7777777777777778,
             "#fb9f3a"
            ],
            [
             0.8888888888888888,
             "#fdca26"
            ],
            [
             1,
             "#f0f921"
            ]
           ],
           "sequentialminus": [
            [
             0,
             "#0d0887"
            ],
            [
             0.1111111111111111,
             "#46039f"
            ],
            [
             0.2222222222222222,
             "#7201a8"
            ],
            [
             0.3333333333333333,
             "#9c179e"
            ],
            [
             0.4444444444444444,
             "#bd3786"
            ],
            [
             0.5555555555555556,
             "#d8576b"
            ],
            [
             0.6666666666666666,
             "#ed7953"
            ],
            [
             0.7777777777777778,
             "#fb9f3a"
            ],
            [
             0.8888888888888888,
             "#fdca26"
            ],
            [
             1,
             "#f0f921"
            ]
           ]
          },
          "colorway": [
           "#636efa",
           "#EF553B",
           "#00cc96",
           "#ab63fa",
           "#FFA15A",
           "#19d3f3",
           "#FF6692",
           "#B6E880",
           "#FF97FF",
           "#FECB52"
          ],
          "font": {
           "color": "#2a3f5f"
          },
          "geo": {
           "bgcolor": "white",
           "lakecolor": "white",
           "landcolor": "#E5ECF6",
           "showlakes": true,
           "showland": true,
           "subunitcolor": "white"
          },
          "hoverlabel": {
           "align": "left"
          },
          "hovermode": "closest",
          "mapbox": {
           "style": "light"
          },
          "paper_bgcolor": "white",
          "plot_bgcolor": "#E5ECF6",
          "polar": {
           "angularaxis": {
            "gridcolor": "white",
            "linecolor": "white",
            "ticks": ""
           },
           "bgcolor": "#E5ECF6",
           "radialaxis": {
            "gridcolor": "white",
            "linecolor": "white",
            "ticks": ""
           }
          },
          "scene": {
           "xaxis": {
            "backgroundcolor": "#E5ECF6",
            "gridcolor": "white",
            "gridwidth": 2,
            "linecolor": "white",
            "showbackground": true,
            "ticks": "",
            "zerolinecolor": "white"
           },
           "yaxis": {
            "backgroundcolor": "#E5ECF6",
            "gridcolor": "white",
            "gridwidth": 2,
            "linecolor": "white",
            "showbackground": true,
            "ticks": "",
            "zerolinecolor": "white"
           },
           "zaxis": {
            "backgroundcolor": "#E5ECF6",
            "gridcolor": "white",
            "gridwidth": 2,
            "linecolor": "white",
            "showbackground": true,
            "ticks": "",
            "zerolinecolor": "white"
           }
          },
          "shapedefaults": {
           "line": {
            "color": "#2a3f5f"
           }
          },
          "ternary": {
           "aaxis": {
            "gridcolor": "white",
            "linecolor": "white",
            "ticks": ""
           },
           "baxis": {
            "gridcolor": "white",
            "linecolor": "white",
            "ticks": ""
           },
           "bgcolor": "#E5ECF6",
           "caxis": {
            "gridcolor": "white",
            "linecolor": "white",
            "ticks": ""
           }
          },
          "title": {
           "x": 0.05
          },
          "xaxis": {
           "automargin": true,
           "gridcolor": "white",
           "linecolor": "white",
           "ticks": "",
           "title": {
            "standoff": 15
           },
           "zerolinecolor": "white",
           "zerolinewidth": 2
          },
          "yaxis": {
           "automargin": true,
           "gridcolor": "white",
           "linecolor": "white",
           "ticks": "",
           "title": {
            "standoff": 15
           },
           "zerolinecolor": "white",
           "zerolinewidth": 2
          }
         }
        },
        "title": {
         "text": "Slice Plot"
        },
        "xaxis": {
         "anchor": "y",
         "domain": [
          0,
          0.2888888888888889
         ],
         "title": {
          "text": "max_nan_ratio"
         }
        },
        "xaxis2": {
         "anchor": "y2",
         "domain": [
          0.35555555555555557,
          0.6444444444444445
         ],
         "title": {
          "text": "n_bins"
         }
        },
        "xaxis3": {
         "anchor": "y3",
         "domain": [
          0.7111111111111111,
          1
         ],
         "title": {
          "text": "n_learner"
         }
        },
        "yaxis": {
         "anchor": "x",
         "domain": [
          0,
          1
         ],
         "title": {
          "text": "Objective Value"
         }
        },
        "yaxis2": {
         "anchor": "x2",
         "domain": [
          0,
          1
         ],
         "matches": "y",
         "showticklabels": false
        },
        "yaxis3": {
         "anchor": "x3",
         "domain": [
          0,
          1
         ],
         "matches": "y",
         "showticklabels": false
        }
       }
      }
     },
     "metadata": {},
     "output_type": "display_data"
    }
   ],
   "source": [
    "booster.study_plot('slice')"
   ]
  },
  {
   "cell_type": "code",
   "execution_count": 12,
   "metadata": {},
   "outputs": [
    {
     "data": {
      "application/vnd.plotly.v1+json": {
       "config": {
        "plotlyServerURL": "https://plot.ly"
       },
       "data": [
        {
         "colorbar": {
          "title": {
           "text": "Objective Value"
          }
         },
         "colorscale": [
          [
           0,
           "rgb(247,251,255)"
          ],
          [
           0.125,
           "rgb(222,235,247)"
          ],
          [
           0.25,
           "rgb(198,219,239)"
          ],
          [
           0.375,
           "rgb(158,202,225)"
          ],
          [
           0.5,
           "rgb(107,174,214)"
          ],
          [
           0.625,
           "rgb(66,146,198)"
          ],
          [
           0.75,
           "rgb(33,113,181)"
          ],
          [
           0.875,
           "rgb(8,81,156)"
          ],
          [
           1,
           "rgb(8,48,107)"
          ]
         ],
         "connectgaps": true,
         "contours": {
          "coloring": "heatmap"
         },
         "hoverinfo": "none",
         "line": {
          "smoothing": 1.3
         },
         "reversescale": false,
         "type": "contour",
         "x": [
          2.55,
          3,
          5,
          6,
          7,
          8,
          9,
          10,
          11,
          12,
          12.45
         ],
         "y": [
          "mae",
          "mse"
         ],
         "z": [
          [
           null,
           0.1389113813638687,
           null,
           0.1262923926115036,
           null,
           null,
           null,
           null,
           0.1335516721010208,
           0.1030375063419342,
           null
          ],
          [
           null,
           0.16758432984352112,
           0.17387501895427704,
           null,
           0.16652178764343262,
           0.1628720760345459,
           0.1647855043411255,
           0.16781064867973328,
           0.17457248270511627,
           0.14946626126766205,
           null
          ]
         ]
        },
        {
         "marker": {
          "color": "black",
          "line": {
           "color": "Gray",
           "width": 2
          }
         },
         "mode": "markers",
         "name": "Feasible Trial",
         "showlegend": false,
         "type": "scatter",
         "x": [
          12,
          6,
          11,
          3,
          9,
          11,
          3,
          6,
          11,
          12,
          9,
          3,
          5,
          5,
          8,
          5,
          7,
          10,
          5,
          8
         ],
         "y": [
          "mae",
          "mae",
          "mae",
          "mae",
          "mse",
          "mae",
          "mse",
          "mae",
          "mse",
          "mse",
          "mse",
          "mse",
          "mse",
          "mse",
          "mse",
          "mse",
          "mse",
          "mse",
          "mse",
          "mse"
         ]
        },
        {
         "marker": {
          "color": "#cccccc",
          "line": {
           "color": "Gray",
           "width": 2
          }
         },
         "mode": "markers",
         "name": "Infeasible Trial",
         "showlegend": false,
         "type": "scatter",
         "x": [],
         "y": []
        }
       ],
       "layout": {
        "template": {
         "data": {
          "bar": [
           {
            "error_x": {
             "color": "#2a3f5f"
            },
            "error_y": {
             "color": "#2a3f5f"
            },
            "marker": {
             "line": {
              "color": "#E5ECF6",
              "width": 0.5
             },
             "pattern": {
              "fillmode": "overlay",
              "size": 10,
              "solidity": 0.2
             }
            },
            "type": "bar"
           }
          ],
          "barpolar": [
           {
            "marker": {
             "line": {
              "color": "#E5ECF6",
              "width": 0.5
             },
             "pattern": {
              "fillmode": "overlay",
              "size": 10,
              "solidity": 0.2
             }
            },
            "type": "barpolar"
           }
          ],
          "carpet": [
           {
            "aaxis": {
             "endlinecolor": "#2a3f5f",
             "gridcolor": "white",
             "linecolor": "white",
             "minorgridcolor": "white",
             "startlinecolor": "#2a3f5f"
            },
            "baxis": {
             "endlinecolor": "#2a3f5f",
             "gridcolor": "white",
             "linecolor": "white",
             "minorgridcolor": "white",
             "startlinecolor": "#2a3f5f"
            },
            "type": "carpet"
           }
          ],
          "choropleth": [
           {
            "colorbar": {
             "outlinewidth": 0,
             "ticks": ""
            },
            "type": "choropleth"
           }
          ],
          "contour": [
           {
            "colorbar": {
             "outlinewidth": 0,
             "ticks": ""
            },
            "colorscale": [
             [
              0,
              "#0d0887"
             ],
             [
              0.1111111111111111,
              "#46039f"
             ],
             [
              0.2222222222222222,
              "#7201a8"
             ],
             [
              0.3333333333333333,
              "#9c179e"
             ],
             [
              0.4444444444444444,
              "#bd3786"
             ],
             [
              0.5555555555555556,
              "#d8576b"
             ],
             [
              0.6666666666666666,
              "#ed7953"
             ],
             [
              0.7777777777777778,
              "#fb9f3a"
             ],
             [
              0.8888888888888888,
              "#fdca26"
             ],
             [
              1,
              "#f0f921"
             ]
            ],
            "type": "contour"
           }
          ],
          "contourcarpet": [
           {
            "colorbar": {
             "outlinewidth": 0,
             "ticks": ""
            },
            "type": "contourcarpet"
           }
          ],
          "heatmap": [
           {
            "colorbar": {
             "outlinewidth": 0,
             "ticks": ""
            },
            "colorscale": [
             [
              0,
              "#0d0887"
             ],
             [
              0.1111111111111111,
              "#46039f"
             ],
             [
              0.2222222222222222,
              "#7201a8"
             ],
             [
              0.3333333333333333,
              "#9c179e"
             ],
             [
              0.4444444444444444,
              "#bd3786"
             ],
             [
              0.5555555555555556,
              "#d8576b"
             ],
             [
              0.6666666666666666,
              "#ed7953"
             ],
             [
              0.7777777777777778,
              "#fb9f3a"
             ],
             [
              0.8888888888888888,
              "#fdca26"
             ],
             [
              1,
              "#f0f921"
             ]
            ],
            "type": "heatmap"
           }
          ],
          "heatmapgl": [
           {
            "colorbar": {
             "outlinewidth": 0,
             "ticks": ""
            },
            "colorscale": [
             [
              0,
              "#0d0887"
             ],
             [
              0.1111111111111111,
              "#46039f"
             ],
             [
              0.2222222222222222,
              "#7201a8"
             ],
             [
              0.3333333333333333,
              "#9c179e"
             ],
             [
              0.4444444444444444,
              "#bd3786"
             ],
             [
              0.5555555555555556,
              "#d8576b"
             ],
             [
              0.6666666666666666,
              "#ed7953"
             ],
             [
              0.7777777777777778,
              "#fb9f3a"
             ],
             [
              0.8888888888888888,
              "#fdca26"
             ],
             [
              1,
              "#f0f921"
             ]
            ],
            "type": "heatmapgl"
           }
          ],
          "histogram": [
           {
            "marker": {
             "pattern": {
              "fillmode": "overlay",
              "size": 10,
              "solidity": 0.2
             }
            },
            "type": "histogram"
           }
          ],
          "histogram2d": [
           {
            "colorbar": {
             "outlinewidth": 0,
             "ticks": ""
            },
            "colorscale": [
             [
              0,
              "#0d0887"
             ],
             [
              0.1111111111111111,
              "#46039f"
             ],
             [
              0.2222222222222222,
              "#7201a8"
             ],
             [
              0.3333333333333333,
              "#9c179e"
             ],
             [
              0.4444444444444444,
              "#bd3786"
             ],
             [
              0.5555555555555556,
              "#d8576b"
             ],
             [
              0.6666666666666666,
              "#ed7953"
             ],
             [
              0.7777777777777778,
              "#fb9f3a"
             ],
             [
              0.8888888888888888,
              "#fdca26"
             ],
             [
              1,
              "#f0f921"
             ]
            ],
            "type": "histogram2d"
           }
          ],
          "histogram2dcontour": [
           {
            "colorbar": {
             "outlinewidth": 0,
             "ticks": ""
            },
            "colorscale": [
             [
              0,
              "#0d0887"
             ],
             [
              0.1111111111111111,
              "#46039f"
             ],
             [
              0.2222222222222222,
              "#7201a8"
             ],
             [
              0.3333333333333333,
              "#9c179e"
             ],
             [
              0.4444444444444444,
              "#bd3786"
             ],
             [
              0.5555555555555556,
              "#d8576b"
             ],
             [
              0.6666666666666666,
              "#ed7953"
             ],
             [
              0.7777777777777778,
              "#fb9f3a"
             ],
             [
              0.8888888888888888,
              "#fdca26"
             ],
             [
              1,
              "#f0f921"
             ]
            ],
            "type": "histogram2dcontour"
           }
          ],
          "mesh3d": [
           {
            "colorbar": {
             "outlinewidth": 0,
             "ticks": ""
            },
            "type": "mesh3d"
           }
          ],
          "parcoords": [
           {
            "line": {
             "colorbar": {
              "outlinewidth": 0,
              "ticks": ""
             }
            },
            "type": "parcoords"
           }
          ],
          "pie": [
           {
            "automargin": true,
            "type": "pie"
           }
          ],
          "scatter": [
           {
            "fillpattern": {
             "fillmode": "overlay",
             "size": 10,
             "solidity": 0.2
            },
            "type": "scatter"
           }
          ],
          "scatter3d": [
           {
            "line": {
             "colorbar": {
              "outlinewidth": 0,
              "ticks": ""
             }
            },
            "marker": {
             "colorbar": {
              "outlinewidth": 0,
              "ticks": ""
             }
            },
            "type": "scatter3d"
           }
          ],
          "scattercarpet": [
           {
            "marker": {
             "colorbar": {
              "outlinewidth": 0,
              "ticks": ""
             }
            },
            "type": "scattercarpet"
           }
          ],
          "scattergeo": [
           {
            "marker": {
             "colorbar": {
              "outlinewidth": 0,
              "ticks": ""
             }
            },
            "type": "scattergeo"
           }
          ],
          "scattergl": [
           {
            "marker": {
             "colorbar": {
              "outlinewidth": 0,
              "ticks": ""
             }
            },
            "type": "scattergl"
           }
          ],
          "scattermapbox": [
           {
            "marker": {
             "colorbar": {
              "outlinewidth": 0,
              "ticks": ""
             }
            },
            "type": "scattermapbox"
           }
          ],
          "scatterpolar": [
           {
            "marker": {
             "colorbar": {
              "outlinewidth": 0,
              "ticks": ""
             }
            },
            "type": "scatterpolar"
           }
          ],
          "scatterpolargl": [
           {
            "marker": {
             "colorbar": {
              "outlinewidth": 0,
              "ticks": ""
             }
            },
            "type": "scatterpolargl"
           }
          ],
          "scatterternary": [
           {
            "marker": {
             "colorbar": {
              "outlinewidth": 0,
              "ticks": ""
             }
            },
            "type": "scatterternary"
           }
          ],
          "surface": [
           {
            "colorbar": {
             "outlinewidth": 0,
             "ticks": ""
            },
            "colorscale": [
             [
              0,
              "#0d0887"
             ],
             [
              0.1111111111111111,
              "#46039f"
             ],
             [
              0.2222222222222222,
              "#7201a8"
             ],
             [
              0.3333333333333333,
              "#9c179e"
             ],
             [
              0.4444444444444444,
              "#bd3786"
             ],
             [
              0.5555555555555556,
              "#d8576b"
             ],
             [
              0.6666666666666666,
              "#ed7953"
             ],
             [
              0.7777777777777778,
              "#fb9f3a"
             ],
             [
              0.8888888888888888,
              "#fdca26"
             ],
             [
              1,
              "#f0f921"
             ]
            ],
            "type": "surface"
           }
          ],
          "table": [
           {
            "cells": {
             "fill": {
              "color": "#EBF0F8"
             },
             "line": {
              "color": "white"
             }
            },
            "header": {
             "fill": {
              "color": "#C8D4E3"
             },
             "line": {
              "color": "white"
             }
            },
            "type": "table"
           }
          ]
         },
         "layout": {
          "annotationdefaults": {
           "arrowcolor": "#2a3f5f",
           "arrowhead": 0,
           "arrowwidth": 1
          },
          "autotypenumbers": "strict",
          "coloraxis": {
           "colorbar": {
            "outlinewidth": 0,
            "ticks": ""
           }
          },
          "colorscale": {
           "diverging": [
            [
             0,
             "#8e0152"
            ],
            [
             0.1,
             "#c51b7d"
            ],
            [
             0.2,
             "#de77ae"
            ],
            [
             0.3,
             "#f1b6da"
            ],
            [
             0.4,
             "#fde0ef"
            ],
            [
             0.5,
             "#f7f7f7"
            ],
            [
             0.6,
             "#e6f5d0"
            ],
            [
             0.7,
             "#b8e186"
            ],
            [
             0.8,
             "#7fbc41"
            ],
            [
             0.9,
             "#4d9221"
            ],
            [
             1,
             "#276419"
            ]
           ],
           "sequential": [
            [
             0,
             "#0d0887"
            ],
            [
             0.1111111111111111,
             "#46039f"
            ],
            [
             0.2222222222222222,
             "#7201a8"
            ],
            [
             0.3333333333333333,
             "#9c179e"
            ],
            [
             0.4444444444444444,
             "#bd3786"
            ],
            [
             0.5555555555555556,
             "#d8576b"
            ],
            [
             0.6666666666666666,
             "#ed7953"
            ],
            [
             0.7777777777777778,
             "#fb9f3a"
            ],
            [
             0.8888888888888888,
             "#fdca26"
            ],
            [
             1,
             "#f0f921"
            ]
           ],
           "sequentialminus": [
            [
             0,
             "#0d0887"
            ],
            [
             0.1111111111111111,
             "#46039f"
            ],
            [
             0.2222222222222222,
             "#7201a8"
            ],
            [
             0.3333333333333333,
             "#9c179e"
            ],
            [
             0.4444444444444444,
             "#bd3786"
            ],
            [
             0.5555555555555556,
             "#d8576b"
            ],
            [
             0.6666666666666666,
             "#ed7953"
            ],
            [
             0.7777777777777778,
             "#fb9f3a"
            ],
            [
             0.8888888888888888,
             "#fdca26"
            ],
            [
             1,
             "#f0f921"
            ]
           ]
          },
          "colorway": [
           "#636efa",
           "#EF553B",
           "#00cc96",
           "#ab63fa",
           "#FFA15A",
           "#19d3f3",
           "#FF6692",
           "#B6E880",
           "#FF97FF",
           "#FECB52"
          ],
          "font": {
           "color": "#2a3f5f"
          },
          "geo": {
           "bgcolor": "white",
           "lakecolor": "white",
           "landcolor": "#E5ECF6",
           "showlakes": true,
           "showland": true,
           "subunitcolor": "white"
          },
          "hoverlabel": {
           "align": "left"
          },
          "hovermode": "closest",
          "mapbox": {
           "style": "light"
          },
          "paper_bgcolor": "white",
          "plot_bgcolor": "#E5ECF6",
          "polar": {
           "angularaxis": {
            "gridcolor": "white",
            "linecolor": "white",
            "ticks": ""
           },
           "bgcolor": "#E5ECF6",
           "radialaxis": {
            "gridcolor": "white",
            "linecolor": "white",
            "ticks": ""
           }
          },
          "scene": {
           "xaxis": {
            "backgroundcolor": "#E5ECF6",
            "gridcolor": "white",
            "gridwidth": 2,
            "linecolor": "white",
            "showbackground": true,
            "ticks": "",
            "zerolinecolor": "white"
           },
           "yaxis": {
            "backgroundcolor": "#E5ECF6",
            "gridcolor": "white",
            "gridwidth": 2,
            "linecolor": "white",
            "showbackground": true,
            "ticks": "",
            "zerolinecolor": "white"
           },
           "zaxis": {
            "backgroundcolor": "#E5ECF6",
            "gridcolor": "white",
            "gridwidth": 2,
            "linecolor": "white",
            "showbackground": true,
            "ticks": "",
            "zerolinecolor": "white"
           }
          },
          "shapedefaults": {
           "line": {
            "color": "#2a3f5f"
           }
          },
          "ternary": {
           "aaxis": {
            "gridcolor": "white",
            "linecolor": "white",
            "ticks": ""
           },
           "baxis": {
            "gridcolor": "white",
            "linecolor": "white",
            "ticks": ""
           },
           "bgcolor": "#E5ECF6",
           "caxis": {
            "gridcolor": "white",
            "linecolor": "white",
            "ticks": ""
           }
          },
          "title": {
           "x": 0.05
          },
          "xaxis": {
           "automargin": true,
           "gridcolor": "white",
           "linecolor": "white",
           "ticks": "",
           "title": {
            "standoff": 15
           },
           "zerolinecolor": "white",
           "zerolinewidth": 2
          },
          "yaxis": {
           "automargin": true,
           "gridcolor": "white",
           "linecolor": "white",
           "ticks": "",
           "title": {
            "standoff": 15
           },
           "zerolinecolor": "white",
           "zerolinewidth": 2
          }
         }
        },
        "title": {
         "text": "Contour Plot"
        },
        "xaxis": {
         "range": [
          2.55,
          12.45
         ],
         "title": {
          "text": "max_depth"
         }
        },
        "yaxis": {
         "range": [
          -0.05,
          1.05
         ],
         "title": {
          "text": "objective"
         },
         "type": "category"
        }
       }
      }
     },
     "metadata": {},
     "output_type": "display_data"
    }
   ],
   "source": [
    "booster.study_plot('contour', params = ['objective' , 'max_depth'])\n"
   ]
  },
  {
   "cell_type": "code",
   "execution_count": null,
   "metadata": {},
   "outputs": [],
   "source": [
    "def objective(trial : optuna.Trial):\n",
    "\n",
    "    params = {\n",
    "        'metric':       trial.suggest_categorical('metric', [None,'rmse']) ,\n",
    "        # 'seed':         trial.suggest_int('seed', 2023, 2023),  #随机种子固定，所以设置为2023-2023\n",
    "        # 'num_boost_round':trial.suggest_int('num_boost_round', 50, 300),  #迭代器数量 50-300 的整数\n",
    "        'learning_rate':trial.suggest_float('learning_rate', 1e-4, 0.1, log = True),\n",
    "        'max_depth':    trial.suggest_int('max_depth', 3,10),  #整数    \n",
    "        'linear_tree':  trial.suggest_categorical('linear_tree', [True,False]), \n",
    "        'lambda_l2':    trial.suggest_float('lambda_l2', 1e-6, 0.1, log = True),\n",
    "        'alpha':        trial.suggest_float('alpha', 1e-7, 0.1, log = True),\n",
    "    }\n",
    "\n",
    "    model = booster.update_param(params)\n",
    "    model = model.fit(silent=True)\n",
    "    return model.predict('valid').rankic().mean().item()\n",
    "\n",
    "study = optuna.create_study(storage='sqlite:///runs/optuna/optuna.sqlite3' , direction='maximize')\n",
    "study.optimize(objective, n_trials=20)\n",
    "\n",
    "print(study.best_params)"
   ]
  },
  {
   "cell_type": "code",
   "execution_count": null,
   "metadata": {},
   "outputs": [],
   "source": [
    "study.best_params\n",
    "study.best_trial.params"
   ]
  },
  {
   "cell_type": "code",
   "execution_count": null,
   "metadata": {},
   "outputs": [],
   "source": [
    "model = booster.update_param(study.best_trial.params)\n",
    "model = model.fit(silent=True)"
   ]
  },
  {
   "cell_type": "code",
   "execution_count": null,
   "metadata": {},
   "outputs": [],
   "source": [
    "model.predict('test')"
   ]
  },
  {
   "cell_type": "code",
   "execution_count": null,
   "metadata": {},
   "outputs": [],
   "source": [
    "study.best_params"
   ]
  },
  {
   "cell_type": "code",
   "execution_count": null,
   "metadata": {},
   "outputs": [],
   "source": [
    "optuna.visualization.plot_slice(study)"
   ]
  },
  {
   "cell_type": "code",
   "execution_count": null,
   "metadata": {},
   "outputs": [],
   "source": [
    "optuna.visualization.plot_optimization_history(study)"
   ]
  },
  {
   "cell_type": "code",
   "execution_count": null,
   "metadata": {},
   "outputs": [],
   "source": [
    "optuna.visualization.plot_contour(study, params=[\"learning_rate\", \"max_depth\" ,'alpha'])"
   ]
  },
  {
   "cell_type": "code",
   "execution_count": null,
   "metadata": {},
   "outputs": [],
   "source": [
    "fig = optuna.visualization.plot_param_importances(study)\n",
    "fig.show()"
   ]
  },
  {
   "cell_type": "code",
   "execution_count": null,
   "metadata": {},
   "outputs": [],
   "source": []
  },
  {
   "cell_type": "code",
   "execution_count": null,
   "metadata": {},
   "outputs": [],
   "source": [
    "import optuna\n",
    " \n",
    "# 需要优化的函数\n",
    "def objective(trial : optuna.Trial):\n",
    "    x = trial.suggest_float('x', -10, 10)\n",
    "    return (x - 2) ** 2\n",
    " \n",
    "# 使用study对象的optimize来优化，里面的参数是上面定义的方法，以及迭代次数\n",
    "study = optuna.create_study(sampler=optuna.samplers.TPESampler(), storage='sqlite:///db.sqlite3')\n",
    "study.optimize(objective, n_trials=20)\n",
    " \n",
    "print(study.best_params)\n",
    "#{'x': 2.128194654190586}\n"
   ]
  }
 ],
 "metadata": {
  "kernelspec": {
   "display_name": "Python 3",
   "language": "python",
   "name": "python3"
  },
  "language_info": {
   "codemirror_mode": {
    "name": "ipython",
    "version": 3
   },
   "file_extension": ".py",
   "mimetype": "text/x-python",
   "name": "python",
   "nbconvert_exporter": "python",
   "pygments_lexer": "ipython3",
   "version": "3.11.8"
  }
 },
 "nbformat": 4,
 "nbformat_minor": 2
}
