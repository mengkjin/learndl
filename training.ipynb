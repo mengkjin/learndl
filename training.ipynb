{
 "cells": [
  {
   "cell_type": "code",
   "execution_count": 1,
   "metadata": {},
   "outputs": [
    {
     "name": "stdout",
     "output_type": "stream",
     "text": [
      "src.basic.INSTANCE_RECORD can be accessed to check ['trainer', 'account']\n",
      "Basic module imported!\n"
     ]
    },
    {
     "name": "stderr",
     "output_type": "stream",
     "text": [
      "\u001b[1m\u001b[37m\u001b[44m24-11-28 18:04:59|MOD:display     |\u001b[0m: \u001b[1m\u001b[34mModel Specifics:\u001b[0m\n",
      "\u001b[1m\u001b[37m\u001b[41m24-11-28 18:04:59|MOD:display     |\u001b[0m: \u001b[1m\u001b[31mStart Process [Data] at Thu Nov 28 18:04:59 2024!\u001b[0m\n"
     ]
    },
    {
     "name": "stdout",
     "output_type": "stream",
     "text": [
      "--------------------------------------------------------------------------------\n",
      "***************************** PARSER TRAINING ARGS *****************************\n",
      "--Process Queue : Data + Fit + Test\n",
      "--Start Training New!\n",
      "--Model_name is set to lgbm_day_ShortTest!\n",
      "********************************************************************************\n",
      "--------------------------------------------------------------------------------\n",
      "--------------------------------------------------------------------------------\n",
      "******************************* SETUP CALLBACKS *******************************\n",
      "StatusDisplay(verbosity=10) , display epoch and event information\n",
      "DetailedAlphaAnalysis(use_num=avg)\n",
      "********************************************************************************\n",
      "--------------------------------------------------------------------------------\n",
      "--------------------------------------------------------------------------------\n",
      "********************************** MODEL INFO **********************************\n",
      "Model Name   : lgbm_day_ShortTest\n",
      "Model Module : lgbm\n",
      "  -->  Booster Params :\n",
      "    -->  seqlens : [{'day': 5}]\n",
      "    -->  objective : ['mse']\n",
      "    -->  linear_tree : [True]\n",
      "    -->  learning_rate : [0.3]\n",
      "    -->  reg_lambda : [1e-05]\n",
      "    -->  reg_alpha : [1e-07]\n",
      "    -->  num_leaves : [31]\n",
      "    -->  max_depth : [6]\n",
      "    -->  min_sum_hessian_in_leaf : [1]\n",
      "    -->  feature_fraction : [0.6]\n",
      "    -->  bagging_fraction : [0.75]\n",
      "    -->  force_col_wise : [True]\n",
      "    -->  monotone_constraints : [0]\n",
      "    -->  verbosity : 10\n",
      "Model Inputs : data\n",
      "  -->  Data Types : ['day']\n",
      "Model Labels : ['std_lag1_10', 'rtn_lag1_10']\n",
      "Model Period : 20170101 ~ 20170228\n",
      "Sampling     : sequential\n",
      "Shuffling    : epoch\n",
      "Random Seed  : None\n",
      "********************************************************************************\n",
      "--------------------------------------------------------------------------------\n",
      "try using D:\\Coding\\learndl\\learndl\\data\\Interim\\DataSet/day.20240607.pt , success!\n"
     ]
    },
    {
     "name": "stderr",
     "output_type": "stream",
     "text": [
      "\u001b[1m\u001b[37m\u001b[41m24-11-28 18:05:00|MOD:display     |\u001b[0m: \u001b[1m\u001b[31mFinish Process [Data], Cost 1.6 Secs\u001b[0m\n",
      "\u001b[1m\u001b[37m\u001b[41m24-11-28 18:05:00|MOD:display     |\u001b[0m: \u001b[1m\u001b[31mStart Process [Fit] at Thu Nov 28 18:05:00 2024!\u001b[0m\n",
      "\u001b[1m\u001b[37m\u001b[44m24-11-28 18:05:00|MOD:classes     |\u001b[0m: \u001b[1m\u001b[34mFirst Iterance: (20170103 , 0)\u001b[0m\n"
     ]
    },
    {
     "name": "stdout",
     "output_type": "stream",
     "text": [
      "Pre-Norming method of [day] : {'divlast': True, 'histnorm': True}\n"
     ]
    },
    {
     "name": "stderr",
     "output_type": "stream",
     "text": [
      "100%|██████████| 38/38 [00:00<00:00, 38093.58it/s]\n",
      "100%|██████████| 10/10 [00:00<?, ?it/s]\n",
      "100%|██████████| 38/38 [00:00<00:00, 209.35it/s]\n"
     ]
    },
    {
     "name": "stdout",
     "output_type": "stream",
     "text": [
      "score function of [spearman] calculated and success!\n"
     ]
    },
    {
     "name": "stderr",
     "output_type": "stream",
     "text": [
      "100%|██████████| 10/10 [00:00<00:00, 175.91it/s]\n",
      "\u001b[1m\u001b[37m\u001b[44m24-11-28 18:05:02|MOD:display     |\u001b[0m: \u001b[1m\u001b[34mlgbm_day_ShortTest #0 @20170103|  |Train 0.2825 Valid 0.1976 BestVal 0.1976|Cost  0.0Min,  0.9Sec/Ep\u001b[0m\n",
      "100%|██████████| 38/38 [00:00<00:00, 19044.52it/s]\n",
      "100%|██████████| 10/10 [00:00<00:00, 10024.63it/s]\n",
      "100%|██████████| 38/38 [00:00<00:00, 211.68it/s]\n",
      "100%|██████████| 10/10 [00:00<00:00, 208.89it/s]\n",
      "\u001b[1m\u001b[37m\u001b[44m24-11-28 18:05:03|MOD:display     |\u001b[0m: \u001b[1m\u001b[34mlgbm_day_ShortTest #0 @20170207|  |Train 0.1907 Valid 0.2057 BestVal 0.2057|Cost  0.0Min,  0.9Sec/Ep\u001b[0m\n",
      "\u001b[1m\u001b[37m\u001b[41m24-11-28 18:05:03|MOD:display     |\u001b[0m: \u001b[1m\u001b[31mFinish Process [Fit], Cost 2.7 Secs\u001b[0m\n",
      "\u001b[1m\u001b[37m\u001b[41m24-11-28 18:05:03|MOD:display     |\u001b[0m: \u001b[1m\u001b[31mStart Process [Test] at Thu Nov 28 18:05:03 2024!\u001b[0m\n",
      "100%|██████████| 20/20 [00:00<00:00, 91.99it/s]\n",
      "100%|██████████| 15/15 [00:00<00:00, 106.67it/s]\n",
      "\u001b[1m\u001b[37m\u001b[44m24-11-28 18:05:04|MOD:display     |\u001b[0m: \u001b[1m\u001b[34mTesting Mean Score(spearman):\u001b[0m\n"
     ]
    },
    {
     "data": {
      "text/html": [
       "<div>\n",
       "<style scoped>\n",
       "    .dataframe tbody tr th:only-of-type {\n",
       "        vertical-align: middle;\n",
       "    }\n",
       "\n",
       "    .dataframe tbody tr th {\n",
       "        vertical-align: top;\n",
       "    }\n",
       "\n",
       "    .dataframe thead tr th {\n",
       "        text-align: left;\n",
       "    }\n",
       "\n",
       "    .dataframe thead tr:last-of-type th {\n",
       "        text-align: right;\n",
       "    }\n",
       "</style>\n",
       "<table border=\"1\" class=\"dataframe\">\n",
       "  <thead>\n",
       "    <tr>\n",
       "      <th>model</th>\n",
       "      <th>lgbm.0</th>\n",
       "    </tr>\n",
       "    <tr>\n",
       "      <th>submodel</th>\n",
       "      <th>best</th>\n",
       "    </tr>\n",
       "    <tr>\n",
       "      <th>stat</th>\n",
       "      <th></th>\n",
       "    </tr>\n",
       "  </thead>\n",
       "  <tbody>\n",
       "    <tr>\n",
       "      <th>20170103</th>\n",
       "      <td>0.199</td>\n",
       "    </tr>\n",
       "    <tr>\n",
       "      <th>20170207</th>\n",
       "      <td>0.192</td>\n",
       "    </tr>\n",
       "    <tr>\n",
       "      <th>Avg</th>\n",
       "      <td>0.196</td>\n",
       "    </tr>\n",
       "    <tr>\n",
       "      <th>Sum</th>\n",
       "      <td>6.855</td>\n",
       "    </tr>\n",
       "    <tr>\n",
       "      <th>Std</th>\n",
       "      <td>0.047</td>\n",
       "    </tr>\n",
       "    <tr>\n",
       "      <th>T</th>\n",
       "      <td>24.826</td>\n",
       "    </tr>\n",
       "    <tr>\n",
       "      <th>IR</th>\n",
       "      <td>20.558</td>\n",
       "    </tr>\n",
       "  </tbody>\n",
       "</table>\n",
       "</div>"
      ],
      "text/plain": [
       "model     lgbm.0\n",
       "submodel   best \n",
       "stat            \n",
       "20170103   0.199\n",
       "20170207   0.192\n",
       "Avg        0.196\n",
       "Sum        6.855\n",
       "Std        0.047\n",
       "T         24.826\n",
       "IR        20.558"
      ]
     },
     "metadata": {},
     "output_type": "display_data"
    },
    {
     "name": "stdout",
     "output_type": "stream",
     "text": [
      "Test results are saved to D:\\Coding\\learndl\\learndl\\models\\lgbm_day_ShortTest\\detailed_analysis\\test.xlsx\n"
     ]
    },
    {
     "name": "stderr",
     "output_type": "stream",
     "text": [
      "\u001b[1m\u001b[37m\u001b[41m24-11-28 18:05:04|MOD:display     |\u001b[0m: \u001b[1m\u001b[31mFinish Process [Test], Cost 1.4 Secs\u001b[0m\n"
     ]
    },
    {
     "data": {
      "text/html": [
       "<div>\n",
       "<style scoped>\n",
       "    .dataframe tbody tr th:only-of-type {\n",
       "        vertical-align: middle;\n",
       "    }\n",
       "\n",
       "    .dataframe tbody tr th {\n",
       "        vertical-align: top;\n",
       "    }\n",
       "\n",
       "    .dataframe thead th {\n",
       "        text-align: right;\n",
       "    }\n",
       "</style>\n",
       "<table border=\"1\" class=\"dataframe\">\n",
       "  <thead>\n",
       "    <tr style=\"text-align: center;\">\n",
       "      <th></th>\n",
       "      <th>group</th>\n",
       "      <th>1</th>\n",
       "      <th>2</th>\n",
       "      <th>3</th>\n",
       "      <th>4</th>\n",
       "      <th>5</th>\n",
       "      <th>6</th>\n",
       "      <th>7</th>\n",
       "      <th>8</th>\n",
       "      <th>9</th>\n",
       "      <th>10</th>\n",
       "      <th>11</th>\n",
       "      <th>12</th>\n",
       "      <th>13</th>\n",
       "      <th>14</th>\n",
       "      <th>15</th>\n",
       "      <th>16</th>\n",
       "      <th>17</th>\n",
       "      <th>18</th>\n",
       "      <th>19</th>\n",
       "      <th>20</th>\n",
       "    </tr>\n",
       "    <tr>\n",
       "      <th>num</th>\n",
       "      <th>submodel</th>\n",
       "      <th></th>\n",
       "      <th></th>\n",
       "      <th></th>\n",
       "      <th></th>\n",
       "      <th></th>\n",
       "      <th></th>\n",
       "      <th></th>\n",
       "      <th></th>\n",
       "      <th></th>\n",
       "      <th></th>\n",
       "      <th></th>\n",
       "      <th></th>\n",
       "      <th></th>\n",
       "      <th></th>\n",
       "      <th></th>\n",
       "      <th></th>\n",
       "      <th></th>\n",
       "      <th></th>\n",
       "      <th></th>\n",
       "      <th></th>\n",
       "    </tr>\n",
       "  </thead>\n",
       "  <tbody>\n",
       "    <tr>\n",
       "      <th>0</th>\n",
       "      <th>best</th>\n",
       "      <td>-2.610%</td>\n",
       "      <td>-1.936%</td>\n",
       "      <td>-1.612%</td>\n",
       "      <td>-1.214%</td>\n",
       "      <td>-1.373%</td>\n",
       "      <td>-1.474%</td>\n",
       "      <td>-1.093%</td>\n",
       "      <td>1.362%</td>\n",
       "      <td>-1.161%</td>\n",
       "      <td>-1.066%</td>\n",
       "      <td>-0.675%</td>\n",
       "      <td>-1.125%</td>\n",
       "      <td>1.030%</td>\n",
       "      <td>0.177%</td>\n",
       "      <td>-0.657%</td>\n",
       "      <td>-0.638%</td>\n",
       "      <td>-0.581%</td>\n",
       "      <td>-0.229%</td>\n",
       "      <td>1.620%</td>\n",
       "      <td>3.217%</td>\n",
       "    </tr>\n",
       "  </tbody>\n",
       "</table>\n",
       "</div>"
      ],
      "text/plain": [
       "group           1        2        3        4        5        6        7        8       9        10       11       12       13      14      15       16       17       18       19      20  \n",
       "num submodel                                                                                                                                                                               \n",
       "0   best      -2.610%  -1.936%  -1.612%  -1.214%  -1.373%  -1.474%  -1.093%  1.362%  -1.161%  -1.066%  -0.675%  -1.125%  1.030%  0.177%  -0.657%  -0.638%  -0.581%  -0.229%  1.620%  3.217%"
      ]
     },
     "metadata": {},
     "output_type": "display_data"
    },
    {
     "name": "stdout",
     "output_type": "stream",
     "text": [
      "Grouped Return Results are saved to D:\\Coding\\learndl\\learndl\\models\\lgbm_day_ShortTest\\detailed_analysis\\group.xlsx\n"
     ]
    },
    {
     "data": {
      "text/html": [
       "<div>\n",
       "<style scoped>\n",
       "    .dataframe tbody tr th:only-of-type {\n",
       "        vertical-align: middle;\n",
       "    }\n",
       "\n",
       "    .dataframe tbody tr th {\n",
       "        vertical-align: top;\n",
       "    }\n",
       "\n",
       "    .dataframe thead th {\n",
       "        text-align: right;\n",
       "    }\n",
       "</style>\n",
       "<table border=\"1\" class=\"dataframe\">\n",
       "  <thead>\n",
       "    <tr style=\"text-align: center;\">\n",
       "      <th></th>\n",
       "      <th></th>\n",
       "      <th></th>\n",
       "      <th></th>\n",
       "      <th></th>\n",
       "      <th></th>\n",
       "      <th>start</th>\n",
       "      <th>end</th>\n",
       "      <th>pf</th>\n",
       "      <th>bm</th>\n",
       "      <th>excess</th>\n",
       "      <th>annualized</th>\n",
       "      <th>mdd</th>\n",
       "      <th>te</th>\n",
       "      <th>ir</th>\n",
       "      <th>calmar</th>\n",
       "      <th>turnover</th>\n",
       "      <th>mdd_period</th>\n",
       "    </tr>\n",
       "    <tr>\n",
       "      <th>prefix</th>\n",
       "      <th>factor_name</th>\n",
       "      <th>benchmark</th>\n",
       "      <th>strategy</th>\n",
       "      <th>suffix</th>\n",
       "      <th>lag</th>\n",
       "      <th></th>\n",
       "      <th></th>\n",
       "      <th></th>\n",
       "      <th></th>\n",
       "      <th></th>\n",
       "      <th></th>\n",
       "      <th></th>\n",
       "      <th></th>\n",
       "      <th></th>\n",
       "      <th></th>\n",
       "      <th></th>\n",
       "      <th></th>\n",
       "    </tr>\n",
       "  </thead>\n",
       "  <tbody>\n",
       "    <tr>\n",
       "      <th rowspan=\"6\" valign=\"top\">Optim</th>\n",
       "      <th rowspan=\"6\" valign=\"top\">best</th>\n",
       "      <th rowspan=\"2\" valign=\"top\">csi300</th>\n",
       "      <th rowspan=\"2\" valign=\"top\">default</th>\n",
       "      <th>lag0</th>\n",
       "      <th>0</th>\n",
       "      <td>20170104</td>\n",
       "      <td>20170302</td>\n",
       "      <td>2.22%</td>\n",
       "      <td>1.89%</td>\n",
       "      <td>0.33%</td>\n",
       "      <td>2.03%</td>\n",
       "      <td>0.20%</td>\n",
       "      <td>1.54%</td>\n",
       "      <td>1.317</td>\n",
       "      <td>9.893</td>\n",
       "      <td>3.416</td>\n",
       "      <td>20170104-20170111</td>\n",
       "    </tr>\n",
       "    <tr>\n",
       "      <th>lag1</th>\n",
       "      <th>1</th>\n",
       "      <td>20170104</td>\n",
       "      <td>20170302</td>\n",
       "      <td>1.02%</td>\n",
       "      <td>1.89%</td>\n",
       "      <td>-0.87%</td>\n",
       "      <td>-5.46%</td>\n",
       "      <td>1.20%</td>\n",
       "      <td>2.39%</td>\n",
       "      <td>-2.284</td>\n",
       "      <td>-4.569</td>\n",
       "      <td>3.258</td>\n",
       "      <td>20170118-20170222</td>\n",
       "    </tr>\n",
       "    <tr>\n",
       "      <th rowspan=\"2\" valign=\"top\">csi500</th>\n",
       "      <th rowspan=\"2\" valign=\"top\">default</th>\n",
       "      <th>lag0</th>\n",
       "      <th>0</th>\n",
       "      <td>20170104</td>\n",
       "      <td>20170302</td>\n",
       "      <td>0.66%</td>\n",
       "      <td>0.84%</td>\n",
       "      <td>-0.18%</td>\n",
       "      <td>-1.37%</td>\n",
       "      <td>0.69%</td>\n",
       "      <td>2.46%</td>\n",
       "      <td>-0.555</td>\n",
       "      <td>-1.988</td>\n",
       "      <td>3.440</td>\n",
       "      <td>20170125-20170222</td>\n",
       "    </tr>\n",
       "    <tr>\n",
       "      <th>lag1</th>\n",
       "      <th>1</th>\n",
       "      <td>20170104</td>\n",
       "      <td>20170302</td>\n",
       "      <td>0.83%</td>\n",
       "      <td>0.84%</td>\n",
       "      <td>-0.00%</td>\n",
       "      <td>-0.44%</td>\n",
       "      <td>0.97%</td>\n",
       "      <td>3.80%</td>\n",
       "      <td>-0.115</td>\n",
       "      <td>-0.447</td>\n",
       "      <td>3.244</td>\n",
       "      <td>20170118-20170302</td>\n",
       "    </tr>\n",
       "    <tr>\n",
       "      <th rowspan=\"2\" valign=\"top\">csi1000</th>\n",
       "      <th rowspan=\"2\" valign=\"top\">default</th>\n",
       "      <th>lag0</th>\n",
       "      <th>0</th>\n",
       "      <td>20170104</td>\n",
       "      <td>20170302</td>\n",
       "      <td>-1.62%</td>\n",
       "      <td>-2.06%</td>\n",
       "      <td>0.44%</td>\n",
       "      <td>2.48%</td>\n",
       "      <td>0.95%</td>\n",
       "      <td>3.17%</td>\n",
       "      <td>0.781</td>\n",
       "      <td>2.609</td>\n",
       "      <td>3.446</td>\n",
       "      <td>20170208-20170222</td>\n",
       "    </tr>\n",
       "    <tr>\n",
       "      <th>lag1</th>\n",
       "      <th>1</th>\n",
       "      <td>20170104</td>\n",
       "      <td>20170302</td>\n",
       "      <td>-0.73%</td>\n",
       "      <td>-2.06%</td>\n",
       "      <td>1.33%</td>\n",
       "      <td>8.20%</td>\n",
       "      <td>1.21%</td>\n",
       "      <td>5.24%</td>\n",
       "      <td>1.566</td>\n",
       "      <td>6.805</td>\n",
       "      <td>3.419</td>\n",
       "      <td>20170118-20170215</td>\n",
       "    </tr>\n",
       "  </tbody>\n",
       "</table>\n",
       "</div>"
      ],
      "text/plain": [
       "                                                    start      end      pf      bm    excess annualized  mdd     te      ir    calmar turnover     mdd_period    \n",
       "prefix factor_name benchmark strategy suffix lag                                                                                                                 \n",
       "Optim  best        csi300    default  lag0   0    20170104  20170302   2.22%   1.89%   0.33%    2.03%    0.20%  1.54%   1.317   9.893   3.416   20170104-20170111\n",
       "                                      lag1   1    20170104  20170302   1.02%   1.89%  -0.87%   -5.46%    1.20%  2.39%  -2.284  -4.569   3.258   20170118-20170222\n",
       "                   csi500    default  lag0   0    20170104  20170302   0.66%   0.84%  -0.18%   -1.37%    0.69%  2.46%  -0.555  -1.988   3.440   20170125-20170222\n",
       "                                      lag1   1    20170104  20170302   0.83%   0.84%  -0.00%   -0.44%    0.97%  3.80%  -0.115  -0.447   3.244   20170118-20170302\n",
       "                   csi1000   default  lag0   0    20170104  20170302  -1.62%  -2.06%   0.44%    2.48%    0.95%  3.17%   0.781   2.609   3.446   20170208-20170222\n",
       "                                      lag1   1    20170104  20170302  -0.73%  -2.06%   1.33%    8.20%    1.21%  5.24%   1.566   6.805   3.419   20170118-20170215"
      ]
     },
     "metadata": {},
     "output_type": "display_data"
    },
    {
     "name": "stdout",
     "output_type": "stream",
     "text": [
      "Analytic datas are saved to D:\\Coding\\learndl\\learndl\\models\\lgbm_day_ShortTest\\detailed_analysis\\data.xlsx\n"
     ]
    },
    {
     "name": "stderr",
     "output_type": "stream",
     "text": [
      "\u001b[1m\u001b[37m\u001b[41m24-11-28 18:06:07|MOD:timer       |\u001b[0m: \u001b[1m\u001b[31mMain Process Finished! Cost 1 Minutes 7.7 Seconds\u001b[0m\n"
     ]
    },
    {
     "name": "stdout",
     "output_type": "stream",
     "text": [
      "Analytic plots are saved to D:\\Coding\\learndl\\learndl\\models\\lgbm_day_ShortTest\\detailed_analysis\\plot.pdf\n"
     ]
    },
    {
     "data": {
      "text/plain": [
       "ModelTrainer(path=D:\\Coding\\learndl\\learndl\\models\\lgbm_day_ShortTest)"
      ]
     },
     "execution_count": 1,
     "metadata": {},
     "output_type": "execute_result"
    }
   ],
   "source": [
    "from src.api import ModelAPI  \n",
    "app = ModelAPI.Trainer.initialize(stage = 0 , resume = 0 , checkname= 1 , override={'env.short_test':True})\n",
    "app.go()"
   ]
  },
  {
   "cell_type": "code",
   "execution_count": 3,
   "metadata": {},
   "outputs": [
    {
     "data": {
      "text/plain": [
       "InstanceRecord(names=['trainer', 'account'])"
      ]
     },
     "execution_count": 3,
     "metadata": {},
     "output_type": "execute_result"
    }
   ],
   "source": [
    "from src import INSTANCE_RECORD\n",
    "INSTANCE_RECORD"
   ]
  },
  {
   "cell_type": "code",
   "execution_count": 1,
   "metadata": {},
   "outputs": [
    {
     "name": "stdout",
     "output_type": "stream",
     "text": [
      "model_name is None, update all hidden models\n",
      "{'name': 'gru_day', 'nums': None, 'submodels': ['best']}\n",
      "Beware! Should be at server or short_test, but short_test is False now!\n",
      "try using d:\\Coding\\learndl\\learndl\\data\\DataSet/day.20240607.pt , success!\n",
      "Load  2 DataBlocks...... finished! Cost 0.08 secs\n",
      "Align 2 DataBlocks...... finished! Cost 0.21 secs\n",
      "Pre-Norming method of [day] : {'divlast': True, 'histnorm': True}\n"
     ]
    },
    {
     "name": "stderr",
     "output_type": "stream",
     "text": [
      "100%|██████████| 316/316 [00:00<00:00, 2933.69it/s]\n",
      "100%|██████████| 316/316 [00:00<00:00, 3047.38it/s]"
     ]
    },
    {
     "name": "stdout",
     "output_type": "stream",
     "text": [
      "--------------------------------------------------------------------------------\n"
     ]
    },
    {
     "name": "stderr",
     "output_type": "stream",
     "text": [
      "\n"
     ]
    },
    {
     "data": {
      "text/plain": [
       "<src.model.model_module.application.extractor.ModelHiddenExtractor at 0x1bcbb3520d0>"
      ]
     },
     "execution_count": 1,
     "metadata": {},
     "output_type": "execute_result"
    }
   ],
   "source": [
    "from src.api import ModelAPI\n",
    "ModelAPI.Extractor.update()\n",
    "\n"
   ]
  },
  {
   "cell_type": "code",
   "execution_count": 1,
   "metadata": {},
   "outputs": [
    {
     "name": "stdout",
     "output_type": "stream",
     "text": [
      "src.basic.INSTANCE_RECORD can be accessed to check ['trainer', 'account']\n",
      "Basic module imported!\n",
      "Use device name: NVIDIA GeForce RTX 4090\n"
     ]
    },
    {
     "name": "stderr",
     "output_type": "stream",
     "text": [
      "\u001b[1m\u001b[37m\u001b[44m24-12-15 18:40:32|MOD:display     |\u001b[0m: \u001b[1m\u001b[34mModel Specifics:\u001b[0m\n",
      "\u001b[1m\u001b[37m\u001b[41m24-12-15 18:40:32|MOD:display     |\u001b[0m: \u001b[1m\u001b[31mStart Process [Data] at Sun Dec 15 18:40:32 2024!\u001b[0m\n"
     ]
    },
    {
     "name": "stdout",
     "output_type": "stream",
     "text": [
      "--------------------------------------------------------------------------------\n",
      "**************************** RECONSTRUCT TRAIN DATA ****************************\n",
      "predict is False , Data Processing start!\n",
      "6 datas : ['y', 'day', '30m', 'style', 'indus', 'week'] , from 20070101 to None\n",
      "y is up to 20241215121914 already!\n",
      "day is up to 20241215122636 already!\n",
      "30m is up to 20241215122719 already!\n",
      "style is up to 20241215124444 already!\n",
      "indus is up to 20241215124618 already!\n",
      "week is up to 20241215124746 already!\n",
      "Data Processing Finished! Cost 0.00 Seconds\n",
      "--------------------------------------------------------------------------------\n",
      "--------------------------------------------------------------------------------\n",
      "******************************** UPDATE MODELS ********************************\n",
      "--------------------------------------------------------------------------------\n",
      "***************************** PARSER TRAINING ARGS *****************************\n",
      "--Process Queue : Data + Fit + Test\n",
      "--Confirm Resume Training!\n",
      "--Model_name is set to gru_day!\n",
      "--------------------------------------------------------------------------------\n",
      "--------------------------------------------------------------------------------\n",
      "******************************* SETUP CALLBACKS *******************************\n",
      "ResetOptimizer(num_reset=2,trigger=40,recover_level=1.0,speedup2x=True) , reset optimizer on some epoch (can speedup scheduler)\n",
      "CallbackTimer(verbosity=2) , record time cost of callback hooks\n",
      "EarlyStoppage(patience=20) , stop fitting when validation score cease to improve\n",
      "ValidationConverge(patience=5,eps=1e-05) , stop fitting when valid_score converge\n",
      "EarlyExitRetrain(earliest=10,max_attempt=4,lr_multiplier=[1, 0.1, 10, 0.01, 100, 1]) , retrain with new lr if fitting stopped too early\n",
      "NanLossRetrain(max_attempt=4) , retrain if fitting encounters nan loss\n",
      "BatchDisplay(verbosity=2) , display batch progress bar\n",
      "StatusDisplay(verbosity=2) , display epoch and event information\n",
      "DetailedAlphaAnalysis(use_num=avg)\n",
      "--------------------------------------------------------------------------------\n",
      "--------------------------------------------------------------------------------\n",
      "********************************** MODEL INFO **********************************\n",
      "Model Name   : gru_day\n",
      "Model Module : gru\n",
      "  -->  Model Params :\n",
      "    -->  hidden_dim : [32, 64]\n",
      "    -->  seqlens : [{'day': 30, '30m': 30, 'dms': 30}]\n",
      "    -->  tra_seqlens : [{'hist_loss': 40}]\n",
      "    -->  dropout : [0.1]\n",
      "    -->  enc_in : [True]\n",
      "    -->  enc_att : [False]\n",
      "    -->  rnn_type : ['lstm']\n",
      "    -->  rnn_att : [False]\n",
      "    -->  rnn_layers : [2]\n",
      "    -->  dec_mlp_layers : [2]\n",
      "    -->  num_output : [1]\n",
      "    -->  kernel_size : [3]\n",
      "    -->  hidden_as_factor : [False]\n",
      "    -->  ordered_param_group : [False]\n",
      "    -->  tra_num_states : [5]\n",
      "    -->  verbosity : 2\n",
      "Model Inputs : data\n",
      "  -->  Data Types : ['day']\n",
      "Model Labels : ['std_lag1_10']\n",
      "Model Period : 20170103 ~ 99991231\n",
      "Sampling     : sequential\n",
      "Shuffling    : epoch\n",
      "Random Seed  : None\n",
      "--------------------------------------------------------------------------------\n",
      "try using /home/mengkjin/Workspace/learndl/data/Interim/DataSet/day.20241128.pt , success!\n"
     ]
    },
    {
     "name": "stderr",
     "output_type": "stream",
     "text": [
      "\u001b[1m\u001b[37m\u001b[41m24-12-15 18:40:36|MOD:display     |\u001b[0m: \u001b[1m\u001b[31mFinish Process [Data], Cost 3.7 Secs\u001b[0m\n",
      "\u001b[1m\u001b[37m\u001b[41m24-12-15 18:40:36|MOD:display     |\u001b[0m: \u001b[1m\u001b[31mStart Process [Fit] at Sun Dec 15 18:40:36 2024!\u001b[0m\n",
      "\u001b[1m\u001b[37m\u001b[41m24-12-15 18:40:36|MOD:display     |\u001b[0m: \u001b[1m\u001b[31mFinish Process [Fit], Cost 0.0 Secs\u001b[0m\n",
      "\u001b[1m\u001b[37m\u001b[41m24-12-15 18:40:36|MOD:display     |\u001b[0m: \u001b[1m\u001b[31mStart Process [Test] at Sun Dec 15 18:40:36 2024!\u001b[0m\n",
      "\u001b[1m\u001b[37m\u001b[44m24-12-15 18:40:36|MOD:display     |\u001b[0m: \u001b[1m\u001b[34mTesting Mean Score(spearman):\u001b[0m\n",
      "\u001b[1m\u001b[37m\u001b[41m24-12-15 18:40:36|MOD:display     |\u001b[0m: \u001b[1m\u001b[31mFinish Process [Test], Cost 0.0 Secs\u001b[0m\n",
      "\u001b[1m\u001b[37m\u001b[41m24-12-15 18:40:36|MOD:timer       |\u001b[0m: \u001b[1m\u001b[31mMain Process Finished! Cost 3.8 Seconds\u001b[0m\n",
      "\u001b[1m\u001b[37m\u001b[44m24-12-15 18:40:36|MOD:display     |\u001b[0m: \u001b[1m\u001b[34mModel Specifics:\u001b[0m\n",
      "\u001b[1m\u001b[37m\u001b[41m24-12-15 18:40:36|MOD:display     |\u001b[0m: \u001b[1m\u001b[31mStart Process [Data] at Sun Dec 15 18:40:36 2024!\u001b[0m\n"
     ]
    },
    {
     "name": "stdout",
     "output_type": "stream",
     "text": [
      "Pre-Norming method of [day] : {'divlast': True, 'histnorm': True}\n",
      "--------------------------------------------------------------------------------\n",
      "***************************** PARSER TRAINING ARGS *****************************\n",
      "--Process Queue : Data + Fit + Test\n",
      "--Confirm Resume Training!\n",
      "--Model_name is set to gruRTN_day!\n",
      "--------------------------------------------------------------------------------\n",
      "--------------------------------------------------------------------------------\n",
      "******************************* SETUP CALLBACKS *******************************\n",
      "ResetOptimizer(num_reset=2,trigger=40,recover_level=1.0,speedup2x=True) , reset optimizer on some epoch (can speedup scheduler)\n",
      "CallbackTimer(verbosity=2) , record time cost of callback hooks\n",
      "EarlyStoppage(patience=20) , stop fitting when validation score cease to improve\n",
      "ValidationConverge(patience=5,eps=1e-05) , stop fitting when valid_score converge\n",
      "EarlyExitRetrain(earliest=10,max_attempt=4,lr_multiplier=[1, 0.1, 10, 0.01, 100, 1]) , retrain with new lr if fitting stopped too early\n",
      "NanLossRetrain(max_attempt=4) , retrain if fitting encounters nan loss\n",
      "BatchDisplay(verbosity=2) , display batch progress bar\n",
      "StatusDisplay(verbosity=2) , display epoch and event information\n",
      "DetailedAlphaAnalysis(use_num=avg)\n",
      "--------------------------------------------------------------------------------\n",
      "--------------------------------------------------------------------------------\n",
      "********************************** MODEL INFO **********************************\n",
      "Model Name   : gruRTN_day\n",
      "Model Module : gru\n",
      "  -->  Model Params :\n",
      "    -->  hidden_dim : [32, 64]\n",
      "    -->  seqlens : [{'day': 30, '30m': 30, 'dms': 30}]\n",
      "    -->  tra_seqlens : [{'hist_loss': 40}]\n",
      "    -->  dropout : [0.1]\n",
      "    -->  enc_in : [True]\n",
      "    -->  enc_att : [False]\n",
      "    -->  rnn_type : ['lstm']\n",
      "    -->  rnn_att : [False]\n",
      "    -->  rnn_layers : [2]\n",
      "    -->  dec_mlp_layers : [2]\n",
      "    -->  num_output : [1]\n",
      "    -->  kernel_size : [3]\n",
      "    -->  hidden_as_factor : [False]\n",
      "    -->  ordered_param_group : [False]\n",
      "    -->  tra_num_states : [5]\n",
      "    -->  verbosity : 2\n",
      "Model Inputs : data\n",
      "  -->  Data Types : ['day']\n",
      "Model Labels : ['rtn_lag1_10']\n",
      "Model Period : 20170103 ~ 99991231\n",
      "Sampling     : sequential\n",
      "Shuffling    : epoch\n",
      "Random Seed  : None\n",
      "--------------------------------------------------------------------------------\n",
      "try using /home/mengkjin/Workspace/learndl/data/Interim/DataSet/day.20241128.pt , success!\n"
     ]
    },
    {
     "name": "stderr",
     "output_type": "stream",
     "text": [
      "\u001b[1m\u001b[37m\u001b[41m24-12-15 18:40:40|MOD:display     |\u001b[0m: \u001b[1m\u001b[31mFinish Process [Data], Cost 3.7 Secs\u001b[0m\n",
      "\u001b[1m\u001b[37m\u001b[41m24-12-15 18:40:40|MOD:display     |\u001b[0m: \u001b[1m\u001b[31mStart Process [Fit] at Sun Dec 15 18:40:40 2024!\u001b[0m\n",
      "\u001b[1m\u001b[37m\u001b[41m24-12-15 18:40:40|MOD:display     |\u001b[0m: \u001b[1m\u001b[31mFinish Process [Fit], Cost 0.0 Secs\u001b[0m\n",
      "\u001b[1m\u001b[37m\u001b[41m24-12-15 18:40:40|MOD:display     |\u001b[0m: \u001b[1m\u001b[31mStart Process [Test] at Sun Dec 15 18:40:40 2024!\u001b[0m\n",
      "\u001b[1m\u001b[37m\u001b[44m24-12-15 18:40:40|MOD:display     |\u001b[0m: \u001b[1m\u001b[34mTesting Mean Score(spearman):\u001b[0m\n",
      "\u001b[1m\u001b[37m\u001b[41m24-12-15 18:40:40|MOD:display     |\u001b[0m: \u001b[1m\u001b[31mFinish Process [Test], Cost 0.0 Secs\u001b[0m\n",
      "\u001b[1m\u001b[37m\u001b[41m24-12-15 18:40:40|MOD:timer       |\u001b[0m: \u001b[1m\u001b[31mMain Process Finished! Cost 3.7 Seconds\u001b[0m\n",
      "\u001b[1m\u001b[37m\u001b[44m24-12-15 18:40:40|MOD:display     |\u001b[0m: \u001b[1m\u001b[34mModel Specifics:\u001b[0m\n",
      "\u001b[1m\u001b[37m\u001b[41m24-12-15 18:40:40|MOD:display     |\u001b[0m: \u001b[1m\u001b[31mStart Process [Data] at Sun Dec 15 18:40:40 2024!\u001b[0m\n"
     ]
    },
    {
     "name": "stdout",
     "output_type": "stream",
     "text": [
      "Pre-Norming method of [day] : {'divlast': True, 'histnorm': True}\n",
      "--------------------------------------------------------------------------------\n",
      "***************************** PARSER TRAINING ARGS *****************************\n",
      "--Process Queue : Data + Fit + Test\n",
      "--Confirm Resume Training!\n",
      "--Model_name is set to gru_avg!\n",
      "--------------------------------------------------------------------------------\n",
      "--------------------------------------------------------------------------------\n",
      "******************************* SETUP CALLBACKS *******************************\n",
      "ResetOptimizer(num_reset=2,trigger=40,recover_level=1.0,speedup2x=True) , reset optimizer on some epoch (can speedup scheduler)\n",
      "CallbackTimer(verbosity=2) , record time cost of callback hooks\n",
      "EarlyStoppage(patience=20) , stop fitting when validation score cease to improve\n",
      "ValidationConverge(patience=5,eps=1e-05) , stop fitting when valid_score converge\n",
      "EarlyExitRetrain(earliest=10,max_attempt=4,lr_multiplier=[1, 0.1, 10, 0.01, 100, 1]) , retrain with new lr if fitting stopped too early\n",
      "NanLossRetrain(max_attempt=4) , retrain if fitting encounters nan loss\n",
      "BatchDisplay(verbosity=2) , display batch progress bar\n",
      "StatusDisplay(verbosity=2) , display epoch and event information\n",
      "DetailedAlphaAnalysis(use_num=avg)\n",
      "--------------------------------------------------------------------------------\n",
      "--------------------------------------------------------------------------------\n",
      "********************************** MODEL INFO **********************************\n",
      "Model Name   : gru_avg\n",
      "Model Module : gru\n",
      "  -->  Model Params :\n",
      "    -->  hidden_dim : [32, 32, 32, 32, 32]\n",
      "    -->  seqlens : [{'day': 30, '30m': 30}]\n",
      "    -->  dropout : [0.1]\n",
      "    -->  enc_in : [True]\n",
      "    -->  enc_att : [False]\n",
      "    -->  rnn_type : ['gru']\n",
      "    -->  rnn_att : [False]\n",
      "    -->  rnn_layers : [2]\n",
      "    -->  dec_mlp_layers : [2]\n",
      "    -->  num_output : [1]\n",
      "    -->  which_output : [0]\n",
      "    -->  kernel_size : [3]\n",
      "    -->  hidden_as_factor : [True]\n",
      "    -->  ordered_param_group : [False]\n",
      "    -->  verbosity : 2\n",
      "Model Inputs : data\n",
      "  -->  Data Types : ['day']\n",
      "Model Labels : ['std_lag1_10']\n",
      "Model Period : 20170103 ~ 99991231\n",
      "Sampling     : sequential\n",
      "Shuffling    : epoch\n",
      "Random Seed  : None\n",
      "--------------------------------------------------------------------------------\n",
      "try using /home/mengkjin/Workspace/learndl/data/Interim/DataSet/day.20241128.pt , success!\n"
     ]
    },
    {
     "name": "stderr",
     "output_type": "stream",
     "text": [
      "\u001b[1m\u001b[37m\u001b[41m24-12-15 18:40:44|MOD:display     |\u001b[0m: \u001b[1m\u001b[31mFinish Process [Data], Cost 3.7 Secs\u001b[0m\n",
      "\u001b[1m\u001b[37m\u001b[41m24-12-15 18:40:44|MOD:display     |\u001b[0m: \u001b[1m\u001b[31mStart Process [Fit] at Sun Dec 15 18:40:44 2024!\u001b[0m\n",
      "\u001b[1m\u001b[37m\u001b[41m24-12-15 18:40:44|MOD:display     |\u001b[0m: \u001b[1m\u001b[31mFinish Process [Fit], Cost 0.0 Secs\u001b[0m\n",
      "\u001b[1m\u001b[37m\u001b[41m24-12-15 18:40:44|MOD:display     |\u001b[0m: \u001b[1m\u001b[31mStart Process [Test] at Sun Dec 15 18:40:44 2024!\u001b[0m\n",
      "\u001b[1m\u001b[37m\u001b[44m24-12-15 18:40:44|MOD:display     |\u001b[0m: \u001b[1m\u001b[34mTesting Mean Score(spearman):\u001b[0m\n",
      "\u001b[1m\u001b[37m\u001b[41m24-12-15 18:40:44|MOD:display     |\u001b[0m: \u001b[1m\u001b[31mFinish Process [Test], Cost 0.0 Secs\u001b[0m\n",
      "\u001b[1m\u001b[37m\u001b[41m24-12-15 18:40:44|MOD:timer       |\u001b[0m: \u001b[1m\u001b[31mMain Process Finished! Cost 3.7 Seconds\u001b[0m\n"
     ]
    },
    {
     "name": "stdout",
     "output_type": "stream",
     "text": [
      "Pre-Norming method of [day] : {'divlast': True, 'histnorm': True}\n",
      "--------------------------------------------------------------------------------\n"
     ]
    }
   ],
   "source": [
    "from src.api import ModelAPI\n",
    "\n",
    "ModelAPI.update_models()"
   ]
  }
 ],
 "metadata": {
  "kernelspec": {
   "display_name": "Python 3",
   "language": "python",
   "name": "python3"
  },
  "language_info": {
   "codemirror_mode": {
    "name": "ipython",
    "version": 3
   },
   "file_extension": ".py",
   "mimetype": "text/x-python",
   "name": "python",
   "nbconvert_exporter": "python",
   "pygments_lexer": "ipython3",
   "version": "3.11.8"
  }
 },
 "nbformat": 4,
 "nbformat_minor": 2
}
