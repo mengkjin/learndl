{
 "cells": [
  {
   "cell_type": "code",
   "execution_count": 3,
   "metadata": {},
   "outputs": [
    {
     "data": {
      "application/vnd.jupyter.widget-view+json": {
       "model_id": "cd66dad24c7e464cb897041b27fdda7f",
       "version_major": 2,
       "version_minor": 0
      },
      "text/plain": [
       "HBox(children=(Button(description='Run Daily Update', style=ButtonStyle()), Textarea(value='This script perfor…"
      ]
     },
     "metadata": {},
     "output_type": "display_data"
    },
    {
     "data": {
      "application/vnd.jupyter.widget-view+json": {
       "model_id": "e276e11663d14b6e862d0dc7526b5abd",
       "version_major": 2,
       "version_minor": 0
      },
      "text/plain": [
       "HBox(children=(Button(description='Run Weekly Update', style=ButtonStyle()), Textarea(value='This script perfo…"
      ]
     },
     "metadata": {},
     "output_type": "display_data"
    },
    {
     "data": {
      "application/vnd.jupyter.widget-view+json": {
       "model_id": "88169af5067f43d38cb09bbd085b7fb9",
       "version_major": 2,
       "version_minor": 0
      },
      "text/plain": [
       "HBox(children=(Button(description='Run Monthly Update', style=ButtonStyle()), Textarea(value='This script perf…"
      ]
     },
     "metadata": {},
     "output_type": "display_data"
    },
    {
     "name": "stdout",
     "output_type": "stream",
     "text": [
      "src.INSTANCE_RECORD can be accessed to check ['trainer', 'account', 'factor']\n",
      "Basic module imported!\n",
      "{'source': 'button', 'email': 1}\n",
      "Script Source: button\n",
      "test autorun\n",
      "not in my server , skip sending email\n",
      "here and there and now\n",
      "src.INSTANCE_RECORD can be accessed to check ['trainer', 'account', 'factor']\n",
      "Basic module imported!\n",
      "{'source': 'button', 'email': 1}\n",
      "Script Source: button\n",
      "test autorun\n",
      "not in my server , skip sending email\n",
      "here and there and now\n"
     ]
    },
    {
     "name": "stderr",
     "output_type": "stream",
     "text": [
      "python: can't open file 'd:\\\\Coding\\\\learndl\\\\learndl\\\\src_runs\\\\autorun\\\\monthly_update.py': [Errno 2] No such file or directory\n"
     ]
    },
    {
     "name": "stdout",
     "output_type": "stream",
     "text": [
      "src.INSTANCE_RECORD can be accessed to check ['trainer', 'account', 'factor']\n",
      "Basic module imported!\n",
      "{'source': 'button', 'email': 1}\n",
      "Script Source: button\n",
      "test autorun\n",
      "not in my server , skip sending email\n",
      "here and there and now\n"
     ]
    },
    {
     "name": "stderr",
     "output_type": "stream",
     "text": [
      "python: can't open file 'd:\\\\Coding\\\\learndl\\\\learndl\\\\src_runs\\\\autorun\\\\monthly_update.py': [Errno 2] No such file or directory\n"
     ]
    }
   ],
   "source": [
    "import ipywidgets as widgets\n",
    "from IPython.display import display\n",
    "from IPython.core.getipython import get_ipython\n",
    "\n",
    "# 定义一个函数来执行脚本\n",
    "def run_script(script):\n",
    "    shell = get_ipython()\n",
    "    if shell is not None:\n",
    "        shell.system(f'python {script} --source button')\n",
    "    else:\n",
    "        print('IPython shell not found')\n",
    "\n",
    "def script_box(period : str , description : str = ''):\n",
    "    def func(b): run_script(f'src_runs/autorun/{period}_update.py')\n",
    "    button = widgets.Button(description=f'Run {period.capitalize()} Update')\n",
    "    button.on_click(func)\n",
    "    text = widgets.Textarea(value=description, description='Information', disabled=True)\n",
    "    return widgets.HBox([button, text])\n",
    "\n",
    "for period in ['daily', 'weekly', 'monthly']:\n",
    "    display(script_box(period , f'This script performs {period} updates.'))\n",
    "\n"
   ]
  }
 ],
 "metadata": {
  "kernelspec": {
   "display_name": "Python 3",
   "language": "python",
   "name": "python3"
  },
  "language_info": {
   "codemirror_mode": {
    "name": "ipython",
    "version": 3
   },
   "file_extension": ".py",
   "mimetype": "text/x-python",
   "name": "python",
   "nbconvert_exporter": "python",
   "pygments_lexer": "ipython3",
   "version": "3.11.8"
  }
 },
 "nbformat": 4,
 "nbformat_minor": 2
}
