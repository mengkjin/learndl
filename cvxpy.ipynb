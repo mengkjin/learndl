{
 "cells": [
  {
   "cell_type": "code",
   "execution_count": 1,
   "metadata": {},
   "outputs": [],
   "source": [
    "from typing import Literal\n",
    "from src.factor.optimizer.util import SolverInput , SolveCond , SolveVars\n",
    "from src.factor.optimizer.util.solver_input import LinearConstraint , BoundConstraint , CovConstraint , TurnConstraint , ShortConstraint\n",
    "from src.factor.basic.var import SYMBOL_STOCK_LB , SYMBOL_STOCK_UB\n",
    "\n",
    "input = SolverInput.rand()\n",
    "\n",
    "\n"
   ]
  },
  {
   "cell_type": "code",
   "execution_count": 2,
   "metadata": {},
   "outputs": [],
   "source": [
    "from src.factor.optimizer.solver import MosekSolver , CvxpySolver"
   ]
  },
  {
   "cell_type": "code",
   "execution_count": 3,
   "metadata": {},
   "outputs": [
    {
     "data": {
      "text/plain": [
       "(array([0.2318499 , 0.54128885, 0.22686125]), True, 'optimal')"
      ]
     },
     "execution_count": 3,
     "metadata": {},
     "output_type": "execute_result"
    }
   ],
   "source": [
    "msolver = MosekSolver(input)\n",
    "msolver.solve()"
   ]
  },
  {
   "cell_type": "code",
   "execution_count": null,
   "metadata": {},
   "outputs": [],
   "source": [
    "class Solver:\n",
    "    def __init__(self , input : SolverInput , \n",
    "                 prob_type : Literal['linprog' , 'quadprog' , 'socp'] = 'socp' ,\n",
    "                 cvxpy_solver : Literal['mosek','ecos','osqp','scs','clarabel'] = 'mosek' , **kwargs):\n",
    "        self.input = input\n",
    "        self.prob_type : Literal['linprog' , 'quadprog' , 'socp'] = prob_type\n",
    "        self.solver_name = cvxpy_solver.upper()\n",
    "\n",
    "    def parse_input(self):\n",
    "        self.alpha    = self.input.alpha\n",
    "        self.w0       = self.input.w0 if self.input.w0 is not None else np.zeros_like(self.alpha)\n",
    "        self.wb       = self.input.wb if self.input.wb is not None else np.zeros_like(self.alpha)\n",
    "\n",
    "        if self.prob_type != 'linprog' and self.input.cov_con and self.input.wb is not None:\n",
    "            self.cov_con   = self.input.cov_con\n",
    "        else:\n",
    "            self.cov_con   = None\n",
    "\n",
    "        if self.input.turn_con and self.input.w0 is not None:\n",
    "            self.turn_con  = self.input.turn_con\n",
    "        else:\n",
    "            self.turn_con  = None\n",
    "\n",
    "        if self.input.short_con:\n",
    "            self.short_con  = self.input.short_con\n",
    "        else:\n",
    "            self.short_con  = None\n",
    "\n",
    "        # variable sequence:\n",
    "        # num_N , num_T (0 or num_N) , num_S (0 or num_N) , num_L (0 or len(self.F)) , num_Q (0 or 2)\n",
    "        num_N = len(self.alpha)\n",
    "        num_T = 0 if not self.conds.turn or not self.turn_con else num_N\n",
    "        num_S = 0 if not self.conds.short or not self.short_con else num_N\n",
    "        if (not self.conds.qobj and not self.conds.qcon) or not self.cov_con or self.cov_con.cov_type != 'model':\n",
    "            num_L = 0\n",
    "        else: num_L = len(self.cov_con.F)\n",
    "\n",
    "        self.num_vars = SolveVars(num_N , num_T , num_S , num_L)\n",
    "        return self\n",
    "\n",
    "    def solve(self , turn = True , qobj = True , qcon = True , short = True):\n",
    "        self.conds = SolveCond(turn , qobj , qcon , short)\n",
    "        self.parse_input()\n",
    "\n",
    "        x = cp.Variable(self.num_vars.N)\n",
    "        objective = -self.input.alpha.T @ x\n",
    "        constraints :list = [\n",
    "            x <= self.input.bnd_con.ub ,\n",
    "            x >= self.input.bnd_con.lb ,\n",
    "        ]\n",
    "\n",
    "        if self.cov_con:\n",
    "            if self.num_vars.L:\n",
    "                l = cp.Variable(self.num_vars.L)\n",
    "                constraints.append(self.cov_con.F @ (x - self.wb) == l)\n",
    "                if self.cov_con.lmbd:\n",
    "                    S_sq = np.sqrt(self.cov_con.S)\n",
    "                    objective = objective + self.cov_con.lmbd / 2.0 * \\\n",
    "                        (cp.sum_squares(cp.multiply(x - self.wb , S_sq)) + cp.quad_form(l , self.cov_con.C) )\n",
    "                if self.cov_con.te:\n",
    "                    constraints.append(cp.sum_squares(cp.multiply(x - self.wb , S_sq)) + \n",
    "                                cp.quad_form(l , self.cov_con.C) <= self.cov_con.te ** 2)\n",
    "            else:\n",
    "                if self.cov_con.lmbd:\n",
    "                    objective = objective + self.cov_con.lmbd / 2.0 * cp.quad_form(x , self.cov_con.cov)\n",
    "                if input.cov_con.te:\n",
    "                    constraints.append(cp.quad_form(x , self.cov_con.cov) <= self.cov_con.te ** 2)\n",
    "        \n",
    "        eq_pos = self.input.lin_con.type == 'fx'\n",
    "        if np.any(eq_pos):\n",
    "            mat = self.input.lin_con.A[eq_pos]\n",
    "            bnd = self.input.lin_con.lb[eq_pos]\n",
    "            constraints.append(mat @ x == bnd)\n",
    "\n",
    "        up_pos = np.isin(self.input.lin_con.type,['ra', 'up'])\n",
    "        lo_pos = np.isin(self.input.lin_con.type,['ra', 'lo'])\n",
    "        if np.any(up_pos) or np.any(lo_pos):\n",
    "            mat = np.vstack((self.input.lin_con.A[up_pos], -self.input.lin_con.A[lo_pos]))\n",
    "            bnd = np.hstack((self.input.lin_con.ub[up_pos], self.input.lin_con.lb[lo_pos]))\n",
    "            constraints.append(mat @ x <= bnd)\n",
    "\n",
    "        if self.turn_con and self.num_vars.T:\n",
    "            t = cp.Variable(self.num_vars.T)\n",
    "            constraints.append(t >= 0)\n",
    "            constraints.append(x - t <= self.w0)\n",
    "            constraints.append(-x - t <= -self.w0)\n",
    "\n",
    "            if self.turn_con.dbl: constraints.append(cp.sum(t) <= self.turn_con.dbl)\n",
    "            if self.turn_con.rho: objective = objective + self.turn_con.rho * cp.sum(t)  \n",
    "\n",
    "        if self.short_con and self.num_vars.S:\n",
    "            s = cp.Variable(self.num_vars.S)\n",
    "            constraints.append(s >= 0)\n",
    "            constraints.append(x - s >= 0)\n",
    "\n",
    "            if self.short_con.pos:  constraints.append(cp.sum(s) <= self.short_con.pos)\n",
    "            if self.short_con.cost: objective = objective + self.short_con.cost * cp.sum(s)  \n",
    "\n",
    "        prob = cp.Problem(cp.Minimize(objective), constraints)\n",
    "        prob.solve(solver = self.solver_name , **_SOLVER_PARAM.get(self.solver_name , {}))\n",
    "        status = prob.status\n",
    "        is_success = (status == 'optimal' or status == 'optimal_inaccurate')\n",
    "        w = x.value\n",
    "        return w, is_success, status"
   ]
  },
  {
   "cell_type": "code",
   "execution_count": 26,
   "metadata": {},
   "outputs": [],
   "source": [
    "import cvxopt\n",
    "\n",
    "from cvxopt import matrix, solvers , sparse , spdiag\n",
    "import numpy as np\n",
    "\n",
    "a = np.eye(10)\n",
    "b = np.random.rand(5,5)\n",
    "c = np.zeros((7,7))\n",
    "d = spdiag([sparse(matrix(a)),sparse(matrix(b)),sparse(matrix(0.,(7,7)))])"
   ]
  },
  {
   "cell_type": "code",
   "execution_count": 29,
   "metadata": {},
   "outputs": [
    {
     "data": {
      "text/plain": [
       "<7x7 sparse matrix, tc='d', nnz=0>"
      ]
     },
     "execution_count": 29,
     "metadata": {},
     "output_type": "execute_result"
    }
   ],
   "source": [
    "sparse(matrix(0.,(7,7)))"
   ]
  },
  {
   "cell_type": "code",
   "execution_count": 6,
   "metadata": {},
   "outputs": [],
   "source": [
    "b = matrix(a)"
   ]
  },
  {
   "cell_type": "code",
   "execution_count": 10,
   "metadata": {},
   "outputs": [
    {
     "data": {
      "text/plain": [
       "<10x10 sparse matrix, tc='d', nnz=10>"
      ]
     },
     "execution_count": 10,
     "metadata": {},
     "output_type": "execute_result"
    }
   ],
   "source": [
    "sparse(matrix(a))"
   ]
  },
  {
   "cell_type": "code",
   "execution_count": 31,
   "metadata": {},
   "outputs": [
    {
     "data": {
      "text/plain": [
       "<5x5 sparse matrix, tc='d', nnz=5>"
      ]
     },
     "execution_count": 31,
     "metadata": {},
     "output_type": "execute_result"
    }
   ],
   "source": [
    "spdiag(matrix(np.random.rand(5)))"
   ]
  },
  {
   "cell_type": "code",
   "execution_count": 37,
   "metadata": {},
   "outputs": [
    {
     "data": {
      "text/plain": [
       "array([[1, 2],\n",
       "       [2, 3]])"
      ]
     },
     "execution_count": 37,
     "metadata": {},
     "output_type": "execute_result"
    }
   ],
   "source": [
    "np.vstack([[1,2,],[2,3]])"
   ]
  },
  {
   "cell_type": "code",
   "execution_count": 32,
   "metadata": {},
   "outputs": [
    {
     "name": "stdout",
     "output_type": "stream",
     "text": [
      "[ 1  2]\n",
      "[ 2  3]\n",
      "\n"
     ]
    }
   ],
   "source": [
    "a = matrix([[1,2,],[2,3]])\n",
    "print(a)"
   ]
  },
  {
   "cell_type": "code",
   "execution_count": 34,
   "metadata": {},
   "outputs": [
    {
     "data": {
      "text/plain": [
       "<2x2 matrix, tc='i'>"
      ]
     },
     "execution_count": 34,
     "metadata": {},
     "output_type": "execute_result"
    }
   ],
   "source": [
    "a.trans()"
   ]
  },
  {
   "cell_type": "code",
   "execution_count": 1,
   "metadata": {},
   "outputs": [],
   "source": [
    "import cvxopt\n",
    "\n",
    "from cvxopt import matrix, solvers , sparse , spdiag\n",
    "import numpy as np\n",
    "\n",
    "import numpy as np\n",
    "\n",
    "from typing import Literal\n",
    "from src.factor.optimizer.util import SolverInput , SolveCond , SolveVars\n",
    "from src.factor.optimizer.util.solver_input import LinearConstraint , BoundConstraint , CovConstraint , TurnConstraint , ShortConstraint\n",
    "from src.factor.basic.var import SYMBOL_STOCK_LB , SYMBOL_STOCK_UB\n",
    "\n",
    "inp = SolverInput.rand()\n",
    "\n",
    "def parse_line_condition(lin_con):\n",
    "    coef_matrix = lin_con[0]\n",
    "    bl_bu_bnd_key, bl, bu = lin_con[1][0], lin_con[1][1], lin_con[1][2]\n",
    "    ineq_bnd_loc = [i for i in range(len(bl_bu_bnd_key)) if bl_bu_bnd_key[i] != \"fx\"]\n",
    "    A = coef_matrix[ineq_bnd_loc, :].copy()\n",
    "    bl_bu_bnds = [bl_bu_bnd_key[ineq_bnd_loc], bl[ineq_bnd_loc], bu[ineq_bnd_loc]]\n",
    "    #\n",
    "    fx_bnd_loc = [i for i in range(len(bl_bu_bnd_key)) if bl_bu_bnd_key[i] == \"fx\"]\n",
    "    G = coef_matrix[fx_bnd_loc, :].copy()\n",
    "    h = bl[fx_bnd_loc]\n",
    "    return A, bl_bu_bnds, G, h\n",
    "\n",
    "def _solve_with_turn_with_brcov(inp : SolverInput , u, cov_info, wb, lin_con, bnd_con, turn_con, te, solver_params):\n",
    "    lmbd, F, C, S = cov_info\n",
    "    w0, to, rho = turn_con\n",
    "    A, bl_bu_bnds, G, h = parse_line_condition(lin_con)\n",
    "        mat = np.vstack((self.input.lin_con.A[up_pos], -self.input.lin_con.A[lo_pos]))\n",
    "        bnd = np.hstack((self.input.lin_con.ub[up_pos], self.input.lin_con.lb[lo_pos]))\n",
    "        constraints.append(mat @ x <= bnd)\n",
    "\n",
    "    #\n",
    "    u_adj, K, A_adj, bl_bu_bnds_adj, G_adj, h_adj, bnd_con_adj = \\\n",
    "        _transform_parameter_with_brcov(u, C, S, F, wb, A, bl_bu_bnds, G, h, bnd_con)\n",
    "    x0 = (w0 - wb) * np.sqrt(S)\n",
    "    ineq_matrix, ineq_bnd, eq_matrix, eq_bnd = combine_lin_bnd_condition(A_adj, bl_bu_bnds_adj, G_adj, h_adj, bnd_con_adj)\n",
    "    #\n",
    "    N = len(inp.alpha)\n",
    "\n",
    "    if inp.cov_con.cov_type == 'model':\n",
    "        L = len(inp.cov_con.F)\n",
    "        P = spdiag(spdiag(matrix(inp.cov_con.S * inp.cov_con.lmbd)) , \n",
    "                   sparse(matrix(0.,(N,N))) ,\n",
    "                   matrix(inp.cov_con.C * inp.cov_con.lmbd))\n",
    "    elif inp.cov_con.cov_type == 'normal':\n",
    "        L = 0\n",
    "        P = spdiag(matrix(inp.cov_con.S * inp.cov_con.lmbd) , sparse(matrix(0.,(N,N))))\n",
    "    else:\n",
    "        L = 0\n",
    "        P = None\n",
    "    q = matrix(np.hstack([-inp.alpha, rho * np.ones(N) , np.zeros(L)]))\n",
    "\n",
    "    cvx_A = np.vstack(\n",
    "        (np.hstack((eq_matrix, np.zeros((eq_matrix.shape[0], N + L)))),\n",
    "         np.hstack((K, np.zeros((L, N)), -np.eye(L)))\n",
    "         ))\n",
    "    cvx_A = transfer_to_spmatrix(cvx_A)\n",
    "    cvx_b = matrix(np.hstack((eq_bnd, np.zeros(L))))\n",
    "    #\n",
    "    cvx_G = np.vstack(\n",
    "        (np.hstack((ineq_matrix, np.zeros((ineq_matrix.shape[0], N + L)))),\n",
    "         np.hstack((np.eye(N), -np.diag(np.sqrt(S)), np.zeros((N, L)))),\n",
    "         np.hstack((-np.eye(N), -np.diag(np.sqrt(S)), np.zeros((N, L)))),\n",
    "         np.hstack((np.zeros((N, N)), -np.eye(N), np.zeros((N, L)))),\n",
    "         np.hstack(([0.0] * N, [1.0] * N, [0.0] * L)).reshape(1, -1),\n",
    "         np.zeros((1, 2 * N + L)),\n",
    "         np.diag(np.array([1.0] * N + [0.0] * N + [1.0] * L))\n",
    "         ))\n",
    "    cvx_G = transfer_to_spmatrix(cvx_G)\n",
    "    cvx_h = matrix(np.hstack((ineq_bnd, x0, -x0, np.zeros(N), [to], [te], np.zeros(2 * N + L))))\n",
    "    dims = {'l': ineq_matrix.shape[0] + N * 3 + 1, 'q': [2 * N + L + 1], 's': []}\n",
    "    #\n",
    "    for key, val in solver_params.items():\n",
    "        solvers.options[key] = val\n",
    "    sol = solvers.coneqp(P=P, q=q, G=cvx_G, h=cvx_h, dims=dims, A=cvx_A, b=cvx_b)\n",
    "    #\n",
    "    status = sol['status']\n",
    "    if status == 'optimal':\n",
    "        is_success = True\n",
    "    else:\n",
    "        is_success = False\n",
    "    x = np.array(sol['x'])[:N, 0]\n",
    "    w = np.array(x) * (1 / np.sqrt(S)) + wb\n",
    "    return w, is_success, status\n",
    "\n",
    "\n",
    "\n",
    "\n",
    "def combine_lin_bnd_condition(A, bl_bu_bnds, G, h, bnd_con):\n",
    "    lb_bu_bnd_key, lb, ub = bnd_con[0], bnd_con[1], bnd_con[2]\n",
    "    bl_bu_bnd_key, bl, bu = bl_bu_bnds[0], bl_bu_bnds[1], bl_bu_bnds[2]\n",
    "    bnd_matrix = np.eye(len(lb))\n",
    "    #\n",
    "    fx_bnd_loc = [i for i in range(len(lb_bu_bnd_key)) if lb_bu_bnd_key[i] == \"fx\"]\n",
    "    if fx_bnd_loc:\n",
    "        eq_matrix = np.vstack((G, bnd_matrix[fx_bnd_loc, :]))\n",
    "        eq_bnd = np.hstack((h, lb[fx_bnd_loc]))\n",
    "    else:\n",
    "        eq_matrix = G.copy()\n",
    "        eq_bnd = h.copy()\n",
    "    #\n",
    "    up_bl_bu_loc = [i for i in range(len(bl_bu_bnd_key)) if bl_bu_bnd_key[i] in ('ra', 'up')]\n",
    "    up_lb_ub_loc = [i for i in range(len(lb_bu_bnd_key)) if lb_bu_bnd_key[i] in ('ra', 'up')]\n",
    "    ineq_matrix = np.vstack((A[up_bl_bu_loc, :], bnd_matrix[up_lb_ub_loc, :]))\n",
    "    ineq_bnd = np.hstack((bu[up_bl_bu_loc], ub[up_lb_ub_loc]))\n",
    "    #\n",
    "    lo_lb_ub_loc = [i for i in range(len(lb_bu_bnd_key)) if lb_bu_bnd_key[i] in (\"ra\", \"lo\")]\n",
    "    lo_bl_bu_loc = [i for i in range(len(bl_bu_bnd_key)) if lb_bu_bnd_key[i] in (\"ra\", \"lo\")]\n",
    "    ineq_matrix = np.vstack((ineq_matrix, -A[lo_bl_bu_loc, :], -bnd_matrix[lo_lb_ub_loc, :]))\n",
    "    ineq_bnd = np.hstack((ineq_bnd, -bl[lo_bl_bu_loc], -lb[lo_lb_ub_loc]))\n",
    "    return ineq_matrix, ineq_bnd, eq_matrix, eq_bnd\n",
    "\n",
    "\n",
    "def transfer_to_spmatrix(x):\n",
    "    x_loc = np.nonzero(x)\n",
    "    rtn = spmatrix(x[x_loc], x_loc[0], x_loc[1], size=x.shape)\n",
    "    return rtn\n",
    "\n",
    "\n",
    "def _transform_parameter_with_brcov(u, C, S, F, wb, A, bl_bu_bnds, G, h, bnd_con):\n",
    "    s_vol = np.sqrt(S)\n",
    "    u_adj = u * (1.0 / s_vol)\n",
    "    V = np.linalg.cholesky(C).T\n",
    "    assert np.allclose(V.T.dot(V), C)\n",
    "    K = V.dot(F) * (1.0 / s_vol)\n",
    "    G_adj = G * (1.0 / s_vol)\n",
    "    A_adj = A * (1.0 / s_vol)\n",
    "    #\n",
    "    h_adj = h - G.dot(wb)\n",
    "    #\n",
    "    bl_bu_bnd_key, bl, bu = bl_bu_bnds[0], bl_bu_bnds[1], bl_bu_bnds[2]\n",
    "    bl_adj = np.array(bl) - A.dot(wb)\n",
    "    bu_adj = bu - A.dot(wb)\n",
    "    bl_bu_bnds_adj = (bl_bu_bnd_key, bl_adj, bu_adj)\n",
    "    #\n",
    "    lb_lu_bnd_key, lb, lu = bnd_con[0], bnd_con[1], bnd_con[2]\n",
    "    lb_adj = (lb - wb) * s_vol\n",
    "    lu_adj = (lu - wb) * s_vol\n",
    "    lb_lu_bnds_adj = (lb_lu_bnd_key, lb_adj, lu_adj)\n",
    "    return u_adj, K, A_adj, bl_bu_bnds_adj, G_adj, h_adj, lb_lu_bnds_adj\n",
    "\n",
    "\n",
    "def _transform_parameter_with_nmcov(cov, wb, A, bl_bu_bnds, G, h, bnd_con):\n",
    "    V = np.linalg.cholesky(cov).T\n",
    "    #\n",
    "    h_adj = h - G.dot(wb)\n",
    "    #\n",
    "    bl_bu_bnd_key, bl, bu = bl_bu_bnds[0], bl_bu_bnds[1], bl_bu_bnds[2]\n",
    "    bl_adj = np.array(bl) - A.dot(wb)\n",
    "    bu_adj = bu - A.dot(wb)\n",
    "    bl_bu_bnds_adj = (bl_bu_bnd_key, bl_adj, bu_adj)\n",
    "    #\n",
    "    lb_lu_bnd_key, lb, lu = bnd_con[0], bnd_con[1], bnd_con[2]\n",
    "    lb_adj = lb - wb\n",
    "    lu_adj = lu - wb\n",
    "    lb_lu_bnds_adj = (lb_lu_bnd_key, lb_adj, lu_adj)\n",
    "    return V, bl_bu_bnds_adj, h_adj, lb_lu_bnds_adj\n",
    "\n",
    "\n"
   ]
  }
 ],
 "metadata": {
  "kernelspec": {
   "display_name": "Python 3",
   "language": "python",
   "name": "python3"
  },
  "language_info": {
   "codemirror_mode": {
    "name": "ipython",
    "version": 3
   },
   "file_extension": ".py",
   "mimetype": "text/x-python",
   "name": "python",
   "nbconvert_exporter": "python",
   "pygments_lexer": "ipython3",
   "version": "3.11.8"
  }
 },
 "nbformat": 4,
 "nbformat_minor": 2
}
