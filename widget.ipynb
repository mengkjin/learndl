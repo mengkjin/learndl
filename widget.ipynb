{
 "cells": [
  {
   "cell_type": "code",
   "execution_count": null,
   "metadata": {},
   "outputs": [
    {
     "name": "stdout",
     "output_type": "stream",
     "text": [
      "Initiating project interface...\n",
      "Project interface initiated successfully.\n"
     ]
    },
    {
     "data": {
      "application/vnd.jupyter.widget-view+json": {
       "model_id": "b7657f0b1b87450f9c22ae1c15a87a54",
       "version_major": 2,
       "version_minor": 0
      },
      "text/plain": [
       "VBox(children=(VBox(children=(HTML(value='<div style=\"color: #007bff;font-size: 18px;font-weight: bold;text-al…"
      ]
     },
     "metadata": {},
     "output_type": "display_data"
    },
    {
     "name": "stdout",
     "output_type": "stream",
     "text": [
      "Script cmd : osascript -e 'tell application \"Terminal\" to do script \"source /Users/mengkjin/workspace/learndl/.venv/bin/activate; python /Users/mengkjin/workspace/learndl/src_runs/3_trading/2_analyze_tradeport.py --email 0 --port_name use_daily; exec bash\"' \n",
      "tab 1 of window id 28048\n"
     ]
    }
   ],
   "source": [
    "%run src_runs/util/ipywidget.py"
   ]
  }
 ],
 "metadata": {
  "kernelspec": {
   "display_name": ".venv",
   "language": "python",
   "name": "python3"
  },
  "language_info": {
   "codemirror_mode": {
    "name": "ipython",
    "version": 3
   },
   "file_extension": ".py",
   "mimetype": "text/x-python",
   "name": "python",
   "nbconvert_exporter": "python",
   "pygments_lexer": "ipython3",
   "version": "3.12.10"
  }
 },
 "nbformat": 4,
 "nbformat_minor": 2
}
