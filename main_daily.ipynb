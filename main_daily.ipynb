{
 "cells": [
  {
   "cell_type": "code",
   "execution_count": 10,
   "metadata": {},
   "outputs": [
    {
     "name": "stdout",
     "output_type": "stream",
     "text": [
      "Update Files\n",
      "Tue Apr  2 11:13:49 2024 : Updated ~ data\\DataBase\\DB_information\\calendar.feather Done! Cost 0.05 Secs\n",
      "Tue Apr  2 11:13:49 2024 : Updated ~ data\\DataBase\\DB_information\\description.feather Done! Cost 0.09 Secs\n",
      "Tue Apr  2 11:13:49 2024 : Updated ~ data\\DataBase\\DB_information\\st.feather Done! Cost 0.03 Secs\n",
      "Tue Apr  2 11:13:51 2024 : Updated ~ data\\DataBase\\DB_information\\industry.feather Done! Cost 2.57 Secs\n",
      "Tue Apr  2 11:13:56 2024 : Updated ~ data\\DataBase\\DB_information\\concepts.feather Done! Cost 4.68 Secs\n"
     ]
    },
    {
     "name": "stderr",
     "output_type": "stream",
     "text": [
      "\u001b[1m\u001b[37m\u001b[41m24-04-02 11:14:10|MOD:PreProcess  |\u001b[0m: \u001b[1m\u001b[31mif_train is False , Data Processing start!\u001b[0m\n",
      "\u001b[1m\u001b[37m\u001b[45m24-04-02 11:14:10|MOD:PreProcess  |\u001b[0m: \u001b[1m\u001b[35m3 datas :['y', 'trade_day', 'trade_30m']\u001b[0m\n"
     ]
    },
    {
     "name": "stdout",
     "output_type": "stream",
     "text": [
      "Tue Apr  2 11:14:10 2024 : All Updates Done! Cost 21.91 Secs\n",
      "Tue Apr  2 11:14:10 2024 : y start ...\n",
      "labels blocks reading ret10_lag DataBase's ...... cost 0.55 secs\n",
      "labels blocks reading ret20_lag DataBase's ...... cost 0.49 secs\n",
      "labels blocks merging ...... cost 0.05 secs\n",
      "models blocks reading risk_exp DataBase's ...... cost 1.93 secs\n",
      "models blocks merging ...... cost 0.19 secs\n",
      "y blocks process ...... cost 2.61 secs\n",
      "y blocks masking ...... cost 0.10 secs\n",
      "y blocks saving  ...... cost 0.13 secs\n",
      "y blocks norming ...... cost 0.00 secs\n",
      "Tue Apr  2 11:14:16 2024 : y finished! Cost 6.05 Seconds\n",
      "Tue Apr  2 11:14:17 2024 : trade_day start ...\n",
      "trade blocks reading day DataBase's ...... cost 1.00 secs\n",
      "trade_day blocks merging ...... cost 0.00 secs\n",
      "trade_day blocks process ...... cost 0.08 secs\n",
      "trade_day blocks masking ...... cost 0.11 secs\n",
      "trade_day blocks saving  ...... cost 0.14 secs\n",
      "trade_day blocks norming ...... cost 0.00 secs\n",
      "Tue Apr  2 11:14:18 2024 : trade_day finished! Cost 1.33 Seconds\n",
      "Tue Apr  2 11:14:18 2024 : trade_30m start ...\n",
      "trade blocks reading 30min DataBase's ...... cost 3.67 secs\n",
      "trade_30m blocks merging ...... cost 0.00 secs\n",
      "trade blocks reading day DataBase's ...... cost 0.69 secs\n",
      "trade_day blocks merging ...... cost 0.02 secs\n",
      "trade_30m blocks process ...... cost 0.96 secs\n",
      "trade_30m blocks masking ...... cost 0.07 secs\n",
      "trade_30m blocks saving  ..."
     ]
    },
    {
     "name": "stderr",
     "output_type": "stream",
     "text": [
      "\u001b[1m\u001b[37m\u001b[41m24-04-02 11:14:25|MOD:PreProcess  |\u001b[0m: \u001b[1m\u001b[31mData Processing Finished! Cost 14.22 Seconds\u001b[0m\n"
     ]
    },
    {
     "name": "stdout",
     "output_type": "stream",
     "text": [
      "... cost 1.03 secs\n",
      "trade_30m blocks norming ...... cost 0.00 secs\n",
      "Tue Apr  2 11:14:24 2024 : trade_30m finished! Cost 6.46 Seconds\n"
     ]
    },
    {
     "name": "stderr",
     "output_type": "stream",
     "text": [
      "\u001b[1m\u001b[37m\u001b[41m24-04-02 11:14:30|MOD:PreProcess  |\u001b[0m: \u001b[1m\u001b[31mif_train is True , Data Processing start!\u001b[0m\n",
      "\u001b[1m\u001b[37m\u001b[45m24-04-02 11:14:30|MOD:PreProcess  |\u001b[0m: \u001b[1m\u001b[35m3 datas :['y', 'trade_day', 'trade_30m']\u001b[0m\n"
     ]
    },
    {
     "name": "stdout",
     "output_type": "stream",
     "text": [
      "Tue Apr  2 11:14:30 2024 : y start ...\n",
      "labels blocks reading ret10_lag DataBase's ...... cost 23.32 secs\n",
      "labels blocks reading ret20_lag DataBase's ...... cost 20.20 secs\n",
      "labels blocks merging ...... cost 2.80 secs\n",
      "models blocks reading risk_exp DataBase's ...... cost 396.61 secs\n",
      "models blocks merging ...... cost 164.44 secs\n",
      "y blocks process ...... cost 164.23 secs\n",
      "y blocks masking ...... cost 1.57 secs\n",
      "y blocks saving  ...... cost 7.37 secs\n",
      "y blocks norming ...... cost 0.00 secs\n",
      "Tue Apr  2 11:27:31 2024 : y finished! Cost 780.74 Seconds\n",
      "Tue Apr  2 11:27:32 2024 : trade_day start ...\n",
      "trade blocks reading day DataBase's ...... cost 34.85 secs\n",
      "trade_day blocks merging ...... cost 0.00 secs\n",
      "trade_day blocks process ...... cost 3.47 secs\n",
      "trade_day blocks masking ...... cost 0.78 secs\n",
      "trade_day blocks saving  ...... cost 5.23 secs\n",
      "trade_day blocks norming ...... cost 41.30 secs\n",
      "Tue Apr  2 11:28:58 2024 : trade_day finished! Cost 85.74 Seconds\n",
      "Tue Apr  2 11:28:58 2024 : trade_30m start ...\n",
      "trade blocks reading 30min DataBase's ...... cost 452.50 secs\n",
      "trade_30m blocks merging ...... cost 0.01 secs\n",
      "trade blocks reading day DataBase's ...... cost 142.23 secs\n",
      "trade_day blocks merging ...... cost 4.73 secs\n",
      "trade_30m blocks process ...... cost 400.80 secs\n",
      "trade_30m blocks masking ...... cost 2.58 secs\n",
      "trade_30m blocks saving  ...... cost 321.06 secs\n"
     ]
    },
    {
     "ename": "MemoryError",
     "evalue": "",
     "output_type": "error",
     "traceback": [
      "\u001b[1;31m---------------------------------------------------------------------------\u001b[0m",
      "\u001b[1;31mMemoryError\u001b[0m                               Traceback (most recent call last)",
      "Cell \u001b[1;32mIn[10], line 5\u001b[0m\n\u001b[0;32m      3\u001b[0m data\u001b[38;5;241m.\u001b[39mDataFetcher\u001b[38;5;241m.\u001b[39mmain()\n\u001b[0;32m      4\u001b[0m data\u001b[38;5;241m.\u001b[39mPreProcess\u001b[38;5;241m.\u001b[39mmain(\u001b[38;5;28;01mFalse\u001b[39;00m)\n\u001b[1;32m----> 5\u001b[0m \u001b[43mdata\u001b[49m\u001b[38;5;241;43m.\u001b[39;49m\u001b[43mPreProcess\u001b[49m\u001b[38;5;241;43m.\u001b[39;49m\u001b[43mmain\u001b[49m\u001b[43m(\u001b[49m\u001b[38;5;28;43;01mTrue\u001b[39;49;00m\u001b[43m)\u001b[49m\n",
      "File \u001b[1;32md:\\Coding\\learndl\\learndl\\src\\data\\PreProcess.py:37\u001b[0m, in \u001b[0;36mmain\u001b[1;34m(if_train, confirm, parser)\u001b[0m\n\u001b[0;32m     34\u001b[0m     ThisBlock \u001b[38;5;241m=\u001b[39m ThisBlock\u001b[38;5;241m.\u001b[39mmask_values(mask \u001b[38;5;241m=\u001b[39m Configs\u001b[38;5;241m.\u001b[39mmask)\n\u001b[0;32m     36\u001b[0m \u001b[38;5;28;01mwith\u001b[39;00m Timer(\u001b[38;5;124mf\u001b[39m\u001b[38;5;124m'\u001b[39m\u001b[38;5;132;01m{\u001b[39;00mkey\u001b[38;5;132;01m}\u001b[39;00m\u001b[38;5;124m blocks saving \u001b[39m\u001b[38;5;124m'\u001b[39m):\n\u001b[1;32m---> 37\u001b[0m     \u001b[43mThisBlock\u001b[49m\u001b[38;5;241;43m.\u001b[39;49m\u001b[43msave\u001b[49m\u001b[43m(\u001b[49m\u001b[43mkey\u001b[49m\u001b[43m \u001b[49m\u001b[43m,\u001b[49m\u001b[43m \u001b[49m\u001b[43mif_train\u001b[49m\u001b[43m \u001b[49m\u001b[43m,\u001b[49m\u001b[43m \u001b[49m\u001b[43mConfigs\u001b[49m\u001b[38;5;241;43m.\u001b[39;49m\u001b[43msave_start_dt\u001b[49m\u001b[43m \u001b[49m\u001b[43m,\u001b[49m\u001b[43m \u001b[49m\u001b[43mConfigs\u001b[49m\u001b[38;5;241;43m.\u001b[39;49m\u001b[43msave_end_dt\u001b[49m\u001b[43m)\u001b[49m\n\u001b[0;32m     39\u001b[0m \u001b[38;5;28;01mwith\u001b[39;00m Timer(\u001b[38;5;124mf\u001b[39m\u001b[38;5;124m'\u001b[39m\u001b[38;5;132;01m{\u001b[39;00mkey\u001b[38;5;132;01m}\u001b[39;00m\u001b[38;5;124m blocks norming\u001b[39m\u001b[38;5;124m'\u001b[39m):\n\u001b[0;32m     40\u001b[0m     ThisBlock\u001b[38;5;241m.\u001b[39mhist_norm(key , if_train , Configs\u001b[38;5;241m.\u001b[39mhist_start_dt , Configs\u001b[38;5;241m.\u001b[39mhist_end_dt)\n",
      "File \u001b[1;32md:\\Coding\\learndl\\learndl\\src\\data\\BlockData.py:136\u001b[0m, in \u001b[0;36mDataBlock.save\u001b[1;34m(self, key, if_train, start_dt, end_dt)\u001b[0m\n\u001b[0;32m    131\u001b[0m \u001b[38;5;28;01mif\u001b[39;00m end_dt   \u001b[38;5;129;01mis\u001b[39;00m \u001b[38;5;129;01mnot\u001b[39;00m \u001b[38;5;28;01mNone\u001b[39;00m: date_slice[\u001b[38;5;28mself\u001b[39m\u001b[38;5;241m.\u001b[39mdate \u001b[38;5;241m>\u001b[39m end_dt]   \u001b[38;5;241m=\u001b[39m \u001b[38;5;28;01mFalse\u001b[39;00m\n\u001b[0;32m    132\u001b[0m data \u001b[38;5;241m=\u001b[39m {\u001b[38;5;124m'\u001b[39m\u001b[38;5;124mvalues\u001b[39m\u001b[38;5;124m'\u001b[39m  : \u001b[38;5;28mself\u001b[39m\u001b[38;5;241m.\u001b[39mvalues[:,date_slice] , \n\u001b[0;32m    133\u001b[0m         \u001b[38;5;124m'\u001b[39m\u001b[38;5;124mdate\u001b[39m\u001b[38;5;124m'\u001b[39m    : \u001b[38;5;28mself\u001b[39m\u001b[38;5;241m.\u001b[39mdate[date_slice]\u001b[38;5;241m.\u001b[39mastype(\u001b[38;5;28mint\u001b[39m) ,\n\u001b[0;32m    134\u001b[0m         \u001b[38;5;124m'\u001b[39m\u001b[38;5;124msecid\u001b[39m\u001b[38;5;124m'\u001b[39m   : \u001b[38;5;28mself\u001b[39m\u001b[38;5;241m.\u001b[39msecid\u001b[38;5;241m.\u001b[39mastype(\u001b[38;5;28mint\u001b[39m) , \n\u001b[0;32m    135\u001b[0m         \u001b[38;5;124m'\u001b[39m\u001b[38;5;124mfeature\u001b[39m\u001b[38;5;124m'\u001b[39m : \u001b[38;5;28mself\u001b[39m\u001b[38;5;241m.\u001b[39mfeature}\n\u001b[1;32m--> 136\u001b[0m \u001b[38;5;28;43mself\u001b[39;49m\u001b[38;5;241;43m.\u001b[39;49m\u001b[43msave_dict\u001b[49m\u001b[43m(\u001b[49m\u001b[43mdata\u001b[49m\u001b[43m \u001b[49m\u001b[43m,\u001b[49m\u001b[43m \u001b[49m\u001b[43mpath\u001b[49m\u001b[43m)\u001b[49m\n",
      "File \u001b[1;32md:\\Coding\\learndl\\learndl\\src\\data\\BlockData.py:155\u001b[0m, in \u001b[0;36mDataBlock.save_dict\u001b[1;34m(data, file_path)\u001b[0m\n\u001b[0;32m    153\u001b[0m     np\u001b[38;5;241m.\u001b[39msavez_compressed(file_path , \u001b[38;5;241m*\u001b[39m\u001b[38;5;241m*\u001b[39mdata)\n\u001b[0;32m    154\u001b[0m \u001b[38;5;28;01melif\u001b[39;00m file_path\u001b[38;5;241m.\u001b[39mendswith((\u001b[38;5;124m'\u001b[39m\u001b[38;5;124m.pt\u001b[39m\u001b[38;5;124m'\u001b[39m , \u001b[38;5;124m'\u001b[39m\u001b[38;5;124m.pth\u001b[39m\u001b[38;5;124m'\u001b[39m)):\n\u001b[1;32m--> 155\u001b[0m     \u001b[43mtorch\u001b[49m\u001b[38;5;241;43m.\u001b[39;49m\u001b[43msave\u001b[49m\u001b[43m(\u001b[49m\u001b[43mdata\u001b[49m\u001b[43m \u001b[49m\u001b[43m,\u001b[49m\u001b[43m \u001b[49m\u001b[43mfile_path\u001b[49m\u001b[43m \u001b[49m\u001b[43m,\u001b[49m\u001b[43m \u001b[49m\u001b[43mpickle_protocol\u001b[49m\u001b[43m \u001b[49m\u001b[38;5;241;43m=\u001b[39;49m\u001b[43m \u001b[49m\u001b[38;5;241;43m4\u001b[39;49m\u001b[43m)\u001b[49m\n\u001b[0;32m    156\u001b[0m \u001b[38;5;28;01melse\u001b[39;00m:\n\u001b[0;32m    157\u001b[0m     \u001b[38;5;28;01mraise\u001b[39;00m \u001b[38;5;167;01mException\u001b[39;00m(file_path)\n",
      "File \u001b[1;32mc:\\Users\\jinmeng\\AppData\\Local\\Programs\\Python\\Python311\\Lib\\site-packages\\torch\\serialization.py:619\u001b[0m, in \u001b[0;36msave\u001b[1;34m(obj, f, pickle_module, pickle_protocol, _use_new_zipfile_serialization, _disable_byteorder_record)\u001b[0m\n\u001b[0;32m    617\u001b[0m \u001b[38;5;28;01mif\u001b[39;00m _use_new_zipfile_serialization:\n\u001b[0;32m    618\u001b[0m     \u001b[38;5;28;01mwith\u001b[39;00m _open_zipfile_writer(f) \u001b[38;5;28;01mas\u001b[39;00m opened_zipfile:\n\u001b[1;32m--> 619\u001b[0m         \u001b[43m_save\u001b[49m\u001b[43m(\u001b[49m\u001b[43mobj\u001b[49m\u001b[43m,\u001b[49m\u001b[43m \u001b[49m\u001b[43mopened_zipfile\u001b[49m\u001b[43m,\u001b[49m\u001b[43m \u001b[49m\u001b[43mpickle_module\u001b[49m\u001b[43m,\u001b[49m\u001b[43m \u001b[49m\u001b[43mpickle_protocol\u001b[49m\u001b[43m,\u001b[49m\u001b[43m \u001b[49m\u001b[43m_disable_byteorder_record\u001b[49m\u001b[43m)\u001b[49m\n\u001b[0;32m    620\u001b[0m         \u001b[38;5;28;01mreturn\u001b[39;00m\n\u001b[0;32m    621\u001b[0m \u001b[38;5;28;01melse\u001b[39;00m:\n",
      "File \u001b[1;32mc:\\Users\\jinmeng\\AppData\\Local\\Programs\\Python\\Python311\\Lib\\site-packages\\torch\\serialization.py:831\u001b[0m, in \u001b[0;36m_save\u001b[1;34m(obj, zip_file, pickle_module, pickle_protocol, _disable_byteorder_record)\u001b[0m\n\u001b[0;32m    829\u001b[0m pickler \u001b[38;5;241m=\u001b[39m pickle_module\u001b[38;5;241m.\u001b[39mPickler(data_buf, protocol\u001b[38;5;241m=\u001b[39mpickle_protocol)\n\u001b[0;32m    830\u001b[0m pickler\u001b[38;5;241m.\u001b[39mpersistent_id \u001b[38;5;241m=\u001b[39m persistent_id\n\u001b[1;32m--> 831\u001b[0m pickler\u001b[38;5;241m.\u001b[39mdump(obj)\n\u001b[0;32m    832\u001b[0m data_value \u001b[38;5;241m=\u001b[39m data_buf\u001b[38;5;241m.\u001b[39mgetvalue()\n\u001b[0;32m    833\u001b[0m zip_file\u001b[38;5;241m.\u001b[39mwrite_record(\u001b[38;5;124m'\u001b[39m\u001b[38;5;124mdata.pkl\u001b[39m\u001b[38;5;124m'\u001b[39m, data_value, \u001b[38;5;28mlen\u001b[39m(data_value))\n",
      "\u001b[1;31mMemoryError\u001b[0m: "
     ]
    }
   ],
   "source": [
    "import src.data as data\n",
    "\n",
    "data.DataFetcher.main()\n",
    "data.PreProcess.main(False)\n",
    "\n",
    "from run_model import ModelPred\n",
    "\n",
    "model_preds = [\n",
    "    ModelPred('gru_day' , 'swalast' , 0 , 'gru_day_V0')\n",
    "]\n",
    "[md.get_df().deploy() for md in model_preds]"
   ]
  }
 ],
 "metadata": {
  "kernelspec": {
   "display_name": "Python 3",
   "language": "python",
   "name": "python3"
  },
  "language_info": {
   "codemirror_mode": {
    "name": "ipython",
    "version": 3
   },
   "file_extension": ".py",
   "mimetype": "text/x-python",
   "name": "python",
   "nbconvert_exporter": "python",
   "pygments_lexer": "ipython3",
   "version": "3.11.8"
  }
 },
 "nbformat": 4,
 "nbformat_minor": 2
}
