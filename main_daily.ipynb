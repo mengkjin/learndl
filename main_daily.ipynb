{
 "cells": [
  {
   "cell_type": "code",
   "execution_count": 1,
   "metadata": {},
   "outputs": [
    {
     "name": "stdout",
     "output_type": "stream",
     "text": [
      "Update Files\n",
      "Sat May 25 10:19:10 2024 : Updated ~ data\\DataBase\\DB_information\\calendar.feather Done! Cost 0.05 Secs\n",
      "Sat May 25 10:19:10 2024 : Updated ~ data\\DataBase\\DB_information\\description.feather Done! Cost 0.04 Secs\n",
      "Sat May 25 10:19:10 2024 : Updated ~ data\\DataBase\\DB_information\\st.feather Done! Cost 0.02 Secs\n",
      "Sat May 25 10:19:13 2024 : Updated ~ data\\DataBase\\DB_information\\industry.feather Done! Cost 3.16 Secs\n",
      "Sat May 25 10:19:18 2024 : Updated ~ data\\DataBase\\DB_information\\concepts.feather Done! Cost 5.15 Secs\n",
      "Sat May 25 10:19:19 2024 : Updated ~ data\\DataBase\\DB_models\\longcl_exp\\2024\\longcl_exp.20240523.feather Done! Cost 0.09 Secs\n",
      "Sat May 25 10:19:19 2024 : Updated ~ data\\DataBase\\DB_models\\risk_exp\\2024\\risk_exp.20240524.feather Done! Cost 0.05 Secs\n",
      "Sat May 25 10:19:21 2024 : Updated ~ data\\DataBase\\DB_trade\\day\\2024\\day.20240524.feather Done! Cost 0.05 Secs\n",
      "Sat May 25 10:19:21 2024 : Updated ~ data\\DataBase\\DB_trade\\5day\\2024\\5day.20240524.feather Done! Cost 0.25 Secs\n",
      "Sat May 25 10:19:22 2024 : Updated ~ data\\DataBase\\DB_trade\\10day\\2024\\10day.20240524.feather Done! Cost 0.44 Secs\n",
      "Sat May 25 10:19:23 2024 : Updated ~ data\\DataBase\\DB_trade\\20day\\2024\\20day.20240524.feather Done! Cost 1.00 Secs\n",
      "Sat May 25 10:19:26 2024 : Updated ~ data\\DataBase\\DB_trade\\min\\2024\\min.20240524.feather Done! Cost 3.59 Secs\n",
      "Sat May 25 10:19:27 2024 : Updated ~ data\\DataBase\\DB_trade\\5min\\2024\\5min.20240524.feather Done! Cost 0.37 Secs\n",
      "Sat May 25 10:19:27 2024 : Updated ~ data\\DataBase\\DB_trade\\10min\\2024\\10min.20240524.feather Done! Cost 0.30 Secs\n",
      "Sat May 25 10:19:27 2024 : Updated ~ data\\DataBase\\DB_trade\\15min\\2024\\15min.20240524.feather Done! Cost 0.35 Secs\n",
      "Sat May 25 10:19:28 2024 : Updated ~ data\\DataBase\\DB_trade\\30min\\2024\\30min.20240524.feather Done! Cost 0.34 Secs\n",
      "Sat May 25 10:19:28 2024 : Updated ~ data\\DataBase\\DB_trade\\60min\\2024\\60min.20240524.feather Done! Cost 0.24 Secs\n",
      "Sat May 25 10:19:30 2024 : Updated ~ data\\DataBase\\DB_labels\\ret20_lag\\2024\\ret20_lag.20240422.feather Done! Cost 0.50 Secs\n",
      "Sat May 25 10:19:31 2024 : Updated ~ data\\DataBase\\DB_labels\\ret20\\2024\\ret20.20240423.feather Done! Cost 0.30 Secs\n",
      "Sat May 25 10:19:33 2024 : Updated ~ data\\DataBase\\DB_labels\\ret10_lag\\2024\\ret10_lag.20240509.feather Done! Cost 0.28 Secs\n",
      "Sat May 25 10:19:34 2024 : Updated ~ data\\DataBase\\DB_labels\\ret10\\2024\\ret10.20240510.feather Done! Cost 0.27 Secs\n",
      "Sat May 25 10:19:37 2024 : Updated ~ data\\DataBase\\DB_labels\\ret5_lag\\2024\\ret5_lag.20240516.feather Done! Cost 0.19 Secs\n",
      "Sat May 25 10:19:37 2024 : Updated ~ data\\DataBase\\DB_labels\\ret5\\2024\\ret5.20240517.feather Done! Cost 0.31 Secs\n",
      "Sat May 25 10:19:41 2024 : download since!\n",
      "Connection and Factor preparation finished!\n",
      "Sat May 25 10:19:41 2024 : sellside/haitong.hf_factors from 20240524 to 20240525, total 1 periods\n",
      "Start sellside/haitong.hf_factors:20240524-20240525 \n",
      "Done sellside/haitong.hf_factors:20240524-20240525, cost 7.7 Secs\n",
      "Sat May 25 10:19:49 2024 : sellside/haitong.dl_factors from 20240524 to 20240525, total 1 periods\n",
      "Start sellside/haitong.dl_factors:20240524-20240525 \n",
      "Done sellside/haitong.dl_factors:20240524-20240525, cost 92.8 Secs\n",
      "Sat May 25 10:21:22 2024 : sellside/dongfang.hfq_chars from 20240524 to 20240525, total 1 periods\n",
      "Start sellside/dongfang.hfq_chars:20240524-20240525 \n",
      "Done sellside/dongfang.hfq_chars:20240524-20240525, cost 8.6 Secs\n",
      "Sat May 25 10:21:31 2024 : sellside/dongfang.l2_chars from 20240524 to 20240525, total 1 periods\n",
      "Start sellside/dongfang.l2_chars:20240524-20240525 \n",
      "Done sellside/dongfang.l2_chars:20240524-20240525, cost 38.4 Secs\n",
      "Sat May 25 10:22:09 2024 : sellside/dongfang.ms_chars from 20240524 to 20240525, total 1 periods\n",
      "Start sellside/dongfang.ms_chars:20240524-20240525 \n",
      "Done sellside/dongfang.ms_chars:20240524-20240525, cost 62.7 Secs\n",
      "Sat May 25 10:23:12 2024 : sellside/dongfang.order_flow from 20240524 to 20240525, total 1 periods\n",
      "Start sellside/dongfang.order_flow:20240524-20240525 \n",
      "Done sellside/dongfang.order_flow:20240524-20240525, cost 3.3 Secs\n",
      "Sat May 25 10:23:15 2024 : sellside/dongfang.gp from 20240523 to 20240525, total 1 periods\n",
      "Start sellside/dongfang.gp:20240523-20240525 \n",
      "Done sellside/dongfang.gp:20240523-20240525, cost 2.9 Secs\n",
      "Sat May 25 10:23:18 2024 : sellside/dongfang.tra from 20240523 to 20240525, total 1 periods\n",
      "Start sellside/dongfang.tra:20240523-20240525 \n",
      "Done sellside/dongfang.tra:20240523-20240525, cost 1.9 Secs\n",
      "Sat May 25 10:23:20 2024 : sellside/dongfang.hist from 20240523 to 20240525, total 1 periods\n",
      "Start sellside/dongfang.hist:20240523-20240525 \n",
      "Done sellside/dongfang.hist:20240523-20240525, cost 6.0 Secs\n",
      "Sat May 25 10:23:26 2024 : sellside/dongfang.scores_v0 from 20240524 to 20240525, total 1 periods\n",
      "Start sellside/dongfang.scores_v0:20240524-20240525 \n",
      "Done sellside/dongfang.scores_v0:20240524-20240525, cost 1.8 Secs\n",
      "Sat May 25 10:23:28 2024 : sellside/dongfang.factorvae from 20240523 to 20240525, total 1 periods\n",
      "Start sellside/dongfang.factorvae:20240523-20240525 \n",
      "Done sellside/dongfang.factorvae:20240523-20240525, cost 1.6 Secs\n",
      "Sat May 25 10:23:30 2024 : sellside/kaiyuan.positive from 20240501 to 20240525, total 1 periods\n",
      "Start sellside/kaiyuan.positive:20240501-20240525 \n",
      "Done sellside/kaiyuan.positive:20240501-20240525, cost 3.2 Secs\n",
      "Sat May 25 10:23:33 2024 : sellside/kaiyuan.negative from 20240501 to 20240525, total 1 periods\n",
      "Start sellside/kaiyuan.negative:20240501-20240525 \n",
      "Done sellside/kaiyuan.negative:20240501-20240525, cost 1.8 Secs\n",
      "Sat May 25 10:23:35 2024 : sellside/huatai.dl_factors from 20240524 to 20240525, total 1 periods\n",
      "Start sellside/huatai.dl_factors:20240524-20240525 \n",
      "Done sellside/huatai.dl_factors:20240524-20240525, cost 2.2 Secs\n",
      "Sat May 25 10:23:37 2024 : All Updates Done! Cost 267.16 Secs\n",
      "predict is True , Data Processing start!\n",
      "4 datas :['y', 'day', '30m', 'risk']\n",
      "y blocks loading start!\n",
      " --> labels blocks reading [ret10_lag] DataBase...... finished! Cost 0.94 secs\n",
      " --> labels blocks reading [ret20_lag] DataBase...... finished! Cost 0.85 secs\n",
      " --> labels blocks merging (2)...... finished! Cost 0.09 secs\n",
      " --> models blocks reading [risk_exp] DataBase...... finished! Cost 3.31 secs\n",
      "y blocks loading finished! Cost 5.57 secs\n",
      "y blocks process...... finished! Cost 4.30 secs\n",
      "y blocks masking...... finished! Cost 0.09 secs\n",
      "y blocks saving ...... finished! Cost 0.13 secs\n",
      "y blocks norming...... finished! Cost 0.00 secs\n",
      "y finished! Cost 10.40 Seconds\n",
      "--------------------------------------------------------------------------------\n",
      "day blocks loading start!\n",
      " --> trade blocks reading [day] DataBase...... finished! Cost 1.51 secs\n",
      "day blocks loading finished! Cost 1.53 secs\n",
      "day blocks process...... finished! Cost 0.15 secs\n",
      "day blocks masking...... finished! Cost 0.08 secs\n",
      "day blocks saving ...... finished! Cost 0.12 secs\n",
      "day blocks norming...... finished! Cost 0.00 secs\n",
      "day finished! Cost 2.02 Seconds\n",
      "--------------------------------------------------------------------------------\n",
      "30m blocks loading start!\n",
      " --> trade blocks reading [30min] DataBase...... finished! Cost 6.04 secs\n",
      " --> trade blocks reading [day] DataBase...... finished! Cost 0.99 secs\n",
      "30m blocks loading finished! Cost 7.08 secs\n",
      "30m blocks process...... finished! Cost 1.56 secs\n",
      "30m blocks masking...... finished! Cost 0.16 secs\n",
      "30m blocks saving ...... finished! Cost 1.84 secs\n",
      "30m blocks norming...... finished! Cost 0.00 secs\n",
      "30m finished! Cost 10.74 Seconds\n",
      "--------------------------------------------------------------------------------\n",
      "risk blocks loading start!\n",
      " --> models blocks reading [risk_exp] DataBase...... finished! Cost 1.38 secs\n",
      "risk blocks loading finished! Cost 1.42 secs\n",
      "risk blocks process...... finished! Cost 0.00 secs\n",
      "risk blocks masking...... finished! Cost 0.08 secs\n",
      "risk blocks saving ...... finished! Cost 0.20 secs\n",
      "risk blocks norming...... finished! Cost 0.00 secs\n",
      "risk finished! Cost 1.78 Seconds\n",
      "--------------------------------------------------------------------------------\n",
      "Data Processing Finished! Cost 24.94 Seconds\n",
      "Load  2 DataBlocks...... finished! Cost 0.06 secs\n",
      "Align 2 DataBlocks...... finished! Cost 0.16 secs\n",
      "Pre-Norming method of [day] : {'divlast': True, 'histnorm': True}\n",
      "20231201 new\n"
     ]
    },
    {
     "ename": "TypeError",
     "evalue": "gru.__init__() missing 1 required positional argument: 'input_dim'",
     "output_type": "error",
     "traceback": [
      "\u001b[1;31m---------------------------------------------------------------------------\u001b[0m",
      "\u001b[1;31mTypeError\u001b[0m                                 Traceback (most recent call last)",
      "Cell \u001b[1;32mIn[1], line 5\u001b[0m\n\u001b[0;32m      3\u001b[0m API\u001b[38;5;241m.\u001b[39mDataAPI\u001b[38;5;241m.\u001b[39mupdate()\n\u001b[0;32m      4\u001b[0m API\u001b[38;5;241m.\u001b[39mDataAPI\u001b[38;5;241m.\u001b[39mprepare_train_data()\n\u001b[1;32m----> 5\u001b[0m \u001b[43mAPI\u001b[49m\u001b[38;5;241;43m.\u001b[39;49m\u001b[43mPredictor\u001b[49m\u001b[38;5;241;43m.\u001b[39;49m\u001b[43mupdate_factors\u001b[49m\u001b[43m(\u001b[49m\u001b[43m)\u001b[49m\n",
      "File \u001b[1;32md:\\Coding\\learndl\\learndl\\src\\API\\predictor.py:39\u001b[0m, in \u001b[0;36mPredictor.update_factors\u001b[1;34m(cls)\u001b[0m\n\u001b[0;32m     32\u001b[0m \u001b[38;5;129m@classmethod\u001b[39m\n\u001b[0;32m     33\u001b[0m \u001b[38;5;28;01mdef\u001b[39;00m \u001b[38;5;21mupdate_factors\u001b[39m(\u001b[38;5;28mcls\u001b[39m):\n\u001b[0;32m     34\u001b[0m \u001b[38;5;250m    \u001b[39m\u001b[38;5;124;03m'''Update pre-registered factors to '//hfm-pubshare/HFM各部门共享/量化投资部/龙昌伦/Alpha' '''\u001b[39;00m\n\u001b[0;32m     35\u001b[0m     model_preds \u001b[38;5;241m=\u001b[39m [\n\u001b[0;32m     36\u001b[0m         \u001b[38;5;28mcls\u001b[39m(\u001b[38;5;124m'\u001b[39m\u001b[38;5;124mgru_day\u001b[39m\u001b[38;5;124m'\u001b[39m    , \u001b[38;5;124m'\u001b[39m\u001b[38;5;124mswalast\u001b[39m\u001b[38;5;124m'\u001b[39m , \u001b[38;5;241m0\u001b[39m , \u001b[38;5;124m'\u001b[39m\u001b[38;5;124mgru_day_V0\u001b[39m\u001b[38;5;124m'\u001b[39m) ,\n\u001b[0;32m     37\u001b[0m         \u001b[38;5;28mcls\u001b[39m(\u001b[38;5;124m'\u001b[39m\u001b[38;5;124mgruRTN_day\u001b[39m\u001b[38;5;124m'\u001b[39m , \u001b[38;5;124m'\u001b[39m\u001b[38;5;124mswalast\u001b[39m\u001b[38;5;124m'\u001b[39m , \u001b[38;5;241m0\u001b[39m , \u001b[38;5;124m'\u001b[39m\u001b[38;5;124mgruRTN_day_V0\u001b[39m\u001b[38;5;124m'\u001b[39m) ,\n\u001b[0;32m     38\u001b[0m         \u001b[38;5;28mcls\u001b[39m(\u001b[38;5;124m'\u001b[39m\u001b[38;5;124mgruRES_day\u001b[39m\u001b[38;5;124m'\u001b[39m , \u001b[38;5;124m'\u001b[39m\u001b[38;5;124mswalast\u001b[39m\u001b[38;5;124m'\u001b[39m , \u001b[38;5;241m0\u001b[39m , \u001b[38;5;124m'\u001b[39m\u001b[38;5;124mgruRES_day_V0\u001b[39m\u001b[38;5;124m'\u001b[39m) ,\n\u001b[1;32m---> 39\u001b[0m     ]\n\u001b[0;32m     40\u001b[0m     [md\u001b[38;5;241m.\u001b[39mget_df()\u001b[38;5;241m.\u001b[39mdeploy() \u001b[38;5;28;01mfor\u001b[39;00m md \u001b[38;5;129;01min\u001b[39;00m model_preds]\n",
      "File \u001b[1;32md:\\Coding\\learndl\\learndl\\src\\API\\predictor.py:39\u001b[0m, in \u001b[0;36m<listcomp>\u001b[1;34m(.0)\u001b[0m\n\u001b[0;32m     32\u001b[0m \u001b[38;5;129m@classmethod\u001b[39m\n\u001b[0;32m     33\u001b[0m \u001b[38;5;28;01mdef\u001b[39;00m \u001b[38;5;21mupdate_factors\u001b[39m(\u001b[38;5;28mcls\u001b[39m):\n\u001b[0;32m     34\u001b[0m \u001b[38;5;250m    \u001b[39m\u001b[38;5;124;03m'''Update pre-registered factors to '//hfm-pubshare/HFM各部门共享/量化投资部/龙昌伦/Alpha' '''\u001b[39;00m\n\u001b[0;32m     35\u001b[0m     model_preds \u001b[38;5;241m=\u001b[39m [\n\u001b[0;32m     36\u001b[0m         \u001b[38;5;28mcls\u001b[39m(\u001b[38;5;124m'\u001b[39m\u001b[38;5;124mgru_day\u001b[39m\u001b[38;5;124m'\u001b[39m    , \u001b[38;5;124m'\u001b[39m\u001b[38;5;124mswalast\u001b[39m\u001b[38;5;124m'\u001b[39m , \u001b[38;5;241m0\u001b[39m , \u001b[38;5;124m'\u001b[39m\u001b[38;5;124mgru_day_V0\u001b[39m\u001b[38;5;124m'\u001b[39m) ,\n\u001b[0;32m     37\u001b[0m         \u001b[38;5;28mcls\u001b[39m(\u001b[38;5;124m'\u001b[39m\u001b[38;5;124mgruRTN_day\u001b[39m\u001b[38;5;124m'\u001b[39m , \u001b[38;5;124m'\u001b[39m\u001b[38;5;124mswalast\u001b[39m\u001b[38;5;124m'\u001b[39m , \u001b[38;5;241m0\u001b[39m , \u001b[38;5;124m'\u001b[39m\u001b[38;5;124mgruRTN_day_V0\u001b[39m\u001b[38;5;124m'\u001b[39m) ,\n\u001b[0;32m     38\u001b[0m         \u001b[38;5;28mcls\u001b[39m(\u001b[38;5;124m'\u001b[39m\u001b[38;5;124mgruRES_day\u001b[39m\u001b[38;5;124m'\u001b[39m , \u001b[38;5;124m'\u001b[39m\u001b[38;5;124mswalast\u001b[39m\u001b[38;5;124m'\u001b[39m , \u001b[38;5;241m0\u001b[39m , \u001b[38;5;124m'\u001b[39m\u001b[38;5;124mgruRES_day_V0\u001b[39m\u001b[38;5;124m'\u001b[39m) ,\n\u001b[1;32m---> 39\u001b[0m     ]\n\u001b[0;32m     40\u001b[0m     [md\u001b[38;5;241m.\u001b[39mget_df()\u001b[38;5;241m.\u001b[39mdeploy() \u001b[38;5;28;01mfor\u001b[39;00m md \u001b[38;5;129;01min\u001b[39;00m model_preds]\n",
      "File \u001b[1;32md:\\Coding\\learndl\\learndl\\src\\API\\predictor.py:53\u001b[0m, in \u001b[0;36mget_df\u001b[1;34m(self, start_dt, end_dt)\u001b[0m\n\u001b[0;32m     52\u001b[0m \u001b[38;5;28;01mdef\u001b[39;00m \u001b[38;5;21mget_df\u001b[39m(\u001b[38;5;28mself\u001b[39m , start_dt \u001b[38;5;241m=\u001b[39m \u001b[38;5;241m-\u001b[39m\u001b[38;5;241m10\u001b[39m , end_dt \u001b[38;5;241m=\u001b[39m \u001b[38;5;241m20991231\u001b[39m):\n\u001b[1;32m---> 53\u001b[0m \u001b[38;5;250m    \u001b[39m\u001b[38;5;124;03m'''save recent prediction to self.df'''\u001b[39;00m\n\u001b[0;32m     54\u001b[0m     \u001b[38;5;28mself\u001b[39m\u001b[38;5;241m.\u001b[39mdf \u001b[38;5;241m=\u001b[39m \u001b[38;5;28mself\u001b[39m\u001b[38;5;241m.\u001b[39mpredict(start_dt\u001b[38;5;241m=\u001b[39m start_dt , end_dt \u001b[38;5;241m=\u001b[39m end_dt)\n\u001b[0;32m     55\u001b[0m     \u001b[38;5;28;01mreturn\u001b[39;00m \u001b[38;5;28mself\u001b[39m\n",
      "File \u001b[1;32md:\\Coding\\learndl\\learndl\\src\\API\\predictor.py:99\u001b[0m, in \u001b[0;36mpredict\u001b[1;34m(self, start_dt, end_dt)\u001b[0m\n\u001b[0;32m      0\u001b[0m <Error retrieving source code with stack_data see ipython/ipython#13598>\n",
      "File \u001b[1;32md:\\Coding\\learndl\\learndl\\src\\util\\model\\manager.py:41\u001b[0m, in \u001b[0;36mModelManager.get_net\u001b[1;34m(cls, model_module, model_param, state_dict, device)\u001b[0m\n\u001b[0;32m     39\u001b[0m \u001b[38;5;129m@classmethod\u001b[39m\n\u001b[0;32m     40\u001b[0m \u001b[38;5;28;01mdef\u001b[39;00m \u001b[38;5;21mget_net\u001b[39m(\u001b[38;5;28mcls\u001b[39m , model_module : \u001b[38;5;28mstr\u001b[39m , model_param \u001b[38;5;241m=\u001b[39m {} , state_dict : Optional[\u001b[38;5;28mdict\u001b[39m[\u001b[38;5;28mstr\u001b[39m,Tensor]] \u001b[38;5;241m=\u001b[39m {} , device : Any \u001b[38;5;241m=\u001b[39m \u001b[38;5;28;01mNone\u001b[39;00m):\n\u001b[1;32m---> 41\u001b[0m     net \u001b[38;5;241m=\u001b[39m \u001b[38;5;28;43mgetattr\u001b[39;49m\u001b[43m(\u001b[49m\u001b[43mNN\u001b[49m\u001b[43m \u001b[49m\u001b[43m,\u001b[49m\u001b[43m \u001b[49m\u001b[43mmodel_module\u001b[49m\u001b[43m)\u001b[49m\u001b[43m(\u001b[49m\u001b[38;5;241;43m*\u001b[39;49m\u001b[38;5;241;43m*\u001b[39;49m\u001b[43mmodel_param\u001b[49m\u001b[43m)\u001b[49m\n\u001b[0;32m     42\u001b[0m     \u001b[38;5;28;01massert\u001b[39;00m \u001b[38;5;28misinstance\u001b[39m(net , nn\u001b[38;5;241m.\u001b[39mModule) , net\u001b[38;5;241m.\u001b[39m\u001b[38;5;18m__class__\u001b[39m\n\u001b[0;32m     43\u001b[0m     \u001b[38;5;28;01mif\u001b[39;00m state_dict: net\u001b[38;5;241m.\u001b[39mload_state_dict(state_dict)\n",
      "\u001b[1;31mTypeError\u001b[0m: gru.__init__() missing 1 required positional argument: 'input_dim'"
     ]
    }
   ],
   "source": [
    "from src import API\n",
    "\n",
    "API.DataAPI.update()\n",
    "API.DataAPI.prepare_train_data()\n",
    "API.Predictor.update_factors()"
   ]
  },
  {
   "cell_type": "code",
   "execution_count": 2,
   "metadata": {},
   "outputs": [
    {
     "name": "stdout",
     "output_type": "stream",
     "text": [
      "Load  2 DataBlocks ..."
     ]
    },
    {
     "name": "stdout",
     "output_type": "stream",
     "text": [
      "... cost 0.22 secs\n",
      "Align 2 DataBlocks ...... cost 0.21 secs\n",
      "Pre-Norming method of [day] : {'divlast': True, 'histnorm': True}\n",
      "x shape is torch.Size([5064, 30, 6])\n",
      "y shape is torch.Size([5064, 1])\n",
      "Test Forward Success\n",
      "metrics :  Metrics.MetricOutput(loss=tensor(1.0688, grad_fn=<AddBackward0>), score=-0.015420470386743546, loss_item=1.068833589553833, penalty=0.0, losses=tensor(1.0688, grad_fn=<ExpBackward0>))\n",
      "Test Metrics Success\n"
     ]
    }
   ],
   "source": [
    "from src import API\n",
    "API.ModelTestor.new('ts_mixer').try_metrics()"
   ]
  }
 ],
 "metadata": {
  "kernelspec": {
   "display_name": "Python 3",
   "language": "python",
   "name": "python3"
  },
  "language_info": {
   "codemirror_mode": {
    "name": "ipython",
    "version": 3
   },
   "file_extension": ".py",
   "mimetype": "text/x-python",
   "name": "python",
   "nbconvert_exporter": "python",
   "pygments_lexer": "ipython3",
   "version": "3.11.8"
  }
 },
 "nbformat": 4,
 "nbformat_minor": 2
}
