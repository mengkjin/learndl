{
 "cells": [
  {
   "cell_type": "code",
   "execution_count": 1,
   "metadata": {},
   "outputs": [
    {
     "name": "stdout",
     "output_type": "stream",
     "text": [
      "Update Files\n",
      "Sun Sep  1 21:50:22 2024 : Updated ~ DB_information\\calendar.feather Done! Cost 0.02 Secs\n",
      "Sun Sep  1 21:50:22 2024 : Updated ~ DB_information\\description.feather Done! Cost 0.04 Secs\n",
      "Sun Sep  1 21:50:22 2024 : Updated ~ DB_information\\st.feather Done! Cost 0.03 Secs\n",
      "Sun Sep  1 21:50:24 2024 : Updated ~ DB_information\\industry.feather Done! Cost 2.57 Secs\n",
      "Sun Sep  1 21:50:29 2024 : Updated ~ DB_information\\concepts.feather Done! Cost 5.15 Secs\n",
      "Sun Sep  1 21:50:31 2024 : Updated ~ DB_models\\risk_exp\\2024\\risk_exp.20240830.feather Done! Cost 0.05 Secs\n",
      "Sun Sep  1 21:50:31 2024 : Updated ~ DB_models\\risk_cov\\2024\\risk_cov.20240830.feather Done! Cost 0.03 Secs\n",
      "Sun Sep  1 21:50:31 2024 : Updated ~ DB_models\\risk_spec\\2024\\risk_spec.20240830.feather Done! Cost 0.02 Secs\n",
      "Sun Sep  1 21:50:33 2024 : Updated ~ DB_trade\\day\\2024\\day.20240830.feather Done! Cost 0.07 Secs\n",
      "Sun Sep  1 21:50:33 2024 : Updated ~ DB_trade\\5day\\2024\\5day.20240830.feather Done! Cost 0.25 Secs\n",
      "Sun Sep  1 21:50:33 2024 : Updated ~ DB_trade\\10day\\2024\\10day.20240830.feather Done! Cost 0.43 Secs\n",
      "Sun Sep  1 21:50:34 2024 : Updated ~ DB_trade\\20day\\2024\\20day.20240830.feather Done! Cost 0.86 Secs\n",
      "Sun Sep  1 21:50:37 2024 : Updated ~ DB_trade\\min\\2024\\min.20240830.feather Done! Cost 3.05 Secs\n",
      "Sun Sep  1 21:50:38 2024 : Updated ~ DB_trade\\5min\\2024\\5min.20240830.feather Done! Cost 0.31 Secs\n",
      "Sun Sep  1 21:50:38 2024 : Updated ~ DB_trade\\10min\\2024\\10min.20240830.feather Done! Cost 0.30 Secs\n",
      "Sun Sep  1 21:50:38 2024 : Updated ~ DB_trade\\15min\\2024\\15min.20240830.feather Done! Cost 0.27 Secs\n",
      "Sun Sep  1 21:50:38 2024 : Updated ~ DB_trade\\30min\\2024\\30min.20240830.feather Done! Cost 0.26 Secs\n",
      "Sun Sep  1 21:50:39 2024 : Updated ~ DB_trade\\60min\\2024\\60min.20240830.feather Done! Cost 0.24 Secs\n",
      "Sun Sep  1 21:50:42 2024 : Updated ~ DB_labels\\ret20_lag\\2024\\ret20_lag.20240801.feather Done! Cost 1.13 Secs\n",
      "Sun Sep  1 21:50:43 2024 : Updated ~ DB_labels\\ret20\\2024\\ret20.20240802.feather Done! Cost 1.01 Secs\n",
      "Sun Sep  1 21:50:54 2024 : Updated ~ DB_labels\\ret10_lag\\2024\\ret10_lag.20240815.feather Done! Cost 0.82 Secs\n",
      "Sun Sep  1 21:50:56 2024 : Updated ~ DB_labels\\ret10\\2024\\ret10.20240816.feather Done! Cost 0.85 Secs\n",
      "Sun Sep  1 21:51:06 2024 : Updated ~ DB_labels\\ret5_lag\\2024\\ret5_lag.20240822.feather Done! Cost 0.68 Secs\n",
      "Sun Sep  1 21:51:09 2024 : Updated ~ DB_labels\\ret5\\2024\\ret5.20240823.feather Done! Cost 0.68 Secs\n",
      "Sun Sep  1 21:51:27 2024 : download since!\n",
      "Connection and Factor preparation finished!\n",
      "Sun Sep  1 21:51:27 2024 : sellside/dongfang.hfq_chars from 20240830 to 20240901, total 1 periods\n",
      "Start sellside/dongfang.hfq_chars:20240830-20240901 \n",
      "Done sellside/dongfang.hfq_chars:20240830-20240901, cost 2.3 Secs\n",
      "Sun Sep  1 21:51:29 2024 : sellside/dongfang.l2_chars from 20240830 to 20240901, total 1 periods\n",
      "Start sellside/dongfang.l2_chars:20240830-20240901 \n",
      "Done sellside/dongfang.l2_chars:20240830-20240901, cost 76.7 Secs\n",
      "Sun Sep  1 21:52:46 2024 : sellside/dongfang.ms_chars from 20240830 to 20240901, total 1 periods\n",
      "Start sellside/dongfang.ms_chars:20240830-20240901 \n",
      "Done sellside/dongfang.ms_chars:20240830-20240901, cost 135.5 Secs\n",
      "Sun Sep  1 21:55:02 2024 : sellside/dongfang.order_flow from 20240830 to 20240901, total 1 periods\n",
      "Start sellside/dongfang.order_flow:20240830-20240901 \n",
      "Done sellside/dongfang.order_flow:20240830-20240901, cost 1.2 Secs\n",
      "Sun Sep  1 21:55:03 2024 : sellside/dongfang.gp from 20240829 to 20240901, total 1 periods\n",
      "Start sellside/dongfang.gp:20240829-20240901 \n",
      "Done sellside/dongfang.gp:20240829-20240901, cost 2.9 Secs\n",
      "Sun Sep  1 21:55:06 2024 : sellside/dongfang.tra from 20240829 to 20240901, total 1 periods\n",
      "Start sellside/dongfang.tra:20240829-20240901 \n",
      "Done sellside/dongfang.tra:20240829-20240901, cost 3.1 Secs\n",
      "Sun Sep  1 21:55:09 2024 : sellside/dongfang.hist from 20240829 to 20240901, total 1 periods\n",
      "Start sellside/dongfang.hist:20240829-20240901 \n",
      "Done sellside/dongfang.hist:20240829-20240901, cost 2.1 Secs\n",
      "Sun Sep  1 21:55:11 2024 : sellside/dongfang.scores_v0 from 20240830 to 20240901, total 1 periods\n",
      "Start sellside/dongfang.scores_v0:20240830-20240901 \n",
      "Done sellside/dongfang.scores_v0:20240830-20240901, cost 1.6 Secs\n",
      "Sun Sep  1 21:55:13 2024 : sellside/dongfang.factorvae from 20240829 to 20240901, total 1 periods\n",
      "Start sellside/dongfang.factorvae:20240829-20240901 \n",
      "Done sellside/dongfang.factorvae:20240829-20240901, cost 2.1 Secs\n",
      "Sun Sep  1 21:55:15 2024 : sellside/huatai.dl_factors from 20240830 to 20240901, total 1 periods\n",
      "Start sellside/huatai.dl_factors:20240830-20240901 \n",
      "Done sellside/huatai.dl_factors:20240830-20240901, cost 1.1 Secs\n",
      "Sun Sep  1 21:55:16 2024 : All Updates Done! Cost 294.49 Secs\n",
      "--------------------------------------------------------------------------------\n",
      "Calendar Updating information_ts/calendar at 20240901\n",
      "Description Updating information_ts/description at 20240901\n",
      "SWIndustry Updating information_ts/industry at 20240901\n",
      "ChangeName Updating information_ts/change_name at 20240901\n",
      "THSConcept Updating membership_ts/concept at 20240831\n",
      "DailyValuation Updating trade_ts/day_val at 20240830\n",
      "DailyValuation Updating trade_ts/day_val at 20240831\n",
      "DailyValuation Updating trade_ts/day_val at 20240901\n",
      "DailyQuote Updating trade_ts/day at 20240830\n",
      "DailyQuote Updating trade_ts/day at 20240831\n",
      "DailyQuote Updating trade_ts/day at 20240901\n",
      "FinaIndicator Already Updated at 20240630\n",
      "Finish exposure update at date 20240830\n",
      "Finish risk update at date 20240830\n",
      "--------------------------------------------------------------------------------\n",
      "predict is True , Data Processing start!\n",
      "6 datas :['y', 'day', '30m', 'style', 'indus', 'week']\n",
      "y blocks loading start!\n",
      " --> labels blocks reading [ret10_lag] DataBase...... finished! Cost 1.10 secs\n",
      " --> labels blocks reading [ret20_lag] DataBase...... finished! Cost 0.94 secs\n",
      " --> labels blocks merging (2)...... finished! Cost 0.16 secs\n",
      " --> models blocks reading [risk_exp] DataBase...... finished! Cost 3.17 secs\n",
      "y blocks loading finished! Cost 5.72 secs\n",
      "y blocks process...... finished! Cost 5.75 secs\n",
      "y blocks masking...... finished! Cost 0.15 secs\n",
      "y blocks saving ...... finished! Cost 0.16 secs\n",
      "y blocks norming...... finished! Cost 0.00 secs\n",
      "y finished! Cost 11.89 Seconds\n",
      "--------------------------------------------------------------------------------\n",
      "day blocks loading start!\n",
      " --> trade blocks reading [day] DataBase...... finished! Cost 1.63 secs\n",
      "day blocks loading finished! Cost 1.66 secs\n",
      "day blocks process...... finished! Cost 0.19 secs\n",
      "day blocks masking...... finished! Cost 0.13 secs\n",
      "day blocks saving ...... finished! Cost 0.18 secs\n",
      "day blocks norming...... finished! Cost 0.00 secs\n",
      "day finished! Cost 2.29 Seconds\n",
      "--------------------------------------------------------------------------------\n",
      "30m blocks loading start!\n",
      " --> trade blocks reading [30min] DataBase...... finished! Cost 6.48 secs\n",
      " --> trade blocks reading [day] DataBase...... finished! Cost 1.24 secs\n",
      "30m blocks loading finished! Cost 7.78 secs\n",
      "30m blocks process...... finished! Cost 1.68 secs\n",
      "30m blocks masking...... finished! Cost 0.21 secs\n",
      "30m blocks saving ...... finished! Cost 2.01 secs\n",
      "30m blocks norming...... finished! Cost 0.00 secs\n",
      "30m finished! Cost 11.80 Seconds\n",
      "--------------------------------------------------------------------------------\n",
      "style blocks loading start!\n",
      " --> models blocks reading [risk_exp] DataBase...... finished! Cost 1.80 secs\n",
      "style blocks loading finished! Cost 1.84 secs\n",
      "style blocks process...... finished! Cost 0.00 secs\n",
      "style blocks masking...... finished! Cost 0.11 secs\n",
      "style blocks saving ...... finished! Cost 0.23 secs\n",
      "style blocks norming...... finished! Cost 0.00 secs\n",
      "style finished! Cost 2.29 Seconds\n",
      "--------------------------------------------------------------------------------\n",
      "indus blocks loading start!\n",
      " --> models blocks reading [risk_exp] DataBase...... finished! Cost 3.07 secs\n",
      "indus blocks loading finished! Cost 3.07 secs\n",
      "indus blocks process...... finished! Cost 0.00 secs\n",
      "indus blocks masking...... finished! Cost 0.15 secs\n",
      "indus blocks saving ...... finished! Cost 1.51 secs\n",
      "indus blocks norming...... finished! Cost 0.00 secs\n",
      "indus finished! Cost 4.87 Seconds\n",
      "--------------------------------------------------------------------------------\n",
      "week blocks loading start!\n",
      " --> trade blocks reading [day] DataBase...... finished! Cost 2.59 secs\n",
      "week blocks loading finished! Cost 2.62 secs\n",
      "week blocks process...... finished! Cost 1.63 secs\n",
      "week blocks masking...... finished! Cost 0.21 secs\n",
      "week blocks saving ...... finished! Cost 2.80 secs\n",
      "week blocks norming...... finished! Cost 0.00 secs\n",
      "week finished! Cost 7.40 Seconds\n",
      "--------------------------------------------------------------------------------\n",
      "Data Processing Finished! Cost 40.54 Seconds\n",
      "--------------------------------------------------------------------------------\n",
      "Finish model [gru_day] predicting!\n",
      "Finish model [gruRTN_day] predicting!\n",
      "Finish model [gru_avg] predicting!\n",
      "--------------------------------------------------------------------------------\n"
     ]
    },
    {
     "data": {
      "text/plain": [
       "Predictor(reg_model=RegModel(name='gru_avg', type='swabest', num='all', alias='gru_day_V1'))"
      ]
     },
     "execution_count": 1,
     "metadata": {},
     "output_type": "execute_result"
    }
   ],
   "source": [
    "from src.api import DataAPI , Predictor\n",
    "\n",
    "DataAPI.update()\n",
    "DataAPI.prepare_predict_data()\n",
    "Predictor.update_factors()"
   ]
  },
  {
   "cell_type": "code",
   "execution_count": 8,
   "metadata": {},
   "outputs": [
    {
     "data": {
      "text/html": [
       "<div>\n",
       "<style scoped>\n",
       "    .dataframe tbody tr th:only-of-type {\n",
       "        vertical-align: middle;\n",
       "    }\n",
       "\n",
       "    .dataframe tbody tr th {\n",
       "        vertical-align: top;\n",
       "    }\n",
       "\n",
       "    .dataframe thead th {\n",
       "        text-align: right;\n",
       "    }\n",
       "</style>\n",
       "<table border=\"1\" class=\"dataframe\">\n",
       "  <thead>\n",
       "    <tr style=\"text-align: right;\">\n",
       "      <th></th>\n",
       "    </tr>\n",
       "  </thead>\n",
       "  <tbody>\n",
       "  </tbody>\n",
       "</table>\n",
       "</div>"
      ],
      "text/plain": [
       "Empty DataFrame\n",
       "Columns: []\n",
       "Index: []"
      ]
     },
     "execution_count": 8,
     "metadata": {},
     "output_type": "execute_result"
    }
   ],
   "source": [
    "from src.data.tushare.download.info import Calendar , pro\n",
    "renamer = {'cal_date' : 'calendar' ,'is_open'  : 'trade'}\n",
    "fields = None\n",
    "df = pro.trade_cal(exchange='SSE').rename(columns=renamer)\n",
    "#df = df.sort_values('calendar').reset_index(drop = True)\n",
    "df"
   ]
  },
  {
   "cell_type": "code",
   "execution_count": 10,
   "metadata": {},
   "outputs": [
    {
     "name": "stdout",
     "output_type": "stream",
     "text": [
      "Finish model [gru_day] predicting!\n",
      "Finish model [gruRTN_day] predicting!\n",
      "Finish model [gru_avg] predicting!\n",
      "--------------------------------------------------------------------------------\n"
     ]
    }
   ],
   "source": [
    "# DataAPI.prepare_predict_data()\n",
    "Predictor.update_factors()"
   ]
  },
  {
   "cell_type": "code",
   "execution_count": 1,
   "metadata": {},
   "outputs": [
    {
     "name": "stdout",
     "output_type": "stream",
     "text": [
      "Finish model [gru_day] predicting!\n",
      "Finish model [gruRTN_day] predicting!\n",
      "Finish model [gru_avg] predicting!\n",
      "--------------------------------------------------------------------------------\n"
     ]
    }
   ],
   "source": [
    "from src.api import DataAPI , Predictor\n",
    "# DataAPI.prepare_predict_data()\n",
    "md = Predictor.update_factors()"
   ]
  },
  {
   "cell_type": "code",
   "execution_count": null,
   "metadata": {},
   "outputs": [
    {
     "name": "stdout",
     "output_type": "stream",
     "text": [
      "Load  2 DataBlocks ..."
     ]
    },
    {
     "name": "stdout",
     "output_type": "stream",
     "text": [
      "... cost 0.22 secs\n",
      "Align 2 DataBlocks ...... cost 0.21 secs\n",
      "Pre-Norming method of [day] : {'divlast': True, 'histnorm': True}\n",
      "x shape is torch.Size([5064, 30, 6])\n",
      "y shape is torch.Size([5064, 1])\n",
      "Test Forward Success\n",
      "metrics :  Metrics.MetricOutput(loss=tensor(1.0688, grad_fn=<AddBackward0>), score=-0.015420470386743546, loss_item=1.068833589553833, penalty=0.0, losses=tensor(1.0688, grad_fn=<ExpBackward0>))\n",
      "Test Metrics Success\n"
     ]
    }
   ],
   "source": [
    "from src.api import ModelTestor\n",
    "ModelTestor.new('ts_mixer').try_metrics()"
   ]
  }
 ],
 "metadata": {
  "kernelspec": {
   "display_name": "Python 3",
   "language": "python",
   "name": "python3"
  },
  "language_info": {
   "codemirror_mode": {
    "name": "ipython",
    "version": 3
   },
   "file_extension": ".py",
   "mimetype": "text/x-python",
   "name": "python",
   "nbconvert_exporter": "python",
   "pygments_lexer": "ipython3",
   "version": "3.11.8"
  }
 },
 "nbformat": 4,
 "nbformat_minor": 2
}
