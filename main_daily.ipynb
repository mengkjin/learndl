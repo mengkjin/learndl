{
 "cells": [
  {
   "cell_type": "code",
   "execution_count": 8,
   "metadata": {},
   "outputs": [
    {
     "name": "stdout",
     "output_type": "stream",
     "text": [
      "Load  1 DataBlocks...... finished! Cost 0.08 secs\n",
      "Align 1 DataBlocks...... finished! Cost 0.16 secs\n"
     ]
    }
   ],
   "source": [
    "from src.data import ModuleData\n",
    "datas = ModuleData.load([] , ['std_lag1_10' , 'std_lag1_20' , 'res_lag1_20'] , fit = False , predict = True)"
   ]
  },
  {
   "cell_type": "code",
   "execution_count": 11,
   "metadata": {},
   "outputs": [],
   "source": [
    "import torch\n",
    "a = torch.load('./data/Interim/DataBlock/Y.00.pt')"
   ]
  },
  {
   "cell_type": "code",
   "execution_count": 12,
   "metadata": {},
   "outputs": [
    {
     "data": {
      "text/plain": [
       "{'values': array([[[[-5.61236124e-03, -7.62048224e-03, -8.99270643e-03,\n",
       "           -3.29332217e-03, -1.15816006e-02, -7.45824026e-03]],\n",
       " \n",
       "         [[-5.71092730e-03, -4.88556642e-03, -1.01256296e-02,\n",
       "           -1.37960527e-03, -9.39325802e-03, -4.67972504e-03]],\n",
       " \n",
       "         [[-2.72483937e-03, -2.28666957e-03, -1.01833204e-02,\n",
       "            1.51493028e-03, -5.59440209e-03,  2.05289829e-03]],\n",
       " \n",
       "         ...,\n",
       " \n",
       "         [[ 4.61227246e-05,             nan, -3.06625385e-03,\n",
       "                       nan,  8.75272905e-04,             nan]],\n",
       " \n",
       "         [[-1.64962863e-03,             nan,  1.32271566e-03,\n",
       "                       nan,  1.53794361e-03,             nan]],\n",
       " \n",
       "         [[-3.56176822e-03,             nan,  2.33465829e-03,\n",
       "                       nan, -4.83976655e-05,             nan]]],\n",
       " \n",
       " \n",
       "        [[[-1.90603617e-03, -4.42779297e-03, -1.13361347e-02,\n",
       "           -1.24900360e-02, -1.43560963e-02, -3.76604963e-03]],\n",
       " \n",
       "         [[-4.25380142e-03, -5.47864474e-03, -1.33132916e-02,\n",
       "           -1.06624337e-02, -8.62562470e-03, -1.87073601e-04]],\n",
       " \n",
       "         [[-7.93280359e-03, -7.40585010e-03, -1.63498316e-02,\n",
       "           -9.30703245e-03, -7.33328611e-03,  4.97285789e-03]],\n",
       " \n",
       "         ...,\n",
       " \n",
       "         [[-1.93318760e-03,             nan, -1.96856186e-02,\n",
       "                       nan,  2.10603490e-03,             nan]],\n",
       " \n",
       "         [[-1.90723490e-03,             nan, -1.18701644e-02,\n",
       "                       nan,  2.38202047e-03,             nan]],\n",
       " \n",
       "         [[-2.68691056e-03,             nan, -7.43961940e-03,\n",
       "                       nan,  6.68034470e-03,             nan]]],\n",
       " \n",
       " \n",
       "        [[[-1.67773925e-02, -2.03891248e-02,  1.69433712e-03,\n",
       "           -1.36725903e-02, -1.16343806e-02, -1.20339161e-02]],\n",
       " \n",
       "         [[-1.91259682e-02, -1.63349509e-02, -2.14248284e-04,\n",
       "           -9.38937906e-03, -1.56430919e-02, -1.16948104e-02]],\n",
       " \n",
       "         [[-1.94961913e-02, -1.66222807e-02, -2.53521837e-03,\n",
       "           -1.12304762e-02, -1.75493807e-02, -1.43736992e-02]],\n",
       " \n",
       "         ...,\n",
       " \n",
       "         [[-1.85533948e-02,             nan, -7.47427065e-03,\n",
       "                       nan, -1.18011860e-02,             nan]],\n",
       " \n",
       "         [[-1.44146876e-02,             nan, -1.12111242e-02,\n",
       "                       nan, -1.33911669e-02,             nan]],\n",
       " \n",
       "         [[-9.32063349e-03,             nan, -1.19616939e-02,\n",
       "                       nan, -1.20651862e-02,             nan]]],\n",
       " \n",
       " \n",
       "        ...,\n",
       " \n",
       " \n",
       "        [[[            nan,             nan,             nan,\n",
       "                       nan,             nan,             nan]],\n",
       " \n",
       "         [[            nan,             nan,             nan,\n",
       "                       nan,             nan,             nan]],\n",
       " \n",
       "         [[            nan,             nan,             nan,\n",
       "                       nan,             nan,             nan]],\n",
       " \n",
       "         ...,\n",
       " \n",
       "         [[ 3.40540451e-03,             nan,  7.69860903e-03,\n",
       "                       nan,  4.03958373e-03,             nan]],\n",
       " \n",
       "         [[-2.74569821e-03,             nan, -2.41229981e-02,\n",
       "                       nan, -2.85261720e-02,             nan]],\n",
       " \n",
       "         [[-9.45845898e-03,             nan, -2.27527209e-02,\n",
       "                       nan, -2.76738778e-02,             nan]]],\n",
       " \n",
       " \n",
       "        [[[            nan,             nan,             nan,\n",
       "                       nan,             nan,             nan]],\n",
       " \n",
       "         [[            nan,             nan,             nan,\n",
       "                       nan,             nan,             nan]],\n",
       " \n",
       "         [[            nan,             nan,             nan,\n",
       "                       nan,             nan,             nan]],\n",
       " \n",
       "         ...,\n",
       " \n",
       "         [[ 7.75179733e-03,             nan,  6.25541434e-03,\n",
       "                       nan,  9.98545438e-04,             nan]],\n",
       " \n",
       "         [[ 1.28400987e-02,             nan,  6.43798010e-03,\n",
       "                       nan,  2.44659511e-03,             nan]],\n",
       " \n",
       "         [[ 5.12297405e-03,             nan, -3.03751999e-03,\n",
       "                       nan, -8.07971414e-03,             nan]]],\n",
       " \n",
       " \n",
       "        [[[            nan,             nan,             nan,\n",
       "                       nan,             nan,             nan]],\n",
       " \n",
       "         [[            nan,             nan,             nan,\n",
       "                       nan,             nan,             nan]],\n",
       " \n",
       "         [[            nan,             nan,             nan,\n",
       "                       nan,             nan,             nan]],\n",
       " \n",
       "         ...,\n",
       " \n",
       "         [[            nan,             nan,             nan,\n",
       "                       nan,             nan,             nan]],\n",
       " \n",
       "         [[            nan,             nan,             nan,\n",
       "                       nan,             nan,             nan]],\n",
       " \n",
       "         [[-1.02746040e-02,             nan,  4.21398915e-02,\n",
       "                       nan,  3.93169373e-02,             nan]]]]),\n",
       " 'date': array([20231127, 20231128, 20231129, 20231130, 20231201, 20231204,\n",
       "        20231205, 20231206, 20231207, 20231208, 20231211, 20231212,\n",
       "        20231213, 20231214, 20231215, 20231218, 20231219, 20231220,\n",
       "        20231221, 20231222, 20231225, 20231226, 20231227, 20231228,\n",
       "        20231229, 20240102, 20240103, 20240104, 20240105, 20240108,\n",
       "        20240109, 20240110, 20240111, 20240112, 20240115, 20240116,\n",
       "        20240117, 20240118, 20240119, 20240122, 20240123, 20240124,\n",
       "        20240125, 20240126, 20240129, 20240130, 20240131, 20240201,\n",
       "        20240202, 20240205, 20240206, 20240207, 20240208, 20240219,\n",
       "        20240220, 20240221, 20240222, 20240223, 20240226, 20240227,\n",
       "        20240228, 20240229, 20240301, 20240304, 20240305, 20240306,\n",
       "        20240307, 20240308, 20240311, 20240312, 20240313, 20240314,\n",
       "        20240315, 20240318, 20240319, 20240320, 20240321, 20240322,\n",
       "        20240325, 20240326, 20240327, 20240328, 20240329, 20240401,\n",
       "        20240402, 20240403, 20240408, 20240409, 20240410, 20240411,\n",
       "        20240412, 20240415, 20240416, 20240417, 20240418, 20240419,\n",
       "        20240422, 20240423, 20240424, 20240425, 20240426, 20240429,\n",
       "        20240430, 20240506, 20240507, 20240508, 20240509, 20240510,\n",
       "        20240513, 20240514, 20240515, 20240516, 20240517, 20240520,\n",
       "        20240521, 20240522, 20240523, 20240524, 20240527, 20240528,\n",
       "        20240529, 20240530, 20240531, 20240603, 20240604, 20240605,\n",
       "        20240606, 20240607, 20240611, 20240612, 20240613, 20240614,\n",
       "        20240617, 20240618, 20240619, 20240620, 20240621, 20240624,\n",
       "        20240625, 20240626, 20240627, 20240628, 20240701, 20240702,\n",
       "        20240703, 20240704, 20240705, 20240708, 20240709, 20240710,\n",
       "        20240711, 20240712, 20240715, 20240716, 20240717, 20240718,\n",
       "        20240719, 20240722, 20240723, 20240724, 20240725, 20240726,\n",
       "        20240729, 20240730, 20240731, 20240801, 20240802, 20240805,\n",
       "        20240806, 20240807, 20240808, 20240809, 20240812, 20240813,\n",
       "        20240814, 20240815, 20240816, 20240819, 20240820, 20240821,\n",
       "        20240822, 20240823, 20240826, 20240827, 20240828, 20240829,\n",
       "        20240830, 20240902, 20240903, 20240904, 20240905, 20240906,\n",
       "        20240909, 20240910, 20240911, 20240912, 20240913, 20240918,\n",
       "        20240919, 20240920, 20240923, 20240924, 20240925, 20240926,\n",
       "        20240927, 20240930, 20241008, 20241009, 20241010, 20241011,\n",
       "        20241014, 20241015, 20241016, 20241017, 20241018, 20241021,\n",
       "        20241022, 20241023, 20241024, 20241025, 20241028, 20241029,\n",
       "        20241030, 20241031, 20241101, 20241104, 20241105, 20241106,\n",
       "        20241107, 20241108]),\n",
       " 'secid': array([     1,      2,      4, ..., 873693, 873726, 873833]),\n",
       " 'feature': array(['res_lag1_10', 'res_lag1_20', 'rtn_lag1_10', 'rtn_lag1_20',\n",
       "        'std_lag1_10', 'std_lag1_20'], dtype='<U11')}"
      ]
     },
     "execution_count": 12,
     "metadata": {},
     "output_type": "execute_result"
    }
   ],
   "source": [
    "a"
   ]
  },
  {
   "cell_type": "code",
   "execution_count": 1,
   "metadata": {},
   "outputs": [
    {
     "name": "stdout",
     "output_type": "stream",
     "text": [
      "Use device name: NVIDIA GeForce RTX 4090\n",
      "update data: ********************\n",
      "Unpack Update Files\n",
      "Sat Nov 16 13:39:25 2024 : download since!\n",
      "Connection and Factor preparation finished!\n",
      "Sat Nov 16 13:39:25 2024 : All Updates Done! Cost 0.50 Secs\n",
      "--------------------------------------------------------------------------------\n",
      "--------------------------------------------------------------------------------\n",
      "process other min bars:\n",
      "--------------------------------------------------------------------------------\n",
      "process other min bars:\n",
      "--------------------------------------------------------------------------------\n",
      "--------------------------------------------------------------------------------\n",
      "--------------------------------------------------------------------------------\n",
      "prepare predict data: ********************\n",
      "predict is True , Data Processing start!\n",
      "6 datas :['y', 'day', '30m', 'style', 'indus', 'week']\n",
      "y is up to 20241116 already!\n",
      "day is up to 20241116 already!\n",
      "30m is up to 20241116 already!\n",
      "style is up to 20241116 already!\n",
      "indus is up to 20241116 already!\n",
      "week is up to 20241116 already!\n",
      "Data Processing Finished! Cost 0.00 Seconds\n",
      "--------------------------------------------------------------------------------\n",
      "update_hidden: ********************\n",
      "model_name is None, update all hidden models\n",
      "  -->  update hidden feature for HiddenExtractingModel(name=gru_day)\n",
      "try using /home/mengkjin/Workspace/learndl/data/Interim/DataSet/day.20240703.pt , success!\n",
      "Load  2 DataBlocks...... finished! Cost 0.12 secs\n",
      "Align 2 DataBlocks...... finished! Cost 0.14 secs\n",
      "Pre-Norming method of [day] : {'divlast': True, 'histnorm': True}\n"
     ]
    },
    {
     "name": "stderr",
     "output_type": "stream",
     "text": [
      "100%|██████████| 333/333 [00:00<00:00, 5008.12it/s]\n",
      "100%|██████████| 333/333 [00:00<00:00, 3737.91it/s]\n"
     ]
    },
    {
     "name": "stdout",
     "output_type": "stream",
     "text": [
      "--------------------------------------------------------------------------------\n",
      "--------------------------------------------------------------------------------\n",
      "update_factors: ********************\n",
      "Finish model [gru_day] predicting!\n",
      "Finish model [gruRTN_day] predicting!\n",
      "Finish model [gru_avg] predicting!\n",
      "--------------------------------------------------------------------------------\n",
      "--------------------------------------------------------------------------------\n",
      "sending email success\n"
     ]
    }
   ],
   "source": [
    "%run src_runs/autorun/daily_update.py"
   ]
  },
  {
   "cell_type": "code",
   "execution_count": 1,
   "metadata": {},
   "outputs": [
    {
     "name": "stdout",
     "output_type": "stream",
     "text": [
      "Basic module imported!\n",
      "INSTANCE_RECORD can be accessed to check trainer , account or else...\n",
      "--------------------------------------------------------------------------------\n",
      "******************************** DOWNLOAD DATA ********************************\n",
      "DataBase object [trade_ts],[day_limit],[20241126] save to D:\\Coding\\learndl\\learndl\\data\\DataBase\\DB_trade_ts\\day_limit\\2024\\day_limit.20241126.feather successfully\n",
      "DataBase object [trade_ts],[day_moneyflow],[20241126] save to D:\\Coding\\learndl\\learndl\\data\\DataBase\\DB_trade_ts\\day_moneyflow\\2024\\day_moneyflow.20241126.feather successfully\n",
      "DataBase object [trade_ts],[day],[20241126] save to D:\\Coding\\learndl\\learndl\\data\\DataBase\\DB_trade_ts\\day\\2024\\day.20241126.feather successfully\n",
      "DataBase object [trade_ts],[day_val],[20241126] save to D:\\Coding\\learndl\\learndl\\data\\DataBase\\DB_trade_ts\\day_val\\2024\\day_val.20241126.feather successfully\n"
     ]
    },
    {
     "name": "stderr",
     "output_type": "stream",
     "text": [
      "c:\\Users\\jinmeng\\AppData\\Local\\Programs\\Python\\Python311\\Lib\\site-packages\\rqdatac\\client.py:257: UserWarning: Your account will be expired after  9 days. Please call us at 0755-22676337 to upgrade or purchase or renew your contract.\n",
      "  warnings.warn(\"Your account will be expired after  {} days. \"\n"
     ]
    },
    {
     "name": "stdout",
     "output_type": "stream",
     "text": [
      "DataBase object [trade_ts],[min],[20241126] save to D:\\Coding\\learndl\\learndl\\data\\DataBase\\DB_trade_ts\\min\\2024\\min.20241126.feather successfully\n",
      "rcquant bar min 20241126 success\n",
      "--------------------------------------------------------------------------------\n",
      "process other min bars at 20241126 from source rcquant\n",
      "DataBase object [trade_ts],[5min],[20241126] save to D:\\Coding\\learndl\\learndl\\data\\DataBase\\DB_trade_ts\\5min\\2024\\5min.20241126.feather successfully\n",
      "DataBase object [trade_ts],[10min],[20241126] save to D:\\Coding\\learndl\\learndl\\data\\DataBase\\DB_trade_ts\\10min\\2024\\10min.20241126.feather successfully\n",
      "DataBase object [trade_ts],[15min],[20241126] save to D:\\Coding\\learndl\\learndl\\data\\DataBase\\DB_trade_ts\\15min\\2024\\15min.20241126.feather successfully\n",
      "DataBase object [trade_ts],[30min],[20241126] save to D:\\Coding\\learndl\\learndl\\data\\DataBase\\DB_trade_ts\\30min\\2024\\30min.20241126.feather successfully\n",
      "DataBase object [trade_ts],[60min],[20241126] save to D:\\Coding\\learndl\\learndl\\data\\DataBase\\DB_trade_ts\\60min\\2024\\60min.20241126.feather successfully\n",
      "Tue Nov 26 23:37:56 2024 : download since!\n",
      "Connection and Factor preparation finished!\n",
      "********************************************************************************\n",
      "--------------------------------------------------------------------------------\n",
      "--------------------------------------------------------------------------------\n",
      "******************************** FETCH JS DATA ********************************\n",
      "Update Files\n",
      "Tue Nov 26 23:37:57 2024 : Updated ~ DB_information_js\\calendar.feather Done! Cost 0.01 Secs\n",
      "Tue Nov 26 23:37:57 2024 : Updated ~ DB_information_js\\description.feather Done! Cost 0.04 Secs\n",
      "Tue Nov 26 23:37:57 2024 : Updated ~ DB_information_js\\st.feather Done! Cost 0.03 Secs\n",
      "Tue Nov 26 23:38:00 2024 : Updated ~ DB_information_js\\industry.feather Done! Cost 3.03 Secs\n",
      "Tue Nov 26 23:38:07 2024 : Updated ~ DB_information_js\\concepts.feather Done! Cost 7.14 Secs\n",
      "Tue Nov 26 23:38:09 2024 : Updated ~ DB_models\\risk_exp\\2024\\risk_exp.20241126.feather Done! Cost 0.06 Secs\n",
      "Tue Nov 26 23:38:09 2024 : Updated ~ DB_models\\risk_cov\\2024\\risk_cov.20241126.feather Done! Cost 0.02 Secs\n",
      "Tue Nov 26 23:38:09 2024 : Updated ~ DB_models\\risk_spec\\2024\\risk_spec.20241126.feather Done! Cost 0.02 Secs\n",
      "Tue Nov 26 23:38:10 2024 : Updated ~ DB_trade_js\\day\\2024\\day.20241126.feather Done! Cost 0.05 Secs\n",
      "Tue Nov 26 23:38:11 2024 : Updated ~ DB_trade_js\\5day\\2024\\5day.20241126.feather Done! Cost 0.28 Secs\n",
      "Tue Nov 26 23:38:11 2024 : Updated ~ DB_trade_js\\10day\\2024\\10day.20241126.feather Done! Cost 0.46 Secs\n",
      "Tue Nov 26 23:38:12 2024 : Updated ~ DB_trade_js\\20day\\2024\\20day.20241126.feather Done! Cost 1.07 Secs\n",
      "Tue Nov 26 23:38:15 2024 : Updated ~ DB_trade_js\\min\\2024\\min.20241126.feather Done! Cost 3.28 Secs\n",
      "Tue Nov 26 23:38:16 2024 : Updated ~ DB_trade_js\\5min\\2024\\5min.20241126.feather Done! Cost 0.57 Secs\n",
      "Tue Nov 26 23:38:17 2024 : Updated ~ DB_trade_js\\10min\\2024\\10min.20241126.feather Done! Cost 0.49 Secs\n",
      "Tue Nov 26 23:38:17 2024 : Updated ~ DB_trade_js\\15min\\2024\\15min.20241126.feather Done! Cost 0.45 Secs\n",
      "Tue Nov 26 23:38:17 2024 : Updated ~ DB_trade_js\\30min\\2024\\30min.20241126.feather Done! Cost 0.42 Secs\n",
      "Tue Nov 26 23:38:18 2024 : Updated ~ DB_trade_js\\60min\\2024\\60min.20241126.feather Done! Cost 0.44 Secs\n",
      "Tue Nov 26 23:38:21 2024 : Updated ~ DB_labels_js\\ret20_lag\\2024\\ret20_lag.20241028.feather Done! Cost 0.90 Secs\n",
      "Tue Nov 26 23:38:21 2024 : Updated ~ DB_labels_js\\ret20\\2024\\ret20.20241029.feather Done! Cost 0.70 Secs\n",
      "Tue Nov 26 23:38:30 2024 : Updated ~ DB_labels_js\\ret10_lag\\2024\\ret10_lag.20241111.feather Done! Cost 0.64 Secs\n",
      "Tue Nov 26 23:38:32 2024 : Updated ~ DB_labels_js\\ret10\\2024\\ret10.20241112.feather Done! Cost 0.62 Secs\n",
      "Tue Nov 26 23:38:39 2024 : Updated ~ DB_labels_js\\ret5_lag\\2024\\ret5_lag.20241118.feather Done! Cost 0.55 Secs\n",
      "Tue Nov 26 23:38:42 2024 : Updated ~ DB_labels_js\\ret5\\2024\\ret5.20241119.feather Done! Cost 0.53 Secs\n",
      "Tue Nov 26 23:38:56 2024 : All Updates Done! Cost 59.44 Secs\n",
      "********************************************************************************\n",
      "--------------------------------------------------------------------------------\n",
      "--------------------------------------------------------------------------------\n",
      "****************************** UPDATE OTHER DATAS ******************************\n",
      "DataBase object [trade_ts],[5day],[20241126] save to D:\\Coding\\learndl\\learndl\\data\\DataBase\\DB_trade_ts\\5day\\2024\\5day.20241126.feather successfully\n",
      "DataBase object [trade_ts],[10day],[20241126] save to D:\\Coding\\learndl\\learndl\\data\\DataBase\\DB_trade_ts\\10day\\2024\\10day.20241126.feather successfully\n",
      "DataBase object [trade_ts],[20day],[20241126] save to D:\\Coding\\learndl\\learndl\\data\\DataBase\\DB_trade_ts\\20day\\2024\\20day.20241126.feather successfully\n",
      "DataBase object [labels_ts],[ret5],[20241118] save to D:\\Coding\\learndl\\learndl\\data\\DataBase\\DB_labels_ts\\ret5\\2024\\ret5.20241118.feather successfully\n",
      "DataBase object [labels_ts],[ret5_lag],[20241115] save to D:\\Coding\\learndl\\learndl\\data\\DataBase\\DB_labels_ts\\ret5_lag\\2024\\ret5_lag.20241115.feather successfully\n",
      "DataBase object [labels_ts],[ret10],[20241111] save to D:\\Coding\\learndl\\learndl\\data\\DataBase\\DB_labels_ts\\ret10\\2024\\ret10.20241111.feather successfully\n",
      "DataBase object [labels_ts],[ret10_lag],[20241108] save to D:\\Coding\\learndl\\learndl\\data\\DataBase\\DB_labels_ts\\ret10_lag\\2024\\ret10_lag.20241108.feather successfully\n",
      "DataBase object [labels_ts],[ret20],[20241028] save to D:\\Coding\\learndl\\learndl\\data\\DataBase\\DB_labels_ts\\ret20\\2024\\ret20.20241028.feather successfully\n",
      "DataBase object [labels_ts],[ret20_lag],[20241025] save to D:\\Coding\\learndl\\learndl\\data\\DataBase\\DB_labels_ts\\ret20_lag\\2024\\ret20_lag.20241025.feather successfully\n",
      "********************************************************************************\n",
      "--------------------------------------------------------------------------------\n",
      "--------------------------------------------------------------------------------\n",
      "***************************** UPDATE FACTOR MODELS *****************************\n",
      "DataBase object [models],[tushare_cne5_exp],[20241126] save to D:\\Coding\\learndl\\learndl\\data\\DataBase\\DB_models\\tushare_cne5_exp\\2024\\tushare_cne5_exp.20241126.feather successfully\n",
      "DataBase object [models],[tushare_cne5_coef],[20241126] save to D:\\Coding\\learndl\\learndl\\data\\DataBase\\DB_models\\tushare_cne5_coef\\2024\\tushare_cne5_coef.20241126.feather successfully\n",
      "DataBase object [models],[tushare_cne5_res],[20241126] save to D:\\Coding\\learndl\\learndl\\data\\DataBase\\DB_models\\tushare_cne5_res\\2024\\tushare_cne5_res.20241126.feather successfully\n",
      "DataBase object [models],[tushare_cne5_cov],[20241126] save to D:\\Coding\\learndl\\learndl\\data\\DataBase\\DB_models\\tushare_cne5_cov\\2024\\tushare_cne5_cov.20241126.feather successfully\n",
      "DataBase object [models],[tushare_cne5_spec],[20241126] save to D:\\Coding\\learndl\\learndl\\data\\DataBase\\DB_models\\tushare_cne5_spec\\2024\\tushare_cne5_spec.20241126.feather successfully\n",
      "********************************************************************************\n",
      "--------------------------------------------------------------------------------\n",
      "--------------------------------------------------------------------------------\n",
      "***************************** PREPARE PREDICT DATA *****************************\n",
      "predict is True , Data Processing start!\n",
      "6 datas : ['y', 'day', '30m', 'style', 'indus', 'week'] , from -366 to None\n",
      "y is up to 20241126 already!\n",
      "day is up to 20241126 already!\n",
      "30m is up to 20241126 already!\n",
      "style is up to 20241126 already!\n",
      "indus is up to 20241126 already!\n",
      "week is up to 20241126 already!\n",
      "Data Processing Finished! Cost 0.02 Seconds\n",
      "********************************************************************************\n",
      "--------------------------------------------------------------------------------\n",
      "--------------------------------------------------------------------------------\n",
      "******************************** UPDATE HIDDEN ********************************\n",
      "model_name is None, update all hidden models\n",
      "  -->  update hidden feature for HiddenExtractingModel(hidden_name=gru_day_V0,name=gru_day,submodels=['best'],nums=None)\n",
      "Beware! Should be at server or short_test, but short_test is False now!\n",
      "try using D:\\Coding\\learndl\\learndl\\data\\Interim\\DataSet/day.20240607.pt , success!\n",
      "Load  2 DataBlocks...... finished! Cost 0.19 secs\n",
      "Align 2 DataBlocks...... finished! Cost 0.26 secs\n",
      "Pre-Norming method of [day] : {'divlast': True, 'histnorm': True}\n"
     ]
    },
    {
     "name": "stderr",
     "output_type": "stream",
     "text": [
      "100%|██████████| 316/316 [00:00<00:00, 2802.72it/s]\n",
      "100%|██████████| 316/316 [00:00<00:00, 2661.73it/s]\n"
     ]
    },
    {
     "name": "stdout",
     "output_type": "stream",
     "text": [
      "Finish model [HiddenExtractingModel(hidden_name=gru_day_V0,name=gru_day,submodels=['best'],nums=None)] extracting!\n",
      "--------------------------------------------------------------------------------\n",
      "********************************************************************************\n",
      "--------------------------------------------------------------------------------\n",
      "--------------------------------------------------------------------------------\n",
      "******************************** UPDATE FACTORS ********************************\n",
      "model_name is None, predict all registered models\n",
      "  -->  update pred for RegisteredModel(pred_name=gru_day_V0,name=gru_day,submodel=swalast,num=0)\n",
      "  -->  update pred for RegisteredModel(pred_name=gruRTN_day_V0,name=gruRTN_day,submodel=swalast,num=0)\n",
      "  -->  update pred for RegisteredModel(pred_name=gru_avg_V1,name=gru_avg,submodel=swalast,num=all)\n",
      "********************************************************************************\n",
      "--------------------------------------------------------------------------------\n"
     ]
    },
    {
     "ename": "ValueError",
     "evalue": "max() arg is an empty sequence",
     "output_type": "error",
     "traceback": [
      "\u001b[1;31m---------------------------------------------------------------------------\u001b[0m",
      "\u001b[1;31mValueError\u001b[0m                                Traceback (most recent call last)",
      "Cell \u001b[1;32mIn[1], line 6\u001b[0m\n\u001b[0;32m      3\u001b[0m \u001b[38;5;66;03m#print('update_data: ' + '*' * 20)\u001b[39;00m\n\u001b[0;32m      4\u001b[0m DataAPI\u001b[38;5;241m.\u001b[39mupdate()\n\u001b[1;32m----> 6\u001b[0m \u001b[43mModelAPI\u001b[49m\u001b[38;5;241;43m.\u001b[39;49m\u001b[43mupdate\u001b[49m\u001b[43m(\u001b[49m\u001b[43m)\u001b[49m\n",
      "File \u001b[1;32md:\\Coding\\learndl\\learndl\\src\\api\\model.py:21\u001b[0m, in \u001b[0;36mModelAPI.update\u001b[1;34m(cls)\u001b[0m\n\u001b[0;32m     18\u001b[0m     \u001b[38;5;28mcls\u001b[39m\u001b[38;5;241m.\u001b[39mExtractor\u001b[38;5;241m.\u001b[39mupdate()\n\u001b[0;32m     20\u001b[0m \u001b[38;5;28;01mwith\u001b[39;00m EnclosedMessage(\u001b[38;5;124m'\u001b[39m\u001b[38;5;124m update factors \u001b[39m\u001b[38;5;124m'\u001b[39m):\n\u001b[1;32m---> 21\u001b[0m     \u001b[38;5;28;43mcls\u001b[39;49m\u001b[38;5;241;43m.\u001b[39;49m\u001b[43mPredictor\u001b[49m\u001b[38;5;241;43m.\u001b[39;49m\u001b[43mupdate\u001b[49m\u001b[43m(\u001b[49m\u001b[43m)\u001b[49m\n\u001b[0;32m     23\u001b[0m \u001b[38;5;28;01mwith\u001b[39;00m EnclosedMessage(\u001b[38;5;124m'\u001b[39m\u001b[38;5;124m update factor portfolios \u001b[39m\u001b[38;5;124m'\u001b[39m):\n\u001b[0;32m     24\u001b[0m     \u001b[38;5;28mcls\u001b[39m\u001b[38;5;241m.\u001b[39mFmpBuilder\u001b[38;5;241m.\u001b[39mupdate()\n",
      "File \u001b[1;32md:\\Coding\\learndl\\learndl\\src\\model\\model_module\\application\\predictor.py:118\u001b[0m, in \u001b[0;36mModelPredictor.update\u001b[1;34m(cls, model_name, update, overwrite, silent)\u001b[0m\n\u001b[0;32m    116\u001b[0m \u001b[38;5;28;01mfor\u001b[39;00m model \u001b[38;5;129;01min\u001b[39;00m models:\n\u001b[0;32m    117\u001b[0m     md \u001b[38;5;241m=\u001b[39m \u001b[38;5;28mcls\u001b[39m(model)\n\u001b[1;32m--> 118\u001b[0m     \u001b[43mmd\u001b[49m\u001b[38;5;241;43m.\u001b[39;49m\u001b[43mupdate_preds\u001b[49m\u001b[43m(\u001b[49m\u001b[43mupdate\u001b[49m\u001b[43m \u001b[49m\u001b[38;5;241;43m=\u001b[39;49m\u001b[43m \u001b[49m\u001b[43mupdate\u001b[49m\u001b[43m \u001b[49m\u001b[43m,\u001b[49m\u001b[43m \u001b[49m\u001b[43moverwrite\u001b[49m\u001b[43m \u001b[49m\u001b[38;5;241;43m=\u001b[39;49m\u001b[43m \u001b[49m\u001b[43moverwrite\u001b[49m\u001b[43m \u001b[49m\u001b[43m,\u001b[49m\u001b[43m \u001b[49m\u001b[43msilent\u001b[49m\u001b[43m \u001b[49m\u001b[38;5;241;43m=\u001b[39;49m\u001b[43m \u001b[49m\u001b[43msilent\u001b[49m\u001b[43m)\u001b[49m\n\u001b[0;32m    119\u001b[0m     \u001b[38;5;28mprint\u001b[39m(\u001b[38;5;124mf\u001b[39m\u001b[38;5;124m'\u001b[39m\u001b[38;5;124mFinish model [\u001b[39m\u001b[38;5;132;01m{\u001b[39;00mmodel\u001b[38;5;132;01m}\u001b[39;00m\u001b[38;5;124m] predicting!\u001b[39m\u001b[38;5;124m'\u001b[39m)\n\u001b[0;32m    120\u001b[0m \u001b[38;5;28mprint\u001b[39m(\u001b[38;5;124m'\u001b[39m\u001b[38;5;124m-\u001b[39m\u001b[38;5;124m'\u001b[39m \u001b[38;5;241m*\u001b[39m \u001b[38;5;241m80\u001b[39m)\n",
      "File \u001b[1;32md:\\Coding\\learndl\\learndl\\src\\model\\model_module\\application\\predictor.py:47\u001b[0m, in \u001b[0;36mModelPredictor.update_preds\u001b[1;34m(self, update, overwrite, silent)\u001b[0m\n\u001b[0;32m     45\u001b[0m end_dt \u001b[38;5;241m=\u001b[39m CALENDAR\u001b[38;5;241m.\u001b[39mcd(\u001b[38;5;28mmin\u001b[39m(\u001b[38;5;28mself\u001b[39m\u001b[38;5;241m.\u001b[39mreg_model\u001b[38;5;241m.\u001b[39mmodel_dates) ,\u001b[38;5;241m1\u001b[39m)\n\u001b[0;32m     46\u001b[0m dates \u001b[38;5;241m=\u001b[39m CALENDAR\u001b[38;5;241m.\u001b[39mdiffs(\u001b[38;5;28mself\u001b[39m\u001b[38;5;241m.\u001b[39mreg_model\u001b[38;5;241m.\u001b[39mstart_dt , end_dt , \u001b[38;5;28mself\u001b[39m\u001b[38;5;241m.\u001b[39mreg_model\u001b[38;5;241m.\u001b[39mpred_dates \u001b[38;5;28;01mif\u001b[39;00m update \u001b[38;5;28;01melse\u001b[39;00m [])\n\u001b[1;32m---> 47\u001b[0m \u001b[38;5;28;43mself\u001b[39;49m\u001b[38;5;241;43m.\u001b[39;49m\u001b[43mpredict_dates\u001b[49m\u001b[43m(\u001b[49m\u001b[43mdates\u001b[49m\u001b[43m)\u001b[49m\n\u001b[0;32m     48\u001b[0m \u001b[38;5;28mself\u001b[39m\u001b[38;5;241m.\u001b[39mdeploy()\n",
      "File \u001b[1;32md:\\Coding\\learndl\\learndl\\src\\model\\model_module\\application\\predictor.py:56\u001b[0m, in \u001b[0;36mModelPredictor.predict_dates\u001b[1;34m(self, dates)\u001b[0m\n\u001b[0;32m     52\u001b[0m data_module  \u001b[38;5;241m=\u001b[39m DataModule(\u001b[38;5;28mself\u001b[39m\u001b[38;5;241m.\u001b[39mconfig , \u001b[38;5;124m'\u001b[39m\u001b[38;5;124mboth\u001b[39m\u001b[38;5;124m'\u001b[39m \u001b[38;5;28;01mif\u001b[39;00m \u001b[38;5;28mmin\u001b[39m(dates) \u001b[38;5;241m<\u001b[39m\u001b[38;5;241m=\u001b[39m CALENDAR\u001b[38;5;241m.\u001b[39mtoday(\u001b[38;5;241m-\u001b[39m\u001b[38;5;241m100\u001b[39m) \u001b[38;5;28;01melse\u001b[39;00m \u001b[38;5;124m'\u001b[39m\u001b[38;5;124mpredict\u001b[39m\u001b[38;5;124m'\u001b[39m)\u001b[38;5;241m.\u001b[39mload_data() \n\u001b[0;32m     53\u001b[0m pred_dates \u001b[38;5;241m=\u001b[39m dates[dates \u001b[38;5;241m<\u001b[39m\u001b[38;5;241m=\u001b[39m \u001b[38;5;28mmax\u001b[39m(data_module\u001b[38;5;241m.\u001b[39mtest_full_dates)]\n\u001b[0;32m     55\u001b[0m df_task \u001b[38;5;241m=\u001b[39m pd\u001b[38;5;241m.\u001b[39mDataFrame({\u001b[38;5;124m'\u001b[39m\u001b[38;5;124mpred_dates\u001b[39m\u001b[38;5;124m'\u001b[39m : pred_dates , \n\u001b[1;32m---> 56\u001b[0m                         \u001b[38;5;124m'\u001b[39m\u001b[38;5;124mmodel_date\u001b[39m\u001b[38;5;124m'\u001b[39m : \u001b[43m[\u001b[49m\u001b[38;5;28;43mmax\u001b[39;49m\u001b[43m(\u001b[49m\u001b[38;5;28;43mself\u001b[39;49m\u001b[38;5;241;43m.\u001b[39;49m\u001b[43mreg_model\u001b[49m\u001b[38;5;241;43m.\u001b[39;49m\u001b[43mmodel_dates\u001b[49m\u001b[43m[\u001b[49m\u001b[38;5;28;43mself\u001b[39;49m\u001b[38;5;241;43m.\u001b[39;49m\u001b[43mreg_model\u001b[49m\u001b[38;5;241;43m.\u001b[39;49m\u001b[43mmodel_dates\u001b[49m\u001b[43m  \u001b[49m\u001b[38;5;241;43m<\u001b[39;49m\u001b[43m \u001b[49m\u001b[43md\u001b[49m\u001b[43m]\u001b[49m\u001b[43m)\u001b[49m\u001b[43m \u001b[49m\u001b[38;5;28;43;01mfor\u001b[39;49;00m\u001b[43m \u001b[49m\u001b[43md\u001b[49m\u001b[43m \u001b[49m\u001b[38;5;129;43;01min\u001b[39;49;00m\u001b[43m \u001b[49m\u001b[43mpred_dates\u001b[49m\u001b[43m]\u001b[49m , \n\u001b[0;32m     57\u001b[0m                         \u001b[38;5;124m'\u001b[39m\u001b[38;5;124mcalculated\u001b[39m\u001b[38;5;124m'\u001b[39m : \u001b[38;5;241m0\u001b[39m})\n\u001b[0;32m     58\u001b[0m torch\u001b[38;5;241m.\u001b[39mset_grad_enabled(\u001b[38;5;28;01mFalse\u001b[39;00m)\n\u001b[0;32m     59\u001b[0m df_list \u001b[38;5;241m=\u001b[39m []\n",
      "File \u001b[1;32md:\\Coding\\learndl\\learndl\\src\\model\\model_module\\application\\predictor.py:56\u001b[0m, in \u001b[0;36m<listcomp>\u001b[1;34m(.0)\u001b[0m\n\u001b[0;32m     52\u001b[0m data_module  \u001b[38;5;241m=\u001b[39m DataModule(\u001b[38;5;28mself\u001b[39m\u001b[38;5;241m.\u001b[39mconfig , \u001b[38;5;124m'\u001b[39m\u001b[38;5;124mboth\u001b[39m\u001b[38;5;124m'\u001b[39m \u001b[38;5;28;01mif\u001b[39;00m \u001b[38;5;28mmin\u001b[39m(dates) \u001b[38;5;241m<\u001b[39m\u001b[38;5;241m=\u001b[39m CALENDAR\u001b[38;5;241m.\u001b[39mtoday(\u001b[38;5;241m-\u001b[39m\u001b[38;5;241m100\u001b[39m) \u001b[38;5;28;01melse\u001b[39;00m \u001b[38;5;124m'\u001b[39m\u001b[38;5;124mpredict\u001b[39m\u001b[38;5;124m'\u001b[39m)\u001b[38;5;241m.\u001b[39mload_data() \n\u001b[0;32m     53\u001b[0m pred_dates \u001b[38;5;241m=\u001b[39m dates[dates \u001b[38;5;241m<\u001b[39m\u001b[38;5;241m=\u001b[39m \u001b[38;5;28mmax\u001b[39m(data_module\u001b[38;5;241m.\u001b[39mtest_full_dates)]\n\u001b[0;32m     55\u001b[0m df_task \u001b[38;5;241m=\u001b[39m pd\u001b[38;5;241m.\u001b[39mDataFrame({\u001b[38;5;124m'\u001b[39m\u001b[38;5;124mpred_dates\u001b[39m\u001b[38;5;124m'\u001b[39m : pred_dates , \n\u001b[1;32m---> 56\u001b[0m                         \u001b[38;5;124m'\u001b[39m\u001b[38;5;124mmodel_date\u001b[39m\u001b[38;5;124m'\u001b[39m : [\u001b[38;5;28;43mmax\u001b[39;49m\u001b[43m(\u001b[49m\u001b[38;5;28;43mself\u001b[39;49m\u001b[38;5;241;43m.\u001b[39;49m\u001b[43mreg_model\u001b[49m\u001b[38;5;241;43m.\u001b[39;49m\u001b[43mmodel_dates\u001b[49m\u001b[43m[\u001b[49m\u001b[38;5;28;43mself\u001b[39;49m\u001b[38;5;241;43m.\u001b[39;49m\u001b[43mreg_model\u001b[49m\u001b[38;5;241;43m.\u001b[39;49m\u001b[43mmodel_dates\u001b[49m\u001b[43m  \u001b[49m\u001b[38;5;241;43m<\u001b[39;49m\u001b[43m \u001b[49m\u001b[43md\u001b[49m\u001b[43m]\u001b[49m\u001b[43m)\u001b[49m \u001b[38;5;28;01mfor\u001b[39;00m d \u001b[38;5;129;01min\u001b[39;00m pred_dates] , \n\u001b[0;32m     57\u001b[0m                         \u001b[38;5;124m'\u001b[39m\u001b[38;5;124mcalculated\u001b[39m\u001b[38;5;124m'\u001b[39m : \u001b[38;5;241m0\u001b[39m})\n\u001b[0;32m     58\u001b[0m torch\u001b[38;5;241m.\u001b[39mset_grad_enabled(\u001b[38;5;28;01mFalse\u001b[39;00m)\n\u001b[0;32m     59\u001b[0m df_list \u001b[38;5;241m=\u001b[39m []\n",
      "\u001b[1;31mValueError\u001b[0m: max() arg is an empty sequence"
     ]
    }
   ],
   "source": [
    "from src.api import DataAPI , ModelAPI\n",
    "\n",
    "#print('update_data: ' + '*' * 20)\n",
    "DataAPI.update()\n",
    "\n",
    "ModelAPI.update()\n"
   ]
  },
  {
   "cell_type": "code",
   "execution_count": 1,
   "metadata": {},
   "outputs": [
    {
     "name": "stdout",
     "output_type": "stream",
     "text": [
      "D:\\Coding\\learndl\\learndl\\configs\\nn\\ts_mixer.yaml does not exist, trying default.yaml\n",
      "Load  2 DataBlocks...... finished! Cost 0.09 secs\n",
      "Align 2 DataBlocks...... finished! Cost 0.23 secs\n",
      "Pre-Norming method of [day] : {'divlast': True, 'histnorm': True}\n"
     ]
    },
    {
     "name": "stderr",
     "output_type": "stream",
     "text": [
      "100%|██████████| 212/212 [00:00<?, ?it/s]\n"
     ]
    },
    {
     "name": "stdout",
     "output_type": "stream",
     "text": [
      "x shape is torch.Size([5169, 30, 6])\n",
      "y shape is torch.Size([5169, 1])\n",
      "Test Forward Success\n",
      "x shape is torch.Size([5169, 30, 6])\n",
      "y shape is torch.Size([5169, 1])\n",
      "Test Forward Success\n",
      "score function of [spearman] calculated and success!\n",
      "loss function of [ccc] calculated and success!\n",
      "metrics :  Metrics(loss=ccc,metric=spearman,penalty=['hidden_corr'])\n",
      "Test Metrics Success\n"
     ]
    },
    {
     "data": {
      "text/plain": [
       "ModelTestor(model=NNPredictor(model_full_name=ts_mixer_day_ShortTest@0@0@0)) , check [.model][.batch_data][.metrics]"
      ]
     },
     "execution_count": 1,
     "metadata": {},
     "output_type": "execute_result"
    }
   ],
   "source": [
    "from src.api import ModelAPI\n",
    "model = ModelAPI.Testor('ts_mixer')\n",
    "model.try_forward()\n",
    "model.try_metrics()"
   ]
  }
 ],
 "metadata": {
  "kernelspec": {
   "display_name": "Python 3",
   "language": "python",
   "name": "python3"
  },
  "language_info": {
   "codemirror_mode": {
    "name": "ipython",
    "version": 3
   },
   "file_extension": ".py",
   "mimetype": "text/x-python",
   "name": "python",
   "nbconvert_exporter": "python",
   "pygments_lexer": "ipython3",
   "version": "3.11.8"
  }
 },
 "nbformat": 4,
 "nbformat_minor": 2
}
