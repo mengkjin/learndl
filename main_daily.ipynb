{
 "cells": [
  {
   "cell_type": "code",
   "execution_count": 1,
   "metadata": {},
   "outputs": [
    {
     "name": "stdout",
     "output_type": "stream",
     "text": [
      "Update Files\n",
      "Tue May 28 09:41:34 2024 : Updated ~ data\\DataBase\\DB_information\\calendar.feather Done! Cost 0.04 Secs\n",
      "Tue May 28 09:41:34 2024 : Updated ~ data\\DataBase\\DB_information\\description.feather Done! Cost 0.06 Secs\n",
      "Tue May 28 09:41:34 2024 : Updated ~ data\\DataBase\\DB_information\\st.feather Done! Cost 0.01 Secs\n",
      "Tue May 28 09:41:36 2024 : Updated ~ data\\DataBase\\DB_information\\industry.feather Done! Cost 2.60 Secs\n",
      "Tue May 28 09:41:42 2024 : Updated ~ data\\DataBase\\DB_information\\concepts.feather Done! Cost 5.87 Secs\n",
      "Tue May 28 09:41:56 2024 : download since!\n",
      "Connection and Factor preparation finished!\n",
      "Tue May 28 09:41:56 2024 : sellside/haitong.hf_factors from 20240528 to 20240528, total 1 periods\n",
      "Start sellside/haitong.hf_factors:20240528-20240528 \n",
      "Done sellside/haitong.hf_factors:20240528-20240528, cost 6.1 Secs\n",
      "Tue May 28 09:42:03 2024 : sellside/haitong.dl_factors from 20240528 to 20240528, total 1 periods\n",
      "Start sellside/haitong.dl_factors:20240528-20240528 \n",
      "Done sellside/haitong.dl_factors:20240528-20240528, cost 92.2 Secs\n",
      "Tue May 28 09:43:35 2024 : sellside/dongfang.hfq_chars from 20240528 to 20240528, total 1 periods\n",
      "Start sellside/dongfang.hfq_chars:20240528-20240528 \n",
      "Done sellside/dongfang.hfq_chars:20240528-20240528, cost 0.8 Secs\n",
      "Tue May 28 09:43:36 2024 : sellside/dongfang.l2_chars from 20240528 to 20240528, total 1 periods\n",
      "Start sellside/dongfang.l2_chars:20240528-20240528 \n",
      "Done sellside/dongfang.l2_chars:20240528-20240528, cost 11.9 Secs\n",
      "Tue May 28 09:43:48 2024 : sellside/dongfang.ms_chars from 20240528 to 20240528, total 1 periods\n",
      "Start sellside/dongfang.ms_chars:20240528-20240528 \n",
      "Done sellside/dongfang.ms_chars:20240528-20240528, cost 107.4 Secs\n",
      "Tue May 28 09:45:35 2024 : sellside/dongfang.order_flow from 20240528 to 20240528, total 1 periods\n",
      "Start sellside/dongfang.order_flow:20240528-20240528 \n",
      "Done sellside/dongfang.order_flow:20240528-20240528, cost 0.1 Secs\n",
      "Tue May 28 09:45:35 2024 : sellside/dongfang.gp from 20240525 to 20240528, total 1 periods\n",
      "Start sellside/dongfang.gp:20240525-20240528 \n",
      "Done sellside/dongfang.gp:20240525-20240528, cost 1.8 Secs\n",
      "Tue May 28 09:45:37 2024 : sellside/dongfang.tra from 20240525 to 20240528, total 1 periods\n",
      "Start sellside/dongfang.tra:20240525-20240528 \n",
      "Done sellside/dongfang.tra:20240525-20240528, cost 1.4 Secs\n",
      "Tue May 28 09:45:39 2024 : sellside/dongfang.hist from 20240525 to 20240528, total 1 periods\n",
      "Start sellside/dongfang.hist:20240525-20240528 \n",
      "Done sellside/dongfang.hist:20240525-20240528, cost 1.2 Secs\n",
      "Tue May 28 09:45:40 2024 : sellside/dongfang.scores_v0 from 20240528 to 20240528, total 1 periods\n",
      "Start sellside/dongfang.scores_v0:20240528-20240528 \n",
      "Done sellside/dongfang.scores_v0:20240528-20240528, cost 1.4 Secs\n",
      "Tue May 28 09:45:41 2024 : sellside/dongfang.factorvae from 20240525 to 20240528, total 1 periods\n",
      "Start sellside/dongfang.factorvae:20240525-20240528 \n",
      "Done sellside/dongfang.factorvae:20240525-20240528, cost 1.2 Secs\n",
      "Tue May 28 09:45:43 2024 : sellside/kaiyuan.positive from 20240501 to 20240528, total 1 periods\n",
      "Start sellside/kaiyuan.positive:20240501-20240528 \n",
      "Done sellside/kaiyuan.positive:20240501-20240528, cost 2.8 Secs\n",
      "Tue May 28 09:45:45 2024 : sellside/kaiyuan.negative from 20240501 to 20240528, total 1 periods\n",
      "Start sellside/kaiyuan.negative:20240501-20240528 \n",
      "Done sellside/kaiyuan.negative:20240501-20240528, cost 1.7 Secs\n",
      "Tue May 28 09:45:47 2024 : sellside/huatai.dl_factors from 20240528 to 20240528, total 1 periods\n",
      "Start sellside/huatai.dl_factors:20240528-20240528 \n",
      "Done sellside/huatai.dl_factors:20240528-20240528, cost 0.7 Secs\n",
      "Tue May 28 09:45:48 2024 : All Updates Done! Cost 254.32 Secs\n",
      "predict is True , Data Processing start!\n",
      "4 datas :['y', 'day', '30m', 'risk']\n",
      "y blocks loading start!\n",
      " --> labels blocks reading [ret10_lag] DataBase...... finished! Cost 1.24 secs\n",
      " --> labels blocks reading [ret20_lag] DataBase...... finished! Cost 1.01 secs\n",
      " --> labels blocks merging (2)...... finished! Cost 0.12 secs\n",
      " --> models blocks reading [risk_exp] DataBase...... finished! Cost 3.57 secs\n",
      "y blocks loading finished! Cost 6.27 secs\n",
      "y blocks process...... finished! Cost 6.27 secs\n",
      "y blocks masking...... finished! Cost 0.15 secs\n",
      "y blocks saving ...... finished! Cost 0.17 secs\n",
      "y blocks norming...... finished! Cost 0.00 secs\n",
      "y finished! Cost 13.08 Seconds\n",
      "--------------------------------------------------------------------------------\n",
      "day blocks loading start!\n",
      " --> trade blocks reading [day] DataBase...... finished! Cost 2.31 secs\n",
      "day blocks loading finished! Cost 2.34 secs\n",
      "day blocks process...... finished! Cost 0.19 secs\n",
      "day blocks masking...... finished! Cost 0.16 secs\n",
      "day blocks saving ...... finished! Cost 0.20 secs\n",
      "day blocks norming...... finished! Cost 0.00 secs\n",
      "day finished! Cost 3.02 Seconds\n",
      "--------------------------------------------------------------------------------\n",
      "30m blocks loading start!\n",
      " --> trade blocks reading [30min] DataBase...... finished! Cost 7.21 secs\n",
      " --> trade blocks reading [day] DataBase...... finished! Cost 1.21 secs\n",
      "30m blocks loading finished! Cost 8.48 secs\n",
      "30m blocks process...... finished! Cost 1.69 secs\n",
      "30m blocks masking...... finished! Cost 0.19 secs\n",
      "30m blocks saving ...... finished! Cost 2.05 secs\n",
      "30m blocks norming...... finished! Cost 0.00 secs\n",
      "30m finished! Cost 12.53 Seconds\n",
      "--------------------------------------------------------------------------------\n",
      "risk blocks loading start!\n",
      " --> models blocks reading [risk_exp] DataBase...... finished! Cost 1.60 secs\n",
      "risk blocks loading finished! Cost 1.64 secs\n",
      "risk blocks process...... finished! Cost 0.00 secs\n",
      "risk blocks masking...... finished! Cost 0.10 secs\n",
      "risk blocks saving ...... finished! Cost 0.24 secs\n",
      "risk blocks norming...... finished! Cost 0.00 secs\n",
      "risk finished! Cost 2.07 Seconds\n",
      "--------------------------------------------------------------------------------\n",
      "Data Processing Finished! Cost 30.70 Seconds\n",
      "Load  2 DataBlocks...... finished! Cost 0.07 secs\n",
      "Align 2 DataBlocks...... finished! Cost 0.20 secs\n",
      "Pre-Norming method of [day] : {'divlast': True, 'histnorm': True}\n",
      "20231201 new\n",
      "Load  2 DataBlocks...... finished! Cost 0.05 secs\n",
      "Align 2 DataBlocks...... finished! Cost 0.17 secs\n",
      "Pre-Norming method of [day] : {'divlast': True, 'histnorm': True}\n",
      "20231201 new\n",
      "Load  2 DataBlocks...... finished! Cost 0.06 secs\n",
      "Align 2 DataBlocks...... finished! Cost 0.22 secs\n",
      "Pre-Norming method of [day] : {'divlast': True, 'histnorm': True}\n",
      "20231201 new\n"
     ]
    }
   ],
   "source": [
    "from src import API\n",
    "\n",
    "API.DataAPI.update()\n",
    "API.DataAPI.prepare_train_data()\n",
    "API.Predictor.update_factors()"
   ]
  },
  {
   "cell_type": "code",
   "execution_count": 2,
   "metadata": {},
   "outputs": [
    {
     "name": "stdout",
     "output_type": "stream",
     "text": [
      "Load  2 DataBlocks ..."
     ]
    },
    {
     "name": "stdout",
     "output_type": "stream",
     "text": [
      "... cost 0.22 secs\n",
      "Align 2 DataBlocks ...... cost 0.21 secs\n",
      "Pre-Norming method of [day] : {'divlast': True, 'histnorm': True}\n",
      "x shape is torch.Size([5064, 30, 6])\n",
      "y shape is torch.Size([5064, 1])\n",
      "Test Forward Success\n",
      "metrics :  Metrics.MetricOutput(loss=tensor(1.0688, grad_fn=<AddBackward0>), score=-0.015420470386743546, loss_item=1.068833589553833, penalty=0.0, losses=tensor(1.0688, grad_fn=<ExpBackward0>))\n",
      "Test Metrics Success\n"
     ]
    }
   ],
   "source": [
    "from src import API\n",
    "API.ModelTestor.new('ts_mixer').try_metrics()"
   ]
  }
 ],
 "metadata": {
  "kernelspec": {
   "display_name": "Python 3",
   "language": "python",
   "name": "python3"
  },
  "language_info": {
   "codemirror_mode": {
    "name": "ipython",
    "version": 3
   },
   "file_extension": ".py",
   "mimetype": "text/x-python",
   "name": "python",
   "nbconvert_exporter": "python",
   "pygments_lexer": "ipython3",
   "version": "3.11.8"
  }
 },
 "nbformat": 4,
 "nbformat_minor": 2
}
