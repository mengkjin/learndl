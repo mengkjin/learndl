{
 "cells": [
  {
   "cell_type": "code",
   "execution_count": 1,
   "metadata": {},
   "outputs": [
    {
     "name": "stdout",
     "output_type": "stream",
     "text": [
      "Update Files\n",
      "Mon Jun 17 23:39:54 2024 : Updated ~ data\\DataBase\\DB_information\\calendar.feather Done! Cost 0.03 Secs\n",
      "Mon Jun 17 23:39:54 2024 : Updated ~ data\\DataBase\\DB_information\\description.feather Done! Cost 0.04 Secs\n",
      "Mon Jun 17 23:39:54 2024 : Updated ~ data\\DataBase\\DB_information\\st.feather Done! Cost 0.01 Secs\n",
      "Mon Jun 17 23:39:56 2024 : Updated ~ data\\DataBase\\DB_information\\industry.feather Done! Cost 2.35 Secs\n",
      "Mon Jun 17 23:40:01 2024 : Updated ~ data\\DataBase\\DB_information\\concepts.feather Done! Cost 4.42 Secs\n",
      "Mon Jun 17 23:40:02 2024 : Updated ~ data\\DataBase\\DB_models\\longcl_exp\\2024\\longcl_exp.20240613.feather Done! Cost 0.15 Secs\n",
      "Mon Jun 17 23:40:02 2024 : Updated ~ data\\DataBase\\DB_models\\longcl_exp\\2024\\longcl_exp.20240614.feather Done! Cost 0.08 Secs\n",
      "Mon Jun 17 23:40:02 2024 : Updated ~ data\\DataBase\\DB_models\\risk_exp\\2024\\risk_exp.20240617.feather Done! Cost 0.05 Secs\n",
      "Mon Jun 17 23:40:02 2024 : Updated ~ data\\DataBase\\DB_models\\risk_cov\\2024\\risk_cov.20240617.feather Done! Cost 0.03 Secs\n",
      "Mon Jun 17 23:40:02 2024 : Updated ~ data\\DataBase\\DB_models\\risk_spec\\2024\\risk_spec.20240617.feather Done! Cost 0.02 Secs\n",
      "Mon Jun 17 23:40:04 2024 : Updated ~ data\\DataBase\\DB_trade\\day\\2024\\day.20240617.feather Done! Cost 0.03 Secs\n",
      "Mon Jun 17 23:40:05 2024 : Updated ~ data\\DataBase\\DB_trade\\5day\\2024\\5day.20240617.feather Done! Cost 0.28 Secs\n",
      "Mon Jun 17 23:40:05 2024 : Updated ~ data\\DataBase\\DB_trade\\10day\\2024\\10day.20240617.feather Done! Cost 0.43 Secs\n",
      "Mon Jun 17 23:40:06 2024 : Updated ~ data\\DataBase\\DB_trade\\20day\\2024\\20day.20240617.feather Done! Cost 0.87 Secs\n",
      "Mon Jun 17 23:40:09 2024 : Updated ~ data\\DataBase\\DB_trade\\min\\2024\\min.20240617.feather Done! Cost 3.02 Secs\n",
      "Mon Jun 17 23:40:09 2024 : Updated ~ data\\DataBase\\DB_trade\\5min\\2024\\5min.20240617.feather Done! Cost 0.28 Secs\n",
      "Mon Jun 17 23:40:10 2024 : Updated ~ data\\DataBase\\DB_trade\\10min\\2024\\10min.20240617.feather Done! Cost 0.26 Secs\n",
      "Mon Jun 17 23:40:10 2024 : Updated ~ data\\DataBase\\DB_trade\\15min\\2024\\15min.20240617.feather Done! Cost 0.24 Secs\n",
      "Mon Jun 17 23:40:10 2024 : Updated ~ data\\DataBase\\DB_trade\\30min\\2024\\30min.20240617.feather Done! Cost 0.23 Secs\n",
      "Mon Jun 17 23:40:10 2024 : Updated ~ data\\DataBase\\DB_trade\\60min\\2024\\60min.20240617.feather Done! Cost 0.24 Secs\n",
      "Mon Jun 17 23:40:13 2024 : Updated ~ data\\DataBase\\DB_labels\\ret20_lag\\2024\\ret20_lag.20240516.feather Done! Cost 0.53 Secs\n",
      "Mon Jun 17 23:40:13 2024 : Updated ~ data\\DataBase\\DB_labels\\ret20\\2024\\ret20.20240517.feather Done! Cost 0.30 Secs\n",
      "Mon Jun 17 23:40:15 2024 : Updated ~ data\\DataBase\\DB_labels\\ret10_lag\\2024\\ret10_lag.20240530.feather Done! Cost 0.20 Secs\n",
      "Mon Jun 17 23:40:16 2024 : Updated ~ data\\DataBase\\DB_labels\\ret10\\2024\\ret10.20240531.feather Done! Cost 0.21 Secs\n",
      "Mon Jun 17 23:40:18 2024 : Updated ~ data\\DataBase\\DB_labels\\ret5_lag\\2024\\ret5_lag.20240606.feather Done! Cost 0.17 Secs\n",
      "Mon Jun 17 23:40:18 2024 : Updated ~ data\\DataBase\\DB_labels\\ret5\\2024\\ret5.20240607.feather Done! Cost 0.19 Secs\n",
      "Mon Jun 17 23:40:22 2024 : Updated ~ data\\DataBase\\DB_benchmark\\csi300\\2024\\csi300.20240614.feather Done! Cost 0.00 Secs\n",
      "Mon Jun 17 23:40:22 2024 : Updated ~ data\\DataBase\\DB_benchmark\\csi500\\2024\\csi500.20240614.feather Done! Cost 0.02 Secs\n",
      "Mon Jun 17 23:40:22 2024 : Updated ~ data\\DataBase\\DB_benchmark\\csi1000\\2024\\csi1000.20240614.feather Done! Cost 0.00 Secs\n",
      "Mon Jun 17 23:40:22 2024 : Updated ~ data\\DataBase\\DB_benchmark\\csi300\\2024\\csi300.20240617.feather Done! Cost 0.01 Secs\n",
      "Mon Jun 17 23:40:22 2024 : Updated ~ data\\DataBase\\DB_benchmark\\csi500\\2024\\csi500.20240617.feather Done! Cost 0.02 Secs\n",
      "Mon Jun 17 23:40:22 2024 : Updated ~ data\\DataBase\\DB_benchmark\\csi1000\\2024\\csi1000.20240617.feather Done! Cost 0.00 Secs\n",
      "Mon Jun 17 23:40:22 2024 : download since!\n",
      "Connection and Factor preparation finished!\n",
      "Mon Jun 17 23:40:22 2024 : sellside/haitong.hf_factors from 20240615 to 20240617, total 1 periods\n",
      "Start sellside/haitong.hf_factors:20240615-20240617 \n",
      "Done sellside/haitong.hf_factors:20240615-20240617, cost 9.8 Secs\n",
      "Mon Jun 17 23:40:32 2024 : sellside/haitong.dl_factors from 20240615 to 20240617, total 1 periods\n",
      "Start sellside/haitong.dl_factors:20240615-20240617 \n",
      "Done sellside/haitong.dl_factors:20240615-20240617, cost 129.0 Secs\n",
      "Mon Jun 17 23:42:41 2024 : sellside/dongfang.hfq_chars from 20240615 to 20240617, total 1 periods\n",
      "Start sellside/dongfang.hfq_chars:20240615-20240617 \n",
      "Done sellside/dongfang.hfq_chars:20240615-20240617, cost 2.7 Secs\n",
      "Mon Jun 17 23:42:44 2024 : sellside/dongfang.l2_chars from 20240615 to 20240617, total 1 periods\n",
      "Start sellside/dongfang.l2_chars:20240615-20240617 \n",
      "Done sellside/dongfang.l2_chars:20240615-20240617, cost 27.8 Secs\n",
      "Mon Jun 17 23:43:12 2024 : sellside/dongfang.ms_chars from 20240615 to 20240617, total 1 periods\n",
      "Start sellside/dongfang.ms_chars:20240615-20240617 \n",
      "Done sellside/dongfang.ms_chars:20240615-20240617, cost 132.8 Secs\n",
      "Mon Jun 17 23:45:25 2024 : sellside/dongfang.order_flow from 20240615 to 20240617, total 1 periods\n",
      "Start sellside/dongfang.order_flow:20240615-20240617 \n",
      "Done sellside/dongfang.order_flow:20240615-20240617, cost 1.2 Secs\n",
      "Mon Jun 17 23:45:26 2024 : sellside/dongfang.gp from 20240615 to 20240617, total 1 periods\n",
      "Start sellside/dongfang.gp:20240615-20240617 \n",
      "Done sellside/dongfang.gp:20240615-20240617, cost 3.1 Secs\n",
      "Mon Jun 17 23:45:29 2024 : sellside/dongfang.tra from 20240615 to 20240617, total 1 periods\n",
      "Start sellside/dongfang.tra:20240615-20240617 \n",
      "Done sellside/dongfang.tra:20240615-20240617, cost 1.5 Secs\n",
      "Mon Jun 17 23:45:31 2024 : sellside/dongfang.hist from 20240615 to 20240617, total 1 periods\n",
      "Start sellside/dongfang.hist:20240615-20240617 \n",
      "Done sellside/dongfang.hist:20240615-20240617, cost 1.2 Secs\n",
      "Mon Jun 17 23:45:32 2024 : sellside/dongfang.scores_v0 from 20240615 to 20240617, total 1 periods\n",
      "Start sellside/dongfang.scores_v0:20240615-20240617 \n",
      "Done sellside/dongfang.scores_v0:20240615-20240617, cost 1.7 Secs\n",
      "Mon Jun 17 23:45:34 2024 : sellside/dongfang.factorvae from 20240615 to 20240617, total 1 periods\n",
      "Start sellside/dongfang.factorvae:20240615-20240617 \n",
      "Done sellside/dongfang.factorvae:20240615-20240617, cost 1.9 Secs\n",
      "Mon Jun 17 23:45:36 2024 : sellside/huatai.dl_factors from 20240615 to 20240617, total 1 periods\n",
      "Start sellside/huatai.dl_factors:20240615-20240617 \n",
      "Done sellside/huatai.dl_factors:20240615-20240617, cost 1.8 Secs\n",
      "Mon Jun 17 23:45:38 2024 : All Updates Done! Cost 343.65 Secs\n",
      "--------------------------------------------------------------------------------\n",
      "predict is True , Data Processing start!\n",
      "4 datas :['y', 'day', '30m', 'risk']\n",
      "y blocks loading start!\n",
      " --> labels blocks reading [ret10_lag] DataBase...... finished! Cost 0.89 secs\n",
      " --> labels blocks reading [ret20_lag] DataBase...... finished! Cost 0.82 secs\n",
      " --> labels blocks merging (2)...... finished! Cost 0.14 secs\n",
      " --> models blocks reading [risk_exp] DataBase...... finished! Cost 3.28 secs\n",
      "y blocks loading finished! Cost 5.40 secs\n",
      "y blocks process...... finished! Cost 4.15 secs\n",
      "y blocks masking...... finished! Cost 0.10 secs\n",
      "y blocks saving ...... finished! Cost 0.11 secs\n",
      "y blocks norming...... finished! Cost 0.00 secs\n",
      "y finished! Cost 10.03 Seconds\n",
      "--------------------------------------------------------------------------------\n",
      "day blocks loading start!\n",
      " --> trade blocks reading [day] DataBase...... finished! Cost 1.42 secs\n",
      "day blocks loading finished! Cost 1.46 secs\n",
      "day blocks process...... finished! Cost 0.11 secs\n",
      "day blocks masking...... finished! Cost 0.08 secs\n",
      "day blocks saving ...... finished! Cost 0.10 secs\n",
      "day blocks norming...... finished! Cost 0.00 secs\n",
      "day finished! Cost 1.88 Seconds\n",
      "--------------------------------------------------------------------------------\n",
      "30m blocks loading start!\n",
      " --> trade blocks reading [30min] DataBase...... finished! Cost 6.08 secs\n",
      " --> trade blocks reading [day] DataBase...... finished! Cost 1.03 secs\n",
      "30m blocks loading finished! Cost 7.16 secs\n",
      "30m blocks process...... finished! Cost 1.41 secs\n",
      "30m blocks masking...... finished! Cost 0.15 secs\n",
      "30m blocks saving ...... finished! Cost 1.71 secs\n",
      "30m blocks norming...... finished! Cost 0.00 secs\n",
      "30m finished! Cost 10.52 Seconds\n",
      "--------------------------------------------------------------------------------\n",
      "risk blocks loading start!\n",
      " --> models blocks reading [risk_exp] DataBase...... finished! Cost 1.31 secs\n",
      "risk blocks loading finished! Cost 1.34 secs\n",
      "risk blocks process...... finished! Cost 0.00 secs\n",
      "risk blocks masking...... finished! Cost 0.09 secs\n",
      "risk blocks saving ...... finished! Cost 0.19 secs\n",
      "risk blocks norming...... finished! Cost 0.00 secs\n",
      "risk finished! Cost 1.69 Seconds\n",
      "--------------------------------------------------------------------------------\n",
      "Data Processing Finished! Cost 24.12 Seconds\n",
      "--------------------------------------------------------------------------------\n",
      "Finish model [gru_day] predicting!\n",
      "Finish model [gruRTN_day] predicting!\n",
      "Finish model [gruRES_day] predicting!\n",
      "--------------------------------------------------------------------------------\n"
     ]
    }
   ],
   "source": [
    "from src import API\n",
    "\n",
    "API.DataAPI.update()\n",
    "API.DataAPI.prepare_train_data()\n",
    "API.Predictor.update_factors()"
   ]
  },
  {
   "cell_type": "code",
   "execution_count": 2,
   "metadata": {},
   "outputs": [
    {
     "name": "stdout",
     "output_type": "stream",
     "text": [
      "Load  2 DataBlocks...... finished! Cost 0.11 secs\n",
      "Align 2 DataBlocks...... finished! Cost 0.17 secs\n",
      "Pre-Norming method of [day] : {'divlast': True, 'histnorm': True}\n",
      "20231201 new\n",
      "Load  2 DataBlocks...... finished! Cost 0.03 secs\n",
      "Align 2 DataBlocks...... finished! Cost 0.15 secs\n",
      "Pre-Norming method of [day] : {'divlast': True, 'histnorm': True}\n",
      "20231201 new\n",
      "Load  2 DataBlocks...... finished! Cost 0.03 secs\n",
      "Align 2 DataBlocks...... finished! Cost 0.17 secs\n",
      "Pre-Norming method of [day] : {'divlast': True, 'histnorm': True}\n",
      "20231201 new\n"
     ]
    }
   ],
   "source": [
    "from src import API\n",
    "API.Predictor.update_factors()"
   ]
  },
  {
   "cell_type": "code",
   "execution_count": 2,
   "metadata": {},
   "outputs": [
    {
     "name": "stdout",
     "output_type": "stream",
     "text": [
      "Load  2 DataBlocks ..."
     ]
    },
    {
     "name": "stdout",
     "output_type": "stream",
     "text": [
      "... cost 0.22 secs\n",
      "Align 2 DataBlocks ...... cost 0.21 secs\n",
      "Pre-Norming method of [day] : {'divlast': True, 'histnorm': True}\n",
      "x shape is torch.Size([5064, 30, 6])\n",
      "y shape is torch.Size([5064, 1])\n",
      "Test Forward Success\n",
      "metrics :  Metrics.MetricOutput(loss=tensor(1.0688, grad_fn=<AddBackward0>), score=-0.015420470386743546, loss_item=1.068833589553833, penalty=0.0, losses=tensor(1.0688, grad_fn=<ExpBackward0>))\n",
      "Test Metrics Success\n"
     ]
    }
   ],
   "source": [
    "from src import API\n",
    "API.ModelTestor.new('ts_mixer').try_metrics()"
   ]
  }
 ],
 "metadata": {
  "kernelspec": {
   "display_name": "Python 3",
   "language": "python",
   "name": "python3"
  },
  "language_info": {
   "codemirror_mode": {
    "name": "ipython",
    "version": 3
   },
   "file_extension": ".py",
   "mimetype": "text/x-python",
   "name": "python",
   "nbconvert_exporter": "python",
   "pygments_lexer": "ipython3",
   "version": "3.11.8"
  }
 },
 "nbformat": 4,
 "nbformat_minor": 2
}
