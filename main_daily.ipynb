{
 "cells": [
  {
   "cell_type": "code",
   "execution_count": 7,
   "metadata": {},
   "outputs": [
    {
     "name": "stdout",
     "output_type": "stream",
     "text": [
      "Load  2 DataBlocks ...... cost 0.09 secs\n",
      "Align 2 DataBlocks ...... cost 0.08 secs\n",
      "20231201 new\n",
      "Pre-Norming method of [day] : [endpoint_division(True) , history_standardize(True)]\n",
      "Load  2 DataBlocks ...... cost 0.05 secs\n",
      "Align 2 DataBlocks ...... cost 0.09 secs\n",
      "20231201 new\n",
      "Pre-Norming method of [day] : [endpoint_division(True) , history_standardize(True)]\n",
      "Load  2 DataBlocks ...... cost 0.04 secs\n",
      "Align 2 DataBlocks ...... cost 0.10 secs\n",
      "20231201 new\n",
      "Pre-Norming method of [day] : [endpoint_division(True) , history_standardize(True)]\n"
     ]
    },
    {
     "data": {
      "text/plain": [
       "[None, None, None]"
      ]
     },
     "execution_count": 7,
     "metadata": {},
     "output_type": "execute_result"
    }
   ],
   "source": [
    "import src.data as data\n",
    "\n",
    "data.DataFetcher.main()\n",
    "data.PreProcess.main(False)\n",
    "\n",
    "from run_model import ModelPred\n",
    "\n",
    "model_preds = [\n",
    "    ModelPred('gru_day'    , 'swalast' , 0 , 'gru_day_V0') ,\n",
    "    ModelPred('gruRTN_day' , 'swalast' , 0 , 'gruRTN_day_V0') ,\n",
    "    ModelPred('gruRES_day' , 'swalast' , 0 , 'gruRES_day_V0')\n",
    "]\n",
    "[md.get_df().deploy() for md in model_preds]"
   ]
  },
  {
   "cell_type": "code",
   "execution_count": 1,
   "metadata": {},
   "outputs": [
    {
     "name": "stdout",
     "output_type": "stream",
     "text": [
      "d:\\Coding\\learndl\\learndl\\model/gru_day/model_gru.yaml\n",
      "Load  2 DataBlocks ...... cost 0.08 secs\n",
      "Align 2 DataBlocks ...... cost 0.11 secs\n",
      "20231201 new\n",
      "Pre-Norming method of [day] : [endpoint_division(True) , history_standardize(True)]\n"
     ]
    },
    {
     "data": {
      "text/plain": [
       "ModelPred(model_name='gru_day', model_type='swalast', model_num=0, alias='gru_day_V0', df=       secid      date   gru_day\n",
       "0          1  20240401  0.754627\n",
       "1          2  20240401 -1.241937\n",
       "2          4  20240401 -8.535885\n",
       "3          6  20240401 -0.204401\n",
       "4          7  20240401  1.486538\n",
       "...      ...       ...       ...\n",
       "5096  688799  20240403  1.810010\n",
       "5097  688800  20240403  2.127807\n",
       "5098  688819  20240403  2.988075\n",
       "5099  688981  20240403  0.242482\n",
       "5100  689009  20240403  0.015975\n",
       "\n",
       "[15305 rows x 3 columns])"
      ]
     },
     "execution_count": 1,
     "metadata": {},
     "output_type": "execute_result"
    }
   ],
   "source": [
    "\n",
    "\n",
    "from run_model import ModelPred\n",
    "md = ModelPred('gru_day' , 'swalast' , 0 , 'gru_day_V0')\n",
    "md.get_df()"
   ]
  }
 ],
 "metadata": {
  "kernelspec": {
   "display_name": "Python 3",
   "language": "python",
   "name": "python3"
  },
  "language_info": {
   "codemirror_mode": {
    "name": "ipython",
    "version": 3
   },
   "file_extension": ".py",
   "mimetype": "text/x-python",
   "name": "python",
   "nbconvert_exporter": "python",
   "pygments_lexer": "ipython3",
   "version": "3.11.8"
  }
 },
 "nbformat": 4,
 "nbformat_minor": 2
}
