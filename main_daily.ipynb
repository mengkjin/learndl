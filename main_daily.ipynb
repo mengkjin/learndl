{
 "cells": [
  {
   "cell_type": "code",
   "execution_count": 1,
   "metadata": {},
   "outputs": [
    {
     "name": "stdout",
     "output_type": "stream",
     "text": [
      "Use device name: NVIDIA GeForce RTX 4090\n",
      "Unpack Update Files\n",
      "['/home/mengkjin/Workspace/SharedFolder/DB_updater.240528000213.tar', '/home/mengkjin/Workspace/SharedFolder/DB_updater.240528094134.tar', '/home/mengkjin/Workspace/SharedFolder/DB_updater.240529072117.tar', '/home/mengkjin/Workspace/SharedFolder/DB_updater.240529231835.tar', '/home/mengkjin/Workspace/SharedFolder/DB_updater.240531070145.tar', '/home/mengkjin/Workspace/SharedFolder/DB_updater.240531223956.tar']\n",
      "Sun Jun  2 22:03:20 2024 : download since!\n",
      "Connection and Factor preparation finished!\n",
      "Sun Jun  2 22:03:20 2024 : sellside/haitong.hf_factors from 20240525 to 20240602, total 1 periods\n",
      "Start sellside/haitong.hf_factors:20240525-20240602 \n",
      "Done sellside/haitong.hf_factors:20240525-20240602, cost 8.4 Secs\n",
      "Sun Jun  2 22:03:28 2024 : sellside/haitong.dl_factors from 20240525 to 20240602, total 1 periods\n",
      "Start sellside/haitong.dl_factors:20240525-20240602 \n",
      "Done sellside/haitong.dl_factors:20240525-20240602, cost 225.3 Secs\n",
      "Sun Jun  2 22:07:13 2024 : sellside/dongfang.hfq_chars from 20240525 to 20240602, total 1 periods\n",
      "Start sellside/dongfang.hfq_chars:20240525-20240602 \n",
      "Done sellside/dongfang.hfq_chars:20240525-20240602, cost 10.2 Secs\n",
      "Sun Jun  2 22:07:24 2024 : sellside/dongfang.l2_chars from 20240525 to 20240602, total 1 periods\n",
      "Start sellside/dongfang.l2_chars:20240525-20240602 \n",
      "Done sellside/dongfang.l2_chars:20240525-20240602, cost 97.3 Secs\n",
      "Sun Jun  2 22:09:01 2024 : sellside/dongfang.ms_chars from 20240525 to 20240602, total 1 periods\n",
      "Start sellside/dongfang.ms_chars:20240525-20240602 \n",
      "Done sellside/dongfang.ms_chars:20240525-20240602, cost 161.6 Secs\n",
      "Sun Jun  2 22:11:43 2024 : sellside/dongfang.order_flow from 20240525 to 20240602, total 1 periods\n",
      "Start sellside/dongfang.order_flow:20240525-20240602 \n",
      "Done sellside/dongfang.order_flow:20240525-20240602, cost 4.2 Secs\n",
      "Sun Jun  2 22:11:47 2024 : sellside/dongfang.gp from 20240525 to 20240602, total 1 periods\n",
      "Start sellside/dongfang.gp:20240525-20240602 \n",
      "Done sellside/dongfang.gp:20240525-20240602, cost 3.2 Secs\n",
      "Sun Jun  2 22:11:50 2024 : sellside/dongfang.tra from 20240525 to 20240602, total 1 periods\n",
      "Start sellside/dongfang.tra:20240525-20240602 \n",
      "Done sellside/dongfang.tra:20240525-20240602, cost 4.4 Secs\n",
      "Sun Jun  2 22:11:54 2024 : sellside/dongfang.hist from 20240525 to 20240602, total 1 periods\n",
      "Start sellside/dongfang.hist:20240525-20240602 \n",
      "Done sellside/dongfang.hist:20240525-20240602, cost 2.5 Secs\n",
      "Sun Jun  2 22:11:57 2024 : sellside/dongfang.scores_v0 from 20240525 to 20240602, total 1 periods\n",
      "Start sellside/dongfang.scores_v0:20240525-20240602 \n",
      "Done sellside/dongfang.scores_v0:20240525-20240602, cost 3.1 Secs\n",
      "Sun Jun  2 22:12:00 2024 : sellside/dongfang.factorvae from 20240525 to 20240602, total 1 periods\n",
      "Start sellside/dongfang.factorvae:20240525-20240602 \n",
      "Done sellside/dongfang.factorvae:20240525-20240602, cost 2.5 Secs\n",
      "Sun Jun  2 22:12:03 2024 : sellside/kaiyuan.positive from 20240501 to 20240602, total 1 periods\n",
      "Start sellside/kaiyuan.positive:20240501-20240602 \n",
      "Done sellside/kaiyuan.positive:20240501-20240602, cost 3.8 Secs\n",
      "Sun Jun  2 22:12:06 2024 : sellside/kaiyuan.negative from 20240501 to 20240602, total 1 periods\n",
      "Start sellside/kaiyuan.negative:20240501-20240602 \n",
      "Done sellside/kaiyuan.negative:20240501-20240602, cost 2.1 Secs\n",
      "Sun Jun  2 22:12:09 2024 : sellside/huatai.dl_factors from 20240525 to 20240602, total 1 periods\n",
      "Start sellside/huatai.dl_factors:20240525-20240602 \n",
      "Done sellside/huatai.dl_factors:20240525-20240602, cost 4.3 Secs\n",
      "Sun Jun  2 22:12:13 2024 : All Updates Done! Cost 536.82 Secs\n",
      "predict is True , Data Processing start!\n",
      "4 datas :['y', 'day', '30m', 'risk']\n",
      "y blocks loading start!\n",
      " --> labels blocks reading [ret10_lag] DataBase...... finished! Cost 0.90 secs\n",
      " --> labels blocks reading [ret20_lag] DataBase...... finished! Cost 0.83 secs\n",
      " --> labels blocks merging (2)...... finished! Cost 0.09 secs\n",
      " --> models blocks reading [risk_exp] DataBase...... finished! Cost 3.63 secs\n",
      "y blocks loading finished! Cost 5.86 secs\n",
      "y blocks process...... finished! Cost 2.09 secs\n",
      "y blocks masking...... finished! Cost 0.07 secs\n",
      "y blocks saving ...... finished! Cost 0.17 secs\n",
      "y blocks norming...... finished! Cost 0.00 secs\n",
      "y finished! Cost 8.55 Seconds\n",
      "--------------------------------------------------------------------------------\n",
      "day blocks loading start!\n",
      " --> trade blocks reading [day] DataBase...... finished! Cost 1.28 secs\n",
      "day blocks loading finished! Cost 1.28 secs\n",
      "day blocks process...... finished! Cost 0.11 secs\n",
      "day blocks masking...... finished! Cost 0.07 secs\n",
      "day blocks saving ...... finished! Cost 0.18 secs\n",
      "day blocks norming...... finished! Cost 0.00 secs\n",
      "day finished! Cost 1.84 Seconds\n",
      "--------------------------------------------------------------------------------\n",
      "30m blocks loading start!\n",
      " --> trade blocks reading [30min] DataBase...... finished! Cost 6.59 secs\n",
      " --> trade blocks reading [day] DataBase...... finished! Cost 1.02 secs\n",
      "30m blocks loading finished! Cost 7.65 secs\n",
      "30m blocks process...... finished! Cost 1.77 secs\n",
      "30m blocks masking...... finished! Cost 0.14 secs\n",
      "30m blocks saving ...... finished! Cost 2.33 secs\n",
      "30m blocks norming...... finished! Cost 0.00 secs\n",
      "30m finished! Cost 12.09 Seconds\n",
      "--------------------------------------------------------------------------------\n",
      "risk blocks loading start!\n",
      " --> models blocks reading [risk_exp] DataBase...... finished! Cost 1.53 secs\n",
      "risk blocks loading finished! Cost 1.53 secs\n",
      "risk blocks process...... finished! Cost 0.00 secs\n",
      "risk blocks masking...... finished! Cost 0.07 secs\n",
      "risk blocks saving ...... finished! Cost 0.28 secs\n",
      "risk blocks norming...... finished! Cost 0.00 secs\n",
      "risk finished! Cost 2.02 Seconds\n",
      "--------------------------------------------------------------------------------\n",
      "Data Processing Finished! Cost 24.50 Seconds\n"
     ]
    }
   ],
   "source": [
    "from src import API\n",
    "\n",
    "API.DataAPI.update()\n",
    "API.DataAPI.prepare_train_data()\n",
    "API.Predictor.update_factors()"
   ]
  },
  {
   "cell_type": "code",
   "execution_count": 2,
   "metadata": {},
   "outputs": [
    {
     "name": "stdout",
     "output_type": "stream",
     "text": [
      "Load  2 DataBlocks...... finished! Cost 0.11 secs\n",
      "Align 2 DataBlocks...... finished! Cost 0.17 secs\n",
      "Pre-Norming method of [day] : {'divlast': True, 'histnorm': True}\n",
      "20231201 new\n",
      "Load  2 DataBlocks...... finished! Cost 0.03 secs\n",
      "Align 2 DataBlocks...... finished! Cost 0.15 secs\n",
      "Pre-Norming method of [day] : {'divlast': True, 'histnorm': True}\n",
      "20231201 new\n",
      "Load  2 DataBlocks...... finished! Cost 0.03 secs\n",
      "Align 2 DataBlocks...... finished! Cost 0.17 secs\n",
      "Pre-Norming method of [day] : {'divlast': True, 'histnorm': True}\n",
      "20231201 new\n"
     ]
    }
   ],
   "source": [
    "from src import API\n",
    "API.Predictor.update_factors()"
   ]
  },
  {
   "cell_type": "code",
   "execution_count": 2,
   "metadata": {},
   "outputs": [
    {
     "name": "stdout",
     "output_type": "stream",
     "text": [
      "Load  2 DataBlocks ..."
     ]
    },
    {
     "name": "stdout",
     "output_type": "stream",
     "text": [
      "... cost 0.22 secs\n",
      "Align 2 DataBlocks ...... cost 0.21 secs\n",
      "Pre-Norming method of [day] : {'divlast': True, 'histnorm': True}\n",
      "x shape is torch.Size([5064, 30, 6])\n",
      "y shape is torch.Size([5064, 1])\n",
      "Test Forward Success\n",
      "metrics :  Metrics.MetricOutput(loss=tensor(1.0688, grad_fn=<AddBackward0>), score=-0.015420470386743546, loss_item=1.068833589553833, penalty=0.0, losses=tensor(1.0688, grad_fn=<ExpBackward0>))\n",
      "Test Metrics Success\n"
     ]
    }
   ],
   "source": [
    "from src import API\n",
    "API.ModelTestor.new('ts_mixer').try_metrics()"
   ]
  }
 ],
 "metadata": {
  "kernelspec": {
   "display_name": "Python 3",
   "language": "python",
   "name": "python3"
  },
  "language_info": {
   "codemirror_mode": {
    "name": "ipython",
    "version": 3
   },
   "file_extension": ".py",
   "mimetype": "text/x-python",
   "name": "python",
   "nbconvert_exporter": "python",
   "pygments_lexer": "ipython3",
   "version": "3.10.12"
  }
 },
 "nbformat": 4,
 "nbformat_minor": 2
}
