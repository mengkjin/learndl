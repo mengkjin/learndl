{
 "cells": [
  {
   "cell_type": "code",
   "execution_count": 1,
   "metadata": {},
   "outputs": [
    {
     "name": "stdout",
     "output_type": "stream",
     "text": [
      "Update Files\n",
      "Fri Jun  7 09:14:32 2024 : Updated ~ data\\DataBase\\DB_information\\calendar.feather Done! Cost 0.06 Secs\n",
      "Fri Jun  7 09:14:32 2024 : Updated ~ data\\DataBase\\DB_information\\description.feather Done! Cost 0.05 Secs\n",
      "Fri Jun  7 09:14:32 2024 : Updated ~ data\\DataBase\\DB_information\\st.feather Done! Cost 0.03 Secs\n",
      "Fri Jun  7 09:14:36 2024 : Updated ~ data\\DataBase\\DB_information\\industry.feather Done! Cost 3.87 Secs\n",
      "Fri Jun  7 09:14:45 2024 : Updated ~ data\\DataBase\\DB_information\\concepts.feather Done! Cost 8.65 Secs\n",
      "Fri Jun  7 09:14:46 2024 : Updated ~ data\\DataBase\\DB_models\\longcl_exp\\2024\\longcl_exp.20240605.feather Done! Cost 0.19 Secs\n",
      "Fri Jun  7 09:14:46 2024 : Updated ~ data\\DataBase\\DB_models\\risk_exp\\2024\\risk_exp.20240606.feather Done! Cost 0.14 Secs\n",
      "Fri Jun  7 09:14:51 2024 : Updated ~ data\\DataBase\\DB_trade\\day\\2024\\day.20240606.feather Done! Cost 0.11 Secs\n",
      "Fri Jun  7 09:14:51 2024 : Updated ~ data\\DataBase\\DB_trade\\5day\\2024\\5day.20240606.feather Done! Cost 0.50 Secs\n",
      "Fri Jun  7 09:14:52 2024 : Updated ~ data\\DataBase\\DB_trade\\10day\\2024\\10day.20240606.feather Done! Cost 1.11 Secs\n",
      "Fri Jun  7 09:14:54 2024 : Updated ~ data\\DataBase\\DB_trade\\20day\\2024\\20day.20240606.feather Done! Cost 1.79 Secs\n",
      "Fri Jun  7 09:15:01 2024 : Updated ~ data\\DataBase\\DB_trade\\min\\2024\\min.20240606.feather Done! Cost 6.73 Secs\n",
      "Fri Jun  7 09:15:01 2024 : Updated ~ data\\DataBase\\DB_trade\\5min\\2024\\5min.20240606.feather Done! Cost 0.62 Secs\n",
      "Fri Jun  7 09:15:02 2024 : Updated ~ data\\DataBase\\DB_trade\\10min\\2024\\10min.20240606.feather Done! Cost 0.49 Secs\n",
      "Fri Jun  7 09:15:03 2024 : Updated ~ data\\DataBase\\DB_trade\\15min\\2024\\15min.20240606.feather Done! Cost 0.99 Secs\n",
      "Fri Jun  7 09:15:04 2024 : Updated ~ data\\DataBase\\DB_trade\\30min\\2024\\30min.20240606.feather Done! Cost 0.76 Secs\n",
      "Fri Jun  7 09:15:04 2024 : Updated ~ data\\DataBase\\DB_trade\\60min\\2024\\60min.20240606.feather Done! Cost 0.49 Secs\n",
      "Fri Jun  7 09:15:07 2024 : Updated ~ data\\DataBase\\DB_labels\\ret20_lag\\2024\\ret20_lag.20240508.feather Done! Cost 0.54 Secs\n",
      "Fri Jun  7 09:15:08 2024 : Updated ~ data\\DataBase\\DB_labels\\ret20\\2024\\ret20.20240509.feather Done! Cost 0.53 Secs\n",
      "Fri Jun  7 09:15:11 2024 : Updated ~ data\\DataBase\\DB_labels\\ret10_lag\\2024\\ret10_lag.20240522.feather Done! Cost 0.39 Secs\n",
      "Fri Jun  7 09:15:12 2024 : Updated ~ data\\DataBase\\DB_labels\\ret10\\2024\\ret10.20240523.feather Done! Cost 0.35 Secs\n",
      "Fri Jun  7 09:15:15 2024 : Updated ~ data\\DataBase\\DB_labels\\ret5_lag\\2024\\ret5_lag.20240529.feather Done! Cost 0.28 Secs\n",
      "Fri Jun  7 09:15:16 2024 : Updated ~ data\\DataBase\\DB_labels\\ret5\\2024\\ret5.20240530.feather Done! Cost 0.41 Secs\n",
      "Fri Jun  7 09:15:22 2024 : Updated ~ data\\DataBase\\DB_benchmark\\csi300\\2024\\csi300.20240606.feather Done! Cost 0.01 Secs\n",
      "Fri Jun  7 09:15:22 2024 : Updated ~ data\\DataBase\\DB_benchmark\\csi500\\2024\\csi500.20240606.feather Done! Cost 0.01 Secs\n",
      "Fri Jun  7 09:15:22 2024 : Updated ~ data\\DataBase\\DB_benchmark\\csi1000\\2024\\csi1000.20240606.feather Done! Cost 0.01 Secs\n",
      "Fri Jun  7 09:15:22 2024 : download since!\n",
      "Connection and Factor preparation finished!\n",
      "Fri Jun  7 09:15:23 2024 : sellside/haitong.hf_factors from 20240606 to 20240607, total 1 periods\n",
      "Start sellside/haitong.hf_factors:20240606-20240607 \n",
      "Done sellside/haitong.hf_factors:20240606-20240607, cost 7.2 Secs\n",
      "Fri Jun  7 09:15:30 2024 : sellside/haitong.dl_factors from 20240606 to 20240607, total 1 periods\n",
      "Start sellside/haitong.dl_factors:20240606-20240607 \n",
      "Done sellside/haitong.dl_factors:20240606-20240607, cost 92.9 Secs\n",
      "Fri Jun  7 09:17:03 2024 : sellside/dongfang.hfq_chars from 20240606 to 20240607, total 1 periods\n",
      "Start sellside/dongfang.hfq_chars:20240606-20240607 \n",
      "Done sellside/dongfang.hfq_chars:20240606-20240607, cost 3.8 Secs\n",
      "Fri Jun  7 09:17:07 2024 : sellside/dongfang.l2_chars from 20240606 to 20240607, total 1 periods\n",
      "Start sellside/dongfang.l2_chars:20240606-20240607 \n",
      "Done sellside/dongfang.l2_chars:20240606-20240607, cost 30.5 Secs\n",
      "Fri Jun  7 09:17:37 2024 : sellside/dongfang.ms_chars from 20240606 to 20240607, total 1 periods\n",
      "Start sellside/dongfang.ms_chars:20240606-20240607 \n",
      "Done sellside/dongfang.ms_chars:20240606-20240607, cost 47.9 Secs\n",
      "Fri Jun  7 09:18:25 2024 : sellside/dongfang.order_flow from 20240606 to 20240607, total 1 periods\n",
      "Start sellside/dongfang.order_flow:20240606-20240607 \n",
      "Done sellside/dongfang.order_flow:20240606-20240607, cost 1.2 Secs\n",
      "Fri Jun  7 09:18:27 2024 : sellside/dongfang.gp from 20240605 to 20240607, total 1 periods\n",
      "Start sellside/dongfang.gp:20240605-20240607 \n",
      "Done sellside/dongfang.gp:20240605-20240607, cost 2.1 Secs\n",
      "Fri Jun  7 09:18:29 2024 : sellside/dongfang.tra from 20240605 to 20240607, total 1 periods\n",
      "Start sellside/dongfang.tra:20240605-20240607 \n",
      "Done sellside/dongfang.tra:20240605-20240607, cost 1.7 Secs\n",
      "Fri Jun  7 09:18:31 2024 : sellside/dongfang.hist from 20240605 to 20240607, total 1 periods\n",
      "Start sellside/dongfang.hist:20240605-20240607 \n",
      "Done sellside/dongfang.hist:20240605-20240607, cost 1.4 Secs\n",
      "Fri Jun  7 09:18:32 2024 : sellside/dongfang.scores_v0 from 20240606 to 20240607, total 1 periods\n",
      "Start sellside/dongfang.scores_v0:20240606-20240607 \n",
      "Done sellside/dongfang.scores_v0:20240606-20240607, cost 1.5 Secs\n",
      "Fri Jun  7 09:18:34 2024 : sellside/dongfang.factorvae from 20240605 to 20240607, total 1 periods\n",
      "Start sellside/dongfang.factorvae:20240605-20240607 \n",
      "Done sellside/dongfang.factorvae:20240605-20240607, cost 1.4 Secs\n",
      "Fri Jun  7 09:18:35 2024 : sellside/kaiyuan.positive from 20240601 to 20240607, total 1 periods\n",
      "Start sellside/kaiyuan.positive:20240601-20240607 \n",
      "Done sellside/kaiyuan.positive:20240601-20240607, cost 2.9 Secs\n",
      "Fri Jun  7 09:18:38 2024 : sellside/kaiyuan.negative from 20240601 to 20240607, total 1 periods\n",
      "Start sellside/kaiyuan.negative:20240601-20240607 \n",
      "Done sellside/kaiyuan.negative:20240601-20240607, cost 1.8 Secs\n",
      "Fri Jun  7 09:18:40 2024 : sellside/huatai.dl_factors from 20240606 to 20240607, total 1 periods\n",
      "Start sellside/huatai.dl_factors:20240606-20240607 \n",
      "Done sellside/huatai.dl_factors:20240606-20240607, cost 1.2 Secs\n",
      "Fri Jun  7 09:18:41 2024 : All Updates Done! Cost 248.78 Secs\n",
      "predict is True , Data Processing start!\n",
      "4 datas :['y', 'day', '30m', 'risk']\n",
      "y blocks loading start!\n",
      " --> labels blocks reading [ret10_lag] DataBase...... finished! Cost 1.23 secs\n",
      " --> labels blocks reading [ret20_lag] DataBase...... finished! Cost 1.20 secs\n",
      " --> labels blocks merging (2)...... finished! Cost 0.13 secs\n",
      " --> models blocks reading [risk_exp] DataBase...... finished! Cost 4.26 secs\n",
      "y blocks loading finished! Cost 7.26 secs\n",
      "y blocks process...... finished! Cost 6.83 secs\n",
      "y blocks masking...... finished! Cost 0.18 secs\n",
      "y blocks saving ...... finished! Cost 0.21 secs\n",
      "y blocks norming...... finished! Cost 0.00 secs\n",
      "y finished! Cost 14.66 Seconds\n",
      "--------------------------------------------------------------------------------\n",
      "day blocks loading start!\n",
      " --> trade blocks reading [day] DataBase...... finished! Cost 1.96 secs\n",
      "day blocks loading finished! Cost 2.01 secs\n",
      "day blocks process...... finished! Cost 0.17 secs\n",
      "day blocks masking...... finished! Cost 0.13 secs\n",
      "day blocks saving ...... finished! Cost 0.17 secs\n",
      "day blocks norming...... finished! Cost 0.00 secs\n",
      "day finished! Cost 2.58 Seconds\n",
      "--------------------------------------------------------------------------------\n",
      "30m blocks loading start!\n",
      " --> trade blocks reading [30min] DataBase...... finished! Cost 7.65 secs\n",
      " --> trade blocks reading [day] DataBase...... finished! Cost 1.60 secs\n",
      "30m blocks loading finished! Cost 9.34 secs\n",
      "30m blocks process...... finished! Cost 2.30 secs\n",
      "30m blocks masking...... finished! Cost 0.25 secs\n",
      "30m blocks saving ...... finished! Cost 2.47 secs\n",
      "30m blocks norming...... finished! Cost 0.00 secs\n",
      "30m finished! Cost 14.51 Seconds\n",
      "--------------------------------------------------------------------------------\n",
      "risk blocks loading start!\n",
      " --> models blocks reading [risk_exp] DataBase...... finished! Cost 1.84 secs\n",
      "risk blocks loading finished! Cost 1.88 secs\n",
      "risk blocks process...... finished! Cost 0.00 secs\n",
      "risk blocks masking...... finished! Cost 0.11 secs\n",
      "risk blocks saving ...... finished! Cost 0.28 secs\n",
      "risk blocks norming...... finished! Cost 0.00 secs\n",
      "risk finished! Cost 2.36 Seconds\n",
      "--------------------------------------------------------------------------------\n",
      "Data Processing Finished! Cost 34.11 Seconds\n",
      "Finish model [gru_day] predicting!\n",
      "Finish model [gruRTN_day] predicting!\n",
      "Finish model [gruRES_day] predicting!\n"
     ]
    }
   ],
   "source": [
    "from src import API\n",
    "\n",
    "API.DataAPI.update()\n",
    "print('-' * 80)\n",
    "API.DataAPI.prepare_train_data()\n",
    "print('-' * 80)\n",
    "API.Predictor.update_factors()"
   ]
  },
  {
   "cell_type": "code",
   "execution_count": 2,
   "metadata": {},
   "outputs": [
    {
     "name": "stdout",
     "output_type": "stream",
     "text": [
      "Load  2 DataBlocks...... finished! Cost 0.11 secs\n",
      "Align 2 DataBlocks...... finished! Cost 0.17 secs\n",
      "Pre-Norming method of [day] : {'divlast': True, 'histnorm': True}\n",
      "20231201 new\n",
      "Load  2 DataBlocks...... finished! Cost 0.03 secs\n",
      "Align 2 DataBlocks...... finished! Cost 0.15 secs\n",
      "Pre-Norming method of [day] : {'divlast': True, 'histnorm': True}\n",
      "20231201 new\n",
      "Load  2 DataBlocks...... finished! Cost 0.03 secs\n",
      "Align 2 DataBlocks...... finished! Cost 0.17 secs\n",
      "Pre-Norming method of [day] : {'divlast': True, 'histnorm': True}\n",
      "20231201 new\n"
     ]
    }
   ],
   "source": [
    "from src import API\n",
    "API.Predictor.update_factors()"
   ]
  },
  {
   "cell_type": "code",
   "execution_count": 2,
   "metadata": {},
   "outputs": [
    {
     "name": "stdout",
     "output_type": "stream",
     "text": [
      "Load  2 DataBlocks ..."
     ]
    },
    {
     "name": "stdout",
     "output_type": "stream",
     "text": [
      "... cost 0.22 secs\n",
      "Align 2 DataBlocks ...... cost 0.21 secs\n",
      "Pre-Norming method of [day] : {'divlast': True, 'histnorm': True}\n",
      "x shape is torch.Size([5064, 30, 6])\n",
      "y shape is torch.Size([5064, 1])\n",
      "Test Forward Success\n",
      "metrics :  Metrics.MetricOutput(loss=tensor(1.0688, grad_fn=<AddBackward0>), score=-0.015420470386743546, loss_item=1.068833589553833, penalty=0.0, losses=tensor(1.0688, grad_fn=<ExpBackward0>))\n",
      "Test Metrics Success\n"
     ]
    }
   ],
   "source": [
    "from src import API\n",
    "API.ModelTestor.new('ts_mixer').try_metrics()"
   ]
  }
 ],
 "metadata": {
  "kernelspec": {
   "display_name": "Python 3",
   "language": "python",
   "name": "python3"
  },
  "language_info": {
   "codemirror_mode": {
    "name": "ipython",
    "version": 3
   },
   "file_extension": ".py",
   "mimetype": "text/x-python",
   "name": "python",
   "nbconvert_exporter": "python",
   "pygments_lexer": "ipython3",
   "version": "3.11.8"
  }
 },
 "nbformat": 4,
 "nbformat_minor": 2
}
