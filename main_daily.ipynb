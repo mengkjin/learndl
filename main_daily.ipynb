{
 "cells": [
  {
   "cell_type": "code",
   "execution_count": 1,
   "metadata": {},
   "outputs": [
    {
     "name": "stdout",
     "output_type": "stream",
     "text": [
      "Update Files\n",
      "Sat Jun  8 18:25:02 2024 : Updated ~ data\\DataBase\\DB_information\\calendar.feather Done! Cost 0.05 Secs\n",
      "Sat Jun  8 18:25:02 2024 : Updated ~ data\\DataBase\\DB_information\\description.feather Done! Cost 0.04 Secs\n",
      "Sat Jun  8 18:25:02 2024 : Updated ~ data\\DataBase\\DB_information\\st.feather Done! Cost 0.02 Secs\n",
      "Sat Jun  8 18:25:05 2024 : Updated ~ data\\DataBase\\DB_information\\industry.feather Done! Cost 2.41 Secs\n",
      "Sat Jun  8 18:25:09 2024 : Updated ~ data\\DataBase\\DB_information\\concepts.feather Done! Cost 4.41 Secs\n",
      "Sat Jun  8 18:25:10 2024 : Updated ~ data\\DataBase\\DB_models\\longcl_exp\\2024\\longcl_exp.20240606.feather Done! Cost 0.09 Secs\n",
      "Sat Jun  8 18:25:10 2024 : Updated ~ data\\DataBase\\DB_models\\risk_exp\\2024\\risk_exp.20240607.feather Done! Cost 0.04 Secs\n",
      "Sat Jun  8 18:25:12 2024 : Updated ~ data\\DataBase\\DB_trade\\day\\2024\\day.20240607.feather Done! Cost 0.05 Secs\n",
      "Sat Jun  8 18:25:13 2024 : Updated ~ data\\DataBase\\DB_trade\\5day\\2024\\5day.20240607.feather Done! Cost 0.23 Secs\n",
      "Sat Jun  8 18:25:13 2024 : Updated ~ data\\DataBase\\DB_trade\\10day\\2024\\10day.20240607.feather Done! Cost 0.47 Secs\n",
      "Sat Jun  8 18:25:14 2024 : Updated ~ data\\DataBase\\DB_trade\\20day\\2024\\20day.20240607.feather Done! Cost 0.83 Secs\n",
      "Sat Jun  8 18:25:17 2024 : Updated ~ data\\DataBase\\DB_trade\\min\\2024\\min.20240607.feather Done! Cost 3.08 Secs\n",
      "Sat Jun  8 18:25:17 2024 : Updated ~ data\\DataBase\\DB_trade\\5min\\2024\\5min.20240607.feather Done! Cost 0.30 Secs\n",
      "Sat Jun  8 18:25:18 2024 : Updated ~ data\\DataBase\\DB_trade\\10min\\2024\\10min.20240607.feather Done! Cost 0.27 Secs\n",
      "Sat Jun  8 18:25:18 2024 : Updated ~ data\\DataBase\\DB_trade\\15min\\2024\\15min.20240607.feather Done! Cost 0.25 Secs\n",
      "Sat Jun  8 18:25:18 2024 : Updated ~ data\\DataBase\\DB_trade\\30min\\2024\\30min.20240607.feather Done! Cost 0.24 Secs\n",
      "Sat Jun  8 18:25:18 2024 : Updated ~ data\\DataBase\\DB_trade\\60min\\2024\\60min.20240607.feather Done! Cost 0.26 Secs\n",
      "Sat Jun  8 18:25:21 2024 : Updated ~ data\\DataBase\\DB_labels\\ret20_lag\\2024\\ret20_lag.20240509.feather Done! Cost 0.54 Secs\n",
      "Sat Jun  8 18:25:21 2024 : Updated ~ data\\DataBase\\DB_labels\\ret20\\2024\\ret20.20240510.feather Done! Cost 0.32 Secs\n",
      "Sat Jun  8 18:25:23 2024 : Updated ~ data\\DataBase\\DB_labels\\ret10_lag\\2024\\ret10_lag.20240523.feather Done! Cost 0.22 Secs\n",
      "Sat Jun  8 18:25:24 2024 : Updated ~ data\\DataBase\\DB_labels\\ret10\\2024\\ret10.20240524.feather Done! Cost 0.21 Secs\n",
      "Sat Jun  8 18:25:26 2024 : Updated ~ data\\DataBase\\DB_labels\\ret5_lag\\2024\\ret5_lag.20240530.feather Done! Cost 0.18 Secs\n",
      "Sat Jun  8 18:25:27 2024 : Updated ~ data\\DataBase\\DB_labels\\ret5\\2024\\ret5.20240531.feather Done! Cost 0.25 Secs\n",
      "Sat Jun  8 18:25:31 2024 : Updated ~ data\\DataBase\\DB_benchmark\\csi300\\2024\\csi300.20240607.feather Done! Cost 0.01 Secs\n",
      "Sat Jun  8 18:25:31 2024 : Updated ~ data\\DataBase\\DB_benchmark\\csi500\\2024\\csi500.20240607.feather Done! Cost 0.01 Secs\n",
      "Sat Jun  8 18:25:31 2024 : Updated ~ data\\DataBase\\DB_benchmark\\csi1000\\2024\\csi1000.20240607.feather Done! Cost 0.01 Secs\n",
      "Sat Jun  8 18:25:31 2024 : download since!\n",
      "Connection and Factor preparation finished!\n",
      "Sat Jun  8 18:25:31 2024 : sellside/haitong.hf_factors from 20240607 to 20240608, total 1 periods\n",
      "Start sellside/haitong.hf_factors:20240607-20240608 \n",
      "Done sellside/haitong.hf_factors:20240607-20240608, cost 8.6 Secs\n",
      "Sat Jun  8 18:25:39 2024 : sellside/haitong.dl_factors from 20240607 to 20240608, total 1 periods\n",
      "Start sellside/haitong.dl_factors:20240607-20240608 \n",
      "Done sellside/haitong.dl_factors:20240607-20240608, cost 93.8 Secs\n",
      "Sat Jun  8 18:27:13 2024 : sellside/dongfang.hfq_chars from 20240607 to 20240608, total 1 periods\n",
      "Start sellside/dongfang.hfq_chars:20240607-20240608 \n",
      "Done sellside/dongfang.hfq_chars:20240607-20240608, cost 7.0 Secs\n",
      "Sat Jun  8 18:27:20 2024 : sellside/dongfang.l2_chars from 20240607 to 20240608, total 1 periods\n",
      "Start sellside/dongfang.l2_chars:20240607-20240608 \n",
      "Done sellside/dongfang.l2_chars:20240607-20240608, cost 192.8 Secs\n",
      "Sat Jun  8 18:30:33 2024 : sellside/dongfang.ms_chars from 20240607 to 20240608, total 1 periods\n",
      "Start sellside/dongfang.ms_chars:20240607-20240608 \n",
      "Done sellside/dongfang.ms_chars:20240607-20240608, cost 50.0 Secs\n",
      "Sat Jun  8 18:31:23 2024 : sellside/dongfang.order_flow from 20240607 to 20240608, total 1 periods\n",
      "Start sellside/dongfang.order_flow:20240607-20240608 \n",
      "Done sellside/dongfang.order_flow:20240607-20240608, cost 1.8 Secs\n",
      "Sat Jun  8 18:31:25 2024 : sellside/dongfang.gp from 20240607 to 20240608, total 1 periods\n",
      "Start sellside/dongfang.gp:20240607-20240608 \n",
      "Done sellside/dongfang.gp:20240607-20240608, cost 2.9 Secs\n",
      "Sat Jun  8 18:31:28 2024 : sellside/dongfang.tra from 20240607 to 20240608, total 1 periods\n",
      "Start sellside/dongfang.tra:20240607-20240608 \n",
      "Done sellside/dongfang.tra:20240607-20240608, cost 3.3 Secs\n",
      "Sat Jun  8 18:31:31 2024 : sellside/dongfang.hist from 20240607 to 20240608, total 1 periods\n",
      "Start sellside/dongfang.hist:20240607-20240608 \n",
      "Done sellside/dongfang.hist:20240607-20240608, cost 2.5 Secs\n",
      "Sat Jun  8 18:31:34 2024 : sellside/dongfang.scores_v0 from 20240607 to 20240608, total 1 periods\n",
      "Start sellside/dongfang.scores_v0:20240607-20240608 \n",
      "Done sellside/dongfang.scores_v0:20240607-20240608, cost 2.7 Secs\n",
      "Sat Jun  8 18:31:37 2024 : sellside/dongfang.factorvae from 20240607 to 20240608, total 1 periods\n",
      "Start sellside/dongfang.factorvae:20240607-20240608 \n",
      "Done sellside/dongfang.factorvae:20240607-20240608, cost 2.6 Secs\n",
      "Sat Jun  8 18:31:39 2024 : sellside/kaiyuan.positive from 20240601 to 20240608, total 1 periods\n",
      "Start sellside/kaiyuan.positive:20240601-20240608 \n",
      "Done sellside/kaiyuan.positive:20240601-20240608, cost 3.3 Secs\n",
      "Sat Jun  8 18:31:43 2024 : sellside/kaiyuan.negative from 20240601 to 20240608, total 1 periods\n",
      "Start sellside/kaiyuan.negative:20240601-20240608 \n",
      "Done sellside/kaiyuan.negative:20240601-20240608, cost 1.8 Secs\n",
      "Sat Jun  8 18:31:44 2024 : sellside/huatai.dl_factors from 20240607 to 20240608, total 1 periods\n",
      "Start sellside/huatai.dl_factors:20240607-20240608 \n",
      "Done sellside/huatai.dl_factors:20240607-20240608, cost 1.1 Secs\n",
      "Sat Jun  8 18:31:46 2024 : All Updates Done! Cost 403.39 Secs\n",
      "--------------------------------------------------------------------------------\n",
      "predict is True , Data Processing start!\n",
      "4 datas :['y', 'day', '30m', 'risk']\n",
      "y blocks loading start!\n",
      " --> labels blocks reading [ret10_lag] DataBase...... finished! Cost 0.91 secs\n",
      " --> labels blocks reading [ret20_lag] DataBase...... finished! Cost 0.83 secs\n",
      " --> labels blocks merging (2)...... finished! Cost 0.09 secs\n",
      " --> models blocks reading [risk_exp] DataBase...... finished! Cost 3.19 secs\n",
      "y blocks loading finished! Cost 5.33 secs\n",
      "y blocks process...... finished! Cost 4.33 secs\n",
      "y blocks masking...... finished! Cost 0.09 secs\n",
      "y blocks saving ...... finished! Cost 0.13 secs\n",
      "y blocks norming...... finished! Cost 0.00 secs\n",
      "y finished! Cost 10.17 Seconds\n",
      "--------------------------------------------------------------------------------\n",
      "day blocks loading start!\n",
      " --> trade blocks reading [day] DataBase...... finished! Cost 1.46 secs\n",
      "day blocks loading finished! Cost 1.48 secs\n",
      "day blocks process...... finished! Cost 0.12 secs\n",
      "day blocks masking...... finished! Cost 0.07 secs\n",
      "day blocks saving ...... finished! Cost 0.12 secs\n",
      "day blocks norming...... finished! Cost 0.00 secs\n",
      "day finished! Cost 1.94 Seconds\n",
      "--------------------------------------------------------------------------------\n",
      "30m blocks loading start!\n",
      " --> trade blocks reading [30min] DataBase...... finished! Cost 6.10 secs\n",
      " --> trade blocks reading [day] DataBase...... finished! Cost 1.00 secs\n",
      "30m blocks loading finished! Cost 7.15 secs\n",
      "30m blocks process...... finished! Cost 1.52 secs\n",
      "30m blocks masking...... finished! Cost 0.15 secs\n",
      "30m blocks saving ...... finished! Cost 1.76 secs\n",
      "30m blocks norming...... finished! Cost 0.00 secs\n",
      "30m finished! Cost 10.67 Seconds\n",
      "--------------------------------------------------------------------------------\n",
      "risk blocks loading start!\n",
      " --> models blocks reading [risk_exp] DataBase...... finished! Cost 1.37 secs\n",
      "risk blocks loading finished! Cost 1.41 secs\n",
      "risk blocks process...... finished! Cost 0.00 secs\n",
      "risk blocks masking...... finished! Cost 0.09 secs\n",
      "risk blocks saving ...... finished! Cost 0.23 secs\n",
      "risk blocks norming...... finished! Cost 0.00 secs\n",
      "risk finished! Cost 1.81 Seconds\n",
      "--------------------------------------------------------------------------------\n",
      "Data Processing Finished! Cost 24.59 Seconds\n",
      "--------------------------------------------------------------------------------\n",
      "Finish model [gru_day] predicting!\n",
      "Finish model [gruRTN_day] predicting!\n",
      "Finish model [gruRES_day] predicting!\n"
     ]
    },
    {
     "ename": "",
     "evalue": "",
     "output_type": "error",
     "traceback": [
      "\u001b[1;31mThe Kernel crashed while executing code in the the current cell or a previous cell. Please review the code in the cell(s) to identify a possible cause of the failure. Click <a href='https://aka.ms/vscodeJupyterKernelCrash'>here</a> for more info. View Jupyter <a href='command:jupyter.viewOutput'>log</a> for further details."
     ]
    }
   ],
   "source": [
    "from src import API\n",
    "\n",
    "API.DataAPI.update()\n",
    "API.DataAPI.prepare_train_data()\n",
    "API.Predictor.update_factors()"
   ]
  },
  {
   "cell_type": "code",
   "execution_count": 2,
   "metadata": {},
   "outputs": [
    {
     "name": "stdout",
     "output_type": "stream",
     "text": [
      "Load  2 DataBlocks...... finished! Cost 0.11 secs\n",
      "Align 2 DataBlocks...... finished! Cost 0.17 secs\n",
      "Pre-Norming method of [day] : {'divlast': True, 'histnorm': True}\n",
      "20231201 new\n",
      "Load  2 DataBlocks...... finished! Cost 0.03 secs\n",
      "Align 2 DataBlocks...... finished! Cost 0.15 secs\n",
      "Pre-Norming method of [day] : {'divlast': True, 'histnorm': True}\n",
      "20231201 new\n",
      "Load  2 DataBlocks...... finished! Cost 0.03 secs\n",
      "Align 2 DataBlocks...... finished! Cost 0.17 secs\n",
      "Pre-Norming method of [day] : {'divlast': True, 'histnorm': True}\n",
      "20231201 new\n"
     ]
    }
   ],
   "source": [
    "from src import API\n",
    "API.Predictor.update_factors()"
   ]
  },
  {
   "cell_type": "code",
   "execution_count": 2,
   "metadata": {},
   "outputs": [
    {
     "name": "stdout",
     "output_type": "stream",
     "text": [
      "Load  2 DataBlocks ..."
     ]
    },
    {
     "name": "stdout",
     "output_type": "stream",
     "text": [
      "... cost 0.22 secs\n",
      "Align 2 DataBlocks ...... cost 0.21 secs\n",
      "Pre-Norming method of [day] : {'divlast': True, 'histnorm': True}\n",
      "x shape is torch.Size([5064, 30, 6])\n",
      "y shape is torch.Size([5064, 1])\n",
      "Test Forward Success\n",
      "metrics :  Metrics.MetricOutput(loss=tensor(1.0688, grad_fn=<AddBackward0>), score=-0.015420470386743546, loss_item=1.068833589553833, penalty=0.0, losses=tensor(1.0688, grad_fn=<ExpBackward0>))\n",
      "Test Metrics Success\n"
     ]
    }
   ],
   "source": [
    "from src import API\n",
    "API.ModelTestor.new('ts_mixer').try_metrics()"
   ]
  }
 ],
 "metadata": {
  "kernelspec": {
   "display_name": "Python 3",
   "language": "python",
   "name": "python3"
  },
  "language_info": {
   "codemirror_mode": {
    "name": "ipython",
    "version": 3
   },
   "file_extension": ".py",
   "mimetype": "text/x-python",
   "name": "python",
   "nbconvert_exporter": "python",
   "pygments_lexer": "ipython3",
   "version": "3.11.8"
  }
 },
 "nbformat": 4,
 "nbformat_minor": 2
}
