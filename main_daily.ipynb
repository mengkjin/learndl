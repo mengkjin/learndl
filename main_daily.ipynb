{
 "cells": [
  {
   "cell_type": "code",
   "execution_count": 2,
   "metadata": {},
   "outputs": [
    {
     "name": "stdout",
     "output_type": "stream",
     "text": [
      "Unpack Update Files\n",
      "Mon Aug 26 22:33:40 2024 : download since!\n",
      "Connection and Factor preparation finished!\n",
      "Mon Aug 26 22:33:40 2024 : sellside/dongfang.hfq_chars from 20240827 to 20240826, total 1 periods\n",
      "Start sellside/dongfang.hfq_chars:20240827-20240826 \n",
      "Done sellside/dongfang.hfq_chars:20240827-20240826, cost 0.7 Secs\n",
      "Mon Aug 26 22:33:41 2024 : sellside/dongfang.l2_chars from 20240827 to 20240826, total 1 periods\n",
      "Start sellside/dongfang.l2_chars:20240827-20240826 \n",
      "Done sellside/dongfang.l2_chars:20240827-20240826, cost 12.6 Secs\n",
      "Mon Aug 26 22:33:53 2024 : sellside/dongfang.ms_chars from 20240827 to 20240826, total 1 periods\n",
      "Start sellside/dongfang.ms_chars:20240827-20240826 \n",
      "Done sellside/dongfang.ms_chars:20240827-20240826, cost 110.5 Secs\n",
      "Mon Aug 26 22:35:44 2024 : sellside/dongfang.order_flow from 20240827 to 20240826, total 1 periods\n",
      "Start sellside/dongfang.order_flow:20240827-20240826 \n",
      "Done sellside/dongfang.order_flow:20240827-20240826, cost 0.1 Secs\n",
      "Mon Aug 26 22:35:44 2024 : sellside/dongfang.gp from 20240824 to 20240826, total 1 periods\n",
      "Start sellside/dongfang.gp:20240824-20240826 \n",
      "Done sellside/dongfang.gp:20240824-20240826, cost 2.9 Secs\n",
      "Mon Aug 26 22:35:47 2024 : sellside/dongfang.tra from 20240824 to 20240826, total 1 periods\n",
      "Start sellside/dongfang.tra:20240824-20240826 \n",
      "Done sellside/dongfang.tra:20240824-20240826, cost 2.5 Secs\n",
      "Mon Aug 26 22:35:50 2024 : sellside/dongfang.hist from 20240824 to 20240826, total 1 periods\n",
      "Start sellside/dongfang.hist:20240824-20240826 \n",
      "Done sellside/dongfang.hist:20240824-20240826, cost 1.9 Secs\n",
      "Mon Aug 26 22:35:52 2024 : sellside/dongfang.scores_v0 from 20240824 to 20240826, total 1 periods\n",
      "Start sellside/dongfang.scores_v0:20240824-20240826 \n",
      "Done sellside/dongfang.scores_v0:20240824-20240826, cost 1.4 Secs\n",
      "Mon Aug 26 22:35:53 2024 : sellside/dongfang.factorvae from 20240824 to 20240826, total 1 periods\n",
      "Start sellside/dongfang.factorvae:20240824-20240826 \n",
      "Done sellside/dongfang.factorvae:20240824-20240826, cost 1.9 Secs\n",
      "Mon Aug 26 22:35:55 2024 : sellside/huatai.dl_factors from 20240824 to 20240826, total 1 periods\n",
      "Start sellside/huatai.dl_factors:20240824-20240826 \n",
      "Done sellside/huatai.dl_factors:20240824-20240826, cost 0.8 Secs\n",
      "Mon Aug 26 22:35:56 2024 : All Updates Done! Cost 136.22 Secs\n",
      "--------------------------------------------------------------------------------\n",
      "Calendar Already Updated at 20240826\n",
      "Description Already Updated at 20240826\n",
      "SWIndustry Already Updated at 20240826\n",
      "ChangeName Already Updated at 20240826\n",
      "THSConcept Already Updated at 20240731\n",
      "DailyValuation Already Updated at 20240826\n",
      "DailyQuote Already Updated at 20240826\n",
      "FinaIndicator Already Updated at 20240630\n",
      "--------------------------------------------------------------------------------\n",
      "predict is True , Data Processing start!\n",
      "6 datas :['y', 'day', '30m', 'style', 'indus', 'week']\n",
      "y finished! Cost 10.02 Seconds\n",
      "--------------------------------------------------------------------------------\n",
      "day finished! Cost 2.25 Seconds\n",
      "--------------------------------------------------------------------------------\n",
      "30m finished! Cost 13.29 Seconds\n",
      "--------------------------------------------------------------------------------\n",
      "style finished! Cost 3.10 Seconds\n",
      "--------------------------------------------------------------------------------\n",
      "indus finished! Cost 6.01 Seconds\n",
      "--------------------------------------------------------------------------------\n",
      "week finished! Cost 9.44 Seconds\n",
      "--------------------------------------------------------------------------------\n",
      "Data Processing Finished! Cost 44.11 Seconds\n",
      "--------------------------------------------------------------------------------\n",
      "Finish model [gru_day] predicting!\n",
      "Finish model [gruRTN_day] predicting!\n",
      "Finish model [gru_avg] predicting!\n",
      "--------------------------------------------------------------------------------\n"
     ]
    },
    {
     "data": {
      "text/plain": [
       "Predictor(reg_model=RegModel(name='gru_avg', type='swabest', num='all', alias='gru_day_V1'))"
      ]
     },
     "execution_count": 2,
     "metadata": {},
     "output_type": "execute_result"
    }
   ],
   "source": [
    "from src.api import DataAPI , Predictor\n",
    "\n",
    "DataAPI.update()\n",
    "DataAPI.prepare_predict_data()\n",
    "Predictor.update_factors()"
   ]
  },
  {
   "cell_type": "code",
   "execution_count": 8,
   "metadata": {},
   "outputs": [
    {
     "data": {
      "text/html": [
       "<div>\n",
       "<style scoped>\n",
       "    .dataframe tbody tr th:only-of-type {\n",
       "        vertical-align: middle;\n",
       "    }\n",
       "\n",
       "    .dataframe tbody tr th {\n",
       "        vertical-align: top;\n",
       "    }\n",
       "\n",
       "    .dataframe thead th {\n",
       "        text-align: right;\n",
       "    }\n",
       "</style>\n",
       "<table border=\"1\" class=\"dataframe\">\n",
       "  <thead>\n",
       "    <tr style=\"text-align: right;\">\n",
       "      <th></th>\n",
       "    </tr>\n",
       "  </thead>\n",
       "  <tbody>\n",
       "  </tbody>\n",
       "</table>\n",
       "</div>"
      ],
      "text/plain": [
       "Empty DataFrame\n",
       "Columns: []\n",
       "Index: []"
      ]
     },
     "execution_count": 8,
     "metadata": {},
     "output_type": "execute_result"
    }
   ],
   "source": [
    "from src.data.tushare.download.info import Calendar , pro\n",
    "renamer = {'cal_date' : 'calendar' ,'is_open'  : 'trade'}\n",
    "fields = None\n",
    "df = pro.trade_cal(exchange='SSE').rename(columns=renamer)\n",
    "#df = df.sort_values('calendar').reset_index(drop = True)\n",
    "df"
   ]
  },
  {
   "cell_type": "code",
   "execution_count": 10,
   "metadata": {},
   "outputs": [
    {
     "name": "stdout",
     "output_type": "stream",
     "text": [
      "Finish model [gru_day] predicting!\n",
      "Finish model [gruRTN_day] predicting!\n",
      "Finish model [gru_avg] predicting!\n",
      "--------------------------------------------------------------------------------\n"
     ]
    }
   ],
   "source": [
    "# DataAPI.prepare_predict_data()\n",
    "Predictor.update_factors()"
   ]
  },
  {
   "cell_type": "code",
   "execution_count": null,
   "metadata": {},
   "outputs": [],
   "source": [
    "from src.api import DataAPI , Predictor\n",
    "# DataAPI.prepare_predict_data()\n",
    "md = Predictor.update_factors()"
   ]
  },
  {
   "cell_type": "code",
   "execution_count": null,
   "metadata": {},
   "outputs": [
    {
     "name": "stdout",
     "output_type": "stream",
     "text": [
      "Load  2 DataBlocks ..."
     ]
    },
    {
     "name": "stdout",
     "output_type": "stream",
     "text": [
      "... cost 0.22 secs\n",
      "Align 2 DataBlocks ...... cost 0.21 secs\n",
      "Pre-Norming method of [day] : {'divlast': True, 'histnorm': True}\n",
      "x shape is torch.Size([5064, 30, 6])\n",
      "y shape is torch.Size([5064, 1])\n",
      "Test Forward Success\n",
      "metrics :  Metrics.MetricOutput(loss=tensor(1.0688, grad_fn=<AddBackward0>), score=-0.015420470386743546, loss_item=1.068833589553833, penalty=0.0, losses=tensor(1.0688, grad_fn=<ExpBackward0>))\n",
      "Test Metrics Success\n"
     ]
    }
   ],
   "source": [
    "from src.api import ModelTestor\n",
    "ModelTestor.new('ts_mixer').try_metrics()"
   ]
  }
 ],
 "metadata": {
  "kernelspec": {
   "display_name": "Python 3",
   "language": "python",
   "name": "python3"
  },
  "language_info": {
   "codemirror_mode": {
    "name": "ipython",
    "version": 3
   },
   "file_extension": ".py",
   "mimetype": "text/x-python",
   "name": "python",
   "nbconvert_exporter": "python",
   "pygments_lexer": "ipython3",
   "version": "3.10.12"
  }
 },
 "nbformat": 4,
 "nbformat_minor": 2
}
