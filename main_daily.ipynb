{
 "cells": [
  {
   "cell_type": "code",
   "execution_count": 1,
   "metadata": {},
   "outputs": [
    {
     "name": "stdout",
     "output_type": "stream",
     "text": [
      "Update Files\n",
      "Tue May 14 07:00:17 2024 : Updated ~ data\\DataBase\\DB_information\\calendar.feather Done! Cost 0.05 Secs\n",
      "Tue May 14 07:00:17 2024 : Updated ~ data\\DataBase\\DB_information\\description.feather Done! Cost 0.06 Secs\n",
      "Tue May 14 07:00:17 2024 : Updated ~ data\\DataBase\\DB_information\\st.feather Done! Cost 0.03 Secs\n",
      "Tue May 14 07:00:21 2024 : Updated ~ data\\DataBase\\DB_information\\industry.feather Done! Cost 3.76 Secs\n",
      "Tue May 14 07:00:26 2024 : Updated ~ data\\DataBase\\DB_information\\concepts.feather Done! Cost 5.23 Secs\n",
      "Tue May 14 07:00:27 2024 : Updated ~ data\\DataBase\\DB_models\\longcl_exp\\2024\\longcl_exp.20240508.feather Done! Cost 0.11 Secs\n",
      "Tue May 14 07:00:27 2024 : Updated ~ data\\DataBase\\DB_models\\longcl_exp\\2024\\longcl_exp.20240509.feather Done! Cost 0.10 Secs\n",
      "Tue May 14 07:00:27 2024 : Updated ~ data\\DataBase\\DB_models\\longcl_exp\\2024\\longcl_exp.20240510.feather Done! Cost 0.10 Secs\n",
      "Tue May 14 07:00:27 2024 : Updated ~ data\\DataBase\\DB_models\\risk_exp\\2024\\risk_exp.20240513.feather Done! Cost 0.05 Secs\n",
      "Tue May 14 07:00:29 2024 : Updated ~ data\\DataBase\\DB_trade\\day\\2024\\day.20240513.feather Done! Cost 0.05 Secs\n",
      "Tue May 14 07:00:30 2024 : Updated ~ data\\DataBase\\DB_trade\\5day\\2024\\5day.20240513.feather Done! Cost 0.27 Secs\n",
      "Tue May 14 07:00:30 2024 : Updated ~ data\\DataBase\\DB_trade\\10day\\2024\\10day.20240513.feather Done! Cost 0.48 Secs\n",
      "Tue May 14 07:00:31 2024 : Updated ~ data\\DataBase\\DB_trade\\20day\\2024\\20day.20240513.feather Done! Cost 0.99 Secs\n",
      "Tue May 14 07:00:35 2024 : Updated ~ data\\DataBase\\DB_trade\\min\\2024\\min.20240513.feather Done! Cost 3.48 Secs\n",
      "Tue May 14 07:00:35 2024 : Updated ~ data\\DataBase\\DB_trade\\5min\\2024\\5min.20240513.feather Done! Cost 0.33 Secs\n",
      "Tue May 14 07:00:35 2024 : Updated ~ data\\DataBase\\DB_trade\\10min\\2024\\10min.20240513.feather Done! Cost 0.32 Secs\n",
      "Tue May 14 07:00:36 2024 : Updated ~ data\\DataBase\\DB_trade\\15min\\2024\\15min.20240513.feather Done! Cost 0.27 Secs\n",
      "Tue May 14 07:00:36 2024 : Updated ~ data\\DataBase\\DB_trade\\30min\\2024\\30min.20240513.feather Done! Cost 0.23 Secs\n",
      "Tue May 14 07:00:36 2024 : Updated ~ data\\DataBase\\DB_trade\\60min\\2024\\60min.20240513.feather Done! Cost 0.22 Secs\n",
      "Tue May 14 07:00:39 2024 : Updated ~ data\\DataBase\\DB_labels\\ret20_lag\\2024\\ret20_lag.20240409.feather Done! Cost 0.60 Secs\n",
      "Tue May 14 07:00:39 2024 : Updated ~ data\\DataBase\\DB_labels\\ret20\\2024\\ret20.20240410.feather Done! Cost 0.32 Secs\n",
      "Tue May 14 07:00:42 2024 : Updated ~ data\\DataBase\\DB_labels\\ret10_lag\\2024\\ret10_lag.20240423.feather Done! Cost 0.30 Secs\n",
      "Tue May 14 07:00:43 2024 : Updated ~ data\\DataBase\\DB_labels\\ret10\\2024\\ret10.20240424.feather Done! Cost 0.32 Secs\n",
      "Tue May 14 07:00:45 2024 : Updated ~ data\\DataBase\\DB_labels\\ret5_lag\\2024\\ret5_lag.20240430.feather Done! Cost 0.18 Secs\n",
      "Tue May 14 07:00:45 2024 : Updated ~ data\\DataBase\\DB_labels\\ret5\\2024\\ret5.20240506.feather Done! Cost 0.18 Secs\n",
      "Tue May 14 07:00:49 2024 : download since!\n",
      "Connection and Factor preparation finished!\n",
      "Tue May 14 07:00:49 2024 : sellside/haitong.hf_factors from 20240511 to 20240514, total 1 periods\n",
      "Start sellside/haitong.hf_factors:20240511-20240514 \n",
      "Done sellside/haitong.hf_factors:20240511-20240514, cost 33.5 Secs\n",
      "Tue May 14 07:01:23 2024 : sellside/haitong.dl_factors from 20240511 to 20240514, total 1 periods\n",
      "Start sellside/haitong.dl_factors:20240511-20240514 \n",
      "Done sellside/haitong.dl_factors:20240511-20240514, cost 131.3 Secs\n",
      "Tue May 14 07:03:34 2024 : sellside/dongfang.hfq_chars from 20240511 to 20240514, total 1 periods\n",
      "Start sellside/dongfang.hfq_chars:20240511-20240514 \n",
      "Done sellside/dongfang.hfq_chars:20240511-20240514, cost 3.4 Secs\n",
      "Tue May 14 07:03:38 2024 : sellside/dongfang.l2_chars from 20240511 to 20240514, total 1 periods\n",
      "Start sellside/dongfang.l2_chars:20240511-20240514 \n",
      "Done sellside/dongfang.l2_chars:20240511-20240514, cost 31.8 Secs\n",
      "Tue May 14 07:04:09 2024 : sellside/dongfang.ms_chars from 20240511 to 20240514, total 1 periods\n",
      "Start sellside/dongfang.ms_chars:20240511-20240514 \n",
      "Done sellside/dongfang.ms_chars:20240511-20240514, cost 47.1 Secs\n",
      "Tue May 14 07:04:57 2024 : sellside/dongfang.order_flow from 20240511 to 20240514, total 1 periods\n",
      "Start sellside/dongfang.order_flow:20240511-20240514 \n",
      "Done sellside/dongfang.order_flow:20240511-20240514, cost 1.7 Secs\n",
      "Tue May 14 07:04:58 2024 : sellside/dongfang.gp from 20240511 to 20240514, total 1 periods\n",
      "Start sellside/dongfang.gp:20240511-20240514 \n",
      "Done sellside/dongfang.gp:20240511-20240514, cost 1.8 Secs\n",
      "Tue May 14 07:05:00 2024 : sellside/dongfang.tra from 20240511 to 20240514, total 1 periods\n",
      "Start sellside/dongfang.tra:20240511-20240514 \n",
      "Done sellside/dongfang.tra:20240511-20240514, cost 2.2 Secs\n",
      "Tue May 14 07:05:02 2024 : sellside/dongfang.hist from 20240511 to 20240514, total 1 periods\n",
      "Start sellside/dongfang.hist:20240511-20240514 \n",
      "Done sellside/dongfang.hist:20240511-20240514, cost 1.2 Secs\n",
      "Tue May 14 07:05:04 2024 : sellside/dongfang.scores_v0 from 20240511 to 20240514, total 1 periods\n",
      "Start sellside/dongfang.scores_v0:20240511-20240514 \n",
      "Done sellside/dongfang.scores_v0:20240511-20240514, cost 3.2 Secs\n",
      "Tue May 14 07:05:07 2024 : sellside/kaiyuan.positive from 20240501 to 20240514, total 1 periods\n",
      "Start sellside/kaiyuan.positive:20240501-20240514 \n",
      "Done sellside/kaiyuan.positive:20240501-20240514, cost 3.1 Secs\n",
      "Tue May 14 07:05:10 2024 : sellside/kaiyuan.negative from 20240501 to 20240514, total 1 periods\n",
      "Start sellside/kaiyuan.negative:20240501-20240514 \n",
      "Done sellside/kaiyuan.negative:20240501-20240514, cost 2.0 Secs\n",
      "Tue May 14 07:05:12 2024 : sellside/huatai.dl_factors from 20240511 to 20240514, total 1 periods\n",
      "Start sellside/huatai.dl_factors:20240511-20240514 \n",
      "Done sellside/huatai.dl_factors:20240511-20240514, cost 1.1 Secs\n",
      "Tue May 14 07:05:13 2024 : All Updates Done! Cost 295.75 Secs\n",
      "predict is True , Data Processing start!\n",
      "3 datas :['y', 'trade_day', 'trade_30m']\n",
      "y blocks loading start!\n",
      "labels blocks reading ret10_lag DataBase's......  cost 0.90 secs\n",
      "labels blocks reading ret20_lag DataBase's......  cost 0.85 secs\n",
      "labels blocks merging......  cost 0.10 secs\n",
      "models blocks reading risk_exp DataBase's......  cost 3.12 secs\n",
      "models blocks merging......  cost 0.35 secs\n",
      "y blocks loading cost 5.31 secs\n",
      "y blocks process......  cost 4.10 secs\n",
      "y blocks masking......  cost 0.09 secs\n",
      "y blocks saving ......  cost 0.12 secs\n",
      "y blocks norming......  cost 0.00 secs\n",
      "Tue May 14 07:05:23 2024 : y finished! Cost 9.61 Seconds\n",
      "trade_day blocks loading start!\n",
      "trade blocks reading day DataBase's......  cost 1.54 secs\n",
      "trade_day blocks merging......  cost 0.00 secs\n",
      "trade_day blocks loading cost 1.56 secs\n",
      "trade_day blocks process......  cost 0.12 secs\n",
      "trade_day blocks masking......  cost 0.05 secs\n",
      "trade_day blocks saving ......  cost 0.12 secs\n",
      "trade_day blocks norming......  cost 0.00 secs\n",
      "Tue May 14 07:05:25 2024 : trade_day finished! Cost 1.85 Seconds\n",
      "trade_30m blocks loading start!\n",
      "trade blocks reading 30min DataBase's......  cost 5.72 secs\n",
      "trade_30m blocks merging......  cost 0.00 secs\n",
      "trade blocks reading day DataBase's......  cost 1.03 secs\n",
      "trade_day blocks merging......  cost 0.05 secs\n",
      "trade_30m blocks loading cost 6.81 secs\n",
      "trade_30m blocks process......  cost 1.50 secs\n",
      "trade_30m blocks masking......  cost 0.07 secs\n",
      "trade_30m blocks saving ......  cost 1.63 secs\n",
      "trade_30m blocks norming......  cost 0.00 secs\n",
      "Tue May 14 07:05:35 2024 : trade_30m finished! Cost 10.01 Seconds\n",
      "Data Processing Finished! Cost 21.90 Seconds\n"
     ]
    }
   ],
   "source": [
    "import src.data as data\n",
    "\n",
    "data.update.DataUpdater.update_data()\n",
    "data.update.DataUpdater.preprocess_data(True)"
   ]
  },
  {
   "cell_type": "code",
   "execution_count": 1,
   "metadata": {},
   "outputs": [
    {
     "name": "stdout",
     "output_type": "stream",
     "text": [
      "[{'path': 'd:\\\\Coding\\\\learndl\\\\learndl\\\\model/gru_day/0', 'hidden_dim': 32, 'seqlens': {'day': 30, '30m': 30, 'dms': 30}, 'tra_seqlens': {'hist_loss': 40}, 'dropout': 0.1, 'enc_in': True, 'enc_att': False, 'rnn_type': 'lstm', 'rnn_att': False, 'rnn_layers': 2, 'dec_mlp_layers': 2, 'num_output': 1, 'kernel_size': 3, 'hidden_as_factor': False, 'ordered_param_group': False, 'tra_num_states': 5}, {'path': 'd:\\\\Coding\\\\learndl\\\\learndl\\\\model/gru_day/1', 'hidden_dim': 64, 'seqlens': {'day': 30, '30m': 30, 'dms': 30}, 'tra_seqlens': {'hist_loss': 40}, 'dropout': 0.1, 'enc_in': True, 'enc_att': False, 'rnn_type': 'lstm', 'rnn_att': False, 'rnn_layers': 2, 'dec_mlp_layers': 2, 'num_output': 1, 'kernel_size': 3, 'hidden_as_factor': False, 'ordered_param_group': False, 'tra_num_states': 5}]\n",
      "Load  2 DataBlocks......  cost 0.11 secs\n",
      "Align 2 DataBlocks......  cost 0.36 secs\n",
      "Pre-Norming method of [day] : {'divlast': True, 'histnorm': True}\n",
      "20231201 new\n",
      "[{'path': 'd:\\\\Coding\\\\learndl\\\\learndl\\\\model/gruRTN_day/0', 'hidden_dim': 32, 'seqlens': {'day': 30, '30m': 30, 'dms': 30}, 'tra_seqlens': {'hist_loss': 40}, 'dropout': 0.1, 'enc_in': True, 'enc_att': False, 'rnn_type': 'lstm', 'rnn_att': False, 'rnn_layers': 2, 'dec_mlp_layers': 2, 'num_output': 1, 'kernel_size': 3, 'hidden_as_factor': False, 'ordered_param_group': False, 'tra_num_states': 5}, {'path': 'd:\\\\Coding\\\\learndl\\\\learndl\\\\model/gruRTN_day/1', 'hidden_dim': 64, 'seqlens': {'day': 30, '30m': 30, 'dms': 30}, 'tra_seqlens': {'hist_loss': 40}, 'dropout': 0.1, 'enc_in': True, 'enc_att': False, 'rnn_type': 'lstm', 'rnn_att': False, 'rnn_layers': 2, 'dec_mlp_layers': 2, 'num_output': 1, 'kernel_size': 3, 'hidden_as_factor': False, 'ordered_param_group': False, 'tra_num_states': 5}]\n",
      "Load  2 DataBlocks......  cost 0.05 secs\n",
      "Align 2 DataBlocks......  cost 0.24 secs\n",
      "Pre-Norming method of [day] : {'divlast': True, 'histnorm': True}\n",
      "20231201 new\n",
      "[{'path': 'd:\\\\Coding\\\\learndl\\\\learndl\\\\model/gruRES_day/0', 'hidden_dim': 32, 'seqlens': {'day': 30, '30m': 30, 'dms': 30}, 'tra_seqlens': {'hist_loss': 40}, 'dropout': 0.1, 'enc_in': True, 'enc_att': False, 'rnn_type': 'lstm', 'rnn_att': False, 'rnn_layers': 2, 'dec_mlp_layers': 2, 'num_output': 1, 'kernel_size': 3, 'hidden_as_factor': False, 'ordered_param_group': False, 'tra_num_states': 5}, {'path': 'd:\\\\Coding\\\\learndl\\\\learndl\\\\model/gruRES_day/1', 'hidden_dim': 64, 'seqlens': {'day': 30, '30m': 30, 'dms': 30}, 'tra_seqlens': {'hist_loss': 40}, 'dropout': 0.1, 'enc_in': True, 'enc_att': False, 'rnn_type': 'lstm', 'rnn_att': False, 'rnn_layers': 2, 'dec_mlp_layers': 2, 'num_output': 1, 'kernel_size': 3, 'hidden_as_factor': False, 'ordered_param_group': False, 'tra_num_states': 5}]\n",
      "Load  2 DataBlocks......  cost 0.07 secs\n",
      "Align 2 DataBlocks......  cost 0.29 secs\n",
      "Pre-Norming method of [day] : {'divlast': True, 'histnorm': True}\n",
      "20231201 new\n"
     ]
    },
    {
     "data": {
      "text/plain": [
       "[None, None, None]"
      ]
     },
     "execution_count": 1,
     "metadata": {},
     "output_type": "execute_result"
    }
   ],
   "source": [
    "from src.interface import Predictor\n",
    "\n",
    "model_preds = [\n",
    "    Predictor('gru_day'    , 'swalast' , 0 , 'gru_day_V0') ,\n",
    "    Predictor('gruRTN_day' , 'swalast' , 0 , 'gruRTN_day_V0') ,\n",
    "    Predictor('gruRES_day' , 'swalast' , 0 , 'gruRES_day_V0')\n",
    "]\n",
    "[md.get_df().deploy() for md in model_preds]"
   ]
  },
  {
   "cell_type": "code",
   "execution_count": 1,
   "metadata": {},
   "outputs": [
    {
     "name": "stdout",
     "output_type": "stream",
     "text": [
      "predict is True , Data Processing start!\n",
      "3 datas :['y', 'trade_day', 'trade_30m']\n",
      "y blocks loading start!\n",
      "labels blocks reading ret10_lag DataBase's......  cost 0.77 secs\n",
      "labels blocks reading ret20_lag DataBase's......  cost 0.71 secs\n",
      "labels blocks merging......  cost 0.11 secs\n",
      "models blocks reading risk_exp DataBase's......  cost 3.03 secs\n",
      "models blocks merging......  cost 0.41 secs\n",
      "y blocks loading cost 5.03 secs\n",
      "y blocks process......  cost 5.04 secs\n",
      "y blocks masking......  cost 0.09 secs\n",
      "y blocks saving ......  cost 0.14 secs\n",
      "y blocks norming......  cost 0.00 secs\n",
      "Thu May  9 09:14:53 2024 : y finished! Cost 10.30 Seconds\n",
      "trade_day blocks loading start!\n",
      "trade blocks reading day DataBase's......  cost 1.60 secs\n",
      "trade_day blocks merging......  cost 0.00 secs\n",
      "trade_day blocks loading cost 1.62 secs\n",
      "trade_day blocks process......  cost 0.12 secs\n",
      "trade_day blocks masking......  cost 0.07 secs\n",
      "trade_day blocks saving ......  cost 0.12 secs\n",
      "trade_day blocks norming......  cost 0.00 secs\n",
      "Thu May  9 09:14:55 2024 : trade_day finished! Cost 1.93 Seconds\n",
      "trade_30m blocks loading start!\n",
      "trade blocks reading 30min DataBase's......  cost 6.31 secs\n",
      "trade_30m blocks merging......  cost 0.00 secs\n",
      "trade blocks reading day DataBase's......  cost 1.31 secs\n",
      "trade_day blocks merging......  cost 0.05 secs\n",
      "trade_30m blocks loading cost 7.67 secs\n",
      "trade_30m blocks process......  cost 1.78 secs\n",
      "trade_30m blocks masking......  cost 0.18 secs\n",
      "trade_30m blocks saving ......  cost 1.93 secs\n",
      "trade_30m blocks norming......  cost 0.00 secs\n",
      "Thu May  9 09:15:07 2024 : trade_30m finished! Cost 11.56 Seconds\n",
      "Data Processing Finished! Cost 24.05 Seconds\n"
     ]
    }
   ],
   "source": [
    "import src.data as data\n",
    "data.update.DataUpdater.preprocess_data(True)"
   ]
  },
  {
   "cell_type": "code",
   "execution_count": 1,
   "metadata": {},
   "outputs": [
    {
     "ename": "IndexError",
     "evalue": "string index out of range",
     "output_type": "error",
     "traceback": [
      "\u001b[1;31m---------------------------------------------------------------------------\u001b[0m",
      "\u001b[1;31mIndexError\u001b[0m                                Traceback (most recent call last)",
      "Cell \u001b[1;32mIn[1], line 2\u001b[0m\n\u001b[0;32m      1\u001b[0m \u001b[38;5;28;01mimport\u001b[39;00m \u001b[38;5;21;01msrc\u001b[39;00m\u001b[38;5;21;01m.\u001b[39;00m\u001b[38;5;21;01mdata\u001b[39;00m \u001b[38;5;28;01mas\u001b[39;00m \u001b[38;5;21;01mdata\u001b[39;00m\n\u001b[1;32m----> 2\u001b[0m \u001b[43mdata\u001b[49m\u001b[38;5;241;43m.\u001b[39;49m\u001b[43mupdate\u001b[49m\u001b[38;5;241;43m.\u001b[39;49m\u001b[43mDataUpdater\u001b[49m\u001b[38;5;241;43m.\u001b[39;49m\u001b[43mpreprocess_data\u001b[49m\u001b[43m(\u001b[49m\u001b[38;5;28;43;01mFalse\u001b[39;49;00m\u001b[43m)\u001b[49m\n",
      "File \u001b[1;32md:\\Coding\\learndl\\learndl\\src\\data\\update.py:252\u001b[0m, in \u001b[0;36mDataUpdater.preprocess_data\u001b[1;34m(predict, confirm, parser, data_key)\u001b[0m\n\u001b[0;32m    249\u001b[0m     parser\u001b[38;5;241m.\u001b[39madd_argument(\u001b[38;5;124m\"\u001b[39m\u001b[38;5;124m--confirm\u001b[39m\u001b[38;5;124m\"\u001b[39m, \u001b[38;5;28mtype\u001b[39m\u001b[38;5;241m=\u001b[39m\u001b[38;5;28mstr\u001b[39m, default \u001b[38;5;241m=\u001b[39m confirm)\n\u001b[0;32m    250\u001b[0m     args , _ \u001b[38;5;241m=\u001b[39m parser\u001b[38;5;241m.\u001b[39mparse_known_args()\n\u001b[1;32m--> 252\u001b[0m \u001b[38;5;28;01mif\u001b[39;00m \u001b[38;5;129;01mnot\u001b[39;00m predict \u001b[38;5;129;01mand\u001b[39;00m \u001b[38;5;129;01mnot\u001b[39;00m args\u001b[38;5;241m.\u001b[39mconfirm \u001b[38;5;129;01mand\u001b[39;00m \u001b[38;5;129;01mnot\u001b[39;00m \u001b[38;5;28;43minput\u001b[39;49m\u001b[43m(\u001b[49m\u001b[38;5;124;43m'\u001b[39;49m\u001b[38;5;124;43mConfirm update data? print \u001b[39;49m\u001b[38;5;124;43m\"\u001b[39;49m\u001b[38;5;124;43myes\u001b[39;49m\u001b[38;5;124;43m\"\u001b[39;49m\u001b[38;5;124;43m to confirm!\u001b[39;49m\u001b[38;5;124;43m'\u001b[39;49m\u001b[43m)\u001b[49m\u001b[38;5;241;43m.\u001b[39;49m\u001b[43mlower\u001b[49m\u001b[43m(\u001b[49m\u001b[43m)\u001b[49m\u001b[43m[\u001b[49m\u001b[38;5;241;43m0\u001b[39;49m\u001b[43m]\u001b[49m \u001b[38;5;241m==\u001b[39m \u001b[38;5;124m'\u001b[39m\u001b[38;5;124my\u001b[39m\u001b[38;5;124m'\u001b[39m : \n\u001b[0;32m    253\u001b[0m     sys\u001b[38;5;241m.\u001b[39mexit()\n\u001b[0;32m    255\u001b[0m t1 \u001b[38;5;241m=\u001b[39m time\u001b[38;5;241m.\u001b[39mtime()\n",
      "\u001b[1;31mIndexError\u001b[0m: string index out of range"
     ]
    }
   ],
   "source": [
    "import src.data as data\n",
    "data.update.DataUpdater.preprocess_data(False)"
   ]
  },
  {
   "cell_type": "code",
   "execution_count": 4,
   "metadata": {},
   "outputs": [
    {
     "name": "stdout",
     "output_type": "stream",
     "text": [
      "Load  2 DataBlocks......  cost 0.06 secs\n",
      "Align 2 DataBlocks......  cost 0.21 secs\n",
      "Pre-Norming method of [day] : {'divlast': True, 'histnorm': True}\n"
     ]
    },
    {
     "ename": "ValueError",
     "evalue": "max() arg is an empty sequence",
     "output_type": "error",
     "traceback": [
      "\u001b[1;31m---------------------------------------------------------------------------\u001b[0m",
      "\u001b[1;31mValueError\u001b[0m                                Traceback (most recent call last)",
      "Cell \u001b[1;32mIn[4], line 1\u001b[0m\n\u001b[1;32m----> 1\u001b[0m \u001b[43mmodel_preds\u001b[49m\u001b[43m[\u001b[49m\u001b[38;5;241;43m0\u001b[39;49m\u001b[43m]\u001b[49m\u001b[38;5;241;43m.\u001b[39;49m\u001b[43mget_df\u001b[49m\u001b[43m(\u001b[49m\u001b[43m)\u001b[49m\n",
      "File \u001b[1;32md:\\Coding\\learndl\\learndl\\src\\interface\\predictor.py:45\u001b[0m, in \u001b[0;36mPredictor.get_df\u001b[1;34m(self, start_dt, end_dt)\u001b[0m\n\u001b[0;32m     43\u001b[0m \u001b[38;5;28;01mdef\u001b[39;00m \u001b[38;5;21mget_df\u001b[39m(\u001b[38;5;28mself\u001b[39m , start_dt \u001b[38;5;241m=\u001b[39m \u001b[38;5;241m-\u001b[39m\u001b[38;5;241m10\u001b[39m , end_dt \u001b[38;5;241m=\u001b[39m \u001b[38;5;241m20991231\u001b[39m):\n\u001b[0;32m     44\u001b[0m \u001b[38;5;250m    \u001b[39m\u001b[38;5;124;03m'''save recent prediction to self.df'''\u001b[39;00m\n\u001b[1;32m---> 45\u001b[0m     \u001b[38;5;28mself\u001b[39m\u001b[38;5;241m.\u001b[39mdf \u001b[38;5;241m=\u001b[39m \u001b[38;5;28;43mself\u001b[39;49m\u001b[38;5;241;43m.\u001b[39;49m\u001b[43mpredict\u001b[49m\u001b[43m(\u001b[49m\u001b[43mstart_dt\u001b[49m\u001b[38;5;241;43m=\u001b[39;49m\u001b[43m \u001b[49m\u001b[43mstart_dt\u001b[49m\u001b[43m \u001b[49m\u001b[43m,\u001b[49m\u001b[43m \u001b[49m\u001b[43mend_dt\u001b[49m\u001b[43m \u001b[49m\u001b[38;5;241;43m=\u001b[39;49m\u001b[43m \u001b[49m\u001b[43mend_dt\u001b[49m\u001b[43m)\u001b[49m\n\u001b[0;32m     46\u001b[0m     \u001b[38;5;28;01mreturn\u001b[39;00m \u001b[38;5;28mself\u001b[39m\n",
      "File \u001b[1;32md:\\Coding\\learndl\\learndl\\src\\interface\\predictor.py:82\u001b[0m, in \u001b[0;36mPredictor.predict\u001b[1;34m(self, start_dt, end_dt)\u001b[0m\n\u001b[0;32m     79\u001b[0m data_mod_old \u001b[38;5;241m=\u001b[39m DataModule(model_config , \u001b[38;5;28;01mFalse\u001b[39;00m)\u001b[38;5;241m.\u001b[39mload_data() \u001b[38;5;28;01mif\u001b[39;00m require_model_data_old \u001b[38;5;28;01melse\u001b[39;00m \u001b[38;5;28;01mNone\u001b[39;00m\n\u001b[0;32m     80\u001b[0m data_mod_new \u001b[38;5;241m=\u001b[39m DataModule(model_config , \u001b[38;5;28;01mTrue\u001b[39;00m)\u001b[38;5;241m.\u001b[39mload_data() \n\u001b[1;32m---> 82\u001b[0m end_dt \u001b[38;5;241m=\u001b[39m \u001b[38;5;28mmin\u001b[39m(end_dt , \u001b[38;5;28;43mmax\u001b[39;49m\u001b[43m(\u001b[49m\u001b[43mdata_mod_new\u001b[49m\u001b[38;5;241;43m.\u001b[39;49m\u001b[43mtest_full_dates\u001b[49m\u001b[43m)\u001b[49m)\n\u001b[0;32m     83\u001b[0m pred_dates \u001b[38;5;241m=\u001b[39m calendar[(calendar[\u001b[38;5;124m'\u001b[39m\u001b[38;5;124mcalendar\u001b[39m\u001b[38;5;124m'\u001b[39m] \u001b[38;5;241m>\u001b[39m\u001b[38;5;241m=\u001b[39m start_dt) \u001b[38;5;241m&\u001b[39m (calendar[\u001b[38;5;124m'\u001b[39m\u001b[38;5;124mcalendar\u001b[39m\u001b[38;5;124m'\u001b[39m] \u001b[38;5;241m<\u001b[39m\u001b[38;5;241m=\u001b[39m end_dt) \u001b[38;5;241m&\u001b[39m (calendar[\u001b[38;5;124m'\u001b[39m\u001b[38;5;124mtrade\u001b[39m\u001b[38;5;124m'\u001b[39m])][\u001b[38;5;124m'\u001b[39m\u001b[38;5;124mcalendar\u001b[39m\u001b[38;5;124m'\u001b[39m]\u001b[38;5;241m.\u001b[39mvalues\n\u001b[0;32m     85\u001b[0m df_task \u001b[38;5;241m=\u001b[39m pd\u001b[38;5;241m.\u001b[39mDataFrame({\n\u001b[0;32m     86\u001b[0m     \u001b[38;5;124m'\u001b[39m\u001b[38;5;124mpred_dates\u001b[39m\u001b[38;5;124m'\u001b[39m : pred_dates ,\n\u001b[0;32m     87\u001b[0m     \u001b[38;5;124m'\u001b[39m\u001b[38;5;124mmodel_date\u001b[39m\u001b[38;5;124m'\u001b[39m : [\u001b[38;5;28mmax\u001b[39m(model_dates[model_dates \u001b[38;5;241m<\u001b[39m d_pred]) \u001b[38;5;28;01mfor\u001b[39;00m d_pred \u001b[38;5;129;01min\u001b[39;00m pred_dates] ,\n\u001b[0;32m     88\u001b[0m     \u001b[38;5;124m'\u001b[39m\u001b[38;5;124mcalculated\u001b[39m\u001b[38;5;124m'\u001b[39m : \u001b[38;5;241m0\u001b[39m ,\n\u001b[0;32m     89\u001b[0m })\n",
      "\u001b[1;31mValueError\u001b[0m: max() arg is an empty sequence"
     ]
    }
   ],
   "source": [
    "model_preds[0].get_df()"
   ]
  },
  {
   "cell_type": "code",
   "execution_count": 2,
   "metadata": {},
   "outputs": [
    {
     "name": "stdout",
     "output_type": "stream",
     "text": [
      "Load  2 DataBlocks ..."
     ]
    },
    {
     "name": "stdout",
     "output_type": "stream",
     "text": [
      "... cost 0.22 secs\n",
      "Align 2 DataBlocks ...... cost 0.21 secs\n",
      "Pre-Norming method of [day] : {'divlast': True, 'histnorm': True}\n",
      "x shape is torch.Size([5064, 30, 6])\n",
      "y shape is torch.Size([5064, 1])\n",
      "Test Forward Success\n",
      "metrics :  Metrics.MetricOutput(loss=tensor(1.0688, grad_fn=<AddBackward0>), score=-0.015420470386743546, loss_item=1.068833589553833, penalty=0.0, losses=tensor(1.0688, grad_fn=<ExpBackward0>))\n",
      "Test Metrics Success\n"
     ]
    }
   ],
   "source": [
    "from src.interface import ModelTestor\n",
    "\n",
    "mt = ModelTestor.new('ts_mixer')\n",
    "mt.try_metrics()"
   ]
  }
 ],
 "metadata": {
  "kernelspec": {
   "display_name": "Python 3",
   "language": "python",
   "name": "python3"
  },
  "language_info": {
   "codemirror_mode": {
    "name": "ipython",
    "version": 3
   },
   "file_extension": ".py",
   "mimetype": "text/x-python",
   "name": "python",
   "nbconvert_exporter": "python",
   "pygments_lexer": "ipython3",
   "version": "3.11.8"
  }
 },
 "nbformat": 4,
 "nbformat_minor": 2
}
