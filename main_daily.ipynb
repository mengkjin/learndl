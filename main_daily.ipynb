{
 "cells": [
  {
   "cell_type": "code",
   "execution_count": 1,
   "metadata": {},
   "outputs": [
    {
     "name": "stdout",
     "output_type": "stream",
     "text": [
      "Update Files\n",
      "Wed Jul  3 00:45:31 2024 : Updated ~ data\\DataBase\\DB_information\\calendar.feather Done! Cost 0.00 Secs\n",
      "Wed Jul  3 00:45:31 2024 : Updated ~ data\\DataBase\\DB_information\\description.feather Done! Cost 0.03 Secs\n",
      "Wed Jul  3 00:45:31 2024 : Updated ~ data\\DataBase\\DB_information\\st.feather Done! Cost 0.02 Secs\n",
      "Wed Jul  3 00:45:33 2024 : Updated ~ data\\DataBase\\DB_information\\industry.feather Done! Cost 2.28 Secs\n",
      "Wed Jul  3 00:45:37 2024 : Updated ~ data\\DataBase\\DB_information\\concepts.feather Done! Cost 4.43 Secs\n"
     ]
    },
    {
     "ename": "TypeError",
     "evalue": "reduce() of empty iterable with no initial value",
     "output_type": "error",
     "traceback": [
      "\u001b[1;31m---------------------------------------------------------------------------\u001b[0m",
      "\u001b[1;31mTypeError\u001b[0m                                 Traceback (most recent call last)",
      "Cell \u001b[1;32mIn[1], line 3\u001b[0m\n\u001b[0;32m      1\u001b[0m \u001b[38;5;28;01mfrom\u001b[39;00m \u001b[38;5;21;01msrc\u001b[39;00m\u001b[38;5;21;01m.\u001b[39;00m\u001b[38;5;21;01mapi\u001b[39;00m \u001b[38;5;28;01mimport\u001b[39;00m DataAPI , Predictor\n\u001b[1;32m----> 3\u001b[0m \u001b[43mDataAPI\u001b[49m\u001b[38;5;241;43m.\u001b[39;49m\u001b[43mupdate\u001b[49m\u001b[43m(\u001b[49m\u001b[43m)\u001b[49m\n\u001b[0;32m      4\u001b[0m DataAPI\u001b[38;5;241m.\u001b[39mprepare_train_data()\n\u001b[0;32m      5\u001b[0m Predictor\u001b[38;5;241m.\u001b[39mupdate_factors()\n",
      "File \u001b[1;32md:\\Coding\\learndl\\learndl\\src\\nn_model\\api\\data.py:18\u001b[0m, in \u001b[0;36mDataAPI.update\u001b[1;34m()\u001b[0m\n\u001b[0;32m     16\u001b[0m     DataUpdater\u001b[38;5;241m.\u001b[39mupdate_server()\n\u001b[0;32m     17\u001b[0m \u001b[38;5;28;01melse\u001b[39;00m:\n\u001b[1;32m---> 18\u001b[0m     \u001b[43mDataUpdater\u001b[49m\u001b[38;5;241;43m.\u001b[39;49m\u001b[43mupdate_laptop\u001b[49m\u001b[43m(\u001b[49m\u001b[43m)\u001b[49m\n\u001b[0;32m     19\u001b[0m \u001b[38;5;28mprint\u001b[39m(\u001b[38;5;124m'\u001b[39m\u001b[38;5;124m-\u001b[39m\u001b[38;5;124m'\u001b[39m \u001b[38;5;241m*\u001b[39m \u001b[38;5;241m80\u001b[39m)\n",
      "File \u001b[1;32md:\\Coding\\learndl\\learndl\\src\\data\\update.py:178\u001b[0m, in \u001b[0;36mDataUpdater.update_laptop\u001b[1;34m(cls)\u001b[0m\n\u001b[0;32m    176\u001b[0m \u001b[38;5;28mprint\u001b[39m(\u001b[38;5;124mf\u001b[39m\u001b[38;5;124m'\u001b[39m\u001b[38;5;124mUpdate Files\u001b[39m\u001b[38;5;124m'\u001b[39m)\n\u001b[0;32m    177\u001b[0m Updater \u001b[38;5;241m=\u001b[39m \u001b[38;5;28mcls\u001b[39m()\n\u001b[1;32m--> 178\u001b[0m \u001b[43mUpdater\u001b[49m\u001b[38;5;241;43m.\u001b[39;49m\u001b[43mupdate_all\u001b[49m\u001b[43m(\u001b[49m\u001b[43m)\u001b[49m\n\u001b[0;32m    179\u001b[0m Updater\u001b[38;5;241m.\u001b[39mprint_unfetch()\n\u001b[0;32m    180\u001b[0m SQLFetcher\u001b[38;5;241m.\u001b[39mupdate_since()\n",
      "File \u001b[1;32md:\\Coding\\learndl\\learndl\\src\\data\\update.py:155\u001b[0m, in \u001b[0;36mDataUpdater.update_all\u001b[1;34m(self, db_srcs, start_dt, end_dt, force)\u001b[0m\n\u001b[0;32m    153\u001b[0m     \u001b[38;5;28mself\u001b[39m\u001b[38;5;241m.\u001b[39mupdate_by_name(db_src)\n\u001b[0;32m    154\u001b[0m \u001b[38;5;28;01melif\u001b[39;00m db_src \u001b[38;5;129;01min\u001b[39;00m DB_BY_DATE:\n\u001b[1;32m--> 155\u001b[0m     \u001b[38;5;28;43mself\u001b[39;49m\u001b[38;5;241;43m.\u001b[39;49m\u001b[43mupdate_by_date\u001b[49m\u001b[43m(\u001b[49m\u001b[43mdb_src\u001b[49m\u001b[43m \u001b[49m\u001b[43m,\u001b[49m\u001b[43m \u001b[49m\u001b[43mstart_dt\u001b[49m\u001b[43m \u001b[49m\u001b[43m,\u001b[49m\u001b[43m \u001b[49m\u001b[43mend_dt\u001b[49m\u001b[43m \u001b[49m\u001b[43m,\u001b[49m\u001b[43m \u001b[49m\u001b[43mforce\u001b[49m\u001b[43m \u001b[49m\u001b[38;5;241;43m=\u001b[39;49m\u001b[43m \u001b[49m\u001b[43mforce\u001b[49m\u001b[43m)\u001b[49m\n\u001b[0;32m    156\u001b[0m \u001b[38;5;28;01melse\u001b[39;00m:\n\u001b[0;32m    157\u001b[0m     \u001b[38;5;28;01mraise\u001b[39;00m \u001b[38;5;167;01mException\u001b[39;00m(db_src)\n",
      "File \u001b[1;32md:\\Coding\\learndl\\learndl\\src\\data\\update.py:134\u001b[0m, in \u001b[0;36mDataUpdater.update_by_date\u001b[1;34m(self, db_src, start_dt, end_dt, force)\u001b[0m\n\u001b[0;32m    132\u001b[0m result \u001b[38;5;241m=\u001b[39m \u001b[38;5;28;01mNone\u001b[39;00m \u001b[38;5;66;03m# {}\u001b[39;00m\n\u001b[0;32m    133\u001b[0m update_dates \u001b[38;5;241m=\u001b[39m [par\u001b[38;5;241m.\u001b[39mget_update_dates(start_dt\u001b[38;5;241m=\u001b[39mstart_dt,end_dt\u001b[38;5;241m=\u001b[39mend_dt,force\u001b[38;5;241m=\u001b[39mforce) \u001b[38;5;28;01mfor\u001b[39;00m par \u001b[38;5;129;01min\u001b[39;00m params]\n\u001b[1;32m--> 134\u001b[0m full_dates \u001b[38;5;241m=\u001b[39m \u001b[43mreduce\u001b[49m\u001b[43m(\u001b[49m\u001b[43mnp\u001b[49m\u001b[38;5;241;43m.\u001b[39;49m\u001b[43munion1d\u001b[49m\u001b[43m,\u001b[49m\u001b[43m \u001b[49m\u001b[43mupdate_dates\u001b[49m\u001b[43m)\u001b[49m\n\u001b[0;32m    135\u001b[0m update_cond  \u001b[38;5;241m=\u001b[39m np\u001b[38;5;241m.\u001b[39mstack([np\u001b[38;5;241m.\u001b[39misin(full_dates , dts) \u001b[38;5;28;01mfor\u001b[39;00m dts \u001b[38;5;129;01min\u001b[39;00m update_dates] , \u001b[38;5;241m-\u001b[39m\u001b[38;5;241m1\u001b[39m)\n\u001b[0;32m    136\u001b[0m \u001b[38;5;28;01mfor\u001b[39;00m i , date \u001b[38;5;129;01min\u001b[39;00m \u001b[38;5;28menumerate\u001b[39m(full_dates):\n",
      "\u001b[1;31mTypeError\u001b[0m: reduce() of empty iterable with no initial value"
     ]
    }
   ],
   "source": [
    "from src.api import DataAPI , Predictor\n",
    "\n",
    "DataAPI.update()\n",
    "DataAPI.prepare_train_data()\n",
    "Predictor.update_factors()"
   ]
  },
  {
   "cell_type": "code",
   "execution_count": 1,
   "metadata": {},
   "outputs": [
    {
     "name": "stdout",
     "output_type": "stream",
     "text": [
      "Finish model [gru_day] predicting!\n",
      "Finish model [gruRTN_day] predicting!\n",
      "Finish model [gruRES_day] predicting!\n",
      "--------------------------------------------------------------------------------\n"
     ]
    }
   ],
   "source": [
    "from src.api import Predictor\n",
    "Predictor.update_factors()"
   ]
  },
  {
   "cell_type": "code",
   "execution_count": 2,
   "metadata": {},
   "outputs": [
    {
     "name": "stdout",
     "output_type": "stream",
     "text": [
      "Load  2 DataBlocks ..."
     ]
    },
    {
     "name": "stdout",
     "output_type": "stream",
     "text": [
      "... cost 0.22 secs\n",
      "Align 2 DataBlocks ...... cost 0.21 secs\n",
      "Pre-Norming method of [day] : {'divlast': True, 'histnorm': True}\n",
      "x shape is torch.Size([5064, 30, 6])\n",
      "y shape is torch.Size([5064, 1])\n",
      "Test Forward Success\n",
      "metrics :  Metrics.MetricOutput(loss=tensor(1.0688, grad_fn=<AddBackward0>), score=-0.015420470386743546, loss_item=1.068833589553833, penalty=0.0, losses=tensor(1.0688, grad_fn=<ExpBackward0>))\n",
      "Test Metrics Success\n"
     ]
    }
   ],
   "source": [
    "from src.api import ModelTestor\n",
    "ModelTestor.new('ts_mixer').try_metrics()"
   ]
  }
 ],
 "metadata": {
  "kernelspec": {
   "display_name": "Python 3",
   "language": "python",
   "name": "python3"
  },
  "language_info": {
   "codemirror_mode": {
    "name": "ipython",
    "version": 3
   },
   "file_extension": ".py",
   "mimetype": "text/x-python",
   "name": "python",
   "nbconvert_exporter": "python",
   "pygments_lexer": "ipython3",
   "version": "3.11.8"
  }
 },
 "nbformat": 4,
 "nbformat_minor": 2
}
