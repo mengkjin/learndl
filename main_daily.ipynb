{
 "cells": [
  {
   "cell_type": "code",
   "execution_count": 8,
   "metadata": {},
   "outputs": [
    {
     "name": "stdout",
     "output_type": "stream",
     "text": [
      "Load  1 DataBlocks...... finished! Cost 0.08 secs\n",
      "Align 1 DataBlocks...... finished! Cost 0.16 secs\n"
     ]
    }
   ],
   "source": [
    "from src.data import ModuleData\n",
    "datas = ModuleData.load([] , ['std_lag1_10' , 'std_lag1_20' , 'res_lag1_20'] , fit = False , predict = True)"
   ]
  },
  {
   "cell_type": "code",
   "execution_count": 11,
   "metadata": {},
   "outputs": [],
   "source": [
    "import torch\n",
    "a = torch.load('./data/Interim/DataBlock/Y.00.pt')"
   ]
  },
  {
   "cell_type": "code",
   "execution_count": 1,
   "metadata": {},
   "outputs": [
    {
     "name": "stdout",
     "output_type": "stream",
     "text": [
      "src.basic.INSTANCE_RECORD can be accessed to check ['trainer', 'account']\n",
      "Basic module imported!\n"
     ]
    }
   ],
   "source": [
    "%run src_runs/autorun/daily_update.py"
   ]
  },
  {
   "cell_type": "code",
   "execution_count": 6,
   "metadata": {},
   "outputs": [
    {
     "name": "stdout",
     "output_type": "stream",
     "text": [
      "--------------------------------------------------------------------------------\n",
      "***************************** PREPARE PREDICT DATA *****************************\n",
      "predict is True , Data Processing start!\n",
      "6 datas : ['y', 'day', '30m', 'style', 'indus', 'week'] , from -366 to None\n",
      "y blocks loading start!\n",
      " --> labels_ts blocks reading [ret10_lag] DataBase...... finished! Cost 1.38 secs\n",
      " --> labels_ts blocks reading [ret20_lag] DataBase...... finished! Cost 1.72 secs\n",
      " --> labels_ts blocks merging (2)...... finished! Cost 0.32 secs\n",
      " --> models blocks reading [tushare_cne5_exp] DataBase...... finished! Cost 5.79 secs\n",
      "y blocks loading finished! Cost 10.00 secs\n",
      "y blocks process...... finished! Cost 10.02 secs\n",
      "y blocks masking...... finished! Cost 0.09 secs\n",
      "y blocks saving ...... finished! Cost 0.40 secs\n",
      "y blocks norming...... finished! Cost 0.00 secs\n",
      "y finished! Cost 21.02 Seconds\n",
      "--------------------------------------------------------------------------------\n",
      "day blocks loading start!\n",
      " --> trade_ts blocks reading [day] DataBase...... finished! Cost 3.71 secs\n",
      "day blocks loading finished! Cost 3.76 secs\n",
      "day blocks process...... finished! Cost 0.40 secs\n",
      "day blocks masking...... finished! Cost 0.09 secs\n",
      "day blocks saving ...... finished! Cost 0.36 secs\n",
      "day blocks norming...... finished! Cost 0.00 secs\n",
      "day finished! Cost 4.88 Seconds\n",
      "--------------------------------------------------------------------------------\n",
      "30m blocks loading start!\n",
      " --> trade_ts blocks reading [30min] DataBase...... finished! Cost 0.77 secs\n",
      " --> trade_ts blocks reading [day] DataBase...... finished! Cost 2.57 secs\n",
      "30m blocks loading finished! Cost 3.36 secs\n",
      "30m blocks process...... finished! Cost 0.22 secs\n",
      "30m blocks masking...... finished! Cost 0.08 secs\n",
      "30m blocks saving ...... finished! Cost 0.21 secs\n",
      "30m blocks norming...... finished! Cost 0.00 secs\n",
      "30m finished! Cost 4.04 Seconds\n",
      "--------------------------------------------------------------------------------\n",
      "style blocks loading start!\n",
      " --> models blocks reading [tushare_cne5_exp] DataBase...... finished! Cost 3.12 secs\n",
      "style blocks loading finished! Cost 3.12 secs\n",
      "style blocks process...... finished! Cost 0.00 secs\n",
      "style blocks masking...... finished! Cost 0.23 secs\n",
      "style blocks saving ...... finished! Cost 0.69 secs\n",
      "style blocks norming...... finished! Cost 0.00 secs\n",
      "style finished! Cost 4.22 Seconds\n",
      "--------------------------------------------------------------------------------\n",
      "indus blocks loading start!\n",
      " --> models blocks reading [tushare_cne5_exp] DataBase...... finished! Cost 4.70 secs\n",
      "indus blocks loading finished! Cost 4.71 secs\n",
      "indus blocks process...... finished! Cost 0.00 secs\n",
      "indus blocks masking...... finished! Cost 0.16 secs\n",
      "indus blocks saving ...... finished! Cost 3.01 secs\n",
      "indus blocks norming...... finished! Cost 0.00 secs\n",
      "indus finished! Cost 8.13 Seconds\n",
      "--------------------------------------------------------------------------------\n",
      "week blocks loading start!\n",
      " --> trade_ts blocks reading [day] DataBase...... finished! Cost 5.46 secs\n",
      "week blocks loading finished! Cost 5.56 secs\n",
      "week blocks process...... finished! Cost 3.99 secs\n",
      "week blocks masking...... finished! Cost 0.37 secs\n",
      "week blocks saving ...... finished! Cost 8.61 secs\n",
      "week blocks norming...... finished! Cost 0.00 secs\n",
      "week finished! Cost 19.87 Seconds\n",
      "--------------------------------------------------------------------------------\n",
      "Data Processing Finished! Cost 62.17 Seconds\n",
      "--------------------------------------------------------------------------------\n",
      "--------------------------------------------------------------------------------\n",
      "******************************** UPDATE HIDDEN ********************************\n",
      "model_name is None, update all hidden models (len=1)\n",
      "Beware! Should be at server or short_test, but short_test is False now!\n",
      "try using D:\\Coding\\learndl\\learndl\\data\\Interim\\DataSet/day.20240607.pt , success!\n",
      "Load  2 DataBlocks...... finished! Cost 0.66 secs\n",
      "Align 2 DataBlocks...... finished! Cost 0.40 secs\n",
      "Pre-Norming method of [day] : {'divlast': True, 'histnorm': True}\n"
     ]
    },
    {
     "name": "stderr",
     "output_type": "stream",
     "text": [
      "100%|██████████| 316/316 [00:00<00:00, 1516.02it/s]\n",
      "100%|██████████| 316/316 [00:00<00:00, 1501.64it/s]\n"
     ]
    },
    {
     "name": "stdout",
     "output_type": "stream",
     "text": [
      "  -->  Finish updating hidden feature extraction for HiddenExtractingModel(hidden_name=gru_day_V0,name=gru_day,submodels=['best'],nums=None) , len=2\n",
      "--------------------------------------------------------------------------------\n",
      "--------------------------------------------------------------------------------\n",
      "******************************** UPDATE FACTORS ********************************\n",
      "model_name is None, update all registered models (len=3)\n",
      "  -->  Finish updating model prediction for RegisteredModel(pred_name=gru_day_V0,name=gru_day,submodel=swalast,num=0) , len=1\n",
      "  -->  Finish updating model prediction for RegisteredModel(pred_name=gruRTN_day_V0,name=gruRTN_day,submodel=swalast,num=0) , len=1\n",
      "  -->  Finish updating model prediction for RegisteredModel(pred_name=gru_day_V1,name=gru_avg,submodel=swalast,num=all) , len=1\n",
      "--------------------------------------------------------------------------------\n",
      "--------------------------------------------------------------------------------\n",
      "*************************** UPDATE FACTOR PORTFOLIOS ***************************\n",
      "model_name is None, build fmps for all registered models (len=3)\n",
      "  -->  No new updating model portfolios for RegisteredModel(pred_name=gru_day_V0,name=gru_day,submodel=swalast,num=0)\n",
      "  -->  Finish updating model accounting for RegisteredModel(pred_name=gru_day_V0,name=gru_day,submodel=swalast,num=0) , len=2\n",
      "  -->  No new updating model portfolios for RegisteredModel(pred_name=gruRTN_day_V0,name=gruRTN_day,submodel=swalast,num=0)\n",
      "  -->  Finish updating model accounting for RegisteredModel(pred_name=gruRTN_day_V0,name=gruRTN_day,submodel=swalast,num=0) , len=2\n",
      "  -->  No new updating model portfolios for RegisteredModel(pred_name=gru_day_V1,name=gru_avg,submodel=swalast,num=all)\n",
      "  -->  Finish updating model accounting for RegisteredModel(pred_name=gru_day_V1,name=gru_avg,submodel=swalast,num=all) , len=2\n",
      "--------------------------------------------------------------------------------\n"
     ]
    }
   ],
   "source": [
    "from src.api import DataAPI , ModelAPI\n",
    "DataAPI.update()\n",
    "ModelAPI.update()"
   ]
  },
  {
   "cell_type": "code",
   "execution_count": 5,
   "metadata": {},
   "outputs": [
    {
     "data": {
      "text/plain": [
       "secid\n",
       "1             NaN\n",
       "2         23.6045\n",
       "4         11.6913\n",
       "6         38.5851\n",
       "7         34.4723\n",
       "           ...   \n",
       "920060     2.5784\n",
       "920066     0.0976\n",
       "920088     9.3508\n",
       "920099    14.8430\n",
       "920118     3.1372\n",
       "Name: longdeb_to_debt, Length: 5385, dtype: float64"
      ]
     },
     "execution_count": 5,
     "metadata": {},
     "output_type": "execute_result"
    }
   ],
   "source": [
    "import pandas as pd\n",
    "import numpy as np\n",
    "from src.basic import CALENDAR\n",
    "from src.data import DATAVENDOR\n",
    "\n",
    "date = 20241101\n",
    "DATAVENDOR.INDI.acc('longdeb_to_debt' , date , 1)['longdeb_to_debt']\n"
   ]
  },
  {
   "cell_type": "code",
   "execution_count": 7,
   "metadata": {},
   "outputs": [
    {
     "data": {
      "text/plain": [
       "dict_keys([20240827, 20240828, 20240829, 20240830, 20240902, 20240903, 20240904, 20240905, 20240906, 20240909, 20240910, 20240911, 20240912, 20240913, 20240918, 20240919, 20240920, 20240923, 20240924, 20240925, 20240926, 20240927, 20240930, 20241008, 20241009, 20241010, 20241011, 20241014, 20241015, 20241016, 20241017, 20241018, 20241021, 20241022, 20241023, 20241024, 20241025, 20241028, 20241029, 20241030, 20241031, 20241101, 20241104, 20241105, 20241106, 20241107, 20241108, 20241111, 20241112, 20241113, 20241114, 20241115, 20241118, 20241119, 20241120, 20241121, 20241122, 20241125, 20241126, 20241127, 20241128, 20241129, 20241202, 20240729, 20240730, 20240731, 20240801, 20240802, 20240805, 20240806, 20240807, 20240808, 20240809, 20240812, 20240813, 20240814, 20240815, 20240816, 20240819, 20240820, 20240821, 20240822, 20240823, 20240826])"
      ]
     },
     "execution_count": 7,
     "metadata": {},
     "output_type": "execute_result"
    }
   ],
   "source": [
    "DATAVENDOR.TRADE.collections['val'].data_frames.keys()"
   ]
  },
  {
   "cell_type": "code",
   "execution_count": 1,
   "metadata": {},
   "outputs": [
    {
     "name": "stdout",
     "output_type": "stream",
     "text": [
      "src.basic.INSTANCE_RECORD can be accessed to check ['trainer', 'account']\n",
      "Basic module imported!\n"
     ]
    },
    {
     "data": {
      "text/plain": [
       "array([20241101, 20241108, 20241115, 20241122, 20241129])"
      ]
     },
     "execution_count": 1,
     "metadata": {},
     "output_type": "execute_result"
    }
   ],
   "source": [
    "from src.basic import RegisteredModel\n",
    "model =RegisteredModel.SelectModels('gru_day_V0')[0]\n",
    "model.fmp_target_dates"
   ]
  },
  {
   "cell_type": "code",
   "execution_count": 1,
   "metadata": {},
   "outputs": [
    {
     "name": "stdout",
     "output_type": "stream",
     "text": [
      "D:\\Coding\\learndl\\learndl\\configs\\nn\\ts_mixer.yaml does not exist, trying default.yaml\n",
      "Load  2 DataBlocks...... finished! Cost 0.09 secs\n",
      "Align 2 DataBlocks...... finished! Cost 0.23 secs\n",
      "Pre-Norming method of [day] : {'divlast': True, 'histnorm': True}\n"
     ]
    },
    {
     "name": "stderr",
     "output_type": "stream",
     "text": [
      "100%|██████████| 212/212 [00:00<?, ?it/s]\n"
     ]
    },
    {
     "name": "stdout",
     "output_type": "stream",
     "text": [
      "x shape is torch.Size([5169, 30, 6])\n",
      "y shape is torch.Size([5169, 1])\n",
      "Test Forward Success\n",
      "x shape is torch.Size([5169, 30, 6])\n",
      "y shape is torch.Size([5169, 1])\n",
      "Test Forward Success\n",
      "score function of [spearman] calculated and success!\n",
      "loss function of [ccc] calculated and success!\n",
      "metrics :  Metrics(loss=ccc,metric=spearman,penalty=['hidden_corr'])\n",
      "Test Metrics Success\n"
     ]
    },
    {
     "data": {
      "text/plain": [
       "ModelTestor(model=NNPredictor(model_full_name=ts_mixer_day_ShortTest@0@0@0)) , check [.model][.batch_data][.metrics]"
      ]
     },
     "execution_count": 1,
     "metadata": {},
     "output_type": "execute_result"
    }
   ],
   "source": [
    "from src.api import ModelAPI\n",
    "model = ModelAPI.Testor('ts_mixer')\n",
    "model.try_forward()\n",
    "model.try_metrics()"
   ]
  },
  {
   "cell_type": "code",
   "execution_count": 1,
   "metadata": {},
   "outputs": [
    {
     "name": "stdout",
     "output_type": "stream",
     "text": [
      "src.basic.INSTANCE_RECORD can be accessed to check ['trainer', 'account']\n",
      "Basic module imported!\n"
     ]
    },
    {
     "data": {
      "text/plain": [
       "ModelPortfolioBuilder(RegisteredModel(pred_name=gru_day_V0,name=gru_day,submodel=swalast,num=0))"
      ]
     },
     "execution_count": 1,
     "metadata": {},
     "output_type": "execute_result"
    }
   ],
   "source": [
    "from src.basic import RegisteredModel , CONF\n",
    "from src.model.model_module.application import ModelPortfolioBuilder\n",
    "\n",
    "model_name = 'gru_day_V0'\n",
    "\n",
    "model = RegisteredModel.SelectModels(model_name)[0]\n",
    "md = ModelPortfolioBuilder(model)\n",
    "md"
   ]
  },
  {
   "cell_type": "code",
   "execution_count": 3,
   "metadata": {},
   "outputs": [],
   "source": [
    "from src.basic import CALENDAR\n",
    "from src.factor.fmp import PortfolioBuilder\n",
    "from src.factor.util import Portfolio\n",
    "import pandas as pd\n",
    "import numpy as np\n",
    "md.reg_model.pred_dates\n",
    "self = md\n",
    "date = 20241101\n",
    "\n",
    "resume = True\n",
    "\n",
    "fmp_names = list(self.iter_fmp_names())\n",
    "\n",
    "last_date = min(list(self.last_account_date().values()))\n",
    "account_dates = [date for date in self.reg_model.fmp_dates if date > last_date] if resume else self.reg_model.fmp_dates\n",
    "if len(account_dates) > 0:\n",
    "    all_fmp_dfs = pd.concat([self.reg_model.load_fmp(date) for date in account_dates])\n",
    "\n",
    "    account_dir = CONF.PATH.fmp_account.joinpath(self.reg_model.pred_name)\n",
    "    account_dir.mkdir(parents=True , exist_ok=True)\n",
    "\n",
    "    alpha_model = self.alpha_model(account_dates)\n",
    "\n",
    "    for fmp_name in fmp_names:\n",
    "        portfolio    = Portfolio.from_dataframe(all_fmp_dfs[all_fmp_dfs['name'] == fmp_name])\n",
    "        account_path = account_dir.joinpath(f'{fmp_name}.pkl')\n",
    "        builder = PortfolioBuilder.from_full_name(fmp_name , alpha_model , portfolio)\n",
    "        builder.accounting(account_path=account_path,resume=resume,deploy=True)\n",
    "    \n"
   ]
  }
 ],
 "metadata": {
  "kernelspec": {
   "display_name": "Python 3",
   "language": "python",
   "name": "python3"
  },
  "language_info": {
   "codemirror_mode": {
    "name": "ipython",
    "version": 3
   },
   "file_extension": ".py",
   "mimetype": "text/x-python",
   "name": "python",
   "nbconvert_exporter": "python",
   "pygments_lexer": "ipython3",
   "version": "3.11.8"
  }
 },
 "nbformat": 4,
 "nbformat_minor": 2
}
