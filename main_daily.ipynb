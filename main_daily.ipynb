{
 "cells": [
  {
   "cell_type": "code",
   "execution_count": 1,
   "metadata": {},
   "outputs": [
    {
     "name": "stdout",
     "output_type": "stream",
     "text": [
      "Update Files\n",
      "Wed May 29 07:21:17 2024 : Updated ~ data\\DataBase\\DB_information\\calendar.feather Done! Cost 0.07 Secs\n",
      "Wed May 29 07:21:17 2024 : Updated ~ data\\DataBase\\DB_information\\description.feather Done! Cost 0.03 Secs\n",
      "Wed May 29 07:21:17 2024 : Updated ~ data\\DataBase\\DB_information\\st.feather Done! Cost 0.03 Secs\n",
      "Wed May 29 07:21:20 2024 : Updated ~ data\\DataBase\\DB_information\\industry.feather Done! Cost 2.47 Secs\n",
      "Wed May 29 07:21:24 2024 : Updated ~ data\\DataBase\\DB_information\\concepts.feather Done! Cost 4.26 Secs\n",
      "Wed May 29 07:21:25 2024 : Updated ~ data\\DataBase\\DB_models\\risk_exp\\2024\\risk_exp.20240528.feather Done! Cost 0.06 Secs\n",
      "Wed May 29 07:21:27 2024 : Updated ~ data\\DataBase\\DB_trade\\day\\2024\\day.20240528.feather Done! Cost 0.05 Secs\n",
      "Wed May 29 07:21:27 2024 : Updated ~ data\\DataBase\\DB_trade\\5day\\2024\\5day.20240528.feather Done! Cost 0.28 Secs\n",
      "Wed May 29 07:21:28 2024 : Updated ~ data\\DataBase\\DB_trade\\10day\\2024\\10day.20240528.feather Done! Cost 0.45 Secs\n",
      "Wed May 29 07:21:29 2024 : Updated ~ data\\DataBase\\DB_trade\\20day\\2024\\20day.20240528.feather Done! Cost 0.81 Secs\n",
      "Wed May 29 07:21:32 2024 : Updated ~ data\\DataBase\\DB_trade\\min\\2024\\min.20240528.feather Done! Cost 2.95 Secs\n",
      "Wed May 29 07:21:32 2024 : Updated ~ data\\DataBase\\DB_trade\\5min\\2024\\5min.20240528.feather Done! Cost 0.29 Secs\n",
      "Wed May 29 07:21:32 2024 : Updated ~ data\\DataBase\\DB_trade\\10min\\2024\\10min.20240528.feather Done! Cost 0.28 Secs\n",
      "Wed May 29 07:21:32 2024 : Updated ~ data\\DataBase\\DB_trade\\15min\\2024\\15min.20240528.feather Done! Cost 0.22 Secs\n",
      "Wed May 29 07:21:33 2024 : Updated ~ data\\DataBase\\DB_trade\\30min\\2024\\30min.20240528.feather Done! Cost 0.24 Secs\n",
      "Wed May 29 07:21:33 2024 : Updated ~ data\\DataBase\\DB_trade\\60min\\2024\\60min.20240528.feather Done! Cost 0.24 Secs\n",
      "Wed May 29 07:21:35 2024 : Updated ~ data\\DataBase\\DB_labels\\ret20_lag\\2024\\ret20_lag.20240424.feather Done! Cost 0.60 Secs\n",
      "Wed May 29 07:21:36 2024 : Updated ~ data\\DataBase\\DB_labels\\ret20\\2024\\ret20.20240425.feather Done! Cost 0.27 Secs\n",
      "Wed May 29 07:21:38 2024 : Updated ~ data\\DataBase\\DB_labels\\ret10_lag\\2024\\ret10_lag.20240513.feather Done! Cost 0.19 Secs\n",
      "Wed May 29 07:21:38 2024 : Updated ~ data\\DataBase\\DB_labels\\ret10\\2024\\ret10.20240514.feather Done! Cost 0.20 Secs\n",
      "Wed May 29 07:21:40 2024 : Updated ~ data\\DataBase\\DB_labels\\ret5_lag\\2024\\ret5_lag.20240520.feather Done! Cost 0.17 Secs\n",
      "Wed May 29 07:21:41 2024 : Updated ~ data\\DataBase\\DB_labels\\ret5\\2024\\ret5.20240521.feather Done! Cost 0.23 Secs\n",
      "Wed May 29 07:21:44 2024 : download since!\n",
      "Connection and Factor preparation finished!\n",
      "Wed May 29 07:21:44 2024 : sellside/haitong.hf_factors from 20240528 to 20240529, total 1 periods\n",
      "Start sellside/haitong.hf_factors:20240528-20240529 \n",
      "Done sellside/haitong.hf_factors:20240528-20240529, cost 26.3 Secs\n",
      "Wed May 29 07:22:11 2024 : sellside/haitong.dl_factors from 20240528 to 20240529, total 1 periods\n",
      "Start sellside/haitong.dl_factors:20240528-20240529 \n",
      "Done sellside/haitong.dl_factors:20240528-20240529, cost 96.9 Secs\n",
      "Wed May 29 07:23:48 2024 : sellside/dongfang.hfq_chars from 20240528 to 20240529, total 1 periods\n",
      "Start sellside/dongfang.hfq_chars:20240528-20240529 \n",
      "Done sellside/dongfang.hfq_chars:20240528-20240529, cost 2.6 Secs\n",
      "Wed May 29 07:23:50 2024 : sellside/dongfang.l2_chars from 20240528 to 20240529, total 1 periods\n",
      "Start sellside/dongfang.l2_chars:20240528-20240529 \n",
      "Done sellside/dongfang.l2_chars:20240528-20240529, cost 93.8 Secs\n",
      "Wed May 29 07:25:24 2024 : sellside/dongfang.ms_chars from 20240528 to 20240529, total 1 periods\n",
      "Start sellside/dongfang.ms_chars:20240528-20240529 \n",
      "Done sellside/dongfang.ms_chars:20240528-20240529, cost 148.0 Secs\n",
      "Wed May 29 07:27:52 2024 : sellside/dongfang.order_flow from 20240528 to 20240529, total 1 periods\n",
      "Start sellside/dongfang.order_flow:20240528-20240529 \n",
      "Done sellside/dongfang.order_flow:20240528-20240529, cost 3.4 Secs\n",
      "Wed May 29 07:27:56 2024 : sellside/dongfang.gp from 20240528 to 20240529, total 1 periods\n",
      "Start sellside/dongfang.gp:20240528-20240529 \n",
      "Done sellside/dongfang.gp:20240528-20240529, cost 2.0 Secs\n",
      "Wed May 29 07:27:58 2024 : sellside/dongfang.tra from 20240528 to 20240529, total 1 periods\n",
      "Start sellside/dongfang.tra:20240528-20240529 \n",
      "Done sellside/dongfang.tra:20240528-20240529, cost 2.1 Secs\n",
      "Wed May 29 07:28:00 2024 : sellside/dongfang.hist from 20240528 to 20240529, total 1 periods\n",
      "Start sellside/dongfang.hist:20240528-20240529 \n",
      "Done sellside/dongfang.hist:20240528-20240529, cost 1.9 Secs\n",
      "Wed May 29 07:28:02 2024 : sellside/dongfang.scores_v0 from 20240528 to 20240529, total 1 periods\n",
      "Start sellside/dongfang.scores_v0:20240528-20240529 \n",
      "Done sellside/dongfang.scores_v0:20240528-20240529, cost 2.3 Secs\n",
      "Wed May 29 07:28:04 2024 : sellside/dongfang.factorvae from 20240528 to 20240529, total 1 periods\n",
      "Start sellside/dongfang.factorvae:20240528-20240529 \n",
      "Done sellside/dongfang.factorvae:20240528-20240529, cost 1.7 Secs\n",
      "Wed May 29 07:28:06 2024 : sellside/kaiyuan.positive from 20240501 to 20240529, total 1 periods\n",
      "Start sellside/kaiyuan.positive:20240501-20240529 \n",
      "Done sellside/kaiyuan.positive:20240501-20240529, cost 3.3 Secs\n",
      "Wed May 29 07:28:09 2024 : sellside/kaiyuan.negative from 20240501 to 20240529, total 1 periods\n",
      "Start sellside/kaiyuan.negative:20240501-20240529 \n",
      "Done sellside/kaiyuan.negative:20240501-20240529, cost 1.8 Secs\n",
      "Wed May 29 07:28:11 2024 : sellside/huatai.dl_factors from 20240528 to 20240529, total 1 periods\n",
      "Start sellside/huatai.dl_factors:20240528-20240529 \n",
      "Done sellside/huatai.dl_factors:20240528-20240529, cost 2.1 Secs\n",
      "Wed May 29 07:28:13 2024 : All Updates Done! Cost 416.23 Secs\n",
      "predict is True , Data Processing start!\n",
      "4 datas :['y', 'day', '30m', 'risk']\n",
      "y blocks loading start!\n",
      " --> labels blocks reading [ret10_lag] DataBase...... finished! Cost 0.91 secs\n",
      " --> labels blocks reading [ret20_lag] DataBase...... finished! Cost 0.90 secs\n",
      " --> labels blocks merging (2)...... finished! Cost 0.08 secs\n",
      " --> models blocks reading [risk_exp] DataBase...... finished! Cost 3.28 secs\n",
      "y blocks loading finished! Cost 5.49 secs\n",
      "y blocks process...... finished! Cost 4.13 secs\n",
      "y blocks masking...... finished! Cost 0.09 secs\n",
      "y blocks saving ...... finished! Cost 0.10 secs\n",
      "y blocks norming...... finished! Cost 0.00 secs\n",
      "y finished! Cost 10.14 Seconds\n",
      "--------------------------------------------------------------------------------\n",
      "day blocks loading start!\n",
      " --> trade blocks reading [day] DataBase...... finished! Cost 1.52 secs\n",
      "day blocks loading finished! Cost 1.55 secs\n",
      "day blocks process...... finished! Cost 0.13 secs\n",
      "day blocks masking...... finished! Cost 0.07 secs\n",
      "day blocks saving ...... finished! Cost 0.13 secs\n",
      "day blocks norming...... finished! Cost 0.00 secs\n",
      "day finished! Cost 2.01 Seconds\n",
      "--------------------------------------------------------------------------------\n",
      "30m blocks loading start!\n",
      " --> trade blocks reading [30min] DataBase...... finished! Cost 6.65 secs\n",
      " --> trade blocks reading [day] DataBase...... finished! Cost 1.06 secs\n",
      "30m blocks loading finished! Cost 7.76 secs\n",
      "30m blocks process...... finished! Cost 1.56 secs\n",
      "30m blocks masking...... finished! Cost 0.16 secs\n",
      "30m blocks saving ...... finished! Cost 1.85 secs\n",
      "30m blocks norming...... finished! Cost 0.00 secs\n",
      "30m finished! Cost 11.45 Seconds\n",
      "--------------------------------------------------------------------------------\n",
      "risk blocks loading start!\n",
      " --> models blocks reading [risk_exp] DataBase...... finished! Cost 1.38 secs\n",
      "risk blocks loading finished! Cost 1.42 secs\n",
      "risk blocks process...... finished! Cost 0.00 secs\n",
      "risk blocks masking...... finished! Cost 0.08 secs\n",
      "risk blocks saving ...... finished! Cost 0.20 secs\n",
      "risk blocks norming...... finished! Cost 0.00 secs\n",
      "risk finished! Cost 1.80 Seconds\n",
      "--------------------------------------------------------------------------------\n",
      "Data Processing Finished! Cost 25.40 Seconds\n",
      "Load  2 DataBlocks...... finished! Cost 0.07 secs\n",
      "Align 2 DataBlocks...... finished! Cost 0.18 secs\n",
      "Pre-Norming method of [day] : {'divlast': True, 'histnorm': True}\n",
      "20231201 new\n"
     ]
    },
    {
     "ename": "OSError",
     "evalue": "[WinError 1265] 系统无法联系域控制器来为身份验证请求提供服务。请稍后再试。: '//hfm-pubshare/HFM各部门共享/'",
     "output_type": "error",
     "traceback": [
      "\u001b[1;31m---------------------------------------------------------------------------\u001b[0m",
      "\u001b[1;31mOSError\u001b[0m                                   Traceback (most recent call last)",
      "Cell \u001b[1;32mIn[1], line 5\u001b[0m\n\u001b[0;32m      3\u001b[0m API\u001b[38;5;241m.\u001b[39mDataAPI\u001b[38;5;241m.\u001b[39mupdate()\n\u001b[0;32m      4\u001b[0m API\u001b[38;5;241m.\u001b[39mDataAPI\u001b[38;5;241m.\u001b[39mprepare_train_data()\n\u001b[1;32m----> 5\u001b[0m \u001b[43mAPI\u001b[49m\u001b[38;5;241;43m.\u001b[39;49m\u001b[43mPredictor\u001b[49m\u001b[38;5;241;43m.\u001b[39;49m\u001b[43mupdate_factors\u001b[49m\u001b[43m(\u001b[49m\u001b[43m)\u001b[49m\n",
      "File \u001b[1;32md:\\Coding\\learndl\\learndl\\src\\API\\predictor.py:40\u001b[0m, in \u001b[0;36mPredictor.update_factors\u001b[1;34m(cls)\u001b[0m\n\u001b[0;32m     34\u001b[0m \u001b[38;5;28;01mif\u001b[39;00m THIS_IS_SERVER: \u001b[38;5;28;01mreturn\u001b[39;00m\n\u001b[0;32m     35\u001b[0m model_preds \u001b[38;5;241m=\u001b[39m [\n\u001b[0;32m     36\u001b[0m     \u001b[38;5;28mcls\u001b[39m(\u001b[38;5;124m'\u001b[39m\u001b[38;5;124mgru_day\u001b[39m\u001b[38;5;124m'\u001b[39m    , \u001b[38;5;124m'\u001b[39m\u001b[38;5;124mswalast\u001b[39m\u001b[38;5;124m'\u001b[39m , \u001b[38;5;241m0\u001b[39m , \u001b[38;5;124m'\u001b[39m\u001b[38;5;124mgru_day_V0\u001b[39m\u001b[38;5;124m'\u001b[39m) ,\n\u001b[0;32m     37\u001b[0m     \u001b[38;5;28mcls\u001b[39m(\u001b[38;5;124m'\u001b[39m\u001b[38;5;124mgruRTN_day\u001b[39m\u001b[38;5;124m'\u001b[39m , \u001b[38;5;124m'\u001b[39m\u001b[38;5;124mswalast\u001b[39m\u001b[38;5;124m'\u001b[39m , \u001b[38;5;241m0\u001b[39m , \u001b[38;5;124m'\u001b[39m\u001b[38;5;124mgruRTN_day_V0\u001b[39m\u001b[38;5;124m'\u001b[39m) ,\n\u001b[0;32m     38\u001b[0m     \u001b[38;5;28mcls\u001b[39m(\u001b[38;5;124m'\u001b[39m\u001b[38;5;124mgruRES_day\u001b[39m\u001b[38;5;124m'\u001b[39m , \u001b[38;5;124m'\u001b[39m\u001b[38;5;124mswalast\u001b[39m\u001b[38;5;124m'\u001b[39m , \u001b[38;5;241m0\u001b[39m , \u001b[38;5;124m'\u001b[39m\u001b[38;5;124mgruRES_day_V0\u001b[39m\u001b[38;5;124m'\u001b[39m) ,\n\u001b[0;32m     39\u001b[0m ]\n\u001b[1;32m---> 40\u001b[0m \u001b[43m[\u001b[49m\u001b[43mmd\u001b[49m\u001b[38;5;241;43m.\u001b[39;49m\u001b[43mget_df\u001b[49m\u001b[43m(\u001b[49m\u001b[43m)\u001b[49m\u001b[38;5;241;43m.\u001b[39;49m\u001b[43mdeploy\u001b[49m\u001b[43m(\u001b[49m\u001b[43m)\u001b[49m\u001b[43m \u001b[49m\u001b[38;5;28;43;01mfor\u001b[39;49;00m\u001b[43m \u001b[49m\u001b[43mmd\u001b[49m\u001b[43m \u001b[49m\u001b[38;5;129;43;01min\u001b[39;49;00m\u001b[43m \u001b[49m\u001b[43mmodel_preds\u001b[49m\u001b[43m]\u001b[49m\n",
      "File \u001b[1;32md:\\Coding\\learndl\\learndl\\src\\API\\predictor.py:40\u001b[0m, in \u001b[0;36m<listcomp>\u001b[1;34m(.0)\u001b[0m\n\u001b[0;32m     34\u001b[0m \u001b[38;5;28;01mif\u001b[39;00m THIS_IS_SERVER: \u001b[38;5;28;01mreturn\u001b[39;00m\n\u001b[0;32m     35\u001b[0m model_preds \u001b[38;5;241m=\u001b[39m [\n\u001b[0;32m     36\u001b[0m     \u001b[38;5;28mcls\u001b[39m(\u001b[38;5;124m'\u001b[39m\u001b[38;5;124mgru_day\u001b[39m\u001b[38;5;124m'\u001b[39m    , \u001b[38;5;124m'\u001b[39m\u001b[38;5;124mswalast\u001b[39m\u001b[38;5;124m'\u001b[39m , \u001b[38;5;241m0\u001b[39m , \u001b[38;5;124m'\u001b[39m\u001b[38;5;124mgru_day_V0\u001b[39m\u001b[38;5;124m'\u001b[39m) ,\n\u001b[0;32m     37\u001b[0m     \u001b[38;5;28mcls\u001b[39m(\u001b[38;5;124m'\u001b[39m\u001b[38;5;124mgruRTN_day\u001b[39m\u001b[38;5;124m'\u001b[39m , \u001b[38;5;124m'\u001b[39m\u001b[38;5;124mswalast\u001b[39m\u001b[38;5;124m'\u001b[39m , \u001b[38;5;241m0\u001b[39m , \u001b[38;5;124m'\u001b[39m\u001b[38;5;124mgruRTN_day_V0\u001b[39m\u001b[38;5;124m'\u001b[39m) ,\n\u001b[0;32m     38\u001b[0m     \u001b[38;5;28mcls\u001b[39m(\u001b[38;5;124m'\u001b[39m\u001b[38;5;124mgruRES_day\u001b[39m\u001b[38;5;124m'\u001b[39m , \u001b[38;5;124m'\u001b[39m\u001b[38;5;124mswalast\u001b[39m\u001b[38;5;124m'\u001b[39m , \u001b[38;5;241m0\u001b[39m , \u001b[38;5;124m'\u001b[39m\u001b[38;5;124mgruRES_day_V0\u001b[39m\u001b[38;5;124m'\u001b[39m) ,\n\u001b[0;32m     39\u001b[0m ]\n\u001b[1;32m---> 40\u001b[0m [\u001b[43mmd\u001b[49m\u001b[38;5;241;43m.\u001b[39;49m\u001b[43mget_df\u001b[49m\u001b[43m(\u001b[49m\u001b[43m)\u001b[49m\u001b[38;5;241;43m.\u001b[39;49m\u001b[43mdeploy\u001b[49m\u001b[43m(\u001b[49m\u001b[43m)\u001b[49m \u001b[38;5;28;01mfor\u001b[39;00m md \u001b[38;5;129;01min\u001b[39;00m model_preds]\n",
      "File \u001b[1;32md:\\Coding\\learndl\\learndl\\src\\API\\predictor.py:46\u001b[0m, in \u001b[0;36mPredictor.deploy\u001b[1;34m(self, df, overwrite, secid_col, date_col)\u001b[0m\n\u001b[0;32m     44\u001b[0m \u001b[38;5;28;01mif\u001b[39;00m df \u001b[38;5;129;01mis\u001b[39;00m \u001b[38;5;28;01mNone\u001b[39;00m: df \u001b[38;5;241m=\u001b[39m \u001b[38;5;28mself\u001b[39m\u001b[38;5;241m.\u001b[39mdf\n\u001b[0;32m     45\u001b[0m \u001b[38;5;28;01mif\u001b[39;00m df \u001b[38;5;129;01mis\u001b[39;00m \u001b[38;5;28;01mNone\u001b[39;00m: \u001b[38;5;28;01mreturn\u001b[39;00m \u001b[38;5;28mNotImplemented\u001b[39m\n\u001b[1;32m---> 46\u001b[0m \u001b[43mos\u001b[49m\u001b[38;5;241;43m.\u001b[39;49m\u001b[43mmakedirs\u001b[49m\u001b[43m(\u001b[49m\u001b[38;5;124;43mf\u001b[39;49m\u001b[38;5;124;43m'\u001b[39;49m\u001b[38;5;132;43;01m{\u001b[39;49;00m\u001b[38;5;28;43mself\u001b[39;49m\u001b[38;5;241;43m.\u001b[39;49m\u001b[43mDESTINATION\u001b[49m\u001b[38;5;132;43;01m}\u001b[39;49;00m\u001b[38;5;124;43m/\u001b[39;49m\u001b[38;5;132;43;01m{\u001b[39;49;00m\u001b[38;5;28;43mself\u001b[39;49m\u001b[38;5;241;43m.\u001b[39;49m\u001b[43malias\u001b[49m\u001b[38;5;132;43;01m}\u001b[39;49;00m\u001b[38;5;124;43m'\u001b[39;49m\u001b[43m \u001b[49m\u001b[43m,\u001b[49m\u001b[43m \u001b[49m\u001b[43mexist_ok\u001b[49m\u001b[38;5;241;43m=\u001b[39;49m\u001b[38;5;28;43;01mTrue\u001b[39;49;00m\u001b[43m)\u001b[49m\n\u001b[0;32m     47\u001b[0m \u001b[38;5;28;01mfor\u001b[39;00m date , subdf \u001b[38;5;129;01min\u001b[39;00m df\u001b[38;5;241m.\u001b[39mgroupby(date_col):\n\u001b[0;32m     48\u001b[0m     des_path \u001b[38;5;241m=\u001b[39m \u001b[38;5;124mf\u001b[39m\u001b[38;5;124m'\u001b[39m\u001b[38;5;132;01m{\u001b[39;00m\u001b[38;5;28mself\u001b[39m\u001b[38;5;241m.\u001b[39mDESTINATION\u001b[38;5;132;01m}\u001b[39;00m\u001b[38;5;124m/\u001b[39m\u001b[38;5;132;01m{\u001b[39;00m\u001b[38;5;28mself\u001b[39m\u001b[38;5;241m.\u001b[39malias\u001b[38;5;132;01m}\u001b[39;00m\u001b[38;5;124m/\u001b[39m\u001b[38;5;132;01m{\u001b[39;00m\u001b[38;5;28mself\u001b[39m\u001b[38;5;241m.\u001b[39malias\u001b[38;5;132;01m}\u001b[39;00m\u001b[38;5;124m_\u001b[39m\u001b[38;5;132;01m{\u001b[39;00mdate\u001b[38;5;132;01m}\u001b[39;00m\u001b[38;5;124m.txt\u001b[39m\u001b[38;5;124m'\u001b[39m\n",
      "File \u001b[1;32m<frozen os>:215\u001b[0m, in \u001b[0;36mmakedirs\u001b[1;34m(name, mode, exist_ok)\u001b[0m\n",
      "File \u001b[1;32m<frozen os>:215\u001b[0m, in \u001b[0;36mmakedirs\u001b[1;34m(name, mode, exist_ok)\u001b[0m\n",
      "    \u001b[1;31m[... skipping similar frames: makedirs at line 215 (1 times)]\u001b[0m\n",
      "File \u001b[1;32m<frozen os>:215\u001b[0m, in \u001b[0;36mmakedirs\u001b[1;34m(name, mode, exist_ok)\u001b[0m\n",
      "File \u001b[1;32m<frozen os>:225\u001b[0m, in \u001b[0;36mmakedirs\u001b[1;34m(name, mode, exist_ok)\u001b[0m\n",
      "\u001b[1;31mOSError\u001b[0m: [WinError 1265] 系统无法联系域控制器来为身份验证请求提供服务。请稍后再试。: '//hfm-pubshare/HFM各部门共享/'"
     ]
    }
   ],
   "source": [
    "from src import API\n",
    "\n",
    "API.DataAPI.update()\n",
    "API.DataAPI.prepare_train_data()\n",
    "API.Predictor.update_factors()"
   ]
  },
  {
   "cell_type": "code",
   "execution_count": 2,
   "metadata": {},
   "outputs": [
    {
     "name": "stdout",
     "output_type": "stream",
     "text": [
      "Load  2 DataBlocks...... finished! Cost 0.11 secs\n",
      "Align 2 DataBlocks...... finished! Cost 0.17 secs\n",
      "Pre-Norming method of [day] : {'divlast': True, 'histnorm': True}\n",
      "20231201 new\n",
      "Load  2 DataBlocks...... finished! Cost 0.03 secs\n",
      "Align 2 DataBlocks...... finished! Cost 0.15 secs\n",
      "Pre-Norming method of [day] : {'divlast': True, 'histnorm': True}\n",
      "20231201 new\n",
      "Load  2 DataBlocks...... finished! Cost 0.03 secs\n",
      "Align 2 DataBlocks...... finished! Cost 0.17 secs\n",
      "Pre-Norming method of [day] : {'divlast': True, 'histnorm': True}\n",
      "20231201 new\n"
     ]
    }
   ],
   "source": [
    "from src import API\n",
    "API.Predictor.update_factors()"
   ]
  },
  {
   "cell_type": "code",
   "execution_count": 2,
   "metadata": {},
   "outputs": [
    {
     "name": "stdout",
     "output_type": "stream",
     "text": [
      "Load  2 DataBlocks ..."
     ]
    },
    {
     "name": "stdout",
     "output_type": "stream",
     "text": [
      "... cost 0.22 secs\n",
      "Align 2 DataBlocks ...... cost 0.21 secs\n",
      "Pre-Norming method of [day] : {'divlast': True, 'histnorm': True}\n",
      "x shape is torch.Size([5064, 30, 6])\n",
      "y shape is torch.Size([5064, 1])\n",
      "Test Forward Success\n",
      "metrics :  Metrics.MetricOutput(loss=tensor(1.0688, grad_fn=<AddBackward0>), score=-0.015420470386743546, loss_item=1.068833589553833, penalty=0.0, losses=tensor(1.0688, grad_fn=<ExpBackward0>))\n",
      "Test Metrics Success\n"
     ]
    }
   ],
   "source": [
    "from src import API\n",
    "API.ModelTestor.new('ts_mixer').try_metrics()"
   ]
  }
 ],
 "metadata": {
  "kernelspec": {
   "display_name": "Python 3",
   "language": "python",
   "name": "python3"
  },
  "language_info": {
   "codemirror_mode": {
    "name": "ipython",
    "version": 3
   },
   "file_extension": ".py",
   "mimetype": "text/x-python",
   "name": "python",
   "nbconvert_exporter": "python",
   "pygments_lexer": "ipython3",
   "version": "3.11.8"
  }
 },
 "nbformat": 4,
 "nbformat_minor": 2
}
