{
 "cells": [
  {
   "cell_type": "code",
   "execution_count": 1,
   "metadata": {},
   "outputs": [
    {
     "name": "stdout",
     "output_type": "stream",
     "text": [
      "Update Files\n",
      "Tue Sep  3 23:41:17 2024 : Updated ~ DB_information\\calendar.feather Done! Cost 0.02 Secs\n",
      "Tue Sep  3 23:41:17 2024 : Updated ~ DB_information\\description.feather Done! Cost 0.04 Secs\n",
      "Tue Sep  3 23:41:17 2024 : Updated ~ DB_information\\st.feather Done! Cost 0.01 Secs\n",
      "Tue Sep  3 23:41:20 2024 : Updated ~ DB_information\\industry.feather Done! Cost 2.63 Secs\n",
      "Tue Sep  3 23:41:25 2024 : Updated ~ DB_information\\concepts.feather Done! Cost 4.96 Secs\n",
      "Tue Sep  3 23:41:26 2024 : Updated ~ DB_models\\longcl_exp\\2024\\longcl_exp.20240902.feather Done! Cost 0.13 Secs\n",
      "Tue Sep  3 23:41:26 2024 : Updated ~ DB_models\\risk_exp\\2024\\risk_exp.20240903.feather Done! Cost 0.07 Secs\n",
      "Tue Sep  3 23:41:26 2024 : Updated ~ DB_models\\risk_cov\\2024\\risk_cov.20240903.feather Done! Cost 0.03 Secs\n",
      "Tue Sep  3 23:41:26 2024 : Updated ~ DB_models\\risk_spec\\2024\\risk_spec.20240903.feather Done! Cost 0.00 Secs\n",
      "Tue Sep  3 23:41:28 2024 : Updated ~ DB_trade\\day\\2024\\day.20240903.feather Done! Cost 0.06 Secs\n",
      "Tue Sep  3 23:41:29 2024 : Updated ~ DB_trade\\5day\\2024\\5day.20240903.feather Done! Cost 0.25 Secs\n",
      "Tue Sep  3 23:41:29 2024 : Updated ~ DB_trade\\10day\\2024\\10day.20240903.feather Done! Cost 0.45 Secs\n",
      "Tue Sep  3 23:41:30 2024 : Updated ~ DB_trade\\20day\\2024\\20day.20240903.feather Done! Cost 0.91 Secs\n",
      "Tue Sep  3 23:41:33 2024 : Updated ~ DB_trade\\min\\2024\\min.20240903.feather Done! Cost 3.13 Secs\n",
      "Tue Sep  3 23:41:33 2024 : Updated ~ DB_trade\\5min\\2024\\5min.20240903.feather Done! Cost 0.30 Secs\n",
      "Tue Sep  3 23:41:34 2024 : Updated ~ DB_trade\\10min\\2024\\10min.20240903.feather Done! Cost 0.27 Secs\n",
      "Tue Sep  3 23:41:34 2024 : Updated ~ DB_trade\\15min\\2024\\15min.20240903.feather Done! Cost 0.23 Secs\n",
      "Tue Sep  3 23:41:34 2024 : Updated ~ DB_trade\\30min\\2024\\30min.20240903.feather Done! Cost 0.22 Secs\n",
      "Tue Sep  3 23:41:34 2024 : Updated ~ DB_trade\\60min\\2024\\60min.20240903.feather Done! Cost 0.24 Secs\n",
      "Tue Sep  3 23:41:37 2024 : Updated ~ DB_labels\\ret20_lag\\2024\\ret20_lag.20240805.feather Done! Cost 0.75 Secs\n",
      "Tue Sep  3 23:41:37 2024 : Updated ~ DB_labels\\ret20\\2024\\ret20.20240806.feather Done! Cost 0.68 Secs\n",
      "Tue Sep  3 23:41:46 2024 : Updated ~ DB_labels\\ret10_lag\\2024\\ret10_lag.20240819.feather Done! Cost 0.55 Secs\n",
      "Tue Sep  3 23:41:47 2024 : Updated ~ DB_labels\\ret10\\2024\\ret10.20240820.feather Done! Cost 0.54 Secs\n",
      "Tue Sep  3 23:41:54 2024 : Updated ~ DB_labels\\ret5_lag\\2024\\ret5_lag.20240826.feather Done! Cost 0.45 Secs\n",
      "Tue Sep  3 23:41:56 2024 : Updated ~ DB_labels\\ret5\\2024\\ret5.20240827.feather Done! Cost 0.49 Secs\n",
      "Tue Sep  3 23:42:10 2024 : download since!\n",
      "Connection and Factor preparation finished!\n",
      "Tue Sep  3 23:42:10 2024 : sellside/dongfang.hfq_chars from 20240903 to 20240903, total 1 periods\n",
      "Start sellside/dongfang.hfq_chars:20240903-20240903 \n",
      "Done sellside/dongfang.hfq_chars:20240903-20240903, cost 2.8 Secs\n",
      "Tue Sep  3 23:42:13 2024 : sellside/dongfang.l2_chars from 20240903 to 20240903, total 1 periods\n",
      "Start sellside/dongfang.l2_chars:20240903-20240903 \n",
      "Done sellside/dongfang.l2_chars:20240903-20240903, cost 58.0 Secs\n",
      "Tue Sep  3 23:43:11 2024 : sellside/dongfang.ms_chars from 20240903 to 20240903, total 1 periods\n",
      "Start sellside/dongfang.ms_chars:20240903-20240903 \n",
      "Done sellside/dongfang.ms_chars:20240903-20240903, cost 67.6 Secs\n",
      "Tue Sep  3 23:44:19 2024 : sellside/dongfang.order_flow from 20240903 to 20240903, total 1 periods\n",
      "Start sellside/dongfang.order_flow:20240903-20240903 \n",
      "Done sellside/dongfang.order_flow:20240903-20240903, cost 1.0 Secs\n",
      "Tue Sep  3 23:44:20 2024 : sellside/dongfang.gp from 20240831 to 20240903, total 1 periods\n",
      "Start sellside/dongfang.gp:20240831-20240903 \n",
      "Done sellside/dongfang.gp:20240831-20240903, cost 1.8 Secs\n",
      "Tue Sep  3 23:44:22 2024 : sellside/dongfang.tra from 20240831 to 20240903, total 1 periods\n",
      "Start sellside/dongfang.tra:20240831-20240903 \n",
      "Done sellside/dongfang.tra:20240831-20240903, cost 1.5 Secs\n",
      "Tue Sep  3 23:44:23 2024 : sellside/dongfang.hist from 20240831 to 20240903, total 1 periods\n",
      "Start sellside/dongfang.hist:20240831-20240903 \n",
      "Done sellside/dongfang.hist:20240831-20240903, cost 1.3 Secs\n",
      "Tue Sep  3 23:44:25 2024 : sellside/dongfang.scores_v0 from 20240903 to 20240903, total 1 periods\n",
      "Start sellside/dongfang.scores_v0:20240903-20240903 \n",
      "Done sellside/dongfang.scores_v0:20240903-20240903, cost 1.6 Secs\n",
      "Tue Sep  3 23:44:26 2024 : sellside/dongfang.factorvae from 20240831 to 20240903, total 1 periods\n",
      "Start sellside/dongfang.factorvae:20240831-20240903 \n",
      "Done sellside/dongfang.factorvae:20240831-20240903, cost 1.2 Secs\n",
      "Tue Sep  3 23:44:28 2024 : sellside/huatai.dl_factors from 20240903 to 20240903, total 1 periods\n",
      "Start sellside/huatai.dl_factors:20240903-20240903 \n",
      "Done sellside/huatai.dl_factors:20240903-20240903, cost 1.0 Secs\n",
      "Tue Sep  3 23:44:29 2024 : All Updates Done! Cost 191.45 Secs\n",
      "--------------------------------------------------------------------------------\n",
      "Calendar Already Updated at 20240903\n",
      "Description Already Updated at 20240903\n",
      "SWIndustry Already Updated at 20240903\n",
      "ChangeName Already Updated at 20240903\n",
      "THSConcept Already Updated at 20240831\n",
      "DailyValuation Updating trade_ts/day_val at 20240903\n",
      "DailyQuote Updating trade_ts/day at 20240903\n",
      "FinaIndicator Already Updated at 20240630\n",
      "Finish exposure update at date 20240903\n",
      "Finish risk update at date 20240903\n",
      "--------------------------------------------------------------------------------\n",
      "predict is True , Data Processing start!\n",
      "6 datas :['y', 'day', '30m', 'style', 'indus', 'week']\n",
      "y blocks loading start!\n",
      " --> labels blocks reading [ret10_lag] DataBase...... finished! Cost 0.77 secs\n",
      " --> labels blocks reading [ret20_lag] DataBase...... finished! Cost 0.78 secs\n",
      " --> labels blocks merging (2)...... finished! Cost 0.15 secs\n",
      " --> models blocks reading [risk_exp] DataBase...... finished! Cost 3.06 secs\n",
      "y blocks loading finished! Cost 5.13 secs\n",
      "y blocks process...... finished! Cost 4.57 secs\n",
      "y blocks masking...... finished! Cost 0.10 secs\n",
      "y blocks saving ...... finished! Cost 0.11 secs\n",
      "y blocks norming...... finished! Cost 0.00 secs\n",
      "y finished! Cost 10.03 Seconds\n",
      "--------------------------------------------------------------------------------\n",
      "day blocks loading start!\n",
      " --> trade blocks reading [day] DataBase...... finished! Cost 1.23 secs\n",
      "day blocks loading finished! Cost 1.25 secs\n",
      "day blocks process...... finished! Cost 0.15 secs\n",
      "day blocks masking...... finished! Cost 0.08 secs\n",
      "day blocks saving ...... finished! Cost 0.14 secs\n",
      "day blocks norming...... finished! Cost 0.00 secs\n",
      "day finished! Cost 1.72 Seconds\n",
      "--------------------------------------------------------------------------------\n",
      "30m blocks loading start!\n",
      " --> trade blocks reading [30min] DataBase...... finished! Cost 5.96 secs\n",
      " --> trade blocks reading [day] DataBase...... finished! Cost 1.23 secs\n",
      "30m blocks loading finished! Cost 7.25 secs\n",
      "30m blocks process...... finished! Cost 1.70 secs\n",
      "30m blocks masking...... finished! Cost 0.15 secs\n",
      "30m blocks saving ...... finished! Cost 2.16 secs\n",
      "30m blocks norming...... finished! Cost 0.00 secs\n",
      "30m finished! Cost 11.40 Seconds\n",
      "--------------------------------------------------------------------------------\n",
      "style blocks loading start!\n",
      " --> models blocks reading [risk_exp] DataBase...... finished! Cost 1.67 secs\n",
      "style blocks loading finished! Cost 1.71 secs\n",
      "style blocks process...... finished! Cost 0.00 secs\n",
      "style blocks masking...... finished! Cost 0.09 secs\n",
      "style blocks saving ...... finished! Cost 0.21 secs\n",
      "style blocks norming...... finished! Cost 0.00 secs\n",
      "style finished! Cost 2.11 Seconds\n",
      "--------------------------------------------------------------------------------\n",
      "indus blocks loading start!\n",
      " --> models blocks reading [risk_exp] DataBase...... finished! Cost 2.72 secs\n",
      "indus blocks loading finished! Cost 2.72 secs\n",
      "indus blocks process...... finished! Cost 0.00 secs\n",
      "indus blocks masking...... finished! Cost 0.13 secs\n",
      "indus blocks saving ...... finished! Cost 1.30 secs\n",
      "indus blocks norming...... finished! Cost 0.00 secs\n",
      "indus finished! Cost 4.28 Seconds\n",
      "--------------------------------------------------------------------------------\n",
      "week blocks loading start!\n",
      " --> trade blocks reading [day] DataBase...... finished! Cost 2.19 secs\n",
      "week blocks loading finished! Cost 2.22 secs\n",
      "week blocks process...... finished! Cost 1.63 secs\n",
      "week blocks masking...... finished! Cost 0.20 secs\n",
      "week blocks saving ...... finished! Cost 2.78 secs\n",
      "week blocks norming...... finished! Cost 0.00 secs\n",
      "week finished! Cost 6.97 Seconds\n",
      "--------------------------------------------------------------------------------\n",
      "Data Processing Finished! Cost 36.50 Seconds\n",
      "--------------------------------------------------------------------------------\n"
     ]
    },
    {
     "ename": "KeyError",
     "evalue": "'model.submodels'",
     "output_type": "error",
     "traceback": [
      "\u001b[1;31m---------------------------------------------------------------------------\u001b[0m",
      "\u001b[1;31mKeyError\u001b[0m                                  Traceback (most recent call last)",
      "Cell \u001b[1;32mIn[1], line 5\u001b[0m\n\u001b[0;32m      3\u001b[0m DataAPI\u001b[38;5;241m.\u001b[39mupdate()\n\u001b[0;32m      4\u001b[0m DataAPI\u001b[38;5;241m.\u001b[39mprepare_predict_data()\n\u001b[1;32m----> 5\u001b[0m \u001b[43mPredictor\u001b[49m\u001b[38;5;241;43m.\u001b[39;49m\u001b[43mupdate_factors\u001b[49m\u001b[43m(\u001b[49m\u001b[43m)\u001b[49m\n",
      "File \u001b[1;32md:\\Coding\\learndl\\learndl\\src\\model\\api\\predictor.py:44\u001b[0m, in \u001b[0;36mPredictor.update_factors\u001b[1;34m(cls, silent)\u001b[0m\n\u001b[0;32m     42\u001b[0m md \u001b[38;5;241m=\u001b[39m \u001b[38;5;28mcls\u001b[39m(model)\n\u001b[0;32m     43\u001b[0m CONF\u001b[38;5;241m.\u001b[39mSILENT \u001b[38;5;241m=\u001b[39m \u001b[38;5;28;01mTrue\u001b[39;00m\n\u001b[1;32m---> 44\u001b[0m \u001b[43mmd\u001b[49m\u001b[38;5;241;43m.\u001b[39;49m\u001b[43mget_df\u001b[49m\u001b[43m(\u001b[49m\u001b[43m)\u001b[49m\u001b[38;5;241m.\u001b[39mdeploy()\n\u001b[0;32m     45\u001b[0m CONF\u001b[38;5;241m.\u001b[39mSILENT \u001b[38;5;241m=\u001b[39m \u001b[38;5;28;01mFalse\u001b[39;00m\n\u001b[0;32m     46\u001b[0m \u001b[38;5;28mprint\u001b[39m(\u001b[38;5;124mf\u001b[39m\u001b[38;5;124m'\u001b[39m\u001b[38;5;124mFinish model [\u001b[39m\u001b[38;5;132;01m{\u001b[39;00mmodel\u001b[38;5;241m.\u001b[39mname\u001b[38;5;132;01m}\u001b[39;00m\u001b[38;5;124m] predicting!\u001b[39m\u001b[38;5;124m'\u001b[39m)\n",
      "File \u001b[1;32md:\\Coding\\learndl\\learndl\\src\\model\\api\\predictor.py:63\u001b[0m, in \u001b[0;36mPredictor.get_df\u001b[1;34m(self, start_dt, end_dt)\u001b[0m\n\u001b[0;32m     61\u001b[0m \u001b[38;5;28;01mdef\u001b[39;00m \u001b[38;5;21mget_df\u001b[39m(\u001b[38;5;28mself\u001b[39m , start_dt \u001b[38;5;241m=\u001b[39m \u001b[38;5;241m-\u001b[39m\u001b[38;5;241m10\u001b[39m , end_dt \u001b[38;5;241m=\u001b[39m \u001b[38;5;241m20991231\u001b[39m):\n\u001b[0;32m     62\u001b[0m \u001b[38;5;250m    \u001b[39m\u001b[38;5;124;03m'''save recent prediction to self.df'''\u001b[39;00m\n\u001b[1;32m---> 63\u001b[0m     \u001b[38;5;28mself\u001b[39m\u001b[38;5;241m.\u001b[39mdf \u001b[38;5;241m=\u001b[39m \u001b[38;5;28;43mself\u001b[39;49m\u001b[38;5;241;43m.\u001b[39;49m\u001b[43mpredict\u001b[49m\u001b[43m(\u001b[49m\u001b[43mstart_dt\u001b[49m\u001b[38;5;241;43m=\u001b[39;49m\u001b[43m \u001b[49m\u001b[43mstart_dt\u001b[49m\u001b[43m \u001b[49m\u001b[43m,\u001b[49m\u001b[43m \u001b[49m\u001b[43mend_dt\u001b[49m\u001b[43m \u001b[49m\u001b[38;5;241;43m=\u001b[39;49m\u001b[43m \u001b[49m\u001b[43mend_dt\u001b[49m\u001b[43m)\u001b[49m\n\u001b[0;32m     64\u001b[0m     \u001b[38;5;28;01mreturn\u001b[39;00m \u001b[38;5;28mself\u001b[39m\n",
      "File \u001b[1;32md:\\Coding\\learndl\\learndl\\src\\model\\api\\predictor.py:84\u001b[0m, in \u001b[0;36mPredictor.predict\u001b[1;34m(self, start_dt, end_dt)\u001b[0m\n\u001b[0;32m     81\u001b[0m \u001b[38;5;28;01mif\u001b[39;00m start_dt \u001b[38;5;241m<\u001b[39m\u001b[38;5;241m=\u001b[39m \u001b[38;5;241m0\u001b[39m: start_dt \u001b[38;5;241m=\u001b[39m today(start_dt)\n\u001b[0;32m     83\u001b[0m device       \u001b[38;5;241m=\u001b[39m Device()\n\u001b[1;32m---> 84\u001b[0m model_config \u001b[38;5;241m=\u001b[39m \u001b[43mTrainConfig\u001b[49m\u001b[38;5;241;43m.\u001b[39;49m\u001b[43mload\u001b[49m\u001b[43m(\u001b[49m\u001b[43mPATH\u001b[49m\u001b[38;5;241;43m.\u001b[39;49m\u001b[43mmodel\u001b[49m\u001b[38;5;241;43m.\u001b[39;49m\u001b[43mjoinpath\u001b[49m\u001b[43m(\u001b[49m\u001b[38;5;28;43mself\u001b[39;49m\u001b[38;5;241;43m.\u001b[39;49m\u001b[43mmodel_name\u001b[49m\u001b[43m)\u001b[49m\u001b[43m)\u001b[49m\n\u001b[0;32m     85\u001b[0m deposition   \u001b[38;5;241m=\u001b[39m Deposition(model_config)\n\u001b[0;32m     86\u001b[0m model_dates  \u001b[38;5;241m=\u001b[39m \u001b[38;5;28mself\u001b[39m\u001b[38;5;241m.\u001b[39mreg_model\u001b[38;5;241m.\u001b[39mmodel_dates \n",
      "File \u001b[1;32md:\\Coding\\learndl\\learndl\\src\\model\\classes\\config.py:330\u001b[0m, in \u001b[0;36mTrainConfig.load\u001b[1;34m(cls, base_path, do_parser, par_args, override, makedir)\u001b[0m\n\u001b[0;32m    327\u001b[0m \u001b[38;5;129m@classmethod\u001b[39m\n\u001b[0;32m    328\u001b[0m \u001b[38;5;28;01mdef\u001b[39;00m \u001b[38;5;21mload\u001b[39m(\u001b[38;5;28mcls\u001b[39m , base_path : Optional[Path] \u001b[38;5;241m=\u001b[39m \u001b[38;5;28;01mNone\u001b[39;00m , do_parser \u001b[38;5;241m=\u001b[39m \u001b[38;5;28;01mFalse\u001b[39;00m , par_args \u001b[38;5;241m=\u001b[39m {} , override \u001b[38;5;241m=\u001b[39m {} , makedir \u001b[38;5;241m=\u001b[39m \u001b[38;5;28;01mTrue\u001b[39;00m):\n\u001b[0;32m    329\u001b[0m \u001b[38;5;250m    \u001b[39m\u001b[38;5;124;03m'''load config yaml to get default/giving params'''\u001b[39;00m\n\u001b[1;32m--> 330\u001b[0m     config \u001b[38;5;241m=\u001b[39m \u001b[38;5;28;43mcls\u001b[39;49m\u001b[43m(\u001b[49m\u001b[43mbase_path\u001b[49m\u001b[43m \u001b[49m\u001b[43m,\u001b[49m\u001b[43m \u001b[49m\u001b[43moverride\u001b[49m\u001b[43m)\u001b[49m\n\u001b[0;32m    331\u001b[0m     \u001b[38;5;28;01mif\u001b[39;00m do_parser: config\u001b[38;5;241m.\u001b[39mprocess_parser(\u001b[38;5;28mcls\u001b[39m\u001b[38;5;241m.\u001b[39mparser_args(par_args))\n\u001b[0;32m    333\u001b[0m     model_path \u001b[38;5;241m=\u001b[39m ModelPath(config\u001b[38;5;241m.\u001b[39mmodel_name)\n",
      "File \u001b[1;32md:\\Coding\\learndl\\learndl\\src\\model\\classes\\config.py:321\u001b[0m, in \u001b[0;36mTrainConfig.__init__\u001b[1;34m(self, base_path, override)\u001b[0m\n\u001b[0;32m    319\u001b[0m \u001b[38;5;28;01mdef\u001b[39;00m \u001b[38;5;21m__init__\u001b[39m(\u001b[38;5;28mself\u001b[39m , base_path : Path \u001b[38;5;241m|\u001b[39m ModelPath \u001b[38;5;241m|\u001b[39m \u001b[38;5;28;01mNone\u001b[39;00m , override \u001b[38;5;241m=\u001b[39m {}):\n\u001b[1;32m--> 321\u001b[0m     \u001b[38;5;28mself\u001b[39m\u001b[38;5;241m.\u001b[39mTrain \u001b[38;5;241m=\u001b[39m \u001b[43mTrainParam\u001b[49m\u001b[43m(\u001b[49m\u001b[43mbase_path\u001b[49m\u001b[43m \u001b[49m\u001b[43m,\u001b[49m\u001b[43m \u001b[49m\u001b[43moverride\u001b[49m\u001b[43m)\u001b[49m\n\u001b[0;32m    322\u001b[0m     \u001b[38;5;28mself\u001b[39m\u001b[38;5;241m.\u001b[39mModel \u001b[38;5;241m=\u001b[39m \u001b[38;5;28mself\u001b[39m\u001b[38;5;241m.\u001b[39mTrain\u001b[38;5;241m.\u001b[39mgenerate_model_param()\n\u001b[0;32m    324\u001b[0m     \u001b[38;5;28mself\u001b[39m\u001b[38;5;241m.\u001b[39mresume_training: \u001b[38;5;28mbool\u001b[39m  \u001b[38;5;241m=\u001b[39m \u001b[38;5;28;01mFalse\u001b[39;00m\n",
      "File \u001b[1;32md:\\Coding\\learndl\\learndl\\src\\model\\classes\\config.py:39\u001b[0m, in \u001b[0;36mTrainParam.__init__\u001b[1;34m(self, base_path, override)\u001b[0m\n\u001b[0;32m     36\u001b[0m \u001b[38;5;28mself\u001b[39m\u001b[38;5;241m.\u001b[39mbase_path \u001b[38;5;241m=\u001b[39m ModelPath(base_path)\n\u001b[0;32m     37\u001b[0m \u001b[38;5;28mself\u001b[39m\u001b[38;5;241m.\u001b[39mmodel_name \u001b[38;5;241m=\u001b[39m \u001b[38;5;28mself\u001b[39m\u001b[38;5;241m.\u001b[39mbase_path\u001b[38;5;241m.\u001b[39mname\n\u001b[1;32m---> 39\u001b[0m \u001b[38;5;28;43mself\u001b[39;49m\u001b[38;5;241;43m.\u001b[39;49m\u001b[43mload_param\u001b[49m\u001b[43m(\u001b[49m\u001b[38;5;241;43m*\u001b[39;49m\u001b[38;5;241;43m*\u001b[39;49m\u001b[43moverride\u001b[49m\u001b[43m)\u001b[49m\u001b[38;5;241;43m.\u001b[39;49m\u001b[43mspecial_adjustment\u001b[49m\u001b[43m(\u001b[49m\u001b[43m)\u001b[49m\u001b[38;5;241;43m.\u001b[39;49m\u001b[43mmake_model_name\u001b[49m\u001b[43m(\u001b[49m\u001b[43m)\u001b[49m\u001b[38;5;241;43m.\u001b[39;49m\u001b[43mcheck_validity\u001b[49m\u001b[43m(\u001b[49m\u001b[43m)\u001b[49m\n",
      "File \u001b[1;32md:\\Coding\\learndl\\learndl\\src\\model\\classes\\config.py:75\u001b[0m, in \u001b[0;36mTrainParam.check_validity\u001b[1;34m(self)\u001b[0m\n\u001b[0;32m     72\u001b[0m \u001b[38;5;28;01mdef\u001b[39;00m \u001b[38;5;21mcheck_validity\u001b[39m(\u001b[38;5;28mself\u001b[39m):\n\u001b[0;32m     73\u001b[0m     \u001b[38;5;28;01massert\u001b[39;00m THIS_IS_SERVER \u001b[38;5;129;01mor\u001b[39;00m \u001b[38;5;28mself\u001b[39m\u001b[38;5;241m.\u001b[39mshort_test , \u001b[38;5;124mf\u001b[39m\u001b[38;5;124m'\u001b[39m\u001b[38;5;124mmust be at server or short_test\u001b[39m\u001b[38;5;124m'\u001b[39m\n\u001b[1;32m---> 75\u001b[0m     \u001b[38;5;28;01mif\u001b[39;00m \u001b[38;5;124m'\u001b[39m\u001b[38;5;124mbest\u001b[39m\u001b[38;5;124m'\u001b[39m \u001b[38;5;129;01mnot\u001b[39;00m \u001b[38;5;129;01min\u001b[39;00m \u001b[38;5;28;43mself\u001b[39;49m\u001b[38;5;241;43m.\u001b[39;49m\u001b[43mmodel_submodels\u001b[49m: \u001b[38;5;28mself\u001b[39m\u001b[38;5;241m.\u001b[39mmodel_submodels\u001b[38;5;241m.\u001b[39minsert(\u001b[38;5;241m0\u001b[39m , \u001b[38;5;124m'\u001b[39m\u001b[38;5;124mbest\u001b[39m\u001b[38;5;124m'\u001b[39m)\n\u001b[0;32m     77\u001b[0m     nn_category \u001b[38;5;241m=\u001b[39m get_nn_category(\u001b[38;5;28mself\u001b[39m\u001b[38;5;241m.\u001b[39mmodel_module)\n\u001b[0;32m     78\u001b[0m     nn_datatype \u001b[38;5;241m=\u001b[39m get_nn_datatype(\u001b[38;5;28mself\u001b[39m\u001b[38;5;241m.\u001b[39mmodel_module)\n",
      "File \u001b[1;32md:\\Coding\\learndl\\learndl\\src\\model\\classes\\config.py:165\u001b[0m, in \u001b[0;36mTrainParam.model_submodels\u001b[1;34m(self)\u001b[0m\n\u001b[0;32m    164\u001b[0m \u001b[38;5;129m@property\u001b[39m\n\u001b[1;32m--> 165\u001b[0m \u001b[38;5;28;01mdef\u001b[39;00m \u001b[38;5;21mmodel_submodels\u001b[39m(\u001b[38;5;28mself\u001b[39m) \u001b[38;5;241m-\u001b[39m\u001b[38;5;241m>\u001b[39m \u001b[38;5;28mlist\u001b[39m: \u001b[38;5;28;01mreturn\u001b[39;00m \u001b[38;5;28;43mself\u001b[39;49m\u001b[38;5;241;43m.\u001b[39;49m\u001b[43mParam\u001b[49m\u001b[43m[\u001b[49m\u001b[38;5;124;43m'\u001b[39;49m\u001b[38;5;124;43mmodel.submodels\u001b[39;49m\u001b[38;5;124;43m'\u001b[39;49m\u001b[43m]\u001b[49m\n",
      "\u001b[1;31mKeyError\u001b[0m: 'model.submodels'"
     ]
    }
   ],
   "source": [
    "from src.api import DataAPI , Predictor\n",
    "\n",
    "DataAPI.update()\n",
    "DataAPI.prepare_predict_data()\n",
    "Predictor.update_factors()"
   ]
  },
  {
   "cell_type": "code",
   "execution_count": 8,
   "metadata": {},
   "outputs": [
    {
     "data": {
      "text/html": [
       "<div>\n",
       "<style scoped>\n",
       "    .dataframe tbody tr th:only-of-type {\n",
       "        vertical-align: middle;\n",
       "    }\n",
       "\n",
       "    .dataframe tbody tr th {\n",
       "        vertical-align: top;\n",
       "    }\n",
       "\n",
       "    .dataframe thead th {\n",
       "        text-align: right;\n",
       "    }\n",
       "</style>\n",
       "<table border=\"1\" class=\"dataframe\">\n",
       "  <thead>\n",
       "    <tr style=\"text-align: right;\">\n",
       "      <th></th>\n",
       "    </tr>\n",
       "  </thead>\n",
       "  <tbody>\n",
       "  </tbody>\n",
       "</table>\n",
       "</div>"
      ],
      "text/plain": [
       "Empty DataFrame\n",
       "Columns: []\n",
       "Index: []"
      ]
     },
     "execution_count": 8,
     "metadata": {},
     "output_type": "execute_result"
    }
   ],
   "source": [
    "from src.data.tushare.download.info import Calendar , pro\n",
    "renamer = {'cal_date' : 'calendar' ,'is_open'  : 'trade'}\n",
    "fields = None\n",
    "df = pro.trade_cal(exchange='SSE').rename(columns=renamer)\n",
    "#df = df.sort_values('calendar').reset_index(drop = True)\n",
    "df"
   ]
  },
  {
   "cell_type": "code",
   "execution_count": 10,
   "metadata": {},
   "outputs": [
    {
     "name": "stdout",
     "output_type": "stream",
     "text": [
      "Finish model [gru_day] predicting!\n",
      "Finish model [gruRTN_day] predicting!\n",
      "Finish model [gru_avg] predicting!\n",
      "--------------------------------------------------------------------------------\n"
     ]
    }
   ],
   "source": [
    "# DataAPI.prepare_predict_data()\n",
    "Predictor.update_factors()"
   ]
  },
  {
   "cell_type": "code",
   "execution_count": 1,
   "metadata": {},
   "outputs": [
    {
     "name": "stdout",
     "output_type": "stream",
     "text": [
      "Finish model [gru_day] predicting!\n",
      "Finish model [gruRTN_day] predicting!\n",
      "Finish model [gru_avg] predicting!\n",
      "--------------------------------------------------------------------------------\n"
     ]
    }
   ],
   "source": [
    "from src.api import DataAPI , Predictor\n",
    "# DataAPI.prepare_predict_data()\n",
    "md = Predictor.update_factors()"
   ]
  },
  {
   "cell_type": "code",
   "execution_count": null,
   "metadata": {},
   "outputs": [
    {
     "name": "stdout",
     "output_type": "stream",
     "text": [
      "Load  2 DataBlocks ..."
     ]
    },
    {
     "name": "stdout",
     "output_type": "stream",
     "text": [
      "... cost 0.22 secs\n",
      "Align 2 DataBlocks ...... cost 0.21 secs\n",
      "Pre-Norming method of [day] : {'divlast': True, 'histnorm': True}\n",
      "x shape is torch.Size([5064, 30, 6])\n",
      "y shape is torch.Size([5064, 1])\n",
      "Test Forward Success\n",
      "metrics :  Metrics.MetricOutput(loss=tensor(1.0688, grad_fn=<AddBackward0>), score=-0.015420470386743546, loss_item=1.068833589553833, penalty=0.0, losses=tensor(1.0688, grad_fn=<ExpBackward0>))\n",
      "Test Metrics Success\n"
     ]
    }
   ],
   "source": [
    "from src.api import ModelTestor\n",
    "ModelTestor.new('ts_mixer').try_metrics()"
   ]
  }
 ],
 "metadata": {
  "kernelspec": {
   "display_name": "Python 3",
   "language": "python",
   "name": "python3"
  },
  "language_info": {
   "codemirror_mode": {
    "name": "ipython",
    "version": 3
   },
   "file_extension": ".py",
   "mimetype": "text/x-python",
   "name": "python",
   "nbconvert_exporter": "python",
   "pygments_lexer": "ipython3",
   "version": "3.11.8"
  }
 },
 "nbformat": 4,
 "nbformat_minor": 2
}
