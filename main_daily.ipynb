{
 "cells": [
  {
   "cell_type": "code",
   "execution_count": 1,
   "metadata": {},
   "outputs": [
    {
     "name": "stdout",
     "output_type": "stream",
     "text": [
      "Update Files\n",
      "Wed May 29 23:18:35 2024 : Updated ~ data\\DataBase\\DB_information\\calendar.feather Done! Cost 0.06 Secs\n",
      "Wed May 29 23:18:35 2024 : Updated ~ data\\DataBase\\DB_information\\description.feather Done! Cost 0.04 Secs\n",
      "Wed May 29 23:18:35 2024 : Updated ~ data\\DataBase\\DB_information\\st.feather Done! Cost 0.02 Secs\n",
      "Wed May 29 23:18:37 2024 : Updated ~ data\\DataBase\\DB_information\\industry.feather Done! Cost 2.19 Secs\n",
      "Wed May 29 23:18:42 2024 : Updated ~ data\\DataBase\\DB_information\\concepts.feather Done! Cost 4.63 Secs\n",
      "Wed May 29 23:18:44 2024 : Updated ~ data\\DataBase\\DB_models\\risk_exp\\2024\\risk_exp.20240529.feather Done! Cost 0.08 Secs\n",
      "Wed May 29 23:18:47 2024 : Updated ~ data\\DataBase\\DB_trade\\day\\2024\\day.20240529.feather Done! Cost 0.06 Secs\n",
      "Wed May 29 23:18:47 2024 : Updated ~ data\\DataBase\\DB_trade\\5day\\2024\\5day.20240529.feather Done! Cost 0.29 Secs\n",
      "Wed May 29 23:18:48 2024 : Updated ~ data\\DataBase\\DB_trade\\10day\\2024\\10day.20240529.feather Done! Cost 0.54 Secs\n",
      "Wed May 29 23:18:49 2024 : Updated ~ data\\DataBase\\DB_trade\\20day\\2024\\20day.20240529.feather Done! Cost 0.99 Secs\n",
      "Wed May 29 23:18:52 2024 : Updated ~ data\\DataBase\\DB_trade\\min\\2024\\min.20240529.feather Done! Cost 2.99 Secs\n",
      "Wed May 29 23:18:52 2024 : Updated ~ data\\DataBase\\DB_trade\\5min\\2024\\5min.20240529.feather Done! Cost 0.27 Secs\n",
      "Wed May 29 23:18:52 2024 : Updated ~ data\\DataBase\\DB_trade\\10min\\2024\\10min.20240529.feather Done! Cost 0.23 Secs\n",
      "Wed May 29 23:18:53 2024 : Updated ~ data\\DataBase\\DB_trade\\15min\\2024\\15min.20240529.feather Done! Cost 0.23 Secs\n",
      "Wed May 29 23:18:53 2024 : Updated ~ data\\DataBase\\DB_trade\\30min\\2024\\30min.20240529.feather Done! Cost 0.21 Secs\n",
      "Wed May 29 23:18:53 2024 : Updated ~ data\\DataBase\\DB_trade\\60min\\2024\\60min.20240529.feather Done! Cost 0.20 Secs\n",
      "Wed May 29 23:18:56 2024 : Updated ~ data\\DataBase\\DB_labels\\ret20_lag\\2024\\ret20_lag.20240425.feather Done! Cost 0.55 Secs\n",
      "Wed May 29 23:18:56 2024 : Updated ~ data\\DataBase\\DB_labels\\ret20\\2024\\ret20.20240426.feather Done! Cost 0.28 Secs\n",
      "Wed May 29 23:18:58 2024 : Updated ~ data\\DataBase\\DB_labels\\ret10_lag\\2024\\ret10_lag.20240514.feather Done! Cost 0.28 Secs\n",
      "Wed May 29 23:18:59 2024 : Updated ~ data\\DataBase\\DB_labels\\ret10\\2024\\ret10.20240515.feather Done! Cost 0.20 Secs\n",
      "Wed May 29 23:19:00 2024 : Updated ~ data\\DataBase\\DB_labels\\ret5_lag\\2024\\ret5_lag.20240521.feather Done! Cost 0.18 Secs\n",
      "Wed May 29 23:19:01 2024 : Updated ~ data\\DataBase\\DB_labels\\ret5\\2024\\ret5.20240522.feather Done! Cost 0.18 Secs\n",
      "Wed May 29 23:19:05 2024 : download since!\n",
      "Connection and Factor preparation finished!\n",
      "Wed May 29 23:19:05 2024 : sellside/haitong.hf_factors from 20240529 to 20240529, total 1 periods\n",
      "Start sellside/haitong.hf_factors:20240529-20240529 \n",
      "Done sellside/haitong.hf_factors:20240529-20240529, cost 7.7 Secs\n",
      "Wed May 29 23:19:12 2024 : sellside/haitong.dl_factors from 20240529 to 20240529, total 1 periods\n",
      "Start sellside/haitong.dl_factors:20240529-20240529 \n",
      "Done sellside/haitong.dl_factors:20240529-20240529, cost 92.4 Secs\n",
      "Wed May 29 23:20:45 2024 : sellside/dongfang.hfq_chars from 20240529 to 20240529, total 1 periods\n",
      "Start sellside/dongfang.hfq_chars:20240529-20240529 \n",
      "Done sellside/dongfang.hfq_chars:20240529-20240529, cost 3.0 Secs\n",
      "Wed May 29 23:20:48 2024 : sellside/dongfang.l2_chars from 20240529 to 20240529, total 1 periods\n",
      "Start sellside/dongfang.l2_chars:20240529-20240529 \n",
      "Done sellside/dongfang.l2_chars:20240529-20240529, cost 76.5 Secs\n",
      "Wed May 29 23:22:05 2024 : sellside/dongfang.ms_chars from 20240529 to 20240529, total 1 periods\n",
      "Start sellside/dongfang.ms_chars:20240529-20240529 \n",
      "Done sellside/dongfang.ms_chars:20240529-20240529, cost 135.2 Secs\n",
      "Wed May 29 23:24:20 2024 : sellside/dongfang.order_flow from 20240529 to 20240529, total 1 periods\n",
      "Start sellside/dongfang.order_flow:20240529-20240529 \n",
      "Done sellside/dongfang.order_flow:20240529-20240529, cost 1.3 Secs\n",
      "Wed May 29 23:24:21 2024 : sellside/dongfang.gp from 20240529 to 20240529, total 1 periods\n",
      "Start sellside/dongfang.gp:20240529-20240529 \n",
      "Done sellside/dongfang.gp:20240529-20240529, cost 2.7 Secs\n",
      "Wed May 29 23:24:24 2024 : sellside/dongfang.tra from 20240529 to 20240529, total 1 periods\n",
      "Start sellside/dongfang.tra:20240529-20240529 \n",
      "Done sellside/dongfang.tra:20240529-20240529, cost 1.2 Secs\n",
      "Wed May 29 23:24:25 2024 : sellside/dongfang.hist from 20240529 to 20240529, total 1 periods\n",
      "Start sellside/dongfang.hist:20240529-20240529 \n",
      "Done sellside/dongfang.hist:20240529-20240529, cost 1.1 Secs\n",
      "Wed May 29 23:24:26 2024 : sellside/dongfang.scores_v0 from 20240529 to 20240529, total 1 periods\n",
      "Start sellside/dongfang.scores_v0:20240529-20240529 \n",
      "Done sellside/dongfang.scores_v0:20240529-20240529, cost 1.6 Secs\n",
      "Wed May 29 23:24:28 2024 : sellside/dongfang.factorvae from 20240529 to 20240529, total 1 periods\n",
      "Start sellside/dongfang.factorvae:20240529-20240529 \n",
      "Done sellside/dongfang.factorvae:20240529-20240529, cost 1.8 Secs\n",
      "Wed May 29 23:24:30 2024 : sellside/kaiyuan.positive from 20240501 to 20240529, total 1 periods\n",
      "Start sellside/kaiyuan.positive:20240501-20240529 \n",
      "Done sellside/kaiyuan.positive:20240501-20240529, cost 8.9 Secs\n",
      "Wed May 29 23:24:39 2024 : sellside/kaiyuan.negative from 20240501 to 20240529, total 1 periods\n",
      "Start sellside/kaiyuan.negative:20240501-20240529 \n",
      "Done sellside/kaiyuan.negative:20240501-20240529, cost 6.7 Secs\n",
      "Wed May 29 23:24:46 2024 : sellside/huatai.dl_factors from 20240529 to 20240529, total 1 periods\n",
      "Start sellside/huatai.dl_factors:20240529-20240529 \n",
      "Done sellside/huatai.dl_factors:20240529-20240529, cost 1.2 Secs\n",
      "Wed May 29 23:24:47 2024 : All Updates Done! Cost 371.61 Secs\n",
      "predict is True , Data Processing start!\n",
      "4 datas :['y', 'day', '30m', 'risk']\n",
      "y blocks loading start!\n",
      " --> labels blocks reading [ret10_lag] DataBase...... finished! Cost 0.93 secs\n",
      " --> labels blocks reading [ret20_lag] DataBase...... finished! Cost 1.17 secs\n",
      " --> labels blocks merging (2)...... finished! Cost 0.09 secs\n",
      " --> models blocks reading [risk_exp] DataBase...... finished! Cost 3.24 secs\n",
      "y blocks loading finished! Cost 5.71 secs\n",
      "y blocks process...... finished! Cost 4.58 secs\n",
      "y blocks masking...... finished! Cost 0.08 secs\n",
      "y blocks saving ...... finished! Cost 0.13 secs\n",
      "y blocks norming...... finished! Cost 0.00 secs\n",
      "y finished! Cost 10.67 Seconds\n",
      "--------------------------------------------------------------------------------\n",
      "day blocks loading start!\n",
      " --> trade blocks reading [day] DataBase...... finished! Cost 1.59 secs\n",
      "day blocks loading finished! Cost 1.62 secs\n",
      "day blocks process...... finished! Cost 0.12 secs\n",
      "day blocks masking...... finished! Cost 0.08 secs\n",
      "day blocks saving ...... finished! Cost 0.10 secs\n",
      "day blocks norming...... finished! Cost 0.00 secs\n",
      "day finished! Cost 2.00 Seconds\n",
      "--------------------------------------------------------------------------------\n",
      "30m blocks loading start!\n",
      " --> trade blocks reading [30min] DataBase...... finished! Cost 6.02 secs\n",
      " --> trade blocks reading [day] DataBase...... finished! Cost 1.05 secs\n",
      "30m blocks loading finished! Cost 7.11 secs\n",
      "30m blocks process...... finished! Cost 1.50 secs\n",
      "30m blocks masking...... finished! Cost 0.15 secs\n",
      "30m blocks saving ...... finished! Cost 1.73 secs\n",
      "30m blocks norming...... finished! Cost 0.00 secs\n",
      "30m finished! Cost 10.60 Seconds\n",
      "--------------------------------------------------------------------------------\n",
      "risk blocks loading start!\n",
      " --> models blocks reading [risk_exp] DataBase...... finished! Cost 1.38 secs\n",
      "risk blocks loading finished! Cost 1.41 secs\n",
      "risk blocks process...... finished! Cost 0.00 secs\n",
      "risk blocks masking...... finished! Cost 0.09 secs\n",
      "risk blocks saving ...... finished! Cost 0.22 secs\n",
      "risk blocks norming...... finished! Cost 0.00 secs\n",
      "risk finished! Cost 1.81 Seconds\n",
      "--------------------------------------------------------------------------------\n",
      "Data Processing Finished! Cost 25.08 Seconds\n",
      "Load  2 DataBlocks...... finished! Cost 0.06 secs\n",
      "Align 2 DataBlocks...... finished! Cost 0.16 secs\n",
      "Pre-Norming method of [day] : {'divlast': True, 'histnorm': True}\n",
      "20231201 new\n",
      "Load  2 DataBlocks...... finished! Cost 0.05 secs\n",
      "Align 2 DataBlocks...... finished! Cost 0.14 secs\n",
      "Pre-Norming method of [day] : {'divlast': True, 'histnorm': True}\n",
      "20231201 new\n",
      "Load  2 DataBlocks...... finished! Cost 0.04 secs\n",
      "Align 2 DataBlocks...... finished! Cost 0.14 secs\n",
      "Pre-Norming method of [day] : {'divlast': True, 'histnorm': True}\n",
      "20231201 new\n"
     ]
    }
   ],
   "source": [
    "from src import API\n",
    "\n",
    "API.DataAPI.update()\n",
    "API.DataAPI.prepare_train_data()\n",
    "API.Predictor.update_factors()"
   ]
  },
  {
   "cell_type": "code",
   "execution_count": 2,
   "metadata": {},
   "outputs": [
    {
     "name": "stdout",
     "output_type": "stream",
     "text": [
      "Load  2 DataBlocks...... finished! Cost 0.11 secs\n",
      "Align 2 DataBlocks...... finished! Cost 0.17 secs\n",
      "Pre-Norming method of [day] : {'divlast': True, 'histnorm': True}\n",
      "20231201 new\n",
      "Load  2 DataBlocks...... finished! Cost 0.03 secs\n",
      "Align 2 DataBlocks...... finished! Cost 0.15 secs\n",
      "Pre-Norming method of [day] : {'divlast': True, 'histnorm': True}\n",
      "20231201 new\n",
      "Load  2 DataBlocks...... finished! Cost 0.03 secs\n",
      "Align 2 DataBlocks...... finished! Cost 0.17 secs\n",
      "Pre-Norming method of [day] : {'divlast': True, 'histnorm': True}\n",
      "20231201 new\n"
     ]
    }
   ],
   "source": [
    "from src import API\n",
    "API.Predictor.update_factors()"
   ]
  },
  {
   "cell_type": "code",
   "execution_count": 2,
   "metadata": {},
   "outputs": [
    {
     "name": "stdout",
     "output_type": "stream",
     "text": [
      "Load  2 DataBlocks ..."
     ]
    },
    {
     "name": "stdout",
     "output_type": "stream",
     "text": [
      "... cost 0.22 secs\n",
      "Align 2 DataBlocks ...... cost 0.21 secs\n",
      "Pre-Norming method of [day] : {'divlast': True, 'histnorm': True}\n",
      "x shape is torch.Size([5064, 30, 6])\n",
      "y shape is torch.Size([5064, 1])\n",
      "Test Forward Success\n",
      "metrics :  Metrics.MetricOutput(loss=tensor(1.0688, grad_fn=<AddBackward0>), score=-0.015420470386743546, loss_item=1.068833589553833, penalty=0.0, losses=tensor(1.0688, grad_fn=<ExpBackward0>))\n",
      "Test Metrics Success\n"
     ]
    }
   ],
   "source": [
    "from src import API\n",
    "API.ModelTestor.new('ts_mixer').try_metrics()"
   ]
  }
 ],
 "metadata": {
  "kernelspec": {
   "display_name": "Python 3",
   "language": "python",
   "name": "python3"
  },
  "language_info": {
   "codemirror_mode": {
    "name": "ipython",
    "version": 3
   },
   "file_extension": ".py",
   "mimetype": "text/x-python",
   "name": "python",
   "nbconvert_exporter": "python",
   "pygments_lexer": "ipython3",
   "version": "3.11.8"
  }
 },
 "nbformat": 4,
 "nbformat_minor": 2
}
