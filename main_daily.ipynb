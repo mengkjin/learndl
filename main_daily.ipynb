{
 "cells": [
  {
   "cell_type": "code",
   "execution_count": 8,
   "metadata": {},
   "outputs": [
    {
     "name": "stdout",
     "output_type": "stream",
     "text": [
      "Load  1 DataBlocks...... finished! Cost 0.08 secs\n",
      "Align 1 DataBlocks...... finished! Cost 0.16 secs\n"
     ]
    }
   ],
   "source": [
    "from src.data import ModuleData\n",
    "datas = ModuleData.load([] , ['std_lag1_10' , 'std_lag1_20' , 'res_lag1_20'] , fit = False , predict = True)"
   ]
  },
  {
   "cell_type": "code",
   "execution_count": 1,
   "metadata": {},
   "outputs": [
    {
     "name": "stdout",
     "output_type": "stream",
     "text": [
      "src.basic.INSTANCE_RECORD can be accessed to check ['trainer', 'account']\n",
      "Basic module imported!\n"
     ]
    }
   ],
   "source": [
    "%run src_runs/autorun/daily_update.py"
   ]
  },
  {
   "cell_type": "code",
   "execution_count": 1,
   "metadata": {},
   "outputs": [
    {
     "name": "stdout",
     "output_type": "stream",
     "text": [
      "src.basic.INSTANCE_RECORD can be accessed to check ['trainer', 'account']\n",
      "Basic module imported!\n",
      "--------------------------------------------------------------------------------\n",
      "****************************** DOWNLOAD CORE DATA ******************************\n",
      "DataBase object [information_ts],[calendar],[20241205] save to D:\\Coding\\learndl\\learndl\\data\\DataBase\\DB_information_ts\\calendar.feather successfully\n",
      "DataBase object [information_ts],[change_name],[20241205] save to D:\\Coding\\learndl\\learndl\\data\\DataBase\\DB_information_ts\\change_name.feather successfully\n",
      "DataBase object [information_ts],[description],[20241205] save to D:\\Coding\\learndl\\learndl\\data\\DataBase\\DB_information_ts\\description.feather successfully\n",
      "DataBase object [information_ts],[industry],[20241205] save to D:\\Coding\\learndl\\learndl\\data\\DataBase\\DB_information_ts\\industry.feather successfully\n",
      "DataBase object [benchmark_ts],[csi1000],[20241121 to 20241205]...... finished! Cost 0.00 secs\n",
      "DataBase object [benchmark_ts],[csi2000],[20241121 to 20241205]...... finished! Cost 0.00 secs\n",
      "DataBase object [benchmark_ts],[csi300],[20241124 to 20241205]...... finished! Cost 0.01 secs\n",
      "DataBase object [benchmark_ts],[csi500],[20241121 to 20241205]...... finished! Cost 0.00 secs\n",
      "DataBase object [benchmark_ts],[csi800],[20241121 to 20241205]...... finished! Cost 0.01 secs\n",
      "DataBase object [trade_ts],[day_moneyflow],[20241204] save to D:\\Coding\\learndl\\learndl\\data\\DataBase\\DB_trade_ts\\day_moneyflow\\2024\\day_moneyflow.20241204.feather successfully\n",
      "DataBase object [trade_ts],[day],[20241204] save to D:\\Coding\\learndl\\learndl\\data\\DataBase\\DB_trade_ts\\day\\2024\\day.20241204.feather successfully\n",
      "DataBase object [trade_ts],[day_val],[20241204] save to D:\\Coding\\learndl\\learndl\\data\\DataBase\\DB_trade_ts\\day_val\\2024\\day_val.20241204.feather successfully\n",
      "DataBase object [analyst_ts],[report],[20241105 to 20241204]...... finished! Cost 0.19 secs\n"
     ]
    },
    {
     "name": "stderr",
     "output_type": "stream",
     "text": [
      "c:\\Users\\jinmeng\\AppData\\Local\\Programs\\Python\\Python311\\Lib\\site-packages\\rqdatac\\client.py:257: UserWarning: Your account will be expired after  24 days. Please call us at 0755-22676337 to upgrade or purchase or renew your contract.\n",
      "  warnings.warn(\"Your account will be expired after  {} days. \"\n"
     ]
    },
    {
     "name": "stdout",
     "output_type": "stream",
     "text": [
      "DataBase object [trade_ts],[min],[20241204] save to D:\\Coding\\learndl\\learndl\\data\\DataBase\\DB_trade_ts\\min\\2024\\min.20241204.feather successfully\n",
      "rcquant bar min 20241204 success\n",
      "process other min bars at 20241204 from source rcquant\n",
      "DataBase object [trade_ts],[5min],[20241204] save to D:\\Coding\\learndl\\learndl\\data\\DataBase\\DB_trade_ts\\5min\\2024\\5min.20241204.feather successfully\n",
      "DataBase object [trade_ts],[10min],[20241204] save to D:\\Coding\\learndl\\learndl\\data\\DataBase\\DB_trade_ts\\10min\\2024\\10min.20241204.feather successfully\n",
      "DataBase object [trade_ts],[15min],[20241204] save to D:\\Coding\\learndl\\learndl\\data\\DataBase\\DB_trade_ts\\15min\\2024\\15min.20241204.feather successfully\n",
      "DataBase object [trade_ts],[30min],[20241204] save to D:\\Coding\\learndl\\learndl\\data\\DataBase\\DB_trade_ts\\30min\\2024\\30min.20241204.feather successfully\n",
      "DataBase object [trade_ts],[60min],[20241204] save to D:\\Coding\\learndl\\learndl\\data\\DataBase\\DB_trade_ts\\60min\\2024\\60min.20241204.feather successfully\n",
      "--------------------------------------------------------------------------------\n",
      "--------------------------------------------------------------------------------\n",
      "--------------------------------------------------------------------------------\n",
      "**************************** DOWNLOAD SELLSIDE DATA ****************************\n",
      "Thu Dec  5 08:29:50 2024 : download since last update!\n",
      "Connection and Factor preparation finished!\n",
      "Thu Dec  5 08:29:50 2024 : sellside/dongfang.hfq_chars from 20241203 to 20241204, total 1 periods\n",
      "Start sellside/dongfang.hfq_chars:20241203-20241204 \n",
      "DataBase object [sellside],[dongfang.hfq_chars],[20241203] save to D:\\Coding\\learndl\\learndl\\data\\DataBase\\DB_sellside\\dongfang.hfq_chars\\2024\\dongfang.hfq_chars.20241203.feather successfully\n",
      "DataBase object [sellside],[dongfang.hfq_chars],[20241204] save to D:\\Coding\\learndl\\learndl\\data\\DataBase\\DB_sellside\\dongfang.hfq_chars\\2024\\dongfang.hfq_chars.20241204.feather successfully\n",
      "Done sellside/dongfang.hfq_chars:20241203-20241204, cost 4.4 Secs\n",
      "Thu Dec  5 08:29:54 2024 : sellside/dongfang.l2_chars from 20241203 to 20241204, total 1 periods\n",
      "Start sellside/dongfang.l2_chars:20241203-20241204 \n",
      "DataBase object [sellside],[dongfang.l2_chars],[20241203] save to D:\\Coding\\learndl\\learndl\\data\\DataBase\\DB_sellside\\dongfang.l2_chars\\2024\\dongfang.l2_chars.20241203.feather successfully\n",
      "DataBase object [sellside],[dongfang.l2_chars],[20241204] save to D:\\Coding\\learndl\\learndl\\data\\DataBase\\DB_sellside\\dongfang.l2_chars\\2024\\dongfang.l2_chars.20241204.feather successfully\n",
      "Done sellside/dongfang.l2_chars:20241203-20241204, cost 40.9 Secs\n",
      "Thu Dec  5 08:30:35 2024 : sellside/dongfang.ms_chars from 20241203 to 20241204, total 1 periods\n",
      "Start sellside/dongfang.ms_chars:20241203-20241204 \n",
      "DataBase object [sellside],[dongfang.ms_chars],[20241203] save to D:\\Coding\\learndl\\learndl\\data\\DataBase\\DB_sellside\\dongfang.ms_chars\\2024\\dongfang.ms_chars.20241203.feather successfully\n",
      "DataBase object [sellside],[dongfang.ms_chars],[20241204] save to D:\\Coding\\learndl\\learndl\\data\\DataBase\\DB_sellside\\dongfang.ms_chars\\2024\\dongfang.ms_chars.20241204.feather successfully\n",
      "Done sellside/dongfang.ms_chars:20241203-20241204, cost 66.7 Secs\n",
      "Thu Dec  5 08:31:42 2024 : sellside/dongfang.order_flow from 20241203 to 20241204, total 1 periods\n",
      "Start sellside/dongfang.order_flow:20241203-20241204 \n",
      "DataBase object [sellside],[dongfang.order_flow],[20241203] save to D:\\Coding\\learndl\\learndl\\data\\DataBase\\DB_sellside\\dongfang.order_flow\\2024\\dongfang.order_flow.20241203.feather successfully\n",
      "DataBase object [sellside],[dongfang.order_flow],[20241204] save to D:\\Coding\\learndl\\learndl\\data\\DataBase\\DB_sellside\\dongfang.order_flow\\2024\\dongfang.order_flow.20241204.feather successfully\n",
      "Done sellside/dongfang.order_flow:20241203-20241204, cost 2.2 Secs\n",
      "Thu Dec  5 08:31:44 2024 : sellside/dongfang.gp from 20241203 to 20241204, total 1 periods\n",
      "Start sellside/dongfang.gp:20241203-20241204 \n",
      "DataBase object [sellside],[dongfang.gp],[20241203] save to D:\\Coding\\learndl\\learndl\\data\\DataBase\\DB_sellside\\dongfang.gp\\2024\\dongfang.gp.20241203.feather successfully\n",
      "DataBase object [sellside],[dongfang.gp],[20241204] save to D:\\Coding\\learndl\\learndl\\data\\DataBase\\DB_sellside\\dongfang.gp\\2024\\dongfang.gp.20241204.feather successfully\n",
      "Done sellside/dongfang.gp:20241203-20241204, cost 4.5 Secs\n",
      "Thu Dec  5 08:31:49 2024 : sellside/dongfang.tra from 20241203 to 20241204, total 1 periods\n",
      "Start sellside/dongfang.tra:20241203-20241204 \n",
      "DataBase object [sellside],[dongfang.tra],[20241203] save to D:\\Coding\\learndl\\learndl\\data\\DataBase\\DB_sellside\\dongfang.tra\\2024\\dongfang.tra.20241203.feather successfully\n",
      "DataBase object [sellside],[dongfang.tra],[20241204] save to D:\\Coding\\learndl\\learndl\\data\\DataBase\\DB_sellside\\dongfang.tra\\2024\\dongfang.tra.20241204.feather successfully\n",
      "Done sellside/dongfang.tra:20241203-20241204, cost 3.7 Secs\n",
      "Thu Dec  5 08:31:53 2024 : sellside/dongfang.hist from 20241203 to 20241204, total 1 periods\n",
      "Start sellside/dongfang.hist:20241203-20241204 \n",
      "DataBase object [sellside],[dongfang.hist],[20241203] save to D:\\Coding\\learndl\\learndl\\data\\DataBase\\DB_sellside\\dongfang.hist\\2024\\dongfang.hist.20241203.feather successfully\n",
      "DataBase object [sellside],[dongfang.hist],[20241204] save to D:\\Coding\\learndl\\learndl\\data\\DataBase\\DB_sellside\\dongfang.hist\\2024\\dongfang.hist.20241204.feather successfully\n",
      "Done sellside/dongfang.hist:20241203-20241204, cost 2.9 Secs\n",
      "Thu Dec  5 08:31:56 2024 : sellside/dongfang.scores_v0 from 20241203 to 20241204, total 1 periods\n",
      "Start sellside/dongfang.scores_v0:20241203-20241204 \n",
      "DataBase object [sellside],[dongfang.scores_v0],[20241203] save to D:\\Coding\\learndl\\learndl\\data\\DataBase\\DB_sellside\\dongfang.scores_v0\\2024\\dongfang.scores_v0.20241203.feather successfully\n",
      "DataBase object [sellside],[dongfang.scores_v0],[20241204] save to D:\\Coding\\learndl\\learndl\\data\\DataBase\\DB_sellside\\dongfang.scores_v0\\2024\\dongfang.scores_v0.20241204.feather successfully\n",
      "Done sellside/dongfang.scores_v0:20241203-20241204, cost 3.2 Secs\n",
      "Thu Dec  5 08:31:59 2024 : sellside/dongfang.factorvae from 20241203 to 20241204, total 1 periods\n",
      "Start sellside/dongfang.factorvae:20241203-20241204 \n",
      "DataBase object [sellside],[dongfang.factorvae],[20241203] save to D:\\Coding\\learndl\\learndl\\data\\DataBase\\DB_sellside\\dongfang.factorvae\\2024\\dongfang.factorvae.20241203.feather successfully\n",
      "DataBase object [sellside],[dongfang.factorvae],[20241204] save to D:\\Coding\\learndl\\learndl\\data\\DataBase\\DB_sellside\\dongfang.factorvae\\2024\\dongfang.factorvae.20241204.feather successfully\n",
      "Done sellside/dongfang.factorvae:20241203-20241204, cost 2.7 Secs\n",
      "Thu Dec  5 08:32:01 2024 : sellside/huatai.dl_factors from 20241203 to 20241204, total 1 periods\n",
      "Start sellside/huatai.dl_factors:20241203-20241204 \n",
      "DataBase object [sellside],[huatai.dl_factors],[20241203] save to D:\\Coding\\learndl\\learndl\\data\\DataBase\\DB_sellside\\huatai.dl_factors\\2024\\huatai.dl_factors.20241203.feather successfully\n",
      "DataBase object [sellside],[huatai.dl_factors],[20241204] save to D:\\Coding\\learndl\\learndl\\data\\DataBase\\DB_sellside\\huatai.dl_factors\\2024\\huatai.dl_factors.20241204.feather successfully\n",
      "Done sellside/huatai.dl_factors:20241203-20241204, cost 1.4 Secs\n",
      "--------------------------------------------------------------------------------\n",
      "--------------------------------------------------------------------------------\n",
      "******************************** FETCH JS DATA ********************************\n",
      "Update Files\n",
      "Thu Dec  5 08:32:03 2024 : Updated ~ DB_information_js\\calendar.feather Done! Cost 0.02 Secs\n",
      "Thu Dec  5 08:32:03 2024 : Updated ~ DB_information_js\\description.feather Done! Cost 0.06 Secs\n",
      "Thu Dec  5 08:32:03 2024 : Updated ~ DB_information_js\\st.feather Done! Cost 0.03 Secs\n",
      "Thu Dec  5 08:32:06 2024 : Updated ~ DB_information_js\\industry.feather Done! Cost 2.88 Secs\n",
      "Thu Dec  5 08:32:13 2024 : Updated ~ DB_information_js\\concepts.feather Done! Cost 6.79 Secs\n",
      "Thu Dec  5 08:32:14 2024 : Updated ~ DB_models\\longcl_exp\\2024\\longcl_exp.20241129.feather Done! Cost 0.09 Secs\n",
      "Thu Dec  5 08:32:14 2024 : Updated ~ DB_models\\longcl_exp\\2024\\longcl_exp.20241202.feather Done! Cost 0.10 Secs\n",
      "Thu Dec  5 08:32:14 2024 : Updated ~ DB_models\\longcl_exp\\2024\\longcl_exp.20241203.feather Done! Cost 0.11 Secs\n",
      "Thu Dec  5 08:32:14 2024 : Updated ~ DB_models\\risk_exp\\2024\\risk_exp.20241204.feather Done! Cost 0.07 Secs\n",
      "Thu Dec  5 08:32:15 2024 : Updated ~ DB_models\\risk_cov\\2024\\risk_cov.20241204.feather Done! Cost 0.03 Secs\n",
      "Thu Dec  5 08:32:15 2024 : Updated ~ DB_models\\risk_spec\\2024\\risk_spec.20241204.feather Done! Cost 0.02 Secs\n",
      "Thu Dec  5 08:32:16 2024 : Updated ~ DB_trade_js\\day\\2024\\day.20241204.feather Done! Cost 0.08 Secs\n",
      "Thu Dec  5 08:32:17 2024 : Updated ~ DB_trade_js\\5day\\2024\\5day.20241204.feather Done! Cost 0.29 Secs\n",
      "Thu Dec  5 08:32:17 2024 : Updated ~ DB_trade_js\\10day\\2024\\10day.20241204.feather Done! Cost 0.45 Secs\n",
      "Thu Dec  5 08:32:18 2024 : Updated ~ DB_trade_js\\20day\\2024\\20day.20241204.feather Done! Cost 0.98 Secs\n",
      "Thu Dec  5 08:32:21 2024 : Updated ~ DB_trade_js\\min\\2024\\min.20241204.feather Done! Cost 3.23 Secs\n",
      "Thu Dec  5 08:32:22 2024 : Updated ~ DB_trade_js\\5min\\2024\\5min.20241204.feather Done! Cost 0.52 Secs\n",
      "Thu Dec  5 08:32:22 2024 : Updated ~ DB_trade_js\\10min\\2024\\10min.20241204.feather Done! Cost 0.46 Secs\n",
      "Thu Dec  5 08:32:23 2024 : Updated ~ DB_trade_js\\15min\\2024\\15min.20241204.feather Done! Cost 0.42 Secs\n",
      "Thu Dec  5 08:32:23 2024 : Updated ~ DB_trade_js\\30min\\2024\\30min.20241204.feather Done! Cost 0.40 Secs\n",
      "Thu Dec  5 08:32:24 2024 : Updated ~ DB_trade_js\\60min\\2024\\60min.20241204.feather Done! Cost 0.42 Secs\n",
      "Thu Dec  5 08:32:26 2024 : Updated ~ DB_labels_js\\ret20_lag\\2024\\ret20_lag.20241105.feather Done! Cost 0.82 Secs\n",
      "Thu Dec  5 08:32:27 2024 : Updated ~ DB_labels_js\\ret20\\2024\\ret20.20241106.feather Done! Cost 0.66 Secs\n",
      "Thu Dec  5 08:32:36 2024 : Updated ~ DB_labels_js\\ret10_lag\\2024\\ret10_lag.20241119.feather Done! Cost 0.58 Secs\n",
      "Thu Dec  5 08:32:38 2024 : Updated ~ DB_labels_js\\ret10\\2024\\ret10.20241120.feather Done! Cost 0.57 Secs\n",
      "Thu Dec  5 08:32:46 2024 : Updated ~ DB_labels_js\\ret5_lag\\2024\\ret5_lag.20241126.feather Done! Cost 0.43 Secs\n",
      "Thu Dec  5 08:32:48 2024 : Updated ~ DB_labels_js\\ret5\\2024\\ret5.20241127.feather Done! Cost 0.59 Secs\n",
      "Thu Dec  5 08:33:03 2024 : Updated ~ DB_benchmark_js\\csi300\\2024\\csi300.20241202.feather Done! Cost 0.01 Secs\n",
      "Thu Dec  5 08:33:03 2024 : Updated ~ DB_benchmark_js\\csi500\\2024\\csi500.20241202.feather Done! Cost 0.01 Secs\n",
      "Thu Dec  5 08:33:03 2024 : Updated ~ DB_benchmark_js\\csi800\\2024\\csi800.20241202.feather Done! Cost 0.01 Secs\n",
      "Thu Dec  5 08:33:03 2024 : Updated ~ DB_benchmark_js\\csi1000\\2024\\csi1000.20241202.feather Done! Cost 0.01 Secs\n",
      "Thu Dec  5 08:33:03 2024 : Updated ~ DB_benchmark_js\\csi300\\2024\\csi300.20241203.feather Done! Cost 0.01 Secs\n",
      "Thu Dec  5 08:33:03 2024 : Updated ~ DB_benchmark_js\\csi500\\2024\\csi500.20241203.feather Done! Cost 0.01 Secs\n",
      "Thu Dec  5 08:33:03 2024 : Updated ~ DB_benchmark_js\\csi800\\2024\\csi800.20241203.feather Done! Cost 0.00 Secs\n",
      "Thu Dec  5 08:33:03 2024 : Updated ~ DB_benchmark_js\\csi1000\\2024\\csi1000.20241203.feather Done! Cost 0.02 Secs\n",
      "Thu Dec  5 08:33:03 2024 : Updated ~ DB_benchmark_js\\csi300\\2024\\csi300.20241204.feather Done! Cost 0.01 Secs\n",
      "Thu Dec  5 08:33:03 2024 : Updated ~ DB_benchmark_js\\csi500\\2024\\csi500.20241204.feather Done! Cost 0.01 Secs\n",
      "Thu Dec  5 08:33:03 2024 : Updated ~ DB_benchmark_js\\csi800\\2024\\csi800.20241204.feather Done! Cost 0.01 Secs\n",
      "Thu Dec  5 08:33:03 2024 : Updated ~ DB_benchmark_js\\csi1000\\2024\\csi1000.20241204.feather Done! Cost 0.01 Secs\n",
      "Thu Dec  5 08:33:03 2024 : All Updates Done! Cost 60.69 Secs\n",
      "--------------------------------------------------------------------------------\n",
      "--------------------------------------------------------------------------------\n",
      "****************************** UPDATE OTHER DATAS ******************************\n",
      "DataBase object [trade_ts],[5day],[20241204] save to D:\\Coding\\learndl\\learndl\\data\\DataBase\\DB_trade_ts\\5day\\2024\\5day.20241204.feather successfully\n",
      "DataBase object [trade_ts],[10day],[20241204] save to D:\\Coding\\learndl\\learndl\\data\\DataBase\\DB_trade_ts\\10day\\2024\\10day.20241204.feather successfully\n",
      "DataBase object [trade_ts],[20day],[20241204] save to D:\\Coding\\learndl\\learndl\\data\\DataBase\\DB_trade_ts\\20day\\2024\\20day.20241204.feather successfully\n",
      "DataBase object [labels_ts],[ret5],[20241126] save to D:\\Coding\\learndl\\learndl\\data\\DataBase\\DB_labels_ts\\ret5\\2024\\ret5.20241126.feather successfully\n",
      "DataBase object [labels_ts],[ret5_lag],[20241125] save to D:\\Coding\\learndl\\learndl\\data\\DataBase\\DB_labels_ts\\ret5_lag\\2024\\ret5_lag.20241125.feather successfully\n",
      "DataBase object [labels_ts],[ret10],[20241119] save to D:\\Coding\\learndl\\learndl\\data\\DataBase\\DB_labels_ts\\ret10\\2024\\ret10.20241119.feather successfully\n",
      "DataBase object [labels_ts],[ret10_lag],[20241118] save to D:\\Coding\\learndl\\learndl\\data\\DataBase\\DB_labels_ts\\ret10_lag\\2024\\ret10_lag.20241118.feather successfully\n",
      "DataBase object [labels_ts],[ret20],[20241105] save to D:\\Coding\\learndl\\learndl\\data\\DataBase\\DB_labels_ts\\ret20\\2024\\ret20.20241105.feather successfully\n",
      "DataBase object [labels_ts],[ret20_lag],[20241104] save to D:\\Coding\\learndl\\learndl\\data\\DataBase\\DB_labels_ts\\ret20_lag\\2024\\ret20_lag.20241104.feather successfully\n",
      "--------------------------------------------------------------------------------\n",
      "--------------------------------------------------------------------------------\n",
      "***************************** UPDATE FACTOR MODELS *****************************\n",
      "DataBase object [models],[tushare_cne5_exp],[20241204] save to D:\\Coding\\learndl\\learndl\\data\\DataBase\\DB_models\\tushare_cne5_exp\\2024\\tushare_cne5_exp.20241204.feather successfully\n",
      "DataBase object [models],[tushare_cne5_coef],[20241204] save to D:\\Coding\\learndl\\learndl\\data\\DataBase\\DB_models\\tushare_cne5_coef\\2024\\tushare_cne5_coef.20241204.feather successfully\n",
      "DataBase object [models],[tushare_cne5_res],[20241204] save to D:\\Coding\\learndl\\learndl\\data\\DataBase\\DB_models\\tushare_cne5_res\\2024\\tushare_cne5_res.20241204.feather successfully\n",
      "DataBase object [models],[tushare_cne5_cov],[20241204] save to D:\\Coding\\learndl\\learndl\\data\\DataBase\\DB_models\\tushare_cne5_cov\\2024\\tushare_cne5_cov.20241204.feather successfully\n",
      "DataBase object [models],[tushare_cne5_spec],[20241204] save to D:\\Coding\\learndl\\learndl\\data\\DataBase\\DB_models\\tushare_cne5_spec\\2024\\tushare_cne5_spec.20241204.feather successfully\n",
      "--------------------------------------------------------------------------------\n",
      "--------------------------------------------------------------------------------\n",
      "***************************** PREPARE PREDICT DATA *****************************\n",
      "predict is True , Data Processing start!\n",
      "6 datas : ['y', 'day', '30m', 'style', 'indus', 'week'] , from -366 to None\n",
      "y blocks loading start!\n",
      " --> labels_ts blocks reading [ret10_lag] DataBase...... finished! Cost 0.89 secs\n",
      " --> labels_ts blocks reading [ret20_lag] DataBase...... finished! Cost 0.80 secs\n",
      " --> labels_ts blocks merging (2)...... finished! Cost 0.18 secs\n",
      " --> models blocks reading [tushare_cne5_exp] DataBase...... finished! Cost 3.20 secs\n",
      "y blocks loading finished! Cost 5.44 secs\n",
      "y blocks process...... finished! Cost 4.94 secs\n",
      "y blocks masking...... finished! Cost 0.06 secs\n",
      "y blocks saving ...... finished! Cost 0.29 secs\n",
      "y blocks norming...... finished! Cost 0.00 secs\n",
      "y finished! Cost 10.88 Seconds\n",
      "--------------------------------------------------------------------------------\n",
      "day blocks loading start!\n",
      " --> trade_ts blocks reading [day] DataBase...... finished! Cost 1.15 secs\n",
      "day blocks loading finished! Cost 1.17 secs\n",
      "day blocks process...... finished! Cost 0.23 secs\n",
      "day blocks masking...... finished! Cost 0.04 secs\n",
      "day blocks saving ...... finished! Cost 0.23 secs\n",
      "day blocks norming...... finished! Cost 0.00 secs\n",
      "day finished! Cost 1.82 Seconds\n",
      "--------------------------------------------------------------------------------\n",
      "30m blocks loading start!\n",
      " --> trade_ts blocks reading [30min] DataBase...... finished! Cost 0.46 secs\n",
      " --> trade_ts blocks reading [day] DataBase...... finished! Cost 0.96 secs\n",
      "30m blocks loading finished! Cost 1.43 secs\n",
      "30m blocks process...... finished! Cost 0.15 secs\n",
      "30m blocks masking...... finished! Cost 0.05 secs\n",
      "30m blocks saving ...... finished! Cost 0.15 secs\n",
      "30m blocks norming...... finished! Cost 0.00 secs\n",
      "30m finished! Cost 1.93 Seconds\n",
      "--------------------------------------------------------------------------------\n",
      "style blocks loading start!\n",
      " --> models blocks reading [tushare_cne5_exp] DataBase...... finished! Cost 1.57 secs\n",
      "style blocks loading finished! Cost 1.57 secs\n",
      "style blocks process...... finished! Cost 0.00 secs\n",
      "style blocks masking...... finished! Cost 0.05 secs\n",
      "style blocks saving ...... finished! Cost 0.37 secs\n",
      "style blocks norming...... finished! Cost 0.00 secs\n",
      "style finished! Cost 2.15 Seconds\n",
      "--------------------------------------------------------------------------------\n",
      "indus blocks loading start!\n",
      " --> models blocks reading [tushare_cne5_exp] DataBase...... finished! Cost 2.57 secs\n",
      "indus blocks loading finished! Cost 2.57 secs\n",
      "indus blocks process...... finished! Cost 0.00 secs\n",
      "indus blocks masking...... finished! Cost 0.12 secs\n",
      "indus blocks saving ...... finished! Cost 1.59 secs\n",
      "indus blocks norming...... finished! Cost 0.00 secs\n",
      "indus finished! Cost 4.46 Seconds\n",
      "--------------------------------------------------------------------------------\n",
      "week blocks loading start!\n",
      " --> trade_ts blocks reading [day] DataBase...... finished! Cost 2.86 secs\n",
      "week blocks loading finished! Cost 2.89 secs\n",
      "week blocks process...... finished! Cost 2.29 secs\n",
      "week blocks masking...... finished! Cost 0.19 secs\n",
      "week blocks saving ...... finished! Cost 2.59 secs\n",
      "week blocks norming...... finished! Cost 0.00 secs\n",
      "week finished! Cost 8.13 Seconds\n",
      "--------------------------------------------------------------------------------\n",
      "Data Processing Finished! Cost 29.40 Seconds\n",
      "--------------------------------------------------------------------------------\n",
      "--------------------------------------------------------------------------------\n",
      "******************************** UPDATE HIDDEN ********************************\n",
      "model_name is None, update all hidden models (len=1)\n",
      "Beware! Should be at server or short_test, but short_test is False now!\n",
      "try using D:\\Coding\\learndl\\learndl\\data\\Interim\\DataSet/day.20240607.pt , success!\n",
      "Load  2 DataBlocks...... finished! Cost 0.18 secs\n",
      "Align 2 DataBlocks...... finished! Cost 0.28 secs\n",
      "Pre-Norming method of [day] : {'divlast': True, 'histnorm': True}\n"
     ]
    },
    {
     "name": "stderr",
     "output_type": "stream",
     "text": [
      "100%|██████████| 316/316 [00:00<00:00, 3395.22it/s]\n",
      "100%|██████████| 316/316 [00:00<00:00, 3636.57it/s]\n"
     ]
    },
    {
     "name": "stdout",
     "output_type": "stream",
     "text": [
      "  -->  Finish updating hidden feature extraction for HiddenExtractingModel(hidden_name=gru_day_V0,name=gru_day,submodels=['best'],nums=None) , len=2\n",
      "--------------------------------------------------------------------------------\n",
      "--------------------------------------------------------------------------------\n",
      "******************************** UPDATE FACTORS ********************************\n",
      "model_name is None, update all registered models (len=3)\n",
      "  -->  Finish updating model prediction for RegisteredModel(pred_name=gru_day_V0,name=gru_day,submodel=swalast,num=0) , len=1\n",
      "  -->  Finish updating model prediction for RegisteredModel(pred_name=gruRTN_day_V0,name=gruRTN_day,submodel=swalast,num=0) , len=1\n",
      "  -->  Finish updating model prediction for RegisteredModel(pred_name=gru_day_V1,name=gru_avg,submodel=swalast,num=all) , len=1\n",
      "--------------------------------------------------------------------------------\n",
      "--------------------------------------------------------------------------------\n",
      "*************************** UPDATE FACTOR PORTFOLIOS ***************************\n",
      "model_name is None, build fmps for all registered models (len=3)\n",
      "  -->  No new updating model portfolios for RegisteredModel(pred_name=gru_day_V0,name=gru_day,submodel=swalast,num=0)\n",
      "  -->  Finish updating model accounting for RegisteredModel(pred_name=gru_day_V0,name=gru_day,submodel=swalast,num=0) , len=2\n",
      "  -->  No new updating model portfolios for RegisteredModel(pred_name=gruRTN_day_V0,name=gruRTN_day,submodel=swalast,num=0)\n",
      "  -->  Finish updating model accounting for RegisteredModel(pred_name=gruRTN_day_V0,name=gruRTN_day,submodel=swalast,num=0) , len=2\n",
      "  -->  No new updating model portfolios for RegisteredModel(pred_name=gru_day_V1,name=gru_avg,submodel=swalast,num=all)\n",
      "  -->  Finish updating model accounting for RegisteredModel(pred_name=gru_day_V1,name=gru_avg,submodel=swalast,num=all) , len=2\n",
      "--------------------------------------------------------------------------------\n"
     ]
    }
   ],
   "source": [
    "from src.api import DataAPI , ModelAPI\n",
    "DataAPI.update()\n",
    "ModelAPI.update()"
   ]
  },
  {
   "cell_type": "code",
   "execution_count": 1,
   "metadata": {},
   "outputs": [
    {
     "name": "stdout",
     "output_type": "stream",
     "text": [
      "src.basic.INSTANCE_RECORD can be accessed to check ['trainer', 'account']\n",
      "Basic module imported!\n"
     ]
    },
    {
     "data": {
      "text/plain": [
       "array([20241101, 20241108, 20241115, 20241122, 20241129])"
      ]
     },
     "execution_count": 1,
     "metadata": {},
     "output_type": "execute_result"
    }
   ],
   "source": [
    "from src.basic import RegisteredModel\n",
    "model = RegisteredModel.SelectModels('gru_day_V0')[0]\n",
    "model.fmp_target_dates"
   ]
  },
  {
   "cell_type": "code",
   "execution_count": 1,
   "metadata": {},
   "outputs": [
    {
     "name": "stdout",
     "output_type": "stream",
     "text": [
      "D:\\Coding\\learndl\\learndl\\configs\\nn\\ts_mixer.yaml does not exist, trying default.yaml\n",
      "Load  2 DataBlocks...... finished! Cost 0.09 secs\n",
      "Align 2 DataBlocks...... finished! Cost 0.23 secs\n",
      "Pre-Norming method of [day] : {'divlast': True, 'histnorm': True}\n"
     ]
    },
    {
     "name": "stderr",
     "output_type": "stream",
     "text": [
      "100%|██████████| 212/212 [00:00<?, ?it/s]\n"
     ]
    },
    {
     "name": "stdout",
     "output_type": "stream",
     "text": [
      "x shape is torch.Size([5169, 30, 6])\n",
      "y shape is torch.Size([5169, 1])\n",
      "Test Forward Success\n",
      "x shape is torch.Size([5169, 30, 6])\n",
      "y shape is torch.Size([5169, 1])\n",
      "Test Forward Success\n",
      "score function of [spearman] calculated and success!\n",
      "loss function of [ccc] calculated and success!\n",
      "metrics :  Metrics(loss=ccc,metric=spearman,penalty=['hidden_corr'])\n",
      "Test Metrics Success\n"
     ]
    },
    {
     "data": {
      "text/plain": [
       "ModelTestor(model=NNPredictor(model_full_name=ts_mixer_day_ShortTest@0@0@0)) , check [.model][.batch_data][.metrics]"
      ]
     },
     "execution_count": 1,
     "metadata": {},
     "output_type": "execute_result"
    }
   ],
   "source": [
    "from src.api import ModelAPI\n",
    "model = ModelAPI.Testor('ts_mixer')\n",
    "model.try_forward()\n",
    "model.try_metrics()"
   ]
  },
  {
   "cell_type": "code",
   "execution_count": 1,
   "metadata": {},
   "outputs": [
    {
     "name": "stdout",
     "output_type": "stream",
     "text": [
      "src.basic.INSTANCE_RECORD can be accessed to check ['trainer', 'account']\n",
      "Basic module imported!\n"
     ]
    },
    {
     "data": {
      "text/plain": [
       "ModelPortfolioBuilder(RegisteredModel(pred_name=gru_day_V0,name=gru_day,submodel=swalast,num=0))"
      ]
     },
     "execution_count": 1,
     "metadata": {},
     "output_type": "execute_result"
    }
   ],
   "source": [
    "from src.basic import RegisteredModel , CONF\n",
    "from src.model.model_module.application import ModelPortfolioBuilder\n",
    "\n",
    "model_name = 'gru_day_V0'\n",
    "\n",
    "model = RegisteredModel.SelectModels(model_name)[0]\n",
    "md = ModelPortfolioBuilder(model)\n",
    "md"
   ]
  }
 ],
 "metadata": {
  "kernelspec": {
   "display_name": "Python 3",
   "language": "python",
   "name": "python3"
  },
  "language_info": {
   "codemirror_mode": {
    "name": "ipython",
    "version": 3
   },
   "file_extension": ".py",
   "mimetype": "text/x-python",
   "name": "python",
   "nbconvert_exporter": "python",
   "pygments_lexer": "ipython3",
   "version": "3.11.8"
  }
 },
 "nbformat": 4,
 "nbformat_minor": 2
}
