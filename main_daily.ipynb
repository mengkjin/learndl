{
 "cells": [
  {
   "cell_type": "code",
   "execution_count": 1,
   "metadata": {},
   "outputs": [
    {
     "name": "stdout",
     "output_type": "stream",
     "text": [
      "Update Files\n",
      "Fri Sep 27 02:09:29 2024 : Updated ~ DB_information\\calendar.feather Done! Cost 0.01 Secs\n",
      "Fri Sep 27 02:09:29 2024 : Updated ~ DB_information\\description.feather Done! Cost 0.05 Secs\n",
      "Fri Sep 27 02:09:29 2024 : Updated ~ DB_information\\st.feather Done! Cost 0.03 Secs\n",
      "Fri Sep 27 02:09:33 2024 : Updated ~ DB_information\\industry.feather Done! Cost 3.44 Secs\n",
      "Fri Sep 27 02:09:39 2024 : Updated ~ DB_information\\concepts.feather Done! Cost 6.52 Secs\n",
      "Fri Sep 27 02:09:41 2024 : Updated ~ DB_models\\longcl_exp\\2024\\longcl_exp.20240924.feather Done! Cost 0.21 Secs\n",
      "Fri Sep 27 02:09:41 2024 : Updated ~ DB_models\\risk_exp\\2024\\risk_exp.20240925.feather Done! Cost 0.16 Secs\n",
      "Fri Sep 27 02:09:42 2024 : Updated ~ DB_models\\risk_cov\\2024\\risk_cov.20240925.feather Done! Cost 0.11 Secs\n",
      "Fri Sep 27 02:09:42 2024 : Updated ~ DB_models\\risk_spec\\2024\\risk_spec.20240925.feather Done! Cost 0.06 Secs\n",
      "Fri Sep 27 02:09:42 2024 : Updated ~ DB_models\\risk_exp\\2024\\risk_exp.20240926.feather Done! Cost 0.17 Secs\n",
      "Fri Sep 27 02:09:42 2024 : Updated ~ DB_models\\risk_cov\\2024\\risk_cov.20240926.feather Done! Cost 0.08 Secs\n",
      "Fri Sep 27 02:09:42 2024 : Updated ~ DB_models\\risk_spec\\2024\\risk_spec.20240926.feather Done! Cost 0.03 Secs\n",
      "Fri Sep 27 02:09:45 2024 : Updated ~ DB_trade\\day\\2024\\day.20240925.feather Done! Cost 0.10 Secs\n",
      "Fri Sep 27 02:09:46 2024 : Updated ~ DB_trade\\5day\\2024\\5day.20240925.feather Done! Cost 0.53 Secs\n",
      "Fri Sep 27 02:09:47 2024 : Updated ~ DB_trade\\10day\\2024\\10day.20240925.feather Done! Cost 0.72 Secs\n",
      "Fri Sep 27 02:09:48 2024 : Updated ~ DB_trade\\20day\\2024\\20day.20240925.feather Done! Cost 1.57 Secs\n",
      "Fri Sep 27 02:09:53 2024 : Updated ~ DB_trade\\min\\2024\\min.20240925.feather Done! Cost 4.96 Secs\n",
      "Fri Sep 27 02:09:54 2024 : Updated ~ DB_trade\\5min\\2024\\5min.20240925.feather Done! Cost 0.52 Secs\n",
      "Fri Sep 27 02:09:54 2024 : Updated ~ DB_trade\\10min\\2024\\10min.20240925.feather Done! Cost 0.44 Secs\n",
      "Fri Sep 27 02:09:55 2024 : Updated ~ DB_trade\\15min\\2024\\15min.20240925.feather Done! Cost 0.38 Secs\n",
      "Fri Sep 27 02:09:55 2024 : Updated ~ DB_trade\\30min\\2024\\30min.20240925.feather Done! Cost 0.35 Secs\n",
      "Fri Sep 27 02:09:55 2024 : Updated ~ DB_trade\\60min\\2024\\60min.20240925.feather Done! Cost 0.30 Secs\n",
      "Fri Sep 27 02:09:55 2024 : Updated ~ DB_trade\\day\\2024\\day.20240926.feather Done! Cost 0.06 Secs\n",
      "Fri Sep 27 02:09:56 2024 : Updated ~ DB_trade\\5day\\2024\\5day.20240926.feather Done! Cost 0.40 Secs\n",
      "Fri Sep 27 02:09:57 2024 : Updated ~ DB_trade\\10day\\2024\\10day.20240926.feather Done! Cost 0.77 Secs\n",
      "Fri Sep 27 02:09:58 2024 : Updated ~ DB_trade\\20day\\2024\\20day.20240926.feather Done! Cost 1.32 Secs\n",
      "Fri Sep 27 02:10:02 2024 : Updated ~ DB_trade\\min\\2024\\min.20240926.feather Done! Cost 4.28 Secs\n",
      "Fri Sep 27 02:10:03 2024 : Updated ~ DB_trade\\5min\\2024\\5min.20240926.feather Done! Cost 0.42 Secs\n",
      "Fri Sep 27 02:10:03 2024 : Updated ~ DB_trade\\10min\\2024\\10min.20240926.feather Done! Cost 0.37 Secs\n",
      "Fri Sep 27 02:10:03 2024 : Updated ~ DB_trade\\15min\\2024\\15min.20240926.feather Done! Cost 0.39 Secs\n",
      "Fri Sep 27 02:10:04 2024 : Updated ~ DB_trade\\30min\\2024\\30min.20240926.feather Done! Cost 0.28 Secs\n",
      "Fri Sep 27 02:10:04 2024 : Updated ~ DB_trade\\60min\\2024\\60min.20240926.feather Done! Cost 0.29 Secs\n",
      "Fri Sep 27 02:10:07 2024 : Updated ~ DB_labels\\ret20_lag\\2024\\ret20_lag.20240823.feather Done! Cost 1.08 Secs\n",
      "Fri Sep 27 02:10:08 2024 : Updated ~ DB_labels\\ret20\\2024\\ret20.20240826.feather Done! Cost 0.85 Secs\n",
      "Fri Sep 27 02:10:09 2024 : Updated ~ DB_labels\\ret20_lag\\2024\\ret20_lag.20240826.feather Done! Cost 0.92 Secs\n",
      "Fri Sep 27 02:10:10 2024 : Updated ~ DB_labels\\ret20\\2024\\ret20.20240827.feather Done! Cost 1.23 Secs\n",
      "Fri Sep 27 02:10:23 2024 : Updated ~ DB_labels\\ret10_lag\\2024\\ret10_lag.20240906.feather Done! Cost 0.97 Secs\n",
      "Fri Sep 27 02:10:26 2024 : Updated ~ DB_labels\\ret10\\2024\\ret10.20240909.feather Done! Cost 1.15 Secs\n",
      "Fri Sep 27 02:10:28 2024 : Updated ~ DB_labels\\ret10_lag\\2024\\ret10_lag.20240909.feather Done! Cost 1.19 Secs\n",
      "Fri Sep 27 02:10:31 2024 : Updated ~ DB_labels\\ret10\\2024\\ret10.20240910.feather Done! Cost 1.25 Secs\n",
      "Fri Sep 27 02:10:43 2024 : Updated ~ DB_labels\\ret5_lag\\2024\\ret5_lag.20240913.feather Done! Cost 1.13 Secs\n",
      "Fri Sep 27 02:10:48 2024 : Updated ~ DB_labels\\ret5\\2024\\ret5.20240918.feather Done! Cost 1.12 Secs\n",
      "Fri Sep 27 02:10:49 2024 : Updated ~ DB_labels\\ret5_lag\\2024\\ret5_lag.20240918.feather Done! Cost 1.24 Secs\n",
      "Fri Sep 27 02:10:53 2024 : Updated ~ DB_labels\\ret5\\2024\\ret5.20240919.feather Done! Cost 1.00 Secs\n",
      "Fri Sep 27 02:11:14 2024 : Updated ~ DB_benchmark\\csi300\\2024\\csi300.20240925.feather Done! Cost 0.00 Secs\n",
      "Fri Sep 27 02:11:14 2024 : Updated ~ DB_benchmark\\csi500\\2024\\csi500.20240925.feather Done! Cost 0.02 Secs\n",
      "Fri Sep 27 02:11:14 2024 : Updated ~ DB_benchmark\\csi1000\\2024\\csi1000.20240925.feather Done! Cost 0.01 Secs\n",
      "Fri Sep 27 02:11:14 2024 : Updated ~ DB_benchmark\\csi300\\2024\\csi300.20240926.feather Done! Cost 0.02 Secs\n",
      "Fri Sep 27 02:11:14 2024 : Updated ~ DB_benchmark\\csi500\\2024\\csi500.20240926.feather Done! Cost 0.02 Secs\n",
      "Fri Sep 27 02:11:14 2024 : Updated ~ DB_benchmark\\csi1000\\2024\\csi1000.20240926.feather Done! Cost 0.00 Secs\n",
      "Fri Sep 27 02:11:14 2024 : download since!\n",
      "Connection and Factor preparation finished!\n",
      "Fri Sep 27 02:11:14 2024 : sellside/dongfang.hfq_chars from 20240920 to 20240927, total 1 periods\n",
      "Start sellside/dongfang.hfq_chars:20240920-20240927 \n",
      "predict is True , Data Processing start!\n",
      "6 datas :['y', 'day', '30m', 'style', 'indus', 'week']\n",
      "y blocks loading start!\n",
      " --> labels blocks reading [ret10_lag] DataBase...... finished! Cost 1.23 secs\n",
      " --> labels blocks reading [ret20_lag] DataBase...... finished! Cost 1.33 secs\n",
      " --> labels blocks merging (2)...... finished! Cost 0.26 secs\n",
      " --> models blocks reading [risk_exp] DataBase...... finished! Cost 3.58 secs\n",
      "y blocks loading finished! Cost 6.72 secs\n",
      "y blocks process...... finished! Cost 5.50 secs\n",
      "y blocks masking...... finished! Cost 0.14 secs\n",
      "y blocks saving ...... finished! Cost 0.17 secs\n",
      "y blocks norming...... finished! Cost 0.00 secs\n",
      "y finished! Cost 12.64 Seconds\n",
      "--------------------------------------------------------------------------------\n",
      "day blocks loading start!\n",
      " --> trade blocks reading [day] DataBase...... finished! Cost 1.43 secs\n",
      "day blocks loading finished! Cost 1.43 secs\n",
      "day blocks process...... finished! Cost 0.15 secs\n",
      "day blocks masking...... finished! Cost 0.11 secs\n",
      "day blocks saving ...... finished! Cost 0.18 secs\n",
      "day blocks norming...... finished! Cost 0.00 secs\n",
      "day finished! Cost 2.01 Seconds\n",
      "--------------------------------------------------------------------------------\n",
      "30m blocks loading start!\n",
      " --> trade blocks reading [30min] DataBase...... finished! Cost 7.00 secs\n",
      " --> trade blocks reading [day] DataBase...... finished! Cost 1.15 secs\n",
      "30m blocks loading finished! Cost 8.20 secs\n",
      "30m blocks process...... finished! Cost 1.78 secs\n",
      "30m blocks masking...... finished! Cost 0.17 secs\n",
      "30m blocks saving ...... finished! Cost 1.88 secs\n",
      "30m blocks norming...... finished! Cost 0.00 secs\n",
      "30m finished! Cost 12.19 Seconds\n",
      "--------------------------------------------------------------------------------\n",
      "style blocks loading start!\n",
      " --> models blocks reading [risk_exp] DataBase...... finished! Cost 1.96 secs\n",
      "style blocks loading finished! Cost 1.99 secs\n",
      "style blocks process...... finished! Cost 0.00 secs\n",
      "style blocks masking...... finished! Cost 0.14 secs\n",
      "style blocks saving ...... finished! Cost 0.32 secs\n",
      "style blocks norming...... finished! Cost 0.00 secs\n",
      "style finished! Cost 2.61 Seconds\n",
      "--------------------------------------------------------------------------------\n",
      "indus blocks loading start!\n",
      " --> models blocks reading [risk_exp] DataBase...... finished! Cost 3.27 secs\n",
      "indus blocks loading finished! Cost 3.27 secs\n",
      "indus blocks process...... finished! Cost 0.00 secs\n",
      "indus blocks masking...... finished! Cost 0.13 secs\n",
      "indus blocks saving ...... finished! Cost 1.47 secs\n",
      "indus blocks norming...... finished! Cost 0.00 secs\n",
      "indus finished! Cost 4.99 Seconds\n",
      "--------------------------------------------------------------------------------\n",
      "week blocks loading start!\n",
      " --> trade blocks reading [day] DataBase...... finished! Cost 3.24 secs\n",
      "week blocks loading finished! Cost 3.26 secs\n",
      "week blocks process...... finished! Cost 1.64 secs\n",
      "week blocks masking...... finished! Cost 0.20 secs\n",
      "week blocks saving ...... finished! Cost 2.84 secs\n",
      "week blocks norming...... finished! Cost 0.00 secs\n",
      "week finished! Cost 8.13 Seconds\n",
      "--------------------------------------------------------------------------------\n",
      "Data Processing Finished! Cost 42.57 Seconds\n",
      "--------------------------------------------------------------------------------\n",
      "Beware! Should be at server or short_test, but short_test is False now!\n",
      "try using d:\\Coding\\learndl\\learndl\\data\\DataSet/day.20240607.pt , success!\n",
      "Load  2 DataBlocks...... finished! Cost 0.05 secs\n",
      "Align 2 DataBlocks...... finished! Cost 0.26 secs\n",
      "Pre-Norming method of [day] : {'divlast': True, 'histnorm': True}\n"
     ]
    },
    {
     "name": "stderr",
     "output_type": "stream",
     "text": [
      "100%|██████████| 316/316 [00:00<00:00, 1760.06it/s]\n",
      "100%|██████████| 316/316 [00:00<00:00, 1671.52it/s]\n"
     ]
    },
    {
     "name": "stdout",
     "output_type": "stream",
     "text": [
      "--------------------------------------------------------------------------------\n"
     ]
    },
    {
     "name": "stderr",
     "output_type": "stream",
     "text": [
      " 99%|█████████▊| 78/79 [00:03<00:00, 20.68it/s] \n"
     ]
    },
    {
     "ename": "OSError",
     "evalue": "[WinError 1265] 系统无法联系域控制器来为身份验证请求提供服务。请稍后再试。: '\\\\\\\\hfm-pubshare\\\\HFM各部门共享\\\\量化投资部\\\\龙昌伦\\\\Alpha\\\\gru_day_V0'",
     "output_type": "error",
     "traceback": [
      "\u001b[1;31m---------------------------------------------------------------------------\u001b[0m",
      "\u001b[1;31mOSError\u001b[0m                                   Traceback (most recent call last)",
      "File \u001b[1;32mc:\\Users\\jinmeng\\AppData\\Local\\Programs\\Python\\Python311\\Lib\\pathlib.py:1116\u001b[0m, in \u001b[0;36mPath.mkdir\u001b[1;34m(self, mode, parents, exist_ok)\u001b[0m\n\u001b[0;32m   1115\u001b[0m \u001b[38;5;28;01mtry\u001b[39;00m:\n\u001b[1;32m-> 1116\u001b[0m     os\u001b[38;5;241m.\u001b[39mmkdir(\u001b[38;5;28mself\u001b[39m, mode)\n\u001b[0;32m   1117\u001b[0m \u001b[38;5;28;01mexcept\u001b[39;00m \u001b[38;5;167;01mFileNotFoundError\u001b[39;00m:\n",
      "\u001b[1;31mOSError\u001b[0m: [WinError 1265] 系统无法联系域控制器来为身份验证请求提供服务。请稍后再试。: '\\\\\\\\hfm-pubshare\\\\HFM各部门共享\\\\量化投资部\\\\龙昌伦\\\\Alpha\\\\gru_day_V0'",
      "\nDuring handling of the above exception, another exception occurred:\n",
      "\u001b[1;31mOSError\u001b[0m                                   Traceback (most recent call last)",
      "Cell \u001b[1;32mIn[1], line 10\u001b[0m\n\u001b[0;32m      7\u001b[0m DataAPI\u001b[38;5;241m.\u001b[39mprepare_predict_data()\n\u001b[0;32m      9\u001b[0m ModelHiddenExtractor\u001b[38;5;241m.\u001b[39mupdate_hidden(\u001b[38;5;124m'\u001b[39m\u001b[38;5;124mgru_day\u001b[39m\u001b[38;5;124m'\u001b[39m , model_submodels\u001b[38;5;241m=\u001b[39m[\u001b[38;5;124m'\u001b[39m\u001b[38;5;124mbest\u001b[39m\u001b[38;5;124m'\u001b[39m])\n\u001b[1;32m---> 10\u001b[0m \u001b[43mModelPredictor\u001b[49m\u001b[38;5;241;43m.\u001b[39;49m\u001b[43mupdate_factors\u001b[49m\u001b[43m(\u001b[49m\u001b[43m)\u001b[49m\n",
      "File \u001b[1;32md:\\Coding\\learndl\\learndl\\src2\\model\\model_module\\api\\predictor.py:47\u001b[0m, in \u001b[0;36mModelPredictor.update_factors\u001b[1;34m(cls, silent)\u001b[0m\n\u001b[0;32m     45\u001b[0m \u001b[38;5;28;01mfor\u001b[39;00m model \u001b[38;5;129;01min\u001b[39;00m reg_models:\n\u001b[0;32m     46\u001b[0m     md \u001b[38;5;241m=\u001b[39m \u001b[38;5;28mcls\u001b[39m(model)\n\u001b[1;32m---> 47\u001b[0m     \u001b[38;5;28;01mwith\u001b[39;00m CONF\u001b[38;5;241m.\u001b[39mSILENT: \u001b[43mmd\u001b[49m\u001b[38;5;241;43m.\u001b[39;49m\u001b[43mget_df\u001b[49m\u001b[43m(\u001b[49m\u001b[43m)\u001b[49m\u001b[38;5;241;43m.\u001b[39;49m\u001b[43mdeploy\u001b[49m\u001b[43m(\u001b[49m\u001b[43m)\u001b[49m\n\u001b[0;32m     48\u001b[0m     \u001b[38;5;28mprint\u001b[39m(\u001b[38;5;124mf\u001b[39m\u001b[38;5;124m'\u001b[39m\u001b[38;5;124mFinish model [\u001b[39m\u001b[38;5;132;01m{\u001b[39;00mmodel\u001b[38;5;241m.\u001b[39mname\u001b[38;5;132;01m}\u001b[39;00m\u001b[38;5;124m] predicting!\u001b[39m\u001b[38;5;124m'\u001b[39m)\n\u001b[0;32m     49\u001b[0m \u001b[38;5;28mprint\u001b[39m(\u001b[38;5;124m'\u001b[39m\u001b[38;5;124m-\u001b[39m\u001b[38;5;124m'\u001b[39m \u001b[38;5;241m*\u001b[39m \u001b[38;5;241m80\u001b[39m)\n",
      "File \u001b[1;32md:\\Coding\\learndl\\learndl\\src2\\model\\model_module\\api\\predictor.py:57\u001b[0m, in \u001b[0;36mModelPredictor.deploy\u001b[1;34m(self, df, overwrite, secid_col, date_col)\u001b[0m\n\u001b[0;32m     55\u001b[0m \u001b[38;5;28;01mif\u001b[39;00m df \u001b[38;5;129;01mis\u001b[39;00m \u001b[38;5;28;01mNone\u001b[39;00m: \u001b[38;5;28;01mreturn\u001b[39;00m \u001b[38;5;28mNotImplemented\u001b[39m\n\u001b[0;32m     56\u001b[0m path_deploy \u001b[38;5;241m=\u001b[39m PATH\u001b[38;5;241m.\u001b[39mFACTOR_DESTINATION_SERVER \u001b[38;5;28;01mif\u001b[39;00m CONF\u001b[38;5;241m.\u001b[39mTHIS_IS_SERVER \u001b[38;5;28;01melse\u001b[39;00m PATH\u001b[38;5;241m.\u001b[39mFACTOR_DESTINATION_LAPTOP\n\u001b[1;32m---> 57\u001b[0m \u001b[43mpath_deploy\u001b[49m\u001b[38;5;241;43m.\u001b[39;49m\u001b[43mjoinpath\u001b[49m\u001b[43m(\u001b[49m\u001b[38;5;28;43mself\u001b[39;49m\u001b[38;5;241;43m.\u001b[39;49m\u001b[43malias\u001b[49m\u001b[43m)\u001b[49m\u001b[38;5;241;43m.\u001b[39;49m\u001b[43mmkdir\u001b[49m\u001b[43m(\u001b[49m\u001b[43mparents\u001b[49m\u001b[38;5;241;43m=\u001b[39;49m\u001b[38;5;28;43;01mTrue\u001b[39;49;00m\u001b[43m,\u001b[49m\u001b[43mexist_ok\u001b[49m\u001b[38;5;241;43m=\u001b[39;49m\u001b[38;5;28;43;01mTrue\u001b[39;49;00m\u001b[43m)\u001b[49m\n\u001b[0;32m     58\u001b[0m \u001b[38;5;28;01mfor\u001b[39;00m date , subdf \u001b[38;5;129;01min\u001b[39;00m df\u001b[38;5;241m.\u001b[39mgroupby(date_col):\n\u001b[0;32m     59\u001b[0m     des_path \u001b[38;5;241m=\u001b[39m path_deploy\u001b[38;5;241m.\u001b[39mjoinpath(\u001b[38;5;28mself\u001b[39m\u001b[38;5;241m.\u001b[39malias , \u001b[38;5;124mf\u001b[39m\u001b[38;5;124m'\u001b[39m\u001b[38;5;132;01m{\u001b[39;00m\u001b[38;5;28mself\u001b[39m\u001b[38;5;241m.\u001b[39malias\u001b[38;5;132;01m}\u001b[39;00m\u001b[38;5;124m_\u001b[39m\u001b[38;5;132;01m{\u001b[39;00mdate\u001b[38;5;132;01m}\u001b[39;00m\u001b[38;5;124m.txt\u001b[39m\u001b[38;5;124m'\u001b[39m)\n",
      "File \u001b[1;32mc:\\Users\\jinmeng\\AppData\\Local\\Programs\\Python\\Python311\\Lib\\pathlib.py:1125\u001b[0m, in \u001b[0;36mPath.mkdir\u001b[1;34m(self, mode, parents, exist_ok)\u001b[0m\n\u001b[0;32m   1121\u001b[0m     \u001b[38;5;28mself\u001b[39m\u001b[38;5;241m.\u001b[39mmkdir(mode, parents\u001b[38;5;241m=\u001b[39m\u001b[38;5;28;01mFalse\u001b[39;00m, exist_ok\u001b[38;5;241m=\u001b[39mexist_ok)\n\u001b[0;32m   1122\u001b[0m \u001b[38;5;28;01mexcept\u001b[39;00m \u001b[38;5;167;01mOSError\u001b[39;00m:\n\u001b[0;32m   1123\u001b[0m     \u001b[38;5;66;03m# Cannot rely on checking for EEXIST, since the operating system\u001b[39;00m\n\u001b[0;32m   1124\u001b[0m     \u001b[38;5;66;03m# could give priority to other errors like EACCES or EROFS\u001b[39;00m\n\u001b[1;32m-> 1125\u001b[0m     \u001b[38;5;28;01mif\u001b[39;00m \u001b[38;5;129;01mnot\u001b[39;00m exist_ok \u001b[38;5;129;01mor\u001b[39;00m \u001b[38;5;129;01mnot\u001b[39;00m \u001b[38;5;28;43mself\u001b[39;49m\u001b[38;5;241;43m.\u001b[39;49m\u001b[43mis_dir\u001b[49m\u001b[43m(\u001b[49m\u001b[43m)\u001b[49m:\n\u001b[0;32m   1126\u001b[0m         \u001b[38;5;28;01mraise\u001b[39;00m\n",
      "File \u001b[1;32mc:\\Users\\jinmeng\\AppData\\Local\\Programs\\Python\\Python311\\Lib\\pathlib.py:1250\u001b[0m, in \u001b[0;36mPath.is_dir\u001b[1;34m(self)\u001b[0m\n\u001b[0;32m   1246\u001b[0m \u001b[38;5;250m\u001b[39m\u001b[38;5;124;03m\"\"\"\u001b[39;00m\n\u001b[0;32m   1247\u001b[0m \u001b[38;5;124;03mWhether this path is a directory.\u001b[39;00m\n\u001b[0;32m   1248\u001b[0m \u001b[38;5;124;03m\"\"\"\u001b[39;00m\n\u001b[0;32m   1249\u001b[0m \u001b[38;5;28;01mtry\u001b[39;00m:\n\u001b[1;32m-> 1250\u001b[0m     \u001b[38;5;28;01mreturn\u001b[39;00m S_ISDIR(\u001b[38;5;28;43mself\u001b[39;49m\u001b[38;5;241;43m.\u001b[39;49m\u001b[43mstat\u001b[49m\u001b[43m(\u001b[49m\u001b[43m)\u001b[49m\u001b[38;5;241m.\u001b[39mst_mode)\n\u001b[0;32m   1251\u001b[0m \u001b[38;5;28;01mexcept\u001b[39;00m \u001b[38;5;167;01mOSError\u001b[39;00m \u001b[38;5;28;01mas\u001b[39;00m e:\n\u001b[0;32m   1252\u001b[0m     \u001b[38;5;28;01mif\u001b[39;00m \u001b[38;5;129;01mnot\u001b[39;00m _ignore_error(e):\n",
      "File \u001b[1;32mc:\\Users\\jinmeng\\AppData\\Local\\Programs\\Python\\Python311\\Lib\\pathlib.py:1013\u001b[0m, in \u001b[0;36mPath.stat\u001b[1;34m(self, follow_symlinks)\u001b[0m\n\u001b[0;32m   1008\u001b[0m \u001b[38;5;28;01mdef\u001b[39;00m \u001b[38;5;21mstat\u001b[39m(\u001b[38;5;28mself\u001b[39m, \u001b[38;5;241m*\u001b[39m, follow_symlinks\u001b[38;5;241m=\u001b[39m\u001b[38;5;28;01mTrue\u001b[39;00m):\n\u001b[0;32m   1009\u001b[0m \u001b[38;5;250m    \u001b[39m\u001b[38;5;124;03m\"\"\"\u001b[39;00m\n\u001b[0;32m   1010\u001b[0m \u001b[38;5;124;03m    Return the result of the stat() system call on this path, like\u001b[39;00m\n\u001b[0;32m   1011\u001b[0m \u001b[38;5;124;03m    os.stat() does.\u001b[39;00m\n\u001b[0;32m   1012\u001b[0m \u001b[38;5;124;03m    \"\"\"\u001b[39;00m\n\u001b[1;32m-> 1013\u001b[0m     \u001b[38;5;28;01mreturn\u001b[39;00m os\u001b[38;5;241m.\u001b[39mstat(\u001b[38;5;28mself\u001b[39m, follow_symlinks\u001b[38;5;241m=\u001b[39mfollow_symlinks)\n",
      "\u001b[1;31mOSError\u001b[0m: [WinError 1265] 系统无法联系域控制器来为身份验证请求提供服务。请稍后再试。: '\\\\\\\\hfm-pubshare\\\\HFM各部门共享\\\\量化投资部\\\\龙昌伦\\\\Alpha\\\\gru_day_V0'"
     ]
    }
   ],
   "source": [
    "from src2.api import DataAPI , ModelPredictor , ModelHiddenExtractor\n",
    "from pymysql.err import OperationalError\n",
    "try:\n",
    "    DataAPI.update()\n",
    "except Exception:\n",
    "    pass\n",
    "DataAPI.prepare_predict_data()\n",
    "\n",
    "ModelHiddenExtractor.update_hidden('gru_day' , model_submodels=['best'])\n",
    "ModelPredictor.update_factors()"
   ]
  },
  {
   "cell_type": "code",
   "execution_count": 1,
   "metadata": {},
   "outputs": [
    {
     "name": "stdout",
     "output_type": "stream",
     "text": [
      "Update Files\n",
      "Thu Sep 19 00:49:45 2024 : Updated ~ DB_information\\calendar.feather Done! Cost 0.02 Secs\n",
      "Thu Sep 19 00:49:45 2024 : Updated ~ DB_information\\description.feather Done! Cost 0.03 Secs\n",
      "Thu Sep 19 00:49:45 2024 : Updated ~ DB_information\\st.feather Done! Cost 0.02 Secs\n",
      "Thu Sep 19 00:49:48 2024 : Updated ~ DB_information\\industry.feather Done! Cost 2.55 Secs\n",
      "Thu Sep 19 00:49:53 2024 : Updated ~ DB_information\\concepts.feather Done! Cost 5.54 Secs\n",
      "Thu Sep 19 00:49:55 2024 : Updated ~ DB_models\\longcl_exp\\2024\\longcl_exp.20240913.feather Done! Cost 0.10 Secs\n",
      "Thu Sep 19 00:49:55 2024 : Updated ~ DB_models\\risk_exp\\2024\\risk_exp.20240918.feather Done! Cost 0.05 Secs\n",
      "Thu Sep 19 00:49:55 2024 : Updated ~ DB_models\\risk_cov\\2024\\risk_cov.20240918.feather Done! Cost 0.02 Secs\n",
      "Thu Sep 19 00:49:55 2024 : Updated ~ DB_models\\risk_spec\\2024\\risk_spec.20240918.feather Done! Cost 0.01 Secs\n",
      "Thu Sep 19 00:49:57 2024 : Updated ~ DB_trade\\day\\2024\\day.20240918.feather Done! Cost 0.05 Secs\n",
      "Thu Sep 19 00:49:57 2024 : Updated ~ DB_trade\\5day\\2024\\5day.20240918.feather Done! Cost 0.25 Secs\n",
      "Thu Sep 19 00:49:58 2024 : Updated ~ DB_trade\\10day\\2024\\10day.20240918.feather Done! Cost 0.48 Secs\n",
      "Thu Sep 19 00:49:58 2024 : Updated ~ DB_trade\\20day\\2024\\20day.20240918.feather Done! Cost 0.92 Secs\n",
      "Thu Sep 19 00:50:02 2024 : Updated ~ DB_trade\\min\\2024\\min.20240918.feather Done! Cost 3.12 Secs\n",
      "Thu Sep 19 00:50:02 2024 : Updated ~ DB_trade\\5min\\2024\\5min.20240918.feather Done! Cost 0.33 Secs\n",
      "Thu Sep 19 00:50:02 2024 : Updated ~ DB_trade\\10min\\2024\\10min.20240918.feather Done! Cost 0.27 Secs\n",
      "Thu Sep 19 00:50:02 2024 : Updated ~ DB_trade\\15min\\2024\\15min.20240918.feather Done! Cost 0.26 Secs\n",
      "Thu Sep 19 00:50:03 2024 : Updated ~ DB_trade\\30min\\2024\\30min.20240918.feather Done! Cost 0.29 Secs\n",
      "Thu Sep 19 00:50:03 2024 : Updated ~ DB_trade\\60min\\2024\\60min.20240918.feather Done! Cost 0.28 Secs\n",
      "Thu Sep 19 00:50:06 2024 : Updated ~ DB_labels\\ret20_lag\\2024\\ret20_lag.20240816.feather Done! Cost 0.78 Secs\n",
      "Thu Sep 19 00:50:06 2024 : Updated ~ DB_labels\\ret20\\2024\\ret20.20240819.feather Done! Cost 0.67 Secs\n",
      "Thu Sep 19 00:50:15 2024 : Updated ~ DB_labels\\ret10_lag\\2024\\ret10_lag.20240830.feather Done! Cost 0.52 Secs\n",
      "Thu Sep 19 00:50:16 2024 : Updated ~ DB_labels\\ret10\\2024\\ret10.20240902.feather Done! Cost 0.53 Secs\n",
      "Thu Sep 19 00:50:24 2024 : Updated ~ DB_labels\\ret5_lag\\2024\\ret5_lag.20240906.feather Done! Cost 0.55 Secs\n",
      "Thu Sep 19 00:50:26 2024 : Updated ~ DB_labels\\ret5\\2024\\ret5.20240909.feather Done! Cost 0.50 Secs\n",
      "Thu Sep 19 00:50:41 2024 : download since!\n",
      "Connection and Factor preparation finished!\n",
      "Thu Sep 19 00:50:41 2024 : sellside/dongfang.hfq_chars from 20240914 to 20240919, total 1 periods\n",
      "Start sellside/dongfang.hfq_chars:20240914-20240919 \n",
      "Done sellside/dongfang.hfq_chars:20240914-20240919, cost 2.8 Secs\n",
      "Thu Sep 19 00:50:44 2024 : sellside/dongfang.l2_chars from 20240914 to 20240919, total 1 periods\n",
      "Start sellside/dongfang.l2_chars:20240914-20240919 \n",
      "Done sellside/dongfang.l2_chars:20240914-20240919, cost 29.2 Secs\n",
      "Thu Sep 19 00:51:13 2024 : sellside/dongfang.ms_chars from 20240914 to 20240919, total 1 periods\n",
      "Start sellside/dongfang.ms_chars:20240914-20240919 \n",
      "Done sellside/dongfang.ms_chars:20240914-20240919, cost 46.2 Secs\n",
      "Thu Sep 19 00:52:00 2024 : sellside/dongfang.order_flow from 20240914 to 20240919, total 1 periods\n",
      "Start sellside/dongfang.order_flow:20240914-20240919 \n",
      "Done sellside/dongfang.order_flow:20240914-20240919, cost 0.9 Secs\n",
      "Thu Sep 19 00:52:01 2024 : sellside/dongfang.gp from 20240914 to 20240919, total 1 periods\n",
      "Start sellside/dongfang.gp:20240914-20240919 \n",
      "Done sellside/dongfang.gp:20240914-20240919, cost 1.8 Secs\n",
      "Thu Sep 19 00:52:02 2024 : sellside/dongfang.tra from 20240914 to 20240919, total 1 periods\n",
      "Start sellside/dongfang.tra:20240914-20240919 \n",
      "Done sellside/dongfang.tra:20240914-20240919, cost 1.3 Secs\n",
      "Thu Sep 19 00:52:04 2024 : sellside/dongfang.hist from 20240914 to 20240919, total 1 periods\n",
      "Start sellside/dongfang.hist:20240914-20240919 \n",
      "Done sellside/dongfang.hist:20240914-20240919, cost 1.1 Secs\n",
      "Thu Sep 19 00:52:05 2024 : sellside/dongfang.scores_v0 from 20240914 to 20240919, total 1 periods\n",
      "Start sellside/dongfang.scores_v0:20240914-20240919 \n",
      "Done sellside/dongfang.scores_v0:20240914-20240919, cost 1.5 Secs\n",
      "Thu Sep 19 00:52:06 2024 : sellside/dongfang.factorvae from 20240914 to 20240919, total 1 periods\n",
      "Start sellside/dongfang.factorvae:20240914-20240919 \n",
      "Done sellside/dongfang.factorvae:20240914-20240919, cost 1.1 Secs\n",
      "Thu Sep 19 00:52:08 2024 : sellside/huatai.dl_factors from 20240914 to 20240919, total 1 periods\n",
      "Start sellside/huatai.dl_factors:20240914-20240919 \n",
      "Done sellside/huatai.dl_factors:20240914-20240919, cost 0.8 Secs\n",
      "Thu Sep 19 00:52:08 2024 : All Updates Done! Cost 143.04 Secs\n",
      "--------------------------------------------------------------------------------\n",
      "Calendar Updating information_ts/calendar at 20240919\n",
      "Description Updating information_ts/description at 20240919\n",
      "SWIndustry Updating information_ts/industry at 20240919\n",
      "ChangeName Updating information_ts/change_name at 20240919\n",
      "THSConcept Already Updated at 20240831\n",
      "DailyValuation Updating trade_ts/day_val at 20240914\n",
      "DailyValuation Updating trade_ts/day_val at 20240915\n",
      "DailyValuation Updating trade_ts/day_val at 20240916\n",
      "DailyValuation Updating trade_ts/day_val at 20240917\n",
      "DailyValuation Updating trade_ts/day_val at 20240918\n",
      "DailyValuation Updating trade_ts/day_val at 20240919\n",
      "DailyQuote Updating trade_ts/day at 20240914\n",
      "DailyQuote Updating trade_ts/day at 20240915\n",
      "DailyQuote Updating trade_ts/day at 20240916\n",
      "DailyQuote Updating trade_ts/day at 20240917\n",
      "DailyQuote Updating trade_ts/day at 20240918\n",
      "DailyQuote Updating trade_ts/day at 20240919\n",
      "FinaIndicator Already Updated at 20240630\n",
      "Finish exposure update at date 20240918\n",
      "Finish risk update at date 20240918\n",
      "--------------------------------------------------------------------------------\n",
      "predict is True , Data Processing start!\n",
      "6 datas :['y', 'day', '30m', 'style', 'indus', 'week']\n",
      "y blocks loading start!\n",
      " --> labels blocks reading [ret10_lag] DataBase...... finished! Cost 0.83 secs\n",
      " --> labels blocks reading [ret20_lag] DataBase...... finished! Cost 0.90 secs\n",
      " --> labels blocks merging (2)...... finished! Cost 0.17 secs\n",
      " --> models blocks reading [risk_exp] DataBase...... finished! Cost 3.16 secs\n",
      "y blocks loading finished! Cost 5.46 secs\n",
      "y blocks process...... finished! Cost 5.66 secs\n",
      "y blocks masking...... finished! Cost 0.10 secs\n",
      "y blocks saving ...... finished! Cost 0.17 secs\n",
      "y blocks norming...... finished! Cost 0.00 secs\n",
      "y finished! Cost 11.53 Seconds\n",
      "--------------------------------------------------------------------------------\n",
      "day blocks loading start!\n",
      " --> trade blocks reading [day] DataBase...... finished! Cost 1.33 secs\n",
      "day blocks loading finished! Cost 1.37 secs\n",
      "day blocks process...... finished! Cost 0.15 secs\n",
      "day blocks masking...... finished! Cost 0.10 secs\n",
      "day blocks saving ...... finished! Cost 0.13 secs\n",
      "day blocks norming...... finished! Cost 0.00 secs\n",
      "day finished! Cost 1.85 Seconds\n",
      "--------------------------------------------------------------------------------\n",
      "30m blocks loading start!\n",
      " --> trade blocks reading [30min] DataBase...... finished! Cost 5.68 secs\n",
      " --> trade blocks reading [day] DataBase...... finished! Cost 1.30 secs\n",
      "30m blocks loading finished! Cost 7.05 secs\n",
      "30m blocks process...... finished! Cost 1.77 secs\n",
      "30m blocks masking...... finished! Cost 0.18 secs\n",
      "30m blocks saving ...... finished! Cost 2.40 secs\n",
      "30m blocks norming...... finished! Cost 0.00 secs\n",
      "30m finished! Cost 11.53 Seconds\n",
      "--------------------------------------------------------------------------------\n",
      "style blocks loading start!\n",
      " --> models blocks reading [risk_exp] DataBase...... finished! Cost 1.78 secs\n",
      "style blocks loading finished! Cost 1.82 secs\n",
      "style blocks process...... finished! Cost 0.00 secs\n",
      "style blocks masking...... finished! Cost 0.08 secs\n",
      "style blocks saving ...... finished! Cost 0.30 secs\n",
      "style blocks norming...... finished! Cost 0.00 secs\n",
      "style finished! Cost 2.30 Seconds\n",
      "--------------------------------------------------------------------------------\n",
      "indus blocks loading start!\n",
      " --> models blocks reading [risk_exp] DataBase...... finished! Cost 2.72 secs\n",
      "indus blocks loading finished! Cost 2.73 secs\n",
      "indus blocks process...... finished! Cost 0.00 secs\n",
      "indus blocks masking...... finished! Cost 0.13 secs\n",
      "indus blocks saving ...... finished! Cost 1.25 secs\n",
      "indus blocks norming...... finished! Cost 0.00 secs\n",
      "indus finished! Cost 4.25 Seconds\n",
      "--------------------------------------------------------------------------------\n",
      "week blocks loading start!\n",
      " --> trade blocks reading [day] DataBase...... finished! Cost 2.40 secs\n",
      "week blocks loading finished! Cost 2.44 secs\n",
      "week blocks process...... finished! Cost 1.85 secs\n",
      "week blocks masking...... finished! Cost 0.22 secs\n",
      "week blocks saving ...... finished! Cost 3.12 secs\n",
      "week blocks norming...... finished! Cost 0.00 secs\n",
      "week finished! Cost 7.80 Seconds\n",
      "--------------------------------------------------------------------------------\n",
      "Data Processing Finished! Cost 39.25 Seconds\n",
      "--------------------------------------------------------------------------------\n",
      "Finish model [gru_day] predicting!\n",
      "Finish model [gruRTN_day] predicting!\n",
      "Finish model [gru_avg] predicting!\n",
      "--------------------------------------------------------------------------------\n"
     ]
    },
    {
     "data": {
      "text/plain": [
       "Predictor(reg_model=RegModel(name=gru_avg,type=swabest,num=all,alias=gru_day_V1))"
      ]
     },
     "execution_count": 1,
     "metadata": {},
     "output_type": "execute_result"
    }
   ],
   "source": [
    "from src.api import DataAPI , Predictor\n",
    "\n",
    "DataAPI.update()\n",
    "DataAPI.prepare_predict_data()\n",
    "Predictor.update_factors()"
   ]
  },
  {
   "cell_type": "code",
   "execution_count": 8,
   "metadata": {},
   "outputs": [
    {
     "data": {
      "text/html": [
       "<div>\n",
       "<style scoped>\n",
       "    .dataframe tbody tr th:only-of-type {\n",
       "        vertical-align: middle;\n",
       "    }\n",
       "\n",
       "    .dataframe tbody tr th {\n",
       "        vertical-align: top;\n",
       "    }\n",
       "\n",
       "    .dataframe thead th {\n",
       "        text-align: right;\n",
       "    }\n",
       "</style>\n",
       "<table border=\"1\" class=\"dataframe\">\n",
       "  <thead>\n",
       "    <tr style=\"text-align: right;\">\n",
       "      <th></th>\n",
       "    </tr>\n",
       "  </thead>\n",
       "  <tbody>\n",
       "  </tbody>\n",
       "</table>\n",
       "</div>"
      ],
      "text/plain": [
       "Empty DataFrame\n",
       "Columns: []\n",
       "Index: []"
      ]
     },
     "execution_count": 8,
     "metadata": {},
     "output_type": "execute_result"
    }
   ],
   "source": [
    "from src.data.tushare.download.info import Calendar , pro\n",
    "renamer = {'cal_date' : 'calendar' ,'is_open'  : 'trade'}\n",
    "fields = None\n",
    "df = pro.trade_cal(exchange='SSE').rename(columns=renamer)\n",
    "#df = df.sort_values('calendar').reset_index(drop = True)\n",
    "df"
   ]
  },
  {
   "cell_type": "code",
   "execution_count": 10,
   "metadata": {},
   "outputs": [
    {
     "name": "stdout",
     "output_type": "stream",
     "text": [
      "Finish model [gru_day] predicting!\n",
      "Finish model [gruRTN_day] predicting!\n",
      "Finish model [gru_avg] predicting!\n",
      "--------------------------------------------------------------------------------\n"
     ]
    }
   ],
   "source": [
    "# DataAPI.prepare_predict_data()\n",
    "Predictor.update_factors()"
   ]
  },
  {
   "cell_type": "code",
   "execution_count": 2,
   "metadata": {},
   "outputs": [
    {
     "name": "stdout",
     "output_type": "stream",
     "text": [
      "Finish model [gru_day] predicting!\n",
      "Finish model [gruRTN_day] predicting!\n",
      "Finish model [gru_avg] predicting!\n",
      "--------------------------------------------------------------------------------\n"
     ]
    }
   ],
   "source": [
    "from src.api import DataAPI , Predictor\n",
    "# DataAPI.prepare_predict_data()\n",
    "md = Predictor.update_factors()"
   ]
  },
  {
   "cell_type": "code",
   "execution_count": null,
   "metadata": {},
   "outputs": [
    {
     "name": "stdout",
     "output_type": "stream",
     "text": [
      "Load  2 DataBlocks ..."
     ]
    },
    {
     "name": "stdout",
     "output_type": "stream",
     "text": [
      "... cost 0.22 secs\n",
      "Align 2 DataBlocks ...... cost 0.21 secs\n",
      "Pre-Norming method of [day] : {'divlast': True, 'histnorm': True}\n",
      "x shape is torch.Size([5064, 30, 6])\n",
      "y shape is torch.Size([5064, 1])\n",
      "Test Forward Success\n",
      "metrics :  Metrics.MetricOutput(loss=tensor(1.0688, grad_fn=<AddBackward0>), score=-0.015420470386743546, loss_item=1.068833589553833, penalty=0.0, losses=tensor(1.0688, grad_fn=<ExpBackward0>))\n",
      "Test Metrics Success\n"
     ]
    }
   ],
   "source": [
    "from src.api import ModelTestor\n",
    "ModelTestor.new('ts_mixer').try_metrics()"
   ]
  }
 ],
 "metadata": {
  "kernelspec": {
   "display_name": "Python 3",
   "language": "python",
   "name": "python3"
  },
  "language_info": {
   "codemirror_mode": {
    "name": "ipython",
    "version": 3
   },
   "file_extension": ".py",
   "mimetype": "text/x-python",
   "name": "python",
   "nbconvert_exporter": "python",
   "pygments_lexer": "ipython3",
   "version": "3.11.8"
  }
 },
 "nbformat": 4,
 "nbformat_minor": 2
}
