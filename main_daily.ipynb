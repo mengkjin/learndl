{
 "cells": [
  {
   "cell_type": "code",
   "execution_count": 1,
   "metadata": {},
   "outputs": [
    {
     "name": "stdout",
     "output_type": "stream",
     "text": [
      "Update Files\n",
      "Sun Sep 15 22:55:15 2024 : Updated ~ DB_information\\calendar.feather Done! Cost 0.02 Secs\n",
      "Sun Sep 15 22:55:15 2024 : Updated ~ DB_information\\description.feather Done! Cost 0.03 Secs\n",
      "Sun Sep 15 22:55:15 2024 : Updated ~ DB_information\\st.feather Done! Cost 0.03 Secs\n",
      "Sun Sep 15 22:55:17 2024 : Updated ~ DB_information\\industry.feather Done! Cost 2.57 Secs\n",
      "Sun Sep 15 22:55:22 2024 : Updated ~ DB_information\\concepts.feather Done! Cost 5.15 Secs\n",
      "Sun Sep 15 22:55:59 2024 : Updated ~ DB_benchmark\\csi300\\2024\\csi300.20240909.feather Done! Cost 0.00 Secs\n",
      "Sun Sep 15 22:55:59 2024 : Updated ~ DB_benchmark\\csi500\\2024\\csi500.20240909.feather Done! Cost 0.01 Secs\n",
      "Sun Sep 15 22:55:59 2024 : Updated ~ DB_benchmark\\csi1000\\2024\\csi1000.20240909.feather Done! Cost 0.00 Secs\n",
      "Sun Sep 15 22:55:59 2024 : Updated ~ DB_benchmark\\csi300\\2024\\csi300.20240910.feather Done! Cost 0.02 Secs\n",
      "Sun Sep 15 22:55:59 2024 : Updated ~ DB_benchmark\\csi500\\2024\\csi500.20240910.feather Done! Cost 0.00 Secs\n",
      "Sun Sep 15 22:55:59 2024 : Updated ~ DB_benchmark\\csi1000\\2024\\csi1000.20240910.feather Done! Cost 0.02 Secs\n",
      "Sun Sep 15 22:55:59 2024 : Updated ~ DB_benchmark\\csi300\\2024\\csi300.20240911.feather Done! Cost 0.00 Secs\n",
      "Sun Sep 15 22:55:59 2024 : Updated ~ DB_benchmark\\csi500\\2024\\csi500.20240911.feather Done! Cost 0.02 Secs\n",
      "Sun Sep 15 22:55:59 2024 : Updated ~ DB_benchmark\\csi1000\\2024\\csi1000.20240911.feather Done! Cost 0.00 Secs\n",
      "Sun Sep 15 22:55:59 2024 : Updated ~ DB_benchmark\\csi300\\2024\\csi300.20240912.feather Done! Cost 0.02 Secs\n",
      "Sun Sep 15 22:55:59 2024 : Updated ~ DB_benchmark\\csi500\\2024\\csi500.20240912.feather Done! Cost 0.00 Secs\n",
      "Sun Sep 15 22:55:59 2024 : Updated ~ DB_benchmark\\csi1000\\2024\\csi1000.20240912.feather Done! Cost 0.00 Secs\n",
      "Sun Sep 15 22:55:59 2024 : Updated ~ DB_benchmark\\csi300\\2024\\csi300.20240913.feather Done! Cost 0.02 Secs\n",
      "Sun Sep 15 22:55:59 2024 : Updated ~ DB_benchmark\\csi500\\2024\\csi500.20240913.feather Done! Cost 0.01 Secs\n",
      "Sun Sep 15 22:55:59 2024 : Updated ~ DB_benchmark\\csi1000\\2024\\csi1000.20240913.feather Done! Cost 0.01 Secs\n",
      "Sun Sep 15 22:55:59 2024 : download since!\n",
      "Connection and Factor preparation finished!\n",
      "Sun Sep 15 22:55:59 2024 : sellside/dongfang.hfq_chars from 20240914 to 20240915, total 1 periods\n",
      "Start sellside/dongfang.hfq_chars:20240914-20240915 \n",
      "Done sellside/dongfang.hfq_chars:20240914-20240915, cost 0.7 Secs\n",
      "Sun Sep 15 22:56:00 2024 : sellside/dongfang.l2_chars from 20240914 to 20240915, total 1 periods\n",
      "Start sellside/dongfang.l2_chars:20240914-20240915 \n",
      "Done sellside/dongfang.l2_chars:20240914-20240915, cost 13.0 Secs\n",
      "Sun Sep 15 22:56:13 2024 : sellside/dongfang.ms_chars from 20240914 to 20240915, total 1 periods\n",
      "Start sellside/dongfang.ms_chars:20240914-20240915 \n",
      "Done sellside/dongfang.ms_chars:20240914-20240915, cost 20.5 Secs\n",
      "Sun Sep 15 22:56:33 2024 : sellside/dongfang.order_flow from 20240914 to 20240915, total 1 periods\n",
      "Start sellside/dongfang.order_flow:20240914-20240915 \n",
      "Done sellside/dongfang.order_flow:20240914-20240915, cost 0.1 Secs\n",
      "Sun Sep 15 22:56:34 2024 : sellside/dongfang.gp from 20240914 to 20240915, total 1 periods\n",
      "Start sellside/dongfang.gp:20240914-20240915 \n",
      "Done sellside/dongfang.gp:20240914-20240915, cost 1.8 Secs\n",
      "Sun Sep 15 22:56:35 2024 : sellside/dongfang.tra from 20240914 to 20240915, total 1 periods\n",
      "Start sellside/dongfang.tra:20240914-20240915 \n",
      "Done sellside/dongfang.tra:20240914-20240915, cost 1.3 Secs\n",
      "Sun Sep 15 22:56:37 2024 : sellside/dongfang.hist from 20240914 to 20240915, total 1 periods\n",
      "Start sellside/dongfang.hist:20240914-20240915 \n",
      "Done sellside/dongfang.hist:20240914-20240915, cost 1.1 Secs\n",
      "Sun Sep 15 22:56:38 2024 : sellside/dongfang.scores_v0 from 20240914 to 20240915, total 1 periods\n",
      "Start sellside/dongfang.scores_v0:20240914-20240915 \n",
      "Done sellside/dongfang.scores_v0:20240914-20240915, cost 1.4 Secs\n",
      "Sun Sep 15 22:56:39 2024 : sellside/dongfang.factorvae from 20240914 to 20240915, total 1 periods\n",
      "Start sellside/dongfang.factorvae:20240914-20240915 \n",
      "Done sellside/dongfang.factorvae:20240914-20240915, cost 1.1 Secs\n",
      "Sun Sep 15 22:56:40 2024 : sellside/huatai.dl_factors from 20240914 to 20240915, total 1 periods\n",
      "Start sellside/huatai.dl_factors:20240914-20240915 \n",
      "Done sellside/huatai.dl_factors:20240914-20240915, cost 0.8 Secs\n",
      "Sun Sep 15 22:56:41 2024 : All Updates Done! Cost 86.62 Secs\n",
      "--------------------------------------------------------------------------------\n",
      "Calendar Updating information_ts/calendar at 20240915\n",
      "Description Updating information_ts/description at 20240915\n",
      "SWIndustry Updating information_ts/industry at 20240915\n",
      "ChangeName Updating information_ts/change_name at 20240915\n",
      "THSConcept Already Updated at 20240831\n",
      "DailyValuation Updating trade_ts/day_val at 20240914\n",
      "DailyValuation Updating trade_ts/day_val at 20240915\n",
      "DailyQuote Updating trade_ts/day at 20240914\n",
      "DailyQuote Updating trade_ts/day at 20240915\n",
      "FinaIndicator Already Updated at 20240630\n",
      "--------------------------------------------------------------------------------\n",
      "predict is True , Data Processing start!\n",
      "6 datas :['y', 'day', '30m', 'style', 'indus', 'week']\n",
      "y blocks loading start!\n",
      " --> labels blocks reading [ret10_lag] DataBase...... finished! Cost 1.00 secs\n",
      " --> labels blocks reading [ret20_lag] DataBase...... finished! Cost 0.93 secs\n",
      " --> labels blocks merging (2)...... finished! Cost 0.15 secs\n",
      " --> models blocks reading [risk_exp] DataBase...... finished! Cost 2.92 secs\n",
      "y blocks loading finished! Cost 5.28 secs\n",
      "y blocks process...... finished! Cost 4.50 secs\n",
      "y blocks masking...... finished! Cost 0.08 secs\n",
      "y blocks saving ...... finished! Cost 0.13 secs\n",
      "y blocks norming...... finished! Cost 0.00 secs\n",
      "y finished! Cost 10.09 Seconds\n",
      "--------------------------------------------------------------------------------\n",
      "day blocks loading start!\n",
      " --> trade blocks reading [day] DataBase...... finished! Cost 1.17 secs\n",
      "day blocks loading finished! Cost 1.20 secs\n",
      "day blocks process...... finished! Cost 0.14 secs\n",
      "day blocks masking...... finished! Cost 0.10 secs\n",
      "day blocks saving ...... finished! Cost 0.12 secs\n",
      "day blocks norming...... finished! Cost 0.00 secs\n",
      "day finished! Cost 1.65 Seconds\n",
      "--------------------------------------------------------------------------------\n",
      "30m blocks loading start!\n",
      " --> trade blocks reading [30min] DataBase...... finished! Cost 5.45 secs\n",
      " --> trade blocks reading [day] DataBase...... finished! Cost 1.07 secs\n",
      "30m blocks loading finished! Cost 6.56 secs\n",
      "30m blocks process...... finished! Cost 1.67 secs\n",
      "30m blocks masking...... finished! Cost 0.17 secs\n",
      "30m blocks saving ...... finished! Cost 1.74 secs\n",
      "30m blocks norming...... finished! Cost 0.00 secs\n",
      "30m finished! Cost 10.24 Seconds\n",
      "--------------------------------------------------------------------------------\n",
      "style blocks loading start!\n",
      " --> models blocks reading [risk_exp] DataBase...... finished! Cost 1.57 secs\n",
      "style blocks loading finished! Cost 1.60 secs\n",
      "style blocks process...... finished! Cost 0.00 secs\n",
      "style blocks masking...... finished! Cost 0.08 secs\n",
      "style blocks saving ...... finished! Cost 0.18 secs\n",
      "style blocks norming...... finished! Cost 0.00 secs\n",
      "style finished! Cost 1.97 Seconds\n",
      "--------------------------------------------------------------------------------\n",
      "indus blocks loading start!\n",
      " --> models blocks reading [risk_exp] DataBase...... finished! Cost 2.63 secs\n",
      "indus blocks loading finished! Cost 2.63 secs\n",
      "indus blocks process...... finished! Cost 0.00 secs\n",
      "indus blocks masking...... finished! Cost 0.14 secs\n",
      "indus blocks saving ...... finished! Cost 1.35 secs\n",
      "indus blocks norming...... finished! Cost 0.00 secs\n",
      "indus finished! Cost 4.21 Seconds\n",
      "--------------------------------------------------------------------------------\n",
      "week blocks loading start!\n",
      " --> trade blocks reading [day] DataBase...... finished! Cost 2.48 secs\n",
      "week blocks loading finished! Cost 2.50 secs\n",
      "week blocks process...... finished! Cost 1.61 secs\n",
      "week blocks masking...... finished! Cost 0.25 secs\n",
      "week blocks saving ...... finished! Cost 2.68 secs\n",
      "week blocks norming...... finished! Cost 0.00 secs\n",
      "week finished! Cost 7.15 Seconds\n",
      "--------------------------------------------------------------------------------\n",
      "Data Processing Finished! Cost 35.31 Seconds\n",
      "--------------------------------------------------------------------------------\n",
      "Finish model [gru_day] predicting!\n",
      "Finish model [gruRTN_day] predicting!\n",
      "Finish model [gru_avg] predicting!\n",
      "--------------------------------------------------------------------------------\n"
     ]
    },
    {
     "data": {
      "text/plain": [
       "Predictor(reg_model=RegModel(name=gru_avg,type=swabest,num=all,alias=gru_day_V1))"
      ]
     },
     "execution_count": 1,
     "metadata": {},
     "output_type": "execute_result"
    }
   ],
   "source": [
    "from src.api import DataAPI , Predictor\n",
    "\n",
    "DataAPI.update()\n",
    "DataAPI.prepare_predict_data()\n",
    "Predictor.update_factors()"
   ]
  },
  {
   "cell_type": "code",
   "execution_count": 8,
   "metadata": {},
   "outputs": [
    {
     "data": {
      "text/html": [
       "<div>\n",
       "<style scoped>\n",
       "    .dataframe tbody tr th:only-of-type {\n",
       "        vertical-align: middle;\n",
       "    }\n",
       "\n",
       "    .dataframe tbody tr th {\n",
       "        vertical-align: top;\n",
       "    }\n",
       "\n",
       "    .dataframe thead th {\n",
       "        text-align: right;\n",
       "    }\n",
       "</style>\n",
       "<table border=\"1\" class=\"dataframe\">\n",
       "  <thead>\n",
       "    <tr style=\"text-align: right;\">\n",
       "      <th></th>\n",
       "    </tr>\n",
       "  </thead>\n",
       "  <tbody>\n",
       "  </tbody>\n",
       "</table>\n",
       "</div>"
      ],
      "text/plain": [
       "Empty DataFrame\n",
       "Columns: []\n",
       "Index: []"
      ]
     },
     "execution_count": 8,
     "metadata": {},
     "output_type": "execute_result"
    }
   ],
   "source": [
    "from src.data.tushare.download.info import Calendar , pro\n",
    "renamer = {'cal_date' : 'calendar' ,'is_open'  : 'trade'}\n",
    "fields = None\n",
    "df = pro.trade_cal(exchange='SSE').rename(columns=renamer)\n",
    "#df = df.sort_values('calendar').reset_index(drop = True)\n",
    "df"
   ]
  },
  {
   "cell_type": "code",
   "execution_count": 10,
   "metadata": {},
   "outputs": [
    {
     "name": "stdout",
     "output_type": "stream",
     "text": [
      "Finish model [gru_day] predicting!\n",
      "Finish model [gruRTN_day] predicting!\n",
      "Finish model [gru_avg] predicting!\n",
      "--------------------------------------------------------------------------------\n"
     ]
    }
   ],
   "source": [
    "# DataAPI.prepare_predict_data()\n",
    "Predictor.update_factors()"
   ]
  },
  {
   "cell_type": "code",
   "execution_count": 1,
   "metadata": {},
   "outputs": [
    {
     "name": "stdout",
     "output_type": "stream",
     "text": [
      "Finish model [gru_day] predicting!\n",
      "Finish model [gruRTN_day] predicting!\n",
      "Finish model [gru_avg] predicting!\n",
      "--------------------------------------------------------------------------------\n"
     ]
    }
   ],
   "source": [
    "from src.api import DataAPI , Predictor\n",
    "# DataAPI.prepare_predict_data()\n",
    "md = Predictor.update_factors()"
   ]
  },
  {
   "cell_type": "code",
   "execution_count": null,
   "metadata": {},
   "outputs": [
    {
     "name": "stdout",
     "output_type": "stream",
     "text": [
      "Load  2 DataBlocks ..."
     ]
    },
    {
     "name": "stdout",
     "output_type": "stream",
     "text": [
      "... cost 0.22 secs\n",
      "Align 2 DataBlocks ...... cost 0.21 secs\n",
      "Pre-Norming method of [day] : {'divlast': True, 'histnorm': True}\n",
      "x shape is torch.Size([5064, 30, 6])\n",
      "y shape is torch.Size([5064, 1])\n",
      "Test Forward Success\n",
      "metrics :  Metrics.MetricOutput(loss=tensor(1.0688, grad_fn=<AddBackward0>), score=-0.015420470386743546, loss_item=1.068833589553833, penalty=0.0, losses=tensor(1.0688, grad_fn=<ExpBackward0>))\n",
      "Test Metrics Success\n"
     ]
    }
   ],
   "source": [
    "from src.api import ModelTestor\n",
    "ModelTestor.new('ts_mixer').try_metrics()"
   ]
  }
 ],
 "metadata": {
  "kernelspec": {
   "display_name": "Python 3",
   "language": "python",
   "name": "python3"
  },
  "language_info": {
   "codemirror_mode": {
    "name": "ipython",
    "version": 3
   },
   "file_extension": ".py",
   "mimetype": "text/x-python",
   "name": "python",
   "nbconvert_exporter": "python",
   "pygments_lexer": "ipython3",
   "version": "3.11.8"
  }
 },
 "nbformat": 4,
 "nbformat_minor": 2
}
