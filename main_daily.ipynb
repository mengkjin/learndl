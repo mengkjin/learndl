{
 "cells": [
  {
   "cell_type": "code",
   "execution_count": 1,
   "metadata": {},
   "outputs": [
    {
     "name": "stdout",
     "output_type": "stream",
     "text": [
      "Update Files\n",
      "Tue Sep  3 01:48:58 2024 : Updated ~ DB_information\\calendar.feather Done! Cost 0.02 Secs\n",
      "Tue Sep  3 01:48:58 2024 : Updated ~ DB_information\\description.feather Done! Cost 0.02 Secs\n",
      "Tue Sep  3 01:48:58 2024 : Updated ~ DB_information\\st.feather Done! Cost 0.02 Secs\n",
      "Tue Sep  3 01:49:00 2024 : Updated ~ DB_information\\industry.feather Done! Cost 2.38 Secs\n",
      "Tue Sep  3 01:49:05 2024 : Updated ~ DB_information\\concepts.feather Done! Cost 5.05 Secs\n",
      "Tue Sep  3 01:49:07 2024 : Updated ~ DB_models\\longcl_exp\\2024\\longcl_exp.20240829.feather Done! Cost 0.10 Secs\n",
      "Tue Sep  3 01:49:07 2024 : Updated ~ DB_models\\longcl_exp\\2024\\longcl_exp.20240830.feather Done! Cost 0.09 Secs\n",
      "Tue Sep  3 01:49:07 2024 : Updated ~ DB_models\\risk_exp\\2024\\risk_exp.20240902.feather Done! Cost 0.06 Secs\n",
      "Tue Sep  3 01:49:07 2024 : Updated ~ DB_models\\risk_cov\\2024\\risk_cov.20240902.feather Done! Cost 0.03 Secs\n",
      "Tue Sep  3 01:49:07 2024 : Updated ~ DB_models\\risk_spec\\2024\\risk_spec.20240902.feather Done! Cost 0.02 Secs\n",
      "Tue Sep  3 01:49:09 2024 : Updated ~ DB_trade\\day\\2024\\day.20240902.feather Done! Cost 0.05 Secs\n",
      "Tue Sep  3 01:49:09 2024 : Updated ~ DB_trade\\5day\\2024\\5day.20240902.feather Done! Cost 0.24 Secs\n",
      "Tue Sep  3 01:49:10 2024 : Updated ~ DB_trade\\10day\\2024\\10day.20240902.feather Done! Cost 0.41 Secs\n",
      "Tue Sep  3 01:49:11 2024 : Updated ~ DB_trade\\20day\\2024\\20day.20240902.feather Done! Cost 0.87 Secs\n",
      "Tue Sep  3 01:49:14 2024 : Updated ~ DB_trade\\min\\2024\\min.20240902.feather Done! Cost 3.12 Secs\n",
      "Tue Sep  3 01:49:14 2024 : Updated ~ DB_trade\\5min\\2024\\5min.20240902.feather Done! Cost 0.30 Secs\n",
      "Tue Sep  3 01:49:14 2024 : Updated ~ DB_trade\\10min\\2024\\10min.20240902.feather Done! Cost 0.31 Secs\n",
      "Tue Sep  3 01:49:15 2024 : Updated ~ DB_trade\\15min\\2024\\15min.20240902.feather Done! Cost 0.27 Secs\n",
      "Tue Sep  3 01:49:15 2024 : Updated ~ DB_trade\\30min\\2024\\30min.20240902.feather Done! Cost 0.23 Secs\n",
      "Tue Sep  3 01:49:15 2024 : Updated ~ DB_trade\\60min\\2024\\60min.20240902.feather Done! Cost 0.25 Secs\n",
      "Tue Sep  3 01:49:18 2024 : Updated ~ DB_labels\\ret20_lag\\2024\\ret20_lag.20240802.feather Done! Cost 0.78 Secs\n",
      "Tue Sep  3 01:49:19 2024 : Updated ~ DB_labels\\ret20\\2024\\ret20.20240805.feather Done! Cost 0.77 Secs\n",
      "Tue Sep  3 01:49:27 2024 : Updated ~ DB_labels\\ret10_lag\\2024\\ret10_lag.20240816.feather Done! Cost 0.50 Secs\n",
      "Tue Sep  3 01:49:28 2024 : Updated ~ DB_labels\\ret10\\2024\\ret10.20240819.feather Done! Cost 0.51 Secs\n",
      "Tue Sep  3 01:49:35 2024 : Updated ~ DB_labels\\ret5_lag\\2024\\ret5_lag.20240823.feather Done! Cost 0.50 Secs\n",
      "Tue Sep  3 01:49:38 2024 : Updated ~ DB_labels\\ret5\\2024\\ret5.20240826.feather Done! Cost 0.57 Secs\n",
      "Tue Sep  3 01:49:52 2024 : download since!\n",
      "Connection and Factor preparation finished!\n",
      "Tue Sep  3 01:49:52 2024 : sellside/dongfang.hfq_chars from 20240831 to 20240903, total 1 periods\n",
      "Start sellside/dongfang.hfq_chars:20240831-20240903 \n",
      "Done sellside/dongfang.hfq_chars:20240831-20240903, cost 2.1 Secs\n",
      "Tue Sep  3 01:49:54 2024 : sellside/dongfang.l2_chars from 20240831 to 20240903, total 1 periods\n",
      "Start sellside/dongfang.l2_chars:20240831-20240903 \n",
      "Done sellside/dongfang.l2_chars:20240831-20240903, cost 80.1 Secs\n",
      "Tue Sep  3 01:51:14 2024 : sellside/dongfang.ms_chars from 20240831 to 20240903, total 1 periods\n",
      "Start sellside/dongfang.ms_chars:20240831-20240903 \n",
      "Done sellside/dongfang.ms_chars:20240831-20240903, cost 47.5 Secs\n",
      "Tue Sep  3 01:52:02 2024 : sellside/dongfang.order_flow from 20240831 to 20240903, total 1 periods\n",
      "Start sellside/dongfang.order_flow:20240831-20240903 \n",
      "Done sellside/dongfang.order_flow:20240831-20240903, cost 1.0 Secs\n",
      "Tue Sep  3 01:52:03 2024 : sellside/dongfang.gp from 20240831 to 20240903, total 1 periods\n",
      "Start sellside/dongfang.gp:20240831-20240903 \n",
      "Done sellside/dongfang.gp:20240831-20240903, cost 2.8 Secs\n",
      "Tue Sep  3 01:52:06 2024 : sellside/dongfang.tra from 20240831 to 20240903, total 1 periods\n",
      "Start sellside/dongfang.tra:20240831-20240903 \n",
      "Done sellside/dongfang.tra:20240831-20240903, cost 2.5 Secs\n",
      "Tue Sep  3 01:52:08 2024 : sellside/dongfang.hist from 20240831 to 20240903, total 1 periods\n",
      "Start sellside/dongfang.hist:20240831-20240903 \n",
      "Done sellside/dongfang.hist:20240831-20240903, cost 1.8 Secs\n",
      "Tue Sep  3 01:52:10 2024 : sellside/dongfang.scores_v0 from 20240831 to 20240903, total 1 periods\n",
      "Start sellside/dongfang.scores_v0:20240831-20240903 \n",
      "Done sellside/dongfang.scores_v0:20240831-20240903, cost 2.6 Secs\n",
      "Tue Sep  3 01:52:12 2024 : sellside/dongfang.factorvae from 20240831 to 20240903, total 1 periods\n",
      "Start sellside/dongfang.factorvae:20240831-20240903 \n",
      "Done sellside/dongfang.factorvae:20240831-20240903, cost 1.9 Secs\n",
      "Tue Sep  3 01:52:14 2024 : sellside/huatai.dl_factors from 20240831 to 20240903, total 1 periods\n",
      "Start sellside/huatai.dl_factors:20240831-20240903 \n",
      "Done sellside/huatai.dl_factors:20240831-20240903, cost 1.0 Secs\n",
      "Tue Sep  3 01:52:15 2024 : All Updates Done! Cost 197.51 Secs\n",
      "--------------------------------------------------------------------------------\n",
      "Calendar Updating information_ts/calendar at 20240903\n",
      "Description Updating information_ts/description at 20240903\n",
      "SWIndustry Updating information_ts/industry at 20240903\n",
      "ChangeName Updating information_ts/change_name at 20240903\n",
      "THSConcept Already Updated at 20240831\n",
      "DailyValuation Updating trade_ts/day_val at 20240831\n",
      "DailyValuation Updating trade_ts/day_val at 20240901\n",
      "DailyValuation Updating trade_ts/day_val at 20240902\n",
      "DailyValuation Updating trade_ts/day_val at 20240903\n",
      "DailyQuote Updating trade_ts/day at 20240831\n",
      "DailyQuote Updating trade_ts/day at 20240901\n",
      "DailyQuote Updating trade_ts/day at 20240902\n",
      "DailyQuote Updating trade_ts/day at 20240903\n",
      "FinaIndicator Already Updated at 20240630\n",
      "Finish exposure update at date 20240902\n",
      "Finish risk update at date 20240902\n",
      "--------------------------------------------------------------------------------\n",
      "predict is True , Data Processing start!\n",
      "6 datas :['y', 'day', '30m', 'style', 'indus', 'week']\n",
      "y blocks loading start!\n",
      " --> labels blocks reading [ret10_lag] DataBase...... finished! Cost 0.78 secs\n",
      " --> labels blocks reading [ret20_lag] DataBase...... finished! Cost 0.77 secs\n",
      " --> labels blocks merging (2)...... finished! Cost 0.15 secs\n",
      " --> models blocks reading [risk_exp] DataBase...... finished! Cost 2.95 secs\n",
      "y blocks loading finished! Cost 4.96 secs\n",
      "y blocks process...... finished! Cost 4.40 secs\n",
      "y blocks masking...... finished! Cost 0.11 secs\n",
      "y blocks saving ...... finished! Cost 0.13 secs\n",
      "y blocks norming...... finished! Cost 0.00 secs\n",
      "y finished! Cost 9.73 Seconds\n",
      "--------------------------------------------------------------------------------\n",
      "day blocks loading start!\n",
      " --> trade blocks reading [day] DataBase...... finished! Cost 1.22 secs\n",
      "day blocks loading finished! Cost 1.23 secs\n",
      "day blocks process...... finished! Cost 0.17 secs\n",
      "day blocks masking...... finished! Cost 0.12 secs\n",
      "day blocks saving ...... finished! Cost 0.11 secs\n",
      "day blocks norming...... finished! Cost 0.00 secs\n",
      "day finished! Cost 1.73 Seconds\n",
      "--------------------------------------------------------------------------------\n",
      "30m blocks loading start!\n",
      " --> trade blocks reading [30min] DataBase...... finished! Cost 5.97 secs\n",
      " --> trade blocks reading [day] DataBase...... finished! Cost 1.02 secs\n",
      "30m blocks loading finished! Cost 7.05 secs\n",
      "30m blocks process...... finished! Cost 1.60 secs\n",
      "30m blocks masking...... finished! Cost 0.14 secs\n",
      "30m blocks saving ...... finished! Cost 1.72 secs\n",
      "30m blocks norming...... finished! Cost 0.00 secs\n",
      "30m finished! Cost 10.63 Seconds\n",
      "--------------------------------------------------------------------------------\n",
      "style blocks loading start!\n",
      " --> models blocks reading [risk_exp] DataBase...... finished! Cost 1.53 secs\n",
      "style blocks loading finished! Cost 1.56 secs\n",
      "style blocks process...... finished! Cost 0.00 secs\n",
      "style blocks masking...... finished! Cost 0.09 secs\n",
      "style blocks saving ...... finished! Cost 0.20 secs\n",
      "style blocks norming...... finished! Cost 0.00 secs\n",
      "style finished! Cost 1.96 Seconds\n",
      "--------------------------------------------------------------------------------\n",
      "indus blocks loading start!\n",
      " --> models blocks reading [risk_exp] DataBase...... finished! Cost 2.88 secs\n",
      "indus blocks loading finished! Cost 2.88 secs\n",
      "indus blocks process...... finished! Cost 0.00 secs\n",
      "indus blocks masking...... finished! Cost 0.15 secs\n",
      "indus blocks saving ...... finished! Cost 1.33 secs\n",
      "indus blocks norming...... finished! Cost 0.00 secs\n",
      "indus finished! Cost 4.48 Seconds\n",
      "--------------------------------------------------------------------------------\n",
      "week blocks loading start!\n",
      " --> trade blocks reading [day] DataBase...... finished! Cost 2.23 secs\n",
      "week blocks loading finished! Cost 2.27 secs\n",
      "week blocks process...... finished! Cost 1.63 secs\n",
      "week blocks masking...... finished! Cost 0.18 secs\n",
      "week blocks saving ...... finished! Cost 2.35 secs\n",
      "week blocks norming...... finished! Cost 0.00 secs\n",
      "week finished! Cost 6.55 Seconds\n",
      "--------------------------------------------------------------------------------\n",
      "Data Processing Finished! Cost 35.08 Seconds\n",
      "--------------------------------------------------------------------------------\n"
     ]
    },
    {
     "ename": "FileNotFoundError",
     "evalue": "[WinError 3] 系统找不到指定的路径。: 'd:\\\\Coding\\\\learndl\\\\learndl\\\\models\\\\gru_day\\\\archive'",
     "output_type": "error",
     "traceback": [
      "\u001b[1;31m---------------------------------------------------------------------------\u001b[0m",
      "\u001b[1;31mFileNotFoundError\u001b[0m                         Traceback (most recent call last)",
      "Cell \u001b[1;32mIn[1], line 5\u001b[0m\n\u001b[0;32m      3\u001b[0m DataAPI\u001b[38;5;241m.\u001b[39mupdate()\n\u001b[0;32m      4\u001b[0m DataAPI\u001b[38;5;241m.\u001b[39mprepare_predict_data()\n\u001b[1;32m----> 5\u001b[0m \u001b[43mPredictor\u001b[49m\u001b[38;5;241;43m.\u001b[39;49m\u001b[43mupdate_factors\u001b[49m\u001b[43m(\u001b[49m\u001b[43m)\u001b[49m\n",
      "File \u001b[1;32md:\\Coding\\learndl\\learndl\\src\\model\\api\\predictor.py:45\u001b[0m, in \u001b[0;36mPredictor.update_factors\u001b[1;34m(cls, silent)\u001b[0m\n\u001b[0;32m     43\u001b[0m md \u001b[38;5;241m=\u001b[39m \u001b[38;5;28mcls\u001b[39m(model)\n\u001b[0;32m     44\u001b[0m CONF\u001b[38;5;241m.\u001b[39mSILENT \u001b[38;5;241m=\u001b[39m \u001b[38;5;28;01mTrue\u001b[39;00m\n\u001b[1;32m---> 45\u001b[0m \u001b[43mmd\u001b[49m\u001b[38;5;241;43m.\u001b[39;49m\u001b[43mget_df\u001b[49m\u001b[43m(\u001b[49m\u001b[43m)\u001b[49m\u001b[38;5;241m.\u001b[39mdeploy()\n\u001b[0;32m     46\u001b[0m CONF\u001b[38;5;241m.\u001b[39mSILENT \u001b[38;5;241m=\u001b[39m \u001b[38;5;28;01mFalse\u001b[39;00m\n\u001b[0;32m     47\u001b[0m \u001b[38;5;28mprint\u001b[39m(\u001b[38;5;124mf\u001b[39m\u001b[38;5;124m'\u001b[39m\u001b[38;5;124mFinish model [\u001b[39m\u001b[38;5;132;01m{\u001b[39;00mmodel\u001b[38;5;241m.\u001b[39mname\u001b[38;5;132;01m}\u001b[39;00m\u001b[38;5;124m] predicting!\u001b[39m\u001b[38;5;124m'\u001b[39m)\n",
      "File \u001b[1;32md:\\Coding\\learndl\\learndl\\src\\model\\api\\predictor.py:64\u001b[0m, in \u001b[0;36mPredictor.get_df\u001b[1;34m(self, start_dt, end_dt)\u001b[0m\n\u001b[0;32m     62\u001b[0m \u001b[38;5;28;01mdef\u001b[39;00m \u001b[38;5;21mget_df\u001b[39m(\u001b[38;5;28mself\u001b[39m , start_dt \u001b[38;5;241m=\u001b[39m \u001b[38;5;241m-\u001b[39m\u001b[38;5;241m10\u001b[39m , end_dt \u001b[38;5;241m=\u001b[39m \u001b[38;5;241m20991231\u001b[39m):\n\u001b[0;32m     63\u001b[0m \u001b[38;5;250m    \u001b[39m\u001b[38;5;124;03m'''save recent prediction to self.df'''\u001b[39;00m\n\u001b[1;32m---> 64\u001b[0m     \u001b[38;5;28mself\u001b[39m\u001b[38;5;241m.\u001b[39mdf \u001b[38;5;241m=\u001b[39m \u001b[38;5;28;43mself\u001b[39;49m\u001b[38;5;241;43m.\u001b[39;49m\u001b[43mpredict\u001b[49m\u001b[43m(\u001b[49m\u001b[43mstart_dt\u001b[49m\u001b[38;5;241;43m=\u001b[39;49m\u001b[43m \u001b[49m\u001b[43mstart_dt\u001b[49m\u001b[43m \u001b[49m\u001b[43m,\u001b[49m\u001b[43m \u001b[49m\u001b[43mend_dt\u001b[49m\u001b[43m \u001b[49m\u001b[38;5;241;43m=\u001b[39;49m\u001b[43m \u001b[49m\u001b[43mend_dt\u001b[49m\u001b[43m)\u001b[49m\n\u001b[0;32m     65\u001b[0m     \u001b[38;5;28;01mreturn\u001b[39;00m \u001b[38;5;28mself\u001b[39m\n",
      "File \u001b[1;32md:\\Coding\\learndl\\learndl\\src\\model\\api\\predictor.py:87\u001b[0m, in \u001b[0;36mPredictor.predict\u001b[1;34m(self, start_dt, end_dt)\u001b[0m\n\u001b[0;32m     85\u001b[0m model_config \u001b[38;5;241m=\u001b[39m TrainConfig\u001b[38;5;241m.\u001b[39mload(PATH\u001b[38;5;241m.\u001b[39mmodel\u001b[38;5;241m.\u001b[39mjoinpath(\u001b[38;5;28mself\u001b[39m\u001b[38;5;241m.\u001b[39mmodel_name))\n\u001b[0;32m     86\u001b[0m deposition   \u001b[38;5;241m=\u001b[39m Deposition(model_config)\n\u001b[1;32m---> 87\u001b[0m model_dates  \u001b[38;5;241m=\u001b[39m \u001b[38;5;28;43mself\u001b[39;49m\u001b[38;5;241;43m.\u001b[39;49m\u001b[43mreg_model\u001b[49m\u001b[38;5;241;43m.\u001b[39;49m\u001b[43mmodel_dates\u001b[49m \n\u001b[0;32m     88\u001b[0m start_dt     \u001b[38;5;241m=\u001b[39m \u001b[38;5;28mmax\u001b[39m(start_dt , \u001b[38;5;28mint\u001b[39m(date_offset(\u001b[38;5;28mmin\u001b[39m(model_dates) ,\u001b[38;5;241m1\u001b[39m)))\n\u001b[0;32m     90\u001b[0m data_mod \u001b[38;5;241m=\u001b[39m NetDataModule(model_config , \u001b[38;5;124m'\u001b[39m\u001b[38;5;124mboth\u001b[39m\u001b[38;5;124m'\u001b[39m \u001b[38;5;28;01mif\u001b[39;00m start_dt \u001b[38;5;241m<\u001b[39m\u001b[38;5;241m=\u001b[39m today(\u001b[38;5;241m-\u001b[39m\u001b[38;5;241m100\u001b[39m) \u001b[38;5;28;01melse\u001b[39;00m \u001b[38;5;124m'\u001b[39m\u001b[38;5;124mpredict\u001b[39m\u001b[38;5;124m'\u001b[39m)\u001b[38;5;241m.\u001b[39mload_data() \n",
      "File \u001b[1;32md:\\Coding\\learndl\\learndl\\src\\basic\\model.py:42\u001b[0m, in \u001b[0;36mModelPath.model_dates\u001b[1;34m(self)\u001b[0m\n\u001b[0;32m     40\u001b[0m \u001b[38;5;129m@property\u001b[39m\n\u001b[0;32m     41\u001b[0m \u001b[38;5;28;01mdef\u001b[39;00m \u001b[38;5;21mmodel_dates\u001b[39m(\u001b[38;5;28mself\u001b[39m):\n\u001b[1;32m---> 42\u001b[0m     \u001b[38;5;28;01mreturn\u001b[39;00m \u001b[38;5;28mself\u001b[39m\u001b[38;5;241m.\u001b[39msub_dirs(\u001b[38;5;28mself\u001b[39m\u001b[38;5;241m.\u001b[39marchive(\u001b[38;5;28;43mself\u001b[39;49m\u001b[38;5;241;43m.\u001b[39;49m\u001b[43mmodel_nums\u001b[49m[\u001b[38;5;241m-\u001b[39m\u001b[38;5;241m1\u001b[39m]) , as_int \u001b[38;5;241m=\u001b[39m \u001b[38;5;28;01mTrue\u001b[39;00m)\n",
      "File \u001b[1;32md:\\Coding\\learndl\\learndl\\src\\basic\\model.py:39\u001b[0m, in \u001b[0;36mModelPath.model_nums\u001b[1;34m(self)\u001b[0m\n\u001b[0;32m     37\u001b[0m \u001b[38;5;129m@property\u001b[39m\n\u001b[0;32m     38\u001b[0m \u001b[38;5;28;01mdef\u001b[39;00m \u001b[38;5;21mmodel_nums\u001b[39m(\u001b[38;5;28mself\u001b[39m):\n\u001b[1;32m---> 39\u001b[0m     \u001b[38;5;28;01mreturn\u001b[39;00m \u001b[38;5;28;43mself\u001b[39;49m\u001b[38;5;241;43m.\u001b[39;49m\u001b[43msub_dirs\u001b[49m\u001b[43m(\u001b[49m\u001b[38;5;28;43mself\u001b[39;49m\u001b[38;5;241;43m.\u001b[39;49m\u001b[43marchive\u001b[49m\u001b[43m(\u001b[49m\u001b[43m)\u001b[49m\u001b[43m \u001b[49m\u001b[43m,\u001b[49m\u001b[43m \u001b[49m\u001b[43mas_int\u001b[49m\u001b[43m \u001b[49m\u001b[38;5;241;43m=\u001b[39;49m\u001b[43m \u001b[49m\u001b[38;5;28;43;01mTrue\u001b[39;49;00m\u001b[43m)\u001b[49m\n",
      "File \u001b[1;32md:\\Coding\\learndl\\learndl\\src\\basic\\model.py:14\u001b[0m, in \u001b[0;36mModelPath.sub_dirs\u001b[1;34m(path, as_int)\u001b[0m\n\u001b[0;32m     12\u001b[0m \u001b[38;5;129m@staticmethod\u001b[39m\n\u001b[0;32m     13\u001b[0m \u001b[38;5;28;01mdef\u001b[39;00m \u001b[38;5;21msub_dirs\u001b[39m(path : Path , as_int \u001b[38;5;241m=\u001b[39m \u001b[38;5;28;01mFalse\u001b[39;00m):\n\u001b[1;32m---> 14\u001b[0m     arr \u001b[38;5;241m=\u001b[39m \u001b[43m[\u001b[49m\u001b[43msub\u001b[49m\u001b[38;5;241;43m.\u001b[39;49m\u001b[43mname\u001b[49m\u001b[43m \u001b[49m\u001b[38;5;28;43;01mfor\u001b[39;49;00m\u001b[43m \u001b[49m\u001b[43msub\u001b[49m\u001b[43m \u001b[49m\u001b[38;5;129;43;01min\u001b[39;49;00m\u001b[43m \u001b[49m\u001b[43mpath\u001b[49m\u001b[38;5;241;43m.\u001b[39;49m\u001b[43miterdir\u001b[49m\u001b[43m(\u001b[49m\u001b[43m)\u001b[49m\u001b[43m \u001b[49m\u001b[38;5;28;43;01mif\u001b[39;49;00m\u001b[43m \u001b[49m\u001b[43msub\u001b[49m\u001b[38;5;241;43m.\u001b[39;49m\u001b[43mis_dir\u001b[49m\u001b[43m(\u001b[49m\u001b[43m)\u001b[49m\u001b[43m]\u001b[49m\n\u001b[0;32m     15\u001b[0m     \u001b[38;5;28;01mif\u001b[39;00m as_int: arr \u001b[38;5;241m=\u001b[39m np\u001b[38;5;241m.\u001b[39marray([v \u001b[38;5;28;01mfor\u001b[39;00m v \u001b[38;5;129;01min\u001b[39;00m arr \u001b[38;5;28;01mif\u001b[39;00m v\u001b[38;5;241m.\u001b[39misdigit()])\u001b[38;5;241m.\u001b[39mastype(\u001b[38;5;28mint\u001b[39m)\n\u001b[0;32m     16\u001b[0m     \u001b[38;5;28;01mreturn\u001b[39;00m np\u001b[38;5;241m.\u001b[39msort(arr)\n",
      "File \u001b[1;32md:\\Coding\\learndl\\learndl\\src\\basic\\model.py:14\u001b[0m, in \u001b[0;36m<listcomp>\u001b[1;34m(.0)\u001b[0m\n\u001b[0;32m     12\u001b[0m \u001b[38;5;129m@staticmethod\u001b[39m\n\u001b[0;32m     13\u001b[0m \u001b[38;5;28;01mdef\u001b[39;00m \u001b[38;5;21msub_dirs\u001b[39m(path : Path , as_int \u001b[38;5;241m=\u001b[39m \u001b[38;5;28;01mFalse\u001b[39;00m):\n\u001b[1;32m---> 14\u001b[0m     arr \u001b[38;5;241m=\u001b[39m \u001b[43m[\u001b[49m\u001b[43msub\u001b[49m\u001b[38;5;241;43m.\u001b[39;49m\u001b[43mname\u001b[49m\u001b[43m \u001b[49m\u001b[38;5;28;43;01mfor\u001b[39;49;00m\u001b[43m \u001b[49m\u001b[43msub\u001b[49m\u001b[43m \u001b[49m\u001b[38;5;129;43;01min\u001b[39;49;00m\u001b[43m \u001b[49m\u001b[43mpath\u001b[49m\u001b[38;5;241;43m.\u001b[39;49m\u001b[43miterdir\u001b[49m\u001b[43m(\u001b[49m\u001b[43m)\u001b[49m\u001b[43m \u001b[49m\u001b[38;5;28;43;01mif\u001b[39;49;00m\u001b[43m \u001b[49m\u001b[43msub\u001b[49m\u001b[38;5;241;43m.\u001b[39;49m\u001b[43mis_dir\u001b[49m\u001b[43m(\u001b[49m\u001b[43m)\u001b[49m\u001b[43m]\u001b[49m\n\u001b[0;32m     15\u001b[0m     \u001b[38;5;28;01mif\u001b[39;00m as_int: arr \u001b[38;5;241m=\u001b[39m np\u001b[38;5;241m.\u001b[39marray([v \u001b[38;5;28;01mfor\u001b[39;00m v \u001b[38;5;129;01min\u001b[39;00m arr \u001b[38;5;28;01mif\u001b[39;00m v\u001b[38;5;241m.\u001b[39misdigit()])\u001b[38;5;241m.\u001b[39mastype(\u001b[38;5;28mint\u001b[39m)\n\u001b[0;32m     16\u001b[0m     \u001b[38;5;28;01mreturn\u001b[39;00m np\u001b[38;5;241m.\u001b[39msort(arr)\n",
      "File \u001b[1;32mc:\\Users\\jinmeng\\AppData\\Local\\Programs\\Python\\Python311\\Lib\\pathlib.py:931\u001b[0m, in \u001b[0;36mPath.iterdir\u001b[1;34m(self)\u001b[0m\n\u001b[0;32m    927\u001b[0m \u001b[38;5;28;01mdef\u001b[39;00m \u001b[38;5;21miterdir\u001b[39m(\u001b[38;5;28mself\u001b[39m):\n\u001b[0;32m    928\u001b[0m \u001b[38;5;250m    \u001b[39m\u001b[38;5;124;03m\"\"\"Iterate over the files in this directory.  Does not yield any\u001b[39;00m\n\u001b[0;32m    929\u001b[0m \u001b[38;5;124;03m    result for the special paths '.' and '..'.\u001b[39;00m\n\u001b[0;32m    930\u001b[0m \u001b[38;5;124;03m    \"\"\"\u001b[39;00m\n\u001b[1;32m--> 931\u001b[0m     \u001b[38;5;28;01mfor\u001b[39;00m name \u001b[38;5;129;01min\u001b[39;00m os\u001b[38;5;241m.\u001b[39mlistdir(\u001b[38;5;28mself\u001b[39m):\n\u001b[0;32m    932\u001b[0m         \u001b[38;5;28;01myield\u001b[39;00m \u001b[38;5;28mself\u001b[39m\u001b[38;5;241m.\u001b[39m_make_child_relpath(name)\n",
      "\u001b[1;31mFileNotFoundError\u001b[0m: [WinError 3] 系统找不到指定的路径。: 'd:\\\\Coding\\\\learndl\\\\learndl\\\\models\\\\gru_day\\\\archive'"
     ]
    }
   ],
   "source": [
    "from src.api import DataAPI , Predictor\n",
    "\n",
    "DataAPI.update()\n",
    "DataAPI.prepare_predict_data()\n",
    "Predictor.update_factors()"
   ]
  },
  {
   "cell_type": "code",
   "execution_count": 8,
   "metadata": {},
   "outputs": [
    {
     "data": {
      "text/html": [
       "<div>\n",
       "<style scoped>\n",
       "    .dataframe tbody tr th:only-of-type {\n",
       "        vertical-align: middle;\n",
       "    }\n",
       "\n",
       "    .dataframe tbody tr th {\n",
       "        vertical-align: top;\n",
       "    }\n",
       "\n",
       "    .dataframe thead th {\n",
       "        text-align: right;\n",
       "    }\n",
       "</style>\n",
       "<table border=\"1\" class=\"dataframe\">\n",
       "  <thead>\n",
       "    <tr style=\"text-align: right;\">\n",
       "      <th></th>\n",
       "    </tr>\n",
       "  </thead>\n",
       "  <tbody>\n",
       "  </tbody>\n",
       "</table>\n",
       "</div>"
      ],
      "text/plain": [
       "Empty DataFrame\n",
       "Columns: []\n",
       "Index: []"
      ]
     },
     "execution_count": 8,
     "metadata": {},
     "output_type": "execute_result"
    }
   ],
   "source": [
    "from src.data.tushare.download.info import Calendar , pro\n",
    "renamer = {'cal_date' : 'calendar' ,'is_open'  : 'trade'}\n",
    "fields = None\n",
    "df = pro.trade_cal(exchange='SSE').rename(columns=renamer)\n",
    "#df = df.sort_values('calendar').reset_index(drop = True)\n",
    "df"
   ]
  },
  {
   "cell_type": "code",
   "execution_count": 10,
   "metadata": {},
   "outputs": [
    {
     "name": "stdout",
     "output_type": "stream",
     "text": [
      "Finish model [gru_day] predicting!\n",
      "Finish model [gruRTN_day] predicting!\n",
      "Finish model [gru_avg] predicting!\n",
      "--------------------------------------------------------------------------------\n"
     ]
    }
   ],
   "source": [
    "# DataAPI.prepare_predict_data()\n",
    "Predictor.update_factors()"
   ]
  },
  {
   "cell_type": "code",
   "execution_count": 1,
   "metadata": {},
   "outputs": [
    {
     "name": "stdout",
     "output_type": "stream",
     "text": [
      "Finish model [gru_day] predicting!\n",
      "Finish model [gruRTN_day] predicting!\n",
      "Finish model [gru_avg] predicting!\n",
      "--------------------------------------------------------------------------------\n"
     ]
    }
   ],
   "source": [
    "from src.api import DataAPI , Predictor\n",
    "# DataAPI.prepare_predict_data()\n",
    "md = Predictor.update_factors()"
   ]
  },
  {
   "cell_type": "code",
   "execution_count": null,
   "metadata": {},
   "outputs": [
    {
     "name": "stdout",
     "output_type": "stream",
     "text": [
      "Load  2 DataBlocks ..."
     ]
    },
    {
     "name": "stdout",
     "output_type": "stream",
     "text": [
      "... cost 0.22 secs\n",
      "Align 2 DataBlocks ...... cost 0.21 secs\n",
      "Pre-Norming method of [day] : {'divlast': True, 'histnorm': True}\n",
      "x shape is torch.Size([5064, 30, 6])\n",
      "y shape is torch.Size([5064, 1])\n",
      "Test Forward Success\n",
      "metrics :  Metrics.MetricOutput(loss=tensor(1.0688, grad_fn=<AddBackward0>), score=-0.015420470386743546, loss_item=1.068833589553833, penalty=0.0, losses=tensor(1.0688, grad_fn=<ExpBackward0>))\n",
      "Test Metrics Success\n"
     ]
    }
   ],
   "source": [
    "from src.api import ModelTestor\n",
    "ModelTestor.new('ts_mixer').try_metrics()"
   ]
  }
 ],
 "metadata": {
  "kernelspec": {
   "display_name": "Python 3",
   "language": "python",
   "name": "python3"
  },
  "language_info": {
   "codemirror_mode": {
    "name": "ipython",
    "version": 3
   },
   "file_extension": ".py",
   "mimetype": "text/x-python",
   "name": "python",
   "nbconvert_exporter": "python",
   "pygments_lexer": "ipython3",
   "version": "3.11.8"
  }
 },
 "nbformat": 4,
 "nbformat_minor": 2
}
