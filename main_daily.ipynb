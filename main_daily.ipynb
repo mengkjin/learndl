{
 "cells": [
  {
   "cell_type": "code",
   "execution_count": 8,
   "metadata": {},
   "outputs": [
    {
     "name": "stdout",
     "output_type": "stream",
     "text": [
      "Load  1 DataBlocks...... finished! Cost 0.08 secs\n",
      "Align 1 DataBlocks...... finished! Cost 0.16 secs\n"
     ]
    }
   ],
   "source": [
    "from src.data import ModuleData\n",
    "datas = ModuleData.load([] , ['std_lag1_10' , 'std_lag1_20' , 'res_lag1_20'] , fit = False , predict = True)"
   ]
  },
  {
   "cell_type": "code",
   "execution_count": 11,
   "metadata": {},
   "outputs": [],
   "source": [
    "import torch\n",
    "a = torch.load('./data/Interim/DataBlock/Y.00.pt')"
   ]
  },
  {
   "cell_type": "code",
   "execution_count": 1,
   "metadata": {},
   "outputs": [
    {
     "name": "stdout",
     "output_type": "stream",
     "text": [
      "src.basic.INSTANCE_RECORD can be accessed to check ['trainer', 'account']\n",
      "Basic module imported!\n"
     ]
    }
   ],
   "source": [
    "%run src_runs/autorun/daily_update.py"
   ]
  },
  {
   "cell_type": "code",
   "execution_count": 2,
   "metadata": {},
   "outputs": [
    {
     "name": "stdout",
     "output_type": "stream",
     "text": [
      "--------------------------------------------------------------------------------\n",
      "****************************** DOWNLOAD CORE DATA ******************************\n",
      "--------------------------------------------------------------------------------\n",
      "--------------------------------------------------------------------------------\n",
      "**************************** DOWNLOAD SELLSIDE DATA ****************************\n",
      "Sat Nov 30 20:22:34 2024 : download since last update!\n",
      "Connection and Factor preparation finished!\n",
      "--------------------------------------------------------------------------------\n",
      "--------------------------------------------------------------------------------\n",
      "******************************** FETCH JS DATA ********************************\n",
      "Update Files\n",
      "Sat Nov 30 20:22:35 2024 : Updated ~ DB_information_js\\calendar.feather Done! Cost 0.00 Secs\n",
      "Sat Nov 30 20:22:35 2024 : Updated ~ DB_information_js\\description.feather Done! Cost 0.05 Secs\n",
      "Sat Nov 30 20:22:35 2024 : Updated ~ DB_information_js\\st.feather Done! Cost 0.03 Secs\n",
      "Sat Nov 30 20:22:38 2024 : Updated ~ DB_information_js\\industry.feather Done! Cost 3.12 Secs\n",
      "Sat Nov 30 20:22:45 2024 : Updated ~ DB_information_js\\concepts.feather Done! Cost 7.38 Secs\n",
      "Sat Nov 30 20:23:21 2024 : All Updates Done! Cost 45.87 Secs\n",
      "--------------------------------------------------------------------------------\n",
      "--------------------------------------------------------------------------------\n",
      "****************************** UPDATE OTHER DATAS ******************************\n",
      "--------------------------------------------------------------------------------\n",
      "--------------------------------------------------------------------------------\n",
      "***************************** UPDATE FACTOR MODELS *****************************\n",
      "--------------------------------------------------------------------------------\n",
      "--------------------------------------------------------------------------------\n",
      "***************************** PREPARE PREDICT DATA *****************************\n",
      "predict is True , Data Processing start!\n",
      "6 datas : ['y', 'day', '30m', 'style', 'indus', 'week'] , from -366 to None\n",
      "y is up to 20241130001556 already!\n",
      "day is up to 20241130001558 already!\n",
      "30m is up to 20241130001600 already!\n",
      "style is up to 20241130001602 already!\n",
      "indus is up to 20241130001607 already!\n",
      "week is up to 20241130001614 already!\n",
      "Data Processing Finished! Cost 0.00 Seconds\n",
      "--------------------------------------------------------------------------------\n",
      "--------------------------------------------------------------------------------\n",
      "******************************** UPDATE HIDDEN ********************************\n",
      "model_name is None, update all hidden models (len=1)\n",
      "Beware! Should be at server or short_test, but short_test is False now!\n"
     ]
    },
    {
     "name": "stderr",
     "output_type": "stream",
     "text": [
      "  0%|          | 0/316 [00:00<?, ?it/s]"
     ]
    },
    {
     "name": "stdout",
     "output_type": "stream",
     "text": [
      "  -->  Finish updating hidden feature extraction for HiddenExtractingModel(hidden_name=gru_day_V0,name=gru_day,submodels=['best'],nums=None) , len=2\n",
      "--------------------------------------------------------------------------------\n",
      "--------------------------------------------------------------------------------\n",
      "******************************** UPDATE FACTORS ********************************\n",
      "model_name is None, update all registered models (len=3)\n",
      "  -->  No new updating model prediction for RegisteredModel(pred_name=gru_day_V0,name=gru_day,submodel=swalast,num=0)\n",
      "  -->  No new updating model prediction for RegisteredModel(pred_name=gruRTN_day_V0,name=gruRTN_day,submodel=swalast,num=0)\n",
      "  -->  No new updating model prediction for RegisteredModel(pred_name=gru_day_V1,name=gru_avg,submodel=swalast,num=all)\n",
      "--------------------------------------------------------------------------------\n",
      "--------------------------------------------------------------------------------\n",
      "*************************** UPDATE FACTOR PORTFOLIOS ***************************\n",
      "model_name is None, build fmps for all registered models (len=3)\n",
      "  -->  No new updating model portfolios for RegisteredModel(pred_name=gru_day_V0,name=gru_day,submodel=swalast,num=0)\n",
      "  -->  Finish updating model accounting for RegisteredModel(pred_name=gru_day_V0,name=gru_day,submodel=swalast,num=0) , len=5\n",
      "  -->  No new updating model portfolios for RegisteredModel(pred_name=gruRTN_day_V0,name=gruRTN_day,submodel=swalast,num=0)\n",
      "  -->  Finish updating model accounting for RegisteredModel(pred_name=gruRTN_day_V0,name=gruRTN_day,submodel=swalast,num=0) , len=5\n",
      "  -->  No new updating model portfolios for RegisteredModel(pred_name=gru_day_V1,name=gru_avg,submodel=swalast,num=all)\n",
      "  -->  Finish updating model accounting for RegisteredModel(pred_name=gru_day_V1,name=gru_avg,submodel=swalast,num=all) , len=5\n",
      "--------------------------------------------------------------------------------\n"
     ]
    }
   ],
   "source": [
    "from src.api import DataAPI , ModelAPI\n",
    "\n",
    "#print('update_data: ' + '*' * 20)\n",
    "DataAPI.update()\n",
    "ModelAPI.update()\n"
   ]
  },
  {
   "cell_type": "code",
   "execution_count": 1,
   "metadata": {},
   "outputs": [
    {
     "name": "stdout",
     "output_type": "stream",
     "text": [
      "src.basic.INSTANCE_RECORD can be accessed to check ['trainer', 'account']\n",
      "Basic module imported!\n"
     ]
    },
    {
     "data": {
      "text/plain": [
       "array([20241101, 20241108, 20241115, 20241122, 20241129])"
      ]
     },
     "execution_count": 1,
     "metadata": {},
     "output_type": "execute_result"
    }
   ],
   "source": [
    "from src.basic import RegisteredModel\n",
    "model =RegisteredModel.SelectModels('gru_day_V0')[0]\n",
    "model.fmp_target_dates"
   ]
  },
  {
   "cell_type": "code",
   "execution_count": 1,
   "metadata": {},
   "outputs": [
    {
     "name": "stdout",
     "output_type": "stream",
     "text": [
      "D:\\Coding\\learndl\\learndl\\configs\\nn\\ts_mixer.yaml does not exist, trying default.yaml\n",
      "Load  2 DataBlocks...... finished! Cost 0.09 secs\n",
      "Align 2 DataBlocks...... finished! Cost 0.23 secs\n",
      "Pre-Norming method of [day] : {'divlast': True, 'histnorm': True}\n"
     ]
    },
    {
     "name": "stderr",
     "output_type": "stream",
     "text": [
      "100%|██████████| 212/212 [00:00<?, ?it/s]\n"
     ]
    },
    {
     "name": "stdout",
     "output_type": "stream",
     "text": [
      "x shape is torch.Size([5169, 30, 6])\n",
      "y shape is torch.Size([5169, 1])\n",
      "Test Forward Success\n",
      "x shape is torch.Size([5169, 30, 6])\n",
      "y shape is torch.Size([5169, 1])\n",
      "Test Forward Success\n",
      "score function of [spearman] calculated and success!\n",
      "loss function of [ccc] calculated and success!\n",
      "metrics :  Metrics(loss=ccc,metric=spearman,penalty=['hidden_corr'])\n",
      "Test Metrics Success\n"
     ]
    },
    {
     "data": {
      "text/plain": [
       "ModelTestor(model=NNPredictor(model_full_name=ts_mixer_day_ShortTest@0@0@0)) , check [.model][.batch_data][.metrics]"
      ]
     },
     "execution_count": 1,
     "metadata": {},
     "output_type": "execute_result"
    }
   ],
   "source": [
    "from src.api import ModelAPI\n",
    "model = ModelAPI.Testor('ts_mixer')\n",
    "model.try_forward()\n",
    "model.try_metrics()"
   ]
  },
  {
   "cell_type": "code",
   "execution_count": null,
   "metadata": {},
   "outputs": [],
   "source": []
  },
  {
   "cell_type": "code",
   "execution_count": null,
   "metadata": {},
   "outputs": [],
   "source": []
  },
  {
   "cell_type": "code",
   "execution_count": 1,
   "metadata": {},
   "outputs": [
    {
     "name": "stdout",
     "output_type": "stream",
     "text": [
      "src.basic.INSTANCE_RECORD can be accessed to check ['trainer', 'account']\n",
      "Basic module imported!\n"
     ]
    },
    {
     "data": {
      "text/plain": [
       "ModelPortfolioBuilder(RegisteredModel(pred_name=gru_day_V0,name=gru_day,submodel=swalast,num=0))"
      ]
     },
     "execution_count": 1,
     "metadata": {},
     "output_type": "execute_result"
    }
   ],
   "source": [
    "from src.basic import RegisteredModel , CONF\n",
    "from src.model.model_module.application import ModelPortfolioBuilder\n",
    "\n",
    "model_name = 'gru_day_V0'\n",
    "\n",
    "model = RegisteredModel.SelectModels(model_name)[0]\n",
    "md = ModelPortfolioBuilder(model)\n",
    "md"
   ]
  },
  {
   "cell_type": "code",
   "execution_count": 3,
   "metadata": {},
   "outputs": [],
   "source": [
    "from src.basic import CALENDAR\n",
    "from src.factor.fmp import PortfolioBuilder\n",
    "from src.factor.util import Portfolio\n",
    "import pandas as pd\n",
    "import numpy as np\n",
    "md.reg_model.pred_dates\n",
    "self = md\n",
    "date = 20241101\n",
    "\n",
    "resume = True\n",
    "\n",
    "fmp_names = list(self.iter_fmp_names())\n",
    "\n",
    "last_date = min(list(self.last_account_date().values()))\n",
    "account_dates = [date for date in self.reg_model.fmp_dates if date > last_date] if resume else self.reg_model.fmp_dates\n",
    "if len(account_dates) > 0:\n",
    "    all_fmp_dfs = pd.concat([self.reg_model.load_fmp(date) for date in account_dates])\n",
    "\n",
    "    account_dir = CONF.PATH.fmp_account.joinpath(self.reg_model.pred_name)\n",
    "    account_dir.mkdir(parents=True , exist_ok=True)\n",
    "\n",
    "    alpha_model = self.alpha_model(account_dates)\n",
    "\n",
    "    for fmp_name in fmp_names:\n",
    "        portfolio    = Portfolio.from_dataframe(all_fmp_dfs[all_fmp_dfs['name'] == fmp_name])\n",
    "        account_path = account_dir.joinpath(f'{fmp_name}.pkl')\n",
    "        builder = PortfolioBuilder.from_full_name(fmp_name , alpha_model , portfolio)\n",
    "        builder.accounting(account_path=account_path,resume=resume,deploy=True)\n",
    "    \n"
   ]
  },
  {
   "cell_type": "code",
   "execution_count": 11,
   "metadata": {},
   "outputs": [
    {
     "data": {
      "text/plain": [
       "{}"
      ]
     },
     "execution_count": 11,
     "metadata": {},
     "output_type": "execute_result"
    }
   ],
   "source": [
    "self.load_accounts()"
   ]
  },
  {
   "cell_type": "code",
   "execution_count": 10,
   "metadata": {},
   "outputs": [
    {
     "data": {
      "text/plain": [
       "{'Top.gru_day_V0.csi300.Top_20.lag0.indep': 20241031,\n",
       " 'Top.gru_day_V0.csi300.Top_30.lag0.indep': 20241031,\n",
       " 'Top.gru_day_V0.csi300.Top_50.lag0.indep': 20241031,\n",
       " 'Top.gru_day_V0.csi300.Top100.lag0.indep': 20241031,\n",
       " 'Top.gru_day_V0.csi500.Top_20.lag0.indep': 20241031,\n",
       " 'Top.gru_day_V0.csi500.Top_30.lag0.indep': 20241031,\n",
       " 'Top.gru_day_V0.csi500.Top_50.lag0.indep': 20241031,\n",
       " 'Top.gru_day_V0.csi500.Top100.lag0.indep': 20241031,\n",
       " 'Top.gru_day_V0.csi1000.Top_20.lag0.indep': 20241031,\n",
       " 'Top.gru_day_V0.csi1000.Top_30.lag0.indep': 20241031,\n",
       " 'Top.gru_day_V0.csi1000.Top_50.lag0.indep': 20241031,\n",
       " 'Top.gru_day_V0.csi1000.Top100.lag0.indep': 20241031,\n",
       " 'Top.gru_day_V0.csi300.Top_20.lag0.conti': 20241031,\n",
       " 'Top.gru_day_V0.csi300.Top_30.lag0.conti': 20241031,\n",
       " 'Top.gru_day_V0.csi300.Top_50.lag0.conti': 20241031,\n",
       " 'Top.gru_day_V0.csi300.Top100.lag0.conti': 20241031,\n",
       " 'Top.gru_day_V0.csi500.Top_20.lag0.conti': 20241031,\n",
       " 'Top.gru_day_V0.csi500.Top_30.lag0.conti': 20241031,\n",
       " 'Top.gru_day_V0.csi500.Top_50.lag0.conti': 20241031,\n",
       " 'Top.gru_day_V0.csi500.Top100.lag0.conti': 20241031,\n",
       " 'Top.gru_day_V0.csi1000.Top_20.lag0.conti': 20241031,\n",
       " 'Top.gru_day_V0.csi1000.Top_30.lag0.conti': 20241031,\n",
       " 'Top.gru_day_V0.csi1000.Top_50.lag0.conti': 20241031,\n",
       " 'Top.gru_day_V0.csi1000.Top100.lag0.conti': 20241031,\n",
       " 'Optim.gru_day_V0.csi300.default.lag0.indep': 20241031,\n",
       " 'Optim.gru_day_V0.csi500.default.lag0.indep': 20241031,\n",
       " 'Optim.gru_day_V0.csi1000.default.lag0.indep': 20241031,\n",
       " 'Optim.gru_day_V0.csi300.default.lag0.conti': 20241031,\n",
       " 'Optim.gru_day_V0.csi500.default.lag0.conti': 20241031,\n",
       " 'Optim.gru_day_V0.csi1000.default.lag0.conti': 20241031}"
      ]
     },
     "execution_count": 10,
     "metadata": {},
     "output_type": "execute_result"
    }
   ],
   "source": [
    "self.last_account_date()"
   ]
  },
  {
   "cell_type": "code",
   "execution_count": 3,
   "metadata": {},
   "outputs": [
    {
     "data": {
      "text/html": [
       "<div>\n",
       "<style scoped>\n",
       "    .dataframe tbody tr th:only-of-type {\n",
       "        vertical-align: middle;\n",
       "    }\n",
       "\n",
       "    .dataframe tbody tr th {\n",
       "        vertical-align: top;\n",
       "    }\n",
       "\n",
       "    .dataframe thead th {\n",
       "        text-align: right;\n",
       "    }\n",
       "</style>\n",
       "<table border=\"1\" class=\"dataframe\">\n",
       "  <thead>\n",
       "    <tr style=\"text-align: right;\">\n",
       "      <th></th>\n",
       "      <th></th>\n",
       "      <th></th>\n",
       "      <th></th>\n",
       "      <th></th>\n",
       "      <th></th>\n",
       "      <th>model_date</th>\n",
       "      <th>start</th>\n",
       "      <th>end</th>\n",
       "      <th>pf</th>\n",
       "      <th>bm</th>\n",
       "      <th>turn</th>\n",
       "      <th>excess</th>\n",
       "      <th>analytic</th>\n",
       "      <th>attribution</th>\n",
       "    </tr>\n",
       "    <tr>\n",
       "      <th>prefix</th>\n",
       "      <th>factor_name</th>\n",
       "      <th>benchmark</th>\n",
       "      <th>strategy</th>\n",
       "      <th>suffix</th>\n",
       "      <th>lag</th>\n",
       "      <th></th>\n",
       "      <th></th>\n",
       "      <th></th>\n",
       "      <th></th>\n",
       "      <th></th>\n",
       "      <th></th>\n",
       "      <th></th>\n",
       "      <th></th>\n",
       "      <th></th>\n",
       "    </tr>\n",
       "  </thead>\n",
       "  <tbody>\n",
       "    <tr>\n",
       "      <th rowspan=\"5\" valign=\"top\">Optim</th>\n",
       "      <th rowspan=\"5\" valign=\"top\">gru_day_V0</th>\n",
       "      <th rowspan=\"5\" valign=\"top\">csi1000</th>\n",
       "      <th rowspan=\"5\" valign=\"top\">default</th>\n",
       "      <th rowspan=\"5\" valign=\"top\">lag0.conti</th>\n",
       "      <th>0</th>\n",
       "      <td>-1</td>\n",
       "      <td>20241101</td>\n",
       "      <td>20241101</td>\n",
       "      <td>0.000000</td>\n",
       "      <td>0.000000</td>\n",
       "      <td>0.000000</td>\n",
       "      <td>0.000000</td>\n",
       "      <td>None</td>\n",
       "      <td>None</td>\n",
       "    </tr>\n",
       "    <tr>\n",
       "      <th>0</th>\n",
       "      <td>20241101</td>\n",
       "      <td>20241104</td>\n",
       "      <td>20241108</td>\n",
       "      <td>0.076576</td>\n",
       "      <td>0.083145</td>\n",
       "      <td>0.999975</td>\n",
       "      <td>-0.006569</td>\n",
       "      <td>RiskAnalytic(20241101)</td>\n",
       "      <td>Attribution(20241104-20241108)</td>\n",
       "    </tr>\n",
       "    <tr>\n",
       "      <th>0</th>\n",
       "      <td>20241108</td>\n",
       "      <td>20241111</td>\n",
       "      <td>20241115</td>\n",
       "      <td>-0.028433</td>\n",
       "      <td>-0.046318</td>\n",
       "      <td>0.402507</td>\n",
       "      <td>0.017885</td>\n",
       "      <td>RiskAnalytic(20241108)</td>\n",
       "      <td>Attribution(20241111-20241115)</td>\n",
       "    </tr>\n",
       "    <tr>\n",
       "      <th>0</th>\n",
       "      <td>20241115</td>\n",
       "      <td>20241118</td>\n",
       "      <td>20241122</td>\n",
       "      <td>-0.015890</td>\n",
       "      <td>-0.015827</td>\n",
       "      <td>0.400030</td>\n",
       "      <td>-0.000063</td>\n",
       "      <td>RiskAnalytic(20241115)</td>\n",
       "      <td>Attribution(20241118-20241122)</td>\n",
       "    </tr>\n",
       "    <tr>\n",
       "      <th>0</th>\n",
       "      <td>20241122</td>\n",
       "      <td>20241125</td>\n",
       "      <td>20241128</td>\n",
       "      <td>0.023534</td>\n",
       "      <td>0.009075</td>\n",
       "      <td>0.399992</td>\n",
       "      <td>0.014458</td>\n",
       "      <td>RiskAnalytic(20241122)</td>\n",
       "      <td>Attribution(20241125-20241128)</td>\n",
       "    </tr>\n",
       "  </tbody>\n",
       "</table>\n",
       "</div>"
      ],
      "text/plain": [
       "                                                      model_date     start  \\\n",
       "prefix factor_name benchmark strategy suffix     lag                         \n",
       "Optim  gru_day_V0  csi1000   default  lag0.conti 0            -1  20241101   \n",
       "                                                 0      20241101  20241104   \n",
       "                                                 0      20241108  20241111   \n",
       "                                                 0      20241115  20241118   \n",
       "                                                 0      20241122  20241125   \n",
       "\n",
       "                                                           end        pf  \\\n",
       "prefix factor_name benchmark strategy suffix     lag                       \n",
       "Optim  gru_day_V0  csi1000   default  lag0.conti 0    20241101  0.000000   \n",
       "                                                 0    20241108  0.076576   \n",
       "                                                 0    20241115 -0.028433   \n",
       "                                                 0    20241122 -0.015890   \n",
       "                                                 0    20241128  0.023534   \n",
       "\n",
       "                                                            bm      turn  \\\n",
       "prefix factor_name benchmark strategy suffix     lag                       \n",
       "Optim  gru_day_V0  csi1000   default  lag0.conti 0    0.000000  0.000000   \n",
       "                                                 0    0.083145  0.999975   \n",
       "                                                 0   -0.046318  0.402507   \n",
       "                                                 0   -0.015827  0.400030   \n",
       "                                                 0    0.009075  0.399992   \n",
       "\n",
       "                                                        excess  \\\n",
       "prefix factor_name benchmark strategy suffix     lag             \n",
       "Optim  gru_day_V0  csi1000   default  lag0.conti 0    0.000000   \n",
       "                                                 0   -0.006569   \n",
       "                                                 0    0.017885   \n",
       "                                                 0   -0.000063   \n",
       "                                                 0    0.014458   \n",
       "\n",
       "                                                                    analytic  \\\n",
       "prefix factor_name benchmark strategy suffix     lag                           \n",
       "Optim  gru_day_V0  csi1000   default  lag0.conti 0                      None   \n",
       "                                                 0    RiskAnalytic(20241101)   \n",
       "                                                 0    RiskAnalytic(20241108)   \n",
       "                                                 0    RiskAnalytic(20241115)   \n",
       "                                                 0    RiskAnalytic(20241122)   \n",
       "\n",
       "                                                                         attribution  \n",
       "prefix factor_name benchmark strategy suffix     lag                                  \n",
       "Optim  gru_day_V0  csi1000   default  lag0.conti 0                              None  \n",
       "                                                 0    Attribution(20241104-20241108)  \n",
       "                                                 0    Attribution(20241111-20241115)  \n",
       "                                                 0    Attribution(20241118-20241122)  \n",
       "                                                 0    Attribution(20241125-20241128)  "
      ]
     },
     "execution_count": 3,
     "metadata": {},
     "output_type": "execute_result"
    }
   ],
   "source": [
    "builder.account"
   ]
  },
  {
   "cell_type": "code",
   "execution_count": 4,
   "metadata": {},
   "outputs": [
    {
     "data": {
      "text/plain": [
       "<Optim.gru_day_V0.csi1000.default.lag0.conti> : 4 ports"
      ]
     },
     "execution_count": 4,
     "metadata": {},
     "output_type": "execute_result"
    }
   ],
   "source": [
    "portfolio"
   ]
  },
  {
   "cell_type": "code",
   "execution_count": 16,
   "metadata": {},
   "outputs": [
    {
     "data": {
      "text/plain": [
       "'Optim.gru_day.csi1000.default.lag0.conti'"
      ]
     },
     "execution_count": 16,
     "metadata": {},
     "output_type": "execute_result"
    }
   ],
   "source": [
    "fmp_name"
   ]
  },
  {
   "cell_type": "code",
   "execution_count": null,
   "metadata": {},
   "outputs": [],
   "source": [
    "from src.factor.util import Portfolio\n",
    "Portfolio.from_dataframe()"
   ]
  },
  {
   "cell_type": "code",
   "execution_count": 10,
   "metadata": {},
   "outputs": [
    {
     "data": {
      "text/html": [
       "<div>\n",
       "<style scoped>\n",
       "    .dataframe tbody tr th:only-of-type {\n",
       "        vertical-align: middle;\n",
       "    }\n",
       "\n",
       "    .dataframe tbody tr th {\n",
       "        vertical-align: top;\n",
       "    }\n",
       "\n",
       "    .dataframe thead th {\n",
       "        text-align: right;\n",
       "    }\n",
       "</style>\n",
       "<table border=\"1\" class=\"dataframe\">\n",
       "  <thead>\n",
       "    <tr style=\"text-align: right;\">\n",
       "      <th></th>\n",
       "      <th>name</th>\n",
       "      <th>date</th>\n",
       "      <th>secid</th>\n",
       "      <th>weight</th>\n",
       "    </tr>\n",
       "  </thead>\n",
       "  <tbody>\n",
       "    <tr>\n",
       "      <th>0</th>\n",
       "      <td>Top.gru_day_V0.csi300.Top_20.lag0.indep</td>\n",
       "      <td>20241101</td>\n",
       "      <td>166</td>\n",
       "      <td>0.050000</td>\n",
       "    </tr>\n",
       "    <tr>\n",
       "      <th>1</th>\n",
       "      <td>Top.gru_day_V0.csi300.Top_20.lag0.indep</td>\n",
       "      <td>20241101</td>\n",
       "      <td>800</td>\n",
       "      <td>0.050000</td>\n",
       "    </tr>\n",
       "    <tr>\n",
       "      <th>2</th>\n",
       "      <td>Top.gru_day_V0.csi300.Top_20.lag0.indep</td>\n",
       "      <td>20241101</td>\n",
       "      <td>688126</td>\n",
       "      <td>0.050000</td>\n",
       "    </tr>\n",
       "    <tr>\n",
       "      <th>3</th>\n",
       "      <td>Top.gru_day_V0.csi300.Top_20.lag0.indep</td>\n",
       "      <td>20241101</td>\n",
       "      <td>688009</td>\n",
       "      <td>0.050000</td>\n",
       "    </tr>\n",
       "    <tr>\n",
       "      <th>4</th>\n",
       "      <td>Top.gru_day_V0.csi300.Top_20.lag0.indep</td>\n",
       "      <td>20241101</td>\n",
       "      <td>603993</td>\n",
       "      <td>0.050000</td>\n",
       "    </tr>\n",
       "    <tr>\n",
       "      <th>...</th>\n",
       "      <td>...</td>\n",
       "      <td>...</td>\n",
       "      <td>...</td>\n",
       "      <td>...</td>\n",
       "    </tr>\n",
       "    <tr>\n",
       "      <th>2110</th>\n",
       "      <td>Optim.gru_day_V0.csi1000.default.lag0.conti</td>\n",
       "      <td>20241122</td>\n",
       "      <td>2599</td>\n",
       "      <td>0.000001</td>\n",
       "    </tr>\n",
       "    <tr>\n",
       "      <th>2111</th>\n",
       "      <td>Optim.gru_day_V0.csi1000.default.lag0.conti</td>\n",
       "      <td>20241122</td>\n",
       "      <td>603112</td>\n",
       "      <td>0.000001</td>\n",
       "    </tr>\n",
       "    <tr>\n",
       "      <th>2112</th>\n",
       "      <td>Optim.gru_day_V0.csi1000.default.lag0.conti</td>\n",
       "      <td>20241122</td>\n",
       "      <td>301059</td>\n",
       "      <td>0.000001</td>\n",
       "    </tr>\n",
       "    <tr>\n",
       "      <th>2113</th>\n",
       "      <td>Optim.gru_day_V0.csi1000.default.lag0.conti</td>\n",
       "      <td>20241122</td>\n",
       "      <td>600223</td>\n",
       "      <td>0.000001</td>\n",
       "    </tr>\n",
       "    <tr>\n",
       "      <th>2114</th>\n",
       "      <td>Optim.gru_day_V0.csi1000.default.lag0.conti</td>\n",
       "      <td>20241122</td>\n",
       "      <td>301408</td>\n",
       "      <td>0.000001</td>\n",
       "    </tr>\n",
       "  </tbody>\n",
       "</table>\n",
       "<p>8639 rows × 4 columns</p>\n",
       "</div>"
      ],
      "text/plain": [
       "                                             name      date   secid    weight\n",
       "0         Top.gru_day_V0.csi300.Top_20.lag0.indep  20241101     166  0.050000\n",
       "1         Top.gru_day_V0.csi300.Top_20.lag0.indep  20241101     800  0.050000\n",
       "2         Top.gru_day_V0.csi300.Top_20.lag0.indep  20241101  688126  0.050000\n",
       "3         Top.gru_day_V0.csi300.Top_20.lag0.indep  20241101  688009  0.050000\n",
       "4         Top.gru_day_V0.csi300.Top_20.lag0.indep  20241101  603993  0.050000\n",
       "...                                           ...       ...     ...       ...\n",
       "2110  Optim.gru_day_V0.csi1000.default.lag0.conti  20241122    2599  0.000001\n",
       "2111  Optim.gru_day_V0.csi1000.default.lag0.conti  20241122  603112  0.000001\n",
       "2112  Optim.gru_day_V0.csi1000.default.lag0.conti  20241122  301059  0.000001\n",
       "2113  Optim.gru_day_V0.csi1000.default.lag0.conti  20241122  600223  0.000001\n",
       "2114  Optim.gru_day_V0.csi1000.default.lag0.conti  20241122  301408  0.000001\n",
       "\n",
       "[8639 rows x 4 columns]"
      ]
     },
     "execution_count": 10,
     "metadata": {},
     "output_type": "execute_result"
    }
   ],
   "source": [
    "all_fmp_dfs"
   ]
  },
  {
   "cell_type": "code",
   "execution_count": 2,
   "metadata": {},
   "outputs": [
    {
     "data": {
      "text/plain": [
       "{'Optim.gruRTN_day_V0.csi1000.default.lag0.conti': 20241122,\n",
       " 'Optim.gruRTN_day_V0.csi1000.default.lag0.indep': 20241122,\n",
       " 'Optim.gruRTN_day_V0.csi300.default.lag0.conti': 20241122,\n",
       " 'Optim.gruRTN_day_V0.csi300.default.lag0.indep': 20241122,\n",
       " 'Optim.gruRTN_day_V0.csi500.default.lag0.conti': 20241122,\n",
       " 'Optim.gruRTN_day_V0.csi500.default.lag0.indep': 20241122,\n",
       " 'Top.gruRTN_day_V0.csi1000.Top100.lag0.conti': 20241122,\n",
       " 'Top.gruRTN_day_V0.csi1000.Top100.lag0.indep': 20241122,\n",
       " 'Top.gruRTN_day_V0.csi1000.Top_20.lag0.conti': 20241122,\n",
       " 'Top.gruRTN_day_V0.csi1000.Top_20.lag0.indep': 20241122,\n",
       " 'Top.gruRTN_day_V0.csi1000.Top_30.lag0.conti': 20241122,\n",
       " 'Top.gruRTN_day_V0.csi1000.Top_30.lag0.indep': 20241122,\n",
       " 'Top.gruRTN_day_V0.csi1000.Top_50.lag0.conti': 20241122,\n",
       " 'Top.gruRTN_day_V0.csi1000.Top_50.lag0.indep': 20241122,\n",
       " 'Top.gruRTN_day_V0.csi300.Top100.lag0.conti': 20241122,\n",
       " 'Top.gruRTN_day_V0.csi300.Top100.lag0.indep': 20241122,\n",
       " 'Top.gruRTN_day_V0.csi300.Top_20.lag0.conti': 20241122,\n",
       " 'Top.gruRTN_day_V0.csi300.Top_20.lag0.indep': 20241122,\n",
       " 'Top.gruRTN_day_V0.csi300.Top_30.lag0.conti': 20241122,\n",
       " 'Top.gruRTN_day_V0.csi300.Top_30.lag0.indep': 20241122,\n",
       " 'Top.gruRTN_day_V0.csi300.Top_50.lag0.conti': 20241122,\n",
       " 'Top.gruRTN_day_V0.csi300.Top_50.lag0.indep': 20241122,\n",
       " 'Top.gruRTN_day_V0.csi500.Top100.lag0.conti': 20241122,\n",
       " 'Top.gruRTN_day_V0.csi500.Top100.lag0.indep': 20241122,\n",
       " 'Top.gruRTN_day_V0.csi500.Top_20.lag0.conti': 20241122,\n",
       " 'Top.gruRTN_day_V0.csi500.Top_20.lag0.indep': 20241122,\n",
       " 'Top.gruRTN_day_V0.csi500.Top_30.lag0.conti': 20241122,\n",
       " 'Top.gruRTN_day_V0.csi500.Top_30.lag0.indep': 20241122,\n",
       " 'Top.gruRTN_day_V0.csi500.Top_50.lag0.conti': 20241122,\n",
       " 'Top.gruRTN_day_V0.csi500.Top_50.lag0.indep': 20241122}"
      ]
     },
     "execution_count": 2,
     "metadata": {},
     "output_type": "execute_result"
    }
   ],
   "source": [
    "from typing import Literal , Optional\n",
    "from pathlib import Path\n",
    "import pandas as pd\n",
    "\n",
    "from src.basic import RegisteredModel , INSTANCE_RECORD , CONF\n",
    "\n",
    "from src.factor.fmp import PortfolioAccountant , parse_full_name\n",
    "from src.factor.analytic import FmpOptimManager , FmpTopManager\n",
    "from src.factor.analytic.fmp_optim.calculator import BaseOptimCalc\n",
    "from src.factor.analytic.fmp_top.calculator import BaseTopPortCalc\n",
    "from src.factor.util import StockFactor\n",
    "\n",
    "account_path = './data/Export/factor_model_account/gruRTN_day_V0/Top.gruRTN_day_V0.csi500.Top_50.lag0.indep.pkl'\n",
    "account_dir = './data/Export/factor_model_account/gruRTN_day_V0'\n",
    "class AdvancePortfolioAccountant:   \n",
    "    OPT_TASK_LIST = FmpOptimManager.TASK_LIST\n",
    "    TOP_TASK_LIST = FmpTopManager.TASK_LIST\n",
    "    def __init__(self , **accounts : pd.DataFrame):\n",
    "        self.accounts = accounts\n",
    "        self.tasks : dict[str , BaseOptimCalc | BaseTopPortCalc] = {}\n",
    "    \n",
    "    def __repr__(self):\n",
    "        return f'{self.__class__.__name__}({self.accounts.keys()})'\n",
    "\n",
    "    def filter_accounts(self , **kwargs):\n",
    "        dfs : dict[str,pd.DataFrame] = {}\n",
    "        for name , df in self.accounts.items():\n",
    "            elements = parse_full_name(name)\n",
    "            if any([elements[k] != v for k,v in kwargs.items() if k in elements]):\n",
    "                continue\n",
    "            dfs[name] = df\n",
    "        return dfs\n",
    "\n",
    "    def total_account(self , category : Literal['optim' , 'top'] , **kwargs):\n",
    "        '''\n",
    "        kwargs indicate other filters , such as suffixes == ['indep'] or ['conti'] \n",
    "        '''\n",
    "        dfs = self.filter_accounts(category = category , **kwargs)\n",
    "        if not dfs:\n",
    "            print(f'No {category} accounts to account!')\n",
    "            return pd.DataFrame()\n",
    "        df = pd.concat(dfs.values())\n",
    "        old_index = list(df.index.names)\n",
    "        df = df.reset_index().sort_values('model_date')\n",
    "        df['benchmark'] = pd.Categorical(df['benchmark'] , categories = CONF.CATEGORIES_BENCHMARKS , ordered=True) \n",
    "\n",
    "        df = df.set_index(old_index).sort_index()\n",
    "        INSTANCE_RECORD['account'] = df\n",
    "        return df\n",
    "\n",
    "    def load(self , path : str | Path , missing_ok = True , append = True):\n",
    "        path = Path(path)\n",
    "        assert missing_ok or path.exists() , f'{path} not exist'\n",
    "        df = pd.read_pickle(path) \n",
    "        if path.stem in self.accounts:\n",
    "            if append:\n",
    "                df = pd.concat([df , self.accounts[path.stem]]).drop_duplicates(subset=['model_date'])\n",
    "            else:\n",
    "                raise KeyError(f'{path.stem} is already in the accounts')\n",
    "        self.accounts[path.stem] = df\n",
    "        return self\n",
    "    \n",
    "    def load_dir(self , fmp_dir : str | Path , append = True):\n",
    "        fmp_dir = Path(fmp_dir)\n",
    "        [self.load(path , append = append) for path in fmp_dir.iterdir() if path.suffix == '.pkl']\n",
    "        return self\n",
    "    \n",
    "    def deploy(self , fmp_dir : str | Path , overwrite = False):\n",
    "        fmp_dir = Path(fmp_dir)\n",
    "        fmp_paths = {p:fmp_dir.joinpath(p) for p in self.accounts}\n",
    "        if not overwrite:\n",
    "            existed = [path for path in fmp_paths.values() if path.exists()]\n",
    "            assert not existed , f'Existed paths : {existed}'\n",
    "        for p in self.accounts:\n",
    "            self.accounts[p].to_pickle(fmp_paths[p])\n",
    "        return self\n",
    "    \n",
    "    def select_analytic(self , category : Literal['optim' , 'top'] , task_name : str):\n",
    "        task_list = self.TOP_TASK_LIST if category == 'top' else self.OPT_TASK_LIST\n",
    "        match_tasks = [task for task in task_list if task.match_name(task_name)]\n",
    "        assert match_tasks , f'no match tasks : {task_name}'\n",
    "        assert len(match_tasks) <= 1, f'Duplicate match tasks: {match_tasks}'\n",
    "        use_name = match_tasks[0].__name__\n",
    "        if use_name not in self.tasks:\n",
    "             self.tasks[use_name] = match_tasks[0]()\n",
    "        return self.tasks[use_name]\n",
    "\n",
    "    def analyze(self , category : Literal['optim' , 'top'] ,\n",
    "                task_name : Literal['FrontFace', 'Perf_Curve', 'Perf_Drawdown', 'Perf_Year', 'Perf_Month',\n",
    "                                    'Perf_Excess','Perf_Lag','Exp_Style','Exp_Style','Exp_Indus',\n",
    "                                    'Attrib_Source','Attrib_Style'] | str , \n",
    "                plot = True , display = True , **kwargs):\n",
    "        account = self.total_account(category , **kwargs)\n",
    "        if account.empty: return self\n",
    "        task = self.select_analytic(category , task_name)\n",
    "        task.calc(account)\n",
    "        if plot: task.plot(show = display)  \n",
    "        return self      \n",
    "    \n",
    "    def last_account_date(self):\n",
    "        return {name:df['model_date'].max() for name,df in self.accounts.items() if not df.empty}\n",
    "\n",
    "reg_model = RegisteredModel.SelectModels('gru_day_V0')[0]\n",
    "d = 20241101\n",
    "a = StockFactor(reg_model.load_pred(d).assign(date = d))\n",
    "\n",
    "adv = AdvancePortfolioAccountant()\n",
    "adv.load_dir(account_dir)\n",
    "adv.total_account('top' , suffixes = ['indep'])\n",
    "# adv.analyze('top' , 'FrontFace' , suffixes = ['indep'])\n",
    "adv.last_account_date()"
   ]
  },
  {
   "cell_type": "code",
   "execution_count": 23,
   "metadata": {},
   "outputs": [
    {
     "data": {
      "text/plain": [
       "dict_keys(['Optim.gruRTN_day_V0.csi1000.default.lag0.conti', 'Optim.gruRTN_day_V0.csi1000.default.lag0.indep', 'Optim.gruRTN_day_V0.csi300.default.lag0.conti', 'Optim.gruRTN_day_V0.csi300.default.lag0.indep', 'Optim.gruRTN_day_V0.csi500.default.lag0.conti', 'Optim.gruRTN_day_V0.csi500.default.lag0.indep', 'Top.gruRTN_day_V0.csi1000.Top100.lag0.conti', 'Top.gruRTN_day_V0.csi1000.Top100.lag0.indep', 'Top.gruRTN_day_V0.csi1000.Top_20.lag0.conti', 'Top.gruRTN_day_V0.csi1000.Top_20.lag0.indep', 'Top.gruRTN_day_V0.csi1000.Top_30.lag0.conti', 'Top.gruRTN_day_V0.csi1000.Top_30.lag0.indep', 'Top.gruRTN_day_V0.csi1000.Top_50.lag0.conti', 'Top.gruRTN_day_V0.csi1000.Top_50.lag0.indep', 'Top.gruRTN_day_V0.csi300.Top100.lag0.conti', 'Top.gruRTN_day_V0.csi300.Top100.lag0.indep', 'Top.gruRTN_day_V0.csi300.Top_20.lag0.conti', 'Top.gruRTN_day_V0.csi300.Top_20.lag0.indep', 'Top.gruRTN_day_V0.csi300.Top_30.lag0.conti', 'Top.gruRTN_day_V0.csi300.Top_30.lag0.indep', 'Top.gruRTN_day_V0.csi300.Top_50.lag0.conti', 'Top.gruRTN_day_V0.csi300.Top_50.lag0.indep', 'Top.gruRTN_day_V0.csi500.Top100.lag0.conti', 'Top.gruRTN_day_V0.csi500.Top100.lag0.indep', 'Top.gruRTN_day_V0.csi500.Top_20.lag0.conti', 'Top.gruRTN_day_V0.csi500.Top_20.lag0.indep', 'Top.gruRTN_day_V0.csi500.Top_30.lag0.conti', 'Top.gruRTN_day_V0.csi500.Top_30.lag0.indep', 'Top.gruRTN_day_V0.csi500.Top_50.lag0.conti', 'Top.gruRTN_day_V0.csi500.Top_50.lag0.indep'])"
      ]
     },
     "execution_count": 23,
     "metadata": {},
     "output_type": "execute_result"
    }
   ],
   "source": [
    "adv.accounts.keys()"
   ]
  },
  {
   "cell_type": "code",
   "execution_count": 4,
   "metadata": {},
   "outputs": [
    {
     "data": {
      "image/png": "[encoded data removed]",
      "text/plain": [
       "<Figure size 1600x700 with 1 Axes>"
      ]
     },
     "metadata": {},
     "output_type": "display_data"
    }
   ],
   "source": [
    "adv.analyze('FacTor_FrontFace')"
   ]
  },
  {
   "cell_type": "code",
   "execution_count": 2,
   "metadata": {},
   "outputs": [
    {
     "data": {
      "text/plain": [
       "['Factor_FrontFace',\n",
       " 'Factor_IC_Curve',\n",
       " 'Factor_IC_Decay',\n",
       " 'Factor_IC_Indus',\n",
       " 'Factor_IC_Year',\n",
       " 'Factor_IC_Benchmark',\n",
       " 'Factor_IC_Monotony',\n",
       " 'Factor_PnL_Curve',\n",
       " 'Factor_Style_Corr',\n",
       " 'Factor_Group_Curve',\n",
       " 'Factor_Group_Decay',\n",
       " 'Factor_Group_IR_Decay',\n",
       " 'Factor_Group_Year',\n",
       " 'Factor_Distrib_Curve']"
      ]
     },
     "execution_count": 2,
     "metadata": {},
     "output_type": "execute_result"
    }
   ],
   "source": [
    "adv.anlaytic_names()"
   ]
  },
  {
   "cell_type": "code",
   "execution_count": 24,
   "metadata": {},
   "outputs": [
    {
     "ename": "AttributeError",
     "evalue": "'StockFactor' object has no attribute 'analytic_list'",
     "output_type": "error",
     "traceback": [
      "\u001b[1;31m---------------------------------------------------------------------------\u001b[0m",
      "\u001b[1;31mAttributeError\u001b[0m                            Traceback (most recent call last)",
      "Cell \u001b[1;32mIn[24], line 1\u001b[0m\n\u001b[1;32m----> 1\u001b[0m \u001b[43madv\u001b[49m\u001b[38;5;241;43m.\u001b[39;49m\u001b[43manalytic_list\u001b[49m()\n",
      "\u001b[1;31mAttributeError\u001b[0m: 'StockFactor' object has no attribute 'analytic_list'"
     ]
    }
   ],
   "source": [
    "adv.analytic_list()"
   ]
  }
 ],
 "metadata": {
  "kernelspec": {
   "display_name": "Python 3",
   "language": "python",
   "name": "python3"
  },
  "language_info": {
   "codemirror_mode": {
    "name": "ipython",
    "version": 3
   },
   "file_extension": ".py",
   "mimetype": "text/x-python",
   "name": "python",
   "nbconvert_exporter": "python",
   "pygments_lexer": "ipython3",
   "version": "3.11.8"
  }
 },
 "nbformat": 4,
 "nbformat_minor": 2
}
