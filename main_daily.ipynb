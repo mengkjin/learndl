{
 "cells": [
  {
   "cell_type": "code",
   "execution_count": 2,
   "metadata": {},
   "outputs": [
    {
     "name": "stdout",
     "output_type": "stream",
     "text": [
      "Update Files\n",
      "Sun Nov  3 19:10:58 2024 : Updated ~ DB_information\\calendar.feather Done! Cost 0.01 Secs\n",
      "Sun Nov  3 19:10:59 2024 : Updated ~ DB_information\\description.feather Done! Cost 0.04 Secs\n",
      "Sun Nov  3 19:10:59 2024 : Updated ~ DB_information\\st.feather Done! Cost 0.02 Secs\n",
      "Sun Nov  3 19:11:01 2024 : Updated ~ DB_information\\industry.feather Done! Cost 2.43 Secs\n",
      "Sun Nov  3 19:11:07 2024 : Updated ~ DB_information\\concepts.feather Done! Cost 6.20 Secs\n"
     ]
    }
   ],
   "source": [
    "from src.api import DataAPI , ModelPredictor , ModelHiddenExtractor\n",
    "from pymysql.err import OperationalError\n",
    "try:\n",
    "    DataAPI.update()\n",
    "except Exception:\n",
    "    pass\n",
    "\n",
    "print('prepare_predict_data')\n",
    "DataAPI.prepare_predict_data()\n",
    "\n",
    "ModelHiddenExtractor.update_hidden('gru_day' , model_submodels=['best'])\n",
    "ModelPredictor.update_factors()"
   ]
  },
  {
   "cell_type": "code",
   "execution_count": 1,
   "metadata": {},
   "outputs": [
    {
     "name": "stdout",
     "output_type": "stream",
     "text": [
      "prepare_predict_data\n",
      "predict is True , Data Processing start!\n",
      "6 datas :['y', 'day', '30m', 'style', 'indus', 'week']\n",
      "y blocks loading start!\n",
      " --> labels blocks reading [ret10_lag] DataBase...... finished! Cost 2.79 secs\n",
      " --> labels blocks reading [ret20_lag] DataBase...... finished! Cost 2.27 secs\n",
      " --> labels blocks merging (2)...... finished! Cost 0.39 secs\n",
      " --> models blocks reading [risk_exp] DataBase...... finished! Cost 5.45 secs\n",
      "y blocks loading finished! Cost 11.57 secs\n",
      "y blocks process...... finished! Cost 11.99 secs\n",
      "y blocks masking...... finished! Cost 0.18 secs\n",
      "y blocks saving ...... finished! Cost 0.23 secs\n",
      "y blocks norming...... finished! Cost 0.00 secs\n",
      "y finished! Cost 24.13 Seconds\n",
      "--------------------------------------------------------------------------------\n",
      "day blocks loading start!\n",
      " --> trade blocks reading [day] DataBase...... finished! Cost 2.46 secs\n",
      "day blocks loading finished! Cost 2.50 secs\n",
      "day blocks process...... finished! Cost 0.20 secs\n",
      "day blocks masking...... finished! Cost 0.12 secs\n",
      "day blocks saving ...... finished! Cost 0.19 secs\n",
      "day blocks norming...... finished! Cost 0.00 secs\n",
      "day finished! Cost 3.12 Seconds\n",
      "--------------------------------------------------------------------------------\n",
      "30m blocks loading start!\n",
      " --> trade blocks reading [30min] DataBase...... finished! Cost 10.12 secs\n",
      " --> trade blocks reading [day] DataBase...... finished! Cost 2.60 secs\n",
      "30m blocks loading finished! Cost 12.80 secs\n",
      "30m blocks process...... finished! Cost 2.66 secs\n",
      "30m blocks masking...... finished! Cost 0.23 secs\n",
      "30m blocks saving ...... finished! Cost 3.36 secs\n",
      "30m blocks norming...... finished! Cost 0.00 secs\n",
      "30m finished! Cost 19.17 Seconds\n",
      "--------------------------------------------------------------------------------\n",
      "style blocks loading start!\n",
      " --> models blocks reading [risk_exp] DataBase...... finished! Cost 2.97 secs\n",
      "style blocks loading finished! Cost 3.08 secs\n",
      "style blocks process...... finished! Cost 0.00 secs\n",
      "style blocks masking...... finished! Cost 0.38 secs\n",
      "style blocks saving ...... finished! Cost 0.46 secs\n",
      "style blocks norming...... finished! Cost 0.00 secs\n",
      "style finished! Cost 4.06 Seconds\n",
      "--------------------------------------------------------------------------------\n",
      "indus blocks loading start!\n",
      " --> models blocks reading [risk_exp] DataBase...... finished! Cost 5.17 secs\n",
      "indus blocks loading finished! Cost 5.17 secs\n",
      "indus blocks process...... finished! Cost 0.00 secs\n",
      "indus blocks masking...... finished! Cost 0.47 secs\n",
      "indus blocks saving ...... finished! Cost 2.50 secs\n",
      "indus blocks norming...... finished! Cost 0.00 secs\n",
      "indus finished! Cost 8.27 Seconds\n",
      "--------------------------------------------------------------------------------\n",
      "week blocks loading start!\n",
      " --> trade blocks reading [day] DataBase...... finished! Cost 4.17 secs\n",
      "week blocks loading finished! Cost 4.21 secs\n",
      "week blocks process...... finished! Cost 2.76 secs\n",
      "week blocks masking...... finished! Cost 0.80 secs\n",
      "week blocks saving ...... finished! Cost 4.43 secs\n",
      "week blocks norming...... finished! Cost 0.00 secs\n",
      "week finished! Cost 12.43 Seconds\n",
      "--------------------------------------------------------------------------------\n",
      "Data Processing Finished! Cost 71.18 Seconds\n",
      "--------------------------------------------------------------------------------\n",
      "Beware! Should be at server or short_test, but short_test is False now!\n",
      "try using d:\\Coding\\learndl\\learndl\\data\\DataSet/day.20240607.pt , success!\n",
      "Load  2 DataBlocks...... finished! Cost 0.18 secs\n",
      "Align 2 DataBlocks...... finished! Cost 0.23 secs\n",
      "Pre-Norming method of [day] : {'divlast': True, 'histnorm': True}\n"
     ]
    },
    {
     "name": "stderr",
     "output_type": "stream",
     "text": [
      "100%|██████████| 316/316 [00:00<00:00, 2031.04it/s]\n",
      "100%|██████████| 316/316 [00:00<00:00, 1676.43it/s]\n"
     ]
    },
    {
     "name": "stdout",
     "output_type": "stream",
     "text": [
      "--------------------------------------------------------------------------------\n"
     ]
    },
    {
     "name": "stderr",
     "output_type": "stream",
     "text": [
      "  0%|          | 0/96 [00:00<?, ?it/s]"
     ]
    },
    {
     "name": "stdout",
     "output_type": "stream",
     "text": [
      "Finish model [gru_day] predicting!\n"
     ]
    },
    {
     "name": "stderr",
     "output_type": "stream",
     "text": [
      "  0%|          | 0/96 [00:00<?, ?it/s]"
     ]
    },
    {
     "name": "stdout",
     "output_type": "stream",
     "text": [
      "Finish model [gruRTN_day] predicting!\n"
     ]
    },
    {
     "name": "stderr",
     "output_type": "stream",
     "text": [
      "  0%|          | 0/96 [00:00<?, ?it/s]"
     ]
    },
    {
     "name": "stdout",
     "output_type": "stream",
     "text": [
      "Finish model [gru_avg] predicting!\n",
      "--------------------------------------------------------------------------------\n"
     ]
    },
    {
     "data": {
      "text/plain": [
       "ModelPredictor(reg_model=RegisteredModel(name=gru_avg,type=swalast,num=all,alias=gru_day_V1))"
      ]
     },
     "execution_count": 1,
     "metadata": {},
     "output_type": "execute_result"
    }
   ],
   "source": [
    "from src.api import DataAPI , ModelPredictor , ModelHiddenExtractor\n",
    "from pymysql.err import OperationalError\n",
    "\n",
    "print('prepare_predict_data')\n",
    "DataAPI.prepare_predict_data()\n",
    "\n",
    "\n",
    "ModelHiddenExtractor.update_hidden('gru_day' , model_submodels=['best'])\n",
    "ModelPredictor.update_factors()"
   ]
  },
  {
   "cell_type": "code",
   "execution_count": 1,
   "metadata": {},
   "outputs": [
    {
     "name": "stdout",
     "output_type": "stream",
     "text": [
      "Update Files\n",
      "Thu Sep 19 00:49:45 2024 : Updated ~ DB_information\\calendar.feather Done! Cost 0.02 Secs\n",
      "Thu Sep 19 00:49:45 2024 : Updated ~ DB_information\\description.feather Done! Cost 0.03 Secs\n",
      "Thu Sep 19 00:49:45 2024 : Updated ~ DB_information\\st.feather Done! Cost 0.02 Secs\n",
      "Thu Sep 19 00:49:48 2024 : Updated ~ DB_information\\industry.feather Done! Cost 2.55 Secs\n",
      "Thu Sep 19 00:49:53 2024 : Updated ~ DB_information\\concepts.feather Done! Cost 5.54 Secs\n",
      "Thu Sep 19 00:49:55 2024 : Updated ~ DB_models\\longcl_exp\\2024\\longcl_exp.20240913.feather Done! Cost 0.10 Secs\n",
      "Thu Sep 19 00:49:55 2024 : Updated ~ DB_models\\risk_exp\\2024\\risk_exp.20240918.feather Done! Cost 0.05 Secs\n",
      "Thu Sep 19 00:49:55 2024 : Updated ~ DB_models\\risk_cov\\2024\\risk_cov.20240918.feather Done! Cost 0.02 Secs\n",
      "Thu Sep 19 00:49:55 2024 : Updated ~ DB_models\\risk_spec\\2024\\risk_spec.20240918.feather Done! Cost 0.01 Secs\n",
      "Thu Sep 19 00:49:57 2024 : Updated ~ DB_trade\\day\\2024\\day.20240918.feather Done! Cost 0.05 Secs\n",
      "Thu Sep 19 00:49:57 2024 : Updated ~ DB_trade\\5day\\2024\\5day.20240918.feather Done! Cost 0.25 Secs\n",
      "Thu Sep 19 00:49:58 2024 : Updated ~ DB_trade\\10day\\2024\\10day.20240918.feather Done! Cost 0.48 Secs\n",
      "Thu Sep 19 00:49:58 2024 : Updated ~ DB_trade\\20day\\2024\\20day.20240918.feather Done! Cost 0.92 Secs\n",
      "Thu Sep 19 00:50:02 2024 : Updated ~ DB_trade\\min\\2024\\min.20240918.feather Done! Cost 3.12 Secs\n",
      "Thu Sep 19 00:50:02 2024 : Updated ~ DB_trade\\5min\\2024\\5min.20240918.feather Done! Cost 0.33 Secs\n",
      "Thu Sep 19 00:50:02 2024 : Updated ~ DB_trade\\10min\\2024\\10min.20240918.feather Done! Cost 0.27 Secs\n",
      "Thu Sep 19 00:50:02 2024 : Updated ~ DB_trade\\15min\\2024\\15min.20240918.feather Done! Cost 0.26 Secs\n",
      "Thu Sep 19 00:50:03 2024 : Updated ~ DB_trade\\30min\\2024\\30min.20240918.feather Done! Cost 0.29 Secs\n",
      "Thu Sep 19 00:50:03 2024 : Updated ~ DB_trade\\60min\\2024\\60min.20240918.feather Done! Cost 0.28 Secs\n",
      "Thu Sep 19 00:50:06 2024 : Updated ~ DB_labels\\ret20_lag\\2024\\ret20_lag.20240816.feather Done! Cost 0.78 Secs\n",
      "Thu Sep 19 00:50:06 2024 : Updated ~ DB_labels\\ret20\\2024\\ret20.20240819.feather Done! Cost 0.67 Secs\n",
      "Thu Sep 19 00:50:15 2024 : Updated ~ DB_labels\\ret10_lag\\2024\\ret10_lag.20240830.feather Done! Cost 0.52 Secs\n",
      "Thu Sep 19 00:50:16 2024 : Updated ~ DB_labels\\ret10\\2024\\ret10.20240902.feather Done! Cost 0.53 Secs\n",
      "Thu Sep 19 00:50:24 2024 : Updated ~ DB_labels\\ret5_lag\\2024\\ret5_lag.20240906.feather Done! Cost 0.55 Secs\n",
      "Thu Sep 19 00:50:26 2024 : Updated ~ DB_labels\\ret5\\2024\\ret5.20240909.feather Done! Cost 0.50 Secs\n",
      "Thu Sep 19 00:50:41 2024 : download since!\n",
      "Connection and Factor preparation finished!\n",
      "Thu Sep 19 00:50:41 2024 : sellside/dongfang.hfq_chars from 20240914 to 20240919, total 1 periods\n",
      "Start sellside/dongfang.hfq_chars:20240914-20240919 \n",
      "Done sellside/dongfang.hfq_chars:20240914-20240919, cost 2.8 Secs\n",
      "Thu Sep 19 00:50:44 2024 : sellside/dongfang.l2_chars from 20240914 to 20240919, total 1 periods\n",
      "Start sellside/dongfang.l2_chars:20240914-20240919 \n",
      "Done sellside/dongfang.l2_chars:20240914-20240919, cost 29.2 Secs\n",
      "Thu Sep 19 00:51:13 2024 : sellside/dongfang.ms_chars from 20240914 to 20240919, total 1 periods\n",
      "Start sellside/dongfang.ms_chars:20240914-20240919 \n",
      "Done sellside/dongfang.ms_chars:20240914-20240919, cost 46.2 Secs\n",
      "Thu Sep 19 00:52:00 2024 : sellside/dongfang.order_flow from 20240914 to 20240919, total 1 periods\n",
      "Start sellside/dongfang.order_flow:20240914-20240919 \n",
      "Done sellside/dongfang.order_flow:20240914-20240919, cost 0.9 Secs\n",
      "Thu Sep 19 00:52:01 2024 : sellside/dongfang.gp from 20240914 to 20240919, total 1 periods\n",
      "Start sellside/dongfang.gp:20240914-20240919 \n",
      "Done sellside/dongfang.gp:20240914-20240919, cost 1.8 Secs\n",
      "Thu Sep 19 00:52:02 2024 : sellside/dongfang.tra from 20240914 to 20240919, total 1 periods\n",
      "Start sellside/dongfang.tra:20240914-20240919 \n",
      "Done sellside/dongfang.tra:20240914-20240919, cost 1.3 Secs\n",
      "Thu Sep 19 00:52:04 2024 : sellside/dongfang.hist from 20240914 to 20240919, total 1 periods\n",
      "Start sellside/dongfang.hist:20240914-20240919 \n",
      "Done sellside/dongfang.hist:20240914-20240919, cost 1.1 Secs\n",
      "Thu Sep 19 00:52:05 2024 : sellside/dongfang.scores_v0 from 20240914 to 20240919, total 1 periods\n",
      "Start sellside/dongfang.scores_v0:20240914-20240919 \n",
      "Done sellside/dongfang.scores_v0:20240914-20240919, cost 1.5 Secs\n",
      "Thu Sep 19 00:52:06 2024 : sellside/dongfang.factorvae from 20240914 to 20240919, total 1 periods\n",
      "Start sellside/dongfang.factorvae:20240914-20240919 \n",
      "Done sellside/dongfang.factorvae:20240914-20240919, cost 1.1 Secs\n",
      "Thu Sep 19 00:52:08 2024 : sellside/huatai.dl_factors from 20240914 to 20240919, total 1 periods\n",
      "Start sellside/huatai.dl_factors:20240914-20240919 \n",
      "Done sellside/huatai.dl_factors:20240914-20240919, cost 0.8 Secs\n",
      "Thu Sep 19 00:52:08 2024 : All Updates Done! Cost 143.04 Secs\n",
      "--------------------------------------------------------------------------------\n",
      "Calendar Updating information_ts/calendar at 20240919\n",
      "Description Updating information_ts/description at 20240919\n",
      "SWIndustry Updating information_ts/industry at 20240919\n",
      "ChangeName Updating information_ts/change_name at 20240919\n",
      "THSConcept Already Updated at 20240831\n",
      "DailyValuation Updating trade_ts/day_val at 20240914\n",
      "DailyValuation Updating trade_ts/day_val at 20240915\n",
      "DailyValuation Updating trade_ts/day_val at 20240916\n",
      "DailyValuation Updating trade_ts/day_val at 20240917\n",
      "DailyValuation Updating trade_ts/day_val at 20240918\n",
      "DailyValuation Updating trade_ts/day_val at 20240919\n",
      "DailyQuote Updating trade_ts/day at 20240914\n",
      "DailyQuote Updating trade_ts/day at 20240915\n",
      "DailyQuote Updating trade_ts/day at 20240916\n",
      "DailyQuote Updating trade_ts/day at 20240917\n",
      "DailyQuote Updating trade_ts/day at 20240918\n",
      "DailyQuote Updating trade_ts/day at 20240919\n",
      "FinaIndicator Already Updated at 20240630\n",
      "Finish exposure update at date 20240918\n",
      "Finish risk update at date 20240918\n",
      "--------------------------------------------------------------------------------\n",
      "predict is True , Data Processing start!\n",
      "6 datas :['y', 'day', '30m', 'style', 'indus', 'week']\n",
      "y blocks loading start!\n",
      " --> labels blocks reading [ret10_lag] DataBase...... finished! Cost 0.83 secs\n",
      " --> labels blocks reading [ret20_lag] DataBase...... finished! Cost 0.90 secs\n",
      " --> labels blocks merging (2)...... finished! Cost 0.17 secs\n",
      " --> models blocks reading [risk_exp] DataBase...... finished! Cost 3.16 secs\n",
      "y blocks loading finished! Cost 5.46 secs\n",
      "y blocks process...... finished! Cost 5.66 secs\n",
      "y blocks masking...... finished! Cost 0.10 secs\n",
      "y blocks saving ...... finished! Cost 0.17 secs\n",
      "y blocks norming...... finished! Cost 0.00 secs\n",
      "y finished! Cost 11.53 Seconds\n",
      "--------------------------------------------------------------------------------\n",
      "day blocks loading start!\n",
      " --> trade blocks reading [day] DataBase...... finished! Cost 1.33 secs\n",
      "day blocks loading finished! Cost 1.37 secs\n",
      "day blocks process...... finished! Cost 0.15 secs\n",
      "day blocks masking...... finished! Cost 0.10 secs\n",
      "day blocks saving ...... finished! Cost 0.13 secs\n",
      "day blocks norming...... finished! Cost 0.00 secs\n",
      "day finished! Cost 1.85 Seconds\n",
      "--------------------------------------------------------------------------------\n",
      "30m blocks loading start!\n",
      " --> trade blocks reading [30min] DataBase...... finished! Cost 5.68 secs\n",
      " --> trade blocks reading [day] DataBase...... finished! Cost 1.30 secs\n",
      "30m blocks loading finished! Cost 7.05 secs\n",
      "30m blocks process...... finished! Cost 1.77 secs\n",
      "30m blocks masking...... finished! Cost 0.18 secs\n",
      "30m blocks saving ...... finished! Cost 2.40 secs\n",
      "30m blocks norming...... finished! Cost 0.00 secs\n",
      "30m finished! Cost 11.53 Seconds\n",
      "--------------------------------------------------------------------------------\n",
      "style blocks loading start!\n",
      " --> models blocks reading [risk_exp] DataBase...... finished! Cost 1.78 secs\n",
      "style blocks loading finished! Cost 1.82 secs\n",
      "style blocks process...... finished! Cost 0.00 secs\n",
      "style blocks masking...... finished! Cost 0.08 secs\n",
      "style blocks saving ...... finished! Cost 0.30 secs\n",
      "style blocks norming...... finished! Cost 0.00 secs\n",
      "style finished! Cost 2.30 Seconds\n",
      "--------------------------------------------------------------------------------\n",
      "indus blocks loading start!\n",
      " --> models blocks reading [risk_exp] DataBase...... finished! Cost 2.72 secs\n",
      "indus blocks loading finished! Cost 2.73 secs\n",
      "indus blocks process...... finished! Cost 0.00 secs\n",
      "indus blocks masking...... finished! Cost 0.13 secs\n",
      "indus blocks saving ...... finished! Cost 1.25 secs\n",
      "indus blocks norming...... finished! Cost 0.00 secs\n",
      "indus finished! Cost 4.25 Seconds\n",
      "--------------------------------------------------------------------------------\n",
      "week blocks loading start!\n",
      " --> trade blocks reading [day] DataBase...... finished! Cost 2.40 secs\n",
      "week blocks loading finished! Cost 2.44 secs\n",
      "week blocks process...... finished! Cost 1.85 secs\n",
      "week blocks masking...... finished! Cost 0.22 secs\n",
      "week blocks saving ...... finished! Cost 3.12 secs\n",
      "week blocks norming...... finished! Cost 0.00 secs\n",
      "week finished! Cost 7.80 Seconds\n",
      "--------------------------------------------------------------------------------\n",
      "Data Processing Finished! Cost 39.25 Seconds\n",
      "--------------------------------------------------------------------------------\n",
      "Finish model [gru_day] predicting!\n",
      "Finish model [gruRTN_day] predicting!\n",
      "Finish model [gru_avg] predicting!\n",
      "--------------------------------------------------------------------------------\n"
     ]
    },
    {
     "data": {
      "text/plain": [
       "Predictor(reg_model=RegModel(name=gru_avg,type=swabest,num=all,alias=gru_day_V1))"
      ]
     },
     "execution_count": 1,
     "metadata": {},
     "output_type": "execute_result"
    }
   ],
   "source": [
    "from src.api import DataAPI , ModelPredictor\n",
    "\n",
    "DataAPI.update()\n",
    "DataAPI.prepare_predict_data()\n",
    "ModelPredictor.update_factors()"
   ]
  },
  {
   "cell_type": "code",
   "execution_count": 8,
   "metadata": {},
   "outputs": [
    {
     "data": {
      "text/html": [
       "<div>\n",
       "<style scoped>\n",
       "    .dataframe tbody tr th:only-of-type {\n",
       "        vertical-align: middle;\n",
       "    }\n",
       "\n",
       "    .dataframe tbody tr th {\n",
       "        vertical-align: top;\n",
       "    }\n",
       "\n",
       "    .dataframe thead th {\n",
       "        text-align: right;\n",
       "    }\n",
       "</style>\n",
       "<table border=\"1\" class=\"dataframe\">\n",
       "  <thead>\n",
       "    <tr style=\"text-align: right;\">\n",
       "      <th></th>\n",
       "    </tr>\n",
       "  </thead>\n",
       "  <tbody>\n",
       "  </tbody>\n",
       "</table>\n",
       "</div>"
      ],
      "text/plain": [
       "Empty DataFrame\n",
       "Columns: []\n",
       "Index: []"
      ]
     },
     "execution_count": 8,
     "metadata": {},
     "output_type": "execute_result"
    }
   ],
   "source": [
    "from src.data.tushare.download.info import Calendar , pro\n",
    "renamer = {'cal_date' : 'calendar' ,'is_open'  : 'trade'}\n",
    "fields = None\n",
    "df = pro.trade_cal(exchange='SSE').rename(columns=renamer)\n",
    "#df = df.sort_values('calendar').reset_index(drop = True)\n",
    "df"
   ]
  },
  {
   "cell_type": "code",
   "execution_count": 10,
   "metadata": {},
   "outputs": [
    {
     "name": "stdout",
     "output_type": "stream",
     "text": [
      "Finish model [gru_day] predicting!\n",
      "Finish model [gruRTN_day] predicting!\n",
      "Finish model [gru_avg] predicting!\n",
      "--------------------------------------------------------------------------------\n"
     ]
    }
   ],
   "source": [
    "# DataAPI.prepare_predict_data()\n",
    "ModelPredictor.update_factors()"
   ]
  },
  {
   "cell_type": "code",
   "execution_count": 2,
   "metadata": {},
   "outputs": [
    {
     "name": "stdout",
     "output_type": "stream",
     "text": [
      "Finish model [gru_day] predicting!\n",
      "Finish model [gruRTN_day] predicting!\n",
      "Finish model [gru_avg] predicting!\n",
      "--------------------------------------------------------------------------------\n"
     ]
    }
   ],
   "source": [
    "from src.api import DataAPI , ModelPredictor\n",
    "# DataAPI.prepare_predict_data()\n",
    "md = ModelPredictor.update_factors()"
   ]
  },
  {
   "cell_type": "code",
   "execution_count": null,
   "metadata": {},
   "outputs": [
    {
     "name": "stdout",
     "output_type": "stream",
     "text": [
      "Load  2 DataBlocks ..."
     ]
    },
    {
     "name": "stdout",
     "output_type": "stream",
     "text": [
      "... cost 0.22 secs\n",
      "Align 2 DataBlocks ...... cost 0.21 secs\n",
      "Pre-Norming method of [day] : {'divlast': True, 'histnorm': True}\n",
      "x shape is torch.Size([5064, 30, 6])\n",
      "y shape is torch.Size([5064, 1])\n",
      "Test Forward Success\n",
      "metrics :  Metrics.MetricOutput(loss=tensor(1.0688, grad_fn=<AddBackward0>), score=-0.015420470386743546, loss_item=1.068833589553833, penalty=0.0, losses=tensor(1.0688, grad_fn=<ExpBackward0>))\n",
      "Test Metrics Success\n"
     ]
    }
   ],
   "source": [
    "from src.api import ModelTestor\n",
    "model = ModelTestor('ts_mixer')\n",
    "model.try_forward()\n",
    "model.try_metrics()"
   ]
  }
 ],
 "metadata": {
  "kernelspec": {
   "display_name": "Python 3",
   "language": "python",
   "name": "python3"
  },
  "language_info": {
   "codemirror_mode": {
    "name": "ipython",
    "version": 3
   },
   "file_extension": ".py",
   "mimetype": "text/x-python",
   "name": "python",
   "nbconvert_exporter": "python",
   "pygments_lexer": "ipython3",
   "version": "3.11.8"
  }
 },
 "nbformat": 4,
 "nbformat_minor": 2
}
