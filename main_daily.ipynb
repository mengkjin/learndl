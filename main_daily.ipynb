{
 "cells": [
  {
   "cell_type": "code",
   "execution_count": 1,
   "metadata": {},
   "outputs": [
    {
     "name": "stdout",
     "output_type": "stream",
     "text": [
      "Use device name: NVIDIA GeForce RTX 4090\n",
      "update data: ********************\n",
      "Unpack Update Files\n",
      "Sat Nov 16 13:39:25 2024 : download since!\n",
      "Connection and Factor preparation finished!\n",
      "Sat Nov 16 13:39:25 2024 : All Updates Done! Cost 0.50 Secs\n",
      "--------------------------------------------------------------------------------\n",
      "--------------------------------------------------------------------------------\n",
      "process other min bars:\n",
      "--------------------------------------------------------------------------------\n",
      "process other min bars:\n",
      "--------------------------------------------------------------------------------\n",
      "--------------------------------------------------------------------------------\n",
      "--------------------------------------------------------------------------------\n",
      "prepare predict data: ********************\n",
      "predict is True , Data Processing start!\n",
      "6 datas :['y', 'day', '30m', 'style', 'indus', 'week']\n",
      "y is up to 20241116 already!\n",
      "day is up to 20241116 already!\n",
      "30m is up to 20241116 already!\n",
      "style is up to 20241116 already!\n",
      "indus is up to 20241116 already!\n",
      "week is up to 20241116 already!\n",
      "Data Processing Finished! Cost 0.00 Seconds\n",
      "--------------------------------------------------------------------------------\n",
      "update_hidden: ********************\n",
      "model_name is None, update all hidden models\n",
      "  -->  update hidden feature for HiddenExtractingModel(name=gru_day)\n",
      "try using /home/mengkjin/Workspace/learndl/data/Interim/DataSet/day.20240703.pt , success!\n",
      "Load  2 DataBlocks...... finished! Cost 0.12 secs\n",
      "Align 2 DataBlocks...... finished! Cost 0.14 secs\n",
      "Pre-Norming method of [day] : {'divlast': True, 'histnorm': True}\n"
     ]
    },
    {
     "name": "stderr",
     "output_type": "stream",
     "text": [
      "100%|██████████| 333/333 [00:00<00:00, 5008.12it/s]\n",
      "100%|██████████| 333/333 [00:00<00:00, 3737.91it/s]\n"
     ]
    },
    {
     "name": "stdout",
     "output_type": "stream",
     "text": [
      "--------------------------------------------------------------------------------\n",
      "--------------------------------------------------------------------------------\n",
      "update_factors: ********************\n",
      "Finish model [gru_day] predicting!\n",
      "Finish model [gruRTN_day] predicting!\n",
      "Finish model [gru_avg] predicting!\n",
      "--------------------------------------------------------------------------------\n",
      "--------------------------------------------------------------------------------\n",
      "sending email success\n"
     ]
    }
   ],
   "source": [
    "%run src_runs/autorun/daily_update.py"
   ]
  },
  {
   "cell_type": "code",
   "execution_count": 1,
   "metadata": {},
   "outputs": [
    {
     "name": "stdout",
     "output_type": "stream",
     "text": [
      "update data: ********************\n",
      "Update Files\n",
      "Sun Nov 17 23:18:42 2024 : Updated ~ DB_information_js\\calendar.feather Done! Cost 0.02 Secs\n",
      "Sun Nov 17 23:18:42 2024 : Updated ~ DB_information_js\\description.feather Done! Cost 0.03 Secs\n",
      "Sun Nov 17 23:18:42 2024 : Updated ~ DB_information_js\\st.feather Done! Cost 0.03 Secs\n",
      "Sun Nov 17 23:18:45 2024 : Updated ~ DB_information_js\\industry.feather Done! Cost 2.78 Secs\n",
      "Sun Nov 17 23:18:52 2024 : Updated ~ DB_information_js\\concepts.feather Done! Cost 7.28 Secs\n",
      "Sun Nov 17 23:19:30 2024 : download since!\n",
      "Connection and Factor preparation finished!\n",
      "Sun Nov 17 23:19:30 2024 : All Updates Done! Cost 48.16 Secs\n",
      "--------------------------------------------------------------------------------\n",
      "--------------------------------------------------------------------------------\n",
      "process other min bars:\n",
      "DataBase object [trade_ts],[5min],[20241115] save to D:\\Coding\\learndl\\learndl\\data\\DataBase\\DB_trade_ts\\5min\\2024\\5min.20241115.feather successfully\n",
      "DataBase object [trade_ts],[10min],[20241115] save to D:\\Coding\\learndl\\learndl\\data\\DataBase\\DB_trade_ts\\10min\\2024\\10min.20241115.feather successfully\n",
      "DataBase object [trade_ts],[15min],[20241115] save to D:\\Coding\\learndl\\learndl\\data\\DataBase\\DB_trade_ts\\15min\\2024\\15min.20241115.feather successfully\n",
      "DataBase object [trade_ts],[30min],[20241115] save to D:\\Coding\\learndl\\learndl\\data\\DataBase\\DB_trade_ts\\30min\\2024\\30min.20241115.feather successfully\n",
      "DataBase object [trade_ts],[60min],[20241115] save to D:\\Coding\\learndl\\learndl\\data\\DataBase\\DB_trade_ts\\60min\\2024\\60min.20241115.feather successfully\n",
      "--------------------------------------------------------------------------------\n",
      "process other min bars:\n",
      "--------------------------------------------------------------------------------\n",
      "--------------------------------------------------------------------------------\n",
      "--------------------------------------------------------------------------------\n",
      "prepare predict data: ********************\n",
      "predict is True , Data Processing start!\n",
      "6 datas : ['y', 'day', '30m', 'style', 'indus', 'week'] , from -366 to None\n",
      "y is up to 20241117 already!\n",
      "day is up to 20241117 already!\n",
      "30m is up to 20241117 already!\n",
      "style is up to 20241117 already!\n",
      "indus is up to 20241117 already!\n",
      "week is up to 20241117 already!\n",
      "Data Processing Finished! Cost 0.00 Seconds\n",
      "--------------------------------------------------------------------------------\n",
      "update_hidden: ********************\n",
      "model_name is None, update all hidden models\n",
      "  -->  update hidden feature for HiddenExtractingModel(name=gru_day)\n",
      "Beware! Should be at server or short_test, but short_test is False now!\n",
      "try using D:\\Coding\\learndl\\learndl\\data\\Interim\\DataSet/day.20240607.pt , success!\n",
      "Load  2 DataBlocks...... finished! Cost 5.66 secs\n",
      "Align 2 DataBlocks...... finished! Cost 5.43 secs\n",
      "Pre-Norming method of [day] : {'divlast': True, 'histnorm': True}\n"
     ]
    },
    {
     "name": "stderr",
     "output_type": "stream",
     "text": [
      "100%|██████████| 316/316 [00:00<00:00, 2783.27it/s]\n",
      "100%|██████████| 316/316 [00:00<00:00, 3164.35it/s]\n"
     ]
    },
    {
     "name": "stdout",
     "output_type": "stream",
     "text": [
      "--------------------------------------------------------------------------------\n",
      "--------------------------------------------------------------------------------\n",
      "update_factors: ********************\n"
     ]
    },
    {
     "name": "stderr",
     "output_type": "stream",
     "text": [
      "  0%|          | 0/110 [00:00<?, ?it/s]"
     ]
    },
    {
     "name": "stdout",
     "output_type": "stream",
     "text": [
      "Finish model [gru_day] predicting!\n"
     ]
    },
    {
     "name": "stderr",
     "output_type": "stream",
     "text": [
      "  0%|          | 0/110 [00:00<?, ?it/s]"
     ]
    },
    {
     "name": "stdout",
     "output_type": "stream",
     "text": [
      "Finish model [gruRTN_day] predicting!\n"
     ]
    },
    {
     "name": "stderr",
     "output_type": "stream",
     "text": [
      "  0%|          | 0/110 [00:00<?, ?it/s]"
     ]
    },
    {
     "name": "stdout",
     "output_type": "stream",
     "text": [
      "Finish model [gru_avg] predicting!\n",
      "--------------------------------------------------------------------------------\n",
      "--------------------------------------------------------------------------------\n"
     ]
    }
   ],
   "source": [
    "from src.api import DataAPI , ModelAPI\n",
    "\n",
    "#print('update_data: ' + '*' * 20)\n",
    "DataAPI.update()\n",
    "\n",
    "ModelAPI.update()\n"
   ]
  },
  {
   "cell_type": "code",
   "execution_count": null,
   "metadata": {},
   "outputs": [
    {
     "name": "stdout",
     "output_type": "stream",
     "text": [
      "Load  2 DataBlocks ..."
     ]
    },
    {
     "name": "stdout",
     "output_type": "stream",
     "text": [
      "... cost 0.22 secs\n",
      "Align 2 DataBlocks ...... cost 0.21 secs\n",
      "Pre-Norming method of [day] : {'divlast': True, 'histnorm': True}\n",
      "x shape is torch.Size([5064, 30, 6])\n",
      "y shape is torch.Size([5064, 1])\n",
      "Test Forward Success\n",
      "metrics :  Metrics.MetricOutput(loss=tensor(1.0688, grad_fn=<AddBackward0>), score=-0.015420470386743546, loss_item=1.068833589553833, penalty=0.0, losses=tensor(1.0688, grad_fn=<ExpBackward0>))\n",
      "Test Metrics Success\n"
     ]
    }
   ],
   "source": [
    "from src.api import ModelAPI\n",
    "model = ModelAPI.Testor('ts_mixer')\n",
    "model.try_forward()\n",
    "model.try_metrics()"
   ]
  }
 ],
 "metadata": {
  "kernelspec": {
   "display_name": "Python 3",
   "language": "python",
   "name": "python3"
  },
  "language_info": {
   "codemirror_mode": {
    "name": "ipython",
    "version": 3
   },
   "file_extension": ".py",
   "mimetype": "text/x-python",
   "name": "python",
   "nbconvert_exporter": "python",
   "pygments_lexer": "ipython3",
   "version": "3.11.8"
  }
 },
 "nbformat": 4,
 "nbformat_minor": 2
}
