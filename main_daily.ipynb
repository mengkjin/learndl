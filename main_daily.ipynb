{
 "cells": [
  {
   "cell_type": "code",
   "execution_count": 1,
   "metadata": {},
   "outputs": [
    {
     "name": "stdout",
     "output_type": "stream",
     "text": [
      "Use device name: NVIDIA GeForce RTX 4090\n",
      "Unpack Update Files\n",
      "['/home/mengkjin/Workspace/SharedFolder/DB_updater.240625000707.tar', '/home/mengkjin/Workspace/SharedFolder/DB_updater.240626010635.tar', '/home/mengkjin/Workspace/SharedFolder/DB_updater.240626233607.tar', '/home/mengkjin/Workspace/SharedFolder/DB_updater.240628075339.tar', '/home/mengkjin/Workspace/SharedFolder/DB_updater.240629000845.tar', '/home/mengkjin/Workspace/SharedFolder/DB_updater.240629090428.tar', '/home/mengkjin/Workspace/SharedFolder/DB_updater.240702075218.tar', '/home/mengkjin/Workspace/SharedFolder/DB_updater.240703003454.tar', '/home/mengkjin/Workspace/SharedFolder/DB_updater.240703004031.tar', '/home/mengkjin/Workspace/SharedFolder/DB_updater.240703004531.tar', '/home/mengkjin/Workspace/SharedFolder/DB_updater.240703232626.tar', '/home/mengkjin/Workspace/SharedFolder/DB_updater.240704091024.tar', '/home/mengkjin/Workspace/SharedFolder/DB_updater.240704091350.tar', '/home/mengkjin/Workspace/SharedFolder/DB_updater.240704232654.tar', '/home/mengkjin/Workspace/SharedFolder/DB_updater.240706010104.tar']\n",
      "Sat Jul  6 19:44:39 2024 : download since!\n",
      "Connection and Factor preparation finished!\n",
      "Sat Jul  6 19:44:39 2024 : sellside/haitong.hf_factors from 20240629 to 20240706, total 1 periods\n",
      "Start sellside/haitong.hf_factors:20240629-20240706 \n",
      "Done sellside/haitong.hf_factors:20240629-20240706, cost 11.7 Secs\n",
      "Sat Jul  6 19:44:51 2024 : sellside/haitong.dl_factors from 20240629 to 20240706, total 1 periods\n",
      "Start sellside/haitong.dl_factors:20240629-20240706 \n",
      "Done sellside/haitong.dl_factors:20240629-20240706, cost 94.6 Secs\n",
      "Sat Jul  6 19:46:26 2024 : sellside/dongfang.hfq_chars from 20240629 to 20240706, total 1 periods\n",
      "Start sellside/dongfang.hfq_chars:20240629-20240706 \n",
      "Done sellside/dongfang.hfq_chars:20240629-20240706, cost 40.4 Secs\n",
      "Sat Jul  6 19:47:06 2024 : sellside/dongfang.l2_chars from 20240629 to 20240706, total 1 periods\n",
      "Start sellside/dongfang.l2_chars:20240629-20240706 \n",
      "Done sellside/dongfang.l2_chars:20240629-20240706, cost 100.4 Secs\n",
      "Sat Jul  6 19:48:47 2024 : sellside/dongfang.ms_chars from 20240629 to 20240706, total 1 periods\n",
      "Start sellside/dongfang.ms_chars:20240629-20240706 \n",
      "Done sellside/dongfang.ms_chars:20240629-20240706, cost 162.2 Secs\n",
      "Sat Jul  6 19:51:29 2024 : sellside/dongfang.order_flow from 20240629 to 20240706, total 1 periods\n",
      "Start sellside/dongfang.order_flow:20240629-20240706 \n",
      "Done sellside/dongfang.order_flow:20240629-20240706, cost 3.5 Secs\n",
      "Sat Jul  6 19:51:32 2024 : sellside/dongfang.gp from 20240629 to 20240706, total 1 periods\n",
      "Start sellside/dongfang.gp:20240629-20240706 \n",
      "Done sellside/dongfang.gp:20240629-20240706, cost 3.3 Secs\n",
      "Sat Jul  6 19:51:36 2024 : sellside/dongfang.tra from 20240629 to 20240706, total 1 periods\n",
      "Start sellside/dongfang.tra:20240629-20240706 \n",
      "Done sellside/dongfang.tra:20240629-20240706, cost 4.5 Secs\n",
      "Sat Jul  6 19:51:40 2024 : sellside/dongfang.hist from 20240629 to 20240706, total 1 periods\n",
      "Start sellside/dongfang.hist:20240629-20240706 \n",
      "Done sellside/dongfang.hist:20240629-20240706, cost 2.4 Secs\n",
      "Sat Jul  6 19:51:43 2024 : sellside/dongfang.scores_v0 from 20240629 to 20240706, total 1 periods\n",
      "Start sellside/dongfang.scores_v0:20240629-20240706 \n",
      "Done sellside/dongfang.scores_v0:20240629-20240706, cost 3.1 Secs\n",
      "Sat Jul  6 19:51:46 2024 : sellside/dongfang.factorvae from 20240629 to 20240706, total 1 periods\n",
      "Start sellside/dongfang.factorvae:20240629-20240706 \n",
      "Done sellside/dongfang.factorvae:20240629-20240706, cost 2.5 Secs\n",
      "Sat Jul  6 19:51:48 2024 : sellside/huatai.dl_factors from 20240629 to 20240706, total 1 periods\n",
      "Start sellside/huatai.dl_factors:20240629-20240706 \n",
      "Done sellside/huatai.dl_factors:20240629-20240706, cost 2.2 Secs\n",
      "Sat Jul  6 19:51:51 2024 : All Updates Done! Cost 437.00 Secs\n",
      "--------------------------------------------------------------------------------\n",
      "predict is True , Data Processing start!\n",
      "6 datas :['y', 'day', '30m', 'style', 'indus', 'week']\n",
      "y blocks loading start!\n",
      " --> labels blocks reading [ret10_lag] DataBase...... finished! Cost 0.90 secs\n",
      " --> labels blocks reading [ret20_lag] DataBase...... finished! Cost 0.85 secs\n",
      " --> labels blocks merging (2)...... finished! Cost 0.11 secs\n",
      " --> models blocks reading [risk_exp] DataBase...... finished! Cost 3.24 secs\n",
      "y blocks loading finished! Cost 5.50 secs\n",
      "y blocks process...... finished! Cost 2.00 secs\n",
      "y blocks masking...... finished! Cost 0.07 secs\n",
      "y blocks saving ...... finished! Cost 0.16 secs\n",
      "y blocks norming...... finished! Cost 0.00 secs\n",
      "y finished! Cost 8.03 Seconds\n",
      "--------------------------------------------------------------------------------\n",
      "day blocks loading start!\n",
      " --> trade blocks reading [day] DataBase...... finished! Cost 1.11 secs\n",
      "day blocks loading finished! Cost 1.11 secs\n",
      "day blocks process...... finished! Cost 0.11 secs\n",
      "day blocks masking...... finished! Cost 0.06 secs\n",
      "day blocks saving ...... finished! Cost 0.17 secs\n",
      "day blocks norming...... finished! Cost 0.00 secs\n",
      "day finished! Cost 1.62 Seconds\n",
      "--------------------------------------------------------------------------------\n",
      "30m blocks loading start!\n",
      " --> trade blocks reading [30min] DataBase...... finished! Cost 5.66 secs\n",
      " --> trade blocks reading [day] DataBase...... finished! Cost 1.05 secs\n",
      "30m blocks loading finished! Cost 6.75 secs\n",
      "30m blocks process...... finished! Cost 1.83 secs\n",
      "30m blocks masking...... finished! Cost 0.13 secs\n",
      "30m blocks saving ...... finished! Cost 2.19 secs\n",
      "30m blocks norming...... finished! Cost 0.00 secs\n",
      "30m finished! Cost 11.06 Seconds\n",
      "--------------------------------------------------------------------------------\n",
      "style blocks loading start!\n",
      " --> models blocks reading [risk_exp] DataBase...... finished! Cost 1.56 secs\n",
      "style blocks loading finished! Cost 1.57 secs\n",
      "style blocks process...... finished! Cost 0.00 secs\n",
      "style blocks masking...... finished! Cost 0.07 secs\n",
      "style blocks saving ...... finished! Cost 0.28 secs\n",
      "style blocks norming...... finished! Cost 0.00 secs\n",
      "style finished! Cost 2.06 Seconds\n",
      "--------------------------------------------------------------------------------\n",
      "indus blocks loading start!\n",
      " --> models blocks reading [risk_exp] DataBase...... finished! Cost 3.10 secs\n",
      "indus blocks loading finished! Cost 3.10 secs\n",
      "indus blocks process...... finished! Cost 0.00 secs\n",
      "indus blocks masking...... finished! Cost 0.11 secs\n",
      "indus blocks saving ...... finished! Cost 1.63 secs\n",
      "indus blocks norming...... finished! Cost 0.00 secs\n",
      "indus finished! Cost 4.96 Seconds\n",
      "--------------------------------------------------------------------------------\n",
      "week blocks loading start!\n",
      " --> trade blocks reading [day] DataBase...... finished! Cost 2.30 secs\n",
      "week blocks loading finished! Cost 2.31 secs\n",
      "week blocks process...... finished! Cost 2.04 secs\n",
      "week blocks masking...... finished! Cost 0.16 secs\n",
      "week blocks saving ...... finished! Cost 2.57 secs\n",
      "week blocks norming...... finished! Cost 0.00 secs\n",
      "week finished! Cost 7.21 Seconds\n",
      "--------------------------------------------------------------------------------\n",
      "Data Processing Finished! Cost 34.94 Seconds\n",
      "--------------------------------------------------------------------------------\n"
     ]
    }
   ],
   "source": [
    "from src.api import DataAPI , Predictor\n",
    "\n",
    "DataAPI.update()\n",
    "DataAPI.prepare_train_data()\n",
    "Predictor.update_factors()"
   ]
  },
  {
   "cell_type": "code",
   "execution_count": 1,
   "metadata": {},
   "outputs": [
    {
     "name": "stdout",
     "output_type": "stream",
     "text": [
      "Finish model [gru_day] predicting!\n",
      "Finish model [gruRTN_day] predicting!\n",
      "Finish model [gruRES_day] predicting!\n",
      "--------------------------------------------------------------------------------\n"
     ]
    }
   ],
   "source": [
    "from src.api import Predictor\n",
    "Predictor.update_factors()"
   ]
  },
  {
   "cell_type": "code",
   "execution_count": 2,
   "metadata": {},
   "outputs": [
    {
     "name": "stdout",
     "output_type": "stream",
     "text": [
      "Load  2 DataBlocks ..."
     ]
    },
    {
     "name": "stdout",
     "output_type": "stream",
     "text": [
      "... cost 0.22 secs\n",
      "Align 2 DataBlocks ...... cost 0.21 secs\n",
      "Pre-Norming method of [day] : {'divlast': True, 'histnorm': True}\n",
      "x shape is torch.Size([5064, 30, 6])\n",
      "y shape is torch.Size([5064, 1])\n",
      "Test Forward Success\n",
      "metrics :  Metrics.MetricOutput(loss=tensor(1.0688, grad_fn=<AddBackward0>), score=-0.015420470386743546, loss_item=1.068833589553833, penalty=0.0, losses=tensor(1.0688, grad_fn=<ExpBackward0>))\n",
      "Test Metrics Success\n"
     ]
    }
   ],
   "source": [
    "from src.api import ModelTestor\n",
    "ModelTestor.new('ts_mixer').try_metrics()"
   ]
  }
 ],
 "metadata": {
  "kernelspec": {
   "display_name": "Python 3",
   "language": "python",
   "name": "python3"
  },
  "language_info": {
   "codemirror_mode": {
    "name": "ipython",
    "version": 3
   },
   "file_extension": ".py",
   "mimetype": "text/x-python",
   "name": "python",
   "nbconvert_exporter": "python",
   "pygments_lexer": "ipython3",
   "version": "3.10.12"
  }
 },
 "nbformat": 4,
 "nbformat_minor": 2
}
