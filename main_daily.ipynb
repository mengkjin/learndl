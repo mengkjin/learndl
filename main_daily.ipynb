{
 "cells": [
  {
   "cell_type": "code",
   "execution_count": 7,
   "metadata": {},
   "outputs": [
    {
     "name": "stdout",
     "output_type": "stream",
     "text": [
      "Load  2 DataBlocks ...... cost 0.09 secs\n",
      "Align 2 DataBlocks ...... cost 0.08 secs\n",
      "20231201 new\n",
      "Pre-Norming method of [day] : [endpoint_division(True) , history_standardize(True)]\n",
      "Load  2 DataBlocks ...... cost 0.05 secs\n",
      "Align 2 DataBlocks ...... cost 0.09 secs\n",
      "20231201 new\n",
      "Pre-Norming method of [day] : [endpoint_division(True) , history_standardize(True)]\n",
      "Load  2 DataBlocks ...... cost 0.04 secs\n",
      "Align 2 DataBlocks ...... cost 0.10 secs\n",
      "20231201 new\n",
      "Pre-Norming method of [day] : [endpoint_division(True) , history_standardize(True)]\n"
     ]
    },
    {
     "data": {
      "text/plain": [
       "[None, None, None]"
      ]
     },
     "execution_count": 7,
     "metadata": {},
     "output_type": "execute_result"
    }
   ],
   "source": [
    "import src.data as data\n",
    "\n",
    "data.DataFetcher.main()\n",
    "data.PreProcess.main(False)\n",
    "\n",
    "from run_model import ModelPred\n",
    "\n",
    "model_preds = [\n",
    "    ModelPred('gru_day'    , 'swalast' , 0 , 'gru_day_V0') ,\n",
    "    ModelPred('gruRTN_day' , 'swalast' , 0 , 'gruRTN_day_V0') ,\n",
    "    ModelPred('gruRES_day' , 'swalast' , 0 , 'gruRES_day_V0')\n",
    "]\n",
    "[md.get_df().deploy() for md in model_preds]"
   ]
  }
 ],
 "metadata": {
  "kernelspec": {
   "display_name": "Python 3",
   "language": "python",
   "name": "python3"
  },
  "language_info": {
   "codemirror_mode": {
    "name": "ipython",
    "version": 3
   },
   "file_extension": ".py",
   "mimetype": "text/x-python",
   "name": "python",
   "nbconvert_exporter": "python",
   "pygments_lexer": "ipython3",
   "version": "3.10.12"
  }
 },
 "nbformat": 4,
 "nbformat_minor": 2
}
