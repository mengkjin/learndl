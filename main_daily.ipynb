{
 "cells": [
  {
   "cell_type": "code",
   "execution_count": 1,
   "metadata": {},
   "outputs": [
    {
     "name": "stdout",
     "output_type": "stream",
     "text": [
      "Optimization of PortfolioBuilderGroup(2 alphas , 1 benchmarks , 2 lags , 20 dates , (80 builds) start!\n",
      "Done Optimize    0th [factor1.none.lag0] at 20240102 , time cost (ms) : {'parse_input': 481.7, 'solve': 37.87, 'output': 11.01}\n",
      "Done Optimize    1th [factor1.none.lag1] at 20240102 , time cost (ms) : {'parse_input': 25.93, 'solve': 22.94, 'output': 10.97}\n",
      "Done Optimize    2th [factor2.none.lag0] at 20240102 , time cost (ms) : {'parse_input': 21.93, 'solve': 22.91, 'output': 10.01}\n",
      "Done Optimize    3th [factor2.none.lag1] at 20240102 , time cost (ms) : {'parse_input': 24.93, 'solve': 21.94, 'output': 9.99}\n",
      "Done Optimize    4th [factor1.none.lag0] at 20240109 , time cost (ms) : {'parse_input': 375.99, 'solve': 105.72, 'output': 19.95}\n",
      "Done Optimize    5th [factor1.none.lag1] at 20240109 , time cost (ms) : {'parse_input': 31.91, 'solve': 106.72, 'output': 17.95}\n",
      "Done Optimize    6th [factor2.none.lag0] at 20240109 , time cost (ms) : {'parse_input': 26.9, 'solve': 160.57, 'output': 16.95}\n",
      "Done Optimize    7th [factor2.none.lag1] at 20240109 , time cost (ms) : {'parse_input': 25.93, 'solve': 92.79, 'output': 13.96}\n",
      "Done Optimize    8th [factor1.none.lag0] at 20240116 , time cost (ms) : {'parse_input': 462.74, 'solve': 92.77, 'output': 14.98}\n",
      "Done Optimize    9th [factor1.none.lag1] at 20240116 , time cost (ms) : {'parse_input': 24.97, 'solve': 97.71, 'output': 14.99}\n",
      "Done Optimize   10th [factor2.none.lag0] at 20240116 , time cost (ms) : {'parse_input': 22.94, 'solve': 97.7, 'output': 15.99}\n",
      "Done Optimize   11th [factor2.none.lag1] at 20240116 , time cost (ms) : {'parse_input': 22.95, 'solve': 101.73, 'output': 14.95}\n",
      "Done Optimize   12th [factor1.none.lag0] at 20240123 , time cost (ms) : {'parse_input': 359.08, 'solve': 96.74, 'output': 14.94}\n",
      "Done Optimize   13th [factor1.none.lag1] at 20240123 , time cost (ms) : {'parse_input': 28.92, 'solve': 100.73, 'output': 15.96}\n",
      "Done Optimize   14th [factor2.none.lag0] at 20240123 , time cost (ms) : {'parse_input': 24.93, 'solve': 96.71, 'output': 13.96}\n",
      "Done Optimize   15th [factor2.none.lag1] at 20240123 , time cost (ms) : {'parse_input': 22.94, 'solve': 91.79, 'output': 14.95}\n",
      "Done Optimize   16th [factor1.none.lag0] at 20240130 , time cost (ms) : {'parse_input': 464.75, 'solve': 96.75, 'output': 14.93}\n",
      "Done Optimize   17th [factor1.none.lag1] at 20240130 , time cost (ms) : {'parse_input': 23.93, 'solve': 103.69, 'output': 14.01}\n",
      "Done Optimize   18th [factor2.none.lag0] at 20240130 , time cost (ms) : {'parse_input': 33.92, 'solve': 101.73, 'output': 14.97}\n",
      "Done Optimize   19th [factor2.none.lag1] at 20240130 , time cost (ms) : {'parse_input': 24.93, 'solve': 97.74, 'output': 12.92}\n",
      "Done Optimize   20th [factor1.none.lag0] at 20240206 , time cost (ms) : {'parse_input': 468.75, 'solve': 101.71, 'output': 14.96}\n",
      "Done Optimize   21th [factor1.none.lag1] at 20240206 , time cost (ms) : {'parse_input': 23.97, 'solve': 95.71, 'output': 15.0}\n",
      "Done Optimize   22th [factor2.none.lag0] at 20240206 , time cost (ms) : {'parse_input': 23.91, 'solve': 97.77, 'output': 14.97}\n",
      "Done Optimize   23th [factor2.none.lag1] at 20240206 , time cost (ms) : {'parse_input': 22.94, 'solve': 98.74, 'output': 13.96}\n",
      "Done Optimize   24th [factor1.none.lag0] at 20240221 , time cost (ms) : {'parse_input': 363.03, 'solve': 95.74, 'output': 14.96}\n",
      "Done Optimize   25th [factor1.none.lag1] at 20240221 , time cost (ms) : {'parse_input': 23.93, 'solve': 97.71, 'output': 14.0}\n",
      "Done Optimize   26th [factor2.none.lag0] at 20240221 , time cost (ms) : {'parse_input': 23.97, 'solve': 100.74, 'output': 14.95}\n",
      "Done Optimize   27th [factor2.none.lag1] at 20240221 , time cost (ms) : {'parse_input': 25.93, 'solve': 93.75, 'output': 13.0}\n",
      "Done Optimize   28th [factor1.none.lag0] at 20240228 , time cost (ms) : {'parse_input': 469.74, 'solve': 96.76, 'output': 13.95}\n",
      "Done Optimize   29th [factor1.none.lag1] at 20240228 , time cost (ms) : {'parse_input': 25.91, 'solve': 94.78, 'output': 14.92}\n",
      "Done Optimize   30th [factor2.none.lag0] at 20240228 , time cost (ms) : {'parse_input': 27.96, 'solve': 97.73, 'output': 14.96}\n",
      "Done Optimize   31th [factor2.none.lag1] at 20240228 , time cost (ms) : {'parse_input': 27.93, 'solve': 98.75, 'output': 13.96}\n",
      "Done Optimize   32th [factor1.none.lag0] at 20240306 , time cost (ms) : {'parse_input': 379.95, 'solve': 110.71, 'output': 20.98}\n",
      "Done Optimize   33th [factor1.none.lag1] at 20240306 , time cost (ms) : {'parse_input': 27.92, 'solve': 107.71, 'output': 26.89}\n",
      "Done Optimize   34th [factor2.none.lag0] at 20240306 , time cost (ms) : {'parse_input': 25.95, 'solve': 115.7, 'output': 17.92}\n",
      "Done Optimize   35th [factor2.none.lag1] at 20240306 , time cost (ms) : {'parse_input': 23.93, 'solve': 115.73, 'output': 14.95}\n",
      "Done Optimize   36th [factor1.none.lag0] at 20240313 , time cost (ms) : {'parse_input': 487.7, 'solve': 124.67, 'output': 13.96}\n",
      "Done Optimize   37th [factor1.none.lag1] at 20240313 , time cost (ms) : {'parse_input': 26.93, 'solve': 94.75, 'output': 14.96}\n",
      "Done Optimize   38th [factor2.none.lag0] at 20240313 , time cost (ms) : {'parse_input': 29.92, 'solve': 99.73, 'output': 16.96}\n",
      "Done Optimize   39th [factor2.none.lag1] at 20240313 , time cost (ms) : {'parse_input': 29.92, 'solve': 106.71, 'output': 22.94}\n",
      "Done Optimize   40th [factor1.none.lag0] at 20240320 , time cost (ms) : {'parse_input': 397.94, 'solve': 107.71, 'output': 14.96}\n",
      "Done Optimize   41th [factor1.none.lag1] at 20240320 , time cost (ms) : {'parse_input': 26.93, 'solve': 118.68, 'output': 17.95}\n",
      "Done Optimize   42th [factor2.none.lag0] at 20240320 , time cost (ms) : {'parse_input': 32.91, 'solve': 119.68, 'output': 18.95}\n",
      "Done Optimize   43th [factor2.none.lag1] at 20240320 , time cost (ms) : {'parse_input': 47.87, 'solve': 105.72, 'output': 15.96}\n",
      "Done Optimize   44th [factor1.none.lag0] at 20240327 , time cost (ms) : {'parse_input': 503.65, 'solve': 116.69, 'output': 14.96}\n",
      "Done Optimize   45th [factor1.none.lag1] at 20240327 , time cost (ms) : {'parse_input': 25.93, 'solve': 97.74, 'output': 14.96}\n",
      "Done Optimize   46th [factor2.none.lag0] at 20240327 , time cost (ms) : {'parse_input': 29.92, 'solve': 115.69, 'output': 15.96}\n",
      "Done Optimize   47th [factor2.none.lag1] at 20240327 , time cost (ms) : {'parse_input': 30.92, 'solve': 103.72, 'output': 13.96}\n",
      "Done Optimize   48th [factor1.none.lag0] at 20240403 , time cost (ms) : {'parse_input': 489.73, 'solve': 98.74, 'output': 15.95}\n",
      "Done Optimize   49th [factor1.none.lag1] at 20240403 , time cost (ms) : {'parse_input': 25.94, 'solve': 98.73, 'output': 13.98}\n",
      "Done Optimize   50th [factor2.none.lag0] at 20240403 , time cost (ms) : {'parse_input': 24.91, 'solve': 105.76, 'output': 13.95}\n",
      "Done Optimize   51th [factor2.none.lag1] at 20240403 , time cost (ms) : {'parse_input': 25.89, 'solve': 102.76, 'output': 13.93}\n",
      "Done Optimize   52th [factor1.none.lag0] at 20240412 , time cost (ms) : {'parse_input': 362.03, 'solve': 104.68, 'output': 14.99}\n",
      "Done Optimize   53th [factor1.none.lag1] at 20240412 , time cost (ms) : {'parse_input': 30.95, 'solve': 97.73, 'output': 14.97}\n",
      "Done Optimize   54th [factor2.none.lag0] at 20240412 , time cost (ms) : {'parse_input': 25.93, 'solve': 102.74, 'output': 13.96}\n",
      "Done Optimize   55th [factor2.none.lag1] at 20240412 , time cost (ms) : {'parse_input': 26.89, 'solve': 106.75, 'output': 15.95}\n",
      "Done Optimize   56th [factor1.none.lag0] at 20240419 , time cost (ms) : {'parse_input': 474.69, 'solve': 98.74, 'output': 14.96}\n",
      "Done Optimize   57th [factor1.none.lag1] at 20240419 , time cost (ms) : {'parse_input': 39.93, 'solve': 102.72, 'output': 14.96}\n",
      "Done Optimize   58th [factor2.none.lag0] at 20240419 , time cost (ms) : {'parse_input': 26.93, 'solve': 102.72, 'output': 14.93}\n",
      "Done Optimize   59th [factor2.none.lag1] at 20240419 , time cost (ms) : {'parse_input': 27.94, 'solve': 99.7, 'output': 15.0}\n",
      "Done Optimize   60th [factor1.none.lag0] at 20240426 , time cost (ms) : {'parse_input': 365.02, 'solve': 100.73, 'output': 14.95}\n",
      "Done Optimize   61th [factor1.none.lag1] at 20240426 , time cost (ms) : {'parse_input': 25.96, 'solve': 94.72, 'output': 13.96}\n",
      "Done Optimize   62th [factor2.none.lag0] at 20240426 , time cost (ms) : {'parse_input': 24.93, 'solve': 100.73, 'output': 15.99}\n",
      "Done Optimize   63th [factor2.none.lag1] at 20240426 , time cost (ms) : {'parse_input': 23.93, 'solve': 101.72, 'output': 16.97}\n",
      "Done Optimize   64th [factor1.none.lag0] at 20240508 , time cost (ms) : {'parse_input': 467.75, 'solve': 101.72, 'output': 13.93}\n",
      "Done Optimize   65th [factor1.none.lag1] at 20240508 , time cost (ms) : {'parse_input': 26.93, 'solve': 101.7, 'output': 13.96}\n",
      "Done Optimize   66th [factor2.none.lag0] at 20240508 , time cost (ms) : {'parse_input': 25.93, 'solve': 94.74, 'output': 15.0}\n",
      "Done Optimize   67th [factor2.none.lag1] at 20240508 , time cost (ms) : {'parse_input': 23.97, 'solve': 98.74, 'output': 14.92}\n",
      "Done Optimize   68th [factor1.none.lag0] at 20240515 , time cost (ms) : {'parse_input': 361.05, 'solve': 97.74, 'output': 14.96}\n",
      "Done Optimize   69th [factor1.none.lag1] at 20240515 , time cost (ms) : {'parse_input': 24.93, 'solve': 98.74, 'output': 13.96}\n",
      "Done Optimize   70th [factor2.none.lag0] at 20240515 , time cost (ms) : {'parse_input': 36.9, 'solve': 101.74, 'output': 14.96}\n",
      "Done Optimize   71th [factor2.none.lag1] at 20240515 , time cost (ms) : {'parse_input': 23.97, 'solve': 97.73, 'output': 13.97}\n",
      "Done Optimize   72th [factor1.none.lag0] at 20240522 , time cost (ms) : {'parse_input': 471.74, 'solve': 100.72, 'output': 14.93}\n",
      "Done Optimize   73th [factor1.none.lag1] at 20240522 , time cost (ms) : {'parse_input': 24.93, 'solve': 93.72, 'output': 15.99}\n",
      "Done Optimize   74th [factor2.none.lag0] at 20240522 , time cost (ms) : {'parse_input': 24.93, 'solve': 96.74, 'output': 14.92}\n",
      "Done Optimize   75th [factor2.none.lag1] at 20240522 , time cost (ms) : {'parse_input': 24.94, 'solve': 99.71, 'output': 14.97}\n",
      "Done Optimize   76th [factor1.none.lag0] at 20240529 , time cost (ms) : {'parse_input': 351.1, 'solve': 91.75, 'output': 14.96}\n",
      "Done Optimize   77th [factor1.none.lag1] at 20240529 , time cost (ms) : {'parse_input': 23.94, 'solve': 99.73, 'output': 14.96}\n",
      "Done Optimize   78th [factor2.none.lag0] at 20240529 , time cost (ms) : {'parse_input': 24.93, 'solve': 99.75, 'output': 14.96}\n",
      "Done Optimize   79th [factor2.none.lag1] at 20240529 , time cost (ms) : {'parse_input': 26.93, 'solve': 98.73, 'output': 12.98}\n",
      "Group optimization Finished , Total time: 19.79 secs, each optim time: 0.25\n",
      "factor1.none.lag0 accounting...... finished! Cost 1.80 secs\n",
      "factor1.none.lag1 accounting...... finished! Cost 0.36 secs\n",
      "factor2.none.lag0 accounting...... finished! Cost 1.02 secs\n",
      "factor2.none.lag1 accounting...... finished! Cost 0.41 secs\n",
      "FmpManager calc of prefix Finished!\n",
      "FmpManager calc of perf_curve Finished!\n",
      "FmpManager calc of perf_drawdown Finished!\n",
      "FmpManager calc of perf_year Finished!\n",
      "FmpManager calc of perf_month Finished!\n",
      "FmpManager calc of perf_lag Finished!\n",
      "FmpManager calc of exp_style Finished!\n",
      "FmpManager calc of exp_indus Finished!\n",
      "FmpManager calc of attrib_source Finished!\n",
      "FmpManager calc of attrib_style Finished!\n",
      "FmpManager calc Finished!\n",
      "FmpManager plot of prefix Finished!\n",
      "FmpManager plot of perf_curve Finished!\n",
      "FmpManager plot of perf_drawdown Finished!\n",
      "FmpManager plot of perf_year Finished!\n",
      "FmpManager plot of perf_month Finished!\n",
      "FmpManager plot of perf_lag Finished!\n",
      "FmpManager plot of exp_style Finished!\n",
      "FmpManager plot of exp_indus Finished!\n",
      "FmpManager plot of attrib_source Finished!\n",
      "FmpManager plot of attrib_style Finished!\n",
      "FmpManager plot Finished!\n",
      "Model Portfolio datas are saved to D:\\Coding\\learndl\\learndl\\results\\fmp_test_20241119005648\\data.xlsx\n",
      "Model Portfolio plots are saved to D:\\Coding\\learndl\\learndl\\results\\fmp_test_20241119005648\\plot.pdf\n"
     ]
    },
    {
     "data": {
      "text/plain": [
       "<src.factor.analytic.fmp.api.FmpManager at 0x143f0eb4050>"
      ]
     },
     "execution_count": 1,
     "metadata": {},
     "output_type": "execute_result"
    }
   ],
   "source": [
    "from src.api.factor import fmp_test , perf_test\n",
    "\n",
    "fmp_test(benchmark = None)\n"
   ]
  },
  {
   "cell_type": "code",
   "execution_count": 1,
   "metadata": {},
   "outputs": [
    {
     "name": "stdout",
     "output_type": "stream",
     "text": [
      "PerfManager calc of ic_curve Finished!\n",
      "PerfManager calc of ic_decay Finished!\n",
      "PerfManager calc of ic_indus Finished!\n",
      "PerfManager calc of ic_year Finished!\n",
      "PerfManager calc of ic_mono Finished!\n",
      "PerfManager calc of pnl_curve Finished!\n",
      "PerfManager calc of style_corr Finished!\n",
      "PerfManager calc of grp_curve Finished!\n",
      "PerfManager calc of grp_decay_ir Finished!\n",
      "PerfManager calc of grp_year Finished!\n",
      "PerfManager calc of distr_curve Finished!\n",
      "PerfManager plot of ic_curve Finished!\n",
      "PerfManager plot of ic_decay Finished!\n",
      "PerfManager plot of ic_indus Finished!\n",
      "PerfManager plot of ic_year Finished!\n",
      "PerfManager plot of ic_mono Finished!\n",
      "PerfManager plot of pnl_curve Finished!\n",
      "PerfManager plot of style_corr Finished!\n",
      "PerfManager plot of grp_curve Finished!\n",
      "PerfManager plot of grp_decay_ir Finished!\n",
      "PerfManager plot of grp_year Finished!\n",
      "PerfManager plot of distr_curve Finished!\n",
      "PerfManager plot Finished!\n",
      "Analytic datas are saved to D:\\Coding\\learndl\\learndl\\results\\perf_test_20241119005238\\data.xlsx\n",
      "Analytic plots are saved to D:\\Coding\\learndl\\learndl\\results\\perf_test_20241119005238\\plot.pdf\n"
     ]
    },
    {
     "data": {
      "text/plain": [
       "<src.factor.analytic.perf.api.PerfManager at 0x279b11e65d0>"
      ]
     },
     "execution_count": 1,
     "metadata": {},
     "output_type": "execute_result"
    }
   ],
   "source": [
    "from src.api.factor import fmp_test , perf_test\n",
    "\n",
    "perf_test(benchmark = None)\n"
   ]
  },
  {
   "cell_type": "code",
   "execution_count": 1,
   "metadata": {},
   "outputs": [
    {
     "name": "stdout",
     "output_type": "stream",
     "text": [
      "Use device name: NVIDIA GeForce RTX 4090\n",
      "update data: ********************\n",
      "Unpack Update Files\n",
      "Sat Nov 16 13:39:25 2024 : download since!\n",
      "Connection and Factor preparation finished!\n",
      "Sat Nov 16 13:39:25 2024 : All Updates Done! Cost 0.50 Secs\n",
      "--------------------------------------------------------------------------------\n",
      "--------------------------------------------------------------------------------\n",
      "process other min bars:\n",
      "--------------------------------------------------------------------------------\n",
      "process other min bars:\n",
      "--------------------------------------------------------------------------------\n",
      "--------------------------------------------------------------------------------\n",
      "--------------------------------------------------------------------------------\n",
      "prepare predict data: ********************\n",
      "predict is True , Data Processing start!\n",
      "6 datas :['y', 'day', '30m', 'style', 'indus', 'week']\n",
      "y is up to 20241116 already!\n",
      "day is up to 20241116 already!\n",
      "30m is up to 20241116 already!\n",
      "style is up to 20241116 already!\n",
      "indus is up to 20241116 already!\n",
      "week is up to 20241116 already!\n",
      "Data Processing Finished! Cost 0.00 Seconds\n",
      "--------------------------------------------------------------------------------\n",
      "update_hidden: ********************\n",
      "model_name is None, update all hidden models\n",
      "  -->  update hidden feature for HiddenExtractingModel(name=gru_day)\n",
      "try using /home/mengkjin/Workspace/learndl/data/Interim/DataSet/day.20240703.pt , success!\n",
      "Load  2 DataBlocks...... finished! Cost 0.12 secs\n",
      "Align 2 DataBlocks...... finished! Cost 0.14 secs\n",
      "Pre-Norming method of [day] : {'divlast': True, 'histnorm': True}\n"
     ]
    },
    {
     "name": "stderr",
     "output_type": "stream",
     "text": [
      "100%|██████████| 333/333 [00:00<00:00, 5008.12it/s]\n",
      "100%|██████████| 333/333 [00:00<00:00, 3737.91it/s]\n"
     ]
    },
    {
     "name": "stdout",
     "output_type": "stream",
     "text": [
      "--------------------------------------------------------------------------------\n",
      "--------------------------------------------------------------------------------\n",
      "update_factors: ********************\n",
      "Finish model [gru_day] predicting!\n",
      "Finish model [gruRTN_day] predicting!\n",
      "Finish model [gru_avg] predicting!\n",
      "--------------------------------------------------------------------------------\n",
      "--------------------------------------------------------------------------------\n",
      "sending email success\n"
     ]
    }
   ],
   "source": [
    "%run src_runs/autorun/daily_update.py"
   ]
  },
  {
   "cell_type": "code",
   "execution_count": 1,
   "metadata": {},
   "outputs": [
    {
     "name": "stdout",
     "output_type": "stream",
     "text": [
      "update data: ********************\n",
      "Update Files\n",
      "Sun Nov 17 23:18:42 2024 : Updated ~ DB_information_js\\calendar.feather Done! Cost 0.02 Secs\n",
      "Sun Nov 17 23:18:42 2024 : Updated ~ DB_information_js\\description.feather Done! Cost 0.03 Secs\n",
      "Sun Nov 17 23:18:42 2024 : Updated ~ DB_information_js\\st.feather Done! Cost 0.03 Secs\n",
      "Sun Nov 17 23:18:45 2024 : Updated ~ DB_information_js\\industry.feather Done! Cost 2.78 Secs\n",
      "Sun Nov 17 23:18:52 2024 : Updated ~ DB_information_js\\concepts.feather Done! Cost 7.28 Secs\n",
      "Sun Nov 17 23:19:30 2024 : download since!\n",
      "Connection and Factor preparation finished!\n",
      "Sun Nov 17 23:19:30 2024 : All Updates Done! Cost 48.16 Secs\n",
      "--------------------------------------------------------------------------------\n",
      "--------------------------------------------------------------------------------\n",
      "process other min bars:\n",
      "DataBase object [trade_ts],[5min],[20241115] save to D:\\Coding\\learndl\\learndl\\data\\DataBase\\DB_trade_ts\\5min\\2024\\5min.20241115.feather successfully\n",
      "DataBase object [trade_ts],[10min],[20241115] save to D:\\Coding\\learndl\\learndl\\data\\DataBase\\DB_trade_ts\\10min\\2024\\10min.20241115.feather successfully\n",
      "DataBase object [trade_ts],[15min],[20241115] save to D:\\Coding\\learndl\\learndl\\data\\DataBase\\DB_trade_ts\\15min\\2024\\15min.20241115.feather successfully\n",
      "DataBase object [trade_ts],[30min],[20241115] save to D:\\Coding\\learndl\\learndl\\data\\DataBase\\DB_trade_ts\\30min\\2024\\30min.20241115.feather successfully\n",
      "DataBase object [trade_ts],[60min],[20241115] save to D:\\Coding\\learndl\\learndl\\data\\DataBase\\DB_trade_ts\\60min\\2024\\60min.20241115.feather successfully\n",
      "--------------------------------------------------------------------------------\n",
      "process other min bars:\n",
      "--------------------------------------------------------------------------------\n",
      "--------------------------------------------------------------------------------\n",
      "--------------------------------------------------------------------------------\n",
      "prepare predict data: ********************\n",
      "predict is True , Data Processing start!\n",
      "6 datas : ['y', 'day', '30m', 'style', 'indus', 'week'] , from -366 to None\n",
      "y is up to 20241117 already!\n",
      "day is up to 20241117 already!\n",
      "30m is up to 20241117 already!\n",
      "style is up to 20241117 already!\n",
      "indus is up to 20241117 already!\n",
      "week is up to 20241117 already!\n",
      "Data Processing Finished! Cost 0.00 Seconds\n",
      "--------------------------------------------------------------------------------\n",
      "update_hidden: ********************\n",
      "model_name is None, update all hidden models\n",
      "  -->  update hidden feature for HiddenExtractingModel(name=gru_day)\n",
      "Beware! Should be at server or short_test, but short_test is False now!\n",
      "try using D:\\Coding\\learndl\\learndl\\data\\Interim\\DataSet/day.20240607.pt , success!\n",
      "Load  2 DataBlocks...... finished! Cost 5.66 secs\n",
      "Align 2 DataBlocks...... finished! Cost 5.43 secs\n",
      "Pre-Norming method of [day] : {'divlast': True, 'histnorm': True}\n"
     ]
    },
    {
     "name": "stderr",
     "output_type": "stream",
     "text": [
      "100%|██████████| 316/316 [00:00<00:00, 2783.27it/s]\n",
      "100%|██████████| 316/316 [00:00<00:00, 3164.35it/s]\n"
     ]
    },
    {
     "name": "stdout",
     "output_type": "stream",
     "text": [
      "--------------------------------------------------------------------------------\n",
      "--------------------------------------------------------------------------------\n",
      "update_factors: ********************\n"
     ]
    },
    {
     "name": "stderr",
     "output_type": "stream",
     "text": [
      "  0%|          | 0/110 [00:00<?, ?it/s]"
     ]
    },
    {
     "name": "stdout",
     "output_type": "stream",
     "text": [
      "Finish model [gru_day] predicting!\n"
     ]
    },
    {
     "name": "stderr",
     "output_type": "stream",
     "text": [
      "  0%|          | 0/110 [00:00<?, ?it/s]"
     ]
    },
    {
     "name": "stdout",
     "output_type": "stream",
     "text": [
      "Finish model [gruRTN_day] predicting!\n"
     ]
    },
    {
     "name": "stderr",
     "output_type": "stream",
     "text": [
      "  0%|          | 0/110 [00:00<?, ?it/s]"
     ]
    },
    {
     "name": "stdout",
     "output_type": "stream",
     "text": [
      "Finish model [gru_avg] predicting!\n",
      "--------------------------------------------------------------------------------\n",
      "--------------------------------------------------------------------------------\n"
     ]
    }
   ],
   "source": [
    "from src.api import DataAPI , ModelAPI\n",
    "\n",
    "#print('update_data: ' + '*' * 20)\n",
    "DataAPI.update()\n",
    "\n",
    "ModelAPI.update()\n"
   ]
  },
  {
   "cell_type": "code",
   "execution_count": null,
   "metadata": {},
   "outputs": [
    {
     "name": "stdout",
     "output_type": "stream",
     "text": [
      "Load  2 DataBlocks ..."
     ]
    },
    {
     "name": "stdout",
     "output_type": "stream",
     "text": [
      "... cost 0.22 secs\n",
      "Align 2 DataBlocks ...... cost 0.21 secs\n",
      "Pre-Norming method of [day] : {'divlast': True, 'histnorm': True}\n",
      "x shape is torch.Size([5064, 30, 6])\n",
      "y shape is torch.Size([5064, 1])\n",
      "Test Forward Success\n",
      "metrics :  Metrics.MetricOutput(loss=tensor(1.0688, grad_fn=<AddBackward0>), score=-0.015420470386743546, loss_item=1.068833589553833, penalty=0.0, losses=tensor(1.0688, grad_fn=<ExpBackward0>))\n",
      "Test Metrics Success\n"
     ]
    }
   ],
   "source": [
    "from src.api import ModelAPI\n",
    "model = ModelAPI.Testor('ts_mixer')\n",
    "model.try_forward()\n",
    "model.try_metrics()"
   ]
  }
 ],
 "metadata": {
  "kernelspec": {
   "display_name": "Python 3",
   "language": "python",
   "name": "python3"
  },
  "language_info": {
   "codemirror_mode": {
    "name": "ipython",
    "version": 3
   },
   "file_extension": ".py",
   "mimetype": "text/x-python",
   "name": "python",
   "nbconvert_exporter": "python",
   "pygments_lexer": "ipython3",
   "version": "3.11.8"
  }
 },
 "nbformat": 4,
 "nbformat_minor": 2
}
