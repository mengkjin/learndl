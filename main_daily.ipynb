{
 "cells": [
  {
   "cell_type": "code",
   "execution_count": 1,
   "metadata": {},
   "outputs": [
    {
     "name": "stdout",
     "output_type": "stream",
     "text": [
      "Update Files\n",
      "Sat Apr 13 17:39:12 2024 : Updated ~ data\\DataBase\\DB_information\\calendar.feather Done! Cost 0.12 Secs\n",
      "Sat Apr 13 17:39:12 2024 : Updated ~ data\\DataBase\\DB_information\\description.feather Done! Cost 0.06 Secs\n",
      "Sat Apr 13 17:39:12 2024 : Updated ~ data\\DataBase\\DB_information\\st.feather Done! Cost 0.02 Secs\n",
      "Sat Apr 13 17:39:15 2024 : Updated ~ data\\DataBase\\DB_information\\industry.feather Done! Cost 3.00 Secs\n",
      "Sat Apr 13 17:39:21 2024 : Updated ~ data\\DataBase\\DB_information\\concepts.feather Done! Cost 5.91 Secs\n",
      "Sat Apr 13 17:39:22 2024 : Updated ~ data\\DataBase\\DB_models\\longcl_exp\\2024\\longcl_exp.20240403.feather Done! Cost 0.14 Secs\n",
      "Sat Apr 13 17:39:22 2024 : Updated ~ data\\DataBase\\DB_models\\risk_exp\\2024\\risk_exp.20240408.feather Done! Cost 0.08 Secs\n",
      "Sat Apr 13 17:39:22 2024 : Updated ~ data\\DataBase\\DB_models\\longcl_exp\\2024\\longcl_exp.20240408.feather Done! Cost 0.12 Secs\n",
      "Sat Apr 13 17:39:22 2024 : Updated ~ data\\DataBase\\DB_models\\risk_exp\\2024\\risk_exp.20240409.feather Done! Cost 0.07 Secs\n",
      "Sat Apr 13 17:39:22 2024 : Updated ~ data\\DataBase\\DB_models\\longcl_exp\\2024\\longcl_exp.20240409.feather Done! Cost 0.13 Secs\n",
      "Sat Apr 13 17:39:22 2024 : Updated ~ data\\DataBase\\DB_models\\risk_exp\\2024\\risk_exp.20240410.feather Done! Cost 0.08 Secs\n",
      "Sat Apr 13 17:39:22 2024 : Updated ~ data\\DataBase\\DB_models\\longcl_exp\\2024\\longcl_exp.20240410.feather Done! Cost 0.12 Secs\n",
      "Sat Apr 13 17:39:23 2024 : Updated ~ data\\DataBase\\DB_models\\risk_exp\\2024\\risk_exp.20240411.feather Done! Cost 0.08 Secs\n",
      "Sat Apr 13 17:39:23 2024 : Updated ~ data\\DataBase\\DB_models\\risk_exp\\2024\\risk_exp.20240412.feather Done! Cost 0.07 Secs\n",
      "Sat Apr 13 17:39:25 2024 : Updated ~ data\\DataBase\\DB_trade\\day\\2024\\day.20240408.feather Done! Cost 0.08 Secs\n",
      "Sat Apr 13 17:39:26 2024 : Updated ~ data\\DataBase\\DB_trade\\5day\\2024\\5day.20240408.feather Done! Cost 0.39 Secs\n",
      "Sat Apr 13 17:39:26 2024 : Updated ~ data\\DataBase\\DB_trade\\10day\\2024\\10day.20240408.feather Done! Cost 0.60 Secs\n",
      "Sat Apr 13 17:39:28 2024 : Updated ~ data\\DataBase\\DB_trade\\20day\\2024\\20day.20240408.feather Done! Cost 1.22 Secs\n",
      "Sat Apr 13 17:39:32 2024 : Updated ~ data\\DataBase\\DB_trade\\min\\2024\\min.20240408.feather Done! Cost 4.14 Secs\n",
      "Sat Apr 13 17:39:32 2024 : Updated ~ data\\DataBase\\DB_trade\\5min\\2024\\5min.20240408.feather Done! Cost 0.38 Secs\n",
      "Sat Apr 13 17:39:33 2024 : Updated ~ data\\DataBase\\DB_trade\\10min\\2024\\10min.20240408.feather Done! Cost 0.34 Secs\n",
      "Sat Apr 13 17:39:33 2024 : Updated ~ data\\DataBase\\DB_trade\\15min\\2024\\15min.20240408.feather Done! Cost 0.37 Secs\n",
      "Sat Apr 13 17:39:33 2024 : Updated ~ data\\DataBase\\DB_trade\\30min\\2024\\30min.20240408.feather Done! Cost 0.31 Secs\n",
      "Sat Apr 13 17:39:34 2024 : Updated ~ data\\DataBase\\DB_trade\\60min\\2024\\60min.20240408.feather Done! Cost 0.31 Secs\n",
      "Sat Apr 13 17:39:34 2024 : Updated ~ data\\DataBase\\DB_trade\\day\\2024\\day.20240409.feather Done! Cost 0.08 Secs\n",
      "Sat Apr 13 17:39:34 2024 : Updated ~ data\\DataBase\\DB_trade\\5day\\2024\\5day.20240409.feather Done! Cost 0.30 Secs\n",
      "Sat Apr 13 17:39:34 2024 : Updated ~ data\\DataBase\\DB_trade\\10day\\2024\\10day.20240409.feather Done! Cost 0.60 Secs\n",
      "Sat Apr 13 17:39:36 2024 : Updated ~ data\\DataBase\\DB_trade\\20day\\2024\\20day.20240409.feather Done! Cost 1.10 Secs\n",
      "Sat Apr 13 17:39:40 2024 : Updated ~ data\\DataBase\\DB_trade\\min\\2024\\min.20240409.feather Done! Cost 4.52 Secs\n",
      "Sat Apr 13 17:39:41 2024 : Updated ~ data\\DataBase\\DB_trade\\5min\\2024\\5min.20240409.feather Done! Cost 0.40 Secs\n",
      "Sat Apr 13 17:39:41 2024 : Updated ~ data\\DataBase\\DB_trade\\10min\\2024\\10min.20240409.feather Done! Cost 0.32 Secs\n",
      "Sat Apr 13 17:39:41 2024 : Updated ~ data\\DataBase\\DB_trade\\15min\\2024\\15min.20240409.feather Done! Cost 0.33 Secs\n",
      "Sat Apr 13 17:39:41 2024 : Updated ~ data\\DataBase\\DB_trade\\30min\\2024\\30min.20240409.feather Done! Cost 0.30 Secs\n",
      "Sat Apr 13 17:39:42 2024 : Updated ~ data\\DataBase\\DB_trade\\60min\\2024\\60min.20240409.feather Done! Cost 0.30 Secs\n",
      "Sat Apr 13 17:39:42 2024 : Updated ~ data\\DataBase\\DB_trade\\day\\2024\\day.20240410.feather Done! Cost 0.08 Secs\n",
      "Sat Apr 13 17:39:42 2024 : Updated ~ data\\DataBase\\DB_trade\\5day\\2024\\5day.20240410.feather Done! Cost 0.33 Secs\n",
      "Sat Apr 13 17:39:43 2024 : Updated ~ data\\DataBase\\DB_trade\\10day\\2024\\10day.20240410.feather Done! Cost 0.60 Secs\n",
      "Sat Apr 13 17:39:44 2024 : Updated ~ data\\DataBase\\DB_trade\\20day\\2024\\20day.20240410.feather Done! Cost 1.11 Secs\n",
      "Sat Apr 13 17:39:48 2024 : Updated ~ data\\DataBase\\DB_trade\\min\\2024\\min.20240410.feather Done! Cost 4.52 Secs\n",
      "Sat Apr 13 17:39:49 2024 : Updated ~ data\\DataBase\\DB_trade\\5min\\2024\\5min.20240410.feather Done! Cost 0.40 Secs\n",
      "Sat Apr 13 17:39:49 2024 : Updated ~ data\\DataBase\\DB_trade\\10min\\2024\\10min.20240410.feather Done! Cost 0.33 Secs\n",
      "Sat Apr 13 17:39:49 2024 : Updated ~ data\\DataBase\\DB_trade\\15min\\2024\\15min.20240410.feather Done! Cost 0.35 Secs\n",
      "Sat Apr 13 17:39:50 2024 : Updated ~ data\\DataBase\\DB_trade\\30min\\2024\\30min.20240410.feather Done! Cost 0.30 Secs\n",
      "Sat Apr 13 17:39:50 2024 : Updated ~ data\\DataBase\\DB_trade\\60min\\2024\\60min.20240410.feather Done! Cost 0.30 Secs\n",
      "Sat Apr 13 17:39:50 2024 : Updated ~ data\\DataBase\\DB_trade\\day\\2024\\day.20240411.feather Done! Cost 0.08 Secs\n",
      "Sat Apr 13 17:39:50 2024 : Updated ~ data\\DataBase\\DB_trade\\5day\\2024\\5day.20240411.feather Done! Cost 0.29 Secs\n",
      "Sat Apr 13 17:39:51 2024 : Updated ~ data\\DataBase\\DB_trade\\10day\\2024\\10day.20240411.feather Done! Cost 0.55 Secs\n",
      "Sat Apr 13 17:39:52 2024 : Updated ~ data\\DataBase\\DB_trade\\20day\\2024\\20day.20240411.feather Done! Cost 1.12 Secs\n",
      "Sat Apr 13 17:39:57 2024 : Updated ~ data\\DataBase\\DB_trade\\min\\2024\\min.20240411.feather Done! Cost 4.44 Secs\n",
      "Sat Apr 13 17:39:57 2024 : Updated ~ data\\DataBase\\DB_trade\\5min\\2024\\5min.20240411.feather Done! Cost 0.49 Secs\n",
      "Sat Apr 13 17:39:57 2024 : Updated ~ data\\DataBase\\DB_trade\\10min\\2024\\10min.20240411.feather Done! Cost 0.37 Secs\n",
      "Sat Apr 13 17:39:58 2024 : Updated ~ data\\DataBase\\DB_trade\\15min\\2024\\15min.20240411.feather Done! Cost 0.33 Secs\n",
      "Sat Apr 13 17:39:58 2024 : Updated ~ data\\DataBase\\DB_trade\\30min\\2024\\30min.20240411.feather Done! Cost 0.40 Secs\n",
      "Sat Apr 13 17:39:58 2024 : Updated ~ data\\DataBase\\DB_trade\\60min\\2024\\60min.20240411.feather Done! Cost 0.34 Secs\n",
      "Sat Apr 13 17:39:59 2024 : Updated ~ data\\DataBase\\DB_trade\\day\\2024\\day.20240412.feather Done! Cost 0.07 Secs\n",
      "Sat Apr 13 17:39:59 2024 : Updated ~ data\\DataBase\\DB_trade\\5day\\2024\\5day.20240412.feather Done! Cost 0.30 Secs\n",
      "Sat Apr 13 17:39:59 2024 : Updated ~ data\\DataBase\\DB_trade\\10day\\2024\\10day.20240412.feather Done! Cost 0.55 Secs\n",
      "Sat Apr 13 17:40:01 2024 : Updated ~ data\\DataBase\\DB_trade\\20day\\2024\\20day.20240412.feather Done! Cost 1.10 Secs\n",
      "Sat Apr 13 17:40:05 2024 : Updated ~ data\\DataBase\\DB_trade\\min\\2024\\min.20240412.feather Done! Cost 4.19 Secs\n",
      "Sat Apr 13 17:40:05 2024 : Updated ~ data\\DataBase\\DB_trade\\5min\\2024\\5min.20240412.feather Done! Cost 0.38 Secs\n",
      "Sat Apr 13 17:40:05 2024 : Updated ~ data\\DataBase\\DB_trade\\10min\\2024\\10min.20240412.feather Done! Cost 0.32 Secs\n",
      "Sat Apr 13 17:40:06 2024 : Updated ~ data\\DataBase\\DB_trade\\15min\\2024\\15min.20240412.feather Done! Cost 0.33 Secs\n",
      "Sat Apr 13 17:40:06 2024 : Updated ~ data\\DataBase\\DB_trade\\30min\\2024\\30min.20240412.feather Done! Cost 0.29 Secs\n",
      "Sat Apr 13 17:40:06 2024 : Updated ~ data\\DataBase\\DB_trade\\60min\\2024\\60min.20240412.feather Done! Cost 0.32 Secs\n",
      "Sat Apr 13 17:40:10 2024 : Updated ~ data\\DataBase\\DB_labels\\ret20_lag\\2024\\ret20_lag.20240306.feather Done! Cost 0.75 Secs\n",
      "Sat Apr 13 17:40:10 2024 : Updated ~ data\\DataBase\\DB_labels\\ret20\\2024\\ret20.20240307.feather Done! Cost 0.42 Secs\n",
      "Sat Apr 13 17:40:11 2024 : Updated ~ data\\DataBase\\DB_labels\\ret20_lag\\2024\\ret20_lag.20240307.feather Done! Cost 0.47 Secs\n",
      "Sat Apr 13 17:40:11 2024 : Updated ~ data\\DataBase\\DB_labels\\ret20\\2024\\ret20.20240308.feather Done! Cost 0.53 Secs\n",
      "Sat Apr 13 17:40:12 2024 : Updated ~ data\\DataBase\\DB_labels\\ret20_lag\\2024\\ret20_lag.20240308.feather Done! Cost 0.45 Secs\n",
      "Sat Apr 13 17:40:12 2024 : Updated ~ data\\DataBase\\DB_labels\\ret20\\2024\\ret20.20240311.feather Done! Cost 0.43 Secs\n",
      "Sat Apr 13 17:40:13 2024 : Updated ~ data\\DataBase\\DB_labels\\ret20_lag\\2024\\ret20_lag.20240311.feather Done! Cost 0.42 Secs\n",
      "Sat Apr 13 17:40:13 2024 : Updated ~ data\\DataBase\\DB_labels\\ret20\\2024\\ret20.20240312.feather Done! Cost 0.44 Secs\n",
      "Sat Apr 13 17:40:14 2024 : Updated ~ data\\DataBase\\DB_labels\\ret20_lag\\2024\\ret20_lag.20240312.feather Done! Cost 0.51 Secs\n",
      "Sat Apr 13 17:40:14 2024 : Updated ~ data\\DataBase\\DB_labels\\ret20\\2024\\ret20.20240313.feather Done! Cost 0.42 Secs\n",
      "Sat Apr 13 17:40:16 2024 : Updated ~ data\\DataBase\\DB_labels\\ret10_lag\\2024\\ret10_lag.20240320.feather Done! Cost 0.34 Secs\n",
      "Sat Apr 13 17:40:17 2024 : Updated ~ data\\DataBase\\DB_labels\\ret10\\2024\\ret10.20240321.feather Done! Cost 0.28 Secs\n",
      "Sat Apr 13 17:40:17 2024 : Updated ~ data\\DataBase\\DB_labels\\ret10_lag\\2024\\ret10_lag.20240321.feather Done! Cost 0.28 Secs\n",
      "Sat Apr 13 17:40:18 2024 : Updated ~ data\\DataBase\\DB_labels\\ret10\\2024\\ret10.20240322.feather Done! Cost 0.28 Secs\n",
      "Sat Apr 13 17:40:18 2024 : Updated ~ data\\DataBase\\DB_labels\\ret10_lag\\2024\\ret10_lag.20240322.feather Done! Cost 0.31 Secs\n",
      "Sat Apr 13 17:40:19 2024 : Updated ~ data\\DataBase\\DB_labels\\ret10\\2024\\ret10.20240325.feather Done! Cost 0.38 Secs\n",
      "Sat Apr 13 17:40:19 2024 : Updated ~ data\\DataBase\\DB_labels\\ret10_lag\\2024\\ret10_lag.20240325.feather Done! Cost 0.32 Secs\n",
      "Sat Apr 13 17:40:20 2024 : Updated ~ data\\DataBase\\DB_labels\\ret10\\2024\\ret10.20240326.feather Done! Cost 0.35 Secs\n",
      "Sat Apr 13 17:40:20 2024 : Updated ~ data\\DataBase\\DB_labels\\ret10_lag\\2024\\ret10_lag.20240326.feather Done! Cost 0.26 Secs\n",
      "Sat Apr 13 17:40:20 2024 : Updated ~ data\\DataBase\\DB_labels\\ret5_lag\\2024\\ret5_lag.20240327.feather Done! Cost 0.21 Secs\n",
      "Sat Apr 13 17:40:21 2024 : Updated ~ data\\DataBase\\DB_labels\\ret10\\2024\\ret10.20240327.feather Done! Cost 0.25 Secs\n",
      "Sat Apr 13 17:40:21 2024 : Updated ~ data\\DataBase\\DB_labels\\ret5\\2024\\ret5.20240328.feather Done! Cost 0.22 Secs\n",
      "Sat Apr 13 17:40:21 2024 : Updated ~ data\\DataBase\\DB_labels\\ret5_lag\\2024\\ret5_lag.20240328.feather Done! Cost 0.22 Secs\n",
      "Sat Apr 13 17:40:22 2024 : Updated ~ data\\DataBase\\DB_labels\\ret5\\2024\\ret5.20240329.feather Done! Cost 0.22 Secs\n",
      "Sat Apr 13 17:40:22 2024 : Updated ~ data\\DataBase\\DB_labels\\ret5_lag\\2024\\ret5_lag.20240329.feather Done! Cost 0.30 Secs\n",
      "Sat Apr 13 17:40:23 2024 : Updated ~ data\\DataBase\\DB_labels\\ret5\\2024\\ret5.20240401.feather Done! Cost 0.22 Secs\n",
      "Sat Apr 13 17:40:23 2024 : Updated ~ data\\DataBase\\DB_labels\\ret5_lag\\2024\\ret5_lag.20240401.feather Done! Cost 0.25 Secs\n",
      "Sat Apr 13 17:40:24 2024 : Updated ~ data\\DataBase\\DB_labels\\ret5\\2024\\ret5.20240402.feather Done! Cost 0.23 Secs\n",
      "Sat Apr 13 17:40:25 2024 : Updated ~ data\\DataBase\\DB_labels\\ret5_lag\\2024\\ret5_lag.20240402.feather Done! Cost 0.25 Secs\n",
      "Sat Apr 13 17:40:26 2024 : Updated ~ data\\DataBase\\DB_labels\\ret5\\2024\\ret5.20240403.feather Done! Cost 0.22 Secs\n"
     ]
    },
    {
     "name": "stderr",
     "output_type": "stream",
     "text": [
      "\u001b[1m\u001b[37m\u001b[41m24-04-13 17:40:30|MOD:PreProcess  |\u001b[0m: \u001b[1m\u001b[31mif_train is False , Data Processing start!\u001b[0m\n",
      "\u001b[1m\u001b[37m\u001b[45m24-04-13 17:40:30|MOD:PreProcess  |\u001b[0m: \u001b[1m\u001b[35m3 datas :['y', 'trade_day', 'trade_30m']\u001b[0m\n"
     ]
    },
    {
     "name": "stdout",
     "output_type": "stream",
     "text": [
      "Sat Apr 13 17:40:30 2024 : All Updates Done! Cost 78.61 Secs\n",
      "Sat Apr 13 17:40:30 2024 : y start ...\n",
      "labels blocks reading ret10_lag DataBase's ...... cost 0.61 secs\n",
      "labels blocks reading ret20_lag DataBase's ...... cost 0.52 secs\n",
      "labels blocks merging ...... cost 0.05 secs\n",
      "models blocks reading risk_exp DataBase's ...... cost 1.99 secs\n",
      "models blocks merging ...... cost 0.16 secs\n",
      "y blocks process ...... cost 2.75 secs\n",
      "y blocks masking ...... cost 0.11 secs\n",
      "y blocks saving  ...... cost 0.12 secs\n",
      "y blocks norming ...... cost 0.00 secs\n",
      "Sat Apr 13 17:40:37 2024 : y finished! Cost 6.31 Seconds\n",
      "Sat Apr 13 17:40:37 2024 : trade_day start ...\n",
      "trade blocks reading day DataBase's ...... cost 1.01 secs\n",
      "trade_day blocks merging ...... cost 0.00 secs\n",
      "trade_day blocks process ...... cost 0.07 secs\n",
      "trade_day blocks masking ...... cost 0.11 secs\n",
      "trade_day blocks saving  ...... cost 0.18 secs\n",
      "trade_day blocks norming ...... cost 0.00 secs\n",
      "Sat Apr 13 17:40:38 2024 : trade_day finished! Cost 1.38 Seconds\n",
      "Sat Apr 13 17:40:38 2024 : trade_30m start ...\n",
      "trade blocks reading 30min DataBase's ...... cost 3.22 secs\n",
      "trade_30m blocks merging ...... cost 0.00 secs\n",
      "trade blocks reading day DataBase's ...... cost 0.68 secs\n",
      "trade_day blocks merging ...... cost 0.03 secs\n",
      "trade_30m blocks process ...... cost 0.80 secs\n",
      "trade_30m blocks masking ...... cost 0.08 secs\n",
      "trade_30m blocks saving  ..."
     ]
    },
    {
     "name": "stderr",
     "output_type": "stream",
     "text": [
      "\u001b[1m\u001b[37m\u001b[41m24-04-13 17:40:44|MOD:PreProcess  |\u001b[0m: \u001b[1m\u001b[31mData Processing Finished! Cost 13.97 Seconds\u001b[0m\n"
     ]
    },
    {
     "name": "stdout",
     "output_type": "stream",
     "text": [
      "... cost 1.13 secs\n",
      "trade_30m blocks norming ...... cost 0.00 secs\n",
      "Sat Apr 13 17:40:44 2024 : trade_30m finished! Cost 5.95 Seconds\n"
     ]
    }
   ],
   "source": [
    "import src.data as data\n",
    "\n",
    "data.DataFetcher.main()\n",
    "data.PreProcess.main(False)\n",
    "\n"
   ]
  },
  {
   "cell_type": "code",
   "execution_count": null,
   "metadata": {},
   "outputs": [],
   "source": [
    "from run_model import ModelPred\n",
    "\n",
    "model_preds = [\n",
    "    ModelPred('gru_day'    , 'swalast' , 0 , 'gru_day_V0') ,\n",
    "    ModelPred('gruRTN_day' , 'swalast' , 0 , 'gruRTN_day_V0') ,\n",
    "    ModelPred('gruRES_day' , 'swalast' , 0 , 'gruRES_day_V0')\n",
    "]\n",
    "[md.get_df().deploy() for md in model_preds]"
   ]
  },
  {
   "cell_type": "code",
   "execution_count": 1,
   "metadata": {},
   "outputs": [
    {
     "name": "stdout",
     "output_type": "stream",
     "text": [
      "d:\\Coding\\learndl\\learndl\\model/gru_day/model_gru.yaml\n",
      "Load  2 DataBlocks ...... cost 0.08 secs\n",
      "Align 2 DataBlocks ...... cost 0.11 secs\n",
      "20231201 new\n",
      "Pre-Norming method of [day] : [endpoint_division(True) , history_standardize(True)]\n"
     ]
    },
    {
     "data": {
      "text/plain": [
       "ModelPred(model_name='gru_day', model_type='swalast', model_num=0, alias='gru_day_V0', df=       secid      date   gru_day\n",
       "0          1  20240401  0.754627\n",
       "1          2  20240401 -1.241937\n",
       "2          4  20240401 -8.535885\n",
       "3          6  20240401 -0.204401\n",
       "4          7  20240401  1.486538\n",
       "...      ...       ...       ...\n",
       "5096  688799  20240403  1.810010\n",
       "5097  688800  20240403  2.127807\n",
       "5098  688819  20240403  2.988075\n",
       "5099  688981  20240403  0.242482\n",
       "5100  689009  20240403  0.015975\n",
       "\n",
       "[15305 rows x 3 columns])"
      ]
     },
     "execution_count": 1,
     "metadata": {},
     "output_type": "execute_result"
    }
   ],
   "source": [
    "\n",
    "\n",
    "from run_model import ModelPred\n",
    "md = ModelPred('gru_day' , 'swalast' , 0 , 'gru_day_V0')\n",
    "md.get_df()"
   ]
  }
 ],
 "metadata": {
  "kernelspec": {
   "display_name": "Python 3",
   "language": "python",
   "name": "python3"
  },
  "language_info": {
   "codemirror_mode": {
    "name": "ipython",
    "version": 3
   },
   "file_extension": ".py",
   "mimetype": "text/x-python",
   "name": "python",
   "nbconvert_exporter": "python",
   "pygments_lexer": "ipython3",
   "version": "3.11.8"
  }
 },
 "nbformat": 4,
 "nbformat_minor": 2
}
