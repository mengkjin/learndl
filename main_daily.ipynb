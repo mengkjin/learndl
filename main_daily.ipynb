{
 "cells": [
  {
   "cell_type": "code",
   "execution_count": 1,
   "metadata": {},
   "outputs": [
    {
     "name": "stdout",
     "output_type": "stream",
     "text": [
      "Update Files\n",
      "Tue Jun 25 00:07:07 2024 : Updated ~ data\\DataBase\\DB_information\\calendar.feather Done! Cost 0.02 Secs\n",
      "Tue Jun 25 00:07:07 2024 : Updated ~ data\\DataBase\\DB_information\\description.feather Done! Cost 0.05 Secs\n",
      "Tue Jun 25 00:07:07 2024 : Updated ~ data\\DataBase\\DB_information\\st.feather Done! Cost 0.06 Secs\n",
      "Tue Jun 25 00:07:13 2024 : Updated ~ data\\DataBase\\DB_information\\industry.feather Done! Cost 5.62 Secs\n",
      "Tue Jun 25 00:07:19 2024 : Updated ~ data\\DataBase\\DB_information\\concepts.feather Done! Cost 6.03 Secs\n",
      "Tue Jun 25 00:07:20 2024 : Updated ~ data\\DataBase\\DB_models\\longcl_exp\\2024\\longcl_exp.20240621.feather Done! Cost 0.12 Secs\n",
      "Tue Jun 25 00:07:20 2024 : Updated ~ data\\DataBase\\DB_models\\risk_exp\\2024\\risk_exp.20240624.feather Done! Cost 0.05 Secs\n",
      "Tue Jun 25 00:07:21 2024 : Updated ~ data\\DataBase\\DB_models\\risk_cov\\2024\\risk_cov.20240624.feather Done! Cost 0.03 Secs\n",
      "Tue Jun 25 00:07:21 2024 : Updated ~ data\\DataBase\\DB_models\\risk_spec\\2024\\risk_spec.20240624.feather Done! Cost 0.01 Secs\n",
      "Tue Jun 25 00:07:23 2024 : Updated ~ data\\DataBase\\DB_trade\\day\\2024\\day.20240624.feather Done! Cost 0.06 Secs\n",
      "Tue Jun 25 00:07:23 2024 : Updated ~ data\\DataBase\\DB_trade\\5day\\2024\\5day.20240624.feather Done! Cost 0.25 Secs\n",
      "Tue Jun 25 00:07:23 2024 : Updated ~ data\\DataBase\\DB_trade\\10day\\2024\\10day.20240624.feather Done! Cost 0.44 Secs\n",
      "Tue Jun 25 00:07:24 2024 : Updated ~ data\\DataBase\\DB_trade\\20day\\2024\\20day.20240624.feather Done! Cost 0.80 Secs\n",
      "Tue Jun 25 00:07:27 2024 : Updated ~ data\\DataBase\\DB_trade\\min\\2024\\min.20240624.feather Done! Cost 3.05 Secs\n",
      "Tue Jun 25 00:07:27 2024 : Updated ~ data\\DataBase\\DB_trade\\5min\\2024\\5min.20240624.feather Done! Cost 0.31 Secs\n",
      "Tue Jun 25 00:07:28 2024 : Updated ~ data\\DataBase\\DB_trade\\10min\\2024\\10min.20240624.feather Done! Cost 0.25 Secs\n",
      "Tue Jun 25 00:07:28 2024 : Updated ~ data\\DataBase\\DB_trade\\15min\\2024\\15min.20240624.feather Done! Cost 0.25 Secs\n",
      "Tue Jun 25 00:07:28 2024 : Updated ~ data\\DataBase\\DB_trade\\30min\\2024\\30min.20240624.feather Done! Cost 0.24 Secs\n",
      "Tue Jun 25 00:07:28 2024 : Updated ~ data\\DataBase\\DB_trade\\60min\\2024\\60min.20240624.feather Done! Cost 0.27 Secs\n",
      "Tue Jun 25 00:07:31 2024 : Updated ~ data\\DataBase\\DB_labels\\ret20_lag\\2024\\ret20_lag.20240523.feather Done! Cost 0.32 Secs\n",
      "Tue Jun 25 00:07:31 2024 : Updated ~ data\\DataBase\\DB_labels\\ret20\\2024\\ret20.20240524.feather Done! Cost 0.29 Secs\n",
      "Tue Jun 25 00:07:34 2024 : Updated ~ data\\DataBase\\DB_labels\\ret10_lag\\2024\\ret10_lag.20240606.feather Done! Cost 0.21 Secs\n",
      "Tue Jun 25 00:07:34 2024 : Updated ~ data\\DataBase\\DB_labels\\ret10\\2024\\ret10.20240607.feather Done! Cost 0.22 Secs\n",
      "Tue Jun 25 00:07:36 2024 : Updated ~ data\\DataBase\\DB_labels\\ret5_lag\\2024\\ret5_lag.20240614.feather Done! Cost 0.18 Secs\n",
      "Tue Jun 25 00:07:37 2024 : Updated ~ data\\DataBase\\DB_labels\\ret5\\2024\\ret5.20240617.feather Done! Cost 0.18 Secs\n",
      "Tue Jun 25 00:07:41 2024 : Updated ~ data\\DataBase\\DB_benchmark\\csi300\\2024\\csi300.20240624.feather Done! Cost 0.02 Secs\n",
      "Tue Jun 25 00:07:41 2024 : Updated ~ data\\DataBase\\DB_benchmark\\csi500\\2024\\csi500.20240624.feather Done! Cost 0.02 Secs\n",
      "Tue Jun 25 00:07:41 2024 : Updated ~ data\\DataBase\\DB_benchmark\\csi1000\\2024\\csi1000.20240624.feather Done! Cost 0.01 Secs\n",
      "Tue Jun 25 00:07:41 2024 : download since!\n",
      "Connection and Factor preparation finished!\n",
      "Tue Jun 25 00:07:41 2024 : sellside/haitong.hf_factors from 20240622 to 20240625, total 1 periods\n",
      "Start sellside/haitong.hf_factors:20240622-20240625 \n",
      "Done sellside/haitong.hf_factors:20240622-20240625, cost 5.8 Secs\n",
      "Tue Jun 25 00:07:47 2024 : sellside/haitong.dl_factors from 20240622 to 20240625, total 1 periods\n",
      "Start sellside/haitong.dl_factors:20240622-20240625 \n",
      "Done sellside/haitong.dl_factors:20240622-20240625, cost 94.0 Secs\n",
      "Tue Jun 25 00:09:21 2024 : sellside/dongfang.hfq_chars from 20240622 to 20240625, total 1 periods\n",
      "Start sellside/dongfang.hfq_chars:20240622-20240625 \n",
      "Done sellside/dongfang.hfq_chars:20240622-20240625, cost 4.5 Secs\n",
      "Tue Jun 25 00:09:25 2024 : sellside/dongfang.l2_chars from 20240622 to 20240625, total 1 periods\n",
      "Start sellside/dongfang.l2_chars:20240622-20240625 \n",
      "Done sellside/dongfang.l2_chars:20240622-20240625, cost 84.9 Secs\n",
      "Tue Jun 25 00:10:51 2024 : sellside/dongfang.ms_chars from 20240622 to 20240625, total 1 periods\n",
      "Start sellside/dongfang.ms_chars:20240622-20240625 \n",
      "Done sellside/dongfang.ms_chars:20240622-20240625, cost 50.4 Secs\n",
      "Tue Jun 25 00:11:41 2024 : sellside/dongfang.order_flow from 20240622 to 20240625, total 1 periods\n",
      "Start sellside/dongfang.order_flow:20240622-20240625 \n",
      "Done sellside/dongfang.order_flow:20240622-20240625, cost 1.2 Secs\n",
      "Tue Jun 25 00:11:42 2024 : sellside/dongfang.gp from 20240621 to 20240625, total 1 periods\n",
      "Start sellside/dongfang.gp:20240621-20240625 \n",
      "Done sellside/dongfang.gp:20240621-20240625, cost 3.0 Secs\n",
      "Tue Jun 25 00:11:45 2024 : sellside/dongfang.tra from 20240621 to 20240625, total 1 periods\n",
      "Start sellside/dongfang.tra:20240621-20240625 \n",
      "Done sellside/dongfang.tra:20240621-20240625, cost 2.7 Secs\n",
      "Tue Jun 25 00:11:48 2024 : sellside/dongfang.hist from 20240621 to 20240625, total 1 periods\n",
      "Start sellside/dongfang.hist:20240621-20240625 \n",
      "Done sellside/dongfang.hist:20240621-20240625, cost 2.0 Secs\n",
      "Tue Jun 25 00:11:50 2024 : sellside/dongfang.scores_v0 from 20240622 to 20240625, total 1 periods\n",
      "Start sellside/dongfang.scores_v0:20240622-20240625 \n",
      "Done sellside/dongfang.scores_v0:20240622-20240625, cost 1.5 Secs\n",
      "Tue Jun 25 00:11:52 2024 : sellside/dongfang.factorvae from 20240621 to 20240625, total 1 periods\n",
      "Start sellside/dongfang.factorvae:20240621-20240625 \n",
      "Done sellside/dongfang.factorvae:20240621-20240625, cost 2.0 Secs\n",
      "Tue Jun 25 00:11:54 2024 : sellside/huatai.dl_factors from 20240622 to 20240625, total 1 periods\n",
      "Start sellside/huatai.dl_factors:20240622-20240625 \n",
      "Done sellside/huatai.dl_factors:20240622-20240625, cost 1.3 Secs\n",
      "Tue Jun 25 00:11:55 2024 : All Updates Done! Cost 287.98 Secs\n",
      "--------------------------------------------------------------------------------\n",
      "predict is True , Data Processing start!\n",
      "4 datas :['y', 'day', '30m', 'risk']\n",
      "y blocks loading start!\n",
      " --> labels blocks reading [ret10_lag] DataBase...... finished! Cost 0.92 secs\n",
      " --> labels blocks reading [ret20_lag] DataBase...... finished! Cost 0.86 secs\n",
      " --> labels blocks merging (2)...... finished! Cost 0.16 secs\n",
      " --> models blocks reading [risk_exp] DataBase...... finished! Cost 3.33 secs\n",
      "y blocks loading finished! Cost 5.61 secs\n",
      "y blocks process...... finished! Cost 4.27 secs\n",
      "y blocks masking...... finished! Cost 0.08 secs\n",
      "y blocks saving ...... finished! Cost 0.14 secs\n",
      "y blocks norming...... finished! Cost 0.00 secs\n",
      "y finished! Cost 10.49 Seconds\n",
      "--------------------------------------------------------------------------------\n",
      "day blocks loading start!\n",
      " --> trade blocks reading [day] DataBase...... finished! Cost 1.50 secs\n",
      "day blocks loading finished! Cost 1.52 secs\n",
      "day blocks process...... finished! Cost 0.16 secs\n",
      "day blocks masking...... finished! Cost 0.07 secs\n",
      "day blocks saving ...... finished! Cost 0.14 secs\n",
      "day blocks norming...... finished! Cost 0.00 secs\n",
      "day finished! Cost 2.03 Seconds\n",
      "--------------------------------------------------------------------------------\n",
      "30m blocks loading start!\n",
      " --> trade blocks reading [30min] DataBase...... finished! Cost 6.13 secs\n",
      " --> trade blocks reading [day] DataBase...... finished! Cost 1.09 secs\n",
      "30m blocks loading finished! Cost 7.27 secs\n",
      "30m blocks process...... finished! Cost 1.69 secs\n",
      "30m blocks masking...... finished! Cost 0.18 secs\n",
      "30m blocks saving ...... finished! Cost 1.88 secs\n",
      "30m blocks norming...... finished! Cost 0.00 secs\n",
      "30m finished! Cost 11.10 Seconds\n",
      "--------------------------------------------------------------------------------\n",
      "risk blocks loading start!\n",
      " --> models blocks reading [risk_exp] DataBase...... finished! Cost 1.58 secs\n",
      "risk blocks loading finished! Cost 1.61 secs\n",
      "risk blocks process...... finished! Cost 0.00 secs\n",
      "risk blocks masking...... finished! Cost 0.10 secs\n",
      "risk blocks saving ...... finished! Cost 0.26 secs\n",
      "risk blocks norming...... finished! Cost 0.00 secs\n",
      "risk finished! Cost 2.07 Seconds\n",
      "--------------------------------------------------------------------------------\n",
      "Data Processing Finished! Cost 25.68 Seconds\n",
      "--------------------------------------------------------------------------------\n",
      "Finish model [gru_day] predicting!\n",
      "Finish model [gruRTN_day] predicting!\n",
      "Finish model [gruRES_day] predicting!\n",
      "--------------------------------------------------------------------------------\n"
     ]
    }
   ],
   "source": [
    "from src import api as API\n",
    "\n",
    "API.DataAPI.update()\n",
    "API.DataAPI.prepare_train_data()\n",
    "API.Predictor.update_factors()"
   ]
  },
  {
   "cell_type": "code",
   "execution_count": 2,
   "metadata": {},
   "outputs": [
    {
     "name": "stdout",
     "output_type": "stream",
     "text": [
      "Load  2 DataBlocks...... finished! Cost 0.11 secs\n",
      "Align 2 DataBlocks...... finished! Cost 0.17 secs\n",
      "Pre-Norming method of [day] : {'divlast': True, 'histnorm': True}\n",
      "20231201 new\n",
      "Load  2 DataBlocks...... finished! Cost 0.03 secs\n",
      "Align 2 DataBlocks...... finished! Cost 0.15 secs\n",
      "Pre-Norming method of [day] : {'divlast': True, 'histnorm': True}\n",
      "20231201 new\n",
      "Load  2 DataBlocks...... finished! Cost 0.03 secs\n",
      "Align 2 DataBlocks...... finished! Cost 0.17 secs\n",
      "Pre-Norming method of [day] : {'divlast': True, 'histnorm': True}\n",
      "20231201 new\n"
     ]
    }
   ],
   "source": [
    "from src import api as API\n",
    "API.Predictor.update_factors()"
   ]
  },
  {
   "cell_type": "code",
   "execution_count": 2,
   "metadata": {},
   "outputs": [
    {
     "name": "stdout",
     "output_type": "stream",
     "text": [
      "Load  2 DataBlocks ..."
     ]
    },
    {
     "name": "stdout",
     "output_type": "stream",
     "text": [
      "... cost 0.22 secs\n",
      "Align 2 DataBlocks ...... cost 0.21 secs\n",
      "Pre-Norming method of [day] : {'divlast': True, 'histnorm': True}\n",
      "x shape is torch.Size([5064, 30, 6])\n",
      "y shape is torch.Size([5064, 1])\n",
      "Test Forward Success\n",
      "metrics :  Metrics.MetricOutput(loss=tensor(1.0688, grad_fn=<AddBackward0>), score=-0.015420470386743546, loss_item=1.068833589553833, penalty=0.0, losses=tensor(1.0688, grad_fn=<ExpBackward0>))\n",
      "Test Metrics Success\n"
     ]
    }
   ],
   "source": [
    "from src import api as API\n",
    "API.ModelTestor.new('ts_mixer').try_metrics()"
   ]
  }
 ],
 "metadata": {
  "kernelspec": {
   "display_name": "Python 3",
   "language": "python",
   "name": "python3"
  },
  "language_info": {
   "codemirror_mode": {
    "name": "ipython",
    "version": 3
   },
   "file_extension": ".py",
   "mimetype": "text/x-python",
   "name": "python",
   "nbconvert_exporter": "python",
   "pygments_lexer": "ipython3",
   "version": "3.11.8"
  }
 },
 "nbformat": 4,
 "nbformat_minor": 2
}
