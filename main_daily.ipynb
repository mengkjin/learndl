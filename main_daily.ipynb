{
 "cells": [
  {
   "cell_type": "code",
   "execution_count": 1,
   "metadata": {},
   "outputs": [
    {
     "name": "stdout",
     "output_type": "stream",
     "text": [
      "Update Files\n",
      "Thu Aug 29 02:02:23 2024 : Updated ~ DB_information\\calendar.feather Done! Cost 0.02 Secs\n",
      "Thu Aug 29 02:02:23 2024 : Updated ~ DB_information\\description.feather Done! Cost 0.04 Secs\n",
      "Thu Aug 29 02:02:23 2024 : Updated ~ DB_information\\st.feather Done! Cost 0.01 Secs\n",
      "Thu Aug 29 02:02:25 2024 : Updated ~ DB_information\\industry.feather Done! Cost 2.52 Secs\n",
      "Thu Aug 29 02:02:30 2024 : Updated ~ DB_information\\concepts.feather Done! Cost 4.58 Secs\n",
      "Thu Aug 29 02:02:31 2024 : Updated ~ DB_models\\longcl_exp\\2024\\longcl_exp.20240827.feather Done! Cost 0.13 Secs\n",
      "Thu Aug 29 02:02:31 2024 : Updated ~ DB_models\\risk_exp\\2024\\risk_exp.20240828.feather Done! Cost 0.04 Secs\n",
      "Thu Aug 29 02:02:31 2024 : Updated ~ DB_models\\risk_cov\\2024\\risk_cov.20240828.feather Done! Cost 0.03 Secs\n",
      "Thu Aug 29 02:02:31 2024 : Updated ~ DB_models\\risk_spec\\2024\\risk_spec.20240828.feather Done! Cost 0.00 Secs\n",
      "Thu Aug 29 02:02:33 2024 : Updated ~ DB_trade\\day\\2024\\day.20240828.feather Done! Cost 0.05 Secs\n",
      "Thu Aug 29 02:02:33 2024 : Updated ~ DB_trade\\5day\\2024\\5day.20240828.feather Done! Cost 0.27 Secs\n",
      "Thu Aug 29 02:02:34 2024 : Updated ~ DB_trade\\10day\\2024\\10day.20240828.feather Done! Cost 0.45 Secs\n",
      "Thu Aug 29 02:02:35 2024 : Updated ~ DB_trade\\20day\\2024\\20day.20240828.feather Done! Cost 0.86 Secs\n",
      "Thu Aug 29 02:02:38 2024 : Updated ~ DB_trade\\min\\2024\\min.20240828.feather Done! Cost 2.98 Secs\n",
      "Thu Aug 29 02:02:38 2024 : Updated ~ DB_trade\\5min\\2024\\5min.20240828.feather Done! Cost 0.28 Secs\n",
      "Thu Aug 29 02:02:38 2024 : Updated ~ DB_trade\\10min\\2024\\10min.20240828.feather Done! Cost 0.28 Secs\n",
      "Thu Aug 29 02:02:38 2024 : Updated ~ DB_trade\\15min\\2024\\15min.20240828.feather Done! Cost 0.24 Secs\n",
      "Thu Aug 29 02:02:39 2024 : Updated ~ DB_trade\\30min\\2024\\30min.20240828.feather Done! Cost 0.24 Secs\n",
      "Thu Aug 29 02:02:39 2024 : Updated ~ DB_trade\\60min\\2024\\60min.20240828.feather Done! Cost 0.24 Secs\n",
      "Thu Aug 29 02:02:41 2024 : Updated ~ DB_labels\\ret20_lag\\2024\\ret20_lag.20240730.feather Done! Cost 0.77 Secs\n",
      "Thu Aug 29 02:02:42 2024 : Updated ~ DB_labels\\ret20\\2024\\ret20.20240731.feather Done! Cost 0.58 Secs\n",
      "Thu Aug 29 02:02:50 2024 : Updated ~ DB_labels\\ret10_lag\\2024\\ret10_lag.20240813.feather Done! Cost 0.50 Secs\n",
      "Thu Aug 29 02:02:51 2024 : Updated ~ DB_labels\\ret10\\2024\\ret10.20240814.feather Done! Cost 0.53 Secs\n",
      "Thu Aug 29 02:02:58 2024 : Updated ~ DB_labels\\ret5_lag\\2024\\ret5_lag.20240820.feather Done! Cost 0.56 Secs\n",
      "Thu Aug 29 02:03:00 2024 : Updated ~ DB_labels\\ret5\\2024\\ret5.20240821.feather Done! Cost 0.46 Secs\n",
      "Thu Aug 29 02:03:13 2024 : download since!\n",
      "Connection and Factor preparation finished!\n",
      "Thu Aug 29 02:03:13 2024 : sellside/dongfang.hfq_chars from 20240828 to 20240829, total 1 periods\n",
      "Start sellside/dongfang.hfq_chars:20240828-20240829 \n",
      "Done sellside/dongfang.hfq_chars:20240828-20240829, cost 2.9 Secs\n",
      "Thu Aug 29 02:03:16 2024 : sellside/dongfang.l2_chars from 20240828 to 20240829, total 1 periods\n",
      "Start sellside/dongfang.l2_chars:20240828-20240829 \n",
      "Done sellside/dongfang.l2_chars:20240828-20240829, cost 80.0 Secs\n",
      "Thu Aug 29 02:04:36 2024 : sellside/dongfang.ms_chars from 20240828 to 20240829, total 1 periods\n",
      "Start sellside/dongfang.ms_chars:20240828-20240829 \n",
      "Done sellside/dongfang.ms_chars:20240828-20240829, cost 135.9 Secs\n",
      "Thu Aug 29 02:06:52 2024 : sellside/dongfang.order_flow from 20240828 to 20240829, total 1 periods\n",
      "Start sellside/dongfang.order_flow:20240828-20240829 \n",
      "Done sellside/dongfang.order_flow:20240828-20240829, cost 1.2 Secs\n",
      "Thu Aug 29 02:06:54 2024 : sellside/dongfang.gp from 20240827 to 20240829, total 1 periods\n",
      "Start sellside/dongfang.gp:20240827-20240829 \n",
      "Done sellside/dongfang.gp:20240827-20240829, cost 2.9 Secs\n",
      "Thu Aug 29 02:06:57 2024 : sellside/dongfang.tra from 20240827 to 20240829, total 1 periods\n",
      "Start sellside/dongfang.tra:20240827-20240829 \n",
      "Done sellside/dongfang.tra:20240827-20240829, cost 3.5 Secs\n",
      "Thu Aug 29 02:07:00 2024 : sellside/dongfang.hist from 20240827 to 20240829, total 1 periods\n",
      "Start sellside/dongfang.hist:20240827-20240829 \n",
      "Done sellside/dongfang.hist:20240827-20240829, cost 2.7 Secs\n",
      "Thu Aug 29 02:07:03 2024 : sellside/dongfang.scores_v0 from 20240828 to 20240829, total 1 periods\n",
      "Start sellside/dongfang.scores_v0:20240828-20240829 \n",
      "Done sellside/dongfang.scores_v0:20240828-20240829, cost 2.6 Secs\n",
      "Thu Aug 29 02:07:05 2024 : sellside/dongfang.factorvae from 20240827 to 20240829, total 1 periods\n",
      "Start sellside/dongfang.factorvae:20240827-20240829 \n",
      "Done sellside/dongfang.factorvae:20240827-20240829, cost 2.0 Secs\n",
      "Thu Aug 29 02:07:08 2024 : sellside/huatai.dl_factors from 20240828 to 20240829, total 1 periods\n",
      "Start sellside/huatai.dl_factors:20240828-20240829 \n",
      "Done sellside/huatai.dl_factors:20240828-20240829, cost 1.1 Secs\n",
      "Thu Aug 29 02:07:09 2024 : All Updates Done! Cost 285.91 Secs\n",
      "--------------------------------------------------------------------------------\n",
      "Calendar Updating information_ts/calendar at 20240829\n",
      "Description Updating information_ts/description at 20240829\n",
      "SWIndustry Updating information_ts/industry at 20240829\n",
      "ChangeName Updating information_ts/change_name at 20240829\n",
      "THSConcept Already Updated at 20240731\n",
      "DailyValuation Updating trade_ts/day_val at 20240828\n",
      "DailyValuation Updating trade_ts/day_val at 20240829\n",
      "DailyQuote Updating trade_ts/day at 20240828\n",
      "DailyQuote Updating trade_ts/day at 20240829\n",
      "FinaIndicator Already Updated at 20240630\n",
      "Finish exposure update at date 20240828\n",
      "Finish risk update at date 20240828\n",
      "--------------------------------------------------------------------------------\n",
      "predict is True , Data Processing start!\n",
      "6 datas :['y', 'day', '30m', 'style', 'indus', 'week']\n",
      "y blocks loading start!\n",
      " --> labels blocks reading [ret10_lag] DataBase...... finished! Cost 0.75 secs\n",
      " --> labels blocks reading [ret20_lag] DataBase...... finished! Cost 0.63 secs\n",
      " --> labels blocks merging (2)...... finished! Cost 0.14 secs\n",
      " --> models blocks reading [risk_exp] DataBase...... finished! Cost 2.81 secs\n",
      "y blocks loading finished! Cost 4.65 secs\n",
      "y blocks process...... finished! Cost 4.19 secs\n",
      "y blocks masking...... finished! Cost 0.09 secs\n",
      "y blocks saving ...... finished! Cost 0.13 secs\n",
      "y blocks norming...... finished! Cost 0.00 secs\n",
      "y finished! Cost 9.16 Seconds\n",
      "--------------------------------------------------------------------------------\n",
      "day blocks loading start!\n",
      " --> trade blocks reading [day] DataBase...... finished! Cost 0.94 secs\n",
      "day blocks loading finished! Cost 0.98 secs\n",
      "day blocks process...... finished! Cost 0.13 secs\n",
      "day blocks masking...... finished! Cost 0.09 secs\n",
      "day blocks saving ...... finished! Cost 0.18 secs\n",
      "day blocks norming...... finished! Cost 0.00 secs\n",
      "day finished! Cost 1.50 Seconds\n",
      "--------------------------------------------------------------------------------\n",
      "30m blocks loading start!\n",
      " --> trade blocks reading [30min] DataBase...... finished! Cost 5.37 secs\n",
      " --> trade blocks reading [day] DataBase...... finished! Cost 0.86 secs\n",
      "30m blocks loading finished! Cost 6.27 secs\n",
      "30m blocks process...... finished! Cost 1.61 secs\n",
      "30m blocks masking...... finished! Cost 0.15 secs\n",
      "30m blocks saving ...... finished! Cost 1.72 secs\n",
      "30m blocks norming...... finished! Cost 0.00 secs\n",
      "30m finished! Cost 9.88 Seconds\n",
      "--------------------------------------------------------------------------------\n",
      "style blocks loading start!\n",
      " --> models blocks reading [risk_exp] DataBase...... finished! Cost 1.40 secs\n",
      "style blocks loading finished! Cost 1.43 secs\n",
      "style blocks process...... finished! Cost 0.00 secs\n",
      "style blocks masking...... finished! Cost 0.08 secs\n",
      "style blocks saving ...... finished! Cost 0.23 secs\n",
      "style blocks norming...... finished! Cost 0.00 secs\n",
      "style finished! Cost 1.85 Seconds\n",
      "--------------------------------------------------------------------------------\n",
      "indus blocks loading start!\n",
      " --> models blocks reading [risk_exp] DataBase...... finished! Cost 2.52 secs\n",
      "indus blocks loading finished! Cost 2.52 secs\n",
      "indus blocks process...... finished! Cost 0.00 secs\n",
      "indus blocks masking...... finished! Cost 0.15 secs\n",
      "indus blocks saving ...... finished! Cost 1.25 secs\n",
      "indus blocks norming...... finished! Cost 0.00 secs\n",
      "indus finished! Cost 4.03 Seconds\n",
      "--------------------------------------------------------------------------------\n",
      "week blocks loading start!\n",
      " --> trade blocks reading [day] DataBase...... finished! Cost 1.97 secs\n",
      "week blocks loading finished! Cost 2.00 secs\n",
      "week blocks process...... finished! Cost 1.57 secs\n",
      "week blocks masking...... finished! Cost 0.18 secs\n",
      "week blocks saving ...... finished! Cost 2.51 secs\n",
      "week blocks norming...... finished! Cost 0.00 secs\n",
      "week finished! Cost 6.36 Seconds\n",
      "--------------------------------------------------------------------------------\n",
      "Data Processing Finished! Cost 32.78 Seconds\n",
      "--------------------------------------------------------------------------------\n"
     ]
    },
    {
     "ename": "FileNotFoundError",
     "evalue": "[Errno 2] No such file or directory: 'd:\\\\Coding\\\\learndl\\\\learndl\\\\models\\\\gru_day\\\\default.yaml'",
     "output_type": "error",
     "traceback": [
      "\u001b[1;31m---------------------------------------------------------------------------\u001b[0m",
      "\u001b[1;31mFileNotFoundError\u001b[0m                         Traceback (most recent call last)",
      "Cell \u001b[1;32mIn[1], line 5\u001b[0m\n\u001b[0;32m      3\u001b[0m DataAPI\u001b[38;5;241m.\u001b[39mupdate()\n\u001b[0;32m      4\u001b[0m DataAPI\u001b[38;5;241m.\u001b[39mprepare_predict_data()\n\u001b[1;32m----> 5\u001b[0m \u001b[43mPredictor\u001b[49m\u001b[38;5;241;43m.\u001b[39;49m\u001b[43mupdate_factors\u001b[49m\u001b[43m(\u001b[49m\u001b[43m)\u001b[49m\n",
      "File \u001b[1;32md:\\Coding\\learndl\\learndl\\src\\model\\api\\predictor.py:43\u001b[0m, in \u001b[0;36mPredictor.update_factors\u001b[1;34m(cls, silent)\u001b[0m\n\u001b[0;32m     41\u001b[0m md \u001b[38;5;241m=\u001b[39m \u001b[38;5;28mcls\u001b[39m(model)\n\u001b[0;32m     42\u001b[0m CONF\u001b[38;5;241m.\u001b[39mSILENT \u001b[38;5;241m=\u001b[39m \u001b[38;5;28;01mTrue\u001b[39;00m\n\u001b[1;32m---> 43\u001b[0m \u001b[43mmd\u001b[49m\u001b[38;5;241;43m.\u001b[39;49m\u001b[43mget_df\u001b[49m\u001b[43m(\u001b[49m\u001b[43m)\u001b[49m\u001b[38;5;241m.\u001b[39mdeploy()\n\u001b[0;32m     44\u001b[0m CONF\u001b[38;5;241m.\u001b[39mSILENT \u001b[38;5;241m=\u001b[39m \u001b[38;5;28;01mFalse\u001b[39;00m\n\u001b[0;32m     45\u001b[0m \u001b[38;5;28mprint\u001b[39m(\u001b[38;5;124mf\u001b[39m\u001b[38;5;124m'\u001b[39m\u001b[38;5;124mFinish model [\u001b[39m\u001b[38;5;132;01m{\u001b[39;00mmodel\u001b[38;5;241m.\u001b[39mname\u001b[38;5;132;01m}\u001b[39;00m\u001b[38;5;124m] predicting!\u001b[39m\u001b[38;5;124m'\u001b[39m)\n",
      "File \u001b[1;32md:\\Coding\\learndl\\learndl\\src\\model\\api\\predictor.py:62\u001b[0m, in \u001b[0;36mPredictor.get_df\u001b[1;34m(self, start_dt, end_dt)\u001b[0m\n\u001b[0;32m     60\u001b[0m \u001b[38;5;28;01mdef\u001b[39;00m \u001b[38;5;21mget_df\u001b[39m(\u001b[38;5;28mself\u001b[39m , start_dt \u001b[38;5;241m=\u001b[39m \u001b[38;5;241m-\u001b[39m\u001b[38;5;241m10\u001b[39m , end_dt \u001b[38;5;241m=\u001b[39m \u001b[38;5;241m20991231\u001b[39m):\n\u001b[0;32m     61\u001b[0m \u001b[38;5;250m    \u001b[39m\u001b[38;5;124;03m'''save recent prediction to self.df'''\u001b[39;00m\n\u001b[1;32m---> 62\u001b[0m     \u001b[38;5;28mself\u001b[39m\u001b[38;5;241m.\u001b[39mdf \u001b[38;5;241m=\u001b[39m \u001b[38;5;28;43mself\u001b[39;49m\u001b[38;5;241;43m.\u001b[39;49m\u001b[43mpredict\u001b[49m\u001b[43m(\u001b[49m\u001b[43mstart_dt\u001b[49m\u001b[38;5;241;43m=\u001b[39;49m\u001b[43m \u001b[49m\u001b[43mstart_dt\u001b[49m\u001b[43m \u001b[49m\u001b[43m,\u001b[49m\u001b[43m \u001b[49m\u001b[43mend_dt\u001b[49m\u001b[43m \u001b[49m\u001b[38;5;241;43m=\u001b[39;49m\u001b[43m \u001b[49m\u001b[43mend_dt\u001b[49m\u001b[43m)\u001b[49m\n\u001b[0;32m     63\u001b[0m     \u001b[38;5;28;01mreturn\u001b[39;00m \u001b[38;5;28mself\u001b[39m\n",
      "File \u001b[1;32md:\\Coding\\learndl\\learndl\\src\\model\\api\\predictor.py:83\u001b[0m, in \u001b[0;36mPredictor.predict\u001b[1;34m(self, start_dt, end_dt)\u001b[0m\n\u001b[0;32m     80\u001b[0m \u001b[38;5;28;01mif\u001b[39;00m start_dt \u001b[38;5;241m<\u001b[39m\u001b[38;5;241m=\u001b[39m \u001b[38;5;241m0\u001b[39m: start_dt \u001b[38;5;241m=\u001b[39m today(start_dt)\n\u001b[0;32m     82\u001b[0m device       \u001b[38;5;241m=\u001b[39m Device()\n\u001b[1;32m---> 83\u001b[0m model_config \u001b[38;5;241m=\u001b[39m \u001b[43mTrainConfig\u001b[49m\u001b[38;5;241;43m.\u001b[39;49m\u001b[43mload\u001b[49m\u001b[43m(\u001b[49m\u001b[43mPATH\u001b[49m\u001b[38;5;241;43m.\u001b[39;49m\u001b[43mmodel\u001b[49m\u001b[38;5;241;43m.\u001b[39;49m\u001b[43mjoinpath\u001b[49m\u001b[43m(\u001b[49m\u001b[38;5;28;43mself\u001b[39;49m\u001b[38;5;241;43m.\u001b[39;49m\u001b[43mmodel_name\u001b[49m\u001b[43m)\u001b[49m\u001b[43m)\u001b[49m\n\u001b[0;32m     84\u001b[0m deposition   \u001b[38;5;241m=\u001b[39m Deposition(model_config)\n\u001b[0;32m     85\u001b[0m model_dates  \u001b[38;5;241m=\u001b[39m \u001b[38;5;28mself\u001b[39m\u001b[38;5;241m.\u001b[39mreg_model\u001b[38;5;241m.\u001b[39mmodel_dates \n",
      "File \u001b[1;32md:\\Coding\\learndl\\learndl\\src\\model\\util\\config.py:309\u001b[0m, in \u001b[0;36mTrainConfig.load\u001b[1;34m(cls, config_path, do_parser, par_args, override, makedir)\u001b[0m\n\u001b[0;32m    307\u001b[0m \u001b[38;5;250m\u001b[39m\u001b[38;5;124;03m'''load config yaml to get default/giving params'''\u001b[39;00m\n\u001b[0;32m    308\u001b[0m model_name \u001b[38;5;241m=\u001b[39m config_path\u001b[38;5;241m.\u001b[39mname \u001b[38;5;28;01mif\u001b[39;00m config_path \u001b[38;5;28;01melse\u001b[39;00m \u001b[38;5;28;01mNone\u001b[39;00m\n\u001b[1;32m--> 309\u001b[0m config \u001b[38;5;241m=\u001b[39m \u001b[38;5;28;43mcls\u001b[39;49m\u001b[43m(\u001b[49m\u001b[43mconfig_path\u001b[49m\u001b[43m \u001b[49m\u001b[43m,\u001b[49m\u001b[43m \u001b[49m\u001b[43mmodel_name\u001b[49m\u001b[43m \u001b[49m\u001b[43m,\u001b[49m\u001b[43m \u001b[49m\u001b[43moverride\u001b[49m\u001b[43m)\u001b[49m\n\u001b[0;32m    310\u001b[0m \u001b[38;5;28;01mif\u001b[39;00m do_parser: config\u001b[38;5;241m.\u001b[39mprocess_parser(\u001b[38;5;28mcls\u001b[39m\u001b[38;5;241m.\u001b[39mparser_args(par_args))\n\u001b[0;32m    312\u001b[0m base_path \u001b[38;5;241m=\u001b[39m config\u001b[38;5;241m.\u001b[39mmodel_base_path\n",
      "File \u001b[1;32md:\\Coding\\learndl\\learndl\\src\\model\\util\\config.py:261\u001b[0m, in \u001b[0;36mTrainConfig.__init__\u001b[1;34m(self, config_path, model_name, override)\u001b[0m\n\u001b[0;32m    259\u001b[0m \u001b[38;5;28;01mdef\u001b[39;00m \u001b[38;5;21m__init__\u001b[39m(\u001b[38;5;28mself\u001b[39m , config_path : Optional[Path] , model_name  : Optional[\u001b[38;5;28mstr\u001b[39m] \u001b[38;5;241m=\u001b[39m \u001b[38;5;28;01mNone\u001b[39;00m , override \u001b[38;5;241m=\u001b[39m {}):\n\u001b[0;32m    260\u001b[0m     \u001b[38;5;28mself\u001b[39m\u001b[38;5;241m.\u001b[39mTrain \u001b[38;5;241m=\u001b[39m TrainParam(config_path , model_name , override)\n\u001b[1;32m--> 261\u001b[0m     \u001b[38;5;28mself\u001b[39m\u001b[38;5;241m.\u001b[39mModel \u001b[38;5;241m=\u001b[39m \u001b[38;5;28;43mself\u001b[39;49m\u001b[38;5;241;43m.\u001b[39;49m\u001b[43mTrain\u001b[49m\u001b[38;5;241;43m.\u001b[39;49m\u001b[43mgenerate_model_param\u001b[49m\u001b[43m(\u001b[49m\u001b[43mupdate_inplace\u001b[49m\u001b[43m \u001b[49m\u001b[38;5;241;43m=\u001b[39;49m\u001b[43m \u001b[49m\u001b[38;5;28;43;01mTrue\u001b[39;49;00m\u001b[43m)\u001b[49m\n\u001b[0;32m    263\u001b[0m     \u001b[38;5;28mself\u001b[39m\u001b[38;5;241m.\u001b[39mresume_training: \u001b[38;5;28mbool\u001b[39m  \u001b[38;5;241m=\u001b[39m \u001b[38;5;28;01mFalse\u001b[39;00m\n\u001b[0;32m    264\u001b[0m     \u001b[38;5;28mself\u001b[39m\u001b[38;5;241m.\u001b[39mstage_queue: \u001b[38;5;28mlist\u001b[39m      \u001b[38;5;241m=\u001b[39m []\n",
      "File \u001b[1;32md:\\Coding\\learndl\\learndl\\src\\model\\util\\config.py:64\u001b[0m, in \u001b[0;36mTrainParam.generate_model_param\u001b[1;34m(self, update_inplace, **kwargs)\u001b[0m\n\u001b[0;32m     62\u001b[0m module \u001b[38;5;241m=\u001b[39m \u001b[38;5;28mself\u001b[39m\u001b[38;5;241m.\u001b[39mmodel_module \u001b[38;5;28;01mif\u001b[39;00m \u001b[38;5;28mself\u001b[39m\u001b[38;5;241m.\u001b[39mmodule_type \u001b[38;5;241m==\u001b[39m \u001b[38;5;124m'\u001b[39m\u001b[38;5;124mnn\u001b[39m\u001b[38;5;124m'\u001b[39m \u001b[38;5;28;01melse\u001b[39;00m \u001b[38;5;28mself\u001b[39m\u001b[38;5;241m.\u001b[39mbooster_type\n\u001b[0;32m     63\u001b[0m \u001b[38;5;28;01massert\u001b[39;00m \u001b[38;5;28misinstance\u001b[39m(module , \u001b[38;5;28mstr\u001b[39m) , (\u001b[38;5;28mself\u001b[39m\u001b[38;5;241m.\u001b[39mmodel_module , module)\n\u001b[1;32m---> 64\u001b[0m model_param \u001b[38;5;241m=\u001b[39m \u001b[43mModelParam\u001b[49m\u001b[43m(\u001b[49m\u001b[38;5;28;43mself\u001b[39;49m\u001b[38;5;241;43m.\u001b[39;49m\u001b[43mconfig_path\u001b[49m\u001b[43m \u001b[49m\u001b[43m,\u001b[49m\u001b[43m \u001b[49m\u001b[43mmodule\u001b[49m\u001b[43m \u001b[49m\u001b[43m,\u001b[49m\u001b[43m \u001b[49m\u001b[38;5;28;43mself\u001b[39;49m\u001b[38;5;241;43m.\u001b[39;49m\u001b[43mbooster_head\u001b[49m\u001b[43m \u001b[49m\u001b[43m,\u001b[49m\u001b[43m \u001b[49m\u001b[38;5;28;43mself\u001b[39;49m\u001b[38;5;241;43m.\u001b[39;49m\u001b[43mverbosity\u001b[49m\u001b[43m \u001b[49m\u001b[43m,\u001b[49m\u001b[43m \u001b[49m\u001b[38;5;241;43m*\u001b[39;49m\u001b[38;5;241;43m*\u001b[39;49m\u001b[43mkwargs\u001b[49m\u001b[43m)\u001b[49m\n\u001b[0;32m     65\u001b[0m \u001b[38;5;28;01mif\u001b[39;00m update_inplace: \u001b[38;5;28mself\u001b[39m\u001b[38;5;241m.\u001b[39mupdate_model_param(model_param)\n\u001b[0;32m     66\u001b[0m \u001b[38;5;28;01mreturn\u001b[39;00m model_param\n",
      "File \u001b[1;32md:\\Coding\\learndl\\learndl\\src\\model\\util\\config.py:170\u001b[0m, in \u001b[0;36mModelParam.__init__\u001b[1;34m(self, config_path, module, booster_head, verbosity, clip_n, **kwargs)\u001b[0m\n\u001b[0;32m    168\u001b[0m \u001b[38;5;28mself\u001b[39m\u001b[38;5;241m.\u001b[39mverbosity \u001b[38;5;241m=\u001b[39m verbosity\n\u001b[0;32m    169\u001b[0m \u001b[38;5;28mself\u001b[39m\u001b[38;5;241m.\u001b[39moverride \u001b[38;5;241m=\u001b[39m kwargs\n\u001b[1;32m--> 170\u001b[0m \u001b[38;5;28;43mself\u001b[39;49m\u001b[38;5;241;43m.\u001b[39;49m\u001b[43mload_param\u001b[49m\u001b[43m(\u001b[49m\u001b[43m)\u001b[49m\u001b[38;5;241m.\u001b[39mcheck_validity()\n",
      "File \u001b[1;32md:\\Coding\\learndl\\learndl\\src\\model\\util\\config.py:178\u001b[0m, in \u001b[0;36mModelParam.load_param\u001b[1;34m(self)\u001b[0m\n\u001b[0;32m    177\u001b[0m \u001b[38;5;28;01mdef\u001b[39;00m \u001b[38;5;21mload_param\u001b[39m(\u001b[38;5;28mself\u001b[39m):\n\u001b[1;32m--> 178\u001b[0m     \u001b[38;5;28mself\u001b[39m\u001b[38;5;241m.\u001b[39mmodel_param : \u001b[38;5;28mdict\u001b[39m[\u001b[38;5;28mstr\u001b[39m,Any] \u001b[38;5;241m=\u001b[39m \u001b[43mPATH\u001b[49m\u001b[38;5;241;43m.\u001b[39;49m\u001b[43mread_yaml\u001b[49m\u001b[43m(\u001b[49m\u001b[38;5;28;43mself\u001b[39;49m\u001b[38;5;241;43m.\u001b[39;49m\u001b[43msource_path\u001b[49m\u001b[43m)\u001b[49m\n\u001b[0;32m    179\u001b[0m     \u001b[38;5;28mself\u001b[39m\u001b[38;5;241m.\u001b[39mmodel_param[\u001b[38;5;124m'\u001b[39m\u001b[38;5;124mverbosity\u001b[39m\u001b[38;5;124m'\u001b[39m] \u001b[38;5;241m=\u001b[39m \u001b[38;5;28mself\u001b[39m\u001b[38;5;241m.\u001b[39mverbosity\n\u001b[0;32m    180\u001b[0m     \u001b[38;5;28mself\u001b[39m\u001b[38;5;241m.\u001b[39mmodel_param\u001b[38;5;241m.\u001b[39mupdate(\u001b[38;5;28mself\u001b[39m\u001b[38;5;241m.\u001b[39moverride)\n",
      "File \u001b[1;32md:\\Coding\\learndl\\learndl\\src\\basic\\path.py:30\u001b[0m, in \u001b[0;36mread_yaml\u001b[1;34m(yaml_file, **kwargs)\u001b[0m\n\u001b[0;32m     28\u001b[0m     \u001b[38;5;28;01melif\u001b[39;00m \u001b[38;5;129;01mnot\u001b[39;00m yaml_file\u001b[38;5;241m.\u001b[39mexists() \u001b[38;5;129;01mand\u001b[39;00m yaml_file\u001b[38;5;241m.\u001b[39msuffix \u001b[38;5;241m==\u001b[39m \u001b[38;5;124m'\u001b[39m\u001b[38;5;124m'\u001b[39m \u001b[38;5;129;01mand\u001b[39;00m yaml_file\u001b[38;5;241m.\u001b[39mwith_name(\u001b[38;5;124mf\u001b[39m\u001b[38;5;124m'\u001b[39m\u001b[38;5;132;01m{\u001b[39;00myaml_file\u001b[38;5;241m.\u001b[39mname\u001b[38;5;132;01m}\u001b[39;00m\u001b[38;5;124m.yaml\u001b[39m\u001b[38;5;124m'\u001b[39m)\u001b[38;5;241m.\u001b[39mexists():\n\u001b[0;32m     29\u001b[0m         yaml_file \u001b[38;5;241m=\u001b[39m yaml_file\u001b[38;5;241m.\u001b[39mwith_name(\u001b[38;5;124mf\u001b[39m\u001b[38;5;124m'\u001b[39m\u001b[38;5;132;01m{\u001b[39;00myaml_file\u001b[38;5;241m.\u001b[39mname\u001b[38;5;132;01m}\u001b[39;00m\u001b[38;5;124m.yaml\u001b[39m\u001b[38;5;124m'\u001b[39m)\n\u001b[1;32m---> 30\u001b[0m \u001b[38;5;28;01mwith\u001b[39;00m \u001b[38;5;28;43mopen\u001b[39;49m\u001b[43m(\u001b[49m\u001b[43myaml_file\u001b[49m\u001b[43m \u001b[49m\u001b[43m,\u001b[49m\u001b[38;5;124;43m'\u001b[39;49m\u001b[38;5;124;43mr\u001b[39;49m\u001b[38;5;124;43m'\u001b[39;49m\u001b[43m \u001b[49m\u001b[43m,\u001b[49m\u001b[43m \u001b[49m\u001b[38;5;241;43m*\u001b[39;49m\u001b[38;5;241;43m*\u001b[39;49m\u001b[43mkwargs\u001b[49m\u001b[43m)\u001b[49m \u001b[38;5;28;01mas\u001b[39;00m f:\n\u001b[0;32m     31\u001b[0m     d \u001b[38;5;241m=\u001b[39m yaml\u001b[38;5;241m.\u001b[39mload(f , Loader \u001b[38;5;241m=\u001b[39m yaml\u001b[38;5;241m.\u001b[39mFullLoader)\n\u001b[0;32m     32\u001b[0m \u001b[38;5;28;01mreturn\u001b[39;00m d\n",
      "\u001b[1;31mFileNotFoundError\u001b[0m: [Errno 2] No such file or directory: 'd:\\\\Coding\\\\learndl\\\\learndl\\\\models\\\\gru_day\\\\default.yaml'"
     ]
    }
   ],
   "source": [
    "from src.api import DataAPI , Predictor\n",
    "\n",
    "DataAPI.update()\n",
    "DataAPI.prepare_predict_data()\n",
    "Predictor.update_factors()"
   ]
  },
  {
   "cell_type": "code",
   "execution_count": 8,
   "metadata": {},
   "outputs": [
    {
     "data": {
      "text/html": [
       "<div>\n",
       "<style scoped>\n",
       "    .dataframe tbody tr th:only-of-type {\n",
       "        vertical-align: middle;\n",
       "    }\n",
       "\n",
       "    .dataframe tbody tr th {\n",
       "        vertical-align: top;\n",
       "    }\n",
       "\n",
       "    .dataframe thead th {\n",
       "        text-align: right;\n",
       "    }\n",
       "</style>\n",
       "<table border=\"1\" class=\"dataframe\">\n",
       "  <thead>\n",
       "    <tr style=\"text-align: right;\">\n",
       "      <th></th>\n",
       "    </tr>\n",
       "  </thead>\n",
       "  <tbody>\n",
       "  </tbody>\n",
       "</table>\n",
       "</div>"
      ],
      "text/plain": [
       "Empty DataFrame\n",
       "Columns: []\n",
       "Index: []"
      ]
     },
     "execution_count": 8,
     "metadata": {},
     "output_type": "execute_result"
    }
   ],
   "source": [
    "from src.data.tushare.download.info import Calendar , pro\n",
    "renamer = {'cal_date' : 'calendar' ,'is_open'  : 'trade'}\n",
    "fields = None\n",
    "df = pro.trade_cal(exchange='SSE').rename(columns=renamer)\n",
    "#df = df.sort_values('calendar').reset_index(drop = True)\n",
    "df"
   ]
  },
  {
   "cell_type": "code",
   "execution_count": 10,
   "metadata": {},
   "outputs": [
    {
     "name": "stdout",
     "output_type": "stream",
     "text": [
      "Finish model [gru_day] predicting!\n",
      "Finish model [gruRTN_day] predicting!\n",
      "Finish model [gru_avg] predicting!\n",
      "--------------------------------------------------------------------------------\n"
     ]
    }
   ],
   "source": [
    "# DataAPI.prepare_predict_data()\n",
    "Predictor.update_factors()"
   ]
  },
  {
   "cell_type": "code",
   "execution_count": 1,
   "metadata": {},
   "outputs": [
    {
     "name": "stdout",
     "output_type": "stream",
     "text": [
      "Finish model [gru_day] predicting!\n",
      "Finish model [gruRTN_day] predicting!\n",
      "Finish model [gru_avg] predicting!\n",
      "--------------------------------------------------------------------------------\n"
     ]
    }
   ],
   "source": [
    "from src.api import DataAPI , Predictor\n",
    "# DataAPI.prepare_predict_data()\n",
    "md = Predictor.update_factors()"
   ]
  },
  {
   "cell_type": "code",
   "execution_count": null,
   "metadata": {},
   "outputs": [
    {
     "name": "stdout",
     "output_type": "stream",
     "text": [
      "Load  2 DataBlocks ..."
     ]
    },
    {
     "name": "stdout",
     "output_type": "stream",
     "text": [
      "... cost 0.22 secs\n",
      "Align 2 DataBlocks ...... cost 0.21 secs\n",
      "Pre-Norming method of [day] : {'divlast': True, 'histnorm': True}\n",
      "x shape is torch.Size([5064, 30, 6])\n",
      "y shape is torch.Size([5064, 1])\n",
      "Test Forward Success\n",
      "metrics :  Metrics.MetricOutput(loss=tensor(1.0688, grad_fn=<AddBackward0>), score=-0.015420470386743546, loss_item=1.068833589553833, penalty=0.0, losses=tensor(1.0688, grad_fn=<ExpBackward0>))\n",
      "Test Metrics Success\n"
     ]
    }
   ],
   "source": [
    "from src.api import ModelTestor\n",
    "ModelTestor.new('ts_mixer').try_metrics()"
   ]
  }
 ],
 "metadata": {
  "kernelspec": {
   "display_name": "Python 3",
   "language": "python",
   "name": "python3"
  },
  "language_info": {
   "codemirror_mode": {
    "name": "ipython",
    "version": 3
   },
   "file_extension": ".py",
   "mimetype": "text/x-python",
   "name": "python",
   "nbconvert_exporter": "python",
   "pygments_lexer": "ipython3",
   "version": "3.11.8"
  }
 },
 "nbformat": 4,
 "nbformat_minor": 2
}
