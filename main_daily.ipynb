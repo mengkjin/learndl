{
 "cells": [
  {
   "cell_type": "code",
   "execution_count": 1,
   "metadata": {},
   "outputs": [
    {
     "name": "stdout",
     "output_type": "stream",
     "text": [
      "Update Files\n",
      "Tue Aug  6 13:23:57 2024 : Updated ~ data\\DataBase\\DB_information\\calendar.feather Done! Cost 0.03 Secs\n",
      "Tue Aug  6 13:23:57 2024 : Updated ~ data\\DataBase\\DB_information\\description.feather Done! Cost 0.06 Secs\n",
      "Tue Aug  6 13:23:57 2024 : Updated ~ data\\DataBase\\DB_information\\st.feather Done! Cost 0.04 Secs\n",
      "Tue Aug  6 13:24:00 2024 : Updated ~ data\\DataBase\\DB_information\\industry.feather Done! Cost 3.32 Secs\n",
      "Tue Aug  6 13:24:07 2024 : Updated ~ data\\DataBase\\DB_information\\concepts.feather Done! Cost 6.66 Secs\n",
      "Tue Aug  6 13:24:09 2024 : Updated ~ data\\DataBase\\DB_models\\longcl_exp\\2024\\longcl_exp.20240802.feather Done! Cost 0.18 Secs\n",
      "Tue Aug  6 13:24:09 2024 : Updated ~ data\\DataBase\\DB_models\\risk_exp\\2024\\risk_exp.20240805.feather Done! Cost 0.08 Secs\n",
      "Tue Aug  6 13:24:09 2024 : Updated ~ data\\DataBase\\DB_models\\risk_cov\\2024\\risk_cov.20240805.feather Done! Cost 0.05 Secs\n",
      "Tue Aug  6 13:24:09 2024 : Updated ~ data\\DataBase\\DB_models\\risk_spec\\2024\\risk_spec.20240805.feather Done! Cost 0.02 Secs\n",
      "Tue Aug  6 13:24:10 2024 : Updated ~ data\\DataBase\\DB_models\\longcl_exp\\2024\\longcl_exp.20240805.feather Done! Cost 0.15 Secs\n",
      "Tue Aug  6 13:24:17 2024 : Updated ~ data\\DataBase\\DB_trade\\min\\2024\\min.20240802.feather Done! Cost 4.39 Secs\n",
      "Tue Aug  6 13:24:17 2024 : Updated ~ data\\DataBase\\DB_trade\\5min\\2024\\5min.20240802.feather Done! Cost 0.42 Secs\n",
      "Tue Aug  6 13:24:17 2024 : Updated ~ data\\DataBase\\DB_trade\\10min\\2024\\10min.20240802.feather Done! Cost 0.38 Secs\n",
      "Tue Aug  6 13:24:18 2024 : Updated ~ data\\DataBase\\DB_trade\\15min\\2024\\15min.20240802.feather Done! Cost 0.37 Secs\n",
      "Tue Aug  6 13:24:18 2024 : Updated ~ data\\DataBase\\DB_trade\\30min\\2024\\30min.20240802.feather Done! Cost 0.34 Secs\n",
      "Tue Aug  6 13:24:18 2024 : Updated ~ data\\DataBase\\DB_trade\\60min\\2024\\60min.20240802.feather Done! Cost 0.32 Secs\n",
      "Tue Aug  6 13:24:19 2024 : Updated ~ data\\DataBase\\DB_trade\\day\\2024\\day.20240805.feather Done! Cost 0.10 Secs\n",
      "Tue Aug  6 13:24:19 2024 : Updated ~ data\\DataBase\\DB_trade\\5day\\2024\\5day.20240805.feather Done! Cost 0.38 Secs\n",
      "Tue Aug  6 13:24:20 2024 : Updated ~ data\\DataBase\\DB_trade\\10day\\2024\\10day.20240805.feather Done! Cost 0.65 Secs\n",
      "Tue Aug  6 13:24:21 2024 : Updated ~ data\\DataBase\\DB_trade\\20day\\2024\\20day.20240805.feather Done! Cost 1.28 Secs\n",
      "Tue Aug  6 13:24:24 2024 : Updated ~ data\\DataBase\\DB_labels\\ret20_lag\\2024\\ret20_lag.20240705.feather Done! Cost 0.73 Secs\n",
      "Tue Aug  6 13:24:25 2024 : Updated ~ data\\DataBase\\DB_labels\\ret20\\2024\\ret20.20240708.feather Done! Cost 0.54 Secs\n",
      "Tue Aug  6 13:24:29 2024 : Updated ~ data\\DataBase\\DB_labels\\ret10_lag\\2024\\ret10_lag.20240719.feather Done! Cost 0.40 Secs\n",
      "Tue Aug  6 13:24:29 2024 : Updated ~ data\\DataBase\\DB_labels\\ret10\\2024\\ret10.20240722.feather Done! Cost 0.31 Secs\n",
      "Tue Aug  6 13:24:32 2024 : Updated ~ data\\DataBase\\DB_labels\\ret5_lag\\2024\\ret5_lag.20240726.feather Done! Cost 0.26 Secs\n",
      "Tue Aug  6 13:24:33 2024 : Updated ~ data\\DataBase\\DB_labels\\ret5\\2024\\ret5.20240729.feather Done! Cost 0.28 Secs\n",
      "Tue Aug  6 13:24:38 2024 : Updated ~ data\\DataBase\\DB_benchmark\\csi300\\2024\\csi300.20240805.feather Done! Cost 0.02 Secs\n",
      "Tue Aug  6 13:24:38 2024 : Updated ~ data\\DataBase\\DB_benchmark\\csi500\\2024\\csi500.20240805.feather Done! Cost 0.01 Secs\n",
      "Tue Aug  6 13:24:38 2024 : Updated ~ data\\DataBase\\DB_benchmark\\csi1000\\2024\\csi1000.20240805.feather Done! Cost 0.01 Secs\n",
      "Tue Aug  6 13:24:38 2024 : download since!\n",
      "Connection and Factor preparation finished!\n",
      "Tue Aug  6 13:24:38 2024 : sellside/dongfang.hfq_chars from 20240803 to 20240806, total 1 periods\n",
      "Start sellside/dongfang.hfq_chars:20240803-20240806 \n",
      "Done sellside/dongfang.hfq_chars:20240803-20240806, cost 3.5 Secs\n",
      "Tue Aug  6 13:24:42 2024 : sellside/dongfang.l2_chars from 20240803 to 20240806, total 1 periods\n",
      "Start sellside/dongfang.l2_chars:20240803-20240806 \n",
      "Done sellside/dongfang.l2_chars:20240803-20240806, cost 97.2 Secs\n",
      "Tue Aug  6 13:26:19 2024 : sellside/dongfang.ms_chars from 20240803 to 20240806, total 1 periods\n",
      "Start sellside/dongfang.ms_chars:20240803-20240806 \n",
      "Done sellside/dongfang.ms_chars:20240803-20240806, cost 140.6 Secs\n",
      "Tue Aug  6 13:28:40 2024 : sellside/dongfang.order_flow from 20240803 to 20240806, total 1 periods\n",
      "Start sellside/dongfang.order_flow:20240803-20240806 \n",
      "Done sellside/dongfang.order_flow:20240803-20240806, cost 1.2 Secs\n",
      "Tue Aug  6 13:28:41 2024 : sellside/dongfang.gp from 20240803 to 20240806, total 1 periods\n",
      "Start sellside/dongfang.gp:20240803-20240806 \n",
      "Done sellside/dongfang.gp:20240803-20240806, cost 2.9 Secs\n",
      "Tue Aug  6 13:28:44 2024 : sellside/dongfang.tra from 20240803 to 20240806, total 1 periods\n",
      "Start sellside/dongfang.tra:20240803-20240806 \n",
      "Done sellside/dongfang.tra:20240803-20240806, cost 2.8 Secs\n",
      "Tue Aug  6 13:28:47 2024 : sellside/dongfang.hist from 20240803 to 20240806, total 1 periods\n",
      "Start sellside/dongfang.hist:20240803-20240806 \n",
      "Done sellside/dongfang.hist:20240803-20240806, cost 2.0 Secs\n",
      "Tue Aug  6 13:28:49 2024 : sellside/dongfang.scores_v0 from 20240803 to 20240806, total 1 periods\n",
      "Start sellside/dongfang.scores_v0:20240803-20240806 \n",
      "Done sellside/dongfang.scores_v0:20240803-20240806, cost 2.8 Secs\n",
      "Tue Aug  6 13:28:52 2024 : sellside/dongfang.factorvae from 20240803 to 20240806, total 1 periods\n",
      "Start sellside/dongfang.factorvae:20240803-20240806 \n",
      "Done sellside/dongfang.factorvae:20240803-20240806, cost 2.0 Secs\n",
      "Tue Aug  6 13:28:54 2024 : sellside/huatai.dl_factors from 20240803 to 20240806, total 1 periods\n",
      "Start sellside/huatai.dl_factors:20240803-20240806 \n",
      "Done sellside/huatai.dl_factors:20240803-20240806, cost 1.1 Secs\n",
      "Tue Aug  6 13:28:55 2024 : All Updates Done! Cost 298.40 Secs\n",
      "--------------------------------------------------------------------------------\n",
      "--------------------------------------------------------------------------------\n",
      "predict is True , Data Processing start!\n",
      "6 datas :['y', 'day', '30m', 'style', 'indus', 'week']\n",
      "y blocks loading start!\n",
      " --> labels blocks reading [ret10_lag] DataBase...... finished! Cost 0.96 secs\n",
      " --> labels blocks reading [ret20_lag] DataBase...... finished! Cost 0.88 secs\n",
      " --> labels blocks merging (2)...... finished! Cost 0.15 secs\n",
      " --> models blocks reading [risk_exp] DataBase...... finished! Cost 3.18 secs\n",
      "y blocks loading finished! Cost 5.53 secs\n",
      "y blocks process...... finished! Cost 4.56 secs\n",
      "y blocks masking...... finished! Cost 0.09 secs\n",
      "y blocks saving ...... finished! Cost 0.13 secs\n",
      "y blocks norming...... finished! Cost 0.00 secs\n",
      "y finished! Cost 10.49 Seconds\n",
      "--------------------------------------------------------------------------------\n",
      "day blocks loading start!\n",
      " --> trade blocks reading [day] DataBase...... finished! Cost 1.50 secs\n",
      "day blocks loading finished! Cost 1.53 secs\n",
      "day blocks process...... finished! Cost 0.12 secs\n",
      "day blocks masking...... finished! Cost 0.08 secs\n",
      "day blocks saving ...... finished! Cost 0.12 secs\n",
      "day blocks norming...... finished! Cost 0.00 secs\n",
      "day finished! Cost 1.93 Seconds\n",
      "--------------------------------------------------------------------------------\n",
      "30m blocks loading start!\n",
      " --> trade blocks reading [30min] DataBase...... finished! Cost 6.21 secs\n",
      " --> trade blocks reading [day] DataBase...... finished! Cost 1.03 secs\n",
      "30m blocks loading finished! Cost 7.29 secs\n",
      "30m blocks process...... finished! Cost 1.65 secs\n",
      "30m blocks masking...... finished! Cost 0.17 secs\n",
      "30m blocks saving ...... finished! Cost 1.94 secs\n",
      "30m blocks norming...... finished! Cost 0.00 secs\n",
      "30m finished! Cost 11.18 Seconds\n",
      "--------------------------------------------------------------------------------\n",
      "style blocks loading start!\n",
      " --> models blocks reading [risk_exp] DataBase...... finished! Cost 1.34 secs\n",
      "style blocks loading finished! Cost 1.36 secs\n",
      "style blocks process...... finished! Cost 0.00 secs\n",
      "style blocks masking...... finished! Cost 0.09 secs\n",
      "style blocks saving ...... finished! Cost 0.21 secs\n",
      "style blocks norming...... finished! Cost 0.00 secs\n",
      "style finished! Cost 1.75 Seconds\n",
      "--------------------------------------------------------------------------------\n",
      "indus blocks loading start!\n",
      " --> models blocks reading [risk_exp] DataBase...... finished! Cost 2.72 secs\n",
      "indus blocks loading finished! Cost 2.72 secs\n",
      "indus blocks process...... finished! Cost 0.00 secs\n",
      "indus blocks masking...... finished! Cost 0.14 secs\n",
      "indus blocks saving ...... finished! Cost 1.28 secs\n",
      "indus blocks norming...... finished! Cost 0.00 secs\n",
      "indus finished! Cost 4.25 Seconds\n",
      "--------------------------------------------------------------------------------\n",
      "week blocks loading start!\n",
      " --> trade blocks reading [day] DataBase...... finished! Cost 2.80 secs\n",
      "week blocks loading finished! Cost 2.82 secs\n",
      "week blocks process...... finished! Cost 1.92 secs\n",
      "week blocks masking...... finished! Cost 0.20 secs\n",
      "week blocks saving ...... finished! Cost 2.52 secs\n",
      "week blocks norming...... finished! Cost 0.00 secs\n",
      "week finished! Cost 7.57 Seconds\n",
      "--------------------------------------------------------------------------------\n",
      "Data Processing Finished! Cost 37.17 Seconds\n",
      "--------------------------------------------------------------------------------\n",
      "Finish model [gru_day] predicting!\n",
      "Finish model [gruRTN_day] predicting!\n",
      "Finish model [gru_avg] predicting!\n",
      "--------------------------------------------------------------------------------\n"
     ]
    }
   ],
   "source": [
    "from src.api import DataAPI , Predictor\n",
    "\n",
    "DataAPI.update()\n",
    "DataAPI.prepare_train_data()\n",
    "Predictor.update_factors()"
   ]
  },
  {
   "cell_type": "code",
   "execution_count": 1,
   "metadata": {},
   "outputs": [
    {
     "name": "stdout",
     "output_type": "stream",
     "text": [
      "Finish model [gru_day] predicting!\n",
      "Finish model [gruRTN_day] predicting!\n",
      "Finish model [gru_avg] predicting!\n",
      "--------------------------------------------------------------------------------\n"
     ]
    }
   ],
   "source": [
    "from src.api import Predictor\n",
    "DataAPI.prepare_train_data()\n",
    "Predictor.update_factors()"
   ]
  },
  {
   "cell_type": "code",
   "execution_count": 2,
   "metadata": {},
   "outputs": [
    {
     "name": "stdout",
     "output_type": "stream",
     "text": [
      "Load  2 DataBlocks ..."
     ]
    },
    {
     "name": "stdout",
     "output_type": "stream",
     "text": [
      "... cost 0.22 secs\n",
      "Align 2 DataBlocks ...... cost 0.21 secs\n",
      "Pre-Norming method of [day] : {'divlast': True, 'histnorm': True}\n",
      "x shape is torch.Size([5064, 30, 6])\n",
      "y shape is torch.Size([5064, 1])\n",
      "Test Forward Success\n",
      "metrics :  Metrics.MetricOutput(loss=tensor(1.0688, grad_fn=<AddBackward0>), score=-0.015420470386743546, loss_item=1.068833589553833, penalty=0.0, losses=tensor(1.0688, grad_fn=<ExpBackward0>))\n",
      "Test Metrics Success\n"
     ]
    }
   ],
   "source": [
    "from src.api import ModelTestor\n",
    "ModelTestor.new('ts_mixer').try_metrics()"
   ]
  }
 ],
 "metadata": {
  "kernelspec": {
   "display_name": "Python 3",
   "language": "python",
   "name": "python3"
  },
  "language_info": {
   "codemirror_mode": {
    "name": "ipython",
    "version": 3
   },
   "file_extension": ".py",
   "mimetype": "text/x-python",
   "name": "python",
   "nbconvert_exporter": "python",
   "pygments_lexer": "ipython3",
   "version": "3.11.8"
  }
 },
 "nbformat": 4,
 "nbformat_minor": 2
}
