{
 "cells": [
  {
   "cell_type": "code",
   "execution_count": 1,
   "metadata": {},
   "outputs": [
    {
     "name": "stdout",
     "output_type": "stream",
     "text": [
      "Use device name: NVIDIA GeForce RTX 4090\n",
      "Unpack Update Files\n",
      "['/home/mengkjin/Workspace/SharedFolder/DB_updater.240408085141.tar', '/home/mengkjin/Workspace/SharedFolder/DB_updater.240413173912.tar']\n"
     ]
    },
    {
     "name": "stderr",
     "output_type": "stream",
     "text": [
      "\u001b[1m\u001b[37m\u001b[41m24-04-13 17:49:28|MOD:PreProcess  |\u001b[0m: \u001b[1m\u001b[31mif_train is False , Data Processing start!\u001b[0m\n",
      "\u001b[1m\u001b[37m\u001b[45m24-04-13 17:49:28|MOD:PreProcess  |\u001b[0m: \u001b[1m\u001b[35m3 datas :['y', 'trade_day', 'trade_30m']\u001b[0m\n"
     ]
    },
    {
     "name": "stdout",
     "output_type": "stream",
     "text": [
      "Sat Apr 13 17:49:28 2024 : All Updates Done! Cost 3.96 Secs\n",
      "Sat Apr 13 17:49:28 2024 : y start ...\n",
      "labels blocks reading ret10_lag DataBase's ...... cost 0.49 secs\n",
      "labels blocks reading ret20_lag DataBase's ...... cost 0.38 secs\n",
      "labels blocks merging ...... cost 0.05 secs\n",
      "models blocks reading risk_exp DataBase's ...... cost 1.96 secs\n",
      "models blocks merging ...... cost 0.18 secs\n",
      "y blocks process ...... cost 1.07 secs\n",
      "y blocks masking ...... cost 0.06 secs\n",
      "y blocks saving  ...... cost 0.12 secs\n",
      "y blocks norming ...... cost 0.00 secs\n",
      "Sat Apr 13 17:49:32 2024 : y finished! Cost 4.32 Seconds\n",
      "Sat Apr 13 17:49:32 2024 : trade_day start ...\n",
      "trade blocks reading day DataBase's ...... cost 0.68 secs\n",
      "trade_day blocks merging ...... cost 0.00 secs\n",
      "trade_day blocks process ...... cost 0.04 secs\n",
      "trade_day blocks masking ...... cost 0.05 secs\n",
      "trade_day blocks saving  ...... cost 0.14 secs\n",
      "trade_day blocks norming ...... cost 0.00 secs\n",
      "Sat Apr 13 17:49:33 2024 : trade_day finished! Cost 0.92 Seconds\n",
      "Sat Apr 13 17:49:33 2024 : trade_30m start ...\n",
      "trade blocks reading 30min DataBase's ...... cost 2.79 secs\n",
      "trade_30m blocks merging ...... cost 0.00 secs\n",
      "trade blocks reading day DataBase's ...... cost 0.56 secs\n",
      "trade_day blocks merging ...... cost 0.02 secs\n",
      "trade_30m blocks process ...... cost 0.91 secs\n",
      "trade_30m blocks masking ...... cost 0.06 secs\n",
      "trade_30m blocks saving  ..."
     ]
    },
    {
     "name": "stderr",
     "output_type": "stream",
     "text": [
      "\u001b[1m\u001b[37m\u001b[41m24-04-13 17:49:39|MOD:PreProcess  |\u001b[0m: \u001b[1m\u001b[31mData Processing Finished! Cost 11.16 Seconds\u001b[0m\n"
     ]
    },
    {
     "name": "stdout",
     "output_type": "stream",
     "text": [
      "... cost 1.14 secs\n",
      "trade_30m blocks norming ...... cost 0.00 secs\n",
      "Sat Apr 13 17:49:39 2024 : trade_30m finished! Cost 5.48 Seconds\n"
     ]
    }
   ],
   "source": [
    "import src.data as data\n",
    "\n",
    "data.DataFetcher.main()\n",
    "data.PreProcess.main(False)\n",
    "\n"
   ]
  },
  {
   "cell_type": "code",
   "execution_count": 6,
   "metadata": {},
   "outputs": [
    {
     "data": {
      "text/plain": [
       "tensor([0.])"
      ]
     },
     "execution_count": 6,
     "metadata": {},
     "output_type": "execute_result"
    }
   ],
   "source": [
    "from dataclasses import dataclass\n",
    "from typing import ClassVar\n",
    "import torch \n",
    "@dataclass\n",
    "class A:\n",
    "    v : torch.Tensor = torch.Tensor([0])\n",
    "\n",
    "    aa : ClassVar[dict] = {'a' : 10}\n",
    "\n",
    "    def print(self):\n",
    "        print(self.aa)\n",
    "\n",
    "\n",
    "A().v\n"
   ]
  },
  {
   "cell_type": "code",
   "execution_count": 3,
   "metadata": {},
   "outputs": [
    {
     "name": "stdout",
     "output_type": "stream",
     "text": [
      "Sat Apr 13 17:50:16 2024 : download since!\n",
      "Connection and Factor preparation finished!\n",
      "Sat Apr 13 17:50:16 2024 : sellside/haitong.hf_factors from 20240404 to 20240413, total 1 periods\n",
      "Start sellside/haitong.hf_factors:20240404-20240413 \n",
      "Done sellside/haitong.hf_factors:20240404-20240413 \n",
      "Sat Apr 13 17:50:28 2024 : sellside/haitong.dl_factors from 20240404 to 20240413, total 1 periods\n",
      "Start sellside/haitong.dl_factors:20240404-20240413 \n",
      "Done sellside/haitong.dl_factors:20240404-20240413 \n",
      "Sat Apr 13 17:51:59 2024 : sellside/dongfang.hfq_chars from 20240404 to 20240413, total 1 periods\n",
      "Start sellside/dongfang.hfq_chars:20240404-20240413 \n",
      "Done sellside/dongfang.hfq_chars:20240404-20240413 \n",
      "Sat Apr 13 17:52:17 2024 : sellside/dongfang.l2_chars from 20240404 to 20240413, total 1 periods\n",
      "Start sellside/dongfang.l2_chars:20240404-20240413 \n",
      "Done sellside/dongfang.l2_chars:20240404-20240413 \n",
      "Sat Apr 13 17:55:05 2024 : sellside/dongfang.ms_chars from 20240404 to 20240413, total 1 periods\n",
      "Start sellside/dongfang.ms_chars:20240404-20240413 \n",
      "Done sellside/dongfang.ms_chars:20240404-20240413 \n",
      "Sat Apr 13 17:58:47 2024 : sellside/dongfang.order_flow from 20240404 to 20240413, total 1 periods\n",
      "Start sellside/dongfang.order_flow:20240404-20240413 \n",
      "Done sellside/dongfang.order_flow:20240404-20240413 \n",
      "Sat Apr 13 17:58:52 2024 : sellside/dongfang.gp from 20240404 to 20240413, total 1 periods\n",
      "Start sellside/dongfang.gp:20240404-20240413 \n",
      "Done sellside/dongfang.gp:20240404-20240413 \n",
      "Sat Apr 13 17:58:56 2024 : sellside/dongfang.tra from 20240404 to 20240413, total 1 periods\n",
      "Start sellside/dongfang.tra:20240404-20240413 \n",
      "Done sellside/dongfang.tra:20240404-20240413 \n",
      "Sat Apr 13 17:59:01 2024 : sellside/dongfang.hist from 20240404 to 20240413, total 1 periods\n",
      "Start sellside/dongfang.hist:20240404-20240413 \n",
      "Done sellside/dongfang.hist:20240404-20240413 \n",
      "Sat Apr 13 17:59:03 2024 : sellside/dongfang.scores_v0 from 20240404 to 20240413, total 1 periods\n",
      "Start sellside/dongfang.scores_v0:20240404-20240413 \n",
      "Done sellside/dongfang.scores_v0:20240404-20240413 \n",
      "Sat Apr 13 17:59:05 2024 : sellside/kaiyuan.positive from 20240401 to 20240413, total 1 periods\n",
      "Start sellside/kaiyuan.positive:20240401-20240413 \n",
      "Done sellside/kaiyuan.positive:20240401-20240413 \n",
      "Sat Apr 13 17:59:11 2024 : sellside/kaiyuan.negative from 20240330 to 20240413, total 1 periods\n",
      "Start sellside/kaiyuan.negative:20240330-20240413 \n",
      "Done sellside/kaiyuan.negative:20240330-20240413 \n",
      "Sat Apr 13 17:59:16 2024 : sellside/huatai.dl_factors from 20240404 to 20240413, total 1 periods\n",
      "Start sellside/huatai.dl_factors:20240404-20240413 \n",
      "Done sellside/huatai.dl_factors:20240404-20240413 \n"
     ]
    }
   ],
   "source": [
    "import socket\n",
    "if socket.gethostname() == 'mengkjin-server':\n",
    "    data.DataFetcher_sql.DataFetcher_sql.update_since()"
   ]
  },
  {
   "cell_type": "code",
   "execution_count": 1,
   "metadata": {},
   "outputs": [
    {
     "name": "stdout",
     "output_type": "stream",
     "text": [
      "Load  2 DataBlocks ...... cost 0.06 secs\n",
      "Align 2 DataBlocks ...... cost 0.09 secs\n",
      "Pre-Norming method of [day] : {'divlast': True, 'histnorm': True}\n",
      "20231201 new\n",
      "Load  2 DataBlocks ...... cost 0.09 secs\n",
      "Align 2 DataBlocks ...... cost 0.08 secs\n",
      "Pre-Norming method of [day] : {'divlast': True, 'histnorm': True}\n",
      "20231201 new\n",
      "Load  2 DataBlocks ...... cost 0.08 secs\n",
      "Align 2 DataBlocks ...... cost 0.09 secs\n",
      "Pre-Norming method of [day] : {'divlast': True, 'histnorm': True}\n",
      "20231201 new\n"
     ]
    },
    {
     "data": {
      "text/plain": [
       "[None, None, None]"
      ]
     },
     "execution_count": 1,
     "metadata": {},
     "output_type": "execute_result"
    }
   ],
   "source": [
    "from run_model import ModelPred\n",
    "\n",
    "model_preds = [\n",
    "    ModelPred('gru_day'    , 'swalast' , 0 , 'gru_day_V0') ,\n",
    "    ModelPred('gruRTN_day' , 'swalast' , 0 , 'gruRTN_day_V0') ,\n",
    "    ModelPred('gruRES_day' , 'swalast' , 0 , 'gruRES_day_V0')\n",
    "]\n",
    "[md.get_df().deploy() for md in model_preds]"
   ]
  },
  {
   "cell_type": "code",
   "execution_count": 1,
   "metadata": {},
   "outputs": [
    {
     "name": "stdout",
     "output_type": "stream",
     "text": [
      "d:\\Coding\\learndl\\learndl\\model/gru_day/model_gru.yaml\n",
      "Load  2 DataBlocks ...... cost 0.08 secs\n",
      "Align 2 DataBlocks ...... cost 0.11 secs\n",
      "20231201 new\n",
      "Pre-Norming method of [day] : [endpoint_division(True) , history_standardize(True)]\n"
     ]
    },
    {
     "data": {
      "text/plain": [
       "ModelPred(model_name='gru_day', model_type='swalast', model_num=0, alias='gru_day_V0', df=       secid      date   gru_day\n",
       "0          1  20240401  0.754627\n",
       "1          2  20240401 -1.241937\n",
       "2          4  20240401 -8.535885\n",
       "3          6  20240401 -0.204401\n",
       "4          7  20240401  1.486538\n",
       "...      ...       ...       ...\n",
       "5096  688799  20240403  1.810010\n",
       "5097  688800  20240403  2.127807\n",
       "5098  688819  20240403  2.988075\n",
       "5099  688981  20240403  0.242482\n",
       "5100  689009  20240403  0.015975\n",
       "\n",
       "[15305 rows x 3 columns])"
      ]
     },
     "execution_count": 1,
     "metadata": {},
     "output_type": "execute_result"
    }
   ],
   "source": [
    "\n",
    "\n",
    "from run_model import ModelPred\n",
    "md = ModelPred('gru_day' , 'swalast' , 0 , 'gru_day_V0')\n",
    "md.get_df()"
   ]
  }
 ],
 "metadata": {
  "kernelspec": {
   "display_name": "Python 3",
   "language": "python",
   "name": "python3"
  },
  "language_info": {
   "codemirror_mode": {
    "name": "ipython",
    "version": 3
   },
   "file_extension": ".py",
   "mimetype": "text/x-python",
   "name": "python",
   "nbconvert_exporter": "python",
   "pygments_lexer": "ipython3",
   "version": "3.10.12"
  }
 },
 "nbformat": 4,
 "nbformat_minor": 2
}
