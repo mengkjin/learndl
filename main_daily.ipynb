{
 "cells": [
  {
   "cell_type": "code",
   "execution_count": null,
   "metadata": {},
   "outputs": [],
   "source": []
  },
  {
   "cell_type": "code",
   "execution_count": 1,
   "metadata": {},
   "outputs": [
    {
     "name": "stdout",
     "output_type": "stream",
     "text": [
      "Update Files\n",
      "Fri Sep  6 00:15:09 2024 : Updated ~ DB_information\\calendar.feather Done! Cost 0.02 Secs\n",
      "Fri Sep  6 00:15:10 2024 : Updated ~ DB_information\\description.feather Done! Cost 0.03 Secs\n",
      "Fri Sep  6 00:15:10 2024 : Updated ~ DB_information\\st.feather Done! Cost 0.02 Secs\n",
      "Fri Sep  6 00:15:12 2024 : Updated ~ DB_information\\industry.feather Done! Cost 2.46 Secs\n",
      "Fri Sep  6 00:15:17 2024 : Updated ~ DB_information\\concepts.feather Done! Cost 5.41 Secs\n",
      "Fri Sep  6 00:15:19 2024 : Updated ~ DB_models\\longcl_exp\\2024\\longcl_exp.20240904.feather Done! Cost 0.10 Secs\n",
      "Fri Sep  6 00:15:19 2024 : Updated ~ DB_models\\risk_exp\\2024\\risk_exp.20240905.feather Done! Cost 0.04 Secs\n",
      "Fri Sep  6 00:15:19 2024 : Updated ~ DB_models\\risk_cov\\2024\\risk_cov.20240905.feather Done! Cost 0.03 Secs\n",
      "Fri Sep  6 00:15:19 2024 : Updated ~ DB_models\\risk_spec\\2024\\risk_spec.20240905.feather Done! Cost 0.02 Secs\n",
      "Fri Sep  6 00:15:21 2024 : Updated ~ DB_trade\\day\\2024\\day.20240905.feather Done! Cost 0.07 Secs\n",
      "Fri Sep  6 00:15:22 2024 : Updated ~ DB_trade\\5day\\2024\\5day.20240905.feather Done! Cost 0.27 Secs\n",
      "Fri Sep  6 00:15:22 2024 : Updated ~ DB_trade\\10day\\2024\\10day.20240905.feather Done! Cost 0.45 Secs\n",
      "Fri Sep  6 00:15:23 2024 : Updated ~ DB_trade\\20day\\2024\\20day.20240905.feather Done! Cost 0.87 Secs\n",
      "Fri Sep  6 00:15:26 2024 : Updated ~ DB_trade\\min\\2024\\min.20240905.feather Done! Cost 3.05 Secs\n",
      "Fri Sep  6 00:15:26 2024 : Updated ~ DB_trade\\5min\\2024\\5min.20240905.feather Done! Cost 0.28 Secs\n",
      "Fri Sep  6 00:15:26 2024 : Updated ~ DB_trade\\10min\\2024\\10min.20240905.feather Done! Cost 0.27 Secs\n",
      "Fri Sep  6 00:15:27 2024 : Updated ~ DB_trade\\15min\\2024\\15min.20240905.feather Done! Cost 0.32 Secs\n",
      "Fri Sep  6 00:15:27 2024 : Updated ~ DB_trade\\30min\\2024\\30min.20240905.feather Done! Cost 0.25 Secs\n",
      "Fri Sep  6 00:15:27 2024 : Updated ~ DB_trade\\60min\\2024\\60min.20240905.feather Done! Cost 0.26 Secs\n",
      "Fri Sep  6 00:15:30 2024 : Updated ~ DB_labels\\ret20_lag\\2024\\ret20_lag.20240807.feather Done! Cost 0.80 Secs\n",
      "Fri Sep  6 00:15:31 2024 : Updated ~ DB_labels\\ret20\\2024\\ret20.20240808.feather Done! Cost 0.73 Secs\n",
      "Fri Sep  6 00:15:40 2024 : Updated ~ DB_labels\\ret10_lag\\2024\\ret10_lag.20240821.feather Done! Cost 0.50 Secs\n",
      "Fri Sep  6 00:15:41 2024 : Updated ~ DB_labels\\ret10\\2024\\ret10.20240822.feather Done! Cost 0.50 Secs\n",
      "Fri Sep  6 00:15:48 2024 : Updated ~ DB_labels\\ret5_lag\\2024\\ret5_lag.20240828.feather Done! Cost 0.46 Secs\n",
      "Fri Sep  6 00:15:51 2024 : Updated ~ DB_labels\\ret5\\2024\\ret5.20240829.feather Done! Cost 0.47 Secs\n",
      "Fri Sep  6 00:16:05 2024 : Updated ~ DB_benchmark\\csi300\\2024\\csi300.20240904.feather Done! Cost 0.01 Secs\n",
      "Fri Sep  6 00:16:05 2024 : Updated ~ DB_benchmark\\csi500\\2024\\csi500.20240904.feather Done! Cost 0.01 Secs\n",
      "Fri Sep  6 00:16:05 2024 : Updated ~ DB_benchmark\\csi1000\\2024\\csi1000.20240904.feather Done! Cost 0.01 Secs\n",
      "Fri Sep  6 00:16:05 2024 : Updated ~ DB_benchmark\\csi300\\2024\\csi300.20240905.feather Done! Cost 0.01 Secs\n",
      "Fri Sep  6 00:16:05 2024 : Updated ~ DB_benchmark\\csi500\\2024\\csi500.20240905.feather Done! Cost 0.01 Secs\n",
      "Fri Sep  6 00:16:05 2024 : Updated ~ DB_benchmark\\csi1000\\2024\\csi1000.20240905.feather Done! Cost 0.01 Secs\n",
      "Fri Sep  6 00:16:05 2024 : download since!\n",
      "Connection and Factor preparation finished!\n",
      "Fri Sep  6 00:16:05 2024 : sellside/dongfang.hfq_chars from 20240905 to 20240906, total 1 periods\n",
      "Start sellside/dongfang.hfq_chars:20240905-20240906 \n",
      "Done sellside/dongfang.hfq_chars:20240905-20240906, cost 3.0 Secs\n",
      "Fri Sep  6 00:16:08 2024 : sellside/dongfang.l2_chars from 20240905 to 20240906, total 1 periods\n",
      "Start sellside/dongfang.l2_chars:20240905-20240906 \n",
      "Done sellside/dongfang.l2_chars:20240905-20240906, cost 30.2 Secs\n",
      "Fri Sep  6 00:16:38 2024 : sellside/dongfang.ms_chars from 20240905 to 20240906, total 1 periods\n",
      "Start sellside/dongfang.ms_chars:20240905-20240906 \n",
      "Done sellside/dongfang.ms_chars:20240905-20240906, cost 46.4 Secs\n",
      "Fri Sep  6 00:17:25 2024 : sellside/dongfang.order_flow from 20240905 to 20240906, total 1 periods\n",
      "Start sellside/dongfang.order_flow:20240905-20240906 \n",
      "Done sellside/dongfang.order_flow:20240905-20240906, cost 0.8 Secs\n",
      "Fri Sep  6 00:17:26 2024 : sellside/dongfang.gp from 20240904 to 20240906, total 1 periods\n",
      "Start sellside/dongfang.gp:20240904-20240906 \n",
      "Done sellside/dongfang.gp:20240904-20240906, cost 1.8 Secs\n",
      "Fri Sep  6 00:17:27 2024 : sellside/dongfang.tra from 20240904 to 20240906, total 1 periods\n",
      "Start sellside/dongfang.tra:20240904-20240906 \n",
      "Done sellside/dongfang.tra:20240904-20240906, cost 1.4 Secs\n",
      "Fri Sep  6 00:17:29 2024 : sellside/dongfang.hist from 20240904 to 20240906, total 1 periods\n",
      "Start sellside/dongfang.hist:20240904-20240906 \n",
      "Done sellside/dongfang.hist:20240904-20240906, cost 1.2 Secs\n",
      "Fri Sep  6 00:17:30 2024 : sellside/dongfang.scores_v0 from 20240905 to 20240906, total 1 periods\n",
      "Start sellside/dongfang.scores_v0:20240905-20240906 \n",
      "Done sellside/dongfang.scores_v0:20240905-20240906, cost 1.6 Secs\n",
      "Fri Sep  6 00:17:32 2024 : sellside/dongfang.factorvae from 20240904 to 20240906, total 1 periods\n",
      "Start sellside/dongfang.factorvae:20240904-20240906 \n",
      "Done sellside/dongfang.factorvae:20240904-20240906, cost 1.2 Secs\n",
      "Fri Sep  6 00:17:33 2024 : sellside/huatai.dl_factors from 20240905 to 20240906, total 1 periods\n",
      "Start sellside/huatai.dl_factors:20240905-20240906 \n",
      "Done sellside/huatai.dl_factors:20240905-20240906, cost 1.2 Secs\n",
      "Fri Sep  6 00:17:34 2024 : All Updates Done! Cost 144.87 Secs\n",
      "--------------------------------------------------------------------------------\n",
      "Calendar Updating information_ts/calendar at 20240906\n",
      "Description Updating information_ts/description at 20240906\n",
      "SWIndustry Updating information_ts/industry at 20240906\n",
      "ChangeName Updating information_ts/change_name at 20240906\n",
      "THSConcept Already Updated at 20240831\n",
      "DailyValuation Updating trade_ts/day_val at 20240905\n",
      "DailyValuation Updating trade_ts/day_val at 20240906\n",
      "DailyQuote Updating trade_ts/day at 20240905\n",
      "DailyQuote Updating trade_ts/day at 20240906\n",
      "FinaIndicator Updating financial_ts/indicator at 20231231\n",
      "FinaIndicator Updating financial_ts/indicator at 20240331\n",
      "FinaIndicator Updating financial_ts/indicator at 20240630\n",
      "Finish exposure update at date 20240905\n",
      "Finish risk update at date 20240905\n",
      "--------------------------------------------------------------------------------\n",
      "predict is True , Data Processing start!\n",
      "6 datas :['y', 'day', '30m', 'style', 'indus', 'week']\n",
      "y blocks loading start!\n",
      " --> labels blocks reading [ret10_lag] DataBase...... finished! Cost 0.77 secs\n",
      " --> labels blocks reading [ret20_lag] DataBase...... finished! Cost 0.83 secs\n",
      " --> labels blocks merging (2)...... finished! Cost 0.17 secs\n",
      " --> models blocks reading [risk_exp] DataBase...... finished! Cost 3.53 secs\n",
      "y blocks loading finished! Cost 5.69 secs\n",
      "y blocks process...... finished! Cost 5.78 secs\n",
      "y blocks masking...... finished! Cost 0.14 secs\n",
      "y blocks saving ...... finished! Cost 0.18 secs\n",
      "y blocks norming...... finished! Cost 0.00 secs\n",
      "y finished! Cost 11.95 Seconds\n",
      "--------------------------------------------------------------------------------\n",
      "day blocks loading start!\n",
      " --> trade blocks reading [day] DataBase...... finished! Cost 1.36 secs\n",
      "day blocks loading finished! Cost 1.41 secs\n",
      "day blocks process...... finished! Cost 0.24 secs\n",
      "day blocks masking...... finished! Cost 0.11 secs\n",
      "day blocks saving ...... finished! Cost 0.19 secs\n",
      "day blocks norming...... finished! Cost 0.00 secs\n",
      "day finished! Cost 2.08 Seconds\n",
      "--------------------------------------------------------------------------------\n",
      "30m blocks loading start!\n",
      " --> trade blocks reading [30min] DataBase...... finished! Cost 7.28 secs\n",
      " --> trade blocks reading [day] DataBase...... finished! Cost 1.58 secs\n",
      "30m blocks loading finished! Cost 8.93 secs\n",
      "30m blocks process...... finished! Cost 1.76 secs\n",
      "30m blocks masking...... finished! Cost 0.22 secs\n",
      "30m blocks saving ...... finished! Cost 2.04 secs\n",
      "30m blocks norming...... finished! Cost 0.00 secs\n",
      "30m finished! Cost 13.06 Seconds\n",
      "--------------------------------------------------------------------------------\n",
      "style blocks loading start!\n",
      " --> models blocks reading [risk_exp] DataBase...... finished! Cost 2.20 secs\n",
      "style blocks loading finished! Cost 2.26 secs\n",
      "style blocks process...... finished! Cost 0.00 secs\n",
      "style blocks masking...... finished! Cost 0.15 secs\n",
      "style blocks saving ...... finished! Cost 0.28 secs\n",
      "style blocks norming...... finished! Cost 0.00 secs\n",
      "style finished! Cost 2.80 Seconds\n",
      "--------------------------------------------------------------------------------\n",
      "indus blocks loading start!\n",
      " --> models blocks reading [risk_exp] DataBase...... finished! Cost 3.12 secs\n",
      "indus blocks loading finished! Cost 3.13 secs\n",
      "indus blocks process...... finished! Cost 0.00 secs\n",
      "indus blocks masking...... finished! Cost 0.15 secs\n",
      "indus blocks saving ...... finished! Cost 1.67 secs\n",
      "indus blocks norming...... finished! Cost 0.00 secs\n",
      "indus finished! Cost 5.12 Seconds\n",
      "--------------------------------------------------------------------------------\n",
      "week blocks loading start!\n",
      " --> trade blocks reading [day] DataBase...... finished! Cost 2.81 secs\n",
      "week blocks loading finished! Cost 2.84 secs\n",
      "week blocks process...... finished! Cost 1.64 secs\n",
      "week blocks masking...... finished! Cost 0.21 secs\n",
      "week blocks saving ...... finished! Cost 2.40 secs\n",
      "week blocks norming...... finished! Cost 0.00 secs\n",
      "week finished! Cost 7.23 Seconds\n",
      "--------------------------------------------------------------------------------\n",
      "Data Processing Finished! Cost 42.24 Seconds\n",
      "--------------------------------------------------------------------------------\n",
      "Finish model [gru_day] predicting!\n",
      "Finish model [gruRTN_day] predicting!\n",
      "Finish model [gru_avg] predicting!\n",
      "--------------------------------------------------------------------------------\n"
     ]
    },
    {
     "data": {
      "text/plain": [
       "Predictor(reg_model=RegModel(name=gru_avg,type=swabest,num=all,alias=gru_day_V1))"
      ]
     },
     "execution_count": 1,
     "metadata": {},
     "output_type": "execute_result"
    }
   ],
   "source": [
    "from src.api import DataAPI , Predictor\n",
    "\n",
    "DataAPI.update()\n",
    "DataAPI.prepare_predict_data()\n",
    "Predictor.update_factors()"
   ]
  },
  {
   "cell_type": "code",
   "execution_count": 8,
   "metadata": {},
   "outputs": [
    {
     "data": {
      "text/html": [
       "<div>\n",
       "<style scoped>\n",
       "    .dataframe tbody tr th:only-of-type {\n",
       "        vertical-align: middle;\n",
       "    }\n",
       "\n",
       "    .dataframe tbody tr th {\n",
       "        vertical-align: top;\n",
       "    }\n",
       "\n",
       "    .dataframe thead th {\n",
       "        text-align: right;\n",
       "    }\n",
       "</style>\n",
       "<table border=\"1\" class=\"dataframe\">\n",
       "  <thead>\n",
       "    <tr style=\"text-align: right;\">\n",
       "      <th></th>\n",
       "    </tr>\n",
       "  </thead>\n",
       "  <tbody>\n",
       "  </tbody>\n",
       "</table>\n",
       "</div>"
      ],
      "text/plain": [
       "Empty DataFrame\n",
       "Columns: []\n",
       "Index: []"
      ]
     },
     "execution_count": 8,
     "metadata": {},
     "output_type": "execute_result"
    }
   ],
   "source": [
    "from src.data.tushare.download.info import Calendar , pro\n",
    "renamer = {'cal_date' : 'calendar' ,'is_open'  : 'trade'}\n",
    "fields = None\n",
    "df = pro.trade_cal(exchange='SSE').rename(columns=renamer)\n",
    "#df = df.sort_values('calendar').reset_index(drop = True)\n",
    "df"
   ]
  },
  {
   "cell_type": "code",
   "execution_count": 10,
   "metadata": {},
   "outputs": [
    {
     "name": "stdout",
     "output_type": "stream",
     "text": [
      "Finish model [gru_day] predicting!\n",
      "Finish model [gruRTN_day] predicting!\n",
      "Finish model [gru_avg] predicting!\n",
      "--------------------------------------------------------------------------------\n"
     ]
    }
   ],
   "source": [
    "# DataAPI.prepare_predict_data()\n",
    "Predictor.update_factors()"
   ]
  },
  {
   "cell_type": "code",
   "execution_count": 1,
   "metadata": {},
   "outputs": [
    {
     "name": "stdout",
     "output_type": "stream",
     "text": [
      "Finish model [gru_day] predicting!\n",
      "Finish model [gruRTN_day] predicting!\n",
      "Finish model [gru_avg] predicting!\n",
      "--------------------------------------------------------------------------------\n"
     ]
    }
   ],
   "source": [
    "from src.api import DataAPI , Predictor\n",
    "# DataAPI.prepare_predict_data()\n",
    "md = Predictor.update_factors()"
   ]
  },
  {
   "cell_type": "code",
   "execution_count": null,
   "metadata": {},
   "outputs": [
    {
     "name": "stdout",
     "output_type": "stream",
     "text": [
      "Load  2 DataBlocks ..."
     ]
    },
    {
     "name": "stdout",
     "output_type": "stream",
     "text": [
      "... cost 0.22 secs\n",
      "Align 2 DataBlocks ...... cost 0.21 secs\n",
      "Pre-Norming method of [day] : {'divlast': True, 'histnorm': True}\n",
      "x shape is torch.Size([5064, 30, 6])\n",
      "y shape is torch.Size([5064, 1])\n",
      "Test Forward Success\n",
      "metrics :  Metrics.MetricOutput(loss=tensor(1.0688, grad_fn=<AddBackward0>), score=-0.015420470386743546, loss_item=1.068833589553833, penalty=0.0, losses=tensor(1.0688, grad_fn=<ExpBackward0>))\n",
      "Test Metrics Success\n"
     ]
    }
   ],
   "source": [
    "from src.api import ModelTestor\n",
    "ModelTestor.new('ts_mixer').try_metrics()"
   ]
  }
 ],
 "metadata": {
  "kernelspec": {
   "display_name": "Python 3",
   "language": "python",
   "name": "python3"
  },
  "language_info": {
   "codemirror_mode": {
    "name": "ipython",
    "version": 3
   },
   "file_extension": ".py",
   "mimetype": "text/x-python",
   "name": "python",
   "nbconvert_exporter": "python",
   "pygments_lexer": "ipython3",
   "version": "3.11.8"
  }
 },
 "nbformat": 4,
 "nbformat_minor": 2
}
