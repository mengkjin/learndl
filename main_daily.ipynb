{
 "cells": [
  {
   "cell_type": "code",
   "execution_count": 1,
   "metadata": {},
   "outputs": [
    {
     "name": "stdout",
     "output_type": "stream",
     "text": [
      "Update Files\n",
      "Sat Jun 29 09:04:28 2024 : Updated ~ data\\DataBase\\DB_information\\calendar.feather Done! Cost 0.02 Secs\n",
      "Sat Jun 29 09:04:28 2024 : Updated ~ data\\DataBase\\DB_information\\description.feather Done! Cost 0.03 Secs\n",
      "Sat Jun 29 09:04:28 2024 : Updated ~ data\\DataBase\\DB_information\\st.feather Done! Cost 0.03 Secs\n",
      "Sat Jun 29 09:04:33 2024 : Updated ~ data\\DataBase\\DB_information\\industry.feather Done! Cost 5.03 Secs\n",
      "Sat Jun 29 09:04:41 2024 : Updated ~ data\\DataBase\\DB_information\\concepts.feather Done! Cost 7.80 Secs\n",
      "Sat Jun 29 09:04:44 2024 : Updated ~ data\\DataBase\\DB_models\\risk_exp\\2024\\risk_exp.20240628.feather Done! Cost 0.08 Secs\n",
      "Sat Jun 29 09:04:44 2024 : Updated ~ data\\DataBase\\DB_models\\risk_cov\\2024\\risk_cov.20240628.feather Done! Cost 0.07 Secs\n",
      "Sat Jun 29 09:04:44 2024 : Updated ~ data\\DataBase\\DB_models\\risk_spec\\2024\\risk_spec.20240628.feather Done! Cost 0.03 Secs\n",
      "Sat Jun 29 09:04:51 2024 : Updated ~ data\\DataBase\\DB_labels\\ret20_lag\\2024\\ret20_lag.20240529.feather Done! Cost 0.68 Secs\n",
      "Sat Jun 29 09:04:52 2024 : Updated ~ data\\DataBase\\DB_labels\\ret20\\2024\\ret20.20240530.feather Done! Cost 0.50 Secs\n",
      "Sat Jun 29 09:04:55 2024 : Updated ~ data\\DataBase\\DB_labels\\ret10_lag\\2024\\ret10_lag.20240613.feather Done! Cost 0.36 Secs\n",
      "Sat Jun 29 09:04:56 2024 : Updated ~ data\\DataBase\\DB_labels\\ret10\\2024\\ret10.20240614.feather Done! Cost 0.38 Secs\n",
      "Sat Jun 29 09:04:58 2024 : Updated ~ data\\DataBase\\DB_labels\\ret5_lag\\2024\\ret5_lag.20240620.feather Done! Cost 0.30 Secs\n",
      "Sat Jun 29 09:04:59 2024 : Updated ~ data\\DataBase\\DB_labels\\ret5\\2024\\ret5.20240621.feather Done! Cost 0.39 Secs\n",
      "Sat Jun 29 09:05:07 2024 : Updated ~ data\\DataBase\\DB_benchmark\\csi300\\2024\\csi300.20240628.feather Done! Cost 0.01 Secs\n",
      "Sat Jun 29 09:05:07 2024 : Updated ~ data\\DataBase\\DB_benchmark\\csi500\\2024\\csi500.20240628.feather Done! Cost 0.02 Secs\n",
      "Sat Jun 29 09:05:07 2024 : Updated ~ data\\DataBase\\DB_benchmark\\csi1000\\2024\\csi1000.20240628.feather Done! Cost 0.01 Secs\n",
      "Sat Jun 29 09:05:07 2024 : download since!\n",
      "Connection and Factor preparation finished!\n",
      "Sat Jun 29 09:05:07 2024 : sellside/haitong.hf_factors from 20240628 to 20240629, total 1 periods\n",
      "Start sellside/haitong.hf_factors:20240628-20240629 \n",
      "Done sellside/haitong.hf_factors:20240628-20240629, cost 8.7 Secs\n",
      "Sat Jun 29 09:05:16 2024 : sellside/haitong.dl_factors from 20240627 to 20240629, total 1 periods\n",
      "Start sellside/haitong.dl_factors:20240627-20240629 \n",
      "Done sellside/haitong.dl_factors:20240627-20240629, cost 112.1 Secs\n",
      "Sat Jun 29 09:07:08 2024 : sellside/dongfang.hfq_chars from 20240628 to 20240629, total 1 periods\n",
      "Start sellside/dongfang.hfq_chars:20240628-20240629 \n",
      "Done sellside/dongfang.hfq_chars:20240628-20240629, cost 6.2 Secs\n",
      "Sat Jun 29 09:07:15 2024 : sellside/dongfang.l2_chars from 20240628 to 20240629, total 1 periods\n",
      "Start sellside/dongfang.l2_chars:20240628-20240629 \n",
      "Done sellside/dongfang.l2_chars:20240628-20240629, cost 83.3 Secs\n",
      "Sat Jun 29 09:08:38 2024 : sellside/dongfang.ms_chars from 20240628 to 20240629, total 1 periods\n",
      "Start sellside/dongfang.ms_chars:20240628-20240629 \n",
      "Done sellside/dongfang.ms_chars:20240628-20240629, cost 51.6 Secs\n",
      "Sat Jun 29 09:09:30 2024 : sellside/dongfang.order_flow from 20240628 to 20240629, total 1 periods\n",
      "Start sellside/dongfang.order_flow:20240628-20240629 \n",
      "Done sellside/dongfang.order_flow:20240628-20240629, cost 1.6 Secs\n",
      "Sat Jun 29 09:09:31 2024 : sellside/dongfang.gp from 20240628 to 20240629, total 1 periods\n",
      "Start sellside/dongfang.gp:20240628-20240629 \n",
      "Done sellside/dongfang.gp:20240628-20240629, cost 1.9 Secs\n",
      "Sat Jun 29 09:09:33 2024 : sellside/dongfang.tra from 20240628 to 20240629, total 1 periods\n",
      "Start sellside/dongfang.tra:20240628-20240629 \n",
      "Done sellside/dongfang.tra:20240628-20240629, cost 1.5 Secs\n",
      "Sat Jun 29 09:09:35 2024 : sellside/dongfang.hist from 20240628 to 20240629, total 1 periods\n",
      "Start sellside/dongfang.hist:20240628-20240629 \n",
      "Done sellside/dongfang.hist:20240628-20240629, cost 1.3 Secs\n",
      "Sat Jun 29 09:09:36 2024 : sellside/dongfang.scores_v0 from 20240628 to 20240629, total 1 periods\n",
      "Start sellside/dongfang.scores_v0:20240628-20240629 \n",
      "Done sellside/dongfang.scores_v0:20240628-20240629, cost 1.6 Secs\n",
      "Sat Jun 29 09:09:38 2024 : sellside/dongfang.factorvae from 20240628 to 20240629, total 1 periods\n",
      "Start sellside/dongfang.factorvae:20240628-20240629 \n",
      "Done sellside/dongfang.factorvae:20240628-20240629, cost 1.3 Secs\n",
      "Sat Jun 29 09:09:39 2024 : sellside/huatai.dl_factors from 20240628 to 20240629, total 1 periods\n",
      "Start sellside/huatai.dl_factors:20240628-20240629 \n",
      "Done sellside/huatai.dl_factors:20240628-20240629, cost 1.3 Secs\n",
      "Sat Jun 29 09:09:41 2024 : All Updates Done! Cost 312.36 Secs\n",
      "--------------------------------------------------------------------------------\n",
      "predict is True , Data Processing start!\n",
      "5 datas :['y', 'day', '30m', 'style', 'indus']\n",
      "y blocks loading start!\n",
      " --> labels blocks reading [ret10_lag] DataBase...... finished! Cost 1.00 secs\n",
      " --> labels blocks reading [ret20_lag] DataBase...... finished! Cost 0.96 secs\n",
      " --> labels blocks merging (2)...... finished! Cost 0.16 secs\n",
      " --> models blocks reading [risk_exp] DataBase...... finished! Cost 3.17 secs\n",
      "y blocks loading finished! Cost 5.57 secs\n",
      "y blocks process...... finished! Cost 4.85 secs\n",
      "y blocks masking...... finished! Cost 0.11 secs\n",
      "y blocks saving ...... finished! Cost 0.16 secs\n",
      "y blocks norming...... finished! Cost 0.00 secs\n",
      "y finished! Cost 10.93 Seconds\n",
      "--------------------------------------------------------------------------------\n",
      "day blocks loading start!\n",
      " --> trade blocks reading [day] DataBase...... finished! Cost 1.83 secs\n",
      "day blocks loading finished! Cost 1.83 secs\n",
      "day blocks process...... finished! Cost 0.15 secs\n",
      "day blocks masking...... finished! Cost 0.10 secs\n",
      "day blocks saving ...... finished! Cost 0.13 secs\n",
      "day blocks norming...... finished! Cost 0.00 secs\n",
      "day finished! Cost 2.37 Seconds\n",
      "--------------------------------------------------------------------------------\n",
      "30m blocks loading start!\n",
      " --> trade blocks reading [30min] DataBase...... finished! Cost 7.29 secs\n",
      " --> trade blocks reading [day] DataBase...... finished! Cost 1.23 secs\n",
      "30m blocks loading finished! Cost 8.60 secs\n",
      "30m blocks process...... finished! Cost 1.72 secs\n",
      "30m blocks masking...... finished! Cost 0.18 secs\n",
      "30m blocks saving ...... finished! Cost 1.99 secs\n",
      "30m blocks norming...... finished! Cost 0.00 secs\n",
      "30m finished! Cost 12.62 Seconds\n",
      "--------------------------------------------------------------------------------\n",
      "style blocks loading start!\n",
      " --> models blocks reading [risk_exp] DataBase...... finished! Cost 1.60 secs\n",
      "style blocks loading finished! Cost 1.62 secs\n",
      "style blocks process...... finished! Cost 0.00 secs\n",
      "style blocks masking...... finished! Cost 0.10 secs\n",
      "style blocks saving ...... finished! Cost 0.24 secs\n",
      "style blocks norming...... finished! Cost 0.00 secs\n",
      "style finished! Cost 2.05 Seconds\n",
      "--------------------------------------------------------------------------------\n",
      "indus blocks loading start!\n",
      " --> models blocks reading [risk_exp] DataBase...... finished! Cost 2.88 secs\n",
      "indus blocks loading finished! Cost 2.88 secs\n",
      "indus blocks process...... finished! Cost 0.00 secs\n",
      "indus blocks masking...... finished! Cost 0.13 secs\n",
      "indus blocks saving ...... finished! Cost 1.38 secs\n",
      "indus blocks norming...... finished! Cost 0.00 secs\n",
      "indus finished! Cost 4.50 Seconds\n",
      "--------------------------------------------------------------------------------\n",
      "Data Processing Finished! Cost 32.47 Seconds\n",
      "--------------------------------------------------------------------------------\n"
     ]
    },
    {
     "ename": "RuntimeError",
     "evalue": "Error(s) in loading state_dict for gru:\n\tUnexpected key(s) in state_dict: \"multiloss_alpha\". ",
     "output_type": "error",
     "traceback": [
      "\u001b[1;31m---------------------------------------------------------------------------\u001b[0m",
      "\u001b[1;31mRuntimeError\u001b[0m                              Traceback (most recent call last)",
      "Cell \u001b[1;32mIn[1], line 5\u001b[0m\n\u001b[0;32m      3\u001b[0m API\u001b[38;5;241m.\u001b[39mDataAPI\u001b[38;5;241m.\u001b[39mupdate()\n\u001b[0;32m      4\u001b[0m API\u001b[38;5;241m.\u001b[39mDataAPI\u001b[38;5;241m.\u001b[39mprepare_train_data()\n\u001b[1;32m----> 5\u001b[0m \u001b[43mAPI\u001b[49m\u001b[38;5;241;43m.\u001b[39;49m\u001b[43mPredictor\u001b[49m\u001b[38;5;241;43m.\u001b[39;49m\u001b[43mupdate_factors\u001b[49m\u001b[43m(\u001b[49m\u001b[43m)\u001b[49m\n",
      "File \u001b[1;32md:\\Coding\\learndl\\learndl\\src\\nn_model\\trainer\\predictor.py:40\u001b[0m, in \u001b[0;36mPredictor.update_factors\u001b[1;34m(cls, silent)\u001b[0m\n\u001b[0;32m     38\u001b[0m md \u001b[38;5;241m=\u001b[39m \u001b[38;5;28mcls\u001b[39m(model\u001b[38;5;241m.\u001b[39mname, model\u001b[38;5;241m.\u001b[39mtype , model\u001b[38;5;241m.\u001b[39mnum , model\u001b[38;5;241m.\u001b[39malias)\n\u001b[0;32m     39\u001b[0m CONF\u001b[38;5;241m.\u001b[39mSILENT \u001b[38;5;241m=\u001b[39m \u001b[38;5;28;01mTrue\u001b[39;00m\n\u001b[1;32m---> 40\u001b[0m \u001b[43mmd\u001b[49m\u001b[38;5;241;43m.\u001b[39;49m\u001b[43mget_df\u001b[49m\u001b[43m(\u001b[49m\u001b[43m)\u001b[49m\u001b[38;5;241m.\u001b[39mdeploy()\n\u001b[0;32m     41\u001b[0m CONF\u001b[38;5;241m.\u001b[39mSILENT \u001b[38;5;241m=\u001b[39m \u001b[38;5;28;01mFalse\u001b[39;00m\n\u001b[0;32m     42\u001b[0m \u001b[38;5;28mprint\u001b[39m(\u001b[38;5;124mf\u001b[39m\u001b[38;5;124m'\u001b[39m\u001b[38;5;124mFinish model [\u001b[39m\u001b[38;5;132;01m{\u001b[39;00mmodel\u001b[38;5;241m.\u001b[39mname\u001b[38;5;132;01m}\u001b[39;00m\u001b[38;5;124m] predicting!\u001b[39m\u001b[38;5;124m'\u001b[39m)\n",
      "File \u001b[1;32md:\\Coding\\learndl\\learndl\\src\\nn_model\\trainer\\predictor.py:58\u001b[0m, in \u001b[0;36mPredictor.get_df\u001b[1;34m(self, start_dt, end_dt)\u001b[0m\n\u001b[0;32m     56\u001b[0m \u001b[38;5;28;01mdef\u001b[39;00m \u001b[38;5;21mget_df\u001b[39m(\u001b[38;5;28mself\u001b[39m , start_dt \u001b[38;5;241m=\u001b[39m \u001b[38;5;241m-\u001b[39m\u001b[38;5;241m10\u001b[39m , end_dt \u001b[38;5;241m=\u001b[39m \u001b[38;5;241m20991231\u001b[39m):\n\u001b[0;32m     57\u001b[0m \u001b[38;5;250m    \u001b[39m\u001b[38;5;124;03m'''save recent prediction to self.df'''\u001b[39;00m\n\u001b[1;32m---> 58\u001b[0m     \u001b[38;5;28mself\u001b[39m\u001b[38;5;241m.\u001b[39mdf \u001b[38;5;241m=\u001b[39m \u001b[38;5;28;43mself\u001b[39;49m\u001b[38;5;241;43m.\u001b[39;49m\u001b[43mpredict\u001b[49m\u001b[43m(\u001b[49m\u001b[43mstart_dt\u001b[49m\u001b[38;5;241;43m=\u001b[39;49m\u001b[43m \u001b[49m\u001b[43mstart_dt\u001b[49m\u001b[43m \u001b[49m\u001b[43m,\u001b[49m\u001b[43m \u001b[49m\u001b[43mend_dt\u001b[49m\u001b[43m \u001b[49m\u001b[38;5;241;43m=\u001b[39;49m\u001b[43m \u001b[49m\u001b[43mend_dt\u001b[49m\u001b[43m)\u001b[49m\n\u001b[0;32m     59\u001b[0m     \u001b[38;5;28;01mreturn\u001b[39;00m \u001b[38;5;28mself\u001b[39m\n",
      "File \u001b[1;32md:\\Coding\\learndl\\learndl\\src\\nn_model\\trainer\\predictor.py:104\u001b[0m, in \u001b[0;36mPredictor.predict\u001b[1;34m(self, start_dt, end_dt)\u001b[0m\n\u001b[0;32m    101\u001b[0m data\u001b[38;5;241m.\u001b[39msetup(\u001b[38;5;124m'\u001b[39m\u001b[38;5;124mpredict\u001b[39m\u001b[38;5;124m'\u001b[39m ,  model_param , model_date)\n\u001b[0;32m    102\u001b[0m model \u001b[38;5;241m=\u001b[39m deposition\u001b[38;5;241m.\u001b[39mload_model(model_date , \u001b[38;5;28mself\u001b[39m\u001b[38;5;241m.\u001b[39mmodel_num , \u001b[38;5;28mself\u001b[39m\u001b[38;5;241m.\u001b[39mmodel_type)\n\u001b[1;32m--> 104\u001b[0m net \u001b[38;5;241m=\u001b[39m \u001b[43mModelEnsembler\u001b[49m\u001b[38;5;241;43m.\u001b[39;49m\u001b[43mget_net\u001b[49m\u001b[43m(\u001b[49m\u001b[43mmodel_config\u001b[49m\u001b[38;5;241;43m.\u001b[39;49m\u001b[43mmodel_module\u001b[49m\u001b[43m \u001b[49m\u001b[43m,\u001b[49m\u001b[43m \u001b[49m\u001b[43mmodel_param\u001b[49m\u001b[43m \u001b[49m\u001b[43m,\u001b[49m\u001b[43m \u001b[49m\u001b[43mmodel\u001b[49m\u001b[43m[\u001b[49m\u001b[38;5;124;43m'\u001b[39;49m\u001b[38;5;124;43mstate_dict\u001b[39;49m\u001b[38;5;124;43m'\u001b[39;49m\u001b[43m]\u001b[49m\u001b[43m \u001b[49m\u001b[43m,\u001b[49m\u001b[43m \u001b[49m\u001b[43mdevice\u001b[49m\u001b[43m)\u001b[49m\n\u001b[0;32m    105\u001b[0m net\u001b[38;5;241m.\u001b[39meval()\n\u001b[0;32m    107\u001b[0m loader \u001b[38;5;241m=\u001b[39m data\u001b[38;5;241m.\u001b[39mpredict_dataloader()\n",
      "File \u001b[1;32md:\\Coding\\learndl\\learndl\\src\\nn_model\\ensemble\\api.py:42\u001b[0m, in \u001b[0;36mModelEnsembler.get_net\u001b[1;34m(cls, model_module, model_param, state_dict, device)\u001b[0m\n\u001b[0;32m     40\u001b[0m net \u001b[38;5;241m=\u001b[39m NN\u001b[38;5;241m.\u001b[39mnn_module(\u001b[38;5;241m*\u001b[39m\u001b[38;5;241m*\u001b[39mmodel_param)\n\u001b[0;32m     41\u001b[0m \u001b[38;5;28;01massert\u001b[39;00m \u001b[38;5;28misinstance\u001b[39m(net , nn\u001b[38;5;241m.\u001b[39mModule) , net\u001b[38;5;241m.\u001b[39m\u001b[38;5;18m__class__\u001b[39m\n\u001b[1;32m---> 42\u001b[0m \u001b[38;5;28;01mif\u001b[39;00m state_dict: \u001b[43mnet\u001b[49m\u001b[38;5;241;43m.\u001b[39;49m\u001b[43mload_state_dict\u001b[49m\u001b[43m(\u001b[49m\u001b[43mstate_dict\u001b[49m\u001b[43m)\u001b[49m\n\u001b[0;32m     43\u001b[0m \u001b[38;5;28;01mreturn\u001b[39;00m device(net) \u001b[38;5;28;01mif\u001b[39;00m \u001b[38;5;28mcallable\u001b[39m(device) \u001b[38;5;28;01melse\u001b[39;00m net\u001b[38;5;241m.\u001b[39mto(device)\n",
      "File \u001b[1;32mc:\\Users\\jinmeng\\AppData\\Local\\Programs\\Python\\Python311\\Lib\\site-packages\\torch\\nn\\modules\\module.py:2153\u001b[0m, in \u001b[0;36mModule.load_state_dict\u001b[1;34m(self, state_dict, strict, assign)\u001b[0m\n\u001b[0;32m   2148\u001b[0m         error_msgs\u001b[38;5;241m.\u001b[39minsert(\n\u001b[0;32m   2149\u001b[0m             \u001b[38;5;241m0\u001b[39m, \u001b[38;5;124m'\u001b[39m\u001b[38;5;124mMissing key(s) in state_dict: \u001b[39m\u001b[38;5;132;01m{}\u001b[39;00m\u001b[38;5;124m. \u001b[39m\u001b[38;5;124m'\u001b[39m\u001b[38;5;241m.\u001b[39mformat(\n\u001b[0;32m   2150\u001b[0m                 \u001b[38;5;124m'\u001b[39m\u001b[38;5;124m, \u001b[39m\u001b[38;5;124m'\u001b[39m\u001b[38;5;241m.\u001b[39mjoin(\u001b[38;5;124mf\u001b[39m\u001b[38;5;124m'\u001b[39m\u001b[38;5;124m\"\u001b[39m\u001b[38;5;132;01m{\u001b[39;00mk\u001b[38;5;132;01m}\u001b[39;00m\u001b[38;5;124m\"\u001b[39m\u001b[38;5;124m'\u001b[39m \u001b[38;5;28;01mfor\u001b[39;00m k \u001b[38;5;129;01min\u001b[39;00m missing_keys)))\n\u001b[0;32m   2152\u001b[0m \u001b[38;5;28;01mif\u001b[39;00m \u001b[38;5;28mlen\u001b[39m(error_msgs) \u001b[38;5;241m>\u001b[39m \u001b[38;5;241m0\u001b[39m:\n\u001b[1;32m-> 2153\u001b[0m     \u001b[38;5;28;01mraise\u001b[39;00m \u001b[38;5;167;01mRuntimeError\u001b[39;00m(\u001b[38;5;124m'\u001b[39m\u001b[38;5;124mError(s) in loading state_dict for \u001b[39m\u001b[38;5;132;01m{}\u001b[39;00m\u001b[38;5;124m:\u001b[39m\u001b[38;5;130;01m\\n\u001b[39;00m\u001b[38;5;130;01m\\t\u001b[39;00m\u001b[38;5;132;01m{}\u001b[39;00m\u001b[38;5;124m'\u001b[39m\u001b[38;5;241m.\u001b[39mformat(\n\u001b[0;32m   2154\u001b[0m                        \u001b[38;5;28mself\u001b[39m\u001b[38;5;241m.\u001b[39m\u001b[38;5;18m__class__\u001b[39m\u001b[38;5;241m.\u001b[39m\u001b[38;5;18m__name__\u001b[39m, \u001b[38;5;124m\"\u001b[39m\u001b[38;5;130;01m\\n\u001b[39;00m\u001b[38;5;130;01m\\t\u001b[39;00m\u001b[38;5;124m\"\u001b[39m\u001b[38;5;241m.\u001b[39mjoin(error_msgs)))\n\u001b[0;32m   2155\u001b[0m \u001b[38;5;28;01mreturn\u001b[39;00m _IncompatibleKeys(missing_keys, unexpected_keys)\n",
      "\u001b[1;31mRuntimeError\u001b[0m: Error(s) in loading state_dict for gru:\n\tUnexpected key(s) in state_dict: \"multiloss_alpha\". "
     ]
    }
   ],
   "source": [
    "from src import api as API\n",
    "\n",
    "API.DataAPI.update()\n",
    "API.DataAPI.prepare_train_data()\n",
    "API.Predictor.update_factors()"
   ]
  },
  {
   "cell_type": "code",
   "execution_count": 1,
   "metadata": {},
   "outputs": [
    {
     "name": "stdout",
     "output_type": "stream",
     "text": [
      "Finish model [gru_day] predicting!\n",
      "Finish model [gruRTN_day] predicting!\n",
      "Finish model [gruRES_day] predicting!\n",
      "--------------------------------------------------------------------------------\n"
     ]
    }
   ],
   "source": [
    "from src import api as API\n",
    "API.Predictor.update_factors()"
   ]
  },
  {
   "cell_type": "code",
   "execution_count": 2,
   "metadata": {},
   "outputs": [
    {
     "name": "stdout",
     "output_type": "stream",
     "text": [
      "Load  2 DataBlocks ..."
     ]
    },
    {
     "name": "stdout",
     "output_type": "stream",
     "text": [
      "... cost 0.22 secs\n",
      "Align 2 DataBlocks ...... cost 0.21 secs\n",
      "Pre-Norming method of [day] : {'divlast': True, 'histnorm': True}\n",
      "x shape is torch.Size([5064, 30, 6])\n",
      "y shape is torch.Size([5064, 1])\n",
      "Test Forward Success\n",
      "metrics :  Metrics.MetricOutput(loss=tensor(1.0688, grad_fn=<AddBackward0>), score=-0.015420470386743546, loss_item=1.068833589553833, penalty=0.0, losses=tensor(1.0688, grad_fn=<ExpBackward0>))\n",
      "Test Metrics Success\n"
     ]
    }
   ],
   "source": [
    "from src import api\n",
    "api.ModelTestor.new('ts_mixer').try_metrics()"
   ]
  }
 ],
 "metadata": {
  "kernelspec": {
   "display_name": "Python 3",
   "language": "python",
   "name": "python3"
  },
  "language_info": {
   "codemirror_mode": {
    "name": "ipython",
    "version": 3
   },
   "file_extension": ".py",
   "mimetype": "text/x-python",
   "name": "python",
   "nbconvert_exporter": "python",
   "pygments_lexer": "ipython3",
   "version": "3.11.8"
  }
 },
 "nbformat": 4,
 "nbformat_minor": 2
}
