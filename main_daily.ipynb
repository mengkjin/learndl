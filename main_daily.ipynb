{
 "cells": [
  {
   "cell_type": "code",
   "execution_count": 2,
   "metadata": {},
   "outputs": [
    {
     "name": "stdout",
     "output_type": "stream",
     "text": [
      "Update Files\n",
      "Thu May 23 07:03:12 2024 : Updated ~ data\\DataBase\\DB_information\\calendar.feather Done! Cost 0.01 Secs\n",
      "Thu May 23 07:03:12 2024 : Updated ~ data\\DataBase\\DB_information\\description.feather Done! Cost 0.03 Secs\n",
      "Thu May 23 07:03:12 2024 : Updated ~ data\\DataBase\\DB_information\\st.feather Done! Cost 0.01 Secs\n",
      "Thu May 23 07:03:14 2024 : Updated ~ data\\DataBase\\DB_information\\industry.feather Done! Cost 2.33 Secs\n",
      "Thu May 23 07:03:18 2024 : Updated ~ data\\DataBase\\DB_information\\concepts.feather Done! Cost 4.30 Secs\n",
      "Thu May 23 07:03:30 2024 : download since!\n",
      "Connection and Factor preparation finished!\n",
      "Thu May 23 07:03:30 2024 : sellside/haitong.hf_factors from 20240523 to 20240523, total 1 periods\n",
      "Start sellside/haitong.hf_factors:20240523-20240523 \n",
      "Done sellside/haitong.hf_factors:20240523-20240523, cost 13.8 Secs\n",
      "Thu May 23 07:03:43 2024 : sellside/haitong.dl_factors from 20240523 to 20240523, total 1 periods\n",
      "Start sellside/haitong.dl_factors:20240523-20240523 \n",
      "Done sellside/haitong.dl_factors:20240523-20240523, cost 132.1 Secs\n",
      "Thu May 23 07:05:56 2024 : sellside/dongfang.hfq_chars from 20240522 to 20240523, total 1 periods\n",
      "Start sellside/dongfang.hfq_chars:20240522-20240523 \n",
      "Done sellside/dongfang.hfq_chars:20240522-20240523, cost 2.9 Secs\n",
      "Thu May 23 07:05:59 2024 : sellside/dongfang.l2_chars from 20240522 to 20240523, total 1 periods\n",
      "Start sellside/dongfang.l2_chars:20240522-20240523 \n",
      "Done sellside/dongfang.l2_chars:20240522-20240523, cost 79.1 Secs\n",
      "Thu May 23 07:07:18 2024 : sellside/dongfang.ms_chars from 20240522 to 20240523, total 1 periods\n",
      "Start sellside/dongfang.ms_chars:20240522-20240523 \n",
      "Done sellside/dongfang.ms_chars:20240522-20240523, cost 154.3 Secs\n",
      "Thu May 23 07:09:52 2024 : sellside/dongfang.order_flow from 20240522 to 20240523, total 1 periods\n",
      "Start sellside/dongfang.order_flow:20240522-20240523 \n",
      "Done sellside/dongfang.order_flow:20240522-20240523, cost 2.3 Secs\n",
      "Thu May 23 07:09:55 2024 : sellside/dongfang.gp from 20240522 to 20240523, total 1 periods\n",
      "Start sellside/dongfang.gp:20240522-20240523 \n",
      "Done sellside/dongfang.gp:20240522-20240523, cost 2.0 Secs\n",
      "Thu May 23 07:09:57 2024 : sellside/dongfang.tra from 20240522 to 20240523, total 1 periods\n",
      "Start sellside/dongfang.tra:20240522-20240523 \n",
      "Done sellside/dongfang.tra:20240522-20240523, cost 1.8 Secs\n",
      "Thu May 23 07:09:58 2024 : sellside/dongfang.hist from 20240522 to 20240523, total 1 periods\n",
      "Start sellside/dongfang.hist:20240522-20240523 \n",
      "Done sellside/dongfang.hist:20240522-20240523, cost 1.9 Secs\n",
      "Thu May 23 07:10:00 2024 : sellside/dongfang.scores_v0 from 20240522 to 20240523, total 1 periods\n",
      "Start sellside/dongfang.scores_v0:20240522-20240523 \n",
      "Done sellside/dongfang.scores_v0:20240522-20240523, cost 1.6 Secs\n",
      "Thu May 23 07:10:02 2024 : sellside/dongfang.factorvae from 20200101 to 20240523, total 17 periods\n",
      "Start sellside/dongfang.factorvae:20200101-20200331 \n",
      "Done sellside/dongfang.factorvae:20200101-20200331, cost 14.0 Secs\n",
      "Start sellside/dongfang.factorvae:20200401-20200630 \n",
      "Done sellside/dongfang.factorvae:20200401-20200630, cost 18.8 Secs\n",
      "Start sellside/dongfang.factorvae:20200701-20200930 \n",
      "Done sellside/dongfang.factorvae:20200701-20200930, cost 14.5 Secs\n",
      "Start sellside/dongfang.factorvae:20201001-20201231 \n",
      "Done sellside/dongfang.factorvae:20201001-20201231, cost 16.2 Secs\n",
      "Start sellside/dongfang.factorvae:20210101-20210331 \n",
      "Done sellside/dongfang.factorvae:20210101-20210331, cost 14.6 Secs\n",
      "Start sellside/dongfang.factorvae:20210401-20210630 \n",
      "Done sellside/dongfang.factorvae:20210401-20210630, cost 9.9 Secs\n",
      "Start sellside/dongfang.factorvae:20210701-20210930 \n",
      "Done sellside/dongfang.factorvae:20210701-20210930, cost 11.4 Secs\n",
      "Start sellside/dongfang.factorvae:20211001-20211231 \n",
      "Done sellside/dongfang.factorvae:20211001-20211231, cost 10.1 Secs\n",
      "Start sellside/dongfang.factorvae:20220101-20220331 \n",
      "Done sellside/dongfang.factorvae:20220101-20220331, cost 10.8 Secs\n",
      "Start sellside/dongfang.factorvae:20220401-20220630 \n",
      "Done sellside/dongfang.factorvae:20220401-20220630, cost 12.6 Secs\n",
      "Start sellside/dongfang.factorvae:20220701-20220930 \n",
      "Done sellside/dongfang.factorvae:20220701-20220930, cost 14.3 Secs\n",
      "Start sellside/dongfang.factorvae:20221001-20221231 \n",
      "Done sellside/dongfang.factorvae:20221001-20221231, cost 10.4 Secs\n",
      "Start sellside/dongfang.factorvae:20230101-20230331 \n",
      "Done sellside/dongfang.factorvae:20230101-20230331, cost 18.5 Secs\n",
      "Start sellside/dongfang.factorvae:20230401-20230630 \n",
      "Done sellside/dongfang.factorvae:20230401-20230630, cost 17.8 Secs\n",
      "Start sellside/dongfang.factorvae:20230701-20230930 \n",
      "Done sellside/dongfang.factorvae:20230701-20230930, cost 12.9 Secs\n",
      "Start sellside/dongfang.factorvae:20231001-20231231 \n",
      "Done sellside/dongfang.factorvae:20231001-20231231, cost 14.1 Secs\n",
      "Start sellside/dongfang.factorvae:20240101-20240523 \n",
      "Done sellside/dongfang.factorvae:20240101-20240523, cost 18.9 Secs\n",
      "Thu May 23 07:14:02 2024 : sellside/kaiyuan.positive from 20240501 to 20240523, total 1 periods\n",
      "Start sellside/kaiyuan.positive:20240501-20240523 \n",
      "Done sellside/kaiyuan.positive:20240501-20240523, cost 3.3 Secs\n",
      "Thu May 23 07:14:05 2024 : sellside/kaiyuan.negative from 20240501 to 20240523, total 1 periods\n",
      "Start sellside/kaiyuan.negative:20240501-20240523 \n",
      "Done sellside/kaiyuan.negative:20240501-20240523, cost 1.9 Secs\n",
      "Thu May 23 07:14:07 2024 : sellside/huatai.dl_factors from 20240522 to 20240523, total 1 periods\n",
      "Start sellside/huatai.dl_factors:20240522-20240523 \n",
      "Done sellside/huatai.dl_factors:20240522-20240523, cost 1.2 Secs\n",
      "Thu May 23 07:14:08 2024 : All Updates Done! Cost 656.61 Secs\n",
      "predict is True , Data Processing start!\n",
      "4 datas :['y', 'day', '30m', 'risk']\n",
      "y blocks loading start!\n",
      " --> labels blocks reading [ret10_lag] DataBase...... finished! Cost 0.96 secs\n",
      " --> labels blocks reading [ret20_lag] DataBase...... finished! Cost 0.87 secs\n",
      " --> labels blocks merging (2)...... finished! Cost 0.12 secs\n",
      " --> models blocks reading [risk_exp] DataBase...... finished! Cost 3.44 secs\n",
      "y blocks loading finished! Cost 5.81 secs\n",
      "y blocks process...... finished! Cost 4.38 secs\n",
      "y blocks masking...... finished! Cost 0.08 secs\n",
      "y blocks saving ...... finished! Cost 0.15 secs\n",
      "y blocks norming...... finished! Cost 0.00 secs\n",
      "y finished! Cost 10.82 Seconds\n",
      "--------------------------------------------------------------------------------\n",
      "day blocks loading start!\n",
      " --> trade blocks reading [day] DataBase...... finished! Cost 1.58 secs\n",
      "day blocks loading finished! Cost 1.61 secs\n",
      "day blocks process...... finished! Cost 0.13 secs\n",
      "day blocks masking...... finished! Cost 0.07 secs\n",
      "day blocks saving ...... finished! Cost 0.15 secs\n",
      "day blocks norming...... finished! Cost 0.00 secs\n",
      "day finished! Cost 2.11 Seconds\n",
      "--------------------------------------------------------------------------------\n",
      "30m blocks loading start!\n",
      " --> trade blocks reading [30min] DataBase...... finished! Cost 6.37 secs\n",
      " --> trade blocks reading [day] DataBase...... finished! Cost 1.08 secs\n",
      "30m blocks loading finished! Cost 7.50 secs\n",
      "30m blocks process...... finished! Cost 1.68 secs\n",
      "30m blocks masking...... finished! Cost 0.16 secs\n",
      "30m blocks saving ...... finished! Cost 1.79 secs\n",
      "30m blocks norming...... finished! Cost 0.00 secs\n",
      "30m finished! Cost 11.27 Seconds\n",
      "--------------------------------------------------------------------------------\n",
      "risk blocks loading start!\n",
      " --> models blocks reading [risk_exp] DataBase...... finished! Cost 2.03 secs\n",
      "risk blocks loading finished! Cost 2.07 secs\n",
      "risk blocks process...... finished! Cost 0.00 secs\n",
      "risk blocks masking...... finished! Cost 0.09 secs\n",
      "risk blocks saving ...... finished! Cost 0.20 secs\n",
      "risk blocks norming...... finished! Cost 0.00 secs\n",
      "risk finished! Cost 2.46 Seconds\n",
      "--------------------------------------------------------------------------------\n",
      "Data Processing Finished! Cost 26.65 Seconds\n"
     ]
    }
   ],
   "source": [
    "import src.data as data\n",
    "\n",
    "data.DataUpdater.main()\n",
    "data.DataProcessor.main(True)"
   ]
  },
  {
   "cell_type": "code",
   "execution_count": 1,
   "metadata": {},
   "outputs": [
    {
     "name": "stdout",
     "output_type": "stream",
     "text": [
      "predict is True , Data Processing start!\n",
      "3 datas :['y', 'day', '30m']\n",
      "y blocks loading start!\n",
      " --> labels blocks reading [ret10_lag] DataBase's...... finished! Cost 1.03 secs\n",
      " --> labels blocks reading [ret20_lag] DataBase's...... finished! Cost 0.92 secs\n",
      " --> labels blocks merging...... finished! Cost 0.10 secs\n",
      " --> models blocks reading [risk_exp] DataBase's...... finished! Cost 3.99 secs\n",
      " --> models blocks merging...... finished! Cost 0.00 secs\n",
      "y blocks loading finished! Cost 6.53 secs\n",
      "y blocks process...... finished! Cost 4.47 secs\n",
      "y blocks masking...... finished! Cost 0.08 secs\n",
      "y blocks saving ...... finished! Cost 0.14 secs\n",
      "y blocks norming...... finished! Cost 0.00 secs\n",
      "y finished! Cost 11.29 Seconds\n",
      "--------------------------------------------------------------------------------\n",
      "day blocks loading start!\n",
      " --> trade blocks reading [day] DataBase's...... finished! Cost 1.52 secs\n",
      " --> trade blocks merging...... finished! Cost 0.00 secs\n",
      "day blocks loading finished! Cost 1.55 secs\n",
      "day blocks process...... finished! Cost 0.12 secs\n",
      "day blocks masking...... finished! Cost 0.07 secs\n",
      "day blocks saving ...... finished! Cost 0.13 secs\n",
      "day blocks norming...... finished! Cost 0.00 secs\n",
      "day finished! Cost 1.96 Seconds\n",
      "--------------------------------------------------------------------------------\n",
      "30m blocks loading start!\n",
      " --> trade blocks reading [30min] DataBase's...... finished! Cost 6.15 secs\n",
      " --> trade blocks merging...... finished! Cost 0.00 secs\n",
      " --> trade blocks reading [day] DataBase's...... finished! Cost 1.10 secs\n",
      " --> trade blocks merging...... finished! Cost 0.00 secs\n",
      "30m blocks loading finished! Cost 7.31 secs\n",
      "30m blocks process...... finished! Cost 1.73 secs\n",
      "30m blocks masking...... finished! Cost 0.07 secs\n",
      "30m blocks saving ...... finished! Cost 1.88 secs\n",
      "30m blocks norming...... finished! Cost 0.00 secs\n",
      "30m finished! Cost 11.07 Seconds\n",
      "--------------------------------------------------------------------------------\n",
      "Data Processing Finished! Cost 24.32 Seconds\n"
     ]
    }
   ],
   "source": [
    "import src.data as data\n",
    "data.DataProcessor.main(True)"
   ]
  },
  {
   "cell_type": "code",
   "execution_count": 1,
   "metadata": {},
   "outputs": [
    {
     "name": "stdout",
     "output_type": "stream",
     "text": [
      "Use device name: NVIDIA GeForce RTX 4090\n",
      "predict is False , Data Processing start!\n",
      "4 datas :['y', 'day', '30m', 'risk']\n",
      "y blocks loading start!\n",
      " --> labels blocks reading [ret10_lag] DataBase...... finished! Cost 16.02 secs\n",
      " --> labels blocks reading [ret20_lag] DataBase...... finished! Cost 15.67 secs\n",
      " --> labels blocks merging (2)...... finished! Cost 2.87 secs\n",
      " --> models blocks reading [risk_exp] DataBase...... finished! Cost 61.10 secs\n",
      "y blocks loading finished! Cost 106.39 secs\n",
      "y blocks process...... finished! Cost 46.00 secs\n",
      "y blocks masking...... finished! Cost 0.73 secs\n",
      "y blocks saving ...... finished! Cost 3.66 secs\n",
      "y blocks norming...... finished! Cost 0.00 secs\n",
      "y finished! Cost 156.92 Seconds\n",
      "--------------------------------------------------------------------------------\n",
      "day blocks loading start!\n",
      " --> trade blocks reading [day] DataBase...... finished! Cost 28.16 secs\n",
      "day blocks loading finished! Cost 28.19 secs\n",
      "day blocks process...... finished! Cost 3.32 secs\n",
      "day blocks masking...... finished! Cost 0.85 secs\n",
      "day blocks saving ...... finished! Cost 3.64 secs\n",
      "day blocks norming...... finished! Cost 8.18 secs\n",
      "day finished! Cost 44.32 Seconds\n",
      "--------------------------------------------------------------------------------\n",
      "30m blocks loading start!\n",
      " --> trade blocks reading [30min] DataBase...... finished! Cost 67.78 secs\n",
      " --> trade blocks reading [day] DataBase...... finished! Cost 24.32 secs\n",
      "30m blocks loading finished! Cost 92.92 secs\n",
      "30m blocks process...... finished! Cost 31.78 secs\n",
      "30m blocks masking...... finished! Cost 2.39 secs\n",
      "30m blocks saving ...... finished! Cost 39.69 secs\n",
      "30m blocks norming...... finished! Cost 3.74 secs\n",
      "30m finished! Cost 170.64 Seconds\n",
      "--------------------------------------------------------------------------------\n",
      "risk blocks loading start!\n",
      " --> models blocks reading [risk_exp] DataBase...... finished! Cost 31.70 secs\n",
      "risk blocks loading finished! Cost 31.72 secs\n",
      "risk blocks process...... finished! Cost 0.00 secs\n",
      "risk blocks masking...... finished! Cost 0.90 secs\n",
      "risk blocks saving ...... finished! Cost 4.97 secs\n",
      "risk blocks norming...... finished! Cost 0.00 secs\n",
      "risk finished! Cost 37.73 Seconds\n",
      "--------------------------------------------------------------------------------\n",
      "Data Processing Finished! Cost 409.60 Seconds\n"
     ]
    }
   ],
   "source": [
    "import src.data as data\n",
    "data.DataProcessor.main(False)"
   ]
  },
  {
   "cell_type": "code",
   "execution_count": 2,
   "metadata": {},
   "outputs": [
    {
     "name": "stdout",
     "output_type": "stream",
     "text": [
      "Load  2 DataBlocks ..."
     ]
    },
    {
     "name": "stdout",
     "output_type": "stream",
     "text": [
      "... cost 0.22 secs\n",
      "Align 2 DataBlocks ...... cost 0.21 secs\n",
      "Pre-Norming method of [day] : {'divlast': True, 'histnorm': True}\n",
      "x shape is torch.Size([5064, 30, 6])\n",
      "y shape is torch.Size([5064, 1])\n",
      "Test Forward Success\n",
      "metrics :  Metrics.MetricOutput(loss=tensor(1.0688, grad_fn=<AddBackward0>), score=-0.015420470386743546, loss_item=1.068833589553833, penalty=0.0, losses=tensor(1.0688, grad_fn=<ExpBackward0>))\n",
      "Test Metrics Success\n"
     ]
    }
   ],
   "source": [
    "from src.interface import ModelTestor\n",
    "\n",
    "mt = ModelTestor.new('ts_mixer')\n",
    "mt.try_metrics()"
   ]
  },
  {
   "cell_type": "code",
   "execution_count": 2,
   "metadata": {},
   "outputs": [
    {
     "data": {
      "text/plain": [
       "<src.data.process.procDay at 0x7a706b860580>"
      ]
     },
     "execution_count": 2,
     "metadata": {},
     "output_type": "execute_result"
    }
   ],
   "source": [
    "from src.data.process import select_processor\n",
    "select_processor('day')"
   ]
  }
 ],
 "metadata": {
  "kernelspec": {
   "display_name": "Python 3",
   "language": "python",
   "name": "python3"
  },
  "language_info": {
   "codemirror_mode": {
    "name": "ipython",
    "version": 3
   },
   "file_extension": ".py",
   "mimetype": "text/x-python",
   "name": "python",
   "nbconvert_exporter": "python",
   "pygments_lexer": "ipython3",
   "version": "3.11.8"
  }
 },
 "nbformat": 4,
 "nbformat_minor": 2
}
