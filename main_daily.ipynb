{
 "cells": [
  {
   "cell_type": "code",
   "execution_count": 1,
   "metadata": {},
   "outputs": [
    {
     "name": "stdout",
     "output_type": "stream",
     "text": [
      "Update Files\n",
      "Fri Sep 20 00:03:46 2024 : Updated ~ DB_information\\calendar.feather Done! Cost 0.02 Secs\n",
      "Fri Sep 20 00:03:46 2024 : Updated ~ DB_information\\description.feather Done! Cost 0.03 Secs\n",
      "Fri Sep 20 00:03:46 2024 : Updated ~ DB_information\\st.feather Done! Cost 0.03 Secs\n",
      "Fri Sep 20 00:03:49 2024 : Updated ~ DB_information\\industry.feather Done! Cost 2.68 Secs\n",
      "Fri Sep 20 00:03:54 2024 : Updated ~ DB_information\\concepts.feather Done! Cost 5.42 Secs\n",
      "Fri Sep 20 00:03:56 2024 : Updated ~ DB_models\\longcl_exp\\2024\\longcl_exp.20240918.feather Done! Cost 0.10 Secs\n",
      "Fri Sep 20 00:03:56 2024 : Updated ~ DB_models\\risk_exp\\2024\\risk_exp.20240919.feather Done! Cost 0.06 Secs\n",
      "Fri Sep 20 00:03:56 2024 : Updated ~ DB_models\\risk_cov\\2024\\risk_cov.20240919.feather Done! Cost 0.02 Secs\n",
      "Fri Sep 20 00:03:56 2024 : Updated ~ DB_models\\risk_spec\\2024\\risk_spec.20240919.feather Done! Cost 0.02 Secs\n",
      "Fri Sep 20 00:03:58 2024 : Updated ~ DB_trade\\day\\2024\\day.20240919.feather Done! Cost 0.06 Secs\n",
      "Fri Sep 20 00:03:59 2024 : Updated ~ DB_trade\\5day\\2024\\5day.20240919.feather Done! Cost 0.28 Secs\n",
      "Fri Sep 20 00:03:59 2024 : Updated ~ DB_trade\\10day\\2024\\10day.20240919.feather Done! Cost 0.50 Secs\n",
      "Fri Sep 20 00:04:00 2024 : Updated ~ DB_trade\\20day\\2024\\20day.20240919.feather Done! Cost 1.02 Secs\n",
      "Fri Sep 20 00:04:03 2024 : Updated ~ DB_trade\\min\\2024\\min.20240919.feather Done! Cost 3.16 Secs\n",
      "Fri Sep 20 00:04:04 2024 : Updated ~ DB_trade\\5min\\2024\\5min.20240919.feather Done! Cost 0.33 Secs\n",
      "Fri Sep 20 00:04:04 2024 : Updated ~ DB_trade\\10min\\2024\\10min.20240919.feather Done! Cost 0.27 Secs\n",
      "Fri Sep 20 00:04:04 2024 : Updated ~ DB_trade\\15min\\2024\\15min.20240919.feather Done! Cost 0.23 Secs\n",
      "Fri Sep 20 00:04:04 2024 : Updated ~ DB_trade\\30min\\2024\\30min.20240919.feather Done! Cost 0.23 Secs\n",
      "Fri Sep 20 00:04:05 2024 : Updated ~ DB_trade\\60min\\2024\\60min.20240919.feather Done! Cost 0.27 Secs\n",
      "Fri Sep 20 00:04:07 2024 : Updated ~ DB_labels\\ret20_lag\\2024\\ret20_lag.20240819.feather Done! Cost 0.83 Secs\n",
      "Fri Sep 20 00:04:08 2024 : Updated ~ DB_labels\\ret20\\2024\\ret20.20240820.feather Done! Cost 0.64 Secs\n",
      "Fri Sep 20 00:04:17 2024 : Updated ~ DB_labels\\ret10_lag\\2024\\ret10_lag.20240902.feather Done! Cost 0.64 Secs\n",
      "Fri Sep 20 00:04:18 2024 : Updated ~ DB_labels\\ret10\\2024\\ret10.20240903.feather Done! Cost 0.64 Secs\n",
      "Fri Sep 20 00:04:26 2024 : Updated ~ DB_labels\\ret5_lag\\2024\\ret5_lag.20240909.feather Done! Cost 0.53 Secs\n",
      "Fri Sep 20 00:04:28 2024 : Updated ~ DB_labels\\ret5\\2024\\ret5.20240910.feather Done! Cost 0.48 Secs\n",
      "Fri Sep 20 00:04:42 2024 : download since!\n",
      "Connection and Factor preparation finished!\n",
      "Fri Sep 20 00:04:42 2024 : sellside/dongfang.hfq_chars from 20240919 to 20240920, total 1 periods\n",
      "Start sellside/dongfang.hfq_chars:20240919-20240920 \n",
      "Done sellside/dongfang.hfq_chars:20240919-20240920, cost 2.3 Secs\n",
      "Fri Sep 20 00:04:44 2024 : sellside/dongfang.l2_chars from 20240919 to 20240920, total 1 periods\n",
      "Start sellside/dongfang.l2_chars:20240919-20240920 \n",
      "Done sellside/dongfang.l2_chars:20240919-20240920, cost 31.0 Secs\n",
      "Fri Sep 20 00:05:15 2024 : sellside/dongfang.ms_chars from 20240919 to 20240920, total 1 periods\n",
      "Start sellside/dongfang.ms_chars:20240919-20240920 \n",
      "Done sellside/dongfang.ms_chars:20240919-20240920, cost 49.9 Secs\n",
      "Fri Sep 20 00:06:05 2024 : sellside/dongfang.order_flow from 20240919 to 20240920, total 1 periods\n",
      "Start sellside/dongfang.order_flow:20240919-20240920 \n",
      "Done sellside/dongfang.order_flow:20240919-20240920, cost 1.1 Secs\n",
      "Fri Sep 20 00:06:06 2024 : sellside/dongfang.gp from 20240914 to 20240920, total 1 periods\n",
      "Start sellside/dongfang.gp:20240914-20240920 \n",
      "Done sellside/dongfang.gp:20240914-20240920, cost 1.9 Secs\n",
      "Fri Sep 20 00:06:08 2024 : sellside/dongfang.tra from 20240914 to 20240920, total 1 periods\n",
      "Start sellside/dongfang.tra:20240914-20240920 \n",
      "Done sellside/dongfang.tra:20240914-20240920, cost 1.5 Secs\n",
      "Fri Sep 20 00:06:10 2024 : sellside/dongfang.hist from 20240914 to 20240920, total 1 periods\n",
      "Start sellside/dongfang.hist:20240914-20240920 \n",
      "Done sellside/dongfang.hist:20240914-20240920, cost 1.3 Secs\n",
      "Fri Sep 20 00:06:11 2024 : sellside/dongfang.scores_v0 from 20240914 to 20240920, total 1 periods\n",
      "Start sellside/dongfang.scores_v0:20240914-20240920 \n",
      "Done sellside/dongfang.scores_v0:20240914-20240920, cost 1.8 Secs\n",
      "Fri Sep 20 00:06:13 2024 : sellside/dongfang.factorvae from 20240914 to 20240920, total 1 periods\n",
      "Start sellside/dongfang.factorvae:20240914-20240920 \n",
      "Done sellside/dongfang.factorvae:20240914-20240920, cost 1.3 Secs\n",
      "Fri Sep 20 00:06:14 2024 : sellside/huatai.dl_factors from 20240914 to 20240920, total 1 periods\n",
      "Start sellside/huatai.dl_factors:20240914-20240920 \n",
      "Done sellside/huatai.dl_factors:20240914-20240920, cost 1.4 Secs\n",
      "Fri Sep 20 00:06:16 2024 : All Updates Done! Cost 149.44 Secs\n",
      "--------------------------------------------------------------------------------\n",
      "Calendar Updating information_ts/calendar at 20240920\n",
      "Description Updating information_ts/description at 20240920\n",
      "SWIndustry Updating information_ts/industry at 20240920\n",
      "ChangeName Updating information_ts/change_name at 20240920\n",
      "THSConcept Already Updated at 20240831\n",
      "DailyValuation Updating trade_ts/day_val at 20240919\n",
      "DailyValuation Updating trade_ts/day_val at 20240920\n",
      "DailyQuote Updating trade_ts/day at 20240919\n",
      "DailyQuote Updating trade_ts/day at 20240920\n",
      "FinaIndicator Updating financial_ts/indicator at 20231231\n",
      "FinaIndicator Updating financial_ts/indicator at 20240331\n",
      "FinaIndicator Updating financial_ts/indicator at 20240630\n",
      "Finish exposure update at date 20240919\n",
      "Finish risk update at date 20240919\n",
      "--------------------------------------------------------------------------------\n",
      "predict is True , Data Processing start!\n",
      "6 datas :['y', 'day', '30m', 'style', 'indus', 'week']\n",
      "y blocks loading start!\n",
      " --> labels blocks reading [ret10_lag] DataBase...... finished! Cost 0.89 secs\n",
      " --> labels blocks reading [ret20_lag] DataBase...... finished! Cost 0.75 secs\n",
      " --> labels blocks merging (2)...... finished! Cost 0.15 secs\n",
      " --> models blocks reading [risk_exp] DataBase...... finished! Cost 3.13 secs\n",
      "y blocks loading finished! Cost 5.26 secs\n",
      "y blocks process...... finished! Cost 4.50 secs\n",
      "y blocks masking...... finished! Cost 0.10 secs\n",
      "y blocks saving ...... finished! Cost 0.12 secs\n",
      "y blocks norming...... finished! Cost 0.00 secs\n",
      "y finished! Cost 10.10 Seconds\n",
      "--------------------------------------------------------------------------------\n",
      "day blocks loading start!\n",
      " --> trade blocks reading [day] DataBase...... finished! Cost 1.20 secs\n",
      "day blocks loading finished! Cost 1.23 secs\n",
      "day blocks process...... finished! Cost 0.14 secs\n",
      "day blocks masking...... finished! Cost 0.09 secs\n",
      "day blocks saving ...... finished! Cost 0.13 secs\n",
      "day blocks norming...... finished! Cost 0.00 secs\n",
      "day finished! Cost 1.70 Seconds\n",
      "--------------------------------------------------------------------------------\n",
      "30m blocks loading start!\n",
      " --> trade blocks reading [30min] DataBase...... finished! Cost 5.44 secs\n",
      " --> trade blocks reading [day] DataBase...... finished! Cost 1.03 secs\n",
      "30m blocks loading finished! Cost 6.51 secs\n",
      "30m blocks process...... finished! Cost 1.69 secs\n",
      "30m blocks masking...... finished! Cost 0.16 secs\n",
      "30m blocks saving ...... finished! Cost 2.12 secs\n",
      "30m blocks norming...... finished! Cost 0.00 secs\n",
      "30m finished! Cost 10.61 Seconds\n",
      "--------------------------------------------------------------------------------\n",
      "style blocks loading start!\n",
      " --> models blocks reading [risk_exp] DataBase...... finished! Cost 1.64 secs\n",
      "style blocks loading finished! Cost 1.67 secs\n",
      "style blocks process...... finished! Cost 0.00 secs\n",
      "style blocks masking...... finished! Cost 0.08 secs\n",
      "style blocks saving ...... finished! Cost 0.20 secs\n",
      "style blocks norming...... finished! Cost 0.00 secs\n",
      "style finished! Cost 2.07 Seconds\n",
      "--------------------------------------------------------------------------------\n",
      "indus blocks loading start!\n",
      " --> models blocks reading [risk_exp] DataBase...... finished! Cost 2.79 secs\n",
      "indus blocks loading finished! Cost 2.80 secs\n",
      "indus blocks process...... finished! Cost 0.00 secs\n",
      "indus blocks masking...... finished! Cost 0.14 secs\n",
      "indus blocks saving ...... finished! Cost 1.27 secs\n",
      "indus blocks norming...... finished! Cost 0.00 secs\n",
      "indus finished! Cost 4.31 Seconds\n",
      "--------------------------------------------------------------------------------\n",
      "week blocks loading start!\n",
      " --> trade blocks reading [day] DataBase...... finished! Cost 2.47 secs\n",
      "week blocks loading finished! Cost 2.50 secs\n",
      "week blocks process...... finished! Cost 1.91 secs\n",
      "week blocks masking...... finished! Cost 0.25 secs\n",
      "week blocks saving ...... finished! Cost 2.69 secs\n",
      "week blocks norming...... finished! Cost 0.00 secs\n",
      "week finished! Cost 7.50 Seconds\n",
      "--------------------------------------------------------------------------------\n",
      "Data Processing Finished! Cost 36.29 Seconds\n",
      "--------------------------------------------------------------------------------\n",
      "Beware! Should be at server or short_test, but short_test is False now!\n",
      "try using d:\\Coding\\learndl\\learndl\\data\\DataSet/day.20240607.pt , success!\n",
      "Load  2 DataBlocks...... finished! Cost 0.11 secs\n",
      "Align 2 DataBlocks...... finished! Cost 0.16 secs\n",
      "Pre-Norming method of [day] : {'divlast': True, 'histnorm': True}\n"
     ]
    },
    {
     "name": "stderr",
     "output_type": "stream",
     "text": [
      "100%|██████████| 384/384 [00:00<00:00, 2650.43it/s]\n",
      "100%|██████████| 96/96 [00:00<00:00, 2919.00it/s]\n",
      "100%|██████████| 14/14 [00:00<?, ?it/s]\n",
      "100%|██████████| 384/384 [00:00<00:00, 3534.60it/s]\n",
      "100%|██████████| 96/96 [00:00<00:00, 2577.97it/s]\n",
      "100%|██████████| 14/14 [00:00<?, ?it/s]\n",
      " 99%|█████████▊| 73/74 [00:02<00:00, 34.19it/s] \n"
     ]
    },
    {
     "name": "stdout",
     "output_type": "stream",
     "text": [
      "Finish model [gru_day] predicting!\n"
     ]
    },
    {
     "name": "stderr",
     "output_type": "stream",
     "text": [
      " 99%|█████████▊| 73/74 [00:02<00:00, 24.63it/s] \n"
     ]
    },
    {
     "name": "stdout",
     "output_type": "stream",
     "text": [
      "Finish model [gruRTN_day] predicting!\n"
     ]
    },
    {
     "name": "stderr",
     "output_type": "stream",
     "text": [
      " 99%|█████████▊| 73/74 [00:01<00:00, 63.60it/s] \n",
      " 99%|█████████▊| 73/74 [00:01<00:00, 64.41it/s] \n",
      " 99%|█████████▊| 73/74 [00:01<00:00, 60.54it/s] \n",
      " 99%|█████████▊| 73/74 [00:01<00:00, 66.52it/s] \n",
      " 99%|█████████▊| 73/74 [00:01<00:00, 64.89it/s] \n"
     ]
    },
    {
     "name": "stdout",
     "output_type": "stream",
     "text": [
      "Finish model [gru_avg] predicting!\n",
      "--------------------------------------------------------------------------------\n"
     ]
    },
    {
     "data": {
      "text/plain": [
       "ModelPredictor(reg_model=RegisteredModel(name=gru_avg,type=swalast,num=all,alias=gru_day_V1))"
      ]
     },
     "execution_count": 1,
     "metadata": {},
     "output_type": "execute_result"
    }
   ],
   "source": [
    "from src2.api import DataAPI , ModelPredictor , ModelHiddenExtractor\n",
    "\n",
    "DataAPI.update()\n",
    "DataAPI.prepare_predict_data()\n",
    "\n",
    "ModelHiddenExtractor.update_hidden('gru_day' , model_submodels=['best'])\n",
    "ModelPredictor.update_factors()"
   ]
  },
  {
   "cell_type": "code",
   "execution_count": 1,
   "metadata": {},
   "outputs": [
    {
     "name": "stdout",
     "output_type": "stream",
     "text": [
      "Beware! Should be at server or short_test, but short_test is False now!\n",
      "try using d:\\Coding\\learndl\\learndl\\data\\DataSet/day.20240607.pt , success!\n",
      "Load  2 DataBlocks...... finished! Cost 0.16 secs\n",
      "Align 2 DataBlocks...... finished! Cost 0.28 secs\n",
      "Pre-Norming method of [day] : {'divlast': True, 'histnorm': True}\n"
     ]
    },
    {
     "name": "stderr",
     "output_type": "stream",
     "text": [
      "Extract gru_day/1/20210615/best/train/20140415: 100%|██████████| 384/384 [01:57<00:00,  3.26it/s]\n",
      "Extract gru_day/1/20210615/best/valid/20210514: 100%|██████████| 96/96 [00:40<00:00,  2.36it/s]\n",
      "Extract gru_day/1/20210615/best/test/20211209: 100%|██████████| 120/120 [01:02<00:00,  1.92it/s]\n",
      "Extract gru_day/1/20211209/best/train/20190104: 100%|██████████| 384/384 [01:54<00:00,  3.34it/s]\n",
      "Extract gru_day/1/20211209/best/valid/20211110: 100%|██████████| 96/96 [00:41<00:00,  2.32it/s]\n",
      "Extract gru_day/1/20211209/best/test/20220613: 100%|██████████| 120/120 [00:59<00:00,  2.03it/s]\n",
      "Extract gru_day/1/20220613/best/train/20130104: 100%|██████████| 384/384 [02:00<00:00,  3.17it/s]\n",
      "Extract gru_day/1/20220613/best/valid/20220512: 100%|██████████| 96/96 [00:48<00:00,  1.98it/s]\n",
      "Extract gru_day/1/20220613/best/test/20221206: 100%|██████████| 120/120 [01:02<00:00,  1.93it/s]\n",
      "Extract gru_day/1/20221206/best/train/20131011: 100%|██████████| 384/384 [01:58<00:00,  3.25it/s]\n",
      "Extract gru_day/1/20221206/best/valid/20221107: 100%|██████████| 96/96 [00:46<00:00,  2.05it/s]\n",
      "Extract gru_day/1/20221206/best/test/20230606: 100%|██████████| 120/120 [01:07<00:00,  1.78it/s]\n",
      "Extract gru_day/1/20230606/best/train/20170518: 100%|██████████| 384/384 [02:00<00:00,  3.19it/s]\n",
      "Extract gru_day/1/20230606/best/valid/20230508: 100%|██████████| 96/96 [00:43<00:00,  2.19it/s]\n",
      "Extract gru_day/1/20230606/best/test/20231201: 100%|██████████| 120/120 [01:01<00:00,  1.95it/s]\n",
      "Extract gru_day/1/20231201/best/train/20160204: 100%|██████████| 384/384 [02:02<00:00,  3.12it/s]\n",
      "Extract gru_day/1/20231201/best/valid/20231102: 100%|██████████| 96/96 [00:46<00:00,  2.06it/s]\n",
      "Extract gru_day/1/20231201/best/test/20240604: 100%|██████████| 120/120 [01:01<00:00,  1.96it/s]\n",
      "100%|██████████| 384/384 [00:00<00:00, 2635.45it/s]\n",
      "100%|██████████| 96/96 [00:00<00:00, 2798.65it/s]\n",
      "100%|██████████| 14/14 [00:00<00:00, 1391.18it/s]\n",
      "Extract gru_day/1/20240604/best/train/20220127: 100%|██████████| 384/384 [01:56<00:00,  3.30it/s]\n",
      "Extract gru_day/1/20240604/best/valid/20240506: 100%|██████████| 96/96 [00:43<00:00,  2.20it/s]\n",
      "Extract gru_day/1/20240604/best/test/20240625: 100%|██████████| 14/14 [00:07<00:00,  1.99it/s]\n"
     ]
    },
    {
     "data": {
      "text/plain": [
       "<src2.model.model_module.api.extractor.ModelHiddenExtractor at 0x28cf9533710>"
      ]
     },
     "execution_count": 1,
     "metadata": {},
     "output_type": "execute_result"
    }
   ],
   "source": [
    "from src2.api import DataAPI , ModelPredictor , ModelHiddenExtractor\n",
    "ModelHiddenExtractor.update_hidden('gru_day' , model_submodels=['best'])"
   ]
  },
  {
   "cell_type": "code",
   "execution_count": 1,
   "metadata": {},
   "outputs": [
    {
     "name": "stdout",
     "output_type": "stream",
     "text": [
      "Update Files\n",
      "Thu Sep 19 00:49:45 2024 : Updated ~ DB_information\\calendar.feather Done! Cost 0.02 Secs\n",
      "Thu Sep 19 00:49:45 2024 : Updated ~ DB_information\\description.feather Done! Cost 0.03 Secs\n",
      "Thu Sep 19 00:49:45 2024 : Updated ~ DB_information\\st.feather Done! Cost 0.02 Secs\n",
      "Thu Sep 19 00:49:48 2024 : Updated ~ DB_information\\industry.feather Done! Cost 2.55 Secs\n",
      "Thu Sep 19 00:49:53 2024 : Updated ~ DB_information\\concepts.feather Done! Cost 5.54 Secs\n",
      "Thu Sep 19 00:49:55 2024 : Updated ~ DB_models\\longcl_exp\\2024\\longcl_exp.20240913.feather Done! Cost 0.10 Secs\n",
      "Thu Sep 19 00:49:55 2024 : Updated ~ DB_models\\risk_exp\\2024\\risk_exp.20240918.feather Done! Cost 0.05 Secs\n",
      "Thu Sep 19 00:49:55 2024 : Updated ~ DB_models\\risk_cov\\2024\\risk_cov.20240918.feather Done! Cost 0.02 Secs\n",
      "Thu Sep 19 00:49:55 2024 : Updated ~ DB_models\\risk_spec\\2024\\risk_spec.20240918.feather Done! Cost 0.01 Secs\n",
      "Thu Sep 19 00:49:57 2024 : Updated ~ DB_trade\\day\\2024\\day.20240918.feather Done! Cost 0.05 Secs\n",
      "Thu Sep 19 00:49:57 2024 : Updated ~ DB_trade\\5day\\2024\\5day.20240918.feather Done! Cost 0.25 Secs\n",
      "Thu Sep 19 00:49:58 2024 : Updated ~ DB_trade\\10day\\2024\\10day.20240918.feather Done! Cost 0.48 Secs\n",
      "Thu Sep 19 00:49:58 2024 : Updated ~ DB_trade\\20day\\2024\\20day.20240918.feather Done! Cost 0.92 Secs\n",
      "Thu Sep 19 00:50:02 2024 : Updated ~ DB_trade\\min\\2024\\min.20240918.feather Done! Cost 3.12 Secs\n",
      "Thu Sep 19 00:50:02 2024 : Updated ~ DB_trade\\5min\\2024\\5min.20240918.feather Done! Cost 0.33 Secs\n",
      "Thu Sep 19 00:50:02 2024 : Updated ~ DB_trade\\10min\\2024\\10min.20240918.feather Done! Cost 0.27 Secs\n",
      "Thu Sep 19 00:50:02 2024 : Updated ~ DB_trade\\15min\\2024\\15min.20240918.feather Done! Cost 0.26 Secs\n",
      "Thu Sep 19 00:50:03 2024 : Updated ~ DB_trade\\30min\\2024\\30min.20240918.feather Done! Cost 0.29 Secs\n",
      "Thu Sep 19 00:50:03 2024 : Updated ~ DB_trade\\60min\\2024\\60min.20240918.feather Done! Cost 0.28 Secs\n",
      "Thu Sep 19 00:50:06 2024 : Updated ~ DB_labels\\ret20_lag\\2024\\ret20_lag.20240816.feather Done! Cost 0.78 Secs\n",
      "Thu Sep 19 00:50:06 2024 : Updated ~ DB_labels\\ret20\\2024\\ret20.20240819.feather Done! Cost 0.67 Secs\n",
      "Thu Sep 19 00:50:15 2024 : Updated ~ DB_labels\\ret10_lag\\2024\\ret10_lag.20240830.feather Done! Cost 0.52 Secs\n",
      "Thu Sep 19 00:50:16 2024 : Updated ~ DB_labels\\ret10\\2024\\ret10.20240902.feather Done! Cost 0.53 Secs\n",
      "Thu Sep 19 00:50:24 2024 : Updated ~ DB_labels\\ret5_lag\\2024\\ret5_lag.20240906.feather Done! Cost 0.55 Secs\n",
      "Thu Sep 19 00:50:26 2024 : Updated ~ DB_labels\\ret5\\2024\\ret5.20240909.feather Done! Cost 0.50 Secs\n",
      "Thu Sep 19 00:50:41 2024 : download since!\n",
      "Connection and Factor preparation finished!\n",
      "Thu Sep 19 00:50:41 2024 : sellside/dongfang.hfq_chars from 20240914 to 20240919, total 1 periods\n",
      "Start sellside/dongfang.hfq_chars:20240914-20240919 \n",
      "Done sellside/dongfang.hfq_chars:20240914-20240919, cost 2.8 Secs\n",
      "Thu Sep 19 00:50:44 2024 : sellside/dongfang.l2_chars from 20240914 to 20240919, total 1 periods\n",
      "Start sellside/dongfang.l2_chars:20240914-20240919 \n",
      "Done sellside/dongfang.l2_chars:20240914-20240919, cost 29.2 Secs\n",
      "Thu Sep 19 00:51:13 2024 : sellside/dongfang.ms_chars from 20240914 to 20240919, total 1 periods\n",
      "Start sellside/dongfang.ms_chars:20240914-20240919 \n",
      "Done sellside/dongfang.ms_chars:20240914-20240919, cost 46.2 Secs\n",
      "Thu Sep 19 00:52:00 2024 : sellside/dongfang.order_flow from 20240914 to 20240919, total 1 periods\n",
      "Start sellside/dongfang.order_flow:20240914-20240919 \n",
      "Done sellside/dongfang.order_flow:20240914-20240919, cost 0.9 Secs\n",
      "Thu Sep 19 00:52:01 2024 : sellside/dongfang.gp from 20240914 to 20240919, total 1 periods\n",
      "Start sellside/dongfang.gp:20240914-20240919 \n",
      "Done sellside/dongfang.gp:20240914-20240919, cost 1.8 Secs\n",
      "Thu Sep 19 00:52:02 2024 : sellside/dongfang.tra from 20240914 to 20240919, total 1 periods\n",
      "Start sellside/dongfang.tra:20240914-20240919 \n",
      "Done sellside/dongfang.tra:20240914-20240919, cost 1.3 Secs\n",
      "Thu Sep 19 00:52:04 2024 : sellside/dongfang.hist from 20240914 to 20240919, total 1 periods\n",
      "Start sellside/dongfang.hist:20240914-20240919 \n",
      "Done sellside/dongfang.hist:20240914-20240919, cost 1.1 Secs\n",
      "Thu Sep 19 00:52:05 2024 : sellside/dongfang.scores_v0 from 20240914 to 20240919, total 1 periods\n",
      "Start sellside/dongfang.scores_v0:20240914-20240919 \n",
      "Done sellside/dongfang.scores_v0:20240914-20240919, cost 1.5 Secs\n",
      "Thu Sep 19 00:52:06 2024 : sellside/dongfang.factorvae from 20240914 to 20240919, total 1 periods\n",
      "Start sellside/dongfang.factorvae:20240914-20240919 \n",
      "Done sellside/dongfang.factorvae:20240914-20240919, cost 1.1 Secs\n",
      "Thu Sep 19 00:52:08 2024 : sellside/huatai.dl_factors from 20240914 to 20240919, total 1 periods\n",
      "Start sellside/huatai.dl_factors:20240914-20240919 \n",
      "Done sellside/huatai.dl_factors:20240914-20240919, cost 0.8 Secs\n",
      "Thu Sep 19 00:52:08 2024 : All Updates Done! Cost 143.04 Secs\n",
      "--------------------------------------------------------------------------------\n",
      "Calendar Updating information_ts/calendar at 20240919\n",
      "Description Updating information_ts/description at 20240919\n",
      "SWIndustry Updating information_ts/industry at 20240919\n",
      "ChangeName Updating information_ts/change_name at 20240919\n",
      "THSConcept Already Updated at 20240831\n",
      "DailyValuation Updating trade_ts/day_val at 20240914\n",
      "DailyValuation Updating trade_ts/day_val at 20240915\n",
      "DailyValuation Updating trade_ts/day_val at 20240916\n",
      "DailyValuation Updating trade_ts/day_val at 20240917\n",
      "DailyValuation Updating trade_ts/day_val at 20240918\n",
      "DailyValuation Updating trade_ts/day_val at 20240919\n",
      "DailyQuote Updating trade_ts/day at 20240914\n",
      "DailyQuote Updating trade_ts/day at 20240915\n",
      "DailyQuote Updating trade_ts/day at 20240916\n",
      "DailyQuote Updating trade_ts/day at 20240917\n",
      "DailyQuote Updating trade_ts/day at 20240918\n",
      "DailyQuote Updating trade_ts/day at 20240919\n",
      "FinaIndicator Already Updated at 20240630\n",
      "Finish exposure update at date 20240918\n",
      "Finish risk update at date 20240918\n",
      "--------------------------------------------------------------------------------\n",
      "predict is True , Data Processing start!\n",
      "6 datas :['y', 'day', '30m', 'style', 'indus', 'week']\n",
      "y blocks loading start!\n",
      " --> labels blocks reading [ret10_lag] DataBase...... finished! Cost 0.83 secs\n",
      " --> labels blocks reading [ret20_lag] DataBase...... finished! Cost 0.90 secs\n",
      " --> labels blocks merging (2)...... finished! Cost 0.17 secs\n",
      " --> models blocks reading [risk_exp] DataBase...... finished! Cost 3.16 secs\n",
      "y blocks loading finished! Cost 5.46 secs\n",
      "y blocks process...... finished! Cost 5.66 secs\n",
      "y blocks masking...... finished! Cost 0.10 secs\n",
      "y blocks saving ...... finished! Cost 0.17 secs\n",
      "y blocks norming...... finished! Cost 0.00 secs\n",
      "y finished! Cost 11.53 Seconds\n",
      "--------------------------------------------------------------------------------\n",
      "day blocks loading start!\n",
      " --> trade blocks reading [day] DataBase...... finished! Cost 1.33 secs\n",
      "day blocks loading finished! Cost 1.37 secs\n",
      "day blocks process...... finished! Cost 0.15 secs\n",
      "day blocks masking...... finished! Cost 0.10 secs\n",
      "day blocks saving ...... finished! Cost 0.13 secs\n",
      "day blocks norming...... finished! Cost 0.00 secs\n",
      "day finished! Cost 1.85 Seconds\n",
      "--------------------------------------------------------------------------------\n",
      "30m blocks loading start!\n",
      " --> trade blocks reading [30min] DataBase...... finished! Cost 5.68 secs\n",
      " --> trade blocks reading [day] DataBase...... finished! Cost 1.30 secs\n",
      "30m blocks loading finished! Cost 7.05 secs\n",
      "30m blocks process...... finished! Cost 1.77 secs\n",
      "30m blocks masking...... finished! Cost 0.18 secs\n",
      "30m blocks saving ...... finished! Cost 2.40 secs\n",
      "30m blocks norming...... finished! Cost 0.00 secs\n",
      "30m finished! Cost 11.53 Seconds\n",
      "--------------------------------------------------------------------------------\n",
      "style blocks loading start!\n",
      " --> models blocks reading [risk_exp] DataBase...... finished! Cost 1.78 secs\n",
      "style blocks loading finished! Cost 1.82 secs\n",
      "style blocks process...... finished! Cost 0.00 secs\n",
      "style blocks masking...... finished! Cost 0.08 secs\n",
      "style blocks saving ...... finished! Cost 0.30 secs\n",
      "style blocks norming...... finished! Cost 0.00 secs\n",
      "style finished! Cost 2.30 Seconds\n",
      "--------------------------------------------------------------------------------\n",
      "indus blocks loading start!\n",
      " --> models blocks reading [risk_exp] DataBase...... finished! Cost 2.72 secs\n",
      "indus blocks loading finished! Cost 2.73 secs\n",
      "indus blocks process...... finished! Cost 0.00 secs\n",
      "indus blocks masking...... finished! Cost 0.13 secs\n",
      "indus blocks saving ...... finished! Cost 1.25 secs\n",
      "indus blocks norming...... finished! Cost 0.00 secs\n",
      "indus finished! Cost 4.25 Seconds\n",
      "--------------------------------------------------------------------------------\n",
      "week blocks loading start!\n",
      " --> trade blocks reading [day] DataBase...... finished! Cost 2.40 secs\n",
      "week blocks loading finished! Cost 2.44 secs\n",
      "week blocks process...... finished! Cost 1.85 secs\n",
      "week blocks masking...... finished! Cost 0.22 secs\n",
      "week blocks saving ...... finished! Cost 3.12 secs\n",
      "week blocks norming...... finished! Cost 0.00 secs\n",
      "week finished! Cost 7.80 Seconds\n",
      "--------------------------------------------------------------------------------\n",
      "Data Processing Finished! Cost 39.25 Seconds\n",
      "--------------------------------------------------------------------------------\n",
      "Finish model [gru_day] predicting!\n",
      "Finish model [gruRTN_day] predicting!\n",
      "Finish model [gru_avg] predicting!\n",
      "--------------------------------------------------------------------------------\n"
     ]
    },
    {
     "data": {
      "text/plain": [
       "Predictor(reg_model=RegModel(name=gru_avg,type=swabest,num=all,alias=gru_day_V1))"
      ]
     },
     "execution_count": 1,
     "metadata": {},
     "output_type": "execute_result"
    }
   ],
   "source": [
    "from src.api import DataAPI , Predictor\n",
    "\n",
    "DataAPI.update()\n",
    "DataAPI.prepare_predict_data()\n",
    "Predictor.update_factors()"
   ]
  },
  {
   "cell_type": "code",
   "execution_count": 8,
   "metadata": {},
   "outputs": [
    {
     "data": {
      "text/html": [
       "<div>\n",
       "<style scoped>\n",
       "    .dataframe tbody tr th:only-of-type {\n",
       "        vertical-align: middle;\n",
       "    }\n",
       "\n",
       "    .dataframe tbody tr th {\n",
       "        vertical-align: top;\n",
       "    }\n",
       "\n",
       "    .dataframe thead th {\n",
       "        text-align: right;\n",
       "    }\n",
       "</style>\n",
       "<table border=\"1\" class=\"dataframe\">\n",
       "  <thead>\n",
       "    <tr style=\"text-align: right;\">\n",
       "      <th></th>\n",
       "    </tr>\n",
       "  </thead>\n",
       "  <tbody>\n",
       "  </tbody>\n",
       "</table>\n",
       "</div>"
      ],
      "text/plain": [
       "Empty DataFrame\n",
       "Columns: []\n",
       "Index: []"
      ]
     },
     "execution_count": 8,
     "metadata": {},
     "output_type": "execute_result"
    }
   ],
   "source": [
    "from src.data.tushare.download.info import Calendar , pro\n",
    "renamer = {'cal_date' : 'calendar' ,'is_open'  : 'trade'}\n",
    "fields = None\n",
    "df = pro.trade_cal(exchange='SSE').rename(columns=renamer)\n",
    "#df = df.sort_values('calendar').reset_index(drop = True)\n",
    "df"
   ]
  },
  {
   "cell_type": "code",
   "execution_count": 10,
   "metadata": {},
   "outputs": [
    {
     "name": "stdout",
     "output_type": "stream",
     "text": [
      "Finish model [gru_day] predicting!\n",
      "Finish model [gruRTN_day] predicting!\n",
      "Finish model [gru_avg] predicting!\n",
      "--------------------------------------------------------------------------------\n"
     ]
    }
   ],
   "source": [
    "# DataAPI.prepare_predict_data()\n",
    "Predictor.update_factors()"
   ]
  },
  {
   "cell_type": "code",
   "execution_count": 1,
   "metadata": {},
   "outputs": [
    {
     "ename": "KeyboardInterrupt",
     "evalue": "",
     "output_type": "error",
     "traceback": [
      "\u001b[1;31m---------------------------------------------------------------------------\u001b[0m",
      "\u001b[1;31mKeyboardInterrupt\u001b[0m                         Traceback (most recent call last)",
      "Cell \u001b[1;32mIn[1], line 1\u001b[0m\n\u001b[1;32m----> 1\u001b[0m \u001b[38;5;28;01mfrom\u001b[39;00m \u001b[38;5;21;01msrc\u001b[39;00m\u001b[38;5;21;01m.\u001b[39;00m\u001b[38;5;21;01mapi\u001b[39;00m \u001b[38;5;28;01mimport\u001b[39;00m DataAPI , Predictor\n\u001b[0;32m      2\u001b[0m \u001b[38;5;66;03m# DataAPI.prepare_predict_data()\u001b[39;00m\n\u001b[0;32m      3\u001b[0m md \u001b[38;5;241m=\u001b[39m Predictor\u001b[38;5;241m.\u001b[39mupdate_factors()\n",
      "File \u001b[1;32md:\\Coding\\learndl\\learndl\\src\\__init__.py:1\u001b[0m\n\u001b[1;32m----> 1\u001b[0m \u001b[38;5;28;01mfrom\u001b[39;00m \u001b[38;5;21;01m.\u001b[39;00m \u001b[38;5;28;01mimport\u001b[39;00m api , basic , data , deap , factor , func , model \n",
      "File \u001b[1;32md:\\Coding\\learndl\\learndl\\src\\api\\__init__.py:1\u001b[0m\n\u001b[1;32m----> 1\u001b[0m \u001b[38;5;28;01mfrom\u001b[39;00m \u001b[38;5;21;01m.\u001b[39;00m\u001b[38;5;21;01mnn\u001b[39;00m \u001b[38;5;28;01mimport\u001b[39;00m DataAPI , Predictor , ModelTestor , Trainer , HiddenExtractor\n\u001b[0;32m      2\u001b[0m \u001b[38;5;28;01mfrom\u001b[39;00m \u001b[38;5;21;01m.\u001b[39;00m\u001b[38;5;21;01mfactor\u001b[39;00m \u001b[38;5;28;01mimport\u001b[39;00m FmpManager , PerfManager , fmp_test , perf_test\n",
      "File \u001b[1;32md:\\Coding\\learndl\\learndl\\src\\api\\nn.py:1\u001b[0m\n\u001b[1;32m----> 1\u001b[0m \u001b[38;5;28;01mfrom\u001b[39;00m \u001b[38;5;21;01m.\u001b[39;00m\u001b[38;5;21;01m.\u001b[39;00m\u001b[38;5;21;01mmodel\u001b[39;00m\u001b[38;5;21;01m.\u001b[39;00m\u001b[38;5;21;01mapi\u001b[39;00m \u001b[38;5;28;01mimport\u001b[39;00m DataAPI , ModelTestor , Predictor , Trainer , HiddenExtractor\n",
      "File \u001b[1;32md:\\Coding\\learndl\\learndl\\src\\model\\__init__.py:1\u001b[0m\n\u001b[1;32m----> 1\u001b[0m \u001b[38;5;28;01mfrom\u001b[39;00m \u001b[38;5;21;01m.\u001b[39;00m \u001b[38;5;28;01mimport\u001b[39;00m api\n",
      "File \u001b[1;32md:\\Coding\\learndl\\learndl\\src\\model\\api\\__init__.py:1\u001b[0m\n\u001b[1;32m----> 1\u001b[0m \u001b[38;5;28;01mfrom\u001b[39;00m \u001b[38;5;21;01m.\u001b[39;00m\u001b[38;5;21;01mdata\u001b[39;00m \u001b[38;5;28;01mimport\u001b[39;00m DataAPI\n\u001b[0;32m      2\u001b[0m \u001b[38;5;28;01mfrom\u001b[39;00m \u001b[38;5;21;01m.\u001b[39;00m\u001b[38;5;21;01mpredictor\u001b[39;00m \u001b[38;5;28;01mimport\u001b[39;00m Predictor\n\u001b[0;32m      3\u001b[0m \u001b[38;5;28;01mfrom\u001b[39;00m \u001b[38;5;21;01m.\u001b[39;00m\u001b[38;5;21;01mtestor\u001b[39;00m \u001b[38;5;28;01mimport\u001b[39;00m ModelTestor\n",
      "File \u001b[1;32md:\\Coding\\learndl\\learndl\\src\\model\\api\\data.py:2\u001b[0m\n\u001b[0;32m      1\u001b[0m \u001b[38;5;28;01mfrom\u001b[39;00m \u001b[38;5;21;01mtyping\u001b[39;00m \u001b[38;5;28;01mimport\u001b[39;00m Optional\n\u001b[1;32m----> 2\u001b[0m \u001b[38;5;28;01mfrom\u001b[39;00m \u001b[38;5;21;01m.\u001b[39;00m\u001b[38;5;21;01m.\u001b[39;00m\u001b[38;5;21;01mclasses\u001b[39;00m \u001b[38;5;28;01mimport\u001b[39;00m TrainConfig\n\u001b[0;32m      3\u001b[0m \u001b[38;5;28;01mfrom\u001b[39;00m \u001b[38;5;21;01m.\u001b[39;00m\u001b[38;5;21;01m.\u001b[39;00m\u001b[38;5;21;01mtrainer\u001b[39;00m \u001b[38;5;28;01mimport\u001b[39;00m NetDataModule\n\u001b[0;32m      4\u001b[0m \u001b[38;5;28;01mfrom\u001b[39;00m \u001b[38;5;21;01m.\u001b[39;00m\u001b[38;5;21;01m.\u001b[39;00m\u001b[38;5;21;01m.\u001b[39;00m\u001b[38;5;21;01mdata\u001b[39;00m \u001b[38;5;28;01mimport\u001b[39;00m DataProcessor , DataUpdater\n",
      "File \u001b[1;32md:\\Coding\\learndl\\learndl\\src\\model\\classes\\__init__.py:1\u001b[0m\n\u001b[1;32m----> 1\u001b[0m \u001b[38;5;28;01mfrom\u001b[39;00m \u001b[38;5;21;01m.\u001b[39;00m\u001b[38;5;21;01mconfig\u001b[39;00m \u001b[38;5;28;01mimport\u001b[39;00m \u001b[38;5;241m*\u001b[39m\n\u001b[0;32m      2\u001b[0m \u001b[38;5;28;01mfrom\u001b[39;00m \u001b[38;5;21;01m.\u001b[39;00m\u001b[38;5;21;01mdevice\u001b[39;00m \u001b[38;5;28;01mimport\u001b[39;00m \u001b[38;5;241m*\u001b[39m\n\u001b[0;32m      3\u001b[0m \u001b[38;5;28;01mfrom\u001b[39;00m \u001b[38;5;21;01m.\u001b[39;00m\u001b[38;5;21;01mio\u001b[39;00m \u001b[38;5;28;01mimport\u001b[39;00m \u001b[38;5;241m*\u001b[39m\n",
      "File \u001b[1;32md:\\Coding\\learndl\\learndl\\src\\model\\classes\\config.py:1\u001b[0m\n\u001b[1;32m----> 1\u001b[0m \u001b[38;5;28;01mimport\u001b[39;00m \u001b[38;5;21;01margparse\u001b[39;00m \u001b[38;5;241m,\u001b[39m \u001b[38;5;21;01mos\u001b[39;00m \u001b[38;5;241m,\u001b[39m \u001b[38;5;21;01mrandom\u001b[39;00m \u001b[38;5;241m,\u001b[39m \u001b[38;5;21;01mshutil\u001b[39;00m \u001b[38;5;241m,\u001b[39m \u001b[38;5;21;01mtorch\u001b[39;00m\n\u001b[0;32m      2\u001b[0m \u001b[38;5;28;01mimport\u001b[39;00m \u001b[38;5;21;01mnumpy\u001b[39;00m \u001b[38;5;28;01mas\u001b[39;00m \u001b[38;5;21;01mnp\u001b[39;00m\n\u001b[0;32m      4\u001b[0m \u001b[38;5;28;01mfrom\u001b[39;00m \u001b[38;5;21;01mpathlib\u001b[39;00m \u001b[38;5;28;01mimport\u001b[39;00m Path\n",
      "File \u001b[1;32mc:\\Users\\jinmeng\\AppData\\Local\\Programs\\Python\\Python311\\Lib\\site-packages\\torch\\__init__.py:1845\u001b[0m\n\u001b[0;32m   1842\u001b[0m     sys\u001b[38;5;241m.\u001b[39mmodules[torch_module_name] \u001b[38;5;241m=\u001b[39m module\n\u001b[0;32m   1844\u001b[0m \u001b[38;5;66;03m# expose return_types\u001b[39;00m\n\u001b[1;32m-> 1845\u001b[0m \u001b[38;5;28;01mfrom\u001b[39;00m \u001b[38;5;21;01m.\u001b[39;00m \u001b[38;5;28;01mimport\u001b[39;00m return_types\n\u001b[0;32m   1846\u001b[0m \u001b[38;5;28;01mfrom\u001b[39;00m \u001b[38;5;21;01m.\u001b[39;00m \u001b[38;5;28;01mimport\u001b[39;00m library\n\u001b[0;32m   1847\u001b[0m \u001b[38;5;28;01mif\u001b[39;00m \u001b[38;5;129;01mnot\u001b[39;00m TYPE_CHECKING:\n",
      "File \u001b[1;32mc:\\Users\\jinmeng\\AppData\\Local\\Programs\\Python\\Python311\\Lib\\site-packages\\torch\\return_types.py:34\u001b[0m\n\u001b[0;32m     28\u001b[0m \u001b[38;5;66;03m# Today everything in torch.return_types is a structseq, aka a \"namedtuple\"-like\u001b[39;00m\n\u001b[0;32m     29\u001b[0m \u001b[38;5;66;03m# thing defined by the Python C-API. We're going to need to modify this when that\u001b[39;00m\n\u001b[0;32m     30\u001b[0m \u001b[38;5;66;03m# is no longer the case.\u001b[39;00m\n\u001b[0;32m     31\u001b[0m \u001b[38;5;66;03m# NB: I don't know how to check that something is a \"structseq\" so we do a fuzzy\u001b[39;00m\n\u001b[0;32m     32\u001b[0m \u001b[38;5;66;03m# check for tuple\u001b[39;00m\n\u001b[0;32m     33\u001b[0m \u001b[38;5;28;01mif\u001b[39;00m inspect\u001b[38;5;241m.\u001b[39misclass(_attr) \u001b[38;5;129;01mand\u001b[39;00m \u001b[38;5;28missubclass\u001b[39m(_attr, \u001b[38;5;28mtuple\u001b[39m):\n\u001b[1;32m---> 34\u001b[0m     \u001b[43mpytree_register_structseq\u001b[49m\u001b[43m(\u001b[49m\u001b[43m_attr\u001b[49m\u001b[43m)\u001b[49m\n",
      "File \u001b[1;32mc:\\Users\\jinmeng\\AppData\\Local\\Programs\\Python\\Python311\\Lib\\site-packages\\torch\\return_types.py:16\u001b[0m, in \u001b[0;36mpytree_register_structseq\u001b[1;34m(cls)\u001b[0m\n\u001b[0;32m     13\u001b[0m \u001b[38;5;28;01mdef\u001b[39;00m \u001b[38;5;21mstructseq_unflatten\u001b[39m(values, context):\n\u001b[0;32m     14\u001b[0m     \u001b[38;5;28;01mreturn\u001b[39;00m \u001b[38;5;28mcls\u001b[39m(values)\n\u001b[1;32m---> 16\u001b[0m \u001b[43mtorch\u001b[49m\u001b[38;5;241;43m.\u001b[39;49m\u001b[43mutils\u001b[49m\u001b[38;5;241;43m.\u001b[39;49m\u001b[43m_pytree\u001b[49m\u001b[38;5;241;43m.\u001b[39;49m\u001b[43mregister_pytree_node\u001b[49m\u001b[43m(\u001b[49m\u001b[38;5;28;43mcls\u001b[39;49m\u001b[43m,\u001b[49m\u001b[43m \u001b[49m\u001b[43mstructseq_flatten\u001b[49m\u001b[43m,\u001b[49m\u001b[43m \u001b[49m\u001b[43mstructseq_unflatten\u001b[49m\u001b[43m)\u001b[49m\n",
      "File \u001b[1;32mc:\\Users\\jinmeng\\AppData\\Local\\Programs\\Python\\Python311\\Lib\\site-packages\\torch\\utils\\_pytree.py:171\u001b[0m, in \u001b[0;36mregister_pytree_node\u001b[1;34m(cls, flatten_fn, unflatten_fn, serialized_type_name, to_dumpable_context, from_dumpable_context)\u001b[0m\n\u001b[0;32m    161\u001b[0m _private_register_pytree_node(\n\u001b[0;32m    162\u001b[0m     \u001b[38;5;28mcls\u001b[39m,\n\u001b[0;32m    163\u001b[0m     flatten_fn,\n\u001b[1;32m   (...)\u001b[0m\n\u001b[0;32m    167\u001b[0m     from_dumpable_context\u001b[38;5;241m=\u001b[39mfrom_dumpable_context,\n\u001b[0;32m    168\u001b[0m )\n\u001b[0;32m    170\u001b[0m \u001b[38;5;28;01mtry\u001b[39;00m:\n\u001b[1;32m--> 171\u001b[0m     \u001b[38;5;28;01mfrom\u001b[39;00m \u001b[38;5;21;01m.\u001b[39;00m \u001b[38;5;28;01mimport\u001b[39;00m _cxx_pytree \u001b[38;5;28;01mas\u001b[39;00m cxx\n\u001b[0;32m    172\u001b[0m \u001b[38;5;28;01mexcept\u001b[39;00m \u001b[38;5;167;01mImportError\u001b[39;00m:\n\u001b[0;32m    173\u001b[0m     \u001b[38;5;28;01mpass\u001b[39;00m\n",
      "File \u001b[1;32mc:\\Users\\jinmeng\\AppData\\Local\\Programs\\Python\\Python311\\Lib\\site-packages\\torch\\utils\\_cxx_pytree.py:35\u001b[0m\n\u001b[0;32m     32\u001b[0m \u001b[38;5;28;01mif\u001b[39;00m torch\u001b[38;5;241m.\u001b[39m_running_with_deploy():\n\u001b[0;32m     33\u001b[0m     \u001b[38;5;28;01mraise\u001b[39;00m \u001b[38;5;167;01mImportError\u001b[39;00m(\u001b[38;5;124m\"\u001b[39m\u001b[38;5;124mC++ pytree utilities do not work with torch::deploy.\u001b[39m\u001b[38;5;124m\"\u001b[39m)\n\u001b[1;32m---> 35\u001b[0m \u001b[38;5;28;01mimport\u001b[39;00m \u001b[38;5;21;01moptree\u001b[39;00m\n\u001b[0;32m     36\u001b[0m \u001b[38;5;28;01mfrom\u001b[39;00m \u001b[38;5;21;01moptree\u001b[39;00m \u001b[38;5;28;01mimport\u001b[39;00m PyTreeSpec  \u001b[38;5;66;03m# direct import for type annotations\u001b[39;00m\n\u001b[0;32m     39\u001b[0m __all__ \u001b[38;5;241m=\u001b[39m [\n\u001b[0;32m     40\u001b[0m     \u001b[38;5;124m\"\u001b[39m\u001b[38;5;124mPyTree\u001b[39m\u001b[38;5;124m\"\u001b[39m,\n\u001b[0;32m     41\u001b[0m     \u001b[38;5;124m\"\u001b[39m\u001b[38;5;124mContext\u001b[39m\u001b[38;5;124m\"\u001b[39m,\n\u001b[1;32m   (...)\u001b[0m\n\u001b[0;32m     64\u001b[0m     \u001b[38;5;124m\"\u001b[39m\u001b[38;5;124mtreespec_pprint\u001b[39m\u001b[38;5;124m\"\u001b[39m,\n\u001b[0;32m     65\u001b[0m ]\n",
      "File \u001b[1;32m<frozen importlib._bootstrap>:1176\u001b[0m, in \u001b[0;36m_find_and_load\u001b[1;34m(name, import_)\u001b[0m\n",
      "File \u001b[1;32m<frozen importlib._bootstrap>:1138\u001b[0m, in \u001b[0;36m_find_and_load_unlocked\u001b[1;34m(name, import_)\u001b[0m\n",
      "File \u001b[1;32m<frozen importlib._bootstrap>:1078\u001b[0m, in \u001b[0;36m_find_spec\u001b[1;34m(name, path, target)\u001b[0m\n",
      "File \u001b[1;32m<frozen importlib._bootstrap_external>:1504\u001b[0m, in \u001b[0;36mfind_spec\u001b[1;34m(cls, fullname, path, target)\u001b[0m\n",
      "File \u001b[1;32m<frozen importlib._bootstrap_external>:1476\u001b[0m, in \u001b[0;36m_get_spec\u001b[1;34m(cls, fullname, path, target)\u001b[0m\n",
      "File \u001b[1;32m<frozen importlib._bootstrap_external>:1612\u001b[0m, in \u001b[0;36mfind_spec\u001b[1;34m(self, fullname, target)\u001b[0m\n",
      "File \u001b[1;32m<frozen importlib._bootstrap_external>:147\u001b[0m, in \u001b[0;36m_path_stat\u001b[1;34m(path)\u001b[0m\n",
      "\u001b[1;31mKeyboardInterrupt\u001b[0m: "
     ]
    }
   ],
   "source": [
    "from src.api import DataAPI , Predictor\n",
    "# DataAPI.prepare_predict_data()\n",
    "md = Predictor.update_factors()"
   ]
  },
  {
   "cell_type": "code",
   "execution_count": null,
   "metadata": {},
   "outputs": [
    {
     "name": "stdout",
     "output_type": "stream",
     "text": [
      "Load  2 DataBlocks ..."
     ]
    },
    {
     "name": "stdout",
     "output_type": "stream",
     "text": [
      "... cost 0.22 secs\n",
      "Align 2 DataBlocks ...... cost 0.21 secs\n",
      "Pre-Norming method of [day] : {'divlast': True, 'histnorm': True}\n",
      "x shape is torch.Size([5064, 30, 6])\n",
      "y shape is torch.Size([5064, 1])\n",
      "Test Forward Success\n",
      "metrics :  Metrics.MetricOutput(loss=tensor(1.0688, grad_fn=<AddBackward0>), score=-0.015420470386743546, loss_item=1.068833589553833, penalty=0.0, losses=tensor(1.0688, grad_fn=<ExpBackward0>))\n",
      "Test Metrics Success\n"
     ]
    }
   ],
   "source": [
    "from src.api import ModelTestor\n",
    "ModelTestor.new('ts_mixer').try_metrics()"
   ]
  }
 ],
 "metadata": {
  "kernelspec": {
   "display_name": "Python 3",
   "language": "python",
   "name": "python3"
  },
  "language_info": {
   "codemirror_mode": {
    "name": "ipython",
    "version": 3
   },
   "file_extension": ".py",
   "mimetype": "text/x-python",
   "name": "python",
   "nbconvert_exporter": "python",
   "pygments_lexer": "ipython3",
   "version": "3.11.8"
  }
 },
 "nbformat": 4,
 "nbformat_minor": 2
}
