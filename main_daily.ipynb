{
 "cells": [
  {
   "cell_type": "code",
   "execution_count": 1,
   "metadata": {},
   "outputs": [
    {
     "name": "stdout",
     "output_type": "stream",
     "text": [
      "Update Files\n",
      "Mon Aug  5 16:52:40 2024 : Updated ~ data\\DataBase\\DB_information\\calendar.feather Done! Cost 0.02 Secs\n",
      "Mon Aug  5 16:52:40 2024 : Updated ~ data\\DataBase\\DB_information\\description.feather Done! Cost 0.04 Secs\n",
      "Mon Aug  5 16:52:40 2024 : Updated ~ data\\DataBase\\DB_information\\st.feather Done! Cost 0.03 Secs\n",
      "Mon Aug  5 16:52:44 2024 : Updated ~ data\\DataBase\\DB_information\\industry.feather Done! Cost 3.17 Secs\n",
      "Mon Aug  5 16:52:50 2024 : Updated ~ data\\DataBase\\DB_information\\concepts.feather Done! Cost 5.85 Secs\n",
      "Mon Aug  5 16:52:51 2024 : Updated ~ data\\DataBase\\DB_models\\longcl_exp\\2024\\longcl_exp.20240731.feather Done! Cost 0.12 Secs\n",
      "Mon Aug  5 16:52:52 2024 : Updated ~ data\\DataBase\\DB_models\\longcl_exp\\2024\\longcl_exp.20240801.feather Done! Cost 0.11 Secs\n",
      "Mon Aug  5 16:53:06 2024 : Updated ~ data\\DataBase\\DB_benchmark\\csi300\\2024\\csi300.20240729.feather Done! Cost 0.01 Secs\n",
      "Mon Aug  5 16:53:06 2024 : Updated ~ data\\DataBase\\DB_benchmark\\csi500\\2024\\csi500.20240729.feather Done! Cost 0.01 Secs\n",
      "Mon Aug  5 16:53:06 2024 : Updated ~ data\\DataBase\\DB_benchmark\\csi1000\\2024\\csi1000.20240729.feather Done! Cost 0.01 Secs\n",
      "Mon Aug  5 16:53:06 2024 : Updated ~ data\\DataBase\\DB_benchmark\\csi300\\2024\\csi300.20240730.feather Done! Cost 0.01 Secs\n",
      "Mon Aug  5 16:53:06 2024 : Updated ~ data\\DataBase\\DB_benchmark\\csi500\\2024\\csi500.20240730.feather Done! Cost 0.01 Secs\n",
      "Mon Aug  5 16:53:06 2024 : Updated ~ data\\DataBase\\DB_benchmark\\csi1000\\2024\\csi1000.20240730.feather Done! Cost 0.01 Secs\n",
      "Mon Aug  5 16:53:06 2024 : Updated ~ data\\DataBase\\DB_benchmark\\csi300\\2024\\csi300.20240731.feather Done! Cost 0.01 Secs\n",
      "Mon Aug  5 16:53:06 2024 : Updated ~ data\\DataBase\\DB_benchmark\\csi500\\2024\\csi500.20240731.feather Done! Cost 0.01 Secs\n",
      "Mon Aug  5 16:53:06 2024 : Updated ~ data\\DataBase\\DB_benchmark\\csi1000\\2024\\csi1000.20240731.feather Done! Cost 0.01 Secs\n",
      "Mon Aug  5 16:53:06 2024 : Updated ~ data\\DataBase\\DB_benchmark\\csi300\\2024\\csi300.20240801.feather Done! Cost 0.01 Secs\n",
      "Mon Aug  5 16:53:06 2024 : Updated ~ data\\DataBase\\DB_benchmark\\csi500\\2024\\csi500.20240801.feather Done! Cost 0.01 Secs\n",
      "Mon Aug  5 16:53:06 2024 : Updated ~ data\\DataBase\\DB_benchmark\\csi1000\\2024\\csi1000.20240801.feather Done! Cost 0.01 Secs\n",
      "Mon Aug  5 16:53:06 2024 : Updated ~ data\\DataBase\\DB_benchmark\\csi300\\2024\\csi300.20240802.feather Done! Cost 0.01 Secs\n",
      "Mon Aug  5 16:53:06 2024 : Updated ~ data\\DataBase\\DB_benchmark\\csi500\\2024\\csi500.20240802.feather Done! Cost 0.01 Secs\n",
      "Mon Aug  5 16:53:06 2024 : Updated ~ data\\DataBase\\DB_benchmark\\csi1000\\2024\\csi1000.20240802.feather Done! Cost 0.01 Secs\n",
      "Mon Aug  5 16:53:06 2024 : download since!\n",
      "Connection and Factor preparation finished!\n",
      "Mon Aug  5 16:53:06 2024 : sellside/dongfang.hfq_chars from 20240730 to 20240805, total 1 periods\n",
      "Start sellside/dongfang.hfq_chars:20240730-20240805 \n",
      "Done sellside/dongfang.hfq_chars:20240730-20240805, cost 11.5 Secs\n",
      "Mon Aug  5 16:53:18 2024 : sellside/dongfang.l2_chars from 20240730 to 20240805, total 1 periods\n",
      "Start sellside/dongfang.l2_chars:20240730-20240805 \n",
      "Done sellside/dongfang.l2_chars:20240730-20240805, cost 51.4 Secs\n",
      "Mon Aug  5 16:54:09 2024 : sellside/dongfang.ms_chars from 20240730 to 20240805, total 1 periods\n",
      "Start sellside/dongfang.ms_chars:20240730-20240805 \n",
      "Done sellside/dongfang.ms_chars:20240730-20240805, cost 73.3 Secs\n",
      "Mon Aug  5 16:55:23 2024 : sellside/dongfang.order_flow from 20240730 to 20240805, total 1 periods\n",
      "Start sellside/dongfang.order_flow:20240730-20240805 \n",
      "Done sellside/dongfang.order_flow:20240730-20240805, cost 4.8 Secs\n",
      "Mon Aug  5 16:55:27 2024 : sellside/dongfang.gp from 20240730 to 20240805, total 1 periods\n",
      "Start sellside/dongfang.gp:20240730-20240805 \n",
      "Done sellside/dongfang.gp:20240730-20240805, cost 2.5 Secs\n",
      "Mon Aug  5 16:55:30 2024 : sellside/dongfang.tra from 20240727 to 20240805, total 1 periods\n",
      "Start sellside/dongfang.tra:20240727-20240805 \n",
      "Done sellside/dongfang.tra:20240727-20240805, cost 5.1 Secs\n",
      "Mon Aug  5 16:55:35 2024 : sellside/dongfang.hist from 20240727 to 20240805, total 1 periods\n",
      "Start sellside/dongfang.hist:20240727-20240805 \n",
      "Done sellside/dongfang.hist:20240727-20240805, cost 2.7 Secs\n",
      "Mon Aug  5 16:55:38 2024 : sellside/dongfang.scores_v0 from 20240730 to 20240805, total 1 periods\n",
      "Start sellside/dongfang.scores_v0:20240730-20240805 \n",
      "Done sellside/dongfang.scores_v0:20240730-20240805, cost 2.3 Secs\n",
      "Mon Aug  5 16:55:40 2024 : sellside/dongfang.factorvae from 20240727 to 20240805, total 1 periods\n",
      "Start sellside/dongfang.factorvae:20240727-20240805 \n",
      "Done sellside/dongfang.factorvae:20240727-20240805, cost 2.8 Secs\n",
      "Mon Aug  5 16:55:43 2024 : sellside/huatai.dl_factors from 20240730 to 20240805, total 1 periods\n",
      "Start sellside/huatai.dl_factors:20240730-20240805 \n",
      "Done sellside/huatai.dl_factors:20240730-20240805, cost 2.2 Secs\n",
      "Mon Aug  5 16:55:45 2024 : All Updates Done! Cost 184.86 Secs\n",
      "--------------------------------------------------------------------------------\n",
      "--------------------------------------------------------------------------------\n",
      "predict is True , Data Processing start!\n",
      "6 datas :['y', 'day', '30m', 'style', 'indus', 'week']\n",
      "y blocks loading start!\n",
      " --> labels blocks reading [ret10_lag] DataBase...... finished! Cost 0.98 secs\n",
      " --> labels blocks reading [ret20_lag] DataBase...... finished! Cost 0.91 secs\n",
      " --> labels blocks merging (2)...... finished! Cost 0.18 secs\n",
      " --> models blocks reading [risk_exp] DataBase...... finished! Cost 3.72 secs\n",
      "y blocks loading finished! Cost 6.16 secs\n",
      "y blocks process...... finished! Cost 5.53 secs\n",
      "y blocks masking...... finished! Cost 0.12 secs\n",
      "y blocks saving ...... finished! Cost 0.16 secs\n",
      "y blocks norming...... finished! Cost 0.00 secs\n",
      "y finished! Cost 12.06 Seconds\n",
      "--------------------------------------------------------------------------------\n",
      "day blocks loading start!\n",
      " --> trade blocks reading [day] DataBase...... finished! Cost 1.73 secs\n",
      "day blocks loading finished! Cost 1.75 secs\n",
      "day blocks process...... finished! Cost 0.14 secs\n",
      "day blocks masking...... finished! Cost 0.08 secs\n",
      "day blocks saving ...... finished! Cost 0.13 secs\n",
      "day blocks norming...... finished! Cost 0.00 secs\n",
      "day finished! Cost 2.21 Seconds\n",
      "--------------------------------------------------------------------------------\n",
      "30m blocks loading start!\n",
      " --> trade blocks reading [30min] DataBase...... finished! Cost 6.78 secs\n",
      " --> trade blocks reading [day] DataBase...... finished! Cost 1.16 secs\n",
      "30m blocks loading finished! Cost 8.01 secs\n",
      "30m blocks process...... finished! Cost 1.89 secs\n",
      "30m blocks masking...... finished! Cost 0.17 secs\n",
      "30m blocks saving ...... finished! Cost 2.06 secs\n",
      "30m blocks norming...... finished! Cost 0.00 secs\n",
      "30m finished! Cost 12.27 Seconds\n",
      "--------------------------------------------------------------------------------\n",
      "style blocks loading start!\n",
      " --> models blocks reading [risk_exp] DataBase...... finished! Cost 1.62 secs\n",
      "style blocks loading finished! Cost 1.66 secs\n",
      "style blocks process...... finished! Cost 0.00 secs\n",
      "style blocks masking...... finished! Cost 0.11 secs\n",
      "style blocks saving ...... finished! Cost 0.39 secs\n",
      "style blocks norming...... finished! Cost 0.00 secs\n",
      "style finished! Cost 2.25 Seconds\n",
      "--------------------------------------------------------------------------------\n",
      "indus blocks loading start!\n",
      " --> models blocks reading [risk_exp] DataBase...... finished! Cost 3.13 secs\n",
      "indus blocks loading finished! Cost 3.13 secs\n",
      "indus blocks process...... finished! Cost 0.00 secs\n",
      "indus blocks masking...... finished! Cost 0.14 secs\n",
      "indus blocks saving ...... finished! Cost 1.40 secs\n",
      "indus blocks norming...... finished! Cost 0.00 secs\n",
      "indus finished! Cost 4.77 Seconds\n",
      "--------------------------------------------------------------------------------\n",
      "week blocks loading start!\n",
      " --> trade blocks reading [day] DataBase...... finished! Cost 2.82 secs\n",
      "week blocks loading finished! Cost 2.84 secs\n",
      "week blocks process...... finished! Cost 1.72 secs\n",
      "week blocks masking...... finished! Cost 0.23 secs\n",
      "week blocks saving ...... finished! Cost 2.59 secs\n",
      "week blocks norming...... finished! Cost 0.00 secs\n",
      "week finished! Cost 7.48 Seconds\n",
      "--------------------------------------------------------------------------------\n",
      "Data Processing Finished! Cost 41.05 Seconds\n",
      "--------------------------------------------------------------------------------\n",
      "Finish model [gru_day] predicting!\n",
      "Finish model [gruRTN_day] predicting!\n",
      "Finish model [gru_avg] predicting!\n",
      "--------------------------------------------------------------------------------\n"
     ]
    }
   ],
   "source": [
    "from src.api import DataAPI , Predictor\n",
    "\n",
    "DataAPI.update()\n",
    "DataAPI.prepare_train_data()\n",
    "Predictor.update_factors()"
   ]
  },
  {
   "cell_type": "code",
   "execution_count": 1,
   "metadata": {},
   "outputs": [
    {
     "name": "stdout",
     "output_type": "stream",
     "text": [
      "Finish model [gru_day] predicting!\n",
      "Finish model [gruRTN_day] predicting!\n",
      "Finish model [gru_avg] predicting!\n",
      "--------------------------------------------------------------------------------\n"
     ]
    }
   ],
   "source": [
    "from src.api import Predictor\n",
    "DataAPI.prepare_train_data()\n",
    "Predictor.update_factors()"
   ]
  },
  {
   "cell_type": "code",
   "execution_count": 2,
   "metadata": {},
   "outputs": [
    {
     "name": "stdout",
     "output_type": "stream",
     "text": [
      "Load  2 DataBlocks ..."
     ]
    },
    {
     "name": "stdout",
     "output_type": "stream",
     "text": [
      "... cost 0.22 secs\n",
      "Align 2 DataBlocks ...... cost 0.21 secs\n",
      "Pre-Norming method of [day] : {'divlast': True, 'histnorm': True}\n",
      "x shape is torch.Size([5064, 30, 6])\n",
      "y shape is torch.Size([5064, 1])\n",
      "Test Forward Success\n",
      "metrics :  Metrics.MetricOutput(loss=tensor(1.0688, grad_fn=<AddBackward0>), score=-0.015420470386743546, loss_item=1.068833589553833, penalty=0.0, losses=tensor(1.0688, grad_fn=<ExpBackward0>))\n",
      "Test Metrics Success\n"
     ]
    }
   ],
   "source": [
    "from src.api import ModelTestor\n",
    "ModelTestor.new('ts_mixer').try_metrics()"
   ]
  }
 ],
 "metadata": {
  "kernelspec": {
   "display_name": "Python 3",
   "language": "python",
   "name": "python3"
  },
  "language_info": {
   "codemirror_mode": {
    "name": "ipython",
    "version": 3
   },
   "file_extension": ".py",
   "mimetype": "text/x-python",
   "name": "python",
   "nbconvert_exporter": "python",
   "pygments_lexer": "ipython3",
   "version": "3.11.8"
  }
 },
 "nbformat": 4,
 "nbformat_minor": 2
}
