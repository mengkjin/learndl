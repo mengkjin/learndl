{
 "cells": [
  {
   "cell_type": "code",
   "execution_count": 1,
   "metadata": {},
   "outputs": [],
   "source": [
    "import json , tempfile , torch\n",
    "import numpy as np\n",
    "import catboost\n",
    "\n",
    "from copy import deepcopy\n",
    "from pathlib import Path\n",
    "from typing import Any\n",
    "\n",
    "from pathlib import Path\n",
    "\n",
    "from src.model.boost.algo.basic import BasicBoosterModel\n",
    "from src.model.boost.io import BoosterInput\n",
    "\n",
    "PLOT_PATH : Path | None = None\n"
   ]
  },
  {
   "cell_type": "code",
   "execution_count": 2,
   "metadata": {},
   "outputs": [],
   "source": [
    "input_data = BasicBoosterModel.df_input()"
   ]
  },
  {
   "cell_type": "code",
   "execution_count": 7,
   "metadata": {},
   "outputs": [],
   "source": [
    "class CatBoost(BasicBoosterModel):\n",
    "    DEFAULT_TRAIN_PARAM = {\n",
    "        'objective': 'RMSE', # NDCG , RMSE\n",
    "        'num_boost_round' : 200 , \n",
    "        'early_stopping' : 50 , \n",
    "        'verbosity': 1 , \n",
    "        'learning_rate': 0.3, \n",
    "        'l2_leaf_reg': 1e-05, \n",
    "        'max_depth': 6, \n",
    "        'monotone_constraints': 0 , \n",
    "        'random_strength' : 1.,\n",
    "        'task_type': 'CPU',\n",
    "        'random_seed': 42,\n",
    "        'allow_writing_files' : False ,\n",
    "    }\n",
    "\n",
    "    def fit(self , train : BoosterInput | Any = None , valid : BoosterInput | Any = None , silence = False):\n",
    "        train_set = self.to_pool(self.data['train'] if train is None else train)\n",
    "        valid_set = self.to_pool(self.data['valid'] if valid is None else valid)\n",
    "\n",
    "        train_param = deepcopy(self.train_param)\n",
    "        train_param = {k:v for k,v in train_param.items() if k in self.DEFAULT_TRAIN_PARAM}\n",
    "        train_param.update({'random_seed':self.seed , \n",
    "                            'task_type': 'GPU' if self.cuda and torch.cuda.is_available() else 'CPU' ,\n",
    "                            'monotone_constraints' : self.mono_constr(train_param['monotone_constraints'] , train_set.num_col()) ,\n",
    "                            'verbosity': 0 if silence else 1}) \n",
    "        if 'eval_metric' in train_param and train_param['eval_metric'] is None: del train_param['eval_metric']\n",
    "        num_boost_round = train_param.pop('num_boost_round')\n",
    "        early_stopping  = train_param.pop('early_stopping')\n",
    "        verbose_eval    = train_param.pop('verbosity') > 0\n",
    "        self.cur_train_param = train_param\n",
    "        \n",
    "        self.evals_result = dict()\n",
    "        self.model : catboost.CatBoost = catboost.train(\n",
    "            train_set, train_param,\n",
    "            num_boost_round=num_boost_round, \n",
    "            early_stopping_rounds = early_stopping,\n",
    "            evals=[valid_set] , \n",
    "            verbose_eval = verbose_eval)\n",
    "\n",
    "        return self\n",
    "        \n",
    "    def predict(self , test : BoosterInput | Any = None):\n",
    "        test = self.data['test'] if test is None else test\n",
    "        return test.output(self.model.predict(test.X().cpu().numpy()))\n",
    "    \n",
    "    def to_pool(self , input : BoosterInput):\n",
    "        dset = input.XYW().as_numpy()\n",
    "        return catboost.Pool(dset.x , dset.y , weight = dset.w)\n",
    "    \n",
    "    def to_dict(self):\n",
    "        model_dict = super().to_dict()\n",
    "        model_dict['model'] = self.booster_to_dict(self.model)\n",
    "        return model_dict\n",
    "    \n",
    "    def load_dict(self , model_dict : dict , cuda = False , seed = None):\n",
    "        super().load_dict(model_dict , cuda , seed)\n",
    "        self.model = self.booster_from_dict(model_dict['model'])\n",
    "        return self\n",
    "\n",
    "    @staticmethod\n",
    "    def booster_to_dict(model : catboost.CatBoost):\n",
    "        with tempfile.TemporaryDirectory() as tempdir:\n",
    "            model_path = Path(tempdir).joinpath('model.json') \n",
    "            model.save_model(model_path , format='json')\n",
    "            with open(model_path, 'r') as file: model_dict = json.load(file)  \n",
    "        return model_dict\n",
    "    \n",
    "    @staticmethod\n",
    "    def booster_from_dict(model_dict : dict):\n",
    "        with tempfile.TemporaryDirectory() as tempdir:\n",
    "            model_path = Path(tempdir).joinpath('model.json')\n",
    "            with open(model_path, 'w') as file: json.dump(model_dict , file, indent=4)\n",
    "            model = catboost.CatBoost()\n",
    "            model.load_model(model_path , format= 'json')\n",
    "        return model\n",
    "\n",
    "    @staticmethod\n",
    "    def mono_constr(raw_mono_constr , nfeat : int):\n",
    "        if isinstance(raw_mono_constr , list):\n",
    "            if len(raw_mono_constr) == 0: \n",
    "                mono_constr = None\n",
    "            elif len(raw_mono_constr) == 1: \n",
    "                mono_constr = raw_mono_constr * nfeat\n",
    "            else: \n",
    "                assert len(raw_mono_constr) == nfeat , (len(raw_mono_constr) , nfeat)\n",
    "                mono_constr = raw_mono_constr\n",
    "        else:\n",
    "            mono_constr = [raw_mono_constr] * nfeat\n",
    "        return mono_constr"
   ]
  },
  {
   "cell_type": "code",
   "execution_count": 9,
   "metadata": {},
   "outputs": [
    {
     "name": "stdout",
     "output_type": "stream",
     "text": [
      "0:\tlearn: 0.1346895\ttest: 0.1033934\tbest: 0.1033934 (0)\ttotal: 39.5ms\tremaining: 7.85s\n",
      "1:\tlearn: 0.1341141\ttest: 0.1029576\tbest: 0.1029576 (1)\ttotal: 77.1ms\tremaining: 7.63s\n",
      "2:\tlearn: 0.1336977\ttest: 0.1032155\tbest: 0.1029576 (1)\ttotal: 116ms\tremaining: 7.6s\n",
      "3:\tlearn: 0.1332793\ttest: 0.1033407\tbest: 0.1029576 (1)\ttotal: 159ms\tremaining: 7.79s\n",
      "4:\tlearn: 0.1329278\ttest: 0.1031366\tbest: 0.1029576 (1)\ttotal: 198ms\tremaining: 7.72s\n",
      "5:\tlearn: 0.1324859\ttest: 0.1033512\tbest: 0.1029576 (1)\ttotal: 233ms\tremaining: 7.54s\n",
      "6:\tlearn: 0.1322413\ttest: 0.1032103\tbest: 0.1029576 (1)\ttotal: 277ms\tremaining: 7.64s\n",
      "7:\tlearn: 0.1320848\ttest: 0.1032540\tbest: 0.1029576 (1)\ttotal: 320ms\tremaining: 7.68s\n",
      "8:\tlearn: 0.1317653\ttest: 0.1031909\tbest: 0.1029576 (1)\ttotal: 376ms\tremaining: 7.97s\n",
      "9:\tlearn: 0.1316364\ttest: 0.1032093\tbest: 0.1029576 (1)\ttotal: 414ms\tremaining: 7.87s\n",
      "10:\tlearn: 0.1314802\ttest: 0.1032534\tbest: 0.1029576 (1)\ttotal: 454ms\tremaining: 7.81s\n",
      "11:\tlearn: 0.1313143\ttest: 0.1033836\tbest: 0.1029576 (1)\ttotal: 499ms\tremaining: 7.81s\n",
      "12:\tlearn: 0.1311908\ttest: 0.1034790\tbest: 0.1029576 (1)\ttotal: 548ms\tremaining: 7.88s\n",
      "13:\tlearn: 0.1309732\ttest: 0.1035553\tbest: 0.1029576 (1)\ttotal: 595ms\tremaining: 7.91s\n",
      "14:\tlearn: 0.1308304\ttest: 0.1035618\tbest: 0.1029576 (1)\ttotal: 642ms\tremaining: 7.91s\n",
      "15:\tlearn: 0.1307649\ttest: 0.1035666\tbest: 0.1029576 (1)\ttotal: 679ms\tremaining: 7.8s\n",
      "16:\tlearn: 0.1306601\ttest: 0.1034141\tbest: 0.1029576 (1)\ttotal: 715ms\tremaining: 7.69s\n",
      "17:\tlearn: 0.1305151\ttest: 0.1034531\tbest: 0.1029576 (1)\ttotal: 753ms\tremaining: 7.62s\n",
      "18:\tlearn: 0.1303102\ttest: 0.1034446\tbest: 0.1029576 (1)\ttotal: 799ms\tremaining: 7.61s\n",
      "19:\tlearn: 0.1301789\ttest: 0.1035705\tbest: 0.1029576 (1)\ttotal: 839ms\tremaining: 7.55s\n",
      "20:\tlearn: 0.1300496\ttest: 0.1035852\tbest: 0.1029576 (1)\ttotal: 872ms\tremaining: 7.43s\n",
      "21:\tlearn: 0.1299528\ttest: 0.1034988\tbest: 0.1029576 (1)\ttotal: 907ms\tremaining: 7.34s\n",
      "22:\tlearn: 0.1298661\ttest: 0.1034970\tbest: 0.1029576 (1)\ttotal: 951ms\tremaining: 7.32s\n",
      "23:\tlearn: 0.1297823\ttest: 0.1035326\tbest: 0.1029576 (1)\ttotal: 995ms\tremaining: 7.3s\n",
      "24:\tlearn: 0.1296434\ttest: 0.1040416\tbest: 0.1029576 (1)\ttotal: 1.03s\tremaining: 7.24s\n",
      "25:\tlearn: 0.1295437\ttest: 0.1040298\tbest: 0.1029576 (1)\ttotal: 1.07s\tremaining: 7.17s\n",
      "26:\tlearn: 0.1294479\ttest: 0.1040293\tbest: 0.1029576 (1)\ttotal: 1.11s\tremaining: 7.13s\n",
      "27:\tlearn: 0.1293514\ttest: 0.1039649\tbest: 0.1029576 (1)\ttotal: 1.16s\tremaining: 7.12s\n",
      "28:\tlearn: 0.1292732\ttest: 0.1039744\tbest: 0.1029576 (1)\ttotal: 1.2s\tremaining: 7.08s\n",
      "29:\tlearn: 0.1291904\ttest: 0.1039352\tbest: 0.1029576 (1)\ttotal: 1.25s\tremaining: 7.06s\n",
      "30:\tlearn: 0.1291089\ttest: 0.1040295\tbest: 0.1029576 (1)\ttotal: 1.29s\tremaining: 7.05s\n",
      "31:\tlearn: 0.1289883\ttest: 0.1039556\tbest: 0.1029576 (1)\ttotal: 1.34s\tremaining: 7.02s\n",
      "32:\tlearn: 0.1288884\ttest: 0.1039842\tbest: 0.1029576 (1)\ttotal: 1.38s\tremaining: 6.99s\n",
      "33:\tlearn: 0.1287382\ttest: 0.1040741\tbest: 0.1029576 (1)\ttotal: 1.43s\tremaining: 6.99s\n",
      "34:\tlearn: 0.1286568\ttest: 0.1040786\tbest: 0.1029576 (1)\ttotal: 1.49s\tremaining: 7.02s\n",
      "35:\tlearn: 0.1285702\ttest: 0.1040901\tbest: 0.1029576 (1)\ttotal: 1.53s\tremaining: 6.97s\n",
      "36:\tlearn: 0.1284361\ttest: 0.1040833\tbest: 0.1029576 (1)\ttotal: 1.57s\tremaining: 6.92s\n",
      "37:\tlearn: 0.1283311\ttest: 0.1040408\tbest: 0.1029576 (1)\ttotal: 1.61s\tremaining: 6.85s\n",
      "38:\tlearn: 0.1282343\ttest: 0.1040223\tbest: 0.1029576 (1)\ttotal: 1.64s\tremaining: 6.78s\n",
      "39:\tlearn: 0.1280880\ttest: 0.1040384\tbest: 0.1029576 (1)\ttotal: 1.69s\tremaining: 6.76s\n",
      "40:\tlearn: 0.1280029\ttest: 0.1040464\tbest: 0.1029576 (1)\ttotal: 1.72s\tremaining: 6.68s\n",
      "41:\tlearn: 0.1278754\ttest: 0.1041327\tbest: 0.1029576 (1)\ttotal: 1.77s\tremaining: 6.66s\n",
      "42:\tlearn: 0.1277718\ttest: 0.1041083\tbest: 0.1029576 (1)\ttotal: 1.81s\tremaining: 6.62s\n",
      "43:\tlearn: 0.1277127\ttest: 0.1040757\tbest: 0.1029576 (1)\ttotal: 1.85s\tremaining: 6.55s\n",
      "44:\tlearn: 0.1275956\ttest: 0.1040413\tbest: 0.1029576 (1)\ttotal: 1.88s\tremaining: 6.47s\n",
      "45:\tlearn: 0.1275061\ttest: 0.1040071\tbest: 0.1029576 (1)\ttotal: 1.92s\tremaining: 6.43s\n",
      "46:\tlearn: 0.1273297\ttest: 0.1039080\tbest: 0.1029576 (1)\ttotal: 1.97s\tremaining: 6.41s\n",
      "47:\tlearn: 0.1272322\ttest: 0.1039599\tbest: 0.1029576 (1)\ttotal: 2.01s\tremaining: 6.37s\n",
      "48:\tlearn: 0.1270930\ttest: 0.1041112\tbest: 0.1029576 (1)\ttotal: 2.05s\tremaining: 6.31s\n",
      "49:\tlearn: 0.1270007\ttest: 0.1040894\tbest: 0.1029576 (1)\ttotal: 2.09s\tremaining: 6.28s\n",
      "50:\tlearn: 0.1269255\ttest: 0.1043173\tbest: 0.1029576 (1)\ttotal: 2.13s\tremaining: 6.22s\n",
      "51:\tlearn: 0.1267943\ttest: 0.1045138\tbest: 0.1029576 (1)\ttotal: 2.17s\tremaining: 6.18s\n",
      "Stopped by overfitting detector  (50 iterations wait)\n",
      "\n",
      "bestTest = 0.1029576135\n",
      "bestIteration = 1\n",
      "\n",
      "Shrink model to first 2 iterations.\n"
     ]
    },
    {
     "data": {
      "text/plain": [
       "CatBoost,\n",
       ",train_param={'objective': 'RMSE', 'num_boost_round': 200, 'early_stopping': 50, 'verbosity': 1, 'learning_rate': 0.3, 'l2_leaf_reg': 1e-05, 'max_depth': 6, 'monotone_constraints': 0, 'random_strength': 1.0, 'task_type': 'CPU', 'random_seed': 42, 'allow_writing_files': False}"
      ]
     },
     "execution_count": 9,
     "metadata": {},
     "output_type": "execute_result"
    }
   ],
   "source": [
    "self = CatBoost()\n",
    "self.import_data(**input_data)\n",
    "self.fit(silence=False)"
   ]
  },
  {
   "cell_type": "code",
   "execution_count": 62,
   "metadata": {},
   "outputs": [
    {
     "data": {
      "text/plain": [
       "BoosterOutput(pred=tensor([-0.0034, -0.0074,  0.0023,  ..., -0.0149, -0.0149,  0.0158],\n",
       "       dtype=torch.float64), secid=array([     1,      2,      4, ..., 873576, 873593, 873665]), date=array([20231031]), finite=tensor([[True],\n",
       "        [True],\n",
       "        [True],\n",
       "        ...,\n",
       "        [True],\n",
       "        [True],\n",
       "        [True]]), label=tensor([[-0.0746],\n",
       "        [ 0.0097],\n",
       "        [ 0.0000],\n",
       "        ...,\n",
       "        [ 0.4355],\n",
       "        [ 0.8805],\n",
       "        [ 0.5677]], dtype=torch.float64))"
      ]
     },
     "execution_count": 62,
     "metadata": {},
     "output_type": "execute_result"
    }
   ],
   "source": [
    "self.predict()"
   ]
  },
  {
   "cell_type": "code",
   "execution_count": 21,
   "metadata": {},
   "outputs": [
    {
     "data": {
      "text/plain": [
       "dict_keys(['class_name', 'train_param', 'weight_param', 'model'])"
      ]
     },
     "execution_count": 21,
     "metadata": {},
     "output_type": "execute_result"
    }
   ],
   "source": [
    "model_dict = self.to_dict()\n",
    "model_dict.keys()"
   ]
  },
  {
   "cell_type": "code",
   "execution_count": 23,
   "metadata": {},
   "outputs": [],
   "source": [
    "model = CatBoost.from_dict(model_dict)"
   ]
  }
 ],
 "metadata": {
  "kernelspec": {
   "display_name": "Python 3",
   "language": "python",
   "name": "python3"
  },
  "language_info": {
   "codemirror_mode": {
    "name": "ipython",
    "version": 3
   },
   "file_extension": ".py",
   "mimetype": "text/x-python",
   "name": "python",
   "nbconvert_exporter": "python",
   "pygments_lexer": "ipython3",
   "version": "3.11.8"
  }
 },
 "nbformat": 4,
 "nbformat_minor": 2
}
