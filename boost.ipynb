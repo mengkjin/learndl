{
 "cells": [
  {
   "cell_type": "code",
   "execution_count": 2,
   "metadata": {},
   "outputs": [],
   "source": [
    "from src.model.boost.algo import Lgbm\n",
    "input_data = Lgbm.df_input()"
   ]
  },
  {
   "cell_type": "code",
   "execution_count": 10,
   "metadata": {},
   "outputs": [
    {
     "name": "stderr",
     "output_type": "stream",
     "text": [
      "[I 2024-08-30 14:42:32,877] A new study created in RDB with name: no-name-914bd3ea-a268-48b5-9c92-05f4db0ef9fd\n",
      "[I 2024-08-30 14:42:52,470] Trial 0 finished with value: 0.151337668299675 and parameters: {'metric': 'rmse', 'learning_rate': 0.00031837529395438565, 'max_depth': 4, 'linear_tree': False, 'lambda_l2': 1.0179933591421158e-06, 'alpha': 0.009673046188434384}. Best is trial 0 with value: 0.151337668299675.\n",
      "[I 2024-08-30 14:43:27,251] Trial 1 finished with value: 0.16787059605121613 and parameters: {'metric': None, 'learning_rate': 0.00011333949272537665, 'max_depth': 7, 'linear_tree': False, 'lambda_l2': 0.017456843726619483, 'alpha': 4.546637576134971e-05}. Best is trial 1 with value: 0.16787059605121613.\n",
      "[I 2024-08-30 14:43:42,888] Trial 2 finished with value: 0.0786234587430954 and parameters: {'metric': 'rmse', 'learning_rate': 0.0003831127692671432, 'max_depth': 3, 'linear_tree': True, 'lambda_l2': 0.0010205913746380764, 'alpha': 0.0014691819601486266}. Best is trial 1 with value: 0.16787059605121613.\n",
      "[I 2024-08-30 14:43:46,623] Trial 3 finished with value: 0.12497514486312866 and parameters: {'metric': 'rmse', 'learning_rate': 0.010231791920432873, 'max_depth': 5, 'linear_tree': True, 'lambda_l2': 0.010688692606034424, 'alpha': 4.0633524766570626e-07}. Best is trial 1 with value: 0.16787059605121613.\n",
      "[I 2024-08-30 14:44:22,870] Trial 4 finished with value: 0.16551421582698822 and parameters: {'metric': None, 'learning_rate': 0.00021975240522044954, 'max_depth': 10, 'linear_tree': False, 'lambda_l2': 5.278121476781057e-05, 'alpha': 0.0006336536758743532}. Best is trial 1 with value: 0.16787059605121613.\n",
      "[I 2024-08-30 14:45:05,000] Trial 5 finished with value: 0.16801860928535461 and parameters: {'metric': 'rmse', 'learning_rate': 0.00015730705586057832, 'max_depth': 10, 'linear_tree': False, 'lambda_l2': 2.7592667501022596e-06, 'alpha': 0.009765892479356657}. Best is trial 5 with value: 0.16801860928535461.\n",
      "[I 2024-08-30 14:45:19,011] Trial 6 finished with value: 0.13548006117343903 and parameters: {'metric': None, 'learning_rate': 0.00018248260276174048, 'max_depth': 3, 'linear_tree': False, 'lambda_l2': 3.445525084041913e-05, 'alpha': 4.944926871856005e-07}. Best is trial 5 with value: 0.16801860928535461.\n",
      "[I 2024-08-30 14:45:25,232] Trial 7 finished with value: 0.05222340673208237 and parameters: {'metric': 'rmse', 'learning_rate': 0.0012715588727753833, 'max_depth': 9, 'linear_tree': True, 'lambda_l2': 0.09315669744812971, 'alpha': 9.004100167657023e-07}. Best is trial 5 with value: 0.16801860928535461.\n",
      "[I 2024-08-30 14:45:43,928] Trial 8 finished with value: 0.13515155017375946 and parameters: {'metric': 'rmse', 'learning_rate': 0.0007282595239459041, 'max_depth': 3, 'linear_tree': False, 'lambda_l2': 0.06973666509180054, 'alpha': 0.0004523868930427313}. Best is trial 5 with value: 0.16801860928535461.\n",
      "[I 2024-08-30 14:45:48,436] Trial 9 finished with value: 0.0337284654378891 and parameters: {'metric': None, 'learning_rate': 0.014274354638645237, 'max_depth': 7, 'linear_tree': True, 'lambda_l2': 0.04231491451699601, 'alpha': 0.005691032253016482}. Best is trial 5 with value: 0.16801860928535461.\n",
      "[I 2024-08-30 14:45:52,703] Trial 10 finished with value: 0.15166041254997253 and parameters: {'metric': 'rmse', 'learning_rate': 0.09674539307396839, 'max_depth': 9, 'linear_tree': False, 'lambda_l2': 1.185771017490391e-06, 'alpha': 2.3140719172940437e-05}. Best is trial 5 with value: 0.16801860928535461.\n",
      "[I 2024-08-30 14:46:35,281] Trial 11 finished with value: 0.16787156462669373 and parameters: {'metric': None, 'learning_rate': 0.00011143773020716563, 'max_depth': 7, 'linear_tree': False, 'lambda_l2': 0.0017471572056344238, 'alpha': 2.3078512248010033e-05}. Best is trial 5 with value: 0.16801860928535461.\n",
      "[I 2024-08-30 14:47:02,458] Trial 12 finished with value: 0.1649365872144699 and parameters: {'metric': None, 'learning_rate': 0.002670373484581583, 'max_depth': 6, 'linear_tree': False, 'lambda_l2': 0.0011807288296615116, 'alpha': 0.09202972561085124}. Best is trial 5 with value: 0.16801860928535461.\n",
      "[I 2024-08-30 14:47:45,018] Trial 13 finished with value: 0.1679282784461975 and parameters: {'metric': None, 'learning_rate': 0.00010223405085490775, 'max_depth': 8, 'linear_tree': False, 'lambda_l2': 2.095230221568647e-05, 'alpha': 8.636493851683047e-06}. Best is trial 5 with value: 0.16801860928535461.\n",
      "[I 2024-08-30 14:48:21,492] Trial 14 finished with value: 0.16290496289730072 and parameters: {'metric': 'rmse', 'learning_rate': 0.0006722559178688553, 'max_depth': 9, 'linear_tree': False, 'lambda_l2': 1.0043307537047945e-05, 'alpha': 3.8918587062512925e-06}. Best is trial 5 with value: 0.16801860928535461.\n",
      "[I 2024-08-30 14:48:48,692] Trial 15 finished with value: 0.1635865569114685 and parameters: {'metric': None, 'learning_rate': 0.002185217288226509, 'max_depth': 10, 'linear_tree': False, 'lambda_l2': 1.2328004232703887e-05, 'alpha': 4.472091561476871e-06}. Best is trial 5 with value: 0.16801860928535461.\n",
      "[I 2024-08-30 14:48:57,984] Trial 16 finished with value: 0.16218781471252441 and parameters: {'metric': 'rmse', 'learning_rate': 0.00893660432267129, 'max_depth': 8, 'linear_tree': False, 'lambda_l2': 4.940067428199506e-06, 'alpha': 0.03210689343972575}. Best is trial 5 with value: 0.16801860928535461.\n",
      "[I 2024-08-30 14:49:32,886] Trial 17 finished with value: 0.1637846827507019 and parameters: {'metric': None, 'learning_rate': 0.000494913889468555, 'max_depth': 8, 'linear_tree': False, 'lambda_l2': 0.00014033326985783153, 'alpha': 8.413566079184181e-05}. Best is trial 5 with value: 0.16801860928535461.\n",
      "[I 2024-08-30 14:49:36,782] Trial 18 finished with value: 0.12800486385822296 and parameters: {'metric': None, 'learning_rate': 0.09003472482462441, 'max_depth': 10, 'linear_tree': True, 'lambda_l2': 3.4369369168098234e-06, 'alpha': 5.1371921377438045e-06}. Best is trial 5 with value: 0.16801860928535461.\n",
      "[I 2024-08-30 14:49:43,177] Trial 19 finished with value: 0.1630774736404419 and parameters: {'metric': 'rmse', 'learning_rate': 0.02797857532092769, 'max_depth': 8, 'linear_tree': False, 'lambda_l2': 0.00017227385439939948, 'alpha': 1.1778730177797272e-07}. Best is trial 5 with value: 0.16801860928535461.\n"
     ]
    },
    {
     "name": "stdout",
     "output_type": "stream",
     "text": [
      "{'metric': 'rmse', 'learning_rate': 0.00015730705586057832, 'max_depth': 10, 'linear_tree': False, 'lambda_l2': 2.7592667501022596e-06, 'alpha': 0.009765892479356657}\n"
     ]
    }
   ],
   "source": [
    "import optuna\n",
    "\n",
    "def objective(trial : optuna.Trial):\n",
    "    params = {\n",
    "        'metric':trial.suggest_categorical('metric', [None,'rmse']) ,\n",
    "        # 'seed':trial.suggest_int('seed', 2023, 2023),  #随机种子固定，所以设置为2023-2023\n",
    "        # 'num_boost_round':trial.suggest_int('num_boost_round', 50, 300),  #迭代器数量 50-300 的整数\n",
    "        'learning_rate':trial.suggest_float('learning_rate', 1e-4, 0.1, log = True),\n",
    "        'max_depth':trial.suggest_int('max_depth', 3,10),  #整数    \n",
    "        'linear_tree': trial.suggest_categorical('linear_tree', [True,False]), \n",
    "        'lambda_l2': trial.suggest_float('lambda_l2', 1e-6, 0.1, log = True),\n",
    "        'alpha': trial.suggest_float('alpha', 1e-7, 0.1, log = True),\n",
    "    }\n",
    "    model = Lgbm(params)\n",
    "    model.import_data(**input_data)\n",
    "    model.fit(silence=True)\n",
    "    return model.validation_pred().rankic().mean().item()\n",
    "\n",
    "study = optuna.create_study(storage='sqlite:///visualization/optuna.sqlite3',direction='maximize')\n",
    "study.optimize(objective, n_trials=20)\n",
    "\n",
    "print(study.best_params)"
   ]
  },
  {
   "cell_type": "code",
   "execution_count": 6,
   "metadata": {},
   "outputs": [
    {
     "data": {
      "text/plain": [
       "{'metric': 'rmse',\n",
       " 'seed': 2023,\n",
       " 'num_boost_round': 52,\n",
       " 'learning_rate': 0.03998632904310606,\n",
       " 'max_depth': 5}"
      ]
     },
     "execution_count": 6,
     "metadata": {},
     "output_type": "execute_result"
    }
   ],
   "source": [
    "study.best_params"
   ]
  },
  {
   "cell_type": "code",
   "execution_count": 5,
   "metadata": {},
   "outputs": [
    {
     "data": {
      "application/vnd.plotly.v1+json": {
       "config": {
        "plotlyServerURL": "https://plot.ly"
       },
       "data": [
        {
         "cliponaxis": false,
         "hovertemplate": [
          "metric (CategoricalDistribution): 0.0<extra></extra>",
          "seed (IntDistribution): 0.0<extra></extra>",
          "max_depth (IntDistribution): 0.06886579097811678<extra></extra>",
          "num_boost_round (IntDistribution): 0.10176319804165658<extra></extra>",
          "learning_rate (FloatDistribution): 0.8293710109802267<extra></extra>"
         ],
         "name": "Objective Value",
         "orientation": "h",
         "text": [
          "<0.01",
          "<0.01",
          "0.07",
          "0.10",
          "0.83"
         ],
         "textposition": "outside",
         "type": "bar",
         "x": [
          0,
          0,
          0.06886579097811678,
          0.10176319804165658,
          0.8293710109802267
         ],
         "y": [
          "metric",
          "seed",
          "max_depth",
          "num_boost_round",
          "learning_rate"
         ]
        }
       ],
       "layout": {
        "template": {
         "data": {
          "bar": [
           {
            "error_x": {
             "color": "#2a3f5f"
            },
            "error_y": {
             "color": "#2a3f5f"
            },
            "marker": {
             "line": {
              "color": "#E5ECF6",
              "width": 0.5
             },
             "pattern": {
              "fillmode": "overlay",
              "size": 10,
              "solidity": 0.2
             }
            },
            "type": "bar"
           }
          ],
          "barpolar": [
           {
            "marker": {
             "line": {
              "color": "#E5ECF6",
              "width": 0.5
             },
             "pattern": {
              "fillmode": "overlay",
              "size": 10,
              "solidity": 0.2
             }
            },
            "type": "barpolar"
           }
          ],
          "carpet": [
           {
            "aaxis": {
             "endlinecolor": "#2a3f5f",
             "gridcolor": "white",
             "linecolor": "white",
             "minorgridcolor": "white",
             "startlinecolor": "#2a3f5f"
            },
            "baxis": {
             "endlinecolor": "#2a3f5f",
             "gridcolor": "white",
             "linecolor": "white",
             "minorgridcolor": "white",
             "startlinecolor": "#2a3f5f"
            },
            "type": "carpet"
           }
          ],
          "choropleth": [
           {
            "colorbar": {
             "outlinewidth": 0,
             "ticks": ""
            },
            "type": "choropleth"
           }
          ],
          "contour": [
           {
            "colorbar": {
             "outlinewidth": 0,
             "ticks": ""
            },
            "colorscale": [
             [
              0,
              "#0d0887"
             ],
             [
              0.1111111111111111,
              "#46039f"
             ],
             [
              0.2222222222222222,
              "#7201a8"
             ],
             [
              0.3333333333333333,
              "#9c179e"
             ],
             [
              0.4444444444444444,
              "#bd3786"
             ],
             [
              0.5555555555555556,
              "#d8576b"
             ],
             [
              0.6666666666666666,
              "#ed7953"
             ],
             [
              0.7777777777777778,
              "#fb9f3a"
             ],
             [
              0.8888888888888888,
              "#fdca26"
             ],
             [
              1,
              "#f0f921"
             ]
            ],
            "type": "contour"
           }
          ],
          "contourcarpet": [
           {
            "colorbar": {
             "outlinewidth": 0,
             "ticks": ""
            },
            "type": "contourcarpet"
           }
          ],
          "heatmap": [
           {
            "colorbar": {
             "outlinewidth": 0,
             "ticks": ""
            },
            "colorscale": [
             [
              0,
              "#0d0887"
             ],
             [
              0.1111111111111111,
              "#46039f"
             ],
             [
              0.2222222222222222,
              "#7201a8"
             ],
             [
              0.3333333333333333,
              "#9c179e"
             ],
             [
              0.4444444444444444,
              "#bd3786"
             ],
             [
              0.5555555555555556,
              "#d8576b"
             ],
             [
              0.6666666666666666,
              "#ed7953"
             ],
             [
              0.7777777777777778,
              "#fb9f3a"
             ],
             [
              0.8888888888888888,
              "#fdca26"
             ],
             [
              1,
              "#f0f921"
             ]
            ],
            "type": "heatmap"
           }
          ],
          "heatmapgl": [
           {
            "colorbar": {
             "outlinewidth": 0,
             "ticks": ""
            },
            "colorscale": [
             [
              0,
              "#0d0887"
             ],
             [
              0.1111111111111111,
              "#46039f"
             ],
             [
              0.2222222222222222,
              "#7201a8"
             ],
             [
              0.3333333333333333,
              "#9c179e"
             ],
             [
              0.4444444444444444,
              "#bd3786"
             ],
             [
              0.5555555555555556,
              "#d8576b"
             ],
             [
              0.6666666666666666,
              "#ed7953"
             ],
             [
              0.7777777777777778,
              "#fb9f3a"
             ],
             [
              0.8888888888888888,
              "#fdca26"
             ],
             [
              1,
              "#f0f921"
             ]
            ],
            "type": "heatmapgl"
           }
          ],
          "histogram": [
           {
            "marker": {
             "pattern": {
              "fillmode": "overlay",
              "size": 10,
              "solidity": 0.2
             }
            },
            "type": "histogram"
           }
          ],
          "histogram2d": [
           {
            "colorbar": {
             "outlinewidth": 0,
             "ticks": ""
            },
            "colorscale": [
             [
              0,
              "#0d0887"
             ],
             [
              0.1111111111111111,
              "#46039f"
             ],
             [
              0.2222222222222222,
              "#7201a8"
             ],
             [
              0.3333333333333333,
              "#9c179e"
             ],
             [
              0.4444444444444444,
              "#bd3786"
             ],
             [
              0.5555555555555556,
              "#d8576b"
             ],
             [
              0.6666666666666666,
              "#ed7953"
             ],
             [
              0.7777777777777778,
              "#fb9f3a"
             ],
             [
              0.8888888888888888,
              "#fdca26"
             ],
             [
              1,
              "#f0f921"
             ]
            ],
            "type": "histogram2d"
           }
          ],
          "histogram2dcontour": [
           {
            "colorbar": {
             "outlinewidth": 0,
             "ticks": ""
            },
            "colorscale": [
             [
              0,
              "#0d0887"
             ],
             [
              0.1111111111111111,
              "#46039f"
             ],
             [
              0.2222222222222222,
              "#7201a8"
             ],
             [
              0.3333333333333333,
              "#9c179e"
             ],
             [
              0.4444444444444444,
              "#bd3786"
             ],
             [
              0.5555555555555556,
              "#d8576b"
             ],
             [
              0.6666666666666666,
              "#ed7953"
             ],
             [
              0.7777777777777778,
              "#fb9f3a"
             ],
             [
              0.8888888888888888,
              "#fdca26"
             ],
             [
              1,
              "#f0f921"
             ]
            ],
            "type": "histogram2dcontour"
           }
          ],
          "mesh3d": [
           {
            "colorbar": {
             "outlinewidth": 0,
             "ticks": ""
            },
            "type": "mesh3d"
           }
          ],
          "parcoords": [
           {
            "line": {
             "colorbar": {
              "outlinewidth": 0,
              "ticks": ""
             }
            },
            "type": "parcoords"
           }
          ],
          "pie": [
           {
            "automargin": true,
            "type": "pie"
           }
          ],
          "scatter": [
           {
            "fillpattern": {
             "fillmode": "overlay",
             "size": 10,
             "solidity": 0.2
            },
            "type": "scatter"
           }
          ],
          "scatter3d": [
           {
            "line": {
             "colorbar": {
              "outlinewidth": 0,
              "ticks": ""
             }
            },
            "marker": {
             "colorbar": {
              "outlinewidth": 0,
              "ticks": ""
             }
            },
            "type": "scatter3d"
           }
          ],
          "scattercarpet": [
           {
            "marker": {
             "colorbar": {
              "outlinewidth": 0,
              "ticks": ""
             }
            },
            "type": "scattercarpet"
           }
          ],
          "scattergeo": [
           {
            "marker": {
             "colorbar": {
              "outlinewidth": 0,
              "ticks": ""
             }
            },
            "type": "scattergeo"
           }
          ],
          "scattergl": [
           {
            "marker": {
             "colorbar": {
              "outlinewidth": 0,
              "ticks": ""
             }
            },
            "type": "scattergl"
           }
          ],
          "scattermapbox": [
           {
            "marker": {
             "colorbar": {
              "outlinewidth": 0,
              "ticks": ""
             }
            },
            "type": "scattermapbox"
           }
          ],
          "scatterpolar": [
           {
            "marker": {
             "colorbar": {
              "outlinewidth": 0,
              "ticks": ""
             }
            },
            "type": "scatterpolar"
           }
          ],
          "scatterpolargl": [
           {
            "marker": {
             "colorbar": {
              "outlinewidth": 0,
              "ticks": ""
             }
            },
            "type": "scatterpolargl"
           }
          ],
          "scatterternary": [
           {
            "marker": {
             "colorbar": {
              "outlinewidth": 0,
              "ticks": ""
             }
            },
            "type": "scatterternary"
           }
          ],
          "surface": [
           {
            "colorbar": {
             "outlinewidth": 0,
             "ticks": ""
            },
            "colorscale": [
             [
              0,
              "#0d0887"
             ],
             [
              0.1111111111111111,
              "#46039f"
             ],
             [
              0.2222222222222222,
              "#7201a8"
             ],
             [
              0.3333333333333333,
              "#9c179e"
             ],
             [
              0.4444444444444444,
              "#bd3786"
             ],
             [
              0.5555555555555556,
              "#d8576b"
             ],
             [
              0.6666666666666666,
              "#ed7953"
             ],
             [
              0.7777777777777778,
              "#fb9f3a"
             ],
             [
              0.8888888888888888,
              "#fdca26"
             ],
             [
              1,
              "#f0f921"
             ]
            ],
            "type": "surface"
           }
          ],
          "table": [
           {
            "cells": {
             "fill": {
              "color": "#EBF0F8"
             },
             "line": {
              "color": "white"
             }
            },
            "header": {
             "fill": {
              "color": "#C8D4E3"
             },
             "line": {
              "color": "white"
             }
            },
            "type": "table"
           }
          ]
         },
         "layout": {
          "annotationdefaults": {
           "arrowcolor": "#2a3f5f",
           "arrowhead": 0,
           "arrowwidth": 1
          },
          "autotypenumbers": "strict",
          "coloraxis": {
           "colorbar": {
            "outlinewidth": 0,
            "ticks": ""
           }
          },
          "colorscale": {
           "diverging": [
            [
             0,
             "#8e0152"
            ],
            [
             0.1,
             "#c51b7d"
            ],
            [
             0.2,
             "#de77ae"
            ],
            [
             0.3,
             "#f1b6da"
            ],
            [
             0.4,
             "#fde0ef"
            ],
            [
             0.5,
             "#f7f7f7"
            ],
            [
             0.6,
             "#e6f5d0"
            ],
            [
             0.7,
             "#b8e186"
            ],
            [
             0.8,
             "#7fbc41"
            ],
            [
             0.9,
             "#4d9221"
            ],
            [
             1,
             "#276419"
            ]
           ],
           "sequential": [
            [
             0,
             "#0d0887"
            ],
            [
             0.1111111111111111,
             "#46039f"
            ],
            [
             0.2222222222222222,
             "#7201a8"
            ],
            [
             0.3333333333333333,
             "#9c179e"
            ],
            [
             0.4444444444444444,
             "#bd3786"
            ],
            [
             0.5555555555555556,
             "#d8576b"
            ],
            [
             0.6666666666666666,
             "#ed7953"
            ],
            [
             0.7777777777777778,
             "#fb9f3a"
            ],
            [
             0.8888888888888888,
             "#fdca26"
            ],
            [
             1,
             "#f0f921"
            ]
           ],
           "sequentialminus": [
            [
             0,
             "#0d0887"
            ],
            [
             0.1111111111111111,
             "#46039f"
            ],
            [
             0.2222222222222222,
             "#7201a8"
            ],
            [
             0.3333333333333333,
             "#9c179e"
            ],
            [
             0.4444444444444444,
             "#bd3786"
            ],
            [
             0.5555555555555556,
             "#d8576b"
            ],
            [
             0.6666666666666666,
             "#ed7953"
            ],
            [
             0.7777777777777778,
             "#fb9f3a"
            ],
            [
             0.8888888888888888,
             "#fdca26"
            ],
            [
             1,
             "#f0f921"
            ]
           ]
          },
          "colorway": [
           "#636efa",
           "#EF553B",
           "#00cc96",
           "#ab63fa",
           "#FFA15A",
           "#19d3f3",
           "#FF6692",
           "#B6E880",
           "#FF97FF",
           "#FECB52"
          ],
          "font": {
           "color": "#2a3f5f"
          },
          "geo": {
           "bgcolor": "white",
           "lakecolor": "white",
           "landcolor": "#E5ECF6",
           "showlakes": true,
           "showland": true,
           "subunitcolor": "white"
          },
          "hoverlabel": {
           "align": "left"
          },
          "hovermode": "closest",
          "mapbox": {
           "style": "light"
          },
          "paper_bgcolor": "white",
          "plot_bgcolor": "#E5ECF6",
          "polar": {
           "angularaxis": {
            "gridcolor": "white",
            "linecolor": "white",
            "ticks": ""
           },
           "bgcolor": "#E5ECF6",
           "radialaxis": {
            "gridcolor": "white",
            "linecolor": "white",
            "ticks": ""
           }
          },
          "scene": {
           "xaxis": {
            "backgroundcolor": "#E5ECF6",
            "gridcolor": "white",
            "gridwidth": 2,
            "linecolor": "white",
            "showbackground": true,
            "ticks": "",
            "zerolinecolor": "white"
           },
           "yaxis": {
            "backgroundcolor": "#E5ECF6",
            "gridcolor": "white",
            "gridwidth": 2,
            "linecolor": "white",
            "showbackground": true,
            "ticks": "",
            "zerolinecolor": "white"
           },
           "zaxis": {
            "backgroundcolor": "#E5ECF6",
            "gridcolor": "white",
            "gridwidth": 2,
            "linecolor": "white",
            "showbackground": true,
            "ticks": "",
            "zerolinecolor": "white"
           }
          },
          "shapedefaults": {
           "line": {
            "color": "#2a3f5f"
           }
          },
          "ternary": {
           "aaxis": {
            "gridcolor": "white",
            "linecolor": "white",
            "ticks": ""
           },
           "baxis": {
            "gridcolor": "white",
            "linecolor": "white",
            "ticks": ""
           },
           "bgcolor": "#E5ECF6",
           "caxis": {
            "gridcolor": "white",
            "linecolor": "white",
            "ticks": ""
           }
          },
          "title": {
           "x": 0.05
          },
          "xaxis": {
           "automargin": true,
           "gridcolor": "white",
           "linecolor": "white",
           "ticks": "",
           "title": {
            "standoff": 15
           },
           "zerolinecolor": "white",
           "zerolinewidth": 2
          },
          "yaxis": {
           "automargin": true,
           "gridcolor": "white",
           "linecolor": "white",
           "ticks": "",
           "title": {
            "standoff": 15
           },
           "zerolinecolor": "white",
           "zerolinewidth": 2
          }
         }
        },
        "title": {
         "text": "Hyperparameter Importances"
        },
        "xaxis": {
         "title": {
          "text": "Hyperparameter Importance"
         }
        },
        "yaxis": {
         "title": {
          "text": "Hyperparameter"
         }
        }
       }
      }
     },
     "metadata": {},
     "output_type": "display_data"
    }
   ],
   "source": [
    "fig = optuna.visualization.plot_param_importances(study)\n",
    "fig.show()"
   ]
  },
  {
   "cell_type": "code",
   "execution_count": null,
   "metadata": {},
   "outputs": [],
   "source": []
  },
  {
   "cell_type": "code",
   "execution_count": null,
   "metadata": {},
   "outputs": [],
   "source": []
  },
  {
   "cell_type": "code",
   "execution_count": 8,
   "metadata": {},
   "outputs": [
    {
     "name": "stderr",
     "output_type": "stream",
     "text": [
      "[I 2024-08-30 10:53:33,759] A new study created in RDB with name: no-name-7d176243-549d-4201-a625-942da14c9392\n",
      "[I 2024-08-30 10:53:33,846] Trial 0 finished with value: 2.3420550272871314 and parameters: {'x': 0.46962258665153733}. Best is trial 0 with value: 2.3420550272871314.\n",
      "[I 2024-08-30 10:53:33,886] Trial 1 finished with value: 68.29174508615235 and parameters: {'x': -6.2638819622591635}. Best is trial 0 with value: 2.3420550272871314.\n",
      "[I 2024-08-30 10:53:33,932] Trial 2 finished with value: 29.824745983593704 and parameters: {'x': 7.461203711966228}. Best is trial 0 with value: 2.3420550272871314.\n",
      "[I 2024-08-30 10:53:33,988] Trial 3 finished with value: 34.331908215632694 and parameters: {'x': -3.859343667650217}. Best is trial 0 with value: 2.3420550272871314.\n",
      "[I 2024-08-30 10:53:34,030] Trial 4 finished with value: 82.74381624973537 and parameters: {'x': -7.096362803326139}. Best is trial 0 with value: 2.3420550272871314.\n",
      "[I 2024-08-30 10:53:34,068] Trial 5 finished with value: 39.59081415282962 and parameters: {'x': -4.292123183221195}. Best is trial 0 with value: 2.3420550272871314.\n",
      "[I 2024-08-30 10:53:34,116] Trial 6 finished with value: 19.31744264550951 and parameters: {'x': -2.395161276393565}. Best is trial 0 with value: 2.3420550272871314.\n",
      "[I 2024-08-30 10:53:34,153] Trial 7 finished with value: 0.5556368203281795 and parameters: {'x': 2.7454105045732717}. Best is trial 7 with value: 0.5556368203281795.\n",
      "[I 2024-08-30 10:53:34,202] Trial 8 finished with value: 9.974103153799293 and parameters: {'x': -1.158180354856146}. Best is trial 7 with value: 0.5556368203281795.\n",
      "[I 2024-08-30 10:53:34,244] Trial 9 finished with value: 2.2581847459668647 and parameters: {'x': 0.49727422795545806}. Best is trial 7 with value: 0.5556368203281795.\n",
      "[I 2024-08-30 10:53:34,295] Trial 10 finished with value: 18.683773357588784 and parameters: {'x': 6.322473060365881}. Best is trial 7 with value: 0.5556368203281795.\n",
      "[I 2024-08-30 10:53:34,341] Trial 11 finished with value: 1.1692064300781846 and parameters: {'x': 3.08129849259036}. Best is trial 7 with value: 0.5556368203281795.\n",
      "[I 2024-08-30 10:53:34,420] Trial 12 finished with value: 2.9955856316903517 and parameters: {'x': 3.730776020081845}. Best is trial 7 with value: 0.5556368203281795.\n",
      "[I 2024-08-30 10:53:34,464] Trial 13 finished with value: 1.9703581946924462 and parameters: {'x': 3.4036944805378577}. Best is trial 7 with value: 0.5556368203281795.\n",
      "[I 2024-08-30 10:53:34,509] Trial 14 finished with value: 56.23737677797937 and parameters: {'x': 9.499158404646442}. Best is trial 7 with value: 0.5556368203281795.\n",
      "[I 2024-08-30 10:53:34,556] Trial 15 finished with value: 1.7438427373263732 and parameters: {'x': 3.3205463783322315}. Best is trial 7 with value: 0.5556368203281795.\n",
      "[I 2024-08-30 10:53:34,608] Trial 16 finished with value: 11.906546056518689 and parameters: {'x': 5.450586335178224}. Best is trial 7 with value: 0.5556368203281795.\n",
      "[I 2024-08-30 10:53:34,653] Trial 17 finished with value: 0.2887733669816709 and parameters: {'x': 1.4626236263272538}. Best is trial 17 with value: 0.2887733669816709.\n",
      "[I 2024-08-30 10:53:34,697] Trial 18 finished with value: 0.34639321796226796 and parameters: {'x': 1.4114482028213082}. Best is trial 17 with value: 0.2887733669816709.\n",
      "[I 2024-08-30 10:53:34,743] Trial 19 finished with value: 1.5787210346446119 and parameters: {'x': 0.7435283391000767}. Best is trial 17 with value: 0.2887733669816709.\n"
     ]
    },
    {
     "name": "stdout",
     "output_type": "stream",
     "text": [
      "{'x': 1.4626236263272538}\n"
     ]
    }
   ],
   "source": [
    "import optuna\n",
    " \n",
    "# 需要优化的函数\n",
    "def objective(trial : optuna.Trial):\n",
    "    x = trial.suggest_float('x', -10, 10)\n",
    "    return (x - 2) ** 2\n",
    " \n",
    "# 使用study对象的optimize来优化，里面的参数是上面定义的方法，以及迭代次数\n",
    "study = optuna.create_study(sampler=optuna.samplers.TPESampler(), storage='sqlite:///db.sqlite3')\n",
    "study.optimize(objective, n_trials=20)\n",
    " \n",
    "print(study.best_params)\n",
    "#{'x': 2.128194654190586}\n"
   ]
  },
  {
   "cell_type": "code",
   "execution_count": 62,
   "metadata": {},
   "outputs": [
    {
     "data": {
      "text/plain": [
       "BoosterOutput(pred=tensor([-0.0034, -0.0074,  0.0023,  ..., -0.0149, -0.0149,  0.0158],\n",
       "       dtype=torch.float64), secid=array([     1,      2,      4, ..., 873576, 873593, 873665]), date=array([20231031]), finite=tensor([[True],\n",
       "        [True],\n",
       "        [True],\n",
       "        ...,\n",
       "        [True],\n",
       "        [True],\n",
       "        [True]]), label=tensor([[-0.0746],\n",
       "        [ 0.0097],\n",
       "        [ 0.0000],\n",
       "        ...,\n",
       "        [ 0.4355],\n",
       "        [ 0.8805],\n",
       "        [ 0.5677]], dtype=torch.float64))"
      ]
     },
     "execution_count": 62,
     "metadata": {},
     "output_type": "execute_result"
    }
   ],
   "source": [
    "self.predict()"
   ]
  },
  {
   "cell_type": "code",
   "execution_count": 21,
   "metadata": {},
   "outputs": [
    {
     "data": {
      "text/plain": [
       "dict_keys(['class_name', 'train_param', 'weight_param', 'model'])"
      ]
     },
     "execution_count": 21,
     "metadata": {},
     "output_type": "execute_result"
    }
   ],
   "source": [
    "model_dict = self.to_dict()\n",
    "model_dict.keys()"
   ]
  }
 ],
 "metadata": {
  "kernelspec": {
   "display_name": "Python 3",
   "language": "python",
   "name": "python3"
  },
  "language_info": {
   "codemirror_mode": {
    "name": "ipython",
    "version": 3
   },
   "file_extension": ".py",
   "mimetype": "text/x-python",
   "name": "python",
   "nbconvert_exporter": "python",
   "pygments_lexer": "ipython3",
   "version": "3.11.8"
  }
 },
 "nbformat": 4,
 "nbformat_minor": 2
}
