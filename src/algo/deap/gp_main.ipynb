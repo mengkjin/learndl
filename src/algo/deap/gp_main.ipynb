{
 "cells": [
  {
   "cell_type": "code",
   "execution_count": 2,
   "metadata": {},
   "outputs": [
    {
     "name": "stdout",
     "output_type": "stream",
     "text": [
      "**Job Directory is : \"./pop/bendi\"\n",
      "  --> Start New Training in \"./pop/bendi\"\n",
      "**Device name: NVIDIA GeForce RTX 4090\n",
      "-------------------- Data --------------------\n",
      "  --> Directly load \"./data/package/gp_data_package_test.pt\"\n",
      "**Load Data Done, Cost 0.12 Secs\n",
      "  --> 2 factors, 2 raw data loaded!\n",
      "==================== Iteration 0 start from Generation 0 ====================\n",
      "-------------------- Residual --------------------\n",
      "**Sun Mar 17 20:44:38 2024Cuda Memory: Free 22.4G, Allocated 0.1G, Reserved 0.1G, Re-collect 0.0G Cache!\n",
      "**Update Residual Labels Done, Cost 0.02 Secs, Free CudaMemory 22.42G - > 22.42G\n",
      "-------------------- Setting --------------------\n",
      "**Initialize GP Toolbox Done, Cost 0.00 Secs\n",
      "-------------------- Evolution --------------------\n",
      "**A Population(6) has been Initialized\n"
     ]
    },
    {
     "name": "stderr",
     "output_type": "stream",
     "text": [
      "  --> Evolve Generation 0 MaxIRres-3.88|MaxIRraw-3.88: 100%|██████████| 6/6 [00:00<00:00, 73.53it/s]\n"
     ]
    },
    {
     "name": "stdout",
     "output_type": "stream",
     "text": [
      "  --> Survive 4 Offsprings, try Populating to 6 ones\n"
     ]
    },
    {
     "name": "stderr",
     "output_type": "stream",
     "text": [
      "  --> Evolve Generation 1 MaxIRres-3.29|MaxIRraw-3.29: 100%|██████████| 6/6 [00:00<00:00, 73.86it/s]\n"
     ]
    },
    {
     "name": "stdout",
     "output_type": "stream",
     "text": [
      "**A HallofFame(2) has been Evolutionized\n",
      "**2 Generations of Evolution Done, Cost 0.18 Secs, Free CudaMemory 22.42G - > 22.42G\n",
      "-------------------- Selection --------------------\n",
      "**HallofFame(2) Contains 2 Promising Candidates with RankIR >= 3.00\n",
      "  --> Hof__0/Elite__0 (IR-3.88|Corr+0.00): ma(turn,3)\n",
      "  --> Hof__1/Elite__1 (IR-3.29|Corr+0.36): ts_dwdif(ts_delay(turn,4),ts_argmin(CP,3),15)\n",
      "**An EliteGroup(2) has been Selected\n",
      "  --> Cuda Memories of \"gp_inputs\" take 0.0376G\n",
      "  --> Cuda Memories of \"elites\"    take 0.0188G\n",
      "  --> Cuda Memories of \"tensors\"   take 0.0000G\n",
      "**Selection of HallofFame Done, Cost 0.10 Secs, Free CudaMemory 22.42G - > 22.42G\n",
      "==================== Iteration 1 start from Generation 0 ====================\n",
      "-------------------- Residual --------------------\n",
      "  -> Neutra has 2 Elements\n",
      "**Sun Mar 17 20:44:39 2024Cuda Memory: Free 22.4G, Allocated 0.1G, Reserved 0.1G, Re-collect 0.0G Cache!\n",
      "**Update Residual Labels Done, Cost 0.30 Secs, Free CudaMemory 22.42G - > 22.40G\n",
      "-------------------- Setting --------------------\n",
      "**Initialize GP Toolbox Done, Cost 0.00 Secs\n",
      "-------------------- Evolution --------------------\n",
      "**A Population(6) has been Initialized\n"
     ]
    },
    {
     "name": "stderr",
     "output_type": "stream",
     "text": [
      "  --> Evolve Generation 0 MaxIRres-5.57|MaxIRraw-5.13: 100%|██████████| 6/6 [00:00<00:00, 79.87it/s]\n"
     ]
    },
    {
     "name": "stdout",
     "output_type": "stream",
     "text": [
      "  --> Survive 4 Offsprings, try Populating to 6 ones\n"
     ]
    },
    {
     "name": "stderr",
     "output_type": "stream",
     "text": [
      "  --> Evolve Generation 1 MaxIRres-5.67|MaxIRraw-5.32: 100%|██████████| 6/6 [00:00<00:00, 61.95it/s]"
     ]
    },
    {
     "name": "stdout",
     "output_type": "stream",
     "text": [
      "**A HallofFame(2) has been Evolutionized\n",
      "**2 Generations of Evolution Done, Cost 0.19 Secs, Free CudaMemory 22.40G - > 22.40G\n",
      "-------------------- Selection --------------------\n"
     ]
    },
    {
     "name": "stderr",
     "output_type": "stream",
     "text": [
      "\n"
     ]
    },
    {
     "name": "stdout",
     "output_type": "stream",
     "text": [
      "**HallofFame(2) Contains 2 Promising Candidates with RankIR >= 2.70\n",
      "  --> Hof__0/Elite__2 (IR-5.67|Corr+0.00): ts_xrng_ydif(TURN,cp,40,9)\n",
      "  --> Hof__1/Elite__3 (IR-5.57|Corr+0.49): ts_xrng_ydif(TURN,cp,20,9)\n",
      "**An EliteGroup(2) has been Selected\n",
      "  --> Cuda Memories of \"gp_inputs\" take 0.0376G\n",
      "  --> Cuda Memories of \"elites\"    take 0.0188G\n",
      "  --> Cuda Memories of \"tensors\"   take 0.0000G\n",
      "**Selection of HallofFame Done, Cost 0.13 Secs, Free CudaMemory 22.40G - > 22.40G\n",
      "==================== Total Time Cost :0 hours 0.0 ====================\n",
      "   Residual  Setting  Evolution  Selection  AvgVarAnd  AvgCompile  AvgEval     All\n",
      "0    0.0222   0.0034     0.1812     0.0971     0.0003  8.8981...    0.0026  0.3189\n",
      "1    0.3014   0.0033     0.1943     0.1325     0.0003  7.6890...    0.0017  0.6430\n"
     ]
    },
    {
     "data": {
      "text/html": [
       "<div>\n",
       "<style scoped>\n",
       "    .dataframe tbody tr th:only-of-type {\n",
       "        vertical-align: middle;\n",
       "    }\n",
       "\n",
       "    .dataframe tbody tr th {\n",
       "        vertical-align: top;\n",
       "    }\n",
       "\n",
       "    .dataframe thead th {\n",
       "        text-align: right;\n",
       "    }\n",
       "</style>\n",
       "<table border=\"1\" class=\"dataframe\">\n",
       "  <thead>\n",
       "    <tr style=\"text-align: right;\">\n",
       "      <th></th>\n",
       "      <th>type</th>\n",
       "      <th>name</th>\n",
       "      <th>ncalls</th>\n",
       "      <th>ccalls</th>\n",
       "      <th>tottime</th>\n",
       "      <th>cumtime</th>\n",
       "      <th>where</th>\n",
       "      <th>memory</th>\n",
       "      <th>full_name</th>\n",
       "      <th>caller</th>\n",
       "    </tr>\n",
       "  </thead>\n",
       "  <tbody>\n",
       "    <tr>\n",
       "      <th>434</th>\n",
       "      <td>function</td>\n",
       "      <td>neutralize_2d</td>\n",
       "      <td>2</td>\n",
       "      <td>0</td>\n",
       "      <td>0.2647</td>\n",
       "      <td>0.1307</td>\n",
       "      <td>\"/home/mengkjin/Workspace/learngp/gp_math_func...</td>\n",
       "      <td>0x720ce58d1370</td>\n",
       "      <td>&lt;code object neutralize_2d at 0x720ce58d1370, ...</td>\n",
       "      <td>[(&lt;method 'squeeze_' of 'torch._C._TensorBase'...</td>\n",
       "    </tr>\n",
       "    <tr>\n",
       "      <th>411</th>\n",
       "      <td>function</td>\n",
       "      <td>allna</td>\n",
       "      <td>25</td>\n",
       "      <td>0</td>\n",
       "      <td>0.1283</td>\n",
       "      <td>0.1246</td>\n",
       "      <td>\"/home/mengkjin/Workspace/learngp/gp_math_func...</td>\n",
       "      <td>0x720ce58c3aa0</td>\n",
       "      <td>&lt;code object allna at 0x720ce58c3aa0, file \"/h...</td>\n",
       "      <td>[(&lt;method 'isfinite' of 'torch._C._TensorBase'...</td>\n",
       "    </tr>\n",
       "    <tr>\n",
       "      <th>482</th>\n",
       "      <td>built-in-method</td>\n",
       "      <td>torch._C._linalg.linalg_lstsq</td>\n",
       "      <td>471</td>\n",
       "      <td>0</td>\n",
       "      <td>0.1174</td>\n",
       "      <td>0.1174</td>\n",
       "      <td></td>\n",
       "      <td></td>\n",
       "      <td>&lt;built-in method torch._C._linalg.linalg_lstsq&gt;</td>\n",
       "      <td>None</td>\n",
       "    </tr>\n",
       "    <tr>\n",
       "      <th>561</th>\n",
       "      <td>function</td>\n",
       "      <td>load_tensor</td>\n",
       "      <td>10</td>\n",
       "      <td>0</td>\n",
       "      <td>0.1295</td>\n",
       "      <td>0.0911</td>\n",
       "      <td>\"/home/mengkjin/.local/lib/python3.10/site-pac...</td>\n",
       "      <td>0x720d5dd24190</td>\n",
       "      <td>&lt;code object load_tensor at 0x720d5dd24190, fi...</td>\n",
       "      <td>[(&lt;code object default_restore_location at 0x7...</td>\n",
       "    </tr>\n",
       "    <tr>\n",
       "      <th>163</th>\n",
       "      <td>method</td>\n",
       "      <td>'copy_'</td>\n",
       "      <td>15</td>\n",
       "      <td>0</td>\n",
       "      <td>0.0773</td>\n",
       "      <td>0.0773</td>\n",
       "      <td>'torch._C.StorageBase'</td>\n",
       "      <td></td>\n",
       "      <td>&lt;method 'copy_' of 'torch._C.StorageBase' obje...</td>\n",
       "      <td>None</td>\n",
       "    </tr>\n",
       "    <tr>\n",
       "      <th>556</th>\n",
       "      <td>function</td>\n",
       "      <td>_save</td>\n",
       "      <td>6</td>\n",
       "      <td>0</td>\n",
       "      <td>0.1238</td>\n",
       "      <td>0.0735</td>\n",
       "      <td>\"/home/mengkjin/.local/lib/python3.10/site-pac...</td>\n",
       "      <td>0x720d5dd0f1b0</td>\n",
       "      <td>&lt;code object _save at 0x720d5dd0f1b0, file \"/h...</td>\n",
       "      <td>[(&lt;method 'keys' of 'dict' objects&gt;, 6, 0, 1.7...</td>\n",
       "    </tr>\n",
       "    <tr>\n",
       "      <th>198</th>\n",
       "      <td>method</td>\n",
       "      <td>'equal'</td>\n",
       "      <td>44</td>\n",
       "      <td>0</td>\n",
       "      <td>0.0619</td>\n",
       "      <td>0.0619</td>\n",
       "      <td>'torch._C._TensorBase'</td>\n",
       "      <td></td>\n",
       "      <td>&lt;method 'equal' of 'torch._C._TensorBase' obje...</td>\n",
       "      <td>None</td>\n",
       "    </tr>\n",
       "    <tr>\n",
       "      <th>176</th>\n",
       "      <td>built-in-method</td>\n",
       "      <td>torch._C._cuda_emptyCache</td>\n",
       "      <td>26</td>\n",
       "      <td>0</td>\n",
       "      <td>0.0422</td>\n",
       "      <td>0.0422</td>\n",
       "      <td></td>\n",
       "      <td></td>\n",
       "      <td>&lt;built-in method torch._C._cuda_emptyCache&gt;</td>\n",
       "      <td>None</td>\n",
       "    </tr>\n",
       "    <tr>\n",
       "      <th>197</th>\n",
       "      <td>method</td>\n",
       "      <td>'argsort'</td>\n",
       "      <td>184</td>\n",
       "      <td>0</td>\n",
       "      <td>0.0289</td>\n",
       "      <td>0.0289</td>\n",
       "      <td>'torch._C._TensorBase'</td>\n",
       "      <td></td>\n",
       "      <td>&lt;method 'argsort' of 'torch._C._TensorBase' ob...</td>\n",
       "      <td>None</td>\n",
       "    </tr>\n",
       "    <tr>\n",
       "      <th>88</th>\n",
       "      <td>method</td>\n",
       "      <td>'acquire'</td>\n",
       "      <td>320</td>\n",
       "      <td>0</td>\n",
       "      <td>0.0283</td>\n",
       "      <td>0.0283</td>\n",
       "      <td>'_thread.lock'</td>\n",
       "      <td></td>\n",
       "      <td>&lt;method 'acquire' of '_thread.lock' objects&gt;</td>\n",
       "      <td>None</td>\n",
       "    </tr>\n",
       "  </tbody>\n",
       "</table>\n",
       "</div>"
      ],
      "text/plain": [
       "                type                           name  ncalls  ccalls  tottime  \\\n",
       "434         function                  neutralize_2d       2       0   0.2647   \n",
       "411         function                          allna      25       0   0.1283   \n",
       "482  built-in-method  torch._C._linalg.linalg_lstsq     471       0   0.1174   \n",
       "561         function                    load_tensor      10       0   0.1295   \n",
       "163           method                        'copy_'      15       0   0.0773   \n",
       "556         function                          _save       6       0   0.1238   \n",
       "198           method                        'equal'      44       0   0.0619   \n",
       "176  built-in-method      torch._C._cuda_emptyCache      26       0   0.0422   \n",
       "197           method                      'argsort'     184       0   0.0289   \n",
       "88            method                      'acquire'     320       0   0.0283   \n",
       "\n",
       "     cumtime                                              where  \\\n",
       "434   0.1307  \"/home/mengkjin/Workspace/learngp/gp_math_func...   \n",
       "411   0.1246  \"/home/mengkjin/Workspace/learngp/gp_math_func...   \n",
       "482   0.1174                                                      \n",
       "561   0.0911  \"/home/mengkjin/.local/lib/python3.10/site-pac...   \n",
       "163   0.0773                             'torch._C.StorageBase'   \n",
       "556   0.0735  \"/home/mengkjin/.local/lib/python3.10/site-pac...   \n",
       "198   0.0619                             'torch._C._TensorBase'   \n",
       "176   0.0422                                                      \n",
       "197   0.0289                             'torch._C._TensorBase'   \n",
       "88    0.0283                                     '_thread.lock'   \n",
       "\n",
       "             memory                                          full_name  \\\n",
       "434  0x720ce58d1370  <code object neutralize_2d at 0x720ce58d1370, ...   \n",
       "411  0x720ce58c3aa0  <code object allna at 0x720ce58c3aa0, file \"/h...   \n",
       "482                    <built-in method torch._C._linalg.linalg_lstsq>   \n",
       "561  0x720d5dd24190  <code object load_tensor at 0x720d5dd24190, fi...   \n",
       "163                  <method 'copy_' of 'torch._C.StorageBase' obje...   \n",
       "556  0x720d5dd0f1b0  <code object _save at 0x720d5dd0f1b0, file \"/h...   \n",
       "198                  <method 'equal' of 'torch._C._TensorBase' obje...   \n",
       "176                        <built-in method torch._C._cuda_emptyCache>   \n",
       "197                  <method 'argsort' of 'torch._C._TensorBase' ob...   \n",
       "88                        <method 'acquire' of '_thread.lock' objects>   \n",
       "\n",
       "                                                caller  \n",
       "434  [(<method 'squeeze_' of 'torch._C._TensorBase'...  \n",
       "411  [(<method 'isfinite' of 'torch._C._TensorBase'...  \n",
       "482                                               None  \n",
       "561  [(<code object default_restore_location at 0x7...  \n",
       "163                                               None  \n",
       "556  [(<method 'keys' of 'dict' objects>, 6, 0, 1.7...  \n",
       "198                                               None  \n",
       "176                                               None  \n",
       "197                                               None  \n",
       "88                                                None  "
      ]
     },
     "execution_count": 2,
     "metadata": {},
     "output_type": "execute_result"
    }
   ],
   "source": [
    "# 测试代码跑起来有没有问题，参数都设的很小，应该在一两分钟内执行完\n",
    "from gp_main import main\n",
    "# 各参数含义\n",
    "# job_id     # 确定在哪个文件夹训练,-1代表新建,具体的数字是指定文件夹,但测试代码时统一在./pop/bendi\n",
    "# start_iter # 从第几个大循环开始\n",
    "# start_gen  # 从某个大循环的第几代种群开始\n",
    "# test_code  # 是否只是测试代码有无bug,默认False\n",
    "# noWith     # 是否取消所有计时器,默认False,有计时器时报错会出问题\n",
    "profiler = main(job_id= -1 , start_iter=0 , start_gen=0 , test_code = True , noWith = True)\n",
    "profiler.get_df(sort_on='cumtime' , highlight= None)[:10] # 看看各子程序耗时,用来优化"
   ]
  },
  {
   "cell_type": "code",
   "execution_count": 3,
   "metadata": {},
   "outputs": [
    {
     "name": "stdout",
     "output_type": "stream",
     "text": [
      "**Job Directory is : \"./pop/bendi\"\n",
      "  --> Continue Training in \"./pop/bendi\"\n",
      "**Device name: NVIDIA GeForce RTX 4090\n",
      "-------------------- Data --------------------\n",
      "  --> Directly load \"./data/package/gp_data_package_test.pt\"\n",
      "**Load Data Done, Cost 0.08 Secs\n",
      "  --> 2 factors, 2 raw data loaded!\n",
      "==================== Iteration 1 start from Generation 1 ====================\n",
      "-------------------- Residual --------------------\n",
      "  -> Neutra has 2 Elements\n",
      "**Sun Mar 17 20:44:47 2024Cuda Memory: Free 22.3G, Allocated 0.2G, Reserved 0.2G, Re-collect 0.1G Cache!\n",
      "**Update Residual Labels Done, Cost 0.41 Secs, Free CudaMemory 22.35G - > 22.35G\n",
      "-------------------- Setting --------------------\n",
      "**Initialize GP Toolbox Done, Cost 0.00 Secs\n",
      "-------------------- Evolution --------------------\n"
     ]
    },
    {
     "name": "stderr",
     "output_type": "stream",
     "text": [
      "  --> Load HallofFame 0 MaxIRres-5.57|MaxIRraw-5.13: 100%|██████████| 2/2 [00:00<00:00, 53.29it/s]\n"
     ]
    },
    {
     "name": "stdout",
     "output_type": "stream",
     "text": [
      "  --> Survive 4 Offsprings, try Populating to 6 ones\n"
     ]
    },
    {
     "name": "stderr",
     "output_type": "stream",
     "text": [
      "  --> Evolve Generation 1 MaxIRres-5.67|MaxIRraw-5.32: 100%|██████████| 6/6 [00:00<00:00, 52.67it/s]"
     ]
    },
    {
     "name": "stdout",
     "output_type": "stream",
     "text": [
      "**A HallofFame(2) has been Evolutionized\n",
      "**1 Generations of Evolution Done, Cost 0.17 Secs, Free CudaMemory 22.35G - > 22.35G\n",
      "-------------------- Selection --------------------\n",
      "**HallofFame(2) Contains 2 Promising Candidates with RankIR >= 2.70\n"
     ]
    },
    {
     "name": "stderr",
     "output_type": "stream",
     "text": [
      "\n"
     ]
    },
    {
     "name": "stdout",
     "output_type": "stream",
     "text": [
      "  --> Hof__0/Elite__2 (IR-5.67|Corr+0.00): ts_xrng_ydif(TURN,cp,40,9)\n",
      "  --> Hof__1/Elite__3 (IR-5.57|Corr+0.49): ts_xrng_ydif(TURN,cp,20,9)\n",
      "**An EliteGroup(2) has been Selected\n",
      "  --> Cuda Memories of \"gp_inputs\" take 0.0376G\n",
      "  --> Cuda Memories of \"elites\"    take 0.0188G\n",
      "  --> Cuda Memories of \"tensors\"   take 0.0000G\n",
      "**Selection of HallofFame Done, Cost 0.15 Secs, Free CudaMemory 22.35G - > 22.35G\n",
      "==================== Total Time Cost :0 hours 0.0 ====================\n",
      "   Residual  Setting  Evolution  Selection  AvgVarAnd  AvgCompile  AvgEval     All\n",
      "0    0.4126    0.003     0.1679       0.15     0.0002  8.4949...     0.003  0.7427\n"
     ]
    },
    {
     "data": {
      "text/html": [
       "<div>\n",
       "<style scoped>\n",
       "    .dataframe tbody tr th:only-of-type {\n",
       "        vertical-align: middle;\n",
       "    }\n",
       "\n",
       "    .dataframe tbody tr th {\n",
       "        vertical-align: top;\n",
       "    }\n",
       "\n",
       "    .dataframe thead th {\n",
       "        text-align: right;\n",
       "    }\n",
       "</style>\n",
       "<table border=\"1\" class=\"dataframe\">\n",
       "  <thead>\n",
       "    <tr style=\"text-align: right;\">\n",
       "      <th></th>\n",
       "      <th>type</th>\n",
       "      <th>name</th>\n",
       "      <th>ncalls</th>\n",
       "      <th>ccalls</th>\n",
       "      <th>tottime</th>\n",
       "      <th>cumtime</th>\n",
       "      <th>where</th>\n",
       "      <th>memory</th>\n",
       "      <th>full_name</th>\n",
       "      <th>caller</th>\n",
       "    </tr>\n",
       "  </thead>\n",
       "  <tbody>\n",
       "    <tr>\n",
       "      <th>410</th>\n",
       "      <td>function</td>\n",
       "      <td>neutralize_2d</td>\n",
       "      <td>1</td>\n",
       "      <td>0</td>\n",
       "      <td>0.3534</td>\n",
       "      <td>0.1771</td>\n",
       "      <td>\"/home/mengkjin/Workspace/learngp/gp_math_func...</td>\n",
       "      <td>0x720ce58d1370</td>\n",
       "      <td>&lt;code object neutralize_2d at 0x720ce58d1370, ...</td>\n",
       "      <td>[(&lt;method 'squeeze_' of 'torch._C._TensorBase'...</td>\n",
       "    </tr>\n",
       "    <tr>\n",
       "      <th>443</th>\n",
       "      <td>built-in-method</td>\n",
       "      <td>torch._C._linalg.linalg_lstsq</td>\n",
       "      <td>471</td>\n",
       "      <td>0</td>\n",
       "      <td>0.1520</td>\n",
       "      <td>0.1520</td>\n",
       "      <td></td>\n",
       "      <td></td>\n",
       "      <td>&lt;built-in method torch._C._linalg.linalg_lstsq&gt;</td>\n",
       "      <td>None</td>\n",
       "    </tr>\n",
       "    <tr>\n",
       "      <th>389</th>\n",
       "      <td>function</td>\n",
       "      <td>allna</td>\n",
       "      <td>10</td>\n",
       "      <td>0</td>\n",
       "      <td>0.0884</td>\n",
       "      <td>0.0875</td>\n",
       "      <td>\"/home/mengkjin/Workspace/learngp/gp_math_func...</td>\n",
       "      <td>0x720ce58c3aa0</td>\n",
       "      <td>&lt;code object allna at 0x720ce58c3aa0, file \"/h...</td>\n",
       "      <td>[(&lt;method 'isfinite' of 'torch._C._TensorBase'...</td>\n",
       "    </tr>\n",
       "    <tr>\n",
       "      <th>517</th>\n",
       "      <td>function</td>\n",
       "      <td>load_tensor</td>\n",
       "      <td>10</td>\n",
       "      <td>0</td>\n",
       "      <td>0.1033</td>\n",
       "      <td>0.0672</td>\n",
       "      <td>\"/home/mengkjin/.local/lib/python3.10/site-pac...</td>\n",
       "      <td>0x720d5dd24190</td>\n",
       "      <td>&lt;code object load_tensor at 0x720d5dd24190, fi...</td>\n",
       "      <td>[(&lt;code object __new__ at 0x720d5dcde550, file...</td>\n",
       "    </tr>\n",
       "    <tr>\n",
       "      <th>152</th>\n",
       "      <td>method</td>\n",
       "      <td>'copy_'</td>\n",
       "      <td>12</td>\n",
       "      <td>0</td>\n",
       "      <td>0.0587</td>\n",
       "      <td>0.0587</td>\n",
       "      <td>'torch._C.StorageBase'</td>\n",
       "      <td></td>\n",
       "      <td>&lt;method 'copy_' of 'torch._C.StorageBase' obje...</td>\n",
       "      <td>None</td>\n",
       "    </tr>\n",
       "    <tr>\n",
       "      <th>512</th>\n",
       "      <td>function</td>\n",
       "      <td>_save</td>\n",
       "      <td>4</td>\n",
       "      <td>0</td>\n",
       "      <td>0.0768</td>\n",
       "      <td>0.0360</td>\n",
       "      <td>\"/home/mengkjin/.local/lib/python3.10/site-pac...</td>\n",
       "      <td>0x720d5dd0f1b0</td>\n",
       "      <td>&lt;code object _save at 0x720d5dd0f1b0, file \"/h...</td>\n",
       "      <td>[(&lt;code object cpu at 0x720d5dcdc500, file \"/h...</td>\n",
       "    </tr>\n",
       "    <tr>\n",
       "      <th>185</th>\n",
       "      <td>method</td>\n",
       "      <td>'equal'</td>\n",
       "      <td>17</td>\n",
       "      <td>0</td>\n",
       "      <td>0.0240</td>\n",
       "      <td>0.0240</td>\n",
       "      <td>'torch._C._TensorBase'</td>\n",
       "      <td></td>\n",
       "      <td>&lt;method 'equal' of 'torch._C._TensorBase' obje...</td>\n",
       "      <td>None</td>\n",
       "    </tr>\n",
       "    <tr>\n",
       "      <th>163</th>\n",
       "      <td>built-in-method</td>\n",
       "      <td>torch._C._cuda_emptyCache</td>\n",
       "      <td>13</td>\n",
       "      <td>0</td>\n",
       "      <td>0.0220</td>\n",
       "      <td>0.0220</td>\n",
       "      <td></td>\n",
       "      <td></td>\n",
       "      <td>&lt;built-in method torch._C._cuda_emptyCache&gt;</td>\n",
       "      <td>None</td>\n",
       "    </tr>\n",
       "    <tr>\n",
       "      <th>201</th>\n",
       "      <td>method</td>\n",
       "      <td>'sum'</td>\n",
       "      <td>584</td>\n",
       "      <td>0</td>\n",
       "      <td>0.0178</td>\n",
       "      <td>0.0178</td>\n",
       "      <td>'torch._C._TensorBase'</td>\n",
       "      <td></td>\n",
       "      <td>&lt;method 'sum' of 'torch._C._TensorBase' objects&gt;</td>\n",
       "      <td>None</td>\n",
       "    </tr>\n",
       "    <tr>\n",
       "      <th>165</th>\n",
       "      <td>method</td>\n",
       "      <td>'cpu'</td>\n",
       "      <td>10</td>\n",
       "      <td>0</td>\n",
       "      <td>0.0169</td>\n",
       "      <td>0.0169</td>\n",
       "      <td>'torch._C._TensorBase'</td>\n",
       "      <td></td>\n",
       "      <td>&lt;method 'cpu' of 'torch._C._TensorBase' objects&gt;</td>\n",
       "      <td>None</td>\n",
       "    </tr>\n",
       "  </tbody>\n",
       "</table>\n",
       "</div>"
      ],
      "text/plain": [
       "                type                           name  ncalls  ccalls  tottime  \\\n",
       "410         function                  neutralize_2d       1       0   0.3534   \n",
       "443  built-in-method  torch._C._linalg.linalg_lstsq     471       0   0.1520   \n",
       "389         function                          allna      10       0   0.0884   \n",
       "517         function                    load_tensor      10       0   0.1033   \n",
       "152           method                        'copy_'      12       0   0.0587   \n",
       "512         function                          _save       4       0   0.0768   \n",
       "185           method                        'equal'      17       0   0.0240   \n",
       "163  built-in-method      torch._C._cuda_emptyCache      13       0   0.0220   \n",
       "201           method                          'sum'     584       0   0.0178   \n",
       "165           method                          'cpu'      10       0   0.0169   \n",
       "\n",
       "     cumtime                                              where  \\\n",
       "410   0.1771  \"/home/mengkjin/Workspace/learngp/gp_math_func...   \n",
       "443   0.1520                                                      \n",
       "389   0.0875  \"/home/mengkjin/Workspace/learngp/gp_math_func...   \n",
       "517   0.0672  \"/home/mengkjin/.local/lib/python3.10/site-pac...   \n",
       "152   0.0587                             'torch._C.StorageBase'   \n",
       "512   0.0360  \"/home/mengkjin/.local/lib/python3.10/site-pac...   \n",
       "185   0.0240                             'torch._C._TensorBase'   \n",
       "163   0.0220                                                      \n",
       "201   0.0178                             'torch._C._TensorBase'   \n",
       "165   0.0169                             'torch._C._TensorBase'   \n",
       "\n",
       "             memory                                          full_name  \\\n",
       "410  0x720ce58d1370  <code object neutralize_2d at 0x720ce58d1370, ...   \n",
       "443                    <built-in method torch._C._linalg.linalg_lstsq>   \n",
       "389  0x720ce58c3aa0  <code object allna at 0x720ce58c3aa0, file \"/h...   \n",
       "517  0x720d5dd24190  <code object load_tensor at 0x720d5dd24190, fi...   \n",
       "152                  <method 'copy_' of 'torch._C.StorageBase' obje...   \n",
       "512  0x720d5dd0f1b0  <code object _save at 0x720d5dd0f1b0, file \"/h...   \n",
       "185                  <method 'equal' of 'torch._C._TensorBase' obje...   \n",
       "163                        <built-in method torch._C._cuda_emptyCache>   \n",
       "201                   <method 'sum' of 'torch._C._TensorBase' objects>   \n",
       "165                   <method 'cpu' of 'torch._C._TensorBase' objects>   \n",
       "\n",
       "                                                caller  \n",
       "410  [(<method 'squeeze_' of 'torch._C._TensorBase'...  \n",
       "443                                               None  \n",
       "389  [(<method 'isfinite' of 'torch._C._TensorBase'...  \n",
       "517  [(<code object __new__ at 0x720d5dcde550, file...  \n",
       "152                                               None  \n",
       "512  [(<code object cpu at 0x720d5dcdc500, file \"/h...  \n",
       "185                                               None  \n",
       "163                                               None  \n",
       "201                                               None  \n",
       "165                                               None  "
      ]
     },
     "execution_count": 3,
     "metadata": {},
     "output_type": "execute_result"
    }
   ],
   "source": [
    "# 测试能不能继续训练\n",
    "from gp_main import main\n",
    "profiler = main(job_id= -1 , start_iter=1 , start_gen=1 , test_code = True , noWith = False)\n",
    "profiler.get_df(sort_on='cumtime' , highlight= None)[:10] # 看看各子程序耗时,用来优化"
   ]
  },
  {
   "cell_type": "code",
   "execution_count": 6,
   "metadata": {},
   "outputs": [
    {
     "name": "stdout",
     "output_type": "stream",
     "text": [
      "**Job Directory is : \"./pop/2\"\n",
      "  --> Continue Training in \"./pop/2\"\n",
      "**Device name: NVIDIA GeForce RTX 4090\n",
      "-------------------- Data --------------------\n",
      "**Load Data Done, Cost 3.05 Secs\n",
      "==================== Iteration 0 start from Generation 0 ====================\n",
      "-------------------- Residual --------------------\n",
      "**Sun Mar 17 20:56:22 2024Cuda Memory: Free 20.1G, Allocated 2.3G, Reserved 2.5G, Re-collect 0.0G Cache!\n",
      "**Update Residual Labels Done, Cost 0.14 Secs, Free CudaMemory 20.14G - > 20.07G\n",
      "-------------------- Setting --------------------\n",
      "**Initialize GP Toolbox Done, Cost 0.00 Secs\n",
      "-------------------- Evolution --------------------\n"
     ]
    },
    {
     "name": "stderr",
     "output_type": "stream",
     "text": [
      "0it [00:00, ?it/s]\n"
     ]
    },
    {
     "name": "stdout",
     "output_type": "stream",
     "text": [
      "**A Population(3000) has been Initialized\n"
     ]
    },
    {
     "name": "stderr",
     "output_type": "stream",
     "text": [
      "  --> Evolve Generation 0 MaxIRres-5.86|MaxIRraw-5.86: 100%|██████████| 3000/3000 [07:06<00:00,  7.03it/s]\n"
     ]
    },
    {
     "name": "stdout",
     "output_type": "stream",
     "text": [
      "  --> Survive 1506 Offsprings, try Populating to 3000 ones\n"
     ]
    },
    {
     "name": "stderr",
     "output_type": "stream",
     "text": [
      "  --> Evolve Generation 1 MaxIRres+6.20|MaxIRraw+6.20: 100%|██████████| 3000/3000 [06:48<00:00,  7.34it/s]\n"
     ]
    },
    {
     "name": "stdout",
     "output_type": "stream",
     "text": [
      "  --> Survive 1453 Offsprings, try Populating to 3000 ones\n"
     ]
    },
    {
     "name": "stderr",
     "output_type": "stream",
     "text": [
      "  --> Evolve Generation 2 MaxIRres-6.32|MaxIRraw-6.32: 100%|██████████| 3000/3000 [06:40<00:00,  7.48it/s]\n"
     ]
    },
    {
     "name": "stdout",
     "output_type": "stream",
     "text": [
      "  --> Survive 1492 Offsprings, try Populating to 3000 ones\n"
     ]
    },
    {
     "name": "stderr",
     "output_type": "stream",
     "text": [
      "  --> Evolve Generation 3 MaxIRres-5.78|MaxIRraw-5.78: 100%|██████████| 3000/3000 [06:26<00:00,  7.76it/s]\n"
     ]
    },
    {
     "name": "stdout",
     "output_type": "stream",
     "text": [
      "  --> Survive 1475 Offsprings, try Populating to 3000 ones\n"
     ]
    },
    {
     "name": "stderr",
     "output_type": "stream",
     "text": [
      "  --> Evolve Generation 4 MaxIRres-6.23|MaxIRraw-6.23: 100%|██████████| 3000/3000 [06:29<00:00,  7.70it/s]\n"
     ]
    },
    {
     "name": "stdout",
     "output_type": "stream",
     "text": [
      "  --> Survive 1455 Offsprings, try Populating to 3000 ones\n"
     ]
    },
    {
     "name": "stderr",
     "output_type": "stream",
     "text": [
      "  --> Evolve Generation 5 MaxIRres-6.23|MaxIRraw-6.23: 100%|██████████| 3000/3000 [06:26<00:00,  7.76it/s]\n"
     ]
    },
    {
     "name": "stdout",
     "output_type": "stream",
     "text": [
      "**A HallofFame(500) has been Evolutionized\n",
      "**6 Generations of Evolution Done, Cost 2403.02 Secs, Free CudaMemory 20.07G - > 20.07G\n",
      "-------------------- Selection --------------------\n",
      "**HallofFame(500) Contains 499 Promising Candidates with RankIR >= 3.00\n",
      "  --> Hof__0/Elite__0 (IR-6.32|Corr+0.00): ts_beta(cp, TURN, 9)\n",
      "  --> Hof__2/Elite__1 (IR+6.20|Corr-0.60): ts_xrng_ydif(BP, TURN, 15, 5)\n",
      "  --> Hof__3/Elite__2 (IR-6.01|Corr+0.53): ts_beta(vp, TURN, 4)\n",
      "  --> Hof__5/Elite__3 (IR-5.78|Corr+0.48): ts_xrng_ydif(CP, AMT, 10, 1)\n",
      "  --> Hof__6/Elite__4 (IR-5.77|Corr+0.42): ts_stddev(sqrt(TURN), 4)\n",
      "  --> Hof__7/Elite__5 (IR-5.71|Corr+0.49): log(log(TURN))\n",
      "  --> Hof__9/Elite__6 (IR+5.54|Corr-0.47): ts_beta(ep, TURN, 8)\n",
      "  --> Hof_20/Elite__7 (IR+5.40|Corr-0.37): ts_beta(BP, ts_xtop_yavg(ADV60, TURN, 10, 1), 9)\n",
      "  --> Hof_25/Elite__8 (IR-5.36|Corr+0.50): ts_beta(sigmoid(add(vp, hp)), VOL, 9)\n",
      "  --> Hof_29/Elite__9 (IR+5.29|Corr+0.43): ts_beta(EP, TURN, 5)\n",
      "  --> Hof_38/Elite_10 (IR-5.13|Corr-0.41): log(ts_xtop_yavg(TURN, ts_xrng_ydif(ts_cov(rank_add(vol, turn), ts_rng_dif(VP, 15, 1), 6), TURN, 20, 3), 30, 1))\n",
      "  --> Hof_39/Elite_11 (IR-5.13|Corr+0.55): ts_beta(cp, VOL, 4)\n",
      "  --> Hof_43/Elite_12 (IR+5.09|Corr-0.51): rank_div(sign(LP), ts_rng_dif(TURN, 30, 1))\n",
      "  --> Hof_44/Elite_13 (IR+5.07|Corr-0.55): ts_beta(dp, TURN, 6)\n",
      "  --> Hof_46/Elite_14 (IR-5.05|Corr-0.50): rank_sub(ts_xbtm_yavg(BP, TURN, 15, 2), ts_corr(BP, adv20, 5))\n",
      "  --> Hof_61/Elite_15 (IR-4.98|Corr-0.55): log(ts_xrng_ydif(HP, VOL, 15, 6))\n",
      "  --> Hof_70/Elite_16 (IR+4.89|Corr+0.42): sigmoid(ts_xrng_ydif(sqrt(EP), TURN, 40, 6))\n",
      "  --> Hof_80/Elite_17 (IR-4.84|Corr+0.55): ts_xrng_ydif(LP, VOL, 10, 2)\n",
      "  --> Hof_90/Elite_18 (IR-4.81|Corr+0.41): ts_beta(hp, AMT, 3)\n",
      "  --> Hof_92/Elite_19 (IR-4.81|Corr-0.55): ts_rng_dif(ts_xrng_ydif(ADV20, TURN, 40, 8), 10, 1)\n",
      "  --> Hof_96/Elite_20 (IR+4.78|Corr-0.37): ts_dwdif(ts_xrng_ydif(lp, DP, 30, 1), ts_rankcorr(vp, AMT, 3), 20)\n",
      "  --> Hof_97/Elite_21 (IR-4.77|Corr+0.48): ts_rankcorr(AMT, CP, 9)\n",
      "  --> Hof_99/Elite_22 (IR-4.77|Corr+0.60): rank_mul(ts_xtop_yavg(turn, hp, 30, 1), sqrt(TURN))\n",
      "  --> Hof101/Elite_23 (IR-4.76|Corr+0.51): ts_beta(lp, AMT, 7)\n",
      "  --> Hof110/Elite_24 (IR-4.72|Corr+0.57): ts_beta(vol, TURN, 2)\n",
      "  --> Hof128/Elite_25 (IR+4.64|Corr-0.59): ts_xrng_ydif(BP, VOL, 30, 1)\n",
      "  --> Hof130/Elite_26 (IR-4.63|Corr-0.59): add(ts_xbtm_yavg(ts_corr(ADV20, BP, 6), TURN, 15, 3), ts_xtop_yavg(OCFP, ts_argmin(ts_xrng_ydif(lp, hp, 20, 3), 6), 10, 1))\n",
      "  --> Hof135/Elite_27 (IR-4.61|Corr+0.31): mul(pctchg(ADV60, 7), ts_xbtm_yavg(ts_dw(log(amt), 6), VP, 10, 7))\n",
      "  --> Hof138/Elite_28 (IR-4.60|Corr+0.49): ts_xrng_ydif(HP, vol, 10, 1)\n",
      "  --> Hof145/Elite_29 (IR-4.58|Corr+0.49): rank_add(ts_xrng_ydif(AMT, VP, 10, 9), power(adv20, 1.02))\n",
      "  --> Hof148/Elite_30 (IR-4.57|Corr+0.60): ts_corr(HP, TURN, 9)\n",
      "  --> Hof154/Elite_31 (IR-4.53|Corr+0.42): ts_beta(HP, TURN, 5)\n",
      "  --> Hof160/Elite_32 (IR-4.51|Corr+0.46): rank_add(ts_rng_dif(AMT, 10, 6), square(ts_argmax(CP, 5)))\n",
      "  --> Hof162/Elite_33 (IR-4.51|Corr+0.55): ts_dwdif(TURN, ADV20, 10)\n",
      "  --> Hof168/Elite_34 (IR-4.49|Corr+0.48): ts_max(ts_xrng_ydif(rank(rank_sub(hp, dp)), VOL, 15, 8), 7)\n",
      "  --> Hof169/Elite_35 (IR-4.49|Corr+0.48): ts_xrng_ydif(VOL, VP, 15, 1)\n",
      "  --> Hof170/Elite_36 (IR-4.49|Corr+0.40): rank_mul(rank_sub(vol, turn), ts_top_avg(turn, 30, 1))\n",
      "  --> Hof176/Elite_37 (IR-4.47|Corr+0.47): rank_add(ma(TURN, 3), ts_rank(ts_cov(ts_cov(turn, ocfp, 3), ts_min(amt, 9), 5), 7))\n",
      "  --> Hof178/Elite_38 (IR+4.47|Corr-0.42): ts_beta(BP, turn, 7)\n",
      "  --> Hof183/Elite_39 (IR+4.45|Corr-0.28): ts_xrng_ydif(OCFP, TURN, 10, 1)\n",
      "  --> Hof189/Elite_40 (IR+4.44|Corr-0.57): rank_sub(ts_xtop_yavg(ts_xrng_ydif(DP, ma(EP, 30), 40, 8), VP, 30, 7), ma(TURN, 10))\n",
      "  --> Hof192/Elite_41 (IR-4.44|Corr+0.52): ts_top_avg(RTN, 30, 1)\n",
      "  --> Hof193/Elite_42 (IR-4.44|Corr+0.37): ts_dwdif(pctchg(AMT, 15), ts_max(ts_xrng_ydif(RTN, square(ts_delay(amt, 2)), 30, 7), 4), 40)\n",
      "  --> Hof199/Elite_43 (IR-4.43|Corr+0.31): ts_xbtm_yavg(RTN, ts_xrng_ydif(lp, amt, 10, 1), 30, 1)\n",
      "  --> Hof205/Elite_44 (IR-4.40|Corr-0.43): ts_xbtm_yavg(BP, amt, 40, 1)\n",
      "  --> Hof206/Elite_45 (IR-4.40|Corr+0.32): ts_xbtm_yavg(sub(sign(HP), amt), RTN, 20, 1)\n",
      "  --> Hof208/Elite_46 (IR+4.40|Corr-0.48): rank_sub(ts_dwdif(HP, ADV60, 20), log(OP))\n",
      "  --> Hof211/Elite_47 (IR-4.39|Corr+0.42): ma(log(vol), 40)\n",
      "  --> Hof212/Elite_48 (IR-4.39|Corr+0.47): ts_xbtm_yavg(ADV20, ts_xrng_ydif(hp, TURN, 15, 1), 30, 5)\n",
      "  --> Hof215/Elite_49 (IR-4.38|Corr-0.54): ts_xrng_ydif(RTN, VOL, 30, 5)\n",
      "  --> Hof222/Elite_50 (IR-4.35|Corr-0.28): rank_div(ts_top_avg(ts_xrng_ydif(VOL, TURN, 40, 1), 20, 1), ts_top_avg(ts_rng_dif(ts_xrng_ydif(BP, ts_max(adv20, 5), 40, 8), 15, 1), 20, 8))\n",
      "  --> Hof233/Elite_51 (IR-4.32|Corr+0.44): rank_add(ts_corr(CP, TURN, 7), ts_beta(turn, ocfp, 5))\n",
      "  --> Hof236/Elite_52 (IR-4.31|Corr+0.39): ts_beta(ts_argmin(BP, 9), TURN, 4)\n",
      "  --> Hof238/Elite_53 (IR-4.30|Corr+0.53): add(ts_rankcorr(AMT, amt, 5), ts_xtop_yavg(op, vol, 40, 1))\n",
      "  --> Hof250/Elite_54 (IR-4.28|Corr-0.44): rank_sub(ma(TURN, 5), ts_corr(ts_xtop_yavg(ma(lp, 30), ts_dwdif(HP, op, 15), 40, 1), ts_dwdif(VP, ts_cov(vp, hp, 3), 10), 7))\n",
      "  --> Hof253/Elite_55 (IR-4.27|Corr+0.53): ts_top_avg(ts_xrng_ydif(hp, amt, 20, 1), 10, 1)\n",
      "  --> Hof292/Elite_56 (IR-4.24|Corr+0.57): ts_xbtm_yavg(EP, mul(amt, vol), 20, 8)\n",
      "  --> Hof294/Elite_57 (IR-4.24|Corr+0.59): ts_dwdif(VOL, ADV60, 10)\n",
      "  --> Hof297/Elite_58 (IR-4.23|Corr+0.51): ts_dwdif(RTN, ma(DP, 15), 10)\n",
      "  --> Hof298/Elite_59 (IR+4.23|Corr-0.53): ts_xrng_ydif(DP, TURN, 10, 1)\n",
      "  --> Hof299/Elite_60 (IR-4.23|Corr+0.53): ts_xbtm_yavg(ts_corr(OCFP, TURN, 8), TURN, 30, 1)\n",
      "  --> Hof305/Elite_61 (IR-4.22|Corr-0.51): ts_beta(hp, amt, 7)\n",
      "  --> Hof314/Elite_62 (IR-4.20|Corr+0.60): ts_top_avg(pctchg(ADV20, 1), 30, 1)\n",
      "  --> Hof316/Elite_63 (IR-4.20|Corr+0.56): sqrt(ts_max(pctchg(ADV20, 1), 8))\n",
      "  --> Hof320/Elite_64 (IR-4.19|Corr+0.45): ts_max(AMT, 4)\n",
      "  --> Hof321/Elite_65 (IR-4.19|Corr+0.57): ts_beta(power(OP, 0.28), ts_dwdif(AMT, adv20, 10), 9)\n",
      "  --> Hof333/Elite_66 (IR-4.17|Corr+0.59): ts_xbtm_yavg(ts_xbtm_yavg(vp, BP, 20, 4), TURN, 20, 1)\n",
      "  --> Hof340/Elite_67 (IR+4.17|Corr+0.58): rank_div(ts_xrng_ydif(OCFP, ts_zscore(LP, 15), 40, 5), ts_rng_dif(TURN, 10, 4))\n",
      "  --> Hof347/Elite_68 (IR-4.15|Corr+0.60): rank_add(ts_min(TURN, 3), adv60)\n",
      "  --> Hof350/Elite_69 (IR-4.13|Corr+0.53): ts_beta(log(LP), VOL, 6)\n",
      "  --> Hof353/Elite_70 (IR-4.13|Corr-0.48): ts_dwdif(ts_delta(ts_xtop_yavg(ts_xrng_ydif(bp, BP, 10, 1), ADV20, 20, 1), 6), OCFP, 20)\n",
      "  --> Hof360/Elite_71 (IR-4.11|Corr+0.59): rank_add(ts_top_avg(ts_xbtm_yavg(ts_xbtm_yavg(ADV60, lp, 30, 3), ADV20, 30, 1), 20, 1), mul(pctchg(VP, 20), ts_rank(ts_xbtm_yavg(LP, adv60, 10, 2), 3)))\n",
      "  --> Hof368/Elite_72 (IR-4.10|Corr+0.54): ts_xrng_ydif(TURN, OP, 10, 1)\n",
      "  --> Hof375/Elite_73 (IR-4.08|Corr+0.55): ma(sqrt(adv20), 9)\n",
      "  --> Hof379/Elite_74 (IR+4.08|Corr+0.41): ts_beta(ocfp, TURN, 5)\n",
      "  --> Hof403/Elite_75 (IR-4.06|Corr+0.59): rank_mul(sign(ts_argmin(BP, 6)), sqrt(VOL))\n",
      "  --> Hof412/Elite_76 (IR-4.05|Corr+0.31): ts_dwdif(RTN, OCFP, 15)\n",
      "  --> Hof413/Elite_77 (IR+4.05|Corr-0.23): rank_sub(sigmoid(ocfp), square(turn))\n",
      "  --> Hof414/Elite_78 (IR-4.05|Corr+0.53): ts_xrng_ydif(CP, AMT, 40, 7)\n",
      "  --> Hof424/Elite_79 (IR+4.03|Corr-0.57): ma(ts_xrng_ydif(bp, amt, 30, 2), 15)\n",
      "  --> Hof430/Elite_80 (IR-4.02|Corr+0.59): ts_xbtm_yavg(dp, amt, 10, 1)\n",
      "  --> Hof432/Elite_81 (IR-4.01|Corr+0.55): sub(amt, ts_corr(vol, dp, 3))\n",
      "  --> Hof439/Elite_82 (IR-4.00|Corr+0.56): ts_top_avg(ts_zscore(RTN, 20), 40, 1)\n",
      "  --> Hof442/Elite_83 (IR-3.99|Corr+0.57): ts_rng_dif(log(ADV20), 10, 1)\n",
      "  --> Hof448/Elite_84 (IR-3.99|Corr+0.51): ma(ts_xtop_yavg(OP, pctchg(OP, 1), 30, 4), 8)\n",
      "  --> Hof449/Elite_85 (IR-3.99|Corr+0.45): ts_xbtm_yavg(RTN, ts_xrng_ydif(TURN, vp, 15, 6), 15, 1)\n",
      "  --> Hof453/Elite_86 (IR-3.98|Corr+0.54): ts_top_avg(rank(turn), 15, 1)\n",
      "  --> Hof456/Elite_87 (IR-3.98|Corr+0.50): rank_mul(ts_xbtm_yavg(ts_xbtm_yavg(ts_product(vp, 7), adv60, 40, 1), RTN, 30, 1), ts_xbtm_yavg(ADV60, TURN, 15, 4))\n",
      "  --> Hof464/Elite_88 (IR-3.97|Corr+0.36): rank_mul(ts_top_avg(AMT, 20, 2), ts_cov(ts_xrng_ydif(ts_argmax(ts_corr(turn, bp, 8), 3), HP, 15, 8), ts_rankcorr(DP, ADV20, 9), 5))\n",
      "  --> Hof493/Elite_89 (IR-3.94|Corr+0.34): ts_beta(vol, CP, 6)\n",
      "  --> Hof495/Elite_90 (IR-3.94|Corr+0.48): ts_top_avg(ts_xrng_ydif(ts_xbtm_yavg(ADV20, OCFP, 15, 1), TURN, 15, 1), 30, 7)\n",
      "  --> Hof498/Elite_91 (IR-3.93|Corr+0.56): ts_top_avg(ts_xrng_ydif(hp, amt, 20, 1), 40, 1)\n",
      "  --> Hof499/Elite_92 (IR-3.93|Corr+0.58): div(ts_btm_avg(ts_xtop_yavg(LP, amt, 20, 1), 10, 7), sigmoid(pctchg(VP, 5)))\n",
      "**An EliteGroup(93) has been Selected\n",
      "  --> Cuda Memories of \"gp_inputs\" take 1.9266G\n",
      "  --> Cuda Memories of \"elites\"    take 6.1786G\n",
      "  --> Cuda Memories of \"tensors\"   take 0.0000G\n",
      "**Selection of HallofFame Done, Cost 495.09 Secs, Free CudaMemory 20.07G - > 20.07G\n",
      "==================== Iteration 1 start from Generation 0 ====================\n",
      "-------------------- Residual --------------------\n",
      "  -> Neutra has 93 Elements\n",
      "**Sun Mar 17 21:44:55 2024Cuda Memory: Free 13.9G, Allocated 8.5G, Reserved 8.7G, Re-collect 7.9G Cache!\n",
      "**Update Residual Labels Done, Cost 14.98 Secs, Free CudaMemory 20.07G - > 20.04G\n",
      "-------------------- Setting --------------------\n",
      "**Initialize GP Toolbox Done, Cost 0.00 Secs\n",
      "-------------------- Evolution --------------------\n"
     ]
    },
    {
     "name": "stderr",
     "output_type": "stream",
     "text": [
      "0it [00:00, ?it/s]\n"
     ]
    },
    {
     "name": "stdout",
     "output_type": "stream",
     "text": [
      "**A Population(3000) has been Initialized\n"
     ]
    },
    {
     "name": "stderr",
     "output_type": "stream",
     "text": [
      "  --> Evolve Generation 0 MaxIRres-8.35|MaxIRraw+5.88: 100%|██████████| 3000/3000 [06:58<00:00,  7.18it/s]\n"
     ]
    },
    {
     "name": "stdout",
     "output_type": "stream",
     "text": [
      "  --> Survive 1477 Offsprings, try Populating to 3000 ones\n"
     ]
    },
    {
     "name": "stderr",
     "output_type": "stream",
     "text": [
      "  --> Evolve Generation 1 MaxIRres-8.35|MaxIRraw+5.59: 100%|██████████| 3000/3000 [06:44<00:00,  7.42it/s]\n"
     ]
    },
    {
     "name": "stdout",
     "output_type": "stream",
     "text": [
      "  --> Survive 1446 Offsprings, try Populating to 3000 ones\n"
     ]
    },
    {
     "name": "stderr",
     "output_type": "stream",
     "text": [
      "  --> Evolve Generation 2 MaxIRres-8.35|MaxIRraw-6.45: 100%|██████████| 3000/3000 [06:43<00:00,  7.43it/s]\n"
     ]
    },
    {
     "name": "stdout",
     "output_type": "stream",
     "text": [
      "  --> Survive 1442 Offsprings, try Populating to 3000 ones\n"
     ]
    },
    {
     "name": "stderr",
     "output_type": "stream",
     "text": [
      "  --> Evolve Generation 3 MaxIRres-8.35|MaxIRraw+5.67: 100%|██████████| 3000/3000 [06:35<00:00,  7.59it/s]\n"
     ]
    },
    {
     "name": "stdout",
     "output_type": "stream",
     "text": [
      "  --> Survive 1465 Offsprings, try Populating to 3000 ones\n"
     ]
    },
    {
     "name": "stderr",
     "output_type": "stream",
     "text": [
      "  --> Evolve Generation 4 MaxIRres-8.25|MaxIRraw-5.71: 100%|██████████| 3000/3000 [06:24<00:00,  7.80it/s]\n"
     ]
    },
    {
     "name": "stdout",
     "output_type": "stream",
     "text": [
      "  --> Survive 1462 Offsprings, try Populating to 3000 ones\n"
     ]
    },
    {
     "name": "stderr",
     "output_type": "stream",
     "text": [
      "  --> Evolve Generation 5 MaxIRres-8.35|MaxIRraw-6.10: 100%|██████████| 3000/3000 [06:31<00:00,  7.66it/s]\n"
     ]
    },
    {
     "name": "stdout",
     "output_type": "stream",
     "text": [
      "**A HallofFame(500) has been Evolutionized\n",
      "**6 Generations of Evolution Done, Cost 2401.18 Secs, Free CudaMemory 20.04G - > 20.04G\n",
      "-------------------- Selection --------------------\n",
      "**HallofFame(500) Contains 389 Promising Candidates with RankIR >= 3.00\n",
      "  --> Hof__0/Elite_93 (IR-8.35|Corr+0.00): ts_max(TURN, 9)\n",
      "  --> Hof_47/Elite_94 (IR-7.84|Corr+0.54): sigmoid(power(TURN, 1.06))\n",
      "  --> Hof141/Elite_95 (IR-6.91|Corr+0.60): ts_xbtm_yavg(adv20, ts_top_avg(TURN, 30, 4), 15, 9)\n",
      "  --> Hof180/Elite_96 (IR-6.38|Corr+0.55): rank(ts_xrng_ydif(HP, TURN, 10, 1))\n",
      "  --> Hof204/Elite_97 (IR-5.98|Corr+0.49): ts_top_avg(RTN, 30, 1)\n",
      "  --> Hof264/Elite_98 (IR-5.13|Corr+0.30): ts_dwdif(sqrt(RTN), OCFP, 10)\n",
      "  --> Hof269/Elite_99 (IR-5.03|Corr+0.55): power(ts_rng_dif(rank(pctchg(EP, 1)), 20, 7), 0.16)\n",
      "  --> Hof270/Elite100 (IR-5.01|Corr+0.53): ts_beta(vp, TURN, 6)\n",
      "  --> Hof273/Elite101 (IR-4.94|Corr+0.48): log(ts_xrng_ydif(ADV20, TURN, 20, 1))\n",
      "  --> Hof274/Elite102 (IR-4.93|Corr+0.41): div(ts_dwdif(RTN, DP, 10), ts_argmin(EP, 7))\n",
      "  --> Hof297/Elite103 (IR-4.56|Corr+0.59): ts_top_avg(RTN, 15, 8)\n",
      "  --> Hof301/Elite104 (IR+4.53|Corr-0.54): ma(square(ts_beta(TURN, hp, 4)), 9)\n",
      "  --> Hof306/Elite105 (IR-4.43|Corr+0.54): ts_dwdif(RTN, EP, 30)\n",
      "  --> Hof313/Elite106 (IR-4.35|Corr+0.47): add(adv60, amt)\n",
      "  --> Hof326/Elite107 (IR+4.22|Corr-0.35): ts_dwdif(ep, TURN, 30)\n",
      "  --> Hof330/Elite108 (IR-4.15|Corr+0.46): ma(ts_xrng_ydif(CP, RTN, 40, 4), 20)\n",
      "  --> Hof335/Elite109 (IR+4.12|Corr-0.55): power(rank_div(ts_xrng_ydif(LP, CP, 10, 1), ts_min(TURN, 3)), 0.2)\n",
      "  --> Hof345/Elite110 (IR-4.09|Corr+0.44): ts_rng_dif(pctchg(DP, 1), 20, 1)\n",
      "  --> Hof349/Elite111 (IR-4.08|Corr+0.56): ts_xbtm_yavg(bp, RTN, 15, 1)\n",
      "  --> Hof366/Elite112 (IR-4.03|Corr+0.50): rank_mul(rank_sub(ts_dwdif(BP, OCFP, 10), ts_xtop_yavg(amt, BP, 15, 7)), ts_dwdif(ADV20, DP, 10))\n",
      "  --> Hof370/Elite113 (IR+4.01|Corr-0.50): ts_btm_avg(sub(ts_xbtm_yavg(DP, VOL, 40, 9), ts_beta(ts_rankcorr(ts_xrng_ydif(CP, vol, 10, 1), sigmoid(dp), 2), ts_product(ts_rng_dif(TURN, 30, 7), 2), 9)), 40, 5)\n",
      "  --> Hof380/Elite114 (IR+4.00|Corr-0.60): ts_max(OCFP, 3)\n",
      "  --> Hof424/Elite115 (IR-3.95|Corr+0.49): rank_div(ts_xbtm_yavg(ma(adv20, 15), TURN, 40, 4), dp)\n",
      "  --> Hof457/Elite116 (IR-3.92|Corr+0.49): ts_dwdif(VOL, ADV20, 20)\n",
      "  --> Hof467/Elite117 (IR-3.91|Corr-0.42): rank_add(ts_dwdif(TURN, ADV60, 40), ts_dwdif(sqrt(ocfp), DP, 30))\n",
      "  --> Hof477/Elite118 (IR-3.90|Corr+0.48): rank_mul(ts_xbtm_yavg(ts_corr(DP, EP, 6), TURN, 30, 1), ts_beta(rank_sub(turn, ep), ts_delay(adv20, 6), 2))\n",
      "**An EliteGroup(26) has been Selected\n",
      "  --> Cuda Memories of \"gp_inputs\" take 1.9266G\n",
      "  --> Cuda Memories of \"elites\"    take 1.7273G\n",
      "  --> Cuda Memories of \"tensors\"   take 0.0000G\n",
      "**Selection of HallofFame Done, Cost 44.45 Secs, Free CudaMemory 20.04G - > 20.04G\n",
      "==================== Iteration 2 start from Generation 0 ====================\n",
      "-------------------- Residual --------------------\n",
      "  -> Neutra has 26 Elements\n",
      "**Sun Mar 17 22:25:46 2024Cuda Memory: Free 18.3G, Allocated 4.1G, Reserved 4.2G, Re-collect 2.3G Cache!\n",
      "**Update Residual Labels Done, Cost 5.65 Secs, Free CudaMemory 20.04G - > 20.04G\n",
      "-------------------- Setting --------------------\n",
      "**Initialize GP Toolbox Done, Cost 0.00 Secs\n",
      "-------------------- Evolution --------------------\n"
     ]
    },
    {
     "name": "stderr",
     "output_type": "stream",
     "text": [
      "0it [00:00, ?it/s]\n"
     ]
    },
    {
     "name": "stdout",
     "output_type": "stream",
     "text": [
      "**A Population(3000) has been Initialized\n"
     ]
    },
    {
     "name": "stderr",
     "output_type": "stream",
     "text": [
      "  --> Evolve Generation 0 MaxIRres-8.36|MaxIRraw-6.65: 100%|██████████| 3000/3000 [07:08<00:00,  7.01it/s]\n"
     ]
    },
    {
     "name": "stdout",
     "output_type": "stream",
     "text": [
      "  --> Survive 1442 Offsprings, try Populating to 3000 ones\n"
     ]
    },
    {
     "name": "stderr",
     "output_type": "stream",
     "text": [
      "  --> Evolve Generation 1 MaxIRres-8.36|MaxIRraw-6.59: 100%|██████████| 3000/3000 [06:52<00:00,  7.27it/s]\n"
     ]
    },
    {
     "name": "stdout",
     "output_type": "stream",
     "text": [
      "  --> Survive 1449 Offsprings, try Populating to 3000 ones\n"
     ]
    },
    {
     "name": "stderr",
     "output_type": "stream",
     "text": [
      "  --> Evolve Generation 2 MaxIRres-8.36|MaxIRraw+5.72: 100%|██████████| 3000/3000 [06:34<00:00,  7.60it/s]\n"
     ]
    },
    {
     "name": "stdout",
     "output_type": "stream",
     "text": [
      "  --> Survive 1424 Offsprings, try Populating to 3000 ones\n"
     ]
    },
    {
     "name": "stderr",
     "output_type": "stream",
     "text": [
      "  --> Evolve Generation 3 MaxIRres-8.43|MaxIRraw+6.49: 100%|██████████| 3000/3000 [06:32<00:00,  7.64it/s]\n"
     ]
    },
    {
     "name": "stdout",
     "output_type": "stream",
     "text": [
      "  --> Survive 1452 Offsprings, try Populating to 3000 ones\n"
     ]
    },
    {
     "name": "stderr",
     "output_type": "stream",
     "text": [
      "  --> Evolve Generation 4 MaxIRres-8.36|MaxIRraw-5.86: 100%|██████████| 3000/3000 [06:29<00:00,  7.70it/s]\n"
     ]
    },
    {
     "name": "stdout",
     "output_type": "stream",
     "text": [
      "  --> Survive 1479 Offsprings, try Populating to 3000 ones\n"
     ]
    },
    {
     "name": "stderr",
     "output_type": "stream",
     "text": [
      "  --> Evolve Generation 5 MaxIRres-8.36|MaxIRraw-6.09: 100%|██████████| 3000/3000 [06:32<00:00,  7.65it/s]\n"
     ]
    },
    {
     "name": "stdout",
     "output_type": "stream",
     "text": [
      "**A HallofFame(500) has been Evolutionized\n",
      "**6 Generations of Evolution Done, Cost 2415.51 Secs, Free CudaMemory 20.04G - > 20.04G\n",
      "-------------------- Selection --------------------\n",
      "**HallofFame(500) Contains 254 Promising Candidates with RankIR >= 3.00\n",
      "  --> Hof__0/Elite119 (IR-8.43|Corr+0.00): sub(power(TURN, 1.08), add(ep, op))\n",
      "  --> Hof_38/Elite120 (IR-7.54|Corr+0.49): ts_dwdif(RTN, DP, 40)\n",
      "  --> Hof_53/Elite121 (IR-7.34|Corr+0.57): ts_max(sub(ts_rng_dif(TURN, 30, 7), sign(LP)), 7)\n",
      "  --> Hof_77/Elite122 (IR+7.00|Corr-0.50): ts_beta(TURN, amt, 4)\n",
      "  --> Hof111/Elite123 (IR-6.61|Corr+0.57): rank_div(ts_top_avg(TURN, 40, 9), ts_zscore(EP, 20))\n",
      "  --> Hof128/Elite124 (IR-6.32|Corr+0.57): ts_product(ts_min(TURN, 4), 2)\n",
      "  --> Hof132/Elite125 (IR+6.28|Corr+0.50): div(ts_max(EP, 6), ts_rng_dif(TURN, 15, 1))\n",
      "  --> Hof150/Elite126 (IR+6.08|Corr-0.56): ma(rank_sub(ts_xrng_ydif(vol, bp, 10, 1), ts_dwdif(TURN, ep, 30)), 10)\n",
      "  --> Hof175/Elite127 (IR-5.85|Corr+0.59): ma(ts_xtop_yavg(ts_max(ts_xbtm_yavg(adv20, adv60, 40, 8), 2), TURN, 40, 2), 10)\n",
      "  --> Hof186/Elite128 (IR+5.66|Corr+0.59): rank_sub(ts_xtop_yavg(ADV20, ocfp, 10, 5), ts_dwdif(TURN, RTN, 15))\n",
      "  --> Hof192/Elite129 (IR-5.57|Corr-0.51): ts_dwdif(ts_corr(VOL, CP, 4), ts_xbtm_yavg(CP, DP, 20, 1), 40)\n",
      "  --> Hof195/Elite130 (IR+5.52|Corr-0.56): ma(ts_min(ts_btm_avg(sub(bp, ts_beta(adv20, TURN, 6)), 10, 2), 5), 15)\n",
      "  --> Hof197/Elite131 (IR+5.49|Corr-0.48): rank_sub(div(amt, lp), sqrt(TURN))\n",
      "  --> Hof206/Elite132 (IR-5.35|Corr+0.52): ts_xrng_ydif(CP, TURN, 10, 1)\n",
      "  --> Hof207/Elite133 (IR-5.31|Corr+0.60): ts_stddev(ts_min(TURN, 5), 8)\n",
      "  --> Hof214/Elite134 (IR+5.25|Corr-0.51): rank_sub(log(DP), amt)\n",
      "  --> Hof215/Elite135 (IR-5.24|Corr+0.39): rank_sub(ts_dwdif(TURN, ADV20, 40), ts_min(ts_corr(DP, ocfp, 8), 5))\n",
      "  --> Hof222/Elite136 (IR-5.09|Corr-0.59): ts_xbtm_yavg(EP, log(TURN), 40, 1)\n",
      "  --> Hof225/Elite137 (IR-5.02|Corr+0.46): ts_rng_dif(pctchg(BP, 1), 40, 1)\n",
      "  --> Hof230/Elite138 (IR-4.84|Corr-0.47): sub(turn, log(OCFP))\n",
      "  --> Hof232/Elite139 (IR-4.83|Corr+0.55): ts_dwdif(RTN, OCFP, 30)\n",
      "  --> Hof233/Elite140 (IR-4.82|Corr+0.50): sigmoid(ts_beta(vp, TURN, 7))\n",
      "  --> Hof237/Elite141 (IR-4.76|Corr+0.48): rank_div(ts_xbtm_yavg(ADV60, TURN, 10, 6), ts_xbtm_yavg(ma(ADV60, 20), BP, 20, 9))\n",
      "  --> Hof241/Elite142 (IR+4.73|Corr-0.54): ts_dwdif(DP, pctchg(ADV60, 1), 15)\n",
      "  --> Hof251/Elite143 (IR-4.66|Corr+0.48): ts_xbtm_yavg(BP, RTN, 20, 4)\n",
      "  --> Hof262/Elite144 (IR-4.62|Corr+0.49): ma(log(RTN), 7)\n",
      "  --> Hof267/Elite145 (IR-4.60|Corr+0.60): ts_max(RTN, 8)\n",
      "  --> Hof299/Elite146 (IR+4.48|Corr+0.55): rank_add(ocfp, rank(ts_xbtm_yavg(OCFP, DP, 30, 1)))\n",
      "  --> Hof303/Elite147 (IR+4.47|Corr+0.41): ts_dwdif(ep, TURN, 20)\n",
      "  --> Hof312/Elite148 (IR-4.44|Corr+0.55): rank_mul(ts_min(TURN, 4), ts_xtop_yavg(ADV60, ts_xtop_yavg(RTN, AMT, 40, 1), 40, 1))\n",
      "  --> Hof334/Elite149 (IR-4.37|Corr-0.59): ts_product(ma(TURN, 2), 4)\n",
      "  --> Hof356/Elite150 (IR+4.33|Corr-0.58): ts_min(pctchg(BP, 1), 4)\n",
      "  --> Hof449/Elite151 (IR+4.23|Corr-0.35): ts_max(div(ts_max(TURN, 3), ts_btm_avg(RTN, 10, 1)), 2)\n",
      "  --> Hof473/Elite152 (IR-4.22|Corr+0.49): rank_mul(ma(ts_xbtm_yavg(ts_xtop_yavg(DP, AMT, 10, 1), ts_argmax(AMT, 6), 40, 1), 4), ts_min(TURN, 4))\n",
      "  --> Hof493/Elite153 (IR+4.20|Corr+0.54): rank_mul(rank_div(sub(ts_btm_avg(sqrt(lp), 20, 1), ts_xtop_yavg(ts_xtop_yavg(BP, TURN, 40, 6), TURN, 10, 7)), ts_xbtm_yavg(sign(EP), sub(ma(BP, 40), ts_rankcorr(ocfp, AMT, 9)), 15, 5)), sign(ADV60))\n",
      "**An EliteGroup(35) has been Selected\n",
      "  --> Cuda Memories of \"gp_inputs\" take 1.9266G\n",
      "  --> Cuda Memories of \"elites\"    take 2.3253G\n",
      "  --> Cuda Memories of \"tensors\"   take 0.0000G\n",
      "**Selection of HallofFame Done, Cost 34.35 Secs, Free CudaMemory 20.04G - > 20.04G\n",
      "==================== Iteration 3 start from Generation 0 ====================\n",
      "-------------------- Residual --------------------\n",
      "  -> Neutra has 35 Elements\n",
      "**Sun Mar 17 23:06:43 2024Cuda Memory: Free 17.7G, Allocated 4.7G, Reserved 4.8G, Re-collect 3.0G Cache!\n",
      "**Update Residual Labels Done, Cost 7.47 Secs, Free CudaMemory 20.04G - > 20.04G\n",
      "-------------------- Setting --------------------\n",
      "**Initialize GP Toolbox Done, Cost 0.00 Secs\n",
      "-------------------- Evolution --------------------\n"
     ]
    },
    {
     "name": "stderr",
     "output_type": "stream",
     "text": [
      "0it [00:00, ?it/s]\n"
     ]
    },
    {
     "name": "stdout",
     "output_type": "stream",
     "text": [
      "**A Population(3000) has been Initialized\n"
     ]
    },
    {
     "name": "stderr",
     "output_type": "stream",
     "text": [
      "  --> Evolve Generation 0 MaxIRres-8.22|MaxIRraw+6.53: 100%|██████████| 3000/3000 [07:12<00:00,  6.94it/s]\n"
     ]
    },
    {
     "name": "stdout",
     "output_type": "stream",
     "text": [
      "  --> Survive 1447 Offsprings, try Populating to 3000 ones\n"
     ]
    },
    {
     "name": "stderr",
     "output_type": "stream",
     "text": [
      "  --> Evolve Generation 1 MaxIRres-8.22|MaxIRraw-5.92: 100%|██████████| 3000/3000 [06:51<00:00,  7.28it/s]\n"
     ]
    },
    {
     "name": "stdout",
     "output_type": "stream",
     "text": [
      "  --> Survive 1441 Offsprings, try Populating to 3000 ones\n"
     ]
    },
    {
     "name": "stderr",
     "output_type": "stream",
     "text": [
      "  --> Evolve Generation 2 MaxIRres-8.22|MaxIRraw-6.29: 100%|██████████| 3000/3000 [06:40<00:00,  7.50it/s]\n"
     ]
    },
    {
     "name": "stdout",
     "output_type": "stream",
     "text": [
      "  --> Survive 1437 Offsprings, try Populating to 3000 ones\n"
     ]
    },
    {
     "name": "stderr",
     "output_type": "stream",
     "text": [
      "  --> Evolve Generation 3 MaxIRres-8.22|MaxIRraw+5.74: 100%|██████████| 3000/3000 [06:28<00:00,  7.72it/s]\n"
     ]
    },
    {
     "name": "stdout",
     "output_type": "stream",
     "text": [
      "  --> Survive 1466 Offsprings, try Populating to 3000 ones\n"
     ]
    },
    {
     "name": "stderr",
     "output_type": "stream",
     "text": [
      "  --> Evolve Generation 4 MaxIRres-8.04|MaxIRraw+5.74: 100%|██████████| 3000/3000 [06:25<00:00,  7.78it/s]\n"
     ]
    },
    {
     "name": "stdout",
     "output_type": "stream",
     "text": [
      "  --> Survive 1466 Offsprings, try Populating to 3000 ones\n"
     ]
    },
    {
     "name": "stderr",
     "output_type": "stream",
     "text": [
      "  --> Evolve Generation 5 MaxIRres-8.04|MaxIRraw+5.74: 100%|██████████| 3000/3000 [06:26<00:00,  7.76it/s]\n"
     ]
    },
    {
     "name": "stdout",
     "output_type": "stream",
     "text": [
      "**A HallofFame(500) has been Evolutionized\n",
      "**6 Generations of Evolution Done, Cost 2411.29 Secs, Free CudaMemory 20.04G - > 20.04G\n",
      "-------------------- Selection --------------------\n",
      "**HallofFame(500) Contains 324 Promising Candidates with RankIR >= 3.00\n",
      "  --> Hof__0/Elite154 (IR-8.22|Corr+0.00): ts_dwdif(RTN, DP, 40)\n",
      "  --> Hof__8/Elite155 (IR-7.79|Corr+0.58): rank(ma(TURN, 9))\n",
      "  --> Hof118/Elite156 (IR-6.49|Corr+0.58): ts_max(RTN, 8)\n",
      "  --> Hof157/Elite157 (IR-6.11|Corr+0.43): div(ts_rng_dif(RTN, 15, 3), ts_rankcorr(HP, log(LP), 7))\n",
      "  --> Hof186/Elite158 (IR-5.81|Corr+0.56): ts_rng_dif(pctchg(BP, 1), 20, 1)\n",
      "  --> Hof200/Elite159 (IR-5.47|Corr+0.56): ts_dwdif(ts_top_avg(TURN, 40, 1), VOL, 30)\n",
      "  --> Hof222/Elite160 (IR-5.26|Corr+0.47): ts_stddev(ts_beta(ts_rankcorr(AMT, ts_rng_dif(ts_xrng_ydif(RTN, HP, 10, 9), 20, 7), 2), RTN, 6), 9)\n",
      "  --> Hof228/Elite161 (IR-5.21|Corr+0.56): ts_min(ts_xbtm_yavg(EP, TURN, 15, 1), 8)\n",
      "  --> Hof251/Elite162 (IR+5.07|Corr-0.57): ts_xrng_ydif(BP, TURN, 10, 7)\n",
      "  --> Hof257/Elite163 (IR-5.05|Corr+0.58): rank_mul(ts_beta(ocfp, hp, 7), ts_top_avg(TURN, 20, 5))\n",
      "  --> Hof280/Elite164 (IR-4.98|Corr+0.52): ts_xbtm_yavg(BP, RTN, 20, 9)\n",
      "  --> Hof303/Elite165 (IR-4.73|Corr+0.48): ts_xrng_ydif(RTN, TURN, 40, 7)\n",
      "  --> Hof305/Elite166 (IR+4.71|Corr-0.27): ts_dwdif(ts_xtop_yavg(vol, OCFP, 10, 8), ts_argmin(OCFP, 8), 20)\n",
      "  --> Hof309/Elite167 (IR-4.69|Corr+0.52): ts_rng_dif(ts_xtop_yavg(ts_xbtm_yavg(ts_xrng_ydif(EP, RTN, 10, 1), ts_corr(TURN, ts_rng_dif(vp, 10, 1), 6), 15, 1), ts_top_avg(TURN, 30, 8), 10, 9), 10, 7)\n",
      "  --> Hof314/Elite168 (IR+4.67|Corr-0.43): rank_mul(ts_btm_avg(DP, 30, 1), ts_max(OCFP, 4))\n",
      "  --> Hof334/Elite169 (IR+4.61|Corr+0.53): ts_max(OCFP, 4)\n",
      "  --> Hof371/Elite170 (IR+4.54|Corr-0.45): rank_add(ts_min(EP, 7), rank_sub(ep, amt))\n",
      "  --> Hof497/Elite171 (IR-4.41|Corr+0.56): ts_delay(add(ts_top_avg(RTN, 15, 1), ts_delta(ts_beta(AMT, add(adv20, cp), 3), 2)), 9)\n",
      "**An EliteGroup(18) has been Selected\n",
      "  --> Cuda Memories of \"gp_inputs\" take 1.9266G\n",
      "  --> Cuda Memories of \"elites\"    take 1.1959G\n",
      "  --> Cuda Memories of \"tensors\"   take 0.0000G\n",
      "**Selection of HallofFame Done, Cost 33.23 Secs, Free CudaMemory 20.04G - > 20.04G\n",
      "==================== Iteration 4 start from Generation 0 ====================\n",
      "-------------------- Residual --------------------\n",
      "  -> Neutra has 18 Elements\n",
      "**Sun Mar 17 23:47:33 2024Cuda Memory: Free 18.8G, Allocated 3.5G, Reserved 3.7G, Re-collect 1.6G Cache!\n",
      "**Update Residual Labels Done, Cost 4.96 Secs, Free CudaMemory 20.04G - > 20.04G\n",
      "-------------------- Setting --------------------\n",
      "**Initialize GP Toolbox Done, Cost 0.00 Secs\n",
      "-------------------- Evolution --------------------\n"
     ]
    },
    {
     "name": "stderr",
     "output_type": "stream",
     "text": [
      "0it [00:00, ?it/s]\n"
     ]
    },
    {
     "name": "stdout",
     "output_type": "stream",
     "text": [
      "**A Population(3000) has been Initialized\n"
     ]
    },
    {
     "name": "stderr",
     "output_type": "stream",
     "text": [
      "  --> Evolve Generation 0 MaxIRres-8.28|MaxIRraw+6.18: 100%|██████████| 3000/3000 [07:13<00:00,  6.92it/s]\n"
     ]
    },
    {
     "name": "stdout",
     "output_type": "stream",
     "text": [
      "  --> Survive 1423 Offsprings, try Populating to 3000 ones\n"
     ]
    },
    {
     "name": "stderr",
     "output_type": "stream",
     "text": [
      "  --> Evolve Generation 1 MaxIRres-8.28|MaxIRraw+6.18: 100%|██████████| 3000/3000 [06:53<00:00,  7.26it/s]\n"
     ]
    },
    {
     "name": "stdout",
     "output_type": "stream",
     "text": [
      "  --> Survive 1465 Offsprings, try Populating to 3000 ones\n"
     ]
    },
    {
     "name": "stderr",
     "output_type": "stream",
     "text": [
      "  --> Evolve Generation 2 MaxIRres-8.13|MaxIRraw+6.18: 100%|██████████| 3000/3000 [06:38<00:00,  7.52it/s]\n"
     ]
    },
    {
     "name": "stdout",
     "output_type": "stream",
     "text": [
      "  --> Survive 1443 Offsprings, try Populating to 3000 ones\n"
     ]
    },
    {
     "name": "stderr",
     "output_type": "stream",
     "text": [
      "  --> Evolve Generation 3 MaxIRres-8.22|MaxIRraw+6.18: 100%|██████████| 3000/3000 [06:26<00:00,  7.77it/s]\n"
     ]
    },
    {
     "name": "stdout",
     "output_type": "stream",
     "text": [
      "  --> Survive 1490 Offsprings, try Populating to 3000 ones\n"
     ]
    },
    {
     "name": "stderr",
     "output_type": "stream",
     "text": [
      "  --> Evolve Generation 4 MaxIRres-8.26|MaxIRraw+5.57: 100%|██████████| 3000/3000 [06:24<00:00,  7.81it/s]\n"
     ]
    },
    {
     "name": "stdout",
     "output_type": "stream",
     "text": [
      "  --> Survive 1482 Offsprings, try Populating to 3000 ones\n"
     ]
    },
    {
     "name": "stderr",
     "output_type": "stream",
     "text": [
      "  --> Evolve Generation 5 MaxIRres-8.16|MaxIRraw-5.51: 100%|██████████| 3000/3000 [06:22<00:00,  7.85it/s]\n"
     ]
    },
    {
     "name": "stdout",
     "output_type": "stream",
     "text": [
      "**A HallofFame(500) has been Evolutionized\n",
      "**6 Generations of Evolution Done, Cost 2406.87 Secs, Free CudaMemory 20.04G - > 20.04G\n",
      "-------------------- Selection --------------------\n",
      "**HallofFame(500) Contains 262 Promising Candidates with RankIR >= 3.00\n",
      "  --> Hof__0/Elite172 (IR-8.28|Corr+0.00): ts_top_avg(TURN, 10, 7)\n",
      "  --> Hof139/Elite173 (IR-6.42|Corr+0.50): ts_max(RTN, 8)\n",
      "  --> Hof151/Elite174 (IR+6.33|Corr-0.46): rank_div(ts_max(LP, 4), ts_dwdif(TURN, cp, 40))\n",
      "  --> Hof154/Elite175 (IR-6.30|Corr+0.60): power(ts_top_avg(ts_max(RTN, 7), 20, 1), 0.6)\n",
      "  --> Hof216/Elite176 (IR+5.52|Corr+0.43): ts_xbtm_yavg(AMT, ts_dwdif(ts_argmax(ts_corr(DP, power(DP, 0.06), 4), 6), TURN, 30), 15, 2)\n",
      "  --> Hof226/Elite177 (IR+5.39|Corr-0.55): sub(ts_dwdif(ADV60, RTN, 40), ts_dwdif(TURN, ep, 10))\n",
      "  --> Hof246/Elite178 (IR+5.19|Corr+0.28): rank_add(ts_zscore(EP, 10), ts_xtop_yavg(AMT, EP, 30, 1))\n",
      "  --> Hof247/Elite179 (IR+5.19|Corr+0.32): ts_dwdif(ts_dwdif(ADV60, HP, 10), ts_beta(TURN, CP, 6), 15)\n",
      "  --> Hof257/Elite180 (IR+5.13|Corr+0.54): rank_add(ep, ts_xbtm_yavg(dp, DP, 10, 6))\n",
      "  --> Hof258/Elite181 (IR-5.13|Corr+0.59): ma(ts_beta(vp, TURN, 9), 40)\n",
      "  --> Hof377/Elite182 (IR-4.82|Corr+0.20): ts_dwdif(RTN, ts_xtop_yavg(ep, OCFP, 10, 7), 20)\n",
      "  --> Hof387/Elite183 (IR+4.80|Corr+0.60): ts_dwdif(ts_xtop_yavg(DP, log(sqrt(HP)), 20, 9), TURN, 40)\n",
      "  --> Hof432/Elite184 (IR-4.64|Corr+0.58): mul(sign(ts_xtop_yavg(power(ocfp, 1.02), ts_rng_dif(adv20, 10, 7), 40, 1)), log(TURN))\n",
      "  --> Hof436/Elite185 (IR-4.62|Corr+0.54): ts_rng_dif(ts_rng_dif(ts_xtop_yavg(HP, TURN, 40, 1), 10, 9), 40, 7)\n",
      "  --> Hof439/Elite186 (IR-4.59|Corr+0.59): ts_xbtm_yavg(ts_beta(VOL, EP, 8), TURN, 40, 1)\n",
      "  --> Hof471/Elite187 (IR+4.49|Corr-0.52): add(rank(ts_delay(sub(ts_argmax(OCFP, 5), ts_xtop_yavg(OCFP, TURN, 15, 1)), 1)), ts_xbtm_yavg(ts_corr(pctchg(RTN, 8), TURN, 8), BP, 15, 1))\n",
      "  --> Hof475/Elite188 (IR-4.45|Corr+0.56): ts_dwdif(RTN, ts_xrng_ydif(OCFP, RTN, 15, 8), 15)\n",
      "  --> Hof482/Elite189 (IR-4.45|Corr+0.60): square(ts_xtop_yavg(ts_corr(TURN, OCFP, 8), power(TURN, 0.52), 30, 1))\n",
      "  --> Hof486/Elite190 (IR-4.43|Corr+0.54): rank_add(rank_div(ts_btm_avg(ts_xbtm_yavg(ADV20, HP, 15, 1), 15, 1), ts_corr(BP, ts_rng_dif(EP, 30, 1), 4)), ts_btm_avg(TURN, 20, 3))\n",
      "**An EliteGroup(19) has been Selected\n",
      "  --> Cuda Memories of \"gp_inputs\" take 1.9266G\n",
      "  --> Cuda Memories of \"elites\"    take 1.2623G\n",
      "  --> Cuda Memories of \"tensors\"   take 0.0000G\n",
      "**Selection of HallofFame Done, Cost 34.96 Secs, Free CudaMemory 20.04G - > 20.04G\n",
      "==================== Total Time Cost :3 hours 31.9 ====================\n",
      "   Residual  Setting  Evolution  Selection  AvgVarAnd  AvgCompile  AvgEval        All\n",
      "0    0.1438   0.0024  2403.0189   495.0869     0.0489     0.0001    0.0187  2898.3035\n",
      "1   14.9769   0.0028  2401.1772    44.4475     0.0297     0.0001    0.0186  2460.6438\n",
      "2    5.6462   0.0019  2415.5117    34.3531     0.0513     0.0001    0.0197  2455.5575\n",
      "3    7.4742   0.0017  2411.2902    33.2333     0.0292     0.0001    0.0186  2452.0254\n",
      "4    4.9639   0.0018  2406.8695    34.9579     0.0537     0.0001    0.0186  2446.8383\n",
      "  --> Avg Freed Cuda Memory: \n",
      "  --> factor : 363 counts, on average freed 8.02G\n",
      "  --> corr : 277 counts, on average freed 11.82G\n"
     ]
    }
   ],
   "source": [
    "# 真实测试，job_id=-1代表在新的pop的子文件夹中保存结果，如果强制要求在已有文件夹基础上继续训练，代码可能要再修改\n",
    "from gp_main import main\n",
    "profiler = main(job_id= 2 , start_iter=0 , start_gen=0 , test_code = False , noWith = True)"
   ]
  },
  {
   "cell_type": "code",
   "execution_count": 1,
   "metadata": {},
   "outputs": [
    {
     "name": "stdout",
     "output_type": "stream",
     "text": [
      "**Job Directory is : \"./pop/2\"\n",
      "-------------------- Data --------------------\n",
      "**Load Data Done, Cost 1.94 Secs\n"
     ]
    }
   ],
   "source": [
    "# gpGenerator用来读取job_dir里的内容,计算得到任意表达式的公式对应的因子,并计算加权后的多因子结果\n",
    "from gp_main import gpGenerator\n",
    "GP = gpGenerator('2')"
   ]
  },
  {
   "cell_type": "code",
   "execution_count": 2,
   "metadata": {},
   "outputs": [
    {
     "name": "stdout",
     "output_type": "stream",
     "text": [
      "gpGenerator -> process_key : inf_winsor_norm , syntax : ts_rank(CP,10)\n"
     ]
    },
    {
     "data": {
      "text/plain": [
       "tensor([[    nan,     nan,     nan,  ...,     nan,     nan,     nan],\n",
       "        [    nan,     nan,     nan,  ...,     nan,     nan,     nan],\n",
       "        [    nan,     nan,     nan,  ...,     nan,     nan,     nan],\n",
       "        ...,\n",
       "        [ 0.0339,  0.0285,  0.0231,  ..., -0.0149, -0.0149, -0.0095],\n",
       "        [ 0.0371,  0.0304,  0.0103,  ..., -0.0097, -0.0030, -0.0097],\n",
       "        [ 0.0103,  0.0103,  0.0103,  ...,  0.0103,  0.0103,  0.0103]],\n",
       "       device='cuda:0')"
      ]
     },
     "execution_count": 2,
     "metadata": {},
     "output_type": "execute_result"
    }
   ],
   "source": [
    "# 计算因子值\n",
    "factor = GP('ts_rank(CP,10)')\n",
    "factor.value"
   ]
  },
  {
   "cell_type": "code",
   "execution_count": 2,
   "metadata": {},
   "outputs": [
    {
     "name": "stdout",
     "output_type": "stream",
     "text": [
      "gpGenerator -> process_key : inf_winsor_norm , syntax : ts_beta(cp,TURN,9)\n",
      "gpGenerator -> process_key : inf_winsor_norm , syntax : ts_xrng_ydif(BP,TURN,15,5)\n",
      "gpGenerator -> process_key : inf_winsor_norm , syntax : ts_beta(vp,TURN,4)\n",
      "gpGenerator -> process_key : inf_winsor_norm , syntax : ts_xrng_ydif(CP,AMT,10,1)\n",
      "gpGenerator -> process_key : inf_winsor_norm , syntax : ts_stddev(sqrt(TURN),4)\n",
      "gpGenerator -> process_key : inf_winsor_norm , syntax : log(log(TURN))\n",
      "gpGenerator -> process_key : inf_winsor_norm , syntax : ts_beta(ep,TURN,8)\n",
      "gpGenerator -> process_key : inf_winsor_norm , syntax : ts_beta(BP,ts_xtop_yavg(ADV60,TURN,10,1),9)\n",
      "gpGenerator -> process_key : inf_winsor_norm , syntax : ts_beta(sigmoid(add(vp,hp)),VOL,9)\n",
      "gpGenerator -> process_key : inf_winsor_norm , syntax : ts_beta(EP,TURN,5)\n",
      "gpGenerator -> process_key : inf_winsor_norm , syntax : log(ts_xtop_yavg(TURN,ts_xrng_ydif(ts_cov(rank_add(vol,turn),ts_rng_dif(VP,15,1),6),TURN,20,3),30,1))\n",
      "gpGenerator -> process_key : inf_winsor_norm , syntax : ts_beta(cp,VOL,4)\n",
      "gpGenerator -> process_key : inf_winsor_norm , syntax : rank_div(sign(LP),ts_rng_dif(TURN,30,1))\n",
      "gpGenerator -> process_key : inf_winsor_norm , syntax : ts_beta(dp,TURN,6)\n",
      "gpGenerator -> process_key : inf_winsor_norm , syntax : rank_sub(ts_xbtm_yavg(BP,TURN,15,2),ts_corr(BP,adv20,5))\n",
      "gpGenerator -> process_key : inf_winsor_norm , syntax : log(ts_xrng_ydif(HP,VOL,15,6))\n",
      "gpGenerator -> process_key : inf_winsor_norm , syntax : sigmoid(ts_xrng_ydif(sqrt(EP),TURN,40,6))\n",
      "gpGenerator -> process_key : inf_winsor_norm , syntax : ts_xrng_ydif(LP,VOL,10,2)\n",
      "gpGenerator -> process_key : inf_winsor_norm , syntax : ts_beta(hp,AMT,3)\n",
      "gpGenerator -> process_key : inf_winsor_norm , syntax : ts_rng_dif(ts_xrng_ydif(ADV20,TURN,40,8),10,1)\n",
      "gpGenerator -> process_key : inf_winsor_norm , syntax : ts_dwdif(ts_xrng_ydif(lp,DP,30,1),ts_rankcorr(vp,AMT,3),20)\n",
      "gpGenerator -> process_key : inf_winsor_norm , syntax : ts_rankcorr(AMT,CP,9)\n",
      "gpGenerator -> process_key : inf_winsor_norm , syntax : rank_mul(ts_xtop_yavg(turn,hp,30,1),sqrt(TURN))\n",
      "gpGenerator -> process_key : inf_winsor_norm , syntax : ts_beta(lp,AMT,7)\n",
      "gpGenerator -> process_key : inf_winsor_norm , syntax : ts_beta(vol,TURN,2)\n",
      "gpGenerator -> process_key : inf_winsor_norm , syntax : ts_xrng_ydif(BP,VOL,30,1)\n",
      "gpGenerator -> process_key : inf_winsor_norm , syntax : add(ts_xbtm_yavg(ts_corr(ADV20,BP,6),TURN,15,3),ts_xtop_yavg(OCFP,ts_argmin(ts_xrng_ydif(lp,hp,20,3),6),10,1))\n",
      "gpGenerator -> process_key : inf_winsor_norm , syntax : mul(pctchg(ADV60,7),ts_xbtm_yavg(ts_dw(log(amt),6),VP,10,7))\n",
      "gpGenerator -> process_key : inf_winsor_norm , syntax : ts_xrng_ydif(HP,vol,10,1)\n",
      "gpGenerator -> process_key : inf_winsor_norm , syntax : rank_add(ts_xrng_ydif(AMT,VP,10,9),power(adv20,1.02))\n",
      "gpGenerator -> process_key : inf_winsor_norm , syntax : ts_corr(HP,TURN,9)\n",
      "gpGenerator -> process_key : inf_winsor_norm , syntax : ts_beta(HP,TURN,5)\n",
      "gpGenerator -> process_key : inf_winsor_norm , syntax : rank_add(ts_rng_dif(AMT,10,6),square(ts_argmax(CP,5)))\n",
      "gpGenerator -> process_key : inf_winsor_norm , syntax : ts_dwdif(TURN,ADV20,10)\n",
      "gpGenerator -> process_key : inf_winsor_norm , syntax : ts_max(ts_xrng_ydif(rank(rank_sub(hp,dp)),VOL,15,8),7)\n",
      "gpGenerator -> process_key : inf_winsor_norm , syntax : ts_xrng_ydif(VOL,VP,15,1)\n",
      "gpGenerator -> process_key : inf_winsor_norm , syntax : rank_mul(rank_sub(vol,turn),ts_top_avg(turn,30,1))\n",
      "gpGenerator -> process_key : inf_winsor_norm , syntax : rank_add(ma(TURN,3),ts_rank(ts_cov(ts_cov(turn,ocfp,3),ts_min(amt,9),5),7))\n",
      "gpGenerator -> process_key : inf_winsor_norm , syntax : ts_beta(BP,turn,7)\n",
      "gpGenerator -> process_key : inf_winsor_norm , syntax : ts_xrng_ydif(OCFP,TURN,10,1)\n",
      "gpGenerator -> process_key : inf_winsor_norm , syntax : rank_sub(ts_xtop_yavg(ts_xrng_ydif(DP,ma(EP,30),40,8),VP,30,7),ma(TURN,10))\n",
      "gpGenerator -> process_key : inf_winsor_norm , syntax : ts_top_avg(RTN,30,1)\n",
      "gpGenerator -> process_key : inf_winsor_norm , syntax : ts_dwdif(pctchg(AMT,15),ts_max(ts_xrng_ydif(RTN,square(ts_delay(amt,2)),30,7),4),40)\n",
      "gpGenerator -> process_key : inf_winsor_norm , syntax : ts_xbtm_yavg(RTN,ts_xrng_ydif(lp,amt,10,1),30,1)\n",
      "gpGenerator -> process_key : inf_winsor_norm , syntax : ts_xbtm_yavg(BP,amt,40,1)\n",
      "gpGenerator -> process_key : inf_winsor_norm , syntax : ts_xbtm_yavg(sub(sign(HP),amt),RTN,20,1)\n",
      "gpGenerator -> process_key : inf_winsor_norm , syntax : rank_sub(ts_dwdif(HP,ADV60,20),log(OP))\n",
      "gpGenerator -> process_key : inf_winsor_norm , syntax : ma(log(vol),40)\n",
      "gpGenerator -> process_key : inf_winsor_norm , syntax : ts_xbtm_yavg(ADV20,ts_xrng_ydif(hp,TURN,15,1),30,5)\n",
      "gpGenerator -> process_key : inf_winsor_norm , syntax : ts_xrng_ydif(RTN,VOL,30,5)\n",
      "gpGenerator -> process_key : inf_winsor_norm , syntax : rank_div(ts_top_avg(ts_xrng_ydif(VOL,TURN,40,1),20,1),ts_top_avg(ts_rng_dif(ts_xrng_ydif(BP,ts_max(adv20,5),40,8),15,1),20,8))\n",
      "gpGenerator -> process_key : inf_winsor_norm , syntax : rank_add(ts_corr(CP,TURN,7),ts_beta(turn,ocfp,5))\n",
      "gpGenerator -> process_key : inf_winsor_norm , syntax : ts_beta(ts_argmin(BP,9),TURN,4)\n",
      "gpGenerator -> process_key : inf_winsor_norm , syntax : add(ts_rankcorr(AMT,amt,5),ts_xtop_yavg(op,vol,40,1))\n",
      "gpGenerator -> process_key : inf_winsor_norm , syntax : rank_sub(ma(TURN,5),ts_corr(ts_xtop_yavg(ma(lp,30),ts_dwdif(HP,op,15),40,1),ts_dwdif(VP,ts_cov(vp,hp,3),10),7))\n",
      "gpGenerator -> process_key : inf_winsor_norm , syntax : ts_top_avg(ts_xrng_ydif(hp,amt,20,1),10,1)\n",
      "gpGenerator -> process_key : inf_winsor_norm , syntax : ts_xbtm_yavg(EP,mul(amt,vol),20,8)\n",
      "gpGenerator -> process_key : inf_winsor_norm , syntax : ts_dwdif(VOL,ADV60,10)\n",
      "gpGenerator -> process_key : inf_winsor_norm , syntax : ts_dwdif(RTN,ma(DP,15),10)\n",
      "gpGenerator -> process_key : inf_winsor_norm , syntax : ts_xrng_ydif(DP,TURN,10,1)\n",
      "gpGenerator -> process_key : inf_winsor_norm , syntax : ts_xbtm_yavg(ts_corr(OCFP,TURN,8),TURN,30,1)\n",
      "gpGenerator -> process_key : inf_winsor_norm , syntax : ts_beta(hp,amt,7)\n",
      "gpGenerator -> process_key : inf_winsor_norm , syntax : ts_top_avg(pctchg(ADV20,1),30,1)\n",
      "gpGenerator -> process_key : inf_winsor_norm , syntax : sqrt(ts_max(pctchg(ADV20,1),8))\n",
      "gpGenerator -> process_key : inf_winsor_norm , syntax : ts_max(AMT,4)\n",
      "gpGenerator -> process_key : inf_winsor_norm , syntax : ts_beta(power(OP,0.28),ts_dwdif(AMT,adv20,10),9)\n",
      "gpGenerator -> process_key : inf_winsor_norm , syntax : ts_xbtm_yavg(ts_xbtm_yavg(vp,BP,20,4),TURN,20,1)\n",
      "gpGenerator -> process_key : inf_winsor_norm , syntax : rank_div(ts_xrng_ydif(OCFP,ts_zscore(LP,15),40,5),ts_rng_dif(TURN,10,4))\n",
      "gpGenerator -> process_key : inf_winsor_norm , syntax : rank_add(ts_min(TURN,3),adv60)\n",
      "gpGenerator -> process_key : inf_winsor_norm , syntax : ts_beta(log(LP),VOL,6)\n",
      "gpGenerator -> process_key : inf_winsor_norm , syntax : ts_dwdif(ts_delta(ts_xtop_yavg(ts_xrng_ydif(bp,BP,10,1),ADV20,20,1),6),OCFP,20)\n",
      "gpGenerator -> process_key : inf_winsor_norm , syntax : rank_add(ts_top_avg(ts_xbtm_yavg(ts_xbtm_yavg(ADV60,lp,30,3),ADV20,30,1),20,1),mul(pctchg(VP,20),ts_rank(ts_xbtm_yavg(LP,adv60,10,2),3)))\n",
      "gpGenerator -> process_key : inf_winsor_norm , syntax : ts_xrng_ydif(TURN,OP,10,1)\n",
      "gpGenerator -> process_key : inf_winsor_norm , syntax : ma(sqrt(adv20),9)\n",
      "gpGenerator -> process_key : inf_winsor_norm , syntax : ts_beta(ocfp,TURN,5)\n",
      "gpGenerator -> process_key : inf_winsor_norm , syntax : rank_mul(sign(ts_argmin(BP,6)),sqrt(VOL))\n",
      "gpGenerator -> process_key : inf_winsor_norm , syntax : ts_dwdif(RTN,OCFP,15)\n",
      "gpGenerator -> process_key : inf_winsor_norm , syntax : rank_sub(sigmoid(ocfp),square(turn))\n",
      "gpGenerator -> process_key : inf_winsor_norm , syntax : ts_xrng_ydif(CP,AMT,40,7)\n",
      "gpGenerator -> process_key : inf_winsor_norm , syntax : ma(ts_xrng_ydif(bp,amt,30,2),15)\n",
      "gpGenerator -> process_key : inf_winsor_norm , syntax : ts_xbtm_yavg(dp,amt,10,1)\n",
      "gpGenerator -> process_key : inf_winsor_norm , syntax : sub(amt,ts_corr(vol,dp,3))\n",
      "gpGenerator -> process_key : inf_winsor_norm , syntax : ts_top_avg(ts_zscore(RTN,20),40,1)\n",
      "gpGenerator -> process_key : inf_winsor_norm , syntax : ts_rng_dif(log(ADV20),10,1)\n",
      "gpGenerator -> process_key : inf_winsor_norm , syntax : ma(ts_xtop_yavg(OP,pctchg(OP,1),30,4),8)\n",
      "gpGenerator -> process_key : inf_winsor_norm , syntax : ts_xbtm_yavg(RTN,ts_xrng_ydif(TURN,vp,15,6),15,1)\n",
      "gpGenerator -> process_key : inf_winsor_norm , syntax : ts_top_avg(rank(turn),15,1)\n",
      "gpGenerator -> process_key : inf_winsor_norm , syntax : rank_mul(ts_xbtm_yavg(ts_xbtm_yavg(ts_product(vp,7),adv60,40,1),RTN,30,1),ts_xbtm_yavg(ADV60,TURN,15,4))\n",
      "gpGenerator -> process_key : inf_winsor_norm , syntax : rank_mul(ts_top_avg(AMT,20,2),ts_cov(ts_xrng_ydif(ts_argmax(ts_corr(turn,bp,8),3),HP,15,8),ts_rankcorr(DP,ADV20,9),5))\n",
      "gpGenerator -> process_key : inf_winsor_norm , syntax : ts_beta(vol,CP,6)\n",
      "gpGenerator -> process_key : inf_winsor_norm , syntax : ts_top_avg(ts_xrng_ydif(ts_xbtm_yavg(ADV20,OCFP,15,1),TURN,15,1),30,7)\n",
      "gpGenerator -> process_key : inf_winsor_norm , syntax : ts_top_avg(ts_xrng_ydif(hp,amt,20,1),40,1)\n",
      "gpGenerator -> process_key : inf_winsor_norm , syntax : div(ts_btm_avg(ts_xtop_yavg(LP,amt,20,1),10,7),sigmoid(pctchg(VP,5)))\n",
      "gpGenerator -> process_key : inf_winsor_norm , syntax : ts_max(TURN,9)\n",
      "gpGenerator -> process_key : inf_winsor_norm , syntax : sigmoid(power(TURN,1.06))\n",
      "gpGenerator -> process_key : inf_winsor_norm , syntax : ts_xbtm_yavg(adv20,ts_top_avg(TURN,30,4),15,9)\n",
      "gpGenerator -> process_key : inf_winsor_norm , syntax : rank(ts_xrng_ydif(HP,TURN,10,1))\n",
      "gpGenerator -> process_key : inf_winsor_norm , syntax : ts_top_avg(RTN,30,1)\n",
      "gpGenerator -> process_key : inf_winsor_norm , syntax : ts_dwdif(sqrt(RTN),OCFP,10)\n",
      "gpGenerator -> process_key : inf_winsor_norm , syntax : power(ts_rng_dif(rank(pctchg(EP,1)),20,7),0.16)\n",
      "gpGenerator -> process_key : inf_winsor_norm , syntax : ts_beta(vp,TURN,6)\n",
      "gpGenerator -> process_key : inf_winsor_norm , syntax : log(ts_xrng_ydif(ADV20,TURN,20,1))\n",
      "gpGenerator -> process_key : inf_winsor_norm , syntax : div(ts_dwdif(RTN,DP,10),ts_argmin(EP,7))\n",
      "gpGenerator -> process_key : inf_winsor_norm , syntax : ts_top_avg(RTN,15,8)\n",
      "gpGenerator -> process_key : inf_winsor_norm , syntax : ma(square(ts_beta(TURN,hp,4)),9)\n",
      "gpGenerator -> process_key : inf_winsor_norm , syntax : ts_dwdif(RTN,EP,30)\n",
      "gpGenerator -> process_key : inf_winsor_norm , syntax : add(adv60,amt)\n",
      "gpGenerator -> process_key : inf_winsor_norm , syntax : ts_dwdif(ep,TURN,30)\n",
      "gpGenerator -> process_key : inf_winsor_norm , syntax : ma(ts_xrng_ydif(CP,RTN,40,4),20)\n",
      "gpGenerator -> process_key : inf_winsor_norm , syntax : power(rank_div(ts_xrng_ydif(LP,CP,10,1),ts_min(TURN,3)),0.2)\n",
      "gpGenerator -> process_key : inf_winsor_norm , syntax : ts_rng_dif(pctchg(DP,1),20,1)\n",
      "gpGenerator -> process_key : inf_winsor_norm , syntax : ts_xbtm_yavg(bp,RTN,15,1)\n",
      "gpGenerator -> process_key : inf_winsor_norm , syntax : rank_mul(rank_sub(ts_dwdif(BP,OCFP,10),ts_xtop_yavg(amt,BP,15,7)),ts_dwdif(ADV20,DP,10))\n",
      "gpGenerator -> process_key : inf_winsor_norm , syntax : ts_btm_avg(sub(ts_xbtm_yavg(DP,VOL,40,9),ts_beta(ts_rankcorr(ts_xrng_ydif(CP,vol,10,1),sigmoid(dp),2),ts_product(ts_rng_dif(TURN,30,7),2),9)),40,5)\n",
      "gpGenerator -> process_key : inf_winsor_norm , syntax : ts_max(OCFP,3)\n",
      "gpGenerator -> process_key : inf_winsor_norm , syntax : rank_div(ts_xbtm_yavg(ma(adv20,15),TURN,40,4),dp)\n",
      "gpGenerator -> process_key : inf_winsor_norm , syntax : ts_dwdif(VOL,ADV20,20)\n",
      "gpGenerator -> process_key : inf_winsor_norm , syntax : rank_add(ts_dwdif(TURN,ADV60,40),ts_dwdif(sqrt(ocfp),DP,30))\n",
      "gpGenerator -> process_key : inf_winsor_norm , syntax : rank_mul(ts_xbtm_yavg(ts_corr(DP,EP,6),TURN,30,1),ts_beta(rank_sub(turn,ep),ts_delay(adv20,6),2))\n",
      "gpGenerator -> process_key : inf_winsor_norm , syntax : sub(power(TURN,1.08),add(ep,op))\n",
      "gpGenerator -> process_key : inf_winsor_norm , syntax : ts_dwdif(RTN,DP,40)\n",
      "gpGenerator -> process_key : inf_winsor_norm , syntax : ts_max(sub(ts_rng_dif(TURN,30,7),sign(LP)),7)\n",
      "gpGenerator -> process_key : inf_winsor_norm , syntax : ts_beta(TURN,amt,4)\n",
      "gpGenerator -> process_key : inf_winsor_norm , syntax : rank_div(ts_top_avg(TURN,40,9),ts_zscore(EP,20))\n",
      "gpGenerator -> process_key : inf_winsor_norm , syntax : ts_product(ts_min(TURN,4),2)\n",
      "gpGenerator -> process_key : inf_winsor_norm , syntax : div(ts_max(EP,6),ts_rng_dif(TURN,15,1))\n",
      "gpGenerator -> process_key : inf_winsor_norm , syntax : ma(rank_sub(ts_xrng_ydif(vol,bp,10,1),ts_dwdif(TURN,ep,30)),10)\n",
      "gpGenerator -> process_key : inf_winsor_norm , syntax : ma(ts_xtop_yavg(ts_max(ts_xbtm_yavg(adv20,adv60,40,8),2),TURN,40,2),10)\n",
      "gpGenerator -> process_key : inf_winsor_norm , syntax : rank_sub(ts_xtop_yavg(ADV20,ocfp,10,5),ts_dwdif(TURN,RTN,15))\n",
      "gpGenerator -> process_key : inf_winsor_norm , syntax : ts_dwdif(ts_corr(VOL,CP,4),ts_xbtm_yavg(CP,DP,20,1),40)\n",
      "gpGenerator -> process_key : inf_winsor_norm , syntax : ma(ts_min(ts_btm_avg(sub(bp,ts_beta(adv20,TURN,6)),10,2),5),15)\n",
      "gpGenerator -> process_key : inf_winsor_norm , syntax : rank_sub(div(amt,lp),sqrt(TURN))\n",
      "gpGenerator -> process_key : inf_winsor_norm , syntax : ts_xrng_ydif(CP,TURN,10,1)\n",
      "gpGenerator -> process_key : inf_winsor_norm , syntax : ts_stddev(ts_min(TURN,5),8)\n",
      "gpGenerator -> process_key : inf_winsor_norm , syntax : rank_sub(log(DP),amt)\n",
      "gpGenerator -> process_key : inf_winsor_norm , syntax : rank_sub(ts_dwdif(TURN,ADV20,40),ts_min(ts_corr(DP,ocfp,8),5))\n",
      "gpGenerator -> process_key : inf_winsor_norm , syntax : ts_xbtm_yavg(EP,log(TURN),40,1)\n",
      "gpGenerator -> process_key : inf_winsor_norm , syntax : ts_rng_dif(pctchg(BP,1),40,1)\n",
      "gpGenerator -> process_key : inf_winsor_norm , syntax : sub(turn,log(OCFP))\n",
      "gpGenerator -> process_key : inf_winsor_norm , syntax : ts_dwdif(RTN,OCFP,30)\n",
      "gpGenerator -> process_key : inf_winsor_norm , syntax : sigmoid(ts_beta(vp,TURN,7))\n",
      "gpGenerator -> process_key : inf_winsor_norm , syntax : rank_div(ts_xbtm_yavg(ADV60,TURN,10,6),ts_xbtm_yavg(ma(ADV60,20),BP,20,9))\n",
      "gpGenerator -> process_key : inf_winsor_norm , syntax : ts_dwdif(DP,pctchg(ADV60,1),15)\n",
      "gpGenerator -> process_key : inf_winsor_norm , syntax : ts_xbtm_yavg(BP,RTN,20,4)\n",
      "gpGenerator -> process_key : inf_winsor_norm , syntax : ma(log(RTN),7)\n",
      "gpGenerator -> process_key : inf_winsor_norm , syntax : ts_max(RTN,8)\n",
      "gpGenerator -> process_key : inf_winsor_norm , syntax : rank_add(ocfp,rank(ts_xbtm_yavg(OCFP,DP,30,1)))\n",
      "gpGenerator -> process_key : inf_winsor_norm , syntax : ts_dwdif(ep,TURN,20)\n",
      "gpGenerator -> process_key : inf_winsor_norm , syntax : rank_mul(ts_min(TURN,4),ts_xtop_yavg(ADV60,ts_xtop_yavg(RTN,AMT,40,1),40,1))\n",
      "gpGenerator -> process_key : inf_winsor_norm , syntax : ts_product(ma(TURN,2),4)\n",
      "gpGenerator -> process_key : inf_winsor_norm , syntax : ts_min(pctchg(BP,1),4)\n",
      "gpGenerator -> process_key : inf_winsor_norm , syntax : ts_max(div(ts_max(TURN,3),ts_btm_avg(RTN,10,1)),2)\n",
      "gpGenerator -> process_key : inf_winsor_norm , syntax : rank_mul(ma(ts_xbtm_yavg(ts_xtop_yavg(DP,AMT,10,1),ts_argmax(AMT,6),40,1),4),ts_min(TURN,4))\n",
      "gpGenerator -> process_key : inf_winsor_norm , syntax : rank_mul(rank_div(sub(ts_btm_avg(sqrt(lp),20,1),ts_xtop_yavg(ts_xtop_yavg(BP,TURN,40,6),TURN,10,7)),ts_xbtm_yavg(sign(EP),sub(ma(BP,40),ts_rankcorr(ocfp,AMT,9)),15,5)),sign(ADV60))\n",
      "gpGenerator -> process_key : inf_winsor_norm , syntax : ts_dwdif(RTN,DP,40)\n",
      "gpGenerator -> process_key : inf_winsor_norm , syntax : rank(ma(TURN,9))\n",
      "gpGenerator -> process_key : inf_winsor_norm , syntax : ts_max(RTN,8)\n",
      "gpGenerator -> process_key : inf_winsor_norm , syntax : div(ts_rng_dif(RTN,15,3),ts_rankcorr(HP,log(LP),7))\n",
      "gpGenerator -> process_key : inf_winsor_norm , syntax : ts_rng_dif(pctchg(BP,1),20,1)\n",
      "gpGenerator -> process_key : inf_winsor_norm , syntax : ts_dwdif(ts_top_avg(TURN,40,1),VOL,30)\n",
      "gpGenerator -> process_key : inf_winsor_norm , syntax : ts_stddev(ts_beta(ts_rankcorr(AMT,ts_rng_dif(ts_xrng_ydif(RTN,HP,10,9),20,7),2),RTN,6),9)\n",
      "gpGenerator -> process_key : inf_winsor_norm , syntax : ts_min(ts_xbtm_yavg(EP,TURN,15,1),8)\n",
      "gpGenerator -> process_key : inf_winsor_norm , syntax : ts_xrng_ydif(BP,TURN,10,7)\n",
      "gpGenerator -> process_key : inf_winsor_norm , syntax : rank_mul(ts_beta(ocfp,hp,7),ts_top_avg(TURN,20,5))\n",
      "gpGenerator -> process_key : inf_winsor_norm , syntax : ts_xbtm_yavg(BP,RTN,20,9)\n",
      "gpGenerator -> process_key : inf_winsor_norm , syntax : ts_xrng_ydif(RTN,TURN,40,7)\n",
      "gpGenerator -> process_key : inf_winsor_norm , syntax : ts_dwdif(ts_xtop_yavg(vol,OCFP,10,8),ts_argmin(OCFP,8),20)\n",
      "gpGenerator -> process_key : inf_winsor_norm , syntax : ts_rng_dif(ts_xtop_yavg(ts_xbtm_yavg(ts_xrng_ydif(EP,RTN,10,1),ts_corr(TURN,ts_rng_dif(vp,10,1),6),15,1),ts_top_avg(TURN,30,8),10,9),10,7)\n",
      "gpGenerator -> process_key : inf_winsor_norm , syntax : rank_mul(ts_btm_avg(DP,30,1),ts_max(OCFP,4))\n",
      "gpGenerator -> process_key : inf_winsor_norm , syntax : ts_max(OCFP,4)\n",
      "gpGenerator -> process_key : inf_winsor_norm , syntax : rank_add(ts_min(EP,7),rank_sub(ep,amt))\n",
      "gpGenerator -> process_key : inf_winsor_norm , syntax : ts_delay(add(ts_top_avg(RTN,15,1),ts_delta(ts_beta(AMT,add(adv20,cp),3),2)),9)\n",
      "gpGenerator -> process_key : inf_winsor_norm , syntax : ts_top_avg(TURN,10,7)\n",
      "gpGenerator -> process_key : inf_winsor_norm , syntax : ts_max(RTN,8)\n",
      "gpGenerator -> process_key : inf_winsor_norm , syntax : rank_div(ts_max(LP,4),ts_dwdif(TURN,cp,40))\n",
      "gpGenerator -> process_key : inf_winsor_norm , syntax : power(ts_top_avg(ts_max(RTN,7),20,1),0.6)\n",
      "gpGenerator -> process_key : inf_winsor_norm , syntax : ts_xbtm_yavg(AMT,ts_dwdif(ts_argmax(ts_corr(DP,power(DP,0.06),4),6),TURN,30),15,2)\n",
      "gpGenerator -> process_key : inf_winsor_norm , syntax : sub(ts_dwdif(ADV60,RTN,40),ts_dwdif(TURN,ep,10))\n",
      "gpGenerator -> process_key : inf_winsor_norm , syntax : rank_add(ts_zscore(EP,10),ts_xtop_yavg(AMT,EP,30,1))\n",
      "gpGenerator -> process_key : inf_winsor_norm , syntax : ts_dwdif(ts_dwdif(ADV60,HP,10),ts_beta(TURN,CP,6),15)\n",
      "gpGenerator -> process_key : inf_winsor_norm , syntax : rank_add(ep,ts_xbtm_yavg(dp,DP,10,6))\n",
      "gpGenerator -> process_key : inf_winsor_norm , syntax : ma(ts_beta(vp,TURN,9),40)\n",
      "gpGenerator -> process_key : inf_winsor_norm , syntax : ts_dwdif(RTN,ts_xtop_yavg(ep,OCFP,10,7),20)\n",
      "gpGenerator -> process_key : inf_winsor_norm , syntax : ts_dwdif(ts_xtop_yavg(DP,log(sqrt(HP)),20,9),TURN,40)\n",
      "gpGenerator -> process_key : inf_winsor_norm , syntax : mul(sign(ts_xtop_yavg(power(ocfp,1.02),ts_rng_dif(adv20,10,7),40,1)),log(TURN))\n",
      "gpGenerator -> process_key : inf_winsor_norm , syntax : ts_rng_dif(ts_rng_dif(ts_xtop_yavg(HP,TURN,40,1),10,9),40,7)\n",
      "gpGenerator -> process_key : inf_winsor_norm , syntax : ts_xbtm_yavg(ts_beta(VOL,EP,8),TURN,40,1)\n",
      "gpGenerator -> process_key : inf_winsor_norm , syntax : add(rank(ts_delay(sub(ts_argmax(OCFP,5),ts_xtop_yavg(OCFP,TURN,15,1)),1)),ts_xbtm_yavg(ts_corr(pctchg(RTN,8),TURN,8),BP,15,1))\n",
      "gpGenerator -> process_key : inf_winsor_norm , syntax : ts_dwdif(RTN,ts_xrng_ydif(OCFP,RTN,15,8),15)\n",
      "gpGenerator -> process_key : inf_winsor_norm , syntax : square(ts_xtop_yavg(ts_corr(TURN,OCFP,8),power(TURN,0.52),30,1))\n",
      "gpGenerator -> process_key : inf_winsor_norm , syntax : rank_add(rank_div(ts_btm_avg(ts_xbtm_yavg(ADV20,HP,15,1),15,1),ts_corr(BP,ts_rng_dif(EP,30,1),4)),ts_btm_avg(TURN,20,3))\n",
      "Load 191 Elites\n"
     ]
    }
   ],
   "source": [
    "# 直接得到所有的elites(重新计算)\n",
    "hof_elites = GP.entire_elites(verbose = True , process_key='inf_winsor_norm')"
   ]
  },
  {
   "cell_type": "code",
   "execution_count": 19,
   "metadata": {},
   "outputs": [
    {
     "name": "stdout",
     "output_type": "stream",
     "text": [
      "OutofMemory when compiling elite tensor, try use cpu to concat\n"
     ]
    }
   ],
   "source": [
    "elite_tensor = hof_elites.compile_elite_tensor()"
   ]
  },
  {
   "cell_type": "code",
   "execution_count": 16,
   "metadata": {},
   "outputs": [
    {
     "data": {
      "text/plain": [
       "device(type='cpu')"
      ]
     },
     "execution_count": 16,
     "metadata": {},
     "output_type": "execute_result"
    }
   ],
   "source": [
    "hof_elites.container[3].data.device"
   ]
  },
  {
   "cell_type": "code",
   "execution_count": 7,
   "metadata": {},
   "outputs": [
    {
     "data": {
      "text/plain": [
       "torch.Size([3423, 5210, 191])"
      ]
     },
     "execution_count": 7,
     "metadata": {},
     "output_type": "execute_result"
    }
   ],
   "source": [
    "elite_tensor"
   ]
  },
  {
   "cell_type": "code",
   "execution_count": 4,
   "metadata": {},
   "outputs": [
    {
     "name": "stderr",
     "output_type": "stream",
     "text": [
      "  0%|          | 0/18336 [00:00<?, ?it/s]"
     ]
    },
    {
     "name": "stderr",
     "output_type": "stream",
     "text": [
      "  1%|▏         | 240/18336 [00:41<51:45,  5.83it/s]  \n"
     ]
    },
    {
     "ename": "KeyboardInterrupt",
     "evalue": "",
     "output_type": "error",
     "traceback": [
      "\u001b[0;31m---------------------------------------------------------------------------\u001b[0m",
      "\u001b[0;31mKeyboardInterrupt\u001b[0m                         Traceback (most recent call last)",
      "Cell \u001b[0;32mIn[4], line 2\u001b[0m\n\u001b[1;32m      1\u001b[0m \u001b[38;5;66;03m# 所有elites的相关矩阵(截面,历史平均)\u001b[39;00m\n\u001b[0;32m----> 2\u001b[0m \u001b[43mhof_elites\u001b[49m\u001b[38;5;241;43m.\u001b[39;49m\u001b[43mcorrmat_of_all\u001b[49m\u001b[43m(\u001b[49m\u001b[43m)\u001b[49m\n",
      "File \u001b[0;32m~/Workspace/learngp/gp_utils.py:829\u001b[0m, in \u001b[0;36mgpEliteGroup.corrmat_of_all\u001b[0;34m(self)\u001b[0m\n\u001b[1;32m    827\u001b[0m \u001b[38;5;28;01mif\u001b[39;00m j_blk_last \u001b[38;5;241m!=\u001b[39m j_blk: \n\u001b[1;32m    828\u001b[0m     \u001b[38;5;28mself\u001b[39m\u001b[38;5;241m.\u001b[39mcontainer[j_blk_last]\u001b[38;5;241m.\u001b[39mdata_to_device(\u001b[38;5;124m'\u001b[39m\u001b[38;5;124mcpu\u001b[39m\u001b[38;5;124m'\u001b[39m , inplace \u001b[38;5;241m=\u001b[39m \u001b[38;5;28;01mTrue\u001b[39;00m)\n\u001b[0;32m--> 829\u001b[0m     \u001b[38;5;28;43mself\u001b[39;49m\u001b[38;5;241;43m.\u001b[39;49m\u001b[43mcontainer\u001b[49m\u001b[43m[\u001b[49m\u001b[43mj_blk\u001b[49m\u001b[43m]\u001b[49m\u001b[38;5;241;43m.\u001b[39;49m\u001b[43mdata_to_device\u001b[49m\u001b[43m(\u001b[49m\u001b[38;5;28;43mself\u001b[39;49m\u001b[38;5;241;43m.\u001b[39;49m\u001b[43mdevice\u001b[49m\u001b[43m \u001b[49m\u001b[43m,\u001b[49m\u001b[43m \u001b[49m\u001b[43minplace\u001b[49m\u001b[43m \u001b[49m\u001b[38;5;241;43m=\u001b[39;49m\u001b[43m \u001b[49m\u001b[38;5;28;43;01mTrue\u001b[39;49;00m\u001b[43m)\u001b[49m\n\u001b[1;32m    830\u001b[0m     j_blk_last \u001b[38;5;241m=\u001b[39m j_blk\n\u001b[1;32m    832\u001b[0m corr \u001b[38;5;241m=\u001b[39m MF\u001b[38;5;241m.\u001b[39mcorrwith(\u001b[38;5;28mself\u001b[39m\u001b[38;5;241m.\u001b[39mcontainer[i_blk]\u001b[38;5;241m.\u001b[39mselect(i_pos)\u001b[38;5;241m.\u001b[39mto(\u001b[38;5;28mself\u001b[39m\u001b[38;5;241m.\u001b[39mdevice) , \u001b[38;5;28mself\u001b[39m\u001b[38;5;241m.\u001b[39mcontainer[j_blk]\u001b[38;5;241m.\u001b[39mselect(j_pos)\u001b[38;5;241m.\u001b[39mto(\u001b[38;5;28mself\u001b[39m\u001b[38;5;241m.\u001b[39mdevice) , dim\u001b[38;5;241m=\u001b[39m\u001b[38;5;241m-\u001b[39m\u001b[38;5;241m1\u001b[39m)\n",
      "File \u001b[0;32m~/Workspace/learngp/gp_utils.py:896\u001b[0m, in \u001b[0;36mgpEliteBlock.data_to_device\u001b[0;34m(self, device, inplace)\u001b[0m\n\u001b[1;32m    894\u001b[0m     data \u001b[38;5;241m=\u001b[39m \u001b[38;5;28mself\u001b[39m\u001b[38;5;241m.\u001b[39mdata\u001b[38;5;241m.\u001b[39mcpu()\n\u001b[1;32m    895\u001b[0m \u001b[38;5;28;01melse\u001b[39;00m:\n\u001b[0;32m--> 896\u001b[0m     data \u001b[38;5;241m=\u001b[39m \u001b[38;5;28;43mself\u001b[39;49m\u001b[38;5;241;43m.\u001b[39;49m\u001b[43mdata\u001b[49m\u001b[38;5;241;43m.\u001b[39;49m\u001b[43mto\u001b[49m\u001b[43m(\u001b[49m\u001b[43mdevice\u001b[49m\u001b[43m)\u001b[49m\n\u001b[1;32m    897\u001b[0m \u001b[38;5;28;01mif\u001b[39;00m inplace: \u001b[38;5;28mself\u001b[39m\u001b[38;5;241m.\u001b[39mdata \u001b[38;5;241m=\u001b[39m data\n\u001b[1;32m    898\u001b[0m \u001b[38;5;28;01mreturn\u001b[39;00m \u001b[38;5;28mself\u001b[39m\u001b[38;5;241m.\u001b[39mdata\n",
      "\u001b[0;31mKeyboardInterrupt\u001b[0m: "
     ]
    }
   ],
   "source": [
    "# 所有elites的相关矩阵(截面,历史平均)\n",
    "hof_elites.corrmat_of_all()"
   ]
  },
  {
   "cell_type": "code",
   "execution_count": 20,
   "metadata": {},
   "outputs": [
    {
     "ename": "OutOfMemoryError",
     "evalue": "CUDA out of memory. Tried to allocate 12.69 GiB. GPU 0 has a total capacty of 23.65 GiB of which 8.27 GiB is free. Including non-PyTorch memory, this process has 15.36 GiB memory in use. Of the allocated memory 14.85 GiB is allocated by PyTorch, and 65.41 MiB is reserved by PyTorch but unallocated. If reserved but unallocated memory is large try setting max_split_size_mb to avoid fragmentation.  See documentation for Memory Management and PYTORCH_CUDA_ALLOC_CONF",
     "output_type": "error",
     "traceback": [
      "\u001b[0;31m---------------------------------------------------------------------------\u001b[0m",
      "\u001b[0;31mOutOfMemoryError\u001b[0m                          Traceback (most recent call last)",
      "Cell \u001b[0;32mIn[20], line 2\u001b[0m\n\u001b[1;32m      1\u001b[0m \u001b[38;5;66;03m# 构成所有elites的多因子\u001b[39;00m\n\u001b[0;32m----> 2\u001b[0m multi \u001b[38;5;241m=\u001b[39m \u001b[43mGP\u001b[49m\u001b[38;5;241;43m.\u001b[39;49m\u001b[43mmulti_elite_factor\u001b[49m\u001b[43m(\u001b[49m\u001b[43melite_tensor\u001b[49m\u001b[43m \u001b[49m\u001b[43m,\u001b[49m\u001b[43m \u001b[49m\u001b[43mverbose\u001b[49m\u001b[38;5;241;43m=\u001b[39;49m\u001b[38;5;28;43;01mTrue\u001b[39;49;00m\u001b[43m)\u001b[49m\n\u001b[1;32m      3\u001b[0m multi\u001b[38;5;241m.\u001b[39mvalue\n",
      "File \u001b[0;32m~/Workspace/learngp/gp_main.py:865\u001b[0m, in \u001b[0;36mgpGenerator.multi_elite_factor\u001b[0;34m(self, elites, verbose, process_key, weight_scheme, window_type, weight_decay, ir_window, roll_window, halflife, min_coverage, **kwargs)\u001b[0m\n\u001b[1;32m    863\u001b[0m     elites \u001b[38;5;241m=\u001b[39m elites\u001b[38;5;241m.\u001b[39mcompile_elite_tensor()\n\u001b[1;32m    864\u001b[0m \u001b[38;5;28;01massert\u001b[39;00m \u001b[38;5;28misinstance\u001b[39m(elites , torch\u001b[38;5;241m.\u001b[39mTensor) , \u001b[38;5;28mtype\u001b[39m(elites)\n\u001b[0;32m--> 865\u001b[0m multi \u001b[38;5;241m=\u001b[39m \u001b[38;5;28;43mself\u001b[39;49m\u001b[38;5;241;43m.\u001b[39;49m\u001b[43mmulti_factor\u001b[49m\u001b[43m(\u001b[49m\n\u001b[1;32m    866\u001b[0m \u001b[43m    \u001b[49m\u001b[43melites\u001b[49m\u001b[43m \u001b[49m\u001b[43m,\u001b[49m\u001b[43m \u001b[49m\u001b[43mlabels\u001b[49m\u001b[43m \u001b[49m\u001b[38;5;241;43m=\u001b[39;49m\u001b[43m \u001b[49m\u001b[38;5;28;43mself\u001b[39;49m\u001b[38;5;241;43m.\u001b[39;49m\u001b[43mgp_space\u001b[49m\u001b[38;5;241;43m.\u001b[39;49m\u001b[43mtensors\u001b[49m\u001b[38;5;241;43m.\u001b[39;49m\u001b[43mlabels_raw\u001b[49m\u001b[43m \u001b[49m\u001b[43m,\u001b[49m\u001b[43m \u001b[49m\n\u001b[1;32m    867\u001b[0m \u001b[43m    \u001b[49m\u001b[43mweight_scheme\u001b[49m\u001b[43m \u001b[49m\u001b[38;5;241;43m=\u001b[39;49m\u001b[43m \u001b[49m\u001b[43mweight_scheme\u001b[49m\u001b[43m \u001b[49m\u001b[43m,\u001b[49m\u001b[43m \u001b[49m\u001b[43mwindow_type\u001b[49m\u001b[43m \u001b[49m\u001b[38;5;241;43m=\u001b[39;49m\u001b[43m \u001b[49m\u001b[43mwindow_type\u001b[49m\u001b[43m \u001b[49m\u001b[43m,\u001b[49m\u001b[43mweight_decay\u001b[49m\u001b[43m \u001b[49m\u001b[38;5;241;43m=\u001b[39;49m\u001b[43m \u001b[49m\u001b[43mweight_decay\u001b[49m\u001b[43m \u001b[49m\u001b[43m,\u001b[49m\n\u001b[1;32m    868\u001b[0m \u001b[43m    \u001b[49m\u001b[43mir_window\u001b[49m\u001b[43m \u001b[49m\u001b[38;5;241;43m=\u001b[39;49m\u001b[43m \u001b[49m\u001b[43mir_window\u001b[49m\u001b[43m \u001b[49m\u001b[43m,\u001b[49m\u001b[43m \u001b[49m\u001b[43mroll_window\u001b[49m\u001b[43m \u001b[49m\u001b[38;5;241;43m=\u001b[39;49m\u001b[43m \u001b[49m\u001b[43mroll_window\u001b[49m\u001b[43m \u001b[49m\u001b[43m,\u001b[49m\u001b[43m \u001b[49m\u001b[43mhalflife\u001b[49m\u001b[43m \u001b[49m\u001b[38;5;241;43m=\u001b[39;49m\u001b[43m \u001b[49m\u001b[43mhalflife\u001b[49m\u001b[43m \u001b[49m\u001b[43m,\u001b[49m\u001b[43m \u001b[49m\u001b[43mmin_coverage\u001b[49m\u001b[43m \u001b[49m\u001b[38;5;241;43m=\u001b[39;49m\u001b[43m \u001b[49m\u001b[43mmin_coverage\u001b[49m\u001b[43m \u001b[49m\u001b[43m,\u001b[49m\u001b[43m \u001b[49m\u001b[38;5;241;43m*\u001b[39;49m\u001b[38;5;241;43m*\u001b[39;49m\u001b[43mkwargs\u001b[49m\u001b[43m)\u001b[49m\n\u001b[1;32m    869\u001b[0m \u001b[38;5;28;01mreturn\u001b[39;00m multi\n",
      "File \u001b[0;32m~/Workspace/learngp/gp_main.py:842\u001b[0m, in \u001b[0;36mgpGenerator.multi_factor\u001b[0;34m(self, labels, *factors, **kwargs)\u001b[0m\n\u001b[1;32m    840\u001b[0m \u001b[38;5;28;01mif\u001b[39;00m labels \u001b[38;5;129;01mis\u001b[39;00m \u001b[38;5;28;01mNone\u001b[39;00m: labels \u001b[38;5;241m=\u001b[39m \u001b[38;5;28mself\u001b[39m\u001b[38;5;241m.\u001b[39mgp_space\u001b[38;5;241m.\u001b[39mtensors\u001b[38;5;241m.\u001b[39mlabels_raw\n\u001b[1;32m    841\u001b[0m metrics \u001b[38;5;241m=\u001b[39m \u001b[38;5;28mself\u001b[39m\u001b[38;5;241m.\u001b[39mEnsembler\u001b[38;5;241m.\u001b[39mcalculate_icir(factor , labels , \u001b[38;5;241m*\u001b[39m\u001b[38;5;241m*\u001b[39mkwargs) \u001b[38;5;66;03m# ic,ir\u001b[39;00m\n\u001b[0;32m--> 842\u001b[0m multi \u001b[38;5;241m=\u001b[39m \u001b[38;5;28;43mself\u001b[39;49m\u001b[38;5;241;43m.\u001b[39;49m\u001b[43mEnsembler\u001b[49m\u001b[38;5;241;43m.\u001b[39;49m\u001b[43mmulti_factor\u001b[49m\u001b[43m(\u001b[49m\u001b[43mfactor\u001b[49m\u001b[43m \u001b[49m\u001b[43m,\u001b[49m\u001b[43m \u001b[49m\u001b[38;5;241;43m*\u001b[39;49m\u001b[38;5;241;43m*\u001b[39;49m\u001b[43mmetrics\u001b[49m\u001b[43m \u001b[49m\u001b[43m,\u001b[49m\u001b[43m \u001b[49m\u001b[38;5;241;43m*\u001b[39;49m\u001b[38;5;241;43m*\u001b[39;49m\u001b[43mkwargs\u001b[49m\u001b[43m)\u001b[49m\n\u001b[1;32m    843\u001b[0m \u001b[38;5;28;01mreturn\u001b[39;00m multi\n",
      "File \u001b[0;32m~/Workspace/learngp/gp_factor_func.py:244\u001b[0m, in \u001b[0;36mMultiFactor.multi_factor\u001b[0;34m(self, factor, window_type, **kwargs)\u001b[0m\n\u001b[1;32m    242\u001b[0m \u001b[38;5;28;01mdef\u001b[39;00m \u001b[38;5;21mmulti_factor\u001b[39m(\u001b[38;5;28mself\u001b[39m , factor , window_type \u001b[38;5;241m=\u001b[39m \u001b[38;5;28;01mNone\u001b[39;00m , \u001b[38;5;241m*\u001b[39m\u001b[38;5;241m*\u001b[39mkwargs):\n\u001b[1;32m    243\u001b[0m     weight \u001b[38;5;241m=\u001b[39m \u001b[38;5;28mself\u001b[39m\u001b[38;5;241m.\u001b[39mfactor_weight(window_type , \u001b[38;5;241m*\u001b[39m\u001b[38;5;241m*\u001b[39mkwargs)\n\u001b[0;32m--> 244\u001b[0m     multi \u001b[38;5;241m=\u001b[39m (\u001b[43mfactor\u001b[49m\u001b[43m \u001b[49m\u001b[38;5;241;43m*\u001b[39;49m\u001b[43m \u001b[49m\u001b[43mweight\u001b[49m)\u001b[38;5;241m.\u001b[39mnanmean(\u001b[38;5;241m-\u001b[39m\u001b[38;5;241m1\u001b[39m)\n\u001b[1;32m    245\u001b[0m     multi \u001b[38;5;241m=\u001b[39m MF\u001b[38;5;241m.\u001b[39mzscore(multi , \u001b[38;5;241m-\u001b[39m\u001b[38;5;241m1\u001b[39m)\n\u001b[1;32m    246\u001b[0m     \u001b[38;5;28;01mreturn\u001b[39;00m MultiFactorValue(value \u001b[38;5;241m=\u001b[39m multi , weight \u001b[38;5;241m=\u001b[39m weight , inputs \u001b[38;5;241m=\u001b[39m factor)\n",
      "\u001b[0;31mOutOfMemoryError\u001b[0m: CUDA out of memory. Tried to allocate 12.69 GiB. GPU 0 has a total capacty of 23.65 GiB of which 8.27 GiB is free. Including non-PyTorch memory, this process has 15.36 GiB memory in use. Of the allocated memory 14.85 GiB is allocated by PyTorch, and 65.41 MiB is reserved by PyTorch but unallocated. If reserved but unallocated memory is large try setting max_split_size_mb to avoid fragmentation.  See documentation for Memory Management and PYTORCH_CUDA_ALLOC_CONF"
     ]
    }
   ],
   "source": [
    "# 构成所有elites的多因子\n",
    "multi = GP.multi_elite_factor(elite_tensor , verbose=True)\n",
    "multi.value"
   ]
  },
  {
   "cell_type": "code",
   "execution_count": 21,
   "metadata": {},
   "outputs": [
    {
     "ename": "KeyError",
     "evalue": "",
     "output_type": "error",
     "traceback": [
      "\u001b[0;31m---------------------------------------------------------------------------\u001b[0m",
      "\u001b[0;31mKeyError\u001b[0m                                  Traceback (most recent call last)",
      "Cell \u001b[0;32mIn[21], line 2\u001b[0m\n\u001b[1;32m      1\u001b[0m \u001b[38;5;28;01mtry\u001b[39;00m:\n\u001b[0;32m----> 2\u001b[0m     \u001b[38;5;28;01mraise\u001b[39;00m \u001b[38;5;167;01mKeyError\u001b[39;00m\n\u001b[1;32m      3\u001b[0m \u001b[38;5;28;01mexcept\u001b[39;00m \u001b[38;5;167;01mValueError\u001b[39;00m \u001b[38;5;28;01mas\u001b[39;00m e:\n\u001b[1;32m      4\u001b[0m     \u001b[38;5;28mprint\u001b[39m(e)\n",
      "\u001b[0;31mKeyError\u001b[0m: "
     ]
    }
   ],
   "source": [
    "try:\n",
    "    raise KeyError\n",
    "except ValueError as e:\n",
    "    print(e)\n",
    "    "
   ]
  },
  {
   "cell_type": "code",
   "execution_count": null,
   "metadata": {},
   "outputs": [],
   "source": []
  }
 ],
 "metadata": {
  "kernelspec": {
   "display_name": "base",
   "language": "python",
   "name": "python3"
  },
  "language_info": {
   "codemirror_mode": {
    "name": "ipython",
    "version": 3
   },
   "file_extension": ".py",
   "mimetype": "text/x-python",
   "name": "python",
   "nbconvert_exporter": "python",
   "pygments_lexer": "ipython3",
   "version": "3.10.12"
  }
 },
 "nbformat": 4,
 "nbformat_minor": 2
}
