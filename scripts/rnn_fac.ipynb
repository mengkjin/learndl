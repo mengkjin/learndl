{
 "cells": [
  {
   "cell_type": "code",
   "execution_count": 1,
   "metadata": {},
   "outputs": [],
   "source": [
    "import pytimedinput"
   ]
  },
  {
   "cell_type": "code",
   "execution_count": 4,
   "id": "e173460f-7d63-4491-bee2-f5390e8032e9",
   "metadata": {
    "tags": []
   },
   "outputs": [
    {
     "name": "stderr",
     "output_type": "stream",
     "text": [
      "\u001b[1m\u001b[37m\u001b[41m23-11-09 00:13:41|MOD:gen_data    |\u001b[0m: \u001b[1m\u001b[31mData loading start!\u001b[0m\n"
     ]
    },
    {
     "name": "stdout",
     "output_type": "stream",
     "text": [
      "Preparing day_trading_data data...\n",
      "arr shape : (5264, 6202, 1, 6) , row shape : (5264,) , col shape : (6202,)\n",
      "Preparing day_ylabels_data data...\n",
      "arr shape : (5249, 6191, 1, 2) , row shape : (5249,) , col shape : (6191,)\n",
      "Preparing 15m_trading_data data...\n"
     ]
    },
    {
     "name": "stderr",
     "output_type": "stream",
     "text": [
      "\u001b[1m\u001b[37m\u001b[45m23-11-09 00:20:02|MOD:gen_data    |\u001b[0m: \u001b[1m\u001b[35m[day] Data avg and std generation start!\u001b[0m\n"
     ]
    },
    {
     "name": "stdout",
     "output_type": "stream",
     "text": [
      "arr shape : (5204, 3302, 16, 6) , row shape : (5204,) , col shape : (3302,)\n",
      "Loading day trading data finished, cost 5.64 Secs\n",
      "torch.Size([5264, 920, 1, 6])\n"
     ]
    },
    {
     "name": "stderr",
     "output_type": "stream",
     "text": [
      "\u001b[1m\u001b[37m\u001b[45m23-11-09 00:20:19|MOD:gen_data    |\u001b[0m: \u001b[1m\u001b[35m[15m] Data avg and std generation start!\u001b[0m\n"
     ]
    },
    {
     "name": "stdout",
     "output_type": "stream",
     "text": [
      "Loading 15m trading data finished, cost 45.60 Secs\n",
      "torch.Size([5204, 340, 1, 6])\n"
     ]
    },
    {
     "name": "stderr",
     "output_type": "stream",
     "text": [
      "\u001b[1m\u001b[37m\u001b[41m23-11-09 00:21:36|MOD:gen_data    |\u001b[0m: \u001b[1m\u001b[31mData loading Finished! Cost 475.09 Seconds\u001b[0m\n"
     ]
    }
   ],
   "source": [
    "%run gen_data.py"
   ]
  },
  {
   "cell_type": "code",
   "execution_count": 11,
   "metadata": {},
   "outputs": [],
   "source": [
    "a = torch.rand(10000,1024)\n",
    "n = torch.nn.Sequential(*[torch.nn.Linear(1024,1024) for _ in range(10)])\n",
    "y = n(a)"
   ]
  },
  {
   "cell_type": "code",
   "execution_count": 13,
   "metadata": {},
   "outputs": [],
   "source": [
    "a = torch.rand(10000,1024).to(torch.device('cuda:0'))\n",
    "n = torch.nn.Sequential(*[torch.nn.Linear(1024,1024) for _ in range(10)]).to(torch.device('cuda:0'))\n",
    "y = n(a)"
   ]
  },
  {
   "cell_type": "code",
   "execution_count": 5,
   "id": "352d70f2-fad6-447b-9ca3-f4804f0ce801",
   "metadata": {},
   "outputs": [
    {
     "name": "stderr",
     "output_type": "stream",
     "text": [
      "\u001b[1m\u001b[37m\u001b[41m23-11-09 00:26:34|MOD:run_model   |\u001b[0m: \u001b[1m\u001b[31mProcess Queue : Data + Train + Test + Instance\u001b[0m\n",
      "\u001b[1m\u001b[37m\u001b[41m23-11-09 00:26:34|MOD:run_model   |\u001b[0m: \u001b[1m\u001b[31mDirectories of [GeneralRNN_day] deletion Confirmed!\u001b[0m\n",
      "\u001b[1m\u001b[37m\u001b[41m23-11-09 00:26:34|MOD:run_model   |\u001b[0m: \u001b[1m\u001b[31mStart Process [Load Data]!\u001b[0m\n",
      "\u001b[1m\u001b[37m\u001b[41m23-11-09 00:26:43|MOD:run_model   |\u001b[0m: \u001b[1m\u001b[31mFinish Process [Load Data]! Cost 8.5Secs\u001b[0m\n",
      "\u001b[1m\u001b[37m\u001b[41m23-11-09 00:26:43|MOD:run_model   |\u001b[0m: \u001b[1m\u001b[31mStart Process [Train Model]!\u001b[0m\n",
      "\u001b[1m\u001b[37m\u001b[44m23-11-09 00:26:43|MOD:run_model   |\u001b[0m: \u001b[1m\u001b[34mModel Parameters:\u001b[0m\n",
      "\u001b[32mBasic Parameters : \u001b[0m\n",
      "\u001b[32mMODEL_PARAM : \u001b[0m\n",
      "\u001b[32mTRAIN_PARAM : \u001b[0m\n",
      "\u001b[32mCOMPT_PARAM : \u001b[0m\n",
      "\u001b[1m\u001b[37m\u001b[45m23-11-09 00:26:43|MOD:run_model   |\u001b[0m: \u001b[1m\u001b[35mStart Training Models!\u001b[0m\n"
     ]
    },
    {
     "name": "stdout",
     "output_type": "stream",
     "text": [
      "DEVICE [cuda:0] | DDTYPE [torch.float32] | BATCH_SIZE [2000].\n",
      "NAME [GeneralRNN_day] | MODULE [GeneralRNN] | DATATYPE [day] | NUM_MODELS [2].\n",
      "BEG_DATE [20170103] | END_DATE [20230804] | INTERVAL [120] | INPUT_STEP_DAY [5] | TEST_STEP_DAY [1].\n",
      "{'hidden_dim': [16, 32],\n",
      " 'seqlens': [{'day': 40, '15m': 20, 'dms': 40}],\n",
      " 'rnn_layers': [4],\n",
      " 'mlp_layers': [2],\n",
      " 'dropout': 0.1,\n",
      " 'fc_in': [True],\n",
      " 'fc_att': [True],\n",
      " 'type_rnn': ['tcn'],\n",
      " 'rnn_att': [False],\n",
      " 'ordered_param_group': [False],\n",
      " 'num_output': [1],\n",
      " 'hidden_as_factor': [False],\n",
      " 'kernel_size': [3],\n",
      " 'ATF_mask': {'causal': False, 'gaussian': False, 'tradegap': False}}\n",
      "{'criterion': {'loss': 'ccc', 'metric': 'pearson', 'penalty': {'hidden_orthogonality': 0.001}},\n",
      " 'trainer': {'optimizer': {'name': 'Adam', 'param': {}},\n",
      "             'scheduler': {'name': 'cycle', 'param': {'base_lr': 1e-07, 'step_size_up': 4}},\n",
      "             'learn_rate': {'base': 0.005,\n",
      "                            'ratio': {'attempt': [1, 0.1, 10, 0.01, 100], 'round': [1.0], 'transfer': 0.1},\n",
      "                            'reset': {'num_reset': 2, 'trigger': 40, 'recover_level': 1.0, 'speedup2x': True}},\n",
      "             'gradient': {'clip_value': 10.0},\n",
      "             'nanloss': {'retry': 2},\n",
      "             'retrain': {'attempts': 4, 'min_epoch': 20, 'min_epoch_round': 10}},\n",
      " 'transfer': False,\n",
      " 'dataloader': {'train_ratio': 0.85, 'random_tv_split': True, 'random_seed': 42},\n",
      " 'terminate': {'overall': {'early_stop': 10, 'max_epoch': 100, 'valid_converge': {'min_epoch': 5, 'eps': 1e-05}},\n",
      "               'round': {'early_stop': 5, 'max_epoch': 50, 'valid_converge': {'min_epoch': 5, 'eps': 1e-05}}},\n",
      " 'multitask': {'type': 'hybrid',\n",
      "               'param_dict': {'ewa': {}, 'hybrid': {'phi': None, 'tau': 2}, 'dwa': {'tau': 2}, 'ruw': {'phi': None}, 'gls': {}, 'rws': {}}},\n",
      " 'output_types': ['best', 'swalast', 'swabest']}\n",
      "{'cuda_first': True, 'num_worker': 10}\n"
     ]
    },
    {
     "name": "stderr",
     "output_type": "stream",
     "text": [
      "\u001b[32mGeneralRNN_day #0 @20170103 LoadData Cost   11.4Secs\u001b[0m\n",
      "\u001b[32mFirstBite Ep#  0 : loss  0.99993, train 0.00031, valid-0.00021, max-0.0002, best-0.0002, lr1.0e-07\u001b[0m\n"
     ]
    },
    {
     "ename": "KeyboardInterrupt",
     "evalue": "",
     "output_type": "error",
     "traceback": [
      "\u001b[1;31m---------------------------------------------------------------------------\u001b[0m",
      "\u001b[1;31mKeyboardInterrupt\u001b[0m                         Traceback (most recent call last)",
      "File \u001b[1;32m~\\Documents\\PythonProject\\rnn_fac\\run_model.py:1253\u001b[0m\n\u001b[0;32m   1250\u001b[0m ShareNames \u001b[39m=\u001b[39m parser\u001b[39m.\u001b[39mparse_args()\n\u001b[0;32m   1252\u001b[0m Controller \u001b[39m=\u001b[39m model_controller()\n\u001b[1;32m-> 1253\u001b[0m Controller\u001b[39m.\u001b[39mmain_process()\n",
      "File \u001b[1;32m~\\Documents\\PythonProject\\rnn_fac\\run_model.py:216\u001b[0m, in \u001b[0;36mmodel_controller.main_process\u001b[1;34m(self)\u001b[0m\n\u001b[0;32m    214\u001b[0m \u001b[39mfor\u001b[39;00m process_name \u001b[39min\u001b[39;00m ShareNames\u001b[39m.\u001b[39mprocess_queue:\n\u001b[0;32m    215\u001b[0m     \u001b[39mself\u001b[39m\u001b[39m.\u001b[39mSetProcessName(process_name)\n\u001b[1;32m--> 216\u001b[0m     \u001b[39mself\u001b[39m\u001b[39m.\u001b[39m\u001b[39m__getattribute__\u001b[39m(\u001b[39mf\u001b[39m\u001b[39m'\u001b[39m\u001b[39mmodel_process_\u001b[39m\u001b[39m{\u001b[39;00mprocess_name\u001b[39m.\u001b[39mlower()\u001b[39m}\u001b[39;00m\u001b[39m'\u001b[39m)()\n\u001b[0;32m    217\u001b[0m     rmdir([v \u001b[39mfor\u001b[39;00m v \u001b[39min\u001b[39;00m ShareNames\u001b[39m.\u001b[39mbatch_dir\u001b[39m.\u001b[39mvalues()])\n",
      "File \u001b[1;32m~\\Documents\\PythonProject\\rnn_fac\\run_model.py:260\u001b[0m, in \u001b[0;36mmodel_controller.model_process_train\u001b[1;34m(self)\u001b[0m\n\u001b[0;32m    258\u001b[0m     \u001b[39mself\u001b[39m\u001b[39m.\u001b[39mmodel_date , \u001b[39mself\u001b[39m\u001b[39m.\u001b[39mmodel_num \u001b[39m=\u001b[39m model_date , model_num\n\u001b[0;32m    259\u001b[0m     \u001b[39mself\u001b[39m\u001b[39m.\u001b[39mModelPreparation(\u001b[39m'\u001b[39m\u001b[39mtrain\u001b[39m\u001b[39m'\u001b[39m)\n\u001b[1;32m--> 260\u001b[0m     \u001b[39mself\u001b[39m\u001b[39m.\u001b[39mTrainModel()\n\u001b[0;32m    261\u001b[0m total_time \u001b[39m=\u001b[39m time\u001b[39m.\u001b[39mtime() \u001b[39m-\u001b[39m \u001b[39mself\u001b[39m\u001b[39m.\u001b[39mtrain_time\n\u001b[0;32m    262\u001b[0m logger\u001b[39m.\u001b[39mcritical(\u001b[39m'\u001b[39m\u001b[39mFinish Process [Train Model]! Cost \u001b[39m\u001b[39m{:.1f}\u001b[39;00m\u001b[39m Hours, \u001b[39m\u001b[39m{:.1f}\u001b[39;00m\u001b[39m Min/Training\u001b[39m\u001b[39m'\u001b[39m\u001b[39m.\u001b[39mformat(total_time \u001b[39m/\u001b[39m \u001b[39m3600\u001b[39m , total_time \u001b[39m/\u001b[39m \u001b[39m60\u001b[39m \u001b[39m/\u001b[39m \u001b[39mmax\u001b[39m(\u001b[39mself\u001b[39m\u001b[39m.\u001b[39mmodel_count , \u001b[39m1\u001b[39m)))\n",
      "File \u001b[1;32m~\\Documents\\PythonProject\\rnn_fac\\run_model.py:356\u001b[0m, in \u001b[0;36mmodel_controller.TrainModel\u001b[1;34m(self)\u001b[0m\n\u001b[0;32m    354\u001b[0m     \u001b[39mself\u001b[39m\u001b[39m.\u001b[39mNewLoop()\n\u001b[0;32m    355\u001b[0m     \u001b[39mself\u001b[39m\u001b[39m.\u001b[39mTrainerInit()\n\u001b[1;32m--> 356\u001b[0m     \u001b[39mself\u001b[39m\u001b[39m.\u001b[39mTrainEpoch()\n\u001b[0;32m    357\u001b[0m     \u001b[39mself\u001b[39m\u001b[39m.\u001b[39mLoopCondition()\n\u001b[0;32m    358\u001b[0m \u001b[39mself\u001b[39m\u001b[39m.\u001b[39mTrainModelEnd()\n",
      "File \u001b[1;32m~\\Documents\\PythonProject\\rnn_fac\\run_model.py:443\u001b[0m, in \u001b[0;36mmodel_controller.TrainEpoch\u001b[1;34m(self)\u001b[0m\n\u001b[0;32m    441\u001b[0m pred , hidden \u001b[39m=\u001b[39m \u001b[39mself\u001b[39m\u001b[39m.\u001b[39mnet(x)\n\u001b[0;32m    442\u001b[0m loss , metric \u001b[39m=\u001b[39m \u001b[39mself\u001b[39m\u001b[39m.\u001b[39m_loss_and_metric(y , pred , \u001b[39m'\u001b[39m\u001b[39mtrain\u001b[39m\u001b[39m'\u001b[39m , hidden \u001b[39m=\u001b[39m hidden)\n\u001b[1;32m--> 443\u001b[0m loss\u001b[39m.\u001b[39mbackward()\n\u001b[0;32m    444\u001b[0m \u001b[39mif\u001b[39;00m clip_value \u001b[39mis\u001b[39;00m \u001b[39mnot\u001b[39;00m \u001b[39mNone\u001b[39;00m : nn\u001b[39m.\u001b[39mutils\u001b[39m.\u001b[39mclip_grad_value_(\u001b[39mself\u001b[39m\u001b[39m.\u001b[39mnet\u001b[39m.\u001b[39mparameters(), clip_value \u001b[39m=\u001b[39m clip_value)\n\u001b[0;32m    445\u001b[0m \u001b[39mself\u001b[39m\u001b[39m.\u001b[39moptimizer\u001b[39m.\u001b[39mstep()\n",
      "File \u001b[1;32mc:\\ProgramData\\anaconda3\\Lib\\site-packages\\torch\\_tensor.py:492\u001b[0m, in \u001b[0;36mTensor.backward\u001b[1;34m(self, gradient, retain_graph, create_graph, inputs)\u001b[0m\n\u001b[0;32m    482\u001b[0m \u001b[39mif\u001b[39;00m has_torch_function_unary(\u001b[39mself\u001b[39m):\n\u001b[0;32m    483\u001b[0m     \u001b[39mreturn\u001b[39;00m handle_torch_function(\n\u001b[0;32m    484\u001b[0m         Tensor\u001b[39m.\u001b[39mbackward,\n\u001b[0;32m    485\u001b[0m         (\u001b[39mself\u001b[39m,),\n\u001b[1;32m   (...)\u001b[0m\n\u001b[0;32m    490\u001b[0m         inputs\u001b[39m=\u001b[39minputs,\n\u001b[0;32m    491\u001b[0m     )\n\u001b[1;32m--> 492\u001b[0m torch\u001b[39m.\u001b[39mautograd\u001b[39m.\u001b[39mbackward(\n\u001b[0;32m    493\u001b[0m     \u001b[39mself\u001b[39m, gradient, retain_graph, create_graph, inputs\u001b[39m=\u001b[39minputs\n\u001b[0;32m    494\u001b[0m )\n",
      "File \u001b[1;32mc:\\ProgramData\\anaconda3\\Lib\\site-packages\\torch\\autograd\\__init__.py:251\u001b[0m, in \u001b[0;36mbackward\u001b[1;34m(tensors, grad_tensors, retain_graph, create_graph, grad_variables, inputs)\u001b[0m\n\u001b[0;32m    246\u001b[0m     retain_graph \u001b[39m=\u001b[39m create_graph\n\u001b[0;32m    248\u001b[0m \u001b[39m# The reason we repeat the same comment below is that\u001b[39;00m\n\u001b[0;32m    249\u001b[0m \u001b[39m# some Python versions print out the first line of a multi-line function\u001b[39;00m\n\u001b[0;32m    250\u001b[0m \u001b[39m# calls in the traceback and some print out the last line\u001b[39;00m\n\u001b[1;32m--> 251\u001b[0m Variable\u001b[39m.\u001b[39m_execution_engine\u001b[39m.\u001b[39mrun_backward(  \u001b[39m# Calls into the C++ engine to run the backward pass\u001b[39;00m\n\u001b[0;32m    252\u001b[0m     tensors,\n\u001b[0;32m    253\u001b[0m     grad_tensors_,\n\u001b[0;32m    254\u001b[0m     retain_graph,\n\u001b[0;32m    255\u001b[0m     create_graph,\n\u001b[0;32m    256\u001b[0m     inputs,\n\u001b[0;32m    257\u001b[0m     allow_unreachable\u001b[39m=\u001b[39m\u001b[39mTrue\u001b[39;00m,\n\u001b[0;32m    258\u001b[0m     accumulate_grad\u001b[39m=\u001b[39m\u001b[39mTrue\u001b[39;00m,\n\u001b[0;32m    259\u001b[0m )\n",
      "\u001b[1;31mKeyboardInterrupt\u001b[0m: "
     ]
    }
   ],
   "source": [
    "%run run_model.py --process=0 --rawname=1 --resume=0 --anchoring=0"
   ]
  },
  {
   "cell_type": "code",
   "execution_count": 49,
   "id": "b8859681-9a7a-482d-97d2-61879011475f",
   "metadata": {
    "tags": []
   },
   "outputs": [],
   "source": [
    "import shutil , os\n",
    "folder = './model'\n",
    "save_model = ['.ipynb_checkpoints', 'LSTM_day','GRU_day','Transformer_day','GeneralRNN_day','GeneralRNN_day_Trans_vs_LSTM']\n",
    "# [print(f'{folder}/{p}') for p in os.listdir(folder) if not p in save_model]\n",
    "\n",
    "import shutil\n",
    "shutil.rmtree('./model/DoubleGRU_both_single')"
   ]
  },
  {
   "cell_type": "code",
   "execution_count": 7,
   "id": "f368a198-7670-4c2b-a6ce-9595220a3711",
   "metadata": {
    "tags": []
   },
   "outputs": [
    {
     "data": {
      "text/plain": [
       "__main__.TimeWiseTranformer"
      ]
     },
     "execution_count": 7,
     "metadata": {},
     "output_type": "execute_result"
    }
   ],
   "source": [
    "import torch\n",
    "import torch.nn as nn\n",
    "\n",
    "b , s , f , h = 2000 , 30 , 6 , 8\n",
    "x = torch.rand(b,s,f)\n",
    "x[int(b*0.9):] = torch.nan\n",
    "\n",
    "class PositionalEncoding(nn.Module):\n",
    "    def __init__(self, input_dim, dropout=0.0, max_len=1000,**kwargs):\n",
    "        super(PositionalEncoding, self).__init__()\n",
    "        self.dropout = nn.Dropout(dropout)\n",
    "        self.seq_len = max_len\n",
    "        self.P = torch.zeros(1 , self.seq_len, input_dim)\n",
    "        X = torch.arange(self.seq_len, dtype=torch.float).reshape(-1,1) / torch.pow(10000,torch.arange(0, input_dim, 2 ,dtype=torch.float) / input_dim)\n",
    "        self.P[:, :, 0::2] = torch.sin(X)\n",
    "        self.P[:, :, 1::2] = torch.cos(X[:,:input_dim//2])\n",
    "    def forward(self, inputs):\n",
    "        return self.dropout(inputs + self.P[:,:inputs.shape[1],:].to(inputs.device))\n",
    "    \n",
    "class TimeWiseTranformer(nn.Module):\n",
    "    def __init__(self , input_dim , hidden_dim , ffn_dim = None , num_heads = 8 , num_enclayer = 2 , dropout=0.0):\n",
    "        super().__init__()\n",
    "        assert hidden_dim % num_heads == 0\n",
    "        ffn_dim = 4 * hidden_dim if ffn_dim is None else ffn_dim\n",
    "        self.fc_in = nn.Linear(input_dim,hidden_dim)\n",
    "        self.pos_enc = PositionalEncoding(hidden_dim,dropout=dropout)\n",
    "        enc_layer = nn.TransformerEncoderLayer(hidden_dim , num_heads, dim_feedforward=ffn_dim , dropout=dropout , batch_first=True)\n",
    "        self.trans = nn.TransformerEncoder(enc_layer , num_enclayer)\n",
    "    def forward(self, inputs):\n",
    "        hidden = self.fc_in(inputs)\n",
    "        hidden = self.pos_enc(hidden)\n",
    "        return self.trans(hidden)\n",
    "\n",
    "tf = TimeWiseTranformer(f,h,num_enclayer=6)\n",
    "# tf(x).select(-2,-1).shape\n",
    "tf(x).shape\n",
    "\n",
    "a = locals()['TimeWiseTranformer']\n",
    "a"
   ]
  },
  {
   "cell_type": "code",
   "execution_count": 2,
   "id": "0c603919-0b25-4037-bc97-5d3deefe953c",
   "metadata": {
    "tags": []
   },
   "outputs": [
    {
     "data": {
      "text/plain": [
       "torch.Size([2000, 30, 8])"
      ]
     },
     "execution_count": 2,
     "metadata": {},
     "output_type": "execute_result"
    }
   ],
   "source": [
    "import torch\n",
    "import torch.nn as nn\n",
    "from mymodel import *\n",
    "\n",
    "b , s , f , h = 2000 , 30 , 6 , 8\n",
    "x = torch.rand(b,s,f)\n",
    "x[int(b*0.9):] = torch.nan\n",
    "\n",
    "net = mod_transformer(f,h)\n",
    "net(x).shape"
   ]
  },
  {
   "cell_type": "code",
   "execution_count": 92,
   "id": "957b817f-1ea4-4842-b44c-e20a6b543fa4",
   "metadata": {
    "tags": []
   },
   "outputs": [],
   "source": [
    "import torch\n",
    "import matplotlib.pyplot as plt\n",
    "base_lr = 5e-2\n",
    "max_lr  = 1e-1\n",
    "min_lr = base_lr * 1e-4\n",
    "\n",
    "net = torch.nn.Sequential(torch.nn.Linear(10,10) , torch.nn.Linear(10,1))\n",
    "net_base_lr = [{'params': p , 'lr':l , 'lr_param' : l} for l,p in zip([base_lr , base_lr/2] , net.parameters())]\n",
    "opt = torch.optim.Adam(net_base_lr , 0.001)\n"
   ]
  },
  {
   "cell_type": "code",
   "execution_count": 106,
   "id": "1bd18557-c163-4739-ad22-3686e75cb372",
   "metadata": {
    "tags": []
   },
   "outputs": [
    {
     "data": {
      "image/png": "[encoded data removed]",
      "text/plain": [
       "<Figure size 640x480 with 1 Axes>"
      ]
     },
     "metadata": {},
     "output_type": "display_data"
    }
   ],
   "source": [
    "shd = torch.optim.lr_scheduler.CyclicLR(opt, base_lr = min_lr, max_lr = [pg['lr_param'] for pg in opt.param_groups], step_size_up=4,step_size_down=4,  mode='triangular2', cycle_momentum=False)\n",
    "net.train()\n",
    "x = torch.rand(100,10)\n",
    "y = torch.rand(100,1)\n",
    "lr_list1 = []\n",
    "lr_list2 = []\n",
    "for i in range(100):\n",
    "    lr_list1.append(opt.param_groups[0]['lr'])\n",
    "    lr_list2.append(opt.param_groups[1]['lr']) \n",
    "    loss = (y - net(x)).square().sum()\n",
    "    opt.zero_grad()\n",
    "    loss.backward()\n",
    "    opt.step()\n",
    "    shd.step()\n",
    "    \n",
    "plt.plot(range(100), lr_list1 , lr_list2)\n",
    "plt.xlabel('Epochs')\n",
    "plt.ylabel('LR')\n",
    "plt.show()"
   ]
  },
  {
   "cell_type": "code",
   "execution_count": 101,
   "id": "7bd9daf8-9afb-4e50-b9e7-c2997afc6efc",
   "metadata": {
    "tags": []
   },
   "outputs": [
    {
     "data": {
      "text/plain": [
       "[{'params': [Parameter containing:\n",
       "   tensor([[-0.1464, -0.0394,  0.1021, -0.2248,  0.0035, -0.0685, -0.0087, -0.0724,\n",
       "            -0.0245, -0.0974],\n",
       "           [-0.0542,  0.1223,  0.2141,  0.1663,  0.1913, -0.0680, -0.0256,  0.0460,\n",
       "            -0.2598,  0.1209],\n",
       "           [-0.2284,  0.0395,  0.0189, -0.1898, -0.1294,  0.2278,  0.0854, -0.0516,\n",
       "            -0.3525,  0.2948],\n",
       "           [ 0.0383,  0.2897, -0.3093, -0.0379,  0.3246,  0.1595,  0.0146, -0.3545,\n",
       "             0.4198, -0.0809],\n",
       "           [ 0.2159,  0.1753, -0.1785, -0.2337,  0.1250, -0.0578, -0.2420, -0.1579,\n",
       "             0.1073, -0.3070],\n",
       "           [-0.1408,  0.0366,  0.1050,  0.3229,  0.2682, -0.0596,  0.0254, -0.1598,\n",
       "            -0.1776, -0.0287],\n",
       "           [-0.0647, -0.2756,  0.0234, -0.0710,  0.1470,  0.3596,  0.0437, -0.0010,\n",
       "            -0.1295, -0.2085],\n",
       "           [ 0.1424, -0.3624, -0.0210,  0.1511,  0.2143,  0.0898, -0.1272,  0.1678,\n",
       "            -0.2389, -0.2046],\n",
       "           [ 0.1213, -0.0286, -0.2437,  0.2432, -0.3144,  0.0812, -0.0079, -0.0783,\n",
       "            -0.2266, -0.2785],\n",
       "           [ 0.0434,  0.0701,  0.0466,  0.2612,  0.0351,  0.3288,  0.0054, -0.1180,\n",
       "             0.0706,  0.2160]], requires_grad=True)],\n",
       "  'lr': 5e-06,\n",
       "  'lr_param': 0.05,\n",
       "  'betas': (0.9, 0.999),\n",
       "  'eps': 1e-08,\n",
       "  'weight_decay': 0,\n",
       "  'amsgrad': False,\n",
       "  'maximize': False,\n",
       "  'foreach': None,\n",
       "  'capturable': False,\n",
       "  'differentiable': False,\n",
       "  'fused': None,\n",
       "  'initial_lr': 5e-06},\n",
       " {'params': [Parameter containing:\n",
       "   tensor([-0.2630, -0.6541, -0.1792,  0.1544,  0.3355,  0.6809, -0.1993, -0.2395,\n",
       "           -0.6484, -0.1860], requires_grad=True)],\n",
       "  'lr': 5e-06,\n",
       "  'lr_param': 0.025,\n",
       "  'betas': (0.9, 0.999),\n",
       "  'eps': 1e-08,\n",
       "  'weight_decay': 0,\n",
       "  'amsgrad': False,\n",
       "  'maximize': False,\n",
       "  'foreach': None,\n",
       "  'capturable': False,\n",
       "  'differentiable': False,\n",
       "  'fused': None,\n",
       "  'initial_lr': 5e-06}]"
      ]
     },
     "execution_count": 101,
     "metadata": {},
     "output_type": "execute_result"
    }
   ],
   "source": [
    "opt.param_groups"
   ]
  },
  {
   "cell_type": "code",
   "execution_count": 41,
   "id": "aa28b6a1-45dd-4567-89cd-7d42b9626e27",
   "metadata": {
    "tags": []
   },
   "outputs": [
    {
     "data": {
      "text/plain": [
       "torch.Size([100, 20, 32])"
      ]
     },
     "execution_count": 41,
     "metadata": {},
     "output_type": "execute_result"
    }
   ],
   "source": [
    "import torch\n",
    "import torch.nn as nn\n",
    "from torch.nn.utils import weight_norm\n",
    "\n",
    "class mod_tcn_block(nn.Module):\n",
    "    def __init__(self, input_dim , output_dim , dilation, dropout=0.0 , kernel_size=2):\n",
    "        super().__init__()\n",
    "        padding = (kernel_size-1) * dilation\n",
    "        self.conv1 = weight_norm(nn.Conv1d(input_dim , output_dim, kernel_size, padding=padding, dilation=dilation))\n",
    "        self.conv2 = weight_norm(nn.Conv1d(output_dim, output_dim, kernel_size, padding=padding, dilation=dilation))\n",
    "        self.conv1.weight.data.normal_(0, 0.01)\n",
    "        self.conv2.weight.data.normal_(0, 0.01)\n",
    "        \n",
    "        self.net = nn.Sequential(self.conv1, self._chomp(padding), nn.ReLU(), nn.Dropout(dropout), \n",
    "                                 self.conv2, self._chomp(padding), nn.ReLU(), nn.Dropout(dropout))\n",
    "        \n",
    "        if input_dim != output_dim:\n",
    "            self.residual = nn.Conv1d(input_dim , output_dim, 1)\n",
    "            self.residual.weight.data.normal_(0, 0.01)\n",
    "        else:\n",
    "            self.residual = nn.Sequential()\n",
    "        self.relu = nn.ReLU()\n",
    "\n",
    "    def forward(self, inputs):\n",
    "        output = self.net(inputs)\n",
    "        output = self.relu(output + self.residual(inputs))\n",
    "        return output\n",
    "    \n",
    "    class _chomp(nn.Module):\n",
    "        def __init__(self, padding):\n",
    "            super().__init__()\n",
    "            self.padding = padding\n",
    "        def forward(self, x):\n",
    "            return x[:, :, :-self.padding] # .contiguous()\n",
    "\n",
    "class mod_tcn(nn.Module):\n",
    "    def __init__(self, input_dim , output_dim , dropout=0.0 , num_layers = 2):\n",
    "        super().__init__()\n",
    "        num_layers = max(2 , num_layers)\n",
    "        layers = []\n",
    "        for i in range(num_layers):\n",
    "            dilation = 2 ** i\n",
    "            inp_d , out_dim = (input_dim , output_dim) if i == 0 else (output_dim , output_dim)\n",
    "            layers += [mod_tcn_block(inp_d, out_dim, dilation=dilation, dropout=dropout)]\n",
    "        self.net = nn.Sequential(*layers)\n",
    "\n",
    "    def forward(self, inputs):\n",
    "        output = self.net(inputs.permute(0,2,1)).permute(0,2,1)\n",
    "        return output\n",
    "\n",
    "b , s , f , o = 100 , 20 , 2 , 6\n",
    "x = torch.rand(b,s,f)\n",
    "tcn = mod_tcn(2 , 32)\n",
    "tcn(x).shape"
   ]
  },
  {
   "cell_type": "code",
   "execution_count": 26,
   "id": "d60950c4-364c-4cab-b87d-21cd3c906f79",
   "metadata": {
    "tags": []
   },
   "outputs": [
    {
     "name": "stdout",
     "output_type": "stream",
     "text": [
      "1\n"
     ]
    },
    {
     "data": {
      "text/plain": [
       "torch.Size([100, 6, 21])"
      ]
     },
     "execution_count": 26,
     "metadata": {},
     "output_type": "execute_result"
    }
   ],
   "source": [
    "import torch\n",
    "import torch.nn as nn\n",
    "from torch.nn.utils import weight_norm\n",
    "\n",
    "b , s , f , o = 100 , 20 , 2 , 6\n",
    "x = torch.rand(b,s,f)\n",
    "i = 0\n",
    "dilation = 2 ** i\n",
    "in_channels = f\n",
    "out_channels = o\n",
    "k = 2\n",
    "padding = (k-1) * dilation\n",
    "print(padding)\n",
    "\n",
    "net = weight_norm(nn.Conv1d(in_channels, out_channels, kernel_size = k, stride=1, padding=padding, dilation=dilation))\n",
    "net(x.permute(0,2,1)).shape"
   ]
  },
  {
   "cell_type": "code",
   "execution_count": 27,
   "id": "c459fd01-74bd-4de7-bf2f-1452dffbbd6c",
   "metadata": {
    "tags": []
   },
   "outputs": [
    {
     "data": {
      "text/plain": [
       "OrderedDict([('bias',\n",
       "              tensor([ 0.2536,  0.0380,  0.1633,  0.1347,  0.3025, -0.1907])),\n",
       "             ('weight_g',\n",
       "              tensor([[[0.5266]],\n",
       "              \n",
       "                      [[0.3966]],\n",
       "              \n",
       "                      [[0.6698]],\n",
       "              \n",
       "                      [[0.4292]],\n",
       "              \n",
       "                      [[0.7563]],\n",
       "              \n",
       "                      [[0.6856]]])),\n",
       "             ('weight_v',\n",
       "              tensor([[[-0.1100, -0.1176],\n",
       "                       [-0.4663, -0.1842]],\n",
       "              \n",
       "                      [[ 0.1492, -0.2585],\n",
       "                       [-0.0953, -0.2432]],\n",
       "              \n",
       "                      [[-0.2878, -0.4528],\n",
       "                       [-0.3931, -0.0788]],\n",
       "              \n",
       "                      [[ 0.0944, -0.0259],\n",
       "                       [-0.0928, -0.4074]],\n",
       "              \n",
       "                      [[ 0.3874, -0.4320],\n",
       "                       [-0.4850, -0.0065]],\n",
       "              \n",
       "                      [[-0.2100,  0.3369],\n",
       "                       [-0.4471,  0.3355]]]))])"
      ]
     },
     "execution_count": 27,
     "metadata": {},
     "output_type": "execute_result"
    }
   ],
   "source": [
    "net.state_dict()"
   ]
  },
  {
   "cell_type": "code",
   "execution_count": 52,
   "id": "6b164487-a13d-4390-87a9-0129ee2951f5",
   "metadata": {
    "tags": []
   },
   "outputs": [
    {
     "ename": "AttributeError",
     "evalue": "module 'torch.nn.utils.parametrizations' has no attribute 'weight_norm'",
     "output_type": "error",
     "traceback": [
      "\u001b[0;31m---------------------------------------------------------------------------\u001b[0m",
      "\u001b[0;31mAttributeError\u001b[0m                            Traceback (most recent call last)",
      "Cell \u001b[0;32mIn[52], line 1\u001b[0m\n\u001b[0;32m----> 1\u001b[0m \u001b[43mtorch\u001b[49m\u001b[38;5;241;43m.\u001b[39;49m\u001b[43mnn\u001b[49m\u001b[38;5;241;43m.\u001b[39;49m\u001b[43mutils\u001b[49m\u001b[38;5;241;43m.\u001b[39;49m\u001b[43mparametrizations\u001b[49m\u001b[38;5;241;43m.\u001b[39;49m\u001b[43mweight_norm\u001b[49m\n",
      "\u001b[0;31mAttributeError\u001b[0m: module 'torch.nn.utils.parametrizations' has no attribute 'weight_norm'"
     ]
    }
   ],
   "source": [
    "torch.nn.utils.parametrizations.weight_norm"
   ]
  },
  {
   "cell_type": "code",
   "execution_count": 55,
   "id": "ca5ce02e-f7fa-4148-990d-a16c1d9b246c",
   "metadata": {
    "tags": []
   },
   "outputs": [
    {
     "ename": "RuntimeError",
     "evalue": "Only Tensors created explicitly by the user (graph leaves) support the deepcopy protocol at the moment",
     "output_type": "error",
     "traceback": [
      "\u001b[0;31m---------------------------------------------------------------------------\u001b[0m",
      "\u001b[0;31mRuntimeError\u001b[0m                              Traceback (most recent call last)",
      "Cell \u001b[0;32mIn[55], line 2\u001b[0m\n\u001b[1;32m      1\u001b[0m net(x\u001b[38;5;241m.\u001b[39mpermute(\u001b[38;5;241m0\u001b[39m,\u001b[38;5;241m2\u001b[39m,\u001b[38;5;241m1\u001b[39m))\u001b[38;5;241m.\u001b[39mshape\n\u001b[0;32m----> 2\u001b[0m a \u001b[38;5;241m=\u001b[39m \u001b[43mtorch\u001b[49m\u001b[38;5;241;43m.\u001b[39;49m\u001b[43moptim\u001b[49m\u001b[38;5;241;43m.\u001b[39;49m\u001b[43mswa_utils\u001b[49m\u001b[38;5;241;43m.\u001b[39;49m\u001b[43mAveragedModel\u001b[49m\u001b[43m(\u001b[49m\u001b[43mnet\u001b[49m\u001b[43m)\u001b[49m\n",
      "File \u001b[0;32m~/miniconda3/lib/python3.8/site-packages/torch/optim/swa_utils.py:104\u001b[0m, in \u001b[0;36mAveragedModel.__init__\u001b[0;34m(self, model, device, avg_fn, use_buffers)\u001b[0m\n\u001b[1;32m    102\u001b[0m \u001b[38;5;28;01mdef\u001b[39;00m \u001b[38;5;21m__init__\u001b[39m(\u001b[38;5;28mself\u001b[39m, model, device\u001b[38;5;241m=\u001b[39m\u001b[38;5;28;01mNone\u001b[39;00m, avg_fn\u001b[38;5;241m=\u001b[39m\u001b[38;5;28;01mNone\u001b[39;00m, use_buffers\u001b[38;5;241m=\u001b[39m\u001b[38;5;28;01mFalse\u001b[39;00m):\n\u001b[1;32m    103\u001b[0m     \u001b[38;5;28msuper\u001b[39m()\u001b[38;5;241m.\u001b[39m\u001b[38;5;21m__init__\u001b[39m()\n\u001b[0;32m--> 104\u001b[0m     \u001b[38;5;28mself\u001b[39m\u001b[38;5;241m.\u001b[39mmodule \u001b[38;5;241m=\u001b[39m \u001b[43mdeepcopy\u001b[49m\u001b[43m(\u001b[49m\u001b[43mmodel\u001b[49m\u001b[43m)\u001b[49m\n\u001b[1;32m    105\u001b[0m     \u001b[38;5;28;01mif\u001b[39;00m device \u001b[38;5;129;01mis\u001b[39;00m \u001b[38;5;129;01mnot\u001b[39;00m \u001b[38;5;28;01mNone\u001b[39;00m:\n\u001b[1;32m    106\u001b[0m         \u001b[38;5;28mself\u001b[39m\u001b[38;5;241m.\u001b[39mmodule \u001b[38;5;241m=\u001b[39m \u001b[38;5;28mself\u001b[39m\u001b[38;5;241m.\u001b[39mmodule\u001b[38;5;241m.\u001b[39mto(device)\n",
      "File \u001b[0;32m~/miniconda3/lib/python3.8/copy.py:172\u001b[0m, in \u001b[0;36mdeepcopy\u001b[0;34m(x, memo, _nil)\u001b[0m\n\u001b[1;32m    170\u001b[0m                 y \u001b[38;5;241m=\u001b[39m x\n\u001b[1;32m    171\u001b[0m             \u001b[38;5;28;01melse\u001b[39;00m:\n\u001b[0;32m--> 172\u001b[0m                 y \u001b[38;5;241m=\u001b[39m \u001b[43m_reconstruct\u001b[49m\u001b[43m(\u001b[49m\u001b[43mx\u001b[49m\u001b[43m,\u001b[49m\u001b[43m \u001b[49m\u001b[43mmemo\u001b[49m\u001b[43m,\u001b[49m\u001b[43m \u001b[49m\u001b[38;5;241;43m*\u001b[39;49m\u001b[43mrv\u001b[49m\u001b[43m)\u001b[49m\n\u001b[1;32m    174\u001b[0m \u001b[38;5;66;03m# If is its own copy, don't memoize.\u001b[39;00m\n\u001b[1;32m    175\u001b[0m \u001b[38;5;28;01mif\u001b[39;00m y \u001b[38;5;129;01mis\u001b[39;00m \u001b[38;5;129;01mnot\u001b[39;00m x:\n",
      "File \u001b[0;32m~/miniconda3/lib/python3.8/copy.py:270\u001b[0m, in \u001b[0;36m_reconstruct\u001b[0;34m(x, memo, func, args, state, listiter, dictiter, deepcopy)\u001b[0m\n\u001b[1;32m    268\u001b[0m \u001b[38;5;28;01mif\u001b[39;00m state \u001b[38;5;129;01mis\u001b[39;00m \u001b[38;5;129;01mnot\u001b[39;00m \u001b[38;5;28;01mNone\u001b[39;00m:\n\u001b[1;32m    269\u001b[0m     \u001b[38;5;28;01mif\u001b[39;00m deep:\n\u001b[0;32m--> 270\u001b[0m         state \u001b[38;5;241m=\u001b[39m \u001b[43mdeepcopy\u001b[49m\u001b[43m(\u001b[49m\u001b[43mstate\u001b[49m\u001b[43m,\u001b[49m\u001b[43m \u001b[49m\u001b[43mmemo\u001b[49m\u001b[43m)\u001b[49m\n\u001b[1;32m    271\u001b[0m     \u001b[38;5;28;01mif\u001b[39;00m \u001b[38;5;28mhasattr\u001b[39m(y, \u001b[38;5;124m'\u001b[39m\u001b[38;5;124m__setstate__\u001b[39m\u001b[38;5;124m'\u001b[39m):\n\u001b[1;32m    272\u001b[0m         y\u001b[38;5;241m.\u001b[39m__setstate__(state)\n",
      "File \u001b[0;32m~/miniconda3/lib/python3.8/copy.py:146\u001b[0m, in \u001b[0;36mdeepcopy\u001b[0;34m(x, memo, _nil)\u001b[0m\n\u001b[1;32m    144\u001b[0m copier \u001b[38;5;241m=\u001b[39m _deepcopy_dispatch\u001b[38;5;241m.\u001b[39mget(\u001b[38;5;28mcls\u001b[39m)\n\u001b[1;32m    145\u001b[0m \u001b[38;5;28;01mif\u001b[39;00m copier \u001b[38;5;129;01mis\u001b[39;00m \u001b[38;5;129;01mnot\u001b[39;00m \u001b[38;5;28;01mNone\u001b[39;00m:\n\u001b[0;32m--> 146\u001b[0m     y \u001b[38;5;241m=\u001b[39m \u001b[43mcopier\u001b[49m\u001b[43m(\u001b[49m\u001b[43mx\u001b[49m\u001b[43m,\u001b[49m\u001b[43m \u001b[49m\u001b[43mmemo\u001b[49m\u001b[43m)\u001b[49m\n\u001b[1;32m    147\u001b[0m \u001b[38;5;28;01melse\u001b[39;00m:\n\u001b[1;32m    148\u001b[0m     \u001b[38;5;28;01mif\u001b[39;00m \u001b[38;5;28missubclass\u001b[39m(\u001b[38;5;28mcls\u001b[39m, \u001b[38;5;28mtype\u001b[39m):\n",
      "File \u001b[0;32m~/miniconda3/lib/python3.8/copy.py:230\u001b[0m, in \u001b[0;36m_deepcopy_dict\u001b[0;34m(x, memo, deepcopy)\u001b[0m\n\u001b[1;32m    228\u001b[0m memo[\u001b[38;5;28mid\u001b[39m(x)] \u001b[38;5;241m=\u001b[39m y\n\u001b[1;32m    229\u001b[0m \u001b[38;5;28;01mfor\u001b[39;00m key, value \u001b[38;5;129;01min\u001b[39;00m x\u001b[38;5;241m.\u001b[39mitems():\n\u001b[0;32m--> 230\u001b[0m     y[deepcopy(key, memo)] \u001b[38;5;241m=\u001b[39m \u001b[43mdeepcopy\u001b[49m\u001b[43m(\u001b[49m\u001b[43mvalue\u001b[49m\u001b[43m,\u001b[49m\u001b[43m \u001b[49m\u001b[43mmemo\u001b[49m\u001b[43m)\u001b[49m\n\u001b[1;32m    231\u001b[0m \u001b[38;5;28;01mreturn\u001b[39;00m y\n",
      "File \u001b[0;32m~/miniconda3/lib/python3.8/copy.py:153\u001b[0m, in \u001b[0;36mdeepcopy\u001b[0;34m(x, memo, _nil)\u001b[0m\n\u001b[1;32m    151\u001b[0m copier \u001b[38;5;241m=\u001b[39m \u001b[38;5;28mgetattr\u001b[39m(x, \u001b[38;5;124m\"\u001b[39m\u001b[38;5;124m__deepcopy__\u001b[39m\u001b[38;5;124m\"\u001b[39m, \u001b[38;5;28;01mNone\u001b[39;00m)\n\u001b[1;32m    152\u001b[0m \u001b[38;5;28;01mif\u001b[39;00m copier \u001b[38;5;129;01mis\u001b[39;00m \u001b[38;5;129;01mnot\u001b[39;00m \u001b[38;5;28;01mNone\u001b[39;00m:\n\u001b[0;32m--> 153\u001b[0m     y \u001b[38;5;241m=\u001b[39m \u001b[43mcopier\u001b[49m\u001b[43m(\u001b[49m\u001b[43mmemo\u001b[49m\u001b[43m)\u001b[49m\n\u001b[1;32m    154\u001b[0m \u001b[38;5;28;01melse\u001b[39;00m:\n\u001b[1;32m    155\u001b[0m     reductor \u001b[38;5;241m=\u001b[39m dispatch_table\u001b[38;5;241m.\u001b[39mget(\u001b[38;5;28mcls\u001b[39m)\n",
      "File \u001b[0;32m~/miniconda3/lib/python3.8/site-packages/torch/_tensor.py:86\u001b[0m, in \u001b[0;36mTensor.__deepcopy__\u001b[0;34m(self, memo)\u001b[0m\n\u001b[1;32m     84\u001b[0m     \u001b[38;5;28;01mreturn\u001b[39;00m handle_torch_function(Tensor\u001b[38;5;241m.\u001b[39m__deepcopy__, (\u001b[38;5;28mself\u001b[39m,), \u001b[38;5;28mself\u001b[39m, memo)\n\u001b[1;32m     85\u001b[0m \u001b[38;5;28;01mif\u001b[39;00m \u001b[38;5;129;01mnot\u001b[39;00m \u001b[38;5;28mself\u001b[39m\u001b[38;5;241m.\u001b[39mis_leaf:\n\u001b[0;32m---> 86\u001b[0m     \u001b[38;5;28;01mraise\u001b[39;00m \u001b[38;5;167;01mRuntimeError\u001b[39;00m(\n\u001b[1;32m     87\u001b[0m         \u001b[38;5;124m\"\u001b[39m\u001b[38;5;124mOnly Tensors created explicitly by the user \u001b[39m\u001b[38;5;124m\"\u001b[39m\n\u001b[1;32m     88\u001b[0m         \u001b[38;5;124m\"\u001b[39m\u001b[38;5;124m(graph leaves) support the deepcopy protocol at the moment\u001b[39m\u001b[38;5;124m\"\u001b[39m\n\u001b[1;32m     89\u001b[0m     )\n\u001b[1;32m     90\u001b[0m \u001b[38;5;28;01mif\u001b[39;00m \u001b[38;5;28mid\u001b[39m(\u001b[38;5;28mself\u001b[39m) \u001b[38;5;129;01min\u001b[39;00m memo:\n\u001b[1;32m     91\u001b[0m     \u001b[38;5;28;01mreturn\u001b[39;00m memo[\u001b[38;5;28mid\u001b[39m(\u001b[38;5;28mself\u001b[39m)]\n",
      "\u001b[0;31mRuntimeError\u001b[0m: Only Tensors created explicitly by the user (graph leaves) support the deepcopy protocol at the moment"
     ]
    }
   ],
   "source": [
    "net(x.permute(0,2,1)).shape\n",
    "a = torch.optim.swa_utils.AveragedModel(net)"
   ]
  },
  {
   "cell_type": "code",
   "execution_count": 1,
   "id": "75d6c14c-0b89-4c55-9268-b2b27a714408",
   "metadata": {
    "tags": []
   },
   "outputs": [
    {
     "name": "stdout",
     "output_type": "stream",
     "text": [
      "2.1.0+cu121\n"
     ]
    }
   ],
   "source": [
    "import torch , copy\n",
    "print(torch.__version__)\n",
    "net = torch.nn.Conv1d(10,10,3)\n",
    "a = copy.deepcopy(net)"
   ]
  },
  {
   "cell_type": "code",
   "execution_count": 2,
   "id": "82547343-b824-4b9e-b50a-a6387e5ef669",
   "metadata": {
    "tags": []
   },
   "outputs": [],
   "source": [
    "net = torch.nn.utils.parametrizations.weight_norm(torch.nn.Conv1d(10,10,3))\n",
    "a = copy.deepcopy(net)"
   ]
  }
 ],
 "metadata": {
  "kernelspec": {
   "display_name": "Python 3 (ipykernel)",
   "language": "python",
   "name": "python3"
  },
  "language_info": {
   "codemirror_mode": {
    "name": "ipython",
    "version": 3
   },
   "file_extension": ".py",
   "mimetype": "text/x-python",
   "name": "python",
   "nbconvert_exporter": "python",
   "pygments_lexer": "ipython3",
   "version": "3.11.5"
  }
 },
 "nbformat": 4,
 "nbformat_minor": 5
}
