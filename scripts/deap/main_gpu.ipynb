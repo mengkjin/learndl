{
 "cells": [
  {
   "cell_type": "code",
   "execution_count": 1,
   "metadata": {},
   "outputs": [
    {
     "name": "stdout",
     "output_type": "stream",
     "text": [
      "Device name: NVIDIA GeForce RTX 4090 , Available: True\n",
      "Pop directory is : \"./pop/2\"\n",
      "Load data Done, cost 44.97 secs\n",
      "14 factors, 15 raw data loaded!\n",
      " ------------------------------- Outer Loop 0 -------------------------------\n",
      "Setting Done, cost 0.06 secs\n",
      "Evolution Done, cost 610.45 secs\n",
      "Good 0 : RankIR 5.34 Corr 0.00 : ts_grouping_difsortavg(signedpower(vwap, 3), _raw(turn_raw), 15, _int1(6))\n",
      "Good 1 : RankIR 5.34 Corr 0.00 : ts_grouping_difsortavg(vwap, _raw(turn_raw), 15, _int1(6))\n",
      "Good 2 : RankIR 5.10 Corr 0.00 : ts_beta(_raw(turn_raw), _raw(_raw(turn_raw)), _int2(_int2(9)))\n",
      "Good 3 : RankIR 5.09 Corr 0.00 : sub(ts_grouping_decsortavg(volume, turn_raw, 10, 3), ep)\n",
      "Good 4 : RankIR 5.03 Corr 0.00 : ts_grouping_difsortavg(rank_sub(amt, ep), _raw(turn_raw), _int3(15), _int1(4))\n",
      "Good 5 : RankIR 5.00 Corr 0.00 : ts_grouping_difsortavg(add(ocfp, volume), turn_raw, _int3(10), _int1(5))\n",
      "Good 6 : RankIR 4.96 Corr 0.00 : sub(ts_grouping_decsortavg(high, turn_raw, 10, 3), adv60)\n",
      "Good 7 : RankIR 4.95 Corr 0.00 : ts_grouping_difsortavg(rank_sub(volume, ep), _raw(turn_raw), _int3(15), _int1(4))\n",
      "Good 8 : RankIR 4.91 Corr 0.00 : scale(ts_grouping_difsortavg(low, turn_raw, 15, 3))\n",
      "Good 9 : RankIR 4.91 Corr 0.00 : ts_grouping_difsortavg(rank_sub(amt, ep), _raw(turn_raw), 10, _int1(4))\n",
      "Good 10 : RankIR 4.90 Corr 0.00 : ts_grouping_difsortavg(neg(low), _raw(turn_raw), 15, _int1(_int1(10)))\n",
      "Good 11 : RankIR 4.90 Corr 0.00 : ts_grouping_difsortavg(high, _raw(_raw(amt_raw)), _int3(_int3(10)), _int1(_int1(7)))\n",
      "Good 12 : RankIR 4.85 Corr 0.00 : ts_grouping_difsortavg(div(scale(bp), rank_pct(bp)), _raw(_raw(turn_raw)), _int3(_int3(10)), _int1(_int1(1)))\n",
      "Good 13 : RankIR 4.82 Corr 0.00 : rank_sub(ts_rankcorr(ts_corr(open_raw, open_raw, 9), _fac(high), _int2(8)), signedpower(ts_beta(bp_raw, turn_raw, 5), _int2(6)))\n",
      "Good 14 : RankIR 4.81 Corr 0.00 : ts_grouping_difsortavg(turn, _raw(turn_raw), 15, _int1(_int1(10)))\n",
      "Good 15 : RankIR 4.80 Corr 0.00 : rank_sub(ts_rankcorr(ts_corr(open_raw, ep_raw, 9), amt, _int2(8)), signedpower(ts_beta(bp_raw, turn_raw, 5), 9))\n",
      "Good 16 : RankIR 4.67 Corr 0.00 : ts_grouping_difsortavg(close, turn_raw, 40, 4)\n",
      "Good 17 : RankIR 4.65 Corr 0.00 : sub(ts_grouping_decsortavg(volume, turn_raw, 10, 3), adv60)\n",
      "Good 18 : RankIR 4.64 Corr 0.00 : ts_stddev(signedpower(ts_beta(bp_raw, turn_raw, 5), _int2(6)), _int2(9))\n",
      "Good 19 : RankIR 4.63 Corr 0.00 : scale(ts_beta(bp_raw, turn_raw, 5))\n",
      "Good 20 : RankIR 4.63 Corr 0.00 : rank_pct(signedpower(ts_beta(bp_raw, turn_raw, 5), 9))\n",
      "Good 21 : RankIR 4.62 Corr 0.00 : ts_grouping_difsortavg(vwap, _raw(turn_raw), 40, _int1(6))\n",
      "Good 22 : RankIR 4.61 Corr 0.00 : ts_grouping_difsortavg(vwap, volume_raw, 10, 2)\n",
      "Good 23 : RankIR 4.55 Corr 0.00 : sub(ts_grouping_decsortavg(adv20, turn_raw, 10, 3), adv60)\n",
      "Good 24 : RankIR 4.50 Corr 0.00 : rank_sub(ts_rankcorr(ts_corr(open_raw, volume_raw, 9), _fac(high), _int2(8)), signedpower(ts_beta(bp_raw, turn_raw, 5), _int2(6)))\n",
      "Good 25 : RankIR 4.49 Corr 0.00 : rank_sub(ts_rankcorr(ts_corr(open_raw, ep_raw, 9), _fac(turn), _int2(8)), signedpower(ts_beta(bp_raw, turn_raw, 5), _int2(6)))\n",
      "Good 26 : RankIR 4.46 Corr 0.00 : log(ts_grouping_difsortavg(ts_delta(ts_corr(_raw(vwap_raw), high_raw, _int2(6)), _int1(5)), _raw(_raw(turn_raw)), _int3(_int3(_int3(10))), 2))\n",
      "Good 27 : RankIR 4.46 Corr 0.00 : rank_sub(ts_rankcorr(ts_corr(open_raw, ep_raw, 9), _fac(high), _int2(8)), signedpower(ts_beta(bp_raw, turn_raw, 5), _int2(6)))\n",
      "Good 28 : RankIR 4.46 Corr 0.00 : ts_grouping_decsortavg(rank_add(amt, ts_lin_decay(adv20, 3)), _raw(_raw(turn_raw)), _int3(20), _int1(4))\n",
      "Good 29 : RankIR 4.44 Corr 0.00 : ts_grouping_difsortavg(div(scale(bp), rank_pct(bp)), _raw(_raw(turn_raw)), _int3(_int3(20)), _int1(_int1(1)))\n",
      "Good 30 : RankIR 4.42 Corr 0.00 : ts_grouping_decsortavg(close, turn_raw, _int3(_int3(10)), 6)\n",
      "Good 31 : RankIR 4.34 Corr 0.00 : ts_corr(_raw(close_raw), _raw(_raw(turn_raw)), _int2(10))\n",
      "Good 32 : RankIR 4.33 Corr 0.00 : mul(ts_grouping_decsortavg(ts_beta(_raw(turn_raw), _raw(dp_raw), _int2(5)), _raw(_raw(volume_raw)), _int3(_int3(10)), _int1(_int1(5))), ts_product(ts_corr(_raw(high_raw), _raw(amt_raw), _int2(8)), _int2(_int2(6))))\n",
      "Good 33 : RankIR 4.32 Corr 0.00 : ts_grouping_decsortavg(ts_delta(amt, 4), _raw(turn_raw), _int3(_int3(15)), _int1(2))\n",
      "Good 34 : RankIR 4.32 Corr 0.00 : rank_sub(ts_rankcorr(ts_corr(open_raw, ep_raw, 9), _fac(high), _int2(8)), signedpower(ts_beta(bp_raw, turn_raw, 5), 9))\n",
      "Good 35 : RankIR 4.31 Corr 0.00 : rank_sub(ts_rankcorr(ts_corr(open_raw, ep_raw, 9), _fac(dp), _int2(8)), signedpower(ts_beta(bp_raw, turn_raw, 5), _int2(6)))\n",
      "Good 36 : RankIR 4.29 Corr 0.00 : ts_corr(close_raw, _raw(turn_raw), _int2(9))\n",
      "Good 37 : RankIR 4.29 Corr 0.00 : ts_lin_decay_pos(ts_beta(_raw(_raw(rtn_raw)), _raw(_raw(turn_raw)), _int2(_int2(5))), ts_rankcorr(ts_lin_decay(ts_max(low, 7), _int2(9)), ts_delay(sub(close, adv20), _int1(5)), _int2(_int2(3))), _int3(_int3(_int3(15))))\n",
      "Good 38 : RankIR 4.28 Corr 0.00 : rank_div(neg(adv60), ts_grouping_difsortavg(turn, turn_raw, 15, 3))\n",
      "Good 39 : RankIR 4.28 Corr 0.00 : rank_div(neg(adv60), ts_grouping_difsortavg(low, turn_raw, 15, 3))\n",
      "Good 40 : RankIR 4.27 Corr 0.00 : ts_grouping_decsortavg(rank_add(ts_stddev(adv60, 2), ts_lin_decay(adv20, 3)), _raw(_raw(turn_raw)), _int3(20), _int1(4))\n",
      "Good 41 : RankIR 4.26 Corr 0.00 : ts_grouping_decsortavg(rank_add(ts_stddev(adv60, 10), ts_lin_decay(low, 10)), _raw(_raw(turn_raw)), _int3(20), _int1(4))\n",
      "Good 42 : RankIR 4.24 Corr 0.00 : ts_grouping_decsortavg(close, turn_raw, 40, 4)\n",
      "Good 43 : RankIR 4.24 Corr 0.00 : ts_grouping_decsortavg(rank_add(ts_stddev(adv60, 4), ts_lin_decay(adv20, 3)), _raw(_raw(turn_raw)), _int3(20), _int1(4))\n",
      "Good 44 : RankIR 4.23 Corr 0.00 : ts_corr(amt_raw, high_raw, 9)\n",
      "Good 45 : RankIR 4.23 Corr 0.00 : ts_max(ts_corr(_raw(high_raw), _raw(turn_raw), _int2(7)), _int2(_int2(6)))\n",
      "Good 46 : RankIR 4.23 Corr 0.00 : ts_grouping_decsortavg(ts_delta(volume, 4), _raw(turn_raw), _int3(20), _int1(2))\n",
      "Good 47 : RankIR 4.23 Corr 0.00 : ts_max(ts_corr(_raw(high_raw), _raw(turn_raw), _int2(7)), 4)\n",
      "Good 48 : RankIR 4.23 Corr 0.00 : ts_grouping_decsortavg(ts_delta(turn, 4), _raw(turn_raw), _int3(20), _int1(2))\n",
      "Good 49 : RankIR 4.23 Corr 0.00 : ts_max(ts_corr(_raw(high_raw), _raw(turn_raw), _int2(7)), 5)\n",
      "Good 50 : RankIR 4.23 Corr 0.00 : ts_max(ts_corr(_raw(high_raw), _raw(turn_raw), _int2(7)), _int2(_int2(5)))\n",
      "Good 51 : RankIR 4.21 Corr 0.00 : ts_grouping_decsortavg(rank_add(ts_stddev(volume, 10), ts_lin_decay(adv20, 7)), _raw(_raw(turn_raw)), _int3(20), _int1(4))\n",
      "Good 52 : RankIR 4.20 Corr 0.00 : ts_grouping_decsortavg(adv60, _raw(turn_raw), _int3(20), _int1(2))\n",
      "Good 53 : RankIR 4.19 Corr 0.00 : rank_pct(neg(ts_beta(_raw(_raw(bp_raw)), _raw(_raw(volume_raw)), _int2(_int2(5)))))\n",
      "Good 54 : RankIR 4.18 Corr 0.00 : rank_pct(ts_grouping_decsortavg(add(adv20, amt), _raw(turn_raw), _int3(10), _int1(10)))\n",
      "Good 55 : RankIR 4.18 Corr 0.00 : rank_pct(ts_grouping_decsortavg(ts_lin_decay(high, 2), _raw(turn_raw), _int3(10), _int1(10)))\n",
      "Good 56 : RankIR 4.17 Corr 0.00 : ts_grouping_ascsortavg(sigmoid(ocfp), turn_raw, 15, _int1(_int1(_int1(_int1(2)))))\n",
      "Good 57 : RankIR 4.17 Corr 0.00 : ts_grouping_difsortavg(volume, high_raw, 10, 2)\n",
      "Good 58 : RankIR 4.17 Corr 0.00 : ts_grouping_decsortavg(close, turn_raw, 40, _int1(8))\n",
      "Good 59 : RankIR 4.17 Corr 0.00 : ts_grouping_decsortavg(close, turn_raw, 40, 8)\n",
      "Good 60 : RankIR 4.16 Corr 0.00 : ts_grouping_ascsortavg(sigmoid(ocfp), turn_raw, 15, _int1(_int1(3)))\n",
      "Good 61 : RankIR 4.14 Corr 0.00 : ts_grouping_decsortavg(rank_add(ts_stddev(adv60, 10), ts_lin_decay(adv20, 3)), _raw(_raw(turn_raw)), 15, _int1(4))\n",
      "Good 62 : RankIR 4.14 Corr 0.00 : ts_grouping_decsortavg(rank_add(ts_stddev(adv60, 10), ts_lin_decay(adv20, 3)), _raw(_raw(turn_raw)), _int3(_int3(15)), _int1(4))\n",
      "Good 63 : RankIR 4.14 Corr 0.00 : ts_grouping_decsortavg(ts_grouping_decsortavg(ts_rankcorr(rank_div(ts_min(amt, 8), _fac(dp)), ts_lin_decay_pos(ts_grouping_decsortavg(adv60, bp_raw, 20, 10), ts_argmax(low_raw, 7), _int3(10)), _int2(_int2(4))), _raw(_raw(_raw(vwap_raw))), _int3(_int3(_int3(10))), _int1(_int1(_int1(9)))), _raw(_raw(_raw(_raw(turn_raw)))), _int3(_int3(_int3(_int3(15)))), _int1(_int1(_int1(_int1(3)))))\n",
      "Selection Done, cost 280.09 secs\n"
     ]
    },
    {
     "ename": "OSError",
     "evalue": "[Errno 36] File name too long: './pop/2/factor/ts_grouping_decsortavg(ts_grouping_decsortavg(ts_rankcorr(rank_div(ts_min(amt, 8), _fac(dp)), ts_lin_decay_pos(ts_grouping_decsortavg(adv60, bp_raw, 20, 10), ts_argmax(low_raw, 7), _int3(10)), _int2(_int2(4))), _raw(_raw(_raw(vwap_raw))), _int3(_int3(_int3(10))), _int1(_int1(_int1(9)))), _raw(_raw(_raw(_raw(turn_raw)))), _int3(_int3(_int3(_int3(15)))), _int1(_int1(_int1(_int1(3))))).parquet'",
     "output_type": "error",
     "traceback": [
      "\u001b[0;31m---------------------------------------------------------------------------\u001b[0m",
      "\u001b[0;31mOSError\u001b[0m                                   Traceback (most recent call last)",
      "Cell \u001b[0;32mIn[1], line 2\u001b[0m\n\u001b[1;32m      1\u001b[0m \u001b[38;5;28;01mfrom\u001b[39;00m \u001b[38;5;21;01mrecreate\u001b[39;00m \u001b[38;5;28;01mimport\u001b[39;00m main\n\u001b[0;32m----> 2\u001b[0m \u001b[43mmain\u001b[49m\u001b[43m(\u001b[49m\u001b[38;5;28;43;01mFalse\u001b[39;49;00m\u001b[43m \u001b[49m\u001b[43m,\u001b[49m\u001b[43m \u001b[49m\u001b[43mjob_id\u001b[49m\u001b[38;5;241;43m=\u001b[39;49m\u001b[43m \u001b[49m\u001b[38;5;241;43m-\u001b[39;49m\u001b[38;5;241;43m1\u001b[39;49m\u001b[43m)\u001b[49m\n",
      "File \u001b[0;32m~/Workspace/DEAP_GPU_core/recreate.py:548\u001b[0m, in \u001b[0;36mmain\u001b[0;34m(test_code, job_id)\u001b[0m\n\u001b[1;32m    546\u001b[0m \u001b[38;5;28;01mfor\u001b[39;00m i_iter \u001b[38;5;129;01min\u001b[39;00m \u001b[38;5;28mrange\u001b[39m(gp_dict[\u001b[38;5;124m'\u001b[39m\u001b[38;5;124mn_iter\u001b[39m\u001b[38;5;124m'\u001b[39m]):\n\u001b[1;32m    547\u001b[0m     \u001b[38;5;28mprint\u001b[39m(\u001b[38;5;124mf\u001b[39m\u001b[38;5;124m'\u001b[39m\u001b[38;5;124m ------------------------------- Outer Loop \u001b[39m\u001b[38;5;132;01m{\u001b[39;00mi_iter\u001b[38;5;132;01m}\u001b[39;00m\u001b[38;5;124m -------------------------------\u001b[39m\u001b[38;5;124m'\u001b[39m)\n\u001b[0;32m--> 548\u001b[0m     \u001b[43mouter_loop\u001b[49m\u001b[43m(\u001b[49m\u001b[43mi_iter\u001b[49m\u001b[43m \u001b[49m\u001b[43m,\u001b[49m\u001b[43m \u001b[49m\u001b[43mgp_dict\u001b[49m\u001b[43m)\u001b[49m\n\u001b[1;32m    549\u001b[0m \u001b[38;5;28mprint\u001b[39m(\u001b[38;5;124m'\u001b[39m\u001b[38;5;124mTotal time cost table:\u001b[39m\u001b[38;5;124m'\u001b[39m)\n\u001b[1;32m    550\u001b[0m gp_dict[\u001b[38;5;124m'\u001b[39m\u001b[38;5;124mgp_timer\u001b[39m\u001b[38;5;124m'\u001b[39m]\u001b[38;5;241m.\u001b[39msave_to_csv(\u001b[38;5;124mf\u001b[39m\u001b[38;5;124m'\u001b[39m\u001b[38;5;132;01m{\u001b[39;00m_DIR_job\u001b[38;5;132;01m}\u001b[39;00m\u001b[38;5;124m/saved_times.csv\u001b[39m\u001b[38;5;124m'\u001b[39m , print_out \u001b[38;5;241m=\u001b[39m \u001b[38;5;28;01mTrue\u001b[39;00m)\n",
      "File \u001b[0;32m~/Workspace/DEAP_GPU_core/recreate.py:515\u001b[0m, in \u001b[0;36mouter_loop\u001b[0;34m(i_iter, gp_dict)\u001b[0m\n\u001b[1;32m    513\u001b[0m \u001b[38;5;124;03m'''good_log文件为因子库，存储了因子表达式、rankIR值等信息。在具体因子值存储在factor文件夹的parquet文件中'''\u001b[39;00m\n\u001b[1;32m    514\u001b[0m \u001b[38;5;28;01mwith\u001b[39;00m gp_dict[\u001b[38;5;124m'\u001b[39m\u001b[38;5;124mgp_timer\u001b[39m\u001b[38;5;124m'\u001b[39m](\u001b[38;5;124m'\u001b[39m\u001b[38;5;124mSelection\u001b[39m\u001b[38;5;124m'\u001b[39m):\n\u001b[0;32m--> 515\u001b[0m     halloffame, hof_good_list \u001b[38;5;241m=\u001b[39m \u001b[43mgp_hof_eval\u001b[49m\u001b[43m(\u001b[49m\u001b[43mtoolbox\u001b[49m\u001b[43m \u001b[49m\u001b[43m,\u001b[49m\u001b[43m \u001b[49m\u001b[43mhalloffame\u001b[49m\u001b[43m,\u001b[49m\u001b[43m \u001b[49m\u001b[38;5;241;43m*\u001b[39;49m\u001b[38;5;241;43m*\u001b[39;49m\u001b[43mgp_dict\u001b[49m\u001b[43m)\u001b[49m\n\u001b[1;32m    517\u001b[0m \u001b[38;5;124;03m'''更新labels_resid，并保存本轮循环的最终结果'''\u001b[39;00m\n\u001b[1;32m    518\u001b[0m \u001b[38;5;28;01mwith\u001b[39;00m gp_dict[\u001b[38;5;124m'\u001b[39m\u001b[38;5;124mgp_timer\u001b[39m\u001b[38;5;124m'\u001b[39m](\u001b[38;5;124m'\u001b[39m\u001b[38;5;124mNeu_dump\u001b[39m\u001b[38;5;124m'\u001b[39m):\n\u001b[1;32m    519\u001b[0m     \u001b[38;5;66;03m# update labels_resid, according to hof_good_list (maybe no need to neutralize according to size and indus)\u001b[39;00m\n",
      "File \u001b[0;32m~/Workspace/DEAP_GPU_core/recreate.py:478\u001b[0m, in \u001b[0;36mgp_hof_eval\u001b[0;34m(toolbox, halloffame, i_iter, gp_values, ir_floor, corr_cap, gp_timer, verbose, **kwargs)\u001b[0m\n\u001b[1;32m    476\u001b[0m hof_good_list\u001b[38;5;241m.\u001b[39mappend(factor_value)\n\u001b[1;32m    477\u001b[0m df \u001b[38;5;241m=\u001b[39m pd\u001b[38;5;241m.\u001b[39mDataFrame(factor_value\u001b[38;5;241m.\u001b[39mcpu(), index\u001b[38;5;241m=\u001b[39mkwargs[\u001b[38;5;124m'\u001b[39m\u001b[38;5;124mdf_index\u001b[39m\u001b[38;5;124m'\u001b[39m], columns\u001b[38;5;241m=\u001b[39mkwargs[\u001b[38;5;124m'\u001b[39m\u001b[38;5;124mdf_columns\u001b[39m\u001b[38;5;124m'\u001b[39m]) \u001b[38;5;66;03m# type: ignore\u001b[39;00m\n\u001b[0;32m--> 478\u001b[0m \u001b[43mdf\u001b[49m\u001b[38;5;241;43m.\u001b[39;49m\u001b[43mto_parquet\u001b[49m\u001b[43m(\u001b[49m\u001b[38;5;124;43mf\u001b[39;49m\u001b[38;5;124;43m'\u001b[39;49m\u001b[38;5;132;43;01m{\u001b[39;49;00m\u001b[43m_DIR_job\u001b[49m\u001b[38;5;132;43;01m}\u001b[39;49;00m\u001b[38;5;124;43m/factor/\u001b[39;49m\u001b[38;5;132;43;01m{\u001b[39;49;00m\u001b[38;5;28;43mstr\u001b[39;49m\u001b[43m(\u001b[49m\u001b[43mhof_single\u001b[49m\u001b[43m)\u001b[49m\u001b[38;5;132;43;01m}\u001b[39;49;00m\u001b[38;5;124;43m.parquet\u001b[39;49m\u001b[38;5;124;43m'\u001b[39;49m\u001b[43m,\u001b[49m\u001b[43m \u001b[49m\u001b[43mengine\u001b[49m\u001b[38;5;241;43m=\u001b[39;49m\u001b[38;5;124;43m'\u001b[39;49m\u001b[38;5;124;43mfastparquet\u001b[39;49m\u001b[38;5;124;43m'\u001b[39;49m\u001b[43m)\u001b[49m\n\u001b[1;32m    480\u001b[0m df \u001b[38;5;241m=\u001b[39m pd\u001b[38;5;241m.\u001b[39mDataFrame([[i_iter,\u001b[38;5;28mstr\u001b[39m(hof_single),\u001b[38;5;241m*\u001b[39mhof_single\u001b[38;5;241m.\u001b[39mir_list]],columns\u001b[38;5;241m=\u001b[39mgood_log\u001b[38;5;241m.\u001b[39mcolumns) \u001b[38;5;66;03m# new good_log\u001b[39;00m\n\u001b[1;32m    481\u001b[0m good_log \u001b[38;5;241m=\u001b[39m pd\u001b[38;5;241m.\u001b[39mconcat([good_log,df],axis\u001b[38;5;241m=\u001b[39m\u001b[38;5;241m0\u001b[39m)\n",
      "File \u001b[0;32m~/.local/lib/python3.10/site-packages/pandas/util/_decorators.py:333\u001b[0m, in \u001b[0;36mdeprecate_nonkeyword_arguments.<locals>.decorate.<locals>.wrapper\u001b[0;34m(*args, **kwargs)\u001b[0m\n\u001b[1;32m    327\u001b[0m \u001b[38;5;28;01mif\u001b[39;00m \u001b[38;5;28mlen\u001b[39m(args) \u001b[38;5;241m>\u001b[39m num_allow_args:\n\u001b[1;32m    328\u001b[0m     warnings\u001b[38;5;241m.\u001b[39mwarn(\n\u001b[1;32m    329\u001b[0m         msg\u001b[38;5;241m.\u001b[39mformat(arguments\u001b[38;5;241m=\u001b[39m_format_argument_list(allow_args)),\n\u001b[1;32m    330\u001b[0m         \u001b[38;5;167;01mFutureWarning\u001b[39;00m,\n\u001b[1;32m    331\u001b[0m         stacklevel\u001b[38;5;241m=\u001b[39mfind_stack_level(),\n\u001b[1;32m    332\u001b[0m     )\n\u001b[0;32m--> 333\u001b[0m \u001b[38;5;28;01mreturn\u001b[39;00m \u001b[43mfunc\u001b[49m\u001b[43m(\u001b[49m\u001b[38;5;241;43m*\u001b[39;49m\u001b[43margs\u001b[49m\u001b[43m,\u001b[49m\u001b[43m \u001b[49m\u001b[38;5;241;43m*\u001b[39;49m\u001b[38;5;241;43m*\u001b[39;49m\u001b[43mkwargs\u001b[49m\u001b[43m)\u001b[49m\n",
      "File \u001b[0;32m~/.local/lib/python3.10/site-packages/pandas/core/frame.py:3101\u001b[0m, in \u001b[0;36mDataFrame.to_parquet\u001b[0;34m(self, path, engine, compression, index, partition_cols, storage_options, **kwargs)\u001b[0m\n\u001b[1;32m   3020\u001b[0m \u001b[38;5;124;03m\"\"\"\u001b[39;00m\n\u001b[1;32m   3021\u001b[0m \u001b[38;5;124;03mWrite a DataFrame to the binary parquet format.\u001b[39;00m\n\u001b[1;32m   3022\u001b[0m \n\u001b[0;32m   (...)\u001b[0m\n\u001b[1;32m   3097\u001b[0m \u001b[38;5;124;03m>>> content = f.read()\u001b[39;00m\n\u001b[1;32m   3098\u001b[0m \u001b[38;5;124;03m\"\"\"\u001b[39;00m\n\u001b[1;32m   3099\u001b[0m \u001b[38;5;28;01mfrom\u001b[39;00m \u001b[38;5;21;01mpandas\u001b[39;00m\u001b[38;5;21;01m.\u001b[39;00m\u001b[38;5;21;01mio\u001b[39;00m\u001b[38;5;21;01m.\u001b[39;00m\u001b[38;5;21;01mparquet\u001b[39;00m \u001b[38;5;28;01mimport\u001b[39;00m to_parquet\n\u001b[0;32m-> 3101\u001b[0m \u001b[38;5;28;01mreturn\u001b[39;00m \u001b[43mto_parquet\u001b[49m\u001b[43m(\u001b[49m\n\u001b[1;32m   3102\u001b[0m \u001b[43m    \u001b[49m\u001b[38;5;28;43mself\u001b[39;49m\u001b[43m,\u001b[49m\n\u001b[1;32m   3103\u001b[0m \u001b[43m    \u001b[49m\u001b[43mpath\u001b[49m\u001b[43m,\u001b[49m\n\u001b[1;32m   3104\u001b[0m \u001b[43m    \u001b[49m\u001b[43mengine\u001b[49m\u001b[43m,\u001b[49m\n\u001b[1;32m   3105\u001b[0m \u001b[43m    \u001b[49m\u001b[43mcompression\u001b[49m\u001b[38;5;241;43m=\u001b[39;49m\u001b[43mcompression\u001b[49m\u001b[43m,\u001b[49m\n\u001b[1;32m   3106\u001b[0m \u001b[43m    \u001b[49m\u001b[43mindex\u001b[49m\u001b[38;5;241;43m=\u001b[39;49m\u001b[43mindex\u001b[49m\u001b[43m,\u001b[49m\n\u001b[1;32m   3107\u001b[0m \u001b[43m    \u001b[49m\u001b[43mpartition_cols\u001b[49m\u001b[38;5;241;43m=\u001b[39;49m\u001b[43mpartition_cols\u001b[49m\u001b[43m,\u001b[49m\n\u001b[1;32m   3108\u001b[0m \u001b[43m    \u001b[49m\u001b[43mstorage_options\u001b[49m\u001b[38;5;241;43m=\u001b[39;49m\u001b[43mstorage_options\u001b[49m\u001b[43m,\u001b[49m\n\u001b[1;32m   3109\u001b[0m \u001b[43m    \u001b[49m\u001b[38;5;241;43m*\u001b[39;49m\u001b[38;5;241;43m*\u001b[39;49m\u001b[43mkwargs\u001b[49m\u001b[43m,\u001b[49m\n\u001b[1;32m   3110\u001b[0m \u001b[43m\u001b[49m\u001b[43m)\u001b[49m\n",
      "File \u001b[0;32m~/.local/lib/python3.10/site-packages/pandas/io/parquet.py:480\u001b[0m, in \u001b[0;36mto_parquet\u001b[0;34m(df, path, engine, compression, index, storage_options, partition_cols, filesystem, **kwargs)\u001b[0m\n\u001b[1;32m    476\u001b[0m impl \u001b[38;5;241m=\u001b[39m get_engine(engine)\n\u001b[1;32m    478\u001b[0m path_or_buf: FilePath \u001b[38;5;241m|\u001b[39m WriteBuffer[\u001b[38;5;28mbytes\u001b[39m] \u001b[38;5;241m=\u001b[39m io\u001b[38;5;241m.\u001b[39mBytesIO() \u001b[38;5;28;01mif\u001b[39;00m path \u001b[38;5;129;01mis\u001b[39;00m \u001b[38;5;28;01mNone\u001b[39;00m \u001b[38;5;28;01melse\u001b[39;00m path\n\u001b[0;32m--> 480\u001b[0m \u001b[43mimpl\u001b[49m\u001b[38;5;241;43m.\u001b[39;49m\u001b[43mwrite\u001b[49m\u001b[43m(\u001b[49m\n\u001b[1;32m    481\u001b[0m \u001b[43m    \u001b[49m\u001b[43mdf\u001b[49m\u001b[43m,\u001b[49m\n\u001b[1;32m    482\u001b[0m \u001b[43m    \u001b[49m\u001b[43mpath_or_buf\u001b[49m\u001b[43m,\u001b[49m\n\u001b[1;32m    483\u001b[0m \u001b[43m    \u001b[49m\u001b[43mcompression\u001b[49m\u001b[38;5;241;43m=\u001b[39;49m\u001b[43mcompression\u001b[49m\u001b[43m,\u001b[49m\n\u001b[1;32m    484\u001b[0m \u001b[43m    \u001b[49m\u001b[43mindex\u001b[49m\u001b[38;5;241;43m=\u001b[39;49m\u001b[43mindex\u001b[49m\u001b[43m,\u001b[49m\n\u001b[1;32m    485\u001b[0m \u001b[43m    \u001b[49m\u001b[43mpartition_cols\u001b[49m\u001b[38;5;241;43m=\u001b[39;49m\u001b[43mpartition_cols\u001b[49m\u001b[43m,\u001b[49m\n\u001b[1;32m    486\u001b[0m \u001b[43m    \u001b[49m\u001b[43mstorage_options\u001b[49m\u001b[38;5;241;43m=\u001b[39;49m\u001b[43mstorage_options\u001b[49m\u001b[43m,\u001b[49m\n\u001b[1;32m    487\u001b[0m \u001b[43m    \u001b[49m\u001b[43mfilesystem\u001b[49m\u001b[38;5;241;43m=\u001b[39;49m\u001b[43mfilesystem\u001b[49m\u001b[43m,\u001b[49m\n\u001b[1;32m    488\u001b[0m \u001b[43m    \u001b[49m\u001b[38;5;241;43m*\u001b[39;49m\u001b[38;5;241;43m*\u001b[39;49m\u001b[43mkwargs\u001b[49m\u001b[43m,\u001b[49m\n\u001b[1;32m    489\u001b[0m \u001b[43m\u001b[49m\u001b[43m)\u001b[49m\n\u001b[1;32m    491\u001b[0m \u001b[38;5;28;01mif\u001b[39;00m path \u001b[38;5;129;01mis\u001b[39;00m \u001b[38;5;28;01mNone\u001b[39;00m:\n\u001b[1;32m    492\u001b[0m     \u001b[38;5;28;01massert\u001b[39;00m \u001b[38;5;28misinstance\u001b[39m(path_or_buf, io\u001b[38;5;241m.\u001b[39mBytesIO)\n",
      "File \u001b[0;32m~/.local/lib/python3.10/site-packages/pandas/io/parquet.py:349\u001b[0m, in \u001b[0;36mFastParquetImpl.write\u001b[0;34m(self, df, path, compression, index, partition_cols, storage_options, filesystem, **kwargs)\u001b[0m\n\u001b[1;32m    344\u001b[0m     \u001b[38;5;28;01mraise\u001b[39;00m \u001b[38;5;167;01mValueError\u001b[39;00m(\n\u001b[1;32m    345\u001b[0m         \u001b[38;5;124m\"\u001b[39m\u001b[38;5;124mstorage_options passed with file object or non-fsspec file path\u001b[39m\u001b[38;5;124m\"\u001b[39m\n\u001b[1;32m    346\u001b[0m     )\n\u001b[1;32m    348\u001b[0m \u001b[38;5;28;01mwith\u001b[39;00m catch_warnings(record\u001b[38;5;241m=\u001b[39m\u001b[38;5;28;01mTrue\u001b[39;00m):\n\u001b[0;32m--> 349\u001b[0m     \u001b[38;5;28;43mself\u001b[39;49m\u001b[38;5;241;43m.\u001b[39;49m\u001b[43mapi\u001b[49m\u001b[38;5;241;43m.\u001b[39;49m\u001b[43mwrite\u001b[49m\u001b[43m(\u001b[49m\n\u001b[1;32m    350\u001b[0m \u001b[43m        \u001b[49m\u001b[43mpath\u001b[49m\u001b[43m,\u001b[49m\n\u001b[1;32m    351\u001b[0m \u001b[43m        \u001b[49m\u001b[43mdf\u001b[49m\u001b[43m,\u001b[49m\n\u001b[1;32m    352\u001b[0m \u001b[43m        \u001b[49m\u001b[43mcompression\u001b[49m\u001b[38;5;241;43m=\u001b[39;49m\u001b[43mcompression\u001b[49m\u001b[43m,\u001b[49m\n\u001b[1;32m    353\u001b[0m \u001b[43m        \u001b[49m\u001b[43mwrite_index\u001b[49m\u001b[38;5;241;43m=\u001b[39;49m\u001b[43mindex\u001b[49m\u001b[43m,\u001b[49m\n\u001b[1;32m    354\u001b[0m \u001b[43m        \u001b[49m\u001b[43mpartition_on\u001b[49m\u001b[38;5;241;43m=\u001b[39;49m\u001b[43mpartition_cols\u001b[49m\u001b[43m,\u001b[49m\n\u001b[1;32m    355\u001b[0m \u001b[43m        \u001b[49m\u001b[38;5;241;43m*\u001b[39;49m\u001b[38;5;241;43m*\u001b[39;49m\u001b[43mkwargs\u001b[49m\u001b[43m,\u001b[49m\n\u001b[1;32m    356\u001b[0m \u001b[43m    \u001b[49m\u001b[43m)\u001b[49m\n",
      "File \u001b[0;32m~/.local/lib/python3.10/site-packages/fastparquet/writer.py:1321\u001b[0m, in \u001b[0;36mwrite\u001b[0;34m(filename, data, row_group_offsets, compression, file_scheme, open_with, mkdirs, has_nulls, write_index, partition_on, fixed_text, append, object_encoding, times, custom_metadata, stats)\u001b[0m\n\u001b[1;32m   1317\u001b[0m     fmd\u001b[38;5;241m.\u001b[39mkey_value_metadata \u001b[38;5;241m=\u001b[39m kvm\n\u001b[1;32m   1319\u001b[0m \u001b[38;5;28;01mif\u001b[39;00m file_scheme \u001b[38;5;241m==\u001b[39m \u001b[38;5;124m'\u001b[39m\u001b[38;5;124msimple\u001b[39m\u001b[38;5;124m'\u001b[39m:\n\u001b[1;32m   1320\u001b[0m     \u001b[38;5;66;03m# Case 'simple'\u001b[39;00m\n\u001b[0;32m-> 1321\u001b[0m     \u001b[43mwrite_simple\u001b[49m\u001b[43m(\u001b[49m\u001b[43mfilename\u001b[49m\u001b[43m,\u001b[49m\u001b[43m \u001b[49m\u001b[43mdata\u001b[49m\u001b[43m,\u001b[49m\u001b[43m \u001b[49m\u001b[43mfmd\u001b[49m\u001b[43m,\u001b[49m\n\u001b[1;32m   1322\u001b[0m \u001b[43m                 \u001b[49m\u001b[43mrow_group_offsets\u001b[49m\u001b[38;5;241;43m=\u001b[39;49m\u001b[43mrow_group_offsets\u001b[49m\u001b[43m,\u001b[49m\n\u001b[1;32m   1323\u001b[0m \u001b[43m                 \u001b[49m\u001b[43mcompression\u001b[49m\u001b[38;5;241;43m=\u001b[39;49m\u001b[43mcompression\u001b[49m\u001b[43m,\u001b[49m\u001b[43m \u001b[49m\u001b[43mopen_with\u001b[49m\u001b[38;5;241;43m=\u001b[39;49m\u001b[43mopen_with\u001b[49m\u001b[43m,\u001b[49m\n\u001b[1;32m   1324\u001b[0m \u001b[43m                 \u001b[49m\u001b[43mhas_nulls\u001b[49m\u001b[38;5;241;43m=\u001b[39;49m\u001b[38;5;28;43;01mNone\u001b[39;49;00m\u001b[43m,\u001b[49m\u001b[43m \u001b[49m\u001b[43mappend\u001b[49m\u001b[38;5;241;43m=\u001b[39;49m\u001b[38;5;28;43;01mFalse\u001b[39;49;00m\u001b[43m,\u001b[49m\u001b[43m \u001b[49m\u001b[43mstats\u001b[49m\u001b[38;5;241;43m=\u001b[39;49m\u001b[43mstats\u001b[49m\u001b[43m)\u001b[49m\n\u001b[1;32m   1325\u001b[0m \u001b[38;5;28;01melse\u001b[39;00m:\n\u001b[1;32m   1326\u001b[0m     \u001b[38;5;66;03m# Case 'hive', 'drill'\u001b[39;00m\n\u001b[1;32m   1327\u001b[0m     write_multi(filename, data, fmd,\n\u001b[1;32m   1328\u001b[0m                 row_group_offsets\u001b[38;5;241m=\u001b[39mrow_group_offsets,\n\u001b[1;32m   1329\u001b[0m                 compression\u001b[38;5;241m=\u001b[39mcompression, file_scheme\u001b[38;5;241m=\u001b[39mfile_scheme,\n\u001b[1;32m   1330\u001b[0m                 write_fmd\u001b[38;5;241m=\u001b[39m\u001b[38;5;28;01mTrue\u001b[39;00m, open_with\u001b[38;5;241m=\u001b[39mopen_with,\n\u001b[1;32m   1331\u001b[0m                 mkdirs\u001b[38;5;241m=\u001b[39mmkdirs, partition_on\u001b[38;5;241m=\u001b[39mpartition_on,\n\u001b[1;32m   1332\u001b[0m                 append\u001b[38;5;241m=\u001b[39m\u001b[38;5;28;01mFalse\u001b[39;00m, stats\u001b[38;5;241m=\u001b[39mstats)\n",
      "File \u001b[0;32m~/.local/lib/python3.10/site-packages/fastparquet/writer.py:963\u001b[0m, in \u001b[0;36mwrite_simple\u001b[0;34m(fn, data, fmd, row_group_offsets, compression, open_with, has_nulls, append, stats)\u001b[0m\n\u001b[1;32m    961\u001b[0m     of \u001b[38;5;241m=\u001b[39m fn\n\u001b[1;32m    962\u001b[0m \u001b[38;5;28;01melse\u001b[39;00m:\n\u001b[0;32m--> 963\u001b[0m     of \u001b[38;5;241m=\u001b[39m \u001b[43mopen_with\u001b[49m\u001b[43m(\u001b[49m\u001b[43mfn\u001b[49m\u001b[43m,\u001b[49m\u001b[43m \u001b[49m\u001b[43mmode\u001b[49m\u001b[43m)\u001b[49m\n\u001b[1;32m    964\u001b[0m \u001b[38;5;28;01mwith\u001b[39;00m of \u001b[38;5;28;01mas\u001b[39;00m f:\n\u001b[1;32m    965\u001b[0m     \u001b[38;5;28;01mif\u001b[39;00m append:\n",
      "\u001b[0;31mOSError\u001b[0m: [Errno 36] File name too long: './pop/2/factor/ts_grouping_decsortavg(ts_grouping_decsortavg(ts_rankcorr(rank_div(ts_min(amt, 8), _fac(dp)), ts_lin_decay_pos(ts_grouping_decsortavg(adv60, bp_raw, 20, 10), ts_argmax(low_raw, 7), _int3(10)), _int2(_int2(4))), _raw(_raw(_raw(vwap_raw))), _int3(_int3(_int3(10))), _int1(_int1(_int1(9)))), _raw(_raw(_raw(_raw(turn_raw)))), _int3(_int3(_int3(_int3(15)))), _int1(_int1(_int1(_int1(3))))).parquet'"
     ]
    }
   ],
   "source": [
    "from recreate import main\n",
    "main(False , job_id= -1)"
   ]
  },
  {
   "cell_type": "code",
   "execution_count": 1,
   "metadata": {},
   "outputs": [
    {
     "name": "stdout",
     "output_type": "stream",
     "text": [
      "Device name: NVIDIA GeForce RTX 4090 , Available: True\n",
      "Pop directory is : \"./pop/bendi\"\n",
      "Directly load ./data/package/gp_data_package.pt\n",
      "Load data Done, cost 0.42 secs\n",
      "14 factors, 15 raw data loaded!\n",
      " ----------------------- Outer Loop 0 -----------------------\n",
      "Setting Done, cost 0.00 secs\n",
      "i_gen\tnevals\n",
      "0    \t4     \n",
      "1    \t2     \n",
      "2    \t2     \n",
      "Evolution Done, cost 0.21 secs\n",
      "Good 0 : RankIR 4.12 Corr 0.00 : add(low, amt)\n",
      "Good 1 : RankIR 3.77 Corr 0.00 : rank_div(amt, ocfp)\n",
      "Good 2 : RankIR 2.91 Corr 0.00 : rank_div(ocfp, adv60)\n",
      "Selection Done, cost 9.64 secs\n",
      "Neu_dump Done, cost 0.41 secs\n",
      " ----------------------- Outer Loop 1 -----------------------\n",
      "Setting Done, cost 0.00 secs\n",
      "i_gen\tnevals\n",
      "0    \t4     \n",
      "1    \t2     \n",
      "2    \t4     \n",
      "Evolution Done, cost 0.11 secs\n",
      "Selection Done, cost 0.00 secs\n",
      "Neu_dump Done, cost 0.00 secs\n",
      "Total time cost table:\n",
      "   Setting  Evolution  Selection  Neu_dump\n",
      "0   0.0015      0.209     9.6412    0.4071\n",
      "1   0.0009      0.109     0.0031    0.0046\n"
     ]
    }
   ],
   "source": [
    "from recreate import main\n",
    "main(True , job_id= -1)"
   ]
  },
  {
   "cell_type": "code",
   "execution_count": null,
   "metadata": {},
   "outputs": [],
   "source": []
  }
 ],
 "metadata": {
  "kernelspec": {
   "display_name": "base",
   "language": "python",
   "name": "python3"
  },
  "language_info": {
   "codemirror_mode": {
    "name": "ipython",
    "version": 3
   },
   "file_extension": ".py",
   "mimetype": "text/x-python",
   "name": "python",
   "nbconvert_exporter": "python",
   "pygments_lexer": "ipython3",
   "version": "3.10.12"
  }
 },
 "nbformat": 4,
 "nbformat_minor": 2
}
