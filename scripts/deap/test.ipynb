{
 "cells": [
  {
   "cell_type": "code",
   "execution_count": 9,
   "metadata": {},
   "outputs": [
    {
     "name": "stdout",
     "output_type": "stream",
     "text": [
      "Device name: NVIDIA GeForce RTX 4090 , Available: True\n",
      "Pop directory is : \"./pop/bendi\"\n"
     ]
    }
   ],
   "source": [
    "import pandas as pd\n",
    "import numpy as np\n",
    "from numba import jit , cuda\n",
    "\n",
    "import torch\n",
    "from torch import nn\n",
    "from sklearn.linear_model import LinearRegression\n",
    "\n",
    "from recreate import *\n",
    "\n",
    "gp_params = gp_parameters(True)\n",
    "gp_params['device'] = torch.device(\"cuda\")\n",
    "def Ts(df):\n",
    "    if isinstance(df , torch.Tensor):\n",
    "        if gp_params.get('device') is not None: df = df.to(gp_params.get('device'))\n",
    "        # df.share_memory_() # 执行多进程时使用：将张量移入共享内存\n",
    "    return df"
   ]
  },
  {
   "cell_type": "code",
   "execution_count": 10,
   "metadata": {},
   "outputs": [],
   "source": [
    "cs_indus_code = Ts(read_gp_data('cs_indus_code',gp_params['slice_date'])[0])\n",
    "size = Ts(read_gp_data('size',gp_params['slice_date'])[0])\n",
    "cp_raw = Ts(read_gp_data('close_raw',gp_params['slice_date'])[0])\n",
    "labels = F.ts_delaypct(cp_raw, 10)  # t-10至t的收益率\n",
    "labels = F.ts_delay(labels, -11)  # t+1至t+11的收益率"
   ]
  },
  {
   "cell_type": "code",
   "execution_count": 62,
   "metadata": {},
   "outputs": [],
   "source": [
    "def one_hot(x):\n",
    "    if not isinstance(x , torch.Tensor): x = torch.Tensor(x)\n",
    "    nan_index = x.isnan()\n",
    "    m = int(x[~nan_index].max())\n",
    "    if 1:\n",
    "        x_new = torch.where(nan_index , m + 1 , x).to(torch.int64)\n",
    "        dummy = torch.nn.functional.one_hot(x_new).to(torch.float)[...,:m+1]\n",
    "    else:\n",
    "        x_new = torch.where(nan_index , -1 , x)\n",
    "        dummy = torch.stack([(x == i) * 1. for i in range(m+1)] , -1)\n",
    "        #dummy = torch.zeros(*x.shape , m + 1).to(x.device)\n",
    "        #for i in range(m+1): dummy[...,i] = (x_new == i) * 1.\n",
    "    return dummy\n",
    "\n",
    "def _neutralize_yx(y , x_list = [] , x_group = None , auto_intercept = True , index = None):\n",
    "    if isinstance(x_list , torch.Tensor): x_list = [x_list]\n",
    "    if len(x_list) == 0 and x_group is None: return y , None\n",
    "    elif x_group is None:\n",
    "        x = torch.stack(x_list,dim = -1)\n",
    "    elif len(x_list) == 0:\n",
    "        x = one_hot(x_group)[...,:-1]\n",
    "    else:\n",
    "        x = torch.stack(x_list,dim = -1)\n",
    "        x = torch.cat([x,one_hot(x_group)[...,:-1]],dim=-1)\n",
    "    if auto_intercept: x = torch.nn.functional.pad(x , (1,0) , value = 1.)\n",
    "    y = torch.where(y.isinf() , torch.nan , y).unsqueeze(-1)\n",
    "    x = torch.where(x.isinf() , torch.nan , x)\n",
    "    if index: y , x = y[index] , x[index]\n",
    "    return y , x\n",
    "\n",
    "def betas_torch(x , y):\n",
    "    try:\n",
    "        b = torch.linalg.lstsq(x , y , rcond=None)[0]\n",
    "    except: # 20240215: numpy.linalg.LinAlgError: SVD did not converge in Linear Least Squares\n",
    "        try:    \n",
    "            b = torch.linalg.inv(x.T.mm(x)).mm(x.T).mm(y)\n",
    "        except:\n",
    "            print('neutralization error!')\n",
    "            b = torch.zeros(x.shape[-1],1).to(x)\n",
    "    return b\n",
    "\n",
    "def betas_np(x , y):\n",
    "    try:\n",
    "        b = np.linalg.lstsq(x , y , rcond=None)[0]\n",
    "    except: # 20240215: numpy.linalg.LinAlgError: SVD did not converge in Linear Least Squares\n",
    "        try:    \n",
    "            b = np.linalg.inv(x.T.dot(x)).dot(x.T).dot(y)\n",
    "        except:\n",
    "            print('neutralization error!')\n",
    "            b = np.zeros((x.shape[-1],1)).to(x)\n",
    "    return b\n",
    "\n",
    "def betas_sk(x , y):\n",
    "    try:\n",
    "        b = LinearRegression(fit_intercept=False).fit(x, y).coef_.T\n",
    "    except: # 20240215: numpy.linalg.LinAlgError: SVD did not converge in Linear Least Squares\n",
    "        print('neutralization error!')\n",
    "        b = np.zeros((x.shape[-1],1)).to(x)\n",
    "    return b\n",
    "\n",
    "def neutralizer(method = 'torch'):\n",
    "    assert method in ['torch' , 'np' , 'sk'] , method\n",
    "    if method == 'np':\n",
    "        betas_func = betas_np\n",
    "    elif method == 'sk':\n",
    "        betas_func = betas_sk\n",
    "    else:\n",
    "        betas_func = betas_torch\n",
    "    def neutralize(y , x):\n",
    "        if len(y.shape) == len(x.shape)-1: y = y.unsqueeze(-1)\n",
    "        return (y - x @ betas_func(x , y)).flatten()\n",
    "    return neutralize\n",
    "\n",
    "def neutralize_2d(y , x_list = [] , x_group = None, method = 'torch' , auto_intercept = True , silent= True):  # [tensor (TS*C), tensor (TS*C)]\n",
    "    assert method in ['sk' , 'np' , 'torch']\n",
    "    y , x = _neutralize_yx(y , x_list , x_group , auto_intercept)\n",
    "    if x is None: return y\n",
    "    nans  = y.isnan().any(dim=-1) + x.isnan().any(dim=-1)\n",
    "    zeros = (x.nan_to_num() == 0).all(dim=-2)\n",
    "    if method == 'torch' and not nans.any() and not zeros.any():\n",
    "        # fastest, but cannot deal nan's\n",
    "        model = torch.linalg.lstsq(x , y , rcond=None)\n",
    "        resids = (y - x @ model[0])\n",
    "    else:\n",
    "        neutralize = neutralizer(method)\n",
    "        if method in ['sk' , 'np']:\n",
    "            dev = y.device\n",
    "            x,y,nans,zeros = map(lambda a:a.cpu().numpy() , (x,y,nans,zeros))\n",
    "            resids = np.full_like(y.squeeze(-1) , np.nan)\n",
    "        else:\n",
    "            resids = torch.full_like(y.squeeze(-1) , torch.nan)\n",
    "        \n",
    "        for i , (y_ , x_ , nan_ , zero_) in enumerate(zip(y , x , nans , zeros)):\n",
    "            if i % 500 == 0 and not silent: print('neutralize by tradedate',i)\n",
    "            if (~nan_).sum() < 10:  continue\n",
    "            resids[i ,~nan_] = neutralize(y_[~nan_] , x_[~nan_][: , ~zero_])\n",
    "        \n",
    "        if isinstance(resids , np.ndarray): resids = torch.Tensor(resids).to(dev)\n",
    "    return resids"
   ]
  },
  {
   "cell_type": "code",
   "execution_count": 46,
   "metadata": {},
   "outputs": [
    {
     "name": "stdout",
     "output_type": "stream",
     "text": [
      "330 ms ± 7.52 ms per loop (mean ± std. dev. of 7 runs, 1 loop each)\n"
     ]
    }
   ],
   "source": [
    "%timeit neutralize_2d(labels, size, cs_indus_code , 'torch')"
   ]
  },
  {
   "cell_type": "code",
   "execution_count": 48,
   "metadata": {},
   "outputs": [
    {
     "name": "stdout",
     "output_type": "stream",
     "text": [
      "1.91 s ± 10.1 ms per loop (mean ± std. dev. of 7 runs, 1 loop each)\n"
     ]
    }
   ],
   "source": [
    "%timeit neutralize_2d(labels, size, cs_indus_code , 'sk')"
   ]
  },
  {
   "cell_type": "code",
   "execution_count": 49,
   "metadata": {},
   "outputs": [
    {
     "name": "stdout",
     "output_type": "stream",
     "text": [
      "1.79 s ± 6.91 ms per loop (mean ± std. dev. of 7 runs, 1 loop each)\n"
     ]
    }
   ],
   "source": [
    "%timeit neutralize_2d(labels, size, cs_indus_code , 'np')"
   ]
  },
  {
   "cell_type": "code",
   "execution_count": 63,
   "metadata": {},
   "outputs": [
    {
     "data": {
      "text/plain": [
       "(tensor([[-0.0478,  0.0456, -0.0263,  ...,     nan,     nan,     nan]],\n",
       "        device='cuda:0'),\n",
       " tensor([[-0.0478,  0.0456, -0.0263,  ...,     nan,     nan,     nan]],\n",
       "        device='cuda:0'),\n",
       " tensor([[-0.0478,  0.0456, -0.0263,  ...,     nan,     nan,     nan]],\n",
       "        device='cuda:0'))"
      ]
     },
     "execution_count": 63,
     "metadata": {},
     "output_type": "execute_result"
    }
   ],
   "source": [
    "v1 = neutralize_2d(labels[:1], size[:1], cs_indus_code[:1] , 'torch')\n",
    "v2 = neutralize_2d(labels[:1], size[:1], cs_indus_code[:1] , 'sk')\n",
    "v3 = neutralize_2d(labels[:1], size[:1], cs_indus_code[:1] , 'np')\n",
    "v1 , v2 , v3"
   ]
  },
  {
   "cell_type": "code",
   "execution_count": 60,
   "metadata": {},
   "outputs": [],
   "source": [
    "a , b , c , d = map(lambda x:x**2,[1,2,3,4])"
   ]
  },
  {
   "cell_type": "code",
   "execution_count": 61,
   "metadata": {},
   "outputs": [
    {
     "data": {
      "text/plain": [
       "(1, 4, 9, 16)"
      ]
     },
     "execution_count": 61,
     "metadata": {},
     "output_type": "execute_result"
    }
   ],
   "source": [
    "a , b , c , d"
   ]
  },
  {
   "cell_type": "code",
   "execution_count": 69,
   "metadata": {},
   "outputs": [],
   "source": [
    "y , x = _neutralize_yx(labels[:1], size[:1], cs_indus_code[:1])"
   ]
  },
  {
   "cell_type": "code",
   "execution_count": 70,
   "metadata": {},
   "outputs": [],
   "source": [
    "isnan = y[0].isnan().any(1) + x[0].isnan().any(1)"
   ]
  },
  {
   "cell_type": "code",
   "execution_count": 72,
   "metadata": {},
   "outputs": [
    {
     "data": {
      "text/plain": [
       "tensor([[False, False,  True, False, False, False, False, False, False, False,\n",
       "         False, False, False, False, False, False, False, False, False, False,\n",
       "         False, False, False, False, False, False, False, False, False, False,\n",
       "         False, False]])"
      ]
     },
     "execution_count": 72,
     "metadata": {},
     "output_type": "execute_result"
    }
   ],
   "source": [
    "(x == 0).all(1)"
   ]
  },
  {
   "cell_type": "code",
   "execution_count": 62,
   "metadata": {},
   "outputs": [],
   "source": [
    "y = y[0,~isnan]\n",
    "x = x[0,~isnan]\n",
    "x = x[:,x.sum(0) != 0]"
   ]
  },
  {
   "cell_type": "code",
   "execution_count": 65,
   "metadata": {},
   "outputs": [
    {
     "data": {
      "text/plain": [
       "tensor([[-0.0478,  0.0456, -0.0263,  ...,  0.0196,  0.0196, -0.0432]])"
      ]
     },
     "execution_count": 65,
     "metadata": {},
     "output_type": "execute_result"
    }
   ],
   "source": [
    "try:\n",
    "    model = torch.linalg.lstsq(x , y , rcond=None)\n",
    "    #print(model)\n",
    "    resids = (y - x @ model[0]).T  # [1, C]\n",
    "except: # 20240215: numpy.linalg.LinAlgError: SVD did not converge in Linear Least Squares\n",
    "    try:    \n",
    "        print(\"here\")\n",
    "        beta = torch.linalg.inv(x.T.matmul(x)).matmul(x.T).matmul(y)\n",
    "        resids = (y - x @ beta).T\n",
    "    except:\n",
    "        print('neutralization error!')\n",
    "        resids = y.copy_()\n",
    "\n",
    "resids"
   ]
  },
  {
   "cell_type": "code",
   "execution_count": 33,
   "metadata": {},
   "outputs": [
    {
     "data": {
      "text/plain": [
       "tensor([nan, nan, nan,  ..., nan, nan, nan])"
      ]
     },
     "execution_count": 33,
     "metadata": {},
     "output_type": "execute_result"
    }
   ],
   "source": [
    "resids"
   ]
  },
  {
   "cell_type": "code",
   "execution_count": 30,
   "metadata": {},
   "outputs": [
    {
     "data": {
      "text/plain": [
       "torch.Size([1, 5210, 32])"
      ]
     },
     "execution_count": 30,
     "metadata": {},
     "output_type": "execute_result"
    }
   ],
   "source": [
    "x.shape"
   ]
  },
  {
   "cell_type": "code",
   "execution_count": 26,
   "metadata": {},
   "outputs": [
    {
     "ename": "AttributeError",
     "evalue": "'builtin_function_or_method' object has no attribute '__dict__'",
     "output_type": "error",
     "traceback": [
      "\u001b[1;31m---------------------------------------------------------------------------\u001b[0m",
      "\u001b[1;31mAttributeError\u001b[0m                            Traceback (most recent call last)",
      "\u001b[1;32m<ipython-input-26-f3f24622d578>\u001b[0m in \u001b[0;36m<module>\u001b[1;34m\u001b[0m\n\u001b[1;32m----> 1\u001b[1;33m \u001b[0mtorch\u001b[0m\u001b[1;33m.\u001b[0m\u001b[0mt_copy\u001b[0m\u001b[1;33m.\u001b[0m\u001b[0m__dict__\u001b[0m\u001b[1;33m\u001b[0m\u001b[1;33m\u001b[0m\u001b[0m\n\u001b[0m",
      "\u001b[1;31mAttributeError\u001b[0m: 'builtin_function_or_method' object has no attribute '__dict__'"
     ]
    }
   ],
   "source": []
  },
  {
   "cell_type": "code",
   "execution_count": 12,
   "metadata": {},
   "outputs": [
    {
     "data": {
      "text/plain": [
       "(tensor([[0.0097, 0.0595, 0.0283,  ...,    nan,    nan,    nan]]),\n",
       " tensor([[-0.0478,  0.0456, -0.0263,  ...,     nan,     nan,     nan]]))"
      ]
     },
     "execution_count": 12,
     "metadata": {},
     "output_type": "execute_result"
    }
   ],
   "source": [
    "v1 , v2"
   ]
  },
  {
   "cell_type": "code",
   "execution_count": 6,
   "metadata": {},
   "outputs": [
    {
     "data": {
      "text/plain": [
       "tensor([[ 0.0097,  0.0595,  0.0283,  ...,     nan,     nan,     nan],\n",
       "        [ 0.0333,  0.0773, -0.0043,  ...,     nan,     nan,     nan],\n",
       "        [ 0.0517,  0.0252,  0.0309,  ...,     nan,     nan,     nan],\n",
       "        ...,\n",
       "        [    nan,     nan,     nan,  ...,     nan,     nan,     nan],\n",
       "        [    nan,     nan,     nan,  ...,     nan,     nan,     nan],\n",
       "        [    nan,     nan,     nan,  ...,     nan,     nan,     nan]])"
      ]
     },
     "execution_count": 6,
     "metadata": {},
     "output_type": "execute_result"
    }
   ],
   "source": [
    "neutralize_2d(labels, size, cs_indus_code , 'torch')"
   ]
  },
  {
   "cell_type": "code",
   "execution_count": 7,
   "metadata": {},
   "outputs": [
    {
     "data": {
      "text/plain": [
       "tensor([[-0.0478,  0.0456, -0.0263,  ...,     nan,     nan,     nan],\n",
       "        [-0.0368,  0.0450, -0.0094,  ...,     nan,     nan,     nan],\n",
       "        [-0.0063,  0.0188,  0.0345,  ...,     nan,     nan,     nan],\n",
       "        ...,\n",
       "        [    nan,     nan,     nan,  ...,     nan,     nan,     nan],\n",
       "        [    nan,     nan,     nan,  ...,     nan,     nan,     nan],\n",
       "        [    nan,     nan,     nan,  ...,     nan,     nan,     nan]])"
      ]
     },
     "execution_count": 7,
     "metadata": {},
     "output_type": "execute_result"
    }
   ],
   "source": [
    "neutralize_2d(labels, size, cs_indus_code , 'np')"
   ]
  },
  {
   "cell_type": "code",
   "execution_count": 37,
   "metadata": {},
   "outputs": [
    {
     "data": {
      "text/plain": [
       "tensor([[0.0097, 0.0595, 0.0283,  ...,    nan,    nan,    nan]])"
      ]
     },
     "execution_count": 37,
     "metadata": {},
     "output_type": "execute_result"
    }
   ],
   "source": [
    "v1"
   ]
  },
  {
   "cell_type": "code",
   "execution_count": 35,
   "metadata": {},
   "outputs": [
    {
     "data": {
      "text/plain": [
       "tensor([[-0.0478,  0.0456, -0.0263,  ...,     nan,     nan,     nan]])"
      ]
     },
     "execution_count": 35,
     "metadata": {},
     "output_type": "execute_result"
    }
   ],
   "source": [
    "v2"
   ]
  },
  {
   "cell_type": "code",
   "execution_count": 36,
   "metadata": {},
   "outputs": [
    {
     "data": {
      "text/plain": [
       "tensor([[-0.0478,  0.0456, -0.0263,  ...,     nan,     nan,     nan]])"
      ]
     },
     "execution_count": 36,
     "metadata": {},
     "output_type": "execute_result"
    }
   ],
   "source": [
    "v3"
   ]
  }
 ],
 "metadata": {
  "kernelspec": {
   "display_name": "base",
   "language": "python",
   "name": "python3"
  },
  "language_info": {
   "codemirror_mode": {
    "name": "ipython",
    "version": 3
   },
   "file_extension": ".py",
   "mimetype": "text/x-python",
   "name": "python",
   "nbconvert_exporter": "python",
   "pygments_lexer": "ipython3",
   "version": "3.10.12"
  }
 },
 "nbformat": 4,
 "nbformat_minor": 2
}
