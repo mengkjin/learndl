{
 "cells": [
  {
   "cell_type": "code",
   "execution_count": 12,
   "metadata": {},
   "outputs": [],
   "source": [
    "import torch\n",
    "import gp_math_func as MF\n",
    "n_time = 200\n",
    "n_stock = 100\n",
    "n_factor = 10\n",
    "x = torch.rand(n_time , n_stock , n_factor)\n",
    "y = torch.rand(n_time , n_stock , 1)\n",
    "nan = (y > 0.9) + (y < 0.1)\n",
    "y[nan] = torch.nan\n",
    "univ = ~nan.all(-1)\n",
    "# mat = a.T.mm(a)"
   ]
  },
  {
   "cell_type": "code",
   "execution_count": 16,
   "metadata": {},
   "outputs": [
    {
     "data": {
      "text/plain": [
       "torch.Size([200, 100, 1])"
      ]
     },
     "execution_count": 16,
     "metadata": {},
     "output_type": "execute_result"
    }
   ],
   "source": [
    "labels.shape"
   ]
  },
  {
   "cell_type": "code",
   "execution_count": 19,
   "metadata": {},
   "outputs": [],
   "source": [
    "gp_factor = x\n",
    "labels = y\n",
    "insample = torch.arange(n_time) <160\n",
    "ir_window = 10\n",
    "n_time , n_stock , n_factor = gp_factor.shape\n",
    "\n",
    "weight_scheme = ['ew' , 'ic' , 'ir']\n",
    "window_type   = ['rolling' , 'full' , 'insample'] \n",
    "weight_decay  = ['constant' , 'linear' , 'exp']\n",
    "\n",
    "rankic = torch.full((n_time , n_factor) , fill_value=torch.nan).to(labels)\n",
    "for i_factor in range(n_factor):\n",
    "    rankic[:,i_factor] = MF.rankic_2d(gp_factor[...,i_factor] , labels.squeeze(-1) , dim = 1 , universe = univ , min_coverage = 0.)\n",
    "rankir = MF.ma(rankic , ir_window) / MF.ts_stddev(rankic , ir_window)\n",
    "\n"
   ]
  },
  {
   "cell_type": "code",
   "execution_count": 20,
   "metadata": {},
   "outputs": [
    {
     "data": {
      "text/plain": [
       "tensor([[    nan,     nan,     nan,  ...,     nan,     nan,     nan],\n",
       "        [    nan,     nan,     nan,  ...,     nan,     nan,     nan],\n",
       "        [    nan,     nan,     nan,  ...,     nan,     nan,     nan],\n",
       "        ...,\n",
       "        [-0.5019, -0.1219, -0.3724,  ...,  0.3048, -0.5996, -0.6442],\n",
       "        [-0.5466,  0.0083, -0.3511,  ...,  0.1030, -0.4369, -0.4297],\n",
       "        [-0.2677, -0.0765, -0.3607,  ..., -0.0181, -0.2699, -0.1135]])"
      ]
     },
     "execution_count": 20,
     "metadata": {},
     "output_type": "execute_result"
    }
   ],
   "source": [
    "rankir"
   ]
  },
  {
   "cell_type": "code",
   "execution_count": null,
   "metadata": {},
   "outputs": [],
   "source": [
    "\n",
    "\n",
    "if weight_scheme == 'ew':\n",
    "    multifactor = MF.zscore(gp_factor.nanmean(-1),-1)\n",
    "else:\n",
    "    # rankic first\n",
    "    metric_full = torch.zeros(len(labels),n_factor).to(labels)\n",
    "    for i_factor in range(n_factor):\n",
    "        rankic = MF.rankic_2d(gp_factor[...,i_factor] , labels , dim = 1 , universe = univ , min_coverage = 0.)\n",
    "        metric_full[:,i_factor] = rankic\n",
    "    if weight_scheme == 'ir': metric_full = MF.ts_zscore(metric_full , ir_window)\n",
    "    \n",
    "    multifactor = torch.zeros_like(gp_factor[...,0])\n",
    "    ts_weight = FF.decay_weight(weight_decay , len(multifactor) , exp_halflife=exp_halflife)\n",
    "    for i in range(len(multifactor)):\n",
    "        if i < 10: continue\n",
    "        d = min(window_len , i) if window_type == 'rolling' else i\n",
    "        f_weight = ts_weight[:d].reshape(1,-1) @ metric_full[i-d:i]\n",
    "        factor_of_i = gp_factor[i] @ f_weight.reshape(-1,1)\n",
    "        multifactor[i] = factor_of_i.flatten()\n",
    "\n",
    "multifactor = pd.DataFrame(multifactor.cpu().numpy() , columns = df_columns , index = df_index)\n",
    "\n"
   ]
  },
  {
   "cell_type": "code",
   "execution_count": 153,
   "metadata": {},
   "outputs": [
    {
     "data": {
      "text/plain": [
       "torch.Size([200, 100, 10])"
      ]
     },
     "execution_count": 153,
     "metadata": {},
     "output_type": "execute_result"
    }
   ],
   "source": [
    "top_svd_factors(mat1 , a , top_ratio=1.).shape"
   ]
  },
  {
   "cell_type": "code",
   "execution_count": 10,
   "metadata": {},
   "outputs": [],
   "source": [
    "mat = mat1\n",
    "svd = torch.linalg.svd(mat)\n",
    "svd_U = svd.U\n",
    "svd_U  = torch.ones(n_fac).diag()\n",
    "vector = torch.einsum('ij,klj->kli', svd_U, a)"
   ]
  },
  {
   "cell_type": "code",
   "execution_count": 133,
   "metadata": {},
   "outputs": [
    {
     "data": {
      "text/plain": [
       "tensor([51783.1055,  1710.3624,  1701.4822,  1689.5823,  1677.6132,  1672.1703,\n",
       "         1645.0459,  1639.3440,  1621.0225,  1608.4126])"
      ]
     },
     "execution_count": 133,
     "metadata": {},
     "output_type": "execute_result"
    }
   ],
   "source": [
    "svd.S"
   ]
  }
 ],
 "metadata": {
  "kernelspec": {
   "display_name": "base",
   "language": "python",
   "name": "python3"
  },
  "language_info": {
   "codemirror_mode": {
    "name": "ipython",
    "version": 3
   },
   "file_extension": ".py",
   "mimetype": "text/x-python",
   "name": "python",
   "nbconvert_exporter": "python",
   "pygments_lexer": "ipython3",
   "version": "3.8.5"
  }
 },
 "nbformat": 4,
 "nbformat_minor": 2
}
