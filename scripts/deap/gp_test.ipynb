{
 "cells": [
  {
   "cell_type": "code",
   "execution_count": 12,
   "metadata": {},
   "outputs": [
    {
     "ename": "RuntimeError",
     "evalue": "Boolean value of Tensor with more than one value is ambiguous",
     "output_type": "error",
     "traceback": [
      "\u001b[0;31m---------------------------------------------------------------------------\u001b[0m",
      "\u001b[0;31mRuntimeError\u001b[0m                              Traceback (most recent call last)",
      "Cell \u001b[0;32mIn[12], line 14\u001b[0m\n\u001b[1;32m     12\u001b[0m pool \u001b[38;5;241m=\u001b[39m Pool(\u001b[38;5;241m2\u001b[39m)\n\u001b[1;32m     13\u001b[0m \u001b[38;5;66;03m#changed_pop = pool.starmap(toolbox.evaluate, zip(changed_pop, pool_list), chunksize=1)\u001b[39;00m\n\u001b[0;32m---> 14\u001b[0m iterator \u001b[38;5;241m=\u001b[39m \u001b[43mpool\u001b[49m\u001b[38;5;241;43m.\u001b[39;49m\u001b[43mimap\u001b[49m\u001b[43m(\u001b[49m\u001b[43mfunc\u001b[49m\u001b[43m,\u001b[49m\u001b[43m \u001b[49m\u001b[43mx\u001b[49m\u001b[43m,\u001b[49m\u001b[43m \u001b[49m\u001b[43my\u001b[49m\u001b[43m)\u001b[49m\n\u001b[1;32m     15\u001b[0m b \u001b[38;5;241m=\u001b[39m \u001b[38;5;28mlist\u001b[39m(iterator)\n\u001b[1;32m     16\u001b[0m pool\u001b[38;5;241m.\u001b[39mclose()\n",
      "File \u001b[0;32m/usr/lib/python3.10/multiprocessing/pool.py:401\u001b[0m, in \u001b[0;36mPool.imap\u001b[0;34m(self, func, iterable, chunksize)\u001b[0m\n\u001b[1;32m    397\u001b[0m \u001b[38;5;124;03m'''\u001b[39;00m\n\u001b[1;32m    398\u001b[0m \u001b[38;5;124;03mEquivalent of `map()` -- can be MUCH slower than `Pool.map()`.\u001b[39;00m\n\u001b[1;32m    399\u001b[0m \u001b[38;5;124;03m'''\u001b[39;00m\n\u001b[1;32m    400\u001b[0m \u001b[38;5;28mself\u001b[39m\u001b[38;5;241m.\u001b[39m_check_running()\n\u001b[0;32m--> 401\u001b[0m \u001b[38;5;28;01mif\u001b[39;00m chunksize \u001b[38;5;241m==\u001b[39m \u001b[38;5;241m1\u001b[39m:\n\u001b[1;32m    402\u001b[0m     result \u001b[38;5;241m=\u001b[39m IMapIterator(\u001b[38;5;28mself\u001b[39m)\n\u001b[1;32m    403\u001b[0m     \u001b[38;5;28mself\u001b[39m\u001b[38;5;241m.\u001b[39m_taskqueue\u001b[38;5;241m.\u001b[39mput(\n\u001b[1;32m    404\u001b[0m         (\n\u001b[1;32m    405\u001b[0m             \u001b[38;5;28mself\u001b[39m\u001b[38;5;241m.\u001b[39m_guarded_task_generation(result\u001b[38;5;241m.\u001b[39m_job, func, iterable),\n\u001b[1;32m    406\u001b[0m             result\u001b[38;5;241m.\u001b[39m_set_length\n\u001b[1;32m    407\u001b[0m         ))\n",
      "\u001b[0;31mRuntimeError\u001b[0m: Boolean value of Tensor with more than one value is ambiguous"
     ]
    }
   ],
   "source": [
    "import torch\n",
    "from torch.multiprocessing import Pool\n",
    "\n",
    "def func(a , b):\n",
    "    return a*b\n",
    "\n",
    "x = range(100)\n",
    "y = torch.rand(100)\n",
    "\n",
    "a = list(map(func , x , y))\n",
    "\n",
    "pool = Pool(2)\n",
    "#changed_pop = pool.starmap(toolbox.evaluate, zip(changed_pop, pool_list), chunksize=1)\n",
    "iterator = pool.imap(func, zip(x , y))\n",
    "b = list(iterator)\n",
    "pool.close()\n",
    "pool.join()"
   ]
  }
 ],
 "metadata": {
  "kernelspec": {
   "display_name": "base",
   "language": "python",
   "name": "python3"
  },
  "language_info": {
   "codemirror_mode": {
    "name": "ipython",
    "version": 3
   },
   "file_extension": ".py",
   "mimetype": "text/x-python",
   "name": "python",
   "nbconvert_exporter": "python",
   "pygments_lexer": "ipython3",
   "version": "3.10.12"
  }
 },
 "nbformat": 4,
 "nbformat_minor": 2
}
