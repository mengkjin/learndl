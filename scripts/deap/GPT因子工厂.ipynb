{
 "cells": [
  {
   "cell_type": "code",
   "execution_count": 4,
   "id": "initial_id",
   "metadata": {
    "collapsed": true,
    "ExecuteTime": {
     "end_time": "2024-02-25T13:29:45.186850Z",
     "start_time": "2024-02-25T13:29:45.153857300Z"
    }
   },
   "outputs": [],
   "source": [
    "import openai\n",
    "import unicodedata"
   ]
  },
  {
   "cell_type": "code",
   "outputs": [],
   "source": [
    "# GPT api key\n",
    "openai.api_key = \"sk-q0Zt33VJIXp4OlOxB286Ff17E2D0435eA2A7198fA5CfB819\"\n",
    "openai.api_base = \"https://lonlie.plus7.plus/v1\""
   ],
   "metadata": {
    "collapsed": false,
    "ExecuteTime": {
     "end_time": "2024-02-25T13:29:45.186850Z",
     "start_time": "2024-02-25T13:29:45.175920200Z"
    }
   },
   "id": "b32afa9a206a94d6",
   "execution_count": 5
  },
  {
   "cell_type": "code",
   "outputs": [
    {
     "name": "stdout",
     "output_type": "stream",
     "text": [
      "FactorGPT:\n",
      " 【因子名称】量价动量因子\n",
      "\n",
      "【因子计算方法】Div(Add(S_DQ_CLOSE, S_DQ_OPEN), Mul(Add(Sub(S_DQ_HIGH, S_DQ_LOW), S_DQ_VOLUME), 2))\n",
      "\n",
      "【因子含义】这个因子考虑了股票的价格和交易量动量。公式的分子是当日股票的开盘价与收盘价之和,表示了股票一天的平均成交价格指标。分母则是股票最高价与最低价之差加上成交量再除以 2。最高价与最低价之差反映了价格震荡的幅度(价格振幅),而成交量给出了市场参与的活跃度。将价格平均值除以价格振幅和成交量的组合,以此反映价格变化趋势与市场活跃度之间的关系。这种量价结合可以指示资金的动向和市场情绪,特别是交易量在放大时可能暗示趋势的持续性,因此,因子值可能在一定程度上反映了市场的动量趋势。\n"
     ]
    }
   ],
   "source": [
    "# FactorGPT\n",
    "\n",
    "messages = [\n",
    "    {\n",
    "        'role': 'system',\n",
    "        'content': '您是一位全球顶级量化对冲基金的资深高级量化研究员，极其擅长挖掘和构造量价因子，'\n",
    "                   '您的日常任务是从量价数据中构建蕴含高额稳定alpha的量价选股因子'\n",
    "    }, \n",
    "    {\n",
    "        'role': 'user', \n",
    "        'content': \"\"\"\n",
    "        请使用股票开盘价S_DQ_OPEN、收盘价S_DQ_CLOSE、最高价S_DQ_HIGH、最低价S_DQ_LOW、成交量S_DQ_VOLUME这五个数据，构建一个量价选股因子, 并给出【计算公式】和【含义】。\n",
    "        \n",
    "        您仅可使用以下这些算子来构建因子，通过对它们的组合、复合，可以构建出单个复杂且具备稳定高额alpha的因子。\n",
    "         \n",
    "        【算子名称】Add\n",
    "        【算子函数签名】Add(x: pd.DataFrame, y: pd.DataFrame) -> pd.DataFrame\n",
    "        【算子含义】将两个DataFrame 逐元素相加并返回结果。\n",
    "        \n",
    "        【算子名称】Sub\n",
    "        【算子函数签名】Sub(x: pd.DataFrame, y: pd.DataFrame) -> pd.DataFrame\n",
    "        【算子含义】从第一个 DataFrame 中逐元素减去第二个 DataFrame 并返回结果。\n",
    "        \n",
    "        【算子名称】Mul\n",
    "        【算子函数签名】Mul(x: pd.DataFrame, y: pd.DataFrame) -> pd.DataFrame\n",
    "        【算子含义】将两个 DataFrame 逐元素相乘并返回结果。\n",
    "        \n",
    "        【算子名称】Div\n",
    "        【算子函数签名】Div(x: pd.DataFrame, y: pd.DataFrame) -> pd.DataFrame\n",
    "        【算子含义】将第一个 DataFrame 逐元素除以第二个 DataFrame 并返回结果。\n",
    "        \n",
    "        下面是一个因子的例子，请仿照它的格式给出你构造的因子。\n",
    "        【因子名称】改进的一致预期EPS变化率因子\n",
    "        【因子计算方法】Div(ts_return(CON_EPS, 60),ts_decay_linear(DEGREE, 60))\n",
    "        【因子含义】一致预期EPS(CON_EPS)在过去60个交易日的变化率除以过去60个交易日分析师预测标准差(DEGREE)的线性衰减加权值。\"\"\"\n",
    "    }\n",
    "]\n",
    "\n",
    "# 生成因子，包括因子名称、计算方法、含义\n",
    "response = openai.ChatCompletion.create(\n",
    "    model='gpt-4-1106-preview',\n",
    "    temperature=1,\n",
    "    messages=messages\n",
    ")\n",
    "\n",
    "factor_message = response.choices[0].message\n",
    "factor_message = unicodedata.normalize('NFKC', factor_message['content'])\n",
    "\n",
    "print(f\"FactorGPT:\\n {factor_message}\")"
   ],
   "metadata": {
    "collapsed": false,
    "ExecuteTime": {
     "end_time": "2024-02-25T13:30:55.235523500Z",
     "start_time": "2024-02-25T13:30:33.595565600Z"
    }
   },
   "id": "1892f5e8fc646bbe",
   "execution_count": 7
  },
  {
   "cell_type": "code",
   "outputs": [
    {
     "name": "stdout",
     "output_type": "stream",
     "text": [
      "CodeGPT:\n",
      " {\n",
      "  \"content\": \"'''python\\nimport pandas as pd\\n\\n# Add function\\ndef Add(x: pd.DataFrame, y: pd.DataFrame) -> pd.DataFrame:\\n    result = x + y\\n    return result\\n\\n# Sub function\\ndef Sub(x: pd.DataFrame, y: pd.DataFrame) -> pd.DataFrame:\\n    result = x - y\\n    return result\\n\\n# Mul function\\ndef Mul(x: pd.DataFrame, y: pd.DataFrame) -> pd.DataFrame:\\n    result = x * y\\n    return result\\n\\n# Div function\\ndef Div(x: pd.DataFrame, y: pd.DataFrame) -> pd.DataFrame:\\n    result = x / y\\n    return result\\n\\n# Factor calculation function\\ndef calculate_factor(S_DQ_CLOSE: pd.DataFrame, S_DQ_OPEN: pd.DataFrame, S_DQ_HIGH: pd.DataFrame, S_DQ_LOW: pd.DataFrame, S_DQ_VOLUME: pd.DataFrame) -> pd.DataFrame:\\n    part1 = Add(S_DQ_CLOSE, S_DQ_OPEN)\\n    part2 = Add(Sub(S_DQ_HIGH, S_DQ_LOW), S_DQ_VOLUME)\\n    denominator = Mul(part2, 2)\\n    factor = Div(part1, denominator)\\n    return factor\\n'''\\n\",\n",
      "  \"role\": \"assistant\"\n",
      "}\n"
     ]
    }
   ],
   "source": [
    "# CodeGPT\n",
    "\n",
    "messages = [\n",
    "    {\n",
    "        'role': 'system',\n",
    "        'content': \"\"\"\n",
    "            您是一位全球顶级对冲基金公司精通Python的资深高级程序员，极其擅长编写Python代码，\n",
    "            请您按照用户的要求编写计算量价因子的代码，要求完全准确无误。请严格按照下面的格式进行输出：\n",
    "            '''python\n",
    "            ...(你的python代码)\n",
    "            ''' \n",
    "            例如: \n",
    "            '''python\n",
    "            print('hello world')\n",
    "            ''' \n",
    "        \"\"\"\n",
    "    }, \n",
    "    {\n",
    "        'role': 'user', \n",
    "        'content':  \"\"\"\n",
    "                    下面是一个因子的计算步骤，请写出一个函数，其输入是计算所需要的数据，输出是因子的计算结果，输入输出的格式都是pandas.DataFrame。\n",
    "                    请仿照下面的函数格式编写因子函数代码：\n",
    "                    '''python\n",
    "                    def Add(x: pd.DataFrame, y: pd.DataFrame) -> pd.DataFrame:\n",
    "                        result = x + y \n",
    "                        return result\n",
    "                    '''\n",
    "                    对于计算步骤中的算子，请务必调用其同名函数得到代码，并将其写在新的函数之前。这一点对于得到正确结果很重要。\n",
    "                    因子的计算步骤如下：\n",
    "                    Div(Add(S_DQ_CLOSE, S_DQ_OPEN), Mul(Add(Sub(S_DQ_HIGH, S_DQ_LOW), S_DQ_VOLUME), 2))\n",
    "                    \"\"\"\n",
    "    }\n",
    "]\n",
    "\n",
    "# 生成因子计算代码\n",
    "response = openai.ChatCompletion.create(\n",
    "    model='gpt-4-1106-preview',\n",
    "    temperature=0,\n",
    "    messages=messages\n",
    ")\n",
    "\n",
    "code_message = response.choices[0].message\n",
    "\n",
    "print(f\"CodeGPT:\\n {code_message}\")\n"
   ],
   "metadata": {
    "collapsed": false,
    "ExecuteTime": {
     "end_time": "2024-02-25T13:48:28.151454800Z",
     "start_time": "2024-02-25T13:48:20.917395500Z"
    }
   },
   "id": "c5c60395d6230ab3",
   "execution_count": 10
  },
  {
   "cell_type": "code",
   "outputs": [
    {
     "name": "stdout",
     "output_type": "stream",
     "text": [
      "EvalGPT:\n",
      " 【量价因子评估结果】: 根据回测结果,量价动量因子的IC均值为0.0092,表明因子与未来收益之间存在正相关关系,但相关性较弱。IC标准差为0.0647,说明因子表现的一致性不高,波动较大。rank_IC均值为0.0064,同样显示出正相关,但相关性更弱。rank_IC标准差为0.0844,表明排名信息系数的波动性更大。IC_IR为0.142,这个信息比率表明因子的预测能力较低。多头IC均值为无穷大,可能是由于数据异常或计算错误导致,需要进一步检查数据。空头IC均值为-0.0109,表明空头部分因子预测能力较弱。|t|均值为2.73,表明统计显著性较好,但|t|>2的占比为53.28%,说明有一半左右的时间因子表现不具备统计显著性。因子收益率均值为0.00052,表明因子的平均收益率正向且较低。R方均值为0.0043,解释度较低,表明因子对股票收益率变化的解释能力有限。\n",
      "\n",
      "【量价因子优化建议】: \n",
      "1. 考虑到IC均值和rank_IC均值较低,可以尝试结合其他因子,如基本面因子或技术指标,以增强预测能力。\n",
      "2. 由于IC标准差和rank_IC标准差较高,建议对因子进行平滑处理,比如使用过去一段时间的移动平均值来减少波动。\n",
      "3. 对于多头IC均值异常的问题,需要重新检查数据和计算过程,确保没有错误。\n",
      "4. 考虑到空头IC均值为负,可以探索因子在不同市场环境下的表现,比如牛市和熊市,以及不同市值股票的表现,以便更好地理解因子的行为。\n",
      "5. 由于|t|>2的占比仅为53.28%,可以尝试使用更严格的统计显著性水平,如|t|>2.5或|t|>3,以提高因子的稳定性。\n",
      "6. 因子收益率均值较低,可以通过优化股票池,剔除那些因子表现不佳的股票,或者通过动态调整因子权重来提高因子收益率。\n",
      "7. R方均值较低,建议进一步研究因子的构成,可能需要对因子进行分解或重构,以提高其对股票收益率变化的解释能力。\n"
     ]
    }
   ],
   "source": [
    "# EvalGPT\n",
    "\n",
    "messages = [\n",
    "    {\n",
    "        'role': 'system',\n",
    "        'content': \"\"\"\n",
    "            您是一位全球顶级对冲基金的资深高级研究员，负责因子的效果评估工作.\n",
    "            请您根据量价因子的名称、计算方法、含义、回测结果, 给出对该因子的评估结果和优化建议.\n",
    "            您的优化原则是: 1. 尽量提高量价因子的rankIC指标的绝对值 2. 尽量降低量价因子的rankIC指标的标准差 3. 尽量提高量价因子的因子收益率均值\n",
    "            请按照下面的格式进行回答:\n",
    "            【量价因子评估结果】: ...\n",
    "            【量价因子优化建议】: ...   \n",
    "        \"\"\"\n",
    "    }, \n",
    "    {\n",
    "        'role': 'user', \n",
    "        'content':  \"\"\"\n",
    "        \n",
    "        【因子名称】量价动量因子\n",
    "\n",
    "        【因子计算方法】Div(Add(S_DQ_CLOSE, S_DQ_OPEN), Mul(Add(Sub(S_DQ_HIGH, S_DQ_LOW), S_DQ_VOLUME), 2))\n",
    "        \n",
    "        【因子含义】这个因子考虑了股票的价格和交易量动量。公式的分子是当日股票的开盘价与收盘价之和,表示了股票一天的平均成交价格指标。分母则是股票最高价与最低价之差加上成交量再除以 2。最高价与最低价之差反映了价格震荡的幅度(价格振幅),而成交量给出了市场参与的活跃度。将价格平均值除以价格振幅和成交量的组合,以此反映价格变化趋势与市场活跃度之间的关系。这种量价结合可以指示资金的动向和市场情绪,特别是交易量在放大时可能暗示趋势的持续性,因此,因子值可能在一定程度上反映了市场的动量趋势。\n",
    "        \n",
    "        【量价因子回测结果】\n",
    "        IC均值: 0.009193750485056764\n",
    "        IC标准差: 0.06474911363168545\n",
    "        rank_IC均值: 0.0064362200676027605\n",
    "        rank_IC标准差: 0.08436876614796869\n",
    "        IC_IR: 0.14199036819799393\n",
    "        多头IC均值: inf\n",
    "        多头rank_IC均值: 0.005061443967738542\n",
    "        空头IC均值: -0.010904636494557902\n",
    "        空头rank_IC均值: -0.01758473987807314\n",
    "        |t|均值: 2.7327786372585026\n",
    "        |t|>2占比: 0.5327754532775453\n",
    "        t均值: 0.4609717666847915\n",
    "        因子收益率均值: 0.0005229134867147706\n",
    "        R方均值: 0.004271117390165242\n",
    "                    \"\"\"\n",
    "    }\n",
    "]\n",
    "\n",
    "# 生成因子评估结果和优化建议\n",
    "response = openai.ChatCompletion.create(\n",
    "    model='gpt-4-1106-preview',\n",
    "    temperature=0,\n",
    "    messages=messages\n",
    ")\n",
    "\n",
    "eval_message = response.choices[0].message\n",
    "eval_message = unicodedata.normalize('NFKC', eval_message['content'])\n",
    "\n",
    "print(f\"EvalGPT:\\n {eval_message}\")\n"
   ],
   "metadata": {
    "collapsed": false,
    "ExecuteTime": {
     "end_time": "2024-02-25T13:57:13.650911400Z",
     "start_time": "2024-02-25T13:56:50.943316500Z"
    }
   },
   "id": "3f532c1ac70f65c9",
   "execution_count": 12
  }
 ],
 "metadata": {
  "kernelspec": {
   "display_name": "Python 3",
   "language": "python",
   "name": "python3"
  },
  "language_info": {
   "codemirror_mode": {
    "name": "ipython",
    "version": 2
   },
   "file_extension": ".py",
   "mimetype": "text/x-python",
   "name": "python",
   "nbconvert_exporter": "python",
   "pygments_lexer": "ipython2",
   "version": "2.7.6"
  }
 },
 "nbformat": 4,
 "nbformat_minor": 5
}
