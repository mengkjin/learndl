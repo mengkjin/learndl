{
 "cells": [
  {
   "cell_type": "code",
   "execution_count": 2,
   "metadata": {},
   "outputs": [
    {
     "name": "stdout",
     "output_type": "stream",
     "text": [
      "**Job Directory is : \"./pop/bendi\"\n",
      "  --> Start New Training in \"./pop/bendi\"\n",
      "**Device name: NVIDIA GeForce RTX 4090 , Available: True\n",
      "**Cuda Memory: Free 23.1G, Allocated 0.0G, Reserved 0.0G, Re-collect 0.1G Cache!\n",
      "-------------------- Data --------------------\n",
      "  --> Directly load \"./data/package/gp_data_package_test.pt\"\n",
      "**Load Data Done, Cost 0.05 Secs\n",
      "  --> 2 factors, 2 raw data loaded!\n",
      "==================== Iteration 0 start from Generation 0 ====================\n",
      "-------------------- Residual --------------------\n",
      "**Cuda Memory: Free 23.1G, Allocated 0.1G, Reserved 0.1G, Re-collect 0.0G Cache!\n",
      "**Update Residual Labels Done, Cost 0.02 Secs, Freed CudaMemory 23.06G - > 23.06G\n",
      "-------------------- Setting --------------------\n",
      "**Initialize GP Toolbox Done, Cost 0.00 Secs\n",
      "-------------------- Evolution --------------------\n",
      "**A Population(6) has been Initialized\n"
     ]
    },
    {
     "name": "stderr",
     "output_type": "stream",
     "text": [
      "  --> Evolve Generation 0 MaxIRres-4.73|MaxIRraw-4.73: 100%|██████████| 6/6 [00:00<00:00, 76.05it/s]\n"
     ]
    },
    {
     "name": "stdout",
     "output_type": "stream",
     "text": [
      "  --> Survive 3 Offsprings, try Populating to 6 ones\n"
     ]
    },
    {
     "name": "stderr",
     "output_type": "stream",
     "text": [
      "  --> Evolve Generation 1 MaxIRres-4.73|MaxIRraw-4.73: 100%|██████████| 6/6 [00:00<00:00, 88.57it/s]\n"
     ]
    },
    {
     "name": "stdout",
     "output_type": "stream",
     "text": [
      "**A HallofFame(2) has been Evolutionized\n",
      "**2 Generations of Evolution Done, Cost 0.17 Secs, Freed CudaMemory 23.06G - > 23.06G\n",
      "-------------------- Selection --------------------\n",
      "**HallofFame(2) Contains 2 Promising Candidates with RankIR >= 3.00\n",
      "  --> Hof__0/Elite__0 (IR-4.73|Corr+0.00): ts_top_avg(turn,10,1)\n",
      "  --> Hof__1/Elite__1 (IR-3.75|Corr+0.28): ma(cp,20)\n",
      "**An EliteGroup(2) has been Selected\n",
      "  --> Cuda Memories of \"gp_inputs\" take 0.0376G\n",
      "  --> Cuda Memories of \"elites\"    take 0.0188G\n",
      "  --> Cuda Memories of \"tensors\"   take 0.0000G\n",
      "**Selection of HallofFame Done, Cost 0.09 Secs, Freed CudaMemory 23.06G - > 23.06G\n",
      "==================== Iteration 1 start from Generation 0 ====================\n",
      "-------------------- Residual --------------------\n",
      "tensor([0.7704, 1.0000], device='cuda:0')\n",
      "  -> Elites(2) Shrink to SvdElites(1)\n",
      "  -> Neutra has 1 Elements\n",
      "**Cuda Memory: Free 23.0G, Allocated 0.1G, Reserved 0.1G, Re-collect 0.1G Cache!\n",
      "**Update Residual Labels Done, Cost 0.30 Secs, Freed CudaMemory 23.06G - > 23.04G\n",
      "-------------------- Setting --------------------\n",
      "**Initialize GP Toolbox Done, Cost 0.00 Secs\n",
      "-------------------- Evolution --------------------\n",
      "**A Population(6) has been Initialized\n"
     ]
    },
    {
     "name": "stderr",
     "output_type": "stream",
     "text": [
      "  --> Evolve Generation 0 MaxIRres-3.22|MaxIRraw-3.12: 100%|██████████| 6/6 [00:00<00:00, 86.99it/s]\n"
     ]
    },
    {
     "name": "stdout",
     "output_type": "stream",
     "text": [
      "  --> Survive 5 Offsprings, try Populating to 6 ones\n"
     ]
    },
    {
     "name": "stderr",
     "output_type": "stream",
     "text": [
      "  --> Evolve Generation 1 MaxIRres-3.22|MaxIRraw-4.41: 100%|██████████| 6/6 [00:00<00:00, 65.62it/s]"
     ]
    },
    {
     "name": "stdout",
     "output_type": "stream",
     "text": [
      "**A HallofFame(2) has been Evolutionized\n",
      "**2 Generations of Evolution Done, Cost 0.18 Secs, Freed CudaMemory 23.04G - > 23.04G\n",
      "-------------------- Selection --------------------\n",
      "**HallofFame(2) Contains 2 Promising Candidates with RankIR >= 2.70\n"
     ]
    },
    {
     "name": "stderr",
     "output_type": "stream",
     "text": [
      "\n"
     ]
    },
    {
     "name": "stdout",
     "output_type": "stream",
     "text": [
      "  --> Hof__0/Elite__2 (IR-3.22|Corr+0.00): ts_btm_avg(TURN,40,1)\n",
      "**An EliteGroup(1) has been Selected\n",
      "  --> Cuda Memories of \"gp_inputs\" take 0.0376G\n",
      "  --> Cuda Memories of \"elites\"    take 0.0094G\n",
      "  --> Cuda Memories of \"tensors\"   take 0.0000G\n",
      "**Selection of HallofFame Done, Cost 0.09 Secs, Freed CudaMemory 23.04G - > 23.04G\n",
      "==================== Total Time Cost :0 hours 0.0 ====================\n",
      "   Residual  Setting  Evolution  Selection  AvgVarAnd  AvgCompile  AvgEval     All\n",
      "0    0.0226   0.0042     0.1661     0.0904     0.0002  7.7946...    0.0053  0.2926\n",
      "1    0.2965   0.0029     0.1830     0.0877     0.0004  7.9989...    0.0079  0.5780\n"
     ]
    },
    {
     "data": {
      "text/html": [
       "<div>\n",
       "<style scoped>\n",
       "    .dataframe tbody tr th:only-of-type {\n",
       "        vertical-align: middle;\n",
       "    }\n",
       "\n",
       "    .dataframe tbody tr th {\n",
       "        vertical-align: top;\n",
       "    }\n",
       "\n",
       "    .dataframe thead th {\n",
       "        text-align: right;\n",
       "    }\n",
       "</style>\n",
       "<table border=\"1\" class=\"dataframe\">\n",
       "  <thead>\n",
       "    <tr style=\"text-align: right;\">\n",
       "      <th></th>\n",
       "      <th>type</th>\n",
       "      <th>name</th>\n",
       "      <th>ncalls</th>\n",
       "      <th>ccalls</th>\n",
       "      <th>tottime</th>\n",
       "      <th>cumtime</th>\n",
       "      <th>where</th>\n",
       "      <th>memory</th>\n",
       "      <th>full_name</th>\n",
       "      <th>caller</th>\n",
       "    </tr>\n",
       "  </thead>\n",
       "  <tbody>\n",
       "    <tr>\n",
       "      <th>445</th>\n",
       "      <td>function</td>\n",
       "      <td>neutralize_2d</td>\n",
       "      <td>2</td>\n",
       "      <td>0</td>\n",
       "      <td>0.2312</td>\n",
       "      <td>0.1169</td>\n",
       "      <td>\"/home/mengkjin/Workspace/learngp/gp_math_func...</td>\n",
       "      <td>0x7f0967e6c5b0</td>\n",
       "      <td>&lt;code object neutralize_2d at 0x7f0967e6c5b0, ...</td>\n",
       "      <td>[(&lt;code object betas_torch at 0x7f0967e6c190, ...</td>\n",
       "    </tr>\n",
       "    <tr>\n",
       "      <th>493</th>\n",
       "      <td>built-in-method</td>\n",
       "      <td>torch._C._linalg.linalg_lstsq</td>\n",
       "      <td>473</td>\n",
       "      <td>0</td>\n",
       "      <td>0.0996</td>\n",
       "      <td>0.0996</td>\n",
       "      <td></td>\n",
       "      <td></td>\n",
       "      <td>&lt;built-in method torch._C._linalg.linalg_lstsq&gt;</td>\n",
       "      <td>None</td>\n",
       "    </tr>\n",
       "    <tr>\n",
       "      <th>435</th>\n",
       "      <td>function</td>\n",
       "      <td>allna</td>\n",
       "      <td>24</td>\n",
       "      <td>0</td>\n",
       "      <td>0.0985</td>\n",
       "      <td>0.0957</td>\n",
       "      <td>\"/home/mengkjin/Workspace/learngp/gp_math_func...</td>\n",
       "      <td>0x7f0967e5f470</td>\n",
       "      <td>&lt;code object allna at 0x7f0967e5f470, file \"/h...</td>\n",
       "      <td>[(&lt;method 'isfinite' of 'torch._C._TensorBase'...</td>\n",
       "    </tr>\n",
       "    <tr>\n",
       "      <th>202</th>\n",
       "      <td>method</td>\n",
       "      <td>'equal'</td>\n",
       "      <td>45</td>\n",
       "      <td>0</td>\n",
       "      <td>0.0817</td>\n",
       "      <td>0.0817</td>\n",
       "      <td>'torch._C._TensorBase'</td>\n",
       "      <td></td>\n",
       "      <td>&lt;method 'equal' of 'torch._C._TensorBase' obje...</td>\n",
       "      <td>None</td>\n",
       "    </tr>\n",
       "    <tr>\n",
       "      <th>549</th>\n",
       "      <td>function</td>\n",
       "      <td>_save</td>\n",
       "      <td>8</td>\n",
       "      <td>0</td>\n",
       "      <td>0.1189</td>\n",
       "      <td>0.0685</td>\n",
       "      <td>\"/home/mengkjin/.local/lib/python3.10/site-pac...</td>\n",
       "      <td>0x7f09dfd82a20</td>\n",
       "      <td>&lt;code object _save at 0x7f09dfd82a20, file \"/h...</td>\n",
       "      <td>[(&lt;code object cpu at 0x7f09dfd43cb0, file \"/h...</td>\n",
       "    </tr>\n",
       "    <tr>\n",
       "      <th>161</th>\n",
       "      <td>method</td>\n",
       "      <td>'copy_'</td>\n",
       "      <td>17</td>\n",
       "      <td>0</td>\n",
       "      <td>0.0680</td>\n",
       "      <td>0.0680</td>\n",
       "      <td>'torch._C.StorageBase'</td>\n",
       "      <td></td>\n",
       "      <td>&lt;method 'copy_' of 'torch._C.StorageBase' obje...</td>\n",
       "      <td>None</td>\n",
       "    </tr>\n",
       "    <tr>\n",
       "      <th>177</th>\n",
       "      <td>built-in-method</td>\n",
       "      <td>torch._C._cuda_emptyCache</td>\n",
       "      <td>26</td>\n",
       "      <td>0</td>\n",
       "      <td>0.0452</td>\n",
       "      <td>0.0452</td>\n",
       "      <td></td>\n",
       "      <td></td>\n",
       "      <td>&lt;built-in method torch._C._cuda_emptyCache&gt;</td>\n",
       "      <td>None</td>\n",
       "    </tr>\n",
       "    <tr>\n",
       "      <th>555</th>\n",
       "      <td>function</td>\n",
       "      <td>load_tensor</td>\n",
       "      <td>10</td>\n",
       "      <td>0</td>\n",
       "      <td>0.0624</td>\n",
       "      <td>0.0373</td>\n",
       "      <td>\"/home/mengkjin/.local/lib/python3.10/site-pac...</td>\n",
       "      <td>0x7f09dfd83940</td>\n",
       "      <td>&lt;code object load_tensor at 0x7f09dfd83940, fi...</td>\n",
       "      <td>[(&lt;code object _typed_storage at 0x7f09e01f024...</td>\n",
       "    </tr>\n",
       "    <tr>\n",
       "      <th>89</th>\n",
       "      <td>method</td>\n",
       "      <td>'acquire'</td>\n",
       "      <td>323</td>\n",
       "      <td>0</td>\n",
       "      <td>0.0288</td>\n",
       "      <td>0.0288</td>\n",
       "      <td>'_thread.lock'</td>\n",
       "      <td></td>\n",
       "      <td>&lt;method 'acquire' of '_thread.lock' objects&gt;</td>\n",
       "      <td>None</td>\n",
       "    </tr>\n",
       "    <tr>\n",
       "      <th>193</th>\n",
       "      <td>method</td>\n",
       "      <td>'to'</td>\n",
       "      <td>140</td>\n",
       "      <td>0</td>\n",
       "      <td>0.0185</td>\n",
       "      <td>0.0185</td>\n",
       "      <td>'torch._C._TensorBase'</td>\n",
       "      <td></td>\n",
       "      <td>&lt;method 'to' of 'torch._C._TensorBase' objects&gt;</td>\n",
       "      <td>None</td>\n",
       "    </tr>\n",
       "  </tbody>\n",
       "</table>\n",
       "</div>"
      ],
      "text/plain": [
       "                type                           name  ncalls  ccalls  tottime  \\\n",
       "445         function                  neutralize_2d       2       0   0.2312   \n",
       "493  built-in-method  torch._C._linalg.linalg_lstsq     473       0   0.0996   \n",
       "435         function                          allna      24       0   0.0985   \n",
       "202           method                        'equal'      45       0   0.0817   \n",
       "549         function                          _save       8       0   0.1189   \n",
       "161           method                        'copy_'      17       0   0.0680   \n",
       "177  built-in-method      torch._C._cuda_emptyCache      26       0   0.0452   \n",
       "555         function                    load_tensor      10       0   0.0624   \n",
       "89            method                      'acquire'     323       0   0.0288   \n",
       "193           method                           'to'     140       0   0.0185   \n",
       "\n",
       "     cumtime                                              where  \\\n",
       "445   0.1169  \"/home/mengkjin/Workspace/learngp/gp_math_func...   \n",
       "493   0.0996                                                      \n",
       "435   0.0957  \"/home/mengkjin/Workspace/learngp/gp_math_func...   \n",
       "202   0.0817                             'torch._C._TensorBase'   \n",
       "549   0.0685  \"/home/mengkjin/.local/lib/python3.10/site-pac...   \n",
       "161   0.0680                             'torch._C.StorageBase'   \n",
       "177   0.0452                                                      \n",
       "555   0.0373  \"/home/mengkjin/.local/lib/python3.10/site-pac...   \n",
       "89    0.0288                                     '_thread.lock'   \n",
       "193   0.0185                             'torch._C._TensorBase'   \n",
       "\n",
       "             memory                                          full_name  \\\n",
       "445  0x7f0967e6c5b0  <code object neutralize_2d at 0x7f0967e6c5b0, ...   \n",
       "493                    <built-in method torch._C._linalg.linalg_lstsq>   \n",
       "435  0x7f0967e5f470  <code object allna at 0x7f0967e5f470, file \"/h...   \n",
       "202                  <method 'equal' of 'torch._C._TensorBase' obje...   \n",
       "549  0x7f09dfd82a20  <code object _save at 0x7f09dfd82a20, file \"/h...   \n",
       "161                  <method 'copy_' of 'torch._C.StorageBase' obje...   \n",
       "177                        <built-in method torch._C._cuda_emptyCache>   \n",
       "555  0x7f09dfd83940  <code object load_tensor at 0x7f09dfd83940, fi...   \n",
       "89                        <method 'acquire' of '_thread.lock' objects>   \n",
       "193                    <method 'to' of 'torch._C._TensorBase' objects>   \n",
       "\n",
       "                                                caller  \n",
       "445  [(<code object betas_torch at 0x7f0967e6c190, ...  \n",
       "493                                               None  \n",
       "435  [(<method 'isfinite' of 'torch._C._TensorBase'...  \n",
       "202                                               None  \n",
       "549  [(<code object cpu at 0x7f09dfd43cb0, file \"/h...  \n",
       "161                                               None  \n",
       "177                                               None  \n",
       "555  [(<code object _typed_storage at 0x7f09e01f024...  \n",
       "89                                                None  \n",
       "193                                               None  "
      ]
     },
     "execution_count": 2,
     "metadata": {},
     "output_type": "execute_result"
    }
   ],
   "source": [
    "# 测试代码跑起来有没有问题，参数都设的很小，应该在一两分钟内执行完\n",
    "from gp_main import main\n",
    "# 各参数含义\n",
    "# job_id     # 确定在哪个文件夹训练,-1代表新建,具体的数字是指定文件夹,但测试代码时统一在./pop/bendi\n",
    "# start_iter # 从第几个大循环开始\n",
    "# start_gen  # 从某个大循环的第几代种群开始\n",
    "# test_code  # 是否只是测试代码有无bug,默认False\n",
    "# noWith     # 是否取消所有计时器,默认False,有计时器时报错会出问题\n",
    "profiler = main(job_id= -1 , start_iter=0 , start_gen=0 , test_code = True , noWith = True , neut_method = 1)\n",
    "profiler.get_df(sort_on='cumtime' , highlight= None)[:10] # 看看各子程序耗时,用来优化"
   ]
  },
  {
   "cell_type": "code",
   "execution_count": 5,
   "metadata": {},
   "outputs": [
    {
     "name": "stdout",
     "output_type": "stream",
     "text": [
      "**Job Directory is : \"./pop/bendi\"\n",
      "  --> Continue Training in \"./pop/bendi\"\n",
      "**Device name: NVIDIA GeForce RTX 4090 , Available: True\n",
      "**Cuda Memory: Free 22.9G, Allocated 0.3G, Reserved 0.3G, Re-collect 0.0G Cache!\n",
      "-------------------- Data --------------------\n",
      "  --> Directly load \"./data/package/gp_data_package_test.pt\"\n",
      "**Load Data Done, Cost 0.09 Secs\n",
      "  --> 2 factors, 2 raw data loaded!\n",
      "==================== Iteration 1 start from Generation 0 ====================\n",
      "-------------------- Residual --------------------\n",
      "tensor([0.7704, 1.0000], device='cuda:0')\n",
      "  -> Elites(2) Shrink to SvdElites(1)\n",
      "  -> Neutra has 1 Elements\n",
      "**Cuda Memory: Free 22.8G, Allocated 0.4G, Reserved 0.4G, Re-collect 0.1G Cache!\n",
      "**Update Residual Labels Done, Cost 0.42 Secs, Freed CudaMemory 22.80G - > 22.78G\n",
      "-------------------- Setting --------------------\n",
      "**Initialize GP Toolbox Done, Cost 0.00 Secs\n",
      "-------------------- Evolution --------------------\n",
      "**A Population(6) has been Initialized\n"
     ]
    },
    {
     "name": "stderr",
     "output_type": "stream",
     "text": [
      "  --> Evolve Generation 0 MaxIRres-2.04|MaxIRraw-2.24: 100%|██████████| 6/6 [00:00<00:00, 117.07it/s]\n"
     ]
    },
    {
     "name": "stdout",
     "output_type": "stream",
     "text": [
      "  --> Survive 3 Offsprings, try Populating to 6 ones\n"
     ]
    },
    {
     "name": "stderr",
     "output_type": "stream",
     "text": [
      "  --> Evolve Generation 1 MaxIRres-3.30|MaxIRraw-4.05: 100%|██████████| 6/6 [00:00<00:00, 67.83it/s]"
     ]
    },
    {
     "name": "stdout",
     "output_type": "stream",
     "text": [
      "**A HallofFame(2) has been Evolutionized\n",
      "**2 Generations of Evolution Done, Cost 0.16 Secs, Freed CudaMemory 22.78G - > 22.78G\n",
      "-------------------- Selection --------------------\n",
      "**HallofFame(2) Contains 1 Promising Candidates with RankIR >= 2.70\n"
     ]
    },
    {
     "name": "stderr",
     "output_type": "stream",
     "text": [
      "\n"
     ]
    },
    {
     "name": "stdout",
     "output_type": "stream",
     "text": [
      "  --> Hof__0/Elite__2 (IR-3.30|Corr+0.00): cp\n",
      "**An EliteGroup(1) has been Selected\n",
      "  --> Cuda Memories of \"gp_inputs\" take 0.0376G\n",
      "  --> Cuda Memories of \"elites\"    take 0.0094G\n",
      "  --> Cuda Memories of \"tensors\"   take 0.0000G\n",
      "**Selection of HallofFame Done, Cost 0.07 Secs, Freed CudaMemory 22.78G - > 22.78G\n",
      "==================== Total Time Cost :0 hours 0.0 ====================\n",
      "   Residual  Setting  Evolution  Selection  AvgVarAnd  AvgCompile  AvgEval     All\n",
      "0    0.4166   0.0029     0.1585     0.0718     0.0002  7.5835...    0.0055  0.6656\n"
     ]
    },
    {
     "data": {
      "text/html": [
       "<div>\n",
       "<style scoped>\n",
       "    .dataframe tbody tr th:only-of-type {\n",
       "        vertical-align: middle;\n",
       "    }\n",
       "\n",
       "    .dataframe tbody tr th {\n",
       "        vertical-align: top;\n",
       "    }\n",
       "\n",
       "    .dataframe thead th {\n",
       "        text-align: right;\n",
       "    }\n",
       "</style>\n",
       "<table border=\"1\" class=\"dataframe\">\n",
       "  <thead>\n",
       "    <tr style=\"text-align: right;\">\n",
       "      <th></th>\n",
       "      <th>type</th>\n",
       "      <th>name</th>\n",
       "      <th>ncalls</th>\n",
       "      <th>ccalls</th>\n",
       "      <th>tottime</th>\n",
       "      <th>cumtime</th>\n",
       "      <th>where</th>\n",
       "      <th>memory</th>\n",
       "      <th>full_name</th>\n",
       "      <th>caller</th>\n",
       "    </tr>\n",
       "  </thead>\n",
       "  <tbody>\n",
       "    <tr>\n",
       "      <th>430</th>\n",
       "      <td>function</td>\n",
       "      <td>neutralize_2d</td>\n",
       "      <td>1</td>\n",
       "      <td>0</td>\n",
       "      <td>0.3407</td>\n",
       "      <td>0.1696</td>\n",
       "      <td>\"/home/mengkjin/Workspace/learngp/gp_math_func...</td>\n",
       "      <td>0x7f0967e6c5b0</td>\n",
       "      <td>&lt;code object neutralize_2d at 0x7f0967e6c5b0, ...</td>\n",
       "      <td>[(&lt;method 'squeeze_' of 'torch._C._TensorBase'...</td>\n",
       "    </tr>\n",
       "    <tr>\n",
       "      <th>472</th>\n",
       "      <td>built-in-method</td>\n",
       "      <td>torch._C._linalg.linalg_lstsq</td>\n",
       "      <td>473</td>\n",
       "      <td>0</td>\n",
       "      <td>0.1475</td>\n",
       "      <td>0.1475</td>\n",
       "      <td></td>\n",
       "      <td></td>\n",
       "      <td>&lt;built-in method torch._C._linalg.linalg_lstsq&gt;</td>\n",
       "      <td>None</td>\n",
       "    </tr>\n",
       "    <tr>\n",
       "      <th>530</th>\n",
       "      <td>function</td>\n",
       "      <td>load_tensor</td>\n",
       "      <td>10</td>\n",
       "      <td>0</td>\n",
       "      <td>0.1176</td>\n",
       "      <td>0.0836</td>\n",
       "      <td>\"/home/mengkjin/.local/lib/python3.10/site-pac...</td>\n",
       "      <td>0x7f09dfd83940</td>\n",
       "      <td>&lt;code object load_tensor at 0x7f09dfd83940, fi...</td>\n",
       "      <td>[(&lt;code object default_restore_location at 0x7...</td>\n",
       "    </tr>\n",
       "    <tr>\n",
       "      <th>150</th>\n",
       "      <td>method</td>\n",
       "      <td>'copy_'</td>\n",
       "      <td>13</td>\n",
       "      <td>0</td>\n",
       "      <td>0.0440</td>\n",
       "      <td>0.0440</td>\n",
       "      <td>'torch._C.StorageBase'</td>\n",
       "      <td></td>\n",
       "      <td>&lt;method 'copy_' of 'torch._C.StorageBase' obje...</td>\n",
       "      <td>None</td>\n",
       "    </tr>\n",
       "    <tr>\n",
       "      <th>524</th>\n",
       "      <td>function</td>\n",
       "      <td>_save</td>\n",
       "      <td>5</td>\n",
       "      <td>0</td>\n",
       "      <td>0.0570</td>\n",
       "      <td>0.0352</td>\n",
       "      <td>\"/home/mengkjin/.local/lib/python3.10/site-pac...</td>\n",
       "      <td>0x7f09dfd82a20</td>\n",
       "      <td>&lt;code object _save at 0x7f09dfd82a20, file \"/h...</td>\n",
       "      <td>[(&lt;built-in method builtins.sorted&gt;, 5, 0, 1.1...</td>\n",
       "    </tr>\n",
       "    <tr>\n",
       "      <th>191</th>\n",
       "      <td>method</td>\n",
       "      <td>'equal'</td>\n",
       "      <td>24</td>\n",
       "      <td>0</td>\n",
       "      <td>0.0351</td>\n",
       "      <td>0.0351</td>\n",
       "      <td>'torch._C._TensorBase'</td>\n",
       "      <td></td>\n",
       "      <td>&lt;method 'equal' of 'torch._C._TensorBase' obje...</td>\n",
       "      <td>None</td>\n",
       "    </tr>\n",
       "    <tr>\n",
       "      <th>420</th>\n",
       "      <td>function</td>\n",
       "      <td>allna</td>\n",
       "      <td>12</td>\n",
       "      <td>0</td>\n",
       "      <td>0.0350</td>\n",
       "      <td>0.0309</td>\n",
       "      <td>\"/home/mengkjin/Workspace/learngp/gp_math_func...</td>\n",
       "      <td>0x7f0967e5f470</td>\n",
       "      <td>&lt;code object allna at 0x7f0967e5f470, file \"/h...</td>\n",
       "      <td>[(&lt;method 'any' of 'torch._C._TensorBase' obje...</td>\n",
       "    </tr>\n",
       "    <tr>\n",
       "      <th>203</th>\n",
       "      <td>method</td>\n",
       "      <td>'nanquantile'</td>\n",
       "      <td>24</td>\n",
       "      <td>0</td>\n",
       "      <td>0.0238</td>\n",
       "      <td>0.0238</td>\n",
       "      <td>'torch._C._TensorBase'</td>\n",
       "      <td></td>\n",
       "      <td>&lt;method 'nanquantile' of 'torch._C._TensorBase...</td>\n",
       "      <td>None</td>\n",
       "    </tr>\n",
       "    <tr>\n",
       "      <th>166</th>\n",
       "      <td>built-in-method</td>\n",
       "      <td>torch._C._cuda_emptyCache</td>\n",
       "      <td>11</td>\n",
       "      <td>0</td>\n",
       "      <td>0.0201</td>\n",
       "      <td>0.0201</td>\n",
       "      <td></td>\n",
       "      <td></td>\n",
       "      <td>&lt;built-in method torch._C._cuda_emptyCache&gt;</td>\n",
       "      <td>None</td>\n",
       "    </tr>\n",
       "    <tr>\n",
       "      <th>214</th>\n",
       "      <td>method</td>\n",
       "      <td>'sum'</td>\n",
       "      <td>622</td>\n",
       "      <td>0</td>\n",
       "      <td>0.0183</td>\n",
       "      <td>0.0183</td>\n",
       "      <td>'torch._C._TensorBase'</td>\n",
       "      <td></td>\n",
       "      <td>&lt;method 'sum' of 'torch._C._TensorBase' objects&gt;</td>\n",
       "      <td>None</td>\n",
       "    </tr>\n",
       "  </tbody>\n",
       "</table>\n",
       "</div>"
      ],
      "text/plain": [
       "                type                           name  ncalls  ccalls  tottime  \\\n",
       "430         function                  neutralize_2d       1       0   0.3407   \n",
       "472  built-in-method  torch._C._linalg.linalg_lstsq     473       0   0.1475   \n",
       "530         function                    load_tensor      10       0   0.1176   \n",
       "150           method                        'copy_'      13       0   0.0440   \n",
       "524         function                          _save       5       0   0.0570   \n",
       "191           method                        'equal'      24       0   0.0351   \n",
       "420         function                          allna      12       0   0.0350   \n",
       "203           method                  'nanquantile'      24       0   0.0238   \n",
       "166  built-in-method      torch._C._cuda_emptyCache      11       0   0.0201   \n",
       "214           method                          'sum'     622       0   0.0183   \n",
       "\n",
       "     cumtime                                              where  \\\n",
       "430   0.1696  \"/home/mengkjin/Workspace/learngp/gp_math_func...   \n",
       "472   0.1475                                                      \n",
       "530   0.0836  \"/home/mengkjin/.local/lib/python3.10/site-pac...   \n",
       "150   0.0440                             'torch._C.StorageBase'   \n",
       "524   0.0352  \"/home/mengkjin/.local/lib/python3.10/site-pac...   \n",
       "191   0.0351                             'torch._C._TensorBase'   \n",
       "420   0.0309  \"/home/mengkjin/Workspace/learngp/gp_math_func...   \n",
       "203   0.0238                             'torch._C._TensorBase'   \n",
       "166   0.0201                                                      \n",
       "214   0.0183                             'torch._C._TensorBase'   \n",
       "\n",
       "             memory                                          full_name  \\\n",
       "430  0x7f0967e6c5b0  <code object neutralize_2d at 0x7f0967e6c5b0, ...   \n",
       "472                    <built-in method torch._C._linalg.linalg_lstsq>   \n",
       "530  0x7f09dfd83940  <code object load_tensor at 0x7f09dfd83940, fi...   \n",
       "150                  <method 'copy_' of 'torch._C.StorageBase' obje...   \n",
       "524  0x7f09dfd82a20  <code object _save at 0x7f09dfd82a20, file \"/h...   \n",
       "191                  <method 'equal' of 'torch._C._TensorBase' obje...   \n",
       "420  0x7f0967e5f470  <code object allna at 0x7f0967e5f470, file \"/h...   \n",
       "203                  <method 'nanquantile' of 'torch._C._TensorBase...   \n",
       "166                        <built-in method torch._C._cuda_emptyCache>   \n",
       "214                   <method 'sum' of 'torch._C._TensorBase' objects>   \n",
       "\n",
       "                                                caller  \n",
       "430  [(<method 'squeeze_' of 'torch._C._TensorBase'...  \n",
       "472                                               None  \n",
       "530  [(<code object default_restore_location at 0x7...  \n",
       "150                                               None  \n",
       "524  [(<built-in method builtins.sorted>, 5, 0, 1.1...  \n",
       "191                                               None  \n",
       "420  [(<method 'any' of 'torch._C._TensorBase' obje...  \n",
       "203                                               None  \n",
       "166                                               None  \n",
       "214                                               None  "
      ]
     },
     "execution_count": 5,
     "metadata": {},
     "output_type": "execute_result"
    }
   ],
   "source": [
    "# 测试能不能继续训练\n",
    "from gp_main import main\n",
    "profiler = main(job_id= -1 , start_iter=1 , start_gen=0 , test_code = True , noWith = False , neut_method = 1)\n",
    "profiler.get_df(sort_on='cumtime' , highlight= None)[:10] # 看看各子程序耗时,用来优化"
   ]
  },
  {
   "cell_type": "code",
   "execution_count": 1,
   "metadata": {},
   "outputs": [
    {
     "name": "stdout",
     "output_type": "stream",
     "text": [
      "**Job Directory is : \"./pop/1\"\n",
      "  --> Continue Training in \"./pop/1\"\n",
      "**Device name: NVIDIA GeForce RTX 4090 , Available: True\n",
      "**Cuda Memory: Free 23.3G, Allocated 0.0G, Reserved 0.0G, Re-collect 0.0G Cache!\n",
      "-------------------- Data --------------------\n",
      "**Load Data Done, Cost 2.23 Secs\n",
      "==================== Iteration 2 start from Generation 0 ====================\n",
      "-------------------- Residual --------------------\n",
      "tensor([0.2571, 0.3327, 0.3922, 0.4334, 0.4709, 0.4980, 0.5218, 0.5404, 0.5571,\n",
      "        0.5723, 0.5867, 0.6007, 0.6140, 0.6265, 0.6382, 0.6495, 0.6601, 0.6701,\n",
      "        0.6798, 0.6888, 0.6976, 0.7057, 0.7136, 0.7213, 0.7289, 0.7362, 0.7433,\n",
      "        0.7502, 0.7568, 0.7633, 0.7695, 0.7756, 0.7815, 0.7873, 0.7930, 0.7984,\n",
      "        0.8037, 0.8090, 0.8140, 0.8191, 0.8239, 0.8286, 0.8332, 0.8377, 0.8421,\n",
      "        0.8463, 0.8505, 0.8546, 0.8586, 0.8626, 0.8664, 0.8702, 0.8739, 0.8775,\n",
      "        0.8811, 0.8845, 0.8878, 0.8912, 0.8945, 0.8977, 0.9008, 0.9038, 0.9067,\n",
      "        0.9096, 0.9125, 0.9153, 0.9181, 0.9209, 0.9236, 0.9262, 0.9288, 0.9313,\n",
      "        0.9337, 0.9361, 0.9384, 0.9407, 0.9430, 0.9452, 0.9473, 0.9494, 0.9515,\n",
      "        0.9536, 0.9556, 0.9575, 0.9594, 0.9613, 0.9631, 0.9649, 0.9665, 0.9681,\n",
      "        0.9698, 0.9713, 0.9729, 0.9743, 0.9757, 0.9771, 0.9784, 0.9797, 0.9810,\n",
      "        0.9822, 0.9834, 0.9845, 0.9856, 0.9866, 0.9877, 0.9887, 0.9896, 0.9906,\n",
      "        0.9915, 0.9923, 0.9931, 0.9939, 0.9946, 0.9953, 0.9960, 0.9966, 0.9973,\n",
      "        0.9978, 0.9983, 0.9987, 0.9991, 0.9994, 0.9997, 1.0000, 1.0000],\n",
      "       device='cuda:0')\n",
      "  -> Elites(125) Shrink to SvdElites(28)\n",
      "  -> Neutra has 28 Elements\n",
      "**Cuda Memory: Free 10.7G, Allocated 12.4G, Reserved 12.5G, Re-collect 8.4G Cache!\n",
      "**Update Residual Labels Done, Cost 15.68 Secs, Freed CudaMemory 20.99G - > 19.01G\n",
      "-------------------- Setting --------------------\n",
      "**Initialize GP Toolbox Done, Cost 0.00 Secs\n",
      "-------------------- Evolution --------------------\n",
      "**A Population(3000) has been Initialized\n"
     ]
    },
    {
     "name": "stderr",
     "output_type": "stream",
     "text": [
      "  --> Evolve Generation 0 MaxIRres-7.29|MaxIRraw-5.45: 100%|██████████| 3000/3000 [07:11<00:00,  6.96it/s]\n"
     ]
    },
    {
     "name": "stdout",
     "output_type": "stream",
     "text": [
      "  --> Survive 1447 Offsprings, try Populating to 3000 ones\n"
     ]
    },
    {
     "name": "stderr",
     "output_type": "stream",
     "text": [
      "  --> Evolve Generation 1 MaxIRres-7.27|MaxIRraw-5.45: 100%|██████████| 3000/3000 [06:48<00:00,  7.35it/s]\n"
     ]
    },
    {
     "name": "stdout",
     "output_type": "stream",
     "text": [
      "  --> Survive 1500 Offsprings, try Populating to 3000 ones\n"
     ]
    },
    {
     "name": "stderr",
     "output_type": "stream",
     "text": [
      "  --> Evolve Generation 2 MaxIRres-7.25|MaxIRraw+5.60: 100%|██████████| 3000/3000 [06:31<00:00,  7.66it/s]\n"
     ]
    },
    {
     "name": "stdout",
     "output_type": "stream",
     "text": [
      "  --> Survive 1454 Offsprings, try Populating to 3000 ones\n"
     ]
    },
    {
     "name": "stderr",
     "output_type": "stream",
     "text": [
      "  --> Evolve Generation 3 MaxIRres-7.29|MaxIRraw+5.59: 100%|██████████| 3000/3000 [06:34<00:00,  7.60it/s]\n"
     ]
    },
    {
     "name": "stdout",
     "output_type": "stream",
     "text": [
      "  --> Survive 1480 Offsprings, try Populating to 3000 ones\n"
     ]
    },
    {
     "name": "stderr",
     "output_type": "stream",
     "text": [
      "  --> Evolve Generation 4 MaxIRres-7.28|MaxIRraw+5.59: 100%|██████████| 3000/3000 [06:27<00:00,  7.75it/s]\n"
     ]
    },
    {
     "name": "stdout",
     "output_type": "stream",
     "text": [
      "  --> Survive 1480 Offsprings, try Populating to 3000 ones\n"
     ]
    },
    {
     "name": "stderr",
     "output_type": "stream",
     "text": [
      "  --> Evolve Generation 5 MaxIRres-7.20|MaxIRraw+5.60: 100%|██████████| 3000/3000 [06:28<00:00,  7.73it/s]\n"
     ]
    },
    {
     "name": "stdout",
     "output_type": "stream",
     "text": [
      "**A HallofFame(500) has been Evolutionized\n",
      "**6 Generations of Evolution Done, Cost 2405.93 Secs, Freed CudaMemory 19.01G - > 19.00G\n",
      "-------------------- Selection --------------------\n",
      "**HallofFame(500) Contains 414 Promising Candidates with RankIR >= 3.00\n",
      "  --> Hof__0/Elite235 (IR-7.29|Corr+0.00): ts_max(TURN,2)\n",
      "  --> Hof__4/Elite236 (IR-7.22|Corr+0.69): rank(sqrt(TURN))\n",
      "  --> Hof_19/Elite237 (IR-5.95|Corr+0.49): sigmoid(ts_dwdif(ts_min(TURN,4),ADV20,40))\n",
      "  --> Hof_20/Elite238 (IR-5.78|Corr+0.64): ts_max(power(ts_xtop_yavg(ts_argmax(vol,7),TURN,15,1),1.02),5)\n",
      "  --> Hof_31/Elite239 (IR-4.99|Corr+0.55): ts_dwdif(RTN,DP,30)\n",
      "  --> Hof_34/Elite240 (IR+4.80|Corr-0.66): rank_sub(sqrt(EP),ts_btm_avg(TURN,10,1))\n",
      "  --> Hof_53/Elite241 (IR-4.49|Corr+0.09): ts_corr(VOL,TURN,8)\n",
      "  --> Hof_55/Elite242 (IR+4.44|Corr-0.62): ts_dwdif(log(HP),TURN,15)\n",
      "  --> Hof_60/Elite243 (IR-4.36|Corr+0.69): ts_delay(log(TURN),8)\n",
      "  --> Hof_65/Elite244 (IR-4.32|Corr+0.66): rank_sub(ts_dwdif(TURN,hp,40),ts_delta(bp,2))\n",
      "  --> Hof_67/Elite245 (IR+4.20|Corr-0.41): rank_sub(sigmoid(adv60),ts_rng_dif(TURN,15,1))\n",
      "  --> Hof_82/Elite246 (IR+4.02|Corr+0.56): power(DP,0.28)\n",
      "  --> Hof_87/Elite247 (IR-4.01|Corr+0.68): ts_xbtm_yavg(rank_div(mul(mul(lp,amt),ts_max(OP,3)),ts_delta(pctchg(BP,10),8)),sqrt(TURN),10,1)\n",
      "  --> Hof_98/Elite248 (IR-3.94|Corr+0.30): ts_dwdif(CP,VP,15)\n",
      "  --> Hof102/Elite249 (IR-3.92|Corr-0.66): ts_dw(ts_corr(DP,CP,9),5)\n",
      "  --> Hof103/Elite250 (IR+3.92|Corr+0.67): rank(ts_btm_avg(DP,10,2))\n",
      "  --> Hof109/Elite251 (IR-3.90|Corr+0.30): ts_rng_dif(rank(ts_dwdif(OP,EP,20)),10,1)\n",
      "  --> Hof112/Elite252 (IR-3.88|Corr+0.06): ts_max(ts_dwdif(RTN,OCFP,15),9)\n",
      "  --> Hof114/Elite253 (IR+3.88|Corr+0.38): square(ts_max(OCFP,2))\n",
      "  --> Hof129/Elite254 (IR+3.82|Corr+0.22): div(sqrt(EP),ts_max(turn,9))\n",
      "  --> Hof141/Elite255 (IR-3.76|Corr+0.63): ts_top_avg(RTN,30,1)\n",
      "  --> Hof152/Elite256 (IR+3.73|Corr-0.46): log(OCFP)\n",
      "  --> Hof160/Elite257 (IR-3.67|Corr+0.69): ts_rng_dif(rank(ts_dwdif(OP,VOL,20)),10,1)\n",
      "  --> Hof163/Elite258 (IR+3.66|Corr+0.61): rank_sub(ts_xbtm_yavg(ADV20,DP,20,1),add(add(ts_dwdif(ts_stddev(cp,8),ma(HP,9),15),ts_cov(sqrt(bp),square(vol),5)),ts_delta(ts_max(TURN,4),1)))\n",
      "  --> Hof167/Elite259 (IR+3.65|Corr-0.20): rank_mul(bp,op)\n",
      "  --> Hof176/Elite260 (IR-3.60|Corr+0.69): ts_xbtm_yavg(rank_div(mul(ma(ma(OP,20),9),ts_max(OP,3)),ts_delta(pctchg(BP,10),8)),sqrt(TURN),20,1)\n",
      "  --> Hof178/Elite261 (IR+3.59|Corr-0.44): rank_div(rank_add(op,bp),ts_xtop_yavg(ep,TURN,20,1))\n",
      "  --> Hof182/Elite262 (IR+3.58|Corr+0.69): ts_max(EP,2)\n",
      "  --> Hof189/Elite263 (IR+3.54|Corr+0.63): ts_xbtm_yavg(EP,DP,40,1)\n",
      "  --> Hof201/Elite264 (IR+3.51|Corr-0.45): rank_sub(ts_corr(HP,turn,4),ts_xtop_yavg(VP,TURN,15,1))\n",
      "  --> Hof206/Elite265 (IR-3.50|Corr+0.69): mul(ts_xtop_yavg(RTN,TURN,10,1),ts_rng_dif(ts_rankcorr(OP,ts_xbtm_yavg(BP,ts_top_avg(DP,20,1),40,1),2),30,4))\n",
      "  --> Hof208/Elite266 (IR-3.48|Corr-0.40): ts_xbtm_yavg(ts_rank(ts_max(VOL,8),6),rank_add(square(vp),ts_corr(TURN,VP,3)),10,4)\n",
      "  --> Hof212/Elite267 (IR+3.48|Corr-0.42): ts_top_avg(ts_beta(TURN,ts_rng_dif(turn,20,8),6),30,1)\n",
      "  --> Hof220/Elite268 (IR-3.46|Corr+0.47): rank_mul(ts_btm_avg(ts_corr(OCFP,ts_beta(ocfp,OCFP,5),3),20,1),ts_xtop_yavg(ts_delay(ts_xtop_yavg(DP,VOL,30,9),1),TURN,40,7))\n",
      "  --> Hof232/Elite269 (IR-3.43|Corr+0.48): ts_dwdif(ts_xrng_ydif(VP,TURN,40,2),ADV20,15)\n",
      "  --> Hof240/Elite270 (IR-3.41|Corr+0.67): add(ts_xtop_yavg(ts_xtop_yavg(HP,LP,30,1),ts_rng_dif(TURN,30,6),30,6),ts_rankcorr(OCFP,sign(VP),3))\n",
      "  --> Hof247/Elite271 (IR-3.40|Corr+0.68): ts_xbtm_yavg(ts_max(ts_xtop_yavg(ts_btm_avg(op,30,1),ep,10,1),5),TURN,15,1)\n",
      "  --> Hof254/Elite272 (IR-3.39|Corr+0.66): ts_stddev(rank_div(ts_xbtm_yavg(ts_btm_avg(HP,10,1),OP,20,1),power(DP,0.3)),8)\n",
      "  --> Hof255/Elite273 (IR-3.39|Corr+0.40): ma(ts_xrng_ydif(VOL,VP,10,8),9)\n",
      "  --> Hof275/Elite274 (IR-3.35|Corr-0.46): ts_dw(log(amt),8)\n",
      "  --> Hof281/Elite275 (IR-3.34|Corr+0.42): ts_btm_avg(sqrt(turn),10,1)\n",
      "  --> Hof283/Elite276 (IR+3.34|Corr-0.18): pctchg(EP,40)\n",
      "  --> Hof297/Elite277 (IR-3.31|Corr+0.59): ts_xbtm_yavg(ts_corr(VOL,BP,6),TURN,30,1)\n",
      "  --> Hof300/Elite278 (IR+3.30|Corr+0.63): ts_min(OCFP,2)\n",
      "  --> Hof302/Elite279 (IR+3.29|Corr+0.39): rank_add(ts_xtop_yavg(ts_argmax(BP,6),ts_argmax(ts_xtop_yavg(ts_btm_avg(adv20,10,6),ts_corr(RTN,lp,6),20,4),4),40,3),ts_dwdif(BP,ts_rank(CP,8),15))\n",
      "  --> Hof310/Elite280 (IR-3.27|Corr+0.65): ts_xbtm_yavg(BP,TURN,30,1)\n",
      "  --> Hof317/Elite281 (IR-3.23|Corr+0.56): ts_corr(AMT,HP,9)\n",
      "  --> Hof320/Elite282 (IR-3.22|Corr+0.63): ts_xbtm_yavg(BP,ts_xrng_ydif(TURN,HP,10,1),10,1)\n",
      "  --> Hof330/Elite283 (IR+3.20|Corr+0.61): rank_add(ts_min(ts_rng_dif(EP,10,1),5),ts_btm_avg(ts_rng_dif(DP,30,8),20,1))\n",
      "  --> Hof331/Elite284 (IR-3.20|Corr+0.52): ts_xbtm_yavg(op,TURN,40,1)\n",
      "  --> Hof343/Elite285 (IR-3.16|Corr+0.43): ts_rng_dif(ts_xrng_ydif(bp,TURN,40,1),30,8)\n",
      "  --> Hof345/Elite286 (IR-3.15|Corr+0.60): ts_max(RTN,7)\n",
      "  --> Hof346/Elite287 (IR-3.15|Corr+0.38): ts_beta(AMT,TURN,2)\n",
      "  --> Hof347/Elite288 (IR-3.15|Corr+0.63): ts_xbtm_yavg(ts_xtop_yavg(LP,HP,30,7),TURN,40,8)\n",
      "  --> Hof354/Elite289 (IR-3.13|Corr-0.48): power(AMT,0.6)\n",
      "  --> Hof356/Elite290 (IR+3.13|Corr-0.46): ts_beta(BP,TURN,9)\n",
      "  --> Hof357/Elite291 (IR-3.12|Corr-0.27): ts_corr(CP,OCFP,8)\n",
      "  --> Hof360/Elite292 (IR-3.11|Corr+0.69): ts_rng_dif(RTN,15,1)\n",
      "  --> Hof361/Elite293 (IR-3.11|Corr+0.69): ts_xbtm_yavg(LP,TURN,30,5)\n",
      "  --> Hof368/Elite294 (IR-3.10|Corr+0.66): mul(sigmoid(vol),ts_xtop_yavg(ts_corr(VP,RTN,7),TURN,20,1))\n",
      "  --> Hof372/Elite295 (IR-3.09|Corr+0.69): ts_stddev(rank(ts_beta(TURN,AMT,6)),4)\n",
      "  --> Hof386/Elite296 (IR+3.06|Corr+0.61): div(ts_top_avg(BP,20,1),ts_xtop_yavg(CP,log(ts_beta(vp,TURN,2)),20,1))\n",
      "  --> Hof387/Elite297 (IR-3.06|Corr+0.15): ts_corr(TURN,VP,2)\n",
      "  --> Hof400/Elite298 (IR-3.02|Corr+0.59): ts_rng_dif(ts_top_avg(LP,30,1),30,1)\n",
      "  --> Hof404/Elite299 (IR+3.01|Corr+0.67): ts_beta(BP,TURN,6)\n",
      "**An EliteGroup(65) has been Selected\n",
      "  --> Cuda Memories of \"gp_inputs\" take 1.9266G\n",
      "  --> Cuda Memories of \"elites\"    take 4.3184G\n",
      "  --> Cuda Memories of \"tensors\"   take 0.0000G\n",
      "**Selection of HallofFame Done, Cost 170.82 Secs, Freed CudaMemory 19.00G - > 19.00G\n",
      "==================== Iteration 3 start from Generation 0 ====================\n",
      "-------------------- Residual --------------------\n",
      "tensor([0.1581, 0.2561, 0.3122, 0.3518, 0.3892, 0.4214, 0.4514, 0.4791, 0.5045,\n",
      "        0.5289, 0.5506, 0.5709, 0.5904, 0.6086, 0.6263, 0.6432, 0.6587, 0.6735,\n",
      "        0.6880, 0.7017, 0.7149, 0.7278, 0.7402, 0.7519, 0.7633, 0.7743, 0.7848,\n",
      "        0.7950, 0.8048, 0.8140, 0.8230, 0.8317, 0.8403, 0.8487, 0.8569, 0.8647,\n",
      "        0.8721, 0.8793, 0.8865, 0.8932, 0.8998, 0.9062, 0.9123, 0.9184, 0.9242,\n",
      "        0.9298, 0.9352, 0.9405, 0.9456, 0.9503, 0.9550, 0.9592, 0.9634, 0.9674,\n",
      "        0.9713, 0.9750, 0.9786, 0.9821, 0.9853, 0.9884, 0.9915, 0.9941, 0.9965,\n",
      "        0.9984, 1.0000], device='cuda:0')\n",
      "  -> Elites(65) Shrink to SvdElites(24)\n",
      "  -> Neutra has 24 Elements\n",
      "**Cuda Memory: Free 14.8G, Allocated 8.1G, Reserved 8.4G, Re-collect 11.8G Cache!\n",
      "**Update Residual Labels Done, Cost 10.06 Secs, Freed CudaMemory 19.00G - > 19.07G\n",
      "-------------------- Setting --------------------\n",
      "**Initialize GP Toolbox Done, Cost 0.00 Secs\n",
      "-------------------- Evolution --------------------\n",
      "**A Population(3000) has been Initialized\n"
     ]
    },
    {
     "name": "stderr",
     "output_type": "stream",
     "text": [
      "  --> Evolve Generation 0 MaxIRres-7.68|MaxIRraw-5.46: 100%|██████████| 3000/3000 [07:10<00:00,  6.96it/s]\n"
     ]
    },
    {
     "name": "stdout",
     "output_type": "stream",
     "text": [
      "  --> Survive 1461 Offsprings, try Populating to 3000 ones\n"
     ]
    },
    {
     "name": "stderr",
     "output_type": "stream",
     "text": [
      "  --> Evolve Generation 1 MaxIRres-7.68|MaxIRraw-5.46: 100%|██████████| 3000/3000 [06:34<00:00,  7.60it/s]\n"
     ]
    },
    {
     "name": "stdout",
     "output_type": "stream",
     "text": [
      "  --> Survive 1462 Offsprings, try Populating to 3000 ones\n"
     ]
    },
    {
     "name": "stderr",
     "output_type": "stream",
     "text": [
      "  --> Evolve Generation 2 MaxIRres-7.68|MaxIRraw-5.45: 100%|██████████| 3000/3000 [06:26<00:00,  7.75it/s]\n"
     ]
    },
    {
     "name": "stdout",
     "output_type": "stream",
     "text": [
      "  --> Survive 1473 Offsprings, try Populating to 3000 ones\n"
     ]
    },
    {
     "name": "stderr",
     "output_type": "stream",
     "text": [
      "  --> Evolve Generation 3 MaxIRres-7.68|MaxIRraw-5.45: 100%|██████████| 3000/3000 [06:26<00:00,  7.76it/s]\n"
     ]
    },
    {
     "name": "stdout",
     "output_type": "stream",
     "text": [
      "  --> Survive 1484 Offsprings, try Populating to 3000 ones\n"
     ]
    },
    {
     "name": "stderr",
     "output_type": "stream",
     "text": [
      "  --> Evolve Generation 4 MaxIRres-7.68|MaxIRraw+6.50: 100%|██████████| 3000/3000 [06:23<00:00,  7.82it/s]\n"
     ]
    },
    {
     "name": "stdout",
     "output_type": "stream",
     "text": [
      "  --> Survive 1463 Offsprings, try Populating to 3000 ones\n"
     ]
    },
    {
     "name": "stderr",
     "output_type": "stream",
     "text": [
      "  --> Evolve Generation 5 MaxIRres-7.68|MaxIRraw+6.50: 100%|██████████| 3000/3000 [06:20<00:00,  7.88it/s]\n"
     ]
    },
    {
     "name": "stdout",
     "output_type": "stream",
     "text": [
      "**A HallofFame(500) has been Evolutionized\n",
      "**6 Generations of Evolution Done, Cost 2368.80 Secs, Freed CudaMemory 19.07G - > 19.07G\n",
      "-------------------- Selection --------------------\n",
      "**HallofFame(500) Contains 500 Promising Candidates with RankIR >= 3.00\n",
      "  --> Hof__0/Elite300 (IR-7.68|Corr+0.00): log(TURN)\n",
      "  --> Hof_17/Elite301 (IR-6.43|Corr+0.69): ts_max(ts_xtop_yavg(AMT,TURN,10,1),9)\n",
      "  --> Hof_23/Elite302 (IR-5.98|Corr+0.48): ts_dwdif(sqrt(RTN),ts_xbtm_yavg(RTN,EP,20,4),30)\n",
      "  --> Hof_29/Elite303 (IR-5.93|Corr+0.67): log(rank(ts_xtop_yavg(RTN,TURN,15,1)))\n",
      "  --> Hof_31/Elite304 (IR+5.91|Corr-0.68): rank_sub(ts_rankcorr(ts_rng_dif(sqrt(ep),10,7),ts_btm_avg(ADV20,15,3),5),ts_xtop_yavg(RTN,TURN,15,6))\n",
      "  --> Hof_34/Elite305 (IR-5.70|Corr+0.68): ts_dwdif(RTN,DP,20)\n",
      "  --> Hof_36/Elite306 (IR-5.65|Corr+0.65): rank(ts_rng_dif(RTN,15,1))\n",
      "  --> Hof_62/Elite307 (IR+5.30|Corr-0.64): ts_dwdif(ts_argmin(vp,7),TURN,30)\n",
      "  --> Hof_66/Elite308 (IR-5.28|Corr+0.45): ts_corr(TURN,power(AMT,0.48),2)\n",
      "  --> Hof_68/Elite309 (IR-5.25|Corr+0.69): power(ts_max(ts_delay(ts_xtop_yavg(dp,TURN,15,9),1),3),1.98)\n",
      "  --> Hof114/Elite310 (IR+4.90|Corr-0.66): power(EP,0.28)\n",
      "  --> Hof115/Elite311 (IR-4.89|Corr+0.66): ts_xbtm_yavg(HP,TURN,10,1)\n",
      "  --> Hof128/Elite312 (IR-4.82|Corr+0.52): ts_dwdif(TURN,VOL,40)\n",
      "  --> Hof154/Elite313 (IR-4.72|Corr+0.67): ts_top_avg(RTN,30,1)\n",
      "  --> Hof157/Elite314 (IR-4.72|Corr+0.66): ts_xbtm_yavg(BP,ma(TURN,20),30,3)\n",
      "  --> Hof162/Elite315 (IR-4.69|Corr+0.37): ts_dwdif(RTN,OCFP,30)\n",
      "  --> Hof166/Elite316 (IR+4.67|Corr-0.54): sub(ts_max(ts_cov(ts_corr(ts_rank(VP,4),OP,7),log(ts_xrng_ydif(DP,adv60,10,2)),3),2),ts_rng_dif(RTN,15,1))\n",
      "  --> Hof190/Elite317 (IR-4.58|Corr+0.65): ts_xbtm_yavg(ocfp,TURN,10,1)\n",
      "  --> Hof204/Elite318 (IR+4.51|Corr+0.13): square(ts_min(OCFP,8))\n",
      "  --> Hof218/Elite319 (IR+4.43|Corr-0.61): log(OCFP)\n",
      "  --> Hof228/Elite320 (IR-4.40|Corr+0.68): ts_xbtm_yavg(CP,TURN,40,5)\n",
      "  --> Hof242/Elite321 (IR-4.35|Corr+0.60): ts_xbtm_yavg(ts_product(ma(ts_corr(hp,LP,9),20),9),TURN,40,1)\n",
      "  --> Hof258/Elite322 (IR+4.29|Corr-0.52): rank_mul(ep,ts_xtop_yavg(VOL,DP,30,1))\n",
      "  --> Hof263/Elite323 (IR-4.27|Corr+0.66): ts_rng_dif(ts_delta(ts_xbtm_yavg(bp,TURN,30,4),2),30,1)\n",
      "  --> Hof274/Elite324 (IR-4.22|Corr+0.67): ts_xbtm_yavg(ts_product(ma(ts_corr(hp,LP,9),20),4),TURN,40,1)\n",
      "  --> Hof283/Elite325 (IR+4.17|Corr-0.48): ts_rng_dif(ts_xrng_ydif(RTN,rank_div(ts_argmax(op,3),ts_top_avg(TURN,30,1)),20,5),40,1)\n",
      "  --> Hof285/Elite326 (IR-4.16|Corr+0.68): ts_min(ts_top_avg(RTN,15,3),7)\n",
      "  --> Hof292/Elite327 (IR-4.12|Corr+0.68): ts_dw(ts_xtop_yavg(OCFP,TURN,30,6),9)\n",
      "  --> Hof296/Elite328 (IR+4.09|Corr+0.68): ts_dwdif(EP,ma(adv60,7),10)\n",
      "  --> Hof303/Elite329 (IR-4.05|Corr+0.68): add(ts_beta(ts_rank(pctchg(DP,15),7),ADV20,8),sqrt(TURN))\n",
      "  --> Hof304/Elite330 (IR+4.05|Corr+0.56): log(ts_btm_avg(DP,40,1))\n",
      "  --> Hof305/Elite331 (IR+4.03|Corr+0.48): ts_dwdif(ts_argmin(dp,4),TURN,30)\n",
      "  --> Hof309/Elite332 (IR-4.00|Corr+0.67): ts_xbtm_yavg(RTN,TURN,20,1)\n",
      "  --> Hof310/Elite333 (IR+4.00|Corr+0.49): power(BP,0.58)\n",
      "  --> Hof312/Elite334 (IR+3.99|Corr-0.37): rank(ts_beta(BP,TURN,6))\n",
      "  --> Hof318/Elite335 (IR-3.98|Corr+0.49): mul(ts_dwdif(TURN,op,30),ma(OP,10))\n",
      "  --> Hof320/Elite336 (IR-3.98|Corr+0.34): ts_max(ts_beta(turn,TURN,4),3)\n",
      "  --> Hof332/Elite337 (IR-3.96|Corr+0.68): ts_xbtm_yavg(EP,TURN,20,1)\n",
      "  --> Hof335/Elite338 (IR-3.95|Corr+0.62): ts_xbtm_yavg(ADV60,TURN,20,1)\n",
      "  --> Hof336/Elite339 (IR-3.95|Corr+0.67): ts_max(RTN,7)\n",
      "  --> Hof338/Elite340 (IR-3.94|Corr+0.61): rank_sub(ts_dwdif(TURN,VOL,20),ts_delta(ts_xtop_yavg(RTN,bp,10,1),1))\n",
      "  --> Hof348/Elite341 (IR-3.90|Corr-0.56): rank_sub(ma(TURN,5),add(ocfp,vol))\n",
      "  --> Hof355/Elite342 (IR+3.87|Corr-0.47): ts_beta(TURN,vol,4)\n",
      "  --> Hof357/Elite343 (IR-3.87|Corr+0.37): rank_div(ts_btm_avg(TURN,20,4),power(ts_argmax(EP,2),0.38))\n",
      "  --> Hof363/Elite344 (IR-3.85|Corr+0.69): ts_rng_dif(pctchg(CP,1),40,8)\n",
      "  --> Hof376/Elite345 (IR-3.83|Corr+0.49): div(sqrt(TURN),ts_rank(EP,8))\n",
      "  --> Hof378/Elite346 (IR+3.82|Corr+0.48): rank_div(log(OCFP),adv60)\n",
      "  --> Hof382/Elite347 (IR-3.81|Corr+0.44): mul(ts_max(TURN,7),ts_max(VOL,3))\n",
      "  --> Hof386/Elite348 (IR-3.80|Corr+0.62): log(rank_mul(ts_min(ts_xrng_ydif(HP,LP,10,5),3),ma(TURN,15)))\n",
      "  --> Hof403/Elite349 (IR-3.73|Corr-0.63): rank_sub(ts_xrng_ydif(ADV60,ts_xtop_yavg(OCFP,ts_beta(CP,OCFP,2),10,1),20,1),log(ts_xbtm_yavg(ADV20,OCFP,15,1)))\n",
      "  --> Hof426/Elite350 (IR+3.66|Corr+0.61): rank_sub(ts_top_avg(EP,30,1),ts_zscore(VOL,20))\n",
      "  --> Hof447/Elite351 (IR-3.60|Corr+0.53): ts_max(ts_rng_dif(ts_delay(ts_xbtm_yavg(ep,TURN,40,1),9),40,1),5)\n",
      "  --> Hof454/Elite352 (IR+3.59|Corr-0.49): ts_btm_avg(pctchg(OCFP,1),40,6)\n",
      "  --> Hof481/Elite353 (IR-3.54|Corr+0.11): ts_max(ts_beta(turn,TURN,2),3)\n",
      "  --> Hof485/Elite354 (IR-3.53|Corr+0.43): ts_max(add(ts_xrng_ydif(ADV60,TURN,30,1),ts_xtop_yavg(TURN,adv20,40,6)),3)\n",
      "  --> Hof495/Elite355 (IR+3.52|Corr-0.58): rank_sub(ts_beta(DP,power(ADV60,1.16),9),ts_top_avg(TURN,40,1))\n",
      "**An EliteGroup(56) has been Selected\n",
      "  --> Cuda Memories of \"gp_inputs\" take 1.9266G\n",
      "  --> Cuda Memories of \"elites\"    take 3.7204G\n",
      "  --> Cuda Memories of \"tensors\"   take 0.0000G\n",
      "**Selection of HallofFame Done, Cost 179.51 Secs, Freed CudaMemory 19.07G - > 19.07G\n",
      "==================== Iteration 4 start from Generation 0 ====================\n",
      "-------------------- Residual --------------------\n",
      "tensor([0.0939, 0.1549, 0.2107, 0.2508, 0.2885, 0.3214, 0.3526, 0.3818, 0.4084,\n",
      "        0.4337, 0.4579, 0.4806, 0.5025, 0.5229, 0.5422, 0.5607, 0.5790, 0.5968,\n",
      "        0.6142, 0.6312, 0.6476, 0.6633, 0.6788, 0.6938, 0.7081, 0.7222, 0.7362,\n",
      "        0.7497, 0.7629, 0.7758, 0.7883, 0.8003, 0.8120, 0.8235, 0.8346, 0.8456,\n",
      "        0.8564, 0.8669, 0.8769, 0.8867, 0.8961, 0.9051, 0.9140, 0.9224, 0.9305,\n",
      "        0.9385, 0.9459, 0.9533, 0.9605, 0.9675, 0.9738, 0.9798, 0.9855, 0.9910,\n",
      "        0.9957, 1.0000], device='cuda:0')\n",
      "  -> Elites(56) Shrink to SvdElites(29)\n",
      "  -> Neutra has 29 Elements\n",
      "**Cuda Memory: Free 12.2G, Allocated 7.9G, Reserved 11.0G, Re-collect 10.1G Cache!\n",
      "**Update Residual Labels Done, Cost 10.83 Secs, Freed CudaMemory 19.07G - > 15.90G\n",
      "-------------------- Setting --------------------\n",
      "**Initialize GP Toolbox Done, Cost 0.00 Secs\n",
      "-------------------- Evolution --------------------\n",
      "**A Population(3000) has been Initialized\n"
     ]
    },
    {
     "name": "stderr",
     "output_type": "stream",
     "text": [
      "  --> Evolve Generation 0 MaxIRres-7.65|MaxIRraw-5.44: 100%|██████████| 3000/3000 [07:20<00:00,  6.82it/s]\n"
     ]
    },
    {
     "name": "stdout",
     "output_type": "stream",
     "text": [
      "  --> Survive 1463 Offsprings, try Populating to 3000 ones\n"
     ]
    },
    {
     "name": "stderr",
     "output_type": "stream",
     "text": [
      "  --> Evolve Generation 1 MaxIRres-7.60|MaxIRraw-5.82: 100%|██████████| 3000/3000 [06:58<00:00,  7.16it/s]\n"
     ]
    },
    {
     "name": "stdout",
     "output_type": "stream",
     "text": [
      "  --> Survive 1478 Offsprings, try Populating to 3000 ones\n"
     ]
    },
    {
     "name": "stderr",
     "output_type": "stream",
     "text": [
      "  --> Evolve Generation 2 MaxIRres-7.60|MaxIRraw-5.71: 100%|██████████| 3000/3000 [06:50<00:00,  7.31it/s]\n"
     ]
    },
    {
     "name": "stdout",
     "output_type": "stream",
     "text": [
      "  --> Survive 1478 Offsprings, try Populating to 3000 ones\n"
     ]
    },
    {
     "name": "stderr",
     "output_type": "stream",
     "text": [
      "  --> Evolve Generation 3 MaxIRres-7.60|MaxIRraw-5.71: 100%|██████████| 3000/3000 [06:35<00:00,  7.58it/s]\n"
     ]
    },
    {
     "name": "stdout",
     "output_type": "stream",
     "text": [
      "  --> Survive 1482 Offsprings, try Populating to 3000 ones\n"
     ]
    },
    {
     "name": "stderr",
     "output_type": "stream",
     "text": [
      "  --> Evolve Generation 4 MaxIRres-7.60|MaxIRraw-5.60: 100%|██████████| 3000/3000 [06:26<00:00,  7.76it/s]\n"
     ]
    },
    {
     "name": "stdout",
     "output_type": "stream",
     "text": [
      "  --> Survive 1462 Offsprings, try Populating to 3000 ones\n"
     ]
    },
    {
     "name": "stderr",
     "output_type": "stream",
     "text": [
      "  --> Evolve Generation 5 MaxIRres-7.60|MaxIRraw-5.60: 100%|██████████| 3000/3000 [06:26<00:00,  7.76it/s]\n"
     ]
    },
    {
     "name": "stdout",
     "output_type": "stream",
     "text": [
      "**A HallofFame(500) has been Evolutionized\n",
      "**6 Generations of Evolution Done, Cost 2445.97 Secs, Freed CudaMemory 15.90G - > 15.90G\n",
      "-------------------- Selection --------------------\n",
      "**HallofFame(500) Contains 500 Promising Candidates with RankIR >= 3.00\n",
      "  --> Hof__0/Elite356 (IR-7.65|Corr+0.00): ts_max(TURN,9)\n",
      "  --> Hof_20/Elite357 (IR-6.77|Corr+0.62): add(log(TURN),ts_corr(ts_top_avg(VOL,10,6),TURN,7))\n",
      "  --> Hof_21/Elite358 (IR-6.71|Corr+0.69): rank(ts_xtop_yavg(HP,TURN,10,1))\n",
      "  --> Hof_25/Elite359 (IR-6.45|Corr+0.57): ts_rng_dif(RTN,15,1)\n",
      "  --> Hof_37/Elite360 (IR-6.27|Corr+0.67): ts_dwdif(RTN,DP,20)\n",
      "  --> Hof_51/Elite361 (IR-6.13|Corr+0.69): ma(TURN,40)\n",
      "  --> Hof_54/Elite362 (IR-6.10|Corr+0.62): sigmoid(ts_xbtm_yavg(ts_top_avg(VP,20,9),ts_max(TURN,7),15,1))\n",
      "  --> Hof_58/Elite363 (IR-6.06|Corr+0.66): ts_max(square(ts_dwdif(ts_dwdif(TURN,log(ADV60),15),ts_dwdif(ts_cov(dp,vp,5),pctchg(HP,40),40),15)),5)\n",
      "  --> Hof_81/Elite364 (IR-5.84|Corr+0.69): ts_rng_dif(power(RTN,1.7),40,9)\n",
      "  --> Hof_98/Elite365 (IR+5.70|Corr-0.64): ts_rng_dif(ts_delta(ts_beta(TURN,ts_argmin(VP,2),9),1),10,6)\n",
      "  --> Hof130/Elite366 (IR-5.53|Corr+0.69): ts_top_avg(RTN,30,1)\n",
      "  --> Hof132/Elite367 (IR-5.51|Corr+0.66): ts_xbtm_yavg(OP,TURN,15,1)\n",
      "  --> Hof147/Elite368 (IR-5.39|Corr+0.70): ts_xbtm_yavg(OCFP,TURN,15,2)\n",
      "  --> Hof170/Elite369 (IR-5.20|Corr+0.65): ts_xbtm_yavg(vp,TURN,30,1)\n",
      "  --> Hof174/Elite370 (IR+5.17|Corr-0.52): ts_min(power(pctchg(BP,1),1.06),9)\n",
      "  --> Hof176/Elite371 (IR-5.15|Corr+0.70): ts_xbtm_yavg(LP,ts_xbtm_yavg(hp,TURN,15,1),40,8)\n",
      "  --> Hof185/Elite372 (IR-5.07|Corr+0.70): ts_xbtm_yavg(LP,TURN,20,1)\n",
      "  --> Hof188/Elite373 (IR-5.06|Corr+0.66): ts_xbtm_yavg(ts_xtop_yavg(DP,ADV20,15,3),TURN,20,1)\n",
      "  --> Hof191/Elite374 (IR-5.02|Corr+0.68): ts_xbtm_yavg(OP,TURN,30,1)\n",
      "  --> Hof199/Elite375 (IR-4.97|Corr+0.68): ts_xbtm_yavg(bp,TURN,20,1)\n",
      "  --> Hof202/Elite376 (IR-4.94|Corr+0.44): ts_dwdif(ts_rankcorr(power(CP,0.38),AMT,5),OCFP,40)\n",
      "  --> Hof203/Elite377 (IR+4.94|Corr-0.63): ts_btm_avg(pctchg(EP,1),40,6)\n",
      "  --> Hof204/Elite378 (IR+4.92|Corr-0.46): add(sqrt(EP),ep)\n",
      "  --> Hof212/Elite379 (IR-4.88|Corr-0.63): ts_dwdif(RTN,EP,40)\n",
      "  --> Hof213/Elite380 (IR-4.88|Corr-0.70): ts_max(RTN,8)\n",
      "  --> Hof222/Elite381 (IR-4.81|Corr+0.61): ts_btm_avg(ts_dwdif(TURN,ADV20,20),10,7)\n",
      "  --> Hof225/Elite382 (IR-4.80|Corr+0.62): sigmoid(ts_xtop_yavg(OP,TURN,30,1))\n",
      "  --> Hof229/Elite383 (IR+4.78|Corr-0.61): rank_sub(ts_delta(ts_xtop_yavg(BP,ts_product(cp,3),40,5),1),ts_top_avg(TURN,15,2))\n",
      "  --> Hof235/Elite384 (IR-4.72|Corr+0.40): ts_dwdif(RTN,OCFP,20)\n",
      "  --> Hof237/Elite385 (IR+4.70|Corr+0.48): power(BP,0.48)\n",
      "  --> Hof242/Elite386 (IR-4.68|Corr+0.67): ts_rng_dif(pctchg(EP,1),10,4)\n",
      "  --> Hof253/Elite387 (IR-4.65|Corr+0.67): ts_xbtm_yavg(adv20,TURN,30,1)\n",
      "  --> Hof261/Elite388 (IR-4.58|Corr+0.70): power(TURN,1.84)\n",
      "  --> Hof272/Elite389 (IR-4.53|Corr+0.64): ts_xbtm_yavg(ts_top_avg(ADV60,20,1),TURN,40,1)\n",
      "  --> Hof275/Elite390 (IR-4.53|Corr+0.68): add(adv60,ts_rng_dif(RTN,10,3))\n",
      "  --> Hof294/Elite391 (IR-4.46|Corr+0.66): ts_xbtm_yavg(EP,TURN,30,1)\n",
      "  --> Hof297/Elite392 (IR-4.45|Corr+0.60): ts_min(ts_xbtm_yavg(ADV20,ts_xbtm_yavg(OCFP,TURN,40,1),20,8),6)\n",
      "  --> Hof307/Elite393 (IR-4.41|Corr+0.58): sigmoid(ts_top_avg(TURN,40,1))\n",
      "  --> Hof332/Elite394 (IR-4.30|Corr+0.57): ts_rng_dif(pctchg(DP,1),40,5)\n",
      "  --> Hof333/Elite395 (IR+4.29|Corr-0.55): ts_btm_avg(log(DP),30,9)\n",
      "  --> Hof373/Elite396 (IR-4.20|Corr+0.52): rank_mul(ts_top_avg(RTN,20,2),ts_btm_avg(ts_min(LP,9),20,1))\n",
      "  --> Hof378/Elite397 (IR-4.20|Corr+0.58): rank_add(square(ep),ts_xbtm_yavg(VOL,TURN,30,5))\n",
      "  --> Hof381/Elite398 (IR-4.19|Corr+0.65): ts_xbtm_yavg(ADV20,TURN,40,1)\n",
      "  --> Hof421/Elite399 (IR+4.11|Corr-0.53): rank_div(mul(ma(RTN,4),ep),log(TURN))\n",
      "  --> Hof441/Elite400 (IR+4.06|Corr-0.59): log(OCFP)\n",
      "  --> Hof442/Elite401 (IR-4.05|Corr-0.40): rank_div(ts_btm_avg(TURN,15,9),ts_dwdif(hp,LP,30))\n",
      "  --> Hof464/Elite402 (IR-4.02|Corr+0.58): rank_add(log(TURN),ts_dwdif(RTN,rank_mul(ts_xrng_ydif(dp,OCFP,20,2),ts_xbtm_yavg(VP,ADV60,30,1)),20))\n",
      "  --> Hof471/Elite403 (IR-4.01|Corr+0.60): ts_max(rank_sub(ma(TURN,20),ts_zscore(ts_xbtm_yavg(turn,dp,20,4),30)),8)\n",
      "  --> Hof489/Elite404 (IR+3.93|Corr+0.56): ts_product(ma(BP,15),5)\n",
      "**An EliteGroup(49) has been Selected\n",
      "  --> Cuda Memories of \"gp_inputs\" take 1.9266G\n",
      "  --> Cuda Memories of \"elites\"    take 3.2554G\n",
      "  --> Cuda Memories of \"tensors\"   take 0.0000G\n",
      "**Selection of HallofFame Done, Cost 80.77 Secs, Freed CudaMemory 15.90G - > 15.90G\n",
      "==================== Total Time Cost :2 hours 8.2 ====================\n",
      "   Residual  Setting  Evolution  Selection  AvgVarAnd  AvgCompile  AvgEval        All\n",
      "0   15.6825   0.0021  2405.9324   170.8241     0.0544     0.0001    0.0662  2592.4905\n",
      "1   10.0646   0.0018  2368.8040   179.5063     0.0523     0.0002    0.0640  2558.4157\n",
      "2   10.8345   0.0020  2445.9677    80.7670     0.0293     0.0002    0.0684  2537.5985\n",
      "  --> Avg Freed Cuda Memory: \n",
      "  --> factor : 494 counts, on average freed 6.50G\n",
      "  --> corr : 147 counts, on average freed 11.50G\n"
     ]
    }
   ],
   "source": [
    "# 真实测试，job_id=-1代表在新的pop的子文件夹中保存结果，如果强制要求在已有文件夹基础上继续训练，代码可能要再修改\n",
    "from gp_main import main\n",
    "profiler = main(job_id= 1 , start_iter=2 , start_gen=0 , test_code = False , noWith = True , neut_method = 0)"
   ]
  },
  {
   "cell_type": "code",
   "execution_count": 1,
   "metadata": {},
   "outputs": [],
   "source": [
    "import gp_math_func as MF\n",
    "import torch\n",
    "x = torch.rand(1000,1000,3)\n",
    "y = torch.rand(1000,1000)\n",
    "insample = torch.arange(1000) < 700\n",
    "def f1(x,y,insample=None):\n",
    "    return MF.neutralize_2d(y , x)\n",
    "\n",
    "def f2(x,y,insample):\n",
    "    shape2d = y.shape\n",
    "    insample = insample.reshape(-1,1).expand(shape2d)\n",
    "    x = x.reshape(-1,x.shape[-1])\n",
    "    y = y.reshape(-1)\n",
    "    insample = insample.reshape(-1)\n",
    "    y = MF.neutralize_1d(y , x , insample)\n",
    "    return y.reshape(shape2d)"
   ]
  },
  {
   "cell_type": "code",
   "execution_count": 11,
   "metadata": {},
   "outputs": [
    {
     "data": {
      "text/plain": [
       "tensor([0, 1, 2, 3])"
      ]
     },
     "execution_count": 11,
     "metadata": {},
     "output_type": "execute_result"
    }
   ],
   "source": [
    "a = torch.arange(4)\n",
    "b = a.reshape(2,2).clone()\n",
    "b[0,0]=10\n",
    "a"
   ]
  },
  {
   "cell_type": "code",
   "execution_count": 6,
   "metadata": {},
   "outputs": [
    {
     "name": "stdout",
     "output_type": "stream",
     "text": [
      "275 ms ± 3.19 ms per loop (mean ± std. dev. of 7 runs, 1 loop each)\n"
     ]
    }
   ],
   "source": [
    "%timeit f1(x,y,insample)"
   ]
  },
  {
   "cell_type": "code",
   "execution_count": 7,
   "metadata": {},
   "outputs": [
    {
     "name": "stdout",
     "output_type": "stream",
     "text": [
      "28.2 ms ± 435 µs per loop (mean ± std. dev. of 7 runs, 10 loops each)\n"
     ]
    }
   ],
   "source": [
    "%timeit f2(x,y,insample)"
   ]
  },
  {
   "cell_type": "code",
   "execution_count": 6,
   "metadata": {},
   "outputs": [
    {
     "name": "stdout",
     "output_type": "stream",
     "text": [
      "**Job Directory is : \"./pop/1\"\n",
      "-------------------- Data --------------------\n",
      "**Load Data Done, Cost 2.31 Secs\n",
      "**Cuda Memory: Free 12.8G, Allocated 9.2G, Reserved 10.4G, Re-collect 0.0G Cache!\n",
      "tensor([[       nan,        nan,        nan,  ...,        nan,        nan,\n",
      "                nan],\n",
      "        [       nan,        nan,        nan,  ...,        nan,        nan,\n",
      "                nan],\n",
      "        [       nan,        nan,        nan,  ...,        nan,        nan,\n",
      "                nan],\n",
      "        ...,\n",
      "        [1.4303e+09, 1.0773e+09, 1.6222e+08,  ..., 9.0968e+06, 4.0077e+07,\n",
      "         2.0850e+07],\n",
      "        [1.4303e+09, 1.0773e+09, 1.6222e+08,  ..., 9.9075e+06, 5.3841e+07,\n",
      "         2.0982e+07],\n",
      "        [1.4303e+09, 1.0773e+09, 1.6222e+08,  ..., 9.9075e+06, 5.1188e+07,\n",
      "         2.0982e+07]], device='cuda:0')\n"
     ]
    }
   ],
   "source": [
    "# 给定因子表达式,得到全样本区间的因子值\n",
    "from gp_main import *\n",
    "from gp_utils import *\n",
    "\n",
    "func = gp_factor_generator(test_code = False)\n",
    "print(func('ts_rng_dif(AMT,10,1)' , 'inf'))"
   ]
  },
  {
   "cell_type": "code",
   "execution_count": 10,
   "metadata": {},
   "outputs": [
    {
     "name": "stdout",
     "output_type": "stream",
     "text": [
      "tensor([[    nan,     nan,     nan,  ...,     nan,     nan,     nan],\n",
      "        [    nan,     nan,     nan,  ...,     nan,     nan,     nan],\n",
      "        [    nan,     nan,     nan,  ...,     nan,     nan,     nan],\n",
      "        ...,\n",
      "        [    nan,     nan,  0.0094,  ..., -0.0129, -0.0084, -0.0112],\n",
      "        [    nan,     nan,  0.0098,  ..., -0.0129, -0.0063, -0.0113],\n",
      "        [    nan,     nan,  0.0101,  ..., -0.0130, -0.0067, -0.0113]],\n",
      "       device='cuda:0')\n"
     ]
    }
   ],
   "source": [
    "print(func('ts_rng_dif(AMT,10,1)' , 'inf_trim_norm'))"
   ]
  },
  {
   "cell_type": "code",
   "execution_count": 24,
   "metadata": {},
   "outputs": [
    {
     "data": {
      "text/plain": [
       "tensor([0.0000, 0.0000, 0.0000,  ..., 0.0458, 0.0354, 0.0514], device='cuda:0')"
      ]
     },
     "execution_count": 24,
     "metadata": {},
     "output_type": "execute_result"
    }
   ],
   "source": [
    "value = func('ts_corr(LP, AMT, 9)' , process_key = 'inf')\n",
    "blk = func('ts_xrng_ydif(VOL,TURN,30,3)' , process_key = 'inf_norm')\n",
    "MF.corrwith(value , blk , dim = 1)"
   ]
  },
  {
   "cell_type": "code",
   "execution_count": 3,
   "metadata": {},
   "outputs": [],
   "source": [
    "import gp_math_func as MF\n",
    "# func('ts_beta(LP, AMT, 9)' , process_key = 'inf')\n",
    "LP = func('LP' , process_key = '')\n",
    "AMT = func('AMT' , process_key = '')"
   ]
  },
  {
   "cell_type": "code",
   "execution_count": 8,
   "metadata": {},
   "outputs": [
    {
     "data": {
      "text/plain": [
       "tensor(108359.4844, device='cuda:0')"
      ]
     },
     "execution_count": 8,
     "metadata": {},
     "output_type": "execute_result"
    }
   ],
   "source": [
    "MF.beta(LP[-10:] , AMT[-10:])"
   ]
  },
  {
   "cell_type": "code",
   "execution_count": 6,
   "metadata": {},
   "outputs": [
    {
     "data": {
      "text/plain": [
       "tensor([[       0.0000,        0.0000,        0.0000,  ...,\n",
       "                0.0000,        0.0000,        0.0000],\n",
       "        [       0.0000,        0.0000,        0.0000,  ...,\n",
       "                0.0000,        0.0000,        0.0000],\n",
       "        [       0.0000,        0.0000,        0.0000,  ...,\n",
       "                0.0000,        0.0000,        0.0000],\n",
       "        ...,\n",
       "        [15941960.0000,  3646614.7500,  3124203.2500,  ...,\n",
       "          8444937.0000, 16713982.0000,  -614028.4375],\n",
       "        [12516580.0000,  2836713.7500, 11548762.0000,  ...,\n",
       "          7810983.5000, 15766038.0000,  1821985.8750],\n",
       "        [12630410.0000,  2627487.0000, 10933780.0000,  ...,\n",
       "          7306392.5000, 15859513.0000,  3794529.0000]], device='cuda:0')"
      ]
     },
     "execution_count": 6,
     "metadata": {},
     "output_type": "execute_result"
    }
   ],
   "source": [
    "MF.ts_beta(LP , AMT , 9)"
   ]
  },
  {
   "cell_type": "code",
   "execution_count": null,
   "metadata": {},
   "outputs": [
    {
     "name": "stderr",
     "output_type": "stream",
     "text": [
      "Loading factor parquets: 100%|██████████| 5/5 [00:06<00:00,  1.21s/it]\n"
     ]
    },
    {
     "name": "stdout",
     "output_type": "stream",
     "text": [
      "Beware! future information used!\n"
     ]
    }
   ],
   "source": [
    "from gp_main import *\n",
    "a = gp_multifactor(0)"
   ]
  },
  {
   "cell_type": "code",
   "execution_count": null,
   "metadata": {},
   "outputs": [
    {
     "data": {
      "text/plain": [
       "True"
      ]
     },
     "execution_count": 6,
     "metadata": {},
     "output_type": "execute_result"
    }
   ],
   "source": [
    "import torch\n",
    "a = torch.Tensor([torch.nan,torch.inf])\n",
    "b = a.nan_to_num_(0,0,0)\n",
    "a is b"
   ]
  },
  {
   "cell_type": "code",
   "execution_count": 3,
   "metadata": {},
   "outputs": [],
   "source": [
    "import joblib\n",
    "a = joblib.load('./pop/0/logbook/iter1_gen0.pkl')"
   ]
  },
  {
   "cell_type": "code",
   "execution_count": 7,
   "metadata": {},
   "outputs": [
    {
     "data": {
      "text/plain": [
       "165"
      ]
     },
     "execution_count": 7,
     "metadata": {},
     "output_type": "execute_result"
    }
   ],
   "source": [
    "len(a[-1]['forbidden'])"
   ]
  }
 ],
 "metadata": {
  "kernelspec": {
   "display_name": "base",
   "language": "python",
   "name": "python3"
  },
  "language_info": {
   "codemirror_mode": {
    "name": "ipython",
    "version": 3
   },
   "file_extension": ".py",
   "mimetype": "text/x-python",
   "name": "python",
   "nbconvert_exporter": "python",
   "pygments_lexer": "ipython3",
   "version": "3.10.12"
  }
 },
 "nbformat": 4,
 "nbformat_minor": 2
}
