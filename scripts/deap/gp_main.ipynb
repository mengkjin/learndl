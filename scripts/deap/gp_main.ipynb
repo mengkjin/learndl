{
 "cells": [
  {
   "cell_type": "code",
   "execution_count": 1,
   "metadata": {},
   "outputs": [],
   "source": [
    "from gp_main import main"
   ]
  },
  {
   "cell_type": "code",
   "execution_count": 2,
   "metadata": {},
   "outputs": [
    {
     "name": "stdout",
     "output_type": "stream",
     "text": [
      "**Job Directory is : \"./pop/bendi\"\n",
      "  --> Start New Training in \"./pop/bendi\"\n",
      "**Device name: NVIDIA GeForce RTX 4090\n",
      "-------------------- Data --------------------\n",
      "  --> Directly load \"./data/package/gp_data_package_test.pt\"\n",
      "**Load Data Done, Cost 0.13 Secs\n",
      "  --> 2 factors, 2 raw data loaded!\n",
      "==================== Iteration 0 start from Generation 0 ====================\n",
      "-------------------- Residual --------------------\n",
      "**Thu Mar 14 00:04:29 2024Cuda Memory: Free 23.2G, Allocated 0.1G, Reserved 0.1G, Re-collect 0.0G Cache!\n",
      "**Update Residual Labels Done, Cost 0.02 Secs, Free CudaMemory 23.18G - > 23.16G\n",
      "-------------------- Setting --------------------\n",
      "**Initialize GP Toolbox Done, Cost 0.00 Secs\n",
      "-------------------- Evolution --------------------\n",
      "**A Population(6) has been Initialized\n"
     ]
    },
    {
     "name": "stderr",
     "output_type": "stream",
     "text": [
      "  --> Evolve Generation 0 MaxIRres-4.36|MaxIRraw-4.36: 100%|██████████| 6/6 [00:00<00:00, 20.54it/s]\n"
     ]
    },
    {
     "name": "stdout",
     "output_type": "stream",
     "text": [
      "  --> Survive 3 Offsprings, try Populating to 6 ones\n"
     ]
    },
    {
     "name": "stderr",
     "output_type": "stream",
     "text": [
      "  --> Evolve Generation 1 MaxIRres-3.69|MaxIRraw-3.69: 100%|██████████| 6/6 [00:00<00:00, 66.69it/s]\n"
     ]
    },
    {
     "name": "stdout",
     "output_type": "stream",
     "text": [
      "**A HallofFame(2) has been Evolutionized\n",
      "**2 Generations of Evolution Done, Cost 0.40 Secs, Free CudaMemory 23.16G - > 23.10G\n",
      "-------------------- Selection --------------------\n",
      "**HallofFame(2) Contains 2 Promising Candidates with RankIR >= 3.00\n",
      "  --> Hof__0/Elite__0 (IR-4.36|Corr+0.00): rank(turn)\n",
      "  --> Hof__1/Elite__1 (IR-3.84|Corr+0.23): ts_top_avg(cp,30,1)\n",
      "**An EliteGroup(2) has been Selected\n",
      "  --> Cuda Memories of \"gp_inputs\" take 0.0376G\n",
      "  --> Cuda Memories of \"elites\"    take 0.0188G\n",
      "  --> Cuda Memories of \"tensors\"   take 0.0000G\n",
      "**Selection of HallofFame Done, Cost 0.12 Secs, Free CudaMemory 23.10G - > 23.10G\n",
      "==================== Iteration 1 start from Generation 0 ====================\n",
      "-------------------- Residual --------------------\n",
      "tensor([0.7654, 1.0000], device='cuda:0')\n",
      "  -> Elites(2) Shrink to SvdElites(1)\n",
      "  -> Neutra has 1 Elements\n",
      "**Thu Mar 14 00:04:30 2024Cuda Memory: Free 23.0G, Allocated 0.1G, Reserved 0.1G, Re-collect 0.1G Cache!\n",
      "**Update Residual Labels Done, Cost 0.43 Secs, Free CudaMemory 23.10G - > 23.04G\n",
      "-------------------- Setting --------------------\n",
      "**Initialize GP Toolbox Done, Cost 0.00 Secs\n",
      "-------------------- Evolution --------------------\n",
      "**A Population(6) has been Initialized\n"
     ]
    },
    {
     "name": "stderr",
     "output_type": "stream",
     "text": [
      "  --> Evolve Generation 0 MaxIRres-4.59|MaxIRraw-5.29: 100%|██████████| 6/6 [00:00<00:00, 78.81it/s]\n"
     ]
    },
    {
     "name": "stdout",
     "output_type": "stream",
     "text": [
      "  --> Survive 3 Offsprings, try Populating to 6 ones\n"
     ]
    },
    {
     "name": "stderr",
     "output_type": "stream",
     "text": [
      "  --> Evolve Generation 1 MaxIRres-2.50|MaxIRraw-4.17: 100%|██████████| 6/6 [00:00<00:00, 90.02it/s]"
     ]
    },
    {
     "name": "stdout",
     "output_type": "stream",
     "text": [
      "**A HallofFame(2) has been Evolutionized\n",
      "**2 Generations of Evolution Done, Cost 0.16 Secs, Free CudaMemory 23.04G - > 23.04G\n",
      "-------------------- Selection --------------------\n",
      "**HallofFame(2) Contains 2 Promising Candidates with RankIR >= 2.70\n",
      "  --> Hof__0/Elite__2 (IR-4.59|Corr+0.00): ts_xrng_ydif(CP,TURN,20,5)\n"
     ]
    },
    {
     "name": "stderr",
     "output_type": "stream",
     "text": [
      "\n"
     ]
    },
    {
     "name": "stdout",
     "output_type": "stream",
     "text": [
      "  --> Hof__1/Elite__3 (IR-4.11|Corr+0.26): ts_delay(cp,1)\n",
      "**An EliteGroup(2) has been Selected\n",
      "  --> Cuda Memories of \"gp_inputs\" take 0.0376G\n",
      "  --> Cuda Memories of \"elites\"    take 0.0188G\n",
      "  --> Cuda Memories of \"tensors\"   take 0.0000G\n",
      "**Selection of HallofFame Done, Cost 0.10 Secs, Free CudaMemory 23.04G - > 23.04G\n",
      "==================== Total Time Cost :0 hours 0.0 ====================\n",
      "   Residual  Setting  Evolution  Selection  AvgVarAnd  AvgCompile  AvgEval     All\n",
      "0    0.0218   0.0035     0.4045     0.1196     0.0002  8.2084...    0.0056  0.5647\n",
      "1    0.4319   0.0029     0.1610     0.0981     0.0002  9.1910...    0.0012  0.7026\n"
     ]
    },
    {
     "data": {
      "text/html": [
       "<div>\n",
       "<style scoped>\n",
       "    .dataframe tbody tr th:only-of-type {\n",
       "        vertical-align: middle;\n",
       "    }\n",
       "\n",
       "    .dataframe tbody tr th {\n",
       "        vertical-align: top;\n",
       "    }\n",
       "\n",
       "    .dataframe thead th {\n",
       "        text-align: right;\n",
       "    }\n",
       "</style>\n",
       "<table border=\"1\" class=\"dataframe\">\n",
       "  <thead>\n",
       "    <tr style=\"text-align: right;\">\n",
       "      <th></th>\n",
       "      <th>type</th>\n",
       "      <th>name</th>\n",
       "      <th>ncalls</th>\n",
       "      <th>ccalls</th>\n",
       "      <th>tottime</th>\n",
       "      <th>cumtime</th>\n",
       "      <th>where</th>\n",
       "      <th>memory</th>\n",
       "      <th>full_name</th>\n",
       "      <th>caller</th>\n",
       "    </tr>\n",
       "  </thead>\n",
       "  <tbody>\n",
       "    <tr>\n",
       "      <th>384</th>\n",
       "      <td>function</td>\n",
       "      <td>neutralize_2d</td>\n",
       "      <td>2</td>\n",
       "      <td>0</td>\n",
       "      <td>0.3275</td>\n",
       "      <td>0.1550</td>\n",
       "      <td>\"/home/mengkjin/Workspace/learngp/gp_math_func...</td>\n",
       "      <td>0x7a60e85e9370</td>\n",
       "      <td>&lt;code object neutralize_2d at 0x7a60e85e9370, ...</td>\n",
       "      <td>[(&lt;method 'squeeze_' of 'torch._C._TensorBase'...</td>\n",
       "    </tr>\n",
       "    <tr>\n",
       "      <th>446</th>\n",
       "      <td>built-in-method</td>\n",
       "      <td>torch._C._linalg.linalg_lstsq</td>\n",
       "      <td>473</td>\n",
       "      <td>0</td>\n",
       "      <td>0.1536</td>\n",
       "      <td>0.1536</td>\n",
       "      <td></td>\n",
       "      <td></td>\n",
       "      <td>&lt;built-in method torch._C._linalg.linalg_lstsq&gt;</td>\n",
       "      <td>None</td>\n",
       "    </tr>\n",
       "    <tr>\n",
       "      <th>280</th>\n",
       "      <td>built-in-method</td>\n",
       "      <td>torch._C._cudart.cudaMemGetInfo</td>\n",
       "      <td>57</td>\n",
       "      <td>0</td>\n",
       "      <td>0.1243</td>\n",
       "      <td>0.1243</td>\n",
       "      <td></td>\n",
       "      <td></td>\n",
       "      <td>&lt;built-in method torch._C._cudart.cudaMemGetInfo&gt;</td>\n",
       "      <td>None</td>\n",
       "    </tr>\n",
       "    <tr>\n",
       "      <th>192</th>\n",
       "      <td>method</td>\n",
       "      <td>'copy_'</td>\n",
       "      <td>15</td>\n",
       "      <td>0</td>\n",
       "      <td>0.1144</td>\n",
       "      <td>0.1144</td>\n",
       "      <td>'torch._C.StorageBase'</td>\n",
       "      <td></td>\n",
       "      <td>&lt;method 'copy_' of 'torch._C.StorageBase' obje...</td>\n",
       "      <td>None</td>\n",
       "    </tr>\n",
       "    <tr>\n",
       "      <th>246</th>\n",
       "      <td>method</td>\n",
       "      <td>'nanquantile'</td>\n",
       "      <td>50</td>\n",
       "      <td>0</td>\n",
       "      <td>0.1028</td>\n",
       "      <td>0.1028</td>\n",
       "      <td>'torch._C._TensorBase'</td>\n",
       "      <td></td>\n",
       "      <td>&lt;method 'nanquantile' of 'torch._C._TensorBase...</td>\n",
       "      <td>None</td>\n",
       "    </tr>\n",
       "    <tr>\n",
       "      <th>360</th>\n",
       "      <td>function</td>\n",
       "      <td>allna</td>\n",
       "      <td>25</td>\n",
       "      <td>0</td>\n",
       "      <td>0.1148</td>\n",
       "      <td>0.1009</td>\n",
       "      <td>\"/home/mengkjin/Workspace/learngp/gp_math_func...</td>\n",
       "      <td>0x7a60e85d3aa0</td>\n",
       "      <td>&lt;code object allna at 0x7a60e85d3aa0, file \"/h...</td>\n",
       "      <td>[(&lt;method 'isfinite' of 'torch._C._TensorBase'...</td>\n",
       "    </tr>\n",
       "    <tr>\n",
       "      <th>233</th>\n",
       "      <td>method</td>\n",
       "      <td>'equal'</td>\n",
       "      <td>50</td>\n",
       "      <td>0</td>\n",
       "      <td>0.0804</td>\n",
       "      <td>0.0804</td>\n",
       "      <td>'torch._C._TensorBase'</td>\n",
       "      <td></td>\n",
       "      <td>&lt;method 'equal' of 'torch._C._TensorBase' obje...</td>\n",
       "      <td>None</td>\n",
       "    </tr>\n",
       "    <tr>\n",
       "      <th>548</th>\n",
       "      <td>function</td>\n",
       "      <td>_save</td>\n",
       "      <td>6</td>\n",
       "      <td>0</td>\n",
       "      <td>0.1113</td>\n",
       "      <td>0.0663</td>\n",
       "      <td>\"/home/mengkjin/.local/lib/python3.10/site-pac...</td>\n",
       "      <td>0x7a61607ef1b0</td>\n",
       "      <td>&lt;code object _save at 0x7a61607ef1b0, file \"/h...</td>\n",
       "      <td>[(&lt;built-in method builtins.len&gt;, 12, 0, 2.760...</td>\n",
       "    </tr>\n",
       "    <tr>\n",
       "      <th>450</th>\n",
       "      <td>function</td>\n",
       "      <td>load_tensor</td>\n",
       "      <td>10</td>\n",
       "      <td>0</td>\n",
       "      <td>0.1410</td>\n",
       "      <td>0.0601</td>\n",
       "      <td>\"/home/mengkjin/.local/lib/python3.10/site-pac...</td>\n",
       "      <td>0x7a6160304190</td>\n",
       "      <td>&lt;code object load_tensor at 0x7a6160304190, fi...</td>\n",
       "      <td>[(&lt;code object _typed_storage at 0x7a616074c92...</td>\n",
       "    </tr>\n",
       "    <tr>\n",
       "      <th>231</th>\n",
       "      <td>method</td>\n",
       "      <td>'argsort'</td>\n",
       "      <td>180</td>\n",
       "      <td>0</td>\n",
       "      <td>0.0419</td>\n",
       "      <td>0.0419</td>\n",
       "      <td>'torch._C._TensorBase'</td>\n",
       "      <td></td>\n",
       "      <td>&lt;method 'argsort' of 'torch._C._TensorBase' ob...</td>\n",
       "      <td>None</td>\n",
       "    </tr>\n",
       "  </tbody>\n",
       "</table>\n",
       "</div>"
      ],
      "text/plain": [
       "                type                             name  ncalls  ccalls  \\\n",
       "384         function                    neutralize_2d       2       0   \n",
       "446  built-in-method    torch._C._linalg.linalg_lstsq     473       0   \n",
       "280  built-in-method  torch._C._cudart.cudaMemGetInfo      57       0   \n",
       "192           method                          'copy_'      15       0   \n",
       "246           method                    'nanquantile'      50       0   \n",
       "360         function                            allna      25       0   \n",
       "233           method                          'equal'      50       0   \n",
       "548         function                            _save       6       0   \n",
       "450         function                      load_tensor      10       0   \n",
       "231           method                        'argsort'     180       0   \n",
       "\n",
       "     tottime  cumtime                                              where  \\\n",
       "384   0.3275   0.1550  \"/home/mengkjin/Workspace/learngp/gp_math_func...   \n",
       "446   0.1536   0.1536                                                      \n",
       "280   0.1243   0.1243                                                      \n",
       "192   0.1144   0.1144                             'torch._C.StorageBase'   \n",
       "246   0.1028   0.1028                             'torch._C._TensorBase'   \n",
       "360   0.1148   0.1009  \"/home/mengkjin/Workspace/learngp/gp_math_func...   \n",
       "233   0.0804   0.0804                             'torch._C._TensorBase'   \n",
       "548   0.1113   0.0663  \"/home/mengkjin/.local/lib/python3.10/site-pac...   \n",
       "450   0.1410   0.0601  \"/home/mengkjin/.local/lib/python3.10/site-pac...   \n",
       "231   0.0419   0.0419                             'torch._C._TensorBase'   \n",
       "\n",
       "             memory                                          full_name  \\\n",
       "384  0x7a60e85e9370  <code object neutralize_2d at 0x7a60e85e9370, ...   \n",
       "446                    <built-in method torch._C._linalg.linalg_lstsq>   \n",
       "280                  <built-in method torch._C._cudart.cudaMemGetInfo>   \n",
       "192                  <method 'copy_' of 'torch._C.StorageBase' obje...   \n",
       "246                  <method 'nanquantile' of 'torch._C._TensorBase...   \n",
       "360  0x7a60e85d3aa0  <code object allna at 0x7a60e85d3aa0, file \"/h...   \n",
       "233                  <method 'equal' of 'torch._C._TensorBase' obje...   \n",
       "548  0x7a61607ef1b0  <code object _save at 0x7a61607ef1b0, file \"/h...   \n",
       "450  0x7a6160304190  <code object load_tensor at 0x7a6160304190, fi...   \n",
       "231                  <method 'argsort' of 'torch._C._TensorBase' ob...   \n",
       "\n",
       "                                                caller  \n",
       "384  [(<method 'squeeze_' of 'torch._C._TensorBase'...  \n",
       "446                                               None  \n",
       "280                                               None  \n",
       "192                                               None  \n",
       "246                                               None  \n",
       "360  [(<method 'isfinite' of 'torch._C._TensorBase'...  \n",
       "233                                               None  \n",
       "548  [(<built-in method builtins.len>, 12, 0, 2.760...  \n",
       "450  [(<code object _typed_storage at 0x7a616074c92...  \n",
       "231                                               None  "
      ]
     },
     "execution_count": 2,
     "metadata": {},
     "output_type": "execute_result"
    }
   ],
   "source": [
    "# 测试代码跑起来有没有问题，参数都设的很小，应该在一两分钟内执行完\n",
    "from gp_main import main\n",
    "# 各参数含义\n",
    "# job_id     # 确定在哪个文件夹训练,-1代表新建,具体的数字是指定文件夹,但测试代码时统一在./pop/bendi\n",
    "# start_iter # 从第几个大循环开始\n",
    "# start_gen  # 从某个大循环的第几代种群开始\n",
    "# test_code  # 是否只是测试代码有无bug,默认False\n",
    "# noWith     # 是否取消所有计时器,默认False,有计时器时报错会出问题\n",
    "profiler = main(job_id= -1 , start_iter=0 , start_gen=0 , test_code = True , noWith = True , neut_method = 0)\n",
    "profiler.get_df(sort_on='cumtime' , highlight= None)[:10] # 看看各子程序耗时,用来优化"
   ]
  },
  {
   "cell_type": "code",
   "execution_count": 1,
   "metadata": {},
   "outputs": [
    {
     "name": "stdout",
     "output_type": "stream",
     "text": [
      "**Job Directory is : \"./pop/bendi\"\n",
      "  --> Continue Training in \"./pop/bendi\"\n",
      "**Device name: NVIDIA GeForce RTX 4090\n",
      "-------------------- Data --------------------\n",
      "  --> Directly load \"./data/package/gp_data_package_test.pt\"\n",
      "**Load Data Done, Cost 0.08 Secs\n",
      "  --> 2 factors, 2 raw data loaded!\n",
      "==================== Iteration 1 start from Generation 1 ====================\n",
      "-------------------- Residual --------------------\n",
      "tensor([0.7654, 1.0000], device='cuda:0')\n",
      "  -> Elites(2) Shrink to SvdElites(1)\n",
      "  -> Neutra has 1 Elements\n",
      "**Thu Mar 14 00:16:07 2024Cuda Memory: Free 23.0G, Allocated 0.1G, Reserved 0.1G, Re-collect 0.1G Cache!\n",
      "**Update Residual Labels Done, Cost 0.58 Secs, Free CudaMemory 23.18G - > 23.04G\n",
      "-------------------- Setting --------------------\n",
      "**Initialize GP Toolbox Done, Cost 0.00 Secs\n",
      "-------------------- Evolution --------------------\n"
     ]
    },
    {
     "name": "stderr",
     "output_type": "stream",
     "text": [
      "  --> Load HallofFame 0 MaxIRres-4.59|MaxIRraw-5.29: 100%|██████████| 2/2 [00:00<00:00, 43.90it/s]\n"
     ]
    },
    {
     "name": "stdout",
     "output_type": "stream",
     "text": [
      "  --> Survive 3 Offsprings, try Populating to 6 ones\n"
     ]
    },
    {
     "name": "stderr",
     "output_type": "stream",
     "text": [
      "  --> Evolve Generation 1 MaxIRres-4.50|MaxIRraw-4.94: 100%|██████████| 6/6 [00:00<00:00, 63.19it/s]"
     ]
    },
    {
     "name": "stdout",
     "output_type": "stream",
     "text": [
      "**A HallofFame(2) has been Evolutionized\n",
      "**1 Generations of Evolution Done, Cost 0.17 Secs, Free CudaMemory 23.04G - > 23.04G\n",
      "-------------------- Selection --------------------\n",
      "**HallofFame(2) Contains 2 Promising Candidates with RankIR >= 2.70\n"
     ]
    },
    {
     "name": "stderr",
     "output_type": "stream",
     "text": [
      "\n"
     ]
    },
    {
     "name": "stdout",
     "output_type": "stream",
     "text": [
      "  --> Hof__0/Elite__2 (IR-4.59|Corr+0.00): ts_xrng_ydif(CP,TURN,20,5)\n",
      "  --> Hof__1/Elite__3 (IR-4.50|Corr+0.35): ts_corr(cp,TURN,9)\n",
      "**An EliteGroup(2) has been Selected\n",
      "  --> Cuda Memories of \"gp_inputs\" take 0.0376G\n",
      "  --> Cuda Memories of \"elites\"    take 0.0188G\n",
      "  --> Cuda Memories of \"tensors\"   take 0.0000G\n",
      "**Selection of HallofFame Done, Cost 0.15 Secs, Free CudaMemory 23.04G - > 23.04G\n",
      "==================== Total Time Cost :0 hours 0.0 ====================\n",
      "   Residual  Setting  Evolution  Selection  AvgVarAnd  AvgCompile  AvgEval     All\n",
      "0    0.5787   0.0033     0.1658      0.155     0.0003     0.0001     0.002  0.9114\n"
     ]
    },
    {
     "data": {
      "text/html": [
       "<div>\n",
       "<style scoped>\n",
       "    .dataframe tbody tr th:only-of-type {\n",
       "        vertical-align: middle;\n",
       "    }\n",
       "\n",
       "    .dataframe tbody tr th {\n",
       "        vertical-align: top;\n",
       "    }\n",
       "\n",
       "    .dataframe thead th {\n",
       "        text-align: right;\n",
       "    }\n",
       "</style>\n",
       "<table border=\"1\" class=\"dataframe\">\n",
       "  <thead>\n",
       "    <tr style=\"text-align: right;\">\n",
       "      <th></th>\n",
       "      <th>type</th>\n",
       "      <th>name</th>\n",
       "      <th>ncalls</th>\n",
       "      <th>ccalls</th>\n",
       "      <th>tottime</th>\n",
       "      <th>cumtime</th>\n",
       "      <th>where</th>\n",
       "      <th>memory</th>\n",
       "      <th>full_name</th>\n",
       "      <th>caller</th>\n",
       "    </tr>\n",
       "  </thead>\n",
       "  <tbody>\n",
       "    <tr>\n",
       "      <th>527</th>\n",
       "      <td>built-in-method</td>\n",
       "      <td>torch._C._linalg.linalg_lstsq</td>\n",
       "      <td>473</td>\n",
       "      <td>0</td>\n",
       "      <td>0.1232</td>\n",
       "      <td>0.1232</td>\n",
       "      <td></td>\n",
       "      <td></td>\n",
       "      <td>&lt;built-in method torch._C._linalg.linalg_lstsq&gt;</td>\n",
       "      <td>None</td>\n",
       "    </tr>\n",
       "    <tr>\n",
       "      <th>467</th>\n",
       "      <td>function</td>\n",
       "      <td>neutralize_2d</td>\n",
       "      <td>1</td>\n",
       "      <td>0</td>\n",
       "      <td>0.2639</td>\n",
       "      <td>0.1229</td>\n",
       "      <td>\"/home/mengkjin/Workspace/learngp/gp_math_func...</td>\n",
       "      <td>0x720ce58d1370</td>\n",
       "      <td>&lt;code object neutralize_2d at 0x720ce58d1370, ...</td>\n",
       "      <td>[(&lt;built-in method builtins.isinstance&gt;, 1, 0,...</td>\n",
       "    </tr>\n",
       "    <tr>\n",
       "      <th>265</th>\n",
       "      <td>built-in-method</td>\n",
       "      <td>torch._C._cudart.cudaMemGetInfo</td>\n",
       "      <td>25</td>\n",
       "      <td>0</td>\n",
       "      <td>0.1015</td>\n",
       "      <td>0.1015</td>\n",
       "      <td></td>\n",
       "      <td></td>\n",
       "      <td>&lt;built-in method torch._C._cudart.cudaMemGetInfo&gt;</td>\n",
       "      <td>None</td>\n",
       "    </tr>\n",
       "    <tr>\n",
       "      <th>182</th>\n",
       "      <td>method</td>\n",
       "      <td>'copy_'</td>\n",
       "      <td>12</td>\n",
       "      <td>0</td>\n",
       "      <td>0.0643</td>\n",
       "      <td>0.0643</td>\n",
       "      <td>'torch._C.StorageBase'</td>\n",
       "      <td></td>\n",
       "      <td>&lt;method 'copy_' of 'torch._C.StorageBase' obje...</td>\n",
       "      <td>None</td>\n",
       "    </tr>\n",
       "    <tr>\n",
       "      <th>624</th>\n",
       "      <td>function</td>\n",
       "      <td>load_tensor</td>\n",
       "      <td>10</td>\n",
       "      <td>0</td>\n",
       "      <td>0.1012</td>\n",
       "      <td>0.0606</td>\n",
       "      <td>\"/home/mengkjin/.local/lib/python3.10/site-pac...</td>\n",
       "      <td>0x720d5dd24190</td>\n",
       "      <td>&lt;code object load_tensor at 0x720d5dd24190, fi...</td>\n",
       "      <td>[(&lt;code object default_restore_location at 0x7...</td>\n",
       "    </tr>\n",
       "    <tr>\n",
       "      <th>443</th>\n",
       "      <td>function</td>\n",
       "      <td>allna</td>\n",
       "      <td>10</td>\n",
       "      <td>0</td>\n",
       "      <td>0.0578</td>\n",
       "      <td>0.0570</td>\n",
       "      <td>\"/home/mengkjin/Workspace/learngp/gp_math_func...</td>\n",
       "      <td>0x720ce58c3aa0</td>\n",
       "      <td>&lt;code object allna at 0x720ce58c3aa0, file \"/h...</td>\n",
       "      <td>[(&lt;method 'any' of 'torch._C._TensorBase' obje...</td>\n",
       "    </tr>\n",
       "    <tr>\n",
       "      <th>273</th>\n",
       "      <td>function</td>\n",
       "      <td>svd_factors</td>\n",
       "      <td>1</td>\n",
       "      <td>0</td>\n",
       "      <td>0.0659</td>\n",
       "      <td>0.0509</td>\n",
       "      <td>\"/home/mengkjin/Workspace/learngp/gp_factor_fu...</td>\n",
       "      <td>0x720c3ba33940</td>\n",
       "      <td>&lt;code object svd_factors at 0x720c3ba33940, fi...</td>\n",
       "      <td>[(&lt;method 'replace' of 'str' objects&gt;, 1, 0, 5...</td>\n",
       "    </tr>\n",
       "    <tr>\n",
       "      <th>259</th>\n",
       "      <td>built-in-method</td>\n",
       "      <td>torch.corrcoef</td>\n",
       "      <td>1</td>\n",
       "      <td>0</td>\n",
       "      <td>0.0444</td>\n",
       "      <td>0.0444</td>\n",
       "      <td></td>\n",
       "      <td></td>\n",
       "      <td>&lt;built-in method torch.corrcoef&gt;</td>\n",
       "      <td>None</td>\n",
       "    </tr>\n",
       "    <tr>\n",
       "      <th>618</th>\n",
       "      <td>function</td>\n",
       "      <td>_save</td>\n",
       "      <td>4</td>\n",
       "      <td>0</td>\n",
       "      <td>0.0665</td>\n",
       "      <td>0.0339</td>\n",
       "      <td>\"/home/mengkjin/.local/lib/python3.10/site-pac...</td>\n",
       "      <td>0x720d5dd0f1b0</td>\n",
       "      <td>&lt;code object _save at 0x720d5dd0f1b0, file \"/h...</td>\n",
       "      <td>[(&lt;built-in method builtins.len&gt;, 8, 0, 2.517e...</td>\n",
       "    </tr>\n",
       "    <tr>\n",
       "      <th>200</th>\n",
       "      <td>method</td>\n",
       "      <td>'cpu'</td>\n",
       "      <td>10</td>\n",
       "      <td>0</td>\n",
       "      <td>0.0284</td>\n",
       "      <td>0.0284</td>\n",
       "      <td>'torch._C._TensorBase'</td>\n",
       "      <td></td>\n",
       "      <td>&lt;method 'cpu' of 'torch._C._TensorBase' objects&gt;</td>\n",
       "      <td>None</td>\n",
       "    </tr>\n",
       "  </tbody>\n",
       "</table>\n",
       "</div>"
      ],
      "text/plain": [
       "                type                             name  ncalls  ccalls  \\\n",
       "527  built-in-method    torch._C._linalg.linalg_lstsq     473       0   \n",
       "467         function                    neutralize_2d       1       0   \n",
       "265  built-in-method  torch._C._cudart.cudaMemGetInfo      25       0   \n",
       "182           method                          'copy_'      12       0   \n",
       "624         function                      load_tensor      10       0   \n",
       "443         function                            allna      10       0   \n",
       "273         function                      svd_factors       1       0   \n",
       "259  built-in-method                   torch.corrcoef       1       0   \n",
       "618         function                            _save       4       0   \n",
       "200           method                            'cpu'      10       0   \n",
       "\n",
       "     tottime  cumtime                                              where  \\\n",
       "527   0.1232   0.1232                                                      \n",
       "467   0.2639   0.1229  \"/home/mengkjin/Workspace/learngp/gp_math_func...   \n",
       "265   0.1015   0.1015                                                      \n",
       "182   0.0643   0.0643                             'torch._C.StorageBase'   \n",
       "624   0.1012   0.0606  \"/home/mengkjin/.local/lib/python3.10/site-pac...   \n",
       "443   0.0578   0.0570  \"/home/mengkjin/Workspace/learngp/gp_math_func...   \n",
       "273   0.0659   0.0509  \"/home/mengkjin/Workspace/learngp/gp_factor_fu...   \n",
       "259   0.0444   0.0444                                                      \n",
       "618   0.0665   0.0339  \"/home/mengkjin/.local/lib/python3.10/site-pac...   \n",
       "200   0.0284   0.0284                             'torch._C._TensorBase'   \n",
       "\n",
       "             memory                                          full_name  \\\n",
       "527                    <built-in method torch._C._linalg.linalg_lstsq>   \n",
       "467  0x720ce58d1370  <code object neutralize_2d at 0x720ce58d1370, ...   \n",
       "265                  <built-in method torch._C._cudart.cudaMemGetInfo>   \n",
       "182                  <method 'copy_' of 'torch._C.StorageBase' obje...   \n",
       "624  0x720d5dd24190  <code object load_tensor at 0x720d5dd24190, fi...   \n",
       "443  0x720ce58c3aa0  <code object allna at 0x720ce58c3aa0, file \"/h...   \n",
       "273  0x720c3ba33940  <code object svd_factors at 0x720c3ba33940, fi...   \n",
       "259                                   <built-in method torch.corrcoef>   \n",
       "618  0x720d5dd0f1b0  <code object _save at 0x720d5dd0f1b0, file \"/h...   \n",
       "200                   <method 'cpu' of 'torch._C._TensorBase' objects>   \n",
       "\n",
       "                                                caller  \n",
       "527                                               None  \n",
       "467  [(<built-in method builtins.isinstance>, 1, 0,...  \n",
       "265                                               None  \n",
       "182                                               None  \n",
       "624  [(<code object default_restore_location at 0x7...  \n",
       "443  [(<method 'any' of 'torch._C._TensorBase' obje...  \n",
       "273  [(<method 'replace' of 'str' objects>, 1, 0, 5...  \n",
       "259                                               None  \n",
       "618  [(<built-in method builtins.len>, 8, 0, 2.517e...  \n",
       "200                                               None  "
      ]
     },
     "execution_count": 1,
     "metadata": {},
     "output_type": "execute_result"
    }
   ],
   "source": [
    "# 测试能不能继续训练\n",
    "from gp_main import main\n",
    "profiler = main(job_id= -1 , start_iter=1 , start_gen=1 , test_code = True , noWith = False , neut_method = 0 , residual_type = 'all')\n",
    "profiler.get_df(sort_on='cumtime' , highlight= None)[:10] # 看看各子程序耗时,用来优化"
   ]
  },
  {
   "cell_type": "code",
   "execution_count": 1,
   "metadata": {},
   "outputs": [
    {
     "name": "stdout",
     "output_type": "stream",
     "text": [
      "**Cuda Memory: Free 23.3G, Allocated 0.0G, Reserved 0.0G, Re-collect 0.0G Cache!\n",
      "**Cuda Memory: Free 23.3G, Allocated 0.0G, Reserved 0.0G, Re-collect 0.0G Cache!\n",
      "**Cuda Memory: Free 23.3G, Allocated 0.0G, Reserved 0.0G, Re-collect 0.0G Cache!\n",
      "**Cuda Memory: Free 23.3G, Allocated 0.0G, Reserved 0.0G, Re-collect 0.0G Cache!\n",
      "**Job Directory is : \"./pop/0\"\n",
      "  --> Continue Training in \"./pop/0\"\n",
      "**Device name: NVIDIA GeForce RTX 4090\n",
      "**Cuda Memory: Free 23.3G, Allocated 0.0G, Reserved 0.0G, Re-collect 0.0G Cache!\n",
      "-------------------- Data --------------------\n",
      "**Load Data Done, Cost 2.18 Secs\n",
      "==================== Iteration 3 start from Generation 0 ====================\n",
      "-------------------- Residual --------------------\n",
      "  -> Neutra has 47 Elements\n",
      "**Cuda Memory: Free 17.7G, Allocated 5.3G, Reserved 5.4G, Re-collect 4.0G Cache!\n",
      "**Update Residual Labels Done, Cost 9.60 Secs, Free CudaMemory 20.99G - > 20.86G\n",
      "-------------------- Setting --------------------\n",
      "**Initialize GP Toolbox Done, Cost 0.00 Secs\n",
      "-------------------- Evolution --------------------\n",
      "**A Population(3000) has been Initialized\n"
     ]
    },
    {
     "name": "stderr",
     "output_type": "stream",
     "text": [
      "  --> Evolve Generation 0 MaxIRres-8.62|MaxIRraw-5.64: 100%|██████████| 3000/3000 [07:15<00:00,  6.89it/s]\n"
     ]
    },
    {
     "name": "stdout",
     "output_type": "stream",
     "text": [
      "  --> Survive 1449 Offsprings, try Populating to 3000 ones\n"
     ]
    },
    {
     "name": "stderr",
     "output_type": "stream",
     "text": [
      "  --> Evolve Generation 1 MaxIRres-8.44|MaxIRraw-5.64: 100%|██████████| 3000/3000 [06:48<00:00,  7.35it/s]\n"
     ]
    },
    {
     "name": "stdout",
     "output_type": "stream",
     "text": [
      "  --> Survive 1436 Offsprings, try Populating to 3000 ones\n"
     ]
    },
    {
     "name": "stderr",
     "output_type": "stream",
     "text": [
      "  --> Evolve Generation 2 MaxIRres-8.51|MaxIRraw-5.64: 100%|██████████| 3000/3000 [06:26<00:00,  7.75it/s]\n"
     ]
    },
    {
     "name": "stdout",
     "output_type": "stream",
     "text": [
      "  --> Survive 1437 Offsprings, try Populating to 3000 ones\n"
     ]
    },
    {
     "name": "stderr",
     "output_type": "stream",
     "text": [
      "  --> Evolve Generation 3 MaxIRres-8.44|MaxIRraw-5.64: 100%|██████████| 3000/3000 [06:27<00:00,  7.75it/s]\n"
     ]
    },
    {
     "name": "stdout",
     "output_type": "stream",
     "text": [
      "  --> Survive 1464 Offsprings, try Populating to 3000 ones\n"
     ]
    },
    {
     "name": "stderr",
     "output_type": "stream",
     "text": [
      "  --> Evolve Generation 4 MaxIRres-8.44|MaxIRraw-5.64: 100%|██████████| 3000/3000 [06:16<00:00,  7.97it/s]\n"
     ]
    },
    {
     "name": "stdout",
     "output_type": "stream",
     "text": [
      "  --> Survive 1454 Offsprings, try Populating to 3000 ones\n"
     ]
    },
    {
     "name": "stderr",
     "output_type": "stream",
     "text": [
      "  --> Evolve Generation 5 MaxIRres-8.44|MaxIRraw-5.80: 100%|██████████| 3000/3000 [06:23<00:00,  7.82it/s]\n"
     ]
    },
    {
     "name": "stdout",
     "output_type": "stream",
     "text": [
      "**A HallofFame(500) has been Evolutionized\n",
      "**6 Generations of Evolution Done, Cost 2382.12 Secs, Free CudaMemory 20.86G - > 20.86G\n",
      "-------------------- Selection --------------------\n",
      "**HallofFame(500) Contains 316 Promising Candidates with RankIR >= 3.00\n",
      "  --> Hof__0/Elite194 (IR-8.62|Corr+0.00): rank(ts_dwdif(TURN,ma(OCFP,2),10))\n",
      "  --> Hof_59/Elite195 (IR-7.26|Corr+0.59): ts_dwdif(RTN,DP,40)\n",
      "  --> Hof132/Elite196 (IR-6.41|Corr+0.23): sigmoid(ts_max(RTN,8))\n",
      "  --> Hof141/Elite197 (IR-6.34|Corr+0.60): ts_top_avg(RTN,40,1)\n",
      "  --> Hof158/Elite198 (IR-6.22|Corr+0.60): ts_max(RTN,9)\n",
      "  --> Hof164/Elite199 (IR-6.17|Corr+0.56): ts_max(ts_xbtm_yavg(OP,TURN,20,2),3)\n",
      "  --> Hof182/Elite200 (IR-6.01|Corr+0.55): rank_div(ma(TURN,30),rank_div(ts_beta(dp,ADV20,2),ts_rng_dif(RTN,20,1)))\n",
      "  --> Hof206/Elite201 (IR-5.69|Corr+0.57): ts_xbtm_yavg(LP,ts_rng_dif(TURN,30,1),20,1)\n",
      "  --> Hof284/Elite202 (IR-4.93|Corr+0.56): ts_rng_dif(ts_rng_dif(TURN,15,3),10,1)\n",
      "  --> Hof285/Elite203 (IR-4.89|Corr+0.38): ts_dwdif(RTN,OCFP,15)\n",
      "  --> Hof291/Elite204 (IR+4.77|Corr-0.57): ts_dw(ts_beta(TURN,amt,8),7)\n",
      "  --> Hof294/Elite205 (IR-4.73|Corr+0.52): rank_div(ts_top_avg(TURN,10,1),ts_xbtm_yavg(ADV60,EP,40,1))\n",
      "  --> Hof295/Elite206 (IR-4.72|Corr+0.58): sqrt(ts_xtop_yavg(HP,RTN,10,8))\n",
      "  --> Hof301/Elite207 (IR-4.61|Corr+0.57): rank_mul(ts_btm_avg(TURN,10,1),ts_beta(ts_argmin(ts_corr(add(turn,amt),ts_xbtm_yavg(bp,cp,30,8),8),9),EP,2))\n",
      "  --> Hof304/Elite208 (IR-4.54|Corr+0.59): ts_max(RTN,3)\n",
      "  --> Hof305/Elite209 (IR-4.52|Corr+0.55): ts_xbtm_yavg(OCFP,TURN,40,2)\n",
      "  --> Hof310/Elite210 (IR-4.43|Corr+0.55): ts_rng_dif(ts_xrng_ydif(ts_beta(ADV20,ocfp,2),TURN,10,1),15,6)\n",
      "  --> Hof311/Elite211 (IR-4.41|Corr+0.53): rank_add(ts_xbtm_yavg(ts_rankcorr(ADV20,ts_delay(ts_btm_avg(hp,30,6),1),8),TURN,30,2),ts_product(ts_argmin(BP,4),3))\n",
      "  --> Hof315/Elite212 (IR-4.34|Corr+0.58): ts_xrng_ydif(HP,TURN,15,2)\n",
      "  --> Hof316/Elite213 (IR+4.34|Corr-0.59): ts_dwdif(DP,amt,20)\n",
      "  --> Hof321/Elite214 (IR-4.28|Corr+0.54): ts_dwdif(ts_rng_dif(TURN,15,6),ts_btm_avg(TURN,40,5),20)\n",
      "  --> Hof323/Elite215 (IR+4.23|Corr-0.60): rank_div(ts_delay(ocfp,3),ts_min(TURN,8))\n",
      "  --> Hof330/Elite216 (IR-4.16|Corr+0.44): ts_max(ts_xrng_ydif(CP,RTN,20,4),2)\n",
      "  --> Hof345/Elite217 (IR-3.97|Corr+0.50): ts_top_avg(ts_xtop_yavg(AMT,RTN,40,5),30,4)\n",
      "  --> Hof346/Elite218 (IR+3.96|Corr-0.38): rank_mul(ep,bp)\n",
      "  --> Hof353/Elite219 (IR+3.94|Corr-0.55): sub(ts_btm_avg(EP,20,2),op)\n",
      "  --> Hof356/Elite220 (IR-3.93|Corr+0.48): ts_dwdif(ts_corr(TURN,CP,6),op,30)\n",
      "  --> Hof364/Elite221 (IR-3.91|Corr+0.60): rank_add(ts_rng_dif(RTN,20,1),turn)\n",
      "  --> Hof377/Elite222 (IR-3.88|Corr-0.56): add(hp,adv60)\n",
      "  --> Hof384/Elite223 (IR-3.84|Corr+0.41): ts_xbtm_yavg(OP,RTN,20,8)\n",
      "  --> Hof389/Elite224 (IR-3.83|Corr+0.44): ts_dwdif(cp,lp,10)\n",
      "  --> Hof429/Elite225 (IR-3.67|Corr+0.54): ts_rng_dif(ts_top_avg(RTN,30,8),20,1)\n",
      "  --> Hof432/Elite226 (IR-3.65|Corr+0.28): ts_rng_dif(rank_div(ts_xbtm_yavg(ts_rng_dif(LP,15,1),TURN,10,1),ts_rankcorr(OCFP,adv20,2)),15,5)\n",
      "  --> Hof439/Elite227 (IR-3.63|Corr+0.59): ts_delay(ts_top_avg(RTN,10,2),6)\n",
      "  --> Hof499/Elite228 (IR-3.48|Corr+0.43): power(VOL,0.76)\n",
      "**An EliteGroup(35) has been Selected\n",
      "  --> Cuda Memories of \"gp_inputs\" take 1.9266G\n",
      "  --> Cuda Memories of \"elites\"    take 2.3253G\n",
      "  --> Cuda Memories of \"tensors\"   take 0.0000G\n",
      "**Selection of HallofFame Done, Cost 45.20 Secs, Free CudaMemory 20.86G - > 20.86G\n",
      "==================== Iteration 4 start from Generation 0 ====================\n",
      "-------------------- Residual --------------------\n",
      "  -> Neutra has 35 Elements\n",
      "**Cuda Memory: Free 18.5G, Allocated 4.5G, Reserved 4.6G, Re-collect 3.1G Cache!\n",
      "**Update Residual Labels Done, Cost 6.88 Secs, Free CudaMemory 20.86G - > 20.86G\n",
      "-------------------- Setting --------------------\n",
      "**Initialize GP Toolbox Done, Cost 0.00 Secs\n",
      "-------------------- Evolution --------------------\n",
      "**A Population(3000) has been Initialized\n"
     ]
    },
    {
     "name": "stderr",
     "output_type": "stream",
     "text": [
      "  --> Evolve Generation 0 MaxIRres-7.69|MaxIRraw-5.49: 100%|██████████| 3000/3000 [07:15<00:00,  6.88it/s]\n"
     ]
    },
    {
     "name": "stdout",
     "output_type": "stream",
     "text": [
      "  --> Survive 1426 Offsprings, try Populating to 3000 ones\n"
     ]
    },
    {
     "name": "stderr",
     "output_type": "stream",
     "text": [
      "  --> Evolve Generation 1 MaxIRres-7.69|MaxIRraw-5.49: 100%|██████████| 3000/3000 [06:51<00:00,  7.29it/s]\n"
     ]
    },
    {
     "name": "stdout",
     "output_type": "stream",
     "text": [
      "  --> Survive 1432 Offsprings, try Populating to 3000 ones\n"
     ]
    },
    {
     "name": "stderr",
     "output_type": "stream",
     "text": [
      "  --> Evolve Generation 2 MaxIRres-7.69|MaxIRraw-5.49: 100%|██████████| 3000/3000 [06:36<00:00,  7.56it/s]\n"
     ]
    },
    {
     "name": "stdout",
     "output_type": "stream",
     "text": [
      "  --> Survive 1440 Offsprings, try Populating to 3000 ones\n"
     ]
    },
    {
     "name": "stderr",
     "output_type": "stream",
     "text": [
      "  --> Evolve Generation 3 MaxIRres-7.69|MaxIRraw-5.44: 100%|██████████| 3000/3000 [06:27<00:00,  7.75it/s]\n"
     ]
    },
    {
     "name": "stdout",
     "output_type": "stream",
     "text": [
      "  --> Survive 1473 Offsprings, try Populating to 3000 ones\n"
     ]
    },
    {
     "name": "stderr",
     "output_type": "stream",
     "text": [
      "  --> Evolve Generation 4 MaxIRres-7.69|MaxIRraw-5.27: 100%|██████████| 3000/3000 [06:21<00:00,  7.86it/s]\n"
     ]
    },
    {
     "name": "stdout",
     "output_type": "stream",
     "text": [
      "  --> Survive 1441 Offsprings, try Populating to 3000 ones\n"
     ]
    },
    {
     "name": "stderr",
     "output_type": "stream",
     "text": [
      "  --> Evolve Generation 5 MaxIRres-7.69|MaxIRraw-5.73: 100%|██████████| 3000/3000 [06:16<00:00,  7.98it/s]\n"
     ]
    },
    {
     "name": "stdout",
     "output_type": "stream",
     "text": [
      "**A HallofFame(500) has been Evolutionized\n",
      "**6 Generations of Evolution Done, Cost 2394.49 Secs, Free CudaMemory 20.86G - > 20.86G\n",
      "-------------------- Selection --------------------\n",
      "**HallofFame(500) Contains 244 Promising Candidates with RankIR >= 3.00\n",
      "  --> Hof__0/Elite229 (IR-7.69|Corr+0.00): log(TURN)\n",
      "  --> Hof_13/Elite230 (IR-7.28|Corr+0.30): ts_product(ts_max(TURN,6),3)\n",
      "  --> Hof_53/Elite231 (IR-6.78|Corr+0.60): ts_max(ts_rng_dif(RTN,20,4),2)\n",
      "  --> Hof_66/Elite232 (IR-6.66|Corr+0.60): ts_max(RTN,9)\n",
      "  --> Hof146/Elite233 (IR-5.91|Corr+0.59): ts_top_avg(ts_top_avg(TURN,40,8),40,2)\n",
      "  --> Hof160/Elite234 (IR-5.77|Corr+0.60): ts_dwdif(TURN,ADV20,15)\n",
      "  --> Hof163/Elite235 (IR-5.76|Corr+0.59): ts_delay(ts_rng_dif(TURN,15,1),6)\n",
      "  --> Hof200/Elite236 (IR-5.37|Corr+0.56): sqrt(ts_max(RTN,3))\n",
      "  --> Hof205/Elite237 (IR+5.24|Corr-0.59): ts_dwdif(ts_xbtm_yavg(RTN,ts_argmin(CP,7),20,1),TURN,40)\n",
      "  --> Hof212/Elite238 (IR-5.20|Corr+0.60): ts_xbtm_yavg(ocfp,TURN,15,1)\n",
      "  --> Hof216/Elite239 (IR-5.19|Corr+0.44): sub(amt,ma(EP,4))\n",
      "  --> Hof223/Elite240 (IR+5.13|Corr-0.41): div(sign(DP),ts_rng_dif(pctchg(CP,1),40,7))\n",
      "  --> Hof263/Elite241 (IR+4.91|Corr-0.52): ts_beta(TURN,vol,7)\n",
      "  --> Hof264/Elite242 (IR+4.91|Corr-0.51): ts_btm_avg(pctchg(OCFP,1),20,1)\n",
      "  --> Hof268/Elite243 (IR-4.89|Corr+0.56): ts_dwdif(RTN,ts_xtop_yavg(ts_xrng_ydif(VOL,lp,20,8),EP,40,4),10)\n",
      "  --> Hof269/Elite244 (IR-4.89|Corr+0.35): ts_dwdif(RTN,OCFP,15)\n",
      "  --> Hof284/Elite245 (IR-4.72|Corr+0.60): ts_rng_dif(ts_xrng_ydif(ts_xtop_yavg(EP,RTN,10,2),ts_min(TURN,2),20,1),20,1)\n",
      "  --> Hof285/Elite246 (IR+4.71|Corr-0.60): power(ts_xtop_yavg(ts_xrng_ydif(ts_rankcorr(ts_xtop_yavg(lp,VOL,20,1),AMT,7),AMT,30,1),ts_dwdif(ts_delay(log(VP),1),TURN,10),20,1),0.6)\n",
      "  --> Hof292/Elite247 (IR-4.62|Corr+0.52): ts_dwdif(RTN,ep,10)\n",
      "  --> Hof294/Elite248 (IR-4.61|Corr+0.57): ma(rank_mul(sign(add(ts_corr(RTN,hp,8),ts_stddev(dp,9))),ts_rng_dif(TURN,10,9)),2)\n",
      "  --> Hof297/Elite249 (IR+4.59|Corr-0.53): sub(bp,adv60)\n",
      "  --> Hof300/Elite250 (IR-4.54|Corr+0.59): ts_xbtm_yavg(EP,TURN,30,1)\n",
      "  --> Hof309/Elite251 (IR-4.49|Corr+0.49): rank_div(sqrt(TURN),ts_btm_avg(ADV20,30,4))\n",
      "  --> Hof318/Elite252 (IR+4.42|Corr-0.39): div(ts_rank(EP,8),ts_top_avg(RTN,10,6))\n",
      "  --> Hof334/Elite253 (IR-4.25|Corr-0.15): ts_corr(TURN,VOL,7)\n",
      "  --> Hof336/Elite254 (IR-4.24|Corr-0.56): rank_div(sqrt(TURN),ts_btm_avg(CP,30,4))\n",
      "  --> Hof341/Elite255 (IR+4.22|Corr+0.57): ts_dwdif(DP,adv60,10)\n",
      "  --> Hof343/Elite256 (IR-4.22|Corr+0.48): ts_xrng_ydif(TURN,ma(RTN,3),30,8)\n",
      "  --> Hof363/Elite257 (IR-4.16|Corr+0.53): rank(ts_dwdif(ts_xtop_yavg(vp,RTN,30,1),EP,40))\n",
      "  --> Hof381/Elite258 (IR-4.13|Corr+0.56): ma(rank_mul(sign(add(ts_corr(OP,hp,8),ts_stddev(dp,9))),ts_rng_dif(TURN,10,9)),2)\n",
      "  --> Hof421/Elite259 (IR+4.06|Corr+0.54): ts_dwdif(ts_xbtm_yavg(RTN,ts_argmin(DP,7),20,1),TURN,40)\n",
      "  --> Hof498/Elite260 (IR-3.86|Corr+0.38): ts_xbtm_yavg(OP,RTN,15,5)\n",
      "**An EliteGroup(32) has been Selected\n",
      "  --> Cuda Memories of \"gp_inputs\" take 1.9266G\n",
      "  --> Cuda Memories of \"elites\"    take 2.1260G\n",
      "  --> Cuda Memories of \"tensors\"   take 0.0000G\n",
      "**Selection of HallofFame Done, Cost 32.49 Secs, Free CudaMemory 20.86G - > 20.86G\n",
      "==================== Iteration 5 start from Generation 0 ====================\n",
      "-------------------- Residual --------------------\n",
      "  -> Neutra has 32 Elements\n",
      "**Cuda Memory: Free 18.7G, Allocated 4.3G, Reserved 4.4G, Re-collect 3.0G Cache!\n",
      "**Update Residual Labels Done, Cost 6.70 Secs, Free CudaMemory 20.86G - > 20.86G\n",
      "-------------------- Setting --------------------\n",
      "**Initialize GP Toolbox Done, Cost 0.00 Secs\n",
      "-------------------- Evolution --------------------\n",
      "**A Population(3000) has been Initialized\n"
     ]
    },
    {
     "name": "stderr",
     "output_type": "stream",
     "text": [
      "  --> Evolve Generation 0 MaxIRres-7.78|MaxIRraw-6.00: 100%|██████████| 3000/3000 [07:13<00:00,  6.92it/s]\n"
     ]
    },
    {
     "name": "stdout",
     "output_type": "stream",
     "text": [
      "  --> Survive 1466 Offsprings, try Populating to 3000 ones\n"
     ]
    },
    {
     "name": "stderr",
     "output_type": "stream",
     "text": [
      "  --> Evolve Generation 1 MaxIRres-7.91|MaxIRraw-6.00: 100%|██████████| 3000/3000 [06:47<00:00,  7.36it/s]\n"
     ]
    },
    {
     "name": "stdout",
     "output_type": "stream",
     "text": [
      "  --> Survive 1464 Offsprings, try Populating to 3000 ones\n"
     ]
    },
    {
     "name": "stderr",
     "output_type": "stream",
     "text": [
      "  --> Evolve Generation 2 MaxIRres-7.91|MaxIRraw-6.00: 100%|██████████| 3000/3000 [06:32<00:00,  7.64it/s]\n"
     ]
    },
    {
     "name": "stdout",
     "output_type": "stream",
     "text": [
      "  --> Survive 1466 Offsprings, try Populating to 3000 ones\n"
     ]
    },
    {
     "name": "stderr",
     "output_type": "stream",
     "text": [
      "  --> Evolve Generation 3 MaxIRres-7.81|MaxIRraw-6.00: 100%|██████████| 3000/3000 [06:30<00:00,  7.69it/s]\n"
     ]
    },
    {
     "name": "stdout",
     "output_type": "stream",
     "text": [
      "  --> Survive 1451 Offsprings, try Populating to 3000 ones\n"
     ]
    },
    {
     "name": "stderr",
     "output_type": "stream",
     "text": [
      "  --> Evolve Generation 4 MaxIRres-7.78|MaxIRraw-6.23: 100%|██████████| 3000/3000 [06:21<00:00,  7.87it/s]\n"
     ]
    },
    {
     "name": "stdout",
     "output_type": "stream",
     "text": [
      "  --> Survive 1456 Offsprings, try Populating to 3000 ones\n"
     ]
    },
    {
     "name": "stderr",
     "output_type": "stream",
     "text": [
      "  --> Evolve Generation 5 MaxIRres-7.78|MaxIRraw-6.00: 100%|██████████| 3000/3000 [06:14<00:00,  8.00it/s]\n"
     ]
    },
    {
     "name": "stdout",
     "output_type": "stream",
     "text": [
      "**A HallofFame(500) has been Evolutionized\n",
      "**6 Generations of Evolution Done, Cost 2387.29 Secs, Free CudaMemory 20.86G - > 20.86G\n",
      "-------------------- Selection --------------------\n",
      "**HallofFame(500) Contains 273 Promising Candidates with RankIR >= 3.00\n",
      "  --> Hof__0/Elite261 (IR-7.91|Corr+0.00): rank(ts_dwdif(TURN,EP,20))\n",
      "  --> Hof_92/Elite262 (IR-6.54|Corr+0.59): ts_rng_dif(RTN,40,1)\n",
      "  --> Hof_96/Elite263 (IR-6.50|Corr+0.46): ts_max(RTN,9)\n",
      "  --> Hof102/Elite264 (IR-6.44|Corr+0.08): ts_product(ts_max(TURN,3),7)\n",
      "  --> Hof173/Elite265 (IR-5.81|Corr+0.57): ts_dwdif(HP,power(LP,1.02),40)\n",
      "  --> Hof202/Elite266 (IR+5.45|Corr-0.37): ts_dwdif(EP,adv60,10)\n",
      "  --> Hof207/Elite267 (IR+5.43|Corr-0.58): ts_beta(TURN,vol,8)\n",
      "  --> Hof225/Elite268 (IR-5.28|Corr+0.56): ts_xbtm_yavg(ts_xtop_yavg(VP,ts_btm_avg(RTN,10,1),20,5),ts_max(RTN,9),15,7)\n",
      "  --> Hof240/Elite269 (IR-5.15|Corr+0.60): ts_btm_avg(ma(ts_top_avg(TURN,40,1),20),30,4)\n",
      "  --> Hof264/Elite270 (IR+4.86|Corr+0.53): rank_add(power(EP,0.12),ocfp)\n",
      "  --> Hof270/Elite271 (IR+4.78|Corr-0.50): rank_sub(ts_btm_avg(ts_min(RTN,5),40,9),ts_beta(HP,TURN,8))\n",
      "  --> Hof278/Elite272 (IR-4.69|Corr+0.54): ma(sqrt(RTN),4)\n",
      "  --> Hof289/Elite273 (IR-4.63|Corr-0.53): rank_sub(power(VOL,1.94),ma(ma(EP,20),15))\n",
      "  --> Hof294/Elite274 (IR-4.56|Corr+0.59): rank_add(ts_min(TURN,5),hp)\n",
      "  --> Hof296/Elite275 (IR+4.55|Corr-0.46): ts_dwdif(DP,amt,10)\n",
      "  --> Hof311/Elite276 (IR+4.38|Corr-0.54): rank_div(log(DP),ts_xbtm_yavg(ts_corr(ts_top_avg(OCFP,20,8),OP,3),TURN,15,1))\n",
      "  --> Hof333/Elite277 (IR+4.27|Corr-0.48): ts_btm_avg(pctchg(EP,2),40,1)\n",
      "  --> Hof360/Elite278 (IR-4.19|Corr+0.58): ts_xbtm_yavg(ep,TURN,40,1)\n",
      "  --> Hof365/Elite279 (IR-4.19|Corr+0.58): rank_add(ts_top_avg(RTN,30,9),ts_rng_dif(adv20,20,1))\n",
      "  --> Hof415/Elite280 (IR-4.07|Corr+0.57): ts_xbtm_yavg(OCFP,rank_add(ts_xtop_yavg(VOL,TURN,40,6),ts_zscore(ts_zscore(LP,15),40)),40,2)\n",
      "  --> Hof420/Elite281 (IR-4.06|Corr-0.49): ma(rank_sub(turn,sqrt(OCFP)),15)\n",
      "  --> Hof425/Elite282 (IR-4.05|Corr-0.60): rank_sub(ts_product(op,9),ts_xtop_yavg(OCFP,DP,40,3))\n",
      "  --> Hof435/Elite283 (IR-4.03|Corr+0.45): rank_mul(ts_xbtm_yavg(EP,ts_xtop_yavg(RTN,ts_corr(ts_top_avg(HP,10,1),power(ep,0.78),4),10,9),30,1),ts_top_avg(RTN,20,1))\n",
      "  --> Hof455/Elite284 (IR-3.96|Corr-0.59): ts_dwdif(ts_dw(ts_rank(ts_delta(turn,1),3),8),EP,40)\n",
      "  --> Hof460/Elite285 (IR-3.93|Corr+0.60): ts_xbtm_yavg(OCFP,rank_add(ts_xtop_yavg(VOL,TURN,40,6),ts_zscore(ts_xrng_ydif(TURN,CP,30,8),40)),40,2)\n",
      "  --> Hof466/Elite286 (IR-3.90|Corr-0.59): ts_dwdif(RTN,ocfp,20)\n",
      "  --> Hof467/Elite287 (IR-3.87|Corr+0.59): ts_xrng_ydif(HP,TURN,20,1)\n",
      "  --> Hof476/Elite288 (IR-3.78|Corr+0.55): ts_max(rank_mul(ts_xbtm_yavg(ts_argmin(ts_rank(vp,8),8),TURN,10,1),ts_zscore(ts_rankcorr(ts_xbtm_yavg(OCFP,RTN,30,9),ADV60,7),20)),2)\n",
      "  --> Hof480/Elite289 (IR-3.76|Corr-0.44): div(ts_stddev(ts_rng_dif(TURN,20,9),5),ts_xtop_yavg(ts_corr(ADV60,mul(cp,amt),6),LP,30,3))\n",
      "  --> Hof485/Elite290 (IR-3.74|Corr+0.38): rank_div(ts_rng_dif(TURN,30,9),rank_mul(ts_rankcorr(ts_xrng_ydif(lp,OCFP,30,7),ADV20,2),sqrt(rank(hp))))\n",
      "  --> Hof496/Elite291 (IR-3.68|Corr+0.48): ts_stddev(rank_add(ts_product(power(HP,0.36),4),pctchg(EP,1)),4)\n",
      "**An EliteGroup(31) has been Selected\n",
      "  --> Cuda Memories of \"gp_inputs\" take 1.9266G\n",
      "  --> Cuda Memories of \"elites\"    take 2.0595G\n",
      "  --> Cuda Memories of \"tensors\"   take 0.0000G\n",
      "**Selection of HallofFame Done, Cost 36.74 Secs, Free CudaMemory 20.86G - > 20.86G\n",
      "==================== Iteration 6 start from Generation 0 ====================\n",
      "-------------------- Residual --------------------\n",
      "  -> Neutra has 31 Elements\n",
      "**Cuda Memory: Free 18.8G, Allocated 4.3G, Reserved 4.4G, Re-collect 2.8G Cache!\n",
      "**Update Residual Labels Done, Cost 6.70 Secs, Free CudaMemory 20.86G - > 20.86G\n",
      "-------------------- Setting --------------------\n",
      "**Initialize GP Toolbox Done, Cost 0.00 Secs\n",
      "-------------------- Evolution --------------------\n",
      "**A Population(3000) has been Initialized\n"
     ]
    },
    {
     "name": "stderr",
     "output_type": "stream",
     "text": [
      "  --> Evolve Generation 0 MaxIRres-7.73|MaxIRraw-5.48: 100%|██████████| 3000/3000 [07:17<00:00,  6.85it/s]\n"
     ]
    },
    {
     "name": "stdout",
     "output_type": "stream",
     "text": [
      "  --> Survive 1457 Offsprings, try Populating to 3000 ones\n"
     ]
    },
    {
     "name": "stderr",
     "output_type": "stream",
     "text": [
      "  --> Evolve Generation 1 MaxIRres-7.73|MaxIRraw+5.63: 100%|██████████| 3000/3000 [06:49<00:00,  7.33it/s]\n"
     ]
    },
    {
     "name": "stdout",
     "output_type": "stream",
     "text": [
      "  --> Survive 1450 Offsprings, try Populating to 3000 ones\n"
     ]
    },
    {
     "name": "stderr",
     "output_type": "stream",
     "text": [
      "  --> Evolve Generation 2 MaxIRres-7.73|MaxIRraw+5.63: 100%|██████████| 3000/3000 [06:32<00:00,  7.64it/s]\n"
     ]
    },
    {
     "name": "stdout",
     "output_type": "stream",
     "text": [
      "  --> Survive 1430 Offsprings, try Populating to 3000 ones\n"
     ]
    },
    {
     "name": "stderr",
     "output_type": "stream",
     "text": [
      "  --> Evolve Generation 3 MaxIRres-7.73|MaxIRraw+5.63: 100%|██████████| 3000/3000 [06:21<00:00,  7.87it/s]\n"
     ]
    },
    {
     "name": "stdout",
     "output_type": "stream",
     "text": [
      "  --> Survive 1465 Offsprings, try Populating to 3000 ones\n"
     ]
    },
    {
     "name": "stderr",
     "output_type": "stream",
     "text": [
      "  --> Evolve Generation 4 MaxIRres-7.72|MaxIRraw+6.29: 100%|██████████| 3000/3000 [06:22<00:00,  7.85it/s]\n"
     ]
    },
    {
     "name": "stdout",
     "output_type": "stream",
     "text": [
      "  --> Survive 1457 Offsprings, try Populating to 3000 ones\n"
     ]
    },
    {
     "name": "stderr",
     "output_type": "stream",
     "text": [
      "  --> Evolve Generation 5 MaxIRres-7.73|MaxIRraw+5.57: 100%|██████████| 3000/3000 [06:13<00:00,  8.03it/s]\n"
     ]
    },
    {
     "name": "stdout",
     "output_type": "stream",
     "text": [
      "**A HallofFame(500) has been Evolutionized\n",
      "**6 Generations of Evolution Done, Cost 2388.28 Secs, Free CudaMemory 20.86G - > 20.86G\n",
      "-------------------- Selection --------------------\n",
      "**HallofFame(500) Contains 280 Promising Candidates with RankIR >= 3.00\n",
      "  --> Hof__0/Elite292 (IR-7.73|Corr+0.00): log(TURN)\n",
      "  --> Hof_10/Elite293 (IR-7.46|Corr+0.51): ts_rng_dif(RTN,40,1)\n",
      "  --> Hof_42/Elite294 (IR-6.84|Corr+0.58): ts_dwdif(RTN,DP,20)\n",
      "  --> Hof133/Elite295 (IR-6.21|Corr+0.59): ts_dwdif(ts_xrng_ydif(AMT,ma(TURN,3),10,1),OCFP,40)\n",
      "  --> Hof220/Elite296 (IR-5.53|Corr+0.57): ts_max(RTN,4)\n",
      "  --> Hof243/Elite297 (IR-5.43|Corr+0.51): ts_product(ts_rng_dif(RTN,10,1),3)\n",
      "  --> Hof252/Elite298 (IR+5.39|Corr-0.50): ts_dwdif(EP,hp,10)\n",
      "  --> Hof275/Elite299 (IR-5.26|Corr+0.58): rank(ts_xbtm_yavg(turn,ts_top_avg(TURN,40,1),40,1))\n",
      "  --> Hof289/Elite300 (IR-5.12|Corr+0.58): ts_xbtm_yavg(ADV60,TURN,30,3)\n",
      "  --> Hof304/Elite301 (IR-4.98|Corr+0.53): ts_rng_dif(ts_xrng_ydif(LP,TURN,40,1),20,1)\n",
      "  --> Hof312/Elite302 (IR+4.92|Corr-0.43): ts_min(add(ts_cov(ep,dp,4),pctchg(EP,1)),5)\n",
      "  --> Hof323/Elite303 (IR-4.84|Corr+0.59): ts_min(ts_xtop_yavg(ts_rng_dif(ts_xbtm_yavg(LP,ma(HP,10),10,1),30,7),TURN,20,1),4)\n",
      "  --> Hof324/Elite304 (IR+4.83|Corr-0.48): rank_mul(ep,ma(ts_xrng_ydif(BP,TURN,15,1),30))\n",
      "  --> Hof344/Elite305 (IR+4.70|Corr-0.56): ts_dwdif(DP,amt,20)\n",
      "  --> Hof351/Elite306 (IR-4.66|Corr+0.45): ts_dwdif(ts_xbtm_yavg(ts_xtop_yavg(adv60,adv20,15,1),RTN,15,1),DP,40)\n",
      "  --> Hof370/Elite307 (IR-4.59|Corr+0.57): rank_add(amt,ts_max(RTN,6))\n",
      "  --> Hof372/Elite308 (IR-4.59|Corr+0.54): rank_sub(ts_xtop_yavg(ADV20,TURN,40,3),ts_rank(ts_top_avg(DP,20,1),3))\n",
      "  --> Hof396/Elite309 (IR+4.54|Corr-0.52): ts_beta(TURN,turn,4)\n",
      "  --> Hof401/Elite310 (IR-4.51|Corr+0.43): ts_dw(rank_mul(ts_top_avg(TURN,40,1),ts_btm_avg(ts_corr(ts_xrng_ydif(OP,ADV20,40,3),ts_xbtm_yavg(hp,DP,10,1),4),30,8)),9)\n",
      "  --> Hof429/Elite311 (IR-4.43|Corr+0.40): ts_dwdif(RTN,OCFP,20)\n",
      "  --> Hof456/Elite312 (IR+4.38|Corr-0.57): ts_min(ts_dw(pctchg(BP,1),5),9)\n",
      "  --> Hof476/Elite313 (IR-4.31|Corr+0.54): rank_mul(ts_xbtm_yavg(AMT,adv20,30,2),ts_xtop_yavg(lp,TURN,10,1))\n",
      "**An EliteGroup(22) has been Selected\n",
      "  --> Cuda Memories of \"gp_inputs\" take 1.9266G\n",
      "  --> Cuda Memories of \"elites\"    take 1.4616G\n",
      "  --> Cuda Memories of \"tensors\"   take 0.0000G\n",
      "**Selection of HallofFame Done, Cost 37.15 Secs, Free CudaMemory 20.86G - > 20.86G\n",
      "==================== Iteration 7 start from Generation 0 ====================\n",
      "-------------------- Residual --------------------\n",
      "  -> Neutra has 22 Elements\n",
      "**Cuda Memory: Free 19.4G, Allocated 3.7G, Reserved 3.8G, Re-collect 2.0G Cache!\n",
      "**Update Residual Labels Done, Cost 5.54 Secs, Free CudaMemory 20.86G - > 20.86G\n",
      "-------------------- Setting --------------------\n",
      "**Initialize GP Toolbox Done, Cost 0.00 Secs\n",
      "-------------------- Evolution --------------------\n",
      "**A Population(3000) has been Initialized\n"
     ]
    },
    {
     "name": "stderr",
     "output_type": "stream",
     "text": [
      "  --> Evolve Generation 0 MaxIRres-7.39|MaxIRraw-5.39: 100%|██████████| 3000/3000 [07:06<00:00,  7.03it/s]\n"
     ]
    },
    {
     "name": "stdout",
     "output_type": "stream",
     "text": [
      "  --> Survive 1436 Offsprings, try Populating to 3000 ones\n"
     ]
    },
    {
     "name": "stderr",
     "output_type": "stream",
     "text": [
      "  --> Evolve Generation 1 MaxIRres-7.63|MaxIRraw-5.39: 100%|██████████| 3000/3000 [06:43<00:00,  7.43it/s]\n"
     ]
    },
    {
     "name": "stdout",
     "output_type": "stream",
     "text": [
      "  --> Survive 1446 Offsprings, try Populating to 3000 ones\n"
     ]
    },
    {
     "name": "stderr",
     "output_type": "stream",
     "text": [
      "  --> Evolve Generation 2 MaxIRres-7.63|MaxIRraw-5.47: 100%|██████████| 3000/3000 [06:24<00:00,  7.80it/s]\n"
     ]
    },
    {
     "name": "stdout",
     "output_type": "stream",
     "text": [
      "  --> Survive 1446 Offsprings, try Populating to 3000 ones\n"
     ]
    },
    {
     "name": "stderr",
     "output_type": "stream",
     "text": [
      "  --> Evolve Generation 3 MaxIRres-7.63|MaxIRraw-5.20: 100%|██████████| 3000/3000 [06:23<00:00,  7.83it/s]\n"
     ]
    },
    {
     "name": "stdout",
     "output_type": "stream",
     "text": [
      "  --> Survive 1441 Offsprings, try Populating to 3000 ones\n"
     ]
    },
    {
     "name": "stderr",
     "output_type": "stream",
     "text": [
      "  --> Evolve Generation 4 MaxIRres-7.63|MaxIRraw-5.86: 100%|██████████| 3000/3000 [06:22<00:00,  7.84it/s]\n"
     ]
    },
    {
     "name": "stdout",
     "output_type": "stream",
     "text": [
      "  --> Survive 1447 Offsprings, try Populating to 3000 ones\n"
     ]
    },
    {
     "name": "stderr",
     "output_type": "stream",
     "text": [
      "  --> Evolve Generation 5 MaxIRres-7.63|MaxIRraw-5.65: 100%|██████████| 3000/3000 [06:11<00:00,  8.07it/s]\n"
     ]
    },
    {
     "name": "stdout",
     "output_type": "stream",
     "text": [
      "**A HallofFame(500) has been Evolutionized\n",
      "**6 Generations of Evolution Done, Cost 2372.04 Secs, Free CudaMemory 20.86G - > 20.86G\n",
      "-------------------- Selection --------------------\n",
      "**HallofFame(500) Contains 236 Promising Candidates with RankIR >= 3.00\n",
      "  --> Hof__0/Elite314 (IR-7.63|Corr+0.00): log(TURN)\n",
      "  --> Hof__4/Elite315 (IR-7.39|Corr+0.51): ts_rng_dif(RTN,40,1)\n",
      "  --> Hof__8/Elite316 (IR-7.24|Corr+0.54): ts_dwdif(sqrt(RTN),EP,40)\n",
      "  --> Hof_21/Elite317 (IR-6.86|Corr+0.59): ts_max(ts_rng_dif(TURN,40,8),7)\n",
      "  --> Hof_33/Elite318 (IR-6.58|Corr+0.56): ts_dwdif(RTN,DP,10)\n",
      "  --> Hof235/Elite319 (IR-5.12|Corr+0.60): ts_top_avg(RTN,15,1)\n",
      "  --> Hof240/Elite320 (IR-5.10|Corr+0.53): ts_min(ts_dwdif(ts_rank(LP,3),rank_div(ts_rankcorr(TURN,amt,4),ts_rng_dif(TURN,15,1)),20),5)\n",
      "  --> Hof260/Elite321 (IR+4.90|Corr-0.51): ts_btm_avg(ts_delta(pctchg(HP,1),1),15,1)\n",
      "  --> Hof268/Elite322 (IR-4.79|Corr+0.41): rank_div(ts_rng_dif(TURN,15,2),ocfp)\n",
      "  --> Hof270/Elite323 (IR-4.78|Corr+0.57): rank_sub(ts_xtop_yavg(LP,power(TURN,1.38),30,2),ts_product(sqrt(ts_xrng_ydif(lp,adv60,40,9)),7))\n",
      "  --> Hof283/Elite324 (IR-4.66|Corr+0.54): rank_sub(ts_xrng_ydif(VOL,TURN,10,9),ts_beta(ADV20,BP,9))\n",
      "  --> Hof287/Elite325 (IR-4.63|Corr+0.55): ts_rng_dif(ts_xtop_yavg(ts_corr(op,ocfp,3),ts_xtop_yavg(OP,TURN,30,3),15,3),30,4)\n",
      "  --> Hof321/Elite326 (IR+4.49|Corr-0.50): add(ep,power(DP,0.76))\n",
      "  --> Hof337/Elite327 (IR-4.43|Corr+0.42): ts_dwdif(TURN,ts_xbtm_yavg(sign(power(VP,0.74)),ts_beta(ts_xbtm_yavg(ma(HP,3),TURN,20,7),ma(OCFP,7),8),40,1),20)\n",
      "  --> Hof338/Elite328 (IR+4.43|Corr-0.42): ts_btm_avg(ts_btm_avg(pctchg(EP,1),40,3),30,5)\n",
      "  --> Hof345/Elite329 (IR-4.42|Corr+0.38): ts_dwdif(RTN,OCFP,15)\n",
      "  --> Hof373/Elite330 (IR-4.34|Corr+0.48): rank_sub(cp,ts_dwdif(OCFP,ts_xrng_ydif(DP,RTN,30,1),15))\n",
      "  --> Hof399/Elite331 (IR+4.31|Corr-0.58): sub(ts_xbtm_yavg(ADV20,DP,15,9),amt)\n",
      "  --> Hof408/Elite332 (IR-4.27|Corr+0.58): ts_dwdif(RTN,ocfp,40)\n",
      "  --> Hof423/Elite333 (IR-4.24|Corr+0.09): ts_corr(VOL,TURN,6)\n",
      "  --> Hof428/Elite334 (IR+4.22|Corr+0.55): rank_mul(bp,ep)\n",
      "  --> Hof432/Elite335 (IR+4.22|Corr+0.59): ts_dwdif(DP,turn,30)\n",
      "  --> Hof470/Elite336 (IR+4.12|Corr-0.59): ts_xrng_ydif(BP,TURN,30,8)\n",
      "  --> Hof479/Elite337 (IR-4.11|Corr+0.52): rank_sub(ts_xrng_ydif(VOL,TURN,10,9),ts_beta(ADV20,CP,9))\n",
      "**An EliteGroup(24) has been Selected\n",
      "  --> Cuda Memories of \"gp_inputs\" take 1.9266G\n",
      "  --> Cuda Memories of \"elites\"    take 1.5945G\n",
      "  --> Cuda Memories of \"tensors\"   take 0.0000G\n",
      "**Selection of HallofFame Done, Cost 29.00 Secs, Free CudaMemory 20.86G - > 20.86G\n",
      "==================== Iteration 8 start from Generation 0 ====================\n",
      "-------------------- Residual --------------------\n",
      "  -> Neutra has 24 Elements\n",
      "**Cuda Memory: Free 19.3G, Allocated 3.8G, Reserved 3.9G, Re-collect 2.2G Cache!\n",
      "**Update Residual Labels Done, Cost 5.82 Secs, Free CudaMemory 20.86G - > 20.86G\n",
      "-------------------- Setting --------------------\n",
      "**Initialize GP Toolbox Done, Cost 0.00 Secs\n",
      "-------------------- Evolution --------------------\n",
      "**A Population(3000) has been Initialized\n"
     ]
    },
    {
     "name": "stderr",
     "output_type": "stream",
     "text": [
      "  --> Evolve Generation 0 MaxIRres-7.70|MaxIRraw-5.61: 100%|██████████| 3000/3000 [07:08<00:00,  7.00it/s]\n"
     ]
    },
    {
     "name": "stdout",
     "output_type": "stream",
     "text": [
      "  --> Survive 1433 Offsprings, try Populating to 3000 ones\n"
     ]
    },
    {
     "name": "stderr",
     "output_type": "stream",
     "text": [
      "  --> Evolve Generation 1 MaxIRres-7.70|MaxIRraw-5.58: 100%|██████████| 3000/3000 [06:43<00:00,  7.44it/s]\n"
     ]
    },
    {
     "name": "stdout",
     "output_type": "stream",
     "text": [
      "  --> Survive 1448 Offsprings, try Populating to 3000 ones\n"
     ]
    },
    {
     "name": "stderr",
     "output_type": "stream",
     "text": [
      "  --> Evolve Generation 2 MaxIRres-7.70|MaxIRraw-5.49: 100%|██████████| 3000/3000 [06:28<00:00,  7.71it/s]\n"
     ]
    },
    {
     "name": "stdout",
     "output_type": "stream",
     "text": [
      "  --> Survive 1477 Offsprings, try Populating to 3000 ones\n"
     ]
    },
    {
     "name": "stderr",
     "output_type": "stream",
     "text": [
      "  --> Evolve Generation 3 MaxIRres-7.70|MaxIRraw-5.38: 100%|██████████| 3000/3000 [06:23<00:00,  7.83it/s]\n"
     ]
    },
    {
     "name": "stdout",
     "output_type": "stream",
     "text": [
      "  --> Survive 1441 Offsprings, try Populating to 3000 ones\n"
     ]
    },
    {
     "name": "stderr",
     "output_type": "stream",
     "text": [
      "  --> Evolve Generation 4 MaxIRres-7.70|MaxIRraw-5.38: 100%|██████████| 3000/3000 [06:12<00:00,  8.06it/s]\n"
     ]
    },
    {
     "name": "stdout",
     "output_type": "stream",
     "text": [
      "  --> Survive 1442 Offsprings, try Populating to 3000 ones\n"
     ]
    },
    {
     "name": "stderr",
     "output_type": "stream",
     "text": [
      "  --> Evolve Generation 5 MaxIRres-7.70|MaxIRraw+5.49: 100%|██████████| 3000/3000 [06:15<00:00,  7.99it/s]\n"
     ]
    },
    {
     "name": "stdout",
     "output_type": "stream",
     "text": [
      "**A HallofFame(500) has been Evolutionized\n",
      "**6 Generations of Evolution Done, Cost 2386.58 Secs, Free CudaMemory 20.86G - > 20.86G\n",
      "-------------------- Selection --------------------\n",
      "**HallofFame(500) Contains 259 Promising Candidates with RankIR >= 3.00\n",
      "  --> Hof__0/Elite338 (IR-7.70|Corr+0.00): log(sqrt(TURN))\n",
      "  --> Hof__4/Elite339 (IR-7.34|Corr+0.51): ts_rng_dif(RTN,40,1)\n",
      "  --> Hof_14/Elite340 (IR-6.97|Corr+0.58): ts_dwdif(RTN,DP,30)\n",
      "  --> Hof_60/Elite341 (IR-6.41|Corr+0.57): ts_top_avg(ts_rng_dif(TURN,20,7),40,5)\n",
      "  --> Hof_86/Elite342 (IR-6.26|Corr+0.24): ts_product(ts_max(TURN,9),6)\n",
      "  --> Hof142/Elite343 (IR-5.84|Corr+0.60): ts_max(RTN,7)\n",
      "  --> Hof180/Elite344 (IR+5.48|Corr-0.49): ts_dwdif(EP,amt,10)\n",
      "  --> Hof187/Elite345 (IR-5.42|Corr+0.51): rank_div(ma(TURN,4),ep)\n",
      "  --> Hof232/Elite346 (IR-5.18|Corr+0.59): ts_dwdif(TURN,ADV60,20)\n",
      "  --> Hof281/Elite347 (IR-4.86|Corr+0.47): sigmoid(ts_xbtm_yavg(BP,TURN,40,1))\n",
      "  --> Hof289/Elite348 (IR+4.78|Corr-0.25): ts_corr(power(DP,1.9),DP,7)\n",
      "  --> Hof298/Elite349 (IR-4.75|Corr+0.60): ts_xbtm_yavg(CP,ts_rng_dif(TURN,10,1),20,5)\n",
      "  --> Hof320/Elite350 (IR+4.61|Corr-0.47): rank_add(bp,ma(ts_xtop_yavg(AMT,OCFP,15,1),20))\n",
      "  --> Hof329/Elite351 (IR-4.52|Corr+0.56): rank_sub(ts_top_avg(RTN,40,5),ts_rank(pctchg(DP,2),7))\n",
      "  --> Hof340/Elite352 (IR-4.48|Corr+0.54): power(sqrt(rank_add(ts_xrng_ydif(LP,ts_xbtm_yavg(hp,OCFP,20,1),30,1),ts_top_avg(TURN,30,6))),1.3)\n",
      "  --> Hof358/Elite353 (IR-4.42|Corr+0.39): ts_dw(rank_div(ts_dwdif(ts_rng_dif(RTN,30,1),bp,20),ts_beta(OP,RTN,3)),3)\n",
      "  --> Hof372/Elite354 (IR+4.38|Corr+0.58): rank_mul(ocfp,ts_xbtm_yavg(RTN,EP,20,1))\n",
      "  --> Hof377/Elite355 (IR-4.36|Corr+0.56): ts_xbtm_yavg(OCFP,TURN,20,1)\n",
      "  --> Hof397/Elite356 (IR-4.32|Corr-0.54): ts_top_avg(ts_dwdif(vol,EP,20),30,5)\n",
      "  --> Hof410/Elite357 (IR-4.30|Corr+0.18): ts_max(rank_div(ts_dwdif(ts_rng_dif(RTN,30,1),bp,20),ts_beta(OP,RTN,3)),5)\n",
      "  --> Hof430/Elite358 (IR+4.25|Corr-0.45): ts_beta(TURN,vol,3)\n",
      "  --> Hof443/Elite359 (IR-4.21|Corr-0.59): ts_xtop_yavg(HP,ts_dwdif(RTN,OCFP,30),20,7)\n",
      "  --> Hof480/Elite360 (IR-4.12|Corr+0.49): ts_xbtm_yavg(ts_beta(ts_beta(ma(ts_rank(OP,9),10),AMT,3),AMT,6),TURN,40,1)\n",
      "**An EliteGroup(23) has been Selected\n",
      "  --> Cuda Memories of \"gp_inputs\" take 1.9266G\n",
      "  --> Cuda Memories of \"elites\"    take 1.5280G\n",
      "  --> Cuda Memories of \"tensors\"   take 0.0000G\n",
      "**Selection of HallofFame Done, Cost 37.53 Secs, Free CudaMemory 20.86G - > 20.86G\n",
      "==================== Iteration 9 start from Generation 0 ====================\n",
      "-------------------- Residual --------------------\n",
      "  -> Neutra has 23 Elements\n",
      "**Cuda Memory: Free 19.3G, Allocated 3.7G, Reserved 3.8G, Re-collect 2.1G Cache!\n",
      "**Update Residual Labels Done, Cost 5.58 Secs, Free CudaMemory 20.86G - > 20.86G\n",
      "-------------------- Setting --------------------\n",
      "**Initialize GP Toolbox Done, Cost 0.00 Secs\n",
      "-------------------- Evolution --------------------\n",
      "**A Population(3000) has been Initialized\n"
     ]
    },
    {
     "name": "stderr",
     "output_type": "stream",
     "text": [
      "  --> Evolve Generation 0 MaxIRres-7.61|MaxIRraw-5.72: 100%|██████████| 3000/3000 [07:12<00:00,  6.94it/s]\n"
     ]
    },
    {
     "name": "stdout",
     "output_type": "stream",
     "text": [
      "  --> Survive 1444 Offsprings, try Populating to 3000 ones\n"
     ]
    },
    {
     "name": "stderr",
     "output_type": "stream",
     "text": [
      "  --> Evolve Generation 1 MaxIRres-7.61|MaxIRraw-5.72: 100%|██████████| 3000/3000 [06:47<00:00,  7.36it/s]\n"
     ]
    },
    {
     "name": "stdout",
     "output_type": "stream",
     "text": [
      "  --> Survive 1460 Offsprings, try Populating to 3000 ones\n"
     ]
    },
    {
     "name": "stderr",
     "output_type": "stream",
     "text": [
      "  --> Evolve Generation 2 MaxIRres-7.61|MaxIRraw-5.66: 100%|██████████| 3000/3000 [06:31<00:00,  7.67it/s]\n"
     ]
    },
    {
     "name": "stdout",
     "output_type": "stream",
     "text": [
      "  --> Survive 1447 Offsprings, try Populating to 3000 ones\n"
     ]
    },
    {
     "name": "stderr",
     "output_type": "stream",
     "text": [
      "  --> Evolve Generation 3 MaxIRres-7.61|MaxIRraw-5.66: 100%|██████████| 3000/3000 [06:22<00:00,  7.84it/s]\n"
     ]
    },
    {
     "name": "stdout",
     "output_type": "stream",
     "text": [
      "  --> Survive 1476 Offsprings, try Populating to 3000 ones\n"
     ]
    },
    {
     "name": "stderr",
     "output_type": "stream",
     "text": [
      "  --> Evolve Generation 4 MaxIRres-7.61|MaxIRraw+5.60: 100%|██████████| 3000/3000 [06:16<00:00,  7.97it/s]\n"
     ]
    },
    {
     "name": "stdout",
     "output_type": "stream",
     "text": [
      "  --> Survive 1451 Offsprings, try Populating to 3000 ones\n"
     ]
    },
    {
     "name": "stderr",
     "output_type": "stream",
     "text": [
      "  --> Evolve Generation 5 MaxIRres-7.61|MaxIRraw-5.45: 100%|██████████| 3000/3000 [06:15<00:00,  7.99it/s]\n"
     ]
    },
    {
     "name": "stdout",
     "output_type": "stream",
     "text": [
      "**A HallofFame(500) has been Evolutionized\n",
      "**6 Generations of Evolution Done, Cost 2432.33 Secs, Free CudaMemory 20.86G - > 20.86G\n",
      "-------------------- Selection --------------------\n",
      "**HallofFame(500) Contains 270 Promising Candidates with RankIR >= 3.00\n",
      "  --> Hof__0/Elite361 (IR-7.61|Corr+0.00): log(TURN)\n",
      "  --> Hof__5/Elite362 (IR-7.29|Corr+0.51): ts_rng_dif(RTN,40,1)\n",
      "  --> Hof108/Elite363 (IR-6.20|Corr+0.51): ts_max(RTN,7)\n",
      "  --> Hof119/Elite364 (IR-6.09|Corr+0.57): ts_dwdif(TURN,ADV60,40)\n",
      "  --> Hof128/Elite365 (IR-6.04|Corr+0.51): ts_dwdif(ts_max(RTN,7),ts_xtop_yavg(BP,EP,20,4),40)\n",
      "  --> Hof137/Elite366 (IR-5.95|Corr+0.59): ts_xbtm_yavg(RTN,ts_xbtm_yavg(bp,TURN,15,4),40,9)\n",
      "  --> Hof160/Elite367 (IR+5.79|Corr-0.60): ts_dwdif(EP,vol,10)\n",
      "  --> Hof190/Elite368 (IR-5.54|Corr+0.60): rank_sub(ts_xtop_yavg(CP,TURN,15,1),ts_xtop_yavg(LP,OCFP,10,8))\n",
      "  --> Hof256/Elite369 (IR-5.19|Corr+0.51): rank_div(ts_xtop_yavg(VOL,TURN,15,2),ts_argmin(ADV60,5))\n",
      "  --> Hof264/Elite370 (IR-5.14|Corr+0.59): rank_add(vp,ts_top_avg(RTN,40,3))\n",
      "  --> Hof265/Elite371 (IR-5.14|Corr+0.37): rank_div(ts_xbtm_yavg(ts_dwdif(ts_rng_dif(adv60,40,7),ts_btm_avg(ADV20,15,3),10),TURN,20,1),ts_xbtm_yavg(ADV60,ts_top_avg(HP,40,1),10,9))\n",
      "  --> Hof350/Elite372 (IR+4.58|Corr+0.55): ts_dwdif(DP,amt,40)\n",
      "  --> Hof395/Elite373 (IR-4.44|Corr+0.60): ts_dwdif(TURN,ts_argmax(rank_mul(ts_xrng_ydif(LP,mul(hp,op),10,7),rank_div(ts_xtop_yavg(amt,bp,20,7),ts_xbtm_yavg(ep,adv60,15,4))),9),15)\n",
      "  --> Hof417/Elite374 (IR-4.41|Corr+0.57): ts_xbtm_yavg(mul(turn,adv60),TURN,20,3)\n",
      "  --> Hof433/Elite375 (IR+4.33|Corr-0.41): ts_btm_avg(pctchg(OCFP,1),40,3)\n",
      "  --> Hof463/Elite376 (IR-4.22|Corr+0.54): ts_xrng_ydif(HP,TURN,20,4)\n",
      "  --> Hof492/Elite377 (IR-4.12|Corr-0.50): ts_dwdif(RTN,ocfp,30)\n",
      "  --> Hof497/Elite378 (IR-4.12|Corr+0.53): ts_dw(log(RTN),5)\n",
      "**An EliteGroup(18) has been Selected\n",
      "  --> Cuda Memories of \"gp_inputs\" take 1.9266G\n",
      "  --> Cuda Memories of \"elites\"    take 1.1959G\n",
      "  --> Cuda Memories of \"tensors\"   take 0.0000G\n",
      "**Selection of HallofFame Done, Cost 36.66 Secs, Free CudaMemory 20.86G - > 20.86G\n",
      "==================== Total Time Cost :4 hours 44.1 ====================\n",
      "   Residual  Setting  Evolution  Selection  AvgVarAnd  AvgCompile  AvgEval        All\n",
      "0    9.6017   0.0021  2382.1222    45.2047     0.0286     0.0001    0.0174  2436.9768\n",
      "1    6.8837   0.0019  2394.4921    32.4893     0.0282     0.0001    0.0174  2433.9140\n",
      "2    6.7046   0.0018  2387.2931    36.7447     0.0288     0.0001    0.0167  2430.7944\n",
      "3    6.6981   0.0019  2388.2776    37.1466     0.0283     0.0001    0.0180  2432.1679\n",
      "4    5.5407   0.0018  2372.0393    29.0004     0.0648     0.0001    0.0170  2406.6165\n",
      "5    5.8210   0.0017  2386.5829    37.5332     0.0287     0.0001    0.0177  2429.9782\n",
      "6    5.5800   0.0018  2432.3257    36.6562     0.0292     0.0001    0.0166  2474.6031\n",
      "  --> Avg Freed Cuda Memory: \n",
      "  --> factor : 323 counts, on average freed 9.25G\n"
     ]
    }
   ],
   "source": [
    "# 真实测试，job_id=-1代表在新的pop的子文件夹中保存结果，如果强制要求在已有文件夹基础上继续训练，代码可能要再修改\n",
    "from gp_main import main\n",
    "profiler = main(job_id= 0 , start_iter=3 , start_gen=0 , test_code = False , noWith = True , neut_method = 0 , n_iter = 10 , residual_type = 'all')"
   ]
  },
  {
   "cell_type": "code",
   "execution_count": 15,
   "metadata": {},
   "outputs": [
    {
     "name": "stdout",
     "output_type": "stream",
     "text": [
      "(1, 2, 3)\n",
      "{'d': 4}\n",
      "1 2 3 4\n"
     ]
    }
   ],
   "source": [
    "def decor(func):\n",
    "    def wrapper(*args , **kwargs):\n",
    "        print(args)\n",
    "        print(kwargs)\n",
    "        func(*args , **kwargs)\n",
    "    return wrapper\n",
    "\n",
    "@decor\n",
    "def f(a,b,c,d,**kwargs):\n",
    "    print(a,b,c,d)\n",
    "\n",
    "\n",
    "f(1,2,3,d=4)"
   ]
  },
  {
   "cell_type": "code",
   "execution_count": 2,
   "metadata": {},
   "outputs": [
    {
     "ename": "RuntimeError",
     "evalue": "Expected all tensors to be on the same device, but found at least two devices, cpu and cuda:0! (when checking argument for argument tensors in method wrapper_CUDA_cat)",
     "output_type": "error",
     "traceback": [
      "\u001b[0;31m---------------------------------------------------------------------------\u001b[0m",
      "\u001b[0;31mRuntimeError\u001b[0m                              Traceback (most recent call last)",
      "Cell \u001b[0;32mIn[2], line 4\u001b[0m\n\u001b[1;32m      2\u001b[0m a \u001b[38;5;241m=\u001b[39m torch\u001b[38;5;241m.\u001b[39mTensor()\n\u001b[1;32m      3\u001b[0m b \u001b[38;5;241m=\u001b[39m torch\u001b[38;5;241m.\u001b[39mrand(\u001b[38;5;241m100\u001b[39m)\u001b[38;5;241m.\u001b[39mcuda()\n\u001b[0;32m----> 4\u001b[0m \u001b[43mtorch\u001b[49m\u001b[38;5;241;43m.\u001b[39;49m\u001b[43mcat\u001b[49m\u001b[43m(\u001b[49m\u001b[43m[\u001b[49m\u001b[43ma\u001b[49m\u001b[43m \u001b[49m\u001b[43m,\u001b[49m\u001b[43m \u001b[49m\u001b[43mb\u001b[49m\u001b[43m]\u001b[49m\u001b[43m)\u001b[49m\n",
      "\u001b[0;31mRuntimeError\u001b[0m: Expected all tensors to be on the same device, but found at least two devices, cpu and cuda:0! (when checking argument for argument tensors in method wrapper_CUDA_cat)"
     ]
    }
   ],
   "source": [
    "import torch\n",
    "a = torch.Tensor()\n",
    "b = torch.rand(100).cuda()\n",
    "torch.cat([a , b])"
   ]
  },
  {
   "cell_type": "code",
   "execution_count": 1,
   "metadata": {},
   "outputs": [
    {
     "name": "stdout",
     "output_type": "stream",
     "text": [
      "**Job Directory is : \"./pop/bendi\"\n",
      "-------------------- Data --------------------\n",
      "  --> Directly load \"./data/package/gp_data_package_test.pt\"\n",
      "**Load Data Done, Cost 0.06 Secs\n",
      "  --> 2 factors, 2 raw data loaded!\n"
     ]
    }
   ],
   "source": [
    "# 给定因子表达式,得到全样本区间的因子值\n",
    "import torch\n",
    "from gp_main import gp_factor_generator\n",
    "import gp_factor_func as FF\n",
    "\n",
    "gp_space = gp_factor_generator(job_id = 'bendi')\n",
    "\n",
    "a = gp_space.compile('ts_rng_dif(CP,10,1)' , 'inf_trim_norm')\n",
    "b = gp_space.compile('ts_rank(turn,10)' , 'inf_trim_norm')"
   ]
  },
  {
   "cell_type": "code",
   "execution_count": 3,
   "metadata": {},
   "outputs": [
    {
     "data": {
      "text/plain": [
       "tensor([[    nan,     nan,     nan,  ...,     nan,     nan,     nan],\n",
       "        [    nan,     nan,     nan,  ...,     nan,     nan,     nan],\n",
       "        [    nan,     nan,     nan,  ...,     nan,     nan,     nan],\n",
       "        ...,\n",
       "        [ 0.0022,  0.0037, -0.0156,  ...,  0.0144, -0.0380,  0.0089],\n",
       "        [-0.0042, -0.0027, -0.0115,  ...,  0.0159, -0.0330,  0.0100],\n",
       "        [-0.0007, -0.0021, -0.0120,  ...,  0.0155, -0.0294,  0.0069]])"
      ]
     },
     "execution_count": 3,
     "metadata": {},
     "output_type": "execute_result"
    }
   ],
   "source": [
    "# 基于多个单因子,计算多因子\n",
    "factor = torch.stack([a,b] , dim = -1)\n",
    "labels = gp_space.tensors.labels_raw\n",
    "\n",
    "multi_factor = FF.MultiFactor(\n",
    "    weight_scheme = 'ir', window_type = 'rolling', weight_decay= 'exp' ,\n",
    "    universe = gp_space.tensors.universe , insample = gp_space.tensors.insample ,\n",
    "    ir_window = 40 , roll_window = 40 , halflife = 20)\n",
    "\n",
    "metrics = multi_factor.calculate_icir(factor , labels , universe = gp_space.tensors.universe) # namespace of ic,ir\n",
    "multi = multi_factor.multi_factor(factor , window_type='rolling',**metrics)\n",
    "multi.get('multi') # multi对象拥有multi,weight,inputs三个自变量,用multi.multi也行"
   ]
  }
 ],
 "metadata": {
  "kernelspec": {
   "display_name": "base",
   "language": "python",
   "name": "python3"
  },
  "language_info": {
   "codemirror_mode": {
    "name": "ipython",
    "version": 3
   },
   "file_extension": ".py",
   "mimetype": "text/x-python",
   "name": "python",
   "nbconvert_exporter": "python",
   "pygments_lexer": "ipython3",
   "version": "3.10.12"
  }
 },
 "nbformat": 4,
 "nbformat_minor": 2
}
