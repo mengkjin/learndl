{
 "cells": [
  {
   "cell_type": "code",
   "execution_count": 1,
   "metadata": {},
   "outputs": [
    {
     "name": "stdout",
     "output_type": "stream",
     "text": [
      "  --> Pop directory is : \"./pop/bendi\"\n",
      "**Device name: NVIDIA GeForce RTX 4090 , Available: True\n",
      "  --> Directly load ./data/package/gp_data_package_test.pt\n",
      "  --> 2 factors, 2 raw data loaded!\n",
      "**Load Data Done, cost 0.19 secs\n",
      " ------------------------------- Outer Loop 0 -------------------------------\n",
      "**Initialize GP Toolbox Done, cost 0.00 secs\n",
      "**A Population(4) has been Initialized\n"
     ]
    },
    {
     "name": "stderr",
     "output_type": "stream",
     "text": [
      "  --> Evolve Generation 0: 100%|██████████| 4/4 [00:00<00:00, 13.94it/s]\n"
     ]
    },
    {
     "name": "stdout",
     "output_type": "stream",
     "text": [
      "**A HallofFame(2) has been Evolutionized\n",
      "**1 Generations of Evolution Done, cost 0.41 secs\n",
      "  --> HallofFame(2) Contains 1 Promising Candidates with RankIR >= 2.00\n",
      "     --> Good sign candidate : 1 , valid 2\n",
      "     --> Good 0: RankIR -4.32 MaxCorr 0.00: turn\n",
      "     --> Cuda Memories of good_logs , gp_values and others take 0.08G\n",
      "**Select HallofFamers Save Factor Values Done, cost 6.95 secs\n",
      "**The HallofFame(2) Eventually has 1 Outstanders\n",
      "     --> Old and New nans: 449561/449561 , infs: 0/0 , ~0s: 2521640/2521640 , ~nans: 2072079/2072079\n",
      "**Update Residual Labels and Dump Results Done, cost 0.50 secs\n",
      " ------------------------------- Outer Loop 1 -------------------------------\n",
      "**Initialize GP Toolbox Done, cost 0.00 secs\n",
      "**A Population(4) has been Initialized\n"
     ]
    },
    {
     "name": "stderr",
     "output_type": "stream",
     "text": [
      "  --> Evolve Generation 0: 100%|██████████| 4/4 [00:00<00:00, 74.54it/s]"
     ]
    },
    {
     "name": "stdout",
     "output_type": "stream",
     "text": [
      "**A HallofFame(2) has been Evolutionized\n",
      "**1 Generations of Evolution Done, cost 0.16 secs\n"
     ]
    },
    {
     "name": "stderr",
     "output_type": "stream",
     "text": [
      "\n"
     ]
    },
    {
     "name": "stdout",
     "output_type": "stream",
     "text": [
      "  --> HallofFame(2) Contains 2 Promising Candidates with RankIR >= 2.00\n",
      "     --> Good sign candidate : 2 , valid 2\n",
      "     --> Good 1: RankIR -5.79 MaxCorr 0.00: ts_rng_dif(TURN,15,6)\n",
      "     --> Good 2: RankIR -4.28 MaxCorr 0.27: ma(turn,4)\n",
      "     --> Cuda Memories of good_logs , gp_values and others take 0.08G\n",
      "**Select HallofFamers Save Factor Values Done, cost 13.17 secs\n",
      "**The HallofFame(2) Eventually has 2 Outstanders\n",
      "     --> Old and New nans: 449561/449561 , infs: 0/0 , ~0s: 2521640/2464459 , ~nans: 2072079/2072079\n",
      "**Update Residual Labels and Dump Results Done, cost 0.40 secs\n",
      "------------------------------- Total Time Cost :0 hours 0.4 -------------------------------\n",
      "   Setting  Evolution  Selection  Neu_dump  AvgVarAnd  AvgCompile  AvgEval      All\n",
      "0   0.0015     0.4124     6.9501    0.5036     0.0005     0.0001    0.0446   7.8678\n",
      "1   0.0009     0.1628    13.1720    0.3985     0.0008     0.0001    0.0069  13.7344\n"
     ]
    }
   ],
   "source": [
    "# 测试代码跑起来有没有问题，参数都设的很小，应该在一两分钟内执行完\n",
    "from gp_main import main\n",
    "profiler = main(True , job_id= -1 , profiling=True , profiler_out='cprofile.csv')"
   ]
  },
  {
   "cell_type": "code",
   "execution_count": 4,
   "metadata": {},
   "outputs": [
    {
     "data": {
      "text/html": [
       "<div>\n",
       "<style scoped>\n",
       "    .dataframe tbody tr th:only-of-type {\n",
       "        vertical-align: middle;\n",
       "    }\n",
       "\n",
       "    .dataframe tbody tr th {\n",
       "        vertical-align: top;\n",
       "    }\n",
       "\n",
       "    .dataframe thead th {\n",
       "        text-align: right;\n",
       "    }\n",
       "</style>\n",
       "<table border=\"1\" class=\"dataframe\">\n",
       "  <thead>\n",
       "    <tr style=\"text-align: right;\">\n",
       "      <th></th>\n",
       "      <th>type</th>\n",
       "      <th>name</th>\n",
       "      <th>ncalls</th>\n",
       "      <th>ccalls</th>\n",
       "      <th>tottime</th>\n",
       "      <th>cumtime</th>\n",
       "      <th>where</th>\n",
       "      <th>memory</th>\n",
       "      <th>full_name</th>\n",
       "      <th>caller</th>\n",
       "    </tr>\n",
       "  </thead>\n",
       "  <tbody>\n",
       "    <tr>\n",
       "      <th>196</th>\n",
       "      <td>built-in-method</td>\n",
       "      <td>gc.collect</td>\n",
       "      <td>11</td>\n",
       "      <td>0</td>\n",
       "      <td>1.1878</td>\n",
       "      <td>1.1878</td>\n",
       "      <td></td>\n",
       "      <td></td>\n",
       "      <td>&lt;built-in method gc.collect&gt;</td>\n",
       "      <td>None</td>\n",
       "    </tr>\n",
       "    <tr>\n",
       "      <th>404</th>\n",
       "      <td>function</td>\n",
       "      <td>write_column</td>\n",
       "      <td>15633</td>\n",
       "      <td>0</td>\n",
       "      <td>15.3245</td>\n",
       "      <td>1.0178</td>\n",
       "      <td>\"/home/mengkjin/.local/lib/python3.10/site-pac...</td>\n",
       "      <td>0x7f40b50a49d0</td>\n",
       "      <td>&lt;code object write_column at 0x7f40b50a49d0, f...</td>\n",
       "      <td>[(&lt;code object name at 0x7f42028bf470, file \"/...</td>\n",
       "    </tr>\n",
       "    <tr>\n",
       "      <th>90</th>\n",
       "      <td>built-in-method</td>\n",
       "      <td>builtins.isinstance</td>\n",
       "      <td>3831316</td>\n",
       "      <td>46946</td>\n",
       "      <td>1.0066</td>\n",
       "      <td>0.6506</td>\n",
       "      <td></td>\n",
       "      <td></td>\n",
       "      <td>&lt;built-in method builtins.isinstance&gt;</td>\n",
       "      <td>[(&lt;code object _instancecheck at 0x7f42039702f...</td>\n",
       "    </tr>\n",
       "    <tr>\n",
       "      <th>894</th>\n",
       "      <td>function</td>\n",
       "      <td>apply</td>\n",
       "      <td>15649</td>\n",
       "      <td>0</td>\n",
       "      <td>0.8136</td>\n",
       "      <td>0.5306</td>\n",
       "      <td>\"/home/mengkjin/.local/lib/python3.10/site-pac...</td>\n",
       "      <td>0x7f42027cc920</td>\n",
       "      <td>&lt;code object apply at 0x7f42027cc920, file \"/h...</td>\n",
       "      <td>[(&lt;code object extend_blocks at 0x7f4202993520...</td>\n",
       "    </tr>\n",
       "    <tr>\n",
       "      <th>1198</th>\n",
       "      <td>function</td>\n",
       "      <td>__init__</td>\n",
       "      <td>45609</td>\n",
       "      <td>4</td>\n",
       "      <td>3.3032</td>\n",
       "      <td>0.4950</td>\n",
       "      <td>\"/home/mengkjin/.local/lib/python3.10/site-pac...</td>\n",
       "      <td>0x7f4202ca0500</td>\n",
       "      <td>&lt;code object __init__ at 0x7f4202ca0500, file ...</td>\n",
       "      <td>[(&lt;code object sanitize_array at 0x7f420315466...</td>\n",
       "    </tr>\n",
       "    <tr>\n",
       "      <th>...</th>\n",
       "      <td>...</td>\n",
       "      <td>...</td>\n",
       "      <td>...</td>\n",
       "      <td>...</td>\n",
       "      <td>...</td>\n",
       "      <td>...</td>\n",
       "      <td>...</td>\n",
       "      <td>...</td>\n",
       "      <td>...</td>\n",
       "      <td>...</td>\n",
       "    </tr>\n",
       "    <tr>\n",
       "      <th>2162</th>\n",
       "      <td>function</td>\n",
       "      <td>is_set</td>\n",
       "      <td>48</td>\n",
       "      <td>0</td>\n",
       "      <td>0.0000</td>\n",
       "      <td>0.0000</td>\n",
       "      <td>\"/usr/lib/python3.10/threading.py\",553</td>\n",
       "      <td>0x7f42cc84cd40</td>\n",
       "      <td>&lt;code object is_set at 0x7f42cc84cd40, file \"/...</td>\n",
       "      <td>None</td>\n",
       "    </tr>\n",
       "    <tr>\n",
       "      <th>1643</th>\n",
       "      <td>function</td>\n",
       "      <td>OpenFile</td>\n",
       "      <td>1</td>\n",
       "      <td>0</td>\n",
       "      <td>0.0000</td>\n",
       "      <td>0.0000</td>\n",
       "      <td>\"/home/mengkjin/.local/lib/python3.10/site-pac...</td>\n",
       "      <td>0x7f42a56cc660</td>\n",
       "      <td>&lt;code object OpenFile at 0x7f42a56cc660, file ...</td>\n",
       "      <td>None</td>\n",
       "    </tr>\n",
       "    <tr>\n",
       "      <th>1735</th>\n",
       "      <td>built-in-method</td>\n",
       "      <td>numpy.asanyarray</td>\n",
       "      <td>30</td>\n",
       "      <td>0</td>\n",
       "      <td>0.0000</td>\n",
       "      <td>0.0000</td>\n",
       "      <td></td>\n",
       "      <td></td>\n",
       "      <td>&lt;built-in method numpy.asanyarray&gt;</td>\n",
       "      <td>None</td>\n",
       "    </tr>\n",
       "    <tr>\n",
       "      <th>1639</th>\n",
       "      <td>function</td>\n",
       "      <td>Transaction</td>\n",
       "      <td>1</td>\n",
       "      <td>0</td>\n",
       "      <td>0.0000</td>\n",
       "      <td>0.0000</td>\n",
       "      <td>\"/home/mengkjin/.local/lib/python3.10/site-pac...</td>\n",
       "      <td>0x7f42a56b6e40</td>\n",
       "      <td>&lt;code object Transaction at 0x7f42a56b6e40, fi...</td>\n",
       "      <td>None</td>\n",
       "    </tr>\n",
       "    <tr>\n",
       "      <th>2320</th>\n",
       "      <td>function</td>\n",
       "      <td>__init__</td>\n",
       "      <td>42</td>\n",
       "      <td>0</td>\n",
       "      <td>0.0000</td>\n",
       "      <td>0.0000</td>\n",
       "      <td>\"/usr/lib/python3.10/codecs.py\",260</td>\n",
       "      <td>0x7f42ccd17c00</td>\n",
       "      <td>&lt;code object __init__ at 0x7f42ccd17c00, file ...</td>\n",
       "      <td>None</td>\n",
       "    </tr>\n",
       "  </tbody>\n",
       "</table>\n",
       "<p>2321 rows × 10 columns</p>\n",
       "</div>"
      ],
      "text/plain": [
       "                 type                 name   ncalls  ccalls  tottime  cumtime  \\\n",
       "196   built-in-method           gc.collect       11       0   1.1878   1.1878   \n",
       "404          function         write_column    15633       0  15.3245   1.0178   \n",
       "90    built-in-method  builtins.isinstance  3831316   46946   1.0066   0.6506   \n",
       "894          function                apply    15649       0   0.8136   0.5306   \n",
       "1198         function             __init__    45609       4   3.3032   0.4950   \n",
       "...               ...                  ...      ...     ...      ...      ...   \n",
       "2162         function               is_set       48       0   0.0000   0.0000   \n",
       "1643         function             OpenFile        1       0   0.0000   0.0000   \n",
       "1735  built-in-method     numpy.asanyarray       30       0   0.0000   0.0000   \n",
       "1639         function          Transaction        1       0   0.0000   0.0000   \n",
       "2320         function             __init__       42       0   0.0000   0.0000   \n",
       "\n",
       "                                                  where          memory  \\\n",
       "196                                                                       \n",
       "404   \"/home/mengkjin/.local/lib/python3.10/site-pac...  0x7f40b50a49d0   \n",
       "90                                                                        \n",
       "894   \"/home/mengkjin/.local/lib/python3.10/site-pac...  0x7f42027cc920   \n",
       "1198  \"/home/mengkjin/.local/lib/python3.10/site-pac...  0x7f4202ca0500   \n",
       "...                                                 ...             ...   \n",
       "2162             \"/usr/lib/python3.10/threading.py\",553  0x7f42cc84cd40   \n",
       "1643  \"/home/mengkjin/.local/lib/python3.10/site-pac...  0x7f42a56cc660   \n",
       "1735                                                                      \n",
       "1639  \"/home/mengkjin/.local/lib/python3.10/site-pac...  0x7f42a56b6e40   \n",
       "2320                \"/usr/lib/python3.10/codecs.py\",260  0x7f42ccd17c00   \n",
       "\n",
       "                                              full_name  \\\n",
       "196                        <built-in method gc.collect>   \n",
       "404   <code object write_column at 0x7f40b50a49d0, f...   \n",
       "90                <built-in method builtins.isinstance>   \n",
       "894   <code object apply at 0x7f42027cc920, file \"/h...   \n",
       "1198  <code object __init__ at 0x7f4202ca0500, file ...   \n",
       "...                                                 ...   \n",
       "2162  <code object is_set at 0x7f42cc84cd40, file \"/...   \n",
       "1643  <code object OpenFile at 0x7f42a56cc660, file ...   \n",
       "1735                 <built-in method numpy.asanyarray>   \n",
       "1639  <code object Transaction at 0x7f42a56b6e40, fi...   \n",
       "2320  <code object __init__ at 0x7f42ccd17c00, file ...   \n",
       "\n",
       "                                                 caller  \n",
       "196                                                None  \n",
       "404   [(<code object name at 0x7f42028bf470, file \"/...  \n",
       "90    [(<code object _instancecheck at 0x7f42039702f...  \n",
       "894   [(<code object extend_blocks at 0x7f4202993520...  \n",
       "1198  [(<code object sanitize_array at 0x7f420315466...  \n",
       "...                                                 ...  \n",
       "2162                                               None  \n",
       "1643                                               None  \n",
       "1735                                               None  \n",
       "1639                                               None  \n",
       "2320                                               None  \n",
       "\n",
       "[2321 rows x 10 columns]"
      ]
     },
     "execution_count": 4,
     "metadata": {},
     "output_type": "execute_result"
    }
   ],
   "source": [
    "profiler.get_df(sort_on='cumtime' , highlight= None , output = 'cprofile.csv')"
   ]
  },
  {
   "cell_type": "code",
   "execution_count": 2,
   "metadata": {},
   "outputs": [
    {
     "data": {
      "text/html": [
       "<div>\n",
       "<style scoped>\n",
       "    .dataframe tbody tr th:only-of-type {\n",
       "        vertical-align: middle;\n",
       "    }\n",
       "\n",
       "    .dataframe tbody tr th {\n",
       "        vertical-align: top;\n",
       "    }\n",
       "\n",
       "    .dataframe thead th {\n",
       "        text-align: right;\n",
       "    }\n",
       "</style>\n",
       "<table border=\"1\" class=\"dataframe\">\n",
       "  <thead>\n",
       "    <tr style=\"text-align: right;\">\n",
       "      <th></th>\n",
       "      <th>type</th>\n",
       "      <th>name</th>\n",
       "      <th>ncalls</th>\n",
       "      <th>ccalls</th>\n",
       "      <th>tottime</th>\n",
       "      <th>cumtime</th>\n",
       "      <th>where</th>\n",
       "      <th>memory</th>\n",
       "      <th>full_name</th>\n",
       "      <th>caller</th>\n",
       "    </tr>\n",
       "  </thead>\n",
       "  <tbody>\n",
       "    <tr>\n",
       "      <th>196</th>\n",
       "      <td>built-in-method</td>\n",
       "      <td>gc.collect</td>\n",
       "      <td>11</td>\n",
       "      <td>0</td>\n",
       "      <td>1.1878</td>\n",
       "      <td>1.1878</td>\n",
       "      <td></td>\n",
       "      <td></td>\n",
       "      <td>&lt;built-in method gc.collect&gt;</td>\n",
       "      <td>None</td>\n",
       "    </tr>\n",
       "    <tr>\n",
       "      <th>2278</th>\n",
       "      <td>function</td>\n",
       "      <td>_gcd_import</td>\n",
       "      <td>4</td>\n",
       "      <td>0</td>\n",
       "      <td>0.0434</td>\n",
       "      <td>0.0000</td>\n",
       "      <td>\"&lt;frozen importlib._bootstrap&gt;\",1038</td>\n",
       "      <td>0x7f42ccce0660</td>\n",
       "      <td>&lt;code object _gcd_import at 0x7f42ccce0660, fi...</td>\n",
       "      <td>[(&lt;code object _find_and_load at 0x7f42ccce05b...</td>\n",
       "    </tr>\n",
       "  </tbody>\n",
       "</table>\n",
       "</div>"
      ],
      "text/plain": [
       "                 type         name  ncalls  ccalls  tottime  cumtime  \\\n",
       "196   built-in-method   gc.collect      11       0   1.1878   1.1878   \n",
       "2278         function  _gcd_import       4       0   0.0434   0.0000   \n",
       "\n",
       "                                     where          memory  \\\n",
       "196                                                          \n",
       "2278  \"<frozen importlib._bootstrap>\",1038  0x7f42ccce0660   \n",
       "\n",
       "                                              full_name  \\\n",
       "196                        <built-in method gc.collect>   \n",
       "2278  <code object _gcd_import at 0x7f42ccce0660, fi...   \n",
       "\n",
       "                                                 caller  \n",
       "196                                                None  \n",
       "2278  [(<code object _find_and_load at 0x7f42ccce05b...  "
      ]
     },
     "execution_count": 2,
     "metadata": {},
     "output_type": "execute_result"
    }
   ],
   "source": [
    "profiler.get_df(highlight='gc').sort_values('cumtime',ascending=False)"
   ]
  },
  {
   "cell_type": "code",
   "execution_count": 4,
   "metadata": {},
   "outputs": [
    {
     "name": "stdout",
     "output_type": "stream",
     "text": [
      "     --> Good   4: RankIR -0.10 MaxCorr  0.20: \n",
      "     --> Good  55: RankIR  0.10 MaxCorr  0.20: \n"
     ]
    }
   ],
   "source": [
    "i_good , x , max_corr =  4, -0.1,0.2\n",
    "\n",
    "print(f'     --> Good {i_good:3d}: RankIR {x: .2f} MaxCorr {max_corr: .2f}: ')\n",
    "print(f'     --> Good {55:3d}: RankIR {-x: .2f} MaxCorr {max_corr: .2f}: ')"
   ]
  },
  {
   "cell_type": "code",
   "execution_count": null,
   "metadata": {},
   "outputs": [],
   "source": []
  },
  {
   "cell_type": "code",
   "execution_count": 1,
   "metadata": {},
   "outputs": [
    {
     "name": "stdout",
     "output_type": "stream",
     "text": [
      "  --> Pop directory is : \"./pop/0\"\n",
      "**Device name: NVIDIA GeForce RTX 4090 , Available: True\n",
      "Beware! future information used!\n",
      "**Load Data Done, cost 49.36 secs\n",
      " ------------------------------- Outer Loop 0 -------------------------------\n",
      "**Initialize GP Toolbox Done, cost 0.00 secs\n"
     ]
    },
    {
     "name": "stderr",
     "output_type": "stream",
     "text": [
      "  --> Evolve Generation 0: 100%|██████████| 3000/3000 [05:50<00:00,  8.55it/s]\n",
      "  --> Evolve Generation 1: 100%|██████████| 3000/3000 [05:39<00:00,  8.82it/s]\n",
      "  --> Evolve Generation 2: 100%|██████████| 3000/3000 [05:44<00:00,  8.71it/s]\n",
      "  --> Evolve Generation 3: 100%|██████████| 3000/3000 [06:08<00:00,  8.14it/s]\n",
      "  --> Evolve Generation 4: 100%|██████████| 3000/3000 [06:40<00:00,  7.50it/s]\n",
      "  --> Evolve Generation 5: 100%|██████████| 3000/3000 [07:15<00:00,  6.89it/s]\n"
     ]
    },
    {
     "name": "stdout",
     "output_type": "stream",
     "text": [
      "**A HallofFame(500) has been Evolutionized\n",
      "**6 Generations of Evolution Done, cost 2248.53 secs\n",
      "**Cuda Memory: Free 16.7G, Allocated 2.2G, Reserved 6.5G, Re-collect 9.0G Cache!\n",
      "  --> HallofFame(500) Contains 500 Promising Candidates with RankIR >= 3.00\n",
      "     --> Good 0: RankIR -6.52 MaxCorr 0.00: sub(vol,ts_beta(BP,TURN,7))\n",
      "     --> Good 1: RankIR 6.29 MaxCorr 0.54: ma(ts_beta(BP,TURN,8),8)\n",
      "     --> Good 2: RankIR 6.28 MaxCorr 0.54: ts_beta(BP,TURN,4)\n",
      "     --> Good 3: RankIR -5.87 MaxCorr 0.56: sub(adv20,ts_beta(BP,VOL,5))\n",
      "     --> Good 4: RankIR -5.81 MaxCorr 0.48: sub(ts_rng_dif(TURN,10,1),rank_add(ts_cov(rank_mul(hp,bp),ts_xtop_yavg(OP,ts_corr(RTN,LP,8),10,7),8),ep))\n",
      "     --> Good 5: RankIR 5.74 MaxCorr 0.58: ts_beta(BP,AMT,6)\n",
      "     --> Good 6: RankIR 5.73 MaxCorr 0.57: ts_beta(BP,VOL,9)\n",
      "     --> Good 7: RankIR -5.62 MaxCorr 0.56: ts_stddev(ts_rng_dif(TURN,10,5),7)\n",
      "     --> Good 8: RankIR -5.46 MaxCorr 0.42: ts_xbtm_yavg(BP,sqrt(amt),10,3)\n",
      "     --> Good 9: RankIR -5.36 MaxCorr 0.56: ts_corr(TURN,AMT,2)\n",
      "     --> Good 10: RankIR 5.30 MaxCorr 0.44: ts_beta(EP,TURN,5)\n",
      "     --> Good 11: RankIR 5.21 MaxCorr 0.49: ts_beta(BP,VOL,3)\n",
      "     --> Good 12: RankIR 5.20 MaxCorr 0.56: ts_beta(EP,TURN,9)\n",
      "     --> Good 13: RankIR -5.20 MaxCorr 0.01: mul(square(ts_corr(TURN,AMT,5)),ts_rng_dif(ADV60,20,6))\n",
      "     --> Good 14: RankIR 5.19 MaxCorr 0.20: ma(ts_beta(BP,TURN,2),8)\n",
      "     --> Good 15: RankIR -5.09 MaxCorr 0.37: square(div(ts_dw(ts_beta(RTN,TURN,8),5),rank_add(sigmoid(ts_beta(ADV20,RTN,3)),ts_argmax(ts_dw(ocfp,8),2))))\n",
      "     --> Good 16: RankIR -5.01 MaxCorr 0.59: ts_rng_dif(TURN,40,1)\n",
      "     --> Good 17: RankIR -5.01 MaxCorr 0.37: square(ts_beta(EP,VOL,8))\n",
      "     --> Good 18: RankIR -5.00 MaxCorr 0.59: rank_sub(ts_rng_dif(TURN,40,8),dp)\n",
      "     --> Good 19: RankIR -4.99 MaxCorr 0.56: ts_beta(CP,TURN,7)\n",
      "     --> Good 20: RankIR -4.97 MaxCorr 0.59: rank_sub(ts_btm_avg(TURN,10,1),rank(ep))\n",
      "     --> Good 21: RankIR -4.96 MaxCorr 0.58: sub(ts_rng_dif(TURN,10,9),rank_add(ts_cov(rank_mul(hp,bp),ts_xtop_yavg(OP,ts_corr(RTN,AMT,8),10,7),8),ts_xrng_ydif(EP,ts_min(amt,7),40,4)))\n",
      "     --> Good 22: RankIR -4.95 MaxCorr 0.42: add(ts_max(rank_mul(ts_rng_dif(VOL,10,7),amt),7),ts_dwdif(ts_beta(EP,DP,3),ts_btm_avg(BP,15,4),10))\n",
      "     --> Good 23: RankIR -4.94 MaxCorr 0.59: rank_mul(ts_cov(vol,adv20,7),ts_rng_dif(TURN,10,3))\n",
      "     --> Good 24: RankIR -4.93 MaxCorr 0.54: square(ts_beta(EP,VOL,5))\n",
      "     --> Good 25: RankIR -4.92 MaxCorr 0.58: rank_div(ts_top_avg(TURN,20,1),power(bp,2.21))\n",
      "     --> Good 26: RankIR -4.88 MaxCorr 0.58: rank_mul(ts_cov(op,adv20,7),ts_rng_dif(TURN,20,3))\n",
      "     --> Good 27: RankIR -4.87 MaxCorr 0.59: ts_corr(VOL,AMT,5)\n",
      "     --> Good 28: RankIR -4.87 MaxCorr 0.52: ts_corr(TURN,CP,9)\n",
      "     --> Good 29: RankIR -4.86 MaxCorr 0.00: power(ts_corr(VOL,AMT,6),2.15)\n",
      "     --> Good 30: RankIR -4.85 MaxCorr 0.49: rank_mul(square(ts_dw(vol,9)),ma(rank_div(adv20,ts_delay(rank(ep),2)),20))\n",
      "     --> Good 31: RankIR 4.85 MaxCorr 0.32: ts_beta(HP,LP,10)\n",
      "     --> Good 32: RankIR -4.84 MaxCorr 0.50: ts_dw(ts_beta(VP,TURN,3),5)\n",
      "     --> Good 33: RankIR -4.82 MaxCorr 0.47: ts_xrng_ydif(TURN,add(vp,ts_btm_avg(TURN,10,9)),20,4)\n",
      "     --> Good 34: RankIR -4.82 MaxCorr 0.52: rank_sub(ts_rng_dif(TURN,15,1),ts_delay(mul(pctchg(turn,8),ts_delta(vp,2)),9))\n",
      "     --> Good 35: RankIR -4.80 MaxCorr 0.58: log(ts_max(vol,4))\n",
      "     --> Good 36: RankIR -4.79 MaxCorr 0.55: log(rank(ts_beta(VP,HP,10)))\n",
      "     --> Good 37: RankIR -4.78 MaxCorr 0.48: rank_add(ts_corr(TURN,AMT,3),rank_sub(vol,ocfp))\n",
      "     --> Good 38: RankIR -4.76 MaxCorr 0.58: sqrt(power(ts_dw(ts_xtop_yavg(CP,square(vol),15,5),2),2.28))\n",
      "     --> Good 39: RankIR 4.75 MaxCorr 0.50: ts_beta(EP,TURN,3)\n",
      "     --> Good 40: RankIR 4.75 MaxCorr 0.54: sub(ocfp,ma(ts_rng_dif(VOL,10,6),2))\n",
      "     --> Good 41: RankIR -4.75 MaxCorr 0.53: square(ts_stddev(ts_top_avg(VOL,10,10),2))\n",
      "     --> Good 42: RankIR -4.72 MaxCorr 0.57: ts_xbtm_yavg(VP,ts_beta(CP,TURN,5),10,8)\n",
      "     --> Good 43: RankIR 4.72 MaxCorr 0.46: rank_div(rank_add(sign(VP),dp),ts_rng_dif(VOL,15,2))\n",
      "     --> Good 44: RankIR 4.71 MaxCorr 0.58: ts_beta(EP,AMT,6)\n",
      "     --> Good 45: RankIR -4.70 MaxCorr 0.51: ts_corr(CP,AMT,6)\n",
      "     --> Good 46: RankIR 4.69 MaxCorr 0.29: ts_min(ts_beta(DP,TURN,4),9)\n",
      "     --> Good 47: RankIR -4.68 MaxCorr 0.59: ts_max(ts_xrng_ydif(CP,add(vol,adv20),10,3),8)\n",
      "     --> Good 48: RankIR 4.67 MaxCorr 0.54: ts_beta(DP,VOL,7)\n",
      "     --> Good 49: RankIR -4.66 MaxCorr 0.26: ts_dw(ts_cov(hp,rank_sub(add(amt,ocfp),ts_xbtm_yavg(RTN,turn,40,2)),6),8)\n",
      "     --> Good 50: RankIR -4.65 MaxCorr 0.28: mul(ts_max(ts_product(turn,10),7),square(ts_cov(amt,vp,5)))\n",
      "     --> Good 51: RankIR -4.65 MaxCorr 0.44: ts_xtop_yavg(CP,amt,40,2)\n",
      "     --> Good 52: RankIR -4.64 MaxCorr 0.52: rank_mul(ts_cov(vol,turn,7),ts_rng_dif(AMT,10,3))\n",
      "     --> Good 53: RankIR -4.64 MaxCorr 0.46: ma(ts_corr(AMT,VP,3),15)\n",
      "     --> Good 54: RankIR -4.64 MaxCorr 0.59: sub(ts_rng_dif(VOL,15,10),rank_div(hp,cp))\n",
      "     --> Good 55: RankIR -4.62 MaxCorr 0.51: ts_dw(ts_cov(hp,rank_sub(add(amt,ocfp),ts_xbtm_yavg(RTN,turn,15,9)),6),8)\n",
      "     --> Good 56: RankIR -4.61 MaxCorr 0.60: rank_add(amt,ts_rng_dif(ADV60,20,7))\n",
      "     --> Good 57: RankIR 4.60 MaxCorr 0.58: ts_beta(EP,VOL,4)\n",
      "     --> Good 58: RankIR -4.60 MaxCorr 0.49: square(div(ts_dw(ts_beta(CP,TURN,8),5),rank_add(sigmoid(ts_beta(ADV20,RTN,3)),ts_argmax(ts_dw(ocfp,8),2))))\n",
      "     --> Good 59: RankIR -4.58 MaxCorr 0.47: rank(ts_dw(ts_rankcorr(cp,turn,9),8))\n",
      "     --> Good 60: RankIR -4.58 MaxCorr 0.45: square(ts_beta(EP,VOL,3))\n",
      "     --> Good 61: RankIR -4.55 MaxCorr 0.47: ts_xbtm_yavg(VP,ts_beta(CP,TURN,5),10,1)\n",
      "     --> Good 62: RankIR -4.52 MaxCorr 0.56: ts_beta(HP,TURN,4)\n",
      "     --> Good 63: RankIR -4.50 MaxCorr 0.24: ts_corr(VOL,HP,2)\n",
      "     --> Good 64: RankIR -4.50 MaxCorr 0.28: div(power(ts_corr(AMT,HP,8),1.81),ts_rank(pctchg(ts_xbtm_yavg(TURN,ma(bp,20),20,9),10),3))\n",
      "     --> Good 65: RankIR -4.49 MaxCorr 0.25: ts_cov(ts_rank(CP,10),sub(vol,lp),7)\n",
      "     --> Good 66: RankIR -4.48 MaxCorr 0.53: ma(ts_cov(turn,rank_add(cp,ts_dw(vol,9)),5),20)\n",
      "     --> Good 67: RankIR -4.48 MaxCorr 0.54: div(power(ts_corr(AMT,HP,8),1.81),ts_rank(pctchg(ts_xbtm_yavg(ADV20,ma(bp,20),40,9),10),3))\n",
      "     --> Good 68: RankIR -4.47 MaxCorr 0.54: ts_corr(TURN,CP,5)\n",
      "     --> Good 69: RankIR -4.47 MaxCorr 0.59: ts_dw(ts_beta(VP,AMT,3),2)\n",
      "     --> Good 70: RankIR -4.45 MaxCorr 0.36: rank_add(add(power(amt,2.12),mul(adv20,vol)),ts_beta(LP,EP,5))\n",
      "     --> Good 71: RankIR -4.44 MaxCorr 0.59: div(power(ts_corr(AMT,HP,8),1.81),ts_rank(pctchg(ts_xbtm_yavg(ADV20,ma(bp,20),20,9),10),3))\n",
      "     --> Good 72: RankIR 4.42 MaxCorr 0.59: rank_div(rank_add(sign(AMT),dp),ts_rng_dif(ADV20,15,2))\n",
      "     --> Good 73: RankIR 4.41 MaxCorr 0.44: ma(ts_beta(DP,AMT,4),10)\n",
      "     --> Good 74: RankIR -4.41 MaxCorr 0.58: ma(ts_cov(turn,rank_add(cp,ts_dw(cp,9)),5),40)\n",
      "     --> Good 75: RankIR -4.37 MaxCorr 0.35: ts_xtop_yavg(TURN,ts_corr(RTN,AMT,8),40,6)\n",
      "     --> Good 76: RankIR -4.37 MaxCorr 0.58: ma(square(turn),8)\n",
      "     --> Good 77: RankIR -4.37 MaxCorr 0.59: ts_cov(ts_rank(CP,10),sub(vol,op),7)\n",
      "     --> Good 78: RankIR -4.36 MaxCorr 0.35: square(ts_xtop_yavg(LP,ts_product(turn,4),15,4))\n",
      "     --> Good 79: RankIR -4.36 MaxCorr 0.52: ts_beta(LP,AMT,7)\n",
      "     --> Good 80: RankIR -4.35 MaxCorr 0.53: ts_top_avg(RTN,20,1)\n",
      "     --> Good 81: RankIR -4.35 MaxCorr 0.52: ts_beta(HP,AMT,6)\n",
      "**Select HallofFamers Save Factor Values Done, cost 137.43 secs\n",
      "**The HallofFame(500) Eventually has 82 Outstanders\n",
      "**Cuda Memory: Free 11.2G, Allocated 7.7G, Reserved 11.9G, Re-collect 0.0G Cache!\n",
      "     --> Old and New nans: 8271180/8271180 , infs: 0/0 , ~0s: 17833830/14959222 , ~nans: 9562650/9562650\n",
      "**Update Residual Labels and Dump Results Done, cost 2.78 secs\n",
      " ------------------------------- Outer Loop 1 -------------------------------\n",
      "**Initialize GP Toolbox Done, cost 0.00 secs\n",
      "**Cuda Memory: Free 16.8G, Allocated 2.2G, Reserved 6.4G, Re-collect 11.0G Cache!\n"
     ]
    },
    {
     "name": "stderr",
     "output_type": "stream",
     "text": [
      "  --> Evolve Generation 0:  75%|███████▌  | 2251/3000 [03:49<01:16,  9.83it/s]\n"
     ]
    },
    {
     "name": "stdout",
     "output_type": "stream",
     "text": [
      "**6 Generations of Evolution Done, cost 229.18 secs\n"
     ]
    },
    {
     "ename": "KeyboardInterrupt",
     "evalue": "",
     "output_type": "error",
     "traceback": [
      "\u001b[0;31m---------------------------------------------------------------------------\u001b[0m",
      "\u001b[0;31mKeyboardInterrupt\u001b[0m                         Traceback (most recent call last)",
      "Cell \u001b[0;32mIn[1], line 3\u001b[0m\n\u001b[1;32m      1\u001b[0m \u001b[38;5;66;03m# 真实测试，job_id=-1代表在新的pop的子文件夹中保存结果，如果强制要求在已有文件夹基础上继续训练，代码可能要再修改\u001b[39;00m\n\u001b[1;32m      2\u001b[0m \u001b[38;5;28;01mfrom\u001b[39;00m \u001b[38;5;21;01mgp_main\u001b[39;00m \u001b[38;5;28;01mimport\u001b[39;00m main\n\u001b[0;32m----> 3\u001b[0m \u001b[43mmain\u001b[49m\u001b[43m(\u001b[49m\u001b[38;5;28;43;01mFalse\u001b[39;49;00m\u001b[43m \u001b[49m\u001b[43m,\u001b[49m\u001b[43m \u001b[49m\u001b[43mjob_id\u001b[49m\u001b[38;5;241;43m=\u001b[39;49m\u001b[43m \u001b[49m\u001b[38;5;241;43m-\u001b[39;49m\u001b[38;5;241;43m1\u001b[39;49m\u001b[43m)\u001b[49m\n",
      "File \u001b[0;32m~/Workspace/learngp/gp_main.py:718\u001b[0m, in \u001b[0;36mmain\u001b[0;34m(test_code, job_id, profiling, start_iter, start_gen, **kwargs)\u001b[0m\n\u001b[1;32m    716\u001b[0m \u001b[38;5;28;01mfor\u001b[39;00m i_iter \u001b[38;5;129;01min\u001b[39;00m \u001b[38;5;28mrange\u001b[39m(start_iter , gp_space\u001b[38;5;241m.\u001b[39mn_iter):\n\u001b[1;32m    717\u001b[0m     \u001b[38;5;28mprint\u001b[39m(\u001b[38;5;124mf\u001b[39m\u001b[38;5;124m'\u001b[39m\u001b[38;5;124m ------------------------------- Outer Loop \u001b[39m\u001b[38;5;132;01m{\u001b[39;00mi_iter\u001b[38;5;132;01m}\u001b[39;00m\u001b[38;5;124m -------------------------------\u001b[39m\u001b[38;5;124m'\u001b[39m)\n\u001b[0;32m--> 718\u001b[0m     \u001b[43mouter_loop\u001b[49m\u001b[43m(\u001b[49m\u001b[43mi_iter\u001b[49m\u001b[43m \u001b[49m\u001b[43m,\u001b[49m\u001b[43m \u001b[49m\u001b[43mgp_space\u001b[49m\u001b[43m)\u001b[49m\n\u001b[1;32m    720\u001b[0m hours, secs \u001b[38;5;241m=\u001b[39m \u001b[38;5;28mdivmod\u001b[39m(time\u001b[38;5;241m.\u001b[39mtime() \u001b[38;5;241m-\u001b[39m time0, \u001b[38;5;241m3600\u001b[39m)\n\u001b[1;32m    721\u001b[0m \u001b[38;5;28mprint\u001b[39m(\u001b[38;5;124mf\u001b[39m\u001b[38;5;124m'\u001b[39m\u001b[38;5;124m------------------------------- Total Time Cost :\u001b[39m\u001b[38;5;132;01m{\u001b[39;00mhours\u001b[38;5;132;01m:\u001b[39;00m\u001b[38;5;124m.0f\u001b[39m\u001b[38;5;132;01m}\u001b[39;00m\u001b[38;5;124m hours \u001b[39m\u001b[38;5;132;01m{\u001b[39;00msecs\u001b[38;5;241m/\u001b[39m\u001b[38;5;241m60\u001b[39m\u001b[38;5;132;01m:\u001b[39;00m\u001b[38;5;124m.1f\u001b[39m\u001b[38;5;132;01m}\u001b[39;00m\u001b[38;5;124m -------------------------------\u001b[39m\u001b[38;5;124m'\u001b[39m)\n",
      "File \u001b[0;32m~/Workspace/learngp/gp_main.py:576\u001b[0m, in \u001b[0;36mouter_loop\u001b[0;34m(i_iter, gp_space, start_gen)\u001b[0m\n\u001b[1;32m    574\u001b[0m \u001b[38;5;28;01mwith\u001b[39;00m gp_space\u001b[38;5;241m.\u001b[39mgp_timer(\u001b[38;5;124m'\u001b[39m\u001b[38;5;124mEvolution\u001b[39m\u001b[38;5;124m'\u001b[39m , print_str \u001b[38;5;241m=\u001b[39m \u001b[38;5;124mf\u001b[39m\u001b[38;5;124m'\u001b[39m\u001b[38;5;124m**\u001b[39m\u001b[38;5;132;01m{\u001b[39;00mgp_space\u001b[38;5;241m.\u001b[39mn_gen\u001b[38;5;132;01m}\u001b[39;00m\u001b[38;5;124m Generations of Evolution\u001b[39m\u001b[38;5;124m'\u001b[39m):\n\u001b[1;32m    575\u001b[0m     mem_free \u001b[38;5;241m=\u001b[39m gp_space\u001b[38;5;241m.\u001b[39mmemory_manager\u001b[38;5;241m.\u001b[39mcheck(showoff \u001b[38;5;241m=\u001b[39m \u001b[38;5;28;01mTrue\u001b[39;00m)\n\u001b[0;32m--> 576\u001b[0m     population, halloffame, valhalla \u001b[38;5;241m=\u001b[39m \u001b[43mgp_evolution\u001b[49m\u001b[43m(\u001b[49m\u001b[43mtoolbox\u001b[49m\u001b[43m \u001b[49m\u001b[43m,\u001b[49m\u001b[43m \u001b[49m\u001b[43mstart_gen\u001b[49m\u001b[43m \u001b[49m\u001b[38;5;241;43m=\u001b[39;49m\u001b[43m \u001b[49m\u001b[43mstart_gen\u001b[49m\u001b[43m \u001b[49m\u001b[43m,\u001b[49m\u001b[43m \u001b[49m\u001b[38;5;241;43m*\u001b[39;49m\u001b[38;5;241;43m*\u001b[39;49m\u001b[43mgp_space\u001b[49m\u001b[43m)\u001b[49m  \u001b[38;5;66;03m#, start_gen=6   #algorithms.eaSimple\u001b[39;00m\n\u001b[1;32m    578\u001b[0m \u001b[38;5;124;03m'''good_log文件为因子库，存储了因子表达式、rankIR值等信息。在具体因子值存储在factor文件夹的parquet文件中'''\u001b[39;00m\n\u001b[1;32m    579\u001b[0m \u001b[38;5;28;01mwith\u001b[39;00m gp_space\u001b[38;5;241m.\u001b[39mgp_timer(\u001b[38;5;124m'\u001b[39m\u001b[38;5;124mSelection\u001b[39m\u001b[38;5;124m'\u001b[39m , print_str \u001b[38;5;241m=\u001b[39m \u001b[38;5;124mf\u001b[39m\u001b[38;5;124m'\u001b[39m\u001b[38;5;124m**Select HallofFamers Save Factor Values\u001b[39m\u001b[38;5;124m'\u001b[39m):\n",
      "File \u001b[0;32m~/Workspace/learngp/gp_main.py:433\u001b[0m, in \u001b[0;36mgp_evolution\u001b[0;34m(toolbox, i_iter, pop_num, gp_manager, pool_num, n_gen, cxpb, mutpb, hof_num, surv_rate, start_gen, gp_timer, verbose, stats, **kwargs)\u001b[0m\n\u001b[1;32m    431\u001b[0m pool_skunames \u001b[38;5;241m=\u001b[39m [\u001b[38;5;124mf\u001b[39m\u001b[38;5;124m'\u001b[39m\u001b[38;5;124miter\u001b[39m\u001b[38;5;132;01m{\u001b[39;00mi_iter\u001b[38;5;132;01m}\u001b[39;00m\u001b[38;5;124m_gen\u001b[39m\u001b[38;5;132;01m{\u001b[39;00mi_gen\u001b[38;5;132;01m}\u001b[39;00m\u001b[38;5;124m_\u001b[39m\u001b[38;5;132;01m{\u001b[39;00mi\u001b[38;5;132;01m}\u001b[39;00m\u001b[38;5;124m'\u001b[39m \u001b[38;5;28;01mfor\u001b[39;00m i \u001b[38;5;129;01min\u001b[39;00m \u001b[38;5;28mrange\u001b[39m(\u001b[38;5;28mlen\u001b[39m(population))] \u001b[38;5;66;03m# 'pool_skuname' arg for evaluate\u001b[39;00m\n\u001b[1;32m    432\u001b[0m desc \u001b[38;5;241m=\u001b[39m \u001b[38;5;124mf\u001b[39m\u001b[38;5;124m'\u001b[39m\u001b[38;5;124m  --> Evolve Generation \u001b[39m\u001b[38;5;132;01m{\u001b[39;00m\u001b[38;5;28mstr\u001b[39m(i_gen)\u001b[38;5;132;01m}\u001b[39;00m\u001b[38;5;124m'\u001b[39m\n\u001b[0;32m--> 433\u001b[0m fitnesses \u001b[38;5;241m=\u001b[39m \u001b[43mgp_fitnesses\u001b[49m\u001b[43m(\u001b[49m\u001b[43mpool_num\u001b[49m\u001b[43m \u001b[49m\u001b[43m,\u001b[49m\u001b[43m \u001b[49m\u001b[43mtoolbox\u001b[49m\u001b[43m \u001b[49m\u001b[43m,\u001b[49m\u001b[43m \u001b[49m\u001b[43mtoolbox\u001b[49m\u001b[38;5;241;43m.\u001b[39;49m\u001b[43mevaluate\u001b[49m\u001b[43m \u001b[49m\u001b[43m,\u001b[49m\u001b[43m \u001b[49m\u001b[43mpopulation\u001b[49m\u001b[43m \u001b[49m\u001b[43m,\u001b[49m\u001b[43m \u001b[49m\u001b[43mpool_skunames\u001b[49m\u001b[43m \u001b[49m\u001b[43m,\u001b[49m\u001b[43m \u001b[49m\u001b[43mdesc\u001b[49m\u001b[43m \u001b[49m\u001b[38;5;241;43m=\u001b[39;49m\u001b[43m \u001b[49m\u001b[43mdesc\u001b[49m\u001b[43m)\u001b[49m\n\u001b[1;32m    435\u001b[0m \u001b[38;5;28;01mfor\u001b[39;00m ind, fit \u001b[38;5;129;01min\u001b[39;00m \u001b[38;5;28mzip\u001b[39m(population, fitnesses):\n\u001b[1;32m    436\u001b[0m     ind\u001b[38;5;241m.\u001b[39mif_valid , ind\u001b[38;5;241m.\u001b[39mrankirs \u001b[38;5;241m=\u001b[39m fit[\u001b[38;5;241m0\u001b[39m] , fit[\u001b[38;5;241m1\u001b[39m]\n",
      "File \u001b[0;32m~/Workspace/learngp/gp_main.py:469\u001b[0m, in \u001b[0;36mgp_fitnesses\u001b[0;34m(pool_num, toolbox, eval_func, population, pool_skunames, desc)\u001b[0m\n\u001b[1;32m    466\u001b[0m     pool\u001b[38;5;241m.\u001b[39mjoin()\n\u001b[1;32m    467\u001b[0m     \u001b[38;5;66;03m# pool.clear()\u001b[39;00m\n\u001b[1;32m    468\u001b[0m \u001b[38;5;28;01melse\u001b[39;00m:\n\u001b[0;32m--> 469\u001b[0m     fitnesses \u001b[38;5;241m=\u001b[39m \u001b[38;5;28;43mlist\u001b[39;49m\u001b[43m(\u001b[49m\u001b[43mtqdm\u001b[49m\u001b[43m(\u001b[49m\u001b[43mtoolbox\u001b[49m\u001b[38;5;241;43m.\u001b[39;49m\u001b[43mmap\u001b[49m\u001b[43m(\u001b[49m\u001b[43meval_func\u001b[49m\u001b[43m,\u001b[49m\u001b[43m \u001b[49m\u001b[43mpopulation\u001b[49m\u001b[43m,\u001b[49m\u001b[43m \u001b[49m\u001b[43mpool_skunames\u001b[49m\u001b[43m)\u001b[49m\u001b[43m,\u001b[49m\n\u001b[1;32m    470\u001b[0m \u001b[43m                          \u001b[49m\u001b[43mtotal\u001b[49m\u001b[38;5;241;43m=\u001b[39;49m\u001b[38;5;28;43mlen\u001b[39;49m\u001b[43m(\u001b[49m\u001b[43mpopulation\u001b[49m\u001b[43m)\u001b[49m\u001b[43m,\u001b[49m\u001b[43m \u001b[49m\u001b[43mdesc\u001b[49m\u001b[38;5;241;43m=\u001b[39;49m\u001b[43mdesc\u001b[49m\u001b[43m)\u001b[49m\u001b[43m)\u001b[49m\n\u001b[1;32m    471\u001b[0m \u001b[38;5;28;01mreturn\u001b[39;00m fitnesses\n",
      "File \u001b[0;32m~/.local/lib/python3.10/site-packages/tqdm/std.py:1182\u001b[0m, in \u001b[0;36mtqdm.__iter__\u001b[0;34m(self)\u001b[0m\n\u001b[1;32m   1179\u001b[0m time \u001b[38;5;241m=\u001b[39m \u001b[38;5;28mself\u001b[39m\u001b[38;5;241m.\u001b[39m_time\n\u001b[1;32m   1181\u001b[0m \u001b[38;5;28;01mtry\u001b[39;00m:\n\u001b[0;32m-> 1182\u001b[0m     \u001b[38;5;28;01mfor\u001b[39;00m obj \u001b[38;5;129;01min\u001b[39;00m iterable:\n\u001b[1;32m   1183\u001b[0m         \u001b[38;5;28;01myield\u001b[39;00m obj\n\u001b[1;32m   1184\u001b[0m         \u001b[38;5;66;03m# Update and possibly print the progressbar.\u001b[39;00m\n\u001b[1;32m   1185\u001b[0m         \u001b[38;5;66;03m# Note: does not call self.update(1) for speed optimisation.\u001b[39;00m\n",
      "File \u001b[0;32m~/Workspace/learngp/gp_main.py:380\u001b[0m, in \u001b[0;36mevaluate\u001b[0;34m(individual, pool_skuname, compiler, gp_values, labels_raw, labels_res, universe, insample, outsample, gp_timer, gp_manager, const_annual, min_coverage, i_iter, **kwargs)\u001b[0m\n\u001b[1;32m    377\u001b[0m \u001b[38;5;28;01mif\u001b[39;00m is_invalid \u001b[38;5;241m:=\u001b[39m MF\u001b[38;5;241m.\u001b[39mis_invalid(factor_value): \u001b[38;5;28;01mreturn\u001b[39;00m \u001b[38;5;129;01mnot\u001b[39;00m is_invalid , rankir_list \u001b[38;5;66;03m# if_valid , ir's\u001b[39;00m\n\u001b[1;32m    379\u001b[0m \u001b[38;5;28;01mfor\u001b[39;00m i , labels \u001b[38;5;129;01min\u001b[39;00m \u001b[38;5;28menumerate\u001b[39m([labels_res , labels_raw]):\n\u001b[0;32m--> 380\u001b[0m     rankic_full \u001b[38;5;241m=\u001b[39m \u001b[43mMF\u001b[49m\u001b[38;5;241;43m.\u001b[39;49m\u001b[43mrankic_2d\u001b[49m\u001b[43m(\u001b[49m\u001b[43mfactor_value\u001b[49m\u001b[43m \u001b[49m\u001b[43m,\u001b[49m\u001b[43m \u001b[49m\u001b[43mlabels\u001b[49m\u001b[43m \u001b[49m\u001b[43m,\u001b[49m\u001b[43m \u001b[49m\u001b[43mdim\u001b[49m\u001b[43m \u001b[49m\u001b[38;5;241;43m=\u001b[39;49m\u001b[43m \u001b[49m\u001b[38;5;241;43m1\u001b[39;49m\u001b[43m \u001b[49m\u001b[43m,\u001b[49m\u001b[43m \u001b[49m\u001b[43muniverse\u001b[49m\u001b[43m \u001b[49m\u001b[38;5;241;43m=\u001b[39;49m\u001b[43m \u001b[49m\u001b[43muniverse\u001b[49m\u001b[43m \u001b[49m\u001b[43m,\u001b[49m\u001b[43m \u001b[49m\u001b[43mmin_coverage\u001b[49m\u001b[43m \u001b[49m\u001b[38;5;241;43m=\u001b[39;49m\u001b[43m \u001b[49m\u001b[43mmin_coverage\u001b[49m\u001b[43m)\u001b[49m\n\u001b[1;32m    381\u001b[0m     \u001b[38;5;28;01mif\u001b[39;00m is_invalid \u001b[38;5;241m:=\u001b[39m MF\u001b[38;5;241m.\u001b[39mis_invalid(rankic_full): \u001b[38;5;28;01mcontinue\u001b[39;00m\n\u001b[1;32m    382\u001b[0m     \u001b[38;5;28;01mfor\u001b[39;00m j , sample \u001b[38;5;129;01min\u001b[39;00m \u001b[38;5;28menumerate\u001b[39m([insample , outsample]):\n",
      "File \u001b[0;32m~/Workspace/learngp/gp_math_func.py:44\u001b[0m, in \u001b[0;36mprima_legitimate.<locals>.decorator.<locals>.wrapper\u001b[0;34m(*args, **kwargs)\u001b[0m\n\u001b[1;32m     42\u001b[0m     \u001b[38;5;28;01mif\u001b[39;00m check_exact \u001b[38;5;129;01mand\u001b[39;00m exact(args[\u001b[38;5;241m0\u001b[39m],args[\u001b[38;5;241m1\u001b[39m]): \u001b[38;5;28;01mreturn\u001b[39;00m invalid\n\u001b[1;32m     43\u001b[0m     \u001b[38;5;28;01mif\u001b[39;00m check_same  \u001b[38;5;129;01mand\u001b[39;00m same(args[\u001b[38;5;241m0\u001b[39m],args[\u001b[38;5;241m1\u001b[39m]): \u001b[38;5;28;01mreturn\u001b[39;00m invalid\n\u001b[0;32m---> 44\u001b[0m v \u001b[38;5;241m=\u001b[39m \u001b[43mfunc\u001b[49m\u001b[43m(\u001b[49m\u001b[38;5;241;43m*\u001b[39;49m\u001b[43margs\u001b[49m\u001b[43m \u001b[49m\u001b[43m,\u001b[49m\u001b[43m \u001b[49m\u001b[38;5;241;43m*\u001b[39;49m\u001b[38;5;241;43m*\u001b[39;49m\u001b[43mkwargs\u001b[49m\u001b[43m)\u001b[49m\n\u001b[1;32m     45\u001b[0m \u001b[38;5;28;01mreturn\u001b[39;00m v\n",
      "File \u001b[0;32m~/Workspace/learngp/gp_math_func.py:82\u001b[0m, in \u001b[0;36mrankic_2d\u001b[0;34m(x, y, dim, universe, min_coverage)\u001b[0m\n\u001b[1;32m     79\u001b[0m x \u001b[38;5;241m=\u001b[39m torch\u001b[38;5;241m.\u001b[39mwhere(valid , x , nan)\n\u001b[1;32m     81\u001b[0m coverage \u001b[38;5;241m=\u001b[39m (\u001b[38;5;241m~\u001b[39mx\u001b[38;5;241m.\u001b[39misnan())\u001b[38;5;241m.\u001b[39msum(dim\u001b[38;5;241m=\u001b[39mdim)\n\u001b[0;32m---> 82\u001b[0m ic \u001b[38;5;241m=\u001b[39m \u001b[43mcorrwith\u001b[49m\u001b[43m(\u001b[49m\u001b[43mrank_pct\u001b[49m\u001b[43m(\u001b[49m\u001b[43mx\u001b[49m\u001b[43m)\u001b[49m\u001b[43m,\u001b[49m\u001b[43m \u001b[49m\u001b[43mrank_pct\u001b[49m\u001b[43m(\u001b[49m\u001b[43my\u001b[49m\u001b[43m)\u001b[49m\u001b[43m \u001b[49m\u001b[43m,\u001b[49m\u001b[43m \u001b[49m\u001b[43mdim\u001b[49m\u001b[38;5;241;43m=\u001b[39;49m\u001b[43mdim\u001b[49m\u001b[43m)\u001b[49m\n\u001b[1;32m     83\u001b[0m \u001b[38;5;28;01mif\u001b[39;00m is_invalid(ic):\n\u001b[1;32m     84\u001b[0m     \u001b[38;5;28;01mreturn\u001b[39;00m ic\n",
      "File \u001b[0;32m~/Workspace/learngp/gp_math_func.py:44\u001b[0m, in \u001b[0;36mprima_legitimate.<locals>.decorator.<locals>.wrapper\u001b[0;34m(*args, **kwargs)\u001b[0m\n\u001b[1;32m     42\u001b[0m     \u001b[38;5;28;01mif\u001b[39;00m check_exact \u001b[38;5;129;01mand\u001b[39;00m exact(args[\u001b[38;5;241m0\u001b[39m],args[\u001b[38;5;241m1\u001b[39m]): \u001b[38;5;28;01mreturn\u001b[39;00m invalid\n\u001b[1;32m     43\u001b[0m     \u001b[38;5;28;01mif\u001b[39;00m check_same  \u001b[38;5;129;01mand\u001b[39;00m same(args[\u001b[38;5;241m0\u001b[39m],args[\u001b[38;5;241m1\u001b[39m]): \u001b[38;5;28;01mreturn\u001b[39;00m invalid\n\u001b[0;32m---> 44\u001b[0m v \u001b[38;5;241m=\u001b[39m \u001b[43mfunc\u001b[49m\u001b[43m(\u001b[49m\u001b[38;5;241;43m*\u001b[39;49m\u001b[43margs\u001b[49m\u001b[43m \u001b[49m\u001b[43m,\u001b[49m\u001b[43m \u001b[49m\u001b[38;5;241;43m*\u001b[39;49m\u001b[38;5;241;43m*\u001b[39;49m\u001b[43mkwargs\u001b[49m\u001b[43m)\u001b[49m\n\u001b[1;32m     45\u001b[0m \u001b[38;5;28;01mreturn\u001b[39;00m v\n",
      "File \u001b[0;32m~/Workspace/learngp/gp_math_func.py:212\u001b[0m, in \u001b[0;36mcorrwith\u001b[0;34m(x, y, dim)\u001b[0m\n\u001b[1;32m    210\u001b[0m \u001b[38;5;129m@prima_legitimate\u001b[39m(\u001b[38;5;241m2\u001b[39m,\u001b[38;5;28;01mFalse\u001b[39;00m)\n\u001b[1;32m    211\u001b[0m \u001b[38;5;28;01mdef\u001b[39;00m \u001b[38;5;21mcorrwith\u001b[39m(x,y,dim\u001b[38;5;241m=\u001b[39m\u001b[38;5;28;01mNone\u001b[39;00m):\n\u001b[0;32m--> 212\u001b[0m     \u001b[38;5;28;01mif\u001b[39;00m \u001b[43msame\u001b[49m\u001b[43m(\u001b[49m\u001b[43mx\u001b[49m\u001b[43m \u001b[49m\u001b[43m,\u001b[49m\u001b[43m \u001b[49m\u001b[43my\u001b[49m\u001b[43m)\u001b[49m: \u001b[38;5;28;01mreturn\u001b[39;00m torch\u001b[38;5;241m.\u001b[39mwhere(x\u001b[38;5;241m.\u001b[39mnansum(dim) \u001b[38;5;241m>\u001b[39m \u001b[38;5;241m2\u001b[39m , \u001b[38;5;241m1\u001b[39m , nan)\n\u001b[1;32m    213\u001b[0m     x \u001b[38;5;241m=\u001b[39m x \u001b[38;5;241m+\u001b[39m y \u001b[38;5;241m*\u001b[39m \u001b[38;5;241m0\u001b[39m\n\u001b[1;32m    214\u001b[0m     y \u001b[38;5;241m=\u001b[39m y \u001b[38;5;241m+\u001b[39m x \u001b[38;5;241m*\u001b[39m \u001b[38;5;241m0\u001b[39m\n",
      "File \u001b[0;32m~/Workspace/learngp/gp_math_func.py:31\u001b[0m, in \u001b[0;36msame\u001b[0;34m(x, y)\u001b[0m\n\u001b[1;32m     29\u001b[0m     \u001b[38;5;28;01mreturn\u001b[39;00m \u001b[38;5;28;01mFalse\u001b[39;00m\n\u001b[1;32m     30\u001b[0m \u001b[38;5;28;01melse\u001b[39;00m:\n\u001b[0;32m---> 31\u001b[0m     \u001b[38;5;28;01mreturn\u001b[39;00m \u001b[43mx\u001b[49m\u001b[38;5;241;43m.\u001b[39;49m\u001b[43mequal\u001b[49m\u001b[43m(\u001b[49m\u001b[43my\u001b[49m\u001b[43m)\u001b[49m\n",
      "\u001b[0;31mKeyboardInterrupt\u001b[0m: "
     ]
    }
   ],
   "source": [
    "# 真实测试，job_id=-1代表在新的pop的子文件夹中保存结果，如果强制要求在已有文件夹基础上继续训练，代码可能要再修改\n",
    "from gp_main import main\n",
    "main(False , job_id= -1)"
   ]
  },
  {
   "cell_type": "code",
   "execution_count": 1,
   "metadata": {},
   "outputs": [
    {
     "name": "stderr",
     "output_type": "stream",
     "text": [
      "Loading factor parquets: 100%|██████████| 5/5 [00:06<00:00,  1.21s/it]\n"
     ]
    },
    {
     "name": "stdout",
     "output_type": "stream",
     "text": [
      "Beware! future information used!\n"
     ]
    }
   ],
   "source": [
    "from gp_main import *\n",
    "a = gp_multifactor(0)"
   ]
  },
  {
   "cell_type": "code",
   "execution_count": 2,
   "metadata": {},
   "outputs": [
    {
     "name": "stdout",
     "output_type": "stream",
     "text": [
      "**Device name: NVIDIA GeForce RTX 4090 , Available: True\n",
      "  --> Pop directory is : \"./pop/2\"\n",
      "**Load Data Done, cost 2.28 secs\n",
      "**Cuda Memory: Free 1.4G, Allocated 16.6G, Reserved 21.8G\n"
     ]
    },
    {
     "data": {
      "text/plain": [
       "'ts_corr(TURN, TURN, 7)'"
      ]
     },
     "execution_count": 2,
     "metadata": {},
     "output_type": "execute_result"
    }
   ],
   "source": [
    "from gp_main import *\n",
    "from gp_utils import *\n",
    "gp_space = gp_namespace(gp_parameters(False , -1 , True))\n",
    "\n",
    "toolbox = gpHandler.Toolbox(eval_func = evaluate , **gp_space)\n",
    "population = gp_population(toolbox , **gp_space)\n",
    "'ts_corr(TURN, TURN, 7)'"
   ]
  }
 ],
 "metadata": {
  "kernelspec": {
   "display_name": "base",
   "language": "python",
   "name": "python3"
  },
  "language_info": {
   "codemirror_mode": {
    "name": "ipython",
    "version": 3
   },
   "file_extension": ".py",
   "mimetype": "text/x-python",
   "name": "python",
   "nbconvert_exporter": "python",
   "pygments_lexer": "ipython3",
   "version": "3.10.12"
  }
 },
 "nbformat": 4,
 "nbformat_minor": 2
}
