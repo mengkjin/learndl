{
 "cells": [
  {
   "cell_type": "code",
   "execution_count": 1,
   "metadata": {},
   "outputs": [
    {
     "name": "stdout",
     "output_type": "stream",
     "text": [
      "**Job Directory is : \"./pop/bendi\"\n",
      "  --> Continue Training in \"./pop/bendi\"\n",
      "**Device name: NVIDIA GeForce RTX 4090 , Available: True\n",
      "  --> Directly load \"./data/package/gp_data_package_test.pt\"\n",
      "  --> 2 factors, 2 raw data loaded!\n",
      "**Load Data Done, Cost 0.12 Secs\n",
      "**Cuda Memory: Free 23.2G, Allocated 0.1G, Reserved 0.1G, Re-collect 0.0G Cache!\n",
      "==================== Iteration 0 start from Generation 1 ====================\n",
      "**Initialize GP Toolbox Done, Cost 0.00 Secs\n",
      "**A HallofFame(2) has been Evolutionized\n",
      "**0 Generations of Evolution Done, Cost 0.01 Secs, Freed CudaMemory 23.16G - > 23.16G\n",
      "  --> HallofFame(2) Contains 2 Promising Candidates with RankIR >= 2.00\n",
      "     --> Hof__0/Elite__0 (IR-4.28|Corr+0.00): rank_mul(turn,cp)\n",
      "     --> Cuda Memory: Free 22.9G, Allocated 0.1G, Reserved 0.3G, Re-collect 0.0G Cache!\n",
      "     --> Hof__1/Elite__1 (IR+3.11|Corr-0.41): ts_argmin(ts_btm_avg(TURN,20,7),5)\n",
      "     --> Cuda Memory: Free 22.2G, Allocated 0.1G, Reserved 1.0G, Re-collect 0.0G Cache!\n",
      "  --> Memories of [gp_values , hof_elites , others] take 0.09G\n",
      "**Selection of HallofFamers(2) -> Elites1 Done, Cost 12.62 Secs, Freed CudaMemory 23.16G - > 23.08G\n",
      "**Update Residual Labels and Dump Results Done, Cost 0.38 Secs, Freed CudaMemory 23.08G - > 23.04G\n",
      "==================== Iteration 1 start from Generation 0 ====================\n",
      "**Initialize GP Toolbox Done, Cost 0.00 Secs\n",
      "**A Population(4) has been Initialized\n"
     ]
    },
    {
     "name": "stderr",
     "output_type": "stream",
     "text": [
      "  --> Evolve Generation 0: 100%|██████████| 4/4 [00:00<00:00, 157.10it/s]"
     ]
    },
    {
     "name": "stdout",
     "output_type": "stream",
     "text": [
      "**A HallofFame(2) has been Loaded\n",
      "**1 Generations of Evolution Done, Cost 0.04 Secs, Freed CudaMemory 23.04G - > 23.04G\n",
      "  --> HallofFame(2) Contains 1 Promising Candidates with RankIR >= 2.00\n",
      "     --> Hof__0/Elite__2 (IR-4.41|Corr+0.00): ts_btm_avg(TURN,10,10)\n"
     ]
    },
    {
     "name": "stderr",
     "output_type": "stream",
     "text": [
      "\n"
     ]
    },
    {
     "name": "stdout",
     "output_type": "stream",
     "text": [
      "     --> Cuda Memory: Free 22.6G, Allocated 0.1G, Reserved 0.5G, Re-collect 0.0G Cache!\n",
      "  --> Memories of [gp_values , hof_elites , others] take 0.09G\n",
      "**Selection of HallofFamers(2) -> Elites1 Done, Cost 6.74 Secs, Freed CudaMemory 23.04G - > 23.02G\n",
      "**Update Residual Labels and Dump Results Done, Cost 0.27 Secs, Freed CudaMemory 23.02G - > 23.04G\n",
      "==================== Total Time Cost :0 hours 0.3 ====================\n",
      "   Setting  Evolution  Selection  Neu_dump  AvgVarAnd  AvgCompile  AvgEval      All\n",
      "0   0.0014     0.0065    12.6222    0.3789     0.0000  1.6320...    0.1272  13.0184\n",
      "1   0.0010     0.0423     6.7428    0.2682     0.0009  7.7295...    0.0026   7.0654\n"
     ]
    },
    {
     "data": {
      "text/html": [
       "<div>\n",
       "<style scoped>\n",
       "    .dataframe tbody tr th:only-of-type {\n",
       "        vertical-align: middle;\n",
       "    }\n",
       "\n",
       "    .dataframe tbody tr th {\n",
       "        vertical-align: top;\n",
       "    }\n",
       "\n",
       "    .dataframe thead th {\n",
       "        text-align: right;\n",
       "    }\n",
       "</style>\n",
       "<table border=\"1\" class=\"dataframe\">\n",
       "  <thead>\n",
       "    <tr style=\"text-align: right;\">\n",
       "      <th></th>\n",
       "      <th>type</th>\n",
       "      <th>name</th>\n",
       "      <th>ncalls</th>\n",
       "      <th>ccalls</th>\n",
       "      <th>tottime</th>\n",
       "      <th>cumtime</th>\n",
       "      <th>where</th>\n",
       "      <th>memory</th>\n",
       "      <th>full_name</th>\n",
       "      <th>caller</th>\n",
       "    </tr>\n",
       "  </thead>\n",
       "  <tbody>\n",
       "    <tr>\n",
       "      <th>403</th>\n",
       "      <td>function</td>\n",
       "      <td>write_column</td>\n",
       "      <td>15633</td>\n",
       "      <td>0</td>\n",
       "      <td>14.5974</td>\n",
       "      <td>1.0241</td>\n",
       "      <td>\"/home/mengkjin/.local/lib/python3.10/site-pac...</td>\n",
       "      <td>0x7f6512295e70</td>\n",
       "      <td>&lt;code object write_column at 0x7f6512295e70, f...</td>\n",
       "      <td>[(&lt;built-in method builtins.isinstance&gt;, 93798...</td>\n",
       "    </tr>\n",
       "    <tr>\n",
       "      <th>89</th>\n",
       "      <td>built-in-method</td>\n",
       "      <td>builtins.isinstance</td>\n",
       "      <td>3538208</td>\n",
       "      <td>37418</td>\n",
       "      <td>0.9196</td>\n",
       "      <td>0.6001</td>\n",
       "      <td></td>\n",
       "      <td></td>\n",
       "      <td>&lt;built-in method builtins.isinstance&gt;</td>\n",
       "      <td>[(&lt;code object _instancecheck at 0x7f66607a024...</td>\n",
       "    </tr>\n",
       "    <tr>\n",
       "      <th>1144</th>\n",
       "      <td>function</td>\n",
       "      <td>__init__</td>\n",
       "      <td>42861</td>\n",
       "      <td>4</td>\n",
       "      <td>3.2748</td>\n",
       "      <td>0.4999</td>\n",
       "      <td>\"/home/mengkjin/.local/lib/python3.10/site-pac...</td>\n",
       "      <td>0x7f665f8f8450</td>\n",
       "      <td>&lt;code object __init__ at 0x7f665f8f8450, file ...</td>\n",
       "      <td>[(&lt;code object _set_axis at 0x7f665f8c7e10, fi...</td>\n",
       "    </tr>\n",
       "    <tr>\n",
       "      <th>1139</th>\n",
       "      <td>function</td>\n",
       "      <td>__finalize__</td>\n",
       "      <td>84377</td>\n",
       "      <td>0</td>\n",
       "      <td>0.6261</td>\n",
       "      <td>0.4660</td>\n",
       "      <td>\"/home/mengkjin/.local/lib/python3.10/site-pac...</td>\n",
       "      <td>0x7f665f8edf20</td>\n",
       "      <td>&lt;code object __finalize__ at 0x7f665f8edf20, f...</td>\n",
       "      <td>[(&lt;built-in method builtins.isinstance&gt;, 13741...</td>\n",
       "    </tr>\n",
       "    <tr>\n",
       "      <th>1077</th>\n",
       "      <td>function</td>\n",
       "      <td>apply</td>\n",
       "      <td>12496</td>\n",
       "      <td>0</td>\n",
       "      <td>0.6806</td>\n",
       "      <td>0.4475</td>\n",
       "      <td>\"/home/mengkjin/.local/lib/python3.10/site-pac...</td>\n",
       "      <td>0x7f665f61c870</td>\n",
       "      <td>&lt;code object apply at 0x7f665f61c870, file \"/h...</td>\n",
       "      <td>[(&lt;built-in method builtins.getattr&gt;, 96, 0, 2...</td>\n",
       "    </tr>\n",
       "    <tr>\n",
       "      <th>...</th>\n",
       "      <td>...</td>\n",
       "      <td>...</td>\n",
       "      <td>...</td>\n",
       "      <td>...</td>\n",
       "      <td>...</td>\n",
       "      <td>...</td>\n",
       "      <td>...</td>\n",
       "      <td>...</td>\n",
       "      <td>...</td>\n",
       "      <td>...</td>\n",
       "    </tr>\n",
       "    <tr>\n",
       "      <th>916</th>\n",
       "      <td>function</td>\n",
       "      <td>get_dataframe_repr_params</td>\n",
       "      <td>1</td>\n",
       "      <td>0</td>\n",
       "      <td>0.0001</td>\n",
       "      <td>0.0000</td>\n",
       "      <td>\"/home/mengkjin/.local/lib/python3.10/site-pac...</td>\n",
       "      <td>0x7f665f457d60</td>\n",
       "      <td>&lt;code object get_dataframe_repr_params at 0x7f...</td>\n",
       "      <td>[(&lt;code object get_console_size at 0x7f665fd77...</td>\n",
       "    </tr>\n",
       "    <tr>\n",
       "      <th>915</th>\n",
       "      <td>function</td>\n",
       "      <td>_concat_indexes</td>\n",
       "      <td>2</td>\n",
       "      <td>0</td>\n",
       "      <td>0.0002</td>\n",
       "      <td>0.0000</td>\n",
       "      <td>\"/home/mengkjin/.local/lib/python3.10/site-pac...</td>\n",
       "      <td>0x7f665f4575d0</td>\n",
       "      <td>&lt;code object _concat_indexes at 0x7f665f4575d0...</td>\n",
       "      <td>[(&lt;code object append at 0x7f665f95d8f0, file ...</td>\n",
       "    </tr>\n",
       "    <tr>\n",
       "      <th>914</th>\n",
       "      <td>function</td>\n",
       "      <td>_maybe_check_integrity</td>\n",
       "      <td>2</td>\n",
       "      <td>0</td>\n",
       "      <td>0.0000</td>\n",
       "      <td>0.0000</td>\n",
       "      <td>\"/home/mengkjin/.local/lib/python3.10/site-pac...</td>\n",
       "      <td>0x7f665f4573c0</td>\n",
       "      <td>&lt;code object _maybe_check_integrity at 0x7f665...</td>\n",
       "      <td>None</td>\n",
       "    </tr>\n",
       "    <tr>\n",
       "      <th>913</th>\n",
       "      <td>function</td>\n",
       "      <td>_get_concat_axis</td>\n",
       "      <td>2</td>\n",
       "      <td>0</td>\n",
       "      <td>0.0002</td>\n",
       "      <td>0.0000</td>\n",
       "      <td>\"/home/mengkjin/.local/lib/python3.10/site-pac...</td>\n",
       "      <td>0x7f665f457310</td>\n",
       "      <td>&lt;code object _get_concat_axis at 0x7f665f45731...</td>\n",
       "      <td>[(&lt;code object _maybe_check_integrity at 0x7f6...</td>\n",
       "    </tr>\n",
       "    <tr>\n",
       "      <th>2324</th>\n",
       "      <td>function</td>\n",
       "      <td>__init__</td>\n",
       "      <td>44</td>\n",
       "      <td>0</td>\n",
       "      <td>0.0000</td>\n",
       "      <td>0.0000</td>\n",
       "      <td>\"/usr/lib/python3.10/codecs.py\",260</td>\n",
       "      <td>0x7f672993bc00</td>\n",
       "      <td>&lt;code object __init__ at 0x7f672993bc00, file ...</td>\n",
       "      <td>None</td>\n",
       "    </tr>\n",
       "  </tbody>\n",
       "</table>\n",
       "<p>2325 rows × 10 columns</p>\n",
       "</div>"
      ],
      "text/plain": [
       "                 type                       name   ncalls  ccalls  tottime  \\\n",
       "403          function               write_column    15633       0  14.5974   \n",
       "89    built-in-method        builtins.isinstance  3538208   37418   0.9196   \n",
       "1144         function                   __init__    42861       4   3.2748   \n",
       "1139         function               __finalize__    84377       0   0.6261   \n",
       "1077         function                      apply    12496       0   0.6806   \n",
       "...               ...                        ...      ...     ...      ...   \n",
       "916          function  get_dataframe_repr_params        1       0   0.0001   \n",
       "915          function            _concat_indexes        2       0   0.0002   \n",
       "914          function     _maybe_check_integrity        2       0   0.0000   \n",
       "913          function           _get_concat_axis        2       0   0.0002   \n",
       "2324         function                   __init__       44       0   0.0000   \n",
       "\n",
       "      cumtime                                              where  \\\n",
       "403    1.0241  \"/home/mengkjin/.local/lib/python3.10/site-pac...   \n",
       "89     0.6001                                                      \n",
       "1144   0.4999  \"/home/mengkjin/.local/lib/python3.10/site-pac...   \n",
       "1139   0.4660  \"/home/mengkjin/.local/lib/python3.10/site-pac...   \n",
       "1077   0.4475  \"/home/mengkjin/.local/lib/python3.10/site-pac...   \n",
       "...       ...                                                ...   \n",
       "916    0.0000  \"/home/mengkjin/.local/lib/python3.10/site-pac...   \n",
       "915    0.0000  \"/home/mengkjin/.local/lib/python3.10/site-pac...   \n",
       "914    0.0000  \"/home/mengkjin/.local/lib/python3.10/site-pac...   \n",
       "913    0.0000  \"/home/mengkjin/.local/lib/python3.10/site-pac...   \n",
       "2324   0.0000                \"/usr/lib/python3.10/codecs.py\",260   \n",
       "\n",
       "              memory                                          full_name  \\\n",
       "403   0x7f6512295e70  <code object write_column at 0x7f6512295e70, f...   \n",
       "89                                <built-in method builtins.isinstance>   \n",
       "1144  0x7f665f8f8450  <code object __init__ at 0x7f665f8f8450, file ...   \n",
       "1139  0x7f665f8edf20  <code object __finalize__ at 0x7f665f8edf20, f...   \n",
       "1077  0x7f665f61c870  <code object apply at 0x7f665f61c870, file \"/h...   \n",
       "...              ...                                                ...   \n",
       "916   0x7f665f457d60  <code object get_dataframe_repr_params at 0x7f...   \n",
       "915   0x7f665f4575d0  <code object _concat_indexes at 0x7f665f4575d0...   \n",
       "914   0x7f665f4573c0  <code object _maybe_check_integrity at 0x7f665...   \n",
       "913   0x7f665f457310  <code object _get_concat_axis at 0x7f665f45731...   \n",
       "2324  0x7f672993bc00  <code object __init__ at 0x7f672993bc00, file ...   \n",
       "\n",
       "                                                 caller  \n",
       "403   [(<built-in method builtins.isinstance>, 93798...  \n",
       "89    [(<code object _instancecheck at 0x7f66607a024...  \n",
       "1144  [(<code object _set_axis at 0x7f665f8c7e10, fi...  \n",
       "1139  [(<built-in method builtins.isinstance>, 13741...  \n",
       "1077  [(<built-in method builtins.getattr>, 96, 0, 2...  \n",
       "...                                                 ...  \n",
       "916   [(<code object get_console_size at 0x7f665fd77...  \n",
       "915   [(<code object append at 0x7f665f95d8f0, file ...  \n",
       "914                                                None  \n",
       "913   [(<code object _maybe_check_integrity at 0x7f6...  \n",
       "2324                                               None  \n",
       "\n",
       "[2325 rows x 10 columns]"
      ]
     },
     "execution_count": 1,
     "metadata": {},
     "output_type": "execute_result"
    }
   ],
   "source": [
    "# 测试代码跑起来有没有问题，参数都设的很小，应该在一两分钟内执行完\n",
    "from gp_main import main\n",
    "profiler = main(True , job_id= -1 , start_iter=0 , start_gen=1)\n",
    "profiler.get_df(sort_on='cumtime' , highlight= None)"
   ]
  },
  {
   "cell_type": "code",
   "execution_count": 24,
   "metadata": {},
   "outputs": [
    {
     "name": "stdout",
     "output_type": "stream",
     "text": [
      "defaultdict(<class 'list'>, {<class 'numpy.ndarray'>: []})\n",
      "defaultdict(<class 'list'>, {<class 'numpy.ndarray'>: []})\n",
      "defaultdict(<class 'list'>, {<class 'numpy.ndarray'>: []})\n",
      "defaultdict(<class 'list'>, {<class 'numpy.ndarray'>: [<deap.gp.Primitive object at 0x7f63b17825c0>]})\n",
      "defaultdict(<class 'list'>, {<class 'numpy.ndarray'>: [<deap.gp.Primitive object at 0x7f63b17825c0>, <deap.gp.Primitive object at 0x7f63b17826b0>], <class 'int'>: [], <class '__main__.int1'>: []})\n",
      "defaultdict(<class 'list'>, {<class 'numpy.ndarray'>: [<deap.gp.Primitive object at 0x7f63b17825c0>, <deap.gp.Primitive object at 0x7f63b17826b0>], <class 'int'>: [], <class '__main__.int1'>: []})\n",
      "defaultdict(<class 'list'>, {<class 'numpy.ndarray'>: [<deap.gp.Primitive object at 0x7f63b17825c0>, <deap.gp.Primitive object at 0x7f63b17826b0>], <class 'int'>: [], <class '__main__.int1'>: []})\n",
      "defaultdict(<class 'list'>, {<class 'numpy.ndarray'>: [<deap.gp.Primitive object at 0x7f63b17825c0>, <deap.gp.Primitive object at 0x7f63b17826b0>], <class 'int'>: [], <class '__main__.int1'>: []})\n"
     ]
    },
    {
     "name": "stderr",
     "output_type": "stream",
     "text": [
      "/home/mengkjin/.local/lib/python3.10/site-packages/deap/creator.py:138: RuntimeWarning: A class named 'FitnessMin' has already been created and it will be overwritten. Consider deleting previous creation of that class or rename it.\n",
      "  warnings.warn(\"A class named '{0}' has already been created and it \"\n",
      "/home/mengkjin/.local/lib/python3.10/site-packages/deap/creator.py:138: RuntimeWarning: A class named 'Syntax' has already been created and it will be overwritten. Consider deleting previous creation of that class or rename it.\n",
      "  warnings.warn(\"A class named '{0}' has already been created and it \"\n",
      "/home/mengkjin/.local/lib/python3.10/site-packages/deap/creator.py:138: RuntimeWarning: A class named 'Individual' has already been created and it will be overwritten. Consider deleting previous creation of that class or rename it.\n",
      "  warnings.warn(\"A class named '{0}' has already been created and it \"\n"
     ]
    },
    {
     "ename": "TypeError",
     "evalue": "Terminal 1.5 type <class 'float'> does not match the expected one: <class 'int'>.",
     "output_type": "error",
     "traceback": [
      "\u001b[0;31m---------------------------------------------------------------------------\u001b[0m",
      "\u001b[0;31mTypeError\u001b[0m                                 Traceback (most recent call last)",
      "Cell \u001b[0;32mIn[24], line 33\u001b[0m\n\u001b[1;32m     31\u001b[0m gp\u001b[38;5;241m.\u001b[39mcompile(gp\u001b[38;5;241m.\u001b[39mPrimitiveTree\u001b[38;5;241m.\u001b[39mfrom_string(\u001b[38;5;124m'\u001b[39m\u001b[38;5;124maadd(x,y)\u001b[39m\u001b[38;5;124m'\u001b[39m , pset\u001b[38;5;241m=\u001b[39mpset) , pset\u001b[38;5;241m=\u001b[39mpset)(np\u001b[38;5;241m.\u001b[39marray([\u001b[38;5;241m0\u001b[39m]),np\u001b[38;5;241m.\u001b[39marray([\u001b[38;5;241m0.5\u001b[39m]))\n\u001b[1;32m     32\u001b[0m gp\u001b[38;5;241m.\u001b[39mcompile(gp\u001b[38;5;241m.\u001b[39mPrimitiveTree\u001b[38;5;241m.\u001b[39mfrom_string(\u001b[38;5;124m'\u001b[39m\u001b[38;5;124maadd_int(x,1)\u001b[39m\u001b[38;5;124m'\u001b[39m , pset\u001b[38;5;241m=\u001b[39mpset) , pset\u001b[38;5;241m=\u001b[39mpset)(np\u001b[38;5;241m.\u001b[39marray([\u001b[38;5;241m0\u001b[39m]),np\u001b[38;5;241m.\u001b[39marray([\u001b[38;5;241m0.5\u001b[39m]))\n\u001b[0;32m---> 33\u001b[0m gp\u001b[38;5;241m.\u001b[39mcompile(\u001b[43mgp\u001b[49m\u001b[38;5;241;43m.\u001b[39;49m\u001b[43mPrimitiveTree\u001b[49m\u001b[38;5;241;43m.\u001b[39;49m\u001b[43mfrom_string\u001b[49m\u001b[43m(\u001b[49m\u001b[38;5;124;43m'\u001b[39;49m\u001b[38;5;124;43maadd_int(x,1.5)\u001b[39;49m\u001b[38;5;124;43m'\u001b[39;49m\u001b[43m \u001b[49m\u001b[43m,\u001b[49m\u001b[43m \u001b[49m\u001b[43mpset\u001b[49m\u001b[38;5;241;43m=\u001b[39;49m\u001b[43mpset\u001b[49m\u001b[43m)\u001b[49m , pset\u001b[38;5;241m=\u001b[39mpset)(np\u001b[38;5;241m.\u001b[39marray([\u001b[38;5;241m0\u001b[39m]),np\u001b[38;5;241m.\u001b[39marray([\u001b[38;5;241m0.5\u001b[39m]))\n",
      "File \u001b[0;32m~/.local/lib/python3.10/site-packages/deap/gp.py:146\u001b[0m, in \u001b[0;36mPrimitiveTree.from_string\u001b[0;34m(cls, string, pset)\u001b[0m\n\u001b[1;32m    143\u001b[0m             type_ \u001b[38;5;241m=\u001b[39m \u001b[38;5;28mtype\u001b[39m(token)\n\u001b[1;32m    145\u001b[0m         \u001b[38;5;28;01mif\u001b[39;00m \u001b[38;5;129;01mnot\u001b[39;00m \u001b[38;5;28missubclass\u001b[39m(\u001b[38;5;28mtype\u001b[39m(token), type_):\n\u001b[0;32m--> 146\u001b[0m             \u001b[38;5;28;01mraise\u001b[39;00m \u001b[38;5;167;01mTypeError\u001b[39;00m(\u001b[38;5;124m\"\u001b[39m\u001b[38;5;124mTerminal \u001b[39m\u001b[38;5;132;01m{}\u001b[39;00m\u001b[38;5;124m type \u001b[39m\u001b[38;5;132;01m{}\u001b[39;00m\u001b[38;5;124m does not \u001b[39m\u001b[38;5;124m\"\u001b[39m\n\u001b[1;32m    147\u001b[0m                             \u001b[38;5;124m\"\u001b[39m\u001b[38;5;124mmatch the expected one: \u001b[39m\u001b[38;5;132;01m{}\u001b[39;00m\u001b[38;5;124m.\u001b[39m\u001b[38;5;124m\"\u001b[39m\n\u001b[1;32m    148\u001b[0m                             \u001b[38;5;241m.\u001b[39mformat(token, \u001b[38;5;28mtype\u001b[39m(token), type_))\n\u001b[1;32m    150\u001b[0m         expr\u001b[38;5;241m.\u001b[39mappend(Terminal(token, \u001b[38;5;28;01mFalse\u001b[39;00m, type_))\n\u001b[1;32m    151\u001b[0m \u001b[38;5;28;01mreturn\u001b[39;00m \u001b[38;5;28mcls\u001b[39m(expr)\n",
      "\u001b[0;31mTypeError\u001b[0m: Terminal 1.5 type <class 'float'> does not match the expected one: <class 'int'>."
     ]
    }
   ],
   "source": [
    "from deap import creator , base , gp\n",
    "import operator\n",
    "class syntax(str):\n",
    "    def __new__(cls , value , **kwargs):\n",
    "        value_ = str(value).replace(' ' , '')\n",
    "        obj = super().__new__(cls , value_)\n",
    "        obj.__dict__ = {}\n",
    "        if hasattr(value , '__dict__'):\n",
    "            obj.__dict__.update(value.__dict__)\n",
    "        obj.__dict__.update(kwargs)\n",
    "        return obj\n",
    "creator.create(\"FitnessMin\", base.Fitness, weights=(+1.0,))   # 优化问题：单目标优化，weights为单元素；+1表明适应度越大，越容易存活\n",
    "creator.create(\"Syntax\", syntax , fitness=creator.FitnessMin) # type:ignore 个体编码：pset，预设的\n",
    "\n",
    "def aadd(x,y):\n",
    "    return x+y\n",
    "\n",
    "import numpy as np\n",
    "class int1(int): pass\n",
    "pset = gp.PrimitiveSetTyped(\"MAIN\", [np.ndarray , np.ndarray] , np.ndarray)\n",
    "pset.addPrimitive(aadd, [np.ndarray, (np.ndarray)], np.ndarray)\n",
    "pset.addPrimitive(aadd, [np.ndarray, (int)], np.ndarray , 'aadd_int')\n",
    "pset.renameArguments(ARG0='x')\n",
    "pset.renameArguments(ARG1='y')\n",
    "pset.renameArguments(ARG2='z')\n",
    "pset.renameArguments(ARG3='a')\n",
    "pset.renameArguments(ARG4='b')\n",
    "for v in [10 , 15 , 20 , 40]:  pset.addTerminal(v, int1)\n",
    "creator.create(\"Individual\", gp.PrimitiveTree , pset=pset)\n",
    "\n",
    "gp.compile(gp.PrimitiveTree.from_string('aadd(x,y)' , pset=pset) , pset=pset)(np.array([0]),np.array([0.5]))\n",
    "gp.compile(gp.PrimitiveTree.from_string('aadd_int(x,1)' , pset=pset) , pset=pset)(np.array([0]),np.array([0.5]))\n",
    "gp.compile(gp.PrimitiveTree.from_string('aadd_int(x,1.5)' , pset=pset) , pset=pset)(np.array([0]),np.array([0.5]))"
   ]
  },
  {
   "cell_type": "code",
   "execution_count": 77,
   "metadata": {},
   "outputs": [
    {
     "data": {
      "text/plain": [
       "'124124'"
      ]
     },
     "execution_count": 77,
     "metadata": {},
     "output_type": "execute_result"
    }
   ],
   "source": [
    "syntax('124 124')"
   ]
  },
  {
   "cell_type": "code",
   "execution_count": 1,
   "metadata": {},
   "outputs": [
    {
     "name": "stdout",
     "output_type": "stream",
     "text": [
      "**Job Directory is : \"./pop/3\"\n",
      "  --> Continue Training in \"./pop/3\"\n",
      "**Device name: NVIDIA GeForce RTX 4090 , Available: True\n",
      "**Load Data Done, Cost 2.13 Secs\n",
      "**Cuda Memory: Free 20.9G, Allocated 2.3G, Reserved 2.3G, Re-collect 0.0G Cache!\n",
      "==================== Iteration 0 start from Generation 5 ====================\n"
     ]
    },
    {
     "ename": "TypeError",
     "evalue": "issubclass() arg 1 must be a class",
     "output_type": "error",
     "traceback": [
      "\u001b[0;31m---------------------------------------------------------------------------\u001b[0m",
      "\u001b[0;31mTypeError\u001b[0m                                 Traceback (most recent call last)",
      "Cell \u001b[0;32mIn[1], line 3\u001b[0m\n\u001b[1;32m      1\u001b[0m \u001b[38;5;66;03m# 真实测试，job_id=-1代表在新的pop的子文件夹中保存结果，如果强制要求在已有文件夹基础上继续训练，代码可能要再修改\u001b[39;00m\n\u001b[1;32m      2\u001b[0m \u001b[38;5;28;01mfrom\u001b[39;00m \u001b[38;5;21;01mgp_main\u001b[39;00m \u001b[38;5;28;01mimport\u001b[39;00m main\n\u001b[0;32m----> 3\u001b[0m \u001b[43mmain\u001b[49m\u001b[43m(\u001b[49m\u001b[38;5;28;43;01mFalse\u001b[39;49;00m\u001b[43m \u001b[49m\u001b[43m,\u001b[49m\u001b[43m \u001b[49m\u001b[43mjob_id\u001b[49m\u001b[38;5;241;43m=\u001b[39;49m\u001b[43m \u001b[49m\u001b[38;5;241;43m3\u001b[39;49m\u001b[43m \u001b[49m\u001b[43m,\u001b[49m\u001b[43m \u001b[49m\u001b[43mstart_iter\u001b[49m\u001b[38;5;241;43m=\u001b[39;49m\u001b[38;5;241;43m0\u001b[39;49m\u001b[43m \u001b[49m\u001b[43m,\u001b[49m\u001b[43m \u001b[49m\u001b[43mstart_gen\u001b[49m\u001b[38;5;241;43m=\u001b[39;49m\u001b[38;5;241;43m5\u001b[39;49m\u001b[43m)\u001b[49m\n",
      "File \u001b[0;32m~/Workspace/learngp/gp_main.py:715\u001b[0m, in \u001b[0;36mmain\u001b[0;34m(test_code, job_id, start_iter, start_gen, **kwargs)\u001b[0m\n\u001b[1;32m    713\u001b[0m \u001b[38;5;28;01mfor\u001b[39;00m i_iter \u001b[38;5;129;01min\u001b[39;00m \u001b[38;5;28mrange\u001b[39m(start_iter , gp_space\u001b[38;5;241m.\u001b[39mn_iter):\n\u001b[1;32m    714\u001b[0m     \u001b[38;5;28mprint\u001b[39m(\u001b[38;5;124m'\u001b[39m\u001b[38;5;124m=\u001b[39m\u001b[38;5;124m'\u001b[39m \u001b[38;5;241m*\u001b[39m \u001b[38;5;241m20\u001b[39m \u001b[38;5;241m+\u001b[39m \u001b[38;5;124mf\u001b[39m\u001b[38;5;124m'\u001b[39m\u001b[38;5;124m Iteration \u001b[39m\u001b[38;5;132;01m{\u001b[39;00mi_iter\u001b[38;5;132;01m}\u001b[39;00m\u001b[38;5;124m start from Generation \u001b[39m\u001b[38;5;132;01m{\u001b[39;00mstart_gen \u001b[38;5;241m*\u001b[39m (i_iter \u001b[38;5;241m==\u001b[39m start_iter)\u001b[38;5;132;01m}\u001b[39;00m\u001b[38;5;124m \u001b[39m\u001b[38;5;124m'\u001b[39m \u001b[38;5;241m+\u001b[39m \u001b[38;5;124m'\u001b[39m\u001b[38;5;124m=\u001b[39m\u001b[38;5;124m'\u001b[39m \u001b[38;5;241m*\u001b[39m \u001b[38;5;241m20\u001b[39m)\n\u001b[0;32m--> 715\u001b[0m     \u001b[43mouter_loop\u001b[49m\u001b[43m(\u001b[49m\u001b[43mi_iter\u001b[49m\u001b[43m \u001b[49m\u001b[43m,\u001b[49m\u001b[43m \u001b[49m\u001b[43mgp_space\u001b[49m\u001b[43m \u001b[49m\u001b[43m,\u001b[49m\u001b[43m \u001b[49m\u001b[43mstart_gen\u001b[49m\u001b[43m \u001b[49m\u001b[38;5;241;43m=\u001b[39;49m\u001b[43m \u001b[49m\u001b[43mstart_gen\u001b[49m\u001b[43m \u001b[49m\u001b[38;5;241;43m*\u001b[39;49m\u001b[43m \u001b[49m\u001b[43m(\u001b[49m\u001b[43mi_iter\u001b[49m\u001b[43m \u001b[49m\u001b[38;5;241;43m==\u001b[39;49m\u001b[43m \u001b[49m\u001b[43mstart_iter\u001b[49m\u001b[43m)\u001b[49m\u001b[43m)\u001b[49m\n\u001b[1;32m    717\u001b[0m hours, secs \u001b[38;5;241m=\u001b[39m \u001b[38;5;28mdivmod\u001b[39m(time\u001b[38;5;241m.\u001b[39mtime() \u001b[38;5;241m-\u001b[39m time0, \u001b[38;5;241m3600\u001b[39m)\n\u001b[1;32m    718\u001b[0m \u001b[38;5;28mprint\u001b[39m(\u001b[38;5;124m'\u001b[39m\u001b[38;5;124m=\u001b[39m\u001b[38;5;124m'\u001b[39m \u001b[38;5;241m*\u001b[39m \u001b[38;5;241m20\u001b[39m \u001b[38;5;241m+\u001b[39m \u001b[38;5;124mf\u001b[39m\u001b[38;5;124m'\u001b[39m\u001b[38;5;124m Total Time Cost :\u001b[39m\u001b[38;5;132;01m{\u001b[39;00mhours\u001b[38;5;132;01m:\u001b[39;00m\u001b[38;5;124m.0f\u001b[39m\u001b[38;5;132;01m}\u001b[39;00m\u001b[38;5;124m hours \u001b[39m\u001b[38;5;132;01m{\u001b[39;00msecs\u001b[38;5;241m/\u001b[39m\u001b[38;5;241m60\u001b[39m\u001b[38;5;132;01m:\u001b[39;00m\u001b[38;5;124m.1f\u001b[39m\u001b[38;5;132;01m}\u001b[39;00m\u001b[38;5;124m \u001b[39m\u001b[38;5;124m'\u001b[39m \u001b[38;5;241m+\u001b[39m \u001b[38;5;124m'\u001b[39m\u001b[38;5;124m=\u001b[39m\u001b[38;5;124m'\u001b[39m \u001b[38;5;241m*\u001b[39m \u001b[38;5;241m20\u001b[39m)\n",
      "File \u001b[0;32m~/Workspace/learngp/gp_main.py:584\u001b[0m, in \u001b[0;36mouter_loop\u001b[0;34m(i_iter, gp_space, start_gen)\u001b[0m\n\u001b[1;32m    582\u001b[0m \u001b[38;5;124;03m'''初始化遗传规划Toolbox'''\u001b[39;00m\n\u001b[1;32m    583\u001b[0m \u001b[38;5;66;03m#with gp_space.gp_timer('Setting' , print_str = f'**Initialize GP Toolbox') as ptimer:\u001b[39;00m\n\u001b[0;32m--> 584\u001b[0m toolbox \u001b[38;5;241m=\u001b[39m \u001b[43mgpHandler\u001b[49m\u001b[38;5;241;43m.\u001b[39;49m\u001b[43mToolbox\u001b[49m\u001b[43m(\u001b[49m\u001b[43meval_func\u001b[49m\u001b[43m \u001b[49m\u001b[38;5;241;43m=\u001b[39;49m\u001b[43m \u001b[49m\u001b[43mevaluate\u001b[49m\u001b[43m \u001b[49m\u001b[43m,\u001b[49m\u001b[43m \u001b[49m\u001b[43meval_pop\u001b[49m\u001b[43m \u001b[49m\u001b[38;5;241;43m=\u001b[39;49m\u001b[43m \u001b[49m\u001b[43mevaluate_pop\u001b[49m\u001b[43m \u001b[49m\u001b[43m,\u001b[49m\u001b[43m \u001b[49m\u001b[38;5;241;43m*\u001b[39;49m\u001b[38;5;241;43m*\u001b[39;49m\u001b[43mgp_space\u001b[49m\u001b[43m)\u001b[49m\n\u001b[1;32m    585\u001b[0m gp_space\u001b[38;5;241m.\u001b[39mfile_manager\u001b[38;5;241m.\u001b[39mupdate_toolbox(toolbox)\n\u001b[1;32m    587\u001b[0m \u001b[38;5;124;03m'''进行进化与变异,生成种群、精英和先祖列表'''\u001b[39;00m\n",
      "File \u001b[0;32m~/Workspace/learngp/gp_utils.py:353\u001b[0m, in \u001b[0;36mgpHandler.Toolbox\u001b[0;34m(cls, eval_func, eval_pop, gp_args, i_iter, max_depth, n_args, **kwargs)\u001b[0m\n\u001b[1;32m    350\u001b[0m pset\u001b[38;5;241m.\u001b[39maddEphemeralConstant(\u001b[38;5;124mf\u001b[39m\u001b[38;5;124m'\u001b[39m\u001b[38;5;124mfloat1\u001b[39m\u001b[38;5;132;01m{\u001b[39;00mstr_iter\u001b[38;5;132;01m}\u001b[39;00m\u001b[38;5;124m'\u001b[39m, \u001b[38;5;28;01mlambda\u001b[39;00m: \u001b[38;5;28mround\u001b[39m(np\u001b[38;5;241m.\u001b[39mrandom\u001b[38;5;241m.\u001b[39mrandom()\u001b[38;5;241m*\u001b[39m\u001b[38;5;241m2\u001b[39m\u001b[38;5;241m+\u001b[39m\u001b[38;5;241m1\u001b[39m,\u001b[38;5;241m2\u001b[39m), float1) \u001b[38;5;66;03m# random int must > 1\u001b[39;00m\n\u001b[1;32m    352\u001b[0m \u001b[38;5;66;03m# add primatives\u001b[39;00m\n\u001b[0;32m--> 353\u001b[0m \u001b[38;5;28;01mfor\u001b[39;00m prims \u001b[38;5;129;01min\u001b[39;00m \u001b[38;5;28mcls\u001b[39m\u001b[38;5;241m.\u001b[39mprimatives_all(): \u001b[43mpset\u001b[49m\u001b[38;5;241;43m.\u001b[39;49m\u001b[43maddPrimitive\u001b[49m\u001b[43m(\u001b[49m\u001b[38;5;241;43m*\u001b[39;49m\u001b[43mprims\u001b[49m\u001b[43m)\u001b[49m\n\u001b[1;32m    355\u001b[0m \u001b[38;5;124;03m'''创建遗传算法基础模块，以下参数不建议更改，如需更改，可参考deap官方文档'''\u001b[39;00m\n\u001b[1;32m    356\u001b[0m \u001b[38;5;66;03m# https://zhuanlan.zhihu.com/p/72130823\u001b[39;00m\n",
      "File \u001b[0;32m~/.local/lib/python3.10/site-packages/deap/gp.py:343\u001b[0m, in \u001b[0;36mPrimitiveSetTyped.addPrimitive\u001b[0;34m(self, primitive, in_types, ret_type, name)\u001b[0m\n\u001b[1;32m    335\u001b[0m prim \u001b[38;5;241m=\u001b[39m Primitive(name, in_types, ret_type)\n\u001b[1;32m    337\u001b[0m \u001b[38;5;28;01massert\u001b[39;00m name \u001b[38;5;129;01mnot\u001b[39;00m \u001b[38;5;129;01min\u001b[39;00m \u001b[38;5;28mself\u001b[39m\u001b[38;5;241m.\u001b[39mcontext \u001b[38;5;129;01mor\u001b[39;00m \\\n\u001b[1;32m    338\u001b[0m        \u001b[38;5;28mself\u001b[39m\u001b[38;5;241m.\u001b[39mcontext[name] \u001b[38;5;129;01mis\u001b[39;00m primitive, \\\n\u001b[1;32m    339\u001b[0m     \u001b[38;5;124m\"\u001b[39m\u001b[38;5;124mPrimitives are required to have a unique name. \u001b[39m\u001b[38;5;124m\"\u001b[39m \\\n\u001b[1;32m    340\u001b[0m     \u001b[38;5;124m\"\u001b[39m\u001b[38;5;124mConsider using the argument \u001b[39m\u001b[38;5;124m'\u001b[39m\u001b[38;5;124mname\u001b[39m\u001b[38;5;124m'\u001b[39m\u001b[38;5;124m to rename your \u001b[39m\u001b[38;5;124m\"\u001b[39m \\\n\u001b[1;32m    341\u001b[0m     \u001b[38;5;124m\"\u001b[39m\u001b[38;5;124msecond \u001b[39m\u001b[38;5;124m'\u001b[39m\u001b[38;5;132;01m%s\u001b[39;00m\u001b[38;5;124m'\u001b[39m\u001b[38;5;124m primitive.\u001b[39m\u001b[38;5;124m\"\u001b[39m \u001b[38;5;241m%\u001b[39m (name,)\n\u001b[0;32m--> 343\u001b[0m \u001b[38;5;28;43mself\u001b[39;49m\u001b[38;5;241;43m.\u001b[39;49m\u001b[43m_add\u001b[49m\u001b[43m(\u001b[49m\u001b[43mprim\u001b[49m\u001b[43m)\u001b[49m\n\u001b[1;32m    344\u001b[0m \u001b[38;5;28mself\u001b[39m\u001b[38;5;241m.\u001b[39mcontext[prim\u001b[38;5;241m.\u001b[39mname] \u001b[38;5;241m=\u001b[39m primitive\n\u001b[1;32m    345\u001b[0m \u001b[38;5;28mself\u001b[39m\u001b[38;5;241m.\u001b[39mprims_count \u001b[38;5;241m+\u001b[39m\u001b[38;5;241m=\u001b[39m \u001b[38;5;241m1\u001b[39m\n",
      "File \u001b[0;32m~/.local/lib/python3.10/site-packages/deap/gp.py:314\u001b[0m, in \u001b[0;36mPrimitiveSetTyped._add\u001b[0;34m(self, prim)\u001b[0m\n\u001b[1;32m    312\u001b[0m \u001b[38;5;28;01mif\u001b[39;00m \u001b[38;5;28misinstance\u001b[39m(prim, Primitive):\n\u001b[1;32m    313\u001b[0m     \u001b[38;5;28;01mfor\u001b[39;00m type_ \u001b[38;5;129;01min\u001b[39;00m prim\u001b[38;5;241m.\u001b[39margs:\n\u001b[0;32m--> 314\u001b[0m         \u001b[43maddType\u001b[49m\u001b[43m(\u001b[49m\u001b[38;5;28;43mself\u001b[39;49m\u001b[38;5;241;43m.\u001b[39;49m\u001b[43mprimitives\u001b[49m\u001b[43m,\u001b[49m\u001b[43m \u001b[49m\u001b[43mtype_\u001b[49m\u001b[43m)\u001b[49m\n\u001b[1;32m    315\u001b[0m         addType(\u001b[38;5;28mself\u001b[39m\u001b[38;5;241m.\u001b[39mterminals, type_)\n\u001b[1;32m    316\u001b[0m     dict_ \u001b[38;5;241m=\u001b[39m \u001b[38;5;28mself\u001b[39m\u001b[38;5;241m.\u001b[39mprimitives\n",
      "File \u001b[0;32m~/.local/lib/python3.10/site-packages/deap/gp.py:302\u001b[0m, in \u001b[0;36mPrimitiveSetTyped._add.<locals>.addType\u001b[0;34m(dict_, ret_type)\u001b[0m\n\u001b[1;32m    300\u001b[0m new_list \u001b[38;5;241m=\u001b[39m []\n\u001b[1;32m    301\u001b[0m \u001b[38;5;28;01mfor\u001b[39;00m type_, list_ \u001b[38;5;129;01min\u001b[39;00m \u001b[38;5;28mlist\u001b[39m(dict_\u001b[38;5;241m.\u001b[39mitems()):\n\u001b[0;32m--> 302\u001b[0m     \u001b[38;5;28;01mif\u001b[39;00m \u001b[38;5;28;43missubclass\u001b[39;49m\u001b[43m(\u001b[49m\u001b[43mtype_\u001b[49m\u001b[43m,\u001b[49m\u001b[43m \u001b[49m\u001b[43mret_type\u001b[49m\u001b[43m)\u001b[49m:\n\u001b[1;32m    303\u001b[0m         \u001b[38;5;28;01mfor\u001b[39;00m item \u001b[38;5;129;01min\u001b[39;00m list_:\n\u001b[1;32m    304\u001b[0m             \u001b[38;5;28;01mif\u001b[39;00m item \u001b[38;5;129;01mnot\u001b[39;00m \u001b[38;5;129;01min\u001b[39;00m new_list:\n",
      "\u001b[0;31mTypeError\u001b[0m: issubclass() arg 1 must be a class"
     ]
    }
   ],
   "source": [
    "# 真实测试，job_id=-1代表在新的pop的子文件夹中保存结果，如果强制要求在已有文件夹基础上继续训练，代码可能要再修改\n",
    "from gp_main import main\n",
    "main(False , job_id= 3 , start_iter=0 , start_gen=5)"
   ]
  },
  {
   "cell_type": "code",
   "execution_count": 1,
   "metadata": {},
   "outputs": [
    {
     "name": "stderr",
     "output_type": "stream",
     "text": [
      "Loading factor parquets: 100%|██████████| 5/5 [00:06<00:00,  1.21s/it]\n"
     ]
    },
    {
     "name": "stdout",
     "output_type": "stream",
     "text": [
      "Beware! future information used!\n"
     ]
    }
   ],
   "source": [
    "from gp_main import *\n",
    "a = gp_multifactor(0)"
   ]
  },
  {
   "cell_type": "code",
   "execution_count": 6,
   "metadata": {},
   "outputs": [
    {
     "data": {
      "text/plain": [
       "True"
      ]
     },
     "execution_count": 6,
     "metadata": {},
     "output_type": "execute_result"
    }
   ],
   "source": [
    "import torch\n",
    "a = torch.Tensor([torch.nan,torch.inf])\n",
    "b = a.nan_to_num_(0,0,0)\n",
    "a is b"
   ]
  },
  {
   "cell_type": "code",
   "execution_count": 2,
   "metadata": {},
   "outputs": [
    {
     "name": "stdout",
     "output_type": "stream",
     "text": [
      "**Device name: NVIDIA GeForce RTX 4090 , Available: True\n",
      "  --> Pop directory is : \"./pop/2\"\n",
      "**Load Data Done, cost 2.28 secs\n",
      "**Cuda Memory: Free 1.4G, Allocated 16.6G, Reserved 21.8G\n"
     ]
    },
    {
     "data": {
      "text/plain": [
       "'ts_corr(TURN, TURN, 7)'"
      ]
     },
     "execution_count": 2,
     "metadata": {},
     "output_type": "execute_result"
    }
   ],
   "source": [
    "from gp_main import *\n",
    "from gp_utils import *\n",
    "gp_space = gp_namespace(gp_parameters(False , -1 , True))\n",
    "\n",
    "toolbox = gpHandler.Toolbox(eval_func = evaluate , **gp_space)\n",
    "population = gp_population(toolbox , **gp_space)\n",
    "'ts_corr(TURN, TURN, 7)'"
   ]
  }
 ],
 "metadata": {
  "kernelspec": {
   "display_name": "base",
   "language": "python",
   "name": "python3"
  },
  "language_info": {
   "codemirror_mode": {
    "name": "ipython",
    "version": 3
   },
   "file_extension": ".py",
   "mimetype": "text/x-python",
   "name": "python",
   "nbconvert_exporter": "python",
   "pygments_lexer": "ipython3",
   "version": "3.10.12"
  }
 },
 "nbformat": 4,
 "nbformat_minor": 2
}
