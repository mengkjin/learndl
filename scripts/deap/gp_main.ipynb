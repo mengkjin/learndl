{
 "cells": [
  {
   "cell_type": "code",
   "execution_count": 1,
   "metadata": {},
   "outputs": [
    {
     "name": "stdout",
     "output_type": "stream",
     "text": [
      "  --> Pop directory is : \"./pop/bendi\"\n",
      "**Device name: NVIDIA GeForce RTX 4090 , Available: True\n",
      "  --> Directly load ./data/package/gp_data_package_test.pt\n",
      "  --> 2 factors, 2 raw data loaded!\n",
      "**Load Data Done, cost 0.19 secs\n",
      " ------------------------------- Outer Loop 0 -------------------------------\n",
      "**Initialize GP Toolbox Done, cost 0.00 secs\n",
      "**A Population(4) has been Initialized\n"
     ]
    },
    {
     "name": "stderr",
     "output_type": "stream",
     "text": [
      "  --> Evolve Generation 0: 100%|██████████| 4/4 [00:00<00:00, 13.94it/s]\n"
     ]
    },
    {
     "name": "stdout",
     "output_type": "stream",
     "text": [
      "**A HallofFame(2) has been Evolutionized\n",
      "**1 Generations of Evolution Done, cost 0.41 secs\n",
      "  --> HallofFame(2) Contains 1 Promising Candidates with RankIR >= 2.00\n",
      "     --> Good sign candidate : 1 , valid 2\n",
      "     --> Good 0: RankIR -4.32 MaxCorr 0.00: turn\n",
      "     --> Cuda Memories of good_logs , gp_values and others take 0.08G\n",
      "**Select HallofFamers Save Factor Values Done, cost 6.95 secs\n",
      "**The HallofFame(2) Eventually has 1 Outstanders\n",
      "     --> Old and New nans: 449561/449561 , infs: 0/0 , ~0s: 2521640/2521640 , ~nans: 2072079/2072079\n",
      "**Update Residual Labels and Dump Results Done, cost 0.50 secs\n",
      " ------------------------------- Outer Loop 1 -------------------------------\n",
      "**Initialize GP Toolbox Done, cost 0.00 secs\n",
      "**A Population(4) has been Initialized\n"
     ]
    },
    {
     "name": "stderr",
     "output_type": "stream",
     "text": [
      "  --> Evolve Generation 0: 100%|██████████| 4/4 [00:00<00:00, 74.54it/s]"
     ]
    },
    {
     "name": "stdout",
     "output_type": "stream",
     "text": [
      "**A HallofFame(2) has been Evolutionized\n",
      "**1 Generations of Evolution Done, cost 0.16 secs\n"
     ]
    },
    {
     "name": "stderr",
     "output_type": "stream",
     "text": [
      "\n"
     ]
    },
    {
     "name": "stdout",
     "output_type": "stream",
     "text": [
      "  --> HallofFame(2) Contains 2 Promising Candidates with RankIR >= 2.00\n",
      "     --> Good sign candidate : 2 , valid 2\n",
      "     --> Good 1: RankIR -5.79 MaxCorr 0.00: ts_rng_dif(TURN,15,6)\n",
      "     --> Good 2: RankIR -4.28 MaxCorr 0.27: ma(turn,4)\n",
      "     --> Cuda Memories of good_logs , gp_values and others take 0.08G\n",
      "**Select HallofFamers Save Factor Values Done, cost 13.17 secs\n",
      "**The HallofFame(2) Eventually has 2 Outstanders\n",
      "     --> Old and New nans: 449561/449561 , infs: 0/0 , ~0s: 2521640/2464459 , ~nans: 2072079/2072079\n",
      "**Update Residual Labels and Dump Results Done, cost 0.40 secs\n",
      "------------------------------- Total Time Cost :0 hours 0.4 -------------------------------\n",
      "   Setting  Evolution  Selection  Neu_dump  AvgVarAnd  AvgCompile  AvgEval      All\n",
      "0   0.0015     0.4124     6.9501    0.5036     0.0005     0.0001    0.0446   7.8678\n",
      "1   0.0009     0.1628    13.1720    0.3985     0.0008     0.0001    0.0069  13.7344\n"
     ]
    }
   ],
   "source": [
    "# 测试代码跑起来有没有问题，参数都设的很小，应该在一两分钟内执行完\n",
    "from gp_main import main\n",
    "profiler = main(True , job_id= -1 , profiling=True , profiler_out='cprofile.csv')"
   ]
  },
  {
   "cell_type": "code",
   "execution_count": 4,
   "metadata": {},
   "outputs": [
    {
     "data": {
      "text/html": [
       "<div>\n",
       "<style scoped>\n",
       "    .dataframe tbody tr th:only-of-type {\n",
       "        vertical-align: middle;\n",
       "    }\n",
       "\n",
       "    .dataframe tbody tr th {\n",
       "        vertical-align: top;\n",
       "    }\n",
       "\n",
       "    .dataframe thead th {\n",
       "        text-align: right;\n",
       "    }\n",
       "</style>\n",
       "<table border=\"1\" class=\"dataframe\">\n",
       "  <thead>\n",
       "    <tr style=\"text-align: right;\">\n",
       "      <th></th>\n",
       "      <th>type</th>\n",
       "      <th>name</th>\n",
       "      <th>ncalls</th>\n",
       "      <th>ccalls</th>\n",
       "      <th>tottime</th>\n",
       "      <th>cumtime</th>\n",
       "      <th>where</th>\n",
       "      <th>memory</th>\n",
       "      <th>full_name</th>\n",
       "      <th>caller</th>\n",
       "    </tr>\n",
       "  </thead>\n",
       "  <tbody>\n",
       "    <tr>\n",
       "      <th>196</th>\n",
       "      <td>built-in-method</td>\n",
       "      <td>gc.collect</td>\n",
       "      <td>11</td>\n",
       "      <td>0</td>\n",
       "      <td>1.1878</td>\n",
       "      <td>1.1878</td>\n",
       "      <td></td>\n",
       "      <td></td>\n",
       "      <td>&lt;built-in method gc.collect&gt;</td>\n",
       "      <td>None</td>\n",
       "    </tr>\n",
       "    <tr>\n",
       "      <th>404</th>\n",
       "      <td>function</td>\n",
       "      <td>write_column</td>\n",
       "      <td>15633</td>\n",
       "      <td>0</td>\n",
       "      <td>15.3245</td>\n",
       "      <td>1.0178</td>\n",
       "      <td>\"/home/mengkjin/.local/lib/python3.10/site-pac...</td>\n",
       "      <td>0x7f40b50a49d0</td>\n",
       "      <td>&lt;code object write_column at 0x7f40b50a49d0, f...</td>\n",
       "      <td>[(&lt;code object name at 0x7f42028bf470, file \"/...</td>\n",
       "    </tr>\n",
       "    <tr>\n",
       "      <th>90</th>\n",
       "      <td>built-in-method</td>\n",
       "      <td>builtins.isinstance</td>\n",
       "      <td>3831316</td>\n",
       "      <td>46946</td>\n",
       "      <td>1.0066</td>\n",
       "      <td>0.6506</td>\n",
       "      <td></td>\n",
       "      <td></td>\n",
       "      <td>&lt;built-in method builtins.isinstance&gt;</td>\n",
       "      <td>[(&lt;code object _instancecheck at 0x7f42039702f...</td>\n",
       "    </tr>\n",
       "    <tr>\n",
       "      <th>894</th>\n",
       "      <td>function</td>\n",
       "      <td>apply</td>\n",
       "      <td>15649</td>\n",
       "      <td>0</td>\n",
       "      <td>0.8136</td>\n",
       "      <td>0.5306</td>\n",
       "      <td>\"/home/mengkjin/.local/lib/python3.10/site-pac...</td>\n",
       "      <td>0x7f42027cc920</td>\n",
       "      <td>&lt;code object apply at 0x7f42027cc920, file \"/h...</td>\n",
       "      <td>[(&lt;code object extend_blocks at 0x7f4202993520...</td>\n",
       "    </tr>\n",
       "    <tr>\n",
       "      <th>1198</th>\n",
       "      <td>function</td>\n",
       "      <td>__init__</td>\n",
       "      <td>45609</td>\n",
       "      <td>4</td>\n",
       "      <td>3.3032</td>\n",
       "      <td>0.4950</td>\n",
       "      <td>\"/home/mengkjin/.local/lib/python3.10/site-pac...</td>\n",
       "      <td>0x7f4202ca0500</td>\n",
       "      <td>&lt;code object __init__ at 0x7f4202ca0500, file ...</td>\n",
       "      <td>[(&lt;code object sanitize_array at 0x7f420315466...</td>\n",
       "    </tr>\n",
       "    <tr>\n",
       "      <th>...</th>\n",
       "      <td>...</td>\n",
       "      <td>...</td>\n",
       "      <td>...</td>\n",
       "      <td>...</td>\n",
       "      <td>...</td>\n",
       "      <td>...</td>\n",
       "      <td>...</td>\n",
       "      <td>...</td>\n",
       "      <td>...</td>\n",
       "      <td>...</td>\n",
       "    </tr>\n",
       "    <tr>\n",
       "      <th>2162</th>\n",
       "      <td>function</td>\n",
       "      <td>is_set</td>\n",
       "      <td>48</td>\n",
       "      <td>0</td>\n",
       "      <td>0.0000</td>\n",
       "      <td>0.0000</td>\n",
       "      <td>\"/usr/lib/python3.10/threading.py\",553</td>\n",
       "      <td>0x7f42cc84cd40</td>\n",
       "      <td>&lt;code object is_set at 0x7f42cc84cd40, file \"/...</td>\n",
       "      <td>None</td>\n",
       "    </tr>\n",
       "    <tr>\n",
       "      <th>1643</th>\n",
       "      <td>function</td>\n",
       "      <td>OpenFile</td>\n",
       "      <td>1</td>\n",
       "      <td>0</td>\n",
       "      <td>0.0000</td>\n",
       "      <td>0.0000</td>\n",
       "      <td>\"/home/mengkjin/.local/lib/python3.10/site-pac...</td>\n",
       "      <td>0x7f42a56cc660</td>\n",
       "      <td>&lt;code object OpenFile at 0x7f42a56cc660, file ...</td>\n",
       "      <td>None</td>\n",
       "    </tr>\n",
       "    <tr>\n",
       "      <th>1735</th>\n",
       "      <td>built-in-method</td>\n",
       "      <td>numpy.asanyarray</td>\n",
       "      <td>30</td>\n",
       "      <td>0</td>\n",
       "      <td>0.0000</td>\n",
       "      <td>0.0000</td>\n",
       "      <td></td>\n",
       "      <td></td>\n",
       "      <td>&lt;built-in method numpy.asanyarray&gt;</td>\n",
       "      <td>None</td>\n",
       "    </tr>\n",
       "    <tr>\n",
       "      <th>1639</th>\n",
       "      <td>function</td>\n",
       "      <td>Transaction</td>\n",
       "      <td>1</td>\n",
       "      <td>0</td>\n",
       "      <td>0.0000</td>\n",
       "      <td>0.0000</td>\n",
       "      <td>\"/home/mengkjin/.local/lib/python3.10/site-pac...</td>\n",
       "      <td>0x7f42a56b6e40</td>\n",
       "      <td>&lt;code object Transaction at 0x7f42a56b6e40, fi...</td>\n",
       "      <td>None</td>\n",
       "    </tr>\n",
       "    <tr>\n",
       "      <th>2320</th>\n",
       "      <td>function</td>\n",
       "      <td>__init__</td>\n",
       "      <td>42</td>\n",
       "      <td>0</td>\n",
       "      <td>0.0000</td>\n",
       "      <td>0.0000</td>\n",
       "      <td>\"/usr/lib/python3.10/codecs.py\",260</td>\n",
       "      <td>0x7f42ccd17c00</td>\n",
       "      <td>&lt;code object __init__ at 0x7f42ccd17c00, file ...</td>\n",
       "      <td>None</td>\n",
       "    </tr>\n",
       "  </tbody>\n",
       "</table>\n",
       "<p>2321 rows × 10 columns</p>\n",
       "</div>"
      ],
      "text/plain": [
       "                 type                 name   ncalls  ccalls  tottime  cumtime  \\\n",
       "196   built-in-method           gc.collect       11       0   1.1878   1.1878   \n",
       "404          function         write_column    15633       0  15.3245   1.0178   \n",
       "90    built-in-method  builtins.isinstance  3831316   46946   1.0066   0.6506   \n",
       "894          function                apply    15649       0   0.8136   0.5306   \n",
       "1198         function             __init__    45609       4   3.3032   0.4950   \n",
       "...               ...                  ...      ...     ...      ...      ...   \n",
       "2162         function               is_set       48       0   0.0000   0.0000   \n",
       "1643         function             OpenFile        1       0   0.0000   0.0000   \n",
       "1735  built-in-method     numpy.asanyarray       30       0   0.0000   0.0000   \n",
       "1639         function          Transaction        1       0   0.0000   0.0000   \n",
       "2320         function             __init__       42       0   0.0000   0.0000   \n",
       "\n",
       "                                                  where          memory  \\\n",
       "196                                                                       \n",
       "404   \"/home/mengkjin/.local/lib/python3.10/site-pac...  0x7f40b50a49d0   \n",
       "90                                                                        \n",
       "894   \"/home/mengkjin/.local/lib/python3.10/site-pac...  0x7f42027cc920   \n",
       "1198  \"/home/mengkjin/.local/lib/python3.10/site-pac...  0x7f4202ca0500   \n",
       "...                                                 ...             ...   \n",
       "2162             \"/usr/lib/python3.10/threading.py\",553  0x7f42cc84cd40   \n",
       "1643  \"/home/mengkjin/.local/lib/python3.10/site-pac...  0x7f42a56cc660   \n",
       "1735                                                                      \n",
       "1639  \"/home/mengkjin/.local/lib/python3.10/site-pac...  0x7f42a56b6e40   \n",
       "2320                \"/usr/lib/python3.10/codecs.py\",260  0x7f42ccd17c00   \n",
       "\n",
       "                                              full_name  \\\n",
       "196                        <built-in method gc.collect>   \n",
       "404   <code object write_column at 0x7f40b50a49d0, f...   \n",
       "90                <built-in method builtins.isinstance>   \n",
       "894   <code object apply at 0x7f42027cc920, file \"/h...   \n",
       "1198  <code object __init__ at 0x7f4202ca0500, file ...   \n",
       "...                                                 ...   \n",
       "2162  <code object is_set at 0x7f42cc84cd40, file \"/...   \n",
       "1643  <code object OpenFile at 0x7f42a56cc660, file ...   \n",
       "1735                 <built-in method numpy.asanyarray>   \n",
       "1639  <code object Transaction at 0x7f42a56b6e40, fi...   \n",
       "2320  <code object __init__ at 0x7f42ccd17c00, file ...   \n",
       "\n",
       "                                                 caller  \n",
       "196                                                None  \n",
       "404   [(<code object name at 0x7f42028bf470, file \"/...  \n",
       "90    [(<code object _instancecheck at 0x7f42039702f...  \n",
       "894   [(<code object extend_blocks at 0x7f4202993520...  \n",
       "1198  [(<code object sanitize_array at 0x7f420315466...  \n",
       "...                                                 ...  \n",
       "2162                                               None  \n",
       "1643                                               None  \n",
       "1735                                               None  \n",
       "1639                                               None  \n",
       "2320                                               None  \n",
       "\n",
       "[2321 rows x 10 columns]"
      ]
     },
     "execution_count": 4,
     "metadata": {},
     "output_type": "execute_result"
    }
   ],
   "source": [
    "profiler.get_df(sort_on='cumtime' , highlight= None , output = 'cprofile.csv')"
   ]
  },
  {
   "cell_type": "code",
   "execution_count": 2,
   "metadata": {},
   "outputs": [
    {
     "data": {
      "text/html": [
       "<div>\n",
       "<style scoped>\n",
       "    .dataframe tbody tr th:only-of-type {\n",
       "        vertical-align: middle;\n",
       "    }\n",
       "\n",
       "    .dataframe tbody tr th {\n",
       "        vertical-align: top;\n",
       "    }\n",
       "\n",
       "    .dataframe thead th {\n",
       "        text-align: right;\n",
       "    }\n",
       "</style>\n",
       "<table border=\"1\" class=\"dataframe\">\n",
       "  <thead>\n",
       "    <tr style=\"text-align: right;\">\n",
       "      <th></th>\n",
       "      <th>type</th>\n",
       "      <th>name</th>\n",
       "      <th>ncalls</th>\n",
       "      <th>ccalls</th>\n",
       "      <th>tottime</th>\n",
       "      <th>cumtime</th>\n",
       "      <th>where</th>\n",
       "      <th>memory</th>\n",
       "      <th>full_name</th>\n",
       "      <th>caller</th>\n",
       "    </tr>\n",
       "  </thead>\n",
       "  <tbody>\n",
       "    <tr>\n",
       "      <th>196</th>\n",
       "      <td>built-in-method</td>\n",
       "      <td>gc.collect</td>\n",
       "      <td>11</td>\n",
       "      <td>0</td>\n",
       "      <td>1.1878</td>\n",
       "      <td>1.1878</td>\n",
       "      <td></td>\n",
       "      <td></td>\n",
       "      <td>&lt;built-in method gc.collect&gt;</td>\n",
       "      <td>None</td>\n",
       "    </tr>\n",
       "    <tr>\n",
       "      <th>2278</th>\n",
       "      <td>function</td>\n",
       "      <td>_gcd_import</td>\n",
       "      <td>4</td>\n",
       "      <td>0</td>\n",
       "      <td>0.0434</td>\n",
       "      <td>0.0000</td>\n",
       "      <td>\"&lt;frozen importlib._bootstrap&gt;\",1038</td>\n",
       "      <td>0x7f42ccce0660</td>\n",
       "      <td>&lt;code object _gcd_import at 0x7f42ccce0660, fi...</td>\n",
       "      <td>[(&lt;code object _find_and_load at 0x7f42ccce05b...</td>\n",
       "    </tr>\n",
       "  </tbody>\n",
       "</table>\n",
       "</div>"
      ],
      "text/plain": [
       "                 type         name  ncalls  ccalls  tottime  cumtime  \\\n",
       "196   built-in-method   gc.collect      11       0   1.1878   1.1878   \n",
       "2278         function  _gcd_import       4       0   0.0434   0.0000   \n",
       "\n",
       "                                     where          memory  \\\n",
       "196                                                          \n",
       "2278  \"<frozen importlib._bootstrap>\",1038  0x7f42ccce0660   \n",
       "\n",
       "                                              full_name  \\\n",
       "196                        <built-in method gc.collect>   \n",
       "2278  <code object _gcd_import at 0x7f42ccce0660, fi...   \n",
       "\n",
       "                                                 caller  \n",
       "196                                                None  \n",
       "2278  [(<code object _find_and_load at 0x7f42ccce05b...  "
      ]
     },
     "execution_count": 2,
     "metadata": {},
     "output_type": "execute_result"
    }
   ],
   "source": [
    "profiler.get_df(highlight='gc').sort_values('cumtime',ascending=False)"
   ]
  },
  {
   "cell_type": "code",
   "execution_count": 3,
   "metadata": {},
   "outputs": [
    {
     "name": "stdout",
     "output_type": "stream",
     "text": [
      "**Device name: NVIDIA GeForce RTX 4090 , Available: True\n",
      "  --> Pop directory is : \"./pop/3\"\n",
      "**Load Data Done, cost 2.40 secs\n",
      " ------------------------------- Outer Loop 0 -------------------------------\n",
      "**Initialize GP Toolbox Done, cost 0.00 secs\n",
      "**A Population(2996) has been Initialized\n"
     ]
    },
    {
     "name": "stderr",
     "output_type": "stream",
     "text": [
      "  --> Evolve Generation 0: 100%|██████████| 2996/2996 [05:36<00:00,  8.91it/s]\n"
     ]
    },
    {
     "name": "stdout",
     "output_type": "stream",
     "text": [
      "     --> Survive 2400 Offsprings, Populate to 2987 ones\n"
     ]
    },
    {
     "name": "stderr",
     "output_type": "stream",
     "text": [
      "  --> Evolve Generation 1: 100%|██████████| 2987/2987 [05:44<00:00,  8.67it/s]\n"
     ]
    },
    {
     "name": "stdout",
     "output_type": "stream",
     "text": [
      "     --> Survive 2400 Offsprings, Populate to 2994 ones\n"
     ]
    },
    {
     "name": "stderr",
     "output_type": "stream",
     "text": [
      "  --> Evolve Generation 2: 100%|██████████| 2994/2994 [05:53<00:00,  8.47it/s]\n"
     ]
    },
    {
     "name": "stdout",
     "output_type": "stream",
     "text": [
      "     --> Survive 2400 Offsprings, Populate to 2994 ones\n"
     ]
    },
    {
     "name": "stderr",
     "output_type": "stream",
     "text": [
      "  --> Evolve Generation 3: 100%|██████████| 2994/2994 [05:56<00:00,  8.39it/s]\n"
     ]
    },
    {
     "name": "stdout",
     "output_type": "stream",
     "text": [
      "     --> Survive 2400 Offsprings, Populate to 2987 ones\n"
     ]
    },
    {
     "name": "stderr",
     "output_type": "stream",
     "text": [
      "  --> Evolve Generation 4: 100%|██████████| 2987/2987 [05:55<00:00,  8.40it/s]\n"
     ]
    },
    {
     "name": "stdout",
     "output_type": "stream",
     "text": [
      "     --> Survive 2400 Offsprings, Populate to 2993 ones\n"
     ]
    },
    {
     "name": "stderr",
     "output_type": "stream",
     "text": [
      "  --> Evolve Generation 5: 100%|██████████| 2993/2993 [06:07<00:00,  8.14it/s]\n"
     ]
    },
    {
     "name": "stdout",
     "output_type": "stream",
     "text": [
      "**A HallofFame(500) has been Evolutionized\n",
      "**6 Generations of Evolution Done, cost 2131.23 secs\n",
      "**Cuda Memory: Free 20.8G, Allocated 2.2G, Reserved 2.3G, Re-collect 15.5G Cache!\n",
      "  --> HallofFame(500) Contains 500 Promising Candidates with RankIR >= 3.00\n",
      "     --> Good 0: RankIR 6.07 MaxCorr 0.00: rank_sub(ts_top_avg(OCFP,15,8),ts_beta(CP,TURN,7))\n",
      "     --> Good 1: RankIR 5.82 MaxCorr 0.27: add(ts_rng_dif(TURN,15,5),ts_argmax(ts_delta(cp,2),7))\n",
      "     --> Good 2: RankIR 5.65 MaxCorr 0.37: ts_beta(BP,VOL,10)\n",
      "     --> Good 3: RankIR 5.59 MaxCorr 0.35: ts_beta(DP,TURN,5)\n",
      "     --> Good 4: RankIR 5.54 MaxCorr 0.35: ts_stddev(ts_beta(RTN,TURN,4),5)\n",
      "     --> Good 5: RankIR 5.48 MaxCorr 0.59: power(ts_rng_dif(TURN,15,1),2.11)\n",
      "     --> Good 6: RankIR 5.48 MaxCorr 0.60: ts_beta(DP,TURN,8)\n",
      "     --> Good 7: RankIR 5.46 MaxCorr 0.34: ts_dwdif(ts_corr(CP,TURN,4),ts_dwdif(ts_xtop_yavg(EP,bp,15,3),sqrt(ts_argmin(ts_beta(BP,TURN,2),10)),20),15)\n",
      "     --> Good 8: RankIR 5.28 MaxCorr 0.58: sub(ts_product(rank_div(adv60,vol),2),ts_rng_dif(TURN,15,2))\n",
      "     --> Good 9: RankIR 5.28 MaxCorr 0.34: ts_stddev(div(adv60,ts_beta(EP,TURN,5)),5)\n",
      "     --> Good 10: RankIR 5.27 MaxCorr 0.56: sigmoid(ts_rng_dif(TURN,20,3))\n",
      "     --> Good 11: RankIR 5.25 MaxCorr 0.49: sigmoid(ts_xrng_ydif(VOL,ts_top_avg(TURN,10,6),20,5))\n",
      "     --> Good 12: RankIR 5.24 MaxCorr 0.56: square(ts_xrng_ydif(ADV20,ts_top_avg(TURN,10,6),20,5))\n",
      "     --> Good 13: RankIR 5.23 MaxCorr 0.37: log(mul(mul(adv20,ts_beta(LP,TURN,9)),sign(VOL)))\n",
      "     --> Good 14: RankIR 5.23 MaxCorr 0.55: ts_stddev(div(adv60,ts_beta(EP,TURN,9)),5)\n",
      "     --> Good 15: RankIR 5.21 MaxCorr 0.29: ts_beta(BP,VOL,3)\n",
      "     --> Good 16: RankIR 5.20 MaxCorr 0.54: ts_beta(EP,TURN,9)\n",
      "     --> Good 17: RankIR 5.11 MaxCorr 0.59: ts_dwdif(ts_corr(CP,TURN,10),ts_dwdif(ts_xtop_yavg(EP,ts_zscore(pctchg(ep,6),15),15,9),sqrt(ts_argmin(ts_beta(BP,ADV20,2),10)),20),15)\n",
      "     --> Good 18: RankIR 5.07 MaxCorr 0.41: rank_sub(ep,ts_beta(HP,AMT,6))\n",
      "     --> Good 19: RankIR 5.01 MaxCorr 0.53: power(ts_rng_dif(TURN,40,1),2.11)\n",
      "     --> Good 20: RankIR 5.01 MaxCorr 0.59: rank_sub(adv20,ts_beta(EP,TURN,10))\n",
      "     --> Good 21: RankIR 4.98 MaxCorr 0.55: ts_beta(CP,TURN,9)\n",
      "     --> Good 22: RankIR 4.97 MaxCorr 0.43: ma(sqrt(turn),15)\n",
      "     --> Good 23: RankIR 4.96 MaxCorr 0.58: rank_sub(ts_argmin(LP,6),ts_rng_dif(TURN,10,7))\n",
      "     --> Good 24: RankIR 4.89 MaxCorr 0.51: ts_xrng_ydif(VP,rank_add(ts_dw(ts_delay(ts_btm_avg(TURN,10,2),9),5),turn),20,4)\n",
      "     --> Good 25: RankIR 4.86 MaxCorr 0.57: ts_corr(AMT,CP,9)\n",
      "     --> Good 26: RankIR 4.80 MaxCorr 0.45: log(ts_corr(AMT,HP,6))\n",
      "     --> Good 27: RankIR 4.77 MaxCorr 0.44: ts_product(ts_xrng_ydif(VP,ts_rng_dif(TURN,15,4),15,9),2)\n",
      "     --> Good 28: RankIR 4.74 MaxCorr 0.49: ts_xtop_yavg(ADV60,ts_corr(AMT,BP,5),20,8)\n",
      "     --> Good 29: RankIR 4.74 MaxCorr 0.45: ts_xbtm_yavg(RTN,ts_cov(ts_delay(vol,1),rank_sub(bp,vol),8),10,9)\n",
      "     --> Good 30: RankIR 4.72 MaxCorr 0.34: ts_min(square(ts_beta(DP,TURN,6)),6)\n",
      "     --> Good 31: RankIR 4.71 MaxCorr 0.38: square(ts_xrng_ydif(RTN,ts_top_avg(TURN,10,6),20,5))\n",
      "     --> Good 32: RankIR 4.69 MaxCorr 0.54: ma(sqrt(ts_rankcorr(vp,turn,5)),8)\n",
      "     --> Good 33: RankIR 4.69 MaxCorr 0.52: ts_beta(EP,VOL,6)\n",
      "     --> Good 34: RankIR 4.69 MaxCorr 0.28: sigmoid(ts_beta(HP,LP,8))\n",
      "     --> Good 35: RankIR 4.68 MaxCorr 0.53: sigmoid(ts_xrng_ydif(VOL,ts_top_avg(TURN,20,6),20,5))\n",
      "     --> Good 36: RankIR 4.67 MaxCorr 0.30: sub(square(ts_dw(vol,7)),ts_rankcorr(ts_product(cp,3),rank_sub(square(ts_min(turn,8)),ts_stddev(ts_stddev(turn,8),7)),4))\n",
      "     --> Good 37: RankIR 4.66 MaxCorr 0.51: mul(sigmoid(ts_top_avg(TURN,15,10)),ts_corr(DP,AMT,4))\n",
      "     --> Good 38: RankIR 4.66 MaxCorr 0.49: sqrt(ts_rng_dif(VOL,10,8))\n",
      "     --> Good 39: RankIR 4.65 MaxCorr 0.52: ts_beta(VP,AMT,5)\n",
      "     --> Good 40: RankIR 4.61 MaxCorr 0.58: ts_min(ts_xrng_ydif(BP,vol,10,9),10)\n",
      "     --> Good 41: RankIR 4.60 MaxCorr 0.58: add(ts_stddev(sqrt(ts_argmin(OCFP,2)),3),add(ts_xbtm_yavg(BP,amt,10,4),ts_rankcorr(ts_rank(TURN,7),rank(lp),6)))\n",
      "     --> Good 42: RankIR 4.59 MaxCorr 0.59: sub(square(ts_dw(vol,7)),ts_rankcorr(ts_product(cp,3),rank_sub(square(ts_min(adv60,8)),ts_stddev(ts_stddev(turn,8),3)),4))\n",
      "     --> Good 43: RankIR 4.59 MaxCorr 0.51: div(amt,ts_argmax(ADV20,3))\n",
      "     --> Good 44: RankIR 4.58 MaxCorr 0.50: ma(sqrt(ts_beta(TURN,RTN,7)),8)\n",
      "     --> Good 45: RankIR 4.54 MaxCorr 0.57: mul(ts_beta(EP,VOL,4),ts_rank(OP,3))\n",
      "     --> Good 46: RankIR 4.54 MaxCorr 0.10: ts_min(ts_beta(ADV20,BP,2),9)\n",
      "     --> Good 47: RankIR 4.53 MaxCorr 0.58: sub(square(ts_dw(vol,7)),ts_rankcorr(vol,rank_sub(square(ts_min(turn,8)),ts_stddev(ts_stddev(turn,8),3)),4))\n",
      "     --> Good 48: RankIR 4.53 MaxCorr 0.60: sub(ts_rng_dif(VOL,15,6),ts_beta(LP,AMT,10))\n",
      "     --> Good 49: RankIR 4.53 MaxCorr 0.38: power(ts_xbtm_yavg(BP,sigmoid(rank(turn)),40,4),1.98)\n",
      "     --> Good 50: RankIR 4.53 MaxCorr 0.47: rank_mul(mul(pctchg(ma(rank_mul(op,ep),9),40),ts_zscore(ts_argmin(ma(turn,20),2),15)),ma(rank_sub(ts_corr(BP,TURN,10),ts_delay(ts_xtop_yavg(LP,turn,15,3),6)),5))\n",
      "     --> Good 51: RankIR 4.51 MaxCorr 0.55: rank_mul(ts_dwdif(hp,ts_rng_dif(VOL,15,6),20),ep)\n",
      "     --> Good 52: RankIR 4.50 MaxCorr 0.49: ts_product(ts_beta(HP,LP,9),6)\n",
      "     --> Good 53: RankIR 4.48 MaxCorr 0.60: ts_beta(VP,HP,8)\n",
      "     --> Good 54: RankIR 4.48 MaxCorr 0.46: log(ts_max(adv20,9))\n",
      "     --> Good 55: RankIR 4.46 MaxCorr 0.56: rank_div(ep,ts_btm_avg(ADV60,20,9))\n",
      "     --> Good 56: RankIR 4.44 MaxCorr 0.51: power(mul(mul(amt,vol),rank_add(cp,ts_corr(AMT,HP,10))),2.22)\n",
      "     --> Good 57: RankIR 4.44 MaxCorr 0.51: log(square(ts_max(vol,3)))\n",
      "     --> Good 58: RankIR 4.42 MaxCorr 0.56: rank_add(ts_rng_dif(AMT,10,6),ts_stddev(sub(ts_stddev(dp,9),cp),10))\n",
      "     --> Good 59: RankIR 4.39 MaxCorr 0.52: ts_min(sqrt(vol),4)\n",
      "     --> Good 60: RankIR 4.38 MaxCorr 0.29: ts_min(rank_div(ts_corr(DP,VOL,10),sub(ts_product(turn,5),ts_cov(bp,vp,2))),7)\n",
      "     --> Good 61: RankIR 4.37 MaxCorr 0.46: mul(rank_sub(ep,div(ts_min(vol,5),ts_argmin(DP,2))),rank(op))\n",
      "     --> Good 62: RankIR 4.36 MaxCorr 0.52: ts_dwdif(ts_cov(ts_cov(vol,turn,2),cp,10),ep,10)\n",
      "     --> Good 63: RankIR 4.36 MaxCorr 0.44: ts_stddev(ts_product(turn,5),6)\n",
      "     --> Good 64: RankIR 4.35 MaxCorr 0.51: ts_top_avg(RTN,20,1)\n",
      "     --> Good 65: RankIR 4.35 MaxCorr 0.51: ts_xbtm_yavg(BP,ts_product(amt,2),40,8)\n",
      "     --> Good 66: RankIR 4.34 MaxCorr 0.11: ts_cov(ts_top_avg(TURN,10,7),rank_add(ma(bp,20),ma(bp,10)),5)\n",
      "     --> Good 67: RankIR 4.33 MaxCorr 0.56: square(ts_beta(LP,AMT,10))\n",
      "     --> Good 68: RankIR 4.33 MaxCorr 0.51: ts_xtop_yavg(DP,ts_corr(HP,TURN,6),20,4)\n",
      "     --> Good 69: RankIR 4.33 MaxCorr 0.54: log(ts_corr(AMT,VP,5))\n",
      "     --> Good 70: RankIR 4.32 MaxCorr 0.57: sub(square(ts_dw(vol,7)),ts_rankcorr(ts_product(ts_xrng_ydif(OP,square(dp),15,7),3),rank_sub(square(ts_min(turn,8)),ts_stddev(ts_stddev(turn,8),3)),4))\n",
      "     --> Good 71: RankIR 4.31 MaxCorr 0.54: ts_product(ts_beta(VP,LP,5),6)\n",
      "     --> Good 72: RankIR 4.30 MaxCorr 0.39: mul(rank_mul(ts_dw(ep,6),ocfp),rank_mul(power(sqrt(ts_btm_avg(OCFP,10,1)),2.37),hp))\n",
      "     --> Good 73: RankIR 4.29 MaxCorr 0.47: ts_xtop_yavg(ADV60,ts_corr(AMT,CP,2),10,8)\n",
      "     --> Good 74: RankIR 4.28 MaxCorr 0.55: ts_max(ts_corr(TURN,LP,6),8)\n",
      "     --> Good 75: RankIR 4.27 MaxCorr 0.54: rank_sub(power(ts_min(ts_max(log(adv20),5),9),1.39),ts_rng_dif(TURN,10,7))\n",
      "     --> Good 76: RankIR 4.27 MaxCorr 0.59: rank_mul(ts_xbtm_yavg(EP,ts_beta(OP,ADV60,5),20,4),ma(ts_rng_dif(AMT,15,10),3))\n",
      "     --> Good 77: RankIR 4.25 MaxCorr 0.31: ts_dwdif(ts_min(pctchg(vol,5),9),ts_beta(BP,ADV60,9),10)\n",
      "     --> Good 78: RankIR 4.25 MaxCorr 0.51: rank_div(bp,ma(ma(ts_rng_dif(ADV60,40,1),8),8))\n",
      "     --> Good 79: RankIR 4.24 MaxCorr 0.58: ts_corr(AMT,HP,4)\n",
      "     --> Good 80: RankIR 4.22 MaxCorr 0.41: add(log(rank_mul(bp,power(op,2.83))),rank(dp))\n",
      "     --> Good 81: RankIR 4.21 MaxCorr 0.53: rank_div(ts_argmax(OCFP,6),ts_corr(AMT,HP,10))\n",
      "     --> Good 82: RankIR 4.21 MaxCorr 0.38: ts_xbtm_yavg(EP,ts_cov(op,amt,9),20,8)\n",
      "     --> Good 83: RankIR 4.20 MaxCorr 0.53: ts_max(ts_rng_dif(AMT,15,1),4)\n",
      "     --> Good 84: RankIR 4.20 MaxCorr 0.46: ts_cov(vol,hp,10)\n",
      "     --> Good 85: RankIR 4.17 MaxCorr 0.58: ts_beta(OP,TURN,9)\n",
      "     --> Good 86: RankIR 4.17 MaxCorr 0.55: rank_add(rank_div(ts_dwdif(ts_delay(vol,6),sigmoid(ep),20),bp),ts_max(ts_rng_dif(VOL,15,5),6))\n",
      "     --> Good 87: RankIR 4.17 MaxCorr 0.52: ts_max(ts_corr(AMT,BP,5),4)\n",
      "     --> Good 88: RankIR 4.17 MaxCorr 0.34: square(ts_dwdif(ts_xtop_yavg(VP,turn,15,2),rank(log(dp)),15))\n",
      "     --> Good 89: RankIR 4.16 MaxCorr 0.57: pctchg(ts_rng_dif(TURN,40,4),15)\n",
      "     --> Good 90: RankIR 4.16 MaxCorr 0.51: sub(square(ts_dw(vol,10)),ts_rankcorr(ts_product(ts_xtop_yavg(AMT,rank_div(hp,turn),40,10),3),rank_sub(square(ts_min(turn,8)),ts_stddev(ts_stddev(turn,8),3)),4))\n",
      "     --> Good 91: RankIR 4.16 MaxCorr 0.56: ts_stddev(ts_rng_dif(VOL,20,7),7)\n",
      "     --> Good 92: RankIR 4.15 MaxCorr 0.60: sub(amt,ts_xtop_yavg(ADV20,ep,15,10))\n",
      "     --> Good 93: RankIR 4.14 MaxCorr 0.56: sub(square(ts_dw(vol,7)),ts_rankcorr(ts_product(ts_xtop_yavg(AMT,rank_div(hp,turn),10,10),8),rank_sub(square(ts_min(turn,8)),ts_stddev(ts_stddev(turn,8),3)),4))\n",
      "     --> Good 94: RankIR 4.13 MaxCorr 0.48: ts_cov(op,rank_mul(vol,amt),10)\n",
      "     --> Good 95: RankIR 4.13 MaxCorr 0.56: sub(square(ts_dw(vol,7)),ts_rankcorr(ts_product(ts_xtop_yavg(AMT,rank_div(hp,turn),40,10),3),rank_sub(square(ts_min(turn,8)),ts_stddev(ts_stddev(turn,8),10)),4))\n",
      "     --> Good 96: RankIR 4.12 MaxCorr 0.45: sub(ts_product(rank_div(adv60,vol),6),ts_rng_dif(TURN,15,2))\n",
      "     --> Good 97: RankIR 4.12 MaxCorr 0.49: power(ts_stddev(ts_top_avg(AMT,10,1),10),2.48)\n",
      "     --> Good 98: RankIR 4.11 MaxCorr 0.60: log(square(ts_max(vol,7)))\n",
      "     --> Good 99: RankIR 4.11 MaxCorr 0.50: add(power(sub(vol,ma(ocfp,10)),2.07),power(adv60,2.58))\n",
      "Cuda Memories of good_logs , gp_values and others take 2.21G\n",
      "**Select HallofFamers Save Factor Values Done, cost 645.05 secs\n",
      "**The HallofFame(500) Eventually has 100 Outstanders\n",
      "**Update Residual Labels and Dump Results Done, cost 2.57 secs\n",
      " ------------------------------- Outer Loop 1 -------------------------------\n",
      "**Initialize GP Toolbox Done, cost 0.00 secs\n",
      "**Cuda Memory: Free 20.7G, Allocated 2.2G, Reserved 2.4G, Re-collect 13.5G Cache!\n",
      "**A Population(2973) has been Initialized\n"
     ]
    },
    {
     "name": "stderr",
     "output_type": "stream",
     "text": [
      "  --> Evolve Generation 0: 100%|██████████| 2973/2973 [05:36<00:00,  8.84it/s]\n"
     ]
    },
    {
     "name": "stdout",
     "output_type": "stream",
     "text": [
      "     --> Survive 2400 Offsprings, Populate to 2994 ones\n"
     ]
    },
    {
     "name": "stderr",
     "output_type": "stream",
     "text": [
      "  --> Evolve Generation 1: 100%|██████████| 2994/2994 [05:53<00:00,  8.47it/s]\n"
     ]
    },
    {
     "name": "stdout",
     "output_type": "stream",
     "text": [
      "     --> Survive 2400 Offsprings, Populate to 2994 ones\n"
     ]
    },
    {
     "name": "stderr",
     "output_type": "stream",
     "text": [
      "  --> Evolve Generation 2: 100%|██████████| 2994/2994 [05:52<00:00,  8.48it/s]\n"
     ]
    },
    {
     "name": "stdout",
     "output_type": "stream",
     "text": [
      "     --> Survive 2400 Offsprings, Populate to 2994 ones\n"
     ]
    },
    {
     "name": "stderr",
     "output_type": "stream",
     "text": [
      "  --> Evolve Generation 3: 100%|██████████| 2994/2994 [05:58<00:00,  8.35it/s]\n"
     ]
    },
    {
     "name": "stdout",
     "output_type": "stream",
     "text": [
      "     --> Survive 2400 Offsprings, Populate to 2994 ones\n"
     ]
    },
    {
     "name": "stderr",
     "output_type": "stream",
     "text": [
      "  --> Evolve Generation 4: 100%|██████████| 2994/2994 [05:59<00:00,  8.32it/s]\n"
     ]
    },
    {
     "name": "stdout",
     "output_type": "stream",
     "text": [
      "     --> Survive 2400 Offsprings, Populate to 2996 ones\n"
     ]
    },
    {
     "name": "stderr",
     "output_type": "stream",
     "text": [
      "  --> Evolve Generation 5: 100%|██████████| 2996/2996 [06:02<00:00,  8.27it/s]\n"
     ]
    },
    {
     "name": "stdout",
     "output_type": "stream",
     "text": [
      "**A HallofFame(500) has been Evolutionized\n",
      "**6 Generations of Evolution Done, cost 2132.95 secs\n",
      "**Cuda Memory: Free 20.7G, Allocated 2.2G, Reserved 2.4G, Re-collect 12.8G Cache!\n",
      "  --> HallofFame(500) Contains 0 Promising Candidates with RankIR >= 3.00\n",
      "  --> Failure of Finding Enough Promising Candidates, Check if Code has Bugs ... \n",
      "  --> Valid hof(500.0), insample max ir(0.0000), outsample nonnan(500)\n",
      "Cuda Memories of good_logs , gp_values and others take 2.21G\n",
      "**Select HallofFamers Save Factor Values Done, cost 0.18 secs\n",
      "**The HallofFame(500) Eventually has 0 Outstanders\n",
      "**Update Residual Labels and Dump Results Done, cost 1.08 secs\n",
      " ------------------------------- Outer Loop 2 -------------------------------\n",
      "**Initialize GP Toolbox Done, cost 0.00 secs\n",
      "**A Population(2978) has been Initialized\n"
     ]
    },
    {
     "name": "stderr",
     "output_type": "stream",
     "text": [
      "  --> Evolve Generation 0: 100%|██████████| 2978/2978 [05:36<00:00,  8.86it/s]\n"
     ]
    },
    {
     "name": "stdout",
     "output_type": "stream",
     "text": [
      "     --> Survive 2400 Offsprings, Populate to 2993 ones\n"
     ]
    },
    {
     "name": "stderr",
     "output_type": "stream",
     "text": [
      "  --> Evolve Generation 1: 100%|██████████| 2993/2993 [05:55<00:00,  8.41it/s]\n"
     ]
    },
    {
     "name": "stdout",
     "output_type": "stream",
     "text": [
      "     --> Survive 2400 Offsprings, Populate to 2997 ones\n"
     ]
    },
    {
     "name": "stderr",
     "output_type": "stream",
     "text": [
      "  --> Evolve Generation 2:  78%|███████▊  | 2349/2997 [04:43<01:18,  8.27it/s]\n"
     ]
    },
    {
     "name": "stdout",
     "output_type": "stream",
     "text": [
      "**6 Generations of Evolution Done, cost 979.16 secs\n"
     ]
    },
    {
     "ename": "KeyboardInterrupt",
     "evalue": "",
     "output_type": "error",
     "traceback": [
      "\u001b[0;31m---------------------------------------------------------------------------\u001b[0m",
      "\u001b[0;31mKeyboardInterrupt\u001b[0m                         Traceback (most recent call last)",
      "Cell \u001b[0;32mIn[3], line 3\u001b[0m\n\u001b[1;32m      1\u001b[0m \u001b[38;5;66;03m# 真实测试，job_id=-1代表在新的pop的子文件夹中保存结果，如果强制要求在已有文件夹基础上继续训练，代码可能要再修改\u001b[39;00m\n\u001b[1;32m      2\u001b[0m \u001b[38;5;28;01mfrom\u001b[39;00m \u001b[38;5;21;01mgp_main\u001b[39;00m \u001b[38;5;28;01mimport\u001b[39;00m main\n\u001b[0;32m----> 3\u001b[0m \u001b[43mmain\u001b[49m\u001b[43m(\u001b[49m\u001b[38;5;28;43;01mFalse\u001b[39;49;00m\u001b[43m \u001b[49m\u001b[43m,\u001b[49m\u001b[43m \u001b[49m\u001b[43mjob_id\u001b[49m\u001b[38;5;241;43m=\u001b[39;49m\u001b[43m \u001b[49m\u001b[38;5;241;43m-\u001b[39;49m\u001b[38;5;241;43m1\u001b[39;49m\u001b[43m)\u001b[49m\n",
      "File \u001b[0;32m~/Workspace/learngp/gp_main.py:817\u001b[0m, in \u001b[0;36mmain\u001b[0;34m(test_code, job_id, profiling, profiler_out)\u001b[0m\n\u001b[1;32m    814\u001b[0m gp_factor[\u001b[38;5;241m~\u001b[39muniv] \u001b[38;5;241m=\u001b[39m torch\u001b[38;5;241m.\u001b[39mnan\n\u001b[1;32m    816\u001b[0m n_factor \u001b[38;5;241m=\u001b[39m gp_factor\u001b[38;5;241m.\u001b[39mshape[\u001b[38;5;241m-\u001b[39m\u001b[38;5;241m1\u001b[39m]\n\u001b[0;32m--> 817\u001b[0m \u001b[38;5;28;01mif\u001b[39;00m weight_scheme \u001b[38;5;241m==\u001b[39m \u001b[38;5;124m'\u001b[39m\u001b[38;5;124mew\u001b[39m\u001b[38;5;124m'\u001b[39m:\n\u001b[1;32m    818\u001b[0m     \u001b[38;5;28;01mreturn\u001b[39;00m gp_factor\u001b[38;5;241m.\u001b[39mnanmean(\u001b[38;5;241m-\u001b[39m\u001b[38;5;241m1\u001b[39m)\n\u001b[1;32m    819\u001b[0m \u001b[38;5;28;01melse\u001b[39;00m:\n\u001b[1;32m    820\u001b[0m     \u001b[38;5;66;03m# rankic first\u001b[39;00m\n",
      "File \u001b[0;32m~/Workspace/learngp/gp_main.py:708\u001b[0m, in \u001b[0;36mouter_loop\u001b[0;34m(i_iter, gp_space)\u001b[0m\n\u001b[1;32m    706\u001b[0m \u001b[38;5;124;03m'''运行进化主程序'''\u001b[39;00m\n\u001b[1;32m    707\u001b[0m \u001b[38;5;28;01mwith\u001b[39;00m gp_space\u001b[38;5;241m.\u001b[39mgp_timer(\u001b[38;5;124m'\u001b[39m\u001b[38;5;124mEvolution\u001b[39m\u001b[38;5;124m'\u001b[39m , print_str \u001b[38;5;241m=\u001b[39m \u001b[38;5;124mf\u001b[39m\u001b[38;5;124m'\u001b[39m\u001b[38;5;124m**\u001b[39m\u001b[38;5;132;01m{\u001b[39;00mgp_space\u001b[38;5;241m.\u001b[39mn_gen\u001b[38;5;241m+\u001b[39m\u001b[38;5;241m1\u001b[39m\u001b[38;5;132;01m}\u001b[39;00m\u001b[38;5;124m Generations of Evolution\u001b[39m\u001b[38;5;124m'\u001b[39m):\n\u001b[0;32m--> 708\u001b[0m     mem_free \u001b[38;5;241m=\u001b[39m gp_space\u001b[38;5;241m.\u001b[39mmemory_manager\u001b[38;5;241m.\u001b[39mcheck(showoff \u001b[38;5;241m=\u001b[39m \u001b[38;5;28;01mTrue\u001b[39;00m)\n\u001b[1;32m    709\u001b[0m     population, halloffame, logbook \u001b[38;5;241m=\u001b[39m gp_eaSimple(toolbox , \u001b[38;5;241m*\u001b[39m\u001b[38;5;241m*\u001b[39mgp_space)  \u001b[38;5;66;03m#, start_gen=6   #algorithms.eaSimple\u001b[39;00m\n\u001b[1;32m    711\u001b[0m \u001b[38;5;124;03m'''good_log文件为因子库，存储了因子表达式、rankIR值等信息。在具体因子值存储在factor文件夹的parquet文件中'''\u001b[39;00m\n",
      "File \u001b[0;32m~/Workspace/learngp/gp_main.py:564\u001b[0m, in \u001b[0;36mgp_eaSimple\u001b[0;34m(toolbox, i_iter, pop_num, pool_num, n_gen, cxpb, mutpb, hof_num, survive_rate, start_gen, gp_timer, verbose, stats, **kwargs)\u001b[0m\n\u001b[1;32m    562\u001b[0m survivors \u001b[38;5;241m=\u001b[39m [ind \u001b[38;5;28;01mfor\u001b[39;00m ind \u001b[38;5;129;01min\u001b[39;00m population \u001b[38;5;28;01mif\u001b[39;00m \u001b[38;5;129;01mnot\u001b[39;00m ind\u001b[38;5;241m.\u001b[39mfitness\u001b[38;5;241m.\u001b[39mvalid] \u001b[38;5;66;03m# 'individual' arg for evaluate\u001b[39;00m\n\u001b[1;32m    563\u001b[0m pool_list \u001b[38;5;241m=\u001b[39m [\u001b[38;5;124mf\u001b[39m\u001b[38;5;124m'\u001b[39m\u001b[38;5;124miter\u001b[39m\u001b[38;5;132;01m{\u001b[39;00mi_iter\u001b[38;5;132;01m}\u001b[39;00m\u001b[38;5;124m_gen\u001b[39m\u001b[38;5;132;01m{\u001b[39;00mi_gen\u001b[38;5;132;01m}\u001b[39;00m\u001b[38;5;124m_\u001b[39m\u001b[38;5;132;01m{\u001b[39;00mi\u001b[38;5;132;01m}\u001b[39;00m\u001b[38;5;124m'\u001b[39m \u001b[38;5;28;01mfor\u001b[39;00m i \u001b[38;5;129;01min\u001b[39;00m \u001b[38;5;28mrange\u001b[39m(\u001b[38;5;28mlen\u001b[39m(survivors))] \u001b[38;5;66;03m# 'pool_skuname' arg for evaluate\u001b[39;00m\n\u001b[0;32m--> 564\u001b[0m desc \u001b[38;5;241m=\u001b[39m \u001b[38;5;124mf\u001b[39m\u001b[38;5;124m'\u001b[39m\u001b[38;5;124m  --> Evolve Generation \u001b[39m\u001b[38;5;132;01m{\u001b[39;00m\u001b[38;5;28mstr\u001b[39m(i_gen)\u001b[38;5;132;01m}\u001b[39;00m\u001b[38;5;124m'\u001b[39m\n\u001b[1;32m    565\u001b[0m fitnesses \u001b[38;5;241m=\u001b[39m gp_fitnesses(pool_num , toolbox , toolbox\u001b[38;5;241m.\u001b[39mevaluate , survivors , pool_list , desc \u001b[38;5;241m=\u001b[39m desc)\n\u001b[1;32m    566\u001b[0m \u001b[38;5;28;01mfor\u001b[39;00m ind, fit \u001b[38;5;129;01min\u001b[39;00m \u001b[38;5;28mzip\u001b[39m(survivors, fitnesses):\n",
      "File \u001b[0;32m~/Workspace/learngp/gp_main.py:603\u001b[0m, in \u001b[0;36mgp_fitnesses\u001b[0;34m(pool_num, toolbox, eval_func, population, pool_skunames, desc)\u001b[0m\n\u001b[1;32m    600\u001b[0m     pool.close()\n\u001b[1;32m    601\u001b[0m     pool.join()\n\u001b[1;32m    602\u001b[0m     # pool.clear()\n\u001b[0;32m--> 603\u001b[0m else:\n\u001b[1;32m    604\u001b[0m     fitnesses = list(tqdm(toolbox.map(eval_func, population, pool_skunames),\n\u001b[1;32m    605\u001b[0m                           total=len(population), desc=desc))\n\u001b[1;32m    606\u001b[0m return fitnesses\n",
      "File \u001b[0;32m~/.local/lib/python3.10/site-packages/tqdm/std.py:1182\u001b[0m, in \u001b[0;36mtqdm.__iter__\u001b[0;34m(self)\u001b[0m\n\u001b[1;32m   1179\u001b[0m time \u001b[38;5;241m=\u001b[39m \u001b[38;5;28mself\u001b[39m\u001b[38;5;241m.\u001b[39m_time\n\u001b[1;32m   1181\u001b[0m \u001b[38;5;28;01mtry\u001b[39;00m:\n\u001b[0;32m-> 1182\u001b[0m     \u001b[38;5;28;01mfor\u001b[39;00m obj \u001b[38;5;129;01min\u001b[39;00m iterable:\n\u001b[1;32m   1183\u001b[0m         \u001b[38;5;28;01myield\u001b[39;00m obj\n\u001b[1;32m   1184\u001b[0m         \u001b[38;5;66;03m# Update and possibly print the progressbar.\u001b[39;00m\n\u001b[1;32m   1185\u001b[0m         \u001b[38;5;66;03m# Note: does not call self.update(1) for speed optimisation.\u001b[39;00m\n",
      "File \u001b[0;32m~/Workspace/learngp/gp_main.py:406\u001b[0m, in \u001b[0;36mevaluate\u001b[0;34m(individual, pool_skuname, compiler, gp_values, labels_raw, labels_res, universe, insample, outsample, gp_timer, const_annual, min_coverage, i_iter, **kwargs)\u001b[0m\n\u001b[1;32m    402\u001b[0m \u001b[38;5;66;03m# first return must be list or tuple, since fitness can be weighted\u001b[39;00m\n\u001b[1;32m    403\u001b[0m \u001b[38;5;66;03m# \"Assigned values have not the same length than fitness weights\"\u001b[39;00m\n\u001b[1;32m    404\u001b[0m \u001b[38;5;28;01mif\u001b[39;00m F\u001b[38;5;241m.\u001b[39mis_invalid(factor_value): \u001b[38;5;28;01mreturn\u001b[39;00m [F\u001b[38;5;241m.\u001b[39minvalid] \u001b[38;5;241m*\u001b[39m \u001b[38;5;241m4\u001b[39m\n\u001b[0;32m--> 406\u001b[0m rankir_list \u001b[38;5;241m=\u001b[39m []\n\u001b[1;32m    407\u001b[0m \u001b[38;5;28;01mfor\u001b[39;00m labels \u001b[38;5;129;01min\u001b[39;00m [labels_res , labels_raw]:\n\u001b[1;32m    408\u001b[0m     rankic_full \u001b[38;5;241m=\u001b[39m F\u001b[38;5;241m.\u001b[39mrankic_2d(factor_value , labels , dim \u001b[38;5;241m=\u001b[39m \u001b[38;5;241m1\u001b[39m , universe \u001b[38;5;241m=\u001b[39m universe , min_coverage \u001b[38;5;241m=\u001b[39m min_coverage)\n",
      "File \u001b[0;32m~/Workspace/learngp/gp_math_func.py:44\u001b[0m, in \u001b[0;36mprima_legitimate.<locals>.decorator.<locals>.wrapper\u001b[0;34m(*args, **kwargs)\u001b[0m\n\u001b[1;32m     42\u001b[0m     \u001b[38;5;28;01mif\u001b[39;00m check_exact \u001b[38;5;129;01mand\u001b[39;00m exact(args[\u001b[38;5;241m0\u001b[39m],args[\u001b[38;5;241m1\u001b[39m]): \u001b[38;5;28;01mreturn\u001b[39;00m invalid\n\u001b[1;32m     43\u001b[0m     \u001b[38;5;28;01mif\u001b[39;00m check_same  \u001b[38;5;129;01mand\u001b[39;00m same(args[\u001b[38;5;241m0\u001b[39m],args[\u001b[38;5;241m1\u001b[39m]): \u001b[38;5;28;01mreturn\u001b[39;00m invalid\n\u001b[0;32m---> 44\u001b[0m v \u001b[38;5;241m=\u001b[39m \u001b[43mfunc\u001b[49m\u001b[43m(\u001b[49m\u001b[38;5;241;43m*\u001b[39;49m\u001b[43margs\u001b[49m\u001b[43m \u001b[49m\u001b[43m,\u001b[49m\u001b[43m \u001b[49m\u001b[38;5;241;43m*\u001b[39;49m\u001b[38;5;241;43m*\u001b[39;49m\u001b[43mkwargs\u001b[49m\u001b[43m)\u001b[49m\n\u001b[1;32m     45\u001b[0m \u001b[38;5;28;01mreturn\u001b[39;00m v\n",
      "File \u001b[0;32m~/Workspace/learngp/gp_math_func.py:82\u001b[0m, in \u001b[0;36mrankic_2d\u001b[0;34m(x, y, dim, universe, min_coverage)\u001b[0m\n\u001b[1;32m     79\u001b[0m x \u001b[38;5;241m=\u001b[39m torch\u001b[38;5;241m.\u001b[39mwhere(valid , x , nan)\n\u001b[1;32m     81\u001b[0m coverage \u001b[38;5;241m=\u001b[39m (\u001b[38;5;241m~\u001b[39mx\u001b[38;5;241m.\u001b[39misnan())\u001b[38;5;241m.\u001b[39msum(dim\u001b[38;5;241m=\u001b[39mdim) \u001b[38;5;241m/\u001b[39m valid\u001b[38;5;241m.\u001b[39msum(dim\u001b[38;5;241m=\u001b[39mdim)\n\u001b[0;32m---> 82\u001b[0m ic \u001b[38;5;241m=\u001b[39m \u001b[43mcorrwith\u001b[49m\u001b[43m(\u001b[49m\u001b[43mrank_pct\u001b[49m\u001b[43m(\u001b[49m\u001b[43mx\u001b[49m\u001b[43m)\u001b[49m\u001b[43m,\u001b[49m\u001b[43m \u001b[49m\u001b[43mrank_pct\u001b[49m\u001b[43m(\u001b[49m\u001b[43my\u001b[49m\u001b[43m)\u001b[49m\u001b[43m \u001b[49m\u001b[43m,\u001b[49m\u001b[43m \u001b[49m\u001b[43mdim\u001b[49m\u001b[38;5;241;43m=\u001b[39;49m\u001b[43mdim\u001b[49m\u001b[43m)\u001b[49m\n\u001b[1;32m     83\u001b[0m \u001b[38;5;28;01mif\u001b[39;00m is_invalid(ic):\n\u001b[1;32m     84\u001b[0m     \u001b[38;5;28;01mreturn\u001b[39;00m ic\n",
      "File \u001b[0;32m~/Workspace/learngp/gp_math_func.py:44\u001b[0m, in \u001b[0;36mprima_legitimate.<locals>.decorator.<locals>.wrapper\u001b[0;34m(*args, **kwargs)\u001b[0m\n\u001b[1;32m     42\u001b[0m     \u001b[38;5;28;01mif\u001b[39;00m check_exact \u001b[38;5;129;01mand\u001b[39;00m exact(args[\u001b[38;5;241m0\u001b[39m],args[\u001b[38;5;241m1\u001b[39m]): \u001b[38;5;28;01mreturn\u001b[39;00m invalid\n\u001b[1;32m     43\u001b[0m     \u001b[38;5;28;01mif\u001b[39;00m check_same  \u001b[38;5;129;01mand\u001b[39;00m same(args[\u001b[38;5;241m0\u001b[39m],args[\u001b[38;5;241m1\u001b[39m]): \u001b[38;5;28;01mreturn\u001b[39;00m invalid\n\u001b[0;32m---> 44\u001b[0m v \u001b[38;5;241m=\u001b[39m \u001b[43mfunc\u001b[49m\u001b[43m(\u001b[49m\u001b[38;5;241;43m*\u001b[39;49m\u001b[43margs\u001b[49m\u001b[43m \u001b[49m\u001b[43m,\u001b[49m\u001b[43m \u001b[49m\u001b[38;5;241;43m*\u001b[39;49m\u001b[38;5;241;43m*\u001b[39;49m\u001b[43mkwargs\u001b[49m\u001b[43m)\u001b[49m\n\u001b[1;32m     45\u001b[0m \u001b[38;5;28;01mreturn\u001b[39;00m v\n",
      "File \u001b[0;32m~/Workspace/learngp/gp_math_func.py:213\u001b[0m, in \u001b[0;36mcorrwith\u001b[0;34m(x, y, dim)\u001b[0m\n\u001b[1;32m    211\u001b[0m \u001b[38;5;129m@prima_legitimate\u001b[39m(\u001b[38;5;241m2\u001b[39m,\u001b[38;5;28;01mFalse\u001b[39;00m)\n\u001b[1;32m    212\u001b[0m \u001b[38;5;28;01mdef\u001b[39;00m \u001b[38;5;21mcorrwith\u001b[39m(x,y,dim\u001b[38;5;241m=\u001b[39m\u001b[38;5;28;01mNone\u001b[39;00m):\n\u001b[0;32m--> 213\u001b[0m     \u001b[38;5;28;01mif\u001b[39;00m \u001b[43msame\u001b[49m\u001b[43m(\u001b[49m\u001b[43mx\u001b[49m\u001b[43m \u001b[49m\u001b[43m,\u001b[49m\u001b[43m \u001b[49m\u001b[43my\u001b[49m\u001b[43m)\u001b[49m: \u001b[38;5;28;01mreturn\u001b[39;00m torch\u001b[38;5;241m.\u001b[39mwhere(x\u001b[38;5;241m.\u001b[39mnansum(dim) \u001b[38;5;241m>\u001b[39m \u001b[38;5;241m2\u001b[39m , \u001b[38;5;241m1\u001b[39m , nan)\n\u001b[1;32m    214\u001b[0m     x \u001b[38;5;241m=\u001b[39m x \u001b[38;5;241m+\u001b[39m y \u001b[38;5;241m*\u001b[39m \u001b[38;5;241m0\u001b[39m\n\u001b[1;32m    215\u001b[0m     y \u001b[38;5;241m=\u001b[39m y \u001b[38;5;241m+\u001b[39m x \u001b[38;5;241m*\u001b[39m \u001b[38;5;241m0\u001b[39m\n",
      "File \u001b[0;32m~/Workspace/learngp/gp_math_func.py:31\u001b[0m, in \u001b[0;36msame\u001b[0;34m(x, y)\u001b[0m\n\u001b[1;32m     29\u001b[0m     \u001b[38;5;28;01mreturn\u001b[39;00m \u001b[38;5;28;01mFalse\u001b[39;00m\n\u001b[1;32m     30\u001b[0m \u001b[38;5;28;01melse\u001b[39;00m:\n\u001b[0;32m---> 31\u001b[0m     \u001b[38;5;28;01mreturn\u001b[39;00m \u001b[43mx\u001b[49m\u001b[38;5;241;43m.\u001b[39;49m\u001b[43mequal\u001b[49m\u001b[43m(\u001b[49m\u001b[43my\u001b[49m\u001b[43m)\u001b[49m\n",
      "\u001b[0;31mKeyboardInterrupt\u001b[0m: "
     ]
    }
   ],
   "source": [
    "# 真实测试，job_id=-1代表在新的pop的子文件夹中保存结果，如果强制要求在已有文件夹基础上继续训练，代码可能要再修改\n",
    "from gp_main import main\n",
    "main(False , job_id= -1)"
   ]
  },
  {
   "cell_type": "code",
   "execution_count": 1,
   "metadata": {},
   "outputs": [
    {
     "name": "stderr",
     "output_type": "stream",
     "text": [
      "Loading factor parquets: 100%|██████████| 5/5 [00:06<00:00,  1.21s/it]\n"
     ]
    },
    {
     "name": "stdout",
     "output_type": "stream",
     "text": [
      "Beware! future information used!\n"
     ]
    }
   ],
   "source": [
    "from gp_main import *\n",
    "a = gp_multifactor(0)"
   ]
  },
  {
   "cell_type": "code",
   "execution_count": 2,
   "metadata": {},
   "outputs": [
    {
     "name": "stdout",
     "output_type": "stream",
     "text": [
      "**Device name: NVIDIA GeForce RTX 4090 , Available: True\n",
      "  --> Pop directory is : \"./pop/2\"\n",
      "**Load Data Done, cost 2.28 secs\n",
      "**Cuda Memory: Free 1.4G, Allocated 16.6G, Reserved 21.8G\n"
     ]
    },
    {
     "data": {
      "text/plain": [
       "'ts_corr(TURN, TURN, 7)'"
      ]
     },
     "execution_count": 2,
     "metadata": {},
     "output_type": "execute_result"
    }
   ],
   "source": [
    "from gp_main import *\n",
    "from gp_utils import *\n",
    "gp_space = gp_namespace(gp_parameters(False , -1 , True))\n",
    "\n",
    "toolbox = gpHandler.Toolbox(eval_func = evaluate , **gp_space)\n",
    "population = gp_population(toolbox , **gp_space)\n",
    "'ts_corr(TURN, TURN, 7)'"
   ]
  }
 ],
 "metadata": {
  "kernelspec": {
   "display_name": "base",
   "language": "python",
   "name": "python3"
  },
  "language_info": {
   "codemirror_mode": {
    "name": "ipython",
    "version": 3
   },
   "file_extension": ".py",
   "mimetype": "text/x-python",
   "name": "python",
   "nbconvert_exporter": "python",
   "pygments_lexer": "ipython3",
   "version": "3.10.12"
  }
 },
 "nbformat": 4,
 "nbformat_minor": 2
}
