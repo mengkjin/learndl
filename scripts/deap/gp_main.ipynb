{
 "cells": [
  {
   "cell_type": "code",
   "execution_count": 1,
   "metadata": {},
   "outputs": [
    {
     "name": "stdout",
     "output_type": "stream",
     "text": [
      "**Job Directory is : \"./pop/bendi\"\n",
      "  --> Start New Training in \"./pop/bendi\"\n",
      "**Device name: NVIDIA GeForce RTX 4090 , Available: True\n",
      "-------------------- Data --------------------\n",
      "  --> Directly load \"./data/package/gp_data_package_test.pt\"\n",
      "**Load Data Done, Cost 0.11 Secs\n",
      "  --> 2 factors, 2 raw data loaded!\n",
      "**Cuda Memory: Free 23.2G, Allocated 0.1G, Reserved 0.1G, Re-collect 0.0G Cache!\n",
      "==================== Iteration 0 start from Generation 0 ====================\n",
      "-------------------- Setting --------------------\n",
      "**Initialize GP Toolbox Done, Cost 0.00 Secs\n",
      "-------------------- Evolution --------------------\n",
      "**A Population(10) has been Initialized\n"
     ]
    },
    {
     "name": "stderr",
     "output_type": "stream",
     "text": [
      "  --> Evolve Generation 0: 100%|██████████| 10/10 [00:00<00:00, 26.18it/s]\n"
     ]
    },
    {
     "name": "stdout",
     "output_type": "stream",
     "text": [
      "  --> Survive 8 Offsprings, try Populating to 10 ones\n"
     ]
    },
    {
     "name": "stderr",
     "output_type": "stream",
     "text": [
      "  --> Evolve Generation 1: 100%|██████████| 10/10 [00:00<00:00, 109.51it/s]\n"
     ]
    },
    {
     "name": "stdout",
     "output_type": "stream",
     "text": [
      "**A HallofFame(5) has been Evolutionized\n",
      "**2 Generations of Evolution Done, Cost 0.52 Secs, Freed CudaMemory 23.16G - > 23.10G\n",
      "-------------------- Selection --------------------\n",
      "**HallofFame(5) Contains 5 Promising Candidates with RankIR >= 1.50\n",
      "  --> Hof__0/Elite__0 (IR-5.48|Corr+0.00): rank_add(sigmoid(cp),ts_top_avg(TURN,15,10))\n",
      "  --> Cuda Memory: Free 22.5G, Allocated 0.1G, Reserved 0.7G, Re-collect 0.0G Cache!\n",
      "  --> Hof__1/Elite__1 (IR-4.98|Corr+0.69): ts_xtop_yavg(cp,TURN,15,9)\n",
      "  --> Cuda Memory: Free 22.5G, Allocated 0.1G, Reserved 0.7G, Re-collect 0.0G Cache!\n",
      "  --> Hof__2/Elite__2 (IR-4.47|Corr+0.06): ts_cov(log(turn),ts_stddev(cp,9),15)\n",
      "  --> Cuda Memory: Free 22.2G, Allocated 0.1G, Reserved 1.0G, Re-collect 0.0G Cache!\n",
      "  --> Hof__4/Elite__3 (IR-3.39|Corr+0.46): ts_btm_avg(turn,15,4)\n",
      "  --> Cuda Memory: Free 22.2G, Allocated 0.1G, Reserved 1.0G, Re-collect 0.0G Cache!\n",
      "**An EliteGroup(4) has been Selected\n",
      "  --> Memories of [gp_values , hof_elites , others] take 0.12G\n",
      "**Selection of HallofFame Done, Cost 0.15 Secs, Freed CudaMemory 23.10G - > 22.96G\n",
      "-------------------- Residual --------------------\n",
      "**Update Residual Labels Done, Cost 0.38 Secs, Freed CudaMemory 22.96G - > 23.06G\n",
      "==================== Total Time Cost :0 hours 0.0 ====================\n",
      "   Setting  Evolution  Selection  Residual  AvgVarAnd  AvgCompile  AvgEval     All\n",
      "0   0.0024     0.5152     0.1513    0.3828     0.0018  8.6613...    0.0089  1.0691\n"
     ]
    },
    {
     "data": {
      "text/html": [
       "<div>\n",
       "<style scoped>\n",
       "    .dataframe tbody tr th:only-of-type {\n",
       "        vertical-align: middle;\n",
       "    }\n",
       "\n",
       "    .dataframe tbody tr th {\n",
       "        vertical-align: top;\n",
       "    }\n",
       "\n",
       "    .dataframe thead th {\n",
       "        text-align: right;\n",
       "    }\n",
       "</style>\n",
       "<table border=\"1\" class=\"dataframe\">\n",
       "  <thead>\n",
       "    <tr style=\"text-align: right;\">\n",
       "      <th></th>\n",
       "      <th>type</th>\n",
       "      <th>name</th>\n",
       "      <th>ncalls</th>\n",
       "      <th>ccalls</th>\n",
       "      <th>tottime</th>\n",
       "      <th>cumtime</th>\n",
       "      <th>where</th>\n",
       "      <th>memory</th>\n",
       "      <th>full_name</th>\n",
       "      <th>caller</th>\n",
       "    </tr>\n",
       "  </thead>\n",
       "  <tbody>\n",
       "    <tr>\n",
       "      <th>532</th>\n",
       "      <td>built-in-method</td>\n",
       "      <td>torch._C._linalg.linalg_lstsq</td>\n",
       "      <td>473</td>\n",
       "      <td>0</td>\n",
       "      <td>0.2196</td>\n",
       "      <td>0.2196</td>\n",
       "      <td></td>\n",
       "      <td></td>\n",
       "      <td>&lt;built-in method torch._C._linalg.linalg_lstsq&gt;</td>\n",
       "      <td>None</td>\n",
       "    </tr>\n",
       "    <tr>\n",
       "      <th>482</th>\n",
       "      <td>function</td>\n",
       "      <td>neutralize_2d</td>\n",
       "      <td>1</td>\n",
       "      <td>0</td>\n",
       "      <td>0.3632</td>\n",
       "      <td>0.1280</td>\n",
       "      <td>\"/home/mengkjin/Workspace/learngp/gp_math_func...</td>\n",
       "      <td>0x7f69ff060240</td>\n",
       "      <td>&lt;code object neutralize_2d at 0x7f69ff060240, ...</td>\n",
       "      <td>[(&lt;method 'to' of 'torch._C._TensorBase' objec...</td>\n",
       "    </tr>\n",
       "    <tr>\n",
       "      <th>491</th>\n",
       "      <td>function</td>\n",
       "      <td>rank_pct</td>\n",
       "      <td>75</td>\n",
       "      <td>0</td>\n",
       "      <td>0.1265</td>\n",
       "      <td>0.0775</td>\n",
       "      <td>\"/home/mengkjin/Workspace/learngp/gp_math_func...</td>\n",
       "      <td>0x7f69ff061630</td>\n",
       "      <td>&lt;code object rank_pct at 0x7f69ff061630, file ...</td>\n",
       "      <td>[(&lt;method 'to' of 'torch._C._TensorBase' objec...</td>\n",
       "    </tr>\n",
       "    <tr>\n",
       "      <th>472</th>\n",
       "      <td>function</td>\n",
       "      <td>allna</td>\n",
       "      <td>22</td>\n",
       "      <td>0</td>\n",
       "      <td>0.1035</td>\n",
       "      <td>0.0755</td>\n",
       "      <td>\"/home/mengkjin/Workspace/learngp/gp_math_func...</td>\n",
       "      <td>0x7f69ff04b1b0</td>\n",
       "      <td>&lt;code object allna at 0x7f69ff04b1b0, file \"/h...</td>\n",
       "      <td>[(&lt;method 'isfinite' of 'torch._C._TensorBase'...</td>\n",
       "    </tr>\n",
       "    <tr>\n",
       "      <th>596</th>\n",
       "      <td>function</td>\n",
       "      <td>load_tensor</td>\n",
       "      <td>8</td>\n",
       "      <td>0</td>\n",
       "      <td>0.1043</td>\n",
       "      <td>0.0623</td>\n",
       "      <td>\"/home/mengkjin/.local/lib/python3.10/site-pac...</td>\n",
       "      <td>0x7f6a76f73730</td>\n",
       "      <td>&lt;code object load_tensor at 0x7f6a76f73730, fi...</td>\n",
       "      <td>[(&lt;code object default_restore_location at 0x7...</td>\n",
       "    </tr>\n",
       "    <tr>\n",
       "      <th>...</th>\n",
       "      <td>...</td>\n",
       "      <td>...</td>\n",
       "      <td>...</td>\n",
       "      <td>...</td>\n",
       "      <td>...</td>\n",
       "      <td>...</td>\n",
       "      <td>...</td>\n",
       "      <td>...</td>\n",
       "      <td>...</td>\n",
       "      <td>...</td>\n",
       "    </tr>\n",
       "    <tr>\n",
       "      <th>636</th>\n",
       "      <td>function</td>\n",
       "      <td>create_mp_lock</td>\n",
       "      <td>1</td>\n",
       "      <td>0</td>\n",
       "      <td>0.0030</td>\n",
       "      <td>0.0000</td>\n",
       "      <td>\"/home/mengkjin/.local/lib/python3.10/site-pac...</td>\n",
       "      <td>0x7f6aa1b535d0</td>\n",
       "      <td>&lt;code object create_mp_lock at 0x7f6aa1b535d0,...</td>\n",
       "      <td>[(&lt;built-in method builtins.hasattr&gt;, 1, 0, 9....</td>\n",
       "    </tr>\n",
       "    <tr>\n",
       "      <th>635</th>\n",
       "      <td>function</td>\n",
       "      <td>__exit__</td>\n",
       "      <td>8</td>\n",
       "      <td>0</td>\n",
       "      <td>0.0000</td>\n",
       "      <td>0.0000</td>\n",
       "      <td>\"/home/mengkjin/.local/lib/python3.10/site-pac...</td>\n",
       "      <td>0x7f6aa1b53520</td>\n",
       "      <td>&lt;code object __exit__ at 0x7f6aa1b53520, file ...</td>\n",
       "      <td>[(&lt;code object release at 0x7f6aa1b533c0, file...</td>\n",
       "    </tr>\n",
       "    <tr>\n",
       "      <th>634</th>\n",
       "      <td>function</td>\n",
       "      <td>__enter__</td>\n",
       "      <td>8</td>\n",
       "      <td>0</td>\n",
       "      <td>0.0000</td>\n",
       "      <td>0.0000</td>\n",
       "      <td>\"/home/mengkjin/.local/lib/python3.10/site-pac...</td>\n",
       "      <td>0x7f6aa1b53470</td>\n",
       "      <td>&lt;code object __enter__ at 0x7f6aa1b53470, file...</td>\n",
       "      <td>[(&lt;code object acquire at 0x7f6aa1b53310, file...</td>\n",
       "    </tr>\n",
       "    <tr>\n",
       "      <th>633</th>\n",
       "      <td>function</td>\n",
       "      <td>release</td>\n",
       "      <td>12</td>\n",
       "      <td>0</td>\n",
       "      <td>0.0000</td>\n",
       "      <td>0.0000</td>\n",
       "      <td>\"/home/mengkjin/.local/lib/python3.10/site-pac...</td>\n",
       "      <td>0x7f6aa1b533c0</td>\n",
       "      <td>&lt;code object release at 0x7f6aa1b533c0, file \"...</td>\n",
       "      <td>[(&lt;method 'release' of '_thread.RLock' objects...</td>\n",
       "    </tr>\n",
       "    <tr>\n",
       "      <th>1569</th>\n",
       "      <td>function</td>\n",
       "      <td>__init__</td>\n",
       "      <td>4</td>\n",
       "      <td>0</td>\n",
       "      <td>0.0000</td>\n",
       "      <td>0.0000</td>\n",
       "      <td>\"/usr/lib/python3.10/codecs.py\",186</td>\n",
       "      <td>0x7f6b6c5eb260</td>\n",
       "      <td>&lt;code object __init__ at 0x7f6b6c5eb260, file ...</td>\n",
       "      <td>None</td>\n",
       "    </tr>\n",
       "  </tbody>\n",
       "</table>\n",
       "<p>1570 rows × 10 columns</p>\n",
       "</div>"
      ],
      "text/plain": [
       "                 type                           name  ncalls  ccalls  tottime  \\\n",
       "532   built-in-method  torch._C._linalg.linalg_lstsq     473       0   0.2196   \n",
       "482          function                  neutralize_2d       1       0   0.3632   \n",
       "491          function                       rank_pct      75       0   0.1265   \n",
       "472          function                          allna      22       0   0.1035   \n",
       "596          function                    load_tensor       8       0   0.1043   \n",
       "...               ...                            ...     ...     ...      ...   \n",
       "636          function                 create_mp_lock       1       0   0.0030   \n",
       "635          function                       __exit__       8       0   0.0000   \n",
       "634          function                      __enter__       8       0   0.0000   \n",
       "633          function                        release      12       0   0.0000   \n",
       "1569         function                       __init__       4       0   0.0000   \n",
       "\n",
       "      cumtime                                              where  \\\n",
       "532    0.2196                                                      \n",
       "482    0.1280  \"/home/mengkjin/Workspace/learngp/gp_math_func...   \n",
       "491    0.0775  \"/home/mengkjin/Workspace/learngp/gp_math_func...   \n",
       "472    0.0755  \"/home/mengkjin/Workspace/learngp/gp_math_func...   \n",
       "596    0.0623  \"/home/mengkjin/.local/lib/python3.10/site-pac...   \n",
       "...       ...                                                ...   \n",
       "636    0.0000  \"/home/mengkjin/.local/lib/python3.10/site-pac...   \n",
       "635    0.0000  \"/home/mengkjin/.local/lib/python3.10/site-pac...   \n",
       "634    0.0000  \"/home/mengkjin/.local/lib/python3.10/site-pac...   \n",
       "633    0.0000  \"/home/mengkjin/.local/lib/python3.10/site-pac...   \n",
       "1569   0.0000                \"/usr/lib/python3.10/codecs.py\",186   \n",
       "\n",
       "              memory                                          full_name  \\\n",
       "532                     <built-in method torch._C._linalg.linalg_lstsq>   \n",
       "482   0x7f69ff060240  <code object neutralize_2d at 0x7f69ff060240, ...   \n",
       "491   0x7f69ff061630  <code object rank_pct at 0x7f69ff061630, file ...   \n",
       "472   0x7f69ff04b1b0  <code object allna at 0x7f69ff04b1b0, file \"/h...   \n",
       "596   0x7f6a76f73730  <code object load_tensor at 0x7f6a76f73730, fi...   \n",
       "...              ...                                                ...   \n",
       "636   0x7f6aa1b535d0  <code object create_mp_lock at 0x7f6aa1b535d0,...   \n",
       "635   0x7f6aa1b53520  <code object __exit__ at 0x7f6aa1b53520, file ...   \n",
       "634   0x7f6aa1b53470  <code object __enter__ at 0x7f6aa1b53470, file...   \n",
       "633   0x7f6aa1b533c0  <code object release at 0x7f6aa1b533c0, file \"...   \n",
       "1569  0x7f6b6c5eb260  <code object __init__ at 0x7f6b6c5eb260, file ...   \n",
       "\n",
       "                                                 caller  \n",
       "532                                                None  \n",
       "482   [(<method 'to' of 'torch._C._TensorBase' objec...  \n",
       "491   [(<method 'to' of 'torch._C._TensorBase' objec...  \n",
       "472   [(<method 'isfinite' of 'torch._C._TensorBase'...  \n",
       "596   [(<code object default_restore_location at 0x7...  \n",
       "...                                                 ...  \n",
       "636   [(<built-in method builtins.hasattr>, 1, 0, 9....  \n",
       "635   [(<code object release at 0x7f6aa1b533c0, file...  \n",
       "634   [(<code object acquire at 0x7f6aa1b53310, file...  \n",
       "633   [(<method 'release' of '_thread.RLock' objects...  \n",
       "1569                                               None  \n",
       "\n",
       "[1570 rows x 10 columns]"
      ]
     },
     "execution_count": 1,
     "metadata": {},
     "output_type": "execute_result"
    }
   ],
   "source": [
    "# 测试代码跑起来有没有问题，参数都设的很小，应该在一两分钟内执行完\n",
    "from gp_main import main\n",
    "# 各参数含义\n",
    "# job_id     # 确定在哪个文件夹训练,-1代表新建,具体的数字是指定文件夹,但测试代码时统一在./pop/bendi\n",
    "# start_iter # 从第几个大循环开始\n",
    "# start_gen  # 从某个大循环的第几代种群开始\n",
    "# test_code  # 是否只是测试代码有无bug,默认False\n",
    "# noWith     # 是否取消所有计时器,默认False,有计时器时报错会出问题\n",
    "profiler = main(job_id= -1 , start_iter=0 , start_gen=0 , test_code = True , noWith = False)\n",
    "profiler.get_df(sort_on='cumtime' , highlight= None) # 看看各子程序耗时,用来优化"
   ]
  },
  {
   "cell_type": "code",
   "execution_count": 2,
   "metadata": {},
   "outputs": [
    {
     "name": "stdout",
     "output_type": "stream",
     "text": [
      "**Job Directory is : \"./pop/bendi\"\n",
      "  --> Continue Training in \"./pop/bendi\"\n",
      "**Device name: NVIDIA GeForce RTX 4090 , Available: True\n",
      "-------------------- Data --------------------\n",
      "  --> Directly load \"./data/package/gp_data_package_test.pt\"\n",
      "**Load Data Done, Cost 0.10 Secs\n",
      "  --> 2 factors, 2 raw data loaded!\n",
      "**Cuda Memory: Free 23.1G, Allocated 0.1G, Reserved 0.1G, Re-collect 0.0G Cache!\n",
      "==================== Iteration 0 start from Generation 1 ====================\n",
      "-------------------- Setting --------------------\n",
      "**Initialize GP Toolbox Done, Cost 0.00 Secs\n",
      "-------------------- Evolution --------------------\n"
     ]
    },
    {
     "name": "stderr",
     "output_type": "stream",
     "text": [
      "  --> Load HallofFame 0: 100%|██████████| 5/5 [00:00<00:00, 63.76it/s]\n"
     ]
    },
    {
     "name": "stdout",
     "output_type": "stream",
     "text": [
      "  --> Survive 8 Offsprings, try Populating to 10 ones\n"
     ]
    },
    {
     "name": "stderr",
     "output_type": "stream",
     "text": [
      "  --> Evolve Generation 1: 100%|██████████| 10/10 [00:00<00:00, 72.66it/s]\n"
     ]
    },
    {
     "name": "stdout",
     "output_type": "stream",
     "text": [
      "**A HallofFame(5) has been Evolutionized\n",
      "**1 Generations of Evolution Done, Cost 0.26 Secs, Freed CudaMemory 23.04G - > 23.04G\n",
      "-------------------- Selection --------------------\n",
      "**HallofFame(5) Contains 5 Promising Candidates with RankIR >= 1.50\n",
      "  --> Hof__0/Elite__0 (IR-5.48|Corr+0.00): rank_add(sigmoid(cp),ts_top_avg(TURN,15,10))\n",
      "  --> Cuda Memory: Free 22.4G, Allocated 0.1G, Reserved 0.7G, Re-collect 0.0G Cache!\n",
      "  --> Hof__1/Elite__1 (IR-4.47|Corr+0.06): ts_cov(log(turn),ts_stddev(cp,9),15)\n",
      "  --> Cuda Memory: Free 22.2G, Allocated 0.1G, Reserved 1.0G, Re-collect 0.0G Cache!\n",
      "  --> Hof__2/Elite__2 (IR-4.28|Corr+0.67): rank_mul(turn,cp)\n",
      "  --> Cuda Memory: Free 22.2G, Allocated 0.1G, Reserved 1.0G, Re-collect 0.0G Cache!\n",
      "  --> Hof__4/Elite__3 (IR-3.39|Corr+0.48): ts_btm_avg(turn,15,4)\n",
      "  --> Cuda Memory: Free 22.2G, Allocated 0.1G, Reserved 1.0G, Re-collect 0.0G Cache!\n",
      "**An EliteGroup(4) has been Selected\n",
      "  --> Memories of [gp_values , hof_elites , others] take 0.12G\n",
      "**Selection of HallofFame Done, Cost 0.16 Secs, Freed CudaMemory 23.04G - > 22.90G\n",
      "-------------------- Residual --------------------\n",
      "**Update Residual Labels Done, Cost 0.29 Secs, Freed CudaMemory 22.90G - > 23.04G\n",
      "==================== Total Time Cost :0 hours 0.2 ====================\n",
      "   Setting  Evolution  Selection  Residual  AvgVarAnd  AvgCompile  AvgEval     All\n",
      "0   0.0038     0.2619     0.1621    0.2861      0.003     0.0001    0.0064  0.7331\n"
     ]
    },
    {
     "data": {
      "text/html": [
       "<div>\n",
       "<style scoped>\n",
       "    .dataframe tbody tr th:only-of-type {\n",
       "        vertical-align: middle;\n",
       "    }\n",
       "\n",
       "    .dataframe tbody tr th {\n",
       "        vertical-align: top;\n",
       "    }\n",
       "\n",
       "    .dataframe thead th {\n",
       "        text-align: right;\n",
       "    }\n",
       "</style>\n",
       "<table border=\"1\" class=\"dataframe\">\n",
       "  <thead>\n",
       "    <tr style=\"text-align: right;\">\n",
       "      <th></th>\n",
       "      <th>type</th>\n",
       "      <th>name</th>\n",
       "      <th>ncalls</th>\n",
       "      <th>ccalls</th>\n",
       "      <th>tottime</th>\n",
       "      <th>cumtime</th>\n",
       "      <th>where</th>\n",
       "      <th>memory</th>\n",
       "      <th>full_name</th>\n",
       "      <th>caller</th>\n",
       "    </tr>\n",
       "  </thead>\n",
       "  <tbody>\n",
       "    <tr>\n",
       "      <th>1487</th>\n",
       "      <td>function</td>\n",
       "      <td>select</td>\n",
       "      <td>842</td>\n",
       "      <td>0</td>\n",
       "      <td>8.6008</td>\n",
       "      <td>8.5709</td>\n",
       "      <td>\"/home/mengkjin/.local/lib/python3.10/site-pac...</td>\n",
       "      <td>0x7f6b6b9e1840</td>\n",
       "      <td>&lt;code object select at 0x7f6b6b9e1840, file \"/...</td>\n",
       "      <td>[(&lt;method 'append' of 'list' objects&gt;, 843, 0,...</td>\n",
       "    </tr>\n",
       "    <tr>\n",
       "      <th>420</th>\n",
       "      <td>function</td>\n",
       "      <td>neutralize_2d</td>\n",
       "      <td>1</td>\n",
       "      <td>0</td>\n",
       "      <td>0.2593</td>\n",
       "      <td>0.1270</td>\n",
       "      <td>\"/home/mengkjin/Workspace/learngp/gp_math_func...</td>\n",
       "      <td>0x7f69ff060240</td>\n",
       "      <td>&lt;code object neutralize_2d at 0x7f69ff060240, ...</td>\n",
       "      <td>[(&lt;built-in method builtins.isinstance&gt;, 1, 0,...</td>\n",
       "    </tr>\n",
       "    <tr>\n",
       "      <th>467</th>\n",
       "      <td>built-in-method</td>\n",
       "      <td>torch._C._linalg.linalg_lstsq</td>\n",
       "      <td>473</td>\n",
       "      <td>0</td>\n",
       "      <td>0.1156</td>\n",
       "      <td>0.1156</td>\n",
       "      <td></td>\n",
       "      <td></td>\n",
       "      <td>&lt;built-in method torch._C._linalg.linalg_lstsq&gt;</td>\n",
       "      <td>None</td>\n",
       "    </tr>\n",
       "    <tr>\n",
       "      <th>410</th>\n",
       "      <td>function</td>\n",
       "      <td>allna</td>\n",
       "      <td>19</td>\n",
       "      <td>0</td>\n",
       "      <td>0.0708</td>\n",
       "      <td>0.0687</td>\n",
       "      <td>\"/home/mengkjin/Workspace/learngp/gp_math_func...</td>\n",
       "      <td>0x7f69ff04b1b0</td>\n",
       "      <td>&lt;code object allna at 0x7f69ff04b1b0, file \"/h...</td>\n",
       "      <td>[(&lt;method 'isfinite' of 'torch._C._TensorBase'...</td>\n",
       "    </tr>\n",
       "    <tr>\n",
       "      <th>535</th>\n",
       "      <td>function</td>\n",
       "      <td>load_tensor</td>\n",
       "      <td>8</td>\n",
       "      <td>0</td>\n",
       "      <td>0.0955</td>\n",
       "      <td>0.0585</td>\n",
       "      <td>\"/home/mengkjin/.local/lib/python3.10/site-pac...</td>\n",
       "      <td>0x7f6a76f73730</td>\n",
       "      <td>&lt;code object load_tensor at 0x7f6a76f73730, fi...</td>\n",
       "      <td>[(&lt;method 'decode' of 'bytes' objects&gt;, 8, 0, ...</td>\n",
       "    </tr>\n",
       "    <tr>\n",
       "      <th>...</th>\n",
       "      <td>...</td>\n",
       "      <td>...</td>\n",
       "      <td>...</td>\n",
       "      <td>...</td>\n",
       "      <td>...</td>\n",
       "      <td>...</td>\n",
       "      <td>...</td>\n",
       "      <td>...</td>\n",
       "      <td>...</td>\n",
       "      <td>...</td>\n",
       "    </tr>\n",
       "    <tr>\n",
       "      <th>682</th>\n",
       "      <td>function</td>\n",
       "      <td>_validate_skipfooter</td>\n",
       "      <td>2</td>\n",
       "      <td>0</td>\n",
       "      <td>0.0000</td>\n",
       "      <td>0.0000</td>\n",
       "      <td>\"/home/mengkjin/.local/lib/python3.10/site-pac...</td>\n",
       "      <td>0x7f6aa1de63f0</td>\n",
       "      <td>&lt;code object _validate_skipfooter at 0x7f6aa1d...</td>\n",
       "      <td>[(&lt;method 'get' of 'dict' objects&gt;, 2, 0, 3.05...</td>\n",
       "    </tr>\n",
       "    <tr>\n",
       "      <th>681</th>\n",
       "      <td>function</td>\n",
       "      <td>_extract_dialect</td>\n",
       "      <td>2</td>\n",
       "      <td>0</td>\n",
       "      <td>0.0000</td>\n",
       "      <td>0.0000</td>\n",
       "      <td>\"/home/mengkjin/.local/lib/python3.10/site-pac...</td>\n",
       "      <td>0x7f6aa1de6130</td>\n",
       "      <td>&lt;code object _extract_dialect at 0x7f6aa1de613...</td>\n",
       "      <td>[(&lt;method 'get' of 'dict' objects&gt;, 2, 0, 3.14...</td>\n",
       "    </tr>\n",
       "    <tr>\n",
       "      <th>680</th>\n",
       "      <td>function</td>\n",
       "      <td>_refine_defaults_read</td>\n",
       "      <td>2</td>\n",
       "      <td>0</td>\n",
       "      <td>0.0000</td>\n",
       "      <td>0.0000</td>\n",
       "      <td>\"/home/mengkjin/.local/lib/python3.10/site-pac...</td>\n",
       "      <td>0x7f6aa1de6080</td>\n",
       "      <td>&lt;code object _refine_defaults_read at 0x7f6aa1...</td>\n",
       "      <td>[(&lt;code object check_dtype_backend at 0x7f6aa2...</td>\n",
       "    </tr>\n",
       "    <tr>\n",
       "      <th>679</th>\n",
       "      <td>function</td>\n",
       "      <td>_clean_na_values</td>\n",
       "      <td>2</td>\n",
       "      <td>0</td>\n",
       "      <td>0.0000</td>\n",
       "      <td>0.0000</td>\n",
       "      <td>\"/home/mengkjin/.local/lib/python3.10/site-pac...</td>\n",
       "      <td>0x7f6aa1de5e70</td>\n",
       "      <td>&lt;code object _clean_na_values at 0x7f6aa1de5e7...</td>\n",
       "      <td>None</td>\n",
       "    </tr>\n",
       "    <tr>\n",
       "      <th>1634</th>\n",
       "      <td>function</td>\n",
       "      <td>__init__</td>\n",
       "      <td>2</td>\n",
       "      <td>0</td>\n",
       "      <td>0.0000</td>\n",
       "      <td>0.0000</td>\n",
       "      <td>\"/usr/lib/python3.10/codecs.py\",260</td>\n",
       "      <td>0x7f6b6c5ebc00</td>\n",
       "      <td>&lt;code object __init__ at 0x7f6b6c5ebc00, file ...</td>\n",
       "      <td>None</td>\n",
       "    </tr>\n",
       "  </tbody>\n",
       "</table>\n",
       "<p>1635 rows × 10 columns</p>\n",
       "</div>"
      ],
      "text/plain": [
       "                 type                           name  ncalls  ccalls  tottime  \\\n",
       "1487         function                         select     842       0   8.6008   \n",
       "420          function                  neutralize_2d       1       0   0.2593   \n",
       "467   built-in-method  torch._C._linalg.linalg_lstsq     473       0   0.1156   \n",
       "410          function                          allna      19       0   0.0708   \n",
       "535          function                    load_tensor       8       0   0.0955   \n",
       "...               ...                            ...     ...     ...      ...   \n",
       "682          function           _validate_skipfooter       2       0   0.0000   \n",
       "681          function               _extract_dialect       2       0   0.0000   \n",
       "680          function          _refine_defaults_read       2       0   0.0000   \n",
       "679          function               _clean_na_values       2       0   0.0000   \n",
       "1634         function                       __init__       2       0   0.0000   \n",
       "\n",
       "      cumtime                                              where  \\\n",
       "1487   8.5709  \"/home/mengkjin/.local/lib/python3.10/site-pac...   \n",
       "420    0.1270  \"/home/mengkjin/Workspace/learngp/gp_math_func...   \n",
       "467    0.1156                                                      \n",
       "410    0.0687  \"/home/mengkjin/Workspace/learngp/gp_math_func...   \n",
       "535    0.0585  \"/home/mengkjin/.local/lib/python3.10/site-pac...   \n",
       "...       ...                                                ...   \n",
       "682    0.0000  \"/home/mengkjin/.local/lib/python3.10/site-pac...   \n",
       "681    0.0000  \"/home/mengkjin/.local/lib/python3.10/site-pac...   \n",
       "680    0.0000  \"/home/mengkjin/.local/lib/python3.10/site-pac...   \n",
       "679    0.0000  \"/home/mengkjin/.local/lib/python3.10/site-pac...   \n",
       "1634   0.0000                \"/usr/lib/python3.10/codecs.py\",260   \n",
       "\n",
       "              memory                                          full_name  \\\n",
       "1487  0x7f6b6b9e1840  <code object select at 0x7f6b6b9e1840, file \"/...   \n",
       "420   0x7f69ff060240  <code object neutralize_2d at 0x7f69ff060240, ...   \n",
       "467                     <built-in method torch._C._linalg.linalg_lstsq>   \n",
       "410   0x7f69ff04b1b0  <code object allna at 0x7f69ff04b1b0, file \"/h...   \n",
       "535   0x7f6a76f73730  <code object load_tensor at 0x7f6a76f73730, fi...   \n",
       "...              ...                                                ...   \n",
       "682   0x7f6aa1de63f0  <code object _validate_skipfooter at 0x7f6aa1d...   \n",
       "681   0x7f6aa1de6130  <code object _extract_dialect at 0x7f6aa1de613...   \n",
       "680   0x7f6aa1de6080  <code object _refine_defaults_read at 0x7f6aa1...   \n",
       "679   0x7f6aa1de5e70  <code object _clean_na_values at 0x7f6aa1de5e7...   \n",
       "1634  0x7f6b6c5ebc00  <code object __init__ at 0x7f6b6c5ebc00, file ...   \n",
       "\n",
       "                                                 caller  \n",
       "1487  [(<method 'append' of 'list' objects>, 843, 0,...  \n",
       "420   [(<built-in method builtins.isinstance>, 1, 0,...  \n",
       "467                                                None  \n",
       "410   [(<method 'isfinite' of 'torch._C._TensorBase'...  \n",
       "535   [(<method 'decode' of 'bytes' objects>, 8, 0, ...  \n",
       "...                                                 ...  \n",
       "682   [(<method 'get' of 'dict' objects>, 2, 0, 3.05...  \n",
       "681   [(<method 'get' of 'dict' objects>, 2, 0, 3.14...  \n",
       "680   [(<code object check_dtype_backend at 0x7f6aa2...  \n",
       "679                                                None  \n",
       "1634                                               None  \n",
       "\n",
       "[1635 rows x 10 columns]"
      ]
     },
     "execution_count": 2,
     "metadata": {},
     "output_type": "execute_result"
    }
   ],
   "source": [
    "# 测试能不能继续训练\n",
    "from gp_main import main\n",
    "profiler = main(job_id= -1 , start_iter=0 , start_gen=1 , test_code = True , noWith = False)\n",
    "profiler.get_df(sort_on='cumtime' , highlight= None) # 看看各子程序耗时,用来优化"
   ]
  },
  {
   "cell_type": "code",
   "execution_count": 1,
   "metadata": {},
   "outputs": [
    {
     "name": "stdout",
     "output_type": "stream",
     "text": [
      "**Job Directory is : \"./pop/0\"\n",
      "  --> Start New Training in \"./pop/0\"\n",
      "**Device name: NVIDIA GeForce RTX 4090 , Available: True\n",
      "**Cuda Memory: Free 20.9G, Allocated 2.3G, Reserved 2.3G, Re-collect 0.0G Cache!\n",
      "==================== Iteration 0 start from Generation 0 ====================\n",
      "['_I_0_(ma(sign(ts_rankcorr__2__(LP, AMT, 3)), 2))', 'add(vp, vol)', 'div(ts_top_avg__0__(amt, 15, 3), mul(adv60, lp))', 'log__0__(_I_1_(_I_1_(_I_1_(_I_1_(EP)))))', 'log__0__(_I_1_(_I_1_(_I_1_(_I_1_(VP)))))', 'log__0__(DP)', 'log(ts_argmin__0__(_I_1_(_I_1_(_I_1_(OP))), _I_3_(_I_3_(_I_3_(3)))))', 'log(vol)', 'ma__1__(_I_1_(_I_1_(BP)), 8)', 'ma__1__(_I_1_(VP), 6)', 'ma__1__(ADV20, 8)', 'ma__1__(ADV60, 2)', 'ma__2__(TURN, 20)', 'ma__0__(cp, _I_4_(10))', 'ma(ocfp, 7)', 'ma(ts_beta__1__(RTN, ep, 3), _I_3_(10))', 'ma__0__(ts_corr__1__(_I_1_(_I_1_(_I_1_(ADV20))), div(ts_beta(pctchg(DP, 3), ts_dwdif__0__(lp, AMT, 40), _I_3_(3)), log__0__(_I_1_(VP))), _I_3_(_I_3_(_I_3_(7)))), _I_4_(_I_4_(_I_4_(_I_4_(10)))))', 'mul(div(ts_dw(ts_top_avg__0__(ts_min(ocfp, 3), _I_4_(40), _I_2_(1)), _I_3_(_I_3_(2))), rank(ts_xbtm_yavg(_I_1_(VP), ts_max(lp, 3), _I_4_(20), _I_2_(4)))), sigmoid(ts_beta__0__(ts_delta(ts_dw(vol, 9), _I_2_(1)), _I_1_(_I_1_(ADV20)), _I_3_(_I_3_(9)))))', 'mul(op, op)', 'pctchg(_I_1_(DP), _I_2_(1))']\n",
      "['ma(sign(ts_rankcorr(LP, AMT, 3)), 2)', 'add(vp, vol)', 'div(ts_top_avg(amt, 15, 3), mul(adv60, lp))', 'log(EP)', 'log(VP)', 'log(DP)', 'log(ts_argmin(OP, 3))', 'log(vol)', 'ma(BP, 8)', 'ma(VP, 6)', 'ma(ADV20, 8)', 'ma(ADV60, 2)', 'ma(TURN, 20)', 'ma(cp, 10)', 'ma(ocfp, 7)', 'ma(ts_beta(RTN, ep, 3), 10)', 'ma(ts_corr(ADV20, div(ts_beta(pctchg(DP, 3), ts_dwdif(lp, AMT, 40), 3), log(VP)), 7), 10)', 'mul(div(ts_dw(ts_top_avg(ts_min(ocfp, 3), 40, 1), 2), rank(ts_xbtm_yavg(VP, ts_max(lp, 3), 20, 4))), sigmoid(ts_beta(ts_delta(ts_dw(vol, 9), 1), ADV20, 9)))', 'mul(op, op)', 'pctchg(DP, 1)']\n"
     ]
    },
    {
     "name": "stderr",
     "output_type": "stream",
     "text": [
      "  --> Evolve Generation 0: 100%|██████████| 100/100 [00:11<00:00,  9.01it/s]\n",
      "Traceback (most recent call last):\n",
      "  File \"/home/mengkjin/Workspace/learngp/gp_main.py\", line 492, in gp_evolution\n",
      "    offspring = toolbox.syxpop2indpop(offspring)\n",
      "  File \"/home/mengkjin/Workspace/learngp/gp_utils.py\", line 197, in syxpop2indpop\n",
      "    return [toolbox.syx2ind(ind) for ind in population]\n",
      "  File \"/home/mengkjin/Workspace/learngp/gp_utils.py\", line 197, in <listcomp>\n",
      "    return [toolbox.syx2ind(ind) for ind in population]\n",
      "  File \"/home/mengkjin/Workspace/learngp/gp_utils.py\", line 163, in syx2ind\n",
      "    return toolbox.str2ind(x.ind_name)\n",
      "  File \"/home/mengkjin/Workspace/learngp/gp_utils.py\", line 153, in str2ind\n",
      "    return creator.Individual.from_string(x , pset=pset_ind) # type:ignore\n",
      "  File \"/home/mengkjin/.local/lib/python3.10/site-packages/deap/gp.py\", line 129, in from_string\n",
      "    raise TypeError(\"Primitive {} return type {} does not \"\n",
      "TypeError: Primitive <deap.gp.Terminal object at 0x7f4a4030e100> return type <class 'gp_utils.int3'> does not match the expected one: <class 'gp_utils.int2'>.\n",
      "Traceback (most recent call last):\n",
      "  File \"/home/mengkjin/Workspace/learngp/gp_main.py\", line 591, in outer_loop\n",
      "    population, halloffame, omitalways = gp_evolution(toolbox , start_gen = start_gen , **gp_space)  #, start_gen=6   #algorithms.eaSimple\n",
      "  File \"/home/mengkjin/Workspace/learngp/gp_main.py\", line 492, in gp_evolution\n",
      "    offspring = toolbox.syxpop2indpop(offspring)\n",
      "  File \"/home/mengkjin/Workspace/learngp/gp_utils.py\", line 197, in syxpop2indpop\n",
      "    return [toolbox.syx2ind(ind) for ind in population]\n",
      "  File \"/home/mengkjin/Workspace/learngp/gp_utils.py\", line 197, in <listcomp>\n",
      "    return [toolbox.syx2ind(ind) for ind in population]\n",
      "  File \"/home/mengkjin/Workspace/learngp/gp_utils.py\", line 163, in syx2ind\n",
      "    return toolbox.str2ind(x.ind_name)\n",
      "  File \"/home/mengkjin/Workspace/learngp/gp_utils.py\", line 153, in str2ind\n",
      "    return creator.Individual.from_string(x , pset=pset_ind) # type:ignore\n",
      "  File \"/home/mengkjin/.local/lib/python3.10/site-packages/deap/gp.py\", line 129, in from_string\n",
      "    raise TypeError(\"Primitive {} return type {} does not \"\n",
      "TypeError: Primitive <deap.gp.Terminal object at 0x7f4a4030e100> return type <class 'gp_utils.int3'> does not match the expected one: <class 'gp_utils.int2'>.\n",
      "Traceback (most recent call last):\n",
      "  File \"/home/mengkjin/Workspace/learngp/gp_main.py\", line 717, in main\n",
      "    outer_loop(i_iter , gp_space , start_gen = start_gen * (i_iter == start_iter))\n",
      "  File \"/home/mengkjin/Workspace/learngp/gp_main.py\", line 591, in outer_loop\n",
      "    population, halloffame, omitalways = gp_evolution(toolbox , start_gen = start_gen , **gp_space)  #, start_gen=6   #algorithms.eaSimple\n",
      "  File \"/home/mengkjin/Workspace/learngp/gp_main.py\", line 492, in gp_evolution\n",
      "    offspring = toolbox.syxpop2indpop(offspring)\n",
      "  File \"/home/mengkjin/Workspace/learngp/gp_utils.py\", line 197, in syxpop2indpop\n",
      "    return [toolbox.syx2ind(ind) for ind in population]\n",
      "  File \"/home/mengkjin/Workspace/learngp/gp_utils.py\", line 197, in <listcomp>\n",
      "    return [toolbox.syx2ind(ind) for ind in population]\n",
      "  File \"/home/mengkjin/Workspace/learngp/gp_utils.py\", line 163, in syx2ind\n",
      "    return toolbox.str2ind(x.ind_name)\n",
      "  File \"/home/mengkjin/Workspace/learngp/gp_utils.py\", line 153, in str2ind\n",
      "    return creator.Individual.from_string(x , pset=pset_ind) # type:ignore\n",
      "  File \"/home/mengkjin/.local/lib/python3.10/site-packages/deap/gp.py\", line 129, in from_string\n",
      "    raise TypeError(\"Primitive {} return type {} does not \"\n",
      "TypeError: Primitive <deap.gp.Terminal object at 0x7f4a4030e100> return type <class 'gp_utils.int3'> does not match the expected one: <class 'gp_utils.int2'>.\n"
     ]
    },
    {
     "name": "stdout",
     "output_type": "stream",
     "text": [
      "Error Type : <class 'TypeError'>\n",
      "Error Value : Primitive <deap.gp.Terminal object at 0x7f4a4030e100> return type <class 'gp_utils.int3'> does not match the expected one: <class 'gp_utils.int2'>.\n",
      "Error Type : <class 'TypeError'>\n",
      "Error Value : Primitive <deap.gp.Terminal object at 0x7f4a4030e100> return type <class 'gp_utils.int3'> does not match the expected one: <class 'gp_utils.int2'>.\n",
      "Error Type : <class 'TypeError'>\n",
      "Error Value : Primitive <deap.gp.Terminal object at 0x7f4a4030e100> return type <class 'gp_utils.int3'> does not match the expected one: <class 'gp_utils.int2'>.\n"
     ]
    },
    {
     "ename": "TypeError",
     "evalue": "Primitive <deap.gp.Terminal object at 0x7f4a4030e100> return type <class 'gp_utils.int3'> does not match the expected one: <class 'gp_utils.int2'>.",
     "output_type": "error",
     "traceback": [
      "\u001b[0;31m---------------------------------------------------------------------------\u001b[0m",
      "\u001b[0;31mTypeError\u001b[0m                                 Traceback (most recent call last)",
      "Cell \u001b[0;32mIn[1], line 3\u001b[0m\n\u001b[1;32m      1\u001b[0m \u001b[38;5;66;03m# 真实测试，job_id=-1代表在新的pop的子文件夹中保存结果，如果强制要求在已有文件夹基础上继续训练，代码可能要再修改\u001b[39;00m\n\u001b[1;32m      2\u001b[0m \u001b[38;5;28;01mfrom\u001b[39;00m \u001b[38;5;21;01mgp_main\u001b[39;00m \u001b[38;5;28;01mimport\u001b[39;00m main\n\u001b[0;32m----> 3\u001b[0m profiler \u001b[38;5;241m=\u001b[39m \u001b[43mmain\u001b[49m\u001b[43m(\u001b[49m\u001b[43mjob_id\u001b[49m\u001b[38;5;241;43m=\u001b[39;49m\u001b[43m \u001b[49m\u001b[38;5;241;43m0\u001b[39;49m\u001b[43m \u001b[49m\u001b[43m,\u001b[49m\u001b[43m \u001b[49m\u001b[43mstart_iter\u001b[49m\u001b[38;5;241;43m=\u001b[39;49m\u001b[38;5;241;43m0\u001b[39;49m\u001b[43m \u001b[49m\u001b[43m,\u001b[49m\u001b[43m \u001b[49m\u001b[43mstart_gen\u001b[49m\u001b[38;5;241;43m=\u001b[39;49m\u001b[38;5;241;43m0\u001b[39;49m\u001b[43m \u001b[49m\u001b[43m,\u001b[49m\u001b[43m \u001b[49m\u001b[43mtest_code\u001b[49m\u001b[43m \u001b[49m\u001b[38;5;241;43m=\u001b[39;49m\u001b[43m \u001b[49m\u001b[38;5;28;43;01mFalse\u001b[39;49;00m\u001b[43m \u001b[49m\u001b[43m,\u001b[49m\u001b[43m \u001b[49m\u001b[43mnoWith\u001b[49m\u001b[43m \u001b[49m\u001b[38;5;241;43m=\u001b[39;49m\u001b[43m \u001b[49m\u001b[38;5;28;43;01mTrue\u001b[39;49;00m\u001b[43m)\u001b[49m\n",
      "File \u001b[0;32m~/Workspace/learngp/gp_main.py:717\u001b[0m, in \u001b[0;36mmain\u001b[0;34m(job_id, start_iter, start_gen, test_code, noWith, **kwargs)\u001b[0m\n\u001b[1;32m    715\u001b[0m     \u001b[38;5;28;01mfor\u001b[39;00m i_iter \u001b[38;5;129;01min\u001b[39;00m \u001b[38;5;28mrange\u001b[39m(start_iter , gp_space\u001b[38;5;241m.\u001b[39mn_iter):\n\u001b[1;32m    716\u001b[0m         \u001b[38;5;28mprint\u001b[39m(\u001b[38;5;124m'\u001b[39m\u001b[38;5;124m=\u001b[39m\u001b[38;5;124m'\u001b[39m \u001b[38;5;241m*\u001b[39m \u001b[38;5;241m20\u001b[39m \u001b[38;5;241m+\u001b[39m \u001b[38;5;124mf\u001b[39m\u001b[38;5;124m'\u001b[39m\u001b[38;5;124m Iteration \u001b[39m\u001b[38;5;132;01m{\u001b[39;00mi_iter\u001b[38;5;132;01m}\u001b[39;00m\u001b[38;5;124m start from Generation \u001b[39m\u001b[38;5;132;01m{\u001b[39;00mstart_gen \u001b[38;5;241m*\u001b[39m (i_iter \u001b[38;5;241m==\u001b[39m start_iter)\u001b[38;5;132;01m}\u001b[39;00m\u001b[38;5;124m \u001b[39m\u001b[38;5;124m'\u001b[39m \u001b[38;5;241m+\u001b[39m \u001b[38;5;124m'\u001b[39m\u001b[38;5;124m=\u001b[39m\u001b[38;5;124m'\u001b[39m \u001b[38;5;241m*\u001b[39m \u001b[38;5;241m20\u001b[39m)\n\u001b[0;32m--> 717\u001b[0m         \u001b[43mouter_loop\u001b[49m\u001b[43m(\u001b[49m\u001b[43mi_iter\u001b[49m\u001b[43m \u001b[49m\u001b[43m,\u001b[49m\u001b[43m \u001b[49m\u001b[43mgp_space\u001b[49m\u001b[43m \u001b[49m\u001b[43m,\u001b[49m\u001b[43m \u001b[49m\u001b[43mstart_gen\u001b[49m\u001b[43m \u001b[49m\u001b[38;5;241;43m=\u001b[39;49m\u001b[43m \u001b[49m\u001b[43mstart_gen\u001b[49m\u001b[43m \u001b[49m\u001b[38;5;241;43m*\u001b[39;49m\u001b[43m \u001b[49m\u001b[43m(\u001b[49m\u001b[43mi_iter\u001b[49m\u001b[43m \u001b[49m\u001b[38;5;241;43m==\u001b[39;49m\u001b[43m \u001b[49m\u001b[43mstart_iter\u001b[49m\u001b[43m)\u001b[49m\u001b[43m)\u001b[49m\n\u001b[1;32m    719\u001b[0m hours, secs \u001b[38;5;241m=\u001b[39m \u001b[38;5;28mdivmod\u001b[39m(time\u001b[38;5;241m.\u001b[39mtime() \u001b[38;5;241m-\u001b[39m time0, \u001b[38;5;241m3600\u001b[39m)\n\u001b[1;32m    720\u001b[0m \u001b[38;5;28mprint\u001b[39m(\u001b[38;5;124m'\u001b[39m\u001b[38;5;124m=\u001b[39m\u001b[38;5;124m'\u001b[39m \u001b[38;5;241m*\u001b[39m \u001b[38;5;241m20\u001b[39m \u001b[38;5;241m+\u001b[39m \u001b[38;5;124mf\u001b[39m\u001b[38;5;124m'\u001b[39m\u001b[38;5;124m Total Time Cost :\u001b[39m\u001b[38;5;132;01m{\u001b[39;00mhours\u001b[38;5;132;01m:\u001b[39;00m\u001b[38;5;124m.0f\u001b[39m\u001b[38;5;132;01m}\u001b[39;00m\u001b[38;5;124m hours \u001b[39m\u001b[38;5;132;01m{\u001b[39;00msecs\u001b[38;5;241m/\u001b[39m\u001b[38;5;241m60\u001b[39m\u001b[38;5;132;01m:\u001b[39;00m\u001b[38;5;124m.1f\u001b[39m\u001b[38;5;132;01m}\u001b[39;00m\u001b[38;5;124m \u001b[39m\u001b[38;5;124m'\u001b[39m \u001b[38;5;241m+\u001b[39m \u001b[38;5;124m'\u001b[39m\u001b[38;5;124m=\u001b[39m\u001b[38;5;124m'\u001b[39m \u001b[38;5;241m*\u001b[39m \u001b[38;5;241m20\u001b[39m)\n",
      "File \u001b[0;32m~/Workspace/learngp/gp_main.py:591\u001b[0m, in \u001b[0;36mouter_loop\u001b[0;34m(i_iter, gp_space, start_gen)\u001b[0m\n\u001b[1;32m    589\u001b[0m \u001b[38;5;124;03m'''进行进化与变异,生成种群、精英和先祖列表'''\u001b[39;00m\n\u001b[1;32m    590\u001b[0m \u001b[38;5;28;01mwith\u001b[39;00m text_manager(gp_space\u001b[38;5;241m.\u001b[39mgp_timer(\u001b[38;5;124m'\u001b[39m\u001b[38;5;124mEvolution\u001b[39m\u001b[38;5;124m'\u001b[39m , print_str \u001b[38;5;241m=\u001b[39m \u001b[38;5;124mf\u001b[39m\u001b[38;5;124m'\u001b[39m\u001b[38;5;124m**\u001b[39m\u001b[38;5;132;01m{\u001b[39;00mgp_space\u001b[38;5;241m.\u001b[39mn_gen \u001b[38;5;241m-\u001b[39m start_gen\u001b[38;5;132;01m}\u001b[39;00m\u001b[38;5;124m Generations of Evolution\u001b[39m\u001b[38;5;124m'\u001b[39m , memory_check \u001b[38;5;241m=\u001b[39m \u001b[38;5;28;01mTrue\u001b[39;00m)) \u001b[38;5;28;01mas\u001b[39;00m ptimer:\n\u001b[0;32m--> 591\u001b[0m     population, halloffame, omitalways \u001b[38;5;241m=\u001b[39m \u001b[43mgp_evolution\u001b[49m\u001b[43m(\u001b[49m\u001b[43mtoolbox\u001b[49m\u001b[43m \u001b[49m\u001b[43m,\u001b[49m\u001b[43m \u001b[49m\u001b[43mstart_gen\u001b[49m\u001b[43m \u001b[49m\u001b[38;5;241;43m=\u001b[39;49m\u001b[43m \u001b[49m\u001b[43mstart_gen\u001b[49m\u001b[43m \u001b[49m\u001b[43m,\u001b[49m\u001b[43m \u001b[49m\u001b[38;5;241;43m*\u001b[39;49m\u001b[38;5;241;43m*\u001b[39;49m\u001b[43mgp_space\u001b[49m\u001b[43m)\u001b[49m  \u001b[38;5;66;03m#, start_gen=6   #algorithms.eaSimple\u001b[39;00m\n\u001b[1;32m    593\u001b[0m \u001b[38;5;124;03m'''衡量精英,筛选出符合所有要求的精英中的精英'''\u001b[39;00m\n\u001b[1;32m    594\u001b[0m \u001b[38;5;28;01mwith\u001b[39;00m text_manager(gp_space\u001b[38;5;241m.\u001b[39mgp_timer(\u001b[38;5;124m'\u001b[39m\u001b[38;5;124mSelection\u001b[39m\u001b[38;5;124m'\u001b[39m , print_str \u001b[38;5;241m=\u001b[39m \u001b[38;5;124mf\u001b[39m\u001b[38;5;124m'\u001b[39m\u001b[38;5;124m**Selection of HallofFame\u001b[39m\u001b[38;5;124m'\u001b[39m , memory_check \u001b[38;5;241m=\u001b[39m \u001b[38;5;28;01mTrue\u001b[39;00m)) \u001b[38;5;28;01mas\u001b[39;00m ptimer:\n",
      "File \u001b[0;32m~/Workspace/learngp/gp_main.py:492\u001b[0m, in \u001b[0;36mgp_evolution\u001b[0;34m(toolbox, i_iter, pop_num, file_manager, pool_num, n_gen, cxpb, mutpb, hof_num, surv_rate, omit_ir_floor, start_gen, gp_timer, verbose, stats, **kwargs)\u001b[0m\n\u001b[1;32m    490\u001b[0m \u001b[38;5;66;03m# Variation offsprings\u001b[39;00m\n\u001b[1;32m    491\u001b[0m \u001b[38;5;28;01mwith\u001b[39;00m text_manager(gp_timer\u001b[38;5;241m.\u001b[39macc_timer(\u001b[38;5;124m'\u001b[39m\u001b[38;5;124mvarAnd\u001b[39m\u001b[38;5;124m'\u001b[39m)):\n\u001b[0;32m--> 492\u001b[0m     offspring \u001b[38;5;241m=\u001b[39m \u001b[43mtoolbox\u001b[49m\u001b[38;5;241;43m.\u001b[39;49m\u001b[43msyxpop2indpop\u001b[49m\u001b[43m(\u001b[49m\u001b[43moffspring\u001b[49m\u001b[43m)\u001b[49m\n\u001b[1;32m    493\u001b[0m     offspring \u001b[38;5;241m=\u001b[39m varAnd(offspring, toolbox, cxpb , mutpb) \u001b[38;5;66;03m# varAnd means variation part (crossover and mutation)\u001b[39;00m\n\u001b[1;32m    495\u001b[0m \u001b[38;5;66;03m# Dump population , halloffame , omitalways , logbooks(record **kwargs) of this generation\u001b[39;00m\n",
      "File \u001b[0;32m~/Workspace/learngp/gp_utils.py:197\u001b[0m, in \u001b[0;36mgpHandler.syxpop2indpop\u001b[0;34m(population, toolbox)\u001b[0m\n\u001b[1;32m    194\u001b[0m \u001b[38;5;129m@staticmethod\u001b[39m\n\u001b[1;32m    195\u001b[0m \u001b[38;5;28;01mdef\u001b[39;00m \u001b[38;5;21msyxpop2indpop\u001b[39m(population , toolbox):\n\u001b[1;32m    196\u001b[0m     \u001b[38;5;66;03m# remove Identity primatives of population\u001b[39;00m\n\u001b[0;32m--> 197\u001b[0m     \u001b[38;5;28;01mreturn\u001b[39;00m [toolbox\u001b[38;5;241m.\u001b[39msyx2ind(ind) \u001b[38;5;28;01mfor\u001b[39;00m ind \u001b[38;5;129;01min\u001b[39;00m population]\n",
      "File \u001b[0;32m~/Workspace/learngp/gp_utils.py:197\u001b[0m, in \u001b[0;36m<listcomp>\u001b[0;34m(.0)\u001b[0m\n\u001b[1;32m    194\u001b[0m \u001b[38;5;129m@staticmethod\u001b[39m\n\u001b[1;32m    195\u001b[0m \u001b[38;5;28;01mdef\u001b[39;00m \u001b[38;5;21msyxpop2indpop\u001b[39m(population , toolbox):\n\u001b[1;32m    196\u001b[0m     \u001b[38;5;66;03m# remove Identity primatives of population\u001b[39;00m\n\u001b[0;32m--> 197\u001b[0m     \u001b[38;5;28;01mreturn\u001b[39;00m [\u001b[43mtoolbox\u001b[49m\u001b[38;5;241;43m.\u001b[39;49m\u001b[43msyx2ind\u001b[49m\u001b[43m(\u001b[49m\u001b[43mind\u001b[49m\u001b[43m)\u001b[49m \u001b[38;5;28;01mfor\u001b[39;00m ind \u001b[38;5;129;01min\u001b[39;00m population]\n",
      "File \u001b[0;32m~/Workspace/learngp/gp_utils.py:163\u001b[0m, in \u001b[0;36mgpHandler.syx2ind\u001b[0;34m(x, toolbox)\u001b[0m\n\u001b[1;32m    161\u001b[0m \u001b[38;5;129m@staticmethod\u001b[39m\n\u001b[1;32m    162\u001b[0m \u001b[38;5;28;01mdef\u001b[39;00m \u001b[38;5;21msyx2ind\u001b[39m(x , toolbox):\n\u001b[0;32m--> 163\u001b[0m     \u001b[38;5;28;01mreturn\u001b[39;00m \u001b[43mtoolbox\u001b[49m\u001b[38;5;241;43m.\u001b[39;49m\u001b[43mstr2ind\u001b[49m\u001b[43m(\u001b[49m\u001b[43mx\u001b[49m\u001b[38;5;241;43m.\u001b[39;49m\u001b[43mind_name\u001b[49m\u001b[43m)\u001b[49m\n",
      "File \u001b[0;32m~/Workspace/learngp/gp_utils.py:153\u001b[0m, in \u001b[0;36mgpHandler.str2ind\u001b[0;34m(x, pset_ind)\u001b[0m\n\u001b[1;32m    151\u001b[0m \u001b[38;5;129m@staticmethod\u001b[39m\n\u001b[1;32m    152\u001b[0m \u001b[38;5;28;01mdef\u001b[39;00m \u001b[38;5;21mstr2ind\u001b[39m(x , pset_ind):\n\u001b[0;32m--> 153\u001b[0m     \u001b[38;5;28;01mreturn\u001b[39;00m \u001b[43mcreator\u001b[49m\u001b[38;5;241;43m.\u001b[39;49m\u001b[43mIndividual\u001b[49m\u001b[38;5;241;43m.\u001b[39;49m\u001b[43mfrom_string\u001b[49m\u001b[43m(\u001b[49m\u001b[43mx\u001b[49m\u001b[43m \u001b[49m\u001b[43m,\u001b[49m\u001b[43m \u001b[49m\u001b[43mpset\u001b[49m\u001b[38;5;241;43m=\u001b[39;49m\u001b[43mpset_ind\u001b[49m\u001b[43m)\u001b[49m\n",
      "File \u001b[0;32m~/.local/lib/python3.10/site-packages/deap/gp.py:129\u001b[0m, in \u001b[0;36mPrimitiveTree.from_string\u001b[0;34m(cls, string, pset)\u001b[0m\n\u001b[1;32m    126\u001b[0m primitive \u001b[38;5;241m=\u001b[39m pset\u001b[38;5;241m.\u001b[39mmapping[token]\n\u001b[1;32m    128\u001b[0m \u001b[38;5;28;01mif\u001b[39;00m type_ \u001b[38;5;129;01mis\u001b[39;00m \u001b[38;5;129;01mnot\u001b[39;00m \u001b[38;5;28;01mNone\u001b[39;00m \u001b[38;5;129;01mand\u001b[39;00m \u001b[38;5;129;01mnot\u001b[39;00m \u001b[38;5;28missubclass\u001b[39m(primitive\u001b[38;5;241m.\u001b[39mret, type_):\n\u001b[0;32m--> 129\u001b[0m     \u001b[38;5;28;01mraise\u001b[39;00m \u001b[38;5;167;01mTypeError\u001b[39;00m(\u001b[38;5;124m\"\u001b[39m\u001b[38;5;124mPrimitive \u001b[39m\u001b[38;5;132;01m{}\u001b[39;00m\u001b[38;5;124m return type \u001b[39m\u001b[38;5;132;01m{}\u001b[39;00m\u001b[38;5;124m does not \u001b[39m\u001b[38;5;124m\"\u001b[39m\n\u001b[1;32m    130\u001b[0m                     \u001b[38;5;124m\"\u001b[39m\u001b[38;5;124mmatch the expected one: \u001b[39m\u001b[38;5;132;01m{}\u001b[39;00m\u001b[38;5;124m.\u001b[39m\u001b[38;5;124m\"\u001b[39m\n\u001b[1;32m    131\u001b[0m                     \u001b[38;5;241m.\u001b[39mformat(primitive, primitive\u001b[38;5;241m.\u001b[39mret, type_))\n\u001b[1;32m    133\u001b[0m expr\u001b[38;5;241m.\u001b[39mappend(primitive)\n\u001b[1;32m    134\u001b[0m \u001b[38;5;28;01mif\u001b[39;00m \u001b[38;5;28misinstance\u001b[39m(primitive, Primitive):\n",
      "\u001b[0;31mTypeError\u001b[0m: Primitive <deap.gp.Terminal object at 0x7f4a4030e100> return type <class 'gp_utils.int3'> does not match the expected one: <class 'gp_utils.int2'>."
     ]
    }
   ],
   "source": [
    "# 真实测试，job_id=-1代表在新的pop的子文件夹中保存结果，如果强制要求在已有文件夹基础上继续训练，代码可能要再修改\n",
    "from gp_main import main\n",
    "profiler = main(job_id= 0 , start_iter=0 , start_gen=0 , test_code = False , noWith = True)"
   ]
  },
  {
   "cell_type": "code",
   "execution_count": null,
   "metadata": {},
   "outputs": [
    {
     "name": "stdout",
     "output_type": "stream",
     "text": [
      "**Job Directory is : \"./pop/bendi\"\n",
      "-------------------- Data --------------------\n",
      "  --> Directly load \"./data/package/gp_data_package_test.pt\"\n",
      "**Load Data Done, Cost 0.07 Secs\n",
      "  --> 2 factors, 2 raw data loaded!\n"
     ]
    },
    {
     "data": {
      "text/plain": [
       "tensor([[ 0.0000,  0.0000,  0.0000,  ...,  0.0000,  0.0000,  0.0000],\n",
       "        [ 0.0000,  0.0000,  0.0000,  ...,  0.0000,  0.0000,  0.0000],\n",
       "        [ 0.0000,  0.0000,  0.0000,  ...,  0.0000,  0.0000,  0.0000],\n",
       "        ...,\n",
       "        [-0.0657,     nan,  0.0073,  ..., -0.0612, -0.0417,  0.0049],\n",
       "        [-0.0038, -0.0206,  0.0071,  ..., -0.0463,     nan,  0.0068],\n",
       "        [-0.0061, -0.0229,  0.0036,  ..., -0.0530,     nan, -0.0234]])"
      ]
     },
     "execution_count": 2,
     "metadata": {},
     "output_type": "execute_result"
    }
   ],
   "source": [
    "# 给定因子表达式,得到全样本区间的因子值\n",
    "from gp_main import *\n",
    "from gp_utils import *\n",
    "\n",
    "func = gp_factor_generator(test_code = True)\n",
    "func('ts_corr(cp, CP, 7)')\n"
   ]
  },
  {
   "cell_type": "code",
   "execution_count": null,
   "metadata": {},
   "outputs": [
    {
     "name": "stdout",
     "output_type": "stream",
     "text": [
      "<class 'KeyError'> 'aaa'\n",
      "<traceback object at 0x0000025BD7F65F00>\n"
     ]
    },
    {
     "ename": "KeyError",
     "evalue": "'aaa'",
     "output_type": "error",
     "traceback": [
      "\u001b[1;31m---------------------------------------------------------------------------\u001b[0m",
      "\u001b[1;31mKeyError\u001b[0m                                  Traceback (most recent call last)",
      "\u001b[1;32m<ipython-input-1-f8cc5257ed6a>\u001b[0m in \u001b[0;36m<module>\u001b[1;34m\u001b[0m\n\u001b[0;32m      7\u001b[0m \u001b[1;33m\u001b[0m\u001b[0m\n\u001b[0;32m      8\u001b[0m \u001b[1;32mwith\u001b[0m \u001b[0mEmptyTimer\u001b[0m\u001b[1;33m(\u001b[0m\u001b[1;33m)\u001b[0m\u001b[1;33m:\u001b[0m\u001b[1;33m\u001b[0m\u001b[1;33m\u001b[0m\u001b[0m\n\u001b[1;32m----> 9\u001b[1;33m     \u001b[1;32mraise\u001b[0m \u001b[0mKeyError\u001b[0m\u001b[1;33m(\u001b[0m\u001b[1;34m'aaa'\u001b[0m\u001b[1;33m)\u001b[0m\u001b[1;33m\u001b[0m\u001b[1;33m\u001b[0m\u001b[0m\n\u001b[0m\u001b[0;32m     10\u001b[0m \u001b[0ma\u001b[0m \u001b[1;33m=\u001b[0m \u001b[1;36m1\u001b[0m\u001b[1;33m\u001b[0m\u001b[1;33m\u001b[0m\u001b[0m\n",
      "\u001b[1;31mKeyError\u001b[0m: 'aaa'"
     ]
    }
   ],
   "source": [
    "class EmptyTimer:\n",
    "    def __enter__(self):\n",
    "        pass\n",
    "    def __exit__(self, type, value, trace):\n",
    "        print(type , value)\n",
    "        print(trace)\n",
    "\n",
    "with EmptyTimer():\n",
    "    raise KeyError('aaa')\n",
    "a = 1"
   ]
  },
  {
   "cell_type": "code",
   "execution_count": null,
   "metadata": {},
   "outputs": [
    {
     "ename": "NameError",
     "evalue": "name 'a' is not defined",
     "output_type": "error",
     "traceback": [
      "\u001b[1;31m---------------------------------------------------------------------------\u001b[0m",
      "\u001b[1;31mNameError\u001b[0m                                 Traceback (most recent call last)",
      "\u001b[1;32m<ipython-input-2-3f786850e387>\u001b[0m in \u001b[0;36m<module>\u001b[1;34m\u001b[0m\n\u001b[1;32m----> 1\u001b[1;33m \u001b[0ma\u001b[0m\u001b[1;33m\u001b[0m\u001b[1;33m\u001b[0m\u001b[0m\n\u001b[0m",
      "\u001b[1;31mNameError\u001b[0m: name 'a' is not defined"
     ]
    }
   ],
   "source": [
    "a"
   ]
  },
  {
   "cell_type": "code",
   "execution_count": null,
   "metadata": {},
   "outputs": [
    {
     "name": "stderr",
     "output_type": "stream",
     "text": [
      "Loading factor parquets: 100%|██████████| 5/5 [00:06<00:00,  1.21s/it]\n"
     ]
    },
    {
     "name": "stdout",
     "output_type": "stream",
     "text": [
      "Beware! future information used!\n"
     ]
    }
   ],
   "source": [
    "from gp_main import *\n",
    "a = gp_multifactor(0)"
   ]
  },
  {
   "cell_type": "code",
   "execution_count": null,
   "metadata": {},
   "outputs": [
    {
     "data": {
      "text/plain": [
       "True"
      ]
     },
     "execution_count": 6,
     "metadata": {},
     "output_type": "execute_result"
    }
   ],
   "source": [
    "import torch\n",
    "a = torch.Tensor([torch.nan,torch.inf])\n",
    "b = a.nan_to_num_(0,0,0)\n",
    "a is b"
   ]
  },
  {
   "cell_type": "code",
   "execution_count": null,
   "metadata": {},
   "outputs": [],
   "source": [
    "import torch\n",
    "a = torch.rand(100 , 10)\n",
    "mat = a.T.mm(a)\n",
    "svd = torch.linalg.svd(b)"
   ]
  },
  {
   "cell_type": "code",
   "execution_count": null,
   "metadata": {},
   "outputs": [
    {
     "data": {
      "text/plain": [
       "tensor([[258.6961,   0.0000,   0.0000,   0.0000,   0.0000,   0.0000,   0.0000,\n",
       "           0.0000,   0.0000,   0.0000],\n",
       "        [  0.0000,  13.2971,   0.0000,   0.0000,   0.0000,   0.0000,   0.0000,\n",
       "           0.0000,   0.0000,   0.0000],\n",
       "        [  0.0000,   0.0000,  11.1351,   0.0000,   0.0000,   0.0000,   0.0000,\n",
       "           0.0000,   0.0000,   0.0000],\n",
       "        [  0.0000,   0.0000,   0.0000,  10.1185,   0.0000,   0.0000,   0.0000,\n",
       "           0.0000,   0.0000,   0.0000],\n",
       "        [  0.0000,   0.0000,   0.0000,   0.0000,   8.8712,   0.0000,   0.0000,\n",
       "           0.0000,   0.0000,   0.0000],\n",
       "        [  0.0000,   0.0000,   0.0000,   0.0000,   0.0000,   8.3178,   0.0000,\n",
       "           0.0000,   0.0000,   0.0000],\n",
       "        [  0.0000,   0.0000,   0.0000,   0.0000,   0.0000,   0.0000,   6.8591,\n",
       "           0.0000,   0.0000,   0.0000],\n",
       "        [  0.0000,   0.0000,   0.0000,   0.0000,   0.0000,   0.0000,   0.0000,\n",
       "           6.7035,   0.0000,   0.0000],\n",
       "        [  0.0000,   0.0000,   0.0000,   0.0000,   0.0000,   0.0000,   0.0000,\n",
       "           0.0000,   5.6054,   0.0000],\n",
       "        [  0.0000,   0.0000,   0.0000,   0.0000,   0.0000,   0.0000,   0.0000,\n",
       "           0.0000,   0.0000,   4.8226]])"
      ]
     },
     "execution_count": 102,
     "metadata": {},
     "output_type": "execute_result"
    }
   ],
   "source": [
    "torch.diag(svd.S)"
   ]
  },
  {
   "cell_type": "code",
   "execution_count": null,
   "metadata": {},
   "outputs": [],
   "source": [
    "vector = svd.U @ a.T"
   ]
  },
  {
   "cell_type": "code",
   "execution_count": null,
   "metadata": {},
   "outputs": [
    {
     "data": {
      "text/plain": [
       "tensor([[29.4512, 22.6779, 23.7730, 23.2615, 21.3629, 26.8521, 24.4361, 20.6758,\n",
       "         22.4063, 23.8412],\n",
       "        [22.6779, 36.2933, 24.4314, 28.7911, 24.9064, 28.7055, 28.5578, 24.7060,\n",
       "         23.5809, 28.0866],\n",
       "        [23.7730, 24.4314, 32.7650, 24.9694, 21.0530, 27.7802, 26.7312, 23.1877,\n",
       "         23.8526, 25.5734],\n",
       "        [23.2615, 28.7911, 24.9694, 35.4707, 22.6927, 28.0770, 27.6353, 23.5558,\n",
       "         23.9529, 27.7252],\n",
       "        [21.3629, 24.9064, 21.0530, 22.6927, 27.1140, 24.2808, 24.4535, 20.1986,\n",
       "         21.2453, 22.8292],\n",
       "        [26.8521, 28.7055, 27.7802, 28.0770, 24.2808, 37.6412, 28.1828, 25.9771,\n",
       "         26.1574, 29.6774],\n",
       "        [24.4361, 28.5578, 26.7312, 27.6353, 24.4535, 28.1828, 36.7733, 25.7596,\n",
       "         25.9066, 27.3087],\n",
       "        [20.6758, 24.7060, 23.1877, 23.5558, 20.1986, 25.9771, 25.7596, 30.6778,\n",
       "         20.5936, 25.3841],\n",
       "        [22.4063, 23.5809, 23.8526, 23.9529, 21.2453, 26.1574, 25.9066, 20.5936,\n",
       "         31.1825, 24.3746],\n",
       "        [23.8412, 28.0866, 25.5734, 27.7252, 22.8292, 29.6774, 27.3087, 25.3841,\n",
       "         24.3746, 37.0574]])"
      ]
     },
     "execution_count": 100,
     "metadata": {},
     "output_type": "execute_result"
    }
   ],
   "source": [
    "b"
   ]
  },
  {
   "cell_type": "code",
   "execution_count": null,
   "metadata": {},
   "outputs": [
    {
     "data": {
      "text/plain": [
       "tensor([[8210.5898,   -0.0000,    0.0000,   -0.0000,   -0.0000,   -0.0000,\n",
       "           -0.0000,   -0.0000,   -0.0000,    0.0000],\n",
       "        [  -0.0000,  189.9778,   -0.0000,    0.0000,    0.0000,    0.0000,\n",
       "            0.0000,    0.0000,    0.0000,   -0.0000],\n",
       "        [   0.0000,   -0.0000,  408.9219,   -0.0000,   -0.0000,   -0.0000,\n",
       "           -0.0000,   -0.0000,   -0.0000,    0.0000],\n",
       "        [  -0.0000,    0.0000,   -0.0000,   61.9093,    0.0000,    0.0000,\n",
       "            0.0000,    0.0000,    0.0000,   -0.0000],\n",
       "        [  -0.0000,    0.0000,   -0.0000,    0.0000,  911.9656,    0.0000,\n",
       "            0.0000,    0.0000,    0.0000,   -0.0000],\n",
       "        [  -0.0000,    0.0000,   -0.0000,    0.0000,    0.0000,   77.5556,\n",
       "            0.0000,    0.0000,    0.0000,   -0.0000],\n",
       "        [  -0.0000,    0.0000,   -0.0000,    0.0000,    0.0000,    0.0000,\n",
       "          104.5550,    0.0000,    0.0000,   -0.0000],\n",
       "        [  -0.0000,    0.0000,   -0.0000,    0.0000,    0.0000,    0.0000,\n",
       "            0.0000,  498.5872,    0.0000,   -0.0000],\n",
       "        [  -0.0000,    0.0000,   -0.0000,    0.0000,    0.0000,    0.0000,\n",
       "            0.0000,    0.0000,  155.2471,   -0.0000],\n",
       "        [   0.0000,   -0.0000,    0.0000,   -0.0000,   -0.0000,   -0.0000,\n",
       "           -0.0000,   -0.0000,   -0.0000,   77.7301]])"
      ]
     },
     "execution_count": 105,
     "metadata": {},
     "output_type": "execute_result"
    }
   ],
   "source": [
    "vector.mm(vector.T) * torch.diag(svd.S)"
   ]
  },
  {
   "cell_type": "code",
   "execution_count": null,
   "metadata": {},
   "outputs": [
    {
     "name": "stdout",
     "output_type": "stream",
     "text": [
      "**Device name: NVIDIA GeForce RTX 4090 , Available: True\n",
      "  --> Pop directory is : \"./pop/2\"\n",
      "**Load Data Done, cost 2.28 secs\n",
      "**Cuda Memory: Free 1.4G, Allocated 16.6G, Reserved 21.8G\n"
     ]
    },
    {
     "data": {
      "text/plain": [
       "'ts_corr(TURN, TURN, 7)'"
      ]
     },
     "execution_count": 2,
     "metadata": {},
     "output_type": "execute_result"
    }
   ],
   "source": [
    "from gp_main import *\n",
    "from gp_utils import *\n",
    "gp_space = gp_namespace(gp_parameters(False , -1 , True))\n",
    "\n",
    "toolbox = gpHandler.Toolbox(eval_func = evaluate , **gp_space)\n",
    "population = gp_population(toolbox , **gp_space)\n",
    "'ts_corr(TURN, TURN, 7)'"
   ]
  },
  {
   "cell_type": "code",
   "execution_count": null,
   "metadata": {},
   "outputs": [],
   "source": []
  },
  {
   "cell_type": "code",
   "execution_count": 2,
   "metadata": {},
   "outputs": [],
   "source": [
    "import operator , time , joblib , os , gc , itertools , re , traceback\n",
    "import numpy as np\n",
    "import pandas as pd\n",
    "import torch\n",
    "from argparse import Namespace\n",
    "from deap import base , creator , tools , gp\n",
    "from copy import deepcopy\n",
    "import gp_math_func as MF\n",
    "import gp_factor_func as FF\n",
    "\n",
    "class Fac(torch.Tensor): pass\n",
    "class Raw(torch.Tensor): pass\n",
    "class int1(int): pass\n",
    "class int2(int): pass\n",
    "class int3(int): pass\n",
    "class int4(int): pass\n",
    "class int5(int): pass\n",
    "class float1(float): pass\n",
    "\n",
    "pset = gp.PrimitiveSetTyped('main', [Fac] * 2 + [Raw] * 1, Fac)\n",
    "\n",
    "pset.addEphemeralConstant(f'int1{0}', lambda: np.random.randint(1,10+1), int1) # random int must > 0\n",
    "pset.addEphemeralConstant(f'int2{0}', lambda: np.random.randint(2,10+1), int2) # random int must > 1\n",
    "#for v in [10 , 15 , 20 , 40]:  pset.addTerminal(v, int3)\n",
    "#for v in [10 , 20]:  pset.addTerminal(v, int4)\n",
    "#for v in [60 , 120 , 180 , 200 , 240]: pset.addTerminal(v, int5)\n",
    "\n",
    "pset.addPrimitive(MF.add , [Fac , float] , Fac)"
   ]
  },
  {
   "cell_type": "code",
   "execution_count": 4,
   "metadata": {},
   "outputs": [
    {
     "data": {
      "text/plain": [
       "tensor([2.8089, 2.0959, 2.7645, 2.0856, 2.8076, 2.8209, 2.1527, 2.2615, 2.5122,\n",
       "        2.1361])"
      ]
     },
     "execution_count": 4,
     "metadata": {},
     "output_type": "execute_result"
    }
   ],
   "source": [
    "gp.compile('add(ARG0,ARG2)',pset=pset)(torch.rand(10),1,2)"
   ]
  },
  {
   "cell_type": "code",
   "execution_count": 7,
   "metadata": {},
   "outputs": [],
   "source": [
    "pset.primitives.__delitem__(Fac)"
   ]
  },
  {
   "cell_type": "code",
   "execution_count": 8,
   "metadata": {},
   "outputs": [
    {
     "data": {
      "text/plain": [
       "defaultdict(list,\n",
       "            {__main__.Raw: [],\n",
       "             __main__.int1: [],\n",
       "             __main__.int2: [],\n",
       "             float: []})"
      ]
     },
     "execution_count": 8,
     "metadata": {},
     "output_type": "execute_result"
    }
   ],
   "source": [
    "pset.primitives"
   ]
  },
  {
   "cell_type": "code",
   "execution_count": 10,
   "metadata": {},
   "outputs": [],
   "source": [
    "import torch\n",
    "import gp_math_func as MF\n",
    "class Fac(torch.Tensor): pass\n",
    "class Raw(torch.Tensor): pass\n",
    "a = Raw(list(range(10)))"
   ]
  },
  {
   "cell_type": "code",
   "execution_count": 1,
   "metadata": {},
   "outputs": [],
   "source": [
    "import operator , time , joblib , os , gc , itertools , re , traceback\n",
    "import numpy as np\n",
    "import pandas as pd\n",
    "import torch\n",
    "from argparse import Namespace\n",
    "from deap import base , creator , tools , gp\n",
    "from copy import deepcopy\n",
    "import gp_math_func as MF\n",
    "import gp_factor_func as FF\n",
    "\n",
    "class int1(int): pass\n",
    "\n",
    "pset = gp.PrimitiveSetTyped('main', [torch.Tensor] * 2, torch.Tensor)\n",
    "pset.addEphemeralConstant('int0',lambda: np.random.randint(2,10+1), int1)\n",
    "creator.create('FitnessMin', base.Fitness, weights=(+1.0,))   # 优化问题：单目标优化，weights为单元素；+1表明适应度越大，越容易存活\n",
    "creator.create('Individual', gp.PrimitiveTree, fitness=creator.FitnessMin, ) # type:ignore\n",
    "pset.addPrimitive(MF.add , [torch.Tensor , int] , torch.Tensor)"
   ]
  },
  {
   "cell_type": "code",
   "execution_count": 20,
   "metadata": {},
   "outputs": [],
   "source": [
    "b = creator.Individual.from_string('(add((ARG0),3))' , pset = pset)"
   ]
  },
  {
   "cell_type": "code",
   "execution_count": 28,
   "metadata": {},
   "outputs": [
    {
     "data": {
      "text/plain": [
       "['(add((ARG0),3))']"
      ]
     },
     "execution_count": 28,
     "metadata": {},
     "output_type": "execute_result"
    }
   ],
   "source": [
    "'(add((ARG0),3))'.split(r'.')"
   ]
  },
  {
   "cell_type": "code",
   "execution_count": 12,
   "metadata": {},
   "outputs": [
    {
     "name": "stdout",
     "output_type": "stream",
     "text": [
      "The string '1_I_123_' does not match the pattern '_I_[0-9]+_'.\n",
      "The string '_I_abc_' does not match the pattern '_I_[0-9]+_'.\n",
      "The string '123_I_456' does not match the pattern '_I_[0-9]+_'.\n"
     ]
    }
   ],
   "source": [
    "import re\n",
    "\n",
    "def assert_string_pattern(input_string):\n",
    "    pattern = r'^_I_[0-9]+_$'\n",
    "    \n",
    "    if re.match(pattern, input_string):\n",
    "        print(f\"The string '{input_string}' matches the pattern '_I_[0-9]+_'.\")\n",
    "    else:\n",
    "        print(f\"The string '{input_string}' does not match the pattern '_I_[0-9]+_'.\")\n",
    "\n",
    "# Test the function with different strings\n",
    "assert_string_pattern('_I_123_')  # This should match\n",
    "assert_string_pattern('_I_abc_')  # This should not match\n",
    "assert_string_pattern('123_I_456')  # This should not match\n"
   ]
  },
  {
   "cell_type": "code",
   "execution_count": 19,
   "metadata": {},
   "outputs": [
    {
     "name": "stdout",
     "output_type": "stream",
     "text": [
      "[1, 3, 9]\n"
     ]
    }
   ],
   "source": [
    "a = [1,3,4,5,6,9,10]\n",
    "a = [i for i in a if i-1 not in a]\n",
    "print(a)"
   ]
  },
  {
   "cell_type": "code",
   "execution_count": 18,
   "metadata": {},
   "outputs": [
    {
     "name": "stdout",
     "output_type": "stream",
     "text": [
      "[1, 3, 6, 9]\n"
     ]
    }
   ],
   "source": [
    "a = [i for i in a if i-1 not in a]\n",
    "print(a)"
   ]
  },
  {
   "cell_type": "code",
   "execution_count": null,
   "metadata": {},
   "outputs": [],
   "source": [
    "re.fullmatch()"
   ]
  },
  {
   "cell_type": "code",
   "execution_count": 8,
   "metadata": {},
   "outputs": [
    {
     "data": {
      "text/plain": [
       "False"
      ]
     },
     "execution_count": 8,
     "metadata": {},
     "output_type": "execute_result"
    }
   ],
   "source": [
    "isinstance(type(torch.square(a)) , Fac)"
   ]
  },
  {
   "cell_type": "code",
   "execution_count": 13,
   "metadata": {},
   "outputs": [
    {
     "ename": "TypeError",
     "evalue": "unsupported operand type(s) for +: 'Fac' and 'Raw'",
     "output_type": "error",
     "traceback": [
      "\u001b[0;31m---------------------------------------------------------------------------\u001b[0m",
      "\u001b[0;31mTypeError\u001b[0m                                 Traceback (most recent call last)",
      "Cell \u001b[0;32mIn[13], line 1\u001b[0m\n\u001b[0;32m----> 1\u001b[0m \u001b[38;5;28mtype\u001b[39m(\u001b[43mMF\u001b[49m\u001b[38;5;241;43m.\u001b[39;49m\u001b[43mts_corr\u001b[49m\u001b[43m(\u001b[49m\u001b[43mFac\u001b[49m\u001b[43m(\u001b[49m\u001b[43mtorch\u001b[49m\u001b[38;5;241;43m.\u001b[39;49m\u001b[43mrand\u001b[49m\u001b[43m(\u001b[49m\u001b[38;5;241;43m100\u001b[39;49m\u001b[43m,\u001b[49m\u001b[38;5;241;43m100\u001b[39;49m\u001b[43m)\u001b[49m\u001b[43m)\u001b[49m\u001b[43m,\u001b[49m\u001b[43mRaw\u001b[49m\u001b[43m(\u001b[49m\u001b[43mtorch\u001b[49m\u001b[38;5;241;43m.\u001b[39;49m\u001b[43mrand\u001b[49m\u001b[43m(\u001b[49m\u001b[38;5;241;43m100\u001b[39;49m\u001b[43m,\u001b[49m\u001b[38;5;241;43m100\u001b[39;49m\u001b[43m)\u001b[49m\u001b[43m)\u001b[49m\u001b[43m \u001b[49m\u001b[43m,\u001b[49m\u001b[43m \u001b[49m\u001b[38;5;241;43m10\u001b[39;49m\u001b[43m)\u001b[49m)\n",
      "File \u001b[0;32m~/Workspace/learngp/gp_math_func.py:46\u001b[0m, in \u001b[0;36mprima_legitimate.<locals>.decorator.<locals>.wrapper\u001b[0;34m(*args, **kwargs)\u001b[0m\n\u001b[1;32m     44\u001b[0m     \u001b[38;5;28;01mif\u001b[39;00m check_exact \u001b[38;5;129;01mand\u001b[39;00m exact(args[\u001b[38;5;241m0\u001b[39m],args[\u001b[38;5;241m1\u001b[39m]): \u001b[38;5;28;01mreturn\u001b[39;00m invalid\n\u001b[1;32m     45\u001b[0m     \u001b[38;5;28;01mif\u001b[39;00m check_same  \u001b[38;5;129;01mand\u001b[39;00m same(args[\u001b[38;5;241m0\u001b[39m],args[\u001b[38;5;241m1\u001b[39m]): \u001b[38;5;28;01mreturn\u001b[39;00m invalid\n\u001b[0;32m---> 46\u001b[0m v \u001b[38;5;241m=\u001b[39m \u001b[43mfunc\u001b[49m\u001b[43m(\u001b[49m\u001b[38;5;241;43m*\u001b[39;49m\u001b[43margs\u001b[49m\u001b[43m \u001b[49m\u001b[43m,\u001b[49m\u001b[43m \u001b[49m\u001b[38;5;241;43m*\u001b[39;49m\u001b[38;5;241;43m*\u001b[39;49m\u001b[43mkwargs\u001b[49m\u001b[43m)\u001b[49m\n\u001b[1;32m     47\u001b[0m \u001b[38;5;28;01mreturn\u001b[39;00m v\n",
      "File \u001b[0;32m~/Workspace/learngp/gp_math_func.py:70\u001b[0m, in \u001b[0;36mts_coroller.<locals>.decorator.<locals>.wrapper\u001b[0;34m(x, y, d, *args, **kwargs)\u001b[0m\n\u001b[1;32m     68\u001b[0m x \u001b[38;5;241m=\u001b[39m x\u001b[38;5;241m.\u001b[39mnan_to_num(nan,pinf,ninf)\n\u001b[1;32m     69\u001b[0m y \u001b[38;5;241m=\u001b[39m y\u001b[38;5;241m.\u001b[39mnan_to_num(nan,pinf,ninf)\n\u001b[0;32m---> 70\u001b[0m z \u001b[38;5;241m=\u001b[39m \u001b[43mfunc\u001b[49m\u001b[43m(\u001b[49m\u001b[43mx\u001b[49m\u001b[38;5;241;43m.\u001b[39;49m\u001b[43munfold\u001b[49m\u001b[43m(\u001b[49m\u001b[38;5;241;43m0\u001b[39;49m\u001b[43m,\u001b[49m\u001b[43md\u001b[49m\u001b[43m,\u001b[49m\u001b[38;5;241;43m1\u001b[39;49m\u001b[43m)\u001b[49m\u001b[43m \u001b[49m\u001b[43m,\u001b[49m\u001b[43m \u001b[49m\u001b[43my\u001b[49m\u001b[38;5;241;43m.\u001b[39;49m\u001b[43munfold\u001b[49m\u001b[43m(\u001b[49m\u001b[38;5;241;43m0\u001b[39;49m\u001b[43m,\u001b[49m\u001b[43md\u001b[49m\u001b[43m,\u001b[49m\u001b[38;5;241;43m1\u001b[39;49m\u001b[43m)\u001b[49m\u001b[43m \u001b[49m\u001b[43m,\u001b[49m\u001b[43m \u001b[49m\u001b[43md\u001b[49m\u001b[43m \u001b[49m\u001b[43m,\u001b[49m\u001b[43m \u001b[49m\u001b[38;5;241;43m*\u001b[39;49m\u001b[43margs\u001b[49m\u001b[43m,\u001b[49m\u001b[43m \u001b[49m\u001b[38;5;241;43m*\u001b[39;49m\u001b[38;5;241;43m*\u001b[39;49m\u001b[43mkwargs\u001b[49m\u001b[43m)\u001b[49m\n\u001b[1;32m     71\u001b[0m z \u001b[38;5;241m=\u001b[39m nn\u001b[38;5;241m.\u001b[39mfunctional\u001b[38;5;241m.\u001b[39mpad(z , [\u001b[38;5;241m0\u001b[39m,\u001b[38;5;241m0\u001b[39m,d\u001b[38;5;241m-\u001b[39m\u001b[38;5;241m1\u001b[39m,\u001b[38;5;241m0\u001b[39m] , value \u001b[38;5;241m=\u001b[39m nan)\n\u001b[1;32m     72\u001b[0m \u001b[38;5;28;01mreturn\u001b[39;00m z\n",
      "File \u001b[0;32m~/Workspace/learngp/gp_math_func.py:474\u001b[0m, in \u001b[0;36mts_corr\u001b[0;34m(x, y, d)\u001b[0m\n\u001b[1;32m    471\u001b[0m \u001b[38;5;129m@prima_legitimate\u001b[39m(\u001b[38;5;241m2\u001b[39m)\n\u001b[1;32m    472\u001b[0m \u001b[38;5;129m@ts_coroller\u001b[39m(\u001b[38;5;241m0\u001b[39m)\n\u001b[1;32m    473\u001b[0m \u001b[38;5;28;01mdef\u001b[39;00m \u001b[38;5;21mts_corr\u001b[39m(x , y , d):\n\u001b[0;32m--> 474\u001b[0m     \u001b[38;5;28;01mreturn\u001b[39;00m \u001b[43mcorrwith\u001b[49m\u001b[43m(\u001b[49m\u001b[43mx\u001b[49m\u001b[43m \u001b[49m\u001b[43m,\u001b[49m\u001b[43m \u001b[49m\u001b[43my\u001b[49m\u001b[43m \u001b[49m\u001b[43m,\u001b[49m\u001b[43m \u001b[49m\u001b[43mdim\u001b[49m\u001b[38;5;241;43m=\u001b[39;49m\u001b[38;5;241;43m-\u001b[39;49m\u001b[38;5;241;43m1\u001b[39;49m\u001b[43m)\u001b[49m\n",
      "File \u001b[0;32m~/Workspace/learngp/gp_math_func.py:46\u001b[0m, in \u001b[0;36mprima_legitimate.<locals>.decorator.<locals>.wrapper\u001b[0;34m(*args, **kwargs)\u001b[0m\n\u001b[1;32m     44\u001b[0m     \u001b[38;5;28;01mif\u001b[39;00m check_exact \u001b[38;5;129;01mand\u001b[39;00m exact(args[\u001b[38;5;241m0\u001b[39m],args[\u001b[38;5;241m1\u001b[39m]): \u001b[38;5;28;01mreturn\u001b[39;00m invalid\n\u001b[1;32m     45\u001b[0m     \u001b[38;5;28;01mif\u001b[39;00m check_same  \u001b[38;5;129;01mand\u001b[39;00m same(args[\u001b[38;5;241m0\u001b[39m],args[\u001b[38;5;241m1\u001b[39m]): \u001b[38;5;28;01mreturn\u001b[39;00m invalid\n\u001b[0;32m---> 46\u001b[0m v \u001b[38;5;241m=\u001b[39m \u001b[43mfunc\u001b[49m\u001b[43m(\u001b[49m\u001b[38;5;241;43m*\u001b[39;49m\u001b[43margs\u001b[49m\u001b[43m \u001b[49m\u001b[43m,\u001b[49m\u001b[43m \u001b[49m\u001b[38;5;241;43m*\u001b[39;49m\u001b[38;5;241;43m*\u001b[39;49m\u001b[43mkwargs\u001b[49m\u001b[43m)\u001b[49m\n\u001b[1;32m     47\u001b[0m \u001b[38;5;28;01mreturn\u001b[39;00m v\n",
      "File \u001b[0;32m~/Workspace/learngp/gp_math_func.py:211\u001b[0m, in \u001b[0;36mcorrwith\u001b[0;34m(x, y, dim)\u001b[0m\n\u001b[1;32m    208\u001b[0m \u001b[38;5;129m@prima_legitimate\u001b[39m(\u001b[38;5;241m2\u001b[39m,\u001b[38;5;28;01mFalse\u001b[39;00m)\n\u001b[1;32m    209\u001b[0m \u001b[38;5;28;01mdef\u001b[39;00m \u001b[38;5;21mcorrwith\u001b[39m(x,y,dim\u001b[38;5;241m=\u001b[39m\u001b[38;5;28;01mNone\u001b[39;00m):\n\u001b[1;32m    210\u001b[0m     \u001b[38;5;28;01mif\u001b[39;00m same(x , y): \u001b[38;5;28;01mreturn\u001b[39;00m torch\u001b[38;5;241m.\u001b[39mwhere(x\u001b[38;5;241m.\u001b[39mnansum(dim) \u001b[38;5;241m>\u001b[39m \u001b[38;5;241m2\u001b[39m , \u001b[38;5;241m1\u001b[39m , nan)\n\u001b[0;32m--> 211\u001b[0m     x \u001b[38;5;241m=\u001b[39m \u001b[43mx\u001b[49m\u001b[43m \u001b[49m\u001b[38;5;241;43m+\u001b[39;49m\u001b[43m \u001b[49m\u001b[43my\u001b[49m\u001b[43m \u001b[49m\u001b[38;5;241;43m*\u001b[39;49m\u001b[43m \u001b[49m\u001b[38;5;241;43m0\u001b[39;49m\n\u001b[1;32m    212\u001b[0m     y \u001b[38;5;241m=\u001b[39m y \u001b[38;5;241m+\u001b[39m x \u001b[38;5;241m*\u001b[39m \u001b[38;5;241m0\u001b[39m\n\u001b[1;32m    213\u001b[0m     x_xmean \u001b[38;5;241m=\u001b[39m x \u001b[38;5;241m-\u001b[39m torch\u001b[38;5;241m.\u001b[39mnanmean(x, dim, keepdim\u001b[38;5;241m=\u001b[39m\u001b[38;5;28;01mTrue\u001b[39;00m)  \u001b[38;5;66;03m# [TS, C]\u001b[39;00m\n",
      "\u001b[0;31mTypeError\u001b[0m: unsupported operand type(s) for +: 'Fac' and 'Raw'"
     ]
    }
   ],
   "source": [
    "type(MF.ts_corr(Fac(torch.rand(100,100)),Raw(torch.rand(100,100)) , 10))"
   ]
  }
 ],
 "metadata": {
  "kernelspec": {
   "display_name": "base",
   "language": "python",
   "name": "python3"
  },
  "language_info": {
   "codemirror_mode": {
    "name": "ipython",
    "version": 3
   },
   "file_extension": ".py",
   "mimetype": "text/x-python",
   "name": "python",
   "nbconvert_exporter": "python",
   "pygments_lexer": "ipython3",
   "version": "3.10.12"
  }
 },
 "nbformat": 4,
 "nbformat_minor": 2
}
