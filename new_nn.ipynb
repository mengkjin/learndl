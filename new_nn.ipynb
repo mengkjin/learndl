{
 "cells": [
  {
   "cell_type": "code",
   "execution_count": null,
   "metadata": {},
   "outputs": [
    {
     "name": "stdout",
     "output_type": "stream",
     "text": [
      "main path: /Users/mengkjin/workspace/learndl\n",
      "src.INSTANCE_RECORD can be accessed to check ['trainer', 'account', 'factor']\n",
      "Load  3 DataBlocks...... finished! Cost 0.27 secs\n",
      "Align 3 DataBlocks...... finished! Cost 0.92 secs\n",
      "Pre-Norming method of [day] : {'divlast': True, 'histnorm': True}\n",
      "Pre-Norming method of [indus] : {'divlast': False, 'histnorm': False}\n",
      "static_features: torch.Size([5324, 35])\n",
      "static_embed: torch.Size([5324, 8])\n",
      "static_encoded: torch.Size([5324, 30, 16])\n",
      "static_weights: torch.Size([5324, 30, 8])\n",
      "static_context: torch.Size([5324, 16])\n",
      "historical_features: torch.Size([5324, 30, 6])\n",
      "historical_encoded: torch.Size([5324, 30, 16])\n",
      "hist_weights: torch.Size([5324, 30, 6])\n",
      "lstm_input: torch.Size([5324, 30, 16])\n",
      "encoder_output: torch.Size([5324, 30, 16])\n",
      "h_n: torch.Size([1, 5324, 16])\n",
      "c_n: torch.Size([1, 5324, 16])\n",
      "decoder_input: torch.Size([5324, 4, 16])\n",
      "decoder_output: torch.Size([5324, 4, 16])\n",
      "attention_output: torch.Size([5324, 4, 16])\n",
      "predictions: torch.Size([5324, 4, 3])\n"
     ]
    },
    {
     "data": {
      "text/plain": [
       "{'pred': torch.Size([5324, 1]),\n",
       " 'predictions': torch.Size([5324, 4, 3]),\n",
       " 'static_weights': torch.Size([5324, 30, 8]),\n",
       " 'historical_weights': torch.Size([5324, 30, 6]),\n",
       " 'future_weights': float}"
      ]
     },
     "execution_count": 2,
     "metadata": {},
     "output_type": "execute_result"
    }
   ],
   "source": [
    "import torch\n",
    "from src.algo.nn.model.TFT import TemporalFusionTransformer\n",
    "from src.model.data_module import get_realistic_batch_data\n",
    "from src.model.util.batch import BatchOutput\n",
    "batch_data = get_realistic_batch_data('day+indus')\n",
    "tft = TemporalFusionTransformer(\n",
    "    input_dim = (6,35),\n",
    "    hidden_dim = 16,\n",
    "    ffn_dim = 32,\n",
    "    num_heads = 4,\n",
    "    pred_len = 4,\n",
    "    encoder_layers = 2,\n",
    "    dropout = 0.1\n",
    ")\n",
    "\n",
    "batch_output = BatchOutput.nn_module(tft , batch_data)\n",
    "batch_output.shape"
   ]
  },
  {
   "cell_type": "code",
   "execution_count": 5,
   "metadata": {},
   "outputs": [
    {
     "data": {
      "text/plain": [
       "{'x': (torch.Size([5324, 30, 6]), torch.Size([5324, 30, 35])),\n",
       " 'y': torch.Size([5324, 1])}"
      ]
     },
     "execution_count": 5,
     "metadata": {},
     "output_type": "execute_result"
    }
   ],
   "source": [
    "batch_data.shape"
   ]
  },
  {
   "cell_type": "code",
   "execution_count": 4,
   "metadata": {},
   "outputs": [
    {
     "data": {
      "text/plain": [
       "{'pred': torch.Size([5324, 1]),\n",
       " 'predictions': torch.Size([5324, 4, 3]),\n",
       " 'static_weights': torch.Size([5324, 30, 8]),\n",
       " 'historical_weights': torch.Size([5324, 30, 6]),\n",
       " 'future_weights': float}"
      ]
     },
     "execution_count": 4,
     "metadata": {},
     "output_type": "execute_result"
    }
   ],
   "source": [
    "batch_output.shape"
   ]
  },
  {
   "cell_type": "code",
   "execution_count": 6,
   "metadata": {},
   "outputs": [
    {
     "data": {
      "text/plain": [
       "tensor([0.3995], grad_fn=<MeanBackward1>)"
      ]
     },
     "execution_count": 6,
     "metadata": {},
     "output_type": "execute_result"
    }
   ],
   "source": [
    "tft.loss(batch_data.y , **batch_output)"
   ]
  },
  {
   "cell_type": "code",
   "execution_count": 1,
   "metadata": {},
   "outputs": [
    {
     "ename": "NameError",
     "evalue": "name 'batch_data' is not defined",
     "output_type": "error",
     "traceback": [
      "\u001b[31m---------------------------------------------------------------------------\u001b[39m",
      "\u001b[31mNameError\u001b[39m                                 Traceback (most recent call last)",
      "\u001b[36mCell\u001b[39m\u001b[36m \u001b[39m\u001b[32mIn[1]\u001b[39m\u001b[32m, line 1\u001b[39m\n\u001b[32m----> \u001b[39m\u001b[32m1\u001b[39m \u001b[43mbatch_data\u001b[49m.shape\n",
      "\u001b[31mNameError\u001b[39m: name 'batch_data' is not defined"
     ]
    }
   ],
   "source": [
    "batch_data.shape"
   ]
  },
  {
   "cell_type": "code",
   "execution_count": 4,
   "metadata": {},
   "outputs": [
    {
     "data": {
      "text/plain": [
       "(torch.Size([5324, 1]), torch.Size([5324, 4, 3]))"
      ]
     },
     "execution_count": 4,
     "metadata": {},
     "output_type": "execute_result"
    }
   ],
   "source": [
    "batch_data.y.shape , batch_output['predictions'].shape"
   ]
  },
  {
   "cell_type": "code",
   "execution_count": 4,
   "metadata": {},
   "outputs": [
    {
     "data": {
      "text/plain": [
       "torch.Size([5324, 30, 35])"
      ]
     },
     "execution_count": 4,
     "metadata": {},
     "output_type": "execute_result"
    }
   ],
   "source": [
    "batch_data.x[1].shape"
   ]
  },
  {
   "cell_type": "code",
   "execution_count": null,
   "metadata": {},
   "outputs": [],
   "source": []
  },
  {
   "cell_type": "code",
   "execution_count": null,
   "metadata": {},
   "outputs": [],
   "source": []
  }
 ],
 "metadata": {
  "kernelspec": {
   "display_name": ".venv",
   "language": "python",
   "name": "python3"
  },
  "language_info": {
   "codemirror_mode": {
    "name": "ipython",
    "version": 3
   },
   "file_extension": ".py",
   "mimetype": "text/x-python",
   "name": "python",
   "nbconvert_exporter": "python",
   "pygments_lexer": "ipython3",
   "version": "3.12.10"
  }
 },
 "nbformat": 4,
 "nbformat_minor": 2
}
