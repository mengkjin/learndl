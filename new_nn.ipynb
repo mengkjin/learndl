{
 "cells": [
  {
   "cell_type": "code",
   "execution_count": 1,
   "metadata": {},
   "outputs": [
    {
     "name": "stdout",
     "output_type": "stream",
     "text": [
      "main path: /Users/mengkjin/workspace/learndl\n",
      "src.INSTANCE_RECORD can be accessed to check ['trainer', 'account', 'factor']\n"
     ]
    }
   ],
   "source": [
    "from src.model.data_module import get_random_batch_data\n",
    "batch_data = get_random_batch_data()\n",
    "\n",
    "\n",
    "\n"
   ]
  },
  {
   "cell_type": "code",
   "execution_count": 2,
   "metadata": {},
   "outputs": [
    {
     "data": {
      "text/plain": [
       "torch.Size([10, 30, 6])"
      ]
     },
     "execution_count": 2,
     "metadata": {},
     "output_type": "execute_result"
    }
   ],
   "source": [
    "import torch\n",
    "import torch.nn as nn\n",
    "from torch import Tensor\n",
    "\n",
    "class StockWiseTranformer(nn.Module):\n",
    "    def __init__(self , input_dim , hidden_dim = 4 , ffn_dim = 16 , num_heads = 8 , encoder_layers = 2 , dropout=0.0):\n",
    "        super().__init__()\n",
    "        self.fc_att = TimeWiseAttention(hidden_dim,hidden_dim)\n",
    "        enc_layer  = nn.TransformerEncoderLayer(hidden_dim, num_heads, dim_feedforward=ffn_dim , dropout=dropout , batch_first=True)\n",
    "        self.trans = nn.TransformerEncoder(enc_layer , encoder_layers)\n",
    "\n",
    "    def forward(self, x : Tensor , pad_mask = None) -> Tensor:\n",
    "        if x.isnan().any():\n",
    "            pad_mask = self.pad_mask_nan(x) if pad_mask is None else (self.pad_mask_nan(x) + pad_mask) > 0\n",
    "            x = x.nan_to_num()\n",
    "        if x.dim() != 2: x = self.fc_att(x)\n",
    "        x = self.trans(x.unsqueeze(0) , src_key_padding_mask = pad_mask)\n",
    "        return x.squeeze(0)"
   ]
  },
  {
   "cell_type": "code",
   "execution_count": null,
   "metadata": {},
   "outputs": [],
   "source": []
  },
  {
   "cell_type": "code",
   "execution_count": null,
   "metadata": {},
   "outputs": [],
   "source": []
  }
 ],
 "metadata": {
  "kernelspec": {
   "display_name": "Python 3",
   "language": "python",
   "name": "python3"
  },
  "language_info": {
   "codemirror_mode": {
    "name": "ipython",
    "version": 3
   },
   "file_extension": ".py",
   "mimetype": "text/x-python",
   "name": "python",
   "nbconvert_exporter": "python",
   "pygments_lexer": "ipython3",
   "version": "3.11.11"
  }
 },
 "nbformat": 4,
 "nbformat_minor": 2
}
