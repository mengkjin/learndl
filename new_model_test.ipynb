{
 "cells": [
  {
   "cell_type": "code",
   "execution_count": 48,
   "metadata": {},
   "outputs": [],
   "source": [
    "import torch\n",
    "n , m = 5000,3000\n",
    "x  = torch.rand(n , m,2 ,6)\n",
    "seq_len = 30\n",
    "bs = 2000\n",
    "i0 = torch.arange(bs)\n",
    "i1 = torch.arange(m-bs,m)\n"
   ]
  },
  {
   "cell_type": "code",
   "execution_count": 52,
   "metadata": {},
   "outputs": [
    {
     "data": {
      "text/plain": [
       "torch.Size([2000, 30, 2, 6])"
      ]
     },
     "execution_count": 52,
     "metadata": {},
     "output_type": "execute_result"
    }
   ],
   "source": [
    "x.unfold(1 , seq_len , 1)[i0 , i1 + 1 - seq_len].permute(0,3,1,2).shape"
   ]
  },
  {
   "cell_type": "code",
   "execution_count": 46,
   "metadata": {},
   "outputs": [
    {
     "name": "stdout",
     "output_type": "stream",
     "text": [
      "2.66 ms ± 113 µs per loop (mean ± std. dev. of 7 runs, 100 loops each)\n"
     ]
    }
   ],
   "source": [
    "%timeit a = torch.stack([x[i0,i1+i+1-seq_len] for i in range(seq_len)],dim=1).squeeze(2)"
   ]
  },
  {
   "cell_type": "code",
   "execution_count": 47,
   "metadata": {},
   "outputs": [
    {
     "name": "stdout",
     "output_type": "stream",
     "text": [
      "64.3 µs ± 6.12 µs per loop (mean ± std. dev. of 7 runs, 10,000 loops each)\n"
     ]
    }
   ],
   "source": [
    "%timeit b = x.squeeze(2).unfold(1 , seq_len , 1)[i0 , i1 + 1 - seq_len].permute(0,2,1)"
   ]
  },
  {
   "cell_type": "code",
   "execution_count": 42,
   "metadata": {},
   "outputs": [],
   "source": [
    "a = torch.stack([x[i0,i1+i+1-seq_len] for i in range(seq_len)],dim=1).squeeze(2)\n",
    "b = x.squeeze(2).unfold(1 , seq_len , 1)[i0 , i1 + 1 - seq_len].permute(0,2,1)"
   ]
  },
  {
   "cell_type": "code",
   "execution_count": 30,
   "metadata": {},
   "outputs": [
    {
     "data": {
      "text/plain": [
       "(torch.Size([10, 10, 6]), torch.Size([10, 10, 6]))"
      ]
     },
     "execution_count": 30,
     "metadata": {},
     "output_type": "execute_result"
    }
   ],
   "source": [
    "a.shape , b.shape"
   ]
  },
  {
   "cell_type": "code",
   "execution_count": 40,
   "metadata": {},
   "outputs": [
    {
     "data": {
      "text/plain": [
       "(tensor([[0.3420, 0.4648, 0.2487, 0.2869, 0.1787, 0.1203],\n",
       "         [0.8335, 0.2715, 0.7964, 0.5515, 0.5741, 0.7030],\n",
       "         [0.2232, 0.3538, 0.4778, 0.0379, 0.4688, 0.0576],\n",
       "         [0.4691, 0.4410, 0.4744, 0.0314, 0.9227, 0.0948],\n",
       "         [0.1755, 0.7252, 0.0445, 0.7557, 0.8255, 0.1719],\n",
       "         [0.4937, 0.6015, 0.6012, 0.2059, 0.5123, 0.4419],\n",
       "         [0.8865, 0.0562, 0.1788, 0.8029, 0.0188, 0.8559],\n",
       "         [0.9209, 0.6778, 0.1168, 0.6957, 0.1292, 0.7379],\n",
       "         [0.7027, 0.9662, 0.0025, 0.6155, 0.0023, 0.6209],\n",
       "         [0.8938, 0.2262, 0.7920, 0.1817, 0.5340, 0.3241]]),\n",
       " tensor([[0.3420, 0.4648, 0.2487, 0.2869, 0.1787, 0.1203],\n",
       "         [0.8335, 0.2715, 0.7964, 0.5515, 0.5741, 0.7030],\n",
       "         [0.2232, 0.3538, 0.4778, 0.0379, 0.4688, 0.0576],\n",
       "         [0.4691, 0.4410, 0.4744, 0.0314, 0.9227, 0.0948],\n",
       "         [0.1755, 0.7252, 0.0445, 0.7557, 0.8255, 0.1719],\n",
       "         [0.4937, 0.6015, 0.6012, 0.2059, 0.5123, 0.4419],\n",
       "         [0.8865, 0.0562, 0.1788, 0.8029, 0.0188, 0.8559],\n",
       "         [0.9209, 0.6778, 0.1168, 0.6957, 0.1292, 0.7379],\n",
       "         [0.7027, 0.9662, 0.0025, 0.6155, 0.0023, 0.6209],\n",
       "         [0.8938, 0.2262, 0.7920, 0.1817, 0.5340, 0.3241]]))"
      ]
     },
     "execution_count": 40,
     "metadata": {},
     "output_type": "execute_result"
    }
   ],
   "source": [
    "a[0] , b[0]"
   ]
  },
  {
   "cell_type": "code",
   "execution_count": null,
   "metadata": {},
   "outputs": [],
   "source": []
  },
  {
   "cell_type": "code",
   "execution_count": 1,
   "metadata": {},
   "outputs": [
    {
     "name": "stdout",
     "output_type": "stream",
     "text": [
      "Load  2 DataBlocks ...... cost 0.08 secs\n",
      "Align 2 DataBlocks ...... cost 0.13 secs\n",
      "Pre-Norming method of [day] : [endpoint_division(True) , history_standardize(False)]\n"
     ]
    }
   ],
   "source": [
    "from run_model import RunModel\n",
    "random_module = RunModel.random_module(module = 'patch_tst' , model_data_type = 'day' , model_data = None)"
   ]
  },
  {
   "cell_type": "code",
   "execution_count": 2,
   "metadata": {},
   "outputs": [
    {
     "name": "stdout",
     "output_type": "stream",
     "text": [
      "x shape is torch.Size([4980, 30, 6])\n",
      "torch.Size([4980, 30, 6])\n",
      "torch.Size([4980, 30, 6])\n",
      "torch.Size([4980, 13, 6, 5])\n",
      "torch.Size([4980, 32, 6])\n",
      "torch.Size([4980, 32, 6])\n",
      "torch.Size([4980, 192])\n",
      "torch.Size([4980, 1])\n",
      "y shape is torch.Size([4980, 1])\n"
     ]
    },
    {
     "data": {
      "text/plain": [
       "tensor([[0.4072],\n",
       "        [0.4571],\n",
       "        [0.3407],\n",
       "        ...,\n",
       "        [0.5042],\n",
       "        [0.1480],\n",
       "        [0.4499]], grad_fn=<AddmmBackward0>)"
      ]
     },
     "execution_count": 2,
     "metadata": {},
     "output_type": "execute_result"
    }
   ],
   "source": [
    "random_module.try_forward()"
   ]
  }
 ],
 "metadata": {
  "kernelspec": {
   "display_name": "Python 3",
   "language": "python",
   "name": "python3"
  },
  "language_info": {
   "codemirror_mode": {
    "name": "ipython",
    "version": 3
   },
   "file_extension": ".py",
   "mimetype": "text/x-python",
   "name": "python",
   "nbconvert_exporter": "python",
   "pygments_lexer": "ipython3",
   "version": "3.10.12"
  }
 },
 "nbformat": 4,
 "nbformat_minor": 2
}
