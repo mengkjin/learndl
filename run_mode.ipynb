{
 "cells": [
  {
   "cell_type": "code",
   "execution_count": 1,
   "metadata": {},
   "outputs": [
    {
     "name": "stderr",
     "output_type": "stream",
     "text": [
      "\u001b[1m\u001b[37m\u001b[41m24-02-07 00:02:43|MOD:run_model   |\u001b[0m: \u001b[1m\u001b[31mStart Process [Load Data]!\u001b[0m\n"
     ]
    },
    {
     "name": "stdout",
     "output_type": "stream",
     "text": [
      "--Process Queue : Data + Train + Test + Instance\n",
      "--Start Training New!\n",
      "--Model_name is set to TRA_LSTM_day_ShortTest!\n",
      "use /home/mengkjin/Workspace/learndl/scripts/util/../../data/torch_pack/day+rtn11+res11.20231220.pt\n"
     ]
    },
    {
     "name": "stderr",
     "output_type": "stream",
     "text": [
      "\u001b[1m\u001b[37m\u001b[41m24-02-07 00:02:46|MOD:run_model   |\u001b[0m: \u001b[1m\u001b[31mFinish Process [Load Data]! Cost 3.3Secs\u001b[0m\n",
      "\u001b[1m\u001b[37m\u001b[41m24-02-07 00:02:46|MOD:run_model   |\u001b[0m: \u001b[1m\u001b[31mStart Process [Train Model]!\u001b[0m\n"
     ]
    },
    {
     "name": "stdout",
     "output_type": "stream",
     "text": [
      "Pre-Norming method of [day] : [endpoint_division(True) , history_standardize(True)]\n"
     ]
    },
    {
     "name": "stderr",
     "output_type": "stream",
     "text": [
      "\u001b[32mTRA_LSTM_day_ShortTest #0 @20170103 LoadData Cost    2.2Secs\u001b[0m\n",
      "\u001b[32mFirstBite Ep#  0 : loss  1.01383, train 0.00195, valid 0.00583, max 0.0058, best 0.0058, lr1.0e-07\u001b[0m\n",
      "\u001b[32mFirstBite Ep#  5 : loss  0.88872, train 0.13751, valid 0.13482, max 0.1348, best 0.1348, lr3.8e-03\u001b[0m\n",
      "\u001b[32mFirstBite Ep# 10 : loss  0.84957, train 0.18195, valid 0.16235, max 0.1624, best 0.1624, lr1.3e-03\u001b[0m\n",
      "\u001b[32mFirstBite Ep# 15 : loss  0.83003, train 0.20415, valid 0.17960, max 0.1796, best 0.1796, lr6.3e-04\u001b[0m\n",
      "\u001b[1m\u001b[37m\u001b[44m24-02-07 00:03:04|MOD:run_model   |\u001b[0m: \u001b[1m\u001b[34mTRA_LSTM_day_ShortTest #0 @20170103|Round 0 FirstBite Ep# 19 Max Epoch|Train 0.2086 Valid 0.1816 BestVal 0.1817|Cost  0.3Min,  0.8Sec/Ep\u001b[0m\n"
     ]
    },
    {
     "name": "stdout",
     "output_type": "stream",
     "text": [
      "tensor([[0.3343, 0.3150, 0.3507],\n",
      "        [0.3387, 0.3141, 0.3472],\n",
      "        [0.3437, 0.3135, 0.3428],\n",
      "        ...,\n",
      "        [0.3255, 0.3390, 0.3354],\n",
      "        [0.3262, 0.3360, 0.3378],\n",
      "        [0.3284, 0.3417, 0.3299]], device='cuda:0')\n"
     ]
    },
    {
     "name": "stderr",
     "output_type": "stream",
     "text": [
      "\u001b[32mTRA_LSTM_day_ShortTest #0 @20170704 LoadData Cost    1.8Secs\u001b[0m\n",
      "\u001b[32mFirstBite Ep#  0 : loss  1.00990, train 0.00577, valid 0.00753, max 0.0075, best 0.0075, lr1.0e-07\u001b[0m\n",
      "\u001b[32mFirstBite Ep#  5 : loss  0.87726, train 0.15051, valid 0.13463, max 0.1346, best 0.1346, lr3.8e-03\u001b[0m\n",
      "\u001b[32mFirstBite Ep# 10 : loss  0.84361, train 0.18879, valid 0.16744, max 0.1674, best 0.1674, lr1.3e-03\u001b[0m\n",
      "\u001b[32mFirstBite Ep# 15 : loss  0.82668, train 0.20790, valid 0.17836, max 0.1839, best 0.1839, lr6.3e-04\u001b[0m\n",
      "\u001b[1m\u001b[37m\u001b[44m24-02-07 00:03:21|MOD:run_model   |\u001b[0m: \u001b[1m\u001b[34mTRA_LSTM_day_ShortTest #0 @20170704|Round 0 FirstBite Ep# 19 Max Epoch|Train 0.2119 Valid 0.1859 BestVal 0.1862|Cost  0.3Min,  0.8Sec/Ep\u001b[0m\n",
      "\u001b[1m\u001b[37m\u001b[41m24-02-07 00:03:22|MOD:run_model   |\u001b[0m: \u001b[1m\u001b[31mFinish Process [Train Model]! Cost 0.0 Hours, 0.3 Min/model, 0.9 Sec/Epoch\u001b[0m\n"
     ]
    },
    {
     "name": "stdout",
     "output_type": "stream",
     "text": [
      "tensor([[0.3304, 0.3372, 0.3324],\n",
      "        [0.3283, 0.3343, 0.3374],\n",
      "        [0.3253, 0.3336, 0.3411],\n",
      "        ...,\n",
      "        [0.3321, 0.3339, 0.3340],\n",
      "        [0.3318, 0.3303, 0.3380],\n",
      "        [0.3364, 0.3367, 0.3269]], device='cuda:0')\n"
     ]
    },
    {
     "name": "stderr",
     "output_type": "stream",
     "text": [
      "\u001b[1m\u001b[37m\u001b[41m24-02-07 00:03:22|MOD:run_model   |\u001b[0m: \u001b[1m\u001b[31mStart Process [Test Model]!\u001b[0m\n",
      "\u001b[1m\u001b[37m\u001b[44m24-02-07 00:03:22|MOD:run_model   |\u001b[0m: \u001b[1m\u001b[34mEach Model Date Testing Mean Score({'train': 'pearson', 'valid': 'pearson', 'test': 'pearson'}):\u001b[0m\n",
      "\u001b[32mModels            0       0       0\u001b[0m\n",
      "\u001b[32mOutput         best swalast swabest\u001b[0m\n",
      "\u001b[32m20170103     0.1067  0.0890  0.1070\u001b[0m\n",
      "\u001b[32m20170704     0.1069  0.0951  0.1053\u001b[0m\n",
      "\u001b[32mAllTimeAvg   0.1068  0.0918  0.1062\u001b[0m\n",
      "\u001b[32mAllTimeSum    23.82   20.48   23.69\u001b[0m\n",
      "\u001b[32mStd          0.0778  0.0730  0.0777\u001b[0m\n",
      "\u001b[32mTValue        20.49   18.77   20.42\u001b[0m\n",
      "\u001b[32mAnnIR        6.7232  6.1586  6.7000\u001b[0m\n",
      "\u001b[1m\u001b[37m\u001b[41m24-02-07 00:03:39|MOD:run_model   |\u001b[0m: \u001b[1m\u001b[31mFinish Process [Test Model]! Cost 17.3 Secs\u001b[0m\n",
      "\u001b[1m\u001b[37m\u001b[41m24-02-07 00:03:39|MOD:run_model   |\u001b[0m: \u001b[1m\u001b[31mWill not copy to instance!\u001b[0m\n"
     ]
    }
   ],
   "source": [
    "%run run_model.py --process=0 --rawname=1 --resume=0 --anchoring=0"
   ]
  },
  {
   "cell_type": "code",
   "execution_count": null,
   "metadata": {},
   "outputs": [],
   "source": []
  }
 ],
 "metadata": {
  "kernelspec": {
   "display_name": "Python 3",
   "language": "python",
   "name": "python3"
  },
  "language_info": {
   "codemirror_mode": {
    "name": "ipython",
    "version": 3
   },
   "file_extension": ".py",
   "mimetype": "text/x-python",
   "name": "python",
   "nbconvert_exporter": "python",
   "pygments_lexer": "ipython3",
   "version": "3.10.12"
  }
 },
 "nbformat": 4,
 "nbformat_minor": 2
}
