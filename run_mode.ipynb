{
 "cells": [
  {
   "cell_type": "code",
   "execution_count": 1,
   "metadata": {},
   "outputs": [
    {
     "name": "stderr",
     "output_type": "stream",
     "text": [
      "usage: ipykernel_launcher.py [-h] [--process PROCESS] [--rawname RAWNAME]\n",
      "                             [--resume RESUME] [--anchoring ANCHORING]\n",
      "ipykernel_launcher.py: error: unrecognized arguments: --f=c:\\Users\\jinmeng\\AppData\\Roaming\\jupyter\\runtime\\kernel-v2-18836J8KFr0fupm56.json\n"
     ]
    },
    {
     "name": "stdout",
     "output_type": "stream",
     "text": [
      "--What process would you want to run? 0: all, 1: train only (default), 2: test only , 3: copy to instance\n",
      "--Process Queue : Data + Train + Test + Instance\n",
      "--Multiple model path of LSTM_day_SHORTTEST exists, input [yes] to resume training, or start a new one!\n",
      "--Start Training New!\n",
      "--Multiple model path of LSTM_day_SHORTTEST exists, input [yes] to confirm deletion, or a new directory will be made!\n",
      "--Directories of [LSTM_day_SHORTTEST] deletion Confirmed!\n",
      "--Model_name is set to LSTM_day_SHORTTEST!\n"
     ]
    }
   ],
   "source": [
    "#!/usr/bin/env python\n",
    "# -*- coding: utf-8 -*-\n",
    "# @Time : ${2023-6-27} ${21:05}\n",
    "# @Author : Mathew Jin\n",
    "# @File : ${run_model.py}\n",
    "# chmod +x run_model.py\n",
    "# python3 scripts/run_model3.py --process=0 --rawname=1 --resume=0 --anchoring=0\n",
    "'''\n",
    "1.TRA\n",
    "https://arxiv.org/pdf/2106.12950.pdf\n",
    "https://github.com/microsoft/qlib/blob/main/examples/benchmarks/TRA/src/model.py\n",
    "1.1 HIST\n",
    "https://arxiv.org/pdf/2110.13716.pdf\n",
    "https://github.com/Wentao-Xu/HIST\n",
    "2.Lightgbm\n",
    "https://github.com/microsoft/LightGBM/blob/master/examples/python-guide/plot_example.py\n",
    "https://lightgbm.readthedocs.io/en/latest/pythonapi/lightgbm.plot_tree.html\n",
    "3.other factors\n",
    "'''\n",
    "import argparse\n",
    "import torch\n",
    "import torch.nn as nn\n",
    "import numpy as np\n",
    "import itertools , random , os, shutil , gc , time , h5py , yaml\n",
    "from tqdm import tqdm\n",
    "from copy import deepcopy\n",
    "from torch.optim.swa_utils import AveragedModel , update_bn\n",
    "from scripts.util.environ import get_logger\n",
    "from scripts.util.basic import process_timer , FilteredIterator , lr_cosine_scheduler , versatile_storage\n",
    "from scripts.util.multiloss import multiloss_calculator \n",
    "from scripts.data_util.ModelData import ModelData\n",
    "from scripts.trainer.config import *\n",
    "from scripts.function.basic import *\n",
    "from scripts.nn.My import *\n",
    "# from audtorch.metrics.functional import *\n",
    "\n",
    "try:\n",
    "    parser = trainer_parser().parse_args()\n",
    "except:\n",
    "    parser = trainer_parser().parse_args(args=[])\n",
    "\n",
    "TIME_RECODER = process_timer(True)\n",
    "logger = get_logger()\n",
    "config = train_config(parser = parser , do_process=True)\n",
    "set_trainer_configs(config)\n"
   ]
  },
  {
   "cell_type": "code",
   "execution_count": 13,
   "metadata": {},
   "outputs": [
    {
     "name": "stdout",
     "output_type": "stream",
     "text": [
      "    keys  num_calls  total_time  avg_time\n",
      "0  a/b/c          1         0.0       0.0\n"
     ]
    }
   ],
   "source": [
    "class process_timer:\n",
    "    def __init__(self , record = True) -> None:\n",
    "        self.recording = record\n",
    "        self.recorder = {} if record else None\n",
    "\n",
    "    class ptimer:\n",
    "        def __init__(self , target_dict = None , *args):\n",
    "            self.target_dict = target_dict\n",
    "            if self.target_dict is not None:\n",
    "                self.key = '/'.join(args)\n",
    "                if self.key not in self.target_dict.keys():\n",
    "                    self.target_dict[self.key] = []\n",
    "        def __enter__(self):\n",
    "            if self.target_dict is not None:\n",
    "                self.start_time = time.time()\n",
    "        def __exit__(self, type, value, trace):\n",
    "            if self.target_dict is not None:\n",
    "                time_cost = time.time() - self.start_time\n",
    "                self.target_dict[self.key].append(time_cost)\n",
    "\n",
    "    def __call__(self , *args):\n",
    "        return self.ptimer(self.recorder , *args)\n",
    "    \n",
    "    def print(self):\n",
    "        if self.recorder is not None:\n",
    "            keys = list(self.recorder.keys())\n",
    "            num_calls = [len(self.recorder[k]) for k in keys]\n",
    "            total_time = [np.sum(self.recorder[k]) for k in keys]\n",
    "            tb = pd.DataFrame({'keys':keys , 'num_calls': num_calls, 'total_time': total_time})\n",
    "            tb['avg_time'] = tb['total_time'] / tb['num_calls']\n",
    "            print(tb.sort_values(by=['total_time'],ascending=False))\n",
    "\n",
    "TR = process_timer()\n",
    "with TR('a/b','c') as t:\n",
    "    pass\n",
    "TR.print()\n"
   ]
  },
  {
   "cell_type": "code",
   "execution_count": 9,
   "metadata": {},
   "outputs": [
    {
     "ename": "AttributeError",
     "evalue": "'types.SimpleNamespace' object has no attribute 'update'",
     "output_type": "error",
     "traceback": [
      "\u001b[1;31m---------------------------------------------------------------------------\u001b[0m",
      "\u001b[1;31mAttributeError\u001b[0m                            Traceback (most recent call last)",
      "\u001b[1;32m<ipython-input-9-9f0715093a86>\u001b[0m in \u001b[0;36m<module>\u001b[1;34m\u001b[0m\n\u001b[1;32m----> 1\u001b[1;33m \u001b[0mconfig\u001b[0m\u001b[1;33m.\u001b[0m\u001b[0mupdate\u001b[0m\u001b[1;33m(\u001b[0m\u001b[1;33m**\u001b[0m\u001b[0mnew_config\u001b[0m\u001b[1;33m(\u001b[0m\u001b[0mmodel_path\u001b[0m\u001b[1;33m=\u001b[0m\u001b[1;34mf'{config.model_base_path}/config_train.yaml'\u001b[0m\u001b[1;33m)\u001b[0m\u001b[1;33m)\u001b[0m\u001b[1;33m\u001b[0m\u001b[1;33m\u001b[0m\u001b[0m\n\u001b[0m",
      "\u001b[1;31mAttributeError\u001b[0m: 'types.SimpleNamespace' object has no attribute 'update'"
     ]
    }
   ],
   "source": [
    "config.update(**new_config(model_path=f'{config.model_base_path}/config_train.yaml'))"
   ]
  },
  {
   "cell_type": "code",
   "execution_count": 11,
   "metadata": {},
   "outputs": [
    {
     "ename": "AttributeError",
     "evalue": "'mappingproxy' object has no attribute 'update'",
     "output_type": "error",
     "traceback": [
      "\u001b[1;31m---------------------------------------------------------------------------\u001b[0m",
      "\u001b[1;31mAttributeError\u001b[0m                            Traceback (most recent call last)",
      "\u001b[1;32m<ipython-input-11-a26baaf6c62a>\u001b[0m in \u001b[0;36m<module>\u001b[1;34m\u001b[0m\n\u001b[1;32m----> 1\u001b[1;33m \u001b[0mSimpleNamespace\u001b[0m\u001b[1;33m.\u001b[0m\u001b[0m__dict__\u001b[0m\u001b[1;33m.\u001b[0m\u001b[0mupdate\u001b[0m\u001b[1;33m(\u001b[0m\u001b[0mnew_config\u001b[0m\u001b[1;33m(\u001b[0m\u001b[0mmodel_path\u001b[0m\u001b[1;33m=\u001b[0m\u001b[1;34mf'{config.model_base_path}/config_train.yaml'\u001b[0m\u001b[1;33m)\u001b[0m\u001b[1;33m)\u001b[0m\u001b[1;33m\u001b[0m\u001b[1;33m\u001b[0m\u001b[0m\n\u001b[0m",
      "\u001b[1;31mAttributeError\u001b[0m: 'mappingproxy' object has no attribute 'update'"
     ]
    }
   ],
   "source": [
    "SimpleNamespace.__dict__.update(new_config(model_path=f'{config.model_base_path}/config_train.yaml'))"
   ]
  }
 ],
 "metadata": {
  "kernelspec": {
   "display_name": "Python 3",
   "language": "python",
   "name": "python3"
  },
  "language_info": {
   "codemirror_mode": {
    "name": "ipython",
    "version": 3
   },
   "file_extension": ".py",
   "mimetype": "text/x-python",
   "name": "python",
   "nbconvert_exporter": "python",
   "pygments_lexer": "ipython3",
   "version": "3.8.5"
  }
 },
 "nbformat": 4,
 "nbformat_minor": 2
}
