{
 "cells": [
  {
   "cell_type": "code",
   "execution_count": 1,
   "metadata": {},
   "outputs": [
    {
     "name": "stderr",
     "output_type": "stream",
     "text": [
      "\u001b[1m\u001b[37m\u001b[44m24-02-04 14:23:10|MOD:run_model   |\u001b[0m: \u001b[1m\u001b[34mModel Specifics:\u001b[0m\n",
      "\u001b[1m\u001b[37m\u001b[41m24-02-04 14:23:10|MOD:run_model   |\u001b[0m: \u001b[1m\u001b[31mStart Process [Load Data]!\u001b[0m\n"
     ]
    },
    {
     "name": "stdout",
     "output_type": "stream",
     "text": [
      "--Process Queue : Data + Train + Test + Instance\n",
      "--Start Training New!\n",
      "--Model_name is set to LSTM_day_SHORTTEST!\n",
      "{'storage_type': 'mem',\n",
      " 'device': device(type='cuda', index=0),\n",
      " 'precision': 'float',\n",
      " 'batch_size': 10000,\n",
      " 'model_name': 'LSTM_day_SHORTTEST',\n",
      " 'model_module': 'LSTM',\n",
      " 'model_data_type': 'day',\n",
      " 'model_num': 1,\n",
      " 'beg_date': 20170103,\n",
      " 'test_dates_end': None,\n",
      " 'interval': 120,\n",
      " 'input_step_day': 5,\n",
      " 'test_step_day': 1,\n",
      " 'MODEL_PARAM': {'hidden_dim': [64],\n",
      "                 'seqlens': [{'day': 40, '15m': 20, 'dms': 40}],\n",
      "                 'rnn_layers': [2],\n",
      "                 'mlp_layers': [1],\n",
      "                 'dropout': [0.1],\n",
      "                 'fc_in': [True],\n",
      "                 'fc_att': [False],\n",
      "                 'type_rnn': ['lstm'],\n",
      "                 'rnn_att': [False],\n",
      "                 'num_output': [1],\n",
      "                 'kernel_size': [3, 3],\n",
      "                 'hidden_as_factor': [False],\n",
      "                 'ordered_param_group': [False],\n",
      "                 'tra_num_states': [3],\n",
      "                 'ATF_mask': {'causal': False, 'gaussian': False, 'tradegap': False}},\n",
      " 'train_params': {'dataloader': {'random_seed': None, 'random_tv_split': True, 'sample_method': 'total_shuffle', 'train_ratio': 0.8},\n",
      "                  'trainer': {'optimizer': {'name': 'Adam', 'param': {}},\n",
      "                              'scheduler': {'name': 'cycle', 'param': {'base_lr': 1e-07, 'step_size_up': 4}},\n",
      "                              'learn_rate': {'base': 0.005,\n",
      "                                             'ratio': {'attempt': [1, 0.1, 10, 0.01, 100], 'round': [1.0], 'transfer': 0.1},\n",
      "                                             'reset': {'num_reset': 2, 'trigger': 40, 'recover_level': 1.0, 'speedup2x': True}},\n",
      "                              'nanloss': {'retry': 2},\n",
      "                              'gradient': {'clip_value': 10.0},\n",
      "                              'retrain': {'attempts': 4, 'min_epoch': 20, 'min_epoch_round': 10}},\n",
      "                  'criterion': {'loss': 'pearson',\n",
      "                                'score': {'train': 'pearson', 'valid': 'pearson', 'test': 'pearson'},\n",
      "                                'penalty': {'hidden_orthogonality': {'lamb': 0.001}, 'tra_ot_penalty': {'lamb': 0.01, 'rho': 0.999}}},\n",
      "                  'transfer': False,\n",
      "                  'output_types': ['best', 'swalast', 'swabest'],\n",
      "                  'multitask': {'type': 'hybrid',\n",
      "                                'param_dict': {'dwa': {'tau': 2},\n",
      "                                               'ruw': {'phi': None},\n",
      "                                               'ewa': {},\n",
      "                                               'gls': {},\n",
      "                                               'rws': {},\n",
      "                                               'hybrid': {'phi': None, 'tau': 2}}},\n",
      "                  'terminate': {'overall': {'early_stop': 20, 'max_epoch': 200, 'valid_converge': {'min_epoch': 5, 'eps': 1e-05}},\n",
      "                                'round': {'early_stop': 10, 'max_epoch': 100, 'valid_converge': {'min_epoch': 5, 'eps': 1e-05}}}},\n",
      " 'compt_params': {'cuda_first': True, 'num_worker': 10}}\n"
     ]
    },
    {
     "name": "stderr",
     "output_type": "stream",
     "text": [
      "\u001b[1m\u001b[37m\u001b[41m24-02-04 14:23:26|MOD:run_model   |\u001b[0m: \u001b[1m\u001b[31mFinish Process [Load Data]! Cost 15.0Secs\u001b[0m\n",
      "\u001b[1m\u001b[37m\u001b[41m24-02-04 14:23:26|MOD:run_model   |\u001b[0m: \u001b[1m\u001b[31mStart Process [Train Model]!\u001b[0m\n"
     ]
    },
    {
     "name": "stdout",
     "output_type": "stream",
     "text": [
      "Norming method of [day] : [endpoint_division(True) , history_standardize(True)]\n"
     ]
    },
    {
     "name": "stderr",
     "output_type": "stream",
     "text": [
      "\u001b[32mLSTM_day_SHORTTEST #0 @20170103 LoadData Cost    1.7Secs\u001b[0m\n",
      "\u001b[32mFirstBite Ep#  0 : loss  0.99535, train 0.00474, valid 0.01001, max 0.0100, best 0.0100, lr1.0e-07\u001b[0m\n",
      "\u001b[32mFirstBite Ep#  5 : loss  0.86656, train 0.14340, valid 0.15574, max 0.1557, best 0.1557, lr3.8e-03\u001b[0m\n",
      "\u001b[32mFirstBite Ep# 10 : loss  0.83034, train 0.18621, valid 0.17684, max 0.1797, best 0.1797, lr1.3e-03\u001b[0m\n",
      "\u001b[32mFirstBite Ep# 15 : loss  0.81227, train 0.20814, valid 0.19305, max 0.1931, best 0.1931, lr6.3e-04\u001b[0m\n",
      "\u001b[1m\u001b[37m\u001b[44m24-02-04 14:23:39|MOD:run_model   |\u001b[0m: \u001b[1m\u001b[34mLSTM_day_SHORTTEST #0 @20170103|Round 0 FirstBite Ep# 19 Max Epoch|Train 0.2153 Valid 0.1970 BestVal 0.1970|Cost  0.2Min,  0.6Sec/Ep\u001b[0m\n",
      "\u001b[32mLSTM_day_SHORTTEST #0 @20170704 LoadData Cost    1.5Secs\u001b[0m\n",
      "\u001b[32mFirstBite Ep#  0 : loss  0.99831, train 0.00175, valid 0.00904, max 0.0090, best 0.0090, lr1.0e-07\u001b[0m\n",
      "\u001b[32mFirstBite Ep#  5 : loss  0.91127, train 0.09304, valid 0.10120, max 0.1012, best 0.1012, lr3.8e-03\u001b[0m\n",
      "\u001b[32mFirstBite Ep# 10 : loss  0.87430, train 0.13441, valid 0.13632, max 0.1363, best 0.1363, lr1.3e-03\u001b[0m\n",
      "\u001b[32mFirstBite Ep# 15 : loss  0.84635, train 0.16693, valid 0.15867, max 0.1587, best 0.1587, lr6.3e-04\u001b[0m\n",
      "\u001b[1m\u001b[37m\u001b[44m24-02-04 14:23:53|MOD:run_model   |\u001b[0m: \u001b[1m\u001b[34mLSTM_day_SHORTTEST #0 @20170704|Round 0 FirstBite Ep# 19 Max Epoch|Train 0.1784 Valid 0.1664 BestVal 0.1736|Cost  0.2Min,  0.6Sec/Ep\u001b[0m\n",
      "\u001b[1m\u001b[37m\u001b[41m24-02-04 14:23:53|MOD:run_model   |\u001b[0m: \u001b[1m\u001b[31mFinish Process [Train Model]! Cost 0.0 Hours, 0.2 Min/model, 0.7 Sec/Epoch\u001b[0m\n",
      "\u001b[1m\u001b[37m\u001b[41m24-02-04 14:23:54|MOD:run_model   |\u001b[0m: \u001b[1m\u001b[31mStart Process [Test Model]!\u001b[0m\n",
      "\u001b[1m\u001b[37m\u001b[44m24-02-04 14:23:54|MOD:run_model   |\u001b[0m: \u001b[1m\u001b[34mEach Model Date Testing Mean Score({'train': 'pearson', 'valid': 'pearson', 'test': 'pearson'}):\u001b[0m\n",
      "\u001b[32mModels            0       0       0\u001b[0m\n",
      "\u001b[32mOutput         best swalast swabest\u001b[0m\n",
      "\u001b[32m20170103     0.1044  0.1044  0.1055\u001b[0m\n",
      "\u001b[32m20170704     0.1048  0.0790  0.1049\u001b[0m\n",
      "\u001b[32mAllTimeAvg   0.1045  0.0927  0.1052\u001b[0m\n",
      "\u001b[32mAllTimeSum    23.31   20.67   23.47\u001b[0m\n",
      "\u001b[32mStd          0.0825  0.0789  0.0815\u001b[0m\n",
      "\u001b[32mTValue        18.93   17.54   19.28\u001b[0m\n",
      "\u001b[32mAnnIR        6.2111  5.7537  6.3256\u001b[0m\n",
      "\u001b[1m\u001b[37m\u001b[41m24-02-04 14:24:06|MOD:run_model   |\u001b[0m: \u001b[1m\u001b[31mFinish Process [Test Model]! Cost 12.9 Secs\u001b[0m\n",
      "\u001b[1m\u001b[37m\u001b[41m24-02-04 14:24:07|MOD:run_model   |\u001b[0m: \u001b[1m\u001b[31mWill not copy to instance!\u001b[0m\n"
     ]
    }
   ],
   "source": [
    "%run run_model.py --process=0 --rawname=1 --resume=0 --anchoring=0"
   ]
  }
 ],
 "metadata": {
  "kernelspec": {
   "display_name": "Python 3",
   "language": "python",
   "name": "python3"
  },
  "language_info": {
   "codemirror_mode": {
    "name": "ipython",
    "version": 3
   },
   "file_extension": ".py",
   "mimetype": "text/x-python",
   "name": "python",
   "nbconvert_exporter": "python",
   "pygments_lexer": "ipython3",
   "version": "3.10.12"
  }
 },
 "nbformat": 4,
 "nbformat_minor": 2
}
