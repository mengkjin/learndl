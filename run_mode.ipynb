{
 "cells": [
  {
   "cell_type": "code",
   "execution_count": 1,
   "metadata": {},
   "outputs": [
    {
     "name": "stderr",
     "output_type": "stream",
     "text": [
      "\u001b[1m\u001b[37m\u001b[41m24-02-05 06:28:15|MOD:run_model   |\u001b[0m: \u001b[1m\u001b[31mStart Process [Load Data]!\u001b[0m\n"
     ]
    },
    {
     "name": "stdout",
     "output_type": "stream",
     "text": [
      "--Process Queue : Data + Train + Test + Instance\n",
      "--Start Training New!\n",
      "--Model_name is set to LSTM_day_SHORTTEST!\n"
     ]
    },
    {
     "name": "stderr",
     "output_type": "stream",
     "text": [
      "\u001b[1m\u001b[37m\u001b[41m24-02-05 06:28:30|MOD:run_model   |\u001b[0m: \u001b[1m\u001b[31mFinish Process [Load Data]! Cost 14.6Secs\u001b[0m\n",
      "\u001b[1m\u001b[37m\u001b[41m24-02-05 06:28:30|MOD:run_model   |\u001b[0m: \u001b[1m\u001b[31mStart Process [Train Model]!\u001b[0m\n"
     ]
    },
    {
     "name": "stdout",
     "output_type": "stream",
     "text": [
      "Pre-Norming method of [day] : [endpoint_division(True) , history_standardize(True)]\n"
     ]
    },
    {
     "name": "stderr",
     "output_type": "stream",
     "text": [
      "\u001b[32mLSTM_day_SHORTTEST #0 @20170103 LoadData Cost    1.9Secs\u001b[0m\n",
      "\u001b[32mFirstBite Ep#  0 : loss  1.00561, train-0.00553, valid-0.03184, max-0.0318, best-0.0318, lr1.0e-07\u001b[0m\n"
     ]
    },
    {
     "name": "stdout",
     "output_type": "stream",
     "text": [
      "None {'early_stop': False, 'max_epoch': False, 'valid_converge': False}\n",
      "None {'early_stop': False, 'max_epoch': False, 'valid_converge': False}\n",
      "None {'early_stop': False, 'max_epoch': False, 'valid_converge': False}\n",
      "None {'early_stop': False, 'max_epoch': False, 'valid_converge': False}\n",
      "None {'early_stop': False, 'max_epoch': False, 'valid_converge': False}\n"
     ]
    },
    {
     "name": "stderr",
     "output_type": "stream",
     "text": [
      "\u001b[32mFirstBite Ep#  5 : loss  0.86467, train 0.14577, valid 0.14978, max 0.1498, best 0.1498, lr3.8e-03\u001b[0m\n"
     ]
    },
    {
     "name": "stdout",
     "output_type": "stream",
     "text": [
      "None {'early_stop': False, 'max_epoch': False, 'valid_converge': False}\n",
      "None {'early_stop': False, 'max_epoch': False, 'valid_converge': False}\n",
      "None {'early_stop': False, 'max_epoch': False, 'valid_converge': False}\n",
      "None {'early_stop': False, 'max_epoch': False, 'valid_converge': False}\n",
      "None {'early_stop': False, 'max_epoch': False, 'valid_converge': False}\n"
     ]
    },
    {
     "name": "stderr",
     "output_type": "stream",
     "text": [
      "\u001b[32mFirstBite Ep# 10 : loss  0.83442, train 0.18138, valid 0.16481, max 0.1700, best 0.1700, lr1.3e-03\u001b[0m\n"
     ]
    },
    {
     "name": "stdout",
     "output_type": "stream",
     "text": [
      "None {'early_stop': False, 'max_epoch': False, 'valid_converge': False}\n",
      "None {'early_stop': False, 'max_epoch': False, 'valid_converge': False}\n",
      "None {'early_stop': False, 'max_epoch': False, 'valid_converge': False}\n",
      "None {'early_stop': False, 'max_epoch': False, 'valid_converge': False}\n",
      "None {'early_stop': False, 'max_epoch': False, 'valid_converge': False}\n"
     ]
    },
    {
     "name": "stderr",
     "output_type": "stream",
     "text": [
      "\u001b[32mFirstBite Ep# 15 : loss  0.81055, train 0.21045, valid 0.18339, max 0.1834, best 0.1834, lr6.3e-04\u001b[0m\n"
     ]
    },
    {
     "name": "stdout",
     "output_type": "stream",
     "text": [
      "None {'early_stop': False, 'max_epoch': False, 'valid_converge': False}\n",
      "None {'early_stop': False, 'max_epoch': False, 'valid_converge': False}\n",
      "None {'early_stop': False, 'max_epoch': False, 'valid_converge': False}\n",
      "None {'early_stop': False, 'max_epoch': False, 'valid_converge': False}\n",
      "Max Epoch {'early_stop': False, 'max_epoch': True, 'valid_converge': False}\n"
     ]
    },
    {
     "name": "stderr",
     "output_type": "stream",
     "text": [
      "\u001b[1m\u001b[37m\u001b[44m24-02-05 06:28:44|MOD:run_model   |\u001b[0m: \u001b[1m\u001b[34mLSTM_day_SHORTTEST #0 @20170103|Round 0 FirstBite Ep# 19 Max Epoch|Train 0.2130 Valid 0.1870 BestVal 0.1870|Cost  0.2Min,  0.6Sec/Ep\u001b[0m\n",
      "\u001b[32mLSTM_day_SHORTTEST #0 @20170704 LoadData Cost    1.6Secs\u001b[0m\n",
      "\u001b[32mFirstBite Ep#  0 : loss  1.00634, train-0.00627, valid-0.01473, max-0.0147, best-0.0147, lr1.0e-07\u001b[0m\n"
     ]
    },
    {
     "name": "stdout",
     "output_type": "stream",
     "text": [
      "None {'early_stop': False, 'max_epoch': False, 'valid_converge': False}\n",
      "None {'early_stop': False, 'max_epoch': False, 'valid_converge': False}\n",
      "None {'early_stop': False, 'max_epoch': False, 'valid_converge': False}\n",
      "None {'early_stop': False, 'max_epoch': False, 'valid_converge': False}\n",
      "None {'early_stop': False, 'max_epoch': False, 'valid_converge': False}\n"
     ]
    },
    {
     "name": "stderr",
     "output_type": "stream",
     "text": [
      "\u001b[32mFirstBite Ep#  5 : loss  0.88376, train 0.12365, valid 0.12963, max 0.1296, best 0.1296, lr3.8e-03\u001b[0m\n"
     ]
    },
    {
     "name": "stdout",
     "output_type": "stream",
     "text": [
      "None {'early_stop': False, 'max_epoch': False, 'valid_converge': False}\n",
      "None {'early_stop': False, 'max_epoch': False, 'valid_converge': False}\n",
      "None {'early_stop': False, 'max_epoch': False, 'valid_converge': False}\n",
      "None {'early_stop': False, 'max_epoch': False, 'valid_converge': False}\n",
      "None {'early_stop': False, 'max_epoch': False, 'valid_converge': False}\n"
     ]
    },
    {
     "name": "stderr",
     "output_type": "stream",
     "text": [
      "\u001b[32mFirstBite Ep# 10 : loss  0.84852, train 0.16435, valid 0.15665, max 0.1566, best 0.1566, lr1.3e-03\u001b[0m\n"
     ]
    },
    {
     "name": "stdout",
     "output_type": "stream",
     "text": [
      "None {'early_stop': False, 'max_epoch': False, 'valid_converge': False}\n",
      "None {'early_stop': False, 'max_epoch': False, 'valid_converge': False}\n",
      "None {'early_stop': False, 'max_epoch': False, 'valid_converge': False}\n",
      "None {'early_stop': False, 'max_epoch': False, 'valid_converge': False}\n",
      "None {'early_stop': False, 'max_epoch': False, 'valid_converge': False}\n"
     ]
    },
    {
     "name": "stderr",
     "output_type": "stream",
     "text": [
      "\u001b[32mFirstBite Ep# 15 : loss  0.82406, train 0.19369, valid 0.17420, max 0.1742, best 0.1742, lr6.3e-04\u001b[0m\n"
     ]
    },
    {
     "name": "stdout",
     "output_type": "stream",
     "text": [
      "None {'early_stop': False, 'max_epoch': False, 'valid_converge': False}\n",
      "None {'early_stop': False, 'max_epoch': False, 'valid_converge': False}\n",
      "None {'early_stop': False, 'max_epoch': False, 'valid_converge': False}\n",
      "None {'early_stop': False, 'max_epoch': False, 'valid_converge': False}\n",
      "Max Epoch {'early_stop': False, 'max_epoch': True, 'valid_converge': False}\n"
     ]
    },
    {
     "name": "stderr",
     "output_type": "stream",
     "text": [
      "\u001b[1m\u001b[37m\u001b[44m24-02-05 06:28:58|MOD:run_model   |\u001b[0m: \u001b[1m\u001b[34mLSTM_day_SHORTTEST #0 @20170704|Round 0 FirstBite Ep# 19 Max Epoch|Train 0.1984 Valid 0.1780 BestVal 0.1790|Cost  0.2Min,  0.6Sec/Ep\u001b[0m\n",
      "\u001b[1m\u001b[37m\u001b[41m24-02-05 06:28:58|MOD:run_model   |\u001b[0m: \u001b[1m\u001b[31mFinish Process [Train Model]! Cost 0.0 Hours, 0.2 Min/model, 0.7 Sec/Epoch\u001b[0m\n",
      "\u001b[1m\u001b[37m\u001b[41m24-02-05 06:28:58|MOD:run_model   |\u001b[0m: \u001b[1m\u001b[31mStart Process [Test Model]!\u001b[0m\n",
      "\u001b[1m\u001b[37m\u001b[44m24-02-05 06:28:58|MOD:run_model   |\u001b[0m: \u001b[1m\u001b[34mEach Model Date Testing Mean Score({'train': 'pearson', 'valid': 'pearson', 'test': 'pearson'}):\u001b[0m\n",
      "\u001b[32mModels            0       0       0\u001b[0m\n",
      "\u001b[32mOutput         best swalast swabest\u001b[0m\n",
      "\u001b[32m20170103     0.1045  0.1025  0.1063\u001b[0m\n",
      "\u001b[32m20170704     0.1125  0.1003  0.1133\u001b[0m\n",
      "\u001b[32mAllTimeAvg   0.1082  0.1015  0.1095\u001b[0m\n",
      "\u001b[32mAllTimeSum    24.13   22.64   24.42\u001b[0m\n",
      "\u001b[32mStd          0.0806  0.0720  0.0787\u001b[0m\n",
      "\u001b[32mTValue        20.06   21.06   20.78\u001b[0m\n",
      "\u001b[32mAnnIR        6.5800  6.9075  6.8174\u001b[0m\n",
      "\u001b[1m\u001b[37m\u001b[41m24-02-05 06:29:09|MOD:run_model   |\u001b[0m: \u001b[1m\u001b[31mFinish Process [Test Model]! Cost 11.0 Secs\u001b[0m\n",
      "\u001b[1m\u001b[37m\u001b[41m24-02-05 06:29:09|MOD:run_model   |\u001b[0m: \u001b[1m\u001b[31mWill not copy to instance!\u001b[0m\n"
     ]
    }
   ],
   "source": [
    "%run run_model.py --process=0 --rawname=1 --resume=0 --anchoring=0"
   ]
  }
 ],
 "metadata": {
  "kernelspec": {
   "display_name": "Python 3",
   "language": "python",
   "name": "python3"
  },
  "language_info": {
   "codemirror_mode": {
    "name": "ipython",
    "version": 3
   },
   "file_extension": ".py",
   "mimetype": "text/x-python",
   "name": "python",
   "nbconvert_exporter": "python",
   "pygments_lexer": "ipython3",
   "version": "3.10.12"
  }
 },
 "nbformat": 4,
 "nbformat_minor": 2
}
