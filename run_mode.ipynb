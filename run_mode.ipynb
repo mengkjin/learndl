{
 "cells": [
  {
   "cell_type": "code",
   "execution_count": 1,
   "metadata": {},
   "outputs": [
    {
     "name": "stderr",
     "output_type": "stream",
     "text": [
      "/home/mengkjin/.local/lib/python3.10/site-packages/torch/cuda/__init__.py:138: UserWarning: CUDA initialization: Unexpected error from cudaGetDeviceCount(). Did you run some cuda functions before calling NumCudaDevices() that might have already set an error? Error 804: forward compatibility was attempted on non supported HW (Triggered internally at ../c10/cuda/CUDAFunctions.cpp:108.)\n",
      "  return torch._C._cuda_getDeviceCount() > 0\n",
      "usage: ipykernel_launcher.py [-h] [--process PROCESS] [--rawname RAWNAME]\n",
      "                             [--resume RESUME] [--anchoring ANCHORING]\n",
      "ipykernel_launcher.py: error: unrecognized arguments: --f=/home/mengkjin/.local/share/jupyter/runtime/kernel-v2-489767zR7DxsNNqaBB.json\n"
     ]
    },
    {
     "name": "stdout",
     "output_type": "stream",
     "text": [
      "--What process would you want to run? 0: all, 1: train only (default), 2: test only , 3: copy to instance\n",
      "--Process Queue : Data + Train + Test + Instance\n",
      "--Start Training New!\n",
      "--Model_name is set to LSTM_day_SHORTTEST!\n"
     ]
    }
   ],
   "source": [
    "#!/usr/bin/env python\n",
    "# -*- coding: utf-8 -*-\n",
    "# @Time : ${2023-6-27} ${21:05}\n",
    "# @Author : Mathew Jin\n",
    "# @File : ${run_model.py}\n",
    "# chmod +x run_model.py\n",
    "# python3 scripts/run_model3.py --process=0 --rawname=1 --resume=0 --anchoring=0\n",
    "'''\n",
    "1.TRA\n",
    "https://arxiv.org/pdf/2106.12950.pdf\n",
    "https://github.com/microsoft/qlib/blob/main/examples/benchmarks/TRA/src/model.py\n",
    "1.1 HIST\n",
    "https://arxiv.org/pdf/2110.13716.pdf\n",
    "https://github.com/Wentao-Xu/HIST\n",
    "2.Lightgbm\n",
    "https://github.com/microsoft/LightGBM/blob/master/examples/python-guide/plot_example.py\n",
    "https://lightgbm.readthedocs.io/en/latest/pythonapi/lightgbm.plot_tree.html\n",
    "3.other factors\n",
    "'''\n",
    "import argparse\n",
    "import torch\n",
    "import torch.nn as nn\n",
    "import numpy as np\n",
    "import itertools , random , os, shutil , gc , time , h5py , yaml\n",
    "from copy import deepcopy\n",
    "from torch.optim.swa_utils import AveragedModel , update_bn\n",
    "from scripts.util.environ import get_logger\n",
    "from scripts.util.basic import process_timer , FilteredIterator , lr_cosine_scheduler , versatile_storage\n",
    "from scripts.util.multiloss import multiloss_calculator \n",
    "from scripts.util.trainer import trainer_parser , train_config , set_trainer_environment , Device\n",
    "from scripts.data_util.ModelData import ModelData\n",
    "from scripts.function.basic import *\n",
    "from scripts.nn.My import *\n",
    "# from audtorch.metrics.functional import *\n",
    "\n",
    "try:\n",
    "    parser = trainer_parser().parse_args()\n",
    "except:\n",
    "    parser = trainer_parser().parse_args(args=[])\n",
    "\n",
    "logger = get_logger()\n",
    "config = train_config(parser = parser , do_process=True)\n",
    "set_trainer_environment(config)\n",
    "time_recorder = process_timer(True)\n",
    "storage_model = versatile_storage(config.storage_type)"
   ]
  },
  {
   "cell_type": "code",
   "execution_count": 19,
   "metadata": {},
   "outputs": [
    {
     "data": {
      "text/plain": [
       "array([0.])"
      ]
     },
     "execution_count": 19,
     "metadata": {},
     "output_type": "execute_result"
    }
   ],
   "source": [
    "np.nan_to_num([np.nan])"
   ]
  },
  {
   "cell_type": "code",
   "execution_count": 15,
   "metadata": {},
   "outputs": [
    {
     "data": {
      "text/plain": [
       "array([[0.34580856, 0.6812599 , 0.80064276, 0.73788133, 0.35166539,\n",
       "        0.61607931, 0.44166507, 0.86284776, 0.5444348 , 0.22884268],\n",
       "       [0.52830971, 0.87296038, 0.59623307, 0.63503991, 0.87288609,\n",
       "        0.7604093 , 0.84850689, 0.09116341, 0.95884051, 0.47505979],\n",
       "       [0.1042597 , 0.49692085, 0.66953094, 0.15427043, 0.42289969,\n",
       "        0.66122607, 0.19171118, 0.56999261, 0.81849671, 0.52397418],\n",
       "       [0.77675723, 0.90236865, 0.10116521, 0.63026562, 0.56897266,\n",
       "        0.94560416, 0.49609061, 0.12047259, 0.56318735, 0.51044792],\n",
       "       [0.04882031, 0.6890926 , 0.15426646, 0.18384061, 0.56069865,\n",
       "        0.96371715, 0.73366521, 0.67817439, 0.4430654 , 0.8172947 ],\n",
       "       [0.58841908, 0.93269105, 0.49017386, 0.49916485, 0.65827105,\n",
       "        0.09918233, 0.94792628, 0.41251688, 0.06213669, 0.63426524],\n",
       "       [0.57077226, 0.92319001, 0.44619464, 0.90637105, 0.70659258,\n",
       "        0.27449223, 0.18813138, 0.61462964, 0.69652102, 0.61450676],\n",
       "       [0.57621798, 0.86990698, 0.33970297, 0.23651311, 0.78429387,\n",
       "        0.8684355 , 0.69542986, 0.31964323, 0.53372764, 0.83100887],\n",
       "       [0.83612066, 0.29517678, 0.21734142, 0.22184687, 0.25046291,\n",
       "        0.53608289, 0.7799953 , 0.04935205, 0.85727055, 0.65700673],\n",
       "       [0.37206329, 0.21674035, 0.7703508 , 0.94844676, 0.27701431,\n",
       "        0.17928137, 0.90256929, 0.65145817, 0.75233537, 0.42507652]])"
      ]
     },
     "execution_count": 15,
     "metadata": {},
     "output_type": "execute_result"
    }
   ],
   "source": [
    "import numpy as np\n",
    "np.concatenate([np.empty((0,10)),np.random.rand(10,10)])"
   ]
  },
  {
   "cell_type": "code",
   "execution_count": 11,
   "metadata": {},
   "outputs": [
    {
     "data": {
      "text/plain": [
       "array([], shape=(0, 0), dtype=float64)"
      ]
     },
     "execution_count": 11,
     "metadata": {},
     "output_type": "execute_result"
    }
   ],
   "source": [
    "np.empty((0,0))"
   ]
  },
  {
   "cell_type": "code",
   "execution_count": 2,
   "metadata": {},
   "outputs": [
    {
     "data": {
      "text/plain": [
       "['data', 'train', 'test', 'instance']"
      ]
     },
     "execution_count": 2,
     "metadata": {},
     "output_type": "execute_result"
    }
   ],
   "source": [
    "config.process_queue"
   ]
  },
  {
   "cell_type": "code",
   "execution_count": 50,
   "metadata": {},
   "outputs": [
    {
     "data": {
      "text/plain": [
       "{'loss': 'ccc',\n",
       " 'score': 'pearson',\n",
       " 'penalty': {'hidden_orthogonality': {'lamb': 0.001},\n",
       "  'tra_ot_penalty': {'lamb': 0.01, 'rho': 0.999}}}"
      ]
     },
     "execution_count": 50,
     "metadata": {},
     "output_type": "execute_result"
    }
   ],
   "source": [
    "config.train_params['criterion']['score']"
   ]
  },
  {
   "cell_type": "code",
   "execution_count": 15,
   "metadata": {},
   "outputs": [
    {
     "data": {
      "text/plain": [
       "'Sun Jan 28 10:20:14 2024'"
      ]
     },
     "execution_count": 15,
     "metadata": {},
     "output_type": "execute_result"
    }
   ],
   "source": [
    "import time\n",
    "a = time.ctime()\n",
    "time.time() - time.mktime(time.strptime(a))\n",
    "b = time.time()\n",
    "time.ctime()"
   ]
  },
  {
   "cell_type": "code",
   "execution_count": 47,
   "metadata": {},
   "outputs": [
    {
     "name": "stdout",
     "output_type": "stream",
     "text": [
      "0 0 0\n",
      "1 0 1\n",
      "2 1 0\n",
      "3 1 1\n",
      "4 2 0\n",
      "5 2 1\n",
      "0 (0, 1)\n",
      "1 (1, 0)\n",
      "2 (1, 1)\n",
      "3 (2, 0)\n",
      "4 (2, 1)\n"
     ]
    }
   ],
   "source": [
    "import itertools\n",
    "class FilteredIterator:\n",
    "    def __init__(self, iterable, condition):\n",
    "        self.iterable  = iter(iterable)\n",
    "        if callable(condition):\n",
    "            self.condition = condition\n",
    "        else:\n",
    "            self.condition = iter(condition)\n",
    "    def __iter__(self):\n",
    "        return self\n",
    "    def __next__(self):\n",
    "        while True:\n",
    "            item = next(self.iterable)\n",
    "            cond = self.condition(item) if callable(self.condition) else next(self.condition)\n",
    "            if cond: return item\n",
    "model_iter = list(itertools.product(range(3) , range(2)))\n",
    "models_trained = np.array([True,False,False,False,False,False])\n",
    "for i,(model_date,model_num) in enumerate(model_iter):\n",
    "    print(i,model_date,model_num)\n",
    "model_iter = FilteredIterator(model_iter, models_trained == 0)\n",
    "for i,x in enumerate(model_iter):\n",
    "    print(i,x)"
   ]
  },
  {
   "cell_type": "code",
   "execution_count": 40,
   "metadata": {},
   "outputs": [
    {
     "data": {
      "text/plain": [
       "([(0, 0), (0, 1), (1, 0), (1, 1), (2, 0), (2, 1)],\n",
       " array([False,  True,  True,  True,  True,  True]))"
      ]
     },
     "execution_count": 40,
     "metadata": {},
     "output_type": "execute_result"
    }
   ],
   "source": [
    "list(itertools.product(range(3) , range(2))) , models_trained == 0"
   ]
  },
  {
   "cell_type": "code",
   "execution_count": 28,
   "metadata": {},
   "outputs": [
    {
     "data": {
      "text/plain": [
       "[(0, 0), (0, 1), (1, 0), (1, 1), (2, 0), (2, 1)]"
      ]
     },
     "execution_count": 28,
     "metadata": {},
     "output_type": "execute_result"
    }
   ],
   "source": [
    "list(itertools.product(range(3) , range(2)))"
   ]
  },
  {
   "cell_type": "code",
   "execution_count": 8,
   "metadata": {},
   "outputs": [
    {
     "data": {
      "text/plain": [
       "{'dataloader': {'random_seed': None,\n",
       "  'random_tv_split': True,\n",
       "  'sample_method': 'train_shuffle',\n",
       "  'train_ratio': 0.8},\n",
       " 'trainer': {'optimizer': {'name': 'Adam', 'param': {}},\n",
       "  'scheduler': {'name': 'cycle',\n",
       "   'param': {'base_lr': 1e-07, 'step_size_up': 4}},\n",
       "  'learn_rate': {'base': 0.005,\n",
       "   'ratio': {'attempt': [1, 0.1, 10, 0.01, 100],\n",
       "    'round': [1.0],\n",
       "    'transfer': 0.1},\n",
       "   'reset': {'num_reset': 2,\n",
       "    'trigger': 40,\n",
       "    'recover_level': 1.0,\n",
       "    'speedup2x': True}},\n",
       "  'nanloss': {'retry': 2},\n",
       "  'gradient': {'clip_value': 10.0},\n",
       "  'retrain': {'attempts': 4, 'min_epoch': 20, 'min_epoch_round': 10}},\n",
       " 'criterion': {'loss': 'ccc',\n",
       "  'score': 'pearson',\n",
       "  'penalty': {'hidden_orthogonality': {'lamb': 0.001},\n",
       "   'tra_ot_penalty': {'lamb': 0.01, 'rho': 0.999}}},\n",
       " 'transfer': False,\n",
       " 'output_types': ['best', 'swalast', 'swabest'],\n",
       " 'multitask': {'type': 'hybrid',\n",
       "  'param_dict': {'dwa': {'tau': 2},\n",
       "   'ruw': {'phi': None},\n",
       "   'ewa': {},\n",
       "   'gls': {},\n",
       "   'rws': {},\n",
       "   'hybrid': {'phi': None, 'tau': 2}}},\n",
       " 'terminate': {'overall': {'early_stop': 20,\n",
       "   'max_epoch': 200,\n",
       "   'valid_converge': {'min_epoch': 5, 'eps': 1e-05}},\n",
       "  'round': {'early_stop': 10,\n",
       "   'max_epoch': 100,\n",
       "   'valid_converge': {'min_epoch': 5, 'eps': 1e-05}}}}"
      ]
     },
     "execution_count": 8,
     "metadata": {},
     "output_type": "execute_result"
    }
   ],
   "source": [
    "getattr(config , 'TRAIN_PARAM' , None)"
   ]
  }
 ],
 "metadata": {
  "kernelspec": {
   "display_name": "Python 3",
   "language": "python",
   "name": "python3"
  },
  "language_info": {
   "codemirror_mode": {
    "name": "ipython",
    "version": 3
   },
   "file_extension": ".py",
   "mimetype": "text/x-python",
   "name": "python",
   "nbconvert_exporter": "python",
   "pygments_lexer": "ipython3",
   "version": "3.10.12"
  }
 },
 "nbformat": 4,
 "nbformat_minor": 2
}
