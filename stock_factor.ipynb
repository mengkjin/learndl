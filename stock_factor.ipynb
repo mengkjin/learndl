{
 "cells": [
  {
   "cell_type": "code",
   "execution_count": 3,
   "metadata": {},
   "outputs": [
    {
     "data": {
      "text/html": [
       "<div>\n",
       "<style scoped>\n",
       "    .dataframe tbody tr th:only-of-type {\n",
       "        vertical-align: middle;\n",
       "    }\n",
       "\n",
       "    .dataframe tbody tr th {\n",
       "        vertical-align: top;\n",
       "    }\n",
       "\n",
       "    .dataframe thead th {\n",
       "        text-align: right;\n",
       "    }\n",
       "</style>\n",
       "<table border=\"1\" class=\"dataframe\">\n",
       "  <thead>\n",
       "    <tr style=\"text-align: right;\">\n",
       "      <th></th>\n",
       "      <th>trade</th>\n",
       "      <th>td</th>\n",
       "      <th>pre</th>\n",
       "      <th>cd_index</th>\n",
       "      <th>td_index</th>\n",
       "    </tr>\n",
       "    <tr>\n",
       "      <th>calendar</th>\n",
       "      <th></th>\n",
       "      <th></th>\n",
       "      <th></th>\n",
       "      <th></th>\n",
       "      <th></th>\n",
       "    </tr>\n",
       "  </thead>\n",
       "  <tbody>\n",
       "    <tr>\n",
       "      <th>19901219</th>\n",
       "      <td>1</td>\n",
       "      <td>19901219</td>\n",
       "      <td>-1</td>\n",
       "      <td>0</td>\n",
       "      <td>0</td>\n",
       "    </tr>\n",
       "    <tr>\n",
       "      <th>19901220</th>\n",
       "      <td>1</td>\n",
       "      <td>19901220</td>\n",
       "      <td>19901219</td>\n",
       "      <td>1</td>\n",
       "      <td>1</td>\n",
       "    </tr>\n",
       "    <tr>\n",
       "      <th>19901221</th>\n",
       "      <td>1</td>\n",
       "      <td>19901221</td>\n",
       "      <td>19901220</td>\n",
       "      <td>2</td>\n",
       "      <td>2</td>\n",
       "    </tr>\n",
       "    <tr>\n",
       "      <th>19901222</th>\n",
       "      <td>0</td>\n",
       "      <td>19901221</td>\n",
       "      <td>19901220</td>\n",
       "      <td>3</td>\n",
       "      <td>2</td>\n",
       "    </tr>\n",
       "    <tr>\n",
       "      <th>19901223</th>\n",
       "      <td>0</td>\n",
       "      <td>19901221</td>\n",
       "      <td>19901220</td>\n",
       "      <td>4</td>\n",
       "      <td>2</td>\n",
       "    </tr>\n",
       "    <tr>\n",
       "      <th>...</th>\n",
       "      <td>...</td>\n",
       "      <td>...</td>\n",
       "      <td>...</td>\n",
       "      <td>...</td>\n",
       "      <td>...</td>\n",
       "    </tr>\n",
       "    <tr>\n",
       "      <th>20241227</th>\n",
       "      <td>1</td>\n",
       "      <td>20241227</td>\n",
       "      <td>20241226</td>\n",
       "      <td>12427</td>\n",
       "      <td>8309</td>\n",
       "    </tr>\n",
       "    <tr>\n",
       "      <th>20241228</th>\n",
       "      <td>0</td>\n",
       "      <td>20241227</td>\n",
       "      <td>20241226</td>\n",
       "      <td>12428</td>\n",
       "      <td>8309</td>\n",
       "    </tr>\n",
       "    <tr>\n",
       "      <th>20241229</th>\n",
       "      <td>0</td>\n",
       "      <td>20241227</td>\n",
       "      <td>20241226</td>\n",
       "      <td>12429</td>\n",
       "      <td>8309</td>\n",
       "    </tr>\n",
       "    <tr>\n",
       "      <th>20241230</th>\n",
       "      <td>1</td>\n",
       "      <td>20241230</td>\n",
       "      <td>20241227</td>\n",
       "      <td>12430</td>\n",
       "      <td>8310</td>\n",
       "    </tr>\n",
       "    <tr>\n",
       "      <th>20241231</th>\n",
       "      <td>1</td>\n",
       "      <td>20241231</td>\n",
       "      <td>20241230</td>\n",
       "      <td>12431</td>\n",
       "      <td>8311</td>\n",
       "    </tr>\n",
       "  </tbody>\n",
       "</table>\n",
       "<p>12432 rows × 5 columns</p>\n",
       "</div>"
      ],
      "text/plain": [
       "          trade        td       pre  cd_index  td_index\n",
       "calendar                                               \n",
       "19901219      1  19901219        -1         0         0\n",
       "19901220      1  19901220  19901219         1         1\n",
       "19901221      1  19901221  19901220         2         2\n",
       "19901222      0  19901221  19901220         3         2\n",
       "19901223      0  19901221  19901220         4         2\n",
       "...         ...       ...       ...       ...       ...\n",
       "20241227      1  20241227  20241226     12427      8309\n",
       "20241228      0  20241227  20241226     12428      8309\n",
       "20241229      0  20241227  20241226     12429      8309\n",
       "20241230      1  20241230  20241227     12430      8310\n",
       "20241231      1  20241231  20241230     12431      8311\n",
       "\n",
       "[12432 rows x 5 columns]"
      ]
     },
     "execution_count": 3,
     "metadata": {},
     "output_type": "execute_result"
    }
   ],
   "source": [
    "from src.data.tushare.basic.calendar import _calendar\n",
    "_calendar"
   ]
  },
  {
   "cell_type": "code",
   "execution_count": 1,
   "metadata": {},
   "outputs": [
    {
     "data": {
      "text/plain": [
       "(TradeDate(calendar=20241026,trade=20241025),\n",
       " TradeDate(calendar=20241024,trade=20241024),\n",
       " TradeDate(calendar=20241029,trade=20241029))"
      ]
     },
     "execution_count": 1,
     "metadata": {},
     "output_type": "execute_result"
    }
   ],
   "source": [
    "from src.data.tushare.basic import TradeDate\n",
    "TradeDate(20241026) , TradeDate(20241026) - 1 , TradeDate(20241026) + 2\n"
   ]
  },
  {
   "cell_type": "code",
   "execution_count": 2,
   "metadata": {},
   "outputs": [
    {
     "data": {
      "text/plain": [
       "20241029"
      ]
     },
     "execution_count": 2,
     "metadata": {},
     "output_type": "execute_result"
    }
   ],
   "source": [
    "int(TradeDate(20241029))\n"
   ]
  },
  {
   "cell_type": "code",
   "execution_count": 3,
   "metadata": {},
   "outputs": [],
   "source": [
    "from src.data.tushare.basic import CALENDAR , TRADE_DATA"
   ]
  },
  {
   "cell_type": "code",
   "execution_count": 2,
   "metadata": {},
   "outputs": [],
   "source": [
    "'''\n",
    "import pandas as pd\n",
    "dates = CALENDAR.trailing(20241029 , 60)\n",
    "TRADE_DATA.load(dates)\n",
    "\n",
    "df_list = []\n",
    "for i in range(len(dates[1:])):\n",
    "    trd = TRADE_DATA.get_trd(dates[1 + i] , ['secid','pctchange']) \n",
    "    val = TRADE_DATA.get_val(dates[0 + i] , ['secid','circ_mv'])\n",
    "    ret = trd.merge(val , on = 'secid').assign(date = dates[1 + i])\n",
    "    df_list.append(ret)\n",
    "df = pd.concat(df_list)\n",
    "'''\n",
    "\n",
    "stk_ret = TRADE_DATA.get_rets(20241029 , 20241029)"
   ]
  },
  {
   "cell_type": "code",
   "execution_count": 1,
   "metadata": {},
   "outputs": [
    {
     "data": {
      "text/plain": [
       "('level0', 'ret20_raw', level0.ret20_raw.ret20_raw)"
      ]
     },
     "execution_count": 1,
     "metadata": {},
     "output_type": "execute_result"
    }
   ],
   "source": [
    "from src_api.factor import factor_hierarchy\n",
    "a = factor_hierarchy()\n",
    "a[0]\n"
   ]
  },
  {
   "cell_type": "code",
   "execution_count": 2,
   "metadata": {},
   "outputs": [
    {
     "ename": "AssertionError",
     "evalue": "init_date should be later than 20070101 , but got -1",
     "output_type": "error",
     "traceback": [
      "\u001b[1;31m---------------------------------------------------------------------------\u001b[0m",
      "\u001b[1;31mAssertionError\u001b[0m                            Traceback (most recent call last)",
      "Cell \u001b[1;32mIn[2], line 1\u001b[0m\n\u001b[1;32m----> 1\u001b[0m \u001b[43ma\u001b[49m\u001b[43m[\u001b[49m\u001b[38;5;241;43m0\u001b[39;49m\u001b[43m]\u001b[49m\u001b[43m[\u001b[49m\u001b[38;5;241;43m2\u001b[39;49m\u001b[43m]\u001b[49m\u001b[43m(\u001b[49m\u001b[43m)\u001b[49m\n",
      "File \u001b[1;32md:\\Coding\\learndl\\learndl\\src\\factor\\classes\\factor_calc.py:40\u001b[0m, in \u001b[0;36mStockFactorCalculator.__new__\u001b[1;34m(cls, *args, **kwargs)\u001b[0m\n\u001b[0;32m     39\u001b[0m \u001b[38;5;28;01mdef\u001b[39;00m \u001b[38;5;21m__new__\u001b[39m(\u001b[38;5;28mcls\u001b[39m , \u001b[38;5;241m*\u001b[39margs , \u001b[38;5;241m*\u001b[39m\u001b[38;5;241m*\u001b[39mkwargs):\n\u001b[1;32m---> 40\u001b[0m     \u001b[38;5;28;43mcls\u001b[39;49m\u001b[38;5;241;43m.\u001b[39;49m\u001b[43mvalidate_attr\u001b[49m\u001b[43m(\u001b[49m\u001b[43m)\u001b[49m\n\u001b[0;32m     41\u001b[0m     \u001b[38;5;28;01mreturn\u001b[39;00m \u001b[38;5;28msuper\u001b[39m()\u001b[38;5;241m.\u001b[39m\u001b[38;5;21m__new__\u001b[39m(\u001b[38;5;28mcls\u001b[39m)\n",
      "File \u001b[1;32md:\\Coding\\learndl\\learndl\\src\\factor\\classes\\factor_calc.py:73\u001b[0m, in \u001b[0;36mStockFactorCalculator.validate_attr\u001b[1;34m(cls)\u001b[0m\n\u001b[0;32m     69\u001b[0m \u001b[38;5;129m@final\u001b[39m\n\u001b[0;32m     70\u001b[0m \u001b[38;5;129m@classmethod\u001b[39m\n\u001b[0;32m     71\u001b[0m \u001b[38;5;28;01mdef\u001b[39;00m \u001b[38;5;21mvalidate_attr\u001b[39m(\u001b[38;5;28mcls\u001b[39m):\n\u001b[0;32m     72\u001b[0m \u001b[38;5;250m    \u001b[39m\u001b[38;5;124;03m'''validate attribute of factor'''\u001b[39;00m\n\u001b[1;32m---> 73\u001b[0m     \u001b[38;5;28;01massert\u001b[39;00m \u001b[38;5;28mcls\u001b[39m\u001b[38;5;241m.\u001b[39minit_date \u001b[38;5;241m>\u001b[39m\u001b[38;5;241m=\u001b[39m _INIT_DATE , \u001b[38;5;124mf\u001b[39m\u001b[38;5;124m'\u001b[39m\u001b[38;5;124minit_date should be later than \u001b[39m\u001b[38;5;132;01m{\u001b[39;00m_INIT_DATE\u001b[38;5;132;01m}\u001b[39;00m\u001b[38;5;124m , but got \u001b[39m\u001b[38;5;132;01m{\u001b[39;00m\u001b[38;5;28mcls\u001b[39m\u001b[38;5;241m.\u001b[39minit_date\u001b[38;5;132;01m}\u001b[39;00m\u001b[38;5;124m'\u001b[39m\n\u001b[0;32m     75\u001b[0m     \u001b[38;5;28;01massert\u001b[39;00m \u001b[38;5;28mcls\u001b[39m\u001b[38;5;241m.\u001b[39mcategory0 \u001b[38;5;129;01min\u001b[39;00m _FACTOR_CATEGORY0_SET , \\\n\u001b[0;32m     76\u001b[0m         \u001b[38;5;124mf\u001b[39m\u001b[38;5;124m'\u001b[39m\u001b[38;5;124mcategory0 is should be in \u001b[39m\u001b[38;5;132;01m{\u001b[39;00m_FACTOR_CATEGORY0_SET\u001b[38;5;132;01m}\u001b[39;00m\u001b[38;5;124m, but got \u001b[39m\u001b[38;5;132;01m{\u001b[39;00m\u001b[38;5;28mcls\u001b[39m\u001b[38;5;241m.\u001b[39mcategory0\u001b[38;5;132;01m}\u001b[39;00m\u001b[38;5;124m'\u001b[39m\n\u001b[0;32m     78\u001b[0m     category1_list \u001b[38;5;241m=\u001b[39m _FACTOR_CATEGORY1_SET[\u001b[38;5;28mcls\u001b[39m\u001b[38;5;241m.\u001b[39mcategory0]\n",
      "\u001b[1;31mAssertionError\u001b[0m: init_date should be later than 20070101 , but got -1"
     ]
    }
   ],
   "source": [
    "\n",
    "a[0][2]()"
   ]
  },
  {
   "cell_type": "code",
   "execution_count": 11,
   "metadata": {},
   "outputs": [
    {
     "data": {
      "text/plain": [
       "[('level0', level0.ret20_raw.ret20_raw)]"
      ]
     },
     "execution_count": 11,
     "metadata": {},
     "output_type": "execute_result"
    }
   ],
   "source": [
    "import os\n",
    "import importlib.util\n",
    "import inspect\n",
    "\n",
    "from src.basic import PATH\n",
    "folder_path =  PATH.main.joinpath('src_factors')\n",
    "\n",
    "classes = []\n",
    "for level_path in folder_path.iterdir():\n",
    "    if not level_path.is_dir(): continue\n",
    "    for file_path in level_path.iterdir():\n",
    "        if file_path.suffix != '.py': continue\n",
    "        spec_name = f'{level_path.stem}.{file_path.stem}'\n",
    "        \n",
    "        spec = importlib.util.spec_from_file_location(spec_name, file_path)\n",
    "        assert spec is not None and spec.loader is not None , f'{file_path} is not a valid module'\n",
    "        module = importlib.util.module_from_spec(spec)\n",
    "        spec.loader.exec_module(module)\n",
    "        \n",
    "        for name, obj in inspect.getmembers(module, inspect.isclass):\n",
    "            if obj.__module__ == spec_name:\n",
    "                classes.append((level_path.stem , obj))\n",
    "classes"
   ]
  },
  {
   "cell_type": "code",
   "execution_count": 8,
   "metadata": {},
   "outputs": [
    {
     "data": {
      "text/plain": [
       "'__init__'"
      ]
     },
     "execution_count": 8,
     "metadata": {},
     "output_type": "execute_result"
    }
   ],
   "source": [
    "level_path.stem"
   ]
  },
  {
   "cell_type": "code",
   "execution_count": 1,
   "metadata": {},
   "outputs": [],
   "source": [
    "import os\n",
    "import importlib.util\n",
    "import inspect\n",
    "\n",
    "def load_classes_from_folder(folder_path):\n",
    "    classes = []\n",
    "    \n",
    "    # 获取文件夹的绝对路径\n",
    "    folder_path = os.path.abspath(folder_path)\n",
    "    folder_name = os.path.basename(folder_path)\n",
    "    \n",
    "    # 遍历文件夹中的所有文件\n",
    "    for filename in os.listdir(folder_path):\n",
    "        if filename.endswith('.py'):\n",
    "            module_name = filename[:-3]  # 去掉 .py 后缀\n",
    "            file_path = os.path.join(folder_path, filename)\n",
    "            \n",
    "            # 动态导入模块\n",
    "            spec = importlib.util.spec_from_file_location(f\"{folder_name}.{module_name}\", file_path)\n",
    "            module = importlib.util.module_from_spec(spec)\n",
    "            spec.loader.exec_module(module)\n",
    "            \n",
    "            # 获取模块中的所有类\n",
    "            for name, obj in inspect.getmembers(module, inspect.isclass):\n",
    "                # 确保类是定义在当前模块中，而不是导入的\n",
    "                if obj.__module__ == f\"{folder_name}.{module_name}\":\n",
    "                    classes.append(obj)\n",
    "    \n",
    "    return classes\n",
    "\n",
    "# 使用示例\n",
    "folder_path =  './src/factor/factor_algorithm'\n",
    "all_classes = load_classes_from_folder(folder_path)\n",
    "print(all_classes)"
   ]
  },
  {
   "cell_type": "code",
   "execution_count": 2,
   "metadata": {},
   "outputs": [
    {
     "name": "stdout",
     "output_type": "stream",
     "text": [
      "[<class 'factor_algorithm.behavior.ret20_raw'>]\n"
     ]
    }
   ],
   "source": [
    "folder_path =  './src/factor/factor_algorithm'\n",
    "all_classes = load_classes_from_folder(folder_path)\n",
    "print(all_classes)"
   ]
  },
  {
   "cell_type": "code",
   "execution_count": 1,
   "metadata": {},
   "outputs": [],
   "source": [
    "import os\n",
    "import importlib.util\n",
    "import inspect\n",
    "import sys\n",
    "\n",
    "def load_classes_from_folder(folder_path):\n",
    "    classes = []\n",
    "    \n",
    "    # 将文件夹路径添加到 sys.path\n",
    "    sys.path.append(folder_path)\n",
    "    \n",
    "    # 遍历文件夹中的所有文件\n",
    "    for filename in os.listdir(folder_path):\n",
    "        if filename.endswith('.py'):\n",
    "            module_name = filename[:-3]  # 去掉 .py 后缀\n",
    "            file_path = os.path.join(folder_path, filename)\n",
    "            \n",
    "            # 动态导入模块\n",
    "            spec = importlib.util.spec_from_file_location(module_name, file_path)\n",
    "            module = importlib.util.module_from_spec(spec)\n",
    "            spec.loader.exec_module(module)\n",
    "            \n",
    "            # 获取模块中的所有类\n",
    "            for name, obj in inspect.getmembers(module, inspect.isclass):\n",
    "                # 确保类是定义在当前模块中，而不是导入的\n",
    "                if obj.__module__ == module_name:\n",
    "                    classes.append(obj)\n",
    "    \n",
    "    # 从 sys.path 中移除文件夹路径\n",
    "    sys.path.remove(folder_path)\n",
    "    \n",
    "    return classes"
   ]
  },
  {
   "cell_type": "code",
   "execution_count": 1,
   "metadata": {},
   "outputs": [],
   "source": [
    "from src.api.factor import factor_hierarchy\n",
    "hier = factor_hierarchy()"
   ]
  },
  {
   "cell_type": "code",
   "execution_count": 2,
   "metadata": {},
   "outputs": [
    {
     "data": {
      "text/html": [
       "<div>\n",
       "<style scoped>\n",
       "    .dataframe tbody tr th:only-of-type {\n",
       "        vertical-align: middle;\n",
       "    }\n",
       "\n",
       "    .dataframe tbody tr th {\n",
       "        vertical-align: top;\n",
       "    }\n",
       "\n",
       "    .dataframe thead th {\n",
       "        text-align: right;\n",
       "    }\n",
       "</style>\n",
       "<table border=\"1\" class=\"dataframe\">\n",
       "  <thead>\n",
       "    <tr style=\"text-align: right;\">\n",
       "      <th></th>\n",
       "      <th>level</th>\n",
       "      <th>factor_name</th>\n",
       "      <th>init_date</th>\n",
       "      <th>category0</th>\n",
       "      <th>category1</th>\n",
       "      <th>description</th>\n",
       "    </tr>\n",
       "  </thead>\n",
       "  <tbody>\n",
       "    <tr>\n",
       "      <th>0</th>\n",
       "      <td>level0</td>\n",
       "      <td>ret20_raw</td>\n",
       "      <td>20070101</td>\n",
       "      <td>behavior</td>\n",
       "      <td>momentum</td>\n",
       "      <td>raw return of 20 days</td>\n",
       "    </tr>\n",
       "  </tbody>\n",
       "</table>\n",
       "</div>"
      ],
      "text/plain": [
       "    level factor_name  init_date category0 category1            description\n",
       "0  level0   ret20_raw   20070101  behavior  momentum  raw return of 20 days"
      ]
     },
     "execution_count": 2,
     "metadata": {},
     "output_type": "execute_result"
    }
   ],
   "source": [
    "hier.factor_df(level='level0')"
   ]
  },
  {
   "cell_type": "code",
   "execution_count": 3,
   "metadata": {},
   "outputs": [
    {
     "data": {
      "text/html": [
       "<div>\n",
       "<style scoped>\n",
       "    .dataframe tbody tr th:only-of-type {\n",
       "        vertical-align: middle;\n",
       "    }\n",
       "\n",
       "    .dataframe tbody tr th {\n",
       "        vertical-align: top;\n",
       "    }\n",
       "\n",
       "    .dataframe thead th {\n",
       "        text-align: right;\n",
       "    }\n",
       "</style>\n",
       "<table border=\"1\" class=\"dataframe\">\n",
       "  <thead>\n",
       "    <tr style=\"text-align: right;\">\n",
       "      <th></th>\n",
       "      <th>date</th>\n",
       "      <th>level</th>\n",
       "      <th>factor</th>\n",
       "    </tr>\n",
       "  </thead>\n",
       "  <tbody>\n",
       "    <tr>\n",
       "      <th>0</th>\n",
       "      <td>20241008</td>\n",
       "      <td>level0</td>\n",
       "      <td>ret20_raw(from 20070101 , behavior , momentum)</td>\n",
       "    </tr>\n",
       "    <tr>\n",
       "      <th>1</th>\n",
       "      <td>20241009</td>\n",
       "      <td>level0</td>\n",
       "      <td>ret20_raw(from 20070101 , behavior , momentum)</td>\n",
       "    </tr>\n",
       "    <tr>\n",
       "      <th>2</th>\n",
       "      <td>20241010</td>\n",
       "      <td>level0</td>\n",
       "      <td>ret20_raw(from 20070101 , behavior , momentum)</td>\n",
       "    </tr>\n",
       "    <tr>\n",
       "      <th>3</th>\n",
       "      <td>20241011</td>\n",
       "      <td>level0</td>\n",
       "      <td>ret20_raw(from 20070101 , behavior , momentum)</td>\n",
       "    </tr>\n",
       "    <tr>\n",
       "      <th>4</th>\n",
       "      <td>20241014</td>\n",
       "      <td>level0</td>\n",
       "      <td>ret20_raw(from 20070101 , behavior , momentum)</td>\n",
       "    </tr>\n",
       "    <tr>\n",
       "      <th>5</th>\n",
       "      <td>20241015</td>\n",
       "      <td>level0</td>\n",
       "      <td>ret20_raw(from 20070101 , behavior , momentum)</td>\n",
       "    </tr>\n",
       "    <tr>\n",
       "      <th>6</th>\n",
       "      <td>20241016</td>\n",
       "      <td>level0</td>\n",
       "      <td>ret20_raw(from 20070101 , behavior , momentum)</td>\n",
       "    </tr>\n",
       "    <tr>\n",
       "      <th>7</th>\n",
       "      <td>20241017</td>\n",
       "      <td>level0</td>\n",
       "      <td>ret20_raw(from 20070101 , behavior , momentum)</td>\n",
       "    </tr>\n",
       "    <tr>\n",
       "      <th>8</th>\n",
       "      <td>20241018</td>\n",
       "      <td>level0</td>\n",
       "      <td>ret20_raw(from 20070101 , behavior , momentum)</td>\n",
       "    </tr>\n",
       "    <tr>\n",
       "      <th>9</th>\n",
       "      <td>20241021</td>\n",
       "      <td>level0</td>\n",
       "      <td>ret20_raw(from 20070101 , behavior , momentum)</td>\n",
       "    </tr>\n",
       "    <tr>\n",
       "      <th>10</th>\n",
       "      <td>20241022</td>\n",
       "      <td>level0</td>\n",
       "      <td>ret20_raw(from 20070101 , behavior , momentum)</td>\n",
       "    </tr>\n",
       "    <tr>\n",
       "      <th>11</th>\n",
       "      <td>20241023</td>\n",
       "      <td>level0</td>\n",
       "      <td>ret20_raw(from 20070101 , behavior , momentum)</td>\n",
       "    </tr>\n",
       "    <tr>\n",
       "      <th>12</th>\n",
       "      <td>20241101</td>\n",
       "      <td>level0</td>\n",
       "      <td>ret20_raw(from 20070101 , behavior , momentum)</td>\n",
       "    </tr>\n",
       "  </tbody>\n",
       "</table>\n",
       "</div>"
      ],
      "text/plain": [
       "        date   level                                          factor\n",
       "0   20241008  level0  ret20_raw(from 20070101 , behavior , momentum)\n",
       "1   20241009  level0  ret20_raw(from 20070101 , behavior , momentum)\n",
       "2   20241010  level0  ret20_raw(from 20070101 , behavior , momentum)\n",
       "3   20241011  level0  ret20_raw(from 20070101 , behavior , momentum)\n",
       "4   20241014  level0  ret20_raw(from 20070101 , behavior , momentum)\n",
       "5   20241015  level0  ret20_raw(from 20070101 , behavior , momentum)\n",
       "6   20241016  level0  ret20_raw(from 20070101 , behavior , momentum)\n",
       "7   20241017  level0  ret20_raw(from 20070101 , behavior , momentum)\n",
       "8   20241018  level0  ret20_raw(from 20070101 , behavior , momentum)\n",
       "9   20241021  level0  ret20_raw(from 20070101 , behavior , momentum)\n",
       "10  20241022  level0  ret20_raw(from 20070101 , behavior , momentum)\n",
       "11  20241023  level0  ret20_raw(from 20070101 , behavior , momentum)\n",
       "12  20241101  level0  ret20_raw(from 20070101 , behavior , momentum)"
      ]
     },
     "execution_count": 3,
     "metadata": {},
     "output_type": "execute_result"
    }
   ],
   "source": [
    "hier.update_jobs(20241001)\n",
    "hier.jobs()"
   ]
  },
  {
   "cell_type": "code",
   "execution_count": 4,
   "metadata": {},
   "outputs": [
    {
     "name": "stdout",
     "output_type": "stream",
     "text": [
      "Factor:ret20_raw at date 20241008 deploy successful\n",
      "Factor:ret20_raw at date 20241009 deploy successful\n",
      "Factor:ret20_raw at date 20241010 deploy successful\n",
      "Factor:ret20_raw at date 20241011 deploy successful\n",
      "Factor:ret20_raw at date 20241014 deploy successful\n",
      "Factor:ret20_raw at date 20241015 deploy successful\n",
      "Factor:ret20_raw at date 20241016 deploy successful\n",
      "Factor:ret20_raw at date 20241017 deploy successful\n",
      "Factor:ret20_raw at date 20241018 deploy successful\n",
      "Factor:ret20_raw at date 20241021 deploy successful\n",
      "Factor:ret20_raw at date 20241022 deploy successful\n",
      "Factor:ret20_raw at date 20241023 deploy successful\n",
      "Factor:ret20_raw update at date 20241101 failed: 'NoneType' object has no attribute 'loc'\n"
     ]
    }
   ],
   "source": [
    "hier.Update()"
   ]
  },
  {
   "cell_type": "code",
   "execution_count": 4,
   "metadata": {},
   "outputs": [
    {
     "name": "stdout",
     "output_type": "stream",
     "text": [
      "Factor:ret20_raw at date 20241024 deploy successful\n",
      "Factor:ret20_raw at date 20241025 deploy successful\n",
      "Factor:ret20_raw at date 20241028 deploy successful\n",
      "Factor:ret20_raw at date 20241029 deploy successful\n",
      "Factor:ret20_raw at date 20241030 deploy successful\n",
      "Factor:ret20_raw at date 20241031 deploy successful\n"
     ]
    },
    {
     "data": {
      "text/plain": [
       "StockFactorHierarchy(['level0(1)'])"
      ]
     },
     "execution_count": 4,
     "metadata": {},
     "output_type": "execute_result"
    }
   ],
   "source": [
    "hier.Update()"
   ]
  },
  {
   "cell_type": "code",
   "execution_count": 18,
   "metadata": {},
   "outputs": [
    {
     "data": {
      "text/plain": [
       "StockFactorHierarchy(['level0(1)'])"
      ]
     },
     "execution_count": 18,
     "metadata": {},
     "output_type": "execute_result"
    }
   ],
   "source": [
    "hier"
   ]
  },
  {
   "cell_type": "code",
   "execution_count": 13,
   "metadata": {},
   "outputs": [
    {
     "data": {
      "text/plain": [
       "StockFactorHierarchy(['level0(1)'])"
      ]
     },
     "execution_count": 13,
     "metadata": {},
     "output_type": "execute_result"
    }
   ],
   "source": [
    "hier.update_jobs()"
   ]
  },
  {
   "cell_type": "code",
   "execution_count": 17,
   "metadata": {},
   "outputs": [
    {
     "data": {
      "text/plain": [
       "{}"
      ]
     },
     "execution_count": 17,
     "metadata": {},
     "output_type": "execute_result"
    }
   ],
   "source": [
    "hier.jobs"
   ]
  },
  {
   "cell_type": "code",
   "execution_count": 9,
   "metadata": {},
   "outputs": [
    {
     "data": {
      "text/plain": [
       "{'level0': [level0.ret20_raw.ret20_raw]}"
      ]
     },
     "execution_count": 9,
     "metadata": {},
     "output_type": "execute_result"
    }
   ],
   "source": [
    "hier.hier"
   ]
  },
  {
   "cell_type": "code",
   "execution_count": 7,
   "metadata": {},
   "outputs": [
    {
     "data": {
      "text/plain": [
       "['level0 : ret20_raw']"
      ]
     },
     "execution_count": 7,
     "metadata": {},
     "output_type": "execute_result"
    }
   ],
   "source": [
    "[f'{level} : {factor_cls.__name__}' for level in hier.iter_levels() for factor_cls in hier.iter_factors(level)]"
   ]
  },
  {
   "cell_type": "code",
   "execution_count": 6,
   "metadata": {},
   "outputs": [],
   "source": [
    "from src.factor.factor_algorithm.behavior import ret20_raw"
   ]
  },
  {
   "cell_type": "code",
   "execution_count": 5,
   "metadata": {},
   "outputs": [
    {
     "data": {
      "text/plain": [
       "src.factor.factor_algorithm.definition.behavior.ret20_raw"
      ]
     },
     "execution_count": 5,
     "metadata": {},
     "output_type": "execute_result"
    }
   ],
   "source": [
    "beh.ret20_raw"
   ]
  },
  {
   "cell_type": "code",
   "execution_count": 16,
   "metadata": {},
   "outputs": [],
   "source": [
    "from pathlib import Path\n",
    "file_path = Path('./src/factor/factor_algorithm/definition/behavior.py').absolute()"
   ]
  },
  {
   "cell_type": "code",
   "execution_count": 19,
   "metadata": {},
   "outputs": [
    {
     "data": {
      "text/plain": [
       "'d:\\\\Coding\\\\learndl\\\\learndl\\\\src\\\\factor\\\\factor_algorithm\\\\definition\\\\behavior.py'"
      ]
     },
     "execution_count": 19,
     "metadata": {},
     "output_type": "execute_result"
    }
   ],
   "source": [
    "str(file_path)"
   ]
  },
  {
   "cell_type": "code",
   "execution_count": 20,
   "metadata": {},
   "outputs": [
    {
     "ename": "ModuleNotFoundError",
     "evalue": "No module named 'd:\\\\Coding\\\\learndl\\\\learndl\\\\src\\\\factor\\\\factor_algorithm\\\\definition\\\\behavior'",
     "output_type": "error",
     "traceback": [
      "\u001b[1;31m---------------------------------------------------------------------------\u001b[0m",
      "\u001b[1;31mModuleNotFoundError\u001b[0m                       Traceback (most recent call last)",
      "Cell \u001b[1;32mIn[20], line 1\u001b[0m\n\u001b[1;32m----> 1\u001b[0m module \u001b[38;5;241m=\u001b[39m \u001b[43mimportlib\u001b[49m\u001b[38;5;241;43m.\u001b[39;49m\u001b[43mimport_module\u001b[49m\u001b[43m(\u001b[49m\u001b[38;5;28;43mstr\u001b[39;49m\u001b[43m(\u001b[49m\u001b[43mfile_path\u001b[49m\u001b[43m)\u001b[49m\u001b[43m)\u001b[49m\n",
      "File \u001b[1;32mc:\\Users\\jinmeng\\AppData\\Local\\Programs\\Python\\Python311\\Lib\\importlib\\__init__.py:126\u001b[0m, in \u001b[0;36mimport_module\u001b[1;34m(name, package)\u001b[0m\n\u001b[0;32m    124\u001b[0m             \u001b[38;5;28;01mbreak\u001b[39;00m\n\u001b[0;32m    125\u001b[0m         level \u001b[38;5;241m+\u001b[39m\u001b[38;5;241m=\u001b[39m \u001b[38;5;241m1\u001b[39m\n\u001b[1;32m--> 126\u001b[0m \u001b[38;5;28;01mreturn\u001b[39;00m \u001b[43m_bootstrap\u001b[49m\u001b[38;5;241;43m.\u001b[39;49m\u001b[43m_gcd_import\u001b[49m\u001b[43m(\u001b[49m\u001b[43mname\u001b[49m\u001b[43m[\u001b[49m\u001b[43mlevel\u001b[49m\u001b[43m:\u001b[49m\u001b[43m]\u001b[49m\u001b[43m,\u001b[49m\u001b[43m \u001b[49m\u001b[43mpackage\u001b[49m\u001b[43m,\u001b[49m\u001b[43m \u001b[49m\u001b[43mlevel\u001b[49m\u001b[43m)\u001b[49m\n",
      "File \u001b[1;32m<frozen importlib._bootstrap>:1204\u001b[0m, in \u001b[0;36m_gcd_import\u001b[1;34m(name, package, level)\u001b[0m\n",
      "File \u001b[1;32m<frozen importlib._bootstrap>:1176\u001b[0m, in \u001b[0;36m_find_and_load\u001b[1;34m(name, import_)\u001b[0m\n",
      "File \u001b[1;32m<frozen importlib._bootstrap>:1126\u001b[0m, in \u001b[0;36m_find_and_load_unlocked\u001b[1;34m(name, import_)\u001b[0m\n",
      "File \u001b[1;32m<frozen importlib._bootstrap>:241\u001b[0m, in \u001b[0;36m_call_with_frames_removed\u001b[1;34m(f, *args, **kwds)\u001b[0m\n",
      "File \u001b[1;32m<frozen importlib._bootstrap>:1204\u001b[0m, in \u001b[0;36m_gcd_import\u001b[1;34m(name, package, level)\u001b[0m\n",
      "File \u001b[1;32m<frozen importlib._bootstrap>:1176\u001b[0m, in \u001b[0;36m_find_and_load\u001b[1;34m(name, import_)\u001b[0m\n",
      "File \u001b[1;32m<frozen importlib._bootstrap>:1140\u001b[0m, in \u001b[0;36m_find_and_load_unlocked\u001b[1;34m(name, import_)\u001b[0m\n",
      "\u001b[1;31mModuleNotFoundError\u001b[0m: No module named 'd:\\\\Coding\\\\learndl\\\\learndl\\\\src\\\\factor\\\\factor_algorithm\\\\definition\\\\behavior'"
     ]
    }
   ],
   "source": [
    "module = importlib.import_module(str(file_path))"
   ]
  },
  {
   "cell_type": "code",
   "execution_count": 7,
   "metadata": {},
   "outputs": [
    {
     "ename": "ImportError",
     "evalue": "attempted relative import with no known parent package",
     "output_type": "error",
     "traceback": [
      "\u001b[1;31m---------------------------------------------------------------------------\u001b[0m",
      "\u001b[1;31mImportError\u001b[0m                               Traceback (most recent call last)",
      "Cell \u001b[1;32mIn[7], line 14\u001b[0m\n\u001b[0;32m     12\u001b[0m \u001b[38;5;66;03m# 执行模块中的代码  \u001b[39;00m\n\u001b[0;32m     13\u001b[0m sys\u001b[38;5;241m.\u001b[39mmodules[module_name] \u001b[38;5;241m=\u001b[39m module  \n\u001b[1;32m---> 14\u001b[0m \u001b[43mspec\u001b[49m\u001b[38;5;241;43m.\u001b[39;49m\u001b[43mloader\u001b[49m\u001b[38;5;241;43m.\u001b[39;49m\u001b[43mexec_module\u001b[49m\u001b[43m(\u001b[49m\u001b[43mmodule\u001b[49m\u001b[43m)\u001b[49m  \n\u001b[0;32m     16\u001b[0m \u001b[38;5;66;03m# 现在你可以使用 module 来访问 behavior.py 中定义的内容\u001b[39;00m\n",
      "File \u001b[1;32m<frozen importlib._bootstrap_external>:940\u001b[0m, in \u001b[0;36mexec_module\u001b[1;34m(self, module)\u001b[0m\n",
      "File \u001b[1;32m<frozen importlib._bootstrap>:241\u001b[0m, in \u001b[0;36m_call_with_frames_removed\u001b[1;34m(f, *args, **kwds)\u001b[0m\n",
      "File \u001b[1;32md:\\Coding\\learndl\\learndl\\src\\factor\\factor_algorithm\\behavior.py:7\u001b[0m\n\u001b[0;32m      2\u001b[0m \u001b[38;5;28;01mimport\u001b[39;00m \u001b[38;5;21;01mpandas\u001b[39;00m \u001b[38;5;28;01mas\u001b[39;00m \u001b[38;5;21;01mpd\u001b[39;00m\n\u001b[0;32m      4\u001b[0m \u001b[38;5;66;03m# from src.factor.factor_algorithm.util import StockFactorCalculator\u001b[39;00m\n\u001b[0;32m      5\u001b[0m \u001b[38;5;66;03m# from src.data.tushare.basic import CALENDAR , TRADE_DATA , TradeDate\u001b[39;00m\n\u001b[1;32m----> 7\u001b[0m \u001b[38;5;28;01mfrom\u001b[39;00m \u001b[38;5;21;01m.\u001b[39;00m\u001b[38;5;21;01mutil\u001b[39;00m \u001b[38;5;28;01mimport\u001b[39;00m StockFactorCalculator\n\u001b[0;32m      8\u001b[0m \u001b[38;5;28;01mfrom\u001b[39;00m \u001b[38;5;21;01m.\u001b[39;00m\u001b[38;5;21;01m.\u001b[39;00m\u001b[38;5;21;01m.\u001b[39;00m\u001b[38;5;21;01mdata\u001b[39;00m\u001b[38;5;21;01m.\u001b[39;00m\u001b[38;5;21;01mtushare\u001b[39;00m\u001b[38;5;21;01m.\u001b[39;00m\u001b[38;5;21;01mbasic\u001b[39;00m \u001b[38;5;28;01mimport\u001b[39;00m CALENDAR , TRADE_DATA , TradeDate\n\u001b[0;32m     11\u001b[0m \u001b[38;5;28;01mclass\u001b[39;00m \u001b[38;5;21;01mret20_raw\u001b[39;00m(StockFactorCalculator):\n",
      "\u001b[1;31mImportError\u001b[0m: attempted relative import with no known parent package"
     ]
    }
   ],
   "source": [
    "import os  \n",
    "import importlib.util  \n",
    "import sys  \n",
    "  \n",
    "file_path = 'd:\\\\Coding\\\\learndl\\\\learndl\\\\src_api\\\\factor_algorithm\\\\behavior'  \n",
    "module_name = \"behavior\"  \n",
    "  \n",
    "# 创建模块的规格  \n",
    "spec = importlib.util.spec_from_file_location(module_name, file_path)  \n",
    "# 创建一个新的模块  \n",
    "module = importlib.util.module_from_spec(spec)  \n",
    "# 执行模块中的代码  \n",
    "sys.modules[module_name] = module  \n",
    "spec.loader.exec_module(module)  \n",
    "  \n",
    "# 现在你可以使用 module 来访问 behavior.py 中定义的内容"
   ]
  },
  {
   "cell_type": "code",
   "execution_count": 7,
   "metadata": {},
   "outputs": [
    {
     "ename": "TypeError",
     "evalue": "the 'package' argument is required to perform a relative import for './src/factor/factor_algorithm/definition\\\\behavior.py'",
     "output_type": "error",
     "traceback": [
      "\u001b[1;31m---------------------------------------------------------------------------\u001b[0m",
      "\u001b[1;31mTypeError\u001b[0m                                 Traceback (most recent call last)",
      "Cell \u001b[1;32mIn[7], line 22\u001b[0m\n\u001b[0;32m     16\u001b[0m file_path \u001b[38;5;241m=\u001b[39m os\u001b[38;5;241m.\u001b[39mpath\u001b[38;5;241m.\u001b[39mjoin(folder_path, filename)\n\u001b[0;32m     18\u001b[0m \u001b[38;5;66;03m# 动态导入模块\u001b[39;00m\n\u001b[0;32m     19\u001b[0m \u001b[38;5;66;03m#spec = importlib.util.spec_from_file_location(module_name, file_path)\u001b[39;00m\n\u001b[0;32m     20\u001b[0m \u001b[38;5;66;03m#module = importlib.util.module_from_spec(spec)\u001b[39;00m\n\u001b[0;32m     21\u001b[0m \u001b[38;5;66;03m#spec.loader.exec_module(module)\u001b[39;00m\n\u001b[1;32m---> 22\u001b[0m module \u001b[38;5;241m=\u001b[39m \u001b[43mimportlib\u001b[49m\u001b[38;5;241;43m.\u001b[39;49m\u001b[43mimport_module\u001b[49m\u001b[43m(\u001b[49m\u001b[43mfile_path\u001b[49m\u001b[43m)\u001b[49m\n\u001b[0;32m     24\u001b[0m \u001b[38;5;66;03m# 获取模块中的所有类\u001b[39;00m\n\u001b[0;32m     25\u001b[0m \u001b[38;5;28;01mfor\u001b[39;00m name, obj \u001b[38;5;129;01min\u001b[39;00m inspect\u001b[38;5;241m.\u001b[39mgetmembers(module, inspect\u001b[38;5;241m.\u001b[39misclass):\n\u001b[0;32m     26\u001b[0m     \u001b[38;5;66;03m# 确保类是定义在当前模块中，而不是导入的\u001b[39;00m\n",
      "File \u001b[1;32mc:\\Users\\jinmeng\\AppData\\Local\\Programs\\Python\\Python311\\Lib\\importlib\\__init__.py:121\u001b[0m, in \u001b[0;36mimport_module\u001b[1;34m(name, package)\u001b[0m\n\u001b[0;32m    118\u001b[0m \u001b[38;5;28;01mif\u001b[39;00m \u001b[38;5;129;01mnot\u001b[39;00m package:\n\u001b[0;32m    119\u001b[0m     msg \u001b[38;5;241m=\u001b[39m (\u001b[38;5;124m\"\u001b[39m\u001b[38;5;124mthe \u001b[39m\u001b[38;5;124m'\u001b[39m\u001b[38;5;124mpackage\u001b[39m\u001b[38;5;124m'\u001b[39m\u001b[38;5;124m argument is required to perform a relative \u001b[39m\u001b[38;5;124m\"\u001b[39m\n\u001b[0;32m    120\u001b[0m            \u001b[38;5;124m\"\u001b[39m\u001b[38;5;124mimport for \u001b[39m\u001b[38;5;132;01m{!r}\u001b[39;00m\u001b[38;5;124m\"\u001b[39m)\n\u001b[1;32m--> 121\u001b[0m     \u001b[38;5;28;01mraise\u001b[39;00m \u001b[38;5;167;01mTypeError\u001b[39;00m(msg\u001b[38;5;241m.\u001b[39mformat(name))\n\u001b[0;32m    122\u001b[0m \u001b[38;5;28;01mfor\u001b[39;00m character \u001b[38;5;129;01min\u001b[39;00m name:\n\u001b[0;32m    123\u001b[0m     \u001b[38;5;28;01mif\u001b[39;00m character \u001b[38;5;241m!=\u001b[39m \u001b[38;5;124m'\u001b[39m\u001b[38;5;124m.\u001b[39m\u001b[38;5;124m'\u001b[39m:\n",
      "\u001b[1;31mTypeError\u001b[0m: the 'package' argument is required to perform a relative import for './src/factor/factor_algorithm/definition\\\\behavior.py'"
     ]
    }
   ],
   "source": [
    "import os\n",
    "import importlib.util\n",
    "import inspect\n",
    "import sys\n",
    "\n",
    "folder_path = './src/factor/factor_algorithm/definition'\n",
    "classes = []\n",
    "\n",
    "# 将文件夹路径添加到 sys.path\n",
    "sys.path.append(folder_path)\n",
    "\n",
    "# 遍历文件夹中的所有文件\n",
    "for filename in os.listdir(folder_path):\n",
    "    if filename.endswith('.py'):\n",
    "        module_name = filename[:-3]  # 去掉 .py 后缀\n",
    "        file_path = os.path.join(folder_path, filename)\n",
    "        \n",
    "        # 动态导入模块\n",
    "        #spec = importlib.util.spec_from_file_location(module_name, file_path)\n",
    "        #module = importlib.util.module_from_spec(spec)\n",
    "        #spec.loader.exec_module(module)\n",
    "        module = importlib.import_module(file_path)\n",
    "        \n",
    "        # 获取模块中的所有类\n",
    "        for name, obj in inspect.getmembers(module, inspect.isclass):\n",
    "            # 确保类是定义在当前模块中，而不是导入的\n",
    "            if obj.__module__ == module_name:\n",
    "                classes.append(obj)\n",
    "\n",
    "# 从 sys.path 中移除文件夹路径\n",
    "sys.path.remove(folder_path)\n"
   ]
  },
  {
   "cell_type": "code",
   "execution_count": 6,
   "metadata": {},
   "outputs": [
    {
     "data": {
      "text/plain": [
       "'behavior'"
      ]
     },
     "execution_count": 6,
     "metadata": {},
     "output_type": "execute_result"
    }
   ],
   "source": [
    "module_name"
   ]
  },
  {
   "cell_type": "code",
   "execution_count": 5,
   "metadata": {},
   "outputs": [
    {
     "data": {
      "text/plain": [
       "'./src/factor/factor_algorithm/definition\\\\behavior.py'"
      ]
     },
     "execution_count": 5,
     "metadata": {},
     "output_type": "execute_result"
    }
   ],
   "source": [
    "file_path"
   ]
  },
  {
   "cell_type": "code",
   "execution_count": 3,
   "metadata": {},
   "outputs": [
    {
     "data": {
      "text/plain": [
       "['__name__',\n",
       " '__doc__',\n",
       " '__package__',\n",
       " '__loader__',\n",
       " '__spec__',\n",
       " '__file__',\n",
       " '__cached__',\n",
       " '__builtins__',\n",
       " 'np',\n",
       " 'pd']"
      ]
     },
     "execution_count": 3,
     "metadata": {},
     "output_type": "execute_result"
    }
   ],
   "source": [
    "module.__dir__()"
   ]
  },
  {
   "cell_type": "code",
   "execution_count": null,
   "metadata": {},
   "outputs": [],
   "source": []
  },
  {
   "cell_type": "code",
   "execution_count": 9,
   "metadata": {},
   "outputs": [
    {
     "name": "stdout",
     "output_type": "stream",
     "text": [
      "Factor:ret20_raw at date 20241025 already there\n",
      "Factor:ret20_raw at date 20241029 already there\n"
     ]
    },
    {
     "data": {
      "text/plain": [
       "StockFactor(name=ret20_raw,category0=behavior,category1=momentum,from=20070101)"
      ]
     },
     "execution_count": 9,
     "metadata": {},
     "output_type": "execute_result"
    }
   ],
   "source": [
    "from abc import ABC, abstractmethod\n",
    "from collections.abc import Iterable\n",
    "from typing import Any , final , Sequence\n",
    "import numpy as np\n",
    "import pandas as pd\n",
    "import datetime\n",
    "\n",
    "from pathlib import Path\n",
    "from src.basic import PATH\n",
    "\n",
    "from src.data.tushare.basic import CALENDAR , TRADE_DATA , TradeDate\n",
    "from src.data.loader import DATAVENDOR\n",
    "from src.func.time import today\n",
    "\n",
    "\n",
    "class StockFactorCalculator(ABC):\n",
    "    INIT_DATE = 20070101\n",
    "\n",
    "    @final\n",
    "    def __init__(self):\n",
    "        self.assign_attr()\n",
    "        self.validate_attr()\n",
    "        self.factors : dict[int , pd.DataFrame] = {}\n",
    "\n",
    "    def __repr__(self):\n",
    "        return f'StockFactor(name={self.factor_name},category0={self.category0},category1={self.category1},from={self.init_date})'\n",
    "\n",
    "    @property\n",
    "    def factor_name(self):\n",
    "        return self.__class__.__name__\n",
    "    \n",
    "    @property\n",
    "    def factor_folder(self):\n",
    "        return Path(f'{PATH.factor}/{self.category0}/{self.category1}/{self.factor_name}')\n",
    "    \n",
    "    @property\n",
    "    def factor_values(self):\n",
    "        return pd.concat([df.assign(date = d) for d , df in self.factors.items()]).reset_index().set_index(['date','secid'])\n",
    "\n",
    "    def factor_path(self , date : int | Any , mkdir = True):\n",
    "        path = self.factor_folder.joinpath(f'{int(date) // 10000}/{self.factor_name}.{int(date)}.feather')\n",
    "        if mkdir: path.parent.mkdir(parents=True , exist_ok=True)\n",
    "        return path\n",
    "    \n",
    "    @abstractmethod\n",
    "    def assign_attr(self) -> None:\n",
    "        '''set attribute of factor_data'''\n",
    "        self.init_date : int = -1\n",
    "        self.category0 : str = '' # 'fundamental' , 'analyst' , 'high_frequency' , 'behavior' , 'money_flow' , 'alternative'\n",
    "        self.category1 : str = ''\n",
    "        self.description : str = ''\n",
    "    \n",
    "    @abstractmethod\n",
    "    def calc_factor(self , date : int) -> pd.DataFrame:\n",
    "        '''calculate factor value , must have secid and factor_value / factor_name columns'''\n",
    "        return pd.DataFrame()\n",
    "    \n",
    "    @final\n",
    "    def validate_attr(self):\n",
    "        '''validate attribute of factor'''\n",
    "        assert self.init_date >= self.INIT_DATE , f'init_date should be later than {self.INIT_DATE} , but got {self.init_date}'\n",
    "\n",
    "        assert self.category0 in ['fundamental' , 'analyst' , 'high_frequency' , 'behavior' , 'money_flow' , 'alternative'] , \\\n",
    "            f'category0 is should be in [fundamental , analyst , high_frequency , behavior , money_flow , alternative], but got {self.category0}'\n",
    "        \n",
    "        category1_list = {\n",
    "            'fundamental' : ['quality' , 'growth' , 'value' , 'earning'] ,\n",
    "            'analyst' : ['surprise' , 'coverage' , 'forecast' , 'adjustment'] ,\n",
    "            'high_frequency' : ['hf_momentum' , 'hf_volatility' , 'hf_correlation' , 'hf_liquidity'] ,\n",
    "            'behavior' : ['momentum' , 'volatility' , 'correlation' , 'liquidity'] ,\n",
    "            'money_flow' : ['holding' , 'trading'] ,\n",
    "            'alternative' : None\n",
    "        }[self.category0]\n",
    "        \n",
    "        if category1_list is not None:\n",
    "            assert self.category1 in category1_list , \\\n",
    "                f'category1 is should be in {category1_list}, but got {self.category1}'\n",
    "        else:\n",
    "            assert self.category1 , 'category1 is not set'\n",
    "        \n",
    "        assert self.description , 'description is not set'\n",
    "\n",
    "        return self\n",
    "    \n",
    "    @final\n",
    "    def validate_value(self , date : int , df : pd.DataFrame , strict = False):\n",
    "        '''validate factor value'''\n",
    "\n",
    "        assert 20991231 >= date >= self.init_date , \\\n",
    "            f'calc_date is should be in [{self.init_date} , 20991231], but got {date}'\n",
    "\n",
    "        mininum_finite_count = 100 if strict else 0\n",
    "        actual_finite_count = np.isfinite(df[self.factor_name].to_numpy()).sum()\n",
    "        if actual_finite_count < mininum_finite_count:\n",
    "            raise ValueError(f'factor_value must have at least {mininum_finite_count} finite values , but got {actual_finite_count}')\n",
    "        \n",
    "        return self\n",
    "\n",
    "    def calculate(self , date : int | Iterable | Any , overwrite = False):\n",
    "        '''calculate factor value of a given date and store to factor_data'''\n",
    "        if isinstance(date , Iterable):\n",
    "            for d in date: self.calculate(d , overwrite)\n",
    "        else:\n",
    "            date = int(date)\n",
    "            assert date >= self.init_date , f'date is should be greater than or equal to {self.init_date}, but got {date}'\n",
    "            if overwrite or date not in self.factors: \n",
    "                df = self.calc_factor(date).reset_index().set_index('secid').\\\n",
    "                    rename(columns={'factor_value':self.factor_name})[[self.factor_name]]\n",
    "                self.factors[date] = df\n",
    "        return self\n",
    "\n",
    "    def deploy(self , strict = True , overwrite = False , show_progress = False):\n",
    "        '''store factor data after calculate'''\n",
    "        dates = list(self.factors.keys())\n",
    "        for date in dates:\n",
    "            df = self.factors.pop(date)\n",
    "            path = self.factor_path(date , True)\n",
    "            if path.exists() and not overwrite: \n",
    "                if show_progress: print(f'Factor:{self.factor_name} at date {date} already there')\n",
    "                continue\n",
    "            try:\n",
    "                self.validate_value(date , df , strict = strict)\n",
    "                df.to_feather(self.factor_path(date , True))\n",
    "                if show_progress: print(f'Factor:{self.factor_name} at date {date} deploy successful')\n",
    "            except ValueError as e:\n",
    "                print(f'Factor:{self.factor_name} at date {date} is invalid: {e}')\n",
    "\n",
    "        return self\n",
    "\n",
    "    def load(self, date : int | Iterable | Any):\n",
    "        '''load factor data from storage'''\n",
    "        if isinstance(date , Iterable):\n",
    "            dfs = {int(d):self.load(d) for d in date}\n",
    "            dfs = [df.assign(date = d) for d , df in dfs.items() if isinstance(df , pd.DataFrame)]\n",
    "            if dfs:\n",
    "                return pd.concat(dfs).reset_index().set_index(['date','secid'])\n",
    "            else:\n",
    "                return None\n",
    "        else:\n",
    "            if date in self.factors: return self.factors[int(date)]\n",
    "            factor_path = self.factor_path(date = date)\n",
    "            if factor_path.exists():\n",
    "                return pd.read_feather(factor_path)\n",
    "            else:\n",
    "                return None\n",
    "\n",
    "    def stored_dates(self):\n",
    "        paths = PATH.list_files(self.factor_folder , recur=True)\n",
    "        dates = np.array(sorted(PATH.R_path_date(paths)) , dtype=int)\n",
    "        return dates\n",
    "\n",
    "    def Update(self , start : int = -1 , end : int = 99991231):\n",
    "        '''update factor data from self.init_date to today'''\n",
    "        store_dates = self.stored_dates()\n",
    "        dates = np.setdiff1d(CALENDAR.td_within(max(start , self.init_date) , end) , store_dates)\n",
    "\n",
    "        if len(dates):\n",
    "            for date in dates: \n",
    "                self.calculate(date).deploy()\n",
    "            print(f'Factor:{self.factor_name} update finish : {dates[0]} - {dates[-1]}')\n",
    "\n",
    "# subclass of StockFactorCalculator\n",
    "class ret20_raw(StockFactorCalculator):\n",
    "    def assign_attr(self):\n",
    "        self.init_date = 20070101\n",
    "        self.category0 = 'behavior'\n",
    "        self.category1 = 'momentum'\n",
    "        self.description = 'raw return of 20 days'\n",
    "\n",
    "    def calc_factor(self , date : int):\n",
    "        ret = TRADE_DATA.get_rets(TradeDate(date) - 19 , date)\n",
    "        df = (np.exp(np.log(ret + 1).sum(axis = 0)) - 1).rename('factor_value').to_frame()\n",
    "        return df\n",
    "\n",
    "f = ret20_raw()\n",
    "f.calculate([20241025,20241029]).deploy(show_progress=True)\n"
   ]
  },
  {
   "cell_type": "code",
   "execution_count": 12,
   "metadata": {},
   "outputs": [
    {
     "data": {
      "text/html": [
       "<div>\n",
       "<style scoped>\n",
       "    .dataframe tbody tr th:only-of-type {\n",
       "        vertical-align: middle;\n",
       "    }\n",
       "\n",
       "    .dataframe tbody tr th {\n",
       "        vertical-align: top;\n",
       "    }\n",
       "\n",
       "    .dataframe thead th {\n",
       "        text-align: right;\n",
       "    }\n",
       "</style>\n",
       "<table border=\"1\" class=\"dataframe\">\n",
       "  <thead>\n",
       "    <tr style=\"text-align: right;\">\n",
       "      <th></th>\n",
       "      <th></th>\n",
       "      <th>ret20_raw</th>\n",
       "    </tr>\n",
       "    <tr>\n",
       "      <th>date</th>\n",
       "      <th>secid</th>\n",
       "      <th></th>\n",
       "    </tr>\n",
       "  </thead>\n",
       "  <tbody>\n",
       "    <tr>\n",
       "      <th rowspan=\"5\" valign=\"top\">20241024</th>\n",
       "      <th>1</th>\n",
       "      <td>0.223953</td>\n",
       "    </tr>\n",
       "    <tr>\n",
       "      <th>2</th>\n",
       "      <td>0.347119</td>\n",
       "    </tr>\n",
       "    <tr>\n",
       "      <th>4</th>\n",
       "      <td>0.683492</td>\n",
       "    </tr>\n",
       "    <tr>\n",
       "      <th>6</th>\n",
       "      <td>0.873834</td>\n",
       "    </tr>\n",
       "    <tr>\n",
       "      <th>7</th>\n",
       "      <td>0.250922</td>\n",
       "    </tr>\n",
       "    <tr>\n",
       "      <th>...</th>\n",
       "      <th>...</th>\n",
       "      <td>...</td>\n",
       "    </tr>\n",
       "    <tr>\n",
       "      <th rowspan=\"5\" valign=\"top\">20241025</th>\n",
       "      <th>920008</th>\n",
       "      <td>1.628814</td>\n",
       "    </tr>\n",
       "    <tr>\n",
       "      <th>920016</th>\n",
       "      <td>0.550515</td>\n",
       "    </tr>\n",
       "    <tr>\n",
       "      <th>920019</th>\n",
       "      <td>5.254042</td>\n",
       "    </tr>\n",
       "    <tr>\n",
       "      <th>920099</th>\n",
       "      <td>0.763158</td>\n",
       "    </tr>\n",
       "    <tr>\n",
       "      <th>920118</th>\n",
       "      <td>0.545724</td>\n",
       "    </tr>\n",
       "  </tbody>\n",
       "</table>\n",
       "<p>10715 rows × 1 columns</p>\n",
       "</div>"
      ],
      "text/plain": [
       "                 ret20_raw\n",
       "date     secid            \n",
       "20241024 1        0.223953\n",
       "         2        0.347119\n",
       "         4        0.683492\n",
       "         6        0.873834\n",
       "         7        0.250922\n",
       "...                    ...\n",
       "20241025 920008   1.628814\n",
       "         920016   0.550515\n",
       "         920019   5.254042\n",
       "         920099   0.763158\n",
       "         920118   0.545724\n",
       "\n",
       "[10715 rows x 1 columns]"
      ]
     },
     "execution_count": 12,
     "metadata": {},
     "output_type": "execute_result"
    }
   ],
   "source": [
    "f.load([20241024,20241025])"
   ]
  },
  {
   "cell_type": "code",
   "execution_count": 8,
   "metadata": {},
   "outputs": [
    {
     "data": {
      "text/plain": [
       "array([20241024, 20241025, 20241028, 20241029, 20241030])"
      ]
     },
     "execution_count": 8,
     "metadata": {},
     "output_type": "execute_result"
    }
   ],
   "source": [
    "f.stored_dates()"
   ]
  },
  {
   "cell_type": "code",
   "execution_count": 9,
   "metadata": {},
   "outputs": [
    {
     "name": "stdout",
     "output_type": "stream",
     "text": [
      "1\n",
      "2\n"
     ]
    },
    {
     "data": {
      "text/plain": [
       "{}"
      ]
     },
     "execution_count": 9,
     "metadata": {},
     "output_type": "execute_result"
    }
   ],
   "source": [
    "a = {'a' : 1 , 'b' : 2}\n",
    "keys = list(a.keys())\n",
    "\n",
    "[print(a.pop(k)) for k in keys]\n",
    "\n",
    "a"
   ]
  },
  {
   "cell_type": "code",
   "execution_count": 3,
   "metadata": {},
   "outputs": [
    {
     "data": {
      "text/html": [
       "<div>\n",
       "<style scoped>\n",
       "    .dataframe tbody tr th:only-of-type {\n",
       "        vertical-align: middle;\n",
       "    }\n",
       "\n",
       "    .dataframe tbody tr th {\n",
       "        vertical-align: top;\n",
       "    }\n",
       "\n",
       "    .dataframe thead th {\n",
       "        text-align: right;\n",
       "    }\n",
       "</style>\n",
       "<table border=\"1\" class=\"dataframe\">\n",
       "  <thead>\n",
       "    <tr style=\"text-align: right;\">\n",
       "      <th></th>\n",
       "      <th></th>\n",
       "      <th>ret20_raw</th>\n",
       "    </tr>\n",
       "    <tr>\n",
       "      <th>date</th>\n",
       "      <th>secid</th>\n",
       "      <th></th>\n",
       "    </tr>\n",
       "  </thead>\n",
       "  <tbody>\n",
       "    <tr>\n",
       "      <th rowspan=\"11\" valign=\"top\">20241029</th>\n",
       "      <th>1</th>\n",
       "      <td>0.137164</td>\n",
       "    </tr>\n",
       "    <tr>\n",
       "      <th>2</th>\n",
       "      <td>0.282302</td>\n",
       "    </tr>\n",
       "    <tr>\n",
       "      <th>4</th>\n",
       "      <td>0.303810</td>\n",
       "    </tr>\n",
       "    <tr>\n",
       "      <th>6</th>\n",
       "      <td>1.259685</td>\n",
       "    </tr>\n",
       "    <tr>\n",
       "      <th>7</th>\n",
       "      <td>0.245044</td>\n",
       "    </tr>\n",
       "    <tr>\n",
       "      <th>...</th>\n",
       "      <td>...</td>\n",
       "    </tr>\n",
       "    <tr>\n",
       "      <th>920016</th>\n",
       "      <td>0.515279</td>\n",
       "    </tr>\n",
       "    <tr>\n",
       "      <th>920019</th>\n",
       "      <td>5.473437</td>\n",
       "    </tr>\n",
       "    <tr>\n",
       "      <th>920088</th>\n",
       "      <td>3.972678</td>\n",
       "    </tr>\n",
       "    <tr>\n",
       "      <th>920099</th>\n",
       "      <td>0.852632</td>\n",
       "    </tr>\n",
       "    <tr>\n",
       "      <th>920118</th>\n",
       "      <td>0.664867</td>\n",
       "    </tr>\n",
       "  </tbody>\n",
       "</table>\n",
       "<p>5360 rows × 1 columns</p>\n",
       "</div>"
      ],
      "text/plain": [
       "                 ret20_raw\n",
       "date     secid            \n",
       "20241029 1        0.137164\n",
       "         2        0.282302\n",
       "         4        0.303810\n",
       "         6        1.259685\n",
       "         7        0.245044\n",
       "...                    ...\n",
       "         920016   0.515279\n",
       "         920019   5.473437\n",
       "         920088   3.972678\n",
       "         920099   0.852632\n",
       "         920118   0.664867\n",
       "\n",
       "[5360 rows x 1 columns]"
      ]
     },
     "execution_count": 3,
     "metadata": {},
     "output_type": "execute_result"
    }
   ],
   "source": [
    "f.factor_values"
   ]
  },
  {
   "cell_type": "code",
   "execution_count": 5,
   "metadata": {},
   "outputs": [
    {
     "ename": "NameError",
     "evalue": "name 'np' is not defined",
     "output_type": "error",
     "traceback": [
      "\u001b[1;31m---------------------------------------------------------------------------\u001b[0m",
      "\u001b[1;31mNameError\u001b[0m                                 Traceback (most recent call last)",
      "Cell \u001b[1;32mIn[5], line 4\u001b[0m\n\u001b[0;32m      2\u001b[0m date \u001b[38;5;241m=\u001b[39m \u001b[38;5;241m20241029\u001b[39m\n\u001b[0;32m      3\u001b[0m ret \u001b[38;5;241m=\u001b[39m TRADE_DATA\u001b[38;5;241m.\u001b[39mget_rets(\u001b[38;5;28mint\u001b[39m(TradeDate(date) \u001b[38;5;241m-\u001b[39m \u001b[38;5;241m19\u001b[39m) , date)\n\u001b[1;32m----> 4\u001b[0m ret\u001b[38;5;241m.\u001b[39mapply(\u001b[43mnp\u001b[49m\u001b[38;5;241m.\u001b[39msum , axis \u001b[38;5;241m=\u001b[39m \u001b[38;5;241m0\u001b[39m)\n",
      "\u001b[1;31mNameError\u001b[0m: name 'np' is not defined"
     ]
    }
   ],
   "source": [
    "from src.data.tushare.basic import TRADE_DATA , TradeDate\n",
    "date = 20241029\n",
    "ret = TRADE_DATA.get_rets(int(TradeDate(date) - 19) , date)\n",
    "\n"
   ]
  },
  {
   "cell_type": "code",
   "execution_count": 26,
   "metadata": {},
   "outputs": [
    {
     "data": {
      "text/html": [
       "<div>\n",
       "<style scoped>\n",
       "    .dataframe tbody tr th:only-of-type {\n",
       "        vertical-align: middle;\n",
       "    }\n",
       "\n",
       "    .dataframe tbody tr th {\n",
       "        vertical-align: top;\n",
       "    }\n",
       "\n",
       "    .dataframe thead th {\n",
       "        text-align: right;\n",
       "    }\n",
       "</style>\n",
       "<table border=\"1\" class=\"dataframe\">\n",
       "  <thead>\n",
       "    <tr style=\"text-align: right;\">\n",
       "      <th></th>\n",
       "      <th>try</th>\n",
       "    </tr>\n",
       "    <tr>\n",
       "      <th>secid</th>\n",
       "      <th></th>\n",
       "    </tr>\n",
       "  </thead>\n",
       "  <tbody>\n",
       "    <tr>\n",
       "      <th>1</th>\n",
       "      <td>0.137164</td>\n",
       "    </tr>\n",
       "    <tr>\n",
       "      <th>2</th>\n",
       "      <td>0.282302</td>\n",
       "    </tr>\n",
       "    <tr>\n",
       "      <th>4</th>\n",
       "      <td>0.303810</td>\n",
       "    </tr>\n",
       "    <tr>\n",
       "      <th>6</th>\n",
       "      <td>1.259685</td>\n",
       "    </tr>\n",
       "    <tr>\n",
       "      <th>7</th>\n",
       "      <td>0.245044</td>\n",
       "    </tr>\n",
       "    <tr>\n",
       "      <th>...</th>\n",
       "      <td>...</td>\n",
       "    </tr>\n",
       "    <tr>\n",
       "      <th>920016</th>\n",
       "      <td>0.515279</td>\n",
       "    </tr>\n",
       "    <tr>\n",
       "      <th>920019</th>\n",
       "      <td>5.473437</td>\n",
       "    </tr>\n",
       "    <tr>\n",
       "      <th>920088</th>\n",
       "      <td>3.972678</td>\n",
       "    </tr>\n",
       "    <tr>\n",
       "      <th>920099</th>\n",
       "      <td>0.852632</td>\n",
       "    </tr>\n",
       "    <tr>\n",
       "      <th>920118</th>\n",
       "      <td>0.664867</td>\n",
       "    </tr>\n",
       "  </tbody>\n",
       "</table>\n",
       "<p>5360 rows × 1 columns</p>\n",
       "</div>"
      ],
      "text/plain": [
       "             try\n",
       "secid           \n",
       "1       0.137164\n",
       "2       0.282302\n",
       "4       0.303810\n",
       "6       1.259685\n",
       "7       0.245044\n",
       "...          ...\n",
       "920016  0.515279\n",
       "920019  5.473437\n",
       "920088  3.972678\n",
       "920099  0.852632\n",
       "920118  0.664867\n",
       "\n",
       "[5360 rows x 1 columns]"
      ]
     },
     "execution_count": 26,
     "metadata": {},
     "output_type": "execute_result"
    }
   ],
   "source": [
    "import numpy as np\n",
    "import pandas as pd\n",
    "\n",
    "factor_name = 'try'\n",
    "df = (np.exp(np.log(ret + 1).sum(axis = 0)) - 1).rename('factor_value').to_frame().reset_index().set_index('secid').\\\n",
    "     rename(columns={'factor_value':factor_name})[[factor_name]]\n",
    "df\n"
   ]
  },
  {
   "cell_type": "code",
   "execution_count": 24,
   "metadata": {},
   "outputs": [
    {
     "data": {
      "text/html": [
       "<div>\n",
       "<style scoped>\n",
       "    .dataframe tbody tr th:only-of-type {\n",
       "        vertical-align: middle;\n",
       "    }\n",
       "\n",
       "    .dataframe tbody tr th {\n",
       "        vertical-align: top;\n",
       "    }\n",
       "\n",
       "    .dataframe thead th {\n",
       "        text-align: right;\n",
       "    }\n",
       "</style>\n",
       "<table border=\"1\" class=\"dataframe\">\n",
       "  <thead>\n",
       "    <tr style=\"text-align: right;\">\n",
       "      <th></th>\n",
       "      <th>factor_value</th>\n",
       "    </tr>\n",
       "    <tr>\n",
       "      <th>secid</th>\n",
       "      <th></th>\n",
       "    </tr>\n",
       "  </thead>\n",
       "  <tbody>\n",
       "    <tr>\n",
       "      <th>1</th>\n",
       "      <td>0.137164</td>\n",
       "    </tr>\n",
       "    <tr>\n",
       "      <th>2</th>\n",
       "      <td>0.282302</td>\n",
       "    </tr>\n",
       "    <tr>\n",
       "      <th>4</th>\n",
       "      <td>0.303810</td>\n",
       "    </tr>\n",
       "    <tr>\n",
       "      <th>6</th>\n",
       "      <td>1.259685</td>\n",
       "    </tr>\n",
       "    <tr>\n",
       "      <th>7</th>\n",
       "      <td>0.245044</td>\n",
       "    </tr>\n",
       "    <tr>\n",
       "      <th>...</th>\n",
       "      <td>...</td>\n",
       "    </tr>\n",
       "    <tr>\n",
       "      <th>920016</th>\n",
       "      <td>0.515279</td>\n",
       "    </tr>\n",
       "    <tr>\n",
       "      <th>920019</th>\n",
       "      <td>5.473437</td>\n",
       "    </tr>\n",
       "    <tr>\n",
       "      <th>920088</th>\n",
       "      <td>3.972678</td>\n",
       "    </tr>\n",
       "    <tr>\n",
       "      <th>920099</th>\n",
       "      <td>0.852632</td>\n",
       "    </tr>\n",
       "    <tr>\n",
       "      <th>920118</th>\n",
       "      <td>0.664867</td>\n",
       "    </tr>\n",
       "  </tbody>\n",
       "</table>\n",
       "<p>5360 rows × 1 columns</p>\n",
       "</div>"
      ],
      "text/plain": [
       "        factor_value\n",
       "secid               \n",
       "1           0.137164\n",
       "2           0.282302\n",
       "4           0.303810\n",
       "6           1.259685\n",
       "7           0.245044\n",
       "...              ...\n",
       "920016      0.515279\n",
       "920019      5.473437\n",
       "920088      3.972678\n",
       "920099      0.852632\n",
       "920118      0.664867\n",
       "\n",
       "[5360 rows x 1 columns]"
      ]
     },
     "execution_count": 24,
     "metadata": {},
     "output_type": "execute_result"
    }
   ],
   "source": [
    "df"
   ]
  }
 ],
 "metadata": {
  "kernelspec": {
   "display_name": "Python 3",
   "language": "python",
   "name": "python3"
  },
  "language_info": {
   "codemirror_mode": {
    "name": "ipython",
    "version": 3
   },
   "file_extension": ".py",
   "mimetype": "text/x-python",
   "name": "python",
   "nbconvert_exporter": "python",
   "pygments_lexer": "ipython3",
   "version": "3.11.8"
  }
 },
 "nbformat": 4,
 "nbformat_minor": 2
}
