{
 "cells": [
  {
   "cell_type": "code",
   "execution_count": 1,
   "metadata": {},
   "outputs": [
    {
     "name": "stdout",
     "output_type": "stream",
     "text": [
      "Basic module imported!\n",
      "INSTANCE_RECORD can be accessed to check trainer , account or else...\n",
      "Getting random factor values...\n",
      "Running factor test for 2 factors in BM [defaults], write_down=True, display_figs=False\n",
      "FactorPerfManager calc Finished!\n",
      "FactorPerfManager plot Finished!\n",
      "Analytic Test of Factor Performance datas are saved to D:\\Coding\\learndl\\learndl\\results\\test\\perf\\random_factor\\data.xlsx\n",
      "Analytic Test of Factor Performance plots are saved to D:\\Coding\\learndl\\learndl\\results\\test\\perf\\random_factor\\plot.pdf\n"
     ]
    }
   ],
   "source": [
    "from src.api.factor import FactorAPI\n",
    "app = FactorAPI.Test.FactorPerf(end_dt = 20240131)"
   ]
  },
  {
   "cell_type": "code",
   "execution_count": 2,
   "metadata": {},
   "outputs": [
    {
     "name": "stdout",
     "output_type": "stream",
     "text": [
      "Getting random factor values...\n",
      "Running optim test for 2 factors in BM [defaults], write_down=True, display_figs=False\n",
      "Optimization of PortfolioBuilderGroup(2 alphas , 3 benchmarks , 2 lags , 1 param_groups , 5 dates , (60 builds) start!\n",
      "Optimization of    0th [Fmp.factor1.csi300.Optim.lag0 ] Finished at 20240102 , time cost (ms) : {'parse_input': 415.23, 'solve': 138.93, 'output': 11.02}\n",
      "Optimization of   50th [Fmp.factor1.csi1000.Optim.lag0] Finished at 20240130 , time cost (ms) : {'parse_input': 33.35, 'solve': 225.04, 'output': 24.92}\n",
      "Group Optimization Finished , Total time: 15.32 secs, each optim time: 0.26\n",
      "Group Accounting Finished , Total time: 2.93 secs.\n",
      "FmpOptimManager calc Finished!\n",
      "FmpOptimManager plot Finished!\n",
      "Analytic Test of Optim Portfolio datas are saved to D:\\Coding\\learndl\\learndl\\results\\test\\optim\\random_factor\\data.xlsx\n",
      "Analytic Test of Optim Portfolio plots are saved to D:\\Coding\\learndl\\learndl\\results\\test\\optim\\random_factor\\plot.pdf\n"
     ]
    }
   ],
   "source": [
    "from src.api.factor import FactorAPI\n",
    "app = FactorAPI.Test.FmpOptim(start_dt=20240101 , end_dt = 20240131 , prob_type = 'linprog')\n"
   ]
  },
  {
   "cell_type": "code",
   "execution_count": 3,
   "metadata": {},
   "outputs": [
    {
     "name": "stdout",
     "output_type": "stream",
     "text": [
      "Getting random factor values...\n",
      "Running top test for 2 factors in BM [defaults], write_down=True, display_figs=False\n",
      "Generation of PortfolioBuilderGroup(2 alphas , 3 benchmarks , 1 lags , 4 param_groups , 5 dates , (120 builds) start!\n",
      "Generation of    0th [Fmp.factor1.csi300.Top 20.lag0 ] Finished at 20240102 , time cost (ms) : {'parse_input': 0.0, 'solve': 27.52, 'output': 18.0}\n",
      "Generation of   50th [Fmp.factor1.csi300.Top 50.lag0 ] Finished at 20240116 , time cost (ms) : {'parse_input': 0.0, 'solve': 33.29, 'output': 16.62}\n",
      "Generation of  100th [Fmp.factor1.csi500.Top 20.lag0 ] Finished at 20240130 , time cost (ms) : {'parse_input': 0.0, 'solve': 17.15, 'output': 30.39}\n",
      "Group Generation Finished , Total time: 6.76 secs, each optim time: 0.06\n",
      "Group Accounting Finished , Total time: 9.36 secs.\n",
      "FmpTopManager calc Finished!\n",
      "FmpTopManager plot Finished!\n",
      "Analytic Test of Top Portfolio datas are saved to D:\\Coding\\learndl\\learndl\\results\\test\\top\\random_factor\\data.xlsx\n",
      "Analytic Test of Top Portfolio plots are saved to D:\\Coding\\learndl\\learndl\\results\\test\\top\\random_factor\\plot.pdf\n"
     ]
    }
   ],
   "source": [
    "from src.api.factor import FactorAPI\n",
    "app = FactorAPI.Test.FmpTop(end_dt = 20240131)"
   ]
  },
  {
   "cell_type": "code",
   "execution_count": 1,
   "metadata": {},
   "outputs": [
    {
     "name": "stdout",
     "output_type": "stream",
     "text": [
      "Basic module imported!\n",
      "INSTANCE_RECORD can be accessed to check trainer , account or else...\n"
     ]
    },
    {
     "data": {
      "text/plain": [
       "(array([20241104, 20241105, 20241106, 20241107, 20241108, 20241111,\n",
       "        20241112, 20241113, 20241114, 20241115, 20241118, 20241119,\n",
       "        20241120, 20241121, 20241122, 20241125]),\n",
       " array([20170103, 20170704, 20171226, 20180627, 20181220, 20190624,\n",
       "        20191217, 20200617, 20201214, 20210615, 20211209, 20220613,\n",
       "        20221206, 20230606, 20231201, 20240604]))"
      ]
     },
     "execution_count": 1,
     "metadata": {},
     "output_type": "execute_result"
    }
   ],
   "source": [
    "import src\n",
    "from src.basic import RegisteredModel\n",
    "model = RegisteredModel.SelectModels()[0]\n",
    "model.pred_dates , model.model_dates"
   ]
  }
 ],
 "metadata": {
  "kernelspec": {
   "display_name": "Python 3",
   "language": "python",
   "name": "python3"
  },
  "language_info": {
   "codemirror_mode": {
    "name": "ipython",
    "version": 3
   },
   "file_extension": ".py",
   "mimetype": "text/x-python",
   "name": "python",
   "nbconvert_exporter": "python",
   "pygments_lexer": "ipython3",
   "version": "3.11.8"
  }
 },
 "nbformat": 4,
 "nbformat_minor": 2
}
