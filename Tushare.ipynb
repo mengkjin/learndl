{
 "cells": [
  {
   "cell_type": "code",
   "execution_count": 37,
   "metadata": {},
   "outputs": [],
   "source": [
    "import tushare as ts\n",
    "from typing import Any\n",
    "\n",
    "import numpy as np\n",
    "import pandas as pd\n",
    "\n",
    "pro = ts.pro_api('2026c96ef5fa7fc3241c96baafd638c585284c7fefaa00b93ef0a62c')\n",
    "\n",
    "def code_to_secid(df : pd.DataFrame , code_col = 'ts_code' , retain = False):\n",
    "    '''switch old symbol into secid'''\n",
    "    if code_col not in df.columns.values: return df\n",
    "    replace_dict = {'T00018' : '600018'}\n",
    "    df['secid'] = df[code_col].astype(str).str.slice(0, 6).replace(replace_dict)\n",
    "    df['secid'] = df['secid'].where(df['secid'].str.isdigit() , '-1').astype(int)\n",
    "    if not retain: del df[code_col]\n",
    "    return df"
   ]
  },
  {
   "cell_type": "code",
   "execution_count": 1,
   "metadata": {},
   "outputs": [
    {
     "name": "stdout",
     "output_type": "stream",
     "text": [
      "Calendar Already Updated at 20240702\n",
      "Description Already Updated at 20240702\n",
      "SWIndustry Already Updated at 20240702\n",
      "THSConcept Already Updated at 20240702\n"
     ]
    }
   ],
   "source": [
    "from src.data.fetcher.tushare.task import main\n",
    "main()"
   ]
  },
  {
   "cell_type": "code",
   "execution_count": 33,
   "metadata": {},
   "outputs": [],
   "source": [
    "# 导入tushare\n",
    "import tushare as ts\n",
    "import numpy as np\n",
    "import pandas as pd\n",
    "\n",
    "from typing import Any , Literal\n",
    "from abc import abstractmethod , ABC\n",
    "\n",
    "from src.data.basic import DB_BY_DATE , DB_BY_NAME , get_target_path , get_source_dates , get_target_dates , save_df\n",
    "\n",
    "class _TS_Date(ABC):\n",
    "    UPDATE_FREQ : Literal['d' , 'w' , 'm'] = 'd'\n",
    "    def __init__(self) -> None:\n",
    "        assert self.get_db_src_key()[0] in DB_BY_DATE\n",
    "    \n",
    "    @abstractmethod\n",
    "    def get_data(self , date : int , *args , **kwargs) -> pd.DataFrame: ... \n",
    "\n",
    "    @abstractmethod\n",
    "    def get_db_src_key(self) -> tuple[str,str]:\n",
    "        '''return db_src and db_key'''\n",
    "        db_src = ''\n",
    "        db_key = ''\n",
    "        return db_src , db_key\n",
    "    \n",
    "    def target_path(self , date : int , makedir = False):\n",
    "        return get_target_path(*self.get_db_src_key() , date = date , makedir=makedir)\n",
    "\n",
    "    def fetch_and_save(self , date : int , *args , **kwargs):\n",
    "        print('Updating {}/{} at {}'.format(*self.get_db_src_key() , date))\n",
    "        save_df(self.get_data(date) , self.target_path(date , True))\n",
    "\n",
    "class TS_Concept(_TS_Date):\n",
    "    UPDATE_FREQ = 'm'\n",
    "    \n",
    "    def get_data(self , date : int):\n",
    "        df_theme = pd.concat([pro.ths_index(exchange = 'A', type = 'N') , \n",
    "                              pro.ths_index(exchange = 'A', type = 'TH')]).reset_index(drop=True)\n",
    "        dfs = []\n",
    "        for i , ts_code in enumerate(df_theme['ts_code']):\n",
    "            # print(i , ts_code)\n",
    "            df = pro.ths_member(ts_code = ts_code)\n",
    "            dfs.append(df)\n",
    "        df_all = pd.concat(dfs).rename(columns={'name':'concept'})\n",
    "        df_all = df_all.merge(df_theme , on = 'ts_code' , how='left').rename(columns={'ts_code':'index_code'})\n",
    "        df_all = code_to_secid(df_all , 'code')\n",
    "        df = df_all.reset_index(drop = True)\n",
    "        return df\n",
    "    \n",
    "    def get_db_src_key(self):\n",
    "        return 'membership_ts' , 'concept'\n",
    "    \n",
    "a = TS_Concept()\n",
    "a.fetch_and_save(20240702)"
   ]
  },
  {
   "cell_type": "code",
   "execution_count": null,
   "metadata": {},
   "outputs": [],
   "source": [
    "# 导入tushare\n",
    "import tushare as ts\n",
    "from typing import Any\n",
    "\n",
    "import numpy as np\n",
    "import pandas as pd\n",
    "\n",
    "pro = ts.pro_api('2026c96ef5fa7fc3241c96baafd638c585284c7fefaa00b93ef0a62c')\n",
    "offset = 0\n",
    "limit = 5000\n",
    "dfs = []\n",
    "while True:\n",
    "    df = pro.namechange(limit = limit , offset = offset)\n",
    "    \n",
    "    if len(df) == 0: break\n",
    "    dfs.append(df)\n",
    "    offset += limit\n",
    "df = pd.concat(dfs).reset_index(drop = True)\n",
    "print(df)"
   ]
  },
  {
   "cell_type": "code",
   "execution_count": 4,
   "metadata": {},
   "outputs": [
    {
     "name": "stdout",
     "output_type": "stream",
     "text": [
      "         ts_code  name start_date  end_date  ann_date change_reason\n",
      "0      300799.SZ   左江退   20240708      None  20240628          终止上市\n",
      "1      600518.SH  康美药业   20240704      None  20240703          撤销ST\n",
      "2      603350.SH   安乃达   20240703      None      None            其他\n",
      "3      000007.SZ   全新好   20240702      None  20240701         撤销*ST\n",
      "4      300742.SZ   越博退   20240701      None  20240621          终止上市\n",
      "...          ...   ...        ...       ...       ...           ...\n",
      "18288  600656.SH  凤凰化工   19901219  19961231      None            其他\n",
      "18289  600654.SH  飞乐股份   19901219  20051212      None            其他\n",
      "18290  600651.SH  飞乐音响   19901219  20200505      None            其他\n",
      "18291  000005.SZ  深原野A   19901210  19940102      None            其他\n",
      "18292  000004.SZ  深安达A   19901201  19990426      None            其他\n",
      "\n",
      "[18293 rows x 6 columns]\n"
     ]
    }
   ],
   "source": [
    "df = pd.concat(dfs).reset_index(drop = True)\n",
    "print(df)"
   ]
  },
  {
   "cell_type": "code",
   "execution_count": 11,
   "metadata": {},
   "outputs": [],
   "source": [
    "def code_to_secid(df : pd.DataFrame , code_col = 'ts_code' , retain = False):\n",
    "    '''switch old symbol into secid'''\n",
    "    if code_col not in df.columns.values: return df\n",
    "    replace_dict = {'T00018' : '600018'}\n",
    "    df['secid'] = df[code_col].astype(str).str.slice(0, 6).replace(replace_dict)\n",
    "    df['secid'] = df['secid'].where(df['secid'].str.isdigit() , '-1').astype(int)\n",
    "    if not retain: del df[code_col]\n",
    "    return df\n",
    "\n",
    "df = code_to_secid(df)\n",
    "df['start_date'] = df['start_date'].fillna(-1).astype(int)\n",
    "df['ann_date'] = df['ann_date'].fillna(-1).astype(int)\n",
    "df['end_date'] = df['end_date'].fillna(99991231).astype(int)\n",
    "df['st'] = np.where(df['ann_date'] > 0 , np.minimum(df['start_date'] , df['ann_date']) , df['ann_date'])\n",
    "df['ed'] = df['end_date']"
   ]
  },
  {
   "cell_type": "code",
   "execution_count": 12,
   "metadata": {},
   "outputs": [
    {
     "name": "stdout",
     "output_type": "stream",
     "text": [
      "       name  start_date  end_date  ann_date change_reason   secid        st  \\\n",
      "0       左江退    20240708  99991231  20240628          终止上市  300799  20240628   \n",
      "1      康美药业    20240704  99991231  20240703          撤销ST  600518  20240703   \n",
      "2       安乃达    20240703  99991231        -1            其他  603350        -1   \n",
      "3       全新好    20240702  99991231  20240701         撤销*ST       7  20240701   \n",
      "4       越博退    20240701  99991231  20240621          终止上市  300742  20240621   \n",
      "...     ...         ...       ...       ...           ...     ...       ...   \n",
      "18288  凤凰化工    19901219  19961231        -1            其他  600656        -1   \n",
      "18289  飞乐股份    19901219  20051212        -1            其他  600654        -1   \n",
      "18290  飞乐音响    19901219  20200505        -1            其他  600651        -1   \n",
      "18291  深原野A    19901210  19940102        -1            其他       5        -1   \n",
      "18292  深安达A    19901201  19990426        -1            其他       4        -1   \n",
      "\n",
      "             ed  \n",
      "0      99991231  \n",
      "1      99991231  \n",
      "2      99991231  \n",
      "3      99991231  \n",
      "4      99991231  \n",
      "...         ...  \n",
      "18288  19961231  \n",
      "18289  20051212  \n",
      "18290  20200505  \n",
      "18291  19940102  \n",
      "18292  19990426  \n",
      "\n",
      "[18293 rows x 8 columns]\n"
     ]
    }
   ],
   "source": [
    "print(df)"
   ]
  },
  {
   "cell_type": "code",
   "execution_count": null,
   "metadata": {},
   "outputs": [],
   "source": []
  },
  {
   "cell_type": "code",
   "execution_count": 7,
   "metadata": {},
   "outputs": [
    {
     "data": {
      "text/plain": [
       "array(['终止上市', '撤销ST', '其他', '撤销*ST', '摘星', '改名', 'ST', '*ST', '摘星改名',\n",
       "       '恢复上市加N', '恢复上市', '更名', '完成股改', '摘G', '未股改加S', '暂停上市'],\n",
       "      dtype=object)"
      ]
     },
     "execution_count": 7,
     "metadata": {},
     "output_type": "execute_result"
    }
   ],
   "source": [
    "df['change_reason'].unique()"
   ]
  },
  {
   "cell_type": "code",
   "execution_count": null,
   "metadata": {},
   "outputs": [],
   "source": [
    "['撤销ST', '其他', '撤销*ST', '摘星', '改名', '摘星改名',\n",
    "'恢复上市加N', '恢复上市', '更名', '完成股改', '摘G', '未股改加S']"
   ]
  },
  {
   "cell_type": "code",
   "execution_count": 15,
   "metadata": {},
   "outputs": [
    {
     "ename": "ImportError",
     "evalue": "cannot import name 'range' from 'datetime' (c:\\Users\\jinmeng\\AppData\\Local\\Programs\\Python\\Python311\\Lib\\datetime.py)",
     "output_type": "error",
     "traceback": [
      "\u001b[1;31m---------------------------------------------------------------------------\u001b[0m",
      "\u001b[1;31mImportError\u001b[0m                               Traceback (most recent call last)",
      "Cell \u001b[1;32mIn[15], line 1\u001b[0m\n\u001b[1;32m----> 1\u001b[0m \u001b[38;5;28;01mfrom\u001b[39;00m \u001b[38;5;21;01mdatetime\u001b[39;00m \u001b[38;5;28;01mimport\u001b[39;00m datetime, timedelta , \u001b[38;5;28mrange\u001b[39m\n\u001b[0;32m      3\u001b[0m date_start_str \u001b[38;5;241m=\u001b[39m \u001b[38;5;241m20221201\u001b[39m\n\u001b[0;32m      4\u001b[0m date_end_str \u001b[38;5;241m=\u001b[39m \u001b[38;5;241m20230105\u001b[39m\n",
      "\u001b[1;31mImportError\u001b[0m: cannot import name 'range' from 'datetime' (c:\\Users\\jinmeng\\AppData\\Local\\Programs\\Python\\Python311\\Lib\\datetime.py)"
     ]
    }
   ],
   "source": [
    "from datetime import datetime, timedelta\n",
    "  \n",
    "date_start_str = 20221201\n",
    "date_end_str = 20230105\n",
    "  \n",
    "date_start = datetime.strptime(str(date_start_str), '%Y%m%d')  \n",
    "date_end = datetime.strptime(str(date_end_str), '%Y%m%d')  \n",
    "  \n",
    "date_list = []  \n",
    "\n",
    "current_date = date_start  \n",
    "while current_date <= date_end:  \n",
    "    date_list.append(int(current_date.strftime('%Y%m%d')))  \n",
    "    current_date += timedelta(days=1)  \n",
    "  \n",
    "# 打印结果  \n",
    "print(date_list)"
   ]
  },
  {
   "cell_type": "code",
   "execution_count": 10,
   "metadata": {},
   "outputs": [
    {
     "data": {
      "text/html": [
       "<div>\n",
       "<style scoped>\n",
       "    .dataframe tbody tr th:only-of-type {\n",
       "        vertical-align: middle;\n",
       "    }\n",
       "\n",
       "    .dataframe tbody tr th {\n",
       "        vertical-align: top;\n",
       "    }\n",
       "\n",
       "    .dataframe thead th {\n",
       "        text-align: right;\n",
       "    }\n",
       "</style>\n",
       "<table border=\"1\" class=\"dataframe\">\n",
       "  <thead>\n",
       "    <tr style=\"text-align: right;\">\n",
       "      <th></th>\n",
       "      <th>name</th>\n",
       "      <th>start_date</th>\n",
       "      <th>end_date</th>\n",
       "      <th>ann_date</th>\n",
       "      <th>change_reason</th>\n",
       "      <th>secid</th>\n",
       "    </tr>\n",
       "  </thead>\n",
       "  <tbody>\n",
       "    <tr>\n",
       "      <th>0</th>\n",
       "      <td>左江退</td>\n",
       "      <td>20240708</td>\n",
       "      <td>99991231</td>\n",
       "      <td>20240628</td>\n",
       "      <td>终止上市</td>\n",
       "      <td>300799</td>\n",
       "    </tr>\n",
       "    <tr>\n",
       "      <th>4</th>\n",
       "      <td>越博退</td>\n",
       "      <td>20240701</td>\n",
       "      <td>99991231</td>\n",
       "      <td>20240621</td>\n",
       "      <td>终止上市</td>\n",
       "      <td>300742</td>\n",
       "    </tr>\n",
       "    <tr>\n",
       "      <th>7</th>\n",
       "      <td>三盛退</td>\n",
       "      <td>20240627</td>\n",
       "      <td>99991231</td>\n",
       "      <td>20240620</td>\n",
       "      <td>终止上市</td>\n",
       "      <td>300282</td>\n",
       "    </tr>\n",
       "    <tr>\n",
       "      <th>33</th>\n",
       "      <td>太安退</td>\n",
       "      <td>20240614</td>\n",
       "      <td>99991231</td>\n",
       "      <td>20240606</td>\n",
       "      <td>终止上市</td>\n",
       "      <td>2433</td>\n",
       "    </tr>\n",
       "    <tr>\n",
       "      <th>51</th>\n",
       "      <td>中期退</td>\n",
       "      <td>20240606</td>\n",
       "      <td>99991231</td>\n",
       "      <td>20240531</td>\n",
       "      <td>终止上市</td>\n",
       "      <td>996</td>\n",
       "    </tr>\n",
       "    <tr>\n",
       "      <th>...</th>\n",
       "      <td>...</td>\n",
       "      <td>...</td>\n",
       "      <td>...</td>\n",
       "      <td>...</td>\n",
       "      <td>...</td>\n",
       "      <td>...</td>\n",
       "    </tr>\n",
       "    <tr>\n",
       "      <th>17452</th>\n",
       "      <td>ST湘中意</td>\n",
       "      <td>19980429</td>\n",
       "      <td>19990530</td>\n",
       "      <td>-1</td>\n",
       "      <td>ST</td>\n",
       "      <td>548</td>\n",
       "    </tr>\n",
       "    <tr>\n",
       "      <th>17453</th>\n",
       "      <td>ST黄河科</td>\n",
       "      <td>19980429</td>\n",
       "      <td>20020328</td>\n",
       "      <td>-1</td>\n",
       "      <td>ST</td>\n",
       "      <td>600831</td>\n",
       "    </tr>\n",
       "    <tr>\n",
       "      <th>17454</th>\n",
       "      <td>ST粤海发</td>\n",
       "      <td>19980429</td>\n",
       "      <td>20010610</td>\n",
       "      <td>-1</td>\n",
       "      <td>ST</td>\n",
       "      <td>600647</td>\n",
       "    </tr>\n",
       "    <tr>\n",
       "      <th>17455</th>\n",
       "      <td>ST辽房天</td>\n",
       "      <td>19980429</td>\n",
       "      <td>19990525</td>\n",
       "      <td>-1</td>\n",
       "      <td>ST</td>\n",
       "      <td>558</td>\n",
       "    </tr>\n",
       "    <tr>\n",
       "      <th>17456</th>\n",
       "      <td>ST辽物资</td>\n",
       "      <td>19980428</td>\n",
       "      <td>19990427</td>\n",
       "      <td>-1</td>\n",
       "      <td>ST</td>\n",
       "      <td>511</td>\n",
       "    </tr>\n",
       "  </tbody>\n",
       "</table>\n",
       "<p>2228 rows × 6 columns</p>\n",
       "</div>"
      ],
      "text/plain": [
       "        name  start_date  end_date  ann_date change_reason   secid\n",
       "0        左江退    20240708  99991231  20240628          终止上市  300799\n",
       "4        越博退    20240701  99991231  20240621          终止上市  300742\n",
       "7        三盛退    20240627  99991231  20240620          终止上市  300282\n",
       "33       太安退    20240614  99991231  20240606          终止上市    2433\n",
       "51       中期退    20240606  99991231  20240531          终止上市     996\n",
       "...      ...         ...       ...       ...           ...     ...\n",
       "17452  ST湘中意    19980429  19990530        -1            ST     548\n",
       "17453  ST黄河科    19980429  20020328        -1            ST  600831\n",
       "17454  ST粤海发    19980429  20010610        -1            ST  600647\n",
       "17455  ST辽房天    19980429  19990525        -1            ST     558\n",
       "17456  ST辽物资    19980428  19990427        -1            ST     511\n",
       "\n",
       "[2228 rows x 6 columns]"
      ]
     },
     "execution_count": 10,
     "metadata": {},
     "output_type": "execute_result"
    }
   ],
   "source": [
    "df[df['change_reason'].isin(['终止上市', 'ST', '*ST', '暂停上市'])]"
   ]
  }
 ],
 "metadata": {
  "kernelspec": {
   "display_name": "Python 3",
   "language": "python",
   "name": "python3"
  },
  "language_info": {
   "codemirror_mode": {
    "name": "ipython",
    "version": 3
   },
   "file_extension": ".py",
   "mimetype": "text/x-python",
   "name": "python",
   "nbconvert_exporter": "python",
   "pygments_lexer": "ipython3",
   "version": "3.11.8"
  }
 },
 "nbformat": 4,
 "nbformat_minor": 2
}
