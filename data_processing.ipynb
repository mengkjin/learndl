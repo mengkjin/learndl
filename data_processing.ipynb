{
 "cells": [
  {
   "cell_type": "code",
   "execution_count": 1,
   "metadata": {},
   "outputs": [
    {
     "name": "stderr",
     "output_type": "stream",
     "text": [
      "usage: ipykernel_launcher.py [-h] [--confirm CONFIRM]\n",
      "ipykernel_launcher.py: error: unrecognized arguments: --f=c:\\Users\\jinmeng\\AppData\\Roaming\\jupyter\\runtime\\kernel-v2-18188ud6CVBw2htdF.json\n",
      "\u001b[1m\u001b[37m\u001b[41m24-01-17 07:13:49|MOD:<ipython-input-1-cbbe7209d054>|\u001b[0m: \u001b[1m\u001b[31mData Processing start!\u001b[0m\n",
      "\u001b[1m\u001b[37m\u001b[45m24-01-17 07:13:49|MOD:<ipython-input-1-cbbe7209d054>|\u001b[0m: \u001b[1m\u001b[35m2 datas :['y', 'trade_day']\u001b[0m\n"
     ]
    }
   ],
   "source": [
    "import gc , psutil\n",
    "import time , argparse\n",
    "from scripts.data_util.ModelData import (\n",
    "     DataBlock ,block_process ,block_hist_norm,\n",
    "     path_block_data,path_norm_data,block_mask,\n",
    "     block_load_DB,save_dict_data)\n",
    "from scripts.data_util.DataTank import DataTank\n",
    "from scripts.function.basic import *\n",
    "from scripts.util.environ import get_logger , DIR_data\n",
    "from scripts.util.basic import timer\n",
    " \n",
    "logger = get_logger()\n",
    "DIR_block  = f'{DIR_data}/block_data'\n",
    "DIR_hist_norm = f'{DIR_data}/hist_norm'\n",
    "\n",
    "_save_start_dt , _save_end_dt = 20070101 , None\n",
    "general_param = {\n",
    "    'start_dt' : 20140701 , 'end_dt' : 20150630 , 'mask' : True ,\n",
    "    #'start_dt' : None , 'end_dt' : None , 'mask' : True ,\n",
    "} \n",
    "process_param = {\n",
    "    'y' : {\n",
    "        'DB_source'  : {'labels': {'inner_path' : ['10days/lag1' , '20days/lag1']}} , \n",
    "    },\n",
    "    'trade_day' : {\n",
    "        'DB_source'  : {'trade_day': {\n",
    "            'inner_path':'day/trade' ,\n",
    "            'feature' : ['adjfactor', 'close', 'high', 'low', 'open', 'vwap' , 'volume' , 'turn_fl']\n",
    "        }} , \n",
    "    },\n",
    "    # 'gp' : {}\n",
    "}\n",
    "\n",
    "parser = argparse.ArgumentParser(description='manual to this script')\n",
    "parser.add_argument(\"--confirm\", type=str, default='')\n",
    "try:\n",
    "    parser = parser.parse_args()\n",
    "except:\n",
    "    parser = parser.parse_args(args=[])\n",
    "# if parser.confirm == 'no' or not input('You want to update data? print \"yes\" to confirm!').lower() == 'yes' : exit()\n",
    "\n",
    "\n",
    "t1 = time.time()\n",
    "logger.critical('Data Processing start!')\n",
    "logger.error(f'{len(process_param)} datas :' + str(list(process_param.keys())))\n",
    "\n",
    "key = 'y'\n",
    "param = process_param[key]"
   ]
  },
  {
   "cell_type": "code",
   "execution_count": 3,
   "metadata": {},
   "outputs": [
    {
     "name": "stdout",
     "output_type": "stream",
     "text": [
      "labels blocks reading 10days/lag1 Data1D's ...... cost 0.41 secs\n",
      "labels blocks reading 20days/lag1 Data1D's ...... cost 0.37 secs\n",
      "labels blocks merging ...... cost 0.09 secs\n"
     ]
    }
   ],
   "source": [
    "process_param = {\n",
    "    'y' : {\n",
    "        'DB_source'  : {'labels': {'inner_path' : ['10days/lag1' , '20days/lag1']}} , \n",
    "    },\n",
    "    'trade_day' : {\n",
    "        'DB_source'  : {\n",
    "            'trade_day': {            \n",
    "                'db' : None ,  'inner_path':'day/trade' ,\n",
    "                'feature' : ['adjfactor', 'close', 'high', 'low', 'open', 'vwap' , 'turn_fl'],\n",
    "            }\n",
    "        } , \n",
    "    },\n",
    "    'trade_30m' : {\n",
    "        'DB_source'  : {\n",
    "            'trade_30m': {\n",
    "                'db' : 'trade_Xmin' ,  'inner_path':'30min/trade' , \n",
    "                'feature' : ['minute' , 'close', 'high', 'low', 'open', 'volume', 'vwap'] ,\n",
    "            },\n",
    "            'trade_day': {\n",
    "                'db' : None ,  'inner_path':'day/trade' ,\n",
    "                'feature' : ['volume' , 'turn_fl' , 'preclose'] ,\n",
    "            }\n",
    "        } ,\n",
    "    } , \n",
    "    'trade_15m' : {\n",
    "        'DB_source'  : {\n",
    "            'trade_15m': {\n",
    "                'db' : 'trade_Xmin' ,  'inner_path':'30min/trade' , \n",
    "                'feature' : ['minute' , 'close', 'high', 'low', 'open', 'volume', 'vwap'] ,\n",
    "            },\n",
    "            'trade_day': {\n",
    "                'db' : None ,  'inner_path':'day/trade' ,\n",
    "                'feature' : ['volume' , 'turn_fl' , 'preclose'] ,\n",
    "            }\n",
    "        } ,\n",
    "    } , \n",
    "    'trade_week' : {\n",
    "        'DB_source'  : {\n",
    "            'trade_day': {\n",
    "                'db' : None ,  'inner_path':'day/trade' ,\n",
    "                'feature' : ['adjfactor', 'preclose' ,'close', 'high', 'low', 'open', 'vwap' , 'turn_fl'],\n",
    "            },\n",
    "        } ,\n",
    "    } , \n",
    "    # 'gp' : {}\n",
    "}\n",
    "\n",
    "key = 'y'\n",
    "param = process_param[key]\n",
    "\n",
    "BlockDict = block_load_DB(param['DB_source'] , **general_param)\n",
    "# BlockDict[key].values.shape"
   ]
  },
  {
   "cell_type": "code",
   "execution_count": 14,
   "metadata": {},
   "outputs": [
    {
     "data": {
      "text/plain": [
       "array([     1,      2,      4, ..., 603993, 603997, 603998])"
      ]
     },
     "execution_count": 14,
     "metadata": {},
     "output_type": "execute_result"
    }
   ],
   "source": [
    "BlockDict['labels'].secid"
   ]
  },
  {
   "cell_type": "code",
   "execution_count": 3,
   "metadata": {},
   "outputs": [
    {
     "name": "stdout",
     "output_type": "stream",
     "text": [
      "trade_30m blocks process ...... cost 1.04 secs\n"
     ]
    }
   ],
   "source": [
    "def _type_abbr(key):\n",
    "    if (key.startswith('trade_') and len(key)>6):\n",
    "        return key[6:]\n",
    "    elif key.startswith(('rtn_lag','res_lag')):\n",
    "        return f'{key[:3]}{sum([int(s) for s in key[7:].split(\"_\")])}'\n",
    "    else:\n",
    "        return key\n",
    "    \n",
    "def block_price_adjust(data_block , adjfactor = True , multiply = None , divide = None , \n",
    "                       price_feat = ['preclose' , 'close', 'high', 'low', 'open', 'vwap']):\n",
    "    \n",
    "    adjfactor = adjfactor and ('adjfactor' in data_block.feature)\n",
    "    if multiply is None and divide is None and (not adjfactor): return data_block  \n",
    "\n",
    "    if isinstance(price_feat , (str,)): price_feat = [price_feat]\n",
    "    i_price = np.where(np.isin(data_block.feature , price_feat))[0]\n",
    "    if len(i_price) == 0: return data_block\n",
    "    v_price = data_block.values[...,i_price]\n",
    "\n",
    "    if adjfactor : v_price = np.multiply(v_price , data_block.get(feature=['adjfactor']))\n",
    "    if multiply  is not None: v_price = np.multiply(v_price , multiply)\n",
    "    if divide    is not None: v_price = np.divide(v_price , divide)\n",
    "\n",
    "    data_block.values[...,i_price] = v_price\n",
    "    return data_block\n",
    "\n",
    "def block_vol_adjust(data_block , multiply = None , divide = None , \n",
    "                     vol_feat = ['volume' , 'amount', 'turn_tt', 'turn_fl', 'turn_fr']):\n",
    "    if multiply is None and divide is None: return data_block\n",
    "\n",
    "    if isinstance(vol_feat , (str,)): vol_feat = [vol_feat]\n",
    "    i_vol = np.where(np.isin(data_block.feature , vol_feat))[0]\n",
    "    if len(i_vol) == 0: return data_block\n",
    "    v_vol = data_block.values[...,i_vol]\n",
    "    if multiply is not None: v_vol = np.multiply(v_vol , multiply)\n",
    "    if divide   is not None: v_vol = np.divide(v_vol , divide)\n",
    "    data_block.values[...,i_vol] = v_vol\n",
    "    return data_block\n",
    "\n",
    "def block_process(BlockDict , key):\n",
    "    np.seterr(invalid='ignore' , divide = 'ignore')\n",
    "    assert isinstance(BlockDict , dict) , type(BlockDict)\n",
    "    assert all([isinstance(block , DataBlock) for block in BlockDict.values()]) , DataBlock\n",
    "    \n",
    "    key_abbr = _type_abbr(key)\n",
    "\n",
    "    if key_abbr == 'y':\n",
    "        final_feat = None\n",
    "        data_block = BlockDict['labels']\n",
    "        \n",
    "    elif key_abbr == 'day':\n",
    "        final_feat = ['open','close','high','low','vwap','turn_fl']\n",
    "        data_block = block_price_adjust(BlockDict[key])\n",
    "\n",
    "    elif key_abbr in ['15m','30m','60m']:\n",
    "        final_feat = ['open','close','high','low','vwap','turn_fl']\n",
    "        data_block = BlockDict[key]\n",
    "        db_day = BlockDict['trade_day'].align_secid(data_block.secid)\n",
    "        \n",
    "        data_block = block_price_adjust(data_block,divide=db_day.get(feature='preclose'))\n",
    "        data_block = block_vol_adjust(data_block,divide=db_day.get(feature='volume')/db_day.get(feature='turn_fl'),vol_feat='volume')\n",
    "        \n",
    "        data_block.rename_feature({'volume':'turn_fl'})\n",
    "    elif key_abbr in ['week']:\n",
    "        \n",
    "        final_feat = ['open','close','high','low','vwap','turn_fl']\n",
    "        num_days = 5\n",
    "        data_block = BlockDict['trade_day']\n",
    "\n",
    "        data_block=block_price_adjust(data_block)\n",
    "        new_values = np.full(np.multiply(data_block.shape,(1,1,num_days,1)),np.nan)\n",
    "        for i in range(num_days): new_values[:,num_days-1-i:,i] = data_block.values[:,:len(data_block.date)-num_days+1+i,0]\n",
    "        data_block.update(values = new_values)\n",
    "        data_block = block_price_adjust(data_block , adjfactor = False , divide=data_block.get(inday=0,feature='preclose'))\n",
    "    else:\n",
    "        raise Exception(key)\n",
    "    \n",
    "    data_block.align_feature(final_feat)\n",
    "    np.seterr(invalid='warn' , divide = 'warn')\n",
    "    return data_block\n",
    "\n",
    "with timer(f'{key} blocks process') as t:\n",
    "    ThisBlock = block_process(BlockDict , key)\n",
    "with timer(f'{key} blocks masking') as t:   \n",
    "    ThisBlock = block_mask(ThisBlock , **general_param)\n",
    "with timer(f'{key} blocks saving ') as t:\n",
    "    ThisBlock.save(path_block_data(key) , start_dt=_save_start_dt , end_dt=_save_end_dt)\n",
    "with timer(f'{key} blocks norming') as t:\n",
    "    #ThisBlock = DataBlock().read_npz(path_block_data(key))\n",
    "    block_hist_norm(ThisBlock , key , save_path=path_norm_data(key) , **general_param)"
   ]
  },
  {
   "cell_type": "code",
   "execution_count": null,
   "metadata": {},
   "outputs": [],
   "source": [
    "import copy\n",
    "shape1 = (10,10,10) \n",
    "shape2 = (2,3,4)\n",
    "a1 = np.random.rand(*shape1)\n",
    "a2 = np.random.rand(*shape2)\n",
    "a3 = copy.deepcopy(a1)\n",
    "idx = np.ix_([0,4],[2,3,5],[2,9,3,7])\n",
    "a1[idx] = a2\n",
    "a3[idx] , a1[idx] , a2"
   ]
  },
  {
   "cell_type": "code",
   "execution_count": 2,
   "metadata": {},
   "outputs": [
    {
     "name": "stderr",
     "output_type": "stream",
     "text": [
      "\u001b[1m\u001b[37m\u001b[41m24-01-10 12:16:14|MOD:<ipython-input-2-a7aa9b3fe77b>|\u001b[0m: \u001b[1m\u001b[31mData Processing start!\u001b[0m\n",
      "\u001b[1m\u001b[37m\u001b[45m24-01-10 12:16:14|MOD:<ipython-input-2-a7aa9b3fe77b>|\u001b[0m: \u001b[1m\u001b[35m2 datas :['y', 'trade_day']\u001b[0m\n"
     ]
    },
    {
     "name": "stdout",
     "output_type": "stream",
     "text": [
      "Wed Jan 10 12:16:14 2024 : y start ...\n",
      "y blocks reading 10days/lag1 Data1D's ...... cost 10.99 secs\n",
      "y blocks reading 20days/lag1 Data1D's ...... cost 12.28 secs\n",
      "y blocks merging ...... cost 4.00 secs\n",
      "y blocks process ...... cost 1.19 secs\n",
      "y blocks saving  ...... cost 22.76 secs\n",
      "y blocks norming ...... cost 0.00 secs\n",
      "Wed Jan 10 12:17:05 2024 : y finished! Cost 51.23 Seconds\n",
      "Wed Jan 10 12:17:05 2024 : trade_day start ...\n",
      "trade_day blocks reading day/trade Data1D's ...... cost 37.06 secs\n",
      "trade_day blocks merging ...... cost 0.28 secs\n",
      "trade_day blocks process ...... cost 5.54 secs\n",
      "trade_day blocks saving  ...... cost 25.52 secs\n",
      "trade_day blocks norming ...... cost 38.61 secs\n",
      "Wed Jan 10 12:18:52 2024 : trade_day finished! Cost 107.01 Seconds\n"
     ]
    },
    {
     "name": "stderr",
     "output_type": "stream",
     "text": [
      "\u001b[1m\u001b[37m\u001b[41m24-01-10 12:18:52|MOD:<ipython-input-2-a7aa9b3fe77b>|\u001b[0m: \u001b[1m\u001b[31mData Processing Finished! Cost 158.63 Seconds\u001b[0m\n"
     ]
    }
   ],
   "source": [
    "\n",
    "t1 = time.time()\n",
    "logger.critical('Data Processing start!')\n",
    "logger.error(f'{len(process_param)} datas :' + str(list(process_param.keys())))\n",
    "\n",
    "for key , param in process_param.items():\n",
    "    tt1 = time.time()\n",
    "    print(f'{time.ctime()} : {key} start ...')\n",
    "    \n",
    "    BlockDict = block_load_DB(param['DB_source'])\n",
    "\n",
    "    with timer(f'{key} blocks process') as t:\n",
    "        ThisBlock = block_process(BlockDict , process_key=key)\n",
    "\n",
    "    with timer(f'{key} blocks process') as t:   \n",
    "        ThisBlock = block_mask(ThisBlock , process_key=key)\n",
    "\n",
    "    with timer(f'{key} blocks saving ') as t:\n",
    "        ThisBlock.save(path_block_data(key) , start_dt=_save_start_dt , end_dt=_save_end_dt)\n",
    "    \n",
    "    with timer(f'{key} blocks norming') as t:\n",
    "        #ThisBlock = DataBlock().read_npz(path_block_data(key))\n",
    "        block_hist_norm(ThisBlock , key , path_norm_data(key) , **param)\n",
    "    \n",
    "    tt2 = time.time()\n",
    "    print(f'{time.ctime()} : {key} finished! Cost {tt2-tt1:.2f} Seconds')\n",
    "\n",
    "    del ThisBlock\n",
    "    gc.collect()\n",
    "\n",
    "t2 = time.time()\n",
    "logger.critical('Data Processing Finished! Cost {:.2f} Seconds'.format(t2-t1))\n"
   ]
  }
 ],
 "metadata": {
  "kernelspec": {
   "display_name": "base",
   "language": "python",
   "name": "python3"
  },
  "language_info": {
   "codemirror_mode": {
    "name": "ipython",
    "version": 3
   },
   "file_extension": ".py",
   "mimetype": "text/x-python",
   "name": "python",
   "nbconvert_exporter": "python",
   "pygments_lexer": "ipython3",
   "version": "3.8.5"
  }
 },
 "nbformat": 4,
 "nbformat_minor": 2
}
